{
 "cells": [
  {
   "cell_type": "markdown",
   "metadata": {},
   "source": [
    "## NuMI Analysis: Nue Smearing\n",
    "\n",
    "#### Get the smearing matix for nue"
   ]
  },
  {
   "cell_type": "markdown",
   "metadata": {},
   "source": [
    "First, setup."
   ]
  },
  {
   "cell_type": "code",
   "execution_count": 47,
   "metadata": {
    "colab": {
     "base_uri": "https://localhost:8080/",
     "height": 34
    },
    "colab_type": "code",
    "executionInfo": {
     "elapsed": 517,
     "status": "ok",
     "timestamp": 1560556807118,
     "user": {
      "displayName": "Stefano Roberto Soleti",
      "photoUrl": "https://lh4.googleusercontent.com/-hfLpspJu4Q0/AAAAAAAAAAI/AAAAAAAABmA/2kE4rtj8paU/s64/photo.jpg",
      "userId": "10372352518008961760"
     },
     "user_tz": 240
    },
    "id": "6qsD0G-yYJ9K",
    "outputId": "5d52a3ec-50be-44fc-da44-3c0593e98bc6"
   },
   "outputs": [
    {
     "name": "stdout",
     "output_type": "stream",
     "text": [
      "/home/alex/NuMI/PELEE/\n"
     ]
    }
   ],
   "source": [
    "import pandas as pd\n",
    "import matplotlib.pyplot as plt\n",
    "import matplotlib\n",
    "import sys\n",
    "import localSettings as ls\n",
    "import math\n",
    "print(ls.main_path)\n",
    "import load_data_run123\n",
    "import plotter_alex\n",
    "import importlib\n",
    "importlib.reload(plotter_alex)\n",
    "import uproot\n",
    "import matplotlib.pylab as pylab\n",
    "import numpy as np\n",
    "import math\n",
    "from sklearn.model_selection import train_test_split\n",
    "import pickle\n",
    "import xgboost as xgb\n",
    "import nue_booster \n",
    "importlib.reload(nue_booster)\n",
    "import awkward\n",
    "from collections import defaultdict\n",
    "\n",
    "main_path = ls.main_path\n",
    "sys.path.append(main_path)"
   ]
  },
  {
   "cell_type": "code",
   "execution_count": 2,
   "metadata": {},
   "outputs": [],
   "source": [
    "import NuMIGeoWeights\n",
    "import importlib\n",
    "importlib.reload(NuMIGeoWeights)\n",
    "numiBeamlineGeoWeights = NuMIGeoWeights.NuMIGeoWeights()"
   ]
  },
  {
   "cell_type": "code",
   "execution_count": 3,
   "metadata": {},
   "outputs": [],
   "source": [
    "params = {\n",
    "    'axes.labelsize': 'x-large',\n",
    "    'axes.titlesize': 'x-large',\n",
    "    'xtick.labelsize': 'x-large',\n",
    "    'ytick.labelsize': 'x-large'\n",
    "}\n",
    "pylab.rcParams.update(params)"
   ]
  },
  {
   "cell_type": "markdown",
   "metadata": {},
   "source": [
    "Now get some data."
   ]
  },
  {
   "cell_type": "code",
   "execution_count": 4,
   "metadata": {
    "colab": {},
    "colab_type": "code",
    "id": "iwoCIaigYJ9N"
   },
   "outputs": [
    {
     "name": "stdout",
     "output_type": "stream",
     "text": [
      "['sub', 'nproton', 'shr_tkfit_nhits_V', 'shr_theta', 'shr_score', 'topological_score', 'shr_tkfit_nhits_Y', 'shr_distance', 'reco_nu_vtx_sce_x', 'n_showers', 'reco_nu_vtx_sce_z', 'shrsubclusters0', 'shr_py', 'shr_energy_tot_cali', 'run', 'contained_fraction', 'tksh_distance', 'shr_energy', 'shr_tkfit_dedx_Y', 'shr_tkfit_dedx_U', 'hits_ratio', 'ccnc', 'shr_energy_cali', 'nu_pdg', 'trkshrhitdist2', 'tksh_angle', 'CosmicIPAll3D', 'shr_tkfit_nhits_U', 'flash_time', 'shr_px', 'shrsubclusters1', 'trk_energy', 'selected', 'reco_nu_vtx_sce_y', 'shrsubclusters2', 'npion', 'nslice', 'n_tracks', 'slnhits', 'shr_tkfit_npoints', 'category', 'n_showers_contained', 'n_tracks_contained', 'trk_energy_tot', 'trk_score_v', 'evt', 'shr_phi', 'shr_tkfit_dedx_V', 'slnunhits', 'shr_pz', 'shrmoliereavg']\n"
     ]
    }
   ],
   "source": [
    "# Name of the TTree in the PeLEE Ntuples\n",
    "tree = \"NeutrinoSelectionFilter\"\n",
    "\n",
    "# Name of root files for the various samples\n",
    "BNB  = '/neutrinoselection_filt_run1_beamon_beamgood' +ls.APPEND\n",
    "EXT  = '/neutrinoselection_filt_run1_beamoff'         +ls.APPEND\n",
    "NU   = '/neutrinoselection_filt_run1_overlay'    +ls.APPEND #newTune\n",
    "NUE  = '/neutrinoselection_filt_run1_overlay_intrinsic'+ls.APPEND #newTune\n",
    "DRT  = '/neutrinoselection_filt_run1_dirt_overlay'        +ls.APPEND\n",
    "\"\"\"\n",
    "BNB  = '/pre_samp/neutrinoselection_filt_run1_beamon_beamgood' +ls.APPEND\n",
    "EXT  = '/pre_samp/neutrinoselection_filt_run1_beamoff'         +ls.APPEND\n",
    "NU   = '/pre_samp/prodgenie_numi_uboone_overlay_fhc_mcc9_run1_v28_all_snapshot'    +ls.APPEND #newTune\n",
    "NUE  = '/pre_samp/prodgenie_numi_nue_overlay_mcc9_v08_00_00_48_CV_reco2_run1_reco2'+ls.APPEND #newTune\n",
    "DRT  = '/pre_samp/neutrinoselection_filt_run1_dirt_overlay'        +ls.APPEND\n",
    "\"\"\"\n",
    "\n",
    "\n",
    "#actually fetch datasets\n",
    "mc   = uproot.open(ls.ntuple_path+NU +\".root\")[ls.fold][tree]\n",
    "nue  = uproot.open(ls.ntuple_path+NUE+\".root\")[ls.fold][tree]\n",
    "data = uproot.open(ls.ntuple_path+BNB+\".root\")[ls.fold][tree]\n",
    "ext  = uproot.open(ls.ntuple_path+EXT+\".root\")[ls.fold][tree]\n",
    "dirt = uproot.open(ls.ntuple_path+DRT+\".root\")[ls.fold][tree]\n",
    "\n",
    "# Define a list that contains the data sets\n",
    "uproot_v = [mc,nue,ext,data,dirt] \n",
    "\n",
    "variables = [\"run\", \"sub\", \"evt\",              \n",
    "             \"trk_score_v\", \"topological_score\", \"shr_score\",\n",
    "            \"reco_nu_vtx_sce_x\", \"reco_nu_vtx_sce_y\", \"reco_nu_vtx_sce_z\", \"shr_tkfit_npoints\",\n",
    "            \"CosmicIPAll3D\", \"hits_ratio\", \"contained_fraction\",\n",
    "            \"shrmoliereavg\", \"shr_tkfit_dedx_U\",\"shr_tkfit_dedx_V\",\"shr_tkfit_dedx_Y\",\n",
    "            \"shr_energy\", \"category\", \"slnunhits\", \"slnhits\", \"flash_time\", \"nu_pdg\", \"ccnc\",\n",
    "             \"selected\", \"nslice\", \"shr_distance\", \"shr_theta\", \"shr_phi\",\n",
    "            \"shr_tkfit_nhits_U\", \"shr_tkfit_nhits_V\", \"shr_tkfit_nhits_Y\", \"n_tracks_contained\",\n",
    "            \"n_showers\", \"n_tracks\", \"shr_energy_cali\", \"n_showers_contained\", \"tksh_distance\", \"tksh_angle\",\n",
    "             \"trkshrhitdist2\", 'shrsubclusters0', 'shrsubclusters1', 'shrsubclusters2',\n",
    "             \"shr_energy_tot_cali\", 'trk_energy_tot', 'nproton', 'npion', 'trk_energy', 'shr_px', 'shr_py', 'shr_pz']\n",
    "\n",
    "# These are examples of variables present in MC samples only\n",
    "varMC = [\"nu_e\", \"true_pt\",\"true_pt_visible\",\"true_p\",\"true_p_visible\",\"true_nu_vtx_t\",\"true_nu_vtx_x\",\"true_nu_vtx_y\",\"true_nu_vtx_z\",\"true_nu_vtx_sce_x\",\"true_nu_vtx_sce_y\",\"true_nu_vtx_sce_z\\\n",
    "\",\"true_nu_px\",\"true_nu_py\",\"true_nu_pz\", \"mc_pdg\", \"mc_px\", \"mc_py\", \"mc_pz\"]\n",
    "\n",
    "#make the list unique (sometimes you repeat the variable name in the list, this takes care of that)\n",
    "variables = list(set(variables))\n",
    "print(variables)\n",
    "\n",
    "\n",
    "# These weights are needed to correctly calculate the CV for the MC    \n",
    "WEIGHTS     = [\"weightSpline\",\"weightTune\",\"weightSplineTimesTune\",\"ppfx_cv\"]\n",
    "# These weights are needed to calculate the Flux, GENIE and Geant4 Systematics. \n",
    "# For NuMI weightsFlux should always be 1 (cause that's relevant for BNB).\n",
    "SYSTEMATICS = ['weightsFlux','weightsGenie','weightsReint'] \n",
    "PPFX        = ['weightsPPFX'] \n",
    "\n",
    "\n",
    "\n",
    "WEIGHTSLEE = [\"weightSpline\",\"weightTune\",\"weightSplineTimesTune\", \"leeweight\"]#, \"weightsGenie\", \"weightsFlux\", \"weightsReint\"]\n",
    "MCFVARS    = [\"mcf_nu_e\",\"mcf_lep_e\",\"mcf_actvol\",\"mcf_nmm\",\"mcf_nmp\",\"mcf_nem\",\"mcf_nep\",\"mcf_np0\",\"mcf_npp\",\n",
    "              \"mcf_npm\",\"mcf_mcshr_elec_etot\",\"mcf_pass_ccpi0\",\"mcf_pass_ncpi0\",\n",
    "              \"mcf_pass_ccnopi\",\"mcf_pass_ncnopi\",\"mcf_pass_cccpi\",\"mcf_pass_nccpi\"]\n",
    "\n",
    "\n",
    "# Load the variables into your dataframes    \n",
    "dirt = dirt.pandas.df(variables+varMC + WEIGHTS + SYSTEMATICS, flatten=False)\n",
    "nue  = nue.pandas.df(variables + WEIGHTS + MCFVARS + SYSTEMATICS + PPFX+varMC, flatten=False)\n",
    "mc   = mc.pandas.df(variables + WEIGHTS + MCFVARS + SYSTEMATICS + PPFX+varMC, flatten=False)\n",
    "data = data.pandas.df(variables, flatten=False)\n",
    "ext  = ext.pandas.df(variables, flatten=False)"
   ]
  },
  {
   "cell_type": "markdown",
   "metadata": {},
   "source": [
    "The following cell allows us to reload original data event weights. No weights have been added to data or ext so these are not included."
   ]
  },
  {
   "cell_type": "code",
   "execution_count": 5,
   "metadata": {},
   "outputs": [],
   "source": [
    "# In the next cell, we are going to play with the value of the event weights. \n",
    "# Let's store the original ones in some \"safe variable\" in this cell first.\n",
    "# So if we screw up, we don't have to re-load the humongous TTree: we'll have the original weights safely stored here\n",
    "df_v = [mc,nue,dirt]\n",
    "#removeGenieTune = False\n",
    "for i,df in enumerate(df_v):\n",
    "    df[ 'currentweightsafe' ] = df['weightSplineTimesTune']\n",
    "    df[ 'currentweight' ] = df['weightSplineTimesTune']\n",
    "    \n",
    "#BDT"
   ]
  },
  {
   "cell_type": "code",
   "execution_count": 6,
   "metadata": {},
   "outputs": [],
   "source": [
    "# Let's calculate the weights that we need to apply to the individual MC events \n",
    "# to become our best model of the NuMI data. \n",
    "# This cell calculates the GENIE Tune * PPFX correction to the MC weights and \n",
    "# cleans up extremely high (or low) weight scores (may be due to computational errors).\n",
    "# The clean up is not the best practice (one should dig and understand why the weight are big/negative): \n",
    "# it's a cheat until we figure out the next best thing. Life is not perfect and your analysis won't be either. Please enojy LArbys\n",
    "\n",
    "constructNuMISys = True\n",
    "\n",
    "# We need to do this only for the MC samples (all data events weight = 1)\n",
    "df_v = [mc,nue,dirt]\n",
    "\n",
    "for i,df in enumerate(df_v):\n",
    "    # This portion cleans up the basic weights\n",
    "    df.loc[ df['weightTune'] <= 0, 'weightTune' ] = 1.\n",
    "    df.loc[ df['weightTune'] == np.inf, 'weightTune' ] = 1.\n",
    "    df.loc[ df['weightTune'] > 100, 'weightTune' ] = 1.\n",
    "    df.loc[ np.isnan(df['weightTune']) == True, 'weightTune' ] = 1.\n",
    "    # This portion cleans up the weights after the GENIE tune is applied\n",
    "    df.loc[ df['weightSplineTimesTune'] <= 0, 'weightSplineTimesTune' ] = 1.\n",
    "    df.loc[ df['weightSplineTimesTune'] == np.inf, 'weightSplineTimesTune' ] = 1.\n",
    "    df.loc[ df['weightSplineTimesTune'] > 100, 'weightSplineTimesTune' ] = 1. #originally 100\n",
    "    df.loc[ np.isnan(df['weightSplineTimesTune']) == True, 'weightSplineTimesTune' ] = 1. \n",
    "    \n",
    "    # weightSplineTimesTuneTimesPPFX is our final weight: this is NuMI, so the final weight of the MC events needs \n",
    "    # to take into account the NuMI Flux re-weight called ppfx_cv to simulate NuMI events properly. \n",
    "    df[ 'weightSplineTimesTuneTimesPPFX' ] = df[ 'weightSplineTimesTune' ]*df['ppfx_cv']\n",
    "    \n",
    "    # We also need to fix some cray cray weights in the GENIE systematics. \n",
    "    # This is a bit of a pain in the butt cause we have 600 universe (= 600 weights) for each event\n",
    "    for ievt in range(df.shape[0]):\n",
    "        reweightCondition = ((df['weightsGenie'].iloc[ievt] > 3000) | (df['weightsGenie'].iloc[ievt] < 0)  | \n",
    "                             (df['weightsGenie'].iloc[ievt] == np.inf))\n",
    "        df['weightsGenie'].iloc[ievt][ reweightCondition ] = 1.\n",
    "\n",
    "#BDT"
   ]
  },
  {
   "cell_type": "markdown",
   "metadata": {},
   "source": [
    "Get Log Likelihood Ratio Particle ID for track candidates. Will need proton for nue, muon for numu."
   ]
  },
  {
   "cell_type": "code",
   "execution_count": 7,
   "metadata": {},
   "outputs": [],
   "source": [
    "from scipy.spatial.transform import Rotation as R\n",
    "from numpy import arccos, array\n",
    "from numpy.linalg import norm\n",
    "\n",
    "# Note: returns angle in radians\n",
    "def theta(v, w): return arccos(v.dot(w)/(norm(v)*norm(w)))* 180 / 3.1415926\n",
    "\n",
    "def GetNuMIAngle( px,  py,  pz):\n",
    "    r = R.from_matrix([[0.92103853804025681562   , 0.022713504803924120662, 0.38880857519374290021  ],\n",
    "                       [4.6254001262154668408e-05, 0.99829162468141474651 , -0.058427989452906302359],\n",
    "                       [-0.38947144863934973769  , 0.053832413938664107345, 0.91946400794392302291  ]])  \n",
    "    r = r.inv()\n",
    "    beamCoords = r.apply([px,  py,  pz])\n",
    "    beamDir    = [0,0,1]\n",
    "    #print(theta(beamCoords,beamDir))\n",
    "    return theta(beamCoords,beamDir)\n",
    "\n",
    "def GetNuMIAnglePol( phiBNB,  thetaBNB):\n",
    "    px = math.sin(thetaBNB)*math.cos(phiBNB)\n",
    "    py = math.sin(thetaBNB)*math.sin(phiBNB)\n",
    "    pz = math.cos(thetaBNB)\n",
    "    return GetNuMIAngle( px,  py,  pz)"
   ]
  },
  {
   "cell_type": "code",
   "execution_count": 8,
   "metadata": {},
   "outputs": [
    {
     "data": {
      "text/plain": [
       "1.8690124908136228"
      ]
     },
     "execution_count": 8,
     "metadata": {},
     "output_type": "execute_result"
    }
   ],
   "source": [
    "def vectorFromNuMITarget(vtxX,  vtxY, vtxZ):\n",
    "    numiTarget      = np.array([-31387.58422, -3316.402543, -60100.2414])\n",
    "    nuInteraction   = np.array([vtxX,  vtxY, vtxZ])\n",
    "    directionVector = nuInteraction - numiTarget\n",
    "    return directionVector\n",
    "\n",
    "def angleFromNuMITarget(vtxX,  vtxY, vtxZ, thetaBNB, phiBNB):\n",
    "    v1 = vectorFromNuMITarget(vtxX,  vtxY, vtxZ)  \n",
    "    norm = np.linalg.norm(v1)\n",
    "    v1 = v1/norm\n",
    "    v2 = [np.cos(phiBNB)*np.sin(thetaBNB),np.sin(phiBNB)*np.sin(thetaBNB), np.cos(thetaBNB) ]\n",
    "    dot_product = np.dot(v1, v2)\n",
    "    angle = np.arccos(dot_product)\n",
    "    return angle #dot_product # angle*180/3.14159265\n",
    "\n",
    "\n",
    "\n",
    "angleFromNuMITarget(1,1,1,1.4,3.)"
   ]
  },
  {
   "cell_type": "code",
   "execution_count": 9,
   "metadata": {},
   "outputs": [],
   "source": [
    "#This assumes the electron to be the leading shower\n",
    "\n",
    "for i,df in enumerate(df_v):\n",
    "    df['targetP_asmuon']     = np.sqrt(df['shr_px']*df['shr_px'] + df['shr_py']*df['shr_py'] + df['shr_pz']*df['shr_pz'])\n",
    "    df['targetPt_asmuon']    = np.sqrt(df['shr_px']*df['shr_px'] + df['shr_py']*df['shr_py'])\n",
    "    df['targetTheta_asmuon'] = np.arccos(df['shr_pz']/df['targetP_asmuon'] )\n",
    "    df['targetPhi_asmuon']   = np.arctan2(df['shr_py'],df['shr_px'])\n",
    "    df['nu_Angle_Numi_Elec_asmuon'] = df.apply( lambda x: angleFromNuMITarget(x['reco_nu_vtx_sce_x'],x['reco_nu_vtx_sce_y'],x['reco_nu_vtx_sce_z'], x['targetTheta_asmuon'],x['targetPhi_asmuon']) , axis=1)\n",
    "    df['cosNu_Angle_Numi_Elec_asmuon'] = np.cos(df['nu_Angle_Numi_Elec_asmuon'])"
   ]
  },
  {
   "cell_type": "code",
   "execution_count": 10,
   "metadata": {},
   "outputs": [
    {
     "name": "stdout",
     "output_type": "stream",
     "text": [
      "time to run:  444.4524972438812\n"
     ]
    }
   ],
   "source": [
    "# how to get the LLR-PID value for the \"track candidate\" (proton for nue selection, muon for numu)\n",
    "# can be done for any variable\n",
    "# code from Giuseppe!\n",
    "\n",
    "#This cell is about creating some new variables from the ones we have\n",
    "\n",
    "import time\n",
    "s = time.time()\n",
    "\n",
    "#use all samples\n",
    "df_v = [mc,nue,ext,data,dirt]\n",
    "\n",
    "\n",
    "puppa1 = 'trk_score_v'\n",
    "\n",
    "\n",
    "for i,df in enumerate(df_v):\n",
    "    up = uproot_v[i]\n",
    "    trk_theta_proton_v  = up.array('trk_theta_v')\n",
    "    trk_phi_proton_v    = up.array('trk_phi_v')\n",
    "    trk_score_v         = up.array('trk_score_v')    \n",
    "    trk_llr_pid_v       = up.array('trk_llr_pid_score_v')\n",
    "    trk_energy_proton_v = up.array('trk_energy_proton_v')\n",
    "    trk_calo_energy_y_v = up.array('trk_calo_energy_y_v')\n",
    "    trk_id              = up.array('trk_id')-1 # I think we need this -1 to get the right result\n",
    "    c                   = up.array('n_tracks_contained')\n",
    "    trk_theta_proton_v  = up.array('trk_theta_v')\n",
    "    trk_phi_proton_v    = up.array('trk_phi_v')\n",
    "\n",
    "    trk_theta_proton_sel  = awkward.fromiter([pidv[tid] if tid<len(pidv) else 9999. for pidv,tid in zip(trk_theta_proton_v,trk_id)])\n",
    "    trk_phi_proton_sel    = awkward.fromiter([pidv[tid] if tid<len(pidv) else 9999. for pidv,tid in zip(trk_phi_proton_v,trk_id)])\n",
    "    df['protontheta']  = trk_theta_proton_sel\n",
    "    df['protonphi']    = trk_phi_proton_sel\n",
    "\n",
    "    #print(trk_score_v.shape, len(trk_llr_pid_v))\n",
    "\n",
    "    #dummy variables\n",
    "    puppa_obj = []\n",
    "    puppa_trk = []\n",
    "    puppa_shw = []\n",
    "    puppa_prt = [] \n",
    "    puppa_mu  = []\n",
    "    \n",
    "    for pidv, p in zip(trk_llr_pid_v,trk_score_v):\n",
    "        N_obj         = 0\n",
    "        N_recoTrks    = 0\n",
    "        N_recoShowers = 0\n",
    "        N_recoProtons = 0\n",
    "        N_recoMuons   = 0\n",
    "        if len(pidv) > 0:\n",
    "            passPIDCut = (pidv <= 0)\n",
    "            passTrkCut = (p    >= 0)\n",
    "            protonCut  = (passPIDCut & passTrkCut) \n",
    "            muonCut    = (np.logical_not(passPIDCut) & passTrkCut) \n",
    "            N_obj         = len(passTrkCut)\n",
    "            N_recoTrks    = np.count_nonzero(passTrkCut)\n",
    "            N_recoShowers = np.count_nonzero(np.logical_not(passTrkCut))\n",
    "            N_recoProtons = np.count_nonzero(protonCut)\n",
    "            N_recoMuons   = np.count_nonzero(muonCut)\n",
    "        puppa_obj.append(N_obj)\n",
    "        puppa_trk.append(N_recoTrks)\n",
    "        puppa_shw.append(N_recoShowers)    \n",
    "        puppa_prt.append(N_recoProtons)\n",
    "        puppa_mu .append(N_recoMuons)\n",
    "\n",
    "    df['N_obj']           = puppa_obj\n",
    "    df['N_recoTrks']      = puppa_trk\n",
    "    df['N_recoShowers']   = puppa_shw\n",
    "    df['N_recoProtons']   = puppa_prt\n",
    "    df['N_recoMuons']     = puppa_mu\n",
    "    \n",
    "    trk_llr_pid_v_sel     = awkward.fromiter([pidv[tid] if tid<len(pidv) else 9999. for pidv,tid in zip(trk_llr_pid_v,trk_id)])\n",
    "    trk_energy_proton_sel = awkward.fromiter([pidv[tid] if tid<len(pidv) else 9999. for pidv,tid in zip(trk_energy_proton_v,trk_id)])\n",
    "    trk_calo_energy_y_sel = awkward.fromiter([pidv[tid] if tid<len(pidv) else 9999. for pidv,tid in zip(trk_calo_energy_y_v,trk_id)])\n",
    "    trk_theta_proton_sel  = awkward.fromiter([pidv[tid] if tid<len(pidv) else 9999. for pidv,tid in zip(trk_theta_proton_v,trk_id)])\n",
    "    trk_phi_proton_sel    = awkward.fromiter([pidv[tid] if tid<len(pidv) else 9999. for pidv,tid in zip(trk_phi_proton_v,trk_id)])\n",
    "\n",
    "    df['trkpid']          = trk_llr_pid_v_sel\n",
    "    df['protonenergy']    = trk_energy_proton_sel\n",
    "    df['trackcaloenergy'] = trk_calo_energy_y_sel\n",
    "    df['subcluster']      = df['shrsubclusters0'] + df['shrsubclusters1'] + df['shrsubclusters2']\n",
    "    #df['trkfit']          = df['shr_tkfit_npointsvalid'] / df['shr_tkfit_npoints']\n",
    "    #df['anglediff_Y']     = np.abs(df['secondshower_Y_dir']-df['shrclusdir2'])\n",
    "    #df['trkthetacos']     = np.cos(df['trk_theta'])\n",
    "\n",
    "    df['protontheta']  = trk_theta_proton_sel\n",
    "    df['protonphi']    = trk_phi_proton_sel\n",
    "\n",
    "#calculate angles wrt NuMI reference frame\n",
    "for i,df in enumerate(df_v):\n",
    "    #df['shr_numi_Angle']    = df.apply( lambda x: GetNuMIAngle(x['shr_px'],x['shr_py'],x['shr_pz']) , axis=1)\n",
    "    df['proton_numi_Angle'] = df.apply( lambda x: GetNuMIAnglePol(x['protonphi'],x['protontheta']) , axis=1)\n",
    "\n",
    "    \n",
    "#just prints out the time this cell takes\n",
    "s2 = time.time()\n",
    "print (\"time to run: \",s2-s)\n",
    "\n",
    "#BDT"
   ]
  },
  {
   "cell_type": "code",
   "execution_count": 11,
   "metadata": {},
   "outputs": [],
   "source": [
    "for i,df in enumerate(df_v):\n",
    "    df.loc[df['shrmoliereavg'].isna(),'secondshower_Y_dot'] = 9999.\n",
    "    #\n",
    "    # secondshower_U/V/Y_dot need to be set to 9999. to match data ntuples produced with v08_00_00_43 or later;\n",
    "    # the patch below is valid only to match data ntuples produced with v08_00_00_42.\n",
    "    #\n",
    "    #df.loc[df['secondshower_U_dot'].isna(),'secondshower_U_dot'] = 0.0 #for 0p please uncomment\n",
    "    #df.loc[df['secondshower_V_dot'].isna(),'secondshower_V_dot'] = 0.0 #for 0p please uncomment\n",
    "    df.loc[df['secondshower_Y_dot'].isna(),'secondshower_Y_dot'] = 0.0 \n",
    "    \n",
    "#BDT"
   ]
  },
  {
   "cell_type": "code",
   "execution_count": 12,
   "metadata": {},
   "outputs": [],
   "source": [
    "df_v = [mc,nue,ext,data,dirt]\n",
    "for i,df in enumerate(df_v):\n",
    "#    df['shr_tkfit_nhits_tot'] = (df['shr_tkfit_nhits_Y']+df['shr_tkfit_nhits_U']+df['shr_tkfit_nhits_V'])\n",
    "#    df['shr_tkfit_nhi'] = (df['shr_tkfit_nhits_Y']*df['shr_tkfit_dedx_Y'] + df['shr_tkfit_nhits_U']*df['shr_tkfit_dedx_U'] + df['shr_tkfit_nhits_V']*df['shr_tkfit_dedx_V'])/df['shr_tkfit_nhits_tot']\n",
    "#    df['shr_tkfit_2cm_nhits_tot'] = (df['shr_tkfit_2cm_nhits_Y']+df['shr_tkfit_2cm_nhits_U']+df['shr_tkfit_2cm_nhits_V'])\n",
    "#    df['shr_tkfit_2cm_dedx_avg'] = (df['shr_tkfit_2cm_nhits_Y']*df['shr_tkfit_2cm_dedx_Y'] + df['shr_tkfit_2cm_nhits_U']*df['shr_tkfit_2cm_dedx_U'] + df['shr_tkfit_2cm_nhits_V']*df['shr_tkfit_2cm_dedx_V'])/df['shr_tkfit_2cm_nhits_tot']\n",
    "#    df['shr_tkfit_gap10_nhits_tot'] = (df['shr_tkfit_gap10_nhits_Y']+df['shr_tkfit_gap10_nhits_U']+df['shr_tkfit_gap10_nhits_V'])\n",
    "#    df['shr_tkfit_gap10_dedx_avg'] = (df['shr_tkfit_gap10_nhits_Y']*df['shr_tkfit_gap10_dedx_Y'] + df['shr_tkfit_gap10_nhits_U']*df['shr_tkfit_gap10_dedx_U'] + df['shr_tkfit_gap10_nhits_V']*df['shr_tkfit_gap10_dedx_V'])/df['shr_tkfit_gap10_nhits_tot']\n",
    "    df.loc[:,'shr_tkfit_dedx_max'] = df['shr_tkfit_dedx_Y']\n",
    "    df.loc[(df['shr_tkfit_nhits_U']>df['shr_tkfit_nhits_Y']),'shr_tkfit_dedx_max'] = df['shr_tkfit_dedx_U']\n",
    "    df.loc[(df['shr_tkfit_nhits_V']>df['shr_tkfit_nhits_Y']) & (df['shr_tkfit_nhits_V']>df['shr_tkfit_nhits_U']),'shr_tkfit_dedx_max'] = df['shr_tkfit_dedx_V']\n",
    "    \n",
    "    #BDT"
   ]
  },
  {
   "cell_type": "code",
   "execution_count": 13,
   "metadata": {
    "scrolled": false
   },
   "outputs": [],
   "source": [
    "#commented big tutorial had flash timer just before this\n",
    "\n",
    "#Define neutrino reconstructed energy here\n",
    "#Also make a correction to electron shower energies\n",
    "\n",
    "INTERCEPT = 0.0\n",
    "SLOPE = 0.83\n",
    "\n",
    "df_v = [mc,nue,ext,data,dirt]\n",
    "# define some energy-related variables\n",
    "for i,df in enumerate(df_v):\n",
    "    df[\"reco_e\"] = (df[\"shr_energy_tot_cali\"] + INTERCEPT) / SLOPE + df[\"trk_energy_tot\"]\n",
    "#    df[\"reco_e_qe\"] = 0.938*((df[\"shr_energy\"]+INTERCEPT)/SLOPE)/(0.938 - ((df[\"shr_energy\"]+INTERCEPT)/SLOPE)*(1-np.cos(df[\"shr_theta\"])))\n",
    "#    df[\"reco_e_rqe\"] = df[\"reco_e_qe\"]/df[\"reco_e\"]\n",
    "\n",
    "# and a way to filter out data\n",
    "for i,df in enumerate(df_v):\n",
    "    df[\"bnbdata\"] = np.zeros_like(df[\"shr_energy\"])\n",
    "    df[\"extdata\"] = np.zeros_like(df[\"shr_energy\"])\n",
    "data[\"bnbdata\"] = np.ones_like(data[\"shr_energy\"])\n",
    "ext[\"extdata\"] = np.ones_like(ext[\"shr_energy\"])\n",
    "\n",
    "\n",
    "#BDT"
   ]
  },
  {
   "cell_type": "code",
   "execution_count": 14,
   "metadata": {
    "scrolled": false
   },
   "outputs": [],
   "source": [
    "# add back the cosmic category, for background only\n",
    "df_v = [mc,nue,ext,data,dirt]\n",
    "for i,df in enumerate(df_v):\n",
    "    df.loc[(df['category']!=1)&(df['category']!=10)&(df['category']!=11)&(df['category']!=111)&(df['slnunhits']/df['slnhits']<0.2), 'category'] = 4\n",
    "    \n",
    "#BDT    "
   ]
  },
  {
   "cell_type": "code",
   "execution_count": 15,
   "metadata": {},
   "outputs": [],
   "source": [
    "#########################################################\n",
    "######## RUN THIS CELL ONLY ONE TIME ONLY ###############\n",
    "#########################################################\n",
    "# The flash time for the NuMI data stream needs to be adjusted a little bit (there are hardware offsets in data). \n",
    "# That's the reason behind these hard coded shifts\n",
    "df_v = [mc,nue,dirt]\n",
    "for i,df in enumerate(df_v):\n",
    "        df.loc[ :, 'flash_time' ] = df['flash_time' ] - 0.304\n",
    "\n",
    "df_v = [ext]\n",
    "for i,df in enumerate(df_v):\n",
    "        df.loc[ :, 'flash_time' ] = df['flash_time' ] - 0.359\n",
    "        \n",
    "#BDT        "
   ]
  },
  {
   "cell_type": "code",
   "execution_count": 16,
   "metadata": {},
   "outputs": [],
   "source": [
    "#Define signal catagories\n",
    "\n",
    "data[\"is_signal\"] = data[\"category\"] == 11\n",
    "nue[\"is_signal\"] = nue[\"category\"] == 11\n",
    "mc[\"is_signal\"] = mc[\"category\"] == 11\n",
    "dirt[\"is_signal\"] = dirt[\"category\"] == 11\n",
    "ext[\"is_signal\"] = ext[\"category\"] == 11\n",
    "\n",
    "nue[\"is_not_signal\"] = nue[\"category\"] != 11\n",
    "\n",
    "#BDT"
   ]
  },
  {
   "cell_type": "code",
   "execution_count": 17,
   "metadata": {},
   "outputs": [],
   "source": [
    "# Some quick clean up since some strange events get in there\n",
    "mc   = mc.query('nu_e > 0.')\n",
    "nue  = nue.query('nu_e > 0.')\n",
    "dirt = dirt.query('nu_e > 0.')\n",
    "\n",
    "# Calculate the true neutrino direction off of the NuMI beam, needed for plotting. Seem to be from MC\n",
    "dfmc_v = [mc,nue,dirt]\n",
    "for i,df in enumerate(dfmc_v):\n",
    "    df['numi_nu_true_Angle'] = df.apply( lambda x: GetNuMIAngle(x['true_nu_px'],x['true_nu_py'],x['true_nu_pz']) , axis=1)\n",
    "    df['weightsNuMIGeo']     = df.apply( lambda x: numiBeamlineGeoWeights.calculateGeoWeight(x['nu_pdg'],x['nu_e'],x['numi_nu_true_Angle']) , axis=1)\n",
    "    \n"
   ]
  },
  {
   "cell_type": "markdown",
   "metadata": {},
   "source": [
    "## Selection Section"
   ]
  },
  {
   "cell_type": "code",
   "execution_count": 18,
   "metadata": {},
   "outputs": [],
   "source": [
    "df_v = [mc,nue]\n",
    "for i,df in enumerate(df_v):\n",
    "    df.loc[ (df['category']== 11) & (df['nu_pdg'] == -12), 'category' ] = 12\n",
    "    df.loc[ (df['category']== 10) & (df['nu_pdg'] == -12), 'category' ] = 1\n",
    "    df.loc[ (df['category']== 10) & (df['nu_pdg'] ==  12), 'category' ] = 1"
   ]
  },
  {
   "cell_type": "markdown",
   "metadata": {},
   "source": [
    "## Plotting Part"
   ]
  },
  {
   "cell_type": "code",
   "execution_count": 19,
   "metadata": {},
   "outputs": [
    {
     "name": "stdout",
     "output_type": "stream",
     "text": [
      "904362\n",
      "{'mc': 0.08559738414394057, 'nue': 0.008409085175623745, 'ext': 0.5612087579382191, 'dirt': 0.049246181662128984}\n"
     ]
    }
   ],
   "source": [
    "import plotter\n",
    "import importlib\n",
    "importlib.reload(plotter)\n",
    "scaling = 1\n",
    "\n",
    "SPLIT = 1.0\n",
    "####Is this needed of new BDT?\n",
    "#if (USEBDT == True):\n",
    "#    SPLIT = 2.\n",
    "\n",
    "#Define the samples to feed the plotter, as well as POT normalisation for each sample\n",
    "#Need MC to be compariable to the data\n",
    "\n",
    "#fullnue = nue\n",
    "#nueMC = mc.query(\"(abs(nu_pdg) == 12 & ccnc == 0 & true_nu_vtx_z < 1036.8 & true_nu_vtx_z > 0 & true_nu_vtx_y < 116.5 & true_nu_vtx_y > -116.5 & true_nu_vtx_x < \\\n",
    "# 254.8 & true_nu_vtx_x > -1.55 )\")\n",
    "#This is abs as it defines the dataset. shouldn' need here?\n",
    "#nueMC = mc.query(\"(abs(nu_pdg) == 12 & ccnc == 0)\")\n",
    "#nue   = nue.query(\"(abs(nu_pdg) == 12 & ccnc == 0 & true_nu_vtx_z < 1036.8 & true_nu_vtx_z > 0 & true_nu_vtx_y < 116.5 & true_nu_vtx_y > -116.5 & true_nu_vtx_x < \\\n",
    " #254.8 & true_nu_vtx_x > -1.55)\")\n",
    "\n",
    "\n",
    "samples = {\n",
    "    \"mc\": mc,\n",
    "    \"nue\": nue,\n",
    "    \"data\": data,\n",
    "    \"dirt\": dirt,\n",
    "    \"ext\": ext\n",
    "}\n",
    "\n",
    "scaling = 1\n",
    "# This is the data POT we normalize to (comes from the data Ntuples)\n",
    "pot =  2e+20 #partial file: 8.885e+19\n",
    "# This is the full MC POT scaling factor\n",
    "mcratio   = pot/2.33652e+21 #norm on wiki: 1.18488e+21; current norm on my plotter:  2.07136e+21\n",
    "# This is the POT scaling factor for the nue CC only sample\n",
    "nueratio  = pot/2.37838e+22 #2.59311e+22 #norm for intrinsic = 2.59311e+22\n",
    "# This is the POT scaling factor for dirt sample\n",
    "dirtratio = pot/1.42143e+21\n",
    "# The EXT sample (off beam) is scaled using the triggers (there's no POT in the external sample!)\n",
    "extratio  = 5268051/9199232.74 #partial file: 2347745.0/4015961.99\n",
    "SPLIT = 1.0\n",
    "# We scale down the EXT to account for neutrino occupancy\n",
    "scalingEXT = 0.98\n",
    " # We scale down the dirt (big uncertainties on this, there's a better data-MC agreement like this)\n",
    "scalingDRT = 0.35\n",
    "\n",
    "\n",
    "#Now we can define the sample normalization factors\n",
    "weights = { #full sample mc = 0.38\n",
    "            \"mc\"  : mcratio  * SPLIT * scaling,   \n",
    "            \"nue\" : nueratio * SPLIT * scaling,  \n",
    "            \"ext\" : extratio * SPLIT * scalingEXT, #set0   \n",
    "            \"dirt\": dirtratio* SPLIT * scalingDRT, #set0   \n",
    "}\n",
    "\n",
    "print (ext.shape[0])\n",
    "my_plotter = plotter.Plotter(samples, weights, pot=pot)\n",
    "print(weights)\n",
    "\n",
    "#BDT"
   ]
  },
  {
   "cell_type": "markdown",
   "metadata": {},
   "source": [
    "## BDT"
   ]
  },
  {
   "cell_type": "code",
   "execution_count": 20,
   "metadata": {},
   "outputs": [],
   "source": [
    "reco_in_fv_query = \"10<=reco_nu_vtx_sce_x<=246 and -106<=reco_nu_vtx_sce_y<=106 and 10<=reco_nu_vtx_sce_z<=1026\"\n",
    "\n",
    "BDT_PRE_QUERY = 'nslice==1'\n",
    "BDT_PRE_QUERY += ' and ' + reco_in_fv_query\n",
    "BDT_PRE_QUERY +=' and contained_fraction>0.9'\n",
    "BDT_PRE_QUERY += ' and n_tracks_contained>0'\n",
    "BDT_PRE_QUERY += ' and n_showers_contained==1'\n",
    "BDT_PRE_QUERY += ' and shr_energy_tot_cali>0.07'\n",
    "BDT_PRE_QUERY += ' and trk_energy>0.04' #added\n",
    "\n",
    "BDT_LOOSE_CUTS = BDT_PRE_QUERY\n",
    "BDT_LOOSE_CUTS += ' and shr_score<0.3'\n",
    "BDT_LOOSE_CUTS += ' and trkpid<0.35'\n",
    "BDT_LOOSE_CUTS += ' and shrmoliereavg<15'\n",
    "BDT_LOOSE_CUTS += ' and shr_tkfit_dedx_Y<7'\n",
    "BDT_LOOSE_CUTS += ' and tksh_distance<12'"
   ]
  },
  {
   "cell_type": "code",
   "execution_count": 21,
   "metadata": {},
   "outputs": [],
   "source": [
    "# load bdt model \n",
    "bdt_model = xgb.Booster({'nthread': 4})\n",
    "bdt_model.load_model('/home/alex/NuMI/bdt_FHC_oct2021_v3.model')"
   ]
  },
  {
   "cell_type": "code",
   "execution_count": 22,
   "metadata": {},
   "outputs": [
    {
     "name": "stdout",
     "output_type": "stream",
     "text": [
      "(914729, 125)\n",
      "(127551, 126)\n",
      "(483722, 107)\n",
      "(904362, 70)\n",
      "(610496, 70)\n"
     ]
    }
   ],
   "source": [
    "# NOW, apply the model to real data for data/MC comparisons\n",
    "\n",
    "varlist = [\n",
    "    \"shr_score\", \"shrmoliereavg\", \"trkpid\",\n",
    "    \"n_showers_contained\", \"shr_tkfit_dedx_Y\", \"tksh_distance\",\n",
    "    \"tksh_angle\", \"subcluster\", \"trkshrhitdist2\"]\n",
    "#The training variables?\n",
    "\n",
    "datasetlist = [mc, nue, dirt, ext, data]\n",
    "\n",
    "for df in datasetlist:\n",
    "    for column in varlist:\n",
    "        df.loc[(df[column] < -1.0e37) | (df[column] > 1.0e37), column] = np.nan\n",
    "        \n",
    "    # create testing dmatrix \n",
    "    df_test = xgb.DMatrix(data=df[varlist])\n",
    "    \n",
    "    # apply the bdt selection\n",
    "    preds = bdt_model.predict(df_test)\n",
    "    \n",
    "    # add columns for plotting \n",
    "    df['BDT_score'] = preds\n",
    "    print(df.shape)"
   ]
  },
  {
   "cell_type": "code",
   "execution_count": 23,
   "metadata": {},
   "outputs": [],
   "source": [
    "datasets_bdt = mc"
   ]
  },
  {
   "cell_type": "code",
   "execution_count": 24,
   "metadata": {},
   "outputs": [
    {
     "data": {
      "image/png": "[encoded data removed]",
      "text/plain": [
       "<Figure size 432x288 with 1 Axes>"
      ]
     },
     "metadata": {
      "needs_background": "light"
     },
     "output_type": "display_data"
    }
   ],
   "source": [
    "import matplotlib.pyplot as plt\n",
    "import matplotlib\n",
    "\n",
    "bins = np.arange(0, 1.0, 0.1)\n",
    "gen = plt.hist(datasets_bdt['BDT_score'], bins, color='orange')\n",
    "plt.xlabel(\"BDT Score\")\n",
    "plt.ylabel(\"Counts\")\n",
    "plt.title(\"Exclusive Nue Selection BDT Scores\")\n",
    "plt.show()"
   ]
  },
  {
   "cell_type": "code",
   "execution_count": 25,
   "metadata": {},
   "outputs": [],
   "source": [
    "###Need to use the same BDT split value Katerina did\n",
    "#It was BDT score > 0.575\n",
    "\n",
    "SEL_QUERY = BDT_LOOSE_CUTS\n",
    "SEL_QUERY += ' and BDT_score > 0.575'"
   ]
  },
  {
   "cell_type": "code",
   "execution_count": 26,
   "metadata": {
    "scrolled": false
   },
   "outputs": [
    {
     "name": "stdout",
     "output_type": "stream",
     "text": [
      "nslice==1 and 10<=reco_nu_vtx_sce_x<=246 and -106<=reco_nu_vtx_sce_y<=106 and 10<=reco_nu_vtx_sce_z<=1026 and contained_fraction>0.9 and n_tracks_contained>0 and n_showers_contained==1 and shr_energy_tot_cali>0.07 and trk_energy>0.04 and shr_score<0.3 and trkpid<0.35 and shrmoliereavg<15 and shr_tkfit_dedx_Y<7 and tksh_distance<12 and BDT_score > 0.575& reco_e <= 5 & reco_e >= 0 \n",
      " ~(abs(nu_pdg) == 12 & ccnc == 0) \n",
      " None \n",
      " False\n",
      "order w sum  0.4789296166403314  c  3\n",
      "order w sum  0.4849670167220518  c  4\n",
      "order w sum  0.6081289599520437  c  5\n",
      "order w sum  0.8618336019701214  c  21\n",
      "order w sum  1.9404238859110692  c  2\n",
      "order w sum  2.124404610494145  c  31\n",
      "order w sum  4.023855822156849  c  1\n",
      "order w sum  3.7460561473004157  c  12\n",
      "order w sum  57.03751092595994  c  11\n",
      "total  71.86731934504519\n",
      "\n",
      "SUMS\n",
      "[0.47892961664033135, 0.9638966333623833, 1.5720255933144274, 2.4338591952845485, 4.374283081195617, 6.498687691689762, 10.522543513846614, 14.268599661147025, 71.3061105871071]\n",
      "[0.48496701672205195, 0.6081289599520441, 0.8618336019701212, 1.940423885911068, 2.124404610494145, 4.023855822156852, 3.7460561473004113, 57.03751092596008]\n",
      "\n",
      "Nue Wanted List:\n",
      "[1.504595464531441, 0.43582842137962796, 0.0, 0.0, 0.0, 0.0, 0.0, 0.0, 0.0, 0.0]\n",
      "\n",
      "labels  ['$\\\\nu$ NC: 0.5', 'Cosmic: 0.5', 'Out. fid. vol.: 0.6', '$\\\\nu_{\\\\mu}$ CC $\\\\pi^{0}$: 0.9', '$\\\\nu_{\\\\mu}$ CC: 1.9', '$\\\\nu$ NC $\\\\pi^{0}$: 2.1', '$\\\\nu_e$ Other: 4.0', '$\\\\bar\\\\nu_e$ CC0$\\\\pi$Np: 3.7', '$\\\\nu_e$ CC0$\\\\pi$Np: 57.0']\n",
      "n_ext  [0.56120876 0.         0.         0.         0.         0.\n",
      " 0.         0.         0.         0.        ]\n",
      "n_tot  [1.50262956e+01 3.72211219e+01 1.37191382e+01 3.64657406e+00\n",
      " 1.46761941e+00 4.08662548e-01 2.09075728e-01 1.19576309e-01\n",
      " 2.03033201e-02 2.89523075e-02]\n",
      "total array  [0.39594465 0.48993844 0.6435046  ... 0.6519135  0.5619019  0.2603224 ]\n",
      "IN COVMATRIX_XS_PPFX\n",
      "Universes 500\n",
      "mc\n",
      "nue\n"
     ]
    },
    {
     "name": "stderr",
     "output_type": "stream",
     "text": [
      "/home/alex/miniconda3/envs/vintageXgboostVintageUprootEnv/lib/python3.8/site-packages/numpy/core/fromnumeric.py:3245: VisibleDeprecationWarning: Creating an ndarray from ragged nested sequences (which is a list-or-tuple of lists-or-tuples-or ndarrays with different lengths or shapes) is deprecated. If you meant to do this, you must specify 'dtype=object' when creating the ndarray.\n",
      "  return asarray(a).size\n",
      "/home/alex/miniconda3/envs/vintageXgboostVintageUprootEnv/lib/python3.8/site-packages/matplotlib/cbook/__init__.py:1449: VisibleDeprecationWarning: Creating an ndarray from ragged nested sequences (which is a list-or-tuple of lists-or-tuples-or ndarrays with different lengths or shapes) is deprecated. If you meant to do this, you must specify 'dtype=object' when creating the ndarray.\n",
      "  X = np.atleast_1d(X.T if isinstance(X, np.ndarray) else np.asarray(X))\n"
     ]
    },
    {
     "name": "stdout",
     "output_type": "stream",
     "text": [
      "data\n",
      "dirt\n",
      "ext\n",
      "Universes 500\n",
      "mc\n",
      "nue\n",
      "data\n",
      "dirt\n",
      "ext\n",
      "Universes 500\n",
      "mc\n",
      "nue\n",
      "data\n",
      "dirt\n",
      "ext\n",
      "Add Drawing Geo Sys\n",
      "Number of variations Universes 10\n",
      "draw Sys\n",
      "n_data  [21 26  7  4  2  0  0  1  0  0]\n"
     ]
    },
    {
     "name": "stderr",
     "output_type": "stream",
     "text": [
      "/home/alex/NuMI/PELEE/plotter.py:458: RuntimeWarning: divide by zero encountered in true_divide\n",
      "  ERR_STAT = 3. / ( 1./data + 2./mc )\n",
      "/home/alex/NuMI/PELEE/plotter.py:266: RuntimeWarning: divide by zero encountered in true_divide\n",
      "  return (data-mc)**2 / data\n"
     ]
    },
    {
     "data": {
      "image/png": "[encoded data removed]",
      "text/plain": [
       "<Figure size 576x504 with 2 Axes>"
      ]
     },
     "metadata": {
      "needs_background": "light"
     },
     "output_type": "display_data"
    }
   ],
   "source": [
    "#Now check on a variable\n",
    "import batch_plotter_alex\n",
    "import importlib\n",
    "importlib.reload(batch_plotter_alex)\n",
    "scaling = 1\n",
    "\n",
    "import matplotlib.pyplot as plt\n",
    "import matplotlib\n",
    "\n",
    "#can this be done with nue_e too? For efficiencies?\n",
    "VARIABLE, BINS, RANGE, XTIT = 'reco_e',10,(0.0, 5.0),\"Reconstructed Energy [GeV]\"\n",
    "\n",
    "fig, ax1, ax2 = my_plotter.plot_variable(\n",
    "    VARIABLE,   \n",
    "    query= SEL_QUERY ,\n",
    "    #kind=\"interaction\",\n",
    "    kind=\"event_category\",\n",
    "    draw_sys  = True, \n",
    "    draw_geoSys = True, \n",
    "    draw_data = True,\n",
    "    genieweight = \"weightSplineTimesTuneTimesPPFX\",  \n",
    "    stacksort=3,\n",
    "    title=XTIT,\n",
    "    bins=BINS,\n",
    "    range=RANGE\n",
    ")[0:3]\n",
    "\n",
    "ax1.set_title('NuMI Run 1, Neutrino Mode, νe - Reconstructed Energies',loc='left')\n",
    "#ax1.set_yscale(\"log\")\n",
    "fig.tight_layout()"
   ]
  },
  {
   "cell_type": "code",
   "execution_count": 56,
   "metadata": {},
   "outputs": [],
   "source": [
    "# from Katerina  - modified, to be able to plot truth mc with nue eff selections\n",
    "# plot efficiency overlaid on selected signal events \n",
    "def plot_signal_and_eff(selected, df, signal, bins, truth): \n",
    "    \n",
    "    # generated true signal events per bin \n",
    "    gen = plt.hist(df.query(signal)['nu_e']*weights, bins, color='deepskyblue')\n",
    "    plt.close()\n",
    "    \n",
    "    # plot selected signal events \n",
    "    fig, ax1 = plt.subplots(figsize=(4, 5))\n",
    "    \n",
    "    sel = ax1.hist(truth['nu_e'], bins, color='deepskyblue')\n",
    "    ax1.set_ylabel('Selected Signal Events', fontsize=15)\n",
    "    ax1.set_xlabel('True νe Energy [GeV]', fontsize=15)\n",
    "\n",
    "    # compute efficiency\n",
    "    #sel2=selected['nu_e']\n",
    "    sel = ax1.hist(selected['nu_e'], bins, color='white')\n",
    "    print(sel)\n",
    "    eff = [ a/b for a, b in zip(sel[0], gen[0]) ]\n",
    "    eff_err = []\n",
    "    for i in range(len(eff)):\n",
    "        eff_err.append(math.sqrt( (eff[i]*(1-eff[i]))/gen[0][i] ) )\n",
    "        print(\"In bin\", i, \", eff = \", eff[i], \" with error = \", eff_err[i])\n",
    "        \n",
    "    # compute bin centers \n",
    "    bc = 0.5*(sel[1][1:]+sel[1][:-1])\n",
    "    x_err = []\n",
    "    for i in range(len(sel[1])-1): \n",
    "        x_err.append((sel[1][i+1]-sel[1][i])/2)\n",
    "\n",
    "    # plot efficiency\n",
    "    sel = ax1.hist(truth['nu_e'], bins, color='deepskyblue')\n",
    "    ax1.set_ylim(0, 3500)\n",
    "    ax2 = ax1.twinx()\n",
    "    ax2.errorbar(bc, eff, xerr=x_err, yerr=eff_err, fmt='o', color='orangered', ecolor='orangered', markersize=3) \n",
    "    ax2.set_ylim(0, 1.00)\n",
    "    ax2.set_ylabel('Efficiency', fontsize=15)\n",
    "    ax2.set_title(\"True νe Energy and Efficiency\")\n",
    "    plt.text(0, 0.95, r'MicroBooNE In Progress', fontweight='bold')\n",
    "\n",
    "    plt.show()"
   ]
  },
  {
   "cell_type": "code",
   "execution_count": 32,
   "metadata": {},
   "outputs": [],
   "source": [
    "def plot_signal_and_eff_alex(selected, df, signal, bins, truth): \n",
    "    \n",
    "    # generated true signal events per bin\n",
    "    nue_truth = [37.963620193059626, 153.70502409396536, 105.12433817746344, 40.84836282943223, 16.43726297406471, 7.924784559451439, 4.7246726061682125, 2.3833022701571167, 1.2904587747437404, 0.483849884068718]\n",
    "    count = [0.1, 0.6, 1.1, 1.6, 2.1, 2.6, 3.1, 3.6, 4.1, 4.6]\n",
    "    \n",
    "    weights = [0.1*nue_truth[0], 0.6*nue_truth[1], 1.1*nue_truth[2], 1.6*nue_truth[3], 2.1*nue_truth[4], 2.6*nue_truth[5], 3.1*nue_truth[6], 3.6*nue_truth[7], 4.1*nue_truth[8], 4.6*nue_truth[9]]   \n",
    "    \n",
    "    gen = plt.hist(count, bins, color='deepskyblue', weights=nue_truth)\n",
    "    #gen = plt.hist(df.query(signal)['nu_e'], bins, color='deepskyblue')\n",
    "    plt.close()\n",
    "    print(gen)\n",
    "    \n",
    "    # plot selected signal events \n",
    "    fig, ax1 = plt.subplots(figsize=(4, 5))\n",
    "    \n",
    "    #sel = ax1.hist(truth['nu_e'], bins, color='deepskyblue')\n",
    "    ax1.set_ylabel('Selected Signal Events', fontsize=15)\n",
    "    ax1.set_xlabel('True νe Energy [GeV]', fontsize=15)\n",
    "\n",
    "    # compute efficiency\n",
    "    #Use nu_e post selection numbers so in true bins of e\n",
    "    nue_truth_reco = [3.3129663588582634, 27.547284031308195, 17.47340720212118, 5.265912008052567, 2.058917149432233, 0.6800988524854858, 0.3426644506052554, 0.20079651391073838, 0.08512010511708468, 0.028548522227268336]\n",
    "    count = [0.1, 0.6, 1.1, 1.6, 2.1, 2.6, 3.1, 3.6, 4.1, 4.6]\n",
    "\n",
    "    weights = [0.1*nue_truth_reco[0], 0.6*nue_truth_reco[1], 1.1*nue_truth_reco[2], 1.6*nue_truth_reco[3], 2.1*nue_truth_reco[4], 2.6*nue_truth_reco[5], 3.1*nue_truth_reco[6], 3.6*nue_truth_reco[7], 4.1*nue_truth_reco[8], 4.6*nue_truth_reco[9]]\n",
    "\n",
    "    sel = ax1.hist(count, bins, color='white', weights=nue_truth_reco)\n",
    "    print(sel)\n",
    "    #sel = ax1.hist(selected['nu_e'], bins, color='white')\n",
    "    eff = [ a/b for a, b in zip(sel[0], gen[0]) ]\n",
    "    eff_err = []\n",
    "    for i in range(len(eff)):\n",
    "        eff_err.append(math.sqrt( (eff[i]*(1-eff[i]))/gen[0][i] ) )\n",
    "        print(\"In bin\", i, \", eff = \", eff[i], \" with error = \", eff_err[i])\n",
    "        \n",
    "    # compute bin centers \n",
    "    bc = 0.5*(sel[1][1:]+sel[1][:-1])\n",
    "    x_err = []\n",
    "    for i in range(len(sel[1])-1): \n",
    "        x_err.append((sel[1][i+1]-sel[1][i])/2)\n",
    "\n",
    "    # plot efficiency\n",
    "    #sel = ax1.hist(truth['nu_e'], bins, color='deepskyblue')\n",
    "    sel = ax1.hist(count, bins, color='deepskyblue', weights=nue_truth_reco)\n",
    "    ax1.set_ylim(0, 35)\n",
    "    ax2 = ax1.twinx()\n",
    "    ax2.errorbar(bc, eff, xerr=x_err, yerr=eff_err, fmt='o', color='orangered', ecolor='orangered', markersize=3) \n",
    "    ax2.set_ylim(0, 1.00)\n",
    "    ax2.set_ylabel('Efficiency', fontsize=15)\n",
    "    ax2.set_title(\"True νe Energy and Efficiency\")\n",
    "    plt.text(0, 0.95, r'MicroBooNE In Progress', fontweight='bold')\n",
    "\n",
    "    plt.show()"
   ]
  },
  {
   "cell_type": "code",
   "execution_count": 33,
   "metadata": {},
   "outputs": [
    {
     "name": "stdout",
     "output_type": "stream",
     "text": [
      "(array([ 37.964, 153.705, 105.124,  40.848,  16.437,   7.925,   4.725,\n",
      "         2.383,   1.29 ,   0.484]), array([0. , 0.5, 1. , 1.5, 2. , 2.5, 3. , 3.5, 4. , 4.5, 5. ]), <a list of 10 Patch objects>)\n",
      "(array([ 3.313, 27.547, 17.473,  5.266,  2.059,  0.68 ,  0.343,  0.201,\n",
      "        0.085,  0.029]), array([0. , 0.5, 1. , 1.5, 2. , 2.5, 3. , 3.5, 4. , 4.5, 5. ]), <a list of 10 Patch objects>)\n",
      "In bin 0 , eff =  0.08726687133657311  with error =  0.04580499078590566\n",
      "In bin 1 , eff =  0.1792217540948275  with error =  0.030936006388988628\n",
      "In bin 2 , eff =  0.16621657272765716  with error =  0.03630882155224814\n",
      "In bin 3 , eff =  0.12891366124123707  with error =  0.05243155586968591\n",
      "In bin 4 , eff =  0.12525912329083405  with error =  0.08164500932546111\n",
      "In bin 5 , eff =  0.08581922289286346  with error =  0.09949805679944515\n",
      "In bin 6 , eff =  0.07252660219417022  with error =  0.11932008028428484\n",
      "In bin 7 , eff =  0.08425138364740495  with error =  0.17992316960398524\n",
      "In bin 8 , eff =  0.06596111924147895  with error =  0.21850149761098192\n",
      "In bin 9 , eff =  0.05900285019643361  with error =  0.3387468995542195\n"
     ]
    },
    {
     "data": {
      "image/png": "[encoded data removed]",
      "text/plain": [
       "<Figure size 288x360 with 2 Axes>"
      ]
     },
     "metadata": {
      "needs_background": "light"
     },
     "output_type": "display_data"
    }
   ],
   "source": [
    "#SEL_QUERY = \"BDT_score > 0.575\"\n",
    "#selected = nue.query(SEL_QUERY)\n",
    "\n",
    "\n",
    "fiduc_q = \"true_nu_vtx_z < 1036.8 and true_nu_vtx_z > 0 and true_nu_vtx_y < 116.5 and true_nu_vtx_y > -116.5 and true_nu_vtx_x < \\\n",
    " 254.8 and true_nu_vtx_x > -1.55 and ((nu_pdg) == 12 and ccnc == 0) and nproton > 0\"\n",
    "\n",
    "\n",
    "#bins = [0.25, 0.5, 1.0, 1.25, 1.5, 1.75, 2.0, 2.05, 2.25, 2.45, 2.65, 2.85, 3.05]\n",
    "bins = np.arange(0, 5.5, 0.5)\n",
    "#plot_signal_and_eff(selected, nue, fiduc_q, bins, mc.query(fiduc_q))\n",
    "\n",
    "selected = nue.query(SEL_QUERY)\n",
    "selected_fid = selected.query(fiduc_q)\n",
    "\n",
    "#had truth as mc - should be nue?\n",
    "plot_signal_and_eff_alex(selected_fid, nue, fiduc_q, bins, mc.query(fiduc_q))"
   ]
  },
  {
   "cell_type": "markdown",
   "metadata": {},
   "source": [
    "### Smearing Matrix work"
   ]
  },
  {
   "cell_type": "code",
   "execution_count": 97,
   "metadata": {},
   "outputs": [],
   "source": [
    "# plot the smearing matrix \n",
    "def plot_smearing(selected, signal, true, reco, bins, norm=False): \n",
    "    fig = plt.figure(figsize=(10, 6))\n",
    "    \n",
    "    smear = plt.hist2d(selected.query(signal)[true],selected.query(signal)[reco],\n",
    "                   bins, cmin=0.000000001, cmap='OrRd')\n",
    "    \n",
    "    zero_copy_smear = np.copy(smear[0].T)\n",
    "    \n",
    "    for i in range(len(bins)-1): # reco bins i (y axis) rows\n",
    "        for j in range(len(bins)-1): # true bins j (x axis) cols\n",
    "            if np.isnan(zero_copy_smear[i,j]):\n",
    "                zero_copy_smear[i,j]= 0\n",
    "\n",
    "    for i in range(len(bins)-1): # reco bins i (y axis) rows\n",
    "        for j in range(len(bins)-1): # true bins j (x axis) cols\n",
    "            if smear[0].T[i,j] > 0: \n",
    "                if smear[0].T[i,j]>80: \n",
    "                    col='white'\n",
    "                else: \n",
    "                    col='black'\n",
    "                    \n",
    "                binx_centers = smear[1][j]+(smear[1][j+1]-smear[1][j])/2\n",
    "                biny_centers = smear[2][i]+(smear[2][i+1]-smear[2][i])/2\n",
    "                        \n",
    "                plt.text(binx_centers, biny_centers, round(smear[0].T[i,j], 1), \n",
    "                    color=col, ha=\"center\", va=\"center\", fontsize=12)\n",
    "\n",
    "    cbar = plt.colorbar()\n",
    "    cbar.set_label('Selected Signal Events', fontsize=15)\n",
    "\n",
    "    if norm: \n",
    "        plt.close()\n",
    "        \n",
    "        norm_array = smear[0].T\n",
    "    \n",
    "        # for each truth bin (column): \n",
    "        for j in range(len(bins)-1): \n",
    "        \n",
    "            reco_events_in_column = [ norm_array[i][j] for i in range(len(bins)-1) ]\n",
    "            tot_reco_events = np.nansum(reco_events_in_column)\n",
    "        \n",
    "            # replace with normalized value \n",
    "            for i in range(len(bins)-1): \n",
    "                norm_array[i][j] =  norm_array[i][j] / tot_reco_events\n",
    "    \n",
    "        # now plot\n",
    "        fig = plt.figure(figsize=(10, 6))\n",
    "        plt.pcolor(bins, bins, norm_array, cmap='OrRd', vmax=1)\n",
    "        \n",
    "        zero_copy_smear_norm = np.copy(norm_array)\n",
    "\n",
    "        for i in range(len(bins)-1): # reco bins i (y axis) rows\n",
    "            for j in range(len(bins)-1): # true bins j (x axis) cols\n",
    "                if np.isnan(zero_copy_smear_norm[i,j]):\n",
    "                    zero_copy_smear_norm[i,j]= 0\n",
    "\n",
    "        print(zero_copy_smear_norm)\n",
    "    \n",
    "        # Loop over data dimensions and create text annotations.\n",
    "        for i in range(len(bins)-1): # reco bins (rows)\n",
    "            for j in range(len(bins)-1): # truth bins (cols)\n",
    "                if norm_array[i][j]>0: \n",
    "                \n",
    "                    if norm_array[i][j]>0.7: \n",
    "                        col = 'white'\n",
    "                    else: \n",
    "                        col = 'black'\n",
    "                    \n",
    "                    binx_centers = smear[1][j]+(smear[1][j+1]-smear[1][j])/2\n",
    "                    biny_centers = smear[2][i]+(smear[2][i+1]-smear[2][i])/2\n",
    "                \n",
    "                    plt.text(binx_centers, biny_centers, round(norm_array[i][j], 2), \n",
    "                         ha=\"center\", va=\"center\", color=col, fontsize=12)\n",
    "      \n",
    "        cbar = plt.colorbar()\n",
    "        cbar.set_label('Fraction of Reco Events in True Bin', fontsize=15)\n",
    "        \n",
    "        #np.savetxt(\"nue_full_500_catsel_nopions_recoE_usingSelection_smearcept.csv\", \n",
    "        #   zero_copy_smear_norm,\n",
    "        #   delimiter =\", \", \n",
    "        #   fmt ='% s')\n",
    "\n",
    "    plt.xlabel('True ν Energy [GeV]', fontsize=15)\n",
    "    plt.ylabel('Reco ν Energy [GeV]', fontsize=15)\n",
    "    plt.text(0.1, 4.8, r'MicroBooNE In Progress', fontweight='bold')\n",
    "    \n",
    "    plt.show()"
   ]
  },
  {
   "cell_type": "code",
   "execution_count": 98,
   "metadata": {
    "scrolled": false
   },
   "outputs": [
    {
     "data": {
      "image/png": "[encoded data removed]",
      "text/plain": [
       "<Figure size 720x432 with 2 Axes>"
      ]
     },
     "metadata": {
      "needs_background": "light"
     },
     "output_type": "display_data"
    }
   ],
   "source": [
    "# true nu energy \n",
    "true_var = 'nu_e'\n",
    "\n",
    "# reconstructed nu energy \n",
    "reco_var = 'reco_e'\n",
    "\n",
    "bins = np.arange(0, 5.5, 0.5)\n",
    "\n",
    "#fiduc_q = \"true_nu_vtx_z < 1036.8 and true_nu_vtx_z > 0 and true_nu_vtx_y < 116.5 and true_nu_vtx_y > -116.5 and true_nu_vtx_x < \\\n",
    " #254.8 and true_nu_vtx_x > -1.55 and ((nu_pdg) == 12 and ccnc == 0) and nproton > 0\"\n",
    "\n",
    "fiduc_q  = \"(nu_pdg == 12 and ccnc == 0 and true_nu_vtx_z < 1036.8 and true_nu_vtx_z > 0 and true_nu_vtx_y < 116.5 and true_nu_vtx_y > -116.5 and true_nu_vtx_x < \\\n",
    " 254.8 and true_nu_vtx_x > -1.55 and nproton > 0 and npion == 0 and nu_e > 0.04 and nu_e < 5)\"\n",
    "fiduc_q  += \" and category == 11\"\n",
    "\n",
    "\n",
    "selected = nue.query(SEL_QUERY)\n",
    "selected_fid = selected.query(fiduc_q)\n",
    "\n",
    "# relationship between true & reco values\n",
    "plot_smearing(selected_fid, fiduc_q, true_var, reco_var, bins)"
   ]
  },
  {
   "cell_type": "code",
   "execution_count": 99,
   "metadata": {
    "scrolled": false
   },
   "outputs": [
    {
     "name": "stdout",
     "output_type": "stream",
     "text": [
      "[[0.957 0.233 0.054 0.028 0.004 0.    0.    0.    0.    0.   ]\n",
      " [0.043 0.75  0.521 0.205 0.1   0.067 0.077 0.1   0.    0.   ]\n",
      " [0.    0.016 0.415 0.458 0.221 0.227 0.    0.05  0.111 0.   ]\n",
      " [0.    0.    0.01  0.291 0.377 0.2   0.231 0.1   0.111 0.   ]\n",
      " [0.    0.    0.    0.018 0.268 0.293 0.205 0.25  0.222 0.333]\n",
      " [0.    0.    0.    0.    0.03  0.173 0.205 0.2   0.222 0.333]\n",
      " [0.    0.    0.    0.    0.    0.027 0.231 0.15  0.111 0.   ]\n",
      " [0.    0.    0.    0.    0.    0.013 0.051 0.15  0.111 0.   ]\n",
      " [0.    0.    0.    0.    0.    0.    0.    0.    0.111 0.   ]\n",
      " [0.    0.    0.    0.    0.    0.    0.    0.    0.    0.333]]\n"
     ]
    },
    {
     "data": {
      "image/png": "[encoded data removed]",
      "text/plain": [
       "<Figure size 720x432 with 2 Axes>"
      ]
     },
     "metadata": {
      "needs_background": "light"
     },
     "output_type": "display_data"
    }
   ],
   "source": [
    "# relationship between true & reco values\n",
    "plot_smearing(selected_fid, fiduc_q, true_var, reco_var, bins, norm=True)"
   ]
  },
  {
   "cell_type": "code",
   "execution_count": 126,
   "metadata": {},
   "outputs": [
    {
     "name": "stdout",
     "output_type": "stream",
     "text": [
      "[0.34732557021624605, 0.20496289709941323, 0.10034889412168412, 0.06197694757999727, 0.06304670091254373, 0.03941488708522243, 0.02835869187983018, 0.03216097442647323, 0.015941008628400314, 0.040242617031980066]\n",
      "\n",
      "[[0.9568527918781726, 0.2333931777378815, 0.05443658138268917, 0.028286189683860232, 0.004329004329004329, 0.0, 0.0, 0.0, 0.0, 0.0], [0.04314720812182741, 0.7504488330341114, 0.5209580838323353, 0.20465890183028287, 0.09956709956709957, 0.06666666666666667, 0.07692307692307693, 0.1, 0.0, 0.0], [0.0, 0.01615798922800718, 0.4148067501360915, 0.45757071547420963, 0.22077922077922077, 0.22666666666666666, 0.0, 0.05, 0.1111111111111111, 0.0], [0.0, 0.0, 0.00979858464888405, 0.2911813643926789, 0.37662337662337664, 0.2, 0.23076923076923078, 0.1, 0.1111111111111111, 0.0], [0.0, 0.0, 0.0, 0.018302828618968387, 0.2683982683982684, 0.29333333333333333, 0.20512820512820512, 0.25, 0.2222222222222222, 0.3333333333333333], [0.0, 0.0, 0.0, 0.0, 0.030303030303030304, 0.17333333333333334, 0.20512820512820512, 0.2, 0.2222222222222222, 0.3333333333333333], [0.0, 0.0, 0.0, 0.0, 0.0, 0.02666666666666667, 0.23076923076923078, 0.15, 0.1111111111111111, 0.0], [0.0, 0.0, 0.0, 0.0, 0.0, 0.013333333333333334, 0.05128205128205128, 0.15, 0.1111111111111111, 0.0], [0.0, 0.0, 0.0, 0.0, 0.0, 0.0, 0.0, 0.0, 0.1111111111111111, 0.0], [0.0, 0.0, 0.0, 0.0, 0.0, 0.0, 0.0, 0.0, 0.0, 0.3333333333333333]]\n",
      "\n",
      "[[0.33233944155209333, 0.04783694187239447, 0.005462650741517916, 0.0017530916952744652, 0.00027292944117984297, 0.0, 0.0, 0.0, 0.0, 0.0], [0.014986128664152748, 0.1538141669435453, 0.05227756759632646, 0.01268413403051525, 0.006277377147136389, 0.0026276591390148284, 0.002181437836910014, 0.0032160974426473227, 0.0, 0.0], [0.0, 0.003311788283473463, 0.04162539865036652, 0.028358836247086936, 0.013919401500171992, 0.008934041072650417, 0.0, 0.0016080487213236613, 0.001771223180933368, 0.0], [0.0, 0.0, 0.0009832771334732247, 0.018046532157237144, 0.02374486138264634, 0.007882977417044487, 0.006544313510730042, 0.0032160974426473227, 0.001771223180933368, 0.0], [0.0, 0.0, 0.0, 0.0011343534498834775, 0.016921625353150265, 0.011561700211665246, 0.0058171675650933695, 0.008040243606618307, 0.003542446361866736, 0.013414205677326688], [0.0, 0.0, 0.0, 0.0, 0.001910506088258901, 0.006831913761438555, 0.0058171675650933695, 0.006432194885294645, 0.003542446361866736, 0.013414205677326688], [0.0, 0.0, 0.0, 0.0, 0.0, 0.0010510636556059316, 0.006544313510730042, 0.004824146163970984, 0.001771223180933368, 0.0], [0.0, 0.0, 0.0, 0.0, 0.0, 0.0005255318278029658, 0.0014542918912733424, 0.004824146163970984, 0.001771223180933368, 0.0], [0.0, 0.0, 0.0, 0.0, 0.0, 0.0, 0.0, 0.0, 0.001771223180933368, 0.0], [0.0, 0.0, 0.0, 0.0, 0.0, 0.0, 0.0, 0.0, 0.0, 0.013414205677326688]]\n",
      "\n",
      "[30.084810827502174, 151.62865504965998, 111.03931566210608, 43.90048763860746, 16.85484444822777, 8.271492731185546, 4.829256825653858, 2.5025045208168826, 1.2736534180956065, 0.5006552407172141]\n",
      "\n",
      "[1.79399512e+01 3.02813170e+01 6.68397180e+00 1.40876231e+00\n",
      " 4.90083635e-01 1.44128342e-01 5.46264081e-02 2.56984538e-02\n",
      " 2.25592446e-03 6.71589237e-03]\n",
      "\n",
      "17.939951151025795\n",
      "30.28131700749943\n",
      "6.6839718001856685\n",
      "1.4087623108891338\n",
      "0.49008363543724665\n",
      "0.14412834219136997\n",
      "0.05462640812129436\n",
      "0.0256984537791285\n",
      "0.002255924458605957\n",
      "0.006715892372412213\n"
     ]
    }
   ],
   "source": [
    "with open('batch_eff_nue_fig_full_500_catsel_nopions_recoE_matrix.csv') as file:\n",
    "    content = file.readlines()\n",
    "effs = content[0:]\n",
    "    \n",
    "for i in range(10):\n",
    "    effs[i]=effs[i].rstrip().rstrip(',')\n",
    "    effs[i] = float(effs[i])\n",
    "    \n",
    "print(effs)\n",
    "print(\"\")\n",
    "#----------------------------------------------------------------------------------\n",
    "\n",
    "with open('nue_full_500_catsel_nopions_recoE_usingSelection_smearcept.csv') as file:\n",
    "    content = file.readlines()\n",
    "smear = content[0:]\n",
    "\n",
    "for i in range(10):\n",
    "    smear[i]=smear[i].rstrip().rstrip(',')\n",
    "    smear[i] = [float(idx) for idx in smear[i].split(', ')]\n",
    "    \n",
    "print((smear))\n",
    "print(\"\")\n",
    "\n",
    "#------------------------------------------------------------------\n",
    "\n",
    "#print(np.dot(effs, data_signal))\n",
    "for i in range(10):\n",
    "    smear[i] = [a*b for a,b in zip(smear[i], effs)]\n",
    "    \n",
    "print(smear)\n",
    "print(\"\")\n",
    "\n",
    "np.savetxt(\"nue_full_500_catsel_nopions_recoE_usingSelection_smearcept.csv\", \n",
    "   smear,\n",
    "   delimiter =\", \", \n",
    "   fmt ='% s')\n",
    "\n",
    "#--------------------------------------------------------\n",
    "\n",
    "#Now test by multiplying with the prior_true_signal\n",
    "\n",
    "with open('nue_full_500_catsel_nopions_recoE_usingSelection_prior_true_signal.csv') as file:\n",
    "    content = file.readlines()\n",
    "prior_true = content[0:]\n",
    "    \n",
    "for i in range(10):\n",
    "    prior_true[i]=prior_true[i].rstrip().rstrip(',')\n",
    "    prior_true[i] = float(prior_true[i])\n",
    "    \n",
    "print(prior_true)\n",
    "print(\"\")\n",
    "\n",
    "made_data_sig = np.dot(smear, prior_true)\n",
    "print(made_data_sig)\n",
    "print(\"\")\n",
    "\n",
    "for i in made_data_sig:\n",
    "    print(i)"
   ]
  },
  {
   "cell_type": "code",
   "execution_count": null,
   "metadata": {},
   "outputs": [],
   "source": [
    "##------------------------------------------------------------------"
   ]
  },
  {
   "cell_type": "code",
   "execution_count": 38,
   "metadata": {},
   "outputs": [
    {
     "name": "stdout",
     "output_type": "stream",
     "text": [
      "[16.252776516049828, 19.70314039893206, 4.414916853226545, 3.0357098650207432, 1.6034129964049364, -0.08264259569634058, -0.07212432175690564, 0.9609066753581361, 0.0, -0.008804630377731826]\n",
      "\n",
      "[30.084810827502174, 151.62865504965998, 111.03931566210608, 43.90048763860746, 16.85484444822777, 8.271492731185546, 4.829256825653858, 2.5025045208168826, 1.2736534180956065, 0.5006552407172141]\n"
     ]
    }
   ],
   "source": [
    "with open('nue_full_500_catsel_nopions_recoE_usingSelection_data_signal.csv') as file:\n",
    "    content = file.readlines()\n",
    "data_signal = content[0:]\n",
    "    \n",
    "for i in range(10):\n",
    "    data_signal[i]=data_signal[i].rstrip().rstrip(',')\n",
    "    data_signal[i] = float(data_signal[i])\n",
    "    \n",
    "print(data_signal)\n",
    "print(\"\")\n",
    "#------------------------------------------------------------------------------\n",
    "with open('nue_full_500_catsel_nopions_recoE_usingSelection_prior_true_signal.csv') as file:\n",
    "    content = file.readlines()\n",
    "prior_truth_signal = content[0:]\n",
    "    \n",
    "for i in range(10):\n",
    "    prior_truth_signal[i]=prior_truth_signal[i].rstrip().rstrip(',')\n",
    "    prior_truth_signal[i] = float(prior_truth_signal[i])\n",
    "    \n",
    "print(prior_truth_signal)"
   ]
  },
  {
   "cell_type": "code",
   "execution_count": 44,
   "metadata": {},
   "outputs": [
    {
     "name": "stdout",
     "output_type": "stream",
     "text": [
      "(array([[ 5., nan, nan],\n",
      "       [nan, nan, nan],\n",
      "       [ 1., nan, nan]]), array([  0,  50, 100, 150]), array([  0,  50, 100, 150]), <matplotlib.collections.QuadMesh object at 0x7f148b2f3970>)\n"
     ]
    },
    {
     "data": {
      "image/png": "[encoded data removed]",
      "text/plain": [
       "<Figure size 432x288 with 1 Axes>"
      ]
     },
     "metadata": {
      "needs_background": "light"
     },
     "output_type": "display_data"
    }
   ],
   "source": [
    "bins = np.arange(0, 200, 50)\n",
    "\n",
    "smear = plt.hist2d(prior_truth_signal,data_signal,\n",
    "                   bins, cmin=0.000000001, cmap='OrRd')\n",
    "\n",
    "print(smear)"
   ]
  },
  {
   "cell_type": "code",
   "execution_count": 45,
   "metadata": {},
   "outputs": [],
   "source": [
    "##--------------------------------------------------"
   ]
  },
  {
   "cell_type": "code",
   "execution_count": 76,
   "metadata": {
    "scrolled": false
   },
   "outputs": [
    {
     "name": "stdout",
     "output_type": "stream",
     "text": [
      "5998\n",
      "40087\n"
     ]
    },
    {
     "ename": "ValueError",
     "evalue": "x and y must have the same length.",
     "output_type": "error",
     "traceback": [
      "\u001b[0;31m---------------------------------------------------------------------------\u001b[0m",
      "\u001b[0;31mValueError\u001b[0m                                Traceback (most recent call last)",
      "\u001b[0;32m/tmp/ipykernel_6878/3023912782.py\u001b[0m in \u001b[0;36m<module>\u001b[0;34m\u001b[0m\n\u001b[1;32m    212\u001b[0m \u001b[0mbins\u001b[0m \u001b[0;34m=\u001b[0m \u001b[0mnp\u001b[0m\u001b[0;34m.\u001b[0m\u001b[0marange\u001b[0m\u001b[0;34m(\u001b[0m\u001b[0;36m0\u001b[0m\u001b[0;34m,\u001b[0m \u001b[0;36m5.5\u001b[0m\u001b[0;34m,\u001b[0m \u001b[0;36m0.5\u001b[0m\u001b[0;34m)\u001b[0m\u001b[0;34m\u001b[0m\u001b[0;34m\u001b[0m\u001b[0m\n\u001b[1;32m    213\u001b[0m \u001b[0;34m\u001b[0m\u001b[0m\n\u001b[0;32m--> 214\u001b[0;31m smear = plt.hist2d(nue_nue_vars_tot_truth['11'][0],varss_tot[0]['11'],\n\u001b[0m\u001b[1;32m    215\u001b[0m                    bins, cmin=0.000000001, cmap='OrRd', weights = (nue_nue_weights_tot_truth['11'][0],weightss_tot[0]['11']))\n",
      "\u001b[0;32m~/miniconda3/envs/vintageXgboostVintageUprootEnv/lib/python3.8/site-packages/matplotlib/pyplot.py\u001b[0m in \u001b[0;36mhist2d\u001b[0;34m(x, y, bins, range, density, weights, cmin, cmax, data, **kwargs)\u001b[0m\n\u001b[1;32m   2649\u001b[0m         \u001b[0mx\u001b[0m\u001b[0;34m,\u001b[0m \u001b[0my\u001b[0m\u001b[0;34m,\u001b[0m \u001b[0mbins\u001b[0m\u001b[0;34m=\u001b[0m\u001b[0;36m10\u001b[0m\u001b[0;34m,\u001b[0m \u001b[0mrange\u001b[0m\u001b[0;34m=\u001b[0m\u001b[0;32mNone\u001b[0m\u001b[0;34m,\u001b[0m \u001b[0mdensity\u001b[0m\u001b[0;34m=\u001b[0m\u001b[0;32mFalse\u001b[0m\u001b[0;34m,\u001b[0m \u001b[0mweights\u001b[0m\u001b[0;34m=\u001b[0m\u001b[0;32mNone\u001b[0m\u001b[0;34m,\u001b[0m\u001b[0;34m\u001b[0m\u001b[0;34m\u001b[0m\u001b[0m\n\u001b[1;32m   2650\u001b[0m         cmin=None, cmax=None, *, data=None, **kwargs):\n\u001b[0;32m-> 2651\u001b[0;31m     __ret = gca().hist2d(\n\u001b[0m\u001b[1;32m   2652\u001b[0m         \u001b[0mx\u001b[0m\u001b[0;34m,\u001b[0m \u001b[0my\u001b[0m\u001b[0;34m,\u001b[0m \u001b[0mbins\u001b[0m\u001b[0;34m=\u001b[0m\u001b[0mbins\u001b[0m\u001b[0;34m,\u001b[0m \u001b[0mrange\u001b[0m\u001b[0;34m=\u001b[0m\u001b[0mrange\u001b[0m\u001b[0;34m,\u001b[0m \u001b[0mdensity\u001b[0m\u001b[0;34m=\u001b[0m\u001b[0mdensity\u001b[0m\u001b[0;34m,\u001b[0m\u001b[0;34m\u001b[0m\u001b[0;34m\u001b[0m\u001b[0m\n\u001b[1;32m   2653\u001b[0m         weights=weights, cmin=cmin, cmax=cmax, **({\"data\": data} if\n",
      "\u001b[0;32m~/miniconda3/envs/vintageXgboostVintageUprootEnv/lib/python3.8/site-packages/matplotlib/__init__.py\u001b[0m in \u001b[0;36minner\u001b[0;34m(ax, data, *args, **kwargs)\u001b[0m\n\u001b[1;32m   1597\u001b[0m     \u001b[0;32mdef\u001b[0m \u001b[0minner\u001b[0m\u001b[0;34m(\u001b[0m\u001b[0max\u001b[0m\u001b[0;34m,\u001b[0m \u001b[0;34m*\u001b[0m\u001b[0margs\u001b[0m\u001b[0;34m,\u001b[0m \u001b[0mdata\u001b[0m\u001b[0;34m=\u001b[0m\u001b[0;32mNone\u001b[0m\u001b[0;34m,\u001b[0m \u001b[0;34m**\u001b[0m\u001b[0mkwargs\u001b[0m\u001b[0;34m)\u001b[0m\u001b[0;34m:\u001b[0m\u001b[0;34m\u001b[0m\u001b[0;34m\u001b[0m\u001b[0m\n\u001b[1;32m   1598\u001b[0m         \u001b[0;32mif\u001b[0m \u001b[0mdata\u001b[0m \u001b[0;32mis\u001b[0m \u001b[0;32mNone\u001b[0m\u001b[0;34m:\u001b[0m\u001b[0;34m\u001b[0m\u001b[0;34m\u001b[0m\u001b[0m\n\u001b[0;32m-> 1599\u001b[0;31m             \u001b[0;32mreturn\u001b[0m \u001b[0mfunc\u001b[0m\u001b[0;34m(\u001b[0m\u001b[0max\u001b[0m\u001b[0;34m,\u001b[0m \u001b[0;34m*\u001b[0m\u001b[0mmap\u001b[0m\u001b[0;34m(\u001b[0m\u001b[0msanitize_sequence\u001b[0m\u001b[0;34m,\u001b[0m \u001b[0margs\u001b[0m\u001b[0;34m)\u001b[0m\u001b[0;34m,\u001b[0m \u001b[0;34m**\u001b[0m\u001b[0mkwargs\u001b[0m\u001b[0;34m)\u001b[0m\u001b[0;34m\u001b[0m\u001b[0;34m\u001b[0m\u001b[0m\n\u001b[0m\u001b[1;32m   1600\u001b[0m \u001b[0;34m\u001b[0m\u001b[0m\n\u001b[1;32m   1601\u001b[0m         \u001b[0mbound\u001b[0m \u001b[0;34m=\u001b[0m \u001b[0mnew_sig\u001b[0m\u001b[0;34m.\u001b[0m\u001b[0mbind\u001b[0m\u001b[0;34m(\u001b[0m\u001b[0max\u001b[0m\u001b[0;34m,\u001b[0m \u001b[0;34m*\u001b[0m\u001b[0margs\u001b[0m\u001b[0;34m,\u001b[0m \u001b[0;34m**\u001b[0m\u001b[0mkwargs\u001b[0m\u001b[0;34m)\u001b[0m\u001b[0;34m\u001b[0m\u001b[0;34m\u001b[0m\u001b[0m\n",
      "\u001b[0;32m~/miniconda3/envs/vintageXgboostVintageUprootEnv/lib/python3.8/site-packages/matplotlib/cbook/deprecation.py\u001b[0m in \u001b[0;36mwrapper\u001b[0;34m(*args, **kwargs)\u001b[0m\n\u001b[1;32m    305\u001b[0m                 f\"for the old name will be dropped %(removal)s.\")\n\u001b[1;32m    306\u001b[0m             \u001b[0mkwargs\u001b[0m\u001b[0;34m[\u001b[0m\u001b[0mnew\u001b[0m\u001b[0;34m]\u001b[0m \u001b[0;34m=\u001b[0m \u001b[0mkwargs\u001b[0m\u001b[0;34m.\u001b[0m\u001b[0mpop\u001b[0m\u001b[0;34m(\u001b[0m\u001b[0mold\u001b[0m\u001b[0;34m)\u001b[0m\u001b[0;34m\u001b[0m\u001b[0;34m\u001b[0m\u001b[0m\n\u001b[0;32m--> 307\u001b[0;31m         \u001b[0;32mreturn\u001b[0m \u001b[0mfunc\u001b[0m\u001b[0;34m(\u001b[0m\u001b[0;34m*\u001b[0m\u001b[0margs\u001b[0m\u001b[0;34m,\u001b[0m \u001b[0;34m**\u001b[0m\u001b[0mkwargs\u001b[0m\u001b[0;34m)\u001b[0m\u001b[0;34m\u001b[0m\u001b[0;34m\u001b[0m\u001b[0m\n\u001b[0m\u001b[1;32m    308\u001b[0m \u001b[0;34m\u001b[0m\u001b[0m\n\u001b[1;32m    309\u001b[0m     \u001b[0;31m# wrapper() must keep the same documented signature as func(): if we\u001b[0m\u001b[0;34m\u001b[0m\u001b[0;34m\u001b[0m\u001b[0;34m\u001b[0m\u001b[0m\n",
      "\u001b[0;32m~/miniconda3/envs/vintageXgboostVintageUprootEnv/lib/python3.8/site-packages/matplotlib/axes/_axes.py\u001b[0m in \u001b[0;36mhist2d\u001b[0;34m(self, x, y, bins, range, density, weights, cmin, cmax, **kwargs)\u001b[0m\n\u001b[1;32m   7072\u001b[0m         \"\"\"\n\u001b[1;32m   7073\u001b[0m \u001b[0;34m\u001b[0m\u001b[0m\n\u001b[0;32m-> 7074\u001b[0;31m         h, xedges, yedges = np.histogram2d(x, y, bins=bins, range=range,\n\u001b[0m\u001b[1;32m   7075\u001b[0m                                            normed=density, weights=weights)\n\u001b[1;32m   7076\u001b[0m \u001b[0;34m\u001b[0m\u001b[0m\n",
      "\u001b[0;32m~/miniconda3/envs/vintageXgboostVintageUprootEnv/lib/python3.8/site-packages/numpy/core/overrides.py\u001b[0m in \u001b[0;36mhistogram2d\u001b[0;34m(*args, **kwargs)\u001b[0m\n",
      "\u001b[0;32m~/miniconda3/envs/vintageXgboostVintageUprootEnv/lib/python3.8/site-packages/numpy/lib/twodim_base.py\u001b[0m in \u001b[0;36mhistogram2d\u001b[0;34m(x, y, bins, range, normed, weights, density)\u001b[0m\n\u001b[1;32m    807\u001b[0m \u001b[0;34m\u001b[0m\u001b[0m\n\u001b[1;32m    808\u001b[0m     \u001b[0;32mif\u001b[0m \u001b[0mlen\u001b[0m\u001b[0;34m(\u001b[0m\u001b[0mx\u001b[0m\u001b[0;34m)\u001b[0m \u001b[0;34m!=\u001b[0m \u001b[0mlen\u001b[0m\u001b[0;34m(\u001b[0m\u001b[0my\u001b[0m\u001b[0;34m)\u001b[0m\u001b[0;34m:\u001b[0m\u001b[0;34m\u001b[0m\u001b[0;34m\u001b[0m\u001b[0m\n\u001b[0;32m--> 809\u001b[0;31m         \u001b[0;32mraise\u001b[0m \u001b[0mValueError\u001b[0m\u001b[0;34m(\u001b[0m\u001b[0;34m'x and y must have the same length.'\u001b[0m\u001b[0;34m)\u001b[0m\u001b[0;34m\u001b[0m\u001b[0;34m\u001b[0m\u001b[0m\n\u001b[0m\u001b[1;32m    810\u001b[0m \u001b[0;34m\u001b[0m\u001b[0m\n\u001b[1;32m    811\u001b[0m     \u001b[0;32mtry\u001b[0m\u001b[0;34m:\u001b[0m\u001b[0;34m\u001b[0m\u001b[0;34m\u001b[0m\u001b[0m\n",
      "\u001b[0;31mValueError\u001b[0m: x and y must have the same length."
     ]
    },
    {
     "data": {
      "image/png": "[encoded data removed]",
      "text/plain": [
       "<Figure size 432x288 with 1 Axes>"
      ]
     },
     "metadata": {
      "needs_background": "light"
     },
     "output_type": "display_data"
    }
   ],
   "source": [
    "#prior_truth_signal\n",
    "\n",
    "nue_nue_vars_tot_df_truth = pd.read_csv(\"nue_nue_varstot_full_catsel_nopions_trueE.csv\")\n",
    "nue_nue_weights_tot_df_truth = pd.read_csv(\"nue_nue_weightstot_full_catsel_nopions_trueE.csv\")\n",
    "\n",
    "nue_nue_vars_tot_truth = defaultdict(list)\n",
    "nue_nue_weights_tot_truth = defaultdict(list)\n",
    "\n",
    "\n",
    "nue_nue_vars_tot_truth = nue_nue_vars_tot_df_truth.to_dict()\n",
    "nue_nue_weights_tot_truth = nue_nue_weights_tot_df_truth.to_dict()\n",
    "nue_nue_vars_tot_truth.pop(\"Unnamed: 0\")\n",
    "nue_nue_weights_tot_truth.pop(\"Unnamed: 0\")\n",
    "\n",
    "poplist = []\n",
    "\n",
    "for c in nue_nue_vars_tot_truth.keys():\n",
    "    if len(nue_nue_weights_tot_truth[c][0]) > 2:\n",
    "        nue_nue_weights_tot_truth[c][0] = nue_nue_weights_tot_truth[c][0][1:]\n",
    "        nue_nue_weights_tot_truth[c][0] = nue_nue_weights_tot_truth[c][0][:-1]\n",
    "        nue_nue_weights_tot_truth[c][0] = list(map(float,nue_nue_weights_tot_truth[c][0].split(\",\")))\n",
    "    else:\n",
    "        poplist.append(c)\n",
    "        \n",
    "for c in nue_nue_vars_tot_truth.keys():\n",
    "    if len(nue_nue_vars_tot_truth[c][0]) > 2:\n",
    "        nue_nue_vars_tot_truth[c][0] = nue_nue_vars_tot_truth[c][0][1:]\n",
    "        nue_nue_vars_tot_truth[c][0] = nue_nue_vars_tot_truth[c][0][:-1]\n",
    "        nue_nue_vars_tot_truth[c][0] = list(map(float,nue_nue_vars_tot_truth[c][0].split(\",\")))\n",
    "        \n",
    "for i in poplist:\n",
    "    nue_nue_vars_tot_truth.pop(i)\n",
    "    nue_nue_weights_tot_truth.pop(i)\n",
    "    \n",
    "#------------------------------------------------------------------------\n",
    "\n",
    "#data_signal\n",
    "\n",
    "nue_nue_vars_tot_df = pd.read_csv(\"nue_nue_varstot_full_catsel_nopions_recoE_usingSelection.csv\")\n",
    "nue_nue_weights_tot_df = pd.read_csv(\"nue_nue_weightstot_full_catsel_nopions_recoE_usingSelection.csv\")\n",
    "\n",
    "nue_nue_vars_tot = defaultdict(list)\n",
    "nue_nue_weights_tot = defaultdict(list)\n",
    "\n",
    "\n",
    "nue_nue_vars_tot = nue_nue_vars_tot_df.to_dict()\n",
    "nue_nue_weights_tot = nue_nue_weights_tot_df.to_dict()\n",
    "nue_nue_vars_tot.pop(\"Unnamed: 0\")\n",
    "nue_nue_weights_tot.pop(\"Unnamed: 0\")\n",
    "\n",
    "poplist = []\n",
    "\n",
    "for c in nue_nue_vars_tot.keys():\n",
    "    if len(nue_nue_weights_tot[c][0]) > 2:\n",
    "        nue_nue_weights_tot[c][0] = nue_nue_weights_tot[c][0][1:]\n",
    "        nue_nue_weights_tot[c][0] = nue_nue_weights_tot[c][0][:-1]\n",
    "        nue_nue_weights_tot[c][0] = list(map(float,nue_nue_weights_tot[c][0].split(\",\")))\n",
    "    else:\n",
    "        poplist.append(c)\n",
    "        \n",
    "for c in nue_nue_vars_tot.keys():\n",
    "    if len(nue_nue_vars_tot[c][0]) > 2:\n",
    "        nue_nue_vars_tot[c][0] = nue_nue_vars_tot[c][0][1:]\n",
    "        nue_nue_vars_tot[c][0] = nue_nue_vars_tot[c][0][:-1]\n",
    "        nue_nue_vars_tot[c][0] = list(map(float,nue_nue_vars_tot[c][0].split(\",\")))\n",
    "        \n",
    "for i in poplist:\n",
    "    nue_nue_vars_tot.pop(i)\n",
    "    nue_nue_weights_tot.pop(i)\n",
    "    \n",
    "###############################################################\n",
    "\n",
    "nue_mc_vars_tot_df = pd.read_csv(\"nue_mc_varstot_full_catsel_nopions_recoE_usingSelection.csv\")\n",
    "nue_mc_weights_tot_df = pd.read_csv(\"nue_mc_weightstot_full_catsel_nopions_recoE_usingSelection.csv\")\n",
    "\n",
    "nue_mc_vars_tot = defaultdict(list)\n",
    "nue_mc_weights_tot = defaultdict(list)\n",
    "\n",
    "\n",
    "nue_mc_vars_tot = nue_mc_vars_tot_df.to_dict()\n",
    "nue_mc_weights_tot = nue_mc_weights_tot_df.to_dict()\n",
    "nue_mc_vars_tot.pop(\"Unnamed: 0\")\n",
    "nue_mc_weights_tot.pop(\"Unnamed: 0\")\n",
    "\n",
    "poplist = []\n",
    "\n",
    "for c in nue_mc_vars_tot.keys():\n",
    "    if len(nue_mc_weights_tot[c][0]) > 2:\n",
    "        nue_mc_weights_tot[c][0] = nue_mc_weights_tot[c][0][1:]\n",
    "        nue_mc_weights_tot[c][0] = nue_mc_weights_tot[c][0][:-1]\n",
    "        nue_mc_weights_tot[c][0] = list(map(float,nue_mc_weights_tot[c][0].split(\",\")))\n",
    "    else:\n",
    "        poplist.append(c)\n",
    "        \n",
    "for c in nue_mc_vars_tot.keys():\n",
    "    if len(nue_mc_vars_tot[c][0]) > 2:\n",
    "        nue_mc_vars_tot[c][0] = nue_mc_vars_tot[c][0][1:]\n",
    "        nue_mc_vars_tot[c][0] = nue_mc_vars_tot[c][0][:-1]\n",
    "        nue_mc_vars_tot[c][0] = list(map(float,nue_mc_vars_tot[c][0].split(\",\")))\n",
    "        \n",
    "for i in poplist:\n",
    "    nue_mc_vars_tot.pop(i)\n",
    "    nue_mc_weights_tot.pop(i)\n",
    "    \n",
    "###############################################################\n",
    "\n",
    "nue_dirt_vars_tot_df = pd.read_csv(\"nue_dirt_varstot_full_catsel_nopions_recoE_usingSelection.csv\")\n",
    "nue_dirt_weights_tot_df = pd.read_csv(\"nue_dirt_weightstot_full_catsel_nopions_recoE_usingSelection.csv\")\n",
    "\n",
    "nue_dirt_vars_tot = defaultdict(list)\n",
    "nue_dirt_weights_tot = defaultdict(list)\n",
    "\n",
    "\n",
    "nue_dirt_vars_tot = nue_dirt_vars_tot_df.to_dict()\n",
    "nue_dirt_weights_tot = nue_dirt_weights_tot_df.to_dict()\n",
    "nue_dirt_vars_tot.pop(\"Unnamed: 0\")\n",
    "nue_dirt_weights_tot.pop(\"Unnamed: 0\")\n",
    "\n",
    "#print(nue_dirt_vars_tot[c][0])\n",
    "\n",
    "poplist = []\n",
    "\n",
    "for c in nue_dirt_vars_tot.keys():\n",
    "    if len(nue_dirt_weights_tot[c][0]) > 2:\n",
    "        nue_dirt_weights_tot[c][0] = nue_dirt_weights_tot[c][0][1:]\n",
    "        nue_dirt_weights_tot[c][0] = nue_dirt_weights_tot[c][0][:-1]\n",
    "        nue_dirt_weights_tot[c][0] = list(map(float,nue_dirt_weights_tot[c][0].split(\",\")))\n",
    "    else:\n",
    "        poplist.append(c)\n",
    "        \n",
    "for c in nue_dirt_vars_tot.keys():\n",
    "    if len(nue_dirt_vars_tot[c][0]) > 2:\n",
    "        nue_dirt_vars_tot[c][0] = nue_dirt_vars_tot[c][0][1:]\n",
    "        nue_dirt_vars_tot[c][0] = nue_dirt_vars_tot[c][0][:-1]\n",
    "        nue_dirt_vars_tot[c][0] = list(map(float,nue_dirt_vars_tot[c][0].split(\",\")))\n",
    "        \n",
    "for i in poplist:\n",
    "    nue_dirt_vars_tot.pop(i)\n",
    "    nue_dirt_weights_tot.pop(i)\n",
    "\n",
    "########################################\n",
    "pup = list(nue_nue_vars_tot.values())\n",
    "\n",
    "i = 0\n",
    "for c in nue_nue_vars_tot.keys():\n",
    "    nue_nue_vars_tot[str(c)] = pup[i][0]\n",
    "    i = i + 1\n",
    "    \n",
    "pup2 = list(nue_nue_weights_tot.values())\n",
    "\n",
    "i = 0\n",
    "for c in nue_nue_weights_tot.keys():\n",
    "    nue_nue_weights_tot[str(c)] = pup2[i][0]\n",
    "    i = i + 1\n",
    "############################################# \n",
    "pup = list(nue_mc_vars_tot.values())\n",
    "\n",
    "i = 0\n",
    "for c in nue_mc_vars_tot.keys():\n",
    "    nue_mc_vars_tot[str(c)] = pup[i][0]\n",
    "    i = i + 1\n",
    "    \n",
    "pup2 = list(nue_mc_weights_tot.values())\n",
    "\n",
    "i = 0\n",
    "for c in nue_mc_weights_tot.keys():\n",
    "    nue_mc_weights_tot[str(c)] = pup2[i][0]\n",
    "    i = i + 1\n",
    "############################################# \n",
    "pup = list(nue_dirt_vars_tot.values())\n",
    "\n",
    "i = 0\n",
    "for c in nue_dirt_vars_tot.keys():\n",
    "    nue_dirt_vars_tot[str(c)] = pup[i][0]\n",
    "    i = i + 1\n",
    "    \n",
    "pup2 = list(nue_dirt_weights_tot.values())\n",
    "\n",
    "i = 0\n",
    "for c in nue_dirt_weights_tot.keys():\n",
    "    nue_dirt_weights_tot[str(c)] = pup2[i][0]\n",
    "    i = i + 1\n",
    "############################################# \n",
    "\n",
    "def mergeDictionary(dict_1, dict_2):\n",
    "    dict_3 = {**dict_1, **dict_2}\n",
    "    for key, value in dict_3.items():\n",
    "        if key in dict_1 and key in dict_2:\n",
    "                dict_3[key] = value + dict_1[key]\n",
    "    return dict_3\n",
    "\n",
    "def combine_dicts(mydict):\n",
    "    while len(mydict) > 1:\n",
    "        i = 0\n",
    "        dict_3 = mergeDictionary(mydict[i], mydict[i+1]) \n",
    "        mydict.pop(0)\n",
    "        mydict[0] = dict_3\n",
    "    return mydict\n",
    "    \n",
    "varss = [nue_nue_vars_tot, nue_mc_vars_tot, nue_dirt_vars_tot]\n",
    "weightss = [nue_nue_weights_tot, nue_mc_weights_tot, nue_dirt_weights_tot]\n",
    "varss_tot = combine_dicts(varss)\n",
    "weightss_tot = combine_dicts(weightss)\n",
    "\n",
    "print(len(varss_tot[0]['11']))\n",
    "#print((weightss_tot[0]['11']))\n",
    "\n",
    "print(len(nue_nue_vars_tot_truth['11'][0]))\n",
    "\n",
    "###########################################################################\n",
    "\n",
    "bins = np.arange(0, 5.5, 0.5)\n",
    "\n",
    "smear = plt.hist2d(nue_nue_vars_tot_truth['11'][0],varss_tot[0]['11'],\n",
    "                   bins, cmin=0.000000001, cmap='OrRd', weights = (nue_nue_weights_tot_truth['11'][0],weightss_tot[0]['11']))\n"
   ]
  },
  {
   "cell_type": "code",
   "execution_count": null,
   "metadata": {},
   "outputs": [],
   "source": []
  }
 ],
 "metadata": {
  "accelerator": "GPU",
  "colab": {
   "name": "Plotter.ipynb",
   "provenance": [],
   "version": "0.3.2"
  },
  "kernelspec": {
   "display_name": "Python 3 (ipykernel)",
   "language": "python",
   "name": "python3"
  },
  "language_info": {
   "codemirror_mode": {
    "name": "ipython",
    "version": 3
   },
   "file_extension": ".py",
   "mimetype": "text/x-python",
   "name": "python",
   "nbconvert_exporter": "python",
   "pygments_lexer": "ipython3",
   "version": "3.8.12"
  }
 },
 "nbformat": 4,
 "nbformat_minor": 2
}
