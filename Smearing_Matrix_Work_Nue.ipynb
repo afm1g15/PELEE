{
 "cells": [
  {
   "cell_type": "markdown",
   "metadata": {},
   "source": [
    "## NuMI Analysis: Nue Smearing\n",
    "\n",
    "#### Get the smearing matix for nue"
   ]
  },
  {
   "cell_type": "markdown",
   "metadata": {},
   "source": [
    "First, setup."
   ]
  },
  {
   "cell_type": "code",
   "execution_count": 14,
   "metadata": {
    "colab": {
     "base_uri": "https://localhost:8080/",
     "height": 34
    },
    "colab_type": "code",
    "executionInfo": {
     "elapsed": 517,
     "status": "ok",
     "timestamp": 1560556807118,
     "user": {
      "displayName": "Stefano Roberto Soleti",
      "photoUrl": "https://lh4.googleusercontent.com/-hfLpspJu4Q0/AAAAAAAAAAI/AAAAAAAABmA/2kE4rtj8paU/s64/photo.jpg",
      "userId": "10372352518008961760"
     },
     "user_tz": 240
    },
    "id": "6qsD0G-yYJ9K",
    "outputId": "5d52a3ec-50be-44fc-da44-3c0593e98bc6"
   },
   "outputs": [
    {
     "name": "stdout",
     "output_type": "stream",
     "text": [
      "/home/alex/NuMI/PELEE/\n"
     ]
    }
   ],
   "source": [
    "import pandas as pd\n",
    "import matplotlib.pyplot as plt\n",
    "import matplotlib\n",
    "import sys\n",
    "import localSettings as ls\n",
    "import math\n",
    "print(ls.main_path)\n",
    "import load_data_run123\n",
    "import plotter_alex\n",
    "import importlib\n",
    "importlib.reload(plotter_alex)\n",
    "import uproot\n",
    "import matplotlib.pylab as pylab\n",
    "import numpy as np\n",
    "import math\n",
    "from sklearn.model_selection import train_test_split\n",
    "import pickle\n",
    "import xgboost as xgb\n",
    "import nue_booster \n",
    "importlib.reload(nue_booster)\n",
    "import awkward\n",
    "from collections import defaultdict\n",
    "\n",
    "main_path = ls.main_path\n",
    "sys.path.append(main_path)"
   ]
  },
  {
   "cell_type": "code",
   "execution_count": 15,
   "metadata": {},
   "outputs": [],
   "source": [
    "import NuMIGeoWeights\n",
    "import importlib\n",
    "importlib.reload(NuMIGeoWeights)\n",
    "numiBeamlineGeoWeights = NuMIGeoWeights.NuMIGeoWeights()"
   ]
  },
  {
   "cell_type": "code",
   "execution_count": 16,
   "metadata": {},
   "outputs": [],
   "source": [
    "params = {\n",
    "    'axes.labelsize': 'x-large',\n",
    "    'axes.titlesize': 'x-large',\n",
    "    'xtick.labelsize': 'x-large',\n",
    "    'ytick.labelsize': 'x-large'\n",
    "}\n",
    "pylab.rcParams.update(params)"
   ]
  },
  {
   "cell_type": "markdown",
   "metadata": {},
   "source": [
    "Now get some data."
   ]
  },
  {
   "cell_type": "code",
   "execution_count": 17,
   "metadata": {
    "colab": {},
    "colab_type": "code",
    "id": "iwoCIaigYJ9N"
   },
   "outputs": [
    {
     "name": "stdout",
     "output_type": "stream",
     "text": [
      "['shrmoliereavg', 'shr_energy', 'shr_phi', 'sub', 'ccnc', 'tksh_angle', 'shr_theta', 'shr_tkfit_dedx_U', 'nu_pdg', 'n_showers', 'nproton', 'slnunhits', 'n_tracks', 'n_tracks_contained', 'tksh_distance', 'reco_nu_vtx_sce_x', 'category', 'npion', 'trk_energy', 'shr_py', 'selected', 'shr_energy_cali', 'shr_tkfit_nhits_V', 'shr_pz', 'shr_tkfit_dedx_V', 'trk_score_v', 'CosmicIPAll3D', 'shrsubclusters2', 'shr_tkfit_nhits_U', 'trk_energy_tot', 'hits_ratio', 'reco_nu_vtx_sce_z', 'shr_tkfit_dedx_Y', 'shr_distance', 'n_showers_contained', 'shrsubclusters0', 'contained_fraction', 'evt', 'shr_energy_tot_cali', 'topological_score', 'slnhits', 'flash_time', 'reco_nu_vtx_sce_y', 'shr_score', 'trkshrhitdist2', 'shr_tkfit_nhits_Y', 'shr_px', 'shr_tkfit_npoints', 'shrsubclusters1', 'run', 'nslice']\n"
     ]
    }
   ],
   "source": [
    "# Name of the TTree in the PeLEE Ntuples\n",
    "tree = \"NeutrinoSelectionFilter\"\n",
    "\n",
    "#cut samples\n",
    "#NUE  = '/pre_samp/prodgenie_numi_nue_overlay_mcc9_v08_00_00_48_CV_reco2_run1_reco2'+ls.APPEND #newTune\n",
    "#full sample\n",
    "NUE  = '/neutrinoselection_filt_run1_overlay_intrinsic'+ls.APPEND #newTune\n",
    "\n",
    "#actually fetch datasets\n",
    "nue_nue  = uproot.open(ls.ntuple_path+NUE+\".root\")[ls.fold][tree]\n",
    "\n",
    "# Define a list that contains the data sets\n",
    "uproot_v = [nue_nue]\n",
    "\n",
    "nue_variables = [\"run\", \"sub\", \"evt\",              \n",
    "             \"trk_score_v\", \"topological_score\", \"shr_score\",\n",
    "            \"reco_nu_vtx_sce_x\", \"reco_nu_vtx_sce_y\", \"reco_nu_vtx_sce_z\", \"shr_tkfit_npoints\",\n",
    "            \"CosmicIPAll3D\", \"hits_ratio\", \"contained_fraction\",\n",
    "            \"shrmoliereavg\", \"shr_tkfit_dedx_U\",\"shr_tkfit_dedx_V\",\"shr_tkfit_dedx_Y\",\n",
    "            \"shr_energy\", \"category\", \"slnunhits\", \"slnhits\", \"flash_time\", \"nu_pdg\", \"ccnc\",\n",
    "             \"selected\", \"nslice\", \"shr_distance\", \"shr_theta\", \"shr_phi\",\n",
    "            \"shr_tkfit_nhits_U\", \"shr_tkfit_nhits_V\", \"shr_tkfit_nhits_Y\", \"n_tracks_contained\",\n",
    "            \"n_showers\", \"n_tracks\", \"shr_energy_cali\", \"n_showers_contained\", \"tksh_distance\", \"tksh_angle\",\n",
    "             \"trkshrhitdist2\", 'shrsubclusters0', 'shrsubclusters1', 'shrsubclusters2',\n",
    "             \"shr_energy_tot_cali\", 'trk_energy_tot', 'nproton', 'npion', 'trk_energy', 'shr_px', 'shr_py', 'shr_pz']\n",
    "\n",
    "\n",
    "# These are examples of variables present in MC samples only\n",
    "nue_varMC = [\"nu_e\", \"true_pt\",\"true_pt_visible\",\"true_p\",\"true_p_visible\",\"true_nu_vtx_t\",\"true_nu_vtx_x\",\"true_nu_vtx_y\",\"true_nu_vtx_z\",\"true_nu_vtx_sce_x\",\"true_nu_vtx_sce_y\",\"true_nu_vtx_sce_z\\\n",
    "\",\"true_nu_px\",\"true_nu_py\",\"true_nu_pz\", \"mc_pdg\", \"mc_px\", \"mc_py\", \"mc_pz\"]\n",
    "\n",
    "#make the list unique (sometimes you repeat the variable name in the list, this takes care of that)\n",
    "nue_variables = list(set(nue_variables))\n",
    "print(nue_variables)\n",
    "\n",
    "\n",
    "\n",
    "# These weights are needed to correctly calculate the CV for the MC    \n",
    "WEIGHTS     = [\"weightSpline\",\"weightTune\",\"weightSplineTimesTune\",\"ppfx_cv\"]\n",
    "# These weights are needed to calculate the Flux, GENIE and Geant4 Systematics. \n",
    "# For NuMI weightsFlux should always be 1 (cause that's relevant for BNB).\n",
    "SYSTEMATICS = ['weightsFlux','weightsGenie','weightsReint'] \n",
    "PPFX        = ['weightsPPFX'] \n",
    "\n",
    "\n",
    "\n",
    "WEIGHTSLEE = [\"weightSpline\",\"weightTune\",\"weightSplineTimesTune\", \"leeweight\"]#, \"weightsGenie\", \"weightsFlux\", \"weightsReint\"]\n",
    "MCFVARS    = [\"mcf_nu_e\",\"mcf_lep_e\",\"mcf_actvol\",\"mcf_nmm\",\"mcf_nmp\",\"mcf_nem\",\"mcf_nep\",\"mcf_np0\",\"mcf_npp\",\n",
    "              \"mcf_npm\",\"mcf_mcshr_elec_etot\",\"mcf_pass_ccpi0\",\"mcf_pass_ncpi0\",\n",
    "              \"mcf_pass_ccnopi\",\"mcf_pass_ncnopi\",\"mcf_pass_cccpi\",\"mcf_pass_nccpi\"]\n",
    "\n",
    "nue_nue  = nue_nue.pandas.df(nue_variables + WEIGHTS + MCFVARS + SYSTEMATICS + PPFX+nue_varMC, flatten=False)"
   ]
  },
  {
   "cell_type": "markdown",
   "metadata": {},
   "source": [
    "The following cell allows us to reload original data event weights. No weights have been added to data or ext so these are not included."
   ]
  },
  {
   "cell_type": "code",
   "execution_count": 18,
   "metadata": {},
   "outputs": [],
   "source": [
    "# In the next cell, we are going to play with the value of the event weights. \n",
    "# Let's store the original ones in some \"safe variable\" in this cell first.\n",
    "# So if we screw up, we don't have to re-load the humongous TTree: we'll have the original weights safely stored here\n",
    "df_v = [nue_nue]\n",
    "#removeGenieTune = False\n",
    "for i,df in enumerate(df_v):\n",
    "    df[ 'currentweightsafe' ] = df['weightSplineTimesTune']\n",
    "    df[ 'currentweight' ] = df['weightSplineTimesTune']\n",
    "    \n",
    "#BDT"
   ]
  },
  {
   "cell_type": "code",
   "execution_count": 19,
   "metadata": {},
   "outputs": [],
   "source": [
    "# Let's calculate the weights that we need to apply to the individual MC events \n",
    "# to become our best model of the NuMI data. \n",
    "# This cell calculates the GENIE Tune * PPFX correction to the MC weights and \n",
    "# cleans up extremely high (or low) weight scores (may be due to computational errors).\n",
    "# The clean up is not the best practice (one should dig and understand why the weight are big/negative): \n",
    "# it's a cheat until we figure out the next best thing. Life is not perfect and your analysis won't be either. Please enojy LArbys\n",
    "\n",
    "constructNuMISys = True\n",
    "\n",
    "# We need to do this only for the MC samples (all data events weight = 1)\n",
    "df_v = [nue_nue]\n",
    "\n",
    "for i,df in enumerate(df_v):\n",
    "    # This portion cleans up the basic weights\n",
    "    df.loc[ df['weightTune'] <= 0, 'weightTune' ] = 1.\n",
    "    df.loc[ df['weightTune'] == np.inf, 'weightTune' ] = 1.\n",
    "    df.loc[ df['weightTune'] > 100, 'weightTune' ] = 1.\n",
    "    df.loc[ np.isnan(df['weightTune']) == True, 'weightTune' ] = 1.\n",
    "    # This portion cleans up the weights after the GENIE tune is applied\n",
    "    df.loc[ df['weightSplineTimesTune'] <= 0, 'weightSplineTimesTune' ] = 1.\n",
    "    df.loc[ df['weightSplineTimesTune'] == np.inf, 'weightSplineTimesTune' ] = 1.\n",
    "    df.loc[ df['weightSplineTimesTune'] > 100, 'weightSplineTimesTune' ] = 1. #originally 100\n",
    "    df.loc[ np.isnan(df['weightSplineTimesTune']) == True, 'weightSplineTimesTune' ] = 1. \n",
    "    \n",
    "    # weightSplineTimesTuneTimesPPFX is our final weight: this is NuMI, so the final weight of the MC events needs \n",
    "    # to take into account the NuMI Flux re-weight called ppfx_cv to simulate NuMI events properly. \n",
    "    df[ 'weightSplineTimesTuneTimesPPFX' ] = df[ 'weightSplineTimesTune' ]*df['ppfx_cv']\n",
    "    \n",
    "    # We also need to fix some cray cray weights in the GENIE systematics. \n",
    "    # This is a bit of a pain in the butt cause we have 600 universe (= 600 weights) for each event\n",
    "    for ievt in range(df.shape[0]):\n",
    "        reweightCondition = ((df['weightsGenie'].iloc[ievt] > 3000) | (df['weightsGenie'].iloc[ievt] < 0)  | \n",
    "                             (df['weightsGenie'].iloc[ievt] == np.inf))\n",
    "        df['weightsGenie'].iloc[ievt][ reweightCondition ] = 1.\n",
    "\n",
    "#BDT"
   ]
  },
  {
   "cell_type": "markdown",
   "metadata": {},
   "source": [
    "Get Log Likelihood Ratio Particle ID for track candidates. Will need proton for nue, muon for numu."
   ]
  },
  {
   "cell_type": "code",
   "execution_count": 20,
   "metadata": {},
   "outputs": [],
   "source": [
    "from scipy.spatial.transform import Rotation as R\n",
    "from numpy import arccos, array\n",
    "from numpy.linalg import norm\n",
    "\n",
    "# Note: returns angle in radians\n",
    "def theta(v, w): return arccos(v.dot(w)/(norm(v)*norm(w)))* 180 / 3.1415926\n",
    "\n",
    "def GetNuMIAngle( px,  py,  pz):\n",
    "    r = R.from_matrix([[0.92103853804025681562   , 0.022713504803924120662, 0.38880857519374290021  ],\n",
    "                       [4.6254001262154668408e-05, 0.99829162468141474651 , -0.058427989452906302359],\n",
    "                       [-0.38947144863934973769  , 0.053832413938664107345, 0.91946400794392302291  ]])  \n",
    "    r = r.inv()\n",
    "    beamCoords = r.apply([px,  py,  pz])\n",
    "    beamDir    = [0,0,1]\n",
    "    #print(theta(beamCoords,beamDir))\n",
    "    return theta(beamCoords,beamDir)\n",
    "\n",
    "def GetNuMIAnglePol( phiBNB,  thetaBNB):\n",
    "    px = math.sin(thetaBNB)*math.cos(phiBNB)\n",
    "    py = math.sin(thetaBNB)*math.sin(phiBNB)\n",
    "    pz = math.cos(thetaBNB)\n",
    "    return GetNuMIAngle( px,  py,  pz)"
   ]
  },
  {
   "cell_type": "code",
   "execution_count": 21,
   "metadata": {},
   "outputs": [
    {
     "data": {
      "text/plain": [
       "1.8690124908136228"
      ]
     },
     "execution_count": 21,
     "metadata": {},
     "output_type": "execute_result"
    }
   ],
   "source": [
    "def vectorFromNuMITarget(vtxX,  vtxY, vtxZ):\n",
    "    numiTarget      = np.array([-31387.58422, -3316.402543, -60100.2414])\n",
    "    nuInteraction   = np.array([vtxX,  vtxY, vtxZ])\n",
    "    directionVector = nuInteraction - numiTarget\n",
    "    return directionVector\n",
    "\n",
    "def angleFromNuMITarget(vtxX,  vtxY, vtxZ, thetaBNB, phiBNB):\n",
    "    v1 = vectorFromNuMITarget(vtxX,  vtxY, vtxZ)  \n",
    "    norm = np.linalg.norm(v1)\n",
    "    v1 = v1/norm\n",
    "    v2 = [np.cos(phiBNB)*np.sin(thetaBNB),np.sin(phiBNB)*np.sin(thetaBNB), np.cos(thetaBNB) ]\n",
    "    dot_product = np.dot(v1, v2)\n",
    "    angle = np.arccos(dot_product)\n",
    "    return angle #dot_product # angle*180/3.14159265\n",
    "\n",
    "\n",
    "\n",
    "angleFromNuMITarget(1,1,1,1.4,3.)"
   ]
  },
  {
   "cell_type": "code",
   "execution_count": 9,
   "metadata": {},
   "outputs": [],
   "source": [
    "#This assumes the electron to be the leading shower\n",
    "\n",
    "for i,df in enumerate(df_v):\n",
    "    df['targetP_asmuon']     = np.sqrt(df['shr_px']*df['shr_px'] + df['shr_py']*df['shr_py'] + df['shr_pz']*df['shr_pz'])\n",
    "    df['targetPt_asmuon']    = np.sqrt(df['shr_px']*df['shr_px'] + df['shr_py']*df['shr_py'])\n",
    "    df['targetTheta_asmuon'] = np.arccos(df['shr_pz']/df['targetP_asmuon'] )\n",
    "    df['targetPhi_asmuon']   = np.arctan2(df['shr_py'],df['shr_px'])\n",
    "    df['nu_Angle_Numi_Elec_asmuon'] = df.apply( lambda x: angleFromNuMITarget(x['reco_nu_vtx_sce_x'],x['reco_nu_vtx_sce_y'],x['reco_nu_vtx_sce_z'], x['targetTheta_asmuon'],x['targetPhi_asmuon']) , axis=1)\n",
    "    df['cosNu_Angle_Numi_Elec_asmuon'] = np.cos(df['nu_Angle_Numi_Elec_asmuon'])"
   ]
  },
  {
   "cell_type": "code",
   "execution_count": 22,
   "metadata": {},
   "outputs": [
    {
     "name": "stdout",
     "output_type": "stream",
     "text": [
      "time to run:  27.028661251068115\n"
     ]
    }
   ],
   "source": [
    "# how to get the LLR-PID value for the \"track candidate\" (proton for nue selection, muon for numu)\n",
    "# can be done for any variable\n",
    "# code from Giuseppe!\n",
    "\n",
    "#This cell is about creating some new variables from the ones we have\n",
    "\n",
    "import time\n",
    "s = time.time()\n",
    "\n",
    "#use all samples\n",
    "df_v = [nue_nue]\n",
    "\n",
    "\n",
    "puppa1 = 'trk_score_v'\n",
    "\n",
    "\n",
    "for i,df in enumerate(df_v):\n",
    "    up = uproot_v[i]\n",
    "    trk_theta_proton_v  = up.array('trk_theta_v')\n",
    "    trk_phi_proton_v    = up.array('trk_phi_v')\n",
    "    trk_score_v         = up.array('trk_score_v')    \n",
    "    trk_llr_pid_v       = up.array('trk_llr_pid_score_v')\n",
    "    trk_energy_proton_v = up.array('trk_energy_proton_v')\n",
    "    trk_calo_energy_y_v = up.array('trk_calo_energy_y_v')\n",
    "    trk_id              = up.array('trk_id')-1 # I think we need this -1 to get the right result\n",
    "    c                   = up.array('n_tracks_contained')\n",
    "    trk_theta_proton_v  = up.array('trk_theta_v')\n",
    "    trk_phi_proton_v    = up.array('trk_phi_v')\n",
    "\n",
    "    trk_theta_proton_sel  = awkward.fromiter([pidv[tid] if tid<len(pidv) else 9999. for pidv,tid in zip(trk_theta_proton_v,trk_id)])\n",
    "    trk_phi_proton_sel    = awkward.fromiter([pidv[tid] if tid<len(pidv) else 9999. for pidv,tid in zip(trk_phi_proton_v,trk_id)])\n",
    "    df['protontheta']  = trk_theta_proton_sel\n",
    "    df['protonphi']    = trk_phi_proton_sel\n",
    "\n",
    "    #print(trk_score_v.shape, len(trk_llr_pid_v))\n",
    "\n",
    "    #dummy variables\n",
    "    puppa_obj = []\n",
    "    puppa_trk = []\n",
    "    puppa_shw = []\n",
    "    puppa_prt = [] \n",
    "    puppa_mu  = []\n",
    "    \n",
    "    for pidv, p in zip(trk_llr_pid_v,trk_score_v):\n",
    "        N_obj         = 0\n",
    "        N_recoTrks    = 0\n",
    "        N_recoShowers = 0\n",
    "        N_recoProtons = 0\n",
    "        N_recoMuons   = 0\n",
    "        if len(pidv) > 0:\n",
    "            passPIDCut = (pidv <= 0)\n",
    "            passTrkCut = (p    >= 0)\n",
    "            protonCut  = (passPIDCut & passTrkCut) \n",
    "            muonCut    = (np.logical_not(passPIDCut) & passTrkCut) \n",
    "            N_obj         = len(passTrkCut)\n",
    "            N_recoTrks    = np.count_nonzero(passTrkCut)\n",
    "            N_recoShowers = np.count_nonzero(np.logical_not(passTrkCut))\n",
    "            N_recoProtons = np.count_nonzero(protonCut)\n",
    "            N_recoMuons   = np.count_nonzero(muonCut)\n",
    "        puppa_obj.append(N_obj)\n",
    "        puppa_trk.append(N_recoTrks)\n",
    "        puppa_shw.append(N_recoShowers)    \n",
    "        puppa_prt.append(N_recoProtons)\n",
    "        puppa_mu .append(N_recoMuons)\n",
    "\n",
    "    df['N_obj']           = puppa_obj\n",
    "    df['N_recoTrks']      = puppa_trk\n",
    "    df['N_recoShowers']   = puppa_shw\n",
    "    df['N_recoProtons']   = puppa_prt\n",
    "    df['N_recoMuons']     = puppa_mu\n",
    "    \n",
    "    trk_llr_pid_v_sel     = awkward.fromiter([pidv[tid] if tid<len(pidv) else 9999. for pidv,tid in zip(trk_llr_pid_v,trk_id)])\n",
    "    trk_energy_proton_sel = awkward.fromiter([pidv[tid] if tid<len(pidv) else 9999. for pidv,tid in zip(trk_energy_proton_v,trk_id)])\n",
    "    trk_calo_energy_y_sel = awkward.fromiter([pidv[tid] if tid<len(pidv) else 9999. for pidv,tid in zip(trk_calo_energy_y_v,trk_id)])\n",
    "    trk_theta_proton_sel  = awkward.fromiter([pidv[tid] if tid<len(pidv) else 9999. for pidv,tid in zip(trk_theta_proton_v,trk_id)])\n",
    "    trk_phi_proton_sel    = awkward.fromiter([pidv[tid] if tid<len(pidv) else 9999. for pidv,tid in zip(trk_phi_proton_v,trk_id)])\n",
    "\n",
    "    df['trkpid']          = trk_llr_pid_v_sel\n",
    "    df['protonenergy']    = trk_energy_proton_sel\n",
    "    df['trackcaloenergy'] = trk_calo_energy_y_sel\n",
    "    df['subcluster']      = df['shrsubclusters0'] + df['shrsubclusters1'] + df['shrsubclusters2']\n",
    "    #df['trkfit']          = df['shr_tkfit_npointsvalid'] / df['shr_tkfit_npoints']\n",
    "    #df['anglediff_Y']     = np.abs(df['secondshower_Y_dir']-df['shrclusdir2'])\n",
    "    #df['trkthetacos']     = np.cos(df['trk_theta'])\n",
    "\n",
    "    df['protontheta']  = trk_theta_proton_sel\n",
    "    df['protonphi']    = trk_phi_proton_sel\n",
    "\n",
    "#calculate angles wrt NuMI reference frame\n",
    "for i,df in enumerate(df_v):\n",
    "    #df['shr_numi_Angle']    = df.apply( lambda x: GetNuMIAngle(x['shr_px'],x['shr_py'],x['shr_pz']) , axis=1)\n",
    "    df['proton_numi_Angle'] = df.apply( lambda x: GetNuMIAnglePol(x['protonphi'],x['protontheta']) , axis=1)\n",
    "\n",
    "    \n",
    "#just prints out the time this cell takes\n",
    "s2 = time.time()\n",
    "print (\"time to run: \",s2-s)\n",
    "\n",
    "#BDT"
   ]
  },
  {
   "cell_type": "code",
   "execution_count": 23,
   "metadata": {},
   "outputs": [],
   "source": [
    "for i,df in enumerate(df_v):\n",
    "    df.loc[df['shrmoliereavg'].isna(),'secondshower_Y_dot'] = 9999.\n",
    "    df.loc[df['secondshower_Y_dot'].isna(),'secondshower_Y_dot'] = 0.0 "
   ]
  },
  {
   "cell_type": "code",
   "execution_count": 24,
   "metadata": {},
   "outputs": [],
   "source": [
    "df_v = [nue_nue]\n",
    "for i,df in enumerate(df_v):\n",
    "    df.loc[:,'shr_tkfit_dedx_max'] = df['shr_tkfit_dedx_Y']\n",
    "    df.loc[(df['shr_tkfit_nhits_U']>df['shr_tkfit_nhits_Y']),'shr_tkfit_dedx_max'] = df['shr_tkfit_dedx_U']\n",
    "    df.loc[(df['shr_tkfit_nhits_V']>df['shr_tkfit_nhits_Y']) & (df['shr_tkfit_nhits_V']>df['shr_tkfit_nhits_U']),'shr_tkfit_dedx_max'] = df['shr_tkfit_dedx_V']\n"
   ]
  },
  {
   "cell_type": "code",
   "execution_count": 25,
   "metadata": {
    "scrolled": false
   },
   "outputs": [],
   "source": [
    "INTERCEPT = 0.0\n",
    "SLOPE = 0.83\n",
    "\n",
    "df_v = [nue_nue]\n",
    "# define some energy-related variables\n",
    "for i,df in enumerate(df_v):\n",
    "    df[\"reco_e\"] = (df[\"shr_energy_tot_cali\"] + INTERCEPT) / SLOPE + df[\"trk_energy_tot\"]\n",
    "\n",
    "# and a way to filter out data\n",
    "for i,df in enumerate(df_v):\n",
    "    df[\"bnbdata\"] = np.zeros_like(df[\"shr_energy\"])\n",
    "    df[\"extdata\"] = np.zeros_like(df[\"shr_energy\"])"
   ]
  },
  {
   "cell_type": "code",
   "execution_count": 26,
   "metadata": {
    "scrolled": false
   },
   "outputs": [],
   "source": [
    "# add back the cosmic category, for background only\n",
    "df_v = [nue_nue]\n",
    "for i,df in enumerate(df_v):\n",
    "    df.loc[(df['category']!=1)&(df['category']!=10)&(df['category']!=11)&(df['category']!=111)&(df['slnunhits']/df['slnhits']<0.2), 'category'] = 4\n",
    "    \n",
    "#BDT    "
   ]
  },
  {
   "cell_type": "code",
   "execution_count": 27,
   "metadata": {},
   "outputs": [],
   "source": [
    "#########################################################\n",
    "######## RUN THIS CELL ONLY ONE TIME ONLY ###############\n",
    "#########################################################\n",
    "# The flash time for the NuMI data stream needs to be adjusted a little bit (there are hardware offsets in data). \n",
    "# That's the reason behind these hard coded shifts\n",
    "df_v = [nue_nue]\n",
    "for i,df in enumerate(df_v):\n",
    "        df.loc[ :, 'flash_time' ] = df['flash_time' ] - 0.304    "
   ]
  },
  {
   "cell_type": "code",
   "execution_count": 28,
   "metadata": {},
   "outputs": [],
   "source": [
    "#Define signal catagories\n",
    "\n",
    "nue_nue[\"is_signal\"] = nue_nue[\"category\"] == 11"
   ]
  },
  {
   "cell_type": "code",
   "execution_count": 29,
   "metadata": {},
   "outputs": [],
   "source": [
    "# Some quick clean up since some strange events get in there\n",
    "nue  = nue_nue.query('nu_e > 0.')\n",
    "\n",
    "# Calculate the true neutrino direction off of the NuMI beam, needed for plotting. Seem to be from MC\n",
    "dfmc_v = [nue_nue]\n",
    "for i,df in enumerate(dfmc_v):\n",
    "    df['numi_nu_true_Angle'] = df.apply( lambda x: GetNuMIAngle(x['true_nu_px'],x['true_nu_py'],x['true_nu_pz']) , axis=1)\n",
    "    df['weightsNuMIGeo']     = df.apply( lambda x: numiBeamlineGeoWeights.calculateGeoWeight(x['nu_pdg'],x['nu_e'],x['numi_nu_true_Angle']) , axis=1)\n",
    "    \n"
   ]
  },
  {
   "cell_type": "markdown",
   "metadata": {},
   "source": [
    "## Selection Section"
   ]
  },
  {
   "cell_type": "code",
   "execution_count": 30,
   "metadata": {},
   "outputs": [],
   "source": [
    "df_v = [nue_nue]\n",
    "for i,df in enumerate(df_v):\n",
    "    df.loc[ (df['category']== 11) & (df['nu_pdg'] == -12), 'category' ] = 12\n",
    "    df.loc[ (df['category']== 10) & (df['nu_pdg'] == -12), 'category' ] = 1\n",
    "    df.loc[ (df['category']== 10) & (df['nu_pdg'] ==  12), 'category' ] = 1"
   ]
  },
  {
   "cell_type": "markdown",
   "metadata": {},
   "source": [
    "## BDT"
   ]
  },
  {
   "cell_type": "code",
   "execution_count": 31,
   "metadata": {},
   "outputs": [],
   "source": [
    "reco_in_fv_query = \"10<=reco_nu_vtx_sce_x<=246 and -106<=reco_nu_vtx_sce_y<=106 and 10<=reco_nu_vtx_sce_z<=1026\"\n",
    "\n",
    "BDT_PRE_QUERY = 'nslice==1'\n",
    "BDT_PRE_QUERY += ' and ' + reco_in_fv_query\n",
    "BDT_PRE_QUERY +=' and contained_fraction>0.9'\n",
    "BDT_PRE_QUERY += ' and n_tracks_contained>0'\n",
    "BDT_PRE_QUERY += ' and n_showers_contained==1'\n",
    "BDT_PRE_QUERY += ' and shr_energy_tot_cali>0.07'\n",
    "BDT_PRE_QUERY += ' and trk_energy>0.04' #added\n",
    "\n",
    "BDT_LOOSE_CUTS = BDT_PRE_QUERY\n",
    "BDT_LOOSE_CUTS += ' and shr_score<0.3'\n",
    "BDT_LOOSE_CUTS += ' and trkpid<0.35'\n",
    "BDT_LOOSE_CUTS += ' and shrmoliereavg<15'\n",
    "BDT_LOOSE_CUTS += ' and shr_tkfit_dedx_Y<7'\n",
    "BDT_LOOSE_CUTS += ' and tksh_distance<12'"
   ]
  },
  {
   "cell_type": "code",
   "execution_count": 32,
   "metadata": {},
   "outputs": [],
   "source": [
    "# load bdt model \n",
    "bdt_model = xgb.Booster({'nthread': 4})\n",
    "bdt_model.load_model('/home/alex/NuMI/bdt_FHC_oct2021_v3.model')"
   ]
  },
  {
   "cell_type": "code",
   "execution_count": 33,
   "metadata": {},
   "outputs": [
    {
     "name": "stdout",
     "output_type": "stream",
     "text": [
      "(127551, 119)\n"
     ]
    }
   ],
   "source": [
    "# NOW, apply the model to real data for data/MC comparisons\n",
    "\n",
    "varlist = [\n",
    "    \"shr_score\", \"shrmoliereavg\", \"trkpid\",\n",
    "    \"n_showers_contained\", \"shr_tkfit_dedx_Y\", \"tksh_distance\",\n",
    "    \"tksh_angle\", \"subcluster\", \"trkshrhitdist2\"]\n",
    "#The training variables?\n",
    "\n",
    "datasetlist = [nue_nue]\n",
    "\n",
    "for df in datasetlist:\n",
    "    for column in varlist:\n",
    "        df.loc[(df[column] < -1.0e37) | (df[column] > 1.0e37), column] = np.nan\n",
    "        \n",
    "    # create testing dmatrix \n",
    "    df_test = xgb.DMatrix(data=df[varlist])\n",
    "    \n",
    "    # apply the bdt selection\n",
    "    preds = bdt_model.predict(df_test)\n",
    "    \n",
    "    # add columns for plotting \n",
    "    df['BDT_score'] = preds\n",
    "    print(df.shape)"
   ]
  },
  {
   "cell_type": "code",
   "execution_count": 34,
   "metadata": {},
   "outputs": [],
   "source": [
    "datasets_bdt = nue_nue"
   ]
  },
  {
   "cell_type": "code",
   "execution_count": 35,
   "metadata": {},
   "outputs": [
    {
     "data": {
      "image/png": "[encoded data removed]",
      "text/plain": [
       "<Figure size 432x288 with 1 Axes>"
      ]
     },
     "metadata": {
      "needs_background": "light"
     },
     "output_type": "display_data"
    }
   ],
   "source": [
    "import matplotlib.pyplot as plt\n",
    "import matplotlib\n",
    "\n",
    "bins = np.arange(0, 1.0, 0.1)\n",
    "gen = plt.hist(datasets_bdt['BDT_score'], bins, color='orange')\n",
    "plt.xlabel(\"BDT Score\")\n",
    "plt.ylabel(\"Counts\")\n",
    "plt.title(\"Exclusive Nue Selection BDT Scores\")\n",
    "plt.show()"
   ]
  },
  {
   "cell_type": "code",
   "execution_count": 36,
   "metadata": {},
   "outputs": [],
   "source": [
    "###Need to use the same BDT split value Katerina did\n",
    "#It was BDT score > 0.575\n",
    "\n",
    "SEL_QUERY = BDT_LOOSE_CUTS\n",
    "SEL_QUERY += ' and BDT_score > 0.575'"
   ]
  },
  {
   "cell_type": "markdown",
   "metadata": {},
   "source": [
    "## Smearing with Weights test"
   ]
  },
  {
   "cell_type": "code",
   "execution_count": 37,
   "metadata": {},
   "outputs": [],
   "source": [
    "truthsel_nue  = \" and (nu_pdg == 12 and ccnc == 0 and true_nu_vtx_z < 1036.8 and true_nu_vtx_z > 0 and true_nu_vtx_y < 116.5 and true_nu_vtx_y > -116.5 and true_nu_vtx_x < \\\n",
    " 254.8 and true_nu_vtx_x > -1.55 and nproton > 0 and npion == 0 and nu_e > 0.04 and nu_e < 5)\"\n",
    "truthsel_nue  += \" and category == 11\"\n",
    "\n",
    "truthsel_nue_only  = \"(nu_pdg == 12 and ccnc == 0 and true_nu_vtx_z < 1036.8 and true_nu_vtx_z > 0 and true_nu_vtx_y < 116.5 and true_nu_vtx_y > -116.5 and true_nu_vtx_x < \\\n",
    " 254.8 and true_nu_vtx_x > -1.55 and nproton > 0 and npion == 0 and nu_e > 0.04 and nu_e < 5)\"\n",
    "truthsel_nue_only  += \" and category == 11\""
   ]
  },
  {
   "cell_type": "code",
   "execution_count": 38,
   "metadata": {},
   "outputs": [],
   "source": [
    "TOTAL_QUERY = SEL_QUERY\n",
    "TOTAL_QUERY += truthsel_nue"
   ]
  },
  {
   "cell_type": "code",
   "execution_count": 39,
   "metadata": {
    "scrolled": true
   },
   "outputs": [
    {
     "name": "stdout",
     "output_type": "stream",
     "text": [
      "n_events here =  127551\n",
      "\n",
      "1.0\n",
      "1\n",
      "{'nue_nue': 0.008409085175623745}\n",
      "(nu_pdg == 12 and ccnc == 0 and true_nu_vtx_z < 1036.8 and true_nu_vtx_z > 0 and true_nu_vtx_y < 116.5 and true_nu_vtx_y > -116.5 and true_nu_vtx_x <  254.8 and true_nu_vtx_x > -1.55 and nproton > 0 and npion == 0 and nu_e > 0.04 and nu_e < 5) and category == 11& nu_e <= 5 & nu_e >= 0 \n",
      " ~(abs(nu_pdg) == 12 & ccnc == 0) \n",
      " None \n",
      " False\n",
      "current sample is:  nue_nue\n",
      "[1.2228513  0.5187539  0.42641643 ... 1.1436439  0.8197148  0.56377584]\n",
      "1\n",
      "2\n",
      "3\n",
      "current_total  370.8856763625695\n",
      "[]\n",
      "\n",
      "SUMS\n",
      "[]\n",
      "[]\n",
      "\n",
      "Wanted List:\n",
      "[]\n",
      "\n",
      "current_wanted_list  []\n",
      "current_total_hist  [ 30.08481083 151.62865505 111.03931566  43.90048764  16.85484445\n",
      "   8.27149273   4.82925683   2.50250452   1.27365342   0.50065524]\n",
      "\n",
      "current n_tot  [ 30.08481083 151.62865505 111.03931566  43.90048764  16.85484445\n",
      "   8.27149273   4.82925683   2.50250452   1.27365342   0.50065524]\n",
      "total array  [2.3619804  1.1512005  0.7492392  ... 0.81428844 1.0175847  2.0369437 ]\n",
      "total weight array  [0.01028306 0.00436225 0.00358577 ... 0.009617   0.00689305 0.00474084]\n",
      "Returning\n",
      "{'nue_nue': 0.008409085175623745}\n",
      "(nu_pdg == 12 and ccnc == 0 and true_nu_vtx_z < 1036.8 and true_nu_vtx_z > 0 and true_nu_vtx_y < 116.5 and true_nu_vtx_y > -116.5 and true_nu_vtx_x <  254.8 and true_nu_vtx_x > -1.55 and nproton > 0 and npion == 0 and nu_e > 0.04 and nu_e < 5) and category == 11& nu_e <= 5 & nu_e >= 0 \n",
      " ~(abs(nu_pdg) == 12 & ccnc == 0) \n",
      " None \n",
      " False\n",
      "current sample is:  nue_nue\n",
      "[]\n",
      "Had to return early (colour sorting).\n"
     ]
    },
    {
     "data": {
      "image/png": "[encoded data removed]",
      "text/plain": [
       "<Figure size 504x360 with 1 Axes>"
      ]
     },
     "metadata": {
      "needs_background": "light"
     },
     "output_type": "display_data"
    },
    {
     "data": {
      "image/png": "[encoded data removed]",
      "text/plain": [
       "<Figure size 504x360 with 1 Axes>"
      ]
     },
     "metadata": {
      "needs_background": "light"
     },
     "output_type": "display_data"
    }
   ],
   "source": [
    "##THE TRUTH\n",
    "\n",
    "import batch_plotter_alex\n",
    "import importlib\n",
    "importlib.reload(batch_plotter_alex)\n",
    "scaling = 1\n",
    "\n",
    "SPLIT = 1.0\n",
    "\n",
    "n_events = nue_nue.shape[0]\n",
    "print(\"n_events here = \", n_events)\n",
    "print(\"\")\n",
    "#batch_size = 40000\n",
    "batch_size = n_events\n",
    "\n",
    "varss1 = []\n",
    "weightss1 = []\n",
    "labss1 = []\n",
    "\n",
    "print(n_events/batch_size)\n",
    "print(int(n_events/batch_size))\n",
    "\n",
    "for i in range(int(n_events/batch_size)+1):\n",
    "    start = i*batch_size\n",
    "    if (start + batch_size) < n_events:\n",
    "        end = start + batch_size\n",
    "    else:\n",
    "        end = n_events\n",
    "    sample_set = nue_nue.iloc[start:end]\n",
    "\n",
    "    samples = {\n",
    "        #\"nue_nue\": nue_nue\n",
    "        \"nue_nue\": sample_set \n",
    "    }\n",
    "\n",
    "\n",
    "    scaling = 1\n",
    "    # This is the data POT we normalize to (comes from the data Ntuples)\n",
    "    pot =  2e+20 #partial file: 8.885e+19\n",
    "    nueratio  = pot/2.37838e+22 \n",
    "\n",
    "    # NUE\n",
    "    weights = { #full sample mc = 0.38\n",
    "                \"nue_nue\"  : nueratio  * SPLIT * scaling\n",
    "    }\n",
    "\n",
    "\n",
    "    my_plotter = batch_plotter_alex.Plotter(samples, weights, pot=pot)\n",
    "    print(weights)\n",
    "\n",
    "\n",
    "    #Now check on a variable\n",
    "    #Remember to change the plotter keys between truth and mc\n",
    "    \n",
    "    VARIABLE, BINS, RANGE, XTIT = 'nu_e',10,(0.0, 5.0),\"True Energy [GeV]\" \n",
    "    #VARIABLE, BINS, RANGE, XTIT = 'cosNu_Angle_Numi_Elec',10,(-1.0, 1.0),\"cos(Electron Angle)\"\n",
    "    #VARIABLE, BINS, RANGE, XTIT = 'cosNu_Angle_Numi_Elec_asmuon',10,(-1.0, 1.0),\"cos(Angle Diff)\"\n",
    "    #VARIABLE, BINS, RANGE, XTIT = 'targetP_asmuon',10,(0.0, 5.0),\"Lepton Momentum (GeV)\"\n",
    "    \n",
    "\n",
    "    var1, weight1, label1 = my_plotter.plot_variable(\n",
    "        VARIABLE,   \n",
    "        #nue_query= NUE_SEL_QUERY,\n",
    "        #numu_query= NUMU_SEL_QUERY,\n",
    "        #query= TOTAL_QUERY,\n",
    "        query=truthsel_nue_only,\n",
    "        currentsample = \"nue_nue\",\n",
    "        kind=\"event_category\",\n",
    "        draw_sys  = True, \n",
    "        draw_geoSys = True, \n",
    "        draw_data = True,\n",
    "        ratio=False,\n",
    "        genieweight = \"weightSplineTimesTuneTimesPPFX\",  \n",
    "        stacksort=3,\n",
    "        title=XTIT,\n",
    "        bins=BINS,\n",
    "        range=RANGE\n",
    "    )[0:3]\n",
    "    \n",
    "    varss1.append(var1)\n",
    "    weightss1.append(weight1)\n",
    "    labss1.append(label1)"
   ]
  },
  {
   "cell_type": "code",
   "execution_count": 40,
   "metadata": {
    "scrolled": false
   },
   "outputs": [
    {
     "name": "stderr",
     "output_type": "stream",
     "text": [
      "No handles with labels found to put in legend.\n"
     ]
    },
    {
     "name": "stdout",
     "output_type": "stream",
     "text": [
      "(array([ 30.08481083, 151.62865505, 111.03931566,  43.90048764,\n",
      "        16.85484445,   8.27149273,   4.82925683,   2.50250452,\n",
      "         1.27365342,   0.50065524]), array([0. , 0.5, 1. , 1.5, 2. , 2.5, 3. , 3.5, 4. , 4.5, 5. ],\n",
      "      dtype=float32), <a list of 10 Patch objects>)\n",
      "(array([0., 0., 0., 0., 0., 0., 0., 0., 0., 0.]), array([0. , 0.5, 1. , 1.5, 2. , 2.5, 3. , 3.5, 4. , 4.5, 5. ]), <a list of 10 Patch objects>)\n"
     ]
    },
    {
     "data": {
      "image/png": "[encoded data removed]",
      "text/plain": [
       "<Figure size 576x504 with 1 Axes>"
      ]
     },
     "metadata": {
      "needs_background": "light"
     },
     "output_type": "display_data"
    },
    {
     "data": {
      "image/png": "[encoded data removed]",
      "text/plain": [
       "<Figure size 576x504 with 1 Axes>"
      ]
     },
     "metadata": {
      "needs_background": "light"
     },
     "output_type": "display_data"
    }
   ],
   "source": [
    "from matplotlib import gridspec\n",
    "\n",
    "for i in range(int(n_events/batch_size)+1):\n",
    "    nue_fig = plt.figure(figsize=(8, 7))\n",
    "    nue_gs = gridspec.GridSpec(2, 1, height_ratios=[2, 1])\n",
    "    nue_ax1 = plt.subplot(nue_gs[0])\n",
    "    nue_ax1.set_xlim([0, 5])    #TrueE, lepton mom\n",
    "    #nue_ax1.set_xlim([-1, 1])    #AngleDiff\n",
    "\n",
    "    nue_stacked = nue_ax1.hist(\n",
    "                varss1[i].values(),\n",
    "                weights=list(weightss1[i].values()),\n",
    "                stacked=True,\n",
    "                label=labss1[i],\n",
    "                bins=BINS,\n",
    "                range=RANGE)\n",
    "    \n",
    "    plt.title(\"test\")\n",
    "    plt.legend()\n",
    "    \n",
    "    print(nue_stacked)\n",
    "    #temp_truth_sig = nue_stacked[0]\n",
    "    #print(temp_truth_sig)"
   ]
  },
  {
   "cell_type": "code",
   "execution_count": 41,
   "metadata": {},
   "outputs": [
    {
     "name": "stdout",
     "output_type": "stream",
     "text": [
      "[ 30.08481083 151.62865505 111.03931566  43.90048764  16.85484445\n",
      "   8.27149273   4.82925683   2.50250452   1.27365342   0.50065524]\n",
      "30.08481082750219\n"
     ]
    },
    {
     "data": {
      "image/png": "[encoded data removed]",
      "text/plain": [
       "<Figure size 576x504 with 1 Axes>"
      ]
     },
     "metadata": {
      "needs_background": "light"
     },
     "output_type": "display_data"
    }
   ],
   "source": [
    "def mergeDictionary(dict_1, dict_2):\n",
    "    dict_3 = {**dict_1, **dict_2}\n",
    "    for key, value in dict_3.items():\n",
    "        if key in dict_1 and key in dict_2:\n",
    "                dict_3[key] = value + dict_1[key]\n",
    "    return dict_3\n",
    "\n",
    "def combine_dicts(mydict):\n",
    "    while len(mydict) > 1:\n",
    "        i = 0\n",
    "        dict_3 = mergeDictionary(mydict[i], mydict[i+1]) \n",
    "        mydict.pop(0)\n",
    "        mydict[0] = dict_3\n",
    "    return mydict\n",
    "    \n",
    "varss_tot = combine_dicts(varss1)\n",
    "weightss_tot = combine_dicts(weightss1)\n",
    "\n",
    "\n",
    "category_labels = {\n",
    "    1: r\"$\\nu_e$ Other\",\n",
    "    11110: r\"$\\nu_e$\",\n",
    "    11111: r\"$\\bar\\nu_e$\",\n",
    "    10: r\"$\\nu_e$ CC0$\\pi$0p\",\n",
    "    9: r\"$\\bar\\nu_e$ CC0$\\pi$0p\",\n",
    "    12: r\"$\\bar\\nu_e$ CC0$\\pi$Np\",\n",
    "    11: r\"$\\nu_e$ CC0$\\pi$Np\",\n",
    "    11357: r\"$\\nu_e$ CC $\\pi^{0}$\",\n",
    "    111: r\"MiniBooNE LEE\",\n",
    "    2: r\"$\\nu_{\\mu}$ CC\",\n",
    "    21: r\"$\\nu_{\\mu}$ CC $\\pi^{0}$\",\n",
    "    22: r\"$\\nu_{\\mu}$ CC 0p$^+$\",\n",
    "    23: r\"$\\nu_{\\mu}$ CC 1p$^+$\",\n",
    "    24: r\"$\\nu_{\\mu}$ CC 2p$^+$\",\n",
    "    25: r\"$\\nu_{\\mu}$ CC Np$^+$\", # look for this\n",
    "    3: r\"$\\nu$ NC\",\n",
    "    31: r\"$\\nu$ NC $\\pi^{0}$\",\n",
    "    4: r\"Cosmic\",\n",
    "    5: r\"Out. fid. vol.\",\n",
    "    # eta categories start with 80XX\n",
    "    801: r\"$\\eta \\rightarrow$ other\",\n",
    "    802: r\"$\\nu_{\\mu} \\eta \\rightarrow \\gamma\\gamma$\",\n",
    "    803: r'1 $\\pi^0$',\n",
    "    804: r'2 $\\pi^0$',\n",
    "    805: r'$\\nu$ other',\n",
    "    806: r'out of FV',\n",
    "    6: r\"other\",\n",
    "    0: r\"No slice\"\n",
    "}\n",
    "\n",
    "\n",
    "labels = [\n",
    "            \"%s: %.1f\" % (category_labels[c], sum(weightss_tot[0][c])) \\\n",
    "            if sum(weightss_tot[0][c]) else \"\"\n",
    "            for c in varss1[0].keys()\n",
    "        ]\n",
    "\n",
    "\n",
    "nue_fig = plt.figure(figsize=(8, 7))\n",
    "nue_gs = gridspec.GridSpec(2, 1, height_ratios=[2, 1])\n",
    "nue_ax1 = plt.subplot(nue_gs[0])\n",
    "\n",
    "#TrueE, LeptonMom\n",
    "nue_ax1.set_xlim([0, 5])\n",
    "nue_ax1.set_ylim([0, 160])\n",
    "\n",
    "#AngleDiff\n",
    "#nue_ax1.set_xlim([-1, 1])\n",
    "#nue_ax1.set_ylim([0, 180])\n",
    "\n",
    "nue_stacked = nue_ax1.hist(\n",
    "            varss_tot[0].values(),\n",
    "            weights=list(weightss_tot[0].values()),\n",
    "            stacked=True,\n",
    "            label=labels,\n",
    "            bins=BINS,\n",
    "            range=RANGE)\n",
    "\n",
    "plt.title(\"adding test\")\n",
    "plt.legend()\n",
    "\n",
    "print(nue_stacked[0])\n",
    "\n",
    "temp_truth_sig = nue_stacked[0]\n",
    "print(temp_truth_sig[0])"
   ]
  },
  {
   "cell_type": "code",
   "execution_count": 42,
   "metadata": {
    "scrolled": true
   },
   "outputs": [
    {
     "name": "stdout",
     "output_type": "stream",
     "text": [
      "n_events here =  127551\n",
      "\n",
      "1.0\n",
      "1\n",
      "{'nue_nue': 0.008409085175623745}\n",
      "nslice==1 and 10<=reco_nu_vtx_sce_x<=246 and -106<=reco_nu_vtx_sce_y<=106 and 10<=reco_nu_vtx_sce_z<=1026 and contained_fraction>0.9 and n_tracks_contained>0 and n_showers_contained==1 and shr_energy_tot_cali>0.07 and trk_energy>0.04 and shr_score<0.3 and trkpid<0.35 and shrmoliereavg<15 and shr_tkfit_dedx_Y<7 and tksh_distance<12 and BDT_score > 0.575 and (nu_pdg == 12 and ccnc == 0 and true_nu_vtx_z < 1036.8 and true_nu_vtx_z > 0 and true_nu_vtx_y < 116.5 and true_nu_vtx_y > -116.5 and true_nu_vtx_x <  254.8 and true_nu_vtx_x > -1.55 and nproton > 0 and npion == 0 and nu_e > 0.04 and nu_e < 5) and category == 11& reco_e <= 5 & reco_e >= 0 \n",
      " ~(abs(nu_pdg) == 12 & ccnc == 0) \n",
      " None \n",
      " False\n",
      "current sample is:  nue_nue\n",
      "[1.2228513 1.1877642 1.5490692 ... 1.1190536 1.0368681 1.1124349]\n",
      "1\n",
      "2\n",
      "3\n",
      "current_total  56.99571519411808\n",
      "[]\n",
      "\n",
      "SUMS\n",
      "[]\n",
      "[]\n",
      "\n",
      "Wanted List:\n",
      "[]\n",
      "\n",
      "current_wanted_list  []\n",
      "current_total_hist  [1.04492241e+01 3.10782484e+01 1.11426725e+01 2.72081822e+00\n",
      " 1.06264234e+00 3.26019952e-01 1.36951406e-01 5.99659714e-02\n",
      " 9.51532401e-03 9.65695389e-03]\n",
      "\n",
      "current n_tot  [1.04492241e+01 3.10782484e+01 1.11426725e+01 2.72081822e+00\n",
      " 1.06264234e+00 3.26019952e-01 1.36951406e-01 5.99659714e-02\n",
      " 9.51532401e-03 9.65695389e-03]\n",
      "total array  [2.4995131  0.31734908 0.45625693 ... 0.81129307 0.6519135  0.5619019 ]\n",
      "total weight array  [0.01028306 0.00998801 0.01302625 ... 0.00941022 0.00871911 0.00935456]\n",
      "Returning\n",
      "{'nue_nue': 0.008409085175623745}\n",
      "nslice==1 and 10<=reco_nu_vtx_sce_x<=246 and -106<=reco_nu_vtx_sce_y<=106 and 10<=reco_nu_vtx_sce_z<=1026 and contained_fraction>0.9 and n_tracks_contained>0 and n_showers_contained==1 and shr_energy_tot_cali>0.07 and trk_energy>0.04 and shr_score<0.3 and trkpid<0.35 and shrmoliereavg<15 and shr_tkfit_dedx_Y<7 and tksh_distance<12 and BDT_score > 0.575 and (nu_pdg == 12 and ccnc == 0 and true_nu_vtx_z < 1036.8 and true_nu_vtx_z > 0 and true_nu_vtx_y < 116.5 and true_nu_vtx_y > -116.5 and true_nu_vtx_x <  254.8 and true_nu_vtx_x > -1.55 and nproton > 0 and npion == 0 and nu_e > 0.04 and nu_e < 5) and category == 11& reco_e <= 5 & reco_e >= 0 \n",
      " ~(abs(nu_pdg) == 12 & ccnc == 0) \n",
      " None \n",
      " False\n",
      "current sample is:  nue_nue\n",
      "[]\n",
      "Had to return early (colour sorting).\n"
     ]
    },
    {
     "data": {
      "image/png": "[encoded data removed]",
      "text/plain": [
       "<Figure size 504x360 with 1 Axes>"
      ]
     },
     "metadata": {
      "needs_background": "light"
     },
     "output_type": "display_data"
    },
    {
     "data": {
      "image/png": "[encoded data removed]",
      "text/plain": [
       "<Figure size 504x360 with 1 Axes>"
      ]
     },
     "metadata": {
      "needs_background": "light"
     },
     "output_type": "display_data"
    }
   ],
   "source": [
    "# NOW WITH RECO SELECTION\n",
    "\n",
    "import batch_plotter_alex\n",
    "import importlib\n",
    "importlib.reload(batch_plotter_alex)\n",
    "scaling = 1\n",
    "\n",
    "SPLIT = 1.0\n",
    "\n",
    "n_events = nue_nue.shape[0]\n",
    "print(\"n_events here = \", n_events)\n",
    "print(\"\")\n",
    "#batch_size = 40000\n",
    "batch_size = n_events\n",
    "\n",
    "varss2 = []\n",
    "weightss2 = []\n",
    "labss2 = []\n",
    "\n",
    "print(n_events/batch_size)\n",
    "print(int(n_events/batch_size))\n",
    "\n",
    "for i in range(int(n_events/batch_size)+1):\n",
    "    start = i*batch_size\n",
    "    if (start + batch_size) < n_events:\n",
    "        end = start + batch_size\n",
    "    else:\n",
    "        end = n_events\n",
    "    sample_set = nue_nue.iloc[start:end]\n",
    "\n",
    "    samples = {\n",
    "        #\"nue_nue\": nue_nue\n",
    "        \"nue_nue\": sample_set \n",
    "    }\n",
    "\n",
    "\n",
    "    scaling = 1\n",
    "    # This is the data POT we normalize to (comes from the data Ntuples)\n",
    "    pot =  2e+20 #partial file: 8.885e+19\n",
    "    nueratio  = pot/2.37838e+22 \n",
    "\n",
    "    # NUE\n",
    "    weights = { #full sample mc = 0.38\n",
    "                \"nue_nue\"  : nueratio  * SPLIT * scaling\n",
    "    }\n",
    "\n",
    "\n",
    "    my_plotter = batch_plotter_alex.Plotter(samples, weights, pot=pot)\n",
    "    print(weights)\n",
    "\n",
    "\n",
    "    #Now check on a variable\n",
    "    #Remember to change the plotter keys between truth and mc\n",
    "    \n",
    "    VARIABLE, BINS, RANGE, XTIT = 'reco_e',10,(0.0, 5.0),\"Reconstructed Energy [GeV]\"\n",
    "    #VARIABLE, BINS, RANGE, XTIT = 'cosNu_Angle_Numi_Elec_asmuon',10,(-1.0, 1.0),\"cos(Angle Diff)\"\n",
    "    #VARIABLE, BINS, RANGE, XTIT = 'targetP_asmuon',10,(0.0, 5.0),\"Lepton Momentum (GeV)\"\n",
    "    \n",
    "\n",
    "    var2, weight2, label2 = my_plotter.plot_variable(\n",
    "        VARIABLE,\n",
    "        query= TOTAL_QUERY,\n",
    "        currentsample = \"nue_nue\",\n",
    "        kind=\"event_category\",\n",
    "        draw_sys  = True, \n",
    "        draw_geoSys = True, \n",
    "        draw_data = True,\n",
    "        ratio=False,\n",
    "        genieweight = \"weightSplineTimesTuneTimesPPFX\",  \n",
    "        stacksort=3,\n",
    "        title=XTIT,\n",
    "        bins=BINS,\n",
    "        range=RANGE\n",
    "    )[0:3]\n",
    "    \n",
    "    varss2.append(var2)\n",
    "    weightss2.append(weight2)\n",
    "    labss2.append(label2)"
   ]
  },
  {
   "cell_type": "code",
   "execution_count": 43,
   "metadata": {},
   "outputs": [
    {
     "name": "stderr",
     "output_type": "stream",
     "text": [
      "No handles with labels found to put in legend.\n"
     ]
    },
    {
     "data": {
      "image/png": "[encoded data removed]",
      "text/plain": [
       "<Figure size 576x504 with 1 Axes>"
      ]
     },
     "metadata": {
      "needs_background": "light"
     },
     "output_type": "display_data"
    },
    {
     "data": {
      "image/png": "[encoded data removed]",
      "text/plain": [
       "<Figure size 576x504 with 1 Axes>"
      ]
     },
     "metadata": {
      "needs_background": "light"
     },
     "output_type": "display_data"
    }
   ],
   "source": [
    "from matplotlib import gridspec\n",
    "\n",
    "for i in range(int(n_events/batch_size)+1):\n",
    "    nue_fig = plt.figure(figsize=(8, 7))\n",
    "    nue_gs = gridspec.GridSpec(2, 1, height_ratios=[2, 1])\n",
    "    nue_ax1 = plt.subplot(nue_gs[0])\n",
    "    nue_ax1.set_xlim([0, 5])    #TrueE, lepton mom\n",
    "    #nue_ax1.set_xlim([-1, 1])    #AngleDiff\n",
    "\n",
    "    nue_stacked = nue_ax1.hist(\n",
    "                varss2[i].values(),\n",
    "                weights=list(weightss2[i].values()),\n",
    "                stacked=True,\n",
    "                label=labss2[i],\n",
    "                bins=BINS,\n",
    "                range=RANGE)\n",
    "    \n",
    "    plt.title(\"Adding now!\")\n",
    "    plt.legend()"
   ]
  },
  {
   "cell_type": "code",
   "execution_count": 54,
   "metadata": {},
   "outputs": [],
   "source": [
    "# plot the smearing matrix \n",
    "def plot_smearing(var1, var2, weight1, weight2, var3, weight3, bins, norm=False): \n",
    "    fig = plt.figure(figsize=(10, 6))\n",
    "    \n",
    "    smear = plt.hist2d(var1, var2,\n",
    "                   bins, weights=weight1, cmin=0.000000001, cmap='OrRd')\n",
    "    \n",
    "    zero_copy_smear = np.copy(smear[0].T)\n",
    "    \n",
    "    for i in range(len(bins)-1): # reco bins i (y axis) rows\n",
    "        for j in range(len(bins)-1): # true bins j (x axis) cols\n",
    "            if np.isnan(zero_copy_smear[i,j]):\n",
    "                zero_copy_smear[i,j]= 0\n",
    "\n",
    "    for i in range(len(bins)-1): # reco bins i (y axis) rows\n",
    "        for j in range(len(bins)-1): # true bins j (x axis) cols\n",
    "            if smear[0].T[i,j] > 0: \n",
    "                if smear[0].T[i,j]>80: \n",
    "                    col='white'\n",
    "                else: \n",
    "                    col='black'\n",
    "                    \n",
    "                binx_centers = smear[1][j]+(smear[1][j+1]-smear[1][j])/2\n",
    "                biny_centers = smear[2][i]+(smear[2][i+1]-smear[2][i])/2\n",
    "                        \n",
    "                plt.text(binx_centers, biny_centers, round(smear[0].T[i,j], 1), \n",
    "                    color=col, ha=\"center\", va=\"center\", fontsize=12)\n",
    "\n",
    "    cbar = plt.colorbar()\n",
    "    cbar.set_label('Selected Signal Events', fontsize=15)\n",
    "\n",
    "    if norm: \n",
    "        plt.close()\n",
    "        \n",
    "        norm_array = smear[0].T\n",
    "        \n",
    "        gen = plt.hist(var3, bins, weights=weight3, color='deepskyblue')\n",
    "        #gen = plt.hist(var1, bins, weights=weight1,color='deepskyblue')\n",
    "        #gen = plt.hist(var1, bins, color='deepskyblue')\n",
    "        print(\"\")\n",
    "        print(\"GENERATED\")\n",
    "        print(gen[0])\n",
    "        print(\"\")\n",
    "        plt.close()\n",
    "    \n",
    "        # for each truth bin (column): \n",
    "        for j in range(len(bins)-1): \n",
    "        \n",
    "            #reco_events_in_column = [ norm_array[i][j] for i in range(len(bins)-1) ]\n",
    "            #tot_reco_events = np.nansum(reco_events_in_column)\n",
    "        \n",
    "            # replace with normalized value \n",
    "            for i in range(len(bins)-1):\n",
    "                norm_array[i][j] =  norm_array[i][j] / gen[0][j]\n",
    "    \n",
    "        # now plot\n",
    "        fig = plt.figure(figsize=(10, 6))\n",
    "        plt.pcolor(bins, bins, norm_array, cmap='OrRd', vmax=1)\n",
    "        \n",
    "        zero_copy_smear_norm = np.copy(norm_array)\n",
    "\n",
    "        for i in range(len(bins)-1): # reco bins i (y axis) rows\n",
    "            for j in range(len(bins)-1): # true bins j (x axis) cols\n",
    "                if np.isnan(zero_copy_smear_norm[i,j]):\n",
    "                    zero_copy_smear_norm[i,j]= 0\n",
    "\n",
    "        print(zero_copy_smear_norm)\n",
    "    \n",
    "        # Loop over data dimensions and create text annotations.\n",
    "        for i in range(len(bins)-1): # reco bins (rows)\n",
    "            for j in range(len(bins)-1): # truth bins (cols)\n",
    "                if norm_array[i][j]>0: \n",
    "                \n",
    "                    if norm_array[i][j]>0.7: \n",
    "                        col = 'white'\n",
    "                    else: \n",
    "                        col = 'black'\n",
    "                    \n",
    "                    binx_centers = smear[1][j]+(smear[1][j+1]-smear[1][j])/2\n",
    "                    biny_centers = smear[2][i]+(smear[2][i+1]-smear[2][i])/2\n",
    "                \n",
    "                    plt.text(binx_centers, biny_centers, round(norm_array[i][j], 2), \n",
    "                         ha=\"center\", va=\"center\", color=col, fontsize=12)\n",
    "      \n",
    "        cbar = plt.colorbar()\n",
    "        cbar.set_label('Fraction of Reco Events in True Bin', fontsize=15)\n",
    "        \n",
    "        np.savetxt(\"nue_full_500_catsel_nopions_recoE_usingSelection_smearcept_weighted.csv\", \n",
    "           zero_copy_smear_norm,\n",
    "           delimiter =\", \", \n",
    "           fmt ='% s')\n",
    "        \n",
    "        with open('nue_full_500_catsel_nopions_recoE_usingSelection_prior_true_signal.csv') as file:\n",
    "            content = file.readlines()\n",
    "        prior_true = content[0:]\n",
    "\n",
    "        for i in range(10):\n",
    "            prior_true[i]=prior_true[i].rstrip().rstrip(',')\n",
    "            prior_true[i] = float(prior_true[i])\n",
    "\n",
    "        print(\"Prior Truth: \")\n",
    "        print(prior_true)\n",
    "        print(\"\")\n",
    "\n",
    "        with open('nue_full_500_catsel_nopions_recoE_usingSelection_data_signal_MCONLY.csv') as file:\n",
    "            content = file.readlines()\n",
    "        mcsig = content[0:]\n",
    "\n",
    "        for i in range(10):\n",
    "            mcsig[i]=mcsig[i].rstrip().rstrip(',')\n",
    "            mcsig[i] = float(mcsig[i])\n",
    "            \n",
    "        print(\"\")\n",
    "\n",
    "        print(\"SMEAR x PRIOR_TRUE\")\n",
    "        made_data_sig = np.dot(zero_copy_smear_norm, prior_true)\n",
    "        print(made_data_sig)\n",
    "        print(\"\")\n",
    "        print(\"MC DATA SIGNAL\")\n",
    "        print(mcsig)\n",
    "        print(\"\")\n",
    "        print(\"DIFFERENCES\")\n",
    "        \n",
    "        for i in range(10):\n",
    "            print(made_data_sig[i] - mcsig[i])\n",
    "\n",
    "    plt.xlabel('True ν Energy [GeV]', fontsize=15)\n",
    "    plt.ylabel('Reco ν Energy [GeV]', fontsize=15)\n",
    "    plt.text(0.1, 4.8, r'MicroBooNE In Progress', fontweight='bold')\n",
    "    \n",
    "    plt.show()"
   ]
  },
  {
   "cell_type": "code",
   "execution_count": 51,
   "metadata": {},
   "outputs": [
    {
     "ename": "IndexError",
     "evalue": "list index out of range",
     "output_type": "error",
     "traceback": [
      "\u001b[0;31m---------------------------------------------------------------------------\u001b[0m",
      "\u001b[0;31mIndexError\u001b[0m                                Traceback (most recent call last)",
      "\u001b[0;32m/tmp/ipykernel_10066/1772444530.py\u001b[0m in \u001b[0;36m<module>\u001b[0;34m\u001b[0m\n\u001b[1;32m      1\u001b[0m \u001b[0mbins\u001b[0m \u001b[0;34m=\u001b[0m \u001b[0mnp\u001b[0m\u001b[0;34m.\u001b[0m\u001b[0marange\u001b[0m\u001b[0;34m(\u001b[0m\u001b[0;36m0\u001b[0m\u001b[0;34m,\u001b[0m \u001b[0;36m5.5\u001b[0m\u001b[0;34m,\u001b[0m \u001b[0;36m0.5\u001b[0m\u001b[0;34m)\u001b[0m\u001b[0;34m\u001b[0m\u001b[0;34m\u001b[0m\u001b[0m\n\u001b[1;32m      2\u001b[0m \u001b[0;34m\u001b[0m\u001b[0m\n\u001b[0;32m----> 3\u001b[0;31m \u001b[0mvar1\u001b[0m \u001b[0;34m=\u001b[0m \u001b[0mvarss1\u001b[0m\u001b[0;34m[\u001b[0m\u001b[0mi\u001b[0m\u001b[0;34m]\u001b[0m\u001b[0;34m.\u001b[0m\u001b[0mvalues\u001b[0m\u001b[0;34m(\u001b[0m\u001b[0;34m)\u001b[0m\u001b[0;34m\u001b[0m\u001b[0;34m\u001b[0m\u001b[0m\n\u001b[0m\u001b[1;32m      4\u001b[0m \u001b[0mweight1\u001b[0m \u001b[0;34m=\u001b[0m \u001b[0mlist\u001b[0m\u001b[0;34m(\u001b[0m\u001b[0mweightss1\u001b[0m\u001b[0;34m[\u001b[0m\u001b[0mi\u001b[0m\u001b[0;34m]\u001b[0m\u001b[0;34m.\u001b[0m\u001b[0mvalues\u001b[0m\u001b[0;34m(\u001b[0m\u001b[0;34m)\u001b[0m\u001b[0;34m)\u001b[0m\u001b[0;34m\u001b[0m\u001b[0;34m\u001b[0m\u001b[0m\n\u001b[1;32m      5\u001b[0m \u001b[0;34m\u001b[0m\u001b[0m\n",
      "\u001b[0;31mIndexError\u001b[0m: list index out of range"
     ]
    }
   ],
   "source": [
    "bins = np.arange(0, 5.5, 0.5)\n",
    "\n",
    "var1 = varss1[i].values()\n",
    "weight1 = list(weightss1[i].values())\n",
    "\n",
    "var2 = varss2[i].values()\n",
    "weight2 = list(weightss2[i].values())\n",
    "\n",
    "# relationship between true & reco values\n",
    "plot_smearing(var1, var2, weight1, weight2, bins)"
   ]
  },
  {
   "cell_type": "code",
   "execution_count": 52,
   "metadata": {},
   "outputs": [],
   "source": [
    "def _selection(variable, sample, query=\"selected==1\", extra_cut=None, track_cuts=None, select_longest=True):\n",
    "        '''\n",
    "        variable,  must be specified\n",
    "        select_longest, True by default, keeps from multiple tracks of same event making it through\n",
    "        query must be a string defining event-level cuts\n",
    "        track_cuts is a list of cuts of which each entry looks like\n",
    "            (variable_tobe_cut_on, '>'or'<'or'=='etc, cut value )\n",
    "            or\n",
    "            (variable, [operator1, operator2], [cutval1, cutval2]) to do an 'or' cut\n",
    "        track_\n",
    "        returns an Series of values that pass all track_cuts\n",
    "        '''\n",
    "        sel_query = query\n",
    "        if extra_cut is not None:\n",
    "            sel_query += \"& %s\" % extra_cut\n",
    "        '''\n",
    "        if ( (track_cuts == None) or (select_longest == False) ):\n",
    "            return sample.query(sel_query).eval(variable).ravel()\n",
    "        '''\n",
    "\n",
    "\n",
    "        '''\n",
    "        df = sample.query(sel_query)\n",
    "        #print (df.isna().sum())\n",
    "        dfna = df.isna()\n",
    "        for (colname,colvals) in dfna.iteritems():\n",
    "            if (colvals.sum() != 0):\n",
    "                print ('name : ',colname)\n",
    "                print ('nan entries : ',colvals.sum())\n",
    "        '''  \n",
    "        df = sample.query(sel_query)\n",
    "        \n",
    "        #if (track_cuts != None):\n",
    "        #    df = sample.query(sel_query).dropna().copy() #don't want to eliminate anything from memory\n",
    "\n",
    "        #df = sample.query(sel_query).dropna().copy() #don't want to eliminate anything from memory\n",
    "\n",
    "        track_cuts_mask = None #df['trk_score_v'].apply(lambda x: x == x) #all-True mask, assuming trk_score_v is available\n",
    "        if track_cuts is not None:\n",
    "            vars, track_cuts_mask = _apply_track_cuts(df,variable,track_cuts,track_cuts_mask)\n",
    "        else:\n",
    "            vars = df[variable]\n",
    "        #vars is now a Series object that passes all the cuts\n",
    "        #select longest of the cut passing tracks\n",
    "        #assuming all track-level variables end in _v\n",
    "        if variable[-2:] == \"_v\" and select_longest:\n",
    "            vars, longest_mask = _select_longest(df, vars, track_cuts_mask)\n",
    "        elif \"_v_\" in variable:\n",
    "            print(\"Variable is being interpretted as event-level, not track_level, despite having _v in name\")\n",
    "            print(\"the longest track is NOT being selected\")\n",
    "        return vars.ravel()\n",
    "    \n",
    "#-------------------------------------------------------------------\n",
    "def _apply_track_cuts(df,variable,track_cuts,mask):\n",
    "    '''\n",
    "    df is dataframe of the sample of interest\n",
    "    variable is what values will be in the output\n",
    "    track_cuts are list of tuples defining track_cuts\n",
    "    input mask to be built upon\n",
    "\n",
    "    returns\n",
    "        Series of values of variable that pass all track_cuts\n",
    "        boolean mask that represents union of input mask and new cut mask\n",
    "    '''\n",
    "    #need to do this fancy business with the apply function to make masks\n",
    "    #this is because unflattened DataFrames are used\n",
    "    for (var,op,val) in track_cuts:\n",
    "        if type(op) == list:\n",
    "            #this means treat two conditions in an 'or' fashion\n",
    "            or_mask1 = df[var].apply(lambda x: eval(\"x{}{}\".format(op[0],val[0])))#or condition 1\n",
    "            or_mask2 = df[var].apply(lambda x: eval(\"x{}{}\".format(op[1],val[1])))#or condition 2\n",
    "            mask *= (or_mask1 + or_mask2) #just add the booleans for \"or\"\n",
    "        else:\n",
    "            mask *= df[var].apply(lambda x: eval(\"x{}{}\".format(op,val))) #layer on each cut mask\n",
    "    vars = (df[variable]*mask).apply(lambda x: x[x != False]) #apply mask\n",
    "    vars = vars[vars.apply(lambda x: len(x) > 0)] #clean up empty slices\n",
    "    #fix list comprehension issue for non '_v' variables\n",
    "    if variable[-2:] != \"_v\":\n",
    "        vars = vars.apply(lambda x: x[0])\n",
    "    elif \"_v\" not in variable:\n",
    "        print(\"_v not found in variable, assuming event-level\")\n",
    "        print(\"not fixing list comprehension bug for this variable\")\n",
    "\n",
    "    return vars, mask\n",
    "    \n",
    "#-----------------------------------------------------------------------\n",
    "\n",
    "def _select_longest(df, variable, mask):\n",
    "    '''\n",
    "    df: dataframe for sample\n",
    "    variable: Series of values that pass cuts defined by mask\n",
    "    mask: mask used to find variable\n",
    "\n",
    "    returns\n",
    "        list of values of variable corresponding to longest track in each slices\n",
    "        boolean mask for longest tracks in df\n",
    "    '''\n",
    "\n",
    "    #print(\"selecting longest...\")\n",
    "    #print(\"mask\", mask)\n",
    "    trk_lens = (df['trk_len_v']*mask).apply(lambda x: x[x != False])#apply mask to track lengths\n",
    "    trk_lens = trk_lens[trk_lens.apply(lambda x: len(x) > 0)]#clean up slices\n",
    "    variable = variable.apply(lambda x: x[~np.isnan(x)])#clean up nan vals\n",
    "    variable = variable[variable.apply(lambda x: len(x) > 0)] #clean up empty slices\n",
    "    nan_mask = variable.apply(lambda x: np.nan in x or \"nan\" in x)\n",
    "    longest_mask = trk_lens.apply(lambda x: x == x[list(x).index(max(x))])#identify longest\n",
    "    variable = (variable*longest_mask).apply(lambda x: x[x!=False])#apply mask\n",
    "    if len(variable.iloc[0]) == 1:\n",
    "        variable = variable.apply(lambda x: x[0] if len(x)>0 else -999)#expect values, not lists, for each event\n",
    "    else:\n",
    "        if len(variable.iloc[0]) == 0:\n",
    "            raise ValueError(\n",
    "                \"There is no longest track per slice\")\n",
    "        elif len(variable.iloc[0]) > 1:\n",
    "            #this happens with the reco_nu_e_range_v with unreconstructed values\n",
    "            print(\"there are more than one longest slice\")\n",
    "            print(variable.iloc[0])\n",
    "            try:\n",
    "                variable = variable.apply(lambda x: x[0])\n",
    "            except:\n",
    "                raise ValueError(\n",
    "                    \"There is more than one longest track per slice in \\n var {} lens {}\".format(variable,trk_lens))\n",
    "\n",
    "    return variable, longest_mask\n",
    "    \n",
    "#-----------------------------------------------------------------------\n",
    "def _get_genie_weight(sample, variable, query=\"selected==1\", extra_cut=None, track_cuts=None,\\\n",
    "                          select_longest=True, weightvar=\"weightSplineTimesTuneTimesPPFX\",weightsignal=None):\n",
    "\n",
    "        plotted_variable = _selection(\n",
    "            variable, sample, query=query, extra_cut=extra_cut, track_cuts=track_cuts, select_longest=select_longest)\n",
    "        genie_weights = _selection(\n",
    "            weightvar, sample, query=query, extra_cut=extra_cut, track_cuts=track_cuts, select_longest=select_longest)\n",
    "        if (weightsignal != None):\n",
    "            genie_weights *= _selection(\n",
    "            weightsignal, sample, query=query, extra_cut=extra_cut, track_cuts=track_cuts, select_longest=select_longest)\n",
    "        if plotted_variable.size > 0:\n",
    "            if isinstance(plotted_variable[0], np.ndarray):\n",
    "                if \"trk\" in variable or select_longest:\n",
    "                    score = self._selection(\n",
    "                        \"trk_score_v\", sample, query=query, extra_cut=extra_cut, track_cuts=track_cuts, select_longest=select_longest)\n",
    "                else:\n",
    "                    score = self._selection(\n",
    "                        \"shr_score_v\", sample, query=query, extra_cut=extra_cut, track_cuts=track_cuts, select_longest=select_longest)\n",
    "                genie_weights = np.array([\n",
    "                    np.array([c] * len(v[s > 0.5])) for c, v, s in zip(genie_weights, plotted_variable, score)\n",
    "                ])\n",
    "                genie_weights = np.hstack(genie_weights)\n",
    "        return genie_weights\n",
    "    \n",
    "    "
   ]
  },
  {
   "cell_type": "code",
   "execution_count": 55,
   "metadata": {
    "scrolled": false
   },
   "outputs": [
    {
     "name": "stdout",
     "output_type": "stream",
     "text": [
      "All is well.\n"
     ]
    },
    {
     "data": {
      "image/png": "[encoded data removed]",
      "text/plain": [
       "<Figure size 720x432 with 2 Axes>"
      ]
     },
     "metadata": {
      "needs_background": "light"
     },
     "output_type": "display_data"
    },
    {
     "name": "stdout",
     "output_type": "stream",
     "text": [
      "\n",
      "GENERATED\n",
      "[ 30.08480453 151.62806702 111.03919983  43.90078735  16.85549927\n",
      "   8.27182007   4.82931519   2.50286865   1.27365112   0.50073242]\n",
      "\n",
      "[[0.10586965 0.04199827 0.00687956 0.00286733 0.00037142 0.\n",
      "  0.         0.         0.         0.        ]\n",
      " [0.00425126 0.13706252 0.07903295 0.02527324 0.01218901 0.00452977\n",
      "  0.00433369 0.00747233 0.         0.        ]\n",
      " [0.         0.00261588 0.06990077 0.05425728 0.02598201 0.01737809\n",
      "  0.         0.00418053 0.00802186 0.        ]\n",
      " [0.         0.         0.00154923 0.03567791 0.04335191 0.01441124\n",
      "  0.02096925 0.00844472 0.00799013 0.        ]\n",
      " [0.         0.         0.         0.00187452 0.03717838 0.02610001\n",
      "  0.01419046 0.017531   0.01309051 0.01740218]\n",
      " [0.         0.         0.         0.         0.00307832 0.01649114\n",
      "  0.01236893 0.02022008 0.01350616 0.02032569]\n",
      " [0.         0.         0.         0.         0.         0.00220268\n",
      "  0.01565693 0.01231385 0.00965653 0.        ]\n",
      " [0.         0.         0.         0.         0.         0.00110584\n",
      "  0.00343581 0.01006402 0.00709546 0.        ]\n",
      " [0.         0.         0.         0.         0.         0.\n",
      "  0.         0.         0.0074709  0.        ]\n",
      " [0.         0.         0.         0.         0.         0.\n",
      "  0.         0.         0.         0.01928566]]\n",
      "Prior Truth: \n",
      "[30.084810827502174, 151.62865504965998, 111.03931566210608, 43.90048763860746, 16.85484444822777, 8.271492731185546, 4.829256825653858, 2.5025045208168826, 1.2736534180956065, 0.5006552407172141]\n",
      "\n",
      "\n",
      "SMEAR x PRIOR_TRUE\n",
      "[1.04492486e+01 3.10783166e+01 1.11426411e+01 2.72077018e+00\n",
      " 1.06260031e+00 3.26002899e-01 1.36945303e-01 5.99617578e-02\n",
      " 9.51534082e-03 9.65546514e-03]\n",
      "\n",
      "MC DATA SIGNAL\n",
      "[10.449224075510086, 31.078248422265883, 11.142672530720944, 2.7208182211142926, 1.0626423368548643, 0.3260199520259164, 0.13695140632728453, 0.0804829838961254, 0.020303320127453617, 0.02014767711723664]\n",
      "\n",
      "DIFFERENCES\n",
      "2.4539469427153904e-05\n",
      "6.820669743845542e-05\n",
      "-3.1384723767402534e-05\n",
      "-4.804345826148193e-05\n",
      "-4.2022332009672425e-05\n",
      "-1.7052825941055172e-05\n",
      "-6.1032796299098635e-06\n",
      "-0.020521226137340955\n",
      "-0.01078797930519882\n",
      "-0.010492211981174355\n"
     ]
    },
    {
     "data": {
      "image/png": "[encoded data removed]",
      "text/plain": [
       "<Figure size 720x432 with 2 Axes>"
      ]
     },
     "metadata": {
      "needs_background": "light"
     },
     "output_type": "display_data"
    }
   ],
   "source": [
    "current_genie_weights = _get_genie_weight(\n",
    "                nue_nue, 'nu_e', query=TOTAL_QUERY, track_cuts=None,select_longest=False, weightvar=\"weightSplineTimesTuneTimesPPFX\")\n",
    "\n",
    "\n",
    "current_genie_weights2 = _get_genie_weight(\n",
    "                nue_nue, 'reco_e', query=TOTAL_QUERY, track_cuts=None,select_longest=False, weightvar=\"weightSplineTimesTuneTimesPPFX\")\n",
    "\n",
    "\n",
    "current_genie_weights3 = _get_genie_weight(\n",
    "                nue_nue, 'nu_e', query=truthsel_nue_only, track_cuts=None,select_longest=False, weightvar=\"weightSplineTimesTuneTimesPPFX\")\n",
    "\n",
    "test_list1 = current_genie_weights\n",
    "test_list2 = current_genie_weights2\n",
    "\n",
    "if len(test_list1) == len(test_list2) and len(test_list1) == sum([1 for i, j in zip(test_list1, test_list2) if i == j]):\n",
    "    print(\"All is well.\")\n",
    "else:\n",
    "    print(\"Oh no.\")\n",
    "\n",
    "bins = np.arange(0, 5.5, 0.5)\n",
    "\n",
    "var1 = nue_nue.query(TOTAL_QUERY)['nu_e']\n",
    "weight1 = current_genie_weights * weights[\"nue_nue\"]\n",
    "\n",
    "\n",
    "var2 = nue_nue.query(TOTAL_QUERY)['reco_e']\n",
    "weight2 = current_genie_weights2* weights[\"nue_nue\"]\n",
    "\n",
    "\n",
    "var3 = nue_nue.query(truthsel_nue_only)['nu_e']\n",
    "weight3 = current_genie_weights3* weights[\"nue_nue\"]\n",
    "\n",
    "\n",
    "\n",
    "# relationship between true & reco values\n",
    "plot_smearing(var1, var2, weight1, weight2, var3, weight3, bins)\n",
    "\n",
    "plot_smearing(var1, var2, weight1, weight2, var3, weight3, bins, norm=True)"
   ]
  },
  {
   "cell_type": "markdown",
   "metadata": {},
   "source": [
    "### Now look at Efficiency"
   ]
  },
  {
   "cell_type": "code",
   "execution_count": 34,
   "metadata": {},
   "outputs": [],
   "source": [
    "# from Katerina  - modified, to be able to plot truth mc with nue eff selections\n",
    "# plot efficiency overlaid on selected signal events \n",
    "def plot_signal_and_eff(selected, df, signal, bins, variable, xaxis, savetitle): \n",
    "    \n",
    "    # generated true signal events per bin \n",
    "    gen = plt.hist(df.query(signal)[variable], bins, color='deepskyblue')\n",
    "    plt.close()\n",
    "    \n",
    "    # plot selected signal events \n",
    "    fig, ax1 = plt.subplots(figsize=(4, 5))\n",
    "    \n",
    "    # compute efficiency\n",
    "    #sel2=selected['nu_e']\n",
    "    sel = ax1.hist(selected[variable], bins, color='white')\n",
    "    print(\"sel = \", sel)\n",
    "    print(\"\")\n",
    "    print(\"gen = \", gen)\n",
    "    eff = [ a/b for a, b in zip(sel[0], gen[0]) ]\n",
    "    eff_err = []\n",
    "    for i in range(len(eff)):\n",
    "        eff_err.append(math.sqrt( (eff[i]*(1-eff[i]))/gen[0][i] ) )\n",
    "        print(\"In bin\", i, \", eff = \", eff[i], \" with error = \", eff_err[i])\n",
    "        \n",
    "    # compute bin centers \n",
    "    bc = 0.5*(sel[1][1:]+sel[1][:-1])\n",
    "    x_err = []\n",
    "    for i in range(len(sel[1])-1): \n",
    "        x_err.append((sel[1][i+1]-sel[1][i])/2)\n",
    "\n",
    "    # plot efficiency\n",
    "    ax1.errorbar(bc, eff, xerr=x_err, yerr=eff_err, fmt='o', color='orangered', ecolor='orangered', markersize=3) \n",
    "    ax1.set_ylim(0, 0.30)\n",
    "    ax1.set_ylabel('Efficiency', fontsize=15)\n",
    "    ax1.set_title(\"Efficiency\")\n",
    "    ax1.set_xlabel(xaxis)\n",
    "    \n",
    "    np.savetxt(savetitle,\n",
    "           eff,\n",
    "           delimiter =\", \", \n",
    "           fmt ='% s')\n",
    "\n",
    "    plt.show()"
   ]
  },
  {
   "cell_type": "code",
   "execution_count": 35,
   "metadata": {},
   "outputs": [
    {
     "name": "stdout",
     "output_type": "stream",
     "text": [
      "sel =  (array([ 394., 2785., 1837.,  601.,  231.,   75.,   39.,   20.,    9.,\n",
      "          3.]), array([0. , 0.5, 1. , 1.5, 2. , 2.5, 3. , 3.5, 4. , 4.5, 5. ]), <a list of 10 Patch objects>)\n",
      "\n",
      "gen =  (array([ 3073., 16077., 12086.,  4874.,  2003.,   948.,   552.,   276.,\n",
      "         139.,    59.]), array([0. , 0.5, 1. , 1.5, 2. , 2.5, 3. , 3.5, 4. , 4.5, 5. ]), <a list of 10 Patch objects>)\n",
      "In bin 0 , eff =  0.1282134721770257  with error =  0.0060310180371728654\n",
      "In bin 1 , eff =  0.17322883622566398  with error =  0.0029846969955259197\n",
      "In bin 2 , eff =  0.15199404269402614  with error =  0.0032656635575210625\n",
      "In bin 3 , eff =  0.12330734509643004  with error =  0.004709506440308249\n",
      "In bin 4 , eff =  0.11532700948577135  with error =  0.0071370119640335435\n",
      "In bin 5 , eff =  0.07911392405063292  with error =  0.008766480024320945\n",
      "In bin 6 , eff =  0.07065217391304347  with error =  0.010906423801356284\n",
      "In bin 7 , eff =  0.07246376811594203  with error =  0.015605272523425088\n",
      "In bin 8 , eff =  0.06474820143884892  with error =  0.020872320290552023\n",
      "In bin 9 , eff =  0.05084745762711865  with error =  0.028600697419485534\n"
     ]
    },
    {
     "data": {
      "image/png": "[encoded data removed]",
      "text/plain": [
       "<Figure size 288x360 with 1 Axes>"
      ]
     },
     "metadata": {
      "needs_background": "light"
     },
     "output_type": "display_data"
    }
   ],
   "source": [
    "#ENERGY\n",
    "\n",
    "#this is the truth selection\n",
    "fiduc_q = \"(nu_pdg == 12 and ccnc == 0 and true_nu_vtx_z < 1036.8 and true_nu_vtx_z > 0 and true_nu_vtx_y < 116.5 and true_nu_vtx_y > -116.5 and true_nu_vtx_x < \\\n",
    " 254.8 and true_nu_vtx_x > -1.55 and nproton > 0 and npion == 0 and nu_e > 0.04 and nu_e < 5)\"\n",
    "fiduc_q  += \" and category == 11\"\n",
    "\n",
    "\n",
    "variable = 'nu_e'\n",
    "xaxis = \"True Neutrino Energy [GeV]\"\n",
    "savetitle = \"batch_eff_nue_fig_full_500_catsel_nopions_recoE_matrix_trueeff.csv\"\n",
    "\n",
    "\n",
    "bins = np.arange(0, 5.5, 0.5)\n",
    "#plot_signal_and_eff(selected, nue, fiduc_q, bins, mc.query(fiduc_q))\n",
    "\n",
    "selected = nue_nue.query(SEL_QUERY)\n",
    "selected_fid = selected.query(fiduc_q)\n",
    "\n",
    "#had truth as mc - should be nue?\n",
    "plot_signal_and_eff(selected_fid, nue_nue, fiduc_q, bins, variable, xaxis, savetitle)"
   ]
  },
  {
   "cell_type": "code",
   "execution_count": 38,
   "metadata": {},
   "outputs": [
    {
     "name": "stdout",
     "output_type": "stream",
     "text": [
      "sel =  (array([  63.,   92.,  135.,  164.,  224.,  352.,  489.,  777., 1290.]), array([-1.00000000e+00, -8.00000000e-01, -6.00000000e-01, -4.00000000e-01,\n",
      "       -2.00000000e-01, -2.22044605e-16,  2.00000000e-01,  4.00000000e-01,\n",
      "        6.00000000e-01,  8.00000000e-01]), <a list of 9 Patch objects>)\n",
      "\n",
      "gen =  (array([ 727.,  766.,  869., 1103., 1305., 1873., 2500., 3584., 5975.]), array([-1.00000000e+00, -8.00000000e-01, -6.00000000e-01, -4.00000000e-01,\n",
      "       -2.00000000e-01, -2.22044605e-16,  2.00000000e-01,  4.00000000e-01,\n",
      "        6.00000000e-01,  8.00000000e-01]), <a list of 9 Patch objects>)\n",
      "In bin 0 , eff =  0.08665749656121045  with error =  0.010434044824723475\n",
      "In bin 1 , eff =  0.12010443864229765  with error =  0.011745748770447999\n",
      "In bin 2 , eff =  0.15535097813578827  with error =  0.012288114502639039\n",
      "In bin 3 , eff =  0.1486854034451496  with error =  0.010712515208485084\n",
      "In bin 4 , eff =  0.17164750957854405  with error =  0.010438091237629545\n",
      "In bin 5 , eff =  0.18793379604911906  with error =  0.009026705480231892\n",
      "In bin 6 , eff =  0.1956  with error =  0.007933237422389425\n",
      "In bin 7 , eff =  0.216796875  with error =  0.006883030820686859\n",
      "In bin 8 , eff =  0.21589958158995817  with error =  0.005322832357981016\n"
     ]
    },
    {
     "data": {
      "image/png": "[encoded data removed]",
      "text/plain": [
       "<Figure size 288x360 with 1 Axes>"
      ]
     },
     "metadata": {
      "needs_background": "light"
     },
     "output_type": "display_data"
    }
   ],
   "source": [
    "# ANGLE\n",
    "\n",
    "#this is the truth selection\n",
    "fiduc_q = \"(nu_pdg == 12 and ccnc == 0 and true_nu_vtx_z < 1036.8 and true_nu_vtx_z > 0 and true_nu_vtx_y < 116.5 and true_nu_vtx_y > -116.5 and true_nu_vtx_x < \\\n",
    " 254.8 and true_nu_vtx_x > -1.55 and nproton > 0 and npion == 0 and nu_e > 0.04 and nu_e < 5)\"\n",
    "fiduc_q  += \" and category == 11\"\n",
    "\n",
    "variable = 'cosNu_Angle_Numi_Elec_asmuon'\n",
    "xaxis = \"cos(Lepton Angle)\"\n",
    "savetitle = \"batch_eff_nue_fig_full_500_catsel_nopions_AngleDiff_matrix_trueeff.csv\"\n",
    "\n",
    "\n",
    "bin_width = 0.2\n",
    "bins = np.arange(-1, 1, bin_width)\n",
    "#plot_signal_and_eff(selected, nue, fiduc_q, bins, mc.query(fiduc_q))\n",
    "\n",
    "selected = nue_nue.query(SEL_QUERY)\n",
    "selected_fid = selected.query(fiduc_q)\n",
    "\n",
    "#had truth as mc - should be nue?\n",
    "plot_signal_and_eff(selected_fid, nue_nue, fiduc_q, bins, variable, xaxis, savetitle)"
   ]
  },
  {
   "cell_type": "code",
   "execution_count": 39,
   "metadata": {},
   "outputs": [
    {
     "name": "stdout",
     "output_type": "stream",
     "text": [
      "sel =  (array([3.326e+03, 2.076e+03, 4.290e+02, 1.170e+02, 3.700e+01, 7.000e+00,\n",
      "       1.000e+00, 1.000e+00, 0.000e+00]), array([0. , 0.5, 1. , 1.5, 2. , 2.5, 3. , 3.5, 4. , 4.5]), <a list of 9 Patch objects>)\n",
      "\n",
      "gen =  (array([2.694e+04, 9.326e+03, 2.511e+03, 8.300e+02, 3.070e+02, 1.180e+02,\n",
      "       4.600e+01, 5.000e+00, 1.000e+00]), array([0. , 0.5, 1. , 1.5, 2. , 2.5, 3. , 3.5, 4. , 4.5]), <a list of 9 Patch objects>)\n",
      "In bin 0 , eff =  0.12345953971789161  with error =  0.0020042390281735656\n",
      "In bin 1 , eff =  0.2226034741582672  with error =  0.004307641588030057\n",
      "In bin 2 , eff =  0.17084826762246116  with error =  0.007511020366805268\n",
      "In bin 3 , eff =  0.14096385542168674  with error =  0.012078710080652588\n",
      "In bin 4 , eff =  0.12052117263843648  with error =  0.018581260882267775\n",
      "In bin 5 , eff =  0.059322033898305086  with error =  0.02174640632545545\n",
      "In bin 6 , eff =  0.021739130434782608  with error =  0.021501537175949575\n",
      "In bin 7 , eff =  0.2  with error =  0.1788854381999832\n",
      "In bin 8 , eff =  0.0  with error =  0.0\n"
     ]
    },
    {
     "data": {
      "image/png": "[encoded data removed]",
      "text/plain": [
       "<Figure size 288x360 with 1 Axes>"
      ]
     },
     "metadata": {
      "needs_background": "light"
     },
     "output_type": "display_data"
    }
   ],
   "source": [
    "# LEPTON MOMENTUM\n",
    "\n",
    "#this is the truth selection\n",
    "fiduc_q = \"(nu_pdg == 12 and ccnc == 0 and true_nu_vtx_z < 1036.8 and true_nu_vtx_z > 0 and true_nu_vtx_y < 116.5 and true_nu_vtx_y > -116.5 and true_nu_vtx_x < \\\n",
    " 254.8 and true_nu_vtx_x > -1.55 and nproton > 0 and npion == 0 and nu_e > 0.04 and nu_e < 5)\"\n",
    "fiduc_q  += \" and category == 11\"\n",
    "\n",
    "variable = 'targetP_asmuon'\n",
    "xaxis = \"True Lepton Momentum [GeV]\"\n",
    "savetitle = \"batch_eff_nue_fig_full_500_catsel_nopions_LeptonMom_matrix_trueeff.csv\"\n",
    "\n",
    "\n",
    "bin_width = 0.5\n",
    "bins = np.arange(0, 5.0, bin_width)\n",
    "#plot_signal_and_eff(selected, nue, fiduc_q, bins, mc.query(fiduc_q))\n",
    "\n",
    "selected = nue_nue.query(SEL_QUERY)\n",
    "selected_fid = selected.query(fiduc_q)\n",
    "\n",
    "#had truth as mc - should be nue?\n",
    "plot_signal_and_eff(selected_fid, nue_nue, fiduc_q, bins, variable, xaxis, savetitle)"
   ]
  },
  {
   "cell_type": "markdown",
   "metadata": {},
   "source": [
    "### Smearing Matrix work"
   ]
  },
  {
   "cell_type": "code",
   "execution_count": 52,
   "metadata": {},
   "outputs": [],
   "source": [
    "# plot the smearing matrix \n",
    "def plot_smearing(selected, signal, df, true, reco, bins, norm=False): \n",
    "    fig = plt.figure(figsize=(10, 6))\n",
    "    \n",
    "    smear = plt.hist2d(selected.query(signal)[true],selected.query(signal)[reco],\n",
    "                   bins, cmin=0.000000001, cmap='OrRd')\n",
    "    \n",
    "    zero_copy_smear = np.copy(smear[0].T)\n",
    "    \n",
    "    for i in range(len(bins)-1): # reco bins i (y axis) rows\n",
    "        for j in range(len(bins)-1): # true bins j (x axis) cols\n",
    "            if np.isnan(zero_copy_smear[i,j]):\n",
    "                zero_copy_smear[i,j]= 0\n",
    "\n",
    "    for i in range(len(bins)-1): # reco bins i (y axis) rows\n",
    "        for j in range(len(bins)-1): # true bins j (x axis) cols\n",
    "            if smear[0].T[i,j] > 0: \n",
    "                if smear[0].T[i,j]>80: \n",
    "                    col='white'\n",
    "                else: \n",
    "                    col='black'\n",
    "                    \n",
    "                binx_centers = smear[1][j]+(smear[1][j+1]-smear[1][j])/2\n",
    "                biny_centers = smear[2][i]+(smear[2][i+1]-smear[2][i])/2\n",
    "                        \n",
    "                plt.text(binx_centers, biny_centers, round(smear[0].T[i,j], 1), \n",
    "                    color=col, ha=\"center\", va=\"center\", fontsize=12)\n",
    "\n",
    "    cbar = plt.colorbar()\n",
    "    cbar.set_label('Selected Signal Events', fontsize=15)\n",
    "\n",
    "    if norm: \n",
    "        plt.close()\n",
    "        \n",
    "        norm_array = smear[0].T\n",
    "        \n",
    "        gen = plt.hist(df.query(signal)['nu_e'], bins, color='deepskyblue')\n",
    "        print(gen[0])\n",
    "        plt.close()\n",
    "    \n",
    "        # for each truth bin (column): \n",
    "        for j in range(len(bins)-1): \n",
    "        \n",
    "            #reco_events_in_column = [ norm_array[i][j] for i in range(len(bins)-1) ]\n",
    "            #tot_reco_events = np.nansum(reco_events_in_column)\n",
    "        \n",
    "            # replace with normalized value \n",
    "            for i in range(len(bins)-1):\n",
    "                norm_array[i][j] =  norm_array[i][j] / gen[0][j]\n",
    "    \n",
    "        # now plot\n",
    "        fig = plt.figure(figsize=(10, 6))\n",
    "        plt.pcolor(bins, bins, norm_array, cmap='OrRd', vmax=1)\n",
    "        \n",
    "        zero_copy_smear_norm = np.copy(norm_array)\n",
    "\n",
    "        for i in range(len(bins)-1): # reco bins i (y axis) rows\n",
    "            for j in range(len(bins)-1): # true bins j (x axis) cols\n",
    "                if np.isnan(zero_copy_smear_norm[i,j]):\n",
    "                    zero_copy_smear_norm[i,j]= 0\n",
    "\n",
    "        print(zero_copy_smear_norm)\n",
    "    \n",
    "        # Loop over data dimensions and create text annotations.\n",
    "        for i in range(len(bins)-1): # reco bins (rows)\n",
    "            for j in range(len(bins)-1): # truth bins (cols)\n",
    "                if norm_array[i][j]>0: \n",
    "                \n",
    "                    if norm_array[i][j]>0.7: \n",
    "                        col = 'white'\n",
    "                    else: \n",
    "                        col = 'black'\n",
    "                    \n",
    "                    binx_centers = smear[1][j]+(smear[1][j+1]-smear[1][j])/2\n",
    "                    biny_centers = smear[2][i]+(smear[2][i+1]-smear[2][i])/2\n",
    "                \n",
    "                    plt.text(binx_centers, biny_centers, round(norm_array[i][j], 2), \n",
    "                         ha=\"center\", va=\"center\", color=col, fontsize=12)\n",
    "      \n",
    "        cbar = plt.colorbar()\n",
    "        cbar.set_label('Fraction of Reco Events in True Bin', fontsize=15)\n",
    "        \n",
    "        np.savetxt(\"nue_full_500_catsel_nopions_recoE_usingSelection_smearcept.csv\", \n",
    "           zero_copy_smear_norm,\n",
    "           delimiter =\", \", \n",
    "           fmt ='% s')\n",
    "\n",
    "    plt.xlabel('True ν Energy [GeV]', fontsize=15)\n",
    "    plt.ylabel('Reco ν Energy [GeV]', fontsize=15)\n",
    "    plt.text(0.1, 4.8, r'MicroBooNE In Progress', fontweight='bold')\n",
    "    \n",
    "    plt.show()"
   ]
  },
  {
   "cell_type": "code",
   "execution_count": 53,
   "metadata": {
    "scrolled": false
   },
   "outputs": [
    {
     "data": {
      "image/png": "[encoded data removed]",
      "text/plain": [
       "<Figure size 720x432 with 2 Axes>"
      ]
     },
     "metadata": {
      "needs_background": "light"
     },
     "output_type": "display_data"
    }
   ],
   "source": [
    "# true nu energy \n",
    "true_var = 'nu_e'\n",
    "\n",
    "# reconstructed nu energy \n",
    "reco_var = 'reco_e'\n",
    "\n",
    "bins = np.arange(0, 5.5, 0.5)\n",
    "\n",
    "#fiduc_q = \"true_nu_vtx_z < 1036.8 and true_nu_vtx_z > 0 and true_nu_vtx_y < 116.5 and true_nu_vtx_y > -116.5 and true_nu_vtx_x < \\\n",
    " #254.8 and true_nu_vtx_x > -1.55 and ((nu_pdg) == 12 and ccnc == 0) and nproton > 0\"\n",
    "\n",
    "fiduc_q  = \"(nu_pdg == 12 and ccnc == 0 and true_nu_vtx_z < 1036.8 and true_nu_vtx_z > 0 and true_nu_vtx_y < 116.5 and true_nu_vtx_y > -116.5 and true_nu_vtx_x < \\\n",
    " 254.8 and true_nu_vtx_x > -1.55 and nproton > 0 and npion == 0 and nu_e > 0.04 and nu_e < 5)\"\n",
    "fiduc_q  += \" and category == 11\"\n",
    "\n",
    "#keep category as it gets the bit we will select from truth, not stuff out of fid vol, dirt, etc\n",
    "\n",
    "\n",
    "selected = nue.query(SEL_QUERY)\n",
    "selected_fid = selected.query(fiduc_q)\n",
    "\n",
    "# relationship between true & reco values\n",
    "plot_smearing(selected_fid, fiduc_q, nue, true_var, reco_var, bins)"
   ]
  },
  {
   "cell_type": "code",
   "execution_count": 54,
   "metadata": {
    "scrolled": false
   },
   "outputs": [
    {
     "name": "stdout",
     "output_type": "stream",
     "text": [
      "[ 3073. 16077. 12086.  4874.  2003.   948.   552.   276.   139.    59.]\n",
      "[[0.123 0.04  0.008 0.003 0.    0.    0.    0.    0.    0.   ]\n",
      " [0.006 0.13  0.079 0.025 0.011 0.005 0.005 0.007 0.    0.   ]\n",
      " [0.    0.003 0.063 0.056 0.025 0.018 0.    0.004 0.007 0.   ]\n",
      " [0.    0.    0.001 0.036 0.043 0.016 0.016 0.007 0.007 0.   ]\n",
      " [0.    0.    0.    0.002 0.031 0.023 0.014 0.018 0.014 0.017]\n",
      " [0.    0.    0.    0.    0.003 0.014 0.014 0.014 0.014 0.017]\n",
      " [0.    0.    0.    0.    0.    0.002 0.016 0.011 0.007 0.   ]\n",
      " [0.    0.    0.    0.    0.    0.001 0.004 0.011 0.007 0.   ]\n",
      " [0.    0.    0.    0.    0.    0.    0.    0.    0.007 0.   ]\n",
      " [0.    0.    0.    0.    0.    0.    0.    0.    0.    0.017]]\n"
     ]
    },
    {
     "data": {
      "image/png": "[encoded data removed]",
      "text/plain": [
       "<Figure size 720x432 with 2 Axes>"
      ]
     },
     "metadata": {
      "needs_background": "light"
     },
     "output_type": "display_data"
    }
   ],
   "source": [
    "# relationship between true & reco values\n",
    "plot_smearing(selected_fid, fiduc_q, nue, true_var, reco_var, bins, norm=True)"
   ]
  },
  {
   "cell_type": "code",
   "execution_count": 55,
   "metadata": {},
   "outputs": [
    {
     "name": "stdout",
     "output_type": "stream",
     "text": [
      "[0.1282134721770257, 0.17322883622566398, 0.15199404269402614, 0.12330734509643004, 0.11532700948577135, 0.07911392405063292, 0.07065217391304347, 0.07246376811594203, 0.06474820143884892, 0.05084745762711865]\n",
      "\n",
      "Smearcept: \n",
      "[[0.12268141880898145, 0.04043042856254276, 0.008274036074797287, 0.003487894952810833, 0.0004992511233150275, 0.0, 0.0, 0.0, 0.0, 0.0], [0.005532053368044257, 0.12999937799340672, 0.07918252523581003, 0.025235945835043086, 0.011482775836245632, 0.005274261603375527, 0.005434782608695652, 0.007246376811594203, 0.0, 0.0], [0.0, 0.002799029669714499, 0.06304815488995533, 0.05642183011899877, 0.0254618072890664, 0.017932489451476793, 0.0, 0.0036231884057971015, 0.007194244604316547, 0.0], [0.0, 0.0, 0.0014893264934635116, 0.0359048009848174, 0.04343484772840739, 0.015822784810126583, 0.016304347826086956, 0.007246376811594203, 0.007194244604316547, 0.0], [0.0, 0.0, 0.0, 0.0022568732047599507, 0.0309535696455317, 0.023206751054852322, 0.014492753623188406, 0.018115942028985508, 0.014388489208633094, 0.01694915254237288], [0.0, 0.0, 0.0, 0.0, 0.003494757863205192, 0.013713080168776372, 0.014492753623188406, 0.014492753623188406, 0.014388489208633094, 0.01694915254237288], [0.0, 0.0, 0.0, 0.0, 0.0, 0.002109704641350211, 0.016304347826086956, 0.010869565217391304, 0.007194244604316547, 0.0], [0.0, 0.0, 0.0, 0.0, 0.0, 0.0010548523206751054, 0.0036231884057971015, 0.010869565217391304, 0.007194244604316547, 0.0], [0.0, 0.0, 0.0, 0.0, 0.0, 0.0, 0.0, 0.0, 0.007194244604316547, 0.0], [0.0, 0.0, 0.0, 0.0, 0.0, 0.0, 0.0, 0.0, 0.0, 0.01694915254237288]]\n",
      "\n",
      "\n",
      "Prior Truth: \n",
      "[30.084810827502174, 151.62865504965998, 111.03931566210608, 43.90048763860746, 16.85484444822777, 8.271492731185546, 4.829256825653858, 2.5025045208168826, 1.2736534180956065, 0.5006552407172141]\n",
      "\n",
      "Recreated Truth: \n",
      "[1.090e+01 3.006e+01 1.050e+01 2.711e+00 9.549e-01 3.054e-01 1.326e-01\n",
      " 6.259e-02 9.163e-03 8.486e-03]\n",
      "\n",
      "10.90153717573127\n",
      "30.05985183306758\n",
      "10.497896209662827\n",
      "2.7106126660595367\n",
      "0.9548859950764906\n",
      "0.30540028443302114\n",
      "0.13255239995958107\n",
      "0.06258662096900323\n",
      "0.009162974230903644\n",
      "0.008485682046054476\n"
     ]
    }
   ],
   "source": [
    "with open('batch_eff_nue_fig_full_500_catsel_nopions_recoE_matrix_trueeff.csv') as file:\n",
    "    content = file.readlines()\n",
    "effs = content[0:]\n",
    "    \n",
    "for i in range(10):\n",
    "    effs[i]=effs[i].rstrip().rstrip(',')\n",
    "    effs[i] = float(effs[i])\n",
    "    \n",
    "print(effs)\n",
    "print(\"\")\n",
    "#----------------------------------------------------------------------------------\n",
    "\n",
    "with open('nue_full_500_catsel_nopions_recoE_usingSelection_smearcept.csv') as file:\n",
    "    content = file.readlines()\n",
    "smear = content[0:]\n",
    "\n",
    "for i in range(10):\n",
    "    smear[i]=smear[i].rstrip().rstrip(',')\n",
    "    smear[i] = [float(idx) for idx in smear[i].split(', ')]\n",
    "    \n",
    "print(\"Smearcept: \")\n",
    "print((smear))\n",
    "print(\"\")\n",
    "print(\"\")\n",
    "\n",
    "#------------------------------------------------------------------\n",
    "#Should be efficiency noramlised by dividing by truth\n",
    "\"\"\"\n",
    "#print(np.dot(effs, data_signal))\n",
    "for i in range(10):\n",
    "    smear[i] = [a*b for a,b in zip(smear[i], effs)]\n",
    "    \n",
    "print(smear)\n",
    "print(\"\")\n",
    "\n",
    "np.savetxt(\"nue_full_500_catsel_nopions_recoE_usingSelection_smearcept.csv\", \n",
    "   smear,\n",
    "   delimiter =\", \", \n",
    "   fmt ='% s')\n",
    "\"\"\"\n",
    "#--------------------------------------------------------\n",
    "\n",
    "#Now test by multiplying with the prior_true_signal\n",
    "\n",
    "with open('nue_full_500_catsel_nopions_recoE_usingSelection_prior_true_signal.csv') as file:\n",
    "    content = file.readlines()\n",
    "prior_true = content[0:]\n",
    "    \n",
    "for i in range(10):\n",
    "    prior_true[i]=prior_true[i].rstrip().rstrip(',')\n",
    "    prior_true[i] = float(prior_true[i])\n",
    "    \n",
    "print(\"Prior Truth: \")\n",
    "print(prior_true)\n",
    "print(\"\")\n",
    "\n",
    "made_data_sig = np.dot(smear, prior_true)\n",
    "print(\"Recreated Truth: \")\n",
    "print(made_data_sig)\n",
    "print(\"\")\n",
    "\n",
    "for i in made_data_sig:\n",
    "    print(i)"
   ]
  },
  {
   "cell_type": "code",
   "execution_count": null,
   "metadata": {},
   "outputs": [],
   "source": [
    "##------------------------------------------------------------------"
   ]
  }
 ],
 "metadata": {
  "accelerator": "GPU",
  "colab": {
   "name": "Plotter.ipynb",
   "provenance": [],
   "version": "0.3.2"
  },
  "kernelspec": {
   "display_name": "Python 3 (ipykernel)",
   "language": "python",
   "name": "python3"
  },
  "language_info": {
   "codemirror_mode": {
    "name": "ipython",
    "version": 3
   },
   "file_extension": ".py",
   "mimetype": "text/x-python",
   "name": "python",
   "nbconvert_exporter": "python",
   "pygments_lexer": "ipython3",
   "version": "3.8.12"
  }
 },
 "nbformat": 4,
 "nbformat_minor": 2
}
