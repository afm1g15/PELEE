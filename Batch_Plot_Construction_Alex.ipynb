{
 "cells": [
  {
   "cell_type": "code",
   "execution_count": 111,
   "id": "0fc44e1a",
   "metadata": {},
   "outputs": [
    {
     "name": "stdout",
     "output_type": "stream",
     "text": [
      "/home/alex/NuMI/PELEE/\n"
     ]
    }
   ],
   "source": [
    "import pandas as pd\n",
    "import matplotlib.pyplot as plt\n",
    "import matplotlib\n",
    "import sys\n",
    "import localSettings as ls\n",
    "import math\n",
    "print(ls.main_path)\n",
    "import load_data_run123\n",
    "import plotter_alex\n",
    "import importlib\n",
    "importlib.reload(plotter_alex)\n",
    "import uproot\n",
    "import matplotlib.pylab as pylab\n",
    "import numpy as np\n",
    "import math\n",
    "from sklearn.model_selection import train_test_split\n",
    "import pickle\n",
    "import xgboost as xgb\n",
    "import nue_booster \n",
    "importlib.reload(nue_booster)\n",
    "import awkward\n",
    "from matplotlib import gridspec\n",
    "from collections import defaultdict"
   ]
  },
  {
   "cell_type": "code",
   "execution_count": 114,
   "id": "0d37e614",
   "metadata": {},
   "outputs": [],
   "source": [
    "nue_nue_vars_tot_df = pd.read_csv(\"nue_nue_varstot.csv\")\n",
    "nue_nue_weights_tot_df = pd.read_csv(\"nue_nue_weightstot.csv\")\n",
    "\n",
    "nue_nue_vars_tot = defaultdict(list)\n",
    "nue_nue_weights_tot = defaultdict(list)\n",
    "\n",
    "\n",
    "nue_nue_vars_tot = nue_nue_vars_tot_df.to_dict()\n",
    "nue_nue_weights_tot = nue_nue_weights_tot_df.to_dict()\n",
    "nue_nue_vars_tot.pop(\"Unnamed: 0\")\n",
    "nue_nue_weights_tot.pop(\"Unnamed: 0\")\n",
    "\n",
    "poplist = []\n",
    "\n",
    "for c in nue_nue_vars_tot.keys():\n",
    "    if len(nue_nue_weights_tot[c][0]) > 2:\n",
    "        nue_nue_weights_tot[c][0] = nue_nue_weights_tot[c][0][1:]\n",
    "        nue_nue_weights_tot[c][0] = nue_nue_weights_tot[c][0][:-1]\n",
    "        nue_nue_weights_tot[c][0] = list(map(float,nue_nue_weights_tot[c][0].split(\",\")))\n",
    "    else:\n",
    "        poplist.append(c)\n",
    "        \n",
    "for c in nue_nue_vars_tot.keys():\n",
    "    if len(nue_nue_vars_tot[c][0]) > 2:\n",
    "        nue_nue_vars_tot[c][0] = nue_nue_vars_tot[c][0][1:]\n",
    "        nue_nue_vars_tot[c][0] = nue_nue_vars_tot[c][0][:-1]\n",
    "        nue_nue_vars_tot[c][0] = list(map(float,nue_nue_vars_tot[c][0].split(\",\")))\n",
    "        \n",
    "for i in poplist:\n",
    "    nue_nue_vars_tot.pop(i)\n",
    "    nue_nue_weights_tot.pop(i)"
   ]
  },
  {
   "cell_type": "code",
   "execution_count": 115,
   "id": "003519d0",
   "metadata": {
    "scrolled": false
   },
   "outputs": [
    {
     "data": {
      "text/plain": [
       "<matplotlib.legend.Legend at 0x7f0ae6b5c2e0>"
      ]
     },
     "execution_count": 115,
     "metadata": {},
     "output_type": "execute_result"
    },
    {
     "data": {
      "image/png": "[encoded data removed]",
      "text/plain": [
       "<Figure size 576x504 with 1 Axes>"
      ]
     },
     "metadata": {
      "needs_background": "light"
     },
     "output_type": "display_data"
    }
   ],
   "source": [
    "category_labels = {\n",
    "    1: r\"$\\nu_e$ Other\",\n",
    "    11110: r\"$\\nu_e$\",\n",
    "    11111: r\"$\\bar\\nu_e$\",\n",
    "    10: r\"$\\nu_e$ CC0$\\pi$0p\",\n",
    "    9: r\"$\\bar\\nu_e$ CC0$\\pi$0p\",\n",
    "    12: r\"$\\bar\\nu_e$ CC0$\\pi$Np\",\n",
    "    11: r\"$\\nu_e$ CC0$\\pi$Np\",\n",
    "    11357: r\"$\\nu_e$ CC $\\pi^{0}$\",\n",
    "    111: r\"MiniBooNE LEE\",\n",
    "    2: r\"$\\nu_{\\mu}$ CC\",\n",
    "    21: r\"$\\nu_{\\mu}$ CC $\\pi^{0}$\",\n",
    "    22: r\"$\\nu_{\\mu}$ CC 0p$^+$\",\n",
    "    23: r\"$\\nu_{\\mu}$ CC 1p$^+$\",\n",
    "    24: r\"$\\nu_{\\mu}$ CC 2p$^+$\",\n",
    "    25: r\"$\\nu_{\\mu}$ CC Np$^+$\",\n",
    "    3: r\"$\\nu$ NC\",\n",
    "    31: r\"$\\nu$ NC $\\pi^{0}$\",\n",
    "    4: r\"Cosmic\",\n",
    "    5: r\"Out. fid. vol.\",\n",
    "    # eta categories start with 80XX\n",
    "    801: r\"$\\eta \\rightarrow$ other\",\n",
    "    802: r\"$\\nu_{\\mu} \\eta \\rightarrow \\gamma\\gamma$\",\n",
    "    803: r'1 $\\pi^0$',\n",
    "    804: r'2 $\\pi^0$',\n",
    "    805: r'$\\nu$ other',\n",
    "    806: r'out of FV',\n",
    "    6: r\"other\",\n",
    "    0: r\"No slice\"\n",
    "}\n",
    "\n",
    "    \n",
    "labels = [\n",
    "            \"%s: %.1f\" % (category_labels[int(c)], sum(nue_nue_weights_tot[str(c)][0])) \\\n",
    "            if sum(nue_nue_weights_tot[str(c)][0]) else \"\"\n",
    "            for c in nue_nue_vars_tot.keys()\n",
    "        ]\n",
    "\n",
    "\n",
    "pup = list(nue_nue_vars_tot.values())\n",
    "\n",
    "i = 0\n",
    "for c in nue_nue_vars_tot.keys():\n",
    "    nue_nue_vars_tot[str(c)] = pup[i][0]\n",
    "    i = i + 1\n",
    "    \n",
    "pup2 = list(nue_nue_weights_tot.values())\n",
    "\n",
    "i = 0\n",
    "for c in nue_nue_weights_tot.keys():\n",
    "    nue_nue_weights_tot[str(c)] = pup2[i][0]\n",
    "    i = i + 1\n",
    "        \n",
    "\n",
    "\n",
    "#print(\"\")\n",
    "#print(\"HERE\")\n",
    "#print(nue_nue_vars_tot)\n",
    "#print(\"\")\n",
    "#print(\"HERE\")\n",
    "#print(nue_nue_vars_tot.values())\n",
    "#print(len(nue_nue_vars_tot.values()[0]))\n",
    "#print(len(nue_nue_weights_tot.values()[0]))\n",
    "\n",
    "nue_fig = plt.figure(figsize=(8, 7))\n",
    "nue_gs = gridspec.GridSpec(2, 1, height_ratios=[2, 1])\n",
    "nue_ax1 = plt.subplot(nue_gs[0])\n",
    "nue_ax1.set_xlim([0, 5])\n",
    "nue_ax1.set_ylim([0, 200])\n",
    "\n",
    "VARIABLE, BINS, RANGE, XTIT = 'reco_e',10,(0.0, 5.0),\"Reconstructed Energy [GeV]\"\n",
    "\n",
    "nue_stacked = nue_ax1.hist(\n",
    "            nue_nue_vars_tot.values(),\n",
    "            weights=list(nue_nue_weights_tot.values()),\n",
    "            stacked=True,\n",
    "            label=labels,\n",
    "            bins=BINS,\n",
    "            range=RANGE)\n",
    "\n",
    "plt.title(\"adding test\")\n",
    "plt.legend()"
   ]
  },
  {
   "cell_type": "code",
   "execution_count": null,
   "id": "476adc29",
   "metadata": {},
   "outputs": [],
   "source": []
  },
  {
   "cell_type": "code",
   "execution_count": null,
   "id": "ed376e6c",
   "metadata": {},
   "outputs": [],
   "source": []
  }
 ],
 "metadata": {
  "kernelspec": {
   "display_name": "Python 3 (ipykernel)",
   "language": "python",
   "name": "python3"
  },
  "language_info": {
   "codemirror_mode": {
    "name": "ipython",
    "version": 3
   },
   "file_extension": ".py",
   "mimetype": "text/x-python",
   "name": "python",
   "nbconvert_exporter": "python",
   "pygments_lexer": "ipython3",
   "version": "3.8.12"
  }
 },
 "nbformat": 4,
 "nbformat_minor": 5
}
