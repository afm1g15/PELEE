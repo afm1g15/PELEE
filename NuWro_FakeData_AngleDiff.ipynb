{
 "cells": [
  {
   "cell_type": "code",
   "execution_count": 103,
   "id": "13875a64",
   "metadata": {},
   "outputs": [],
   "source": [
    "#######################"
   ]
  },
  {
   "cell_type": "code",
   "execution_count": 1,
   "id": "84d55dcc",
   "metadata": {},
   "outputs": [],
   "source": [
    "\n",
    "\n",
    "nuwro = True\n",
    "ISRUN3 = False\n",
    "\n",
    "#True for normal, false for stat err\n",
    "#useWeights = True\n",
    "\n",
    "isTruth = False\n"
   ]
  },
  {
   "cell_type": "code",
   "execution_count": 2,
   "id": "16234578",
   "metadata": {},
   "outputs": [
    {
     "name": "stdout",
     "output_type": "stream",
     "text": [
      "Welcome to JupyROOT 6.24/02\n"
     ]
    }
   ],
   "source": [
    "import sys\n",
    "\n",
    "#sys.path.insert(0, 'backend_functions')\n",
    "\n",
    "#import selection_functions as sf\n",
    "\n",
    "import importlib\n",
    "\n",
    "import uproot\n",
    "import matplotlib.pylab as pylab\n",
    "import numpy as np\n",
    "import math\n",
    "from sklearn.model_selection import train_test_split\n",
    "import pickle\n",
    "import xgboost as xgb\n",
    "\n",
    "import awkward\n",
    "import matplotlib.pyplot as plt\n",
    "import pandas as pd\n",
    "\n",
    "import ROOT\n",
    "from ROOT import TH1F, TH2F, TDirectory, TH1D\n",
    "\n",
    "#import top \n",
    "#from top import *\n",
    "\n",
    "#importlib.reload(sf)\n",
    "#from selection_functions import *"
   ]
  },
  {
   "cell_type": "code",
   "execution_count": 3,
   "id": "8f915b84",
   "metadata": {},
   "outputs": [],
   "source": [
    "\n",
    "\n",
    "fold = \"nuselection\"\n",
    "tree = \"NeutrinoSelectionFilter\"\n",
    "\n"
   ]
  },
  {
   "cell_type": "code",
   "execution_count": 4,
   "id": "cc93cf39",
   "metadata": {},
   "outputs": [],
   "source": [
    "if nuwro: \n",
    "    path = \"/media/alex/TOSHIBA EXT/\""
   ]
  },
  {
   "cell_type": "code",
   "execution_count": 5,
   "id": "97dce84d",
   "metadata": {},
   "outputs": [],
   "source": [
    "\n",
    "\n",
    "if nuwro: \n",
    "    overlay = uproot.open(path+\"neutrinoselection_filt_run1_overlay_nuwro.root\")[fold][tree]\n",
    "    nue = uproot.open(path+\"neutrinoselection_filt_run1_overlay_nuwro_intrinsic.root\")[fold][tree]\n",
    "\n",
    "uproot_v = [overlay,nue]"
   ]
  },
  {
   "cell_type": "code",
   "execution_count": 6,
   "id": "f844e58a",
   "metadata": {},
   "outputs": [],
   "source": [
    "\n",
    "\n",
    "variables = [\n",
    "    \"selected\", \"nu_pdg\", \n",
    "    \"trk_score_v\", \n",
    "    \"shr_tkfit_dedx_Y\",\n",
    "    \"ccnc\", \"shr_px\", \"shr_py\", \"shr_pz\",\n",
    "    \"n_tracks_contained\", \n",
    "    \"NeutrinoEnergy2\", \"shr_theta\", \"shr_phi\",\n",
    "    \"reco_nu_vtx_sce_x\",\"reco_nu_vtx_sce_y\",\"reco_nu_vtx_sce_z\",\n",
    "    \"true_nu_vtx_x\", \"true_nu_vtx_y\" , \"true_nu_vtx_z\", \n",
    "    \"nproton\", \"nu_e\", \"n_showers_contained\",\n",
    "    \"shr_score\", \n",
    "    \"trk_energy\", \"tksh_distance\", \"tksh_angle\",\n",
    "    \"npi0\", \n",
    "    \"shr_energy_tot_cali\", \"shr_energy_cali\", \n",
    "    \"nslice\", \"true_nu_vtx_sce_x\", \"true_nu_vtx_sce_y\", \"true_nu_vtx_sce_z\",\n",
    "    \"contained_fraction\",\n",
    "    \"npion\", \n",
    "    \"shrmoliereavg\", \n",
    "    \"shrsubclusters0\",\"shrsubclusters1\",\"shrsubclusters2\", \n",
    "    \"shr_tkfit_npointsvalid\",\"shr_tkfit_npoints\", \"true_e_visible\", \"trkshrhitdist2\", \n",
    "    \"weightSplineTimesTune\", \"weightTune\", \"true_nu_px\", \"true_nu_py\", \"true_nu_pz\", \n",
    "    \"elec_e\", \"proton_e\", \"mc_px\", \"mc_py\", \"mc_pz\", \"elec_px\", \"elec_py\", \"elec_pz\", \n",
    "    \"swtrig_pre\", \"ppfx_cv\", \"mc_pdg\",  'interaction', 'run', \"opening_angle\"]\n",
    "\n"
   ]
  },
  {
   "cell_type": "code",
   "execution_count": 7,
   "id": "3501ff6c",
   "metadata": {},
   "outputs": [],
   "source": [
    "\n",
    "\n",
    "overlay = overlay.pandas.df(variables, flatten=False)\n",
    "\n"
   ]
  },
  {
   "cell_type": "code",
   "execution_count": 8,
   "id": "a12407c9",
   "metadata": {},
   "outputs": [],
   "source": [
    "\n",
    "\n",
    "nue = nue.pandas.df(variables, flatten=False)\n",
    "\n"
   ]
  },
  {
   "cell_type": "code",
   "execution_count": 9,
   "id": "400907ac",
   "metadata": {},
   "outputs": [],
   "source": [
    "df_v = [overlay,nue]\n"
   ]
  },
  {
   "cell_type": "code",
   "execution_count": 10,
   "id": "09e93a02",
   "metadata": {},
   "outputs": [],
   "source": [
    "\n",
    "\n",
    "for i,df in enumerate(df_v):\n",
    "    up = uproot_v[i]\n",
    "    trk_llr_pid_v = up.array('trk_llr_pid_score_v')\n",
    "    trk_id = up.array('trk_id')-1 # I think we need this -1 to get the right result\n",
    "    trk_llr_pid_v_sel = awkward.fromiter([pidv[tid] if tid<len(pidv) else 9999. for pidv,tid in zip(trk_llr_pid_v,trk_id)])\n",
    "    df['trkpid'] = trk_llr_pid_v_sel\n",
    "    df['subcluster'] = df['shrsubclusters0'] + df['shrsubclusters1'] + df['shrsubclusters2']\n",
    "\n",
    "    df['NeutrinoEnergy2_GeV'] = df['NeutrinoEnergy2']/1000\n",
    "\n"
   ]
  },
  {
   "cell_type": "code",
   "execution_count": 11,
   "id": "f68e58f3",
   "metadata": {},
   "outputs": [],
   "source": [
    "from scipy.spatial.transform import Rotation as R\n",
    "from numpy import arccos, array\n",
    "from numpy.linalg import norm\n",
    "\n",
    "# Note: returns angle in radians\n",
    "def theta(v, w): return arccos(v.dot(w)/(norm(v)*norm(w)))* 180 / 3.1415926\n",
    "\n",
    "def GetNuMIAngle( px,  py,  pz):\n",
    "    r = R.from_matrix([[0.92103853804025681562   , 0.022713504803924120662, 0.38880857519374290021  ],\n",
    "                       [4.6254001262154668408e-05, 0.99829162468141474651 , -0.058427989452906302359],\n",
    "                       [-0.38947144863934973769  , 0.053832413938664107345, 0.91946400794392302291  ]])  \n",
    "    r = r.inv()\n",
    "    beamCoords = r.apply([px,  py,  pz])\n",
    "    beamDir    = [0,0,1]\n",
    "    #print(theta(beamCoords,beamDir))\n",
    "    return theta(beamCoords,beamDir)\n",
    "\n",
    "def GetNuMIAnglePol( phiBNB,  thetaBNB):\n",
    "    px = math.sin(thetaBNB)*math.cos(phiBNB)\n",
    "    py = math.sin(thetaBNB)*math.sin(phiBNB)\n",
    "    pz = math.cos(thetaBNB)\n",
    "    return GetNuMIAngle( px,  py,  pz)"
   ]
  },
  {
   "cell_type": "code",
   "execution_count": 12,
   "id": "02a7f29c",
   "metadata": {},
   "outputs": [
    {
     "data": {
      "text/plain": [
       "1.8690124908136228"
      ]
     },
     "execution_count": 12,
     "metadata": {},
     "output_type": "execute_result"
    }
   ],
   "source": [
    "def vectorFromNuMITarget(vtxX,  vtxY, vtxZ):\n",
    "    numiTarget      = np.array([-31387.58422, -3316.402543, -60100.2414])\n",
    "    nuInteraction   = np.array([vtxX,  vtxY, vtxZ])\n",
    "    directionVector = nuInteraction - numiTarget\n",
    "    return directionVector\n",
    "\n",
    "def angleFromNuMITarget(vtxX,  vtxY, vtxZ, thetaBNB, phiBNB):\n",
    "    v1 = vectorFromNuMITarget(vtxX,  vtxY, vtxZ)  \n",
    "    norm = np.linalg.norm(v1)\n",
    "    v1 = v1/norm\n",
    "    v2 = [np.cos(phiBNB)*np.sin(thetaBNB),np.sin(phiBNB)*np.sin(thetaBNB), np.cos(thetaBNB) ]\n",
    "    dot_product = np.dot(v1, v2)\n",
    "    angle = np.arccos(dot_product)\n",
    "    return angle #dot_product # angle*180/3.14159265\n",
    "\n",
    "\n",
    "\n",
    "angleFromNuMITarget(1,1,1,1.4,3.)"
   ]
  },
  {
   "cell_type": "code",
   "execution_count": 13,
   "id": "054d595b",
   "metadata": {},
   "outputs": [
    {
     "name": "stdout",
     "output_type": "stream",
     "text": [
      "time to run:  16.917539596557617\n"
     ]
    }
   ],
   "source": [
    "#RECO VARIABLE\n",
    "#This assumes the electron to be the leading shower\n",
    "import time\n",
    "s = time.time()\n",
    "\n",
    "for i,df in enumerate(df_v):\n",
    "    df['targetP_asmuon_reco']     = np.sqrt(df['shr_px']*df['shr_px'] + df['shr_py']*df['shr_py'] + df['shr_pz']*df['shr_pz'])\n",
    "    #df['targetPt_asmuon_reco']    = np.sqrt(df['shr_px']*df['shr_px'] + df['shr_py']*df['shr_py'])\n",
    "    #df['targetTheta_asmuon_reco'] = np.arccos(df['shr_pz']/df['targetP_asmuon_reco'] )\n",
    "    #df['targetPhi_asmuon_reco']   = np.arctan2(df['shr_py'],df['shr_px'])\n",
    "    df['nu_Angle_Numi_Elec_asmuon_reco'] = df.apply( lambda x: angleFromNuMITarget(x['reco_nu_vtx_sce_x'],x['reco_nu_vtx_sce_y'],x['reco_nu_vtx_sce_z'], x['shr_theta'],x['shr_phi']) , axis=1)\n",
    "    df['cosNu_Angle_Numi_Elec_asmuon_reco'] = np.cos(df['nu_Angle_Numi_Elec_asmuon_reco'])\n",
    "    \n",
    "#just prints out the time this cell takes\n",
    "s2 = time.time()\n",
    "print (\"time to run: \",s2-s)"
   ]
  },
  {
   "cell_type": "code",
   "execution_count": 14,
   "id": "d34c60c7",
   "metadata": {},
   "outputs": [
    {
     "name": "stdout",
     "output_type": "stream",
     "text": [
      "entry\n",
      "0              NaN\n",
      "1              NaN\n",
      "2              NaN\n",
      "3         0.560501\n",
      "4              NaN\n",
      "            ...   \n",
      "280040         NaN\n",
      "280041         NaN\n",
      "280042         NaN\n",
      "280043         NaN\n",
      "280044         NaN\n",
      "Name: elec_px_asmuon, Length: 280045, dtype: float64\n",
      "entry\n",
      "0         0.601833\n",
      "1        -0.007895\n",
      "2         0.028186\n",
      "3         0.470713\n",
      "4              NaN\n",
      "            ...   \n",
      "132022    0.591812\n",
      "132023    0.941034\n",
      "132024         NaN\n",
      "132025         NaN\n",
      "132026    0.493085\n",
      "Name: elec_px_asmuon, Length: 132027, dtype: float64\n",
      "time to run:  101.13978934288025\n"
     ]
    }
   ],
   "source": [
    "#TRUTH VARIABLE\n",
    "\n",
    "import time\n",
    "s = time.time()\n",
    "\n",
    "for i,df in enumerate(df_v):\n",
    "    df[\"elec_px_asmuon\"] = np.nan\n",
    "    df[\"elec_py_asmuon\"] = np.nan\n",
    "    df[\"elec_pz_asmuon\"] = np.nan\n",
    "    for j in range(len(df[\"mc_pdg\"])):\n",
    "        if (len(df[\"mc_pdg\"].iloc[j]) !=0):\n",
    "            pdg_vector = df[\"mc_pdg\"].iloc[j][0]\n",
    "            px_vector = df[\"mc_px\"].iloc[j]\n",
    "            py_vector = df[\"mc_py\"].iloc[j]\n",
    "            pz_vector = df[\"mc_pz\"].iloc[j]\n",
    "            result = np.where(pdg_vector==11)[0]\n",
    "            if np.size(result):\n",
    "                df.loc[j, \"elec_px_asmuon\"] = px_vector[result][0]\n",
    "                df.loc[j, \"elec_py_asmuon\"] = py_vector[result][0]\n",
    "                df.loc[j, \"elec_pz_asmuon\"] = pz_vector[result][0]\n",
    "            \n",
    "    print(df[\"elec_px_asmuon\"])\n",
    "    \n",
    "#just prints out the time this cell takes\n",
    "s2 = time.time()\n",
    "print (\"time to run: \",s2-s)"
   ]
  },
  {
   "cell_type": "code",
   "execution_count": 15,
   "id": "f409fa01",
   "metadata": {},
   "outputs": [],
   "source": [
    "#TRUTH_VARIABLE\n",
    "\n",
    "for i,df in enumerate(df_v):\n",
    "    df['targetP_asmuon']     = np.sqrt(df['elec_px_asmuon']*df['elec_px_asmuon'] + df['elec_py_asmuon']*df['elec_py_asmuon'] + df['elec_pz_asmuon']*df['elec_pz_asmuon'])\n",
    "    df['targetPt_asmuon']    = np.sqrt(df['elec_px_asmuon']*df['elec_px_asmuon'] + df['elec_py_asmuon']*df['elec_py_asmuon'])\n",
    "    df['targetTheta_asmuon'] = np.arccos(df['elec_pz_asmuon']/df['targetP_asmuon'] )\n",
    "    df['targetPhi_asmuon']   = np.arctan2(df['elec_py_asmuon'],df['elec_px_asmuon'])\n",
    "    df['nu_Angle_Numi_Elec_asmuon'] = df.apply( lambda x: angleFromNuMITarget(x['true_nu_vtx_sce_x'],x['true_nu_vtx_sce_y'],x['true_nu_vtx_sce_z'], x['targetTheta_asmuon'],x['targetPhi_asmuon']) , axis=1)\n",
    "    df['cosNu_Angle_Numi_Elec_asmuon'] = np.cos(df['nu_Angle_Numi_Elec_asmuon'])"
   ]
  },
  {
   "cell_type": "code",
   "execution_count": 16,
   "id": "eb6ac920",
   "metadata": {},
   "outputs": [],
   "source": [
    "######################### plot categories ##############################\n",
    "# everything must pass software trigger ! \n",
    "\n",
    "in_fv_query = \"10<=true_nu_vtx_x<=246 and -106<=true_nu_vtx_y<=106 and 10<=true_nu_vtx_z<=1026\"\n",
    "out_fv_query = \"((true_nu_vtx_x<10 or true_nu_vtx_x>246) or (true_nu_vtx_y<-106 or true_nu_vtx_y>106) or (true_nu_vtx_z<10 or true_nu_vtx_z>1026))\"\n",
    "\n",
    "numu_CC_Npi0 = 'swtrig_pre==1 and ((nu_pdg==14 or nu_pdg==-14) and ccnc==0 and npi0>=1)'\n",
    "numu_CC_0pi0 = 'swtrig_pre==1 and ((nu_pdg==14 or nu_pdg==-14) and ccnc==0 and npi0==0)'\n",
    "\n",
    "numu_NC_Npi0 = 'swtrig_pre==1 and ((nu_pdg==14 or nu_pdg==-14) and ccnc==1 and npi0>=1)'\n",
    "numu_NC_0pi0 = 'swtrig_pre==1 and ((nu_pdg==14 or nu_pdg==-14) and ccnc==1 and npi0==0)'\n",
    "\n",
    "nuebar_1eNp = 'swtrig_pre==1 and ((nu_pdg==-12 and ccnc==0 and nproton>0 and npion==0 and npi0==0))'\n",
    "nue_NC = 'swtrig_pre==1 and ((nu_pdg==12 or nu_pdg==-12) and ccnc==1)'\n",
    "\n",
    "nue_CCother = 'swtrig_pre==1 and (((nu_pdg==12 and ccnc==0) and (nproton==0 or npi0>0 or npion>0)) or (nu_pdg==-12 and ccnc==0 and (nproton==0 or npion>0 or npi0>0)))'\n",
    "\n",
    "# less specific categories \n",
    "nue_other = 'swtrig_pre==1 and (((nu_pdg==12 or nu_pdg==-12) and ccnc==1) or (((nu_pdg==12 and ccnc==0) and (nproton==0 or npi0>0 or npion>0)) or (nu_pdg==-12 and ccnc==0)))'\n",
    "numu_Npi0 = 'swtrig_pre==1 and ( (nu_pdg==14 or nu_pdg==-14) and npi0>=1)'\n",
    "numu_0pi0 = 'swtrig_pre==1 and ( (nu_pdg==14 or nu_pdg==-14) and npi0==0)'\n",
    "\n",
    "# signal vs. not signal \n",
    "signal = in_fv_query+' and  swtrig_pre==1 and (nu_pdg==12 and ccnc==0 and nproton>0 and npion==0 and npi0==0 and cosNu_Angle_Numi_Elec_asmuon>-1.0 and cosNu_Angle_Numi_Elec_asmuon <1.0 and cosNu_Angle_Numi_Elec_asmuon_reco>-1.0 and cosNu_Angle_Numi_Elec_asmuon_reco <1.0)'\n",
    "not_signal = \"(swtrig_pre==0) or (swtrig_pre==1 and (\" + out_fv_query+' or (nu_pdg!=12) or (nu_pdg==12 and ccnc==1) or (nu_pdg==12 and ccnc==0 and (nproton==0 or npi0>0 or npion>0))))'\n",
    "\n",
    "# for replacing nue CC \n",
    "in_AV_query = \"-1.55<=true_nu_vtx_x<=254.8 and -116.5<=true_nu_vtx_y<=116.5 and 0<=true_nu_vtx_z<=1036.8\"\n",
    "nueCC_query = 'abs(nu_pdg)==12 and ccnc==0 and '+in_AV_query"
   ]
  },
  {
   "cell_type": "code",
   "execution_count": 17,
   "id": "8dca935a",
   "metadata": {},
   "outputs": [],
   "source": [
    "overlay = overlay.query('swtrig_pre==1')\n",
    "nue = nue.query('swtrig_pre==1')"
   ]
  },
  {
   "cell_type": "code",
   "execution_count": 18,
   "id": "3360bc30",
   "metadata": {},
   "outputs": [],
   "source": [
    "mc_df = [overlay, nue]"
   ]
  },
  {
   "cell_type": "code",
   "execution_count": 19,
   "id": "51227bc9",
   "metadata": {},
   "outputs": [],
   "source": [
    "def addAngles(df): #From Katrina\n",
    "    \n",
    "    ## rotation matrix -- convert detector to beam coordinates\n",
    "    R = [\n",
    "        [0.921,   4.625e-05,     -0.3895],\n",
    "        [0.02271,    0.9983,     0.05383],\n",
    "        [0.3888,   -0.05843,      0.9195]\n",
    "    ]\n",
    "    det_origin_beamcoor = [5502.0, 7259.0,  67270.0]\n",
    "     \n",
    "    # angles in detector coordinates\n",
    "    df['thdet'] = np.arctan2(((df['true_nu_px']*df['true_nu_px'])+(df['true_nu_py']*df['true_nu_py']))**(1/2), df['true_nu_pz'])*(180/math.pi)\n",
    "    df['phidet'] = np.arctan2(df['true_nu_py'], df['true_nu_px'])*(180/math.pi)\n",
    "        \n",
    "    # get true momentum in beam coordinates\n",
    "    df['true_nu_px_beam'] = R[0][0]*df['true_nu_px'] + R[0][1]*df['true_nu_py'] + R[0][2]*df['true_nu_pz']\n",
    "    df['true_nu_py_beam'] = R[1][0]*df['true_nu_px'] + R[1][1]*df['true_nu_py'] + R[1][2]*df['true_nu_pz']\n",
    "    df['true_nu_pz_beam'] = R[2][0]*df['true_nu_px'] + R[2][1]*df['true_nu_py'] + R[2][2]*df['true_nu_pz']\n",
    "    \n",
    "    # angles in beam coordinates\n",
    "    df['thbeam'] = np.arctan2(((df['true_nu_px_beam']*df['true_nu_px_beam'])+(df['true_nu_py_beam']*df['true_nu_py_beam']))**(1/2), df['true_nu_pz_beam'])*(180/math.pi)\n",
    "    df['phibeam'] = np.arctan2(df['true_nu_py_beam'], df['true_nu_px_beam'])*(180/math.pi)\n",
    "        \n",
    "    return df"
   ]
  },
  {
   "cell_type": "code",
   "execution_count": 20,
   "id": "1a35bf35",
   "metadata": {},
   "outputs": [],
   "source": [
    "# use offline flux weights\n",
    "def offline_flux_weights(df, ISRUN3): \n",
    "    \n",
    "    if ISRUN3: \n",
    "        print(\"No ppfx maps for RHC!\")\n",
    "    \n",
    "    else: \n",
    "        f = ROOT.TFile.Open(path+\"ppfx_maps.root\", \"READ\")\n",
    "    \n",
    "    numu_map = f.Get(\"numu_ratio\")\n",
    "    numubar_map = f.Get(\"numubar_ratio\")\n",
    "    nue_map = f.Get(\"nue_ratio\")\n",
    "    nuebar_map = f.Get(\"nuebar_ratio\")\n",
    "    \n",
    "    nu_flav = list(df['nu_pdg'])\n",
    "    angle = list(df['thbeam'])\n",
    "    true_energy = list(df['nu_e'])\n",
    "\n",
    "    fluxweights = []\n",
    "\n",
    "    for i in range(len(nu_flav)): \n",
    "        if nu_flav[i]==14: \n",
    "            h = numu_map\n",
    "        elif nu_flav[i]==-14: \n",
    "            h = numubar_map\n",
    "        elif nu_flav[i]==12: \n",
    "            h = nue_map\n",
    "        elif nu_flav[i]==-12: \n",
    "            h = nuebar_map\n",
    "        else: \n",
    "            print(\"No map to match PDG code!\")\n",
    "        \n",
    "        fluxweights.append( h.GetBinContent(h.FindBin(true_energy[i], angle[i])) )\n",
    "\n",
    "    df['ppfx_cv'] = fluxweights\n",
    "    #mc_df[0]['weightFlux'] = fluxweights\n",
    "    #mc_df[1]['weightFlux'] = [1 for i in range(len(mc_df[1]))] # for now \n",
    "    \n",
    "    f.Close()\n",
    "    \n",
    "    return df"
   ]
  },
  {
   "cell_type": "code",
   "execution_count": 21,
   "id": "e10b5ddb",
   "metadata": {
    "scrolled": true
   },
   "outputs": [
    {
     "name": "stderr",
     "output_type": "stream",
     "text": [
      "/tmp/ipykernel_37606/3459127017.py:4: SettingWithCopyWarning: \n",
      "A value is trying to be set on a copy of a slice from a DataFrame.\n",
      "Try using .loc[row_indexer,col_indexer] = value instead\n",
      "\n",
      "See the caveats in the documentation: https://pandas.pydata.org/pandas-docs/stable/user_guide/indexing.html#returning-a-view-versus-a-copy\n",
      "  df['is_signal'] = np.where((df.swtrig_pre == 1) & (df.cosNu_Angle_Numi_Elec_asmuon>-1.0) & (df.cosNu_Angle_Numi_Elec_asmuon <1.0) & (df.cosNu_Angle_Numi_Elec_asmuon_reco>-1.0) & (df.cosNu_Angle_Numi_Elec_asmuon_reco <1.0)\n",
      "/tmp/ipykernel_37606/3654421403.py:12: SettingWithCopyWarning: \n",
      "A value is trying to be set on a copy of a slice from a DataFrame.\n",
      "Try using .loc[row_indexer,col_indexer] = value instead\n",
      "\n",
      "See the caveats in the documentation: https://pandas.pydata.org/pandas-docs/stable/user_guide/indexing.html#returning-a-view-versus-a-copy\n",
      "  df['thdet'] = np.arctan2(((df['true_nu_px']*df['true_nu_px'])+(df['true_nu_py']*df['true_nu_py']))**(1/2), df['true_nu_pz'])*(180/math.pi)\n",
      "/tmp/ipykernel_37606/3654421403.py:13: SettingWithCopyWarning: \n",
      "A value is trying to be set on a copy of a slice from a DataFrame.\n",
      "Try using .loc[row_indexer,col_indexer] = value instead\n",
      "\n",
      "See the caveats in the documentation: https://pandas.pydata.org/pandas-docs/stable/user_guide/indexing.html#returning-a-view-versus-a-copy\n",
      "  df['phidet'] = np.arctan2(df['true_nu_py'], df['true_nu_px'])*(180/math.pi)\n",
      "/tmp/ipykernel_37606/3654421403.py:16: SettingWithCopyWarning: \n",
      "A value is trying to be set on a copy of a slice from a DataFrame.\n",
      "Try using .loc[row_indexer,col_indexer] = value instead\n",
      "\n",
      "See the caveats in the documentation: https://pandas.pydata.org/pandas-docs/stable/user_guide/indexing.html#returning-a-view-versus-a-copy\n",
      "  df['true_nu_px_beam'] = R[0][0]*df['true_nu_px'] + R[0][1]*df['true_nu_py'] + R[0][2]*df['true_nu_pz']\n",
      "/tmp/ipykernel_37606/3654421403.py:17: SettingWithCopyWarning: \n",
      "A value is trying to be set on a copy of a slice from a DataFrame.\n",
      "Try using .loc[row_indexer,col_indexer] = value instead\n",
      "\n",
      "See the caveats in the documentation: https://pandas.pydata.org/pandas-docs/stable/user_guide/indexing.html#returning-a-view-versus-a-copy\n",
      "  df['true_nu_py_beam'] = R[1][0]*df['true_nu_px'] + R[1][1]*df['true_nu_py'] + R[1][2]*df['true_nu_pz']\n",
      "/tmp/ipykernel_37606/3654421403.py:18: SettingWithCopyWarning: \n",
      "A value is trying to be set on a copy of a slice from a DataFrame.\n",
      "Try using .loc[row_indexer,col_indexer] = value instead\n",
      "\n",
      "See the caveats in the documentation: https://pandas.pydata.org/pandas-docs/stable/user_guide/indexing.html#returning-a-view-versus-a-copy\n",
      "  df['true_nu_pz_beam'] = R[2][0]*df['true_nu_px'] + R[2][1]*df['true_nu_py'] + R[2][2]*df['true_nu_pz']\n",
      "/tmp/ipykernel_37606/3654421403.py:21: SettingWithCopyWarning: \n",
      "A value is trying to be set on a copy of a slice from a DataFrame.\n",
      "Try using .loc[row_indexer,col_indexer] = value instead\n",
      "\n",
      "See the caveats in the documentation: https://pandas.pydata.org/pandas-docs/stable/user_guide/indexing.html#returning-a-view-versus-a-copy\n",
      "  df['thbeam'] = np.arctan2(((df['true_nu_px_beam']*df['true_nu_px_beam'])+(df['true_nu_py_beam']*df['true_nu_py_beam']))**(1/2), df['true_nu_pz_beam'])*(180/math.pi)\n",
      "/tmp/ipykernel_37606/3654421403.py:22: SettingWithCopyWarning: \n",
      "A value is trying to be set on a copy of a slice from a DataFrame.\n",
      "Try using .loc[row_indexer,col_indexer] = value instead\n",
      "\n",
      "See the caveats in the documentation: https://pandas.pydata.org/pandas-docs/stable/user_guide/indexing.html#returning-a-view-versus-a-copy\n",
      "  df['phibeam'] = np.arctan2(df['true_nu_py_beam'], df['true_nu_px_beam'])*(180/math.pi)\n",
      "/tmp/ipykernel_37606/680110689.py:35: SettingWithCopyWarning: \n",
      "A value is trying to be set on a copy of a slice from a DataFrame.\n",
      "Try using .loc[row_indexer,col_indexer] = value instead\n",
      "\n",
      "See the caveats in the documentation: https://pandas.pydata.org/pandas-docs/stable/user_guide/indexing.html#returning-a-view-versus-a-copy\n",
      "  df['ppfx_cv'] = fluxweights\n"
     ]
    }
   ],
   "source": [
    "\n",
    "\n",
    "for i,df in enumerate(mc_df):\n",
    "    \n",
    "    # is signal bool \n",
    "    df['is_signal'] = np.where((df.swtrig_pre == 1) & (df.cosNu_Angle_Numi_Elec_asmuon>-1.0) & (df.cosNu_Angle_Numi_Elec_asmuon <1.0) & (df.cosNu_Angle_Numi_Elec_asmuon_reco>-1.0) & (df.cosNu_Angle_Numi_Elec_asmuon_reco <1.0)\n",
    "                             & (df.nu_pdg==12) & (df.ccnc==0) & (df.nproton>0) & (df.npion==0) & (df.npi0==0)\n",
    "                             & (10 <= df.true_nu_vtx_x) & (df.true_nu_vtx_x <= 246)\n",
    "                             & (-106 <= df.true_nu_vtx_y) & (df.true_nu_vtx_y <= 106)\n",
    "                             & (10 <= df.true_nu_vtx_z) & (df.true_nu_vtx_z <= 1026), True, False)\n",
    "    \n",
    "    # Add truth level theta & phi angles (detector & beam coordinates)\n",
    "    df = addAngles(df)\n",
    "    \n",
    "    # add binned ppfx weights\n",
    "    if nuwro: \n",
    "        df = offline_flux_weights(df, ISRUN3)\n",
    "    \n",
    "\n"
   ]
  },
  {
   "cell_type": "code",
   "execution_count": 22,
   "id": "7620a004",
   "metadata": {},
   "outputs": [
    {
     "name": "stdout",
     "output_type": "stream",
     "text": [
      "True\n",
      "True\n"
     ]
    }
   ],
   "source": [
    "print(len(nue.query('is_signal==True'))==len(nue.query(signal)))\n",
    "print(len(nue.query('is_signal==False'))==len(nue.query(not_signal)))"
   ]
  },
  {
   "cell_type": "code",
   "execution_count": 23,
   "id": "f143b298",
   "metadata": {},
   "outputs": [
    {
     "name": "stderr",
     "output_type": "stream",
     "text": [
      "/home/alex/miniconda3/envs/vintageXgboostVintageUprootEnv/lib/python3.8/site-packages/pandas/core/indexing.py:965: SettingWithCopyWarning: \n",
      "A value is trying to be set on a copy of a slice from a DataFrame.\n",
      "Try using .loc[row_indexer,col_indexer] = value instead\n",
      "\n",
      "See the caveats in the documentation: https://pandas.pydata.org/pandas-docs/stable/user_guide/indexing.html#returning-a-view-versus-a-copy\n",
      "  self.obj[item] = s\n"
     ]
    }
   ],
   "source": [
    "\n",
    "\n",
    "# clean bad weights & values \n",
    "\n",
    "for i,df in enumerate(mc_df):\n",
    "     \n",
    "    df.loc[ df['weightSplineTimesTune'] <= 0, 'weightSplineTimesTune' ] = 1.\n",
    "    df.loc[ df['weightSplineTimesTune'] == np.inf, 'weightSplineTimesTune' ] = 1.\n",
    "    df.loc[ df['weightSplineTimesTune'] > 100, 'weightSplineTimesTune' ] = 1.\n",
    "    df.loc[ np.isnan(df['weightSplineTimesTune']) == True, 'weightSplineTimesTune' ] = 1.\n",
    "    \n",
    "    df.loc[ df['weightTune'] <= 0, 'weightTune' ] = 1.\n",
    "    df.loc[ df['weightTune'] == np.inf, 'weightTune' ] = 1.\n",
    "    df.loc[ df['weightTune'] > 100, 'weightTune' ] = 1.\n",
    "    df.loc[ np.isnan(df['weightTune']) == True, 'weightTune' ] = 1.  \n",
    "\n",
    "     \n",
    "\n"
   ]
  },
  {
   "cell_type": "code",
   "execution_count": 24,
   "id": "48fa0e8d",
   "metadata": {},
   "outputs": [
    {
     "data": {
      "text/plain": [
       "'\\n#print(len(nue[:round(len(nue)*0.0119)]))\\n#print(len(overlay[:round(len(overlay)*0.301)]))\\n\\n#nue = nue[round(len(nue)*0.0119):round((len(nue)*0.0119)*2) ]   #1519\\n#overlay = overlay[round(len(overlay)*0.301):round((len(overlay)*0.301)*2)]  #67370\\n\\nprint((len(nue)))\\n'"
      ]
     },
     "execution_count": 24,
     "metadata": {},
     "output_type": "execute_result"
    }
   ],
   "source": [
    "###SCALRE BY POT INSTEAD!\n",
    "\n",
    "\n",
    "# scale down the number of events to match data POT \n",
    "\n",
    "nue = nue[:round(len(nue)*0.0119)]   #1519\n",
    "overlay = overlay[:round(len(overlay)*0.301)]  #67370\n",
    "#print(len(nue))\n",
    "\"\"\"\n",
    "#print(len(nue[:round(len(nue)*0.0119)]))\n",
    "#print(len(overlay[:round(len(overlay)*0.301)]))\n",
    "\n",
    "#nue = nue[round(len(nue)*0.0119):round((len(nue)*0.0119)*2) ]   #1519\n",
    "#overlay = overlay[round(len(overlay)*0.301):round((len(overlay)*0.301)*2)]  #67370\n",
    "\n",
    "print((len(nue)))\n",
    "\"\"\""
   ]
  },
  {
   "cell_type": "code",
   "execution_count": 25,
   "id": "160b1fc4",
   "metadata": {},
   "outputs": [
    {
     "name": "stderr",
     "output_type": "stream",
     "text": [
      "/tmp/ipykernel_37606/1926906090.py:9: SettingWithCopyWarning: \n",
      "A value is trying to be set on a copy of a slice from a DataFrame.\n",
      "Try using .loc[row_indexer,col_indexer] = value instead\n",
      "\n",
      "See the caveats in the documentation: https://pandas.pydata.org/pandas-docs/stable/user_guide/indexing.html#returning-a-view-versus-a-copy\n",
      "  overlay['pot_scale'] = 1#data_pot/6.64422e+20\n",
      "/tmp/ipykernel_37606/1926906090.py:10: SettingWithCopyWarning: \n",
      "A value is trying to be set on a copy of a slice from a DataFrame.\n",
      "Try using .loc[row_indexer,col_indexer] = value instead\n",
      "\n",
      "See the caveats in the documentation: https://pandas.pydata.org/pandas-docs/stable/user_guide/indexing.html#returning-a-view-versus-a-copy\n",
      "  nue['pot_scale'] = 1#data_pot/1.68375e+22\n"
     ]
    }
   ],
   "source": [
    "\n",
    "\n",
    "# POT normalization - scale to data \n",
    "\n",
    "if ISRUN3: \n",
    "    data_pot = 5.0E20\n",
    "else: \n",
    "    data_pot = 2.0E20\n",
    "\n",
    "if nuwro==True: \n",
    "    overlay['pot_scale'] = 1#data_pot/6.64422e+20\n",
    "    nue['pot_scale'] = 1#data_pot/1.68375e+22\n",
    "\n",
    "else: \n",
    "    overlay = pot_scale(overlay, 'overlay', ISRUN3)\n",
    "    nue = pot_scale(nue, 'intrinsic', ISRUN3)\n",
    "    \n",
    "    #overlay['pot_scale'] = data_pot/2.33652e+21\n",
    "    #nue['pot_scale'] = data_pot/2.37838e+22\n",
    "\n"
   ]
  },
  {
   "cell_type": "code",
   "execution_count": 26,
   "id": "2b28a624",
   "metadata": {},
   "outputs": [
    {
     "name": "stdout",
     "output_type": "stream",
     "text": [
      "True\n"
     ]
    },
    {
     "name": "stderr",
     "output_type": "stream",
     "text": [
      "/tmp/ipykernel_37606/3431725961.py:6: SettingWithCopyWarning: \n",
      "A value is trying to be set on a copy of a slice from a DataFrame.\n",
      "Try using .loc[row_indexer,col_indexer] = value instead\n",
      "\n",
      "See the caveats in the documentation: https://pandas.pydata.org/pandas-docs/stable/user_guide/indexing.html#returning-a-view-versus-a-copy\n",
      "  overlay['totweight_data'] = overlay['pot_scale']*overlay['ppfx_cv']\n",
      "/tmp/ipykernel_37606/3431725961.py:7: SettingWithCopyWarning: \n",
      "A value is trying to be set on a copy of a slice from a DataFrame.\n",
      "Try using .loc[row_indexer,col_indexer] = value instead\n",
      "\n",
      "See the caveats in the documentation: https://pandas.pydata.org/pandas-docs/stable/user_guide/indexing.html#returning-a-view-versus-a-copy\n",
      "  nue['totweight_data'] = nue['pot_scale']*nue['ppfx_cv']\n"
     ]
    }
   ],
   "source": [
    "useWeights = True\n",
    "print(useWeights)\n",
    "\n",
    "if nuwro == True and useWeights == True: \n",
    "\n",
    "    overlay['totweight_data'] = overlay['pot_scale']*overlay['ppfx_cv']\n",
    "    nue['totweight_data'] = nue['pot_scale']*nue['ppfx_cv']\n",
    "    \n",
    "elif nuwro == True and useWeights == False:\n",
    "    \n",
    "    overlay['totweight_data'] = overlay['pot_scale']*overlay['pot_scale']\n",
    "    nue['totweight_data'] = nue['pot_scale']*nue['pot_scale']\n",
    "\n",
    "else: \n",
    "    \n",
    "    overlay['totweight_data'] = overlay['pot_scale']*overlay['ppfx_cv']*overlay['weightSplineTimesTune']\n",
    "    nue['totweight_data'] = nue['pot_scale']*nue['ppfx_cv']*nue['weightSplineTimesTune']\n",
    "\n"
   ]
  },
  {
   "cell_type": "code",
   "execution_count": 27,
   "id": "e885b55e",
   "metadata": {},
   "outputs": [
    {
     "name": "stdout",
     "output_type": "stream",
     "text": [
      "# of nueCC in AV in overlay sample = 1179\n",
      "# of nueCC in AV dropped in overlay = 1179\n"
     ]
    },
    {
     "name": "stderr",
     "output_type": "stream",
     "text": [
      "/home/alex/miniconda3/envs/vintageXgboostVintageUprootEnv/lib/python3.8/site-packages/pandas/core/frame.py:3990: SettingWithCopyWarning: \n",
      "A value is trying to be set on a copy of a slice from a DataFrame\n",
      "\n",
      "See the caveats in the documentation: https://pandas.pydata.org/pandas-docs/stable/user_guide/indexing.html#returning-a-view-versus-a-copy\n",
      "  return super().drop(\n"
     ]
    }
   ],
   "source": [
    "#########################\n",
    "#RUN ONLY ONCE#######\n",
    "###################\n",
    "\n",
    "print(\"# of nueCC in AV in overlay sample = \"+str(len(overlay.query(nueCC_query))))\n",
    "len1 = len(overlay)\n",
    "    \n",
    "idx = overlay.query(nueCC_query).index\n",
    "overlay.drop(idx, inplace=True)\n",
    "len2 = len(overlay) \n",
    "print(\"# of nueCC in AV dropped in overlay = \"+str(len1-len2))\n",
    "    \n",
    "# then add in nue_intrinsic \n",
    "overlay = pd.concat([overlay,nue], ignore_index=True)\n",
    "\n",
    "# from here on out everything else should be the same. "
   ]
  },
  {
   "cell_type": "code",
   "execution_count": 28,
   "id": "b316a536",
   "metadata": {},
   "outputs": [],
   "source": [
    "\n",
    "\n",
    "# separate by in/out FV & cosmic\n",
    "infv = overlay.query(in_fv_query)\n",
    "outfv = overlay.query(out_fv_query)\n",
    "\n"
   ]
  },
  {
   "cell_type": "code",
   "execution_count": 29,
   "id": "1bdf5950",
   "metadata": {},
   "outputs": [
    {
     "name": "stdout",
     "output_type": "stream",
     "text": [
      "True\n"
     ]
    }
   ],
   "source": [
    "# check that everything is accounted for \n",
    "print(len(overlay)==len(infv)+len(outfv))"
   ]
  },
  {
   "cell_type": "code",
   "execution_count": 30,
   "id": "010b90fe",
   "metadata": {},
   "outputs": [
    {
     "name": "stdout",
     "output_type": "stream",
     "text": [
      "total signal events = 415\n",
      "total signal events = 0\n"
     ]
    }
   ],
   "source": [
    "\n",
    "\n",
    "tot_signal_weighted = np.nansum(infv.query('is_signal==True')['pot_scale'])\n",
    "print('total signal events = '+ str(tot_signal_weighted))\n",
    "\n",
    "\n",
    "\n",
    "\n",
    "\n",
    "tot_signal_weighted = np.nansum(outfv.query('is_signal==True')[\"nslice\"])\n",
    "print('total signal events = '+ str(tot_signal_weighted))"
   ]
  },
  {
   "cell_type": "code",
   "execution_count": 31,
   "id": "a78db0d6",
   "metadata": {},
   "outputs": [],
   "source": [
    "datasets = {\n",
    "    'infv' : infv, \n",
    "    'outfv' : outfv\n",
    "}"
   ]
  },
  {
   "cell_type": "code",
   "execution_count": 32,
   "id": "7166c2f5",
   "metadata": {},
   "outputs": [],
   "source": [
    "\n",
    "\n",
    "generated_events = pd.concat([datasets['outfv'], datasets['infv']])\n",
    "\n"
   ]
  },
  {
   "cell_type": "code",
   "execution_count": 33,
   "id": "0001beea",
   "metadata": {},
   "outputs": [
    {
     "name": "stdout",
     "output_type": "stream",
     "text": [
      "total signal events = 415\n",
      "total signal events = 374.6350495195812\n",
      "total signal events = 374.6350495195812\n"
     ]
    }
   ],
   "source": [
    "tot_signal_weighted = np.nansum(generated_events.query('is_signal==True')['pot_scale'])\n",
    "print('total signal events = '+ str(tot_signal_weighted))\n",
    "\n",
    "tot_signal_weighted = np.nansum(generated_events.query('is_signal==True')['totweight_data'])\n",
    "print('total signal events = '+ str(tot_signal_weighted))\n",
    "\n",
    "tot_signal_weighted = np.nansum(generated_events.query(signal)['totweight_data'])\n",
    "print('total signal events = '+ str(tot_signal_weighted))"
   ]
  },
  {
   "cell_type": "code",
   "execution_count": 34,
   "id": "3104a479",
   "metadata": {},
   "outputs": [
    {
     "data": {
      "text/plain": [
       "False"
      ]
     },
     "execution_count": 34,
     "metadata": {},
     "output_type": "execute_result"
    }
   ],
   "source": [
    "isTruth"
   ]
  },
  {
   "cell_type": "code",
   "execution_count": 35,
   "id": "ed0d69c5",
   "metadata": {},
   "outputs": [],
   "source": [
    "if isTruth == False:\n",
    "    reco_in_fv_query = \"10<=reco_nu_vtx_sce_x<=246 and -106<=reco_nu_vtx_sce_y<=106 and 10<=reco_nu_vtx_sce_z<=1026\"\n",
    "\n",
    "\n",
    "    BDT_PRE_QUERY = 'swtrig_pre==1 and nslice==1'\n",
    "    BDT_PRE_QUERY += ' and ' + reco_in_fv_query\n",
    "    BDT_PRE_QUERY +=' and contained_fraction>0.9'\n",
    "    BDT_PRE_QUERY += ' and n_showers_contained==1'\n",
    "    BDT_PRE_QUERY += ' and n_tracks_contained>0'\n",
    "    BDT_PRE_QUERY += ' and trk_energy>0.04' \n",
    "\n",
    "    BDT_LOOSE_CUTS = BDT_PRE_QUERY\n",
    "    BDT_LOOSE_CUTS +=' and shr_score<0.3'\n",
    "    BDT_LOOSE_CUTS += ' and shrmoliereavg<15'\n",
    "    BDT_LOOSE_CUTS += ' and shr_tkfit_dedx_Y<7'\n",
    "    BDT_LOOSE_CUTS += ' and trkpid<0.35'\n",
    "    BDT_LOOSE_CUTS += ' and tksh_distance<12'"
   ]
  },
  {
   "cell_type": "code",
   "execution_count": 36,
   "id": "0a48a725",
   "metadata": {},
   "outputs": [
    {
     "name": "stdout",
     "output_type": "stream",
     "text": [
      "swtrig_pre==1 and nslice==1 and 10<=reco_nu_vtx_sce_x<=246 and -106<=reco_nu_vtx_sce_y<=106 and 10<=reco_nu_vtx_sce_z<=1026 and contained_fraction>0.9 and n_showers_contained==1 and n_tracks_contained>0 and trk_energy>0.04 and shr_score<0.3 and shrmoliereavg<15 and shr_tkfit_dedx_Y<7 and trkpid<0.35 and tksh_distance<12 and BDT_score>0.55 and cosNu_Angle_Numi_Elec_asmuon_reco >-1.0 and cosNu_Angle_Numi_Elec_asmuon_reco <1.0 and cosNu_Angle_Numi_Elec_asmuon >-1.0 and cosNu_Angle_Numi_Elec_asmuon <1.0\n"
     ]
    }
   ],
   "source": [
    "if isTruth == False:\n",
    "    datasets_bdt = {}\n",
    "\n",
    "    bdt_score_cut = 0.55\n",
    "    selected_query = BDT_LOOSE_CUTS +' and BDT_score>'+str(bdt_score_cut)\n",
    "    selected_query += ' and cosNu_Angle_Numi_Elec_asmuon_reco >-1.0 and cosNu_Angle_Numi_Elec_asmuon_reco <1.0'\n",
    "    selected_query += ' and cosNu_Angle_Numi_Elec_asmuon >-1.0 and cosNu_Angle_Numi_Elec_asmuon <1.0'\n",
    "\n",
    "    #selected_query = \"is_signal==True\"\n",
    "    #print(\"BDT SCORE THRESHOLD = \"+str(bdt_score_cut))\n",
    "\n",
    "    print(selected_query)"
   ]
  },
  {
   "cell_type": "code",
   "execution_count": 37,
   "id": "bb0074b7",
   "metadata": {},
   "outputs": [
    {
     "name": "stdout",
     "output_type": "stream",
     "text": [
      "swtrig_pre==1 and nslice==1 and 10<=reco_nu_vtx_sce_x<=246 and -106<=reco_nu_vtx_sce_y<=106 and 10<=reco_nu_vtx_sce_z<=1026 and contained_fraction>0.9 and n_showers_contained==1 and n_tracks_contained>0 and trk_energy>0.04 and shr_score<0.3 and shrmoliereavg<15 and shr_tkfit_dedx_Y<7 and trkpid<0.35 and tksh_distance<12 and BDT_score>0.55 and cosNu_Angle_Numi_Elec_asmuon_reco >-1.0 and cosNu_Angle_Numi_Elec_asmuon_reco <1.0 and cosNu_Angle_Numi_Elec_asmuon >-1.0 and cosNu_Angle_Numi_Elec_asmuon <1.0\n"
     ]
    }
   ],
   "source": [
    "if isTruth == True:\n",
    "    datasets_bdt = {}\n",
    "\n",
    "\n",
    "    for i in range(len(datasets)): \n",
    "\n",
    "        df = list(datasets.values())[i].copy()\n",
    "\n",
    "        datasets_bdt[list(datasets.keys())[i]] = df.query(selected_query)\n",
    "\n",
    "print(selected_query)"
   ]
  },
  {
   "cell_type": "code",
   "execution_count": 37,
   "id": "2b13760a",
   "metadata": {},
   "outputs": [],
   "source": [
    "#this box makes the selection for selected events if used\n",
    "\n",
    "if isTruth == False:\n",
    "    # load bdt model \n",
    "    split = 1\n",
    "    # load bdt model \n",
    "    bdt_model = xgb.Booster({'nthread': 4})\n",
    "    bdt_model.load_model('/home/alex/NuMI/bdt_FHC_may2022_subset.model')\n",
    "\n",
    "    for i in range(len(datasets)): \n",
    "\n",
    "        training_parameters = [\n",
    "        \"shr_score\", \"shrmoliereavg\", \"trkpid\",\n",
    "        \"n_showers_contained\", \"shr_tkfit_dedx_Y\", \"tksh_distance\",\n",
    "        \"tksh_angle\", \"subcluster\", \"trkshrhitdist2\"]\n",
    "\n",
    "        df = list(datasets.values())[i].copy()\n",
    "        df = df.query(BDT_LOOSE_CUTS)\n",
    "\n",
    "        # clean datasets \n",
    "        for column in training_parameters:\n",
    "            df.loc[(df[column] < -1.0e37) | (df[column] > 1.0e37), column] = np.nan\n",
    "\n",
    "        # create testing dmatrix \n",
    "        df_test = xgb.DMatrix(data=df[training_parameters])\n",
    "\n",
    "        # apply the bdt selection\n",
    "        preds = bdt_model.predict(df_test)\n",
    "\n",
    "        # add columns for plotting \n",
    "        df['BDT_score'] = preds\n",
    "\n",
    "        datasets_bdt[list(datasets.keys())[i]] = df.query(selected_query)"
   ]
  },
  {
   "cell_type": "code",
   "execution_count": 38,
   "id": "0df0fcd2",
   "metadata": {},
   "outputs": [],
   "source": [
    "xvar = 'cosNu_Angle_Numi_Elec_asmuon_reco'\n",
    "true_var = 'cosNu_Angle_Numi_Elec_asmuon'\n",
    "bins = np.arange(-1.0, 1.2, 0.2)\n",
    "\n",
    "xlow = bins[0]\n",
    "xhigh = bins[-1]\n",
    "\n",
    "x_label = \"Lepton Angle\"\n",
    "x_ticks = np.arange(-1.0, 1.2, 0.2)"
   ]
  },
  {
   "cell_type": "code",
   "execution_count": 39,
   "id": "1e31831e",
   "metadata": {},
   "outputs": [],
   "source": [
    "\n",
    "\n",
    "if xvar=='tksh_angle': \n",
    "    bincenters = 0.5*(np.array(x_ticks)[1:]+np.array(x_ticks)[:-1])\n",
    "\n",
    "else: \n",
    "    #bincenters = 0.5*(np.array(x_ticks+[xhigh])[1:]+np.array(x_ticks+[xhigh])[:-1])\n",
    "    bincenters = np.arange(-0.9, 1.1, 0.2)\n",
    "\n"
   ]
  },
  {
   "cell_type": "code",
   "execution_count": 40,
   "id": "7a7745f1",
   "metadata": {},
   "outputs": [],
   "source": [
    "labels = { \n",
    "    'signal' : ['$\\\\nu_e$ CC0$\\pi$Np', 'orange'], \n",
    "    'numu_CC_Npi0' : ['$\\\\nu_\\mu$ CC $\\pi^{0}$', 'brown'],\n",
    "    'numu_NC_Npi0' : ['$\\\\nu_\\mu$ NC $\\pi^{0}$', 'orangered'],\n",
    "    'numu_NC_0pi0' : ['$\\\\nu_\\mu$ NC', '#33FCFF'],\n",
    "    'numu_CC_0pi0' : ['$\\\\nu_\\mu$ CC', '#437ED8'],\n",
    "    'nue_CCother': ['$\\\\nu_e$ CC other', '#05B415'], \n",
    "    'nue_NC': ['$\\\\nu_e$ NC', '#B8FF33'], \n",
    "    'outfv' : ['Out FV', 'orchid'], \n",
    "    'ext' : ['EXT', 'lightpink'],\n",
    "    'nue_other' : ['$\\\\nu_e$ / $\\\\overline{\\\\nu_e}$  other', '#33db09'], \n",
    "    'numu_Npi0' : ['$\\\\nu_\\\\mu$ / $\\\\overline{\\\\nu_\\\\mu}$  $\\pi^{0}$', '#EE1B1B'], \n",
    "    'numu_0pi0' : ['$\\\\nu_\\\\mu$ / $\\\\overline{\\\\nu_\\\\mu}$  other', '#437ED8'],\n",
    "    'nuebar_1eNp' : ['$\\\\bar{\\\\nu}_e$ CC0$\\pi$Np', 'gold']\n",
    "}"
   ]
  },
  {
   "cell_type": "code",
   "execution_count": 41,
   "id": "fbbac96c",
   "metadata": {},
   "outputs": [],
   "source": [
    "leg = {\n",
    "        'outfv' : labels['outfv'][0]+': ' + str( round(sum(datasets_bdt['outfv'].totweight_data), 1)) , \n",
    "        'numu_NC_Npi0' : labels['numu_NC_Npi0'][0]+': '+ str( round(sum(datasets_bdt['infv'].query(numu_NC_Npi0).totweight_data), 1)), \n",
    "        'numu_CC_Npi0' : labels['numu_CC_Npi0'][0]+': '+str( round(sum(datasets_bdt['infv'].query(numu_CC_Npi0).totweight_data), 1)), \n",
    "        'numu_NC_0pi0' : labels['numu_NC_0pi0'][0]+': '+str( round(sum(datasets_bdt['infv'].query(numu_NC_0pi0).totweight_data), 1)), \n",
    "        'numu_CC_0pi0' : labels['numu_CC_0pi0'][0]+': '+str( round(sum(datasets_bdt['infv'].query(numu_CC_0pi0).totweight_data), 1)), \n",
    "        'nue_NC' : labels['nue_NC'][0]+': '+str( round(sum(datasets_bdt['infv'].query(nue_NC).totweight_data), 1)), \n",
    "        'nue_CCother' : labels['nue_CCother'][0]+': '+str( round(sum(datasets_bdt['infv'].query(nue_CCother).totweight_data), 1)),\n",
    "        'nuebar_1eNp' : labels['nuebar_1eNp'][0]+': '+str( round(sum(datasets_bdt['infv'].query(nuebar_1eNp).totweight_data), 1)), \n",
    "        'signal' : labels['signal'][0]+': '+str( round(sum(datasets_bdt['infv'].query(signal).totweight_data), 1))\n",
    "    }\n"
   ]
  },
  {
   "cell_type": "code",
   "execution_count": 42,
   "id": "ff8b6b11",
   "metadata": {},
   "outputs": [
    {
     "name": "stderr",
     "output_type": "stream",
     "text": [
      "/home/alex/miniconda3/envs/vintageXgboostVintageUprootEnv/lib/python3.8/site-packages/numpy/core/fromnumeric.py:3245: VisibleDeprecationWarning: Creating an ndarray from ragged nested sequences (which is a list-or-tuple of lists-or-tuples-or ndarrays with different lengths or shapes) is deprecated. If you meant to do this, you must specify 'dtype=object' when creating the ndarray.\n",
      "  return asarray(a).size\n",
      "/home/alex/miniconda3/envs/vintageXgboostVintageUprootEnv/lib/python3.8/site-packages/matplotlib/cbook/__init__.py:1449: VisibleDeprecationWarning: Creating an ndarray from ragged nested sequences (which is a list-or-tuple of lists-or-tuples-or ndarrays with different lengths or shapes) is deprecated. If you meant to do this, you must specify 'dtype=object' when creating the ndarray.\n",
      "  X = np.atleast_1d(X.T if isinstance(X, np.ndarray) else np.asarray(X))\n"
     ]
    },
    {
     "name": "stdout",
     "output_type": "stream",
     "text": [
      "[array([0.        , 0.        , 0.        , 0.        , 0.        ,\n",
      "       0.        , 0.        , 0.83416634, 0.        , 0.        ]), array([0.        , 0.        , 0.        , 0.        , 0.        ,\n",
      "       0.        , 0.        , 0.83416634, 0.        , 0.        ]), array([0.        , 0.        , 0.        , 0.        , 0.        ,\n",
      "       0.        , 0.        , 0.83416634, 0.        , 0.        ]), array([0.        , 0.        , 0.        , 0.        , 0.        ,\n",
      "       0.        , 0.        , 0.83416634, 0.        , 0.        ]), array([0.        , 0.        , 0.        , 0.        , 0.        ,\n",
      "       0.        , 0.        , 0.83416634, 0.        , 0.        ]), array([0.        , 0.        , 0.        , 0.        , 0.        ,\n",
      "       0.        , 0.        , 0.83416634, 0.        , 0.        ]), array([0.        , 0.        , 0.        , 0.        , 0.        ,\n",
      "       0.        , 0.        , 0.83416634, 0.        , 2.72818922]), array([0.        , 0.        , 0.        , 0.        , 0.        ,\n",
      "       0.        , 0.        , 0.83416634, 0.        , 2.72818922]), array([ 0.        ,  0.        ,  0.81801563,  0.        ,  0.90362547,\n",
      "        0.90904462,  0.90517204,  4.4610591 , 10.90058996, 25.53561974])]\n",
      "[ 0.          0.          0.81801563  0.          0.90362547  0.90904462\n",
      "  0.90517204 11.13438984 10.90058996 30.99199818]\n",
      "[ 0.          0.          0.81801563  0.          0.90362547  0.90904462\n",
      "  0.90517204  4.4610591  10.90058996 25.53561974]\n"
     ]
    },
    {
     "data": {
      "image/png": "[encoded data removed]",
      "text/plain": [
       "<Figure size 576x360 with 1 Axes>"
      ]
     },
     "metadata": {
      "needs_background": "light"
     },
     "output_type": "display_data"
    }
   ],
   "source": [
    "if isTruth == False:\n",
    "    fig = plt.figure(figsize=(8, 5))\n",
    "\n",
    "\n",
    "    n, b, p = plt.hist([datasets_bdt['outfv'][xvar], \n",
    "                           datasets_bdt['infv'].query(numu_NC_Npi0)[xvar],\n",
    "                           datasets_bdt['infv'].query(numu_CC_Npi0)[xvar],\n",
    "                           datasets_bdt['infv'].query(numu_NC_0pi0)[xvar],\n",
    "                           datasets_bdt['infv'].query(numu_CC_0pi0)[xvar],\n",
    "                           datasets_bdt['infv'].query(nue_NC)[xvar],\n",
    "                           datasets_bdt['infv'].query(nue_CCother)[xvar],\n",
    "                           datasets_bdt['infv'].query(nuebar_1eNp)[xvar], \n",
    "                           datasets_bdt['infv'].query(signal)[xvar]],\n",
    "                bins, histtype='bar', range=[xlow, xhigh], stacked=True, \n",
    "                color=[labels['outfv'][1], \n",
    "                           labels['numu_NC_Npi0'][1], \n",
    "                           labels['numu_CC_Npi0'][1], \n",
    "                           labels['numu_NC_0pi0'][1], \n",
    "                           labels['numu_CC_0pi0'][1], \n",
    "                           labels['nue_NC'][1], \n",
    "                           labels['nue_CCother'][1],\n",
    "                           labels['nuebar_1eNp'][1], \n",
    "                           labels['signal'][1]], \n",
    "                label=[leg['outfv'], \n",
    "                       leg['numu_NC_Npi0'], \n",
    "                       leg['numu_CC_Npi0'], \n",
    "                       leg['numu_NC_0pi0'], \n",
    "                       leg['numu_CC_0pi0'], \n",
    "                       leg['nue_NC'], \n",
    "                       leg['nue_CCother'], \n",
    "                       leg['nuebar_1eNp'], \n",
    "                       leg['signal']\n",
    "                      ],\n",
    "                weights=[datasets_bdt['outfv'].totweight_data, \n",
    "                         datasets_bdt['infv'].query(numu_NC_Npi0).totweight_data, \n",
    "                         datasets_bdt['infv'].query(numu_CC_Npi0).totweight_data,\n",
    "                         datasets_bdt['infv'].query(numu_NC_0pi0).totweight_data,\n",
    "                         datasets_bdt['infv'].query(numu_CC_0pi0).totweight_data,\n",
    "                         datasets_bdt['infv'].query(nue_NC).totweight_data,\n",
    "                         datasets_bdt['infv'].query(nue_CCother).totweight_data,\n",
    "                         datasets_bdt['infv'].query(nuebar_1eNp).totweight_data,\n",
    "                         datasets_bdt['infv'].query(signal).totweight_data \n",
    "                         ])\n",
    "\n",
    "    print(n)\n",
    "    print(sum(n))\n",
    "    print(n[-1])\n",
    "    #print(sum(sum(n)))\n",
    "\n",
    "    if useWeights == False:\n",
    "        nuWro_stat_err_nue = n[-1]\n",
    "    elif useWeights == True:\n",
    "        nuWro_selected_events_nue = n[-1]\n",
    "\n",
    "    # simulation outline \n",
    "    tot = list([0, n[-1][0]])+list(n[-1])+[0]\n",
    "    b_step = list([b[0]])+list(b)+list([b[-1]])\n",
    "    plt.step(b_step, tot, color='saddlebrown', linewidth=2)\n",
    "\n",
    "    # plot format stuff\n",
    "    plt.legend(loc='best', prop={\"size\":10}, ncol=3, frameon=False)\n",
    "\n",
    "\n",
    "\n",
    "    plt.xlabel(\"Reconstructed \"+x_label, fontsize=15)\n",
    "\n",
    "    #plt.xticks(x_ticks, fontsize=14)\n",
    "\n",
    "    plt.xticks(fontsize=14)\n",
    "    plt.yticks(fontsize=14)\n",
    "\n",
    "    plt.xlim(xlow, xhigh)\n",
    "    #plt.ylim(0, 30)\n",
    "\n",
    "    if not ISRUN3: \n",
    "        plt.title(\"FHC Run 1 - MC Only\", fontsize=16)\n",
    "        plt.ylabel('$\\\\nu$ / $2\\\\times10^{20}$ POT', fontsize=15)\n",
    "    else: \n",
    "        plt.title(\"RHC Run 3 - MC Only\", fontsize=16)\n",
    "        plt.ylabel('$\\\\nu$ / $5\\\\times10^{20}$ POT', fontsize=15)\n",
    "\n",
    "    ##plt.savefig(\"/uboone/data/users/kmiller/uBNuMI_CCNp/plots/fhc/fakedata/nuwro_evt_rate_\"+xvar+\".pdf\", \n",
    "    #            transparent=True, bbox_inches='tight')\n",
    "\n",
    "    plt.show()\n"
   ]
  },
  {
   "cell_type": "code",
   "execution_count": 72,
   "id": "cd51ce44",
   "metadata": {},
   "outputs": [
    {
     "name": "stdout",
     "output_type": "stream",
     "text": [
      "[array([0., 0., 0., 0., 0., 0., 0., 0., 0., 0.]), array([0., 0., 0., 0., 0., 0., 0., 0., 0., 0.]), array([0., 0., 0., 0., 0., 0., 0., 0., 0., 0.]), array([0., 0., 0., 0., 0., 0., 0., 0., 0., 0.]), array([0., 0., 0., 0., 0., 0., 0., 0., 0., 0.]), array([0., 0., 0., 0., 0., 0., 0., 0., 0., 0.]), array([0., 0., 0., 0., 0., 0., 0., 0., 0., 0.]), array([0., 0., 0., 0., 0., 0., 0., 0., 0., 0.]), array([0.11837684, 0.14659539, 0.15647189, 0.19541349, 0.24451378,\n",
      "       0.30645351, 0.4179168 , 0.58271316, 0.95731448, 1.97882616])]\n",
      "use weights =  False\n",
      "use truth =  True\n"
     ]
    },
    {
     "data": {
      "image/png": "[encoded data removed]",
      "text/plain": [
       "<Figure size 576x360 with 1 Axes>"
      ]
     },
     "metadata": {
      "needs_background": "light"
     },
     "output_type": "display_data"
    }
   ],
   "source": [
    "if isTruth == True:\n",
    "    fig = plt.figure(figsize=(8, 5))\n",
    "\n",
    "\n",
    "    n, b, p = plt.hist([datasets_bdt['outfv'][true_var], \n",
    "                           datasets_bdt['infv'].query(numu_NC_Npi0)[true_var],\n",
    "                           datasets_bdt['infv'].query(numu_CC_Npi0)[true_var],\n",
    "                           datasets_bdt['infv'].query(numu_NC_0pi0)[true_var],\n",
    "                           datasets_bdt['infv'].query(numu_CC_0pi0)[true_var],\n",
    "                           datasets_bdt['infv'].query(nue_NC)[true_var],\n",
    "                           datasets_bdt['infv'].query(nue_CCother)[true_var],\n",
    "                           datasets_bdt['infv'].query(nuebar_1eNp)[true_var], \n",
    "                           datasets_bdt['infv'].query(signal)[true_var]],\n",
    "                bins, histtype='bar', range=[xlow, xhigh], stacked=True, \n",
    "                color=[labels['outfv'][1], \n",
    "                           labels['numu_NC_Npi0'][1], \n",
    "                           labels['numu_CC_Npi0'][1], \n",
    "                           labels['numu_NC_0pi0'][1], \n",
    "                           labels['numu_CC_0pi0'][1], \n",
    "                           labels['nue_NC'][1], \n",
    "                           labels['nue_CCother'][1],\n",
    "                           labels['nuebar_1eNp'][1], \n",
    "                           labels['signal'][1]], \n",
    "                label=[leg['outfv'], \n",
    "                       leg['numu_NC_Npi0'], \n",
    "                       leg['numu_CC_Npi0'], \n",
    "                       leg['numu_NC_0pi0'], \n",
    "                       leg['numu_CC_0pi0'], \n",
    "                       leg['nue_NC'], \n",
    "                       leg['nue_CCother'], \n",
    "                       leg['nuebar_1eNp'], \n",
    "                       leg['signal']\n",
    "                      ],\n",
    "                weights=[datasets_bdt['outfv'].totweight_data, \n",
    "                         datasets_bdt['infv'].query(numu_NC_Npi0).totweight_data, \n",
    "                         datasets_bdt['infv'].query(numu_CC_Npi0).totweight_data,\n",
    "                         datasets_bdt['infv'].query(numu_NC_0pi0).totweight_data,\n",
    "                         datasets_bdt['infv'].query(numu_CC_0pi0).totweight_data,\n",
    "                         datasets_bdt['infv'].query(nue_NC).totweight_data,\n",
    "                         datasets_bdt['infv'].query(nue_CCother).totweight_data,\n",
    "                         datasets_bdt['infv'].query(nuebar_1eNp).totweight_data,\n",
    "                         datasets_bdt['infv'].query(signal).totweight_data \n",
    "                         ])\n",
    "\n",
    "    print(n)\n",
    "    #print(sum(n))\n",
    "    #print(sum(sum(n)))\n",
    "    print(\"use weights = \", useWeights)\n",
    "    print(\"use truth = \", isTruth)\n",
    "\n",
    "    if useWeights == False and isTruth == True:\n",
    "        nuWro_stat_err_nue_inTruth = sum(n)\n",
    "\n",
    "\n",
    "    # simulation outline \n",
    "    tot = list([0, n[-1][0]])+list(n[-1])+[0]\n",
    "    b_step = list([b[0]])+list(b)+list([b[-1]])\n",
    "    plt.step(b_step, tot, color='saddlebrown', linewidth=2)\n",
    "\n",
    "    # plot format stuff\n",
    "    plt.legend(loc='best', prop={\"size\":10}, ncol=3, frameon=False)\n",
    "\n",
    "\n",
    "\n",
    "    plt.xlabel(\"Reconstructed \"+x_label, fontsize=15)\n",
    "\n",
    "    #plt.xticks(x_ticks, fontsize=14)\n",
    "\n",
    "    plt.xticks(fontsize=14)\n",
    "    plt.yticks(fontsize=14)\n",
    "\n",
    "    plt.xlim(xlow, xhigh)\n",
    "    #plt.ylim(0, 30)\n",
    "\n",
    "    if not ISRUN3: \n",
    "        plt.title(\"FHC Run 1 - MC Only\", fontsize=16)\n",
    "        plt.ylabel('$\\\\nu$ / $2\\\\times10^{20}$ POT', fontsize=15)\n",
    "    else: \n",
    "        plt.title(\"RHC Run 3 - MC Only\", fontsize=16)\n",
    "        plt.ylabel('$\\\\nu$ / $5\\\\times10^{20}$ POT', fontsize=15)\n",
    "\n",
    "    ##plt.savefig(\"/uboone/data/users/kmiller/uBNuMI_CCNp/plots/fhc/fakedata/nuwro_evt_rate_\"+xvar+\".pdf\", \n",
    "    #            transparent=True, bbox_inches='tight')\n",
    "\n",
    "    plt.show()\n"
   ]
  },
  {
   "cell_type": "code",
   "execution_count": 74,
   "id": "88116d23",
   "metadata": {},
   "outputs": [
    {
     "name": "stdout",
     "output_type": "stream",
     "text": [
      "[0.11837684 0.14659539 0.15647189 0.19541349 0.24451378 0.30645351\n",
      " 0.4179168  0.58271316 0.95731448 1.97882616]\n"
     ]
    }
   ],
   "source": [
    " ending = \"Sept19\"\n",
    "\n",
    "if isTruth == True:\n",
    "    print(nuWro_stat_err_nue_inTruth)\n",
    "\n",
    "    np.savetxt(\"nue_nuWro_stat_err_inTruth_\"+ending+\".csv\", \n",
    "               nuWro_stat_err_nue_inTruth,\n",
    "               delimiter =\", \", \n",
    "               fmt ='% s')"
   ]
  },
  {
   "cell_type": "code",
   "execution_count": 44,
   "id": "c0ddd81f",
   "metadata": {},
   "outputs": [
    {
     "data": {
      "text/plain": [
       "True"
      ]
     },
     "execution_count": 44,
     "metadata": {},
     "output_type": "execute_result"
    }
   ],
   "source": [
    "nuwro"
   ]
  },
  {
   "cell_type": "code",
   "execution_count": 45,
   "id": "68996980",
   "metadata": {},
   "outputs": [
    {
     "name": "stdout",
     "output_type": "stream",
     "text": [
      "total signal events = 55.21009651076466\n",
      "total signal events = 49.77725777091946\n",
      "total signal events = 53.68988015256262\n"
     ]
    }
   ],
   "source": [
    "selected_events = pd.concat([datasets_bdt['outfv'], datasets_bdt['infv']])\n",
    "#print(selected_events)\n",
    "\n",
    "##These should match when not in truth, will not match in truth\n",
    "\n",
    "tot_signal_weighted = np.nansum(selected_events.query('is_signal==True')['pot_scale'])\n",
    "print('total signal events = '+ str(tot_signal_weighted))\n",
    "\n",
    "tot_signal_weighted = np.nansum(selected_events.query('is_signal==True')['totweight_data'])\n",
    "print('total signal events = '+ str(tot_signal_weighted))\n",
    "\n",
    "\n",
    "tot_signal_weighted = np.nansum(selected_events['totweight_data'])\n",
    "print('total signal events = '+ str(tot_signal_weighted))"
   ]
  },
  {
   "cell_type": "code",
   "execution_count": 46,
   "id": "e6d3ade9",
   "metadata": {},
   "outputs": [
    {
     "data": {
      "image/png": "[encoded data removed]",
      "text/plain": [
       "<Figure size 576x360 with 1 Axes>"
      ]
     },
     "metadata": {
      "needs_background": "light"
     },
     "output_type": "display_data"
    }
   ],
   "source": [
    "if isTruth == False:\n",
    "\n",
    "    # ppfx correction effect \n",
    "    fig = plt.figure(figsize=(8, 5))\n",
    "\n",
    "    plt.hist(selected_events[xvar], bins, range=[xlow, xhigh],\n",
    "                weights=selected_events.pot_scale, linestyle=\":\", linewidth=2, histtype='step', \n",
    "                      label='Unweighted')\n",
    "\n",
    "    plt.hist(selected_events[xvar], bins, range=[xlow, xhigh],\n",
    "                weights=selected_events.totweight_data, linestyle=\":\", linewidth=2, histtype='step', \n",
    "                      label='PPFX-corrected')\n",
    "\n",
    "\n",
    "    # plot format stuff\n",
    "    plt.legend(loc='best', prop={\"size\":14}, ncol=1, frameon=False)\n",
    "\n",
    "    plt.ylabel('$\\\\nu$ / $2\\\\times10^{20}$ POT', fontsize=15)\n",
    "\n",
    "    plt.xlabel(\"Reco \"+x_label, fontsize=15)\n",
    "    plt.xticks(x_ticks, fontsize=14)\n",
    "\n",
    "    plt.yticks(fontsize=14)\n",
    "\n",
    "    plt.xlim(xlow, xhigh)\n",
    "    plt.title(\"Selected Event Rate\", fontsize=16)\n",
    "\n",
    "    plt.show()\n",
    "\n"
   ]
  },
  {
   "cell_type": "code",
   "execution_count": 43,
   "id": "c8c774e6",
   "metadata": {},
   "outputs": [
    {
     "data": {
      "image/png": "[encoded data removed]",
      "text/plain": [
       "<Figure size 576x360 with 1 Axes>"
      ]
     },
     "metadata": {
      "needs_background": "light"
     },
     "output_type": "display_data"
    }
   ],
   "source": [
    "if isTruth == True:\n",
    "\n",
    "    # ppfx correction effect \n",
    "    fig = plt.figure(figsize=(8, 5))\n",
    "\n",
    "    plt.hist(selected_events.query('is_signal==True')[true_var], bins, range=[xlow, xhigh],\n",
    "                weights=selected_events.query('is_signal==True').pot_scale, linestyle=\":\", linewidth=2, histtype='step', \n",
    "                      label='Unweighted')\n",
    "\n",
    "    true_nuWro = plt.hist(selected_events.query('is_signal==True')[true_var], bins, range=[xlow, xhigh],\n",
    "                weights=selected_events.query('is_signal==True').totweight_data, linestyle=\":\", linewidth=2, histtype='step', \n",
    "                      label='PPFX-corrected')\n",
    "\n",
    "\n",
    "    # plot format stuff\n",
    "    plt.legend(loc='best', prop={\"size\":14}, ncol=1, frameon=False)\n",
    "\n",
    "    plt.ylabel('$\\\\nu$ / $2\\\\times10^{20}$ POT', fontsize=15)\n",
    "\n",
    "    plt.xlabel(\"Reco \"+x_label, fontsize=15)\n",
    "    plt.xticks(x_ticks, fontsize=14)\n",
    "\n",
    "    plt.yticks(fontsize=14)\n",
    "\n",
    "    plt.xlim(xlow, xhigh)\n",
    "    plt.title(\"Selected Event Rate\", fontsize=16)\n",
    "\n",
    "    plt.show()\n"
   ]
  },
  {
   "cell_type": "code",
   "execution_count": 45,
   "id": "5f51c0bb",
   "metadata": {},
   "outputs": [
    {
     "name": "stdout",
     "output_type": "stream",
     "text": [
      "True nuWro for comparison:  [  8.92293032  11.03283799  11.79438326  14.73940691  18.42315658\n",
      "  23.1503012   31.57973141  44.02539694  72.58131567 151.49451282]\n",
      "387.74397309124754\n"
     ]
    }
   ],
   "source": [
    "if isTruth == True:\n",
    "    print(\"True nuWro for comparison: \", true_nuWro[0])\n",
    "\n",
    "    print(sum(true_nuWro[0]))"
   ]
  },
  {
   "cell_type": "code",
   "execution_count": 48,
   "id": "8dd276a2",
   "metadata": {},
   "outputs": [],
   "source": [
    "if isTruth == True:   \n",
    "    \n",
    "    np.savetxt(\"nue_nuWro_prior_true_run1_\"+ending+\".csv\", \n",
    "               true_nuWro[0],\n",
    "               delimiter =\", \", \n",
    "               fmt ='% s')"
   ]
  },
  {
   "cell_type": "markdown",
   "id": "6d10d099",
   "metadata": {},
   "source": [
    "GENIE bkg subtractions"
   ]
  },
  {
   "cell_type": "code",
   "execution_count": 47,
   "id": "40af2fd4",
   "metadata": {},
   "outputs": [],
   "source": [
    "ending = \"Sept19\""
   ]
  },
  {
   "cell_type": "code",
   "execution_count": 48,
   "id": "ec91de44",
   "metadata": {},
   "outputs": [
    {
     "name": "stdout",
     "output_type": "stream",
     "text": [
      "[0.05472894 0.05039926 0.05416843 0.05606512 0.1147747  0.11306639\n",
      " 0.25617034 0.42702297 0.66186387 2.30330351]\n",
      "[ 0.3265514   0.5690983   0.83544679  1.03131426  1.72210699  2.52235999\n",
      "  3.65113531  5.47123622 11.37100843 26.33808435]\n",
      "[  9.86413842  11.92098529  14.15277908  16.39873718  20.44094976\n",
      "  26.3794734   34.43345706  48.65170295  80.01449607 172.43423126]\n"
     ]
    }
   ],
   "source": [
    "\n",
    "nue_bkg_noExt = pd.read_csv(\"nue_nopions_angleDiff_usingSelection_run1_cv_nue_bkg_noExt_noDirt_\"+ending+\".csv\", header=None)\n",
    "\n",
    "print(nue_bkg_noExt.values[:, 0])\n",
    "##########################\n",
    "\n",
    "nue_evt_rate = pd.read_csv(\"nue_nopions_angleDiff_usingSelection_run1_cv_nue_evt_rate_\"+ending+\".csv\", header=None)\n",
    "\n",
    "nue_evt_rate = nue_evt_rate.values[:, 0]\n",
    "print(nue_evt_rate)\n",
    "\n",
    "#########################\n",
    "\n",
    "nue_full_evt_rate = pd.read_csv(\"nue_full_500_catsel_nopions_angleDiff_usingSelection_prior_true_signal_recoCut_run1_\"+ending+\".csv\", header=None)\n",
    "\n",
    "nue_full_evt_rate = nue_full_evt_rate.values[:, 0]\n",
    "print(nue_full_evt_rate)"
   ]
  },
  {
   "cell_type": "code",
   "execution_count": 49,
   "id": "3d5e7738",
   "metadata": {},
   "outputs": [
    {
     "name": "stdout",
     "output_type": "stream",
     "text": [
      "[ 0.24481016  0.57450923  0.79586937  1.27573928  1.85430676  2.53350485\n",
      "  3.7366596   6.54195705 11.30430101 24.82822284]\n"
     ]
    },
    {
     "data": {
      "image/png": "[encoded data removed]",
      "text/plain": [
       "<Figure size 432x288 with 1 Axes>"
      ]
     },
     "metadata": {
      "needs_background": "light"
     },
     "output_type": "display_data"
    }
   ],
   "source": [
    "\n",
    "\n",
    "n, b, p = plt.hist(selected_events[xvar], bins, range=[xlow, xhigh],\n",
    "            weights=selected_events.totweight_data)\n",
    "#plt.close()\n",
    "\n",
    "print(n)"
   ]
  },
  {
   "cell_type": "code",
   "execution_count": 50,
   "id": "7f83a210",
   "metadata": {},
   "outputs": [
    {
     "data": {
      "text/plain": [
       "10"
      ]
     },
     "execution_count": 50,
     "metadata": {},
     "output_type": "execute_result"
    }
   ],
   "source": [
    "len(n)"
   ]
  },
  {
   "cell_type": "code",
   "execution_count": 51,
   "id": "ebe2a010",
   "metadata": {},
   "outputs": [
    {
     "data": {
      "text/plain": [
       "array([-0.9, -0.7, -0.5, -0.3, -0.1,  0.1,  0.3,  0.5,  0.7,  0.9])"
      ]
     },
     "execution_count": 51,
     "metadata": {},
     "output_type": "execute_result"
    }
   ],
   "source": [
    "bincenters"
   ]
  },
  {
   "cell_type": "code",
   "execution_count": 52,
   "id": "142635bd",
   "metadata": {},
   "outputs": [
    {
     "data": {
      "text/plain": [
       "[0.1, 0.1, 0.1, 0.1, 0.1, 0.1, 0.1, 0.1, 0.1, 0.1]"
      ]
     },
     "execution_count": 52,
     "metadata": {},
     "output_type": "execute_result"
    }
   ],
   "source": [
    "\n",
    "\n",
    "binwidth = []\n",
    "\n",
    "for x in range(len(bincenters)):\n",
    "    \n",
    "    if xvar=='tksh_angle': \n",
    "        binwidth.append(round(abs((x_ticks)[x+1]-(x_ticks)[x])/2, 2))\n",
    "        \n",
    "    else: \n",
    "        binwidth.append(round(abs((x_ticks+[xhigh])[x+1]-(x_ticks+[xhigh])[x])/2, 2))\n",
    "    \n",
    "binwidth\n",
    "\n"
   ]
  },
  {
   "cell_type": "code",
   "execution_count": 53,
   "id": "457fd681",
   "metadata": {},
   "outputs": [],
   "source": [
    "## do not include EXT background subtraction! MC only \n",
    "#cv_bkgd_mc = [a-b for a,b in zip(fhc_dict['cv_bkgd'], fhc_dict['cv_ext'])]\n",
    "#I already do not in what has been loaded in\n",
    "\n",
    "cv_bkgd_mc = nue_bkg_noExt.values[:, 0]"
   ]
  },
  {
   "cell_type": "code",
   "execution_count": 54,
   "id": "6b4ab1b9",
   "metadata": {},
   "outputs": [
    {
     "data": {
      "text/plain": [
       "array([0.05472894, 0.05039926, 0.05416843, 0.05606512, 0.1147747 ,\n",
       "       0.11306639, 0.25617034, 0.42702297, 0.66186387, 2.30330351])"
      ]
     },
     "execution_count": 54,
     "metadata": {},
     "output_type": "execute_result"
    }
   ],
   "source": [
    "cv_bkgd_mc"
   ]
  },
  {
   "cell_type": "code",
   "execution_count": 55,
   "id": "a95eae4a",
   "metadata": {},
   "outputs": [],
   "source": [
    "# background subtracted event rate - EXT was never added so never subtracted\n",
    "#(still need to take into acct its uncertainty)\n",
    "nuwro_evt_rate = [a-b for a,b in zip(n,cv_bkgd_mc)]\n"
   ]
  },
  {
   "cell_type": "code",
   "execution_count": 56,
   "id": "84be1492",
   "metadata": {},
   "outputs": [
    {
     "data": {
      "text/plain": [
       "10"
      ]
     },
     "execution_count": 56,
     "metadata": {},
     "output_type": "execute_result"
    }
   ],
   "source": [
    "len(nuwro_evt_rate)"
   ]
  },
  {
   "cell_type": "code",
   "execution_count": 57,
   "id": "aaaea96c",
   "metadata": {},
   "outputs": [
    {
     "data": {
      "image/png": "[encoded data removed]",
      "text/plain": [
       "<Figure size 576x360 with 1 Axes>"
      ]
     },
     "metadata": {
      "needs_background": "light"
     },
     "output_type": "display_data"
    }
   ],
   "source": [
    "fig = plt.figure(figsize=(8, 5))\n",
    "\n",
    "plt.hist(selected_events[xvar],\n",
    "            bins, histtype='step', range=[xlow, xhigh],\n",
    "            weights=selected_events.totweight_data, linestyle=\":\", linewidth=2, \n",
    "                  label='Full')\n",
    "\n",
    "plt.hist(bincenters, bins, histtype='step', range=[xlow,xhigh], \n",
    "        weights=nuwro_evt_rate, linestyle=\":\", linewidth=2, \n",
    "                  label='GENIE v3 background-subtracted')\n",
    "\n",
    "# plot format stuff\n",
    "plt.legend(loc='best', prop={\"size\":14}, ncol=1, frameon=False)\n",
    "\n",
    "plt.ylabel('$\\\\nu$ / $2\\\\times10^{20}$ POT', fontsize=15)\n",
    "    \n",
    "plt.xlabel(\"Reco \"+x_label, fontsize=15)\n",
    "plt.xticks(x_ticks, fontsize=14)\n",
    "\n",
    "plt.yticks(fontsize=14)\n",
    "#plt.ylim(0, 7)\n",
    "\n",
    "plt.xlim(xlow, xhigh)\n",
    "plt.title(\"FHC NuWro Selected Evt Rate (MC Only)\", fontsize=16)\n",
    "\n",
    "plt.show()\n"
   ]
  },
  {
   "cell_type": "code",
   "execution_count": 58,
   "id": "e890a10e",
   "metadata": {},
   "outputs": [
    {
     "data": {
      "text/plain": [
       "(array([ 0.24481016,  0.57450923,  0.79586937,  1.27573928,  1.85430676,\n",
       "         2.53350485,  3.7366596 ,  6.54195705, 11.30430101, 24.82822284]),\n",
       " array([-1.00000000e+00, -8.00000000e-01, -6.00000000e-01, -4.00000000e-01,\n",
       "        -2.00000000e-01, -2.22044605e-16,  2.00000000e-01,  4.00000000e-01,\n",
       "         6.00000000e-01,  8.00000000e-01,  1.00000000e+00]),\n",
       " <a list of 1 Patch objects>)"
      ]
     },
     "execution_count": 58,
     "metadata": {},
     "output_type": "execute_result"
    },
    {
     "data": {
      "image/png": "[encoded data removed]",
      "text/plain": [
       "<Figure size 432x288 with 1 Axes>"
      ]
     },
     "metadata": {
      "needs_background": "light"
     },
     "output_type": "display_data"
    }
   ],
   "source": [
    "plt.hist(selected_events[xvar],\n",
    "            bins, histtype='step', range=[xlow, xhigh],\n",
    "            weights=selected_events.totweight_data, linestyle=\":\", linewidth=2, \n",
    "                  label='Full')"
   ]
  },
  {
   "cell_type": "code",
   "execution_count": 59,
   "id": "18c143a9",
   "metadata": {},
   "outputs": [
    {
     "data": {
      "text/plain": [
       "49.59831662891993"
      ]
     },
     "execution_count": 59,
     "metadata": {},
     "output_type": "execute_result"
    }
   ],
   "source": [
    "sum(nuwro_evt_rate)"
   ]
  },
  {
   "cell_type": "code",
   "execution_count": 60,
   "id": "4a8db7b3",
   "metadata": {},
   "outputs": [
    {
     "data": {
      "image/png": "[encoded data removed]",
      "text/plain": [
       "<Figure size 576x504 with 2 Axes>"
      ]
     },
     "metadata": {
      "needs_background": "light"
     },
     "output_type": "display_data"
    }
   ],
   "source": [
    "from matplotlib import gridspec\n",
    "\n",
    "fig = plt.figure(figsize=(8, 7))\n",
    "\n",
    "gs = gridspec.GridSpec(2, 1, height_ratios=[2, 1])\n",
    "\n",
    "ax1 = plt.subplot(gs[0])\n",
    "ax2 = plt.subplot(gs[1])\n",
    "    \n",
    "ax1.tick_params(axis = 'both', which = 'major', labelsize = 13)\n",
    "ax2.tick_params(axis = 'both', which = 'major', labelsize = 13)\n",
    "\n",
    "ax2.yaxis.grid(linestyle=\"--\", color='black', alpha=0.2)\n",
    "ax2.xaxis.grid(linestyle=\"--\", color='black', alpha=0.2)\n",
    "\n",
    "# background subtracted genie evt rate \n",
    "ax1.hist(bincenters, bins, histtype='step', range=[xlow,xhigh], \n",
    "        weights=nue_evt_rate, linestyle=\":\", linewidth=2, \n",
    "                  label='GENIE v3')\n",
    "\n",
    "# background subtracted nuwro evt rate\n",
    "ax1.hist(bincenters, bins, histtype='step', range=[xlow,xhigh], \n",
    "        weights=nuwro_evt_rate, linestyle=\":\", linewidth=2, \n",
    "                  label='NuWro')\n",
    "\n",
    "# ratio plot  \n",
    "ax2.errorbar(bincenters, [a/b for a,b in zip(nuwro_evt_rate, nue_evt_rate)], \n",
    "             xerr=binwidth, color=\"black\", fmt='o')\n",
    "ax2.set_ylim(0, 2)\n",
    "\n",
    "\n",
    "# plot formatting \n",
    "ax1.set_xlim(xlow,xhigh)\n",
    "ax1.set_xticks(x_ticks)\n",
    "ax1.set_ylabel('$\\\\nu$ / $2\\\\times10^{20}$ POT', fontsize=15)\n",
    "\n",
    "ax2.set_xlim(xlow,xhigh)\n",
    "ax2.set_xticks(x_ticks)\n",
    "\n",
    "ax2.set_xlabel(x_label, fontsize=14)\n",
    "ax2.set_ylabel(\"NuWro / GENIE v3\", fontsize=14)\n",
    "\n",
    "ax1.legend(fontsize=13, frameon=False)\n",
    "    \n",
    "ax2.set_xlabel(\"Reconstructed \"+x_label, fontsize=15)\n",
    "ax1.set_title(\"Background-Subtracted Selected Event Rate\", fontsize=16)\n",
    "\n",
    "#if ISRUN3=='': \n",
    "#    plt.savefig(\"/uboone/data/users/kmiller/uBNuMI_CCNp/plots/combined/combined_\"+xvar+\"_closuretest.pdf\", \n",
    "#            transparent=True, bbox_inches='tight')\n",
    "\n",
    "#plt.savefig(\"/uboone/data/users/kmiller/uBNuMI_CCNp/plots/fhc/fakedata/nuwro_evt_rate_compare_\"+xvar+\".pdf\", \n",
    "#            transparent=True, bbox_inches='tight')\n",
    "plt.show()"
   ]
  },
  {
   "cell_type": "code",
   "execution_count": 61,
   "id": "56967250",
   "metadata": {},
   "outputs": [],
   "source": [
    "\n",
    "\n",
    "# nuwro selected neutrino backgrounds\n",
    "nuwro_bkgd = pd.concat([datasets_bdt['infv'].query('is_signal==False'), datasets_bdt['outfv']])\n",
    "\n"
   ]
  },
  {
   "cell_type": "code",
   "execution_count": 62,
   "id": "aa4d0fcc",
   "metadata": {},
   "outputs": [
    {
     "data": {
      "text/plain": [
       "[0.19008122339911773,\n",
       " 0.5241099745648666,\n",
       " 0.7417009476609089,\n",
       " 1.219674159744577,\n",
       " 1.7395320530863725,\n",
       " 2.420438460498419,\n",
       " 3.480489256122694,\n",
       " 6.11493408447123,\n",
       " 10.642437143794474,\n",
       " 22.52491932557727]"
      ]
     },
     "execution_count": 62,
     "metadata": {},
     "output_type": "execute_result"
    }
   ],
   "source": [
    "nuwro_evt_rate"
   ]
  },
  {
   "cell_type": "code",
   "execution_count": 63,
   "id": "275bb086",
   "metadata": {},
   "outputs": [
    {
     "data": {
      "image/png": "[encoded data removed]",
      "text/plain": [
       "<Figure size 576x504 with 2 Axes>"
      ]
     },
     "metadata": {
      "needs_background": "light"
     },
     "output_type": "display_data"
    }
   ],
   "source": [
    "fig = plt.figure(figsize=(8, 7))\n",
    "\n",
    "gs = gridspec.GridSpec(2, 1, height_ratios=[2, 1])\n",
    "\n",
    "ax1 = plt.subplot(gs[0])\n",
    "ax2 = plt.subplot(gs[1])\n",
    "    \n",
    "ax1.tick_params(axis = 'both', which = 'major', labelsize = 13)\n",
    "ax2.tick_params(axis = 'both', which = 'major', labelsize = 13)\n",
    "\n",
    "ax2.yaxis.grid(linestyle=\"--\", color='black', alpha=0.2)\n",
    "ax2.xaxis.grid(linestyle=\"--\", color='black', alpha=0.2)\n",
    "\n",
    "# genie\n",
    "ax1.hist(bincenters, bins, histtype='step', range=[xlow,xhigh], \n",
    "        weights=cv_bkgd_mc, linestyle=\":\", linewidth=2, \n",
    "                  label='GENIE v3')\n",
    "\n",
    "# background subtracted nuwro evt rate\n",
    "h_nuwro_bkgd = ax1.hist(nuwro_bkgd[xvar], bins, histtype='step', \n",
    "                        weights=nuwro_bkgd.totweight_data, range=[xlow,xhigh], \n",
    "         linestyle=\":\", linewidth=2, \n",
    "                  label='NuWro')[0]\n",
    "\n",
    "# ratio plot  \n",
    "ax2.errorbar(bincenters, [a/b for a,b in zip(h_nuwro_bkgd, cv_bkgd_mc)], \n",
    "             xerr=binwidth, color=\"black\", fmt='o')\n",
    "#ax2.set_ylim(0, 2)\n",
    "\n",
    "#ax1.set_ylim(0, 5)\n",
    "\n",
    "\n",
    "# plot formatting \n",
    "ax1.set_xlim(xlow,xhigh)\n",
    "ax1.set_xticks(x_ticks)\n",
    "ax1.set_ylabel('$\\\\nu$ / $2\\\\times10^{20}$ POT', fontsize=15)\n",
    "\n",
    "ax2.set_xlim(xlow,xhigh)\n",
    "ax2.set_xticks(x_ticks)\n",
    "\n",
    "ax2.set_xlabel(x_label, fontsize=14)\n",
    "ax2.set_ylabel(\"NuWro / GENIE v3\", fontsize=14)\n",
    "\n",
    "ax1.legend(fontsize=13, frameon=False)\n",
    "    \n",
    "ax2.set_xlabel(\"Reconstructed \"+x_label, fontsize=15)\n",
    "ax1.set_title(\"Selected Neutrino Backgrounds\", fontsize=16)\n",
    "\n",
    "\n",
    "#plt.savefig(\"/uboone/data/users/kmiller/uBNuMI_CCNp/plots/fhc/fakedata/nuwro_mc_bkgd_compare_\"+xvar+\".pdf\", \n",
    "#            transparent=True, bbox_inches='tight')\n",
    "\n",
    "plt.show()"
   ]
  },
  {
   "cell_type": "code",
   "execution_count": 64,
   "id": "ad97ebf2",
   "metadata": {},
   "outputs": [
    {
     "name": "stdout",
     "output_type": "stream",
     "text": [
      "[  9.86413842  11.92098529  14.15277908  16.39873718  20.44094976\n",
      "  26.3794734   34.43345706  48.65170295  80.01449607 172.43423126]\n"
     ]
    }
   ],
   "source": [
    "#This should be prior true signal from genie\n",
    "#genie_true = generated_signal(False, true_var, bins, xlow, xhigh)[0]\n",
    "\n",
    "genie_true = nue_full_evt_rate\n",
    "\n",
    "print(genie_true)"
   ]
  },
  {
   "cell_type": "code",
   "execution_count": 65,
   "id": "6b48c7a2",
   "metadata": {},
   "outputs": [
    {
     "name": "stdout",
     "output_type": "stream",
     "text": [
      "[-0.9 -0.7 -0.5 -0.3 -0.1  0.1  0.3  0.5  0.7  0.9]\n"
     ]
    },
    {
     "data": {
      "image/png": "[encoded data removed]",
      "text/plain": [
       "<Figure size 576x504 with 2 Axes>"
      ]
     },
     "metadata": {
      "needs_background": "light"
     },
     "output_type": "display_data"
    }
   ],
   "source": [
    "fig = plt.figure(figsize=(8, 7))\n",
    "\n",
    "gs = gridspec.GridSpec(2, 1, height_ratios=[2, 1])\n",
    "\n",
    "ax1 = plt.subplot(gs[0])\n",
    "ax2 = plt.subplot(gs[1])\n",
    "    \n",
    "ax1.tick_params(axis = 'both', which = 'major', labelsize = 13)\n",
    "ax2.tick_params(axis = 'both', which = 'major', labelsize = 13)\n",
    "\n",
    "ax2.yaxis.grid(linestyle=\"--\", color='black', alpha=0.2)\n",
    "ax2.xaxis.grid(linestyle=\"--\", color='black', alpha=0.2)\n",
    "\n",
    "ax1.hist(bincenters, bins, histtype='step', range=[xlow,xhigh], \n",
    "        weights=genie_true, linestyle=\":\", linewidth=2, \n",
    "                  label='GENIE v3')\n",
    "\n",
    "print(bincenters)\n",
    "\n",
    "nuwro_true = ax1.hist(generated_events.query('is_signal==True')[true_var], bins, \n",
    "                      histtype='step', range=[xlow,xhigh], \n",
    "                      weights=generated_events.query('is_signal==True')['totweight_data'], \n",
    "                      linestyle=\":\", linewidth=2, \n",
    "                  label='NuWro')[0]\n",
    "\n",
    "\n",
    "# ratio plot  \n",
    "ax2.errorbar(bincenters, [a/b for a,b in zip(nuwro_true, genie_true)], \n",
    "             xerr=binwidth, color=\"black\", fmt='o')\n",
    "ax2.set_ylim(0, 2)\n",
    "\n",
    "\n",
    "# plot formatting \n",
    "ax1.set_xlim(xlow,xhigh)\n",
    "ax1.set_xticks(x_ticks)\n",
    "ax1.set_ylabel('$\\\\nu$ / $2\\\\times10^{20}$ POT', fontsize=15)\n",
    "\n",
    "ax2.set_xlim(xlow,xhigh)\n",
    "ax2.set_xticks(x_ticks)\n",
    "\n",
    "ax2.set_xlabel(x_label, fontsize=14)\n",
    "ax2.set_ylabel(\"NuWro / GENIE v3\", fontsize=14)\n",
    "\n",
    "ax1.legend(fontsize=13, frameon=False)\n",
    "    \n",
    "ax2.set_xlabel(\"True \"+x_label, fontsize=15)\n",
    "ax1.set_title(\"Generated Signal Event Rate\", fontsize=16)\n",
    "\n",
    "#plt.savefig(\"/uboone/data/users/kmiller/uBNuMI_CCNp/plots/fhc/fakedata/nuwro_gen_signal_compare_\"+xvar+\".pdf\", \n",
    "#            transparent=True, bbox_inches='tight')\n",
    "plt.show()"
   ]
  },
  {
   "cell_type": "code",
   "execution_count": 78,
   "id": "92d0b36c",
   "metadata": {},
   "outputs": [],
   "source": [
    "if useWeights == False:\n",
    "\n",
    "    fig = plt.figure(figsize=(8, 7))\n",
    "\n",
    "    gs = gridspec.GridSpec(2, 1, height_ratios=[2, 1])\n",
    "\n",
    "    ax1 = plt.subplot(gs[0])\n",
    "    ax2 = plt.subplot(gs[1])\n",
    "\n",
    "    ax1.tick_params(axis = 'both', which = 'major', labelsize = 13)\n",
    "    ax2.tick_params(axis = 'both', which = 'major', labelsize = 13)\n",
    "\n",
    "    ax2.yaxis.grid(linestyle=\"--\", color='black', alpha=0.2)\n",
    "    ax2.xaxis.grid(linestyle=\"--\", color='black', alpha=0.2)\n",
    "\n",
    "\n",
    "    nuwro_unweighted = ax1.hist(generated_events.query('is_signal==True')[true_var], bins, \n",
    "                          histtype='step', range=[xlow,xhigh], \n",
    "                          linestyle=\":\", linewidth=2, \n",
    "                      label='NuWro')[0]\n",
    "    \n",
    "    print(nuwro_unweighted)\n",
    "    print(sum(nuwro_unweighted))\n",
    "\n",
    "\n",
    "    # ratio plot  \n",
    "    ax2.errorbar(bincenters, [a/b for a,b in zip(nuwro_unweighted , genie_true)], \n",
    "                 xerr=binwidth, color=\"black\", fmt='o')\n",
    "    ax2.set_ylim(0, 2)\n",
    "\n",
    "\n",
    "    # plot formatting \n",
    "    ax1.set_xlim(xlow,xhigh)\n",
    "    ax1.set_xticks(x_ticks)\n",
    "    ax1.set_ylabel('$\\\\nu$ / $2\\\\times10^{20}$ POT', fontsize=15)\n",
    "\n",
    "    ax2.set_xlim(xlow,xhigh)\n",
    "    ax2.set_xticks(x_ticks)\n",
    "\n",
    "    ax2.set_xlabel(x_label, fontsize=14)\n",
    "    ax2.set_ylabel(\"NuWro / GENIE v3\", fontsize=14)\n",
    "\n",
    "    ax1.legend(fontsize=13, frameon=False)\n",
    "\n",
    "    ax2.set_xlabel(\"True \"+x_label, fontsize=15)\n",
    "    ax1.set_title(\"Generated Signal Event Rate\", fontsize=16)\n",
    "\n",
    "    #plt.savefig(\"/uboone/data/users/kmiller/uBNuMI_CCNp/plots/fhc/fakedata/nuwro_gen_signal_compare_\"+xvar+\".pdf\", \n",
    "    #            transparent=True, bbox_inches='tight')\n",
    "    plt.show()"
   ]
  },
  {
   "cell_type": "code",
   "execution_count": 66,
   "id": "698c47c6",
   "metadata": {},
   "outputs": [
    {
     "name": "stdout",
     "output_type": "stream",
     "text": [
      "Generated (True - GENIE v3) =  [  9.86413842  11.92098529  14.15277908  16.39873718  20.44094976\n",
      "  26.3794734   34.43345706  48.65170295  80.01449607 172.43423126]\n",
      "Selected (Reco - NuWro) =  [0.19008122339911773, 0.5241099745648666, 0.7417009476609089, 1.219674159744577, 1.7395320530863725, 2.420438460498419, 3.480489256122694, 6.11493408447123, 10.642437143794474, 22.52491932557727]\n"
     ]
    },
    {
     "data": {
      "image/png": "[encoded data removed]",
      "text/plain": [
       "<Figure size 720x504 with 1 Axes>"
      ]
     },
     "metadata": {
      "needs_background": "light"
     },
     "output_type": "display_data"
    }
   ],
   "source": [
    "# nuwro input distributions \n",
    "\n",
    "fig = plt.figure(figsize=(10, 7))\n",
    "\n",
    "#So this is Prior True\n",
    "plt.hist(bincenters, bins, color='orange', label='Generated (True - GENIE v3)', alpha=0.4, \n",
    "         weights=genie_true)\n",
    "\n",
    "print(\"Generated (True - GENIE v3) = \", genie_true)\n",
    "\n",
    "\n",
    "#Anf this is Data Signal\n",
    "# genie background subtracted evt rate \n",
    "plt.hist(bincenters, bins, color='blue', label='Selected (Reco - NuWro)', alpha=0.4, weights=nuwro_evt_rate)\n",
    "\n",
    "print('Selected (Reco - NuWro) = ', nuwro_evt_rate)\n",
    "\n",
    "plt.legend(fontsize=13)\n",
    "plt.title('FHC Run 1 - Input Signal Predictions', fontsize=16)\n",
    "\n",
    "plt.xlim(xlow, xhigh)\n",
    "\n",
    "plt.xlabel(x_label, fontsize=15)\n",
    "    \n",
    "plt.xticks(x_ticks, fontsize=13)\n",
    "plt.yticks(fontsize=13)\n",
    "\n",
    "plt.ylabel(\"$\\\\nu$ / 2.0 $\\\\times 10^{20}$ POT\", fontsize=15)\n",
    "\n",
    "plt.grid()\n",
    "\n",
    "#plt.savefig(\"/uboone/data/users/kmiller/uBNuMI_CCNp/plots/fhc/fakedata/nuwro_input_dist_\"+xvar+\".pdf\", \n",
    "#            transparent=True, bbox_inches='tight')\n",
    "\n",
    "plt.show()"
   ]
  },
  {
   "cell_type": "code",
   "execution_count": 67,
   "id": "f1c32cf1",
   "metadata": {},
   "outputs": [
    {
     "data": {
      "text/plain": [
       "[0.19008122339911773,\n",
       " 0.5241099745648666,\n",
       " 0.7417009476609089,\n",
       " 1.219674159744577,\n",
       " 1.7395320530863725,\n",
       " 2.420438460498419,\n",
       " 3.480489256122694,\n",
       " 6.11493408447123,\n",
       " 10.642437143794474,\n",
       " 22.52491932557727]"
      ]
     },
     "execution_count": 67,
     "metadata": {},
     "output_type": "execute_result"
    }
   ],
   "source": [
    "nuwro_evt_rate"
   ]
  },
  {
   "cell_type": "code",
   "execution_count": 71,
   "id": "7a16e36d",
   "metadata": {},
   "outputs": [
    {
     "name": "stdout",
     "output_type": "stream",
     "text": [
      "[0.0026079823140606573, 0.006116835816286197, 0.008453807229065162, 0.013573345413526082, 0.01967030690908566, 0.02699265347821044, 0.03981543302745846, 0.0698726606175205, 0.1208807732793825, 0.26802863840553637]\n"
     ]
    }
   ],
   "source": [
    "# sumw2 of the full event rate \n",
    "nuwro_full_sumw2 = []\n",
    "\n",
    "for i in range(len(bins)-1):\n",
    "\n",
    "    if i==len(bins)-2: \n",
    "        bin_query = xvar+' >= '+str(bins[i])+' and '+xvar+' <= '+str(bins[i+1])\n",
    "    else: \n",
    "        bin_query = xvar+' >= '+str(bins[i])+' and '+xvar+' < '+str(bins[i+1])\n",
    "\n",
    "    #nuwro_full_sumw2.append(sum(datasets_bdt['infv'].query('is_signal==True and '+bin_query).totweight_data ** 2) ) #bug (fixed below)\n",
    "    nuwro_full_sumw2.append(sum(selected_events.query(bin_query).totweight_data ** 2))\n",
    "    \n",
    "    \n",
    "# percent stat error - of the background subtracted event rate \n",
    "#print( [(np.sqrt(a)/b) for a,b in zip(nuwro_full_sumw2, nuwro_evt_rate)] )\n",
    "print(nuwro_full_sumw2)"
   ]
  },
  {
   "cell_type": "code",
   "execution_count": 70,
   "id": "12fc6d28",
   "metadata": {},
   "outputs": [
    {
     "data": {
      "text/plain": [
       "[0.0026079823140606573,\n",
       " 0.006116835816286197,\n",
       " 0.008453807229065162,\n",
       " 0.013573345413526082,\n",
       " 0.01967030690908566,\n",
       " 0.02699265347821044,\n",
       " 0.03981543302745846,\n",
       " 0.0698726606175205,\n",
       " 0.1208807732793825,\n",
       " 0.26802863840553637]"
      ]
     },
     "execution_count": 70,
     "metadata": {},
     "output_type": "execute_result"
    }
   ],
   "source": [
    "nuwro_full_sumw2"
   ]
  },
  {
   "cell_type": "markdown",
   "id": "b272660c",
   "metadata": {},
   "source": [
    "Signal Region Systematic - NuWro"
   ]
  },
  {
   "cell_type": "code",
   "execution_count": 72,
   "id": "212eed33",
   "metadata": {},
   "outputs": [
    {
     "data": {
      "image/png": "[encoded data removed]",
      "text/plain": [
       "<Figure size 576x360 with 1 Axes>"
      ]
     },
     "metadata": {
      "needs_background": "light"
     },
     "output_type": "display_data"
    }
   ],
   "source": [
    "# genie vs nuwro event rate\n",
    "\n",
    "fig = plt.figure(figsize=(8, 5))\n",
    "\n",
    "# background subtracted genie evt rate \n",
    "plt.hist(bincenters, bins, histtype='step', range=[xlow,xhigh], \n",
    "        weights=nue_evt_rate, linestyle=\":\", linewidth=2, \n",
    "                  label='GENIE v3')\n",
    "\n",
    "# background subtracted nuwro evt rate\n",
    "plt.hist(bincenters, bins, histtype='step', range=[xlow,xhigh], \n",
    "        weights=nuwro_evt_rate, linestyle=\":\", linewidth=2, \n",
    "                  label='NuWro')\n",
    "\n",
    "# plot format stuff\n",
    "plt.legend(loc='best', prop={\"size\":14}, ncol=1, frameon=False)\n",
    "\n",
    "plt.ylabel('$\\\\nu$ / $2\\\\times10^{20}$ POT', fontsize=15)\n",
    "    \n",
    "plt.xlabel(\"Reconstructed \"+x_label, fontsize=15)\n",
    "plt.xticks(x_ticks, fontsize=14)\n",
    "\n",
    "plt.yticks(fontsize=14)\n",
    "\n",
    "plt.xlim(xlow, xhigh)\n",
    "\n",
    "\n",
    "plt.title(\"Background-Subtracted Selected Event Rate\", fontsize=16)\n",
    "\n",
    "plt.show()"
   ]
  },
  {
   "cell_type": "code",
   "execution_count": 73,
   "id": "2cc30037",
   "metadata": {},
   "outputs": [],
   "source": [
    "# genie_evt_rate - background subtracted event rate \n",
    "# nuwro_evt_rate - background subtracted event rate \n",
    "# genie_nu_bkgd - neutrino background prediction from genie \n",
    "# nuwro_nu_bkgd - neutrino background prediction from nuwro\n",
    "\n",
    "sys_dict = {}\n",
    "\n"
   ]
  },
  {
   "cell_type": "code",
   "execution_count": 74,
   "id": "71ae6cc7",
   "metadata": {},
   "outputs": [],
   "source": [
    "sys_dict['genie_evt_rate'] = nue_evt_rate\n",
    "sys_dict['nuwro_evt_rate'] = nuwro_evt_rate\n",
    "sys_dict['genie_nu_bkgd'] = cv_bkgd_mc\n",
    "sys_dict['nuwro_nu_bkgd'] = list(h_nuwro_bkgd)\n"
   ]
  },
  {
   "cell_type": "code",
   "execution_count": 75,
   "id": "c5e64ca9",
   "metadata": {},
   "outputs": [],
   "source": [
    "np.savetxt(\"nue_nuWro_MC_Data_Signal_recoCut_run1_\"+ending+\".csv\", \n",
    "           nuwro_evt_rate,\n",
    "           delimiter =\", \", \n",
    "           fmt ='% s')"
   ]
  },
  {
   "cell_type": "code",
   "execution_count": 76,
   "id": "13b3f262",
   "metadata": {},
   "outputs": [
    {
     "data": {
      "text/plain": [
       "array([  8.92293032,  11.03283799,  11.79438326,  14.73940691,\n",
       "        18.42315658,  23.1503012 ,  31.57973141,  44.02539694,\n",
       "        72.58131567, 151.49451282])"
      ]
     },
     "execution_count": 76,
     "metadata": {},
     "output_type": "execute_result"
    }
   ],
   "source": [
    "nuwro_true"
   ]
  },
  {
   "cell_type": "code",
   "execution_count": 77,
   "id": "f0b7f324",
   "metadata": {},
   "outputs": [
    {
     "data": {
      "text/plain": [
       "array([  9.86413842,  11.92098529,  14.15277908,  16.39873718,\n",
       "        20.44094976,  26.3794734 ,  34.43345706,  48.65170295,\n",
       "        80.01449607, 172.43423126])"
      ]
     },
     "execution_count": 77,
     "metadata": {},
     "output_type": "execute_result"
    }
   ],
   "source": [
    "genie_true"
   ]
  },
  {
   "cell_type": "markdown",
   "id": "f50e38da",
   "metadata": {},
   "source": [
    "## Create the Nue Cov Uncertainty Matrix\n",
    "\n",
    "- NuWro Stat Errs\n",
    "- MC background stat errs\n",
    "- genie systematics"
   ]
  },
  {
   "cell_type": "code",
   "execution_count": 79,
   "id": "93e4af8f",
   "metadata": {},
   "outputs": [
    {
     "name": "stdout",
     "output_type": "stream",
     "text": [
      "[0.0026079823140606573, 0.006116835816286197, 0.008453807229065162, 0.013573345413526082, 0.01967030690908566, 0.02699265347821044, 0.03981543302745846, 0.0698726606175205, 0.1208807732793825, 0.26802863840553637]\n"
     ]
    }
   ],
   "source": [
    "#nuWro_stat_err_nue\n",
    "#array([0.00324513, 0.00761901, 0.01058196, 0.01693113, 0.02469124,\n",
    "#       0.03358008, 0.04952356, 0.08648987, 0.14927616, 0.32507775])\n",
    "\n",
    "nuWro_stat_err_nue = nuwro_full_sumw2\n",
    "print(nuWro_stat_err_nue)"
   ]
  },
  {
   "cell_type": "code",
   "execution_count": 80,
   "id": "73e2050b",
   "metadata": {},
   "outputs": [
    {
     "name": "stdout",
     "output_type": "stream",
     "text": [
      "[5.35549485e-04 4.36625205e-04 4.43914344e-04 5.61675879e-01\n",
      " 9.38794102e-04 1.00136417e-03 2.20936061e-03 4.24500371e-03\n",
      " 5.46427976e-03 5.80942269e-01]\n"
     ]
    }
   ],
   "source": [
    "nue_bkg_genie_err = pd.read_csv(\"nue_bkg_exp_err_squared_angle_\"+ending+\".csv\", header=None)\n",
    "\n",
    "nue_bkg_genie_err = nue_bkg_genie_err.values[:, 0]\n",
    "print(nue_bkg_genie_err)"
   ]
  },
  {
   "cell_type": "code",
   "execution_count": 81,
   "id": "0d331be0",
   "metadata": {},
   "outputs": [
    {
     "name": "stdout",
     "output_type": "stream",
     "text": [
      "[0.00314353 0.00655346 0.00889772 0.57524922 0.0206091  0.02799402\n",
      " 0.04202479 0.07411766 0.12634505 0.84897091]\n"
     ]
    }
   ],
   "source": [
    "totalstat_nue_err = nuWro_stat_err_nue + nue_bkg_genie_err\n",
    "print(totalstat_nue_err)\n",
    "\n",
    "np.savetxt(\"totalstat_nuWro_nue_err_angle_\"+ending+\".csv\", \n",
    "               totalstat_nue_err,\n",
    "               delimiter =\", \", \n",
    "               fmt ='% s')"
   ]
  },
  {
   "cell_type": "code",
   "execution_count": 82,
   "id": "cb3b30a0",
   "metadata": {},
   "outputs": [
    {
     "name": "stdout",
     "output_type": "stream",
     "text": [
      "[[0. 0. 0. 0. 0. 0. 0. 0. 0. 0.]\n",
      " [0. 0. 0. 0. 0. 0. 0. 0. 0. 0.]\n",
      " [0. 0. 0. 0. 0. 0. 0. 0. 0. 0.]\n",
      " [0. 0. 0. 0. 0. 0. 0. 0. 0. 0.]\n",
      " [0. 0. 0. 0. 0. 0. 0. 0. 0. 0.]\n",
      " [0. 0. 0. 0. 0. 0. 0. 0. 0. 0.]\n",
      " [0. 0. 0. 0. 0. 0. 0. 0. 0. 0.]\n",
      " [0. 0. 0. 0. 0. 0. 0. 0. 0. 0.]\n",
      " [0. 0. 0. 0. 0. 0. 0. 0. 0. 0.]\n",
      " [0. 0. 0. 0. 0. 0. 0. 0. 0. 0.]]\n"
     ]
    }
   ],
   "source": [
    "nue_cov_stats   = np.zeros([(len(bins)-1), (len(bins)-1)])\n",
    "print(nue_cov_stats)"
   ]
  },
  {
   "cell_type": "code",
   "execution_count": 83,
   "id": "698a9c0a",
   "metadata": {},
   "outputs": [],
   "source": [
    "nue_cov_stats[np.diag_indices_from(nue_cov_stats)]    = totalstat_nue_err"
   ]
  },
  {
   "cell_type": "code",
   "execution_count": 84,
   "id": "32bfaaf8",
   "metadata": {},
   "outputs": [
    {
     "data": {
      "image/png": "[encoded data removed]",
      "text/plain": [
       "<Figure size 720x432 with 2 Axes>"
      ]
     },
     "metadata": {
      "needs_background": "light"
     },
     "output_type": "display_data"
    }
   ],
   "source": [
    "fig = plt.figure(figsize=(10, 6))\n",
    "        \n",
    "plt.pcolor(bins, bins, nue_cov_stats, cmap='OrRd', edgecolors='k')#, vmin=-1, vmax=1)\n",
    "            \n",
    "cbar = plt.colorbar()\n",
    "cbar.ax.tick_params(labelsize=14)\n",
    "\n",
    "\n",
    "\n",
    "\n",
    "#plt.xlabel('Reco Shower Energy [GeV]', fontsize=15)\n",
    "#plt.ylabel('Reco Shower Energy [GeV]', fontsize=15)\n",
    "\n",
    "plt.title('Covariance', fontsize=15)\n",
    "\n",
    "plt.show()"
   ]
  },
  {
   "cell_type": "code",
   "execution_count": 85,
   "id": "05be7b93",
   "metadata": {},
   "outputs": [
    {
     "name": "stdout",
     "output_type": "stream",
     "text": [
      "[[ 5.68023980e-03  8.25747806e-03  9.74948272e-03  1.08464707e-02\n",
      "   1.45109470e-02  2.70183623e-02  3.71480075e-02  4.78090826e-02\n",
      "   7.13258345e-02  7.31215630e-02]\n",
      " [ 8.25747806e-03  1.46631671e-02  1.42534408e-02  1.58515767e-02\n",
      "   1.85196994e-02  4.00911636e-02  4.80728269e-02  5.64345102e-02\n",
      "   2.95281279e-02 -2.09662735e-01]\n",
      " [ 9.74948272e-03  1.42534408e-02  1.87617587e-02  2.08681065e-02\n",
      "   2.93500084e-02  5.14554275e-02  7.08110320e-02  9.48706667e-02\n",
      "   1.54084514e-01  2.17948991e-01]\n",
      " [ 1.08464707e-02  1.58515767e-02  2.08681065e-02  2.43669371e-02\n",
      "   3.38792979e-02  5.85198131e-02  8.02399838e-02  1.09233230e-01\n",
      "   1.77898301e-01  2.62843897e-01]\n",
      " [ 1.45109470e-02  1.85196994e-02  2.93500084e-02  3.38792979e-02\n",
      "   5.32241030e-02  8.14919517e-02  1.19236134e-01  1.69542630e-01\n",
      "   3.41281312e-01  7.60719639e-01]\n",
      " [ 2.70183623e-02  4.00911636e-02  5.14554275e-02  5.85198131e-02\n",
      "   8.14919517e-02  1.44545846e-01  1.95794876e-01  2.62234263e-01\n",
      "   4.07176315e-01  5.18658956e-01]\n",
      " [ 3.71480075e-02  4.80728269e-02  7.08110320e-02  8.02399838e-02\n",
      "   1.19236134e-01  1.95794876e-01  2.93604390e-01  4.06083441e-01\n",
      "   8.27726346e-01  1.82077007e+00]\n",
      " [ 4.78090826e-02  5.64345102e-02  9.48706667e-02  1.09233230e-01\n",
      "   1.69542630e-01  2.62234263e-01  4.06083441e-01  5.85568856e-01\n",
      "   1.30173876e+00  3.25573207e+00]\n",
      " [ 7.13258345e-02  2.95281279e-02  1.54084514e-01  1.77898301e-01\n",
      "   3.41281312e-01  4.07176315e-01  8.27726346e-01  1.30173876e+00\n",
      "   4.17856307e+00  1.38903399e+01]\n",
      " [ 7.31215630e-02 -2.09662735e-01  2.17948991e-01  2.62843897e-01\n",
      "   7.60719639e-01  5.18658956e-01  1.82077007e+00  3.25573207e+00\n",
      "   1.38903399e+01  5.31132321e+01]]\n"
     ]
    }
   ],
   "source": [
    "# Now need to load in the genie sys errs from nue\n",
    "\n",
    "nue_bkg_genie_err = pd.read_csv(\"nue_cov_genie_only_angle_\"+ending+\".csv\", header=None)\n",
    "\n",
    "nue_bkg_genie_err = nue_bkg_genie_err.values\n",
    "print(nue_bkg_genie_err)"
   ]
  },
  {
   "cell_type": "code",
   "execution_count": 86,
   "id": "f03e60b7",
   "metadata": {},
   "outputs": [
    {
     "data": {
      "image/png": "[encoded data removed]",
      "text/plain": [
       "<Figure size 720x432 with 2 Axes>"
      ]
     },
     "metadata": {
      "needs_background": "light"
     },
     "output_type": "display_data"
    }
   ],
   "source": [
    "fig = plt.figure(figsize=(10, 6))\n",
    "        \n",
    "plt.pcolor(bins, bins, nue_bkg_genie_err, cmap='OrRd', edgecolors='k')#, vmin=-1, vmax=1)\n",
    "            \n",
    "cbar = plt.colorbar()\n",
    "cbar.ax.tick_params(labelsize=14)\n",
    "\n",
    "\n",
    "\n",
    "\n",
    "#plt.xlabel('Reco Shower Energy [GeV]', fontsize=15)\n",
    "#plt.ylabel('Reco Shower Energy [GeV]', fontsize=15)\n",
    "\n",
    "plt.title('genie cov', fontsize=15)\n",
    "\n",
    "plt.show()"
   ]
  },
  {
   "cell_type": "code",
   "execution_count": 87,
   "id": "64859206",
   "metadata": {},
   "outputs": [],
   "source": [
    "total_cov_nuWro_nue = nue_bkg_genie_err + nue_cov_stats"
   ]
  },
  {
   "cell_type": "code",
   "execution_count": 88,
   "id": "1f5d4089",
   "metadata": {},
   "outputs": [
    {
     "data": {
      "image/png": "[encoded data removed]",
      "text/plain": [
       "<Figure size 720x432 with 2 Axes>"
      ]
     },
     "metadata": {
      "needs_background": "light"
     },
     "output_type": "display_data"
    }
   ],
   "source": [
    "fig = plt.figure(figsize=(10, 6))\n",
    "        \n",
    "plt.pcolor(bins, bins, total_cov_nuWro_nue, cmap='OrRd', edgecolors='k')#, vmin=-1, vmax=1)\n",
    "            \n",
    "cbar = plt.colorbar()\n",
    "cbar.ax.tick_params(labelsize=14)\n",
    "\n",
    "\n",
    "\n",
    "\n",
    "#plt.xlabel('Reco Shower Energy [GeV]', fontsize=15)\n",
    "#plt.ylabel('Reco Shower Energy [GeV]', fontsize=15)\n",
    "\n",
    "plt.title('total input nuwro cov', fontsize=15)\n",
    "\n",
    "plt.show()"
   ]
  },
  {
   "cell_type": "code",
   "execution_count": 89,
   "id": "13ed8643",
   "metadata": {},
   "outputs": [],
   "source": [
    "np.savetxt(\"nue_total_cov_nuWro_angle_\"+ending+\".csv\", \n",
    "       total_cov_nuWro_nue,\n",
    "       delimiter =\", \", \n",
    "       fmt ='% s')  "
   ]
  },
  {
   "cell_type": "code",
   "execution_count": 90,
   "id": "0e34b2cf",
   "metadata": {},
   "outputs": [
    {
     "name": "stdout",
     "output_type": "stream",
     "text": [
      "\n",
      "[[0.9999999999999998, 0.6035067296023655, 0.6240687524974697, 0.14911613946816252, 0.5685161020144883, 0.6924480005401, 0.6826192600209855, 0.6266347513865446, 0.36596351421991985, 0.10596769832765217], [0.6035067296023655, 1.0, 0.5883822009718259, 0.14053924558659442, 0.46791815270593046, 0.6626218504662249, 0.5696808505722337, 0.47702130109724034, 0.09770477462983156, -0.19594682392044435], [0.6240687524974697, 0.5883822009718259, 0.9999999999999999, 0.16204079790117307, 0.6494718992773034, 0.7448425143615343, 0.7349352165732533, 0.7023298717084345, 0.4465345249854406, 0.17839719424489536], [0.14911613946816252, 0.14053924558659442, 0.16204079790117307, 1.0, 0.16101705496939164, 0.18193721372715996, 0.17886456449712293, 0.17367979790950017, 0.11072691308584622, 0.04620791745933552], [0.5685161020144883, 0.46791815270593046, 0.6494718992773034, 0.16101705496939164, 1.0000000000000002, 0.7220115343210327, 0.7574468601744284, 0.7682176024224823, 0.6053474348968005, 0.3811131508107528], [0.6924480005401, 0.6626218504662249, 0.7448425143615343, 0.18193721372715996, 0.7220115343210327, 1.0000000000000002, 0.8136295962164791, 0.7772771575073091, 0.4724499833988651, 0.16997784550376133], [0.6826192600209855, 0.5696808505722337, 0.7349352165732533, 0.17886456449712293, 0.7574468601744284, 0.8136295962164791, 0.9999999999999999, 0.8630115694923786, 0.6886126197710297, 0.4278390398076737], [0.6266347513865446, 0.47702130109724034, 0.7023298717084345, 0.17367979790950017, 0.7682176024224823, 0.7772771575073091, 0.8630115694923786, 1.0, 0.7724548230268586, 0.5456762046531027], [0.36596351421991985, 0.09770477462983156, 0.4465345249854406, 0.11072691308584622, 0.6053474348968005, 0.4724499833988651, 0.6886126197710297, 0.7724548230268586, 1.0, 0.9113518804896704], [0.10596769832765217, -0.19594682392044435, 0.17839719424489536, 0.04620791745933552, 0.3811131508107528, 0.16997784550376133, 0.4278390398076737, 0.5456762046531027, 0.9113518804896704, 1.0]]\n"
     ]
    }
   ],
   "source": [
    "total_cor_nuWro_nue = [ [0]*(len(bins)-1) for x in range(len(bins)-1) ]\n",
    "for i in range(len(total_cov_nuWro_nue)): \n",
    "        for j in range(len(total_cov_nuWro_nue[i])): \n",
    "\n",
    "            if np.sqrt(total_cov_nuWro_nue[i][i])*np.sqrt(total_cov_nuWro_nue[j][j]) != 0: \n",
    "                total_cor_nuWro_nue[i][j] = total_cov_nuWro_nue[i][j] / (np.sqrt(total_cov_nuWro_nue[i][i])*np.sqrt(total_cov_nuWro_nue[j][j]))\n",
    "                \n",
    "print(\"\")\n",
    "print(total_cor_nuWro_nue)"
   ]
  },
  {
   "cell_type": "code",
   "execution_count": 91,
   "id": "acd89d8f",
   "metadata": {},
   "outputs": [
    {
     "data": {
      "image/png": "[encoded data removed]",
      "text/plain": [
       "<Figure size 720x432 with 2 Axes>"
      ]
     },
     "metadata": {
      "needs_background": "light"
     },
     "output_type": "display_data"
    }
   ],
   "source": [
    "fig = plt.figure(figsize=(10, 6))\n",
    "        \n",
    "plt.pcolor(bins, bins, total_cor_nuWro_nue, cmap='OrRd', edgecolors='k', vmin=-1, vmax=1)#, vmin=-1, vmax=1)\n",
    "            \n",
    "cbar = plt.colorbar()\n",
    "cbar.ax.tick_params(labelsize=14)\n",
    "\n",
    "\n",
    "\n",
    "\n",
    "#plt.xlabel('Reco Shower Energy [GeV]', fontsize=15)\n",
    "#plt.ylabel('Reco Shower Energy [GeV]', fontsize=15)\n",
    "\n",
    "plt.title('total input nuwro cor', fontsize=15)\n",
    "\n",
    "plt.show()"
   ]
  },
  {
   "cell_type": "code",
   "execution_count": 92,
   "id": "72afb5fd",
   "metadata": {},
   "outputs": [],
   "source": [
    "total_frac_cov_nuWro_nue = [ [0]*(len(bins)-1) for x in range(len(bins)-1) ]\n",
    "\n",
    "for i in range(len(bins)-1): \n",
    "\n",
    "    for j in range(len(bins)-1): \n",
    "\n",
    "        c = total_cov_nuWro_nue[i][j]\n",
    "        \n",
    "        if nuWro_selected_events_nue[i]*nuWro_selected_events_nue[j] != 0:\n",
    "            total_frac_cov_nuWro_nue[i][j] = c/(nuWro_selected_events_nue[i]*nuWro_selected_events_nue[j])"
   ]
  },
  {
   "cell_type": "code",
   "execution_count": 93,
   "id": "d075b2a7",
   "metadata": {},
   "outputs": [
    {
     "data": {
      "image/png": "[encoded data removed]",
      "text/plain": [
       "<Figure size 720x432 with 2 Axes>"
      ]
     },
     "metadata": {
      "needs_background": "light"
     },
     "output_type": "display_data"
    }
   ],
   "source": [
    "fig = plt.figure(figsize=(10, 6))\n",
    "        \n",
    "plt.pcolor(bins, bins, total_frac_cov_nuWro_nue, cmap='OrRd', edgecolors='k')#, vmin=-1, vmax=1)\n",
    "            \n",
    "cbar = plt.colorbar()\n",
    "cbar.ax.tick_params(labelsize=14)\n",
    "\n",
    "\n",
    "\n",
    "\n",
    "#plt.xlabel('Reco Shower Energy [GeV]', fontsize=15)\n",
    "#plt.ylabel('Reco Shower Energy [GeV]', fontsize=15)\n",
    "\n",
    "plt.title('total input nuwro frac cov', fontsize=15)\n",
    "\n",
    "plt.show()"
   ]
  },
  {
   "cell_type": "code",
   "execution_count": null,
   "id": "dcf33591",
   "metadata": {},
   "outputs": [],
   "source": []
  }
 ],
 "metadata": {
  "kernelspec": {
   "display_name": "Python 3 (ipykernel)",
   "language": "python",
   "name": "python3"
  },
  "language_info": {
   "codemirror_mode": {
    "name": "ipython",
    "version": 3
   },
   "file_extension": ".py",
   "mimetype": "text/x-python",
   "name": "python",
   "nbconvert_exporter": "python",
   "pygments_lexer": "ipython3",
   "version": "3.8.12"
  }
 },
 "nbformat": 4,
 "nbformat_minor": 5
}
