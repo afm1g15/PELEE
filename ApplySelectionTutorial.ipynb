{
 "cells": [
  {
   "cell_type": "markdown",
   "metadata": {},
   "source": [
    "# Apply PeLEE Selection to NTuples"
   ]
  },
  {
   "cell_type": "code",
   "execution_count": 1,
   "metadata": {},
   "outputs": [
    {
     "name": "stdout",
     "output_type": "stream",
     "text": [
      "/Users/davidc-local/data/searchingfornues/v08_00_00_48/\n"
     ]
    }
   ],
   "source": [
    "import sys\n",
    "import localSettings as ls\n",
    "import os\n",
    "print(ls.main_path)"
   ]
  },
  {
   "cell_type": "code",
   "execution_count": 2,
   "metadata": {
    "colab": {
     "base_uri": "https://localhost:8080/",
     "height": 34
    },
    "colab_type": "code",
    "executionInfo": {
     "elapsed": 517,
     "status": "ok",
     "timestamp": 1560556807118,
     "user": {
      "displayName": "Stefano Roberto Soleti",
      "photoUrl": "https://lh4.googleusercontent.com/-hfLpspJu4Q0/AAAAAAAAAAI/AAAAAAAABmA/2kE4rtj8paU/s64/photo.jpg",
      "userId": "10372352518008961760"
     },
     "user_tz": 240
    },
    "id": "6qsD0G-yYJ9K",
    "outputId": "5d52a3ec-50be-44fc-da44-3c0593e98bc6"
   },
   "outputs": [],
   "source": [
    "main_path = ls.main_path\n",
    "sys.path.append(main_path)"
   ]
  },
  {
   "cell_type": "code",
   "execution_count": 3,
   "metadata": {},
   "outputs": [
    {
     "name": "stdout",
     "output_type": "stream",
     "text": [
      "date and time: 02152021\n"
     ]
    }
   ],
   "source": [
    "from datetime import datetime\n",
    "now = datetime.now()\n",
    "date_time = now.strftime(\"%m%d%Y\")\n",
    "print(\"date and time:\",date_time)"
   ]
  },
  {
   "cell_type": "code",
   "execution_count": 4,
   "metadata": {},
   "outputs": [],
   "source": [
    "from scipy.optimize import curve_fit\n",
    "\n",
    "def gauss(x,mu,sigma,A):\n",
    "    norm = A/(np.sqrt(2*np.pi)*sigma)\n",
    "    exp  = np.exp(-((x-mu)**2)/(2*sigma*sigma))\n",
    "    return norm * exp"
   ]
  },
  {
   "cell_type": "code",
   "execution_count": 5,
   "metadata": {
    "colab": {},
    "colab_type": "code",
    "id": "xGqTJ5JgaDsx"
   },
   "outputs": [],
   "source": [
    "import plotter\n",
    "import importlib\n",
    "importlib.reload(plotter)\n",
    "import uproot\n",
    "import matplotlib.pylab as pylab\n",
    "import numpy as np\n",
    "import math\n",
    "from sklearn.model_selection import train_test_split\n",
    "import pickle\n",
    "#if USEBDT:\n",
    "import xgboost as xgb\n",
    "import nue_booster \n",
    "importlib.reload(nue_booster)\n",
    "import awkward\n",
    "import pandas as pd\n",
    "\n",
    "params = {\n",
    "    'axes.labelsize': 'x-large',\n",
    "    'axes.titlesize': 'x-large',\n",
    "    'xtick.labelsize': 'x-large',\n",
    "    'ytick.labelsize': 'x-large'\n",
    "}\n",
    "pylab.rcParams.update(params)"
   ]
  },
  {
   "cell_type": "markdown",
   "metadata": {},
   "source": [
    "### import module responsible for loading NTuples"
   ]
  },
  {
   "cell_type": "code",
   "execution_count": 7,
   "metadata": {},
   "outputs": [],
   "source": [
    "import load_data_run123"
   ]
  },
  {
   "cell_type": "code",
   "execution_count": 8,
   "metadata": {},
   "outputs": [],
   "source": [
    "PATH = '/Users/davidc-local/data/searchingfornues/v08_00_00_48//run1/noweights/'\n",
    "FILE = 'prodgenie_bnb_intrinsice_nue_uboone_overlay_mcc9.1_v08_00_00_26_run1_reco2_reco2.root'"
   ]
  },
  {
   "cell_type": "code",
   "execution_count": 9,
   "metadata": {},
   "outputs": [],
   "source": [
    "fold = 'nuselection'\n",
    "tree = 'NeutrinoSelectionFilter'"
   ]
  },
  {
   "cell_type": "code",
   "execution_count": 10,
   "metadata": {},
   "outputs": [],
   "source": [
    "VARDICT = load_data_run123.get_variables()"
   ]
  },
  {
   "cell_type": "markdown",
   "metadata": {},
   "source": [
    "### Load variables needed to apply selections & plot distributions"
   ]
  },
  {
   "cell_type": "code",
   "execution_count": 11,
   "metadata": {},
   "outputs": [],
   "source": [
    "variables = VARDICT['VARIABLES'] + VARDICT['NUEVARS']"
   ]
  },
  {
   "cell_type": "code",
   "execution_count": 12,
   "metadata": {},
   "outputs": [],
   "source": [
    "variables += ['elec_e','truthFiducial','weightSplineTimesTune','proton_e','leeweight','elec_pz']"
   ]
  },
  {
   "cell_type": "code",
   "execution_count": 13,
   "metadata": {},
   "outputs": [],
   "source": [
    "variables = list(set(variables))"
   ]
  },
  {
   "cell_type": "markdown",
   "metadata": {},
   "source": [
    "### Load Pandas DataFrame with NTuple contents"
   ]
  },
  {
   "cell_type": "code",
   "execution_count": 14,
   "metadata": {},
   "outputs": [],
   "source": [
    "up = uproot.open(PATH+FILE)[fold][tree]\n",
    "df = up.pandas.df(variables, flatten=False)"
   ]
  },
  {
   "cell_type": "markdown",
   "metadata": {},
   "source": [
    "### Load variables from Pandas DataFrame"
   ]
  },
  {
   "cell_type": "code",
   "execution_count": 15,
   "metadata": {},
   "outputs": [],
   "source": [
    "load_data_run123.process_uproot(up,df)"
   ]
  },
  {
   "cell_type": "markdown",
   "metadata": {},
   "source": [
    "### Set dummy variables for BNB/EXT data fields "
   ]
  },
  {
   "cell_type": "code",
   "execution_count": 16,
   "metadata": {},
   "outputs": [],
   "source": [
    "df['bnbdata']  = np.zeros_like(df['nslice'])\n",
    "df['extdata']  = np.zeros_like(df['nslice'])"
   ]
  },
  {
   "cell_type": "markdown",
   "metadata": {},
   "source": [
    "### Function to calculate efficiency:"
   ]
  },
  {
   "cell_type": "code",
   "execution_count": 17,
   "metadata": {},
   "outputs": [],
   "source": [
    "def Eff(df,var,query,acceptance,bin_edges,absval=False):\n",
    "    #print acceptance\n",
    "    bin_centers = 0.5*(bin_edges[1:]+bin_edges[:-1])\n",
    "    bins = []\n",
    "    bin_eff = []\n",
    "    bin_err = []\n",
    "    num_v = []\n",
    "    den_v = []\n",
    "    for i in range(len(bin_centers)):\n",
    "        binmin = bin_edges[i]\n",
    "        binmax = bin_edges[i+1]\n",
    "        bincut = '%s > %f and %s < %f'%(var,binmin,var,binmax)\n",
    "        if (absval == True):\n",
    "            bincut = '(%s > %f and %s < %f) or (%s > -%f and %s < -%f)'%(var,binmin,var,binmax,var,binmax,var,binmin)\n",
    "        if (acceptance != ''): bincut += ' and %s'%acceptance\n",
    "        #print bincut\n",
    "        df_tmp =  df.query(bincut) # cut on bin range for desired var.\n",
    "        df_sub = df_tmp.query(query) # apply constrain \n",
    "        if (df_tmp.shape[0] == 0): continue\n",
    "        num_v.append(df_sub.shape[0])\n",
    "        den_v.append(df_tmp.shape[0])\n",
    "        eff = df_sub.shape[0] / float( df_tmp.shape[0] )\n",
    "        err = np.sqrt( eff*(1-eff)/df_tmp.shape[0] )\n",
    "        bin_eff.append( eff )\n",
    "        bin_err.append( err )\n",
    "        bins.append(bin_centers[i])\n",
    "        #print 'eff = %.02f @ bin = %.02f'%(eff,bin_centers[i])\n",
    "    return np.array(bins),np.array(bin_eff),np.array(bin_err),np.array(num_v),np.array(den_v)"
   ]
  },
  {
   "cell_type": "markdown",
   "metadata": {},
   "source": [
    "### various functions to perform gaussian fits"
   ]
  },
  {
   "cell_type": "code",
   "execution_count": 18,
   "metadata": {},
   "outputs": [],
   "source": [
    "import scipy.optimize\n",
    "\n",
    "def gauss_exp(x, n, mu, sigma, k):\n",
    "    sigma = abs(sigma)\n",
    "    condition = (x - mu) / sigma >= -k    \n",
    "    y = np.copy(x)\n",
    "    y[condition] = n * np.exp(-0.5 * ((x[condition] - mu) / sigma)**2)\n",
    "    y[~condition] = n * np.exp(k**2 / 2 + k * ((x[~condition] - mu) / sigma))\n",
    "#     print(x)\n",
    "    return y\n",
    "\n",
    "def get_function_max(f, *args):\n",
    "    def func(x, *arg):\n",
    "        return -f(x, *arg)\n",
    "    return f(scipy.optimize.fmin(func, 0, args=args, disp=False)[0], *args)\n",
    "\n",
    "def find_nearest(array, value):\n",
    "    array = np.asarray(array)\n",
    "    #print (array)\n",
    "    idx = (np.abs(array - value)).argmin()\n",
    "    return idx\n",
    "\n",
    "def mpv(array):\n",
    "    if sum(array) < 5:\n",
    "        return np.median(array)\n",
    "    \n",
    "    n_bins = energy_bins\n",
    "    r = energy_range\n",
    "    hist, bin_edges = np.histogram(array, bins=n_bins, range=r)\n",
    "    \n",
    "    bin_centers = [i*r[1]/n_bins-r[1]/(n_bins*2) for i in range(1,n_bins+1)]\n",
    "    try:\n",
    "        popt, pcov = scipy.optimize.curve_fit(gauss_exp, bin_centers, hist, maxfev=10000)\n",
    "        return scipy.optimize.fmin(lambda x: -gauss_exp(x, *popt), 0)\n",
    "    except RuntimeError:\n",
    "        return np.median(array)\n",
    "    \n",
    "def fwhm(array):\n",
    "    if sum(array) < 5:\n",
    "        return np.std(array)\n",
    "\n",
    "    n_bins = energy_bins\n",
    "    r = energy_range\n",
    "    hist, bin_edges = np.histogram(array, bins=n_bins, range=r)\n",
    "    \n",
    "    bin_centers = [i*r[1]/n_bins-r[1]/(n_bins*2) for i in range(1,n_bins+1)]\n",
    "\n",
    "    try:\n",
    "        popt, pcov = scipy.optimize.curve_fit(gauss_exp, bin_centers, hist, maxfev=10000)\n",
    "        x_values = np.linspace(r[0], r[1], 1000)\n",
    "        y_values = gauss_exp(np.linspace(r[0], r[1], 1000), *popt)\n",
    "        try:\n",
    "            x_max = scipy.optimize.fmin(lambda x: -gauss_exp(x, *popt), 0)\n",
    "        except RuntimeError:\n",
    "            x_max = np.median(array)\n",
    "        y_max = find_nearest(y_values, gauss_exp(x_max, *popt))\n",
    "        y_max_value = y_values[y_max]\n",
    "        fwhm1 = find_nearest(y_values[:y_max], y_max_value/2)\n",
    "        fwhm2 = find_nearest(y_values[y_max:], y_max_value/2)\n",
    "        x_2 = x_values[y_max:][fwhm2]     \n",
    "        x_1 = x_values[:y_max][fwhm1]\n",
    "        return x_2-x_1\n",
    "    except RuntimeError:\n",
    "        return np.std(array)"
   ]
  },
  {
   "cell_type": "markdown",
   "metadata": {},
   "source": [
    "### Load variables needed to apply BDT "
   ]
  },
  {
   "cell_type": "code",
   "execution_count": 19,
   "metadata": {},
   "outputs": [],
   "source": [
    "TRAINVAR = [\"shr_score\",\"tksh_distance\",\"tksh_angle\",\n",
    "            \"shr_tkfit_dedx_max\",\n",
    "            \"trkfit\",\"trkpid\",\n",
    "            \"subcluster\",\"shrmoliereavg\",\n",
    "            \"trkshrhitdist2\",\"hits_ratio\",\n",
    "            \"secondshower_Y_nhit\",\"secondshower_Y_vtxdist\",\"secondshower_Y_dot\",\"anglediff_Y\",\n",
    "            \"CosmicIPAll3D\",\"CosmicDirAll3D\"]\n",
    "\n",
    "LABELS =  ['pi0','nonpi0']\n",
    "\n",
    "TRAINVARZP = ['shrmoliereavg','shr_score', \"trkfit\",\"subcluster\",\n",
    "              \"CosmicIPAll3D\",\"CosmicDirAll3D\",\n",
    "              'secondshower_Y_nhit','secondshower_Y_vtxdist','secondshower_Y_dot','anglediff_Y',\n",
    "              'secondshower_V_nhit','secondshower_V_vtxdist','secondshower_V_dot','anglediff_V',\n",
    "              'secondshower_U_nhit','secondshower_U_vtxdist','secondshower_U_dot','anglediff_U',\n",
    "              \"shr_tkfit_2cm_dedx_U\", \"shr_tkfit_2cm_dedx_V\", \"shr_tkfit_2cm_dedx_Y\",\n",
    "              \"shr_tkfit_gap10_dedx_U\", \"shr_tkfit_gap10_dedx_V\", \"shr_tkfit_gap10_dedx_Y\",\n",
    "              \"shrMCSMom\",\"DeltaRMS2h\",\"shrPCA1CMed_5cm\",\"CylFrac2h_1cm\"]\n",
    "\n",
    "LABELSZP = ['bkg']\n",
    "\n",
    "def loadBDT(DF):\n",
    "\n",
    "    for label, bkg_query in zip(LABELS, nue_booster.bkg_queries):\n",
    "        with open(ls.pickle_path+'booster_%s_0304_extnumi.pickle' % label, 'rb') as booster_file:\n",
    "            booster = pickle.load(booster_file)\n",
    "            DF[label+\"_score\"] = booster.predict(xgb.DMatrix(DF[TRAINVAR]),\n",
    "                                                 ntree_limit=booster.best_iteration)\n",
    "\n",
    "    for label, bkg_query in zip(LABELSZP, nue_booster.bkg_queries):\n",
    "        with open(ls.pickle_path+'booster_%s_0304_extnumi_vx.pickle' % label, 'rb') as booster_file:\n",
    "            booster = pickle.load(booster_file)\n",
    "            DF[label+\"_score\"] = booster.predict(xgb.DMatrix(DF[TRAINVARZP]),\n",
    "                                                 ntree_limit=booster.best_iteration)\n",
    "            \n",
    "    return"
   ]
  },
  {
   "cell_type": "markdown",
   "metadata": {},
   "source": [
    "### Compute additional variables for nue selection not stored directly in NTuples"
   ]
  },
  {
   "cell_type": "code",
   "execution_count": 22,
   "metadata": {},
   "outputs": [],
   "source": [
    "INTERCEPT = 0.0\n",
    "SLOPE = 0.83\n",
    "\n",
    "df['subcluster'] = df['shrsubclusters0'] + df['shrsubclusters1'] + df['shrsubclusters2']\n",
    "df['trkfit'] = df['shr_tkfit_npointsvalid'] / df['shr_tkfit_npoints']\n",
    "df['anglediff_Y'] = np.abs(df['secondshower_Y_dir']-df['shrclusdir2'])\n",
    "df['anglediff_V'] = np.abs(df['secondshower_V_dir']-df['shrclusdir1'])\n",
    "df['anglediff_U'] = np.abs(df['secondshower_U_dir']-df['shrclusdir0'])                                                                                                                       \n",
    "df[\"ptOverP\"] = df[\"pt\"]/df[\"p\"]\n",
    "df[\"phi1MinusPhi2\"] = df[\"shr_phi\"]-df[\"trk_phi\"]\n",
    "df[\"theta1PlusTheta2\"] = df[\"shr_theta\"]+df[\"trk_theta\"]\n",
    "df['cos_shr_theta'] = np.cos(df['shr_theta'])\n",
    "df['shr_tkfit_nhits_tot'] = (df['shr_tkfit_nhits_Y']+df['shr_tkfit_nhits_U']+df['shr_tkfit_nhits_V'])                                                                                                                                                                                              \n",
    "df['shr_tkfit_2cm_nhits_tot'] = (df['shr_tkfit_2cm_nhits_Y']+df['shr_tkfit_2cm_nhits_U']+df['shr_tkfit_2cm_nhits_V'])                                                                                                                                                              \n",
    "df['shr_tkfit_gap10_nhits_tot'] = (df['shr_tkfit_gap10_nhits_Y']+df['shr_tkfit_gap10_nhits_U']+df['shr_tkfit_gap10_nhits_V'])                                                                                                                             \n",
    "df.loc[:,'shr_tkfit_dedx_max'] = df['shr_tkfit_dedx_Y']\n",
    "#df.loc[(df['shr_tkfit_nhits_U']>df['shr_tkfit_nhits_Y']),'shr_tkfit_dedx_max'] = df['shr_tkfit_dedx_U']\n",
    "df.loc[(df['shr_tkfit_nhits_U']>df['shr_tkfit_nhits_Y']),'shr_tkfit_dedx_max'] = df.loc[(df['shr_tkfit_nhits_U']>df['shr_tkfit_nhits_Y']),'shr_tkfit_dedx_U']\n",
    "#df.loc[(df['shr_tkfit_nhits_V']>df['shr_tkfit_nhits_Y']) & (df['shr_tkfit_nhits_V']>df['shr_tkfit_nhits_U']),'shr_tkfit_dedx_max'] = df['shr_tkfit_dedx_V']\n",
    "df.loc[(df['shr_tkfit_nhits_V']>df['shr_tkfit_nhits_Y']) & (df['shr_tkfit_nhits_V']>df['shr_tkfit_nhits_U']),'shr_tkfit_dedx_max'] = df.loc[(df['shr_tkfit_nhits_V']>df['shr_tkfit_nhits_Y']) & (df['shr_tkfit_nhits_V']>df['shr_tkfit_nhits_U']),'shr_tkfit_dedx_V']\n",
    "df[\"reco_e\"] = (df[\"shr_energy_tot_cali\"] + INTERCEPT) / SLOPE + df[\"trk_energy_tot\"]\n",
    "df['electron_e'] = (df[\"shr_energy_tot_cali\"] + INTERCEPT) / SLOPE\n",
    "\n",
    "loadBDT(df)"
   ]
  },
  {
   "cell_type": "markdown",
   "metadata": {},
   "source": [
    "### load pre-determined selections for PeLEE nue/numu cut-flows"
   ]
  },
  {
   "cell_type": "code",
   "execution_count": 23,
   "metadata": {},
   "outputs": [],
   "source": [
    "import unblinding_far_sideband"
   ]
  },
  {
   "cell_type": "markdown",
   "metadata": {},
   "source": [
    "### 1eNp BDT selection"
   ]
  },
  {
   "cell_type": "code",
   "execution_count": 40,
   "metadata": {},
   "outputs": [],
   "source": [
    "QUERYNPBDT = unblinding_far_sideband.NPPRESQ + ' and ' + unblinding_far_sideband.BDTCQ"
   ]
  },
  {
   "cell_type": "markdown",
   "metadata": {},
   "source": [
    "### correct GENIE weights for unphysical values"
   ]
  },
  {
   "cell_type": "code",
   "execution_count": 24,
   "metadata": {},
   "outputs": [],
   "source": [
    "df.loc[ df['weightSplineTimesTune'] <= 0, 'weightSplineTimesTune' ] = 1.\n",
    "df.loc[ df['weightSplineTimesTune'] == np.inf, 'weightSplineTimesTune' ] = 1.\n",
    "df.loc[ df['weightSplineTimesTune'] > 100, 'weightSplineTimesTune' ] = 1.\n",
    "df.loc[ np.isnan(df['weightSplineTimesTune']) == True, 'weightSplineTimesTune' ] = 1."
   ]
  },
  {
   "cell_type": "markdown",
   "metadata": {},
   "source": [
    "### import matplotlib for simple plotting"
   ]
  },
  {
   "cell_type": "code",
   "execution_count": 26,
   "metadata": {},
   "outputs": [],
   "source": [
    "import matplotlib.pyplot as plt\n",
    "\n",
    "from matplotlib.colors import LogNorm\n",
    "\n",
    "plt.rcParams.update({'font.size': 16})"
   ]
  },
  {
   "cell_type": "markdown",
   "metadata": {},
   "source": [
    "### Truth-based plot: split by true final-state (0pi, 0pi0p, 0piNp)"
   ]
  },
  {
   "cell_type": "code",
   "execution_count": 31,
   "metadata": {},
   "outputs": [],
   "source": [
    "dfsub = df.query('(nu_pdg == 12 or nu_pdg == -12) and isVtxInFiducial == 1')"
   ]
  },
  {
   "cell_type": "code",
   "execution_count": 34,
   "metadata": {},
   "outputs": [
    {
     "data": {
      "image/png": "[encoded data removed]",
      "text/plain": [
       "<Figure size 432x432 with 1 Axes>"
      ]
     },
     "metadata": {
      "needs_background": "light"
     },
     "output_type": "display_data"
    }
   ],
   "source": [
    "df1eNp0pi = dfsub.query('nproton > 0 and npion == 0')\n",
    "df1e0p0pi = dfsub.query('nproton == 0 and npion == 0')\n",
    "df1eXpNpi = dfsub.query('npion > 0')\n",
    "\n",
    "fig = plt.figure(figsize=(6,6))\n",
    "BINS = np.linspace(0.,3.0,16)\n",
    "SAMPLE = r'$\\nu_{\\mu}$'\n",
    "\n",
    "POTTOT = 7.75e22 # This number should be the POT of the MC Sample\n",
    "\n",
    "vals = dfsub['nu_e']\n",
    "vals1eNp0pi = df1eNp0pi['nu_e']\n",
    "vals1e0p0pi = df1e0p0pi['nu_e']\n",
    "vals1eXpNpi = df1eXpNpi['nu_e']\n",
    "\n",
    "weights = dfsub['weightSplineTimesTune'] * (6.86e20 / POTTOT)\n",
    "weights1eNp0pi = df1eNp0pi['weightSplineTimesTune'] * (6.86e20 / POTTOT)\n",
    "weights1e0p0pi = df1e0p0pi['weightSplineTimesTune'] * (6.86e20 / POTTOT)\n",
    "weights1eXpNpi = df1eXpNpi['weightSplineTimesTune'] * (6.86e20 / POTTOT)\n",
    "weightsLEE = weights * dfsub['leeweight']\n",
    "\n",
    "plt.hist([vals1e0p0pi,vals1eNp0pi,vals1eXpNpi],bins=BINS,\\\n",
    "         weights=[weights1e0p0pi,weights1eNp0pi,weights1eXpNpi],\\\n",
    "         label=['1$e$0$p$0$\\pi$','1$e$N$p$0$\\pi$','1$e$X$p$N$\\pi$'],\n",
    "         color=['xkcd:mint green','xkcd:green','xkcd:lime green'],stacked=True)\n",
    "\n",
    "lee_tot = np.concatenate([vals,vals])\n",
    "lee_weights_tot = np.concatenate([weights,weightsLEE])\n",
    "\n",
    "plt.xlabel(r'True Energy [GeV]')\n",
    "plt.ylabel('events / 6.86e20 POT / 0.2 GeV',fontsize=18)\n",
    "plt.legend(loc=1)\n",
    "plt.xlim([0,3.0])\n",
    "plt.ylim(0., plt.gca().get_ylim()[1]*1.25)\n",
    "plt.title(r'predicted $\\nu_e$ event rate in MicroBooNE',fontsize=16)\n",
    "plt.tight_layout()\n",
    "plt.show()"
   ]
  },
  {
   "cell_type": "markdown",
   "metadata": {},
   "source": [
    "# Energy Resolution"
   ]
  },
  {
   "cell_type": "code",
   "execution_count": 52,
   "metadata": {},
   "outputs": [
    {
     "data": {
      "image/png": "[encoded data removed]",
      "text/plain": [
       "<Figure size 576x432 with 1 Axes>"
      ]
     },
     "metadata": {
      "needs_background": "light"
     },
     "output_type": "display_data"
    }
   ],
   "source": [
    "fig = plt.figure(figsize=(8,6))\n",
    "START = 0.0\n",
    "B = np.linspace(-1,1,100)\n",
    "XBINS = np.linspace(B[0],B[-1],100)\n",
    "\n",
    "# Apply 1eNp BDT selection\n",
    "dfsub = df.query(QUERYNPBDT + ' and nproton > 0 and npion == 0')\n",
    "\n",
    "dfsub_QE = dfsub.query('interaction == 0')\n",
    "dfsub_MEC = dfsub.query('interaction == 10')\n",
    "dfsub_OTR = dfsub.query('interaction != 0 and interaction != 10')\n",
    "\n",
    "#RECOVAR = 'neutrino_energy'\n",
    "RECOVAR = 'reco_e'\n",
    "#TRUEVAR = 'true_e_visible'\n",
    "TRUEVAR = 'nu_e'\n",
    "MASS = 0.00\n",
    "\n",
    "PART = '$\\\\nu_{e}$'\n",
    "\n",
    "var_ALL_v = (dfsub[RECOVAR] - (dfsub[TRUEVAR] + MASS)) / (dfsub[TRUEVAR] + MASS)\n",
    "var_QE_v = (dfsub_QE[RECOVAR] - (dfsub_QE[TRUEVAR] + MASS) ) / (dfsub_QE[TRUEVAR] + MASS)\n",
    "var_MEC_v = (dfsub_MEC[RECOVAR] - (dfsub_MEC[TRUEVAR] + MASS) ) / (dfsub_MEC[TRUEVAR] + MASS)\n",
    "var_OTR_v = (dfsub_OTR[RECOVAR] - (dfsub_OTR[TRUEVAR] + MASS) ) / (dfsub_OTR[TRUEVAR] + MASS)\n",
    "\n",
    "quantile_med = np.quantile(var_ALL_v,0.5)\n",
    "quantile_up  = np.quantile(var_ALL_v,0.5+0.34)\n",
    "quantile_dn  = np.quantile(var_ALL_v,0.5-0.34)\n",
    "quantile_ALL_res = (quantile_up-quantile_dn)/2.\n",
    "\n",
    "quantile_med = np.quantile(var_QE_v,0.5)\n",
    "quantile_up  = np.quantile(var_QE_v,0.5+0.34)\n",
    "quantile_dn  = np.quantile(var_QE_v,0.5-0.34)\n",
    "quantile_QE_res = (quantile_up-quantile_dn)/2.\n",
    "\n",
    "# ALL\n",
    "vals,binedges,s = plt.hist(var_ALL_v ,bins=B,histtype='stepfilled',lw=2,alpha=0.5,\\\n",
    "                           label=r'%s [68%% width: %.01f%%]'%(PART,100.*quantile_ALL_res),color='k')\n",
    "bincenters = 0.5*(binedges[1:]+binedges[:-1])\n",
    "popt, pcov = scipy.optimize.curve_fit(gauss_exp, bincenters, vals, maxfev=10000,\\\n",
    "                                      p0=[np.max(vals),0.0,0.2,0.1],\n",
    "                                     bounds=([0,0,0,0],[1e4,0.1,0.2,1.0]))\n",
    "plt.plot(XBINS,gauss_exp(XBINS,*popt),'--',color='k',lw=2,\\\n",
    "         label='$\\mu$ = %.01f%%, $\\sigma$ = %.01f%%'%(100.*popt[1],100.*popt[2]))\n",
    "\n",
    "plt.title(r'$\\nu_{e}$ energy resolution - 1eNp signal events',fontsize=16)\n",
    "\n",
    "plt.xlabel(r'[Reco - True] / True $\\nu$ Energy',fontsize=16)\n",
    "plt.grid()\n",
    "#plt.ylim([0,1.2])\n",
    "plt.xlim([-1,1])\n",
    "plt.gca().set_yticklabels([])\n",
    "plt.legend(loc=2,fontsize=14,framealpha=0.5)\n",
    "plt.ylim(0, plt.gca().get_ylim()[1]*1.5)\n",
    "#plt.yscale('log')\n",
    "#plt.title(r'v08_00_00_26 Run1 Samples')\n",
    "#plt.legend(loc=7,fontsize=14)\n",
    "plt.show()"
   ]
  },
  {
   "cell_type": "markdown",
   "metadata": {},
   "source": [
    "# Efficiency"
   ]
  },
  {
   "cell_type": "code",
   "execution_count": 59,
   "metadata": {
    "scrolled": false
   },
   "outputs": [
    {
     "name": "stdout",
     "output_type": "stream",
     "text": [
      "query...\n",
      "acceptance...\n",
      "isVtxInFiducial == 1 and truthFiducial == 1 and ccnc>=0 and npi0==0 and npion==0\n"
     ]
    },
    {
     "data": {
      "image/png": "[encoded data removed]",
      "text/plain": [
       "<Figure size 576x432 with 1 Axes>"
      ]
     },
     "metadata": {
      "needs_background": "light"
     },
     "output_type": "display_data"
    }
   ],
   "source": [
    "fig = plt.figure(figsize=(8,6))\n",
    "START = 0.\n",
    "B = np.linspace(0.15,1.55,1)\n",
    "VAR = 'nu_e' \n",
    "\n",
    "ACCEPTANCE = 'isVtxInFiducial == 1 and truthFiducial == 1 and ccnc>=0 and npi0==0 and npion==0'\n",
    "ACCEPTANCENP = ACCEPTANCE + ' and nproton > 0'\n",
    "\n",
    "num_v = []\n",
    "den_v = []\n",
    "\n",
    "centers,vals,errs,num_v,den_v = Eff(df,VAR,QUERYNPBDT,ACCEPTANCENP,B)\n",
    "plt.errorbar(centers-START,vals,yerr=errs,fmt='o-',label=r'1e0p BDT selection')\n",
    "\n",
    "print ('query...')\n",
    "print ('acceptance...')\n",
    "print (ACCEPTANCE)\n",
    "\n",
    "plt.xlabel(r'Neutrino Energy [GeV]',fontsize=16)\n",
    "plt.ylabel(r'Efficiency',fontsize=16)\n",
    "plt.title(r'Efficiency for contained 1eNp $\\nu_e$ interactions',fontsize=14)\n",
    "plt.grid()\n",
    "plt.ylim([0,0.5])\n",
    "plt.legend(loc=2,fontsize=18,framealpha=1.0)\n",
    "plt.show()"
   ]
  },
  {
   "cell_type": "code",
   "execution_count": null,
   "metadata": {},
   "outputs": [],
   "source": []
  }
 ],
 "metadata": {
  "accelerator": "GPU",
  "colab": {
   "name": "Plotter.ipynb",
   "provenance": [],
   "version": "0.3.2"
  },
  "kernelspec": {
   "display_name": "Python 3",
   "language": "python",
   "name": "python3"
  },
  "language_info": {
   "codemirror_mode": {
    "name": "ipython",
    "version": 3
   },
   "file_extension": ".py",
   "mimetype": "text/x-python",
   "name": "python",
   "nbconvert_exporter": "python",
   "pygments_lexer": "ipython3",
   "version": "3.7.9"
  }
 },
 "nbformat": 4,
 "nbformat_minor": 1
}
