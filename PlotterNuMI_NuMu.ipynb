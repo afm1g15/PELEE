{
 "cells": [
  {
   "cell_type": "code",
   "execution_count": 1,
   "metadata": {},
   "outputs": [],
   "source": [
    "%load_ext autoreload\n",
    "%autoreload 2"
   ]
  },
  {
   "cell_type": "code",
   "execution_count": 2,
   "metadata": {},
   "outputs": [
    {
     "name": "stdout",
     "output_type": "stream",
     "text": [
      "/Users/elenag/Desktop/PlotterLEE/\n"
     ]
    }
   ],
   "source": [
    "import sys\n",
    "import localSettings as ls\n",
    "import math\n",
    "print(ls.main_path)\n",
    "import load_data_run123"
   ]
  },
  {
   "cell_type": "code",
   "execution_count": 3,
   "metadata": {
    "colab": {
     "base_uri": "https://localhost:8080/",
     "height": 34
    },
    "colab_type": "code",
    "executionInfo": {
     "elapsed": 517,
     "status": "ok",
     "timestamp": 1560556807118,
     "user": {
      "displayName": "Stefano Roberto Soleti",
      "photoUrl": "https://lh4.googleusercontent.com/-hfLpspJu4Q0/AAAAAAAAAAI/AAAAAAAABmA/2kE4rtj8paU/s64/photo.jpg",
      "userId": "10372352518008961760"
     },
     "user_tz": 240
    },
    "id": "6qsD0G-yYJ9K",
    "outputId": "5d52a3ec-50be-44fc-da44-3c0593e98bc6"
   },
   "outputs": [],
   "source": [
    "main_path = ls.main_path\n",
    "sys.path.append(main_path)"
   ]
  },
  {
   "cell_type": "code",
   "execution_count": 4,
   "metadata": {},
   "outputs": [],
   "source": [
    "import NuMIGeoWeights\n",
    "import importlib\n",
    "importlib.reload(NuMIGeoWeights)\n",
    "numiBeamlineGeoWeights = NuMIGeoWeights.NuMIGeoWeights() # the default option is FHC, RHC needs different arguments"
   ]
  },
  {
   "cell_type": "code",
   "execution_count": 5,
   "metadata": {},
   "outputs": [
    {
     "name": "stdout",
     "output_type": "stream",
     "text": [
      "date and time: 05052021\n"
     ]
    }
   ],
   "source": [
    "from datetime import datetime\n",
    "now = datetime.now()\n",
    "date_time = now.strftime(\"%m%d%Y\")\n",
    "print(\"date and time:\",date_time)"
   ]
  },
  {
   "cell_type": "code",
   "execution_count": 6,
   "metadata": {},
   "outputs": [],
   "source": [
    "SHRCALIBFACTOR = 1.00"
   ]
  },
  {
   "cell_type": "code",
   "execution_count": 7,
   "metadata": {},
   "outputs": [],
   "source": [
    "# USING BDT?\n",
    "USEBDT = True"
   ]
  },
  {
   "cell_type": "code",
   "execution_count": 8,
   "metadata": {},
   "outputs": [],
   "source": [
    "# Doing Run3?\n",
    "ISRUN3 = False"
   ]
  },
  {
   "cell_type": "code",
   "execution_count": 9,
   "metadata": {},
   "outputs": [],
   "source": [
    "# scale to MCC8 CV?\n",
    "MCC8WEIGHTS = False"
   ]
  },
  {
   "cell_type": "code",
   "execution_count": 10,
   "metadata": {
    "colab": {},
    "colab_type": "code",
    "id": "xGqTJ5JgaDsx"
   },
   "outputs": [],
   "source": [
    "import plotter\n",
    "import importlib\n",
    "importlib.reload(plotter)\n",
    "import uproot\n",
    "import matplotlib.pylab as pylab\n",
    "import numpy as np\n",
    "import math\n",
    "from sklearn.model_selection import train_test_split\n",
    "import pickle\n",
    "import xgboost as xgb\n",
    "import nue_booster \n",
    "importlib.reload(nue_booster)\n",
    "import awkward\n",
    "\n",
    "params = {\n",
    "    'axes.labelsize': 'x-large',\n",
    "    'axes.titlesize': 'x-large',\n",
    "    'xtick.labelsize': 'x-large',\n",
    "    'ytick.labelsize': 'x-large'\n",
    "}\n",
    "pylab.rcParams.update(params)"
   ]
  },
  {
   "cell_type": "code",
   "execution_count": 11,
   "metadata": {},
   "outputs": [],
   "source": [
    "from scipy.spatial.transform import Rotation as R\n",
    "from numpy import arccos, array\n",
    "from numpy.linalg import norm\n",
    "\n",
    "# Note: returns angle in radians\n",
    "def theta(v, w): return arccos(v.dot(w)/(norm(v)*norm(w)))* 180 / 3.1415926\n",
    "\n",
    "def GetNuMIAngle( px,  py,  pz):\n",
    "    r = R.from_matrix([[0.92103853804025681562   , 0.022713504803924120662, 0.38880857519374290021  ],\n",
    "                       [4.6254001262154668408e-05, 0.99829162468141474651 , -0.058427989452906302359],\n",
    "                       [-0.38947144863934973769  , 0.053832413938664107345, 0.91946400794392302291  ]])  \n",
    "    r = r.inv()\n",
    "    beamCoords = r.apply([px,  py,  pz])\n",
    "    beamDir    = [0,0,1]\n",
    "    #print(theta(beamCoords,beamDir))\n",
    "    return theta(beamCoords,beamDir)\n",
    "\n",
    "def GetNuMIAnglePol( phiBNB,  thetaBNB):\n",
    "    px = math.sin(thetaBNB)*math.cos(phiBNB)\n",
    "    py = math.sin(thetaBNB)*math.sin(phiBNB)\n",
    "    pz = math.cos(thetaBNB)\n",
    "    return GetNuMIAngle( px,  py,  pz)\n",
    "\n"
   ]
  },
  {
   "cell_type": "code",
   "execution_count": 12,
   "metadata": {},
   "outputs": [
    {
     "data": {
      "text/plain": [
       "1.8690124908136228"
      ]
     },
     "execution_count": 12,
     "metadata": {},
     "output_type": "execute_result"
    }
   ],
   "source": [
    "def vectorFromNuMITarget(vtxX,  vtxY, vtxZ):\n",
    "    numiTarget      = np.array([-31387.58422, -3316.402543, -60100.2414])\n",
    "    nuInteraction   = np.array([vtxX,  vtxY, vtxZ])\n",
    "    directionVector = nuInteraction - numiTarget\n",
    "    return directionVector\n",
    "\n",
    "def angleFromNuMITarget(vtxX,  vtxY, vtxZ, thetaBNB, phiBNB):\n",
    "    v1 = vectorFromNuMITarget(vtxX,  vtxY, vtxZ)  \n",
    "    norm = np.linalg.norm(v1)\n",
    "    v1 = v1/norm\n",
    "    v2 = [np.cos(phiBNB)*np.sin(thetaBNB),np.sin(phiBNB)*np.sin(thetaBNB), np.cos(thetaBNB) ]\n",
    "    dot_product = np.dot(v1, v2)\n",
    "    angle = np.arccos(dot_product)\n",
    "    return angle #dot_product # angle*180/3.14159265\n",
    "\n",
    "\n",
    "angleFromNuMITarget(1,1,1,1.4,3.)"
   ]
  },
  {
   "cell_type": "code",
   "execution_count": 13,
   "metadata": {
    "colab": {},
    "colab_type": "code",
    "id": "iwoCIaigYJ9N"
   },
   "outputs": [
    {
     "name": "stdout",
     "output_type": "stream",
     "text": [
      "['evt', 'pi0_e', 'flash_pe', 'evnunhits', 'isVtxInFiducial', 'CosmicIP', 'reco_nu_vtx_z', 'npi0', 'backtracked_pdg', 'pi0truth_elec_etot', 'interaction', 'CosmicIPAll3D', 'CosmicDirAll3D', 'reco_nu_vtx_sce_z', 'slnunhits', 'true_e_visible', 'topological_score', 'theta', 'slnhits', 'run', 'nu_e', 'pion_e', '_opfilter_pe_beam', 'sub', 'slclustfrac', 'nproton', 'trk_llr_pid_score_v', 'reco_nu_vtx_sce_x', 'nslice', 'mc_pdg', 'muon_e', 'reco_nu_vtx_x', '_opfilter_pe_veto', 'slpdg', 'npion', 'reco_nu_vtx_sce_y', 'ccnc', 'category', 'nu_pdg', 'reco_nu_vtx_y']\n"
     ]
    },
    {
     "name": "stderr",
     "output_type": "stream",
     "text": [
      "/Users/elenag/miniconda3/envs/peleeNB/lib/python3.7/site-packages/awkward/array/jagged.py:1035: RuntimeWarning: overflow encountered in power\n",
      "  result = getattr(ufunc, method)(*inputs, **kwargs)\n"
     ]
    }
   ],
   "source": [
    "tree = \"NeutrinoSelectionFilter\"\n",
    "\n",
    "\n",
    "#new\n",
    "BNB  = 'fullDataSets/neutrinoselection_filt_run1_beamon_beamgood' +ls.APPEND\n",
    "EXT  = 'fullDataSets/neutrinoselection_filt_run1_beamoff'         +ls.APPEND\n",
    "NU   = 'fullDataSets/neutrinoselection_filt_run1_overlay'    +ls.APPEND #newTune\n",
    "DRT  = 'fullDataSets/prodgenie_numi_uboone_overlay_dirt_fhc_mcc9_run1_v28_all_snapshot'  +ls.APPEND\n",
    "\n",
    "\n",
    "mc   = uproot.open(ls.ntuple_path+NU +\".root\")[ls.fold][tree]\n",
    "data = uproot.open(ls.ntuple_path+BNB+\".root\")[ls.fold][tree]\n",
    "ext  = uproot.open(ls.ntuple_path+EXT+\".root\")[ls.fold][tree]\n",
    "dirt = uproot.open(ls.ntuple_path+DRT+\".root\")[ls.fold][tree]\n",
    "\n",
    "\n",
    "uproot_v = [mc,ext,data,dirt] \n",
    "\n",
    "\n",
    "variables = [\n",
    "        \"nu_pdg\", \"slpdg\", \"backtracked_pdg\", #\"trk_score_v\", \n",
    "        \"category\", \"ccnc\",\n",
    "        \"run\",\"sub\",\"evt\",\n",
    "        \"CosmicIP\",\"CosmicDirAll3D\",\"CosmicIPAll3D\",\n",
    "        \"flash_pe\",\n",
    "        \"trk_llr_pid_score_v\", # trk-PID score\n",
    "        \"_opfilter_pe_beam\", \"_opfilter_pe_veto\", # did the event pass the common optical filter (for MC only)\n",
    "        \"reco_nu_vtx_sce_x\",\"reco_nu_vtx_sce_y\",\"reco_nu_vtx_sce_z\",\n",
    "        \"nproton\", \"nu_e\", \n",
    "        \"nproton\", \"mc_pdg\", \"slnunhits\", \"slnhits\", \"true_e_visible\",\n",
    "        \"npi0\",\"npion\",\"pion_e\",\"muon_e\",\"pi0truth_elec_etot\",\n",
    "        \"pi0_e\", \"evnunhits\", \"nslice\", \"interaction\",\n",
    "        \"slclustfrac\", \"reco_nu_vtx_x\", \"reco_nu_vtx_y\", \"reco_nu_vtx_z\",\n",
    "        #\"trk_sce_start_x_v\",\"trk_sce_start_y_v\",\"trk_sce_start_z_v\",\n",
    "        #\"trk_sce_end_x_v\",\"trk_sce_end_y_v\",\"trk_sce_end_z_v\",\n",
    "        #\"trk_start_x_v\",\"trk_start_z_v\",\"trk_start_z_v\",\n",
    "        \"topological_score\",\n",
    "        \"isVtxInFiducial\",\n",
    "        \"theta\", # angle between incoming and outgoing leptons in radians\n",
    "    ]\n",
    "\n",
    "varMC = [\"nu_e\",\"true_pt\",\"true_pt_visible\",\"true_p\",\"true_p_visible\",\"true_nu_vtx_t\",\"true_nu_vtx_x\",\"true_nu_vtx_y\",\"true_nu_vtx_z\",\"true_nu_vtx_sce_x\",\"true_nu_vtx_sce_y\",\"true_nu_vtx_sce_z\\\n",
    "\",\"true_nu_px\",\"true_nu_py\",\"true_nu_pz\"]\n",
    "\n",
    "#make the list unique\n",
    "variables = list(set(variables))\n",
    "print(variables)\n",
    "\n",
    "\n",
    "    \n",
    "WEIGHTS     = [\"weightSpline\",\"weightTune\",\"weightSplineTimesTune\",\"ppfx_cv\"]\n",
    "SYSTEMATICS = ['weightsFlux','weightsGenie','weightsReint'] \n",
    "PPFX        = ['weightsPPFX'] \n",
    "\n",
    "\n",
    "\n",
    "WEIGHTSLEE = [\"weightSpline\",\"weightTune\",\"weightSplineTimesTune\", \"leeweight\"]#, \"weightsGenie\", \"weightsFlux\", \"weightsReint\"]\n",
    "MCFVARS    = [\"mcf_nu_e\",\"mcf_lep_e\",\"mcf_actvol\",\"mcf_nmm\",\"mcf_nmp\",\"mcf_nem\",\"mcf_nep\",\"mcf_np0\",\"mcf_npp\",\n",
    "              \"mcf_npm\",\"mcf_mcshr_elec_etot\",\"mcf_pass_ccpi0\",\"mcf_pass_ncpi0\",\n",
    "              \"mcf_pass_ccnopi\",\"mcf_pass_ncnopi\",\"mcf_pass_cccpi\",\"mcf_pass_nccpi\"]\n",
    "\n",
    "\n",
    "import pandas as pandas    \n",
    "#dirt = dirt.pandas.df(variables + varMC + WEIGHTS + SYSTEMATICS, flatten=False)\n",
    "#mc   =   mc.pandas.df(variables + WEIGHTS + MCFVARS + SYSTEMATICS + PPFX+varMC, flatten=False)\n",
    "#data = data.pandas.df(variables, flatten=False)\n",
    "#ext  =  ext.pandas.df(variables, flatten=False)\n",
    "\n",
    "dirt_var = variables + varMC + WEIGHTS + SYSTEMATICS\n",
    "mc_var   = variables + WEIGHTS + MCFVARS + SYSTEMATICS + PPFX+varMC\n",
    "data_var = variables\n",
    "ext_var  = variables\n",
    "\n",
    "\n",
    "# This needs modifications (add variables from above)\n",
    "uproot_v = [mc,ext,data,dirt] \n",
    "var_v    = [mc_var,ext_var,data_var,dirt_var] \n",
    "\n",
    "for ii, CV in enumerate(uproot_v):\n",
    "    CVDF  = CV.pandas.df(var_v[ii], flatten=False)\n",
    "    load_data_run123.process_uproot_numu(CV,CVDF)\n",
    "    if ii == 0:\n",
    "        mc = CVDF\n",
    "    elif ii == 1:\n",
    "        ext = CVDF\n",
    "    elif ii == 2:\n",
    "        data = CVDF\n",
    "    else:\n",
    "        dirt =  CVDF"
   ]
  },
  {
   "cell_type": "markdown",
   "metadata": {},
   "source": [
    "# Weights"
   ]
  },
  {
   "cell_type": "code",
   "execution_count": 14,
   "metadata": {},
   "outputs": [],
   "source": [
    "df_v = [mc,dirt]\n",
    "#removeGenieTune = False\n",
    "for i,df in enumerate(df_v):\n",
    "    df[ 'currentweightsafe' ] = df['weightSplineTimesTune']\n",
    "    df[ 'currentweight' ] = df['weightSplineTimesTune']"
   ]
  },
  {
   "cell_type": "code",
   "execution_count": 15,
   "metadata": {},
   "outputs": [],
   "source": [
    "df_v = [mc,dirt]\n",
    "#removeGenieTune = False\n",
    "for i,df in enumerate(df_v):\n",
    "    df.loc[ df['weightTune'] <= 0, 'weightTune' ] = 1.\n",
    "    df.loc[ df['weightTune'] == np.inf, 'weightTune' ] = 1.\n",
    "    df.loc[ df['weightTune'] > 100, 'weightTune' ] = 1.\n",
    "    df.loc[ np.isnan(df['weightTune']) == True, 'weightTune' ] = 1.    \n",
    "    \n",
    "    df.loc[ df['weightSplineTimesTune'] <= 0, 'weightSplineTimesTune' ] = 1.\n",
    "    df.loc[ df['weightSplineTimesTune'] == np.inf, 'weightSplineTimesTune' ] = 1.\n",
    "    df.loc[ df['weightSplineTimesTune'] > 100, 'weightSplineTimesTune' ] = 1.\n",
    "    df.loc[ np.isnan(df['weightSplineTimesTune']) == True, 'weightSplineTimesTune' ] = 1. \n",
    "    df[ 'weightSplineTimesTuneTimesPPFX' ] = df[ 'weightSplineTimesTune' ]*df['ppfx_cv']\n",
    "    \n",
    "    df.loc[ df['weightSpline'] <= 0, 'weightSpline' ] = 1.\n",
    "    df.loc[ df['weightSpline'] == np.inf, 'weightSpline' ] = 1.\n",
    "    df.loc[ df['weightSpline'] > 100, 'weightSpline' ] = 1.\n",
    "    df.loc[ np.isnan(df['weightSpline']) == True, 'weightSpline' ] = 1. \n",
    "    df[ 'weightSplineTimesPPFX' ]  = df[ 'weightSpline' ]*df['ppfx_cv']\n",
    "    '''\n",
    "    # Cray cray weight fix\n",
    "    for ievt in range(df.shape[0]):\n",
    "        reweightCondition = ((df['weightsGenie'].iloc[ievt] > 3000) | (df['weightsGenie'].iloc[ievt] < 0)  | \n",
    "                             (df['weightsGenie'].iloc[ievt] == np.inf))\n",
    "        df['weightsGenie'].iloc[ievt][ reweightCondition ] = 1.\n",
    "    '''\n"
   ]
  },
  {
   "cell_type": "code",
   "execution_count": 16,
   "metadata": {},
   "outputs": [],
   "source": [
    "df_v = [mc,dirt]\n",
    "#removeGenieTune = False\n",
    "for i,df in enumerate(df_v):\n",
    "    df[ 'currentweight' ] = df['weightSplineTimesTuneTimesPPFX']\n",
    "    df[ 'currentweightsafe' ] = df['weightSplineTimesTuneTimesPPFX']\n",
    "    df[ 'currentweightsafe2' ] = df['weightSplineTimesTuneTimesPPFX']\n",
    "    df[ 'currentweight2' ] = df['weightSplineTimesTuneTimesPPFX']\n"
   ]
  },
  {
   "cell_type": "code",
   "execution_count": 17,
   "metadata": {},
   "outputs": [],
   "source": [
    "df_v = [mc]\n",
    "scaleFlat = 0\n",
    "#removeGenieTune = False\n",
    "for i,df in enumerate(df_v):\n",
    "    if scaleFlat == 1:\n",
    "        df['weightSplineTimesTuneTimesPPFX'] = df[ 'currentweight' ] \n",
    "        df.loc[ df['npi0'] > 0, 'weightSplineTimesTuneTimesPPFX' ] =  (df['weightSplineTimesTuneTimesPPFX'] * 0.759)\n",
    "    elif scaleFlat == 2:\n",
    "        df['weightSplineTimesTune'] = df[ 'currentweight' ] \n",
    "        pi0emax = 0.6\n",
    "        df.loc[ (df['pi0_e'] > 0.1) & (df['pi0_e'] < pi0emax) , 'weightSplineTimesTuneTimesPPFX'] = df['weightSplineTimesTuneTimesPPFX']*(1.-0.4*df['pi0_e'])\n",
    "        df.loc[ (df['pi0_e'] > 0.1) & (df['pi0_e'] >= pi0emax), 'weightSplineTimesTuneTimesPPFX'] = df['weightSplineTimesTuneTimesPPFX']*(1.-0.4*pi0emax)\n",
    "    elif scaleFlat == 0:\n",
    "        df['weightSplineTimesTuneTimesPPFX'] = df[ 'currentweight' ] \n",
    "    \n",
    "    # Cray cray weight fix\n",
    "    #for ievt in range(df.shape[0]):\n",
    "    #    reweightCondition = ((df['weightsGenie'].iloc[ievt] > 3000) | (df['weightsGenie'].iloc[ievt] < 0)  | \n",
    "    #                         (df['weightsGenie'].iloc[ievt] == np.inf))\n",
    "    #    df['weightsGenie'].iloc[ievt][ reweightCondition ] = 1.\n",
    "\n"
   ]
  },
  {
   "cell_type": "code",
   "execution_count": 18,
   "metadata": {},
   "outputs": [],
   "source": [
    "df_v = [mc,dirt,data,ext]\n",
    "#removeGenieTune = False\n",
    "for i,df in enumerate(df_v):\n",
    "    df[ 'noW' ] = 1"
   ]
  },
  {
   "cell_type": "markdown",
   "metadata": {},
   "source": [
    "# Adding variables"
   ]
  },
  {
   "cell_type": "code",
   "execution_count": 19,
   "metadata": {},
   "outputs": [],
   "source": [
    "df_v = [mc,dirt,data,ext]\n",
    "for i,df in enumerate(df_v):\n",
    "    df['muon_Angle_Numi_Theta']   = df.apply( lambda x: angleFromNuMITarget(x['reco_nu_vtx_sce_x'],x['reco_nu_vtx_sce_y'],x['reco_nu_vtx_sce_z'], x['muon_theta'],x['muon_phi']) , axis=1)\n",
    "    df['cosMu_Angle_Numi_target'] = np.cos(df['muon_Angle_Numi_Theta'])\n",
    "    df['Q2reco']  = 2 * df['neutrino_energy'] * ( df['muon_energy'] - df['muon_momentum'] *df['cosMu_Angle_Numi_target'] ) - 0.105**2\n",
    "    df[\"bnbdata\"] = np.zeros_like(df[\"isVtxInFiducial\"])\n",
    "    df[\"extdata\"] = np.zeros_like(df[\"isVtxInFiducial\"])\n",
    "\n",
    "data[\"bnbdata\"] = np.ones_like(data[\"isVtxInFiducial\"])\n",
    "ext[\"extdata\"] = np.ones_like(ext[\"isVtxInFiducial\"])"
   ]
  },
  {
   "cell_type": "code",
   "execution_count": null,
   "metadata": {},
   "outputs": [],
   "source": [
    "def energyToPxyz(energy, theta, phi, mask, mass = 0.93827208816):\n",
    "    if all(~mask):\n",
    "        return (0.,0.,0.)\n",
    "    energy = energy.copy()[mask]\n",
    "    theta  = theta.copy()[mask]\n",
    "    phi    = phi.copy()[mask]\n",
    "    \n",
    "    p  = np.sqrt((energy+mass)*(energy+mass) - mass*mass)\n",
    "    pz = p*np.cos(theta)\n",
    "    px = p*np.sin(theta)*np.cos(phi)\n",
    "    py = p*np.sin(theta)*np.sin(phi)\n",
    "    return( px.sum(), py.sum(), pz.sum())\n",
    "\n",
    "\n",
    "\n",
    "for i,df in enumerate(df_v):\n",
    "    up = uproot_v[i]\n",
    "    trk_theta_proton_v  = up.array('trk_theta_v')\n",
    "    trk_phi_proton_v    = up.array('trk_phi_v')\n",
    "    trk_energy_proton_v = up.array('trk_energy_proton_v')\n",
    "    ############ muon part\n",
    "    mu_px_v            = up.array('shr_px')\n",
    "    mu_py_v            = up.array('shr_py')\n",
    "    mu_pz_v            = up.array('shr_pz')\n",
    "    pt_v                = up.array('pt')\n",
    "    trk_score_v         = up.array('trk_score_v')    \n",
    "    trk_llr_pid_v       = up.array('trk_llr_pid_score_v')\n",
    "    \n",
    "    \n",
    "    #shr_mask = (trk_score_v<0.5)\n",
    "    trk_mask      = (trk_score_v>0.5)\n",
    "    proton_mask_v = (trk_score_v>0.5)&(trk_llr_pid_v < 0.)\n",
    "    sillyCount = 0\n",
    "    listPx,listPy,listPz = [],[],[]\n",
    "    \n",
    "    for mask, theta_t, phi_t, energy_t,proton_mask_v_t,sx,sy,sz,pttt  in zip(proton_mask_v, trk_theta_proton_v,trk_phi_proton_v, trk_energy_proton_v,proton_mask_v, mu_px_v,mu_py_v,mu_pz_v,pt_v):\n",
    "        tempMom = energyToPxyz(energy_t,theta_t,phi_t,proton_mask_v_t) \n",
    "        nu_reco_px = tempMom[0] + sx \n",
    "        nu_reco_py = tempMom[1] + sy  \n",
    "        nu_reco_pz = tempMom[2] + sz  \n",
    "        listPx.append(nu_reco_px)\n",
    "        listPy.append(nu_reco_py)\n",
    "        listPz.append(nu_reco_pz)\n",
    "    '''    \n",
    "    print(len(listPx), df.shape)\n",
    "    df['shr_p']       = np.sqrt(df['shr_px']*df['shr_px'] + df['shr_py']*df['shr_py'] + df['shr_pz']*df['shr_pz'])\n",
    "    ##########################################\n",
    "    df['dir_mu_px']  = df['shr_px']/df['shr_p']\n",
    "    df['dir_mu_py']  = df['shr_py']/df['shr_p']\n",
    "    df['dir_mu_pz']  = df['shr_pz']/df['shr_p']\n",
    "    \n",
    "    df['nu_reco_px']  = listPx\n",
    "    df['nu_reco_py']  = listPy\n",
    "    df['nu_reco_pz']  = listPz\n",
    "    df['BNBP']     = np.sqrt(df['nu_reco_px']*df['nu_reco_px'] + df['nu_reco_py']*df['nu_reco_py'] + df['nu_reco_pz']*df['nu_reco_pz'])\n",
    "    df['BNBPt']    = np.sqrt(df['nu_reco_px']*df['nu_reco_px'] + df['nu_reco_py']*df['nu_reco_py'])\n",
    "    df['BNBTheta'] = np.arccos(df['nu_reco_pz']/df['BNBP'] )\n",
    "    df['BNBPhi']   = np.arctan2(df['nu_reco_py'],df['nu_reco_px'])\n",
    "    df['nu_Angle_Numi_Theta'] = df.apply( lambda x: angleFromNuMITarget(x['reco_nu_vtx_sce_x'],x['reco_nu_vtx_sce_y'],x['reco_nu_vtx_sce_z'], x['BNBTheta'],x['BNBPhi']) , axis=1)\n",
    "    df['cosNu_Angle_Numi_Theta'] = np.cos(df['nu_Angle_Numi_Theta'])\n",
    "    df['NuMIPt'] = df['BNBP'] * (np.sin(df['nu_Angle_Numi_Theta']))\n",
    "    df['checkPt']  = df['BNBPt'] - df['pt']\n",
    "    '''   "
   ]
  },
  {
   "cell_type": "code",
   "execution_count": null,
   "metadata": {},
   "outputs": [],
   "source": [
    "    \n"
   ]
  },
  {
   "cell_type": "markdown",
   "metadata": {},
   "source": [
    "# Event Categories"
   ]
  },
  {
   "cell_type": "code",
   "execution_count": 20,
   "metadata": {},
   "outputs": [],
   "source": [
    "data[\"is_signal\"] = data[\"category\"] == 11\n",
    "mc[\"is_signal\"]   = mc[\"category\"] == 11\n",
    "dirt[\"is_signal\"] = dirt[\"category\"] == 11\n",
    "ext[\"is_signal\"]  = ext[\"category\"] == 11"
   ]
  },
  {
   "cell_type": "markdown",
   "metadata": {},
   "source": [
    "# Selection"
   ]
  },
  {
   "cell_type": "code",
   "execution_count": 21,
   "metadata": {},
   "outputs": [],
   "source": [
    "# numu selection                                                                                                                                                                                                              \n",
    "NUMUPRESEL = 'nslice == 1'\n",
    "NUMUPRESEL += ' and ( (_opfilter_pe_beam > 0 and _opfilter_pe_veto < 20) or bnbdata == 1 or extdata == 1)'\n",
    "NUMUPRESEL += ' and reco_nu_vtx_sce_x > 5 and reco_nu_vtx_sce_x < 251. '\n",
    "NUMUPRESEL += ' and reco_nu_vtx_sce_y > -110 and reco_nu_vtx_sce_y < 110. '\n",
    "NUMUPRESEL += ' and reco_nu_vtx_sce_z > 20 and reco_nu_vtx_sce_z < 986. '\n",
    "\n",
    "NUMUPRESEL2 = NUMUPRESEL + ' and topological_score > 0.06 '\n",
    "\n",
    "NUMUSEL = NUMUPRESEL2 + ' and n_muons_tot > 0'\n"
   ]
  },
  {
   "cell_type": "code",
   "execution_count": 22,
   "metadata": {},
   "outputs": [],
   "source": [
    "# numu selection                                                                                                                                                                                                              \n",
    "DIRTSEL = 'nslice == 1'\n",
    "DIRTSEL += ' and ( (_opfilter_pe_beam > 0 and _opfilter_pe_veto < 20) or bnbdata == 1 or extdata == 1)'\n",
    "DIRTSEL += ' and (reco_nu_vtx_sce_x < 10 ) '\n",
    "#DIRTSEL += ' and (reco_nu_vtx_sce_y < -110 or reco_nu_vtx_sce_y > 110.) '\n",
    "#DIRTSEL += ' and (reco_nu_vtx_sce_z < 20 or reco_nu_vtx_sce_z > 986.) '\n",
    "\n",
    "#DIRTSEL = NUMUPRESEL + ' and topological_score < 0.06 '\n",
    "\n"
   ]
  },
  {
   "cell_type": "markdown",
   "metadata": {},
   "source": [
    "# Plotting part"
   ]
  },
  {
   "cell_type": "code",
   "execution_count": 23,
   "metadata": {},
   "outputs": [
    {
     "data": {
      "text/plain": [
       "<module 'plotter' from '/Users/elenag/Desktop/PlotterLEE/PELEE4/plotter.py'>"
      ]
     },
     "execution_count": 23,
     "metadata": {},
     "output_type": "execute_result"
    }
   ],
   "source": [
    "import plotter\n",
    "import importlib\n",
    "importlib.reload(plotter)"
   ]
  },
  {
   "cell_type": "code",
   "execution_count": 24,
   "metadata": {},
   "outputs": [],
   "source": [
    "# muon selection\n",
    "QUERY = NUMUPRESEL #NUMUSEL #'nslice == 1'\n"
   ]
  },
  {
   "cell_type": "code",
   "execution_count": null,
   "metadata": {},
   "outputs": [],
   "source": []
  },
  {
   "cell_type": "code",
   "execution_count": 25,
   "metadata": {},
   "outputs": [
    {
     "name": "stdout",
     "output_type": "stream",
     "text": [
      "{'mc': 0.08559738414394057, 'nue': 0.08559738414394057, 'ext': 0.5612087579382191}\n"
     ]
    },
    {
     "name": "stderr",
     "output_type": "stream",
     "text": [
      "/Users/elenag/Desktop/PlotterLEE/PELEE4/plotter.py:240: UserWarning: Missing dirt sample\n",
      "  warnings.warn(\"Missing dirt sample\")\n"
     ]
    }
   ],
   "source": [
    "import plotter\n",
    "import importlib\n",
    "importlib.reload(plotter)\n",
    "\n",
    "nue = mc.query(\"(abs(nu_pdg) == 12 & ccnc == 0)\") \n",
    "samples = {\n",
    "    \"mc\"  : mc,\n",
    "    \"nue\" : nue,\n",
    "    \"data\": data,\n",
    "    #\"dirt\": dirt,\n",
    "    \"ext\" : ext\n",
    "}\n",
    "\n",
    "scaling   = 1\n",
    "pot       =  2e+20             \n",
    "mcratio   = pot/2.33652e+21\n",
    "nueratio  = pot/2.37838e+22    \n",
    "dirtratio = pot/1.42143e+21\n",
    "extratio  = 5268051.0/9199232.74\n",
    "\n",
    "SPLIT = 1.0\n",
    "scaling = 1\n",
    "scalingEXT = 0.98\n",
    "scalingDRT = 0.60 #0.35\n",
    "\n",
    "weights = { \"mc\"  : mcratio  * SPLIT * scaling,\n",
    "            \"nue\"  : mcratio  * SPLIT * scaling,\n",
    "            \"ext\" : extratio * SPLIT * scalingEXT,    \n",
    "            #\"dirt\": dirtratio* SPLIT * scalingDRT,   \n",
    "}\n",
    "\n",
    "my_plotter = plotter.Plotter(samples, weights, pot=pot)\n",
    "print(weights)"
   ]
  },
  {
   "cell_type": "code",
   "execution_count": 26,
   "metadata": {},
   "outputs": [
    {
     "name": "stdout",
     "output_type": "stream",
     "text": [
      "nslice == 1 and ( (_opfilter_pe_beam > 0 and _opfilter_pe_veto < 20) or bnbdata == 1 or extdata == 1) and reco_nu_vtx_sce_x > 5 and reco_nu_vtx_sce_x < 251.  and reco_nu_vtx_sce_y > -110 and reco_nu_vtx_sce_y < 110.  and reco_nu_vtx_sce_z > 20 and reco_nu_vtx_sce_z < 986.  and topological_score > 0.06  and n_muons_tot > 0 and n_protons_tot > 0& neutrino_energy <= 4 & neutrino_energy >= 0 \n",
      " ~(abs(nu_pdg) == 12 & ccnc == 0) \n",
      " None \n",
      " False\n"
     ]
    },
    {
     "name": "stderr",
     "output_type": "stream",
     "text": [
      "/Users/elenag/Desktop/PlotterLEE/PELEE4/plotter.py:458: RuntimeWarning: divide by zero encountered in true_divide\n",
      "  ERR_STAT = 3. / ( 1./data + 2./mc )\n"
     ]
    },
    {
     "data": {
      "image/png": "[encoded data removed]",
      "text/plain": [
       "<Figure size 576x504 with 2 Axes>"
      ]
     },
     "metadata": {
      "needs_background": "light"
     },
     "output_type": "display_data"
    }
   ],
   "source": [
    "# numu selection                                                                                                                                                                                                              \n",
    "DIRTSEL = 'nslice == 1'\n",
    "DIRTSEL += ' and ( (_opfilter_pe_beam > 0 and _opfilter_pe_veto < 20) or bnbdata == 1 or extdata == 1)'\n",
    "DIRTSEL += ' and (reco_nu_vtx_sce_x < 3 ) '\n",
    "#DIRTSEL += ' and (reco_nu_vtx_sce_y < -110 ) ' #or reco_nu_vtx_sce_y > 110.\n",
    "#DIRTSEL += ' and (reco_nu_vtx_sce_z < 2 or reco_nu_vtx_sce_z > 1030.) '\n",
    "\n",
    "#DIRTSEL = NUMUPRESEL + ' and topological_score < 0.06 '\n",
    "\n",
    "\n",
    "QUERY = NUMUSEL + \" and n_protons_tot > 0\"\n",
    "\n",
    "import matplotlib.pyplot as plt\n",
    "import matplotlib\n",
    "\n",
    "systematicsBool = False\n",
    "\n",
    "\n",
    "VARIABLE, BINS, RANGE, XTIT = 'reco_nu_vtx_sce_y',100,(100,120),\"vtx y [cm]\"\n",
    "VARIABLE, BINS, RANGE, XTIT = 'reco_nu_vtx_sce_z',100,(1030,1050),\"vtx z [cm]\" \n",
    "VARIABLE, BINS, RANGE, XTIT = 'reco_nu_vtx_sce_x',100,(250,270),\"vtx x [cm]\" \n",
    "\n",
    "VARIABLE, BINS, RANGE, XTIT = 'reco_nu_vtx_sce_z',100,(-10,2),\"vtx z [cm]\"\n",
    "VARIABLE, BINS, RANGE, XTIT = 'reco_nu_vtx_sce_y',100,(-120,-100),\"vtx y [cm]\"\n",
    "VARIABLE, BINS, RANGE, XTIT = 'reco_nu_vtx_sce_x',100,(0,5),\"vtx x [cm]\" \n",
    "\n",
    "VARIABLE, BINS, RANGE, XTIT = 'n_tracks_tot',1,(0,10),\"N track \"\n",
    "#VARIABLE, BINS, RANGE, XTIT = 'nu_e',20,(0., 4.0),\"True Energy [GeV]\"\n",
    "#VARIABLE, BINS, RANGE, XTIT = 'nslice',2,(0,2),\"nslice [GeV]\"\n",
    "\n",
    "VARIABLE, BINS, RANGE, XTIT ='cosMu_Angle_Numi_target', 10, (-1.,1.), r\"muon_Angle_Numi_Theta [GeV]\"\n",
    "VARIABLE, BINS, RANGE, XTIT ='Q2reco', 28, (-0.5,2.), r\"Q2reco [GeV]\"\n",
    "VARIABLE, BINS, RANGE, XTIT = 'neutrino_energy',20,(0., 4.0),\"Reconstructed Energy [GeV]\"\n",
    "\n",
    "fig, ax1, ax2 = my_plotter.plot_variable(\n",
    "    VARIABLE,   \n",
    "    query= QUERY ,\n",
    "    #kind=\"interaction\",\n",
    "    kind=\"event_category\",\n",
    "    draw_sys  = False, \n",
    "    draw_geoSys = True, \n",
    "    draw_data = True,\n",
    "    genieweight = \"weightSplineTimesTuneTimesPPFX\",  \n",
    "    stacksort=3,\n",
    "    title=XTIT,\n",
    "    bins=BINS,\n",
    "    range=RANGE\n",
    ")[0:3]\n",
    "\n",
    "ax1.set_title('NuMI Run 1, NuMu 1eNp -- GENIE + PPFX Only',loc='left')\n",
    "ax1.set_title('NuMI Run 1, NuMu Sel -- Stat Only',loc='left')\n",
    "\n",
    "ax1.set_title('NuMI Run 1, FHC, AntiNuMu No Selection',loc='left')\n",
    "ax1.set_title('NuMI Run 1, FHC, NuMu No Selection',loc='left')\n",
    "ax2.set_ylim(0.95,1.05)\n",
    "\n",
    "fig.tight_layout()\n",
    "#fig.savefig(\"/Users/elenag/Desktop/PlotterLEE/plots/NearSideband/\"+VARIABLE+\"_minedge_dirt_run1.pdf\")"
   ]
  },
  {
   "cell_type": "code",
   "execution_count": null,
   "metadata": {
    "colab": {
     "base_uri": "https://localhost:8080/",
     "height": 561
    },
    "colab_type": "code",
    "executionInfo": {
     "elapsed": 2342,
     "status": "ok",
     "timestamp": 1560557343774,
     "user": {
      "displayName": "Stefano Roberto Soleti",
      "photoUrl": "https://lh4.googleusercontent.com/-hfLpspJu4Q0/AAAAAAAAAAI/AAAAAAAABmA/2kE4rtj8paU/s64/photo.jpg",
      "userId": "10372352518008961760"
     },
     "user_tz": 240
    },
    "id": "b93hN-pGYJ9T",
    "outputId": "17e7c7ed-3f12-4b03-805c-6698f1617878",
    "scrolled": false
   },
   "outputs": [],
   "source": [
    "QUERY = NUMUSEL + \" and n_protons_tot > 0\"\n",
    "import matplotlib.pyplot as plt\n",
    "import matplotlib\n",
    "\n",
    "systematicsBool = False\n",
    "\n",
    "VARIABLE, BINS, RANGE, XTIT = 'muon_momentum',20,(0,2),\"muon_momentum [GeV]\"\n",
    "VARIABLE, BINS, RANGE, XTIT = 'neutrino_energy',14,(0.15, 1.55),\"Reconstructed Energy [GeV]\"\n",
    "VARIABLE, BINS, RANGE, XTIT = 'n_tracks_contained',10,(0,10),\"N track contained \"\n",
    "#VARIABLE, BINS, RANGE, XTIT = 'neutrino_energy',14,(0.15, 1.55),\"Reconstructed Energy [GeV]\"\n",
    "VARIABLE, BINS, RANGE, XTIT = 'neutrino_energy',14,(0.0, 1.50),\"Reconstructed Energy [GeV]\"\n",
    "VARIABLE, BINS, RANGE, XTIT = 'n_tracks_contained',10,(0,10),\"N track contained \"\n",
    "VARIABLE, BINS, RANGE, XTIT = 'n_tracks_tot',10,(0,10),\"N track \"\n",
    "\n",
    "VARIABLE, BINS, RANGE, XTIT = 'muon_momentum',20,(0,2),\"muon_momentum [GeV]\"\n",
    "VARIABLE, BINS, RANGE, XTIT = 'muon_Angle_Numi_Theta',20,(-0.8,1),\"cos Beta\"\n",
    "VARIABLE, BINS, RANGE, XTIT = 'reco_nu_vtx_sce_x',26,(0,260),\"vtx x [cm]\" \n",
    "VARIABLE, BINS, RANGE, XTIT = 'reco_nu_vtx_sce_z',50,(0,1000),\"vtx z [cm]\" \n",
    "VARIABLE, BINS, RANGE, XTIT = 'reco_nu_vtx_sce_y',24,(-120,120),\"vtx y [cm]\" \n",
    "VARIABLE, BINS, RANGE, XTIT = 'topological_score',25,(0,1),\"topological score\"\n",
    "VARIABLE, BINS, RANGE, XTIT = 'neutrino_energy',14,(0.15, 1.55),\"Reconstructed Energy [GeV]\"\n",
    "VARIABLE, BINS, RANGE, XTIT = 'muon_momentum',20,(0,2),\"muon_momentum [GeV]\"\n",
    "\n",
    "QUERY =  NUMUSEL #NUMUPRESEL #'nslice == 1'\n",
    "fig, ax1, ax2 = my_plotter.plot_variable(\n",
    "    VARIABLE,   \n",
    "    query= QUERY ,\n",
    "    #kind=\"interaction\",\n",
    "    kind=\"event_category\",\n",
    "    draw_sys  = systematicsBool, \n",
    "    draw_geoSys = False, \n",
    "    draw_data = True,\n",
    "    genieweight = \"weightSplineTimesTuneTimesPPFX\",  \n",
    "    stacksort=3,\n",
    "    title=XTIT,\n",
    "    bins=BINS,\n",
    "    range=RANGE\n",
    ")[0:3]\n",
    "\n",
    "ax1.set_title('NuMI Run 1, NuMu 1eNp -- GENIE + PPFX Only',loc='left')\n",
    "ax1.set_title('NuMI Run 1, NuMu Sel -- Stat Only',loc='left')\n",
    "\n",
    "fig.tight_layout()\n",
    "#fig.savefig(\"/Users/elenag/Desktop/PlotterLEE/plots/NearSideband/\"+VARIABLE+\"_numu_run1.pdf\")"
   ]
  },
  {
   "cell_type": "code",
   "execution_count": null,
   "metadata": {},
   "outputs": [],
   "source": [
    "QUERY = NUMUSEL #+ \" and n_protons_tot > 0\"\n",
    "import matplotlib.pyplot as plt\n",
    "import matplotlib\n",
    "\n",
    "systematicsBool = False\n",
    "\n",
    "VARIABLE, BINS, RANGE, XTIT = 'muon_momentum',20,(0,2),\"muon_momentum [GeV]\"\n",
    "VARIABLE, BINS, RANGE, XTIT = 'neutrino_energy',14,(0.15, 1.55),\"Reconstructed Energy [GeV]\"\n",
    "VARIABLE, BINS, RANGE, XTIT = 'n_tracks_contained',10,(0,10),\"N track contained \"\n",
    "#VARIABLE, BINS, RANGE, XTIT = 'neutrino_energy',14,(0.15, 1.55),\"Reconstructed Energy [GeV]\"\n",
    "VARIABLE, BINS, RANGE, XTIT = 'neutrino_energy',14,(0.0, 1.50),\"Reconstructed Energy [GeV]\"\n",
    "VARIABLE, BINS, RANGE, XTIT = 'n_tracks_contained',10,(0,10),\"N track contained \"\n",
    "VARIABLE, BINS, RANGE, XTIT = 'n_tracks_tot',10,(0,10),\"N track \"\n",
    "\n",
    "VARIABLE, BINS, RANGE, XTIT = 'muon_momentum',20,(0,2),\"muon_momentum [GeV]\"\n",
    "\n",
    "VARIABLE, BINS, RANGE, XTIT = 'reco_nu_vtx_sce_x',26,(0,260),\"vtx x [cm]\" \n",
    "\n",
    "VARIABLE, BINS, RANGE, XTIT = 'reco_nu_vtx_sce_z',50,(0,1000),\"vtx z [cm]\" \n",
    "VARIABLE, BINS, RANGE, XTIT = 'reco_nu_vtx_sce_y',24,(-120,120),\"vtx y [cm]\" \n",
    "VARIABLE, BINS, RANGE, XTIT = 'topological_score',25,(0,1),\"topological score\"\n",
    "\n",
    "VARIABLE, BINS, RANGE, XTIT = 'neutrino_energy',14,(0.15, 1.55),\"Reconstructed Energy [GeV]\"\n",
    "VARIABLE, BINS, RANGE, XTIT = 'muon_momentum',20,(0,2),\"muon_momentum [GeV]\"\n",
    "VARIABLE, BINS, RANGE, XTIT = 'muon_Angle_Numi_Theta',20,(-0.8,1),\"cos Beta\"\n",
    "\n",
    "fig, ax1, ax2 = my_plotter.plot_variable(\n",
    "    VARIABLE,   \n",
    "    query= QUERY ,\n",
    "    #kind=\"interaction\",\n",
    "    kind=\"event_category\",\n",
    "    draw_sys  = systematicsBool, \n",
    "    draw_geoSys = False, \n",
    "    draw_data = True,\n",
    "    genieweight = \"weightSplineTimesTuneTimesPPFX\",  \n",
    "    stacksort=3,\n",
    "    title=XTIT,\n",
    "    bins=BINS,\n",
    "    range=RANGE\n",
    ")[0:3]\n",
    "\n",
    "ax1.set_title('NuMI Run 1, NuMu 1eNp -- Stat Only',loc='left')\n",
    "#ax1.set_title('NuMI Run 1, NuMu Sel -- Stat Only',loc='left')\n",
    "\n",
    "fig.tight_layout()\n",
    "fig.savefig(\"/Users/elenag/Desktop/PlotterLEE/plots/NearSideband/\"+VARIABLE+\"_numu_run1_NP.pdf\")"
   ]
  },
  {
   "cell_type": "code",
   "execution_count": null,
   "metadata": {},
   "outputs": [],
   "source": []
  }
 ],
 "metadata": {
  "accelerator": "GPU",
  "colab": {
   "name": "Plotter.ipynb",
   "provenance": [],
   "version": "0.3.2"
  },
  "kernelspec": {
   "display_name": "Python 3 (ipykernel)",
   "language": "python",
   "name": "python3"
  },
  "language_info": {
   "codemirror_mode": {
    "name": "ipython",
    "version": 3
   },
   "file_extension": ".py",
   "mimetype": "text/x-python",
   "name": "python",
   "nbconvert_exporter": "python",
   "pygments_lexer": "ipython3",
   "version": "3.8.12"
  }
 },
 "nbformat": 4,
 "nbformat_minor": 2
}
