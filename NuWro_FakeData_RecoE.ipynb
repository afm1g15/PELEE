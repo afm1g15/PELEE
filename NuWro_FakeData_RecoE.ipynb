{
 "cells": [
  {
   "cell_type": "code",
   "execution_count": 103,
   "id": "13875a64",
   "metadata": {},
   "outputs": [],
   "source": [
    "#######################"
   ]
  },
  {
   "cell_type": "code",
   "execution_count": 2,
   "id": "84d55dcc",
   "metadata": {},
   "outputs": [],
   "source": [
    "\n",
    "\n",
    "nuwro = True\n",
    "ISRUN3 = False\n",
    "\n",
    "\n",
    "isTruth = True\n"
   ]
  },
  {
   "cell_type": "code",
   "execution_count": 3,
   "id": "16234578",
   "metadata": {},
   "outputs": [
    {
     "name": "stdout",
     "output_type": "stream",
     "text": [
      "Welcome to JupyROOT 6.24/02\n"
     ]
    }
   ],
   "source": [
    "import sys\n",
    "\n",
    "#sys.path.insert(0, 'backend_functions')\n",
    "\n",
    "#import selection_functions as sf\n",
    "\n",
    "import importlib\n",
    "\n",
    "import uproot\n",
    "import matplotlib.pylab as pylab\n",
    "import numpy as np\n",
    "import math\n",
    "from sklearn.model_selection import train_test_split\n",
    "import pickle\n",
    "import xgboost as xgb\n",
    "\n",
    "import awkward\n",
    "import matplotlib.pyplot as plt\n",
    "import pandas as pd\n",
    "\n",
    "import ROOT\n",
    "from ROOT import TH1F, TH2F, TDirectory, TH1D\n",
    "\n",
    "#import top \n",
    "#from top import *\n",
    "\n",
    "#importlib.reload(sf)\n",
    "#from selection_functions import *"
   ]
  },
  {
   "cell_type": "code",
   "execution_count": 4,
   "id": "8f915b84",
   "metadata": {},
   "outputs": [],
   "source": [
    "\n",
    "\n",
    "fold = \"nuselection\"\n",
    "tree = \"NeutrinoSelectionFilter\"\n",
    "\n"
   ]
  },
  {
   "cell_type": "code",
   "execution_count": 5,
   "id": "cc93cf39",
   "metadata": {},
   "outputs": [],
   "source": [
    "if nuwro: \n",
    "    path = \"/media/alex/TOSHIBA EXT/\""
   ]
  },
  {
   "cell_type": "code",
   "execution_count": 6,
   "id": "97dce84d",
   "metadata": {},
   "outputs": [],
   "source": [
    "\n",
    "\n",
    "if nuwro: \n",
    "    overlay = uproot.open(path+\"neutrinoselection_filt_run1_overlay_nuwro.root\")[fold][tree]\n",
    "    nue = uproot.open(path+\"neutrinoselection_filt_run1_overlay_nuwro_intrinsic.root\")[fold][tree]\n",
    "\n",
    "uproot_v = [overlay,nue]"
   ]
  },
  {
   "cell_type": "code",
   "execution_count": 7,
   "id": "f844e58a",
   "metadata": {},
   "outputs": [],
   "source": [
    "\n",
    "\n",
    "variables = [\n",
    "    \"selected\", \"nu_pdg\", \n",
    "    \"trk_score_v\", \n",
    "    \"shr_tkfit_dedx_Y\",\n",
    "    \"ccnc\", \"shr_px\", \"shr_py\", \"shr_pz\",\n",
    "    \"n_tracks_contained\", \n",
    "    \"NeutrinoEnergy2\", \"shr_theta\", \"shr_phi\",\n",
    "    \"reco_nu_vtx_sce_x\",\"reco_nu_vtx_sce_y\",\"reco_nu_vtx_sce_z\",\n",
    "    \"true_nu_vtx_x\", \"true_nu_vtx_y\" , \"true_nu_vtx_z\", \n",
    "    \"nproton\", \"nu_e\", \"n_showers_contained\",\n",
    "    \"shr_score\", \n",
    "    \"trk_energy\", \"tksh_distance\", \"tksh_angle\",\n",
    "    \"npi0\", \"trk_energy_tot\",\n",
    "    \"shr_energy_tot_cali\", \"shr_energy_cali\", \n",
    "    \"nslice\", \"true_nu_vtx_sce_x\", \"true_nu_vtx_sce_y\", \"true_nu_vtx_sce_z\",\n",
    "    \"contained_fraction\",\n",
    "    \"npion\", \n",
    "    \"shrmoliereavg\", \n",
    "    \"shrsubclusters0\",\"shrsubclusters1\",\"shrsubclusters2\", \n",
    "    \"shr_tkfit_npointsvalid\",\"shr_tkfit_npoints\", \"true_e_visible\", \"trkshrhitdist2\", \n",
    "    \"weightSplineTimesTune\", \"weightTune\", \"true_nu_px\", \"true_nu_py\", \"true_nu_pz\", \n",
    "    \"elec_e\", \"proton_e\", \"mc_px\", \"mc_py\", \"mc_pz\", \"elec_px\", \"elec_py\", \"elec_pz\", \n",
    "    \"swtrig_pre\", \"ppfx_cv\", \"mc_pdg\",  'interaction', 'run', \"opening_angle\"]\n",
    "\n"
   ]
  },
  {
   "cell_type": "code",
   "execution_count": 8,
   "id": "3501ff6c",
   "metadata": {},
   "outputs": [],
   "source": [
    "\n",
    "\n",
    "overlay = overlay.pandas.df(variables, flatten=False)\n",
    "\n"
   ]
  },
  {
   "cell_type": "code",
   "execution_count": 9,
   "id": "a12407c9",
   "metadata": {},
   "outputs": [],
   "source": [
    "\n",
    "\n",
    "nue = nue.pandas.df(variables, flatten=False)\n",
    "\n"
   ]
  },
  {
   "cell_type": "code",
   "execution_count": 10,
   "id": "400907ac",
   "metadata": {},
   "outputs": [],
   "source": [
    "df_v = [overlay,nue]\n"
   ]
  },
  {
   "cell_type": "code",
   "execution_count": 11,
   "id": "09e93a02",
   "metadata": {},
   "outputs": [],
   "source": [
    "\n",
    "\n",
    "for i,df in enumerate(df_v):\n",
    "    up = uproot_v[i]\n",
    "    trk_llr_pid_v = up.array('trk_llr_pid_score_v')\n",
    "    trk_id = up.array('trk_id')-1 # I think we need this -1 to get the right result\n",
    "    trk_llr_pid_v_sel = awkward.fromiter([pidv[tid] if tid<len(pidv) else 9999. for pidv,tid in zip(trk_llr_pid_v,trk_id)])\n",
    "    df['trkpid'] = trk_llr_pid_v_sel\n",
    "    df['subcluster'] = df['shrsubclusters0'] + df['shrsubclusters1'] + df['shrsubclusters2']\n",
    "\n",
    "    df['NeutrinoEnergy2_GeV'] = df['NeutrinoEnergy2']/1000\n",
    "\n"
   ]
  },
  {
   "cell_type": "code",
   "execution_count": 12,
   "id": "f68e58f3",
   "metadata": {},
   "outputs": [],
   "source": [
    "from scipy.spatial.transform import Rotation as R\n",
    "from numpy import arccos, array\n",
    "from numpy.linalg import norm\n",
    "\n",
    "# Note: returns angle in radians\n",
    "def theta(v, w): return arccos(v.dot(w)/(norm(v)*norm(w)))* 180 / 3.1415926\n",
    "\n",
    "def GetNuMIAngle( px,  py,  pz):\n",
    "    r = R.from_matrix([[0.92103853804025681562   , 0.022713504803924120662, 0.38880857519374290021  ],\n",
    "                       [4.6254001262154668408e-05, 0.99829162468141474651 , -0.058427989452906302359],\n",
    "                       [-0.38947144863934973769  , 0.053832413938664107345, 0.91946400794392302291  ]])  \n",
    "    r = r.inv()\n",
    "    beamCoords = r.apply([px,  py,  pz])\n",
    "    beamDir    = [0,0,1]\n",
    "    #print(theta(beamCoords,beamDir))\n",
    "    return theta(beamCoords,beamDir)\n",
    "\n",
    "def GetNuMIAnglePol( phiBNB,  thetaBNB):\n",
    "    px = math.sin(thetaBNB)*math.cos(phiBNB)\n",
    "    py = math.sin(thetaBNB)*math.sin(phiBNB)\n",
    "    pz = math.cos(thetaBNB)\n",
    "    return GetNuMIAngle( px,  py,  pz)"
   ]
  },
  {
   "cell_type": "code",
   "execution_count": 13,
   "id": "02a7f29c",
   "metadata": {},
   "outputs": [
    {
     "data": {
      "text/plain": [
       "1.8690124908136228"
      ]
     },
     "execution_count": 13,
     "metadata": {},
     "output_type": "execute_result"
    }
   ],
   "source": [
    "def vectorFromNuMITarget(vtxX,  vtxY, vtxZ):\n",
    "    numiTarget      = np.array([-31387.58422, -3316.402543, -60100.2414])\n",
    "    nuInteraction   = np.array([vtxX,  vtxY, vtxZ])\n",
    "    directionVector = nuInteraction - numiTarget\n",
    "    return directionVector\n",
    "\n",
    "def angleFromNuMITarget(vtxX,  vtxY, vtxZ, thetaBNB, phiBNB):\n",
    "    v1 = vectorFromNuMITarget(vtxX,  vtxY, vtxZ)  \n",
    "    norm = np.linalg.norm(v1)\n",
    "    v1 = v1/norm\n",
    "    v2 = [np.cos(phiBNB)*np.sin(thetaBNB),np.sin(phiBNB)*np.sin(thetaBNB), np.cos(thetaBNB) ]\n",
    "    dot_product = np.dot(v1, v2)\n",
    "    angle = np.arccos(dot_product)\n",
    "    return angle #dot_product # angle*180/3.14159265\n",
    "\n",
    "\n",
    "\n",
    "angleFromNuMITarget(1,1,1,1.4,3.)"
   ]
  },
  {
   "cell_type": "code",
   "execution_count": 14,
   "id": "16697d45",
   "metadata": {},
   "outputs": [],
   "source": [
    "INTERCEPT = 0.0\n",
    "SLOPE = 0.83\n",
    "\n",
    "# define some energy-related variables\n",
    "for i,df in enumerate(df_v):\n",
    "    df[\"reco_e\"] = (df[\"shr_energy_tot_cali\"] + INTERCEPT) / SLOPE + df[\"trk_energy_tot\"]\n",
    "    df[\"true_e\"] = df[\"elec_e\"] + df[\"proton_e\"]"
   ]
  },
  {
   "cell_type": "code",
   "execution_count": 15,
   "id": "eb6ac920",
   "metadata": {},
   "outputs": [],
   "source": [
    "######################### plot categories ##############################\n",
    "# everything must pass software trigger ! \n",
    "\n",
    "in_fv_query = \"10<=true_nu_vtx_x<=246 and -106<=true_nu_vtx_y<=106 and 10<=true_nu_vtx_z<=1026\"\n",
    "out_fv_query = \"((true_nu_vtx_x<10 or true_nu_vtx_x>246) or (true_nu_vtx_y<-106 or true_nu_vtx_y>106) or (true_nu_vtx_z<10 or true_nu_vtx_z>1026))\"\n",
    "\n",
    "numu_CC_Npi0 = 'swtrig_pre==1 and ((nu_pdg==14 or nu_pdg==-14) and ccnc==0 and npi0>=1)'\n",
    "numu_CC_0pi0 = 'swtrig_pre==1 and ((nu_pdg==14 or nu_pdg==-14) and ccnc==0 and npi0==0)'\n",
    "\n",
    "numu_NC_Npi0 = 'swtrig_pre==1 and ((nu_pdg==14 or nu_pdg==-14) and ccnc==1 and npi0>=1)'\n",
    "numu_NC_0pi0 = 'swtrig_pre==1 and ((nu_pdg==14 or nu_pdg==-14) and ccnc==1 and npi0==0)'\n",
    "\n",
    "nuebar_1eNp = 'swtrig_pre==1 and ((nu_pdg==-12 and ccnc==0 and nproton>0 and npion==0 and npi0==0))'\n",
    "nue_NC = 'swtrig_pre==1 and ((nu_pdg==12 or nu_pdg==-12) and ccnc==1)'\n",
    "\n",
    "nue_CCother = 'swtrig_pre==1 and (((nu_pdg==12 and ccnc==0) and (nproton==0 or npi0>0 or npion>0)) or (nu_pdg==-12 and ccnc==0 and (nproton==0 or npion>0 or npi0>0)))'\n",
    "\n",
    "# less specific categories \n",
    "nue_other = 'swtrig_pre==1 and (((nu_pdg==12 or nu_pdg==-12) and ccnc==1) or (((nu_pdg==12 and ccnc==0) and (nproton==0 or npi0>0 or npion>0)) or (nu_pdg==-12 and ccnc==0)))'\n",
    "numu_Npi0 = 'swtrig_pre==1 and ( (nu_pdg==14 or nu_pdg==-14) and npi0>=1)'\n",
    "numu_0pi0 = 'swtrig_pre==1 and ( (nu_pdg==14 or nu_pdg==-14) and npi0==0)'\n",
    "\n",
    "# signal vs. not signal \n",
    "signal = in_fv_query+' and  swtrig_pre==1 and (nu_pdg==12 and ccnc==0 and nproton>0 and npion==0 and npi0==0)'\n",
    "not_signal = \"(swtrig_pre==0) or (swtrig_pre==1 and (\" + out_fv_query+' or (nu_pdg!=12) or (nu_pdg==12 and ccnc==1) or (nu_pdg==12 and ccnc==0 and (nproton==0 or npi0>0 or npion>0))))'\n",
    "\n",
    "# for replacing nue CC \n",
    "in_AV_query = \"-1.55<=true_nu_vtx_x<=254.8 and -116.5<=true_nu_vtx_y<=116.5 and 0<=true_nu_vtx_z<=1036.8\"\n",
    "nueCC_query = 'abs(nu_pdg)==12 and ccnc==0 and '+in_AV_query"
   ]
  },
  {
   "cell_type": "code",
   "execution_count": 16,
   "id": "8dca935a",
   "metadata": {},
   "outputs": [],
   "source": [
    "overlay = overlay.query('swtrig_pre==1')\n",
    "nue = nue.query('swtrig_pre==1')"
   ]
  },
  {
   "cell_type": "code",
   "execution_count": 17,
   "id": "3360bc30",
   "metadata": {},
   "outputs": [],
   "source": [
    "mc_df = [overlay, nue]"
   ]
  },
  {
   "cell_type": "code",
   "execution_count": 18,
   "id": "51227bc9",
   "metadata": {},
   "outputs": [],
   "source": [
    "def addAngles(df): #From Katrina\n",
    "    \n",
    "    ## rotation matrix -- convert detector to beam coordinates\n",
    "    R = [\n",
    "        [0.921,   4.625e-05,     -0.3895],\n",
    "        [0.02271,    0.9983,     0.05383],\n",
    "        [0.3888,   -0.05843,      0.9195]\n",
    "    ]\n",
    "    det_origin_beamcoor = [5502.0, 7259.0,  67270.0]\n",
    "     \n",
    "    # angles in detector coordinates\n",
    "    df['thdet'] = np.arctan2(((df['true_nu_px']*df['true_nu_px'])+(df['true_nu_py']*df['true_nu_py']))**(1/2), df['true_nu_pz'])*(180/math.pi)\n",
    "    df['phidet'] = np.arctan2(df['true_nu_py'], df['true_nu_px'])*(180/math.pi)\n",
    "        \n",
    "    # get true momentum in beam coordinates\n",
    "    df['true_nu_px_beam'] = R[0][0]*df['true_nu_px'] + R[0][1]*df['true_nu_py'] + R[0][2]*df['true_nu_pz']\n",
    "    df['true_nu_py_beam'] = R[1][0]*df['true_nu_px'] + R[1][1]*df['true_nu_py'] + R[1][2]*df['true_nu_pz']\n",
    "    df['true_nu_pz_beam'] = R[2][0]*df['true_nu_px'] + R[2][1]*df['true_nu_py'] + R[2][2]*df['true_nu_pz']\n",
    "    \n",
    "    # angles in beam coordinates\n",
    "    df['thbeam'] = np.arctan2(((df['true_nu_px_beam']*df['true_nu_px_beam'])+(df['true_nu_py_beam']*df['true_nu_py_beam']))**(1/2), df['true_nu_pz_beam'])*(180/math.pi)\n",
    "    df['phibeam'] = np.arctan2(df['true_nu_py_beam'], df['true_nu_px_beam'])*(180/math.pi)\n",
    "        \n",
    "    return df"
   ]
  },
  {
   "cell_type": "code",
   "execution_count": 19,
   "id": "1a35bf35",
   "metadata": {},
   "outputs": [],
   "source": [
    "# use offline flux weights\n",
    "def offline_flux_weights(df, ISRUN3): \n",
    "    \n",
    "    if ISRUN3: \n",
    "        print(\"No ppfx maps for RHC!\")\n",
    "    \n",
    "    else: \n",
    "        f = ROOT.TFile.Open(path+\"ppfx_maps.root\", \"READ\")\n",
    "    \n",
    "    numu_map = f.Get(\"numu_ratio\")\n",
    "    numubar_map = f.Get(\"numubar_ratio\")\n",
    "    nue_map = f.Get(\"nue_ratio\")\n",
    "    nuebar_map = f.Get(\"nuebar_ratio\")\n",
    "    \n",
    "    nu_flav = list(df['nu_pdg'])\n",
    "    angle = list(df['thbeam'])\n",
    "    true_energy = list(df['nu_e'])\n",
    "\n",
    "    fluxweights = []\n",
    "\n",
    "    for i in range(len(nu_flav)): \n",
    "        if nu_flav[i]==14: \n",
    "            h = numu_map\n",
    "        elif nu_flav[i]==-14: \n",
    "            h = numubar_map\n",
    "        elif nu_flav[i]==12: \n",
    "            h = nue_map\n",
    "        elif nu_flav[i]==-12: \n",
    "            h = nuebar_map\n",
    "        else: \n",
    "            print(\"No map to match PDG code!\")\n",
    "        \n",
    "        fluxweights.append( h.GetBinContent(h.FindBin(true_energy[i], angle[i])) )\n",
    "\n",
    "    df['ppfx_cv'] = fluxweights\n",
    "    #mc_df[0]['weightFlux'] = fluxweights\n",
    "    #mc_df[1]['weightFlux'] = [1 for i in range(len(mc_df[1]))] # for now \n",
    "    \n",
    "    f.Close()\n",
    "    \n",
    "    return df"
   ]
  },
  {
   "cell_type": "code",
   "execution_count": 20,
   "id": "e10b5ddb",
   "metadata": {
    "scrolled": true
   },
   "outputs": [
    {
     "name": "stderr",
     "output_type": "stream",
     "text": [
      "/tmp/ipykernel_14387/3879574672.py:4: SettingWithCopyWarning: \n",
      "A value is trying to be set on a copy of a slice from a DataFrame.\n",
      "Try using .loc[row_indexer,col_indexer] = value instead\n",
      "\n",
      "See the caveats in the documentation: https://pandas.pydata.org/pandas-docs/stable/user_guide/indexing.html#returning-a-view-versus-a-copy\n",
      "  df['is_signal'] = np.where((df.swtrig_pre == 1)\n",
      "/tmp/ipykernel_14387/3654421403.py:12: SettingWithCopyWarning: \n",
      "A value is trying to be set on a copy of a slice from a DataFrame.\n",
      "Try using .loc[row_indexer,col_indexer] = value instead\n",
      "\n",
      "See the caveats in the documentation: https://pandas.pydata.org/pandas-docs/stable/user_guide/indexing.html#returning-a-view-versus-a-copy\n",
      "  df['thdet'] = np.arctan2(((df['true_nu_px']*df['true_nu_px'])+(df['true_nu_py']*df['true_nu_py']))**(1/2), df['true_nu_pz'])*(180/math.pi)\n",
      "/tmp/ipykernel_14387/3654421403.py:13: SettingWithCopyWarning: \n",
      "A value is trying to be set on a copy of a slice from a DataFrame.\n",
      "Try using .loc[row_indexer,col_indexer] = value instead\n",
      "\n",
      "See the caveats in the documentation: https://pandas.pydata.org/pandas-docs/stable/user_guide/indexing.html#returning-a-view-versus-a-copy\n",
      "  df['phidet'] = np.arctan2(df['true_nu_py'], df['true_nu_px'])*(180/math.pi)\n",
      "/tmp/ipykernel_14387/3654421403.py:16: SettingWithCopyWarning: \n",
      "A value is trying to be set on a copy of a slice from a DataFrame.\n",
      "Try using .loc[row_indexer,col_indexer] = value instead\n",
      "\n",
      "See the caveats in the documentation: https://pandas.pydata.org/pandas-docs/stable/user_guide/indexing.html#returning-a-view-versus-a-copy\n",
      "  df['true_nu_px_beam'] = R[0][0]*df['true_nu_px'] + R[0][1]*df['true_nu_py'] + R[0][2]*df['true_nu_pz']\n",
      "/tmp/ipykernel_14387/3654421403.py:17: SettingWithCopyWarning: \n",
      "A value is trying to be set on a copy of a slice from a DataFrame.\n",
      "Try using .loc[row_indexer,col_indexer] = value instead\n",
      "\n",
      "See the caveats in the documentation: https://pandas.pydata.org/pandas-docs/stable/user_guide/indexing.html#returning-a-view-versus-a-copy\n",
      "  df['true_nu_py_beam'] = R[1][0]*df['true_nu_px'] + R[1][1]*df['true_nu_py'] + R[1][2]*df['true_nu_pz']\n",
      "/tmp/ipykernel_14387/3654421403.py:18: SettingWithCopyWarning: \n",
      "A value is trying to be set on a copy of a slice from a DataFrame.\n",
      "Try using .loc[row_indexer,col_indexer] = value instead\n",
      "\n",
      "See the caveats in the documentation: https://pandas.pydata.org/pandas-docs/stable/user_guide/indexing.html#returning-a-view-versus-a-copy\n",
      "  df['true_nu_pz_beam'] = R[2][0]*df['true_nu_px'] + R[2][1]*df['true_nu_py'] + R[2][2]*df['true_nu_pz']\n",
      "/tmp/ipykernel_14387/3654421403.py:21: SettingWithCopyWarning: \n",
      "A value is trying to be set on a copy of a slice from a DataFrame.\n",
      "Try using .loc[row_indexer,col_indexer] = value instead\n",
      "\n",
      "See the caveats in the documentation: https://pandas.pydata.org/pandas-docs/stable/user_guide/indexing.html#returning-a-view-versus-a-copy\n",
      "  df['thbeam'] = np.arctan2(((df['true_nu_px_beam']*df['true_nu_px_beam'])+(df['true_nu_py_beam']*df['true_nu_py_beam']))**(1/2), df['true_nu_pz_beam'])*(180/math.pi)\n",
      "/tmp/ipykernel_14387/3654421403.py:22: SettingWithCopyWarning: \n",
      "A value is trying to be set on a copy of a slice from a DataFrame.\n",
      "Try using .loc[row_indexer,col_indexer] = value instead\n",
      "\n",
      "See the caveats in the documentation: https://pandas.pydata.org/pandas-docs/stable/user_guide/indexing.html#returning-a-view-versus-a-copy\n",
      "  df['phibeam'] = np.arctan2(df['true_nu_py_beam'], df['true_nu_px_beam'])*(180/math.pi)\n",
      "/tmp/ipykernel_14387/680110689.py:35: SettingWithCopyWarning: \n",
      "A value is trying to be set on a copy of a slice from a DataFrame.\n",
      "Try using .loc[row_indexer,col_indexer] = value instead\n",
      "\n",
      "See the caveats in the documentation: https://pandas.pydata.org/pandas-docs/stable/user_guide/indexing.html#returning-a-view-versus-a-copy\n",
      "  df['ppfx_cv'] = fluxweights\n"
     ]
    }
   ],
   "source": [
    "\n",
    "\n",
    "for i,df in enumerate(mc_df):\n",
    "    \n",
    "    # is signal bool \n",
    "    df['is_signal'] = np.where((df.swtrig_pre == 1)\n",
    "                             & (df.nu_pdg==12) & (df.ccnc==0) & (df.nproton>0) & (df.npion==0) & (df.npi0==0)\n",
    "                             & (10 <= df.true_nu_vtx_x) & (df.true_nu_vtx_x <= 246)\n",
    "                             & (-106 <= df.true_nu_vtx_y) & (df.true_nu_vtx_y <= 106)\n",
    "                             & (10 <= df.true_nu_vtx_z) & (df.true_nu_vtx_z <= 1026), True, False)\n",
    "    \n",
    "    # Add truth level theta & phi angles (detector & beam coordinates)\n",
    "    df = addAngles(df)\n",
    "    \n",
    "    # add binned ppfx weights\n",
    "    if nuwro: \n",
    "        df = offline_flux_weights(df, ISRUN3)\n",
    "    \n",
    "\n"
   ]
  },
  {
   "cell_type": "code",
   "execution_count": 21,
   "id": "7620a004",
   "metadata": {},
   "outputs": [
    {
     "name": "stdout",
     "output_type": "stream",
     "text": [
      "True\n",
      "True\n"
     ]
    }
   ],
   "source": [
    "print(len(nue.query('is_signal==True'))==len(nue.query(signal)))\n",
    "print(len(nue.query('is_signal==False'))==len(nue.query(not_signal)))"
   ]
  },
  {
   "cell_type": "code",
   "execution_count": 22,
   "id": "f143b298",
   "metadata": {},
   "outputs": [
    {
     "name": "stderr",
     "output_type": "stream",
     "text": [
      "/home/alex/miniconda3/envs/vintageXgboostVintageUprootEnv/lib/python3.8/site-packages/pandas/core/indexing.py:965: SettingWithCopyWarning: \n",
      "A value is trying to be set on a copy of a slice from a DataFrame.\n",
      "Try using .loc[row_indexer,col_indexer] = value instead\n",
      "\n",
      "See the caveats in the documentation: https://pandas.pydata.org/pandas-docs/stable/user_guide/indexing.html#returning-a-view-versus-a-copy\n",
      "  self.obj[item] = s\n"
     ]
    }
   ],
   "source": [
    "\n",
    "\n",
    "# clean bad weights & values \n",
    "\n",
    "for i,df in enumerate(mc_df):\n",
    "     \n",
    "    df.loc[ df['weightSplineTimesTune'] <= 0, 'weightSplineTimesTune' ] = 1.\n",
    "    df.loc[ df['weightSplineTimesTune'] == np.inf, 'weightSplineTimesTune' ] = 1.\n",
    "    df.loc[ df['weightSplineTimesTune'] > 100, 'weightSplineTimesTune' ] = 1.\n",
    "    df.loc[ np.isnan(df['weightSplineTimesTune']) == True, 'weightSplineTimesTune' ] = 1.\n",
    "    \n",
    "    df.loc[ df['weightTune'] <= 0, 'weightTune' ] = 1.\n",
    "    df.loc[ df['weightTune'] == np.inf, 'weightTune' ] = 1.\n",
    "    df.loc[ df['weightTune'] > 100, 'weightTune' ] = 1.\n",
    "    df.loc[ np.isnan(df['weightTune']) == True, 'weightTune' ] = 1.  \n",
    "\n",
    "     \n",
    "\n"
   ]
  },
  {
   "cell_type": "code",
   "execution_count": 23,
   "id": "48fa0e8d",
   "metadata": {},
   "outputs": [
    {
     "data": {
      "text/plain": [
       "'\\n# scale down the number of events to match data POT \\n\\nnue = nue[:round(len(nue)*0.0119)]   #1519\\noverlay = overlay[:round(len(overlay)*0.301)]  #67370\\n#print(len(nue))\\n\\n#print(len(nue[:round(len(nue)*0.0119)]))\\n#print(len(overlay[:round(len(overlay)*0.301)]))\\n\\n#nue = nue[round(len(nue)*0.0119):round((len(nue)*0.0119)*2) ]   #1519\\n#overlay = overlay[round(len(overlay)*0.301):round((len(overlay)*0.301)*2)]  #67370\\n\\nprint((len(nue)))\\n'"
      ]
     },
     "execution_count": 23,
     "metadata": {},
     "output_type": "execute_result"
    }
   ],
   "source": [
    "###SCALRE BY POT INSTEAD!\n",
    "\n",
    "\"\"\"\n",
    "# scale down the number of events to match data POT \n",
    "\n",
    "nue = nue[:round(len(nue)*0.0119)]   #1519\n",
    "overlay = overlay[:round(len(overlay)*0.301)]  #67370\n",
    "#print(len(nue))\n",
    "\n",
    "#print(len(nue[:round(len(nue)*0.0119)]))\n",
    "#print(len(overlay[:round(len(overlay)*0.301)]))\n",
    "\n",
    "#nue = nue[round(len(nue)*0.0119):round((len(nue)*0.0119)*2) ]   #1519\n",
    "#overlay = overlay[round(len(overlay)*0.301):round((len(overlay)*0.301)*2)]  #67370\n",
    "\n",
    "print((len(nue)))\n",
    "\"\"\""
   ]
  },
  {
   "cell_type": "code",
   "execution_count": 24,
   "id": "160b1fc4",
   "metadata": {},
   "outputs": [
    {
     "name": "stderr",
     "output_type": "stream",
     "text": [
      "/tmp/ipykernel_14387/542743503.py:9: SettingWithCopyWarning: \n",
      "A value is trying to be set on a copy of a slice from a DataFrame.\n",
      "Try using .loc[row_indexer,col_indexer] = value instead\n",
      "\n",
      "See the caveats in the documentation: https://pandas.pydata.org/pandas-docs/stable/user_guide/indexing.html#returning-a-view-versus-a-copy\n",
      "  overlay['pot_scale'] = data_pot/6.64422e+20\n",
      "/tmp/ipykernel_14387/542743503.py:10: SettingWithCopyWarning: \n",
      "A value is trying to be set on a copy of a slice from a DataFrame.\n",
      "Try using .loc[row_indexer,col_indexer] = value instead\n",
      "\n",
      "See the caveats in the documentation: https://pandas.pydata.org/pandas-docs/stable/user_guide/indexing.html#returning-a-view-versus-a-copy\n",
      "  nue['pot_scale'] = data_pot/1.68375e+22\n"
     ]
    }
   ],
   "source": [
    "\n",
    "\n",
    "# POT normalization - scale to data \n",
    "\n",
    "if ISRUN3: \n",
    "    data_pot = 5.0E20\n",
    "else: \n",
    "    data_pot = 2.0E20\n",
    "\n",
    "if nuwro==True: \n",
    "    overlay['pot_scale'] = data_pot/6.64422e+20\n",
    "    nue['pot_scale'] = data_pot/1.68375e+22\n",
    "\n",
    "else: \n",
    "    overlay = pot_scale(overlay, 'overlay', ISRUN3)\n",
    "    nue = pot_scale(nue, 'intrinsic', ISRUN3)\n",
    "    \n",
    "    #overlay['pot_scale'] = data_pot/2.33652e+21\n",
    "    #nue['pot_scale'] = data_pot/2.37838e+22\n",
    "\n"
   ]
  },
  {
   "cell_type": "code",
   "execution_count": 25,
   "id": "2b28a624",
   "metadata": {},
   "outputs": [
    {
     "name": "stderr",
     "output_type": "stream",
     "text": [
      "/tmp/ipykernel_14387/593504767.py:3: SettingWithCopyWarning: \n",
      "A value is trying to be set on a copy of a slice from a DataFrame.\n",
      "Try using .loc[row_indexer,col_indexer] = value instead\n",
      "\n",
      "See the caveats in the documentation: https://pandas.pydata.org/pandas-docs/stable/user_guide/indexing.html#returning-a-view-versus-a-copy\n",
      "  overlay['totweight_data'] = overlay['pot_scale']*overlay['ppfx_cv']\n",
      "/tmp/ipykernel_14387/593504767.py:4: SettingWithCopyWarning: \n",
      "A value is trying to be set on a copy of a slice from a DataFrame.\n",
      "Try using .loc[row_indexer,col_indexer] = value instead\n",
      "\n",
      "See the caveats in the documentation: https://pandas.pydata.org/pandas-docs/stable/user_guide/indexing.html#returning-a-view-versus-a-copy\n",
      "  nue['totweight_data'] = nue['pot_scale']*nue['ppfx_cv']\n"
     ]
    }
   ],
   "source": [
    "if nuwro == True: \n",
    "\n",
    "    overlay['totweight_data'] = overlay['pot_scale']*overlay['ppfx_cv']\n",
    "    nue['totweight_data'] = nue['pot_scale']*nue['ppfx_cv']\n",
    "\n",
    "else: \n",
    "    \n",
    "    overlay['totweight_data'] = overlay['pot_scale']*overlay['ppfx_cv']*overlay['weightSplineTimesTune']\n",
    "    nue['totweight_data'] = nue['pot_scale']*nue['ppfx_cv']*nue['weightSplineTimesTune']\n",
    "\n"
   ]
  },
  {
   "cell_type": "code",
   "execution_count": 26,
   "id": "e885b55e",
   "metadata": {},
   "outputs": [
    {
     "name": "stdout",
     "output_type": "stream",
     "text": [
      "# of nueCC in AV in overlay sample = 3830\n",
      "# of nueCC in AV dropped in overlay = 3830\n"
     ]
    },
    {
     "name": "stderr",
     "output_type": "stream",
     "text": [
      "/home/alex/miniconda3/envs/vintageXgboostVintageUprootEnv/lib/python3.8/site-packages/pandas/core/frame.py:3990: SettingWithCopyWarning: \n",
      "A value is trying to be set on a copy of a slice from a DataFrame\n",
      "\n",
      "See the caveats in the documentation: https://pandas.pydata.org/pandas-docs/stable/user_guide/indexing.html#returning-a-view-versus-a-copy\n",
      "  return super().drop(\n"
     ]
    }
   ],
   "source": [
    "#########################\n",
    "#RUN ONLY ONCE#######\n",
    "###################\n",
    "\n",
    "print(\"# of nueCC in AV in overlay sample = \"+str(len(overlay.query(nueCC_query))))\n",
    "len1 = len(overlay)\n",
    "    \n",
    "idx = overlay.query(nueCC_query).index\n",
    "overlay.drop(idx, inplace=True)\n",
    "len2 = len(overlay) \n",
    "print(\"# of nueCC in AV dropped in overlay = \"+str(len1-len2))\n",
    "    \n",
    "# then add in nue_intrinsic \n",
    "overlay = pd.concat([overlay,nue], ignore_index=True)\n",
    "\n",
    "# from here on out everything else should be the same. "
   ]
  },
  {
   "cell_type": "code",
   "execution_count": null,
   "id": "a029ab36",
   "metadata": {},
   "outputs": [],
   "source": []
  },
  {
   "cell_type": "code",
   "execution_count": 27,
   "id": "b316a536",
   "metadata": {},
   "outputs": [],
   "source": [
    "\n",
    "\n",
    "# separate by in/out FV & cosmic\n",
    "infv = overlay.query(in_fv_query)\n",
    "outfv = overlay.query(out_fv_query)\n",
    "\n"
   ]
  },
  {
   "cell_type": "code",
   "execution_count": 28,
   "id": "1bdf5950",
   "metadata": {},
   "outputs": [
    {
     "name": "stdout",
     "output_type": "stream",
     "text": [
      "True\n"
     ]
    }
   ],
   "source": [
    "# check that everything is accounted for \n",
    "print(len(overlay)==len(infv)+len(outfv))"
   ]
  },
  {
   "cell_type": "code",
   "execution_count": 29,
   "id": "010b90fe",
   "metadata": {},
   "outputs": [
    {
     "name": "stdout",
     "output_type": "stream",
     "text": [
      "total signal events = 429.7431328878989\n",
      "total signal events = 0\n"
     ]
    }
   ],
   "source": [
    "\n",
    "\n",
    "tot_signal_weighted = np.nansum(infv.query('is_signal==True')['pot_scale'])\n",
    "print('total signal events = '+ str(tot_signal_weighted))\n",
    "\n",
    "\n",
    "\n",
    "\n",
    "\n",
    "tot_signal_weighted = np.nansum(outfv.query('is_signal==True')[\"nslice\"])\n",
    "print('total signal events = '+ str(tot_signal_weighted))"
   ]
  },
  {
   "cell_type": "code",
   "execution_count": 30,
   "id": "a78db0d6",
   "metadata": {},
   "outputs": [],
   "source": [
    "datasets = {\n",
    "    'infv' : infv, \n",
    "    'outfv' : outfv\n",
    "}"
   ]
  },
  {
   "cell_type": "code",
   "execution_count": 31,
   "id": "7166c2f5",
   "metadata": {},
   "outputs": [],
   "source": [
    "\n",
    "\n",
    "generated_events = pd.concat([datasets['outfv'], datasets['infv']])\n",
    "\n"
   ]
  },
  {
   "cell_type": "code",
   "execution_count": 32,
   "id": "0001beea",
   "metadata": {},
   "outputs": [
    {
     "name": "stdout",
     "output_type": "stream",
     "text": [
      "total signal events = 429.7431328878989\n",
      "total signal events = 387.74397309124674\n",
      "total signal events = 387.74397309124674\n"
     ]
    }
   ],
   "source": [
    "tot_signal_weighted = np.nansum(generated_events.query('is_signal==True')['pot_scale'])\n",
    "print('total signal events = '+ str(tot_signal_weighted))\n",
    "\n",
    "tot_signal_weighted = np.nansum(generated_events.query('is_signal==True')['totweight_data'])\n",
    "print('total signal events = '+ str(tot_signal_weighted))\n",
    "\n",
    "tot_signal_weighted = np.nansum(generated_events.query(signal)['totweight_data'])\n",
    "print('total signal events = '+ str(tot_signal_weighted))"
   ]
  },
  {
   "cell_type": "code",
   "execution_count": 33,
   "id": "3104a479",
   "metadata": {},
   "outputs": [
    {
     "data": {
      "text/plain": [
       "True"
      ]
     },
     "execution_count": 33,
     "metadata": {},
     "output_type": "execute_result"
    }
   ],
   "source": [
    "isTruth"
   ]
  },
  {
   "cell_type": "code",
   "execution_count": 34,
   "id": "ed0d69c5",
   "metadata": {},
   "outputs": [],
   "source": [
    "if isTruth == False:\n",
    "    reco_in_fv_query = \"10<=reco_nu_vtx_sce_x<=246 and -106<=reco_nu_vtx_sce_y<=106 and 10<=reco_nu_vtx_sce_z<=1026\"\n",
    "\n",
    "\n",
    "    BDT_PRE_QUERY = 'swtrig_pre==1 and nslice==1'\n",
    "    BDT_PRE_QUERY += ' and ' + reco_in_fv_query\n",
    "    BDT_PRE_QUERY +=' and contained_fraction>0.9'\n",
    "    BDT_PRE_QUERY += ' and n_showers_contained==1'\n",
    "    BDT_PRE_QUERY += ' and n_tracks_contained>0'\n",
    "    BDT_PRE_QUERY += ' and trk_energy>0.04' \n",
    "\n",
    "    BDT_LOOSE_CUTS = BDT_PRE_QUERY\n",
    "    BDT_LOOSE_CUTS +=' and shr_score<0.3'\n",
    "    BDT_LOOSE_CUTS += ' and shrmoliereavg<15'\n",
    "    BDT_LOOSE_CUTS += ' and shr_tkfit_dedx_Y<7'\n",
    "    BDT_LOOSE_CUTS += ' and trkpid<0.35'\n",
    "    BDT_LOOSE_CUTS += ' and tksh_distance<12'\n",
    "elif isTruth == True:\n",
    "    selected_query = \"is_signal == True\""
   ]
  },
  {
   "cell_type": "code",
   "execution_count": 35,
   "id": "0a48a725",
   "metadata": {},
   "outputs": [],
   "source": [
    "if isTruth == False:\n",
    "    datasets_bdt = {}\n",
    "\n",
    "    bdt_score_cut = 0.55\n",
    "    selected_query = BDT_LOOSE_CUTS +' and BDT_score>'+str(bdt_score_cut)\n",
    "\n",
    "    #selected_query = \"is_signal==True\"\n",
    "    #print(\"BDT SCORE THRESHOLD = \"+str(bdt_score_cut))\n",
    "\n",
    "    print(selected_query)"
   ]
  },
  {
   "cell_type": "code",
   "execution_count": 36,
   "id": "bb0074b7",
   "metadata": {
    "scrolled": true
   },
   "outputs": [
    {
     "name": "stdout",
     "output_type": "stream",
     "text": [
      "1         0.064217\n",
      "3         0.000000\n",
      "7         0.000000\n",
      "11        0.153571\n",
      "13        0.225464\n",
      "            ...   \n",
      "347635    1.305480\n",
      "347636    0.062386\n",
      "347637    0.000000\n",
      "347638    1.460207\n",
      "347639    2.675159\n",
      "Name: reco_e, Length: 198334, dtype: float32\n",
      "1         1.125000\n",
      "3         1.125000\n",
      "7         1.125000\n",
      "11        1.125000\n",
      "13        1.125000\n",
      "            ...   \n",
      "347635    1.305480\n",
      "347636    1.125000\n",
      "347637    1.125000\n",
      "347638    1.460207\n",
      "347639    2.675159\n",
      "Name: reco_e, Length: 198334, dtype: float32\n",
      "1         1.019900\n",
      "3         1.019140\n",
      "7         1.038820\n",
      "11        1.089220\n",
      "13        1.003690\n",
      "            ...   \n",
      "347635    2.211471\n",
      "347636    2.101400\n",
      "347637    0.999465\n",
      "347638    1.544370\n",
      "347639    1.958760\n",
      "Name: true_e, Length: 198334, dtype: float32\n",
      "1         1.019900\n",
      "3         1.019140\n",
      "7         1.038820\n",
      "11        1.089220\n",
      "13        1.003690\n",
      "            ...   \n",
      "347635    2.211471\n",
      "347636    2.101400\n",
      "347637    1.125000\n",
      "347638    1.544370\n",
      "347639    1.958760\n",
      "Name: true_e, Length: 198334, dtype: float32\n",
      "0         0.000000\n",
      "2         0.471747\n",
      "4         0.000000\n",
      "5         0.000000\n",
      "6         0.000000\n",
      "            ...   \n",
      "347597    0.000000\n",
      "347600    0.000000\n",
      "347605    0.000000\n",
      "347615    0.444829\n",
      "347621    0.000000\n",
      "Name: reco_e, Length: 149306, dtype: float32\n",
      "0         1.125\n",
      "2         1.125\n",
      "4         1.125\n",
      "5         1.125\n",
      "6         1.125\n",
      "          ...  \n",
      "347597    1.125\n",
      "347600    1.125\n",
      "347605    1.125\n",
      "347615    1.125\n",
      "347621    1.125\n",
      "Name: reco_e, Length: 149306, dtype: float32\n",
      "0         1.056400\n",
      "2         1.821934\n",
      "4         1.061880\n",
      "5         0.000000\n",
      "6         0.000000\n",
      "            ...   \n",
      "347597    1.165580\n",
      "347600    1.285124\n",
      "347605    2.614390\n",
      "347615    1.760641\n",
      "347621    2.053261\n",
      "Name: true_e, Length: 149306, dtype: float32\n",
      "0         1.056400\n",
      "2         1.821934\n",
      "4         1.061880\n",
      "5         1.125000\n",
      "6         1.125000\n",
      "            ...   \n",
      "347597    1.165580\n",
      "347600    1.285124\n",
      "347605    2.614390\n",
      "347615    1.760641\n",
      "347621    2.053261\n",
      "Name: true_e, Length: 149306, dtype: float32\n",
      "is_signal == True\n"
     ]
    }
   ],
   "source": [
    "if isTruth == True:\n",
    "    datasets_bdt = {}\n",
    "\n",
    "\n",
    "    for i in range(len(datasets)): \n",
    "\n",
    "        df = list(datasets.values())[i].copy()\n",
    "        \n",
    "        #ENERGY\n",
    "        tmp = df[\"reco_e\"].copy()\n",
    "        mask = (df[\"reco_e\"] > 3)\n",
    "        tmp[mask] = 2.875\n",
    "        df[\"reco_e\"] = tmp\n",
    "        print(df[\"reco_e\"])\n",
    "        #------\n",
    "        tmp = df[\"reco_e\"].copy()\n",
    "        mask = (df[\"reco_e\"] < 1)\n",
    "        tmp[mask] = 1.125\n",
    "        df[\"reco_e\"] = tmp\n",
    "        print(df[\"reco_e\"])\n",
    "        #####\n",
    "\n",
    "        #ENERGY\n",
    "        tmp = df[\"true_e\"].copy()\n",
    "        mask = (df[\"true_e\"] > 3)\n",
    "        tmp[mask] = 2.875\n",
    "        df[\"true_e\"] = tmp\n",
    "        print(df[\"true_e\"])\n",
    "        #------\n",
    "        tmp = df[\"true_e\"].copy()\n",
    "        mask = (df[\"true_e\"] < 1)\n",
    "        tmp[mask] = 1.125\n",
    "        df[\"true_e\"] = tmp\n",
    "        print(df[\"true_e\"])\n",
    "\n",
    "        datasets_bdt[list(datasets.keys())[i]] = df.query(selected_query)\n",
    "\n",
    "print(selected_query)"
   ]
  },
  {
   "cell_type": "code",
   "execution_count": 36,
   "id": "2b13760a",
   "metadata": {
    "scrolled": true
   },
   "outputs": [
    {
     "name": "stdout",
     "output_type": "stream",
     "text": [
      "502       1.398879\n",
      "701       0.236469\n",
      "879       0.101979\n",
      "1003      0.578445\n",
      "1227      0.464323\n",
      "            ...   \n",
      "347587    0.324122\n",
      "347604    0.644731\n",
      "347609    0.430854\n",
      "347617    0.982283\n",
      "347632    0.730223\n",
      "Name: reco_e, Length: 11423, dtype: float32\n",
      "502       1.398879\n",
      "701       1.125000\n",
      "879       1.125000\n",
      "1003      1.125000\n",
      "1227      1.125000\n",
      "            ...   \n",
      "347587    1.125000\n",
      "347604    1.125000\n",
      "347609    1.125000\n",
      "347617    1.125000\n",
      "347632    1.125000\n",
      "Name: reco_e, Length: 11423, dtype: float32\n",
      "502       1.334170\n",
      "701       0.000000\n",
      "879       1.108240\n",
      "1003      1.356750\n",
      "1227      1.252720\n",
      "            ...   \n",
      "347587    1.292845\n",
      "347604    1.617981\n",
      "347609    1.678166\n",
      "347617    1.927932\n",
      "347632    1.749203\n",
      "Name: true_e, Length: 11423, dtype: float32\n",
      "502       1.334170\n",
      "701       1.125000\n",
      "879       1.108240\n",
      "1003      1.356750\n",
      "1227      1.252720\n",
      "            ...   \n",
      "347587    1.292845\n",
      "347604    1.617981\n",
      "347609    1.678166\n",
      "347617    1.927932\n",
      "347632    1.749203\n",
      "Name: true_e, Length: 11423, dtype: float32\n",
      "266       0.710999\n",
      "3851      0.212442\n",
      "6383      0.251312\n",
      "8131      0.144410\n",
      "8425      0.541213\n",
      "            ...   \n",
      "339321    1.071058\n",
      "340962    0.392104\n",
      "343176    1.438007\n",
      "343220    1.224690\n",
      "345112    0.933384\n",
      "Name: reco_e, Length: 203, dtype: float32\n",
      "266       1.125000\n",
      "3851      1.125000\n",
      "6383      1.125000\n",
      "8131      1.125000\n",
      "8425      1.125000\n",
      "            ...   \n",
      "339321    1.071058\n",
      "340962    1.125000\n",
      "343176    1.438007\n",
      "343220    1.224690\n",
      "345112    1.125000\n",
      "Name: reco_e, Length: 203, dtype: float32\n",
      "266       0.000000\n",
      "3851      0.000000\n",
      "6383      0.947016\n",
      "8131      1.024960\n",
      "8425      1.125450\n",
      "            ...   \n",
      "339321    2.049553\n",
      "340962    1.351699\n",
      "343176    2.012265\n",
      "343220    2.057755\n",
      "345112    2.149463\n",
      "Name: true_e, Length: 203, dtype: float32\n",
      "266       1.125000\n",
      "3851      1.125000\n",
      "6383      1.125000\n",
      "8131      1.024960\n",
      "8425      1.125450\n",
      "            ...   \n",
      "339321    2.049553\n",
      "340962    1.351699\n",
      "343176    2.012265\n",
      "343220    2.057755\n",
      "345112    2.149463\n",
      "Name: true_e, Length: 203, dtype: float32\n"
     ]
    }
   ],
   "source": [
    "#this box makes the selection for selected events if used\n",
    "\n",
    "if isTruth == False:\n",
    "    # load bdt model \n",
    "    split = 1\n",
    "    # load bdt model \n",
    "    bdt_model = xgb.Booster({'nthread': 4})\n",
    "    bdt_model.load_model('/home/alex/NuMI/bdt_FHC_may2022_subset.model')\n",
    "\n",
    "    for i in range(len(datasets)): \n",
    "\n",
    "        training_parameters = [\n",
    "        \"shr_score\", \"shrmoliereavg\", \"trkpid\",\n",
    "        \"n_showers_contained\", \"shr_tkfit_dedx_Y\", \"tksh_distance\",\n",
    "        \"tksh_angle\", \"subcluster\", \"trkshrhitdist2\"]\n",
    "\n",
    "        df = list(datasets.values())[i].copy()\n",
    "        df = df.query(BDT_LOOSE_CUTS)\n",
    "        \n",
    "        #ENERGY\n",
    "        tmp = df[\"reco_e\"].copy()\n",
    "        mask = (df[\"reco_e\"] > 3)\n",
    "        tmp[mask] = 2.875\n",
    "        df[\"reco_e\"] = tmp\n",
    "        print(df[\"reco_e\"])\n",
    "        #------\n",
    "        tmp = df[\"reco_e\"].copy()\n",
    "        mask = (df[\"reco_e\"] < 1)\n",
    "        tmp[mask] = 1.125\n",
    "        df[\"reco_e\"] = tmp\n",
    "        print(df[\"reco_e\"])\n",
    "        #####\n",
    "\n",
    "        #ENERGY\n",
    "        tmp = df[\"true_e\"].copy()\n",
    "        mask = (df[\"true_e\"] > 3)\n",
    "        tmp[mask] = 2.875\n",
    "        df[\"true_e\"] = tmp\n",
    "        print(df[\"true_e\"])\n",
    "        #------\n",
    "        tmp = df[\"true_e\"].copy()\n",
    "        mask = (df[\"true_e\"] < 1)\n",
    "        tmp[mask] = 1.125\n",
    "        df[\"true_e\"] = tmp\n",
    "        print(df[\"true_e\"])\n",
    "        \n",
    "\n",
    "        # clean datasets \n",
    "        for column in training_parameters:\n",
    "            df.loc[(df[column] < -1.0e37) | (df[column] > 1.0e37), column] = np.nan\n",
    "\n",
    "        # create testing dmatrix \n",
    "        df_test = xgb.DMatrix(data=df[training_parameters])\n",
    "\n",
    "        # apply the bdt selection\n",
    "        preds = bdt_model.predict(df_test)\n",
    "\n",
    "        # add columns for plotting \n",
    "        df['BDT_score'] = preds\n",
    "\n",
    "        datasets_bdt[list(datasets.keys())[i]] = df.query(selected_query)"
   ]
  },
  {
   "cell_type": "code",
   "execution_count": 37,
   "id": "0df0fcd2",
   "metadata": {},
   "outputs": [],
   "source": [
    "xvar = 'reco_e'\n",
    "true_var = 'true_e'\n",
    "bins = np.arange(1, 3.25, 0.25)\n",
    "\n",
    "xlow = bins[0]\n",
    "xhigh = bins[-1]\n",
    "\n",
    "x_label = \"Neutrino Energy\"\n",
    "x_ticks = np.arange(1, 3.25, 0.25)"
   ]
  },
  {
   "cell_type": "code",
   "execution_count": 38,
   "id": "1e31831e",
   "metadata": {},
   "outputs": [],
   "source": [
    "\n",
    "\n",
    "if xvar=='tksh_angle': \n",
    "    bincenters = 0.5*(np.array(x_ticks)[1:]+np.array(x_ticks)[:-1])\n",
    "\n",
    "else: \n",
    "    #bincenters = 0.5*(np.array(x_ticks+[xhigh])[1:]+np.array(x_ticks+[xhigh])[:-1])\n",
    "    bincenters = np.arange(1.125, 3.125, 0.25)\n",
    "\n"
   ]
  },
  {
   "cell_type": "code",
   "execution_count": 39,
   "id": "7a7745f1",
   "metadata": {},
   "outputs": [],
   "source": [
    "labels = { \n",
    "    'signal' : ['$\\\\nu_e$ CC0$\\pi$Np', 'orange'], \n",
    "    'numu_CC_Npi0' : ['$\\\\nu_\\mu$ CC $\\pi^{0}$', 'brown'],\n",
    "    'numu_NC_Npi0' : ['$\\\\nu_\\mu$ NC $\\pi^{0}$', 'orangered'],\n",
    "    'numu_NC_0pi0' : ['$\\\\nu_\\mu$ NC', '#33FCFF'],\n",
    "    'numu_CC_0pi0' : ['$\\\\nu_\\mu$ CC', '#437ED8'],\n",
    "    'nue_CCother': ['$\\\\nu_e$ CC other', '#05B415'], \n",
    "    'nue_NC': ['$\\\\nu_e$ NC', '#B8FF33'], \n",
    "    'outfv' : ['Out FV', 'orchid'], \n",
    "    'ext' : ['EXT', 'lightpink'],\n",
    "    'nue_other' : ['$\\\\nu_e$ / $\\\\overline{\\\\nu_e}$  other', '#33db09'], \n",
    "    'numu_Npi0' : ['$\\\\nu_\\\\mu$ / $\\\\overline{\\\\nu_\\\\mu}$  $\\pi^{0}$', '#EE1B1B'], \n",
    "    'numu_0pi0' : ['$\\\\nu_\\\\mu$ / $\\\\overline{\\\\nu_\\\\mu}$  other', '#437ED8'],\n",
    "    'nuebar_1eNp' : ['$\\\\bar{\\\\nu}_e$ CC0$\\pi$Np', 'gold']\n",
    "}"
   ]
  },
  {
   "cell_type": "code",
   "execution_count": 40,
   "id": "fbbac96c",
   "metadata": {},
   "outputs": [],
   "source": [
    "leg = {\n",
    "        'outfv' : labels['outfv'][0]+': ' + str( round(sum(datasets_bdt['outfv'].totweight_data), 1)) , \n",
    "        'numu_NC_Npi0' : labels['numu_NC_Npi0'][0]+': '+ str( round(sum(datasets_bdt['infv'].query(numu_NC_Npi0).totweight_data), 1)), \n",
    "        'numu_CC_Npi0' : labels['numu_CC_Npi0'][0]+': '+str( round(sum(datasets_bdt['infv'].query(numu_CC_Npi0).totweight_data), 1)), \n",
    "        'numu_NC_0pi0' : labels['numu_NC_0pi0'][0]+': '+str( round(sum(datasets_bdt['infv'].query(numu_NC_0pi0).totweight_data), 1)), \n",
    "        'numu_CC_0pi0' : labels['numu_CC_0pi0'][0]+': '+str( round(sum(datasets_bdt['infv'].query(numu_CC_0pi0).totweight_data), 1)), \n",
    "        'nue_NC' : labels['nue_NC'][0]+': '+str( round(sum(datasets_bdt['infv'].query(nue_NC).totweight_data), 1)), \n",
    "        'nue_CCother' : labels['nue_CCother'][0]+': '+str( round(sum(datasets_bdt['infv'].query(nue_CCother).totweight_data), 1)),\n",
    "        'nuebar_1eNp' : labels['nuebar_1eNp'][0]+': '+str( round(sum(datasets_bdt['infv'].query(nuebar_1eNp).totweight_data), 1)), \n",
    "        'signal' : labels['signal'][0]+': '+str( round(sum(datasets_bdt['infv'].query(signal).totweight_data), 1))\n",
    "    }\n"
   ]
  },
  {
   "cell_type": "code",
   "execution_count": 41,
   "id": "ff8b6b11",
   "metadata": {},
   "outputs": [
    {
     "name": "stderr",
     "output_type": "stream",
     "text": [
      "/home/alex/miniconda3/envs/vintageXgboostVintageUprootEnv/lib/python3.8/site-packages/numpy/core/fromnumeric.py:3245: VisibleDeprecationWarning: Creating an ndarray from ragged nested sequences (which is a list-or-tuple of lists-or-tuples-or ndarrays with different lengths or shapes) is deprecated. If you meant to do this, you must specify 'dtype=object' when creating the ndarray.\n",
      "  return asarray(a).size\n",
      "/home/alex/miniconda3/envs/vintageXgboostVintageUprootEnv/lib/python3.8/site-packages/matplotlib/cbook/__init__.py:1449: VisibleDeprecationWarning: Creating an ndarray from ragged nested sequences (which is a list-or-tuple of lists-or-tuples-or ndarrays with different lengths or shapes) is deprecated. If you meant to do this, you must specify 'dtype=object' when creating the ndarray.\n",
      "  X = np.atleast_1d(X.T if isinstance(X, np.ndarray) else np.asarray(X))\n"
     ]
    },
    {
     "name": "stdout",
     "output_type": "stream",
     "text": [
      "220007    1.311443\n",
      "220037    1.034346\n",
      "220041    1.980417\n",
      "220067    1.083881\n",
      "220092    1.125000\n",
      "            ...   \n",
      "347480    1.125000\n",
      "347556    1.142170\n",
      "347573    1.125000\n",
      "347587    1.125000\n",
      "347604    1.125000\n",
      "Name: reco_e, Length: 4648, dtype: float32\n",
      "[58.99235754  5.40732578  3.52465918  1.29961325  0.76785778  0.6761774\n",
      "  0.24215731  0.74292943]\n",
      "71.65307766959822\n"
     ]
    },
    {
     "data": {
      "image/png": "[encoded data removed]",
      "text/plain": [
       "<Figure size 576x360 with 1 Axes>"
      ]
     },
     "metadata": {
      "needs_background": "light"
     },
     "output_type": "display_data"
    }
   ],
   "source": [
    "if isTruth == False:\n",
    "    fig = plt.figure(figsize=(8, 5))\n",
    "\n",
    "\n",
    "    n, b, p = plt.hist([datasets_bdt['outfv'][xvar], \n",
    "                           datasets_bdt['infv'].query(numu_NC_Npi0)[xvar],\n",
    "                           datasets_bdt['infv'].query(numu_CC_Npi0)[xvar],\n",
    "                           datasets_bdt['infv'].query(numu_NC_0pi0)[xvar],\n",
    "                           datasets_bdt['infv'].query(numu_CC_0pi0)[xvar],\n",
    "                           datasets_bdt['infv'].query(nue_NC)[xvar],\n",
    "                           datasets_bdt['infv'].query(nue_CCother)[xvar],\n",
    "                           datasets_bdt['infv'].query(nuebar_1eNp)[xvar], \n",
    "                           datasets_bdt['infv'].query(signal)[xvar]],\n",
    "                bins, histtype='bar', range=[xlow, xhigh], stacked=True, \n",
    "                color=[labels['outfv'][1], \n",
    "                           labels['numu_NC_Npi0'][1], \n",
    "                           labels['numu_CC_Npi0'][1], \n",
    "                           labels['numu_NC_0pi0'][1], \n",
    "                           labels['numu_CC_0pi0'][1], \n",
    "                           labels['nue_NC'][1], \n",
    "                           labels['nue_CCother'][1],\n",
    "                           labels['nuebar_1eNp'][1], \n",
    "                           labels['signal'][1]], \n",
    "                label=[leg['outfv'], \n",
    "                       leg['numu_NC_Npi0'], \n",
    "                       leg['numu_CC_Npi0'], \n",
    "                       leg['numu_NC_0pi0'], \n",
    "                       leg['numu_CC_0pi0'], \n",
    "                       leg['nue_NC'], \n",
    "                       leg['nue_CCother'], \n",
    "                       leg['nuebar_1eNp'], \n",
    "                       leg['signal']\n",
    "                      ],\n",
    "                weights=[datasets_bdt['outfv'].totweight_data, \n",
    "                         datasets_bdt['infv'].query(numu_NC_Npi0).totweight_data, \n",
    "                         datasets_bdt['infv'].query(numu_CC_Npi0).totweight_data,\n",
    "                         datasets_bdt['infv'].query(numu_NC_0pi0).totweight_data,\n",
    "                         datasets_bdt['infv'].query(numu_CC_0pi0).totweight_data,\n",
    "                         datasets_bdt['infv'].query(nue_NC).totweight_data,\n",
    "                         datasets_bdt['infv'].query(nue_CCother).totweight_data,\n",
    "                         datasets_bdt['infv'].query(nuebar_1eNp).totweight_data,\n",
    "                         datasets_bdt['infv'].query(signal).totweight_data \n",
    "                         ])\n",
    "\n",
    "    print(datasets_bdt['infv'].query(signal)[xvar])\n",
    "    \n",
    "    #print(n)\n",
    "    #print(\"sum in each bin is \", sum(n))\n",
    "    print(n[-1])\n",
    "    print(sum(n[-1]))\n",
    "    #print(sum(sum(n)))\n",
    "\n",
    "\n",
    "    nuWro_selected_events_nue = n[-1]\n",
    "\n",
    "    # simulation outline \n",
    "    tot = list([0, n[-1][0]])+list(n[-1])+[0]\n",
    "    b_step = list([b[0]])+list(b)+list([b[-1]])\n",
    "    plt.step(b_step, tot, color='saddlebrown', linewidth=2)\n",
    "\n",
    "    # plot format stuff\n",
    "    plt.legend(loc='best', prop={\"size\":10}, ncol=3, frameon=False)\n",
    "\n",
    "\n",
    "\n",
    "    plt.xlabel(\"Reconstructed \"+x_label, fontsize=15)\n",
    "\n",
    "    #plt.xticks(x_ticks, fontsize=14)\n",
    "\n",
    "    plt.xticks(fontsize=14)\n",
    "    plt.yticks(fontsize=14)\n",
    "\n",
    "    plt.xlim(xlow, xhigh)\n",
    "    #plt.ylim(0, 30)\n",
    "\n",
    "    if not ISRUN3: \n",
    "        plt.title(\"FHC Run 1 - MC Only\", fontsize=16)\n",
    "        plt.ylabel('$\\\\nu$ / $2\\\\times10^{20}$ POT', fontsize=15)\n",
    "    else: \n",
    "        plt.title(\"RHC Run 3 - MC Only\", fontsize=16)\n",
    "        plt.ylabel('$\\\\nu$ / $5\\\\times10^{20}$ POT', fontsize=15)\n",
    "\n",
    "\n",
    "    plt.show()\n"
   ]
  },
  {
   "cell_type": "code",
   "execution_count": 42,
   "id": "cd51ce44",
   "metadata": {},
   "outputs": [
    {
     "name": "stdout",
     "output_type": "stream",
     "text": [
      "[17.01828515 76.24433023 92.78065058 71.21698187 48.41859719 29.0868503\n",
      " 17.62418933 35.35408845]\n",
      "387.7439730913494\n",
      "use truth =  True\n"
     ]
    },
    {
     "name": "stderr",
     "output_type": "stream",
     "text": [
      "/home/alex/miniconda3/envs/vintageXgboostVintageUprootEnv/lib/python3.8/site-packages/numpy/core/fromnumeric.py:3245: VisibleDeprecationWarning: Creating an ndarray from ragged nested sequences (which is a list-or-tuple of lists-or-tuples-or ndarrays with different lengths or shapes) is deprecated. If you meant to do this, you must specify 'dtype=object' when creating the ndarray.\n",
      "  return asarray(a).size\n",
      "/home/alex/miniconda3/envs/vintageXgboostVintageUprootEnv/lib/python3.8/site-packages/matplotlib/cbook/__init__.py:1449: VisibleDeprecationWarning: Creating an ndarray from ragged nested sequences (which is a list-or-tuple of lists-or-tuples-or ndarrays with different lengths or shapes) is deprecated. If you meant to do this, you must specify 'dtype=object' when creating the ndarray.\n",
      "  X = np.atleast_1d(X.T if isinstance(X, np.ndarray) else np.asarray(X))\n"
     ]
    },
    {
     "data": {
      "image/png": "[encoded data removed]",
      "text/plain": [
       "<Figure size 576x360 with 1 Axes>"
      ]
     },
     "metadata": {
      "needs_background": "light"
     },
     "output_type": "display_data"
    }
   ],
   "source": [
    "if isTruth == True:\n",
    "    fig = plt.figure(figsize=(8, 5))\n",
    "\n",
    "\n",
    "    n, b, p = plt.hist([datasets_bdt['outfv'][true_var], \n",
    "                           datasets_bdt['infv'].query(numu_NC_Npi0)[true_var],\n",
    "                           datasets_bdt['infv'].query(numu_CC_Npi0)[true_var],\n",
    "                           datasets_bdt['infv'].query(numu_NC_0pi0)[true_var],\n",
    "                           datasets_bdt['infv'].query(numu_CC_0pi0)[true_var],\n",
    "                           datasets_bdt['infv'].query(nue_NC)[true_var],\n",
    "                           datasets_bdt['infv'].query(nue_CCother)[true_var],\n",
    "                           datasets_bdt['infv'].query(nuebar_1eNp)[true_var], \n",
    "                           datasets_bdt['infv'].query(signal)[true_var]],\n",
    "                bins, histtype='bar', range=[xlow, xhigh], stacked=True, \n",
    "                color=[labels['outfv'][1], \n",
    "                           labels['numu_NC_Npi0'][1], \n",
    "                           labels['numu_CC_Npi0'][1], \n",
    "                           labels['numu_NC_0pi0'][1], \n",
    "                           labels['numu_CC_0pi0'][1], \n",
    "                           labels['nue_NC'][1], \n",
    "                           labels['nue_CCother'][1],\n",
    "                           labels['nuebar_1eNp'][1], \n",
    "                           labels['signal'][1]], \n",
    "                label=[leg['outfv'], \n",
    "                       leg['numu_NC_Npi0'], \n",
    "                       leg['numu_CC_Npi0'], \n",
    "                       leg['numu_NC_0pi0'], \n",
    "                       leg['numu_CC_0pi0'], \n",
    "                       leg['nue_NC'], \n",
    "                       leg['nue_CCother'], \n",
    "                       leg['nuebar_1eNp'], \n",
    "                       leg['signal']\n",
    "                      ],\n",
    "                weights=[datasets_bdt['outfv'].totweight_data, \n",
    "                         datasets_bdt['infv'].query(numu_NC_Npi0).totweight_data, \n",
    "                         datasets_bdt['infv'].query(numu_CC_Npi0).totweight_data,\n",
    "                         datasets_bdt['infv'].query(numu_NC_0pi0).totweight_data,\n",
    "                         datasets_bdt['infv'].query(numu_CC_0pi0).totweight_data,\n",
    "                         datasets_bdt['infv'].query(nue_NC).totweight_data,\n",
    "                         datasets_bdt['infv'].query(nue_CCother).totweight_data,\n",
    "                         datasets_bdt['infv'].query(nuebar_1eNp).totweight_data,\n",
    "                         datasets_bdt['infv'].query(signal).totweight_data \n",
    "                         ])\n",
    "\n",
    "    print(n[-1])\n",
    "    print(sum(n[-1]))\n",
    "    print(\"use truth = \", isTruth)\n",
    "\n",
    "\n",
    "\n",
    "    # simulation outline \n",
    "    tot = list([0, n[-1][0]])+list(n[-1])+[0]\n",
    "    b_step = list([b[0]])+list(b)+list([b[-1]])\n",
    "    plt.step(b_step, tot, color='saddlebrown', linewidth=2)\n",
    "\n",
    "    # plot format stuff\n",
    "    plt.legend(loc='best', prop={\"size\":10}, ncol=3, frameon=False)\n",
    "\n",
    "\n",
    "\n",
    "    plt.xlabel(\"Reconstructed \"+x_label, fontsize=15)\n",
    "\n",
    "    #plt.xticks(x_ticks, fontsize=14)\n",
    "\n",
    "    plt.xticks(fontsize=14)\n",
    "    plt.yticks(fontsize=14)\n",
    "\n",
    "    plt.xlim(xlow, xhigh)\n",
    "    #plt.ylim(0, 30)\n",
    "\n",
    "    if not ISRUN3: \n",
    "        plt.title(\"FHC Run 1 - MC Only\", fontsize=16)\n",
    "        plt.ylabel('$\\\\nu$ / $2\\\\times10^{20}$ POT', fontsize=15)\n",
    "    else: \n",
    "        plt.title(\"RHC Run 3 - MC Only\", fontsize=16)\n",
    "        plt.ylabel('$\\\\nu$ / $5\\\\times10^{20}$ POT', fontsize=15)\n",
    "\n",
    "    ##plt.savefig(\"/uboone/data/users/kmiller/uBNuMI_CCNp/plots/fhc/fakedata/nuwro_evt_rate_\"+xvar+\".pdf\", \n",
    "    #            transparent=True, bbox_inches='tight')\n",
    "\n",
    "    plt.show()\n"
   ]
  },
  {
   "cell_type": "code",
   "execution_count": 43,
   "id": "88116d23",
   "metadata": {},
   "outputs": [],
   "source": [
    "#ending = \"Dec19\"\n",
    "\n",
    "#if isTruth == True:\n",
    "#    print(nuWro_stat_err_nue_inTruth)\n",
    "\n",
    "#    np.savetxt(\"nue_nuWro_stat_err_inTruth_\"+ending+\".csv\", \n",
    "#               nuWro_stat_err_nue_inTruth,\n",
    "#               delimiter =\", \", \n",
    "#               fmt ='% s')"
   ]
  },
  {
   "cell_type": "code",
   "execution_count": 44,
   "id": "c0ddd81f",
   "metadata": {},
   "outputs": [
    {
     "data": {
      "text/plain": [
       "True"
      ]
     },
     "execution_count": 44,
     "metadata": {},
     "output_type": "execute_result"
    }
   ],
   "source": [
    "nuwro"
   ]
  },
  {
   "cell_type": "code",
   "execution_count": 45,
   "id": "68996980",
   "metadata": {},
   "outputs": [
    {
     "name": "stdout",
     "output_type": "stream",
     "text": [
      "total signal events = 387.74397309124674\n",
      "total selected events = 387.74397309124674\n"
     ]
    }
   ],
   "source": [
    "selected_events = pd.concat([datasets_bdt['outfv'], datasets_bdt['infv']])\n",
    "#print(selected_events)\n",
    "\n",
    "##These should match when not in truth, will not match in truth\n",
    "\n",
    "#tot_signal_weighted = np.nansum(selected_events.query('is_signal==True')['pot_scale'])\n",
    "#print('total signal events = '+ str(tot_signal_weighted))\n",
    "\n",
    "tot_signal_weighted = np.nansum(selected_events.query('is_signal==True')['totweight_data'])\n",
    "print('total signal events = '+ str(tot_signal_weighted))\n",
    "\n",
    "\n",
    "tot_signal_weighted = np.nansum(selected_events['totweight_data'])\n",
    "print('total selected events = '+ str(tot_signal_weighted))"
   ]
  },
  {
   "cell_type": "code",
   "execution_count": 46,
   "id": "e6d3ade9",
   "metadata": {},
   "outputs": [],
   "source": [
    "if isTruth == False:\n",
    "\n",
    "    # ppfx correction effect \n",
    "    fig = plt.figure(figsize=(8, 5))\n",
    "\n",
    "    plt.hist(selected_events[xvar], bins, range=[xlow, xhigh],\n",
    "                weights=selected_events.pot_scale, linestyle=\":\", linewidth=2, histtype='step', \n",
    "                      label='Unweighted')\n",
    "\n",
    "    plt.hist(selected_events[xvar], bins, range=[xlow, xhigh],\n",
    "                weights=selected_events.totweight_data, linestyle=\":\", linewidth=2, histtype='step', \n",
    "                      label='PPFX-corrected')\n",
    "\n",
    "\n",
    "    # plot format stuff\n",
    "    plt.legend(loc='best', prop={\"size\":14}, ncol=1, frameon=False)\n",
    "\n",
    "    plt.ylabel('$\\\\nu$ / $2\\\\times10^{20}$ POT', fontsize=15)\n",
    "\n",
    "    plt.xlabel(\"Reco \"+x_label, fontsize=15)\n",
    "    plt.xticks(x_ticks, fontsize=14)\n",
    "\n",
    "    plt.yticks(fontsize=14)\n",
    "\n",
    "    plt.xlim(xlow, xhigh)\n",
    "    plt.title(\"Selected Event Rate\", fontsize=16)\n",
    "\n",
    "    plt.show()\n",
    "\n"
   ]
  },
  {
   "cell_type": "code",
   "execution_count": 47,
   "id": "c8c774e6",
   "metadata": {},
   "outputs": [
    {
     "data": {
      "image/png": "[encoded data removed]",
      "text/plain": [
       "<Figure size 576x360 with 1 Axes>"
      ]
     },
     "metadata": {
      "needs_background": "light"
     },
     "output_type": "display_data"
    }
   ],
   "source": [
    "if isTruth == True:\n",
    "\n",
    "    # ppfx correction effect \n",
    "    fig = plt.figure(figsize=(8, 5))\n",
    "\n",
    "    plt.hist(selected_events.query('is_signal==True')[true_var], bins, range=[xlow, xhigh],\n",
    "                weights=selected_events.query('is_signal==True').pot_scale, linestyle=\":\", linewidth=2, histtype='step', \n",
    "                      label='Unweighted')\n",
    "\n",
    "    true_nuWro = plt.hist(selected_events.query('is_signal==True')[true_var], bins, range=[xlow, xhigh],\n",
    "                weights=selected_events.query('is_signal==True').totweight_data, linestyle=\":\", linewidth=2, histtype='step', \n",
    "                      label='PPFX-corrected')\n",
    "\n",
    "\n",
    "    # plot format stuff\n",
    "    plt.legend(loc='best', prop={\"size\":14}, ncol=1, frameon=False)\n",
    "\n",
    "    plt.ylabel('$\\\\nu$ / $2\\\\times10^{20}$ POT', fontsize=15)\n",
    "\n",
    "    plt.xlabel(\"Reco \"+x_label, fontsize=15)\n",
    "    plt.xticks(x_ticks, fontsize=14)\n",
    "\n",
    "    plt.yticks(fontsize=14)\n",
    "\n",
    "    plt.xlim(xlow, xhigh)\n",
    "    plt.title(\"Selected Event Rate\", fontsize=16)\n",
    "\n",
    "    plt.show()\n"
   ]
  },
  {
   "cell_type": "code",
   "execution_count": 48,
   "id": "5f51c0bb",
   "metadata": {},
   "outputs": [
    {
     "name": "stdout",
     "output_type": "stream",
     "text": [
      "True nuWro for comparison:  [17.01828515 76.24433023 92.78065058 71.21698187 48.41859719 29.0868503\n",
      " 17.62418933 35.35408845]\n",
      "387.7439730913494\n"
     ]
    }
   ],
   "source": [
    "if isTruth == True:\n",
    "    print(\"True nuWro for comparison: \", true_nuWro[0])\n",
    "\n",
    "    print(sum(true_nuWro[0]))"
   ]
  },
  {
   "cell_type": "code",
   "execution_count": 49,
   "id": "8dd276a2",
   "metadata": {},
   "outputs": [],
   "source": [
    "if isTruth == True:   \n",
    "    ending = \"Dec19\"\n",
    "    \n",
    "    np.savetxt(\"nue_nuWro_prior_true_run1_energy_\"+ending+\".csv\", \n",
    "               true_nuWro[0],\n",
    "               delimiter =\", \", \n",
    "               fmt ='% s')"
   ]
  },
  {
   "cell_type": "markdown",
   "id": "6d10d099",
   "metadata": {},
   "source": [
    "GENIE bkg subtractions"
   ]
  },
  {
   "cell_type": "code",
   "execution_count": 47,
   "id": "40af2fd4",
   "metadata": {},
   "outputs": [],
   "source": [
    "ending = \"Dec19\""
   ]
  },
  {
   "cell_type": "code",
   "execution_count": 48,
   "id": "ec91de44",
   "metadata": {},
   "outputs": [
    {
     "name": "stdout",
     "output_type": "stream",
     "text": [
      "[16.60866001  1.74103531  1.15456517  0.75570582  0.23809898  0.2699235\n",
      "  0.090603    0.4528662 ]\n",
      "[44.23407289  4.22639849  2.46122315  0.95512745  0.74888486  0.46264147\n",
      "  0.2221792   0.52781451]\n",
      "[ 24.71637979  86.34602099 101.36610167  81.90326493  52.30163055\n",
      "  30.96614284  18.78330932  38.30810039]\n"
     ]
    }
   ],
   "source": [
    "\n",
    "nue_bkg_noExt = pd.read_csv(\"nue_nopions_recoE_usingSelection_run1_cv_nue_bkg_noExt_noDirt_\"+ending+\".csv\", header=None)\n",
    "\n",
    "print(nue_bkg_noExt.values[:, 0])\n",
    "##########################\n",
    "\n",
    "nue_evt_rate = pd.read_csv(\"nue_nopions_recoE_usingSelection_run1_cv_nue_evt_rate_\"+ending+\".csv\", header=None)\n",
    "\n",
    "nue_evt_rate = nue_evt_rate.values[:, 0]\n",
    "print(nue_evt_rate)\n",
    "\n",
    "#########################\n",
    "\n",
    "nue_full_evt_rate = pd.read_csv(\"nue_full_500_catsel_nopions_recoE_usingSelection_prior_true_signal_recoCut_\"+ending+\".csv\", header=None)\n",
    "\n",
    "nue_full_evt_rate = nue_full_evt_rate.values[:, 0]\n",
    "print(nue_full_evt_rate)"
   ]
  },
  {
   "cell_type": "code",
   "execution_count": 49,
   "id": "3d5e7738",
   "metadata": {},
   "outputs": [
    {
     "name": "stdout",
     "output_type": "stream",
     "text": [
      "[58.99235754  5.40732578  3.52465918  1.29961325  0.76785778  0.6761774\n",
      "  0.24215731  0.74292943]\n"
     ]
    },
    {
     "data": {
      "image/png": "[encoded data removed]",
      "text/plain": [
       "<Figure size 432x288 with 1 Axes>"
      ]
     },
     "metadata": {
      "needs_background": "light"
     },
     "output_type": "display_data"
    }
   ],
   "source": [
    "\n",
    "\n",
    "n, b, p = plt.hist(selected_events[xvar], bins, range=[xlow, xhigh],\n",
    "            weights=selected_events.totweight_data)\n",
    "#plt.close()\n",
    "\n",
    "print(n)"
   ]
  },
  {
   "cell_type": "code",
   "execution_count": 50,
   "id": "7f83a210",
   "metadata": {},
   "outputs": [
    {
     "data": {
      "text/plain": [
       "8"
      ]
     },
     "execution_count": 50,
     "metadata": {},
     "output_type": "execute_result"
    }
   ],
   "source": [
    "len(n)"
   ]
  },
  {
   "cell_type": "code",
   "execution_count": 51,
   "id": "ebe2a010",
   "metadata": {},
   "outputs": [
    {
     "data": {
      "text/plain": [
       "array([1.125, 1.375, 1.625, 1.875, 2.125, 2.375, 2.625, 2.875])"
      ]
     },
     "execution_count": 51,
     "metadata": {},
     "output_type": "execute_result"
    }
   ],
   "source": [
    "bincenters"
   ]
  },
  {
   "cell_type": "code",
   "execution_count": 52,
   "id": "142635bd",
   "metadata": {},
   "outputs": [
    {
     "data": {
      "text/plain": [
       "[0.12, 0.12, 0.12, 0.12, 0.12, 0.12, 0.12, 0.12]"
      ]
     },
     "execution_count": 52,
     "metadata": {},
     "output_type": "execute_result"
    }
   ],
   "source": [
    "\n",
    "\n",
    "binwidth = []\n",
    "\n",
    "for x in range(len(bincenters)):\n",
    "    \n",
    "    if xvar=='tksh_angle': \n",
    "        binwidth.append(round(abs((x_ticks)[x+1]-(x_ticks)[x])/2, 2))\n",
    "        \n",
    "    else: \n",
    "        binwidth.append(round(abs((x_ticks+[xhigh])[x+1]-(x_ticks+[xhigh])[x])/2, 2))\n",
    "    \n",
    "binwidth\n",
    "\n"
   ]
  },
  {
   "cell_type": "code",
   "execution_count": 53,
   "id": "457fd681",
   "metadata": {},
   "outputs": [],
   "source": [
    "## do not include EXT background subtraction! MC only \n",
    "#cv_bkgd_mc = [a-b for a,b in zip(fhc_dict['cv_bkgd'], fhc_dict['cv_ext'])]\n",
    "#I already do not in what has been loaded in\n",
    "\n",
    "cv_bkgd_mc = nue_bkg_noExt.values[:, 0]"
   ]
  },
  {
   "cell_type": "code",
   "execution_count": 54,
   "id": "6b4ab1b9",
   "metadata": {},
   "outputs": [
    {
     "data": {
      "text/plain": [
       "array([16.60866001,  1.74103531,  1.15456517,  0.75570582,  0.23809898,\n",
       "        0.2699235 ,  0.090603  ,  0.4528662 ])"
      ]
     },
     "execution_count": 54,
     "metadata": {},
     "output_type": "execute_result"
    }
   ],
   "source": [
    "cv_bkgd_mc"
   ]
  },
  {
   "cell_type": "code",
   "execution_count": 55,
   "id": "a95eae4a",
   "metadata": {},
   "outputs": [],
   "source": [
    "# background subtracted event rate - EXT was never added so never subtracted\n",
    "#(still need to take into acct its uncertainty)\n",
    "nuwro_evt_rate = [a-b for a,b in zip(n,cv_bkgd_mc)]\n"
   ]
  },
  {
   "cell_type": "code",
   "execution_count": 56,
   "id": "84be1492",
   "metadata": {},
   "outputs": [
    {
     "data": {
      "text/plain": [
       "8"
      ]
     },
     "execution_count": 56,
     "metadata": {},
     "output_type": "execute_result"
    }
   ],
   "source": [
    "len(nuwro_evt_rate)"
   ]
  },
  {
   "cell_type": "code",
   "execution_count": 57,
   "id": "aaaea96c",
   "metadata": {},
   "outputs": [
    {
     "data": {
      "image/png": "[encoded data removed]",
      "text/plain": [
       "<Figure size 576x360 with 1 Axes>"
      ]
     },
     "metadata": {
      "needs_background": "light"
     },
     "output_type": "display_data"
    }
   ],
   "source": [
    "fig = plt.figure(figsize=(8, 5))\n",
    "\n",
    "plt.hist(selected_events[xvar],\n",
    "            bins, histtype='step', range=[xlow, xhigh],\n",
    "            weights=selected_events.totweight_data, linestyle=\":\", linewidth=2, \n",
    "                  label='Full')\n",
    "\n",
    "plt.hist(bincenters, bins, histtype='step', range=[xlow,xhigh], \n",
    "        weights=nuwro_evt_rate, linestyle=\":\", linewidth=2, \n",
    "                  label='GENIE v3 background-subtracted')\n",
    "\n",
    "# plot format stuff\n",
    "plt.legend(loc='best', prop={\"size\":14}, ncol=1, frameon=False)\n",
    "\n",
    "plt.ylabel('$\\\\nu$ / $2\\\\times10^{20}$ POT', fontsize=15)\n",
    "    \n",
    "plt.xlabel(\"Reco \"+x_label, fontsize=15)\n",
    "plt.xticks(x_ticks, fontsize=14)\n",
    "\n",
    "plt.yticks(fontsize=14)\n",
    "#plt.ylim(0, 7)\n",
    "\n",
    "plt.xlim(xlow, xhigh)\n",
    "plt.title(\"FHC NuWro Selected Evt Rate (MC Only)\", fontsize=16)\n",
    "\n",
    "plt.show()\n"
   ]
  },
  {
   "cell_type": "code",
   "execution_count": 58,
   "id": "e890a10e",
   "metadata": {},
   "outputs": [
    {
     "data": {
      "text/plain": [
       "(array([58.99235754,  5.40732578,  3.52465918,  1.29961325,  0.76785778,\n",
       "         0.6761774 ,  0.24215731,  0.74292943]),\n",
       " array([1.  , 1.25, 1.5 , 1.75, 2.  , 2.25, 2.5 , 2.75, 3.  ]),\n",
       " <a list of 1 Patch objects>)"
      ]
     },
     "execution_count": 58,
     "metadata": {},
     "output_type": "execute_result"
    },
    {
     "data": {
      "image/png": "[encoded data removed]",
      "text/plain": [
       "<Figure size 432x288 with 1 Axes>"
      ]
     },
     "metadata": {
      "needs_background": "light"
     },
     "output_type": "display_data"
    }
   ],
   "source": [
    "plt.hist(selected_events[xvar],\n",
    "            bins, histtype='step', range=[xlow, xhigh],\n",
    "            weights=selected_events.totweight_data, linestyle=\":\", linewidth=2, \n",
    "                  label='Full')"
   ]
  },
  {
   "cell_type": "code",
   "execution_count": 59,
   "id": "18c143a9",
   "metadata": {},
   "outputs": [
    {
     "data": {
      "text/plain": [
       "50.3416196846305"
      ]
     },
     "execution_count": 59,
     "metadata": {},
     "output_type": "execute_result"
    }
   ],
   "source": [
    "sum(nuwro_evt_rate)"
   ]
  },
  {
   "cell_type": "code",
   "execution_count": 60,
   "id": "4a8db7b3",
   "metadata": {},
   "outputs": [
    {
     "data": {
      "image/png": "[encoded data removed]",
      "text/plain": [
       "<Figure size 576x504 with 2 Axes>"
      ]
     },
     "metadata": {
      "needs_background": "light"
     },
     "output_type": "display_data"
    }
   ],
   "source": [
    "from matplotlib import gridspec\n",
    "\n",
    "fig = plt.figure(figsize=(8, 7))\n",
    "\n",
    "gs = gridspec.GridSpec(2, 1, height_ratios=[2, 1])\n",
    "\n",
    "ax1 = plt.subplot(gs[0])\n",
    "ax2 = plt.subplot(gs[1])\n",
    "    \n",
    "ax1.tick_params(axis = 'both', which = 'major', labelsize = 13)\n",
    "ax2.tick_params(axis = 'both', which = 'major', labelsize = 13)\n",
    "\n",
    "ax2.yaxis.grid(linestyle=\"--\", color='black', alpha=0.2)\n",
    "ax2.xaxis.grid(linestyle=\"--\", color='black', alpha=0.2)\n",
    "\n",
    "# background subtracted genie evt rate \n",
    "ax1.hist(bincenters, bins, histtype='step', range=[xlow,xhigh], \n",
    "        weights=nue_evt_rate, linestyle=\":\", linewidth=2, \n",
    "                  label='GENIE v3')\n",
    "\n",
    "# background subtracted nuwro evt rate\n",
    "ax1.hist(bincenters, bins, histtype='step', range=[xlow,xhigh], \n",
    "        weights=nuwro_evt_rate, linestyle=\":\", linewidth=2, \n",
    "                  label='NuWro')\n",
    "\n",
    "# ratio plot  \n",
    "ax2.errorbar(bincenters, [a/b for a,b in zip(nuwro_evt_rate, nue_evt_rate)], \n",
    "             xerr=binwidth, color=\"black\", fmt='o')\n",
    "ax2.set_ylim(0,2)\n",
    "\n",
    "\n",
    "# plot formatting \n",
    "ax1.set_xlim(xlow,xhigh)\n",
    "ax1.set_xticks(x_ticks)\n",
    "ax1.set_ylabel('$\\\\nu$ / $2\\\\times10^{20}$ POT', fontsize=15)\n",
    "\n",
    "ax2.set_xlim(xlow,xhigh)\n",
    "ax2.set_xticks(x_ticks)\n",
    "\n",
    "ax2.set_xlabel(x_label, fontsize=14)\n",
    "ax2.set_ylabel(\"NuWro / GENIE v3\", fontsize=14)\n",
    "\n",
    "ax1.legend(fontsize=13, frameon=False)\n",
    "    \n",
    "ax2.set_xlabel(\"Reconstructed \"+x_label, fontsize=15)\n",
    "ax1.set_title(\"Background-Subtracted Selected Event Rate\", fontsize=16)\n",
    "\n",
    "#if ISRUN3=='': \n",
    "#    plt.savefig(\"/uboone/data/users/kmiller/uBNuMI_CCNp/plots/combined/combined_\"+xvar+\"_closuretest.pdf\", \n",
    "#            transparent=True, bbox_inches='tight')\n",
    "\n",
    "#plt.savefig(\"/uboone/data/users/kmiller/uBNuMI_CCNp/plots/fhc/fakedata/nuwro_evt_rate_compare_\"+xvar+\".pdf\", \n",
    "#            transparent=True, bbox_inches='tight')\n",
    "plt.show()"
   ]
  },
  {
   "cell_type": "code",
   "execution_count": 61,
   "id": "56967250",
   "metadata": {},
   "outputs": [],
   "source": [
    "\n",
    "\n",
    "# nuwro selected neutrino backgrounds\n",
    "nuwro_bkgd = pd.concat([datasets_bdt['infv'].query('is_signal==False'), datasets_bdt['outfv']])\n",
    "\n"
   ]
  },
  {
   "cell_type": "code",
   "execution_count": 62,
   "id": "aa4d0fcc",
   "metadata": {},
   "outputs": [
    {
     "data": {
      "text/plain": [
       "[42.383697533395406,\n",
       " 3.6662904687703053,\n",
       " 2.370094017249673,\n",
       " 0.543907423908028,\n",
       " 0.5297587974930248,\n",
       " 0.4062538988706695,\n",
       " 0.15155431422240123,\n",
       " 0.2900632307209946]"
      ]
     },
     "execution_count": 62,
     "metadata": {},
     "output_type": "execute_result"
    }
   ],
   "source": [
    "nuwro_evt_rate"
   ]
  },
  {
   "cell_type": "code",
   "execution_count": 63,
   "id": "275bb086",
   "metadata": {},
   "outputs": [
    {
     "data": {
      "image/png": "[encoded data removed]",
      "text/plain": [
       "<Figure size 576x504 with 2 Axes>"
      ]
     },
     "metadata": {
      "needs_background": "light"
     },
     "output_type": "display_data"
    }
   ],
   "source": [
    "fig = plt.figure(figsize=(8, 7))\n",
    "\n",
    "gs = gridspec.GridSpec(2, 1, height_ratios=[2, 1])\n",
    "\n",
    "ax1 = plt.subplot(gs[0])\n",
    "ax2 = plt.subplot(gs[1])\n",
    "    \n",
    "ax1.tick_params(axis = 'both', which = 'major', labelsize = 13)\n",
    "ax2.tick_params(axis = 'both', which = 'major', labelsize = 13)\n",
    "\n",
    "ax2.yaxis.grid(linestyle=\"--\", color='black', alpha=0.2)\n",
    "ax2.xaxis.grid(linestyle=\"--\", color='black', alpha=0.2)\n",
    "\n",
    "# genie\n",
    "ax1.hist(bincenters, bins, histtype='step', range=[xlow,xhigh], \n",
    "        weights=cv_bkgd_mc, linestyle=\":\", linewidth=2, \n",
    "                  label='GENIE v3')\n",
    "\n",
    "# background subtracted nuwro evt rate\n",
    "h_nuwro_bkgd = ax1.hist(nuwro_bkgd[xvar], bins, histtype='step', \n",
    "                        weights=nuwro_bkgd.totweight_data, range=[xlow,xhigh], \n",
    "         linestyle=\":\", linewidth=2, \n",
    "                  label='NuWro')[0]\n",
    "\n",
    "# ratio plot  \n",
    "ax2.errorbar(bincenters, [a/b for a,b in zip(h_nuwro_bkgd, cv_bkgd_mc)], \n",
    "             xerr=binwidth, color=\"black\", fmt='o')\n",
    "#ax2.set_ylim(0, 2)\n",
    "\n",
    "#ax1.set_ylim(0, 5)\n",
    "\n",
    "\n",
    "# plot formatting \n",
    "ax1.set_xlim(xlow,xhigh)\n",
    "ax1.set_xticks(x_ticks)\n",
    "ax1.set_ylabel('$\\\\nu$ / $2\\\\times10^{20}$ POT', fontsize=15)\n",
    "\n",
    "ax2.set_xlim(xlow,xhigh)\n",
    "ax2.set_xticks(x_ticks)\n",
    "\n",
    "ax2.set_xlabel(x_label, fontsize=14)\n",
    "ax2.set_ylabel(\"NuWro / GENIE v3\", fontsize=14)\n",
    "\n",
    "ax1.legend(fontsize=13, frameon=False)\n",
    "    \n",
    "ax2.set_xlabel(\"Reconstructed \"+x_label, fontsize=15)\n",
    "ax1.set_title(\"Selected Neutrino Backgrounds\", fontsize=16)\n",
    "\n",
    "\n",
    "#plt.savefig(\"/uboone/data/users/kmiller/uBNuMI_CCNp/plots/fhc/fakedata/nuwro_mc_bkgd_compare_\"+xvar+\".pdf\", \n",
    "#            transparent=True, bbox_inches='tight')\n",
    "\n",
    "plt.show()"
   ]
  },
  {
   "cell_type": "code",
   "execution_count": 64,
   "id": "ad97ebf2",
   "metadata": {},
   "outputs": [
    {
     "name": "stdout",
     "output_type": "stream",
     "text": [
      "[ 24.71637979  86.34602099 101.36610167  81.90326493  52.30163055\n",
      "  30.96614284  18.78330932  38.30810039]\n"
     ]
    }
   ],
   "source": [
    "#This should be prior true signal from genie\n",
    "#genie_true = generated_signal(False, true_var, bins, xlow, xhigh)[0]\n",
    "\n",
    "genie_true = nue_full_evt_rate\n",
    "\n",
    "print(genie_true)"
   ]
  },
  {
   "cell_type": "code",
   "execution_count": 65,
   "id": "6b48c7a2",
   "metadata": {},
   "outputs": [
    {
     "name": "stdout",
     "output_type": "stream",
     "text": [
      "[1.125 1.375 1.625 1.875 2.125 2.375 2.625 2.875]\n"
     ]
    },
    {
     "data": {
      "image/png": "[encoded data removed]",
      "text/plain": [
       "<Figure size 576x504 with 2 Axes>"
      ]
     },
     "metadata": {
      "needs_background": "light"
     },
     "output_type": "display_data"
    }
   ],
   "source": [
    "fig = plt.figure(figsize=(8, 7))\n",
    "\n",
    "gs = gridspec.GridSpec(2, 1, height_ratios=[2, 1])\n",
    "\n",
    "ax1 = plt.subplot(gs[0])\n",
    "ax2 = plt.subplot(gs[1])\n",
    "    \n",
    "ax1.tick_params(axis = 'both', which = 'major', labelsize = 13)\n",
    "ax2.tick_params(axis = 'both', which = 'major', labelsize = 13)\n",
    "\n",
    "ax2.yaxis.grid(linestyle=\"--\", color='black', alpha=0.2)\n",
    "ax2.xaxis.grid(linestyle=\"--\", color='black', alpha=0.2)\n",
    "\n",
    "ax1.hist(bincenters, bins, histtype='step', range=[xlow,xhigh], \n",
    "        weights=genie_true, linestyle=\":\", linewidth=2, \n",
    "                  label='GENIE v3')\n",
    "\n",
    "print(bincenters)\n",
    "\n",
    "nuwro_true = ax1.hist(generated_events.query('is_signal==True')[true_var], bins, \n",
    "                      histtype='step', range=[xlow,xhigh], \n",
    "                      weights=generated_events.query('is_signal==True')['totweight_data'], \n",
    "                      linestyle=\":\", linewidth=2, \n",
    "                  label='NuWro')[0]\n",
    "\n",
    "\n",
    "# ratio plot  \n",
    "ax2.errorbar(bincenters, [a/b for a,b in zip(nuwro_true, genie_true)], \n",
    "             xerr=binwidth, color=\"black\", fmt='o')\n",
    "ax2.set_ylim(0, 2)\n",
    "\n",
    "\n",
    "# plot formatting \n",
    "ax1.set_xlim(xlow,xhigh)\n",
    "ax1.set_xticks(x_ticks)\n",
    "ax1.set_ylabel('$\\\\nu$ / $2\\\\times10^{20}$ POT', fontsize=15)\n",
    "\n",
    "ax2.set_xlim(xlow,xhigh)\n",
    "ax2.set_xticks(x_ticks)\n",
    "\n",
    "ax2.set_xlabel(x_label, fontsize=14)\n",
    "ax2.set_ylabel(\"NuWro / GENIE v3\", fontsize=14)\n",
    "\n",
    "ax1.legend(fontsize=13, frameon=False)\n",
    "    \n",
    "ax2.set_xlabel(\"True \"+x_label, fontsize=15)\n",
    "ax1.set_title(\"Generated Signal Event Rate\", fontsize=16)\n",
    "\n",
    "#plt.savefig(\"/uboone/data/users/kmiller/uBNuMI_CCNp/plots/fhc/fakedata/nuwro_gen_signal_compare_\"+xvar+\".pdf\", \n",
    "#            transparent=True, bbox_inches='tight')\n",
    "plt.show()"
   ]
  },
  {
   "cell_type": "code",
   "execution_count": 66,
   "id": "698c47c6",
   "metadata": {},
   "outputs": [
    {
     "name": "stdout",
     "output_type": "stream",
     "text": [
      "Generated (True - GENIE v3) =  [ 24.71637979  86.34602099 101.36610167  81.90326493  52.30163055\n",
      "  30.96614284  18.78330932  38.30810039]\n",
      "Selected (Reco - NuWro) =  [42.383697533395406, 3.6662904687703053, 2.370094017249673, 0.543907423908028, 0.5297587974930248, 0.4062538988706695, 0.15155431422240123, 0.2900632307209946]\n"
     ]
    },
    {
     "data": {
      "image/png": "[encoded data removed]",
      "text/plain": [
       "<Figure size 720x504 with 1 Axes>"
      ]
     },
     "metadata": {
      "needs_background": "light"
     },
     "output_type": "display_data"
    }
   ],
   "source": [
    "# nuwro input distributions \n",
    "\n",
    "fig = plt.figure(figsize=(10, 7))\n",
    "\n",
    "#So this is Prior True\n",
    "plt.hist(bincenters, bins, color='orange', label='Generated (True - GENIE v3)', alpha=0.4, \n",
    "         weights=genie_true)\n",
    "\n",
    "print(\"Generated (True - GENIE v3) = \", genie_true)\n",
    "\n",
    "\n",
    "#Anf this is Data Signal\n",
    "# genie background subtracted evt rate \n",
    "plt.hist(bincenters, bins, color='blue', label='Selected (Reco - NuWro)', alpha=0.4, weights=nuwro_evt_rate)\n",
    "\n",
    "print('Selected (Reco - NuWro) = ', nuwro_evt_rate)\n",
    "\n",
    "plt.legend(fontsize=13)\n",
    "plt.title('FHC Run 1 - Input Signal Predictions', fontsize=16)\n",
    "\n",
    "plt.xlim(xlow, xhigh)\n",
    "\n",
    "plt.xlabel(x_label, fontsize=15)\n",
    "    \n",
    "plt.xticks(x_ticks, fontsize=13)\n",
    "plt.yticks(fontsize=13)\n",
    "\n",
    "plt.ylabel(\"$\\\\nu$ / 2.0 $\\\\times 10^{20}$ POT\", fontsize=15)\n",
    "\n",
    "plt.grid()\n",
    "\n",
    "#plt.savefig(\"/uboone/data/users/kmiller/uBNuMI_CCNp/plots/fhc/fakedata/nuwro_input_dist_\"+xvar+\".pdf\", \n",
    "#            transparent=True, bbox_inches='tight')\n",
    "\n",
    "plt.show()"
   ]
  },
  {
   "cell_type": "code",
   "execution_count": 67,
   "id": "f1c32cf1",
   "metadata": {},
   "outputs": [
    {
     "data": {
      "text/plain": [
       "[42.383697533395406,\n",
       " 3.6662904687703053,\n",
       " 2.370094017249673,\n",
       " 0.543907423908028,\n",
       " 0.5297587974930248,\n",
       " 0.4062538988706695,\n",
       " 0.15155431422240123,\n",
       " 0.2900632307209946]"
      ]
     },
     "execution_count": 67,
     "metadata": {},
     "output_type": "execute_result"
    }
   ],
   "source": [
    "nuwro_evt_rate"
   ]
  },
  {
   "cell_type": "code",
   "execution_count": 68,
   "id": "7a16e36d",
   "metadata": {},
   "outputs": [
    {
     "name": "stdout",
     "output_type": "stream",
     "text": [
      "[3.8367635568945864, 0.2045812643757959, 0.276867575771668, 0.014199132244711362, 0.008426950873172627, 0.08763197944285893, 0.002666122364224247, 0.008508161827194813]\n"
     ]
    }
   ],
   "source": [
    "# sumw2 of the full event rate \n",
    "nuwro_full_sumw2 = []\n",
    "\n",
    "for i in range(len(bins)-1):\n",
    "\n",
    "    if i==len(bins)-2: \n",
    "        bin_query = xvar+' >= '+str(bins[i])+' and '+xvar+' <= '+str(bins[i+1])\n",
    "    else: \n",
    "        bin_query = xvar+' >= '+str(bins[i])+' and '+xvar+' < '+str(bins[i+1])\n",
    "\n",
    "    #nuwro_full_sumw2.append(sum(datasets_bdt['infv'].query('is_signal==True and '+bin_query).totweight_data ** 2) ) #bug (fixed below)\n",
    "    nuwro_full_sumw2.append(sum(selected_events.query(bin_query).totweight_data ** 2))\n",
    "    \n",
    "    \n",
    "# percent stat error - of the background subtracted event rate \n",
    "#print( [(np.sqrt(a)/b) for a,b in zip(nuwro_full_sumw2, nuwro_evt_rate)] )\n",
    "print(nuwro_full_sumw2)"
   ]
  },
  {
   "cell_type": "code",
   "execution_count": 69,
   "id": "12fc6d28",
   "metadata": {},
   "outputs": [
    {
     "data": {
      "text/plain": [
       "[3.8367635568945864,\n",
       " 0.2045812643757959,\n",
       " 0.276867575771668,\n",
       " 0.014199132244711362,\n",
       " 0.008426950873172627,\n",
       " 0.08763197944285893,\n",
       " 0.002666122364224247,\n",
       " 0.008508161827194813]"
      ]
     },
     "execution_count": 69,
     "metadata": {},
     "output_type": "execute_result"
    }
   ],
   "source": [
    "nuwro_full_sumw2"
   ]
  },
  {
   "cell_type": "markdown",
   "id": "b272660c",
   "metadata": {},
   "source": [
    "Signal Region Systematic - NuWro"
   ]
  },
  {
   "cell_type": "code",
   "execution_count": 70,
   "id": "212eed33",
   "metadata": {},
   "outputs": [
    {
     "data": {
      "image/png": "[encoded data removed]",
      "text/plain": [
       "<Figure size 576x360 with 1 Axes>"
      ]
     },
     "metadata": {
      "needs_background": "light"
     },
     "output_type": "display_data"
    }
   ],
   "source": [
    "# genie vs nuwro event rate\n",
    "\n",
    "fig = plt.figure(figsize=(8, 5))\n",
    "\n",
    "# background subtracted genie evt rate \n",
    "plt.hist(bincenters, bins, histtype='step', range=[xlow,xhigh], \n",
    "        weights=nue_evt_rate, linestyle=\":\", linewidth=2, \n",
    "                  label='GENIE v3')\n",
    "\n",
    "# background subtracted nuwro evt rate\n",
    "plt.hist(bincenters, bins, histtype='step', range=[xlow,xhigh], \n",
    "        weights=nuwro_evt_rate, linestyle=\":\", linewidth=2, \n",
    "                  label='NuWro')\n",
    "\n",
    "# plot format stuff\n",
    "plt.legend(loc='best', prop={\"size\":14}, ncol=1, frameon=False)\n",
    "\n",
    "plt.ylabel('$\\\\nu$ / $2\\\\times10^{20}$ POT', fontsize=15)\n",
    "    \n",
    "plt.xlabel(\"Reconstructed \"+x_label, fontsize=15)\n",
    "plt.xticks(x_ticks, fontsize=14)\n",
    "\n",
    "plt.yticks(fontsize=14)\n",
    "\n",
    "plt.xlim(xlow, xhigh)\n",
    "\n",
    "\n",
    "plt.title(\"Background-Subtracted Selected Event Rate\", fontsize=16)\n",
    "\n",
    "plt.show()"
   ]
  },
  {
   "cell_type": "code",
   "execution_count": 71,
   "id": "2cc30037",
   "metadata": {},
   "outputs": [],
   "source": [
    "# genie_evt_rate - background subtracted event rate \n",
    "# nuwro_evt_rate - background subtracted event rate \n",
    "# genie_nu_bkgd - neutrino background prediction from genie \n",
    "# nuwro_nu_bkgd - neutrino background prediction from nuwro\n",
    "\n",
    "sys_dict = {}\n",
    "\n"
   ]
  },
  {
   "cell_type": "code",
   "execution_count": 72,
   "id": "71ae6cc7",
   "metadata": {},
   "outputs": [],
   "source": [
    "sys_dict['genie_evt_rate'] = nue_evt_rate\n",
    "sys_dict['nuwro_evt_rate'] = nuwro_evt_rate\n",
    "sys_dict['genie_nu_bkgd'] = cv_bkgd_mc\n",
    "sys_dict['nuwro_nu_bkgd'] = list(h_nuwro_bkgd)\n"
   ]
  },
  {
   "cell_type": "code",
   "execution_count": 73,
   "id": "c5e64ca9",
   "metadata": {},
   "outputs": [],
   "source": [
    "np.savetxt(\"nue_nuWro_MC_Data_Signal_recoCut_run1_energy_\"+ending+\".csv\", \n",
    "           nuwro_evt_rate,\n",
    "           delimiter =\", \", \n",
    "           fmt ='% s')"
   ]
  },
  {
   "cell_type": "code",
   "execution_count": 74,
   "id": "13b3f262",
   "metadata": {},
   "outputs": [
    {
     "data": {
      "text/plain": [
       "array([17.01828515, 76.24433023, 92.78065058, 71.21698187, 48.41859719,\n",
       "       29.0868503 , 17.62418933, 10.6120376 ])"
      ]
     },
     "execution_count": 74,
     "metadata": {},
     "output_type": "execute_result"
    }
   ],
   "source": [
    "nuwro_true"
   ]
  },
  {
   "cell_type": "code",
   "execution_count": 75,
   "id": "f0b7f324",
   "metadata": {},
   "outputs": [
    {
     "data": {
      "text/plain": [
       "array([ 24.71637979,  86.34602099, 101.36610167,  81.90326493,\n",
       "        52.30163055,  30.96614284,  18.78330932,  38.30810039])"
      ]
     },
     "execution_count": 75,
     "metadata": {},
     "output_type": "execute_result"
    }
   ],
   "source": [
    "genie_true"
   ]
  },
  {
   "cell_type": "markdown",
   "id": "f50e38da",
   "metadata": {},
   "source": [
    "## Create the Nue Cov Uncertainty Matrix\n",
    "\n",
    "- NuWro Stat Errs\n",
    "- MC background stat errs\n",
    "- genie systematics"
   ]
  },
  {
   "cell_type": "code",
   "execution_count": 76,
   "id": "93e4af8f",
   "metadata": {},
   "outputs": [
    {
     "name": "stdout",
     "output_type": "stream",
     "text": [
      "[3.8367635568945864, 0.2045812643757959, 0.276867575771668, 0.014199132244711362, 0.008426950873172627, 0.08763197944285893, 0.002666122364224247, 0.008508161827194813]\n"
     ]
    }
   ],
   "source": [
    "#nuWro_stat_err_nue\n",
    "#array([0.00324513, 0.00761901, 0.01058196, 0.01693113, 0.02469124,\n",
    "#       0.03358008, 0.04952356, 0.08648987, 0.14927616, 0.32507775])\n",
    "\n",
    "nuWro_stat_err_nue = nuwro_full_sumw2\n",
    "print(nuWro_stat_err_nue)"
   ]
  },
  {
   "cell_type": "code",
   "execution_count": 77,
   "id": "73e2050b",
   "metadata": {},
   "outputs": [
    {
     "name": "stdout",
     "output_type": "stream",
     "text": [
      "[2.17260574e+00 7.05252012e-02 4.84009641e-02 3.06024813e-02\n",
      " 2.14092307e-03 4.65403756e-03 7.78238980e-04 1.76943242e-02]\n"
     ]
    }
   ],
   "source": [
    "nue_bkg_genie_err = pd.read_csv(\"nue_bkg_exp_err_squared_energy_\"+ending+\".csv\", header=None)\n",
    "\n",
    "nue_bkg_genie_err = nue_bkg_genie_err.values[:, 0]\n",
    "print(nue_bkg_genie_err)"
   ]
  },
  {
   "cell_type": "code",
   "execution_count": 78,
   "id": "0d331be0",
   "metadata": {},
   "outputs": [
    {
     "name": "stdout",
     "output_type": "stream",
     "text": [
      "[6.00936929e+00 2.75106466e-01 3.25268540e-01 4.48016136e-02\n",
      " 1.05678739e-02 9.22860170e-02 3.44436134e-03 2.62024861e-02]\n"
     ]
    }
   ],
   "source": [
    "totalstat_nue_err = nuWro_stat_err_nue + nue_bkg_genie_err\n",
    "print(totalstat_nue_err)\n",
    "\n",
    "np.savetxt(\"totalstat_nuWro_nue_err_energy_\"+ending+\".csv\", \n",
    "               totalstat_nue_err,\n",
    "               delimiter =\", \", \n",
    "               fmt ='% s')"
   ]
  },
  {
   "cell_type": "code",
   "execution_count": 79,
   "id": "cb3b30a0",
   "metadata": {},
   "outputs": [
    {
     "name": "stdout",
     "output_type": "stream",
     "text": [
      "[[0. 0. 0. 0. 0. 0. 0. 0.]\n",
      " [0. 0. 0. 0. 0. 0. 0. 0.]\n",
      " [0. 0. 0. 0. 0. 0. 0. 0.]\n",
      " [0. 0. 0. 0. 0. 0. 0. 0.]\n",
      " [0. 0. 0. 0. 0. 0. 0. 0.]\n",
      " [0. 0. 0. 0. 0. 0. 0. 0.]\n",
      " [0. 0. 0. 0. 0. 0. 0. 0.]\n",
      " [0. 0. 0. 0. 0. 0. 0. 0.]]\n"
     ]
    }
   ],
   "source": [
    "nue_cov_stats   = np.zeros([(len(bins)-1), (len(bins)-1)])\n",
    "print(nue_cov_stats)"
   ]
  },
  {
   "cell_type": "code",
   "execution_count": 80,
   "id": "698a9c0a",
   "metadata": {},
   "outputs": [],
   "source": [
    "nue_cov_stats[np.diag_indices_from(nue_cov_stats)]    = totalstat_nue_err"
   ]
  },
  {
   "cell_type": "code",
   "execution_count": 81,
   "id": "32bfaaf8",
   "metadata": {},
   "outputs": [
    {
     "data": {
      "image/png": "[encoded data removed]",
      "text/plain": [
       "<Figure size 720x432 with 2 Axes>"
      ]
     },
     "metadata": {
      "needs_background": "light"
     },
     "output_type": "display_data"
    }
   ],
   "source": [
    "fig = plt.figure(figsize=(10, 6))\n",
    "        \n",
    "plt.pcolor(bins, bins, nue_cov_stats, cmap='OrRd', edgecolors='k')#, vmin=-1, vmax=1)\n",
    "            \n",
    "cbar = plt.colorbar()\n",
    "cbar.ax.tick_params(labelsize=14)\n",
    "\n",
    "\n",
    "\n",
    "\n",
    "#plt.xlabel('Reco Shower Energy [GeV]', fontsize=15)\n",
    "#plt.ylabel('Reco Shower Energy [GeV]', fontsize=15)\n",
    "\n",
    "plt.title('Covariance', fontsize=15)\n",
    "\n",
    "plt.show()"
   ]
  },
  {
   "cell_type": "code",
   "execution_count": 82,
   "id": "05be7b93",
   "metadata": {},
   "outputs": [
    {
     "name": "stdout",
     "output_type": "stream",
     "text": [
      "[[9.42964570e+01 1.24873393e+01 7.96665989e+00 1.95542007e+00\n",
      "  1.87225746e+00 1.10855581e+00 6.03394860e-01 1.53086904e+00]\n",
      " [1.24873393e+01 1.81825184e+00 1.13460364e+00 2.44124007e-01\n",
      "  2.55957274e-01 1.48559565e-01 8.03035186e-02 2.06781290e-01]\n",
      " [7.96665989e+00 1.13460364e+00 7.32160847e-01 1.55437208e-01\n",
      "  1.60458586e-01 9.20110398e-02 5.08005642e-02 1.30005570e-01]\n",
      " [1.95542007e+00 2.44124007e-01 1.55437208e-01 5.54098715e-02\n",
      "  3.97432153e-02 2.50216832e-02 1.25079302e-02 3.13708321e-02]\n",
      " [1.87225746e+00 2.55957274e-01 1.60458586e-01 3.97432153e-02\n",
      "  4.02217219e-02 2.33674952e-02 1.23993870e-02 3.21842866e-02]\n",
      " [1.10855581e+00 1.48559565e-01 9.20110398e-02 2.50216832e-02\n",
      "  2.33674952e-02 1.59130345e-02 6.98845033e-03 1.85785103e-02]\n",
      " [6.03394860e-01 8.03035186e-02 5.08005642e-02 1.25079302e-02\n",
      "  1.23993870e-02 6.98845033e-03 4.53550759e-03 1.02296624e-02]\n",
      " [1.53086904e+00 2.06781290e-01 1.30005570e-01 3.13708321e-02\n",
      "  3.21842866e-02 1.85785103e-02 1.02296624e-02 2.79023115e-02]]\n"
     ]
    }
   ],
   "source": [
    "# Now need to load in the genie sys errs from nue\n",
    "\n",
    "nue_bkg_genie_err = pd.read_csv(\"nue_cov_genie_only_energy_\"+ending+\".csv\", header=None)\n",
    "\n",
    "nue_bkg_genie_err = nue_bkg_genie_err.values\n",
    "print(nue_bkg_genie_err)"
   ]
  },
  {
   "cell_type": "code",
   "execution_count": 83,
   "id": "f03e60b7",
   "metadata": {},
   "outputs": [
    {
     "data": {
      "image/png": "[encoded data removed]",
      "text/plain": [
       "<Figure size 720x432 with 2 Axes>"
      ]
     },
     "metadata": {
      "needs_background": "light"
     },
     "output_type": "display_data"
    }
   ],
   "source": [
    "fig = plt.figure(figsize=(10, 6))\n",
    "        \n",
    "plt.pcolor(bins, bins, nue_bkg_genie_err, cmap='OrRd', edgecolors='k')#, vmin=-1, vmax=1)\n",
    "            \n",
    "cbar = plt.colorbar()\n",
    "cbar.ax.tick_params(labelsize=14)\n",
    "\n",
    "\n",
    "\n",
    "\n",
    "#plt.xlabel('Reco Shower Energy [GeV]', fontsize=15)\n",
    "#plt.ylabel('Reco Shower Energy [GeV]', fontsize=15)\n",
    "\n",
    "plt.title('genie cov', fontsize=15)\n",
    "\n",
    "plt.show()"
   ]
  },
  {
   "cell_type": "code",
   "execution_count": 84,
   "id": "64859206",
   "metadata": {},
   "outputs": [],
   "source": [
    "total_cov_nuWro_nue = nue_bkg_genie_err + nue_cov_stats"
   ]
  },
  {
   "cell_type": "code",
   "execution_count": 85,
   "id": "1f5d4089",
   "metadata": {},
   "outputs": [
    {
     "data": {
      "image/png": "[encoded data removed]",
      "text/plain": [
       "<Figure size 720x432 with 2 Axes>"
      ]
     },
     "metadata": {
      "needs_background": "light"
     },
     "output_type": "display_data"
    }
   ],
   "source": [
    "fig = plt.figure(figsize=(10, 6))\n",
    "        \n",
    "plt.pcolor(bins, bins, total_cov_nuWro_nue, cmap='OrRd', edgecolors='k')#, vmin=-1, vmax=1)\n",
    "            \n",
    "cbar = plt.colorbar()\n",
    "cbar.ax.tick_params(labelsize=14)\n",
    "\n",
    "\n",
    "\n",
    "\n",
    "#plt.xlabel('Reco Shower Energy [GeV]', fontsize=15)\n",
    "#plt.ylabel('Reco Shower Energy [GeV]', fontsize=15)\n",
    "\n",
    "plt.title('total input nuwro cov', fontsize=15)\n",
    "\n",
    "plt.show()"
   ]
  },
  {
   "cell_type": "code",
   "execution_count": 86,
   "id": "13ed8643",
   "metadata": {},
   "outputs": [],
   "source": [
    "np.savetxt(\"nue_total_cov_nuWro_energy_\"+ending+\".csv\", \n",
    "       total_cov_nuWro_nue,\n",
    "       delimiter =\", \", \n",
    "       fmt ='% s')  "
   ]
  },
  {
   "cell_type": "code",
   "execution_count": 87,
   "id": "0e34b2cf",
   "metadata": {},
   "outputs": [
    {
     "name": "stdout",
     "output_type": "stream",
     "text": [
      "\n",
      "[[1.0, 0.8617574542966284, 0.7735484298702314, 0.6167628977535969, 0.8294975581721012, 0.33649820656970647, 0.6744358498051908, 0.6571387398636526], [0.8617574542966284, 1.0000000000000002, 0.7625998233473903, 0.533003371646763, 0.7849794956602621, 0.3121527086532227, 0.6213193960800425, 0.614428804889237], [0.7735484298702314, 0.7625998233473903, 1.0, 0.4774968920515232, 0.6923885787689, 0.2720210570276114, 0.553025260454402, 0.5435235729520047], [0.6167628977535969, 0.533003371646763, 0.4774968920515232, 0.9999999999999999, 0.5570791092376322, 0.24029572562705595, 0.4423120989760247, 0.4260390436696029], [0.8294975581721012, 0.7849794956602621, 0.6923885787689, 0.5570791092376322, 1.0, 0.31521948681591877, 0.6159067411733963, 0.6139579410737468], [0.33649820656970647, 0.3121527086532227, 0.2720210570276114, 0.24029572562705595, 0.31521948681591877, 1.0, 0.23783254166390794, 0.24281822128275965], [0.6744358498051908, 0.6213193960800425, 0.553025260454402, 0.4423120989760247, 0.6159067411733963, 0.23783254166390794, 0.9999999999999998, 0.49231779529076747], [0.6571387398636526, 0.614428804889237, 0.5435235729520047, 0.4260390436696029, 0.6139579410737468, 0.24281822128275965, 0.49231779529076747, 0.9999999999999999]]\n"
     ]
    }
   ],
   "source": [
    "total_cor_nuWro_nue = [ [0]*(len(bins)-1) for x in range(len(bins)-1) ]\n",
    "for i in range(len(total_cov_nuWro_nue)): \n",
    "        for j in range(len(total_cov_nuWro_nue[i])): \n",
    "\n",
    "            if np.sqrt(total_cov_nuWro_nue[i][i])*np.sqrt(total_cov_nuWro_nue[j][j]) != 0: \n",
    "                total_cor_nuWro_nue[i][j] = total_cov_nuWro_nue[i][j] / (np.sqrt(total_cov_nuWro_nue[i][i])*np.sqrt(total_cov_nuWro_nue[j][j]))\n",
    "                \n",
    "print(\"\")\n",
    "print(total_cor_nuWro_nue)"
   ]
  },
  {
   "cell_type": "code",
   "execution_count": 88,
   "id": "acd89d8f",
   "metadata": {},
   "outputs": [
    {
     "data": {
      "image/png": "[encoded data removed]",
      "text/plain": [
       "<Figure size 720x432 with 2 Axes>"
      ]
     },
     "metadata": {
      "needs_background": "light"
     },
     "output_type": "display_data"
    }
   ],
   "source": [
    "fig = plt.figure(figsize=(10, 6))\n",
    "        \n",
    "plt.pcolor(bins, bins, total_cor_nuWro_nue, cmap='OrRd', edgecolors='k', vmin=-1, vmax=1)#, vmin=-1, vmax=1)\n",
    "            \n",
    "cbar = plt.colorbar()\n",
    "cbar.ax.tick_params(labelsize=14)\n",
    "\n",
    "\n",
    "\n",
    "\n",
    "#plt.xlabel('Reco Shower Energy [GeV]', fontsize=15)\n",
    "#plt.ylabel('Reco Shower Energy [GeV]', fontsize=15)\n",
    "\n",
    "plt.title('total input nuwro cor', fontsize=15)\n",
    "\n",
    "plt.show()"
   ]
  },
  {
   "cell_type": "code",
   "execution_count": 89,
   "id": "72afb5fd",
   "metadata": {},
   "outputs": [],
   "source": [
    "total_frac_cov_nuWro_nue = [ [0]*(len(bins)-1) for x in range(len(bins)-1) ]\n",
    "\n",
    "for i in range(len(bins)-1): \n",
    "\n",
    "    for j in range(len(bins)-1): \n",
    "\n",
    "        c = total_cov_nuWro_nue[i][j]\n",
    "        \n",
    "        if nuWro_selected_events_nue[i]*nuWro_selected_events_nue[j] != 0:\n",
    "            total_frac_cov_nuWro_nue[i][j] = c/(nuWro_selected_events_nue[i]*nuWro_selected_events_nue[j])"
   ]
  },
  {
   "cell_type": "code",
   "execution_count": 90,
   "id": "d075b2a7",
   "metadata": {},
   "outputs": [
    {
     "data": {
      "image/png": "[encoded data removed]",
      "text/plain": [
       "<Figure size 720x432 with 2 Axes>"
      ]
     },
     "metadata": {
      "needs_background": "light"
     },
     "output_type": "display_data"
    }
   ],
   "source": [
    "fig = plt.figure(figsize=(10, 6))\n",
    "        \n",
    "plt.pcolor(bins, bins, total_frac_cov_nuWro_nue, cmap='OrRd', edgecolors='k')#, vmin=-1, vmax=1)\n",
    "            \n",
    "cbar = plt.colorbar()\n",
    "cbar.ax.tick_params(labelsize=14)\n",
    "\n",
    "\n",
    "\n",
    "\n",
    "#plt.xlabel('Reco Shower Energy [GeV]', fontsize=15)\n",
    "#plt.ylabel('Reco Shower Energy [GeV]', fontsize=15)\n",
    "\n",
    "plt.title('total input nuwro frac cov', fontsize=15)\n",
    "\n",
    "plt.show()"
   ]
  },
  {
   "cell_type": "code",
   "execution_count": null,
   "id": "dcf33591",
   "metadata": {},
   "outputs": [],
   "source": []
  },
  {
   "cell_type": "code",
   "execution_count": null,
   "id": "984ac78b",
   "metadata": {},
   "outputs": [],
   "source": []
  }
 ],
 "metadata": {
  "kernelspec": {
   "display_name": "Python 3 (ipykernel)",
   "language": "python",
   "name": "python3"
  },
  "language_info": {
   "codemirror_mode": {
    "name": "ipython",
    "version": 3
   },
   "file_extension": ".py",
   "mimetype": "text/x-python",
   "name": "python",
   "nbconvert_exporter": "python",
   "pygments_lexer": "ipython3",
   "version": "3.8.12"
  }
 },
 "nbformat": 4,
 "nbformat_minor": 5
}
