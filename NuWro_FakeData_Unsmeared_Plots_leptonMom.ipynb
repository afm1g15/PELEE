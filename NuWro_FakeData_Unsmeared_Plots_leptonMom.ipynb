{
 "cells": [
  {
   "cell_type": "code",
   "execution_count": 1,
   "id": "d86ad7a2",
   "metadata": {},
   "outputs": [
    {
     "name": "stdout",
     "output_type": "stream",
     "text": [
      "/home/alex/NuMI/PELEE/\n"
     ]
    }
   ],
   "source": [
    "import pandas as pd\n",
    "import matplotlib.pyplot as plt\n",
    "import matplotlib\n",
    "import sys\n",
    "import localSettings as ls\n",
    "import math\n",
    "print(ls.main_path)\n",
    "import load_data_run123\n",
    "import plotter_alex\n",
    "import importlib\n",
    "importlib.reload(plotter_alex)\n",
    "import uproot\n",
    "import matplotlib.pylab as pylab\n",
    "import numpy as np\n",
    "import math\n",
    "from sklearn.model_selection import train_test_split\n",
    "import pickle\n",
    "import xgboost as xgb\n",
    "import nue_booster \n",
    "importlib.reload(nue_booster)\n",
    "import awkward\n",
    "from matplotlib import gridspec\n",
    "from collections import defaultdict"
   ]
  },
  {
   "cell_type": "code",
   "execution_count": 2,
   "id": "1043840e",
   "metadata": {},
   "outputs": [],
   "source": [
    "ending = \"Dec19\""
   ]
  },
  {
   "cell_type": "code",
   "execution_count": null,
   "id": "086ae909",
   "metadata": {},
   "outputs": [],
   "source": []
  },
  {
   "cell_type": "code",
   "execution_count": 3,
   "id": "04133fd0",
   "metadata": {},
   "outputs": [
    {
     "name": "stdout",
     "output_type": "stream",
     "text": [
      "Unsmeared events\n",
      "[38.4694, 119.631, 86.7841, 34.7527, 43.0468, 6.17116, 15.1862, 20.4708, 1717.03, 1517.81, 1426.14, 928.461, 679.424, 280.918, 2710.05, 3133.47]\n",
      "\n",
      "AC\n",
      "[[0.57644, 0.090359, -0.156625, 0.117306, -0.094326, 0.016164, -0.00364843, -0.00550121, 0.0, 0.0, 0.0, 0.0, 0.0, 0.0, 0.0, 0.0], [0.090359, 0.537857, 0.292027, -0.0271896, 0.173481, -0.0179553, 0.0450554, 0.0403586, 0.0, 0.0, 0.0, 0.0, 0.0, 0.0, 0.0, 0.0], [-0.156625, 0.292027, 0.584816, 0.196956, -0.00485009, 0.115053, -0.0519057, 0.0144448, 0.0, 0.0, 0.0, 0.0, 0.0, 0.0, 0.0, 0.0], [0.117306, -0.0271896, 0.196956, 0.377839, 0.0419054, -0.00744983, -0.0704467, -0.0314513, 0.0, 0.0, 0.0, 0.0, 0.0, 0.0, 0.0, 0.0], [-0.094326, 0.173481, -0.00485009, 0.0419054, 0.389684, -0.0689309, 0.0112489, 0.0543564, 0.0, 0.0, 0.0, 0.0, 0.0, 0.0, 0.0, 0.0], [0.016164, -0.0179553, 0.115053, -0.00744983, -0.0689309, 0.482893, -0.0127667, 0.213212, 0.0, 0.0, 0.0, 0.0, 0.0, 0.0, 0.0, 0.0], [-0.00364843, 0.0450554, -0.0519057, -0.0704467, 0.0112489, -0.0127667, 0.491482, 0.207827, 0.0, 0.0, 0.0, 0.0, 0.0, 0.0, 0.0, 0.0], [-0.00550121, 0.0403586, 0.0144448, -0.0314513, 0.0543564, 0.213212, 0.207827, 0.471866, 0.0, 0.0, 0.0, 0.0, 0.0, 0.0, 0.0, 0.0], [0.0, 0.0, 0.0, 0.0, 0.0, 0.0, 0.0, 0.0, 0.728459, 0.115646, 0.0648518, 0.0611695, -0.0394499, -0.0966939, -0.00535214, -0.0335824], [0.0, 0.0, 0.0, 0.0, 0.0, 0.0, 0.0, 0.0, 0.115646, 0.776273, -0.0652782, 0.0333578, 0.148959, 0.048864, 0.000796155, -0.0395267], [0.0, 0.0, 0.0, 0.0, 0.0, 0.0, 0.0, 0.0, 0.0648518, -0.0652782, 0.608283, 0.242128, 0.0686388, 0.274508, 0.032283, -0.0277663], [0.0, 0.0, 0.0, 0.0, 0.0, 0.0, 0.0, 0.0, 0.0611695, 0.0333578, 0.242128, 0.428414, 0.177864, -0.0376789, 0.0265998, -0.0477586], [0.0, 0.0, 0.0, 0.0, 0.0, 0.0, 0.0, 0.0, -0.0394499, 0.148959, 0.0686388, 0.177864, 0.349988, -0.141694, 0.010746, -0.0224817], [0.0, 0.0, 0.0, 0.0, 0.0, 0.0, 0.0, 0.0, -0.0966939, 0.048864, 0.274508, -0.0376789, -0.141694, 0.580015, 0.0119911, -0.0177845], [0.0, 0.0, 0.0, 0.0, 0.0, 0.0, 0.0, 0.0, -0.00535214, 0.000796155, 0.032283, 0.0265998, 0.010746, 0.0119911, 0.130117, 0.17634], [0.0, 0.0, 0.0, 0.0, 0.0, 0.0, 0.0, 0.0, -0.0335824, -0.0395267, -0.0277663, -0.0477586, -0.0224817, -0.0177845, 0.17634, 0.319605]]\n",
      "\n",
      "Prior Truth: \n",
      "[48.229261621194304, 123.92267405638782, 97.80040562611116, 63.64777415607595, 36.91722152879655, 21.995819175039006, 13.353879196897148, 28.823915111526446, 1570.0649435237137, 2040.4513667701708, 1319.0715219996614, 1007.6075477898764, 786.3071683075613, 573.6730277486463, 358.27851784386985, 753.7164773125105]\n",
      "\n",
      "Errors: \n",
      "[35.6698, 24.6298, 27.5755, 13.7479, 11.8307, 12.526, 6.16334, 8.27141, 308.697, 351.415, 425.946, 301.414, 172.286, 234.702, 300.342, 492.316]\n",
      "\n",
      "################################################################\n",
      "\n",
      "cov\n",
      "[[1272.34, 192.798, -255.721, 331.068, -235.566, 103.853, -18.1024, 21.8032, 2717.7, 2993.38, 1665.22, 1527.34, 1051.99, 394.343, 647.666, 547.246], [192.798, 606.625, 550.564, 226.503, 164.263, 165.399, 52.9048, 173.733, 792.723, 849.938, 164.364, 259.794, 234.35, -75.5304, 164.015, 174.065], [-255.721, 550.564, 760.407, 178.681, 208.557, 228.206, 26.0093, 199.856, -132.906, -175.944, -122.671, -108.053, -74.8661, -36.2398, -60.0184, -66.1536], [331.068, 226.503, 178.681, 189.005, -17.452, 121.051, -1.88531, 76.9393, 800.622, 881.012, 588.305, 507.775, 332.412, 170.596, 194.586, 150.333], [-235.566, 164.263, 208.557, -17.452, 139.966, -10.5902, 39.0781, 45.7487, -476.49, -515.646, -543.584, -398.629, -221.355, -231.526, -106.916, -42.9196], [103.853, 165.399, 228.206, 121.051, -10.5902, 156.901, -31.9507, 79.0991, 197.553, 212.287, 115.759, 103.828, 70.1587, 33.3689, 28.3517, 7.60194], [-18.1024, 52.9048, 26.0093, -1.88531, 39.0781, -31.9507, 37.9867, 10.1182, -63.0502, -66.3309, -199.218, -122.613, -52.4501, -109.745, -11.9803, 19.6261], [21.8032, 173.733, 199.856, 76.9393, 45.7487, 79.0991, 10.1182, 68.4162, 9.58376, 10.707, -140.625, -74.515, -22.6272, -87.3784, -5.78611, 12.1664], [2717.7, 792.723, -132.906, 800.622, -476.49, 197.553, -63.0502, 9.58376, 95293.9, 98358.5, 104626.0, 79802.7, 44076.9, 41982.0, 11905.1, -8218.8], [2993.38, 849.938, -175.944, 881.012, -515.646, 212.287, -66.3309, 10.707, 98358.5, 123492.0, 112968.0, 89253.7, 54551.5, 46913.2, 15320.8, -6253.95], [1665.22, 164.364, -122.671, 588.305, -543.584, 115.759, -199.218, -140.625, 104626.0, 112968.0, 181430.0, 122161.0, 59376.0, 90416.9, 16126.7, -16054.9], [1527.34, 259.794, -108.053, 507.775, -398.629, 103.828, -122.613, -74.515, 79802.7, 89253.7, 122161.0, 90850.1, 47673.8, 54826.7, 2874.84, -25661.2], [1051.99, 234.35, -74.8661, 332.412, -221.355, 70.1587, -52.4501, -22.6272, 44076.9, 54551.5, 59376.0, 47673.8, 29682.6, 21959.0, 6048.3, -5983.32], [394.343, -75.5304, -36.2398, 170.596, -231.526, 33.3689, -109.745, -87.3784, 41982.0, 46913.2, 90416.9, 54826.7, 21959.0, 55084.8, -31.0103, -19863.5], [647.666, 164.015, -60.0184, 194.586, -106.916, 28.3517, -11.9803, -5.78611, 11905.1, 15320.8, 16126.7, 2874.84, 6048.3, -31.0103, 90205.2, 142991.0], [547.246, 174.065, -66.1536, 150.333, -42.9196, 7.60194, 19.6261, 12.1664, -8218.8, -6253.95, -16054.9, -25661.2, -5983.32, -19863.5, 142991.0, 242375.0]]\n",
      "\n"
     ]
    }
   ],
   "source": [
    "with open('../blockwise/stv-analysis-new/blockwise_unsmeared_events_leptonMom_MC_ONLY_weighted_recoCut_incErr_nuWro_'+ending+'.csv') as file:\n",
    "    content = file.readlines()\n",
    "events = content[0:]\n",
    "    \n",
    "for i in range(16):\n",
    "    events[i]=events[i].rstrip().rstrip(',')\n",
    "    events[i] = float(events[i])\n",
    "    \n",
    "print(\"Unsmeared events\")\n",
    "print(events)\n",
    "print(\"\")\n",
    "\n",
    "nuWro_events = events\n",
    "\n",
    "#------------------------------------------------------------------------------\n",
    "with open('../blockwise/stv-analysis-new/blockwise_unsmeared_AC_leptonMom_MC_ONLY_weighted_recoCut_incErr_nuWro_'+ending+'.csv') as file:\n",
    "    content = file.readlines()\n",
    "AC = content[0:]\n",
    "    \n",
    "for i in range(256):\n",
    "    AC[i]=AC[i].rstrip().rstrip(',')\n",
    "    AC[i] = float(AC[i])\n",
    "    \n",
    "\n",
    "chunks = [AC[x:x+16] for x in range(0, len(AC), 16)]\n",
    "\n",
    "print(\"AC\")\n",
    "print(chunks)\n",
    "nuWro_Ac = chunks\n",
    "print(\"\")\n",
    "#---------------------------------------------------------------\n",
    "\n",
    "with open('nue_full_500_catsel_nopions_leptonMom_usingSelection_prior_true_signal_blockwise_recoCut_'+ending+'.csv') as file:\n",
    "    content = file.readlines()\n",
    "prior_true = content[0:]\n",
    "    \n",
    "for i in range(16):\n",
    "    prior_true[i]=prior_true[i].rstrip().rstrip(',')\n",
    "    prior_true[i] = float(prior_true[i])\n",
    "    \n",
    "print(\"Prior Truth: \")\n",
    "print(prior_true)\n",
    "print(\"\")\n",
    "\n",
    "#prior_true_nuWro = prior_true\n",
    "\n",
    "#----------------------------------------------------------------\n",
    "with open('../blockwise/stv-analysis-new/blockwise_unsmeared_errors_leptonMom_MC_ONLY_weighted_recoCut_incErr_nuWro_'+ending+'.csv') as file:\n",
    "    content = file.readlines()\n",
    "errs = content[0:]\n",
    "    \n",
    "for i in range(16):\n",
    "    errs[i]=errs[i].rstrip().rstrip(',')\n",
    "    errs[i] = float(errs[i])\n",
    "    \n",
    "print(\"Errors: \")\n",
    "print(errs)\n",
    "print(\"\")\n",
    "print(\"################################################################\")\n",
    "print(\"\")\n",
    "\n",
    "nuWro_errs = errs\n",
    "\n",
    "#----------------------------------------------------------------\n",
    "with open('../blockwise/stv-analysis-new/blockwise_unsmeared_cov_matrix_leptonMom_MC_ONLY_weighted_recoCut_incErr_nuWro_'+ending+'.csv') as file:\n",
    "    content = file.readlines()\n",
    "cov = content[0:]\n",
    "    \n",
    "for i in range(256):\n",
    "    cov[i]=cov[i].rstrip().rstrip(',')\n",
    "    cov[i] = float(cov[i])\n",
    "    \n",
    "\n",
    "chunks_cov = [cov[x:x+16] for x in range(0, len(cov), 16)]\n",
    "\n",
    "print(\"cov\")\n",
    "print(chunks_cov)\n",
    "print(\"\")"
   ]
  },
  {
   "cell_type": "code",
   "execution_count": 4,
   "id": "fd3ecb2c",
   "metadata": {},
   "outputs": [
    {
     "name": "stdout",
     "output_type": "stream",
     "text": [
      "['16\\n', '0  0\\n', '1  0\\n', '2  0\\n', '3  0\\n', '4  0\\n', '5  0\\n', '6  0\\n', '7  0\\n', '8  1\\n', '9  1\\n', '10 1\\n', '11 1\\n', '12 1\\n', '13 1\\n', '14 1\\n', '15 1\\n', '16\\n', '0  0\\n', '1  0\\n', '2  0\\n', '3  0\\n', '4  0\\n', '5  0\\n', '6  0\\n', '7  0\\n', '8  1\\n', '9  1\\n', '10 1\\n', '11 1\\n', '12 1\\n', '13 1\\n', '14 1\\n', '15 1\\n']\n"
     ]
    }
   ],
   "source": [
    "with open('../blockwise/stv-analysis-new/blocks_16.txt') as file:\n",
    "    content = file.readlines()\n",
    "blocks = content[0:]\n",
    "\n",
    "print(blocks)"
   ]
  },
  {
   "cell_type": "code",
   "execution_count": 5,
   "id": "e3ffe599",
   "metadata": {},
   "outputs": [
    {
     "name": "stdout",
     "output_type": "stream",
     "text": [
      "Prior_Truth x AC: \n",
      "[  27.81308122  105.61487929  100.44075804   45.13504135   33.72864041\n",
      "   23.38458339    8.53529357   27.21971043 1413.15740333 1828.67679919\n",
      " 1217.05073177 1006.93644833  692.57856584  484.2346904   257.46417035\n",
      "   58.06385931]\n",
      "\n",
      "\n",
      "Unfolding Done with MC Data Signal: \n",
      "[38.4694, 119.631, 86.7841, 34.7527, 43.0468, 6.17116, 15.1862, 20.4708, 1717.03, 1517.81, 1426.14, 928.461, 679.424, 280.918, 2710.05, 3133.47]\n",
      "\n",
      "\n",
      "Difference\n",
      "[  -10.65631878   -14.01612071    13.65665804    10.38234135\n",
      "    -9.31815959    17.21342339    -6.65090643     6.74891043\n",
      "  -303.87259667   310.86679919  -209.08926823    78.47544833\n",
      "    13.15456584   203.3166904  -2452.58582965 -3075.40614069]\n",
      "\n",
      "[-3.83140534e+01 -1.32709717e+01  1.35967294e+01  2.30028400e+01\n",
      " -2.76268462e+01  7.36101349e+01 -7.79224098e+01  2.47942036e+01\n",
      " -2.15030963e+01  1.69995485e+01 -1.71799961e+01  7.79348572e+00\n",
      "  1.89936081e+00  4.19872212e+01 -9.52593064e+02 -5.29659271e+03]\n"
     ]
    }
   ],
   "source": [
    "\n",
    "made_data_sig = np.dot(prior_true, chunks)\n",
    "print(\"Prior_Truth x AC: \")\n",
    "print(made_data_sig)\n",
    "print(\"\")\n",
    "print(\"\")\n",
    "print(\"Unfolding Done with MC Data Signal: \")\n",
    "print(events)\n",
    "print(\"\")\n",
    "\n",
    "diff = made_data_sig - events\n",
    "print(\"\")\n",
    "print(\"Difference\")\n",
    "print(diff)\n",
    "\n",
    "#for i in made_data_sig:\n",
    "#    print(i)\n",
    "\n",
    "print(\"\")\n",
    "diffasfrac = np.nan_to_num(diff/made_data_sig)\n",
    "print(diffasfrac*100)"
   ]
  },
  {
   "cell_type": "code",
   "execution_count": 6,
   "id": "5979c327",
   "metadata": {},
   "outputs": [
    {
     "data": {
      "image/png": "[encoded data removed]",
      "text/plain": [
       "<Figure size 432x288 with 1 Axes>"
      ]
     },
     "metadata": {
      "needs_background": "light"
     },
     "output_type": "display_data"
    },
    {
     "data": {
      "image/png": "[encoded data removed]",
      "text/plain": [
       "<Figure size 432x288 with 1 Axes>"
      ]
     },
     "metadata": {
      "needs_background": "light"
     },
     "output_type": "display_data"
    },
    {
     "data": {
      "image/png": "[encoded data removed]",
      "text/plain": [
       "<Figure size 432x288 with 1 Axes>"
      ]
     },
     "metadata": {
      "needs_background": "light"
     },
     "output_type": "display_data"
    }
   ],
   "source": [
    "import random\n",
    "import numpy\n",
    "from matplotlib import pyplot\n",
    "\n",
    "bins = np.arange(0, 17, 1)\n",
    "count = np.arange(0.0, 16.0, 1)\n",
    "\n",
    "pyplot.hist(count, bins, weights=made_data_sig, alpha=0.5, label='Prior_Truth x AC')\n",
    "pyplot.hist(count, bins, weights=events, alpha=0.5, label='Unfolding Done with MC Data Signal')\n",
    "pyplot.legend(loc='upper right')\n",
    "pyplot.xlabel(\"Bin Number\")\n",
    "pyplot.ylabel(\"Count\")\n",
    "pyplot.show()\n",
    "\n",
    "pyplot.hist(count, bins, weights=diff, alpha=0.5, label='Difference')\n",
    "pyplot.legend(loc='upper right')\n",
    "pyplot.xlabel(\"Bin Number\")\n",
    "pyplot.ylabel(\"Count\")\n",
    "pyplot.show()\n",
    "\n",
    "\n",
    "pyplot.hist(count, bins, weights=diffasfrac, alpha=0.5, label='Fractional Difference')\n",
    "pyplot.legend(loc='upper right')\n",
    "pyplot.xlabel(\"Bin Number\")\n",
    "pyplot.ylabel(\"Fractional Difference\")\n",
    "pyplot.show()"
   ]
  },
  {
   "cell_type": "code",
   "execution_count": 7,
   "id": "c2787afc",
   "metadata": {},
   "outputs": [
    {
     "data": {
      "image/png": "[encoded data removed]",
      "text/plain": [
       "<Figure size 720x432 with 1 Axes>"
      ]
     },
     "metadata": {
      "needs_background": "light"
     },
     "output_type": "display_data"
    }
   ],
   "source": [
    "fig = plt.figure(figsize=(10, 6))\n",
    "\n",
    "pyplot.hist(count, bins, weights=made_data_sig, alpha=0.5, label='Prior_Truth x AC')\n",
    "pyplot.hist(count, bins, weights=events, alpha=0.5, label='Unfolding Done with MC Data Signal')\n",
    "pyplot.legend(loc='upper left')\n",
    "pyplot.xlabel(\"Bin Number\")\n",
    "pyplot.ylabel(\"Count\")\n",
    "pyplot.title(\"GENIE Closure Test - Neutrino Energy\")\n",
    "pyplot.show()\n",
    "\n",
    "fig.savefig(\"nuWro_fakeData_closure_test_lepton_\"+ending+\".svg\",bbox_inches='tight' )"
   ]
  },
  {
   "cell_type": "code",
   "execution_count": 8,
   "id": "519c5df0",
   "metadata": {},
   "outputs": [
    {
     "data": {
      "image/png": "[encoded data removed]",
      "text/plain": [
       "<Figure size 720x432 with 1 Axes>"
      ]
     },
     "metadata": {
      "needs_background": "light"
     },
     "output_type": "display_data"
    }
   ],
   "source": [
    "fig = plt.figure(figsize=(10, 6))\n",
    "\n",
    "pyplot.hist(count, bins, weights=diff, alpha=0.5)\n",
    "#pyplot.legend(loc='upper right')\n",
    "pyplot.xlabel(\"Bin Number\")\n",
    "pyplot.ylabel(\"Difference\")\n",
    "pyplot.title(\"GENIE Closure Test - Difference\")\n",
    "pyplot.show()\n",
    "\n",
    "fig.savefig(\"nuWro_fakeData_closure_test_diff_lepton_\"+ending+\".svg\",bbox_inches='tight' )"
   ]
  },
  {
   "cell_type": "code",
   "execution_count": 9,
   "id": "f2105818",
   "metadata": {},
   "outputs": [
    {
     "data": {
      "image/png": "[encoded data removed]",
      "text/plain": [
       "<Figure size 720x432 with 2 Axes>"
      ]
     },
     "metadata": {
      "needs_background": "light"
     },
     "output_type": "display_data"
    }
   ],
   "source": [
    "fig = plt.figure(figsize=(10, 6))  \n",
    "    \n",
    "plt.pcolor(bins, bins, chunks, cmap='OrRd', edgecolors='k')#, vmin=-1, vmax=1)\n",
    "            \n",
    "cbar = plt.colorbar()\n",
    "cbar.ax.tick_params(labelsize=14)\n",
    "#cbar.set_label(r\"Log (Power)\", size=15)\n",
    "\n",
    "plt.xlabel('Bin Number', fontsize=15)\n",
    "plt.ylabel('Bin Number', fontsize=15)\n",
    "\n",
    "plt.title('Additional Smearing Matrix', fontsize=15)\n",
    "\n",
    "plt.show()\n",
    "\n",
    "fig.savefig(\"nuWro_fakeData_closure_test_Ac_lepton_\"+ending+\".svg\",bbox_inches='tight' )"
   ]
  },
  {
   "cell_type": "code",
   "execution_count": 10,
   "id": "5c56fce6",
   "metadata": {},
   "outputs": [
    {
     "data": {
      "image/png": "[encoded data removed]",
      "text/plain": [
       "<Figure size 720x432 with 2 Axes>"
      ]
     },
     "metadata": {
      "needs_background": "light"
     },
     "output_type": "display_data"
    }
   ],
   "source": [
    "fig = plt.figure(figsize=(10, 6))  \n",
    "\n",
    "#print(bins)\n",
    "bins = np.arange(0, 17, 1)\n",
    "count = np.arange(0.0, 16.0, 1)\n",
    "    \n",
    "plt.pcolor(bins, bins, (chunks_cov), cmap='OrRd', edgecolors='k')#, vmin=-1, vmax=1)\n",
    "            \n",
    "cbar = plt.colorbar()\n",
    "cbar.ax.tick_params(labelsize=14)\n",
    "#cbar.set_label(r\"Log (Power)\", size=15)\n",
    "\n",
    "plt.xlabel('Bin Number', fontsize=15)\n",
    "plt.ylabel('Bin Number', fontsize=15)\n",
    "\n",
    "plt.title(' Log Covariance Matrix', fontsize=15)\n",
    "\n",
    "plt.show()"
   ]
  },
  {
   "cell_type": "code",
   "execution_count": 11,
   "id": "9649d9f1",
   "metadata": {},
   "outputs": [
    {
     "name": "stdout",
     "output_type": "stream",
     "text": [
      "[1.27234e+03 6.06625e+02 7.60407e+02 1.89005e+02 1.39966e+02 1.56901e+02\n",
      " 3.79867e+01 6.84162e+01 9.52939e+04 1.23492e+05 1.81430e+05 9.08501e+04\n",
      " 2.96826e+04 5.50848e+04 9.02052e+04 2.42375e+05]\n",
      "\n",
      "[ 35.66987525  24.62975842  27.57547824  13.74790893  11.83072272\n",
      "  12.52601293   6.16333514   8.27140859 308.69710073 351.41428542\n",
      " 425.94600597 301.41350335 172.28638948 234.70151256 300.34180528\n",
      " 492.31595546]\n"
     ]
    }
   ],
   "source": [
    "test = np.diag(chunks_cov)\n",
    "print(test)\n",
    "print(\"\")\n",
    "print(np.sqrt(test))"
   ]
  },
  {
   "cell_type": "code",
   "execution_count": 12,
   "id": "0056ab73",
   "metadata": {},
   "outputs": [
    {
     "name": "stdout",
     "output_type": "stream",
     "text": [
      "Dec19\n"
     ]
    }
   ],
   "source": [
    "np.savetxt(\"data_covmat_MC_nuWro_chi2_leptonMom_comb_\"+ending+\".csv\", \n",
    "           chunks_cov,\n",
    "           delimiter =\", \", \n",
    "           fmt ='% s')\n",
    "\n",
    "print(ending)"
   ]
  },
  {
   "cell_type": "markdown",
   "id": "b2be1cc9",
   "metadata": {},
   "source": [
    "## Convert to xsec units - uneeded right now"
   ]
  },
  {
   "cell_type": "markdown",
   "id": "c0d972a5",
   "metadata": {},
   "source": [
    "###################\n",
    "### #N argon target calculation\n",
    "###################\n",
    "\n",
    "density = 1.3836  #g/cm^3\n",
    "volume = (246-10)*(106-(-106))*(1026-10)         #cm^3\n",
    "NA = 6.022E23   #atoms/mol\n",
    "Nnuc = 40       #nucleans / atom\n",
    "mmol = 39.95    #g/mol\n",
    "\n",
    "Narg = (density * volume * NA * Nnuc)/mmol   #nucleons\n",
    "\n",
    "print(\"number of argon targets = \", Narg)"
   ]
  },
  {
   "cell_type": "markdown",
   "id": "0cae4282",
   "metadata": {},
   "source": [
    "#Need R1 AND R3\n",
    "\n",
    "####NUE\n",
    "POT_R1 = 2.0E20 \n",
    "int_flux_per_POT_R1 = 1.1864530596659353e-11\n",
    "POT_R3 = 5.014E20\n",
    "int_flux_per_POT_R3 = 8.628376225834778e-12\n",
    "\n",
    "int_flux = (int_flux_per_POT_R1*POT_R1) + (int_flux_per_POT_R3*POT_R3)    #cm^-2\n",
    "\n",
    "print(\"Nue integrated flux: \", int_flux)\n",
    "\n",
    "####NUMU\n",
    "\n",
    "POT_numu_R1 = 2.0E20 \n",
    "int_flux_per_POT_numu_R1 = 5.455771063338641e-10\n",
    "POT_numu_R3 = 5.014E20 \n",
    "int_flux_per_POT_numu_R3 = 3.6729003479115414e-10\n",
    "\n",
    "int_flux_numu = (int_flux_per_POT_numu_R1*POT_numu_R1) + (int_flux_per_POT_numu_R3*POT_numu_R3)    #cm^-2\n",
    "\n",
    "print(\"Numu integrated flux: \", int_flux_numu)"
   ]
  },
  {
   "cell_type": "markdown",
   "id": "76072d85",
   "metadata": {},
   "source": [
    "nue_events = np.array(events[0:10])\n",
    "numu_events = np.array(events[10:20])\n",
    "\n",
    "nue_errs = np.array(errs[0:10])\n",
    "numu_errs = np.array(errs[10:20])"
   ]
  },
  {
   "cell_type": "markdown",
   "id": "277a03a3",
   "metadata": {},
   "source": [
    "#number of events\n",
    "\n",
    "xsec_nue_events = nue_events / (int_flux * Narg )     \n",
    "xsec_numu_events = numu_events / (int_flux_numu * Narg )     \n"
   ]
  },
  {
   "cell_type": "markdown",
   "id": "40299080",
   "metadata": {},
   "source": [
    "#Need the four sections of the cov matrix\n",
    "\n",
    "blockwise_errs = chunks_cov\n",
    "#print(blockwise_errs)\n",
    "#print(\"\")\n",
    "\n",
    "#NUE ONLY\n",
    "bot_left = blockwise_errs[:10]\n",
    "for i in range(len(bot_left)):\n",
    "    bot_left[i] = bot_left[i][:10]\n",
    "    \n",
    "nue_errs_bot = np.array(bot_left)/((int_flux*int_flux)*(Narg*Narg))\n",
    "xsec_nue_errs = (np.sqrt(np.diag(nue_errs_bot)))\n",
    "    \n",
    "#MIX\n",
    "bot_right = blockwise_errs[:10]\n",
    "for i in range(len(bot_right)):\n",
    "    bot_right[i] = bot_right[i][10:]\n",
    "    \n",
    "mix_errs_bot = np.array(bot_right)/((int_flux*int_flux_numu)*(Narg*Narg))\n",
    "xsec_botmix_errs = np.nan_to_num(np.sqrt(np.diag(mix_errs_bot)))\n",
    "\n",
    "    \n",
    "#MIX\n",
    "top_left = blockwise_errs[10:]\n",
    "for i in range(len(top_left)):\n",
    "    top_left[i] = top_left[i][:10]\n",
    "    \n",
    "mix_errs_top = np.array(top_left)/((int_flux*int_flux_numu)*(Narg*Narg))\n",
    "xsec_topmix_errs = np.nan_to_num(np.sqrt(np.diag(mix_errs_top)))\n",
    "\n",
    "#NUMU ONLY\n",
    "top_right = blockwise_errs[10:]\n",
    "for i in range(len(top_right)):\n",
    "    top_right[i] = top_right[i][10:]\n",
    "    \n",
    "numu_errs_top = np.array(top_right)/((int_flux_numu*int_flux_numu)*(Narg*Narg))\n",
    "xsec_numu_errs = (np.sqrt(np.diag(numu_errs_top)))\n"
   ]
  },
  {
   "cell_type": "markdown",
   "id": "2c7dc4d3",
   "metadata": {},
   "source": [
    "### Calculate ratio uncertainties\n",
    "\n",
    "xsec_ratio_events = np.nan_to_num(xsec_nue_events/xsec_numu_events)\n",
    "print(\"Ratio event counts: \", xsec_ratio_events)\n",
    "print(\"\")\n",
    "\n",
    "#####################\n",
    "\n",
    "ratio_sq = (xsec_nue_events/xsec_numu_events)*(xsec_nue_events/xsec_numu_events)\n",
    "print(\"ratio_sq: \", ratio_sq)\n",
    "print(\"\")\n",
    "nue_term = (xsec_nue_errs*xsec_nue_errs)/(xsec_nue_events*xsec_nue_events)\n",
    "print(\"nue: \", nue_term)\n",
    "print(\"\")\n",
    "numu_term = (xsec_numu_errs*xsec_numu_errs)/(xsec_numu_events*xsec_numu_events)\n",
    "print(\"numu: \", numu_term)\n",
    "print(\"\")\n",
    "mix_1 = (xsec_botmix_errs*xsec_botmix_errs)/(xsec_numu_events*xsec_nue_events)\n",
    "print(\"mix: \", mix_1)\n",
    "print(\"\")\n",
    "mix_2 = (xsec_topmix_errs*xsec_topmix_errs)/(xsec_numu_events*xsec_nue_events)\n",
    "print(\"mix: \", mix_2)\n",
    "print(\"\")\n",
    "\n",
    "ratio_var_errs = ratio_sq*(nue_term + numu_term - mix_1 - mix_2)\n",
    "print(ratio_var_errs)\n",
    "xsec_ratio_errs = np.nan_to_num(np.sqrt(abs(ratio_var_errs)))\n",
    "print(\"Ratio errs: \", xsec_ratio_errs)"
   ]
  },
  {
   "cell_type": "markdown",
   "id": "64f9929b",
   "metadata": {},
   "source": [
    "print(xsec_nue_events)\n",
    "print(\"\")\n",
    "print(xsec_numu_events)\n",
    "print(\"\")\n",
    "print(xsec_nue_errs)\n",
    "print(\"\")\n",
    "print(xsec_numu_errs)"
   ]
  },
  {
   "cell_type": "markdown",
   "id": "6b108268",
   "metadata": {},
   "source": [
    "import random\n",
    "import numpy\n",
    "from matplotlib import pyplot\n",
    "\"\"\"\n",
    "bins = np.arange(0, 5.5, 0.5)\n",
    "count = np.arange(0.1, 5.1, 0.5)\n",
    "print(count)\n",
    "\n",
    "plt.ylim(0, 5E-39)\n",
    "\n",
    "plt.xlabel(\"Energy [GeV]\")\n",
    "plt.ylabel(\"xsec [cm^2]\")\n",
    "\n",
    "pyplot.hist(count, bins, weights=xsec_nue_events, alpha=0.5)\n",
    "#pyplot.legend(loc='upper right')\n",
    "pyplot.show()\n",
    "\"\"\"\n",
    "\n",
    "nue_fig = plt.figure(figsize=(8, 7))\n",
    "nue_gs = gridspec.GridSpec(2, 1, height_ratios=[2, 1])\n",
    "nue_ax1 = plt.subplot(nue_gs[0])\n",
    "nue_ax1.set_xlim([-1, 1])\n",
    "\n",
    "bins = np.arange(-1.0, 1.2, 0.2)\n",
    "bincenters = np.arange(-0.9, 1.1, 0.2)\n",
    "bin_edges = np.arange(-1.0, 1.2, 0.2)\n",
    "bin_size = [(bin_edges[i + 1] - bin_edges[i]) / 2\n",
    "            for i in range(len(bin_edges) - 1)]\n",
    "count = np.arange(-0.95, 1.05, 0.2)\n",
    "weights = []\n",
    "for i in range(len(count)):\n",
    "    weight = count[i]*xsec_nue_events[i]\n",
    "    weights.append(weight)\n",
    "\n",
    "sel = nue_ax1.hist(count, bins, color='deepskyblue', weights=xsec_nue_events)\n",
    "plt.ylim(0, 1E-39)\n",
    "nue_ax1.set_xlabel('cos(Lepton Angle)', fontsize=15)\n",
    "nue_ax1.set_ylabel('xsec [cm^2 / GeV / nucleon]', fontsize=15)\n",
    "nue_ax1.set_title(\"Unfolded Nue cos(Lepton Angle)\")\n",
    "\n",
    "lower_err = np.nan_to_num(xsec_nue_events-xsec_nue_errs)\n",
    "\n",
    "nue_ax1.bar(bincenters, xsec_nue_errs*2,width=[n*2 for n in bin_size],facecolor='tab:green',alpha=0.2,bottom=(lower_err))\n",
    "\n",
    "nuWro_xsec_nue_events = xsec_nue_events\n",
    "nuWro_xsec_nue_errs = xsec_nue_errs\n",
    "nuWro_lower_err = lower_err\n",
    "\n",
    "nue_fig.savefig(\"unfolded_nuWro_fakeData_MC_nue_angle_\"+ending+\".svg\",bbox_inches='tight' )"
   ]
  },
  {
   "cell_type": "markdown",
   "id": "252f47b4",
   "metadata": {},
   "source": [
    "import random\n",
    "import numpy\n",
    "from matplotlib import pyplot\n",
    "\n",
    "numu_fig = plt.figure(figsize=(8, 7))\n",
    "numu_gs = gridspec.GridSpec(2, 1, height_ratios=[2, 1])\n",
    "numu_ax1 = plt.subplot(numu_gs[0])\n",
    "numu_ax1.set_xlim([-1, 1])\n",
    "\n",
    "bins = np.arange(-1.0, 1.2, 0.2)\n",
    "bincenters = np.arange(-0.9, 1.1, 0.2)\n",
    "bin_edges = np.arange(-1.0, 1.2, 0.2)\n",
    "bin_size = [(bin_edges[i + 1] - bin_edges[i]) / 2\n",
    "            for i in range(len(bin_edges) - 1)]\n",
    "count = np.arange(-0.95, 1.05, 0.2)\n",
    "weights = []\n",
    "for i in range(len(count)):\n",
    "    weight = count[i]*xsec_numu_events[i]\n",
    "    weights.append(weight)\n",
    "\n",
    "sel = numu_ax1.hist(count, bins, color='deepskyblue', weights=xsec_numu_events)\n",
    "plt.ylim(0, 4E-40)\n",
    "numu_ax1.set_xlabel('cos(Lepton Angle)', fontsize=15)\n",
    "numu_ax1.set_ylabel('xsec [cm^2 / GeV / nucleon]', fontsize=15)\n",
    "numu_ax1.set_title(\"Unfolded Numu cos(Lepton Angle)\")\n",
    "\n",
    "lower_err = np.nan_to_num(xsec_numu_events-xsec_numu_errs)\n",
    "\n",
    "numu_ax1.bar(bincenters, xsec_numu_errs*2,width=[n*2 for n in bin_size],facecolor='tab:green',alpha=0.2,bottom=(lower_err))\n",
    "\n",
    "nuWro_xsec_numu_events = xsec_numu_events\n",
    "nuWro_xsec_numu_errs = xsec_numu_errs\n",
    "nuWro_lower_err_numu = lower_err\n",
    "\n",
    "numu_fig.savefig(\"unfolded_nuWro_fakeData_MC_numu_angle_\"+ending+\".svg\",bbox_inches='tight' )"
   ]
  },
  {
   "cell_type": "markdown",
   "id": "3fcd0604",
   "metadata": {},
   "source": [
    "import random\n",
    "import numpy\n",
    "from matplotlib import pyplot\n",
    "\n",
    "bins = np.arange(-1.0, 1.2, 0.2)\n",
    "count = np.arange(-0.95, 1.05, 0.2)\n",
    "#print(count)\n",
    "\n",
    "plt.ylim(0, 5)\n",
    "plt.xlabel(\"cos(Lepton Angle)\")\n",
    "plt.ylabel(\"xsec [cm^2 / GeV / nucleon]\")\n",
    "\n",
    "print(xsec_nue_events/xsec_numu_events)\n",
    "print(xsec_ratio_events)\n",
    "\n",
    "pyplot.hist(count, bins, weights=np.nan_to_num(xsec_nue_events/xsec_numu_events), alpha=0.5)\n",
    "pyplot.hist(count, bins, weights=xsec_ratio_events, alpha=0.5)\n",
    "\n",
    "#pyplot.legend(loc='upper right')\n",
    "pyplot.show()"
   ]
  },
  {
   "cell_type": "markdown",
   "id": "8102bf77",
   "metadata": {},
   "source": [
    "import random\n",
    "import numpy\n",
    "from matplotlib import pyplot\n",
    "\n",
    "\n",
    "ratio_fig = plt.figure(figsize=(8, 7))\n",
    "ratio_gs = gridspec.GridSpec(2, 1, height_ratios=[2, 1])\n",
    "ratio_ax1 = plt.subplot(ratio_gs[0])\n",
    "ratio_ax1.set_xlim([-1, 1])\n",
    "\n",
    "bins = np.arange(-1.0, 1.2, 0.2)\n",
    "bincenters = np.arange(-0.9, 1.1, 0.2)\n",
    "bin_edges = np.arange(-1.0, 1.2, 0.2)\n",
    "bin_size = [(bin_edges[i + 1] - bin_edges[i]) / 2\n",
    "            for i in range(len(bin_edges) - 1)]\n",
    "count = np.arange(-0.95, 1.05, 0.2)\n",
    "#print(len(count))\n",
    "#weights = []\n",
    "#for i in range(len(count)):\n",
    "#    weight = count[i]*xsec_ratio_events[i]\n",
    "#    weights.append(weight)\n",
    "#test_weights = [(random.random()/random.random() - 0.75) for x in range(len(count))]\n",
    "#print(count)\n",
    "#xsec_ratio_events[7] = 0\n",
    "#print(xsec_ratio_events)\n",
    "print(\"\")\n",
    "sel = ratio_ax1.hist(count, bins, color='deepskyblue', weights=xsec_ratio_events)  # , weights=xsec_ratio_events\n",
    "print(sel[0])\n",
    "\n",
    "plt.ylim(0, 6)\n",
    "ratio_ax1.set_xlabel('cos(Lepton Angle)', fontsize=15)\n",
    "ratio_ax1.set_ylabel('Ratio', fontsize=15)\n",
    "ratio_ax1.set_title(\"Unfolded Ratio cos(Lepton Angle)\")\n",
    "\n",
    "lower_err = np.nan_to_num(xsec_ratio_events-xsec_ratio_errs)\n",
    "\n",
    "ratio_ax1.bar(bincenters, xsec_ratio_errs*2,width=[n*2 for n in bin_size],facecolor='tab:green',alpha=0.2,bottom=(lower_err))\n",
    "\n",
    "nuWro_xsec_ratio_events = xsec_ratio_events\n",
    "nuWro_xsec_ratio_errs = xsec_ratio_errs\n",
    "nuWro_lower_err_ratio = lower_err\n",
    "\n",
    "ratio_fig.savefig(\"unfolded_nuWro_fakeData_MC_ratio_angle_\"+ending+\".svg\",bbox_inches='tight' )"
   ]
  },
  {
   "cell_type": "code",
   "execution_count": null,
   "id": "83c0ada2",
   "metadata": {},
   "outputs": [],
   "source": []
  },
  {
   "cell_type": "markdown",
   "id": "7a1981a2",
   "metadata": {},
   "source": [
    "## Now do the same with RUN1 genie unfolding - unneeded"
   ]
  },
  {
   "cell_type": "markdown",
   "id": "a26da3ee",
   "metadata": {},
   "source": [
    "with open('../blockwise/stv-analysis-new/blockwise_unsmeared_events_angle_MC_ONLY_weighted_recoCut_incErr_run1_'+ending+'.csv') as file:\n",
    "    content = file.readlines()\n",
    "events = content[0:]\n",
    "    \n",
    "for i in range(20):\n",
    "    events[i]=events[i].rstrip().rstrip(',')\n",
    "    events[i] = float(events[i])\n",
    "    \n",
    "print(\"Unsmeared events\")\n",
    "print(events)\n",
    "print(\"\")\n",
    "\n",
    "genie_events = events\n",
    "\n",
    "#------------------------------------------------------------------------------\n",
    "with open('../blockwise/stv-analysis-new/blockwise_unsmeared_AC_angle_MC_ONLY_weighted_recoCut_incErr_run1_'+ending+'.csv') as file:\n",
    "    content = file.readlines()\n",
    "AC = content[0:]\n",
    "    \n",
    "for i in range(400):\n",
    "    AC[i]=AC[i].rstrip().rstrip(',')\n",
    "    AC[i] = float(AC[i])\n",
    "    \n",
    "\n",
    "chunks = [AC[x:x+20] for x in range(0, len(AC), 20)]\n",
    "\n",
    "print(\"AC\")\n",
    "print(chunks)\n",
    "print(\"\")\n",
    "#---------------------------------------------------------------\n",
    "\n",
    "with open('nue_full_500_catsel_nopions_angleDiff_usingSelection_prior_true_signal_blockwise_recoCut_'+ending+'.csv') as file:\n",
    "    content = file.readlines()\n",
    "prior_true = content[0:]\n",
    "    \n",
    "for i in range(20):\n",
    "    prior_true[i]=prior_true[i].rstrip().rstrip(',')\n",
    "    prior_true[i] = float(prior_true[i])\n",
    "    \n",
    "print(\"Prior Truth: \")\n",
    "print(prior_true)\n",
    "print(\"\")\n",
    "\n",
    "#----------------------------------------------------------------\n",
    "with open('../blockwise/stv-analysis-new/blockwise_unsmeared_errors_angle_MC_ONLY_weighted_recoCut_incErr_run1_'+ending+'.csv') as file:\n",
    "    content = file.readlines()\n",
    "errs = content[0:]\n",
    "    \n",
    "for i in range(20):\n",
    "    errs[i]=errs[i].rstrip().rstrip(',')\n",
    "    errs[i] = float(errs[i])\n",
    "    \n",
    "print(\"Errors: \")\n",
    "print(errs)\n",
    "print(\"\")\n",
    "print(\"################################################################\")\n",
    "print(\"\")\n",
    "\n",
    "genie_errors = errs\n",
    "\n",
    "#----------------------------------------------------------------\n",
    "with open('../blockwise/stv-analysis-new/blockwise_unsmeared_cov_matrix_angle_MC_ONLY_weighted_recoCut_incErr_run1_'+ending+'.csv') as file:\n",
    "    content = file.readlines()\n",
    "cov = content[0:]\n",
    "    \n",
    "for i in range(400):\n",
    "    cov[i]=cov[i].rstrip().rstrip(',')\n",
    "    cov[i] = float(cov[i])\n",
    "    \n",
    "\n",
    "chunks_cov = [cov[x:x+20] for x in range(0, len(cov), 20)]\n",
    "\n",
    "print(\"cov\")\n",
    "print(chunks_cov)\n",
    "print(\"\")"
   ]
  },
  {
   "cell_type": "markdown",
   "id": "acae384a",
   "metadata": {},
   "source": [
    "\n",
    "made_data_sig = np.dot(prior_true, chunks)\n",
    "print(\"Prior_Truth x AC: \")\n",
    "print(made_data_sig)\n",
    "print(\"\")\n",
    "print(\"\")\n",
    "print(\"Unfolding Done with MC Data Signal: \")\n",
    "print(events)\n",
    "print(\"\")\n",
    "\n",
    "diff = made_data_sig - events\n",
    "print(\"\")\n",
    "print(\"Difference\")\n",
    "print(diff)\n",
    "\n",
    "#for i in made_data_sig:\n",
    "#    print(i)\n",
    "\n",
    "print(\"\")\n",
    "diffasfrac = np.nan_to_num(diff/made_data_sig)\n",
    "print(diffasfrac*100)"
   ]
  },
  {
   "cell_type": "markdown",
   "id": "0b0a3531",
   "metadata": {},
   "source": [
    "Convert to xsec units"
   ]
  },
  {
   "cell_type": "markdown",
   "id": "2ed940bd",
   "metadata": {},
   "source": [
    "###################\n",
    "### #N argon target calculation\n",
    "###################\n",
    "\n",
    "density = 1.3836  #g/cm^3\n",
    "volume = (246-10)*(106-(-106))*(1026-10)         #cm^3\n",
    "NA = 6.022E23   #atoms/mol\n",
    "Nnuc = 40       #nucleans / atom\n",
    "mmol = 39.95    #g/mol\n",
    "\n",
    "Narg = (density * volume * NA * Nnuc)/mmol   #nucleons\n",
    "\n",
    "print(\"number of argon targets = \", Narg)"
   ]
  },
  {
   "cell_type": "markdown",
   "id": "46665f59",
   "metadata": {},
   "source": [
    "#Need R1 AND R3\n",
    "\n",
    "####NUE\n",
    "POT_R1 = 2.0E20 \n",
    "int_flux_per_POT_R1 = 1.1864530596659353e-11\n",
    "POT_R3 = 5.014E20\n",
    "int_flux_per_POT_R3 = 8.628376225834778e-12\n",
    "\n",
    "int_flux = (int_flux_per_POT_R1*POT_R1) + (int_flux_per_POT_R3*POT_R3)    #cm^-2\n",
    "\n",
    "print(\"Nue integrated flux: \", int_flux)\n",
    "\n",
    "####NUMU\n",
    "\n",
    "POT_numu_R1 = 2.0E20 \n",
    "int_flux_per_POT_numu_R1 = 5.455771063338641e-10\n",
    "POT_numu_R3 = 5.014E20 \n",
    "int_flux_per_POT_numu_R3 = 3.6729003479115414e-10\n",
    "\n",
    "int_flux_numu = (int_flux_per_POT_numu_R1*POT_numu_R1) + (int_flux_per_POT_numu_R3*POT_numu_R3)    #cm^-2\n",
    "\n",
    "print(\"Numu integrated flux: \", int_flux_numu)"
   ]
  },
  {
   "cell_type": "markdown",
   "id": "6c429b12",
   "metadata": {},
   "source": [
    "nue_events = np.array(events[0:10])\n",
    "numu_events = np.array(events[10:20])\n",
    "\n",
    "nue_errs = np.array(errs[0:10])\n",
    "numu_errs = np.array(errs[10:20])"
   ]
  },
  {
   "cell_type": "markdown",
   "id": "ead4bc15",
   "metadata": {},
   "source": [
    "#number of events\n",
    "\n",
    "xsec_nue_events = nue_events / (int_flux * Narg )     \n",
    "xsec_numu_events = numu_events / (int_flux_numu * Narg )     \n"
   ]
  },
  {
   "cell_type": "markdown",
   "id": "872883f8",
   "metadata": {},
   "source": [
    "#Need the four sections of the cov matrix\n",
    "\n",
    "blockwise_errs = chunks_cov\n",
    "#print(blockwise_errs)\n",
    "#print(\"\")\n",
    "\n",
    "#NUE ONLY\n",
    "bot_left = blockwise_errs[:10]\n",
    "for i in range(len(bot_left)):\n",
    "    bot_left[i] = bot_left[i][:10]\n",
    "    \n",
    "nue_errs_bot = np.array(bot_left)/((int_flux*int_flux)*(Narg*Narg))\n",
    "xsec_nue_errs = (np.sqrt(np.diag(nue_errs_bot)))\n",
    "    \n",
    "#MIX\n",
    "bot_right = blockwise_errs[:10]\n",
    "for i in range(len(bot_right)):\n",
    "    bot_right[i] = bot_right[i][10:]\n",
    "    \n",
    "mix_errs_bot = np.array(bot_right)/((int_flux*int_flux_numu)*(Narg*Narg))\n",
    "xsec_botmix_errs = np.nan_to_num(np.sqrt(np.diag(mix_errs_bot)))\n",
    "\n",
    "    \n",
    "#MIX\n",
    "top_left = blockwise_errs[10:]\n",
    "for i in range(len(top_left)):\n",
    "    top_left[i] = top_left[i][:10]\n",
    "    \n",
    "mix_errs_top = np.array(top_left)/((int_flux*int_flux_numu)*(Narg*Narg))\n",
    "xsec_topmix_errs = np.nan_to_num(np.sqrt(np.diag(mix_errs_top)))\n",
    "\n",
    "#NUMU ONLY\n",
    "top_right = blockwise_errs[10:]\n",
    "for i in range(len(top_right)):\n",
    "    top_right[i] = top_right[i][10:]\n",
    "    \n",
    "numu_errs_top = np.array(top_right)/((int_flux_numu*int_flux_numu)*(Narg*Narg))\n",
    "xsec_numu_errs = (np.sqrt(np.diag(numu_errs_top)))\n"
   ]
  },
  {
   "cell_type": "markdown",
   "id": "bdb08c61",
   "metadata": {},
   "source": [
    "### Calculate ratio uncertainties\n",
    "\n",
    "xsec_ratio_events = np.nan_to_num(xsec_nue_events/xsec_numu_events)\n",
    "print(\"Ratio event counts: \", xsec_ratio_events)\n",
    "print(\"\")\n",
    "\n",
    "#####################\n",
    "\n",
    "ratio_sq = (xsec_nue_events/xsec_numu_events)*(xsec_nue_events/xsec_numu_events)\n",
    "print(\"ratio_sq: \", ratio_sq)\n",
    "print(\"\")\n",
    "nue_term = (xsec_nue_errs*xsec_nue_errs)/(xsec_nue_events*xsec_nue_events)\n",
    "print(\"nue: \", nue_term)\n",
    "print(\"\")\n",
    "numu_term = (xsec_numu_errs*xsec_numu_errs)/(xsec_numu_events*xsec_numu_events)\n",
    "print(\"numu: \", numu_term)\n",
    "print(\"\")\n",
    "mix_1 = (xsec_botmix_errs*xsec_botmix_errs)/(xsec_numu_events*xsec_nue_events)\n",
    "print(\"mix: \", mix_1)\n",
    "print(\"\")\n",
    "mix_2 = (xsec_topmix_errs*xsec_topmix_errs)/(xsec_numu_events*xsec_nue_events)\n",
    "print(\"mix: \", mix_2)\n",
    "print(\"\")\n",
    "\n",
    "ratio_var_errs = ratio_sq*(nue_term + numu_term - mix_1 - mix_2)\n",
    "print(ratio_var_errs)\n",
    "xsec_ratio_errs = np.nan_to_num(np.sqrt(abs(ratio_var_errs)))\n",
    "print(\"Ratio errs: \", xsec_ratio_errs)"
   ]
  },
  {
   "cell_type": "markdown",
   "id": "134eda61",
   "metadata": {},
   "source": [
    "import random\n",
    "import numpy\n",
    "from matplotlib import pyplot\n",
    "\"\"\"\n",
    "bins = np.arange(0, 5.5, 0.5)\n",
    "count = np.arange(0.1, 5.1, 0.5)\n",
    "print(count)\n",
    "\n",
    "plt.ylim(0, 5E-39)\n",
    "\n",
    "plt.xlabel(\"Energy [GeV]\")\n",
    "plt.ylabel(\"xsec [cm^2]\")\n",
    "\n",
    "pyplot.hist(count, bins, weights=xsec_nue_events, alpha=0.5)\n",
    "#pyplot.legend(loc='upper right')\n",
    "pyplot.show()\n",
    "\"\"\"\n",
    "\n",
    "nue_fig = plt.figure(figsize=(8, 7))\n",
    "nue_gs = gridspec.GridSpec(2, 1, height_ratios=[2, 1])\n",
    "nue_ax1 = plt.subplot(nue_gs[0])\n",
    "nue_ax1.set_xlim([-1, 1])\n",
    "\n",
    "bins = np.arange(-1.0, 1.2, 0.2)\n",
    "bincenters = np.arange(-0.9, 1.1, 0.2)\n",
    "bin_edges = np.arange(-1.0, 1.2, 0.2)\n",
    "bin_size = [(bin_edges[i + 1] - bin_edges[i]) / 2\n",
    "            for i in range(len(bin_edges) - 1)]\n",
    "count = np.arange(-0.95, 1.05, 0.2)\n",
    "weights = []\n",
    "for i in range(len(count)):\n",
    "    weight = count[i]*xsec_nue_events[i]\n",
    "    weights.append(weight)\n",
    "\n",
    "sel = nue_ax1.hist(count, bins, color='deepskyblue', weights=xsec_nue_events)\n",
    "plt.ylim(0, 1E-39)\n",
    "nue_ax1.set_xlabel('cos(Lepton Angle)', fontsize=15)\n",
    "nue_ax1.set_ylabel('xsec [cm^2 / GeV / nucleon]', fontsize=15)\n",
    "nue_ax1.set_title(\"Unfolded Nue cos(Lepton Angle)\")\n",
    "\n",
    "lower_err = np.nan_to_num(xsec_nue_events-xsec_nue_errs)\n",
    "\n",
    "nue_ax1.bar(bincenters, xsec_nue_errs*2,width=[n*2 for n in bin_size],facecolor='tab:green',alpha=0.2,bottom=(lower_err))\n",
    "\n",
    "genie_xsec_nue_events = xsec_nue_events\n",
    "genie_xsec_nue_errs = xsec_nue_errs\n",
    "genie_lower_err = lower_err\n",
    "\n",
    "nue_fig.savefig(\"unfolded_run1_MC_nue_angle_\"+ending+\".svg\",bbox_inches='tight' )"
   ]
  },
  {
   "cell_type": "markdown",
   "id": "12acd9b8",
   "metadata": {},
   "source": [
    "import random\n",
    "import numpy\n",
    "from matplotlib import pyplot\n",
    "\n",
    "numu_fig = plt.figure(figsize=(8, 7))\n",
    "numu_gs = gridspec.GridSpec(2, 1, height_ratios=[2, 1])\n",
    "numu_ax1 = plt.subplot(numu_gs[0])\n",
    "numu_ax1.set_xlim([-1, 1])\n",
    "\n",
    "bins = np.arange(-1.0, 1.2, 0.2)\n",
    "bincenters = np.arange(-0.9, 1.1, 0.2)\n",
    "bin_edges = np.arange(-1.0, 1.2, 0.2)\n",
    "bin_size = [(bin_edges[i + 1] - bin_edges[i]) / 2\n",
    "            for i in range(len(bin_edges) - 1)]\n",
    "count = np.arange(-0.95, 1.05, 0.2)\n",
    "weights = []\n",
    "for i in range(len(count)):\n",
    "    weight = count[i]*xsec_numu_events[i]\n",
    "    weights.append(weight)\n",
    "\n",
    "sel = numu_ax1.hist(count, bins, color='deepskyblue', weights=xsec_numu_events)\n",
    "plt.ylim(0, 4E-40)\n",
    "numu_ax1.set_xlabel('cos(Lepton Angle)', fontsize=15)\n",
    "numu_ax1.set_ylabel('xsec [cm^2 / GeV / nucleon]', fontsize=15)\n",
    "numu_ax1.set_title(\"Unfolded Numu cos(Lepton Angle)\")\n",
    "\n",
    "lower_err = np.nan_to_num(xsec_numu_events-xsec_numu_errs)\n",
    "\n",
    "numu_ax1.bar(bincenters, xsec_numu_errs*2,width=[n*2 for n in bin_size],facecolor='tab:green',alpha=0.2,bottom=(lower_err))\n",
    "\n",
    "genie_xsec_numu_events = xsec_numu_events\n",
    "genie_xsec_numu_errs = xsec_numu_errs\n",
    "genie_lower_err_numu = lower_err\n",
    "\n",
    "numu_fig.savefig(\"unfolded_run1_MC_numu_angle_\"+ending+\".svg\",bbox_inches='tight' )"
   ]
  },
  {
   "cell_type": "markdown",
   "id": "3c6007f4",
   "metadata": {},
   "source": [
    "import random\n",
    "import numpy\n",
    "from matplotlib import pyplot\n",
    "\n",
    "bins = np.arange(-1.0, 1.2, 0.2)\n",
    "count = np.arange(-0.95, 1.05, 0.2)\n",
    "#print(count)\n",
    "\n",
    "plt.ylim(0, 5)\n",
    "plt.xlabel(\"cos(Lepton Angle)\")\n",
    "plt.ylabel(\"xsec [cm^2 / GeV / nucleon]\")\n",
    "\n",
    "print(xsec_nue_events/xsec_numu_events)\n",
    "print(xsec_ratio_events)\n",
    "\n",
    "pyplot.hist(count, bins, weights=np.nan_to_num(xsec_nue_events/xsec_numu_events), alpha=0.5)\n",
    "pyplot.hist(count, bins, weights=xsec_ratio_events, alpha=0.5)\n",
    "\n",
    "#pyplot.legend(loc='upper right')\n",
    "pyplot.show()"
   ]
  },
  {
   "cell_type": "markdown",
   "id": "d514d5be",
   "metadata": {},
   "source": [
    "import random\n",
    "import numpy\n",
    "from matplotlib import pyplot\n",
    "\n",
    "\n",
    "ratio_fig = plt.figure(figsize=(8, 7))\n",
    "ratio_gs = gridspec.GridSpec(2, 1, height_ratios=[2, 1])\n",
    "ratio_ax1 = plt.subplot(ratio_gs[0])\n",
    "ratio_ax1.set_xlim([-1, 1])\n",
    "\n",
    "bins = np.arange(-1.0, 1.2, 0.2)\n",
    "bincenters = np.arange(-0.9, 1.1, 0.2)\n",
    "bin_edges = np.arange(-1.0, 1.2, 0.2)\n",
    "bin_size = [(bin_edges[i + 1] - bin_edges[i]) / 2\n",
    "            for i in range(len(bin_edges) - 1)]\n",
    "count = np.arange(-0.95, 1.05, 0.2)\n",
    "#print(len(count))\n",
    "#weights = []\n",
    "#for i in range(len(count)):\n",
    "#    weight = count[i]*xsec_ratio_events[i]\n",
    "#    weights.append(weight)\n",
    "#test_weights = [(random.random()/random.random() - 0.75) for x in range(len(count))]\n",
    "#print(count)\n",
    "#xsec_ratio_events[7] = 0\n",
    "#print(xsec_ratio_events)\n",
    "print(\"\")\n",
    "sel = ratio_ax1.hist(count, bins, color='deepskyblue', weights=xsec_ratio_events)  # , weights=xsec_ratio_events\n",
    "print(sel[0])\n",
    "\n",
    "plt.ylim(0, 6)\n",
    "ratio_ax1.set_xlabel('cos(Lepton Angle)', fontsize=15)\n",
    "ratio_ax1.set_ylabel('Ratio', fontsize=15)\n",
    "ratio_ax1.set_title(\"Unfolded Ratio cos(Lepton Angle)\")\n",
    "\n",
    "lower_err = np.nan_to_num(xsec_ratio_events-xsec_ratio_errs)\n",
    "\n",
    "ratio_ax1.bar(bincenters, xsec_ratio_errs*2,width=[n*2 for n in bin_size],facecolor='tab:green',alpha=0.2,bottom=(lower_err))\n",
    "\n",
    "genie_xsec_ratio_events = xsec_ratio_events\n",
    "genie_xsec_ratio_errs = xsec_ratio_errs\n",
    "genie_lower_err_ratio = lower_err\n",
    "\n",
    "ratio_fig.savefig(\"unfolded_run1_MC_ratio_angle_\"+ending+\".svg\",bbox_inches='tight' )"
   ]
  },
  {
   "cell_type": "markdown",
   "id": "b81f4e4a",
   "metadata": {},
   "source": [
    "## Now Compare\n",
    "\n",
    "The genie unfolded spectra should be within the uncertainties of the nuWro unfolded spectra"
   ]
  },
  {
   "cell_type": "markdown",
   "id": "e3c24c05",
   "metadata": {},
   "source": [
    "###############\n",
    "###NUE######\n",
    "#############\n",
    "\n",
    "errors_fig = plt.figure(figsize=(8, 7))\n",
    "errors_gs = gridspec.GridSpec(2, 1, height_ratios=[2, 1])\n",
    "errors_ax1 = plt.subplot(errors_gs[0])\n",
    "\n",
    "\n",
    "bins = np.arange(-1, 1.2, 0.2)\n",
    "count = [-0.9, -0.7, -0.5, -0.3, -0.1, 0.1, 0.3, 0.5, 0.7, 0.9]\n",
    "\n",
    "#print(bincenters)\n",
    "sel = errors_ax1.hist(count, bins, color='deepskyblue', weights=nuWro_xsec_nue_events, alpha = 0.4, label=\"nuWro\")  # , weights=xsec_ratio_events\n",
    "\n",
    "errors = errors_ax1.bar(bincenters, nuWro_xsec_nue_errs*2,width=[n*2 for n in bin_size],facecolor='tab:green',alpha=0.2,bottom=(nuWro_lower_err))\n",
    "\n",
    "#sel_nue = errors_ax1.hist(count, bins, edgecolor='blue', facecolor='None', weights=nuWro_xsec_nue_events, label='nuWro')\n",
    "sel_numu = errors_ax1.hist(count, bins, edgecolor='red', facecolor='None', weights=genie_xsec_nue_events, label='genie')\n",
    "\n",
    "errors = errors_ax1.bar(bincenters, genie_xsec_nue_errs*2,width=[n*2 for n in bin_size],facecolor='tab:orange',alpha=0.2,bottom=(genie_lower_err))\n",
    "\n",
    "\n",
    "errors_ax1.set_ylabel('xsec [cm^2 / GeV / nucleon]', fontsize=15)\n",
    "errors_ax1.set_xlabel('cos(True Lepton Angle)', fontsize=15)\n",
    "errors_ax1.set_title(\"Unfolded Comparison\")\n",
    "leg = errors_ax1.legend()\n",
    "\n",
    "errors_ax1.set_ylim([0, 8e-40])"
   ]
  },
  {
   "cell_type": "markdown",
   "id": "21fc5a42",
   "metadata": {},
   "source": [
    "for i in np.arange(len(genie_xsec_nue_events)):\n",
    "    if ((genie_xsec_nue_events[i] < nuWro_xsec_nue_events[i] + nuWro_xsec_nue_errs[i]) and (genie_xsec_nue_events[i] > nuWro_xsec_nue_events[i] - nuWro_xsec_nue_errs[i])):\n",
    "        print(\"Inside\")\n",
    "        print(\"\")\n",
    "    else:\n",
    "        print(\"outside\")\n",
    "        print(\"value is (genie) = \", genie_xsec_nue_events[i])\n",
    "        print(\"top of err = \", nuWro_xsec_nue_events[i] + nuWro_xsec_nue_errs[i])\n",
    "        print(\"bot of err = \", nuWro_xsec_nue_events[i] - nuWro_xsec_nue_errs[i])\n",
    "        print(\"\")"
   ]
  },
  {
   "cell_type": "markdown",
   "id": "28c9f5e2",
   "metadata": {},
   "source": [
    "for i in np.arange(len(nuWro_xsec_nue_events)):\n",
    "    if ((nuWro_xsec_nue_events[i] < genie_xsec_nue_events[i] + genie_xsec_nue_errs[i]) and (nuWro_xsec_nue_events[i] > genie_xsec_nue_events[i] - genie_xsec_nue_errs[i])):\n",
    "        print(\"Inside\")\n",
    "        print(\"\")\n",
    "    else:\n",
    "        print(\"outside\")\n",
    "        print(\"value is (genie) = \", nuWro_xsec_nue_events[i])\n",
    "        print(\"top of err = \", genie_xsec_nue_events[i] + genie_xsec_nue_errs[i])\n",
    "        print(\"bot of err = \", genie_xsec_nue_events[i] - genie_xsec_nue_errs[i])\n",
    "        print(\"\")"
   ]
  },
  {
   "cell_type": "markdown",
   "id": "7819a9bd",
   "metadata": {},
   "source": [
    "diff = 7.723562394053671e-41 - 7.480422350351412e-41\n",
    "\n",
    "fractional_diff = diff/7.480422350351412e-41\n",
    "\n",
    "print(fractional_diff)"
   ]
  },
  {
   "cell_type": "markdown",
   "id": "a559af0c",
   "metadata": {},
   "source": [
    "###############\n",
    "###NUMU######\n",
    "#############\n",
    "\n",
    "errors_fig = plt.figure(figsize=(8, 7))\n",
    "errors_gs = gridspec.GridSpec(2, 1, height_ratios=[2, 1])\n",
    "errors_ax1 = plt.subplot(errors_gs[0])\n",
    "\n",
    "\n",
    "bins = np.arange(-1, 1.2, 0.2)\n",
    "count = [-0.9, -0.7, -0.5, -0.3, -0.1, 0.1, 0.3, 0.5, 0.7, 0.9]\n",
    "\n",
    "#print(bincenters)\n",
    "sel = errors_ax1.hist(count, bins, color='deepskyblue', weights=nuWro_xsec_numu_events, alpha = 0.4, label=\"nuWro\")  # , weights=xsec_ratio_events\n",
    "\n",
    "errors = errors_ax1.bar(bincenters, nuWro_xsec_numu_errs*2,width=[n*2 for n in bin_size],facecolor='tab:green',alpha=0.2,bottom=(nuWro_lower_err_numu))\n",
    "\n",
    "#sel_nue = errors_ax1.hist(count, bins, edgecolor='blue', facecolor='None', weights=nuWro_xsec_nue_events, label='nuWro')\n",
    "sel_numu = errors_ax1.hist(count, bins, edgecolor='red', facecolor='None', weights=genie_xsec_numu_events, label='genie')\n",
    "\n",
    "errors = errors_ax1.bar(bincenters, genie_xsec_numu_errs*2,width=[n*2 for n in bin_size],facecolor='tab:orange',alpha=0.2,bottom=(genie_lower_err_numu))\n",
    "\n",
    "print(genie_xsec_numu_errs)\n",
    "print(nuWro_xsec_numu_errs)\n",
    "\n",
    "errors_ax1.set_ylabel('xsec [cm^2 / GeV / nucleon]', fontsize=15)\n",
    "errors_ax1.set_xlabel('cos(True Lepton Angle)', fontsize=15)\n",
    "errors_ax1.set_title(\"Unfolded Comparison\")\n",
    "leg = errors_ax1.legend()\n",
    "\n",
    "errors_ax1.set_ylim([0, 1e-40])"
   ]
  },
  {
   "cell_type": "markdown",
   "id": "a018770a",
   "metadata": {},
   "source": [
    "for i in np.arange(len(genie_xsec_numu_events)):\n",
    "    if ((genie_xsec_numu_events[i] < nuWro_xsec_numu_events[i] + nuWro_xsec_numu_errs[i]) and (genie_xsec_numu_events[i] > nuWro_xsec_numu_events[i] - nuWro_xsec_numu_errs[i])):\n",
    "        print(\"Inside\")\n",
    "        print(\"\")\n",
    "    else:\n",
    "        print(\"outside\")\n",
    "        print(\"value is (genie) = \", genie_xsec_numu_events[i])\n",
    "        print(\"top of err = \", nuWro_xsec_numu_events[i] + nuWro_xsec_numu_errs[i])\n",
    "        print(\"bot of err = \", nuWro_xsec_numu_events[i] - nuWro_xsec_numu_errs[i])\n",
    "        print(\"\")"
   ]
  },
  {
   "cell_type": "markdown",
   "id": "c686e4b0",
   "metadata": {},
   "source": [
    "###############\n",
    "###RATIO######\n",
    "#############\n",
    "\n",
    "errors_fig = plt.figure(figsize=(8, 7))\n",
    "errors_gs = gridspec.GridSpec(2, 1, height_ratios=[2, 1])\n",
    "errors_ax1 = plt.subplot(errors_gs[0])\n",
    "\n",
    "\n",
    "bins = np.arange(-1, 1.2, 0.2)\n",
    "count = [-0.9, -0.7, -0.5, -0.3, -0.1, 0.1, 0.3, 0.5, 0.7, 0.9]\n",
    "\n",
    "#print(bincenters)\n",
    "sel = errors_ax1.hist(count, bins, color='deepskyblue', weights=nuWro_xsec_ratio_events, alpha = 0.4, label=\"nuWro\")  # , weights=xsec_ratio_events\n",
    "\n",
    "errors = errors_ax1.bar(bincenters, nuWro_xsec_ratio_errs*2,width=[n*2 for n in bin_size],facecolor='tab:green',alpha=0.2,bottom=(nuWro_lower_err_ratio))\n",
    "\n",
    "\n",
    "\n",
    "#sel_nue = errors_ax1.hist(count, bins, edgecolor='blue', facecolor='None', weights=nuWro_xsec_nue_events, label='nuWro')\n",
    "sel_numu = errors_ax1.hist(count, bins, edgecolor='red', facecolor='None', weights=genie_xsec_ratio_events, label='genie')\n",
    "\n",
    "errors = errors_ax1.bar(bincenters, genie_xsec_ratio_errs*2,width=[n*2 for n in bin_size],facecolor='tab:orange',alpha=0.2,bottom=(genie_lower_err_ratio))\n",
    "\n",
    "\n",
    "errors_ax1.set_ylabel('xsec [cm^2 / GeV / nucleon]', fontsize=15)\n",
    "errors_ax1.set_xlabel('cos(True Lepton Angle)', fontsize=15)\n",
    "errors_ax1.set_title(\"Unfolded Comparison\")\n",
    "leg = errors_ax1.legend()\n",
    "\n",
    "#errors_ax1.set_ylim([0, 5e-40])"
   ]
  },
  {
   "cell_type": "markdown",
   "id": "62ad689a",
   "metadata": {},
   "source": [
    "for i in np.arange(len(genie_xsec_ratio_events)):\n",
    "    if ((genie_xsec_ratio_events[i] < nuWro_xsec_ratio_events[i] + nuWro_xsec_ratio_errs[i]) and (genie_xsec_ratio_events[i] > nuWro_xsec_ratio_events[i] - nuWro_xsec_ratio_errs[i])):\n",
    "        print(\"Inside\")\n",
    "        print(\"\")\n",
    "    else:\n",
    "        print(\"outside\")\n",
    "        print(\"value is (genie) = \", genie_xsec_ratio_events[i])\n",
    "        print(\"top of err = \", nuWro_xsec_ratio_events[i] + nuWro_xsec_ratio_errs[i])\n",
    "        print(\"bot of err = \", nuWro_xsec_ratio_events[i] - nuWro_xsec_ratio_errs[i])\n",
    "        print(\"\")"
   ]
  },
  {
   "cell_type": "markdown",
   "id": "9de93c27",
   "metadata": {},
   "source": [
    "## Try without xsec units "
   ]
  },
  {
   "cell_type": "markdown",
   "id": "360d03ef",
   "metadata": {},
   "source": [
    "print(genie_events)\n",
    "print(genie_errors)\n",
    "print(\"\")\n",
    "print(nuWro_events)\n",
    "print(nuWro_errs)"
   ]
  },
  {
   "cell_type": "markdown",
   "id": "aaf0b337",
   "metadata": {},
   "source": [
    "###############\n",
    "###NUE######\n",
    "#############\n",
    "\n",
    "nue_unf_fig = plt.figure(figsize=(8, 7))\n",
    "nue_unf_gs = gridspec.GridSpec(2, 1, height_ratios=[2, 1])\n",
    "nue_unf_ax1 = plt.subplot(nue_unf_gs[0])\n",
    "\n",
    "\n",
    "#bins = np.arange(-1, 1.2, 0.2)\n",
    "#count = [-0.9, -0.7, -0.5, -0.3, -0.1, 0.1, 0.3, 0.5, 0.7, 0.9]\n",
    "\n",
    "bins = np.arange(0, 21, 1)\n",
    "count = np.arange(0.0, 20.0, 1)\n",
    "bincenters = np.arange(0.5, 20.5, 1)\n",
    "bin_size = [0.5]*20\n",
    "\n",
    "print(np.array(nuWro_events) - np.array(nuWro_errs))\n",
    "\n",
    "#print(bincenters)\n",
    "sel = nue_unf_ax1.hist(count, bins, color='deepskyblue', weights=nuWro_events, alpha = 0.4, label=\"nuWro\")  # , weights=xsec_ratio_events\n",
    "\n",
    "errors = nue_unf_ax1.bar(bincenters, np.array(nuWro_errs)*2,width=[n*2 for n in bin_size],facecolor='tab:green',alpha=0.2,bottom=(np.array(nuWro_events) - np.array(nuWro_errs)))\n",
    "\n",
    "#sel_nue = errors_ax1.hist(count, bins, edgecolor='blue', facecolor='None', weights=nuWro_xsec_nue_events, label='nuWro')\n",
    "sel_numu = nue_unf_ax1.hist(count, bins, edgecolor='red', facecolor='None', weights=genie_events, label='genie')\n",
    "\n",
    "errors = nue_unf_ax1.bar(bincenters, np.array(genie_errors)*2,width=[n*2 for n in bin_size],facecolor='tab:orange',alpha=0.2,bottom=(np.array(genie_events) - np.array(genie_errors)))\n",
    "\n",
    "\n",
    "nue_unf_ax1.set_ylabel('count', fontsize=15)\n",
    "nue_unf_ax1.set_xlabel('bins', fontsize=15)\n",
    "nue_unf_ax1.set_title(\"Unfolded Comparison\")\n",
    "leg = nue_unf_ax1.legend()\n",
    "\n",
    "nue_unf_ax1.set_ylim([150, 1500])"
   ]
  },
  {
   "cell_type": "markdown",
   "id": "bbdfae62",
   "metadata": {},
   "source": [
    "## Actual comparison needed\n",
    "\n",
    "Need to compare the unfolded signal w/err to the nuWro true selected signal x Ac"
   ]
  },
  {
   "cell_type": "code",
   "execution_count": 13,
   "id": "04f5f3b2",
   "metadata": {},
   "outputs": [
    {
     "name": "stdout",
     "output_type": "stream",
     "text": [
      "[38.4694, 119.631, 86.7841, 34.7527, 43.0468, 6.17116, 15.1862, 20.4708, 1717.03, 1517.81, 1426.14, 928.461, 679.424, 280.918, 2710.05, 3133.47]\n",
      "[35.6698, 24.6298, 27.5755, 13.7479, 11.8307, 12.526, 6.16334, 8.27141, 308.697, 351.415, 425.946, 301.414, 172.286, 234.702, 300.342, 492.316]\n"
     ]
    }
   ],
   "source": [
    "print(nuWro_events)\n",
    "print(nuWro_errs)"
   ]
  },
  {
   "cell_type": "code",
   "execution_count": 14,
   "id": "82ea3ff2",
   "metadata": {},
   "outputs": [
    {
     "data": {
      "image/png": "[encoded data removed]",
      "text/plain": [
       "<Figure size 576x504 with 1 Axes>"
      ]
     },
     "metadata": {
      "needs_background": "light"
     },
     "output_type": "display_data"
    }
   ],
   "source": [
    "###############\n",
    "###BOTH######\n",
    "#############\n",
    "\n",
    "nue_unf_fig = plt.figure(figsize=(8, 7))\n",
    "nue_unf_gs = gridspec.GridSpec(2, 1, height_ratios=[2, 1])\n",
    "nue_unf_ax1 = plt.subplot(nue_unf_gs[0])\n",
    "\n",
    "\n",
    "bins = np.arange(0, 17, 1)\n",
    "count = np.arange(0.0, 16.0, 1)\n",
    "bincenters = np.arange(0.5, 16.5, 1)\n",
    "bin_size = [0.5]*16\n",
    "\n",
    "#print(np.array(nuWro_events) - np.array(nuWro_errs))\n",
    "\n",
    "#print(bincenters)\n",
    "sel = nue_unf_ax1.hist(count, bins, color='deepskyblue', weights=nuWro_events, alpha = 0.4, label=\"Unfolded nuWro\")  # , weights=xsec_ratio_events\n",
    "\n",
    "errors = nue_unf_ax1.bar(bincenters, np.array(nuWro_errs)*2,width=[n*2 for n in bin_size],facecolor='tab:green',alpha=0.2,bottom=(np.array(nuWro_events) - np.array(nuWro_errs)))\n",
    "\n",
    "\n",
    "nue_unf_ax1.set_ylabel('count', fontsize=15)\n",
    "nue_unf_ax1.set_xlabel('bins', fontsize=15)\n",
    "nue_unf_ax1.set_title(\"Unfolded Comparison\")\n",
    "leg = nue_unf_ax1.legend()\n",
    "\n",
    "#nue_unf_ax1.set_ylim([150, 1500])"
   ]
  },
  {
   "cell_type": "code",
   "execution_count": 15,
   "id": "9050417d",
   "metadata": {},
   "outputs": [
    {
     "name": "stdout",
     "output_type": "stream",
     "text": [
      "[ 41.2603541  115.27832149  86.72244611  54.23677631  32.66532727\n",
      "  19.62417527  11.21672613  26.73984641]\n",
      "\n",
      "[2897.14661797 2158.75908765 1092.58158297  701.31688442  503.83106421\n",
      "  311.43559379  178.41254371  204.58651326]\n"
     ]
    }
   ],
   "source": [
    "nue_nuWro_true = pd.read_csv(\"nue_nuWro_prior_true_run1_lepton_\"+ending+\".csv\", header=None)\n",
    "\n",
    "nue_nuWro_true = nue_nuWro_true.values[:, 0]\n",
    "print(nue_nuWro_true)\n",
    "print(\"\")\n",
    "#########################################\n",
    "\n",
    "numu_nuWro_true = pd.read_csv(\"numu_nuWro_prior_true_run1_lepton_\"+ending+\".csv\", header=None)\n",
    "\n",
    "numu_nuWro_true = numu_nuWro_true.values[:, 0]\n",
    "print(numu_nuWro_true)"
   ]
  },
  {
   "cell_type": "code",
   "execution_count": 16,
   "id": "fbe1b368",
   "metadata": {},
   "outputs": [
    {
     "data": {
      "text/plain": [
       "'\\nnue_nuWro_true_err = pd.read_csv(\"nue_nuWro_stat_err_inTruth_\"+ending+\".csv\", header=None)\\n\\nnue_nuWro_true_err = nue_nuWro_true_err.values[:, 0]\\nnue_nuWro_true_err = np.sqrt(nue_nuWro_true_err)\\nprint(nue_nuWro_true_err)\\nprint(\"\")\\n###############################\\n\\nnumu_nuWro_true_err = pd.read_csv(\"numu_nuWro_stat_err_inTruth_\"+ending+\".csv\", header=None)\\n\\nnumu_nuWro_true_err = numu_nuWro_true_err.values[:, 0]\\nnumu_nuWro_true_err = np.sqrt(numu_nuWro_true_err)\\nprint(numu_nuWro_true_err)\\n'"
      ]
     },
     "execution_count": 16,
     "metadata": {},
     "output_type": "execute_result"
    }
   ],
   "source": [
    "\"\"\"\n",
    "nue_nuWro_true_err = pd.read_csv(\"nue_nuWro_stat_err_inTruth_\"+ending+\".csv\", header=None)\n",
    "\n",
    "nue_nuWro_true_err = nue_nuWro_true_err.values[:, 0]\n",
    "nue_nuWro_true_err = np.sqrt(nue_nuWro_true_err)\n",
    "print(nue_nuWro_true_err)\n",
    "print(\"\")\n",
    "###############################\n",
    "\n",
    "numu_nuWro_true_err = pd.read_csv(\"numu_nuWro_stat_err_inTruth_\"+ending+\".csv\", header=None)\n",
    "\n",
    "numu_nuWro_true_err = numu_nuWro_true_err.values[:, 0]\n",
    "numu_nuWro_true_err = np.sqrt(numu_nuWro_true_err)\n",
    "print(numu_nuWro_true_err)\n",
    "\"\"\""
   ]
  },
  {
   "cell_type": "code",
   "execution_count": 17,
   "id": "6064df76",
   "metadata": {},
   "outputs": [
    {
     "name": "stdout",
     "output_type": "stream",
     "text": [
      "[  41.2603541   115.27832149   86.72244611   54.23677631   32.66532727\n",
      "   19.62417527   11.21672613   26.73984641 2897.14661797 2158.75908765\n",
      " 1092.58158297  701.31688442  503.83106421  311.43559379  178.41254371\n",
      "  204.58651326]\n",
      "\n"
     ]
    },
    {
     "data": {
      "text/plain": [
       "'\\nnue_numu_tot_nuWro_true_err = np.concatenate((nue_nuWro_true_err, numu_nuWro_true_err), axis=0)\\n\\nprint(nue_numu_tot_nuWro_true_err)\\n\\n'"
      ]
     },
     "execution_count": 17,
     "metadata": {},
     "output_type": "execute_result"
    }
   ],
   "source": [
    "nue_numu_tot_nuWro_true = np.concatenate((nue_nuWro_true, numu_nuWro_true), axis=0)\n",
    "\n",
    "print(nue_numu_tot_nuWro_true)\n",
    "\n",
    "##################################\n",
    "print(\"\")\n",
    "\"\"\"\n",
    "nue_numu_tot_nuWro_true_err = np.concatenate((nue_nuWro_true_err, numu_nuWro_true_err), axis=0)\n",
    "\n",
    "print(nue_numu_tot_nuWro_true_err)\n",
    "\n",
    "\"\"\""
   ]
  },
  {
   "cell_type": "code",
   "execution_count": 17,
   "id": "335d4ef3",
   "metadata": {},
   "outputs": [],
   "source": [
    "#with open('../blockwise/stv-analysis-new/blockwise_unsmeared_err_prop_angle_MC_ONLY_weighted_recoCut_incErr_nuWro_'+ending+'.csv') as file:\n",
    "#    content = file.readlines()\n",
    "#EP = content[0:]\n",
    "    \n",
    "#for i in range(400):\n",
    "#    EP[i]=EP[i].rstrip().rstrip(',')\n",
    "#    EP[i] = float(EP[i])\n",
    "    \n",
    "\n",
    "#EP_chunks = [EP[x:x+20] for x in range(0, len(EP), 20)]\n",
    "\n",
    "#print(\"EP\")\n",
    "#print(EP_chunks)\n",
    "#print(\"\")"
   ]
  },
  {
   "cell_type": "code",
   "execution_count": 18,
   "id": "f250fb8f",
   "metadata": {},
   "outputs": [
    {
     "name": "stdout",
     "output_type": "stream",
     "text": [
      "Prior_Truth x AC: \n",
      "[  24.02793909   96.48112855   90.50434216   38.87046363   30.91497741\n",
      "   20.95348036    7.90817828   24.88080322 2416.0440648  2045.22601496\n",
      " 1001.52552647  887.08085952  536.53100571  206.59510605  108.57938731\n",
      " -166.4701846 ]\n",
      "\n",
      "\n",
      "Unfolding Done with MC Data Signal: \n",
      "[38.4694, 119.631, 86.7841, 34.7527, 43.0468, 6.17116, 15.1862, 20.4708, 1717.03, 1517.81, 1426.14, 928.461, 679.424, 280.918, 2710.05, 3133.47]\n",
      "\n",
      "\n",
      "Difference\n",
      "[  -14.44146091   -23.14987145     3.72024216     4.11776363\n",
      "   -12.13182259    14.78232036    -7.27802172     4.41000322\n",
      "   699.0140648    527.41601496  -424.61447353   -41.38014048\n",
      "  -142.89299429   -74.32289395 -2601.47061269 -3299.9401846 ]\n",
      "\n",
      "[  -60.10278642   -23.99419637     4.1105676     10.5935542\n",
      "   -39.24254068    70.54828175   -92.03158369    17.72452111\n",
      "    28.93217367    25.78766411   -42.39676996    -4.66475407\n",
      "   -26.63275612   -35.97514742 -2395.9157232   1982.30103034]\n"
     ]
    }
   ],
   "source": [
    "#Now smear it by Ac\n",
    "\n",
    "smeared_nuWro = np.dot(nue_numu_tot_nuWro_true, nuWro_Ac)\n",
    "#smeared_nuWro = np.dot(prior_true_nuWro, nuWro_Ac)\n",
    "print(\"Prior_Truth x AC: \")\n",
    "print(smeared_nuWro)\n",
    "print(\"\")\n",
    "print(\"\")\n",
    "print(\"Unfolding Done with MC Data Signal: \")\n",
    "print(nuWro_events)\n",
    "print(\"\")\n",
    "\n",
    "diff = smeared_nuWro - events\n",
    "print(\"\")\n",
    "print(\"Difference\")\n",
    "print(diff)\n",
    "\n",
    "#for i in made_data_sig:\n",
    "#    print(i)\n",
    "\n",
    "print(\"\")\n",
    "diffasfrac = np.nan_to_num(diff/smeared_nuWro)\n",
    "print(diffasfrac*100)"
   ]
  },
  {
   "cell_type": "code",
   "execution_count": 19,
   "id": "d5d14582",
   "metadata": {},
   "outputs": [],
   "source": [
    "#smeared_nuWro_err = np.dot(nue_numu_tot_nuWro_true_err, nuWro_Ac)\n",
    "#smeared_nuWro = np.dot(prior_true_nuWro, nuWro_Ac)\n",
    "#print(\"Err x AC: \")\n",
    "#print(smeared_nuWro_err)\n",
    "#print(\"\")\n",
    "#print(\"\")\n"
   ]
  },
  {
   "cell_type": "code",
   "execution_count": 22,
   "id": "18129eff",
   "metadata": {},
   "outputs": [
    {
     "name": "stdout",
     "output_type": "stream",
     "text": [
      "unfolded =  [  38.4694   119.631     86.7841    34.7527    43.0468     6.17116\n",
      "   15.1862    20.4708  1717.03    1517.81    1426.14     928.461\n",
      "  679.424    280.918   2710.05    3133.47   ]\n",
      "smeared =  [  24.02793909   96.48112855   90.50434216   38.87046363   30.91497741\n",
      "   20.95348036    7.90817828   24.88080322 2416.0440648  2045.22601496\n",
      " 1001.52552647  887.08085952  536.53100571  206.59510605  108.57938731\n",
      " -166.4701846 ]\n"
     ]
    },
    {
     "data": {
      "image/png": "[encoded data removed]",
      "text/plain": [
       "<Figure size 576x504 with 1 Axes>"
      ]
     },
     "metadata": {
      "needs_background": "light"
     },
     "output_type": "display_data"
    }
   ],
   "source": [
    "###############\n",
    "###NUE######\n",
    "#############\n",
    "\n",
    "nue_unf_fig = plt.figure(figsize=(8, 7))\n",
    "nue_unf_gs = gridspec.GridSpec(2, 1, height_ratios=[2, 1])\n",
    "nue_unf_ax1 = plt.subplot(nue_unf_gs[0])\n",
    "\n",
    "\n",
    "bins = np.arange(0, 17, 1)\n",
    "count = np.arange(0.0, 16.0, 1)\n",
    "bincenters = np.arange(0.5, 16.5, 1)\n",
    "bin_size = [0.5]*16\n",
    "\n",
    "#print(np.array(nuWro_events) - np.array(nuWro_errs))\n",
    "\n",
    "#print(bincenters)\n",
    "f_obs = nue_unf_ax1.hist(count, bins, color='deepskyblue', weights=nuWro_events, alpha = 0.4, label=\"unfolded nuWro\")  # , weights=xsec_ratio_events\n",
    "\n",
    "errors = nue_unf_ax1.bar(bincenters, np.array(nuWro_errs)*2,width=[n*2 for n in bin_size],facecolor='tab:green',alpha=0.2,bottom=(np.array(nuWro_events) - np.array(nuWro_errs)))\n",
    "\n",
    "f_exp = nue_unf_ax1.hist(count, bins, edgecolor='red', facecolor='None', weights=smeared_nuWro, label='nuWro prior true x Ac')\n",
    "#errors = nue_unf_ax1.bar(bincenters, np.array((nue_numu_tot_nuWro_true_err))*2,width=[n*2 for n in bin_size],facecolor='tab:orange',alpha=0.2,bottom=(np.array(smeared_nuWro) - np.array((nue_numu_tot_nuWro_true_err))))\n",
    "\n",
    "\n",
    "print(\"unfolded = \", f_obs[0])\n",
    "print(\"smeared = \", f_exp[0])\n",
    "\n",
    "nue_unf_ax1.set_ylabel('Count', fontsize=15)\n",
    "nue_unf_ax1.set_xlabel('Bins', fontsize=15)\n",
    "nue_unf_ax1.set_title(\"Unfolded Comparison\")\n",
    "leg = nue_unf_ax1.legend()\n",
    "\n",
    "#nue_unf_ax1.set_ylim([0, 200])\n",
    "\n",
    "#nue_unf_fig.savefig(\"unfolded_MC_nuWro_output_leptonMom_comb_\"+ending+\".svg\", bbox_inches='tight')"
   ]
  },
  {
   "cell_type": "code",
   "execution_count": 23,
   "id": "71dbdc8d",
   "metadata": {},
   "outputs": [
    {
     "name": "stdout",
     "output_type": "stream",
     "text": [
      "Dec19\n"
     ]
    }
   ],
   "source": [
    "np.savetxt(\"data_signal_MC_nuWro_chi2_leptonMom_comb_\"+ending+\".csv\", \n",
    "               nuWro_events,\n",
    "               delimiter =\", \", \n",
    "               fmt ='% s')\n",
    "\n",
    "np.savetxt(\"prior_true_MC_nuWro_chi2_leptonMom_comb_\"+ending+\".csv\", \n",
    "               smeared_nuWro,\n",
    "               delimiter =\", \", \n",
    "               fmt ='% s')\n",
    "\n",
    "print(ending)"
   ]
  },
  {
   "cell_type": "code",
   "execution_count": 34,
   "id": "e8622ad9",
   "metadata": {},
   "outputs": [
    {
     "data": {
      "text/plain": [
       "'\\nstart1 = np.array(smeared_nuWro) - np.array((nue_numu_tot_nuWro_true_err))\\nend1 = np.array(smeared_nuWro) + np.array((nue_numu_tot_nuWro_true_err))\\n\\nstart2 = np.array(nuWro_events) - np.array((nuWro_errs))\\nend2 = np.array(nuWro_events) + np.array((nuWro_errs))\\n#print(top)\\n#print(minus)\\n\\ndef overlap(start1, end1, start2, end2):\\n    #Does the range (start1, end1) overlap with (start2, end2)?\\n    return end1 >= start2 and end2 >= start1\\n\\n\\nfor i in np.arange(len(smeared_nuWro)):\\n    print(overlap(start1[i], end1[i], start2[i], end2[i]))\\n'"
      ]
     },
     "execution_count": 34,
     "metadata": {},
     "output_type": "execute_result"
    }
   ],
   "source": [
    "\"\"\"\n",
    "start1 = np.array(smeared_nuWro) - np.array((nue_numu_tot_nuWro_true_err))\n",
    "end1 = np.array(smeared_nuWro) + np.array((nue_numu_tot_nuWro_true_err))\n",
    "\n",
    "start2 = np.array(nuWro_events) - np.array((nuWro_errs))\n",
    "end2 = np.array(nuWro_events) + np.array((nuWro_errs))\n",
    "#print(top)\n",
    "#print(minus)\n",
    "\n",
    "def overlap(start1, end1, start2, end2):\n",
    "    #Does the range (start1, end1) overlap with (start2, end2)?\n",
    "    return end1 >= start2 and end2 >= start1\n",
    "\n",
    "\n",
    "for i in np.arange(len(smeared_nuWro)):\n",
    "    print(overlap(start1[i], end1[i], start2[i], end2[i]))\n",
    "\"\"\""
   ]
  },
  {
   "cell_type": "code",
   "execution_count": 24,
   "id": "9077e8e8",
   "metadata": {},
   "outputs": [
    {
     "name": "stdout",
     "output_type": "stream",
     "text": [
      "bin =  0\n",
      "Inside\n",
      "\n",
      "bin =  1\n",
      "Inside\n",
      "\n",
      "bin =  2\n",
      "Inside\n",
      "\n",
      "bin =  3\n",
      "Inside\n",
      "\n",
      "bin =  4\n",
      "outside\n",
      "value is (genie) =  30.91497741315206\n",
      "top of err =  54.8775\n",
      "bot of err =  31.216099999999997\n",
      "\n",
      "bin =  5\n",
      "outside\n",
      "value is (genie) =  20.953480362542653\n",
      "top of err =  18.69716\n",
      "bot of err =  -6.354839999999999\n",
      "\n",
      "bin =  6\n",
      "outside\n",
      "value is (genie) =  7.908178284167777\n",
      "top of err =  21.349539999999998\n",
      "bot of err =  9.02286\n",
      "\n",
      "bin =  7\n",
      "Inside\n",
      "\n",
      "bin =  8\n",
      "outside\n",
      "value is (genie) =  2416.044064795536\n",
      "top of err =  2025.7269999999999\n",
      "bot of err =  1408.333\n",
      "\n",
      "bin =  9\n",
      "outside\n",
      "value is (genie) =  2045.226014957134\n",
      "top of err =  1869.225\n",
      "bot of err =  1166.395\n",
      "\n",
      "bin =  10\n",
      "Inside\n",
      "\n",
      "bin =  11\n",
      "Inside\n",
      "\n",
      "bin =  12\n",
      "Inside\n",
      "\n",
      "bin =  13\n",
      "Inside\n",
      "\n",
      "bin =  14\n",
      "outside\n",
      "value is (genie) =  108.57938730923074\n",
      "top of err =  3010.3920000000003\n",
      "bot of err =  2409.708\n",
      "\n",
      "bin =  15\n",
      "outside\n",
      "value is (genie) =  -166.47018460324045\n",
      "top of err =  3625.7859999999996\n",
      "bot of err =  2641.154\n",
      "\n"
     ]
    }
   ],
   "source": [
    "for i in np.arange(len(smeared_nuWro)):\n",
    "    print(\"bin = \", i)\n",
    "    if( ((smeared_nuWro[i] < nuWro_events[i] + nuWro_errs[i]) and (smeared_nuWro[i] > nuWro_events[i] - nuWro_errs[i]))):# or ((nuWro_events[i] < smeared_nuWro[i] + nue_numu_tot_nuWro_true_err[i]) and (nuWro_events[i] > smeared_nuWro[i] - nue_numu_tot_nuWro_true_err[i])) ):\n",
    "        print(\"Inside\")\n",
    "        print(\"\")\n",
    "    else:\n",
    "        print(\"outside\")\n",
    "        print(\"value is (genie) = \", smeared_nuWro[i])\n",
    "        print(\"top of err = \", nuWro_events[i] + nuWro_errs[i])\n",
    "        print(\"bot of err = \", nuWro_events[i] - nuWro_errs[i])\n",
    "        print(\"\")"
   ]
  },
  {
   "cell_type": "code",
   "execution_count": 25,
   "id": "ddba7cfe",
   "metadata": {},
   "outputs": [],
   "source": [
    "f_obs = f_obs[0]\n",
    "f_exp = f_exp[0]"
   ]
  },
  {
   "cell_type": "code",
   "execution_count": 26,
   "id": "1b02d84c",
   "metadata": {},
   "outputs": [
    {
     "name": "stdout",
     "output_type": "stream",
     "text": [
      "12757.81516\n",
      "7369.653092922836\n"
     ]
    }
   ],
   "source": [
    "###Do a chi squared test\n",
    "\n",
    "import scipy.stats as sp\n",
    "\n",
    "\n",
    "#print(f_obs)\n",
    "print(sum(f_obs))\n",
    "print(sum(f_exp))\n",
    "\n",
    "#sp.chisquare(f_obs=f_obs, f_exp=f_exp)"
   ]
  },
  {
   "cell_type": "code",
   "execution_count": 27,
   "id": "38ea3043",
   "metadata": {},
   "outputs": [
    {
     "name": "stdout",
     "output_type": "stream",
     "text": [
      "final value =  -2463.216660391852\n"
     ]
    }
   ],
   "source": [
    "hold = []\n",
    "\n",
    "#for i in range(len(f_obs)):\n",
    "for i in range(16):   \n",
    "    braket = (f_obs[i] - f_exp[i])\n",
    "    #print((braket*braket))\n",
    "    #print(f_exp[i])\n",
    "    num = (braket*braket)/f_exp[i]\n",
    "    hold.append(num)\n",
    "    #print(\"\")\n",
    "    \n",
    "print(\"final value = \", sum(hold))\n",
    "chi_squared_stat = sum(hold)"
   ]
  },
  {
   "cell_type": "code",
   "execution_count": 28,
   "id": "dadb53e5",
   "metadata": {},
   "outputs": [
    {
     "data": {
      "text/plain": [
       "198.27831883463523"
      ]
     },
     "execution_count": 28,
     "metadata": {},
     "output_type": "execute_result"
    }
   ],
   "source": [
    "####Crital value - what the chi sqaured value must be below for a P value of this significance\n",
    "\n",
    "deg_of_free = 15*15\n",
    "\n",
    "sp.chi2.ppf(q = 0.1, df = deg_of_free)"
   ]
  },
  {
   "cell_type": "code",
   "execution_count": 29,
   "id": "940624a5",
   "metadata": {},
   "outputs": [
    {
     "name": "stdout",
     "output_type": "stream",
     "text": [
      "P value: 1.0\n"
     ]
    }
   ],
   "source": [
    "p_value = 1 - sp.chi2.cdf(x=chi_squared_stat,  # Find the p-value\n",
    "                             df=deg_of_free)\n",
    "print(\"P value:\",p_value)"
   ]
  },
  {
   "cell_type": "code",
   "execution_count": null,
   "id": "a900847f",
   "metadata": {},
   "outputs": [],
   "source": [
    "#####up to 11 has really good p value, "
   ]
  },
  {
   "cell_type": "code",
   "execution_count": null,
   "id": "e7b900d8",
   "metadata": {},
   "outputs": [],
   "source": []
  },
  {
   "cell_type": "markdown",
   "id": "958ed737",
   "metadata": {},
   "source": [
    "## Values from Steven's Code which takes uncertainty into account\n",
    "\n",
    "chi2 =  299.754\n",
    "\n",
    "num_bins =  16\n",
    "\n",
    "dof =  15\n",
    "\n",
    "p_value =  6.28817e-55\n"
   ]
  },
  {
   "cell_type": "code",
   "execution_count": null,
   "id": "50bed96b",
   "metadata": {},
   "outputs": [],
   "source": []
  }
 ],
 "metadata": {
  "kernelspec": {
   "display_name": "Python 3 (ipykernel)",
   "language": "python",
   "name": "python3"
  },
  "language_info": {
   "codemirror_mode": {
    "name": "ipython",
    "version": 3
   },
   "file_extension": ".py",
   "mimetype": "text/x-python",
   "name": "python",
   "nbconvert_exporter": "python",
   "pygments_lexer": "ipython3",
   "version": "3.8.12"
  }
 },
 "nbformat": 4,
 "nbformat_minor": 5
}
