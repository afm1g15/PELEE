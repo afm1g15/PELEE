{
 "cells": [
  {
   "cell_type": "code",
   "execution_count": 1,
   "metadata": {},
   "outputs": [],
   "source": [
    "%load_ext autoreload\n",
    "%autoreload 2"
   ]
  },
  {
   "cell_type": "code",
   "execution_count": 2,
   "metadata": {},
   "outputs": [
    {
     "name": "stdout",
     "output_type": "stream",
     "text": [
      "/Users/elenag/Desktop/PlotterLEE/PELEE3/\n"
     ]
    }
   ],
   "source": [
    "import sys\n",
    "import localSettings as ls\n",
    "import math\n",
    "print(ls.main_path)"
   ]
  },
  {
   "cell_type": "code",
   "execution_count": 3,
   "metadata": {
    "colab": {
     "base_uri": "https://localhost:8080/",
     "height": 34
    },
    "colab_type": "code",
    "executionInfo": {
     "elapsed": 517,
     "status": "ok",
     "timestamp": 1560556807118,
     "user": {
      "displayName": "Stefano Roberto Soleti",
      "photoUrl": "https://lh4.googleusercontent.com/-hfLpspJu4Q0/AAAAAAAAAAI/AAAAAAAABmA/2kE4rtj8paU/s64/photo.jpg",
      "userId": "10372352518008961760"
     },
     "user_tz": 240
    },
    "id": "6qsD0G-yYJ9K",
    "outputId": "5d52a3ec-50be-44fc-da44-3c0593e98bc6"
   },
   "outputs": [],
   "source": [
    "main_path = ls.main_path\n",
    "sys.path.append(main_path)"
   ]
  },
  {
   "cell_type": "code",
   "execution_count": 4,
   "metadata": {},
   "outputs": [
    {
     "name": "stdout",
     "output_type": "stream",
     "text": [
      "date and time: 11112020\n"
     ]
    }
   ],
   "source": [
    "from datetime import datetime\n",
    "now = datetime.now()\n",
    "date_time = now.strftime(\"%m%d%Y\")\n",
    "print(\"date and time:\",date_time)"
   ]
  },
  {
   "cell_type": "code",
   "execution_count": 5,
   "metadata": {},
   "outputs": [],
   "source": [
    "SHRCALIBFACTOR = 1.00"
   ]
  },
  {
   "cell_type": "code",
   "execution_count": 6,
   "metadata": {},
   "outputs": [],
   "source": [
    "# USING BDT?\n",
    "USEBDT = True"
   ]
  },
  {
   "cell_type": "code",
   "execution_count": 7,
   "metadata": {},
   "outputs": [],
   "source": [
    "# Doing Run3?\n",
    "ISRUN3 = False"
   ]
  },
  {
   "cell_type": "code",
   "execution_count": 8,
   "metadata": {},
   "outputs": [],
   "source": [
    "# scale to MCC8 CV?\n",
    "MCC8WEIGHTS = False"
   ]
  },
  {
   "cell_type": "code",
   "execution_count": 9,
   "metadata": {
    "colab": {},
    "colab_type": "code",
    "id": "xGqTJ5JgaDsx"
   },
   "outputs": [],
   "source": [
    "import plotter\n",
    "import importlib\n",
    "importlib.reload(plotter)\n",
    "import uproot\n",
    "import matplotlib.pylab as pylab\n",
    "import numpy as np\n",
    "import math\n",
    "from sklearn.model_selection import train_test_split\n",
    "import pickle\n",
    "import xgboost as xgb\n",
    "import nue_booster \n",
    "importlib.reload(nue_booster)\n",
    "import awkward\n",
    "\n",
    "params = {\n",
    "    'axes.labelsize': 'x-large',\n",
    "    'axes.titlesize': 'x-large',\n",
    "    'xtick.labelsize': 'x-large',\n",
    "    'ytick.labelsize': 'x-large'\n",
    "}\n",
    "pylab.rcParams.update(params)"
   ]
  },
  {
   "cell_type": "code",
   "execution_count": 10,
   "metadata": {
    "colab": {},
    "colab_type": "code",
    "id": "iwoCIaigYJ9N"
   },
   "outputs": [
    {
     "name": "stdout",
     "output_type": "stream",
     "text": [
      "['weightSpline', 'weightSplineTimesTune', 'weightsPPFX', 'weightsReint', 'ccnc', 'nu_pdg', 'weightsFlux', 'category', 'ppfx_cv', 'weightTune', 'pi0_e', 'weightsGenie', 'true_e_visible']\n"
     ]
    }
   ],
   "source": [
    "tree = \"NeutrinoSelectionFilter\"\n",
    "NU  = 'neutrinoselection_filt_run1_overlay'   +ls.APPEND\n",
    "NUE = 'neutrinoselection_filt_run1_overlay_intrinsic'   +ls.APPEND\n",
    "\n",
    "mc   = uproot.open(ls.ntuple_path+NU +\".root\")[ls.fold][tree]\n",
    "nue  = uproot.open(ls.ntuple_path+NUE+\".root\")[ls.fold][tree]\n",
    "uproot_v = [mc,nue]\n",
    "variables = [\"true_e_visible\",\"nu_pdg\",\"ccnc\",\"category\",\"pi0_e\",\"weightSpline\",\"weightTune\",\"weightSplineTimesTune\",\"ppfx_cv\", 'weightsFlux','weightsGenie','weightsReint','weightsPPFX']\n",
    "\n",
    "\n",
    "#make the list unique\n",
    "variables = list(set(variables))\n",
    "print(variables)\n",
    "\n",
    "nue  = nue.pandas.df(variables , flatten=False)\n",
    "mc   = mc.pandas.df(variables , flatten=False)"
   ]
  },
  {
   "cell_type": "code",
   "execution_count": 11,
   "metadata": {},
   "outputs": [],
   "source": [
    "df_v = [mc,nue]\n",
    "#removeGenieTune = False\n",
    "for i,df in enumerate(df_v):\n",
    "    df.loc[ df['weightTune'] <= 0, 'weightTune' ] = 1.\n",
    "    df.loc[ df['weightTune'] == np.inf, 'weightTune' ] = 1.\n",
    "    df.loc[ df['weightTune'] > 100, 'weightTune' ] = 1.\n",
    "    df.loc[ np.isnan(df['weightTune']) == True, 'weightTune' ] = 1.    \n",
    "    df.loc[ df['weightSplineTimesTune'] <= 0, 'weightSplineTimesTune' ] = 1.\n",
    "    df.loc[ df['weightSplineTimesTune'] == np.inf, 'weightSplineTimesTune' ] = 1.\n",
    "    df.loc[ df['weightSplineTimesTune'] > 100, 'weightSplineTimesTune' ] = 1.\n",
    "    df.loc[ np.isnan(df['weightSplineTimesTune']) == True, 'weightSplineTimesTune' ] = 1.    \n",
    "    df[ 'weightSplineTimesTuneTimesPPFX' ] = df[ 'weightSplineTimesTune' ]*df['ppfx_cv']\n",
    "    # Cray cray weight fix\n",
    "    for ievt in range(df.shape[0]):\n",
    "        reweightCondition = ((df['weightsGenie'].iloc[ievt] > 3000) | (df['weightsGenie'].iloc[ievt] < 0)  | (df['weightsGenie'].iloc[ievt] == np.inf))\n",
    "        df['weightsGenie'].iloc[ievt][ reweightCondition ] = 1.\n",
    "\n"
   ]
  },
  {
   "cell_type": "code",
   "execution_count": 12,
   "metadata": {},
   "outputs": [],
   "source": [
    "df_v = [mc,nue]\n",
    "#removeGenieTune = False\n",
    "for i,df in enumerate(df_v):\n",
    "    df[ 'currentweightsafe' ] = df['weightSplineTimesTune']\n",
    "    df[ 'currentweight' ] = df['weightSplineTimesTune']\n",
    "    \n"
   ]
  },
  {
   "cell_type": "code",
   "execution_count": 13,
   "metadata": {},
   "outputs": [],
   "source": [
    "\n",
    "scaleFlat = 2\n",
    "#removeGenieTune = False\n",
    "for i,df in enumerate(df_v):\n",
    "    if scaleFlat == 1:\n",
    "        df['weightSplineTimesTune'] = df[ 'currentweight' ] \n",
    "        df.loc[ df['npi0'] > 0, 'weightSplineTimesTune' ] =  (df['weightSplineTimesTune'] * 0.759)\n",
    "    elif scaleFlat == 2:\n",
    "        df['weightSplineTimesTune'] = df[ 'currentweight' ] \n",
    "        pi0emax = 0.6\n",
    "        df.loc[ (df['pi0_e'] > 0.1) & (df['pi0_e'] < pi0emax) , 'weightSplineTimesTune'] = df['weightSplineTimesTune']*(1.-0.4*df['pi0_e'])\n",
    "        df.loc[ (df['pi0_e'] > 0.1) & (df['pi0_e'] >= pi0emax), 'weightSplineTimesTune'] = df['weightSplineTimesTune']*(1.-0.4*pi0emax)\n",
    "    elif scaleFlat == 0:\n",
    "        df['weightSplineTimesTune'] = df[ 'currentweight' ] "
   ]
  },
  {
   "cell_type": "code",
   "execution_count": 14,
   "metadata": {},
   "outputs": [],
   "source": [
    "df_v = [mc,nue]\n",
    "for i,df in enumerate(df_v):\n",
    "    df.loc[ (df['category']== 11) & (df['nu_pdg'] == -12), 'category' ] = 12\n",
    "    df.loc[ (df['category']== 10) & (df['nu_pdg'] == -12), 'category' ] = 1\n",
    "    df.loc[ (df['category']== 10) & (df['nu_pdg'] ==  12), 'category' ] = 1"
   ]
  },
  {
   "cell_type": "markdown",
   "metadata": {},
   "source": [
    "# Plotting part"
   ]
  },
  {
   "cell_type": "code",
   "execution_count": 76,
   "metadata": {},
   "outputs": [
    {
     "data": {
      "image/png": "[encoded data removed]",
      "text/plain": [
       "<Figure size 432x288 with 1 Axes>"
      ]
     },
     "metadata": {
      "needs_background": "light"
     },
     "output_type": "display_data"
    },
    {
     "data": {
      "text/plain": [
       "\"\\nnormMC  = mc['true_e_visible'].shape[0]\\nnormNue = nue['true_e_visible'].shape[0]\\nprint (normMC, normNue)\\nynue,binEdges = np.histogram(nue['true_e_visible'] , density=False, bins=25, range=(0,5))\\nymc ,binEdges = np.histogram(mc['true_e_visible']  , density=False, bins=25, range=(0,5))\\nmenStdnue     = 10*np.sqrt(ynue)/normNue\\nmenStdmc      = 10*np.sqrt(ymc)/normMC\\n\\n\\nynue,binEdges = np.histogram(nue['true_e_visible'] , density=True, bins=25, range=(0,5))\\nymc ,binEdges = np.histogram(mc['true_e_visible']  , density=True, bins=25, range=(0,5))\\nprint (np.sqrt(ynue), menStdnue)\\nbincenters = 0.5*(binEdges[1:]+binEdges[:-1])\\nwidth      = (binEdges[1:]-binEdges[:-1])\\nplt.bar(bincenters, ynue, width=width,  yerr=menStdnue,alpha=0.75, label='nue intrinsic')\\nplt.bar(bincenters, ymc , width=width,  yerr=menStdmc,alpha=0.75, label='full MC nues')\\nplt.show()\\n\""
      ]
     },
     "execution_count": 76,
     "metadata": {},
     "output_type": "execute_result"
    }
   ],
   "source": [
    "import numpy as np\n",
    "import matplotlib.pyplot as plt\n",
    "\n",
    "nue  = nue.query(\"(abs(nu_pdg) == 12 & ccnc == 0)\")\n",
    "mc   = mc.query(\"(abs(nu_pdg) == 12 & ccnc == 0)\")\n",
    "\n",
    "# the histogram of the data\n",
    "n, bins, patches = plt.hist(nue['true_e_visible'], 25, density=True, range=(0,5), alpha=0.75, label='nue intrinsic')\n",
    "n, bins, patches = plt.hist(mc['true_e_visible'] , 25, density=True, range=(0,5), alpha=0.75, label='full MC nues')\n",
    "\n",
    "#n, bins, patches = plt.hist(nue['true_e_visible'], 25, density=True, weights = nue[ 'weightSplineTimesTuneTimesPPFX' ],range=(0,5), alpha=0.75, label='nue intrinsic')\n",
    "#n, bins, patches = plt.hist(mc['true_e_visible'] , 25, density=True, weights =  mc[ 'weightSplineTimesTuneTimesPPFX' ],range=(0,5), alpha=0.75, label='full MC nues')\n",
    "\n",
    "\n",
    "plt.xlabel('true_e_visible [GeV]')\n",
    "plt.ylabel('normalized counts')\n",
    "plt.title('true E visible, no weights')\n",
    "plt.grid(True)\n",
    "plt.legend()\n",
    "plt.show()\n",
    "\n",
    "'''\n",
    "normMC  = mc['true_e_visible'].shape[0]\n",
    "normNue = nue['true_e_visible'].shape[0]\n",
    "print (normMC, normNue)\n",
    "ynue,binEdges = np.histogram(nue['true_e_visible'] , density=False, bins=25, range=(0,5))\n",
    "ymc ,binEdges = np.histogram(mc['true_e_visible']  , density=False, bins=25, range=(0,5))\n",
    "menStdnue     = 10*np.sqrt(ynue)/normNue\n",
    "menStdmc      = 10*np.sqrt(ymc)/normMC\n",
    "\n",
    "\n",
    "ynue,binEdges = np.histogram(nue['true_e_visible'] , density=True, bins=25, range=(0,5))\n",
    "ymc ,binEdges = np.histogram(mc['true_e_visible']  , density=True, bins=25, range=(0,5))\n",
    "print (np.sqrt(ynue), menStdnue)\n",
    "bincenters = 0.5*(binEdges[1:]+binEdges[:-1])\n",
    "width      = (binEdges[1:]-binEdges[:-1])\n",
    "plt.bar(bincenters, ynue, width=width,  yerr=menStdnue,alpha=0.75, label='nue intrinsic')\n",
    "plt.bar(bincenters, ymc , width=width,  yerr=menStdmc,alpha=0.75, label='full MC nues')\n",
    "plt.show()\n",
    "'''"
   ]
  },
  {
   "cell_type": "code",
   "execution_count": null,
   "metadata": {},
   "outputs": [],
   "source": [
    "import plotter\n",
    "import importlib\n",
    "importlib.reload(plotter)"
   ]
  },
  {
   "cell_type": "code",
   "execution_count": null,
   "metadata": {
    "colab": {},
    "colab_type": "code",
    "id": "_pamv0W8YJ9R"
   },
   "outputs": [],
   "source": [
    "nue  = nue.query(\"(abs(nu_pdg) == 12 & ccnc == 0)\")\n",
    "data = nue.query(\"(abs(nu_pdg) == 12 & ccnc == 0)\")\n",
    "mc   = mc.query(\"(abs(nu_pdg) == 12 & ccnc == 0)\")\n",
    "ext  = mc.query(\"(abs(nu_pdg) == 12 & ccnc == 0)\")\n",
    "\n",
    "samples = {\n",
    "    \"mc\" : mc, \n",
    "    \"nue\" : nue, \n",
    "    \"data\": data,\n",
    "    \"ext\": mc\n",
    "}\n",
    "\n",
    "scaling = 0.5\n",
    "pot =  2e+20 #partial file: 8.885e+19\n",
    "mcratio   = pot/2.18488e+21 #norm on wiki: 1.18488e+21; current norm on my plotter:  2.07136e+21\n",
    "nueratio  = pot/1.85664e+22 #1.85664e+22 #norm on wiki: 1.85664e+22\n",
    "\n",
    "\n",
    "weights = { #full sample mc = 0.38\n",
    "            \"mc\"   : mcratio  * scaling,   \n",
    "            \"ext\"  : mcratio  * scaling,\n",
    "            \"data\" : nueratio * 0. ,  \n",
    "            \"nue\"  : nueratio  ,  \n",
    "}\n",
    "print (ext.shape[0])\n",
    "my_plotter = plotter.Plotter(samples, weights, pot=pot)\n",
    "print(weights)"
   ]
  },
  {
   "cell_type": "code",
   "execution_count": null,
   "metadata": {
    "colab": {
     "base_uri": "https://localhost:8080/",
     "height": 561
    },
    "colab_type": "code",
    "executionInfo": {
     "elapsed": 2342,
     "status": "ok",
     "timestamp": 1560557343774,
     "user": {
      "displayName": "Stefano Roberto Soleti",
      "photoUrl": "https://lh4.googleusercontent.com/-hfLpspJu4Q0/AAAAAAAAAAI/AAAAAAAABmA/2kE4rtj8paU/s64/photo.jpg",
      "userId": "10372352518008961760"
     },
     "user_tz": 240
    },
    "id": "b93hN-pGYJ9T",
    "outputId": "17e7c7ed-3f12-4b03-805c-6698f1617878",
    "scrolled": false
   },
   "outputs": [],
   "source": [
    "QUERY = \"(abs(nu_pdg) == 12 & ccnc == 0)\"\n",
    "\n",
    "import matplotlib.pyplot as plt\n",
    "import matplotlib\n",
    "\n",
    "\n",
    "VARIABLE, BINS, RANGE, XTIT = 'true_e_visible', 10, (0.15,2.15), \"True Visible Energy [GeV]\"\n",
    "\n",
    "\n",
    "fig, ax1, ax2 = my_plotter.plot_variable(\n",
    "    VARIABLE,   \n",
    "    query= QUERY ,#BDTCQ,#NPLCUTQ, #QUERY, #'nslice == 1', #QUERY, #+\" and category != 111\",\n",
    "    kind=\"event_category\",\n",
    "    #kind=\"sample\",\n",
    "    #kind=\"interaction\",\n",
    "    #kind='particle_pdg',\n",
    "    draw_sys= False, #True, #False,\n",
    "    genieweight = \"weightSplineTimesTuneTimesPPFX\", #weightSplineTimesTuneTimesPPFX\", #\"noW\", #\"weightSplineTimesTuneTimesPPFX\",\n",
    "    stacksort=3,\n",
    "    title=XTIT,\n",
    "    #bins=asymm_bins,\n",
    "    bins=BINS,\n",
    "    range=RANGE,\n",
    ")[0:3]\n",
    "\n",
    "#print(\"Profile likelihood: %.2f sigma @ 1.01e21 POT\" % my_plotter.significance_likelihood)\n",
    "#print(\"s/sqrt(b): %.2f sigma @ 1.01e21 POT\" % my_plotter.significance)\n",
    "\n",
    "ax1.set_title('NuMI Run 1, Nue Comparisons',loc='left')\n",
    "fig.tight_layout()\n",
    "#fig.savefig(\"/Users/elenag/Desktop/NuMI/NuMI4PeLEE/Sidebands/Figures/NuMI/1eNp/BDTFinal/\"+VARIABLE+\"_S_Intrinsic_ReintFluxXsPPFX.pdf\")\n",
    "#print('%s %.4f %.4f %.4f ' % (VARIABLE, my_plotter.stats['pvalue'], my_plotter.stats['pvaluestatonly'],my_plotter.stats['pvaluediag'])+\"\\n\")"
   ]
  },
  {
   "cell_type": "code",
   "execution_count": null,
   "metadata": {},
   "outputs": [],
   "source": []
  },
  {
   "cell_type": "code",
   "execution_count": null,
   "metadata": {},
   "outputs": [],
   "source": []
  }
 ],
 "metadata": {
  "accelerator": "GPU",
  "colab": {
   "name": "Plotter.ipynb",
   "provenance": [],
   "version": "0.3.2"
  },
  "kernelspec": {
   "display_name": "Python 3",
   "language": "python",
   "name": "python3"
  },
  "language_info": {
   "codemirror_mode": {
    "name": "ipython",
    "version": 3
   },
   "file_extension": ".py",
   "mimetype": "text/x-python",
   "name": "python",
   "nbconvert_exporter": "python",
   "pygments_lexer": "ipython3",
   "version": "3.7.6"
  }
 },
 "nbformat": 4,
 "nbformat_minor": 2
}
