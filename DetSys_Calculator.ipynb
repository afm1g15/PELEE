{
 "cells": [
  {
   "cell_type": "markdown",
   "id": "695baa63",
   "metadata": {},
   "source": [
    "Calculate the detsys errors for nue and numu. All detsys errors here are done together, as they are totally different to the nominal samples, and the varience from them calculated. This can then be added back in with the state errors in batch plot construction. "
   ]
  },
  {
   "cell_type": "code",
   "execution_count": 46,
   "id": "49232b0a",
   "metadata": {},
   "outputs": [
    {
     "name": "stdout",
     "output_type": "stream",
     "text": [
      "/home/alex/NuMI/PELEE/\n"
     ]
    }
   ],
   "source": [
    "import pandas as pd\n",
    "import matplotlib.pyplot as plt\n",
    "import matplotlib\n",
    "import sys\n",
    "import localSettings as ls\n",
    "import math\n",
    "print(ls.main_path)\n",
    "import load_data_run123\n",
    "import plotter_alex\n",
    "import importlib\n",
    "importlib.reload(plotter_alex)\n",
    "import uproot\n",
    "import matplotlib.pylab as pylab\n",
    "import numpy as np\n",
    "import math\n",
    "from sklearn.model_selection import train_test_split\n",
    "import pickle\n",
    "import xgboost as xgb\n",
    "import nue_booster \n",
    "importlib.reload(nue_booster)\n",
    "import awkward"
   ]
  },
  {
   "cell_type": "code",
   "execution_count": 47,
   "id": "17f23c1c",
   "metadata": {},
   "outputs": [],
   "source": [
    "detvar_run1_fhc = {\n",
    "    \"LYRayleigh\": 7.59732E20, #7.60573E20, \n",
    "    \"LYDown\": 7.43109E20, \n",
    "    \"SCE\": 7.39875E20, \n",
    "    \"Recomb2\": 7.59105E20, \n",
    "    \"WireModX\": 7.64918E20, \n",
    "    \"WireModYZ\": 7.532E20, \n",
    "    \"WireModThetaXZ\": 7.64282E20,\n",
    "    \"WireModThetaYZ_withSigmaSplines\": 7.64543E20, \n",
    "    \"CV\": 7.59732E20\n",
    "}\n",
    "\n",
    "intrinsic_detvar_run1_fhc = {\n",
    "    \"LYRayleigh_intrinsic\": 2.67655E22, #2.38081E22, \n",
    "    \"LYDown_intrinsic\": 2.24505E22, \n",
    "    \"SCE_intrinsic\": 2.60685E22, #2.39023E22, \n",
    "    \"Recomb2_intrinsic\":  2.60657E22, #2.38193E22, \n",
    "    \"WireModX_intrinsic\": 2.66184E22, #2.38318E22, \n",
    "    \"WireModYZ_intrinsic\":  2.62256E22, #2.38416E22,\n",
    "    \"WireModThetaXZ_intrinsic\": 2.65175E22, #2.31518E22, \n",
    "    \"WireModThetaYZ_withSigmaSplines_intrinsic\": 2.62256E22, #2.31421E22, \n",
    "    \"CV_intrinsic\": 2.68294E22 #2.37261E22   \n",
    "}\n"
   ]
  },
  {
   "cell_type": "code",
   "execution_count": 48,
   "id": "2c3f7efd",
   "metadata": {},
   "outputs": [],
   "source": [
    "standard_dict = detvar_run1_fhc\n",
    "intrinsic_dict = intrinsic_detvar_run1_fhc\n",
    "\n",
    "run = 'run1'\n",
    "detvar = detvar_run1_fhc"
   ]
  },
  {
   "cell_type": "code",
   "execution_count": 49,
   "id": "8d94398a",
   "metadata": {},
   "outputs": [],
   "source": [
    "variables = [\n",
    "    \"nu_pdg\", \"ccnc\",\n",
    "    \"true_nu_vtx_x\", \"true_nu_vtx_y\" , \"true_nu_vtx_z\", \n",
    "    \"swtrig_pre\", \"npion\", \"nproton\", \"npi0\",\n",
    "    \"reco_nu_vtx_sce_x\",\"reco_nu_vtx_sce_y\",\"reco_nu_vtx_sce_z\",\n",
    "    \"n_tracks_contained\", \n",
    "    \"shr_tkfit_dedx_Y\",  \n",
    "    \"shrsubclusters0\",\"shrsubclusters1\",\"shrsubclusters2\", # number of sub-clusters in shower\n",
    "    \"trkshrhitdist2\",\n",
    "    \"n_showers_contained\",\n",
    "    \"shr_score\", \"tksh_angle\", \n",
    "    \"trk_energy\", \n",
    "    \"tksh_distance\", \"trk_energy_tot\",\n",
    "    \"shr_energy_tot_cali\", \"shr_energy_cali\",\n",
    "    \"nslice\", \n",
    "    \"contained_fraction\", \n",
    "    \"shrmoliereavg\", \"category\",\n",
    "    \"ppfx_cv\", \"weightSplineTimesTune\", \"NeutrinoEnergy2\", \"shr_energy_cali\", \"nu_e\"\n",
    "]"
   ]
  },
  {
   "cell_type": "code",
   "execution_count": 50,
   "id": "dba95900",
   "metadata": {},
   "outputs": [],
   "source": [
    "input_path = \"/media/alex/TOSHIBA EXT/detSys/\""
   ]
  },
  {
   "cell_type": "code",
   "execution_count": 51,
   "id": "fa3420a1",
   "metadata": {},
   "outputs": [
    {
     "data": {
      "text/plain": [
       "dict_keys(['LYRayleigh', 'LYDown', 'SCE', 'Recomb2', 'WireModX', 'WireModYZ', 'WireModThetaXZ', 'WireModThetaYZ_withSigmaSplines', 'CV'])"
      ]
     },
     "execution_count": 51,
     "metadata": {},
     "output_type": "execute_result"
    }
   ],
   "source": [
    "detvar.keys()"
   ]
  },
  {
   "cell_type": "code",
   "execution_count": 52,
   "id": "d9f16224",
   "metadata": {},
   "outputs": [],
   "source": [
    "fold = \"nuselection\"\n",
    "tree = \"NeutrinoSelectionFilter\""
   ]
  },
  {
   "cell_type": "code",
   "execution_count": 53,
   "id": "e45fc51d",
   "metadata": {},
   "outputs": [],
   "source": [
    "beamon_pot = 2e+20"
   ]
  },
  {
   "cell_type": "code",
   "execution_count": 54,
   "id": "368e0b17",
   "metadata": {},
   "outputs": [],
   "source": [
    "xvar = \"reco_e\"\n",
    "bins = np.arange(0, 5.5, 0.5)\n",
    "\n",
    "xlow = bins[0]\n",
    "xhigh = bins[-1]\n",
    "\n",
    "x_label = \"Reconstructed Energy [GeV]\""
   ]
  },
  {
   "cell_type": "code",
   "execution_count": 55,
   "id": "b972bc00",
   "metadata": {},
   "outputs": [],
   "source": [
    "reco_in_fv_query = \"10<=reco_nu_vtx_sce_x<=246 and -106<=reco_nu_vtx_sce_y<=106 and 10<=reco_nu_vtx_sce_z<=1026\"\n",
    "\n",
    "BDT_PRE_QUERY = 'nslice==1'\n",
    "BDT_PRE_QUERY += ' and ' + reco_in_fv_query\n",
    "BDT_PRE_QUERY +=' and contained_fraction>0.9'\n",
    "BDT_PRE_QUERY += ' and n_tracks_contained>0'\n",
    "BDT_PRE_QUERY += ' and n_showers_contained==1'\n",
    "BDT_PRE_QUERY += ' and shr_energy_tot_cali>0.07'\n",
    "BDT_PRE_QUERY += ' and trk_energy>0.04' #added\n",
    "\n",
    "BDT_LOOSE_CUTS = BDT_PRE_QUERY\n",
    "BDT_LOOSE_CUTS += ' and shr_score<0.3'\n",
    "BDT_LOOSE_CUTS += ' and trkpid<0.35'\n",
    "BDT_LOOSE_CUTS += ' and shrmoliereavg<15'\n",
    "BDT_LOOSE_CUTS += ' and shr_tkfit_dedx_Y<7'\n",
    "BDT_LOOSE_CUTS += ' and tksh_distance<12'\n",
    "\n",
    "NUE_SEL_QUERY = BDT_LOOSE_CUTS\n",
    "NUE_SEL_QUERY += ' and BDT_score > 0.575'\n",
    "NUE_SEL_QUERY += ' and reco_e > 0.04 and reco_e < 5'"
   ]
  },
  {
   "cell_type": "code",
   "execution_count": 56,
   "id": "53f4daea",
   "metadata": {},
   "outputs": [],
   "source": [
    "# load bdt model \n",
    "bdt_model = xgb.Booster({'nthread': 4})\n",
    "bdt_model.load_model('/home/alex/NuMI/bdt_FHC_oct2021_v3.model')\n",
    "\n",
    "useBDT = True"
   ]
  },
  {
   "cell_type": "code",
   "execution_count": 57,
   "id": "129371a8",
   "metadata": {},
   "outputs": [],
   "source": [
    "training_parameters = [\n",
    "    \"shr_score\", \"shrmoliereavg\", \"trkpid\",\n",
    "    \"n_showers_contained\", \"shr_tkfit_dedx_Y\", \"tksh_distance\",\n",
    "    \"tksh_angle\", \"subcluster\", \"trkshrhitdist2\"]"
   ]
  },
  {
   "cell_type": "code",
   "execution_count": 58,
   "id": "031a830e",
   "metadata": {},
   "outputs": [],
   "source": [
    "detvar_dict = {}"
   ]
  },
  {
   "cell_type": "code",
   "execution_count": 60,
   "id": "c0c2485f",
   "metadata": {},
   "outputs": [],
   "source": [
    "in_AV_query = \"-1.55<=true_nu_vtx_x<=254.8 and -116.5<=true_nu_vtx_y<=116.5 and 0<=true_nu_vtx_z<=1036.8\"\n",
    "nueCC_query = 'abs(nu_pdg)==12 and ccnc==0 and '+in_AV_query"
   ]
  },
  {
   "cell_type": "code",
   "execution_count": 76,
   "id": "6b34d816",
   "metadata": {},
   "outputs": [
    {
     "name": "stdout",
     "output_type": "stream",
     "text": [
      "Plotting LYRayleigh\n",
      "All good to here.\n",
      "is_signal check: True\n",
      "is_signal check: True\n",
      "# nueCC in AV in standard overlay det. sys. sample = 3045\n",
      "# of nueCC in AV removed = 3045\n",
      "Using BDT\n"
     ]
    },
    {
     "name": "stderr",
     "output_type": "stream",
     "text": [
      "/tmp/ipykernel_8070/477303600.py:55: SettingWithCopyWarning: \n",
      "A value is trying to be set on a copy of a slice from a DataFrame.\n",
      "Try using .loc[row_indexer,col_indexer] = value instead\n",
      "\n",
      "See the caveats in the documentation: https://pandas.pydata.org/pandas-docs/stable/user_guide/indexing.html#returning-a-view-versus-a-copy\n",
      "  df_intrinsic['pot_scale'] = beamon_pot/intrinsic_dict.get(variation+'_intrinsic') #intrinsic_dict.get('CV_intrinsic')/intrinsic_dict.get(variation+'_intrinsic')\n"
     ]
    },
    {
     "name": "stdout",
     "output_type": "stream",
     "text": [
      "non-nueCC events =  8.1559298664025\n",
      "dirt events =  6.116947399801875\n",
      "nue CC events =  62.434459775805664\n",
      "Plotting LYDown\n",
      "All good to here.\n",
      "is_signal check: True\n",
      "is_signal check: True\n",
      "# nueCC in AV in standard overlay det. sys. sample = 3008\n",
      "# of nueCC in AV removed = 3008\n",
      "Using BDT\n",
      "non-nueCC events =  8.100999658545886\n",
      "dirt events =  6.075749743909414\n",
      "nue CC events =  64.87601084083146\n",
      "Plotting SCE\n",
      "All good to here.\n",
      "is_signal check: True\n",
      "is_signal check: True\n",
      "# nueCC in AV in standard overlay det. sys. sample = 3007\n",
      "# of nueCC in AV removed = 3007\n",
      "Using BDT\n",
      "non-nueCC events =  8.506659707870941\n",
      "dirt events =  6.379994780903203\n",
      "nue CC events =  62.432519250830026\n",
      "Plotting Recomb2\n",
      "All good to here.\n",
      "is_signal check: True\n",
      "is_signal check: True\n",
      "# nueCC in AV in standard overlay det. sys. sample = 3127\n",
      "# of nueCC in AV removed = 3127\n",
      "Using BDT\n",
      "non-nueCC events =  6.620181536435957\n",
      "dirt events =  4.965136152326967\n",
      "nue CC events =  64.79669858919557\n",
      "Plotting WireModX\n",
      "All good to here.\n",
      "is_signal check: True\n",
      "is_signal check: True\n",
      "# nueCC in AV in standard overlay det. sys. sample = 3090\n",
      "# of nueCC in AV removed = 3090\n",
      "Using BDT\n",
      "non-nueCC events =  10.694404842953542\n",
      "dirt events =  8.020803632215157\n",
      "nue CC events =  62.62069524440245\n",
      "Plotting WireModYZ\n",
      "All good to here.\n",
      "is_signal check: True\n",
      "is_signal check: True\n",
      "# nueCC in AV in standard overlay det. sys. sample = 3022\n",
      "# of nueCC in AV removed = 3022\n",
      "Using BDT\n",
      "non-nueCC events =  9.225487986018665\n",
      "dirt events =  6.919115989513998\n",
      "nue CC events =  62.98344877176508\n",
      "Plotting WireModThetaXZ\n",
      "All good to here.\n",
      "is_signal check: True\n",
      "is_signal check: True\n",
      "# nueCC in AV in standard overlay det. sys. sample = 3096\n",
      "# of nueCC in AV removed = 3096\n",
      "Using BDT\n",
      "non-nueCC events =  8.355025799763379\n",
      "dirt events =  6.266269349822533\n",
      "nue CC events =  62.43186451874711\n",
      "Plotting WireModThetaYZ_withSigmaSplines\n",
      "All good to here.\n",
      "is_signal check: True\n",
      "is_signal check: True\n",
      "# nueCC in AV in standard overlay det. sys. sample = 3073\n",
      "# of nueCC in AV removed = 3073\n",
      "Using BDT\n",
      "non-nueCC events =  4.970255605746395\n",
      "dirt events =  3.7276917043097972\n",
      "nue CC events =  62.98344877176508\n",
      "Plotting CV\n",
      "All good to here.\n",
      "is_signal check: True\n",
      "is_signal check: True\n",
      "# nueCC in AV in standard overlay det. sys. sample = 3066\n",
      "# of nueCC in AV removed = 3066\n",
      "Using BDT\n",
      "non-nueCC events =  7.894082384233067\n",
      "dirt events =  5.9205617881748\n",
      "nue CC events =  62.56389865596859\n"
     ]
    }
   ],
   "source": [
    "for variation in detvar.keys(): \n",
    "        \n",
    "    print(\"Plotting\", variation)\n",
    "    \n",
    "    standard_input_file = input_path + \"standard_overlay/neutrinoselection_filt_\"+run+\"_overlay_\"+variation+\".root\"\n",
    "    intrinsic_input_file = input_path + \"intrinsic/neutrinoselection_filt_\"+run+\"_overlay_\"+variation+\"_intrinsic.root\"\n",
    "    \n",
    "    f_standard = uproot.open(standard_input_file)[fold][tree]\n",
    "    f_intrinsic = uproot.open(intrinsic_input_file)[fold][tree]\n",
    "    \n",
    "    uproot_v = [f_standard, f_intrinsic]\n",
    "    \n",
    "    df_standard = f_standard.pandas.df(variables, flatten=False)\n",
    "    df_intrinsic = f_intrinsic.pandas.df(variables, flatten=False)\n",
    "    \n",
    "    print(\"All good to here.\")\n",
    "    \n",
    "    INTERCEPT = 0.0\n",
    "    SLOPE = 0.83\n",
    "    \n",
    "    for i, df in enumerate([df_standard, df_intrinsic]):\n",
    "            \n",
    "        up = uproot_v[i]\n",
    "        trk_llr_pid_v = up.array('trk_llr_pid_score_v')\n",
    "        trk_id = up.array('trk_id')-1 \n",
    "        trk_llr_pid_v_sel = awkward.fromiter([pidv[tid] if tid<len(pidv) else 9999. for pidv,tid in zip(trk_llr_pid_v,trk_id)])\n",
    "        df['trkpid'] = trk_llr_pid_v_sel\n",
    "        df['subcluster'] = df['shrsubclusters0'] + df['shrsubclusters1'] + df['shrsubclusters2']\n",
    "        df[\"reco_e\"] = (df[\"shr_energy_tot_cali\"] + INTERCEPT) / SLOPE + df[\"trk_energy_tot\"]\n",
    "        \n",
    "        df['NeutrinoEnergy2_GeV'] = df['NeutrinoEnergy2']/1000\n",
    "\n",
    "        df.loc[ df['weightSplineTimesTune'] <= 0, 'weightSplineTimesTune' ] = 1.\n",
    "        df.loc[ df['weightSplineTimesTune'] == np.inf, 'weightSplineTimesTune' ] = 1.\n",
    "        df.loc[ df['weightSplineTimesTune'] > 100, 'weightSplineTimesTune' ] = 1.\n",
    "        df.loc[ np.isnan(df['weightSplineTimesTune']) == True, 'weightSplineTimesTune' ] = 1.\n",
    "            \n",
    "        # bool for is signal vs is not signal \n",
    "        df['is_signal'] = np.where((df.nu_e>0.04) & (df.nu_e <5) & (df.reco_e>0.04) & (df.reco_e <5) & (df.category==11)\n",
    "                             & (df.nu_pdg==12) & (df.ccnc==0) & (df.nproton>0) & (df.npion==0)\n",
    "                             & (-1.55 <= df.true_nu_vtx_x) & (df.true_nu_vtx_x <= 254.8)\n",
    "                             & (-116.5 <= df.true_nu_vtx_y) & (df.true_nu_vtx_y <= 116.5)\n",
    "                             & (0 <= df.true_nu_vtx_z) & (df.true_nu_vtx_z <= 1036.8), True, False)\n",
    "    \n",
    "            \n",
    "        print('is_signal check:', len(df) == len(df.query('is_signal==True')) + len(df.query('is_signal==False')))\n",
    "        \n",
    "    # APPLY SW TRIGGER\n",
    "    df_standard = df_standard.query('nslice==1')\n",
    "    df_intrinsic = df_intrinsic.query('nslice==1')\n",
    "    \n",
    "    # POT SCALING\n",
    "    df_standard['pot_scale'] = beamon_pot/standard_dict.get(variation) #standard_dict.get('CV')/standard_dict.get(variation)       \n",
    "    df_standard['pot_scale_dirt'] = (beamon_pot/standard_dict.get(variation)) * 0.75 #standard_dict.get('CV')/standard_dict.get(variation) by dirt scale      \n",
    "    df_intrinsic['pot_scale'] = beamon_pot/intrinsic_dict.get(variation+'_intrinsic') #intrinsic_dict.get('CV_intrinsic')/intrinsic_dict.get(variation+'_intrinsic') \n",
    "    \n",
    "    # remove nue CC events \n",
    "    print(\"# nueCC in AV in standard overlay det. sys. sample = \"+str(len(df_standard.query(nueCC_query))))\n",
    "    len1 = len(df_standard)\n",
    "\n",
    "    idx = df_standard.query(nueCC_query).index\n",
    "    df_standard.drop(idx, inplace=True)\n",
    "    len2 = len(df_standard) \n",
    "\n",
    "    print(\"# of nueCC in AV removed = \"+str(len1-len2)) # should be same as above\n",
    "    \n",
    "    if useBDT: \n",
    "            \n",
    "        print('Using BDT')\n",
    "        \n",
    "        df_bdt_standard = df_standard.copy()\n",
    "        df_bdt_intrinsic = df_intrinsic.copy()\n",
    "\n",
    "        # clean datasets \n",
    "        for column in training_parameters:\n",
    "            df_bdt_standard.loc[(df_bdt_standard[column] < -1.0e37) | (df_bdt_standard[column] > 1.0e37), column] = np.nan\n",
    "            df_bdt_intrinsic.loc[(df_bdt_intrinsic[column] < -1.0e37) | (df_bdt_intrinsic[column] > 1.0e37), column] = np.nan\n",
    "    \n",
    "        # apply BDT model\n",
    "        df_test_standard = xgb.DMatrix(data=df_bdt_standard[training_parameters])\n",
    "        preds_standard = bdt_model.predict(df_test_standard)\n",
    "        df_bdt_standard['BDT_score'] = preds_standard\n",
    "        \n",
    "        df_test_intrinsic = xgb.DMatrix(data=df_bdt_intrinsic[training_parameters])\n",
    "        preds_intrinsic = bdt_model.predict(df_test_intrinsic)\n",
    "        df_bdt_intrinsic['BDT_score'] = preds_intrinsic\n",
    "        \n",
    "        df_standard_sel = df_bdt_standard.query(NUE_SEL_QUERY).copy()\n",
    "        df_intrinsic_sel = df_bdt_intrinsic.query(NUE_SEL_QUERY).copy()\n",
    "        \n",
    "    else: \n",
    "        df_standard_sel = df_standard.query(NUE_SEL_QUERY).copy()\n",
    "        df_intrinsic_sel = df_intrinsic.query(NUE_SEL_QUERY).copy()\n",
    "\n",
    "    standard_counts = plt.hist(df_standard_sel[xvar], bins, range=[bins[0], bins[-1]], \n",
    "            weights=df_standard_sel['ppfx_cv']*df_standard_sel['weightSplineTimesTune']*df_standard_sel['pot_scale'])[0]\n",
    "    plt.close()\n",
    "    \n",
    "    print(\"non-nueCC events = \", sum(standard_counts))\n",
    "    \n",
    "    dirt_counts = plt.hist(df_standard_sel[xvar], bins, range=[bins[0], bins[-1]], \n",
    "            weights=df_standard_sel['ppfx_cv']*df_standard_sel['weightSplineTimesTune']*df_standard_sel['pot_scale_dirt'])[0]\n",
    "    plt.close()\n",
    "    \n",
    "    print(\"dirt events = \", sum(dirt_counts))\n",
    "    \n",
    "    intrinsic_counts = plt.hist(df_intrinsic_sel[xvar], bins, range=[bins[0], bins[-1]], \n",
    "            weights=df_intrinsic_sel['ppfx_cv']*df_intrinsic_sel['weightSplineTimesTune']*df_intrinsic_sel['pot_scale'])[0]\n",
    "    plt.close()\n",
    "\n",
    "    \n",
    "    print(\"nue CC events = \", sum(intrinsic_counts))\n",
    "\n",
    "    \n",
    "    # store counts in a dictionary \n",
    "    detvar_dict[variation] = list(standard_counts)\n",
    "    detvar_dict[variation+'_intrinsic'] = list(intrinsic_counts)\n",
    "    detvar_dict[variation+'_dirt'] = list(dirt_counts)"
   ]
  },
  {
   "cell_type": "code",
   "execution_count": 77,
   "id": "c4a2f8bc",
   "metadata": {},
   "outputs": [],
   "source": [
    "## CV background event rate \n",
    "x1 = plt.hist(df_standard_sel[xvar], bins, range=[bins[0], bins[-1]], \n",
    "            weights=df_standard_sel['ppfx_cv']*df_standard_sel['weightSplineTimesTune']*df_standard_sel['pot_scale'])[0]\n",
    "\n",
    "plt.close()\n",
    "\n",
    "x3 = plt.hist(df_standard_sel[xvar], bins, range=[bins[0], bins[-1]], \n",
    "            weights=df_standard_sel['ppfx_cv']*df_standard_sel['weightSplineTimesTune']*df_standard_sel['pot_scale_dirt'])[0]\n",
    "\n",
    "plt.close()\n",
    "\n",
    "x2 = plt.hist(df_intrinsic_sel.query('is_signal==False')[xvar], bins, range=[bins[0], bins[-1]], \n",
    "            weights=df_intrinsic_sel.query('is_signal==False')['ppfx_cv']*df_intrinsic_sel.query('is_signal==False')['weightSplineTimesTune']*df_intrinsic_sel.query('is_signal==False')['pot_scale'])[0]\n",
    "\n",
    "plt.close()"
   ]
  },
  {
   "cell_type": "code",
   "execution_count": 78,
   "id": "481eea07",
   "metadata": {},
   "outputs": [],
   "source": [
    "detvar_dict['cv_total_bkgd'] = x1+x2+x3"
   ]
  },
  {
   "cell_type": "code",
   "execution_count": 79,
   "id": "774eccb8",
   "metadata": {},
   "outputs": [],
   "source": [
    "x_err = [ round(abs(bins[x+1]-bins[x])/2, 3) for x in range(len(bins)-1) ]\n",
    "bin_centers = []\n",
    "for a in range(len(bins)-1): \n",
    "    bin_centers.append(round(bins[a] + (bins[a+1]-bins[a])/2, 3))"
   ]
  },
  {
   "cell_type": "code",
   "execution_count": 80,
   "id": "e774ca95",
   "metadata": {},
   "outputs": [
    {
     "data": {
      "text/plain": [
       "array([7.09148894e+00, 9.17737186e+00, 2.84909745e+00, 1.66987659e+00,\n",
       "       2.79404672e-01, 1.00283543e-01, 5.56814590e-01, 4.01051332e-02,\n",
       "       1.51463753e-02, 8.57110233e-03])"
      ]
     },
     "execution_count": 80,
     "metadata": {},
     "output_type": "execute_result"
    }
   ],
   "source": [
    "#background should correspond to the dirt?\n",
    "\n",
    "detvar_dict['cv_total_bkgd']"
   ]
  },
  {
   "cell_type": "code",
   "execution_count": 81,
   "id": "662e5231",
   "metadata": {},
   "outputs": [
    {
     "data": {
      "image/png": "[encoded data removed]",
      "text/plain": [
       "<Figure size 576x360 with 1 Axes>"
      ]
     },
     "metadata": {
      "needs_background": "light"
     },
     "output_type": "display_data"
    }
   ],
   "source": [
    "# nue CC variations - does not include LY Attentuation (RHC only)\n",
    "\n",
    "n=0\n",
    "fig = plt.figure(figsize=(8, 5)) \n",
    "\n",
    "\n",
    "for variation in detvar_run1_fhc.keys(): \n",
    "    \n",
    "    if variation=='CV_intrinsic': \n",
    "        continue\n",
    "        \n",
    "    if n==0: \n",
    "        plt.hist(bin_centers, bins, histtype='step', weights=detvar_dict[variation+\"_intrinsic\"], \n",
    "             linewidth=1, color='cornflowerblue', label='UV')\n",
    "        \n",
    "    else: \n",
    "        plt.hist(bin_centers, bins, histtype='step', weights=detvar_dict[variation+\"_intrinsic\"],\n",
    "             linewidth=1, color='cornflowerblue')\n",
    "        \n",
    "    n+=1\n",
    "\n",
    "plt.hist(bin_centers, bins, histtype='step', \n",
    "                 weights=detvar_dict['CV_intrinsic'], color='black', label='CV', linewidth=2)\n",
    "\n",
    "current = (plt.hist(bin_centers, bins, histtype='step', \n",
    "                 weights=detvar_dict['CV_intrinsic'], color='black', label='CV', linewidth=2)[0])\n",
    "\n",
    "plt.title('FHC intrinsic overlay ($\\\\nu_{e}$ CC events)', fontsize=16)\n",
    "\n",
    "plt.ylabel('Count' , fontsize=15) # 2.68294E22\n",
    "plt.xlabel(\"Reconstructed \"+x_label, fontsize=15)\n",
    "\n",
    "#plt.xticks(x_ticks, fontsize=13)\n",
    "plt.yticks(fontsize=13)\n",
    "\n",
    "plt.legend(frameon=False, fontsize=14)\n",
    "\n",
    "plt.xlim(xlow, xhigh)\n",
    "\n",
    "#plt.savefig(\"/uboone/data/users/kmiller/uBNuMI_CCNp/plots/combined/detsys_shr_energy_cali_fhc_intrinsic.pdf\", \n",
    "#            transparent=True, bbox_inches='tight')\n",
    "    \n",
    "plt.show()"
   ]
  },
  {
   "cell_type": "code",
   "execution_count": 82,
   "id": "86cda83a",
   "metadata": {},
   "outputs": [
    {
     "data": {
      "image/png": "[encoded data removed]",
      "text/plain": [
       "<Figure size 576x360 with 1 Axes>"
      ]
     },
     "metadata": {
      "needs_background": "light"
     },
     "output_type": "display_data"
    }
   ],
   "source": [
    "# nue CC variations - does not include LY Attentuation (RHC only)\n",
    "\n",
    "n=0\n",
    "fig = plt.figure(figsize=(8, 5)) \n",
    "\n",
    "\n",
    "for variation in detvar_run1_fhc.keys(): \n",
    "    \n",
    "    if variation=='CV': \n",
    "        continue\n",
    "        \n",
    "    if n==0: \n",
    "        plt.hist(bin_centers, bins, histtype='step', weights=detvar_dict[variation], \n",
    "             linewidth=1, color='cornflowerblue', label='UV')\n",
    "        \n",
    "    else: \n",
    "        plt.hist(bin_centers, bins, histtype='step', weights=detvar_dict[variation],\n",
    "             linewidth=1, color='cornflowerblue')\n",
    "        \n",
    "    n+=1\n",
    "\n",
    "plt.hist(bin_centers, bins, histtype='step', \n",
    "                 weights=detvar_dict['CV'], color='black', label='CV', linewidth=2)\n",
    "\n",
    "\n",
    "plt.title('FHC standard overlay (non-$\\\\nu_{e}$ CC events)', fontsize=16)\n",
    "\n",
    "plt.ylabel('Counts' , fontsize=15) # 7.59732E20+2.87219E20\n",
    "plt.xlabel(\"Reconstructed \"+x_label, fontsize=15)\n",
    "\n",
    "#plt.xticks(x_ticks, fontsize=13)\n",
    "plt.yticks(fontsize=13)\n",
    "\n",
    "plt.legend(frameon=False, fontsize=14)\n",
    "\n",
    "plt.xlim(xlow, xhigh)\n",
    "\n",
    "#plt.savefig(\"/uboone/data/users/kmiller/uBNuMI_CCNp/plots/combined/detsys_shr_energy_cali_fhc_standard.pdf\", \n",
    "#            transparent=True, bbox_inches='tight')\n",
    "    \n",
    "plt.show()"
   ]
  },
  {
   "cell_type": "code",
   "execution_count": 101,
   "id": "5208fe40",
   "metadata": {},
   "outputs": [
    {
     "data": {
      "image/png": "[encoded data removed]",
      "text/plain": [
       "<Figure size 576x360 with 1 Axes>"
      ]
     },
     "metadata": {
      "needs_background": "light"
     },
     "output_type": "display_data"
    }
   ],
   "source": [
    "# nue CC variations - does not include LY Attentuation (RHC only)\n",
    "\n",
    "n=0\n",
    "fig = plt.figure(figsize=(8, 5)) \n",
    "\n",
    "\n",
    "for variation in detvar_run1_fhc.keys(): \n",
    "    \n",
    "    if variation=='CV': \n",
    "        continue\n",
    "        \n",
    "    if n==0: \n",
    "        plt.hist(bin_centers, bins, histtype='step', weights=detvar_dict[variation+\"_dirt\"], \n",
    "             linewidth=1, color='cornflowerblue', label='UV')\n",
    "        \n",
    "    else: \n",
    "        plt.hist(bin_centers, bins, histtype='step', weights=detvar_dict[variation+\"_dirt\"],\n",
    "             linewidth=1, color='cornflowerblue')\n",
    "        \n",
    "    n+=1\n",
    "\n",
    "plt.hist(bin_centers, bins, histtype='step', \n",
    "                 weights=detvar_dict['CV_dirt'], color='black', label='CV', linewidth=2)\n",
    "\n",
    "\n",
    "plt.title('FHC standard overlay (non-$\\\\nu_{e}$ CC events)', fontsize=16)\n",
    "\n",
    "plt.ylabel('Counts' , fontsize=15) # 7.59732E20+2.87219E20\n",
    "plt.xlabel(\"Reconstructed \"+x_label, fontsize=15)\n",
    "\n",
    "#plt.xticks(x_ticks, fontsize=13)\n",
    "plt.yticks(fontsize=13)\n",
    "\n",
    "plt.legend(frameon=False, fontsize=14)\n",
    "\n",
    "plt.xlim(xlow, xhigh)\n",
    "\n",
    "#plt.savefig(\"/uboone/data/users/kmiller/uBNuMI_CCNp/plots/combined/detsys_shr_energy_cali_fhc_standard.pdf\", \n",
    "#            transparent=True, bbox_inches='tight')\n",
    "    \n",
    "plt.show()"
   ]
  },
  {
   "cell_type": "code",
   "execution_count": 84,
   "id": "9ec9d543",
   "metadata": {},
   "outputs": [
    {
     "name": "stdout",
     "output_type": "stream",
     "text": [
      "[ 1.13263788e+00  9.60562650e-01  1.90303466e+00  1.03433562e+00\n",
      "  3.57732777e-01  2.27041572e-02  6.23071606e-02  2.39844668e-02\n",
      "  3.07573229e-02 -1.66896469e-03]\n",
      "\n",
      "[ 0.24829486 -2.69572243  0.02132029  0.24083504  0.00632872 -0.05993844\n",
      " -0.00981716 -0.01510886  0.03075732 -0.0104736 ]\n"
     ]
    }
   ],
   "source": [
    "#Dedicated CV here must be with state uncertainties of nominal CV from other files\n",
    "\n",
    "#the nue wanted list from batch processing\n",
    "standard = [10.449224075510086, 31.07824842226588, 11.142672530720944, 2.7208182211142926, 1.0626423368548643, 0.3260199520259164, 0.13695140632728453, 0.0804829838961254, 0.020303320127453617, 0.02014767711723664]\n",
    "fullnue = [1.13335671e+01, 3.47345335e+01, 1.30243869e+01, 3.51431880e+00,\n",
    " 1.41404639e+00, 4.08662548e-01, 2.09075728e-01 ,1.19576309e-01,\n",
    " 2.03033201e-02, 2.89523075e-02]\n",
    "\n",
    "print(current - standard)\n",
    "print(\"\")\n",
    "print(current - fullnue)"
   ]
  },
  {
   "cell_type": "code",
   "execution_count": 85,
   "id": "e68a298a",
   "metadata": {},
   "outputs": [
    {
     "data": {
      "text/plain": [
       "[11.58186196012342,\n",
       " 32.03881107208455,\n",
       " 13.045707191028598,\n",
       " 3.755153836166542,\n",
       " 1.4203751141928862,\n",
       " 0.3487241092027986,\n",
       " 0.19925856697441446,\n",
       " 0.10446745071442365,\n",
       " 0.05106064305851277,\n",
       " 0.018478712422449917]"
      ]
     },
     "execution_count": 85,
     "metadata": {},
     "output_type": "execute_result"
    }
   ],
   "source": [
    "detvar_dict['CV_intrinsic']"
   ]
  },
  {
   "cell_type": "code",
   "execution_count": 36,
   "id": "749902db",
   "metadata": {},
   "outputs": [],
   "source": [
    "def calcCov(var, bins, ncv_nu, ncv_total, uni_counts, plot=False, save=False, axis_label=None, pot=None, isrun3=False, xticks=None, xhigh=None): \n",
    "    \n",
    "    # ncv nu is the neutrino event rate -- i.e. what gets varied in the systematics \n",
    "    # ncv total is the total event rate -- (MC + EXT or estimated signal)\n",
    "    # when background subtracting these two are the same  \n",
    "    \n",
    "    # compute the cov matrix \n",
    "    cov = [ [0]*(len(bins)-1) for x in range(len(bins)-1) ]\n",
    "    frac_cov = [ [0]*(len(bins)-1) for x in range(len(bins)-1) ]\n",
    "    cor = [ [0]*(len(bins)-1) for x in range(len(bins)-1) ]\n",
    "    \n",
    "    N = len(uni_counts)\n",
    "    print('number of universes = ', N)\n",
    "\n",
    "    #####################################################\n",
    "    \n",
    "    for k in range(N): \n",
    "        \n",
    "        uni = uni_counts[k]\n",
    "\n",
    "        for i in range(len(bins)-1): \n",
    "\n",
    "            cvi = ncv_nu[i]\n",
    "            uvi = uni[i]\n",
    "\n",
    "\n",
    "            for j in range(len(bins)-1): \n",
    "                \n",
    "                cvj = ncv_nu[j]\n",
    "                uvj = uni[j]\n",
    "        \n",
    "                c = ((uvi - cvi)*(uvj - cvj)) / N\n",
    "\n",
    "                cov[i][j] += c\n",
    "                \n",
    "                \n",
    "                if ncv_total[i]*ncv_total[j] != 0: \n",
    "                    frac_cov[i][j] += c/(ncv_total[i]*ncv_total[j])\n",
    "                    #frac_cov[i][j] = c/(ncv_total[i]*ncv_total[j])\n",
    "            \n",
    "    #####################################################\n",
    "    \n",
    "    if plot: \n",
    "        fig = plt.figure(figsize=(10, 6))\n",
    "        \n",
    "        plt.pcolor(bins, bins, cov, cmap='OrRd', edgecolors='k')\n",
    "            \n",
    "        cbar = plt.colorbar()\n",
    "        cbar.ax.tick_params(labelsize=14)\n",
    "        if pot: \n",
    "            cbar.set_label(label=\"$\\\\nu^{2}$ / \"+pot+\"$^{2}$\", fontsize=15)\n",
    "        \n",
    "        plt.xticks(xticks, fontsize=13)\n",
    "        plt.yticks(xticks,fontsize=13)\n",
    "        \n",
    "        if xhigh: \n",
    "            plt.xlim(bins[0], xhigh)\n",
    "            plt.ylim(bins[0], xhigh)\n",
    "            \n",
    "        else: \n",
    "            plt.xlim(bins[0], bins[-1])\n",
    "            plt.ylim(bins[0], bins[-1])\n",
    "\n",
    "        if axis_label is not None: \n",
    "            plt.xlabel(axis_label, fontsize=15)\n",
    "            plt.ylabel(axis_label, fontsize=15)\n",
    "        else: \n",
    "            plt.xlabel(var, fontsize=15)\n",
    "            plt.ylabel(var, fontsize=15)\n",
    "\n",
    "        plt.title('Covariance Matrix', fontsize=16)\n",
    "        \n",
    "        if save: \n",
    "            plt.savefig(save+var+\"_cov.pdf\", transparent=True, bbox_inches='tight') \n",
    "            print('saving to: '+save)\n",
    "        plt.show()\n",
    "        \n",
    "        ##################################\n",
    "        # fractional covariance \n",
    "        fig = plt.figure(figsize=(10, 6))\n",
    "        \n",
    "        plt.pcolor(bins, bins, frac_cov, cmap='OrRd', edgecolors='k')#, vmin=0, vmax=.03)\n",
    "            \n",
    "        cbar = plt.colorbar()\n",
    "        cbar.ax.tick_params(labelsize=14)\n",
    "        \n",
    "        \n",
    "        if pot: \n",
    "            cbar.set_label(label=\"$\\\\nu^{2}$ / \"+pot+\"$^{2}$\", fontsize=15)\n",
    "\n",
    "        if axis_label is not None: \n",
    "            plt.xlabel(axis_label, fontsize=15)\n",
    "            plt.ylabel(axis_label, fontsize=15)\n",
    "        else: \n",
    "            plt.xlabel(var, fontsize=15)\n",
    "            plt.ylabel(var, fontsize=15)\n",
    "            \n",
    "        plt.xticks(xticks, fontsize=13)\n",
    "        plt.yticks(xticks,fontsize=13)\n",
    "        \n",
    "        if xhigh: \n",
    "            plt.xlim(bins[0], xhigh)\n",
    "            plt.ylim(bins[0], xhigh)\n",
    "            \n",
    "        else: \n",
    "            plt.xlim(bins[0], bins[-1])\n",
    "            plt.ylim(bins[0], bins[-1])\n",
    "\n",
    "        plt.title('Fractional Covariance Matrix', fontsize=16)\n",
    "        \n",
    "        if save: \n",
    "            plt.savefig(save+var+\"_frac_cov.pdf\", transparent=True, bbox_inches='tight') \n",
    "        plt.show()\n",
    "        \n",
    "    #####################################################    \n",
    "    # compute the corr matrix \n",
    "\n",
    "    for i in range(len(cov)): \n",
    "        for j in range(len(cov[i])): \n",
    "            \n",
    "            #print(i, j, cov[i][j], cov[i][i], cov[j][j])\n",
    "\n",
    "            if np.sqrt(cov[i][i])*np.sqrt(cov[j][j]) != 0: \n",
    "                cor[i][j] = cov[i][j] / (np.sqrt(cov[i][i])*np.sqrt(cov[j][j]))\n",
    "            \n",
    "            #print(cor[i][j])\n",
    "    \n",
    "    #####################################################\n",
    "    \n",
    "    if plot: \n",
    "        fig = plt.figure(figsize=(10, 6))\n",
    "\n",
    "        plt.pcolor(bins, bins, cor, cmap='OrRd', edgecolors='k', vmin=-1, vmax=1)\n",
    "        cbar = plt.colorbar()\n",
    "        cbar.ax.tick_params(labelsize=14)\n",
    "    \n",
    "\n",
    "        if axis_label is not None: \n",
    "            plt.xlabel(axis_label, fontsize=15)\n",
    "            plt.ylabel(axis_label, fontsize=15)\n",
    "        else: \n",
    "            plt.xlabel(var, fontsize=15)\n",
    "            plt.ylabel(var, fontsize=15)\n",
    "            \n",
    "        plt.xticks(xticks, fontsize=13)\n",
    "        plt.yticks(xticks,fontsize=13)\n",
    "        \n",
    "        if pot: \n",
    "            cbar.set_label(label=\"$\\\\nu^{2}$ / \"+pot+\"$^{2}$\", fontsize=15)\n",
    "        \n",
    "        if xhigh: \n",
    "            plt.xlim(bins[0], xhigh)\n",
    "            plt.ylim(bins[0], xhigh)\n",
    "            \n",
    "        else: \n",
    "            plt.xlim(bins[0], bins[-1])\n",
    "            plt.ylim(bins[0], bins[-1])\n",
    "            \n",
    "        plt.title('Correlation Matrix', fontsize=16)\n",
    "        if save: \n",
    "            plt.savefig(save+var+\"_cor.pdf\", transparent=True, bbox_inches='tight') \n",
    "        plt.show()\n",
    "        \n",
    "    #####################################################\n",
    "    \n",
    "    # sys_err = [np.sqrt(x) for x in np.diagonal(cov)]\n",
    "    # percent error = [y/z for y,z in zip(sys_err, ncv)] # w.r.t. to whatever event rate is being used (total or background subtracted)\n",
    "        \n",
    "    dictionary = {\n",
    "        'cov' : cov, \n",
    "        'frac_cov' : frac_cov, \n",
    "        'cor' : cor,\n",
    "        'fractional_uncertainty' : np.sqrt(np.diag(frac_cov))\n",
    "    }\n",
    "           \n",
    "    return dictionary"
   ]
  },
  {
   "cell_type": "code",
   "execution_count": 87,
   "id": "47d9bb85",
   "metadata": {},
   "outputs": [
    {
     "data": {
      "text/plain": [
       "[2.6361025118209844,\n",
       " 2.359481834169267,\n",
       " 0.3054882793899809,\n",
       " 0.41387773390862126,\n",
       " 0.0,\n",
       " 0.0,\n",
       " 0.20561142888594652,\n",
       " 0.0,\n",
       " 0.0,\n",
       " 0.0]"
      ]
     },
     "execution_count": 87,
     "metadata": {},
     "output_type": "execute_result"
    }
   ],
   "source": [
    "detvar_dict['CV_dirt']"
   ]
  },
  {
   "cell_type": "code",
   "execution_count": 102,
   "id": "28ef747c",
   "metadata": {},
   "outputs": [
    {
     "name": "stdout",
     "output_type": "stream",
     "text": [
      "LYRayleigh\n",
      "number of universes =  1\n",
      "LYDown\n",
      "number of universes =  1\n",
      "SCE\n",
      "number of universes =  1\n",
      "Recomb2\n",
      "number of universes =  1\n",
      "WireModX\n",
      "number of universes =  1\n",
      "WireModYZ\n",
      "number of universes =  1\n",
      "WireModThetaXZ\n",
      "number of universes =  1\n",
      "WireModThetaYZ_withSigmaSplines\n",
      "number of universes =  1\n",
      "CV\n"
     ]
    }
   ],
   "source": [
    "# need to CV background subtract before computing the covariance\n",
    "\n",
    "detsys_cov_fhc = {}\n",
    "\n",
    "for variation in detvar_run1_fhc.keys(): \n",
    "    \n",
    "    print(variation)\n",
    "    \n",
    "    if variation=='CV': \n",
    "        continue\n",
    "        \n",
    "        \n",
    "    # ncv nu is the neutrino event rate -- i.e. what gets varied in the systematics \n",
    "    # ncv total is the total event rate -- (MC + EXT or estimated signal)\n",
    "    # when background subtracting these two are the same\n",
    "    # so can just add in dirt with the others\n",
    "    #detsys_cov_fhc[variation] = calcCov(xvar, bins, \n",
    "    #                                    [(a+b+d)-c for a,b,c,d in zip(detvar_dict['CV_intrinsic'], detvar_dict['CV'], detvar_dict['cv_total_bkgd'], detvar_dict['CV_dirt'])], \n",
    "    #                                    [(a+b+d)-c for a,b,c,d in zip(detvar_dict['CV_intrinsic'], detvar_dict['CV'], detvar_dict['cv_total_bkgd'], detvar_dict['CV_dirt'])], \n",
    "    #                                    [ [(a+b+d)-c for a,b,c,d in zip(detvar_dict[variation+\"_intrinsic\"], detvar_dict[variation], detvar_dict['cv_total_bkgd'], detvar_dict[variation+\"_dirt\"])] ] )\n",
    "    \n",
    "    detsys_cov_fhc[variation] = calcCov(xvar, bins, \n",
    "                                        [(a+b)-c for a,b,c in zip(detvar_dict['CV_intrinsic'], detvar_dict['CV'], detvar_dict['cv_total_bkgd'])], \n",
    "                                        [(a+b)-c for a,b,c in zip(detvar_dict['CV_intrinsic'], detvar_dict['CV'], detvar_dict['cv_total_bkgd'])], \n",
    "                                        [ [(a+b)-c for a,b,c in zip(detvar_dict[variation+\"_intrinsic\"], detvar_dict[variation], detvar_dict['cv_total_bkgd'])] ] )\n",
    "    "
   ]
  },
  {
   "cell_type": "code",
   "execution_count": 103,
   "id": "69e53e5e",
   "metadata": {},
   "outputs": [
    {
     "name": "stderr",
     "output_type": "stream",
     "text": [
      "<>:8: SyntaxWarning: \"is not\" with a literal. Did you mean \"!=\"?\n",
      "<>:9: SyntaxWarning: \"is not\" with a literal. Did you mean \"!=\"?\n",
      "<>:8: SyntaxWarning: \"is not\" with a literal. Did you mean \"!=\"?\n",
      "<>:9: SyntaxWarning: \"is not\" with a literal. Did you mean \"!=\"?\n",
      "/tmp/ipykernel_8070/2880698531.py:8: SyntaxWarning: \"is not\" with a literal. Did you mean \"!=\"?\n",
      "  cov[i][j] = sum([detsys_cov_fhc[x]['cov'][i][j] for x in detvar_run1_fhc.keys() if x is not 'CV'])\n",
      "/tmp/ipykernel_8070/2880698531.py:9: SyntaxWarning: \"is not\" with a literal. Did you mean \"!=\"?\n",
      "  frac_cov[i][j] = sum([detsys_cov_fhc[x]['frac_cov'][i][j] for x in detvar_run1_fhc.keys() if x is not 'CV'])\n"
     ]
    }
   ],
   "source": [
    "cov = [ [0]*(len(bins)-1) for x in range(len(bins)-1) ]\n",
    "frac_cov = [ [0]*(len(bins)-1) for x in range(len(bins)-1) ]\n",
    "cor = [ [0]*(len(bins)-1) for x in range(len(bins)-1) ]\n",
    "\n",
    "for i in range(len(bins)-1): \n",
    "    for j in range(len(bins)-1):\n",
    "            \n",
    "        cov[i][j] = sum([detsys_cov_fhc[x]['cov'][i][j] for x in detvar_run1_fhc.keys() if x is not 'CV'])\n",
    "        frac_cov[i][j] = sum([detsys_cov_fhc[x]['frac_cov'][i][j] for x in detvar_run1_fhc.keys() if x is not 'CV'])\n",
    "        \n",
    "# compute the corr matrix \n",
    "for i in range(len(cov)): \n",
    "    for j in range(len(cov[i])): \n",
    "\n",
    "        if np.sqrt(cov[i][i])*np.sqrt(cov[j][j]) != 0: \n",
    "            cor[i][j] = cov[i][j] / (np.sqrt(cov[i][i])*np.sqrt(cov[j][j]))\n",
    "\n",
    "detsys_dict = {\n",
    "    'cov' : cov, \n",
    "    'frac_cov' : frac_cov,\n",
    "    'fractional_uncertainty' : np.sqrt(np.diag(frac_cov)),\n",
    "    'cor' : cor\n",
    "} "
   ]
  },
  {
   "cell_type": "code",
   "execution_count": 104,
   "id": "568a7779",
   "metadata": {},
   "outputs": [
    {
     "data": {
      "text/plain": [
       "array([0.44377069, 0.15158629, 0.22605396, 0.38466727, 0.38410467,\n",
       "       0.88699851, 8.06537968, 1.03924842, 1.2796353 , 7.5923015 ])"
      ]
     },
     "execution_count": 104,
     "metadata": {},
     "output_type": "execute_result"
    }
   ],
   "source": [
    "detsys_dict['fractional_uncertainty']"
   ]
  },
  {
   "cell_type": "code",
   "execution_count": 95,
   "id": "d5fa6ef8",
   "metadata": {},
   "outputs": [],
   "source": [
    "np.savetxt(\"nue_nue_detsys_fracerr_full_catsel_nopions_recoE_usingSelection_recoCut_bkgsub.csv\", \n",
    "           detsys_dict['fractional_uncertainty'],\n",
    "           delimiter =\", \", \n",
    "           fmt ='% s')"
   ]
  },
  {
   "cell_type": "code",
   "execution_count": 105,
   "id": "652ea5a5",
   "metadata": {},
   "outputs": [
    {
     "data": {
      "text/plain": [
       "[[12.619991075132248,\n",
       "  -3.0276847940816443,\n",
       "  -0.7113670886816114,\n",
       "  -0.5737578550673146,\n",
       "  -0.42852397531371195,\n",
       "  -0.4422494725563152,\n",
       "  0.6344004836947518,\n",
       "  -0.09166997956346634,\n",
       "  0.028055542725033154,\n",
       "  -0.13751711857851123],\n",
       " [-3.0276847940816443,\n",
       "  15.542262420588214,\n",
       "  4.629746541979381,\n",
       "  -2.0214989125989007,\n",
       "  -0.3521200825087942,\n",
       "  0.6780098872150361,\n",
       "  -1.2265157384770848,\n",
       "  -0.014590698644129027,\n",
       "  -0.13879098158227057,\n",
       "  0.1507154262012152],\n",
       " [-0.7113670886816114,\n",
       "  4.629746541979381,\n",
       "  5.745895634776835,\n",
       "  -1.4741169223390536,\n",
       "  -0.5105069744885693,\n",
       "  0.3585469879596386,\n",
       "  -1.3129229092876713,\n",
       "  -0.03743360956033974,\n",
       "  -0.047417847205112634,\n",
       "  0.11414985097871573],\n",
       " [-0.5737578550673146,\n",
       "  -2.0214989125989007,\n",
       "  -1.4741169223390536,\n",
       "  1.0290307276363322,\n",
       "  0.33049392535725064,\n",
       "  -0.10107825669221121,\n",
       "  0.46673738330206127,\n",
       "  0.005256144740187776,\n",
       "  0.028783984289330357,\n",
       "  -0.046360578751271864],\n",
       " [-0.42852397531371195,\n",
       "  -0.3521200825087942,\n",
       "  -0.5105069744885693,\n",
       "  0.33049392535725064,\n",
       "  0.19206488388745951,\n",
       "  -0.02614172229344669,\n",
       "  0.14484891656601326,\n",
       "  0.005622338964265247,\n",
       "  0.0019806106924571184,\n",
       "  -0.003239389169882947],\n",
       " [-0.4422494725563152,\n",
       "  0.6780098872150361,\n",
       "  0.3585469879596386,\n",
       "  -0.10107825669221121,\n",
       "  -0.02614172229344669,\n",
       "  0.04856135605364776,\n",
       "  -0.1101496160479335,\n",
       "  -0.00012461120922564826,\n",
       "  -0.0048516294316019734,\n",
       "  0.011290405902719538],\n",
       " [0.6344004836947518,\n",
       "  -1.2265157384770848,\n",
       "  -1.3129229092876713,\n",
       "  0.46673738330206127,\n",
       "  0.14484891656601326,\n",
       "  -0.1101496160479335,\n",
       "  0.45254246380161595,\n",
       "  0.01800442041766396,\n",
       "  0.014696217353238216,\n",
       "  -0.03878042961761774],\n",
       " [-0.09166997956346634,\n",
       "  -0.014590698644129027,\n",
       "  -0.03743360956033974,\n",
       "  0.005256144740187776,\n",
       "  0.005622338964265247,\n",
       "  -0.00012461120922564826,\n",
       "  0.01800442041766396,\n",
       "  0.004474062980693324,\n",
       "  0.00010349991707148885,\n",
       "  0.0005284294255192756],\n",
       " [0.028055542725033154,\n",
       "  -0.13879098158227057,\n",
       "  -0.047417847205112634,\n",
       "  0.028783984289330357,\n",
       "  0.0019806106924571184,\n",
       "  -0.0048516294316019734,\n",
       "  0.014696217353238216,\n",
       "  0.00010349991707148885,\n",
       "  0.002112060993989765,\n",
       "  -0.0025370695854719932],\n",
       " [-0.13751711857851123,\n",
       "  0.1507154262012152,\n",
       "  0.11414985097871573,\n",
       "  -0.046360578751271864,\n",
       "  -0.003239389169882947,\n",
       "  0.011290405902719538,\n",
       "  -0.03878042961761774,\n",
       "  0.0005284294255192756,\n",
       "  -0.0025370695854719932,\n",
       "  0.005658283536510227]]"
      ]
     },
     "execution_count": 105,
     "metadata": {},
     "output_type": "execute_result"
    }
   ],
   "source": [
    "detsys_dict['cov']"
   ]
  },
  {
   "cell_type": "code",
   "execution_count": 106,
   "id": "76362536",
   "metadata": {},
   "outputs": [
    {
     "name": "stdout",
     "output_type": "stream",
     "text": [
      "[1.26199911e+01 1.55422624e+01 5.74589563e+00 1.02903073e+00\n",
      " 1.92064884e-01 4.85613561e-02 4.52542464e-01 4.47406298e-03\n",
      " 2.11206099e-03 5.65828354e-03]\n"
     ]
    }
   ],
   "source": [
    "#detsys_err = np.sqrt( np.diag((detsys_dict['cov'])))\n",
    "#varience\n",
    "detsys_err = ( np.diag((detsys_dict['cov'])))\n",
    "print(detsys_err)"
   ]
  },
  {
   "cell_type": "code",
   "execution_count": 107,
   "id": "0a03e682",
   "metadata": {},
   "outputs": [],
   "source": [
    "np.savetxt(\"nue_detsys_errs_full_catsel_nopions_recoE_usingSelection_recoCut_bkgsub_nodirt.csv\", \n",
    "           detsys_err,\n",
    "           delimiter =\", \", \n",
    "           fmt ='% s')"
   ]
  },
  {
   "cell_type": "code",
   "execution_count": 109,
   "id": "ab816349",
   "metadata": {},
   "outputs": [
    {
     "data": {
      "image/png": "[encoded data removed]",
      "text/plain": [
       "<Figure size 576x360 with 1 Axes>"
      ]
     },
     "metadata": {
      "needs_background": "light"
     },
     "output_type": "display_data"
    }
   ],
   "source": [
    "x_err = [ round(abs(bins[x+1]-bins[x])/2, 3) for x in range(len(bins)-1) ]\n",
    "\n",
    "plt.figure(figsize=(8, 5))\n",
    "\n",
    "#cv_bdtcut = 8767.2+5945.0 # GENIE/PPFX weighted number of events for stat uncertainty \n",
    "#cv_bdtcut_err = [np.sqrt(x)/x for x in cv_bdtcut]\n",
    "\n",
    "plt.hist(bin_centers, bins, weights=detsys_dict['fractional_uncertainty'], histtype='step', \n",
    "         label='After BDT Cut', color='limegreen', linewidth=2)\n",
    "\n",
    "plt.hlines(np.average(detsys_dict['fractional_uncertainty']), 0, 250, linestyle='--', color='darkgray', linewidth=2,\n",
    "           label='Average = '+str(round(np.average(detsys_dict['fractional_uncertainty']), 5)))\n",
    "\n",
    "plt.xlim(xlow, xhigh)\n",
    "plt.ylim(0, 0.7)\n",
    "\n",
    "plt.legend(fontsize=13,  frameon=False)\n",
    "\n",
    "plt.xlabel(\"Reconstructed \"+x_label, fontsize=14)\n",
    "plt.ylabel(\"Fractional Uncertainty\", fontsize=14)\n",
    "\n",
    "plt.xticks(fontsize=13)\n",
    "plt.yticks(fontsize=13)\n",
    "\n",
    "plt.title(\"FHC Run 1 Detector Systematics\", fontsize=15)\n",
    "\n",
    "#plt.savefig(\"/uboone/data/users/kmiller/uBNuMI_CCNp/plots/combined/detsys_shr_energy_cali_fhc_frac.pdf\", \n",
    "#            transparent=True, bbox_inches='tight')\n",
    "\n",
    "plt.show()"
   ]
  },
  {
   "cell_type": "markdown",
   "id": "5b91fcd7",
   "metadata": {},
   "source": [
    "# Intrinsic"
   ]
  },
  {
   "cell_type": "code",
   "execution_count": 110,
   "id": "b100b1c6",
   "metadata": {},
   "outputs": [
    {
     "data": {
      "image/png": "[encoded data removed]",
      "text/plain": [
       "<Figure size 432x288 with 1 Axes>"
      ]
     },
     "metadata": {
      "needs_background": "light"
     },
     "output_type": "display_data"
    },
    {
     "data": {
      "image/png": "[encoded data removed]",
      "text/plain": [
       "<Figure size 432x288 with 1 Axes>"
      ]
     },
     "metadata": {
      "needs_background": "light"
     },
     "output_type": "display_data"
    },
    {
     "data": {
      "image/png": "[encoded data removed]",
      "text/plain": [
       "<Figure size 432x288 with 1 Axes>"
      ]
     },
     "metadata": {
      "needs_background": "light"
     },
     "output_type": "display_data"
    },
    {
     "data": {
      "image/png": "[encoded data removed]",
      "text/plain": [
       "<Figure size 432x288 with 1 Axes>"
      ]
     },
     "metadata": {
      "needs_background": "light"
     },
     "output_type": "display_data"
    },
    {
     "data": {
      "image/png": "[encoded data removed]",
      "text/plain": [
       "<Figure size 432x288 with 1 Axes>"
      ]
     },
     "metadata": {
      "needs_background": "light"
     },
     "output_type": "display_data"
    },
    {
     "data": {
      "image/png": "[encoded data removed]",
      "text/plain": [
       "<Figure size 432x288 with 1 Axes>"
      ]
     },
     "metadata": {
      "needs_background": "light"
     },
     "output_type": "display_data"
    },
    {
     "data": {
      "image/png": "[encoded data removed]",
      "text/plain": [
       "<Figure size 432x288 with 1 Axes>"
      ]
     },
     "metadata": {
      "needs_background": "light"
     },
     "output_type": "display_data"
    },
    {
     "data": {
      "image/png": "[encoded data removed]",
      "text/plain": [
       "<Figure size 432x288 with 1 Axes>"
      ]
     },
     "metadata": {
      "needs_background": "light"
     },
     "output_type": "display_data"
    }
   ],
   "source": [
    "for variation in detvar: \n",
    "    \n",
    "    if variation=='CV': \n",
    "        continue\n",
    "    \n",
    "    plt.hist(bin_centers, bins, histtype='step', \n",
    "                        range=[bins[0], bins[-1]], weights=detvar_dict[variation+'_intrinsic'], \n",
    "                        color='cornflowerblue', linewidth=0.5, label='UV')\n",
    "    \n",
    "    plt.errorbar(bin_centers, detvar_dict['CV_intrinsic'], xerr=x_err, fmt='none', color='black', linewidth=2, label='CV')\n",
    "    plt.xlabel(xvar, fontsize=14)\n",
    "    #plt.ylabel('$\\\\nu$ / '+str(beamon_pot)+' POT', fontsize=14)\n",
    "    plt.title(variation+' (nue CC events)')\n",
    "    plt.legend()\n",
    "    plt.show()"
   ]
  },
  {
   "cell_type": "code",
   "execution_count": 111,
   "id": "396863ee",
   "metadata": {},
   "outputs": [
    {
     "name": "stdout",
     "output_type": "stream",
     "text": [
      "number of universes =  1\n",
      "number of universes =  1\n",
      "number of universes =  1\n",
      "number of universes =  1\n",
      "number of universes =  1\n",
      "number of universes =  1\n",
      "number of universes =  1\n",
      "number of universes =  1\n"
     ]
    }
   ],
   "source": [
    "detsys_cov_nueCC = {}\n",
    "\n",
    "\n",
    "for variation in detvar.keys(): \n",
    "    \n",
    "    if variation=='CV': \n",
    "        continue\n",
    "   \n",
    "    detsys_cov_nueCC[variation+\"_to_nueCC\"] = calcCov(xvar, bins, detvar_dict['CV_intrinsic'], \n",
    "                                              detvar_dict['CV_intrinsic'], \n",
    "                                              [detvar_dict[variation+'_intrinsic']])\n",
    "  "
   ]
  },
  {
   "cell_type": "code",
   "execution_count": 112,
   "id": "49c3082f",
   "metadata": {},
   "outputs": [
    {
     "name": "stderr",
     "output_type": "stream",
     "text": [
      "<>:11: SyntaxWarning: \"is not\" with a literal. Did you mean \"!=\"?\n",
      "<>:12: SyntaxWarning: \"is not\" with a literal. Did you mean \"!=\"?\n",
      "<>:11: SyntaxWarning: \"is not\" with a literal. Did you mean \"!=\"?\n",
      "<>:12: SyntaxWarning: \"is not\" with a literal. Did you mean \"!=\"?\n",
      "/tmp/ipykernel_8070/1594932613.py:11: SyntaxWarning: \"is not\" with a literal. Did you mean \"!=\"?\n",
      "  cov[i][j] = sum([detsys_cov_nueCC[x+\"_to_nueCC\"]['cov'][i][j] for x in detvar.keys() if x is not 'CV'])\n",
      "/tmp/ipykernel_8070/1594932613.py:12: SyntaxWarning: \"is not\" with a literal. Did you mean \"!=\"?\n",
      "  frac_cov[i][j] = sum([detsys_cov_nueCC[x+\"_to_nueCC\"]['frac_cov'][i][j] for x in detvar.keys() if x is not 'CV'])\n"
     ]
    },
    {
     "data": {
      "text/plain": [
       "array([0.06078816, 0.09721877, 0.11055273, 0.21268801, 0.30728925,\n",
       "       0.63192193, 0.2462487 , 0.64028017, 0.90005065, 4.07071452])"
      ]
     },
     "execution_count": 112,
     "metadata": {},
     "output_type": "execute_result"
    }
   ],
   "source": [
    "# TOTAL cov, corr, fractional uncertainty -- nue CC \n",
    "\n",
    "\n",
    "cov = [ [0]*(len(bins)-1) for x in range(len(bins)-1) ]\n",
    "frac_cov = [ [0]*(len(bins)-1) for x in range(len(bins)-1) ]\n",
    "cor = [ [0]*(len(bins)-1) for x in range(len(bins)-1) ]\n",
    "\n",
    "for i in range(len(bins)-1): \n",
    "        for j in range(len(bins)-1):\n",
    "            \n",
    "            cov[i][j] = sum([detsys_cov_nueCC[x+\"_to_nueCC\"]['cov'][i][j] for x in detvar.keys() if x is not 'CV'])\n",
    "            frac_cov[i][j] = sum([detsys_cov_nueCC[x+\"_to_nueCC\"]['frac_cov'][i][j] for x in detvar.keys() if x is not 'CV'])\n",
    "\n",
    "for i in range(len(bins)-1): \n",
    "    for j in range(len(bins)-1):\n",
    "        \n",
    "        if np.sqrt(cov[i][i])*np.sqrt(cov[j][j]) != 0: \n",
    "                cor[i][j] = cov[i][j] / (np.sqrt(cov[i][i])*np.sqrt(cov[j][j]))\n",
    "            \n",
    "nueCC_detsys_dict = {\n",
    "    'cov' : cov, \n",
    "    'frac_cov' : frac_cov,\n",
    "    'cor' : cor,\n",
    "    'fractional_uncertainty' : np.sqrt(np.diag(frac_cov))\n",
    "} \n",
    "\n",
    "nueCC_detsys_dict['fractional_uncertainty']"
   ]
  },
  {
   "cell_type": "code",
   "execution_count": 113,
   "id": "98d8cd3a",
   "metadata": {},
   "outputs": [
    {
     "name": "stdout",
     "output_type": "stream",
     "text": [
      "[4.95672485e-01 9.70181655e+00 2.08005187e+00 6.37883662e-01\n",
      " 1.90502575e-01 4.85613561e-02 2.40758657e-03 4.47406298e-03\n",
      " 2.11206099e-03 5.65828354e-03]\n"
     ]
    }
   ],
   "source": [
    "nueCC_detsys_err = ( np.diag((nueCC_detsys_dict['cov'])))\n",
    "print(nueCC_detsys_err)"
   ]
  },
  {
   "cell_type": "code",
   "execution_count": null,
   "id": "7e832f0a",
   "metadata": {},
   "outputs": [],
   "source": []
  }
 ],
 "metadata": {
  "kernelspec": {
   "display_name": "Python 3 (ipykernel)",
   "language": "python",
   "name": "python3"
  },
  "language_info": {
   "codemirror_mode": {
    "name": "ipython",
    "version": 3
   },
   "file_extension": ".py",
   "mimetype": "text/x-python",
   "name": "python",
   "nbconvert_exporter": "python",
   "pygments_lexer": "ipython3",
   "version": "3.8.12"
  }
 },
 "nbformat": 4,
 "nbformat_minor": 5
}
