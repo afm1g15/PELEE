{
 "cells": [
  {
   "cell_type": "code",
   "execution_count": 1,
   "id": "2879806d",
   "metadata": {},
   "outputs": [
    {
     "name": "stdout",
     "output_type": "stream",
     "text": [
      "Welcome to JupyROOT 6.24/02\n"
     ]
    }
   ],
   "source": [
    "import sys\n",
    "\n",
    "#sys.path.insert(0, 'backend_functions')\n",
    "\n",
    "#import selection_functions as sf\n",
    "\n",
    "import importlib\n",
    "\n",
    "import uproot\n",
    "import matplotlib.pylab as pylab\n",
    "import numpy as np\n",
    "import math\n",
    "from sklearn.model_selection import train_test_split\n",
    "import pickle\n",
    "import xgboost as xgb\n",
    "\n",
    "import awkward\n",
    "import matplotlib.pyplot as plt\n",
    "import pandas as pd\n",
    "\n",
    "import ROOT\n",
    "from ROOT import TH1F, TH2F, TDirectory, TH1D\n",
    "\n",
    "from matplotlib import gridspec\n"
   ]
  },
  {
   "cell_type": "code",
   "execution_count": 2,
   "id": "cdd417ad",
   "metadata": {},
   "outputs": [],
   "source": [
    "ending = \"Dec19_MECTune\""
   ]
  },
  {
   "cell_type": "code",
   "execution_count": 3,
   "id": "8b14eea6",
   "metadata": {},
   "outputs": [],
   "source": [
    "##Regular tune prior true and smearcept to be used\n",
    "\n",
    "\n",
    "#Recall for comparison it will be the MEC tune for prior true"
   ]
  },
  {
   "cell_type": "code",
   "execution_count": 4,
   "id": "c7c3f6cb",
   "metadata": {},
   "outputs": [
    {
     "name": "stdout",
     "output_type": "stream",
     "text": [
      "[  2.38771548   3.36090025   4.07975694   8.68619826   9.68867537\n",
      "  11.05054344  14.87176831  25.90293794  49.4253173  149.99758453]\n",
      "\n",
      "[  57.2325191    44.82742995   59.02327659   76.11232753   87.1915794\n",
      "  147.03185493  205.63440389  318.68880869  601.9700348  1177.11559803]\n"
     ]
    }
   ],
   "source": [
    "####Load in MECTune full event counts\n",
    "\n",
    "nue_data_signal = pd.read_csv(\"nue_full_500_catsel_nopions_angleDiff_usingSelection_full_evt_count_MCONLY_recoCut_comb_\"+ending+\".csv\", header=None)\n",
    "\n",
    "nue_data_signal = nue_data_signal.values[:, 0]\n",
    "\n",
    "print(nue_data_signal)\n",
    "print(\"\")\n",
    "\n",
    "######\n",
    "\n",
    "numu_data_signal = pd.read_csv(\"numu_full_500_catsel_nopions_angleDiff_usingSelection_full_evt_count_MCONLY_recoCut_comb_\"+ending+\".csv\", header=None)\n",
    "\n",
    "numu_data_signal = numu_data_signal.values[:, 0]\n",
    "\n",
    "print(numu_data_signal)"
   ]
  },
  {
   "cell_type": "code",
   "execution_count": 5,
   "id": "a999b771",
   "metadata": {},
   "outputs": [
    {
     "name": "stdout",
     "output_type": "stream",
     "text": [
      "[ 1.125004    1.3636628   1.93697273  4.85652612  3.56279372  4.10128825\n",
      "  3.96303553  6.46732686 11.57036818 40.86414887]\n",
      "\n",
      "[ 21.63167491  13.5363924   12.56102384  13.12996887  18.81793676\n",
      "  36.03563436  54.47993438  87.76891513 173.57981138 357.68668115]\n",
      "\n"
     ]
    }
   ],
   "source": [
    "###Load in regular tune bkg event counts\n",
    "#Include ext in bkg count here as the full event counts do\n",
    "\n",
    "ending = \"Dec19\" #need this ending as bkg is from regular tune\n",
    "\n",
    "\n",
    "\n",
    "nue_bkg_inc_ext = pd.read_csv(\"nue_nopions_angleDiff_usingSelection_comb_cv_nue_bkg_incExt_\"+ending+\".csv\", header=None)\n",
    "\n",
    "nue_bkg_inc_ext = nue_bkg_inc_ext.values[:, 0]\n",
    "\n",
    "print(nue_bkg_inc_ext)\n",
    "print(\"\")\n",
    "\n",
    "#######################\n",
    "\n",
    "numu_bkg_inc_ext = pd.read_csv(\"numu_nopions_angleDiff_usingSelection_comb_cv_numu_bkg_incExt_\"+ending+\".csv\", header=None)\n",
    "\n",
    "numu_bkg_inc_ext = numu_bkg_inc_ext.values[:, 0]\n",
    "\n",
    "print(numu_bkg_inc_ext)\n",
    "print(\"\")"
   ]
  },
  {
   "cell_type": "code",
   "execution_count": 6,
   "id": "0fe6cc8a",
   "metadata": {},
   "outputs": [
    {
     "name": "stdout",
     "output_type": "stream",
     "text": [
      "[  1.26271148   1.99723746   2.14278421   3.82967214   6.12588165\n",
      "   6.94925519  10.90873278  19.43561108  37.85494912 109.13343566]\n",
      "\n",
      "[ 35.60084419  31.29103754  46.46225275  62.98235867  68.37364264\n",
      " 110.99622058 151.15446951 230.91989356 428.39022342 819.42891688]\n"
     ]
    }
   ],
   "source": [
    "####So then can calculate the data signal input to the unfolding\n",
    "\n",
    "nue_datasig_bkg_subtracted = nue_data_signal - nue_bkg_inc_ext\n",
    "print(nue_datasig_bkg_subtracted)\n",
    "print(\"\")\n",
    "\n",
    "numu_datasig_bkg_subtracted = numu_data_signal - numu_bkg_inc_ext\n",
    "print(numu_datasig_bkg_subtracted)"
   ]
  },
  {
   "cell_type": "code",
   "execution_count": 7,
   "id": "1d47fce7",
   "metadata": {},
   "outputs": [
    {
     "name": "stdout",
     "output_type": "stream",
     "text": [
      "[  1.26271148   1.99723746   2.14278421   3.82967214   6.12588165\n",
      "   6.94925519  10.90873278  19.43561108  37.85494912 109.13343566\n",
      "  35.60084419  31.29103754  46.46225275  62.98235867  68.37364264\n",
      " 110.99622058 151.15446951 230.91989356 428.39022342 819.42891688]\n",
      "20\n"
     ]
    }
   ],
   "source": [
    "nue_numu_tot = np.concatenate((nue_datasig_bkg_subtracted, numu_datasig_bkg_subtracted), axis=0)\n",
    "\n",
    "print(nue_numu_tot)\n",
    "print(len(nue_numu_tot))"
   ]
  },
  {
   "cell_type": "code",
   "execution_count": 8,
   "id": "237e5524",
   "metadata": {},
   "outputs": [
    {
     "data": {
      "image/png": "[encoded data removed]",
      "text/plain": [
       "<Figure size 576x504 with 1 Axes>"
      ]
     },
     "metadata": {
      "needs_background": "light"
     },
     "output_type": "display_data"
    }
   ],
   "source": [
    "nue_numu_fig = plt.figure(figsize=(8, 7))\n",
    "nue_numu_gs = gridspec.GridSpec(2, 1, height_ratios=[2, 1])\n",
    "nue_numu_ax1 = plt.subplot(nue_numu_gs[0])\n",
    "\n",
    "\n",
    "#bins = np.arange(0, 10.5, 0.5)\n",
    "#count = np.linspace(0.1, 9.6, 20)\n",
    "bins = np.arange(0, 21, 1)\n",
    "count = np.arange(0.0, 20.0, 1)\n",
    "\n",
    "\n",
    "sel_ratio = nue_numu_ax1.hist(count, bins, edgecolor='red', facecolor='red', weights=nue_numu_tot)\n",
    "nue_numu_ax1.set_ylabel('Count', fontsize=15)\n",
    "nue_numu_ax1.set_xlabel('Bin Number', fontsize=15)\n",
    "nue_numu_ax1.set_title(\"Nue, Numu, Data Selected Values\")\n",
    "#leg = nue_numu_ax1.legend()\n",
    "#nue_numu_ax1.set_ylim([0, 1])\n",
    "\n",
    "nue_numu_fig.savefig(\"data_signal_MC_MECTune_input_angleDiff_comb_\"+ending+\".svg\", bbox_inches='tight')"
   ]
  },
  {
   "cell_type": "code",
   "execution_count": 9,
   "id": "ec3bcd31",
   "metadata": {},
   "outputs": [
    {
     "name": "stdout",
     "output_type": "stream",
     "text": [
      "Dec19\n"
     ]
    }
   ],
   "source": [
    "np.savetxt(\"data_signal_MC_MECTune_input_angleDiff_comb_\"+ending+\".csv\", \n",
    "               nue_numu_tot,\n",
    "               delimiter =\", \", \n",
    "               fmt ='% s')\n",
    "\n",
    "print(ending)"
   ]
  },
  {
   "cell_type": "code",
   "execution_count": 18,
   "id": "d36109d1",
   "metadata": {},
   "outputs": [
    {
     "name": "stdout",
     "output_type": "stream",
     "text": [
      "[ 0.49171135  0.42840553  1.16143552  2.16666775  1.35295846  1.67200542\n",
      "  1.37653703  2.26299881  3.96051443 16.91143086]\n",
      "\n",
      "[  17.11518939   11.42448771   22.032146     33.95799117   27.05823194\n",
      "  112.17960578  127.63059934  213.82845357  512.36903969 1441.50046608]\n",
      "\n",
      "[0.40361937 0.37869795 1.09248271 1.87785601 1.11476086 1.52469818\n",
      " 0.87277381 1.16674332 1.48117631 5.47838269]\n",
      "\n",
      "[ 5.56527103  3.31864546  4.92737201  3.85884493  6.41568387 16.33395278\n",
      " 23.07504552 32.3956967  55.28743915 96.00956256]\n",
      "\n"
     ]
    }
   ],
   "source": [
    "####Now need to get in the uncertainties\n",
    "\n",
    "###First up, get the noTune statistical uncertinaty. This will be from sig + bkg in noTune\n",
    "\n",
    "ending = \"Dec19_MECTune\" \n",
    "\n",
    "\n",
    "nue_sig_unc = pd.read_csv(\"nue_total_noTune_err_squared_angle_comb_\"+ending+\".csv\", header=None)\n",
    "\n",
    "nue_sig_unc = nue_sig_unc.values[:, 0]\n",
    "\n",
    "print(nue_sig_unc)\n",
    "print(\"\")\n",
    "\n",
    "########################\n",
    "\n",
    "numu_sig_unc = pd.read_csv(\"numu_total_noTune_err_squared_angle_comb_\"+ending+\".csv\", header=None)\n",
    "\n",
    "numu_sig_unc = numu_sig_unc.values[:, 0]\n",
    "\n",
    "print(numu_sig_unc)\n",
    "print(\"\")\n",
    "\n",
    "#######################The regular tune bkg stat uncertainties\n",
    "\n",
    "ending = \"Dec19\" #need this ending as bkg is from regular tune\n",
    "\n",
    "\n",
    "nue_bkg_unc = pd.read_csv(\"nue_bkg_exp_err_squared_angle_comb_\"+ending+\".csv\", header=None)\n",
    "\n",
    "nue_bkg_unc = nue_bkg_unc.values[:, 0]\n",
    "\n",
    "print(nue_bkg_unc)\n",
    "print(\"\")\n",
    "\n",
    "########################\n",
    "\n",
    "numu_bkg_unc = pd.read_csv(\"numu_bkg_exp_err_squared_angle_comb_\"+ending+\".csv\", header=None)\n",
    "\n",
    "numu_bkg_unc = numu_bkg_unc.values[:, 0]\n",
    "\n",
    "print(numu_bkg_unc)\n",
    "print(\"\")"
   ]
  },
  {
   "cell_type": "code",
   "execution_count": 19,
   "id": "ce8bac06",
   "metadata": {},
   "outputs": [
    {
     "name": "stdout",
     "output_type": "stream",
     "text": [
      "[ 0.89533072  0.80710349  2.25391823  4.04452376  2.46771932  3.19670359\n",
      "  2.24931084  3.42974214  5.44169074 22.38981354]\n",
      "\n",
      "[  22.68046042   14.74313317   26.95951801   37.81683611   33.47391581\n",
      "  128.51355856  150.70564486  246.22415027  567.65647885 1537.51002864]\n",
      "\n",
      "[8.95330717e-01 8.07103486e-01 2.25391823e+00 4.04452376e+00\n",
      " 2.46771932e+00 3.19670359e+00 2.24931084e+00 3.42974214e+00\n",
      " 5.44169074e+00 2.23898135e+01 2.26804604e+01 1.47431332e+01\n",
      " 2.69595180e+01 3.78168361e+01 3.34739158e+01 1.28513559e+02\n",
      " 1.50705645e+02 2.46224150e+02 5.67656479e+02 1.53751003e+03]\n"
     ]
    }
   ],
   "source": [
    "nue_stat_unc = nue_sig_unc + nue_bkg_unc\n",
    "print(nue_stat_unc)\n",
    "print(\"\")\n",
    "\n",
    "########################\n",
    "\n",
    "numu_stat_unc = numu_sig_unc + numu_bkg_unc\n",
    "print(numu_stat_unc)\n",
    "print(\"\")\n",
    "\n",
    "#########################\n",
    "\n",
    "nue_numu_tot_unc = np.concatenate((nue_stat_unc, numu_stat_unc), axis=0)\n",
    "\n",
    "print(nue_numu_tot_unc)"
   ]
  },
  {
   "cell_type": "code",
   "execution_count": 20,
   "id": "19ba13ad",
   "metadata": {},
   "outputs": [
    {
     "name": "stdout",
     "output_type": "stream",
     "text": [
      "[[0. 0. 0. 0. 0. 0. 0. 0. 0. 0. 0. 0. 0. 0. 0. 0. 0. 0. 0. 0.]\n",
      " [0. 0. 0. 0. 0. 0. 0. 0. 0. 0. 0. 0. 0. 0. 0. 0. 0. 0. 0. 0.]\n",
      " [0. 0. 0. 0. 0. 0. 0. 0. 0. 0. 0. 0. 0. 0. 0. 0. 0. 0. 0. 0.]\n",
      " [0. 0. 0. 0. 0. 0. 0. 0. 0. 0. 0. 0. 0. 0. 0. 0. 0. 0. 0. 0.]\n",
      " [0. 0. 0. 0. 0. 0. 0. 0. 0. 0. 0. 0. 0. 0. 0. 0. 0. 0. 0. 0.]\n",
      " [0. 0. 0. 0. 0. 0. 0. 0. 0. 0. 0. 0. 0. 0. 0. 0. 0. 0. 0. 0.]\n",
      " [0. 0. 0. 0. 0. 0. 0. 0. 0. 0. 0. 0. 0. 0. 0. 0. 0. 0. 0. 0.]\n",
      " [0. 0. 0. 0. 0. 0. 0. 0. 0. 0. 0. 0. 0. 0. 0. 0. 0. 0. 0. 0.]\n",
      " [0. 0. 0. 0. 0. 0. 0. 0. 0. 0. 0. 0. 0. 0. 0. 0. 0. 0. 0. 0.]\n",
      " [0. 0. 0. 0. 0. 0. 0. 0. 0. 0. 0. 0. 0. 0. 0. 0. 0. 0. 0. 0.]\n",
      " [0. 0. 0. 0. 0. 0. 0. 0. 0. 0. 0. 0. 0. 0. 0. 0. 0. 0. 0. 0.]\n",
      " [0. 0. 0. 0. 0. 0. 0. 0. 0. 0. 0. 0. 0. 0. 0. 0. 0. 0. 0. 0.]\n",
      " [0. 0. 0. 0. 0. 0. 0. 0. 0. 0. 0. 0. 0. 0. 0. 0. 0. 0. 0. 0.]\n",
      " [0. 0. 0. 0. 0. 0. 0. 0. 0. 0. 0. 0. 0. 0. 0. 0. 0. 0. 0. 0.]\n",
      " [0. 0. 0. 0. 0. 0. 0. 0. 0. 0. 0. 0. 0. 0. 0. 0. 0. 0. 0. 0.]\n",
      " [0. 0. 0. 0. 0. 0. 0. 0. 0. 0. 0. 0. 0. 0. 0. 0. 0. 0. 0. 0.]\n",
      " [0. 0. 0. 0. 0. 0. 0. 0. 0. 0. 0. 0. 0. 0. 0. 0. 0. 0. 0. 0.]\n",
      " [0. 0. 0. 0. 0. 0. 0. 0. 0. 0. 0. 0. 0. 0. 0. 0. 0. 0. 0. 0.]\n",
      " [0. 0. 0. 0. 0. 0. 0. 0. 0. 0. 0. 0. 0. 0. 0. 0. 0. 0. 0. 0.]\n",
      " [0. 0. 0. 0. 0. 0. 0. 0. 0. 0. 0. 0. 0. 0. 0. 0. 0. 0. 0. 0.]]\n"
     ]
    }
   ],
   "source": [
    "nue_numu_cov_stats   = np.zeros([(len(bins)-1), (len(bins)-1)])\n",
    "print(nue_numu_cov_stats)"
   ]
  },
  {
   "cell_type": "code",
   "execution_count": 21,
   "id": "ded66ab1",
   "metadata": {},
   "outputs": [],
   "source": [
    "nue_numu_cov_stats[np.diag_indices_from(nue_numu_cov_stats)]    = nue_numu_tot_unc"
   ]
  },
  {
   "cell_type": "code",
   "execution_count": 22,
   "id": "f41989e6",
   "metadata": {},
   "outputs": [
    {
     "name": "stdout",
     "output_type": "stream",
     "text": [
      "[[ 9.68778134e-02  1.10334529e-01  7.84051080e-02  2.20596428e-01\n",
      "   2.28404681e-01  2.60428796e-01  3.39854689e-01  6.33217123e-01\n",
      "   1.16965343e+00  3.04817041e+00  8.88721229e-01  6.57816253e-01\n",
      "   5.19836969e-01  6.19034096e-01  6.87199754e-01  9.81192982e-01\n",
      "   1.45510982e+00  2.30800458e+00  4.38893975e+00  5.76140775e+00]\n",
      " [ 1.10334529e-01  2.49241391e-01  1.31821984e-01  1.80784019e-01\n",
      "   2.65553748e-01  4.70884917e-01  4.51429199e-01  7.35551979e-01\n",
      "   7.96601730e-01 -3.40907874e-01  1.09536104e+00  5.56559562e-01\n",
      "   9.12907002e-01  1.41805169e+00  1.10362933e+00  3.10770094e+00\n",
      "   4.19430817e+00  7.02263652e+00  1.57385405e+01  3.32746065e+01]\n",
      " [ 7.84051080e-02  1.31821984e-01  1.27387040e-01  1.80359573e-01\n",
      "   2.67029747e-01  3.92746638e-01  4.55347209e-01  7.41614835e-01\n",
      "   1.03421871e+00  1.41575229e+00  6.30058460e-01  3.42791110e-01\n",
      "   4.84651951e-01  7.11316021e-01  6.35558339e-01  1.61479887e+00\n",
      "   2.44467095e+00  3.99410652e+00  9.12789236e+00  2.07555870e+01]\n",
      " [ 2.20596428e-01  1.80784019e-01  1.80359573e-01  9.16133366e-01\n",
      "   6.66718971e-01  5.92960894e-01  9.62973877e-01  1.74646755e+00\n",
      "   3.96018185e+00  1.27533731e+01  4.74133930e+00  4.35011087e+00\n",
      "   3.40730554e+00  3.12856035e+00  4.92440001e+00  2.84600044e+00\n",
      "   5.37263483e+00  6.27470971e+00  5.47419577e+00 -1.64744149e+01]\n",
      " [ 2.28404681e-01  2.65553748e-01  2.67029747e-01  6.66718971e-01\n",
      "   8.37237082e-01  8.77861737e-01  1.16566740e+00  1.98213011e+00\n",
      "   3.51101876e+00  7.96214211e+00  2.23314043e+00  1.73579954e+00\n",
      "   1.41497358e+00  1.52445184e+00  2.19077891e+00  2.57632455e+00\n",
      "   4.31706858e+00  6.51255229e+00  1.14082811e+01  1.85883802e+01]\n",
      " [ 2.60428796e-01  4.70884917e-01  3.92746638e-01  5.92960894e-01\n",
      "   8.77861737e-01  1.47980835e+00  1.46175336e+00  2.34644475e+00\n",
      "   3.09259031e+00  1.37731673e+00  2.29595927e+00  1.31144231e+00\n",
      "   1.64363392e+00  2.29917977e+00  2.13184687e+00  4.93356017e+00\n",
      "   7.22024813e+00  1.17161823e+01  2.52583770e+01  5.40027599e+01]\n",
      " [ 3.39854689e-01  4.51429199e-01  4.55347209e-01  9.62973877e-01\n",
      "   1.16566740e+00  1.46175336e+00  2.17153852e+00  3.62900687e+00\n",
      "   6.88189166e+00  1.91646574e+01  2.38112008e+00  1.54452954e+00\n",
      "   2.00886017e+00  2.58677843e+00  2.78895171e+00  5.44390673e+00\n",
      "   8.38168123e+00  1.29016409e+01  2.70931605e+01  5.94448647e+01]\n",
      " [ 6.33217123e-01  7.35551979e-01  7.41614835e-01  1.74646755e+00\n",
      "   1.98213011e+00  2.34644475e+00  3.62900687e+00  6.60114717e+00\n",
      "   1.33416945e+01  4.06163095e+01  3.38974846e+00  2.23224001e+00\n",
      "   2.19057897e+00  2.82948556e+00  2.93429833e+00  5.48059381e+00\n",
      "   8.16587534e+00  1.28219099e+01  2.72588587e+01  5.30638032e+01]\n",
      " [ 1.16965343e+00  7.96601730e-01  1.03421871e+00  3.96018185e+00\n",
      "   3.51101876e+00  3.09259031e+00  6.88189166e+00  1.33416945e+01\n",
      "   3.38258226e+01  1.27874683e+02  5.72865010e+00  5.23199939e+00\n",
      "   3.43195293e+00  3.14651043e+00  5.12590192e+00  2.84181950e+00\n",
      "   5.58491755e+00  6.06826283e+00  3.89432433e+00 -2.55810078e+01]\n",
      " [ 3.04817041e+00 -3.40907874e-01  1.41575229e+00  1.27533731e+01\n",
      "   7.96214211e+00  1.37731673e+00  1.91646574e+01  4.06163095e+01\n",
      "   1.27874683e+02  6.05183985e+02  1.38738037e+01  1.25268608e+01\n",
      "   1.16840994e+01  1.25828945e+01  1.73591338e+01  2.16006936e+01\n",
      "   3.78947408e+01  5.14342633e+01  9.31699773e+01  1.59479777e+02]\n",
      " [ 8.88721229e-01  1.09536104e+00  6.30058460e-01  4.74133930e+00\n",
      "   2.23314043e+00  2.29595927e+00  2.38112008e+00  3.38974846e+00\n",
      "   5.72865010e+00  1.38738037e+01  5.71756507e+01  4.81444089e+01\n",
      "   4.76564007e+01  4.99709226e+01  6.50085222e+01  6.57065642e+01\n",
      "   1.01545002e+02  1.35506907e+02  2.10401539e+02  1.86071284e+02]\n",
      " [ 6.57816253e-01  5.56559562e-01  3.42791110e-01  4.35011087e+00\n",
      "   1.73579954e+00  1.31144231e+00  1.54452954e+00  2.23224001e+00\n",
      "   5.23199939e+00  1.25268608e+01  4.81444089e+01  4.54478798e+01\n",
      "   4.06779923e+01  3.92431265e+01  5.63354279e+01  3.95747307e+01\n",
      "   6.57685367e+01  7.71270202e+01  7.51583143e+01 -1.32475707e+02]\n",
      " [ 5.19836969e-01  9.12907002e-01  4.84651951e-01  3.40730554e+00\n",
      "   1.41497358e+00  1.64363392e+00  2.00886017e+00  2.19057897e+00\n",
      "   3.43195293e+00  1.16840994e+01  4.76564007e+01  4.06779923e+01\n",
      "   4.67505304e+01  5.15685640e+01  6.29441321e+01  7.78232653e+01\n",
      "   1.17889538e+02  1.65101078e+02  2.83015993e+02  4.15027382e+02]\n",
      " [ 6.19034096e-01  1.41805169e+00  7.11316021e-01  3.12856035e+00\n",
      "   1.52445184e+00  2.29917977e+00  2.58677843e+00  2.82948556e+00\n",
      "   3.14651043e+00  1.25828945e+01  4.99709226e+01  3.92431265e+01\n",
      "   5.15685640e+01  6.42424876e+01  6.90994348e+01  1.11037405e+02\n",
      "   1.62663716e+02  2.42707850e+02  4.66213299e+02  8.72866957e+02]\n",
      " [ 6.87199754e-01  1.10362933e+00  6.35558339e-01  4.92440001e+00\n",
      "   2.19077891e+00  2.13184687e+00  2.78895171e+00  2.93429833e+00\n",
      "   5.12590192e+00  1.73591338e+01  6.50085222e+01  5.63354279e+01\n",
      "   6.29441321e+01  6.90994348e+01  8.74274282e+01  1.02959590e+02\n",
      "   1.57728344e+02  2.20327293e+02  3.68472431e+02  5.22504418e+02]\n",
      " [ 9.81192982e-01  3.10770094e+00  1.61479887e+00  2.84600044e+00\n",
      "   2.57632455e+00  4.93356017e+00  5.44390673e+00  5.48059381e+00\n",
      "   2.84181950e+00  2.16006936e+01  6.57065642e+01  3.95747307e+01\n",
      "   7.78232653e+01  1.11037405e+02  1.02959590e+02  2.44406439e+02\n",
      "   3.49888357e+02  5.57156146e+02  1.18447597e+03  2.65733477e+03]\n",
      " [ 1.45510982e+00  4.19430817e+00  2.44467095e+00  5.37263483e+00\n",
      "   4.31706858e+00  7.22024813e+00  8.38168123e+00  8.16587534e+00\n",
      "   5.58491755e+00  3.78947408e+01  1.01545002e+02  6.57685367e+01\n",
      "   1.17889538e+02  1.62663716e+02  1.57728344e+02  3.49888357e+02\n",
      "   5.17728756e+02  8.13560669e+02  1.70054760e+03  3.77456891e+03]\n",
      " [ 2.30800458e+00  7.02263652e+00  3.99410652e+00  6.27470971e+00\n",
      "   6.51255229e+00  1.17161823e+01  1.29016409e+01  1.28219099e+01\n",
      "   6.06826283e+00  5.14342633e+01  1.35506907e+02  7.71270202e+01\n",
      "   1.65101078e+02  2.42707850e+02  2.20327293e+02  5.57156146e+02\n",
      "   8.13560669e+02  1.31800627e+03  2.81629633e+03  6.44211205e+03]\n",
      " [ 4.38893975e+00  1.57385405e+01  9.12789236e+00  5.47419577e+00\n",
      "   1.14082811e+01  2.52583770e+01  2.70931605e+01  2.72588587e+01\n",
      "   3.89432433e+00  9.31699773e+01  2.10401539e+02  7.51583143e+01\n",
      "   2.83015993e+02  4.66213299e+02  3.68472431e+02  1.18447597e+03\n",
      "   1.70054760e+03  2.81629633e+03  6.33817163e+03  1.51542495e+04]\n",
      " [ 5.76140775e+00  3.32746065e+01  2.07555870e+01 -1.64744149e+01\n",
      "   1.85883802e+01  5.40027599e+01  5.94448647e+01  5.30638032e+01\n",
      "  -2.55810078e+01  1.59479777e+02  1.86071284e+02 -1.32475707e+02\n",
      "   4.15027382e+02  8.72866957e+02  5.22504418e+02  2.65733477e+03\n",
      "   3.77456891e+03  6.44211205e+03  1.51542495e+04  3.87653564e+04]]\n"
     ]
    }
   ],
   "source": [
    "###Then sprinkle in the regular tune genie sys uncertainties\n",
    "\n",
    "# Load in the blockwise genie cov matrix\n",
    "\n",
    "blockwise_genie_err = pd.read_csv(\"blockwise_cov_genie_only_angle_comb_\"+ending+\".csv\", header=None)\n",
    "\n",
    "blockwise_genie_err = blockwise_genie_err.values\n",
    "print(blockwise_genie_err)"
   ]
  },
  {
   "cell_type": "code",
   "execution_count": 23,
   "id": "86e82551",
   "metadata": {},
   "outputs": [],
   "source": [
    "##### Now make the total cov matrix\n",
    "\n",
    "total_noTune_input_cov = nue_numu_cov_stats + blockwise_genie_err"
   ]
  },
  {
   "cell_type": "code",
   "execution_count": 24,
   "id": "d8f0a80d",
   "metadata": {},
   "outputs": [
    {
     "data": {
      "image/png": "[encoded data removed]",
      "text/plain": [
       "<Figure size 720x432 with 2 Axes>"
      ]
     },
     "metadata": {
      "needs_background": "light"
     },
     "output_type": "display_data"
    }
   ],
   "source": [
    "fig = plt.figure(figsize=(10, 6))\n",
    "\n",
    "plt.pcolor(bins, bins, total_noTune_input_cov, cmap='OrRd', edgecolors='k')\n",
    "\n",
    "cbar = plt.colorbar()\n",
    "cbar.ax.tick_params(labelsize=14)\n",
    "#if pot: \n",
    "#    cbar.set_label(label=\"$\\\\nu^{2}$ / \"+pot+\"$^{2}$\", fontsize=15)\n",
    "\n",
    "plt.xlim(bins[0], bins[-1])\n",
    "plt.ylim(bins[0], bins[-1])\n",
    "\n",
    "\n",
    "plt.xlabel(\"cos(Reconstructed Lepton Angle)\", fontsize=15)\n",
    "plt.ylabel(\"cos(Reconstructed Lepton Angle)\", fontsize=15)\n",
    "\n",
    "plt.title('Covariance Matrix (MECTune)', fontsize=16)\n",
    "\n",
    "\n",
    "plt.savefig(\"data_covmat_MC_MECTune_input_angleDiff_comb_\"+ending+\".svg\", bbox_inches='tight')\n",
    "\n",
    "plt.show()"
   ]
  },
  {
   "cell_type": "code",
   "execution_count": 25,
   "id": "c3fa84cb",
   "metadata": {},
   "outputs": [],
   "source": [
    "np.savetxt(\"data_covmat_MC_MECTune_input_angleDiff_comb_\"+ending+\".csv\", \n",
    "           total_noTune_input_cov,\n",
    "           delimiter =\", \", \n",
    "           fmt ='% s')"
   ]
  },
  {
   "cell_type": "code",
   "execution_count": null,
   "id": "f1216474",
   "metadata": {},
   "outputs": [],
   "source": []
  }
 ],
 "metadata": {
  "kernelspec": {
   "display_name": "Python 3 (ipykernel)",
   "language": "python",
   "name": "python3"
  },
  "language_info": {
   "codemirror_mode": {
    "name": "ipython",
    "version": 3
   },
   "file_extension": ".py",
   "mimetype": "text/x-python",
   "name": "python",
   "nbconvert_exporter": "python",
   "pygments_lexer": "ipython3",
   "version": "3.8.12"
  }
 },
 "nbformat": 4,
 "nbformat_minor": 5
}
