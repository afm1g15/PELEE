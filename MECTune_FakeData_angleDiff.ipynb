{
 "cells": [
  {
   "cell_type": "code",
   "execution_count": 1,
   "id": "2879806d",
   "metadata": {},
   "outputs": [
    {
     "name": "stdout",
     "output_type": "stream",
     "text": [
      "Welcome to JupyROOT 6.24/02\n"
     ]
    }
   ],
   "source": [
    "import sys\n",
    "\n",
    "#sys.path.insert(0, 'backend_functions')\n",
    "\n",
    "#import selection_functions as sf\n",
    "\n",
    "import importlib\n",
    "\n",
    "import uproot\n",
    "import matplotlib.pylab as pylab\n",
    "import numpy as np\n",
    "import math\n",
    "from sklearn.model_selection import train_test_split\n",
    "import pickle\n",
    "import xgboost as xgb\n",
    "\n",
    "import awkward\n",
    "import matplotlib.pyplot as plt\n",
    "import pandas as pd\n",
    "\n",
    "import ROOT\n",
    "from ROOT import TH1F, TH2F, TDirectory, TH1D\n",
    "\n",
    "from matplotlib import gridspec\n"
   ]
  },
  {
   "cell_type": "code",
   "execution_count": 2,
   "id": "cdd417ad",
   "metadata": {},
   "outputs": [],
   "source": [
    "ending = \"Jan19_MECTune\""
   ]
  },
  {
   "cell_type": "code",
   "execution_count": 3,
   "id": "8b14eea6",
   "metadata": {},
   "outputs": [],
   "source": [
    "##Regular tune prior true and smearcept to be used\n",
    "\n",
    "\n",
    "#Recall for comparison it will be the MEC tune for prior true"
   ]
  },
  {
   "cell_type": "code",
   "execution_count": 4,
   "id": "c7c3f6cb",
   "metadata": {},
   "outputs": [
    {
     "name": "stdout",
     "output_type": "stream",
     "text": [
      "[  2.38771548   3.36090025   4.07975694   8.68619826   9.68867537\n",
      "  11.05054344  14.87176831  25.90293794  49.4253173  149.99758453]\n",
      "\n",
      "[  57.2325191    44.82742995   59.02327659   76.11232753   87.1915794\n",
      "  147.03185493  205.63440389  318.68880869  601.9700348  1177.11559803]\n"
     ]
    }
   ],
   "source": [
    "####Load in MECTune full event counts\n",
    "\n",
    "nue_data_signal = pd.read_csv(\"nue_full_500_catsel_nopions_angleDiff_usingSelection_full_evt_count_MCONLY_recoCut_comb_\"+ending+\".csv\", header=None)\n",
    "\n",
    "nue_data_signal = nue_data_signal.values[:, 0]\n",
    "\n",
    "print(nue_data_signal)\n",
    "print(\"\")\n",
    "\n",
    "######\n",
    "\n",
    "numu_data_signal = pd.read_csv(\"numu_full_500_catsel_nopions_angleDiff_usingSelection_full_evt_count_MCONLY_recoCut_comb_\"+ending+\".csv\", header=None)\n",
    "\n",
    "numu_data_signal = numu_data_signal.values[:, 0]\n",
    "\n",
    "print(numu_data_signal)"
   ]
  },
  {
   "cell_type": "code",
   "execution_count": 5,
   "id": "a999b771",
   "metadata": {},
   "outputs": [
    {
     "name": "stdout",
     "output_type": "stream",
     "text": [
      "[ 1.125004    1.3636628   1.93697273  4.85652612  3.56279372  4.10128825\n",
      "  3.68560034  6.46732686 11.84780336 40.86414887]\n",
      "\n",
      "[ 21.63167491  13.5363924   12.56102384  13.12996887  18.81793676\n",
      "  36.03563436  54.47993438  87.76891513 173.57981138 357.68668115]\n",
      "\n"
     ]
    }
   ],
   "source": [
    "###Load in regular tune bkg event counts\n",
    "#Include ext in bkg count here as the full event counts do\n",
    "\n",
    "ending = \"Jan19\" #need this ending as bkg is from regular tune\n",
    "\n",
    "\n",
    "\n",
    "nue_bkg_inc_ext = pd.read_csv(\"nue_nopions_angleDiff_usingSelection_comb_cv_nue_bkg_incExt_\"+ending+\".csv\", header=None)\n",
    "\n",
    "nue_bkg_inc_ext = nue_bkg_inc_ext.values[:, 0]\n",
    "\n",
    "print(nue_bkg_inc_ext)\n",
    "print(\"\")\n",
    "\n",
    "#######################\n",
    "\n",
    "numu_bkg_inc_ext = pd.read_csv(\"numu_nopions_angleDiff_usingSelection_comb_cv_numu_bkg_incExt_\"+ending+\".csv\", header=None)\n",
    "\n",
    "numu_bkg_inc_ext = numu_bkg_inc_ext.values[:, 0]\n",
    "\n",
    "print(numu_bkg_inc_ext)\n",
    "print(\"\")"
   ]
  },
  {
   "cell_type": "code",
   "execution_count": 6,
   "id": "0fe6cc8a",
   "metadata": {},
   "outputs": [
    {
     "name": "stdout",
     "output_type": "stream",
     "text": [
      "[  1.26271148   1.99723746   2.14278421   3.82967214   6.12588165\n",
      "   6.94925519  11.18616796  19.43561108  37.57751394 109.13343566]\n",
      "\n",
      "[ 35.60084419  31.29103754  46.46225275  62.98235867  68.37364264\n",
      " 110.99622058 151.15446951 230.91989356 428.39022342 819.42891688]\n"
     ]
    }
   ],
   "source": [
    "####So then can calculate the data signal input to the unfolding\n",
    "\n",
    "nue_datasig_bkg_subtracted = nue_data_signal - nue_bkg_inc_ext\n",
    "print(nue_datasig_bkg_subtracted)\n",
    "print(\"\")\n",
    "\n",
    "numu_datasig_bkg_subtracted = numu_data_signal - numu_bkg_inc_ext\n",
    "print(numu_datasig_bkg_subtracted)"
   ]
  },
  {
   "cell_type": "code",
   "execution_count": 7,
   "id": "1d47fce7",
   "metadata": {},
   "outputs": [
    {
     "name": "stdout",
     "output_type": "stream",
     "text": [
      "[  1.26271148   1.99723746   2.14278421   3.82967214   6.12588165\n",
      "   6.94925519  11.18616796  19.43561108  37.57751394 109.13343566\n",
      "  35.60084419  31.29103754  46.46225275  62.98235867  68.37364264\n",
      " 110.99622058 151.15446951 230.91989356 428.39022342 819.42891688]\n",
      "20\n"
     ]
    }
   ],
   "source": [
    "nue_numu_tot = np.concatenate((nue_datasig_bkg_subtracted, numu_datasig_bkg_subtracted), axis=0)\n",
    "\n",
    "print(nue_numu_tot)\n",
    "print(len(nue_numu_tot))"
   ]
  },
  {
   "cell_type": "code",
   "execution_count": 8,
   "id": "237e5524",
   "metadata": {},
   "outputs": [
    {
     "data": {
      "image/png": "[encoded data removed]",
      "text/plain": [
       "<Figure size 576x504 with 1 Axes>"
      ]
     },
     "metadata": {
      "needs_background": "light"
     },
     "output_type": "display_data"
    }
   ],
   "source": [
    "nue_numu_fig = plt.figure(figsize=(8, 7))\n",
    "nue_numu_gs = gridspec.GridSpec(2, 1, height_ratios=[2, 1])\n",
    "nue_numu_ax1 = plt.subplot(nue_numu_gs[0])\n",
    "\n",
    "\n",
    "#bins = np.arange(0, 10.5, 0.5)\n",
    "#count = np.linspace(0.1, 9.6, 20)\n",
    "bins = np.arange(0, 21, 1)\n",
    "count = np.arange(0.0, 20.0, 1)\n",
    "\n",
    "\n",
    "sel_ratio = nue_numu_ax1.hist(count, bins, edgecolor='red', facecolor='red', weights=nue_numu_tot)\n",
    "nue_numu_ax1.set_ylabel('Count', fontsize=15)\n",
    "nue_numu_ax1.set_xlabel('Bin Number', fontsize=15)\n",
    "nue_numu_ax1.set_title(\"Nue, Numu, Data Selected Values\")\n",
    "#leg = nue_numu_ax1.legend()\n",
    "#nue_numu_ax1.set_ylim([0, 1])\n",
    "\n",
    "nue_numu_fig.savefig(\"data_signal_MC_MECTune_input_angleDiff_comb_\"+ending+\".svg\", bbox_inches='tight')"
   ]
  },
  {
   "cell_type": "code",
   "execution_count": 9,
   "id": "ec3bcd31",
   "metadata": {},
   "outputs": [
    {
     "name": "stdout",
     "output_type": "stream",
     "text": [
      "Jan19\n"
     ]
    }
   ],
   "source": [
    "np.savetxt(\"data_signal_MC_MECTune_input_angleDiff_comb_\"+ending+\".csv\", \n",
    "               nue_numu_tot,\n",
    "               delimiter =\", \", \n",
    "               fmt ='% s')\n",
    "\n",
    "print(ending)"
   ]
  },
  {
   "cell_type": "code",
   "execution_count": 10,
   "id": "d36109d1",
   "metadata": {},
   "outputs": [
    {
     "name": "stdout",
     "output_type": "stream",
     "text": [
      "[ 0.49171135  0.42840553  1.16143552  2.16666775  1.35295846  1.67200542\n",
      "  1.37653703  2.26299881  3.96051443 16.91143086]\n",
      "\n",
      "[  17.11518939   11.42448771   22.032146     33.95799117   27.05823194\n",
      "  112.17960578  127.63059934  213.82845357  512.36903969 1441.50046608]\n",
      "\n",
      "[0.40361937 0.37869795 1.09248271 1.87785601 1.11476086 1.52469818\n",
      " 0.87277381 1.16674332 1.48117631 5.47838269]\n",
      "\n",
      "[ 5.56527103  3.31864546  4.92737201  3.85884493  6.41568387 16.33395278\n",
      " 23.07504552 32.3956967  55.28743915 96.00956256]\n",
      "\n"
     ]
    }
   ],
   "source": [
    "####Now need to get in the uncertainties\n",
    "\n",
    "###First up, get the noTune statistical uncertinaty. This will be from sig + bkg in noTune\n",
    "\n",
    "ending = \"Jan19_MECTune\" \n",
    "\n",
    "\n",
    "nue_sig_unc = pd.read_csv(\"nue_total_noTune_err_squared_angle_comb_\"+ending+\".csv\", header=None)\n",
    "\n",
    "nue_sig_unc = nue_sig_unc.values[:, 0]\n",
    "\n",
    "print(nue_sig_unc)\n",
    "print(\"\")\n",
    "\n",
    "########################\n",
    "\n",
    "numu_sig_unc = pd.read_csv(\"numu_total_noTune_err_squared_angle_comb_\"+ending+\".csv\", header=None)\n",
    "\n",
    "numu_sig_unc = numu_sig_unc.values[:, 0]\n",
    "\n",
    "print(numu_sig_unc)\n",
    "print(\"\")\n",
    "\n",
    "#######################The regular tune bkg stat uncertainties\n",
    "\n",
    "ending = \"Jan19\" #need this ending as bkg is from regular tune\n",
    "\n",
    "\n",
    "nue_bkg_unc = pd.read_csv(\"nue_bkg_exp_err_squared_angle_comb_\"+ending+\".csv\", header=None)\n",
    "\n",
    "nue_bkg_unc = nue_bkg_unc.values[:, 0]\n",
    "\n",
    "print(nue_bkg_unc)\n",
    "print(\"\")\n",
    "\n",
    "########################\n",
    "\n",
    "numu_bkg_unc = pd.read_csv(\"numu_bkg_exp_err_squared_angle_comb_\"+ending+\".csv\", header=None)\n",
    "\n",
    "numu_bkg_unc = numu_bkg_unc.values[:, 0]\n",
    "\n",
    "print(numu_bkg_unc)\n",
    "print(\"\")"
   ]
  },
  {
   "cell_type": "code",
   "execution_count": 11,
   "id": "ce8bac06",
   "metadata": {},
   "outputs": [
    {
     "name": "stdout",
     "output_type": "stream",
     "text": [
      "[ 0.89533072  0.80710349  2.25391823  4.04452376  2.46771932  3.19670359\n",
      "  2.24931084  3.42974214  5.44169074 22.38981354]\n",
      "\n",
      "[  22.68046042   14.74313317   26.95951801   37.81683611   33.47391581\n",
      "  128.51355856  150.70564486  246.22415027  567.65647885 1537.51002864]\n",
      "\n",
      "[8.95330717e-01 8.07103486e-01 2.25391823e+00 4.04452376e+00\n",
      " 2.46771932e+00 3.19670359e+00 2.24931084e+00 3.42974214e+00\n",
      " 5.44169074e+00 2.23898135e+01 2.26804604e+01 1.47431332e+01\n",
      " 2.69595180e+01 3.78168361e+01 3.34739158e+01 1.28513559e+02\n",
      " 1.50705645e+02 2.46224150e+02 5.67656479e+02 1.53751003e+03]\n"
     ]
    }
   ],
   "source": [
    "nue_stat_unc = nue_sig_unc + nue_bkg_unc\n",
    "print(nue_stat_unc)\n",
    "print(\"\")\n",
    "\n",
    "########################\n",
    "\n",
    "numu_stat_unc = numu_sig_unc + numu_bkg_unc\n",
    "print(numu_stat_unc)\n",
    "print(\"\")\n",
    "\n",
    "#########################\n",
    "\n",
    "nue_numu_tot_unc = np.concatenate((nue_stat_unc, numu_stat_unc), axis=0)\n",
    "\n",
    "print(nue_numu_tot_unc)"
   ]
  },
  {
   "cell_type": "code",
   "execution_count": 12,
   "id": "19ba13ad",
   "metadata": {},
   "outputs": [
    {
     "name": "stdout",
     "output_type": "stream",
     "text": [
      "[[0. 0. 0. 0. 0. 0. 0. 0. 0. 0. 0. 0. 0. 0. 0. 0. 0. 0. 0. 0.]\n",
      " [0. 0. 0. 0. 0. 0. 0. 0. 0. 0. 0. 0. 0. 0. 0. 0. 0. 0. 0. 0.]\n",
      " [0. 0. 0. 0. 0. 0. 0. 0. 0. 0. 0. 0. 0. 0. 0. 0. 0. 0. 0. 0.]\n",
      " [0. 0. 0. 0. 0. 0. 0. 0. 0. 0. 0. 0. 0. 0. 0. 0. 0. 0. 0. 0.]\n",
      " [0. 0. 0. 0. 0. 0. 0. 0. 0. 0. 0. 0. 0. 0. 0. 0. 0. 0. 0. 0.]\n",
      " [0. 0. 0. 0. 0. 0. 0. 0. 0. 0. 0. 0. 0. 0. 0. 0. 0. 0. 0. 0.]\n",
      " [0. 0. 0. 0. 0. 0. 0. 0. 0. 0. 0. 0. 0. 0. 0. 0. 0. 0. 0. 0.]\n",
      " [0. 0. 0. 0. 0. 0. 0. 0. 0. 0. 0. 0. 0. 0. 0. 0. 0. 0. 0. 0.]\n",
      " [0. 0. 0. 0. 0. 0. 0. 0. 0. 0. 0. 0. 0. 0. 0. 0. 0. 0. 0. 0.]\n",
      " [0. 0. 0. 0. 0. 0. 0. 0. 0. 0. 0. 0. 0. 0. 0. 0. 0. 0. 0. 0.]\n",
      " [0. 0. 0. 0. 0. 0. 0. 0. 0. 0. 0. 0. 0. 0. 0. 0. 0. 0. 0. 0.]\n",
      " [0. 0. 0. 0. 0. 0. 0. 0. 0. 0. 0. 0. 0. 0. 0. 0. 0. 0. 0. 0.]\n",
      " [0. 0. 0. 0. 0. 0. 0. 0. 0. 0. 0. 0. 0. 0. 0. 0. 0. 0. 0. 0.]\n",
      " [0. 0. 0. 0. 0. 0. 0. 0. 0. 0. 0. 0. 0. 0. 0. 0. 0. 0. 0. 0.]\n",
      " [0. 0. 0. 0. 0. 0. 0. 0. 0. 0. 0. 0. 0. 0. 0. 0. 0. 0. 0. 0.]\n",
      " [0. 0. 0. 0. 0. 0. 0. 0. 0. 0. 0. 0. 0. 0. 0. 0. 0. 0. 0. 0.]\n",
      " [0. 0. 0. 0. 0. 0. 0. 0. 0. 0. 0. 0. 0. 0. 0. 0. 0. 0. 0. 0.]\n",
      " [0. 0. 0. 0. 0. 0. 0. 0. 0. 0. 0. 0. 0. 0. 0. 0. 0. 0. 0. 0.]\n",
      " [0. 0. 0. 0. 0. 0. 0. 0. 0. 0. 0. 0. 0. 0. 0. 0. 0. 0. 0. 0.]\n",
      " [0. 0. 0. 0. 0. 0. 0. 0. 0. 0. 0. 0. 0. 0. 0. 0. 0. 0. 0. 0.]]\n"
     ]
    }
   ],
   "source": [
    "nue_numu_cov_stats   = np.zeros([(len(bins)-1), (len(bins)-1)])\n",
    "print(nue_numu_cov_stats)"
   ]
  },
  {
   "cell_type": "code",
   "execution_count": 13,
   "id": "ded66ab1",
   "metadata": {},
   "outputs": [],
   "source": [
    "nue_numu_cov_stats[np.diag_indices_from(nue_numu_cov_stats)]    = nue_numu_tot_unc"
   ]
  },
  {
   "cell_type": "code",
   "execution_count": 14,
   "id": "f41989e6",
   "metadata": {},
   "outputs": [
    {
     "name": "stdout",
     "output_type": "stream",
     "text": [
      "[[ 1.12541015e-01  1.48068184e-01  1.09394307e-01  3.07725420e-01\n",
      "   2.97852240e-01  3.81385936e-01  4.74539623e-01  8.09239606e-01\n",
      "   1.43405281e+00  3.62248685e+00  2.10315500e+00  1.58623996e+00\n",
      "   1.82558886e+00  2.15999353e+00  2.43783675e+00  3.71948071e+00\n",
      "   5.51494073e+00  8.22933880e+00  1.54646808e+01  2.73859343e+01]\n",
      " [ 1.48068184e-01  2.82167611e-01  1.71156052e-01  4.46029479e-01\n",
      "   4.11662676e-01  6.20232531e-01  7.23996931e-01  1.21375262e+00\n",
      "   2.02634650e+00  4.08047788e+00  3.35894295e+00  2.63847131e+00\n",
      "   2.99780115e+00  3.43430124e+00  3.93496094e+00  5.25489922e+00\n",
      "   7.54437135e+00  1.07375957e+01  1.92085010e+01  2.78367101e+01]\n",
      " [ 1.09394307e-01  1.71156052e-01  1.55012162e-01  3.77710133e-01\n",
      "   3.56319888e-01  4.93353343e-01  6.30578001e-01  1.02144143e+00\n",
      "   1.73163435e+00  4.06785915e+00  2.75530792e+00  2.20883877e+00\n",
      "   2.51243614e+00  2.87854591e+00  3.38108038e+00  4.52084965e+00\n",
      "   6.82028776e+00  9.72507231e+00  1.78851822e+01  2.93992536e+01]\n",
      " [ 3.07725420e-01  4.46029479e-01  3.77710133e-01  1.09857786e+00\n",
      "   9.88461734e-01  1.32438914e+00  1.60225521e+00  2.58059181e+00\n",
      "   4.42529685e+00  9.41208282e+00  7.47179809e+00  6.06473060e+00\n",
      "   6.55373564e+00  7.38979010e+00  9.03840213e+00  1.16307558e+01\n",
      "   1.78702202e+01  2.56901030e+01  4.58086829e+01  7.20403140e+01]\n",
      " [ 2.97852240e-01  4.11662676e-01  3.56319888e-01  9.88461734e-01\n",
      "   1.01033966e+00  1.20398074e+00  1.51082789e+00  2.41613579e+00\n",
      "   4.08978623e+00  8.55341061e+00  6.93232251e+00  5.60875996e+00\n",
      "   6.08755080e+00  6.87651287e+00  8.45258842e+00  1.07627385e+01\n",
      "   1.62102358e+01  2.31178256e+01  4.07527221e+01  6.40520594e+01]\n",
      " [ 3.81385936e-01  6.20232531e-01  4.93353343e-01  1.32438914e+00\n",
      "   1.20398074e+00  1.83676386e+00  2.00888222e+00  3.26129858e+00\n",
      "   5.27438759e+00  8.70211651e+00  9.94494464e+00  8.22607146e+00\n",
      "   8.66745027e+00  9.52510677e+00  1.16895621e+01  1.36891185e+01\n",
      "   2.06018136e+01  2.85953849e+01  4.81971731e+01  6.06402757e+01]\n",
      " [ 4.74539623e-01  7.23996931e-01  6.30578001e-01  1.60225521e+00\n",
      "   1.51082789e+00  2.00888222e+00  2.99698373e+00  4.76815733e+00\n",
      "   9.01069681e+00  2.73059475e+01  1.07364184e+01  8.00294914e+00\n",
      "   1.08248172e+01  1.33123440e+01  1.46083115e+01  2.39738895e+01\n",
      "   3.54960745e+01  5.24627317e+01  1.03099330e+02  2.03781366e+02]\n",
      " [ 8.09239606e-01  1.21375262e+00  1.02144143e+00  2.58059181e+00\n",
      "   2.41613579e+00  3.26129858e+00  4.76815733e+00  8.00498997e+00\n",
      "   1.53908570e+01  4.85931285e+01  1.70504430e+01  1.21816706e+01\n",
      "   1.70971337e+01  2.17914388e+01  2.26995793e+01  4.06698127e+01\n",
      "   5.92689545e+01  8.94565903e+01  1.80931573e+02  3.65564220e+02]\n",
      " [ 1.43405281e+00  2.02634650e+00  1.73163435e+00  4.42529685e+00\n",
      "   4.08978623e+00  5.27438759e+00  9.01069681e+00  1.53908570e+01\n",
      "   3.37886953e+01  1.27398587e+02  2.53470686e+01  1.52153832e+01\n",
      "   2.89194074e+01  4.13735997e+01  3.82998439e+01  8.97623421e+01\n",
      "   1.29626376e+02  2.04240973e+02  4.38693936e+02  9.85697222e+02]\n",
      " [ 3.62248685e+00  4.08047788e+00  4.06785915e+00  9.41208282e+00\n",
      "   8.55341061e+00  8.70211651e+00  2.73059475e+01  4.85931285e+01\n",
      "   1.27398587e+02  6.25504157e+02  2.62117023e+01 -1.32048666e+01\n",
      "   5.82316640e+01  1.17639382e+02  7.41589057e+01  3.40987762e+02\n",
      "   4.85241638e+02  8.11481484e+02  1.91878025e+03  4.90721724e+03]\n",
      " [ 2.10315500e+00  3.35894295e+00  2.75530792e+00  7.47179809e+00\n",
      "   6.93232251e+00  9.94494464e+00  1.07364184e+01  1.70504430e+01\n",
      "   2.53470686e+01  2.62117023e+01  5.85130071e+01  4.91157284e+01\n",
      "   4.82137504e+01  5.02218804e+01  6.57723975e+01  6.56226735e+01\n",
      "   1.01288683e+02  1.35469039e+02  2.06136062e+02  1.67355483e+02]\n",
      " [ 1.58623996e+00  2.63847131e+00  2.20883877e+00  6.06473060e+00\n",
      "   5.60875996e+00  8.22607146e+00  8.00294914e+00  1.21816706e+01\n",
      "   1.52153832e+01 -1.32048666e+01  4.91157284e+01  4.57428585e+01\n",
      "   4.08569267e+01  3.92855660e+01  5.64068515e+01  4.01977859e+01\n",
      "   6.60197310e+01  7.89493208e+01  7.63474182e+01 -1.33925835e+02]\n",
      " [ 1.82558886e+00  2.99780115e+00  2.51243614e+00  6.55373564e+00\n",
      "   6.08755080e+00  8.66745027e+00  1.08248172e+01  1.70971337e+01\n",
      "   2.89194074e+01  5.82316640e+01  4.82137504e+01  4.08569267e+01\n",
      "   4.68517131e+01  5.16518264e+01  6.31659673e+01  7.80689869e+01\n",
      "   1.18189488e+02  1.65718026e+02  2.83489122e+02  4.15403755e+02]\n",
      " [ 2.15999353e+00  3.43430124e+00  2.87854591e+00  7.38979010e+00\n",
      "   6.87651287e+00  9.52510677e+00  1.33123440e+01  2.17914388e+01\n",
      "   4.13735997e+01  1.17639382e+02  5.02218804e+01  3.92855660e+01\n",
      "   5.16518264e+01  6.44728018e+01  6.94697538e+01  1.11472464e+02\n",
      "   1.63622071e+02  2.43554493e+02  4.68805661e+02  8.81951760e+02]\n",
      " [ 2.43783675e+00  3.93496094e+00  3.38108038e+00  9.03840213e+00\n",
      "   8.45258842e+00  1.16895621e+01  1.46083115e+01  2.26995793e+01\n",
      "   3.82998439e+01  7.41589057e+01  6.57723975e+01  5.64068515e+01\n",
      "   6.31659673e+01  6.94697538e+01  8.78186093e+01  1.04399969e+02\n",
      "   1.59671162e+02  2.23936120e+02  3.75510647e+02  5.40287338e+02]\n",
      " [ 3.71948071e+00  5.25489922e+00  4.52084965e+00  1.16307558e+01\n",
      "   1.07627385e+01  1.36891185e+01  2.39738895e+01  4.06698127e+01\n",
      "   8.97623421e+01  3.40987762e+02  6.56226735e+01  4.01977859e+01\n",
      "   7.80689869e+01  1.11472464e+02  1.04399969e+02  2.42886118e+02\n",
      "   3.49965486e+02  5.52541604e+02  1.17811069e+03  2.64819762e+03]\n",
      " [ 5.51494073e+00  7.54437135e+00  6.82028776e+00  1.78702202e+01\n",
      "   1.62102358e+01  2.06018136e+01  3.54960745e+01  5.92689545e+01\n",
      "   1.29626376e+02  4.85241638e+02  1.01288683e+02  6.60197310e+01\n",
      "   1.18189488e+02  1.63622071e+02  1.59671162e+02  3.49965486e+02\n",
      "   5.20717856e+02  8.12441590e+02  1.70460130e+03  3.79902534e+03]\n",
      " [ 8.22933880e+00  1.07375957e+01  9.72507231e+00  2.56901030e+01\n",
      "   2.31178256e+01  2.85953849e+01  5.24627317e+01  8.94565903e+01\n",
      "   2.04240973e+02  8.11481484e+02  1.35469039e+02  7.89493208e+01\n",
      "   1.65718026e+02  2.43554493e+02  2.23936120e+02  5.52541604e+02\n",
      "   8.12441590e+02  1.30439015e+03  2.79464673e+03  6.40210029e+03]\n",
      " [ 1.54646808e+01  1.92085010e+01  1.78851822e+01  4.58086829e+01\n",
      "   4.07527221e+01  4.81971731e+01  1.03099330e+02  1.80931573e+02\n",
      "   4.38693936e+02  1.91878025e+03  2.06136062e+02  7.63474182e+01\n",
      "   2.83489122e+02  4.68805661e+02  3.75510647e+02  1.17811069e+03\n",
      "   1.70460130e+03  2.79464673e+03  6.32188764e+03  1.51738874e+04]\n",
      " [ 2.73859343e+01  2.78367101e+01  2.93992536e+01  7.20403140e+01\n",
      "   6.40520594e+01  6.06402757e+01  2.03781366e+02  3.65564220e+02\n",
      "   9.85697222e+02  4.90721724e+03  1.67355483e+02 -1.33925835e+02\n",
      "   4.15403755e+02  8.81951760e+02  5.40287338e+02  2.64819762e+03\n",
      "   3.79902534e+03  6.40210029e+03  1.51738874e+04  3.90142658e+04]]\n"
     ]
    }
   ],
   "source": [
    "###Then sprinkle in the regular tune genie sys uncertainties\n",
    "\n",
    "# Load in the blockwise genie cov matrix\n",
    "\n",
    "blockwise_genie_err = pd.read_csv(\"blockwise_cov_genie_only_angle_comb_\"+ending+\".csv\", header=None)\n",
    "\n",
    "blockwise_genie_err = blockwise_genie_err.values\n",
    "print(blockwise_genie_err)"
   ]
  },
  {
   "cell_type": "code",
   "execution_count": 15,
   "id": "f1569014",
   "metadata": {},
   "outputs": [
    {
     "name": "stdout",
     "output_type": "stream",
     "text": [
      "[[ 2.52315197e+00 -1.84609493e+00 -4.51394000e-01  1.31951410e+00\n",
      "  -2.37122897e+00 -4.16828314e+00  2.09298895e+00 -5.52360196e+00\n",
      "  -1.57246020e-01  2.53291392e+01  3.76346656e+00 -3.13799232e+01\n",
      "  -3.98948536e+01 -1.20499489e+00 -6.40830006e+00 -4.88277428e+01\n",
      "  -4.46368816e+00 -5.84327336e+01  8.96311999e+00  7.99322580e+01]\n",
      " [-1.84609493e+00  1.35071789e+00  3.30267930e-01 -9.65438594e-01\n",
      "   1.73493862e+00  3.04977524e+00 -1.53136091e+00  4.04141080e+00\n",
      "   1.15050970e-01 -1.85323738e+01 -2.75358625e+00  2.29595038e+01\n",
      "   2.91895566e+01  8.81649221e-01  4.68871096e+00  3.57254140e+01\n",
      "   3.26591193e+00  4.27530228e+01 -6.55797614e+00 -5.84834122e+01]\n",
      " [-4.51394000e-01  3.30267930e-01  8.07547647e-02 -2.36062177e-01\n",
      "   4.24214849e-01  7.45709345e-01 -3.74437476e-01  9.88177017e-01\n",
      "   2.81314446e-02 -4.53140421e+00 -6.73287320e-01  5.61389454e+00\n",
      "   7.13722273e+00  2.15574595e-01  1.14645025e+00  8.73532409e+00\n",
      "   7.98557550e-01  1.04536650e+01 -1.60350967e+00 -1.42999479e+01]\n",
      " [ 1.31951410e+00 -9.65438594e-01 -2.36062177e-01  6.90056513e-01\n",
      "  -1.24006405e+00 -2.17985616e+00  1.09455493e+00 -2.88863720e+00\n",
      "  -8.22337862e-02  1.32461923e+01  1.96815223e+00 -1.64105260e+01\n",
      "  -2.08635161e+01 -6.30167253e-01 -3.35130122e+00 -2.55350830e+01\n",
      "  -2.33434193e+00 -3.05581339e+01  4.68737647e+00  4.18015809e+01]\n",
      " [-2.37122897e+00  1.73493862e+00  4.24214849e-01 -1.24006405e+00\n",
      "   2.22845350e+00  3.91730417e+00 -1.96696675e+00  5.19101709e+00\n",
      "   1.47777986e-01 -2.38040314e+01 -3.53686225e+00  2.94904881e+01\n",
      "   3.74927210e+01  1.13244023e+00  6.02244611e+00  4.58877467e+01\n",
      "   4.19492239e+00  5.49144057e+01 -8.42343627e+00 -7.51194095e+01]\n",
      " [-4.16828314e+00  3.04977524e+00  7.45709345e-01 -2.17985616e+00\n",
      "   3.91730417e+00  6.88606337e+00 -3.45764768e+00  9.12506944e+00\n",
      "   2.59772673e-01 -4.18441002e+01 -6.21730059e+00  5.18400819e+01\n",
      "   6.59068689e+01  1.99066880e+00  1.05866034e+01  8.06641296e+01\n",
      "   7.37407668e+00  9.65317118e+01 -1.48072024e+01 -1.32049234e+02]\n",
      " [ 2.09298895e+00 -1.53136091e+00 -3.74437476e-01  1.09455493e+00\n",
      "  -1.96696675e+00 -3.45764768e+00  1.73616286e+00 -4.58190312e+00\n",
      "  -1.30437717e-01  2.10108662e+01  3.12184681e+00 -2.60300740e+01\n",
      "  -3.30933249e+01 -9.99559688e-01 -5.31577225e+00 -4.05032782e+01\n",
      "  -3.70269017e+00 -4.84707491e+01  7.43503021e+00  6.63048976e+01]\n",
      " [-5.52360196e+00  4.04141080e+00  9.88177017e-01 -2.88863720e+00\n",
      "   5.19101709e+00  9.12506944e+00 -4.58190312e+00  1.20920892e+01\n",
      "   3.44237855e-01 -5.54497250e+01 -8.23885820e+00  6.86959040e+01\n",
      "   8.73365119e+01  2.63793550e+00  1.40288414e+01  1.06892101e+02\n",
      "   9.77176048e+00  1.27919034e+02 -1.96217698e+01 -1.74985091e+02]\n",
      " [-1.57246020e-01  1.15050970e-01  2.81314446e-02 -8.22337862e-02\n",
      "   1.47777986e-01  2.59772673e-01 -1.30437717e-01  3.44237855e-01\n",
      "   9.79977068e-03 -1.57854397e+00 -2.34543993e-01  1.95563647e+00\n",
      "   2.48629770e+00  7.50968046e-02  3.99373359e-01  3.04300665e+00\n",
      "   2.78182688e-01  3.64160181e+00 -5.58592966e-01 -4.98147935e+00]\n",
      " [ 2.53291392e+01 -1.85323738e+01 -4.53140421e+00  1.32461923e+01\n",
      "  -2.38040314e+01 -4.18441002e+01  2.10108662e+01 -5.54497250e+01\n",
      "  -1.57854397e+00  2.54271364e+02  3.77802723e+01 -3.15013306e+02\n",
      "  -4.00492049e+02 -1.20965696e+01 -6.43309345e+01 -4.90166550e+02\n",
      "  -4.48095795e+01 -5.86588070e+02  8.99779786e+01  8.02415120e+02]\n",
      " [ 3.76346656e+00 -2.75358625e+00 -6.73287320e-01  1.96815223e+00\n",
      "  -3.53686225e+00 -6.21730059e+00  3.12184681e+00 -8.23885820e+00\n",
      "  -2.34543993e-01  3.77802723e+01  5.61348692e+00 -4.68054613e+01\n",
      "  -5.95061057e+01 -1.79733842e+00 -9.55845042e+00 -7.28301663e+01\n",
      "  -6.65791888e+00 -8.71567159e+01  1.33691521e+01  1.19224836e+02]\n",
      " [-3.13799232e+01  2.29595038e+01  5.61389454e+00 -1.64105260e+01\n",
      "   2.94904881e+01  5.18400819e+01 -2.60300740e+01  6.86959040e+01\n",
      "   1.95563647e+00 -3.15013306e+02 -4.68054613e+01  3.90265665e+02\n",
      "   4.96164107e+02  1.49862742e+01  7.96987126e+01  6.07260617e+02\n",
      "   5.55139736e+01  7.26715916e+02 -1.11472484e+02 -9.94101089e+02]\n",
      " [-3.98948536e+01  2.91895566e+01  7.13722273e+00 -2.08635161e+01\n",
      "   3.74927210e+01  6.59068689e+01 -3.30933249e+01  8.73365119e+01\n",
      "   2.48629770e+00 -4.00492049e+02 -5.95061057e+01  4.96164107e+02\n",
      "   6.30798053e+02  1.90527941e+01  1.01324929e+02  7.72040559e+02\n",
      "   7.05776696e+01  9.23910009e+02 -1.41720501e+02 -1.26385005e+03]\n",
      " [-1.20499489e+00  8.81649221e-01  2.15574595e-01 -6.30167253e-01\n",
      "   1.13244023e+00  1.99066880e+00 -9.99559688e-01  2.63793550e+00\n",
      "   7.50968046e-02 -1.20965696e+01 -1.79733842e+00  1.49862742e+01\n",
      "   1.90527941e+01  5.75475718e-01  3.06044540e+00  2.33189207e+01\n",
      "   2.13174692e+00  2.79060265e+01 -4.28056413e+00 -3.81736668e+01]\n",
      " [-6.40830006e+00  4.68871096e+00  1.14645025e+00 -3.35130122e+00\n",
      "   6.02244611e+00  1.05866034e+01 -5.31577225e+00  1.40288414e+01\n",
      "   3.99373359e-01 -6.43309345e+01 -9.55845042e+00  7.96987126e+01\n",
      "   1.01324929e+02  3.06044540e+00  1.62757972e+01  1.24012676e+02\n",
      "   1.13368729e+01  1.48407427e+02 -2.27645275e+01 -2.03011907e+02]\n",
      " [-4.88277428e+01  3.57254140e+01  8.73532409e+00 -2.55350830e+01\n",
      "   4.58877467e+01  8.06641296e+01 -4.05032782e+01  1.06892101e+02\n",
      "   3.04300665e+00 -4.90166550e+02 -7.28301663e+01  6.07260617e+02\n",
      "   7.72040559e+02  2.33189207e+01  1.24012676e+02  9.44908789e+02\n",
      "   8.63807731e+01  1.13078345e+03 -1.73453254e+02 -1.54683974e+03]\n",
      " [-4.46368816e+00  3.26591193e+00  7.98557550e-01 -2.33434193e+00\n",
      "   4.19492239e+00  7.37407668e+00 -3.70269017e+00  9.77176048e+00\n",
      "   2.78182688e-01 -4.48095795e+01 -6.65791888e+00  5.55139736e+01\n",
      "   7.05776696e+01  2.13174692e+00  1.13368729e+01  8.63807731e+01\n",
      "   7.89667537e+00  1.03372886e+02 -1.58565846e+01 -1.41407525e+02]\n",
      " [-5.84327336e+01  4.27530228e+01  1.04536650e+01 -3.05581339e+01\n",
      "   5.49144057e+01  9.65317118e+01 -4.84707491e+01  1.27919034e+02\n",
      "   3.64160181e+00 -5.86588070e+02 -8.71567159e+01  7.26715916e+02\n",
      "   9.23910009e+02  2.79060265e+01  1.48407427e+02  1.13078345e+03\n",
      "   1.03372886e+02  1.35322185e+03 -2.07573547e+02 -1.85112130e+03]\n",
      " [ 8.96311999e+00 -6.55797614e+00 -1.60350967e+00  4.68737647e+00\n",
      "  -8.42343627e+00 -1.48072024e+01  7.43503021e+00 -1.96217698e+01\n",
      "  -5.58592966e-01  8.99779786e+01  1.33691521e+01 -1.11472484e+02\n",
      "  -1.41720501e+02 -4.28056413e+00 -2.27645275e+01 -1.73453254e+02\n",
      "  -1.58565846e+01 -2.07573547e+02  3.18401432e+01  2.83947392e+02]\n",
      " [ 7.99322580e+01 -5.84834122e+01 -1.42999479e+01  4.18015809e+01\n",
      "  -7.51194095e+01 -1.32049234e+02  6.63048976e+01 -1.74985091e+02\n",
      "  -4.98147935e+00  8.02415120e+02  1.19224836e+02 -9.94101089e+02\n",
      "  -1.26385005e+03 -3.81736668e+01 -2.03011907e+02 -1.54683974e+03\n",
      "  -1.41407525e+02 -1.85112130e+03  2.83947392e+02  2.53221604e+03]]\n"
     ]
    }
   ],
   "source": [
    "# Load in the blockwise nuwrounisim cov matrix\n",
    "\n",
    "nuWro_unisim = pd.read_csv(\"nuWro_extra_unisim_uncertainties_angle_comb_\"+ending+\".csv\", header=None)\n",
    "\n",
    "nuWro_unisim = nuWro_unisim.values\n",
    "print(nuWro_unisim)"
   ]
  },
  {
   "cell_type": "code",
   "execution_count": 16,
   "id": "86e82551",
   "metadata": {},
   "outputs": [],
   "source": [
    "##### Now make the total cov matrix\n",
    "\n",
    "total_noTune_input_cov = nue_numu_cov_stats + blockwise_genie_err + nuWro_unisim"
   ]
  },
  {
   "cell_type": "code",
   "execution_count": 17,
   "id": "d8f0a80d",
   "metadata": {},
   "outputs": [
    {
     "data": {
      "image/png": "[encoded data removed]",
      "text/plain": [
       "<Figure size 720x432 with 2 Axes>"
      ]
     },
     "metadata": {
      "needs_background": "light"
     },
     "output_type": "display_data"
    }
   ],
   "source": [
    "fig = plt.figure(figsize=(10, 6))\n",
    "\n",
    "plt.pcolor(bins, bins, total_noTune_input_cov, cmap='OrRd', edgecolors='k')\n",
    "\n",
    "cbar = plt.colorbar()\n",
    "cbar.ax.tick_params(labelsize=14)\n",
    "#if pot: \n",
    "#    cbar.set_label(label=\"$\\\\nu^{2}$ / \"+pot+\"$^{2}$\", fontsize=15)\n",
    "\n",
    "plt.xlim(bins[0], bins[-1])\n",
    "plt.ylim(bins[0], bins[-1])\n",
    "\n",
    "\n",
    "plt.xlabel(\"Bin Number\", fontsize=15)\n",
    "plt.ylabel(\"Bin Number\", fontsize=15)\n",
    "\n",
    "plt.title('Covariance Matrix (MECTune)', fontsize=16)\n",
    "\n",
    "\n",
    "plt.savefig(\"data_covmat_MC_MECTune_input_angleDiff_comb_\"+ending+\".svg\", bbox_inches='tight')\n",
    "\n",
    "plt.show()"
   ]
  },
  {
   "cell_type": "code",
   "execution_count": 18,
   "id": "c3fa84cb",
   "metadata": {},
   "outputs": [],
   "source": [
    "np.savetxt(\"data_covmat_MC_MECTune_input_angleDiff_comb_\"+ending+\".csv\", \n",
    "           total_noTune_input_cov,\n",
    "           delimiter =\", \", \n",
    "           fmt ='% s')"
   ]
  },
  {
   "cell_type": "code",
   "execution_count": null,
   "id": "f1216474",
   "metadata": {},
   "outputs": [],
   "source": []
  }
 ],
 "metadata": {
  "kernelspec": {
   "display_name": "Python 3 (ipykernel)",
   "language": "python",
   "name": "python3"
  },
  "language_info": {
   "codemirror_mode": {
    "name": "ipython",
    "version": 3
   },
   "file_extension": ".py",
   "mimetype": "text/x-python",
   "name": "python",
   "nbconvert_exporter": "python",
   "pygments_lexer": "ipython3",
   "version": "3.8.12"
  }
 },
 "nbformat": 4,
 "nbformat_minor": 5
}
