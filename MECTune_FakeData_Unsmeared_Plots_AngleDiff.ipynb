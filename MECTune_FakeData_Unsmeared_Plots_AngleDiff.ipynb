{
 "cells": [
  {
   "cell_type": "code",
   "execution_count": 1,
   "id": "4f4783db",
   "metadata": {},
   "outputs": [
    {
     "name": "stdout",
     "output_type": "stream",
     "text": [
      "/home/alex/NuMI/PELEE/\n"
     ]
    }
   ],
   "source": [
    "import pandas as pd\n",
    "import matplotlib.pyplot as plt\n",
    "import matplotlib\n",
    "import sys\n",
    "import localSettings as ls\n",
    "import math\n",
    "print(ls.main_path)\n",
    "import load_data_run123\n",
    "import plotter_alex\n",
    "import importlib\n",
    "importlib.reload(plotter_alex)\n",
    "import uproot\n",
    "import matplotlib.pylab as pylab\n",
    "import numpy as np\n",
    "import math\n",
    "from sklearn.model_selection import train_test_split\n",
    "import pickle\n",
    "import xgboost as xgb\n",
    "import nue_booster \n",
    "importlib.reload(nue_booster)\n",
    "import awkward\n",
    "from matplotlib import gridspec\n",
    "from collections import defaultdict"
   ]
  },
  {
   "cell_type": "code",
   "execution_count": 2,
   "id": "1043840e",
   "metadata": {},
   "outputs": [],
   "source": [
    "ending = \"Jan19\""
   ]
  },
  {
   "cell_type": "code",
   "execution_count": null,
   "id": "086ae909",
   "metadata": {},
   "outputs": [],
   "source": []
  },
  {
   "cell_type": "code",
   "execution_count": 3,
   "id": "04133fd0",
   "metadata": {},
   "outputs": [
    {
     "name": "stdout",
     "output_type": "stream",
     "text": [
      "Unsmeared events\n",
      "[21.2503, 34.0802, 42.0417, 51.139, 54.4594, 66.3959, 85.3712, 140.277, 235.191, 692.81, 606.671, 694.058, 895.38, 1038.54, 1160.21, 1583.85, 2099.29, 3155.23, 5341.2, 15543.1]\n",
      "\n",
      "AC\n",
      "[[0.776026, -0.0694633, 0.037166, 0.0364872, -0.0161137, 0.011834, 0.047957, -0.107062, 0.0253979, -0.00271006, 0.0, 0.0, 0.0, 0.0, 0.0, 0.0, 0.0, 0.0, 0.0, 0.0], [-0.0694633, 0.451309, -0.0509428, 0.0582015, 0.166533, 0.0490599, -0.207902, -0.054302, 0.15635, -0.00924784, 0.0, 0.0, 0.0, 0.0, 0.0, 0.0, 0.0, 0.0, 0.0, 0.0], [0.037166, -0.0509428, 0.718366, -0.0522222, 0.05786, 0.0312969, -0.0278918, 0.00721248, 0.0649009, -0.00857784, 0.0, 0.0, 0.0, 0.0, 0.0, 0.0, 0.0, 0.0, 0.0, 0.0], [0.0364872, 0.0582015, -0.0522222, 0.746228, -0.10691, 0.0165015, 0.0624092, -0.0039956, 0.0641144, -0.0127099, 0.0, 0.0, 0.0, 0.0, 0.0, 0.0, 0.0, 0.0, 0.0, 0.0], [-0.0161137, 0.166533, 0.05786, -0.10691, 0.26609, -0.106171, 0.0487217, 0.0965003, 0.168647, -0.03149, 0.0, 0.0, 0.0, 0.0, 0.0, 0.0, 0.0, 0.0, 0.0, 0.0], [0.011834, 0.0490599, 0.0312969, 0.0165015, -0.106171, 0.493049, -0.15072, 0.264639, 0.0780075, -0.0188483, 0.0, 0.0, 0.0, 0.0, 0.0, 0.0, 0.0, 0.0, 0.0, 0.0], [0.047957, -0.207902, -0.0278918, 0.0624092, 0.0487217, -0.15072, 0.372813, 0.0832274, 0.174899, -0.00920241, 0.0, 0.0, 0.0, 0.0, 0.0, 0.0, 0.0, 0.0, 0.0, 0.0], [-0.107062, -0.054302, 0.00721248, -0.0039956, 0.0965003, 0.264639, 0.0832274, 0.475818, 0.120369, 0.00113654, 0.0, 0.0, 0.0, 0.0, 0.0, 0.0, 0.0, 0.0, 0.0, 0.0], [0.0253979, 0.15635, 0.0649009, 0.0641144, 0.168647, 0.0780075, 0.174899, 0.120369, 0.419077, 0.0609446, 0.0, 0.0, 0.0, 0.0, 0.0, 0.0, 0.0, 0.0, 0.0, 0.0], [-0.00271006, -0.00924784, -0.00857784, -0.0127099, -0.03149, -0.0188483, -0.00920241, 0.00113654, 0.0609446, 0.85203, 0.0, 0.0, 0.0, 0.0, 0.0, 0.0, 0.0, 0.0, 0.0, 0.0], [0.0, 0.0, 0.0, 0.0, 0.0, 0.0, 0.0, 0.0, 0.0, 0.0, 0.684162, 0.16353, -0.187476, -0.0630712, 0.0956361, -0.00890918, 0.0275107, -0.00681378, 0.0268387, -0.00297352], [0.0, 0.0, 0.0, 0.0, 0.0, 0.0, 0.0, 0.0, 0.0, 0.0, 0.16353, 0.372843, 0.175419, -0.197773, 0.0423828, 0.0659571, -0.01101, 0.163895, -0.00611263, -0.0189699], [0.0, 0.0, 0.0, 0.0, 0.0, 0.0, 0.0, 0.0, 0.0, 0.0, -0.187476, 0.175419, 0.302046, -0.0121074, 0.112437, 0.0853879, -0.0214037, 0.159109, 0.00486032, -0.0139092], [0.0, 0.0, 0.0, 0.0, 0.0, 0.0, 0.0, 0.0, 0.0, 0.0, -0.0630712, -0.197773, -0.0121074, 0.406407, 0.289444, 0.0869013, 0.0490362, 0.0285314, 0.0248088, -0.00994502], [0.0, 0.0, 0.0, 0.0, 0.0, 0.0, 0.0, 0.0, 0.0, 0.0, 0.0956361, 0.0423828, 0.112437, 0.289444, 0.570728, -0.0934481, -0.00216399, 0.00841239, 0.00286622, -0.0015828], [0.0, 0.0, 0.0, 0.0, 0.0, 0.0, 0.0, 0.0, 0.0, 0.0, -0.00890918, 0.0659571, 0.0853879, 0.0869013, -0.0934481, 0.523542, -0.176723, 0.197598, 0.0321829, -0.00108715], [0.0, 0.0, 0.0, 0.0, 0.0, 0.0, 0.0, 0.0, 0.0, 0.0, 0.0275107, -0.01101, -0.0214037, 0.0490362, -0.00216399, -0.176723, 0.71508, 0.166213, 0.0361436, -0.00879413], [0.0, 0.0, 0.0, 0.0, 0.0, 0.0, 0.0, 0.0, 0.0, 0.0, -0.00681378, 0.163895, 0.159109, 0.0285314, 0.00841239, 0.197598, 0.166213, 0.502354, -0.0338653, 0.0240413], [0.0, 0.0, 0.0, 0.0, 0.0, 0.0, 0.0, 0.0, 0.0, 0.0, 0.0268387, -0.00611263, 0.00486032, 0.0248088, 0.00286622, 0.0321829, 0.0361436, -0.0338653, 0.893577, -0.0097995], [0.0, 0.0, 0.0, 0.0, 0.0, 0.0, 0.0, 0.0, 0.0, 0.0, -0.00297352, -0.0189699, -0.0139092, -0.00994502, -0.0015828, -0.00108715, -0.00879413, 0.0240413, -0.0097995, 0.853751]]\n",
      "\n",
      "Prior Truth: \n",
      "[28.692635744908415, 32.06942196292763, 38.57408006985097, 44.399967456294895, 54.94548392337927, 69.71706965774386, 93.24473923035869, 136.821556465955, 229.69337281869664, 568.9664620716541, 644.5236767646209, 760.6300858343211, 893.3996811913257, 1050.7940968197122, 1251.303660351742, 1555.7243990977233, 1983.5003694926472, 2825.5734928725005, 4551.200438107946, 12087.37542901723]\n",
      "\n",
      "Errors: \n",
      "[62.7496, 26.5513, 28.3894, 37.6812, 19.3399, 36.4256, 24.511, 39.319, 38.9664, 193.253, 187.22, 517.545, 498.392, 150.805, 209.241, 617.205, 382.003, 792.647, 1081.97, 4462.97]\n",
      "\n",
      "################################################################\n",
      "\n",
      "cov\n",
      "[[3937.51, -1364.34, -192.868, 1069.1, -820.879, -1670.4, 1175.26, -1776.97, 199.442, 6251.95, 5790.14, -26697.9, -26187.9, 2596.89, -1505.65, -29667.1, 5557.47, -31578.2, 16017.4, 86748.1], [-1364.34, 704.972, 25.7411, -207.333, 406.482, 798.465, -401.97, 849.077, 243.893, -1878.96, -1263.82, 11696.5, 11436.6, -48.7961, 1922.39, 13459.7, 58.0968, 15893.3, -798.939, -20858.6], [-192.868, 25.7411, 805.957, -319.257, 207.171, 276.317, -42.9162, 331.027, 218.039, -218.374, 184.918, 3706.29, 3598.55, 478.32, 1228.26, 4387.93, 1120.35, 5864.77, 2330.82, 497.795], [1069.1, -207.333, -319.257, 1419.88, -344.824, -283.717, 512.252, -286.826, 449.906, 2508.5, 3407.95, -6265.3, -6343.87, 2195.9, 1702.74, -6851.8, 4804.77, -5155.22, 11581.7, 39042.5], [-820.879, 406.482, 207.171, -344.824, 374.034, 472.381, -173.312, 610.025, 262.152, -1067.91, -465.465, 7959.99, 7765.49, 316.516, 1755.05, 9209.34, 758.987, 11312.0, 1001.48, -10158.6], [-1670.4, 798.465, 276.317, -283.717, 472.381, 1326.83, -537.395, 1316.94, 328.279, -2701.0, -1182.81, 16704.7, 16125.3, 228.407, 3329.4, 18692.2, 538.086, 22290.6, -964.713, -33424.4], [1175.26, -401.97, -42.9162, 512.252, -173.312, -537.395, 600.791, -358.106, 501.7, 3475.68, 2719.06, -8068.63, -7534.64, 2151.12, 760.466, -7262.42, 5192.81, -5225.61, 15004.4, 63025.6], [-1776.97, 849.077, 331.027, -286.826, 610.025, 1316.94, -358.106, 1545.98, 746.98, -1140.03, -726.923, 17400.8, 17334.7, 1366.47, 4231.36, 21601.6, 3741.77, 27897.1, 9149.51, 5555.14], [199.442, 243.893, 218.039, 449.906, 262.152, 328.279, 501.7, 746.98, 1518.38, 5320.84, 2697.83, 1912.9, 3296.03, 4367.48, 3863.3, 8624.14, 11728.6, 17910.5, 35374.2, 127909.0], [6251.95, -1878.96, -218.374, 2508.5, -1067.91, -2701.0, 3475.68, -1140.03, 5320.84, 37346.6, 10385.3, -54098.7, -42747.1, 16670.1, -855.097, -22642.2, 49903.9, 7765.21, 175463.0, 800493.0], [5790.14, -1263.82, 184.918, 3407.95, -465.465, -1182.81, 2719.06, -726.923, 2697.83, 10385.3, 35051.4, -22249.1, -30838.5, 15493.4, 21841.0, -38003.4, 32807.4, -26457.4, 60843.6, 88173.7], [-26697.9, 11696.5, 3706.29, -6265.3, 7959.99, 16704.7, -8068.63, 17400.8, 1912.9, -54098.7, -22249.1, 267853.0, 253455.0, -6709.25, 46407.5, 281808.0, -15550.9, 323716.0, -97387.4, -831622.0], [-26187.9, 11436.6, 3598.55, -6343.87, 7765.49, 16125.3, -7534.64, 17334.7, 3296.03, -42747.1, -30838.5, 253455.0, 248395.0, -2076.52, 41710.8, 287526.0, -4897.02, 338436.0, -40423.8, -530674.0], [2596.89, -48.7961, 478.32, 2195.9, 316.516, 228.407, 2151.12, 1366.47, 4367.48, 16670.1, 15493.4, -6709.25, -2076.52, 22742.3, 21668.6, 8532.07, 42268.7, 34891.1, 111038.0, 334307.0], [-1505.65, 1922.39, 1228.26, 1702.74, 1755.05, 3329.4, 760.466, 4231.36, 3863.3, -855.097, 21841.0, 46407.5, 41710.8, 21668.6, 43781.6, 37796.1, 35898.6, 69448.1, 50294.4, -41756.5], [-29667.1, 13459.7, 4387.93, -6851.8, 9209.34, 18692.2, -7262.42, 21601.6, 8624.14, -22642.2, -38003.4, 281808.0, 287526.0, 8532.07, 37796.1, 380942.0, 16672.4, 457282.0, 108548.0, 96120.7], [5557.47, 58.0968, 1120.35, 4804.77, 758.987, 538.086, 5192.81, 3741.77, 11728.6, 49903.9, 32807.4, -15550.9, -4897.02, 42268.7, 35898.6, 16672.4, 145926.0, 117621.0, 316442.0, 1130440.0], [-31578.2, 15893.3, 5864.77, -5155.22, 11312.0, 22290.6, -5225.61, 27897.1, 17910.5, 7765.21, -26457.4, 323716.0, 338436.0, 34891.1, 69448.1, 457282.0, 117621.0, 628289.0, 322831.0, 951199.0], [16017.4, -798.939, 2330.82, 11581.7, 1001.48, -964.713, 15004.4, 9149.51, 35374.2, 175463.0, 60843.6, -97387.4, -40423.8, 111038.0, 50294.4, 108548.0, 316442.0, 322831.0, 1170660.0, 4138910.0], [86748.1, -20858.6, 497.795, 39042.5, -10158.6, -33424.4, 63025.6, 5555.14, 127909.0, 800493.0, 88173.7, -831622.0, -530674.0, 334307.0, -41756.5, 96120.7, 1130440.0, 951199.0, 4138910.0, 19918100.0]]\n",
      "\n"
     ]
    }
   ],
   "source": [
    "with open('../blockwise/stv-analysis-new/blockwise_unsmeared_events_angle_MC_ONLY_weighted_recoCut_incErr_MECTune_'+ending+'.csv') as file:\n",
    "    content = file.readlines()\n",
    "events = content[0:]\n",
    "    \n",
    "for i in range(20):\n",
    "    events[i]=events[i].rstrip().rstrip(',')\n",
    "    events[i] = float(events[i])\n",
    "    \n",
    "print(\"Unsmeared events\")\n",
    "print(events)\n",
    "print(\"\")\n",
    "\n",
    "nuWro_events = events\n",
    "\n",
    "#------------------------------------------------------------------------------\n",
    "with open('../blockwise/stv-analysis-new/blockwise_unsmeared_AC_angle_MC_ONLY_weighted_recoCut_incErr_MECTune_'+ending+'.csv') as file:\n",
    "    content = file.readlines()\n",
    "AC = content[0:]\n",
    "    \n",
    "for i in range(400):\n",
    "    AC[i]=AC[i].rstrip().rstrip(',')\n",
    "    AC[i] = float(AC[i])\n",
    "    \n",
    "\n",
    "chunks = [AC[x:x+20] for x in range(0, len(AC), 20)]\n",
    "\n",
    "print(\"AC\")\n",
    "print(chunks)\n",
    "nuWro_Ac = chunks\n",
    "print(\"\")\n",
    "#---------------------------------------------------------------\n",
    "\n",
    "with open('nue_full_500_catsel_nopions_angleDiff_usingSelection_prior_true_signal_blockwise_recoCut_comb_'+ending+'.csv') as file:\n",
    "    content = file.readlines()\n",
    "prior_true = content[0:]\n",
    "    \n",
    "for i in range(20):\n",
    "    prior_true[i]=prior_true[i].rstrip().rstrip(',')\n",
    "    prior_true[i] = float(prior_true[i])\n",
    "    \n",
    "print(\"Prior Truth: \")\n",
    "print(prior_true)\n",
    "print(\"\")\n",
    "\n",
    "prior_true_nuWro = prior_true\n",
    "\n",
    "#----------------------------------------------------------------\n",
    "with open('../blockwise/stv-analysis-new/blockwise_unsmeared_errors_angle_MC_ONLY_weighted_recoCut_incErr_MECTune_'+ending+'.csv') as file:\n",
    "    content = file.readlines()\n",
    "errs = content[0:]\n",
    "    \n",
    "for i in range(20):\n",
    "    errs[i]=errs[i].rstrip().rstrip(',')\n",
    "    errs[i] = float(errs[i])\n",
    "    \n",
    "print(\"Errors: \")\n",
    "print(errs)\n",
    "print(\"\")\n",
    "print(\"################################################################\")\n",
    "print(\"\")\n",
    "\n",
    "nuWro_errs = errs\n",
    "\n",
    "#----------------------------------------------------------------\n",
    "with open('../blockwise/stv-analysis-new/blockwise_unsmeared_cov_matrix_angle_MC_ONLY_weighted_recoCut_incErr_MECTune_'+ending+'.csv') as file:\n",
    "    content = file.readlines()\n",
    "cov = content[0:]\n",
    "    \n",
    "for i in range(400):\n",
    "    cov[i]=cov[i].rstrip().rstrip(',')\n",
    "    cov[i] = float(cov[i])\n",
    "    \n",
    "\n",
    "chunks_cov = [cov[x:x+20] for x in range(0, len(cov), 20)]\n",
    "\n",
    "print(\"cov\")\n",
    "print(chunks_cov)\n",
    "print(\"\")"
   ]
  },
  {
   "cell_type": "code",
   "execution_count": 4,
   "id": "fd3ecb2c",
   "metadata": {},
   "outputs": [
    {
     "name": "stdout",
     "output_type": "stream",
     "text": [
      "['20\\n', '0  0\\n', '1  0\\n', '2  0\\n', '3  0\\n', '4  0\\n', '5  0\\n', '6  0\\n', '7  0\\n', '8  0\\n', '9  0\\n', '10 1\\n', '11 1\\n', '12 1\\n', '13 1\\n', '14 1\\n', '15 1\\n', '16 1\\n', '17 1\\n', '18 1\\n', '19 1\\n', '20\\n', '0  0\\n', '1  0\\n', '2  0\\n', '3  0\\n', '4  0\\n', '5  0\\n', '6  0\\n', '7  0\\n', '8  0\\n', '9  0\\n', '10 1\\n', '11 1\\n', '12 1\\n', '13 1\\n', '14 1\\n', '15 1\\n', '16 1\\n', '17 1\\n', '18 1\\n', '19 1\\n']\n"
     ]
    }
   ],
   "source": [
    "with open('../blockwise/stv-analysis-new/blocks.txt') as file:\n",
    "    content = file.readlines()\n",
    "blocks = content[0:]\n",
    "\n",
    "print(blocks)"
   ]
  },
  {
   "cell_type": "code",
   "execution_count": 5,
   "id": "e3ffe599",
   "metadata": {},
   "outputs": [
    {
     "name": "stdout",
     "output_type": "stream",
     "text": [
      "Prior_Truth x AC: \n",
      "[   17.14705952    29.50515149    38.5982643     42.07548385\n",
      "    48.1485889     61.74132898    69.66049426   120.19688813\n",
      "   189.50993056   493.75867765   558.90907377   677.68288132\n",
      "   804.36902715   893.10868232  1080.63953149  1250.71036027\n",
      "  1710.32886787  2495.92501022  4021.1138589  10282.60257804]\n",
      "\n",
      "\n",
      "Unfolding Done with MC Data Signal: \n",
      "[21.2503, 34.0802, 42.0417, 51.139, 54.4594, 66.3959, 85.3712, 140.277, 235.191, 692.81, 606.671, 694.058, 895.38, 1038.54, 1160.21, 1583.85, 2099.29, 3155.23, 5341.2, 15543.1]\n",
      "\n",
      "\n",
      "Difference\n",
      "[-4.10324048e+00 -4.57504851e+00 -3.44343570e+00 -9.06351615e+00\n",
      " -6.31081110e+00 -4.65457102e+00 -1.57107057e+01 -2.00801119e+01\n",
      " -4.56810694e+01 -1.99051322e+02 -4.77619262e+01 -1.63751187e+01\n",
      " -9.10109728e+01 -1.45431318e+02 -7.95704685e+01 -3.33139640e+02\n",
      " -3.88961132e+02 -6.59304990e+02 -1.32008614e+03 -5.26049742e+03]\n",
      "\n",
      "[-23.92970335 -15.50593126  -8.92121904 -21.54108599 -13.10694922\n",
      "  -7.53882545 -22.55325045 -16.70601642 -24.10484205 -40.31348336\n",
      "  -8.54556286  -2.41633943 -11.31457947 -16.28372006  -7.36327575\n",
      " -26.63603423 -22.74189131 -26.41525635 -32.82886751 -51.15920198]\n"
     ]
    }
   ],
   "source": [
    "\n",
    "made_data_sig = np.dot(prior_true, chunks)\n",
    "print(\"Prior_Truth x AC: \")\n",
    "print(made_data_sig)\n",
    "print(\"\")\n",
    "print(\"\")\n",
    "print(\"Unfolding Done with MC Data Signal: \")\n",
    "print(events)\n",
    "print(\"\")\n",
    "\n",
    "diff = made_data_sig - events\n",
    "print(\"\")\n",
    "print(\"Difference\")\n",
    "print(diff)\n",
    "\n",
    "#for i in made_data_sig:\n",
    "#    print(i)\n",
    "\n",
    "print(\"\")\n",
    "diffasfrac = np.nan_to_num(diff/made_data_sig)\n",
    "print(diffasfrac*100)"
   ]
  },
  {
   "cell_type": "code",
   "execution_count": 6,
   "id": "5979c327",
   "metadata": {},
   "outputs": [
    {
     "data": {
      "image/png": "[encoded data removed]",
      "text/plain": [
       "<Figure size 432x288 with 1 Axes>"
      ]
     },
     "metadata": {
      "needs_background": "light"
     },
     "output_type": "display_data"
    },
    {
     "data": {
      "image/png": "[encoded data removed]",
      "text/plain": [
       "<Figure size 432x288 with 1 Axes>"
      ]
     },
     "metadata": {
      "needs_background": "light"
     },
     "output_type": "display_data"
    },
    {
     "data": {
      "image/png": "[encoded data removed]",
      "text/plain": [
       "<Figure size 432x288 with 1 Axes>"
      ]
     },
     "metadata": {
      "needs_background": "light"
     },
     "output_type": "display_data"
    }
   ],
   "source": [
    "import random\n",
    "import numpy\n",
    "from matplotlib import pyplot\n",
    "\n",
    "bins = np.arange(0, 21, 1)\n",
    "count = np.arange(0.0, 20.0, 1)\n",
    "\n",
    "pyplot.hist(count, bins, weights=made_data_sig, alpha=0.5, label='Prior_Truth x AC')\n",
    "pyplot.hist(count, bins, weights=events, alpha=0.5, label='Unfolding Done with MC Data Signal')\n",
    "pyplot.legend(loc='upper right')\n",
    "pyplot.xlabel(\"Bin Number\")\n",
    "pyplot.ylabel(\"Count\")\n",
    "pyplot.show()\n",
    "\n",
    "pyplot.hist(count, bins, weights=diff, alpha=0.5, label='Difference')\n",
    "pyplot.legend(loc='upper right')\n",
    "pyplot.xlabel(\"Bin Number\")\n",
    "pyplot.ylabel(\"Count\")\n",
    "pyplot.show()\n",
    "\n",
    "\n",
    "pyplot.hist(count, bins, weights=diffasfrac, alpha=0.5, label='Fractional Difference')\n",
    "pyplot.legend(loc='upper right')\n",
    "pyplot.xlabel(\"Bin Number\")\n",
    "pyplot.ylabel(\"Fractional Difference\")\n",
    "pyplot.show()"
   ]
  },
  {
   "cell_type": "code",
   "execution_count": 7,
   "id": "c2787afc",
   "metadata": {},
   "outputs": [
    {
     "data": {
      "image/png": "[encoded data removed]",
      "text/plain": [
       "<Figure size 720x432 with 1 Axes>"
      ]
     },
     "metadata": {
      "needs_background": "light"
     },
     "output_type": "display_data"
    }
   ],
   "source": [
    "fig = plt.figure(figsize=(10, 6))\n",
    "\n",
    "pyplot.hist(count, bins, weights=made_data_sig, alpha=0.5, label='Prior_Truth x AC')\n",
    "pyplot.hist(count, bins, weights=events, alpha=0.5, label='Unfolding Done with MC Data Signal')\n",
    "pyplot.legend(loc='upper left')\n",
    "pyplot.xlabel(\"Bin Number\")\n",
    "pyplot.ylabel(\"Count\")\n",
    "pyplot.title(\"GENIE Closure Test - Neutrino Energy\")\n",
    "pyplot.show()\n",
    "\n",
    "fig.savefig(\"MECTune_fakeData_closure_test_angle_\"+ending+\".svg\",bbox_inches='tight' )\n"
   ]
  },
  {
   "cell_type": "code",
   "execution_count": 8,
   "id": "519c5df0",
   "metadata": {},
   "outputs": [
    {
     "data": {
      "image/png": "[encoded data removed]",
      "text/plain": [
       "<Figure size 720x432 with 1 Axes>"
      ]
     },
     "metadata": {
      "needs_background": "light"
     },
     "output_type": "display_data"
    }
   ],
   "source": [
    "fig = plt.figure(figsize=(10, 6))\n",
    "\n",
    "pyplot.hist(count, bins, weights=diff, alpha=0.5)\n",
    "#pyplot.legend(loc='upper right')\n",
    "pyplot.xlabel(\"Bin Number\")\n",
    "pyplot.ylabel(\"Difference\")\n",
    "pyplot.title(\"GENIE Closure Test - Difference\")\n",
    "pyplot.show()\n",
    "\n",
    "fig.savefig(\"MECTune_fakeData_closure_test_diff_angle_\"+ending+\".svg\",bbox_inches='tight' )"
   ]
  },
  {
   "cell_type": "code",
   "execution_count": 9,
   "id": "f2105818",
   "metadata": {},
   "outputs": [
    {
     "data": {
      "image/png": "[encoded data removed]",
      "text/plain": [
       "<Figure size 720x432 with 2 Axes>"
      ]
     },
     "metadata": {
      "needs_background": "light"
     },
     "output_type": "display_data"
    }
   ],
   "source": [
    "fig = plt.figure(figsize=(10, 6))  \n",
    "    \n",
    "plt.pcolor(bins, bins, chunks, cmap='OrRd', edgecolors='k')#, vmin=-1, vmax=1)\n",
    "            \n",
    "cbar = plt.colorbar()\n",
    "cbar.ax.tick_params(labelsize=14)\n",
    "#cbar.set_label(r\"Log (Power)\", size=15)\n",
    "\n",
    "plt.xlabel('Bin Number', fontsize=15)\n",
    "plt.ylabel('Bin Number', fontsize=15)\n",
    "\n",
    "plt.title('Additional Smearing Matrix', fontsize=15)\n",
    "\n",
    "plt.show()\n",
    "\n",
    "fig.savefig(\"MECTune_fakeData_closure_test_Ac_angle_\"+ending+\".svg\",bbox_inches='tight' )"
   ]
  },
  {
   "cell_type": "code",
   "execution_count": 10,
   "id": "5c56fce6",
   "metadata": {},
   "outputs": [
    {
     "name": "stderr",
     "output_type": "stream",
     "text": [
      "/tmp/ipykernel_44508/4171617754.py:7: RuntimeWarning: invalid value encountered in log\n",
      "  plt.pcolor(bins, bins, np.log(chunks_cov), cmap='OrRd', edgecolors='k')#, vmin=-1, vmax=1)\n"
     ]
    },
    {
     "data": {
      "image/png": "[encoded data removed]",
      "text/plain": [
       "<Figure size 720x432 with 2 Axes>"
      ]
     },
     "metadata": {
      "needs_background": "light"
     },
     "output_type": "display_data"
    }
   ],
   "source": [
    "fig = plt.figure(figsize=(10, 6))  \n",
    "\n",
    "#print(bins)\n",
    "bins = np.arange(0, 21, 1)\n",
    "count = np.arange(0.0, 20.0, 1)\n",
    "    \n",
    "plt.pcolor(bins, bins, np.log(chunks_cov), cmap='OrRd', edgecolors='k')#, vmin=-1, vmax=1)\n",
    "            \n",
    "cbar = plt.colorbar()\n",
    "cbar.ax.tick_params(labelsize=14)\n",
    "#cbar.set_label(r\"Log (Power)\", size=15)\n",
    "\n",
    "plt.xlabel('Bin Number', fontsize=15)\n",
    "plt.ylabel('Bin Number', fontsize=15)\n",
    "\n",
    "plt.title(' Log Covariance Matrix', fontsize=15)\n",
    "\n",
    "plt.show()"
   ]
  },
  {
   "cell_type": "code",
   "execution_count": 11,
   "id": "539af439",
   "metadata": {},
   "outputs": [
    {
     "name": "stdout",
     "output_type": "stream",
     "text": [
      "Jan19\n"
     ]
    }
   ],
   "source": [
    "np.savetxt(\"data_covmat_MC_MECTune_chi2_angleDiff_comb_\"+ending+\".csv\", \n",
    "           chunks_cov,\n",
    "           delimiter =\", \", \n",
    "           fmt ='% s')\n",
    "\n",
    "print(ending)"
   ]
  },
  {
   "cell_type": "markdown",
   "id": "b2be1cc9",
   "metadata": {},
   "source": [
    "## Convert to xsec units - uneeded right now"
   ]
  },
  {
   "cell_type": "markdown",
   "id": "c0d972a5",
   "metadata": {},
   "source": [
    "###################\n",
    "### #N argon target calculation\n",
    "###################\n",
    "\n",
    "density = 1.3836  #g/cm^3\n",
    "volume = (246-10)*(106-(-106))*(1026-10)         #cm^3\n",
    "NA = 6.022E23   #atoms/mol\n",
    "Nnuc = 40       #nucleans / atom\n",
    "mmol = 39.95    #g/mol\n",
    "\n",
    "Narg = (density * volume * NA * Nnuc)/mmol   #nucleons\n",
    "\n",
    "print(\"number of argon targets = \", Narg)"
   ]
  },
  {
   "cell_type": "markdown",
   "id": "0cae4282",
   "metadata": {},
   "source": [
    "#Need R1 AND R3\n",
    "\n",
    "####NUE\n",
    "POT_R1 = 2.0E20 \n",
    "int_flux_per_POT_R1 = 1.1864530596659353e-11\n",
    "POT_R3 = 5.014E20\n",
    "int_flux_per_POT_R3 = 8.628376225834778e-12\n",
    "\n",
    "int_flux = (int_flux_per_POT_R1*POT_R1) + (int_flux_per_POT_R3*POT_R3)    #cm^-2\n",
    "\n",
    "print(\"Nue integrated flux: \", int_flux)\n",
    "\n",
    "####NUMU\n",
    "\n",
    "POT_numu_R1 = 2.0E20 \n",
    "int_flux_per_POT_numu_R1 = 5.455771063338641e-10\n",
    "POT_numu_R3 = 5.014E20 \n",
    "int_flux_per_POT_numu_R3 = 3.6729003479115414e-10\n",
    "\n",
    "int_flux_numu = (int_flux_per_POT_numu_R1*POT_numu_R1) + (int_flux_per_POT_numu_R3*POT_numu_R3)    #cm^-2\n",
    "\n",
    "print(\"Numu integrated flux: \", int_flux_numu)"
   ]
  },
  {
   "cell_type": "markdown",
   "id": "76072d85",
   "metadata": {},
   "source": [
    "nue_events = np.array(events[0:10])\n",
    "numu_events = np.array(events[10:20])\n",
    "\n",
    "nue_errs = np.array(errs[0:10])\n",
    "numu_errs = np.array(errs[10:20])"
   ]
  },
  {
   "cell_type": "markdown",
   "id": "277a03a3",
   "metadata": {},
   "source": [
    "#number of events\n",
    "\n",
    "xsec_nue_events = nue_events / (int_flux * Narg )     \n",
    "xsec_numu_events = numu_events / (int_flux_numu * Narg )     \n"
   ]
  },
  {
   "cell_type": "markdown",
   "id": "40299080",
   "metadata": {},
   "source": [
    "#Need the four sections of the cov matrix\n",
    "\n",
    "blockwise_errs = chunks_cov\n",
    "#print(blockwise_errs)\n",
    "#print(\"\")\n",
    "\n",
    "#NUE ONLY\n",
    "bot_left = blockwise_errs[:10]\n",
    "for i in range(len(bot_left)):\n",
    "    bot_left[i] = bot_left[i][:10]\n",
    "    \n",
    "nue_errs_bot = np.array(bot_left)/((int_flux*int_flux)*(Narg*Narg))\n",
    "xsec_nue_errs = (np.sqrt(np.diag(nue_errs_bot)))\n",
    "    \n",
    "#MIX\n",
    "bot_right = blockwise_errs[:10]\n",
    "for i in range(len(bot_right)):\n",
    "    bot_right[i] = bot_right[i][10:]\n",
    "    \n",
    "mix_errs_bot = np.array(bot_right)/((int_flux*int_flux_numu)*(Narg*Narg))\n",
    "xsec_botmix_errs = np.nan_to_num(np.sqrt(np.diag(mix_errs_bot)))\n",
    "\n",
    "    \n",
    "#MIX\n",
    "top_left = blockwise_errs[10:]\n",
    "for i in range(len(top_left)):\n",
    "    top_left[i] = top_left[i][:10]\n",
    "    \n",
    "mix_errs_top = np.array(top_left)/((int_flux*int_flux_numu)*(Narg*Narg))\n",
    "xsec_topmix_errs = np.nan_to_num(np.sqrt(np.diag(mix_errs_top)))\n",
    "\n",
    "#NUMU ONLY\n",
    "top_right = blockwise_errs[10:]\n",
    "for i in range(len(top_right)):\n",
    "    top_right[i] = top_right[i][10:]\n",
    "    \n",
    "numu_errs_top = np.array(top_right)/((int_flux_numu*int_flux_numu)*(Narg*Narg))\n",
    "xsec_numu_errs = (np.sqrt(np.diag(numu_errs_top)))\n"
   ]
  },
  {
   "cell_type": "markdown",
   "id": "2c7dc4d3",
   "metadata": {},
   "source": [
    "### Calculate ratio uncertainties\n",
    "\n",
    "xsec_ratio_events = np.nan_to_num(xsec_nue_events/xsec_numu_events)\n",
    "print(\"Ratio event counts: \", xsec_ratio_events)\n",
    "print(\"\")\n",
    "\n",
    "#####################\n",
    "\n",
    "ratio_sq = (xsec_nue_events/xsec_numu_events)*(xsec_nue_events/xsec_numu_events)\n",
    "print(\"ratio_sq: \", ratio_sq)\n",
    "print(\"\")\n",
    "nue_term = (xsec_nue_errs*xsec_nue_errs)/(xsec_nue_events*xsec_nue_events)\n",
    "print(\"nue: \", nue_term)\n",
    "print(\"\")\n",
    "numu_term = (xsec_numu_errs*xsec_numu_errs)/(xsec_numu_events*xsec_numu_events)\n",
    "print(\"numu: \", numu_term)\n",
    "print(\"\")\n",
    "mix_1 = (xsec_botmix_errs*xsec_botmix_errs)/(xsec_numu_events*xsec_nue_events)\n",
    "print(\"mix: \", mix_1)\n",
    "print(\"\")\n",
    "mix_2 = (xsec_topmix_errs*xsec_topmix_errs)/(xsec_numu_events*xsec_nue_events)\n",
    "print(\"mix: \", mix_2)\n",
    "print(\"\")\n",
    "\n",
    "ratio_var_errs = ratio_sq*(nue_term + numu_term - mix_1 - mix_2)\n",
    "print(ratio_var_errs)\n",
    "xsec_ratio_errs = np.nan_to_num(np.sqrt(abs(ratio_var_errs)))\n",
    "print(\"Ratio errs: \", xsec_ratio_errs)"
   ]
  },
  {
   "cell_type": "markdown",
   "id": "64f9929b",
   "metadata": {},
   "source": [
    "print(xsec_nue_events)\n",
    "print(\"\")\n",
    "print(xsec_numu_events)\n",
    "print(\"\")\n",
    "print(xsec_nue_errs)\n",
    "print(\"\")\n",
    "print(xsec_numu_errs)"
   ]
  },
  {
   "cell_type": "markdown",
   "id": "6b108268",
   "metadata": {},
   "source": [
    "import random\n",
    "import numpy\n",
    "from matplotlib import pyplot\n",
    "\"\"\"\n",
    "bins = np.arange(0, 5.5, 0.5)\n",
    "count = np.arange(0.1, 5.1, 0.5)\n",
    "print(count)\n",
    "\n",
    "plt.ylim(0, 5E-39)\n",
    "\n",
    "plt.xlabel(\"Energy [GeV]\")\n",
    "plt.ylabel(\"xsec [cm^2]\")\n",
    "\n",
    "pyplot.hist(count, bins, weights=xsec_nue_events, alpha=0.5)\n",
    "#pyplot.legend(loc='upper right')\n",
    "pyplot.show()\n",
    "\"\"\"\n",
    "\n",
    "nue_fig = plt.figure(figsize=(8, 7))\n",
    "nue_gs = gridspec.GridSpec(2, 1, height_ratios=[2, 1])\n",
    "nue_ax1 = plt.subplot(nue_gs[0])\n",
    "nue_ax1.set_xlim([-1, 1])\n",
    "\n",
    "bins = np.arange(-1.0, 1.2, 0.2)\n",
    "bincenters = np.arange(-0.9, 1.1, 0.2)\n",
    "bin_edges = np.arange(-1.0, 1.2, 0.2)\n",
    "bin_size = [(bin_edges[i + 1] - bin_edges[i]) / 2\n",
    "            for i in range(len(bin_edges) - 1)]\n",
    "count = np.arange(-0.95, 1.05, 0.2)\n",
    "weights = []\n",
    "for i in range(len(count)):\n",
    "    weight = count[i]*xsec_nue_events[i]\n",
    "    weights.append(weight)\n",
    "\n",
    "sel = nue_ax1.hist(count, bins, color='deepskyblue', weights=xsec_nue_events)\n",
    "plt.ylim(0, 1E-39)\n",
    "nue_ax1.set_xlabel('cos(Lepton Angle)', fontsize=15)\n",
    "nue_ax1.set_ylabel('xsec [cm^2 / GeV / nucleon]', fontsize=15)\n",
    "nue_ax1.set_title(\"Unfolded Nue cos(Lepton Angle)\")\n",
    "\n",
    "lower_err = np.nan_to_num(xsec_nue_events-xsec_nue_errs)\n",
    "\n",
    "nue_ax1.bar(bincenters, xsec_nue_errs*2,width=[n*2 for n in bin_size],facecolor='tab:green',alpha=0.2,bottom=(lower_err))\n",
    "\n",
    "nuWro_xsec_nue_events = xsec_nue_events\n",
    "nuWro_xsec_nue_errs = xsec_nue_errs\n",
    "nuWro_lower_err = lower_err\n",
    "\n",
    "nue_fig.savefig(\"unfolded_nuWro_fakeData_MC_nue_angle_\"+ending+\".svg\",bbox_inches='tight' )"
   ]
  },
  {
   "cell_type": "markdown",
   "id": "252f47b4",
   "metadata": {},
   "source": [
    "import random\n",
    "import numpy\n",
    "from matplotlib import pyplot\n",
    "\n",
    "numu_fig = plt.figure(figsize=(8, 7))\n",
    "numu_gs = gridspec.GridSpec(2, 1, height_ratios=[2, 1])\n",
    "numu_ax1 = plt.subplot(numu_gs[0])\n",
    "numu_ax1.set_xlim([-1, 1])\n",
    "\n",
    "bins = np.arange(-1.0, 1.2, 0.2)\n",
    "bincenters = np.arange(-0.9, 1.1, 0.2)\n",
    "bin_edges = np.arange(-1.0, 1.2, 0.2)\n",
    "bin_size = [(bin_edges[i + 1] - bin_edges[i]) / 2\n",
    "            for i in range(len(bin_edges) - 1)]\n",
    "count = np.arange(-0.95, 1.05, 0.2)\n",
    "weights = []\n",
    "for i in range(len(count)):\n",
    "    weight = count[i]*xsec_numu_events[i]\n",
    "    weights.append(weight)\n",
    "\n",
    "sel = numu_ax1.hist(count, bins, color='deepskyblue', weights=xsec_numu_events)\n",
    "plt.ylim(0, 4E-40)\n",
    "numu_ax1.set_xlabel('cos(Lepton Angle)', fontsize=15)\n",
    "numu_ax1.set_ylabel('xsec [cm^2 / GeV / nucleon]', fontsize=15)\n",
    "numu_ax1.set_title(\"Unfolded Numu cos(Lepton Angle)\")\n",
    "\n",
    "lower_err = np.nan_to_num(xsec_numu_events-xsec_numu_errs)\n",
    "\n",
    "numu_ax1.bar(bincenters, xsec_numu_errs*2,width=[n*2 for n in bin_size],facecolor='tab:green',alpha=0.2,bottom=(lower_err))\n",
    "\n",
    "nuWro_xsec_numu_events = xsec_numu_events\n",
    "nuWro_xsec_numu_errs = xsec_numu_errs\n",
    "nuWro_lower_err_numu = lower_err\n",
    "\n",
    "numu_fig.savefig(\"unfolded_nuWro_fakeData_MC_numu_angle_\"+ending+\".svg\",bbox_inches='tight' )"
   ]
  },
  {
   "cell_type": "markdown",
   "id": "3fcd0604",
   "metadata": {},
   "source": [
    "import random\n",
    "import numpy\n",
    "from matplotlib import pyplot\n",
    "\n",
    "bins = np.arange(-1.0, 1.2, 0.2)\n",
    "count = np.arange(-0.95, 1.05, 0.2)\n",
    "#print(count)\n",
    "\n",
    "plt.ylim(0, 5)\n",
    "plt.xlabel(\"cos(Lepton Angle)\")\n",
    "plt.ylabel(\"xsec [cm^2 / GeV / nucleon]\")\n",
    "\n",
    "print(xsec_nue_events/xsec_numu_events)\n",
    "print(xsec_ratio_events)\n",
    "\n",
    "pyplot.hist(count, bins, weights=np.nan_to_num(xsec_nue_events/xsec_numu_events), alpha=0.5)\n",
    "pyplot.hist(count, bins, weights=xsec_ratio_events, alpha=0.5)\n",
    "\n",
    "#pyplot.legend(loc='upper right')\n",
    "pyplot.show()"
   ]
  },
  {
   "cell_type": "markdown",
   "id": "8102bf77",
   "metadata": {},
   "source": [
    "import random\n",
    "import numpy\n",
    "from matplotlib import pyplot\n",
    "\n",
    "\n",
    "ratio_fig = plt.figure(figsize=(8, 7))\n",
    "ratio_gs = gridspec.GridSpec(2, 1, height_ratios=[2, 1])\n",
    "ratio_ax1 = plt.subplot(ratio_gs[0])\n",
    "ratio_ax1.set_xlim([-1, 1])\n",
    "\n",
    "bins = np.arange(-1.0, 1.2, 0.2)\n",
    "bincenters = np.arange(-0.9, 1.1, 0.2)\n",
    "bin_edges = np.arange(-1.0, 1.2, 0.2)\n",
    "bin_size = [(bin_edges[i + 1] - bin_edges[i]) / 2\n",
    "            for i in range(len(bin_edges) - 1)]\n",
    "count = np.arange(-0.95, 1.05, 0.2)\n",
    "#print(len(count))\n",
    "#weights = []\n",
    "#for i in range(len(count)):\n",
    "#    weight = count[i]*xsec_ratio_events[i]\n",
    "#    weights.append(weight)\n",
    "#test_weights = [(random.random()/random.random() - 0.75) for x in range(len(count))]\n",
    "#print(count)\n",
    "#xsec_ratio_events[7] = 0\n",
    "#print(xsec_ratio_events)\n",
    "print(\"\")\n",
    "sel = ratio_ax1.hist(count, bins, color='deepskyblue', weights=xsec_ratio_events)  # , weights=xsec_ratio_events\n",
    "print(sel[0])\n",
    "\n",
    "plt.ylim(0, 6)\n",
    "ratio_ax1.set_xlabel('cos(Lepton Angle)', fontsize=15)\n",
    "ratio_ax1.set_ylabel('Ratio', fontsize=15)\n",
    "ratio_ax1.set_title(\"Unfolded Ratio cos(Lepton Angle)\")\n",
    "\n",
    "lower_err = np.nan_to_num(xsec_ratio_events-xsec_ratio_errs)\n",
    "\n",
    "ratio_ax1.bar(bincenters, xsec_ratio_errs*2,width=[n*2 for n in bin_size],facecolor='tab:green',alpha=0.2,bottom=(lower_err))\n",
    "\n",
    "nuWro_xsec_ratio_events = xsec_ratio_events\n",
    "nuWro_xsec_ratio_errs = xsec_ratio_errs\n",
    "nuWro_lower_err_ratio = lower_err\n",
    "\n",
    "ratio_fig.savefig(\"unfolded_nuWro_fakeData_MC_ratio_angle_\"+ending+\".svg\",bbox_inches='tight' )"
   ]
  },
  {
   "cell_type": "code",
   "execution_count": null,
   "id": "83c0ada2",
   "metadata": {},
   "outputs": [],
   "source": []
  },
  {
   "cell_type": "markdown",
   "id": "7a1981a2",
   "metadata": {},
   "source": [
    "## Now do the same with RUN1 genie unfolding - unneeded"
   ]
  },
  {
   "cell_type": "markdown",
   "id": "a26da3ee",
   "metadata": {},
   "source": [
    "with open('../blockwise/stv-analysis-new/blockwise_unsmeared_events_angle_MC_ONLY_weighted_recoCut_incErr_run1_'+ending+'.csv') as file:\n",
    "    content = file.readlines()\n",
    "events = content[0:]\n",
    "    \n",
    "for i in range(20):\n",
    "    events[i]=events[i].rstrip().rstrip(',')\n",
    "    events[i] = float(events[i])\n",
    "    \n",
    "print(\"Unsmeared events\")\n",
    "print(events)\n",
    "print(\"\")\n",
    "\n",
    "genie_events = events\n",
    "\n",
    "#------------------------------------------------------------------------------\n",
    "with open('../blockwise/stv-analysis-new/blockwise_unsmeared_AC_angle_MC_ONLY_weighted_recoCut_incErr_run1_'+ending+'.csv') as file:\n",
    "    content = file.readlines()\n",
    "AC = content[0:]\n",
    "    \n",
    "for i in range(400):\n",
    "    AC[i]=AC[i].rstrip().rstrip(',')\n",
    "    AC[i] = float(AC[i])\n",
    "    \n",
    "\n",
    "chunks = [AC[x:x+20] for x in range(0, len(AC), 20)]\n",
    "\n",
    "print(\"AC\")\n",
    "print(chunks)\n",
    "print(\"\")\n",
    "#---------------------------------------------------------------\n",
    "\n",
    "with open('nue_full_500_catsel_nopions_angleDiff_usingSelection_prior_true_signal_blockwise_recoCut_'+ending+'.csv') as file:\n",
    "    content = file.readlines()\n",
    "prior_true = content[0:]\n",
    "    \n",
    "for i in range(20):\n",
    "    prior_true[i]=prior_true[i].rstrip().rstrip(',')\n",
    "    prior_true[i] = float(prior_true[i])\n",
    "    \n",
    "print(\"Prior Truth: \")\n",
    "print(prior_true)\n",
    "print(\"\")\n",
    "\n",
    "#----------------------------------------------------------------\n",
    "with open('../blockwise/stv-analysis-new/blockwise_unsmeared_errors_angle_MC_ONLY_weighted_recoCut_incErr_run1_'+ending+'.csv') as file:\n",
    "    content = file.readlines()\n",
    "errs = content[0:]\n",
    "    \n",
    "for i in range(20):\n",
    "    errs[i]=errs[i].rstrip().rstrip(',')\n",
    "    errs[i] = float(errs[i])\n",
    "    \n",
    "print(\"Errors: \")\n",
    "print(errs)\n",
    "print(\"\")\n",
    "print(\"################################################################\")\n",
    "print(\"\")\n",
    "\n",
    "genie_errors = errs\n",
    "\n",
    "#----------------------------------------------------------------\n",
    "with open('../blockwise/stv-analysis-new/blockwise_unsmeared_cov_matrix_angle_MC_ONLY_weighted_recoCut_incErr_run1_'+ending+'.csv') as file:\n",
    "    content = file.readlines()\n",
    "cov = content[0:]\n",
    "    \n",
    "for i in range(400):\n",
    "    cov[i]=cov[i].rstrip().rstrip(',')\n",
    "    cov[i] = float(cov[i])\n",
    "    \n",
    "\n",
    "chunks_cov = [cov[x:x+20] for x in range(0, len(cov), 20)]\n",
    "\n",
    "print(\"cov\")\n",
    "print(chunks_cov)\n",
    "print(\"\")"
   ]
  },
  {
   "cell_type": "markdown",
   "id": "acae384a",
   "metadata": {},
   "source": [
    "\n",
    "made_data_sig = np.dot(prior_true, chunks)\n",
    "print(\"Prior_Truth x AC: \")\n",
    "print(made_data_sig)\n",
    "print(\"\")\n",
    "print(\"\")\n",
    "print(\"Unfolding Done with MC Data Signal: \")\n",
    "print(events)\n",
    "print(\"\")\n",
    "\n",
    "diff = made_data_sig - events\n",
    "print(\"\")\n",
    "print(\"Difference\")\n",
    "print(diff)\n",
    "\n",
    "#for i in made_data_sig:\n",
    "#    print(i)\n",
    "\n",
    "print(\"\")\n",
    "diffasfrac = np.nan_to_num(diff/made_data_sig)\n",
    "print(diffasfrac*100)"
   ]
  },
  {
   "cell_type": "markdown",
   "id": "0b0a3531",
   "metadata": {},
   "source": [
    "Convert to xsec units"
   ]
  },
  {
   "cell_type": "markdown",
   "id": "2ed940bd",
   "metadata": {},
   "source": [
    "###################\n",
    "### #N argon target calculation\n",
    "###################\n",
    "\n",
    "density = 1.3836  #g/cm^3\n",
    "volume = (246-10)*(106-(-106))*(1026-10)         #cm^3\n",
    "NA = 6.022E23   #atoms/mol\n",
    "Nnuc = 40       #nucleans / atom\n",
    "mmol = 39.95    #g/mol\n",
    "\n",
    "Narg = (density * volume * NA * Nnuc)/mmol   #nucleons\n",
    "\n",
    "print(\"number of argon targets = \", Narg)"
   ]
  },
  {
   "cell_type": "markdown",
   "id": "46665f59",
   "metadata": {},
   "source": [
    "#Need R1 AND R3\n",
    "\n",
    "####NUE\n",
    "POT_R1 = 2.0E20 \n",
    "int_flux_per_POT_R1 = 1.1864530596659353e-11\n",
    "POT_R3 = 5.014E20\n",
    "int_flux_per_POT_R3 = 8.628376225834778e-12\n",
    "\n",
    "int_flux = (int_flux_per_POT_R1*POT_R1) + (int_flux_per_POT_R3*POT_R3)    #cm^-2\n",
    "\n",
    "print(\"Nue integrated flux: \", int_flux)\n",
    "\n",
    "####NUMU\n",
    "\n",
    "POT_numu_R1 = 2.0E20 \n",
    "int_flux_per_POT_numu_R1 = 5.455771063338641e-10\n",
    "POT_numu_R3 = 5.014E20 \n",
    "int_flux_per_POT_numu_R3 = 3.6729003479115414e-10\n",
    "\n",
    "int_flux_numu = (int_flux_per_POT_numu_R1*POT_numu_R1) + (int_flux_per_POT_numu_R3*POT_numu_R3)    #cm^-2\n",
    "\n",
    "print(\"Numu integrated flux: \", int_flux_numu)"
   ]
  },
  {
   "cell_type": "markdown",
   "id": "6c429b12",
   "metadata": {},
   "source": [
    "nue_events = np.array(events[0:10])\n",
    "numu_events = np.array(events[10:20])\n",
    "\n",
    "nue_errs = np.array(errs[0:10])\n",
    "numu_errs = np.array(errs[10:20])"
   ]
  },
  {
   "cell_type": "markdown",
   "id": "ead4bc15",
   "metadata": {},
   "source": [
    "#number of events\n",
    "\n",
    "xsec_nue_events = nue_events / (int_flux * Narg )     \n",
    "xsec_numu_events = numu_events / (int_flux_numu * Narg )     \n"
   ]
  },
  {
   "cell_type": "markdown",
   "id": "872883f8",
   "metadata": {},
   "source": [
    "#Need the four sections of the cov matrix\n",
    "\n",
    "blockwise_errs = chunks_cov\n",
    "#print(blockwise_errs)\n",
    "#print(\"\")\n",
    "\n",
    "#NUE ONLY\n",
    "bot_left = blockwise_errs[:10]\n",
    "for i in range(len(bot_left)):\n",
    "    bot_left[i] = bot_left[i][:10]\n",
    "    \n",
    "nue_errs_bot = np.array(bot_left)/((int_flux*int_flux)*(Narg*Narg))\n",
    "xsec_nue_errs = (np.sqrt(np.diag(nue_errs_bot)))\n",
    "    \n",
    "#MIX\n",
    "bot_right = blockwise_errs[:10]\n",
    "for i in range(len(bot_right)):\n",
    "    bot_right[i] = bot_right[i][10:]\n",
    "    \n",
    "mix_errs_bot = np.array(bot_right)/((int_flux*int_flux_numu)*(Narg*Narg))\n",
    "xsec_botmix_errs = np.nan_to_num(np.sqrt(np.diag(mix_errs_bot)))\n",
    "\n",
    "    \n",
    "#MIX\n",
    "top_left = blockwise_errs[10:]\n",
    "for i in range(len(top_left)):\n",
    "    top_left[i] = top_left[i][:10]\n",
    "    \n",
    "mix_errs_top = np.array(top_left)/((int_flux*int_flux_numu)*(Narg*Narg))\n",
    "xsec_topmix_errs = np.nan_to_num(np.sqrt(np.diag(mix_errs_top)))\n",
    "\n",
    "#NUMU ONLY\n",
    "top_right = blockwise_errs[10:]\n",
    "for i in range(len(top_right)):\n",
    "    top_right[i] = top_right[i][10:]\n",
    "    \n",
    "numu_errs_top = np.array(top_right)/((int_flux_numu*int_flux_numu)*(Narg*Narg))\n",
    "xsec_numu_errs = (np.sqrt(np.diag(numu_errs_top)))\n"
   ]
  },
  {
   "cell_type": "markdown",
   "id": "bdb08c61",
   "metadata": {},
   "source": [
    "### Calculate ratio uncertainties\n",
    "\n",
    "xsec_ratio_events = np.nan_to_num(xsec_nue_events/xsec_numu_events)\n",
    "print(\"Ratio event counts: \", xsec_ratio_events)\n",
    "print(\"\")\n",
    "\n",
    "#####################\n",
    "\n",
    "ratio_sq = (xsec_nue_events/xsec_numu_events)*(xsec_nue_events/xsec_numu_events)\n",
    "print(\"ratio_sq: \", ratio_sq)\n",
    "print(\"\")\n",
    "nue_term = (xsec_nue_errs*xsec_nue_errs)/(xsec_nue_events*xsec_nue_events)\n",
    "print(\"nue: \", nue_term)\n",
    "print(\"\")\n",
    "numu_term = (xsec_numu_errs*xsec_numu_errs)/(xsec_numu_events*xsec_numu_events)\n",
    "print(\"numu: \", numu_term)\n",
    "print(\"\")\n",
    "mix_1 = (xsec_botmix_errs*xsec_botmix_errs)/(xsec_numu_events*xsec_nue_events)\n",
    "print(\"mix: \", mix_1)\n",
    "print(\"\")\n",
    "mix_2 = (xsec_topmix_errs*xsec_topmix_errs)/(xsec_numu_events*xsec_nue_events)\n",
    "print(\"mix: \", mix_2)\n",
    "print(\"\")\n",
    "\n",
    "ratio_var_errs = ratio_sq*(nue_term + numu_term - mix_1 - mix_2)\n",
    "print(ratio_var_errs)\n",
    "xsec_ratio_errs = np.nan_to_num(np.sqrt(abs(ratio_var_errs)))\n",
    "print(\"Ratio errs: \", xsec_ratio_errs)"
   ]
  },
  {
   "cell_type": "markdown",
   "id": "134eda61",
   "metadata": {},
   "source": [
    "import random\n",
    "import numpy\n",
    "from matplotlib import pyplot\n",
    "\"\"\"\n",
    "bins = np.arange(0, 5.5, 0.5)\n",
    "count = np.arange(0.1, 5.1, 0.5)\n",
    "print(count)\n",
    "\n",
    "plt.ylim(0, 5E-39)\n",
    "\n",
    "plt.xlabel(\"Energy [GeV]\")\n",
    "plt.ylabel(\"xsec [cm^2]\")\n",
    "\n",
    "pyplot.hist(count, bins, weights=xsec_nue_events, alpha=0.5)\n",
    "#pyplot.legend(loc='upper right')\n",
    "pyplot.show()\n",
    "\"\"\"\n",
    "\n",
    "nue_fig = plt.figure(figsize=(8, 7))\n",
    "nue_gs = gridspec.GridSpec(2, 1, height_ratios=[2, 1])\n",
    "nue_ax1 = plt.subplot(nue_gs[0])\n",
    "nue_ax1.set_xlim([-1, 1])\n",
    "\n",
    "bins = np.arange(-1.0, 1.2, 0.2)\n",
    "bincenters = np.arange(-0.9, 1.1, 0.2)\n",
    "bin_edges = np.arange(-1.0, 1.2, 0.2)\n",
    "bin_size = [(bin_edges[i + 1] - bin_edges[i]) / 2\n",
    "            for i in range(len(bin_edges) - 1)]\n",
    "count = np.arange(-0.95, 1.05, 0.2)\n",
    "weights = []\n",
    "for i in range(len(count)):\n",
    "    weight = count[i]*xsec_nue_events[i]\n",
    "    weights.append(weight)\n",
    "\n",
    "sel = nue_ax1.hist(count, bins, color='deepskyblue', weights=xsec_nue_events)\n",
    "plt.ylim(0, 1E-39)\n",
    "nue_ax1.set_xlabel('cos(Lepton Angle)', fontsize=15)\n",
    "nue_ax1.set_ylabel('xsec [cm^2 / GeV / nucleon]', fontsize=15)\n",
    "nue_ax1.set_title(\"Unfolded Nue cos(Lepton Angle)\")\n",
    "\n",
    "lower_err = np.nan_to_num(xsec_nue_events-xsec_nue_errs)\n",
    "\n",
    "nue_ax1.bar(bincenters, xsec_nue_errs*2,width=[n*2 for n in bin_size],facecolor='tab:green',alpha=0.2,bottom=(lower_err))\n",
    "\n",
    "genie_xsec_nue_events = xsec_nue_events\n",
    "genie_xsec_nue_errs = xsec_nue_errs\n",
    "genie_lower_err = lower_err\n",
    "\n",
    "nue_fig.savefig(\"unfolded_run1_MC_nue_angle_\"+ending+\".svg\",bbox_inches='tight' )"
   ]
  },
  {
   "cell_type": "markdown",
   "id": "12acd9b8",
   "metadata": {},
   "source": [
    "import random\n",
    "import numpy\n",
    "from matplotlib import pyplot\n",
    "\n",
    "numu_fig = plt.figure(figsize=(8, 7))\n",
    "numu_gs = gridspec.GridSpec(2, 1, height_ratios=[2, 1])\n",
    "numu_ax1 = plt.subplot(numu_gs[0])\n",
    "numu_ax1.set_xlim([-1, 1])\n",
    "\n",
    "bins = np.arange(-1.0, 1.2, 0.2)\n",
    "bincenters = np.arange(-0.9, 1.1, 0.2)\n",
    "bin_edges = np.arange(-1.0, 1.2, 0.2)\n",
    "bin_size = [(bin_edges[i + 1] - bin_edges[i]) / 2\n",
    "            for i in range(len(bin_edges) - 1)]\n",
    "count = np.arange(-0.95, 1.05, 0.2)\n",
    "weights = []\n",
    "for i in range(len(count)):\n",
    "    weight = count[i]*xsec_numu_events[i]\n",
    "    weights.append(weight)\n",
    "\n",
    "sel = numu_ax1.hist(count, bins, color='deepskyblue', weights=xsec_numu_events)\n",
    "plt.ylim(0, 4E-40)\n",
    "numu_ax1.set_xlabel('cos(Lepton Angle)', fontsize=15)\n",
    "numu_ax1.set_ylabel('xsec [cm^2 / GeV / nucleon]', fontsize=15)\n",
    "numu_ax1.set_title(\"Unfolded Numu cos(Lepton Angle)\")\n",
    "\n",
    "lower_err = np.nan_to_num(xsec_numu_events-xsec_numu_errs)\n",
    "\n",
    "numu_ax1.bar(bincenters, xsec_numu_errs*2,width=[n*2 for n in bin_size],facecolor='tab:green',alpha=0.2,bottom=(lower_err))\n",
    "\n",
    "genie_xsec_numu_events = xsec_numu_events\n",
    "genie_xsec_numu_errs = xsec_numu_errs\n",
    "genie_lower_err_numu = lower_err\n",
    "\n",
    "numu_fig.savefig(\"unfolded_run1_MC_numu_angle_\"+ending+\".svg\",bbox_inches='tight' )"
   ]
  },
  {
   "cell_type": "markdown",
   "id": "3c6007f4",
   "metadata": {},
   "source": [
    "import random\n",
    "import numpy\n",
    "from matplotlib import pyplot\n",
    "\n",
    "bins = np.arange(-1.0, 1.2, 0.2)\n",
    "count = np.arange(-0.95, 1.05, 0.2)\n",
    "#print(count)\n",
    "\n",
    "plt.ylim(0, 5)\n",
    "plt.xlabel(\"cos(Lepton Angle)\")\n",
    "plt.ylabel(\"xsec [cm^2 / GeV / nucleon]\")\n",
    "\n",
    "print(xsec_nue_events/xsec_numu_events)\n",
    "print(xsec_ratio_events)\n",
    "\n",
    "pyplot.hist(count, bins, weights=np.nan_to_num(xsec_nue_events/xsec_numu_events), alpha=0.5)\n",
    "pyplot.hist(count, bins, weights=xsec_ratio_events, alpha=0.5)\n",
    "\n",
    "#pyplot.legend(loc='upper right')\n",
    "pyplot.show()"
   ]
  },
  {
   "cell_type": "markdown",
   "id": "d514d5be",
   "metadata": {},
   "source": [
    "import random\n",
    "import numpy\n",
    "from matplotlib import pyplot\n",
    "\n",
    "\n",
    "ratio_fig = plt.figure(figsize=(8, 7))\n",
    "ratio_gs = gridspec.GridSpec(2, 1, height_ratios=[2, 1])\n",
    "ratio_ax1 = plt.subplot(ratio_gs[0])\n",
    "ratio_ax1.set_xlim([-1, 1])\n",
    "\n",
    "bins = np.arange(-1.0, 1.2, 0.2)\n",
    "bincenters = np.arange(-0.9, 1.1, 0.2)\n",
    "bin_edges = np.arange(-1.0, 1.2, 0.2)\n",
    "bin_size = [(bin_edges[i + 1] - bin_edges[i]) / 2\n",
    "            for i in range(len(bin_edges) - 1)]\n",
    "count = np.arange(-0.95, 1.05, 0.2)\n",
    "#print(len(count))\n",
    "#weights = []\n",
    "#for i in range(len(count)):\n",
    "#    weight = count[i]*xsec_ratio_events[i]\n",
    "#    weights.append(weight)\n",
    "#test_weights = [(random.random()/random.random() - 0.75) for x in range(len(count))]\n",
    "#print(count)\n",
    "#xsec_ratio_events[7] = 0\n",
    "#print(xsec_ratio_events)\n",
    "print(\"\")\n",
    "sel = ratio_ax1.hist(count, bins, color='deepskyblue', weights=xsec_ratio_events)  # , weights=xsec_ratio_events\n",
    "print(sel[0])\n",
    "\n",
    "plt.ylim(0, 6)\n",
    "ratio_ax1.set_xlabel('cos(Lepton Angle)', fontsize=15)\n",
    "ratio_ax1.set_ylabel('Ratio', fontsize=15)\n",
    "ratio_ax1.set_title(\"Unfolded Ratio cos(Lepton Angle)\")\n",
    "\n",
    "lower_err = np.nan_to_num(xsec_ratio_events-xsec_ratio_errs)\n",
    "\n",
    "ratio_ax1.bar(bincenters, xsec_ratio_errs*2,width=[n*2 for n in bin_size],facecolor='tab:green',alpha=0.2,bottom=(lower_err))\n",
    "\n",
    "genie_xsec_ratio_events = xsec_ratio_events\n",
    "genie_xsec_ratio_errs = xsec_ratio_errs\n",
    "genie_lower_err_ratio = lower_err\n",
    "\n",
    "ratio_fig.savefig(\"unfolded_run1_MC_ratio_angle_\"+ending+\".svg\",bbox_inches='tight' )"
   ]
  },
  {
   "cell_type": "markdown",
   "id": "b81f4e4a",
   "metadata": {},
   "source": [
    "## Now Compare\n",
    "\n",
    "The genie unfolded spectra should be within the uncertainties of the nuWro unfolded spectra"
   ]
  },
  {
   "cell_type": "markdown",
   "id": "e3c24c05",
   "metadata": {},
   "source": [
    "###############\n",
    "###NUE######\n",
    "#############\n",
    "\n",
    "errors_fig = plt.figure(figsize=(8, 7))\n",
    "errors_gs = gridspec.GridSpec(2, 1, height_ratios=[2, 1])\n",
    "errors_ax1 = plt.subplot(errors_gs[0])\n",
    "\n",
    "\n",
    "bins = np.arange(-1, 1.2, 0.2)\n",
    "count = [-0.9, -0.7, -0.5, -0.3, -0.1, 0.1, 0.3, 0.5, 0.7, 0.9]\n",
    "\n",
    "#print(bincenters)\n",
    "sel = errors_ax1.hist(count, bins, color='deepskyblue', weights=nuWro_xsec_nue_events, alpha = 0.4, label=\"nuWro\")  # , weights=xsec_ratio_events\n",
    "\n",
    "errors = errors_ax1.bar(bincenters, nuWro_xsec_nue_errs*2,width=[n*2 for n in bin_size],facecolor='tab:green',alpha=0.2,bottom=(nuWro_lower_err))\n",
    "\n",
    "#sel_nue = errors_ax1.hist(count, bins, edgecolor='blue', facecolor='None', weights=nuWro_xsec_nue_events, label='nuWro')\n",
    "sel_numu = errors_ax1.hist(count, bins, edgecolor='red', facecolor='None', weights=genie_xsec_nue_events, label='genie')\n",
    "\n",
    "errors = errors_ax1.bar(bincenters, genie_xsec_nue_errs*2,width=[n*2 for n in bin_size],facecolor='tab:orange',alpha=0.2,bottom=(genie_lower_err))\n",
    "\n",
    "\n",
    "errors_ax1.set_ylabel('xsec [cm^2 / GeV / nucleon]', fontsize=15)\n",
    "errors_ax1.set_xlabel('cos(True Lepton Angle)', fontsize=15)\n",
    "errors_ax1.set_title(\"Unfolded Comparison\")\n",
    "leg = errors_ax1.legend()\n",
    "\n",
    "errors_ax1.set_ylim([0, 8e-40])"
   ]
  },
  {
   "cell_type": "markdown",
   "id": "21fc5a42",
   "metadata": {},
   "source": [
    "for i in np.arange(len(genie_xsec_nue_events)):\n",
    "    if ((genie_xsec_nue_events[i] < nuWro_xsec_nue_events[i] + nuWro_xsec_nue_errs[i]) and (genie_xsec_nue_events[i] > nuWro_xsec_nue_events[i] - nuWro_xsec_nue_errs[i])):\n",
    "        print(\"Inside\")\n",
    "        print(\"\")\n",
    "    else:\n",
    "        print(\"outside\")\n",
    "        print(\"value is (genie) = \", genie_xsec_nue_events[i])\n",
    "        print(\"top of err = \", nuWro_xsec_nue_events[i] + nuWro_xsec_nue_errs[i])\n",
    "        print(\"bot of err = \", nuWro_xsec_nue_events[i] - nuWro_xsec_nue_errs[i])\n",
    "        print(\"\")"
   ]
  },
  {
   "cell_type": "markdown",
   "id": "28c9f5e2",
   "metadata": {},
   "source": [
    "for i in np.arange(len(nuWro_xsec_nue_events)):\n",
    "    if ((nuWro_xsec_nue_events[i] < genie_xsec_nue_events[i] + genie_xsec_nue_errs[i]) and (nuWro_xsec_nue_events[i] > genie_xsec_nue_events[i] - genie_xsec_nue_errs[i])):\n",
    "        print(\"Inside\")\n",
    "        print(\"\")\n",
    "    else:\n",
    "        print(\"outside\")\n",
    "        print(\"value is (genie) = \", nuWro_xsec_nue_events[i])\n",
    "        print(\"top of err = \", genie_xsec_nue_events[i] + genie_xsec_nue_errs[i])\n",
    "        print(\"bot of err = \", genie_xsec_nue_events[i] - genie_xsec_nue_errs[i])\n",
    "        print(\"\")"
   ]
  },
  {
   "cell_type": "markdown",
   "id": "7819a9bd",
   "metadata": {},
   "source": [
    "diff = 7.723562394053671e-41 - 7.480422350351412e-41\n",
    "\n",
    "fractional_diff = diff/7.480422350351412e-41\n",
    "\n",
    "print(fractional_diff)"
   ]
  },
  {
   "cell_type": "markdown",
   "id": "a559af0c",
   "metadata": {},
   "source": [
    "###############\n",
    "###NUMU######\n",
    "#############\n",
    "\n",
    "errors_fig = plt.figure(figsize=(8, 7))\n",
    "errors_gs = gridspec.GridSpec(2, 1, height_ratios=[2, 1])\n",
    "errors_ax1 = plt.subplot(errors_gs[0])\n",
    "\n",
    "\n",
    "bins = np.arange(-1, 1.2, 0.2)\n",
    "count = [-0.9, -0.7, -0.5, -0.3, -0.1, 0.1, 0.3, 0.5, 0.7, 0.9]\n",
    "\n",
    "#print(bincenters)\n",
    "sel = errors_ax1.hist(count, bins, color='deepskyblue', weights=nuWro_xsec_numu_events, alpha = 0.4, label=\"nuWro\")  # , weights=xsec_ratio_events\n",
    "\n",
    "errors = errors_ax1.bar(bincenters, nuWro_xsec_numu_errs*2,width=[n*2 for n in bin_size],facecolor='tab:green',alpha=0.2,bottom=(nuWro_lower_err_numu))\n",
    "\n",
    "#sel_nue = errors_ax1.hist(count, bins, edgecolor='blue', facecolor='None', weights=nuWro_xsec_nue_events, label='nuWro')\n",
    "sel_numu = errors_ax1.hist(count, bins, edgecolor='red', facecolor='None', weights=genie_xsec_numu_events, label='genie')\n",
    "\n",
    "errors = errors_ax1.bar(bincenters, genie_xsec_numu_errs*2,width=[n*2 for n in bin_size],facecolor='tab:orange',alpha=0.2,bottom=(genie_lower_err_numu))\n",
    "\n",
    "print(genie_xsec_numu_errs)\n",
    "print(nuWro_xsec_numu_errs)\n",
    "\n",
    "errors_ax1.set_ylabel('xsec [cm^2 / GeV / nucleon]', fontsize=15)\n",
    "errors_ax1.set_xlabel('cos(True Lepton Angle)', fontsize=15)\n",
    "errors_ax1.set_title(\"Unfolded Comparison\")\n",
    "leg = errors_ax1.legend()\n",
    "\n",
    "errors_ax1.set_ylim([0, 1e-40])"
   ]
  },
  {
   "cell_type": "markdown",
   "id": "a018770a",
   "metadata": {},
   "source": [
    "for i in np.arange(len(genie_xsec_numu_events)):\n",
    "    if ((genie_xsec_numu_events[i] < nuWro_xsec_numu_events[i] + nuWro_xsec_numu_errs[i]) and (genie_xsec_numu_events[i] > nuWro_xsec_numu_events[i] - nuWro_xsec_numu_errs[i])):\n",
    "        print(\"Inside\")\n",
    "        print(\"\")\n",
    "    else:\n",
    "        print(\"outside\")\n",
    "        print(\"value is (genie) = \", genie_xsec_numu_events[i])\n",
    "        print(\"top of err = \", nuWro_xsec_numu_events[i] + nuWro_xsec_numu_errs[i])\n",
    "        print(\"bot of err = \", nuWro_xsec_numu_events[i] - nuWro_xsec_numu_errs[i])\n",
    "        print(\"\")"
   ]
  },
  {
   "cell_type": "markdown",
   "id": "c686e4b0",
   "metadata": {},
   "source": [
    "###############\n",
    "###RATIO######\n",
    "#############\n",
    "\n",
    "errors_fig = plt.figure(figsize=(8, 7))\n",
    "errors_gs = gridspec.GridSpec(2, 1, height_ratios=[2, 1])\n",
    "errors_ax1 = plt.subplot(errors_gs[0])\n",
    "\n",
    "\n",
    "bins = np.arange(-1, 1.2, 0.2)\n",
    "count = [-0.9, -0.7, -0.5, -0.3, -0.1, 0.1, 0.3, 0.5, 0.7, 0.9]\n",
    "\n",
    "#print(bincenters)\n",
    "sel = errors_ax1.hist(count, bins, color='deepskyblue', weights=nuWro_xsec_ratio_events, alpha = 0.4, label=\"nuWro\")  # , weights=xsec_ratio_events\n",
    "\n",
    "errors = errors_ax1.bar(bincenters, nuWro_xsec_ratio_errs*2,width=[n*2 for n in bin_size],facecolor='tab:green',alpha=0.2,bottom=(nuWro_lower_err_ratio))\n",
    "\n",
    "\n",
    "\n",
    "#sel_nue = errors_ax1.hist(count, bins, edgecolor='blue', facecolor='None', weights=nuWro_xsec_nue_events, label='nuWro')\n",
    "sel_numu = errors_ax1.hist(count, bins, edgecolor='red', facecolor='None', weights=genie_xsec_ratio_events, label='genie')\n",
    "\n",
    "errors = errors_ax1.bar(bincenters, genie_xsec_ratio_errs*2,width=[n*2 for n in bin_size],facecolor='tab:orange',alpha=0.2,bottom=(genie_lower_err_ratio))\n",
    "\n",
    "\n",
    "errors_ax1.set_ylabel('xsec [cm^2 / GeV / nucleon]', fontsize=15)\n",
    "errors_ax1.set_xlabel('cos(True Lepton Angle)', fontsize=15)\n",
    "errors_ax1.set_title(\"Unfolded Comparison\")\n",
    "leg = errors_ax1.legend()\n",
    "\n",
    "#errors_ax1.set_ylim([0, 5e-40])"
   ]
  },
  {
   "cell_type": "markdown",
   "id": "62ad689a",
   "metadata": {},
   "source": [
    "for i in np.arange(len(genie_xsec_ratio_events)):\n",
    "    if ((genie_xsec_ratio_events[i] < nuWro_xsec_ratio_events[i] + nuWro_xsec_ratio_errs[i]) and (genie_xsec_ratio_events[i] > nuWro_xsec_ratio_events[i] - nuWro_xsec_ratio_errs[i])):\n",
    "        print(\"Inside\")\n",
    "        print(\"\")\n",
    "    else:\n",
    "        print(\"outside\")\n",
    "        print(\"value is (genie) = \", genie_xsec_ratio_events[i])\n",
    "        print(\"top of err = \", nuWro_xsec_ratio_events[i] + nuWro_xsec_ratio_errs[i])\n",
    "        print(\"bot of err = \", nuWro_xsec_ratio_events[i] - nuWro_xsec_ratio_errs[i])\n",
    "        print(\"\")"
   ]
  },
  {
   "cell_type": "markdown",
   "id": "9de93c27",
   "metadata": {},
   "source": [
    "## Try without xsec units "
   ]
  },
  {
   "cell_type": "markdown",
   "id": "360d03ef",
   "metadata": {},
   "source": [
    "print(genie_events)\n",
    "print(genie_errors)\n",
    "print(\"\")\n",
    "print(nuWro_events)\n",
    "print(nuWro_errs)"
   ]
  },
  {
   "cell_type": "markdown",
   "id": "aaf0b337",
   "metadata": {},
   "source": [
    "###############\n",
    "###NUE######\n",
    "#############\n",
    "\n",
    "nue_unf_fig = plt.figure(figsize=(8, 7))\n",
    "nue_unf_gs = gridspec.GridSpec(2, 1, height_ratios=[2, 1])\n",
    "nue_unf_ax1 = plt.subplot(nue_unf_gs[0])\n",
    "\n",
    "\n",
    "#bins = np.arange(-1, 1.2, 0.2)\n",
    "#count = [-0.9, -0.7, -0.5, -0.3, -0.1, 0.1, 0.3, 0.5, 0.7, 0.9]\n",
    "\n",
    "bins = np.arange(0, 21, 1)\n",
    "count = np.arange(0.0, 20.0, 1)\n",
    "bincenters = np.arange(0.5, 20.5, 1)\n",
    "bin_size = [0.5]*20\n",
    "\n",
    "print(np.array(nuWro_events) - np.array(nuWro_errs))\n",
    "\n",
    "#print(bincenters)\n",
    "sel = nue_unf_ax1.hist(count, bins, color='deepskyblue', weights=nuWro_events, alpha = 0.4, label=\"nuWro\")  # , weights=xsec_ratio_events\n",
    "\n",
    "errors = nue_unf_ax1.bar(bincenters, np.array(nuWro_errs)*2,width=[n*2 for n in bin_size],facecolor='tab:green',alpha=0.2,bottom=(np.array(nuWro_events) - np.array(nuWro_errs)))\n",
    "\n",
    "#sel_nue = errors_ax1.hist(count, bins, edgecolor='blue', facecolor='None', weights=nuWro_xsec_nue_events, label='nuWro')\n",
    "sel_numu = nue_unf_ax1.hist(count, bins, edgecolor='red', facecolor='None', weights=genie_events, label='genie')\n",
    "\n",
    "errors = nue_unf_ax1.bar(bincenters, np.array(genie_errors)*2,width=[n*2 for n in bin_size],facecolor='tab:orange',alpha=0.2,bottom=(np.array(genie_events) - np.array(genie_errors)))\n",
    "\n",
    "\n",
    "nue_unf_ax1.set_ylabel('count', fontsize=15)\n",
    "nue_unf_ax1.set_xlabel('bins', fontsize=15)\n",
    "nue_unf_ax1.set_title(\"Unfolded Comparison\")\n",
    "leg = nue_unf_ax1.legend()\n",
    "\n",
    "nue_unf_ax1.set_ylim([150, 1500])"
   ]
  },
  {
   "cell_type": "markdown",
   "id": "bbdfae62",
   "metadata": {},
   "source": [
    "## Actual comparison needed\n",
    "\n",
    "Need to compare the unfolded signal w/err to the nuWro true selected signal x Ac"
   ]
  },
  {
   "cell_type": "code",
   "execution_count": 12,
   "id": "04f5f3b2",
   "metadata": {},
   "outputs": [
    {
     "name": "stdout",
     "output_type": "stream",
     "text": [
      "[21.2503, 34.0802, 42.0417, 51.139, 54.4594, 66.3959, 85.3712, 140.277, 235.191, 692.81, 606.671, 694.058, 895.38, 1038.54, 1160.21, 1583.85, 2099.29, 3155.23, 5341.2, 15543.1]\n",
      "[62.7496, 26.5513, 28.3894, 37.6812, 19.3399, 36.4256, 24.511, 39.319, 38.9664, 193.253, 187.22, 517.545, 498.392, 150.805, 209.241, 617.205, 382.003, 792.647, 1081.97, 4462.97]\n"
     ]
    }
   ],
   "source": [
    "print(nuWro_events)\n",
    "print(nuWro_errs)"
   ]
  },
  {
   "cell_type": "code",
   "execution_count": 13,
   "id": "82ea3ff2",
   "metadata": {},
   "outputs": [
    {
     "data": {
      "image/png": "[encoded data removed]",
      "text/plain": [
       "<Figure size 576x504 with 1 Axes>"
      ]
     },
     "metadata": {
      "needs_background": "light"
     },
     "output_type": "display_data"
    }
   ],
   "source": [
    "###############\n",
    "###BOTH######\n",
    "#############\n",
    "\n",
    "nue_unf_fig = plt.figure(figsize=(8, 7))\n",
    "nue_unf_gs = gridspec.GridSpec(2, 1, height_ratios=[2, 1])\n",
    "nue_unf_ax1 = plt.subplot(nue_unf_gs[0])\n",
    "\n",
    "\n",
    "#bins = np.arange(-1, 1.2, 0.2)\n",
    "#count = [-0.9, -0.7, -0.5, -0.3, -0.1, 0.1, 0.3, 0.5, 0.7, 0.9]\n",
    "\n",
    "bins = np.arange(0, 21, 1)\n",
    "count = np.arange(0.0, 20.0, 1)\n",
    "bincenters = np.arange(0.5, 20.5, 1)\n",
    "bin_size = [0.5]*20\n",
    "\n",
    "#print(np.array(nuWro_events) - np.array(nuWro_errs))\n",
    "\n",
    "#print(bincenters)\n",
    "sel = nue_unf_ax1.hist(count, bins, color='deepskyblue', weights=nuWro_events, alpha = 0.4, label=\"Unfolded noTune\")  # , weights=xsec_ratio_events\n",
    "\n",
    "errors = nue_unf_ax1.bar(bincenters, np.array(nuWro_errs)*2,width=[n*2 for n in bin_size],facecolor='tab:green',alpha=0.2,bottom=(np.array(nuWro_events) - np.array(nuWro_errs)))\n",
    "\n",
    "\n",
    "nue_unf_ax1.set_ylabel('count', fontsize=15)\n",
    "nue_unf_ax1.set_xlabel('bins', fontsize=15)\n",
    "nue_unf_ax1.set_title(\"Unfolded Comparison\")\n",
    "leg = nue_unf_ax1.legend()\n",
    "\n",
    "#nue_unf_ax1.set_ylim([0, 1500])"
   ]
  },
  {
   "cell_type": "code",
   "execution_count": 14,
   "id": "9050417d",
   "metadata": {},
   "outputs": [
    {
     "name": "stdout",
     "output_type": "stream",
     "text": [
      "[ 32.91529703  37.04892567  44.45810559  51.06905151  63.01414496\n",
      "  79.37087028 107.30212544 159.37926292 272.61179072 724.62339593]\n",
      "\n",
      "[  714.248705     864.75610393  1011.56096758  1209.78105253\n",
      "  1441.40505583  1808.01813696  2319.71625426  3309.45952684\n",
      "  5405.29610724 15232.55775281]\n"
     ]
    }
   ],
   "source": [
    "ending = \"Jan19_MECTune\"\n",
    "\n",
    "nue_nuWro_true = pd.read_csv(\"nue_full_500_catsel_nopions_angleDiff_usingSelection_prior_true_signal_MECTune_recoCut_comb_\"+ending+\".csv\", header=None)\n",
    "\n",
    "nue_nuWro_true = nue_nuWro_true.values[:, 0]\n",
    "print(nue_nuWro_true)\n",
    "print(\"\")\n",
    "#########################################\n",
    "\n",
    "numu_nuWro_true = pd.read_csv(\"numu_full_500_catsel_nopions_angleDiff_usingSelection_prior_true_signal_MECTune_recoCut_comb_\"+ending+\".csv\", header=None)\n",
    "\n",
    "numu_nuWro_true = numu_nuWro_true.values[:, 0]\n",
    "print(numu_nuWro_true)"
   ]
  },
  {
   "cell_type": "code",
   "execution_count": 15,
   "id": "fbe1b368",
   "metadata": {},
   "outputs": [
    {
     "data": {
      "text/plain": [
       "'\\n#nue_nuWro_true_err = pd.read_csv(\"nue_prior_true_err_squared_angle_comb_\"+ending+\".csv\", header=None)\\nnue_nuWro_true_err = pd.read_csv(\"nue_prior_true_err_genie_stat_only_angle_comb_\"+ending+\".csv\", header=None)\\n\\nnue_nuWro_true_err = nue_nuWro_true_err.values[:, 0]\\nprint(nue_nuWro_true_err)\\nprint(\"\")\\n###############################\\n\\n#numu_nuWro_true_err = pd.read_csv(\"numu_prior_true_err_squared_angle_comb_\"+ending+\".csv\", header=None)\\nnumu_nuWro_true_err = pd.read_csv(\"numu_prior_true_err_genie_stat_only_angle_comb_\"+ending+\".csv\", header=None)\\n\\n\\nnumu_nuWro_true_err = numu_nuWro_true_err.values[:, 0]\\nprint(numu_nuWro_true_err)\\n'"
      ]
     },
     "execution_count": 15,
     "metadata": {},
     "output_type": "execute_result"
    }
   ],
   "source": [
    "#Get the true errs\n",
    "\"\"\"\n",
    "#nue_nuWro_true_err = pd.read_csv(\"nue_prior_true_err_squared_angle_comb_\"+ending+\".csv\", header=None)\n",
    "nue_nuWro_true_err = pd.read_csv(\"nue_prior_true_err_genie_stat_only_angle_comb_\"+ending+\".csv\", header=None)\n",
    "\n",
    "nue_nuWro_true_err = nue_nuWro_true_err.values[:, 0]\n",
    "print(nue_nuWro_true_err)\n",
    "print(\"\")\n",
    "###############################\n",
    "\n",
    "#numu_nuWro_true_err = pd.read_csv(\"numu_prior_true_err_squared_angle_comb_\"+ending+\".csv\", header=None)\n",
    "numu_nuWro_true_err = pd.read_csv(\"numu_prior_true_err_genie_stat_only_angle_comb_\"+ending+\".csv\", header=None)\n",
    "\n",
    "\n",
    "numu_nuWro_true_err = numu_nuWro_true_err.values[:, 0]\n",
    "print(numu_nuWro_true_err)\n",
    "\"\"\""
   ]
  },
  {
   "cell_type": "code",
   "execution_count": 16,
   "id": "6064df76",
   "metadata": {},
   "outputs": [
    {
     "name": "stdout",
     "output_type": "stream",
     "text": [
      "[   32.91529703    37.04892567    44.45810559    51.06905151\n",
      "    63.01414496    79.37087028   107.30212544   159.37926292\n",
      "   272.61179072   724.62339593   714.248705     864.75610393\n",
      "  1011.56096758  1209.78105253  1441.40505583  1808.01813696\n",
      "  2319.71625426  3309.45952684  5405.29610724 15232.55775281]\n",
      "\n"
     ]
    }
   ],
   "source": [
    "nue_numu_tot_nuWro_true = np.concatenate((nue_nuWro_true, numu_nuWro_true), axis=0)\n",
    "\n",
    "print(nue_numu_tot_nuWro_true)\n",
    "\n",
    "##################################\n",
    "print(\"\")\n",
    "\n",
    "#nue_numu_tot_nuWro_true_err = np.concatenate((nue_nuWro_true_err, numu_nuWro_true_err), axis=0)\n",
    "\n",
    "#print(nue_numu_tot_nuWro_true_err)"
   ]
  },
  {
   "cell_type": "code",
   "execution_count": 17,
   "id": "f250fb8f",
   "metadata": {},
   "outputs": [
    {
     "name": "stdout",
     "output_type": "stream",
     "text": [
      "Prior_Truth x AC: \n",
      "[   19.45158565    34.48815806    44.36998513    48.04591686\n",
      "    54.85744295    70.49794401    81.21011087   140.06987619\n",
      "   225.96545265   628.26620791   626.91593487   752.60987205\n",
      "   916.44399536  1028.45175689  1236.75715495  1455.45031204\n",
      "  1995.43052267  2932.95984389  4763.67583631 12962.1295248 ]\n",
      "\n",
      "\n",
      "Unfolding Done with MC Data Signal: \n",
      "[21.2503, 34.0802, 42.0417, 51.139, 54.4594, 66.3959, 85.3712, 140.277, 235.191, 692.81, 606.671, 694.058, 895.38, 1038.54, 1160.21, 1583.85, 2099.29, 3155.23, 5341.2, 15543.1]\n",
      "\n",
      "\n",
      "Difference\n",
      "[-1.79871435e+00  4.07958061e-01  2.32828513e+00 -3.09308314e+00\n",
      "  3.98042954e-01  4.10204401e+00 -4.16108913e+00 -2.07123814e-01\n",
      " -9.22554735e+00 -6.45437921e+01  2.02449349e+01  5.85518720e+01\n",
      "  2.10639954e+01 -1.00882431e+01  7.65471549e+01 -1.28399688e+02\n",
      " -1.03859477e+02 -2.22270156e+02 -5.77524164e+02 -2.58097048e+03]\n",
      "\n",
      "[ -9.24713481   1.18289316   5.24743276  -6.43776483   0.72559517\n",
      "   5.81867184  -5.12385599  -0.14787178  -4.0827247  -10.27331906\n",
      "   3.2292902    7.77984374   2.29844873  -0.98091554   6.18934401\n",
      "  -8.82199048  -5.20486562  -7.57835661 -12.1234984  -19.91162386]\n"
     ]
    }
   ],
   "source": [
    "#Now smear it by Ac\n",
    "\n",
    "smeared_nuWro = np.dot(nue_numu_tot_nuWro_true, nuWro_Ac)\n",
    "#smeared_nuWro = np.dot(prior_true_nuWro, nuWro_Ac)\n",
    "print(\"Prior_Truth x AC: \")\n",
    "print(smeared_nuWro)\n",
    "print(\"\")\n",
    "print(\"\")\n",
    "print(\"Unfolding Done with MC Data Signal: \")\n",
    "print(nuWro_events)\n",
    "print(\"\")\n",
    "\n",
    "diff = smeared_nuWro - events\n",
    "print(\"\")\n",
    "print(\"Difference\")\n",
    "print(diff)\n",
    "\n",
    "#for i in made_data_sig:\n",
    "#    print(i)\n",
    "\n",
    "print(\"\")\n",
    "diffasfrac = np.nan_to_num(diff/smeared_nuWro)\n",
    "print(diffasfrac*100)"
   ]
  },
  {
   "cell_type": "code",
   "execution_count": 18,
   "id": "d5d14582",
   "metadata": {},
   "outputs": [],
   "source": [
    "#smeared_nuWro_err = np.dot(nue_numu_tot_nuWro_true_err, nuWro_Ac)\n",
    "#smeared_nuWro = np.dot(prior_true_nuWro, nuWro_Ac)\n",
    "#print(\"Err x AC: \")\n",
    "#print(smeared_nuWro_err)\n",
    "#print(\"\")\n",
    "#print(\"\")\n"
   ]
  },
  {
   "cell_type": "code",
   "execution_count": 19,
   "id": "18129eff",
   "metadata": {},
   "outputs": [
    {
     "name": "stdout",
     "output_type": "stream",
     "text": [
      "unfolded =  [   21.2503    34.0802    42.0417    51.139     54.4594    66.3959\n",
      "    85.3712   140.277    235.191    692.81     606.671    694.058\n",
      "   895.38    1038.54    1160.21    1583.85    2099.29    3155.23\n",
      "  5341.2    15543.1   ]\n",
      "smeared =  [   19.45158565    34.48815806    44.36998513    48.04591686\n",
      "    54.85744295    70.49794401    81.21011087   140.06987619\n",
      "   225.96545265   628.26620791   626.91593487   752.60987205\n",
      "   916.44399536  1028.45175689  1236.75715495  1455.45031204\n",
      "  1995.43052267  2932.95984389  4763.67583631 12962.1295248 ]\n"
     ]
    },
    {
     "data": {
      "image/png": "[encoded data removed]",
      "text/plain": [
       "<Figure size 576x504 with 1 Axes>"
      ]
     },
     "metadata": {
      "needs_background": "light"
     },
     "output_type": "display_data"
    }
   ],
   "source": [
    "###############\n",
    "###NUE######\n",
    "#############\n",
    "\n",
    "nue_unf_fig = plt.figure(figsize=(8, 7))\n",
    "nue_unf_gs = gridspec.GridSpec(2, 1, height_ratios=[2, 1])\n",
    "nue_unf_ax1 = plt.subplot(nue_unf_gs[0])\n",
    "\n",
    "\n",
    "#bins = np.arange(-1, 1.2, 0.2)\n",
    "#count = [-0.9, -0.7, -0.5, -0.3, -0.1, 0.1, 0.3, 0.5, 0.7, 0.9]\n",
    "\n",
    "bins = np.arange(0, 21, 1)\n",
    "count = np.arange(0.0, 20.0, 1)\n",
    "bincenters = np.arange(0.5, 20.5, 1)\n",
    "bin_size = [0.5]*20\n",
    "\n",
    "#print(np.array(nuWro_events) - np.array(nuWro_errs))\n",
    "\n",
    "#print(bincenters)\n",
    "f_obs = nue_unf_ax1.hist(count, bins, color='deepskyblue', weights=nuWro_events, alpha = 0.4, label=\"unfolded MECTune\")  # , weights=xsec_ratio_events\n",
    "\n",
    "errors = nue_unf_ax1.bar(bincenters, np.array(nuWro_errs)*2,width=[n*2 for n in bin_size],facecolor='tab:green',alpha=0.2,bottom=(np.array(nuWro_events) - np.array(nuWro_errs)))\n",
    "\n",
    "f_exp = nue_unf_ax1.hist(count, bins, edgecolor='red', facecolor='None', weights=smeared_nuWro, label='MECTune Prior True x Ac')\n",
    "#errors = nue_unf_ax1.bar(bincenters, np.array((nue_numu_tot_nuWro_true_err))*2,width=[n*2 for n in bin_size],facecolor='tab:orange',alpha=0.2,bottom=(np.array(smeared_nuWro) - np.array((nue_numu_tot_nuWro_true_err))))\n",
    "#errors = nue_unf_ax1.bar(bincenters, np.array((smeared_nuWro_err))*2,width=[n*2 for n in bin_size],facecolor='tab:orange',alpha=0.2,bottom=(np.array(smeared_nuWro) - np.array((smeared_nuWro_err))))\n",
    "\n",
    "\n",
    "print(\"unfolded = \", f_obs[0])\n",
    "print(\"smeared = \", f_exp[0])\n",
    "\n",
    "nue_unf_ax1.set_ylabel('count', fontsize=15)\n",
    "nue_unf_ax1.set_xlabel('bins', fontsize=15)\n",
    "nue_unf_ax1.set_title(\"Unfolded Comparison\")\n",
    "leg = nue_unf_ax1.legend()\n",
    "\n",
    "#nue_unf_ax1.set_ylim([0, 700])\n",
    "\n",
    "nue_unf_fig.savefig(\"unfolded_MC_MECTune_output_angleDiff_comb_\"+ending+\".svg\", bbox_inches='tight')"
   ]
  },
  {
   "cell_type": "code",
   "execution_count": 20,
   "id": "0d2689e6",
   "metadata": {},
   "outputs": [
    {
     "name": "stdout",
     "output_type": "stream",
     "text": [
      "Jan19_MECTune\n"
     ]
    }
   ],
   "source": [
    "np.savetxt(\"data_signal_MC_MECTune_chi2_angleDiff_comb_\"+ending+\".csv\", \n",
    "               nuWro_events,\n",
    "               delimiter =\", \", \n",
    "               fmt ='% s')\n",
    "\n",
    "np.savetxt(\"prior_true_MC_MECTune_chi2_angleDiff_comb_\"+ending+\".csv\", \n",
    "               smeared_nuWro,\n",
    "               delimiter =\", \", \n",
    "               fmt ='% s')\n",
    "\n",
    "print(ending)"
   ]
  },
  {
   "cell_type": "code",
   "execution_count": 24,
   "id": "e8622ad9",
   "metadata": {},
   "outputs": [
    {
     "data": {
      "text/plain": [
       "'\\nstart1 = np.array(smeared_nuWro) - np.array((nue_numu_tot_nuWro_true_err))\\nend1 = np.array(smeared_nuWro) + np.array((nue_numu_tot_nuWro_true_err))\\n\\nstart2 = np.array(nuWro_events) - np.array((nuWro_errs))\\nend2 = np.array(nuWro_events) + np.array((nuWro_errs))\\n#print(top)\\n#print(minus)\\n\\ndef overlap(start1, end1, start2, end2):\\n    #Does the range (start1, end1) overlap with (start2, end2)?\\n    return end1 >= start2 and end2 >= start1\\n\\n\\nfor i in np.arange(len(smeared_nuWro)):\\n    print(overlap(start1[i], end1[i], start2[i], end2[i]))\\n    '"
      ]
     },
     "execution_count": 24,
     "metadata": {},
     "output_type": "execute_result"
    }
   ],
   "source": [
    "\"\"\"\n",
    "start1 = np.array(smeared_nuWro) - np.array((nue_numu_tot_nuWro_true_err))\n",
    "end1 = np.array(smeared_nuWro) + np.array((nue_numu_tot_nuWro_true_err))\n",
    "\n",
    "start2 = np.array(nuWro_events) - np.array((nuWro_errs))\n",
    "end2 = np.array(nuWro_events) + np.array((nuWro_errs))\n",
    "#print(top)\n",
    "#print(minus)\n",
    "\n",
    "def overlap(start1, end1, start2, end2):\n",
    "    #Does the range (start1, end1) overlap with (start2, end2)?\n",
    "    return end1 >= start2 and end2 >= start1\n",
    "\n",
    "\n",
    "for i in np.arange(len(smeared_nuWro)):\n",
    "    print(overlap(start1[i], end1[i], start2[i], end2[i]))\n",
    "    \"\"\""
   ]
  },
  {
   "cell_type": "code",
   "execution_count": 21,
   "id": "9077e8e8",
   "metadata": {},
   "outputs": [
    {
     "name": "stdout",
     "output_type": "stream",
     "text": [
      "bin =  0\n",
      "Inside\n",
      "\n",
      "bin =  1\n",
      "Inside\n",
      "\n",
      "bin =  2\n",
      "Inside\n",
      "\n",
      "bin =  3\n",
      "Inside\n",
      "\n",
      "bin =  4\n",
      "Inside\n",
      "\n",
      "bin =  5\n",
      "Inside\n",
      "\n",
      "bin =  6\n",
      "Inside\n",
      "\n",
      "bin =  7\n",
      "Inside\n",
      "\n",
      "bin =  8\n",
      "Inside\n",
      "\n",
      "bin =  9\n",
      "Inside\n",
      "\n",
      "bin =  10\n",
      "Inside\n",
      "\n",
      "bin =  11\n",
      "Inside\n",
      "\n",
      "bin =  12\n",
      "Inside\n",
      "\n",
      "bin =  13\n",
      "Inside\n",
      "\n",
      "bin =  14\n",
      "Inside\n",
      "\n",
      "bin =  15\n",
      "Inside\n",
      "\n",
      "bin =  16\n",
      "Inside\n",
      "\n",
      "bin =  17\n",
      "Inside\n",
      "\n",
      "bin =  18\n",
      "Inside\n",
      "\n",
      "bin =  19\n",
      "Inside\n",
      "\n"
     ]
    }
   ],
   "source": [
    "for i in np.arange(len(smeared_nuWro)):\n",
    "    print(\"bin = \", i)\n",
    "    if( ((smeared_nuWro[i] < nuWro_events[i] + nuWro_errs[i]) and (smeared_nuWro[i] > nuWro_events[i] - nuWro_errs[i]))): #or ((nuWro_events[i] < smeared_nuWro[i] + nue_numu_tot_nuWro_true_err[i]) and (nuWro_events[i] > smeared_nuWro[i] - nue_numu_tot_nuWro_true_err[i])) ):\n",
    "        print(\"Inside\")\n",
    "        print(\"\")\n",
    "    else:\n",
    "        print(\"outside\")\n",
    "        print(\"value is (genie) = \", smeared_nuWro[i])\n",
    "        print(\"top of err = \", nuWro_events[i] + nuWro_errs[i])\n",
    "        print(\"bot of err = \", nuWro_events[i] - nuWro_errs[i])\n",
    "        print(\"\")"
   ]
  },
  {
   "cell_type": "code",
   "execution_count": null,
   "id": "1b02d84c",
   "metadata": {},
   "outputs": [],
   "source": []
  },
  {
   "cell_type": "code",
   "execution_count": 22,
   "id": "38ea3043",
   "metadata": {},
   "outputs": [],
   "source": [
    "f_obs = f_obs[0]\n",
    "f_exp = f_exp[0]"
   ]
  },
  {
   "cell_type": "code",
   "execution_count": 23,
   "id": "dadb53e5",
   "metadata": {},
   "outputs": [
    {
     "name": "stdout",
     "output_type": "stream",
     "text": [
      "635.9917125273593\n"
     ]
    }
   ],
   "source": [
    "hold = []\n",
    "\n",
    "#for i in range(len(f_obs)):\n",
    "for i in range(20):\n",
    "    braket = (f_obs[i] - f_exp[i])\n",
    "    num = (braket*braket)/f_exp[i]\n",
    "    hold.append(num)\n",
    "    \n",
    "print(sum(hold))\n",
    "chi_squared_stat = sum(hold)"
   ]
  },
  {
   "cell_type": "code",
   "execution_count": 24,
   "id": "ef664a42",
   "metadata": {},
   "outputs": [
    {
     "data": {
      "text/plain": [
       "406.30480132665537"
      ]
     },
     "execution_count": 24,
     "metadata": {},
     "output_type": "execute_result"
    }
   ],
   "source": [
    "####Crital value - what the chi sqaured value must be below for a P value fo this significance\n",
    "import scipy.stats as sp\n",
    "\n",
    "#deg_of_free = (len(f_obs)-1)*(len(f_obs)-1)\n",
    "deg_of_free = 19*19\n",
    "\n",
    "sp.chi2.ppf(q = 0.95, df = deg_of_free)"
   ]
  },
  {
   "cell_type": "code",
   "execution_count": 25,
   "id": "963fd2c6",
   "metadata": {},
   "outputs": [
    {
     "name": "stdout",
     "output_type": "stream",
     "text": [
      "P value: 0.0\n"
     ]
    }
   ],
   "source": [
    "p_value = 1 - sp.chi2.cdf(x=chi_squared_stat,  # Find the p-value\n",
    "                             df=deg_of_free)\n",
    "print(\"P value:\",p_value)"
   ]
  },
  {
   "cell_type": "code",
   "execution_count": 26,
   "id": "40faf454",
   "metadata": {},
   "outputs": [],
   "source": [
    "####It's a really good value up until 19, but adding bin 20 kicks it out"
   ]
  },
  {
   "cell_type": "code",
   "execution_count": null,
   "id": "05314717",
   "metadata": {},
   "outputs": [],
   "source": []
  },
  {
   "cell_type": "markdown",
   "id": "f0978fef",
   "metadata": {},
   "source": [
    "## Values from Steven's Code which takes uncertainty into account\n",
    "\n",
    "chi2 =  1.39988\n",
    "\n",
    "num_bins =  20\n",
    "\n",
    "dof =  19\n",
    "\n",
    "p_value =  1"
   ]
  },
  {
   "cell_type": "code",
   "execution_count": 25,
   "id": "3280deea",
   "metadata": {},
   "outputs": [
    {
     "data": {
      "text/plain": [
       "18.337652896756474"
      ]
     },
     "execution_count": 25,
     "metadata": {},
     "output_type": "execute_result"
    }
   ],
   "source": [
    "sp.chi2.ppf(q = 0.5, df = 19)"
   ]
  },
  {
   "cell_type": "code",
   "execution_count": 27,
   "id": "7f6d68f4",
   "metadata": {},
   "outputs": [],
   "source": [
    "#############################"
   ]
  },
  {
   "cell_type": "code",
   "execution_count": 28,
   "id": "df798fca",
   "metadata": {},
   "outputs": [],
   "source": [
    "inverse_unfcov = np.linalg.inv(chunks_cov)"
   ]
  },
  {
   "cell_type": "code",
   "execution_count": 29,
   "id": "30ab8f88",
   "metadata": {},
   "outputs": [
    {
     "data": {
      "image/png": "[encoded data removed]",
      "text/plain": [
       "<Figure size 720x432 with 2 Axes>"
      ]
     },
     "metadata": {
      "needs_background": "light"
     },
     "output_type": "display_data"
    }
   ],
   "source": [
    "fig = plt.figure(figsize=(10, 6))  \n",
    "\n",
    "#print(bins)\n",
    "bins = np.arange(0, 21, 1)\n",
    "count = np.arange(0.0, 20.0, 1)\n",
    "    \n",
    "plt.pcolor(bins, bins, inverse_unfcov , cmap='OrRd', edgecolors='k')#, vmin=-1, vmax=1)\n",
    "            \n",
    "cbar = plt.colorbar()\n",
    "cbar.ax.tick_params(labelsize=14)\n",
    "#cbar.set_label(r\"Log (Power)\", size=15)\n",
    "\n",
    "plt.xlabel('Bin Number', fontsize=15)\n",
    "plt.ylabel('Bin Number', fontsize=15)\n",
    "\n",
    "plt.title(' Inv Covariance Matrix', fontsize=15)\n",
    "\n",
    "plt.show()"
   ]
  },
  {
   "cell_type": "code",
   "execution_count": 30,
   "id": "889fb9ca",
   "metadata": {},
   "outputs": [
    {
     "name": "stdout",
     "output_type": "stream",
     "text": [
      "20\n",
      "20\n"
     ]
    }
   ],
   "source": [
    "chi2_genie = 0\n",
    "\n",
    "print(len(bins)-1)\n",
    "print(len(f_obs))\n",
    "\n",
    "for i in range(len(bins)-1): \n",
    "    \n",
    "    for j in range(len(f_obs)): \n",
    "\n",
    "            \n",
    "            chi2_genie = chi2_genie  + ( (f_obs[i]-f_exp[i])*inverse_unfcov[i][j]*(f_obs[j]-f_exp[j]) )\n",
    "  "
   ]
  },
  {
   "cell_type": "code",
   "execution_count": 31,
   "id": "1fb5bb89",
   "metadata": {},
   "outputs": [
    {
     "data": {
      "text/plain": [
       "1.3891616759788121"
      ]
     },
     "execution_count": 31,
     "metadata": {},
     "output_type": "execute_result"
    }
   ],
   "source": [
    "chi2_genie"
   ]
  },
  {
   "cell_type": "code",
   "execution_count": 32,
   "id": "447bd821",
   "metadata": {},
   "outputs": [
    {
     "name": "stdout",
     "output_type": "stream",
     "text": [
      "P value: 0.9999999852118001\n"
     ]
    }
   ],
   "source": [
    "p_value = 1 - sp.chi2.cdf(x=chi2_genie,  # Find the p-value\n",
    "                             df=19)\n",
    "print(\"P value:\",p_value)"
   ]
  },
  {
   "cell_type": "code",
   "execution_count": null,
   "id": "0bb68e14",
   "metadata": {},
   "outputs": [],
   "source": []
  }
 ],
 "metadata": {
  "kernelspec": {
   "display_name": "Python 3 (ipykernel)",
   "language": "python",
   "name": "python3"
  },
  "language_info": {
   "codemirror_mode": {
    "name": "ipython",
    "version": 3
   },
   "file_extension": ".py",
   "mimetype": "text/x-python",
   "name": "python",
   "nbconvert_exporter": "python",
   "pygments_lexer": "ipython3",
   "version": "3.8.12"
  }
 },
 "nbformat": 4,
 "nbformat_minor": 5
}
