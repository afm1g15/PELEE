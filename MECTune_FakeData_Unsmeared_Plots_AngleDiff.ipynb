{
 "cells": [
  {
   "cell_type": "code",
   "execution_count": 1,
   "id": "4f4783db",
   "metadata": {},
   "outputs": [
    {
     "name": "stdout",
     "output_type": "stream",
     "text": [
      "/home/alex/NuMI/PELEE/\n"
     ]
    }
   ],
   "source": [
    "import pandas as pd\n",
    "import matplotlib.pyplot as plt\n",
    "import matplotlib\n",
    "import sys\n",
    "import localSettings as ls\n",
    "import math\n",
    "print(ls.main_path)\n",
    "import load_data_run123\n",
    "import plotter_alex\n",
    "import importlib\n",
    "importlib.reload(plotter_alex)\n",
    "import uproot\n",
    "import matplotlib.pylab as pylab\n",
    "import numpy as np\n",
    "import math\n",
    "from sklearn.model_selection import train_test_split\n",
    "import pickle\n",
    "import xgboost as xgb\n",
    "import nue_booster \n",
    "importlib.reload(nue_booster)\n",
    "import awkward\n",
    "from matplotlib import gridspec\n",
    "from collections import defaultdict"
   ]
  },
  {
   "cell_type": "code",
   "execution_count": 2,
   "id": "1043840e",
   "metadata": {},
   "outputs": [],
   "source": [
    "ending = \"Dec19\""
   ]
  },
  {
   "cell_type": "code",
   "execution_count": null,
   "id": "086ae909",
   "metadata": {},
   "outputs": [],
   "source": []
  },
  {
   "cell_type": "code",
   "execution_count": 3,
   "id": "04133fd0",
   "metadata": {},
   "outputs": [
    {
     "name": "stdout",
     "output_type": "stream",
     "text": [
      "Unsmeared events\n",
      "[35.8255, 25.4887, 52.1002, 37.2284, 53.4977, 70.8953, 85.1695, 134.76, 260.831, 731.886, 656.883, 659.571, 835.604, 1062.0, 1166.63, 1717.67, 2170.18, 3335.24, 5564.83, 15773.6]\n",
      "\n",
      "AC\n",
      "[[0.851958, -0.0884483, 0.0184202, 0.00248613, 0.0411065, -0.00229968, -0.0158579, 0.0239197, 0.0319551, -0.00724803, 0.0, 0.0, 0.0, 0.0, 0.0, 0.0, 0.0, 0.0, 0.0, 0.0], [-0.0884483, 0.319778, -0.0838929, -0.030867, 0.115377, 0.0351527, -0.162491, 0.0692762, 0.138017, -0.0260247, 0.0, 0.0, 0.0, 0.0, 0.0, 0.0, 0.0, 0.0, 0.0, 0.0], [0.0184202, -0.0838929, 0.749909, 0.126202, 0.00880354, 0.0647423, -0.0109081, 0.0683459, 0.0846135, -0.0289101, 0.0, 0.0, 0.0, 0.0, 0.0, 0.0, 0.0, 0.0, 0.0, 0.0], [0.00248613, -0.030867, 0.126202, 0.49327, -0.0884586, -0.0139953, -0.0206555, -0.00638489, -0.0296814, 0.029925, 0.0, 0.0, 0.0, 0.0, 0.0, 0.0, 0.0, 0.0, 0.0, 0.0], [0.0411065, 0.115377, 0.00880354, -0.0884586, 0.179791, 0.00857051, 0.0166664, 0.141173, 0.0984014, -0.0150732, 0.0, 0.0, 0.0, 0.0, 0.0, 0.0, 0.0, 0.0, 0.0, 0.0], [-0.00229968, 0.0351527, 0.0647423, -0.0139953, 0.00857051, 0.282276, 0.098887, 0.180018, 0.180868, -0.0554379, 0.0, 0.0, 0.0, 0.0, 0.0, 0.0, 0.0, 0.0, 0.0, 0.0], [-0.0158579, -0.162491, -0.0109081, -0.0206555, 0.0166664, 0.098887, 0.37364, 0.158768, 0.0797001, -0.00349771, 0.0, 0.0, 0.0, 0.0, 0.0, 0.0, 0.0, 0.0, 0.0, 0.0], [0.0239197, 0.0692762, 0.0683459, -0.00638489, 0.141173, 0.180018, 0.158768, 0.301891, 0.126245, 0.0072381, 0.0, 0.0, 0.0, 0.0, 0.0, 0.0, 0.0, 0.0, 0.0, 0.0], [0.0319551, 0.138017, 0.0846135, -0.0296814, 0.0984014, 0.180868, 0.0797001, 0.126245, 0.519496, 0.0697504, 0.0, 0.0, 0.0, 0.0, 0.0, 0.0, 0.0, 0.0, 0.0, 0.0], [-0.00724803, -0.0260247, -0.0289101, 0.029925, -0.0150732, -0.0554379, -0.00349771, 0.0072381, 0.0697504, 0.89679, 0.0, 0.0, 0.0, 0.0, 0.0, 0.0, 0.0, 0.0, 0.0, 0.0], [0.0, 0.0, 0.0, 0.0, 0.0, 0.0, 0.0, 0.0, 0.0, 0.0, 0.457682, 0.22195, -0.0869916, -0.160755, 0.001694, 0.0747988, 0.0501778, 0.0712514, 0.0381458, -0.0169998], [0.0, 0.0, 0.0, 0.0, 0.0, 0.0, 0.0, 0.0, 0.0, 0.0, 0.22195, 0.330394, 0.221131, -0.135324, -0.0354506, 0.057465, 0.049663, 0.0813522, 0.0216471, -0.0222677], [0.0, 0.0, 0.0, 0.0, 0.0, 0.0, 0.0, 0.0, 0.0, 0.0, -0.0869916, 0.221131, 0.342999, 0.00237828, 0.012915, 0.0523728, 0.0341268, 0.0582987, 0.0309603, -0.0113991], [0.0, 0.0, 0.0, 0.0, 0.0, 0.0, 0.0, 0.0, 0.0, 0.0, -0.160755, -0.135324, 0.00237828, 0.286722, 0.260339, 0.140439, 0.0679933, 0.0623738, 0.0357401, -0.0166861], [0.0, 0.0, 0.0, 0.0, 0.0, 0.0, 0.0, 0.0, 0.0, 0.0, 0.001694, -0.0354506, 0.012915, 0.260339, 0.449766, 0.0201152, 0.0510015, 0.10373, 0.0269904, -0.0243032], [0.0, 0.0, 0.0, 0.0, 0.0, 0.0, 0.0, 0.0, 0.0, 0.0, 0.0747988, 0.057465, 0.0523728, 0.140439, 0.0201152, 0.602472, 0.00648464, -0.0137403, 0.0146925, 0.00820022], [0.0, 0.0, 0.0, 0.0, 0.0, 0.0, 0.0, 0.0, 0.0, 0.0, 0.0501778, 0.049663, 0.0341268, 0.0679933, 0.0510015, 0.00648464, 0.455651, 0.123778, 0.0720916, -0.00499996], [0.0, 0.0, 0.0, 0.0, 0.0, 0.0, 0.0, 0.0, 0.0, 0.0, 0.0712514, 0.0813522, 0.0582987, 0.0623738, 0.10373, -0.0137403, 0.123778, 0.696354, -0.0072788, 0.0112194], [0.0, 0.0, 0.0, 0.0, 0.0, 0.0, 0.0, 0.0, 0.0, 0.0, 0.0381458, 0.0216471, 0.0309603, 0.0357401, 0.0269904, 0.0146925, 0.0720916, -0.0072788, 0.885572, -0.00854976], [0.0, 0.0, 0.0, 0.0, 0.0, 0.0, 0.0, 0.0, 0.0, 0.0, -0.0169998, -0.0222677, -0.0113991, -0.0166861, -0.0243032, 0.00820022, -0.00499996, 0.0112194, -0.00854976, 0.869677]]\n",
      "\n",
      "Prior Truth: \n",
      "[28.692635744908415, 32.06942196292763, 38.57408006985097, 44.399967456294895, 54.94548392337927, 69.71706965774386, 93.24473923035869, 136.821556465955, 229.69337281869664, 568.9664620716541, 644.5236767646209, 760.6300858343211, 893.3996811913257, 1050.7940968197122, 1251.303660351742, 1555.7243990977233, 1983.5003694926472, 2825.5734928725005, 4551.200438107946, 12087.37542901723]\n",
      "\n",
      "Errors: \n",
      "[31.0238, 11.3728, 28.637, 21.9208, 9.94891, 14.704, 13.4801, 19.6304, 41.3182, 169.807, 151.894, 164.23, 131.756, 145.965, 190.361, 285.973, 345.867, 551.552, 1082.7, 4310.17]\n",
      "\n",
      "################################################################\n",
      "\n",
      "cov\n",
      "[[962.476, -125.455, 162.702, 63.8771, 80.0771, 65.6631, 84.6505, 150.583, 271.521, 675.875, 382.745, 379.587, 218.271, 117.533, 305.032, 195.966, 326.371, 444.505, 527.734, -1465.41], [-125.455, 129.34, -108.418, -42.3931, 57.6175, 64.3723, -0.0411151, 66.38, 102.214, -81.4393, 100.698, 79.7819, 70.1134, 74.9335, 81.9434, 173.133, 196.629, 310.972, 631.881, 1458.37], [162.702, -108.418, 820.078, 131.018, 53.337, 180.327, 103.691, 190.955, 240.906, -6.97723, 266.621, 218.14, 204.486, 190.177, 238.035, 424.697, 600.719, 911.449, 1734.15, 5146.16], [63.8771, -42.3931, 131.018, 480.524, -61.3907, 15.2743, 59.9273, 103.297, 295.644, 1438.47, 749.402, 836.865, 551.759, 395.715, 848.05, 418.617, 745.621, 922.512, 719.454, -4886.06], [80.0771, 57.6175, 53.337, -61.3907, 98.9808, 89.5796, 80.1902, 154.256, 254.656, 461.34, 93.6054, 48.2487, 66.1559, 78.2319, 53.835, 237.245, 297.056, 484.194, 1027.61, 3721.71], [65.6631, 64.3723, 180.327, 15.2743, 89.5796, 216.208, 122.973, 211.018, 269.96, -115.765, 267.552, 213.193, 194.037, 188.052, 224.031, 439.745, 575.686, 886.233, 1700.38, 4854.4], [84.6505, -0.0411151, 103.691, 59.9273, 80.1902, 122.973, 181.714, 229.046, 426.774, 1208.71, 213.034, 177.508, 174.169, 170.933, 209.904, 364.433, 520.483, 783.175, 1400.85, 4431.76], [150.583, 66.38, 190.955, 103.297, 154.256, 211.018, 229.046, 385.354, 713.24, 1957.46, 445.178, 371.37, 348.25, 338.951, 415.857, 731.103, 1005.32, 1523.52, 2812.7, 8101.93], [271.521, 102.214, 240.906, 295.644, 254.656, 269.96, 426.774, 713.24, 1707.19, 5950.28, 753.334, 719.222, 556.602, 469.426, 739.859, 844.338, 1248.23, 1787.0, 2838.21, 5006.48], [675.875, -81.4393, -6.97723, 1438.47, 461.34, -115.765, 1208.71, 1957.46, 5950.28, 28834.5, 1731.82, 1723.89, 1513.94, 1380.78, 2008.87, 2271.53, 3588.46, 5051.04, 7885.76, 17718.9], [382.745, 100.698, 266.621, 749.402, 93.6054, 267.552, 213.034, 445.178, 753.334, 1731.82, 23071.9, 23025.6, 15386.4, 12392.9, 22601.0, 19438.9, 27649.8, 38942.7, 48849.0, -28549.7], [379.587, 79.7819, 218.14, 836.865, 48.2487, 213.193, 177.508, 371.37, 719.222, 1723.89, 23025.6, 26971.5, 18114.1, 11647.0, 24635.3, 14048.1, 21758.7, 29044.1, 18055.1, -175577.0], [218.271, 70.1134, 204.486, 551.759, 66.1559, 194.037, 174.169, 348.25, 556.602, 1513.94, 15386.4, 18114.1, 17359.5, 15142.3, 20587.3, 23888.0, 32620.7, 48373.4, 73859.4, 122794.0], [117.533, 74.9335, 190.177, 395.715, 78.2319, 188.052, 170.933, 338.951, 469.426, 1380.78, 12392.9, 11647.0, 15142.3, 21305.7, 22897.6, 33075.9, 41870.4, 63383.5, 110984.0, 292246.0], [305.032, 81.9434, 238.035, 848.05, 53.835, 224.031, 209.904, 415.857, 739.859, 2008.87, 22601.0, 24635.3, 20587.3, 22897.6, 36237.4, 23538.6, 38809.6, 56612.8, 68032.4, 4250.93], [195.966, 173.133, 424.697, 418.617, 237.245, 439.745, 364.433, 731.103, 844.338, 2271.53, 19438.9, 14048.1, 23888.0, 33075.9, 23538.6, 81780.6, 76052.3, 122172.0, 242783.0, 862938.0], [326.371, 196.629, 600.719, 745.621, 297.056, 575.686, 520.483, 1005.32, 1248.23, 3588.46, 27649.8, 21758.7, 32620.7, 41870.4, 38809.6, 76052.3, 119624.0, 170732.0, 323139.0, 1066650.0], [444.505, 310.972, 911.449, 922.512, 484.194, 886.233, 783.175, 1523.52, 1787.0, 5051.04, 38942.7, 29044.1, 48373.4, 63383.5, 56612.8, 122172.0, 170732.0, 304209.0, 487170.0, 1811990.0], [527.734, 631.881, 1734.15, 719.454, 1027.61, 1700.38, 1400.85, 2812.7, 2838.21, 7885.76, 48849.0, 18055.1, 73859.4, 110984.0, 68032.4, 242783.0, 323139.0, 487170.0, 1172230.0, 3977010.0], [-1465.41, 1458.37, 5146.16, -4886.06, 3721.71, 4854.4, 4431.76, 8101.93, 5006.48, 17718.9, -28549.7, -175577.0, 122794.0, 292246.0, 4250.93, 862938.0, 1066650.0, 1811990.0, 3977010.0, 18577600.0]]\n",
      "\n"
     ]
    }
   ],
   "source": [
    "with open('../blockwise/stv-analysis-new/blockwise_unsmeared_events_angle_MC_ONLY_weighted_recoCut_incErr_MECTune_'+ending+'.csv') as file:\n",
    "    content = file.readlines()\n",
    "events = content[0:]\n",
    "    \n",
    "for i in range(20):\n",
    "    events[i]=events[i].rstrip().rstrip(',')\n",
    "    events[i] = float(events[i])\n",
    "    \n",
    "print(\"Unsmeared events\")\n",
    "print(events)\n",
    "print(\"\")\n",
    "\n",
    "nuWro_events = events\n",
    "\n",
    "#------------------------------------------------------------------------------\n",
    "with open('../blockwise/stv-analysis-new/blockwise_unsmeared_AC_angle_MC_ONLY_weighted_recoCut_incErr_MECTune_'+ending+'.csv') as file:\n",
    "    content = file.readlines()\n",
    "AC = content[0:]\n",
    "    \n",
    "for i in range(400):\n",
    "    AC[i]=AC[i].rstrip().rstrip(',')\n",
    "    AC[i] = float(AC[i])\n",
    "    \n",
    "\n",
    "chunks = [AC[x:x+20] for x in range(0, len(AC), 20)]\n",
    "\n",
    "print(\"AC\")\n",
    "print(chunks)\n",
    "nuWro_Ac = chunks\n",
    "print(\"\")\n",
    "#---------------------------------------------------------------\n",
    "\n",
    "with open('nue_full_500_catsel_nopions_angleDiff_usingSelection_prior_true_signal_blockwise_recoCut_comb_'+ending+'.csv') as file:\n",
    "    content = file.readlines()\n",
    "prior_true = content[0:]\n",
    "    \n",
    "for i in range(20):\n",
    "    prior_true[i]=prior_true[i].rstrip().rstrip(',')\n",
    "    prior_true[i] = float(prior_true[i])\n",
    "    \n",
    "print(\"Prior Truth: \")\n",
    "print(prior_true)\n",
    "print(\"\")\n",
    "\n",
    "prior_true_nuWro = prior_true\n",
    "\n",
    "#----------------------------------------------------------------\n",
    "with open('../blockwise/stv-analysis-new/blockwise_unsmeared_errors_angle_MC_ONLY_weighted_recoCut_incErr_MECTune_'+ending+'.csv') as file:\n",
    "    content = file.readlines()\n",
    "errs = content[0:]\n",
    "    \n",
    "for i in range(20):\n",
    "    errs[i]=errs[i].rstrip().rstrip(',')\n",
    "    errs[i] = float(errs[i])\n",
    "    \n",
    "print(\"Errors: \")\n",
    "print(errs)\n",
    "print(\"\")\n",
    "print(\"################################################################\")\n",
    "print(\"\")\n",
    "\n",
    "nuWro_errs = errs\n",
    "\n",
    "#----------------------------------------------------------------\n",
    "with open('../blockwise/stv-analysis-new/blockwise_unsmeared_cov_matrix_angle_MC_ONLY_weighted_recoCut_incErr_MECTune_'+ending+'.csv') as file:\n",
    "    content = file.readlines()\n",
    "cov = content[0:]\n",
    "    \n",
    "for i in range(400):\n",
    "    cov[i]=cov[i].rstrip().rstrip(',')\n",
    "    cov[i] = float(cov[i])\n",
    "    \n",
    "\n",
    "chunks_cov = [cov[x:x+20] for x in range(0, len(cov), 20)]\n",
    "\n",
    "print(\"cov\")\n",
    "print(chunks_cov)\n",
    "print(\"\")"
   ]
  },
  {
   "cell_type": "code",
   "execution_count": 4,
   "id": "fd3ecb2c",
   "metadata": {},
   "outputs": [
    {
     "name": "stdout",
     "output_type": "stream",
     "text": [
      "['20\\n', '0  0\\n', '1  0\\n', '2  0\\n', '3  0\\n', '4  0\\n', '5  0\\n', '6  0\\n', '7  0\\n', '8  0\\n', '9  0\\n', '10 1\\n', '11 1\\n', '12 1\\n', '13 1\\n', '14 1\\n', '15 1\\n', '16 1\\n', '17 1\\n', '18 1\\n', '19 1\\n', '20\\n', '0  0\\n', '1  0\\n', '2  0\\n', '3  0\\n', '4  0\\n', '5  0\\n', '6  0\\n', '7  0\\n', '8  0\\n', '9  0\\n', '10 1\\n', '11 1\\n', '12 1\\n', '13 1\\n', '14 1\\n', '15 1\\n', '16 1\\n', '17 1\\n', '18 1\\n', '19 1\\n']\n"
     ]
    }
   ],
   "source": [
    "with open('../blockwise/stv-analysis-new/blocks.txt') as file:\n",
    "    content = file.readlines()\n",
    "blocks = content[0:]\n",
    "\n",
    "print(blocks)"
   ]
  },
  {
   "cell_type": "code",
   "execution_count": 5,
   "id": "e3ffe599",
   "metadata": {},
   "outputs": [
    {
     "name": "stdout",
     "output_type": "stream",
     "text": [
      "Prior_Truth x AC: \n",
      "[   29.5377042     23.1223392     48.68625235    27.42372609\n",
      "    46.66333926    66.94060367    73.68533878   114.79335775\n",
      "   209.02041484   521.40657734   604.63605569   652.49602815\n",
      "   754.24236652   913.19184798  1076.65057127  1388.75784257\n",
      "  1767.15314942  2649.44874966  4212.39582842 10421.71928163]\n",
      "\n",
      "\n",
      "Unfolding Done with MC Data Signal: \n",
      "[35.8255, 25.4887, 52.1002, 37.2284, 53.4977, 70.8953, 85.1695, 134.76, 260.831, 731.886, 656.883, 659.571, 835.604, 1062.0, 1166.63, 1717.67, 2170.18, 3335.24, 5564.83, 15773.6]\n",
      "\n",
      "\n",
      "Difference\n",
      "[-6.28779580e+00 -2.36636080e+00 -3.41394765e+00 -9.80467391e+00\n",
      " -6.83436074e+00 -3.95469633e+00 -1.14841612e+01 -1.99666423e+01\n",
      " -5.18105852e+01 -2.10479423e+02 -5.22469443e+01 -7.07497185e+00\n",
      " -8.13616335e+01 -1.48808152e+02 -8.99794287e+01 -3.28912157e+02\n",
      " -4.03026851e+02 -6.85791250e+02 -1.35243417e+03 -5.35188072e+03]\n",
      "\n",
      "[-21.28735449 -10.23408913  -7.01213892 -35.75252276 -14.64610302\n",
      "  -5.90776915 -15.58540873 -17.39355189 -24.78733247 -40.3676194\n",
      "  -8.64105669  -1.08429347 -10.78720012 -16.29538769  -8.35734742\n",
      " -23.68390999 -22.80656041 -25.88429953 -32.10605619 -51.353146  ]\n"
     ]
    }
   ],
   "source": [
    "\n",
    "made_data_sig = np.dot(prior_true, chunks)\n",
    "print(\"Prior_Truth x AC: \")\n",
    "print(made_data_sig)\n",
    "print(\"\")\n",
    "print(\"\")\n",
    "print(\"Unfolding Done with MC Data Signal: \")\n",
    "print(events)\n",
    "print(\"\")\n",
    "\n",
    "diff = made_data_sig - events\n",
    "print(\"\")\n",
    "print(\"Difference\")\n",
    "print(diff)\n",
    "\n",
    "#for i in made_data_sig:\n",
    "#    print(i)\n",
    "\n",
    "print(\"\")\n",
    "diffasfrac = np.nan_to_num(diff/made_data_sig)\n",
    "print(diffasfrac*100)"
   ]
  },
  {
   "cell_type": "code",
   "execution_count": 6,
   "id": "5979c327",
   "metadata": {},
   "outputs": [
    {
     "data": {
      "image/png": "[encoded data removed]",
      "text/plain": [
       "<Figure size 432x288 with 1 Axes>"
      ]
     },
     "metadata": {
      "needs_background": "light"
     },
     "output_type": "display_data"
    },
    {
     "data": {
      "image/png": "[encoded data removed]",
      "text/plain": [
       "<Figure size 432x288 with 1 Axes>"
      ]
     },
     "metadata": {
      "needs_background": "light"
     },
     "output_type": "display_data"
    },
    {
     "data": {
      "image/png": "[encoded data removed]",
      "text/plain": [
       "<Figure size 432x288 with 1 Axes>"
      ]
     },
     "metadata": {
      "needs_background": "light"
     },
     "output_type": "display_data"
    }
   ],
   "source": [
    "import random\n",
    "import numpy\n",
    "from matplotlib import pyplot\n",
    "\n",
    "bins = np.arange(0, 21, 1)\n",
    "count = np.arange(0.0, 20.0, 1)\n",
    "\n",
    "pyplot.hist(count, bins, weights=made_data_sig, alpha=0.5, label='Prior_Truth x AC')\n",
    "pyplot.hist(count, bins, weights=events, alpha=0.5, label='Unfolding Done with MC Data Signal')\n",
    "pyplot.legend(loc='upper right')\n",
    "pyplot.xlabel(\"Bin Number\")\n",
    "pyplot.ylabel(\"Count\")\n",
    "pyplot.show()\n",
    "\n",
    "pyplot.hist(count, bins, weights=diff, alpha=0.5, label='Difference')\n",
    "pyplot.legend(loc='upper right')\n",
    "pyplot.xlabel(\"Bin Number\")\n",
    "pyplot.ylabel(\"Count\")\n",
    "pyplot.show()\n",
    "\n",
    "\n",
    "pyplot.hist(count, bins, weights=diffasfrac, alpha=0.5, label='Fractional Difference')\n",
    "pyplot.legend(loc='upper right')\n",
    "pyplot.xlabel(\"Bin Number\")\n",
    "pyplot.ylabel(\"Fractional Difference\")\n",
    "pyplot.show()"
   ]
  },
  {
   "cell_type": "code",
   "execution_count": 7,
   "id": "c2787afc",
   "metadata": {},
   "outputs": [
    {
     "data": {
      "image/png": "[encoded data removed]",
      "text/plain": [
       "<Figure size 720x432 with 1 Axes>"
      ]
     },
     "metadata": {
      "needs_background": "light"
     },
     "output_type": "display_data"
    }
   ],
   "source": [
    "fig = plt.figure(figsize=(10, 6))\n",
    "\n",
    "pyplot.hist(count, bins, weights=made_data_sig, alpha=0.5, label='Prior_Truth x AC')\n",
    "pyplot.hist(count, bins, weights=events, alpha=0.5, label='Unfolding Done with MC Data Signal')\n",
    "pyplot.legend(loc='upper left')\n",
    "pyplot.xlabel(\"Bin Number\")\n",
    "pyplot.ylabel(\"Count\")\n",
    "pyplot.title(\"GENIE Closure Test - Neutrino Energy\")\n",
    "pyplot.show()\n",
    "\n",
    "fig.savefig(\"MECTune_fakeData_closure_test_angle_\"+ending+\".svg\",bbox_inches='tight' )\n"
   ]
  },
  {
   "cell_type": "code",
   "execution_count": 8,
   "id": "519c5df0",
   "metadata": {},
   "outputs": [
    {
     "data": {
      "image/png": "[encoded data removed]",
      "text/plain": [
       "<Figure size 720x432 with 1 Axes>"
      ]
     },
     "metadata": {
      "needs_background": "light"
     },
     "output_type": "display_data"
    }
   ],
   "source": [
    "fig = plt.figure(figsize=(10, 6))\n",
    "\n",
    "pyplot.hist(count, bins, weights=diff, alpha=0.5)\n",
    "#pyplot.legend(loc='upper right')\n",
    "pyplot.xlabel(\"Bin Number\")\n",
    "pyplot.ylabel(\"Difference\")\n",
    "pyplot.title(\"GENIE Closure Test - Difference\")\n",
    "pyplot.show()\n",
    "\n",
    "fig.savefig(\"MECTune_fakeData_closure_test_diff_angle_\"+ending+\".svg\",bbox_inches='tight' )"
   ]
  },
  {
   "cell_type": "code",
   "execution_count": 9,
   "id": "f2105818",
   "metadata": {},
   "outputs": [
    {
     "data": {
      "image/png": "[encoded data removed]",
      "text/plain": [
       "<Figure size 720x432 with 2 Axes>"
      ]
     },
     "metadata": {
      "needs_background": "light"
     },
     "output_type": "display_data"
    }
   ],
   "source": [
    "fig = plt.figure(figsize=(10, 6))  \n",
    "    \n",
    "plt.pcolor(bins, bins, chunks, cmap='OrRd', edgecolors='k')#, vmin=-1, vmax=1)\n",
    "            \n",
    "cbar = plt.colorbar()\n",
    "cbar.ax.tick_params(labelsize=14)\n",
    "#cbar.set_label(r\"Log (Power)\", size=15)\n",
    "\n",
    "plt.xlabel('Bin Number', fontsize=15)\n",
    "plt.ylabel('Bin Number', fontsize=15)\n",
    "\n",
    "plt.title('Additional Smearing Matrix', fontsize=15)\n",
    "\n",
    "plt.show()\n",
    "\n",
    "fig.savefig(\"MECTune_fakeData_closure_test_Ac_angle_\"+ending+\".svg\",bbox_inches='tight' )"
   ]
  },
  {
   "cell_type": "code",
   "execution_count": 10,
   "id": "5c56fce6",
   "metadata": {},
   "outputs": [
    {
     "name": "stderr",
     "output_type": "stream",
     "text": [
      "/tmp/ipykernel_34296/4171617754.py:7: RuntimeWarning: invalid value encountered in log\n",
      "  plt.pcolor(bins, bins, np.log(chunks_cov), cmap='OrRd', edgecolors='k')#, vmin=-1, vmax=1)\n"
     ]
    },
    {
     "data": {
      "image/png": "[encoded data removed]",
      "text/plain": [
       "<Figure size 720x432 with 2 Axes>"
      ]
     },
     "metadata": {
      "needs_background": "light"
     },
     "output_type": "display_data"
    }
   ],
   "source": [
    "fig = plt.figure(figsize=(10, 6))  \n",
    "\n",
    "#print(bins)\n",
    "bins = np.arange(0, 21, 1)\n",
    "count = np.arange(0.0, 20.0, 1)\n",
    "    \n",
    "plt.pcolor(bins, bins, np.log(chunks_cov), cmap='OrRd', edgecolors='k')#, vmin=-1, vmax=1)\n",
    "            \n",
    "cbar = plt.colorbar()\n",
    "cbar.ax.tick_params(labelsize=14)\n",
    "#cbar.set_label(r\"Log (Power)\", size=15)\n",
    "\n",
    "plt.xlabel('Bin Number', fontsize=15)\n",
    "plt.ylabel('Bin Number', fontsize=15)\n",
    "\n",
    "plt.title(' Log Covariance Matrix', fontsize=15)\n",
    "\n",
    "plt.show()"
   ]
  },
  {
   "cell_type": "code",
   "execution_count": 11,
   "id": "539af439",
   "metadata": {},
   "outputs": [
    {
     "name": "stdout",
     "output_type": "stream",
     "text": [
      "Dec19\n"
     ]
    }
   ],
   "source": [
    "np.savetxt(\"data_covmat_MC_MECTune_chi2_angleDiff_comb_\"+ending+\".csv\", \n",
    "           chunks_cov,\n",
    "           delimiter =\", \", \n",
    "           fmt ='% s')\n",
    "\n",
    "print(ending)"
   ]
  },
  {
   "cell_type": "markdown",
   "id": "b2be1cc9",
   "metadata": {},
   "source": [
    "## Convert to xsec units - uneeded right now"
   ]
  },
  {
   "cell_type": "markdown",
   "id": "c0d972a5",
   "metadata": {},
   "source": [
    "###################\n",
    "### #N argon target calculation\n",
    "###################\n",
    "\n",
    "density = 1.3836  #g/cm^3\n",
    "volume = (246-10)*(106-(-106))*(1026-10)         #cm^3\n",
    "NA = 6.022E23   #atoms/mol\n",
    "Nnuc = 40       #nucleans / atom\n",
    "mmol = 39.95    #g/mol\n",
    "\n",
    "Narg = (density * volume * NA * Nnuc)/mmol   #nucleons\n",
    "\n",
    "print(\"number of argon targets = \", Narg)"
   ]
  },
  {
   "cell_type": "markdown",
   "id": "0cae4282",
   "metadata": {},
   "source": [
    "#Need R1 AND R3\n",
    "\n",
    "####NUE\n",
    "POT_R1 = 2.0E20 \n",
    "int_flux_per_POT_R1 = 1.1864530596659353e-11\n",
    "POT_R3 = 5.014E20\n",
    "int_flux_per_POT_R3 = 8.628376225834778e-12\n",
    "\n",
    "int_flux = (int_flux_per_POT_R1*POT_R1) + (int_flux_per_POT_R3*POT_R3)    #cm^-2\n",
    "\n",
    "print(\"Nue integrated flux: \", int_flux)\n",
    "\n",
    "####NUMU\n",
    "\n",
    "POT_numu_R1 = 2.0E20 \n",
    "int_flux_per_POT_numu_R1 = 5.455771063338641e-10\n",
    "POT_numu_R3 = 5.014E20 \n",
    "int_flux_per_POT_numu_R3 = 3.6729003479115414e-10\n",
    "\n",
    "int_flux_numu = (int_flux_per_POT_numu_R1*POT_numu_R1) + (int_flux_per_POT_numu_R3*POT_numu_R3)    #cm^-2\n",
    "\n",
    "print(\"Numu integrated flux: \", int_flux_numu)"
   ]
  },
  {
   "cell_type": "markdown",
   "id": "76072d85",
   "metadata": {},
   "source": [
    "nue_events = np.array(events[0:10])\n",
    "numu_events = np.array(events[10:20])\n",
    "\n",
    "nue_errs = np.array(errs[0:10])\n",
    "numu_errs = np.array(errs[10:20])"
   ]
  },
  {
   "cell_type": "markdown",
   "id": "277a03a3",
   "metadata": {},
   "source": [
    "#number of events\n",
    "\n",
    "xsec_nue_events = nue_events / (int_flux * Narg )     \n",
    "xsec_numu_events = numu_events / (int_flux_numu * Narg )     \n"
   ]
  },
  {
   "cell_type": "markdown",
   "id": "40299080",
   "metadata": {},
   "source": [
    "#Need the four sections of the cov matrix\n",
    "\n",
    "blockwise_errs = chunks_cov\n",
    "#print(blockwise_errs)\n",
    "#print(\"\")\n",
    "\n",
    "#NUE ONLY\n",
    "bot_left = blockwise_errs[:10]\n",
    "for i in range(len(bot_left)):\n",
    "    bot_left[i] = bot_left[i][:10]\n",
    "    \n",
    "nue_errs_bot = np.array(bot_left)/((int_flux*int_flux)*(Narg*Narg))\n",
    "xsec_nue_errs = (np.sqrt(np.diag(nue_errs_bot)))\n",
    "    \n",
    "#MIX\n",
    "bot_right = blockwise_errs[:10]\n",
    "for i in range(len(bot_right)):\n",
    "    bot_right[i] = bot_right[i][10:]\n",
    "    \n",
    "mix_errs_bot = np.array(bot_right)/((int_flux*int_flux_numu)*(Narg*Narg))\n",
    "xsec_botmix_errs = np.nan_to_num(np.sqrt(np.diag(mix_errs_bot)))\n",
    "\n",
    "    \n",
    "#MIX\n",
    "top_left = blockwise_errs[10:]\n",
    "for i in range(len(top_left)):\n",
    "    top_left[i] = top_left[i][:10]\n",
    "    \n",
    "mix_errs_top = np.array(top_left)/((int_flux*int_flux_numu)*(Narg*Narg))\n",
    "xsec_topmix_errs = np.nan_to_num(np.sqrt(np.diag(mix_errs_top)))\n",
    "\n",
    "#NUMU ONLY\n",
    "top_right = blockwise_errs[10:]\n",
    "for i in range(len(top_right)):\n",
    "    top_right[i] = top_right[i][10:]\n",
    "    \n",
    "numu_errs_top = np.array(top_right)/((int_flux_numu*int_flux_numu)*(Narg*Narg))\n",
    "xsec_numu_errs = (np.sqrt(np.diag(numu_errs_top)))\n"
   ]
  },
  {
   "cell_type": "markdown",
   "id": "2c7dc4d3",
   "metadata": {},
   "source": [
    "### Calculate ratio uncertainties\n",
    "\n",
    "xsec_ratio_events = np.nan_to_num(xsec_nue_events/xsec_numu_events)\n",
    "print(\"Ratio event counts: \", xsec_ratio_events)\n",
    "print(\"\")\n",
    "\n",
    "#####################\n",
    "\n",
    "ratio_sq = (xsec_nue_events/xsec_numu_events)*(xsec_nue_events/xsec_numu_events)\n",
    "print(\"ratio_sq: \", ratio_sq)\n",
    "print(\"\")\n",
    "nue_term = (xsec_nue_errs*xsec_nue_errs)/(xsec_nue_events*xsec_nue_events)\n",
    "print(\"nue: \", nue_term)\n",
    "print(\"\")\n",
    "numu_term = (xsec_numu_errs*xsec_numu_errs)/(xsec_numu_events*xsec_numu_events)\n",
    "print(\"numu: \", numu_term)\n",
    "print(\"\")\n",
    "mix_1 = (xsec_botmix_errs*xsec_botmix_errs)/(xsec_numu_events*xsec_nue_events)\n",
    "print(\"mix: \", mix_1)\n",
    "print(\"\")\n",
    "mix_2 = (xsec_topmix_errs*xsec_topmix_errs)/(xsec_numu_events*xsec_nue_events)\n",
    "print(\"mix: \", mix_2)\n",
    "print(\"\")\n",
    "\n",
    "ratio_var_errs = ratio_sq*(nue_term + numu_term - mix_1 - mix_2)\n",
    "print(ratio_var_errs)\n",
    "xsec_ratio_errs = np.nan_to_num(np.sqrt(abs(ratio_var_errs)))\n",
    "print(\"Ratio errs: \", xsec_ratio_errs)"
   ]
  },
  {
   "cell_type": "markdown",
   "id": "64f9929b",
   "metadata": {},
   "source": [
    "print(xsec_nue_events)\n",
    "print(\"\")\n",
    "print(xsec_numu_events)\n",
    "print(\"\")\n",
    "print(xsec_nue_errs)\n",
    "print(\"\")\n",
    "print(xsec_numu_errs)"
   ]
  },
  {
   "cell_type": "markdown",
   "id": "6b108268",
   "metadata": {},
   "source": [
    "import random\n",
    "import numpy\n",
    "from matplotlib import pyplot\n",
    "\"\"\"\n",
    "bins = np.arange(0, 5.5, 0.5)\n",
    "count = np.arange(0.1, 5.1, 0.5)\n",
    "print(count)\n",
    "\n",
    "plt.ylim(0, 5E-39)\n",
    "\n",
    "plt.xlabel(\"Energy [GeV]\")\n",
    "plt.ylabel(\"xsec [cm^2]\")\n",
    "\n",
    "pyplot.hist(count, bins, weights=xsec_nue_events, alpha=0.5)\n",
    "#pyplot.legend(loc='upper right')\n",
    "pyplot.show()\n",
    "\"\"\"\n",
    "\n",
    "nue_fig = plt.figure(figsize=(8, 7))\n",
    "nue_gs = gridspec.GridSpec(2, 1, height_ratios=[2, 1])\n",
    "nue_ax1 = plt.subplot(nue_gs[0])\n",
    "nue_ax1.set_xlim([-1, 1])\n",
    "\n",
    "bins = np.arange(-1.0, 1.2, 0.2)\n",
    "bincenters = np.arange(-0.9, 1.1, 0.2)\n",
    "bin_edges = np.arange(-1.0, 1.2, 0.2)\n",
    "bin_size = [(bin_edges[i + 1] - bin_edges[i]) / 2\n",
    "            for i in range(len(bin_edges) - 1)]\n",
    "count = np.arange(-0.95, 1.05, 0.2)\n",
    "weights = []\n",
    "for i in range(len(count)):\n",
    "    weight = count[i]*xsec_nue_events[i]\n",
    "    weights.append(weight)\n",
    "\n",
    "sel = nue_ax1.hist(count, bins, color='deepskyblue', weights=xsec_nue_events)\n",
    "plt.ylim(0, 1E-39)\n",
    "nue_ax1.set_xlabel('cos(Lepton Angle)', fontsize=15)\n",
    "nue_ax1.set_ylabel('xsec [cm^2 / GeV / nucleon]', fontsize=15)\n",
    "nue_ax1.set_title(\"Unfolded Nue cos(Lepton Angle)\")\n",
    "\n",
    "lower_err = np.nan_to_num(xsec_nue_events-xsec_nue_errs)\n",
    "\n",
    "nue_ax1.bar(bincenters, xsec_nue_errs*2,width=[n*2 for n in bin_size],facecolor='tab:green',alpha=0.2,bottom=(lower_err))\n",
    "\n",
    "nuWro_xsec_nue_events = xsec_nue_events\n",
    "nuWro_xsec_nue_errs = xsec_nue_errs\n",
    "nuWro_lower_err = lower_err\n",
    "\n",
    "nue_fig.savefig(\"unfolded_nuWro_fakeData_MC_nue_angle_\"+ending+\".svg\",bbox_inches='tight' )"
   ]
  },
  {
   "cell_type": "markdown",
   "id": "252f47b4",
   "metadata": {},
   "source": [
    "import random\n",
    "import numpy\n",
    "from matplotlib import pyplot\n",
    "\n",
    "numu_fig = plt.figure(figsize=(8, 7))\n",
    "numu_gs = gridspec.GridSpec(2, 1, height_ratios=[2, 1])\n",
    "numu_ax1 = plt.subplot(numu_gs[0])\n",
    "numu_ax1.set_xlim([-1, 1])\n",
    "\n",
    "bins = np.arange(-1.0, 1.2, 0.2)\n",
    "bincenters = np.arange(-0.9, 1.1, 0.2)\n",
    "bin_edges = np.arange(-1.0, 1.2, 0.2)\n",
    "bin_size = [(bin_edges[i + 1] - bin_edges[i]) / 2\n",
    "            for i in range(len(bin_edges) - 1)]\n",
    "count = np.arange(-0.95, 1.05, 0.2)\n",
    "weights = []\n",
    "for i in range(len(count)):\n",
    "    weight = count[i]*xsec_numu_events[i]\n",
    "    weights.append(weight)\n",
    "\n",
    "sel = numu_ax1.hist(count, bins, color='deepskyblue', weights=xsec_numu_events)\n",
    "plt.ylim(0, 4E-40)\n",
    "numu_ax1.set_xlabel('cos(Lepton Angle)', fontsize=15)\n",
    "numu_ax1.set_ylabel('xsec [cm^2 / GeV / nucleon]', fontsize=15)\n",
    "numu_ax1.set_title(\"Unfolded Numu cos(Lepton Angle)\")\n",
    "\n",
    "lower_err = np.nan_to_num(xsec_numu_events-xsec_numu_errs)\n",
    "\n",
    "numu_ax1.bar(bincenters, xsec_numu_errs*2,width=[n*2 for n in bin_size],facecolor='tab:green',alpha=0.2,bottom=(lower_err))\n",
    "\n",
    "nuWro_xsec_numu_events = xsec_numu_events\n",
    "nuWro_xsec_numu_errs = xsec_numu_errs\n",
    "nuWro_lower_err_numu = lower_err\n",
    "\n",
    "numu_fig.savefig(\"unfolded_nuWro_fakeData_MC_numu_angle_\"+ending+\".svg\",bbox_inches='tight' )"
   ]
  },
  {
   "cell_type": "markdown",
   "id": "3fcd0604",
   "metadata": {},
   "source": [
    "import random\n",
    "import numpy\n",
    "from matplotlib import pyplot\n",
    "\n",
    "bins = np.arange(-1.0, 1.2, 0.2)\n",
    "count = np.arange(-0.95, 1.05, 0.2)\n",
    "#print(count)\n",
    "\n",
    "plt.ylim(0, 5)\n",
    "plt.xlabel(\"cos(Lepton Angle)\")\n",
    "plt.ylabel(\"xsec [cm^2 / GeV / nucleon]\")\n",
    "\n",
    "print(xsec_nue_events/xsec_numu_events)\n",
    "print(xsec_ratio_events)\n",
    "\n",
    "pyplot.hist(count, bins, weights=np.nan_to_num(xsec_nue_events/xsec_numu_events), alpha=0.5)\n",
    "pyplot.hist(count, bins, weights=xsec_ratio_events, alpha=0.5)\n",
    "\n",
    "#pyplot.legend(loc='upper right')\n",
    "pyplot.show()"
   ]
  },
  {
   "cell_type": "markdown",
   "id": "8102bf77",
   "metadata": {},
   "source": [
    "import random\n",
    "import numpy\n",
    "from matplotlib import pyplot\n",
    "\n",
    "\n",
    "ratio_fig = plt.figure(figsize=(8, 7))\n",
    "ratio_gs = gridspec.GridSpec(2, 1, height_ratios=[2, 1])\n",
    "ratio_ax1 = plt.subplot(ratio_gs[0])\n",
    "ratio_ax1.set_xlim([-1, 1])\n",
    "\n",
    "bins = np.arange(-1.0, 1.2, 0.2)\n",
    "bincenters = np.arange(-0.9, 1.1, 0.2)\n",
    "bin_edges = np.arange(-1.0, 1.2, 0.2)\n",
    "bin_size = [(bin_edges[i + 1] - bin_edges[i]) / 2\n",
    "            for i in range(len(bin_edges) - 1)]\n",
    "count = np.arange(-0.95, 1.05, 0.2)\n",
    "#print(len(count))\n",
    "#weights = []\n",
    "#for i in range(len(count)):\n",
    "#    weight = count[i]*xsec_ratio_events[i]\n",
    "#    weights.append(weight)\n",
    "#test_weights = [(random.random()/random.random() - 0.75) for x in range(len(count))]\n",
    "#print(count)\n",
    "#xsec_ratio_events[7] = 0\n",
    "#print(xsec_ratio_events)\n",
    "print(\"\")\n",
    "sel = ratio_ax1.hist(count, bins, color='deepskyblue', weights=xsec_ratio_events)  # , weights=xsec_ratio_events\n",
    "print(sel[0])\n",
    "\n",
    "plt.ylim(0, 6)\n",
    "ratio_ax1.set_xlabel('cos(Lepton Angle)', fontsize=15)\n",
    "ratio_ax1.set_ylabel('Ratio', fontsize=15)\n",
    "ratio_ax1.set_title(\"Unfolded Ratio cos(Lepton Angle)\")\n",
    "\n",
    "lower_err = np.nan_to_num(xsec_ratio_events-xsec_ratio_errs)\n",
    "\n",
    "ratio_ax1.bar(bincenters, xsec_ratio_errs*2,width=[n*2 for n in bin_size],facecolor='tab:green',alpha=0.2,bottom=(lower_err))\n",
    "\n",
    "nuWro_xsec_ratio_events = xsec_ratio_events\n",
    "nuWro_xsec_ratio_errs = xsec_ratio_errs\n",
    "nuWro_lower_err_ratio = lower_err\n",
    "\n",
    "ratio_fig.savefig(\"unfolded_nuWro_fakeData_MC_ratio_angle_\"+ending+\".svg\",bbox_inches='tight' )"
   ]
  },
  {
   "cell_type": "code",
   "execution_count": null,
   "id": "83c0ada2",
   "metadata": {},
   "outputs": [],
   "source": []
  },
  {
   "cell_type": "markdown",
   "id": "7a1981a2",
   "metadata": {},
   "source": [
    "## Now do the same with RUN1 genie unfolding - unneeded"
   ]
  },
  {
   "cell_type": "markdown",
   "id": "a26da3ee",
   "metadata": {},
   "source": [
    "with open('../blockwise/stv-analysis-new/blockwise_unsmeared_events_angle_MC_ONLY_weighted_recoCut_incErr_run1_'+ending+'.csv') as file:\n",
    "    content = file.readlines()\n",
    "events = content[0:]\n",
    "    \n",
    "for i in range(20):\n",
    "    events[i]=events[i].rstrip().rstrip(',')\n",
    "    events[i] = float(events[i])\n",
    "    \n",
    "print(\"Unsmeared events\")\n",
    "print(events)\n",
    "print(\"\")\n",
    "\n",
    "genie_events = events\n",
    "\n",
    "#------------------------------------------------------------------------------\n",
    "with open('../blockwise/stv-analysis-new/blockwise_unsmeared_AC_angle_MC_ONLY_weighted_recoCut_incErr_run1_'+ending+'.csv') as file:\n",
    "    content = file.readlines()\n",
    "AC = content[0:]\n",
    "    \n",
    "for i in range(400):\n",
    "    AC[i]=AC[i].rstrip().rstrip(',')\n",
    "    AC[i] = float(AC[i])\n",
    "    \n",
    "\n",
    "chunks = [AC[x:x+20] for x in range(0, len(AC), 20)]\n",
    "\n",
    "print(\"AC\")\n",
    "print(chunks)\n",
    "print(\"\")\n",
    "#---------------------------------------------------------------\n",
    "\n",
    "with open('nue_full_500_catsel_nopions_angleDiff_usingSelection_prior_true_signal_blockwise_recoCut_'+ending+'.csv') as file:\n",
    "    content = file.readlines()\n",
    "prior_true = content[0:]\n",
    "    \n",
    "for i in range(20):\n",
    "    prior_true[i]=prior_true[i].rstrip().rstrip(',')\n",
    "    prior_true[i] = float(prior_true[i])\n",
    "    \n",
    "print(\"Prior Truth: \")\n",
    "print(prior_true)\n",
    "print(\"\")\n",
    "\n",
    "#----------------------------------------------------------------\n",
    "with open('../blockwise/stv-analysis-new/blockwise_unsmeared_errors_angle_MC_ONLY_weighted_recoCut_incErr_run1_'+ending+'.csv') as file:\n",
    "    content = file.readlines()\n",
    "errs = content[0:]\n",
    "    \n",
    "for i in range(20):\n",
    "    errs[i]=errs[i].rstrip().rstrip(',')\n",
    "    errs[i] = float(errs[i])\n",
    "    \n",
    "print(\"Errors: \")\n",
    "print(errs)\n",
    "print(\"\")\n",
    "print(\"################################################################\")\n",
    "print(\"\")\n",
    "\n",
    "genie_errors = errs\n",
    "\n",
    "#----------------------------------------------------------------\n",
    "with open('../blockwise/stv-analysis-new/blockwise_unsmeared_cov_matrix_angle_MC_ONLY_weighted_recoCut_incErr_run1_'+ending+'.csv') as file:\n",
    "    content = file.readlines()\n",
    "cov = content[0:]\n",
    "    \n",
    "for i in range(400):\n",
    "    cov[i]=cov[i].rstrip().rstrip(',')\n",
    "    cov[i] = float(cov[i])\n",
    "    \n",
    "\n",
    "chunks_cov = [cov[x:x+20] for x in range(0, len(cov), 20)]\n",
    "\n",
    "print(\"cov\")\n",
    "print(chunks_cov)\n",
    "print(\"\")"
   ]
  },
  {
   "cell_type": "markdown",
   "id": "acae384a",
   "metadata": {},
   "source": [
    "\n",
    "made_data_sig = np.dot(prior_true, chunks)\n",
    "print(\"Prior_Truth x AC: \")\n",
    "print(made_data_sig)\n",
    "print(\"\")\n",
    "print(\"\")\n",
    "print(\"Unfolding Done with MC Data Signal: \")\n",
    "print(events)\n",
    "print(\"\")\n",
    "\n",
    "diff = made_data_sig - events\n",
    "print(\"\")\n",
    "print(\"Difference\")\n",
    "print(diff)\n",
    "\n",
    "#for i in made_data_sig:\n",
    "#    print(i)\n",
    "\n",
    "print(\"\")\n",
    "diffasfrac = np.nan_to_num(diff/made_data_sig)\n",
    "print(diffasfrac*100)"
   ]
  },
  {
   "cell_type": "markdown",
   "id": "0b0a3531",
   "metadata": {},
   "source": [
    "Convert to xsec units"
   ]
  },
  {
   "cell_type": "markdown",
   "id": "2ed940bd",
   "metadata": {},
   "source": [
    "###################\n",
    "### #N argon target calculation\n",
    "###################\n",
    "\n",
    "density = 1.3836  #g/cm^3\n",
    "volume = (246-10)*(106-(-106))*(1026-10)         #cm^3\n",
    "NA = 6.022E23   #atoms/mol\n",
    "Nnuc = 40       #nucleans / atom\n",
    "mmol = 39.95    #g/mol\n",
    "\n",
    "Narg = (density * volume * NA * Nnuc)/mmol   #nucleons\n",
    "\n",
    "print(\"number of argon targets = \", Narg)"
   ]
  },
  {
   "cell_type": "markdown",
   "id": "46665f59",
   "metadata": {},
   "source": [
    "#Need R1 AND R3\n",
    "\n",
    "####NUE\n",
    "POT_R1 = 2.0E20 \n",
    "int_flux_per_POT_R1 = 1.1864530596659353e-11\n",
    "POT_R3 = 5.014E20\n",
    "int_flux_per_POT_R3 = 8.628376225834778e-12\n",
    "\n",
    "int_flux = (int_flux_per_POT_R1*POT_R1) + (int_flux_per_POT_R3*POT_R3)    #cm^-2\n",
    "\n",
    "print(\"Nue integrated flux: \", int_flux)\n",
    "\n",
    "####NUMU\n",
    "\n",
    "POT_numu_R1 = 2.0E20 \n",
    "int_flux_per_POT_numu_R1 = 5.455771063338641e-10\n",
    "POT_numu_R3 = 5.014E20 \n",
    "int_flux_per_POT_numu_R3 = 3.6729003479115414e-10\n",
    "\n",
    "int_flux_numu = (int_flux_per_POT_numu_R1*POT_numu_R1) + (int_flux_per_POT_numu_R3*POT_numu_R3)    #cm^-2\n",
    "\n",
    "print(\"Numu integrated flux: \", int_flux_numu)"
   ]
  },
  {
   "cell_type": "markdown",
   "id": "6c429b12",
   "metadata": {},
   "source": [
    "nue_events = np.array(events[0:10])\n",
    "numu_events = np.array(events[10:20])\n",
    "\n",
    "nue_errs = np.array(errs[0:10])\n",
    "numu_errs = np.array(errs[10:20])"
   ]
  },
  {
   "cell_type": "markdown",
   "id": "ead4bc15",
   "metadata": {},
   "source": [
    "#number of events\n",
    "\n",
    "xsec_nue_events = nue_events / (int_flux * Narg )     \n",
    "xsec_numu_events = numu_events / (int_flux_numu * Narg )     \n"
   ]
  },
  {
   "cell_type": "markdown",
   "id": "872883f8",
   "metadata": {},
   "source": [
    "#Need the four sections of the cov matrix\n",
    "\n",
    "blockwise_errs = chunks_cov\n",
    "#print(blockwise_errs)\n",
    "#print(\"\")\n",
    "\n",
    "#NUE ONLY\n",
    "bot_left = blockwise_errs[:10]\n",
    "for i in range(len(bot_left)):\n",
    "    bot_left[i] = bot_left[i][:10]\n",
    "    \n",
    "nue_errs_bot = np.array(bot_left)/((int_flux*int_flux)*(Narg*Narg))\n",
    "xsec_nue_errs = (np.sqrt(np.diag(nue_errs_bot)))\n",
    "    \n",
    "#MIX\n",
    "bot_right = blockwise_errs[:10]\n",
    "for i in range(len(bot_right)):\n",
    "    bot_right[i] = bot_right[i][10:]\n",
    "    \n",
    "mix_errs_bot = np.array(bot_right)/((int_flux*int_flux_numu)*(Narg*Narg))\n",
    "xsec_botmix_errs = np.nan_to_num(np.sqrt(np.diag(mix_errs_bot)))\n",
    "\n",
    "    \n",
    "#MIX\n",
    "top_left = blockwise_errs[10:]\n",
    "for i in range(len(top_left)):\n",
    "    top_left[i] = top_left[i][:10]\n",
    "    \n",
    "mix_errs_top = np.array(top_left)/((int_flux*int_flux_numu)*(Narg*Narg))\n",
    "xsec_topmix_errs = np.nan_to_num(np.sqrt(np.diag(mix_errs_top)))\n",
    "\n",
    "#NUMU ONLY\n",
    "top_right = blockwise_errs[10:]\n",
    "for i in range(len(top_right)):\n",
    "    top_right[i] = top_right[i][10:]\n",
    "    \n",
    "numu_errs_top = np.array(top_right)/((int_flux_numu*int_flux_numu)*(Narg*Narg))\n",
    "xsec_numu_errs = (np.sqrt(np.diag(numu_errs_top)))\n"
   ]
  },
  {
   "cell_type": "markdown",
   "id": "bdb08c61",
   "metadata": {},
   "source": [
    "### Calculate ratio uncertainties\n",
    "\n",
    "xsec_ratio_events = np.nan_to_num(xsec_nue_events/xsec_numu_events)\n",
    "print(\"Ratio event counts: \", xsec_ratio_events)\n",
    "print(\"\")\n",
    "\n",
    "#####################\n",
    "\n",
    "ratio_sq = (xsec_nue_events/xsec_numu_events)*(xsec_nue_events/xsec_numu_events)\n",
    "print(\"ratio_sq: \", ratio_sq)\n",
    "print(\"\")\n",
    "nue_term = (xsec_nue_errs*xsec_nue_errs)/(xsec_nue_events*xsec_nue_events)\n",
    "print(\"nue: \", nue_term)\n",
    "print(\"\")\n",
    "numu_term = (xsec_numu_errs*xsec_numu_errs)/(xsec_numu_events*xsec_numu_events)\n",
    "print(\"numu: \", numu_term)\n",
    "print(\"\")\n",
    "mix_1 = (xsec_botmix_errs*xsec_botmix_errs)/(xsec_numu_events*xsec_nue_events)\n",
    "print(\"mix: \", mix_1)\n",
    "print(\"\")\n",
    "mix_2 = (xsec_topmix_errs*xsec_topmix_errs)/(xsec_numu_events*xsec_nue_events)\n",
    "print(\"mix: \", mix_2)\n",
    "print(\"\")\n",
    "\n",
    "ratio_var_errs = ratio_sq*(nue_term + numu_term - mix_1 - mix_2)\n",
    "print(ratio_var_errs)\n",
    "xsec_ratio_errs = np.nan_to_num(np.sqrt(abs(ratio_var_errs)))\n",
    "print(\"Ratio errs: \", xsec_ratio_errs)"
   ]
  },
  {
   "cell_type": "markdown",
   "id": "134eda61",
   "metadata": {},
   "source": [
    "import random\n",
    "import numpy\n",
    "from matplotlib import pyplot\n",
    "\"\"\"\n",
    "bins = np.arange(0, 5.5, 0.5)\n",
    "count = np.arange(0.1, 5.1, 0.5)\n",
    "print(count)\n",
    "\n",
    "plt.ylim(0, 5E-39)\n",
    "\n",
    "plt.xlabel(\"Energy [GeV]\")\n",
    "plt.ylabel(\"xsec [cm^2]\")\n",
    "\n",
    "pyplot.hist(count, bins, weights=xsec_nue_events, alpha=0.5)\n",
    "#pyplot.legend(loc='upper right')\n",
    "pyplot.show()\n",
    "\"\"\"\n",
    "\n",
    "nue_fig = plt.figure(figsize=(8, 7))\n",
    "nue_gs = gridspec.GridSpec(2, 1, height_ratios=[2, 1])\n",
    "nue_ax1 = plt.subplot(nue_gs[0])\n",
    "nue_ax1.set_xlim([-1, 1])\n",
    "\n",
    "bins = np.arange(-1.0, 1.2, 0.2)\n",
    "bincenters = np.arange(-0.9, 1.1, 0.2)\n",
    "bin_edges = np.arange(-1.0, 1.2, 0.2)\n",
    "bin_size = [(bin_edges[i + 1] - bin_edges[i]) / 2\n",
    "            for i in range(len(bin_edges) - 1)]\n",
    "count = np.arange(-0.95, 1.05, 0.2)\n",
    "weights = []\n",
    "for i in range(len(count)):\n",
    "    weight = count[i]*xsec_nue_events[i]\n",
    "    weights.append(weight)\n",
    "\n",
    "sel = nue_ax1.hist(count, bins, color='deepskyblue', weights=xsec_nue_events)\n",
    "plt.ylim(0, 1E-39)\n",
    "nue_ax1.set_xlabel('cos(Lepton Angle)', fontsize=15)\n",
    "nue_ax1.set_ylabel('xsec [cm^2 / GeV / nucleon]', fontsize=15)\n",
    "nue_ax1.set_title(\"Unfolded Nue cos(Lepton Angle)\")\n",
    "\n",
    "lower_err = np.nan_to_num(xsec_nue_events-xsec_nue_errs)\n",
    "\n",
    "nue_ax1.bar(bincenters, xsec_nue_errs*2,width=[n*2 for n in bin_size],facecolor='tab:green',alpha=0.2,bottom=(lower_err))\n",
    "\n",
    "genie_xsec_nue_events = xsec_nue_events\n",
    "genie_xsec_nue_errs = xsec_nue_errs\n",
    "genie_lower_err = lower_err\n",
    "\n",
    "nue_fig.savefig(\"unfolded_run1_MC_nue_angle_\"+ending+\".svg\",bbox_inches='tight' )"
   ]
  },
  {
   "cell_type": "markdown",
   "id": "12acd9b8",
   "metadata": {},
   "source": [
    "import random\n",
    "import numpy\n",
    "from matplotlib import pyplot\n",
    "\n",
    "numu_fig = plt.figure(figsize=(8, 7))\n",
    "numu_gs = gridspec.GridSpec(2, 1, height_ratios=[2, 1])\n",
    "numu_ax1 = plt.subplot(numu_gs[0])\n",
    "numu_ax1.set_xlim([-1, 1])\n",
    "\n",
    "bins = np.arange(-1.0, 1.2, 0.2)\n",
    "bincenters = np.arange(-0.9, 1.1, 0.2)\n",
    "bin_edges = np.arange(-1.0, 1.2, 0.2)\n",
    "bin_size = [(bin_edges[i + 1] - bin_edges[i]) / 2\n",
    "            for i in range(len(bin_edges) - 1)]\n",
    "count = np.arange(-0.95, 1.05, 0.2)\n",
    "weights = []\n",
    "for i in range(len(count)):\n",
    "    weight = count[i]*xsec_numu_events[i]\n",
    "    weights.append(weight)\n",
    "\n",
    "sel = numu_ax1.hist(count, bins, color='deepskyblue', weights=xsec_numu_events)\n",
    "plt.ylim(0, 4E-40)\n",
    "numu_ax1.set_xlabel('cos(Lepton Angle)', fontsize=15)\n",
    "numu_ax1.set_ylabel('xsec [cm^2 / GeV / nucleon]', fontsize=15)\n",
    "numu_ax1.set_title(\"Unfolded Numu cos(Lepton Angle)\")\n",
    "\n",
    "lower_err = np.nan_to_num(xsec_numu_events-xsec_numu_errs)\n",
    "\n",
    "numu_ax1.bar(bincenters, xsec_numu_errs*2,width=[n*2 for n in bin_size],facecolor='tab:green',alpha=0.2,bottom=(lower_err))\n",
    "\n",
    "genie_xsec_numu_events = xsec_numu_events\n",
    "genie_xsec_numu_errs = xsec_numu_errs\n",
    "genie_lower_err_numu = lower_err\n",
    "\n",
    "numu_fig.savefig(\"unfolded_run1_MC_numu_angle_\"+ending+\".svg\",bbox_inches='tight' )"
   ]
  },
  {
   "cell_type": "markdown",
   "id": "3c6007f4",
   "metadata": {},
   "source": [
    "import random\n",
    "import numpy\n",
    "from matplotlib import pyplot\n",
    "\n",
    "bins = np.arange(-1.0, 1.2, 0.2)\n",
    "count = np.arange(-0.95, 1.05, 0.2)\n",
    "#print(count)\n",
    "\n",
    "plt.ylim(0, 5)\n",
    "plt.xlabel(\"cos(Lepton Angle)\")\n",
    "plt.ylabel(\"xsec [cm^2 / GeV / nucleon]\")\n",
    "\n",
    "print(xsec_nue_events/xsec_numu_events)\n",
    "print(xsec_ratio_events)\n",
    "\n",
    "pyplot.hist(count, bins, weights=np.nan_to_num(xsec_nue_events/xsec_numu_events), alpha=0.5)\n",
    "pyplot.hist(count, bins, weights=xsec_ratio_events, alpha=0.5)\n",
    "\n",
    "#pyplot.legend(loc='upper right')\n",
    "pyplot.show()"
   ]
  },
  {
   "cell_type": "markdown",
   "id": "d514d5be",
   "metadata": {},
   "source": [
    "import random\n",
    "import numpy\n",
    "from matplotlib import pyplot\n",
    "\n",
    "\n",
    "ratio_fig = plt.figure(figsize=(8, 7))\n",
    "ratio_gs = gridspec.GridSpec(2, 1, height_ratios=[2, 1])\n",
    "ratio_ax1 = plt.subplot(ratio_gs[0])\n",
    "ratio_ax1.set_xlim([-1, 1])\n",
    "\n",
    "bins = np.arange(-1.0, 1.2, 0.2)\n",
    "bincenters = np.arange(-0.9, 1.1, 0.2)\n",
    "bin_edges = np.arange(-1.0, 1.2, 0.2)\n",
    "bin_size = [(bin_edges[i + 1] - bin_edges[i]) / 2\n",
    "            for i in range(len(bin_edges) - 1)]\n",
    "count = np.arange(-0.95, 1.05, 0.2)\n",
    "#print(len(count))\n",
    "#weights = []\n",
    "#for i in range(len(count)):\n",
    "#    weight = count[i]*xsec_ratio_events[i]\n",
    "#    weights.append(weight)\n",
    "#test_weights = [(random.random()/random.random() - 0.75) for x in range(len(count))]\n",
    "#print(count)\n",
    "#xsec_ratio_events[7] = 0\n",
    "#print(xsec_ratio_events)\n",
    "print(\"\")\n",
    "sel = ratio_ax1.hist(count, bins, color='deepskyblue', weights=xsec_ratio_events)  # , weights=xsec_ratio_events\n",
    "print(sel[0])\n",
    "\n",
    "plt.ylim(0, 6)\n",
    "ratio_ax1.set_xlabel('cos(Lepton Angle)', fontsize=15)\n",
    "ratio_ax1.set_ylabel('Ratio', fontsize=15)\n",
    "ratio_ax1.set_title(\"Unfolded Ratio cos(Lepton Angle)\")\n",
    "\n",
    "lower_err = np.nan_to_num(xsec_ratio_events-xsec_ratio_errs)\n",
    "\n",
    "ratio_ax1.bar(bincenters, xsec_ratio_errs*2,width=[n*2 for n in bin_size],facecolor='tab:green',alpha=0.2,bottom=(lower_err))\n",
    "\n",
    "genie_xsec_ratio_events = xsec_ratio_events\n",
    "genie_xsec_ratio_errs = xsec_ratio_errs\n",
    "genie_lower_err_ratio = lower_err\n",
    "\n",
    "ratio_fig.savefig(\"unfolded_run1_MC_ratio_angle_\"+ending+\".svg\",bbox_inches='tight' )"
   ]
  },
  {
   "cell_type": "markdown",
   "id": "b81f4e4a",
   "metadata": {},
   "source": [
    "## Now Compare\n",
    "\n",
    "The genie unfolded spectra should be within the uncertainties of the nuWro unfolded spectra"
   ]
  },
  {
   "cell_type": "markdown",
   "id": "e3c24c05",
   "metadata": {},
   "source": [
    "###############\n",
    "###NUE######\n",
    "#############\n",
    "\n",
    "errors_fig = plt.figure(figsize=(8, 7))\n",
    "errors_gs = gridspec.GridSpec(2, 1, height_ratios=[2, 1])\n",
    "errors_ax1 = plt.subplot(errors_gs[0])\n",
    "\n",
    "\n",
    "bins = np.arange(-1, 1.2, 0.2)\n",
    "count = [-0.9, -0.7, -0.5, -0.3, -0.1, 0.1, 0.3, 0.5, 0.7, 0.9]\n",
    "\n",
    "#print(bincenters)\n",
    "sel = errors_ax1.hist(count, bins, color='deepskyblue', weights=nuWro_xsec_nue_events, alpha = 0.4, label=\"nuWro\")  # , weights=xsec_ratio_events\n",
    "\n",
    "errors = errors_ax1.bar(bincenters, nuWro_xsec_nue_errs*2,width=[n*2 for n in bin_size],facecolor='tab:green',alpha=0.2,bottom=(nuWro_lower_err))\n",
    "\n",
    "#sel_nue = errors_ax1.hist(count, bins, edgecolor='blue', facecolor='None', weights=nuWro_xsec_nue_events, label='nuWro')\n",
    "sel_numu = errors_ax1.hist(count, bins, edgecolor='red', facecolor='None', weights=genie_xsec_nue_events, label='genie')\n",
    "\n",
    "errors = errors_ax1.bar(bincenters, genie_xsec_nue_errs*2,width=[n*2 for n in bin_size],facecolor='tab:orange',alpha=0.2,bottom=(genie_lower_err))\n",
    "\n",
    "\n",
    "errors_ax1.set_ylabel('xsec [cm^2 / GeV / nucleon]', fontsize=15)\n",
    "errors_ax1.set_xlabel('cos(True Lepton Angle)', fontsize=15)\n",
    "errors_ax1.set_title(\"Unfolded Comparison\")\n",
    "leg = errors_ax1.legend()\n",
    "\n",
    "errors_ax1.set_ylim([0, 8e-40])"
   ]
  },
  {
   "cell_type": "markdown",
   "id": "21fc5a42",
   "metadata": {},
   "source": [
    "for i in np.arange(len(genie_xsec_nue_events)):\n",
    "    if ((genie_xsec_nue_events[i] < nuWro_xsec_nue_events[i] + nuWro_xsec_nue_errs[i]) and (genie_xsec_nue_events[i] > nuWro_xsec_nue_events[i] - nuWro_xsec_nue_errs[i])):\n",
    "        print(\"Inside\")\n",
    "        print(\"\")\n",
    "    else:\n",
    "        print(\"outside\")\n",
    "        print(\"value is (genie) = \", genie_xsec_nue_events[i])\n",
    "        print(\"top of err = \", nuWro_xsec_nue_events[i] + nuWro_xsec_nue_errs[i])\n",
    "        print(\"bot of err = \", nuWro_xsec_nue_events[i] - nuWro_xsec_nue_errs[i])\n",
    "        print(\"\")"
   ]
  },
  {
   "cell_type": "markdown",
   "id": "28c9f5e2",
   "metadata": {},
   "source": [
    "for i in np.arange(len(nuWro_xsec_nue_events)):\n",
    "    if ((nuWro_xsec_nue_events[i] < genie_xsec_nue_events[i] + genie_xsec_nue_errs[i]) and (nuWro_xsec_nue_events[i] > genie_xsec_nue_events[i] - genie_xsec_nue_errs[i])):\n",
    "        print(\"Inside\")\n",
    "        print(\"\")\n",
    "    else:\n",
    "        print(\"outside\")\n",
    "        print(\"value is (genie) = \", nuWro_xsec_nue_events[i])\n",
    "        print(\"top of err = \", genie_xsec_nue_events[i] + genie_xsec_nue_errs[i])\n",
    "        print(\"bot of err = \", genie_xsec_nue_events[i] - genie_xsec_nue_errs[i])\n",
    "        print(\"\")"
   ]
  },
  {
   "cell_type": "markdown",
   "id": "7819a9bd",
   "metadata": {},
   "source": [
    "diff = 7.723562394053671e-41 - 7.480422350351412e-41\n",
    "\n",
    "fractional_diff = diff/7.480422350351412e-41\n",
    "\n",
    "print(fractional_diff)"
   ]
  },
  {
   "cell_type": "markdown",
   "id": "a559af0c",
   "metadata": {},
   "source": [
    "###############\n",
    "###NUMU######\n",
    "#############\n",
    "\n",
    "errors_fig = plt.figure(figsize=(8, 7))\n",
    "errors_gs = gridspec.GridSpec(2, 1, height_ratios=[2, 1])\n",
    "errors_ax1 = plt.subplot(errors_gs[0])\n",
    "\n",
    "\n",
    "bins = np.arange(-1, 1.2, 0.2)\n",
    "count = [-0.9, -0.7, -0.5, -0.3, -0.1, 0.1, 0.3, 0.5, 0.7, 0.9]\n",
    "\n",
    "#print(bincenters)\n",
    "sel = errors_ax1.hist(count, bins, color='deepskyblue', weights=nuWro_xsec_numu_events, alpha = 0.4, label=\"nuWro\")  # , weights=xsec_ratio_events\n",
    "\n",
    "errors = errors_ax1.bar(bincenters, nuWro_xsec_numu_errs*2,width=[n*2 for n in bin_size],facecolor='tab:green',alpha=0.2,bottom=(nuWro_lower_err_numu))\n",
    "\n",
    "#sel_nue = errors_ax1.hist(count, bins, edgecolor='blue', facecolor='None', weights=nuWro_xsec_nue_events, label='nuWro')\n",
    "sel_numu = errors_ax1.hist(count, bins, edgecolor='red', facecolor='None', weights=genie_xsec_numu_events, label='genie')\n",
    "\n",
    "errors = errors_ax1.bar(bincenters, genie_xsec_numu_errs*2,width=[n*2 for n in bin_size],facecolor='tab:orange',alpha=0.2,bottom=(genie_lower_err_numu))\n",
    "\n",
    "print(genie_xsec_numu_errs)\n",
    "print(nuWro_xsec_numu_errs)\n",
    "\n",
    "errors_ax1.set_ylabel('xsec [cm^2 / GeV / nucleon]', fontsize=15)\n",
    "errors_ax1.set_xlabel('cos(True Lepton Angle)', fontsize=15)\n",
    "errors_ax1.set_title(\"Unfolded Comparison\")\n",
    "leg = errors_ax1.legend()\n",
    "\n",
    "errors_ax1.set_ylim([0, 1e-40])"
   ]
  },
  {
   "cell_type": "markdown",
   "id": "a018770a",
   "metadata": {},
   "source": [
    "for i in np.arange(len(genie_xsec_numu_events)):\n",
    "    if ((genie_xsec_numu_events[i] < nuWro_xsec_numu_events[i] + nuWro_xsec_numu_errs[i]) and (genie_xsec_numu_events[i] > nuWro_xsec_numu_events[i] - nuWro_xsec_numu_errs[i])):\n",
    "        print(\"Inside\")\n",
    "        print(\"\")\n",
    "    else:\n",
    "        print(\"outside\")\n",
    "        print(\"value is (genie) = \", genie_xsec_numu_events[i])\n",
    "        print(\"top of err = \", nuWro_xsec_numu_events[i] + nuWro_xsec_numu_errs[i])\n",
    "        print(\"bot of err = \", nuWro_xsec_numu_events[i] - nuWro_xsec_numu_errs[i])\n",
    "        print(\"\")"
   ]
  },
  {
   "cell_type": "markdown",
   "id": "c686e4b0",
   "metadata": {},
   "source": [
    "###############\n",
    "###RATIO######\n",
    "#############\n",
    "\n",
    "errors_fig = plt.figure(figsize=(8, 7))\n",
    "errors_gs = gridspec.GridSpec(2, 1, height_ratios=[2, 1])\n",
    "errors_ax1 = plt.subplot(errors_gs[0])\n",
    "\n",
    "\n",
    "bins = np.arange(-1, 1.2, 0.2)\n",
    "count = [-0.9, -0.7, -0.5, -0.3, -0.1, 0.1, 0.3, 0.5, 0.7, 0.9]\n",
    "\n",
    "#print(bincenters)\n",
    "sel = errors_ax1.hist(count, bins, color='deepskyblue', weights=nuWro_xsec_ratio_events, alpha = 0.4, label=\"nuWro\")  # , weights=xsec_ratio_events\n",
    "\n",
    "errors = errors_ax1.bar(bincenters, nuWro_xsec_ratio_errs*2,width=[n*2 for n in bin_size],facecolor='tab:green',alpha=0.2,bottom=(nuWro_lower_err_ratio))\n",
    "\n",
    "\n",
    "\n",
    "#sel_nue = errors_ax1.hist(count, bins, edgecolor='blue', facecolor='None', weights=nuWro_xsec_nue_events, label='nuWro')\n",
    "sel_numu = errors_ax1.hist(count, bins, edgecolor='red', facecolor='None', weights=genie_xsec_ratio_events, label='genie')\n",
    "\n",
    "errors = errors_ax1.bar(bincenters, genie_xsec_ratio_errs*2,width=[n*2 for n in bin_size],facecolor='tab:orange',alpha=0.2,bottom=(genie_lower_err_ratio))\n",
    "\n",
    "\n",
    "errors_ax1.set_ylabel('xsec [cm^2 / GeV / nucleon]', fontsize=15)\n",
    "errors_ax1.set_xlabel('cos(True Lepton Angle)', fontsize=15)\n",
    "errors_ax1.set_title(\"Unfolded Comparison\")\n",
    "leg = errors_ax1.legend()\n",
    "\n",
    "#errors_ax1.set_ylim([0, 5e-40])"
   ]
  },
  {
   "cell_type": "markdown",
   "id": "62ad689a",
   "metadata": {},
   "source": [
    "for i in np.arange(len(genie_xsec_ratio_events)):\n",
    "    if ((genie_xsec_ratio_events[i] < nuWro_xsec_ratio_events[i] + nuWro_xsec_ratio_errs[i]) and (genie_xsec_ratio_events[i] > nuWro_xsec_ratio_events[i] - nuWro_xsec_ratio_errs[i])):\n",
    "        print(\"Inside\")\n",
    "        print(\"\")\n",
    "    else:\n",
    "        print(\"outside\")\n",
    "        print(\"value is (genie) = \", genie_xsec_ratio_events[i])\n",
    "        print(\"top of err = \", nuWro_xsec_ratio_events[i] + nuWro_xsec_ratio_errs[i])\n",
    "        print(\"bot of err = \", nuWro_xsec_ratio_events[i] - nuWro_xsec_ratio_errs[i])\n",
    "        print(\"\")"
   ]
  },
  {
   "cell_type": "markdown",
   "id": "9de93c27",
   "metadata": {},
   "source": [
    "## Try without xsec units "
   ]
  },
  {
   "cell_type": "markdown",
   "id": "360d03ef",
   "metadata": {},
   "source": [
    "print(genie_events)\n",
    "print(genie_errors)\n",
    "print(\"\")\n",
    "print(nuWro_events)\n",
    "print(nuWro_errs)"
   ]
  },
  {
   "cell_type": "markdown",
   "id": "aaf0b337",
   "metadata": {},
   "source": [
    "###############\n",
    "###NUE######\n",
    "#############\n",
    "\n",
    "nue_unf_fig = plt.figure(figsize=(8, 7))\n",
    "nue_unf_gs = gridspec.GridSpec(2, 1, height_ratios=[2, 1])\n",
    "nue_unf_ax1 = plt.subplot(nue_unf_gs[0])\n",
    "\n",
    "\n",
    "#bins = np.arange(-1, 1.2, 0.2)\n",
    "#count = [-0.9, -0.7, -0.5, -0.3, -0.1, 0.1, 0.3, 0.5, 0.7, 0.9]\n",
    "\n",
    "bins = np.arange(0, 21, 1)\n",
    "count = np.arange(0.0, 20.0, 1)\n",
    "bincenters = np.arange(0.5, 20.5, 1)\n",
    "bin_size = [0.5]*20\n",
    "\n",
    "print(np.array(nuWro_events) - np.array(nuWro_errs))\n",
    "\n",
    "#print(bincenters)\n",
    "sel = nue_unf_ax1.hist(count, bins, color='deepskyblue', weights=nuWro_events, alpha = 0.4, label=\"nuWro\")  # , weights=xsec_ratio_events\n",
    "\n",
    "errors = nue_unf_ax1.bar(bincenters, np.array(nuWro_errs)*2,width=[n*2 for n in bin_size],facecolor='tab:green',alpha=0.2,bottom=(np.array(nuWro_events) - np.array(nuWro_errs)))\n",
    "\n",
    "#sel_nue = errors_ax1.hist(count, bins, edgecolor='blue', facecolor='None', weights=nuWro_xsec_nue_events, label='nuWro')\n",
    "sel_numu = nue_unf_ax1.hist(count, bins, edgecolor='red', facecolor='None', weights=genie_events, label='genie')\n",
    "\n",
    "errors = nue_unf_ax1.bar(bincenters, np.array(genie_errors)*2,width=[n*2 for n in bin_size],facecolor='tab:orange',alpha=0.2,bottom=(np.array(genie_events) - np.array(genie_errors)))\n",
    "\n",
    "\n",
    "nue_unf_ax1.set_ylabel('count', fontsize=15)\n",
    "nue_unf_ax1.set_xlabel('bins', fontsize=15)\n",
    "nue_unf_ax1.set_title(\"Unfolded Comparison\")\n",
    "leg = nue_unf_ax1.legend()\n",
    "\n",
    "nue_unf_ax1.set_ylim([150, 1500])"
   ]
  },
  {
   "cell_type": "markdown",
   "id": "bbdfae62",
   "metadata": {},
   "source": [
    "## Actual comparison needed\n",
    "\n",
    "Need to compare the unfolded signal w/err to the nuWro true selected signal x Ac"
   ]
  },
  {
   "cell_type": "code",
   "execution_count": 11,
   "id": "04f5f3b2",
   "metadata": {},
   "outputs": [
    {
     "name": "stdout",
     "output_type": "stream",
     "text": [
      "[35.8255, 25.4887, 52.1002, 37.2284, 53.4977, 70.8953, 85.1695, 134.76, 260.831, 731.886, 656.883, 659.571, 835.604, 1062.0, 1166.63, 1717.67, 2170.18, 3335.24, 5564.83, 15773.6]\n",
      "[31.0238, 11.3728, 28.637, 21.9208, 9.94891, 14.704, 13.4801, 19.6304, 41.3182, 169.807, 151.894, 164.23, 131.756, 145.965, 190.361, 285.973, 345.867, 551.552, 1082.7, 4310.17]\n"
     ]
    }
   ],
   "source": [
    "print(nuWro_events)\n",
    "print(nuWro_errs)"
   ]
  },
  {
   "cell_type": "code",
   "execution_count": 12,
   "id": "82ea3ff2",
   "metadata": {},
   "outputs": [
    {
     "data": {
      "image/png": "[encoded data removed]",
      "text/plain": [
       "<Figure size 576x504 with 1 Axes>"
      ]
     },
     "metadata": {
      "needs_background": "light"
     },
     "output_type": "display_data"
    }
   ],
   "source": [
    "###############\n",
    "###BOTH######\n",
    "#############\n",
    "\n",
    "nue_unf_fig = plt.figure(figsize=(8, 7))\n",
    "nue_unf_gs = gridspec.GridSpec(2, 1, height_ratios=[2, 1])\n",
    "nue_unf_ax1 = plt.subplot(nue_unf_gs[0])\n",
    "\n",
    "\n",
    "#bins = np.arange(-1, 1.2, 0.2)\n",
    "#count = [-0.9, -0.7, -0.5, -0.3, -0.1, 0.1, 0.3, 0.5, 0.7, 0.9]\n",
    "\n",
    "bins = np.arange(0, 21, 1)\n",
    "count = np.arange(0.0, 20.0, 1)\n",
    "bincenters = np.arange(0.5, 20.5, 1)\n",
    "bin_size = [0.5]*20\n",
    "\n",
    "#print(np.array(nuWro_events) - np.array(nuWro_errs))\n",
    "\n",
    "#print(bincenters)\n",
    "sel = nue_unf_ax1.hist(count, bins, color='deepskyblue', weights=nuWro_events, alpha = 0.4, label=\"Unfolded noTune\")  # , weights=xsec_ratio_events\n",
    "\n",
    "errors = nue_unf_ax1.bar(bincenters, np.array(nuWro_errs)*2,width=[n*2 for n in bin_size],facecolor='tab:green',alpha=0.2,bottom=(np.array(nuWro_events) - np.array(nuWro_errs)))\n",
    "\n",
    "\n",
    "nue_unf_ax1.set_ylabel('count', fontsize=15)\n",
    "nue_unf_ax1.set_xlabel('bins', fontsize=15)\n",
    "nue_unf_ax1.set_title(\"Unfolded Comparison\")\n",
    "leg = nue_unf_ax1.legend()\n",
    "\n",
    "#nue_unf_ax1.set_ylim([0, 1500])"
   ]
  },
  {
   "cell_type": "code",
   "execution_count": 13,
   "id": "9050417d",
   "metadata": {},
   "outputs": [
    {
     "name": "stdout",
     "output_type": "stream",
     "text": [
      "[ 32.91529703  37.04892567  44.45810559  51.06905151  63.01414496\n",
      "  79.37087028 107.30212544 159.37926292 272.61179072 724.62339593]\n",
      "\n",
      "[  714.248705     864.75610393  1011.56096758  1209.78105253\n",
      "  1441.40505583  1808.01813696  2319.71625426  3309.45952684\n",
      "  5405.29610724 15232.55775281]\n"
     ]
    }
   ],
   "source": [
    "ending = \"Dec19_MECTune\"\n",
    "\n",
    "nue_nuWro_true = pd.read_csv(\"nue_full_500_catsel_nopions_angleDiff_usingSelection_prior_true_signal_MECTune_recoCut_comb_\"+ending+\".csv\", header=None)\n",
    "\n",
    "nue_nuWro_true = nue_nuWro_true.values[:, 0]\n",
    "print(nue_nuWro_true)\n",
    "print(\"\")\n",
    "#########################################\n",
    "\n",
    "numu_nuWro_true = pd.read_csv(\"numu_full_500_catsel_nopions_angleDiff_usingSelection_prior_true_signal_MECTune_recoCut_comb_\"+ending+\".csv\", header=None)\n",
    "\n",
    "numu_nuWro_true = numu_nuWro_true.values[:, 0]\n",
    "print(numu_nuWro_true)"
   ]
  },
  {
   "cell_type": "code",
   "execution_count": 16,
   "id": "fbe1b368",
   "metadata": {},
   "outputs": [
    {
     "data": {
      "text/plain": [
       "'\\n#nue_nuWro_true_err = pd.read_csv(\"nue_prior_true_err_squared_angle_comb_\"+ending+\".csv\", header=None)\\nnue_nuWro_true_err = pd.read_csv(\"nue_prior_true_err_genie_stat_only_angle_comb_\"+ending+\".csv\", header=None)\\n\\nnue_nuWro_true_err = nue_nuWro_true_err.values[:, 0]\\nprint(nue_nuWro_true_err)\\nprint(\"\")\\n###############################\\n\\n#numu_nuWro_true_err = pd.read_csv(\"numu_prior_true_err_squared_angle_comb_\"+ending+\".csv\", header=None)\\nnumu_nuWro_true_err = pd.read_csv(\"numu_prior_true_err_genie_stat_only_angle_comb_\"+ending+\".csv\", header=None)\\n\\n\\nnumu_nuWro_true_err = numu_nuWro_true_err.values[:, 0]\\nprint(numu_nuWro_true_err)\\n'"
      ]
     },
     "execution_count": 16,
     "metadata": {},
     "output_type": "execute_result"
    }
   ],
   "source": [
    "#Get the true errs\n",
    "\"\"\"\n",
    "#nue_nuWro_true_err = pd.read_csv(\"nue_prior_true_err_squared_angle_comb_\"+ending+\".csv\", header=None)\n",
    "nue_nuWro_true_err = pd.read_csv(\"nue_prior_true_err_genie_stat_only_angle_comb_\"+ending+\".csv\", header=None)\n",
    "\n",
    "nue_nuWro_true_err = nue_nuWro_true_err.values[:, 0]\n",
    "print(nue_nuWro_true_err)\n",
    "print(\"\")\n",
    "###############################\n",
    "\n",
    "#numu_nuWro_true_err = pd.read_csv(\"numu_prior_true_err_squared_angle_comb_\"+ending+\".csv\", header=None)\n",
    "numu_nuWro_true_err = pd.read_csv(\"numu_prior_true_err_genie_stat_only_angle_comb_\"+ending+\".csv\", header=None)\n",
    "\n",
    "\n",
    "numu_nuWro_true_err = numu_nuWro_true_err.values[:, 0]\n",
    "print(numu_nuWro_true_err)\n",
    "\"\"\""
   ]
  },
  {
   "cell_type": "code",
   "execution_count": 14,
   "id": "6064df76",
   "metadata": {},
   "outputs": [
    {
     "name": "stdout",
     "output_type": "stream",
     "text": [
      "[   32.91529703    37.04892567    44.45810559    51.06905151\n",
      "    63.01414496    79.37087028   107.30212544   159.37926292\n",
      "   272.61179072   724.62339593   714.248705     864.75610393\n",
      "  1011.56096758  1209.78105253  1441.40505583  1808.01813696\n",
      "  2319.71625426  3309.45952684  5405.29610724 15232.55775281]\n",
      "\n"
     ]
    }
   ],
   "source": [
    "nue_numu_tot_nuWro_true = np.concatenate((nue_nuWro_true, numu_nuWro_true), axis=0)\n",
    "\n",
    "print(nue_numu_tot_nuWro_true)\n",
    "\n",
    "##################################\n",
    "print(\"\")\n",
    "\n",
    "#nue_numu_tot_nuWro_true_err = np.concatenate((nue_nuWro_true_err, numu_nuWro_true_err), axis=0)\n",
    "\n",
    "#print(nue_numu_tot_nuWro_true_err)"
   ]
  },
  {
   "cell_type": "code",
   "execution_count": 15,
   "id": "f250fb8f",
   "metadata": {},
   "outputs": [
    {
     "name": "stdout",
     "output_type": "stream",
     "text": [
      "Prior_Truth x AC: \n",
      "[   33.68915368    26.06305992    54.81627449    33.41367062\n",
      "    53.70252076    74.771895      85.40642892   134.06255402\n",
      "   249.80381053   663.31830368   673.47585184   719.26273436\n",
      "   858.05288212  1049.76809386  1220.5253984   1618.16852688\n",
      "  2060.93590028  3103.58790434  4985.67671604 13143.40257033]\n",
      "\n",
      "\n",
      "Unfolding Done with MC Data Signal: \n",
      "[35.8255, 25.4887, 52.1002, 37.2284, 53.4977, 70.8953, 85.1695, 134.76, 260.831, 731.886, 656.883, 659.571, 835.604, 1062.0, 1166.63, 1717.67, 2170.18, 3335.24, 5564.83, 15773.6]\n",
      "\n",
      "\n",
      "Difference\n",
      "[-2.13634632e+00  5.74359920e-01  2.71607449e+00 -3.81472938e+00\n",
      "  2.04820758e-01  3.87659500e+00  2.36928916e-01 -6.97445976e-01\n",
      " -1.10271895e+01 -6.85676963e+01  1.65928518e+01  5.96917344e+01\n",
      "  2.24488821e+01 -1.22319061e+01  5.38953984e+01 -9.95014731e+01\n",
      " -1.09244100e+02 -2.31652096e+02 -5.79153284e+02 -2.63019743e+03]\n",
      "\n",
      "[ -6.34134756   2.20373172   4.95486881 -11.41667261   0.38139878\n",
      "   5.18456166   0.27741344  -0.52023921  -4.41433998 -10.33707286\n",
      "   2.46376344   8.29901669   2.61625858  -1.16520079   4.41575394\n",
      "  -6.14901795  -5.30070342  -7.46400949 -11.61634251 -20.01154127]\n"
     ]
    }
   ],
   "source": [
    "#Now smear it by Ac\n",
    "\n",
    "smeared_nuWro = np.dot(nue_numu_tot_nuWro_true, nuWro_Ac)\n",
    "#smeared_nuWro = np.dot(prior_true_nuWro, nuWro_Ac)\n",
    "print(\"Prior_Truth x AC: \")\n",
    "print(smeared_nuWro)\n",
    "print(\"\")\n",
    "print(\"\")\n",
    "print(\"Unfolding Done with MC Data Signal: \")\n",
    "print(nuWro_events)\n",
    "print(\"\")\n",
    "\n",
    "diff = smeared_nuWro - events\n",
    "print(\"\")\n",
    "print(\"Difference\")\n",
    "print(diff)\n",
    "\n",
    "#for i in made_data_sig:\n",
    "#    print(i)\n",
    "\n",
    "print(\"\")\n",
    "diffasfrac = np.nan_to_num(diff/smeared_nuWro)\n",
    "print(diffasfrac*100)"
   ]
  },
  {
   "cell_type": "code",
   "execution_count": 20,
   "id": "d5d14582",
   "metadata": {},
   "outputs": [],
   "source": [
    "#smeared_nuWro_err = np.dot(nue_numu_tot_nuWro_true_err, nuWro_Ac)\n",
    "#smeared_nuWro = np.dot(prior_true_nuWro, nuWro_Ac)\n",
    "#print(\"Err x AC: \")\n",
    "#print(smeared_nuWro_err)\n",
    "#print(\"\")\n",
    "#print(\"\")\n"
   ]
  },
  {
   "cell_type": "code",
   "execution_count": 16,
   "id": "18129eff",
   "metadata": {},
   "outputs": [
    {
     "name": "stdout",
     "output_type": "stream",
     "text": [
      "unfolded =  [   35.8255    25.4887    52.1002    37.2284    53.4977    70.8953\n",
      "    85.1695   134.76     260.831    731.886    656.883    659.571\n",
      "   835.604   1062.      1166.63    1717.67    2170.18    3335.24\n",
      "  5564.83   15773.6   ]\n",
      "smeared =  [   33.68915368    26.06305992    54.81627449    33.41367062\n",
      "    53.70252076    74.771895      85.40642892   134.06255402\n",
      "   249.80381053   663.31830368   673.47585184   719.26273436\n",
      "   858.05288212  1049.76809386  1220.5253984   1618.16852688\n",
      "  2060.93590028  3103.58790434  4985.67671604 13143.40257033]\n"
     ]
    },
    {
     "data": {
      "image/png": "[encoded data removed]",
      "text/plain": [
       "<Figure size 576x504 with 1 Axes>"
      ]
     },
     "metadata": {
      "needs_background": "light"
     },
     "output_type": "display_data"
    }
   ],
   "source": [
    "###############\n",
    "###NUE######\n",
    "#############\n",
    "\n",
    "nue_unf_fig = plt.figure(figsize=(8, 7))\n",
    "nue_unf_gs = gridspec.GridSpec(2, 1, height_ratios=[2, 1])\n",
    "nue_unf_ax1 = plt.subplot(nue_unf_gs[0])\n",
    "\n",
    "\n",
    "#bins = np.arange(-1, 1.2, 0.2)\n",
    "#count = [-0.9, -0.7, -0.5, -0.3, -0.1, 0.1, 0.3, 0.5, 0.7, 0.9]\n",
    "\n",
    "bins = np.arange(0, 21, 1)\n",
    "count = np.arange(0.0, 20.0, 1)\n",
    "bincenters = np.arange(0.5, 20.5, 1)\n",
    "bin_size = [0.5]*20\n",
    "\n",
    "#print(np.array(nuWro_events) - np.array(nuWro_errs))\n",
    "\n",
    "#print(bincenters)\n",
    "f_obs = nue_unf_ax1.hist(count, bins, color='deepskyblue', weights=nuWro_events, alpha = 0.4, label=\"unfolded MECTune\")  # , weights=xsec_ratio_events\n",
    "\n",
    "errors = nue_unf_ax1.bar(bincenters, np.array(nuWro_errs)*2,width=[n*2 for n in bin_size],facecolor='tab:green',alpha=0.2,bottom=(np.array(nuWro_events) - np.array(nuWro_errs)))\n",
    "\n",
    "f_exp = nue_unf_ax1.hist(count, bins, edgecolor='red', facecolor='None', weights=smeared_nuWro, label='MECTune Prior True x Ac')\n",
    "#errors = nue_unf_ax1.bar(bincenters, np.array((nue_numu_tot_nuWro_true_err))*2,width=[n*2 for n in bin_size],facecolor='tab:orange',alpha=0.2,bottom=(np.array(smeared_nuWro) - np.array((nue_numu_tot_nuWro_true_err))))\n",
    "#errors = nue_unf_ax1.bar(bincenters, np.array((smeared_nuWro_err))*2,width=[n*2 for n in bin_size],facecolor='tab:orange',alpha=0.2,bottom=(np.array(smeared_nuWro) - np.array((smeared_nuWro_err))))\n",
    "\n",
    "\n",
    "print(\"unfolded = \", f_obs[0])\n",
    "print(\"smeared = \", f_exp[0])\n",
    "\n",
    "nue_unf_ax1.set_ylabel('count', fontsize=15)\n",
    "nue_unf_ax1.set_xlabel('bins', fontsize=15)\n",
    "nue_unf_ax1.set_title(\"Unfolded Comparison\")\n",
    "leg = nue_unf_ax1.legend()\n",
    "\n",
    "#nue_unf_ax1.set_ylim([0, 700])\n",
    "\n",
    "nue_unf_fig.savefig(\"unfolded_MC_MECTune_output_angleDiff_comb_\"+ending+\".svg\", bbox_inches='tight')"
   ]
  },
  {
   "cell_type": "code",
   "execution_count": 22,
   "id": "0d2689e6",
   "metadata": {},
   "outputs": [
    {
     "name": "stdout",
     "output_type": "stream",
     "text": [
      "Dec19_MECTune\n"
     ]
    }
   ],
   "source": [
    "np.savetxt(\"data_signal_MC_MECTune_chi2_angleDiff_comb_\"+ending+\".csv\", \n",
    "               nuWro_events,\n",
    "               delimiter =\", \", \n",
    "               fmt ='% s')\n",
    "\n",
    "np.savetxt(\"prior_true_MC_MECTune_chi2_angleDiff_comb_\"+ending+\".csv\", \n",
    "               smeared_nuWro,\n",
    "               delimiter =\", \", \n",
    "               fmt ='% s')\n",
    "\n",
    "print(ending)"
   ]
  },
  {
   "cell_type": "code",
   "execution_count": 24,
   "id": "e8622ad9",
   "metadata": {},
   "outputs": [
    {
     "data": {
      "text/plain": [
       "'\\nstart1 = np.array(smeared_nuWro) - np.array((nue_numu_tot_nuWro_true_err))\\nend1 = np.array(smeared_nuWro) + np.array((nue_numu_tot_nuWro_true_err))\\n\\nstart2 = np.array(nuWro_events) - np.array((nuWro_errs))\\nend2 = np.array(nuWro_events) + np.array((nuWro_errs))\\n#print(top)\\n#print(minus)\\n\\ndef overlap(start1, end1, start2, end2):\\n    #Does the range (start1, end1) overlap with (start2, end2)?\\n    return end1 >= start2 and end2 >= start1\\n\\n\\nfor i in np.arange(len(smeared_nuWro)):\\n    print(overlap(start1[i], end1[i], start2[i], end2[i]))\\n    '"
      ]
     },
     "execution_count": 24,
     "metadata": {},
     "output_type": "execute_result"
    }
   ],
   "source": [
    "\"\"\"\n",
    "start1 = np.array(smeared_nuWro) - np.array((nue_numu_tot_nuWro_true_err))\n",
    "end1 = np.array(smeared_nuWro) + np.array((nue_numu_tot_nuWro_true_err))\n",
    "\n",
    "start2 = np.array(nuWro_events) - np.array((nuWro_errs))\n",
    "end2 = np.array(nuWro_events) + np.array((nuWro_errs))\n",
    "#print(top)\n",
    "#print(minus)\n",
    "\n",
    "def overlap(start1, end1, start2, end2):\n",
    "    #Does the range (start1, end1) overlap with (start2, end2)?\n",
    "    return end1 >= start2 and end2 >= start1\n",
    "\n",
    "\n",
    "for i in np.arange(len(smeared_nuWro)):\n",
    "    print(overlap(start1[i], end1[i], start2[i], end2[i]))\n",
    "    \"\"\""
   ]
  },
  {
   "cell_type": "code",
   "execution_count": 25,
   "id": "9077e8e8",
   "metadata": {},
   "outputs": [
    {
     "name": "stdout",
     "output_type": "stream",
     "text": [
      "bin =  0\n",
      "Inside\n",
      "\n",
      "bin =  1\n",
      "Inside\n",
      "\n",
      "bin =  2\n",
      "Inside\n",
      "\n",
      "bin =  3\n",
      "Inside\n",
      "\n",
      "bin =  4\n",
      "Inside\n",
      "\n",
      "bin =  5\n",
      "Inside\n",
      "\n",
      "bin =  6\n",
      "Inside\n",
      "\n",
      "bin =  7\n",
      "Inside\n",
      "\n",
      "bin =  8\n",
      "Inside\n",
      "\n",
      "bin =  9\n",
      "Inside\n",
      "\n",
      "bin =  10\n",
      "Inside\n",
      "\n",
      "bin =  11\n",
      "Inside\n",
      "\n",
      "bin =  12\n",
      "Inside\n",
      "\n",
      "bin =  13\n",
      "Inside\n",
      "\n",
      "bin =  14\n",
      "Inside\n",
      "\n",
      "bin =  15\n",
      "Inside\n",
      "\n",
      "bin =  16\n",
      "Inside\n",
      "\n",
      "bin =  17\n",
      "Inside\n",
      "\n",
      "bin =  18\n",
      "Inside\n",
      "\n",
      "bin =  19\n",
      "Inside\n",
      "\n"
     ]
    }
   ],
   "source": [
    "for i in np.arange(len(smeared_nuWro)):\n",
    "    print(\"bin = \", i)\n",
    "    if( ((smeared_nuWro[i] < nuWro_events[i] + nuWro_errs[i]) and (smeared_nuWro[i] > nuWro_events[i] - nuWro_errs[i]))): #or ((nuWro_events[i] < smeared_nuWro[i] + nue_numu_tot_nuWro_true_err[i]) and (nuWro_events[i] > smeared_nuWro[i] - nue_numu_tot_nuWro_true_err[i])) ):\n",
    "        print(\"Inside\")\n",
    "        print(\"\")\n",
    "    else:\n",
    "        print(\"outside\")\n",
    "        print(\"value is (genie) = \", smeared_nuWro[i])\n",
    "        print(\"top of err = \", nuWro_events[i] + nuWro_errs[i])\n",
    "        print(\"bot of err = \", nuWro_events[i] - nuWro_errs[i])\n",
    "        print(\"\")"
   ]
  },
  {
   "cell_type": "code",
   "execution_count": null,
   "id": "1b02d84c",
   "metadata": {},
   "outputs": [],
   "source": []
  },
  {
   "cell_type": "code",
   "execution_count": 26,
   "id": "38ea3043",
   "metadata": {},
   "outputs": [],
   "source": [
    "f_obs = f_obs[0]\n",
    "f_exp = f_exp[0]"
   ]
  },
  {
   "cell_type": "code",
   "execution_count": 27,
   "id": "dadb53e5",
   "metadata": {},
   "outputs": [
    {
     "name": "stdout",
     "output_type": "stream",
     "text": [
      "639.790392948536\n"
     ]
    }
   ],
   "source": [
    "hold = []\n",
    "\n",
    "#for i in range(len(f_obs)):\n",
    "for i in range(20):\n",
    "    braket = (f_obs[i] - f_exp[i])\n",
    "    num = (braket*braket)/f_exp[i]\n",
    "    hold.append(num)\n",
    "    \n",
    "print(sum(hold))\n",
    "chi_squared_stat = sum(hold)"
   ]
  },
  {
   "cell_type": "code",
   "execution_count": 28,
   "id": "ef664a42",
   "metadata": {},
   "outputs": [
    {
     "data": {
      "text/plain": [
       "406.30480132665537"
      ]
     },
     "execution_count": 28,
     "metadata": {},
     "output_type": "execute_result"
    }
   ],
   "source": [
    "####Crital value - what the chi sqaured value must be below for a P value fo this significance\n",
    "import scipy.stats as sp\n",
    "\n",
    "#deg_of_free = (len(f_obs)-1)*(len(f_obs)-1)\n",
    "deg_of_free = 19*19\n",
    "\n",
    "sp.chi2.ppf(q = 0.95, df = deg_of_free)"
   ]
  },
  {
   "cell_type": "code",
   "execution_count": 29,
   "id": "963fd2c6",
   "metadata": {},
   "outputs": [
    {
     "name": "stdout",
     "output_type": "stream",
     "text": [
      "P value: 0.0\n"
     ]
    }
   ],
   "source": [
    "p_value = 1 - sp.chi2.cdf(x=chi_squared_stat,  # Find the p-value\n",
    "                             df=deg_of_free)\n",
    "print(\"P value:\",p_value)"
   ]
  },
  {
   "cell_type": "code",
   "execution_count": 27,
   "id": "40faf454",
   "metadata": {},
   "outputs": [],
   "source": [
    "####It's a really good value up until 19, but adding bin 20 kicks it out"
   ]
  },
  {
   "cell_type": "code",
   "execution_count": null,
   "id": "05314717",
   "metadata": {},
   "outputs": [],
   "source": []
  },
  {
   "cell_type": "markdown",
   "id": "f0978fef",
   "metadata": {},
   "source": [
    "## Values from Steven's Code which takes uncertainty into account\n",
    "\n",
    "chi2 =  1.35327\n",
    "\n",
    "num_bins =  20\n",
    "\n",
    "dof =  19\n",
    "\n",
    "p_value =  1"
   ]
  },
  {
   "cell_type": "code",
   "execution_count": 30,
   "id": "3280deea",
   "metadata": {},
   "outputs": [
    {
     "data": {
      "text/plain": [
       "15.35166026260527"
      ]
     },
     "execution_count": 30,
     "metadata": {},
     "output_type": "execute_result"
    }
   ],
   "source": [
    "sp.chi2.ppf(q = 0.3, df = 19)"
   ]
  },
  {
   "cell_type": "code",
   "execution_count": null,
   "id": "7f6d68f4",
   "metadata": {},
   "outputs": [],
   "source": []
  }
 ],
 "metadata": {
  "kernelspec": {
   "display_name": "Python 3 (ipykernel)",
   "language": "python",
   "name": "python3"
  },
  "language_info": {
   "codemirror_mode": {
    "name": "ipython",
    "version": 3
   },
   "file_extension": ".py",
   "mimetype": "text/x-python",
   "name": "python",
   "nbconvert_exporter": "python",
   "pygments_lexer": "ipython3",
   "version": "3.8.12"
  }
 },
 "nbformat": 4,
 "nbformat_minor": 5
}
