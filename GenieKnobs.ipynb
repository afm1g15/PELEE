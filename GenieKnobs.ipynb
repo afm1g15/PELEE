{
 "cells": [
  {
   "cell_type": "markdown",
   "metadata": {},
   "source": [
    "# Study the effect of the GENIE knobs"
   ]
  },
  {
   "cell_type": "code",
   "execution_count": null,
   "metadata": {},
   "outputs": [],
   "source": [
    "%load_ext autoreload\n",
    "%autoreload 2"
   ]
  },
  {
   "cell_type": "code",
   "execution_count": null,
   "metadata": {},
   "outputs": [],
   "source": [
    "import localSettings as ls\n",
    "from load_data_run123 import *\n",
    "from unblinding_far_sideband import *\n",
    "from matplotlib import pyplot as plt\n",
    "from matplotlib import gridspec\n",
    "from scipy.optimize import curve_fit\n",
    "import seaborn as sns\n",
    "from ccncpi0_analysis import *\n",
    "from sys_functions import *"
   ]
  },
  {
   "cell_type": "code",
   "execution_count": null,
   "metadata": {},
   "outputs": [],
   "source": [
    "knobList = np.array([\"AGKYpT1pi_Genie\",\"AGKYxF1pi_Genie\",\"AhtBY_Genie\",\"AxFFCCQEshape_Genie\",\"BhtBY_Genie\",\n",
    "            \"CV1uBY_Genie\",\"CV2uBY_Genie\",\"DecayAngMEC_Genie\",\"EtaNCEL_Genie\",\"FrAbs_N_Genie\",\n",
    "            \"FrAbs_pi_Genie\",\"FrCEx_N_Genie\",\"FrCEx_pi_Genie\",\"FrInel_N_Genie\",\"FrInel_pi_Genie\",\n",
    "            \"FrPiProd_N_Genie\",\"FrPiProd_pi_Genie\",\"FracDelta_CCMEC_Genie\",\"FracPN_CCMEC_Genie\",\"MFP_N_Genie\",\n",
    "            \"MFP_pi_Genie\",\"MaCCQE_Genie\",\"MaCCRES_Genie\",\"MaNCEL_Genie\",\"MaNCRES_Genie\",\n",
    "            \"MvCCRES_Genie\",\"MvNCRES_Genie\",\"NonRESBGvbarnCC1pi_Genie\",\"NonRESBGvbarnCC2pi_Genie\",\"NonRESBGvbarnNC1pi_Genie\",\n",
    "            \"NonRESBGvbarnNC2pi_Genie\",\"NonRESBGvbarpCC1pi_Genie\",\"NonRESBGvbarpCC2pi_Genie\",\"NonRESBGvbarpNC1pi_Genie\",\"NonRESBGvbarpNC2pi_Genie\",\n",
    "            \"NonRESBGvnCC1pi_Genie\",\"NonRESBGvnCC2pi_Genie\",\"NonRESBGvnNC1pi_Genie\",\"NonRESBGvnNC2pi_Genie\",\"NonRESBGvpCC1pi_Genie\",\n",
    "            \"NonRESBGvpCC2pi_Genie\",\"NonRESBGvpNC1pi_Genie\",\"NonRESBGvpNC2pi_Genie\",\"NormCCMEC_Genie\",\"NormNCMEC_Genie\",\n",
    "            \"RDecBR1eta_Genie\",\"RDecBR1gamma_Genie\",\"RPA_CCQE_Genie\",\"Theta_Delta2Npi_Genie\",\"TunedCentralValue_Genie\",\n",
    "            \"VecFFCCQEshape_Genie\",\"XSecShape_CCMEC_Genie\",\"splines_general_Spline\"])"
   ]
  },
  {
   "cell_type": "code",
   "execution_count": null,
   "metadata": {},
   "outputs": [],
   "source": [
    "ntuple_path = ls.ntuple_path+\"genie_knobs/\""
   ]
  },
  {
   "cell_type": "code",
   "execution_count": null,
   "metadata": {},
   "outputs": [],
   "source": [
    "my_ccncpi0_analysis=ccncpi0_analysis(ntuple_path, \n",
    "                 fold=\"nuselection\", \n",
    "                 tree=\"NeutrinoSelectionFilter\", \n",
    "                 fcc1=\"prodgenie_cc_pi0_uboone_overlay_v08_00_00_26_run3_G_reco2\", \n",
    "                 fcc3=None, \n",
    "                 fnc1=\"prodgenie_nc_pi0_uboone_overlay_mcc9.1_v08_00_00_26_run3_G_reco2\", \n",
    "                 fnc3=None)"
   ]
  },
  {
   "cell_type": "code",
   "execution_count": null,
   "metadata": {},
   "outputs": [],
   "source": [
    "Eff_ccnc(my_ccncpi0_analysis.pi0s, \n",
    "          weights=my_ccncpi0_analysis.pi0s[\"weightSplineTimesTune\"], \n",
    "          var='pi0_e',\n",
    "          num_query=my_ccncpi0_analysis.CCNCSEL, \n",
    "          den_query=my_ccncpi0_analysis.ACCEPTANCE, \n",
    "          bin_edges=[0.1, 1.5], #only one bin, overall efficiency\n",
    "          num_dem=True)"
   ]
  },
  {
   "cell_type": "code",
   "execution_count": null,
   "metadata": {},
   "outputs": [],
   "source": [
    "# in order to get up and down variations just call sampleSystematics twice, with the two different vectors\n",
    "cv, up_variations = sampleSystematics(my_ccncpi0_analysis.pi0s, \n",
    "                  Eff_ccnc, \n",
    "                  var_weight_sys=\"weightsGenieUp\", \n",
    "                  var_weight_cv='weightSplineTimesTune', \n",
    "                  var='pi0_e',\n",
    "                  num_query=my_ccncpi0_analysis.CCNCSEL, \n",
    "                  den_query=my_ccncpi0_analysis.ACCEPTANCE, \n",
    "                  bin_edges=[0.1, 1.5],\n",
    "                  num_dem=False)\n",
    "\n",
    "cv, dn_variations = sampleSystematics(my_ccncpi0_analysis.pi0s, \n",
    "                  Eff_ccnc, \n",
    "                  var_weight_sys=\"weightsGenieDn\", \n",
    "                  var_weight_cv='weightSplineTimesTune', \n",
    "                  var='pi0_e',\n",
    "                  num_query=my_ccncpi0_analysis.CCNCSEL, \n",
    "                  den_query=my_ccncpi0_analysis.ACCEPTANCE, \n",
    "                  bin_edges=[0.1, 1.5],\n",
    "                  num_dem=False)\n",
    "\n",
    "rel_up_variations = up_variations/cv\n",
    "rel_dn_variations = dn_variations/cv"
   ]
  },
  {
   "cell_type": "code",
   "execution_count": null,
   "metadata": {},
   "outputs": [],
   "source": [
    "plt.plot(rel_up_variations[:, 0], label='up variations')\n",
    "plt.plot(rel_dn_variations[:, 0], label='down variations')\n",
    "plt.hlines(1, 0, len(rel_up_variations[:, 2]), \n",
    "           colors='brown', \n",
    "           linestyles='dashed')\n",
    "plt.legend(frameon=False)\n",
    "plt.xlabel('Genie Knob index')\n",
    "plt.ylabel('Ratio wrt to central value')\n",
    "plt.title('CC $\\pi^0$ selection efficiency')"
   ]
  },
  {
   "cell_type": "code",
   "execution_count": null,
   "metadata": {},
   "outputs": [],
   "source": [
    "plt.plot(rel_up_variations[:, 1], label='up variations')\n",
    "plt.plot(rel_dn_variations[:, 1], label='down variations')\n",
    "plt.hlines(1, 0, len(rel_up_variations[:, 2]), \n",
    "           colors='brown', \n",
    "           linestyles='dashed')\n",
    "plt.legend(frameon=False)\n",
    "plt.xlabel('Genie Knob index')\n",
    "plt.ylabel('Ratio wrt to central value')\n",
    "plt.title('NC $\\pi^0$ selection efficiency')"
   ]
  },
  {
   "cell_type": "code",
   "execution_count": null,
   "metadata": {},
   "outputs": [],
   "source": [
    "plt.plot(rel_up_variations[:, 2], label='up variations')\n",
    "plt.plot(rel_dn_variations[:, 2], label='down variations')\n",
    "plt.hlines(1, 0, len(rel_up_variations[:, 2]), \n",
    "           colors='brown', \n",
    "           linestyles='dashed')\n",
    "plt.legend(frameon=False)\n",
    "plt.xlabel('Genie Knob index')\n",
    "plt.ylabel('Ratio wrt to central value')\n",
    "plt.title('NC/CC $\\pi^0$ selection efficiency ratio')"
   ]
  },
  {
   "cell_type": "code",
   "execution_count": null,
   "metadata": {},
   "outputs": [],
   "source": [
    "#find indices with large variations\n",
    "knobList[(np.abs(rel_dn_variations[:, 0]) > 1.01)]"
   ]
  },
  {
   "cell_type": "code",
   "execution_count": null,
   "metadata": {},
   "outputs": [],
   "source": []
  },
  {
   "cell_type": "code",
   "execution_count": null,
   "metadata": {},
   "outputs": [],
   "source": []
  }
 ],
 "metadata": {
  "kernelspec": {
   "display_name": "Python [conda env:pelee]",
   "language": "python",
   "name": "conda-env-pelee-py"
  },
  "language_info": {
   "codemirror_mode": {
    "name": "ipython",
    "version": 3
   },
   "file_extension": ".py",
   "mimetype": "text/x-python",
   "name": "python",
   "nbconvert_exporter": "python",
   "pygments_lexer": "ipython3",
   "version": "3.7.7"
  }
 },
 "nbformat": 4,
 "nbformat_minor": 4
}
