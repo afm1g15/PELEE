{
 "cells": [
  {
   "cell_type": "code",
   "execution_count": 1,
   "metadata": {},
   "outputs": [
    {
     "name": "stdout",
     "output_type": "stream",
     "text": [
      "/Users/elenag/Desktop/PlotterLEE/PELEE/\n"
     ]
    }
   ],
   "source": [
    "import sys\n",
    "import localSettings as ls\n",
    "print(ls.main_path)"
   ]
  },
  {
   "cell_type": "code",
   "execution_count": 2,
   "metadata": {
    "colab": {
     "base_uri": "https://localhost:8080/",
     "height": 34
    },
    "colab_type": "code",
    "executionInfo": {
     "elapsed": 517,
     "status": "ok",
     "timestamp": 1560556807118,
     "user": {
      "displayName": "Stefano Roberto Soleti",
      "photoUrl": "https://lh4.googleusercontent.com/-hfLpspJu4Q0/AAAAAAAAAAI/AAAAAAAABmA/2kE4rtj8paU/s64/photo.jpg",
      "userId": "10372352518008961760"
     },
     "user_tz": 240
    },
    "id": "6qsD0G-yYJ9K",
    "outputId": "5d52a3ec-50be-44fc-da44-3c0593e98bc6"
   },
   "outputs": [],
   "source": [
    "main_path = ls.main_path\n",
    "sys.path.append(main_path)"
   ]
  },
  {
   "cell_type": "code",
   "execution_count": 3,
   "metadata": {},
   "outputs": [
    {
     "name": "stdout",
     "output_type": "stream",
     "text": [
      "date and time: 04282020\n"
     ]
    }
   ],
   "source": [
    "from datetime import datetime\n",
    "now = datetime.now()\n",
    "date_time = now.strftime(\"%m%d%Y\")\n",
    "print(\"date and time:\",date_time)"
   ]
  },
  {
   "cell_type": "code",
   "execution_count": 4,
   "metadata": {},
   "outputs": [],
   "source": [
    "SHRCALIBFACTOR = 1.00"
   ]
  },
  {
   "cell_type": "code",
   "execution_count": 5,
   "metadata": {},
   "outputs": [],
   "source": [
    "# Doing Run3?\n",
    "ISRUN3 = False"
   ]
  },
  {
   "cell_type": "code",
   "execution_count": 6,
   "metadata": {
    "colab": {},
    "colab_type": "code",
    "id": "xGqTJ5JgaDsx"
   },
   "outputs": [],
   "source": [
    "import plotter\n",
    "import importlib\n",
    "importlib.reload(plotter)\n",
    "import uproot\n",
    "import matplotlib.pylab as pylab\n",
    "import numpy as np\n",
    "import math\n",
    "from sklearn.model_selection import train_test_split\n",
    "import pickle\n",
    "import xgboost as xgb\n",
    "import nue_booster \n",
    "importlib.reload(nue_booster)\n",
    "import awkward\n",
    "\n",
    "params = {\n",
    "    'axes.labelsize': 'x-large',\n",
    "    'axes.titlesize': 'x-large',\n",
    "    'xtick.labelsize': 'x-large',\n",
    "    'ytick.labelsize': 'x-large'\n",
    "}\n",
    "pylab.rcParams.update(params)"
   ]
  },
  {
   "cell_type": "code",
   "execution_count": 8,
   "metadata": {
    "colab": {},
    "colab_type": "code",
    "id": "iwoCIaigYJ9N"
   },
   "outputs": [
    {
     "name": "stdout",
     "output_type": "stream",
     "text": [
      "['category', 'nslice', 'NeutrinoEnergy2', 'evt', 'shr_energy_tot_cali', 'backtracked_pdg', 'slnhits', 'p', 'pfnunhits', 'shrclusdir2', 'shr_tkfit_2cm_dedx_Y', 'shr_tkfit_2cm_nhits_U', 'shr_tkfit_2cm_dedx_V', 'shr_tkfit_gap10_nhits_U', 'selected', 'run', 'shr_score', 'best_cosmic_flashmatch_score', 'shr_tkfit_2cm_nhits_Y', 'shr_tkfit_gap10_dedx_U', 'hits_y', 'reco_nu_vtx_sce_y', 'reco_nu_vtx_sce_z', 'shr_energy', 'nu_flashmatch_score', 'shr_tkfit_nhits_V', 'tksh_angle', 'trk_llr_pid_score_v', 'shr_dedx_Y', '_opfilter_pe_beam', 'shr_tkfit_nhits_Y', 'shr_pfp_id_v', 'trk_calo_energy_y_v', 'ccnc', 'trk_score_v', 'reco_nu_vtx_y', 'nu_pdg', 'slnunhits', 'shr_tkfit_gap10_nhits_V', 'trk_energy_tot', 'pi0_e', 'sub', 'trk_len', 'trk_theta', 'n_tracks_contained', 'reco_nu_vtx_z', 'CosmicIP', 'CosmicIPAll3D', 'shrmoliereavg', 'shr_tkfit_dedx_V', 'CosmicDirAll3D', '_closestNuCosmicDist', 'mc_pdg', 'shr_dedx_U', 'shr_dedx_Y_cali', 'matched_E', 'shrmoliererms', 'secondshower_Y_nhit', 'npion', 'nproton', 'crtveto', 'secondshower_Y_dir', 'npi0', 'tksh_distance', 'topological_score', 'muon_e', 'shr_tkfit_nhits_U', 'trkshrhitdist2', 'crthitpe', 'trk_phi', 'secondshower_Y_vtxdist', 'trk_distance', 'shrsubclusters1', 'nu_e', 'shr_dedx_V', 'pfnhits', 'pion_e', 'reco_nu_vtx_sce_x', 'trk_bkt_pdg', 'best_obviouscosmic_flashmatch_score', 'shr_tkfit_gap10_dedx_V', 'trk_bkt_E', 'reco_nu_vtx_x', 'pi0truth_elec_etot', 'contained_fraction', 'shr_tkfit_gap10_nhits_Y', 'trk_score', 'shrclusfrac1', 'evnunhits', 'shrsubclusters0', 'interaction', 'shr_tkfit_2cm_dedx_U', 'trk_pid_chipr_v', '_opfilter_pe_veto', 'shr_pz', 'shr_tkfit_npoints', 'hits_ratio', 'shr_bkt_pdg', 'shr_tkfit_dedx_U', 'trk_hits_tot', 'trk_energy_proton_v', 'shr_hits_tot', 'secondshower_Y_dot', 'trk_chipr', 'slclustfrac', 'true_e_visible', 'shr_tkfit_gap10_dedx_Y', 'shrclusfrac2', 'trk_energy', 'shr_bkt_E', 'pt', 'shrsubclusters2', 'shr_phi', 'shr_distance', 'shrclusfrac0', 'shr_tkfit_npointsvalid', 'n_showers_contained', 'shr_tkfit_2cm_nhits_V', 'slpdg', 'shr_tkfit_dedx_Y', 'shr_theta']\n"
     ]
    }
   ],
   "source": [
    "tree = \"NeutrinoSelectionFilter\"\n",
    "\n",
    "BNB = 'neutrinoselection_filt_run1_NuMI_beamon'+ls.APPEND\n",
    "EXT = 'neutrinoselection_filt_run1_NuMI_ext'+ls.APPEND\n",
    "NU  = 'neutrinoselection_filt_run1_NuMI_overlay'+ls.APPEND\n",
    "NUE = 'neutrinoselection_filt_run1_NuMI_overlay'+ls.APPEND\n",
    "\n",
    "\n",
    "\n",
    "data = uproot.open(ls.ntuple_path+BNB+\".root\")[ls.fold][tree]\n",
    "ext  = uproot.open(ls.ntuple_path+EXT+\".root\")[ls.fold][tree]\n",
    "nue  = uproot.open(ls.ntuple_path+NU +\".root\")[ls.fold][tree]\n",
    "mc   = uproot.open(ls.ntuple_path+NU +\".root\")[ls.fold][tree]\n",
    "\n",
    "uproot_v = [nue,ext,data,mc]\n",
    "\n",
    "variables = [\n",
    "    \"shr_dedx_Y\", \"shr_bkt_pdg\", \"p\", \"pt\", \"selected\", \"nu_pdg\", \"shr_theta\",\n",
    "    \"slpdg\", \"trk_score_v\", \"backtracked_pdg\", # modified from shr_score_v\n",
    "    \"shr_pfp_id_v\", \"category\",\n",
    "    \"shr_tkfit_dedx_U\",\"shr_tkfit_dedx_V\",\"shr_tkfit_dedx_Y\",\n",
    "    \"shr_tkfit_gap10_dedx_U\",\"shr_tkfit_gap10_dedx_V\",\"shr_tkfit_gap10_dedx_Y\",\n",
    "    \"shr_tkfit_2cm_dedx_U\",\"shr_tkfit_2cm_dedx_V\",\"shr_tkfit_2cm_dedx_Y\",\n",
    "    \"topological_score\",\n",
    "    \"trk_energy_tot\", \"shr_hits_tot\", \"ccnc\", \"trk_chipr\",\n",
    "    \"trk_bkt_pdg\", \"hits_ratio\", \"n_tracks_contained\", \n",
    "    \"crtveto\",\"crthitpe\",\"_closestNuCosmicDist\",\n",
    "    \"NeutrinoEnergy2\",\n",
    "    \"CosmicIP\",\"CosmicDirAll3D\",\"CosmicIPAll3D\",\n",
    "    \"nu_flashmatch_score\",\"best_cosmic_flashmatch_score\",\"best_obviouscosmic_flashmatch_score\",\n",
    "    \"shrmoliereavg\",\"shrmoliererms\",\n",
    "    \"shr_tkfit_npointsvalid\",\"shr_tkfit_npoints\", # fitted vs. all hits for shower\n",
    "    \"shrclusfrac0\",\"shrclusfrac1\",\"shrclusfrac2\", # track-fitted hits / all hits\n",
    "    \"trkshrhitdist2\", # \"trkshrhitdist0\",\"trkshrhitdist1\", distance between track and shower in 2D\n",
    "    \"shrsubclusters0\",\"shrsubclusters1\",\"shrsubclusters2\", # number of sub-clusters in shower\n",
    "    \"trk_llr_pid_score_v\", # trk-PID score\n",
    "    \"trk_energy_proton_v\", # track energy under proton hyp\n",
    "    \"trk_calo_energy_y_v\", # track calo energy\n",
    "    \"_opfilter_pe_beam\", \"_opfilter_pe_veto\", # did the event pass the common optical filter (for MC only)\n",
    "    \"reco_nu_vtx_sce_x\",\"reco_nu_vtx_sce_y\",\"reco_nu_vtx_sce_z\",\n",
    "    \"nproton\", \"nu_e\", \"n_showers_contained\", \"shr_distance\", \"trk_distance\",\n",
    "    \"hits_y\", \"shr_pz\", \"shr_energy\", \"shr_dedx_U\", \"shr_dedx_V\", \"shr_phi\", \"trk_phi\", \"trk_theta\",\n",
    "    \"shr_tkfit_dedx_U\", \"shr_tkfit_dedx_V\", \"run\", \"sub\", \"evt\", \"trk_pid_chipr_v\",\n",
    "    \"trk_len\", \"mc_pdg\", \"slnunhits\", \"slnhits\", \"shr_score\", \"trk_score\", \"trk_hits_tot\",\n",
    "    \"true_e_visible\", \"matched_E\", \"shr_bkt_E\", \"trk_bkt_E\", \"trk_energy\", \"tksh_distance\", \"tksh_angle\",\n",
    "    \"npi0\",\"npion\",\"pion_e\",\"muon_e\",\"pi0truth_elec_etot\",\n",
    "    \"pi0_e\", \"shr_energy_tot_cali\", \"shr_dedx_Y_cali\", \"evnunhits\", \"nslice\", \"interaction\",\n",
    "    \"slclustfrac\", \"reco_nu_vtx_x\", \"reco_nu_vtx_y\", \"reco_nu_vtx_z\",\"contained_fraction\",\n",
    "    \"secondshower_Y_nhit\",\"secondshower_Y_vtxdist\",\"secondshower_Y_dot\",\"secondshower_Y_dir\",\"shrclusdir2\",\n",
    "    \"shr_tkfit_nhits_Y\",\"shr_tkfit_nhits_U\",\"shr_tkfit_nhits_V\",\n",
    "    \"shr_tkfit_2cm_nhits_Y\",\"shr_tkfit_2cm_nhits_U\",\"shr_tkfit_2cm_nhits_V\",\n",
    "    \"shr_tkfit_gap10_nhits_Y\",\"shr_tkfit_gap10_nhits_U\",\"shr_tkfit_gap10_nhits_V\",\n",
    "    \"pfnhits\",\"pfnunhits\"\n",
    "]\n",
    "#make the list unique\n",
    "variables = list(set(variables))\n",
    "print(variables)\n",
    "\n",
    "#if not ISRUN3:\n",
    "variables.remove(\"_closestNuCosmicDist\")\n",
    "variables.remove(\"crtveto\")\n",
    "variables.remove(\"crthitpe\")\n",
    "    \n",
    "WEIGHTS = [\"weightSpline\",\"weightTune\",\"weightSplineTimesTune\"]#, \"weightsGenie\", \"weightsFlux\", \"weightsReint\"]\n",
    "WEIGHTSLEE = [\"weightSpline\",\"weightTune\",\"weightSplineTimesTune\", \"leeweight\"]#, \"weightsGenie\", \"weightsFlux\", \"weightsReint\"]\n",
    "MCFVARS = [\"mcf_nu_e\",\"mcf_lep_e\",\"mcf_actvol\",\"mcf_nmm\",\"mcf_nmp\",\"mcf_nem\",\"mcf_nep\",\"mcf_np0\",\"mcf_npp\",\n",
    "           \"mcf_npm\",\"mcf_mcshr_elec_etot\",\"mcf_pass_ccpi0\",\"mcf_pass_ncpi0\",\n",
    "           \"mcf_pass_ccnopi\",\"mcf_pass_ncnopi\",\"mcf_pass_cccpi\",\"mcf_pass_nccpi\"]\n",
    "SYSTEMATICS = []# ['weightsFlux','weightsGenie']\n",
    "\n",
    "\n",
    "mc   = mc   .pandas.df(variables + WEIGHTS + MCFVARS + SYSTEMATICS, flatten=False)\n",
    "nue  = nue  .pandas.df(variables + WEIGHTS + MCFVARS + SYSTEMATICS, flatten=False)\n",
    "data = data.pandas.df(variables, flatten=False)\n",
    "ext  = ext .pandas.df(variables, flatten=False)\n"
   ]
  },
  {
   "cell_type": "code",
   "execution_count": 9,
   "metadata": {},
   "outputs": [
    {
     "name": "stdout",
     "output_type": "stream",
     "text": [
      "(49672,) 49672\n",
      "(285851,) 285851\n",
      "(122491,) 122491\n",
      "(49672,) 49672\n",
      "-10.125930070877075\n"
     ]
    }
   ],
   "source": [
    "# how to get the LLR-PID value for the \"track candidate\" (proton for nue selection, muon for numu)\n",
    "# can be done for any variable\n",
    "# code from Giuseppe!\n",
    "import time\n",
    "s = time.time()\n",
    "df_v = [nue,ext,data,mc]\n",
    "puppa1 = 'trk_score_v'\n",
    "#print ('trk_llr_pid_score_v' in nue.columns.to_list())\n",
    "for i,df in enumerate(df_v):\n",
    "    up = uproot_v[i]\n",
    "    trk_score_v         = up.array('trk_score_v')    \n",
    "    trk_llr_pid_v       = up.array('trk_llr_pid_score_v')\n",
    "    trk_energy_proton_v = up.array('trk_energy_proton_v')\n",
    "    trk_calo_energy_y_v = up.array('trk_calo_energy_y_v')\n",
    "    trk_id              = up.array('trk_id')-1 # I think we need this -1 to get the right result\n",
    "    c                   = up.array('n_tracks_contained')\n",
    "    \n",
    "    print(trk_score_v.shape, len(trk_llr_pid_v))\n",
    "#    print(len(c), len(trk_id), len(trk_llr_pid_v))\n",
    "#    for pidv,puppa,tid,cid in zip(trk_llr_pid_v,trk_score_puppa_v,trk_id,c):\n",
    "#        if len(pidv) > 0:\n",
    "#            print(len(pidv),len(puppa), pidv,puppa,tid,cid )\n",
    "#    nnnnnnnPupppppppaaa = 0\n",
    "#    print(type(trk_llr_pid_v), trk_llr_pid_v.shape)\n",
    "    puppa_obj = []\n",
    "    puppa_trk = []\n",
    "    puppa_shw = []\n",
    "    puppa_prt = [] \n",
    "    puppa_mu  = []\n",
    "    \n",
    "    for pidv, p in zip(trk_llr_pid_v,trk_score_v):\n",
    "        N_obj         = 0\n",
    "        N_recoTrks    = 0\n",
    "        N_recoShowers = 0\n",
    "        N_recoProtons = 0\n",
    "        N_recoMuons   = 0\n",
    "        if len(pidv) > 0:\n",
    "            passPIDCut = (pidv <= 0)\n",
    "            passTrkCut = (p    >= 0)\n",
    "            protonCut  = (passPIDCut & passTrkCut) \n",
    "            muonCut    = (np.logical_not(passPIDCut) & passTrkCut) \n",
    "            N_obj         = len(passTrkCut)\n",
    "            N_recoTrks    = np.count_nonzero(passTrkCut)\n",
    "            N_recoShowers = np.count_nonzero(np.logical_not(passTrkCut))\n",
    "            N_recoProtons = np.count_nonzero(protonCut)\n",
    "            N_recoMuons   = np.count_nonzero(muonCut)\n",
    "        puppa_obj.append(N_obj)\n",
    "        puppa_trk.append(N_recoTrks)\n",
    "        puppa_shw.append(N_recoShowers)    \n",
    "        puppa_prt.append(N_recoProtons)\n",
    "        puppa_mu .append(N_recoMuons)\n",
    "\n",
    "    df['N_obj']           = puppa_obj\n",
    "    df['N_recoTrks']      = puppa_trk\n",
    "    df['N_recoShowers']   = puppa_shw\n",
    "    df['N_recoProtons']   = puppa_prt\n",
    "    df['N_recoMuons']     = puppa_mu\n",
    "    \n",
    "    trk_llr_pid_v_sel     = awkward.fromiter([pidv[tid] if tid<len(pidv) else 9999. for pidv,tid in zip(trk_llr_pid_v,trk_id)])\n",
    "    trk_energy_proton_sel = awkward.fromiter([pidv[tid] if tid<len(pidv) else 9999. for pidv,tid in zip(trk_energy_proton_v,trk_id)])\n",
    "    trk_calo_energy_y_sel = awkward.fromiter([pidv[tid] if tid<len(pidv) else 9999. for pidv,tid in zip(trk_calo_energy_y_v,trk_id)])\n",
    "\n",
    "    #df['n_proton_cand']   = puppa_proton\n",
    "    df['trkpid']          = trk_llr_pid_v_sel\n",
    "    df['protonenergy']    = trk_energy_proton_sel\n",
    "    df['trackcaloenergy'] = trk_calo_energy_y_sel\n",
    "    df['subcluster']      = df['shrsubclusters0'] + df['shrsubclusters1'] + df['shrsubclusters2']\n",
    "    df['trkfit']          = df['shr_tkfit_npointsvalid'] / df['shr_tkfit_npoints']\n",
    "    df['anglediff_Y']     = np.abs(df['secondshower_Y_dir']-df['shrclusdir2'])\n",
    "    df['trkthetacos']     = np.cos(df['trk_theta'])\n",
    "    #print(  df['N_recoShowers'])\n",
    "    \n",
    "s2 = time.time()\n",
    "print (s-s2)"
   ]
  },
  {
   "cell_type": "code",
   "execution_count": null,
   "metadata": {},
   "outputs": [],
   "source": []
  },
  {
   "cell_type": "code",
   "execution_count": 10,
   "metadata": {},
   "outputs": [],
   "source": [
    "#\n",
    "for i,df in enumerate(df_v):\n",
    "    up = uproot_v[i]\n",
    "    df[\"slclnhits\"] = up.array(\"pfnhits\").sum()\n",
    "    df[\"slclnunhits\"] = up.array(\"pfnunhits\").sum()\n",
    "#"
   ]
  },
  {
   "cell_type": "code",
   "execution_count": 11,
   "metadata": {},
   "outputs": [],
   "source": [
    "df_v = [nue,ext,data,mc]\n",
    "for i,df in enumerate(df_v):\n",
    "    df['shr_tkfit_nhits_tot']       = (df['shr_tkfit_nhits_Y']+df['shr_tkfit_nhits_U']+df['shr_tkfit_nhits_V'])\n",
    "    df['shr_tkfit_dedx_avg']        = (df['shr_tkfit_nhits_Y']*df['shr_tkfit_dedx_Y'] + df['shr_tkfit_nhits_U']*df['shr_tkfit_dedx_U'] + df['shr_tkfit_nhits_V']*df['shr_tkfit_dedx_V'])/df['shr_tkfit_nhits_tot']\n",
    "    df['shr_tkfit_2cm_nhits_tot']   = (df['shr_tkfit_2cm_nhits_Y']+df['shr_tkfit_2cm_nhits_U']+df['shr_tkfit_2cm_nhits_V'])\n",
    "    df['shr_tkfit_2cm_dedx_avg']    = (df['shr_tkfit_2cm_nhits_Y']*df['shr_tkfit_2cm_dedx_Y'] + df['shr_tkfit_2cm_nhits_U']*df['shr_tkfit_2cm_dedx_U'] + df['shr_tkfit_2cm_nhits_V']*df['shr_tkfit_2cm_dedx_V'])/df['shr_tkfit_2cm_nhits_tot']\n",
    "    df['shr_tkfit_gap10_nhits_tot'] = (df['shr_tkfit_gap10_nhits_Y']+df['shr_tkfit_gap10_nhits_U']+df['shr_tkfit_gap10_nhits_V'])\n",
    "    df['shr_tkfit_gap10_dedx_avg']  = (df['shr_tkfit_gap10_nhits_Y']*df['shr_tkfit_gap10_dedx_Y'] + df['shr_tkfit_gap10_nhits_U']*df['shr_tkfit_gap10_dedx_U'] + df['shr_tkfit_gap10_nhits_V']*df['shr_tkfit_gap10_dedx_V'])/df['shr_tkfit_gap10_nhits_tot']\n",
    "    df.loc[:,'shr_tkfit_dedx_max']  = df['shr_tkfit_dedx_Y']\n",
    "    df.loc[(df['shr_tkfit_nhits_U'] > df['shr_tkfit_nhits_Y']),'shr_tkfit_dedx_max'] = df['shr_tkfit_dedx_U']\n",
    "    df.loc[(df['shr_tkfit_nhits_V'] > df['shr_tkfit_nhits_Y']) & (df['shr_tkfit_nhits_V']>df['shr_tkfit_nhits_U']),'shr_tkfit_dedx_max'] = df['shr_tkfit_dedx_V']"
   ]
  },
  {
   "cell_type": "code",
   "execution_count": 12,
   "metadata": {},
   "outputs": [],
   "source": [
    "# how to get the LLR-PID value for the \"track candidate\" (proton for nue selection, muon for numu)\n",
    "# can be done for any variable\n",
    "# code from Giuseppe!\n",
    "\n",
    "\n",
    "for i,df in enumerate(df_v):\n",
    "    up = uproot_v[i]\n",
    "    trk_llr_pid_v = up.array('trk_llr_pid_score_v')\n",
    "    trk_energy_proton_v = up.array('trk_energy_proton_v')\n",
    "    trk_calo_energy_y_v = up.array('trk_calo_energy_y_v')\n",
    "    trk_id = up.array('trk_id')-1 # I think we need this -1 to get the right result\n",
    "    trk_llr_pid_v_sel = awkward.fromiter([pidv[tid] if tid<len(pidv) else 9999. for pidv,tid in zip(trk_llr_pid_v,trk_id)])\n",
    "    trk_energy_proton_sel = awkward.fromiter([pidv[tid] if tid<len(pidv) else 9999. for pidv,tid in zip(trk_energy_proton_v,trk_id)])\n",
    "    trk_calo_energy_y_sel = awkward.fromiter([pidv[tid] if tid<len(pidv) else 9999. for pidv,tid in zip(trk_calo_energy_y_v,trk_id)])\n",
    "    df['trkpid'] = trk_llr_pid_v_sel\n",
    "    df['protonenergy'] = trk_energy_proton_sel\n",
    "    df['trackcaloenergy'] = trk_calo_energy_y_sel\n",
    "    df['subcluster'] = df['shrsubclusters0'] + df['shrsubclusters1'] + df['shrsubclusters2']\n",
    "    df['trkfit'] = df['shr_tkfit_npointsvalid'] / df['shr_tkfit_npoints']\n",
    "    df['anglediff_Y'] = np.abs(df['secondshower_Y_dir']-df['shrclusdir2'])\n",
    "    df['trkthetacos'] = np.cos(df['trk_theta'])\n",
    "    #df['FMdiffOBV'] = df['nu_flashmatch_score']-df['best_obviouscosmic_flashmatch_score']\n",
    "    #df['FMdiff'] = df['nu_flashmatch_score']-df['best_cosmic_flashmatch_score']"
   ]
  },
  {
   "cell_type": "code",
   "execution_count": 13,
   "metadata": {
    "scrolled": false
   },
   "outputs": [],
   "source": [
    "INTERCEPT = 0.0\n",
    "SLOPE = 0.83\n",
    "\n",
    "# define some energy-related variables\n",
    "for i,df in enumerate(df_v):\n",
    "    df[\"reco_e\"] = (df[\"shr_energy_tot_cali\"] + INTERCEPT) / SLOPE + df[\"trk_energy_tot\"]\n",
    "    df[\"reco_e_qe\"] = 0.938*((df[\"shr_energy\"]+INTERCEPT)/SLOPE)/(0.938 - ((df[\"shr_energy\"]+INTERCEPT)/SLOPE)*(1-np.cos(df[\"shr_theta\"])))\n",
    "    df[\"reco_e_rqe\"] = df[\"reco_e_qe\"]/df[\"reco_e\"]\n",
    "\n",
    "# and a way to filter out data\n",
    "for i,df in enumerate(df_v):\n",
    "    df[\"bnbdata\"] = np.zeros_like(df[\"shr_energy\"])\n",
    "    df[\"extdata\"] = np.zeros_like(df[\"shr_energy\"])\n",
    "data[\"bnbdata\"] = np.ones_like(data[\"shr_energy\"])\n",
    "ext[\"extdata\"] = np.ones_like(ext[\"shr_energy\"])\n"
   ]
  },
  {
   "cell_type": "code",
   "execution_count": 14,
   "metadata": {
    "scrolled": false
   },
   "outputs": [],
   "source": [
    "# add back the cosmic category, for background only\n",
    "df_v = [nue,ext,data,mc]\n",
    "for i,df in enumerate(df_v):\n",
    "    df.loc[(df['category']!=1)&(df['category']!=10)&(df['category']!=11)&(df['category']!=111)&(df['slnunhits']/df['slnhits']<0.2), 'category'] = 4"
   ]
  },
  {
   "cell_type": "code",
   "execution_count": 15,
   "metadata": {},
   "outputs": [],
   "source": [
    "data[\"is_signal\"] = data[\"category\"] == 11\n",
    "nue  [\"is_signal\"] = nue  [\"category\"] == 11\n",
    "mc  [\"is_signal\"] = mc  [\"category\"] == 11\n",
    "ext [\"is_signal\"] = ext [\"category\"] == 11\n"
   ]
  },
  {
   "cell_type": "code",
   "execution_count": 16,
   "metadata": {},
   "outputs": [
    {
     "data": {
      "text/plain": [
       "<module 'plotter' from '/Users/elenag/Desktop/PlotterLEE/PELEE/plotter.py'>"
      ]
     },
     "execution_count": 16,
     "metadata": {},
     "output_type": "execute_result"
    }
   ],
   "source": [
    "import plotter\n",
    "import importlib\n",
    "importlib.reload(plotter)"
   ]
  },
  {
   "cell_type": "code",
   "execution_count": 27,
   "metadata": {
    "colab": {},
    "colab_type": "code",
    "id": "_pamv0W8YJ9R"
   },
   "outputs": [
    {
     "name": "stdout",
     "output_type": "stream",
     "text": [
      "{'mc': 1.0, 'nue': 1.0, 'ext': 1.0}\n"
     ]
    },
    {
     "name": "stderr",
     "output_type": "stream",
     "text": [
      "Missing dirt sample\n"
     ]
    }
   ],
   "source": [
    "nue = mc.query(\"(abs(nu_pdg) == 12 & ccnc == 0)\")\n",
    "samples = {\n",
    "    \"mc\"  : mc,\n",
    "    \"nue\" : nue,\n",
    "    \"data\": data,\n",
    "    \"ext\" : ext,}\n",
    "\n",
    "scaling = 1\n",
    "SPLIT   = 1.0 #0. trying to remove the MC \n",
    "weights = {\n",
    "    \"mc\"  : 1. * scaling,\n",
    "    \"nue\" : 1. * scaling,\n",
    "    \"ext\" : 1. * scaling, #C+D+E #C only: 1.40e-01\n",
    "    }\n",
    "pot = 4.0e19*scaling\n",
    "    \n",
    "my_plotter = plotter.Plotter(samples, weights, pot=pot)\n",
    "print(weights)"
   ]
  },
  {
   "cell_type": "code",
   "execution_count": null,
   "metadata": {},
   "outputs": [],
   "source": [
    "# muon selection\n",
    "QUERY = 'nslice == 1'\n",
    "QUERY += ' and n_tracks_contained >= 1 and N_recoProtons >= 1'\n",
    "QUERY += ' and selected == 1'\n",
    "QUERY += ' and shr_energy_tot_cali > 0.07'\n",
    "QUERY += ' and ( (_opfilter_pe_beam > 0 and _opfilter_pe_veto < 20) or bnbdata == 1 or extdata == 1)'\n",
    "\n",
    "print (QUERY)"
   ]
  },
  {
   "cell_type": "code",
   "execution_count": 28,
   "metadata": {},
   "outputs": [
    {
     "name": "stdout",
     "output_type": "stream",
     "text": [
      "nslice == 1 and selected == 1 and shr_energy_tot_cali > 0.07 and ( (_opfilter_pe_beam > 0 and _opfilter_pe_veto < 20) or bnbdata == 1 or extdata == 1) and n_tracks_contained > 0 and CosmicIPAll3D > 10. and trkpid < 0.25 and hits_ratio > 0.5 and trkfit < 0.90 and tksh_distance < 10.0 and tksh_angle > -0.9 and reco_e > 1.05\n"
     ]
    }
   ],
   "source": [
    "# nue preselection\n",
    "PRESQ = 'nslice == 1'\n",
    "PRESQ += ' and selected == 1'\n",
    "PRESQ += ' and shr_energy_tot_cali > 0.07'\n",
    "PRESQ += ' and ( (_opfilter_pe_beam > 0 and _opfilter_pe_veto < 20) or bnbdata == 1 or extdata == 1)'\n",
    "\n",
    "# 1eNp preselection\n",
    "NPPRESQ = PRESQ\n",
    "NPPRESQ += ' and n_tracks_contained > 0'\n",
    "\n",
    "# very loose box cuts\n",
    "NPVLCUTQ = NPPRESQ\n",
    "NPVLCUTQ += ' and CosmicIPAll3D > 10.'\n",
    "NPVLCUTQ += ' and trkpid < 0.25'\n",
    "NPVLCUTQ += ' and hits_ratio > 0.5'\n",
    "NPVLCUTQ += ' and trkfit < 0.90'\n",
    "NPVLCUTQ += ' and tksh_distance < 10.0'\n",
    "NPVLCUTQ += ' and tksh_angle > -0.9'\n",
    "NPVLCUTQ += ' and reco_e > 1.05'\n",
    "QUERY = NPVLCUTQ\n",
    "print (QUERY)"
   ]
  },
  {
   "cell_type": "code",
   "execution_count": 19,
   "metadata": {},
   "outputs": [
    {
     "name": "stderr",
     "output_type": "stream",
     "text": [
      "invalid value encountered in subtract\n",
      "invalid value encountered in subtract\n",
      "invalid value encountered in double_scalars\n",
      "divide by zero encountered in true_divide\n",
      "invalid value encountered in true_divide\n",
      "invalid value encountered in double_scalars\n"
     ]
    },
    {
     "name": "stdout",
     "output_type": "stream",
     "text": [
      "Profile likelihood: 0.00 sigma @ 1.01e21 POT\n",
      "s/sqrt(b): 0.00 sigma @ 1.01e21 POT\n"
     ]
    },
    {
     "data": {
      "text/plain": [
       "(0.7, 1.1)"
      ]
     },
     "execution_count": 19,
     "metadata": {},
     "output_type": "execute_result"
    },
    {
     "name": "stderr",
     "output_type": "stream",
     "text": [
      "invalid value encountered in double_scalars\n"
     ]
    },
    {
     "data": {
      "image/png": "[encoded data removed]",
      "text/plain": [
       "<Figure size 576x504 with 2 Axes>"
      ]
     },
     "metadata": {
      "needs_background": "light"
     },
     "output_type": "display_data"
    }
   ],
   "source": [
    "#QUERY = PRESQ\n",
    "VARIABLE, BINS, RANGE, XTIT = 'n_tracks_contained',10,(-0.5,9.5),\"n tracks contained\"\n",
    "#VARIABLE, BINS, RANGE, XTIT = 'trkpid',50,(-2.5,2.5),\"Number of Tracks\"\n",
    "\n",
    "fig, ax1, ax2 = my_plotter.plot_variable(\n",
    "    VARIABLE,   \n",
    "    query=QUERY,\n",
    "    kind=\"event_category\",\n",
    "    #kind=\"interaction\",\n",
    "    #kind=\"sample\",\n",
    "    #kind='particle_pdg',\n",
    "    draw_sys=False,\n",
    "    stacksort=3,\n",
    "    title=XTIT,\n",
    "    #bins=asymm_bins,\n",
    "    bins=BINS,\n",
    "    range=RANGE\n",
    ")[0:3]\n",
    "\n",
    "print(\"Profile likelihood: %.2f sigma @ 1.01e21 POT\" % my_plotter.significance_likelihood)\n",
    "print(\"s/sqrt(b): %.2f sigma @ 1.01e21 POT\" % my_plotter.significance)\n",
    "\n",
    "#ax1.set_ylim(0,40)\n",
    "#ax1.set_yscale(\"log\")\n",
    "#ax1.set_ylim(0,200)\n",
    "ax1.set_ylim(0,ax1.get_ylim()[1]*1.25)\n",
    "ax2.set_ylim(0.7,1.1)\n",
    "#fig.savefig(ls.plots_path+\"run1/presel/\"+VARIABLE+\"_\"+date_time+\".pdf\")"
   ]
  },
  {
   "cell_type": "code",
   "execution_count": null,
   "metadata": {},
   "outputs": [],
   "source": [
    "#data.query(QUERY)[[\"run\",\"sub\",\"evt\",\"reco_e\"]]\n",
    "f = data.query(QUERY)[[\"run\",\"sub\"]]#.to_string(index=False)\n",
    "query4SamWeb = f.apply(lambda x: str(x['run'])+'.'+str(x['sub'])+',', axis=1).sum()\n",
    "print(\"defname: numi_uboone_run1_beamon_offset1_mcc9_reco2_v08_00_00_28_v0 and run_number \"+query4SamWeb)\n",
    "\n"
   ]
  },
  {
   "cell_type": "code",
   "execution_count": null,
   "metadata": {},
   "outputs": [],
   "source": [
    "#data.query(QUERY)[[\"run\",\"sub\",\"evt\",\"reco_e\"]]\n",
    "f = data.query(QUERY)[[\"run\",\"sub\",\"evt\"]]\n",
    "np.savetxt(r'NNfileListNue.txt', f.values, fmt='%d')\n"
   ]
  },
  {
   "cell_type": "code",
   "execution_count": null,
   "metadata": {},
   "outputs": [],
   "source": [
    "# nue preselection\n",
    "PRESQ = 'nslice == 1'\n",
    "PRESQ += ' and selected == 1'\n",
    "PRESQ += ' and shr_energy_tot_cali > 0.07'\n",
    "PRESQ += ' and ( (_opfilter_pe_beam > 0 and _opfilter_pe_veto < 20) or bnbdata == 1 or extdata == 1)'\n"
   ]
  },
  {
   "cell_type": "code",
   "execution_count": null,
   "metadata": {},
   "outputs": [],
   "source": [
    "# 1eNp preselection\n",
    "NPPRESQ = PRESQ\n",
    "NPPRESQ += ' and n_tracks_contained > 0'"
   ]
  },
  {
   "cell_type": "code",
   "execution_count": 26,
   "metadata": {},
   "outputs": [
    {
     "name": "stdout",
     "output_type": "stream",
     "text": [
      "        run   sub    evt  true_e_visible  nu_pdg\n",
      "entry                                           \n",
      "1      7012   603  30152        2.901257     -12\n",
      "3      7012   603  30154        1.091179      12\n",
      "18     7012   603  30169        1.055034      12\n",
      "48     7012   603  30199        1.072797      12\n",
      "59     6379    94   4717        1.988270      12\n",
      "...     ...   ...    ...             ...     ...\n",
      "49458  7012  1520  76035        1.466988     -12\n",
      "49478  7006   211  10555        2.694846     -12\n",
      "49528  7004   407  20355        1.022946      12\n",
      "49553  7004   407  20381        1.551356      12\n",
      "49607  7004  1106  55335        1.286950      12\n",
      "\n",
      "[1044 rows x 5 columns]\n"
     ]
    }
   ],
   "source": [
    "quickQUERY = 'true_e_visible > 1.0 and (abs(nu_pdg) == 12)'\n",
    "s = mc.query(quickQUERY)[[\"run\",\"sub\",\"evt\",\"true_e_visible\",\"nu_pdg\"]]\n",
    "print(s)"
   ]
  },
  {
   "cell_type": "code",
   "execution_count": null,
   "metadata": {},
   "outputs": [],
   "source": [
    "# very loose box cuts\n",
    "NPVLCUTQ = NPPRESQ\n",
    "NPVLCUTQ += ' and CosmicIPAll3D > 10.'\n",
    "NPVLCUTQ += ' and trkpid < 0.25'\n",
    "NPVLCUTQ += ' and hits_ratio > 0.5'\n",
    "NPVLCUTQ += ' and trkfit < 0.90'\n",
    "NPVLCUTQ += ' and n_showers_contained == 1'\n",
    "NPVLCUTQ += ' and tksh_distance < 10.0'\n",
    "NPVLCUTQ += ' and tksh_angle > -0.9'"
   ]
  },
  {
   "cell_type": "code",
   "execution_count": null,
   "metadata": {},
   "outputs": [],
   "source": [
    "# loose box cuts\n",
    "NPLCUTQ = NPPRESQ\n",
    "NPLCUTQ += ' and CosmicIPAll3D > 10.'\n",
    "NPLCUTQ += ' and trkpid < 0.02'\n",
    "NPLCUTQ += ' and hits_ratio > 0.50'\n",
    "NPLCUTQ += ' and shrmoliereavg < 9'\n",
    "NPLCUTQ += ' and subcluster > 4'\n",
    "NPLCUTQ += ' and trkfit < 0.65'\n",
    "NPLCUTQ += ' and n_showers_contained == 1'\n",
    "NPLCUTQ += ' and tksh_distance < 6.0'\n",
    "NPLCUTQ += ' and (shr_tkfit_nhits_tot > 1 and shr_tkfit_dedx_max > 0.5 and shr_tkfit_dedx_max < 5.5)'\n",
    "NPLCUTQ += ' and secondshower_Y_nhit < 50'\n",
    "NPLCUTQ += ' and tksh_angle > -0.9'"
   ]
  },
  {
   "cell_type": "code",
   "execution_count": null,
   "metadata": {},
   "outputs": [],
   "source": [
    "# tight box cuts\n",
    "NPTCUTQ = NPLCUTQ\n",
    "NPTCUTQ += ' and CosmicIPAll3D > 30.'\n",
    "NPTCUTQ += ' and CosmicDirAll3D > -0.98 and CosmicDirAll3D < 0.98'\n",
    "NPTCUTQ += ' and trkpid < 0.02'\n",
    "NPTCUTQ += ' and hits_ratio > 0.65'\n",
    "NPTCUTQ += ' and shr_score < 0.25'\n",
    "NPTCUTQ += ' and shrmoliereavg > 2 and shrmoliereavg < 10'\n",
    "NPTCUTQ += ' and subcluster > 7'\n",
    "NPTCUTQ += ' and trkfit < 0.70'\n",
    "NPTCUTQ += ' and n_showers_contained == 1'\n",
    "NPTCUTQ += ' and tksh_distance < 4.0'\n",
    "NPTCUTQ += ' and trkshrhitdist2 < 1.5'\n",
    "NPTCUTQ += ' and (shr_tkfit_nhits_tot > 1 and shr_tkfit_dedx_max > 1.0 and shr_tkfit_dedx_max < 3.8)'\n",
    "NPTCUTQ += ' and (secondshower_Y_nhit<=8 or secondshower_Y_dot<=0.8 or anglediff_Y<=40 or secondshower_Y_vtxdist>=100)'\n",
    "NPTCUTQ += ' and secondshower_Y_nhit < 30'\n",
    "NPTCUTQ += ' and tksh_angle > -0.9 and tksh_angle < 0.70'"
   ]
  },
  {
   "cell_type": "code",
   "execution_count": null,
   "metadata": {},
   "outputs": [],
   "source": [
    "# OLD loose box cuts\n",
    "OLCUTQ = PRESQ\n",
    "OLCUTQ += ' and CosmicIP > 20.'\n",
    "OLCUTQ += ' and trkpid < 0.1'\n",
    "OLCUTQ += ' and hits_ratio > 0.5'\n",
    "OLCUTQ += ' and shr_score < 0.30'\n",
    "OLCUTQ += ' and n_showers_contained == 1'\n",
    "OLCUTQ += ' and tksh_distance < 6.0'\n",
    "OLCUTQ += ' and shr_tkfit_2cm_dedx_avg < 4.0'\n",
    "OLCUTQ += ' and tksh_angle > -0.9'\n",
    "# OLD tight box cuts\n",
    "OTCUTQ = OLCUTQ\n",
    "OTCUTQ += ' and tksh_distance < 3.5'\n",
    "OTCUTQ += ' and (shr_tkfit_2cm_dedx_Y > 0 and shr_tkfit_2cm_dedx_Y < 4.0 and shr_tkfit_2cm_dedx_U < 4.0 and shr_tkfit_2cm_dedx_V < 4.0)'\n",
    "OTCUTQ += ' and (shr_tkfit_gap10_dedx_Y > 0 and shr_tkfit_gap10_dedx_Y < 4.5 and shr_tkfit_gap10_dedx_U < 4.5 and shr_tkfit_gap10_dedx_V < 4.5)'\n",
    "OTCUTQ += ' and tksh_angle > -0.9 and tksh_angle < 0.75'\n",
    "OTCUTQ += ' and shrmoliereavg > 2 and shrmoliereavg < 9'\n",
    "OTCUTQ += ' and trkpid < -0.02'\n",
    "OTCUTQ += ' and n_showers_contained == 1'\n",
    "OTCUTQ += ' and shr_score < 0.275'\n",
    "OTCUTQ += ' and hits_ratio > 0.60'\n",
    "OTCUTQ += ' and (secondshower_Y_nhit<=8 or secondshower_Y_dot<=0.8 or anglediff_Y<=40 or secondshower_Y_vtxdist>=100)'\n",
    "OTCUTQ += ' and (trkfit < 0.45 or subcluster > 6)'"
   ]
  },
  {
   "cell_type": "code",
   "execution_count": null,
   "metadata": {},
   "outputs": [],
   "source": [
    "# BDT cuts\n",
    "# 0304 extnumi, pi0 and nonpi0\n",
    "BDTCQ = NPLCUTQ\n",
    "BDTCQ += ' and pi0_score > 0.67 and nonpi0_score > 0.70'"
   ]
  },
  {
   "cell_type": "code",
   "execution_count": null,
   "metadata": {},
   "outputs": [],
   "source": [
    "# Define actual selection\n",
    "QUERY = PRESQ\n",
    "# in case you do not want to look at the data\n",
    "#QUERY += ' and bnbdata==0'\n",
    "# in case you want to apply the CRT veto\n",
    "#if ISRUN3: QUERY += ' and (crtveto!=1) and (_closestNuCosmicDist > 20.)'"
   ]
  },
  {
   "cell_type": "code",
   "execution_count": null,
   "metadata": {
    "colab": {
     "base_uri": "https://localhost:8080/",
     "height": 561
    },
    "colab_type": "code",
    "executionInfo": {
     "elapsed": 2342,
     "status": "ok",
     "timestamp": 1560557343774,
     "user": {
      "displayName": "Stefano Roberto Soleti",
      "photoUrl": "https://lh4.googleusercontent.com/-hfLpspJu4Q0/AAAAAAAAAAI/AAAAAAAABmA/2kE4rtj8paU/s64/photo.jpg",
      "userId": "10372352518008961760"
     },
     "user_tz": 240
    },
    "id": "b93hN-pGYJ9T",
    "outputId": "17e7c7ed-3f12-4b03-805c-6698f1617878",
    "scrolled": false
   },
   "outputs": [],
   "source": [
    "v = \"$\\cos\\left(\\theta_{\\mu}\\right)$\"\n",
    "\n",
    "#QUERY += \" & pi0truth_elec_etot<15 & npi0 == 0 & ccnc == 0\"\n",
    "#QUERY += \" & muon_e>0.3 & npi0 == 0 & ccnc == 0\"\n",
    "#QUERY = \"(muon_e<0.3 | pi0truth_elec_etot>=15) & npi0 == 0 & npion == 0 & ccnc == 0 & nu_pdg == 14 & category == 2\"\n",
    "#QUERY += \" & ~((muon_e<0.3 | pi0truth_elec_etot>=15) & npi0 == 0 & npion == 0 & ccnc == 0 & nu_pdg == 14 & category != 5)\"\n",
    "\n",
    "\n",
    "VARIABLE, BINS, RANGE, XTIT = 'trkpid',14,(0.15,1.55),r\"Reconstructed Energy [GeV]\"\n",
    "#VARIABLE, BINS, RANGE, XTIT = 'reco',25,(0,1),r\"topological score\"\n",
    "#VARIABLE, BINS, RANGE, XTIT = 'pi0_mass_Y',20,(0,500),\"pi0 mass Y\"\n",
    "\n",
    "#VARIABLE, BINS, RANGE, XTIT = 'muon_e',20,(0.,1.),r\"Muon Energy [GeV]\"\n",
    "#VARIABLE, BINS, RANGE, XTIT = 'pi0truth_elec_etot',20,(0.,60),r\"Michel Energy [GeV]\"\n",
    "\n",
    "#fig, ax1, ax2 = my_plotter.plot_variable(\n",
    "fig, ax1, ax2 = my_plotter.plot_variable(\n",
    "    VARIABLE,   \n",
    "    query=QUERY,#+\" and category != 111\",\n",
    "    kind=\"event_category\",\n",
    "    #kind=\"sample\",\n",
    "    #kind=\"interaction\",\n",
    "    #kind='particle_pdg',\n",
    "    draw_sys=False,\n",
    "    stacksort=3,\n",
    "    title=XTIT,\n",
    "    #bins=asymm_bins,\n",
    "    bins=BINS,\n",
    "    range=RANGE,\n",
    ")[0:3]\n",
    "\n",
    "print(\"Profile likelihood: %.2f sigma @ 1.01e21 POT\" % my_plotter.significance_likelihood)\n",
    "print(\"s/sqrt(b): %.2f sigma @ 1.01e21 POT\" % my_plotter.significance)\n",
    "\n",
    "#ax1.set_ylim(0,40)\n",
    "#ax1.set_yscale(\"log\")\n",
    "#ax1.set_ylim(0,240)\n",
    "ax1.set_ylim(0,ax1.get_ylim()[1]*1.25)\n",
    "#ax2.set_ylim(0.5,1.5)\n",
    "#fig.savefig(ls.plots_path+VARIABLE+\"_\"+date_time+\".pdf\")"
   ]
  },
  {
   "cell_type": "code",
   "execution_count": null,
   "metadata": {},
   "outputs": [],
   "source": [
    "#cccpi.query(QUERY)[[\"run\",\"sub\",\"evt\",\"reco_e\"]]\n",
    "data.query(QUERY)[[\"run\",\"sub\",\"evt\",\"reco_e\"]]"
   ]
  },
  {
   "cell_type": "code",
   "execution_count": null,
   "metadata": {},
   "outputs": [],
   "source": []
  }
 ],
 "metadata": {
  "accelerator": "GPU",
  "colab": {
   "name": "Plotter.ipynb",
   "provenance": [],
   "version": "0.3.2"
  },
  "kernelspec": {
   "display_name": "Python 3",
   "language": "python",
   "name": "python3"
  },
  "language_info": {
   "codemirror_mode": {
    "name": "ipython",
    "version": 3
   },
   "file_extension": ".py",
   "mimetype": "text/x-python",
   "name": "python",
   "nbconvert_exporter": "python",
   "pygments_lexer": "ipython3",
   "version": "3.7.6"
  }
 },
 "nbformat": 4,
 "nbformat_minor": 1
}
