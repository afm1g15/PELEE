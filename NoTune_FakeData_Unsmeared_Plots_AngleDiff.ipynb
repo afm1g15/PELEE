{
 "cells": [
  {
   "cell_type": "code",
   "execution_count": 1,
   "id": "4f4783db",
   "metadata": {},
   "outputs": [
    {
     "name": "stdout",
     "output_type": "stream",
     "text": [
      "/home/alex/NuMI/PELEE/\n"
     ]
    }
   ],
   "source": [
    "import pandas as pd\n",
    "import matplotlib.pyplot as plt\n",
    "import matplotlib\n",
    "import sys\n",
    "import localSettings as ls\n",
    "import math\n",
    "print(ls.main_path)\n",
    "import load_data_run123\n",
    "import plotter_alex\n",
    "import importlib\n",
    "importlib.reload(plotter_alex)\n",
    "import uproot\n",
    "import matplotlib.pylab as pylab\n",
    "import numpy as np\n",
    "import math\n",
    "from sklearn.model_selection import train_test_split\n",
    "import pickle\n",
    "import xgboost as xgb\n",
    "import nue_booster \n",
    "importlib.reload(nue_booster)\n",
    "import awkward\n",
    "from matplotlib import gridspec\n",
    "from collections import defaultdict"
   ]
  },
  {
   "cell_type": "code",
   "execution_count": 2,
   "id": "1043840e",
   "metadata": {},
   "outputs": [],
   "source": [
    "ending = \"Jan19\""
   ]
  },
  {
   "cell_type": "code",
   "execution_count": null,
   "id": "086ae909",
   "metadata": {},
   "outputs": [],
   "source": []
  },
  {
   "cell_type": "code",
   "execution_count": 3,
   "id": "04133fd0",
   "metadata": {},
   "outputs": [
    {
     "name": "stdout",
     "output_type": "stream",
     "text": [
      "Unsmeared events\n",
      "[13.5307, 27.5839, 32.3634, 32.092, 37.6375, 53.4535, 54.3176, 96.7925, 152.26, 360.149, 513.621, 643.671, 658.952, 782.658, 958.56, 1058.24, 1440.58, 1988.79, 3225.38, 7191.97]\n",
      "\n",
      "AC\n",
      "[[0.780002, -0.0925422, 0.0141011, 0.0442163, 0.0226396, 0.00663638, 0.0590875, -0.0714121, -0.0136469, 0.00137231, 0.0, 0.0, 0.0, 0.0, 0.0, 0.0, 0.0, 0.0, 0.0, 0.0], [-0.0925422, 0.470223, -0.0564494, 0.0408744, 0.20727, 0.168402, 0.0426975, -0.0580723, -0.00581123, 0.00616339, 0.0, 0.0, 0.0, 0.0, 0.0, 0.0, 0.0, 0.0, 0.0, 0.0], [0.0141011, -0.0564494, 0.736504, -0.0366453, 0.0605985, 0.0497361, 0.0244536, 0.00725217, 0.0130866, -0.00199567, 0.0, 0.0, 0.0, 0.0, 0.0, 0.0, 0.0, 0.0, 0.0, 0.0], [0.0442163, 0.0408744, -0.0366453, 0.7709, -0.0570027, -0.00234473, 0.0430599, 0.0333054, 0.0216868, -0.00741793, 0.0, 0.0, 0.0, 0.0, 0.0, 0.0, 0.0, 0.0, 0.0, 0.0], [0.0226396, 0.20727, 0.0605985, -0.0570027, 0.441637, -0.12255, 0.0222794, 0.160658, 0.0143871, -0.00915452, 0.0, 0.0, 0.0, 0.0, 0.0, 0.0, 0.0, 0.0, 0.0, 0.0], [0.00663638, 0.168402, 0.0497361, -0.00234473, -0.12255, 0.603373, -0.0613, 0.128789, 0.067001, -0.0142411, 0.0, 0.0, 0.0, 0.0, 0.0, 0.0, 0.0, 0.0, 0.0, 0.0], [0.0590875, 0.0426975, 0.0244536, 0.0430599, 0.0222794, -0.0613, 0.472628, -0.0896427, 0.151168, -0.00228139, 0.0, 0.0, 0.0, 0.0, 0.0, 0.0, 0.0, 0.0, 0.0, 0.0], [-0.0714121, -0.0580723, 0.00725217, 0.0333054, 0.160658, 0.128789, -0.0896427, 0.55883, 0.152584, -0.00155926, 0.0, 0.0, 0.0, 0.0, 0.0, 0.0, 0.0, 0.0, 0.0, 0.0], [-0.0136469, -0.00581123, 0.0130866, 0.0216868, 0.0143871, 0.067001, 0.151168, 0.152584, 0.559813, 0.040533, 0.0, 0.0, 0.0, 0.0, 0.0, 0.0, 0.0, 0.0, 0.0, 0.0], [0.00137231, 0.00616339, -0.00199567, -0.00741793, -0.00915452, -0.0142411, -0.00228139, -0.00155926, 0.040533, 0.856115, 0.0, 0.0, 0.0, 0.0, 0.0, 0.0, 0.0, 0.0, 0.0, 0.0], [0.0, 0.0, 0.0, 0.0, 0.0, 0.0, 0.0, 0.0, 0.0, 0.0, 0.678031, 0.0251252, 0.0398417, -0.0954975, -0.0148563, -0.066909, 0.100812, -0.0293574, 0.0998119, -0.0211542], [0.0, 0.0, 0.0, 0.0, 0.0, 0.0, 0.0, 0.0, 0.0, 0.0, 0.0251252, 0.45257, 0.0695727, -0.0675436, 0.0237955, 0.0404826, -0.0200899, 0.192881, 0.0200371, -0.0273015], [0.0, 0.0, 0.0, 0.0, 0.0, 0.0, 0.0, 0.0, 0.0, 0.0, 0.0398417, 0.0695727, 0.651536, 0.0966563, -0.0747231, -0.0640708, -0.093675, 0.170353, -0.00977803, -0.00512207], [0.0, 0.0, 0.0, 0.0, 0.0, 0.0, 0.0, 0.0, 0.0, 0.0, -0.0954975, -0.0675436, 0.0966563, 0.72135, 0.0678585, -0.0571894, 0.0323627, -0.00183054, 0.0665197, -0.0132595], [0.0, 0.0, 0.0, 0.0, 0.0, 0.0, 0.0, 0.0, 0.0, 0.0, -0.0148563, 0.0237955, -0.0747231, 0.0678585, 0.556695, 0.0116472, 0.1239, 0.026332, 0.0882722, -0.030594], [0.0, 0.0, 0.0, 0.0, 0.0, 0.0, 0.0, 0.0, 0.0, 0.0, -0.066909, 0.0404826, -0.0640708, -0.0571894, 0.0116472, 0.570136, -0.0924551, 0.263217, 0.00326039, -0.00543317], [0.0, 0.0, 0.0, 0.0, 0.0, 0.0, 0.0, 0.0, 0.0, 0.0, 0.100812, -0.0200899, -0.093675, 0.0323627, 0.1239, -0.0924551, 0.509969, 0.146708, 0.109594, -0.0143714], [0.0, 0.0, 0.0, 0.0, 0.0, 0.0, 0.0, 0.0, 0.0, 0.0, -0.0293574, 0.192881, 0.170353, -0.00183054, 0.026332, 0.263217, 0.146708, 0.405544, -0.00328195, 0.0261773], [0.0, 0.0, 0.0, 0.0, 0.0, 0.0, 0.0, 0.0, 0.0, 0.0, 0.0998119, 0.0200371, -0.00977803, 0.0665197, 0.0882722, 0.00326039, 0.109594, -0.00328195, 0.769502, 0.0117255], [0.0, 0.0, 0.0, 0.0, 0.0, 0.0, 0.0, 0.0, 0.0, 0.0, -0.0211542, -0.0273015, -0.00512207, -0.0132595, -0.030594, -0.00543317, -0.0143714, 0.0261773, 0.0117255, 0.853224]]\n",
      "\n",
      "Prior Truth: \n",
      "[28.692635744908415, 32.06942196292763, 38.57408006985097, 44.399967456294895, 54.94548392337927, 69.71706965774386, 93.24473923035869, 136.821556465955, 229.69337281869664, 568.9664620716541, 644.5236767646209, 760.6300858343211, 893.3996811913257, 1050.7940968197122, 1251.303660351742, 1555.7243990977233, 1983.5003694926472, 2825.5734928725005, 4551.200438107946, 12087.37542901723]\n",
      "\n",
      "Errors: \n",
      "[62.3483, 26.2893, 28.4425, 36.971, 20.6104, 36.9916, 24.486, 39.3687, 38.6829, 192.325, 188.229, 521.125, 504.6, 157.137, 199.223, 605.428, 346.447, 774.3, 1033.93, 4411.03]\n",
      "\n",
      "################################################################\n",
      "\n",
      "cov\n",
      "[[3887.31, -1352.38, -230.613, 1074.39, -810.216, -1682.55, 1174.74, -1763.1, 180.319, 6270.72, 5910.2, -27058.7, -26528.1, 2649.47, -1440.02, -29729.5, 5624.39, -31306.7, 16352.3, 87098.3], [-1352.38, 691.129, 26.3517, -220.08, 420.634, 829.649, -339.544, 858.129, 204.33, -1880.22, -1075.27, 11849.8, 11562.2, 108.333, 2069.99, 13299.0, 227.466, 15558.1, -942.761, -22563.4], [-230.613, 26.3517, 808.978, -278.488, 194.302, 274.59, -35.4355, 323.818, 186.6, -211.977, 199.864, 3703.52, 3626.28, 526.856, 1184.58, 4322.11, 1139.49, 5700.91, 2277.21, 210.228], [1074.39, -220.08, -278.488, 1366.86, -315.499, -293.423, 507.854, -269.672, 428.184, 2517.43, 3502.57, -6309.6, -6345.45, 2329.12, 1712.38, -6789.47, 4944.5, -5084.46, 11855.3, 39144.7], [-810.216, 420.634, 194.302, -315.499, 424.788, 461.614, -186.926, 648.064, 207.258, -1062.39, -500.989, 8245.76, 8083.12, 340.528, 1705.7, 9456.15, 778.248, 11450.7, 958.111, -10333.1], [-1682.55, 829.649, 274.59, -293.423, 461.614, 1368.38, -510.015, 1273.31, 338.956, -2706.9, -1053.7, 16927.0, 16377.3, 427.947, 3369.11, 18643.7, 728.405, 21969.1, -979.824, -34482.3], [1174.74, -339.544, -35.4355, 507.854, -186.926, -510.015, 599.564, -398.295, 501.006, 3486.19, 2936.73, -8245.85, -7715.7, 2297.71, 867.462, -7444.36, 5352.45, -5345.72, 15222.6, 62168.6], [-1763.1, 858.129, 323.818, -269.672, 648.064, 1273.31, -398.295, 1549.89, 733.499, -1139.83, -814.369, 17704.2, 17771.3, 1475.0, 4045.02, 21890.6, 3842.14, 27931.4, 9320.4, 6637.81], [180.319, 204.33, 186.6, 428.184, 207.258, 338.956, 501.006, 733.499, 1496.36, 5343.43, 2756.72, 1723.51, 3276.78, 4566.08, 3731.99, 8577.36, 11958.5, 17816.1, 35895.7, 129896.0], [6270.72, -1880.22, -211.977, 2517.43, -1062.39, -2706.9, 3486.19, -1139.83, 5343.43, 36988.9, 10660.0, -55105.6, -43370.6, 16713.1, -846.078, -22755.1, 50163.3, 8877.59, 176490.0, 805048.0], [5910.2, -1075.27, 199.864, 3502.57, -500.989, -1053.7, 2936.73, -814.369, 2756.72, 10660.0, 35430.1, -24912.5, -28621.4, 17695.2, 21726.1, -38749.9, 36502.3, -26847.5, 66341.5, 91075.2], [-27058.7, 11849.8, 3703.52, -6309.6, 8245.76, 16927.0, -8245.85, 17704.2, 1723.51, -55105.6, -24912.5, 271571.0, 256479.0, -4486.52, 46609.2, 282828.0, -14189.8, 317330.0, -96676.4, -838687.0], [-26528.1, 11562.2, 3626.28, -6345.45, 8083.12, 16377.3, -7715.7, 17771.3, 3276.78, -43370.6, -28621.4, 256479.0, 254621.0, -1078.39, 39058.6, 286351.0, -4361.06, 332323.0, -41631.3, -534053.0], [2649.47, 108.333, 526.856, 2329.12, 340.528, 427.947, 2297.71, 1475.0, 4566.08, 16713.1, 17695.2, -4486.52, -1078.39, 24692.0, 19493.7, 6731.35, 44178.5, 34501.1, 114148.0, 338229.0], [-1440.02, 2069.99, 1184.58, 1712.38, 1705.7, 3369.11, 867.462, 4045.02, 3731.99, -846.078, 21726.1, 46609.2, 39058.6, 19493.7, 39689.6, 42099.5, 38647.4, 67937.1, 57747.6, -42239.7], [-29729.5, 13299.0, 4322.11, -6789.47, 9456.15, 18643.7, -7444.36, 21890.6, 8577.36, -22755.1, -38749.9, 282828.0, 286351.0, 6731.35, 42099.5, 366543.0, 31905.9, 447322.0, 104730.0, 99385.9], [5624.39, 227.466, 1139.49, 4944.5, 778.248, 728.405, 5352.45, 3842.14, 11958.5, 50163.3, 36502.3, -14189.8, -4361.06, 44178.5, 38647.4, 31905.9, 120026.0, 113776.0, 324099.0, 1142170.0], [-31306.7, 15558.1, 5700.91, -5084.46, 11450.7, 21969.1, -5345.72, 27931.4, 17816.1, 8877.59, -26847.5, 317330.0, 332323.0, 34501.1, 67937.1, 447322.0, 113776.0, 599540.0, 339347.0, 957878.0], [16352.3, -942.761, 2277.21, 11855.3, 958.111, -979.824, 15222.6, 9320.4, 35895.7, 176490.0, 66341.5, -96676.4, -41631.3, 114148.0, 57747.6, 104730.0, 324099.0, 339347.0, 1069000.0, 4209360.0], [87098.3, -22563.4, 210.228, 39144.7, -10333.1, -34482.3, 62168.6, 6637.81, 129896.0, 805048.0, 91075.2, -838687.0, -534053.0, 338229.0, -42239.7, 99385.9, 1142170.0, 957878.0, 4209360.0, 19457200.0]]\n",
      "\n"
     ]
    }
   ],
   "source": [
    "with open('../blockwise/stv-analysis-new/blockwise_unsmeared_events_angle_MC_ONLY_weighted_recoCut_incErr_noTune_'+ending+'.csv') as file:\n",
    "    content = file.readlines()\n",
    "events = content[0:]\n",
    "    \n",
    "for i in range(20):\n",
    "    events[i]=events[i].rstrip().rstrip(',')\n",
    "    events[i] = float(events[i])\n",
    "    \n",
    "print(\"Unsmeared events\")\n",
    "print(events)\n",
    "print(\"\")\n",
    "\n",
    "nuWro_events = events\n",
    "\n",
    "#------------------------------------------------------------------------------\n",
    "with open('../blockwise/stv-analysis-new/blockwise_unsmeared_AC_angle_MC_ONLY_weighted_recoCut_incErr_noTune_'+ending+'.csv') as file:\n",
    "    content = file.readlines()\n",
    "AC = content[0:]\n",
    "    \n",
    "for i in range(400):\n",
    "    AC[i]=AC[i].rstrip().rstrip(',')\n",
    "    AC[i] = float(AC[i])\n",
    "    \n",
    "\n",
    "chunks = [AC[x:x+20] for x in range(0, len(AC), 20)]\n",
    "\n",
    "print(\"AC\")\n",
    "print(chunks)\n",
    "nuWro_Ac = chunks\n",
    "print(\"\")\n",
    "#---------------------------------------------------------------\n",
    "\n",
    "with open('nue_full_500_catsel_nopions_angleDiff_usingSelection_prior_true_signal_blockwise_recoCut_comb_'+ending+'.csv') as file:\n",
    "    content = file.readlines()\n",
    "prior_true = content[0:]\n",
    "    \n",
    "for i in range(20):\n",
    "    prior_true[i]=prior_true[i].rstrip().rstrip(',')\n",
    "    prior_true[i] = float(prior_true[i])\n",
    "    \n",
    "print(\"Prior Truth: \")\n",
    "print(prior_true)\n",
    "print(\"\")\n",
    "\n",
    "prior_true_nuWro = prior_true\n",
    "\n",
    "#----------------------------------------------------------------\n",
    "with open('../blockwise/stv-analysis-new/blockwise_unsmeared_errors_angle_MC_ONLY_weighted_recoCut_incErr_noTune_'+ending+'.csv') as file:\n",
    "    content = file.readlines()\n",
    "errs = content[0:]\n",
    "    \n",
    "for i in range(20):\n",
    "    errs[i]=errs[i].rstrip().rstrip(',')\n",
    "    errs[i] = float(errs[i])\n",
    "    \n",
    "print(\"Errors: \")\n",
    "print(errs)\n",
    "print(\"\")\n",
    "print(\"################################################################\")\n",
    "print(\"\")\n",
    "\n",
    "nuWro_errs = errs\n",
    "\n",
    "#----------------------------------------------------------------\n",
    "with open('../blockwise/stv-analysis-new/blockwise_unsmeared_cov_matrix_angle_MC_ONLY_weighted_recoCut_incErr_noTune_'+ending+'.csv') as file:\n",
    "    content = file.readlines()\n",
    "cov = content[0:]\n",
    "    \n",
    "for i in range(400):\n",
    "    cov[i]=cov[i].rstrip().rstrip(',')\n",
    "    cov[i] = float(cov[i])\n",
    "    \n",
    "\n",
    "chunks_cov = [cov[x:x+20] for x in range(0, len(cov), 20)]\n",
    "\n",
    "print(\"cov\")\n",
    "print(chunks_cov)\n",
    "print(\"\")"
   ]
  },
  {
   "cell_type": "code",
   "execution_count": 4,
   "id": "fd3ecb2c",
   "metadata": {},
   "outputs": [
    {
     "name": "stdout",
     "output_type": "stream",
     "text": [
      "['20\\n', '0  0\\n', '1  0\\n', '2  0\\n', '3  0\\n', '4  0\\n', '5  0\\n', '6  0\\n', '7  0\\n', '8  0\\n', '9  0\\n', '10 1\\n', '11 1\\n', '12 1\\n', '13 1\\n', '14 1\\n', '15 1\\n', '16 1\\n', '17 1\\n', '18 1\\n', '19 1\\n', '20\\n', '0  0\\n', '1  0\\n', '2  0\\n', '3  0\\n', '4  0\\n', '5  0\\n', '6  0\\n', '7  0\\n', '8  0\\n', '9  0\\n', '10 1\\n', '11 1\\n', '12 1\\n', '13 1\\n', '14 1\\n', '15 1\\n', '16 1\\n', '17 1\\n', '18 1\\n', '19 1\\n']\n"
     ]
    }
   ],
   "source": [
    "with open('../blockwise/stv-analysis-new/blocks.txt') as file:\n",
    "    content = file.readlines()\n",
    "blocks = content[0:]\n",
    "\n",
    "print(blocks)"
   ]
  },
  {
   "cell_type": "code",
   "execution_count": 5,
   "id": "e3ffe599",
   "metadata": {},
   "outputs": [
    {
     "name": "stdout",
     "output_type": "stream",
     "text": [
      "Prior_Truth x AC: \n",
      "[   17.01137012    33.3986189     37.31714003    41.43113477\n",
      "    44.98028518    61.92940313    68.09956384   117.9150284\n",
      "   192.97104285   494.31966343   584.25701624   710.70961571\n",
      "   758.19450315   928.84861513  1079.88838646  1281.40157851\n",
      "  1762.34361564  2458.86957394  4108.25707699 10312.41943717]\n",
      "\n",
      "\n",
      "Unfolding Done with MC Data Signal: \n",
      "[13.5307, 27.5839, 32.3634, 32.092, 37.6375, 53.4535, 54.3176, 96.7925, 152.26, 360.149, 513.621, 643.671, 658.952, 782.658, 958.56, 1058.24, 1440.58, 1988.79, 3225.38, 7191.97]\n",
      "\n",
      "\n",
      "Difference\n",
      "[   3.48067012    5.8147189     4.95374003    9.33913477    7.34278518\n",
      "    8.47590313   13.78196384   21.1225284    40.71104285  134.17066343\n",
      "   70.63601624   67.03861571   99.24250315  146.19061513  121.32838646\n",
      "  223.16157851  321.76361564  470.07957394  882.87707699 3120.44943717]\n",
      "\n",
      "[20.4608453  17.41005794 13.2747044  22.54134438 16.32445226 13.68639563\n",
      " 20.23796199 17.91334717 21.09696991 27.14248964 12.08988755  9.43263102\n",
      " 13.08931979 15.73890651 11.23527098 17.41542872 18.25771165 19.11771079\n",
      " 21.49030746 30.25914002]\n"
     ]
    }
   ],
   "source": [
    "\n",
    "made_data_sig = np.dot(prior_true, chunks)\n",
    "print(\"Prior_Truth x AC: \")\n",
    "print(made_data_sig)\n",
    "print(\"\")\n",
    "print(\"\")\n",
    "print(\"Unfolding Done with MC Data Signal: \")\n",
    "print(events)\n",
    "print(\"\")\n",
    "\n",
    "diff = made_data_sig - events\n",
    "print(\"\")\n",
    "print(\"Difference\")\n",
    "print(diff)\n",
    "\n",
    "#for i in made_data_sig:\n",
    "#    print(i)\n",
    "\n",
    "print(\"\")\n",
    "diffasfrac = np.nan_to_num(diff/made_data_sig)\n",
    "print(diffasfrac*100)"
   ]
  },
  {
   "cell_type": "code",
   "execution_count": 6,
   "id": "5979c327",
   "metadata": {},
   "outputs": [
    {
     "data": {
      "image/png": "[encoded data removed]",
      "text/plain": [
       "<Figure size 432x288 with 1 Axes>"
      ]
     },
     "metadata": {
      "needs_background": "light"
     },
     "output_type": "display_data"
    },
    {
     "data": {
      "image/png": "[encoded data removed]",
      "text/plain": [
       "<Figure size 432x288 with 1 Axes>"
      ]
     },
     "metadata": {
      "needs_background": "light"
     },
     "output_type": "display_data"
    },
    {
     "data": {
      "image/png": "[encoded data removed]",
      "text/plain": [
       "<Figure size 432x288 with 1 Axes>"
      ]
     },
     "metadata": {
      "needs_background": "light"
     },
     "output_type": "display_data"
    }
   ],
   "source": [
    "import random\n",
    "import numpy\n",
    "from matplotlib import pyplot\n",
    "\n",
    "bins = np.arange(0, 21, 1)\n",
    "count = np.arange(0.0, 20.0, 1)\n",
    "\n",
    "pyplot.hist(count, bins, weights=made_data_sig, alpha=0.5, label='Prior_Truth x AC')\n",
    "pyplot.hist(count, bins, weights=events, alpha=0.5, label='Unfolding Done with MC Data Signal')\n",
    "pyplot.legend(loc='upper right')\n",
    "pyplot.xlabel(\"Bin Number\")\n",
    "pyplot.ylabel(\"Count\")\n",
    "pyplot.show()\n",
    "\n",
    "pyplot.hist(count, bins, weights=diff, alpha=0.5, label='Difference')\n",
    "pyplot.legend(loc='upper right')\n",
    "pyplot.xlabel(\"Bin Number\")\n",
    "pyplot.ylabel(\"Count\")\n",
    "pyplot.show()\n",
    "\n",
    "\n",
    "pyplot.hist(count, bins, weights=diffasfrac, alpha=0.5, label='Fractional Difference')\n",
    "pyplot.legend(loc='upper right')\n",
    "pyplot.xlabel(\"Bin Number\")\n",
    "pyplot.ylabel(\"Fractional Difference\")\n",
    "pyplot.show()"
   ]
  },
  {
   "cell_type": "code",
   "execution_count": 7,
   "id": "c2787afc",
   "metadata": {},
   "outputs": [
    {
     "data": {
      "image/png": "[encoded data removed]",
      "text/plain": [
       "<Figure size 720x432 with 1 Axes>"
      ]
     },
     "metadata": {
      "needs_background": "light"
     },
     "output_type": "display_data"
    }
   ],
   "source": [
    "fig = plt.figure(figsize=(10, 6))\n",
    "\n",
    "pyplot.hist(count, bins, weights=made_data_sig, alpha=0.5, label='Prior_Truth x AC')\n",
    "pyplot.hist(count, bins, weights=events, alpha=0.5, label='Unfolding Done with MC Data Signal')\n",
    "pyplot.legend(loc='upper left')\n",
    "pyplot.xlabel(\"Bin Number\")\n",
    "pyplot.ylabel(\"Count\")\n",
    "pyplot.title(\"GENIE Closure Test - Neutrino Energy\")\n",
    "pyplot.show()\n",
    "\n",
    "fig.savefig(\"noTune_fakeData_closure_test_angle_\"+ending+\".svg\",bbox_inches='tight' )\n"
   ]
  },
  {
   "cell_type": "code",
   "execution_count": 8,
   "id": "519c5df0",
   "metadata": {},
   "outputs": [
    {
     "data": {
      "image/png": "[encoded data removed]",
      "text/plain": [
       "<Figure size 720x432 with 1 Axes>"
      ]
     },
     "metadata": {
      "needs_background": "light"
     },
     "output_type": "display_data"
    }
   ],
   "source": [
    "fig = plt.figure(figsize=(10, 6))\n",
    "\n",
    "pyplot.hist(count, bins, weights=diff, alpha=0.5)\n",
    "#pyplot.legend(loc='upper right')\n",
    "pyplot.xlabel(\"Bin Number\")\n",
    "pyplot.ylabel(\"Difference\")\n",
    "pyplot.title(\"GENIE Closure Test - Difference\")\n",
    "pyplot.show()\n",
    "\n",
    "fig.savefig(\"noTune_fakeData_closure_test_diff_angle_\"+ending+\".svg\",bbox_inches='tight' )"
   ]
  },
  {
   "cell_type": "code",
   "execution_count": 9,
   "id": "f2105818",
   "metadata": {},
   "outputs": [
    {
     "data": {
      "image/png": "[encoded data removed]",
      "text/plain": [
       "<Figure size 720x432 with 2 Axes>"
      ]
     },
     "metadata": {
      "needs_background": "light"
     },
     "output_type": "display_data"
    }
   ],
   "source": [
    "fig = plt.figure(figsize=(10, 6))  \n",
    "    \n",
    "plt.pcolor(bins, bins, chunks, cmap='OrRd', edgecolors='k')#, vmin=-1, vmax=1)\n",
    "            \n",
    "cbar = plt.colorbar()\n",
    "cbar.ax.tick_params(labelsize=14)\n",
    "#cbar.set_label(r\"Log (Power)\", size=15)\n",
    "\n",
    "plt.xlabel('Bin Number', fontsize=15)\n",
    "plt.ylabel('Bin Number', fontsize=15)\n",
    "\n",
    "plt.title('Additional Smearing Matrix', fontsize=15)\n",
    "\n",
    "plt.show()\n",
    "\n",
    "fig.savefig(\"noTune_fakeData_closure_test_Ac_angle_\"+ending+\".svg\",bbox_inches='tight' )"
   ]
  },
  {
   "cell_type": "code",
   "execution_count": 10,
   "id": "5c56fce6",
   "metadata": {},
   "outputs": [
    {
     "data": {
      "image/png": "[encoded data removed]",
      "text/plain": [
       "<Figure size 720x432 with 2 Axes>"
      ]
     },
     "metadata": {
      "needs_background": "light"
     },
     "output_type": "display_data"
    }
   ],
   "source": [
    "fig = plt.figure(figsize=(10, 6))  \n",
    "\n",
    "#print(bins)\n",
    "bins = np.arange(0, 21, 1)\n",
    "count = np.arange(0.0, 20.0, 1)\n",
    "    \n",
    "plt.pcolor(bins, bins, (chunks_cov), cmap='OrRd', edgecolors='k')#, vmin=-1, vmax=1)\n",
    "            \n",
    "cbar = plt.colorbar()\n",
    "cbar.ax.tick_params(labelsize=14)\n",
    "#cbar.set_label(r\"Log (Power)\", size=15)\n",
    "\n",
    "plt.xlabel('Bin Number', fontsize=15)\n",
    "plt.ylabel('Bin Number', fontsize=15)\n",
    "\n",
    "plt.title(' Log Covariance Matrix', fontsize=15)\n",
    "\n",
    "plt.show()"
   ]
  },
  {
   "cell_type": "code",
   "execution_count": 11,
   "id": "21e873ed",
   "metadata": {},
   "outputs": [
    {
     "name": "stdout",
     "output_type": "stream",
     "text": [
      "Jan19\n",
      "[[3887.31, -1352.38, -230.613, 1074.39, -810.216, -1682.55, 1174.74, -1763.1, 180.319, 6270.72, 5910.2, -27058.7, -26528.1, 2649.47, -1440.02, -29729.5, 5624.39, -31306.7, 16352.3, 87098.3], [-1352.38, 691.129, 26.3517, -220.08, 420.634, 829.649, -339.544, 858.129, 204.33, -1880.22, -1075.27, 11849.8, 11562.2, 108.333, 2069.99, 13299.0, 227.466, 15558.1, -942.761, -22563.4], [-230.613, 26.3517, 808.978, -278.488, 194.302, 274.59, -35.4355, 323.818, 186.6, -211.977, 199.864, 3703.52, 3626.28, 526.856, 1184.58, 4322.11, 1139.49, 5700.91, 2277.21, 210.228], [1074.39, -220.08, -278.488, 1366.86, -315.499, -293.423, 507.854, -269.672, 428.184, 2517.43, 3502.57, -6309.6, -6345.45, 2329.12, 1712.38, -6789.47, 4944.5, -5084.46, 11855.3, 39144.7], [-810.216, 420.634, 194.302, -315.499, 424.788, 461.614, -186.926, 648.064, 207.258, -1062.39, -500.989, 8245.76, 8083.12, 340.528, 1705.7, 9456.15, 778.248, 11450.7, 958.111, -10333.1], [-1682.55, 829.649, 274.59, -293.423, 461.614, 1368.38, -510.015, 1273.31, 338.956, -2706.9, -1053.7, 16927.0, 16377.3, 427.947, 3369.11, 18643.7, 728.405, 21969.1, -979.824, -34482.3], [1174.74, -339.544, -35.4355, 507.854, -186.926, -510.015, 599.564, -398.295, 501.006, 3486.19, 2936.73, -8245.85, -7715.7, 2297.71, 867.462, -7444.36, 5352.45, -5345.72, 15222.6, 62168.6], [-1763.1, 858.129, 323.818, -269.672, 648.064, 1273.31, -398.295, 1549.89, 733.499, -1139.83, -814.369, 17704.2, 17771.3, 1475.0, 4045.02, 21890.6, 3842.14, 27931.4, 9320.4, 6637.81], [180.319, 204.33, 186.6, 428.184, 207.258, 338.956, 501.006, 733.499, 1496.36, 5343.43, 2756.72, 1723.51, 3276.78, 4566.08, 3731.99, 8577.36, 11958.5, 17816.1, 35895.7, 129896.0], [6270.72, -1880.22, -211.977, 2517.43, -1062.39, -2706.9, 3486.19, -1139.83, 5343.43, 36988.9, 10660.0, -55105.6, -43370.6, 16713.1, -846.078, -22755.1, 50163.3, 8877.59, 176490.0, 805048.0], [5910.2, -1075.27, 199.864, 3502.57, -500.989, -1053.7, 2936.73, -814.369, 2756.72, 10660.0, 35430.1, -24912.5, -28621.4, 17695.2, 21726.1, -38749.9, 36502.3, -26847.5, 66341.5, 91075.2], [-27058.7, 11849.8, 3703.52, -6309.6, 8245.76, 16927.0, -8245.85, 17704.2, 1723.51, -55105.6, -24912.5, 271571.0, 256479.0, -4486.52, 46609.2, 282828.0, -14189.8, 317330.0, -96676.4, -838687.0], [-26528.1, 11562.2, 3626.28, -6345.45, 8083.12, 16377.3, -7715.7, 17771.3, 3276.78, -43370.6, -28621.4, 256479.0, 254621.0, -1078.39, 39058.6, 286351.0, -4361.06, 332323.0, -41631.3, -534053.0], [2649.47, 108.333, 526.856, 2329.12, 340.528, 427.947, 2297.71, 1475.0, 4566.08, 16713.1, 17695.2, -4486.52, -1078.39, 24692.0, 19493.7, 6731.35, 44178.5, 34501.1, 114148.0, 338229.0], [-1440.02, 2069.99, 1184.58, 1712.38, 1705.7, 3369.11, 867.462, 4045.02, 3731.99, -846.078, 21726.1, 46609.2, 39058.6, 19493.7, 39689.6, 42099.5, 38647.4, 67937.1, 57747.6, -42239.7], [-29729.5, 13299.0, 4322.11, -6789.47, 9456.15, 18643.7, -7444.36, 21890.6, 8577.36, -22755.1, -38749.9, 282828.0, 286351.0, 6731.35, 42099.5, 366543.0, 31905.9, 447322.0, 104730.0, 99385.9], [5624.39, 227.466, 1139.49, 4944.5, 778.248, 728.405, 5352.45, 3842.14, 11958.5, 50163.3, 36502.3, -14189.8, -4361.06, 44178.5, 38647.4, 31905.9, 120026.0, 113776.0, 324099.0, 1142170.0], [-31306.7, 15558.1, 5700.91, -5084.46, 11450.7, 21969.1, -5345.72, 27931.4, 17816.1, 8877.59, -26847.5, 317330.0, 332323.0, 34501.1, 67937.1, 447322.0, 113776.0, 599540.0, 339347.0, 957878.0], [16352.3, -942.761, 2277.21, 11855.3, 958.111, -979.824, 15222.6, 9320.4, 35895.7, 176490.0, 66341.5, -96676.4, -41631.3, 114148.0, 57747.6, 104730.0, 324099.0, 339347.0, 1069000.0, 4209360.0], [87098.3, -22563.4, 210.228, 39144.7, -10333.1, -34482.3, 62168.6, 6637.81, 129896.0, 805048.0, 91075.2, -838687.0, -534053.0, 338229.0, -42239.7, 99385.9, 1142170.0, 957878.0, 4209360.0, 19457200.0]]\n"
     ]
    }
   ],
   "source": [
    "np.savetxt(\"data_covmat_MC_noTune_chi2_angleDiff_comb_\"+ending+\".csv\", \n",
    "           chunks_cov,\n",
    "           delimiter =\", \", \n",
    "           fmt ='% s')\n",
    "\n",
    "print(ending)\n",
    "print(chunks_cov)"
   ]
  },
  {
   "cell_type": "markdown",
   "id": "b2be1cc9",
   "metadata": {},
   "source": [
    "## Convert to xsec units - uneeded right now"
   ]
  },
  {
   "cell_type": "markdown",
   "id": "c0d972a5",
   "metadata": {},
   "source": [
    "###################\n",
    "### #N argon target calculation\n",
    "###################\n",
    "\n",
    "density = 1.3836  #g/cm^3\n",
    "volume = (246-10)*(106-(-106))*(1026-10)         #cm^3\n",
    "NA = 6.022E23   #atoms/mol\n",
    "Nnuc = 40       #nucleans / atom\n",
    "mmol = 39.95    #g/mol\n",
    "\n",
    "Narg = (density * volume * NA * Nnuc)/mmol   #nucleons\n",
    "\n",
    "print(\"number of argon targets = \", Narg)"
   ]
  },
  {
   "cell_type": "markdown",
   "id": "0cae4282",
   "metadata": {},
   "source": [
    "#Need R1 AND R3\n",
    "\n",
    "####NUE\n",
    "POT_R1 = 2.0E20 \n",
    "int_flux_per_POT_R1 = 1.1864530596659353e-11\n",
    "POT_R3 = 5.014E20\n",
    "int_flux_per_POT_R3 = 8.628376225834778e-12\n",
    "\n",
    "int_flux = (int_flux_per_POT_R1*POT_R1) + (int_flux_per_POT_R3*POT_R3)    #cm^-2\n",
    "\n",
    "print(\"Nue integrated flux: \", int_flux)\n",
    "\n",
    "####NUMU\n",
    "\n",
    "POT_numu_R1 = 2.0E20 \n",
    "int_flux_per_POT_numu_R1 = 5.455771063338641e-10\n",
    "POT_numu_R3 = 5.014E20 \n",
    "int_flux_per_POT_numu_R3 = 3.6729003479115414e-10\n",
    "\n",
    "int_flux_numu = (int_flux_per_POT_numu_R1*POT_numu_R1) + (int_flux_per_POT_numu_R3*POT_numu_R3)    #cm^-2\n",
    "\n",
    "print(\"Numu integrated flux: \", int_flux_numu)"
   ]
  },
  {
   "cell_type": "markdown",
   "id": "76072d85",
   "metadata": {},
   "source": [
    "nue_events = np.array(events[0:10])\n",
    "numu_events = np.array(events[10:20])\n",
    "\n",
    "nue_errs = np.array(errs[0:10])\n",
    "numu_errs = np.array(errs[10:20])"
   ]
  },
  {
   "cell_type": "markdown",
   "id": "277a03a3",
   "metadata": {},
   "source": [
    "#number of events\n",
    "\n",
    "xsec_nue_events = nue_events / (int_flux * Narg )     \n",
    "xsec_numu_events = numu_events / (int_flux_numu * Narg )     \n"
   ]
  },
  {
   "cell_type": "markdown",
   "id": "40299080",
   "metadata": {},
   "source": [
    "#Need the four sections of the cov matrix\n",
    "\n",
    "blockwise_errs = chunks_cov\n",
    "#print(blockwise_errs)\n",
    "#print(\"\")\n",
    "\n",
    "#NUE ONLY\n",
    "bot_left = blockwise_errs[:10]\n",
    "for i in range(len(bot_left)):\n",
    "    bot_left[i] = bot_left[i][:10]\n",
    "    \n",
    "nue_errs_bot = np.array(bot_left)/((int_flux*int_flux)*(Narg*Narg))\n",
    "xsec_nue_errs = (np.sqrt(np.diag(nue_errs_bot)))\n",
    "    \n",
    "#MIX\n",
    "bot_right = blockwise_errs[:10]\n",
    "for i in range(len(bot_right)):\n",
    "    bot_right[i] = bot_right[i][10:]\n",
    "    \n",
    "mix_errs_bot = np.array(bot_right)/((int_flux*int_flux_numu)*(Narg*Narg))\n",
    "xsec_botmix_errs = np.nan_to_num(np.sqrt(np.diag(mix_errs_bot)))\n",
    "\n",
    "    \n",
    "#MIX\n",
    "top_left = blockwise_errs[10:]\n",
    "for i in range(len(top_left)):\n",
    "    top_left[i] = top_left[i][:10]\n",
    "    \n",
    "mix_errs_top = np.array(top_left)/((int_flux*int_flux_numu)*(Narg*Narg))\n",
    "xsec_topmix_errs = np.nan_to_num(np.sqrt(np.diag(mix_errs_top)))\n",
    "\n",
    "#NUMU ONLY\n",
    "top_right = blockwise_errs[10:]\n",
    "for i in range(len(top_right)):\n",
    "    top_right[i] = top_right[i][10:]\n",
    "    \n",
    "numu_errs_top = np.array(top_right)/((int_flux_numu*int_flux_numu)*(Narg*Narg))\n",
    "xsec_numu_errs = (np.sqrt(np.diag(numu_errs_top)))\n"
   ]
  },
  {
   "cell_type": "markdown",
   "id": "2c7dc4d3",
   "metadata": {},
   "source": [
    "### Calculate ratio uncertainties\n",
    "\n",
    "xsec_ratio_events = np.nan_to_num(xsec_nue_events/xsec_numu_events)\n",
    "print(\"Ratio event counts: \", xsec_ratio_events)\n",
    "print(\"\")\n",
    "\n",
    "#####################\n",
    "\n",
    "ratio_sq = (xsec_nue_events/xsec_numu_events)*(xsec_nue_events/xsec_numu_events)\n",
    "print(\"ratio_sq: \", ratio_sq)\n",
    "print(\"\")\n",
    "nue_term = (xsec_nue_errs*xsec_nue_errs)/(xsec_nue_events*xsec_nue_events)\n",
    "print(\"nue: \", nue_term)\n",
    "print(\"\")\n",
    "numu_term = (xsec_numu_errs*xsec_numu_errs)/(xsec_numu_events*xsec_numu_events)\n",
    "print(\"numu: \", numu_term)\n",
    "print(\"\")\n",
    "mix_1 = (xsec_botmix_errs*xsec_botmix_errs)/(xsec_numu_events*xsec_nue_events)\n",
    "print(\"mix: \", mix_1)\n",
    "print(\"\")\n",
    "mix_2 = (xsec_topmix_errs*xsec_topmix_errs)/(xsec_numu_events*xsec_nue_events)\n",
    "print(\"mix: \", mix_2)\n",
    "print(\"\")\n",
    "\n",
    "ratio_var_errs = ratio_sq*(nue_term + numu_term - mix_1 - mix_2)\n",
    "print(ratio_var_errs)\n",
    "xsec_ratio_errs = np.nan_to_num(np.sqrt(abs(ratio_var_errs)))\n",
    "print(\"Ratio errs: \", xsec_ratio_errs)"
   ]
  },
  {
   "cell_type": "markdown",
   "id": "64f9929b",
   "metadata": {},
   "source": [
    "print(xsec_nue_events)\n",
    "print(\"\")\n",
    "print(xsec_numu_events)\n",
    "print(\"\")\n",
    "print(xsec_nue_errs)\n",
    "print(\"\")\n",
    "print(xsec_numu_errs)"
   ]
  },
  {
   "cell_type": "markdown",
   "id": "6b108268",
   "metadata": {},
   "source": [
    "import random\n",
    "import numpy\n",
    "from matplotlib import pyplot\n",
    "\"\"\"\n",
    "bins = np.arange(0, 5.5, 0.5)\n",
    "count = np.arange(0.1, 5.1, 0.5)\n",
    "print(count)\n",
    "\n",
    "plt.ylim(0, 5E-39)\n",
    "\n",
    "plt.xlabel(\"Energy [GeV]\")\n",
    "plt.ylabel(\"xsec [cm^2]\")\n",
    "\n",
    "pyplot.hist(count, bins, weights=xsec_nue_events, alpha=0.5)\n",
    "#pyplot.legend(loc='upper right')\n",
    "pyplot.show()\n",
    "\"\"\"\n",
    "\n",
    "nue_fig = plt.figure(figsize=(8, 7))\n",
    "nue_gs = gridspec.GridSpec(2, 1, height_ratios=[2, 1])\n",
    "nue_ax1 = plt.subplot(nue_gs[0])\n",
    "nue_ax1.set_xlim([-1, 1])\n",
    "\n",
    "bins = np.arange(-1.0, 1.2, 0.2)\n",
    "bincenters = np.arange(-0.9, 1.1, 0.2)\n",
    "bin_edges = np.arange(-1.0, 1.2, 0.2)\n",
    "bin_size = [(bin_edges[i + 1] - bin_edges[i]) / 2\n",
    "            for i in range(len(bin_edges) - 1)]\n",
    "count = np.arange(-0.95, 1.05, 0.2)\n",
    "weights = []\n",
    "for i in range(len(count)):\n",
    "    weight = count[i]*xsec_nue_events[i]\n",
    "    weights.append(weight)\n",
    "\n",
    "sel = nue_ax1.hist(count, bins, color='deepskyblue', weights=xsec_nue_events)\n",
    "plt.ylim(0, 1E-39)\n",
    "nue_ax1.set_xlabel('cos(Lepton Angle)', fontsize=15)\n",
    "nue_ax1.set_ylabel('xsec [cm^2 / GeV / nucleon]', fontsize=15)\n",
    "nue_ax1.set_title(\"Unfolded Nue cos(Lepton Angle)\")\n",
    "\n",
    "lower_err = np.nan_to_num(xsec_nue_events-xsec_nue_errs)\n",
    "\n",
    "nue_ax1.bar(bincenters, xsec_nue_errs*2,width=[n*2 for n in bin_size],facecolor='tab:green',alpha=0.2,bottom=(lower_err))\n",
    "\n",
    "nuWro_xsec_nue_events = xsec_nue_events\n",
    "nuWro_xsec_nue_errs = xsec_nue_errs\n",
    "nuWro_lower_err = lower_err\n",
    "\n",
    "nue_fig.savefig(\"unfolded_nuWro_fakeData_MC_nue_angle_\"+ending+\".svg\",bbox_inches='tight' )"
   ]
  },
  {
   "cell_type": "markdown",
   "id": "252f47b4",
   "metadata": {},
   "source": [
    "import random\n",
    "import numpy\n",
    "from matplotlib import pyplot\n",
    "\n",
    "numu_fig = plt.figure(figsize=(8, 7))\n",
    "numu_gs = gridspec.GridSpec(2, 1, height_ratios=[2, 1])\n",
    "numu_ax1 = plt.subplot(numu_gs[0])\n",
    "numu_ax1.set_xlim([-1, 1])\n",
    "\n",
    "bins = np.arange(-1.0, 1.2, 0.2)\n",
    "bincenters = np.arange(-0.9, 1.1, 0.2)\n",
    "bin_edges = np.arange(-1.0, 1.2, 0.2)\n",
    "bin_size = [(bin_edges[i + 1] - bin_edges[i]) / 2\n",
    "            for i in range(len(bin_edges) - 1)]\n",
    "count = np.arange(-0.95, 1.05, 0.2)\n",
    "weights = []\n",
    "for i in range(len(count)):\n",
    "    weight = count[i]*xsec_numu_events[i]\n",
    "    weights.append(weight)\n",
    "\n",
    "sel = numu_ax1.hist(count, bins, color='deepskyblue', weights=xsec_numu_events)\n",
    "plt.ylim(0, 4E-40)\n",
    "numu_ax1.set_xlabel('cos(Lepton Angle)', fontsize=15)\n",
    "numu_ax1.set_ylabel('xsec [cm^2 / GeV / nucleon]', fontsize=15)\n",
    "numu_ax1.set_title(\"Unfolded Numu cos(Lepton Angle)\")\n",
    "\n",
    "lower_err = np.nan_to_num(xsec_numu_events-xsec_numu_errs)\n",
    "\n",
    "numu_ax1.bar(bincenters, xsec_numu_errs*2,width=[n*2 for n in bin_size],facecolor='tab:green',alpha=0.2,bottom=(lower_err))\n",
    "\n",
    "nuWro_xsec_numu_events = xsec_numu_events\n",
    "nuWro_xsec_numu_errs = xsec_numu_errs\n",
    "nuWro_lower_err_numu = lower_err\n",
    "\n",
    "numu_fig.savefig(\"unfolded_nuWro_fakeData_MC_numu_angle_\"+ending+\".svg\",bbox_inches='tight' )"
   ]
  },
  {
   "cell_type": "markdown",
   "id": "3fcd0604",
   "metadata": {},
   "source": [
    "import random\n",
    "import numpy\n",
    "from matplotlib import pyplot\n",
    "\n",
    "bins = np.arange(-1.0, 1.2, 0.2)\n",
    "count = np.arange(-0.95, 1.05, 0.2)\n",
    "#print(count)\n",
    "\n",
    "plt.ylim(0, 5)\n",
    "plt.xlabel(\"cos(Lepton Angle)\")\n",
    "plt.ylabel(\"xsec [cm^2 / GeV / nucleon]\")\n",
    "\n",
    "print(xsec_nue_events/xsec_numu_events)\n",
    "print(xsec_ratio_events)\n",
    "\n",
    "pyplot.hist(count, bins, weights=np.nan_to_num(xsec_nue_events/xsec_numu_events), alpha=0.5)\n",
    "pyplot.hist(count, bins, weights=xsec_ratio_events, alpha=0.5)\n",
    "\n",
    "#pyplot.legend(loc='upper right')\n",
    "pyplot.show()"
   ]
  },
  {
   "cell_type": "markdown",
   "id": "8102bf77",
   "metadata": {},
   "source": [
    "import random\n",
    "import numpy\n",
    "from matplotlib import pyplot\n",
    "\n",
    "\n",
    "ratio_fig = plt.figure(figsize=(8, 7))\n",
    "ratio_gs = gridspec.GridSpec(2, 1, height_ratios=[2, 1])\n",
    "ratio_ax1 = plt.subplot(ratio_gs[0])\n",
    "ratio_ax1.set_xlim([-1, 1])\n",
    "\n",
    "bins = np.arange(-1.0, 1.2, 0.2)\n",
    "bincenters = np.arange(-0.9, 1.1, 0.2)\n",
    "bin_edges = np.arange(-1.0, 1.2, 0.2)\n",
    "bin_size = [(bin_edges[i + 1] - bin_edges[i]) / 2\n",
    "            for i in range(len(bin_edges) - 1)]\n",
    "count = np.arange(-0.95, 1.05, 0.2)\n",
    "#print(len(count))\n",
    "#weights = []\n",
    "#for i in range(len(count)):\n",
    "#    weight = count[i]*xsec_ratio_events[i]\n",
    "#    weights.append(weight)\n",
    "#test_weights = [(random.random()/random.random() - 0.75) for x in range(len(count))]\n",
    "#print(count)\n",
    "#xsec_ratio_events[7] = 0\n",
    "#print(xsec_ratio_events)\n",
    "print(\"\")\n",
    "sel = ratio_ax1.hist(count, bins, color='deepskyblue', weights=xsec_ratio_events)  # , weights=xsec_ratio_events\n",
    "print(sel[0])\n",
    "\n",
    "plt.ylim(0, 6)\n",
    "ratio_ax1.set_xlabel('cos(Lepton Angle)', fontsize=15)\n",
    "ratio_ax1.set_ylabel('Ratio', fontsize=15)\n",
    "ratio_ax1.set_title(\"Unfolded Ratio cos(Lepton Angle)\")\n",
    "\n",
    "lower_err = np.nan_to_num(xsec_ratio_events-xsec_ratio_errs)\n",
    "\n",
    "ratio_ax1.bar(bincenters, xsec_ratio_errs*2,width=[n*2 for n in bin_size],facecolor='tab:green',alpha=0.2,bottom=(lower_err))\n",
    "\n",
    "nuWro_xsec_ratio_events = xsec_ratio_events\n",
    "nuWro_xsec_ratio_errs = xsec_ratio_errs\n",
    "nuWro_lower_err_ratio = lower_err\n",
    "\n",
    "ratio_fig.savefig(\"unfolded_nuWro_fakeData_MC_ratio_angle_\"+ending+\".svg\",bbox_inches='tight' )"
   ]
  },
  {
   "cell_type": "code",
   "execution_count": null,
   "id": "83c0ada2",
   "metadata": {},
   "outputs": [],
   "source": []
  },
  {
   "cell_type": "markdown",
   "id": "7a1981a2",
   "metadata": {},
   "source": [
    "## Now do the same with RUN1 genie unfolding - unneeded"
   ]
  },
  {
   "cell_type": "markdown",
   "id": "a26da3ee",
   "metadata": {},
   "source": [
    "with open('../blockwise/stv-analysis-new/blockwise_unsmeared_events_angle_MC_ONLY_weighted_recoCut_incErr_run1_'+ending+'.csv') as file:\n",
    "    content = file.readlines()\n",
    "events = content[0:]\n",
    "    \n",
    "for i in range(20):\n",
    "    events[i]=events[i].rstrip().rstrip(',')\n",
    "    events[i] = float(events[i])\n",
    "    \n",
    "print(\"Unsmeared events\")\n",
    "print(events)\n",
    "print(\"\")\n",
    "\n",
    "genie_events = events\n",
    "\n",
    "#------------------------------------------------------------------------------\n",
    "with open('../blockwise/stv-analysis-new/blockwise_unsmeared_AC_angle_MC_ONLY_weighted_recoCut_incErr_run1_'+ending+'.csv') as file:\n",
    "    content = file.readlines()\n",
    "AC = content[0:]\n",
    "    \n",
    "for i in range(400):\n",
    "    AC[i]=AC[i].rstrip().rstrip(',')\n",
    "    AC[i] = float(AC[i])\n",
    "    \n",
    "\n",
    "chunks = [AC[x:x+20] for x in range(0, len(AC), 20)]\n",
    "\n",
    "print(\"AC\")\n",
    "print(chunks)\n",
    "print(\"\")\n",
    "#---------------------------------------------------------------\n",
    "\n",
    "with open('nue_full_500_catsel_nopions_angleDiff_usingSelection_prior_true_signal_blockwise_recoCut_'+ending+'.csv') as file:\n",
    "    content = file.readlines()\n",
    "prior_true = content[0:]\n",
    "    \n",
    "for i in range(20):\n",
    "    prior_true[i]=prior_true[i].rstrip().rstrip(',')\n",
    "    prior_true[i] = float(prior_true[i])\n",
    "    \n",
    "print(\"Prior Truth: \")\n",
    "print(prior_true)\n",
    "print(\"\")\n",
    "\n",
    "#----------------------------------------------------------------\n",
    "with open('../blockwise/stv-analysis-new/blockwise_unsmeared_errors_angle_MC_ONLY_weighted_recoCut_incErr_run1_'+ending+'.csv') as file:\n",
    "    content = file.readlines()\n",
    "errs = content[0:]\n",
    "    \n",
    "for i in range(20):\n",
    "    errs[i]=errs[i].rstrip().rstrip(',')\n",
    "    errs[i] = float(errs[i])\n",
    "    \n",
    "print(\"Errors: \")\n",
    "print(errs)\n",
    "print(\"\")\n",
    "print(\"################################################################\")\n",
    "print(\"\")\n",
    "\n",
    "genie_errors = errs\n",
    "\n",
    "#----------------------------------------------------------------\n",
    "with open('../blockwise/stv-analysis-new/blockwise_unsmeared_cov_matrix_angle_MC_ONLY_weighted_recoCut_incErr_run1_'+ending+'.csv') as file:\n",
    "    content = file.readlines()\n",
    "cov = content[0:]\n",
    "    \n",
    "for i in range(400):\n",
    "    cov[i]=cov[i].rstrip().rstrip(',')\n",
    "    cov[i] = float(cov[i])\n",
    "    \n",
    "\n",
    "chunks_cov = [cov[x:x+20] for x in range(0, len(cov), 20)]\n",
    "\n",
    "print(\"cov\")\n",
    "print(chunks_cov)\n",
    "print(\"\")"
   ]
  },
  {
   "cell_type": "markdown",
   "id": "acae384a",
   "metadata": {},
   "source": [
    "\n",
    "made_data_sig = np.dot(prior_true, chunks)\n",
    "print(\"Prior_Truth x AC: \")\n",
    "print(made_data_sig)\n",
    "print(\"\")\n",
    "print(\"\")\n",
    "print(\"Unfolding Done with MC Data Signal: \")\n",
    "print(events)\n",
    "print(\"\")\n",
    "\n",
    "diff = made_data_sig - events\n",
    "print(\"\")\n",
    "print(\"Difference\")\n",
    "print(diff)\n",
    "\n",
    "#for i in made_data_sig:\n",
    "#    print(i)\n",
    "\n",
    "print(\"\")\n",
    "diffasfrac = np.nan_to_num(diff/made_data_sig)\n",
    "print(diffasfrac*100)"
   ]
  },
  {
   "cell_type": "markdown",
   "id": "0b0a3531",
   "metadata": {},
   "source": [
    "Convert to xsec units"
   ]
  },
  {
   "cell_type": "markdown",
   "id": "2ed940bd",
   "metadata": {},
   "source": [
    "###################\n",
    "### #N argon target calculation\n",
    "###################\n",
    "\n",
    "density = 1.3836  #g/cm^3\n",
    "volume = (246-10)*(106-(-106))*(1026-10)         #cm^3\n",
    "NA = 6.022E23   #atoms/mol\n",
    "Nnuc = 40       #nucleans / atom\n",
    "mmol = 39.95    #g/mol\n",
    "\n",
    "Narg = (density * volume * NA * Nnuc)/mmol   #nucleons\n",
    "\n",
    "print(\"number of argon targets = \", Narg)"
   ]
  },
  {
   "cell_type": "markdown",
   "id": "46665f59",
   "metadata": {},
   "source": [
    "#Need R1 AND R3\n",
    "\n",
    "####NUE\n",
    "POT_R1 = 2.0E20 \n",
    "int_flux_per_POT_R1 = 1.1864530596659353e-11\n",
    "POT_R3 = 5.014E20\n",
    "int_flux_per_POT_R3 = 8.628376225834778e-12\n",
    "\n",
    "int_flux = (int_flux_per_POT_R1*POT_R1) + (int_flux_per_POT_R3*POT_R3)    #cm^-2\n",
    "\n",
    "print(\"Nue integrated flux: \", int_flux)\n",
    "\n",
    "####NUMU\n",
    "\n",
    "POT_numu_R1 = 2.0E20 \n",
    "int_flux_per_POT_numu_R1 = 5.455771063338641e-10\n",
    "POT_numu_R3 = 5.014E20 \n",
    "int_flux_per_POT_numu_R3 = 3.6729003479115414e-10\n",
    "\n",
    "int_flux_numu = (int_flux_per_POT_numu_R1*POT_numu_R1) + (int_flux_per_POT_numu_R3*POT_numu_R3)    #cm^-2\n",
    "\n",
    "print(\"Numu integrated flux: \", int_flux_numu)"
   ]
  },
  {
   "cell_type": "markdown",
   "id": "6c429b12",
   "metadata": {},
   "source": [
    "nue_events = np.array(events[0:10])\n",
    "numu_events = np.array(events[10:20])\n",
    "\n",
    "nue_errs = np.array(errs[0:10])\n",
    "numu_errs = np.array(errs[10:20])"
   ]
  },
  {
   "cell_type": "markdown",
   "id": "ead4bc15",
   "metadata": {},
   "source": [
    "#number of events\n",
    "\n",
    "xsec_nue_events = nue_events / (int_flux * Narg )     \n",
    "xsec_numu_events = numu_events / (int_flux_numu * Narg )     \n"
   ]
  },
  {
   "cell_type": "markdown",
   "id": "872883f8",
   "metadata": {},
   "source": [
    "#Need the four sections of the cov matrix\n",
    "\n",
    "blockwise_errs = chunks_cov\n",
    "#print(blockwise_errs)\n",
    "#print(\"\")\n",
    "\n",
    "#NUE ONLY\n",
    "bot_left = blockwise_errs[:10]\n",
    "for i in range(len(bot_left)):\n",
    "    bot_left[i] = bot_left[i][:10]\n",
    "    \n",
    "nue_errs_bot = np.array(bot_left)/((int_flux*int_flux)*(Narg*Narg))\n",
    "xsec_nue_errs = (np.sqrt(np.diag(nue_errs_bot)))\n",
    "    \n",
    "#MIX\n",
    "bot_right = blockwise_errs[:10]\n",
    "for i in range(len(bot_right)):\n",
    "    bot_right[i] = bot_right[i][10:]\n",
    "    \n",
    "mix_errs_bot = np.array(bot_right)/((int_flux*int_flux_numu)*(Narg*Narg))\n",
    "xsec_botmix_errs = np.nan_to_num(np.sqrt(np.diag(mix_errs_bot)))\n",
    "\n",
    "    \n",
    "#MIX\n",
    "top_left = blockwise_errs[10:]\n",
    "for i in range(len(top_left)):\n",
    "    top_left[i] = top_left[i][:10]\n",
    "    \n",
    "mix_errs_top = np.array(top_left)/((int_flux*int_flux_numu)*(Narg*Narg))\n",
    "xsec_topmix_errs = np.nan_to_num(np.sqrt(np.diag(mix_errs_top)))\n",
    "\n",
    "#NUMU ONLY\n",
    "top_right = blockwise_errs[10:]\n",
    "for i in range(len(top_right)):\n",
    "    top_right[i] = top_right[i][10:]\n",
    "    \n",
    "numu_errs_top = np.array(top_right)/((int_flux_numu*int_flux_numu)*(Narg*Narg))\n",
    "xsec_numu_errs = (np.sqrt(np.diag(numu_errs_top)))\n"
   ]
  },
  {
   "cell_type": "markdown",
   "id": "bdb08c61",
   "metadata": {},
   "source": [
    "### Calculate ratio uncertainties\n",
    "\n",
    "xsec_ratio_events = np.nan_to_num(xsec_nue_events/xsec_numu_events)\n",
    "print(\"Ratio event counts: \", xsec_ratio_events)\n",
    "print(\"\")\n",
    "\n",
    "#####################\n",
    "\n",
    "ratio_sq = (xsec_nue_events/xsec_numu_events)*(xsec_nue_events/xsec_numu_events)\n",
    "print(\"ratio_sq: \", ratio_sq)\n",
    "print(\"\")\n",
    "nue_term = (xsec_nue_errs*xsec_nue_errs)/(xsec_nue_events*xsec_nue_events)\n",
    "print(\"nue: \", nue_term)\n",
    "print(\"\")\n",
    "numu_term = (xsec_numu_errs*xsec_numu_errs)/(xsec_numu_events*xsec_numu_events)\n",
    "print(\"numu: \", numu_term)\n",
    "print(\"\")\n",
    "mix_1 = (xsec_botmix_errs*xsec_botmix_errs)/(xsec_numu_events*xsec_nue_events)\n",
    "print(\"mix: \", mix_1)\n",
    "print(\"\")\n",
    "mix_2 = (xsec_topmix_errs*xsec_topmix_errs)/(xsec_numu_events*xsec_nue_events)\n",
    "print(\"mix: \", mix_2)\n",
    "print(\"\")\n",
    "\n",
    "ratio_var_errs = ratio_sq*(nue_term + numu_term - mix_1 - mix_2)\n",
    "print(ratio_var_errs)\n",
    "xsec_ratio_errs = np.nan_to_num(np.sqrt(abs(ratio_var_errs)))\n",
    "print(\"Ratio errs: \", xsec_ratio_errs)"
   ]
  },
  {
   "cell_type": "markdown",
   "id": "134eda61",
   "metadata": {},
   "source": [
    "import random\n",
    "import numpy\n",
    "from matplotlib import pyplot\n",
    "\"\"\"\n",
    "bins = np.arange(0, 5.5, 0.5)\n",
    "count = np.arange(0.1, 5.1, 0.5)\n",
    "print(count)\n",
    "\n",
    "plt.ylim(0, 5E-39)\n",
    "\n",
    "plt.xlabel(\"Energy [GeV]\")\n",
    "plt.ylabel(\"xsec [cm^2]\")\n",
    "\n",
    "pyplot.hist(count, bins, weights=xsec_nue_events, alpha=0.5)\n",
    "#pyplot.legend(loc='upper right')\n",
    "pyplot.show()\n",
    "\"\"\"\n",
    "\n",
    "nue_fig = plt.figure(figsize=(8, 7))\n",
    "nue_gs = gridspec.GridSpec(2, 1, height_ratios=[2, 1])\n",
    "nue_ax1 = plt.subplot(nue_gs[0])\n",
    "nue_ax1.set_xlim([-1, 1])\n",
    "\n",
    "bins = np.arange(-1.0, 1.2, 0.2)\n",
    "bincenters = np.arange(-0.9, 1.1, 0.2)\n",
    "bin_edges = np.arange(-1.0, 1.2, 0.2)\n",
    "bin_size = [(bin_edges[i + 1] - bin_edges[i]) / 2\n",
    "            for i in range(len(bin_edges) - 1)]\n",
    "count = np.arange(-0.95, 1.05, 0.2)\n",
    "weights = []\n",
    "for i in range(len(count)):\n",
    "    weight = count[i]*xsec_nue_events[i]\n",
    "    weights.append(weight)\n",
    "\n",
    "sel = nue_ax1.hist(count, bins, color='deepskyblue', weights=xsec_nue_events)\n",
    "plt.ylim(0, 1E-39)\n",
    "nue_ax1.set_xlabel('cos(Lepton Angle)', fontsize=15)\n",
    "nue_ax1.set_ylabel('xsec [cm^2 / GeV / nucleon]', fontsize=15)\n",
    "nue_ax1.set_title(\"Unfolded Nue cos(Lepton Angle)\")\n",
    "\n",
    "lower_err = np.nan_to_num(xsec_nue_events-xsec_nue_errs)\n",
    "\n",
    "nue_ax1.bar(bincenters, xsec_nue_errs*2,width=[n*2 for n in bin_size],facecolor='tab:green',alpha=0.2,bottom=(lower_err))\n",
    "\n",
    "genie_xsec_nue_events = xsec_nue_events\n",
    "genie_xsec_nue_errs = xsec_nue_errs\n",
    "genie_lower_err = lower_err\n",
    "\n",
    "nue_fig.savefig(\"unfolded_run1_MC_nue_angle_\"+ending+\".svg\",bbox_inches='tight' )"
   ]
  },
  {
   "cell_type": "markdown",
   "id": "12acd9b8",
   "metadata": {},
   "source": [
    "import random\n",
    "import numpy\n",
    "from matplotlib import pyplot\n",
    "\n",
    "numu_fig = plt.figure(figsize=(8, 7))\n",
    "numu_gs = gridspec.GridSpec(2, 1, height_ratios=[2, 1])\n",
    "numu_ax1 = plt.subplot(numu_gs[0])\n",
    "numu_ax1.set_xlim([-1, 1])\n",
    "\n",
    "bins = np.arange(-1.0, 1.2, 0.2)\n",
    "bincenters = np.arange(-0.9, 1.1, 0.2)\n",
    "bin_edges = np.arange(-1.0, 1.2, 0.2)\n",
    "bin_size = [(bin_edges[i + 1] - bin_edges[i]) / 2\n",
    "            for i in range(len(bin_edges) - 1)]\n",
    "count = np.arange(-0.95, 1.05, 0.2)\n",
    "weights = []\n",
    "for i in range(len(count)):\n",
    "    weight = count[i]*xsec_numu_events[i]\n",
    "    weights.append(weight)\n",
    "\n",
    "sel = numu_ax1.hist(count, bins, color='deepskyblue', weights=xsec_numu_events)\n",
    "plt.ylim(0, 4E-40)\n",
    "numu_ax1.set_xlabel('cos(Lepton Angle)', fontsize=15)\n",
    "numu_ax1.set_ylabel('xsec [cm^2 / GeV / nucleon]', fontsize=15)\n",
    "numu_ax1.set_title(\"Unfolded Numu cos(Lepton Angle)\")\n",
    "\n",
    "lower_err = np.nan_to_num(xsec_numu_events-xsec_numu_errs)\n",
    "\n",
    "numu_ax1.bar(bincenters, xsec_numu_errs*2,width=[n*2 for n in bin_size],facecolor='tab:green',alpha=0.2,bottom=(lower_err))\n",
    "\n",
    "genie_xsec_numu_events = xsec_numu_events\n",
    "genie_xsec_numu_errs = xsec_numu_errs\n",
    "genie_lower_err_numu = lower_err\n",
    "\n",
    "numu_fig.savefig(\"unfolded_run1_MC_numu_angle_\"+ending+\".svg\",bbox_inches='tight' )"
   ]
  },
  {
   "cell_type": "markdown",
   "id": "3c6007f4",
   "metadata": {},
   "source": [
    "import random\n",
    "import numpy\n",
    "from matplotlib import pyplot\n",
    "\n",
    "bins = np.arange(-1.0, 1.2, 0.2)\n",
    "count = np.arange(-0.95, 1.05, 0.2)\n",
    "#print(count)\n",
    "\n",
    "plt.ylim(0, 5)\n",
    "plt.xlabel(\"cos(Lepton Angle)\")\n",
    "plt.ylabel(\"xsec [cm^2 / GeV / nucleon]\")\n",
    "\n",
    "print(xsec_nue_events/xsec_numu_events)\n",
    "print(xsec_ratio_events)\n",
    "\n",
    "pyplot.hist(count, bins, weights=np.nan_to_num(xsec_nue_events/xsec_numu_events), alpha=0.5)\n",
    "pyplot.hist(count, bins, weights=xsec_ratio_events, alpha=0.5)\n",
    "\n",
    "#pyplot.legend(loc='upper right')\n",
    "pyplot.show()"
   ]
  },
  {
   "cell_type": "markdown",
   "id": "d514d5be",
   "metadata": {},
   "source": [
    "import random\n",
    "import numpy\n",
    "from matplotlib import pyplot\n",
    "\n",
    "\n",
    "ratio_fig = plt.figure(figsize=(8, 7))\n",
    "ratio_gs = gridspec.GridSpec(2, 1, height_ratios=[2, 1])\n",
    "ratio_ax1 = plt.subplot(ratio_gs[0])\n",
    "ratio_ax1.set_xlim([-1, 1])\n",
    "\n",
    "bins = np.arange(-1.0, 1.2, 0.2)\n",
    "bincenters = np.arange(-0.9, 1.1, 0.2)\n",
    "bin_edges = np.arange(-1.0, 1.2, 0.2)\n",
    "bin_size = [(bin_edges[i + 1] - bin_edges[i]) / 2\n",
    "            for i in range(len(bin_edges) - 1)]\n",
    "count = np.arange(-0.95, 1.05, 0.2)\n",
    "#print(len(count))\n",
    "#weights = []\n",
    "#for i in range(len(count)):\n",
    "#    weight = count[i]*xsec_ratio_events[i]\n",
    "#    weights.append(weight)\n",
    "#test_weights = [(random.random()/random.random() - 0.75) for x in range(len(count))]\n",
    "#print(count)\n",
    "#xsec_ratio_events[7] = 0\n",
    "#print(xsec_ratio_events)\n",
    "print(\"\")\n",
    "sel = ratio_ax1.hist(count, bins, color='deepskyblue', weights=xsec_ratio_events)  # , weights=xsec_ratio_events\n",
    "print(sel[0])\n",
    "\n",
    "plt.ylim(0, 6)\n",
    "ratio_ax1.set_xlabel('cos(Lepton Angle)', fontsize=15)\n",
    "ratio_ax1.set_ylabel('Ratio', fontsize=15)\n",
    "ratio_ax1.set_title(\"Unfolded Ratio cos(Lepton Angle)\")\n",
    "\n",
    "lower_err = np.nan_to_num(xsec_ratio_events-xsec_ratio_errs)\n",
    "\n",
    "ratio_ax1.bar(bincenters, xsec_ratio_errs*2,width=[n*2 for n in bin_size],facecolor='tab:green',alpha=0.2,bottom=(lower_err))\n",
    "\n",
    "genie_xsec_ratio_events = xsec_ratio_events\n",
    "genie_xsec_ratio_errs = xsec_ratio_errs\n",
    "genie_lower_err_ratio = lower_err\n",
    "\n",
    "ratio_fig.savefig(\"unfolded_run1_MC_ratio_angle_\"+ending+\".svg\",bbox_inches='tight' )"
   ]
  },
  {
   "cell_type": "markdown",
   "id": "b81f4e4a",
   "metadata": {},
   "source": [
    "## Now Compare\n",
    "\n",
    "The genie unfolded spectra should be within the uncertainties of the nuWro unfolded spectra"
   ]
  },
  {
   "cell_type": "markdown",
   "id": "e3c24c05",
   "metadata": {},
   "source": [
    "###############\n",
    "###NUE######\n",
    "#############\n",
    "\n",
    "errors_fig = plt.figure(figsize=(8, 7))\n",
    "errors_gs = gridspec.GridSpec(2, 1, height_ratios=[2, 1])\n",
    "errors_ax1 = plt.subplot(errors_gs[0])\n",
    "\n",
    "\n",
    "bins = np.arange(-1, 1.2, 0.2)\n",
    "count = [-0.9, -0.7, -0.5, -0.3, -0.1, 0.1, 0.3, 0.5, 0.7, 0.9]\n",
    "\n",
    "#print(bincenters)\n",
    "sel = errors_ax1.hist(count, bins, color='deepskyblue', weights=nuWro_xsec_nue_events, alpha = 0.4, label=\"nuWro\")  # , weights=xsec_ratio_events\n",
    "\n",
    "errors = errors_ax1.bar(bincenters, nuWro_xsec_nue_errs*2,width=[n*2 for n in bin_size],facecolor='tab:green',alpha=0.2,bottom=(nuWro_lower_err))\n",
    "\n",
    "#sel_nue = errors_ax1.hist(count, bins, edgecolor='blue', facecolor='None', weights=nuWro_xsec_nue_events, label='nuWro')\n",
    "sel_numu = errors_ax1.hist(count, bins, edgecolor='red', facecolor='None', weights=genie_xsec_nue_events, label='genie')\n",
    "\n",
    "errors = errors_ax1.bar(bincenters, genie_xsec_nue_errs*2,width=[n*2 for n in bin_size],facecolor='tab:orange',alpha=0.2,bottom=(genie_lower_err))\n",
    "\n",
    "\n",
    "errors_ax1.set_ylabel('xsec [cm^2 / GeV / nucleon]', fontsize=15)\n",
    "errors_ax1.set_xlabel('cos(True Lepton Angle)', fontsize=15)\n",
    "errors_ax1.set_title(\"Unfolded Comparison\")\n",
    "leg = errors_ax1.legend()\n",
    "\n",
    "errors_ax1.set_ylim([0, 8e-40])"
   ]
  },
  {
   "cell_type": "markdown",
   "id": "21fc5a42",
   "metadata": {},
   "source": [
    "for i in np.arange(len(genie_xsec_nue_events)):\n",
    "    if ((genie_xsec_nue_events[i] < nuWro_xsec_nue_events[i] + nuWro_xsec_nue_errs[i]) and (genie_xsec_nue_events[i] > nuWro_xsec_nue_events[i] - nuWro_xsec_nue_errs[i])):\n",
    "        print(\"Inside\")\n",
    "        print(\"\")\n",
    "    else:\n",
    "        print(\"outside\")\n",
    "        print(\"value is (genie) = \", genie_xsec_nue_events[i])\n",
    "        print(\"top of err = \", nuWro_xsec_nue_events[i] + nuWro_xsec_nue_errs[i])\n",
    "        print(\"bot of err = \", nuWro_xsec_nue_events[i] - nuWro_xsec_nue_errs[i])\n",
    "        print(\"\")"
   ]
  },
  {
   "cell_type": "markdown",
   "id": "28c9f5e2",
   "metadata": {},
   "source": [
    "for i in np.arange(len(nuWro_xsec_nue_events)):\n",
    "    if ((nuWro_xsec_nue_events[i] < genie_xsec_nue_events[i] + genie_xsec_nue_errs[i]) and (nuWro_xsec_nue_events[i] > genie_xsec_nue_events[i] - genie_xsec_nue_errs[i])):\n",
    "        print(\"Inside\")\n",
    "        print(\"\")\n",
    "    else:\n",
    "        print(\"outside\")\n",
    "        print(\"value is (genie) = \", nuWro_xsec_nue_events[i])\n",
    "        print(\"top of err = \", genie_xsec_nue_events[i] + genie_xsec_nue_errs[i])\n",
    "        print(\"bot of err = \", genie_xsec_nue_events[i] - genie_xsec_nue_errs[i])\n",
    "        print(\"\")"
   ]
  },
  {
   "cell_type": "markdown",
   "id": "7819a9bd",
   "metadata": {},
   "source": [
    "diff = 7.723562394053671e-41 - 7.480422350351412e-41\n",
    "\n",
    "fractional_diff = diff/7.480422350351412e-41\n",
    "\n",
    "print(fractional_diff)"
   ]
  },
  {
   "cell_type": "markdown",
   "id": "a559af0c",
   "metadata": {},
   "source": [
    "###############\n",
    "###NUMU######\n",
    "#############\n",
    "\n",
    "errors_fig = plt.figure(figsize=(8, 7))\n",
    "errors_gs = gridspec.GridSpec(2, 1, height_ratios=[2, 1])\n",
    "errors_ax1 = plt.subplot(errors_gs[0])\n",
    "\n",
    "\n",
    "bins = np.arange(-1, 1.2, 0.2)\n",
    "count = [-0.9, -0.7, -0.5, -0.3, -0.1, 0.1, 0.3, 0.5, 0.7, 0.9]\n",
    "\n",
    "#print(bincenters)\n",
    "sel = errors_ax1.hist(count, bins, color='deepskyblue', weights=nuWro_xsec_numu_events, alpha = 0.4, label=\"nuWro\")  # , weights=xsec_ratio_events\n",
    "\n",
    "errors = errors_ax1.bar(bincenters, nuWro_xsec_numu_errs*2,width=[n*2 for n in bin_size],facecolor='tab:green',alpha=0.2,bottom=(nuWro_lower_err_numu))\n",
    "\n",
    "#sel_nue = errors_ax1.hist(count, bins, edgecolor='blue', facecolor='None', weights=nuWro_xsec_nue_events, label='nuWro')\n",
    "sel_numu = errors_ax1.hist(count, bins, edgecolor='red', facecolor='None', weights=genie_xsec_numu_events, label='genie')\n",
    "\n",
    "errors = errors_ax1.bar(bincenters, genie_xsec_numu_errs*2,width=[n*2 for n in bin_size],facecolor='tab:orange',alpha=0.2,bottom=(genie_lower_err_numu))\n",
    "\n",
    "print(genie_xsec_numu_errs)\n",
    "print(nuWro_xsec_numu_errs)\n",
    "\n",
    "errors_ax1.set_ylabel('xsec [cm^2 / GeV / nucleon]', fontsize=15)\n",
    "errors_ax1.set_xlabel('cos(True Lepton Angle)', fontsize=15)\n",
    "errors_ax1.set_title(\"Unfolded Comparison\")\n",
    "leg = errors_ax1.legend()\n",
    "\n",
    "errors_ax1.set_ylim([0, 1e-40])"
   ]
  },
  {
   "cell_type": "markdown",
   "id": "a018770a",
   "metadata": {},
   "source": [
    "for i in np.arange(len(genie_xsec_numu_events)):\n",
    "    if ((genie_xsec_numu_events[i] < nuWro_xsec_numu_events[i] + nuWro_xsec_numu_errs[i]) and (genie_xsec_numu_events[i] > nuWro_xsec_numu_events[i] - nuWro_xsec_numu_errs[i])):\n",
    "        print(\"Inside\")\n",
    "        print(\"\")\n",
    "    else:\n",
    "        print(\"outside\")\n",
    "        print(\"value is (genie) = \", genie_xsec_numu_events[i])\n",
    "        print(\"top of err = \", nuWro_xsec_numu_events[i] + nuWro_xsec_numu_errs[i])\n",
    "        print(\"bot of err = \", nuWro_xsec_numu_events[i] - nuWro_xsec_numu_errs[i])\n",
    "        print(\"\")"
   ]
  },
  {
   "cell_type": "markdown",
   "id": "c686e4b0",
   "metadata": {},
   "source": [
    "###############\n",
    "###RATIO######\n",
    "#############\n",
    "\n",
    "errors_fig = plt.figure(figsize=(8, 7))\n",
    "errors_gs = gridspec.GridSpec(2, 1, height_ratios=[2, 1])\n",
    "errors_ax1 = plt.subplot(errors_gs[0])\n",
    "\n",
    "\n",
    "bins = np.arange(-1, 1.2, 0.2)\n",
    "count = [-0.9, -0.7, -0.5, -0.3, -0.1, 0.1, 0.3, 0.5, 0.7, 0.9]\n",
    "\n",
    "#print(bincenters)\n",
    "sel = errors_ax1.hist(count, bins, color='deepskyblue', weights=nuWro_xsec_ratio_events, alpha = 0.4, label=\"nuWro\")  # , weights=xsec_ratio_events\n",
    "\n",
    "errors = errors_ax1.bar(bincenters, nuWro_xsec_ratio_errs*2,width=[n*2 for n in bin_size],facecolor='tab:green',alpha=0.2,bottom=(nuWro_lower_err_ratio))\n",
    "\n",
    "\n",
    "\n",
    "#sel_nue = errors_ax1.hist(count, bins, edgecolor='blue', facecolor='None', weights=nuWro_xsec_nue_events, label='nuWro')\n",
    "sel_numu = errors_ax1.hist(count, bins, edgecolor='red', facecolor='None', weights=genie_xsec_ratio_events, label='genie')\n",
    "\n",
    "errors = errors_ax1.bar(bincenters, genie_xsec_ratio_errs*2,width=[n*2 for n in bin_size],facecolor='tab:orange',alpha=0.2,bottom=(genie_lower_err_ratio))\n",
    "\n",
    "\n",
    "errors_ax1.set_ylabel('xsec [cm^2 / GeV / nucleon]', fontsize=15)\n",
    "errors_ax1.set_xlabel('cos(True Lepton Angle)', fontsize=15)\n",
    "errors_ax1.set_title(\"Unfolded Comparison\")\n",
    "leg = errors_ax1.legend()\n",
    "\n",
    "#errors_ax1.set_ylim([0, 5e-40])"
   ]
  },
  {
   "cell_type": "markdown",
   "id": "62ad689a",
   "metadata": {},
   "source": [
    "for i in np.arange(len(genie_xsec_ratio_events)):\n",
    "    if ((genie_xsec_ratio_events[i] < nuWro_xsec_ratio_events[i] + nuWro_xsec_ratio_errs[i]) and (genie_xsec_ratio_events[i] > nuWro_xsec_ratio_events[i] - nuWro_xsec_ratio_errs[i])):\n",
    "        print(\"Inside\")\n",
    "        print(\"\")\n",
    "    else:\n",
    "        print(\"outside\")\n",
    "        print(\"value is (genie) = \", genie_xsec_ratio_events[i])\n",
    "        print(\"top of err = \", nuWro_xsec_ratio_events[i] + nuWro_xsec_ratio_errs[i])\n",
    "        print(\"bot of err = \", nuWro_xsec_ratio_events[i] - nuWro_xsec_ratio_errs[i])\n",
    "        print(\"\")"
   ]
  },
  {
   "cell_type": "markdown",
   "id": "9de93c27",
   "metadata": {},
   "source": [
    "## Try without xsec units "
   ]
  },
  {
   "cell_type": "markdown",
   "id": "360d03ef",
   "metadata": {},
   "source": [
    "print(genie_events)\n",
    "print(genie_errors)\n",
    "print(\"\")\n",
    "print(nuWro_events)\n",
    "print(nuWro_errs)"
   ]
  },
  {
   "cell_type": "markdown",
   "id": "aaf0b337",
   "metadata": {},
   "source": [
    "###############\n",
    "###NUE######\n",
    "#############\n",
    "\n",
    "nue_unf_fig = plt.figure(figsize=(8, 7))\n",
    "nue_unf_gs = gridspec.GridSpec(2, 1, height_ratios=[2, 1])\n",
    "nue_unf_ax1 = plt.subplot(nue_unf_gs[0])\n",
    "\n",
    "\n",
    "#bins = np.arange(-1, 1.2, 0.2)\n",
    "#count = [-0.9, -0.7, -0.5, -0.3, -0.1, 0.1, 0.3, 0.5, 0.7, 0.9]\n",
    "\n",
    "bins = np.arange(0, 21, 1)\n",
    "count = np.arange(0.0, 20.0, 1)\n",
    "bincenters = np.arange(0.5, 20.5, 1)\n",
    "bin_size = [0.5]*20\n",
    "\n",
    "print(np.array(nuWro_events) - np.array(nuWro_errs))\n",
    "\n",
    "#print(bincenters)\n",
    "sel = nue_unf_ax1.hist(count, bins, color='deepskyblue', weights=nuWro_events, alpha = 0.4, label=\"nuWro\")  # , weights=xsec_ratio_events\n",
    "\n",
    "errors = nue_unf_ax1.bar(bincenters, np.array(nuWro_errs)*2,width=[n*2 for n in bin_size],facecolor='tab:green',alpha=0.2,bottom=(np.array(nuWro_events) - np.array(nuWro_errs)))\n",
    "\n",
    "#sel_nue = errors_ax1.hist(count, bins, edgecolor='blue', facecolor='None', weights=nuWro_xsec_nue_events, label='nuWro')\n",
    "sel_numu = nue_unf_ax1.hist(count, bins, edgecolor='red', facecolor='None', weights=genie_events, label='genie')\n",
    "\n",
    "errors = nue_unf_ax1.bar(bincenters, np.array(genie_errors)*2,width=[n*2 for n in bin_size],facecolor='tab:orange',alpha=0.2,bottom=(np.array(genie_events) - np.array(genie_errors)))\n",
    "\n",
    "\n",
    "nue_unf_ax1.set_ylabel('count', fontsize=15)\n",
    "nue_unf_ax1.set_xlabel('bins', fontsize=15)\n",
    "nue_unf_ax1.set_title(\"Unfolded Comparison\")\n",
    "leg = nue_unf_ax1.legend()\n",
    "\n",
    "nue_unf_ax1.set_ylim([150, 1500])"
   ]
  },
  {
   "cell_type": "markdown",
   "id": "bbdfae62",
   "metadata": {},
   "source": [
    "## Actual comparison needed\n",
    "\n",
    "Need to compare the unfolded signal w/err to the nuWro true selected signal x Ac"
   ]
  },
  {
   "cell_type": "code",
   "execution_count": 12,
   "id": "04f5f3b2",
   "metadata": {},
   "outputs": [
    {
     "name": "stdout",
     "output_type": "stream",
     "text": [
      "[13.5307, 27.5839, 32.3634, 32.092, 37.6375, 53.4535, 54.3176, 96.7925, 152.26, 360.149, 513.621, 643.671, 658.952, 782.658, 958.56, 1058.24, 1440.58, 1988.79, 3225.38, 7191.97]\n",
      "[62.3483, 26.2893, 28.4425, 36.971, 20.6104, 36.9916, 24.486, 39.3687, 38.6829, 192.325, 188.229, 521.125, 504.6, 157.137, 199.223, 605.428, 346.447, 774.3, 1033.93, 4411.03]\n"
     ]
    }
   ],
   "source": [
    "print(nuWro_events)\n",
    "print(nuWro_errs)"
   ]
  },
  {
   "cell_type": "code",
   "execution_count": 13,
   "id": "82ea3ff2",
   "metadata": {},
   "outputs": [
    {
     "data": {
      "image/png": "[encoded data removed]",
      "text/plain": [
       "<Figure size 576x504 with 1 Axes>"
      ]
     },
     "metadata": {
      "needs_background": "light"
     },
     "output_type": "display_data"
    }
   ],
   "source": [
    "###############\n",
    "###BOTH######\n",
    "#############\n",
    "\n",
    "nue_unf_fig = plt.figure(figsize=(8, 7))\n",
    "nue_unf_gs = gridspec.GridSpec(2, 1, height_ratios=[2, 1])\n",
    "nue_unf_ax1 = plt.subplot(nue_unf_gs[0])\n",
    "\n",
    "\n",
    "#bins = np.arange(-1, 1.2, 0.2)\n",
    "#count = [-0.9, -0.7, -0.5, -0.3, -0.1, 0.1, 0.3, 0.5, 0.7, 0.9]\n",
    "\n",
    "bins = np.arange(0, 21, 1)\n",
    "count = np.arange(0.0, 20.0, 1)\n",
    "bincenters = np.arange(0.5, 20.5, 1)\n",
    "bin_size = [0.5]*20\n",
    "\n",
    "#print(np.array(nuWro_events) - np.array(nuWro_errs))\n",
    "\n",
    "#print(bincenters)\n",
    "sel = nue_unf_ax1.hist(count, bins, color='deepskyblue', weights=nuWro_events, alpha = 0.4, label=\"Unfolded noTune\")  # , weights=xsec_ratio_events\n",
    "\n",
    "errors = nue_unf_ax1.bar(bincenters, np.array(nuWro_errs)*2,width=[n*2 for n in bin_size],facecolor='tab:green',alpha=0.2,bottom=(np.array(nuWro_events) - np.array(nuWro_errs)))\n",
    "\n",
    "\n",
    "nue_unf_ax1.set_ylabel('count', fontsize=15)\n",
    "nue_unf_ax1.set_xlabel('bins', fontsize=15)\n",
    "nue_unf_ax1.set_title(\"Unfolded Comparison\")\n",
    "leg = nue_unf_ax1.legend()\n",
    "\n",
    "#nue_unf_ax1.set_ylim([150, 1500])"
   ]
  },
  {
   "cell_type": "code",
   "execution_count": 14,
   "id": "9050417d",
   "metadata": {},
   "outputs": [
    {
     "name": "stdout",
     "output_type": "stream",
     "text": [
      "[ 23.5441462   25.78954787  31.81621196  36.99776344  45.65726772\n",
      "  59.37669155  79.28241903 114.95074767 192.75354321 469.72451509]\n",
      "\n",
      "[  530.90767071   613.16020643   722.21230431   849.24502493\n",
      "  1015.79888084  1269.10239869  1619.28102583  2327.51739946\n",
      "  3800.97691347 10058.56654908]\n"
     ]
    }
   ],
   "source": [
    "ending = \"Jan19_noTune\"\n",
    "\n",
    "nue_nuWro_true = pd.read_csv(\"nue_full_500_catsel_nopions_angleDiff_usingSelection_prior_true_signal_noTune_recoCut_comb_\"+ending+\".csv\", header=None)\n",
    "\n",
    "nue_nuWro_true = nue_nuWro_true.values[:, 0]\n",
    "print(nue_nuWro_true)\n",
    "print(\"\")\n",
    "#########################################\n",
    "\n",
    "numu_nuWro_true = pd.read_csv(\"numu_full_500_catsel_nopions_angleDiff_usingSelection_prior_true_signal_noTune_recoCut_comb_\"+ending+\".csv\", header=None)\n",
    "\n",
    "numu_nuWro_true = numu_nuWro_true.values[:, 0]\n",
    "print(numu_nuWro_true)"
   ]
  },
  {
   "cell_type": "code",
   "execution_count": 15,
   "id": "fbe1b368",
   "metadata": {},
   "outputs": [
    {
     "data": {
      "text/plain": [
       "'\\n#nue_nuWro_true_err = pd.read_csv(\"nue_prior_true_err_squared_angle_comb_\"+ending+\".csv\", header=None)\\nnue_nuWro_true_err = pd.read_csv(\"nue_prior_true_err_genie_stat_only_angle_comb_\"+ending+\".csv\", header=None)\\n\\nnue_nuWro_true_err = nue_nuWro_true_err.values[:, 0]\\nprint(nue_nuWro_true_err)\\nprint(\"\")\\n###############################\\n\\n#numu_nuWro_true_err = pd.read_csv(\"numu_prior_true_err_squared_angle_comb_\"+ending+\".csv\", header=None)\\nnumu_nuWro_true_err = pd.read_csv(\"numu_prior_true_err_genie_stat_only_angle_comb_\"+ending+\".csv\", header=None)\\n\\n\\nnumu_nuWro_true_err = numu_nuWro_true_err.values[:, 0]\\nprint(numu_nuWro_true_err)\\n'"
      ]
     },
     "execution_count": 15,
     "metadata": {},
     "output_type": "execute_result"
    }
   ],
   "source": [
    "#Get the true errs\n",
    "\"\"\"\n",
    "#nue_nuWro_true_err = pd.read_csv(\"nue_prior_true_err_squared_angle_comb_\"+ending+\".csv\", header=None)\n",
    "nue_nuWro_true_err = pd.read_csv(\"nue_prior_true_err_genie_stat_only_angle_comb_\"+ending+\".csv\", header=None)\n",
    "\n",
    "nue_nuWro_true_err = nue_nuWro_true_err.values[:, 0]\n",
    "print(nue_nuWro_true_err)\n",
    "print(\"\")\n",
    "###############################\n",
    "\n",
    "#numu_nuWro_true_err = pd.read_csv(\"numu_prior_true_err_squared_angle_comb_\"+ending+\".csv\", header=None)\n",
    "numu_nuWro_true_err = pd.read_csv(\"numu_prior_true_err_genie_stat_only_angle_comb_\"+ending+\".csv\", header=None)\n",
    "\n",
    "\n",
    "numu_nuWro_true_err = numu_nuWro_true_err.values[:, 0]\n",
    "print(numu_nuWro_true_err)\n",
    "\"\"\"\n",
    "\n",
    "\n"
   ]
  },
  {
   "cell_type": "code",
   "execution_count": 16,
   "id": "6064df76",
   "metadata": {},
   "outputs": [
    {
     "name": "stdout",
     "output_type": "stream",
     "text": [
      "[   23.5441462     25.78954787    31.81621196    36.99776344\n",
      "    45.65726772    59.37669155    79.28241903   114.95074767\n",
      "   192.75354321   469.72451509   530.90767071   613.16020643\n",
      "   722.21230431   849.24502493  1015.79888084  1269.10239869\n",
      "  1619.28102583  2327.51739946  3800.97691347 10058.56654908]\n",
      "\n"
     ]
    }
   ],
   "source": [
    "nue_numu_tot_nuWro_true = np.concatenate((nue_nuWro_true, numu_nuWro_true), axis=0)\n",
    "\n",
    "print(nue_numu_tot_nuWro_true)\n",
    "\n",
    "##################################\n",
    "print(\"\")\n",
    "\n",
    "#nue_numu_tot_nuWro_true_err = np.concatenate((nue_nuWro_true_err, numu_nuWro_true_err), axis=0)\n",
    "\n",
    "#print(nue_numu_tot_nuWro_true_err)"
   ]
  },
  {
   "cell_type": "code",
   "execution_count": 17,
   "id": "f250fb8f",
   "metadata": {},
   "outputs": [
    {
     "name": "stdout",
     "output_type": "stream",
     "text": [
      "Prior_Truth x AC: \n",
      "[  13.97996096   27.61146927   31.03055042   34.64721632   37.29198112\n",
      "   52.39558414   57.47401877   99.07575686  161.85262158  408.18073004\n",
      "  484.56053415  577.2195663   615.35429893  754.25722171  880.34324534\n",
      " 1050.52558567 1448.81378204 2017.25837775 3421.13688511 8583.53201911]\n",
      "\n",
      "\n",
      "Unfolding Done with MC Data Signal: \n",
      "[13.5307, 27.5839, 32.3634, 32.092, 37.6375, 53.4535, 54.3176, 96.7925, 152.26, 360.149, 513.621, 643.671, 658.952, 782.658, 958.56, 1058.24, 1440.58, 1988.79, 3225.38, 7191.97]\n",
      "\n",
      "\n",
      "Difference\n",
      "[ 4.49260958e-01  2.75692677e-02 -1.33284958e+00  2.55521632e+00\n",
      " -3.45518875e-01 -1.05791586e+00  3.15641877e+00  2.28325686e+00\n",
      "  9.59262158e+00  4.80317300e+01 -2.90604658e+01 -6.64514337e+01\n",
      " -4.35977011e+01 -2.84007783e+01 -7.82167547e+01 -7.71441433e+00\n",
      "  8.23378204e+00  2.84683777e+01  1.95756885e+02  1.39156202e+03]\n",
      "\n",
      "[  3.21360667   0.09984716  -4.29528179   7.37495416  -0.92652325\n",
      "  -2.01909355   5.49190546   2.30455656   5.92676318  11.76727035\n",
      "  -5.99728286 -11.51233215  -7.08497546  -3.76539693  -8.88480204\n",
      "  -0.73433855   0.56831196   1.41124102   5.72198341  16.21199777]\n"
     ]
    }
   ],
   "source": [
    "#Now smear it by Ac\n",
    "\n",
    "smeared_nuWro = np.dot(nue_numu_tot_nuWro_true, nuWro_Ac)\n",
    "#smeared_nuWro = np.dot(prior_true_nuWro, nuWro_Ac)\n",
    "print(\"Prior_Truth x AC: \")\n",
    "print(smeared_nuWro)\n",
    "print(\"\")\n",
    "print(\"\")\n",
    "print(\"Unfolding Done with MC Data Signal: \")\n",
    "print(nuWro_events)\n",
    "print(\"\")\n",
    "\n",
    "diff = smeared_nuWro - events\n",
    "print(\"\")\n",
    "print(\"Difference\")\n",
    "print(diff)\n",
    "\n",
    "#for i in made_data_sig:\n",
    "#    print(i)\n",
    "\n",
    "print(\"\")\n",
    "diffasfrac = np.nan_to_num(diff/smeared_nuWro)\n",
    "print(diffasfrac*100)"
   ]
  },
  {
   "cell_type": "code",
   "execution_count": 18,
   "id": "d5d14582",
   "metadata": {},
   "outputs": [
    {
     "name": "stdout",
     "output_type": "stream",
     "text": [
      "Jan19_noTune\n"
     ]
    }
   ],
   "source": [
    "#smeared_nuWro_err = np.dot(nue_numu_tot_nuWro_true_err, nuWro_Ac)\n",
    "#smeared_nuWro = np.dot(prior_true_nuWro, nuWro_Ac)\n",
    "#print(\"Err x AC: \")\n",
    "#print(smeared_nuWro_err)\n",
    "#print(\"\")\n",
    "#print(\"\")\n",
    "print(ending)"
   ]
  },
  {
   "cell_type": "code",
   "execution_count": 39,
   "id": "18129eff",
   "metadata": {},
   "outputs": [
    {
     "name": "stdout",
     "output_type": "stream",
     "text": [
      "unfolded =  [  13.5307   27.5839   32.3634   32.092    37.6375   53.4535   54.3176\n",
      "   96.7925  152.26    360.149   513.621   643.671   658.952   782.658\n",
      "  958.56   1058.24   1440.58   1988.79   3225.38   7191.97  ]\n",
      "smeared =  [  13.97996096   27.61146927   31.03055042   34.64721632   37.29198112\n",
      "   52.39558414   57.47401877   99.07575686  161.85262158  408.18073004\n",
      "  484.56053415  577.2195663   615.35429893  754.25722171  880.34324534\n",
      " 1050.52558567 1448.81378204 2017.25837775 3421.13688511 8583.53201911]\n"
     ]
    },
    {
     "data": {
      "image/png": "[encoded data removed]",
      "text/plain": [
       "<Figure size 576x504 with 1 Axes>"
      ]
     },
     "metadata": {
      "needs_background": "light"
     },
     "output_type": "display_data"
    }
   ],
   "source": [
    "###############\n",
    "###COMPARE######\n",
    "#############\n",
    "\n",
    "nue_unf_fig = plt.figure(figsize=(8, 7))\n",
    "nue_unf_gs = gridspec.GridSpec(2, 1, height_ratios=[2, 1])\n",
    "nue_unf_ax1 = plt.subplot(nue_unf_gs[0])\n",
    "\n",
    "\n",
    "#bins = np.arange(-1, 1.2, 0.2)\n",
    "#count = [-0.9, -0.7, -0.5, -0.3, -0.1, 0.1, 0.3, 0.5, 0.7, 0.9]\n",
    "\n",
    "bins = np.arange(0, 21, 1)\n",
    "count = np.arange(0.0, 20.0, 1)\n",
    "bincenters = np.arange(0.5, 20.5, 1)\n",
    "bin_size = [0.5]*20\n",
    "\n",
    "#print(np.array(nuWro_events) - np.array(nuWro_errs))\n",
    "\n",
    "#print(bincenters)\n",
    "f_obs = nue_unf_ax1.hist(count, bins, color='deepskyblue', weights=nuWro_events, alpha = 0.4, label=\"unfolded noTune\")  # , weights=xsec_ratio_events\n",
    "\n",
    "errors = nue_unf_ax1.bar(bincenters, np.array(nuWro_errs)*2,width=[n*2 for n in bin_size],facecolor='tab:green',alpha=0.2,bottom=(np.array(nuWro_events) - np.array(nuWro_errs)))\n",
    "\n",
    "f_exp = nue_unf_ax1.hist(count, bins, edgecolor='red', facecolor='None', weights=smeared_nuWro, label='noTune Prior True x Ac')\n",
    "#errors = nue_unf_ax1.bar(bincenters, np.array((nue_numu_tot_nuWro_true_err))*2,width=[n*2 for n in bin_size],facecolor='tab:orange',alpha=0.2,bottom=(np.array(smeared_nuWro) - np.array((nue_numu_tot_nuWro_true_err))))\n",
    "#errors = nue_unf_ax1.bar(bincenters, np.array((smeared_nuWro_err))*2,width=[n*2 for n in bin_size],facecolor='tab:orange',alpha=0.2,bottom=(np.array(smeared_nuWro) - np.array((smeared_nuWro_err))))\n",
    "\n",
    "\n",
    "print(\"unfolded = \", f_obs[0])\n",
    "print(\"smeared = \", f_exp[0])\n",
    "\n",
    "nue_unf_ax1.set_ylabel('Count', fontsize=15)\n",
    "nue_unf_ax1.set_xlabel('Bins', fontsize=15)\n",
    "nue_unf_ax1.set_title(\"Unfolded Comparison\")\n",
    "leg = nue_unf_ax1.legend()\n",
    "\n",
    "#nue_unf_ax1.set_ylim([0, 500])\n",
    "\n",
    "nue_unf_fig.savefig(\"unfolded_MC_noTune_output_angleDiff_comb_\"+ending+\".svg\", bbox_inches='tight')"
   ]
  },
  {
   "cell_type": "code",
   "execution_count": 40,
   "id": "c429a5a9",
   "metadata": {},
   "outputs": [
    {
     "name": "stdout",
     "output_type": "stream",
     "text": [
      "Jan19_noTune\n"
     ]
    }
   ],
   "source": [
    "np.savetxt(\"data_signal_MC_noTune_chi2_angleDiff_comb_\"+ending+\".csv\", \n",
    "               nuWro_events,\n",
    "               delimiter =\", \", \n",
    "               fmt ='% s')\n",
    "\n",
    "np.savetxt(\"prior_true_MC_noTune_chi2_angleDiff_comb_\"+ending+\".csv\", \n",
    "               smeared_nuWro,\n",
    "               delimiter =\", \", \n",
    "               fmt ='% s')\n",
    "\n",
    "print(ending)"
   ]
  },
  {
   "cell_type": "code",
   "execution_count": 41,
   "id": "e8622ad9",
   "metadata": {},
   "outputs": [
    {
     "data": {
      "text/plain": [
       "'\\nstart1 = np.array(smeared_nuWro) - np.array((nue_numu_tot_nuWro_true_err))\\nend1 = np.array(smeared_nuWro) + np.array((nue_numu_tot_nuWro_true_err))\\n\\nstart2 = np.array(nuWro_events) - np.array((nuWro_errs))\\nend2 = np.array(nuWro_events) + np.array((nuWro_errs))\\n#print(top)\\n#print(minus)\\n\\ndef overlap(start1, end1, start2, end2):\\n    #Does the range (start1, end1) overlap with (start2, end2)?\\n    return end1 >= start2 and end2 >= start1\\n\\n\\nfor i in np.arange(len(smeared_nuWro)):\\n    print(overlap(start1[i], end1[i], start2[i], end2[i]))\\n'"
      ]
     },
     "execution_count": 41,
     "metadata": {},
     "output_type": "execute_result"
    }
   ],
   "source": [
    "\"\"\"\n",
    "start1 = np.array(smeared_nuWro) - np.array((nue_numu_tot_nuWro_true_err))\n",
    "end1 = np.array(smeared_nuWro) + np.array((nue_numu_tot_nuWro_true_err))\n",
    "\n",
    "start2 = np.array(nuWro_events) - np.array((nuWro_errs))\n",
    "end2 = np.array(nuWro_events) + np.array((nuWro_errs))\n",
    "#print(top)\n",
    "#print(minus)\n",
    "\n",
    "def overlap(start1, end1, start2, end2):\n",
    "    #Does the range (start1, end1) overlap with (start2, end2)?\n",
    "    return end1 >= start2 and end2 >= start1\n",
    "\n",
    "\n",
    "for i in np.arange(len(smeared_nuWro)):\n",
    "    print(overlap(start1[i], end1[i], start2[i], end2[i]))\n",
    "\"\"\""
   ]
  },
  {
   "cell_type": "code",
   "execution_count": 42,
   "id": "9077e8e8",
   "metadata": {},
   "outputs": [
    {
     "name": "stdout",
     "output_type": "stream",
     "text": [
      "bin =  0\n",
      "Inside\n",
      "\n",
      "bin =  1\n",
      "Inside\n",
      "\n",
      "bin =  2\n",
      "Inside\n",
      "\n",
      "bin =  3\n",
      "Inside\n",
      "\n",
      "bin =  4\n",
      "Inside\n",
      "\n",
      "bin =  5\n",
      "Inside\n",
      "\n",
      "bin =  6\n",
      "Inside\n",
      "\n",
      "bin =  7\n",
      "Inside\n",
      "\n",
      "bin =  8\n",
      "Inside\n",
      "\n",
      "bin =  9\n",
      "Inside\n",
      "\n",
      "bin =  10\n",
      "Inside\n",
      "\n",
      "bin =  11\n",
      "Inside\n",
      "\n",
      "bin =  12\n",
      "Inside\n",
      "\n",
      "bin =  13\n",
      "Inside\n",
      "\n",
      "bin =  14\n",
      "Inside\n",
      "\n",
      "bin =  15\n",
      "Inside\n",
      "\n",
      "bin =  16\n",
      "Inside\n",
      "\n",
      "bin =  17\n",
      "Inside\n",
      "\n",
      "bin =  18\n",
      "Inside\n",
      "\n",
      "bin =  19\n",
      "Inside\n",
      "\n"
     ]
    }
   ],
   "source": [
    "for i in np.arange(len(smeared_nuWro)):\n",
    "    print(\"bin = \", i)\n",
    "    if( ((smeared_nuWro[i] < nuWro_events[i] + nuWro_errs[i]) and (smeared_nuWro[i] > nuWro_events[i] - nuWro_errs[i]))):# or ((nuWro_events[i] < smeared_nuWro[i] + nue_numu_tot_nuWro_true_err[i]) and (nuWro_events[i] > smeared_nuWro[i] - nue_numu_tot_nuWro_true_err[i])) ):\n",
    "        print(\"Inside\")\n",
    "        print(\"\")\n",
    "    else:\n",
    "        print(\"outside\")\n",
    "        print(\"value is (genie) = \", smeared_nuWro[i])\n",
    "        print(\"top of err = \", nuWro_events[i] + nuWro_errs[i])\n",
    "        print(\"bot of err = \", nuWro_events[i] - nuWro_errs[i])\n",
    "        print(\"\")"
   ]
  },
  {
   "cell_type": "code",
   "execution_count": 43,
   "id": "1b02d84c",
   "metadata": {},
   "outputs": [
    {
     "data": {
      "text/plain": [
       "'\\nimport scipy.stats as sp\\n\\nprint(sum(f_obs[0]))\\nprint(sum(f_exp[0]))\\n\\nsp.chisquare(f_obs=f_obs[0], f_exp=f_exp[0])\\n'"
      ]
     },
     "execution_count": 43,
     "metadata": {},
     "output_type": "execute_result"
    }
   ],
   "source": [
    "###Do a chi squared test\n",
    "\"\"\"\n",
    "import scipy.stats as sp\n",
    "\n",
    "print(sum(f_obs[0]))\n",
    "print(sum(f_exp[0]))\n",
    "\n",
    "sp.chisquare(f_obs=f_obs[0], f_exp=f_exp[0])\n",
    "\"\"\""
   ]
  },
  {
   "cell_type": "code",
   "execution_count": 44,
   "id": "38ea3043",
   "metadata": {},
   "outputs": [],
   "source": [
    "import scipy.stats as sp\n",
    "\n",
    "f_obs = f_obs[0]\n",
    "f_exp = f_exp[0]"
   ]
  },
  {
   "cell_type": "code",
   "execution_count": 45,
   "id": "dadb53e5",
   "metadata": {},
   "outputs": [
    {
     "name": "stdout",
     "output_type": "stream",
     "text": [
      "264.5382655043449\n"
     ]
    }
   ],
   "source": [
    "hold = []\n",
    "\n",
    "for i in range(len(f_obs)):\n",
    "    braket = (f_obs[i] - f_exp[i])\n",
    "    num = (braket*braket)/f_exp[i]\n",
    "    hold.append(num)\n",
    "    \n",
    "print(sum(hold))\n",
    "chi_squared_stat = sum(hold)"
   ]
  },
  {
   "cell_type": "code",
   "execution_count": 46,
   "id": "dbfca7dd",
   "metadata": {},
   "outputs": [
    {
     "data": {
      "text/plain": [
       "406.30480132665537"
      ]
     },
     "execution_count": 46,
     "metadata": {},
     "output_type": "execute_result"
    }
   ],
   "source": [
    "####Crital value - what the chi sqaured value must be below for a P value fo this significance\n",
    "import scipy.stats as sp\n",
    "\n",
    "deg_of_free = 19*19\n",
    "\n",
    "sp.chi2.ppf(q = 0.95, df = deg_of_free)"
   ]
  },
  {
   "cell_type": "code",
   "execution_count": 47,
   "id": "1e4828b0",
   "metadata": {},
   "outputs": [
    {
     "name": "stdout",
     "output_type": "stream",
     "text": [
      "P value: 0.9999602271092662\n"
     ]
    }
   ],
   "source": [
    "p_value = 1 - sp.chi2.cdf(x=chi_squared_stat,  # Find the p-value\n",
    "                             df=deg_of_free)\n",
    "print(\"P value:\",p_value)"
   ]
  },
  {
   "cell_type": "markdown",
   "id": "d69a6881",
   "metadata": {},
   "source": [
    "## Values from Steven's Code which takes uncertainty into account\n",
    "\n",
    "\n",
    "chi2 =  1.08189\n",
    "\n",
    "num_bins =  20\n",
    "\n",
    "dof =  19\n",
    "\n",
    "p_value =  1\n",
    "\n"
   ]
  },
  {
   "cell_type": "code",
   "execution_count": 48,
   "id": "14c91f9a",
   "metadata": {},
   "outputs": [
    {
     "data": {
      "text/plain": [
       "18.337652896756474"
      ]
     },
     "execution_count": 48,
     "metadata": {},
     "output_type": "execute_result"
    }
   ],
   "source": [
    "deg_of_free = 19\n",
    "\n",
    "sp.chi2.ppf(q = 0.5, df = deg_of_free)"
   ]
  },
  {
   "cell_type": "code",
   "execution_count": 49,
   "id": "9cc92b97",
   "metadata": {},
   "outputs": [],
   "source": [
    "##############################"
   ]
  },
  {
   "cell_type": "code",
   "execution_count": 50,
   "id": "d7c7134a",
   "metadata": {},
   "outputs": [],
   "source": [
    "inverse_unfcov = np.linalg.inv(chunks_cov)"
   ]
  },
  {
   "cell_type": "code",
   "execution_count": 51,
   "id": "bd845df0",
   "metadata": {},
   "outputs": [
    {
     "data": {
      "image/png": "[encoded data removed]",
      "text/plain": [
       "<Figure size 720x432 with 2 Axes>"
      ]
     },
     "metadata": {
      "needs_background": "light"
     },
     "output_type": "display_data"
    }
   ],
   "source": [
    "fig = plt.figure(figsize=(10, 6))  \n",
    "\n",
    "#print(bins)\n",
    "bins = np.arange(0, 21, 1)\n",
    "count = np.arange(0.0, 20.0, 1)\n",
    "    \n",
    "plt.pcolor(bins, bins, inverse_unfcov , cmap='OrRd', edgecolors='k')#, vmin=-1, vmax=1)\n",
    "            \n",
    "cbar = plt.colorbar()\n",
    "cbar.ax.tick_params(labelsize=14)\n",
    "#cbar.set_label(r\"Log (Power)\", size=15)\n",
    "\n",
    "plt.xlabel('Bin Number', fontsize=15)\n",
    "plt.ylabel('Bin Number', fontsize=15)\n",
    "\n",
    "plt.title(' Inv Covariance Matrix', fontsize=15)\n",
    "\n",
    "plt.show()"
   ]
  },
  {
   "cell_type": "code",
   "execution_count": 55,
   "id": "49210214",
   "metadata": {},
   "outputs": [
    {
     "name": "stdout",
     "output_type": "stream",
     "text": [
      "20\n",
      "20\n"
     ]
    }
   ],
   "source": [
    "chi2_genie = 0\n",
    "\n",
    "print(len(bins)-1)\n",
    "print(len(f_obs))\n",
    "\n",
    "for i in range(len(bins)-1): \n",
    "    \n",
    "    for j in range(len(f_obs)): \n",
    "\n",
    "            \n",
    "            chi2_genie = chi2_genie  + ( (f_obs[i]-f_exp[i])*inverse_unfcov[i][j]*(f_obs[j]-f_exp[j]) )\n",
    "  "
   ]
  },
  {
   "cell_type": "code",
   "execution_count": 53,
   "id": "af3dc951",
   "metadata": {},
   "outputs": [
    {
     "data": {
      "text/plain": [
       "0.8725591499862446"
      ]
     },
     "execution_count": 53,
     "metadata": {},
     "output_type": "execute_result"
    }
   ],
   "source": [
    "chi2_genie"
   ]
  },
  {
   "cell_type": "code",
   "execution_count": 54,
   "id": "6afc3504",
   "metadata": {},
   "outputs": [
    {
     "name": "stdout",
     "output_type": "stream",
     "text": [
      "P value: 0.9999999997749305\n"
     ]
    }
   ],
   "source": [
    "p_value = 1 - sp.chi2.cdf(x=chi2_genie,  # Find the p-value\n",
    "                             df=19)\n",
    "print(\"P value:\",p_value)"
   ]
  },
  {
   "cell_type": "code",
   "execution_count": null,
   "id": "d0827fb7",
   "metadata": {},
   "outputs": [],
   "source": []
  }
 ],
 "metadata": {
  "kernelspec": {
   "display_name": "Python 3 (ipykernel)",
   "language": "python",
   "name": "python3"
  },
  "language_info": {
   "codemirror_mode": {
    "name": "ipython",
    "version": 3
   },
   "file_extension": ".py",
   "mimetype": "text/x-python",
   "name": "python",
   "nbconvert_exporter": "python",
   "pygments_lexer": "ipython3",
   "version": "3.8.12"
  }
 },
 "nbformat": 4,
 "nbformat_minor": 5
}
