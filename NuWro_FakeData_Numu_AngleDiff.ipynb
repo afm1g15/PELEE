{
 "cells": [
  {
   "cell_type": "code",
   "execution_count": 103,
   "id": "13875a64",
   "metadata": {},
   "outputs": [],
   "source": [
    "#######################"
   ]
  },
  {
   "cell_type": "code",
   "execution_count": 1,
   "id": "84d55dcc",
   "metadata": {},
   "outputs": [],
   "source": [
    "\n",
    "\n",
    "nuwro = True\n",
    "ISRUN3 = False\n",
    "\n",
    "\n",
    "#True for normal, false for stat err\n",
    "#useWeights = True\n"
   ]
  },
  {
   "cell_type": "code",
   "execution_count": 2,
   "id": "16234578",
   "metadata": {},
   "outputs": [
    {
     "name": "stdout",
     "output_type": "stream",
     "text": [
      "Welcome to JupyROOT 6.24/02\n"
     ]
    }
   ],
   "source": [
    "import sys\n",
    "\n",
    "#sys.path.insert(0, 'backend_functions')\n",
    "\n",
    "#import selection_functions as sf\n",
    "\n",
    "import importlib\n",
    "\n",
    "import uproot\n",
    "import matplotlib.pylab as pylab\n",
    "import numpy as np\n",
    "import math\n",
    "from sklearn.model_selection import train_test_split\n",
    "import pickle\n",
    "import xgboost as xgb\n",
    "\n",
    "import awkward\n",
    "import matplotlib.pyplot as plt\n",
    "import pandas as pd\n",
    "\n",
    "import ROOT\n",
    "from ROOT import TH1F, TH2F, TDirectory, TH1D\n",
    "\n",
    "#import top \n",
    "#from top import *\n",
    "\n",
    "#importlib.reload(sf)\n",
    "#from selection_functions import *"
   ]
  },
  {
   "cell_type": "code",
   "execution_count": 3,
   "id": "8f915b84",
   "metadata": {},
   "outputs": [],
   "source": [
    "\n",
    "\n",
    "fold = \"nuselection\"\n",
    "tree = \"NeutrinoSelectionFilter\"\n",
    "\n"
   ]
  },
  {
   "cell_type": "code",
   "execution_count": 4,
   "id": "cc93cf39",
   "metadata": {},
   "outputs": [],
   "source": [
    "if nuwro: \n",
    "    path = \"/media/alex/TOSHIBA EXT/\""
   ]
  },
  {
   "cell_type": "code",
   "execution_count": 5,
   "id": "97dce84d",
   "metadata": {},
   "outputs": [],
   "source": [
    "\n",
    "\n",
    "if nuwro: \n",
    "    overlay = uproot.open(path+\"neutrinoselection_filt_run1_overlay_nuwro.root\")[fold][tree]\n",
    "    nue = uproot.open(path+\"neutrinoselection_filt_run1_overlay_nuwro_intrinsic.root\")[fold][tree]\n",
    "\n",
    "uproot_v = [overlay,nue]"
   ]
  },
  {
   "cell_type": "code",
   "execution_count": 6,
   "id": "f844e58a",
   "metadata": {},
   "outputs": [
    {
     "name": "stdout",
     "output_type": "stream",
     "text": [
      "['opening_angle', 'nu_e', 'selected', 'muon_e', 'shrsubclusters2', 'true_nu_pz', 'mc_pdg', 'trk_score_v', 'trk_range_muon_mom_v', 'nslice', 'shr_tkfit_npoints', 'true_nu_py', 'mc_py', 'shr_pz', 'true_nu_vtx_z', 'elec_pz', 'shr_px', 'NeutrinoEnergy2', 'trk_mcs_muon_mom_v', 'trkshrhitdist2', 'shr_phi', 'shr_energy_cali', 'contained_fraction', 'ccnc', 'true_nu_vtx_sce_z', 'reco_nu_vtx_sce_z', 'elec_e', '_opfilter_pe_veto', 'npion', 'true_nu_vtx_sce_y', 'trk_sce_end_x_v', 'weightTune', 'shr_energy_tot_cali', 'mc_px', 'trk_phi', 'n_showers_contained', 'npi0', 'elec_py', 'weightSplineTimesTune', 'shrmoliereavg', 'trk_sce_end_z_v', 'nproton', 'shr_py', 'trk_sce_end_y_v', 'shr_tkfit_dedx_Y', 'trk_energy', 'true_nu_px', 'n_tracks_contained', 'run', 'reco_nu_vtx_sce_x', '_opfilter_pe_beam', 'proton_e', 'shr_tkfit_npointsvalid', 'reco_nu_vtx_sce_y', 'swtrig_pre', 'tksh_angle', 'interaction', 'true_nu_vtx_y', 'shrsubclusters0', 'trk_theta', 'ppfx_cv', 'true_nu_vtx_x', 'shr_score', 'true_nu_vtx_sce_x', 'shrsubclusters1', 'mc_pz', 'true_e_visible', 'elec_px', 'nu_pdg', 'shr_theta', 'tksh_distance', 'topological_score']\n"
     ]
    }
   ],
   "source": [
    "\n",
    "\n",
    "variables = [\n",
    "    \"selected\", \"nu_pdg\", \n",
    "    \"trk_score_v\", \"_opfilter_pe_beam\", \"_opfilter_pe_veto\",\n",
    "    \"shr_tkfit_dedx_Y\", \"trk_theta\", \"trk_phi\",\n",
    "    \"ccnc\", \"shr_px\", \"shr_py\", \"shr_pz\",\n",
    "    \"n_tracks_contained\", \n",
    "    \"NeutrinoEnergy2\", \"shr_theta\", \"shr_phi\",\n",
    "    \"reco_nu_vtx_sce_x\",\"reco_nu_vtx_sce_y\",\"reco_nu_vtx_sce_z\",\n",
    "    \"true_nu_vtx_x\", \"true_nu_vtx_y\" , \"true_nu_vtx_z\", \n",
    "    \"nproton\", \"nu_e\", \"n_showers_contained\",\n",
    "    \"shr_score\", \"topological_score\",\n",
    "    \"trk_energy\", \"tksh_distance\", \"tksh_angle\",\n",
    "    \"npi0\", \"trk_mcs_muon_mom_v\", \"trk_range_muon_mom_v\",\n",
    "    \"shr_energy_tot_cali\", \"shr_energy_cali\", \n",
    "    \"nslice\", \"true_nu_vtx_sce_x\", \"true_nu_vtx_sce_y\", \"true_nu_vtx_sce_z\",\n",
    "    \"contained_fraction\",\n",
    "    \"npion\", \"trk_sce_end_z_v\", \"trk_sce_end_y_v\", \"trk_sce_end_x_v\",\n",
    "    \"shrmoliereavg\", \"muon_e\", \"proton_e\",\n",
    "    \"shrsubclusters0\",\"shrsubclusters1\",\"shrsubclusters2\", \n",
    "    \"shr_tkfit_npointsvalid\",\"shr_tkfit_npoints\", \"true_e_visible\", \"trkshrhitdist2\", \n",
    "    \"weightSplineTimesTune\", \"weightTune\", \"true_nu_px\", \"true_nu_py\", \"true_nu_pz\", \n",
    "    \"elec_e\", \"proton_e\", \"mc_px\", \"mc_py\", \"mc_pz\", \"elec_px\", \"elec_py\", \"elec_pz\", \n",
    "    \"swtrig_pre\", \"ppfx_cv\", \"mc_pdg\",  'interaction', 'run', \"opening_angle\"]\n",
    "\n",
    "\n",
    "variables = list(set(variables))\n",
    "print(variables)\n"
   ]
  },
  {
   "cell_type": "code",
   "execution_count": 7,
   "id": "3501ff6c",
   "metadata": {},
   "outputs": [
    {
     "name": "stdout",
     "output_type": "stream",
     "text": [
      "trk_llr_pid_v  [[] [] [0.96992034 -0.031569537] ... [0.96793294 0.40650022] [] []]\n",
      "trk_score_v  [[] [] [0.9998714 0.50025755] ... [1.0 0.35099977] [] []]\n"
     ]
    },
    {
     "name": "stderr",
     "output_type": "stream",
     "text": [
      "/home/alex/miniconda3/envs/vintageXgboostVintageUprootEnv/lib/python3.8/site-packages/awkward/array/jagged.py:1043: RuntimeWarning: overflow encountered in power\n",
      "  result = getattr(ufunc, method)(*inputs, **kwargs)\n",
      "/home/alex/miniconda3/envs/vintageXgboostVintageUprootEnv/lib/python3.8/site-packages/awkward/array/jagged.py:1043: RuntimeWarning: overflow encountered in true_divide\n",
      "  result = getattr(ufunc, method)(*inputs, **kwargs)\n"
     ]
    },
    {
     "name": "stdout",
     "output_type": "stream",
     "text": [
      "updated proton mask test\n",
      "runtime =  31.575098991394043\n"
     ]
    }
   ],
   "source": [
    "import load_data_run123\n",
    "\n",
    "#overlay = overlay.pandas.df(variables, flatten=False)\n",
    "import time\n",
    "s = time.time()\n",
    "\n",
    "#df_v = [overlay]\n",
    "uproot_v = [overlay]\n",
    "var_v = [variables]\n",
    "\n",
    "for ii, CV in enumerate(uproot_v):\n",
    "    CVDF  = CV.pandas.df(var_v[ii], flatten=False)\n",
    "    load_data_run123.process_uproot_numu(CV,CVDF)\n",
    "    if ii == 0:\n",
    "        overlay = CVDF\n",
    "\n",
    "s2 = time.time()\n",
    "print(\"runtime = \", s2-s)"
   ]
  },
  {
   "cell_type": "code",
   "execution_count": 8,
   "id": "a12407c9",
   "metadata": {},
   "outputs": [
    {
     "name": "stdout",
     "output_type": "stream",
     "text": [
      "trk_llr_pid_v  [[-0.78143746 0.38416666] [0.87407523] [0.95106965 0.9559888 0.9254303 0.15696444] ... [] [0.9717339] [0.964979 0.9468219 0.45449623 ... 0.40842512 0.27252463 -0.024122704]]\n",
      "trk_score_v  [[0.9562631 0.6825045] [0.003897016] [0.20598558 0.9998898 0.8317998 0.6877012] ... [] [0.025898064] [0.0025717707 0.99560267 0.0046345955 ... 0.046564847 0.04777992 0.8479064]]\n",
      "updated proton mask test\n",
      "runtime =  27.382797241210938\n"
     ]
    }
   ],
   "source": [
    "\n",
    "\n",
    "#nue = nue.pandas.df(variables, flatten=False)\n",
    "\n",
    "import time\n",
    "s = time.time()\n",
    "\n",
    "#df_v = [overlay]\n",
    "uproot_v = [nue]\n",
    "var_v = [variables]\n",
    "\n",
    "for ii, CV in enumerate(uproot_v):\n",
    "    CVDF  = CV.pandas.df(var_v[ii], flatten=False)\n",
    "    load_data_run123.process_uproot_numu(CV,CVDF)\n",
    "    if ii == 0:\n",
    "        nue = CVDF\n",
    "\n",
    "s2 = time.time()\n",
    "print(\"runtime = \", s2-s)"
   ]
  },
  {
   "cell_type": "code",
   "execution_count": 9,
   "id": "400907ac",
   "metadata": {},
   "outputs": [],
   "source": [
    "df_v = [overlay,nue]\n",
    "uproot_v = [overlay,nue]"
   ]
  },
  {
   "cell_type": "code",
   "execution_count": 10,
   "id": "093dd0b5",
   "metadata": {},
   "outputs": [
    {
     "name": "stdout",
     "output_type": "stream",
     "text": [
      "280045\n",
      "132027\n"
     ]
    }
   ],
   "source": [
    "for i,df in enumerate(df_v):  \n",
    "    df[\"bnbdata\"] = np.zeros_like(df[\"nslice\"])\n",
    "    df[\"extdata\"] = np.zeros_like(df[\"nslice\"])\n",
    "    print(len(df[\"extdata\"]))"
   ]
  },
  {
   "cell_type": "code",
   "execution_count": 11,
   "id": "09e93a02",
   "metadata": {},
   "outputs": [
    {
     "data": {
      "text/plain": [
       "\"\\ndf_v = [overlay,nue]\\n\\n\\nfor i,df in enumerate(df_v):\\n    up = uproot_v[i]\\n    trk_llr_pid_v = up.array('trk_llr_pid_score_v')\\n    trk_id = up.array('trk_id')-1 # I think we need this -1 to get the right result\\n    trk_llr_pid_v_sel = awkward.fromiter([pidv[tid] if tid<len(pidv) else 9999. for pidv,tid in zip(trk_llr_pid_v,trk_id)])\\n    df['trkpid'] = trk_llr_pid_v_sel\\n    df['subcluster'] = df['shrsubclusters0'] + df['shrsubclusters1'] + df['shrsubclusters2']\\n\\n    df['NeutrinoEnergy2_GeV'] = df['NeutrinoEnergy2']/1000\\n\\n\""
      ]
     },
     "execution_count": 11,
     "metadata": {},
     "output_type": "execute_result"
    }
   ],
   "source": [
    "\"\"\"\n",
    "df_v = [overlay,nue]\n",
    "\n",
    "\n",
    "for i,df in enumerate(df_v):\n",
    "    up = uproot_v[i]\n",
    "    trk_llr_pid_v = up.array('trk_llr_pid_score_v')\n",
    "    trk_id = up.array('trk_id')-1 # I think we need this -1 to get the right result\n",
    "    trk_llr_pid_v_sel = awkward.fromiter([pidv[tid] if tid<len(pidv) else 9999. for pidv,tid in zip(trk_llr_pid_v,trk_id)])\n",
    "    df['trkpid'] = trk_llr_pid_v_sel\n",
    "    df['subcluster'] = df['shrsubclusters0'] + df['shrsubclusters1'] + df['shrsubclusters2']\n",
    "\n",
    "    df['NeutrinoEnergy2_GeV'] = df['NeutrinoEnergy2']/1000\n",
    "\n",
    "\"\"\""
   ]
  },
  {
   "cell_type": "code",
   "execution_count": 12,
   "id": "f68e58f3",
   "metadata": {},
   "outputs": [],
   "source": [
    "from scipy.spatial.transform import Rotation as R\n",
    "from numpy import arccos, array\n",
    "from numpy.linalg import norm\n",
    "\n",
    "# Note: returns angle in radians\n",
    "def theta(v, w): return arccos(v.dot(w)/(norm(v)*norm(w)))* 180 / 3.1415926\n",
    "\n",
    "def GetNuMIAngle( px,  py,  pz):\n",
    "    r = R.from_matrix([[0.92103853804025681562   , 0.022713504803924120662, 0.38880857519374290021  ],\n",
    "                       [4.6254001262154668408e-05, 0.99829162468141474651 , -0.058427989452906302359],\n",
    "                       [-0.38947144863934973769  , 0.053832413938664107345, 0.91946400794392302291  ]])  \n",
    "    r = r.inv()\n",
    "    beamCoords = r.apply([px,  py,  pz])\n",
    "    beamDir    = [0,0,1]\n",
    "    #print(theta(beamCoords,beamDir))\n",
    "    return theta(beamCoords,beamDir)\n",
    "\n",
    "def GetNuMIAnglePol( phiBNB,  thetaBNB):\n",
    "    px = math.sin(thetaBNB)*math.cos(phiBNB)\n",
    "    py = math.sin(thetaBNB)*math.sin(phiBNB)\n",
    "    pz = math.cos(thetaBNB)\n",
    "    return GetNuMIAngle( px,  py,  pz)"
   ]
  },
  {
   "cell_type": "code",
   "execution_count": 13,
   "id": "02a7f29c",
   "metadata": {},
   "outputs": [
    {
     "data": {
      "text/plain": [
       "1.8690124908136228"
      ]
     },
     "execution_count": 13,
     "metadata": {},
     "output_type": "execute_result"
    }
   ],
   "source": [
    "def vectorFromNuMITarget(vtxX,  vtxY, vtxZ):\n",
    "    numiTarget      = np.array([-31387.58422, -3316.402543, -60100.2414])\n",
    "    nuInteraction   = np.array([vtxX,  vtxY, vtxZ])\n",
    "    directionVector = nuInteraction - numiTarget\n",
    "    return directionVector\n",
    "\n",
    "def angleFromNuMITarget(vtxX,  vtxY, vtxZ, thetaBNB, phiBNB):\n",
    "    v1 = vectorFromNuMITarget(vtxX,  vtxY, vtxZ)  \n",
    "    norm = np.linalg.norm(v1)\n",
    "    v1 = v1/norm\n",
    "    v2 = [np.cos(phiBNB)*np.sin(thetaBNB),np.sin(phiBNB)*np.sin(thetaBNB), np.cos(thetaBNB) ]\n",
    "    dot_product = np.dot(v1, v2)\n",
    "    angle = np.arccos(dot_product)\n",
    "    return angle #dot_product # angle*180/3.14159265\n",
    "\n",
    "\n",
    "\n",
    "angleFromNuMITarget(1,1,1,1.4,3.)"
   ]
  },
  {
   "cell_type": "code",
   "execution_count": 14,
   "id": "b7acd310",
   "metadata": {},
   "outputs": [],
   "source": [
    "#RERUN IF CHANGING\n",
    "\n",
    "isTruth = False\n",
    "\n",
    "if isTruth == False:\n",
    "\n",
    "    nue.query(\"nu_e > 0 and nslice == 1 and ( (_opfilter_pe_beam > 0 and _opfilter_pe_veto < 20) or bnbdata == 1 or extdata == 1)\\\n",
    "    and reco_nu_vtx_sce_x > 15 and reco_nu_vtx_sce_x < 245 \\\n",
    "    and reco_nu_vtx_sce_y > -105 and reco_nu_vtx_sce_y < 105 \\\n",
    "    and reco_nu_vtx_sce_z > 10 and reco_nu_vtx_sce_z < 990 \\\n",
    "    and n_muons_tot > 0 and n_protons_tot > 0 and n_showers_contained==0 \\\n",
    "    and contained_fraction> 0.95 and topological_score > 0.3\", inplace=True)\n",
    "\n",
    "    overlay.query(\"nu_e > 0 and nslice == 1 and ( (_opfilter_pe_beam > 0 and _opfilter_pe_veto < 20) or bnbdata == 1 or extdata == 1)\\\n",
    "    and reco_nu_vtx_sce_x > 15 and reco_nu_vtx_sce_x < 245 \\\n",
    "    and reco_nu_vtx_sce_y > -105 and reco_nu_vtx_sce_y < 105 \\\n",
    "    and reco_nu_vtx_sce_z > 10 and reco_nu_vtx_sce_z < 990 \\\n",
    "    and n_muons_tot > 0 and n_protons_tot > 0 and n_showers_contained==0 \\\n",
    "    and contained_fraction> 0.95 and topological_score > 0.3\", inplace=True)\n",
    "\n",
    "elif isTruth == True:\n",
    "    nue.query(\"nu_e > 0 and swtrig_pre == 1 \\\n",
    "    and true_nu_vtx_sce_x > 10 and true_nu_vtx_sce_x < 246 \\\n",
    "    and true_nu_vtx_sce_y > -106 and true_nu_vtx_sce_y < 106 \\\n",
    "    and true_nu_vtx_sce_z > 10 and true_nu_vtx_sce_z < 1026 \\\n",
    "    and nproton > 0 and npion == 0 and npi0 == 0\", inplace=True)#and nu_pdg==14 and ccnc == 0 \\\n",
    "\n",
    "    overlay.query(\"nu_e > 0 and swtrig_pre == 1 \\\n",
    "    and true_nu_vtx_sce_x > 10 and true_nu_vtx_sce_x < 246 \\\n",
    "    and true_nu_vtx_sce_y > -106 and true_nu_vtx_sce_y < 106 \\\n",
    "    and true_nu_vtx_sce_z > 10 and true_nu_vtx_sce_z < 1026 \\\n",
    "    and nproton > 0 and npion == 0 and npi0 == 0\", inplace=True)"
   ]
  },
  {
   "cell_type": "code",
   "execution_count": 15,
   "id": "054d595b",
   "metadata": {},
   "outputs": [
    {
     "name": "stdout",
     "output_type": "stream",
     "text": [
      "entry\n",
      "1174      0.439274\n",
      "1860      0.191097\n",
      "2127      0.279706\n",
      "2271      0.381607\n",
      "2551      0.213547\n",
      "            ...   \n",
      "130889    0.498756\n",
      "131040    0.222211\n",
      "131077    0.243831\n",
      "131632    0.166437\n",
      "131646    0.324741\n",
      "Name: muon_mom, Length: 395, dtype: object\n",
      "\n",
      "==========================\n",
      "runetime =  1.06959867477417\n"
     ]
    }
   ],
   "source": [
    "#RECO VARIABLE\n",
    "import time\n",
    "s = time.time()\n",
    "#df_v = [numu_mc]\n",
    "#removeGenieTune = False\n",
    "#for i,df in enumerate(df_v):\n",
    "#    print(df['muon_momentum'])\n",
    "\n",
    "#if track is stopped in fiducial volume\n",
    "#    then use stoppingmom\n",
    "#else\n",
    "#    use other mom\n",
    "    \n",
    "#set up this new variable for each one in  the dataframe\n",
    "\n",
    "#use first value - from looking at the trk_start and nu_reco_vtx values, this should be the muon\n",
    "for i,df in enumerate(df_v):\n",
    "    df[\"muon_mom\"] = df[\"trk_sce_end_z_v\"].copy()\n",
    "    for j, row in df.iterrows():\n",
    "        if (len(row[\"muon_mom\"]) !=0 ) and (df[\"trk_sce_end_z_v\"][j][0] < 1036.8 and df[\"trk_sce_end_z_v\"][j][0] > 0 and df[\"trk_sce_end_y_v\"][j][0] < 116.5 and df[\"trk_sce_end_y_v\"][j][0] > -116.5 and df[\"trk_sce_end_x_v\"][j][0] < \\\n",
    "         254.8 and df[\"trk_sce_end_x_v\"][j][0] > -1.55):\n",
    "            df.loc[j, \"muon_mom\"] = df[\"trk_range_muon_mom_v\"][j][0]\n",
    "        elif (len(row[\"muon_mom\"]) == 0 ):\n",
    "            df.loc[j, \"muon_mom\"] = 0\n",
    "        else:\n",
    "            df.loc[j, \"muon_mom\"] = df[\"trk_mcs_muon_mom_v\"][j][0]  #mcs == multiple coulob scattering\n",
    "        \n",
    "print(df[\"muon_mom\"])\n",
    "\n",
    "print(\"\")    \n",
    "print(\"==========================\")\n",
    "s2 = time.time()\n",
    "print(\"runetime = \", s2-s)"
   ]
  },
  {
   "cell_type": "code",
   "execution_count": 16,
   "id": "d34c60c7",
   "metadata": {},
   "outputs": [],
   "source": [
    "#RECO VARIABLE\n",
    "#in this we use the NEUTRINO VERTEX and the MUON PHI/THETA and will get the ANGLE BETWEEN THEM\n",
    "\n",
    "for i,df in enumerate(df_v):\n",
    "    df['nu_Angle_Numi_Muon_Reco'] = df.apply( lambda x: angleFromNuMITarget(x['reco_nu_vtx_sce_x'],x['reco_nu_vtx_sce_y'],x['reco_nu_vtx_sce_z'], x['trk_theta'],x['trk_phi']) , axis=1)\n",
    "    df['cosNu_Angle_Numi_Muon_Reco'] = np.cos(df['nu_Angle_Numi_Muon_Reco'])"
   ]
  },
  {
   "cell_type": "code",
   "execution_count": 17,
   "id": "f409fa01",
   "metadata": {},
   "outputs": [
    {
     "name": "stdout",
     "output_type": "stream",
     "text": [
      "\n",
      "==========================\n",
      "runetime =  1.319685935974121\n"
     ]
    }
   ],
   "source": [
    "#TRUE VARIABLE\n",
    "s = time.time()\n",
    "\n",
    "for i,df in enumerate(df_v):\n",
    "    df[\"muon_px\"] = df[\"ccnc\"].copy()\n",
    "    df[\"muon_py\"] = df[\"ccnc\"].copy()\n",
    "    df[\"muon_pz\"] = df[\"ccnc\"].copy()\n",
    "    for j, row in df.iterrows():\n",
    "        pdg_vector = df[\"mc_pdg\"].loc[j][0]\n",
    "        px_vector = df[\"mc_px\"].loc[j]\n",
    "        py_vector = df[\"mc_py\"].loc[j]\n",
    "        pz_vector = df[\"mc_pz\"].loc[j]\n",
    "        result = np.where(pdg_vector==13)[0]\n",
    "        if np.size(result):\n",
    "            df.loc[j, \"muon_px\"] = px_vector[result][0]\n",
    "            df.loc[j, \"muon_py\"] = py_vector[result][0]\n",
    "            df.loc[j, \"muon_pz\"] = pz_vector[result][0]   \n",
    "            \n",
    "    #print(df[\"muon_px\"])\n",
    "\n",
    "print(\"\")    \n",
    "print(\"==========================\")\n",
    "s2 = time.time()\n",
    "print(\"runetime = \", s2-s)"
   ]
  },
  {
   "cell_type": "code",
   "execution_count": 18,
   "id": "66587feb",
   "metadata": {},
   "outputs": [],
   "source": [
    "#TRUE VARIABLE\n",
    "#in this we use the NEUTRINO VERTEX and the MUON PHI/THETA and will get the ANGLE BETWEEN THEM\n",
    "\n",
    "for i,df in enumerate(df_v):\n",
    "    df['targetP']     = np.sqrt(df['muon_px']*df['muon_px'] + df['muon_py']*df['muon_py'] + df['muon_pz']*df['muon_pz'])\n",
    "    df['targetPt']    = np.sqrt(df['muon_px']*df['muon_px'] + df['muon_py']*df['muon_py'])\n",
    "    df['targetTheta'] = np.arccos(df['muon_pz']/df['targetP'] )\n",
    "    df['targetPhi']   = np.arctan2(df['muon_py'],df['muon_px'])\n",
    "    df['nu_Angle_Numi_Muon'] = df.apply( lambda x: angleFromNuMITarget(x['true_nu_vtx_sce_x'],x['true_nu_vtx_sce_y'],x['true_nu_vtx_sce_z'], x['targetTheta'],x['targetPhi']) , axis=1)\n",
    "    df['cosNu_Angle_Numi_Muon'] = np.cos(df['nu_Angle_Numi_Muon'])"
   ]
  },
  {
   "cell_type": "code",
   "execution_count": 19,
   "id": "eb6ac920",
   "metadata": {},
   "outputs": [],
   "source": [
    "######################### plot categories ##############################\n",
    "# everything must pass software trigger ! \n",
    "\n",
    "in_fv_query = \"10<=true_nu_vtx_x<=246 and -106<=true_nu_vtx_y<=106 and 10<=true_nu_vtx_z<=1026\"\n",
    "out_fv_query = \"((true_nu_vtx_x<10 or true_nu_vtx_x>246) or (true_nu_vtx_y<-106 or true_nu_vtx_y>106) or (true_nu_vtx_z<10 or true_nu_vtx_z>1026))\"\n",
    "\n",
    "nue_CC_Npi0 = 'swtrig_pre==1 and ((nu_pdg==12 or nu_pdg==-12) and ccnc==0 and npi0>=1)'\n",
    "nue_CC_0pi0 = 'swtrig_pre==1 and ((nu_pdg==12 or nu_pdg==-12) and ccnc==0 and npi0==0)'\n",
    "\n",
    "nue_NC_Npi0 = 'swtrig_pre==1 and ((nu_pdg==12 or nu_pdg==-12) and ccnc==1 and npi0>=1)'\n",
    "nue_NC_0pi0 = 'swtrig_pre==1 and ((nu_pdg==12 or nu_pdg==-12) and ccnc==1 and npi0==0)'\n",
    "\n",
    "numubar_1eNp = 'swtrig_pre==1 and ((nu_pdg==-14 and ccnc==0 and nproton>0 and npion==0 and npi0==0))'\n",
    "numu_NC = 'swtrig_pre==1 and ((nu_pdg==14 or nu_pdg==-14) and ccnc==1)'\n",
    "\n",
    "numu_CCother = 'swtrig_pre==1 and (((nu_pdg==14 and ccnc==0) and (nproton==0 or npi0>0 or npion>0)) or (nu_pdg==-14 and ccnc==0 and (nproton==0 or npion>0 or npi0>0)))'\n",
    "\n",
    "# less specific categories \n",
    "numu_other = 'swtrig_pre==1 and (((nu_pdg==14 or nu_pdg==-14) and ccnc==1) or (((nu_pdg==14 and ccnc==0) and (nproton==0 or npi0>0 or npion>0)) or (nu_pdg==-14 and ccnc==0)))'\n",
    "nue_Npi0 = 'swtrig_pre==1 and ( (nu_pdg==12 or nu_pdg==-12) and npi0>=1)'\n",
    "nue_0pi0 = 'swtrig_pre==1 and ( (nu_pdg==12 or nu_pdg==-12) and npi0==0)'\n",
    "\n",
    "# signal vs. not signal \n",
    "signal = in_fv_query+' and  swtrig_pre==1 and (nu_pdg==14 and ccnc==0 and nproton>0 and npion==0 and npi0==0)'\n",
    "not_signal = \"(swtrig_pre==0) or (swtrig_pre==1 and (\" + out_fv_query+' or (nu_pdg!=14) or (nu_pdg==14 and ccnc==1) or (nu_pdg==12 and ccnc==0 and (nproton==0 or npi0>0 or npion>0)) ))'\n",
    "\n",
    "# for replacing nue CC \n",
    "in_AV_query = \"-1.55<=true_nu_vtx_x<=254.8 and -116.5<=true_nu_vtx_y<=116.5 and 0<=true_nu_vtx_z<=1036.8\"\n",
    "nueCC_query = 'abs(nu_pdg)==12 and ccnc==0 and '+in_AV_query"
   ]
  },
  {
   "cell_type": "code",
   "execution_count": 20,
   "id": "8dca935a",
   "metadata": {},
   "outputs": [],
   "source": [
    "overlay = overlay.query('swtrig_pre==1')\n",
    "nue = nue.query('swtrig_pre==1')"
   ]
  },
  {
   "cell_type": "code",
   "execution_count": 21,
   "id": "3360bc30",
   "metadata": {},
   "outputs": [],
   "source": [
    "mc_df = [overlay, nue]"
   ]
  },
  {
   "cell_type": "code",
   "execution_count": 22,
   "id": "51227bc9",
   "metadata": {},
   "outputs": [],
   "source": [
    "def addAngles(df): #From Katrina\n",
    "    \n",
    "    ## rotation matrix -- convert detector to beam coordinates\n",
    "    R = [\n",
    "        [0.921,   4.625e-05,     -0.3895],\n",
    "        [0.02271,    0.9983,     0.05383],\n",
    "        [0.3888,   -0.05843,      0.9195]\n",
    "    ]\n",
    "    det_origin_beamcoor = [5502.0, 7259.0,  67270.0]\n",
    "     \n",
    "    # angles in detector coordinates\n",
    "    df['thdet'] = np.arctan2(((df['true_nu_px']*df['true_nu_px'])+(df['true_nu_py']*df['true_nu_py']))**(1/2), df['true_nu_pz'])*(180/math.pi)\n",
    "    df['phidet'] = np.arctan2(df['true_nu_py'], df['true_nu_px'])*(180/math.pi)\n",
    "        \n",
    "    # get true momentum in beam coordinates\n",
    "    df['true_nu_px_beam'] = R[0][0]*df['true_nu_px'] + R[0][1]*df['true_nu_py'] + R[0][2]*df['true_nu_pz']\n",
    "    df['true_nu_py_beam'] = R[1][0]*df['true_nu_px'] + R[1][1]*df['true_nu_py'] + R[1][2]*df['true_nu_pz']\n",
    "    df['true_nu_pz_beam'] = R[2][0]*df['true_nu_px'] + R[2][1]*df['true_nu_py'] + R[2][2]*df['true_nu_pz']\n",
    "    \n",
    "    # angles in beam coordinates\n",
    "    df['thbeam'] = np.arctan2(((df['true_nu_px_beam']*df['true_nu_px_beam'])+(df['true_nu_py_beam']*df['true_nu_py_beam']))**(1/2), df['true_nu_pz_beam'])*(180/math.pi)\n",
    "    df['phibeam'] = np.arctan2(df['true_nu_py_beam'], df['true_nu_px_beam'])*(180/math.pi)\n",
    "        \n",
    "    return df"
   ]
  },
  {
   "cell_type": "code",
   "execution_count": 23,
   "id": "1a35bf35",
   "metadata": {},
   "outputs": [],
   "source": [
    "# use offline flux weights\n",
    "def offline_flux_weights(df, ISRUN3): \n",
    "    \n",
    "    if ISRUN3: \n",
    "        print(\"No ppfx maps for RHC!\")\n",
    "    \n",
    "    else: \n",
    "        f = ROOT.TFile.Open(path+\"ppfx_maps.root\", \"READ\")\n",
    "    \n",
    "    numu_map = f.Get(\"numu_ratio\")\n",
    "    numubar_map = f.Get(\"numubar_ratio\")\n",
    "    nue_map = f.Get(\"nue_ratio\")\n",
    "    nuebar_map = f.Get(\"nuebar_ratio\")\n",
    "    \n",
    "    nu_flav = list(df['nu_pdg'])\n",
    "    angle = list(df['thbeam'])\n",
    "    true_energy = list(df['nu_e'])\n",
    "\n",
    "    fluxweights = []\n",
    "\n",
    "    for i in range(len(nu_flav)): \n",
    "        if nu_flav[i]==14: \n",
    "            h = numu_map\n",
    "        elif nu_flav[i]==-14: \n",
    "            h = numubar_map\n",
    "        elif nu_flav[i]==12: \n",
    "            h = nue_map\n",
    "        elif nu_flav[i]==-12: \n",
    "            h = nuebar_map\n",
    "        else: \n",
    "            print(\"No map to match PDG code!\")\n",
    "        \n",
    "        fluxweights.append( h.GetBinContent(h.FindBin(true_energy[i], angle[i])) )\n",
    "\n",
    "    df['ppfx_cv'] = fluxweights\n",
    "    #mc_df[0]['weightFlux'] = fluxweights\n",
    "    #mc_df[1]['weightFlux'] = [1 for i in range(len(mc_df[1]))] # for now \n",
    "    \n",
    "    f.Close()\n",
    "    \n",
    "    return df"
   ]
  },
  {
   "cell_type": "code",
   "execution_count": 24,
   "id": "e10b5ddb",
   "metadata": {
    "scrolled": true
   },
   "outputs": [],
   "source": [
    "\n",
    "\n",
    "for i,df in enumerate(mc_df):\n",
    "    \n",
    "    # is signal bool \n",
    "    df['is_signal'] = np.where((df.swtrig_pre == 1)\n",
    "                             & (df.nu_pdg==14) & (df.ccnc==0) & (df.nproton>0) & (df.npion==0) & (df.npi0==0)\n",
    "                             & (10 <= df.true_nu_vtx_x) & (df.true_nu_vtx_x <= 246)\n",
    "                             & (-106 <= df.true_nu_vtx_y) & (df.true_nu_vtx_y <= 106)\n",
    "                             & (10 <= df.true_nu_vtx_z) & (df.true_nu_vtx_z <= 1026), True, False)\n",
    "    \n",
    "    # Add truth level theta & phi angles (detector & beam coordinates)\n",
    "    df = addAngles(df)\n",
    "    \n",
    "    # add binned ppfx weights\n",
    "    if nuwro: \n",
    "        df = offline_flux_weights(df, ISRUN3)\n",
    "    \n",
    "\n"
   ]
  },
  {
   "cell_type": "code",
   "execution_count": 25,
   "id": "7620a004",
   "metadata": {},
   "outputs": [
    {
     "name": "stdout",
     "output_type": "stream",
     "text": [
      "True\n",
      "True\n",
      "395\n",
      "395\n"
     ]
    }
   ],
   "source": [
    "print(len(nue.query('is_signal==True'))==len(nue.query(signal)))\n",
    "print(len(nue.query('is_signal==False'))==len(nue.query(not_signal)))\n",
    "\n",
    "print(len(nue.query('is_signal==False')))\n",
    "print(len(nue.query(not_signal)))"
   ]
  },
  {
   "cell_type": "code",
   "execution_count": 26,
   "id": "f143b298",
   "metadata": {},
   "outputs": [],
   "source": [
    "\n",
    "\n",
    "# clean bad weights & values \n",
    "\n",
    "for i,df in enumerate(mc_df):\n",
    "     \n",
    "    df.loc[ df['weightSplineTimesTune'] <= 0, 'weightSplineTimesTune' ] = 1.\n",
    "    df.loc[ df['weightSplineTimesTune'] == np.inf, 'weightSplineTimesTune' ] = 1.\n",
    "    df.loc[ df['weightSplineTimesTune'] > 100, 'weightSplineTimesTune' ] = 1.\n",
    "    df.loc[ np.isnan(df['weightSplineTimesTune']) == True, 'weightSplineTimesTune' ] = 1.\n",
    "    \n",
    "    df.loc[ df['weightTune'] <= 0, 'weightTune' ] = 1.\n",
    "    df.loc[ df['weightTune'] == np.inf, 'weightTune' ] = 1.\n",
    "    df.loc[ df['weightTune'] > 100, 'weightTune' ] = 1.\n",
    "    df.loc[ np.isnan(df['weightTune']) == True, 'weightTune' ] = 1.  \n",
    "\n",
    "     \n",
    "\n"
   ]
  },
  {
   "cell_type": "code",
   "execution_count": 27,
   "id": "48fa0e8d",
   "metadata": {},
   "outputs": [
    {
     "name": "stdout",
     "output_type": "stream",
     "text": [
      "395\n"
     ]
    }
   ],
   "source": [
    "# scale down the number of events to match data POT \n",
    "\n",
    "#nue = nue[:round(len(nue)*0.0119)]   #1519\n",
    "#overlay = overlay[:round(len(overlay)*0.301)]  #67370\n",
    "\n",
    "#print(len(nue))\n",
    "\n",
    "\n",
    "\n",
    "#print(len(nue[:round(len(nue)*0.0119)]))\n",
    "#print(len(overlay[:round(len(overlay)*0.301)]))\n",
    "\n",
    "#nue = nue[round(len(nue)*0.0119):round((len(nue)*0.0119)*2) ]   #1519\n",
    "#overlay = overlay[round(len(overlay)*0.301):round((len(overlay)*0.301)*2)]  #67370\n",
    "\n",
    "print((len(nue)))"
   ]
  },
  {
   "cell_type": "code",
   "execution_count": 28,
   "id": "160b1fc4",
   "metadata": {},
   "outputs": [],
   "source": [
    "\n",
    "\n",
    "# POT normalization - scale to data \n",
    "\n",
    "if ISRUN3: \n",
    "    data_pot = 5.0E20\n",
    "else: \n",
    "    data_pot = 2.0E20\n",
    "\n",
    "if nuwro==True: \n",
    "    overlay['pot_scale'] = data_pot/6.64422e+20\n",
    "    nue['pot_scale'] = data_pot/1.68375e+22\n",
    "\n",
    "else: \n",
    "    overlay = pot_scale(overlay, 'overlay', ISRUN3)\n",
    "    nue = pot_scale(nue, 'intrinsic', ISRUN3)\n",
    "    \n",
    "    #overlay['pot_scale'] = data_pot/2.33652e+21\n",
    "    #nue['pot_scale'] = data_pot/2.37838e+22\n",
    "\n"
   ]
  },
  {
   "cell_type": "code",
   "execution_count": 29,
   "id": "2b28a624",
   "metadata": {},
   "outputs": [],
   "source": [
    "\n",
    "\n",
    "if nuwro == True: \n",
    "\n",
    "    overlay['totweight_data'] = (overlay['pot_scale']*overlay['ppfx_cv'])\n",
    "    nue['totweight_data'] = (nue['pot_scale']*nue['ppfx_cv'])\n",
    "\n",
    "else: \n",
    "    \n",
    "    overlay['totweight_data'] = overlay['pot_scale']*overlay['ppfx_cv']*overlay['weightSplineTimesTune']\n",
    "    nue['totweight_data'] = nue['pot_scale']*nue['ppfx_cv']*nue['weightSplineTimesTune']\n",
    "\n"
   ]
  },
  {
   "cell_type": "code",
   "execution_count": 30,
   "id": "e885b55e",
   "metadata": {},
   "outputs": [
    {
     "name": "stdout",
     "output_type": "stream",
     "text": [
      "# of nueCC in AV in overlay sample = 5\n",
      "# of nueCC in AV dropped in overlay = 5\n"
     ]
    }
   ],
   "source": [
    "################################\n",
    "#####ONLY RUN THIS CELL ONCE####\n",
    "################################\n",
    "\n",
    "print(\"# of nueCC in AV in overlay sample = \"+str(len(overlay.query(nueCC_query))))\n",
    "len1 = len(overlay)\n",
    "    \n",
    "idx = overlay.query(nueCC_query).index\n",
    "overlay.drop(idx, inplace=True)\n",
    "len2 = len(overlay) \n",
    "print(\"# of nueCC in AV dropped in overlay = \"+str(len1-len2))\n",
    "    \n",
    "# then add in nue_intrinsic \n",
    "overlay = pd.concat([overlay,nue], ignore_index=True)\n",
    "\n",
    "# from here on out everything else should be the same. "
   ]
  },
  {
   "cell_type": "code",
   "execution_count": 31,
   "id": "b316a536",
   "metadata": {},
   "outputs": [],
   "source": [
    "\n",
    "\n",
    "# separate by in/out FV & cosmic\n",
    "infv = overlay.query(in_fv_query)\n",
    "outfv = overlay.query(out_fv_query)\n",
    "\n",
    "infv2 = nue.query(in_fv_query)\n",
    "outfv2 = nue.query(out_fv_query)\n",
    "\n"
   ]
  },
  {
   "cell_type": "code",
   "execution_count": 32,
   "id": "1bdf5950",
   "metadata": {},
   "outputs": [
    {
     "name": "stdout",
     "output_type": "stream",
     "text": [
      "True\n"
     ]
    }
   ],
   "source": [
    "# check that everything is accounted for \n",
    "print(len(overlay)==len(infv)+len(outfv))"
   ]
  },
  {
   "cell_type": "code",
   "execution_count": 33,
   "id": "010b90fe",
   "metadata": {},
   "outputs": [
    {
     "name": "stdout",
     "output_type": "stream",
     "text": [
      "total signal events = 525.5695928190216\n",
      "total signal events = 0.0\n",
      "total signal events = 0.0\n",
      "total signal events = 0.0\n"
     ]
    }
   ],
   "source": [
    "\n",
    "\n",
    "tot_signal_weighted = np.nansum(infv.query('is_signal==True')['pot_scale'])\n",
    "print('total signal events = '+ str(tot_signal_weighted))\n",
    "\n",
    "\n",
    "tot_signal_weighted = np.nansum(outfv.query('is_signal==True')['pot_scale'])\n",
    "print('total signal events = '+ str(tot_signal_weighted))\n",
    "\n",
    "\n",
    "tot_signal_weighted = np.nansum(infv2.query('is_signal==True')['pot_scale'])\n",
    "print('total signal events = '+ str(tot_signal_weighted))\n",
    "\n",
    "\n",
    "tot_signal_weighted = np.nansum(outfv2.query('is_signal==True')['pot_scale'])\n",
    "print('total signal events = '+ str(tot_signal_weighted))\n",
    "\n"
   ]
  },
  {
   "cell_type": "code",
   "execution_count": 34,
   "id": "a78db0d6",
   "metadata": {},
   "outputs": [],
   "source": [
    "datasets = {\n",
    "    'infv' : infv, \n",
    "    'outfv' : outfv\n",
    "}"
   ]
  },
  {
   "cell_type": "code",
   "execution_count": 35,
   "id": "7166c2f5",
   "metadata": {},
   "outputs": [],
   "source": [
    "\n",
    "\n",
    "generated_events = pd.concat([datasets['outfv'], datasets['infv']])\n",
    "\n"
   ]
  },
  {
   "cell_type": "code",
   "execution_count": 36,
   "id": "a443a10c",
   "metadata": {},
   "outputs": [
    {
     "name": "stdout",
     "output_type": "stream",
     "text": [
      "total signal events = 525.5695928190216\n",
      "total signal events = 473.15817482100346\n",
      "total signal events = 473.15817482100346\n"
     ]
    }
   ],
   "source": [
    "tot_signal_weighted = np.nansum(generated_events.query('is_signal==True')['pot_scale'])\n",
    "print('total signal events = '+ str(tot_signal_weighted))\n",
    "\n",
    "tot_signal_weighted = np.nansum(generated_events.query('is_signal==True')['totweight_data'])\n",
    "print('total signal events = '+ str(tot_signal_weighted))\n",
    "\n",
    "tot_signal_weighted = np.nansum(generated_events.query(signal)['totweight_data'])\n",
    "print('total signal events = '+ str(tot_signal_weighted))"
   ]
  },
  {
   "cell_type": "code",
   "execution_count": 37,
   "id": "ed0d69c5",
   "metadata": {},
   "outputs": [
    {
     "name": "stdout",
     "output_type": "stream",
     "text": [
      "False\n"
     ]
    }
   ],
   "source": [
    "print(isTruth)\n",
    "\n",
    "if isTruth == False:\n",
    "    selected_query = \"nslice == 1 and ( (_opfilter_pe_beam > 0 \\\n",
    "    and _opfilter_pe_veto < 20) or bnbdata == 1 or extdata == 1) \\\n",
    "    and reco_nu_vtx_sce_x > 15 and reco_nu_vtx_sce_x < 245 \\\n",
    "    and reco_nu_vtx_sce_y > -105 and reco_nu_vtx_sce_y < 105 \\\n",
    "    and reco_nu_vtx_sce_z > 10 and reco_nu_vtx_sce_z < 990 \\\n",
    "    and n_muons_tot > 0 and n_protons_tot > 0 and n_showers_contained==0 \\\n",
    "    and contained_fraction> 0.95 and topological_score > 0.3\"\n",
    "\n",
    "elif isTruth == True:\n",
    "    selected_query = \"is_signal==True\""
   ]
  },
  {
   "cell_type": "code",
   "execution_count": 38,
   "id": "0a48a725",
   "metadata": {
    "scrolled": true
   },
   "outputs": [
    {
     "name": "stdout",
     "output_type": "stream",
     "text": [
      "0       0.178315\n",
      "1       0.161727\n",
      "2       0.106685\n",
      "4       0.274368\n",
      "5       0.964392\n",
      "          ...   \n",
      "2840   -0.893604\n",
      "2841   -0.972817\n",
      "2842    0.156054\n",
      "2843    0.816666\n",
      "2844   -0.538917\n",
      "Name: cosNu_Angle_Numi_Muon_Reco, Length: 2822, dtype: float64\n",
      "0       0.178315\n",
      "1       0.161727\n",
      "2       0.106685\n",
      "4       0.274368\n",
      "5       0.964392\n",
      "          ...   \n",
      "2840   -0.893604\n",
      "2841   -0.972817\n",
      "2842    0.156054\n",
      "2843    0.816666\n",
      "2844   -0.538917\n",
      "Name: cosNu_Angle_Numi_Muon_Reco, Length: 2822, dtype: float64\n",
      "0       0.156105\n",
      "1       0.134991\n",
      "2       0.100148\n",
      "4       0.276957\n",
      "5       0.948497\n",
      "          ...   \n",
      "2840    0.805345\n",
      "2841    0.805477\n",
      "2842         NaN\n",
      "2843         NaN\n",
      "2844         NaN\n",
      "Name: cosNu_Angle_Numi_Muon, Length: 2822, dtype: float64\n",
      "0       0.156105\n",
      "1       0.134991\n",
      "2       0.100148\n",
      "4       0.276957\n",
      "5       0.948497\n",
      "          ...   \n",
      "2840    0.805345\n",
      "2841    0.805477\n",
      "2842         NaN\n",
      "2843         NaN\n",
      "2844         NaN\n",
      "Name: cosNu_Angle_Numi_Muon, Length: 2822, dtype: float64\n",
      "3       0.782113\n",
      "62     -0.411189\n",
      "181     0.575659\n",
      "283     0.870567\n",
      "411     0.834002\n",
      "483     0.132871\n",
      "551     0.294196\n",
      "608     0.373125\n",
      "610     0.200474\n",
      "631    -0.913168\n",
      "734     0.973027\n",
      "961     0.864674\n",
      "1063    0.814070\n",
      "1556    0.142870\n",
      "1680    0.565916\n",
      "1946    0.806418\n",
      "2004   -0.974099\n",
      "2307    0.710446\n",
      "2330    0.663047\n",
      "2423    0.027725\n",
      "2465    0.212031\n",
      "2557    0.943917\n",
      "2811    0.825687\n",
      "Name: cosNu_Angle_Numi_Muon_Reco, dtype: float64\n",
      "3       0.782113\n",
      "62     -0.411189\n",
      "181     0.575659\n",
      "283     0.870567\n",
      "411     0.834002\n",
      "483     0.132871\n",
      "551     0.294196\n",
      "608     0.373125\n",
      "610     0.200474\n",
      "631    -0.913168\n",
      "734     0.973027\n",
      "961     0.864674\n",
      "1063    0.814070\n",
      "1556    0.142870\n",
      "1680    0.565916\n",
      "1946    0.806418\n",
      "2004   -0.974099\n",
      "2307    0.710446\n",
      "2330    0.663047\n",
      "2423    0.027725\n",
      "2465    0.212031\n",
      "2557    0.943917\n",
      "2811    0.825687\n",
      "Name: cosNu_Angle_Numi_Muon_Reco, dtype: float64\n",
      "3      -0.602100\n",
      "62      0.778523\n",
      "181          NaN\n",
      "283     0.741126\n",
      "411     0.954181\n",
      "483     0.904537\n",
      "551     0.807561\n",
      "608     0.629069\n",
      "610     0.874733\n",
      "631     0.083306\n",
      "734     0.118181\n",
      "961     0.804281\n",
      "1063    0.340134\n",
      "1556    0.805952\n",
      "1680         NaN\n",
      "1946    0.807051\n",
      "2004         NaN\n",
      "2307    0.372935\n",
      "2330    0.804081\n",
      "2423         NaN\n",
      "2465         NaN\n",
      "2557         NaN\n",
      "2811    0.805302\n",
      "Name: cosNu_Angle_Numi_Muon, dtype: float64\n",
      "3      -0.602100\n",
      "62      0.778523\n",
      "181          NaN\n",
      "283     0.741126\n",
      "411     0.954181\n",
      "483     0.904537\n",
      "551     0.807561\n",
      "608     0.629069\n",
      "610     0.874733\n",
      "631     0.083306\n",
      "734     0.118181\n",
      "961     0.804281\n",
      "1063    0.340134\n",
      "1556    0.805952\n",
      "1680         NaN\n",
      "1946    0.807051\n",
      "2004         NaN\n",
      "2307    0.372935\n",
      "2330    0.804081\n",
      "2423         NaN\n",
      "2465         NaN\n",
      "2557         NaN\n",
      "2811    0.805302\n",
      "Name: cosNu_Angle_Numi_Muon, dtype: float64\n",
      "nslice == 1 and ( (_opfilter_pe_beam > 0     and _opfilter_pe_veto < 20) or bnbdata == 1 or extdata == 1)     and reco_nu_vtx_sce_x > 15 and reco_nu_vtx_sce_x < 245     and reco_nu_vtx_sce_y > -105 and reco_nu_vtx_sce_y < 105     and reco_nu_vtx_sce_z > 10 and reco_nu_vtx_sce_z < 990     and n_muons_tot > 0 and n_protons_tot > 0 and n_showers_contained==0     and contained_fraction> 0.95 and topological_score > 0.3\n"
     ]
    }
   ],
   "source": [
    "#datasets_bdt = datasets\n",
    "\n",
    "datasets_bdt = {}\n",
    "\n",
    "\n",
    "for i in range(len(datasets)): \n",
    "\n",
    "        df = list(datasets.values())[i].copy()\n",
    "        \n",
    "        #ANGLE\n",
    "        tmp = df[\"cosNu_Angle_Numi_Muon_Reco\"].copy()\n",
    "        mask = (df[\"cosNu_Angle_Numi_Muon_Reco\"] > 1)\n",
    "        tmp[mask] = 0.9\n",
    "        df[\"cosNu_Angle_Numi_Muon_Reco\"] = tmp\n",
    "        print(df[\"cosNu_Angle_Numi_Muon_Reco\"])\n",
    "        #------\n",
    "        tmp = df[\"cosNu_Angle_Numi_Muon_Reco\"].copy()\n",
    "        mask = (df[\"cosNu_Angle_Numi_Muon_Reco\"] < -1)\n",
    "        tmp[mask] = -0.9\n",
    "        df[\"cosNu_Angle_Numi_Muon_Reco\"] = tmp\n",
    "        print(df[\"cosNu_Angle_Numi_Muon_Reco\"])\n",
    "\n",
    "        #\n",
    "\n",
    "        #ANGLE\n",
    "        tmp = df[\"cosNu_Angle_Numi_Muon\"].copy()\n",
    "        mask = (df[\"cosNu_Angle_Numi_Muon\"] > 1)\n",
    "        tmp[mask] = 0.9\n",
    "        df[\"cosNu_Angle_Numi_Muon\"] = tmp\n",
    "        print(df[\"cosNu_Angle_Numi_Muon\"])\n",
    "        #------\n",
    "        tmp = df[\"cosNu_Angle_Numi_Muon\"].copy()\n",
    "        mask = (df[\"cosNu_Angle_Numi_Muon\"] < -1)\n",
    "        tmp[mask] = -0.9\n",
    "        df[\"cosNu_Angle_Numi_Muon\"] = tmp\n",
    "        print(df[\"cosNu_Angle_Numi_Muon\"])\n",
    "\n",
    "        datasets_bdt[list(datasets.keys())[i]] = df.query(selected_query)\n",
    "\n",
    "print(selected_query)"
   ]
  },
  {
   "cell_type": "code",
   "execution_count": 39,
   "id": "0df0fcd2",
   "metadata": {},
   "outputs": [],
   "source": [
    "xvar = 'cosNu_Angle_Numi_Muon_Reco'\n",
    "true_var = 'cosNu_Angle_Numi_Muon'\n",
    "bins = np.arange(-1.0, 1.2, 0.2)\n",
    "\n",
    "xlow = bins[0]\n",
    "xhigh = bins[-1]\n",
    "\n",
    "x_label = \"Lepton Angle\"\n",
    "x_ticks = np.arange(-1.0, 1.2, 0.2)"
   ]
  },
  {
   "cell_type": "code",
   "execution_count": 40,
   "id": "1e31831e",
   "metadata": {},
   "outputs": [],
   "source": [
    "\n",
    "\n",
    "if xvar=='tksh_angle': \n",
    "    bincenters = 0.5*(np.array(x_ticks)[1:]+np.array(x_ticks)[:-1])\n",
    "\n",
    "else: \n",
    "    #bincenters = 0.5*(np.array(x_ticks+[xhigh])[1:]+np.array(x_ticks+[xhigh])[:-1])\n",
    "    bincenters = np.arange(-0.9, 1.1, 0.2)\n",
    "\n"
   ]
  },
  {
   "cell_type": "code",
   "execution_count": 41,
   "id": "7a7745f1",
   "metadata": {},
   "outputs": [],
   "source": [
    "labels = { \n",
    "    'signal' : ['$\\\\nu_e$ CC0$\\pi$Np', 'orange'], \n",
    "    'nue_CC_Npi0' : ['$\\\\nu_\\mu$ CC $\\pi^{0}$', 'brown'],\n",
    "    'nue_NC_Npi0' : ['$\\\\nu_\\mu$ NC $\\pi^{0}$', 'orangered'],\n",
    "    'nue_NC_0pi0' : ['$\\\\nu_\\mu$ NC', '#33FCFF'],\n",
    "    'nue_CC_0pi0' : ['$\\\\nu_\\mu$ CC', '#437ED8'],\n",
    "    'numu_CCother': ['$\\\\nu_e$ CC other', '#05B415'], \n",
    "    'numu_NC': ['$\\\\nu_e$ NC', '#B8FF33'], \n",
    "    'outfv' : ['Out FV', 'orchid'], \n",
    "    'ext' : ['EXT', 'lightpink'],\n",
    "    'numu_other' : ['$\\\\nu_e$ / $\\\\overline{\\\\nu_e}$  other', '#33db09'], \n",
    "    'nue_Npi0' : ['$\\\\nu_\\\\mu$ / $\\\\overline{\\\\nu_\\\\mu}$  $\\pi^{0}$', '#EE1B1B'], \n",
    "    'nue_0pi0' : ['$\\\\nu_\\\\mu$ / $\\\\overline{\\\\nu_\\\\mu}$  other', '#437ED8'],\n",
    "    'numubar_1eNp' : ['$\\\\bar{\\\\nu}_e$ CC0$\\pi$Np', 'gold']\n",
    "}"
   ]
  },
  {
   "cell_type": "code",
   "execution_count": 42,
   "id": "fbbac96c",
   "metadata": {},
   "outputs": [],
   "source": [
    "leg = {\n",
    "        'outfv' : labels['outfv'][0]+': ' + str( round(sum(datasets_bdt['outfv'].totweight_data), 1)) , \n",
    "        'nue_NC_Npi0' : labels['nue_NC_Npi0'][0]+': '+ str( round(sum(datasets_bdt['infv'].query(nue_NC_Npi0).totweight_data), 1)), \n",
    "        'nue_CC_Npi0' : labels['nue_CC_Npi0'][0]+': '+str( round(sum(datasets_bdt['infv'].query(nue_CC_Npi0).totweight_data), 1)), \n",
    "        'nue_NC_0pi0' : labels['nue_NC_0pi0'][0]+': '+str( round(sum(datasets_bdt['infv'].query(nue_NC_0pi0).totweight_data), 1)), \n",
    "        'nue_CC_0pi0' : labels['nue_CC_0pi0'][0]+': '+str( round(sum(datasets_bdt['infv'].query(nue_CC_0pi0).totweight_data), 1)), \n",
    "        'numu_NC' : labels['numu_NC'][0]+': '+str( round(sum(datasets_bdt['infv'].query(numu_NC).totweight_data), 1)), \n",
    "        'numu_CCother' : labels['numu_CCother'][0]+': '+str( round(sum(datasets_bdt['infv'].query(numu_CCother).totweight_data), 1)),\n",
    "        'numubar_1eNp' : labels['numubar_1eNp'][0]+': '+str( round(sum(datasets_bdt['infv'].query(numubar_1eNp).totweight_data), 1)), \n",
    "        'signal' : labels['signal'][0]+': '+str( round(sum(datasets_bdt['infv'].query(signal).totweight_data), 1))\n",
    "    }\n"
   ]
  },
  {
   "cell_type": "code",
   "execution_count": 43,
   "id": "ff8b6b11",
   "metadata": {},
   "outputs": [
    {
     "name": "stderr",
     "output_type": "stream",
     "text": [
      "/home/alex/miniconda3/envs/vintageXgboostVintageUprootEnv/lib/python3.8/site-packages/numpy/core/fromnumeric.py:3245: VisibleDeprecationWarning: Creating an ndarray from ragged nested sequences (which is a list-or-tuple of lists-or-tuples-or ndarrays with different lengths or shapes) is deprecated. If you meant to do this, you must specify 'dtype=object' when creating the ndarray.\n",
      "  return asarray(a).size\n",
      "/home/alex/miniconda3/envs/vintageXgboostVintageUprootEnv/lib/python3.8/site-packages/matplotlib/cbook/__init__.py:1449: VisibleDeprecationWarning: Creating an ndarray from ragged nested sequences (which is a list-or-tuple of lists-or-tuples-or ndarrays with different lengths or shapes) is deprecated. If you meant to do this, you must specify 'dtype=object' when creating the ndarray.\n",
      "  X = np.atleast_1d(X.T if isinstance(X, np.ndarray) else np.asarray(X))\n"
     ]
    },
    {
     "name": "stdout",
     "output_type": "stream",
     "text": [
      "[ 16.81038722  17.00270587  20.70223589  21.23257356  28.24756849\n",
      "  40.32534936  51.77037053  87.65501276 130.07396902 255.940054  ]\n",
      "669.7602266903842\n"
     ]
    },
    {
     "data": {
      "image/png": "[encoded data removed]",
      "text/plain": [
       "<Figure size 576x360 with 1 Axes>"
      ]
     },
     "metadata": {
      "needs_background": "light"
     },
     "output_type": "display_data"
    }
   ],
   "source": [
    "fig = plt.figure(figsize=(8, 5))\n",
    "\n",
    "n, b, p = plt.hist([datasets_bdt['outfv'][xvar], \n",
    "                       datasets_bdt['infv'].query(nue_NC_Npi0)[xvar],\n",
    "                       datasets_bdt['infv'].query(nue_CC_Npi0)[xvar],\n",
    "                       datasets_bdt['infv'].query(nue_NC_0pi0)[xvar],\n",
    "                       datasets_bdt['infv'].query(nue_CC_0pi0)[xvar],\n",
    "                       datasets_bdt['infv'].query(numu_NC)[xvar],\n",
    "                       datasets_bdt['infv'].query(numu_CCother)[xvar],\n",
    "                       datasets_bdt['infv'].query(numubar_1eNp)[xvar], \n",
    "                       datasets_bdt['infv'].query(signal)[xvar]],\n",
    "            bins, histtype='bar', range=[xlow, xhigh], stacked=True, \n",
    "            color=[labels['outfv'][1], \n",
    "                       labels['nue_NC_Npi0'][1], \n",
    "                       labels['nue_CC_Npi0'][1], \n",
    "                       labels['nue_NC_0pi0'][1], \n",
    "                       labels['nue_CC_0pi0'][1], \n",
    "                       labels['numu_NC'][1], \n",
    "                       labels['numu_CCother'][1],\n",
    "                       labels['numubar_1eNp'][1], \n",
    "                       labels['signal'][1]], \n",
    "            label=[leg['outfv'], \n",
    "                   leg['nue_NC_Npi0'], \n",
    "                   leg['nue_CC_Npi0'], \n",
    "                   leg['nue_NC_0pi0'], \n",
    "                   leg['nue_CC_0pi0'], \n",
    "                   leg['numu_NC'], \n",
    "                   leg['numu_CCother'], \n",
    "                   leg['numubar_1eNp'], \n",
    "                   leg['signal']\n",
    "                  ],\n",
    "            weights=[datasets_bdt['outfv'].totweight_data, \n",
    "                     datasets_bdt['infv'].query(nue_NC_Npi0).totweight_data, \n",
    "                     datasets_bdt['infv'].query(nue_CC_Npi0).totweight_data,\n",
    "                     datasets_bdt['infv'].query(nue_NC_0pi0).totweight_data,\n",
    "                     datasets_bdt['infv'].query(nue_CC_0pi0).totweight_data,\n",
    "                     datasets_bdt['infv'].query(numu_NC).totweight_data,\n",
    "                     datasets_bdt['infv'].query(numu_CCother).totweight_data,\n",
    "                     datasets_bdt['infv'].query(numubar_1eNp).totweight_data,\n",
    "                     datasets_bdt['infv'].query(signal).totweight_data \n",
    "                     ])\n",
    "\n",
    "#This is not how to jump to get one value! You want to sum the columns not the rows!\n",
    "print(n[-1])\n",
    "print(sum(n[-1]))\n",
    "#print(sum(sum(n)))\n",
    "\n",
    "#print(len(datasets_bdt['infv'].query(signal)[xvar]))\n",
    "#print(len(datasets_bdt['infv'].query(signal).totweight_data))\n",
    "\n",
    "#if useWeights == False:\n",
    "#    nuWro_stat_err_numu = n[-1]\n",
    "\n",
    "\n",
    "# simulation outline \n",
    "tot = list([0, n[-1][0]])+list(n[-1])+[0]\n",
    "b_step = list([b[0]])+list(b)+list([b[-1]])\n",
    "plt.step(b_step, tot, color='saddlebrown', linewidth=2)\n",
    "\n",
    "# plot format stuff\n",
    "plt.legend(loc='best', prop={\"size\":10}, ncol=3, frameon=False)\n",
    "\n",
    "\n",
    "    \n",
    "plt.xlabel(\"Reconstructed \"+x_label, fontsize=15)\n",
    "\n",
    "#plt.xticks(x_ticks, fontsize=14)\n",
    "\n",
    "plt.xticks(fontsize=14)\n",
    "plt.yticks(fontsize=14)\n",
    "\n",
    "plt.xlim(xlow, xhigh)\n",
    "#plt.ylim(0, 30)\n",
    "\n",
    "if not ISRUN3: \n",
    "    plt.title(\"FHC Run 1 - MC Only\", fontsize=16)\n",
    "    plt.ylabel('$\\\\nu$ / $2\\\\times10^{20}$ POT', fontsize=15)\n",
    "else: \n",
    "    plt.title(\"RHC Run 3 - MC Only\", fontsize=16)\n",
    "    plt.ylabel('$\\\\nu$ / $5\\\\times10^{20}$ POT', fontsize=15)\n",
    "\n",
    "##plt.savefig(\"/uboone/data/users/kmiller/uBNuMI_CCNp/plots/fhc/fakedata/nuwro_evt_rate_\"+xvar+\".pdf\", \n",
    "#            transparent=True, bbox_inches='tight')\n",
    "\n",
    "plt.show()\n",
    "          "
   ]
  },
  {
   "cell_type": "code",
   "execution_count": 41,
   "id": "fc7307d4",
   "metadata": {},
   "outputs": [
    {
     "name": "stderr",
     "output_type": "stream",
     "text": [
      "/home/alex/miniconda3/envs/vintageXgboostVintageUprootEnv/lib/python3.8/site-packages/numpy/core/fromnumeric.py:3245: VisibleDeprecationWarning: Creating an ndarray from ragged nested sequences (which is a list-or-tuple of lists-or-tuples-or ndarrays with different lengths or shapes) is deprecated. If you meant to do this, you must specify 'dtype=object' when creating the ndarray.\n",
      "  return asarray(a).size\n",
      "/home/alex/miniconda3/envs/vintageXgboostVintageUprootEnv/lib/python3.8/site-packages/matplotlib/cbook/__init__.py:1449: VisibleDeprecationWarning: Creating an ndarray from ragged nested sequences (which is a list-or-tuple of lists-or-tuples-or ndarrays with different lengths or shapes) is deprecated. If you meant to do this, you must specify 'dtype=object' when creating the ndarray.\n",
      "  X = np.atleast_1d(X.T if isinstance(X, np.ndarray) else np.asarray(X))\n"
     ]
    },
    {
     "name": "stdout",
     "output_type": "stream",
     "text": [
      "[array([0., 0., 0., 0., 0., 0., 0., 0., 0., 0.]), array([0., 0., 0., 0., 0., 0., 0., 0., 0., 0.]), array([0., 0., 0., 0., 0., 0., 0., 0., 0., 0.]), array([0., 0., 0., 0., 0., 0., 0., 0., 0., 0.]), array([0., 0., 0., 0., 0., 0., 0., 0., 0., 0.]), array([0., 0., 0., 0., 0., 0., 0., 0., 0., 0.]), array([0., 0., 0., 0., 0., 0., 0., 0., 0., 0.]), array([0., 0., 0., 0., 0., 0., 0., 0., 0., 0.]), array([ 224.6305589 ,  247.73406233,  287.83613845,  332.36727161,\n",
      "        419.89611366,  472.06842169,  606.3464843 ,  843.02289316,\n",
      "       1339.04765564, 3275.12028823])]\n"
     ]
    },
    {
     "data": {
      "image/png": "[encoded data removed]",
      "text/plain": [
       "<Figure size 576x360 with 1 Axes>"
      ]
     },
     "metadata": {
      "needs_background": "light"
     },
     "output_type": "display_data"
    }
   ],
   "source": [
    "#TRUE BINS\n",
    "\n",
    "fig = plt.figure(figsize=(8, 5))\n",
    "\n",
    "n, b, p = plt.hist([datasets_bdt['outfv'][true_var], \n",
    "                       datasets_bdt['infv'].query(nue_NC_Npi0)[true_var],\n",
    "                       datasets_bdt['infv'].query(nue_CC_Npi0)[true_var],\n",
    "                       datasets_bdt['infv'].query(nue_NC_0pi0)[true_var],\n",
    "                       datasets_bdt['infv'].query(nue_CC_0pi0)[true_var],\n",
    "                       datasets_bdt['infv'].query(numu_NC)[true_var],\n",
    "                       datasets_bdt['infv'].query(numu_CCother)[true_var],\n",
    "                       datasets_bdt['infv'].query(numubar_1eNp)[true_var], \n",
    "                       datasets_bdt['infv'].query(signal)[true_var]],\n",
    "            bins, histtype='bar', range=[xlow, xhigh], stacked=True, \n",
    "            color=[labels['outfv'][1], \n",
    "                       labels['nue_NC_Npi0'][1], \n",
    "                       labels['nue_CC_Npi0'][1], \n",
    "                       labels['nue_NC_0pi0'][1], \n",
    "                       labels['nue_CC_0pi0'][1], \n",
    "                       labels['numu_NC'][1], \n",
    "                       labels['numu_CCother'][1],\n",
    "                       labels['numubar_1eNp'][1], \n",
    "                       labels['signal'][1]], \n",
    "            label=[leg['outfv'], \n",
    "                   leg['nue_NC_Npi0'], \n",
    "                   leg['nue_CC_Npi0'], \n",
    "                   leg['nue_NC_0pi0'], \n",
    "                   leg['nue_CC_0pi0'], \n",
    "                   leg['numu_NC'], \n",
    "                   leg['numu_CCother'], \n",
    "                   leg['numubar_1eNp'], \n",
    "                   leg['signal']\n",
    "                  ],\n",
    "            weights=[datasets_bdt['outfv'].totweight_data, \n",
    "                     datasets_bdt['infv'].query(nue_NC_Npi0).totweight_data, \n",
    "                     datasets_bdt['infv'].query(nue_CC_Npi0).totweight_data,\n",
    "                     datasets_bdt['infv'].query(nue_NC_0pi0).totweight_data,\n",
    "                     datasets_bdt['infv'].query(nue_CC_0pi0).totweight_data,\n",
    "                     datasets_bdt['infv'].query(numu_NC).totweight_data,\n",
    "                     datasets_bdt['infv'].query(numu_CCother).totweight_data,\n",
    "                     datasets_bdt['infv'].query(numubar_1eNp).totweight_data,\n",
    "                     datasets_bdt['infv'].query(signal).totweight_data \n",
    "                     ])\n",
    "\n",
    "print(n)\n",
    "#print(sum(n))\n",
    "#print(sum(n[-1]))\n",
    "#print(sum(sum(n)))\n",
    "\n",
    "#inTruth = True\n",
    "\n",
    "#if useWeights == False and inTruth == True:\n",
    "#    nuWro_stat_err_numu_inTruth = sum(n)\n",
    "\n",
    "\n",
    "# simulation outline \n",
    "tot = list([0, n[-1][0]])+list(n[-1])+[0]\n",
    "b_step = list([b[0]])+list(b)+list([b[-1]])\n",
    "plt.step(b_step, tot, color='saddlebrown', linewidth=2)\n",
    "\n",
    "# plot format stuff\n",
    "plt.legend(loc='best', prop={\"size\":10}, ncol=3, frameon=False)\n",
    "\n",
    "\n",
    "    \n",
    "plt.xlabel(\"True \"+x_label, fontsize=15)\n",
    "\n",
    "#plt.xticks(x_ticks, fontsize=14)\n",
    "\n",
    "plt.xticks(fontsize=14)\n",
    "plt.yticks(fontsize=14)\n",
    "\n",
    "plt.xlim(xlow, xhigh)\n",
    "#plt.ylim(0, 30)\n",
    "\n",
    "if not ISRUN3: \n",
    "    plt.title(\"FHC Run 1 - MC Only\", fontsize=16)\n",
    "    plt.ylabel('$\\\\nu$ / $2\\\\times10^{20}$ POT', fontsize=15)\n",
    "else: \n",
    "    plt.title(\"RHC Run 3 - MC Only\", fontsize=16)\n",
    "    plt.ylabel('$\\\\nu$ / $5\\\\times10^{20}$ POT', fontsize=15)\n",
    "\n",
    "##plt.savefig(\"/uboone/data/users/kmiller/uBNuMI_CCNp/plots/fhc/fakedata/nuwro_evt_rate_\"+xvar+\".pdf\", \n",
    "#            transparent=True, bbox_inches='tight')\n",
    "\n",
    "plt.show()"
   ]
  },
  {
   "cell_type": "code",
   "execution_count": 44,
   "id": "e9178805",
   "metadata": {},
   "outputs": [],
   "source": [
    "ending = \"Jan19\"\n",
    "\n",
    "#if inTruth == True:\n",
    "#    print(nuWro_stat_err_numu_inTruth)\n",
    "\n",
    "#    np.savetxt(\"numu_nuWro_stat_err_inTruth_\"+ending+\".csv\", \n",
    "#               nuWro_stat_err_numu_inTruth,\n",
    "#               delimiter =\", \", \n",
    "#               fmt ='% s')"
   ]
  },
  {
   "cell_type": "code",
   "execution_count": 44,
   "id": "c0ddd81f",
   "metadata": {},
   "outputs": [
    {
     "data": {
      "text/plain": [
       "True"
      ]
     },
     "execution_count": 44,
     "metadata": {},
     "output_type": "execute_result"
    }
   ],
   "source": [
    "nuwro"
   ]
  },
  {
   "cell_type": "code",
   "execution_count": 45,
   "id": "68996980",
   "metadata": {},
   "outputs": [
    {
     "name": "stdout",
     "output_type": "stream",
     "text": [
      "total signal events = 473.15817482100346\n",
      "total signal events = 669.7602266903923\n"
     ]
    }
   ],
   "source": [
    "selected_events = pd.concat([datasets_bdt['outfv'], datasets_bdt['infv']])\n",
    "#print(selected_events)\n",
    "\n",
    "tot_signal_weighted = np.nansum(selected_events.query('is_signal==True')['totweight_data'])\n",
    "print('total signal events = '+ str(tot_signal_weighted))\n",
    "\n",
    "tot_signal_weighted = np.nansum(selected_events['totweight_data'])\n",
    "print('total signal events = '+ str(tot_signal_weighted))"
   ]
  },
  {
   "cell_type": "code",
   "execution_count": 46,
   "id": "e6d3ade9",
   "metadata": {},
   "outputs": [
    {
     "name": "stdout",
     "output_type": "stream",
     "text": [
      "669.7602266903854\n"
     ]
    },
    {
     "data": {
      "image/png": "[encoded data removed]",
      "text/plain": [
       "<Figure size 576x360 with 1 Axes>"
      ]
     },
     "metadata": {
      "needs_background": "light"
     },
     "output_type": "display_data"
    }
   ],
   "source": [
    "\n",
    "\n",
    "#RECO VAR\n",
    "\n",
    "# ppfx correction effect \n",
    "fig = plt.figure(figsize=(8, 5))\n",
    "\n",
    "plt.hist(selected_events[xvar], bins, range=[xlow, xhigh],\n",
    "            weights=selected_events.pot_scale, linestyle=\":\", linewidth=2, histtype='step', \n",
    "                  label='Unweighted')\n",
    "\n",
    "test = plt.hist(selected_events[xvar], bins, range=[xlow, xhigh],\n",
    "            weights=selected_events.totweight_data, linestyle=\":\", linewidth=2, histtype='step', \n",
    "                  label='PPFX-corrected')\n",
    "\n",
    "print(sum(test[0]))\n",
    "\n",
    "# plot format stuff\n",
    "plt.legend(loc='best', prop={\"size\":14}, ncol=1, frameon=False)\n",
    "\n",
    "plt.ylabel('$\\\\nu$ / $2\\\\times10^{20}$ POT', fontsize=15)\n",
    "    \n",
    "plt.xlabel(\"Reco \"+x_label, fontsize=15)\n",
    "plt.xticks(x_ticks, fontsize=14)\n",
    "\n",
    "plt.yticks(fontsize=14)\n",
    "\n",
    "plt.xlim(xlow, xhigh)\n",
    "plt.title(\"Selected Event Rate\", fontsize=16)\n",
    "\n",
    "plt.show()\n",
    "\n"
   ]
  },
  {
   "cell_type": "code",
   "execution_count": 45,
   "id": "a49db479",
   "metadata": {},
   "outputs": [
    {
     "name": "stdout",
     "output_type": "stream",
     "text": [
      "[ 224.6305589   247.73406233  287.83613845  332.36727161  419.89611366\n",
      "  472.06842169  606.3464843   843.02289316 1339.04765564 3275.12028823]\n",
      "8048.069887976835\n"
     ]
    },
    {
     "data": {
      "image/png": "[encoded data removed]",
      "text/plain": [
       "<Figure size 576x360 with 1 Axes>"
      ]
     },
     "metadata": {
      "needs_background": "light"
     },
     "output_type": "display_data"
    }
   ],
   "source": [
    "#TRUE VAR\n",
    "\n",
    "\n",
    "# ppfx correction effect \n",
    "fig = plt.figure(figsize=(8, 5))\n",
    "\n",
    "plt.hist(selected_events.query('is_signal==True')[true_var], bins, range=[xlow, xhigh],\n",
    "            weights=selected_events.query('is_signal==True').pot_scale, linestyle=\":\", linewidth=2, histtype='step', \n",
    "                  label='Unweighted')\n",
    "\n",
    "true_nuWro = plt.hist(selected_events.query('is_signal==True')[true_var], bins, range=[xlow, xhigh],\n",
    "            weights=selected_events.query('is_signal==True').totweight_data, linestyle=\":\", linewidth=2, histtype='step', \n",
    "                  label='PPFX-corrected')\n",
    "\n",
    "print(true_nuWro[0])\n",
    "print(sum(true_nuWro[0]))\n",
    "\n",
    "\n",
    "# plot format stuff\n",
    "plt.legend(loc='best', prop={\"size\":14}, ncol=1, frameon=False)\n",
    "\n",
    "plt.ylabel('$\\\\nu$ / $2\\\\times10^{20}$ POT', fontsize=15)\n",
    "    \n",
    "plt.xlabel(\"True \"+x_label, fontsize=15)\n",
    "plt.xticks(x_ticks, fontsize=14)\n",
    "\n",
    "plt.yticks(fontsize=14)\n",
    "\n",
    "plt.xlim(xlow, xhigh)\n",
    "plt.title(\"Selected Signal Event Rate\", fontsize=16)\n",
    "\n",
    "plt.show()\n"
   ]
  },
  {
   "cell_type": "code",
   "execution_count": 47,
   "id": "5649e4ab",
   "metadata": {},
   "outputs": [
    {
     "ename": "NameError",
     "evalue": "name 'true_nuWro' is not defined",
     "output_type": "error",
     "traceback": [
      "\u001b[0;31m---------------------------------------------------------------------------\u001b[0m",
      "\u001b[0;31mNameError\u001b[0m                                 Traceback (most recent call last)",
      "\u001b[0;32m/tmp/ipykernel_5041/90133742.py\u001b[0m in \u001b[0;36m<module>\u001b[0;34m\u001b[0m\n\u001b[0;32m----> 1\u001b[0;31m \u001b[0mprint\u001b[0m\u001b[0;34m(\u001b[0m\u001b[0;34m\"True nuWro for comparison: \"\u001b[0m\u001b[0;34m,\u001b[0m \u001b[0mtrue_nuWro\u001b[0m\u001b[0;34m[\u001b[0m\u001b[0;36m0\u001b[0m\u001b[0;34m]\u001b[0m\u001b[0;34m)\u001b[0m\u001b[0;34m\u001b[0m\u001b[0;34m\u001b[0m\u001b[0m\n\u001b[0m",
      "\u001b[0;31mNameError\u001b[0m: name 'true_nuWro' is not defined"
     ]
    }
   ],
   "source": [
    "print(\"True nuWro for comparison: \", true_nuWro[0])"
   ]
  },
  {
   "cell_type": "code",
   "execution_count": 47,
   "id": "aeea90a6",
   "metadata": {},
   "outputs": [],
   "source": [
    "ending = \"Jan19\"\n",
    "\n",
    "if isTruth == True:\n",
    "    np.savetxt(\"numu_nuWro_prior_true_run1_angle_\"+ending+\".csv\", \n",
    "               true_nuWro[0],\n",
    "               delimiter =\", \", \n",
    "               fmt ='% s')"
   ]
  },
  {
   "cell_type": "markdown",
   "id": "6d10d099",
   "metadata": {},
   "source": [
    "GENIE bkg subtractions"
   ]
  },
  {
   "cell_type": "code",
   "execution_count": 48,
   "id": "40af2fd4",
   "metadata": {},
   "outputs": [],
   "source": [
    "ending = \"Jan19\""
   ]
  },
  {
   "cell_type": "code",
   "execution_count": 49,
   "id": "ec91de44",
   "metadata": {},
   "outputs": [
    {
     "name": "stdout",
     "output_type": "stream",
     "text": [
      "[  6.83542782   3.25586767   2.37208443   3.90221426   5.55632557\n",
      "   7.56255913  12.09014569  20.10811862  42.65903154 102.48231097]\n",
      "[ 10.76224571   8.31618905  11.56670816  17.09151497  21.30187051\n",
      "  24.42697272  38.79591105  56.15169065  88.97360636 168.48179629]\n",
      "[ 245.66559597  269.61700172  287.50397432  353.15766421  405.08893046\n",
      "  500.16097136  624.32730455  849.56460461 1388.92555392 3485.15897019]\n"
     ]
    }
   ],
   "source": [
    "\n",
    "numu_bkg_noExt = pd.read_csv(\"numu_nopions_angleDiff_usingSelection_run1_cv_numu_bkg_noExt_noDirt_\"+ending+\".csv\", header=None)\n",
    "\n",
    "print(numu_bkg_noExt.values[:, 0])\n",
    "##########################\n",
    "\n",
    "numu_evt_rate = pd.read_csv(\"numu_nopions_angleDiff_usingSelection_run1_cv_numu_evt_rate_\"+ending+\".csv\", header=None)\n",
    "\n",
    "numu_evt_rate = numu_evt_rate.values[:, 0]\n",
    "print(numu_evt_rate)\n",
    "\n",
    "#########################\n",
    "\n",
    "numu_full_evt_rate = pd.read_csv(\"numu_full_500_catsel_nopions_angleDiff_usingSelection_prior_true_signal_recoCut_run1_\"+ending+\".csv\", header=None)\n",
    "\n",
    "numu_full_evt_rate = numu_full_evt_rate.values[:, 0]\n",
    "print(numu_full_evt_rate)"
   ]
  },
  {
   "cell_type": "code",
   "execution_count": 50,
   "id": "3d5e7738",
   "metadata": {},
   "outputs": [
    {
     "name": "stdout",
     "output_type": "stream",
     "text": [
      "[ 16.81038722  17.00270587  20.70223589  21.23257356  28.24756849\n",
      "  40.32534936  51.77037053  87.65501276 130.07396902 255.940054  ]\n"
     ]
    },
    {
     "data": {
      "image/png": "[encoded data removed]",
      "text/plain": [
       "<Figure size 432x288 with 1 Axes>"
      ]
     },
     "metadata": {
      "needs_background": "light"
     },
     "output_type": "display_data"
    }
   ],
   "source": [
    "\n",
    "\n",
    "n, b, p = plt.hist(selected_events[xvar], bins, range=[xlow, xhigh],\n",
    "            weights=selected_events.totweight_data)\n",
    "#plt.close()\n",
    "\n",
    "print(n)"
   ]
  },
  {
   "cell_type": "code",
   "execution_count": 51,
   "id": "7f83a210",
   "metadata": {},
   "outputs": [
    {
     "data": {
      "text/plain": [
       "10"
      ]
     },
     "execution_count": 51,
     "metadata": {},
     "output_type": "execute_result"
    }
   ],
   "source": [
    "len(n)"
   ]
  },
  {
   "cell_type": "code",
   "execution_count": 52,
   "id": "ebe2a010",
   "metadata": {},
   "outputs": [
    {
     "data": {
      "text/plain": [
       "array([-0.9, -0.7, -0.5, -0.3, -0.1,  0.1,  0.3,  0.5,  0.7,  0.9])"
      ]
     },
     "execution_count": 52,
     "metadata": {},
     "output_type": "execute_result"
    }
   ],
   "source": [
    "bincenters"
   ]
  },
  {
   "cell_type": "code",
   "execution_count": 53,
   "id": "142635bd",
   "metadata": {},
   "outputs": [
    {
     "data": {
      "text/plain": [
       "[0.1, 0.1, 0.1, 0.1, 0.1, 0.1, 0.1, 0.1, 0.1, 0.1]"
      ]
     },
     "execution_count": 53,
     "metadata": {},
     "output_type": "execute_result"
    }
   ],
   "source": [
    "\n",
    "\n",
    "binwidth = []\n",
    "\n",
    "for x in range(len(bincenters)):\n",
    "    \n",
    "    if xvar=='tksh_angle': \n",
    "        binwidth.append(round(abs((x_ticks)[x+1]-(x_ticks)[x])/2, 2))\n",
    "        \n",
    "    else: \n",
    "        binwidth.append(round(abs((x_ticks+[xhigh])[x+1]-(x_ticks+[xhigh])[x])/2, 2))\n",
    "    \n",
    "binwidth\n",
    "\n"
   ]
  },
  {
   "cell_type": "code",
   "execution_count": 54,
   "id": "457fd681",
   "metadata": {},
   "outputs": [],
   "source": [
    "## do not include EXT background subtraction! MC only \n",
    "#cv_bkgd_mc = [a-b for a,b in zip(fhc_dict['cv_bkgd'], fhc_dict['cv_ext'])]\n",
    "#I already do not in what has been loaded in\n",
    "\n",
    "cv_bkgd_mc = numu_bkg_noExt.values[:, 0]"
   ]
  },
  {
   "cell_type": "code",
   "execution_count": 55,
   "id": "6b4ab1b9",
   "metadata": {},
   "outputs": [
    {
     "data": {
      "text/plain": [
       "array([  6.83542782,   3.25586767,   2.37208443,   3.90221426,\n",
       "         5.55632557,   7.56255913,  12.09014569,  20.10811862,\n",
       "        42.65903154, 102.48231097])"
      ]
     },
     "execution_count": 55,
     "metadata": {},
     "output_type": "execute_result"
    }
   ],
   "source": [
    "cv_bkgd_mc"
   ]
  },
  {
   "cell_type": "code",
   "execution_count": 56,
   "id": "a95eae4a",
   "metadata": {},
   "outputs": [],
   "source": [
    "#ALLSEL NUWRO\n",
    "\n",
    "# background subtracted event rate - EXT was never added so never subtracted\n",
    "#(still need to take into acct its uncertainty)\n",
    "nuwro_evt_rate = [a-b for a,b in zip(n,cv_bkgd_mc)]\n"
   ]
  },
  {
   "cell_type": "code",
   "execution_count": 57,
   "id": "84be1492",
   "metadata": {},
   "outputs": [
    {
     "data": {
      "text/plain": [
       "10"
      ]
     },
     "execution_count": 57,
     "metadata": {},
     "output_type": "execute_result"
    }
   ],
   "source": [
    "len(nuwro_evt_rate)"
   ]
  },
  {
   "cell_type": "code",
   "execution_count": 58,
   "id": "aaaea96c",
   "metadata": {},
   "outputs": [
    {
     "data": {
      "image/png": "[encoded data removed]",
      "text/plain": [
       "<Figure size 576x360 with 1 Axes>"
      ]
     },
     "metadata": {
      "needs_background": "light"
     },
     "output_type": "display_data"
    }
   ],
   "source": [
    "fig = plt.figure(figsize=(8, 5))\n",
    "\n",
    "plt.hist(selected_events[xvar],\n",
    "            bins, histtype='step', range=[xlow, xhigh],\n",
    "            weights=selected_events.totweight_data, linestyle=\":\", linewidth=2, \n",
    "                  label='Full')\n",
    "\n",
    "plt.hist(bincenters, bins, histtype='step', range=[xlow,xhigh], \n",
    "        weights=nuwro_evt_rate, linestyle=\":\", linewidth=2, \n",
    "                  label='GENIE v3 background-subtracted')\n",
    "\n",
    "# plot format stuff\n",
    "plt.legend(loc='best', prop={\"size\":14}, ncol=1, frameon=False)\n",
    "\n",
    "plt.ylabel('$\\\\nu$ / $2\\\\times10^{20}$ POT', fontsize=15)\n",
    "    \n",
    "plt.xlabel(\"Reco \"+x_label, fontsize=15)\n",
    "plt.xticks(x_ticks, fontsize=14)\n",
    "\n",
    "plt.yticks(fontsize=14)\n",
    "#plt.ylim(0, 7)\n",
    "\n",
    "plt.xlim(xlow, xhigh)\n",
    "plt.title(\"FHC NuWro Selected Evt Rate (MC Only)\", fontsize=16)\n",
    "\n",
    "plt.show()\n"
   ]
  },
  {
   "cell_type": "code",
   "execution_count": 59,
   "id": "e890a10e",
   "metadata": {},
   "outputs": [
    {
     "data": {
      "text/plain": [
       "(array([ 16.81038722,  17.00270587,  20.70223589,  21.23257356,\n",
       "         28.24756849,  40.32534936,  51.77037053,  87.65501276,\n",
       "        130.07396902, 255.940054  ]),\n",
       " array([-1.00000000e+00, -8.00000000e-01, -6.00000000e-01, -4.00000000e-01,\n",
       "        -2.00000000e-01, -2.22044605e-16,  2.00000000e-01,  4.00000000e-01,\n",
       "         6.00000000e-01,  8.00000000e-01,  1.00000000e+00]),\n",
       " <a list of 1 Patch objects>)"
      ]
     },
     "execution_count": 59,
     "metadata": {},
     "output_type": "execute_result"
    },
    {
     "data": {
      "image/png": "[encoded data removed]",
      "text/plain": [
       "<Figure size 432x288 with 1 Axes>"
      ]
     },
     "metadata": {
      "needs_background": "light"
     },
     "output_type": "display_data"
    }
   ],
   "source": [
    "plt.hist(selected_events[xvar],\n",
    "            bins, histtype='step', range=[xlow, xhigh],\n",
    "            weights=selected_events.totweight_data, linestyle=\":\", linewidth=2, \n",
    "                  label='Full')"
   ]
  },
  {
   "cell_type": "code",
   "execution_count": 60,
   "id": "18c143a9",
   "metadata": {},
   "outputs": [
    {
     "data": {
      "text/plain": [
       "462.93614099486734"
      ]
     },
     "execution_count": 60,
     "metadata": {},
     "output_type": "execute_result"
    }
   ],
   "source": [
    "sum(nuwro_evt_rate)"
   ]
  },
  {
   "cell_type": "code",
   "execution_count": 61,
   "id": "4a8db7b3",
   "metadata": {},
   "outputs": [
    {
     "data": {
      "image/png": "[encoded data removed]",
      "text/plain": [
       "<Figure size 576x504 with 2 Axes>"
      ]
     },
     "metadata": {
      "needs_background": "light"
     },
     "output_type": "display_data"
    }
   ],
   "source": [
    "from matplotlib import gridspec\n",
    "\n",
    "fig = plt.figure(figsize=(8, 7))\n",
    "\n",
    "gs = gridspec.GridSpec(2, 1, height_ratios=[2, 1])\n",
    "\n",
    "ax1 = plt.subplot(gs[0])\n",
    "ax2 = plt.subplot(gs[1])\n",
    "    \n",
    "ax1.tick_params(axis = 'both', which = 'major', labelsize = 13)\n",
    "ax2.tick_params(axis = 'both', which = 'major', labelsize = 13)\n",
    "\n",
    "ax2.yaxis.grid(linestyle=\"--\", color='black', alpha=0.2)\n",
    "ax2.xaxis.grid(linestyle=\"--\", color='black', alpha=0.2)\n",
    "\n",
    "# background subtracted genie evt rate \n",
    "ax1.hist(bincenters, bins, histtype='step', range=[xlow,xhigh], \n",
    "        weights=numu_evt_rate, linestyle=\":\", linewidth=2, \n",
    "                  label='GENIE v3')\n",
    "\n",
    "# background subtracted nuwro evt rate\n",
    "ax1.hist(bincenters, bins, histtype='step', range=[xlow,xhigh], \n",
    "        weights=nuwro_evt_rate, linestyle=\":\", linewidth=2, \n",
    "                  label='NuWro')\n",
    "\n",
    "# ratio plot  \n",
    "ax2.errorbar(bincenters, [a/b for a,b in zip(nuwro_evt_rate, numu_evt_rate)], \n",
    "             xerr=binwidth, color=\"black\", fmt='o')\n",
    "ax2.set_ylim(0, 2)\n",
    "\n",
    "\n",
    "# plot formatting \n",
    "ax1.set_xlim(xlow,xhigh)\n",
    "ax1.set_xticks(x_ticks)\n",
    "ax1.set_ylabel('$\\\\nu$ / $2\\\\times10^{20}$ POT', fontsize=15)\n",
    "\n",
    "ax2.set_xlim(xlow,xhigh)\n",
    "ax2.set_xticks(x_ticks)\n",
    "\n",
    "ax2.set_xlabel(x_label, fontsize=14)\n",
    "ax2.set_ylabel(\"NuWro / GENIE v3\", fontsize=14)\n",
    "\n",
    "ax1.legend(fontsize=13, frameon=False)\n",
    "    \n",
    "ax2.set_xlabel(\"Reconstructed \"+x_label, fontsize=15)\n",
    "ax1.set_title(\"Background-Subtracted Selected Event Rate\", fontsize=16)\n",
    "\n",
    "#if ISRUN3=='': \n",
    "#    plt.savefig(\"/uboone/data/users/kmiller/uBNuMI_CCNp/plots/combined/combined_\"+xvar+\"_closuretest.pdf\", \n",
    "#            transparent=True, bbox_inches='tight')\n",
    "\n",
    "#plt.savefig(\"/uboone/data/users/kmiller/uBNuMI_CCNp/plots/fhc/fakedata/nuwro_evt_rate_compare_\"+xvar+\".pdf\", \n",
    "#            transparent=True, bbox_inches='tight')\n",
    "plt.show()"
   ]
  },
  {
   "cell_type": "code",
   "execution_count": 62,
   "id": "56967250",
   "metadata": {},
   "outputs": [],
   "source": [
    "\n",
    "\n",
    "# nuwro selected neutrino backgrounds\n",
    "nuwro_bkgd = pd.concat([datasets_bdt['infv'].query('is_signal==False'), datasets_bdt['outfv']])\n",
    "\n"
   ]
  },
  {
   "cell_type": "code",
   "execution_count": 63,
   "id": "aa4d0fcc",
   "metadata": {},
   "outputs": [
    {
     "data": {
      "text/plain": [
       "[9.974959394559665,\n",
       " 13.746838195408325,\n",
       " 18.330151464022187,\n",
       " 17.330359303185205,\n",
       " 22.69124292648498,\n",
       " 32.76279022496868,\n",
       " 39.6802248389629,\n",
       " 67.54689414113017,\n",
       " 87.41493747852056,\n",
       " 153.45774302762464]"
      ]
     },
     "execution_count": 63,
     "metadata": {},
     "output_type": "execute_result"
    }
   ],
   "source": [
    "nuwro_evt_rate"
   ]
  },
  {
   "cell_type": "code",
   "execution_count": 64,
   "id": "275bb086",
   "metadata": {},
   "outputs": [
    {
     "data": {
      "image/png": "[encoded data removed]",
      "text/plain": [
       "<Figure size 576x504 with 2 Axes>"
      ]
     },
     "metadata": {
      "needs_background": "light"
     },
     "output_type": "display_data"
    }
   ],
   "source": [
    "fig = plt.figure(figsize=(8, 7))\n",
    "\n",
    "gs = gridspec.GridSpec(2, 1, height_ratios=[2, 1])\n",
    "\n",
    "ax1 = plt.subplot(gs[0])\n",
    "ax2 = plt.subplot(gs[1])\n",
    "    \n",
    "ax1.tick_params(axis = 'both', which = 'major', labelsize = 13)\n",
    "ax2.tick_params(axis = 'both', which = 'major', labelsize = 13)\n",
    "\n",
    "ax2.yaxis.grid(linestyle=\"--\", color='black', alpha=0.2)\n",
    "ax2.xaxis.grid(linestyle=\"--\", color='black', alpha=0.2)\n",
    "\n",
    "# genie\n",
    "ax1.hist(bincenters, bins, histtype='step', range=[xlow,xhigh], \n",
    "        weights=cv_bkgd_mc, linestyle=\":\", linewidth=2, \n",
    "                  label='GENIE v3')\n",
    "\n",
    "# background subtracted nuwro evt rate\n",
    "h_nuwro_bkgd = ax1.hist(nuwro_bkgd[xvar], bins, histtype='step', \n",
    "                        weights=nuwro_bkgd.totweight_data, range=[xlow,xhigh], \n",
    "         linestyle=\":\", linewidth=2, \n",
    "                  label='NuWro')[0]\n",
    "\n",
    "# ratio plot  \n",
    "ax2.errorbar(bincenters, [a/b for a,b in zip(h_nuwro_bkgd, cv_bkgd_mc)], \n",
    "             xerr=binwidth, color=\"black\", fmt='o')\n",
    "#ax2.set_ylim(0, 2)\n",
    "\n",
    "#ax1.set_ylim(0, 5)\n",
    "\n",
    "\n",
    "# plot formatting \n",
    "ax1.set_xlim(xlow,xhigh)\n",
    "ax1.set_xticks(x_ticks)\n",
    "ax1.set_ylabel('$\\\\nu$ / $2\\\\times10^{20}$ POT', fontsize=15)\n",
    "\n",
    "ax2.set_xlim(xlow,xhigh)\n",
    "ax2.set_xticks(x_ticks)\n",
    "\n",
    "ax2.set_xlabel(x_label, fontsize=14)\n",
    "ax2.set_ylabel(\"NuWro / GENIE v3\", fontsize=14)\n",
    "\n",
    "ax1.legend(fontsize=13, frameon=False)\n",
    "    \n",
    "ax2.set_xlabel(\"Reconstructed \"+x_label, fontsize=15)\n",
    "ax1.set_title(\"Selected Neutrino Backgrounds\", fontsize=16)\n",
    "\n",
    "\n",
    "#plt.savefig(\"/uboone/data/users/kmiller/uBNuMI_CCNp/plots/fhc/fakedata/nuwro_mc_bkgd_compare_\"+xvar+\".pdf\", \n",
    "#            transparent=True, bbox_inches='tight')\n",
    "\n",
    "plt.show()"
   ]
  },
  {
   "cell_type": "code",
   "execution_count": 65,
   "id": "ad97ebf2",
   "metadata": {},
   "outputs": [
    {
     "name": "stdout",
     "output_type": "stream",
     "text": [
      "[ 245.66559597  269.61700172  287.50397432  353.15766421  405.08893046\n",
      "  500.16097136  624.32730455  849.56460461 1388.92555392 3485.15897019]\n"
     ]
    }
   ],
   "source": [
    "#This should be prior true signal from genie\n",
    "#genie_true = generated_signal(False, true_var, bins, xlow, xhigh)[0]\n",
    "\n",
    "genie_true = numu_full_evt_rate\n",
    "\n",
    "print(genie_true)"
   ]
  },
  {
   "cell_type": "code",
   "execution_count": 66,
   "id": "6b48c7a2",
   "metadata": {},
   "outputs": [
    {
     "name": "stdout",
     "output_type": "stream",
     "text": [
      "[-0.9 -0.7 -0.5 -0.3 -0.1  0.1  0.3  0.5  0.7  0.9]\n",
      "[ 13.91937288  22.90812373  18.15357576  25.10463963  25.93657553\n",
      "  32.17646128  42.52234188  69.35484966  89.88580852 133.19642595]\n"
     ]
    },
    {
     "data": {
      "image/png": "[encoded data removed]",
      "text/plain": [
       "<Figure size 576x504 with 2 Axes>"
      ]
     },
     "metadata": {
      "needs_background": "light"
     },
     "output_type": "display_data"
    }
   ],
   "source": [
    "fig = plt.figure(figsize=(8, 7))\n",
    "\n",
    "gs = gridspec.GridSpec(2, 1, height_ratios=[2, 1])\n",
    "\n",
    "ax1 = plt.subplot(gs[0])\n",
    "ax2 = plt.subplot(gs[1])\n",
    "    \n",
    "ax1.tick_params(axis = 'both', which = 'major', labelsize = 13)\n",
    "ax2.tick_params(axis = 'both', which = 'major', labelsize = 13)\n",
    "\n",
    "ax2.yaxis.grid(linestyle=\"--\", color='black', alpha=0.2)\n",
    "ax2.xaxis.grid(linestyle=\"--\", color='black', alpha=0.2)\n",
    "\n",
    "ax1.hist(bincenters, bins, histtype='step', range=[xlow,xhigh], \n",
    "        weights=genie_true, linestyle=\":\", linewidth=2, \n",
    "                  label='GENIE v3')\n",
    "\n",
    "print(bincenters)\n",
    "\n",
    "nuwro_true = ax1.hist(generated_events.query('is_signal==True')[true_var], bins, \n",
    "                      histtype='step', range=[xlow,xhigh], \n",
    "                      weights=generated_events.query('is_signal==True')['totweight_data'], \n",
    "                      linestyle=\":\", linewidth=2, \n",
    "                  label='NuWro')[0]\n",
    "\n",
    "\n",
    "# ratio plot  \n",
    "ax2.errorbar(bincenters, [a/b for a,b in zip(nuwro_true, genie_true)], \n",
    "             xerr=binwidth, color=\"black\", fmt='o')\n",
    "ax2.set_ylim(0, 2)\n",
    "\n",
    "print(nuwro_true)\n",
    "\n",
    "# plot formatting \n",
    "ax1.set_xlim(xlow,xhigh)\n",
    "ax1.set_xticks(x_ticks)\n",
    "ax1.set_ylabel('$\\\\nu$ / $2\\\\times10^{20}$ POT', fontsize=15)\n",
    "\n",
    "ax2.set_xlim(xlow,xhigh)\n",
    "ax2.set_xticks(x_ticks)\n",
    "\n",
    "ax2.set_xlabel(x_label, fontsize=14)\n",
    "ax2.set_ylabel(\"NuWro / GENIE v3\", fontsize=14)\n",
    "\n",
    "ax1.legend(fontsize=13, frameon=False)\n",
    "    \n",
    "ax2.set_xlabel(\"True \"+x_label, fontsize=15)\n",
    "ax1.set_title(\"Generated Signal Event Rate\", fontsize=16)\n",
    "\n",
    "#plt.savefig(\"/uboone/data/users/kmiller/uBNuMI_CCNp/plots/fhc/fakedata/nuwro_gen_signal_compare_\"+xvar+\".pdf\", \n",
    "#            transparent=True, bbox_inches='tight')\n",
    "plt.show()"
   ]
  },
  {
   "cell_type": "code",
   "execution_count": 67,
   "id": "698c47c6",
   "metadata": {},
   "outputs": [
    {
     "name": "stdout",
     "output_type": "stream",
     "text": [
      "Generated (True - GENIE v3) =  [ 245.66559597  269.61700172  287.50397432  353.15766421  405.08893046\n",
      "  500.16097136  624.32730455  849.56460461 1388.92555392 3485.15897019]\n",
      "Selected (Reco - NuWro) =  [9.974959394559665, 13.746838195408325, 18.330151464022187, 17.330359303185205, 22.69124292648498, 32.76279022496868, 39.6802248389629, 67.54689414113017, 87.41493747852056, 153.45774302762464]\n"
     ]
    },
    {
     "data": {
      "image/png": "[encoded data removed]",
      "text/plain": [
       "<Figure size 720x504 with 1 Axes>"
      ]
     },
     "metadata": {
      "needs_background": "light"
     },
     "output_type": "display_data"
    }
   ],
   "source": [
    "# nuwro input distributions \n",
    "\n",
    "fig = plt.figure(figsize=(10, 7))\n",
    "\n",
    "#So this is Prior True\n",
    "plt.hist(bincenters, bins, color='orange', label='Generated (True - GENIE v3)', alpha=0.4, \n",
    "         weights=genie_true)\n",
    "\n",
    "print(\"Generated (True - GENIE v3) = \", genie_true)\n",
    "\n",
    "\n",
    "#And this is Data Signal\n",
    "# genie background subtracted evt rate \n",
    "plt.hist(bincenters, bins, color='blue', label='Selected (Reco - NuWro)', alpha=0.4, weights=nuwro_evt_rate)\n",
    "\n",
    "print('Selected (Reco - NuWro) = ', nuwro_evt_rate)\n",
    "\n",
    "plt.legend(fontsize=13)\n",
    "plt.title('FHC Run 1 - Input Signal Predictions', fontsize=16)\n",
    "\n",
    "plt.xlim(xlow, xhigh)\n",
    "\n",
    "plt.xlabel(x_label, fontsize=15)\n",
    "    \n",
    "plt.xticks(x_ticks, fontsize=13)\n",
    "plt.yticks(fontsize=13)\n",
    "\n",
    "plt.ylabel(\"$\\\\nu$ / 2.0 $\\\\times 10^{20}$ POT\", fontsize=15)\n",
    "\n",
    "plt.grid()\n",
    "\n",
    "#plt.savefig(\"/uboone/data/users/kmiller/uBNuMI_CCNp/plots/fhc/fakedata/nuwro_input_dist_\"+xvar+\".pdf\", \n",
    "#            transparent=True, bbox_inches='tight')\n",
    "\n",
    "plt.show()"
   ]
  },
  {
   "cell_type": "code",
   "execution_count": 68,
   "id": "f1c32cf1",
   "metadata": {},
   "outputs": [
    {
     "data": {
      "text/plain": [
       "[9.974959394559665,\n",
       " 13.746838195408325,\n",
       " 18.330151464022187,\n",
       " 17.330359303185205,\n",
       " 22.69124292648498,\n",
       " 32.76279022496868,\n",
       " 39.6802248389629,\n",
       " 67.54689414113017,\n",
       " 87.41493747852056,\n",
       " 153.45774302762464]"
      ]
     },
     "execution_count": 68,
     "metadata": {},
     "output_type": "execute_result"
    }
   ],
   "source": [
    "nuwro_evt_rate"
   ]
  },
  {
   "cell_type": "code",
   "execution_count": 69,
   "id": "7a16e36d",
   "metadata": {},
   "outputs": [
    {
     "name": "stdout",
     "output_type": "stream",
     "text": [
      "[4.470166660908858, 4.531339244349231, 5.563543706772289, 5.716721146381857, 7.627070355328702, 10.88087032268941, 13.956345890910479, 23.67322059035615, 35.16595749931822, 69.38940010732162]\n"
     ]
    }
   ],
   "source": [
    "##ALLSEL NUWRO STAT ERRS\n",
    "\n",
    "# sumw2 of the full event rate \n",
    "nuwro_full_sumw2 = []\n",
    "\n",
    "for i in range(len(bins)-1):\n",
    "\n",
    "    if i==len(bins)-2: \n",
    "        bin_query = xvar+' >= '+str(bins[i])+' and '+xvar+' <= '+str(bins[i+1])\n",
    "    else: \n",
    "        bin_query = xvar+' >= '+str(bins[i])+' and '+xvar+' < '+str(bins[i+1])\n",
    "\n",
    "    #nuwro_full_sumw2.append(sum(datasets_bdt['infv'].query('is_signal==True and '+bin_query).totweight_data ** 2) ) #bug (fixed below)\n",
    "    nuwro_full_sumw2.append(sum(selected_events.query(bin_query).totweight_data ** 2))\n",
    "    #nuwro_full_sumw2.append(sum(nue.query(bin_query).totweight_data ** 2))\n",
    "    \n",
    "    \n",
    "print(nuwro_full_sumw2)   \n",
    "# percent stat error - of the background subtracted event rate \n",
    "#print( [(np.sqrt(a)/b) for a,b in zip(nuwro_full_sumw2, nuwro_evt_rate)] )"
   ]
  },
  {
   "cell_type": "code",
   "execution_count": 70,
   "id": "12fc6d28",
   "metadata": {},
   "outputs": [
    {
     "data": {
      "text/plain": [
       "[4.470166660908858,\n",
       " 4.531339244349231,\n",
       " 5.563543706772289,\n",
       " 5.716721146381857,\n",
       " 7.627070355328702,\n",
       " 10.88087032268941,\n",
       " 13.956345890910479,\n",
       " 23.67322059035615,\n",
       " 35.16595749931822,\n",
       " 69.38940010732162]"
      ]
     },
     "execution_count": 70,
     "metadata": {},
     "output_type": "execute_result"
    }
   ],
   "source": [
    "nuwro_full_sumw2"
   ]
  },
  {
   "cell_type": "markdown",
   "id": "b272660c",
   "metadata": {},
   "source": [
    "Signal Region Systematic - NuWro"
   ]
  },
  {
   "cell_type": "code",
   "execution_count": 71,
   "id": "212eed33",
   "metadata": {},
   "outputs": [
    {
     "data": {
      "image/png": "[encoded data removed]",
      "text/plain": [
       "<Figure size 576x360 with 1 Axes>"
      ]
     },
     "metadata": {
      "needs_background": "light"
     },
     "output_type": "display_data"
    }
   ],
   "source": [
    "# genie vs nuwro event rate\n",
    "\n",
    "fig = plt.figure(figsize=(8, 5))\n",
    "\n",
    "# background subtracted genie evt rate \n",
    "plt.hist(bincenters, bins, histtype='step', range=[xlow,xhigh], \n",
    "        weights=numu_evt_rate, linestyle=\":\", linewidth=2, \n",
    "                  label='GENIE v3')\n",
    "\n",
    "# background subtracted nuwro evt rate\n",
    "plt.hist(bincenters, bins, histtype='step', range=[xlow,xhigh], \n",
    "        weights=nuwro_evt_rate, linestyle=\":\", linewidth=2, \n",
    "                  label='NuWro')\n",
    "\n",
    "# plot format stuff\n",
    "plt.legend(loc='best', prop={\"size\":14}, ncol=1, frameon=False)\n",
    "\n",
    "plt.ylabel('$\\\\nu$ / $2\\\\times10^{20}$ POT', fontsize=15)\n",
    "    \n",
    "plt.xlabel(\"Reconstructed \"+x_label, fontsize=15)\n",
    "plt.xticks(x_ticks, fontsize=14)\n",
    "\n",
    "plt.yticks(fontsize=14)\n",
    "\n",
    "plt.xlim(xlow, xhigh)\n",
    "\n",
    "\n",
    "plt.title(\"Background-Subtracted Selected Event Rate\", fontsize=16)\n",
    "\n",
    "plt.show()"
   ]
  },
  {
   "cell_type": "code",
   "execution_count": 72,
   "id": "2cc30037",
   "metadata": {},
   "outputs": [],
   "source": [
    "# genie_evt_rate - background subtracted event rate \n",
    "# nuwro_evt_rate - background subtracted event rate \n",
    "# genie_nu_bkgd - neutrino background prediction from genie \n",
    "# nuwro_nu_bkgd - neutrino background prediction from nuwro\n",
    "\n",
    "sys_dict = {}\n",
    "\n"
   ]
  },
  {
   "cell_type": "code",
   "execution_count": 73,
   "id": "71ae6cc7",
   "metadata": {},
   "outputs": [],
   "source": [
    "sys_dict['genie_evt_rate'] = numu_evt_rate\n",
    "sys_dict['nuwro_evt_rate'] = nuwro_evt_rate\n",
    "sys_dict['genie_nu_bkgd'] = cv_bkgd_mc\n",
    "sys_dict['nuwro_nu_bkgd'] = list(h_nuwro_bkgd)\n"
   ]
  },
  {
   "cell_type": "code",
   "execution_count": 74,
   "id": "9fbbe791",
   "metadata": {},
   "outputs": [],
   "source": [
    "np.savetxt(\"numu_nuWro_MC_Data_Signal_recoCut_run1_angle_\"+ending+\".csv\", \n",
    "           nuwro_evt_rate,\n",
    "           delimiter =\", \", \n",
    "           fmt ='% s')"
   ]
  },
  {
   "cell_type": "code",
   "execution_count": 75,
   "id": "13b3f262",
   "metadata": {},
   "outputs": [
    {
     "data": {
      "text/plain": [
       "array([ 13.91937288,  22.90812373,  18.15357576,  25.10463963,\n",
       "        25.93657553,  32.17646128,  42.52234188,  69.35484966,\n",
       "        89.88580852, 133.19642595])"
      ]
     },
     "execution_count": 75,
     "metadata": {},
     "output_type": "execute_result"
    }
   ],
   "source": [
    "nuwro_true"
   ]
  },
  {
   "cell_type": "code",
   "execution_count": 76,
   "id": "f0b7f324",
   "metadata": {},
   "outputs": [
    {
     "data": {
      "text/plain": [
       "array([ 245.66559597,  269.61700172,  287.50397432,  353.15766421,\n",
       "        405.08893046,  500.16097136,  624.32730455,  849.56460461,\n",
       "       1388.92555392, 3485.15897019])"
      ]
     },
     "execution_count": 76,
     "metadata": {},
     "output_type": "execute_result"
    }
   ],
   "source": [
    "genie_true"
   ]
  },
  {
   "cell_type": "markdown",
   "id": "28b4922a",
   "metadata": {},
   "source": [
    "## Create the Numu Cov Uncertainty Matrix"
   ]
  },
  {
   "cell_type": "code",
   "execution_count": 77,
   "id": "d957b271",
   "metadata": {},
   "outputs": [
    {
     "name": "stdout",
     "output_type": "stream",
     "text": [
      "[4.470166660908858, 4.531339244349231, 5.563543706772289, 5.716721146381857, 7.627070355328702, 10.88087032268941, 13.956345890910479, 23.67322059035615, 35.16595749931822, 69.38940010732162]\n"
     ]
    }
   ],
   "source": [
    "#nuWro_stat_err_numu\n",
    "#array([ 5.3487608 ,  5.52786268,  6.70549925,  6.97774993,  9.33344634,\n",
    "#       12.95879938, 16.85555654, 28.36305774, 41.59580091, 77.48407289])\n",
    "\n",
    "nuWro_stat_err_numu = nuwro_full_sumw2\n",
    "print(nuWro_stat_err_numu)"
   ]
  },
  {
   "cell_type": "code",
   "execution_count": 78,
   "id": "e16303d9",
   "metadata": {},
   "outputs": [
    {
     "name": "stdout",
     "output_type": "stream",
     "text": [
      "[ 0.6154491   0.27349356  1.32318578  0.34879157  0.50934191  6.26401116\n",
      "  7.33086553  9.25849583  9.45826607 16.55835356]\n"
     ]
    }
   ],
   "source": [
    "numu_bkg_genie_err = pd.read_csv(\"numu_bkg_exp_err_squared_angle_\"+ending+\".csv\", header=None)\n",
    "\n",
    "numu_bkg_genie_err = numu_bkg_genie_err.values[:, 0]\n",
    "print(numu_bkg_genie_err)"
   ]
  },
  {
   "cell_type": "code",
   "execution_count": 79,
   "id": "dc0afc62",
   "metadata": {},
   "outputs": [
    {
     "name": "stdout",
     "output_type": "stream",
     "text": [
      "[ 5.08561576  4.8048328   6.88672948  6.06551272  8.13641226 17.14488148\n",
      " 21.28721142 32.93171642 44.62422357 85.94775366]\n"
     ]
    }
   ],
   "source": [
    "totalstat_numu_err = nuWro_stat_err_numu + numu_bkg_genie_err\n",
    "print(totalstat_numu_err)"
   ]
  },
  {
   "cell_type": "code",
   "execution_count": 80,
   "id": "8fac7c72",
   "metadata": {},
   "outputs": [
    {
     "name": "stdout",
     "output_type": "stream",
     "text": [
      "[[0. 0. 0. 0. 0. 0. 0. 0. 0. 0.]\n",
      " [0. 0. 0. 0. 0. 0. 0. 0. 0. 0.]\n",
      " [0. 0. 0. 0. 0. 0. 0. 0. 0. 0.]\n",
      " [0. 0. 0. 0. 0. 0. 0. 0. 0. 0.]\n",
      " [0. 0. 0. 0. 0. 0. 0. 0. 0. 0.]\n",
      " [0. 0. 0. 0. 0. 0. 0. 0. 0. 0.]\n",
      " [0. 0. 0. 0. 0. 0. 0. 0. 0. 0.]\n",
      " [0. 0. 0. 0. 0. 0. 0. 0. 0. 0.]\n",
      " [0. 0. 0. 0. 0. 0. 0. 0. 0. 0.]\n",
      " [0. 0. 0. 0. 0. 0. 0. 0. 0. 0.]]\n"
     ]
    }
   ],
   "source": [
    "numu_cov_stats   = np.zeros([(len(bins)-1), (len(bins)-1)])\n",
    "print(numu_cov_stats)"
   ]
  },
  {
   "cell_type": "code",
   "execution_count": 81,
   "id": "65af29be",
   "metadata": {},
   "outputs": [],
   "source": [
    "numu_cov_stats[np.diag_indices_from(numu_cov_stats)]    = totalstat_numu_err"
   ]
  },
  {
   "cell_type": "code",
   "execution_count": 82,
   "id": "6012b278",
   "metadata": {},
   "outputs": [
    {
     "data": {
      "image/png": "[encoded data removed]",
      "text/plain": [
       "<Figure size 720x432 with 2 Axes>"
      ]
     },
     "metadata": {
      "needs_background": "light"
     },
     "output_type": "display_data"
    }
   ],
   "source": [
    "fig = plt.figure(figsize=(10, 6))\n",
    "        \n",
    "plt.pcolor(bins, bins, numu_cov_stats, cmap='OrRd', edgecolors='k')#, vmin=-1, vmax=1)\n",
    "            \n",
    "cbar = plt.colorbar()\n",
    "cbar.ax.tick_params(labelsize=14)\n",
    "\n",
    "\n",
    "\n",
    "\n",
    "#plt.xlabel('Reco Shower Energy [GeV]', fontsize=15)\n",
    "#plt.ylabel('Reco Shower Energy [GeV]', fontsize=15)\n",
    "\n",
    "plt.title('Covariance', fontsize=15)\n",
    "\n",
    "plt.show()"
   ]
  },
  {
   "cell_type": "code",
   "execution_count": 83,
   "id": "35205e8a",
   "metadata": {},
   "outputs": [
    {
     "name": "stdout",
     "output_type": "stream",
     "text": [
      "[[ 5.46530673e+00  3.00076940e+00  3.51204976e+00  5.66895466e+00\n",
      "   6.64143364e+00  8.35034256e+00  1.39233213e+01  1.95142276e+01\n",
      "   3.48928732e+01  7.60166345e+01]\n",
      " [ 3.00076940e+00  3.93550772e+00  3.42110002e+00  2.39806200e+00\n",
      "   4.11879378e+00  5.94467628e+00  2.55313940e+00  6.33474945e+00\n",
      "   7.73076690e+00 -2.02996323e+01]\n",
      " [ 3.51204976e+00  3.42110002e+00  3.60898725e+00  3.67474893e+00\n",
      "   5.13594960e+00  6.80479378e+00  6.49669180e+00  1.10572350e+01\n",
      "   1.74155708e+01  1.26067574e+01]\n",
      " [ 5.66895466e+00  2.39806200e+00  3.67474893e+00  7.59932973e+00\n",
      "   8.09644534e+00  9.47376274e+00  1.92609584e+01  2.55720566e+01\n",
      "   4.64643462e+01  1.18774385e+02]\n",
      " [ 6.64143364e+00  4.11879378e+00  5.13594960e+00  8.09644534e+00\n",
      "   9.73549991e+00  1.18004674e+01  1.89750121e+01  2.69264771e+01\n",
      "   4.70411529e+01  9.91738577e+01]\n",
      " [ 8.35034256e+00  5.94467628e+00  6.80479378e+00  9.47376274e+00\n",
      "   1.18004674e+01  1.64259353e+01  2.14481580e+01  3.31002227e+01\n",
      "   5.83865396e+01  1.04671531e+02]\n",
      " [ 1.39233213e+01  2.55313940e+00  6.49669180e+00  1.92609584e+01\n",
      "   1.89750121e+01  2.14481580e+01  5.56598291e+01  7.01183107e+01\n",
      "   1.33088786e+02  3.90154243e+02]\n",
      " [ 1.95142276e+01  6.33474945e+00  1.10572350e+01  2.55720566e+01\n",
      "   2.69264771e+01  3.31002227e+01  7.01183107e+01  9.49128131e+01\n",
      "   1.78913870e+02  4.71622401e+02]\n",
      " [ 3.48928732e+01  7.73076690e+00  1.74155708e+01  4.64643462e+01\n",
      "   4.70411529e+01  5.83865396e+01  1.33088786e+02  1.78913870e+02\n",
      "   3.48713751e+02  9.54202092e+02]\n",
      " [ 7.60166345e+01 -2.02996323e+01  1.26067574e+01  1.18774385e+02\n",
      "   9.91738577e+01  1.04671531e+02  3.90154243e+02  4.71622401e+02\n",
      "   9.54202092e+02  3.22592646e+03]]\n"
     ]
    }
   ],
   "source": [
    "# Now need to load in the genie sys errs from numu\n",
    "\n",
    "numu_bkg_genie_err = pd.read_csv(\"numu_cov_genie_only_angle_\"+ending+\".csv\", header=None)\n",
    "\n",
    "numu_bkg_genie_err = numu_bkg_genie_err.values\n",
    "print(numu_bkg_genie_err)"
   ]
  },
  {
   "cell_type": "code",
   "execution_count": 84,
   "id": "938beb25",
   "metadata": {},
   "outputs": [
    {
     "data": {
      "image/png": "[encoded data removed]",
      "text/plain": [
       "<Figure size 720x432 with 2 Axes>"
      ]
     },
     "metadata": {
      "needs_background": "light"
     },
     "output_type": "display_data"
    }
   ],
   "source": [
    "fig = plt.figure(figsize=(10, 6))\n",
    "        \n",
    "plt.pcolor(bins, bins, numu_bkg_genie_err, cmap='OrRd', edgecolors='k')#, vmin=-1, vmax=1)\n",
    "            \n",
    "cbar = plt.colorbar()\n",
    "cbar.ax.tick_params(labelsize=14)\n",
    "\n",
    "\n",
    "\n",
    "\n",
    "#plt.xlabel('Reco Shower Energy [GeV]', fontsize=15)\n",
    "#plt.ylabel('Reco Shower Energy [GeV]', fontsize=15)\n",
    "\n",
    "plt.title('genie cov', fontsize=15)\n",
    "\n",
    "plt.show()"
   ]
  },
  {
   "cell_type": "code",
   "execution_count": 85,
   "id": "70e0677c",
   "metadata": {},
   "outputs": [],
   "source": [
    "total_cov_nuWro_numu = numu_bkg_genie_err + numu_cov_stats"
   ]
  },
  {
   "cell_type": "code",
   "execution_count": 86,
   "id": "92976e36",
   "metadata": {},
   "outputs": [],
   "source": [
    "np.savetxt(\"data_covmat_numu_MC_nuWro_input_angle_\"+ending+\".csv\", \n",
    "           total_cov_nuWro_numu,\n",
    "           delimiter =\", \", \n",
    "           fmt ='% s')"
   ]
  },
  {
   "cell_type": "code",
   "execution_count": 87,
   "id": "877a75c7",
   "metadata": {},
   "outputs": [
    {
     "data": {
      "image/png": "[encoded data removed]",
      "text/plain": [
       "<Figure size 720x432 with 2 Axes>"
      ]
     },
     "metadata": {
      "needs_background": "light"
     },
     "output_type": "display_data"
    }
   ],
   "source": [
    "fig = plt.figure(figsize=(10, 6))\n",
    "        \n",
    "plt.pcolor(bins, bins, total_cov_nuWro_numu, cmap='OrRd', edgecolors='k')#, vmin=-1, vmax=1)\n",
    "            \n",
    "cbar = plt.colorbar()\n",
    "cbar.ax.tick_params(labelsize=14)\n",
    "\n",
    "\n",
    "\n",
    "\n",
    "#plt.xlabel('Reco Shower Energy [GeV]', fontsize=15)\n",
    "#plt.ylabel('Reco Shower Energy [GeV]', fontsize=15)\n",
    "\n",
    "plt.title('total input nuwro cov', fontsize=15)\n",
    "\n",
    "plt.show()"
   ]
  },
  {
   "cell_type": "code",
   "execution_count": 88,
   "id": "42beb921",
   "metadata": {},
   "outputs": [
    {
     "name": "stdout",
     "output_type": "stream",
     "text": [
      "\n",
      "[[1.0, 0.31248072183846337, 0.3337408694772332, 0.47212332050279576, 0.48364990944753555, 0.4436884481352229, 0.48865423496552135, 0.5313309007138983, 0.5416373155286655, 0.4066553635577556], [0.31248072183846337, 1.0, 0.357186918307943, 0.21942894588277484, 0.3295492751724846, 0.347042832525467, 0.09844969838794303, 0.18950653515257615, 0.1318485820025019, -0.11931281070204805], [0.3337408694772332, 0.357186918307943, 1.0, 0.30684518130691635, 0.37499820785897686, 0.3625166548371444, 0.22860738374615353, 0.30185572205021177, 0.2710495708890398, 0.06761770538043958], [0.47212332050279576, 0.21942894588277484, 0.30684518130691635, 1.0, 0.5180916147036281, 0.44232270823462455, 0.5939906637679107, 0.6118180262145847, 0.6337742317538053, 0.5583204780435421], [0.48364990944753555, 0.3295492751724846, 0.37499820785897686, 0.5180916147036281, 0.9999999999999998, 0.4817622257843087, 0.5116825318222306, 0.5633171211927308, 0.56106025937581, 0.40763810959404123], [0.4436884481352229, 0.347042832525467, 0.3625166548371444, 0.44232270823462455, 0.4817622257843087, 1.0, 0.4220006159050716, 0.5052529838819187, 0.5080995898585297, 0.31391401499092136], [0.48865423496552135, 0.09844969838794303, 0.22860738374615353, 0.5939906637679107, 0.5116825318222306, 0.4220006159050716, 1.0000000000000002, 0.7069592954142854, 0.7650019879521504, 0.7728646739263207], [0.5313309007138983, 0.18950653515257615, 0.30185572205021177, 0.6118180262145847, 0.5633171211927308, 0.5052529838819187, 0.7069592954142854, 0.9999999999999999, 0.7978476976080835, 0.7247970763247913], [0.5416373155286655, 0.1318485820025019, 0.2710495708890398, 0.6337742317538053, 0.56106025937581, 0.5080995898585297, 0.7650019879521504, 0.7978476976080835, 1.0, 0.8360273947713643], [0.4066553635577556, -0.11931281070204805, 0.06761770538043958, 0.5583204780435421, 0.40763810959404123, 0.31391401499092136, 0.7728646739263207, 0.7247970763247913, 0.8360273947713643, 0.9999999999999999]]\n"
     ]
    }
   ],
   "source": [
    "total_cor_nuWro_numu = [ [0]*(len(bins)-1) for x in range(len(bins)-1) ]\n",
    "for i in range(len(total_cov_nuWro_numu)): \n",
    "        for j in range(len(total_cov_nuWro_numu[i])): \n",
    "\n",
    "            if np.sqrt(total_cov_nuWro_numu[i][i])*np.sqrt(total_cov_nuWro_numu[j][j]) != 0: \n",
    "                total_cor_nuWro_numu[i][j] = total_cov_nuWro_numu[i][j] / (np.sqrt(total_cov_nuWro_numu[i][i])*np.sqrt(total_cov_nuWro_numu[j][j]))\n",
    "                \n",
    "print(\"\")\n",
    "print(total_cor_nuWro_numu)"
   ]
  },
  {
   "cell_type": "code",
   "execution_count": 89,
   "id": "aca8465e",
   "metadata": {},
   "outputs": [
    {
     "data": {
      "image/png": "[encoded data removed]",
      "text/plain": [
       "<Figure size 720x432 with 2 Axes>"
      ]
     },
     "metadata": {
      "needs_background": "light"
     },
     "output_type": "display_data"
    }
   ],
   "source": [
    "fig = plt.figure(figsize=(10, 6))\n",
    "        \n",
    "plt.pcolor(bins, bins, total_cor_nuWro_numu, cmap='OrRd', edgecolors='k', vmin=-1, vmax=1)#, vmin=-1, vmax=1)\n",
    "            \n",
    "cbar = plt.colorbar()\n",
    "cbar.ax.tick_params(labelsize=14)\n",
    "\n",
    "\n",
    "\n",
    "\n",
    "#plt.xlabel('Reco Shower Energy [GeV]', fontsize=15)\n",
    "#plt.ylabel('Reco Shower Energy [GeV]', fontsize=15)\n",
    "\n",
    "plt.title('total input nuwro cor', fontsize=15)\n",
    "\n",
    "plt.show()"
   ]
  },
  {
   "cell_type": "code",
   "execution_count": 90,
   "id": "d0bc59ac",
   "metadata": {},
   "outputs": [],
   "source": [
    "total_frac_cov_nuWro_numu = [ [0]*(len(bins)-1) for x in range(len(bins)-1) ]\n",
    "\n",
    "for i in range(len(bins)-1): \n",
    "\n",
    "    for j in range(len(bins)-1): \n",
    "\n",
    "        c = total_cov_nuWro_numu[i][j]\n",
    "        \n",
    "        if nuwro_evt_rate[i]*nuwro_evt_rate[j] != 0:\n",
    "            total_frac_cov_nuWro_numu[i][j] = c/(nuwro_evt_rate[i]*nuwro_evt_rate[j])"
   ]
  },
  {
   "cell_type": "code",
   "execution_count": 91,
   "id": "5950edce",
   "metadata": {},
   "outputs": [
    {
     "data": {
      "image/png": "[encoded data removed]",
      "text/plain": [
       "<Figure size 720x432 with 2 Axes>"
      ]
     },
     "metadata": {
      "needs_background": "light"
     },
     "output_type": "display_data"
    }
   ],
   "source": [
    "fig = plt.figure(figsize=(10, 6))\n",
    "        \n",
    "plt.pcolor(bins, bins, total_frac_cov_nuWro_numu, cmap='OrRd', edgecolors='k')#, vmin=-1, vmax=1)\n",
    "            \n",
    "cbar = plt.colorbar()\n",
    "cbar.ax.tick_params(labelsize=14)\n",
    "\n",
    "\n",
    "\n",
    "\n",
    "#plt.xlabel('Reco Shower Energy [GeV]', fontsize=15)\n",
    "#plt.ylabel('Reco Shower Energy [GeV]', fontsize=15)\n",
    "\n",
    "plt.title('total input nuwro frac cov', fontsize=15)\n",
    "\n",
    "plt.show()"
   ]
  },
  {
   "cell_type": "markdown",
   "id": "f50e38da",
   "metadata": {},
   "source": [
    "## Now make the inputs blockwise"
   ]
  },
  {
   "cell_type": "code",
   "execution_count": 92,
   "id": "0440f827",
   "metadata": {},
   "outputs": [
    {
     "name": "stdout",
     "output_type": "stream",
     "text": [
      "[-0.1578482   0.91873663  0.95584798  0.75860907  2.19900006  3.51811841\n",
      "  3.15922008  6.62676529 11.40835886 20.9548115 ]\n"
     ]
    }
   ],
   "source": [
    "nue_data_signal = pd.read_csv(\"nue_nuWro_MC_Data_Signal_recoCut_run1_angle_\"+ending+\".csv\", header=None)\n",
    "\n",
    "nue_data_signal = nue_data_signal.values[:, 0]\n",
    "\n",
    "print(nue_data_signal)"
   ]
  },
  {
   "cell_type": "code",
   "execution_count": 93,
   "id": "d175a1b2",
   "metadata": {},
   "outputs": [
    {
     "name": "stdout",
     "output_type": "stream",
     "text": [
      "[ -0.1578482    0.91873663   0.95584798   0.75860907   2.19900006\n",
      "   3.51811841   3.15922008   6.62676529  11.40835886  20.9548115\n",
      "   9.97495939  13.7468382   18.33015146  17.3303593   22.69124293\n",
      "  32.76279022  39.68022484  67.54689414  87.41493748 153.45774303]\n",
      "20\n"
     ]
    }
   ],
   "source": [
    "nue_numu_tot = np.concatenate((nue_data_signal, nuwro_evt_rate), axis=0)\n",
    "\n",
    "print(nue_numu_tot)\n",
    "print(len(nue_numu_tot))\n"
   ]
  },
  {
   "cell_type": "code",
   "execution_count": 94,
   "id": "c83bccae",
   "metadata": {},
   "outputs": [
    {
     "data": {
      "image/png": "[encoded data removed]",
      "text/plain": [
       "<Figure size 576x504 with 1 Axes>"
      ]
     },
     "metadata": {
      "needs_background": "light"
     },
     "output_type": "display_data"
    }
   ],
   "source": [
    "nue_numu_fig = plt.figure(figsize=(8, 7))\n",
    "nue_numu_gs = gridspec.GridSpec(2, 1, height_ratios=[2, 1])\n",
    "nue_numu_ax1 = plt.subplot(nue_numu_gs[0])\n",
    "\n",
    "\n",
    "bins = np.arange(0, 21, 1)\n",
    "count = np.arange(0.0, 20.0, 1)\n",
    "\n",
    "\n",
    "sel_ratio = nue_numu_ax1.hist(count, bins, edgecolor='red', facecolor='red', weights=nue_numu_tot)\n",
    "nue_numu_ax1.set_ylabel('Count', fontsize=15)\n",
    "nue_numu_ax1.set_xlabel('Bin Number', fontsize=15)\n",
    "nue_numu_ax1.set_title(\"Nue, Numu, NuWro Data Selected Values\")\n",
    "#leg = nue_numu_ax1.legend()\n",
    "#nue_numu_ax1.set_ylim([0, 1])\n",
    "\n",
    "nue_numu_fig.savefig(\"data_signal_MC_nuWro_input_angleDiff_comb_\"+ending+\".svg\", bbox_inches='tight')\n",
    "\n",
    "np.savetxt(\"data_signal_MC_nuWro_input_angleDiff_comb_\"+ending+\".csv\", \n",
    "               nue_numu_tot,\n",
    "               delimiter =\", \", \n",
    "               fmt ='% s')"
   ]
  },
  {
   "cell_type": "code",
   "execution_count": 95,
   "id": "c8335c3d",
   "metadata": {},
   "outputs": [
    {
     "name": "stdout",
     "output_type": "stream",
     "text": [
      "[[ 3.10700935e-02  1.72159582e-02  1.92897371e-02  1.30306764e-02\n",
      "   3.29441453e-02  4.62675382e-02  6.22914788e-02  8.44944113e-02\n",
      "   8.74655457e-02 -9.42927463e-02  2.47992484e-01  2.41423859e-01\n",
      "   2.12048179e-01  1.77100082e-01  2.90574707e-01  3.97745943e-01\n",
      "   3.05550941e-01  5.95569754e-01  8.79479747e-01 -1.72857368e-02]\n",
      " [ 1.72159582e-02  2.03931555e-02  2.22912738e-02  1.79755924e-02\n",
      "   3.33229154e-02  5.16960369e-02  7.10248936e-02  9.56617234e-02\n",
      "   1.22120165e-01  3.42687961e-02  2.63247275e-01  2.50366383e-01\n",
      "   2.38948434e-01  2.43337424e-01  3.43095397e-01  4.53964794e-01\n",
      "   4.34058306e-01  6.97352259e-01  1.01527663e+00  5.88411491e-01]\n",
      " [ 1.92897371e-02  2.22912738e-02  3.92054558e-02  4.32552194e-02\n",
      "   4.61514633e-02  7.69994701e-02  1.09941555e-01  1.67647239e-01\n",
      "   2.88123143e-01  6.23714860e-01  4.10749202e-01  2.80656393e-01\n",
      "   3.32442122e-01  4.46149093e-01  5.48455943e-01  6.80620773e-01\n",
      "   9.78381149e-01  1.42685785e+00  2.47389879e+00  4.35472828e+00]\n",
      " [ 1.30306764e-02  1.79755924e-02  4.32552194e-02  1.16451777e-01\n",
      "   5.13916557e-02  9.54787151e-02  1.60106446e-01  2.72925668e-01\n",
      "   7.41182886e-01  2.74962792e+00  6.00685501e-01  7.70661366e-02\n",
      "   2.61945029e-01  8.55645801e-01  8.35704554e-01  9.17405190e-01\n",
      "   2.47022626e+00  3.07644707e+00  5.86617615e+00  1.79514532e+01]\n",
      " [ 3.29441453e-02  3.33229154e-02  4.61514633e-02  5.13916557e-02\n",
      "   7.35900123e-02  1.10727997e-01  1.49041518e-01  2.18596443e-01\n",
      "   3.55120961e-01  5.83952356e-01  5.56691817e-01  4.49271154e-01\n",
      "   4.69435759e-01  5.85676163e-01  7.58284177e-01  9.45821765e-01\n",
      "   1.20299853e+00  1.82442562e+00  3.00772333e+00  4.50614874e+00]\n",
      " [ 4.62675382e-02  5.16960369e-02  7.69994701e-02  9.54787151e-02\n",
      "   1.10727997e-01  1.88895550e-01  2.45794418e-01  3.76056704e-01\n",
      "   6.52937923e-01  1.35561642e+00  9.11968820e-01  6.73256581e-01\n",
      "   7.54913150e-01  1.01909003e+00  1.28276517e+00  1.60815661e+00\n",
      "   2.21919636e+00  3.31201688e+00  5.64878981e+00  1.00599437e+01]\n",
      " [ 6.22914788e-02  7.10248936e-02  1.09941555e-01  1.60106446e-01\n",
      "   1.49041518e-01  2.45794418e-01  3.74973898e-01  5.49299653e-01\n",
      "   1.07102938e+00  2.72332161e+00  1.36356428e+00  8.09506274e-01\n",
      "   9.88507213e-01  1.53696442e+00  1.82409290e+00  2.24921022e+00\n",
      "   3.61802701e+00  5.06248294e+00  8.84777932e+00  1.88192528e+01]\n",
      " [ 8.44944113e-02  9.56617234e-02  1.67647239e-01  2.72925668e-01\n",
      "   2.18596443e-01  3.76056704e-01  5.49299653e-01  8.93846337e-01\n",
      "   1.83320180e+00  5.27740158e+00  2.06371276e+00  1.04875877e+00\n",
      "   1.41199721e+00  2.49617288e+00  2.82984757e+00  3.39458056e+00\n",
      "   6.19380335e+00  8.45846342e+00  1.52849700e+01  3.59848773e+01]\n",
      " [ 8.74655457e-02  1.22120165e-01  2.88123143e-01  7.41182886e-01\n",
      "   3.55120961e-01  6.52937923e-01  1.07102938e+00  1.83320180e+00\n",
      "   4.91221062e+00  1.78353295e+01  4.03462560e+00  6.51891352e-01\n",
      "   1.85399393e+00  5.67166944e+00  5.62249480e+00  6.20406034e+00\n",
      "   1.62827144e+01  2.04719724e+01  3.91004055e+01  1.17066814e+02]\n",
      " [-9.42927463e-02  3.42687961e-02  6.23714860e-01  2.74962792e+00\n",
      "   5.83952356e-01  1.35561642e+00  2.72332161e+00  5.27740158e+00\n",
      "   1.78353295e+01  7.71159476e+01  1.02700642e+01 -4.28226998e+00\n",
      "   1.11978134e+00  1.77793476e+01  1.45789296e+01  1.38534237e+01\n",
      "   5.87054373e+01  6.82404570e+01  1.38265930e+02  4.92433947e+02]\n",
      " [ 2.47992484e-01  2.63247275e-01  4.10749202e-01  6.00685501e-01\n",
      "   5.56691817e-01  9.11968820e-01  1.36356428e+00  2.06371276e+00\n",
      "   4.03462560e+00  1.02700642e+01  5.50933996e+00  3.11852735e+00\n",
      "   3.59883211e+00  5.65635508e+00  6.72084960e+00  8.49808896e+00\n",
      "   1.37855220e+01  1.94255578e+01  3.45927774e+01  7.37673453e+01]\n",
      " [ 2.41423859e-01  2.50366383e-01  2.80656393e-01  7.70661366e-02\n",
      "   4.49271154e-01  6.73256581e-01  8.09506274e-01  1.04875877e+00\n",
      "   6.51891352e-01 -4.28226998e+00  3.11852735e+00  3.95147310e+00\n",
      "   3.43082169e+00  2.41130083e+00  4.08705433e+00  5.90545589e+00\n",
      "   2.63868185e+00  6.44481017e+00  7.94528377e+00 -1.99567053e+01]\n",
      " [ 2.12048179e-01  2.38948434e-01  3.32442122e-01  2.61945029e-01\n",
      "   4.69435759e-01  7.54913150e-01  9.88507213e-01  1.41199721e+00\n",
      "   1.85399393e+00  1.11978134e+00  3.59883211e+00  3.43082169e+00\n",
      "   3.62090337e+00  3.69486281e+00  5.13744937e+00  6.80973047e+00\n",
      "   6.58329105e+00  1.11631576e+01  1.76135568e+01  1.30756368e+01]\n",
      " [ 1.77100082e-01  2.43337424e-01  4.46149093e-01  8.55645801e-01\n",
      "   5.85676163e-01  1.01909003e+00  1.53696442e+00  2.49617288e+00\n",
      "   5.67166944e+00  1.77793476e+01  5.65635508e+00  2.41130083e+00\n",
      "   3.69486281e+00  7.61219351e+00  8.18995045e+00  9.59399347e+00\n",
      "   1.92961485e+01  2.55834660e+01  4.64549134e+01  1.19005669e+02]\n",
      " [ 2.90574707e-01  3.43095397e-01  5.48455943e-01  8.35704554e-01\n",
      "   7.58284177e-01  1.28276517e+00  1.82409290e+00  2.82984757e+00\n",
      "   5.62249480e+00  1.45789296e+01  6.72084960e+00  4.08705433e+00\n",
      "   5.13744937e+00  8.18995045e+00  9.85139209e+00  1.19132996e+01\n",
      "   1.93376150e+01  2.72877120e+01  4.77577619e+01  1.02241143e+02]\n",
      " [ 3.97745943e-01  4.53964794e-01  6.80620773e-01  9.17405190e-01\n",
      "   9.45821765e-01  1.60815661e+00  2.24921022e+00  3.39458056e+00\n",
      "   6.20406034e+00  1.38534237e+01  8.49808896e+00  5.90545589e+00\n",
      "   6.80973047e+00  9.59399347e+00  1.19132996e+01  1.65100745e+01\n",
      "   2.19211038e+01  3.36042023e+01  5.93623329e+01  1.08555869e+02]\n",
      " [ 3.05550941e-01  4.34058306e-01  9.78381149e-01  2.47022626e+00\n",
      "   1.20299853e+00  2.21919636e+00  3.61802701e+00  6.19380335e+00\n",
      "   1.62827144e+01  5.87054373e+01  1.37855220e+01  2.63868185e+00\n",
      "   6.58329105e+00  1.92961485e+01  1.93376150e+01  2.19211038e+01\n",
      "   5.56738476e+01  7.00457502e+01  1.32762904e+02  3.89812376e+02]\n",
      " [ 5.95569754e-01  6.97352259e-01  1.42685785e+00  3.07644707e+00\n",
      "   1.82442562e+00  3.31201688e+00  5.06248294e+00  8.45846342e+00\n",
      "   2.04719724e+01  6.82404570e+01  1.94255578e+01  6.44481017e+00\n",
      "   1.11631576e+01  2.55834660e+01  2.72877120e+01  3.36042023e+01\n",
      "   7.00457502e+01  9.48179632e+01  1.78498379e+02  4.70698676e+02]\n",
      " [ 8.79479747e-01  1.01527663e+00  2.47389879e+00  5.86617615e+00\n",
      "   3.00772333e+00  5.64878981e+00  8.84777932e+00  1.52849700e+01\n",
      "   3.91004055e+01  1.38265930e+02  3.45927774e+01  7.94528377e+00\n",
      "   1.76135568e+01  4.64549134e+01  4.77577619e+01  5.93623329e+01\n",
      "   1.32762904e+02  1.78498379e+02  3.47336641e+02  9.51129416e+02]\n",
      " [-1.72857368e-02  5.88411491e-01  4.35472828e+00  1.79514532e+01\n",
      "   4.50614874e+00  1.00599437e+01  1.88192528e+01  3.59848773e+01\n",
      "   1.17066814e+02  4.92433947e+02  7.37673453e+01 -1.99567053e+01\n",
      "   1.30756368e+01  1.19005669e+02  1.02241143e+02  1.08555869e+02\n",
      "   3.89812376e+02  4.70698676e+02  9.51129416e+02  3.22616129e+03]]\n"
     ]
    }
   ],
   "source": [
    "# Load in the blockwise genie cov matrix\n",
    "\n",
    "blockwise_genie_err = pd.read_csv(\"blockwise_cov_genie_only_angle_\"+ending+\".csv\", header=None)\n",
    "\n",
    "blockwise_genie_err = blockwise_genie_err.values\n",
    "print(blockwise_genie_err)"
   ]
  },
  {
   "cell_type": "code",
   "execution_count": 96,
   "id": "b6395a8c",
   "metadata": {},
   "outputs": [
    {
     "data": {
      "image/png": "[encoded data removed]",
      "text/plain": [
       "<Figure size 720x432 with 2 Axes>"
      ]
     },
     "metadata": {
      "needs_background": "light"
     },
     "output_type": "display_data"
    }
   ],
   "source": [
    "fig = plt.figure(figsize=(10, 6))\n",
    "\n",
    "bins = np.arange(0, 21, 1)\n",
    "        \n",
    "plt.pcolor(bins, bins, blockwise_genie_err, cmap='OrRd', edgecolors='k')#, vmin=-1, vmax=1)\n",
    "            \n",
    "cbar = plt.colorbar()\n",
    "cbar.ax.tick_params(labelsize=14)\n",
    "\n",
    "\n",
    "\n",
    "\n",
    "#plt.xlabel('Reco Shower Energy [GeV]', fontsize=15)\n",
    "#plt.ylabel('Reco Shower Energy [GeV]', fontsize=15)\n",
    "\n",
    "plt.title('Covariance', fontsize=15)\n",
    "\n",
    "plt.show()\n"
   ]
  },
  {
   "cell_type": "markdown",
   "id": "c3a74c24",
   "metadata": {},
   "source": [
    "Now add in the Stat errs to the blockwise matrix"
   ]
  },
  {
   "cell_type": "code",
   "execution_count": 97,
   "id": "a02a42f3",
   "metadata": {},
   "outputs": [
    {
     "name": "stdout",
     "output_type": "stream",
     "text": [
      "[3.03191827e-02 1.61295022e-01 1.88687973e-01 7.35175176e-01\n",
      " 3.74802604e-01 5.34796950e-01 1.76697554e-01 7.45456621e-01\n",
      " 1.06783028e+00 2.77198529e+00 5.08561576e+00 4.80483280e+00\n",
      " 6.88672948e+00 6.06551272e+00 8.13641226e+00 1.71448815e+01\n",
      " 2.12872114e+01 3.29317164e+01 4.46242236e+01 8.59477537e+01]\n"
     ]
    }
   ],
   "source": [
    "#nue_cov_mc_stat and numu_cov_mc_stat\n",
    "\n",
    "totalstat_nue_err = pd.read_csv(\"totalstat_nuWro_nue_err_angle_\"+ending+\".csv\", header=None)\n",
    "\n",
    "totalstat_nue_err = totalstat_nue_err.values[:, 0]\n",
    "\n",
    "\n",
    "nue_stats = totalstat_nue_err\n",
    "numu_stats = totalstat_numu_err\n",
    "\n",
    "nue_numu_stats = np.concatenate((nue_stats, numu_stats), axis=0)\n",
    "\n",
    "print(nue_numu_stats)"
   ]
  },
  {
   "cell_type": "code",
   "execution_count": 98,
   "id": "696148b1",
   "metadata": {},
   "outputs": [
    {
     "name": "stdout",
     "output_type": "stream",
     "text": [
      "[[0. 0. 0. 0. 0. 0. 0. 0. 0. 0. 0. 0. 0. 0. 0. 0. 0. 0. 0. 0.]\n",
      " [0. 0. 0. 0. 0. 0. 0. 0. 0. 0. 0. 0. 0. 0. 0. 0. 0. 0. 0. 0.]\n",
      " [0. 0. 0. 0. 0. 0. 0. 0. 0. 0. 0. 0. 0. 0. 0. 0. 0. 0. 0. 0.]\n",
      " [0. 0. 0. 0. 0. 0. 0. 0. 0. 0. 0. 0. 0. 0. 0. 0. 0. 0. 0. 0.]\n",
      " [0. 0. 0. 0. 0. 0. 0. 0. 0. 0. 0. 0. 0. 0. 0. 0. 0. 0. 0. 0.]\n",
      " [0. 0. 0. 0. 0. 0. 0. 0. 0. 0. 0. 0. 0. 0. 0. 0. 0. 0. 0. 0.]\n",
      " [0. 0. 0. 0. 0. 0. 0. 0. 0. 0. 0. 0. 0. 0. 0. 0. 0. 0. 0. 0.]\n",
      " [0. 0. 0. 0. 0. 0. 0. 0. 0. 0. 0. 0. 0. 0. 0. 0. 0. 0. 0. 0.]\n",
      " [0. 0. 0. 0. 0. 0. 0. 0. 0. 0. 0. 0. 0. 0. 0. 0. 0. 0. 0. 0.]\n",
      " [0. 0. 0. 0. 0. 0. 0. 0. 0. 0. 0. 0. 0. 0. 0. 0. 0. 0. 0. 0.]\n",
      " [0. 0. 0. 0. 0. 0. 0. 0. 0. 0. 0. 0. 0. 0. 0. 0. 0. 0. 0. 0.]\n",
      " [0. 0. 0. 0. 0. 0. 0. 0. 0. 0. 0. 0. 0. 0. 0. 0. 0. 0. 0. 0.]\n",
      " [0. 0. 0. 0. 0. 0. 0. 0. 0. 0. 0. 0. 0. 0. 0. 0. 0. 0. 0. 0.]\n",
      " [0. 0. 0. 0. 0. 0. 0. 0. 0. 0. 0. 0. 0. 0. 0. 0. 0. 0. 0. 0.]\n",
      " [0. 0. 0. 0. 0. 0. 0. 0. 0. 0. 0. 0. 0. 0. 0. 0. 0. 0. 0. 0.]\n",
      " [0. 0. 0. 0. 0. 0. 0. 0. 0. 0. 0. 0. 0. 0. 0. 0. 0. 0. 0. 0.]\n",
      " [0. 0. 0. 0. 0. 0. 0. 0. 0. 0. 0. 0. 0. 0. 0. 0. 0. 0. 0. 0.]\n",
      " [0. 0. 0. 0. 0. 0. 0. 0. 0. 0. 0. 0. 0. 0. 0. 0. 0. 0. 0. 0.]\n",
      " [0. 0. 0. 0. 0. 0. 0. 0. 0. 0. 0. 0. 0. 0. 0. 0. 0. 0. 0. 0.]\n",
      " [0. 0. 0. 0. 0. 0. 0. 0. 0. 0. 0. 0. 0. 0. 0. 0. 0. 0. 0. 0.]]\n"
     ]
    }
   ],
   "source": [
    "nue_numu_nuWro_cov_stats   = np.zeros([(len(bins)-1), (len(bins)-1)])\n",
    "print(nue_numu_nuWro_cov_stats)"
   ]
  },
  {
   "cell_type": "code",
   "execution_count": 99,
   "id": "b0a97590",
   "metadata": {},
   "outputs": [],
   "source": [
    "nue_numu_nuWro_cov_stats[np.diag_indices_from(nue_numu_nuWro_cov_stats)]    = nue_numu_stats"
   ]
  },
  {
   "cell_type": "code",
   "execution_count": 100,
   "id": "b0106807",
   "metadata": {},
   "outputs": [
    {
     "data": {
      "image/png": "[encoded data removed]",
      "text/plain": [
       "<Figure size 720x432 with 2 Axes>"
      ]
     },
     "metadata": {
      "needs_background": "light"
     },
     "output_type": "display_data"
    }
   ],
   "source": [
    "fig = plt.figure(figsize=(10, 6))\n",
    "        \n",
    "plt.pcolor(bins, bins, nue_numu_nuWro_cov_stats, cmap='OrRd', edgecolors='k')#, vmin=-1, vmax=1)\n",
    "            \n",
    "cbar = plt.colorbar()\n",
    "cbar.ax.tick_params(labelsize=14)\n",
    "\n",
    "\n",
    "\n",
    "\n",
    "#plt.xlabel('Reco Shower Energy [GeV]', fontsize=15)\n",
    "#plt.ylabel('Reco Shower Energy [GeV]', fontsize=15)\n",
    "\n",
    "plt.title('Covariance', fontsize=15)\n",
    "\n",
    "#plt.savefig(\"blockwise_nuWro_cov_input.svg\", bbox_inches='tight')\n",
    "\n",
    "plt.show()"
   ]
  },
  {
   "cell_type": "markdown",
   "id": "182d9aa6",
   "metadata": {},
   "source": [
    "NuWro unisim"
   ]
  },
  {
   "cell_type": "code",
   "execution_count": 101,
   "id": "ebc39dad",
   "metadata": {},
   "outputs": [
    {
     "name": "stdout",
     "output_type": "stream",
     "text": [
      "[[ 2.34642965e-01 -1.69364665e-01 -5.83222905e-02  1.32098287e-01\n",
      "  -2.31006811e-01 -4.82344975e-01  2.38283536e-01 -5.59737812e-01\n",
      "  -1.80925311e-02  2.60765517e+00  3.81361171e-01 -2.63060423e+00\n",
      "  -3.27620918e+00 -1.15696096e-01 -6.73011432e-01 -4.03786660e+00\n",
      "  -4.28361241e-01 -5.51983193e+00  7.55018570e-01  7.27764528e+00]\n",
      " [-1.69364665e-01  1.22246963e-01  4.20968734e-02 -9.53481902e-02\n",
      "   1.66740099e-01  3.48155314e-01 -1.71992420e-01  4.04017257e-01\n",
      "   1.30591406e-02 -1.88219854e+00 -2.75265474e-01  1.89876310e+00\n",
      "   2.36475903e+00  8.35091329e-02  4.85777853e-01  2.91452132e+00\n",
      "   3.09189999e-01  3.98419993e+00 -5.44970386e-01 -5.25298491e+00]\n",
      " [-5.83222905e-02  4.20968734e-02  1.44964481e-02 -3.28340320e-02\n",
      "   5.74184966e-02  1.19890506e-01 -5.92271821e-02  1.39127083e-01\n",
      "   4.49703597e-03 -6.48152491e-01 -9.47902145e-02  6.53856654e-01\n",
      "   8.14326665e-01  2.87571430e-02  1.67282101e-01  1.00364240e+00\n",
      "   1.06472439e-01  1.37199613e+00 -1.87665598e-01 -1.80891399e+00]\n",
      " [ 1.32098287e-01 -9.53481902e-02 -3.28340320e-02  7.43681248e-02\n",
      "  -1.30051220e-01 -2.71548498e-01  1.34147840e-01 -3.15118784e-01\n",
      "  -1.01856553e-02  1.46804649e+00  2.14697071e-01 -1.48096625e+00\n",
      "  -1.84442614e+00 -6.51340901e-02 -3.78889079e-01 -2.27322076e+00\n",
      "  -2.41156967e-01 -3.10753122e+00  4.25057105e-01  4.09713741e+00]\n",
      " [-2.31006811e-01  1.66740099e-01  5.74184966e-02 -1.30051220e-01\n",
      "   2.27427004e-01  4.74870296e-01 -2.34590965e-01  5.51063811e-01\n",
      "   1.78121595e-02 -2.56724553e+00 -3.75451392e-01  2.58983896e+00\n",
      "   3.22543926e+00  1.13903207e-01  6.62582082e-01  3.97529363e+00\n",
      "   4.21723122e-01  5.43429362e+00 -7.43318393e-01 -7.16486694e+00]\n",
      " [-4.82344975e-01  3.48155314e-01  1.19890506e-01 -2.71548498e-01\n",
      "   4.74870296e-01  9.91534841e-01 -4.89828733e-01  1.15062781e+00\n",
      "   3.71920014e-02 -5.36043929e+00 -7.83946984e-01  5.40761464e+00\n",
      "   6.73475565e+00  2.37831254e-01  1.38347929e+00  8.30046051e+00\n",
      "   8.80562909e-01  1.13468699e+01 -1.55205767e+00 -1.49603276e+01]\n",
      " [ 2.38283536e-01 -1.71992420e-01 -5.92271821e-02  1.34147840e-01\n",
      "  -2.34590965e-01 -4.89828733e-01  2.41980592e-01 -5.68422348e-01\n",
      "  -1.83732433e-02  2.64811389e+00  3.87278129e-01 -2.67141902e+00\n",
      "  -3.32704076e+00 -1.17491163e-01 -6.83453449e-01 -4.10051557e+00\n",
      "  -4.35007421e-01 -5.60547413e+00  7.66732958e-01  7.39056060e+00]\n",
      " [-5.59737812e-01  4.04017257e-01  1.39127083e-01 -3.15118784e-01\n",
      "   5.51063811e-01  1.15062781e+00 -5.68422348e-01  1.33524744e+00\n",
      "   4.31595031e-02 -6.22052828e+00 -9.09732228e-01  6.27527297e+00\n",
      "   7.81535536e+00  2.75991567e-01  1.60546022e+00  9.63227947e+00\n",
      "   1.02185030e+00  1.31674889e+01 -1.80108720e+00 -1.73607303e+01]\n",
      " [-1.80925311e-02  1.30591406e-02  4.49703597e-03 -1.01856553e-02\n",
      "   1.78121595e-02  3.71920014e-02 -1.83732433e-02  4.31595031e-02\n",
      "   1.39505432e-03 -2.01067534e-01 -2.94054793e-02  2.02837059e-01\n",
      "   2.52617488e-01  8.92093746e-03  5.18936516e-02  3.11346335e-01\n",
      "   3.30294968e-02  4.25615704e-01 -5.82169466e-02 -5.61154789e-01]\n",
      " [ 2.60765517e+00 -1.88219854e+00 -6.48152491e-01  1.46804649e+00\n",
      "  -2.56724553e+00 -5.36043929e+00  2.64811389e+00 -6.22052828e+00\n",
      "  -2.01067534e-01  2.89796266e+01  4.23817706e+00 -2.92346661e+01\n",
      "  -3.64094607e+01 -1.28576419e+00 -7.47937080e+00 -4.48739800e+01\n",
      "  -4.76050243e+00 -6.13434895e+01  8.39073986e+00  8.08785780e+01]\n",
      " [ 3.81361171e-01 -2.75265474e-01 -9.47902145e-02  2.14697071e-01\n",
      "  -3.75451392e-01 -7.83946984e-01  3.87278129e-01 -9.09732228e-01\n",
      "  -2.94054793e-02  4.23817706e+00  6.19819746e-01 -4.27547577e+00\n",
      "  -5.32476637e+00 -1.88038873e-01 -1.09383389e+00 -6.56267506e+00\n",
      "  -6.96208149e-01 -8.97128779e+00  1.22711868e+00  1.18282316e+01]\n",
      " [-2.63060423e+00  1.89876310e+00  6.53856654e-01 -1.48096625e+00\n",
      "   2.58983896e+00  5.40761464e+00 -2.67141902e+00  6.27527297e+00\n",
      "   2.02837059e-01 -2.92346661e+01 -4.27547577e+00  2.94919501e+01\n",
      "   3.67298876e+01  1.29707975e+00  7.54519412e+00  4.52689002e+01\n",
      "   4.80239794e+00  6.18833521e+01 -8.46458382e+00 -8.15903620e+01]\n",
      " [-3.27620918e+00  2.36475903e+00  8.14326665e-01 -1.84442614e+00\n",
      "   3.22543926e+00  6.73475565e+00 -3.32704076e+00  7.81535536e+00\n",
      "   2.52617488e-01 -3.64094607e+01 -5.32476637e+00  3.67298876e+01\n",
      "   4.57441653e+01  1.61541008e+00  9.39694156e+00  5.63788290e+01\n",
      "   5.98100619e+00  7.70708127e+01 -1.05419686e+01 -1.01614332e+02]\n",
      " [-1.15696096e-01  8.35091329e-02  2.87571430e-02 -6.51340901e-02\n",
      "   1.13903207e-01  2.37831254e-01 -1.17491163e-01  2.75991567e-01\n",
      "   8.92093746e-03 -1.28576419e+00 -1.88038873e-01  1.29707975e+00\n",
      "   1.61541008e+00  5.70466138e-02  3.31843723e-01  1.99096274e+00\n",
      "   2.11213335e-01  2.72167974e+00 -3.72279224e-01 -3.58840993e+00]\n",
      " [-6.73011432e-01  4.85777853e-01  1.67282101e-01 -3.78889079e-01\n",
      "   6.62582082e-01  1.38347929e+00 -6.83453449e-01  1.60546022e+00\n",
      "   5.18936516e-02 -7.47937080e+00 -1.09383389e+00  7.54519412e+00\n",
      "   9.39694156e+00  3.31843723e-01  1.93035571e+00  1.15815549e+01\n",
      "   1.22864119e+00  1.58321814e+01 -2.16557155e+00 -2.08740052e+01]\n",
      " [-4.03786660e+00  2.91452132e+00  1.00364240e+00 -2.27322076e+00\n",
      "   3.97529363e+00  8.30046051e+00 -4.10051557e+00  9.63227947e+00\n",
      "   3.11346335e-01 -4.48739800e+01 -6.56267506e+00  4.52689002e+01\n",
      "   5.63788290e+01  1.99096274e+00  1.15815549e+01  6.94858534e+01\n",
      "   7.37147838e+00  9.49883367e+01 -1.29927793e+01 -1.25237766e+02]\n",
      " [-4.28361241e-01  3.09189999e-01  1.06472439e-01 -2.41156967e-01\n",
      "   4.21723122e-01  8.80562909e-01 -4.35007421e-01  1.02185030e+00\n",
      "   3.30294968e-02 -4.76050243e+00 -6.96208149e-01  4.80239794e+00\n",
      "   5.98100619e+00  2.11213335e-01  1.22864119e+00  7.37147838e+00\n",
      "   7.82010883e-01  1.00769356e+01 -1.37835239e+00 -1.32859775e+01]\n",
      " [-5.51983193e+00  3.98419993e+00  1.37199613e+00 -3.10753122e+00\n",
      "   5.43429362e+00  1.13468699e+01 -5.60547413e+00  1.31674889e+01\n",
      "   4.25615704e-01 -6.13434895e+01 -8.97128779e+00  6.18833521e+01\n",
      "   7.70708127e+01  2.72167974e+00  1.58321814e+01  9.49883367e+01\n",
      "   1.00769356e+01  1.29850663e+02 -1.77613491e+01 -1.71202144e+02]\n",
      " [ 7.55018570e-01 -5.44970386e-01 -1.87665598e-01  4.25057105e-01\n",
      "  -7.43318393e-01 -1.55205767e+00  7.66732958e-01 -1.80108720e+00\n",
      "  -5.82169466e-02  8.39073986e+00  1.22711868e+00 -8.46458382e+00\n",
      "  -1.05419686e+01 -3.72279224e-01 -2.16557155e+00 -1.29927793e+01\n",
      "  -1.37835239e+00 -1.77613491e+01  2.42944868e+00  2.34175243e+01]\n",
      " [ 7.27764528e+00 -5.25298491e+00 -1.80891399e+00  4.09713741e+00\n",
      "  -7.16486694e+00 -1.49603276e+01  7.39056060e+00 -1.73607303e+01\n",
      "  -5.61154789e-01  8.08785780e+01  1.18282316e+01 -8.15903620e+01\n",
      "  -1.01614332e+02 -3.58840993e+00 -2.08740052e+01 -1.25237766e+02\n",
      "  -1.32859775e+01 -1.71202144e+02  2.34175243e+01  2.25722176e+02]]\n"
     ]
    }
   ],
   "source": [
    "nuWro_unisim = pd.read_csv(\"nuWro_extra_unisim_uncertainties_angle_\"+ending+\".csv\", header=None)\n",
    "\n",
    "nuWro_unisim = nuWro_unisim.values\n",
    "print(nuWro_unisim)"
   ]
  },
  {
   "cell_type": "code",
   "execution_count": 102,
   "id": "5d899670",
   "metadata": {},
   "outputs": [
    {
     "data": {
      "image/png": "[encoded data removed]",
      "text/plain": [
       "<Figure size 720x432 with 2 Axes>"
      ]
     },
     "metadata": {
      "needs_background": "light"
     },
     "output_type": "display_data"
    }
   ],
   "source": [
    "fig = plt.figure(figsize=(10, 6))\n",
    "\n",
    "bins = np.arange(0, 21, 1)\n",
    "        \n",
    "plt.pcolor(bins, bins, nuWro_unisim, cmap='OrRd', edgecolors='k')#, vmin=-1, vmax=1)\n",
    "            \n",
    "cbar = plt.colorbar()\n",
    "cbar.ax.tick_params(labelsize=14)\n",
    "\n",
    "\n",
    "\n",
    "\n",
    "#plt.xlabel('Reco Shower Energy [GeV]', fontsize=15)\n",
    "#plt.ylabel('Reco Shower Energy [GeV]', fontsize=15)\n",
    "\n",
    "plt.title('Covariance', fontsize=15)\n",
    "\n",
    "plt.show()\n"
   ]
  },
  {
   "cell_type": "markdown",
   "id": "dbf94e3f",
   "metadata": {},
   "source": [
    "Now make the total matrix"
   ]
  },
  {
   "cell_type": "code",
   "execution_count": 103,
   "id": "717f8bfa",
   "metadata": {},
   "outputs": [],
   "source": [
    "total_nuWro_input_cov = nue_numu_nuWro_cov_stats + blockwise_genie_err + nuWro_unisim"
   ]
  },
  {
   "cell_type": "code",
   "execution_count": 104,
   "id": "5ca41585",
   "metadata": {},
   "outputs": [],
   "source": [
    "np.savetxt(\"data_covmat_MC_nuWro_input_angleDiff_comb_\"+ending+\".csv\", \n",
    "           total_nuWro_input_cov,\n",
    "           delimiter =\", \", \n",
    "           fmt ='% s')"
   ]
  },
  {
   "cell_type": "code",
   "execution_count": 105,
   "id": "555b51b8",
   "metadata": {},
   "outputs": [
    {
     "name": "stdout",
     "output_type": "stream",
     "text": [
      "[[ 2.96032241e-01 -1.52148707e-01 -3.90325534e-02  1.45128963e-01\n",
      "  -1.98062665e-01 -4.36077437e-01  3.00575015e-01 -4.75243401e-01\n",
      "   6.93730146e-02  2.51336243e+00  6.29353655e-01 -2.38918037e+00\n",
      "  -3.06416100e+00  6.14039858e-02 -3.82436724e-01 -3.64012066e+00\n",
      "  -1.22810300e-01 -4.92426217e+00  1.63449832e+00  7.26035954e+00]\n",
      " [-1.52148707e-01  3.03935141e-01  6.43881472e-02 -7.73725978e-02\n",
      "   2.00063014e-01  3.99851351e-01 -1.00967526e-01  4.99678980e-01\n",
      "   1.35179306e-01 -1.84792974e+00 -1.20181991e-02  2.14912949e+00\n",
      "   2.60370746e+00  3.26846557e-01  8.28873250e-01  3.36848612e+00\n",
      "   7.43248305e-01  4.68155219e+00  4.70306242e-01 -4.66457342e+00]\n",
      " [-3.90325534e-02  6.43881472e-02  2.42389877e-01  1.04211874e-02\n",
      "   1.03569960e-01  1.96889976e-01  5.07143728e-02  3.06774322e-01\n",
      "   2.92620179e-01 -2.44376315e-02  3.15958987e-01  9.34513048e-01\n",
      "   1.14676879e+00  4.74906236e-01  7.15738044e-01  1.68426317e+00\n",
      "   1.08485359e+00  2.79885398e+00  2.28623319e+00  2.54581429e+00]\n",
      " [ 1.45128963e-01 -7.73725978e-02  1.04211874e-02  9.25995078e-01\n",
      "  -7.86595641e-02 -1.76069783e-01  2.94254285e-01 -4.21931157e-02\n",
      "   7.30997230e-01  4.21767440e+00  8.15382572e-01 -1.40390011e+00\n",
      "  -1.58248111e+00  7.90511711e-01  4.56815475e-01 -1.35581557e+00\n",
      "   2.22906929e+00 -3.10841482e-02  6.29123326e+00  2.20485907e+01]\n",
      " [-1.98062665e-01  2.00063014e-01  1.03569960e-01 -7.86595641e-02\n",
      "   6.75819620e-01  5.85598293e-01 -8.55494472e-02  7.69660254e-01\n",
      "   3.72933120e-01 -1.98329318e+00  1.81240425e-01  3.03911012e+00\n",
      "   3.69487502e+00  6.99579369e-01  1.42086626e+00  4.92111539e+00\n",
      "   1.62472166e+00  7.25871924e+00  2.26440494e+00 -2.65871820e+00]\n",
      " [-4.36077437e-01  3.99851351e-01  1.96889976e-01 -1.76069783e-01\n",
      "   5.85598293e-01  1.71522734e+00 -2.44034315e-01  1.52668451e+00\n",
      "   6.90129924e-01 -4.00482288e+00  1.28021837e-01  6.08087122e+00\n",
      "   7.48966880e+00  1.25692128e+00  2.66624446e+00  9.90861712e+00\n",
      "   3.09975927e+00  1.46588868e+01  4.09673214e+00 -4.90038387e+00]\n",
      " [ 3.00575015e-01 -1.00967526e-01  5.07143728e-02  2.94254285e-01\n",
      "  -8.55494472e-02 -2.44034315e-01  7.93652045e-01 -1.91226953e-02\n",
      "   1.05265613e+00  5.37143550e+00  1.75084240e+00 -1.86191274e+00\n",
      "  -2.33853354e+00  1.41947326e+00  1.14063946e+00 -1.85130535e+00\n",
      "   3.18301959e+00 -5.42991193e-01  9.61451228e+00  2.62098134e+01]\n",
      " [-4.75243401e-01  4.99678980e-01  3.06774322e-01 -4.21931157e-02\n",
      "   7.69660254e-01  1.52668451e+00 -1.91226953e-02  2.97455039e+00\n",
      "   1.87636131e+00 -9.43126700e-01  1.15398053e+00  7.32403174e+00\n",
      "   9.22735257e+00  2.77216445e+00  4.43530779e+00  1.30268600e+01\n",
      "   7.21565364e+00  2.16259523e+01  1.34838828e+01  1.86241469e+01]\n",
      " [ 6.93730146e-02  1.35179306e-01  2.92620179e-01  7.30997230e-01\n",
      "   3.72933120e-01  6.90129924e-01  1.05265613e+00  1.87636131e+00\n",
      "   5.98143595e+00  1.76342619e+01  4.00522012e+00  8.54728410e-01\n",
      "   2.10661142e+00  5.68059038e+00  5.67438845e+00  6.51540667e+00\n",
      "   1.63157439e+01  2.08975881e+01  3.90421886e+01  1.16505659e+02]\n",
      " [ 2.51336243e+00 -1.84792974e+00 -2.44376315e-02  4.21767440e+00\n",
      "  -1.98329318e+00 -4.00482288e+00  5.37143550e+00 -9.43126700e-01\n",
      "   1.76342619e+01  1.08867559e+02  1.45082412e+01 -3.35169361e+01\n",
      "  -3.52896793e+01  1.64935834e+01  7.09955877e+00 -3.10205564e+01\n",
      "   5.39449349e+01  6.89696750e+00  1.46656670e+02  5.73312525e+02]\n",
      " [ 6.29353655e-01 -1.20181991e-02  3.15958987e-01  8.15382572e-01\n",
      "   1.81240425e-01  1.28021837e-01  1.75084240e+00  1.15398053e+00\n",
      "   4.00522012e+00  1.45082412e+01  1.12147755e+01 -1.15694842e+00\n",
      "  -1.72593426e+00  5.46831621e+00  5.62701571e+00  1.93541389e+00\n",
      "   1.30893138e+01  1.04542700e+01  3.58198961e+01  8.55955769e+01]\n",
      " [-2.38918037e+00  2.14912949e+00  9.34513048e-01 -1.40390011e+00\n",
      "   3.03911012e+00  6.08087122e+00 -1.86191274e+00  7.32403174e+00\n",
      "   8.54728410e-01 -3.35169361e+01 -1.15694842e+00  3.82482560e+01\n",
      "   4.01607093e+01  3.70838059e+00  1.16322484e+01  5.11743561e+01\n",
      "   7.44107978e+00  6.83281622e+01 -5.19300047e-01 -1.01547067e+02]\n",
      " [-3.06416100e+00  2.60370746e+00  1.14676879e+00 -1.58248111e+00\n",
      "   3.69487502e+00  7.48966880e+00 -2.33853354e+00  9.22735257e+00\n",
      "   2.10661142e+00 -3.52896793e+01 -1.72593426e+00  4.01607093e+01\n",
      "   5.62517981e+01  5.31027289e+00  1.45343909e+01  6.31885595e+01\n",
      "   1.25642972e+01  8.82339702e+01  7.07158816e+00 -8.85386956e+01]\n",
      " [ 6.14039858e-02  3.26846557e-01  4.74906236e-01  7.90511711e-01\n",
      "   6.99579369e-01  1.25692128e+00  1.41947326e+00  2.77216445e+00\n",
      "   5.68059038e+00  1.64935834e+01  5.46831621e+00  3.70838059e+00\n",
      "   5.31027289e+00  1.37347528e+01  8.52179418e+00  1.15849562e+01\n",
      "   1.95073618e+01  2.83051458e+01  4.60826342e+01  1.15417259e+02]\n",
      " [-3.82436724e-01  8.28873250e-01  7.15738044e-01  4.56815475e-01\n",
      "   1.42086626e+00  2.66624446e+00  1.14063946e+00  4.43530779e+00\n",
      "   5.67438845e+00  7.09955877e+00  5.62701571e+00  1.16322484e+01\n",
      "   1.45343909e+01  8.52179418e+00  1.99181601e+01  2.34948545e+01\n",
      "   2.05662562e+01  4.31198934e+01  4.55921904e+01  8.13671376e+01]\n",
      " [-3.64012066e+00  3.36848612e+00  1.68426317e+00 -1.35581557e+00\n",
      "   4.92111539e+00  9.90861712e+00 -1.85130535e+00  1.30268600e+01\n",
      "   6.51540667e+00 -3.10205564e+01  1.93541389e+00  5.11743561e+01\n",
      "   6.31885595e+01  1.15849562e+01  2.34948545e+01  1.03140809e+02\n",
      "   2.92925821e+01  1.28592539e+02  4.63695536e+01 -1.66818973e+01]\n",
      " [-1.22810300e-01  7.43248305e-01  1.08485359e+00  2.22906929e+00\n",
      "   1.62472166e+00  3.09975927e+00  3.18301959e+00  7.21565364e+00\n",
      "   1.63157439e+01  5.39449349e+01  1.30893138e+01  7.44107978e+00\n",
      "   1.25642972e+01  1.95073618e+01  2.05662562e+01  2.92925821e+01\n",
      "   7.77430699e+01  8.01226858e+01  1.31384551e+02  3.76526398e+02]\n",
      " [-4.92426217e+00  4.68155219e+00  2.79885398e+00 -3.10841482e-02\n",
      "   7.25871924e+00  1.46588868e+01 -5.42991193e-01  2.16259523e+01\n",
      "   2.08975881e+01  6.89696750e+00  1.04542700e+01  6.83281622e+01\n",
      "   8.82339702e+01  2.83051458e+01  4.31198934e+01  1.28592539e+02\n",
      "   8.01226858e+01  2.57600342e+02  1.60737030e+02  2.99496532e+02]\n",
      " [ 1.63449832e+00  4.70306242e-01  2.28623319e+00  6.29123326e+00\n",
      "   2.26440494e+00  4.09673214e+00  9.61451228e+00  1.34838828e+01\n",
      "   3.90421886e+01  1.46656670e+02  3.58198961e+01 -5.19300047e-01\n",
      "   7.07158816e+00  4.60826342e+01  4.55921904e+01  4.63695536e+01\n",
      "   1.31384551e+02  1.60737030e+02  3.94390313e+02  9.74546941e+02]\n",
      " [ 7.26035954e+00 -4.66457342e+00  2.54581429e+00  2.20485907e+01\n",
      "  -2.65871820e+00 -4.90038387e+00  2.62098134e+01  1.86241469e+01\n",
      "   1.16505659e+02  5.73312525e+02  8.55955769e+01 -1.01547067e+02\n",
      "  -8.85386956e+01  1.15417259e+02  8.13671376e+01 -1.66818973e+01\n",
      "   3.76526398e+02  2.99496532e+02  9.74546941e+02  3.53783122e+03]]\n"
     ]
    }
   ],
   "source": [
    "total_nuWro_input_cov = pd.read_csv(\"data_covmat_MC_nuWro_input_angleDiff_comb_\"+ending+\".csv\", header=None)\n",
    "\n",
    "total_nuWro_input_cov = total_nuWro_input_cov.values\n",
    "print(total_nuWro_input_cov)"
   ]
  },
  {
   "cell_type": "code",
   "execution_count": 107,
   "id": "5a5ed200",
   "metadata": {},
   "outputs": [
    {
     "data": {
      "image/png": "[encoded data removed]",
      "text/plain": [
       "<Figure size 720x432 with 2 Axes>"
      ]
     },
     "metadata": {
      "needs_background": "light"
     },
     "output_type": "display_data"
    }
   ],
   "source": [
    "fig = plt.figure(figsize=(10, 6))\n",
    "bins = np.arange(0, 21, 1)\n",
    "\n",
    "\n",
    "plt.pcolor(bins, bins, total_nuWro_input_cov, cmap='OrRd', edgecolors='k')#, vmin=-1, vmax=1)\n",
    "            \n",
    "cbar = plt.colorbar()\n",
    "cbar.ax.tick_params(labelsize=14)\n",
    "\n",
    "plt.xlabel(\"Bin Number\", fontsize=15)\n",
    "plt.ylabel(\"Bin Number\", fontsize=15)\n",
    "\n",
    "\n",
    "#plt.xlabel('Reco Shower Energy [GeV]', fontsize=15)\n",
    "#plt.ylabel('Reco Shower Energy [GeV]', fontsize=15)\n",
    "\n",
    "plt.title('Covariance', fontsize=15)\n",
    "\n",
    "plt.savefig(\"blockwise_nuWro_cov_input_angle_\"+ending+\".svg\", bbox_inches='tight')\n",
    "\n",
    "plt.show()"
   ]
  },
  {
   "cell_type": "code",
   "execution_count": null,
   "id": "f5440bf0",
   "metadata": {},
   "outputs": [],
   "source": []
  }
 ],
 "metadata": {
  "kernelspec": {
   "display_name": "Python 3 (ipykernel)",
   "language": "python",
   "name": "python3"
  },
  "language_info": {
   "codemirror_mode": {
    "name": "ipython",
    "version": 3
   },
   "file_extension": ".py",
   "mimetype": "text/x-python",
   "name": "python",
   "nbconvert_exporter": "python",
   "pygments_lexer": "ipython3",
   "version": "3.8.12"
  }
 },
 "nbformat": 4,
 "nbformat_minor": 5
}
