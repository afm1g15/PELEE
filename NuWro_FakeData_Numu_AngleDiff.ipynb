{
 "cells": [
  {
   "cell_type": "code",
   "execution_count": 103,
   "id": "13875a64",
   "metadata": {},
   "outputs": [],
   "source": [
    "#######################"
   ]
  },
  {
   "cell_type": "code",
   "execution_count": 1,
   "id": "84d55dcc",
   "metadata": {},
   "outputs": [],
   "source": [
    "\n",
    "\n",
    "nuwro = True\n",
    "ISRUN3 = False\n",
    "\n",
    "\n",
    "#True for normal, false for stat err\n",
    "#useWeights = True\n"
   ]
  },
  {
   "cell_type": "code",
   "execution_count": 2,
   "id": "16234578",
   "metadata": {},
   "outputs": [
    {
     "name": "stdout",
     "output_type": "stream",
     "text": [
      "Welcome to JupyROOT 6.24/02\n"
     ]
    }
   ],
   "source": [
    "import sys\n",
    "\n",
    "#sys.path.insert(0, 'backend_functions')\n",
    "\n",
    "#import selection_functions as sf\n",
    "\n",
    "import importlib\n",
    "\n",
    "import uproot\n",
    "import matplotlib.pylab as pylab\n",
    "import numpy as np\n",
    "import math\n",
    "from sklearn.model_selection import train_test_split\n",
    "import pickle\n",
    "import xgboost as xgb\n",
    "\n",
    "import awkward\n",
    "import matplotlib.pyplot as plt\n",
    "import pandas as pd\n",
    "\n",
    "import ROOT\n",
    "from ROOT import TH1F, TH2F, TDirectory, TH1D\n",
    "\n",
    "#import top \n",
    "#from top import *\n",
    "\n",
    "#importlib.reload(sf)\n",
    "#from selection_functions import *"
   ]
  },
  {
   "cell_type": "code",
   "execution_count": 3,
   "id": "8f915b84",
   "metadata": {},
   "outputs": [],
   "source": [
    "\n",
    "\n",
    "fold = \"nuselection\"\n",
    "tree = \"NeutrinoSelectionFilter\"\n",
    "\n"
   ]
  },
  {
   "cell_type": "code",
   "execution_count": 4,
   "id": "cc93cf39",
   "metadata": {},
   "outputs": [],
   "source": [
    "if nuwro: \n",
    "    path = \"/media/alex/TOSHIBA EXT/\""
   ]
  },
  {
   "cell_type": "code",
   "execution_count": 5,
   "id": "97dce84d",
   "metadata": {},
   "outputs": [],
   "source": [
    "\n",
    "\n",
    "if nuwro: \n",
    "    overlay = uproot.open(path+\"neutrinoselection_filt_run1_overlay_nuwro.root\")[fold][tree]\n",
    "    nue = uproot.open(path+\"neutrinoselection_filt_run1_overlay_nuwro_intrinsic.root\")[fold][tree]\n",
    "\n",
    "uproot_v = [overlay,nue]"
   ]
  },
  {
   "cell_type": "code",
   "execution_count": 6,
   "id": "f844e58a",
   "metadata": {},
   "outputs": [
    {
     "name": "stdout",
     "output_type": "stream",
     "text": [
      "['_opfilter_pe_veto', 'shr_tkfit_dedx_Y', 'opening_angle', 'reco_nu_vtx_sce_x', 'true_nu_vtx_sce_x', 'shr_energy_cali', 'true_nu_vtx_y', 'trk_range_muon_mom_v', 'trk_sce_end_y_v', 'true_nu_vtx_sce_y', 'shrsubclusters1', 'interaction', 'weightTune', 'elec_py', 'n_tracks_contained', 'elec_px', 'elec_e', 'elec_pz', 'shr_score', 'NeutrinoEnergy2', 'shrmoliereavg', 'shr_px', 'reco_nu_vtx_sce_z', 'contained_fraction', 'shr_pz', 'nu_pdg', 'true_e_visible', 'tksh_distance', 'trk_phi', 'true_nu_vtx_x', 'mc_pz', 'selected', 'nproton', 'trk_energy', 'weightSplineTimesTune', 'swtrig_pre', 'mc_px', 'trk_score_v', 'shr_tkfit_npoints', 'mc_py', 'run', 'tksh_angle', 'trk_mcs_muon_mom_v', 'n_showers_contained', 'nslice', 'npion', 'npi0', 'shrsubclusters0', 'shr_tkfit_npointsvalid', 'true_nu_pz', 'true_nu_vtx_sce_z', 'shr_theta', 'trk_sce_end_z_v', 'topological_score', 'ccnc', 'trkshrhitdist2', 'reco_nu_vtx_sce_y', 'nu_e', 'true_nu_vtx_z', 'shr_energy_tot_cali', 'shrsubclusters2', 'mc_pdg', 'trk_theta', 'true_nu_py', 'shr_phi', 'trk_sce_end_x_v', 'muon_e', 'shr_py', 'proton_e', '_opfilter_pe_beam', 'ppfx_cv', 'true_nu_px']\n"
     ]
    }
   ],
   "source": [
    "\n",
    "\n",
    "variables = [\n",
    "    \"selected\", \"nu_pdg\", \n",
    "    \"trk_score_v\", \"_opfilter_pe_beam\", \"_opfilter_pe_veto\",\n",
    "    \"shr_tkfit_dedx_Y\", \"trk_theta\", \"trk_phi\",\n",
    "    \"ccnc\", \"shr_px\", \"shr_py\", \"shr_pz\",\n",
    "    \"n_tracks_contained\", \n",
    "    \"NeutrinoEnergy2\", \"shr_theta\", \"shr_phi\",\n",
    "    \"reco_nu_vtx_sce_x\",\"reco_nu_vtx_sce_y\",\"reco_nu_vtx_sce_z\",\n",
    "    \"true_nu_vtx_x\", \"true_nu_vtx_y\" , \"true_nu_vtx_z\", \n",
    "    \"nproton\", \"nu_e\", \"n_showers_contained\",\n",
    "    \"shr_score\", \"topological_score\",\n",
    "    \"trk_energy\", \"tksh_distance\", \"tksh_angle\",\n",
    "    \"npi0\", \"trk_mcs_muon_mom_v\", \"trk_range_muon_mom_v\",\n",
    "    \"shr_energy_tot_cali\", \"shr_energy_cali\", \n",
    "    \"nslice\", \"true_nu_vtx_sce_x\", \"true_nu_vtx_sce_y\", \"true_nu_vtx_sce_z\",\n",
    "    \"contained_fraction\",\n",
    "    \"npion\", \"trk_sce_end_z_v\", \"trk_sce_end_y_v\", \"trk_sce_end_x_v\",\n",
    "    \"shrmoliereavg\", \"muon_e\", \"proton_e\",\n",
    "    \"shrsubclusters0\",\"shrsubclusters1\",\"shrsubclusters2\", \n",
    "    \"shr_tkfit_npointsvalid\",\"shr_tkfit_npoints\", \"true_e_visible\", \"trkshrhitdist2\", \n",
    "    \"weightSplineTimesTune\", \"weightTune\", \"true_nu_px\", \"true_nu_py\", \"true_nu_pz\", \n",
    "    \"elec_e\", \"proton_e\", \"mc_px\", \"mc_py\", \"mc_pz\", \"elec_px\", \"elec_py\", \"elec_pz\", \n",
    "    \"swtrig_pre\", \"ppfx_cv\", \"mc_pdg\",  'interaction', 'run', \"opening_angle\"]\n",
    "\n",
    "\n",
    "variables = list(set(variables))\n",
    "print(variables)\n"
   ]
  },
  {
   "cell_type": "code",
   "execution_count": 7,
   "id": "3501ff6c",
   "metadata": {},
   "outputs": [
    {
     "name": "stdout",
     "output_type": "stream",
     "text": [
      "trk_llr_pid_v  [[] [] [0.96992034 -0.031569537] ... [0.96793294 0.40650022] [] []]\n",
      "trk_score_v  [[] [] [0.9998714 0.50025755] ... [1.0 0.35099977] [] []]\n"
     ]
    },
    {
     "name": "stderr",
     "output_type": "stream",
     "text": [
      "/home/alex/miniconda3/envs/vintageXgboostVintageUprootEnv/lib/python3.8/site-packages/awkward/array/jagged.py:1043: RuntimeWarning: overflow encountered in power\n",
      "  result = getattr(ufunc, method)(*inputs, **kwargs)\n",
      "/home/alex/miniconda3/envs/vintageXgboostVintageUprootEnv/lib/python3.8/site-packages/awkward/array/jagged.py:1043: RuntimeWarning: overflow encountered in true_divide\n",
      "  result = getattr(ufunc, method)(*inputs, **kwargs)\n"
     ]
    },
    {
     "name": "stdout",
     "output_type": "stream",
     "text": [
      "updated proton mask test\n",
      "runtime =  30.86820697784424\n"
     ]
    }
   ],
   "source": [
    "import load_data_run123\n",
    "\n",
    "#overlay = overlay.pandas.df(variables, flatten=False)\n",
    "import time\n",
    "s = time.time()\n",
    "\n",
    "#df_v = [overlay]\n",
    "uproot_v = [overlay]\n",
    "var_v = [variables]\n",
    "\n",
    "for ii, CV in enumerate(uproot_v):\n",
    "    CVDF  = CV.pandas.df(var_v[ii], flatten=False)\n",
    "    load_data_run123.process_uproot_numu(CV,CVDF)\n",
    "    if ii == 0:\n",
    "        overlay = CVDF\n",
    "\n",
    "s2 = time.time()\n",
    "print(\"runtime = \", s2-s)"
   ]
  },
  {
   "cell_type": "code",
   "execution_count": 8,
   "id": "a12407c9",
   "metadata": {},
   "outputs": [
    {
     "name": "stdout",
     "output_type": "stream",
     "text": [
      "trk_llr_pid_v  [[-0.78143746 0.38416666] [0.87407523] [0.95106965 0.9559888 0.9254303 0.15696444] ... [] [0.9717339] [0.964979 0.9468219 0.45449623 ... 0.40842512 0.27252463 -0.024122704]]\n",
      "trk_score_v  [[0.9562631 0.6825045] [0.003897016] [0.20598558 0.9998898 0.8317998 0.6877012] ... [] [0.025898064] [0.0025717707 0.99560267 0.0046345955 ... 0.046564847 0.04777992 0.8479064]]\n",
      "updated proton mask test\n",
      "runtime =  26.43339443206787\n"
     ]
    }
   ],
   "source": [
    "\n",
    "\n",
    "#nue = nue.pandas.df(variables, flatten=False)\n",
    "\n",
    "import time\n",
    "s = time.time()\n",
    "\n",
    "#df_v = [overlay]\n",
    "uproot_v = [nue]\n",
    "var_v = [variables]\n",
    "\n",
    "for ii, CV in enumerate(uproot_v):\n",
    "    CVDF  = CV.pandas.df(var_v[ii], flatten=False)\n",
    "    load_data_run123.process_uproot_numu(CV,CVDF)\n",
    "    if ii == 0:\n",
    "        nue = CVDF\n",
    "\n",
    "s2 = time.time()\n",
    "print(\"runtime = \", s2-s)"
   ]
  },
  {
   "cell_type": "code",
   "execution_count": 9,
   "id": "400907ac",
   "metadata": {},
   "outputs": [],
   "source": [
    "df_v = [overlay,nue]\n",
    "uproot_v = [overlay,nue]"
   ]
  },
  {
   "cell_type": "code",
   "execution_count": 10,
   "id": "093dd0b5",
   "metadata": {},
   "outputs": [
    {
     "name": "stdout",
     "output_type": "stream",
     "text": [
      "280045\n",
      "132027\n"
     ]
    }
   ],
   "source": [
    "for i,df in enumerate(df_v):  \n",
    "    df[\"bnbdata\"] = np.zeros_like(df[\"nslice\"])\n",
    "    df[\"extdata\"] = np.zeros_like(df[\"nslice\"])\n",
    "    print(len(df[\"extdata\"]))"
   ]
  },
  {
   "cell_type": "code",
   "execution_count": 11,
   "id": "09e93a02",
   "metadata": {},
   "outputs": [
    {
     "data": {
      "text/plain": [
       "\"\\ndf_v = [overlay,nue]\\n\\n\\nfor i,df in enumerate(df_v):\\n    up = uproot_v[i]\\n    trk_llr_pid_v = up.array('trk_llr_pid_score_v')\\n    trk_id = up.array('trk_id')-1 # I think we need this -1 to get the right result\\n    trk_llr_pid_v_sel = awkward.fromiter([pidv[tid] if tid<len(pidv) else 9999. for pidv,tid in zip(trk_llr_pid_v,trk_id)])\\n    df['trkpid'] = trk_llr_pid_v_sel\\n    df['subcluster'] = df['shrsubclusters0'] + df['shrsubclusters1'] + df['shrsubclusters2']\\n\\n    df['NeutrinoEnergy2_GeV'] = df['NeutrinoEnergy2']/1000\\n\\n\""
      ]
     },
     "execution_count": 11,
     "metadata": {},
     "output_type": "execute_result"
    }
   ],
   "source": [
    "\"\"\"\n",
    "df_v = [overlay,nue]\n",
    "\n",
    "\n",
    "for i,df in enumerate(df_v):\n",
    "    up = uproot_v[i]\n",
    "    trk_llr_pid_v = up.array('trk_llr_pid_score_v')\n",
    "    trk_id = up.array('trk_id')-1 # I think we need this -1 to get the right result\n",
    "    trk_llr_pid_v_sel = awkward.fromiter([pidv[tid] if tid<len(pidv) else 9999. for pidv,tid in zip(trk_llr_pid_v,trk_id)])\n",
    "    df['trkpid'] = trk_llr_pid_v_sel\n",
    "    df['subcluster'] = df['shrsubclusters0'] + df['shrsubclusters1'] + df['shrsubclusters2']\n",
    "\n",
    "    df['NeutrinoEnergy2_GeV'] = df['NeutrinoEnergy2']/1000\n",
    "\n",
    "\"\"\""
   ]
  },
  {
   "cell_type": "code",
   "execution_count": 12,
   "id": "f68e58f3",
   "metadata": {},
   "outputs": [],
   "source": [
    "from scipy.spatial.transform import Rotation as R\n",
    "from numpy import arccos, array\n",
    "from numpy.linalg import norm\n",
    "\n",
    "# Note: returns angle in radians\n",
    "def theta(v, w): return arccos(v.dot(w)/(norm(v)*norm(w)))* 180 / 3.1415926\n",
    "\n",
    "def GetNuMIAngle( px,  py,  pz):\n",
    "    r = R.from_matrix([[0.92103853804025681562   , 0.022713504803924120662, 0.38880857519374290021  ],\n",
    "                       [4.6254001262154668408e-05, 0.99829162468141474651 , -0.058427989452906302359],\n",
    "                       [-0.38947144863934973769  , 0.053832413938664107345, 0.91946400794392302291  ]])  \n",
    "    r = r.inv()\n",
    "    beamCoords = r.apply([px,  py,  pz])\n",
    "    beamDir    = [0,0,1]\n",
    "    #print(theta(beamCoords,beamDir))\n",
    "    return theta(beamCoords,beamDir)\n",
    "\n",
    "def GetNuMIAnglePol( phiBNB,  thetaBNB):\n",
    "    px = math.sin(thetaBNB)*math.cos(phiBNB)\n",
    "    py = math.sin(thetaBNB)*math.sin(phiBNB)\n",
    "    pz = math.cos(thetaBNB)\n",
    "    return GetNuMIAngle( px,  py,  pz)"
   ]
  },
  {
   "cell_type": "code",
   "execution_count": 13,
   "id": "02a7f29c",
   "metadata": {},
   "outputs": [
    {
     "data": {
      "text/plain": [
       "1.8690124908136228"
      ]
     },
     "execution_count": 13,
     "metadata": {},
     "output_type": "execute_result"
    }
   ],
   "source": [
    "def vectorFromNuMITarget(vtxX,  vtxY, vtxZ):\n",
    "    numiTarget      = np.array([-31387.58422, -3316.402543, -60100.2414])\n",
    "    nuInteraction   = np.array([vtxX,  vtxY, vtxZ])\n",
    "    directionVector = nuInteraction - numiTarget\n",
    "    return directionVector\n",
    "\n",
    "def angleFromNuMITarget(vtxX,  vtxY, vtxZ, thetaBNB, phiBNB):\n",
    "    v1 = vectorFromNuMITarget(vtxX,  vtxY, vtxZ)  \n",
    "    norm = np.linalg.norm(v1)\n",
    "    v1 = v1/norm\n",
    "    v2 = [np.cos(phiBNB)*np.sin(thetaBNB),np.sin(phiBNB)*np.sin(thetaBNB), np.cos(thetaBNB) ]\n",
    "    dot_product = np.dot(v1, v2)\n",
    "    angle = np.arccos(dot_product)\n",
    "    return angle #dot_product # angle*180/3.14159265\n",
    "\n",
    "\n",
    "\n",
    "angleFromNuMITarget(1,1,1,1.4,3.)"
   ]
  },
  {
   "cell_type": "code",
   "execution_count": 14,
   "id": "b7acd310",
   "metadata": {},
   "outputs": [],
   "source": [
    "#RERUN IF CHANGING\n",
    "\n",
    "isTruth = False\n",
    "\n",
    "if isTruth == False:\n",
    "\n",
    "    nue.query(\"nu_e > 0 and nslice == 1 and ( (_opfilter_pe_beam > 0 and _opfilter_pe_veto < 20) or bnbdata == 1 or extdata == 1)\\\n",
    "    and reco_nu_vtx_sce_x > 15 and reco_nu_vtx_sce_x < 245 \\\n",
    "    and reco_nu_vtx_sce_y > -105 and reco_nu_vtx_sce_y < 105 \\\n",
    "    and reco_nu_vtx_sce_z > 10 and reco_nu_vtx_sce_z < 990 \\\n",
    "    and n_muons_tot > 0 and n_protons_tot > 0 and n_showers_contained==0 \\\n",
    "    and contained_fraction> 0.95 and topological_score > 0.3\", inplace=True)\n",
    "\n",
    "    overlay.query(\"nu_e > 0 and nslice == 1 and ( (_opfilter_pe_beam > 0 and _opfilter_pe_veto < 20) or bnbdata == 1 or extdata == 1)\\\n",
    "    and reco_nu_vtx_sce_x > 15 and reco_nu_vtx_sce_x < 245 \\\n",
    "    and reco_nu_vtx_sce_y > -105 and reco_nu_vtx_sce_y < 105 \\\n",
    "    and reco_nu_vtx_sce_z > 10 and reco_nu_vtx_sce_z < 990 \\\n",
    "    and n_muons_tot > 0 and n_protons_tot > 0 and n_showers_contained==0 \\\n",
    "    and contained_fraction> 0.95 and topological_score > 0.3\", inplace=True)\n",
    "\n",
    "elif isTruth == True:\n",
    "    nue.query(\"nu_e > 0 and swtrig_pre == 1 \\\n",
    "    and true_nu_vtx_sce_x > 10 and true_nu_vtx_sce_x < 246 \\\n",
    "    and true_nu_vtx_sce_y > -106 and true_nu_vtx_sce_y < 106 \\\n",
    "    and true_nu_vtx_sce_z > 10 and true_nu_vtx_sce_z < 1026 \\\n",
    "    and nproton > 0 and npion == 0 and npi0 == 0\", inplace=True)#and nu_pdg==14 and ccnc == 0 \\\n",
    "\n",
    "    overlay.query(\"nu_e > 0 and swtrig_pre == 1 \\\n",
    "    and true_nu_vtx_sce_x > 10 and true_nu_vtx_sce_x < 246 \\\n",
    "    and true_nu_vtx_sce_y > -106 and true_nu_vtx_sce_y < 106 \\\n",
    "    and true_nu_vtx_sce_z > 10 and true_nu_vtx_sce_z < 1026 \\\n",
    "    and nproton > 0 and npion == 0 and npi0 == 0\", inplace=True)"
   ]
  },
  {
   "cell_type": "code",
   "execution_count": 15,
   "id": "054d595b",
   "metadata": {},
   "outputs": [
    {
     "name": "stdout",
     "output_type": "stream",
     "text": [
      "entry\n",
      "1174      0.439274\n",
      "1860      0.191097\n",
      "2127      0.279706\n",
      "2271      0.381607\n",
      "2551      0.213547\n",
      "            ...   \n",
      "130889    0.498756\n",
      "131040    0.222211\n",
      "131077    0.243831\n",
      "131632    0.166437\n",
      "131646    0.324741\n",
      "Name: muon_mom, Length: 395, dtype: object\n",
      "\n",
      "==========================\n",
      "runetime =  1.0149378776550293\n"
     ]
    }
   ],
   "source": [
    "#RECO VARIABLE\n",
    "import time\n",
    "s = time.time()\n",
    "#df_v = [numu_mc]\n",
    "#removeGenieTune = False\n",
    "#for i,df in enumerate(df_v):\n",
    "#    print(df['muon_momentum'])\n",
    "\n",
    "#if track is stopped in fiducial volume\n",
    "#    then use stoppingmom\n",
    "#else\n",
    "#    use other mom\n",
    "    \n",
    "#set up this new variable for each one in  the dataframe\n",
    "\n",
    "#use first value - from looking at the trk_start and nu_reco_vtx values, this should be the muon\n",
    "for i,df in enumerate(df_v):\n",
    "    df[\"muon_mom\"] = df[\"trk_sce_end_z_v\"].copy()\n",
    "    for j, row in df.iterrows():\n",
    "        if (len(row[\"muon_mom\"]) !=0 ) and (df[\"trk_sce_end_z_v\"][j][0] < 1036.8 and df[\"trk_sce_end_z_v\"][j][0] > 0 and df[\"trk_sce_end_y_v\"][j][0] < 116.5 and df[\"trk_sce_end_y_v\"][j][0] > -116.5 and df[\"trk_sce_end_x_v\"][j][0] < \\\n",
    "         254.8 and df[\"trk_sce_end_x_v\"][j][0] > -1.55):\n",
    "            df.loc[j, \"muon_mom\"] = df[\"trk_range_muon_mom_v\"][j][0]\n",
    "        elif (len(row[\"muon_mom\"]) == 0 ):\n",
    "            df.loc[j, \"muon_mom\"] = 0\n",
    "        else:\n",
    "            df.loc[j, \"muon_mom\"] = df[\"trk_mcs_muon_mom_v\"][j][0]  #mcs == multiple coulob scattering\n",
    "        \n",
    "print(df[\"muon_mom\"])\n",
    "\n",
    "print(\"\")    \n",
    "print(\"==========================\")\n",
    "s2 = time.time()\n",
    "print(\"runetime = \", s2-s)"
   ]
  },
  {
   "cell_type": "code",
   "execution_count": 16,
   "id": "d34c60c7",
   "metadata": {},
   "outputs": [],
   "source": [
    "#RECO VARIABLE\n",
    "#in this we use the NEUTRINO VERTEX and the MUON PHI/THETA and will get the ANGLE BETWEEN THEM\n",
    "\n",
    "for i,df in enumerate(df_v):\n",
    "    df['nu_Angle_Numi_Muon_Reco'] = df.apply( lambda x: angleFromNuMITarget(x['reco_nu_vtx_sce_x'],x['reco_nu_vtx_sce_y'],x['reco_nu_vtx_sce_z'], x['trk_theta'],x['trk_phi']) , axis=1)\n",
    "    df['cosNu_Angle_Numi_Muon_Reco'] = np.cos(df['nu_Angle_Numi_Muon_Reco'])"
   ]
  },
  {
   "cell_type": "code",
   "execution_count": 17,
   "id": "f409fa01",
   "metadata": {},
   "outputs": [
    {
     "name": "stdout",
     "output_type": "stream",
     "text": [
      "\n",
      "==========================\n",
      "runetime =  1.2806041240692139\n"
     ]
    }
   ],
   "source": [
    "#TRUE VARIABLE\n",
    "s = time.time()\n",
    "\n",
    "for i,df in enumerate(df_v):\n",
    "    df[\"muon_px\"] = df[\"ccnc\"].copy()\n",
    "    df[\"muon_py\"] = df[\"ccnc\"].copy()\n",
    "    df[\"muon_pz\"] = df[\"ccnc\"].copy()\n",
    "    for j, row in df.iterrows():\n",
    "        pdg_vector = df[\"mc_pdg\"].loc[j][0]\n",
    "        px_vector = df[\"mc_px\"].loc[j]\n",
    "        py_vector = df[\"mc_py\"].loc[j]\n",
    "        pz_vector = df[\"mc_pz\"].loc[j]\n",
    "        result = np.where(pdg_vector==13)[0]\n",
    "        if np.size(result):\n",
    "            df.loc[j, \"muon_px\"] = px_vector[result][0]\n",
    "            df.loc[j, \"muon_py\"] = py_vector[result][0]\n",
    "            df.loc[j, \"muon_pz\"] = pz_vector[result][0]   \n",
    "            \n",
    "    #print(df[\"muon_px\"])\n",
    "\n",
    "print(\"\")    \n",
    "print(\"==========================\")\n",
    "s2 = time.time()\n",
    "print(\"runetime = \", s2-s)"
   ]
  },
  {
   "cell_type": "code",
   "execution_count": 18,
   "id": "66587feb",
   "metadata": {},
   "outputs": [],
   "source": [
    "#TRUE VARIABLE\n",
    "#in this we use the NEUTRINO VERTEX and the MUON PHI/THETA and will get the ANGLE BETWEEN THEM\n",
    "\n",
    "for i,df in enumerate(df_v):\n",
    "    df['targetP']     = np.sqrt(df['muon_px']*df['muon_px'] + df['muon_py']*df['muon_py'] + df['muon_pz']*df['muon_pz'])\n",
    "    df['targetPt']    = np.sqrt(df['muon_px']*df['muon_px'] + df['muon_py']*df['muon_py'])\n",
    "    df['targetTheta'] = np.arccos(df['muon_pz']/df['targetP'] )\n",
    "    df['targetPhi']   = np.arctan2(df['muon_py'],df['muon_px'])\n",
    "    df['nu_Angle_Numi_Muon'] = df.apply( lambda x: angleFromNuMITarget(x['true_nu_vtx_sce_x'],x['true_nu_vtx_sce_y'],x['true_nu_vtx_sce_z'], x['targetTheta'],x['targetPhi']) , axis=1)\n",
    "    df['cosNu_Angle_Numi_Muon'] = np.cos(df['nu_Angle_Numi_Muon'])"
   ]
  },
  {
   "cell_type": "code",
   "execution_count": 19,
   "id": "eb6ac920",
   "metadata": {},
   "outputs": [],
   "source": [
    "######################### plot categories ##############################\n",
    "# everything must pass software trigger ! \n",
    "\n",
    "in_fv_query = \"10<=true_nu_vtx_x<=246 and -106<=true_nu_vtx_y<=106 and 10<=true_nu_vtx_z<=1026\"\n",
    "out_fv_query = \"((true_nu_vtx_x<10 or true_nu_vtx_x>246) or (true_nu_vtx_y<-106 or true_nu_vtx_y>106) or (true_nu_vtx_z<10 or true_nu_vtx_z>1026))\"\n",
    "\n",
    "nue_CC_Npi0 = 'swtrig_pre==1 and ((nu_pdg==12 or nu_pdg==-12) and ccnc==0 and npi0>=1)'\n",
    "nue_CC_0pi0 = 'swtrig_pre==1 and ((nu_pdg==12 or nu_pdg==-12) and ccnc==0 and npi0==0)'\n",
    "\n",
    "nue_NC_Npi0 = 'swtrig_pre==1 and ((nu_pdg==12 or nu_pdg==-12) and ccnc==1 and npi0>=1)'\n",
    "nue_NC_0pi0 = 'swtrig_pre==1 and ((nu_pdg==12 or nu_pdg==-12) and ccnc==1 and npi0==0)'\n",
    "\n",
    "numubar_1eNp = 'swtrig_pre==1 and ((nu_pdg==-14 and ccnc==0 and nproton>0 and npion==0 and npi0==0))'\n",
    "numu_NC = 'swtrig_pre==1 and ((nu_pdg==14 or nu_pdg==-14) and ccnc==1)'\n",
    "\n",
    "numu_CCother = 'swtrig_pre==1 and (((nu_pdg==14 and ccnc==0) and (nproton==0 or npi0>0 or npion>0)) or (nu_pdg==-14 and ccnc==0 and (nproton==0 or npion>0 or npi0>0)))'\n",
    "\n",
    "# less specific categories \n",
    "numu_other = 'swtrig_pre==1 and (((nu_pdg==14 or nu_pdg==-14) and ccnc==1) or (((nu_pdg==14 and ccnc==0) and (nproton==0 or npi0>0 or npion>0)) or (nu_pdg==-14 and ccnc==0)))'\n",
    "nue_Npi0 = 'swtrig_pre==1 and ( (nu_pdg==12 or nu_pdg==-12) and npi0>=1)'\n",
    "nue_0pi0 = 'swtrig_pre==1 and ( (nu_pdg==12 or nu_pdg==-12) and npi0==0)'\n",
    "\n",
    "# signal vs. not signal \n",
    "signal = in_fv_query+' and  swtrig_pre==1 and (nu_pdg==14 and ccnc==0 and nproton>0 and npion==0 and npi0==0)'\n",
    "not_signal = \"(swtrig_pre==0) or (swtrig_pre==1 and (\" + out_fv_query+' or (nu_pdg!=14) or (nu_pdg==14 and ccnc==1) or (nu_pdg==12 and ccnc==0 and (nproton==0 or npi0>0 or npion>0)) ))'\n",
    "\n",
    "# for replacing nue CC \n",
    "in_AV_query = \"-1.55<=true_nu_vtx_x<=254.8 and -116.5<=true_nu_vtx_y<=116.5 and 0<=true_nu_vtx_z<=1036.8\"\n",
    "nueCC_query = 'abs(nu_pdg)==12 and ccnc==0 and '+in_AV_query"
   ]
  },
  {
   "cell_type": "code",
   "execution_count": 20,
   "id": "8dca935a",
   "metadata": {},
   "outputs": [],
   "source": [
    "overlay = overlay.query('swtrig_pre==1')\n",
    "nue = nue.query('swtrig_pre==1')"
   ]
  },
  {
   "cell_type": "code",
   "execution_count": 21,
   "id": "3360bc30",
   "metadata": {},
   "outputs": [],
   "source": [
    "mc_df = [overlay, nue]"
   ]
  },
  {
   "cell_type": "code",
   "execution_count": 22,
   "id": "51227bc9",
   "metadata": {},
   "outputs": [],
   "source": [
    "def addAngles(df): #From Katrina\n",
    "    \n",
    "    ## rotation matrix -- convert detector to beam coordinates\n",
    "    R = [\n",
    "        [0.921,   4.625e-05,     -0.3895],\n",
    "        [0.02271,    0.9983,     0.05383],\n",
    "        [0.3888,   -0.05843,      0.9195]\n",
    "    ]\n",
    "    det_origin_beamcoor = [5502.0, 7259.0,  67270.0]\n",
    "     \n",
    "    # angles in detector coordinates\n",
    "    df['thdet'] = np.arctan2(((df['true_nu_px']*df['true_nu_px'])+(df['true_nu_py']*df['true_nu_py']))**(1/2), df['true_nu_pz'])*(180/math.pi)\n",
    "    df['phidet'] = np.arctan2(df['true_nu_py'], df['true_nu_px'])*(180/math.pi)\n",
    "        \n",
    "    # get true momentum in beam coordinates\n",
    "    df['true_nu_px_beam'] = R[0][0]*df['true_nu_px'] + R[0][1]*df['true_nu_py'] + R[0][2]*df['true_nu_pz']\n",
    "    df['true_nu_py_beam'] = R[1][0]*df['true_nu_px'] + R[1][1]*df['true_nu_py'] + R[1][2]*df['true_nu_pz']\n",
    "    df['true_nu_pz_beam'] = R[2][0]*df['true_nu_px'] + R[2][1]*df['true_nu_py'] + R[2][2]*df['true_nu_pz']\n",
    "    \n",
    "    # angles in beam coordinates\n",
    "    df['thbeam'] = np.arctan2(((df['true_nu_px_beam']*df['true_nu_px_beam'])+(df['true_nu_py_beam']*df['true_nu_py_beam']))**(1/2), df['true_nu_pz_beam'])*(180/math.pi)\n",
    "    df['phibeam'] = np.arctan2(df['true_nu_py_beam'], df['true_nu_px_beam'])*(180/math.pi)\n",
    "        \n",
    "    return df"
   ]
  },
  {
   "cell_type": "code",
   "execution_count": 23,
   "id": "1a35bf35",
   "metadata": {},
   "outputs": [],
   "source": [
    "# use offline flux weights\n",
    "def offline_flux_weights(df, ISRUN3): \n",
    "    \n",
    "    if ISRUN3: \n",
    "        print(\"No ppfx maps for RHC!\")\n",
    "    \n",
    "    else: \n",
    "        f = ROOT.TFile.Open(path+\"ppfx_maps.root\", \"READ\")\n",
    "    \n",
    "    numu_map = f.Get(\"numu_ratio\")\n",
    "    numubar_map = f.Get(\"numubar_ratio\")\n",
    "    nue_map = f.Get(\"nue_ratio\")\n",
    "    nuebar_map = f.Get(\"nuebar_ratio\")\n",
    "    \n",
    "    nu_flav = list(df['nu_pdg'])\n",
    "    angle = list(df['thbeam'])\n",
    "    true_energy = list(df['nu_e'])\n",
    "\n",
    "    fluxweights = []\n",
    "\n",
    "    for i in range(len(nu_flav)): \n",
    "        if nu_flav[i]==14: \n",
    "            h = numu_map\n",
    "        elif nu_flav[i]==-14: \n",
    "            h = numubar_map\n",
    "        elif nu_flav[i]==12: \n",
    "            h = nue_map\n",
    "        elif nu_flav[i]==-12: \n",
    "            h = nuebar_map\n",
    "        else: \n",
    "            print(\"No map to match PDG code!\")\n",
    "        \n",
    "        fluxweights.append( h.GetBinContent(h.FindBin(true_energy[i], angle[i])) )\n",
    "\n",
    "    df['ppfx_cv'] = fluxweights\n",
    "    #mc_df[0]['weightFlux'] = fluxweights\n",
    "    #mc_df[1]['weightFlux'] = [1 for i in range(len(mc_df[1]))] # for now \n",
    "    \n",
    "    f.Close()\n",
    "    \n",
    "    return df"
   ]
  },
  {
   "cell_type": "code",
   "execution_count": 24,
   "id": "e10b5ddb",
   "metadata": {
    "scrolled": true
   },
   "outputs": [],
   "source": [
    "\n",
    "\n",
    "for i,df in enumerate(mc_df):\n",
    "    \n",
    "    # is signal bool \n",
    "    df['is_signal'] = np.where((df.swtrig_pre == 1)\n",
    "                             & (df.nu_pdg==14) & (df.ccnc==0) & (df.nproton>0) & (df.npion==0) & (df.npi0==0)\n",
    "                             & (10 <= df.true_nu_vtx_x) & (df.true_nu_vtx_x <= 246)\n",
    "                             & (-106 <= df.true_nu_vtx_y) & (df.true_nu_vtx_y <= 106)\n",
    "                             & (10 <= df.true_nu_vtx_z) & (df.true_nu_vtx_z <= 1026), True, False)\n",
    "    \n",
    "    # Add truth level theta & phi angles (detector & beam coordinates)\n",
    "    df = addAngles(df)\n",
    "    \n",
    "    # add binned ppfx weights\n",
    "    if nuwro: \n",
    "        df = offline_flux_weights(df, ISRUN3)\n",
    "    \n",
    "\n"
   ]
  },
  {
   "cell_type": "code",
   "execution_count": 25,
   "id": "7620a004",
   "metadata": {},
   "outputs": [
    {
     "name": "stdout",
     "output_type": "stream",
     "text": [
      "True\n",
      "True\n",
      "395\n",
      "395\n"
     ]
    }
   ],
   "source": [
    "print(len(nue.query('is_signal==True'))==len(nue.query(signal)))\n",
    "print(len(nue.query('is_signal==False'))==len(nue.query(not_signal)))\n",
    "\n",
    "print(len(nue.query('is_signal==False')))\n",
    "print(len(nue.query(not_signal)))"
   ]
  },
  {
   "cell_type": "code",
   "execution_count": 26,
   "id": "f143b298",
   "metadata": {},
   "outputs": [],
   "source": [
    "\n",
    "\n",
    "# clean bad weights & values \n",
    "\n",
    "for i,df in enumerate(mc_df):\n",
    "     \n",
    "    df.loc[ df['weightSplineTimesTune'] <= 0, 'weightSplineTimesTune' ] = 1.\n",
    "    df.loc[ df['weightSplineTimesTune'] == np.inf, 'weightSplineTimesTune' ] = 1.\n",
    "    df.loc[ df['weightSplineTimesTune'] > 100, 'weightSplineTimesTune' ] = 1.\n",
    "    df.loc[ np.isnan(df['weightSplineTimesTune']) == True, 'weightSplineTimesTune' ] = 1.\n",
    "    \n",
    "    df.loc[ df['weightTune'] <= 0, 'weightTune' ] = 1.\n",
    "    df.loc[ df['weightTune'] == np.inf, 'weightTune' ] = 1.\n",
    "    df.loc[ df['weightTune'] > 100, 'weightTune' ] = 1.\n",
    "    df.loc[ np.isnan(df['weightTune']) == True, 'weightTune' ] = 1.  \n",
    "\n",
    "     \n",
    "\n"
   ]
  },
  {
   "cell_type": "code",
   "execution_count": 27,
   "id": "48fa0e8d",
   "metadata": {},
   "outputs": [
    {
     "name": "stdout",
     "output_type": "stream",
     "text": [
      "395\n"
     ]
    }
   ],
   "source": [
    "# scale down the number of events to match data POT \n",
    "\n",
    "#nue = nue[:round(len(nue)*0.0119)]   #1519\n",
    "#overlay = overlay[:round(len(overlay)*0.301)]  #67370\n",
    "\n",
    "#print(len(nue))\n",
    "\n",
    "\n",
    "\n",
    "#print(len(nue[:round(len(nue)*0.0119)]))\n",
    "#print(len(overlay[:round(len(overlay)*0.301)]))\n",
    "\n",
    "#nue = nue[round(len(nue)*0.0119):round((len(nue)*0.0119)*2) ]   #1519\n",
    "#overlay = overlay[round(len(overlay)*0.301):round((len(overlay)*0.301)*2)]  #67370\n",
    "\n",
    "print((len(nue)))"
   ]
  },
  {
   "cell_type": "code",
   "execution_count": 28,
   "id": "160b1fc4",
   "metadata": {},
   "outputs": [],
   "source": [
    "\n",
    "\n",
    "# POT normalization - scale to data \n",
    "\n",
    "if ISRUN3: \n",
    "    data_pot = 5.0E20\n",
    "else: \n",
    "    data_pot = 2.0E20\n",
    "\n",
    "if nuwro==True: \n",
    "    overlay['pot_scale'] = data_pot/6.64422e+20\n",
    "    nue['pot_scale'] = data_pot/1.68375e+22\n",
    "\n",
    "else: \n",
    "    overlay = pot_scale(overlay, 'overlay', ISRUN3)\n",
    "    nue = pot_scale(nue, 'intrinsic', ISRUN3)\n",
    "    \n",
    "    #overlay['pot_scale'] = data_pot/2.33652e+21\n",
    "    #nue['pot_scale'] = data_pot/2.37838e+22\n",
    "\n"
   ]
  },
  {
   "cell_type": "code",
   "execution_count": 29,
   "id": "2b28a624",
   "metadata": {},
   "outputs": [],
   "source": [
    "\n",
    "\n",
    "if nuwro == True: \n",
    "\n",
    "    overlay['totweight_data'] = (overlay['pot_scale']*overlay['ppfx_cv'])\n",
    "    nue['totweight_data'] = (nue['pot_scale']*nue['ppfx_cv'])\n",
    "\n",
    "else: \n",
    "    \n",
    "    overlay['totweight_data'] = overlay['pot_scale']*overlay['ppfx_cv']*overlay['weightSplineTimesTune']\n",
    "    nue['totweight_data'] = nue['pot_scale']*nue['ppfx_cv']*nue['weightSplineTimesTune']\n",
    "\n"
   ]
  },
  {
   "cell_type": "code",
   "execution_count": 30,
   "id": "e885b55e",
   "metadata": {},
   "outputs": [
    {
     "name": "stdout",
     "output_type": "stream",
     "text": [
      "# of nueCC in AV in overlay sample = 5\n",
      "# of nueCC in AV dropped in overlay = 5\n"
     ]
    }
   ],
   "source": [
    "################################\n",
    "#####ONLY RUN THIS CELL ONCE####\n",
    "################################\n",
    "\n",
    "print(\"# of nueCC in AV in overlay sample = \"+str(len(overlay.query(nueCC_query))))\n",
    "len1 = len(overlay)\n",
    "    \n",
    "idx = overlay.query(nueCC_query).index\n",
    "overlay.drop(idx, inplace=True)\n",
    "len2 = len(overlay) \n",
    "print(\"# of nueCC in AV dropped in overlay = \"+str(len1-len2))\n",
    "    \n",
    "# then add in nue_intrinsic \n",
    "overlay = pd.concat([overlay,nue], ignore_index=True)\n",
    "\n",
    "# from here on out everything else should be the same. "
   ]
  },
  {
   "cell_type": "code",
   "execution_count": 31,
   "id": "b316a536",
   "metadata": {},
   "outputs": [],
   "source": [
    "\n",
    "\n",
    "# separate by in/out FV & cosmic\n",
    "infv = overlay.query(in_fv_query)\n",
    "outfv = overlay.query(out_fv_query)\n",
    "\n",
    "infv2 = nue.query(in_fv_query)\n",
    "outfv2 = nue.query(out_fv_query)\n",
    "\n"
   ]
  },
  {
   "cell_type": "code",
   "execution_count": 32,
   "id": "1bdf5950",
   "metadata": {},
   "outputs": [
    {
     "name": "stdout",
     "output_type": "stream",
     "text": [
      "True\n"
     ]
    }
   ],
   "source": [
    "# check that everything is accounted for \n",
    "print(len(overlay)==len(infv)+len(outfv))"
   ]
  },
  {
   "cell_type": "code",
   "execution_count": 33,
   "id": "010b90fe",
   "metadata": {},
   "outputs": [
    {
     "name": "stdout",
     "output_type": "stream",
     "text": [
      "total signal events = 525.5695928190216\n",
      "total signal events = 0.0\n",
      "total signal events = 0.0\n",
      "total signal events = 0.0\n"
     ]
    }
   ],
   "source": [
    "\n",
    "\n",
    "tot_signal_weighted = np.nansum(infv.query('is_signal==True')['pot_scale'])\n",
    "print('total signal events = '+ str(tot_signal_weighted))\n",
    "\n",
    "\n",
    "tot_signal_weighted = np.nansum(outfv.query('is_signal==True')['pot_scale'])\n",
    "print('total signal events = '+ str(tot_signal_weighted))\n",
    "\n",
    "\n",
    "tot_signal_weighted = np.nansum(infv2.query('is_signal==True')['pot_scale'])\n",
    "print('total signal events = '+ str(tot_signal_weighted))\n",
    "\n",
    "\n",
    "tot_signal_weighted = np.nansum(outfv2.query('is_signal==True')['pot_scale'])\n",
    "print('total signal events = '+ str(tot_signal_weighted))\n",
    "\n"
   ]
  },
  {
   "cell_type": "code",
   "execution_count": 34,
   "id": "a78db0d6",
   "metadata": {},
   "outputs": [],
   "source": [
    "datasets = {\n",
    "    'infv' : infv, \n",
    "    'outfv' : outfv\n",
    "}"
   ]
  },
  {
   "cell_type": "code",
   "execution_count": 35,
   "id": "7166c2f5",
   "metadata": {},
   "outputs": [],
   "source": [
    "\n",
    "\n",
    "generated_events = pd.concat([datasets['outfv'], datasets['infv']])\n",
    "\n"
   ]
  },
  {
   "cell_type": "code",
   "execution_count": 36,
   "id": "a443a10c",
   "metadata": {},
   "outputs": [
    {
     "name": "stdout",
     "output_type": "stream",
     "text": [
      "total signal events = 525.5695928190216\n",
      "total signal events = 473.15817482100346\n",
      "total signal events = 473.15817482100346\n"
     ]
    }
   ],
   "source": [
    "tot_signal_weighted = np.nansum(generated_events.query('is_signal==True')['pot_scale'])\n",
    "print('total signal events = '+ str(tot_signal_weighted))\n",
    "\n",
    "tot_signal_weighted = np.nansum(generated_events.query('is_signal==True')['totweight_data'])\n",
    "print('total signal events = '+ str(tot_signal_weighted))\n",
    "\n",
    "tot_signal_weighted = np.nansum(generated_events.query(signal)['totweight_data'])\n",
    "print('total signal events = '+ str(tot_signal_weighted))"
   ]
  },
  {
   "cell_type": "code",
   "execution_count": 37,
   "id": "ed0d69c5",
   "metadata": {},
   "outputs": [
    {
     "name": "stdout",
     "output_type": "stream",
     "text": [
      "False\n"
     ]
    }
   ],
   "source": [
    "print(isTruth)\n",
    "\n",
    "if isTruth == False:\n",
    "    selected_query = \"nslice == 1 and ( (_opfilter_pe_beam > 0 \\\n",
    "    and _opfilter_pe_veto < 20) or bnbdata == 1 or extdata == 1) \\\n",
    "    and reco_nu_vtx_sce_x > 15 and reco_nu_vtx_sce_x < 245 \\\n",
    "    and reco_nu_vtx_sce_y > -105 and reco_nu_vtx_sce_y < 105 \\\n",
    "    and reco_nu_vtx_sce_z > 10 and reco_nu_vtx_sce_z < 990 \\\n",
    "    and n_muons_tot > 0 and n_protons_tot > 0 and n_showers_contained==0 \\\n",
    "    and contained_fraction> 0.95 and topological_score > 0.3\"\n",
    "\n",
    "elif isTruth == True:\n",
    "    selected_query = \"is_signal==True\""
   ]
  },
  {
   "cell_type": "code",
   "execution_count": 38,
   "id": "0a48a725",
   "metadata": {
    "scrolled": true
   },
   "outputs": [
    {
     "name": "stdout",
     "output_type": "stream",
     "text": [
      "0       0.178315\n",
      "1       0.161727\n",
      "2       0.106685\n",
      "4       0.274368\n",
      "5       0.964392\n",
      "          ...   \n",
      "2840   -0.893604\n",
      "2841   -0.972817\n",
      "2842    0.156054\n",
      "2843    0.816666\n",
      "2844   -0.538917\n",
      "Name: cosNu_Angle_Numi_Muon_Reco, Length: 2822, dtype: float64\n",
      "0       0.178315\n",
      "1       0.161727\n",
      "2       0.106685\n",
      "4       0.274368\n",
      "5       0.964392\n",
      "          ...   \n",
      "2840   -0.893604\n",
      "2841   -0.972817\n",
      "2842    0.156054\n",
      "2843    0.816666\n",
      "2844   -0.538917\n",
      "Name: cosNu_Angle_Numi_Muon_Reco, Length: 2822, dtype: float64\n",
      "0       0.156105\n",
      "1       0.134991\n",
      "2       0.100148\n",
      "4       0.276957\n",
      "5       0.948497\n",
      "          ...   \n",
      "2840    0.805345\n",
      "2841    0.805477\n",
      "2842         NaN\n",
      "2843         NaN\n",
      "2844         NaN\n",
      "Name: cosNu_Angle_Numi_Muon, Length: 2822, dtype: float64\n",
      "0       0.156105\n",
      "1       0.134991\n",
      "2       0.100148\n",
      "4       0.276957\n",
      "5       0.948497\n",
      "          ...   \n",
      "2840    0.805345\n",
      "2841    0.805477\n",
      "2842         NaN\n",
      "2843         NaN\n",
      "2844         NaN\n",
      "Name: cosNu_Angle_Numi_Muon, Length: 2822, dtype: float64\n",
      "3       0.782113\n",
      "62     -0.411189\n",
      "181     0.575659\n",
      "283     0.870567\n",
      "411     0.834002\n",
      "483     0.132871\n",
      "551     0.294196\n",
      "608     0.373125\n",
      "610     0.200474\n",
      "631    -0.913168\n",
      "734     0.973027\n",
      "961     0.864674\n",
      "1063    0.814070\n",
      "1556    0.142870\n",
      "1680    0.565916\n",
      "1946    0.806418\n",
      "2004   -0.974099\n",
      "2307    0.710446\n",
      "2330    0.663047\n",
      "2423    0.027725\n",
      "2465    0.212031\n",
      "2557    0.943917\n",
      "2811    0.825687\n",
      "Name: cosNu_Angle_Numi_Muon_Reco, dtype: float64\n",
      "3       0.782113\n",
      "62     -0.411189\n",
      "181     0.575659\n",
      "283     0.870567\n",
      "411     0.834002\n",
      "483     0.132871\n",
      "551     0.294196\n",
      "608     0.373125\n",
      "610     0.200474\n",
      "631    -0.913168\n",
      "734     0.973027\n",
      "961     0.864674\n",
      "1063    0.814070\n",
      "1556    0.142870\n",
      "1680    0.565916\n",
      "1946    0.806418\n",
      "2004   -0.974099\n",
      "2307    0.710446\n",
      "2330    0.663047\n",
      "2423    0.027725\n",
      "2465    0.212031\n",
      "2557    0.943917\n",
      "2811    0.825687\n",
      "Name: cosNu_Angle_Numi_Muon_Reco, dtype: float64\n",
      "3      -0.602100\n",
      "62      0.778523\n",
      "181          NaN\n",
      "283     0.741126\n",
      "411     0.954181\n",
      "483     0.904537\n",
      "551     0.807561\n",
      "608     0.629069\n",
      "610     0.874733\n",
      "631     0.083306\n",
      "734     0.118181\n",
      "961     0.804281\n",
      "1063    0.340134\n",
      "1556    0.805952\n",
      "1680         NaN\n",
      "1946    0.807051\n",
      "2004         NaN\n",
      "2307    0.372935\n",
      "2330    0.804081\n",
      "2423         NaN\n",
      "2465         NaN\n",
      "2557         NaN\n",
      "2811    0.805302\n",
      "Name: cosNu_Angle_Numi_Muon, dtype: float64\n",
      "3      -0.602100\n",
      "62      0.778523\n",
      "181          NaN\n",
      "283     0.741126\n",
      "411     0.954181\n",
      "483     0.904537\n",
      "551     0.807561\n",
      "608     0.629069\n",
      "610     0.874733\n",
      "631     0.083306\n",
      "734     0.118181\n",
      "961     0.804281\n",
      "1063    0.340134\n",
      "1556    0.805952\n",
      "1680         NaN\n",
      "1946    0.807051\n",
      "2004         NaN\n",
      "2307    0.372935\n",
      "2330    0.804081\n",
      "2423         NaN\n",
      "2465         NaN\n",
      "2557         NaN\n",
      "2811    0.805302\n",
      "Name: cosNu_Angle_Numi_Muon, dtype: float64\n",
      "nslice == 1 and ( (_opfilter_pe_beam > 0     and _opfilter_pe_veto < 20) or bnbdata == 1 or extdata == 1)     and reco_nu_vtx_sce_x > 15 and reco_nu_vtx_sce_x < 245     and reco_nu_vtx_sce_y > -105 and reco_nu_vtx_sce_y < 105     and reco_nu_vtx_sce_z > 10 and reco_nu_vtx_sce_z < 990     and n_muons_tot > 0 and n_protons_tot > 0 and n_showers_contained==0     and contained_fraction> 0.95 and topological_score > 0.3\n"
     ]
    }
   ],
   "source": [
    "#datasets_bdt = datasets\n",
    "\n",
    "datasets_bdt = {}\n",
    "\n",
    "\n",
    "for i in range(len(datasets)): \n",
    "\n",
    "        df = list(datasets.values())[i].copy()\n",
    "        \n",
    "        #ANGLE\n",
    "        tmp = df[\"cosNu_Angle_Numi_Muon_Reco\"].copy()\n",
    "        mask = (df[\"cosNu_Angle_Numi_Muon_Reco\"] > 1)\n",
    "        tmp[mask] = 0.9\n",
    "        df[\"cosNu_Angle_Numi_Muon_Reco\"] = tmp\n",
    "        print(df[\"cosNu_Angle_Numi_Muon_Reco\"])\n",
    "        #------\n",
    "        tmp = df[\"cosNu_Angle_Numi_Muon_Reco\"].copy()\n",
    "        mask = (df[\"cosNu_Angle_Numi_Muon_Reco\"] < -1)\n",
    "        tmp[mask] = -0.9\n",
    "        df[\"cosNu_Angle_Numi_Muon_Reco\"] = tmp\n",
    "        print(df[\"cosNu_Angle_Numi_Muon_Reco\"])\n",
    "\n",
    "        #\n",
    "\n",
    "        #ANGLE\n",
    "        tmp = df[\"cosNu_Angle_Numi_Muon\"].copy()\n",
    "        mask = (df[\"cosNu_Angle_Numi_Muon\"] > 1)\n",
    "        tmp[mask] = 0.9\n",
    "        df[\"cosNu_Angle_Numi_Muon\"] = tmp\n",
    "        print(df[\"cosNu_Angle_Numi_Muon\"])\n",
    "        #------\n",
    "        tmp = df[\"cosNu_Angle_Numi_Muon\"].copy()\n",
    "        mask = (df[\"cosNu_Angle_Numi_Muon\"] < -1)\n",
    "        tmp[mask] = -0.9\n",
    "        df[\"cosNu_Angle_Numi_Muon\"] = tmp\n",
    "        print(df[\"cosNu_Angle_Numi_Muon\"])\n",
    "\n",
    "        datasets_bdt[list(datasets.keys())[i]] = df.query(selected_query)\n",
    "\n",
    "print(selected_query)"
   ]
  },
  {
   "cell_type": "code",
   "execution_count": 39,
   "id": "0df0fcd2",
   "metadata": {},
   "outputs": [],
   "source": [
    "xvar = 'cosNu_Angle_Numi_Muon_Reco'\n",
    "true_var = 'cosNu_Angle_Numi_Muon'\n",
    "bins = np.arange(-1.0, 1.2, 0.2)\n",
    "\n",
    "xlow = bins[0]\n",
    "xhigh = bins[-1]\n",
    "\n",
    "x_label = \"Lepton Angle\"\n",
    "x_ticks = np.arange(-1.0, 1.2, 0.2)"
   ]
  },
  {
   "cell_type": "code",
   "execution_count": 40,
   "id": "1e31831e",
   "metadata": {},
   "outputs": [],
   "source": [
    "\n",
    "\n",
    "if xvar=='tksh_angle': \n",
    "    bincenters = 0.5*(np.array(x_ticks)[1:]+np.array(x_ticks)[:-1])\n",
    "\n",
    "else: \n",
    "    #bincenters = 0.5*(np.array(x_ticks+[xhigh])[1:]+np.array(x_ticks+[xhigh])[:-1])\n",
    "    bincenters = np.arange(-0.9, 1.1, 0.2)\n",
    "\n"
   ]
  },
  {
   "cell_type": "code",
   "execution_count": 41,
   "id": "7a7745f1",
   "metadata": {},
   "outputs": [],
   "source": [
    "labels = { \n",
    "    'signal' : ['$\\\\nu_e$ CC0$\\pi$Np', 'orange'], \n",
    "    'nue_CC_Npi0' : ['$\\\\nu_\\mu$ CC $\\pi^{0}$', 'brown'],\n",
    "    'nue_NC_Npi0' : ['$\\\\nu_\\mu$ NC $\\pi^{0}$', 'orangered'],\n",
    "    'nue_NC_0pi0' : ['$\\\\nu_\\mu$ NC', '#33FCFF'],\n",
    "    'nue_CC_0pi0' : ['$\\\\nu_\\mu$ CC', '#437ED8'],\n",
    "    'numu_CCother': ['$\\\\nu_e$ CC other', '#05B415'], \n",
    "    'numu_NC': ['$\\\\nu_e$ NC', '#B8FF33'], \n",
    "    'outfv' : ['Out FV', 'orchid'], \n",
    "    'ext' : ['EXT', 'lightpink'],\n",
    "    'numu_other' : ['$\\\\nu_e$ / $\\\\overline{\\\\nu_e}$  other', '#33db09'], \n",
    "    'nue_Npi0' : ['$\\\\nu_\\\\mu$ / $\\\\overline{\\\\nu_\\\\mu}$  $\\pi^{0}$', '#EE1B1B'], \n",
    "    'nue_0pi0' : ['$\\\\nu_\\\\mu$ / $\\\\overline{\\\\nu_\\\\mu}$  other', '#437ED8'],\n",
    "    'numubar_1eNp' : ['$\\\\bar{\\\\nu}_e$ CC0$\\pi$Np', 'gold']\n",
    "}"
   ]
  },
  {
   "cell_type": "code",
   "execution_count": 42,
   "id": "fbbac96c",
   "metadata": {},
   "outputs": [],
   "source": [
    "leg = {\n",
    "        'outfv' : labels['outfv'][0]+': ' + str( round(sum(datasets_bdt['outfv'].totweight_data), 1)) , \n",
    "        'nue_NC_Npi0' : labels['nue_NC_Npi0'][0]+': '+ str( round(sum(datasets_bdt['infv'].query(nue_NC_Npi0).totweight_data), 1)), \n",
    "        'nue_CC_Npi0' : labels['nue_CC_Npi0'][0]+': '+str( round(sum(datasets_bdt['infv'].query(nue_CC_Npi0).totweight_data), 1)), \n",
    "        'nue_NC_0pi0' : labels['nue_NC_0pi0'][0]+': '+str( round(sum(datasets_bdt['infv'].query(nue_NC_0pi0).totweight_data), 1)), \n",
    "        'nue_CC_0pi0' : labels['nue_CC_0pi0'][0]+': '+str( round(sum(datasets_bdt['infv'].query(nue_CC_0pi0).totweight_data), 1)), \n",
    "        'numu_NC' : labels['numu_NC'][0]+': '+str( round(sum(datasets_bdt['infv'].query(numu_NC).totweight_data), 1)), \n",
    "        'numu_CCother' : labels['numu_CCother'][0]+': '+str( round(sum(datasets_bdt['infv'].query(numu_CCother).totweight_data), 1)),\n",
    "        'numubar_1eNp' : labels['numubar_1eNp'][0]+': '+str( round(sum(datasets_bdt['infv'].query(numubar_1eNp).totweight_data), 1)), \n",
    "        'signal' : labels['signal'][0]+': '+str( round(sum(datasets_bdt['infv'].query(signal).totweight_data), 1))\n",
    "    }\n"
   ]
  },
  {
   "cell_type": "code",
   "execution_count": 43,
   "id": "ff8b6b11",
   "metadata": {},
   "outputs": [
    {
     "name": "stderr",
     "output_type": "stream",
     "text": [
      "/home/alex/miniconda3/envs/vintageXgboostVintageUprootEnv/lib/python3.8/site-packages/numpy/core/fromnumeric.py:3245: VisibleDeprecationWarning: Creating an ndarray from ragged nested sequences (which is a list-or-tuple of lists-or-tuples-or ndarrays with different lengths or shapes) is deprecated. If you meant to do this, you must specify 'dtype=object' when creating the ndarray.\n",
      "  return asarray(a).size\n",
      "/home/alex/miniconda3/envs/vintageXgboostVintageUprootEnv/lib/python3.8/site-packages/matplotlib/cbook/__init__.py:1449: VisibleDeprecationWarning: Creating an ndarray from ragged nested sequences (which is a list-or-tuple of lists-or-tuples-or ndarrays with different lengths or shapes) is deprecated. If you meant to do this, you must specify 'dtype=object' when creating the ndarray.\n",
      "  X = np.atleast_1d(X.T if isinstance(X, np.ndarray) else np.asarray(X))\n"
     ]
    },
    {
     "name": "stdout",
     "output_type": "stream",
     "text": [
      "[ 16.81038722  17.00270587  20.70223589  21.23257356  28.24756849\n",
      "  40.32534936  51.77037053  87.65501276 130.07396902 255.940054  ]\n",
      "669.7602266903842\n"
     ]
    },
    {
     "data": {
      "image/png": "[encoded data removed]",
      "text/plain": [
       "<Figure size 576x360 with 1 Axes>"
      ]
     },
     "metadata": {
      "needs_background": "light"
     },
     "output_type": "display_data"
    }
   ],
   "source": [
    "fig = plt.figure(figsize=(8, 5))\n",
    "\n",
    "n, b, p = plt.hist([datasets_bdt['outfv'][xvar], \n",
    "                       datasets_bdt['infv'].query(nue_NC_Npi0)[xvar],\n",
    "                       datasets_bdt['infv'].query(nue_CC_Npi0)[xvar],\n",
    "                       datasets_bdt['infv'].query(nue_NC_0pi0)[xvar],\n",
    "                       datasets_bdt['infv'].query(nue_CC_0pi0)[xvar],\n",
    "                       datasets_bdt['infv'].query(numu_NC)[xvar],\n",
    "                       datasets_bdt['infv'].query(numu_CCother)[xvar],\n",
    "                       datasets_bdt['infv'].query(numubar_1eNp)[xvar], \n",
    "                       datasets_bdt['infv'].query(signal)[xvar]],\n",
    "            bins, histtype='bar', range=[xlow, xhigh], stacked=True, \n",
    "            color=[labels['outfv'][1], \n",
    "                       labels['nue_NC_Npi0'][1], \n",
    "                       labels['nue_CC_Npi0'][1], \n",
    "                       labels['nue_NC_0pi0'][1], \n",
    "                       labels['nue_CC_0pi0'][1], \n",
    "                       labels['numu_NC'][1], \n",
    "                       labels['numu_CCother'][1],\n",
    "                       labels['numubar_1eNp'][1], \n",
    "                       labels['signal'][1]], \n",
    "            label=[leg['outfv'], \n",
    "                   leg['nue_NC_Npi0'], \n",
    "                   leg['nue_CC_Npi0'], \n",
    "                   leg['nue_NC_0pi0'], \n",
    "                   leg['nue_CC_0pi0'], \n",
    "                   leg['numu_NC'], \n",
    "                   leg['numu_CCother'], \n",
    "                   leg['numubar_1eNp'], \n",
    "                   leg['signal']\n",
    "                  ],\n",
    "            weights=[datasets_bdt['outfv'].totweight_data, \n",
    "                     datasets_bdt['infv'].query(nue_NC_Npi0).totweight_data, \n",
    "                     datasets_bdt['infv'].query(nue_CC_Npi0).totweight_data,\n",
    "                     datasets_bdt['infv'].query(nue_NC_0pi0).totweight_data,\n",
    "                     datasets_bdt['infv'].query(nue_CC_0pi0).totweight_data,\n",
    "                     datasets_bdt['infv'].query(numu_NC).totweight_data,\n",
    "                     datasets_bdt['infv'].query(numu_CCother).totweight_data,\n",
    "                     datasets_bdt['infv'].query(numubar_1eNp).totweight_data,\n",
    "                     datasets_bdt['infv'].query(signal).totweight_data \n",
    "                     ])\n",
    "\n",
    "#This is not how to jump to get one value! You want to sum the columns not the rows!\n",
    "print(n[-1])\n",
    "print(sum(n[-1]))\n",
    "#print(sum(sum(n)))\n",
    "\n",
    "#print(len(datasets_bdt['infv'].query(signal)[xvar]))\n",
    "#print(len(datasets_bdt['infv'].query(signal).totweight_data))\n",
    "\n",
    "#if useWeights == False:\n",
    "#    nuWro_stat_err_numu = n[-1]\n",
    "\n",
    "\n",
    "# simulation outline \n",
    "tot = list([0, n[-1][0]])+list(n[-1])+[0]\n",
    "b_step = list([b[0]])+list(b)+list([b[-1]])\n",
    "plt.step(b_step, tot, color='saddlebrown', linewidth=2)\n",
    "\n",
    "# plot format stuff\n",
    "plt.legend(loc='best', prop={\"size\":10}, ncol=3, frameon=False)\n",
    "\n",
    "\n",
    "    \n",
    "plt.xlabel(\"Reconstructed \"+x_label, fontsize=15)\n",
    "\n",
    "#plt.xticks(x_ticks, fontsize=14)\n",
    "\n",
    "plt.xticks(fontsize=14)\n",
    "plt.yticks(fontsize=14)\n",
    "\n",
    "plt.xlim(xlow, xhigh)\n",
    "#plt.ylim(0, 30)\n",
    "\n",
    "if not ISRUN3: \n",
    "    plt.title(\"FHC Run 1 - MC Only\", fontsize=16)\n",
    "    plt.ylabel('$\\\\nu$ / $2\\\\times10^{20}$ POT', fontsize=15)\n",
    "else: \n",
    "    plt.title(\"RHC Run 3 - MC Only\", fontsize=16)\n",
    "    plt.ylabel('$\\\\nu$ / $5\\\\times10^{20}$ POT', fontsize=15)\n",
    "\n",
    "##plt.savefig(\"/uboone/data/users/kmiller/uBNuMI_CCNp/plots/fhc/fakedata/nuwro_evt_rate_\"+xvar+\".pdf\", \n",
    "#            transparent=True, bbox_inches='tight')\n",
    "\n",
    "plt.show()\n",
    "          "
   ]
  },
  {
   "cell_type": "code",
   "execution_count": 43,
   "id": "fc7307d4",
   "metadata": {},
   "outputs": [
    {
     "name": "stderr",
     "output_type": "stream",
     "text": [
      "/home/alex/miniconda3/envs/vintageXgboostVintageUprootEnv/lib/python3.8/site-packages/numpy/core/fromnumeric.py:3245: VisibleDeprecationWarning: Creating an ndarray from ragged nested sequences (which is a list-or-tuple of lists-or-tuples-or ndarrays with different lengths or shapes) is deprecated. If you meant to do this, you must specify 'dtype=object' when creating the ndarray.\n",
      "  return asarray(a).size\n",
      "/home/alex/miniconda3/envs/vintageXgboostVintageUprootEnv/lib/python3.8/site-packages/matplotlib/cbook/__init__.py:1449: VisibleDeprecationWarning: Creating an ndarray from ragged nested sequences (which is a list-or-tuple of lists-or-tuples-or ndarrays with different lengths or shapes) is deprecated. If you meant to do this, you must specify 'dtype=object' when creating the ndarray.\n",
      "  X = np.atleast_1d(X.T if isinstance(X, np.ndarray) else np.asarray(X))\n"
     ]
    },
    {
     "name": "stdout",
     "output_type": "stream",
     "text": [
      "[array([0., 0., 0., 0., 0., 0., 0., 0., 0., 0.]), array([0., 0., 0., 0., 0., 0., 0., 0., 0., 0.]), array([0., 0., 0., 0., 0., 0., 0., 0., 0., 0.]), array([0., 0., 0., 0., 0., 0., 0., 0., 0., 0.]), array([0., 0., 0., 0., 0., 0., 0., 0., 0., 0.]), array([0., 0., 0., 0., 0., 0., 0., 0., 0., 0.]), array([0., 0., 0., 0., 0., 0., 0., 0., 0., 0.]), array([0., 0., 0., 0., 0., 0., 0., 0., 0., 0.]), array([ 224.6305589 ,  247.73406233,  287.83613845,  332.36727161,\n",
      "        419.89611366,  472.06842169,  606.3464843 ,  843.02289316,\n",
      "       1339.04765564, 3275.12028823])]\n"
     ]
    },
    {
     "data": {
      "image/png": "[encoded data removed]",
      "text/plain": [
       "<Figure size 576x360 with 1 Axes>"
      ]
     },
     "metadata": {
      "needs_background": "light"
     },
     "output_type": "display_data"
    }
   ],
   "source": [
    "#TRUE BINS\n",
    "\n",
    "fig = plt.figure(figsize=(8, 5))\n",
    "\n",
    "n, b, p = plt.hist([datasets_bdt['outfv'][true_var], \n",
    "                       datasets_bdt['infv'].query(nue_NC_Npi0)[true_var],\n",
    "                       datasets_bdt['infv'].query(nue_CC_Npi0)[true_var],\n",
    "                       datasets_bdt['infv'].query(nue_NC_0pi0)[true_var],\n",
    "                       datasets_bdt['infv'].query(nue_CC_0pi0)[true_var],\n",
    "                       datasets_bdt['infv'].query(numu_NC)[true_var],\n",
    "                       datasets_bdt['infv'].query(numu_CCother)[true_var],\n",
    "                       datasets_bdt['infv'].query(numubar_1eNp)[true_var], \n",
    "                       datasets_bdt['infv'].query(signal)[true_var]],\n",
    "            bins, histtype='bar', range=[xlow, xhigh], stacked=True, \n",
    "            color=[labels['outfv'][1], \n",
    "                       labels['nue_NC_Npi0'][1], \n",
    "                       labels['nue_CC_Npi0'][1], \n",
    "                       labels['nue_NC_0pi0'][1], \n",
    "                       labels['nue_CC_0pi0'][1], \n",
    "                       labels['numu_NC'][1], \n",
    "                       labels['numu_CCother'][1],\n",
    "                       labels['numubar_1eNp'][1], \n",
    "                       labels['signal'][1]], \n",
    "            label=[leg['outfv'], \n",
    "                   leg['nue_NC_Npi0'], \n",
    "                   leg['nue_CC_Npi0'], \n",
    "                   leg['nue_NC_0pi0'], \n",
    "                   leg['nue_CC_0pi0'], \n",
    "                   leg['numu_NC'], \n",
    "                   leg['numu_CCother'], \n",
    "                   leg['numubar_1eNp'], \n",
    "                   leg['signal']\n",
    "                  ],\n",
    "            weights=[datasets_bdt['outfv'].totweight_data, \n",
    "                     datasets_bdt['infv'].query(nue_NC_Npi0).totweight_data, \n",
    "                     datasets_bdt['infv'].query(nue_CC_Npi0).totweight_data,\n",
    "                     datasets_bdt['infv'].query(nue_NC_0pi0).totweight_data,\n",
    "                     datasets_bdt['infv'].query(nue_CC_0pi0).totweight_data,\n",
    "                     datasets_bdt['infv'].query(numu_NC).totweight_data,\n",
    "                     datasets_bdt['infv'].query(numu_CCother).totweight_data,\n",
    "                     datasets_bdt['infv'].query(numubar_1eNp).totweight_data,\n",
    "                     datasets_bdt['infv'].query(signal).totweight_data \n",
    "                     ])\n",
    "\n",
    "print(n)\n",
    "#print(sum(n))\n",
    "#print(sum(n[-1]))\n",
    "#print(sum(sum(n)))\n",
    "\n",
    "#inTruth = True\n",
    "\n",
    "#if useWeights == False and inTruth == True:\n",
    "#    nuWro_stat_err_numu_inTruth = sum(n)\n",
    "\n",
    "\n",
    "# simulation outline \n",
    "tot = list([0, n[-1][0]])+list(n[-1])+[0]\n",
    "b_step = list([b[0]])+list(b)+list([b[-1]])\n",
    "plt.step(b_step, tot, color='saddlebrown', linewidth=2)\n",
    "\n",
    "# plot format stuff\n",
    "plt.legend(loc='best', prop={\"size\":10}, ncol=3, frameon=False)\n",
    "\n",
    "\n",
    "    \n",
    "plt.xlabel(\"True \"+x_label, fontsize=15)\n",
    "\n",
    "#plt.xticks(x_ticks, fontsize=14)\n",
    "\n",
    "plt.xticks(fontsize=14)\n",
    "plt.yticks(fontsize=14)\n",
    "\n",
    "plt.xlim(xlow, xhigh)\n",
    "#plt.ylim(0, 30)\n",
    "\n",
    "if not ISRUN3: \n",
    "    plt.title(\"FHC Run 1 - MC Only\", fontsize=16)\n",
    "    plt.ylabel('$\\\\nu$ / $2\\\\times10^{20}$ POT', fontsize=15)\n",
    "else: \n",
    "    plt.title(\"RHC Run 3 - MC Only\", fontsize=16)\n",
    "    plt.ylabel('$\\\\nu$ / $5\\\\times10^{20}$ POT', fontsize=15)\n",
    "\n",
    "##plt.savefig(\"/uboone/data/users/kmiller/uBNuMI_CCNp/plots/fhc/fakedata/nuwro_evt_rate_\"+xvar+\".pdf\", \n",
    "#            transparent=True, bbox_inches='tight')\n",
    "\n",
    "plt.show()"
   ]
  },
  {
   "cell_type": "code",
   "execution_count": 44,
   "id": "e9178805",
   "metadata": {},
   "outputs": [],
   "source": [
    "ending = \"Jan19b\"\n",
    "\n",
    "#if inTruth == True:\n",
    "#    print(nuWro_stat_err_numu_inTruth)\n",
    "\n",
    "#    np.savetxt(\"numu_nuWro_stat_err_inTruth_\"+ending+\".csv\", \n",
    "#               nuWro_stat_err_numu_inTruth,\n",
    "#               delimiter =\", \", \n",
    "#               fmt ='% s')"
   ]
  },
  {
   "cell_type": "code",
   "execution_count": 45,
   "id": "c0ddd81f",
   "metadata": {},
   "outputs": [
    {
     "data": {
      "text/plain": [
       "True"
      ]
     },
     "execution_count": 45,
     "metadata": {},
     "output_type": "execute_result"
    }
   ],
   "source": [
    "nuwro"
   ]
  },
  {
   "cell_type": "code",
   "execution_count": 46,
   "id": "68996980",
   "metadata": {},
   "outputs": [
    {
     "name": "stdout",
     "output_type": "stream",
     "text": [
      "total signal events = 473.15817482100346\n",
      "total signal events = 669.7602266903923\n"
     ]
    }
   ],
   "source": [
    "selected_events = pd.concat([datasets_bdt['outfv'], datasets_bdt['infv']])\n",
    "#print(selected_events)\n",
    "\n",
    "tot_signal_weighted = np.nansum(selected_events.query('is_signal==True')['totweight_data'])\n",
    "print('total signal events = '+ str(tot_signal_weighted))\n",
    "\n",
    "tot_signal_weighted = np.nansum(selected_events['totweight_data'])\n",
    "print('total signal events = '+ str(tot_signal_weighted))"
   ]
  },
  {
   "cell_type": "code",
   "execution_count": 47,
   "id": "e6d3ade9",
   "metadata": {},
   "outputs": [
    {
     "name": "stdout",
     "output_type": "stream",
     "text": [
      "669.7602266903854\n"
     ]
    },
    {
     "data": {
      "image/png": "[encoded data removed]",
      "text/plain": [
       "<Figure size 576x360 with 1 Axes>"
      ]
     },
     "metadata": {
      "needs_background": "light"
     },
     "output_type": "display_data"
    }
   ],
   "source": [
    "\n",
    "\n",
    "#RECO VAR\n",
    "\n",
    "# ppfx correction effect \n",
    "fig = plt.figure(figsize=(8, 5))\n",
    "\n",
    "plt.hist(selected_events[xvar], bins, range=[xlow, xhigh],\n",
    "            weights=selected_events.pot_scale, linestyle=\":\", linewidth=2, histtype='step', \n",
    "                  label='Unweighted')\n",
    "\n",
    "test = plt.hist(selected_events[xvar], bins, range=[xlow, xhigh],\n",
    "            weights=selected_events.totweight_data, linestyle=\":\", linewidth=2, histtype='step', \n",
    "                  label='PPFX-corrected')\n",
    "\n",
    "print(sum(test[0]))\n",
    "\n",
    "# plot format stuff\n",
    "plt.legend(loc='best', prop={\"size\":14}, ncol=1, frameon=False)\n",
    "\n",
    "plt.ylabel('$\\\\nu$ / $2\\\\times10^{20}$ POT', fontsize=15)\n",
    "    \n",
    "plt.xlabel(\"Reco \"+x_label, fontsize=15)\n",
    "plt.xticks(x_ticks, fontsize=14)\n",
    "\n",
    "plt.yticks(fontsize=14)\n",
    "\n",
    "plt.xlim(xlow, xhigh)\n",
    "plt.title(\"Selected Event Rate\", fontsize=16)\n",
    "\n",
    "plt.show()\n",
    "\n"
   ]
  },
  {
   "cell_type": "code",
   "execution_count": 47,
   "id": "a49db479",
   "metadata": {},
   "outputs": [
    {
     "name": "stdout",
     "output_type": "stream",
     "text": [
      "[ 224.6305589   247.73406233  287.83613845  332.36727161  419.89611366\n",
      "  472.06842169  606.3464843   843.02289316 1339.04765564 3275.12028823]\n",
      "8048.069887976835\n"
     ]
    },
    {
     "data": {
      "image/png": "[encoded data removed]",
      "text/plain": [
       "<Figure size 576x360 with 1 Axes>"
      ]
     },
     "metadata": {
      "needs_background": "light"
     },
     "output_type": "display_data"
    }
   ],
   "source": [
    "#TRUE VAR\n",
    "\n",
    "\n",
    "# ppfx correction effect \n",
    "fig = plt.figure(figsize=(8, 5))\n",
    "\n",
    "plt.hist(selected_events.query('is_signal==True')[true_var], bins, range=[xlow, xhigh],\n",
    "            weights=selected_events.query('is_signal==True').pot_scale, linestyle=\":\", linewidth=2, histtype='step', \n",
    "                  label='Unweighted')\n",
    "\n",
    "true_nuWro = plt.hist(selected_events.query('is_signal==True')[true_var], bins, range=[xlow, xhigh],\n",
    "            weights=selected_events.query('is_signal==True').totweight_data, linestyle=\":\", linewidth=2, histtype='step', \n",
    "                  label='PPFX-corrected')\n",
    "\n",
    "print(true_nuWro[0])\n",
    "print(sum(true_nuWro[0]))\n",
    "\n",
    "\n",
    "# plot format stuff\n",
    "plt.legend(loc='best', prop={\"size\":14}, ncol=1, frameon=False)\n",
    "\n",
    "plt.ylabel('$\\\\nu$ / $2\\\\times10^{20}$ POT', fontsize=15)\n",
    "    \n",
    "plt.xlabel(\"True \"+x_label, fontsize=15)\n",
    "plt.xticks(x_ticks, fontsize=14)\n",
    "\n",
    "plt.yticks(fontsize=14)\n",
    "\n",
    "plt.xlim(xlow, xhigh)\n",
    "plt.title(\"Selected Signal Event Rate\", fontsize=16)\n",
    "\n",
    "plt.show()\n"
   ]
  },
  {
   "cell_type": "code",
   "execution_count": 48,
   "id": "5649e4ab",
   "metadata": {},
   "outputs": [
    {
     "name": "stdout",
     "output_type": "stream",
     "text": [
      "True nuWro for comparison:  [ 224.6305589   247.73406233  287.83613845  332.36727161  419.89611366\n",
      "  472.06842169  606.3464843   843.02289316 1339.04765564 3275.12028823]\n"
     ]
    }
   ],
   "source": [
    "print(\"True nuWro for comparison: \", true_nuWro[0])"
   ]
  },
  {
   "cell_type": "code",
   "execution_count": 49,
   "id": "aeea90a6",
   "metadata": {},
   "outputs": [],
   "source": [
    "ending = \"Jan19b\"\n",
    "\n",
    "if isTruth == True:\n",
    "    np.savetxt(\"numu_nuWro_prior_true_run1_angle_\"+ending+\".csv\", \n",
    "               true_nuWro[0],\n",
    "               delimiter =\", \", \n",
    "               fmt ='% s')"
   ]
  },
  {
   "cell_type": "markdown",
   "id": "6d10d099",
   "metadata": {},
   "source": [
    "GENIE bkg subtractions"
   ]
  },
  {
   "cell_type": "code",
   "execution_count": 48,
   "id": "40af2fd4",
   "metadata": {},
   "outputs": [],
   "source": [
    "ending = \"Jan19b\""
   ]
  },
  {
   "cell_type": "code",
   "execution_count": 49,
   "id": "ec91de44",
   "metadata": {},
   "outputs": [
    {
     "name": "stdout",
     "output_type": "stream",
     "text": [
      "[  6.66177487   3.36816344   2.28916497   3.89677625   5.54857998\n",
      "   7.44643198  12.05391139  20.29544839  42.30366541 102.2055969 ]\n",
      "[ 10.88313452   8.4075371   11.63286747  17.0139481   21.16407431\n",
      "  24.67031559  38.54940945  56.31968982  89.29373942 168.51182099]\n",
      "[ 245.76979377  269.38303455  287.45565821  353.28773606  404.93434957\n",
      "  499.97645032  624.47108941  849.1695983  1387.96673319 3484.49331031]\n"
     ]
    }
   ],
   "source": [
    "\n",
    "numu_bkg_noExt = pd.read_csv(\"numu_nopions_angleDiff_usingSelection_run1_cv_numu_bkg_noExt_noDirt_\"+ending+\".csv\", header=None)\n",
    "\n",
    "print(numu_bkg_noExt.values[:, 0])\n",
    "##########################\n",
    "\n",
    "numu_evt_rate = pd.read_csv(\"numu_nopions_angleDiff_usingSelection_run1_cv_numu_evt_rate_\"+ending+\".csv\", header=None)\n",
    "\n",
    "numu_evt_rate = numu_evt_rate.values[:, 0]\n",
    "print(numu_evt_rate)\n",
    "\n",
    "#########################\n",
    "\n",
    "numu_full_evt_rate = pd.read_csv(\"numu_full_500_catsel_nopions_angleDiff_usingSelection_prior_true_signal_recoCut_run1_\"+ending+\".csv\", header=None)\n",
    "\n",
    "numu_full_evt_rate = numu_full_evt_rate.values[:, 0]\n",
    "print(numu_full_evt_rate)"
   ]
  },
  {
   "cell_type": "code",
   "execution_count": 50,
   "id": "3d5e7738",
   "metadata": {},
   "outputs": [
    {
     "name": "stdout",
     "output_type": "stream",
     "text": [
      "[ 16.81038722  17.00270587  20.70223589  21.23257356  28.24756849\n",
      "  40.32534936  51.77037053  87.65501276 130.07396902 255.940054  ]\n"
     ]
    },
    {
     "data": {
      "image/png": "[encoded data removed]",
      "text/plain": [
       "<Figure size 432x288 with 1 Axes>"
      ]
     },
     "metadata": {
      "needs_background": "light"
     },
     "output_type": "display_data"
    }
   ],
   "source": [
    "\n",
    "\n",
    "n, b, p = plt.hist(selected_events[xvar], bins, range=[xlow, xhigh],\n",
    "            weights=selected_events.totweight_data)\n",
    "#plt.close()\n",
    "\n",
    "print(n)"
   ]
  },
  {
   "cell_type": "code",
   "execution_count": 51,
   "id": "7f83a210",
   "metadata": {},
   "outputs": [
    {
     "data": {
      "text/plain": [
       "10"
      ]
     },
     "execution_count": 51,
     "metadata": {},
     "output_type": "execute_result"
    }
   ],
   "source": [
    "len(n)"
   ]
  },
  {
   "cell_type": "code",
   "execution_count": 52,
   "id": "ebe2a010",
   "metadata": {},
   "outputs": [
    {
     "data": {
      "text/plain": [
       "array([-0.9, -0.7, -0.5, -0.3, -0.1,  0.1,  0.3,  0.5,  0.7,  0.9])"
      ]
     },
     "execution_count": 52,
     "metadata": {},
     "output_type": "execute_result"
    }
   ],
   "source": [
    "bincenters"
   ]
  },
  {
   "cell_type": "code",
   "execution_count": 53,
   "id": "142635bd",
   "metadata": {},
   "outputs": [
    {
     "data": {
      "text/plain": [
       "[0.1, 0.1, 0.1, 0.1, 0.1, 0.1, 0.1, 0.1, 0.1, 0.1]"
      ]
     },
     "execution_count": 53,
     "metadata": {},
     "output_type": "execute_result"
    }
   ],
   "source": [
    "\n",
    "\n",
    "binwidth = []\n",
    "\n",
    "for x in range(len(bincenters)):\n",
    "    \n",
    "    if xvar=='tksh_angle': \n",
    "        binwidth.append(round(abs((x_ticks)[x+1]-(x_ticks)[x])/2, 2))\n",
    "        \n",
    "    else: \n",
    "        binwidth.append(round(abs((x_ticks+[xhigh])[x+1]-(x_ticks+[xhigh])[x])/2, 2))\n",
    "    \n",
    "binwidth\n",
    "\n"
   ]
  },
  {
   "cell_type": "code",
   "execution_count": 54,
   "id": "457fd681",
   "metadata": {},
   "outputs": [],
   "source": [
    "## do not include EXT background subtraction! MC only \n",
    "#cv_bkgd_mc = [a-b for a,b in zip(fhc_dict['cv_bkgd'], fhc_dict['cv_ext'])]\n",
    "#I already do not in what has been loaded in\n",
    "\n",
    "cv_bkgd_mc = numu_bkg_noExt.values[:, 0]"
   ]
  },
  {
   "cell_type": "code",
   "execution_count": 55,
   "id": "6b4ab1b9",
   "metadata": {},
   "outputs": [
    {
     "data": {
      "text/plain": [
       "array([  6.66177487,   3.36816344,   2.28916497,   3.89677625,\n",
       "         5.54857998,   7.44643198,  12.05391139,  20.29544839,\n",
       "        42.30366541, 102.2055969 ])"
      ]
     },
     "execution_count": 55,
     "metadata": {},
     "output_type": "execute_result"
    }
   ],
   "source": [
    "cv_bkgd_mc"
   ]
  },
  {
   "cell_type": "code",
   "execution_count": 56,
   "id": "a95eae4a",
   "metadata": {},
   "outputs": [],
   "source": [
    "#ALLSEL NUWRO\n",
    "\n",
    "# background subtracted event rate - EXT was never added so never subtracted\n",
    "#(still need to take into acct its uncertainty)\n",
    "nuwro_evt_rate = [a-b for a,b in zip(n,cv_bkgd_mc)]\n"
   ]
  },
  {
   "cell_type": "code",
   "execution_count": 57,
   "id": "84be1492",
   "metadata": {},
   "outputs": [
    {
     "data": {
      "text/plain": [
       "10"
      ]
     },
     "execution_count": 57,
     "metadata": {},
     "output_type": "execute_result"
    }
   ],
   "source": [
    "len(nuwro_evt_rate)"
   ]
  },
  {
   "cell_type": "code",
   "execution_count": 58,
   "id": "aaaea96c",
   "metadata": {},
   "outputs": [
    {
     "data": {
      "image/png": "[encoded data removed]",
      "text/plain": [
       "<Figure size 576x360 with 1 Axes>"
      ]
     },
     "metadata": {
      "needs_background": "light"
     },
     "output_type": "display_data"
    }
   ],
   "source": [
    "fig = plt.figure(figsize=(8, 5))\n",
    "\n",
    "plt.hist(selected_events[xvar],\n",
    "            bins, histtype='step', range=[xlow, xhigh],\n",
    "            weights=selected_events.totweight_data, linestyle=\":\", linewidth=2, \n",
    "                  label='Full')\n",
    "\n",
    "plt.hist(bincenters, bins, histtype='step', range=[xlow,xhigh], \n",
    "        weights=nuwro_evt_rate, linestyle=\":\", linewidth=2, \n",
    "                  label='GENIE v3 background-subtracted')\n",
    "\n",
    "# plot format stuff\n",
    "plt.legend(loc='best', prop={\"size\":14}, ncol=1, frameon=False)\n",
    "\n",
    "plt.ylabel('$\\\\nu$ / $2\\\\times10^{20}$ POT', fontsize=15)\n",
    "    \n",
    "plt.xlabel(\"Reco \"+x_label, fontsize=15)\n",
    "plt.xticks(x_ticks, fontsize=14)\n",
    "\n",
    "plt.yticks(fontsize=14)\n",
    "#plt.ylim(0, 7)\n",
    "\n",
    "plt.xlim(xlow, xhigh)\n",
    "plt.title(\"FHC NuWro Selected Evt Rate (MC Only)\", fontsize=16)\n",
    "\n",
    "plt.show()\n"
   ]
  },
  {
   "cell_type": "code",
   "execution_count": 59,
   "id": "e890a10e",
   "metadata": {},
   "outputs": [
    {
     "data": {
      "text/plain": [
       "(array([ 16.81038722,  17.00270587,  20.70223589,  21.23257356,\n",
       "         28.24756849,  40.32534936,  51.77037053,  87.65501276,\n",
       "        130.07396902, 255.940054  ]),\n",
       " array([-1.00000000e+00, -8.00000000e-01, -6.00000000e-01, -4.00000000e-01,\n",
       "        -2.00000000e-01, -2.22044605e-16,  2.00000000e-01,  4.00000000e-01,\n",
       "         6.00000000e-01,  8.00000000e-01,  1.00000000e+00]),\n",
       " <a list of 1 Patch objects>)"
      ]
     },
     "execution_count": 59,
     "metadata": {},
     "output_type": "execute_result"
    },
    {
     "data": {
      "image/png": "[encoded data removed]",
      "text/plain": [
       "<Figure size 432x288 with 1 Axes>"
      ]
     },
     "metadata": {
      "needs_background": "light"
     },
     "output_type": "display_data"
    }
   ],
   "source": [
    "plt.hist(selected_events[xvar],\n",
    "            bins, histtype='step', range=[xlow, xhigh],\n",
    "            weights=selected_events.totweight_data, linestyle=\":\", linewidth=2, \n",
    "                  label='Full')"
   ]
  },
  {
   "cell_type": "code",
   "execution_count": 60,
   "id": "18c143a9",
   "metadata": {},
   "outputs": [
    {
     "data": {
      "text/plain": [
       "463.6907131102572"
      ]
     },
     "execution_count": 60,
     "metadata": {},
     "output_type": "execute_result"
    }
   ],
   "source": [
    "sum(nuwro_evt_rate)"
   ]
  },
  {
   "cell_type": "code",
   "execution_count": 61,
   "id": "4a8db7b3",
   "metadata": {},
   "outputs": [
    {
     "data": {
      "image/png": "[encoded data removed]",
      "text/plain": [
       "<Figure size 576x504 with 2 Axes>"
      ]
     },
     "metadata": {
      "needs_background": "light"
     },
     "output_type": "display_data"
    }
   ],
   "source": [
    "from matplotlib import gridspec\n",
    "\n",
    "fig = plt.figure(figsize=(8, 7))\n",
    "\n",
    "gs = gridspec.GridSpec(2, 1, height_ratios=[2, 1])\n",
    "\n",
    "ax1 = plt.subplot(gs[0])\n",
    "ax2 = plt.subplot(gs[1])\n",
    "    \n",
    "ax1.tick_params(axis = 'both', which = 'major', labelsize = 13)\n",
    "ax2.tick_params(axis = 'both', which = 'major', labelsize = 13)\n",
    "\n",
    "ax2.yaxis.grid(linestyle=\"--\", color='black', alpha=0.2)\n",
    "ax2.xaxis.grid(linestyle=\"--\", color='black', alpha=0.2)\n",
    "\n",
    "# background subtracted genie evt rate \n",
    "ax1.hist(bincenters, bins, histtype='step', range=[xlow,xhigh], \n",
    "        weights=numu_evt_rate, linestyle=\":\", linewidth=2, \n",
    "                  label='GENIE v3')\n",
    "\n",
    "# background subtracted nuwro evt rate\n",
    "ax1.hist(bincenters, bins, histtype='step', range=[xlow,xhigh], \n",
    "        weights=nuwro_evt_rate, linestyle=\":\", linewidth=2, \n",
    "                  label='NuWro')\n",
    "\n",
    "# ratio plot  \n",
    "ax2.errorbar(bincenters, [a/b for a,b in zip(nuwro_evt_rate, numu_evt_rate)], \n",
    "             xerr=binwidth, color=\"black\", fmt='o')\n",
    "ax2.set_ylim(0, 2)\n",
    "\n",
    "\n",
    "# plot formatting \n",
    "ax1.set_xlim(xlow,xhigh)\n",
    "ax1.set_xticks(x_ticks)\n",
    "ax1.set_ylabel('$\\\\nu$ / $2\\\\times10^{20}$ POT', fontsize=15)\n",
    "\n",
    "ax2.set_xlim(xlow,xhigh)\n",
    "ax2.set_xticks(x_ticks)\n",
    "\n",
    "ax2.set_xlabel(x_label, fontsize=14)\n",
    "ax2.set_ylabel(\"NuWro / GENIE v3\", fontsize=14)\n",
    "\n",
    "ax1.legend(fontsize=13, frameon=False)\n",
    "    \n",
    "ax2.set_xlabel(\"Reconstructed \"+x_label, fontsize=15)\n",
    "ax1.set_title(\"Background-Subtracted Selected Event Rate\", fontsize=16)\n",
    "\n",
    "#if ISRUN3=='': \n",
    "#    plt.savefig(\"/uboone/data/users/kmiller/uBNuMI_CCNp/plots/combined/combined_\"+xvar+\"_closuretest.pdf\", \n",
    "#            transparent=True, bbox_inches='tight')\n",
    "\n",
    "#plt.savefig(\"/uboone/data/users/kmiller/uBNuMI_CCNp/plots/fhc/fakedata/nuwro_evt_rate_compare_\"+xvar+\".pdf\", \n",
    "#            transparent=True, bbox_inches='tight')\n",
    "plt.show()"
   ]
  },
  {
   "cell_type": "code",
   "execution_count": 62,
   "id": "56967250",
   "metadata": {},
   "outputs": [],
   "source": [
    "\n",
    "\n",
    "# nuwro selected neutrino backgrounds\n",
    "nuwro_bkgd = pd.concat([datasets_bdt['infv'].query('is_signal==False'), datasets_bdt['outfv']])\n",
    "\n"
   ]
  },
  {
   "cell_type": "code",
   "execution_count": 63,
   "id": "aa4d0fcc",
   "metadata": {},
   "outputs": [
    {
     "data": {
      "text/plain": [
       "[10.14861234462829,\n",
       " 13.634542429603673,\n",
       " 18.413070920651144,\n",
       " 17.335797309177202,\n",
       " 22.698988508342882,\n",
       " 32.878917374987104,\n",
       " 39.71645914165026,\n",
       " 67.35956436309637,\n",
       " 87.77030361346424,\n",
       " 153.73445710465603]"
      ]
     },
     "execution_count": 63,
     "metadata": {},
     "output_type": "execute_result"
    }
   ],
   "source": [
    "nuwro_evt_rate"
   ]
  },
  {
   "cell_type": "code",
   "execution_count": 64,
   "id": "275bb086",
   "metadata": {},
   "outputs": [
    {
     "data": {
      "image/png": "[encoded data removed]",
      "text/plain": [
       "<Figure size 576x504 with 2 Axes>"
      ]
     },
     "metadata": {
      "needs_background": "light"
     },
     "output_type": "display_data"
    }
   ],
   "source": [
    "fig = plt.figure(figsize=(8, 7))\n",
    "\n",
    "gs = gridspec.GridSpec(2, 1, height_ratios=[2, 1])\n",
    "\n",
    "ax1 = plt.subplot(gs[0])\n",
    "ax2 = plt.subplot(gs[1])\n",
    "    \n",
    "ax1.tick_params(axis = 'both', which = 'major', labelsize = 13)\n",
    "ax2.tick_params(axis = 'both', which = 'major', labelsize = 13)\n",
    "\n",
    "ax2.yaxis.grid(linestyle=\"--\", color='black', alpha=0.2)\n",
    "ax2.xaxis.grid(linestyle=\"--\", color='black', alpha=0.2)\n",
    "\n",
    "# genie\n",
    "ax1.hist(bincenters, bins, histtype='step', range=[xlow,xhigh], \n",
    "        weights=cv_bkgd_mc, linestyle=\":\", linewidth=2, \n",
    "                  label='GENIE v3')\n",
    "\n",
    "# background subtracted nuwro evt rate\n",
    "h_nuwro_bkgd = ax1.hist(nuwro_bkgd[xvar], bins, histtype='step', \n",
    "                        weights=nuwro_bkgd.totweight_data, range=[xlow,xhigh], \n",
    "         linestyle=\":\", linewidth=2, \n",
    "                  label='NuWro')[0]\n",
    "\n",
    "# ratio plot  \n",
    "ax2.errorbar(bincenters, [a/b for a,b in zip(h_nuwro_bkgd, cv_bkgd_mc)], \n",
    "             xerr=binwidth, color=\"black\", fmt='o')\n",
    "#ax2.set_ylim(0, 2)\n",
    "\n",
    "#ax1.set_ylim(0, 5)\n",
    "\n",
    "\n",
    "# plot formatting \n",
    "ax1.set_xlim(xlow,xhigh)\n",
    "ax1.set_xticks(x_ticks)\n",
    "ax1.set_ylabel('$\\\\nu$ / $2\\\\times10^{20}$ POT', fontsize=15)\n",
    "\n",
    "ax2.set_xlim(xlow,xhigh)\n",
    "ax2.set_xticks(x_ticks)\n",
    "\n",
    "ax2.set_xlabel(x_label, fontsize=14)\n",
    "ax2.set_ylabel(\"NuWro / GENIE v3\", fontsize=14)\n",
    "\n",
    "ax1.legend(fontsize=13, frameon=False)\n",
    "    \n",
    "ax2.set_xlabel(\"Reconstructed \"+x_label, fontsize=15)\n",
    "ax1.set_title(\"Selected Neutrino Backgrounds\", fontsize=16)\n",
    "\n",
    "\n",
    "#plt.savefig(\"/uboone/data/users/kmiller/uBNuMI_CCNp/plots/fhc/fakedata/nuwro_mc_bkgd_compare_\"+xvar+\".pdf\", \n",
    "#            transparent=True, bbox_inches='tight')\n",
    "\n",
    "plt.show()"
   ]
  },
  {
   "cell_type": "code",
   "execution_count": 65,
   "id": "ad97ebf2",
   "metadata": {},
   "outputs": [
    {
     "name": "stdout",
     "output_type": "stream",
     "text": [
      "[ 245.76979377  269.38303455  287.45565821  353.28773606  404.93434957\n",
      "  499.97645032  624.47108941  849.1695983  1387.96673319 3484.49331031]\n"
     ]
    }
   ],
   "source": [
    "#This should be prior true signal from genie\n",
    "#genie_true = generated_signal(False, true_var, bins, xlow, xhigh)[0]\n",
    "\n",
    "genie_true = numu_full_evt_rate\n",
    "\n",
    "print(genie_true)"
   ]
  },
  {
   "cell_type": "code",
   "execution_count": 66,
   "id": "6b48c7a2",
   "metadata": {},
   "outputs": [
    {
     "name": "stdout",
     "output_type": "stream",
     "text": [
      "[-0.9 -0.7 -0.5 -0.3 -0.1  0.1  0.3  0.5  0.7  0.9]\n",
      "[ 13.91937288  22.90812373  18.15357576  25.10463963  25.93657553\n",
      "  32.17646128  42.52234188  69.35484966  89.88580852 133.19642595]\n"
     ]
    },
    {
     "data": {
      "image/png": "[encoded data removed]",
      "text/plain": [
       "<Figure size 576x504 with 2 Axes>"
      ]
     },
     "metadata": {
      "needs_background": "light"
     },
     "output_type": "display_data"
    }
   ],
   "source": [
    "fig = plt.figure(figsize=(8, 7))\n",
    "\n",
    "gs = gridspec.GridSpec(2, 1, height_ratios=[2, 1])\n",
    "\n",
    "ax1 = plt.subplot(gs[0])\n",
    "ax2 = plt.subplot(gs[1])\n",
    "    \n",
    "ax1.tick_params(axis = 'both', which = 'major', labelsize = 13)\n",
    "ax2.tick_params(axis = 'both', which = 'major', labelsize = 13)\n",
    "\n",
    "ax2.yaxis.grid(linestyle=\"--\", color='black', alpha=0.2)\n",
    "ax2.xaxis.grid(linestyle=\"--\", color='black', alpha=0.2)\n",
    "\n",
    "ax1.hist(bincenters, bins, histtype='step', range=[xlow,xhigh], \n",
    "        weights=genie_true, linestyle=\":\", linewidth=2, \n",
    "                  label='GENIE v3')\n",
    "\n",
    "print(bincenters)\n",
    "\n",
    "nuwro_true = ax1.hist(generated_events.query('is_signal==True')[true_var], bins, \n",
    "                      histtype='step', range=[xlow,xhigh], \n",
    "                      weights=generated_events.query('is_signal==True')['totweight_data'], \n",
    "                      linestyle=\":\", linewidth=2, \n",
    "                  label='NuWro')[0]\n",
    "\n",
    "\n",
    "# ratio plot  \n",
    "ax2.errorbar(bincenters, [a/b for a,b in zip(nuwro_true, genie_true)], \n",
    "             xerr=binwidth, color=\"black\", fmt='o')\n",
    "ax2.set_ylim(0, 2)\n",
    "\n",
    "print(nuwro_true)\n",
    "\n",
    "# plot formatting \n",
    "ax1.set_xlim(xlow,xhigh)\n",
    "ax1.set_xticks(x_ticks)\n",
    "ax1.set_ylabel('$\\\\nu$ / $2\\\\times10^{20}$ POT', fontsize=15)\n",
    "\n",
    "ax2.set_xlim(xlow,xhigh)\n",
    "ax2.set_xticks(x_ticks)\n",
    "\n",
    "ax2.set_xlabel(x_label, fontsize=14)\n",
    "ax2.set_ylabel(\"NuWro / GENIE v3\", fontsize=14)\n",
    "\n",
    "ax1.legend(fontsize=13, frameon=False)\n",
    "    \n",
    "ax2.set_xlabel(\"True \"+x_label, fontsize=15)\n",
    "ax1.set_title(\"Generated Signal Event Rate\", fontsize=16)\n",
    "\n",
    "#plt.savefig(\"/uboone/data/users/kmiller/uBNuMI_CCNp/plots/fhc/fakedata/nuwro_gen_signal_compare_\"+xvar+\".pdf\", \n",
    "#            transparent=True, bbox_inches='tight')\n",
    "plt.show()"
   ]
  },
  {
   "cell_type": "code",
   "execution_count": 67,
   "id": "698c47c6",
   "metadata": {},
   "outputs": [
    {
     "name": "stdout",
     "output_type": "stream",
     "text": [
      "Generated (True - GENIE v3) =  [ 245.76979377  269.38303455  287.45565821  353.28773606  404.93434957\n",
      "  499.97645032  624.47108941  849.1695983  1387.96673319 3484.49331031]\n",
      "Selected (Reco - NuWro) =  [10.14861234462829, 13.634542429603673, 18.413070920651144, 17.335797309177202, 22.698988508342882, 32.878917374987104, 39.71645914165026, 67.35956436309637, 87.77030361346424, 153.73445710465603]\n"
     ]
    },
    {
     "data": {
      "image/png": "[encoded data removed]",
      "text/plain": [
       "<Figure size 720x504 with 1 Axes>"
      ]
     },
     "metadata": {
      "needs_background": "light"
     },
     "output_type": "display_data"
    }
   ],
   "source": [
    "# nuwro input distributions \n",
    "\n",
    "fig = plt.figure(figsize=(10, 7))\n",
    "\n",
    "#So this is Prior True\n",
    "plt.hist(bincenters, bins, color='orange', label='Generated (True - GENIE v3)', alpha=0.4, \n",
    "         weights=genie_true)\n",
    "\n",
    "print(\"Generated (True - GENIE v3) = \", genie_true)\n",
    "\n",
    "\n",
    "#And this is Data Signal\n",
    "# genie background subtracted evt rate \n",
    "plt.hist(bincenters, bins, color='blue', label='Selected (Reco - NuWro)', alpha=0.4, weights=nuwro_evt_rate)\n",
    "\n",
    "print('Selected (Reco - NuWro) = ', nuwro_evt_rate)\n",
    "\n",
    "plt.legend(fontsize=13)\n",
    "plt.title('FHC Run 1 - Input Signal Predictions', fontsize=16)\n",
    "\n",
    "plt.xlim(xlow, xhigh)\n",
    "\n",
    "plt.xlabel(x_label, fontsize=15)\n",
    "    \n",
    "plt.xticks(x_ticks, fontsize=13)\n",
    "plt.yticks(fontsize=13)\n",
    "\n",
    "plt.ylabel(\"$\\\\nu$ / 2.0 $\\\\times 10^{20}$ POT\", fontsize=15)\n",
    "\n",
    "plt.grid()\n",
    "\n",
    "#plt.savefig(\"/uboone/data/users/kmiller/uBNuMI_CCNp/plots/fhc/fakedata/nuwro_input_dist_\"+xvar+\".pdf\", \n",
    "#            transparent=True, bbox_inches='tight')\n",
    "\n",
    "plt.show()"
   ]
  },
  {
   "cell_type": "code",
   "execution_count": 68,
   "id": "f1c32cf1",
   "metadata": {},
   "outputs": [
    {
     "data": {
      "text/plain": [
       "[10.14861234462829,\n",
       " 13.634542429603673,\n",
       " 18.413070920651144,\n",
       " 17.335797309177202,\n",
       " 22.698988508342882,\n",
       " 32.878917374987104,\n",
       " 39.71645914165026,\n",
       " 67.35956436309637,\n",
       " 87.77030361346424,\n",
       " 153.73445710465603]"
      ]
     },
     "execution_count": 68,
     "metadata": {},
     "output_type": "execute_result"
    }
   ],
   "source": [
    "nuwro_evt_rate"
   ]
  },
  {
   "cell_type": "code",
   "execution_count": 69,
   "id": "7a16e36d",
   "metadata": {},
   "outputs": [
    {
     "name": "stdout",
     "output_type": "stream",
     "text": [
      "[4.470166660908858, 4.531339244349231, 5.563543706772289, 5.716721146381857, 7.627070355328702, 10.88087032268941, 13.956345890910479, 23.67322059035615, 35.16595749931822, 69.38940010732162]\n"
     ]
    }
   ],
   "source": [
    "##ALLSEL NUWRO STAT ERRS\n",
    "\n",
    "# sumw2 of the full event rate \n",
    "nuwro_full_sumw2 = []\n",
    "\n",
    "for i in range(len(bins)-1):\n",
    "\n",
    "    if i==len(bins)-2: \n",
    "        bin_query = xvar+' >= '+str(bins[i])+' and '+xvar+' <= '+str(bins[i+1])\n",
    "    else: \n",
    "        bin_query = xvar+' >= '+str(bins[i])+' and '+xvar+' < '+str(bins[i+1])\n",
    "\n",
    "    #nuwro_full_sumw2.append(sum(datasets_bdt['infv'].query('is_signal==True and '+bin_query).totweight_data ** 2) ) #bug (fixed below)\n",
    "    nuwro_full_sumw2.append(sum(selected_events.query(bin_query).totweight_data ** 2))\n",
    "    #nuwro_full_sumw2.append(sum(nue.query(bin_query).totweight_data ** 2))\n",
    "    \n",
    "    \n",
    "print(nuwro_full_sumw2)   \n",
    "# percent stat error - of the background subtracted event rate \n",
    "#print( [(np.sqrt(a)/b) for a,b in zip(nuwro_full_sumw2, nuwro_evt_rate)] )"
   ]
  },
  {
   "cell_type": "code",
   "execution_count": 70,
   "id": "12fc6d28",
   "metadata": {},
   "outputs": [
    {
     "data": {
      "text/plain": [
       "[4.470166660908858,\n",
       " 4.531339244349231,\n",
       " 5.563543706772289,\n",
       " 5.716721146381857,\n",
       " 7.627070355328702,\n",
       " 10.88087032268941,\n",
       " 13.956345890910479,\n",
       " 23.67322059035615,\n",
       " 35.16595749931822,\n",
       " 69.38940010732162]"
      ]
     },
     "execution_count": 70,
     "metadata": {},
     "output_type": "execute_result"
    }
   ],
   "source": [
    "nuwro_full_sumw2"
   ]
  },
  {
   "cell_type": "markdown",
   "id": "b272660c",
   "metadata": {},
   "source": [
    "Signal Region Systematic - NuWro"
   ]
  },
  {
   "cell_type": "code",
   "execution_count": 71,
   "id": "212eed33",
   "metadata": {},
   "outputs": [
    {
     "data": {
      "image/png": "[encoded data removed]",
      "text/plain": [
       "<Figure size 576x360 with 1 Axes>"
      ]
     },
     "metadata": {
      "needs_background": "light"
     },
     "output_type": "display_data"
    }
   ],
   "source": [
    "# genie vs nuwro event rate\n",
    "\n",
    "fig = plt.figure(figsize=(8, 5))\n",
    "\n",
    "# background subtracted genie evt rate \n",
    "plt.hist(bincenters, bins, histtype='step', range=[xlow,xhigh], \n",
    "        weights=numu_evt_rate, linestyle=\":\", linewidth=2, \n",
    "                  label='GENIE v3')\n",
    "\n",
    "# background subtracted nuwro evt rate\n",
    "plt.hist(bincenters, bins, histtype='step', range=[xlow,xhigh], \n",
    "        weights=nuwro_evt_rate, linestyle=\":\", linewidth=2, \n",
    "                  label='NuWro')\n",
    "\n",
    "# plot format stuff\n",
    "plt.legend(loc='best', prop={\"size\":14}, ncol=1, frameon=False)\n",
    "\n",
    "plt.ylabel('$\\\\nu$ / $2\\\\times10^{20}$ POT', fontsize=15)\n",
    "    \n",
    "plt.xlabel(\"Reconstructed \"+x_label, fontsize=15)\n",
    "plt.xticks(x_ticks, fontsize=14)\n",
    "\n",
    "plt.yticks(fontsize=14)\n",
    "\n",
    "plt.xlim(xlow, xhigh)\n",
    "\n",
    "\n",
    "plt.title(\"Background-Subtracted Selected Event Rate\", fontsize=16)\n",
    "\n",
    "plt.show()"
   ]
  },
  {
   "cell_type": "code",
   "execution_count": 72,
   "id": "2cc30037",
   "metadata": {},
   "outputs": [],
   "source": [
    "# genie_evt_rate - background subtracted event rate \n",
    "# nuwro_evt_rate - background subtracted event rate \n",
    "# genie_nu_bkgd - neutrino background prediction from genie \n",
    "# nuwro_nu_bkgd - neutrino background prediction from nuwro\n",
    "\n",
    "sys_dict = {}\n",
    "\n"
   ]
  },
  {
   "cell_type": "code",
   "execution_count": 73,
   "id": "71ae6cc7",
   "metadata": {},
   "outputs": [],
   "source": [
    "sys_dict['genie_evt_rate'] = numu_evt_rate\n",
    "sys_dict['nuwro_evt_rate'] = nuwro_evt_rate\n",
    "sys_dict['genie_nu_bkgd'] = cv_bkgd_mc\n",
    "sys_dict['nuwro_nu_bkgd'] = list(h_nuwro_bkgd)\n"
   ]
  },
  {
   "cell_type": "code",
   "execution_count": 74,
   "id": "9fbbe791",
   "metadata": {},
   "outputs": [],
   "source": [
    "np.savetxt(\"numu_nuWro_MC_Data_Signal_recoCut_run1_angle_\"+ending+\".csv\", \n",
    "           nuwro_evt_rate,\n",
    "           delimiter =\", \", \n",
    "           fmt ='% s')"
   ]
  },
  {
   "cell_type": "code",
   "execution_count": 75,
   "id": "13b3f262",
   "metadata": {},
   "outputs": [
    {
     "data": {
      "text/plain": [
       "array([ 13.91937288,  22.90812373,  18.15357576,  25.10463963,\n",
       "        25.93657553,  32.17646128,  42.52234188,  69.35484966,\n",
       "        89.88580852, 133.19642595])"
      ]
     },
     "execution_count": 75,
     "metadata": {},
     "output_type": "execute_result"
    }
   ],
   "source": [
    "nuwro_true"
   ]
  },
  {
   "cell_type": "code",
   "execution_count": 76,
   "id": "f0b7f324",
   "metadata": {},
   "outputs": [
    {
     "data": {
      "text/plain": [
       "array([ 245.76979377,  269.38303455,  287.45565821,  353.28773606,\n",
       "        404.93434957,  499.97645032,  624.47108941,  849.1695983 ,\n",
       "       1387.96673319, 3484.49331031])"
      ]
     },
     "execution_count": 76,
     "metadata": {},
     "output_type": "execute_result"
    }
   ],
   "source": [
    "genie_true"
   ]
  },
  {
   "cell_type": "markdown",
   "id": "28b4922a",
   "metadata": {},
   "source": [
    "## Create the Numu Cov Uncertainty Matrix"
   ]
  },
  {
   "cell_type": "code",
   "execution_count": 77,
   "id": "d957b271",
   "metadata": {},
   "outputs": [
    {
     "name": "stdout",
     "output_type": "stream",
     "text": [
      "[4.470166660908858, 4.531339244349231, 5.563543706772289, 5.716721146381857, 7.627070355328702, 10.88087032268941, 13.956345890910479, 23.67322059035615, 35.16595749931822, 69.38940010732162]\n"
     ]
    }
   ],
   "source": [
    "#nuWro_stat_err_numu\n",
    "#array([ 5.3487608 ,  5.52786268,  6.70549925,  6.97774993,  9.33344634,\n",
    "#       12.95879938, 16.85555654, 28.36305774, 41.59580091, 77.48407289])\n",
    "\n",
    "nuWro_stat_err_numu = nuwro_full_sumw2\n",
    "print(nuWro_stat_err_numu)"
   ]
  },
  {
   "cell_type": "code",
   "execution_count": 78,
   "id": "e16303d9",
   "metadata": {},
   "outputs": [
    {
     "name": "stdout",
     "output_type": "stream",
     "text": [
      "[ 0.59481363  0.27995308  1.31628853  0.34782029  0.50440804  6.2456548\n",
      "  7.3188141   9.25596312  9.41045904 16.48633859]\n"
     ]
    }
   ],
   "source": [
    "numu_bkg_genie_err = pd.read_csv(\"numu_bkg_exp_err_squared_angle_\"+ending+\".csv\", header=None)\n",
    "\n",
    "numu_bkg_genie_err = numu_bkg_genie_err.values[:, 0]\n",
    "print(numu_bkg_genie_err)"
   ]
  },
  {
   "cell_type": "code",
   "execution_count": 79,
   "id": "dc0afc62",
   "metadata": {},
   "outputs": [
    {
     "name": "stdout",
     "output_type": "stream",
     "text": [
      "[ 5.0649803   4.81129233  6.87983224  6.06454144  8.1314784  17.12652513\n",
      " 21.27515999 32.92918371 44.57641654 85.8757387 ]\n"
     ]
    }
   ],
   "source": [
    "totalstat_numu_err = nuWro_stat_err_numu + numu_bkg_genie_err\n",
    "print(totalstat_numu_err)"
   ]
  },
  {
   "cell_type": "code",
   "execution_count": 80,
   "id": "8fac7c72",
   "metadata": {},
   "outputs": [
    {
     "name": "stdout",
     "output_type": "stream",
     "text": [
      "[[0. 0. 0. 0. 0. 0. 0. 0. 0. 0.]\n",
      " [0. 0. 0. 0. 0. 0. 0. 0. 0. 0.]\n",
      " [0. 0. 0. 0. 0. 0. 0. 0. 0. 0.]\n",
      " [0. 0. 0. 0. 0. 0. 0. 0. 0. 0.]\n",
      " [0. 0. 0. 0. 0. 0. 0. 0. 0. 0.]\n",
      " [0. 0. 0. 0. 0. 0. 0. 0. 0. 0.]\n",
      " [0. 0. 0. 0. 0. 0. 0. 0. 0. 0.]\n",
      " [0. 0. 0. 0. 0. 0. 0. 0. 0. 0.]\n",
      " [0. 0. 0. 0. 0. 0. 0. 0. 0. 0.]\n",
      " [0. 0. 0. 0. 0. 0. 0. 0. 0. 0.]]\n"
     ]
    }
   ],
   "source": [
    "numu_cov_stats   = np.zeros([(len(bins)-1), (len(bins)-1)])\n",
    "print(numu_cov_stats)"
   ]
  },
  {
   "cell_type": "code",
   "execution_count": 81,
   "id": "65af29be",
   "metadata": {},
   "outputs": [],
   "source": [
    "numu_cov_stats[np.diag_indices_from(numu_cov_stats)]    = totalstat_numu_err"
   ]
  },
  {
   "cell_type": "code",
   "execution_count": 82,
   "id": "6012b278",
   "metadata": {},
   "outputs": [
    {
     "data": {
      "image/png": "[encoded data removed]",
      "text/plain": [
       "<Figure size 720x432 with 2 Axes>"
      ]
     },
     "metadata": {
      "needs_background": "light"
     },
     "output_type": "display_data"
    }
   ],
   "source": [
    "fig = plt.figure(figsize=(10, 6))\n",
    "        \n",
    "plt.pcolor(bins, bins, numu_cov_stats, cmap='OrRd', edgecolors='k')#, vmin=-1, vmax=1)\n",
    "            \n",
    "cbar = plt.colorbar()\n",
    "cbar.ax.tick_params(labelsize=14)\n",
    "\n",
    "\n",
    "\n",
    "\n",
    "#plt.xlabel('Reco Shower Energy [GeV]', fontsize=15)\n",
    "#plt.ylabel('Reco Shower Energy [GeV]', fontsize=15)\n",
    "\n",
    "plt.title('Covariance', fontsize=15)\n",
    "\n",
    "plt.show()"
   ]
  },
  {
   "cell_type": "code",
   "execution_count": 83,
   "id": "35205e8a",
   "metadata": {},
   "outputs": [
    {
     "name": "stdout",
     "output_type": "stream",
     "text": [
      "[[ 4.34585218e+00  1.63755068e+00  2.66370679e+00  4.85085667e+00\n",
      "   5.51040571e+00  5.99024488e+00  1.29129052e+01  1.73218283e+01\n",
      "   3.22578533e+01  8.00843818e+01]\n",
      " [ 1.63755068e+00  2.72288064e+00  2.52467828e+00  1.33786392e+00\n",
      "   2.52973721e+00  3.68983057e+00  7.79866146e-01  3.56578258e+00\n",
      "   2.82742597e+00 -2.29754484e+01]\n",
      " [ 2.66370679e+00  2.52467828e+00  3.18711067e+00  3.08268605e+00\n",
      "   4.35228020e+00  5.27672925e+00  5.88908766e+00  9.96613844e+00\n",
      "   1.54820655e+01  1.50605980e+01]\n",
      " [ 4.85085667e+00  1.33786392e+00  3.08268605e+00  7.22093692e+00\n",
      "   7.78311421e+00  7.71653519e+00  1.89812311e+01  2.45127132e+01\n",
      "   4.60429156e+01  1.26362528e+02]\n",
      " [ 5.51040571e+00  2.52973721e+00  4.35228020e+00  7.78311421e+00\n",
      "   9.31135370e+00  9.58966282e+00  1.95002468e+01  2.66026843e+01\n",
      "   4.82240724e+01  1.16964939e+02]\n",
      " [ 5.99024488e+00  3.68983057e+00  5.27672925e+00  7.71653519e+00\n",
      "   9.58966282e+00  1.18199597e+01  1.85002921e+01  2.76699395e+01\n",
      "   4.88245364e+01  9.88547174e+01]\n",
      " [ 1.29129052e+01  7.79866146e-01  5.88908766e+00  1.89812311e+01\n",
      "   1.95002468e+01  1.85002921e+01  5.59955977e+01  6.91841012e+01\n",
      "   1.35774600e+02  4.08014365e+02]\n",
      " [ 1.73218283e+01  3.56578258e+00  9.96613844e+00  2.45127132e+01\n",
      "   2.66026843e+01  2.76699395e+01  6.91841012e+01  9.13858959e+01\n",
      "   1.74755326e+02  4.81218659e+02]\n",
      " [ 3.22578533e+01  2.82742597e+00  1.54820655e+01  4.60429156e+01\n",
      "   4.82240724e+01  4.88245364e+01  1.35774600e+02  1.74755326e+02\n",
      "   3.48134186e+02  9.97303055e+02]\n",
      " [ 8.00843818e+01 -2.29754484e+01  1.50605980e+01  1.26362528e+02\n",
      "   1.16964939e+02  9.88547174e+01  4.08014365e+02  4.81218659e+02\n",
      "   9.97303055e+02  3.34851047e+03]]\n"
     ]
    }
   ],
   "source": [
    "# Now need to load in the genie sys errs from numu\n",
    "\n",
    "numu_bkg_genie_err = pd.read_csv(\"numu_cov_genie_only_angle_\"+ending+\".csv\", header=None)\n",
    "\n",
    "numu_bkg_genie_err = numu_bkg_genie_err.values\n",
    "print(numu_bkg_genie_err)"
   ]
  },
  {
   "cell_type": "code",
   "execution_count": 84,
   "id": "938beb25",
   "metadata": {},
   "outputs": [
    {
     "data": {
      "image/png": "[encoded data removed]",
      "text/plain": [
       "<Figure size 720x432 with 2 Axes>"
      ]
     },
     "metadata": {
      "needs_background": "light"
     },
     "output_type": "display_data"
    }
   ],
   "source": [
    "fig = plt.figure(figsize=(10, 6))\n",
    "        \n",
    "plt.pcolor(bins, bins, numu_bkg_genie_err, cmap='OrRd', edgecolors='k')#, vmin=-1, vmax=1)\n",
    "            \n",
    "cbar = plt.colorbar()\n",
    "cbar.ax.tick_params(labelsize=14)\n",
    "\n",
    "\n",
    "\n",
    "\n",
    "#plt.xlabel('Reco Shower Energy [GeV]', fontsize=15)\n",
    "#plt.ylabel('Reco Shower Energy [GeV]', fontsize=15)\n",
    "\n",
    "plt.title('genie cov', fontsize=15)\n",
    "\n",
    "plt.show()"
   ]
  },
  {
   "cell_type": "code",
   "execution_count": 85,
   "id": "70e0677c",
   "metadata": {},
   "outputs": [],
   "source": [
    "total_cov_nuWro_numu = numu_bkg_genie_err + numu_cov_stats"
   ]
  },
  {
   "cell_type": "code",
   "execution_count": 86,
   "id": "92976e36",
   "metadata": {},
   "outputs": [],
   "source": [
    "np.savetxt(\"data_covmat_numu_MC_nuWro_input_angle_\"+ending+\".csv\", \n",
    "           total_cov_nuWro_numu,\n",
    "           delimiter =\", \", \n",
    "           fmt ='% s')"
   ]
  },
  {
   "cell_type": "code",
   "execution_count": 87,
   "id": "877a75c7",
   "metadata": {},
   "outputs": [
    {
     "data": {
      "image/png": "[encoded data removed]",
      "text/plain": [
       "<Figure size 720x432 with 2 Axes>"
      ]
     },
     "metadata": {
      "needs_background": "light"
     },
     "output_type": "display_data"
    }
   ],
   "source": [
    "fig = plt.figure(figsize=(10, 6))\n",
    "        \n",
    "plt.pcolor(bins, bins, total_cov_nuWro_numu, cmap='OrRd', edgecolors='k')#, vmin=-1, vmax=1)\n",
    "            \n",
    "cbar = plt.colorbar()\n",
    "cbar.ax.tick_params(labelsize=14)\n",
    "\n",
    "\n",
    "\n",
    "\n",
    "#plt.xlabel('Reco Shower Energy [GeV]', fontsize=15)\n",
    "#plt.ylabel('Reco Shower Energy [GeV]', fontsize=15)\n",
    "\n",
    "plt.title('total input nuwro cov', fontsize=15)\n",
    "\n",
    "plt.show()"
   ]
  },
  {
   "cell_type": "code",
   "execution_count": 88,
   "id": "42beb921",
   "metadata": {},
   "outputs": [
    {
     "name": "stdout",
     "output_type": "stream",
     "text": [
      "\n",
      "[[1.0, 0.19447462109622676, 0.2736677324921987, 0.4338262462828261, 0.43009169281660115, 0.36293816558992437, 0.47885315732946615, 0.5064281065335987, 0.5306218476594906, 0.4454605415184423], [0.19447462109622676, 1.0000000000000002, 0.2898941478157367, 0.13372282720161321, 0.22067295695578323, 0.2498565364179718, 0.03232173678559777, 0.11651320785049724, 0.05198010301340263, -0.14283072364497099], [0.2736677324921987, 0.2898941478157367, 1.0, 0.2665581072489207, 0.32844264761115816, 0.3091135855220072, 0.21115026482230112, 0.28171904441112655, 0.24623159787272372, 0.0809969838390091], [0.4338262462828261, 0.13372282720161321, 0.2665581072489207, 1.0, 0.511277057505969, 0.39349192742868944, 0.5924179300923212, 0.6031715936700932, 0.6374379349072268, 0.5915686360888001], [0.43009169281660115, 0.22067295695578323, 0.32844264761115816, 0.511277057505969, 1.0000000000000002, 0.426772985935604, 0.5311583618936602, 0.5712879378665114, 0.5826651846440388, 0.47788415590719935], [0.36293816558992437, 0.2498565364179718, 0.3091135855220072, 0.39349192742868944, 0.426772985935604, 1.0, 0.3911767947938232, 0.4612627544672455, 0.4579350652050647, 0.3135269787103038], [0.47885315732946615, 0.03232173678559777, 0.21115026482230112, 0.5924179300923212, 0.5311583618936602, 0.3911767947938232, 0.9999999999999998, 0.7058896453584497, 0.7794255444958873, 0.7920330473731388], [0.5064281065335987, 0.11651320785049724, 0.28171904441112655, 0.6031715936700932, 0.5712879378665114, 0.4612627544672455, 0.7058896453584497, 1.0000000000000002, 0.7909193520686161, 0.7364715709905867], [0.5306218476594906, 0.05198010301340263, 0.24623159787272372, 0.6374379349072268, 0.5826651846440388, 0.4579350652050647, 0.7794255444958873, 0.7909193520686161, 0.9999999999999999, 0.8587490516058809], [0.4454605415184423, -0.14283072364497099, 0.0809969838390091, 0.5915686360888001, 0.47788415590719935, 0.3135269787103038, 0.7920330473731388, 0.7364715709905867, 0.8587490516058809, 1.0]]\n"
     ]
    }
   ],
   "source": [
    "total_cor_nuWro_numu = [ [0]*(len(bins)-1) for x in range(len(bins)-1) ]\n",
    "for i in range(len(total_cov_nuWro_numu)): \n",
    "        for j in range(len(total_cov_nuWro_numu[i])): \n",
    "\n",
    "            if np.sqrt(total_cov_nuWro_numu[i][i])*np.sqrt(total_cov_nuWro_numu[j][j]) != 0: \n",
    "                total_cor_nuWro_numu[i][j] = total_cov_nuWro_numu[i][j] / (np.sqrt(total_cov_nuWro_numu[i][i])*np.sqrt(total_cov_nuWro_numu[j][j]))\n",
    "                \n",
    "print(\"\")\n",
    "print(total_cor_nuWro_numu)"
   ]
  },
  {
   "cell_type": "code",
   "execution_count": 89,
   "id": "aca8465e",
   "metadata": {},
   "outputs": [
    {
     "data": {
      "image/png": "[encoded data removed]",
      "text/plain": [
       "<Figure size 720x432 with 2 Axes>"
      ]
     },
     "metadata": {
      "needs_background": "light"
     },
     "output_type": "display_data"
    }
   ],
   "source": [
    "fig = plt.figure(figsize=(10, 6))\n",
    "        \n",
    "plt.pcolor(bins, bins, total_cor_nuWro_numu, cmap='OrRd', edgecolors='k', vmin=-1, vmax=1)#, vmin=-1, vmax=1)\n",
    "            \n",
    "cbar = plt.colorbar()\n",
    "cbar.ax.tick_params(labelsize=14)\n",
    "\n",
    "\n",
    "\n",
    "\n",
    "#plt.xlabel('Reco Shower Energy [GeV]', fontsize=15)\n",
    "#plt.ylabel('Reco Shower Energy [GeV]', fontsize=15)\n",
    "\n",
    "plt.title('total input nuwro cor', fontsize=15)\n",
    "\n",
    "plt.show()"
   ]
  },
  {
   "cell_type": "code",
   "execution_count": 90,
   "id": "d0bc59ac",
   "metadata": {},
   "outputs": [],
   "source": [
    "total_frac_cov_nuWro_numu = [ [0]*(len(bins)-1) for x in range(len(bins)-1) ]\n",
    "\n",
    "for i in range(len(bins)-1): \n",
    "\n",
    "    for j in range(len(bins)-1): \n",
    "\n",
    "        c = total_cov_nuWro_numu[i][j]\n",
    "        \n",
    "        if nuwro_evt_rate[i]*nuwro_evt_rate[j] != 0:\n",
    "            total_frac_cov_nuWro_numu[i][j] = c/(nuwro_evt_rate[i]*nuwro_evt_rate[j])"
   ]
  },
  {
   "cell_type": "code",
   "execution_count": 91,
   "id": "5950edce",
   "metadata": {},
   "outputs": [
    {
     "data": {
      "image/png": "[encoded data removed]",
      "text/plain": [
       "<Figure size 720x432 with 2 Axes>"
      ]
     },
     "metadata": {
      "needs_background": "light"
     },
     "output_type": "display_data"
    }
   ],
   "source": [
    "fig = plt.figure(figsize=(10, 6))\n",
    "        \n",
    "plt.pcolor(bins, bins, total_frac_cov_nuWro_numu, cmap='OrRd', edgecolors='k')#, vmin=-1, vmax=1)\n",
    "            \n",
    "cbar = plt.colorbar()\n",
    "cbar.ax.tick_params(labelsize=14)\n",
    "\n",
    "\n",
    "\n",
    "\n",
    "#plt.xlabel('Reco Shower Energy [GeV]', fontsize=15)\n",
    "#plt.ylabel('Reco Shower Energy [GeV]', fontsize=15)\n",
    "\n",
    "plt.title('total input nuwro frac cov', fontsize=15)\n",
    "\n",
    "plt.show()"
   ]
  },
  {
   "cell_type": "markdown",
   "id": "f50e38da",
   "metadata": {},
   "source": [
    "## Now make the inputs blockwise"
   ]
  },
  {
   "cell_type": "code",
   "execution_count": 92,
   "id": "0440f827",
   "metadata": {},
   "outputs": [
    {
     "name": "stdout",
     "output_type": "stream",
     "text": [
      "[-0.15726992  0.94498491  0.95641042  0.75974582  2.21033867  3.51911618\n",
      "  3.16545063  6.67807978 11.30195708 20.77641932]\n"
     ]
    }
   ],
   "source": [
    "nue_data_signal = pd.read_csv(\"nue_nuWro_MC_Data_Signal_recoCut_run1_angle_\"+ending+\".csv\", header=None)\n",
    "\n",
    "nue_data_signal = nue_data_signal.values[:, 0]\n",
    "\n",
    "print(nue_data_signal)"
   ]
  },
  {
   "cell_type": "code",
   "execution_count": 93,
   "id": "d175a1b2",
   "metadata": {},
   "outputs": [
    {
     "name": "stdout",
     "output_type": "stream",
     "text": [
      "[ -0.15726992   0.94498491   0.95641042   0.75974582   2.21033867\n",
      "   3.51911618   3.16545063   6.67807978  11.30195708  20.77641932\n",
      "  10.14861234  13.63454243  18.41307092  17.33579731  22.69898851\n",
      "  32.87891737  39.71645914  67.35956436  87.77030361 153.7344571 ]\n",
      "20\n"
     ]
    }
   ],
   "source": [
    "nue_numu_tot = np.concatenate((nue_data_signal, nuwro_evt_rate), axis=0)\n",
    "\n",
    "print(nue_numu_tot)\n",
    "print(len(nue_numu_tot))\n"
   ]
  },
  {
   "cell_type": "code",
   "execution_count": 94,
   "id": "c83bccae",
   "metadata": {},
   "outputs": [
    {
     "data": {
      "image/png": "[encoded data removed]",
      "text/plain": [
       "<Figure size 576x504 with 1 Axes>"
      ]
     },
     "metadata": {
      "needs_background": "light"
     },
     "output_type": "display_data"
    }
   ],
   "source": [
    "nue_numu_fig = plt.figure(figsize=(8, 7))\n",
    "nue_numu_gs = gridspec.GridSpec(2, 1, height_ratios=[2, 1])\n",
    "nue_numu_ax1 = plt.subplot(nue_numu_gs[0])\n",
    "\n",
    "\n",
    "bins = np.arange(0, 21, 1)\n",
    "count = np.arange(0.0, 20.0, 1)\n",
    "\n",
    "\n",
    "sel_ratio = nue_numu_ax1.hist(count, bins, edgecolor='red', facecolor='red', weights=nue_numu_tot)\n",
    "nue_numu_ax1.set_ylabel('Count', fontsize=15)\n",
    "nue_numu_ax1.set_xlabel('Bin Number', fontsize=15)\n",
    "nue_numu_ax1.set_title(\"Nue, Numu, NuWro Data Selected Values\")\n",
    "#leg = nue_numu_ax1.legend()\n",
    "#nue_numu_ax1.set_ylim([0, 1])\n",
    "\n",
    "nue_numu_fig.savefig(\"data_signal_MC_nuWro_input_angleDiff_comb_\"+ending+\".svg\", bbox_inches='tight')\n",
    "\n",
    "np.savetxt(\"data_signal_MC_nuWro_input_angleDiff_comb_\"+ending+\".csv\", \n",
    "               nue_numu_tot,\n",
    "               delimiter =\", \", \n",
    "               fmt ='% s')"
   ]
  },
  {
   "cell_type": "code",
   "execution_count": 95,
   "id": "c8335c3d",
   "metadata": {},
   "outputs": [
    {
     "name": "stdout",
     "output_type": "stream",
     "text": [
      "[[ 2.72083057e-02  1.43931824e-02  1.32293433e-02  1.16395208e-02\n",
      "   2.44555063e-02  3.42440688e-02  4.02055246e-02  5.79870301e-02\n",
      "   8.26012367e-02  6.04377829e-03  1.77541438e-01  1.49700629e-01\n",
      "   1.47674745e-01  1.22415268e-01  1.85680717e-01  2.65346645e-01\n",
      "   2.59536061e-01  4.73117785e-01  6.86813073e-01  4.57596244e-01]\n",
      " [ 1.43931824e-02  1.78571779e-02  1.31384794e-02  7.24122505e-03\n",
      "   2.67031902e-02  4.15259980e-02  4.11450587e-02  5.43924818e-02\n",
      "   6.12542222e-02 -1.49698112e-01  1.46575403e-01  1.88846702e-01\n",
      "   1.93207799e-01  1.33411761e-01  2.22882713e-01  2.97946139e-01\n",
      "   1.78418760e-01  4.29863159e-01  4.96091003e-01 -6.65976830e-01]\n",
      " [ 1.32293433e-02  1.31384794e-02  3.58191943e-02  3.65503814e-02\n",
      "   3.57893418e-02  5.71860453e-02  8.42867420e-02  1.29464142e-01\n",
      "   2.38347735e-01  5.89531873e-01  3.13467136e-01  1.78217457e-01\n",
      "   2.52472522e-01  3.34819532e-01  4.12767388e-01  4.77006053e-01\n",
      "   8.04989619e-01  1.12666105e+00  2.03727523e+00  3.89734904e+00]\n",
      " [ 1.16395208e-02  7.24122505e-03  3.65503814e-02  1.17218274e-01\n",
      "   5.26907627e-02  8.56057041e-02  1.39446276e-01  2.93807067e-01\n",
      "   7.46511680e-01  2.89075114e+00  5.77075351e-01  8.20266312e-03\n",
      "   2.39172892e-01  8.44624201e-01  8.59284942e-01  7.97986346e-01\n",
      "   2.49283834e+00  3.06900465e+00  6.04976015e+00  1.86979850e+01]\n",
      " [ 2.44555063e-02  2.67031902e-02  3.57893418e-02  5.26907627e-02\n",
      "   7.44300964e-02  9.87866709e-02  1.24988960e-01  2.05083307e-01\n",
      "   3.82060549e-01  8.19707166e-01  4.61444085e-01  3.32539141e-01\n",
      "   4.36517815e-01  5.61905589e-01  7.22571778e-01  7.89394690e-01\n",
      "   1.23959410e+00  1.84599973e+00  3.12453614e+00  5.69316253e+00]\n",
      " [ 3.42440688e-02  4.15259980e-02  5.71860453e-02  8.56057041e-02\n",
      "   9.87866709e-02  1.61245054e-01  1.90073002e-01  3.15415588e-01\n",
      "   5.99692654e-01  1.40544132e+00  7.05166686e-01  4.69033989e-01\n",
      "   6.45193730e-01  8.42557140e-01  1.07435089e+00  1.22703662e+00\n",
      "   1.96256652e+00  2.93203492e+00  4.99933932e+00  9.72377586e+00]\n",
      " [ 4.02055246e-02  4.11450587e-02  8.42867420e-02  1.39446276e-01\n",
      "   1.24988960e-01  1.90073002e-01  2.89845581e-01  4.56216877e-01\n",
      "   9.45943127e-01  2.75402192e+00  1.01591308e+00  4.89797338e-01\n",
      "   7.74002079e-01  1.26243082e+00  1.51976031e+00  1.62484681e+00\n",
      "   3.14466229e+00  4.30781131e+00  7.76967662e+00  1.81145426e+01]\n",
      " [ 5.79870301e-02  5.43924818e-02  1.29464142e-01  2.93807067e-01\n",
      "   2.05083307e-01  3.15415588e-01  4.56216877e-01  8.97917514e-01\n",
      "   1.98488959e+00  6.67838035e+00  1.79907492e+00  5.21079664e-01\n",
      "   1.15473962e+00  2.44952231e+00  2.72488489e+00  2.70748043e+00\n",
      "   6.58219985e+00  8.57027538e+00  1.61559525e+01  4.35001428e+01]\n",
      " [ 8.26012367e-02  6.12542222e-02  2.38347735e-01  7.46511680e-01\n",
      "   3.82060549e-01  5.99692654e-01  9.45943127e-01  1.98488959e+00\n",
      "   4.95641771e+00  1.86450225e+01  3.88443149e+00  2.73485507e-01\n",
      "   1.79687737e+00  5.65712920e+00  5.86226154e+00  5.46303732e+00\n",
      "   1.64351820e+01  2.04187057e+01  4.01059736e+01  1.21054107e+02]\n",
      " [ 6.04377829e-03 -1.49698112e-01  5.89531873e-01  2.89075114e+00\n",
      "   8.19707166e-01  1.40544132e+00  2.75402192e+00  6.67838035e+00\n",
      "   1.86450225e+01  8.11644091e+01  1.18729952e+01 -4.15684214e+00\n",
      "   1.96345649e+00  1.94104268e+01  1.79306877e+01  1.41208462e+01\n",
      "   6.24922338e+01  7.22958323e+01  1.50367764e+02  5.17692051e+02]\n",
      " [ 1.77541438e-01  1.46575403e-01  3.13467136e-01  5.77075351e-01\n",
      "   4.61444085e-01  7.05166686e-01  1.01591308e+00  1.79907492e+00\n",
      "   3.88443149e+00  1.18729952e+01  4.36807623e+00  1.66929163e+00\n",
      "   2.70008083e+00  4.87323946e+00  5.57730597e+00  6.08468621e+00\n",
      "   1.29391330e+01  1.74002495e+01  3.23731791e+01  8.00734609e+01]\n",
      " [ 1.49700629e-01  1.88846702e-01  1.78217457e-01  8.20266312e-03\n",
      "   3.32539141e-01  4.69033989e-01  4.89797338e-01  5.21079664e-01\n",
      "   2.73485507e-01 -4.15684214e+00  1.66929163e+00  2.72626530e+00\n",
      "   2.53009794e+00  1.35374473e+00  2.52289554e+00  3.68556371e+00\n",
      "   8.36302002e-01  3.61084830e+00  2.89946330e+00 -2.26837905e+01]\n",
      " [ 1.47674745e-01  1.93207799e-01  2.52472522e-01  2.39172892e-01\n",
      "   4.36517815e-01  6.45193730e-01  7.74002079e-01  1.15473962e+00\n",
      "   1.79687737e+00  1.96345649e+00  2.70008083e+00  2.53009794e+00\n",
      "   3.19631670e+00  3.10288188e+00  4.36650844e+00  5.30114376e+00\n",
      "   5.95415497e+00  1.00335144e+01  1.56138410e+01  1.55091995e+01]\n",
      " [ 1.22415268e-01  1.33411761e-01  3.34819532e-01  8.44624201e-01\n",
      "   5.61905589e-01  8.42557140e-01  1.26243082e+00  2.44952231e+00\n",
      "   5.65712920e+00  1.94104268e+01  4.87323946e+00  1.35374473e+00\n",
      "   3.10288188e+00  7.22966933e+00  7.85470368e+00  7.80806149e+00\n",
      "   1.90087698e+01  2.45825398e+01  4.61923636e+01  1.26697251e+02]\n",
      " [ 1.85680717e-01  2.22882713e-01  4.12767388e-01  8.59284942e-01\n",
      "   7.22571778e-01  1.07435089e+00  1.51976031e+00  2.72488489e+00\n",
      "   5.86226154e+00  1.79306877e+01  5.57730597e+00  2.52289554e+00\n",
      "   4.36650844e+00  7.85470368e+00  9.42451047e+00  9.70677103e+00\n",
      "   1.97480637e+01  2.69001565e+01  4.88550633e+01  1.19186734e+02]\n",
      " [ 2.65346645e-01  2.97946139e-01  4.77006053e-01  7.97986346e-01\n",
      "   7.89394690e-01  1.22703662e+00  1.62484681e+00  2.70748043e+00\n",
      "   5.46303732e+00  1.41208462e+01  6.08468621e+00  3.68556371e+00\n",
      "   5.30114376e+00  7.80806149e+00  9.70677103e+00  1.19353763e+01\n",
      "   1.88126955e+01  2.80410058e+01  4.95822176e+01  1.01413475e+02]\n",
      " [ 2.59536061e-01  1.78418760e-01  8.04989619e-01  2.49283834e+00\n",
      "   1.23959410e+00  1.96256652e+00  3.14466229e+00  6.58219985e+00\n",
      "   1.64351820e+01  6.24922338e+01  1.29391330e+01  8.36302002e-01\n",
      "   5.95415497e+00  1.90087698e+01  1.97480637e+01  1.88126955e+01\n",
      "   5.60376780e+01  6.93857389e+01  1.36172948e+02  4.08726947e+02]\n",
      " [ 4.73117785e-01  4.29863159e-01  1.12666105e+00  3.06900465e+00\n",
      "   1.84599973e+00  2.93203492e+00  4.30781131e+00  8.57027538e+00\n",
      "   2.04187057e+01  7.22958323e+01  1.74002495e+01  3.61084830e+00\n",
      "   1.00335144e+01  2.45825398e+01  2.69001565e+01  2.80410058e+01\n",
      "   6.93857389e+01  9.17708919e+01  1.75554701e+02  4.83466947e+02]\n",
      " [ 6.86813073e-01  4.96091003e-01  2.03727523e+00  6.04976015e+00\n",
      "   3.12453614e+00  4.99933932e+00  7.76967662e+00  1.61559525e+01\n",
      "   4.01059736e+01  1.50367764e+02  3.23731791e+01  2.89946330e+00\n",
      "   1.56138410e+01  4.61923636e+01  4.88550633e+01  4.95822176e+01\n",
      "   1.36172948e+02  1.75554701e+02  3.49762167e+02  1.00201480e+03]\n",
      " [ 4.57596244e-01 -6.65976830e-01  3.89734904e+00  1.86979850e+01\n",
      "   5.69316253e+00  9.72377586e+00  1.81145426e+01  4.35001428e+01\n",
      "   1.21054107e+02  5.17692051e+02  8.00734609e+01 -2.26837905e+01\n",
      "   1.55091995e+01  1.26697251e+02  1.19186734e+02  1.01413475e+02\n",
      "   4.08726947e+02  4.83466947e+02  1.00201480e+03  3.35944618e+03]]\n"
     ]
    }
   ],
   "source": [
    "# Load in the blockwise genie cov matrix\n",
    "\n",
    "blockwise_genie_err = pd.read_csv(\"blockwise_cov_genie_only_angle_\"+ending+\".csv\", header=None)\n",
    "\n",
    "blockwise_genie_err = blockwise_genie_err.values\n",
    "print(blockwise_genie_err)"
   ]
  },
  {
   "cell_type": "code",
   "execution_count": 96,
   "id": "b6395a8c",
   "metadata": {},
   "outputs": [
    {
     "data": {
      "image/png": "[encoded data removed]",
      "text/plain": [
       "<Figure size 720x432 with 2 Axes>"
      ]
     },
     "metadata": {
      "needs_background": "light"
     },
     "output_type": "display_data"
    }
   ],
   "source": [
    "fig = plt.figure(figsize=(10, 6))\n",
    "\n",
    "bins = np.arange(0, 21, 1)\n",
    "        \n",
    "plt.pcolor(bins, bins, blockwise_genie_err, cmap='OrRd', edgecolors='k')#, vmin=-1, vmax=1)\n",
    "            \n",
    "cbar = plt.colorbar()\n",
    "cbar.ax.tick_params(labelsize=14)\n",
    "\n",
    "\n",
    "\n",
    "\n",
    "#plt.xlabel('Reco Shower Energy [GeV]', fontsize=15)\n",
    "#plt.ylabel('Reco Shower Energy [GeV]', fontsize=15)\n",
    "\n",
    "plt.title('Covariance', fontsize=15)\n",
    "\n",
    "plt.show()\n"
   ]
  },
  {
   "cell_type": "markdown",
   "id": "c3a74c24",
   "metadata": {},
   "source": [
    "Now add in the Stat errs to the blockwise matrix"
   ]
  },
  {
   "cell_type": "code",
   "execution_count": 97,
   "id": "a02a42f3",
   "metadata": {},
   "outputs": [
    {
     "name": "stdout",
     "output_type": "stream",
     "text": [
      "[3.02422767e-02 1.58211956e-01 1.88595615e-01 7.34938324e-01\n",
      " 3.73934698e-01 5.34654792e-01 1.76458682e-01 7.42059489e-01\n",
      " 1.07630558e+00 2.78758882e+00 5.06498030e+00 4.81129233e+00\n",
      " 6.87983224e+00 6.06454144e+00 8.13147840e+00 1.71265251e+01\n",
      " 2.12751600e+01 3.29291837e+01 4.45764165e+01 8.58757387e+01]\n"
     ]
    }
   ],
   "source": [
    "#nue_cov_mc_stat and numu_cov_mc_stat\n",
    "\n",
    "totalstat_nue_err = pd.read_csv(\"totalstat_nuWro_nue_err_angle_\"+ending+\".csv\", header=None)\n",
    "\n",
    "totalstat_nue_err = totalstat_nue_err.values[:, 0]\n",
    "\n",
    "\n",
    "nue_stats = totalstat_nue_err\n",
    "numu_stats = totalstat_numu_err\n",
    "\n",
    "nue_numu_stats = np.concatenate((nue_stats, numu_stats), axis=0)\n",
    "\n",
    "print(nue_numu_stats)"
   ]
  },
  {
   "cell_type": "code",
   "execution_count": 98,
   "id": "696148b1",
   "metadata": {},
   "outputs": [
    {
     "name": "stdout",
     "output_type": "stream",
     "text": [
      "[[0. 0. 0. 0. 0. 0. 0. 0. 0. 0. 0. 0. 0. 0. 0. 0. 0. 0. 0. 0.]\n",
      " [0. 0. 0. 0. 0. 0. 0. 0. 0. 0. 0. 0. 0. 0. 0. 0. 0. 0. 0. 0.]\n",
      " [0. 0. 0. 0. 0. 0. 0. 0. 0. 0. 0. 0. 0. 0. 0. 0. 0. 0. 0. 0.]\n",
      " [0. 0. 0. 0. 0. 0. 0. 0. 0. 0. 0. 0. 0. 0. 0. 0. 0. 0. 0. 0.]\n",
      " [0. 0. 0. 0. 0. 0. 0. 0. 0. 0. 0. 0. 0. 0. 0. 0. 0. 0. 0. 0.]\n",
      " [0. 0. 0. 0. 0. 0. 0. 0. 0. 0. 0. 0. 0. 0. 0. 0. 0. 0. 0. 0.]\n",
      " [0. 0. 0. 0. 0. 0. 0. 0. 0. 0. 0. 0. 0. 0. 0. 0. 0. 0. 0. 0.]\n",
      " [0. 0. 0. 0. 0. 0. 0. 0. 0. 0. 0. 0. 0. 0. 0. 0. 0. 0. 0. 0.]\n",
      " [0. 0. 0. 0. 0. 0. 0. 0. 0. 0. 0. 0. 0. 0. 0. 0. 0. 0. 0. 0.]\n",
      " [0. 0. 0. 0. 0. 0. 0. 0. 0. 0. 0. 0. 0. 0. 0. 0. 0. 0. 0. 0.]\n",
      " [0. 0. 0. 0. 0. 0. 0. 0. 0. 0. 0. 0. 0. 0. 0. 0. 0. 0. 0. 0.]\n",
      " [0. 0. 0. 0. 0. 0. 0. 0. 0. 0. 0. 0. 0. 0. 0. 0. 0. 0. 0. 0.]\n",
      " [0. 0. 0. 0. 0. 0. 0. 0. 0. 0. 0. 0. 0. 0. 0. 0. 0. 0. 0. 0.]\n",
      " [0. 0. 0. 0. 0. 0. 0. 0. 0. 0. 0. 0. 0. 0. 0. 0. 0. 0. 0. 0.]\n",
      " [0. 0. 0. 0. 0. 0. 0. 0. 0. 0. 0. 0. 0. 0. 0. 0. 0. 0. 0. 0.]\n",
      " [0. 0. 0. 0. 0. 0. 0. 0. 0. 0. 0. 0. 0. 0. 0. 0. 0. 0. 0. 0.]\n",
      " [0. 0. 0. 0. 0. 0. 0. 0. 0. 0. 0. 0. 0. 0. 0. 0. 0. 0. 0. 0.]\n",
      " [0. 0. 0. 0. 0. 0. 0. 0. 0. 0. 0. 0. 0. 0. 0. 0. 0. 0. 0. 0.]\n",
      " [0. 0. 0. 0. 0. 0. 0. 0. 0. 0. 0. 0. 0. 0. 0. 0. 0. 0. 0. 0.]\n",
      " [0. 0. 0. 0. 0. 0. 0. 0. 0. 0. 0. 0. 0. 0. 0. 0. 0. 0. 0. 0.]]\n"
     ]
    }
   ],
   "source": [
    "nue_numu_nuWro_cov_stats   = np.zeros([(len(bins)-1), (len(bins)-1)])\n",
    "print(nue_numu_nuWro_cov_stats)"
   ]
  },
  {
   "cell_type": "code",
   "execution_count": 99,
   "id": "b0a97590",
   "metadata": {},
   "outputs": [],
   "source": [
    "nue_numu_nuWro_cov_stats[np.diag_indices_from(nue_numu_nuWro_cov_stats)]    = nue_numu_stats"
   ]
  },
  {
   "cell_type": "code",
   "execution_count": 100,
   "id": "b0106807",
   "metadata": {},
   "outputs": [
    {
     "data": {
      "image/png": "[encoded data removed]",
      "text/plain": [
       "<Figure size 720x432 with 2 Axes>"
      ]
     },
     "metadata": {
      "needs_background": "light"
     },
     "output_type": "display_data"
    }
   ],
   "source": [
    "fig = plt.figure(figsize=(10, 6))\n",
    "        \n",
    "plt.pcolor(bins, bins, nue_numu_nuWro_cov_stats, cmap='OrRd', edgecolors='k')#, vmin=-1, vmax=1)\n",
    "            \n",
    "cbar = plt.colorbar()\n",
    "cbar.ax.tick_params(labelsize=14)\n",
    "\n",
    "\n",
    "\n",
    "\n",
    "#plt.xlabel('Reco Shower Energy [GeV]', fontsize=15)\n",
    "#plt.ylabel('Reco Shower Energy [GeV]', fontsize=15)\n",
    "\n",
    "plt.title('Covariance', fontsize=15)\n",
    "\n",
    "#plt.savefig(\"blockwise_nuWro_cov_input.svg\", bbox_inches='tight')\n",
    "\n",
    "plt.show()"
   ]
  },
  {
   "cell_type": "markdown",
   "id": "182d9aa6",
   "metadata": {},
   "source": [
    "NuWro unisim"
   ]
  },
  {
   "cell_type": "code",
   "execution_count": 101,
   "id": "ebc39dad",
   "metadata": {},
   "outputs": [
    {
     "name": "stdout",
     "output_type": "stream",
     "text": [
      "[[ 2.33628238e-01 -1.73512953e-01 -5.33591494e-02  1.19849027e-01\n",
      "  -2.56634531e-01 -4.96054168e-01  2.21807348e-01 -5.40380456e-01\n",
      "   2.09925601e-02  2.61639575e+00  3.55032065e-01 -2.52647852e+00\n",
      "  -3.27721846e+00 -1.55566151e-01 -7.41902391e-01 -3.96763630e+00\n",
      "  -5.64094695e-01 -5.33613496e+00  7.36354297e-01  7.14265436e+00]\n",
      " [-1.73512953e-01  1.28866036e-01  3.96292147e-02 -8.90104675e-02\n",
      "   1.90599457e-01  3.68413615e-01 -1.64733717e-01  4.01334230e-01\n",
      "  -1.55909282e-02 -1.94316645e+00 -2.63678153e-01  1.87638598e+00\n",
      "   2.43395173e+00  1.15537157e-01  5.51002208e-01  2.94671696e+00\n",
      "   4.18946517e-01  3.96308488e+00 -5.46881703e-01 -5.30476565e+00]\n",
      " [-5.33591494e-02  3.96292147e-02  1.21868779e-02 -2.73727277e-02\n",
      "   5.86136350e-02  1.13295502e-01 -5.06593360e-02  1.23419334e-01\n",
      "  -4.79456232e-03 -5.97567539e-01 -8.10869832e-02  5.77031038e-01\n",
      "   7.48495092e-01  3.55302833e-02  1.69445615e-01  9.06181974e-01\n",
      "   1.28835510e-01  1.21873805e+00 -1.68178467e-01 -1.63133517e+00]\n",
      " [ 1.19849027e-01 -8.90104675e-02 -2.73727277e-02  6.14813922e-02\n",
      "  -1.31651033e-01 -2.54470992e-01  1.13785025e-01 -2.77209949e-01\n",
      "   1.07689803e-02  1.34218572e+00  1.82128017e-01 -1.29605905e+00\n",
      "  -1.68118138e+00 -7.98039314e-02 -3.80588753e-01 -2.03535906e+00\n",
      "  -2.89375124e-01 -2.73738564e+00  3.77742634e-01  3.66411262e+00]\n",
      " [-2.56634531e-01  1.90599457e-01  5.86136350e-02 -1.31651033e-01\n",
      "   2.81906344e-01  5.44902576e-01 -2.43649591e-01  5.93593848e-01\n",
      "  -2.30597801e-02 -2.87404254e+00 -3.89993471e-01  2.77527081e+00\n",
      "   3.59993907e+00  1.70885363e-01  8.14960442e-01  4.35834507e+00\n",
      "   6.19643322e-01  5.86160519e+00 -8.08866005e-01 -7.84601967e+00]\n",
      " [-4.96054168e-01  3.68413615e-01  1.13295502e-01 -2.54470992e-01\n",
      "   5.44902576e-01  1.05325341e+00 -4.70955310e-01  1.14736977e+00\n",
      "  -4.45727237e-02 -5.55529599e+00 -7.53826409e-01  5.36437808e+00\n",
      "   6.95839634e+00  3.30307835e-01  1.57525381e+00  8.42433491e+00\n",
      "   1.19772133e+00  1.13300173e+01 -1.56347375e+00 -1.51657329e+01]\n",
      " [ 2.21807348e-01 -1.64733717e-01 -5.06593360e-02  1.13785025e-01\n",
      "  -2.43649591e-01 -4.70955310e-01  2.10584559e-01 -5.13038821e-01\n",
      "   1.99303993e-02  2.48401394e+00  3.37068504e-01 -2.39864626e+00\n",
      "  -3.11140101e+00 -1.47694969e-01 -7.04364348e-01 -3.76688576e+00\n",
      "  -5.35553190e-01 -5.06614248e+00  6.99096971e-01  6.78125740e+00]\n",
      " [-5.40380456e-01  4.01334230e-01  1.23419334e-01 -2.77209949e-01\n",
      "   5.93593848e-01  1.14736977e+00 -5.13038821e-01  1.24989616e+00\n",
      "  -4.85556424e-02 -6.05170478e+00 -8.21186647e-01  5.84372688e+00\n",
      "   7.58018304e+00  3.59823403e-01  1.71601496e+00  9.17711459e+00\n",
      "   1.30474703e+00  1.23424423e+01 -1.70318226e+00 -1.65209088e+01]\n",
      " [ 2.09925601e-02 -1.55909282e-02 -4.79456232e-03  1.07689803e-02\n",
      "  -2.30597801e-02 -4.45727237e-02  1.99303993e-02 -4.85556424e-02\n",
      "   1.88627702e-03  2.35095061e-01  3.19012462e-02 -2.27015589e-01\n",
      "  -2.94472988e-01 -1.39783264e-02 -6.66633050e-02 -3.56510172e-01\n",
      "  -5.06864746e-02 -4.79476002e-01  6.61647835e-02  6.41799989e-01]\n",
      " [ 2.61639575e+00 -1.94316645e+00 -5.97567539e-01  1.34218572e+00\n",
      "  -2.87404254e+00 -5.55529599e+00  2.48401394e+00 -6.05170478e+00\n",
      "   2.35095061e-01  2.93009387e+01  3.97599362e+00 -2.82939584e+01\n",
      "  -3.67014729e+01 -1.74218074e+00 -8.30854298e+00 -4.44334418e+01\n",
      "  -6.31727984e+00 -5.97592180e+01  8.24641004e+00  7.99903754e+01]\n",
      " [ 3.55032065e-01 -2.63678153e-01 -8.10869832e-02  1.82128017e-01\n",
      "  -3.89993471e-01 -7.53826409e-01  3.37068504e-01 -8.21186647e-01\n",
      "   3.19012462e-02  3.97599362e+00  5.39522827e-01 -3.83935133e+00\n",
      "  -4.98020979e+00 -2.36405378e-01 -1.12742852e+00 -6.02940005e+00\n",
      "  -8.57223880e-01 -8.10903267e+00  1.11899738e+00  1.08543015e+01]\n",
      " [-2.52647852e+00  1.87638598e+00  5.77031038e-01 -1.29605905e+00\n",
      "   2.77527081e+00  5.36437808e+00 -2.39864626e+00  5.84372688e+00\n",
      "  -2.27015589e-01 -2.82939584e+01 -3.83935133e+00  2.73215847e+01\n",
      "   3.54401596e+01  1.68230751e+00  8.02300470e+00  4.29064053e+01\n",
      "   6.10017497e+00  5.77054831e+01 -7.96300707e+00 -7.72413598e+01]\n",
      " [-3.27721846e+00  2.43395173e+00  7.48495092e-01 -1.68118138e+00\n",
      "   3.59993907e+00  6.95839634e+00 -3.11140101e+00  7.58018304e+00\n",
      "  -2.94472988e-01 -3.67014729e+01 -4.98020979e+00  3.54401596e+01\n",
      "   4.59711589e+01  2.18220309e+00  1.04070306e+01  5.56559902e+01\n",
      "   7.91283436e+00  7.48525955e+01 -1.03292047e+01 -1.00193534e+02]\n",
      " [-1.55566151e-01  1.15537157e-01  3.55302833e-02 -7.98039314e-02\n",
      "   1.70885363e-01  3.30307835e-01 -1.47694969e-01  3.59823403e-01\n",
      "  -1.39783264e-02 -1.74218074e+00 -2.36405378e-01  1.68230751e+00\n",
      "   2.18220309e+00  1.03586910e-01  4.94010914e-01  2.64193196e+00\n",
      "   3.75614015e-01  3.55317484e+00 -4.90316602e-01 -4.75608281e+00]\n",
      " [-7.41902391e-01  5.51002208e-01  1.69445615e-01 -3.80588753e-01\n",
      "   8.14960442e-01  1.57525381e+00 -7.04364348e-01  1.71601496e+00\n",
      "  -6.66633050e-02 -8.30854298e+00 -1.12742852e+00  8.02300470e+00\n",
      "   1.04070306e+01  4.94010914e-01  2.35596160e+00  1.25994994e+01\n",
      "   1.79132114e+00  1.69452602e+01 -2.33834325e+00 -2.26819857e+01]\n",
      " [-3.96763630e+00  2.94671696e+00  9.06181974e-01 -2.03535906e+00\n",
      "   4.35834507e+00  8.42433491e+00 -3.76688576e+00  9.17711459e+00\n",
      "  -3.56510172e-01 -4.44334418e+01 -6.02940005e+00  4.29064053e+01\n",
      "   5.56559902e+01  2.64193196e+00  1.25994994e+01  6.73811433e+01\n",
      "   9.57984619e+00  9.06219339e+01 -1.25052779e+01 -1.21301496e+02]\n",
      " [-5.64094695e-01  4.18946517e-01  1.28835510e-01 -2.89375124e-01\n",
      "   6.19643322e-01  1.19772133e+00 -5.35553190e-01  1.30474703e+00\n",
      "  -5.06864746e-02 -6.31727984e+00 -8.57223880e-01  6.10017497e+00\n",
      "   7.91283436e+00  3.75614015e-01  1.79132114e+00  9.57984619e+00\n",
      "   1.36200498e+00  1.28840822e+01 -1.77792529e+00 -1.72459180e+01]\n",
      " [-5.33613496e+00  3.96308488e+00  1.21873805e+00 -2.73738564e+00\n",
      "   5.86160519e+00  1.13300173e+01 -5.06614248e+00  1.23424423e+01\n",
      "  -4.79476002e-01 -5.97592180e+01 -8.10903267e+00  5.77054831e+01\n",
      "   7.48525955e+01  3.55317484e+00  1.69452602e+01  9.06219339e+01\n",
      "   1.28840822e+01  1.21878830e+02 -1.68185402e+01 -1.63140243e+02]\n",
      " [ 7.36354297e-01 -5.46881703e-01 -1.68178467e-01  3.77742634e-01\n",
      "  -8.08866005e-01 -1.56347375e+00  6.99096971e-01 -1.70318226e+00\n",
      "   6.61647835e-02  8.24641004e+00  1.11899738e+00 -7.96300707e+00\n",
      "  -1.03292047e+01 -4.90316602e-01 -2.33834325e+00 -1.25052779e+01\n",
      "  -1.77792529e+00 -1.68185402e+01  2.32085665e+00  2.25123652e+01]\n",
      " [ 7.14265436e+00 -5.30476565e+00 -1.63133517e+00  3.66411262e+00\n",
      "  -7.84601967e+00 -1.51657329e+01  6.78125740e+00 -1.65209088e+01\n",
      "   6.41799989e-01  7.99903754e+01  1.08543015e+01 -7.72413598e+01\n",
      "  -1.00193534e+02 -4.75608281e+00 -2.26819857e+01 -1.21301496e+02\n",
      "  -1.72459180e+01 -1.63140243e+02  2.25123652e+01  2.18370483e+02]]\n"
     ]
    }
   ],
   "source": [
    "nuWro_unisim = pd.read_csv(\"nuWro_extra_unisim_uncertainties_angle_\"+ending+\".csv\", header=None)\n",
    "\n",
    "nuWro_unisim = nuWro_unisim.values\n",
    "print(nuWro_unisim)"
   ]
  },
  {
   "cell_type": "code",
   "execution_count": 102,
   "id": "5d899670",
   "metadata": {},
   "outputs": [
    {
     "data": {
      "image/png": "[encoded data removed]",
      "text/plain": [
       "<Figure size 720x432 with 2 Axes>"
      ]
     },
     "metadata": {
      "needs_background": "light"
     },
     "output_type": "display_data"
    }
   ],
   "source": [
    "fig = plt.figure(figsize=(10, 6))\n",
    "\n",
    "bins = np.arange(0, 21, 1)\n",
    "        \n",
    "plt.pcolor(bins, bins, nuWro_unisim, cmap='OrRd', edgecolors='k')#, vmin=-1, vmax=1)\n",
    "            \n",
    "cbar = plt.colorbar()\n",
    "cbar.ax.tick_params(labelsize=14)\n",
    "\n",
    "\n",
    "\n",
    "\n",
    "#plt.xlabel('Reco Shower Energy [GeV]', fontsize=15)\n",
    "#plt.ylabel('Reco Shower Energy [GeV]', fontsize=15)\n",
    "\n",
    "plt.title('Covariance', fontsize=15)\n",
    "\n",
    "plt.show()\n"
   ]
  },
  {
   "cell_type": "markdown",
   "id": "dbf94e3f",
   "metadata": {},
   "source": [
    "Now make the total matrix"
   ]
  },
  {
   "cell_type": "code",
   "execution_count": 103,
   "id": "717f8bfa",
   "metadata": {},
   "outputs": [],
   "source": [
    "total_nuWro_input_cov = nue_numu_nuWro_cov_stats + blockwise_genie_err + nuWro_unisim"
   ]
  },
  {
   "cell_type": "code",
   "execution_count": 104,
   "id": "5ca41585",
   "metadata": {},
   "outputs": [],
   "source": [
    "np.savetxt(\"data_covmat_MC_nuWro_input_angleDiff_comb_\"+ending+\".csv\", \n",
    "           total_nuWro_input_cov,\n",
    "           delimiter =\", \", \n",
    "           fmt ='% s')"
   ]
  },
  {
   "cell_type": "code",
   "execution_count": 105,
   "id": "555b51b8",
   "metadata": {},
   "outputs": [
    {
     "name": "stdout",
     "output_type": "stream",
     "text": [
      "[[ 2.91078821e-01 -1.59119771e-01 -4.01298060e-02  1.31488548e-01\n",
      "  -2.32179025e-01 -4.61810099e-01  2.62012872e-01 -4.82393426e-01\n",
      "   1.03593797e-01  2.62243952e+00  5.32573504e-01 -2.37677789e+00\n",
      "  -3.12954372e+00 -3.31508832e-02 -5.56221674e-01 -3.70228965e+00\n",
      "  -3.04558634e-01 -4.86301717e+00  1.42316737e+00  7.60025060e+00]\n",
      " [-1.59119771e-01  3.04935170e-01  5.27676941e-02 -8.17692424e-02\n",
      "   2.17302648e-01  4.09939613e-01 -1.23588658e-01  4.55726711e-01\n",
      "   4.56632940e-02 -2.09286456e+00 -1.17102749e-01  2.06523268e+00\n",
      "   2.62715953e+00  2.48948918e-01  7.73884921e-01  3.24466310e+00\n",
      "   5.97365276e-01  4.39294803e+00 -5.07907005e-02 -5.97074248e+00]\n",
      " [-4.01298060e-02  5.27676941e-02  2.36601687e-01  9.17765367e-03\n",
      "   9.44029768e-02  1.70481547e-01  3.36274060e-02  2.52883476e-01\n",
      "   2.33553173e-01 -8.03566651e-03  2.32380153e-01  7.55248495e-01\n",
      "   1.00096761e+00  3.70349815e-01  5.82213003e-01  1.38318803e+00\n",
      "   9.33825128e-01  2.34539910e+00  1.86909676e+00  2.26601387e+00]\n",
      " [ 1.31488548e-01 -8.17692424e-02  9.17765367e-03  9.13637989e-01\n",
      "  -7.89602703e-02 -1.68865288e-01  2.53231301e-01  1.65971181e-02\n",
      "   7.57280661e-01  4.23293686e+00  7.59203368e-01 -1.28785639e+00\n",
      "  -1.44200849e+00  7.64820269e-01  4.78696189e-01 -1.23737271e+00\n",
      "   2.20346322e+00  3.31619010e-01  6.42750279e+00  2.23620976e+01]\n",
      " [-2.32179025e-01  2.17302648e-01  9.44029768e-02 -7.89602703e-02\n",
      "   7.30271139e-01  6.43689247e-01 -1.18660631e-01  7.98677155e-01\n",
      "   3.59000769e-01 -2.05433537e+00  7.14506136e-02  3.10780995e+00\n",
      "   4.03645689e+00  7.32790952e-01  1.53753222e+00  5.14773976e+00\n",
      "   1.85923743e+00  7.70760492e+00  2.31567013e+00 -2.15285714e+00]\n",
      " [-4.61810099e-01  4.09939613e-01  1.70481547e-01 -1.68865288e-01\n",
      "   6.43689247e-01  1.74915325e+00 -2.80882308e-01  1.46278536e+00\n",
      "   5.55119930e-01 -4.14985466e+00 -4.86597229e-02  5.83341207e+00\n",
      "   7.60359007e+00  1.17286498e+00  2.64960470e+00  9.65137153e+00\n",
      "   3.16028785e+00  1.42620522e+01  3.43586557e+00 -5.44195707e+00]\n",
      " [ 2.62012872e-01 -1.23588658e-01  3.36274060e-02  2.53231301e-01\n",
      "  -1.18660631e-01 -2.80882308e-01  6.76888822e-01 -5.68219432e-02\n",
      "   9.65873526e-01  5.23803586e+00  1.35298159e+00 -1.90884892e+00\n",
      "  -2.33739893e+00  1.11473585e+00  8.15395964e-01 -2.14203895e+00\n",
      "   2.60910910e+00 -7.58331173e-01  8.46877359e+00  2.48958000e+01]\n",
      " [-4.82393426e-01  4.55726711e-01  2.52883476e-01  1.65971181e-02\n",
      "   7.98677155e-01  1.46278536e+00 -5.68219432e-02  2.88987316e+00\n",
      "   1.93633394e+00  6.26675571e-01  9.77888269e-01  6.36480654e+00\n",
      "   8.73492265e+00  2.80934571e+00  4.44089985e+00  1.18845950e+01\n",
      "   7.88694688e+00  2.09127177e+01  1.44527702e+01  2.69792340e+01]\n",
      " [ 1.03593797e-01  4.56632940e-02  2.33553173e-01  7.57280661e-01\n",
      "   3.59000769e-01  5.55119930e-01  9.65873526e-01  1.93633394e+00\n",
      "   6.03460956e+00  1.88801176e+01  3.91633274e+00  4.64699187e-02\n",
      "   1.50240439e+00  5.64315087e+00  5.79559824e+00  5.10652715e+00\n",
      "   1.63844955e+01  1.99392297e+01  4.01721384e+01  1.21695907e+02]\n",
      " [ 2.62243952e+00 -2.09286456e+00 -8.03566651e-03  4.23293686e+00\n",
      "  -2.05433537e+00 -4.14985466e+00  5.23803586e+00  6.26675571e-01\n",
      "   1.88801176e+01  1.13252937e+02  1.58489888e+01 -3.24508005e+01\n",
      "  -3.47380164e+01  1.76682461e+01  9.62214468e+00 -3.03125956e+01\n",
      "   5.61749540e+01  1.25366143e+01  1.58614174e+02  5.97682427e+02]\n",
      " [ 5.32573504e-01 -1.17102749e-01  2.32380153e-01  7.59203368e-01\n",
      "   7.14506136e-02 -4.86597229e-02  1.35298159e+00  9.77888269e-01\n",
      "   3.91633274e+00  1.58489888e+01  9.97257935e+00 -2.17005970e+00\n",
      "  -2.28012897e+00  4.63683408e+00  4.44987745e+00  5.52861654e-02\n",
      "   1.20819092e+01  9.29121685e+00  3.34921765e+01  9.09277624e+01]\n",
      " [-2.37677789e+00  2.06523268e+00  7.55248495e-01 -1.28785639e+00\n",
      "   3.10780995e+00  5.83341207e+00 -1.90884892e+00  6.36480654e+00\n",
      "   4.64699187e-02 -3.24508005e+01 -2.17005970e+00  3.48591424e+01\n",
      "   3.79702575e+01  3.03605224e+00  1.05459002e+01  4.65919690e+01\n",
      "   6.93647697e+00  6.13163314e+01 -5.06354377e+00 -9.99251503e+01]\n",
      " [-3.12954372e+00  2.62715953e+00  1.00096761e+00 -1.44200849e+00\n",
      "   4.03645689e+00  7.60359007e+00 -2.33739893e+00  8.73492265e+00\n",
      "   1.50240439e+00 -3.47380164e+01 -2.28012897e+00  3.79702575e+01\n",
      "   5.60473078e+01  5.28508496e+00  1.47735390e+01  6.09571340e+01\n",
      "   1.38669893e+01  8.48861099e+01  5.28463626e+00 -8.46843342e+01]\n",
      " [-3.31508832e-02  2.48948918e-01  3.70349815e-01  7.64820269e-01\n",
      "   7.32790952e-01  1.17286498e+00  1.11473585e+00  2.80934571e+00\n",
      "   5.64315087e+00  1.76682461e+01  4.63683408e+00  3.03605224e+00\n",
      "   5.28508496e+00  1.33977977e+01  8.34871459e+00  1.04499934e+01\n",
      "   1.93843838e+01  2.81357146e+01  4.57020470e+01  1.21941168e+02]\n",
      " [-5.56221674e-01  7.73884921e-01  5.82213003e-01  4.78696189e-01\n",
      "   1.53753222e+00  2.64960470e+00  8.15395964e-01  4.44089985e+00\n",
      "   5.79559824e+00  9.62214468e+00  4.44987745e+00  1.05459002e+01\n",
      "   1.47735390e+01  8.34871459e+00  1.99119505e+01  2.23062705e+01\n",
      "   2.15393848e+01  4.38454167e+01  4.65167201e+01  9.65047481e+01]\n",
      " [-3.70228965e+00  3.24466310e+00  1.38318803e+00 -1.23737271e+00\n",
      "   5.14773976e+00  9.65137153e+00 -2.14203895e+00  1.18845950e+01\n",
      "   5.10652715e+00 -3.03125956e+01  5.52861654e-02  4.65919690e+01\n",
      "   6.09571340e+01  1.04499934e+01  2.23062705e+01  9.64430447e+01\n",
      "   2.83925417e+01  1.18662940e+02  3.70769397e+01 -1.98880202e+01]\n",
      " [-3.04558634e-01  5.97365276e-01  9.33825128e-01  2.20346322e+00\n",
      "   1.85923743e+00  3.16028785e+00  2.60910910e+00  7.88694688e+00\n",
      "   1.63844955e+01  5.61749540e+01  1.20819092e+01  6.93647697e+00\n",
      "   1.38669893e+01  1.93843838e+01  2.15393848e+01  2.83925417e+01\n",
      "   7.86748429e+01  8.22698211e+01  1.34395022e+02  3.91481029e+02]\n",
      " [-4.86301717e+00  4.39294803e+00  2.34539910e+00  3.31619010e-01\n",
      "   7.70760492e+00  1.42620522e+01 -7.58331173e-01  2.09127177e+01\n",
      "   1.99392297e+01  1.25366143e+01  9.29121685e+00  6.13163314e+01\n",
      "   8.48861099e+01  2.81357146e+01  4.38454167e+01  1.18662940e+02\n",
      "   8.22698211e+01  2.46578906e+02  1.58736160e+02  3.20326704e+02]\n",
      " [ 1.42316737e+00 -5.07907005e-02  1.86909676e+00  6.42750279e+00\n",
      "   2.31567013e+00  3.43586557e+00  8.46877359e+00  1.44527702e+01\n",
      "   4.01721384e+01  1.58614174e+02  3.34921765e+01 -5.06354377e+00\n",
      "   5.28463626e+00  4.57020470e+01  4.65167201e+01  3.70769397e+01\n",
      "   1.34395022e+02  1.58736160e+02  3.96659441e+02  1.02452717e+03]\n",
      " [ 7.60025060e+00 -5.97074248e+00  2.26601387e+00  2.23620976e+01\n",
      "  -2.15285714e+00 -5.44195707e+00  2.48958000e+01  2.69792340e+01\n",
      "   1.21695907e+02  5.97682427e+02  9.09277624e+01 -9.99251503e+01\n",
      "  -8.46843342e+01  1.21941168e+02  9.65047481e+01 -1.98880202e+01\n",
      "   3.91481029e+02  3.20326704e+02  1.02452717e+03  3.66369240e+03]]\n"
     ]
    }
   ],
   "source": [
    "total_nuWro_input_cov = pd.read_csv(\"data_covmat_MC_nuWro_input_angleDiff_comb_\"+ending+\".csv\", header=None)\n",
    "\n",
    "total_nuWro_input_cov = total_nuWro_input_cov.values\n",
    "print(total_nuWro_input_cov)"
   ]
  },
  {
   "cell_type": "code",
   "execution_count": 106,
   "id": "5a5ed200",
   "metadata": {},
   "outputs": [
    {
     "data": {
      "image/png": "[encoded data removed]",
      "text/plain": [
       "<Figure size 720x432 with 2 Axes>"
      ]
     },
     "metadata": {
      "needs_background": "light"
     },
     "output_type": "display_data"
    }
   ],
   "source": [
    "fig = plt.figure(figsize=(10, 6))\n",
    "bins = np.arange(0, 21, 1)\n",
    "\n",
    "\n",
    "plt.pcolor(bins, bins, total_nuWro_input_cov, cmap='OrRd', edgecolors='k')#, vmin=-1, vmax=1)\n",
    "            \n",
    "cbar = plt.colorbar()\n",
    "cbar.ax.tick_params(labelsize=14)\n",
    "\n",
    "plt.xlabel(\"Bin Number\", fontsize=15)\n",
    "plt.ylabel(\"Bin Number\", fontsize=15)\n",
    "\n",
    "\n",
    "#plt.xlabel('Reco Shower Energy [GeV]', fontsize=15)\n",
    "#plt.ylabel('Reco Shower Energy [GeV]', fontsize=15)\n",
    "\n",
    "plt.title('Covariance', fontsize=15)\n",
    "\n",
    "plt.savefig(\"blockwise_nuWro_cov_input_angle_\"+ending+\".svg\", bbox_inches='tight')\n",
    "\n",
    "plt.show()"
   ]
  },
  {
   "cell_type": "code",
   "execution_count": null,
   "id": "f5440bf0",
   "metadata": {},
   "outputs": [],
   "source": []
  }
 ],
 "metadata": {
  "kernelspec": {
   "display_name": "Python 3 (ipykernel)",
   "language": "python",
   "name": "python3"
  },
  "language_info": {
   "codemirror_mode": {
    "name": "ipython",
    "version": 3
   },
   "file_extension": ".py",
   "mimetype": "text/x-python",
   "name": "python",
   "nbconvert_exporter": "python",
   "pygments_lexer": "ipython3",
   "version": "3.8.12"
  }
 },
 "nbformat": 4,
 "nbformat_minor": 5
}
