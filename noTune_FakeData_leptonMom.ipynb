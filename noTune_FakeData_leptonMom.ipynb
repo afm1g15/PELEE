{
 "cells": [
  {
   "cell_type": "code",
   "execution_count": 1,
   "id": "2879806d",
   "metadata": {},
   "outputs": [
    {
     "name": "stdout",
     "output_type": "stream",
     "text": [
      "Welcome to JupyROOT 6.24/02\n"
     ]
    }
   ],
   "source": [
    "import sys\n",
    "\n",
    "#sys.path.insert(0, 'backend_functions')\n",
    "\n",
    "#import selection_functions as sf\n",
    "\n",
    "import importlib\n",
    "\n",
    "import uproot\n",
    "import matplotlib.pylab as pylab\n",
    "import numpy as np\n",
    "import math\n",
    "from sklearn.model_selection import train_test_split\n",
    "import pickle\n",
    "import xgboost as xgb\n",
    "\n",
    "import awkward\n",
    "import matplotlib.pyplot as plt\n",
    "import pandas as pd\n",
    "\n",
    "import ROOT\n",
    "from ROOT import TH1F, TH2F, TDirectory, TH1D\n",
    "\n",
    "from matplotlib import gridspec\n"
   ]
  },
  {
   "cell_type": "code",
   "execution_count": 2,
   "id": "cdd417ad",
   "metadata": {},
   "outputs": [],
   "source": [
    "ending = \"Dec19_noTune\""
   ]
  },
  {
   "cell_type": "code",
   "execution_count": 4,
   "id": "8b14eea6",
   "metadata": {},
   "outputs": [],
   "source": [
    "##Regular tune prior true and smearcept to be used\n",
    "\n",
    "\n",
    "#prior true\n",
    "#\"nue_full_500_catsel_nopions_angleDiff_usingSelection_prior_true_signal_blockwise_recoCut_comb_\"+ending+\".csv\""
   ]
  },
  {
   "cell_type": "code",
   "execution_count": 3,
   "id": "c7c3f6cb",
   "metadata": {},
   "outputs": [
    {
     "name": "stdout",
     "output_type": "stream",
     "text": [
      "[45.62040923 60.82431639 39.60692431 22.79596798 12.96829047  6.67825359\n",
      "  3.83692997  6.63660487]\n",
      "\n",
      "[448.81356496 988.9507723  323.24359523 123.50039749  48.79397929\n",
      "  20.46030038   4.93699402   3.43488169]\n"
     ]
    }
   ],
   "source": [
    "####Load in noTune full event counts\n",
    "\n",
    "nue_data_signal = pd.read_csv(\"nue_full_500_catsel_nopions_leptonMom_usingSelection_full_evt_count_MCONLY_recoCut_comb_\"+ending+\".csv\", header=None)\n",
    "\n",
    "nue_data_signal = nue_data_signal.values[:, 0]\n",
    "\n",
    "print(nue_data_signal)\n",
    "print(\"\")\n",
    "\n",
    "######\n",
    "\n",
    "numu_data_signal = pd.read_csv(\"numu_full_500_catsel_nopions_leptonMom_usingSelection_full_evt_count_MCONLY_recoCut_comb_\"+ending+\".csv\", header=None)\n",
    "\n",
    "numu_data_signal = numu_data_signal.values[:, 0]\n",
    "\n",
    "print(numu_data_signal)"
   ]
  },
  {
   "cell_type": "code",
   "execution_count": 6,
   "id": "a999b771",
   "metadata": {},
   "outputs": [
    {
     "name": "stdout",
     "output_type": "stream",
     "text": [
      "[28.13687282 19.6151705  13.40456583  7.33735493  5.00524053  2.44188302\n",
      "  1.16436337  2.70567606]\n",
      "\n",
      "[223.28540944 385.4298186  115.05806545  42.66571382  12.55655181\n",
      "   6.70147453   1.52686615   2.00407337]\n",
      "\n"
     ]
    }
   ],
   "source": [
    "###Load in regular tune bkg event counts\n",
    "#Include ext in bkg count here as the full event counts do\n",
    "\n",
    "ending = \"Dec19\" #need this ending as bkg is from regular tune\n",
    "\n",
    "\n",
    "\n",
    "nue_bkg_inc_ext = pd.read_csv(\"nue_nopions_leptonMom_usingSelection_comb_cv_nue_bkg_incExt_\"+ending+\".csv\", header=None)\n",
    "\n",
    "nue_bkg_inc_ext = nue_bkg_inc_ext.values[:, 0]\n",
    "\n",
    "print(nue_bkg_inc_ext)\n",
    "print(\"\")\n",
    "\n",
    "#######################\n",
    "\n",
    "numu_bkg_inc_ext = pd.read_csv(\"numu_nopions_leptonMom_usingSelection_comb_cv_numu_bkg_incExt_\"+ending+\".csv\", header=None)\n",
    "\n",
    "numu_bkg_inc_ext = numu_bkg_inc_ext.values[:, 0]\n",
    "\n",
    "print(numu_bkg_inc_ext)\n",
    "print(\"\")"
   ]
  },
  {
   "cell_type": "code",
   "execution_count": 7,
   "id": "0fe6cc8a",
   "metadata": {},
   "outputs": [
    {
     "name": "stdout",
     "output_type": "stream",
     "text": [
      "[17.48353641 41.20914589 26.20235848 15.45861305  7.96304994  4.23637057\n",
      "  2.67256661  3.93092881]\n",
      "\n",
      "[225.52815552 603.52095369 208.18552978  80.83468367  36.23742747\n",
      "  13.75882584   3.41012787   1.43080832]\n"
     ]
    }
   ],
   "source": [
    "####So then can calculate the data signal input to the unfolding\n",
    "\n",
    "nue_datasig_bkg_subtracted = nue_data_signal - nue_bkg_inc_ext\n",
    "print(nue_datasig_bkg_subtracted)\n",
    "print(\"\")\n",
    "\n",
    "numu_datasig_bkg_subtracted = numu_data_signal - numu_bkg_inc_ext\n",
    "print(numu_datasig_bkg_subtracted)"
   ]
  },
  {
   "cell_type": "code",
   "execution_count": 8,
   "id": "1d47fce7",
   "metadata": {},
   "outputs": [
    {
     "name": "stdout",
     "output_type": "stream",
     "text": [
      "[ 17.48353641  41.20914589  26.20235848  15.45861305   7.96304994\n",
      "   4.23637057   2.67256661   3.93092881 225.52815552 603.52095369\n",
      " 208.18552978  80.83468367  36.23742747  13.75882584   3.41012787\n",
      "   1.43080832]\n",
      "16\n"
     ]
    }
   ],
   "source": [
    "nue_numu_tot = np.concatenate((nue_datasig_bkg_subtracted, numu_datasig_bkg_subtracted), axis=0)\n",
    "\n",
    "print(nue_numu_tot)\n",
    "print(len(nue_numu_tot))"
   ]
  },
  {
   "cell_type": "code",
   "execution_count": 9,
   "id": "237e5524",
   "metadata": {},
   "outputs": [
    {
     "data": {
      "image/png": "[encoded data removed]",
      "text/plain": [
       "<Figure size 576x504 with 1 Axes>"
      ]
     },
     "metadata": {
      "needs_background": "light"
     },
     "output_type": "display_data"
    }
   ],
   "source": [
    "nue_numu_fig = plt.figure(figsize=(8, 7))\n",
    "nue_numu_gs = gridspec.GridSpec(2, 1, height_ratios=[2, 1])\n",
    "nue_numu_ax1 = plt.subplot(nue_numu_gs[0])\n",
    "\n",
    "\n",
    "#bins = np.arange(0, 10.5, 0.5)\n",
    "#count = np.linspace(0.1, 9.6, 20)\n",
    "bins = np.arange(0, 17, 1)\n",
    "count = np.arange(0.0, 16.0, 1)\n",
    "\n",
    "\n",
    "sel_ratio = nue_numu_ax1.hist(count, bins, edgecolor='red', facecolor='red', weights=nue_numu_tot)\n",
    "nue_numu_ax1.set_ylabel('Count', fontsize=15)\n",
    "nue_numu_ax1.set_xlabel('Bin Number', fontsize=15)\n",
    "nue_numu_ax1.set_title(\"Nue, Numu, Data Selected Values\")\n",
    "#leg = nue_numu_ax1.legend()\n",
    "#nue_numu_ax1.set_ylim([0, 1])\n",
    "\n",
    "nue_numu_fig.savefig(\"data_signal_MC_noTune_input_leptonMom_comb_\"+ending+\".svg\", bbox_inches='tight')"
   ]
  },
  {
   "cell_type": "code",
   "execution_count": 10,
   "id": "ec3bcd31",
   "metadata": {},
   "outputs": [
    {
     "name": "stdout",
     "output_type": "stream",
     "text": [
      "Dec19\n"
     ]
    }
   ],
   "source": [
    "np.savetxt(\"data_signal_MC_noTune_input_leptonMom_comb_\"+ending+\".csv\", \n",
    "               nue_numu_tot,\n",
    "               delimiter =\", \", \n",
    "               fmt ='% s')\n",
    "\n",
    "print(ending)"
   ]
  },
  {
   "cell_type": "code",
   "execution_count": 13,
   "id": "d36109d1",
   "metadata": {},
   "outputs": [
    {
     "name": "stdout",
     "output_type": "stream",
     "text": [
      "[8.92053909 3.58995425 1.54667227 0.91902918 0.70242097 0.2632695\n",
      " 0.13234823 0.40028596]\n",
      "\n",
      "[115.36294196 227.02120026  69.34826153  24.80035418   9.52952982\n",
      "   4.06292642   0.96598013   0.78489182]\n",
      "\n"
     ]
    }
   ],
   "source": [
    "####Now need to get in the uncertainties\n",
    "\n",
    "###First up, get the noTune statistical uncertinaty. This will be from sig + bkg in noTune\n",
    "\n",
    "ending = \"Dec19_noTune\" \n",
    "\n",
    "\n",
    "nue_sig_unc = pd.read_csv(\"nue_total_noTune_err_squared_lepton_comb_\"+ending+\".csv\", header=None)\n",
    "\n",
    "nue_sig_unc = nue_sig_unc.values[:, 0]\n",
    "\n",
    "print(nue_sig_unc)\n",
    "print(\"\")\n",
    "\n",
    "########################\n",
    "\n",
    "numu_sig_unc = pd.read_csv(\"numu_total_noTune_err_squared_lepton_comb_\"+ending+\".csv\", header=None)\n",
    "\n",
    "numu_sig_unc = numu_sig_unc.values[:, 0]\n",
    "\n",
    "print(numu_sig_unc)\n",
    "print(\"\")"
   ]
  },
  {
   "cell_type": "code",
   "execution_count": 17,
   "id": "72e1c160",
   "metadata": {},
   "outputs": [
    {
     "name": "stdout",
     "output_type": "stream",
     "text": [
      "[8.86804497 3.17666948 1.42344224 0.7432552  0.55003876 0.20502323\n",
      " 0.09003998 0.33467734]\n",
      "\n",
      "[ 76.17615008 112.08352694  33.72979711  18.96662017   4.00753197\n",
      "   1.41609575   0.33281639   0.4749756 ]\n",
      "\n"
     ]
    }
   ],
   "source": [
    "####The regular tune bkg stat uncertainties\n",
    "\n",
    "ending = \"Dec19\" #need this ending as bkg is from regular tune\n",
    "\n",
    "\n",
    "nue_bkg_unc = pd.read_csv(\"nue_bkg_exp_err_squared_lepton_comb_\"+ending+\".csv\", header=None)\n",
    "\n",
    "nue_bkg_unc = nue_bkg_unc.values[:, 0]\n",
    "\n",
    "print(nue_bkg_unc)\n",
    "print(\"\")\n",
    "\n",
    "########################\n",
    "\n",
    "numu_bkg_unc = pd.read_csv(\"numu_bkg_exp_err_squared_lepton_comb_\"+ending+\".csv\", header=None)\n",
    "\n",
    "numu_bkg_unc = numu_bkg_unc.values[:, 0]\n",
    "\n",
    "print(numu_bkg_unc)\n",
    "print(\"\")"
   ]
  },
  {
   "cell_type": "code",
   "execution_count": 18,
   "id": "ce8bac06",
   "metadata": {},
   "outputs": [
    {
     "name": "stdout",
     "output_type": "stream",
     "text": [
      "[17.78858406  6.76662374  2.9701145   1.66228439  1.25245973  0.46829273\n",
      "  0.22238821  0.7349633 ]\n",
      "\n",
      "[191.53909205 339.1047272  103.07805864  43.76697435  13.53706179\n",
      "   5.47902217   1.29879652   1.25986742]\n",
      "\n",
      "[1.77885841e+01 6.76662374e+00 2.97011450e+00 1.66228439e+00\n",
      " 1.25245973e+00 4.68292730e-01 2.22388211e-01 7.34963305e-01\n",
      " 1.91539092e+02 3.39104727e+02 1.03078059e+02 4.37669743e+01\n",
      " 1.35370618e+01 5.47902217e+00 1.29879652e+00 1.25986742e+00]\n"
     ]
    }
   ],
   "source": [
    "nue_stat_unc = nue_sig_unc + nue_bkg_unc\n",
    "print(nue_stat_unc)\n",
    "print(\"\")\n",
    "\n",
    "########################\n",
    "\n",
    "numu_stat_unc = numu_sig_unc + numu_bkg_unc\n",
    "print(numu_stat_unc)\n",
    "print(\"\")\n",
    "\n",
    "#########################\n",
    "\n",
    "nue_numu_tot_unc = np.concatenate((nue_stat_unc, numu_stat_unc), axis=0)\n",
    "\n",
    "print(nue_numu_tot_unc)"
   ]
  },
  {
   "cell_type": "code",
   "execution_count": 19,
   "id": "19ba13ad",
   "metadata": {},
   "outputs": [
    {
     "name": "stdout",
     "output_type": "stream",
     "text": [
      "[[0. 0. 0. 0. 0. 0. 0. 0. 0. 0. 0. 0. 0. 0. 0. 0.]\n",
      " [0. 0. 0. 0. 0. 0. 0. 0. 0. 0. 0. 0. 0. 0. 0. 0.]\n",
      " [0. 0. 0. 0. 0. 0. 0. 0. 0. 0. 0. 0. 0. 0. 0. 0.]\n",
      " [0. 0. 0. 0. 0. 0. 0. 0. 0. 0. 0. 0. 0. 0. 0. 0.]\n",
      " [0. 0. 0. 0. 0. 0. 0. 0. 0. 0. 0. 0. 0. 0. 0. 0.]\n",
      " [0. 0. 0. 0. 0. 0. 0. 0. 0. 0. 0. 0. 0. 0. 0. 0.]\n",
      " [0. 0. 0. 0. 0. 0. 0. 0. 0. 0. 0. 0. 0. 0. 0. 0.]\n",
      " [0. 0. 0. 0. 0. 0. 0. 0. 0. 0. 0. 0. 0. 0. 0. 0.]\n",
      " [0. 0. 0. 0. 0. 0. 0. 0. 0. 0. 0. 0. 0. 0. 0. 0.]\n",
      " [0. 0. 0. 0. 0. 0. 0. 0. 0. 0. 0. 0. 0. 0. 0. 0.]\n",
      " [0. 0. 0. 0. 0. 0. 0. 0. 0. 0. 0. 0. 0. 0. 0. 0.]\n",
      " [0. 0. 0. 0. 0. 0. 0. 0. 0. 0. 0. 0. 0. 0. 0. 0.]\n",
      " [0. 0. 0. 0. 0. 0. 0. 0. 0. 0. 0. 0. 0. 0. 0. 0.]\n",
      " [0. 0. 0. 0. 0. 0. 0. 0. 0. 0. 0. 0. 0. 0. 0. 0.]\n",
      " [0. 0. 0. 0. 0. 0. 0. 0. 0. 0. 0. 0. 0. 0. 0. 0.]\n",
      " [0. 0. 0. 0. 0. 0. 0. 0. 0. 0. 0. 0. 0. 0. 0. 0.]]\n"
     ]
    }
   ],
   "source": [
    "nue_numu_cov_stats   = np.zeros([(len(bins)-1), (len(bins)-1)])\n",
    "print(nue_numu_cov_stats)"
   ]
  },
  {
   "cell_type": "code",
   "execution_count": 20,
   "id": "ded66ab1",
   "metadata": {},
   "outputs": [],
   "source": [
    "nue_numu_cov_stats[np.diag_indices_from(nue_numu_cov_stats)]    = nue_numu_tot_unc"
   ]
  },
  {
   "cell_type": "code",
   "execution_count": 24,
   "id": "f41989e6",
   "metadata": {},
   "outputs": [
    {
     "name": "stdout",
     "output_type": "stream",
     "text": [
      "[[ 2.62188050e+01  4.57897982e+01  3.52087460e+01  2.11147219e+01\n",
      "   9.41504806e+00  4.15565882e+00  2.92263632e+00  3.82826664e+00\n",
      "   1.51263110e+02  2.98778502e+02  8.98106928e+01  3.47469510e+01\n",
      "   1.40198562e+01  5.37672361e+00  1.22286766e+00  1.41126222e+00]\n",
      " [ 4.57897982e+01  1.20581919e+02  9.73463861e+01  5.87973988e+01\n",
      "   2.46997669e+01  1.11651841e+01  8.19476042e+00  1.00007731e+01\n",
      "   5.24152005e+01  8.42741225e+01  6.50602783e+00  2.48080955e+00\n",
      "   2.38133784e+00  3.55387884e-01 -9.29739610e-01  4.43287447e-01]\n",
      " [ 3.52087460e+01  9.73463861e+01  8.14716650e+01  4.95217662e+01\n",
      "   2.02140625e+01  8.85941825e+00  6.81250045e+00  8.08140831e+00\n",
      "   3.00934440e+01  5.45126345e+01  1.00651664e+01  4.25673915e+00\n",
      "   2.20708981e+00  4.86891565e-01 -2.64186604e-01  2.53130768e-01]\n",
      " [ 2.11147219e+01  5.87973988e+01  4.95217662e+01  3.06805624e+01\n",
      "   1.22855734e+01  5.39738482e+00  4.17171030e+00  4.85501564e+00\n",
      "   1.50100327e+01  3.03140004e+01  3.04109042e+00  1.83983254e+00\n",
      "   1.50289164e+00  2.28787187e-01 -4.54047285e-01  2.02978866e-01]\n",
      " [ 9.41504806e+00  2.46997669e+01  2.02140625e+01  1.22855734e+01\n",
      "   5.34687898e+00  2.35492324e+00  1.70650461e+00  2.06953172e+00\n",
      "   9.06066260e+00  1.86059146e+01 -2.49091263e+00 -6.61955048e-01\n",
      "   4.31499223e-01 -2.72696558e-01 -5.92934140e-01  1.64292335e-01]\n",
      " [ 4.15565882e+00  1.11651841e+01  8.85941825e+00  5.39738482e+00\n",
      "   2.35492324e+00  1.21706519e+00  7.62000118e-01  9.86927256e-01\n",
      "  -1.13166555e+00 -2.86026944e+00 -6.76806619e+00 -2.41023518e+00\n",
      "  -4.25038867e-01 -3.96652846e-01 -5.24745304e-01  3.13165332e-02]\n",
      " [ 2.92263632e+00  8.19476042e+00  6.81250045e+00  4.17171030e+00\n",
      "   1.70650461e+00  7.62000118e-01  6.22043147e-01  7.01923877e-01\n",
      "   2.87328591e+00  6.69517470e+00  3.10956720e+00  1.12522145e+00\n",
      "   3.43026730e-01  1.85880897e-01  1.37660031e-01  4.76876382e-02]\n",
      " [ 3.82826664e+00  1.00007731e+01  8.08140831e+00  4.85501564e+00\n",
      "   2.06953172e+00  9.86927256e-01  7.01923877e-01  9.82103056e-01\n",
      "   1.55947017e+01  3.57994704e+01  2.24572587e+01  8.05675941e+00\n",
      "   2.16687497e+00  1.31159515e+00  1.22750848e+00  7.18689309e-02]\n",
      " [ 1.51263110e+02  5.24152005e+01  3.00934440e+01  1.50100327e+01\n",
      "   9.06066260e+00 -1.13166555e+00  2.87328591e+00  1.55947017e+01\n",
      "   4.55408530e+03  1.02813188e+04  5.59955245e+03  2.02706321e+03\n",
      "   6.02765892e+02  3.42308289e+02  2.73171585e+02  2.97425765e+01]\n",
      " [ 2.98778502e+02  8.42741225e+01  5.45126345e+01  3.03140004e+01\n",
      "   1.86059146e+01 -2.86026944e+00  6.69517470e+00  3.57994704e+01\n",
      "   1.02813188e+04  2.41950385e+04  1.30391505e+04  4.73902763e+03\n",
      "   1.43637979e+03  8.00722666e+02  6.27601074e+02  7.00324332e+01]\n",
      " [ 8.98106928e+01  6.50602783e+00  1.00651664e+01  3.04109042e+00\n",
      "  -2.49091263e+00 -6.76806619e+00  3.10956720e+00  2.24572587e+01\n",
      "   5.59955245e+03  1.30391505e+04  8.56514993e+03  3.04176404e+03\n",
      "   8.16403729e+02  5.25660511e+02  4.83123044e+02  2.94252639e+01]\n",
      " [ 3.47469510e+01  2.48080955e+00  4.25673915e+00  1.83983254e+00\n",
      "  -6.61955048e-01 -2.41023518e+00  1.12522145e+00  8.05675941e+00\n",
      "   2.02706321e+03  4.73902763e+03  3.04176404e+03  1.08894041e+03\n",
      "   2.96963330e+02  1.86811976e+02  1.68308417e+02  1.07507899e+01]\n",
      " [ 1.40198562e+01  2.38133784e+00  2.20708981e+00  1.50289164e+00\n",
      "   4.31499223e-01 -4.25038867e-01  3.43026730e-01  2.16687497e+00\n",
      "   6.02765892e+02  1.43637979e+03  8.16403729e+02  2.96963330e+02\n",
      "   8.92132612e+01  5.03690844e+01  4.07855910e+01  3.71744743e+00]\n",
      " [ 5.37672361e+00  3.55387884e-01  4.86891565e-01  2.28787187e-01\n",
      "  -2.72696558e-01 -3.96652846e-01  1.85880897e-01  1.31159515e+00\n",
      "   3.42308289e+02  8.00722666e+02  5.25660511e+02  1.86811976e+02\n",
      "   5.03690844e+01  3.34426996e+01  2.96567194e+01  1.91772902e+00]\n",
      " [ 1.22286766e+00 -9.29739610e-01 -2.64186604e-01 -4.54047285e-01\n",
      "  -5.92934140e-01 -5.24745304e-01  1.37660031e-01  1.22750848e+00\n",
      "   2.73171585e+02  6.27601074e+02  4.83123044e+02  1.68308417e+02\n",
      "   4.07855910e+01  2.96567194e+01  3.02685781e+01  1.06738279e+00]\n",
      " [ 1.41126222e+00  4.43287447e-01  2.53130768e-01  2.02978866e-01\n",
      "   1.64292335e-01  3.13165332e-02  4.76876382e-02  7.18689309e-02\n",
      "   2.97425765e+01  7.00324332e+01  2.94252639e+01  1.07507899e+01\n",
      "   3.71744743e+00  1.91772902e+00  1.06738279e+00  5.55434878e-01]]\n"
     ]
    }
   ],
   "source": [
    "###Then sprinkle in the regular tune genie sys uncertainties\n",
    "\n",
    "# Load in the blockwise genie cov matrix\n",
    "\n",
    "blockwise_genie_err = pd.read_csv(\"blockwise_cov_genie_only_leptonMom_comb_\"+ending+\".csv\", header=None)\n",
    "\n",
    "blockwise_genie_err = blockwise_genie_err.values\n",
    "print(blockwise_genie_err)"
   ]
  },
  {
   "cell_type": "code",
   "execution_count": 25,
   "id": "86e82551",
   "metadata": {},
   "outputs": [],
   "source": [
    "##### Now make the total cov matrix\n",
    "\n",
    "total_noTune_input_cov = nue_numu_cov_stats + blockwise_genie_err"
   ]
  },
  {
   "cell_type": "code",
   "execution_count": 26,
   "id": "54c95230",
   "metadata": {},
   "outputs": [
    {
     "data": {
      "image/png": "[encoded data removed]",
      "text/plain": [
       "<Figure size 720x432 with 2 Axes>"
      ]
     },
     "metadata": {
      "needs_background": "light"
     },
     "output_type": "display_data"
    }
   ],
   "source": [
    "fig = plt.figure(figsize=(10, 6))\n",
    "\n",
    "plt.pcolor(bins, bins, total_noTune_input_cov, cmap='OrRd', edgecolors='k')\n",
    "\n",
    "cbar = plt.colorbar()\n",
    "cbar.ax.tick_params(labelsize=14)\n",
    "#if pot: \n",
    "#    cbar.set_label(label=\"$\\\\nu^{2}$ / \"+pot+\"$^{2}$\", fontsize=15)\n",
    "\n",
    "plt.xlim(bins[0], bins[-1])\n",
    "plt.ylim(bins[0], bins[-1])\n",
    "\n",
    "\n",
    "plt.xlabel(\"cos(Reconstructed Lepton Angle)\", fontsize=15)\n",
    "plt.ylabel(\"cos(Reconstructed Lepton Angle)\", fontsize=15)\n",
    "\n",
    "plt.title('Covariance Matrix (noTune)', fontsize=16)\n",
    "\n",
    "\n",
    "plt.savefig(\"data_covmat_MC_noTune_input_leptonMom_comb_\"+ending+\".svg\", bbox_inches='tight')\n",
    "\n",
    "plt.show()"
   ]
  },
  {
   "cell_type": "code",
   "execution_count": 27,
   "id": "c3fa84cb",
   "metadata": {},
   "outputs": [],
   "source": [
    "np.savetxt(\"data_covmat_MC_noTune_input_leptonMom_comb_\"+ending+\".csv\", \n",
    "           total_noTune_input_cov,\n",
    "           delimiter =\", \", \n",
    "           fmt ='% s')"
   ]
  },
  {
   "cell_type": "code",
   "execution_count": 28,
   "id": "f1216474",
   "metadata": {},
   "outputs": [
    {
     "data": {
      "text/plain": [
       "'Dec19'"
      ]
     },
     "execution_count": 28,
     "metadata": {},
     "output_type": "execute_result"
    }
   ],
   "source": [
    "ending"
   ]
  },
  {
   "cell_type": "code",
   "execution_count": null,
   "id": "965d3def",
   "metadata": {},
   "outputs": [],
   "source": []
  }
 ],
 "metadata": {
  "kernelspec": {
   "display_name": "Python 3 (ipykernel)",
   "language": "python",
   "name": "python3"
  },
  "language_info": {
   "codemirror_mode": {
    "name": "ipython",
    "version": 3
   },
   "file_extension": ".py",
   "mimetype": "text/x-python",
   "name": "python",
   "nbconvert_exporter": "python",
   "pygments_lexer": "ipython3",
   "version": "3.8.12"
  }
 },
 "nbformat": 4,
 "nbformat_minor": 5
}
