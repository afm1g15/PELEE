{
 "cells": [
  {
   "cell_type": "code",
   "execution_count": 10,
   "id": "e8f4248c",
   "metadata": {},
   "outputs": [
    {
     "name": "stdout",
     "output_type": "stream",
     "text": [
      "/home/alex/NuMI/PELEE/\n"
     ]
    }
   ],
   "source": [
    "import pandas as pd\n",
    "import matplotlib.pyplot as plt\n",
    "import matplotlib\n",
    "import sys\n",
    "import localSettings as ls\n",
    "import math\n",
    "print(ls.main_path)\n",
    "import load_data_run123\n",
    "import plotter_alex\n",
    "import importlib\n",
    "importlib.reload(plotter_alex)\n",
    "import uproot\n",
    "import matplotlib.pylab as pylab\n",
    "import numpy as np\n",
    "import math\n",
    "from sklearn.model_selection import train_test_split\n",
    "import pickle\n",
    "import xgboost as xgb\n",
    "import nue_booster \n",
    "importlib.reload(nue_booster)\n",
    "import awkward"
   ]
  },
  {
   "cell_type": "code",
   "execution_count": 25,
   "id": "ac574925",
   "metadata": {},
   "outputs": [],
   "source": [
    "variables = [\n",
    "    \"pot\"\n",
    "]"
   ]
  },
  {
   "cell_type": "code",
   "execution_count": 26,
   "id": "309e0fa5",
   "metadata": {},
   "outputs": [],
   "source": [
    "input_path = \"/media/alex/TOSHIBA EXT/detSys/\""
   ]
  },
  {
   "cell_type": "code",
   "execution_count": 27,
   "id": "bfbcac52",
   "metadata": {},
   "outputs": [],
   "source": [
    "fold = \"nuselection\"\n",
    "tree = \"SubRun\"\n",
    "run = \"run1\""
   ]
  },
  {
   "cell_type": "code",
   "execution_count": 31,
   "id": "53dbc528",
   "metadata": {},
   "outputs": [],
   "source": [
    "detvar_run1_fhc = {\n",
    "    \"LYRayleigh\": 3.68926E20, #Katrina 7.59732E20, #7.60573E20, \n",
    "    \"LYDown\": 3.566E20, #Katrina 7.43109E20, \n",
    "    \"SCE\": 3.71139E20, #Katrina 7.39875E20, \n",
    "    \"Recomb2\": 3.72108E20, #Katrina 7.59105E20, \n",
    "    \"WireModX\": 3.6749E20, #Katrina 7.64918E20, \n",
    "    \"WireModYZ\": 3.69849E20, #Katrina 7.532E20, \n",
    "    \"WireModThetaXZ\": 3.68008E20, #Katrina 7.64282E20,\n",
    "    \"WireModThetaYZ_withSigmaSplines\": 3.68995E20, #Katrina 7.64543E20, \n",
    "    \"CV\": 3.68983E20 #Katrina 7.59732E20\n",
    "}"
   ]
  },
  {
   "cell_type": "code",
   "execution_count": 32,
   "id": "4d592220",
   "metadata": {},
   "outputs": [],
   "source": [
    "standard_dict = detvar_run1_fhc\n",
    "\n",
    "run = 'run1'\n",
    "detvar = detvar_run1_fhc"
   ]
  },
  {
   "cell_type": "code",
   "execution_count": 37,
   "id": "f841e3b0",
   "metadata": {
    "scrolled": false
   },
   "outputs": [
    {
     "name": "stdout",
     "output_type": "stream",
     "text": [
      "variation:  LYRayleigh    7.605746038675079e+20\n",
      "variation:  LYDown    7.431067565878338e+20\n",
      "variation:  SCE    7.398785686002939e+20\n",
      "variation:  Recomb2    7.591084123714245e+20\n",
      "variation:  WireModX    7.64919444389931e+20\n",
      "variation:  WireModYZ    7.53199715997964e+20\n",
      "variation:  WireModThetaXZ    7.642805713120149e+20\n",
      "variation:  WireModThetaYZ_withSigmaSplines    7.645410682573077e+20\n",
      "variation:  CV    7.597345927576955e+20\n"
     ]
    }
   ],
   "source": [
    "for variation in detvar.keys(): \n",
    "    standard_input_file = input_path + \"standard_overlay/neutrinoselection_filt_\"+run+\"_overlay_\"+variation+\".root\"\n",
    "\n",
    "    f_standard = uproot.open(standard_input_file)[fold][tree]\n",
    "\n",
    "    uproot_v = [f_standard]\n",
    "\n",
    "    df_standard = f_standard.pandas.df(variables, flatten=False)\n",
    "    \n",
    "    print(\"variation: \", variation, \"  \", sum(df_standard[\"pot\"]))"
   ]
  },
  {
   "cell_type": "code",
   "execution_count": null,
   "id": "de7f59ea",
   "metadata": {},
   "outputs": [],
   "source": []
  }
 ],
 "metadata": {
  "kernelspec": {
   "display_name": "Python 3 (ipykernel)",
   "language": "python",
   "name": "python3"
  },
  "language_info": {
   "codemirror_mode": {
    "name": "ipython",
    "version": 3
   },
   "file_extension": ".py",
   "mimetype": "text/x-python",
   "name": "python",
   "nbconvert_exporter": "python",
   "pygments_lexer": "ipython3",
   "version": "3.8.12"
  }
 },
 "nbformat": 4,
 "nbformat_minor": 5
}
