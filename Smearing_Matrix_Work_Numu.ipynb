{
 "cells": [
  {
   "cell_type": "code",
   "execution_count": 1,
   "metadata": {},
   "outputs": [
    {
     "name": "stdout",
     "output_type": "stream",
     "text": [
      "/home/alex/NuMI/PELEE/\n"
     ]
    }
   ],
   "source": [
    "import pandas as pd\n",
    "import matplotlib.pyplot as plt\n",
    "import matplotlib\n",
    "import sys\n",
    "import localSettings as ls\n",
    "import math\n",
    "print(ls.main_path)\n",
    "import load_data_run123\n",
    "import plotter_alex\n",
    "import importlib\n",
    "importlib.reload(plotter_alex)\n",
    "import uproot\n",
    "import matplotlib.pylab as pylab\n",
    "import numpy as np\n",
    "import math\n",
    "from sklearn.model_selection import train_test_split\n",
    "import pickle\n",
    "import xgboost as xgb\n",
    "import nue_booster \n",
    "importlib.reload(nue_booster)\n",
    "import awkward\n",
    "from collections import defaultdict\n",
    "\n",
    "main_path = ls.main_path\n",
    "sys.path.append(main_path)"
   ]
  },
  {
   "cell_type": "code",
   "execution_count": 2,
   "metadata": {},
   "outputs": [],
   "source": [
    "import NuMIGeoWeights\n",
    "import importlib\n",
    "importlib.reload(NuMIGeoWeights)\n",
    "numiBeamlineGeoWeights = NuMIGeoWeights.NuMIGeoWeights() # the default option is FHC, RHC needs different arguments"
   ]
  },
  {
   "cell_type": "code",
   "execution_count": 3,
   "metadata": {
    "colab": {},
    "colab_type": "code",
    "id": "xGqTJ5JgaDsx"
   },
   "outputs": [],
   "source": [
    "params = {\n",
    "    'axes.labelsize': 'x-large',\n",
    "    'axes.titlesize': 'x-large',\n",
    "    'xtick.labelsize': 'x-large',\n",
    "    'ytick.labelsize': 'x-large'\n",
    "}\n",
    "pylab.rcParams.update(params)"
   ]
  },
  {
   "cell_type": "code",
   "execution_count": 4,
   "metadata": {},
   "outputs": [],
   "source": [
    "from scipy.spatial.transform import Rotation as R\n",
    "from numpy import arccos, array\n",
    "from numpy.linalg import norm\n",
    "\n",
    "# Note: returns angle in radians\n",
    "def theta(v, w): return arccos(v.dot(w)/(norm(v)*norm(w)))* 180 / 3.1415926\n",
    "\n",
    "def GetNuMIAngle( px,  py,  pz):\n",
    "    r = R.from_matrix([[0.92103853804025681562   , 0.022713504803924120662, 0.38880857519374290021  ],\n",
    "                       [4.6254001262154668408e-05, 0.99829162468141474651 , -0.058427989452906302359],\n",
    "                       [-0.38947144863934973769  , 0.053832413938664107345, 0.91946400794392302291  ]])  \n",
    "    r = r.inv()\n",
    "    beamCoords = r.apply([px,  py,  pz])\n",
    "    beamDir    = [0,0,1]\n",
    "    #print(theta(beamCoords,beamDir))\n",
    "    return theta(beamCoords,beamDir)\n",
    "\n",
    "def GetNuMIAnglePol( phiBNB,  thetaBNB):\n",
    "    px = math.sin(thetaBNB)*math.cos(phiBNB)\n",
    "    py = math.sin(thetaBNB)*math.sin(phiBNB)\n",
    "    pz = math.cos(thetaBNB)\n",
    "    return GetNuMIAngle( px,  py,  pz)\n",
    "\n"
   ]
  },
  {
   "cell_type": "code",
   "execution_count": 5,
   "metadata": {},
   "outputs": [
    {
     "data": {
      "text/plain": [
       "1.8690124908136228"
      ]
     },
     "execution_count": 5,
     "metadata": {},
     "output_type": "execute_result"
    }
   ],
   "source": [
    "def vectorFromNuMITarget(vtxX,  vtxY, vtxZ):\n",
    "    numiTarget      = np.array([-31387.58422, -3316.402543, -60100.2414])\n",
    "    nuInteraction   = np.array([vtxX,  vtxY, vtxZ])\n",
    "    directionVector = nuInteraction - numiTarget\n",
    "    return directionVector\n",
    "\n",
    "def angleFromNuMITarget(vtxX,  vtxY, vtxZ, thetaBNB, phiBNB):\n",
    "    v1 = vectorFromNuMITarget(vtxX,  vtxY, vtxZ)  \n",
    "    norm = np.linalg.norm(v1)\n",
    "    v1 = v1/norm\n",
    "    v2 = [np.cos(phiBNB)*np.sin(thetaBNB),np.sin(phiBNB)*np.sin(thetaBNB), np.cos(thetaBNB) ]\n",
    "    dot_product = np.dot(v1, v2)\n",
    "    angle = np.arccos(dot_product)\n",
    "    return angle #dot_product # angle*180/3.14159265\n",
    "\n",
    "\n",
    "angleFromNuMITarget(1,1,1,1.4,3.)"
   ]
  },
  {
   "cell_type": "code",
   "execution_count": 6,
   "metadata": {
    "colab": {},
    "colab_type": "code",
    "id": "iwoCIaigYJ9N"
   },
   "outputs": [
    {
     "name": "stdout",
     "output_type": "stream",
     "text": [
      "['mc_pdg', 'interaction', 'pion_e', 'topological_score', 'CosmicIP', 'reco_nu_vtx_sce_y', 'true_e_visible', 'sub', 'pi0_e', 'theta', 'run', 'ccnc', 'slpdg', 'slnhits', 'evt', 'flash_pe', 'muon_e', 'reco_e', 'CosmicDirAll3D', 'nu_pdg', 'reco_nu_vtx_sce_x', '_opfilter_pe_veto', 'npi0', 'reco_nu_vtx_z', 'npion', 'slclustfrac', 'nslice', 'reco_nu_vtx_x', '_opfilter_pe_beam', 'reco_nu_vtx_y', 'nproton', 'slnunhits', 'backtracked_pdg', 'evnunhits', 'isVtxInFiducial', 'category', 'trk_llr_pid_score_v', 'CosmicIPAll3D', 'pi0truth_elec_etot', 'reco_nu_vtx_sce_z']\n"
     ]
    }
   ],
   "source": [
    "tree = \"NeutrinoSelectionFilter\"\n",
    "\n",
    "\n",
    "#new\n",
    "#BNB  = '/neutrinoselection_filt_run1_beamon_beamgood' +ls.APPEND\n",
    "#EXT  = '/neutrinoselection_filt_run1_beamoff'         +ls.APPEND\n",
    "#NU   = '/neutrinoselection_filt_run1_overlay'    +ls.APPEND #newTune\n",
    "#This is with the new GENIE tune\n",
    "#NUE  = '/neutrinoselection_filt_run1_overlay_intrinsic'+ls.APPEND #newTune\n",
    "\n",
    "DRT  = '/prodgenie_numi_uboone_overlay_dirt_fhc_mcc9_run1_v28_all_snapshot'  +ls.APPEND\n",
    "\n",
    "BNB  = '/pre_samp/neutrinoselection_filt_run1_beamon_beamgood' +ls.APPEND\n",
    "EXT  = '/pre_samp/neutrinoselection_filt_run1_beamoff'         +ls.APPEND\n",
    "NU   = '/pre_samp/prodgenie_numi_uboone_overlay_fhc_mcc9_run1_v28_all_snapshot'    +ls.APPEND #newTune\n",
    "#DRT  = '/pre_samp/neutrinoselection_filt_run1_dirt_overlay'        +ls.APPEND\n",
    "\n",
    "mc   = uproot.open(ls.ntuple_path+NU +\".root\")[ls.fold][tree]\n",
    "data = uproot.open(ls.ntuple_path+BNB+\".root\")[ls.fold][tree]\n",
    "ext  = uproot.open(ls.ntuple_path+EXT+\".root\")[ls.fold][tree]\n",
    "dirt = uproot.open(ls.ntuple_path+DRT+\".root\")[ls.fold][tree]\n",
    "#nue  = uproot.open(ls.ntuple_path+NUE+\".root\")[ls.fold][tree]\n",
    "\n",
    "\n",
    "uproot_v = [mc,ext,data,dirt] \n",
    "\n",
    "\n",
    "variables = [\n",
    "        \"nu_pdg\", \"slpdg\", \"backtracked_pdg\", #\"trk_score_v\", \n",
    "        \"category\", \"ccnc\",\n",
    "        \"run\",\"sub\",\"evt\",\n",
    "        \"CosmicIP\",\"CosmicDirAll3D\",\"CosmicIPAll3D\",\n",
    "        \"flash_pe\",\n",
    "        \"trk_llr_pid_score_v\", # trk-PID score\n",
    "        \"_opfilter_pe_beam\", \"_opfilter_pe_veto\", # did the event pass the common optical filter (for MC only)\n",
    "        \"reco_nu_vtx_sce_x\",\"reco_nu_vtx_sce_y\",\"reco_nu_vtx_sce_z\",\n",
    "        \"nproton\",\n",
    "        #\"nu_e\", \n",
    "        \"reco_e\",\n",
    "        \"nproton\", \"mc_pdg\", \"slnunhits\", \"slnhits\", \"true_e_visible\",\n",
    "        \"npi0\",\"npion\",\"pion_e\",\"muon_e\",\"pi0truth_elec_etot\",\n",
    "        \"pi0_e\", \"evnunhits\", \"nslice\", \"interaction\",\n",
    "        \"slclustfrac\", \"reco_nu_vtx_x\", \"reco_nu_vtx_y\", \"reco_nu_vtx_z\",\n",
    "        #\"trk_sce_start_x_v\",\"trk_sce_start_y_v\",\"trk_sce_start_z_v\",\n",
    "        #\"trk_sce_end_x_v\",\"trk_sce_end_y_v\",\"trk_sce_end_z_v\",\n",
    "        #\"trk_start_x_v\",\"trk_start_z_v\",\"trk_start_z_v\",\n",
    "        \"topological_score\",\n",
    "        \"isVtxInFiducial\",\n",
    "        \"theta\", # angle between incoming and outgoing leptons in radians\n",
    "    ]\n",
    "\n",
    "varMC = [\"nu_e\",\"true_pt\",\"true_pt_visible\",\"true_p\",\"true_p_visible\",\"true_nu_vtx_t\",\"true_nu_vtx_x\",\"true_nu_vtx_y\",\"true_nu_vtx_z\",\"true_nu_vtx_sce_x\",\"true_nu_vtx_sce_y\",\"true_nu_vtx_sce_z\\\n",
    "\",\"true_nu_px\",\"true_nu_py\",\"true_nu_pz\", \"true_nu_vtx_z\", \"true_nu_vtx_y\", \"true_nu_vtx_x\"]\n",
    "\n",
    "#make the list unique\n",
    "variables = list(set(variables))\n",
    "print(variables)\n",
    "\n",
    "\n",
    "    \n",
    "WEIGHTS     = [\"weightSpline\",\"weightTune\",\"weightSplineTimesTune\",\"ppfx_cv\"]\n",
    "SYSTEMATICS = ['weightsFlux','weightsGenie','weightsReint'] \n",
    "PPFX        = ['weightsPPFX'] \n",
    "\n",
    "\n",
    "\n",
    "WEIGHTSLEE = [\"weightSpline\",\"weightTune\",\"weightSplineTimesTune\", \"leeweight\"]#, \"weightsGenie\", \"weightsFlux\", \"weightsReint\"]\n",
    "MCFVARS    = [\"mcf_nu_e\",\"mcf_lep_e\",\"mcf_actvol\",\"mcf_nmm\",\"mcf_nmp\",\"mcf_nem\",\"mcf_nep\",\"mcf_np0\",\"mcf_npp\",\n",
    "              \"mcf_npm\",\"mcf_mcshr_elec_etot\",\"mcf_pass_ccpi0\",\"mcf_pass_ncpi0\",\n",
    "              \"mcf_pass_ccnopi\",\"mcf_pass_ncnopi\",\"mcf_pass_cccpi\",\"mcf_pass_nccpi\"]\n"
   ]
  },
  {
   "cell_type": "code",
   "execution_count": 7,
   "metadata": {},
   "outputs": [
    {
     "name": "stdout",
     "output_type": "stream",
     "text": [
      "trk_llr_pid_v  [[0.82782626 -0.8194372 0.3865043 0.09241907] [0.66136134 0.26579022 -0.4465902] [0.9429299] ... [-0.7478028 -0.31272712 -0.07394644 0.6294419 -0.15682676 0.044288084] [0.9825717 0.8653566 0.30652303 0.37347093 0.0450483] [0.8391653 0.832069 0.35647532 0.38325506]]\n",
      "trk_score_v  [[0.013178393 0.9346445 0.9606818 0.16331574] [0.9108349 0.45338693 0.94899696] [0.0006027788] ... [0.9460351 0.1035448 0.72438586 0.5656786 0.97891515 0.51936793] [1.0 0.0056803394 0.08460715 0.59094507 0.8683876] [0.034102786 0.08651647 0.49835193 0.06482802]]\n",
      "Here:\n",
      "trk_range_muon_mom_v  [[0.17937614 0.16509071 0.12815218 0.0944555] [0.14844838 0.096581735 0.12556528] [0.4635543] ... [0.17865215 0.19258761 0.102005966 0.14741157 0.085067436 0.04624264] [0.72576284 0.19006218 0.12427797 0.11919753 0.08485623] [0.1829412 0.16517013 0.13296928 0.10878313]]\n",
      "trk_mcs_muon_mom_v  [[0.11600006 0.19500022 0.33199927 0.34799907] [0.3679988 0.21500026 1.1059957] [0.36599857] ... [0.2330003 0.122000076 0.16000015 0.065999955 14.999432 14.998431] [0.6839978 0.15200013 0.091000006 0.13000008 14.999432] [0.12700008 0.15900014 0.09200001 0.075999975]]\n"
     ]
    },
    {
     "name": "stderr",
     "output_type": "stream",
     "text": [
      "/home/alex/miniconda3/envs/vintageXgboostVintageUprootEnv/lib/python3.8/site-packages/awkward/array/jagged.py:1557: RuntimeWarning: overflow encountered in reduceat\n",
      "  out = ufunc.reduceat(content, awkward.util.windows_safe(nonterminal))[:len(out)]\n",
      "/home/alex/miniconda3/envs/vintageXgboostVintageUprootEnv/lib/python3.8/site-packages/awkward/array/jagged.py:1043: RuntimeWarning: overflow encountered in power\n",
      "  result = getattr(ufunc, method)(*inputs, **kwargs)\n"
     ]
    },
    {
     "name": "stdout",
     "output_type": "stream",
     "text": [
      "trk_llr_pid_v  [[0.4775138] [0.9612796] [0.46180135 0.54934144 0.10673018] ... [0.73604786 0.15185338] [0.513903 0.09590046 0.101642326] [0.547429 0.42826256]]\n",
      "trk_score_v  [[0.29486892] [0.00014609084] [1.0961453e-07 0.2947586 0.73173183] ... [0.13884807 0.712718] [0.3139902 0.7329207 0.863878] [0.85589015 0.32862234]]\n",
      "Here:\n",
      "trk_range_muon_mom_v  [[0.10813367] [0.55609524] [0.15396534 0.11052788 0.09672263] ... [0.15389663 0.06221006] [0.10815287 0.07369371 0.07062612] [0.1019842 0.09543209]]\n",
      "trk_mcs_muon_mom_v  [[0.1380001] [0.42799848] [0.11400005 0.07899998 0.21100025] ... [0.17700018 14.999432] [0.085999995 14.998431 14.999432] [0.6589951 0.34699908]]\n",
      "trk_llr_pid_v  [[0.61479425] [0.6336193 0.39911884 0.021630378] [0.7970757 -0.21337485 -0.3697966] ... [0.4188579] [0.6745422] [0.8221383 0.5234873 0.25720716 0.038982317]]\n",
      "trk_score_v  [[0.35534355] [0.34817457 0.14082558 0.3428277] [0.0009466654 0.9058201 0.9391397] ... [0.27186927] [0.42120844] [0.82834244 0.8871221 0.7718351 0.0036477235]]\n",
      "Here:\n",
      "trk_range_muon_mom_v  [[0.11552857] [0.115886115 0.08794256 0.06446102] [0.38021684 0.12785468 0.08321578] ... [0.11002278] [0.13314688] [0.16979142 0.15230699 0.13047099 0.11390179]]\n",
      "trk_mcs_muon_mom_v  [[0.12300007] [0.091000006 14.999432 -1.0] [0.21400025 2.5060008 14.999432] ... [0.09700002] [0.11700006] [0.1390001 0.351999 0.42099813 0.080999985]]\n",
      "trk_llr_pid_v  [[] [] [] ... [] [] []]\n",
      "trk_score_v  [[] [] [] ... [] [] []]\n",
      "Here:\n",
      "trk_range_muon_mom_v  [[] [] [] ... [] [] []]\n",
      "trk_mcs_muon_mom_v  [[] [] [] ... [] [] []]\n"
     ]
    }
   ],
   "source": [
    "import pandas as pandas    \n",
    "#dirt = dirt.pandas.df(variables + varMC + WEIGHTS + SYSTEMATICS, flatten=False)\n",
    "#mc   =   mc.pandas.df(variables + WEIGHTS + MCFVARS + SYSTEMATICS + PPFX+varMC, flatten=False)\n",
    "#data = data.pandas.df(variables, flatten=False)\n",
    "#ext  =  ext.pandas.df(variables, flatten=False)\n",
    "\n",
    "dirt_var = variables + varMC + WEIGHTS + SYSTEMATICS\n",
    "mc_var   = variables + WEIGHTS + MCFVARS + SYSTEMATICS + PPFX+varMC\n",
    "data_var = variables\n",
    "ext_var  = variables\n",
    "#nue_var  = variables + WEIGHTS + MCFVARS + SYSTEMATICS + PPFX+varMC\n",
    "\n",
    "\n",
    "# This needs modifications (add variables from above)\n",
    "uproot_v = [mc,ext,data,dirt] \n",
    "var_v    = [mc_var,ext_var,data_var,dirt_var] \n",
    "\n",
    "#nue  = nue.pandas.df(variables + WEIGHTS + MCFVARS + SYSTEMATICS + PPFX+varMC, flatten=False)\n",
    "\n",
    "for ii, CV in enumerate(uproot_v):\n",
    "    CVDF  = CV.pandas.df(var_v[ii], flatten=False)\n",
    "    load_data_run123.process_uproot_numu(CV,CVDF)\n",
    "    if ii == 0:\n",
    "        mc = CVDF\n",
    "    elif ii == 1:\n",
    "        ext = CVDF\n",
    "    elif ii == 2:\n",
    "        data = CVDF\n",
    "    else:\n",
    "        dirt =  CVDF"
   ]
  },
  {
   "cell_type": "markdown",
   "metadata": {},
   "source": [
    "# Weights"
   ]
  },
  {
   "cell_type": "code",
   "execution_count": 8,
   "metadata": {},
   "outputs": [],
   "source": [
    "df_v = [mc,dirt]\n",
    "#removeGenieTune = False\n",
    "for i,df in enumerate(df_v):\n",
    "    df[ 'currentweightsafe' ] = df['weightSplineTimesTune']\n",
    "    df[ 'currentweight' ] = df['weightSplineTimesTune']"
   ]
  },
  {
   "cell_type": "code",
   "execution_count": 9,
   "metadata": {},
   "outputs": [],
   "source": [
    "df_v = [mc,dirt]\n",
    "#removeGenieTune = False\n",
    "for i,df in enumerate(df_v):\n",
    "    df.loc[ df['weightTune'] <= 0, 'weightTune' ] = 1.\n",
    "    df.loc[ df['weightTune'] == np.inf, 'weightTune' ] = 1.\n",
    "    df.loc[ df['weightTune'] > 100, 'weightTune' ] = 1.\n",
    "    df.loc[ np.isnan(df['weightTune']) == True, 'weightTune' ] = 1.    \n",
    "    \n",
    "    df.loc[ df['weightSplineTimesTune'] <= 0, 'weightSplineTimesTune' ] = 1.\n",
    "    df.loc[ df['weightSplineTimesTune'] == np.inf, 'weightSplineTimesTune' ] = 1.\n",
    "    df.loc[ df['weightSplineTimesTune'] > 100, 'weightSplineTimesTune' ] = 1.\n",
    "    df.loc[ np.isnan(df['weightSplineTimesTune']) == True, 'weightSplineTimesTune' ] = 1. \n",
    "    df[ 'weightSplineTimesTuneTimesPPFX' ] = df[ 'weightSplineTimesTune' ]*df['ppfx_cv']\n",
    "    \n",
    "    df.loc[ df['weightSpline'] <= 0, 'weightSpline' ] = 1.\n",
    "    df.loc[ df['weightSpline'] == np.inf, 'weightSpline' ] = 1.\n",
    "    df.loc[ df['weightSpline'] > 100, 'weightSpline' ] = 1.\n",
    "    df.loc[ np.isnan(df['weightSpline']) == True, 'weightSpline' ] = 1. \n",
    "    df[ 'weightSplineTimesPPFX' ]  = df[ 'weightSpline' ]*df['ppfx_cv']\n",
    "    '''\n",
    "    # Cray cray weight fix\n",
    "    for ievt in range(df.shape[0]):\n",
    "        reweightCondition = ((df['weightsGenie'].iloc[ievt] > 3000) | (df['weightsGenie'].iloc[ievt] < 0)  | \n",
    "                             (df['weightsGenie'].iloc[ievt] == np.inf))\n",
    "        df['weightsGenie'].iloc[ievt][ reweightCondition ] = 1.\n",
    "    '''\n"
   ]
  },
  {
   "cell_type": "code",
   "execution_count": 10,
   "metadata": {},
   "outputs": [],
   "source": [
    "df_v = [mc,dirt]\n",
    "#removeGenieTune = False\n",
    "for i,df in enumerate(df_v):\n",
    "    df[ 'currentweight' ] = df['weightSplineTimesTuneTimesPPFX']\n",
    "    df[ 'currentweightsafe' ] = df['weightSplineTimesTuneTimesPPFX']\n",
    "    df[ 'currentweightsafe2' ] = df['weightSplineTimesTuneTimesPPFX']\n",
    "    df[ 'currentweight2' ] = df['weightSplineTimesTuneTimesPPFX']\n"
   ]
  },
  {
   "cell_type": "code",
   "execution_count": 11,
   "metadata": {},
   "outputs": [],
   "source": [
    "df_v = [mc]\n",
    "scaleFlat = 0\n",
    "#removeGenieTune = False\n",
    "for i,df in enumerate(df_v):\n",
    "    if scaleFlat == 1:\n",
    "        df['weightSplineTimesTuneTimesPPFX'] = df[ 'currentweight' ] \n",
    "        df.loc[ df['npi0'] > 0, 'weightSplineTimesTuneTimesPPFX' ] =  (df['weightSplineTimesTuneTimesPPFX'] * 0.759)\n",
    "    elif scaleFlat == 2:\n",
    "        df['weightSplineTimesTune'] = df[ 'currentweight' ] \n",
    "        pi0emax = 0.6\n",
    "        df.loc[ (df['pi0_e'] > 0.1) & (df['pi0_e'] < pi0emax) , 'weightSplineTimesTuneTimesPPFX'] = df['weightSplineTimesTuneTimesPPFX']*(1.-0.4*df['pi0_e'])\n",
    "        df.loc[ (df['pi0_e'] > 0.1) & (df['pi0_e'] >= pi0emax), 'weightSplineTimesTuneTimesPPFX'] = df['weightSplineTimesTuneTimesPPFX']*(1.-0.4*pi0emax)\n",
    "    elif scaleFlat == 0:\n",
    "        df['weightSplineTimesTuneTimesPPFX'] = df[ 'currentweight' ] \n",
    "    \n",
    "    # Cray cray weight fix\n",
    "    #for ievt in range(df.shape[0]):\n",
    "    #    reweightCondition = ((df['weightsGenie'].iloc[ievt] > 3000) | (df['weightsGenie'].iloc[ievt] < 0)  | \n",
    "    #                         (df['weightsGenie'].iloc[ievt] == np.inf))\n",
    "    #    df['weightsGenie'].iloc[ievt][ reweightCondition ] = 1."
   ]
  },
  {
   "cell_type": "code",
   "execution_count": 12,
   "metadata": {},
   "outputs": [],
   "source": [
    "df_v = [mc,dirt,data,ext]\n",
    "#removeGenieTune = False\n",
    "for i,df in enumerate(df_v):\n",
    "    df[ 'noW' ] = 1"
   ]
  },
  {
   "cell_type": "markdown",
   "metadata": {},
   "source": [
    "# Adding variables"
   ]
  },
  {
   "cell_type": "code",
   "execution_count": 13,
   "metadata": {},
   "outputs": [],
   "source": [
    "df_v = [mc,dirt,data,ext]\n",
    "for i,df in enumerate(df_v):  \n",
    "    df[\"bnbdata\"] = np.zeros_like(df[\"isVtxInFiducial\"])\n",
    "    df[\"extdata\"] = np.zeros_like(df[\"isVtxInFiducial\"])\n",
    "\n",
    "data[\"bnbdata\"] = np.ones_like(data[\"isVtxInFiducial\"])\n",
    "ext[\"extdata\"] = np.ones_like(ext[\"isVtxInFiducial\"])"
   ]
  },
  {
   "cell_type": "code",
   "execution_count": 14,
   "metadata": {},
   "outputs": [
    {
     "name": "stderr",
     "output_type": "stream",
     "text": [
      "/tmp/ipykernel_5006/3373323908.py:8: RuntimeWarning: overflow encountered in multiply\n",
      "  p  = np.sqrt((energy+mass)*(energy+mass) - mass*mass)\n"
     ]
    }
   ],
   "source": [
    "def energyToPxyz(energy, theta, phi, mask, mass = 0.93827208816):\n",
    "    if all(~mask):\n",
    "        return (0.,0.,0.)\n",
    "    energy = energy.copy()[mask]\n",
    "    theta  = theta.copy()[mask]\n",
    "    phi    = phi.copy()[mask]\n",
    "    \n",
    "    p  = np.sqrt((energy+mass)*(energy+mass) - mass*mass)\n",
    "    pz = p*np.cos(theta)\n",
    "    px = p*np.sin(theta)*np.cos(phi)\n",
    "    py = p*np.sin(theta)*np.sin(phi)\n",
    "    return( px.sum(), py.sum(), pz.sum())\n",
    "\n",
    "\n",
    "\n",
    "for i,df in enumerate(df_v):\n",
    "    up = uproot_v[i]\n",
    "    trk_theta_proton_v  = up.array('trk_theta_v')\n",
    "    trk_phi_proton_v    = up.array('trk_phi_v')\n",
    "    trk_energy_proton_v = up.array('trk_energy_proton_v')\n",
    "    ############ muon part\n",
    "    mu_px_v            = up.array('shr_px')\n",
    "    mu_py_v            = up.array('shr_py')\n",
    "    mu_pz_v            = up.array('shr_pz')\n",
    "    pt_v                = up.array('pt')\n",
    "    trk_score_v         = up.array('trk_score_v')    \n",
    "    trk_llr_pid_v       = up.array('trk_llr_pid_score_v')\n",
    "    \n",
    "    \n",
    "    #shr_mask = (trk_score_v<0.5)\n",
    "    trk_mask      = (trk_score_v>0.5)\n",
    "    proton_mask_v = (trk_score_v>0.5)&(trk_llr_pid_v < 0.)\n",
    "    sillyCount = 0\n",
    "    listPx,listPy,listPz = [],[],[]\n",
    "    \n",
    "    for mask, theta_t, phi_t, energy_t,proton_mask_v_t,sx,sy,sz,pttt  in zip(proton_mask_v, trk_theta_proton_v,trk_phi_proton_v, trk_energy_proton_v,proton_mask_v, mu_px_v,mu_py_v,mu_pz_v,pt_v):\n",
    "        tempMom = energyToPxyz(energy_t,theta_t,phi_t,proton_mask_v_t) \n",
    "        nu_reco_px = tempMom[0] + sx \n",
    "        nu_reco_py = tempMom[1] + sy  \n",
    "        nu_reco_pz = tempMom[2] + sz  \n",
    "        listPx.append(nu_reco_px)\n",
    "        listPy.append(nu_reco_py)\n",
    "        listPz.append(nu_reco_pz)"
   ]
  },
  {
   "cell_type": "markdown",
   "metadata": {},
   "source": [
    "# Event Categories"
   ]
  },
  {
   "cell_type": "code",
   "execution_count": 15,
   "metadata": {},
   "outputs": [],
   "source": [
    "data[\"is_signal\"] = data[\"category\"] == 11\n",
    "mc[\"is_signal\"]   = mc[\"category\"] == 11\n",
    "dirt[\"is_signal\"] = dirt[\"category\"] == 11\n",
    "ext[\"is_signal\"]  = ext[\"category\"] == 11\n",
    "#nue[\"is_signal\"]  = nue[\"category\"] == 11"
   ]
  },
  {
   "cell_type": "code",
   "execution_count": 16,
   "metadata": {},
   "outputs": [],
   "source": [
    "mc   = mc.query('nu_e > 0.')\n",
    "dirt = dirt.query('nu_e > 0.')\n",
    "\n",
    "# Calculate the true neutrino direction off of the NuMI beam, needed for plotting. Seem to be from MC\n",
    "dfmc_v = [mc,dirt]\n",
    "for i,df in enumerate(dfmc_v):\n",
    "    df['numi_nu_true_Angle'] = df.apply( lambda x: GetNuMIAngle(x['true_nu_px'],x['true_nu_py'],x['true_nu_pz']) , axis=1)\n",
    "    df['weightsNuMIGeo']     = df.apply( lambda x: numiBeamlineGeoWeights.calculateGeoWeight(x['nu_pdg'],x['nu_e'],x['numi_nu_true_Angle']) , axis=1)\n",
    "    "
   ]
  },
  {
   "cell_type": "markdown",
   "metadata": {},
   "source": [
    "# Selection"
   ]
  },
  {
   "cell_type": "markdown",
   "metadata": {},
   "source": [
    "# Plotting part"
   ]
  },
  {
   "cell_type": "code",
   "execution_count": 17,
   "metadata": {},
   "outputs": [
    {
     "data": {
      "text/plain": [
       "<module 'plotter' from '/home/alex/NuMI/PELEE/plotter.py'>"
      ]
     },
     "execution_count": 17,
     "metadata": {},
     "output_type": "execute_result"
    }
   ],
   "source": [
    "import plotter\n",
    "import importlib\n",
    "importlib.reload(plotter)"
   ]
  },
  {
   "cell_type": "code",
   "execution_count": 18,
   "metadata": {},
   "outputs": [
    {
     "name": "stdout",
     "output_type": "stream",
     "text": [
      "{'mc': 0.08559738414394057, 'nue': 0.08559738414394057, 'ext': 0.5612087579382191, 'dirt': 0.08442202570650682}\n"
     ]
    }
   ],
   "source": [
    "import plotter\n",
    "import importlib\n",
    "importlib.reload(plotter)\n",
    "\n",
    "#nue = mc.query(\"(abs(nu_pdg) == 12 and ccnc == 0)\") \n",
    "#nueMC = mc.query(\"(abs(nu_pdg) == 14 & ccnc == 0)\")\n",
    "##CHANGE\n",
    "nue   = mc.query(\"(abs(nu_pdg) == 12 & ccnc == 0 and true_nu_vtx_z < 1036.8 and true_nu_vtx_z > 0 and true_nu_vtx_y < 116.5 and true_nu_vtx_y > -116.5 and true_nu_vtx_x < \\\n",
    " 254.8 and true_nu_vtx_x > -1.55)\")\n",
    "\n",
    "\n",
    "\n",
    "samples = {\n",
    "    \"mc\"  : mc,\n",
    "    \"nue\" : nue,\n",
    "    \"data\": data,\n",
    "    \"dirt\": dirt,\n",
    "    \"ext\" : ext\n",
    "}\n",
    "\n",
    "scaling   = 1\n",
    "pot       =  2e+20             \n",
    "mcratio   = pot/2.33652e+21\n",
    "nueratio  = pot/2.37838e+22    \n",
    "dirtratio = pot/1.42143e+21\n",
    "extratio  = 5268051.0/9199232.74\n",
    "\n",
    "SPLIT = 1.0\n",
    "scaling = 1\n",
    "scalingEXT = 0.98\n",
    "scalingDRT = 0.60 #0.35\n",
    "\n",
    "weights = { \"mc\"  : mcratio  * SPLIT * scaling,\n",
    "            \"nue\"  : mcratio  * SPLIT * scaling, #needed as the plotter needs nue but we're not using\n",
    "            #\"nue\" : nueratio  * SPLIT * scaling,\n",
    "            \"ext\" : extratio * SPLIT * scalingEXT,    \n",
    "            \"dirt\": dirtratio* SPLIT * scalingDRT,   \n",
    "}\n",
    "\n",
    "my_plotter = plotter.Plotter(samples, weights, pot=pot)\n",
    "print(weights)"
   ]
  },
  {
   "cell_type": "code",
   "execution_count": 20,
   "metadata": {},
   "outputs": [],
   "source": [
    "SEL_QUERY = \"nslice == 1 and ( (_opfilter_pe_beam > 0 and _opfilter_pe_veto < 20) or bnbdata == 1 or extdata == 1) and reco_nu_vtx_sce_x > -1.55 and reco_nu_vtx_sce_x < 254.8  and reco_nu_vtx_sce_y > -116.5 and reco_nu_vtx_sce_y < 116.5  and reco_nu_vtx_sce_z > 0 and reco_nu_vtx_sce_z < 1036.8  and n_muons_tot > 0 and n_protons_tot > 0 and n_pions_tot == 0\""
   ]
  },
  {
   "cell_type": "code",
   "execution_count": 33,
   "metadata": {},
   "outputs": [
    {
     "name": "stdout",
     "output_type": "stream",
     "text": [
      "nslice == 1 and ( (_opfilter_pe_beam > 0 and _opfilter_pe_veto < 20) or bnbdata == 1 or extdata == 1) and reco_nu_vtx_sce_x > -1.55 and reco_nu_vtx_sce_x < 254.8  and reco_nu_vtx_sce_y > -116.5 and reco_nu_vtx_sce_y < 116.5  and reco_nu_vtx_sce_z > 0 and reco_nu_vtx_sce_z < 1036.8  and n_muons_tot > 0 and n_protons_tot > 0 and n_pions_tot == 0& reco_e <= 5 & reco_e >= 0 \n",
      " ~(abs(nu_pdg) == 12 & ccnc == 0) \n",
      " None \n",
      " False\n",
      "order w sum  23.489826961576558  c  31\n",
      "order w sum  33.350448876927  c  3\n",
      "order w sum  41.83870850741041  c  5\n",
      "order w sum  137.5040287897792  c  21\n",
      "order w sum  242.8593024224917  c  2\n",
      "order w sum  9.652278435880657  c  1\n",
      "order w sum  0  c  12\n",
      "order w sum  0.09127470793649041  c  10\n",
      "order w sum  5.0426719422558905  c  11\n",
      "total  544.8985376166357\n",
      "\n",
      "SUMS\n",
      "[23.489826961576558, 56.84027583850359, 98.67898434591392, 236.18301313569322, 479.04231555818455, 488.69459399406514, 488.69459399406514, 488.78586870200166, 493.82854064425754]\n",
      "[33.35044887692703, 41.83870850741033, 137.50402878977928, 242.85930242249134, 9.65227843588059, 0.0, 0.09127470793652037, 5.042671942255879]\n",
      "\n",
      "Nue Wanted List:\n",
      "[26.788380890994997, 114.10269133365307, 68.23164601590094, 24.912141184586886, 6.281342318334907, 1.6795381891658678, 0.5917980415706552, 0.23129068480457704, 0.04047376347941167, 0.0]\n",
      "\n",
      "labels  ['$\\\\nu$ NC $\\\\pi^{0}$: 23.5', '$\\\\nu$ NC: 33.4', 'Out. fid. vol.: 41.8', '$\\\\nu_{\\\\mu}$ CC $\\\\pi^{0}$: 137.5', '$\\\\nu_{\\\\mu}$ CC: 242.9', '$\\\\nu_e$ Other: 9.7', '', '$\\\\nu_e$ CC0$\\\\pi$0p: 0.1', '$\\\\nu_e$ CC0$\\\\pi$Np: 5.0']\n",
      "n_ext  [13.46901019 29.18285541  5.61208758  1.12241752  0.          0.56120876\n",
      "  1.12241752  0.          0.          0.        ]\n",
      "n_tot  [ 67.21348064 232.08821385 146.43847134  64.72922688  19.45424271\n",
      "   7.9203109    4.25879104   1.7222987    0.65201639   0.42148518]\n",
      "total array  [0.7397722  1.81738198 0.74835473 ... 0.56603026 0.71147388 1.16845429]\n",
      "IN COVMATRIX_XS_PPFX\n",
      "Universes 500\n",
      "mc\n"
     ]
    },
    {
     "name": "stderr",
     "output_type": "stream",
     "text": [
      "/home/alex/miniconda3/envs/vintageXgboostVintageUprootEnv/lib/python3.8/site-packages/numpy/core/fromnumeric.py:3245: VisibleDeprecationWarning: Creating an ndarray from ragged nested sequences (which is a list-or-tuple of lists-or-tuples-or ndarrays with different lengths or shapes) is deprecated. If you meant to do this, you must specify 'dtype=object' when creating the ndarray.\n",
      "  return asarray(a).size\n",
      "/home/alex/miniconda3/envs/vintageXgboostVintageUprootEnv/lib/python3.8/site-packages/matplotlib/cbook/__init__.py:1449: VisibleDeprecationWarning: Creating an ndarray from ragged nested sequences (which is a list-or-tuple of lists-or-tuples-or ndarrays with different lengths or shapes) is deprecated. If you meant to do this, you must specify 'dtype=object' when creating the ndarray.\n",
      "  X = np.atleast_1d(X.T if isinstance(X, np.ndarray) else np.asarray(X))\n"
     ]
    },
    {
     "name": "stdout",
     "output_type": "stream",
     "text": [
      "nue\n",
      "data\n",
      "dirt\n",
      "ext\n",
      "Universes 500\n",
      "mc\n",
      "nue\n",
      "data\n",
      "dirt\n",
      "ext\n",
      "Universes 500\n",
      "mc\n",
      "nue\n",
      "data\n",
      "dirt\n",
      "ext\n",
      "Add Drawing Geo Sys\n",
      "Number of variations Universes 10\n",
      "draw Sys\n",
      "n_data  [ 44 213 140  55  21  12   2   1   4   0]\n"
     ]
    },
    {
     "name": "stderr",
     "output_type": "stream",
     "text": [
      "/home/alex/NuMI/PELEE/plotter.py:458: RuntimeWarning: divide by zero encountered in true_divide\n",
      "  ERR_STAT = 3. / ( 1./data + 2./mc )\n",
      "/home/alex/NuMI/PELEE/plotter.py:266: RuntimeWarning: divide by zero encountered in true_divide\n",
      "  return (data-mc)**2 / data\n"
     ]
    },
    {
     "data": {
      "image/png": "[encoded data removed]",
      "text/plain": [
       "<Figure size 576x504 with 2 Axes>"
      ]
     },
     "metadata": {
      "needs_background": "light"
     },
     "output_type": "display_data"
    }
   ],
   "source": [
    "#Now check on a variable\n",
    "import batch_plotter_alex\n",
    "import importlib\n",
    "importlib.reload(batch_plotter_alex)\n",
    "scaling = 1\n",
    "\n",
    "import matplotlib.pyplot as plt\n",
    "import matplotlib\n",
    "\n",
    "#can this be done with nue_e too? For efficiencies?\n",
    "VARIABLE, BINS, RANGE, XTIT = 'reco_e',10,(0.0, 5.0),\"Reconstructed Energy [GeV]\"\n",
    "\n",
    "fig, ax1, ax2 = my_plotter.plot_variable(\n",
    "    VARIABLE,   \n",
    "    query= SEL_QUERY ,\n",
    "    #kind=\"interaction\",\n",
    "    kind=\"event_category\",\n",
    "    draw_sys  = True, \n",
    "    draw_geoSys = True, \n",
    "    draw_data = True,\n",
    "    genieweight = \"weightSplineTimesTuneTimesPPFX\",  \n",
    "    stacksort=3,\n",
    "    title=XTIT,\n",
    "    bins=BINS,\n",
    "    range=RANGE\n",
    ")[0:3]\n",
    "\n",
    "ax1.set_title('NuMI Run 1, Neutrino Mode, νe - Reconstructed Energies',loc='left')\n",
    "#ax1.set_yscale(\"log\")\n",
    "fig.tight_layout()"
   ]
  },
  {
   "cell_type": "markdown",
   "metadata": {},
   "source": [
    "## Purity and Efficiency\n",
    "\n",
    "Selection Efficiency = no. reconstructed neutrinos classified as numu CC that pass selection / total number of these simulated in the fiducial volume.\n",
    "\n",
    "Selection Purity = no. reconstructed neutrinos classified as numu CC that pass selection / total number of selected neutrinos in any classification."
   ]
  },
  {
   "cell_type": "markdown",
   "metadata": {},
   "source": [
    "### Smearing Matrix Work"
   ]
  },
  {
   "cell_type": "code",
   "execution_count": 39,
   "metadata": {},
   "outputs": [],
   "source": [
    "# plot the smearing matrix \n",
    "def plot_smearing(selected, signal, true, reco, bins, norm=False): \n",
    "    fig = plt.figure(figsize=(10, 6))\n",
    "    \n",
    "    smear = plt.hist2d(selected.query(signal)[true],selected.query(signal)[reco],\n",
    "                   bins, cmin=0.000000001, cmap='OrRd')\n",
    "    \n",
    "    zero_copy_smear = np.copy(smear[0].T)\n",
    "    \n",
    "    for i in range(len(bins)-1): # reco bins i (y axis) rows\n",
    "        for j in range(len(bins)-1): # true bins j (x axis) cols\n",
    "            if np.isnan(zero_copy_smear[i,j]):\n",
    "                zero_copy_smear[i,j]= 0\n",
    "\n",
    "    for i in range(len(bins)-1): # reco bins i (y axis) rows\n",
    "        for j in range(len(bins)-1): # true bins j (x axis) cols\n",
    "            if smear[0].T[i,j] > 0: \n",
    "                if smear[0].T[i,j]>80: \n",
    "                    col='white'\n",
    "                else: \n",
    "                    col='black'\n",
    "                    \n",
    "                binx_centers = smear[1][j]+(smear[1][j+1]-smear[1][j])/2\n",
    "                biny_centers = smear[2][i]+(smear[2][i+1]-smear[2][i])/2\n",
    "                        \n",
    "                plt.text(binx_centers, biny_centers, round(smear[0].T[i,j], 1), \n",
    "                    color=col, ha=\"center\", va=\"center\", fontsize=12)\n",
    "\n",
    "    cbar = plt.colorbar()\n",
    "    cbar.set_label('Selected Signal Events', fontsize=15)\n",
    "\n",
    "    if norm: \n",
    "        plt.close()\n",
    "        \n",
    "        norm_array = smear[0].T\n",
    "    \n",
    "        # for each truth bin (column): \n",
    "        for j in range(len(bins)-1): \n",
    "        \n",
    "            reco_events_in_column = [ norm_array[i][j] for i in range(len(bins)-1) ]\n",
    "            tot_reco_events = np.nansum(reco_events_in_column)\n",
    "        \n",
    "            # replace with normalized value \n",
    "            for i in range(len(bins)-1): \n",
    "                norm_array[i][j] =  norm_array[i][j] / tot_reco_events\n",
    "    \n",
    "        # now plot\n",
    "        fig = plt.figure(figsize=(10, 6))\n",
    "        plt.pcolor(bins, bins, norm_array, cmap='OrRd', vmax=1)\n",
    "        \n",
    "        zero_copy_smear_norm = np.copy(norm_array)\n",
    "\n",
    "        for i in range(len(bins)-1): # reco bins i (y axis) rows\n",
    "            for j in range(len(bins)-1): # true bins j (x axis) cols\n",
    "                if np.isnan(zero_copy_smear_norm[i,j]):\n",
    "                    zero_copy_smear_norm[i,j]= 0\n",
    "\n",
    "        print(zero_copy_smear_norm)\n",
    "    \n",
    "        # Loop over data dimensions and create text annotations.\n",
    "        for i in range(len(bins)-1): # reco bins (rows)\n",
    "            for j in range(len(bins)-1): # truth bins (cols)\n",
    "                if norm_array[i][j]>0: \n",
    "                \n",
    "                    if norm_array[i][j]>0.7: \n",
    "                        col = 'white'\n",
    "                    else: \n",
    "                        col = 'black'\n",
    "                    \n",
    "                    binx_centers = smear[1][j]+(smear[1][j+1]-smear[1][j])/2\n",
    "                    biny_centers = smear[2][i]+(smear[2][i+1]-smear[2][i])/2\n",
    "                \n",
    "                    plt.text(binx_centers, biny_centers, round(norm_array[i][j], 2), \n",
    "                         ha=\"center\", va=\"center\", color=col, fontsize=12)\n",
    "      \n",
    "        cbar = plt.colorbar()\n",
    "        cbar.set_label('Fraction of Reco Events in True Bin', fontsize=15)\n",
    "        \n",
    "        #np.savetxt(\"numu_full_500_catsel_nopions_recoE_usingSelection_smearcept.csv\", \n",
    "        #   zero_copy_smear_norm,\n",
    "        #   delimiter =\", \", \n",
    "        #   fmt ='% s')\n",
    "\n",
    "    plt.xlabel('True ν Energy [GeV]', fontsize=15)\n",
    "    plt.ylabel('Reco ν Energy [GeV]', fontsize=15)\n",
    "    plt.text(0.1, 4.8, r'MicroBooNE In Progress', fontweight='bold')\n",
    "    \n",
    "    plt.show()"
   ]
  },
  {
   "cell_type": "code",
   "execution_count": 40,
   "metadata": {
    "scrolled": false
   },
   "outputs": [
    {
     "data": {
      "image/png": "[encoded data removed]",
      "text/plain": [
       "<Figure size 720x432 with 2 Axes>"
      ]
     },
     "metadata": {
      "needs_background": "light"
     },
     "output_type": "display_data"
    }
   ],
   "source": [
    "# true nu energy \n",
    "true_var = 'nu_e'\n",
    "\n",
    "# reconstructed nu energy \n",
    "reco_var = 'reco_e'\n",
    "\n",
    "bins = np.arange(0, 5.5, 0.5)\n",
    "\n",
    "#fiduc_q = \"true_nu_vtx_z < 1036.8 and true_nu_vtx_z > 0 and true_nu_vtx_y < 116.5 and true_nu_vtx_y > -116.5 and true_nu_vtx_x < \\\n",
    " #254.8 and true_nu_vtx_x > -1.55 and ((nu_pdg) == 12 and ccnc == 0) and nproton > 0\"\n",
    "\n",
    "fiduc_q  = \"(nu_pdg == 14 and ccnc == 0 and true_nu_vtx_z < 1036.8 and true_nu_vtx_z > 0 and true_nu_vtx_y < 116.5 and true_nu_vtx_y > -116.5 and true_nu_vtx_x < \\\n",
    " 254.8 and true_nu_vtx_x > -1.55 and nproton > 0 and npion == 0 and nu_e > 0.04 and nu_e < 5)\"\n",
    "fiduc_q  += \" and category == 2\"\n",
    "\n",
    "\n",
    "selected = mc.query(SEL_QUERY)\n",
    "selected_fid = selected.query(fiduc_q)\n",
    "\n",
    "# relationship between true & reco values\n",
    "plot_smearing(selected_fid, fiduc_q, true_var, reco_var, bins)"
   ]
  },
  {
   "cell_type": "code",
   "execution_count": 41,
   "metadata": {},
   "outputs": [
    {
     "name": "stdout",
     "output_type": "stream",
     "text": [
      "[[0.6   0.089 0.014 0.029 0.    0.    0.    0.    0.    0.   ]\n",
      " [0.396 0.812 0.334 0.171 0.143 0.4   0.111 0.    0.5   0.   ]\n",
      " [0.004 0.087 0.556 0.343 0.238 0.    0.111 0.    0.    0.   ]\n",
      " [0.    0.008 0.089 0.386 0.357 0.4   0.667 0.    0.    0.   ]\n",
      " [0.    0.003 0.003 0.057 0.262 0.2   0.111 0.    0.    0.   ]\n",
      " [0.    0.    0.003 0.014 0.    0.    0.    0.    0.    1.   ]\n",
      " [0.    0.    0.    0.    0.    0.    0.    0.    0.5   0.   ]\n",
      " [0.    0.    0.    0.    0.    0.    0.    0.    0.    0.   ]\n",
      " [0.    0.    0.    0.    0.    0.    0.    0.    0.    0.   ]\n",
      " [0.    0.    0.    0.    0.    0.    0.    0.    0.    0.   ]]\n"
     ]
    },
    {
     "data": {
      "image/png": "[encoded data removed]",
      "text/plain": [
       "<Figure size 720x432 with 2 Axes>"
      ]
     },
     "metadata": {
      "needs_background": "light"
     },
     "output_type": "display_data"
    }
   ],
   "source": [
    "# relationship between true & reco values\n",
    "plot_smearing(selected_fid, fiduc_q, true_var, reco_var, bins, norm=True)"
   ]
  },
  {
   "cell_type": "code",
   "execution_count": 42,
   "metadata": {},
   "outputs": [
    {
     "name": "stdout",
     "output_type": "stream",
     "text": [
      "[0.4750760510587767, 0.3366111763807367, 0.14775031337657218, 0.05974603037171938, 0.03389391775518658, 0.01910834236787515, 0.008119696272598143, 0.0071000384159739995, 0.010589988569390038, 0.0]\n",
      "\n",
      "[[0.6, 0.08881578947368421, 0.013651877133105802, 0.02857142857142857, 0.0, 0.0, 0.0, 0.0, 0.0, 0.0], [0.39574468085106385, 0.8125, 0.33447098976109213, 0.17142857142857143, 0.14285714285714285, 0.4, 0.1111111111111111, 0.0, 0.5, 0.0], [0.00425531914893617, 0.08717105263157894, 0.5563139931740614, 0.34285714285714286, 0.23809523809523808, 0.0, 0.1111111111111111, 0.0, 0.0, 0.0], [0.0, 0.008223684210526315, 0.08873720136518772, 0.38571428571428573, 0.35714285714285715, 0.4, 0.6666666666666666, 0.0, 0.0, 0.0], [0.0, 0.003289473684210526, 0.0034129692832764505, 0.05714285714285714, 0.2619047619047619, 0.2, 0.1111111111111111, 0.0, 0.0, 0.0], [0.0, 0.0, 0.0034129692832764505, 0.014285714285714285, 0.0, 0.0, 0.0, 0.0, 0.0, 1.0], [0.0, 0.0, 0.0, 0.0, 0.0, 0.0, 0.0, 0.0, 0.5, 0.0], [0.0, 0.0, 0.0, 0.0, 0.0, 0.0, 0.0, 0.0, 0.0, 0.0], [0.0, 0.0, 0.0, 0.0, 0.0, 0.0, 0.0, 0.0, 0.0, 0.0], [0.0, 0.0, 0.0, 0.0, 0.0, 0.0, 0.0, 0.0, 0.0, 0.0]]\n",
      "\n",
      "[[0.285045630635266, 0.02989638737592069, 0.002017069124594842, 0.0017070294391919824, 0.0, 0.0, 0.0, 0.0, 0.0, 0.0], [0.1880088202062393, 0.2734965808093486, 0.04941819355257363, 0.010242176635151895, 0.00484198825074094, 0.00764333694715006, 0.0009021884747331269, 0.0, 0.005294994284695019, 0.0], [0.0020216002172713902, 0.0293427505726629, 0.0821955668272398, 0.02048435327030379, 0.008069980417901567, 0.0, 0.0009021884747331269, 0.0, 0.0, 0.0], [0.0, 0.0027681840162889527, 0.013110949309866475, 0.023044897429091764, 0.012104970626852351, 0.00764333694715006, 0.005413130848398761, 0.0, 0.0, 0.0], [0.0, 0.001107273606515581, 0.0005042672811487105, 0.0034140588783839647, 0.008876978459691725, 0.00382166847357503, 0.0009021884747331269, 0.0, 0.0, 0.0], [0.0, 0.0, 0.0005042672811487105, 0.0008535147195959912, 0.0, 0.0, 0.0, 0.0, 0.0, 0.0], [0.0, 0.0, 0.0, 0.0, 0.0, 0.0, 0.0, 0.0, 0.005294994284695019, 0.0], [0.0, 0.0, 0.0, 0.0, 0.0, 0.0, 0.0, 0.0, 0.0, 0.0], [0.0, 0.0, 0.0, 0.0, 0.0, 0.0, 0.0, 0.0, 0.0, 0.0], [0.0, 0.0, 0.0, 0.0, 0.0, 0.0, 0.0, 0.0, 0.0, 0.0]]\n",
      "\n",
      "[1031.3943547951592, 2134.5704887130405, 1723.1647777306368, 1122.1497576913541, 468.88030313270974, 189.42168532644592, 114.19014504632746, 67.59715246036029, 40.866558659909934, 24.237634697878494]\n",
      "\n",
      "[3.632e+02 8.784e+02 2.332e+02 6.210e+01 1.205e+01 1.827e+00 2.164e-01\n",
      " 0.000e+00 0.000e+00 0.000e+00]\n",
      "\n",
      "363.2016856493239\n",
      "878.3954484223557\n",
      "233.22913008026975\n",
      "62.102758287660215\n",
      "12.052742790854268\n",
      "1.8267069532180957\n",
      "0.21638819453937685\n",
      "0.0\n",
      "0.0\n",
      "0.0\n"
     ]
    }
   ],
   "source": [
    "with open('batch_eff_numu_fig_full_500_catsel_nopions_recoE_matrix.csv') as file:\n",
    "    content = file.readlines()\n",
    "effs = content[0:]\n",
    "    \n",
    "for i in range(10):\n",
    "    effs[i]=effs[i].rstrip().rstrip(',')\n",
    "    effs[i] = float(effs[i])\n",
    "    \n",
    "print(effs)\n",
    "print(\"\")\n",
    "#----------------------------------------------------------------------------------\n",
    "\n",
    "with open('numu_full_500_catsel_nopions_recoE_usingSelection_smearcept.csv') as file:\n",
    "    content = file.readlines()\n",
    "smear = content[0:]\n",
    "\n",
    "for i in range(10):\n",
    "    smear[i]=smear[i].rstrip().rstrip(',')\n",
    "    smear[i] = [float(idx) for idx in smear[i].split(', ')]\n",
    "    \n",
    "print((smear))\n",
    "print(\"\")\n",
    "\n",
    "#------------------------------------------------------------------\n",
    "\n",
    "#print(np.dot(effs, data_signal))\n",
    "for i in range(10):\n",
    "    smear[i] = [a*b for a,b in zip(smear[i], effs)]\n",
    "    \n",
    "print(smear)\n",
    "print(\"\")\n",
    "\n",
    "np.savetxt(\"numu_full_500_catsel_nopions_recoE_usingSelection_smearcept.csv\", \n",
    "   smear,\n",
    "   delimiter =\", \", \n",
    "   fmt ='% s')\n",
    "\n",
    "#--------------------------------------------------------\n",
    "\n",
    "#Now test by multiplying with the prior_true_signal\n",
    "\n",
    "with open('numu_full_500_catsel_nopions_recoE_usingSelection_prior_true_signal.csv') as file:\n",
    "    content = file.readlines()\n",
    "prior_true = content[0:]\n",
    "    \n",
    "for i in range(10):\n",
    "    prior_true[i]=prior_true[i].rstrip().rstrip(',')\n",
    "    prior_true[i] = float(prior_true[i])\n",
    "    \n",
    "print(prior_true)\n",
    "print(\"\")\n",
    "\n",
    "made_data_sig = np.dot(smear, prior_true)\n",
    "print(made_data_sig)\n",
    "print(\"\")\n",
    "\n",
    "for i in made_data_sig:\n",
    "    print(i)"
   ]
  },
  {
   "cell_type": "code",
   "execution_count": 43,
   "metadata": {},
   "outputs": [],
   "source": [
    "##------------------------------------------------------------------"
   ]
  },
  {
   "cell_type": "code",
   "execution_count": null,
   "metadata": {},
   "outputs": [],
   "source": []
  }
 ],
 "metadata": {
  "accelerator": "GPU",
  "colab": {
   "name": "Plotter.ipynb",
   "provenance": [],
   "version": "0.3.2"
  },
  "kernelspec": {
   "display_name": "Python 3 (ipykernel)",
   "language": "python",
   "name": "python3"
  },
  "language_info": {
   "codemirror_mode": {
    "name": "ipython",
    "version": 3
   },
   "file_extension": ".py",
   "mimetype": "text/x-python",
   "name": "python",
   "nbconvert_exporter": "python",
   "pygments_lexer": "ipython3",
   "version": "3.8.12"
  }
 },
 "nbformat": 4,
 "nbformat_minor": 2
}
