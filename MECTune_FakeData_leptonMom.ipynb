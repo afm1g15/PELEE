{
 "cells": [
  {
   "cell_type": "code",
   "execution_count": 1,
   "id": "2879806d",
   "metadata": {},
   "outputs": [
    {
     "name": "stdout",
     "output_type": "stream",
     "text": [
      "Welcome to JupyROOT 6.24/02\n"
     ]
    }
   ],
   "source": [
    "import sys\n",
    "\n",
    "#sys.path.insert(0, 'backend_functions')\n",
    "\n",
    "#import selection_functions as sf\n",
    "\n",
    "import importlib\n",
    "\n",
    "import uproot\n",
    "import matplotlib.pylab as pylab\n",
    "import numpy as np\n",
    "import math\n",
    "from sklearn.model_selection import train_test_split\n",
    "import pickle\n",
    "import xgboost as xgb\n",
    "\n",
    "import awkward\n",
    "import matplotlib.pyplot as plt\n",
    "import pandas as pd\n",
    "\n",
    "import ROOT\n",
    "from ROOT import TH1F, TH2F, TDirectory, TH1D\n",
    "\n",
    "from matplotlib import gridspec\n"
   ]
  },
  {
   "cell_type": "code",
   "execution_count": 2,
   "id": "cdd417ad",
   "metadata": {},
   "outputs": [],
   "source": [
    "ending = \"Jan19b_MECTune\""
   ]
  },
  {
   "cell_type": "code",
   "execution_count": 3,
   "id": "8b14eea6",
   "metadata": {},
   "outputs": [],
   "source": [
    "##Regular tune prior true and smearcept to be used\n",
    "\n",
    "\n",
    "#Recall for comparison it will be the MEC tune for prior true"
   ]
  },
  {
   "cell_type": "code",
   "execution_count": 4,
   "id": "c7c3f6cb",
   "metadata": {},
   "outputs": [
    {
     "name": "stdout",
     "output_type": "stream",
     "text": [
      "[55.61470809 91.97514097 61.91655092 34.68615697 18.0755804   8.2933219\n",
      "  5.0724485   7.88156029]\n",
      "\n",
      "[ 608.58266421 1351.07711334  515.48099251  196.57628441   72.36974305\n",
      "   35.71742172    8.59934254    2.7479548 ]\n"
     ]
    }
   ],
   "source": [
    "####Load in MECTune full event counts\n",
    "\n",
    "nue_data_signal = pd.read_csv(\"nue_full_500_catsel_nopions_leptonMom_usingSelection_full_evt_count_MCONLY_recoCut_comb_\"+ending+\".csv\", header=None)\n",
    "\n",
    "nue_data_signal = nue_data_signal.values[:, 0]\n",
    "\n",
    "print(nue_data_signal)\n",
    "print(\"\")\n",
    "\n",
    "######\n",
    "\n",
    "numu_data_signal = pd.read_csv(\"numu_full_500_catsel_nopions_leptonMom_usingSelection_full_evt_count_MCONLY_recoCut_comb_\"+ending+\".csv\", header=None)\n",
    "\n",
    "numu_data_signal = numu_data_signal.values[:, 0]\n",
    "\n",
    "print(numu_data_signal)"
   ]
  },
  {
   "cell_type": "code",
   "execution_count": 5,
   "id": "a999b771",
   "metadata": {},
   "outputs": [
    {
     "name": "stdout",
     "output_type": "stream",
     "text": [
      "[28.18755859 21.37330874 13.29152786  7.22706492  5.09821093  2.51242116\n",
      "  1.18831144  2.77856114]\n",
      "\n",
      "[225.36152728 387.72503358 114.33563322  43.12465401  13.03469238\n",
      "   6.71706711   1.74065891   1.99249231]\n",
      "\n"
     ]
    }
   ],
   "source": [
    "###Load in regular tune bkg event counts\n",
    "#Include ext in bkg count here as the full event counts do\n",
    "\n",
    "ending = \"Jan19b\" #need this ending as bkg is from regular tune\n",
    "\n",
    "\n",
    "\n",
    "nue_bkg_inc_ext = pd.read_csv(\"nue_nopions_leptonMom_usingSelection_comb_cv_nue_bkg_incExt_\"+ending+\".csv\", header=None)\n",
    "\n",
    "nue_bkg_inc_ext = nue_bkg_inc_ext.values[:, 0]\n",
    "\n",
    "print(nue_bkg_inc_ext)\n",
    "print(\"\")\n",
    "\n",
    "#######################\n",
    "\n",
    "numu_bkg_inc_ext = pd.read_csv(\"numu_nopions_leptonMom_usingSelection_comb_cv_numu_bkg_incExt_\"+ending+\".csv\", header=None)\n",
    "\n",
    "numu_bkg_inc_ext = numu_bkg_inc_ext.values[:, 0]\n",
    "\n",
    "print(numu_bkg_inc_ext)\n",
    "print(\"\")"
   ]
  },
  {
   "cell_type": "code",
   "execution_count": 6,
   "id": "0fe6cc8a",
   "metadata": {},
   "outputs": [
    {
     "name": "stdout",
     "output_type": "stream",
     "text": [
      "[27.4271495  70.60183224 48.62502305 27.45909205 12.97736947  5.78090075\n",
      "  3.88413705  5.10299916]\n",
      "\n",
      "[3.83221137e+02 9.63352080e+02 4.01145359e+02 1.53451630e+02\n",
      " 5.93350507e+01 2.90003546e+01 6.85868363e+00 7.55462491e-01]\n"
     ]
    }
   ],
   "source": [
    "####So then can calculate the data signal input to the unfolding\n",
    "\n",
    "nue_datasig_bkg_subtracted = nue_data_signal - nue_bkg_inc_ext\n",
    "print(nue_datasig_bkg_subtracted)\n",
    "print(\"\")\n",
    "\n",
    "numu_datasig_bkg_subtracted = numu_data_signal - numu_bkg_inc_ext\n",
    "print(numu_datasig_bkg_subtracted)"
   ]
  },
  {
   "cell_type": "code",
   "execution_count": 7,
   "id": "1d47fce7",
   "metadata": {},
   "outputs": [
    {
     "name": "stdout",
     "output_type": "stream",
     "text": [
      "[2.74271495e+01 7.06018322e+01 4.86250231e+01 2.74590920e+01\n",
      " 1.29773695e+01 5.78090075e+00 3.88413705e+00 5.10299916e+00\n",
      " 3.83221137e+02 9.63352080e+02 4.01145359e+02 1.53451630e+02\n",
      " 5.93350507e+01 2.90003546e+01 6.85868363e+00 7.55462491e-01]\n",
      "16\n"
     ]
    }
   ],
   "source": [
    "nue_numu_tot = np.concatenate((nue_datasig_bkg_subtracted, numu_datasig_bkg_subtracted), axis=0)\n",
    "\n",
    "print(nue_numu_tot)\n",
    "print(len(nue_numu_tot))"
   ]
  },
  {
   "cell_type": "code",
   "execution_count": 8,
   "id": "237e5524",
   "metadata": {},
   "outputs": [
    {
     "data": {
      "image/png": "[encoded data removed]",
      "text/plain": [
       "<Figure size 576x504 with 1 Axes>"
      ]
     },
     "metadata": {
      "needs_background": "light"
     },
     "output_type": "display_data"
    }
   ],
   "source": [
    "nue_numu_fig = plt.figure(figsize=(8, 7))\n",
    "nue_numu_gs = gridspec.GridSpec(2, 1, height_ratios=[2, 1])\n",
    "nue_numu_ax1 = plt.subplot(nue_numu_gs[0])\n",
    "\n",
    "\n",
    "bins = np.arange(0, 17, 1)\n",
    "count = np.arange(0.0, 16.0, 1)\n",
    "\n",
    "\n",
    "sel_ratio = nue_numu_ax1.hist(count, bins, edgecolor='red', facecolor='red', weights=nue_numu_tot)\n",
    "nue_numu_ax1.set_ylabel('Count', fontsize=15)\n",
    "nue_numu_ax1.set_xlabel('Bin Number', fontsize=15)\n",
    "nue_numu_ax1.set_title(\"Nue, Numu, Data Selected Values\")\n",
    "#leg = nue_numu_ax1.legend()\n",
    "#nue_numu_ax1.set_ylim([0, 1])\n",
    "\n",
    "nue_numu_fig.savefig(\"data_signal_MC_MECTune_input_leptonMom_comb_\"+ending+\".svg\", bbox_inches='tight')"
   ]
  },
  {
   "cell_type": "code",
   "execution_count": 9,
   "id": "ec3bcd31",
   "metadata": {},
   "outputs": [
    {
     "name": "stdout",
     "output_type": "stream",
     "text": [
      "Jan19b\n"
     ]
    }
   ],
   "source": [
    "np.savetxt(\"data_signal_MC_MECTune_input_leptonMom_comb_\"+ending+\".csv\", \n",
    "               nue_numu_tot,\n",
    "               delimiter =\", \", \n",
    "               fmt ='% s')\n",
    "\n",
    "print(ending)"
   ]
  },
  {
   "cell_type": "code",
   "execution_count": 11,
   "id": "d36109d1",
   "metadata": {},
   "outputs": [
    {
     "name": "stdout",
     "output_type": "stream",
     "text": [
      "[10.61978176 13.21798574  6.21644834  3.84313103  1.77589998  0.43502141\n",
      "  0.34104609  0.46220302]\n",
      "\n",
      "[4.24450771e+02 1.10916869e+03 5.80817134e+02 2.81601179e+02\n",
      " 6.36202944e+01 5.39980136e+01 2.19571320e+01 6.19718368e-01]\n",
      "\n",
      "[8.90143948 4.56612078 1.37001185 0.69757724 0.5610559  0.20903121\n",
      " 0.09090827 0.34363066]\n",
      "\n",
      "[ 76.94303064 113.19153829  33.61995905  19.15311636   4.09977284\n",
      "   1.42445293   0.37897599   0.47767569]\n",
      "\n"
     ]
    }
   ],
   "source": [
    "####Now need to get in the uncertainties\n",
    "\n",
    "###First up, get the noTune statistical uncertinaty. This will be from sig + bkg in noTune\n",
    "\n",
    "ending = \"Jan19b_MECTune\" \n",
    "\n",
    "\n",
    "nue_sig_unc = pd.read_csv(\"nue_total_noTune_err_squared_lepton_comb_\"+ending+\".csv\", header=None)\n",
    "\n",
    "nue_sig_unc = nue_sig_unc.values[:, 0]\n",
    "\n",
    "print(nue_sig_unc)\n",
    "print(\"\")\n",
    "\n",
    "########################\n",
    "\n",
    "numu_sig_unc = pd.read_csv(\"numu_total_noTune_err_squared_lepton_comb_\"+ending+\".csv\", header=None)\n",
    "\n",
    "numu_sig_unc = numu_sig_unc.values[:, 0]\n",
    "\n",
    "print(numu_sig_unc)\n",
    "print(\"\")\n",
    "\n",
    "#######################The regular tune bkg stat uncertainties\n",
    "\n",
    "ending = \"Jan19b\" #need this ending as bkg is from regular tune\n",
    "\n",
    "\n",
    "nue_bkg_unc = pd.read_csv(\"nue_bkg_exp_err_squared_lepton_comb_\"+ending+\".csv\", header=None)\n",
    "\n",
    "nue_bkg_unc = nue_bkg_unc.values[:, 0]\n",
    "\n",
    "print(nue_bkg_unc)\n",
    "print(\"\")\n",
    "\n",
    "########################\n",
    "\n",
    "numu_bkg_unc = pd.read_csv(\"numu_bkg_exp_err_squared_lepton_comb_\"+ending+\".csv\", header=None)\n",
    "\n",
    "numu_bkg_unc = numu_bkg_unc.values[:, 0]\n",
    "\n",
    "print(numu_bkg_unc)\n",
    "print(\"\")"
   ]
  },
  {
   "cell_type": "code",
   "execution_count": 12,
   "id": "ce8bac06",
   "metadata": {},
   "outputs": [
    {
     "name": "stdout",
     "output_type": "stream",
     "text": [
      "[19.52122124 17.78410652  7.58646019  4.54070827  2.33695589  0.64405262\n",
      "  0.43195435  0.80583368]\n",
      "\n",
      "[5.01393802e+02 1.22236023e+03 6.14437093e+02 3.00754296e+02\n",
      " 6.77200673e+01 5.54224665e+01 2.23361080e+01 1.09739406e+00]\n",
      "\n",
      "[1.95212212e+01 1.77841065e+01 7.58646019e+00 4.54070827e+00\n",
      " 2.33695589e+00 6.44052623e-01 4.31954354e-01 8.05833676e-01\n",
      " 5.01393802e+02 1.22236023e+03 6.14437093e+02 3.00754296e+02\n",
      " 6.77200673e+01 5.54224665e+01 2.23361080e+01 1.09739406e+00]\n"
     ]
    }
   ],
   "source": [
    "nue_stat_unc = nue_sig_unc + nue_bkg_unc\n",
    "print(nue_stat_unc)\n",
    "print(\"\")\n",
    "\n",
    "########################\n",
    "\n",
    "numu_stat_unc = numu_sig_unc + numu_bkg_unc\n",
    "print(numu_stat_unc)\n",
    "print(\"\")\n",
    "\n",
    "#########################\n",
    "\n",
    "nue_numu_tot_unc = np.concatenate((nue_stat_unc, numu_stat_unc), axis=0)\n",
    "\n",
    "print(nue_numu_tot_unc)"
   ]
  },
  {
   "cell_type": "code",
   "execution_count": 13,
   "id": "19ba13ad",
   "metadata": {},
   "outputs": [
    {
     "name": "stdout",
     "output_type": "stream",
     "text": [
      "[[0. 0. 0. 0. 0. 0. 0. 0. 0. 0. 0. 0. 0. 0. 0. 0.]\n",
      " [0. 0. 0. 0. 0. 0. 0. 0. 0. 0. 0. 0. 0. 0. 0. 0.]\n",
      " [0. 0. 0. 0. 0. 0. 0. 0. 0. 0. 0. 0. 0. 0. 0. 0.]\n",
      " [0. 0. 0. 0. 0. 0. 0. 0. 0. 0. 0. 0. 0. 0. 0. 0.]\n",
      " [0. 0. 0. 0. 0. 0. 0. 0. 0. 0. 0. 0. 0. 0. 0. 0.]\n",
      " [0. 0. 0. 0. 0. 0. 0. 0. 0. 0. 0. 0. 0. 0. 0. 0.]\n",
      " [0. 0. 0. 0. 0. 0. 0. 0. 0. 0. 0. 0. 0. 0. 0. 0.]\n",
      " [0. 0. 0. 0. 0. 0. 0. 0. 0. 0. 0. 0. 0. 0. 0. 0.]\n",
      " [0. 0. 0. 0. 0. 0. 0. 0. 0. 0. 0. 0. 0. 0. 0. 0.]\n",
      " [0. 0. 0. 0. 0. 0. 0. 0. 0. 0. 0. 0. 0. 0. 0. 0.]\n",
      " [0. 0. 0. 0. 0. 0. 0. 0. 0. 0. 0. 0. 0. 0. 0. 0.]\n",
      " [0. 0. 0. 0. 0. 0. 0. 0. 0. 0. 0. 0. 0. 0. 0. 0.]\n",
      " [0. 0. 0. 0. 0. 0. 0. 0. 0. 0. 0. 0. 0. 0. 0. 0.]\n",
      " [0. 0. 0. 0. 0. 0. 0. 0. 0. 0. 0. 0. 0. 0. 0. 0.]\n",
      " [0. 0. 0. 0. 0. 0. 0. 0. 0. 0. 0. 0. 0. 0. 0. 0.]\n",
      " [0. 0. 0. 0. 0. 0. 0. 0. 0. 0. 0. 0. 0. 0. 0. 0.]]\n"
     ]
    }
   ],
   "source": [
    "nue_numu_cov_stats   = np.zeros([(len(bins)-1), (len(bins)-1)])\n",
    "print(nue_numu_cov_stats)"
   ]
  },
  {
   "cell_type": "code",
   "execution_count": 14,
   "id": "ded66ab1",
   "metadata": {},
   "outputs": [],
   "source": [
    "nue_numu_cov_stats[np.diag_indices_from(nue_numu_cov_stats)]    = nue_numu_tot_unc"
   ]
  },
  {
   "cell_type": "code",
   "execution_count": 15,
   "id": "f41989e6",
   "metadata": {},
   "outputs": [
    {
     "name": "stdout",
     "output_type": "stream",
     "text": [
      "[[3.49712706e+01 6.48508705e+01 4.64440488e+01 2.73207068e+01\n",
      "  1.20091132e+01 5.48148284e+00 3.94124812e+00 5.74156125e+00\n",
      "  3.86610103e+02 8.57561414e+02 4.23348010e+02 1.62419933e+02\n",
      "  5.46101830e+01 3.56806304e+01 1.01946476e+01 2.28563189e+00]\n",
      " [6.48508705e+01 1.54270057e+02 1.15816313e+02 6.88021443e+01\n",
      "  2.82348991e+01 1.18822469e+01 9.76656441e+00 1.38301097e+01\n",
      "  8.38372801e+02 1.88320439e+03 1.08787032e+03 4.14511908e+02\n",
      "  1.31952575e+02 9.60414136e+01 2.79637691e+01 3.39403371e+00]\n",
      " [4.64440488e+01 1.15816313e+02 8.88461535e+01 5.30348483e+01\n",
      "  2.13578661e+01 8.81079685e+00 7.50671905e+00 1.05458790e+01\n",
      "  6.24567896e+02 1.40767675e+03 8.45482666e+02 3.22136515e+02\n",
      "  1.00826833e+02 7.50646472e+01 2.20641866e+01 2.40144697e+00]\n",
      " [2.73207068e+01 6.88021443e+01 5.30348483e+01 3.21961494e+01\n",
      "  1.27951486e+01 5.30390048e+00 4.51437724e+00 6.34651255e+00\n",
      "  3.72491630e+02 8.41862211e+02 5.11618129e+02 1.94878145e+02\n",
      "  6.10400518e+01 4.52883063e+01 1.34294633e+01 1.57454872e+00]\n",
      " [1.20091132e+01 2.82348991e+01 2.13578661e+01 1.27951486e+01\n",
      "  5.48443387e+00 2.26303676e+00 1.81910317e+00 2.61213223e+00\n",
      "  1.56981078e+02 3.57782168e+02 2.03337921e+02 7.75476217e+01\n",
      "  2.46753680e+01 1.76056512e+01 5.22888087e+00 7.38860468e-01]\n",
      " [5.48148284e+00 1.18822469e+01 8.81079685e+00 5.30390048e+00\n",
      "  2.26303676e+00 1.08949033e+00 7.60207138e-01 1.12129640e+00\n",
      "  6.68553379e+01 1.55721923e+02 8.20164273e+01 3.15257314e+01\n",
      "  1.05564199e+01 6.92756567e+00 2.01965606e+00 3.75712109e-01]\n",
      " [3.94124812e+00 9.76656441e+00 7.50671905e+00 4.51437724e+00\n",
      "  1.81910317e+00 7.60207138e-01 6.96331719e-01 9.01424315e-01\n",
      "  5.31007563e+01 1.21322536e+02 7.25007111e+01 2.75376929e+01\n",
      "  8.61969759e+00 6.42340087e+00 1.91342112e+00 2.37576917e-01]\n",
      " [5.74156125e+00 1.38301097e+01 1.05458790e+01 6.34651255e+00\n",
      "  2.61213223e+00 1.12129640e+00 9.01424315e-01 1.32893902e+00\n",
      "  7.54036555e+01 1.73328340e+02 9.96626736e+01 3.81692601e+01\n",
      "  1.22621747e+01 8.63843711e+00 2.55185232e+00 3.27417464e-01]\n",
      " [3.86610103e+02 8.38372801e+02 6.24567896e+02 3.72491630e+02\n",
      "  1.56981078e+02 6.68553379e+01 5.31007563e+01 7.54036555e+01\n",
      "  4.86650191e+03 1.07444989e+04 5.94699909e+03 2.26675275e+03\n",
      "  7.24917003e+02 5.12112037e+02 1.51508523e+02 2.38464733e+01]\n",
      " [8.57561414e+02 1.88320439e+03 1.40767675e+03 8.41862211e+02\n",
      "  3.57782168e+02 1.55721923e+02 1.21322536e+02 1.73328340e+02\n",
      "  1.07444989e+04 2.45755407e+04 1.32969878e+04 5.08506753e+03\n",
      "  1.65364246e+03 1.13851105e+03 3.37434995e+02 5.61879027e+01]\n",
      " [4.23348010e+02 1.08787032e+03 8.45482666e+02 5.11618129e+02\n",
      "  2.03337921e+02 8.20164273e+01 7.25007111e+01 9.96626736e+01\n",
      "  5.94699909e+03 1.32969878e+04 8.31395352e+03 3.15222486e+03\n",
      "  9.67157985e+02 7.38503645e+02 2.21940753e+02 2.42951704e+01]\n",
      " [1.62419933e+02 4.14511908e+02 3.22136515e+02 1.94878145e+02\n",
      "  7.75476217e+01 3.15257314e+01 2.75376929e+01 3.81692601e+01\n",
      "  2.26675275e+03 5.08506753e+03 3.15222486e+03 1.20146760e+03\n",
      "  3.69937399e+02 2.79866242e+02 8.37526628e+01 9.19028358e+00]\n",
      " [5.46101830e+01 1.31952575e+02 1.00826833e+02 6.10400518e+01\n",
      "  2.46753680e+01 1.05564199e+01 8.61969759e+00 1.22621747e+01\n",
      "  7.24917003e+02 1.65364246e+03 9.67157985e+02 3.69937399e+02\n",
      "  1.19362369e+02 8.46189027e+01 2.50058143e+01 3.36950454e+00]\n",
      " [3.56806304e+01 9.60414136e+01 7.50646472e+01 4.52883063e+01\n",
      "  1.76056512e+01 6.92756567e+00 6.42340087e+00 8.63843711e+00\n",
      "  5.12112037e+02 1.13851105e+03 7.38503645e+02 2.79866242e+02\n",
      "  8.46189027e+01 6.72130820e+01 1.99539752e+01 1.82622139e+00]\n",
      " [1.01946476e+01 2.79637691e+01 2.20641866e+01 1.34294633e+01\n",
      "  5.22888087e+00 2.01965606e+00 1.91342112e+00 2.55185232e+00\n",
      "  1.51508523e+02 3.37434995e+02 2.21940753e+02 8.37526628e+01\n",
      "  2.50058143e+01 1.99539752e+01 6.19838019e+00 5.55337058e-01]\n",
      " [2.28563189e+00 3.39403371e+00 2.40144697e+00 1.57454872e+00\n",
      "  7.38860468e-01 3.75712109e-01 2.37576917e-01 3.27417464e-01\n",
      "  2.38464733e+01 5.61879027e+01 2.42951704e+01 9.19028358e+00\n",
      "  3.36950454e+00 1.82622139e+00 5.55337058e-01 4.69098408e-01]]\n"
     ]
    }
   ],
   "source": [
    "###Then sprinkle in the regular tune genie sys uncertainties\n",
    "\n",
    "# Load in the blockwise genie cov matrix\n",
    "\n",
    "blockwise_genie_err = pd.read_csv(\"blockwise_cov_genie_only_leptonMom_comb_\"+ending+\".csv\", header=None)\n",
    "\n",
    "blockwise_genie_err = blockwise_genie_err.values\n",
    "print(blockwise_genie_err)"
   ]
  },
  {
   "cell_type": "code",
   "execution_count": 16,
   "id": "2e1c8181",
   "metadata": {},
   "outputs": [
    {
     "name": "stdout",
     "output_type": "stream",
     "text": [
      "[[ 1.38597762e+01 -6.81447655e-02 -2.66950140e+01 -7.34620026e+00\n",
      "  -9.10618293e+00 -1.48008452e+00  9.24255148e-01 -9.76275903e+00\n",
      "   2.82242858e+02 -3.96765154e+01 -9.28151561e+01  6.83481181e+01\n",
      "   9.63938865e-01 -4.83135367e+00 -3.10246488e+00 -2.69981154e+00]\n",
      " [-6.81447655e-02  3.35049355e-04  1.31252153e-01  3.61192769e-02\n",
      "   4.47726350e-02  7.27717470e-03 -4.54431222e-03  4.80008419e-02\n",
      "  -1.38771168e+00  1.95078680e-01  4.56346983e-01 -3.36049184e-01\n",
      "  -4.73942631e-03  2.37544574e-02  1.52539795e-02  1.32742421e-02]\n",
      " [-2.66950140e+01  1.31252153e-01  5.14166870e+01  1.41493568e+01\n",
      "   1.75392213e+01  2.85075866e+00 -1.78018778e+00  1.88038382e+01\n",
      "  -5.43621841e+02  7.64200750e+01  1.78769257e+02 -1.31643827e+02\n",
      "  -1.85662172e+00  9.30556543e+00  5.97559026e+00  5.20004841e+00]\n",
      " [-7.34620026e+00  3.61192769e-02  1.41493568e+01  3.89376117e+00\n",
      "   4.82661788e+00  7.84500208e-01 -4.89889831e-01  5.17462779e+00\n",
      "  -1.49599281e+02  2.10300386e+01  4.91955076e+01 -3.62270615e+01\n",
      "  -5.10923687e-01  2.56079832e+00  1.64442254e+00  1.43100119e+00]\n",
      " [-9.10618293e+00  4.47726350e-02  1.75392213e+01  4.82661788e+00\n",
      "   5.98296586e+00  9.72448633e-01 -6.07256304e-01  6.41435104e+00\n",
      "  -1.85439870e+02  2.60683580e+01  6.09816335e+01 -4.49062423e+01\n",
      "  -6.33329394e-01  3.17430742e+00  2.03838882e+00  1.77383657e+00]\n",
      " [-1.48008452e+00  7.27717470e-03  2.85075866e+00  7.84500208e-01\n",
      "   9.72448633e-01  1.58058121e-01 -9.87011420e-02  1.04256435e+00\n",
      "  -3.01406949e+01  4.23705228e+00  9.91172397e+00 -7.29889071e+00\n",
      "  -1.02938963e-01  5.15939918e-01  3.31312006e-01  2.88312684e-01]\n",
      " [ 9.24255148e-01 -4.54431222e-03 -1.78018778e+00 -4.89889831e-01\n",
      "  -6.07256304e-01 -9.87011420e-02  6.16350197e-02 -6.51040838e-01\n",
      "   1.88216903e+01 -2.64587416e+00 -6.18948566e+00  4.55787303e+00\n",
      "   6.42813742e-02 -3.22184388e-01 -2.06891446e-01 -1.80040044e-01]\n",
      " [-9.76275903e+00  4.80008419e-02  1.88038382e+01  5.17462779e+00\n",
      "   6.41435104e+00  1.04256435e+00 -6.51040838e-01  6.87684005e+00\n",
      "  -1.98810498e+02  2.79479448e+01  6.53785452e+01 -4.81440825e+01\n",
      "  -6.78993856e-01  3.40318206e+00  2.18536120e+00  1.90173414e+00]\n",
      " [ 2.82242858e+02 -1.38771168e+00 -5.43621841e+02 -1.49599281e+02\n",
      "  -1.85439870e+02 -3.01406949e+01  1.88216903e+01 -1.98810498e+02\n",
      "   5.74764193e+03 -8.07979360e+02 -1.89010375e+03  1.39185279e+03\n",
      "   1.96298163e+01 -9.83865143e+01 -6.31791266e+01 -5.49794250e+01]\n",
      " [-3.96765154e+01  1.95078680e-01  7.64200750e+01  2.10300386e+01\n",
      "   2.60683580e+01  4.23705228e+00 -2.64587416e+00  2.79479448e+01\n",
      "  -8.07979360e+02  1.13582345e+02  2.65702846e+02 -1.95660819e+02\n",
      "  -2.75947712e+00  1.38307629e+01  8.88145624e+00  7.72877663e+00]\n",
      " [-9.28151561e+01  4.56346983e-01  1.78769257e+02  4.91955076e+01\n",
      "   6.09816335e+01  9.91172397e+00 -6.18948566e+00  6.53785452e+01\n",
      "  -1.89010375e+03  2.65702846e+02  6.21557888e+02 -4.57708781e+02\n",
      "  -6.45523673e+00  3.23542631e+01  2.07763646e+01  1.80799045e+01]\n",
      " [ 6.83481181e+01 -3.36049184e-01 -1.31643827e+02 -3.62270615e+01\n",
      "  -4.49062423e+01 -7.29889071e+00  4.55787303e+00 -4.81440825e+01\n",
      "   1.39185279e+03 -1.95660819e+02 -4.57708781e+02  3.37051998e+02\n",
      "   4.75356937e+00 -2.38253437e+01 -1.52994993e+01 -1.33138541e+01]\n",
      " [ 9.63938865e-01 -4.73942631e-03 -1.85662172e+00 -5.10923687e-01\n",
      "  -6.33329394e-01 -1.02938963e-01  6.42813742e-02 -6.78993856e-01\n",
      "   1.96298163e+01 -2.75947712e+00 -6.45523673e+00  4.75356937e+00\n",
      "   6.70413522e-02 -3.36017661e-01 -2.15774515e-01 -1.87770224e-01]\n",
      " [-4.83135367e+00  2.37544574e-02  9.30556543e+00  2.56079832e+00\n",
      "   3.17430742e+00  5.15939918e-01 -3.22184388e-01  3.40318206e+00\n",
      "  -9.83865143e+01  1.38307629e+01  3.23542631e+01 -2.38253437e+01\n",
      "  -3.36017661e-01  1.68415262e+00  1.08148248e+00  9.41122299e-01]\n",
      " [-3.10246488e+00  1.52539795e-02  5.97559026e+00  1.64442254e+00\n",
      "   2.03838882e+00  3.31312006e-01 -2.06891446e-01  2.18536120e+00\n",
      "  -6.31791266e+01  8.88145624e+00  2.07763646e+01 -1.52994993e+01\n",
      "  -2.15774515e-01  1.08148248e+00  6.94476464e-01  6.04343851e-01]\n",
      " [-2.69981154e+00  1.32742421e-02  5.20004841e+00  1.43100119e+00\n",
      "   1.77383657e+00  2.88312684e-01 -1.80040044e-01  1.90173414e+00\n",
      "  -5.49794250e+01  7.72877663e+00  1.80799045e+01 -1.33138541e+01\n",
      "  -1.87770224e-01  9.41122299e-01  6.04343851e-01  5.25909097e-01]]\n"
     ]
    }
   ],
   "source": [
    "# Load in the blockwise nuwrounisim cov matrix\n",
    "\n",
    "nuWro_unisim = pd.read_csv(\"nuWro_extra_unisim_uncertainties_lepton_comb_\"+ending+\".csv\", header=None)\n",
    "\n",
    "nuWro_unisim = nuWro_unisim.values\n",
    "print(nuWro_unisim)"
   ]
  },
  {
   "cell_type": "code",
   "execution_count": 17,
   "id": "86e82551",
   "metadata": {},
   "outputs": [],
   "source": [
    "##### Now make the total cov matrix\n",
    "\n",
    "total_noTune_input_cov = nue_numu_cov_stats + blockwise_genie_err + nuWro_unisim"
   ]
  },
  {
   "cell_type": "code",
   "execution_count": 18,
   "id": "d8f0a80d",
   "metadata": {},
   "outputs": [
    {
     "data": {
      "image/png": "[encoded data removed]",
      "text/plain": [
       "<Figure size 720x432 with 2 Axes>"
      ]
     },
     "metadata": {
      "needs_background": "light"
     },
     "output_type": "display_data"
    }
   ],
   "source": [
    "fig = plt.figure(figsize=(10, 6))\n",
    "\n",
    "plt.pcolor(bins, bins, total_noTune_input_cov, cmap='OrRd', edgecolors='k')\n",
    "\n",
    "cbar = plt.colorbar()\n",
    "cbar.ax.tick_params(labelsize=14)\n",
    "#if pot: \n",
    "#    cbar.set_label(label=\"$\\\\nu^{2}$ / \"+pot+\"$^{2}$\", fontsize=15)\n",
    "\n",
    "plt.xlim(bins[0], bins[-1])\n",
    "plt.ylim(bins[0], bins[-1])\n",
    "\n",
    "\n",
    "plt.xlabel(\"Bin Number\", fontsize=15)\n",
    "plt.ylabel(\"Bin Number\", fontsize=15)\n",
    "\n",
    "plt.title('Covariance Matrix (MECTune)', fontsize=16)\n",
    "\n",
    "\n",
    "plt.savefig(\"data_covmat_MC_MECTune_input_leptonMom_comb_\"+ending+\".svg\", bbox_inches='tight')\n",
    "\n",
    "plt.show()"
   ]
  },
  {
   "cell_type": "code",
   "execution_count": 19,
   "id": "c3fa84cb",
   "metadata": {},
   "outputs": [],
   "source": [
    "np.savetxt(\"data_covmat_MC_MECTune_input_leptonMom_comb_\"+ending+\".csv\", \n",
    "           total_noTune_input_cov,\n",
    "           delimiter =\", \", \n",
    "           fmt ='% s')"
   ]
  },
  {
   "cell_type": "code",
   "execution_count": null,
   "id": "f1216474",
   "metadata": {},
   "outputs": [],
   "source": []
  }
 ],
 "metadata": {
  "kernelspec": {
   "display_name": "Python 3 (ipykernel)",
   "language": "python",
   "name": "python3"
  },
  "language_info": {
   "codemirror_mode": {
    "name": "ipython",
    "version": 3
   },
   "file_extension": ".py",
   "mimetype": "text/x-python",
   "name": "python",
   "nbconvert_exporter": "python",
   "pygments_lexer": "ipython3",
   "version": "3.8.12"
  }
 },
 "nbformat": 4,
 "nbformat_minor": 5
}
