{
 "cells": [
  {
   "cell_type": "code",
   "execution_count": 1,
   "id": "2879806d",
   "metadata": {},
   "outputs": [
    {
     "name": "stdout",
     "output_type": "stream",
     "text": [
      "Welcome to JupyROOT 6.24/02\n"
     ]
    }
   ],
   "source": [
    "import sys\n",
    "\n",
    "#sys.path.insert(0, 'backend_functions')\n",
    "\n",
    "#import selection_functions as sf\n",
    "\n",
    "import importlib\n",
    "\n",
    "import uproot\n",
    "import matplotlib.pylab as pylab\n",
    "import numpy as np\n",
    "import math\n",
    "from sklearn.model_selection import train_test_split\n",
    "import pickle\n",
    "import xgboost as xgb\n",
    "\n",
    "import awkward\n",
    "import matplotlib.pyplot as plt\n",
    "import pandas as pd\n",
    "\n",
    "import ROOT\n",
    "from ROOT import TH1F, TH2F, TDirectory, TH1D\n",
    "\n",
    "from matplotlib import gridspec\n"
   ]
  },
  {
   "cell_type": "code",
   "execution_count": 2,
   "id": "cdd417ad",
   "metadata": {},
   "outputs": [],
   "source": [
    "ending = \"Jan19_MECTune\""
   ]
  },
  {
   "cell_type": "code",
   "execution_count": 3,
   "id": "8b14eea6",
   "metadata": {},
   "outputs": [],
   "source": [
    "##Regular tune prior true and smearcept to be used\n",
    "\n",
    "\n",
    "#Recall for comparison it will be the MEC tune for prior true"
   ]
  },
  {
   "cell_type": "code",
   "execution_count": 4,
   "id": "c7c3f6cb",
   "metadata": {},
   "outputs": [
    {
     "name": "stdout",
     "output_type": "stream",
     "text": [
      "[55.65296047 88.49816025 61.76788115 34.69630318 17.91129467  8.12563115\n",
      "  5.01588177  7.78328519]\n",
      "\n",
      "[ 605.67932713 1339.24857443  521.27423304  191.82998478   67.71069855\n",
      "   31.36349374   14.58706147    3.13445976]\n"
     ]
    }
   ],
   "source": [
    "####Load in MECTune full event counts\n",
    "\n",
    "nue_data_signal = pd.read_csv(\"nue_full_500_catsel_nopions_leptonMom_usingSelection_full_evt_count_MCONLY_recoCut_comb_\"+ending+\".csv\", header=None)\n",
    "\n",
    "nue_data_signal = nue_data_signal.values[:, 0]\n",
    "\n",
    "print(nue_data_signal)\n",
    "print(\"\")\n",
    "\n",
    "######\n",
    "\n",
    "numu_data_signal = pd.read_csv(\"numu_full_500_catsel_nopions_leptonMom_usingSelection_full_evt_count_MCONLY_recoCut_comb_\"+ending+\".csv\", header=None)\n",
    "\n",
    "numu_data_signal = numu_data_signal.values[:, 0]\n",
    "\n",
    "print(numu_data_signal)"
   ]
  },
  {
   "cell_type": "code",
   "execution_count": 5,
   "id": "a999b771",
   "metadata": {},
   "outputs": [
    {
     "name": "stdout",
     "output_type": "stream",
     "text": [
      "[28.13687282 19.6151705  13.40456583  7.33735493  5.00524053  2.44188302\n",
      "  1.16436337  2.70567606]\n",
      "\n",
      "[223.55149261 385.16373543 115.05806545  42.66571382  12.55655181\n",
      "   6.70147453   1.52686615   2.00407337]\n",
      "\n"
     ]
    }
   ],
   "source": [
    "###Load in regular tune bkg event counts\n",
    "#Include ext in bkg count here as the full event counts do\n",
    "\n",
    "ending = \"Jan19\" #need this ending as bkg is from regular tune\n",
    "\n",
    "\n",
    "\n",
    "nue_bkg_inc_ext = pd.read_csv(\"nue_nopions_leptonMom_usingSelection_comb_cv_nue_bkg_incExt_\"+ending+\".csv\", header=None)\n",
    "\n",
    "nue_bkg_inc_ext = nue_bkg_inc_ext.values[:, 0]\n",
    "\n",
    "print(nue_bkg_inc_ext)\n",
    "print(\"\")\n",
    "\n",
    "#######################\n",
    "\n",
    "numu_bkg_inc_ext = pd.read_csv(\"numu_nopions_leptonMom_usingSelection_comb_cv_numu_bkg_incExt_\"+ending+\".csv\", header=None)\n",
    "\n",
    "numu_bkg_inc_ext = numu_bkg_inc_ext.values[:, 0]\n",
    "\n",
    "print(numu_bkg_inc_ext)\n",
    "print(\"\")"
   ]
  },
  {
   "cell_type": "code",
   "execution_count": 6,
   "id": "0fe6cc8a",
   "metadata": {},
   "outputs": [
    {
     "name": "stdout",
     "output_type": "stream",
     "text": [
      "[27.51608764 68.88298975 48.36331532 27.35894825 12.90605413  5.68374813\n",
      "  3.8515184   5.07760913]\n",
      "\n",
      "[382.12783452 954.084839   406.21616759 149.16427096  55.15414673\n",
      "  24.66201921  13.06019532   1.13038639]\n"
     ]
    }
   ],
   "source": [
    "####So then can calculate the data signal input to the unfolding\n",
    "\n",
    "nue_datasig_bkg_subtracted = nue_data_signal - nue_bkg_inc_ext\n",
    "print(nue_datasig_bkg_subtracted)\n",
    "print(\"\")\n",
    "\n",
    "numu_datasig_bkg_subtracted = numu_data_signal - numu_bkg_inc_ext\n",
    "print(numu_datasig_bkg_subtracted)"
   ]
  },
  {
   "cell_type": "code",
   "execution_count": 7,
   "id": "1d47fce7",
   "metadata": {},
   "outputs": [
    {
     "name": "stdout",
     "output_type": "stream",
     "text": [
      "[ 27.51608764  68.88298975  48.36331532  27.35894825  12.90605413\n",
      "   5.68374813   3.8515184    5.07760913 382.12783452 954.084839\n",
      " 406.21616759 149.16427096  55.15414673  24.66201921  13.06019532\n",
      "   1.13038639]\n",
      "16\n"
     ]
    }
   ],
   "source": [
    "nue_numu_tot = np.concatenate((nue_datasig_bkg_subtracted, numu_datasig_bkg_subtracted), axis=0)\n",
    "\n",
    "print(nue_numu_tot)\n",
    "print(len(nue_numu_tot))"
   ]
  },
  {
   "cell_type": "code",
   "execution_count": 8,
   "id": "237e5524",
   "metadata": {},
   "outputs": [
    {
     "data": {
      "image/png": "[encoded data removed]",
      "text/plain": [
       "<Figure size 576x504 with 1 Axes>"
      ]
     },
     "metadata": {
      "needs_background": "light"
     },
     "output_type": "display_data"
    }
   ],
   "source": [
    "nue_numu_fig = plt.figure(figsize=(8, 7))\n",
    "nue_numu_gs = gridspec.GridSpec(2, 1, height_ratios=[2, 1])\n",
    "nue_numu_ax1 = plt.subplot(nue_numu_gs[0])\n",
    "\n",
    "\n",
    "bins = np.arange(0, 17, 1)\n",
    "count = np.arange(0.0, 16.0, 1)\n",
    "\n",
    "\n",
    "sel_ratio = nue_numu_ax1.hist(count, bins, edgecolor='red', facecolor='red', weights=nue_numu_tot)\n",
    "nue_numu_ax1.set_ylabel('Count', fontsize=15)\n",
    "nue_numu_ax1.set_xlabel('Bin Number', fontsize=15)\n",
    "nue_numu_ax1.set_title(\"Nue, Numu, Data Selected Values\")\n",
    "#leg = nue_numu_ax1.legend()\n",
    "#nue_numu_ax1.set_ylim([0, 1])\n",
    "\n",
    "nue_numu_fig.savefig(\"data_signal_MC_MECTune_input_leptonMom_comb_\"+ending+\".svg\", bbox_inches='tight')"
   ]
  },
  {
   "cell_type": "code",
   "execution_count": 9,
   "id": "ec3bcd31",
   "metadata": {},
   "outputs": [
    {
     "name": "stdout",
     "output_type": "stream",
     "text": [
      "Jan19\n"
     ]
    }
   ],
   "source": [
    "np.savetxt(\"data_signal_MC_MECTune_input_leptonMom_comb_\"+ending+\".csv\", \n",
    "               nue_numu_tot,\n",
    "               delimiter =\", \", \n",
    "               fmt ='% s')\n",
    "\n",
    "print(ending)"
   ]
  },
  {
   "cell_type": "code",
   "execution_count": 10,
   "id": "d36109d1",
   "metadata": {},
   "outputs": [
    {
     "name": "stdout",
     "output_type": "stream",
     "text": [
      "[10.67268195  8.00393016  6.28283663  3.85090534  1.76200749  0.42217993\n",
      "  0.33715813  0.45296553]\n",
      "\n",
      "[4.19860321e+02 1.09607507e+03 5.95914478e+02 2.68434810e+02\n",
      " 4.63746637e+01 3.12592038e+01 6.04318691e+01 7.45796274e-01]\n",
      "\n",
      "[8.86804497 3.17666948 1.42344224 0.7432552  0.55003876 0.20502323\n",
      " 0.09003998 0.33467734]\n",
      "\n",
      "[ 76.24695033 112.01272668  33.72979711  18.96662017   4.00753197\n",
      "   1.41609575   0.33281639   0.4749756 ]\n",
      "\n"
     ]
    }
   ],
   "source": [
    "####Now need to get in the uncertainties\n",
    "\n",
    "###First up, get the noTune statistical uncertinaty. This will be from sig + bkg in noTune\n",
    "\n",
    "ending = \"Jan19_MECTune\" \n",
    "\n",
    "\n",
    "nue_sig_unc = pd.read_csv(\"nue_total_noTune_err_squared_lepton_comb_\"+ending+\".csv\", header=None)\n",
    "\n",
    "nue_sig_unc = nue_sig_unc.values[:, 0]\n",
    "\n",
    "print(nue_sig_unc)\n",
    "print(\"\")\n",
    "\n",
    "########################\n",
    "\n",
    "numu_sig_unc = pd.read_csv(\"numu_total_noTune_err_squared_lepton_comb_\"+ending+\".csv\", header=None)\n",
    "\n",
    "numu_sig_unc = numu_sig_unc.values[:, 0]\n",
    "\n",
    "print(numu_sig_unc)\n",
    "print(\"\")\n",
    "\n",
    "#######################The regular tune bkg stat uncertainties\n",
    "\n",
    "ending = \"Jan19\" #need this ending as bkg is from regular tune\n",
    "\n",
    "\n",
    "nue_bkg_unc = pd.read_csv(\"nue_bkg_exp_err_squared_lepton_comb_\"+ending+\".csv\", header=None)\n",
    "\n",
    "nue_bkg_unc = nue_bkg_unc.values[:, 0]\n",
    "\n",
    "print(nue_bkg_unc)\n",
    "print(\"\")\n",
    "\n",
    "########################\n",
    "\n",
    "numu_bkg_unc = pd.read_csv(\"numu_bkg_exp_err_squared_lepton_comb_\"+ending+\".csv\", header=None)\n",
    "\n",
    "numu_bkg_unc = numu_bkg_unc.values[:, 0]\n",
    "\n",
    "print(numu_bkg_unc)\n",
    "print(\"\")"
   ]
  },
  {
   "cell_type": "code",
   "execution_count": 11,
   "id": "ce8bac06",
   "metadata": {},
   "outputs": [
    {
     "name": "stdout",
     "output_type": "stream",
     "text": [
      "[19.54072692 11.18059964  7.70627886  4.59416054  2.31204625  0.62720317\n",
      "  0.42719811  0.78764287]\n",
      "\n",
      "[ 496.10727156 1208.0877956   629.64427501  287.40142999   50.38219566\n",
      "   32.67529954   60.76468546    1.22077188]\n",
      "\n",
      "[1.95407269e+01 1.11805996e+01 7.70627886e+00 4.59416054e+00\n",
      " 2.31204625e+00 6.27203166e-01 4.27198108e-01 7.87642871e-01\n",
      " 4.96107272e+02 1.20808780e+03 6.29644275e+02 2.87401430e+02\n",
      " 5.03821957e+01 3.26752995e+01 6.07646855e+01 1.22077188e+00]\n"
     ]
    }
   ],
   "source": [
    "nue_stat_unc = nue_sig_unc + nue_bkg_unc\n",
    "print(nue_stat_unc)\n",
    "print(\"\")\n",
    "\n",
    "########################\n",
    "\n",
    "numu_stat_unc = numu_sig_unc + numu_bkg_unc\n",
    "print(numu_stat_unc)\n",
    "print(\"\")\n",
    "\n",
    "#########################\n",
    "\n",
    "nue_numu_tot_unc = np.concatenate((nue_stat_unc, numu_stat_unc), axis=0)\n",
    "\n",
    "print(nue_numu_tot_unc)"
   ]
  },
  {
   "cell_type": "code",
   "execution_count": 12,
   "id": "19ba13ad",
   "metadata": {},
   "outputs": [
    {
     "name": "stdout",
     "output_type": "stream",
     "text": [
      "[[0. 0. 0. 0. 0. 0. 0. 0. 0. 0. 0. 0. 0. 0. 0. 0.]\n",
      " [0. 0. 0. 0. 0. 0. 0. 0. 0. 0. 0. 0. 0. 0. 0. 0.]\n",
      " [0. 0. 0. 0. 0. 0. 0. 0. 0. 0. 0. 0. 0. 0. 0. 0.]\n",
      " [0. 0. 0. 0. 0. 0. 0. 0. 0. 0. 0. 0. 0. 0. 0. 0.]\n",
      " [0. 0. 0. 0. 0. 0. 0. 0. 0. 0. 0. 0. 0. 0. 0. 0.]\n",
      " [0. 0. 0. 0. 0. 0. 0. 0. 0. 0. 0. 0. 0. 0. 0. 0.]\n",
      " [0. 0. 0. 0. 0. 0. 0. 0. 0. 0. 0. 0. 0. 0. 0. 0.]\n",
      " [0. 0. 0. 0. 0. 0. 0. 0. 0. 0. 0. 0. 0. 0. 0. 0.]\n",
      " [0. 0. 0. 0. 0. 0. 0. 0. 0. 0. 0. 0. 0. 0. 0. 0.]\n",
      " [0. 0. 0. 0. 0. 0. 0. 0. 0. 0. 0. 0. 0. 0. 0. 0.]\n",
      " [0. 0. 0. 0. 0. 0. 0. 0. 0. 0. 0. 0. 0. 0. 0. 0.]\n",
      " [0. 0. 0. 0. 0. 0. 0. 0. 0. 0. 0. 0. 0. 0. 0. 0.]\n",
      " [0. 0. 0. 0. 0. 0. 0. 0. 0. 0. 0. 0. 0. 0. 0. 0.]\n",
      " [0. 0. 0. 0. 0. 0. 0. 0. 0. 0. 0. 0. 0. 0. 0. 0.]\n",
      " [0. 0. 0. 0. 0. 0. 0. 0. 0. 0. 0. 0. 0. 0. 0. 0.]\n",
      " [0. 0. 0. 0. 0. 0. 0. 0. 0. 0. 0. 0. 0. 0. 0. 0.]]\n"
     ]
    }
   ],
   "source": [
    "nue_numu_cov_stats   = np.zeros([(len(bins)-1), (len(bins)-1)])\n",
    "print(nue_numu_cov_stats)"
   ]
  },
  {
   "cell_type": "code",
   "execution_count": 13,
   "id": "ded66ab1",
   "metadata": {},
   "outputs": [],
   "source": [
    "nue_numu_cov_stats[np.diag_indices_from(nue_numu_cov_stats)]    = nue_numu_tot_unc"
   ]
  },
  {
   "cell_type": "code",
   "execution_count": 14,
   "id": "f41989e6",
   "metadata": {},
   "outputs": [
    {
     "name": "stdout",
     "output_type": "stream",
     "text": [
      "[[3.64878519e+01 5.93711506e+01 4.44128736e+01 2.64639001e+01\n",
      "  1.20843139e+01 5.76037630e+00 3.87916865e+00 6.13289723e+00\n",
      "  3.87686977e+02 8.62933209e+02 4.08509391e+02 1.50249311e+02\n",
      "  4.85751844e+01 2.53417558e+01 1.70989532e+01 2.83590647e+00]\n",
      " [5.93711506e+01 1.24910192e+02 1.00211716e+02 6.03679030e+01\n",
      "  2.49530533e+01 1.09492335e+01 8.66491016e+00 1.28282014e+01\n",
      "  7.24639837e+02 1.67421803e+03 9.67037537e+02 3.47772615e+02\n",
      "  1.01546907e+02 6.08779301e+01 4.97378738e+01 4.17252721e+00]\n",
      " [4.44128736e+01 1.00211716e+02 8.35260009e+01 5.05295710e+01\n",
      "  2.02357135e+01 8.55346482e+00 7.18849126e+00 1.04494830e+01\n",
      "  5.76218700e+02 1.33630618e+03 8.28981476e+02 2.96421002e+02\n",
      "  8.29405734e+01 5.16500417e+01 4.48816823e+01 3.05046000e+00]\n",
      " [2.64639001e+01 6.03679030e+01 5.05295710e+01 3.10570238e+01\n",
      "  1.22903726e+01 5.21171441e+00 4.38647008e+00 6.34384894e+00\n",
      "  3.48815046e+02 8.13378554e+02 5.08172536e+02 1.81825840e+02\n",
      "  5.08107668e+01 3.15249997e+01 2.76336730e+01 1.90574257e+00]\n",
      " [1.20843139e+01 2.49530533e+01 2.02357135e+01 1.22903726e+01\n",
      "  5.35378121e+00 2.30298488e+00 1.77241053e+00 2.66517065e+00\n",
      "  1.49548729e+02 3.51246714e+02 1.98847472e+02 7.17595670e+01\n",
      "  2.10811079e+01 1.22005305e+01 1.00486447e+01 9.39084065e-01]\n",
      " [5.76037630e+00 1.09492335e+01 8.55346482e+00 5.21171441e+00\n",
      "  2.30298488e+00 1.15046632e+00 7.64469549e-01 1.20390246e+00\n",
      "  6.65354397e+01 1.58773743e+02 8.06599979e+01 2.96518825e+01\n",
      "  9.41865477e+00 4.99116364e+00 3.61584739e+00 4.65118619e-01]\n",
      " [3.87916865e+00 8.66491016e+00 7.18849126e+00 4.38647008e+00\n",
      "  1.77241053e+00 7.64469549e-01 6.72641357e-01 9.12382048e-01\n",
      "  5.00030204e+01 1.17901787e+02 7.16674954e+01 2.56398309e+01\n",
      "  7.26060928e+00 4.48587894e+00 3.82439007e+00 3.13980914e-01]\n",
      " [6.13289723e+00 1.28282014e+01 1.04494830e+01 6.34384894e+00\n",
      "  2.66517065e+00 1.20390246e+00 9.12382048e-01 1.40911574e+00\n",
      "  7.56401841e+01 1.79139276e+02 1.01520523e+02 3.69101175e+01\n",
      "  1.09618312e+01 6.26777836e+00 5.05721962e+00 4.51303871e-01]\n",
      " [3.87686977e+02 7.24639837e+02 5.76218700e+02 3.48815046e+02\n",
      "  1.49548729e+02 6.65354397e+01 5.00030204e+01 7.56401841e+01\n",
      "  4.61594894e+03 1.03495924e+04 5.64006235e+03 2.04121480e+03\n",
      "  6.07434626e+02 3.44813254e+02 2.75223842e+02 3.00609056e+01]\n",
      " [8.62933209e+02 1.67421803e+03 1.33630618e+03 8.13378554e+02\n",
      "  3.51246714e+02 1.58773743e+02 1.17901787e+02 1.79139276e+02\n",
      "  1.03495924e+04 2.41839572e+04 1.30107448e+04 4.72858904e+03\n",
      "  1.43603087e+03 7.99013620e+02 6.25116018e+02 7.03503888e+01]\n",
      " [4.08509391e+02 9.67037537e+02 8.28981476e+02 5.08172536e+02\n",
      "  1.98847472e+02 8.06599979e+01 7.16674954e+01 1.01520523e+02\n",
      "  5.64006235e+03 1.30107448e+04 8.55788130e+03 3.03897480e+03\n",
      "  8.16412978e+02 5.25423842e+02 4.82792904e+02 2.94467463e+01]\n",
      " [1.50249311e+02 3.47772615e+02 2.96421002e+02 1.81825840e+02\n",
      "  7.17595670e+01 2.96518825e+01 2.56398309e+01 3.69101175e+01\n",
      "  2.04121480e+03 4.72858904e+03 3.03897480e+03 1.08782989e+03\n",
      "  2.96910716e+02 1.86709161e+02 1.68194959e+02 1.07579845e+01]\n",
      " [4.85751844e+01 1.01546907e+02 8.29405734e+01 5.08107668e+01\n",
      "  2.10811079e+01 9.41865477e+00 7.26060928e+00 1.09618312e+01\n",
      "  6.07434626e+02 1.43603087e+03 8.16412978e+02 2.96910716e+02\n",
      "  8.92919534e+01 5.03822258e+01 4.07819147e+01 3.72812554e+00]\n",
      " [2.53417558e+01 6.08779301e+01 5.16500417e+01 3.15249997e+01\n",
      "  1.22005305e+01 4.99116364e+00 4.48587894e+00 6.26777836e+00\n",
      "  3.44813254e+02 7.99013620e+02 5.25423842e+02 1.86709161e+02\n",
      "  5.03822258e+01 3.34426996e+01 2.96567194e+01 1.91934203e+00]\n",
      " [1.70989532e+01 4.97378738e+01 4.48816823e+01 2.76336730e+01\n",
      "  1.00486447e+01 3.61584739e+00 3.82439007e+00 5.05721962e+00\n",
      "  2.75223842e+02 6.25116018e+02 4.82792904e+02 1.68194959e+02\n",
      "  4.07819147e+01 2.96567194e+01 3.02685781e+01 1.06242339e+00]\n",
      " [2.83590647e+00 4.17252721e+00 3.05046000e+00 1.90574257e+00\n",
      "  9.39084065e-01 4.65118619e-01 3.13980914e-01 4.51303871e-01\n",
      "  3.00609056e+01 7.03503888e+01 2.94467463e+01 1.07579845e+01\n",
      "  3.72812554e+00 1.91934203e+00 1.06242339e+00 5.60121088e-01]]\n"
     ]
    }
   ],
   "source": [
    "###Then sprinkle in the regular tune genie sys uncertainties\n",
    "\n",
    "# Load in the blockwise genie cov matrix\n",
    "\n",
    "blockwise_genie_err = pd.read_csv(\"blockwise_cov_genie_only_leptonMom_comb_\"+ending+\".csv\", header=None)\n",
    "\n",
    "blockwise_genie_err = blockwise_genie_err.values\n",
    "print(blockwise_genie_err)"
   ]
  },
  {
   "cell_type": "code",
   "execution_count": 15,
   "id": "2e1c8181",
   "metadata": {},
   "outputs": [
    {
     "name": "stdout",
     "output_type": "stream",
     "text": [
      "[[ 1.45646466e+01  5.62352737e-01 -2.91406389e+01 -7.34568165e+00\n",
      "  -8.50085556e+00 -1.46219802e+00  5.41895830e-01 -8.81703917e+00\n",
      "   2.89331760e+02 -4.31882831e+01 -9.23385161e+01  6.71478333e+01\n",
      "   1.40672945e+00 -6.20269949e+00 -5.44815022e+00 -4.08305741e+00]\n",
      " [ 5.62352737e-01  2.17128922e-02 -1.12514354e+00 -2.83622685e-01\n",
      "  -3.28224880e-01 -5.64566434e-02  2.09230345e-02 -3.40432984e-01\n",
      "   1.11713323e+01 -1.66753440e+00 -3.56526448e+00  2.59263193e+00\n",
      "   5.43149572e-02 -2.39491224e-01 -2.10357469e-01 -1.57650135e-01]\n",
      " [-2.91406389e+01 -1.12514354e+00  5.83039781e+01  1.46970855e+01\n",
      "   1.70083332e+01  2.92553508e+00 -1.08421379e+00  1.76409467e+01\n",
      "  -5.78888906e+02  8.64102093e+01  1.84748963e+02 -1.34347974e+02\n",
      "  -2.81455473e+00  1.24102308e+01  1.09005445e+01  8.16929547e+00]\n",
      " [-7.34568165e+00 -2.83622685e-01  1.46970855e+01  3.70479561e+00\n",
      "   4.28740774e+00  7.37459786e-01 -2.73305241e-01  4.44687499e+00\n",
      "  -1.45924515e+02  2.17820169e+01  4.65709441e+01 -3.38660195e+01\n",
      "  -7.09484204e-01  3.12833239e+00  2.74777536e+00  2.05929060e+00]\n",
      " [-8.50085556e+00 -3.28224880e-01  1.70083332e+01  4.28740774e+00\n",
      "   4.96164082e+00  8.53431910e-01 -3.16284926e-01  5.14618571e+00\n",
      "  -1.68872446e+02  2.52074332e+01  5.38946401e+01 -3.91917529e+01\n",
      "  -8.21056919e-01  3.62029055e+00  3.17988753e+00  2.38313240e+00]\n",
      " [-1.46219802e+00 -5.64566434e-02  2.92553508e+00  7.37459786e-01\n",
      "   8.53431910e-01  1.46795395e-01 -5.44028998e-02  8.85174737e-01\n",
      "  -2.90470712e+01  4.33582934e+00  9.27020059e+00 -6.74121602e+00\n",
      "  -1.41226703e-01  6.22711637e-01  5.46959682e-01  4.09913033e-01]\n",
      " [ 5.41895830e-01  2.09230345e-02 -1.08421379e+00 -2.73305241e-01\n",
      "  -3.16284926e-01 -5.44028998e-02  2.01619097e-02 -3.28048931e-01\n",
      "   1.07649487e+01 -1.60687390e+00 -3.43556958e+00  2.49831883e+00\n",
      "   5.23391225e-02 -2.30779165e-01 -2.02705219e-01 -1.51915240e-01]\n",
      " [-8.81703917e+00 -3.40432984e-01  1.76409467e+01  4.44687499e+00\n",
      "   5.14618571e+00  8.85174737e-01 -3.28048931e-01  5.33759463e+00\n",
      "  -1.75153543e+02  2.61450067e+01  5.58992150e+01 -4.06494638e+01\n",
      "  -8.51595579e-01  3.75494482e+00  3.29816131e+00  2.47177141e+00]\n",
      " [ 2.89331760e+02  1.11713323e+01 -5.78888906e+02 -1.45924515e+02\n",
      "  -1.68872446e+02 -2.90470712e+01  1.07649487e+01 -1.75153543e+02\n",
      "   5.74767582e+03 -8.57950232e+02 -1.83433667e+03  1.33391501e+03\n",
      "   2.79451688e+01 -1.23218778e+02 -1.08229395e+02 -8.11113524e+01]\n",
      " [-4.31882831e+01 -1.66753440e+00  8.64102093e+01  2.17820169e+01\n",
      "   2.52074332e+01  4.33582934e+00 -1.60687390e+00  2.61450067e+01\n",
      "  -8.57950232e+02  1.28065434e+02  2.73809731e+02 -1.99112255e+02\n",
      "  -4.17134939e+00  1.83927526e+01  1.61553013e+01  1.21074162e+01]\n",
      " [-9.23385161e+01 -3.56526448e+00  1.84748963e+02  4.65709441e+01\n",
      "   5.38946401e+01  9.27020059e+00 -3.43556958e+00  5.58992150e+01\n",
      "  -1.83433667e+03  2.73809731e+02  5.85417675e+02 -4.25711069e+02\n",
      "  -8.91853497e+00  3.93245426e+01  3.45407699e+01  2.58862073e+01]\n",
      " [ 6.71478333e+01  2.59263193e+00 -1.34347974e+02 -3.38660195e+01\n",
      "  -3.91917529e+01 -6.74121602e+00  2.49831883e+00 -4.06494638e+01\n",
      "   1.33391501e+03 -1.99112255e+02 -4.25711069e+02  3.09573698e+02\n",
      "   6.48548758e+00 -2.85964941e+01 -2.51177727e+01 -1.88242437e+01]\n",
      " [ 1.40672945e+00  5.43149572e-02 -2.81455473e+00 -7.09484204e-01\n",
      "  -8.21056919e-01 -1.41226703e-01  5.23391225e-02 -8.51595579e-01\n",
      "   2.79451688e+01 -4.17134939e+00 -8.91853497e+00  6.48548758e+00\n",
      "   1.35869260e-01 -5.99089033e-01 -5.26210733e-01 -3.94362957e-01]\n",
      " [-6.20269949e+00 -2.39491224e-01  1.24102308e+01  3.12833239e+00\n",
      "   3.62029055e+00  6.22711637e-01 -2.30779165e-01  3.75494482e+00\n",
      "  -1.23218778e+02  1.83927526e+01  3.93245426e+01 -2.85964941e+01\n",
      "  -5.99089033e-01  2.64156639e+00  2.32022373e+00  1.73886664e+00]\n",
      " [-5.44815022e+00 -2.10357469e-01  1.09005445e+01  2.74777536e+00\n",
      "   3.17988753e+00  5.46959682e-01 -2.02705219e-01  3.29816131e+00\n",
      "  -1.08229395e+02  1.61553013e+01  3.45407699e+01 -2.51177727e+01\n",
      "  -5.26210733e-01  2.32022373e+00  2.03797192e+00  1.52733607e+00]\n",
      " [-4.08305741e+00 -1.57650135e-01  8.16929547e+00  2.05929060e+00\n",
      "   2.38313240e+00  4.09913033e-01 -1.51915240e-01  2.47177141e+00\n",
      "  -8.11113524e+01  1.21074162e+01  2.58862073e+01 -1.88242437e+01\n",
      "  -3.94362957e-01  1.73886664e+00  1.52733607e+00  1.14464554e+00]]\n"
     ]
    }
   ],
   "source": [
    "# Load in the blockwise nuwrounisim cov matrix\n",
    "\n",
    "nuWro_unisim = pd.read_csv(\"nuWro_extra_unisim_uncertainties_lepton_comb_\"+ending+\".csv\", header=None)\n",
    "\n",
    "nuWro_unisim = nuWro_unisim.values\n",
    "print(nuWro_unisim)"
   ]
  },
  {
   "cell_type": "code",
   "execution_count": 16,
   "id": "86e82551",
   "metadata": {},
   "outputs": [],
   "source": [
    "##### Now make the total cov matrix\n",
    "\n",
    "total_noTune_input_cov = nue_numu_cov_stats + blockwise_genie_err + nuWro_unisim"
   ]
  },
  {
   "cell_type": "code",
   "execution_count": 17,
   "id": "d8f0a80d",
   "metadata": {},
   "outputs": [
    {
     "data": {
      "image/png": "[encoded data removed]",
      "text/plain": [
       "<Figure size 720x432 with 2 Axes>"
      ]
     },
     "metadata": {
      "needs_background": "light"
     },
     "output_type": "display_data"
    }
   ],
   "source": [
    "fig = plt.figure(figsize=(10, 6))\n",
    "\n",
    "plt.pcolor(bins, bins, total_noTune_input_cov, cmap='OrRd', edgecolors='k')\n",
    "\n",
    "cbar = plt.colorbar()\n",
    "cbar.ax.tick_params(labelsize=14)\n",
    "#if pot: \n",
    "#    cbar.set_label(label=\"$\\\\nu^{2}$ / \"+pot+\"$^{2}$\", fontsize=15)\n",
    "\n",
    "plt.xlim(bins[0], bins[-1])\n",
    "plt.ylim(bins[0], bins[-1])\n",
    "\n",
    "\n",
    "plt.xlabel(\"Bin Number\", fontsize=15)\n",
    "plt.ylabel(\"Bin Number\", fontsize=15)\n",
    "\n",
    "plt.title('Covariance Matrix (MECTune)', fontsize=16)\n",
    "\n",
    "\n",
    "plt.savefig(\"data_covmat_MC_MECTune_input_leptonMom_comb_\"+ending+\".svg\", bbox_inches='tight')\n",
    "\n",
    "plt.show()"
   ]
  },
  {
   "cell_type": "code",
   "execution_count": 18,
   "id": "c3fa84cb",
   "metadata": {},
   "outputs": [],
   "source": [
    "np.savetxt(\"data_covmat_MC_MECTune_input_leptonMom_comb_\"+ending+\".csv\", \n",
    "           total_noTune_input_cov,\n",
    "           delimiter =\", \", \n",
    "           fmt ='% s')"
   ]
  },
  {
   "cell_type": "code",
   "execution_count": null,
   "id": "f1216474",
   "metadata": {},
   "outputs": [],
   "source": []
  }
 ],
 "metadata": {
  "kernelspec": {
   "display_name": "Python 3 (ipykernel)",
   "language": "python",
   "name": "python3"
  },
  "language_info": {
   "codemirror_mode": {
    "name": "ipython",
    "version": 3
   },
   "file_extension": ".py",
   "mimetype": "text/x-python",
   "name": "python",
   "nbconvert_exporter": "python",
   "pygments_lexer": "ipython3",
   "version": "3.8.12"
  }
 },
 "nbformat": 4,
 "nbformat_minor": 5
}
