{
 "cells": [
  {
   "cell_type": "code",
   "execution_count": 1,
   "id": "2879806d",
   "metadata": {},
   "outputs": [
    {
     "name": "stdout",
     "output_type": "stream",
     "text": [
      "Welcome to JupyROOT 6.24/02\n"
     ]
    }
   ],
   "source": [
    "import sys\n",
    "\n",
    "#sys.path.insert(0, 'backend_functions')\n",
    "\n",
    "#import selection_functions as sf\n",
    "\n",
    "import importlib\n",
    "\n",
    "import uproot\n",
    "import matplotlib.pylab as pylab\n",
    "import numpy as np\n",
    "import math\n",
    "from sklearn.model_selection import train_test_split\n",
    "import pickle\n",
    "import xgboost as xgb\n",
    "\n",
    "import awkward\n",
    "import matplotlib.pyplot as plt\n",
    "import pandas as pd\n",
    "\n",
    "import ROOT\n",
    "from ROOT import TH1F, TH2F, TDirectory, TH1D\n",
    "\n",
    "from matplotlib import gridspec\n"
   ]
  },
  {
   "cell_type": "code",
   "execution_count": 2,
   "id": "cdd417ad",
   "metadata": {},
   "outputs": [],
   "source": [
    "ending = \"Dec19_noTune\""
   ]
  },
  {
   "cell_type": "code",
   "execution_count": 3,
   "id": "8b14eea6",
   "metadata": {},
   "outputs": [],
   "source": [
    "##Regular tune prior true and smearcept to be used\n",
    "\n",
    "\n",
    "#prior true\n",
    "#\"nue_full_500_catsel_nopions_angleDiff_usingSelection_prior_true_signal_blockwise_recoCut_comb_\"+ending+\".csv\""
   ]
  },
  {
   "cell_type": "code",
   "execution_count": 4,
   "id": "c7c3f6cb",
   "metadata": {},
   "outputs": [
    {
     "name": "stdout",
     "output_type": "stream",
     "text": [
      "[155.29271785  15.33352131  10.9478483    5.96303402   3.18888814\n",
      "   2.74037327   2.02905916   3.47225477]\n",
      "\n",
      "[1040.10610024  323.62419437  212.82975114  137.61698011   92.90787021\n",
      "   59.2203096    36.76615492   59.06312476]\n"
     ]
    }
   ],
   "source": [
    "####Load in noTune full event counts\n",
    "\n",
    "nue_data_signal = pd.read_csv(\"nue_full_500_catsel_nopions_recoE_usingSelection_full_evt_count_MCONLY_recoCut_comb_\"+ending+\".csv\", header=None)\n",
    "\n",
    "nue_data_signal = nue_data_signal.values[:, 0]\n",
    "\n",
    "print(nue_data_signal)\n",
    "print(\"\")\n",
    "\n",
    "######\n",
    "\n",
    "numu_data_signal = pd.read_csv(\"numu_full_500_catsel_nopions_recoE_usingSelection_full_evt_count_MCONLY_recoCut_comb_\"+ending+\".csv\", header=None)\n",
    "\n",
    "numu_data_signal = numu_data_signal.values[:, 0]\n",
    "\n",
    "print(numu_data_signal)"
   ]
  },
  {
   "cell_type": "code",
   "execution_count": 5,
   "id": "a999b771",
   "metadata": {},
   "outputs": [
    {
     "name": "stdout",
     "output_type": "stream",
     "text": [
      "[62.59224335  5.55573535  5.02205593  2.00620096  0.97365075  1.10218284\n",
      "  1.1300239   1.42903398]\n",
      "\n",
      "[415.01103581 119.69596297  89.30328865  60.57022222  38.65368768\n",
      "  24.6720737   15.53150675  25.7901954 ]\n",
      "\n"
     ]
    }
   ],
   "source": [
    "###Load in regular tune bkg event counts\n",
    "#Include ext in bkg count here as the full event counts do\n",
    "\n",
    "ending = \"Dec19\" #need this ending as bkg is from regular tune\n",
    "\n",
    "\n",
    "\n",
    "nue_bkg_inc_ext = pd.read_csv(\"nue_nopions_energy_usingSelection_comb_cv_nue_bkg_incExt_\"+ending+\".csv\", header=None)\n",
    "\n",
    "nue_bkg_inc_ext = nue_bkg_inc_ext.values[:, 0]\n",
    "\n",
    "print(nue_bkg_inc_ext)\n",
    "print(\"\")\n",
    "\n",
    "#######################\n",
    "\n",
    "numu_bkg_inc_ext = pd.read_csv(\"numu_nopions_energy_usingSelection_comb_cv_numu_bkg_incExt_\"+ending+\".csv\", header=None)\n",
    "\n",
    "numu_bkg_inc_ext = numu_bkg_inc_ext.values[:, 0]\n",
    "\n",
    "print(numu_bkg_inc_ext)\n",
    "print(\"\")"
   ]
  },
  {
   "cell_type": "code",
   "execution_count": 6,
   "id": "0fe6cc8a",
   "metadata": {},
   "outputs": [
    {
     "name": "stdout",
     "output_type": "stream",
     "text": [
      "[92.7004745   9.77778595  5.92579236  3.95683307  2.21523738  1.63819044\n",
      "  0.89903526  2.04322079]\n",
      "\n",
      "[625.09506443 203.9282314  123.5264625   77.04675789  54.25418253\n",
      "  34.5482359   21.23464817  33.27292936]\n"
     ]
    }
   ],
   "source": [
    "####So then can calculate the data signal input to the unfolding\n",
    "\n",
    "nue_datasig_bkg_subtracted = nue_data_signal - nue_bkg_inc_ext\n",
    "print(nue_datasig_bkg_subtracted)\n",
    "print(\"\")\n",
    "\n",
    "numu_datasig_bkg_subtracted = numu_data_signal - numu_bkg_inc_ext\n",
    "print(numu_datasig_bkg_subtracted)"
   ]
  },
  {
   "cell_type": "code",
   "execution_count": 7,
   "id": "1d47fce7",
   "metadata": {},
   "outputs": [
    {
     "name": "stdout",
     "output_type": "stream",
     "text": [
      "[ 92.7004745    9.77778595   5.92579236   3.95683307   2.21523738\n",
      "   1.63819044   0.89903526   2.04322079 625.09506443 203.9282314\n",
      " 123.5264625   77.04675789  54.25418253  34.5482359   21.23464817\n",
      "  33.27292936]\n",
      "16\n"
     ]
    }
   ],
   "source": [
    "nue_numu_tot = np.concatenate((nue_datasig_bkg_subtracted, numu_datasig_bkg_subtracted), axis=0)\n",
    "\n",
    "print(nue_numu_tot)\n",
    "print(len(nue_numu_tot))"
   ]
  },
  {
   "cell_type": "code",
   "execution_count": 8,
   "id": "237e5524",
   "metadata": {},
   "outputs": [
    {
     "data": {
      "image/png": "[encoded data removed]",
      "text/plain": [
       "<Figure size 576x504 with 1 Axes>"
      ]
     },
     "metadata": {
      "needs_background": "light"
     },
     "output_type": "display_data"
    }
   ],
   "source": [
    "nue_numu_fig = plt.figure(figsize=(8, 7))\n",
    "nue_numu_gs = gridspec.GridSpec(2, 1, height_ratios=[2, 1])\n",
    "nue_numu_ax1 = plt.subplot(nue_numu_gs[0])\n",
    "\n",
    "\n",
    "#bins = np.arange(0, 10.5, 0.5)\n",
    "#count = np.linspace(0.1, 9.6, 20)\n",
    "bins = np.arange(0, 17, 1)\n",
    "count = np.arange(0.0, 16.0, 1)\n",
    "\n",
    "\n",
    "sel_ratio = nue_numu_ax1.hist(count, bins, edgecolor='red', facecolor='red', weights=nue_numu_tot)\n",
    "nue_numu_ax1.set_ylabel('Count', fontsize=15)\n",
    "nue_numu_ax1.set_xlabel('Bin Number', fontsize=15)\n",
    "nue_numu_ax1.set_title(\"Nue, Numu, Data Selected Values\")\n",
    "#leg = nue_numu_ax1.legend()\n",
    "#nue_numu_ax1.set_ylim([0, 1])\n",
    "\n",
    "nue_numu_fig.savefig(\"data_signal_MC_noTune_input_recoE_comb_\"+ending+\".svg\", bbox_inches='tight')"
   ]
  },
  {
   "cell_type": "code",
   "execution_count": 9,
   "id": "ec3bcd31",
   "metadata": {},
   "outputs": [
    {
     "name": "stdout",
     "output_type": "stream",
     "text": [
      "Dec19\n"
     ]
    }
   ],
   "source": [
    "np.savetxt(\"data_signal_MC_noTune_input_recoE_comb_\"+ending+\".csv\", \n",
    "               nue_numu_tot,\n",
    "               delimiter =\", \", \n",
    "               fmt ='% s')\n",
    "\n",
    "print(ending)"
   ]
  },
  {
   "cell_type": "code",
   "execution_count": 10,
   "id": "d36109d1",
   "metadata": {},
   "outputs": [
    {
     "name": "stdout",
     "output_type": "stream",
     "text": [
      "[14.22582665  0.56784266  0.65827362  0.40632509  0.05296263  0.16554011\n",
      "  0.19434661  0.2034021 ]\n",
      "\n",
      "[256.3376852   72.26326479  45.30174001  27.20601223  19.15894231\n",
      "  12.09108815   7.80968778  11.70766565]\n",
      "\n"
     ]
    }
   ],
   "source": [
    "####Now need to get in the uncertainties\n",
    "\n",
    "###First up, get the noTune statistical uncertinaty. This will be from sig + bkg in noTune\n",
    "\n",
    "ending = \"Dec19_noTune\" \n",
    "\n",
    "\n",
    "nue_sig_unc = pd.read_csv(\"nue_total_noTune_err_squared_energy_comb_\"+ending+\".csv\", header=None)\n",
    "\n",
    "nue_sig_unc = nue_sig_unc.values[:, 0]\n",
    "\n",
    "print(nue_sig_unc)\n",
    "print(\"\")\n",
    "\n",
    "########################\n",
    "\n",
    "numu_sig_unc = pd.read_csv(\"numu_total_noTune_err_squared_energy_comb_\"+ending+\".csv\", header=None)\n",
    "\n",
    "numu_sig_unc = numu_sig_unc.values[:, 0]\n",
    "\n",
    "print(numu_sig_unc)\n",
    "print(\"\")"
   ]
  },
  {
   "cell_type": "code",
   "execution_count": 11,
   "id": "72e1c160",
   "metadata": {},
   "outputs": [
    {
     "name": "stdout",
     "output_type": "stream",
     "text": [
      "[13.54005544  0.50655146  0.630814    0.2048277   0.01706823  0.13865351\n",
      "  0.18420521  0.16901565]\n",
      "\n",
      "[143.18992306  32.15392447  23.73478076  15.40010457  14.09497304\n",
      "   8.15430659   5.02663155   5.43286998]\n",
      "\n"
     ]
    }
   ],
   "source": [
    "####The regular tune bkg stat uncertainties\n",
    "\n",
    "ending = \"Dec19\" #need this ending as bkg is from regular tune\n",
    "\n",
    "\n",
    "nue_bkg_unc = pd.read_csv(\"nue_bkg_exp_err_squared_energy_comb_\"+ending+\".csv\", header=None)\n",
    "\n",
    "nue_bkg_unc = nue_bkg_unc.values[:, 0]\n",
    "\n",
    "print(nue_bkg_unc)\n",
    "print(\"\")\n",
    "\n",
    "########################\n",
    "\n",
    "numu_bkg_unc = pd.read_csv(\"numu_bkg_exp_err_squared_energy_comb_\"+ending+\".csv\", header=None)\n",
    "\n",
    "numu_bkg_unc = numu_bkg_unc.values[:, 0]\n",
    "\n",
    "print(numu_bkg_unc)\n",
    "print(\"\")"
   ]
  },
  {
   "cell_type": "code",
   "execution_count": 12,
   "id": "ce8bac06",
   "metadata": {},
   "outputs": [
    {
     "name": "stdout",
     "output_type": "stream",
     "text": [
      "[27.76588209  1.07439411  1.28908762  0.61115279  0.07003086  0.30419362\n",
      "  0.37855181  0.37241775]\n",
      "\n",
      "[399.52760826 104.41718926  69.03652077  42.6061168   33.25391535\n",
      "  20.24539474  12.83631933  17.14053563]\n",
      "\n",
      "[2.77658821e+01 1.07439411e+00 1.28908762e+00 6.11152787e-01\n",
      " 7.00308641e-02 3.04193615e-01 3.78551814e-01 3.72417755e-01\n",
      " 3.99527608e+02 1.04417189e+02 6.90365208e+01 4.26061168e+01\n",
      " 3.32539154e+01 2.02453947e+01 1.28363193e+01 1.71405356e+01]\n"
     ]
    }
   ],
   "source": [
    "nue_stat_unc = nue_sig_unc + nue_bkg_unc\n",
    "print(nue_stat_unc)\n",
    "print(\"\")\n",
    "\n",
    "########################\n",
    "\n",
    "numu_stat_unc = numu_sig_unc + numu_bkg_unc\n",
    "print(numu_stat_unc)\n",
    "print(\"\")\n",
    "\n",
    "#########################\n",
    "\n",
    "nue_numu_tot_unc = np.concatenate((nue_stat_unc, numu_stat_unc), axis=0)\n",
    "\n",
    "print(nue_numu_tot_unc)"
   ]
  },
  {
   "cell_type": "code",
   "execution_count": 13,
   "id": "19ba13ad",
   "metadata": {},
   "outputs": [
    {
     "name": "stdout",
     "output_type": "stream",
     "text": [
      "[[0. 0. 0. 0. 0. 0. 0. 0. 0. 0. 0. 0. 0. 0. 0. 0.]\n",
      " [0. 0. 0. 0. 0. 0. 0. 0. 0. 0. 0. 0. 0. 0. 0. 0.]\n",
      " [0. 0. 0. 0. 0. 0. 0. 0. 0. 0. 0. 0. 0. 0. 0. 0.]\n",
      " [0. 0. 0. 0. 0. 0. 0. 0. 0. 0. 0. 0. 0. 0. 0. 0.]\n",
      " [0. 0. 0. 0. 0. 0. 0. 0. 0. 0. 0. 0. 0. 0. 0. 0.]\n",
      " [0. 0. 0. 0. 0. 0. 0. 0. 0. 0. 0. 0. 0. 0. 0. 0.]\n",
      " [0. 0. 0. 0. 0. 0. 0. 0. 0. 0. 0. 0. 0. 0. 0. 0.]\n",
      " [0. 0. 0. 0. 0. 0. 0. 0. 0. 0. 0. 0. 0. 0. 0. 0.]\n",
      " [0. 0. 0. 0. 0. 0. 0. 0. 0. 0. 0. 0. 0. 0. 0. 0.]\n",
      " [0. 0. 0. 0. 0. 0. 0. 0. 0. 0. 0. 0. 0. 0. 0. 0.]\n",
      " [0. 0. 0. 0. 0. 0. 0. 0. 0. 0. 0. 0. 0. 0. 0. 0.]\n",
      " [0. 0. 0. 0. 0. 0. 0. 0. 0. 0. 0. 0. 0. 0. 0. 0.]\n",
      " [0. 0. 0. 0. 0. 0. 0. 0. 0. 0. 0. 0. 0. 0. 0. 0.]\n",
      " [0. 0. 0. 0. 0. 0. 0. 0. 0. 0. 0. 0. 0. 0. 0. 0.]\n",
      " [0. 0. 0. 0. 0. 0. 0. 0. 0. 0. 0. 0. 0. 0. 0. 0.]\n",
      " [0. 0. 0. 0. 0. 0. 0. 0. 0. 0. 0. 0. 0. 0. 0. 0.]]\n"
     ]
    }
   ],
   "source": [
    "nue_numu_cov_stats   = np.zeros([(len(bins)-1), (len(bins)-1)])\n",
    "print(nue_numu_cov_stats)"
   ]
  },
  {
   "cell_type": "code",
   "execution_count": 14,
   "id": "ded66ab1",
   "metadata": {},
   "outputs": [],
   "source": [
    "nue_numu_cov_stats[np.diag_indices_from(nue_numu_cov_stats)]    = nue_numu_tot_unc"
   ]
  },
  {
   "cell_type": "code",
   "execution_count": 15,
   "id": "f41989e6",
   "metadata": {},
   "outputs": [
    {
     "name": "stdout",
     "output_type": "stream",
     "text": [
      "[[ 7.02584754e+02  9.66961224e+01  4.72505820e+01  1.95653861e+01\n",
      "   1.55394334e+01  8.94111218e+00  9.28134248e+00  1.34670857e+01\n",
      "   4.71351688e+02  1.38674156e+02  8.23006911e+01  5.31638324e+01\n",
      "   3.38088659e+01  2.03134134e+01  1.56197023e+01  2.35509042e+01]\n",
      " [ 9.66961224e+01  1.41866669e+01  6.55743105e+00  2.65187422e+00\n",
      "   2.23032423e+00  1.19496853e+00  1.29913089e+00  1.87508348e+00\n",
      "   3.33971308e+00  3.40906010e-01 -3.90257578e+00 -2.07148673e+00\n",
      "  -1.48469940e+00 -8.33071089e-01  5.01995680e-01 -9.37515310e-01]\n",
      " [ 4.72505820e+01  6.55743105e+00  3.64302075e+00  1.39455931e+00\n",
      "   1.07560765e+00  6.63893934e-01  6.43107645e-01  9.02718599e-01\n",
      "   2.86365182e+01  1.12475099e+01  4.76837143e+00  3.80393571e+00\n",
      "   2.37646504e+00  1.35923712e+00  1.84784207e+00  1.80189479e+00]\n",
      " [ 1.95653861e+01  2.65187422e+00  1.39455931e+00  6.61086878e-01\n",
      "   4.69503414e-01  3.01099636e-01  2.41223780e-01  4.21723566e-01\n",
      "   1.81158248e+01  6.22601207e+00  5.45933666e+00  3.35201679e+00\n",
      "   2.25879371e+00  1.32656883e+00  5.78964461e-01  1.55535941e+00]\n",
      " [ 1.55394334e+01  2.23032423e+00  1.07560765e+00  4.69503414e-01\n",
      "   3.83454670e-01  2.23973572e-01  2.02104425e-01  3.24787229e-01\n",
      "   2.68872712e-01  1.01634309e-01 -4.61023759e-03  6.77197214e-03\n",
      "  -5.71127460e-03 -3.31365866e-03  4.16578970e-05  6.66598095e-03]\n",
      " [ 8.94111218e+00  1.19496853e+00  6.63893934e-01  3.01099636e-01\n",
      "   2.23973572e-01  2.33430905e-01  1.06769680e-01  1.96048508e-01\n",
      "   4.34485234e+00  1.84431215e+00  1.44665618e+00  9.62350976e-01\n",
      "   7.41423236e-01  3.15776429e-01  2.12734887e-01  4.48818056e-01]\n",
      " [ 9.28134248e+00  1.29913089e+00  6.43107645e-01  2.41223780e-01\n",
      "   2.02104425e-01  1.06769680e-01  1.73215588e-01  1.72774364e-01\n",
      "   8.02758928e+00  2.70580775e+00  1.01009584e+00  9.05694179e-01\n",
      "   3.15322906e-01  4.61137793e-01  3.26821927e-01  3.47532042e-01]\n",
      " [ 1.34670857e+01  1.87508348e+00  9.02718599e-01  4.21723566e-01\n",
      "   3.24787229e-01  1.96048508e-01  1.72774364e-01  3.15542214e-01\n",
      "   2.37798856e+01  8.10238904e+00  9.33184450e+00  5.55642847e+00\n",
      "   3.72327008e+00  2.34412895e+00  4.97597593e-01  2.24137560e+00]\n",
      " [ 4.71351688e+02  3.33971308e+00  2.86365182e+01  1.81158248e+01\n",
      "   2.68872712e-01  4.34485234e+00  8.02758928e+00  2.37798856e+01\n",
      "   2.61098784e+04  8.76769129e+03  8.73684575e+03  5.28448851e+03\n",
      "   3.53708663e+03  2.22530637e+03  6.70986042e+02  2.24852871e+03]\n",
      " [ 1.38674156e+02  3.40906010e-01  1.12475099e+01  6.22601207e+00\n",
      "   1.01634309e-01  1.84431215e+00  2.70580775e+00  8.10238904e+00\n",
      "   8.76769129e+03  3.03622810e+03  3.00582109e+03  1.82415974e+03\n",
      "   1.22716828e+03  7.71286779e+02  2.41207998e+02  7.80144879e+02]\n",
      " [ 8.23006911e+01 -3.90257578e+00  4.76837143e+00  5.45933666e+00\n",
      "  -4.61023759e-03  1.44665618e+00  1.01009584e+00  9.33184450e+00\n",
      "   8.73684575e+03  3.00582109e+03  3.30626998e+03  1.98166995e+03\n",
      "   1.33373449e+03  8.35924921e+02  2.00907742e+02  8.27834653e+02]\n",
      " [ 5.31638324e+01 -2.07148673e+00  3.80393571e+00  3.35201679e+00\n",
      "   6.77197214e-03  9.62350976e-01  9.05694179e-01  5.55642847e+00\n",
      "   5.28448851e+03  1.82415974e+03  1.98166995e+03  1.19458615e+03\n",
      "   8.01348617e+02  5.03396996e+02  1.25114939e+02  4.99431203e+02]\n",
      " [ 3.38088659e+01 -1.48469940e+00  2.37646504e+00  2.25879371e+00\n",
      "  -5.71127460e-03  7.41423236e-01  3.15322906e-01  3.72327008e+00\n",
      "   3.53708663e+03  1.22716828e+03  1.33373449e+03  8.01348617e+02\n",
      "   5.43374977e+02  3.38192831e+02  8.54281526e+01  3.36699258e+02]\n",
      " [ 2.03134134e+01 -8.33071089e-01  1.35923712e+00  1.32656883e+00\n",
      "  -3.31365866e-03  3.15776429e-01  4.61137793e-01  2.34412895e+00\n",
      "   2.22530637e+03  7.71286779e+02  8.35924921e+02  5.03396996e+02\n",
      "   3.38192831e+02  2.15027231e+02  5.34347823e+01  2.11025043e+02]\n",
      " [ 1.56197023e+01  5.01995680e-01  1.84784207e+00  5.78964461e-01\n",
      "   4.16578970e-05  2.12734887e-01  3.26821927e-01  4.97597593e-01\n",
      "   6.70986042e+02  2.41207998e+02  2.00907742e+02  1.25114939e+02\n",
      "   8.54281526e+01  5.34347823e+01  2.63274686e+01  5.57869760e+01]\n",
      " [ 2.35509042e+01 -9.37515310e-01  1.80189479e+00  1.55535941e+00\n",
      "   6.66598095e-03  4.48818056e-01  3.47532042e-01  2.24137560e+00\n",
      "   2.24852871e+03  7.80144879e+02  8.27834653e+02  4.99431203e+02\n",
      "   3.36699258e+02  2.11025043e+02  5.57869760e+01  2.14820867e+02]]\n"
     ]
    }
   ],
   "source": [
    "###Then sprinkle in the regular tune genie sys uncertainties\n",
    "\n",
    "# Load in the blockwise genie cov matrix\n",
    "\n",
    "blockwise_genie_err = pd.read_csv(\"blockwise_cov_genie_only_RecoE_comb_\"+ending+\".csv\", header=None)\n",
    "\n",
    "blockwise_genie_err = blockwise_genie_err.values\n",
    "print(blockwise_genie_err)"
   ]
  },
  {
   "cell_type": "code",
   "execution_count": 16,
   "id": "86e82551",
   "metadata": {},
   "outputs": [],
   "source": [
    "##### Now make the total cov matrix\n",
    "\n",
    "total_noTune_input_cov = nue_numu_cov_stats + blockwise_genie_err"
   ]
  },
  {
   "cell_type": "code",
   "execution_count": 17,
   "id": "54c95230",
   "metadata": {},
   "outputs": [
    {
     "data": {
      "image/png": "[encoded data removed]",
      "text/plain": [
       "<Figure size 720x432 with 2 Axes>"
      ]
     },
     "metadata": {
      "needs_background": "light"
     },
     "output_type": "display_data"
    }
   ],
   "source": [
    "fig = plt.figure(figsize=(10, 6))\n",
    "\n",
    "plt.pcolor(bins, bins, total_noTune_input_cov, cmap='OrRd', edgecolors='k')\n",
    "\n",
    "cbar = plt.colorbar()\n",
    "cbar.ax.tick_params(labelsize=14)\n",
    "#if pot: \n",
    "#    cbar.set_label(label=\"$\\\\nu^{2}$ / \"+pot+\"$^{2}$\", fontsize=15)\n",
    "\n",
    "plt.xlim(bins[0], bins[-1])\n",
    "plt.ylim(bins[0], bins[-1])\n",
    "\n",
    "\n",
    "plt.xlabel(\"cos(Reconstructed Lepton Angle)\", fontsize=15)\n",
    "plt.ylabel(\"cos(Reconstructed Lepton Angle)\", fontsize=15)\n",
    "\n",
    "plt.title('Covariance Matrix (noTune)', fontsize=16)\n",
    "\n",
    "\n",
    "plt.savefig(\"data_covmat_MC_noTune_input_recoE_comb_\"+ending+\".svg\", bbox_inches='tight')\n",
    "\n",
    "plt.show()"
   ]
  },
  {
   "cell_type": "code",
   "execution_count": 18,
   "id": "c3fa84cb",
   "metadata": {},
   "outputs": [],
   "source": [
    "np.savetxt(\"data_covmat_MC_noTune_input_recoE_comb_\"+ending+\".csv\", \n",
    "           total_noTune_input_cov,\n",
    "           delimiter =\", \", \n",
    "           fmt ='% s')"
   ]
  },
  {
   "cell_type": "code",
   "execution_count": 19,
   "id": "f1216474",
   "metadata": {},
   "outputs": [
    {
     "data": {
      "text/plain": [
       "'Dec19'"
      ]
     },
     "execution_count": 19,
     "metadata": {},
     "output_type": "execute_result"
    }
   ],
   "source": [
    "ending"
   ]
  },
  {
   "cell_type": "code",
   "execution_count": null,
   "id": "965d3def",
   "metadata": {},
   "outputs": [],
   "source": []
  }
 ],
 "metadata": {
  "kernelspec": {
   "display_name": "Python 3 (ipykernel)",
   "language": "python",
   "name": "python3"
  },
  "language_info": {
   "codemirror_mode": {
    "name": "ipython",
    "version": 3
   },
   "file_extension": ".py",
   "mimetype": "text/x-python",
   "name": "python",
   "nbconvert_exporter": "python",
   "pygments_lexer": "ipython3",
   "version": "3.8.12"
  }
 },
 "nbformat": 4,
 "nbformat_minor": 5
}
