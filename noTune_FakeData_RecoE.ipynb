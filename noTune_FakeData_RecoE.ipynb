{
 "cells": [
  {
   "cell_type": "code",
   "execution_count": 1,
   "id": "2879806d",
   "metadata": {},
   "outputs": [
    {
     "name": "stdout",
     "output_type": "stream",
     "text": [
      "Welcome to JupyROOT 6.24/02\n"
     ]
    }
   ],
   "source": [
    "import sys\n",
    "\n",
    "#sys.path.insert(0, 'backend_functions')\n",
    "\n",
    "#import selection_functions as sf\n",
    "\n",
    "import importlib\n",
    "\n",
    "import uproot\n",
    "import matplotlib.pylab as pylab\n",
    "import numpy as np\n",
    "import math\n",
    "from sklearn.model_selection import train_test_split\n",
    "import pickle\n",
    "import xgboost as xgb\n",
    "\n",
    "import awkward\n",
    "import matplotlib.pyplot as plt\n",
    "import pandas as pd\n",
    "\n",
    "import ROOT\n",
    "from ROOT import TH1F, TH2F, TDirectory, TH1D\n",
    "\n",
    "from matplotlib import gridspec\n"
   ]
  },
  {
   "cell_type": "code",
   "execution_count": 2,
   "id": "cdd417ad",
   "metadata": {},
   "outputs": [],
   "source": [
    "ending = \"Jan19_noTune\""
   ]
  },
  {
   "cell_type": "code",
   "execution_count": 3,
   "id": "8b14eea6",
   "metadata": {},
   "outputs": [],
   "source": [
    "##Regular tune prior true and smearcept to be used\n",
    "\n",
    "\n",
    "#prior true\n",
    "#\"nue_full_500_catsel_nopions_angleDiff_usingSelection_prior_true_signal_blockwise_recoCut_comb_\"+ending+\".csv\""
   ]
  },
  {
   "cell_type": "code",
   "execution_count": 4,
   "id": "c7c3f6cb",
   "metadata": {},
   "outputs": [
    {
     "name": "stdout",
     "output_type": "stream",
     "text": [
      "[36.80063248 94.1776505  39.64795618 16.91088232  5.92926141  5.50131393]\n",
      "\n",
      "[ 29.4417301  721.53485994 696.64050999 308.10392243 123.8324515\n",
      "  82.58101138]\n"
     ]
    }
   ],
   "source": [
    "####Load in noTune full event counts\n",
    "\n",
    "nue_data_signal = pd.read_csv(\"nue_full_500_catsel_nopions_recoE_usingSelection_full_evt_count_MCONLY_recoCut_comb_\"+ending+\".csv\", header=None)\n",
    "\n",
    "nue_data_signal = nue_data_signal.values[:, 0]\n",
    "\n",
    "print(nue_data_signal)\n",
    "print(\"\")\n",
    "\n",
    "######\n",
    "\n",
    "numu_data_signal = pd.read_csv(\"numu_full_500_catsel_nopions_recoE_usingSelection_full_evt_count_MCONLY_recoCut_comb_\"+ending+\".csv\", header=None)\n",
    "\n",
    "numu_data_signal = numu_data_signal.values[:, 0]\n",
    "\n",
    "print(numu_data_signal)"
   ]
  },
  {
   "cell_type": "code",
   "execution_count": 5,
   "id": "a999b771",
   "metadata": {},
   "outputs": [
    {
     "name": "stdout",
     "output_type": "stream",
     "text": [
      "[19.21965235 35.55935628 13.36897008  7.02825689  2.07583359  2.55905788]\n",
      "\n",
      "[ 12.04845879 285.47329057 267.68210436 134.33220236  54.3722367\n",
      "  35.3196804 ]\n",
      "\n"
     ]
    }
   ],
   "source": [
    "###Load in regular tune bkg event counts\n",
    "#Include ext in bkg count here as the full event counts do\n",
    "\n",
    "ending = \"Jan19\" #need this ending as bkg is from regular tune\n",
    "\n",
    "\n",
    "\n",
    "nue_bkg_inc_ext = pd.read_csv(\"nue_nopions_energy_usingSelection_comb_cv_nue_bkg_incExt_\"+ending+\".csv\", header=None)\n",
    "\n",
    "nue_bkg_inc_ext = nue_bkg_inc_ext.values[:, 0]\n",
    "\n",
    "print(nue_bkg_inc_ext)\n",
    "print(\"\")\n",
    "\n",
    "#######################\n",
    "\n",
    "numu_bkg_inc_ext = pd.read_csv(\"numu_nopions_energy_usingSelection_comb_cv_numu_bkg_incExt_\"+ending+\".csv\", header=None)\n",
    "\n",
    "numu_bkg_inc_ext = numu_bkg_inc_ext.values[:, 0]\n",
    "\n",
    "print(numu_bkg_inc_ext)\n",
    "print(\"\")"
   ]
  },
  {
   "cell_type": "code",
   "execution_count": 6,
   "id": "0fe6cc8a",
   "metadata": {},
   "outputs": [
    {
     "name": "stdout",
     "output_type": "stream",
     "text": [
      "[17.58098013 58.61829422 26.2789861   9.88262543  3.85342782  2.94225605]\n",
      "\n",
      "[ 17.39327131 436.06156937 428.95840563 173.77172008  69.4602148\n",
      "  47.26133098]\n"
     ]
    }
   ],
   "source": [
    "####So then can calculate the data signal input to the unfolding\n",
    "\n",
    "nue_datasig_bkg_subtracted = nue_data_signal - nue_bkg_inc_ext\n",
    "print(nue_datasig_bkg_subtracted)\n",
    "print(\"\")\n",
    "\n",
    "numu_datasig_bkg_subtracted = numu_data_signal - numu_bkg_inc_ext\n",
    "print(numu_datasig_bkg_subtracted)"
   ]
  },
  {
   "cell_type": "code",
   "execution_count": 7,
   "id": "1d47fce7",
   "metadata": {},
   "outputs": [
    {
     "name": "stdout",
     "output_type": "stream",
     "text": [
      "[ 17.58098013  58.61829422  26.2789861    9.88262543   3.85342782\n",
      "   2.94225605  17.39327131 436.06156937 428.95840563 173.77172008\n",
      "  69.4602148   47.26133098]\n",
      "12\n"
     ]
    }
   ],
   "source": [
    "nue_numu_tot = np.concatenate((nue_datasig_bkg_subtracted, numu_datasig_bkg_subtracted), axis=0)\n",
    "\n",
    "print(nue_numu_tot)\n",
    "print(len(nue_numu_tot))"
   ]
  },
  {
   "cell_type": "code",
   "execution_count": 8,
   "id": "237e5524",
   "metadata": {},
   "outputs": [
    {
     "data": {
      "image/png": "[encoded data removed]",
      "text/plain": [
       "<Figure size 576x504 with 1 Axes>"
      ]
     },
     "metadata": {
      "needs_background": "light"
     },
     "output_type": "display_data"
    }
   ],
   "source": [
    "nue_numu_fig = plt.figure(figsize=(8, 7))\n",
    "nue_numu_gs = gridspec.GridSpec(2, 1, height_ratios=[2, 1])\n",
    "nue_numu_ax1 = plt.subplot(nue_numu_gs[0])\n",
    "\n",
    "\n",
    "#bins = np.arange(0, 10.5, 0.5)\n",
    "#count = np.linspace(0.1, 9.6, 20)\n",
    "bins = np.arange(0, 13, 1)\n",
    "count = np.arange(0.0, 12.0, 1)\n",
    "\n",
    "\n",
    "sel_ratio = nue_numu_ax1.hist(count, bins, edgecolor='red', facecolor='red', weights=nue_numu_tot)\n",
    "nue_numu_ax1.set_ylabel('Count', fontsize=15)\n",
    "nue_numu_ax1.set_xlabel('Bin Number', fontsize=15)\n",
    "nue_numu_ax1.set_title(\"Nue, Numu, Data Selected Values\")\n",
    "#leg = nue_numu_ax1.legend()\n",
    "#nue_numu_ax1.set_ylim([0, 1])\n",
    "\n",
    "nue_numu_fig.savefig(\"data_signal_MC_noTune_input_recoE_comb_\"+ending+\".svg\", bbox_inches='tight')"
   ]
  },
  {
   "cell_type": "code",
   "execution_count": 9,
   "id": "ec3bcd31",
   "metadata": {},
   "outputs": [
    {
     "name": "stdout",
     "output_type": "stream",
     "text": [
      "Jan19\n"
     ]
    }
   ],
   "source": [
    "np.savetxt(\"data_signal_MC_noTune_input_recoE_comb_\"+ending+\".csv\", \n",
    "               nue_numu_tot,\n",
    "               delimiter =\", \", \n",
    "               fmt ='% s')\n",
    "\n",
    "print(ending)"
   ]
  },
  {
   "cell_type": "code",
   "execution_count": 10,
   "id": "d36109d1",
   "metadata": {},
   "outputs": [
    {
     "name": "stdout",
     "output_type": "stream",
     "text": [
      "[5.60917871 7.76765928 1.41683132 1.0645987  0.21850274 0.39774871]\n",
      "\n",
      "[  7.04103816 182.33098987 158.17506451  62.61607115  25.07203033\n",
      "  16.64089209]\n",
      "\n"
     ]
    }
   ],
   "source": [
    "####Now need to get in the uncertainties\n",
    "\n",
    "###First up, get the noTune statistical uncertinaty. This will be from sig + bkg in noTune\n",
    "\n",
    "ending = \"Jan19_noTune\" \n",
    "\n",
    "\n",
    "nue_sig_unc = pd.read_csv(\"nue_total_noTune_err_squared_energy_comb_\"+ending+\".csv\", header=None)\n",
    "\n",
    "nue_sig_unc = nue_sig_unc.values[:, 0]\n",
    "\n",
    "print(nue_sig_unc)\n",
    "print(\"\")\n",
    "\n",
    "########################\n",
    "\n",
    "numu_sig_unc = pd.read_csv(\"numu_total_noTune_err_squared_energy_comb_\"+ending+\".csv\", header=None)\n",
    "\n",
    "numu_sig_unc = numu_sig_unc.values[:, 0]\n",
    "\n",
    "print(numu_sig_unc)\n",
    "print(\"\")"
   ]
  },
  {
   "cell_type": "code",
   "execution_count": 11,
   "id": "72e1c160",
   "metadata": {},
   "outputs": [
    {
     "name": "stdout",
     "output_type": "stream",
     "text": [
      "[5.65827009 7.22904869 1.1592881  0.8356417  0.15572174 0.35322086]\n",
      "\n",
      "[  6.27232845 101.31446365  75.88071481  34.04410151  22.12514915\n",
      "   7.55075645]\n",
      "\n"
     ]
    }
   ],
   "source": [
    "####The regular tune bkg stat uncertainties\n",
    "\n",
    "ending = \"Jan19\" #need this ending as bkg is from regular tune\n",
    "\n",
    "\n",
    "nue_bkg_unc = pd.read_csv(\"nue_bkg_exp_err_squared_energy_comb_\"+ending+\".csv\", header=None)\n",
    "\n",
    "nue_bkg_unc = nue_bkg_unc.values[:, 0]\n",
    "\n",
    "print(nue_bkg_unc)\n",
    "print(\"\")\n",
    "\n",
    "########################\n",
    "\n",
    "numu_bkg_unc = pd.read_csv(\"numu_bkg_exp_err_squared_energy_comb_\"+ending+\".csv\", header=None)\n",
    "\n",
    "numu_bkg_unc = numu_bkg_unc.values[:, 0]\n",
    "\n",
    "print(numu_bkg_unc)\n",
    "print(\"\")"
   ]
  },
  {
   "cell_type": "code",
   "execution_count": 12,
   "id": "ce8bac06",
   "metadata": {},
   "outputs": [
    {
     "name": "stdout",
     "output_type": "stream",
     "text": [
      "[11.2674488  14.99670798  2.57611942  1.90024041  0.37422448  0.75096957]\n",
      "\n",
      "[ 13.3133666  283.64545352 234.05577933  96.66017266  47.19717948\n",
      "  24.19164854]\n",
      "\n",
      "[ 11.2674488   14.99670798   2.57611942   1.90024041   0.37422448\n",
      "   0.75096957  13.3133666  283.64545352 234.05577933  96.66017266\n",
      "  47.19717948  24.19164854]\n"
     ]
    }
   ],
   "source": [
    "nue_stat_unc = nue_sig_unc + nue_bkg_unc\n",
    "print(nue_stat_unc)\n",
    "print(\"\")\n",
    "\n",
    "########################\n",
    "\n",
    "numu_stat_unc = numu_sig_unc + numu_bkg_unc\n",
    "print(numu_stat_unc)\n",
    "print(\"\")\n",
    "\n",
    "#########################\n",
    "\n",
    "nue_numu_tot_unc = np.concatenate((nue_stat_unc, numu_stat_unc), axis=0)\n",
    "\n",
    "print(nue_numu_tot_unc)"
   ]
  },
  {
   "cell_type": "code",
   "execution_count": 13,
   "id": "19ba13ad",
   "metadata": {},
   "outputs": [
    {
     "name": "stdout",
     "output_type": "stream",
     "text": [
      "[[0. 0. 0. 0. 0. 0. 0. 0. 0. 0. 0. 0.]\n",
      " [0. 0. 0. 0. 0. 0. 0. 0. 0. 0. 0. 0.]\n",
      " [0. 0. 0. 0. 0. 0. 0. 0. 0. 0. 0. 0.]\n",
      " [0. 0. 0. 0. 0. 0. 0. 0. 0. 0. 0. 0.]\n",
      " [0. 0. 0. 0. 0. 0. 0. 0. 0. 0. 0. 0.]\n",
      " [0. 0. 0. 0. 0. 0. 0. 0. 0. 0. 0. 0.]\n",
      " [0. 0. 0. 0. 0. 0. 0. 0. 0. 0. 0. 0.]\n",
      " [0. 0. 0. 0. 0. 0. 0. 0. 0. 0. 0. 0.]\n",
      " [0. 0. 0. 0. 0. 0. 0. 0. 0. 0. 0. 0.]\n",
      " [0. 0. 0. 0. 0. 0. 0. 0. 0. 0. 0. 0.]\n",
      " [0. 0. 0. 0. 0. 0. 0. 0. 0. 0. 0. 0.]\n",
      " [0. 0. 0. 0. 0. 0. 0. 0. 0. 0. 0. 0.]]\n"
     ]
    }
   ],
   "source": [
    "nue_numu_cov_stats   = np.zeros([(len(bins)-1), (len(bins)-1)])\n",
    "print(nue_numu_cov_stats)"
   ]
  },
  {
   "cell_type": "code",
   "execution_count": 14,
   "id": "ded66ab1",
   "metadata": {},
   "outputs": [],
   "source": [
    "nue_numu_cov_stats[np.diag_indices_from(nue_numu_cov_stats)]    = nue_numu_tot_unc"
   ]
  },
  {
   "cell_type": "code",
   "execution_count": 15,
   "id": "f41989e6",
   "metadata": {},
   "outputs": [
    {
     "name": "stdout",
     "output_type": "stream",
     "text": [
      "[[2.53017148e+01 7.99407377e+01 3.99007309e+01 1.26380588e+01\n",
      "  4.54239104e+00 4.57004876e+00 1.81604317e+01 5.05284250e+02\n",
      "  5.65974539e+02 3.33914439e+02 1.05960908e+02 7.85345339e+01]\n",
      " [7.99407377e+01 3.08108472e+02 1.62251623e+02 4.71041703e+01\n",
      "  1.69882573e+01 1.83169989e+01 5.28640247e+01 1.81795820e+03\n",
      "  2.19221301e+03 1.40647066e+03 4.31347278e+02 3.11483241e+02]\n",
      " [3.99007309e+01 1.62251623e+02 8.90573718e+01 2.47740106e+01\n",
      "  9.02293871e+00 9.86893150e+00 2.57474340e+01 9.45957267e+02\n",
      "  1.18265161e+03 7.82946291e+02 2.38548628e+02 1.71617214e+02]\n",
      " [1.26380588e+01 4.71041703e+01 2.47740106e+01 8.21778604e+00\n",
      "  2.84539621e+00 2.87104210e+00 8.10721565e+00 2.86469603e+02\n",
      "  3.53382346e+02 2.17248914e+02 6.95344904e+01 5.02987675e+01]\n",
      " [4.54239104e+00 1.69882573e+01 9.02293871e+00 2.84539621e+00\n",
      "  1.12641799e+00 1.05321463e+00 2.87655813e+00 1.03590365e+02\n",
      "  1.27825784e+02 7.88274574e+01 2.52781268e+01 1.81911519e+01]\n",
      " [4.57004876e+00 1.83169989e+01 9.86893150e+00 2.87104210e+00\n",
      "  1.05321463e+00 1.15857641e+00 2.95056537e+00 1.07758001e+02\n",
      "  1.33168595e+02 8.56762470e+01 2.66534073e+01 1.91075502e+01]\n",
      " [1.81604317e+01 5.28640247e+01 2.57474340e+01 8.10721565e+00\n",
      "  2.87655813e+00 2.95056537e+00 1.52818394e+01 3.45524909e+02\n",
      "  3.62275148e+02 2.10704820e+02 6.60258967e+01 5.03592370e+01]\n",
      " [5.05284250e+02 1.81795820e+03 9.45957267e+02 2.86469603e+02\n",
      "  1.03590365e+02 1.07758001e+02 3.45524909e+02 1.11525782e+04\n",
      "  1.31879545e+04 8.19916746e+03 2.56039934e+03 1.85338232e+03]\n",
      " [5.65974539e+02 2.19221301e+03 1.18265161e+03 3.53382346e+02\n",
      "  1.27825784e+02 1.33168595e+02 3.62275148e+02 1.31879545e+04\n",
      "  1.64295076e+04 1.04779546e+04 3.27598760e+03 2.35200402e+03]\n",
      " [3.33914439e+02 1.40647066e+03 7.82946291e+02 2.17248914e+02\n",
      "  7.88274574e+01 8.56762470e+01 2.10704820e+02 8.19916746e+03\n",
      "  1.04779546e+04 7.07458138e+03 2.14441843e+03 1.53394820e+03]\n",
      " [1.05960908e+02 4.31347278e+02 2.38548628e+02 6.95344904e+01\n",
      "  2.52781268e+01 2.66534073e+01 6.60258967e+01 2.56039934e+03\n",
      "  3.27598760e+03 2.14441843e+03 6.69516977e+02 4.76819267e+02]\n",
      " [7.85345339e+01 3.11483241e+02 1.71617214e+02 5.02987675e+01\n",
      "  1.81911519e+01 1.91075502e+01 5.03592370e+01 1.85338232e+03\n",
      "  2.35200402e+03 1.53394820e+03 4.76819267e+02 3.46638512e+02]]\n"
     ]
    }
   ],
   "source": [
    "###Then sprinkle in the regular tune genie sys uncertainties\n",
    "\n",
    "# Load in the blockwise genie cov matrix\n",
    "\n",
    "blockwise_genie_err = pd.read_csv(\"blockwise_cov_genie_only_RecoE_comb_\"+ending+\".csv\", header=None)\n",
    "\n",
    "blockwise_genie_err = blockwise_genie_err.values\n",
    "print(blockwise_genie_err)"
   ]
  },
  {
   "cell_type": "code",
   "execution_count": 16,
   "id": "6522bf90",
   "metadata": {},
   "outputs": [
    {
     "name": "stdout",
     "output_type": "stream",
     "text": [
      "[[ 8.12285715e+00 -9.86680642e+00 -1.74222042e+01 -4.65980464e+00\n",
      "  -2.81736980e+00 -3.93907429e+00  7.13867033e+01  1.86123075e+02\n",
      "  -1.15641117e+02 -1.64407563e+01  1.30600711e+01 -7.27281475e-01]\n",
      " [-9.86680642e+00  1.19851756e+01  2.11626910e+01  5.66024854e+00\n",
      "   3.42224933e+00  4.78477989e+00 -8.67131811e+01 -2.26083054e+02\n",
      "   1.40468864e+02  1.99705297e+01 -1.58640231e+01  8.83426287e-01]\n",
      " [-1.74222042e+01  2.11626910e+01  3.73677872e+01  9.99452117e+00\n",
      "   6.04279886e+00  8.44867209e+00 -1.53112839e+02 -3.99203649e+02\n",
      "   2.48031340e+02  3.52627416e+01 -2.80117232e+01  1.55990018e+00]\n",
      " [-4.65980464e+00  5.66024854e+00  9.99452117e+00  2.67317015e+00\n",
      "   1.61622846e+00  2.25971186e+00 -4.09521041e+01 -1.06772427e+02\n",
      "   6.63393437e+01  9.43149819e+00 -7.49211503e+00  4.17216446e-01]\n",
      " [-2.81736980e+00  3.42224933e+00  6.04279886e+00  1.61622846e+00\n",
      "   9.77189734e-01  1.36624697e+00 -2.47600984e+01 -6.45557989e+01\n",
      "   4.01095063e+01  5.70238889e+00 -4.52981622e+00  2.52253712e-01]\n",
      " [-3.93907429e+00  4.78477989e+00  8.44867209e+00  2.25971186e+00\n",
      "   1.36624697e+00  1.91020302e+00 -3.46180565e+01 -9.02579730e+01\n",
      "   5.60786607e+01  7.97273168e+00 -6.33331223e+00  3.52685725e-01]\n",
      " [ 7.13867033e+01 -8.67131811e+01 -1.53112839e+02 -4.09521041e+01\n",
      "  -2.47600984e+01 -3.46180565e+01  6.27373019e+02  1.63571912e+03\n",
      "  -1.01629734e+03 -1.44487509e+02  1.14776784e+02 -6.39162132e+00]\n",
      " [ 1.86123075e+02 -2.26083054e+02 -3.99203649e+02 -1.06772427e+02\n",
      "  -6.45557989e+01 -9.02579730e+01  1.63571912e+03  4.26473081e+03\n",
      "  -2.64974256e+03 -3.76715245e+02  2.99251921e+02 -1.66645630e+01]\n",
      " [-1.15641117e+02  1.40468864e+02  2.48031340e+02  6.63393437e+01\n",
      "   4.01095063e+01  5.60786607e+01 -1.01629734e+03 -2.64974256e+03\n",
      "   1.64632562e+03  2.34058950e+02 -1.85929801e+02  1.03539482e+01]\n",
      " [-1.64407563e+01  1.99705297e+01  3.52627416e+01  9.43149819e+00\n",
      "   5.70238889e+00  7.97273168e+00 -1.44487509e+02 -3.76715245e+02\n",
      "   2.34058950e+02  3.32762799e+01 -2.64337342e+01  1.47202607e+00]\n",
      " [ 1.30600711e+01 -1.58640231e+01 -2.80117232e+01 -7.49211503e+00\n",
      "  -4.52981622e+00 -6.33331223e+00  1.14776784e+02  2.99251921e+02\n",
      "  -1.85929801e+02 -2.64337342e+01  2.09982098e+01 -1.16933582e+00]\n",
      " [-7.27281475e-01  8.83426287e-01  1.55990018e+00  4.17216446e-01\n",
      "   2.52253712e-01  3.52685725e-01 -6.39162132e+00 -1.66645630e+01\n",
      "   1.03539482e+01  1.47202607e+00 -1.16933582e+00  6.51172777e-02]]\n"
     ]
    }
   ],
   "source": [
    "# Load in the blockwise nuwrounisim cov matrix\n",
    "\n",
    "nuWro_unisim = pd.read_csv(\"nuWro_extra_unisim_uncertainties_energy_comb_\"+ending+\".csv\", header=None)\n",
    "\n",
    "nuWro_unisim = nuWro_unisim.values\n",
    "print(nuWro_unisim)"
   ]
  },
  {
   "cell_type": "code",
   "execution_count": 17,
   "id": "86e82551",
   "metadata": {},
   "outputs": [],
   "source": [
    "##### Now make the total cov matrix\n",
    "\n",
    "total_noTune_input_cov = nue_numu_cov_stats + blockwise_genie_err + nuWro_unisim"
   ]
  },
  {
   "cell_type": "code",
   "execution_count": 18,
   "id": "54c95230",
   "metadata": {},
   "outputs": [
    {
     "data": {
      "image/png": "[encoded data removed]",
      "text/plain": [
       "<Figure size 720x432 with 2 Axes>"
      ]
     },
     "metadata": {
      "needs_background": "light"
     },
     "output_type": "display_data"
    }
   ],
   "source": [
    "fig = plt.figure(figsize=(10, 6))\n",
    "\n",
    "plt.pcolor(bins, bins, total_noTune_input_cov, cmap='OrRd', edgecolors='k')\n",
    "\n",
    "cbar = plt.colorbar()\n",
    "cbar.ax.tick_params(labelsize=14)\n",
    "#if pot: \n",
    "#    cbar.set_label(label=\"$\\\\nu^{2}$ / \"+pot+\"$^{2}$\", fontsize=15)\n",
    "\n",
    "plt.xlim(bins[0], bins[-1])\n",
    "plt.ylim(bins[0], bins[-1])\n",
    "\n",
    "\n",
    "plt.xlabel(\"Bin Number\", fontsize=15)\n",
    "plt.ylabel(\"Bin Number\", fontsize=15)\n",
    "\n",
    "plt.title('Covariance Matrix (noTune)', fontsize=16)\n",
    "\n",
    "\n",
    "plt.savefig(\"data_covmat_MC_noTune_input_recoE_comb_\"+ending+\".svg\", bbox_inches='tight')\n",
    "\n",
    "plt.show()"
   ]
  },
  {
   "cell_type": "code",
   "execution_count": 23,
   "id": "c3fa84cb",
   "metadata": {},
   "outputs": [],
   "source": [
    "np.savetxt(\"data_covmat_MC_noTune_input_recoE_comb_\"+ending+\".csv\", \n",
    "           total_noTune_input_cov,\n",
    "           delimiter =\", \", \n",
    "           fmt ='% s')"
   ]
  },
  {
   "cell_type": "code",
   "execution_count": 24,
   "id": "f1216474",
   "metadata": {},
   "outputs": [
    {
     "data": {
      "text/plain": [
       "'Jan19'"
      ]
     },
     "execution_count": 24,
     "metadata": {},
     "output_type": "execute_result"
    }
   ],
   "source": [
    "ending"
   ]
  },
  {
   "cell_type": "code",
   "execution_count": null,
   "id": "965d3def",
   "metadata": {},
   "outputs": [],
   "source": []
  }
 ],
 "metadata": {
  "kernelspec": {
   "display_name": "Python 3 (ipykernel)",
   "language": "python",
   "name": "python3"
  },
  "language_info": {
   "codemirror_mode": {
    "name": "ipython",
    "version": 3
   },
   "file_extension": ".py",
   "mimetype": "text/x-python",
   "name": "python",
   "nbconvert_exporter": "python",
   "pygments_lexer": "ipython3",
   "version": "3.8.12"
  }
 },
 "nbformat": 4,
 "nbformat_minor": 5
}
