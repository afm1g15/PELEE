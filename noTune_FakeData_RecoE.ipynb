{
 "cells": [
  {
   "cell_type": "code",
   "execution_count": 5,
   "id": "2879806d",
   "metadata": {},
   "outputs": [],
   "source": [
    "import sys\n",
    "\n",
    "#sys.path.insert(0, 'backend_functions')\n",
    "\n",
    "#import selection_functions as sf\n",
    "\n",
    "import importlib\n",
    "\n",
    "import uproot\n",
    "import matplotlib.pylab as pylab\n",
    "import numpy as np\n",
    "import math\n",
    "from sklearn.model_selection import train_test_split\n",
    "import pickle\n",
    "import xgboost as xgb\n",
    "\n",
    "import awkward\n",
    "import matplotlib.pyplot as plt\n",
    "import pandas as pd\n",
    "\n",
    "import ROOT\n",
    "from ROOT import TH1F, TH2F, TDirectory, TH1D\n",
    "\n",
    "from matplotlib import gridspec\n"
   ]
  },
  {
   "cell_type": "code",
   "execution_count": 6,
   "id": "cdd417ad",
   "metadata": {},
   "outputs": [],
   "source": [
    "ending = \"Jan19b_noTune\""
   ]
  },
  {
   "cell_type": "code",
   "execution_count": 7,
   "id": "8b14eea6",
   "metadata": {},
   "outputs": [],
   "source": [
    "##Regular tune prior true and smearcept to be used\n",
    "\n",
    "\n",
    "#prior true\n",
    "#\"nue_full_500_catsel_nopions_angleDiff_usingSelection_prior_true_signal_blockwise_recoCut_comb_\"+ending+\".csv\""
   ]
  },
  {
   "cell_type": "code",
   "execution_count": 8,
   "id": "c7c3f6cb",
   "metadata": {},
   "outputs": [
    {
     "name": "stdout",
     "output_type": "stream",
     "text": [
      "[36.40261803 95.3835251  39.74491502 17.01811236  5.84955509  5.88084156]\n",
      "\n",
      "[ 29.14033147 722.86457166 701.73846751 309.67021241 125.75800475\n",
      "  83.17237279]\n"
     ]
    }
   ],
   "source": [
    "####Load in noTune full event counts\n",
    "\n",
    "nue_data_signal = pd.read_csv(\"nue_full_500_catsel_nopions_recoE_usingSelection_full_evt_count_MCONLY_recoCut_comb_\"+ending+\".csv\", header=None)\n",
    "\n",
    "nue_data_signal = nue_data_signal.values[:, 0]\n",
    "\n",
    "print(nue_data_signal)\n",
    "print(\"\")\n",
    "\n",
    "######\n",
    "\n",
    "numu_data_signal = pd.read_csv(\"numu_full_500_catsel_nopions_recoE_usingSelection_full_evt_count_MCONLY_recoCut_comb_\"+ending+\".csv\", header=None)\n",
    "\n",
    "numu_data_signal = numu_data_signal.values[:, 0]\n",
    "\n",
    "print(numu_data_signal)"
   ]
  },
  {
   "cell_type": "code",
   "execution_count": 9,
   "id": "a999b771",
   "metadata": {},
   "outputs": [
    {
     "name": "stdout",
     "output_type": "stream",
     "text": [
      "[18.76664423 37.45086691 13.30547888  7.30978266  1.92115632  2.9030358 ]\n",
      "\n",
      "[ 11.81627631 285.60108619 269.63682435 135.03843215  55.72084381\n",
      "  36.21829598]\n",
      "\n"
     ]
    }
   ],
   "source": [
    "###Load in regular tune bkg event counts\n",
    "#Include ext in bkg count here as the full event counts do\n",
    "\n",
    "ending = \"Jan19b\" #need this ending as bkg is from regular tune\n",
    "\n",
    "\n",
    "\n",
    "nue_bkg_inc_ext = pd.read_csv(\"nue_nopions_energy_usingSelection_comb_cv_nue_bkg_incExt_\"+ending+\".csv\", header=None)\n",
    "\n",
    "nue_bkg_inc_ext = nue_bkg_inc_ext.values[:, 0]\n",
    "\n",
    "print(nue_bkg_inc_ext)\n",
    "print(\"\")\n",
    "\n",
    "#######################\n",
    "\n",
    "numu_bkg_inc_ext = pd.read_csv(\"numu_nopions_energy_usingSelection_comb_cv_numu_bkg_incExt_\"+ending+\".csv\", header=None)\n",
    "\n",
    "numu_bkg_inc_ext = numu_bkg_inc_ext.values[:, 0]\n",
    "\n",
    "print(numu_bkg_inc_ext)\n",
    "print(\"\")"
   ]
  },
  {
   "cell_type": "code",
   "execution_count": 10,
   "id": "0fe6cc8a",
   "metadata": {},
   "outputs": [
    {
     "name": "stdout",
     "output_type": "stream",
     "text": [
      "[17.63597381 57.93265818 26.43943614  9.70832971  3.92839877  2.97780575]\n",
      "\n",
      "[ 17.32405515 437.26348546 432.10164316 174.63178026  70.03716093\n",
      "  46.95407681]\n"
     ]
    }
   ],
   "source": [
    "####So then can calculate the data signal input to the unfolding\n",
    "\n",
    "nue_datasig_bkg_subtracted = nue_data_signal - nue_bkg_inc_ext\n",
    "print(nue_datasig_bkg_subtracted)\n",
    "print(\"\")\n",
    "\n",
    "numu_datasig_bkg_subtracted = numu_data_signal - numu_bkg_inc_ext\n",
    "print(numu_datasig_bkg_subtracted)"
   ]
  },
  {
   "cell_type": "code",
   "execution_count": 11,
   "id": "1d47fce7",
   "metadata": {},
   "outputs": [
    {
     "name": "stdout",
     "output_type": "stream",
     "text": [
      "[ 17.63597381  57.93265818  26.43943614   9.70832971   3.92839877\n",
      "   2.97780575  17.32405515 437.26348546 432.10164316 174.63178026\n",
      "  70.03716093  46.95407681]\n",
      "12\n"
     ]
    }
   ],
   "source": [
    "nue_numu_tot = np.concatenate((nue_datasig_bkg_subtracted, numu_datasig_bkg_subtracted), axis=0)\n",
    "\n",
    "print(nue_numu_tot)\n",
    "print(len(nue_numu_tot))"
   ]
  },
  {
   "cell_type": "code",
   "execution_count": 12,
   "id": "237e5524",
   "metadata": {},
   "outputs": [
    {
     "data": {
      "image/png": "[encoded data removed]",
      "text/plain": [
       "<Figure size 576x504 with 1 Axes>"
      ]
     },
     "metadata": {
      "needs_background": "light"
     },
     "output_type": "display_data"
    }
   ],
   "source": [
    "nue_numu_fig = plt.figure(figsize=(8, 7))\n",
    "nue_numu_gs = gridspec.GridSpec(2, 1, height_ratios=[2, 1])\n",
    "nue_numu_ax1 = plt.subplot(nue_numu_gs[0])\n",
    "\n",
    "\n",
    "#bins = np.arange(0, 10.5, 0.5)\n",
    "#count = np.linspace(0.1, 9.6, 20)\n",
    "bins = np.arange(0, 13, 1)\n",
    "count = np.arange(0.0, 12.0, 1)\n",
    "\n",
    "\n",
    "sel_ratio = nue_numu_ax1.hist(count, bins, edgecolor='red', facecolor='red', weights=nue_numu_tot)\n",
    "nue_numu_ax1.set_ylabel('Count', fontsize=15)\n",
    "nue_numu_ax1.set_xlabel('Bin Number', fontsize=15)\n",
    "nue_numu_ax1.set_title(\"Nue, Numu, Data Selected Values\")\n",
    "#leg = nue_numu_ax1.legend()\n",
    "#nue_numu_ax1.set_ylim([0, 1])\n",
    "\n",
    "nue_numu_fig.savefig(\"data_signal_MC_noTune_input_recoE_comb_\"+ending+\".svg\", bbox_inches='tight')"
   ]
  },
  {
   "cell_type": "code",
   "execution_count": 13,
   "id": "ec3bcd31",
   "metadata": {},
   "outputs": [
    {
     "name": "stdout",
     "output_type": "stream",
     "text": [
      "Jan19b\n"
     ]
    }
   ],
   "source": [
    "np.savetxt(\"data_signal_MC_noTune_input_recoE_comb_\"+ending+\".csv\", \n",
    "               nue_numu_tot,\n",
    "               delimiter =\", \", \n",
    "               fmt ='% s')\n",
    "\n",
    "print(ending)"
   ]
  },
  {
   "cell_type": "code",
   "execution_count": 14,
   "id": "d36109d1",
   "metadata": {},
   "outputs": [
    {
     "name": "stdout",
     "output_type": "stream",
     "text": [
      "[5.52070994 7.92439931 1.37538739 1.08142727 0.15483605 0.47566146]\n",
      "\n",
      "[  6.95957827 183.24889304 159.83069851  63.24880037  25.56631548\n",
      "  16.81810419]\n",
      "\n"
     ]
    }
   ],
   "source": [
    "####Now need to get in the uncertainties\n",
    "\n",
    "###First up, get the noTune statistical uncertinaty. This will be from sig + bkg in noTune\n",
    "\n",
    "ending = \"Jan19b_noTune\" \n",
    "\n",
    "\n",
    "nue_sig_unc = pd.read_csv(\"nue_total_noTune_err_squared_energy_comb_\"+ending+\".csv\", header=None)\n",
    "\n",
    "nue_sig_unc = nue_sig_unc.values[:, 0]\n",
    "\n",
    "print(nue_sig_unc)\n",
    "print(\"\")\n",
    "\n",
    "########################\n",
    "\n",
    "numu_sig_unc = pd.read_csv(\"numu_total_noTune_err_squared_energy_comb_\"+ending+\".csv\", header=None)\n",
    "\n",
    "numu_sig_unc = numu_sig_unc.values[:, 0]\n",
    "\n",
    "print(numu_sig_unc)\n",
    "print(\"\")"
   ]
  },
  {
   "cell_type": "code",
   "execution_count": 15,
   "id": "72e1c160",
   "metadata": {},
   "outputs": [
    {
     "name": "stdout",
     "output_type": "stream",
     "text": [
      "[5.57038553 8.66655139 1.10353238 0.87631698 0.09232464 0.43066448]\n",
      "\n",
      "[  6.22796376 101.63198884  76.73040589  34.40373344  22.51917956\n",
      "   7.77525029]\n",
      "\n"
     ]
    }
   ],
   "source": [
    "####The regular tune bkg stat uncertainties\n",
    "\n",
    "ending = \"Jan19b\" #need this ending as bkg is from regular tune\n",
    "\n",
    "\n",
    "nue_bkg_unc = pd.read_csv(\"nue_bkg_exp_err_squared_energy_comb_\"+ending+\".csv\", header=None)\n",
    "\n",
    "nue_bkg_unc = nue_bkg_unc.values[:, 0]\n",
    "\n",
    "print(nue_bkg_unc)\n",
    "print(\"\")\n",
    "\n",
    "########################\n",
    "\n",
    "numu_bkg_unc = pd.read_csv(\"numu_bkg_exp_err_squared_energy_comb_\"+ending+\".csv\", header=None)\n",
    "\n",
    "numu_bkg_unc = numu_bkg_unc.values[:, 0]\n",
    "\n",
    "print(numu_bkg_unc)\n",
    "print(\"\")"
   ]
  },
  {
   "cell_type": "code",
   "execution_count": 16,
   "id": "ce8bac06",
   "metadata": {},
   "outputs": [
    {
     "name": "stdout",
     "output_type": "stream",
     "text": [
      "[11.09109547 16.5909507   2.47891977  1.95774425  0.24716069  0.90632594]\n",
      "\n",
      "[ 13.18754203 284.88088188 236.56110441  97.65253382  48.08549504\n",
      "  24.59335449]\n",
      "\n",
      "[1.10910955e+01 1.65909507e+01 2.47891977e+00 1.95774425e+00\n",
      " 2.47160694e-01 9.06325943e-01 1.31875420e+01 2.84880882e+02\n",
      " 2.36561104e+02 9.76525338e+01 4.80854950e+01 2.45933545e+01]\n"
     ]
    }
   ],
   "source": [
    "nue_stat_unc = nue_sig_unc + nue_bkg_unc\n",
    "print(nue_stat_unc)\n",
    "print(\"\")\n",
    "\n",
    "########################\n",
    "\n",
    "numu_stat_unc = numu_sig_unc + numu_bkg_unc\n",
    "print(numu_stat_unc)\n",
    "print(\"\")\n",
    "\n",
    "#########################\n",
    "\n",
    "nue_numu_tot_unc = np.concatenate((nue_stat_unc, numu_stat_unc), axis=0)\n",
    "\n",
    "print(nue_numu_tot_unc)"
   ]
  },
  {
   "cell_type": "code",
   "execution_count": 17,
   "id": "19ba13ad",
   "metadata": {},
   "outputs": [
    {
     "name": "stdout",
     "output_type": "stream",
     "text": [
      "[[0. 0. 0. 0. 0. 0. 0. 0. 0. 0. 0. 0.]\n",
      " [0. 0. 0. 0. 0. 0. 0. 0. 0. 0. 0. 0.]\n",
      " [0. 0. 0. 0. 0. 0. 0. 0. 0. 0. 0. 0.]\n",
      " [0. 0. 0. 0. 0. 0. 0. 0. 0. 0. 0. 0.]\n",
      " [0. 0. 0. 0. 0. 0. 0. 0. 0. 0. 0. 0.]\n",
      " [0. 0. 0. 0. 0. 0. 0. 0. 0. 0. 0. 0.]\n",
      " [0. 0. 0. 0. 0. 0. 0. 0. 0. 0. 0. 0.]\n",
      " [0. 0. 0. 0. 0. 0. 0. 0. 0. 0. 0. 0.]\n",
      " [0. 0. 0. 0. 0. 0. 0. 0. 0. 0. 0. 0.]\n",
      " [0. 0. 0. 0. 0. 0. 0. 0. 0. 0. 0. 0.]\n",
      " [0. 0. 0. 0. 0. 0. 0. 0. 0. 0. 0. 0.]\n",
      " [0. 0. 0. 0. 0. 0. 0. 0. 0. 0. 0. 0.]]\n"
     ]
    }
   ],
   "source": [
    "nue_numu_cov_stats   = np.zeros([(len(bins)-1), (len(bins)-1)])\n",
    "print(nue_numu_cov_stats)"
   ]
  },
  {
   "cell_type": "code",
   "execution_count": 18,
   "id": "ded66ab1",
   "metadata": {},
   "outputs": [],
   "source": [
    "nue_numu_cov_stats[np.diag_indices_from(nue_numu_cov_stats)]    = nue_numu_tot_unc"
   ]
  },
  {
   "cell_type": "code",
   "execution_count": 19,
   "id": "f41989e6",
   "metadata": {},
   "outputs": [
    {
     "name": "stdout",
     "output_type": "stream",
     "text": [
      "[[2.47967230e+01 8.28828269e+01 4.09838586e+01 1.25762594e+01\n",
      "  4.35533006e+00 4.27936219e+00 1.77134623e+01 5.06375279e+02\n",
      "  5.61123880e+02 3.39068945e+02 1.05926005e+02 8.18387178e+01]\n",
      " [8.28828269e+01 3.52501713e+02 1.82837949e+02 5.19203605e+01\n",
      "  1.76662393e+01 1.95280639e+01 5.73165810e+01 2.00149918e+03\n",
      "  2.35457323e+03 1.56249415e+03 4.70237423e+02 3.55740031e+02]\n",
      " [4.09838586e+01 1.82837949e+02 9.73618013e+01 2.71407944e+01\n",
      "  9.20847022e+00 1.03845382e+01 2.83841689e+01 1.02765809e+03\n",
      "  1.23459545e+03 8.38533828e+02 2.51433534e+02 1.90294889e+02]\n",
      " [1.25762594e+01 5.19203605e+01 2.71407944e+01 8.48350804e+00\n",
      "  2.78815504e+00 3.00163183e+00 8.40225706e+00 3.01653068e+02\n",
      "  3.64971239e+02 2.35701704e+02 7.29689923e+01 5.53040768e+01]\n",
      " [4.35533006e+00 1.76662393e+01 9.20847022e+00 2.78815504e+00\n",
      "  1.00791070e+00 1.02626822e+00 2.91096745e+00 1.03221823e+02\n",
      "  1.23713412e+02 7.91869772e+01 2.46322298e+01 1.86399930e+01]\n",
      " [4.27936219e+00 1.95280639e+01 1.03845382e+01 3.00163183e+00\n",
      "  1.02626822e+00 1.20027871e+00 2.90583439e+00 1.09534713e+02\n",
      "  1.33694340e+02 9.01958193e+01 2.73057931e+01 2.05705791e+01]\n",
      " [1.77134623e+01 5.73165810e+01 2.83841689e+01 8.40225706e+00\n",
      "  2.91096745e+00 2.90583439e+00 1.57312377e+01 3.56543997e+02\n",
      "  3.75629912e+02 2.28143300e+02 6.98085451e+01 5.42791955e+01]\n",
      " [5.06375279e+02 2.00149918e+03 1.02765809e+03 3.01653068e+02\n",
      "  1.03221823e+02 1.09534713e+02 3.56543997e+02 1.17791229e+04\n",
      "  1.36432055e+04 8.78059577e+03 2.68391960e+03 2.02760262e+03]\n",
      " [5.61123880e+02 2.35457323e+03 1.23459545e+03 3.64971239e+02\n",
      "  1.23713412e+02 1.33694340e+02 3.75629912e+02 1.36432055e+04\n",
      "  1.64192075e+04 1.07405153e+04 3.29558361e+03 2.48479293e+03]\n",
      " [3.39068945e+02 1.56249415e+03 8.38533828e+02 2.35701704e+02\n",
      "  7.91869772e+01 9.01958193e+01 2.28143300e+02 8.78059577e+03\n",
      "  1.07405153e+04 7.41636559e+03 2.21849176e+03 1.67665803e+03]\n",
      " [1.05926005e+02 4.70237423e+02 2.51433534e+02 7.29689923e+01\n",
      "  2.46322298e+01 2.73057931e+01 6.98085451e+01 2.68391960e+03\n",
      "  3.29558361e+03 2.21849176e+03 6.79385177e+02 5.09346125e+02]\n",
      " [8.18387178e+01 3.55740031e+02 1.90294889e+02 5.53040768e+01\n",
      "  1.86399930e+01 2.05705791e+01 5.42791955e+01 2.02760262e+03\n",
      "  2.48479293e+03 1.67665803e+03 5.09346125e+02 3.91963315e+02]]\n"
     ]
    }
   ],
   "source": [
    "###Then sprinkle in the regular tune genie sys uncertainties\n",
    "\n",
    "# Load in the blockwise genie cov matrix\n",
    "\n",
    "blockwise_genie_err = pd.read_csv(\"blockwise_cov_genie_only_RecoE_comb_\"+ending+\".csv\", header=None)\n",
    "\n",
    "blockwise_genie_err = blockwise_genie_err.values\n",
    "print(blockwise_genie_err)"
   ]
  },
  {
   "cell_type": "code",
   "execution_count": 20,
   "id": "6522bf90",
   "metadata": {},
   "outputs": [
    {
     "name": "stdout",
     "output_type": "stream",
     "text": [
      "[[ 1.13420932e+01 -1.16469746e+01 -2.16173259e+01 -6.21272475e+00\n",
      "  -3.27876733e+00 -5.84342966e+00  8.38473368e+01  2.19068527e+02\n",
      "  -1.34282019e+02 -2.02666312e+01  1.40350059e+01  1.81768176e+00]\n",
      " [-1.16469746e+01  1.19600515e+01  2.21984110e+01  6.37972606e+00\n",
      "   3.36690233e+00  6.00050412e+00 -8.61011973e+01 -2.24957204e+02\n",
      "   1.37891590e+02  2.08114089e+01 -1.44122742e+01 -1.86654200e+00]\n",
      " [-2.16173259e+01  2.21984110e+01  4.12012818e+01  1.18410679e+01\n",
      "   6.24912709e+00  1.11372143e+01 -1.59807821e+02 -4.17531019e+02\n",
      "   2.55933196e+02  3.86269416e+01 -2.67498503e+01 -3.46438864e+00]\n",
      " [-6.21272475e+00  6.37972606e+00  1.18410679e+01  3.40307103e+00\n",
      "   1.79597175e+00  3.20078661e+00 -4.59280676e+01 -1.19996586e+02\n",
      "   7.35540793e+01  1.11012138e+01 -7.68778979e+00 -9.95650116e-01]\n",
      " [-3.27876733e+00  3.36690233e+00  6.24912709e+00  1.79597175e+00\n",
      "   9.47824624e-01  1.68921608e+00 -2.42385514e+01 -6.33282338e+01\n",
      "   3.88181872e+01  5.85866887e+00 -4.05723335e+00 -5.25454645e-01]\n",
      " [-5.84342966e+00  6.00050412e+00  1.11372143e+01  3.20078661e+00\n",
      "   1.68921608e+00  3.01052632e+00 -4.31980240e+01 -1.12863781e+02\n",
      "   6.91818978e+01  1.04413384e+01 -7.23081429e+00 -9.36466954e-01]\n",
      " [ 8.38473368e+01 -8.61011973e+01 -1.59807821e+02 -4.59280676e+01\n",
      "  -2.42385514e+01 -4.31980240e+01  6.19848184e+02  1.61948172e+03\n",
      "  -9.92690632e+02 -1.49822702e+02  1.03754910e+02  1.34373586e+01]\n",
      " [ 2.19068527e+02 -2.24957204e+02 -4.17531019e+02 -1.19996586e+02\n",
      "  -6.33282338e+01 -1.12863781e+02  1.61948172e+03  4.23123128e+03\n",
      "  -2.59360980e+03 -3.91442829e+02  2.71081185e+02  3.51078815e+01]\n",
      " [-1.34282019e+02  1.37891590e+02  2.55933196e+02  7.35540793e+01\n",
      "   3.88181872e+01  6.91818978e+01 -9.92690632e+02 -2.59360980e+03\n",
      "   1.58980008e+03  2.39941968e+02 -1.66164119e+02 -2.15200115e+01]\n",
      " [-2.02666312e+01  2.08114089e+01  3.86269416e+01  1.11012138e+01\n",
      "   5.85866887e+00  1.04413384e+01 -1.49822702e+02 -3.91442829e+02\n",
      "   2.39941968e+02  3.62134514e+01 -2.50784651e+01 -3.24792656e+00]\n",
      " [ 1.40350059e+01 -1.44122742e+01 -2.67498503e+01 -7.68778979e+00\n",
      "  -4.05723335e+00 -7.23081429e+00  1.03754910e+02  2.71081185e+02\n",
      "  -1.66164119e+02 -2.50784651e+01  1.73672872e+01  2.24924744e+00]\n",
      " [ 1.81768176e+00 -1.86654200e+00 -3.46438864e+00 -9.95650116e-01\n",
      "  -5.25454645e-01 -9.36466954e-01  1.34373586e+01  3.51078815e+01\n",
      "  -2.15200115e+01 -3.24792656e+00  2.24924744e+00  2.91301341e-01]]\n"
     ]
    }
   ],
   "source": [
    "# Load in the blockwise nuwrounisim cov matrix\n",
    "\n",
    "nuWro_unisim = pd.read_csv(\"nuWro_extra_unisim_uncertainties_energy_comb_\"+ending+\".csv\", header=None)\n",
    "\n",
    "nuWro_unisim = nuWro_unisim.values\n",
    "print(nuWro_unisim)"
   ]
  },
  {
   "cell_type": "code",
   "execution_count": 21,
   "id": "86e82551",
   "metadata": {},
   "outputs": [],
   "source": [
    "##### Now make the total cov matrix\n",
    "\n",
    "total_noTune_input_cov = nue_numu_cov_stats + blockwise_genie_err + nuWro_unisim"
   ]
  },
  {
   "cell_type": "code",
   "execution_count": 22,
   "id": "54c95230",
   "metadata": {},
   "outputs": [
    {
     "data": {
      "image/png": "[encoded data removed]",
      "text/plain": [
       "<Figure size 720x432 with 2 Axes>"
      ]
     },
     "metadata": {
      "needs_background": "light"
     },
     "output_type": "display_data"
    }
   ],
   "source": [
    "fig = plt.figure(figsize=(10, 6))\n",
    "\n",
    "plt.pcolor(bins, bins, total_noTune_input_cov, cmap='OrRd', edgecolors='k')\n",
    "\n",
    "cbar = plt.colorbar()\n",
    "cbar.ax.tick_params(labelsize=14)\n",
    "#if pot: \n",
    "#    cbar.set_label(label=\"$\\\\nu^{2}$ / \"+pot+\"$^{2}$\", fontsize=15)\n",
    "\n",
    "plt.xlim(bins[0], bins[-1])\n",
    "plt.ylim(bins[0], bins[-1])\n",
    "\n",
    "\n",
    "plt.xlabel(\"Bin Number\", fontsize=15)\n",
    "plt.ylabel(\"Bin Number\", fontsize=15)\n",
    "\n",
    "plt.title('Covariance Matrix (noTune)', fontsize=16)\n",
    "\n",
    "\n",
    "plt.savefig(\"data_covmat_MC_noTune_input_recoE_comb_\"+ending+\".svg\", bbox_inches='tight')\n",
    "\n",
    "plt.show()"
   ]
  },
  {
   "cell_type": "code",
   "execution_count": 23,
   "id": "c3fa84cb",
   "metadata": {},
   "outputs": [],
   "source": [
    "np.savetxt(\"data_covmat_MC_noTune_input_recoE_comb_\"+ending+\".csv\", \n",
    "           total_noTune_input_cov,\n",
    "           delimiter =\", \", \n",
    "           fmt ='% s')"
   ]
  },
  {
   "cell_type": "code",
   "execution_count": 24,
   "id": "f1216474",
   "metadata": {},
   "outputs": [
    {
     "data": {
      "text/plain": [
       "'Jan19b'"
      ]
     },
     "execution_count": 24,
     "metadata": {},
     "output_type": "execute_result"
    }
   ],
   "source": [
    "ending"
   ]
  },
  {
   "cell_type": "code",
   "execution_count": null,
   "id": "965d3def",
   "metadata": {},
   "outputs": [],
   "source": []
  }
 ],
 "metadata": {
  "kernelspec": {
   "display_name": "Python 3 (ipykernel)",
   "language": "python",
   "name": "python3"
  },
  "language_info": {
   "codemirror_mode": {
    "name": "ipython",
    "version": 3
   },
   "file_extension": ".py",
   "mimetype": "text/x-python",
   "name": "python",
   "nbconvert_exporter": "python",
   "pygments_lexer": "ipython3",
   "version": "3.8.12"
  }
 },
 "nbformat": 4,
 "nbformat_minor": 5
}
