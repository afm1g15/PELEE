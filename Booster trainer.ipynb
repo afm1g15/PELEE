{
 "cells": [
  {
   "cell_type": "code",
   "execution_count": null,
   "metadata": {},
   "outputs": [],
   "source": [
    "from sklearn.model_selection import train_test_split\n",
    "import xgboost as xgb\n",
    "import matplotlib.pyplot as plt\n",
    "import numpy as np\n",
    "\n",
    "import uproot\n",
    "import pickle\n",
    "import nue_booster\n",
    "import importlib\n",
    "importlib.reload(nue_booster)\n",
    "\n",
    "import awkward"
   ]
  },
  {
   "cell_type": "code",
   "execution_count": null,
   "metadata": {},
   "outputs": [],
   "source": [
    "import localSettings as ls\n",
    "print(ls.ntuple_path)"
   ]
  },
  {
   "cell_type": "code",
   "execution_count": null,
   "metadata": {},
   "outputs": [],
   "source": [
    "VARLOAD = [\"shr_tkfit_npointsvalid\",\"shr_tkfit_npoints\", # track-fitted shower\n",
    "           \"shrsubclusters0\",\"shrsubclusters1\",\"shrsubclusters2\", # sub-clusters for shower\n",
    "           \"trk_llr_pid_score_v\", # PID for proton candidate\n",
    "           \"shrmoliereavg\",\"shrmoliererms\", # moliere metrics for shower\n",
    "           \"trkshrhitdist2\", # 2D distance shower hits to track hits\n",
    "           \"trk_id\",\"trk_energy_tot\",\"shr_energy_tot_cali\",\n",
    "           \"tksh_distance\",\"shr_tkfit_dedx_Y\",\"tksh_angle\",\"n_showers_contained\",\"shr_score\", \n",
    "           \"nu_e\",\"slpdg\",# truth variables\n",
    "           \"category\",\"selected\",\n",
    "           \"crtveto\",\"crthitpe\",\"_closestNuCosmicDist\", # CRT quantities\n",
    "           \"hits_ratio\",\"slclustfrac\",\"shr_energy\",\"shr_theta\",\"CosmicIP\"\n",
    "          ]"
   ]
  },
  {
   "cell_type": "code",
   "execution_count": null,
   "metadata": {},
   "outputs": [],
   "source": [
    "fold = \"nuselection\"\n",
    "tree = \"NeutrinoSelectionFilter\"\n",
    "\n",
    "BNB = 'data_bnb_mcc9.1_v08_00_00_25_reco2_G1_beam_good_reco2_1e19.root'\n",
    "EXT = 'data_extbnb_mcc9.1_v08_00_00_25_reco2_G1_all_reco2.root'\n",
    "NU  = 'prodgenie_bnb_nu_uboone_overlay_mcc9.1_v08_00_00_26_filter_run3_reco2_G_reco2.root'\n",
    "NUE = 'prodgenie_bnb_intrinsice_nue_uboone_overlay_mcc9.1_v08_00_00_26_run3_reco2_reco2.root'\n",
    "DRT = 'prodgenie_bnb_dirt_overlay_mcc9.1_v08_00_00_26_run3_reco2_reco2.root'\n",
    "PI0 = 'prodgenie_nc_pi0_uboone_overlay_mcc9.1_v08_00_00_26_run3_G_reco2.root'\n",
    "\n",
    "mc = uproot.open(ls.ntuple_path+NU)[fold][tree]\n",
    "nc = uproot.open(ls.ntuple_path+PI0)[fold][tree]\n",
    "nue = uproot.open(ls.ntuple_path+NUE)[fold][tree]\n",
    "ext = uproot.open(ls.ntuple_path+EXT)[fold][tree]\n",
    "\n",
    "uproot_v = [mc,nc,nue,ext]\n",
    "\n",
    "nc = nc.pandas.df(VARLOAD + [\"weightSpline\"], flatten=False)\n",
    "mc = mc.pandas.df(VARLOAD + [\"weightSpline\"], flatten=False)\n",
    "nue = nue.pandas.df(VARLOAD + [\"weightSpline\"], flatten=False)\n",
    "ext = ext.pandas.df(VARLOAD, flatten=False)\n",
    "\n",
    "ext[\"weightSpline\"] = 1\n",
    "\n",
    "df_v = [mc,nc,nue,ext]\n",
    "\n",
    "# define some energy-related variables\n",
    "for i,df in enumerate(df_v):\n",
    "    df[\"reco_e\"] = (df[\"shr_energy_tot_cali\"] + 0.03) / 0.79 + df[\"trk_energy_tot\"]\n",
    "    df[\"reco_e_qe\"] = 0.938*((df[\"shr_energy\"]+0.030)/0.79)/(0.938 - ((df[\"shr_energy\"]+0.030)/0.79)*(1-np.cos(df[\"shr_theta\"])))\n",
    "    df[\"reco_e_rqe\"] = df[\"reco_e_qe\"]/df[\"reco_e\"]"
   ]
  },
  {
   "cell_type": "code",
   "execution_count": null,
   "metadata": {},
   "outputs": [],
   "source": [
    "# how to get the LLR-PID value for the \"track candidate\" (proton for nue selection, muon for numu)\n",
    "# can be done for any variable\n",
    "# code from Giuseppe!\n",
    "\n",
    "for i,df in enumerate(df_v):\n",
    "    up = uproot_v[i]\n",
    "    trk_llr_pid_v = up.array('trk_llr_pid_score_v')\n",
    "    trk_id = up.array('trk_id')-1 # I think we need this -1 to get the right result\n",
    "    trk_llr_pid_v_sel = awkward.fromiter([j[0][j[1]] if j[1]<len(j[0]) else 9999. for j in zip(trk_llr_pid_v,trk_id)])\n",
    "    df['trkpid'] = trk_llr_pid_v_sel\n",
    "    df['subcluster'] = df['shrsubclusters0'] + df['shrsubclusters1'] + df['shrsubclusters2']\n",
    "    df['trkfit'] = df['shr_tkfit_npointsvalid'] / df['shr_tkfit_npoints']"
   ]
  },
  {
   "cell_type": "code",
   "execution_count": null,
   "metadata": {},
   "outputs": [],
   "source": [
    "lee_bins = [0, 0.2, 0.25, 0.3, 0.35, 0.4, 0.45, 0.5, 0.6, 0.8]\n",
    "lee_scaling = [\n",
    "    6.3744101, 6.3744101, 5.6455402, 3.7305500, 1.5091400, 1.0742800, 0.7540929,\n",
    "    0.4763070, 0.1523270\n",
    "]\n",
    "#lee_scaling = [1,1,1,1,1,1,1,1,1]\n",
    "\n",
    "nc[\"train_weight\"] = 1\n",
    "nue[\"train_weight\"] = 0\n",
    "mc[\"train_weight\"] = 1\n",
    "ext[\"train_weight\"] = 1\n",
    "\n",
    "for i, lee_bin in enumerate(lee_bins):\n",
    "    \n",
    "    if i == 0:\n",
    "        continue\n",
    "        \n",
    "    #nue.loc[(nue['reco_e'] > lee_bins[i-1]) & (nue['reco_e'] < lee_bins[i]), 'train_weight'] = lee_scaling[i-1] * nue['weightSpline']\n",
    "    #mc.loc[(mc['reco_e'] > lee_bins[i-1]) & (mc['reco_e'] < lee_bins[i]), 'train_weight'] = lee_scaling[i-1] * mc['weightSpline']\n",
    "    #ext.loc[(ext['reco_e'] > lee_bins[i-1]) & (ext['reco_e'] < lee_bins[i]), 'train_weight'] = lee_scaling[i-1]\n",
    "    #nc.loc[(nc['reco_e'] > lee_bins[i-1]) & (nc['reco_e'] < lee_bins[i]), 'train_weight'] = lee_scaling[i-1] * nc['weightSpline']\n",
    "    \n",
    "    nue.loc[(nue['nu_e'] > lee_bins[i-1]) & (nue['nu_e'] < lee_bins[i]), 'train_weight'] = lee_scaling[i-1] * nue['weightSpline']\n",
    "    #mc.loc[(mc['nu_e'] > lee_bins[i-1]) & (mc['nu_e'] < lee_bins[i]), 'train_weight'] = lee_scaling[i-1] * mc['weightSpline']\n",
    "    #ext.loc[(ext['nu_e'] > lee_bins[i-1]) & (ext['nu_e'] < lee_bins[i]), 'train_weight'] = lee_scaling[i-1]\n",
    "    #nc.loc[(nc['nu_e'] > lee_bins[i-1]) & (nc['reco_e'] < lee_bins[i]), 'train_weight'] = lee_scaling[i-1] * nc['weightSpline']"
   ]
  },
  {
   "cell_type": "code",
   "execution_count": null,
   "metadata": {},
   "outputs": [],
   "source": [
    "nc[\"is_signal\"] = nc[\"category\"] == 11\n",
    "nue[\"is_signal\"] = nue[\"category\"] == 11\n",
    "mc[\"is_signal\"] = mc[\"category\"] == 11\n",
    "ext[\"is_signal\"] = ext[\"category\"] == 11"
   ]
  },
  {
   "cell_type": "code",
   "execution_count": null,
   "metadata": {},
   "outputs": [],
   "source": [
    "# variables to be trained on\n",
    "TRAINVAR = ['tksh_angle',\"shr_tkfit_dedx_Y\",\"n_showers_contained\",\"shr_score\",\"tksh_distance\",\\\n",
    "            \"trkfit\",\"trkpid\",\"subcluster\",\"shrmoliereavg\",\"shrmoliererms\",\"trkshrhitdist2\",\\\n",
    "            \"hits_ratio\",#\"reco_e_rqe\",\\\n",
    "            'is_signal','train_weight','nu_e']\n"
   ]
  },
  {
   "cell_type": "code",
   "execution_count": null,
   "metadata": {},
   "outputs": [],
   "source": [
    "print (ls.pickle_path)"
   ]
  },
  {
   "cell_type": "code",
   "execution_count": null,
   "metadata": {
    "scrolled": false
   },
   "outputs": [],
   "source": [
    "train_mc, test_mc = train_test_split(mc, test_size=0.5, random_state=1990)\n",
    "train_ext, test_ext = train_test_split(ext, test_size=0.5, random_state=1990)\n",
    "train_nue, test_nue = train_test_split(nue, test_size=0.5, random_state=1990)\n",
    "train_nc, test_nc = train_test_split(nc, test_size=0.5, random_state=1990)\n",
    "\n",
    "samples = {\n",
    "    \"mc\": (train_mc, test_mc),\n",
    "    \"nue\": (train_nue, test_nue),\n",
    "    \"ext\": (train_ext, test_ext),\n",
    "    \"nc\": (train_nc, test_nc)\n",
    "} \n",
    "\n",
    "fig, ax = plt.subplots(1,1)\n",
    "\n",
    "my_booster = nue_booster.NueBooster(samples, TRAINVAR, random_state=1990)\n",
    "\n",
    "print (my_booster.variables)\n",
    "\n",
    "PRESEL = \"reco_e < 1.0 and selected == 1 and (crtveto == 0) and (_closestNuCosmicDist > 20)\"\n",
    "PRESEL += \" and shr_energy_tot_cali > 0.07\"\n",
    "PRESEL += ' and tksh_distance < 5.0'\n",
    "PRESEL += ' and shr_tkfit_dedx_Y < 4.0 and shr_tkfit_dedx_Y > 0'\n",
    "PRESEL += ' and tksh_angle > -0.9 and tksh_angle < 0.9'\n",
    "PRESEL += ' and trkpid < 0.0'\n",
    "PRESEL += ' and shr_score < 0.30'\n",
    "PRESEL += ' and hits_ratio>0.6'\n",
    "PRESEL += ' and n_showers_contained < 2'\n",
    "PRESEL += ' and CosmicIP > 20.'\n",
    "\n",
    "my_booster.set_preselection(PRESEL)\n",
    "\n",
    "for label, bkg_query in zip(nue_booster.labels, nue_booster.bkg_queries):\n",
    "    \n",
    "    preds = my_booster.train_booster(ax, bkg_query)\n",
    "    \n",
    "    with open(ls.pickle_path+'booster_%s.pickle' % label, 'wb') as booster_file:\n",
    "        pickle.dump(preds, booster_file)\n",
    "\n",
    "    variables = my_booster.variables.copy()\n",
    "    print ('variables are : ',variables)\n",
    "    variables.remove(\"is_signal\")\n",
    "    variables.remove(\"nu_e\")\n",
    "    variables.remove(\"train_weight\")        \n",
    "        \n",
    "    mc_prediction = preds.predict(\n",
    "        xgb.DMatrix(mc[variables]),\n",
    "        ntree_limit=preds.best_iteration)\n",
    "    nue_prediction = preds.predict(\n",
    "        xgb.DMatrix(nue[variables]),\n",
    "        ntree_limit=preds.best_iteration)\n",
    "    ext_prediction = preds.predict(\n",
    "        xgb.DMatrix(ext[variables]),\n",
    "        ntree_limit=preds.best_iteration)\n",
    "    nc_prediction = preds.predict(\n",
    "        xgb.DMatrix(nc[variables]),\n",
    "        ntree_limit=preds.best_iteration)\n",
    "\n",
    "    nc[\"%s_score\" % label] = nc_prediction\n",
    "    mc[\"%s_score\" % label] = mc_prediction\n",
    "    nue[\"%s_score\" % label] = nue_prediction\n",
    "    ext[\"%s_score\" % label] = ext_prediction\n",
    "\n",
    "\n",
    "ax.set_ylim([0, 1.05])\n",
    "ax.set_xlim([0, 1.0])\n",
    "ax.set_xlabel('False Positive Rate')\n",
    "ax.set_ylabel('True Positive Rate')\n",
    "ax.set_title('ROC')\n",
    "ax.legend()\n",
    "fig.tight_layout()\n",
    "fig.savefig(ls.plots_path+\"roc_single.pdf\")"
   ]
  },
  {
   "cell_type": "code",
   "execution_count": null,
   "metadata": {},
   "outputs": [],
   "source": [
    "train_mc, test_mc = train_test_split(mc, test_size=0.5, random_state=1990)\n",
    "train_ext, test_ext = train_test_split(ext, test_size=0.5, random_state=1990)\n",
    "train_nue, test_nue = train_test_split(nue, test_size=0.5, random_state=1990)\n",
    "train_nc, test_nc = train_test_split(nc, test_size=0.5, random_state=1990)\n",
    "\n",
    "samples = {\n",
    "    \"mc\": (train_mc, test_mc),\n",
    "    \"nue\": (train_nue, test_nue),\n",
    "    \"ext\": (train_ext, test_ext),\n",
    "    \"nc\": (train_nc, test_nc)\n",
    "} \n",
    "\n",
    "variables_bdts = [\n",
    "    \"is_signal\", \"nu_e\", \"train_weight\", \"ext_score\", \"ncpi0_score\", \"cc_score\",\n",
    "    \"ccpi0_score\", \"cosmic_score\"\n",
    "]"
   ]
  },
  {
   "cell_type": "code",
   "execution_count": null,
   "metadata": {
    "scrolled": false
   },
   "outputs": [],
   "source": [
    "fig_global, ax_global = plt.subplots(1, 1)\n",
    "my_global_booster = nue_booster.NueBooster(samples, variables_bdts, 1990)\n",
    "\n",
    "preds = my_global_booster.train_booster(ax_global)\n",
    "\n",
    "ax_global.legend()\n",
    "ax_global.set_xlabel('False Positive Rate')\n",
    "ax_global.set_ylabel('True Positive Rate')\n",
    "ax_global.set_title('ROC')\n",
    "fig_global.tight_layout()\n",
    "fig_global.savefig(ls.plots_path+\"roc_global.pdf\")"
   ]
  },
  {
   "cell_type": "code",
   "execution_count": null,
   "metadata": {},
   "outputs": [],
   "source": [
    "with open(ls.pickle_path+'booster.pickle', 'wb') as booster_file:\n",
    "    pickle.dump(preds, booster_file)"
   ]
  },
  {
   "cell_type": "code",
   "execution_count": null,
   "metadata": {},
   "outputs": [],
   "source": []
  }
 ],
 "metadata": {
  "kernelspec": {
   "display_name": "Python 3",
   "language": "python",
   "name": "python3"
  },
  "language_info": {
   "codemirror_mode": {
    "name": "ipython",
    "version": 3
   },
   "file_extension": ".py",
   "mimetype": "text/x-python",
   "name": "python",
   "nbconvert_exporter": "python",
   "pygments_lexer": "ipython3",
   "version": "3.7.4"
  }
 },
 "nbformat": 4,
 "nbformat_minor": 2
}
