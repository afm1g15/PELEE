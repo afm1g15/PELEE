{
 "cells": [
  {
   "cell_type": "code",
   "execution_count": 4,
   "metadata": {},
   "outputs": [
    {
     "data": {
      "text/plain": [
       "<module 'nue_booster' from '/Users/soleti/Google Drive/lee_mcc9/nue_booster.py'>"
      ]
     },
     "execution_count": 4,
     "metadata": {},
     "output_type": "execute_result"
    }
   ],
   "source": [
    "from sklearn.model_selection import train_test_split\n",
    "import xgboost as xgb\n",
    "import matplotlib.pyplot as plt\n",
    "\n",
    "import uproot\n",
    "import pickle\n",
    "import nue_booster\n",
    "import importlib\n",
    "importlib.reload(nue_booster)"
   ]
  },
  {
   "cell_type": "code",
   "execution_count": 5,
   "metadata": {},
   "outputs": [],
   "source": [
    "fold = \"nuselection\"\n",
    "tree = \"NeutrinoSelectionFilter\"\n",
    "\n",
    "nc = uproot.open(\"root_files/nc.root\")[fold][tree]\n",
    "mc = uproot.open(\"root_files/mc_bnb.root\")[fold][tree]\n",
    "nue = uproot.open(\"root_files/nue.root\")[fold][tree]\n",
    "ext = uproot.open(\"root_files/ext.root\")[fold][tree]\n",
    "\n",
    "variables = nue_booster.variables.copy()\n",
    "variables.remove(\"is_signal\")\n",
    "variables.remove(\"train_weight\")\n",
    "variables.append(\"category\")\n",
    "variables.append(\"selected\")\n",
    "\n",
    "nc = nc.pandas.df(variables, flatten=False)\n",
    "mc = mc.pandas.df(variables, flatten=False)\n",
    "nue = nue.pandas.df(variables, flatten=False)\n",
    "ext = ext.pandas.df(variables, flatten=False)\n",
    "\n",
    "nc[\"is_signal\"] = nc[\"category\"] == 11\n",
    "nue[\"is_signal\"] = nue[\"category\"] == 11\n",
    "mc[\"is_signal\"] = mc[\"category\"] == 11\n",
    "ext[\"is_signal\"] = ext[\"category\"] == 11\n",
    "\n",
    "nc[\"reco_e\"] = (nc[\"shr_energy_tot_cali\"] + 0.03) / 0.79 + nc[\"trk_energy_tot\"]\n",
    "nue[\"reco_e\"] = (nue[\"shr_energy_tot_cali\"] + 0.03) / 0.79 + nue[\"trk_energy_tot\"]\n",
    "mc[\"reco_e\"] = (mc[\"shr_energy_tot_cali\"] + 0.03) / 0.79 + mc[\"trk_energy_tot\"]\n",
    "ext[\"reco_e\"] = (ext[\"shr_energy_tot_cali\"] + 0.03) / 0.79 + ext[\"trk_energy_tot\"]"
   ]
  },
  {
   "cell_type": "code",
   "execution_count": 6,
   "metadata": {},
   "outputs": [],
   "source": [
    "lee_bins = [0, 0.2, 0.25, 0.3, 0.35, 0.4, 0.45, 0.5, 0.6, 0.8]\n",
    "lee_scaling = [\n",
    "    6.3744101, 6.3744101, 5.6455402, 3.7305500, 1.5091400, 1.0742800, 0.7540929,\n",
    "    0.4763070, 0.1523270\n",
    "]\n",
    "\n",
    "nc[\"train_weight\"] = 0\n",
    "nue[\"train_weight\"] = 0\n",
    "mc[\"train_weight\"] = 0\n",
    "ext[\"train_weight\"] = 0\n",
    "\n",
    "for i, lee_bin in enumerate(lee_bins):\n",
    "    \n",
    "    if i == 0:\n",
    "        continue\n",
    "        \n",
    "    nue.loc[(nue['reco_e'] > lee_bins[i-1]) & (nue['reco_e'] < lee_bins[i]), 'train_weight'] = lee_scaling[i-1]\n",
    "    mc.loc[(mc['reco_e'] > lee_bins[i-1]) & (mc['reco_e'] < lee_bins[i]), 'train_weight'] = lee_scaling[i-1]\n",
    "    ext.loc[(ext['reco_e'] > lee_bins[i-1]) & (ext['reco_e'] < lee_bins[i]), 'train_weight'] = lee_scaling[i-1]\n",
    "    nc.loc[(nc['reco_e'] > lee_bins[i-1]) & (nc['reco_e'] < lee_bins[i]), 'train_weight'] = lee_scaling[i-1]"
   ]
  },
  {
   "cell_type": "code",
   "execution_count": 7,
   "metadata": {
    "scrolled": false
   },
   "outputs": [
    {
     "name": "stdout",
     "output_type": "stream",
     "text": [
      "XGBoost params. ETA: 0.1, MAX_DEPTH: 10, SUBSAMPLE: 1, COLSAMPLE_BY_TREE: 1\n",
      "Training ncpi0...\n",
      "Validating...\n",
      "Training cc...\n",
      "Validating...\n",
      "Training ccpi0...\n",
      "Validating...\n",
      "Training cosmic...\n",
      "Validating...\n",
      "Training ext...\n",
      "Validating...\n"
     ]
    },
    {
     "name": "stderr",
     "output_type": "stream",
     "text": [
      "No handles with labels found to put in legend.\n"
     ]
    },
    {
     "data": {
      "image/png": "[encoded data removed]",
      "text/plain": [
       "<Figure size 432x288 with 1 Axes>"
      ]
     },
     "metadata": {
      "needs_background": "light"
     },
     "output_type": "display_data"
    }
   ],
   "source": [
    "train_mc, test_mc = train_test_split(mc, test_size=0.5, random_state=1990)\n",
    "train_ext, test_ext = train_test_split(ext, test_size=0.5, random_state=1990)\n",
    "train_nue, test_nue = train_test_split(nue, test_size=0.5, random_state=1990)\n",
    "train_nc, test_nc = train_test_split(nc, test_size=0.5, random_state=1990)\n",
    "\n",
    "samples = {\n",
    "    \"mc\": (train_mc, test_mc),\n",
    "    \"nue\": (train_nue, test_nue),\n",
    "    \"ext\": (train_ext, test_ext),\n",
    "    \"nc\": (train_nc, test_nc)\n",
    "} \n",
    "\n",
    "fig, ax = plt.subplots(1,1)\n",
    "\n",
    "my_booster = nue_booster.NueBooster(samples, nue_booster.variables, random_state=1990)\n",
    "\n",
    "for label, bkg_query in zip(nue_booster.labels, nue_booster.bkg_queries):\n",
    "    \n",
    "    preds = my_booster.train_booster(ax, bkg_query)\n",
    "    \n",
    "    with open('pickles/booster_%s.pickle' % label, 'wb') as booster_file:\n",
    "        pickle.dump(preds, booster_file)\n",
    "\n",
    "    variables = nue_booster.variables.copy()\n",
    "    variables.remove(\"is_signal\")\n",
    "    variables.remove(\"nu_e\")\n",
    "    variables.remove(\"train_weight\")\n",
    "        \n",
    "    mc_prediction = preds.predict(\n",
    "        xgb.DMatrix(mc[variables]),\n",
    "        ntree_limit=preds.best_iteration + 1)\n",
    "    nue_prediction = preds.predict(\n",
    "        xgb.DMatrix(nue[variables]),\n",
    "        ntree_limit=preds.best_iteration + 1)\n",
    "    ext_prediction = preds.predict(\n",
    "        xgb.DMatrix(ext[variables]),\n",
    "        ntree_limit=preds.best_iteration + 1)\n",
    "    nc_prediction = preds.predict(\n",
    "        xgb.DMatrix(nc[variables]),\n",
    "        ntree_limit=preds.best_iteration + 1)\n",
    "\n",
    "    nc[\"%s_score\" % label] = nc_prediction\n",
    "    mc[\"%s_score\" % label] = mc_prediction\n",
    "    nue[\"%s_score\" % label] = nue_prediction\n",
    "    ext[\"%s_score\" % label] = ext_prediction\n",
    "\n",
    "\n",
    "ax.set_ylim([0, 1.05])\n",
    "ax.set_xlim([0, 1.0])\n",
    "ax.set_xlabel('False Positive Rate')\n",
    "ax.set_ylabel('True Positive Rate')\n",
    "ax.set_title('ROC')\n",
    "ax.legend()\n",
    "fig.tight_layout()\n",
    "fig.savefig(\"plots/roc_single.pdf\")"
   ]
  },
  {
   "cell_type": "code",
   "execution_count": 8,
   "metadata": {},
   "outputs": [],
   "source": [
    "train_mc, test_mc = train_test_split(mc, test_size=0.5, random_state=1990)\n",
    "train_ext, test_ext = train_test_split(ext, test_size=0.5, random_state=1990)\n",
    "train_nue, test_nue = train_test_split(nue, test_size=0.5, random_state=1990)\n",
    "train_nc, test_nc = train_test_split(nc, test_size=0.5, random_state=1990)\n",
    "\n",
    "samples = {\n",
    "    \"mc\": (train_mc, test_mc),\n",
    "    \"nue\": (train_nue, test_nue),\n",
    "    \"ext\": (train_ext, test_ext),\n",
    "    \"nc\": (train_nc, test_nc)\n",
    "} \n",
    "\n",
    "variables_bdts = [\n",
    "    \"is_signal\", \"nu_e\", \"train_weight\", \"ncpi0_score\", \"cc_score\",\n",
    "    \"ccpi0_score\", \"cosmic_score\", \"ext_score\"\n",
    "]"
   ]
  },
  {
   "cell_type": "code",
   "execution_count": 9,
   "metadata": {
    "scrolled": false
   },
   "outputs": [
    {
     "name": "stdout",
     "output_type": "stream",
     "text": [
      "XGBoost params. ETA: 0.1, MAX_DEPTH: 10, SUBSAMPLE: 1, COLSAMPLE_BY_TREE: 1\n"
     ]
    },
    {
     "name": "stderr",
     "output_type": "stream",
     "text": [
      "No handles with labels found to put in legend.\n"
     ]
    },
    {
     "name": "stdout",
     "output_type": "stream",
     "text": [
      "Validating...\n"
     ]
    },
    {
     "data": {
      "image/png": "[encoded data removed]",
      "text/plain": [
       "<Figure size 432x288 with 1 Axes>"
      ]
     },
     "metadata": {
      "needs_background": "light"
     },
     "output_type": "display_data"
    }
   ],
   "source": [
    "fig_global, ax_global = plt.subplots(1, 1)\n",
    "my_global_booster = nue_booster.NueBooster(samples, variables_bdts, 1990)\n",
    "\n",
    "preds = my_global_booster.train_booster(ax_global)\n",
    "\n",
    "ax_global.legend()\n",
    "ax_global.set_xlabel('False Positive Rate')\n",
    "ax_global.set_ylabel('True Positive Rate')\n",
    "ax_global.set_title('ROC')\n",
    "fig_global.tight_layout()\n",
    "fig_global.savefig(\"plots/roc_global.pdf\")"
   ]
  },
  {
   "cell_type": "code",
   "execution_count": 10,
   "metadata": {},
   "outputs": [],
   "source": [
    "with open('pickles/booster.pickle', 'wb') as booster_file:\n",
    "    pickle.dump(preds, booster_file)"
   ]
  },
  {
   "cell_type": "code",
   "execution_count": null,
   "metadata": {},
   "outputs": [],
   "source": []
  }
 ],
 "metadata": {
  "kernelspec": {
   "display_name": "Python 3",
   "language": "python",
   "name": "python3"
  },
  "language_info": {
   "codemirror_mode": {
    "name": "ipython",
    "version": 3
   },
   "file_extension": ".py",
   "mimetype": "text/x-python",
   "name": "python",
   "nbconvert_exporter": "python",
   "pygments_lexer": "ipython3",
   "version": "3.7.3"
  }
 },
 "nbformat": 4,
 "nbformat_minor": 2
}
