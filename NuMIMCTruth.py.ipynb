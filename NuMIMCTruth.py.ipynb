{
 "cells": [
  {
   "cell_type": "code",
   "execution_count": null,
   "metadata": {},
   "outputs": [],
   "source": [
    "%load_ext autoreload\n",
    "%autoreload 2\n"
   ]
  },
  {
   "cell_type": "code",
   "execution_count": null,
   "metadata": {},
   "outputs": [],
   "source": [
    "import sys\n",
    "import localSettings as ls\n",
    "print(ls.main_path)"
   ]
  },
  {
   "cell_type": "code",
   "execution_count": 10,
   "metadata": {},
   "outputs": [
    {
     "name": "stdout",
     "output_type": "stream",
     "text": [
      "23.152151474538137\n",
      "93.29282598045393\n",
      "90.22507272719386\n",
      "83.89308688808288\n",
      "116.34659562742715\n",
      "102.84376158288829\n",
      "125.56315886602496\n",
      "153.01428805226936\n",
      "84.04640139693174\n",
      "92.10377937804688\n",
      "90.20037698545325\n",
      "\n",
      "93.29284497058015\n",
      "90.22514062677546\n",
      "83.89303332722348\n",
      "116.3465600283864\n",
      "102.8438713392707\n",
      "125.56329676232654\n",
      "153.01437391987312\n",
      "84.04645062222679\n",
      "92.10384711244873\n",
      "90.20040163313801\n"
     ]
    }
   ],
   "source": [
    "from scipy.spatial.transform import Rotation as R\n",
    "from numpy import arccos, array\n",
    "from numpy.linalg import norm\n",
    "\n",
    "# Note: returns angle in radians\n",
    "def theta(v, w): return arccos(v.dot(w)/(norm(v)*norm(w)))* 180 / 3.1415926\n",
    "\n",
    "def GetNuMIAngle( px,  py,  pz):\n",
    "    r = R.from_matrix([[0.92103853804025681562   , 0.022713504803924120662, 0.38880857519374290021  ],\n",
    "                       [4.6254001262154668408e-05, 0.99829162468141474651 , -0.058427989452906302359],\n",
    "                       [-0.38947144863934973769  , 0.053832413938664107345, 0.91946400794392302291  ]])  \n",
    "    r = r.inv()\n",
    "    beamCoords = r.apply([px,  py,  pz])\n",
    "    beamDir    = [0,0,1]\n",
    "    print(theta(beamCoords,beamDir))\n",
    "    return theta(beamCoords,beamDir)\n",
    "\n",
    "def GetNuMIAnglePol( phiBNB,  thetaBNB):\n",
    "    import math\n",
    "    px = math.sin(thetaBNB)*math.cos(phiBNB)\n",
    "    py = math.sin(thetaBNB)*math.sin(phiBNB)\n",
    "    pz = math.cos(thetaBNB)\n",
    "    GetNuMIAngle( px,  py,  pz)\n",
    "    \n",
    "\n",
    "\n",
    "GetNuMIAngle( 0.0, 0.0, 1.)\n",
    "\n",
    "GetNuMIAngle( 0.277040, -0.064675, -0.141098)\n",
    "GetNuMIAngle(   0.182530,  0.158082, -0.068212)\n",
    "GetNuMIAngle(   0.213463, -0.083414, -0.067910)\n",
    "GetNuMIAngle(  -0.093600, -0.148834, -0.059463)\n",
    "GetNuMIAngle(   0.139872, -0.182576, -0.135256)\n",
    "GetNuMIAngle(  -0.072833, -0.105845, -0.067828)\n",
    "GetNuMIAngle(  -0.109647,  0.097137, -0.152170)\n",
    "GetNuMIAngle(   0.233304, -0.187030, -0.075744)\n",
    "GetNuMIAngle(   0.083866, -0.223801, -0.059519)\n",
    "GetNuMIAngle(   0.242104,  0.134643, -0.094935)\n",
    "print()\n",
    "\n",
    "GetNuMIAnglePol(-0.229342,   2.031215)\n",
    "GetNuMIAnglePol( 0.713744,   1.846112)\n",
    "GetNuMIAnglePol(-0.372519,   1.858868)\n",
    "GetNuMIAnglePol(-2.132187,   1.896924)\n",
    "GetNuMIAnglePol(-0.917068 ,  2.102407)\n",
    "GetNuMIAnglePol(-2.173497  , 2.056529)\n",
    "GetNuMIAnglePol( 2.416621  , 2.375226)\n",
    "GetNuMIAnglePol(-0.675751  , 1.818889)\n",
    "GetNuMIAnglePol(-1.212260  , 1.814867)\n",
    "GetNuMIAnglePol( 0.507544  , 1.900948)"
   ]
  },
  {
   "cell_type": "code",
   "execution_count": 14,
   "metadata": {},
   "outputs": [
    {
     "data": {
      "text/plain": [
       "Text(0.5, 0, 'Angle from NuMI beam for high theta')"
      ]
     },
     "execution_count": 14,
     "metadata": {},
     "output_type": "execute_result"
    },
    {
     "data": {
      "image/png": "[encoded data removed]",
      "text/plain": [
       "<Figure size 432x288 with 1 Axes>"
      ]
     },
     "metadata": {
      "needs_background": "light"
     },
     "output_type": "display_data"
    }
   ],
   "source": [
    "import numpy as np\n",
    "import matplotlib.pyplot as plt\n",
    "\n",
    "highAngles = [93.29282598045393,90.22507272719386,83.89308688808288,116.34659562742715,102.84376158288829,125.56315886602496,153.01428805226936,84.04640139693174,92.10377937804688,90.20037698545325]\n",
    "arr = np.array(highAngles)\n",
    "fig, ax = plt.subplots()\n",
    "ax.hist(arr)\n",
    "ax.set_xlabel(\"Angle from NuMI beam for high theta\")"
   ]
  },
  {
   "cell_type": "code",
   "execution_count": null,
   "metadata": {},
   "outputs": [],
   "source": [
    "main_path = ls.main_path\n",
    "sys.path.append(main_path)"
   ]
  },
  {
   "cell_type": "code",
   "execution_count": null,
   "metadata": {},
   "outputs": [],
   "source": [
    "from datetime import datetime\n",
    "now = datetime.now()\n",
    "date_time = now.strftime(\"%m%d%Y\")\n",
    "print(\"date and time:\",date_time)"
   ]
  },
  {
   "cell_type": "code",
   "execution_count": null,
   "metadata": {},
   "outputs": [],
   "source": [
    "import plotter\n",
    "import importlib\n",
    "importlib.reload(plotter)\n",
    "import uproot\n",
    "import matplotlib.pylab as pylab\n",
    "import numpy as np\n",
    "import math\n",
    "from sklearn.model_selection import train_test_split\n",
    "import pickle\n",
    "import xgboost as xgb\n",
    "import nue_booster \n",
    "importlib.reload(nue_booster)\n",
    "import awkward\n",
    "\n",
    "params = {\n",
    "    'axes.labelsize': 'x-large',\n",
    "    'axes.titlesize': 'x-large',\n",
    "    'xtick.labelsize': 'x-large',\n",
    "    'ytick.labelsize': 'x-large'\n",
    "}\n",
    "pylab.rcParams.update(params)"
   ]
  },
  {
   "cell_type": "code",
   "execution_count": null,
   "metadata": {},
   "outputs": [],
   "source": [
    "tree = \"NeutrinoSelectionFilter\"\n",
    "FHC   = 'neutrinoselection_filt_run1_overlay'         +ls.APPEND\n",
    "RHC   = 'neutrinoselection_filt_run3b_overlay'         +ls.APPEND\n",
    "fhc   = uproot.open(ls.ntuple_path+FHC +\".root\")[ls.fold][tree]\n",
    "rhc   = uproot.open(ls.ntuple_path+RHC +\".root\")[ls.fold][tree]\n",
    "\n",
    "uproot_v = [fhc,rhc]\n",
    "\n"
   ]
  },
  {
   "cell_type": "code",
   "execution_count": null,
   "metadata": {},
   "outputs": [],
   "source": [
    "variables = [ \"nu_pdg\", \"true_nu_px\",\"true_nu_py\",\"true_nu_pz\"]\n",
    "#make the list unique\n",
    "variables = list(set(variables))\n",
    "print(variables)\n",
    "\n",
    "    \n",
    "WEIGHTS     = [\"weightSpline\",\"weightTune\",\"weightSplineTimesTune\"]\n",
    "SYSTEMATICS = ['weightsFlux','weightsGenie']\n",
    "\n",
    "\n",
    "mc = mc.pandas.df(variables + WEIGHTS + SYSTEMATICS, flatten=False)"
   ]
  },
  {
   "cell_type": "code",
   "execution_count": null,
   "metadata": {},
   "outputs": [],
   "source": [
    "df_v = [mc]\n",
    "#removeGenieTune = False\n",
    "for i,df in enumerate(df_v):\n",
    "    df.loc[ df['weightTune'] <= 0, 'weightTune' ] = 1.\n",
    "    df.loc[ df['weightTune'] == np.inf, 'weightTune' ] = 1.\n",
    "    df.loc[ df['weightTune'] > 100, 'weightTune' ] = 1.\n",
    "    df.loc[ np.isnan(df['weightTune']) == True, 'weightTune' ] = 1.    \n",
    "    df.loc[ df['weightSplineTimesTune'] <= 0, 'weightSplineTimesTune' ] = 1.\n",
    "    df.loc[ df['weightSplineTimesTune'] == np.inf, 'weightSplineTimesTune' ] = 1.\n",
    "    df.loc[ df['weightSplineTimesTune'] > 100, 'weightSplineTimesTune' ] = 1.\n",
    "    df.loc[ np.isnan(df['weightSplineTimesTune']) == True, 'weightSplineTimesTune' ] = 1.\n"
   ]
  },
  {
   "cell_type": "code",
   "execution_count": null,
   "metadata": {},
   "outputs": [],
   "source": [
    "df_v = [mc]\n",
    "#removeGenieTune = False\n",
    "for i,df in enumerate(df_v):\n",
    "    df['true_nu_Energy']    = df['true_nu_px'] * df['true_nu_py'] + df['true_nu_py'] * df['true_nu_py'] +df['true_nu_pz'] * df['true_nu_pz'] \n",
    "    df['true_nu_Energy']    = df['true_nu_Energy']**(1/2)\n",
    "    df['true_nu_costheta']  = df['true_nu_pz']/df['true_nu_Energy']\n",
    "    df['true_nu_NuMITheta'] = df.apply(lambda x : GetNuMIAngle(x['true_nu_px'],x['true_nu_py'],x['true_nu_pz']) ,axis = 1)\n",
    "    \n",
    "    #df['true_nu_theta']    = 57.2958*np.arccos(df['true_nu_costheta'])\n",
    "    #df['true_nu_phi']      = 57.2958*np.arctan(df['true_nu_py']/df['true_nu_px'])\n",
    "    df['true_nu_NuMITheta'].plot.hist(bins=120)\n",
    "    #df['true_nu_phi']  .plot.hist(bins=120)\n",
    "    \n",
    "    "
   ]
  },
  {
   "cell_type": "code",
   "execution_count": null,
   "metadata": {},
   "outputs": [],
   "source": [
    "import matplotlib.pyplot as plt"
   ]
  },
  {
   "cell_type": "code",
   "execution_count": null,
   "metadata": {},
   "outputs": [],
   "source": [
    "df_v = [mc]\n",
    "for i,df in enumerate(df_v):\n",
    "    df.plot.scatter(x='true_nu_Energy',y='true_nu_NuMITheta')"
   ]
  },
  {
   "cell_type": "code",
   "execution_count": null,
   "metadata": {},
   "outputs": [],
   "source": [
    "import numpy as np \n",
    "from pandas import DataFrame\n",
    "import matplotlib.pyplot as plt\n",
    "\n",
    "index = ['aaa', 'bbb', 'ccc', 'ddd', 'eee']\n",
    "columns = ['A', 'B', 'C', 'D']\n",
    "df = DataFrame(abs(np.random.randn(5, 4)), index=index, columns=columns)\n",
    "print (df)\n",
    "plt.pcolor(df)\n",
    "plt.yticks(np.arange(0.5, len(df.index), 1), df.index)\n",
    "plt.xticks(np.arange(0.5, len(df.columns), 1), df.columns)\n",
    "plt.show()"
   ]
  },
  {
   "cell_type": "code",
   "execution_count": null,
   "metadata": {},
   "outputs": [],
   "source": [
    "newDf = mc.loc[mc['true_nu_Energy'] < 5 & ((mc['nu_pdg'] == 13) | (mc['nu_pdg'] == -13)), : ] "
   ]
  },
  {
   "cell_type": "code",
   "execution_count": null,
   "metadata": {},
   "outputs": [],
   "source": [
    "newDf14      = mc.loc[((mc['true_nu_Energy'] < 5) & (mc['true_nu_Energy'] > 0.250 ) & (mc['nu_pdg'] == 14)), : ] \n",
    "newDfMinus14 = mc.loc[((mc['true_nu_Energy'] < 5) & (mc['true_nu_Energy'] > 0.250 ) & (mc['nu_pdg'] == -14)), : ] \n"
   ]
  },
  {
   "cell_type": "code",
   "execution_count": null,
   "metadata": {},
   "outputs": [],
   "source": [
    "print (newDfMinus14.shape[0])\n",
    "fig0BS, ax0BS = plt.subplots()\n",
    "plt.title(\"True NuMu and NuMu bar in RHC, no selection\")\n",
    "ax0BS.set_xlabel('True KE [GeV]')\n",
    "ax0BS.set_ylabel('CV True Events')\n",
    "hist , range_ = np.histogram(newDf14['true_nu_Energy'], bins=10)\n",
    "center = (range_[1:]+range_[:-1])/2\n",
    "width  = (range_[1:]-range_[:-1])\n",
    "hist2,range2_  = np.histogram(newDfMinus14['true_nu_Energy'], bins=range_)\n",
    "print(range2_-range_)\n",
    "ax0BS.bar(center, hist , width,label=\"NuMu\" )\n",
    "ax0BS.bar(center, hist2, width,label=\"NuMuBar\",bottom=hist )\n",
    "plt.legend()\n",
    "ax2 = ax0BS.twinx()\n",
    "color = 'tab:red'\n",
    "#ax2.plot(t, data2, color=color)\n",
    "ax2.tick_params(axis='y', labelcolor=color)\n",
    "ax2.plot( center, hist2/(hist+hist2), color=color, label=\"Ratio\") #,linecolor=color,fill=False )\n",
    "ax2.set_ylabel('NuMu Bar/(NuMuBar+NuMu)',color=color)\n",
    "ax2.set_ylim(0,1)\n",
    "#plt.legend()\n"
   ]
  },
  {
   "cell_type": "code",
   "execution_count": null,
   "metadata": {},
   "outputs": [],
   "source": [
    "from matplotlib.colors import LogNorm\n",
    "from matplotlib.cm import get_cmap\n",
    "import copy\n",
    "\n",
    "#newDf = mc.loc[((mc['true_nu_Energy'] < 2) & ((mc['nu_pdg'] == 12) | (mc['nu_pdg'] == -12))), : ] \n",
    "newDf = mc.loc[((mc['true_nu_Energy'] > 0.25) & (mc['nu_pdg'] == 14) ), : ] \n",
    "#newDf = mc.loc[mc['true_nu_Energy'] > 5, : ] \n",
    "heatmap, xedges, yedges = np.histogram2d(newDf['true_nu_Energy'], newDf['true_nu_NuMITheta'],\n",
    "                                         weights=newDf['weightSplineTimesTune'],bins=50)\n",
    "print (newDf['true_nu_Energy'].max())\n",
    "my_cmap = copy.copy(get_cmap('plasma')) # copy the default cmap\n",
    "my_cmap.set_bad((0,0,0))\n",
    "extent = [xedges[0], xedges[-1], yedges[0], yedges[-1]]\n",
    "extent = [0, 5, 0, 140]\n",
    "print(extent)\n",
    "fig, ax  = plt.subplots(figsize=(15,10))\n",
    "pos = ax.imshow(heatmap.T, extent=extent, origin='lower',norm=LogNorm(), aspect=\"auto\",cmap=my_cmap)\n",
    "fig.colorbar(pos, ax=ax)\n",
    "plt.xlabel('Energy [GeV]')\n",
    "plt.ylabel('Angle [Deg]')\n"
   ]
  },
  {
   "cell_type": "code",
   "execution_count": null,
   "metadata": {},
   "outputs": [],
   "source": [
    "#newnewDf = mc.loc[ newDf['true_nu_Energy'] > 0.25, : ] \n",
    "newnewDf  = newDf.loc[newDf['true_nu_Energy'] > 0.25, : ] \n",
    "#pos1       = plt.hist(newnewDf['true_nu_NuMITheta'], weights=newnewDf['weightSplineTimesTune'], bins=12)\n",
    "pos       = plt.hist(newnewDf['true_nu_NuMITheta'], weights=newnewDf['weightSplineTimesTune'], bins=12)\n",
    "#pos       = plt.hist(newnewDf['true_nu_NuMITheta'],  density=True, bins=12)\n",
    "#area = sum(numpy.diff(bins)*values)\n",
    "#newnewDf['puppa'] = newnewDf['true_nu_NuMITheta']/pos[0].sum()\n",
    "print(pos)\n",
    "print(pos[0][0]/pos[0].sum())\n",
    "plt.ylabel('Percentage')\n",
    "plt.xlabel('Angle [Deg]')"
   ]
  },
  {
   "cell_type": "code",
   "execution_count": null,
   "metadata": {},
   "outputs": [],
   "source": [
    "def plot_2d(self, variable1_name, variable2_name, query=\"selected==1\", track_cuts=None, **plot_options):\n",
    "        variable1, weight1 = self._get_variable(variable1_name, query, track_cuts=track_cuts)\n",
    "        variable2, weight2 = self._get_variable(variable2_name, query, track_cuts=track_cuts)\n",
    "\n",
    "        heatmap, xedges, yedges = np.histogram2d(variable1, variable2,\n",
    "                                                 range=[[plot_options[\"range_x\"][0], plot_options[\"range_x\"][1]], [plot_options[\"range_y\"][0], plot_options[\"range_y\"][1]]],\n",
    "                                                 bins=[plot_options[\"bins_x\"], plot_options[\"bins_y\"]],\n",
    "                                                 weights=weight1)\n",
    "\n",
    "        extent = [xedges[0], xedges[-1], yedges[0], yedges[-1]]\n",
    "        fig, axes  = plt.subplots(1,3, figsize=(15,5))\n",
    "\n",
    "        axes[0].imshow(heatmap.T, extent=extent, origin='lower', aspect=\"auto\")\n",
    "\n",
    "        data_variable1 = self._selection(variable1_name, self.samples[\"data\"], query=query, track_cuts=track_cuts)\n",
    "        data_variable1 = self._select_showers(data_variable1, variable1_name, self.samples[\"data\"], query=query)\n",
    "\n",
    "        data_variable2 = self._selection(\n",
    "            variable2_name, self.samples[\"data\"], query=query, track_cuts=track_cuts)\n",
    "        data_variable2 = self._select_showers(\n",
    "            data_variable2, variable2_name, self.samples[\"data\"], query=query)\n",
    "\n",
    "        heatmap_data, xedges, yedges = np.histogram2d(data_variable1, data_variable2, range=[[plot_options[\"range_x\"][0], plot_options[\"range_x\"][1]], [\n",
    "                                                      plot_options[\"range_y\"][0], plot_options[\"range_y\"][1]]],\n",
    "                                                      bins=[plot_options[\"bins_x\"],\n",
    "                                                      plot_options[\"bins_y\"]])\n",
    "\n",
    "        axes[1].imshow(heatmap_data.T, extent=extent, origin='lower', aspect=\"auto\")\n",
    "\n",
    "        ratio = heatmap_data/heatmap\n",
    "        im_ratio = axes[2].imshow(ratio.T, extent=extent, origin='lower', aspect='auto', vmin=0, vmax=2, cmap=\"coolwarm\")\n",
    "        fig.colorbar(im_ratio)\n",
    "\n",
    "        axes[0].title.set_text('MC+EXT')\n",
    "        axes[1].title.set_text('Data')\n",
    "        axes[2].title.set_text('Data/(MC+EXT)')\n",
    "        if \"title\" in plot_options:\n",
    "            axes[0].set_xlabel(plot_options[\"title\"].split(\";\")[0])\n",
    "            axes[0].set_ylabel(plot_options[\"title\"].split(\";\")[1])\n",
    "            axes[1].set_xlabel(plot_options[\"title\"].split(\";\")[0])\n",
    "            axes[2].set_xlabel(plot_options[\"title\"].split(\";\")[0])\n",
    "        else:\n",
    "            axes[0].set_xlabel(variable1_name)\n",
    "            axes[0].set_ylabel(variable2_name)\n",
    "            axes[1].set_xlabel(variable1_name)\n",
    "            axes[2].set_xlabel(variable1_name)\n",
    "\n",
    "        return fig, axes"
   ]
  }
 ],
 "metadata": {
  "kernelspec": {
   "display_name": "Python 3",
   "language": "python",
   "name": "python3"
  },
  "language_info": {
   "codemirror_mode": {
    "name": "ipython",
    "version": 3
   },
   "file_extension": ".py",
   "mimetype": "text/x-python",
   "name": "python",
   "nbconvert_exporter": "python",
   "pygments_lexer": "ipython3",
   "version": "3.7.6"
  }
 },
 "nbformat": 4,
 "nbformat_minor": 4
}
