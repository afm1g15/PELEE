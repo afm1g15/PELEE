{
 "cells": [
  {
   "cell_type": "code",
   "execution_count": 42,
   "id": "4381d03f",
   "metadata": {},
   "outputs": [
    {
     "name": "stdout",
     "output_type": "stream",
     "text": [
      "/home/alex/NuMI/PELEE/\n"
     ]
    }
   ],
   "source": [
    "import pandas as pd\n",
    "import matplotlib.pyplot as plt\n",
    "import matplotlib\n",
    "import sys\n",
    "import localSettings as ls\n",
    "import math\n",
    "print(ls.main_path)\n",
    "import load_data_run123\n",
    "import plotter_alex\n",
    "import importlib\n",
    "importlib.reload(plotter_alex)\n",
    "import uproot\n",
    "import matplotlib.pylab as pylab\n",
    "import numpy as np\n",
    "import math\n",
    "from sklearn.model_selection import train_test_split\n",
    "import pickle\n",
    "import xgboost as xgb\n",
    "import nue_booster \n",
    "importlib.reload(nue_booster)\n",
    "import awkward\n",
    "from matplotlib import gridspec\n",
    "from collections import defaultdict\n",
    "from ROOT import TCanvas, TFile, TProfile, TNtuple, TH1F, TH2F\n",
    "from ROOT import gROOT, gBenchmark, gRandom, gSystem\n",
    "import csv"
   ]
  },
  {
   "cell_type": "code",
   "execution_count": 78,
   "id": "8c1179c4",
   "metadata": {},
   "outputs": [],
   "source": [
    "ending = \"Jan19b\"\n",
    "\n",
    "isBlockwise = False\n",
    "isNue = True"
   ]
  },
  {
   "cell_type": "code",
   "execution_count": 79,
   "id": "b743d0d0",
   "metadata": {},
   "outputs": [],
   "source": [
    "def calcCov(var, bins, ncv_nu, ncv_total, uni_counts, NUnis, plot=False, save=False, axis_label=None, pot=None, isrun3=False, xticks=None, xhigh=None): \n",
    "    \n",
    "    # ncv nu is the neutrino event rate -- i.e. what gets varied in the systematics \n",
    "    # ncv total is the total event rate -- (MC + EXT or estimated signal)\n",
    "    # when background subtracting these two are the same  \n",
    "    \n",
    "    # compute the cov matrix \n",
    "    cov = [ [0]*(len(bins)-1) for x in range(len(bins)-1) ]\n",
    "    frac_cov = [ [0]*(len(bins)-1) for x in range(len(bins)-1) ]\n",
    "    cor = [ [0]*(len(bins)-1) for x in range(len(bins)-1) ]\n",
    "    \n",
    "    N = NUnis\n",
    "    print('contribution = 1/', N)\n",
    "\n",
    "    #####################################################\n",
    "    \n",
    "    for k in range(len(uni_counts)): \n",
    "        \n",
    "        uni = uni_counts[k]\n",
    "        #print(\"uni = \", uni)\n",
    "\n",
    "        for i in range(len(bins)-1): \n",
    "\n",
    "            cvi = ncv_nu[i]\n",
    "            uvi = uni[i]\n",
    "            #print(\"uvi = \", uvi)\n",
    "\n",
    "            for j in range(len(bins)-1): \n",
    "                \n",
    "                cvj = ncv_nu[j]\n",
    "                uvj = uni[j]\n",
    "        \n",
    "                c = ((uvi - cvi)*(uvj - cvj)) / N\n",
    "\n",
    "                cov[i][j] += c\n",
    "                \n",
    "                #cov[i][j] = cov[i][j]/N\n",
    "                \n",
    "                #print(\"ncv_total[i]*ncv_total[j] \", ncv_total[i]*ncv_total[j])\n",
    "                #print(ncv_total[i])\n",
    "                if ncv_total[i]*ncv_total[j] != 0: \n",
    "                    frac_cov[i][j] += c/(ncv_total[i]*ncv_total[j])\n",
    "                    #frac_cov[i][j] = c/(ncv_total[i]*ncv_total[j])\n",
    "            \n",
    "    #####################################################\n",
    "    \n",
    "    if plot: \n",
    "        fig = plt.figure(figsize=(10, 6))\n",
    "        \n",
    "        plt.pcolor(bins, bins, cov, cmap='OrRd', edgecolors='k')\n",
    "            \n",
    "        cbar = plt.colorbar()\n",
    "        cbar.ax.tick_params(labelsize=14)\n",
    "        if pot: \n",
    "            cbar.set_label(label=\"$\\\\nu^{2}$ / \"+pot+\"$^{2}$\", fontsize=15)\n",
    "        \n",
    "        plt.xticks(xticks, fontsize=13)\n",
    "        plt.yticks(xticks,fontsize=13)\n",
    "        \n",
    "        if xhigh: \n",
    "            plt.xlim(bins[0], xhigh)\n",
    "            plt.ylim(bins[0], xhigh)\n",
    "            \n",
    "        else: \n",
    "            plt.xlim(bins[0], bins[-1])\n",
    "            plt.ylim(bins[0], bins[-1])\n",
    "\n",
    "        if axis_label is not None: \n",
    "            plt.xlabel(axis_label, fontsize=15)\n",
    "            plt.ylabel(axis_label, fontsize=15)\n",
    "        else: \n",
    "            plt.xlabel(var, fontsize=15)\n",
    "            plt.ylabel(var, fontsize=15)\n",
    "\n",
    "        plt.title('Covariance Matrix', fontsize=16)\n",
    "        \n",
    "        if save: \n",
    "            plt.savefig(save+var+\"_cov.pdf\", transparent=True, bbox_inches='tight') \n",
    "            print('saving to: '+save)\n",
    "        plt.show()\n",
    "        \n",
    "        ##################################\n",
    "        # fractional covariance \n",
    "        fig = plt.figure(figsize=(10, 6))\n",
    "        \n",
    "        plt.pcolor(bins, bins, frac_cov, cmap='OrRd', edgecolors='k')#, vmin=0, vmax=.03)\n",
    "            \n",
    "        cbar = plt.colorbar()\n",
    "        cbar.ax.tick_params(labelsize=14)\n",
    "        \n",
    "        \n",
    "        if pot: \n",
    "            cbar.set_label(label=\"$\\\\nu^{2}$ / \"+pot+\"$^{2}$\", fontsize=15)\n",
    "\n",
    "        if axis_label is not None: \n",
    "            plt.xlabel(axis_label, fontsize=15)\n",
    "            plt.ylabel(axis_label, fontsize=15)\n",
    "        else: \n",
    "            plt.xlabel(var, fontsize=15)\n",
    "            plt.ylabel(var, fontsize=15)\n",
    "            \n",
    "        plt.xticks(xticks, fontsize=13)\n",
    "        plt.yticks(xticks,fontsize=13)\n",
    "        \n",
    "        if xhigh: \n",
    "            plt.xlim(bins[0], xhigh)\n",
    "            plt.ylim(bins[0], xhigh)\n",
    "            \n",
    "        else: \n",
    "            plt.xlim(bins[0], bins[-1])\n",
    "            plt.ylim(bins[0], bins[-1])\n",
    "\n",
    "        plt.title('Fractional Covariance Matrix', fontsize=16)\n",
    "        \n",
    "        if save: \n",
    "            plt.savefig(save+var+\"_frac_cov.pdf\", transparent=True, bbox_inches='tight') \n",
    "        plt.show()\n",
    "        \n",
    "    #####################################################    \n",
    "    # compute the corr matrix \n",
    "\n",
    "    for i in range(len(cov)): \n",
    "        for j in range(len(cov[i])): \n",
    "            \n",
    "            #print(i, j, cov[i][j], cov[i][i], cov[j][j])\n",
    "\n",
    "            if np.sqrt(cov[i][i])*np.sqrt(cov[j][j]) != 0: \n",
    "                cor[i][j] = cov[i][j] / (np.sqrt(cov[i][i])*np.sqrt(cov[j][j]))\n",
    "            \n",
    "            #print(cor[i][j])\n",
    "    \n",
    "    #####################################################\n",
    "    \n",
    "    if plot: \n",
    "        fig = plt.figure(figsize=(10, 6))\n",
    "\n",
    "        plt.pcolor(bins, bins, cor, cmap='OrRd', edgecolors='k', vmin=-1, vmax=1)\n",
    "        cbar = plt.colorbar()\n",
    "        cbar.ax.tick_params(labelsize=14)\n",
    "    \n",
    "\n",
    "        if axis_label is not None: \n",
    "            plt.xlabel(axis_label, fontsize=15)\n",
    "            plt.ylabel(axis_label, fontsize=15)\n",
    "        else: \n",
    "            plt.xlabel(var, fontsize=15)\n",
    "            plt.ylabel(var, fontsize=15)\n",
    "            \n",
    "        plt.xticks(xticks, fontsize=13)\n",
    "        plt.yticks(xticks,fontsize=13)\n",
    "        \n",
    "        if pot: \n",
    "            cbar.set_label(label=\"$\\\\nu^{2}$ / \"+pot+\"$^{2}$\", fontsize=15)\n",
    "        \n",
    "        if xhigh: \n",
    "            plt.xlim(bins[0], xhigh)\n",
    "            plt.ylim(bins[0], xhigh)\n",
    "            \n",
    "        else: \n",
    "            plt.xlim(bins[0], bins[-1])\n",
    "            plt.ylim(bins[0], bins[-1])\n",
    "            \n",
    "        plt.title('Correlation Matrix', fontsize=16)\n",
    "        if save: \n",
    "            plt.savefig(save+var+\"_cor.pdf\", transparent=True, bbox_inches='tight') \n",
    "        plt.show()\n",
    "        \n",
    "    #####################################################\n",
    "    \n",
    "    # sys_err = [np.sqrt(x) for x in np.diagonal(cov)]\n",
    "    # percent error = [y/z for y,z in zip(sys_err, ncv)] # w.r.t. to whatever event rate is being used (total or background subtracted)\n",
    "        \n",
    "    dictionary = {\n",
    "        'cov' : cov, \n",
    "        'frac_cov' : frac_cov, \n",
    "        'cor' : cor,\n",
    "        'fractional_uncertainty' : np.sqrt(np.diag(frac_cov))\n",
    "    }\n",
    "           \n",
    "    return dictionary"
   ]
  },
  {
   "cell_type": "markdown",
   "id": "e5b64b0f",
   "metadata": {},
   "source": [
    "## Angle"
   ]
  },
  {
   "cell_type": "code",
   "execution_count": 80,
   "id": "207437ca",
   "metadata": {},
   "outputs": [
    {
     "name": "stdout",
     "output_type": "stream",
     "text": [
      "[-0.15726992  0.94498491  0.95641042  0.75974582  2.21033867  3.51911618\n",
      "  3.16545063  6.67807978 11.30195708 20.77641932]\n"
     ]
    }
   ],
   "source": [
    "if isBlockwise == True:\n",
    "    data_signal_nuWro = pd.read_csv(\"data_signal_MC_nuWro_input_angleDiff_comb_\"+ending+\".csv\", header=None)\n",
    "elif isBlockwise == False and isNue == True:\n",
    "    data_signal_nuWro = pd.read_csv(\"nue_nuWro_MC_Data_Signal_recoCut_run1_angle_\"+ending+\".csv\", header=None)\n",
    "elif isBlockwise == False and isNue == False:\n",
    "    data_signal_nuWro = pd.read_csv(\"numu_nuWro_MC_Data_Signal_recoCut_run1_angle_\"+ending+\".csv\", header=None)    \n",
    "\n",
    "data_signal_nuWro = data_signal_nuWro.values[:, 0]\n",
    "\n",
    "print(data_signal_nuWro)"
   ]
  },
  {
   "cell_type": "code",
   "execution_count": 81,
   "id": "5a6a42c8",
   "metadata": {},
   "outputs": [
    {
     "name": "stdout",
     "output_type": "stream",
     "text": [
      "[ 0.32608114  0.58600575  0.84601623  1.00770023  1.67939013  2.49283483\n",
      "  3.62434556  5.56009223 11.34538837 26.18945348]\n"
     ]
    }
   ],
   "source": [
    "#RUN 1 ONLY\n",
    "if isBlockwise == True:\n",
    "    data_signal_genie = pd.read_csv(\"nue_full_500_catsel_nopions_angleDiff_usingSelection_data_signal_MCONLY_blockwise_recoCut_\"+ending+\".csv\", header=None)\n",
    "elif isBlockwise == False and isNue == True:\n",
    "    data_signal_genie = pd.read_csv(\"nue_full_500_catsel_nopions_angleDiff_usingSelection_data_signal_MCONLY_recoCut_\"+ending+\".csv\", header=None)\n",
    "elif isBlockwise == False and isNue == False:\n",
    "    data_signal_genie = pd.read_csv(\"numu_full_500_catsel_nopions_angleDiff_usingSelection_data_signal_MCONLY_recoCut_\"+ending+\".csv\", header=None)\n",
    "\n",
    "data_signal_genie = data_signal_genie.values[:, 0]\n",
    "\n",
    "print(data_signal_genie)"
   ]
  },
  {
   "cell_type": "code",
   "execution_count": 82,
   "id": "74fd7b66",
   "metadata": {},
   "outputs": [
    {
     "name": "stdout",
     "output_type": "stream",
     "text": [
      "[ 0  1  2  3  4  5  6  7  8  9 10]\n",
      "contribution = 1/ 1\n"
     ]
    }
   ],
   "source": [
    "if isBlockwise == True:\n",
    "    bins = np.arange(0, 21, 1)\n",
    "elif isBlockwise == False:\n",
    "    bins = np.arange(0, 11, 1)\n",
    "\n",
    "print(bins)\n",
    "\n",
    "\n",
    "full_info = {}\n",
    "xvar=\"Energy\"\n",
    "\n",
    "\n",
    "full_info = calcCov(xvar, bins, \n",
    "                            data_signal_genie, \n",
    "                            data_signal_genie, \n",
    "                            [data_signal_nuWro ], 1)"
   ]
  },
  {
   "cell_type": "code",
   "execution_count": 83,
   "id": "5cb5acc0",
   "metadata": {},
   "outputs": [],
   "source": [
    "cov = [ [0]*(len(bins)-1) for x in range(len(bins)-1) ]\n",
    "frac_cov = [ [0]*(len(bins)-1) for x in range(len(bins)-1) ]\n",
    "cor = [ [0]*(len(bins)-1) for x in range(len(bins)-1) ]\n",
    "\n",
    "for i in range(len(bins)-1): \n",
    "    for j in range(len(bins)-1):\n",
    "            \n",
    "        cov[i][j] = sum([full_info['cov'][i][j]])\n",
    "        frac_cov[i][j] = sum([full_info['frac_cov'][i][j]])\n",
    "        \n",
    "# compute the corr matrix \n",
    "for i in range(len(cov)): \n",
    "    for j in range(len(cov[i])): \n",
    "\n",
    "        if np.sqrt(cov[i][i])*np.sqrt(cov[j][j]) != 0: \n",
    "            cor[i][j] = cov[i][j] / (np.sqrt(cov[i][i])*np.sqrt(cov[j][j]))\n",
    "\n",
    "detsys_dict_ppfx = {\n",
    "    'cov' : cov, \n",
    "    'frac_cov' : frac_cov,\n",
    "    'fractional_uncertainty' : np.sqrt(np.diag(frac_cov)),\n",
    "    'cor' : cor\n",
    "} "
   ]
  },
  {
   "cell_type": "code",
   "execution_count": 84,
   "id": "5d8eb9b0",
   "metadata": {},
   "outputs": [
    {
     "data": {
      "image/png": "[encoded data removed]",
      "text/plain": [
       "<Figure size 720x432 with 2 Axes>"
      ]
     },
     "metadata": {
      "needs_background": "light"
     },
     "output_type": "display_data"
    }
   ],
   "source": [
    "fig = plt.figure(figsize=(10, 6))\n",
    "        \n",
    "plt.pcolor(bins, bins, (detsys_dict_ppfx['cov']), cmap='OrRd', edgecolors='k')#, vmin=-1, vmax=1)\n",
    "            \n",
    "cbar = plt.colorbar()\n",
    "cbar.ax.tick_params(labelsize=14)\n",
    "\n",
    "\n",
    "\n",
    "\n",
    "#plt.xlabel('Reco Shower Energy [GeV]', fontsize=15)\n",
    "#plt.ylabel('Reco Shower Energy [GeV]', fontsize=15)\n",
    "\n",
    "plt.title('Covariance', fontsize=15)\n",
    "\n",
    "plt.show()"
   ]
  },
  {
   "cell_type": "code",
   "execution_count": 85,
   "id": "08f12d46",
   "metadata": {},
   "outputs": [],
   "source": [
    "if isBlockwise == True:\n",
    "    np.savetxt(\"nuWro_extra_unisim_uncertainties_angle_\"+ending+\".csv\", \n",
    "                   detsys_dict_ppfx['cov'],\n",
    "                   delimiter =\", \", \n",
    "                   fmt ='% s')"
   ]
  },
  {
   "cell_type": "code",
   "execution_count": 86,
   "id": "b8bb59d2",
   "metadata": {},
   "outputs": [
    {
     "data": {
      "image/png": "[encoded data removed]",
      "text/plain": [
       "<Figure size 720x432 with 2 Axes>"
      ]
     },
     "metadata": {
      "needs_background": "light"
     },
     "output_type": "display_data"
    }
   ],
   "source": [
    "# Now we have the generalise this matrix to work for the combined R1 and R3\n",
    "\n",
    "#Start with the fractional cov matrix\n",
    "\n",
    "fig = plt.figure(figsize=(10, 6))\n",
    "        \n",
    "plt.pcolor(bins, bins, (detsys_dict_ppfx['frac_cov']), cmap='OrRd', edgecolors='k')#, vmin=-1, vmax=1)\n",
    "            \n",
    "cbar = plt.colorbar()\n",
    "cbar.ax.tick_params(labelsize=14)\n",
    "\n",
    "\n",
    "\n",
    "\n",
    "#plt.xlabel('Reco Shower Energy [GeV]', fontsize=15)\n",
    "#plt.ylabel('Reco Shower Energy [GeV]', fontsize=15)\n",
    "\n",
    "plt.title('Covariance', fontsize=15)\n",
    "\n",
    "plt.show()"
   ]
  },
  {
   "cell_type": "code",
   "execution_count": 87,
   "id": "53248cc4",
   "metadata": {},
   "outputs": [
    {
     "name": "stdout",
     "output_type": "stream",
     "text": [
      "[ 1.10186068  1.91905171  1.92910177  3.20576209  5.43678214  6.68266298\n",
      "  9.65650884 16.65849652 30.26753438 78.40512385]\n"
     ]
    }
   ],
   "source": [
    "# Now fetch the R1+R3 CV genie value\n",
    "if isBlockwise == True:\n",
    "    data_signal_genie_comb = pd.read_csv(\"nue_full_500_catsel_nopions_angleDiff_usingSelection_data_signal_MCONLY_blockwise_recoCut_comb_\"+ending+\".csv\", header=None)\n",
    "elif isBlockwise == False and isNue == True:\n",
    "    data_signal_genie_comb = pd.read_csv(\"nue_full_500_catsel_nopions_angleDiff_usingSelection_data_signal_MCONLY_recoCut_comb_\"+ending+\".csv\", header=None)\n",
    "elif isBlockwise == False and isNue == False:\n",
    "    data_signal_genie_comb = pd.read_csv(\"numu_full_500_catsel_nopions_angleDiff_usingSelection_data_signal_MCONLY_recoCut_comb_\"+ending+\".csv\", header=None)\n",
    "\n",
    "    \n",
    "data_signal_genie_comb = data_signal_genie_comb.values[:, 0]\n",
    "\n",
    "print(data_signal_genie_comb)"
   ]
  },
  {
   "cell_type": "code",
   "execution_count": 88,
   "id": "128e3f3f",
   "metadata": {
    "scrolled": true
   },
   "outputs": [],
   "source": [
    "#Multiply the fractional cov matrix by the new CV value\n",
    "\n",
    "temp_cov = detsys_dict_ppfx['frac_cov']\n",
    "\n",
    "comb_cov = [ [0]*(len(bins)-1) for x in range(len(bins)-1) ]\n",
    "\n",
    "for i in range(len(bins)-1):\n",
    "    for j in range(len(bins)-1):\n",
    "        if data_signal_genie_comb[i]*data_signal_genie_comb[j] != 0:\n",
    "            \n",
    "            comb_cov[i][j] += temp_cov[i][j]*(data_signal_genie_comb[i]*data_signal_genie_comb[j])\n",
    "            "
   ]
  },
  {
   "cell_type": "code",
   "execution_count": 89,
   "id": "fcd28931",
   "metadata": {},
   "outputs": [
    {
     "data": {
      "image/png": "[encoded data removed]",
      "text/plain": [
       "<Figure size 720x432 with 2 Axes>"
      ]
     },
     "metadata": {
      "needs_background": "light"
     },
     "output_type": "display_data"
    }
   ],
   "source": [
    "fig = plt.figure(figsize=(10, 6))\n",
    "        \n",
    "plt.pcolor(bins, bins, comb_cov, cmap='OrRd', edgecolors='k')#, vmin=-1, vmax=1)\n",
    "            \n",
    "cbar = plt.colorbar()\n",
    "cbar.ax.tick_params(labelsize=14)\n",
    "\n",
    "\n",
    "\n",
    "\n",
    "#plt.xlabel('Reco Shower Energy [GeV]', fontsize=15)\n",
    "#plt.ylabel('Reco Shower Energy [GeV]', fontsize=15)\n",
    "\n",
    "plt.title('Covariance', fontsize=15)\n",
    "\n",
    "plt.show()"
   ]
  },
  {
   "cell_type": "code",
   "execution_count": 90,
   "id": "7ac6152d",
   "metadata": {},
   "outputs": [],
   "source": [
    "if isBlockwise == True:\n",
    "    np.savetxt(\"nuWro_extra_unisim_uncertainties_angle_comb_\"+ending+\".csv\", \n",
    "                   comb_cov,\n",
    "                   delimiter =\", \", \n",
    "                   fmt ='% s')\n",
    "elif isBlockwise == False and isNue == True:\n",
    "    np.savetxt(\"nuWro_extra_unisim_uncertainties_angle_nueonly_\"+ending+\".csv\", \n",
    "                   comb_cov,\n",
    "                   delimiter =\", \", \n",
    "                   fmt ='% s')\n",
    "elif isBlockwise == False and isNue == False:\n",
    "    np.savetxt(\"nuWro_extra_unisim_uncertainties_angle_numuonly_\"+ending+\".csv\", \n",
    "                   comb_cov,\n",
    "                   delimiter =\", \", \n",
    "                   fmt ='% s')  "
   ]
  },
  {
   "cell_type": "markdown",
   "id": "040405d7",
   "metadata": {},
   "source": [
    "## Lepton"
   ]
  },
  {
   "cell_type": "code",
   "execution_count": 91,
   "id": "778f7518",
   "metadata": {},
   "outputs": [
    {
     "name": "stdout",
     "output_type": "stream",
     "text": [
      "[ 8.36354517 20.22203992 10.4089869   6.28505755  2.37682724  1.27524831\n",
      "  0.80869354  0.41483426]\n"
     ]
    }
   ],
   "source": [
    "if isBlockwise == True:\n",
    "    data_signal_nuWro_lepton = pd.read_csv(\"data_signal_MC_nuWro_input_leptonMom_comb_\"+ending+\".csv\", header=None)\n",
    "elif isBlockwise == False and isNue == True:\n",
    "    data_signal_nuWro_lepton = pd.read_csv(\"nue_nuWro_MC_Data_Signal_recoCut_run1_lepton_\"+ending+\".csv\", header=None)\n",
    "elif isBlockwise == False and isNue == False:\n",
    "    data_signal_nuWro_lepton = pd.read_csv(\"numu_nuWro_MC_Data_Signal_recoCut_run1_lepton_\"+ending+\".csv\", header=None)    \n",
    "\n",
    "data_signal_nuWro_lepton = data_signal_nuWro_lepton.values[:, 0]\n",
    "\n",
    "\n",
    "print(data_signal_nuWro_lepton)"
   ]
  },
  {
   "cell_type": "code",
   "execution_count": 92,
   "id": "dd5a7053",
   "metadata": {},
   "outputs": [
    {
     "name": "stdout",
     "output_type": "stream",
     "text": [
      "[ 7.16774974 20.2288866  12.96634445  6.95381798  3.17507775  1.39007549\n",
      "  0.74786084  1.0274951 ]\n"
     ]
    }
   ],
   "source": [
    "#RUN 1 ONLY\n",
    "\n",
    "if isBlockwise == True:\n",
    "    data_signal_genie_lepton = pd.read_csv(\"nue_full_500_catsel_nopions_leptonMom_usingSelection_data_signal_MCONLY_blockwise_recoCut_\"+ending+\".csv\", header=None)\n",
    "elif isBlockwise == False and isNue == True:\n",
    "    data_signal_genie_lepton = pd.read_csv(\"nue_full_500_catsel_nopions_leptonMom_usingSelection_data_signal_MCONLY_recoCut_\"+ending+\".csv\", header=None)\n",
    "elif isBlockwise == False and isNue == False:\n",
    "    data_signal_genie_lepton = pd.read_csv(\"numu_full_500_catsel_nopions_leptonMom_usingSelection_data_signal_MCONLY_recoCut_\"+ending+\".csv\", header=None)\n",
    "\n",
    "data_signal_genie_lepton = data_signal_genie_lepton.values[:, 0]\n",
    "    \n",
    "print(data_signal_genie_lepton)"
   ]
  },
  {
   "cell_type": "code",
   "execution_count": 93,
   "id": "5abd2d01",
   "metadata": {},
   "outputs": [
    {
     "name": "stdout",
     "output_type": "stream",
     "text": [
      "[0 1 2 3 4 5 6 7 8]\n",
      "contribution = 1/ 1\n"
     ]
    }
   ],
   "source": [
    "if isBlockwise == True:\n",
    "    bins = np.arange(0, 17, 1)\n",
    "elif isBlockwise == False:\n",
    "    bins = np.arange(0, 9, 1)   \n",
    "\n",
    "\n",
    "print(bins)\n",
    "\n",
    "\n",
    "full_info_lepton = {}\n",
    "xvar=\"LeptonMom\"\n",
    "\n",
    "\n",
    "full_info_lepton = calcCov(xvar, bins, \n",
    "                            data_signal_genie_lepton, \n",
    "                            data_signal_genie_lepton, \n",
    "                            [data_signal_nuWro_lepton ], 1)"
   ]
  },
  {
   "cell_type": "code",
   "execution_count": 94,
   "id": "289d845a",
   "metadata": {},
   "outputs": [],
   "source": [
    "cov_lepton = [ [0]*(len(bins)-1) for x in range(len(bins)-1) ]\n",
    "frac_cov_lepton = [ [0]*(len(bins)-1) for x in range(len(bins)-1) ]\n",
    "cor_lepton = [ [0]*(len(bins)-1) for x in range(len(bins)-1) ]\n",
    "\n",
    "for i in range(len(bins)-1): \n",
    "    for j in range(len(bins)-1):\n",
    "            \n",
    "        cov_lepton[i][j] = sum([full_info_lepton['cov'][i][j]])\n",
    "        frac_cov_lepton[i][j] = sum([full_info_lepton['frac_cov'][i][j]])\n",
    "        \n",
    "# compute the corr matrix \n",
    "for i in range(len(cov_lepton)): \n",
    "    for j in range(len(cov_lepton[i])): \n",
    "\n",
    "        if np.sqrt(cov_lepton[i][i])*np.sqrt(cov_lepton[j][j]) != 0: \n",
    "            cor_lepton[i][j] = cov_lepton[i][j] / (np.sqrt(cov_lepton[i][i])*np.sqrt(cov_lepton[j][j]))\n",
    "\n",
    "detsys_dict_ppfx_lepton = {\n",
    "    'cov' : cov_lepton, \n",
    "    'frac_cov' : frac_cov_lepton,\n",
    "    'fractional_uncertainty' : np.sqrt(np.diag(frac_cov_lepton)),\n",
    "    'cor' : cor_lepton\n",
    "} "
   ]
  },
  {
   "cell_type": "code",
   "execution_count": 95,
   "id": "c57d4a9b",
   "metadata": {},
   "outputs": [
    {
     "data": {
      "image/png": "[encoded data removed]",
      "text/plain": [
       "<Figure size 720x432 with 2 Axes>"
      ]
     },
     "metadata": {
      "needs_background": "light"
     },
     "output_type": "display_data"
    }
   ],
   "source": [
    "fig = plt.figure(figsize=(10, 6))\n",
    "        \n",
    "plt.pcolor(bins, bins, (detsys_dict_ppfx_lepton['cov']), cmap='OrRd', edgecolors='k')#, vmin=-1, vmax=1)\n",
    "            \n",
    "cbar = plt.colorbar()\n",
    "cbar.ax.tick_params(labelsize=14)\n",
    "\n",
    "\n",
    "\n",
    "\n",
    "#plt.xlabel('Reco Shower Energy [GeV]', fontsize=15)\n",
    "#plt.ylabel('Reco Shower Energy [GeV]', fontsize=15)\n",
    "\n",
    "plt.title('Covariance', fontsize=15)\n",
    "\n",
    "plt.show()"
   ]
  },
  {
   "cell_type": "code",
   "execution_count": 96,
   "id": "66e79866",
   "metadata": {},
   "outputs": [],
   "source": [
    "if isBlockwise == True:\n",
    "    np.savetxt(\"nuWro_extra_unisim_uncertainties_lepton_\"+ending+\".csv\", \n",
    "                   detsys_dict_ppfx_lepton['cov'],\n",
    "                   delimiter =\", \", \n",
    "                   fmt ='% s')"
   ]
  },
  {
   "cell_type": "code",
   "execution_count": 97,
   "id": "d819ca0a",
   "metadata": {},
   "outputs": [
    {
     "data": {
      "image/png": "[encoded data removed]",
      "text/plain": [
       "<Figure size 720x432 with 2 Axes>"
      ]
     },
     "metadata": {
      "needs_background": "light"
     },
     "output_type": "display_data"
    }
   ],
   "source": [
    "# Now we have the generalise this matrix to work for the combined R1 and R3\n",
    "\n",
    "#Start with the fractional cov matrix\n",
    "\n",
    "fig = plt.figure(figsize=(10, 6))\n",
    "        \n",
    "plt.pcolor(bins, bins, (detsys_dict_ppfx_lepton['frac_cov']), cmap='OrRd', edgecolors='k')#, vmin=-1, vmax=1)\n",
    "            \n",
    "cbar = plt.colorbar()\n",
    "cbar.ax.tick_params(labelsize=14)\n",
    "\n",
    "\n",
    "\n",
    "\n",
    "#plt.xlabel('Reco Shower Energy [GeV]', fontsize=15)\n",
    "#plt.ylabel('Reco Shower Energy [GeV]', fontsize=15)\n",
    "\n",
    "plt.title('Covariance', fontsize=15)\n",
    "\n",
    "plt.show()"
   ]
  },
  {
   "cell_type": "code",
   "execution_count": 98,
   "id": "63d36d9d",
   "metadata": {},
   "outputs": [
    {
     "name": "stdout",
     "output_type": "stream",
     "text": [
      "[22.31536796 54.08118909 36.35617182 20.51811225  9.72911695  4.81284749\n",
      "  3.05209079  4.3979886 ]\n"
     ]
    }
   ],
   "source": [
    "# Now fetch the R1+R3 CV genie value\n",
    "\n",
    "if isBlockwise == True:\n",
    "    data_signal_genie_comb_lepton  = pd.read_csv(\"nue_full_500_catsel_nopions_leptonMom_usingSelection_data_signal_MCONLY_blockwise_recoCut_comb_\"+ending+\".csv\", header=None)\n",
    "elif isBlockwise == False and isNue == True:\n",
    "    data_signal_genie_comb_lepton  = pd.read_csv(\"nue_full_500_catsel_nopions_leptonMom_usingSelection_data_signal_MCONLY_recoCut_comb_\"+ending+\".csv\", header=None)\n",
    "elif isBlockwise == False and isNue == False:\n",
    "    data_signal_genie_comb_lepton  = pd.read_csv(\"numu_full_500_catsel_nopions_leptonMom_usingSelection_data_signal_MCONLY_recoCut_comb_\"+ending+\".csv\", header=None)\n",
    "\n",
    "data_signal_genie_comb_lepton = data_signal_genie_comb_lepton.values[:, 0]\n",
    "\n",
    "print(data_signal_genie_comb_lepton)"
   ]
  },
  {
   "cell_type": "code",
   "execution_count": 99,
   "id": "1cad7687",
   "metadata": {},
   "outputs": [],
   "source": [
    "#Multiply the fractional cov matrix by the new CV value\n",
    "\n",
    "temp_cov_lepton = detsys_dict_ppfx_lepton['frac_cov']\n",
    "\n",
    "comb_cov_lepton = [ [0]*(len(bins)-1) for x in range(len(bins)-1) ]\n",
    "\n",
    "for i in range(len(bins)-1):\n",
    "    for j in range(len(bins)-1):\n",
    "        if data_signal_genie_comb_lepton[i]*data_signal_genie_comb_lepton[j] != 0:\n",
    "            \n",
    "            comb_cov_lepton[i][j] += temp_cov_lepton[i][j]*(data_signal_genie_comb_lepton[i]*data_signal_genie_comb_lepton[j])\n",
    "            "
   ]
  },
  {
   "cell_type": "code",
   "execution_count": 100,
   "id": "dd456132",
   "metadata": {},
   "outputs": [
    {
     "data": {
      "image/png": "[encoded data removed]",
      "text/plain": [
       "<Figure size 720x432 with 2 Axes>"
      ]
     },
     "metadata": {
      "needs_background": "light"
     },
     "output_type": "display_data"
    }
   ],
   "source": [
    "fig = plt.figure(figsize=(10, 6))\n",
    "        \n",
    "plt.pcolor(bins, bins, (comb_cov_lepton), cmap='OrRd', edgecolors='k')#, vmin=-1, vmax=1)\n",
    "            \n",
    "cbar = plt.colorbar()\n",
    "cbar.ax.tick_params(labelsize=14)\n",
    "\n",
    "\n",
    "\n",
    "\n",
    "#plt.xlabel('Reco Shower Energy [GeV]', fontsize=15)\n",
    "#plt.ylabel('Reco Shower Energy [GeV]', fontsize=15)\n",
    "\n",
    "plt.title('Covariance', fontsize=15)\n",
    "\n",
    "plt.show()"
   ]
  },
  {
   "cell_type": "code",
   "execution_count": 101,
   "id": "0e4dee4e",
   "metadata": {},
   "outputs": [],
   "source": [
    "if isBlockwise == True:\n",
    "    np.savetxt(\"nuWro_extra_unisim_uncertainties_lepton_comb_\"+ending+\".csv\", \n",
    "                   comb_cov_lepton,\n",
    "                   delimiter =\", \", \n",
    "                   fmt ='% s')\n",
    "elif isBlockwise == False and isNue == True:\n",
    "    np.savetxt(\"nuWro_extra_unisim_uncertainties_lepton_nueonly_\"+ending+\".csv\", \n",
    "                   comb_cov_lepton,\n",
    "                   delimiter =\", \", \n",
    "                   fmt ='% s')\n",
    "elif isBlockwise == False and isNue == False:\n",
    "    np.savetxt(\"nuWro_extra_unisim_uncertainties_lepton_numuonly_\"+ending+\".csv\", \n",
    "                   comb_cov_lepton,\n",
    "                   delimiter =\", \", \n",
    "                   fmt ='% s')  "
   ]
  },
  {
   "cell_type": "markdown",
   "id": "6fd231b1",
   "metadata": {},
   "source": [
    "## Energy"
   ]
  },
  {
   "cell_type": "code",
   "execution_count": 102,
   "id": "11d95976",
   "metadata": {},
   "outputs": [
    {
     "name": "stdout",
     "output_type": "stream",
     "text": [
      "[ 8.6668854  27.61469215  9.74686459  2.82537208  0.92893624  0.37248243]\n"
     ]
    }
   ],
   "source": [
    "if isBlockwise == True:\n",
    "    data_signal_nuWro_energy = pd.read_csv(\"data_signal_MC_nuWro_input_recoE_comb_\"+ending+\".csv\", header=None)\n",
    "elif isBlockwise == False and isNue == True:\n",
    "    data_signal_nuWro_energy = pd.read_csv(\"nue_nuWro_MC_Data_Signal_recoCut_run1_energy_\"+ending+\".csv\", header=None)\n",
    "elif isBlockwise == False and isNue == False:\n",
    "    data_signal_nuWro_energy = pd.read_csv(\"numu_nuWro_MC_Data_Signal_recoCut_run1_energy_\"+ending+\".csv\", header=None)    \n",
    "\n",
    "\n",
    "data_signal_nuWro_energy = data_signal_nuWro_energy.values[:, 0]\n",
    "\n",
    "print(data_signal_nuWro_energy)"
   ]
  },
  {
   "cell_type": "code",
   "execution_count": 103,
   "id": "bcdda67b",
   "metadata": {},
   "outputs": [
    {
     "name": "stdout",
     "output_type": "stream",
     "text": [
      "[ 7.54933089 28.90186196 11.869288    3.38853422  1.18822898  0.7600639 ]\n"
     ]
    }
   ],
   "source": [
    "#RUN 1 ONLY\n",
    "\n",
    "if isBlockwise == True:\n",
    "    data_signal_genie_energy = pd.read_csv(\"nue_full_500_catsel_nopions_recoE_usingSelection_data_signal_MCONLY_blockwise_recoCut_\"+ending+\".csv\", header=None)\n",
    "elif isBlockwise == False and isNue == True:\n",
    "    data_signal_genie_energy = pd.read_csv(\"nue_full_500_catsel_nopions_recoE_usingSelection_data_signal_MCONLY_recoCut_\"+ending+\".csv\", header=None)\n",
    "elif isBlockwise == False and isNue == False:\n",
    "    data_signal_genie_energy = pd.read_csv(\"numu_full_500_catsel_nopions_recoE_usingSelection_data_signal_MCONLY_recoCut_\"+ending+\".csv\", header=None)\n",
    "\n",
    "data_signal_genie_energy = data_signal_genie_energy.values[:, 0]\n",
    "\n",
    "print(data_signal_genie_energy)"
   ]
  },
  {
   "cell_type": "code",
   "execution_count": 104,
   "id": "db6f89b3",
   "metadata": {},
   "outputs": [
    {
     "name": "stdout",
     "output_type": "stream",
     "text": [
      "[0 1 2 3 4 5 6]\n",
      "contribution = 1/ 1\n"
     ]
    }
   ],
   "source": [
    "if isBlockwise == True:\n",
    "    bins = np.arange(0, 13, 1)\n",
    "elif isBlockwise == False:\n",
    "    bins = np.arange(0, 7, 1)\n",
    "\n",
    "print(bins)\n",
    "\n",
    "\n",
    "full_info_energy = {}\n",
    "xvar=\"Energy\"\n",
    "\n",
    "\n",
    "full_info_energy = calcCov(xvar, bins, \n",
    "                            data_signal_genie_energy, \n",
    "                            data_signal_genie_energy, \n",
    "                            [data_signal_nuWro_energy ], 1)"
   ]
  },
  {
   "cell_type": "code",
   "execution_count": 105,
   "id": "d99b08cc",
   "metadata": {},
   "outputs": [],
   "source": [
    "cov_energy = [ [0]*(len(bins)-1) for x in range(len(bins)-1) ]\n",
    "frac_cov_energy = [ [0]*(len(bins)-1) for x in range(len(bins)-1) ]\n",
    "cor_energy = [ [0]*(len(bins)-1) for x in range(len(bins)-1) ]\n",
    "\n",
    "for i in range(len(bins)-1): \n",
    "    for j in range(len(bins)-1):\n",
    "            \n",
    "        cov_energy[i][j] = sum([full_info_energy['cov'][i][j]])\n",
    "        frac_cov_energy[i][j] = sum([full_info_energy['frac_cov'][i][j]])\n",
    "        \n",
    "# compute the corr matrix \n",
    "for i in range(len(cov_energy)): \n",
    "    for j in range(len(cov_energy[i])): \n",
    "\n",
    "        if np.sqrt(cov_energy[i][i])*np.sqrt(cov_energy[j][j]) != 0: \n",
    "            cor_energy[i][j] = cov_energy[i][j] / (np.sqrt(cov_energy[i][i])*np.sqrt(cov_energy[j][j]))\n",
    "\n",
    "detsys_dict_ppfx_energy = {\n",
    "    'cov' : cov_energy, \n",
    "    'frac_cov' : frac_cov_energy,\n",
    "    'fractional_uncertainty' : np.sqrt(np.diag(frac_cov_energy)),\n",
    "    'cor' : cor_energy\n",
    "} "
   ]
  },
  {
   "cell_type": "code",
   "execution_count": 106,
   "id": "32c2767d",
   "metadata": {},
   "outputs": [
    {
     "data": {
      "image/png": "[encoded data removed]",
      "text/plain": [
       "<Figure size 720x432 with 2 Axes>"
      ]
     },
     "metadata": {
      "needs_background": "light"
     },
     "output_type": "display_data"
    }
   ],
   "source": [
    "fig = plt.figure(figsize=(10, 6))\n",
    "        \n",
    "plt.pcolor(bins, bins, (detsys_dict_ppfx_energy['cov']), cmap='OrRd', edgecolors='k')#, vmin=-1, vmax=1)\n",
    "            \n",
    "cbar = plt.colorbar()\n",
    "cbar.ax.tick_params(labelsize=14)\n",
    "\n",
    "\n",
    "\n",
    "\n",
    "#plt.xlabel('Reco Shower Energy [GeV]', fontsize=15)\n",
    "#plt.ylabel('Reco Shower Energy [GeV]', fontsize=15)\n",
    "\n",
    "plt.title('Covariance', fontsize=15)\n",
    "\n",
    "plt.show()"
   ]
  },
  {
   "cell_type": "code",
   "execution_count": 107,
   "id": "a60d8f85",
   "metadata": {},
   "outputs": [],
   "source": [
    "if isBlockwise == True:\n",
    "    np.savetxt(\"nuWro_extra_unisim_uncertainties_energy_\"+ending+\".csv\", \n",
    "                   detsys_dict_ppfx_energy['cov'],\n",
    "                   delimiter =\", \", \n",
    "                   fmt ='% s')"
   ]
  },
  {
   "cell_type": "code",
   "execution_count": 108,
   "id": "536a976c",
   "metadata": {},
   "outputs": [
    {
     "data": {
      "image/png": "[encoded data removed]",
      "text/plain": [
       "<Figure size 720x432 with 2 Axes>"
      ]
     },
     "metadata": {
      "needs_background": "light"
     },
     "output_type": "display_data"
    }
   ],
   "source": [
    "# Now we have the generalise this matrix to work for the combined R1 and R3\n",
    "\n",
    "#Start with the fractional cov matrix\n",
    "\n",
    "fig = plt.figure(figsize=(10, 6))\n",
    "        \n",
    "plt.pcolor(bins, bins, (detsys_dict_ppfx_energy['frac_cov']), cmap='OrRd', edgecolors='k')#, vmin=-1, vmax=1)\n",
    "            \n",
    "cbar = plt.colorbar()\n",
    "cbar.ax.tick_params(labelsize=14)\n",
    "\n",
    "\n",
    "\n",
    "\n",
    "#plt.xlabel('Reco Shower Energy [GeV]', fontsize=15)\n",
    "#plt.ylabel('Reco Shower Energy [GeV]', fontsize=15)\n",
    "\n",
    "plt.title('Covariance', fontsize=15)\n",
    "\n",
    "plt.show()"
   ]
  },
  {
   "cell_type": "code",
   "execution_count": 109,
   "id": "183dbbec",
   "metadata": {},
   "outputs": [
    {
     "name": "stdout",
     "output_type": "stream",
     "text": [
      "[22.75025931 77.65268931 35.89616102 11.09976876  4.46142678  3.40257977]\n"
     ]
    }
   ],
   "source": [
    "# Now fetch the R1+R3 CV genie value\n",
    "\n",
    "if isBlockwise == True:\n",
    "    data_signal_genie_comb_energy = pd.read_csv(\"nue_full_500_catsel_nopions_recoE_usingSelection_data_signal_MCONLY_blockwise_recoCut_comb_\"+ending+\".csv\", header=None)\n",
    "elif isBlockwise == False and isNue == True:\n",
    "    data_signal_genie_comb_energy = pd.read_csv(\"nue_full_500_catsel_nopions_recoE_usingSelection_data_signal_MCONLY_recoCut_comb_\"+ending+\".csv\", header=None)\n",
    "elif isBlockwise == False and isNue == False:\n",
    "    data_signal_genie_comb_energy = pd.read_csv(\"numu_full_500_catsel_nopions_recoE_usingSelection_data_signal_MCONLY_recoCut_comb_\"+ending+\".csv\", header=None)\n",
    "\n",
    "data_signal_genie_comb_energy = data_signal_genie_comb_energy.values[:, 0]\n",
    "\n",
    "print(data_signal_genie_comb_energy)"
   ]
  },
  {
   "cell_type": "code",
   "execution_count": 110,
   "id": "b459f36c",
   "metadata": {},
   "outputs": [],
   "source": [
    "#Multiply the fractional cov matrix by the new CV value\n",
    "\n",
    "temp_cov_energy = detsys_dict_ppfx_energy['frac_cov']\n",
    "\n",
    "comb_cov_energy = [ [0]*(len(bins)-1) for x in range(len(bins)-1) ]\n",
    "\n",
    "for i in range(len(bins)-1):\n",
    "    for j in range(len(bins)-1):\n",
    "        if data_signal_genie_comb_energy[i]*data_signal_genie_comb_energy[j] != 0:\n",
    "            \n",
    "            comb_cov_energy[i][j] += temp_cov_energy[i][j]*(data_signal_genie_comb_energy[i]*data_signal_genie_comb_energy[j])\n",
    "            "
   ]
  },
  {
   "cell_type": "code",
   "execution_count": 111,
   "id": "f986f6ed",
   "metadata": {},
   "outputs": [
    {
     "data": {
      "image/png": "[encoded data removed]",
      "text/plain": [
       "<Figure size 720x432 with 2 Axes>"
      ]
     },
     "metadata": {
      "needs_background": "light"
     },
     "output_type": "display_data"
    }
   ],
   "source": [
    "fig = plt.figure(figsize=(10, 6))\n",
    "        \n",
    "plt.pcolor(bins, bins, comb_cov_energy, cmap='OrRd', edgecolors='k')#, vmin=-1, vmax=1)\n",
    "            \n",
    "cbar = plt.colorbar()\n",
    "cbar.ax.tick_params(labelsize=14)\n",
    "\n",
    "\n",
    "\n",
    "\n",
    "#plt.xlabel('Reco Shower Energy [GeV]', fontsize=15)\n",
    "#plt.ylabel('Reco Shower Energy [GeV]', fontsize=15)\n",
    "\n",
    "plt.title('Covariance', fontsize=15)\n",
    "\n",
    "plt.show()"
   ]
  },
  {
   "cell_type": "code",
   "execution_count": 112,
   "id": "7f32bc55",
   "metadata": {},
   "outputs": [],
   "source": [
    "if isBlockwise == True:\n",
    "    np.savetxt(\"nuWro_extra_unisim_uncertainties_energy_comb_\"+ending+\".csv\", \n",
    "                   comb_cov_energy,\n",
    "                   delimiter =\", \", \n",
    "                   fmt ='% s')\n",
    "elif isBlockwise == False and isNue == True:\n",
    "    np.savetxt(\"nuWro_extra_unisim_uncertainties_energy_nueonly_\"+ending+\".csv\", \n",
    "                   comb_cov_energy,\n",
    "                   delimiter =\", \", \n",
    "                   fmt ='% s')\n",
    "elif isBlockwise == False and isNue == False:\n",
    "    np.savetxt(\"nuWro_extra_unisim_uncertainties_energy_numuonly_\"+ending+\".csv\", \n",
    "                   comb_cov_energy,\n",
    "                   delimiter =\", \", \n",
    "                   fmt ='% s') "
   ]
  },
  {
   "cell_type": "code",
   "execution_count": null,
   "id": "66696565",
   "metadata": {},
   "outputs": [],
   "source": []
  },
  {
   "cell_type": "code",
   "execution_count": null,
   "id": "914e78c6",
   "metadata": {},
   "outputs": [],
   "source": []
  },
  {
   "cell_type": "code",
   "execution_count": null,
   "id": "5872f25d",
   "metadata": {},
   "outputs": [],
   "source": []
  }
 ],
 "metadata": {
  "kernelspec": {
   "display_name": "Python 3 (ipykernel)",
   "language": "python",
   "name": "python3"
  },
  "language_info": {
   "codemirror_mode": {
    "name": "ipython",
    "version": 3
   },
   "file_extension": ".py",
   "mimetype": "text/x-python",
   "name": "python",
   "nbconvert_exporter": "python",
   "pygments_lexer": "ipython3",
   "version": "3.8.12"
  }
 },
 "nbformat": 4,
 "nbformat_minor": 5
}
