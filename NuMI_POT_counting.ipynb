{
 "cells": [
  {
   "cell_type": "code",
   "execution_count": 2,
   "metadata": {},
   "outputs": [],
   "source": [
    "import uproot\n",
    "folder = \"nuselection\"\n",
    "tree = \"SubRun\""
   ]
  },
  {
   "cell_type": "code",
   "execution_count": 3,
   "metadata": {},
   "outputs": [
    {
     "name": "stdout",
     "output_type": "stream",
     "text": [
      "/Users/elenag/Desktop/PlotterLEE/PELEE3/\n"
     ]
    }
   ],
   "source": [
    "import sys\n",
    "import localSettings as ls\n",
    "print(ls.main_path)\n",
    "\n",
    "main_path = ls.main_path\n",
    "sys.path.append(main_path)"
   ]
  },
  {
   "cell_type": "markdown",
   "metadata": {},
   "source": [
    "# NuMI MC overlay samples"
   ]
  },
  {
   "cell_type": "code",
   "execution_count": 11,
   "metadata": {},
   "outputs": [
    {
     "name": "stdout",
     "output_type": "stream",
     "text": [
      "/Users/elenag/Desktop/PlotterLEE/root_files/newTune/prodgenie_numi_uboone_overlay_fhc_mcc9_run1_v28_all_snapshot.root\n",
      "POT 2.32135e+21\n",
      "\n",
      "/Users/elenag/Desktop/PlotterLEE/root_files/newTune/prodgenie_numi_nue_overlay_mcc9_v08_00_00_48_CV_reco2_run1_reco2.root\n",
      "POT 2.59311e+22\n",
      "\n",
      "/Users/elenag/Desktop/PlotterLEE/root_files/neutrinoselection_filt_run1_dirt_overlay.root\n",
      "POT 1.42143e+21\n",
      "\n"
     ]
    }
   ],
   "source": [
    "# Name of root files for the various samples \n",
    "# Full MC Sample (All Neutrino Types distribuited according to the Flux CV)\n",
    "NU   = ls.ntuple_path+'newTune/prodgenie_numi_uboone_overlay_fhc_mcc9_run1_v28_all_snapshot.root'\n",
    "# Nue+NueBar CC Only MC Sample (neutrinos are generated only within Active Volume)\n",
    "NUE  = ls.ntuple_path+'newTune/prodgenie_numi_nue_overlay_mcc9_v08_00_00_48_CV_reco2_run1_reco2.root'\n",
    "# MC Dirt Sample (neutrinos are generated only outside Active Volume)\n",
    "DRT  = ls.ntuple_path+'neutrinoselection_filt_run1_dirt_overlay.root'\n",
    "\n",
    "\n",
    "sampleName_list = [ NU, NUE, DRT]\n",
    "\n",
    "for filename in sampleName_list:\n",
    "    mc_tree = uproot.open(filename)[folder][tree]\n",
    "    df_mc = mc_tree.pandas.df([\"run\", \"subRun\", \"pot\"])\n",
    "    print(filename)\n",
    "    print(\"POT %g\" % sum(df_mc[\"pot\"]))\n",
    "    print()\n"
   ]
  },
  {
   "cell_type": "markdown",
   "metadata": {},
   "source": [
    "# Data samples"
   ]
  },
  {
   "cell_type": "code",
   "execution_count": 14,
   "metadata": {},
   "outputs": [
    {
     "name": "stdout",
     "output_type": "stream",
     "text": [
      "I am cheating and I'm giving you this number as hard coded. Good Job if you got here and caught me\n",
      "\n",
      "DATA POT: 2e+20 \n",
      "DATA Triggers: 5268051   \n",
      "EXT  Triggers: 9199232.74 \n",
      "\n",
      "Please refer to the NuMI wiki page for instructions (and most up to date samples)\n"
     ]
    }
   ],
   "source": [
    "# On Beam DATA Sample\n",
    "NUMI = ls.ntuple_path+'neutrinoselection_filt_run1_beamon_beamgood_all.root'\n",
    "# Off Beam DATA Sample\n",
    "EXT  = ls.ntuple_path+'neutrinoselection_filt_run1_beamoff_all.root'   \n",
    "\n",
    "print(\"I am cheating and I'm giving you this number as hard coded. Good Job if you got here and caught me\\n\")\n",
    "print(\"DATA POT: 2e+20 \")\n",
    "print(\"DATA Triggers: 5268051   \")\n",
    "print(\"EXT  Triggers: 9199232.74 \\n\")\n",
    "print(\"Please refer to the NuMI wiki page for instructions (and most up to date samples)\")\n"
   ]
  },
  {
   "cell_type": "code",
   "execution_count": null,
   "metadata": {},
   "outputs": [],
   "source": []
  }
 ],
 "metadata": {
  "kernelspec": {
   "display_name": "Python 3",
   "language": "python",
   "name": "python3"
  },
  "language_info": {
   "codemirror_mode": {
    "name": "ipython",
    "version": 3
   },
   "file_extension": ".py",
   "mimetype": "text/x-python",
   "name": "python",
   "nbconvert_exporter": "python",
   "pygments_lexer": "ipython3",
   "version": "3.7.6"
  }
 },
 "nbformat": 4,
 "nbformat_minor": 2
}
