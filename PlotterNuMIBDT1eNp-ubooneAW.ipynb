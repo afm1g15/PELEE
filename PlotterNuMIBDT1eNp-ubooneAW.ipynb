{
 "cells": [
  {
   "cell_type": "code",
   "execution_count": 1,
   "metadata": {},
   "outputs": [],
   "source": [
    "%load_ext autoreload\n",
    "%autoreload 2"
   ]
  },
  {
   "cell_type": "code",
   "execution_count": 2,
   "metadata": {},
   "outputs": [
    {
     "name": "stdout",
     "output_type": "stream",
     "text": [
      "/home/alex/ubooneAW/PELEE/\n"
     ]
    }
   ],
   "source": [
    "import sys\n",
    "import localSettings as ls\n",
    "import math\n",
    "print(ls.main_path)\n"
   ]
  },
  {
   "cell_type": "code",
   "execution_count": 3,
   "metadata": {
    "colab": {
     "base_uri": "https://localhost:8080/",
     "height": 34
    },
    "colab_type": "code",
    "executionInfo": {
     "elapsed": 517,
     "status": "ok",
     "timestamp": 1560556807118,
     "user": {
      "displayName": "Stefano Roberto Soleti",
      "photoUrl": "https://lh4.googleusercontent.com/-hfLpspJu4Q0/AAAAAAAAAAI/AAAAAAAABmA/2kE4rtj8paU/s64/photo.jpg",
      "userId": "10372352518008961760"
     },
     "user_tz": 240
    },
    "id": "6qsD0G-yYJ9K",
    "outputId": "5d52a3ec-50be-44fc-da44-3c0593e98bc6"
   },
   "outputs": [],
   "source": [
    "main_path = ls.main_path\n",
    "sys.path.append(main_path)"
   ]
  },
  {
   "cell_type": "code",
   "execution_count": 4,
   "metadata": {},
   "outputs": [],
   "source": [
    "import NuMIGeoWeights\n",
    "import importlib\n",
    "importlib.reload(NuMIGeoWeights)\n",
    "numiBeamlineGeoWeights = NuMIGeoWeights.NuMIGeoWeights() # the default option is FHC, RHC needs different arguments"
   ]
  },
  {
   "cell_type": "code",
   "execution_count": 5,
   "metadata": {},
   "outputs": [
    {
     "name": "stdout",
     "output_type": "stream",
     "text": [
      "date and time: 05112022\n"
     ]
    }
   ],
   "source": [
    "from datetime import datetime\n",
    "now = datetime.now()\n",
    "date_time = now.strftime(\"%m%d%Y\")\n",
    "print(\"date and time:\",date_time)"
   ]
  },
  {
   "cell_type": "code",
   "execution_count": 6,
   "metadata": {},
   "outputs": [],
   "source": [
    "SHRCALIBFACTOR = 1.00"
   ]
  },
  {
   "cell_type": "code",
   "execution_count": 7,
   "metadata": {},
   "outputs": [],
   "source": [
    "# Doing Run3?\n",
    "ISRUN3 = False"
   ]
  },
  {
   "cell_type": "code",
   "execution_count": 8,
   "metadata": {},
   "outputs": [],
   "source": [
    "# scale to MCC8 CV?\n",
    "MCC8WEIGHTS = False"
   ]
  },
  {
   "cell_type": "code",
   "execution_count": 9,
   "metadata": {
    "colab": {},
    "colab_type": "code",
    "id": "xGqTJ5JgaDsx"
   },
   "outputs": [],
   "source": [
    "import plotter\n",
    "import importlib\n",
    "importlib.reload(plotter)\n",
    "import uproot\n",
    "import matplotlib.pylab as pylab\n",
    "import numpy as np\n",
    "import math\n",
    "from sklearn.model_selection import train_test_split\n",
    "import pickle\n",
    "import xgboost as xgb\n",
    "import nue_booster \n",
    "importlib.reload(nue_booster)\n",
    "import awkward\n",
    "\n",
    "params = {\n",
    "    'axes.labelsize': 'x-large',\n",
    "    'axes.titlesize': 'x-large',\n",
    "    'xtick.labelsize': 'x-large',\n",
    "    'ytick.labelsize': 'x-large'\n",
    "}\n",
    "pylab.rcParams.update(params)"
   ]
  },
  {
   "cell_type": "code",
   "execution_count": 13,
   "metadata": {
    "colab": {},
    "colab_type": "code",
    "id": "iwoCIaigYJ9N"
   },
   "outputs": [
    {
     "name": "stdout",
     "output_type": "stream",
     "text": [
      "['par_decay_px', 'ccnc', 'par_decay_py', 'nu_pdg', 'true_nu_vtx_z', 'nu_parent_pdg', 'true_nu_vtx_y', 'true_nu_vtx_x', 'category', 'par_decay_pz']\n"
     ]
    }
   ],
   "source": [
    "tree = \"NeutrinoSelectionFilter\"\n",
    "\n",
    "\n",
    "#Current\n",
    "BNB  = 'uboone_AR/neutrinoselection_filt_run1_overlay_intrinsic' +ls.APPEND\n",
    "\n",
    "mc   = uproot.open(ls.ntuple_path+BNB +\".root\")[ls.fold][tree]\n",
    "\n",
    "\n",
    "uproot_v = [mc] \n",
    "\n",
    "variables = [\"nu_pdg\",  \"nu_parent_pdg\", \"true_nu_vtx_x\", \"true_nu_vtx_y\", \"true_nu_vtx_z\", 'category', \"ccnc\", \"par_decay_py\", \"par_decay_px\", \"par_decay_pz\"]\n",
    "\n",
    "#\"par_decay_py\", \"par_decay_px\", \"par_decay_pz\"\n",
    "\n",
    "#make the list unique\n",
    "variables = list(set(variables))\n",
    "print(variables)\n",
    "\n",
    "\n",
    "    \n",
    "WEIGHTS     = [\"weightSpline\",\"weightTune\",\"weightSplineTimesTune\",\"ppfx_cv\"]\n",
    "#SYSTEMATICS = ['weightsFlux','weightsGenie','weightsReint'] \n",
    "PPFX        = ['weightsPPFX'] \n",
    "\n",
    "\n",
    "\n",
    "WEIGHTSLEE = [\"weightSpline\",\"weightTune\",\"weightSplineTimesTune\", \"leeweight\"]#, \"weightsGenie\", \"weightsFlux\", \"weightsReint\"]\n",
    "MCFVARS    = [\"mcf_nu_e\",\"mcf_lep_e\",\"mcf_actvol\",\"mcf_nmm\",\"mcf_nmp\",\"mcf_nem\",\"mcf_nep\",\"mcf_np0\",\"mcf_npp\",\n",
    "              \"mcf_npm\",\"mcf_mcshr_elec_etot\",\"mcf_pass_ccpi0\",\"mcf_pass_ncpi0\",\"nu_parent_pdg\",\n",
    "              \"mcf_pass_ccnopi\",\"mcf_pass_ncnopi\",\"mcf_pass_cccpi\",\"mcf_pass_nccpi\",\"nu_decay_mode\"]\n",
    "\n",
    "\n",
    "mc   = mc.pandas.df  (variables + WEIGHTS + MCFVARS +  PPFX, flatten=False)\n",
    "#data = data.pandas.df(variables, flatten=False)\n",
    "\n"
   ]
  },
  {
   "cell_type": "code",
   "execution_count": 14,
   "metadata": {},
   "outputs": [],
   "source": [
    "df_v = [mc]\n",
    "#removeGenieTune = False\n",
    "for i,df in enumerate(df_v):\n",
    "    df[ 'currentweightsafe' ] = df['weightSplineTimesTune']\n",
    "    df[ 'currentweight' ] = df['weightSplineTimesTune']"
   ]
  },
  {
   "cell_type": "code",
   "execution_count": 16,
   "metadata": {},
   "outputs": [],
   "source": [
    "df_v = [mc]\n",
    "#removeGenieTune = False\n",
    "for i,df in enumerate(df_v):\n",
    "    df.loc[ df['weightTune'] <= 0, 'weightTune' ] = 1.\n",
    "    df.loc[ df['weightTune'] == np.inf, 'weightTune' ] = 1.\n",
    "    df.loc[ df['weightTune'] > 100, 'weightTune' ] = 1.\n",
    "    df.loc[ np.isnan(df['weightTune']) == True, 'weightTune' ] = 1.    \n",
    "    \n",
    "    df.loc[ df['weightSplineTimesTune'] <= 0, 'weightSplineTimesTune' ] = 1.\n",
    "    df.loc[ df['weightSplineTimesTune'] == np.inf, 'weightSplineTimesTune' ] = 1.\n",
    "    df.loc[ df['weightSplineTimesTune'] > 100, 'weightSplineTimesTune' ] = 1.\n",
    "    df.loc[ np.isnan(df['weightSplineTimesTune']) == True, 'weightSplineTimesTune' ] = 1. \n",
    "    df[ 'weightSplineTimesTuneTimesPPFX' ] = df[ 'weightSplineTimesTune' ]*df['ppfx_cv']\n",
    "    \n",
    "    df.loc[ df['weightSpline'] <= 0, 'weightSpline' ] = 1.\n",
    "    df.loc[ df['weightSpline'] == np.inf, 'weightSpline' ] = 1.\n",
    "    df.loc[ df['weightSpline'] > 100, 'weightSpline' ] = 1.\n",
    "    df.loc[ np.isnan(df['weightSpline']) == True, 'weightSpline' ] = 1. \n",
    "    df[ 'weightSplineTimesPPFX' ]  = df[ 'weightSpline' ]*df['ppfx_cv']\n",
    "    \n",
    "    # Cray cray weight fix\n",
    "   # for ievt in range(df.shape[0]):\n",
    "   #     reweightCondition = ((df['weightsGenie'].iloc[ievt] > 3000) | (df['weightsGenie'].iloc[ievt] < 0)  | \n",
    "   #                          (df['weightsGenie'].iloc[ievt] == np.inf))\n",
    "   #     df['weightsGenie'].iloc[ievt][ reweightCondition ] = 1.\n",
    "\n"
   ]
  },
  {
   "cell_type": "code",
   "execution_count": 17,
   "metadata": {},
   "outputs": [],
   "source": [
    "df_v = [mc]\n",
    "#removeGenieTune = False\n",
    "for i,df in enumerate(df_v):\n",
    "    df[ 'currentweight' ] = df['weightSplineTimesTuneTimesPPFX']\n",
    "    df[ 'currentweightsafe' ] = df['weightSplineTimesTuneTimesPPFX']\n",
    "    df[ 'currentweightsafe2' ] = df['weightSplineTimesTuneTimesPPFX']\n",
    "    df[ 'currentweight2' ] = df['weightSplineTimesTuneTimesPPFX']\n"
   ]
  },
  {
   "cell_type": "markdown",
   "metadata": {},
   "source": [
    "# Plotting part"
   ]
  },
  {
   "cell_type": "code",
   "execution_count": 24,
   "metadata": {},
   "outputs": [
    {
     "data": {
      "text/plain": [
       "<module 'plotter' from '/home/alex/ubooneAW/PELEE/plotter.py'>"
      ]
     },
     "execution_count": 24,
     "metadata": {},
     "output_type": "execute_result"
    }
   ],
   "source": [
    "import plotter\n",
    "import importlib\n",
    "importlib.reload(plotter)"
   ]
  },
  {
   "cell_type": "code",
   "execution_count": 62,
   "metadata": {},
   "outputs": [],
   "source": [
    "#selection cuts\n",
    "SEL = 'true_nu_vtx_z < 1036.8 and true_nu_vtx_z > 0 and true_nu_vtx_y < 116.5 and true_nu_vtx_y > -116.5 and true_nu_vtx_x < 254.8 and true_nu_vtx_x > -1.55'\n",
    "SEL += ' and (nu_parent_pdg == 311 or nu_parent_pdg == 321 or nu_parent_pdg == -321)'\n",
    "\n",
    "#or nu_parent_pdg == 321 or nu_parent_pdg == -321\n",
    "#K0 = 311\n",
    "#K=- = +-321\n",
    "\n",
    "#in the fiducial volume\n",
    "#fiduc = \"true_nu_vtx_z < 1036.8 and true_nu_vtx_z > 0 and true_nu_vtx_y < 116.5 and true_nu_vtx_y > -116.5 and true_nu_vtx_x < \\\n",
    "# 254.8 and true_nu_vtx_x > -1.55\""
   ]
  },
  {
   "cell_type": "code",
   "execution_count": 63,
   "metadata": {},
   "outputs": [
    {
     "name": "stdout",
     "output_type": "stream",
     "text": [
      "{'mc': 0.08559738414394057, 'nue': 0.08559738414394057}\n"
     ]
    }
   ],
   "source": [
    "import plotter\n",
    "import importlib\n",
    "importlib.reload(plotter)\n",
    "scaling = 1\n",
    "\n",
    "SPLIT = 1.0\n",
    "\n",
    "nue = mc.query('abs(nu_pdg) == 12 and ccnc == 0')\n",
    "\n",
    "#nueMC = mc.query(\"(abs(nu_pdg) == 12 & ccnc == 0)\")\n",
    "#nue   = nue.query(\"(abs(nu_pdg) == 12 & ccnc == 0 & true_nu_vtx_z < 1036.8 & true_nu_vtx_z > 0 & true_nu_vtx_y < 116.5 & true_nu_vtx_y > -116.5 & true_nu_vtx_x < \\\n",
    "# 254.8 & true_nu_vtx_x > -1.55)\")\n",
    "\n",
    "samples = {\n",
    "    \"mc\": mc, \n",
    "    \"nue\": nue,\n",
    "}\n",
    "\n",
    "\n",
    "\n",
    "SPLIT = 1.0\n",
    "scalingEXT = 0.98\n",
    "scalingDRT = 0.35\n",
    "\n",
    "scaling   = 1\n",
    "pot       =  2e+20             \n",
    "mcratio   = pot/2.33652e+21\n",
    "nueratio  = pot/2.37838e+22 \n",
    "\n",
    "#mcratio = 0\n",
    "weights = { \n",
    "            \"mc\"  : mcratio  * SPLIT * scaling, \n",
    "            \"nue\"  : mcratio  * SPLIT * scaling,\n",
    "}\n",
    "\n",
    "my_plotter = plotter.Plotter(samples, weights, pot=pot)\n",
    "print(weights)"
   ]
  },
  {
   "cell_type": "code",
   "execution_count": 64,
   "metadata": {
    "colab": {
     "base_uri": "https://localhost:8080/",
     "height": 561
    },
    "colab_type": "code",
    "executionInfo": {
     "elapsed": 2342,
     "status": "ok",
     "timestamp": 1560557343774,
     "user": {
      "displayName": "Stefano Roberto Soleti",
      "photoUrl": "https://lh4.googleusercontent.com/-hfLpspJu4Q0/AAAAAAAAAAI/AAAAAAAABmA/2kE4rtj8paU/s64/photo.jpg",
      "userId": "10372352518008961760"
     },
     "user_tz": 240
    },
    "id": "b93hN-pGYJ9T",
    "outputId": "17e7c7ed-3f12-4b03-805c-6698f1617878",
    "scrolled": false
   },
   "outputs": [
    {
     "name": "stdout",
     "output_type": "stream",
     "text": [
      "true_nu_vtx_z < 1036.8 and true_nu_vtx_z > 0 and true_nu_vtx_y < 116.5 and true_nu_vtx_y > -116.5 and true_nu_vtx_x < 254.8 and true_nu_vtx_x > -1.55 and (nu_parent_pdg == 311 or nu_parent_pdg == 321 or nu_parent_pdg == -321)& par_decay_pz <= 20 & par_decay_pz >= 0 \n",
      " ~(abs(nu_pdg) == 12 & ccnc == 0) \n",
      " None \n",
      " False\n"
     ]
    },
    {
     "name": "stderr",
     "output_type": "stream",
     "text": [
      "/home/alex/miniconda3/envs/vintageXgboostVintageUprootEnv/lib/python3.8/site-packages/numpy/core/fromnumeric.py:3245: VisibleDeprecationWarning: Creating an ndarray from ragged nested sequences (which is a list-or-tuple of lists-or-tuples-or ndarrays with different lengths or shapes) is deprecated. If you meant to do this, you must specify 'dtype=object' when creating the ndarray.\n",
      "  return asarray(a).size\n",
      "/home/alex/miniconda3/envs/vintageXgboostVintageUprootEnv/lib/python3.8/site-packages/matplotlib/cbook/__init__.py:1449: VisibleDeprecationWarning: Creating an ndarray from ragged nested sequences (which is a list-or-tuple of lists-or-tuples-or ndarrays with different lengths or shapes) is deprecated. If you meant to do this, you must specify 'dtype=object' when creating the ndarray.\n",
      "  X = np.atleast_1d(X.T if isinstance(X, np.ndarray) else np.asarray(X))\n",
      "/home/alex/ubooneAW/PELEE/plotter.py:456: RuntimeWarning: divide by zero encountered in true_divide\n",
      "  ERR_STAT = 3. / ( 1./data + 2./mc )\n"
     ]
    },
    {
     "data": {
      "image/png": "[encoded data removed]",
      "text/plain": [
       "<Figure size 504x360 with 1 Axes>"
      ]
     },
     "metadata": {
      "needs_background": "light"
     },
     "output_type": "display_data"
    }
   ],
   "source": [
    "import matplotlib.pyplot as plt\n",
    "import matplotlib\n",
    "sysBool = True\n",
    "\n",
    "VARIABLE, BINS, RANGE, XTIT ='par_decay_pz',20,(0,20.),\"par decay pz\"\n",
    "\n",
    "\n",
    "fig, ax1, ax2 = my_plotter.plot_variable(\n",
    "    VARIABLE,   \n",
    "    query= SEL ,\n",
    "    #kind=\"interaction\",\n",
    "    #kind=\"flux\",\n",
    "    draw_sys  = False, \n",
    "    draw_geoSys = False, \n",
    "    draw_data = False,\n",
    "    ratio = False,\n",
    "    genieweight = \"weightSplineTimesTuneTimesPPFX\", #\"weightSplineTimesTuneTimesPPFX\", \n",
    "    stacksort=3,\n",
    "    title=XTIT,\n",
    "    bins=BINS,\n",
    "    range=RANGE\n",
    ")[0:3]\n",
    "\n",
    "ax1.set_title('NuMI Run 1, Kaon Plot',loc='left')\n",
    "\n",
    "fig.tight_layout()\n",
    "#fig.savefig(\"/Users/elenag/Desktop/PlotterLEE/plots/NearSideband/allRecoE/CM/\"+VARIABLE+\"_NuMI_run1_mid.pdf\")\n",
    "#print('%s %.4f %.4f %.4f ' % (VARIABLE, my_plotter.stats['pvalue'], my_plotter.stats['pvaluestatonly'],my_plotter.stats['pvaluediag'])+\"\\n\")\n"
   ]
  },
  {
   "cell_type": "code",
   "execution_count": null,
   "metadata": {},
   "outputs": [],
   "source": []
  },
  {
   "cell_type": "code",
   "execution_count": null,
   "metadata": {},
   "outputs": [],
   "source": []
  }
 ],
 "metadata": {
  "accelerator": "GPU",
  "colab": {
   "name": "Plotter.ipynb",
   "provenance": [],
   "version": "0.3.2"
  },
  "kernelspec": {
   "display_name": "Python 3 (ipykernel)",
   "language": "python",
   "name": "python3"
  },
  "language_info": {
   "codemirror_mode": {
    "name": "ipython",
    "version": 3
   },
   "file_extension": ".py",
   "mimetype": "text/x-python",
   "name": "python",
   "nbconvert_exporter": "python",
   "pygments_lexer": "ipython3",
   "version": "3.8.12"
  }
 },
 "nbformat": 4,
 "nbformat_minor": 2
}
