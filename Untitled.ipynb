{
 "cells": [
  {
   "cell_type": "code",
   "execution_count": 1,
   "metadata": {},
   "outputs": [
    {
     "name": "stdout",
     "output_type": "stream",
     "text": [
      "       12  20   0  0.1  -0.138888888889  -20.0       0.0\n",
      "0      12  20   0    1        -0.138889    5.0  0.000000\n",
      "1      12  20   0    2        -0.138889   15.0  0.000000\n",
      "2      12  20   0    3        -0.138889   65.0  0.000000\n",
      "3      12  20   1    0         0.030000  -20.0  0.000000\n",
      "4      12  20   1    1         0.030000    5.0  1.001183\n",
      "...    ..  ..  ..  ...              ...    ...       ...\n",
      "12154 -14  16  18    3         5.500000   65.0  0.000000\n",
      "12155 -14  16  19    0         6.500000  -20.0  0.000000\n",
      "12156 -14  16  19    1         6.500000    5.0  0.915086\n",
      "12157 -14  16  19    2         6.500000   15.0  0.801442\n",
      "12158 -14  16  19    3         6.500000   65.0  0.000000\n",
      "\n",
      "[12159 rows x 7 columns]\n"
     ]
    }
   ],
   "source": [
    "import pandas as pd\n",
    "# Beamline Systematics Look Up table\n",
    "def beamlineLookUp():\n",
    "    txtName   = '/Users/elenag/Desktop/PlotterLEE/NuMIFlux/puppaTemp/Systematics/BeamlineVarTable.txt'\n",
    "    dfBeamVat = pd.read_csv(txtName,sep=' ')\n",
    "    print (dfBeamVat)\n",
    "beamlineLookUp()"
   ]
  },
  {
   "cell_type": "code",
   "execution_count": null,
   "metadata": {},
   "outputs": [],
   "source": []
  },
  {
   "cell_type": "code",
   "execution_count": null,
   "metadata": {},
   "outputs": [],
   "source": []
  }
 ],
 "metadata": {
  "kernelspec": {
   "display_name": "Python 3",
   "language": "python",
   "name": "python3"
  },
  "language_info": {
   "codemirror_mode": {
    "name": "ipython",
    "version": 3
   },
   "file_extension": ".py",
   "mimetype": "text/x-python",
   "name": "python",
   "nbconvert_exporter": "python",
   "pygments_lexer": "ipython3",
   "version": "3.7.6"
  }
 },
 "nbformat": 4,
 "nbformat_minor": 4
}
