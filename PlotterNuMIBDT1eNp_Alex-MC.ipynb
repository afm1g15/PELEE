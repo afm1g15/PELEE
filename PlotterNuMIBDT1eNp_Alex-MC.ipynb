{
 "cells": [
  {
   "cell_type": "markdown",
   "metadata": {},
   "source": [
    "## NuMI Analysis: numu/nue ratio study\n",
    "\n",
    "#### Develop a numu selection for NuMI beam then do a numu/nue ratio study (inc energy + efficiency corrections) to constrain BNB low energy oscillation data."
   ]
  },
  {
   "cell_type": "markdown",
   "metadata": {},
   "source": [
    "First, setup."
   ]
  },
  {
   "cell_type": "code",
   "execution_count": 1,
   "metadata": {},
   "outputs": [],
   "source": [
    "%load_ext autoreload\n",
    "%autoreload 2\n",
    "\n",
    "#BDT"
   ]
  },
  {
   "cell_type": "code",
   "execution_count": 2,
   "metadata": {},
   "outputs": [
    {
     "name": "stdout",
     "output_type": "stream",
     "text": [
      "/home/amoor/NuMI/NuMI_Analysis/PELEE\n"
     ]
    }
   ],
   "source": [
    "import sys\n",
    "import localSettings as ls\n",
    "import math\n",
    "print(ls.main_path)\n",
    "\n",
    "#BDT"
   ]
  },
  {
   "cell_type": "code",
   "execution_count": 3,
   "metadata": {
    "colab": {
     "base_uri": "https://localhost:8080/",
     "height": 34
    },
    "colab_type": "code",
    "executionInfo": {
     "elapsed": 517,
     "status": "ok",
     "timestamp": 1560556807118,
     "user": {
      "displayName": "Stefano Roberto Soleti",
      "photoUrl": "https://lh4.googleusercontent.com/-hfLpspJu4Q0/AAAAAAAAAAI/AAAAAAAABmA/2kE4rtj8paU/s64/photo.jpg",
      "userId": "10372352518008961760"
     },
     "user_tz": 240
    },
    "id": "6qsD0G-yYJ9K",
    "outputId": "5d52a3ec-50be-44fc-da44-3c0593e98bc6"
   },
   "outputs": [],
   "source": [
    "main_path = ls.main_path\n",
    "sys.path.append(main_path)\n",
    "\n",
    "#BDT"
   ]
  },
  {
   "cell_type": "code",
   "execution_count": 4,
   "metadata": {},
   "outputs": [],
   "source": [
    "import NuMIGeoWeights\n",
    "import importlib\n",
    "importlib.reload(NuMIGeoWeights)\n",
    "numiBeamlineGeoWeights = NuMIGeoWeights.NuMIGeoWeights()\n",
    "#print(numiBeamlineGeoWeights.calculateGeoWeight(14,0.01,5.))\n",
    "\n",
    "#BDT"
   ]
  },
  {
   "cell_type": "code",
   "execution_count": 5,
   "metadata": {},
   "outputs": [
    {
     "name": "stdout",
     "output_type": "stream",
     "text": [
      "date and time: 10272021\n"
     ]
    }
   ],
   "source": [
    "#test things are running\n",
    "\n",
    "from datetime import datetime\n",
    "now = datetime.now()\n",
    "date_time = now.strftime(\"%m%d%Y\")\n",
    "print(\"date and time:\",date_time)\n",
    "\n",
    "#BDT"
   ]
  },
  {
   "cell_type": "code",
   "execution_count": 6,
   "metadata": {},
   "outputs": [],
   "source": [
    "# USING BDT?\n",
    "USEBDT = True"
   ]
  },
  {
   "cell_type": "code",
   "execution_count": 7,
   "metadata": {},
   "outputs": [],
   "source": [
    "# Doing Run3?\n",
    "ISRUN3 = False\n",
    "\n",
    "#BDT"
   ]
  },
  {
   "cell_type": "code",
   "execution_count": 8,
   "metadata": {},
   "outputs": [],
   "source": [
    "# scale to MCC8 CV?\n",
    "MCC8WEIGHTS = False\n",
    "\n",
    "#BDT"
   ]
  },
  {
   "cell_type": "code",
   "execution_count": 9,
   "metadata": {
    "colab": {},
    "colab_type": "code",
    "id": "xGqTJ5JgaDsx"
   },
   "outputs": [],
   "source": [
    "import plotter\n",
    "import importlib\n",
    "importlib.reload(plotter)\n",
    "import uproot\n",
    "import matplotlib.pylab as pylab\n",
    "import numpy as np\n",
    "import math\n",
    "from sklearn.model_selection import train_test_split\n",
    "import pickle\n",
    "import xgboost as xgb\n",
    "import nue_booster \n",
    "importlib.reload(nue_booster)\n",
    "import awkward\n",
    "\n",
    "params = {\n",
    "    'axes.labelsize': 'x-large',\n",
    "    'axes.titlesize': 'x-large',\n",
    "    'xtick.labelsize': 'x-large',\n",
    "    'ytick.labelsize': 'x-large'\n",
    "}\n",
    "pylab.rcParams.update(params)\n",
    "\n",
    "#BDT"
   ]
  },
  {
   "cell_type": "code",
   "execution_count": 10,
   "metadata": {},
   "outputs": [],
   "source": [
    "# This cell is all about translating the BNB reference frame to the NuMI on axis reference frame\n",
    "# You can skip it if you're not planning on using angle variables\n",
    "\n",
    "from scipy.spatial.transform import Rotation as R\n",
    "from numpy import arccos, array\n",
    "from numpy.linalg import norm\n",
    "\n",
    "# Note: returns angle in radians\n",
    "def theta(v, w): return arccos(v.dot(w)/(norm(v)*norm(w)))* 180 / 3.1415926\n",
    "\n",
    "def GetNuMIAngle( px,  py,  pz):\n",
    "    r = R.from_matrix([[0.92103853804025681562   , 0.022713504803924120662, 0.38880857519374290021  ],\n",
    "                       [4.6254001262154668408e-05, 0.99829162468141474651 , -0.058427989452906302359],\n",
    "                       [-0.38947144863934973769  , 0.053832413938664107345, 0.91946400794392302291  ]])  \n",
    "    r = r.inv()\n",
    "    beamCoords = r.apply([px,  py,  pz])\n",
    "    beamDir    = [0,0,1]\n",
    "    #print(theta(beamCoords,beamDir))\n",
    "    return theta(beamCoords,beamDir)\n",
    "\n",
    "def GetNuMIAnglePol( phiBNB,  thetaBNB):\n",
    "    px = math.sin(thetaBNB)*math.cos(phiBNB)\n",
    "    py = math.sin(thetaBNB)*math.sin(phiBNB)\n",
    "    pz = math.cos(thetaBNB)\n",
    "    return GetNuMIAngle( px,  py,  pz)\n",
    "\n",
    "#BDT"
   ]
  },
  {
   "cell_type": "markdown",
   "metadata": {},
   "source": [
    "Now get some data."
   ]
  },
  {
   "cell_type": "code",
   "execution_count": 11,
   "metadata": {
    "colab": {},
    "colab_type": "code",
    "id": "iwoCIaigYJ9N"
   },
   "outputs": [
    {
     "name": "stdout",
     "output_type": "stream",
     "text": [
      "['shr_energy_cali', 'reco_nu_vtx_sce_y', 'category', 'shrsubclusters0', 'nproton', 'shr_tkfit_npoints', 'n_tracks_contained', 'slnunhits', 'topological_score', 'flash_time', 'trkshrhitdist2', 'run', 'selected', 'shr_score', 'nu_pdg', 'shr_tkfit_nhits_Y', 'hits_ratio', 'shrmoliereavg', 'shr_tkfit_dedx_Y', 'CosmicIPAll3D', 'n_showers', 'shr_energy', 'slnhits', 'shrsubclusters1', 'shrsubclusters2', 'shr_energy_tot_cali', 'ccnc', 'shr_tkfit_dedx_U', 'sub', 'tksh_distance', 'shr_tkfit_nhits_V', 'evt', 'trk_energy_tot', 'nslice', 'n_tracks', 'contained_fraction', 'tksh_angle', 'reco_nu_vtx_sce_x', 'shr_tkfit_dedx_V', 'shr_distance', 'trk_score_v', 'n_showers_contained', 'reco_nu_vtx_sce_z', 'shr_tkfit_nhits_U']\n"
     ]
    }
   ],
   "source": [
    "# Name of the TTree in the PeLEE Ntuples\n",
    "tree = \"NeutrinoSelectionFilter\"\n",
    "\n",
    "# Name of root files for the various samples\n",
    "BNB  = '/neutrinoselection_filt_run1_beamon_beamgood' +ls.APPEND\n",
    "EXT  = '/neutrinoselection_filt_run1_beamoff'         +ls.APPEND\n",
    "NU   = '/neutrinoselection_filt_run1_overlay'    +ls.APPEND #newTune\n",
    "NUE  = '/neutrinoselection_filt_run1_overlay_intrinsic'+ls.APPEND #newTune\n",
    "DRT  = '/neutrinoselection_filt_run1_dirt_overlay'        +ls.APPEND\n",
    "\"\"\"\n",
    "BNB  = '/pre_samp/neutrinoselection_filt_run1_beamon_beamgood' +ls.APPEND\n",
    "EXT  = '/pre_samp/neutrinoselection_filt_run1_beamoff'         +ls.APPEND\n",
    "NU   = '/pre_samp/prodgenie_numi_uboone_overlay_fhc_mcc9_run1_v28_all_snapshot'    +ls.APPEND #newTune\n",
    "NUE  = '/pre_samp/prodgenie_numi_nue_overlay_mcc9_v08_00_00_48_CV_reco2_run1_reco2'+ls.APPEND #newTune\n",
    "DRT  = '/pre_samp/neutrinoselection_filt_run1_dirt_overlay'        +ls.APPEND\n",
    "\"\"\"\n",
    "\n",
    "\n",
    "#actually fetch datasets\n",
    "mc   = uproot.open(ls.ntuple_path+NU +\".root\")[ls.fold][tree]\n",
    "nue  = uproot.open(ls.ntuple_path+NUE+\".root\")[ls.fold][tree]\n",
    "data = uproot.open(ls.ntuple_path+BNB+\".root\")[ls.fold][tree]\n",
    "ext  = uproot.open(ls.ntuple_path+EXT+\".root\")[ls.fold][tree]\n",
    "dirt = uproot.open(ls.ntuple_path+DRT+\".root\")[ls.fold][tree]\n",
    "\n",
    "# Define a list that contains the data sets\n",
    "uproot_v = [mc,nue,ext,data,dirt] \n",
    "\n",
    "# Define the variables you are going to load (less variables = less time)\n",
    "# Some of them are common to all samples, others are present only in MC (like true variables)\n",
    "# These are examples of variables common to all samples (there's more if you want!)\n",
    "\n",
    "#To match Krishan's nue selection we need (1) nSlice (SliceID), n_showers_contained\n",
    "#(2) xyz for reconstructed vertex, contained fraction of hits (3) cosmic impact params\n",
    "#(4) hit ratio of leading shower to slice (5) moliere angle av, dEdx in first 4cm of shower, shower to vertex dist\n",
    "#\"shower_vtx_dist\" not working?\n",
    "#shr_energy, category, slnunhits, slnhits, slash time, ccnc, nu pdg needed later\n",
    "variables = [\"run\", \"sub\", \"evt\",              \n",
    "             \"trk_score_v\", \"topological_score\", \"shr_score\",\n",
    "            \"reco_nu_vtx_sce_x\", \"reco_nu_vtx_sce_y\", \"reco_nu_vtx_sce_z\", \"shr_tkfit_npoints\",\n",
    "            \"CosmicIPAll3D\", \"hits_ratio\", \"contained_fraction\",\n",
    "            \"shrmoliereavg\", \"shr_tkfit_dedx_U\",\"shr_tkfit_dedx_V\",\"shr_tkfit_dedx_Y\",\n",
    "            \"shr_energy\", \"category\", \"slnunhits\", \"slnhits\", \"flash_time\", \"nu_pdg\", \"ccnc\",\n",
    "             \"selected\", \"nslice\", \"shr_distance\",\n",
    "            \"shr_tkfit_nhits_U\", \"shr_tkfit_nhits_V\", \"shr_tkfit_nhits_Y\", \"n_tracks_contained\",\n",
    "            \"n_showers\", \"n_tracks\", \"shr_energy_cali\", \"n_showers_contained\", \"tksh_distance\", \"tksh_angle\",\n",
    "             \"trkshrhitdist2\", 'shrsubclusters0', 'shrsubclusters1', 'shrsubclusters2',\n",
    "             \"shr_energy_tot_cali\", 'trk_energy_tot', 'nproton']\n",
    "\n",
    "\"\"\"\n",
    "varlist = [\n",
    "    \"shr_score\", \"shrmoliereavg\", \"trkpid\",\n",
    "    \"n_showers_contained\", \"shr_tkfit_dedx_Y\", \"tksh_distance\",\n",
    "    \"tksh_angle\", \"subcluster\", \"trkshrhitdist2\"]\n",
    "\"\"\"\n",
    "\n",
    "# These are examples of variables present in MC samples only\n",
    "varMC = [\"nu_e\",\"true_pt\",\"true_pt_visible\",\"true_p\",\"true_p_visible\",\"true_nu_vtx_t\",\"true_nu_vtx_x\",\"true_nu_vtx_y\",\"true_nu_vtx_z\",\"true_nu_vtx_sce_x\",\"true_nu_vtx_sce_y\",\"true_nu_vtx_sce_z\\\n",
    "\",\"true_nu_px\",\"true_nu_py\",\"true_nu_pz\", \"elec_e\"]\n",
    "\n",
    "#make the list unique (sometimes you repeat the variable name in the list, this takes care of that)\n",
    "variables = list(set(variables))\n",
    "print(variables)\n",
    "\n",
    "\n",
    "# These weights are needed to correctly calculate the CV for the MC    \n",
    "WEIGHTS     = [\"weightSpline\",\"weightTune\",\"weightSplineTimesTune\",\"ppfx_cv\"]\n",
    "# These weights are needed to calculate the Flux, GENIE and Geant4 Systematics. \n",
    "# For NuMI weightsFlux should always be 1 (cause that's relevant for BNB).\n",
    "SYSTEMATICS = ['weightsFlux','weightsGenie','weightsReint'] \n",
    "PPFX        = ['weightsPPFX'] \n",
    "\n",
    "\n",
    "\n",
    "WEIGHTSLEE = [\"weightSpline\",\"weightTune\",\"weightSplineTimesTune\", \"leeweight\"]#, \"weightsGenie\", \"weightsFlux\", \"weightsReint\"]\n",
    "MCFVARS    = [\"mcf_nu_e\",\"mcf_lep_e\",\"mcf_actvol\",\"mcf_nmm\",\"mcf_nmp\",\"mcf_nem\",\"mcf_nep\",\"mcf_np0\",\"mcf_npp\",\n",
    "              \"mcf_npm\",\"mcf_mcshr_elec_etot\",\"mcf_pass_ccpi0\",\"mcf_pass_ncpi0\",\n",
    "              \"mcf_pass_ccnopi\",\"mcf_pass_ncnopi\",\"mcf_pass_cccpi\",\"mcf_pass_nccpi\"]\n",
    "\n",
    "\n",
    "# Load the variables into your dataframes    \n",
    "dirt = dirt.pandas.df(variables+varMC + WEIGHTS + SYSTEMATICS, flatten=False)\n",
    "nue  = nue.pandas.df(variables + WEIGHTS + MCFVARS + SYSTEMATICS + PPFX+varMC, flatten=False)\n",
    "mc   = mc.pandas.df(variables + WEIGHTS + MCFVARS + SYSTEMATICS + PPFX+varMC, flatten=False)\n",
    "data = data.pandas.df(variables, flatten=False)\n",
    "ext  = ext.pandas.df(variables, flatten=False)\n",
    "\n",
    "#BDT"
   ]
  },
  {
   "cell_type": "markdown",
   "metadata": {},
   "source": [
    "The following cell allows us to reload original data event weights. No weights have been added to data or ext so these are not included."
   ]
  },
  {
   "cell_type": "code",
   "execution_count": 12,
   "metadata": {},
   "outputs": [],
   "source": [
    "# In the next cell, we are going to play with the value of the event weights. \n",
    "# Let's store the original ones in some \"safe variable\" in this cell first.\n",
    "# So if we screw up, we don't have to re-load the humongous TTree: we'll have the original weights safely stored here\n",
    "df_v = [mc,nue,dirt]\n",
    "#removeGenieTune = False\n",
    "for i,df in enumerate(df_v):\n",
    "    df[ 'currentweightsafe' ] = df['weightSplineTimesTune']\n",
    "    df[ 'currentweight' ] = df['weightSplineTimesTune']\n",
    "    \n",
    "#BDT"
   ]
  },
  {
   "cell_type": "code",
   "execution_count": 13,
   "metadata": {},
   "outputs": [],
   "source": [
    "# Let's calculate the weights that we need to apply to the individual MC events \n",
    "# to become our best model of the NuMI data. \n",
    "# This cell calculates the GENIE Tune * PPFX correction to the MC weights and \n",
    "# cleans up extremely high (or low) weight scores (may be due to computational errors).\n",
    "# The clean up is not the best practice (one should dig and understand why the weight are big/negative): \n",
    "# it's a cheat until we figure out the next best thing. Life is not perfect and your analysis won't be either. Please enojy LArbys\n",
    "\n",
    "constructNuMISys = True\n",
    "\n",
    "# We need to do this only for the MC samples (all data events weight = 1)\n",
    "df_v = [mc,nue,dirt]\n",
    "\n",
    "for i,df in enumerate(df_v):\n",
    "    # This portion cleans up the basic weights\n",
    "    df.loc[ df['weightTune'] <= 0, 'weightTune' ] = 1.\n",
    "    df.loc[ df['weightTune'] == np.inf, 'weightTune' ] = 1.\n",
    "    df.loc[ df['weightTune'] > 100, 'weightTune' ] = 1.\n",
    "    df.loc[ np.isnan(df['weightTune']) == True, 'weightTune' ] = 1.\n",
    "    # This portion cleans up the weights after the GENIE tune is applied\n",
    "    df.loc[ df['weightSplineTimesTune'] <= 0, 'weightSplineTimesTune' ] = 1.\n",
    "    df.loc[ df['weightSplineTimesTune'] == np.inf, 'weightSplineTimesTune' ] = 1.\n",
    "    df.loc[ df['weightSplineTimesTune'] > 100, 'weightSplineTimesTune' ] = 1. #originally 100\n",
    "    df.loc[ np.isnan(df['weightSplineTimesTune']) == True, 'weightSplineTimesTune' ] = 1. \n",
    "    \n",
    "    # weightSplineTimesTuneTimesPPFX is our final weight: this is NuMI, so the final weight of the MC events needs \n",
    "    # to take into account the NuMI Flux re-weight called ppfx_cv to simulate NuMI events properly. \n",
    "    df[ 'weightSplineTimesTuneTimesPPFX' ] = df[ 'weightSplineTimesTune' ]*df['ppfx_cv']\n",
    "    \n",
    "    # We also need to fix some cray cray weights in the GENIE systematics. \n",
    "    # This is a bit of a pain in the butt cause we have 600 universe (= 600 weights) for each event\n",
    "    for ievt in range(df.shape[0]):\n",
    "        reweightCondition = ((df['weightsGenie'].iloc[ievt] > 3000) | (df['weightsGenie'].iloc[ievt] < 0)  | \n",
    "                             (df['weightsGenie'].iloc[ievt] == np.inf))\n",
    "        df['weightsGenie'].iloc[ievt][ reweightCondition ] = 1.\n",
    "\n",
    "#BDT"
   ]
  },
  {
   "cell_type": "markdown",
   "metadata": {},
   "source": [
    "Get Log Likelihood Ratio Particle ID for track candidates. Will need proton for nue, muon for numu."
   ]
  },
  {
   "cell_type": "code",
   "execution_count": 14,
   "metadata": {},
   "outputs": [
    {
     "name": "stdout",
     "output_type": "stream",
     "text": [
      "time to run:  1776.718988418579\n"
     ]
    }
   ],
   "source": [
    "# how to get the LLR-PID value for the \"track candidate\" (proton for nue selection, muon for numu)\n",
    "# can be done for any variable\n",
    "# code from Giuseppe!\n",
    "\n",
    "#This cell is about creating some new variables from the ones we have\n",
    "\n",
    "import time\n",
    "s = time.time()\n",
    "\n",
    "#use all samples\n",
    "df_v = [mc,nue,ext,data,dirt]\n",
    "\n",
    "\n",
    "puppa1 = 'trk_score_v'\n",
    "\n",
    "\n",
    "for i,df in enumerate(df_v):\n",
    "    up = uproot_v[i]\n",
    "    trk_theta_proton_v  = up.array('trk_theta_v')\n",
    "    trk_phi_proton_v    = up.array('trk_phi_v')\n",
    "    trk_score_v         = up.array('trk_score_v')    \n",
    "    trk_llr_pid_v       = up.array('trk_llr_pid_score_v')\n",
    "    trk_energy_proton_v = up.array('trk_energy_proton_v')\n",
    "    trk_calo_energy_y_v = up.array('trk_calo_energy_y_v')\n",
    "    trk_id              = up.array('trk_id')-1 # I think we need this -1 to get the right result\n",
    "    c                   = up.array('n_tracks_contained')\n",
    "    trk_theta_proton_v  = up.array('trk_theta_v')\n",
    "    trk_phi_proton_v    = up.array('trk_phi_v')\n",
    "\n",
    "    trk_theta_proton_sel  = awkward.fromiter([pidv[tid] if tid<len(pidv) else 9999. for pidv,tid in zip(trk_theta_proton_v,trk_id)])\n",
    "    trk_phi_proton_sel    = awkward.fromiter([pidv[tid] if tid<len(pidv) else 9999. for pidv,tid in zip(trk_phi_proton_v,trk_id)])\n",
    "    df['protontheta']  = trk_theta_proton_sel\n",
    "    df['protonphi']    = trk_phi_proton_sel\n",
    "\n",
    "    #print(trk_score_v.shape, len(trk_llr_pid_v))\n",
    "\n",
    "    #dummy variables\n",
    "    puppa_obj = []\n",
    "    puppa_trk = []\n",
    "    puppa_shw = []\n",
    "    puppa_prt = [] \n",
    "    puppa_mu  = []\n",
    "    \n",
    "    for pidv, p in zip(trk_llr_pid_v,trk_score_v):\n",
    "        N_obj         = 0\n",
    "        N_recoTrks    = 0\n",
    "        N_recoShowers = 0\n",
    "        N_recoProtons = 0\n",
    "        N_recoMuons   = 0\n",
    "        if len(pidv) > 0:\n",
    "            passPIDCut = (pidv <= 0)\n",
    "            passTrkCut = (p    >= 0)\n",
    "            protonCut  = (passPIDCut & passTrkCut) \n",
    "            muonCut    = (np.logical_not(passPIDCut) & passTrkCut) \n",
    "            N_obj         = len(passTrkCut)\n",
    "            N_recoTrks    = np.count_nonzero(passTrkCut)\n",
    "            N_recoShowers = np.count_nonzero(np.logical_not(passTrkCut))\n",
    "            N_recoProtons = np.count_nonzero(protonCut)\n",
    "            N_recoMuons   = np.count_nonzero(muonCut)\n",
    "        puppa_obj.append(N_obj)\n",
    "        puppa_trk.append(N_recoTrks)\n",
    "        puppa_shw.append(N_recoShowers)    \n",
    "        puppa_prt.append(N_recoProtons)\n",
    "        puppa_mu .append(N_recoMuons)\n",
    "\n",
    "    df['N_obj']           = puppa_obj\n",
    "    df['N_recoTrks']      = puppa_trk\n",
    "    df['N_recoShowers']   = puppa_shw\n",
    "    df['N_recoProtons']   = puppa_prt\n",
    "    df['N_recoMuons']     = puppa_mu\n",
    "    \n",
    "    trk_llr_pid_v_sel     = awkward.fromiter([pidv[tid] if tid<len(pidv) else 9999. for pidv,tid in zip(trk_llr_pid_v,trk_id)])\n",
    "    trk_energy_proton_sel = awkward.fromiter([pidv[tid] if tid<len(pidv) else 9999. for pidv,tid in zip(trk_energy_proton_v,trk_id)])\n",
    "    trk_calo_energy_y_sel = awkward.fromiter([pidv[tid] if tid<len(pidv) else 9999. for pidv,tid in zip(trk_calo_energy_y_v,trk_id)])\n",
    "    trk_theta_proton_sel  = awkward.fromiter([pidv[tid] if tid<len(pidv) else 9999. for pidv,tid in zip(trk_theta_proton_v,trk_id)])\n",
    "    trk_phi_proton_sel    = awkward.fromiter([pidv[tid] if tid<len(pidv) else 9999. for pidv,tid in zip(trk_phi_proton_v,trk_id)])\n",
    "\n",
    "    df['trkpid']          = trk_llr_pid_v_sel\n",
    "    df['protonenergy']    = trk_energy_proton_sel\n",
    "    df['trackcaloenergy'] = trk_calo_energy_y_sel\n",
    "    df['subcluster']      = df['shrsubclusters0'] + df['shrsubclusters1'] + df['shrsubclusters2']\n",
    "    #df['trkfit']          = df['shr_tkfit_npointsvalid'] / df['shr_tkfit_npoints']\n",
    "    #df['anglediff_Y']     = np.abs(df['secondshower_Y_dir']-df['shrclusdir2'])\n",
    "    #df['trkthetacos']     = np.cos(df['trk_theta'])\n",
    "\n",
    "    df['protontheta']  = trk_theta_proton_sel\n",
    "    df['protonphi']    = trk_phi_proton_sel\n",
    "\n",
    "#calculate angles wrt NuMI reference frame\n",
    "for i,df in enumerate(df_v):\n",
    "    #df['shr_numi_Angle']    = df.apply( lambda x: GetNuMIAngle(x['shr_px'],x['shr_py'],x['shr_pz']) , axis=1)\n",
    "    df['proton_numi_Angle'] = df.apply( lambda x: GetNuMIAnglePol(x['protonphi'],x['protontheta']) , axis=1)\n",
    "\n",
    "    \n",
    "#just prints out the time this cell takes\n",
    "s2 = time.time()\n",
    "print (\"time to run: \",s2-s)\n",
    "\n",
    "#BDT"
   ]
  },
  {
   "cell_type": "code",
   "execution_count": 15,
   "metadata": {},
   "outputs": [],
   "source": [
    "for i,df in enumerate(df_v):\n",
    "    df.loc[df['shrmoliereavg'].isna(),'secondshower_Y_dot'] = 9999.\n",
    "    #\n",
    "    # secondshower_U/V/Y_dot need to be set to 9999. to match data ntuples produced with v08_00_00_43 or later;\n",
    "    # the patch below is valid only to match data ntuples produced with v08_00_00_42.\n",
    "    #\n",
    "    #df.loc[df['secondshower_U_dot'].isna(),'secondshower_U_dot'] = 0.0 #for 0p please uncomment\n",
    "    #df.loc[df['secondshower_V_dot'].isna(),'secondshower_V_dot'] = 0.0 #for 0p please uncomment\n",
    "    df.loc[df['secondshower_Y_dot'].isna(),'secondshower_Y_dot'] = 0.0 \n",
    "    \n",
    "#BDT"
   ]
  },
  {
   "cell_type": "code",
   "execution_count": 16,
   "metadata": {},
   "outputs": [],
   "source": [
    "df_v = [mc,nue,ext,data,dirt]\n",
    "for i,df in enumerate(df_v):\n",
    "#    df['shr_tkfit_nhits_tot'] = (df['shr_tkfit_nhits_Y']+df['shr_tkfit_nhits_U']+df['shr_tkfit_nhits_V'])\n",
    "#    df['shr_tkfit_nhi'] = (df['shr_tkfit_nhits_Y']*df['shr_tkfit_dedx_Y'] + df['shr_tkfit_nhits_U']*df['shr_tkfit_dedx_U'] + df['shr_tkfit_nhits_V']*df['shr_tkfit_dedx_V'])/df['shr_tkfit_nhits_tot']\n",
    "#    df['shr_tkfit_2cm_nhits_tot'] = (df['shr_tkfit_2cm_nhits_Y']+df['shr_tkfit_2cm_nhits_U']+df['shr_tkfit_2cm_nhits_V'])\n",
    "#    df['shr_tkfit_2cm_dedx_avg'] = (df['shr_tkfit_2cm_nhits_Y']*df['shr_tkfit_2cm_dedx_Y'] + df['shr_tkfit_2cm_nhits_U']*df['shr_tkfit_2cm_dedx_U'] + df['shr_tkfit_2cm_nhits_V']*df['shr_tkfit_2cm_dedx_V'])/df['shr_tkfit_2cm_nhits_tot']\n",
    "#    df['shr_tkfit_gap10_nhits_tot'] = (df['shr_tkfit_gap10_nhits_Y']+df['shr_tkfit_gap10_nhits_U']+df['shr_tkfit_gap10_nhits_V'])\n",
    "#    df['shr_tkfit_gap10_dedx_avg'] = (df['shr_tkfit_gap10_nhits_Y']*df['shr_tkfit_gap10_dedx_Y'] + df['shr_tkfit_gap10_nhits_U']*df['shr_tkfit_gap10_dedx_U'] + df['shr_tkfit_gap10_nhits_V']*df['shr_tkfit_gap10_dedx_V'])/df['shr_tkfit_gap10_nhits_tot']\n",
    "    df.loc[:,'shr_tkfit_dedx_max'] = df['shr_tkfit_dedx_Y']\n",
    "    df.loc[(df['shr_tkfit_nhits_U']>df['shr_tkfit_nhits_Y']),'shr_tkfit_dedx_max'] = df['shr_tkfit_dedx_U']\n",
    "    df.loc[(df['shr_tkfit_nhits_V']>df['shr_tkfit_nhits_Y']) & (df['shr_tkfit_nhits_V']>df['shr_tkfit_nhits_U']),'shr_tkfit_dedx_max'] = df['shr_tkfit_dedx_V']\n",
    "    \n",
    "    #BDT"
   ]
  },
  {
   "cell_type": "code",
   "execution_count": 17,
   "metadata": {
    "scrolled": false
   },
   "outputs": [],
   "source": [
    "#commented big tutorial had flash timer just before this\n",
    "\n",
    "#Define neutrino reconstructed energy here\n",
    "#Also make a correction to electron shower energies\n",
    "\n",
    "INTERCEPT = 0.0\n",
    "SLOPE = 0.83\n",
    "\n",
    "df_v = [mc,nue,ext,data,dirt]\n",
    "# define some energy-related variables\n",
    "for i,df in enumerate(df_v):\n",
    "    df[\"reco_e\"] = (df[\"shr_energy_tot_cali\"] + INTERCEPT) / SLOPE + df[\"trk_energy_tot\"]\n",
    "#    df[\"reco_e_qe\"] = 0.938*((df[\"shr_energy\"]+INTERCEPT)/SLOPE)/(0.938 - ((df[\"shr_energy\"]+INTERCEPT)/SLOPE)*(1-np.cos(df[\"shr_theta\"])))\n",
    "#    df[\"reco_e_rqe\"] = df[\"reco_e_qe\"]/df[\"reco_e\"]\n",
    "\n",
    "# and a way to filter out data\n",
    "for i,df in enumerate(df_v):\n",
    "    df[\"bnbdata\"] = np.zeros_like(df[\"shr_energy\"])\n",
    "    df[\"extdata\"] = np.zeros_like(df[\"shr_energy\"])\n",
    "data[\"bnbdata\"] = np.ones_like(data[\"shr_energy\"])\n",
    "ext[\"extdata\"] = np.ones_like(ext[\"shr_energy\"])\n",
    "\n",
    "\n",
    "#BDT"
   ]
  },
  {
   "cell_type": "code",
   "execution_count": 18,
   "metadata": {
    "scrolled": false
   },
   "outputs": [],
   "source": [
    "# add back the cosmic category, for background only\n",
    "df_v = [mc,nue,ext,data,dirt]\n",
    "for i,df in enumerate(df_v):\n",
    "    df.loc[(df['category']!=1)&(df['category']!=10)&(df['category']!=11)&(df['category']!=111)&(df['slnunhits']/df['slnhits']<0.2), 'category'] = 4\n",
    "    \n",
    "#BDT    "
   ]
  },
  {
   "cell_type": "code",
   "execution_count": 19,
   "metadata": {},
   "outputs": [],
   "source": [
    "#########################################################\n",
    "######## RUN THIS CELL ONLY ONE TIME ONLY ###############\n",
    "#########################################################\n",
    "# The flash time for the NuMI data stream needs to be adjusted a little bit (there are hardware offsets in data). \n",
    "# That's the reason behind these hard coded shifts\n",
    "df_v = [mc,nue,dirt]\n",
    "for i,df in enumerate(df_v):\n",
    "        df.loc[ :, 'flash_time' ] = df['flash_time' ] - 0.304\n",
    "\n",
    "df_v = [ext]\n",
    "for i,df in enumerate(df_v):\n",
    "        df.loc[ :, 'flash_time' ] = df['flash_time' ] - 0.359\n",
    "        \n",
    "#BDT        "
   ]
  },
  {
   "cell_type": "code",
   "execution_count": 20,
   "metadata": {},
   "outputs": [],
   "source": [
    "#Define signal catagories\n",
    "\n",
    "data[\"is_signal\"] = data[\"category\"] == 11\n",
    "nue[\"is_signal\"] = nue[\"category\"] == 11\n",
    "mc[\"is_signal\"] = mc[\"category\"] == 11\n",
    "dirt[\"is_signal\"] = dirt[\"category\"] == 11\n",
    "ext[\"is_signal\"] = ext[\"category\"] == 11\n",
    "\n",
    "nue[\"is_not_signal\"] = nue[\"category\"] != 11\n",
    "\n",
    "#BDT"
   ]
  },
  {
   "cell_type": "code",
   "execution_count": 21,
   "metadata": {},
   "outputs": [],
   "source": [
    "# Some quick clean up since some strange events get in there\n",
    "mc   = mc.query('nu_e > 0.')\n",
    "nue  = nue.query('nu_e > 0.')\n",
    "dirt = dirt.query('nu_e > 0.')\n",
    "\n",
    "# Calculate the true neutrino direction off of the NuMI beam, needed for plotting. Seem to be from MC\n",
    "dfmc_v = [mc,nue,dirt]\n",
    "for i,df in enumerate(dfmc_v):\n",
    "    df['numi_nu_true_Angle'] = df.apply( lambda x: GetNuMIAngle(x['true_nu_px'],x['true_nu_py'],x['true_nu_pz']) , axis=1)\n",
    "    df['weightsNuMIGeo']     = df.apply( lambda x: numiBeamlineGeoWeights.calculateGeoWeight(x['nu_pdg'],x['nu_e'],x['numi_nu_true_Angle']) , axis=1)\n",
    "    \n"
   ]
  },
  {
   "cell_type": "markdown",
   "metadata": {},
   "source": [
    "## Selection Section"
   ]
  },
  {
   "cell_type": "code",
   "execution_count": 22,
   "metadata": {},
   "outputs": [
    {
     "name": "stdout",
     "output_type": "stream",
     "text": [
      "nslice == 1 and selected == 1 and shr_energy_tot_cali > 0.07 and ( (_opfilter_pe_beam > 0 and _opfilter_pe_veto < 20) or bnbdata == 1 or extdata == 1)\n"
     ]
    }
   ],
   "source": [
    "# nue preselection\n",
    "PRESQ = 'nslice == 1'\n",
    "PRESQ += ' and selected == 1'\n",
    "PRESQ += ' and shr_energy_tot_cali > 0.07'\n",
    "PRESQ += ' and ( (_opfilter_pe_beam > 0 and _opfilter_pe_veto < 20) or bnbdata == 1 or extdata == 1)'\n",
    "\n",
    "print(PRESQ)"
   ]
  },
  {
   "cell_type": "code",
   "execution_count": 24,
   "metadata": {},
   "outputs": [],
   "source": [
    "# Define actual selection\n",
    "\n",
    "#QUERY = PRESQ\n",
    "#QUERY = NPLCUTQ +\" and \"+ BDTCQ #PI0SEL#NUMUOnTheFly + ' and n_showers_contained == 1'  #PI0SEL#NPLCUTQ2 #NPLCUTQ #NPPRESQ#'nslice ==1 ' #NPPRESQ #PRESQ\n",
    "\n",
    "# in case you do not want to look at the data\n",
    "#QUERY += ' and bnbdata==0'\n",
    "\n",
    "# in case you want to apply the CRT veto\n",
    "#if ISRUN3: QUERY += ' and (crtveto!=1) and (_closestNuCosmicDist > 20.)'"
   ]
  },
  {
   "cell_type": "code",
   "execution_count": 23,
   "metadata": {},
   "outputs": [],
   "source": [
    "df_v = [mc,nue]\n",
    "for i,df in enumerate(df_v):\n",
    "    df.loc[ (df['category']== 11) & (df['nu_pdg'] == -12), 'category' ] = 12\n",
    "    df.loc[ (df['category']== 10) & (df['nu_pdg'] == -12), 'category' ] = 1\n",
    "    df.loc[ (df['category']== 10) & (df['nu_pdg'] ==  12), 'category' ] = 1"
   ]
  },
  {
   "cell_type": "markdown",
   "metadata": {},
   "source": [
    "## Plotting Part"
   ]
  },
  {
   "cell_type": "code",
   "execution_count": 24,
   "metadata": {},
   "outputs": [
    {
     "name": "stdout",
     "output_type": "stream",
     "text": [
      "904362\n",
      "{'mc': 0.08559738414394057, 'nue': 0.008409085175623745, 'ext': 0.5612087579382191, 'dirt': 0.049246181662128984}\n"
     ]
    }
   ],
   "source": [
    "import plotter\n",
    "import importlib\n",
    "importlib.reload(plotter)\n",
    "scaling = 1\n",
    "\n",
    "SPLIT = 1.0\n",
    "####Is this needed of new BDT?\n",
    "#if (USEBDT == True):\n",
    "#    SPLIT = 2.\n",
    "\n",
    "#Define the samples to feed the plotter, as well as POT normalisation for each sample\n",
    "#Need MC to be compariable to the data\n",
    "\n",
    "fullnue = nue\n",
    "#nueMC = mc.query(\"(abs(nu_pdg) == 12 & ccnc == 0 & true_nu_vtx_z < 1036.8 & true_nu_vtx_z > 0 & true_nu_vtx_y < 116.5 & true_nu_vtx_y > -116.5 & true_nu_vtx_x < \\\n",
    "# 254.8 & true_nu_vtx_x > -1.55 )\")\n",
    "nueMC = mc.query(\"(abs(nu_pdg) == 12 & ccnc == 0)\")\n",
    "nue   = nue.query(\"(abs(nu_pdg) == 12 & ccnc == 0 & true_nu_vtx_z < 1036.8 & true_nu_vtx_z > 0 & true_nu_vtx_y < 116.5 & true_nu_vtx_y > -116.5 & true_nu_vtx_x < \\\n",
    " 254.8 & true_nu_vtx_x > -1.55)\")\n",
    "\n",
    "\n",
    "samples = {\n",
    "    \"mc\": mc,\n",
    "    \"nue\": nue,\n",
    "    \"data\": data,\n",
    "    \"dirt\": dirt,\n",
    "    \"ext\": ext\n",
    "}\n",
    "\n",
    "scaling = 1\n",
    "# This is the data POT we normalize to (comes from the data Ntuples)\n",
    "pot =  2e+20 #partial file: 8.885e+19\n",
    "# This is the full MC POT scaling factor\n",
    "mcratio   = pot/2.33652e+21 #norm on wiki: 1.18488e+21; current norm on my plotter:  2.07136e+21\n",
    "# This is the POT scaling factor for the nue CC only sample\n",
    "nueratio  = pot/2.37838e+22 #2.59311e+22 #norm for intrinsic = 2.59311e+22\n",
    "# This is the POT scaling factor for dirt sample\n",
    "dirtratio = pot/1.42143e+21\n",
    "# The EXT sample (off beam) is scaled using the triggers (there's no POT in the external sample!)\n",
    "extratio  = 5268051/9199232.74 #partial file: 2347745.0/4015961.99\n",
    "SPLIT = 1.0\n",
    "# We scale down the EXT to account for neutrino occupancy\n",
    "scalingEXT = 0.98\n",
    " # We scale down the dirt (big uncertainties on this, there's a better data-MC agreement like this)\n",
    "scalingDRT = 0.35\n",
    "\n",
    "\n",
    "#Now we can define the sample normalization factors\n",
    "weights = { #full sample mc = 0.38\n",
    "            \"mc\"  : mcratio  * SPLIT * scaling,   \n",
    "            \"nue\" : nueratio * SPLIT * scaling,  \n",
    "            \"ext\" : extratio * SPLIT * scalingEXT, #set0   \n",
    "            \"dirt\": dirtratio* SPLIT * scalingDRT, #set0   \n",
    "}\n",
    "\n",
    "print (ext.shape[0])\n",
    "my_plotter = plotter.Plotter(samples, weights, pot=pot)\n",
    "print(weights)\n",
    "\n",
    "#BDT"
   ]
  },
  {
   "cell_type": "markdown",
   "metadata": {},
   "source": [
    "Pre Selection Plots."
   ]
  },
  {
   "cell_type": "code",
   "execution_count": 25,
   "metadata": {
    "colab": {
     "base_uri": "https://localhost:8080/",
     "height": 561
    },
    "colab_type": "code",
    "executionInfo": {
     "elapsed": 2342,
     "status": "ok",
     "timestamp": 1560557343774,
     "user": {
      "displayName": "Stefano Roberto Soleti",
      "photoUrl": "https://lh4.googleusercontent.com/-hfLpspJu4Q0/AAAAAAAAAAI/AAAAAAAABmA/2kE4rtj8paU/s64/photo.jpg",
      "userId": "10372352518008961760"
     },
     "user_tz": 240
    },
    "id": "b93hN-pGYJ9T",
    "outputId": "17e7c7ed-3f12-4b03-805c-6698f1617878",
    "scrolled": false
   },
   "outputs": [
    {
     "name": "stdout",
     "output_type": "stream",
     "text": [
      "true_nu_vtx_z < 1036.8 and true_nu_vtx_z > 0 and true_nu_vtx_y < 116.5 and true_nu_vtx_y > -116.5 and true_nu_vtx_x <  254.8 and true_nu_vtx_x > -1.55 and (abs(nu_pdg) == 12 and ccnc == 0)& nu_e <= 5 & nu_e >= 0 \n",
      " ~(abs(nu_pdg) == 12 & ccnc == 0) \n",
      " None \n",
      " False\n",
      "order w sum  0.06172974641404549  c  31\n",
      "order w sum  0.16206110230596382  c  3\n",
      "order w sum  13.037688436458543  c  4\n",
      "order w sum  75.88883266632058  c  5\n",
      "order w sum  223.7111688095107  c  0\n",
      "order w sum  360.6659738488997  c  1\n",
      "order w sum  32.10394283189026  c  12\n",
      "order w sum  370.8856763625695  c  11\n",
      "[0.02558536 0.03614439 0.         0.         0.         0.\n",
      " 0.         0.         0.         0.        ]\n",
      "sum:  0.061729746414045494\n",
      "[0.06407157 0.11490107 0.03674458 0.00807363 0.         0.\n",
      " 0.         0.         0.         0.        ]\n",
      "sum:  0.2237908487200093\n",
      "[1.1887709  4.39538272 3.49864718 1.67562897 1.06278395 0.59500141\n",
      " 0.3521949  0.16811748 0.20261991 0.12233185]\n",
      "sum:  13.261479285178556\n",
      "[ 5.59964057 27.97226082 25.58138968 13.32292323  7.29297975  4.0906369\n",
      "  2.69143691  1.29644742  0.80796021  0.49463646]\n",
      "sum:  89.15031195149899\n",
      "[ 29.66966545 104.71335919  83.76859523  42.06217836  22.12373887\n",
      "  13.0610174    8.73981896   4.57108609   2.70563107   1.44639014]\n",
      "sum:  312.8614807610093\n",
      "[ 46.1931608  185.7106176  179.75076532 104.91301798  63.28612879\n",
      "  38.93743036  25.83383217  15.55510165   8.72421405   4.62318589]\n",
      "sum:  673.5274546099092\n",
      "[ 47.81657895 192.17617144 189.17981629 110.55873796  67.10850007\n",
      "  41.19647126  27.29117964  16.38356677   9.11251287   4.80786219]\n",
      "sum:  705.6313974417998\n",
      "[ 77.90138978 343.80482649 300.21913195 154.4592256   83.96334452\n",
      "  49.46796399  32.12043646  18.88607129  10.38616629   5.30851744]\n",
      "sum:  1076.5170738043744\n",
      "0.0\n",
      "0.5\n",
      "1.0\n",
      "1.5\n",
      "2.0\n",
      "2.5\n",
      "3.0\n",
      "3.5\n",
      "4.0\n",
      "4.5\n",
      "5.0\n",
      "<BarContainer object of 10 artists>\n",
      "<BarContainer object of 10 artists>\n",
      "<BarContainer object of 10 artists>\n",
      "<BarContainer object of 10 artists>\n",
      "<BarContainer object of 10 artists>\n",
      "<BarContainer object of 10 artists>\n",
      "<BarContainer object of 10 artists>\n",
      "<BarContainer object of 10 artists>\n",
      "\n",
      "NU NC PI0\n",
      "[0.025585359053811083, 0.06407156779241024, 1.1887709026123117, 5.599640574537573, 29.669665445077985, 46.19316079916348, 47.816578949252296, 77.90138977675437]\n",
      "[0.03848620873859916, 1.1246993348199015, 4.410869671925261, 24.07002487054041, 16.523495354085494, 1.623418150088817, 30.084810827502075]\n",
      "\n",
      "OUT OF FID VOL\n",
      "[0.03614438736023441, 0.1149010734790711, 4.395382723455733, 27.97226081635157, 104.71335919031932, 185.71061760245703, 192.17617143571576, 343.8048264853769]\n",
      "[0.07875668611883668, 4.280481649976662, 23.57687809289584, 76.74109837396776, 80.99725841213771, 6.465553833258724, 151.62865504966115]\n",
      "\n",
      "NU NC\n",
      "[0.0, 0.036744578651200635, 3.4986471810741757, 25.58138968441574, 83.76859523491372, 179.75076531860162, 189.17981629286194, 300.219131954967]\n",
      "[0.036744578651200635, 3.461902602422975, 22.082742503341564, 58.18720555049798, 95.9821700836879, 9.42905097426032, 111.03931566210505]\n",
      "\n",
      "NUMU CC PI0\n",
      "[0.0, 0.008073628797327342, 1.6756289711913925, 13.32292322655963, 42.06217836010354, 104.91301797858009, 110.55873796265139, 154.45922560125985]\n",
      "[0.008073628797327342, 1.6675553423940652, 11.647294255368237, 28.739255133543907, 62.85083961847655, 5.645719984071306, 43.90048763860845]\n",
      "\n",
      "NUMU CC\n",
      "[0.0, 0.0, 1.0627839467468743, 7.2929797490188175, 22.12373886637024, 63.286128789110556, 67.10850007031956, 83.96334451854716]\n",
      "[0.0, 1.0627839467468743, 6.230195802271943, 14.830759117351421, 41.16238992274032, 3.8223712812090085, 16.854844448227595]\n",
      "\n",
      "FIVE DIFF\n",
      "[0.0, 0.0, 0.595001414238375, 4.090636896075615, 13.0610173994177, 38.937430363017974, 41.196471263041985, 49.467963994228455]\n",
      "[0.0, 0.595001414238375, 3.4956354818372404, 8.970380503342085, 25.876412963600274, 2.2590409000240115, 8.27149273118647]\n",
      "\n",
      "SIX DIFF\n",
      "[0.0, 0.0, 0.35219489948884686, 2.691436910521073, 8.739818963726972, 25.83383217013107, 27.291179636841765, 32.120436462495874]\n",
      "[0.0, 0.35219489948884686, 2.3392420110322263, 6.0483820532058985, 17.0940132064041, 1.4573474667106936, 4.8292568256541095]\n",
      "\n",
      "SEVEN DIFF\n",
      "[0.0, 0.0, 0.16811748463145548, 1.296447420220705, 4.571086087893452, 15.55510165076483, 16.383566766334827, 18.886071287152124]\n",
      "[0.0, 0.16811748463145548, 1.1283299355892495, 3.274638667672747, 10.984015562871377, 0.8284651155699976, 2.502504520817297]\n",
      "\n",
      "EIGHT DIFF\n",
      "[0.0, 0.0, 0.20261991136190183, 0.8079602135654032, 2.705631074791947, 8.724214051906936, 9.112512870163053, 10.386166288258531]\n",
      "[0.0, 0.20261991136190183, 0.6053403022035013, 1.897670861226544, 6.018582977114988, 0.3882988182561178, 1.2736534180954777]\n",
      "\n",
      "NINE DIFF\n",
      "[0.0, 0.0, 0.12233185037749017, 0.4946364602328668, 1.4463901383944613, 4.623185886175689, 4.807862194617089, 5.308517435334069]\n",
      "[0.0, 0.12233185037749017, 0.3723046098553766, 0.9517536781615945, 3.1767957477812274, 0.18467630844140004, 0.5006552407169806]\n",
      "\n",
      "SUMS\n",
      "[0.061729746414045494, 0.2237908487200093, 13.261479285178556, 89.15031195149899, 312.8614807610093, 673.5274546099092, 705.6313974417998, 1076.5170738043744]\n",
      "[0.1620611023059638, 13.037688436458547, 75.88883266632044, 223.71116880951033, 360.6659738488999, 32.10394283189055, 370.8856763625746]\n",
      "\n",
      "labels  ['$\\\\nu$ NC $\\\\pi^{0}$: 0.1', '$\\\\nu$ NC: 0.2', 'Cosmic: 13.0', 'Out. fid. vol.: 75.9', 'No slice: 223.7', '$\\\\nu_e$ Other: 360.7', '$\\\\bar\\\\nu_e$ CC0$\\\\pi$Np: 32.1', '$\\\\nu_e$ CC0$\\\\pi$Np: 370.9']\n",
      "n_tot  [ 77.90138978 343.80482649 300.21913195 154.4592256   83.96334452\n",
      "  49.46796399  32.12043646  18.88607129  10.38616629   5.30851744]\n",
      "total array  [0.46900827 0.45449573 0.59325266 ... 0.81428844 1.0175847  2.0369437 ]\n"
     ]
    },
    {
     "name": "stderr",
     "output_type": "stream",
     "text": [
      "/home/amoor/NuMI/NuMI_Analysis/PELEE/plotter.py:459: RuntimeWarning: divide by zero encountered in true_divide\n",
      "  ERR_STAT = 3. / ( 1./data + 2./mc )\n"
     ]
    },
    {
     "data": {
      "image/png": "[encoded data removed]",
      "text/plain": [
       "<Figure size 576x504 with 2 Axes>"
      ]
     },
     "metadata": {
      "needs_background": "light"
     },
     "output_type": "display_data"
    }
   ],
   "source": [
    "import matplotlib.pyplot as plt\n",
    "import matplotlib\n",
    "\n",
    "# DID YOU CHANGE BACK THE SYSTEMATICS???\n",
    "\n",
    "VARIABLE, BINS, RANGE, XTIT = 'nu_e', 10, (0.0,5.0), r\"True Nue Energy [GeV]\"\n",
    "\n",
    "#in the fiducial volume\n",
    "fiduc = \"true_nu_vtx_z < 1036.8 and true_nu_vtx_z > 0 and true_nu_vtx_y < 116.5 and true_nu_vtx_y > -116.5 and true_nu_vtx_x < \\\n",
    " 254.8 and true_nu_vtx_x > -1.55 and (abs(nu_pdg) == 12 and ccnc == 0)\"\n",
    "FID_QUERY = fiduc\n",
    "\n",
    "#This is the making of the actual plot\n",
    "fig, ax1, ax2 = my_plotter.plot_variable(\n",
    "    VARIABLE,   \n",
    "    query= FID_QUERY ,\n",
    "    kind=\"event_category\", # this splits up the MC in many physics categories\n",
    "    draw_sys  = False, # We plot the PPFX, GENIE and ReInteraction Systematics (the other systematics are to be implemented)\n",
    "    draw_data = False, # need this to plot MC!\n",
    "    draw_geoSys = True, \n",
    "    genieweight = \"weightSplineTimesTuneTimesPPFX\", # This is the official weight we calculated before. \n",
    "    stacksort=3, # order of categories\n",
    "    title=XTIT, # Name of X axis\n",
    "    bins=BINS,\n",
    "    range=RANGE,\n",
    ")[0:3]\n",
    "\n",
    "\n",
    "ax1.set_title('NuMI Run 1, No Selection - Nue energies',loc='left')\n",
    "fig.tight_layout()\n",
    "#fig.savefig(\"/Users/elenag/Desktop/NuMI/NuMI4PeLEE/Sidebands/Figures/NuMI/1eNp/BDTFinalFullMC/\"+VARIABLE+\"_varCV.pdf\")\n",
    "#print('%s %.4f %.4f %.4f ' % (VARIABLE, my_plotter.stats['pvalue'], my_plotter.stats['pvaluestatonly'],my_plotter.stats['pvaluediag'])+\"\\n\")"
   ]
  },
  {
   "cell_type": "code",
   "execution_count": 26,
   "metadata": {},
   "outputs": [
    {
     "name": "stdout",
     "output_type": "stream",
     "text": [
      "true_nu_vtx_z < 1036.8 and true_nu_vtx_z > 0 and true_nu_vtx_y < 116.5 and true_nu_vtx_y > -116.5 and true_nu_vtx_x <  254.8 and true_nu_vtx_x > -1.55 and (abs(nu_pdg) == 12 and ccnc == 0)& elec_e <= 5 & elec_e >= 0 \n",
      " ~(abs(nu_pdg) == 12 & ccnc == 0) \n",
      " None \n",
      " False\n",
      "order w sum  0.06172974641404549  c  31\n",
      "order w sum  0.16206110230596382  c  3\n",
      "order w sum  13.17482786313895  c  4\n",
      "order w sum  76.50848662782731  c  5\n",
      "order w sum  225.4668037720339  c  0\n",
      "order w sum  367.77205784094343  c  1\n",
      "order w sum  32.30309094298367  c  12\n",
      "order w sum  371.4587617670574  c  11\n",
      "[0.062 0.    0.    0.    0.    0.    0.    0.    0.    0.    0.    0.\n",
      " 0.    0.    0.    0.    0.    0.    0.    0.   ]\n",
      "sum:  0.061729746414045494\n",
      "[0.224 0.    0.    0.    0.    0.    0.    0.    0.    0.    0.    0.\n",
      " 0.    0.    0.    0.    0.    0.    0.    0.   ]\n",
      "sum:  0.22379084872000932\n",
      "[2.197 3.479 2.283 1.718 1.265 0.619 0.53  0.358 0.187 0.24  0.164 0.119\n",
      " 0.058 0.029 0.075 0.041 0.02  0.    0.017 0.   ]\n",
      "sum:  13.39861871185896\n",
      "[10.924 24.583 17.937 12.265  8.36   4.645  3.4    2.32   1.39   1.234\n",
      "  0.882  0.546  0.416  0.244  0.262  0.179  0.121  0.071  0.103  0.027]\n",
      "sum:  89.90710533968605\n",
      "[44.718 84.23  61.177 41.914 27.058 15.872 11.275  7.919  5.823  4.392\n",
      "  3.092  2.146  1.737  1.092  0.802  0.68   0.51   0.396  0.311  0.231]\n",
      "sum:  315.3739091117204\n",
      "[ 92.407 168.675 127.164  91.477  60.119  39.078  27.7    20.124  14.641\n",
      "  11.189   8.315   5.829   4.515   3.268   2.519   2.028   1.497   1.085\n",
      "   0.825   0.692]\n",
      "sum:  683.1459669526639\n",
      "[ 94.495 172.918 132.132  96.708  64.016  41.922  29.82   21.937  15.868\n",
      "  12.137   9.177   6.43    4.959   3.588   2.703   2.229   1.579   1.176\n",
      "   0.922   0.732]\n",
      "sum:  715.4490578956475\n",
      "[132.692 277.885 216.062 152.254  96.504  61.707  41.662  29.289  20.651\n",
      "  15.475  12.03    8.355   6.321   4.592   3.412   2.77    1.839   1.368\n",
      "   1.092   0.949]\n",
      "sum:  1086.9078196627106\n",
      "0.0\n",
      "0.25\n",
      "0.5\n",
      "0.75\n",
      "1.0\n",
      "1.25\n",
      "1.5\n",
      "1.75\n",
      "2.0\n",
      "2.25\n",
      "2.5\n",
      "2.75\n",
      "3.0\n",
      "3.25\n",
      "3.5\n",
      "3.75\n",
      "4.0\n",
      "4.25\n",
      "4.5\n",
      "4.75\n",
      "5.0\n",
      "<BarContainer object of 20 artists>\n",
      "<BarContainer object of 20 artists>\n",
      "<BarContainer object of 20 artists>\n",
      "<BarContainer object of 20 artists>\n",
      "<BarContainer object of 20 artists>\n",
      "<BarContainer object of 20 artists>\n",
      "<BarContainer object of 20 artists>\n",
      "<BarContainer object of 20 artists>\n",
      "\n",
      "NU NC PI0\n",
      "[0.061729746414045494, 0.22379084872000932, 2.19726237274976, 10.923707987619744, 44.71760891714701, 92.4067169687983, 94.49463478838072, 132.69182910630508]\n",
      "[0.16206110230596382, 1.973471524029751, 8.726445614869984, 33.79390092952727, 47.689108051651296, 2.0879178195824153, 38.19719431792436]\n",
      "\n",
      "OUT OF FID VOL\n",
      "[0.0, 0.0, 3.479398316329683, 24.582897795650904, 84.23010200863429, 168.67451527860896, 172.91811477935454, 277.88540788069633]\n",
      "[0.0, 3.479398316329683, 21.103499479321222, 59.64720421298338, 84.44441326997467, 4.2435995007455745, 104.9672931013418]\n",
      "\n",
      "NU NC\n",
      "[0.0, 0.0, 2.2834220898303075, 17.936630170029247, 61.176772930602425, 127.16402929940864, 132.13220752629718, 216.06153782408785]\n",
      "[0.0, 2.2834220898303075, 15.65320808019894, 43.24014276057318, 65.98725636880621, 4.96817822688854, 83.92933029779067]\n",
      "\n",
      "NUMU CC PI0\n",
      "[0.0, 0.0, 1.7177448833784172, 12.26524564297244, 41.91396197286513, 91.47678043484242, 96.70832708768359, 152.2537250826318]\n",
      "[0.0, 1.7177448833784172, 10.547500759594023, 29.648716329892693, 49.562818461977294, 5.2315466528411605, 55.54539799494822]\n",
      "\n",
      "NUMU CC\n",
      "[0.0, 0.0, 1.2649878846984706, 8.36025730078665, 27.057715596614138, 60.11935546383443, 64.0161885863471, 96.50400185540413]\n",
      "[0.0, 1.2649878846984706, 7.095269416088179, 18.697458295827488, 33.06163986722029, 3.8968331225126676, 32.48781326905703]\n",
      "\n",
      "FIVE DIFF\n",
      "[0.0, 0.0, 0.6185783475216677, 4.644689317215436, 15.871829669992819, 39.077759707796616, 41.92159511663297, 61.70690264060434]\n",
      "[0.0, 0.6185783475216677, 4.026110969693768, 11.227140352777383, 23.205930037803796, 2.8438354088363553, 19.78530752397137]\n",
      "\n",
      "SIX DIFF\n",
      "[0.0, 0.0, 0.5301118517544801, 3.399794990679677, 11.275395159070339, 27.699834227485834, 29.820197242304218, 41.661818591048686]\n",
      "[0.0, 0.5301118517544801, 2.869683138925197, 7.875600168390662, 16.424439068415495, 2.120363014818384, 11.841621348744468]\n",
      "\n",
      "SEVEN DIFF\n",
      "[0.0, 0.0, 0.35794521014581804, 2.3201181421259385, 7.919190198942932, 20.123958682673948, 21.936516817334958, 29.289036665205057]\n",
      "[0.0, 0.35794521014581804, 1.9621729319801204, 5.599072056816993, 12.204768483731016, 1.8125581346610105, 7.352519847870099]\n",
      "\n",
      "EIGHT DIFF\n",
      "[0.0, 0.0, 0.1866762608259407, 1.3895102235945913, 5.822694258129594, 14.640751164650261, 15.868188365555316, 20.650991399325537]\n",
      "[0.0, 0.1866762608259407, 1.2028339627686506, 4.433184034535003, 8.818056906520667, 1.2274372009050545, 4.782803033770222]\n",
      "\n",
      "NINE DIFF\n",
      "[0.0, 0.0, 0.24049490876193325, 1.2341763282583305, 4.39211871831465, 11.188708550027131, 12.137398751972045, 15.474960735393767]\n",
      "[0.0, 0.24049490876193325, 0.9936814194963972, 3.15794239005632, 6.796589831712481, 0.9486902019449133, 3.337561983421722]\n",
      "\n",
      "SUMS\n",
      "[0.061729746414045494, 0.22379084872000932, 13.39861871185896, 89.90710533968605, 315.3739091117204, 683.1459669526639, 715.4490578956475, 1086.9078196627106]\n",
      "[0.16206110230596382, 13.174827863138951, 76.5084866278271, 225.46680377203438, 367.7720578409435, 32.303090942983545, 371.45876176706315]\n",
      "\n",
      "labels  ['$\\\\nu$ NC $\\\\pi^{0}$: 0.1', '$\\\\nu$ NC: 0.2', 'Cosmic: 13.2', 'Out. fid. vol.: 76.5', 'No slice: 225.5', '$\\\\nu_e$ Other: 367.8', '$\\\\bar\\\\nu_e$ CC0$\\\\pi$Np: 32.3', '$\\\\nu_e$ CC0$\\\\pi$Np: 371.5']\n",
      "n_tot  [132.692 277.885 216.062 152.254  96.504  61.707  41.662  29.289  20.651\n",
      "  15.475  12.03    8.355   6.321   4.592   3.412   2.77    1.839   1.368\n",
      "   1.092   0.949]\n",
      "total array  [0.022 0.026 0.03  ... 3.774 0.924 1.831]\n"
     ]
    },
    {
     "name": "stderr",
     "output_type": "stream",
     "text": [
      "/home/amoor/NuMI/NuMI_Analysis/PELEE/plotter.py:459: RuntimeWarning: divide by zero encountered in true_divide\n",
      "  ERR_STAT = 3. / ( 1./data + 2./mc )\n"
     ]
    },
    {
     "data": {
      "image/png": "[encoded data removed]",
      "text/plain": [
       "<Figure size 432x288 with 1 Axes>"
      ]
     },
     "metadata": {
      "needs_background": "light"
     },
     "output_type": "display_data"
    },
    {
     "data": {
      "image/png": "[encoded data removed]",
      "text/plain": [
       "<Figure size 576x504 with 2 Axes>"
      ]
     },
     "metadata": {
      "needs_background": "light"
     },
     "output_type": "display_data"
    }
   ],
   "source": [
    "import matplotlib.pyplot as plt\n",
    "import matplotlib\n",
    "\n",
    "#in the fiducial volume\n",
    "fiduc = \"true_nu_vtx_z < 1036.8 and true_nu_vtx_z > 0 and true_nu_vtx_y < 116.5 and true_nu_vtx_y > -116.5 and true_nu_vtx_x < \\\n",
    " 254.8 and true_nu_vtx_x > -1.55\"\n",
    "\n",
    "#just look for electon neutrinos\n",
    "q2 = \"(abs(nu_pdg) == 12 and ccnc == 0) and \" + fiduc\n",
    "#in the mc data\n",
    "nueMCSel  = mc.query(q2)\n",
    "\n",
    "fig, ax = plt.subplots(nrows=1, sharex=True)\n",
    "\n",
    "#n1, bins1, patches1 = ax[0].hist('elec_e',25,weights='weightSplineTimesTuneTimesPPFX',  range=(0,5), alpha=0.75, label='Elec')\n",
    "n2, bins2, patches2 = ax.hist(nueMCSel['elec_e'],20,weights=nueMCSel['weightSplineTimesTuneTimesPPFX'],  range=(0,5), alpha=0.75, label='counts')\n",
    "\n",
    "ax.set_xlabel('True Electron Energy [GeV]')\n",
    "ax.set_ylabel('normalized counts')\n",
    "ax.set_title('Only Truth Selection [Fid+cc]')\n",
    "ax.legend()\n",
    "ax.grid(True)\n",
    "\n",
    "############################################\n",
    "\n",
    "VARIABLE, BINS, RANGE, XTIT = 'elec_e', 20, (0.0,5.0), r\"True Electron Energy [GeV]\"\n",
    "\n",
    "\n",
    "#This is the making of the actual plot\n",
    "fig, ax1, ax2 = my_plotter.plot_variable(\n",
    "    VARIABLE,   \n",
    "    query= FID_QUERY ,\n",
    "    kind=\"event_category\", # this splits up the MC in many physics categories\n",
    "    draw_sys  = False, # We plot the PPFX, GENIE and ReInteraction Systematics (the other systematics are to be implemented)\n",
    "    draw_data = False, # need this to plot MC!\n",
    "    draw_geoSys = True, \n",
    "    genieweight = \"weightSplineTimesTuneTimesPPFX\", # This is the official weight we calculated before. \n",
    "    stacksort=3, # order of categories\n",
    "    title=XTIT, # Name of X axis\n",
    "    bins=BINS,\n",
    "    range=RANGE,\n",
    ")[0:3]\n",
    "\n",
    "ax1.set_title('NuMI Run 1, 1eNp Final Sel -- Nue Intrinsic --  HP,XSec,G4 Syst',loc='left')\n",
    "ax1.set_title('NuMI Run 1, No Selection -Electron energies',loc='left')\n",
    "fig.tight_layout()\n"
   ]
  },
  {
   "cell_type": "code",
   "execution_count": 2,
   "metadata": {},
   "outputs": [],
   "source": [
    "# from Katerina  - modified, to be able to plot truth mc with nue eff selections\n",
    "# plot efficiency overlaid on selected signal events \n",
    "def plot_signal_and_eff(selected, df, signal, bins, truth): \n",
    "    \n",
    "    # generated true signal events per bin \n",
    "    gen = plt.hist(df.query(signal)['nu_e'], bins, color='orange')\n",
    "    plt.close()\n",
    "    \n",
    "    # plot selected signal events \n",
    "    fig, ax1 = plt.subplots(figsize=(4, 5))\n",
    "    \n",
    "    sel = ax1.hist(truth['nu_e'], bins, color='orange')\n",
    "    ax1.set_ylabel('selected signal events', fontsize=15)\n",
    "    ax1.set_xlabel('true nue energy [GeV]', fontsize=15)\n",
    "\n",
    "    # compute efficiency\n",
    "    #sel2=selected['nu_e']\n",
    "    sel = ax1.hist(selected['nu_e'], bins, color='white')\n",
    "    eff = [ a/b for a, b in zip(sel[0], gen[0]) ]\n",
    "    eff_err = []\n",
    "    for i in range(len(eff)):\n",
    "        eff_err.append(math.sqrt( (eff[i]*(1-eff[i]))/gen[0][i] ) )\n",
    "        \n",
    "    # compute bin centers \n",
    "    bc = 0.5*(sel[1][1:]+sel[1][:-1])\n",
    "    x_err = []\n",
    "    for i in range(len(sel[1])-1): \n",
    "        x_err.append((sel[1][i+1]-sel[1][i])/2)\n",
    "\n",
    "    # plot efficiency\n",
    "    sel = ax1.hist(truth['nu_e'], bins, color='orange')\n",
    "    ax1.set_ylim(0, 6000)\n",
    "    ax2 = ax1.twinx()\n",
    "    ax2.errorbar(bc, eff, xerr=x_err, yerr=eff_err, fmt='o', color='seagreen', ecolor='seagreen', markersize=3) \n",
    "    ax2.set_ylim(0, 1.00)\n",
    "    ax2.set_ylabel('Efficiency', fontsize=15)\n",
    "    ax2.set_title(\"Variable and Efficiency plot\")\n",
    "\n",
    "    plt.show()"
   ]
  },
  {
   "cell_type": "code",
   "execution_count": 1,
   "metadata": {},
   "outputs": [],
   "source": [
    "######################"
   ]
  },
  {
   "cell_type": "markdown",
   "metadata": {},
   "source": [
    "## BDT"
   ]
  },
  {
   "cell_type": "code",
   "execution_count": 25,
   "metadata": {},
   "outputs": [],
   "source": [
    "reco_in_fv_query = \"10<=reco_nu_vtx_sce_x<=246 and -106<=reco_nu_vtx_sce_y<=106 and 10<=reco_nu_vtx_sce_z<=1026\"\n",
    "\n",
    "BDT_PRE_QUERY = 'nslice==1'\n",
    "BDT_PRE_QUERY += ' and ' + reco_in_fv_query\n",
    "BDT_PRE_QUERY +=' and contained_fraction>0.9'\n",
    "BDT_PRE_QUERY += ' and n_tracks_contained>0'\n",
    "BDT_PRE_QUERY += ' and n_showers_contained==1'\n",
    "BDT_PRE_QUERY += ' and shr_energy_tot_cali>0.07'\n",
    "\n",
    "BDT_LOOSE_CUTS = BDT_PRE_QUERY\n",
    "BDT_LOOSE_CUTS += ' and shr_score<0.3'\n",
    "BDT_LOOSE_CUTS += ' and trkpid<0.35'\n",
    "BDT_LOOSE_CUTS += ' and shrmoliereavg<15'\n",
    "BDT_LOOSE_CUTS += ' and shr_tkfit_dedx_Y<7'\n",
    "BDT_LOOSE_CUTS += ' and tksh_distance<12'"
   ]
  },
  {
   "cell_type": "code",
   "execution_count": 26,
   "metadata": {},
   "outputs": [],
   "source": [
    "# load bdt model \n",
    "bdt_model = xgb.Booster({'nthread': 4})\n",
    "bdt_model.load_model('/home/amoor/NuMI/NuMI_Analysis/bdt_model_feb2021.model')"
   ]
  },
  {
   "cell_type": "code",
   "execution_count": 27,
   "metadata": {},
   "outputs": [
    {
     "name": "stdout",
     "output_type": "stream",
     "text": [
      "(914729, 109)\n"
     ]
    },
    {
     "name": "stderr",
     "output_type": "stream",
     "text": [
      "/home/amoor/miniconda3/envs/python3NuMIWS/lib/python3.7/site-packages/pandas/core/indexing.py:1719: SettingWithCopyWarning: \n",
      "A value is trying to be set on a copy of a slice from a DataFrame.\n",
      "Try using .loc[row_indexer,col_indexer] = value instead\n",
      "\n",
      "See the caveats in the documentation: https://pandas.pydata.org/pandas-docs/stable/user_guide/indexing.html#returning-a-view-versus-a-copy\n",
      "  self._setitem_single_column(loc, value, pi)\n",
      "/home/amoor/miniconda3/envs/python3NuMIWS/lib/python3.7/site-packages/pandas/core/indexing.py:1719: SettingWithCopyWarning: \n",
      "A value is trying to be set on a copy of a slice from a DataFrame.\n",
      "Try using .loc[row_indexer,col_indexer] = value instead\n",
      "\n",
      "See the caveats in the documentation: https://pandas.pydata.org/pandas-docs/stable/user_guide/indexing.html#returning-a-view-versus-a-copy\n",
      "  self._setitem_single_column(loc, value, pi)\n",
      "/home/amoor/miniconda3/envs/python3NuMIWS/lib/python3.7/site-packages/pandas/core/indexing.py:1719: SettingWithCopyWarning: \n",
      "A value is trying to be set on a copy of a slice from a DataFrame.\n",
      "Try using .loc[row_indexer,col_indexer] = value instead\n",
      "\n",
      "See the caveats in the documentation: https://pandas.pydata.org/pandas-docs/stable/user_guide/indexing.html#returning-a-view-versus-a-copy\n",
      "  self._setitem_single_column(loc, value, pi)\n",
      "/home/amoor/miniconda3/envs/python3NuMIWS/lib/python3.7/site-packages/pandas/core/indexing.py:1719: SettingWithCopyWarning: \n",
      "A value is trying to be set on a copy of a slice from a DataFrame.\n",
      "Try using .loc[row_indexer,col_indexer] = value instead\n",
      "\n",
      "See the caveats in the documentation: https://pandas.pydata.org/pandas-docs/stable/user_guide/indexing.html#returning-a-view-versus-a-copy\n",
      "  self._setitem_single_column(loc, value, pi)\n",
      "/home/amoor/miniconda3/envs/python3NuMIWS/lib/python3.7/site-packages/pandas/core/indexing.py:1719: SettingWithCopyWarning: \n",
      "A value is trying to be set on a copy of a slice from a DataFrame.\n",
      "Try using .loc[row_indexer,col_indexer] = value instead\n",
      "\n",
      "See the caveats in the documentation: https://pandas.pydata.org/pandas-docs/stable/user_guide/indexing.html#returning-a-view-versus-a-copy\n",
      "  self._setitem_single_column(loc, value, pi)\n",
      "/home/amoor/miniconda3/envs/python3NuMIWS/lib/python3.7/site-packages/pandas/core/indexing.py:1719: SettingWithCopyWarning: \n",
      "A value is trying to be set on a copy of a slice from a DataFrame.\n",
      "Try using .loc[row_indexer,col_indexer] = value instead\n",
      "\n",
      "See the caveats in the documentation: https://pandas.pydata.org/pandas-docs/stable/user_guide/indexing.html#returning-a-view-versus-a-copy\n",
      "  self._setitem_single_column(loc, value, pi)\n",
      "/home/amoor/miniconda3/envs/python3NuMIWS/lib/python3.7/site-packages/pandas/core/indexing.py:1719: SettingWithCopyWarning: \n",
      "A value is trying to be set on a copy of a slice from a DataFrame.\n",
      "Try using .loc[row_indexer,col_indexer] = value instead\n",
      "\n",
      "See the caveats in the documentation: https://pandas.pydata.org/pandas-docs/stable/user_guide/indexing.html#returning-a-view-versus-a-copy\n",
      "  self._setitem_single_column(loc, value, pi)\n",
      "/home/amoor/miniconda3/envs/python3NuMIWS/lib/python3.7/site-packages/pandas/core/indexing.py:1719: SettingWithCopyWarning: \n",
      "A value is trying to be set on a copy of a slice from a DataFrame.\n",
      "Try using .loc[row_indexer,col_indexer] = value instead\n",
      "\n",
      "See the caveats in the documentation: https://pandas.pydata.org/pandas-docs/stable/user_guide/indexing.html#returning-a-view-versus-a-copy\n",
      "  self._setitem_single_column(loc, value, pi)\n",
      "/home/amoor/miniconda3/envs/python3NuMIWS/lib/python3.7/site-packages/pandas/core/indexing.py:1719: SettingWithCopyWarning: \n",
      "A value is trying to be set on a copy of a slice from a DataFrame.\n",
      "Try using .loc[row_indexer,col_indexer] = value instead\n",
      "\n",
      "See the caveats in the documentation: https://pandas.pydata.org/pandas-docs/stable/user_guide/indexing.html#returning-a-view-versus-a-copy\n",
      "  self._setitem_single_column(loc, value, pi)\n",
      "/home/amoor/miniconda3/envs/python3NuMIWS/lib/python3.7/site-packages/ipykernel_launcher.py:21: SettingWithCopyWarning: \n",
      "A value is trying to be set on a copy of a slice from a DataFrame.\n",
      "Try using .loc[row_indexer,col_indexer] = value instead\n",
      "\n",
      "See the caveats in the documentation: https://pandas.pydata.org/pandas-docs/stable/user_guide/indexing.html#returning-a-view-versus-a-copy\n"
     ]
    },
    {
     "name": "stdout",
     "output_type": "stream",
     "text": [
      "(126999, 110)\n",
      "(483722, 91)\n",
      "(904362, 63)\n",
      "(610496, 63)\n"
     ]
    }
   ],
   "source": [
    "# NOW, apply the model to real data for data/MC comparisons\n",
    "\n",
    "varlist = [\n",
    "    \"shr_score\", \"shrmoliereavg\", \"trkpid\",\n",
    "    \"n_showers_contained\", \"shr_tkfit_dedx_Y\", \"tksh_distance\",\n",
    "    \"tksh_angle\", \"subcluster\", \"trkshrhitdist2\"]\n",
    "\n",
    "datasetlist = [mc, nue, dirt, ext, data]\n",
    "\n",
    "for df in datasetlist:\n",
    "    for column in varlist:\n",
    "        df.loc[(df[column] < -1.0e37) | (df[column] > 1.0e37), column] = np.nan\n",
    "        \n",
    "    # create testing dmatrix \n",
    "    df_test = xgb.DMatrix(data=df[varlist])\n",
    "    \n",
    "    # apply the bdt selection\n",
    "    preds = bdt_model.predict(df_test)\n",
    "    \n",
    "    # add columns for plotting \n",
    "    df['BDT_score'] = preds\n",
    "    print(df.shape)"
   ]
  },
  {
   "cell_type": "code",
   "execution_count": 28,
   "metadata": {},
   "outputs": [],
   "source": [
    "datasets_bdt = mc"
   ]
  },
  {
   "cell_type": "code",
   "execution_count": 29,
   "metadata": {},
   "outputs": [
    {
     "data": {
      "image/png": "[encoded data removed]",
      "text/plain": [
       "<Figure size 432x288 with 1 Axes>"
      ]
     },
     "metadata": {
      "needs_background": "light"
     },
     "output_type": "display_data"
    }
   ],
   "source": [
    "import matplotlib.pyplot as plt\n",
    "import matplotlib\n",
    "\n",
    "bins = np.arange(0, 1.0, 0.1)\n",
    "gen = plt.hist(datasets_bdt['BDT_score'], bins, color='orange')\n",
    "plt.xlabel(\"BDT Score\")\n",
    "plt.ylabel(\"Counts\")\n",
    "plt.title(\"Exclusive Nue Selection BDT Scores\")\n",
    "plt.show()"
   ]
  },
  {
   "cell_type": "code",
   "execution_count": null,
   "metadata": {},
   "outputs": [],
   "source": [
    "###Need to use the same BDT split value Katerina did\n",
    "#It was BDT score > 0.575"
   ]
  },
  {
   "cell_type": "code",
   "execution_count": 30,
   "metadata": {
    "scrolled": false
   },
   "outputs": [
    {
     "name": "stdout",
     "output_type": "stream",
     "text": [
      "BDT_score > 0.575& BDT_score <= 1 & BDT_score >= 0 \n",
      " ~(abs(nu_pdg) == 12 & ccnc == 0) \n",
      " None \n",
      " False\n",
      "order w sum  3.615624304106091  c  5\n",
      "order w sum  4.843611986956745  c  3\n",
      "order w sum  8.129856740780127  c  4\n",
      "order w sum  21.806738351944173  c  31\n",
      "order w sum  24.95818446173621  c  2\n",
      "order w sum  46.108356604244385  c  21\n",
      "order w sum  23.37608166150855  c  1\n",
      "order w sum  7.425211449737144  c  12\n",
      "order w sum  99.66674652170425  c  11\n",
      "[0.         0.         0.         0.         0.         1.19511905\n",
      " 1.61690297 0.69578435 0.10781794 0.        ]\n",
      "sum:  3.6156243041060914\n",
      "[0.         0.         0.         0.         0.         3.09030713\n",
      " 4.08592716 1.17518407 0.10781794 0.        ]\n",
      "sum:  8.459236291062837\n",
      "[0.         0.         0.         0.         0.         5.62417832\n",
      " 8.61250935 2.24458741 0.10781794 0.        ]\n",
      "sum:  16.589093031842967\n",
      "[ 0.          0.          0.          0.          0.         11.60578268\n",
      " 21.87162383  4.72222714  0.19619773  0.        ]\n",
      "sum:  38.39583138378713\n",
      "[ 0.          0.          0.          0.          0.         18.3282977\n",
      " 36.13766294  8.69185747  0.19619773  0.        ]\n",
      "sum:  63.35401584552335\n",
      "[ 0.          0.          0.          0.          0.         33.14056866\n",
      " 63.18017363 12.94543243  0.19619773  0.        ]\n",
      "sum:  109.46237244976771\n",
      "[ 0.          0.          0.          0.          0.         36.63242867\n",
      " 74.90874371 20.07104544  1.22623629  0.        ]\n",
      "sum:  132.83845411127623\n",
      "[ 0.          0.          0.          0.          0.         37.26311845\n",
      " 78.11179566 23.09142138  1.79733008  0.        ]\n",
      "sum:  140.26366556101337\n",
      "[  0.           0.           0.           0.           0.\n",
      "  44.54891429 114.18351837  66.16044587  15.03753356   0.        ]\n",
      "sum:  239.93041208271717\n",
      "0.0\n",
      "0.1\n",
      "0.2\n",
      "0.3\n",
      "0.4\n",
      "0.5\n",
      "0.6\n",
      "0.7\n",
      "0.8\n",
      "0.9\n",
      "1.0\n",
      "<BarContainer object of 10 artists>\n",
      "<BarContainer object of 10 artists>\n",
      "<BarContainer object of 10 artists>\n",
      "<BarContainer object of 10 artists>\n",
      "<BarContainer object of 10 artists>\n",
      "<BarContainer object of 10 artists>\n",
      "<BarContainer object of 10 artists>\n",
      "<BarContainer object of 10 artists>\n",
      "<BarContainer object of 10 artists>\n",
      "\n",
      "NU NC PI0\n",
      "[0.0, 0.0, 0.0, 0.0, 0.0, 0.0, 0.0, 0.0, 0.0]\n",
      "[0.0, 0.0, 0.0, 0.0, 0.0, 0.0, 0.0, 0.0]\n",
      "\n",
      "OUT OF FID VOL\n",
      "[0.0, 0.0, 0.0, 0.0, 0.0, 0.0, 0.0, 0.0, 0.0]\n",
      "[0.0, 0.0, 0.0, 0.0, 0.0, 0.0, 0.0, 0.0]\n",
      "\n",
      "NU NC\n",
      "[0.0, 0.0, 0.0, 0.0, 0.0, 0.0, 0.0, 0.0, 0.0]\n",
      "[0.0, 0.0, 0.0, 0.0, 0.0, 0.0, 0.0, 0.0]\n",
      "\n",
      "NUMU CC PI0\n",
      "[0.0, 0.0, 0.0, 0.0, 0.0, 0.0, 0.0, 0.0, 0.0]\n",
      "[0.0, 0.0, 0.0, 0.0, 0.0, 0.0, 0.0, 0.0]\n",
      "\n",
      "NUMU CC\n",
      "[0.0, 0.0, 0.0, 0.0, 0.0, 0.0, 0.0, 0.0, 0.0]\n",
      "[0.0, 0.0, 0.0, 0.0, 0.0, 0.0, 0.0, 0.0]\n",
      "\n",
      "FIVE DIFF\n",
      "[1.1951190456176448, 3.090307128864371, 5.624178323086067, 11.605782681814901, 18.328297702485546, 33.14056865989983, 36.63242867290256, 37.263118447099714, 44.54891428791569]\n",
      "[1.895188083246726, 2.533871194221696, 5.981604358728834, 6.722515020670645, 14.812270957414281, 3.4918600130027357, 0.6306897741971511, 7.285795840815979]\n",
      "\n",
      "SIX DIFF\n",
      "[1.6169029716284693, 4.085927155161766, 8.612509354778155, 21.871623826940915, 36.137662936207896, 63.18017362884028, 74.908743705619, 78.11179565548477, 114.18351836728412]\n",
      "[2.4690241835332967, 4.526582199616389, 13.25911447216276, 14.26603910926698, 27.042510692632383, 11.728570076778723, 3.203051949865767, 36.07172271179935]\n",
      "\n",
      "SEVEN DIFF\n",
      "[0.6957843451679766, 1.1751840653447, 2.2445874122867435, 4.722227141969575, 8.691857473768163, 12.945432427965866, 20.07104544254601, 23.09142137569772, 66.16044587165013]\n",
      "[0.4793997201767235, 1.0694033469420434, 2.4776397296828314, 3.969630331798588, 4.253574954197703, 7.125613014580143, 3.020375933151712, 43.069024495952405]\n",
      "\n",
      "EIGHT DIFF\n",
      "[0.10781794169200065, 0.10781794169200065, 0.10781794169200065, 0.19619773306173993, 0.19619773306173993, 0.19619773306173993, 1.2262362902086528, 1.797330082731178, 15.0375335558672]\n",
      "[0.0, 0.0, 0.08837979136973928, 0.0, 0.0, 1.0300385571469128, 0.5710937925225252, 13.24020347313602]\n",
      "\n",
      "NINE DIFF\n",
      "[0.0, 0.0, 0.0, 0.0, 0.0, 0.0, 0.0, 0.0, 0.0]\n",
      "[0.0, 0.0, 0.0, 0.0, 0.0, 0.0, 0.0, 0.0]\n",
      "\n",
      "SUMS\n",
      "[3.6156243041060914, 8.459236291062837, 16.589093031842967, 38.39583138378713, 63.35401584552335, 109.46237244976771, 132.83845411127623, 140.26366556101337, 239.93041208271717]\n",
      "[4.843611986956745, 8.12985674078013, 21.806738351944166, 24.958184461736217, 46.10835660424436, 23.376081661508522, 7.425211449737134, 99.6667465217038]\n",
      "\n",
      "labels  ['Out. fid. vol.: 3.6', '$\\\\nu$ NC: 4.8', 'Cosmic: 8.1', '$\\\\nu$ NC $\\\\pi^{0}$: 21.8', '$\\\\nu_{\\\\mu}$ CC: 25.0', '$\\\\nu_{\\\\mu}$ CC $\\\\pi^{0}$: 46.1', '$\\\\nu_e$ Other: 23.4', '$\\\\bar\\\\nu_e$ CC0$\\\\pi$Np: 7.4', '$\\\\nu_e$ CC0$\\\\pi$Np: 99.7']\n",
      "n_tot  [  0.           0.           0.           0.           0.\n",
      "  44.54891429 114.18351837  66.16044587  15.03753356   0.        ]\n",
      "total array  [0.61465    0.63357216 0.5812562  ... 0.67475474 0.6636875  0.6829413 ]\n"
     ]
    },
    {
     "name": "stderr",
     "output_type": "stream",
     "text": [
      "/home/amoor/NuMI/NuMI_Analysis/PELEE/plotter.py:459: RuntimeWarning: divide by zero encountered in true_divide\n",
      "  ERR_STAT = 3. / ( 1./data + 2./mc )\n",
      "/home/amoor/NuMI/NuMI_Analysis/PELEE/plotter.py:2281: RuntimeWarning: divide by zero encountered in true_divide\n",
      "  ax.errorbar(bincenters, n_data / n_tot,\n"
     ]
    },
    {
     "data": {
      "image/png": "[encoded data removed]",
      "text/plain": [
       "<Figure size 576x504 with 2 Axes>"
      ]
     },
     "metadata": {
      "needs_background": "light"
     },
     "output_type": "display_data"
    }
   ],
   "source": [
    "import matplotlib.pyplot as plt\n",
    "import matplotlib\n",
    "\n",
    "SEL_QUERY = \"BDT_score > 0.575\"\n",
    "\n",
    "VARIABLE, BINS, RANGE, XTIT = 'BDT_score',10,(0.0, 1.0),\"BDT score\"\n",
    "fig, ax1, ax2 = my_plotter.plot_variable(\n",
    "    VARIABLE,   \n",
    "    query= SEL_QUERY ,\n",
    "    #kind=\"interaction\",\n",
    "    kind=\"event_category\",\n",
    "    draw_sys  = False, \n",
    "    draw_geoSys = False, \n",
    "    draw_data = False,           #False as plotting MC\n",
    "    #genieweight = \"totweight_overlay\",\n",
    "    genieweight = \"weightSplineTimesTuneTimesPPFX\", # This is the official weight we calculated before.\n",
    "    stacksort=3,\n",
    "    title=XTIT,\n",
    "    bins=BINS,\n",
    "    range=RANGE\n",
    ")[0:3]\n",
    "\n",
    "ax1.set_title('NuMI Run 1, FHC, Nue - BDT Score',loc='left')\n",
    "ax1.set_yscale(\"log\")\n",
    "fig.tight_layout()"
   ]
  },
  {
   "cell_type": "code",
   "execution_count": 31,
   "metadata": {},
   "outputs": [],
   "source": [
    "#Save the DataFrame to a csv file to check for any crossover in datapoints\n",
    "selected = nue.query(SEL_QUERY)\n",
    "fiduc_q = \"true_nu_vtx_z < 1036.8 and true_nu_vtx_z > 0 and true_nu_vtx_y < 116.5 and true_nu_vtx_y > -116.5 and true_nu_vtx_x < \\\n",
    " 254.8 and true_nu_vtx_x > -1.55 and (abs(nu_pdg) == 12 and ccnc == 0) and nproton > 0\"\n",
    "selected_fid = selected.query(fiduc_q)\n",
    "#selected_fid.to_csv('nue_full_mc.csv')"
   ]
  },
  {
   "cell_type": "code",
   "execution_count": 32,
   "metadata": {
    "scrolled": false
   },
   "outputs": [
    {
     "name": "stdout",
     "output_type": "stream",
     "text": [
      "BDT_score > 0.575& reco_e <= 5 & reco_e >= 0 \n",
      " ~(abs(nu_pdg) == 12 & ccnc == 0) \n",
      " None \n",
      " False\n",
      "order w sum  3.615624304106091  c  5\n",
      "order w sum  4.843611986956745  c  3\n",
      "order w sum  8.129856740780127  c  4\n",
      "order w sum  21.806738351944173  c  31\n",
      "order w sum  24.95818446173621  c  2\n",
      "order w sum  46.108356604244385  c  21\n",
      "order w sum  23.344544773736892  c  1\n",
      "order w sum  7.402086826382965  c  12\n",
      "order w sum  99.5428391477295  c  11\n",
      "[1.329 1.93  0.186 0.129 0.018 0.025 0.    0.    0.    0.   ]\n",
      "sum:  3.615624304106091\n",
      "[3.073 4.223 0.703 0.306 0.129 0.025 0.    0.    0.    0.   ]\n",
      "sum:  8.459236291062837\n",
      "[5.58  7.498 2.119 0.607 0.486 0.179 0.    0.045 0.075 0.   ]\n",
      "sum:  16.589093031842964\n",
      "[12.162 19.658  3.895  1.415  0.692  0.225  0.161  0.045  0.143  0.   ]\n",
      "sum:  38.39583138378713\n",
      "[26.415 27.785  5.856  1.959  0.766  0.225  0.161  0.045  0.143  0.   ]\n",
      "sum:  63.35401584552333\n",
      "[4.169e+01 4.998e+01 1.153e+01 4.102e+00 1.253e+00 4.736e-01 1.605e-01\n",
      " 4.477e-02 2.279e-01 0.000e+00]\n",
      "sum:  109.46237244976773\n",
      "[4.392e+01 5.964e+01 1.755e+01 7.073e+00 2.606e+00 1.030e+00 4.312e-01\n",
      " 1.905e-01 3.219e-01 4.090e-02]\n",
      "sum:  132.80691722350463\n",
      "[4.470e+01 6.244e+01 1.935e+01 8.108e+00 3.203e+00 1.230e+00 5.070e-01\n",
      " 2.557e-01 3.541e-01 5.368e-02]\n",
      "sum:  140.2090040498876\n",
      "[6.347e+01 1.126e+02 3.901e+01 1.445e+01 5.876e+00 2.355e+00 9.251e-01\n",
      " 5.294e-01 4.438e-01 1.120e-01]\n",
      "sum:  239.75184319761718\n",
      "0.0\n",
      "0.5\n",
      "1.0\n",
      "1.5\n",
      "2.0\n",
      "2.5\n",
      "3.0\n",
      "3.5\n",
      "4.0\n",
      "4.5\n",
      "5.0\n",
      "<BarContainer object of 10 artists>\n",
      "<BarContainer object of 10 artists>\n",
      "<BarContainer object of 10 artists>\n",
      "<BarContainer object of 10 artists>\n",
      "<BarContainer object of 10 artists>\n",
      "<BarContainer object of 10 artists>\n",
      "<BarContainer object of 10 artists>\n",
      "<BarContainer object of 10 artists>\n",
      "<BarContainer object of 10 artists>\n",
      "\n",
      "NU NC PI0\n",
      "[1.3288569070929772, 3.072524091529125, 5.579552216312917, 12.162114286138616, 26.414540250232648, 41.69492197871412, 43.924491867265886, 44.70442882296816, 63.46911170491793]\n",
      "[1.743667184436148, 2.5070281247837922, 6.582562069825698, 14.252425964094032, 15.280381728481473, 2.229569888551765, 0.7799369557022757, 18.764682881949767]\n",
      "\n",
      "OUT OF FID VOL\n",
      "[1.9300919812633053, 4.223449201225961, 7.498333655090972, 19.657697592206063, 27.784534978996522, 49.97828046081305, 59.636686954449814, 62.44454837398601, 112.57992447096623]\n",
      "[2.2933572199626555, 3.2748844538650115, 12.15936393711509, 8.12683738679046, 22.19374548181653, 9.658406493636761, 2.807861419536195, 50.135376096980224]\n",
      "\n",
      "NU NC\n",
      "[0.1855674063764714, 0.7034713974887885, 2.119054947215496, 3.8954777681172748, 5.856467402680579, 11.527655989746464, 17.55176933773462, 19.347940901963252, 39.012891607049596]\n",
      "[0.5179039911123171, 1.4155835497267075, 1.7764228209017787, 1.9609896345633042, 5.671188587065885, 6.0241133479881555, 1.7961715642286329, 19.664950705086344]\n",
      "\n",
      "NUMU CC PI0\n",
      "[0.12851977919877156, 0.30610346786090536, 0.6071546530365297, 1.4148377424962626, 1.959346399405098, 4.101801481116388, 7.073157665206084, 8.108495095494813, 14.447827439867634]\n",
      "[0.1775836886621338, 0.30105118517562435, 0.8076830894597329, 0.5445086569088353, 2.1424550817112897, 2.9713561840896965, 1.0353374302887293, 6.339332344372821]\n",
      "\n",
      "NUMU CC\n",
      "[0.017899437371869276, 0.12899934015536108, 0.485855005548097, 0.6923650182162264, 0.7657878375957887, 1.2529063250875092, 2.6058323516635022, 3.203256555359772, 5.8763088705746895]\n",
      "[0.1110999027834918, 0.35685566539273594, 0.2065100126681294, 0.0734228193795623, 0.4871184874917205, 1.352926026575993, 0.5974242036962698, 2.6730523152149175]\n",
      "\n",
      "FIVE DIFF\n",
      "[0.024688792802696202, 0.024688792802696202, 0.17898469073264112, 0.2249660165518539, 0.2249660165518539, 0.4735752572702414, 1.0304648479227692, 1.2298769264349088, 2.355419525244383]\n",
      "[0.0, 0.15429589792994491, 0.04598132581921277, 0.0, 0.24860924071838753, 0.5568895906525277, 0.1994120785121396, 1.1255425988094743]\n",
      "\n",
      "SIX DIFF\n",
      "[0.0, 0.0, 0.0, 0.1605319164159802, 0.1605319164159802, 0.1605319164159802, 0.43124017543235027, 0.5069806404510127, 0.9251469548009874]\n",
      "[0.0, 0.0, 0.1605319164159802, 0.0, 0.0, 0.2707082590163701, 0.07574046501866238, 0.41816631434997475]\n",
      "\n",
      "SEVEN DIFF\n",
      "[0.0, 0.0, 0.044767085134431284, 0.044767085134431284, 0.044767085134431284, 0.044767085134431284, 0.19045609963199084, 0.2557089389685627, 0.5293832018258042]\n",
      "[0.0, 0.044767085134431284, 0.0, 0.0, 0.0, 0.14568901449755955, 0.06525283933657189, 0.2736742628572415]\n",
      "\n",
      "EIGHT DIFF\n",
      "[0.0, 0.0, 0.07539077877188127, 0.14307395851042948, 0.14307395851042948, 0.22793195546953804, 0.32192011140106125, 0.35408380652713145, 0.44382827705317407]\n",
      "[0.0, 0.07539077877188127, 0.0676831797385482, 0.0, 0.08485799695910856, 0.09398815593152321, 0.0321636951260702, 0.08974447052604262]\n",
      "\n",
      "NINE DIFF\n",
      "[0.0, 0.0, 0.0, 0.0, 0.0, 0.0, 0.04089781279652982, 0.05368398773394567, 0.11200114531675176]\n",
      "[0.0, 0.0, 0.0, 0.0, 0.0, 0.04089781279652982, 0.01278617493741585, 0.05831715758280609]\n",
      "\n",
      "SUMS\n",
      "[3.615624304106091, 8.459236291062837, 16.589093031842964, 38.39583138378713, 63.35401584552333, 109.46237244976773, 132.80691722350463, 140.2090040498876, 239.75184319761718]\n",
      "[4.843611986956746, 8.129856740780127, 21.80673835194417, 24.958184461736195, 46.1083566042444, 23.3445447737369, 7.40208682638297, 99.54283914772958]\n",
      "\n",
      "labels  ['Out. fid. vol.: 3.6', '$\\\\nu$ NC: 4.8', 'Cosmic: 8.1', '$\\\\nu$ NC $\\\\pi^{0}$: 21.8', '$\\\\nu_{\\\\mu}$ CC: 25.0', '$\\\\nu_{\\\\mu}$ CC $\\\\pi^{0}$: 46.1', '$\\\\nu_e$ Other: 23.3', '$\\\\bar\\\\nu_e$ CC0$\\\\pi$Np: 7.4', '$\\\\nu_e$ CC0$\\\\pi$Np: 99.5']\n",
      "n_tot  [6.347e+01 1.126e+02 3.901e+01 1.445e+01 5.876e+00 2.355e+00 9.251e-01\n",
      " 5.294e-01 4.438e-01 1.120e-01]\n",
      "total array  [0.536 0.33  0.968 ... 0.343 0.562 2.826]\n",
      "IN COVMATRIX_XS_PPFX\n",
      "Universes 500\n",
      "Universes 500\n",
      "Universes 500\n",
      "Add Drawing Geo Sys\n",
      "Number of variations Universes 10\n",
      "draw Sys\n"
     ]
    },
    {
     "name": "stderr",
     "output_type": "stream",
     "text": [
      "/home/amoor/NuMI/NuMI_Analysis/PELEE/plotter.py:459: RuntimeWarning: divide by zero encountered in true_divide\n",
      "  ERR_STAT = 3. / ( 1./data + 2./mc )\n",
      "/home/amoor/NuMI/NuMI_Analysis/PELEE/plotter.py:267: RuntimeWarning: divide by zero encountered in true_divide\n",
      "  return (data-mc)**2 / data\n"
     ]
    },
    {
     "data": {
      "image/png": "[encoded data removed]",
      "text/plain": [
       "<Figure size 576x504 with 2 Axes>"
      ]
     },
     "metadata": {
      "needs_background": "light"
     },
     "output_type": "display_data"
    }
   ],
   "source": [
    "#Now check on a variable\n",
    "\n",
    "\n",
    "import matplotlib.pyplot as plt\n",
    "import matplotlib\n",
    "\n",
    "VARIABLE, BINS, RANGE, XTIT = 'reco_e',10,(0.0, 5.0),\"Reconstructed Energy [GeV]\"\n",
    "\n",
    "fig, ax1, ax2 = my_plotter.plot_variable(\n",
    "    VARIABLE,   \n",
    "    query= SEL_QUERY ,\n",
    "    #kind=\"interaction\",\n",
    "    kind=\"event_category\",\n",
    "    draw_sys  = True, \n",
    "    draw_geoSys = True, \n",
    "    draw_data = False,           #False as plotting MC\n",
    "    genieweight = \"weightSplineTimesTuneTimesPPFX\",  \n",
    "    stacksort=3,\n",
    "    title=XTIT,\n",
    "    bins=BINS,\n",
    "    range=RANGE\n",
    ")[0:3]\n",
    "\n",
    "ax1.set_title('NuMI Run 1, FHC, Nue - Reconstructed Energies',loc='left')\n",
    "#ax1.set_yscale(\"log\")\n",
    "fig.tight_layout()"
   ]
  },
  {
   "cell_type": "code",
   "execution_count": 31,
   "metadata": {},
   "outputs": [
    {
     "data": {
      "image/png": "[encoded data removed]",
      "text/plain": [
       "<Figure size 432x288 with 1 Axes>"
      ]
     },
     "metadata": {
      "needs_background": "light"
     },
     "output_type": "display_data"
    }
   ],
   "source": [
    "#Background numbers plot\n",
    "\n",
    "bkg_nums = [54.235, 61.865, 19.335, 3.661, 8.327, 0, 0.582, 1.726, 0, 0]\n",
    "\n",
    "import matplotlib.pyplot as plt\n",
    "import matplotlib\n",
    "\n",
    "bins = np.arange(0, 5, 0.5)\n",
    "names = ['0', '0.5', '1', '1.5', '2', '2.5', '3', '3.5', '4', '4.5']\n",
    "#gen = plt.hist(bkg_nums, bins, color='orange')\n",
    "plt.bar(names, bkg_nums, color='orange')\n",
    "plt.xlabel(\"Reconstructed Energy (GeV)\")\n",
    "plt.ylabel(\"Counts\")\n",
    "plt.title(\"Reconstructed Energy Backgrounds\")\n",
    "plt.show()"
   ]
  },
  {
   "cell_type": "code",
   "execution_count": 33,
   "metadata": {},
   "outputs": [],
   "source": [
    "# from Katerina  - modified, to be able to plot truth mc with nue eff selections\n",
    "# plot efficiency overlaid on selected signal events \n",
    "def plot_signal_and_eff(selected, df, signal, bins, truth): \n",
    "    \n",
    "    # generated true signal events per bin \n",
    "    gen = plt.hist(df.query(signal)['nu_e'], bins, color='deepskyblue')\n",
    "    plt.close()\n",
    "    print(\"Full numbers = \", gen[0])\n",
    "    \n",
    "    # plot selected signal events \n",
    "    fig, ax1 = plt.subplots(figsize=(4, 5))\n",
    "    \n",
    "    sel = ax1.hist(truth['nu_e'], bins, color='deepskyblue')\n",
    "    ax1.set_ylabel('Selected Signal Events', fontsize=15)\n",
    "    ax1.set_xlabel('True Nue Energy [GeV]', fontsize=15)\n",
    "\n",
    "    # compute efficiency\n",
    "    #sel2=selected['nu_e']\n",
    "    sel = ax1.hist(selected['nu_e'], bins, color='white')\n",
    "    print(\"Selected numbers = \", sel[0])\n",
    "    eff = [ a/b for a, b in zip(sel[0], gen[0]) ]\n",
    "    eff_err = []\n",
    "    for i in range(len(eff)):\n",
    "        eff_err.append(math.sqrt( (eff[i]*(1-eff[i]))/gen[0][i] ) )\n",
    "        print(\"In bin\", i, \", eff = \", eff[i], \" with error = \", eff_err[i])\n",
    "        \n",
    "    # compute bin centers \n",
    "    bc = 0.5*(sel[1][1:]+sel[1][:-1])\n",
    "    x_err = []\n",
    "    for i in range(len(sel[1])-1): \n",
    "        x_err.append((sel[1][i+1]-sel[1][i])/2)\n",
    "\n",
    "    # plot efficiency\n",
    "    sel = ax1.hist(truth['nu_e'], bins, color='deepskyblue')\n",
    "    ax1.set_ylim(0, 3500)\n",
    "    ax2 = ax1.twinx()\n",
    "    ax2.errorbar(bc, eff, xerr=x_err, yerr=eff_err, fmt='o', color='orangered', ecolor='orangered', markersize=3) \n",
    "    ax2.set_ylim(0, 1.00)\n",
    "    ax2.set_ylabel('Efficiency', fontsize=15)\n",
    "    ax2.set_title(\"True Nue Energy and Efficiency\")\n",
    "    plt.text(0, 0.95, r'MicroBooNE Preliminary', fontweight='bold')\n",
    "\n",
    "    plt.show()"
   ]
  },
  {
   "cell_type": "code",
   "execution_count": 34,
   "metadata": {},
   "outputs": [
    {
     "name": "stdout",
     "output_type": "stream",
     "text": [
      "Full numbers =  [ 536. 2893. 2706. 1335.  740.  395.  254.  130.   82.   50.]\n",
      "Selected numbers =  [ 52. 484. 429. 153.  86.  50.  22.   9.   8.   2.]\n",
      "In bin 0 , eff =  0.09701492537313433  with error =  0.012784306321107221\n",
      "In bin 1 , eff =  0.16730038022813687  with error =  0.0069393442125408105\n",
      "In bin 2 , eff =  0.15853658536585366  with error =  0.0070213152524123265\n",
      "In bin 3 , eff =  0.1146067415730337  with error =  0.008718314974769211\n",
      "In bin 4 , eff =  0.11621621621621622  with error =  0.01178122689571765\n",
      "In bin 5 , eff =  0.12658227848101267  with error =  0.016730114230512443\n",
      "In bin 6 , eff =  0.08661417322834646  with error =  0.01764837640859673\n",
      "In bin 7 , eff =  0.06923076923076923  with error =  0.022263780490101512\n",
      "In bin 8 , eff =  0.0975609756097561  with error =  0.032767256047401334\n",
      "In bin 9 , eff =  0.04  with error =  0.027712812921102035\n"
     ]
    },
    {
     "data": {
      "image/png": "[encoded data removed]",
      "text/plain": [
       "<Figure size 288x360 with 2 Axes>"
      ]
     },
     "metadata": {
      "needs_background": "light"
     },
     "output_type": "display_data"
    }
   ],
   "source": [
    "SEL_QUERY = \"BDT_score > 0.575\"\n",
    "#selected = nue.query(SEL_QUERY)\n",
    "\n",
    "\n",
    "fiduc_q = \"true_nu_vtx_z < 1036.8 and true_nu_vtx_z > 0 and true_nu_vtx_y < 116.5 and true_nu_vtx_y > -116.5 and true_nu_vtx_x < \\\n",
    " 254.8 and true_nu_vtx_x > -1.55 and (abs(nu_pdg) == 12 and ccnc == 0) and nproton > 0\"\n",
    "\n",
    "\n",
    "#bins = [0.25, 0.5, 1.0, 1.25, 1.5, 1.75, 2.0, 2.05, 2.25, 2.45, 2.65, 2.85, 3.05]\n",
    "bins = np.arange(0, 5.5, 0.5)\n",
    "#plot_signal_and_eff(selected, nue, fiduc_q, bins, mc.query(fiduc_q))\n",
    "\n",
    "selected = mc.query(SEL_QUERY)\n",
    "selected_fid = selected.query(fiduc_q)\n",
    "\n",
    "plot_signal_and_eff(selected_fid, mc, fiduc_q, bins, mc.query(fiduc_q))"
   ]
  },
  {
   "cell_type": "markdown",
   "metadata": {},
   "source": [
    "### Smearing Matrix work"
   ]
  },
  {
   "cell_type": "code",
   "execution_count": 35,
   "metadata": {},
   "outputs": [],
   "source": [
    "# plot the smearing matrix \n",
    "def plot_smearing(selected, signal, true, reco, bins, norm=False): \n",
    "    fig = plt.figure(figsize=(10, 6))\n",
    "    \n",
    "    smear = plt.hist2d(selected.query(signal)[true],selected.query(signal)[reco],\n",
    "                   bins, cmin=0.000000001, cmap='OrRd')\n",
    "\n",
    "    for i in range(len(bins)-1): # reco bins i (y axis) rows\n",
    "        for j in range(len(bins)-1): # true bins j (x axis) cols\n",
    "            if smear[0].T[i,j] > 0: \n",
    "                if smear[0].T[i,j]>80: \n",
    "                    col='white'\n",
    "                else: \n",
    "                    col='black'\n",
    "                    \n",
    "                binx_centers = smear[1][j]+(smear[1][j+1]-smear[1][j])/2\n",
    "                biny_centers = smear[2][i]+(smear[2][i+1]-smear[2][i])/2\n",
    "                        \n",
    "                plt.text(binx_centers, biny_centers, round(smear[0].T[i,j], 1), \n",
    "                    color=col, ha=\"center\", va=\"center\", fontsize=12)\n",
    "\n",
    "    cbar = plt.colorbar()\n",
    "    cbar.set_label('Selected Signal Events', fontsize=15)\n",
    "\n",
    "    if norm: \n",
    "        plt.close()\n",
    "        \n",
    "        norm_array = smear[0].T\n",
    "    \n",
    "        # for each truth bin (column): \n",
    "        for j in range(len(bins)-1): \n",
    "        \n",
    "            reco_events_in_column = [ norm_array[i][j] for i in range(len(bins)-1) ]\n",
    "            tot_reco_events = np.nansum(reco_events_in_column)\n",
    "        \n",
    "            # replace with normalized value \n",
    "            for i in range(len(bins)-1): \n",
    "                norm_array[i][j] =  norm_array[i][j] / tot_reco_events\n",
    "    \n",
    "        # now plot\n",
    "        fig = plt.figure(figsize=(10, 6))\n",
    "        plt.pcolor(bins, bins, norm_array, cmap='OrRd', vmax=1)\n",
    "    \n",
    "        # Loop over data dimensions and create text annotations.\n",
    "        for i in range(len(bins)-1): # reco bins (rows)\n",
    "            for j in range(len(bins)-1): # truth bins (cols)\n",
    "                if norm_array[i][j]>0: \n",
    "                \n",
    "                    if norm_array[i][j]>0.7: \n",
    "                        col = 'white'\n",
    "                    else: \n",
    "                        col = 'black'\n",
    "                    \n",
    "                    binx_centers = smear[1][j]+(smear[1][j+1]-smear[1][j])/2\n",
    "                    biny_centers = smear[2][i]+(smear[2][i+1]-smear[2][i])/2\n",
    "                \n",
    "                    plt.text(binx_centers, biny_centers, round(norm_array[i][j], 2), \n",
    "                         ha=\"center\", va=\"center\", color=col, fontsize=12)\n",
    "      \n",
    "        cbar = plt.colorbar()\n",
    "        cbar.set_label('Fraction of Reco Events in True Bin', fontsize=15)\n",
    "\n",
    "    plt.xlabel('True Nu Energy [GeV]', fontsize=15)\n",
    "    plt.ylabel('Reco Nu Energy [GeV]', fontsize=15)\n",
    "    plt.text(0.1, 4.8, r'MicroBooNE Preliminary', fontweight='bold')\n",
    "    \n",
    "    plt.show()"
   ]
  },
  {
   "cell_type": "code",
   "execution_count": 36,
   "metadata": {},
   "outputs": [
    {
     "data": {
      "image/png": "[encoded data removed]",
      "text/plain": [
       "<Figure size 720x432 with 2 Axes>"
      ]
     },
     "metadata": {
      "needs_background": "light"
     },
     "output_type": "display_data"
    }
   ],
   "source": [
    "# true nu energy \n",
    "true_var = 'nu_e'\n",
    "\n",
    "# reconstructed nu energy \n",
    "reco_var = 'reco_e'\n",
    "\n",
    "bins = np.arange(0, 5.5, 0.5)\n",
    "\n",
    "# relationship between true & reco values\n",
    "plot_smearing(selected_fid, fiduc_q, true_var, reco_var, bins)"
   ]
  },
  {
   "cell_type": "code",
   "execution_count": 37,
   "metadata": {},
   "outputs": [
    {
     "data": {
      "image/png": "[encoded data removed]",
      "text/plain": [
       "<Figure size 720x432 with 2 Axes>"
      ]
     },
     "metadata": {
      "needs_background": "light"
     },
     "output_type": "display_data"
    }
   ],
   "source": [
    "# relationship between true & reco values\n",
    "plot_smearing(selected_fid, fiduc_q, true_var, reco_var, bins, norm=True)"
   ]
  },
  {
   "cell_type": "code",
   "execution_count": 38,
   "metadata": {},
   "outputs": [],
   "source": [
    "# Calculate true numbers\n",
    "#bkg_nums = [54.235, 61.865, 19.335, 3.661, 8.327, 0, 0.582, 1.726, 0, 0]\n",
    "#n_data = [73, 112, 39, 10, 11, 0, 1, 2, 0, 0]\n",
    "n_selected = [18.765, 50.135, 19.665, 6.339, 2.673, 1.126, 0.418, 0.274, 0.08907, 0.0583]\n",
    "\n",
    "true0 = (n_selected[0]*0.98) + (n_selected[1]*0.02)\n",
    "true05 = (n_selected[0]*0.27) + (n_selected[1]*0.71) + (n_selected[2]*0.02)\n",
    "true1 = (n_selected[0]*0.07) + (n_selected[1]*0.56) + (n_selected[2]*0.36) + (n_selected[3]*0.01)\n",
    "true15 = (n_selected[0]*0.02) + (n_selected[1]*0.2) + (n_selected[2]*0.47) + (n_selected[3]*0.29) + (n_selected[4]*0.02)\n",
    "true2 = (n_selected[0]*0.01) + (n_selected[1]*0.13) + (n_selected[2]*0.24) + (n_selected[3]*0.37) + (n_selected[4]*0.24)\n",
    "true25 = (n_selected[1]*0.06) + (n_selected[2]*0.12) + (n_selected[3]*0.22) + (n_selected[4]*0.38) + (n_selected[5]*0.18) + (n_selected[6]*0.04)\n",
    "true3 = (n_selected[1]*0.09) + (n_selected[2]*0.05) + (n_selected[3]*0.05) + (n_selected[4]*0.32) + (n_selected[5]*0.32) + (n_selected[6]*0.09) + (n_selected[7]*0.09)\n",
    "true35 = (n_selected[3]*0.11) + (n_selected[4]*0.33) + (n_selected[5]*0.22) + (n_selected[6]*0.33)\n",
    "true4 = (n_selected[2]*0.12) + (n_selected[3]*0.12) + (n_selected[4]*0.12) + (n_selected[5]*0.12) + (n_selected[6]*0.5)\n",
    "true45 = (n_selected[6]*0.5) + (n_selected[9]*0.5)"
   ]
  },
  {
   "cell_type": "code",
   "execution_count": 39,
   "metadata": {},
   "outputs": [
    {
     "name": "stdout",
     "output_type": "stream",
     "text": [
      "Numbers of Ratio, nue:  [199.8908923076923, 245.40111590909092, 230.4322369230769, 187.9175666666667, 124.00808139534882, 63.181198, 81.86085181818181, 28.383911111111107, 38.79994, 5.95375]\n",
      "Ratio number, nue:  1205.8295441311686\n"
     ]
    }
   ],
   "source": [
    "#multiply by efficiency and sum\n",
    "\n",
    "eff = [0.09701492537313433, 0.16730038022813687, 0.15853658536585366, 0.1146067415730337, 0.11621621621621622, 0.12658227848101267, 0.08661417322834646, 0.06923076923076923, 0.0975609756097561, 0.04]\n",
    "truths = [true0, true05, true1, true15, true2, true25, true3, true35, true4, true45]\n",
    "ratio_nums = []\n",
    "\n",
    "for i in range(len(truths)):\n",
    "    num = truths[i]*(1/eff[i])\n",
    "    ratio_nums.append(num)\n",
    "    \n",
    "print(\"Numbers of Ratio, nue: \", ratio_nums)\n",
    "print(\"Ratio number, nue: \", sum(ratio_nums))\n"
   ]
  },
  {
   "cell_type": "markdown",
   "metadata": {},
   "source": [
    "### Ratio Calculation"
   ]
  },
  {
   "cell_type": "code",
   "execution_count": 43,
   "metadata": {},
   "outputs": [
    {
     "name": "stdout",
     "output_type": "stream",
     "text": [
      "[0.18943664367064422, 0.22275933487506627, 0.25931459659901207, 0.27145557801670567, 0.24747569402925496, 0.2444173751971049, 0.21925017560821927, 0.3473526083186562, 0.41063759221785096, 0.23375382515513637]\n"
     ]
    }
   ],
   "source": [
    "numu_ratio_nums = [199.8908923076923, 245.40111590909092, 230.4322369230769, 187.9175666666667, 124.00808139534882, 63.181198, 81.86085181818181, 28.383911111111107, 38.79994, 5.95375]\n",
    "nue_ratio_nums = [169.65557084690553, 236.25330795610427, 219.64615869792848, 154.48206614192907, 112.50032740259738, 87.20084442516269, 59.47250931034483, 94.09295064390247, 93.96329558309857, 50.10685366666666]\n",
    "bin_ratios = []\n",
    "\n",
    "for i in range(len(numu_ratio_nums)):\n",
    "    ratio = nue_ratio_nums[i]/numu_ratio_nums[i]\n",
    "    bin_ratios.append(ratio)\n",
    "    \n",
    "print(bin_ratios)"
   ]
  },
  {
   "cell_type": "code",
   "execution_count": 58,
   "metadata": {},
   "outputs": [
    {
     "data": {
      "image/png": "[encoded data removed]",
      "text/plain": [
       "<Figure size 432x288 with 1 Axes>"
      ]
     },
     "metadata": {
      "needs_background": "light"
     },
     "output_type": "display_data"
    }
   ],
   "source": [
    "bins = np.arange(0, 5.5, 0.5)\n",
    "names = ['0', '0.5', '1', '1.5', '2', '2.5', '3', '3.5', '4', '4.5']\n",
    "#gen = plt.hist(bkg_nums, bins, color='orange')\n",
    "plt.bar(names, bin_ratios, color='deepskyblue')\n",
    "plt.xlabel(\"Neutrino Energy (GeV)\")\n",
    "plt.ylabel(\"Ratio Value\")\n",
    "plt.title(\"Nue/Numu Ratios\")\n",
    "plt.show()"
   ]
  },
  {
   "cell_type": "code",
   "execution_count": 68,
   "metadata": {},
   "outputs": [
    {
     "data": {
      "image/png": "[encoded data removed]",
      "text/plain": [
       "<Figure size 360x360 with 1 Axes>"
      ]
     },
     "metadata": {
      "needs_background": "light"
     },
     "output_type": "display_data"
    }
   ],
   "source": [
    "    count = [0.1, 0.6, 1.1, 1.6, 2.1, 2.6, 3.1, 3.6, 4.1, 4.6]\n",
    "    \n",
    "    weights = [0.1*0.18943664367064422, 0.6*0.22275933487506627, 1.1*0.25931459659901207, 1.6*0.27145557801670567, 2.1*0.24747569402925496, 2.6*0.2444173751971049, 3.1*0.21925017560821927, 3.6*0.3473526083186562, 4.1*0.41063759221785096, 4.6*0.23375382515513637]\n",
    "    \n",
    "    \n",
    "    # plot selected signal events \n",
    "    fig, ax1 = plt.subplots(figsize=(5, 5))\n",
    "    \n",
    "    sel = ax1.hist(count, bins, color='deepskyblue', weights=bin_ratios)\n",
    "    ax1.set_ylabel('Selected Signal Events', fontsize=15)\n",
    "    ax1.set_xlabel('True Nue Energy [GeV]', fontsize=15)\n",
    "    #ax1.set_ylim(0, 3500)\n",
    "    ax1.set_title(\"True Nue Energy and Efficiency\")\n",
    "    \n",
    "    plt.text(0, 0.35, r'MicroBooNE Preliminary')\n",
    "    plt.show()"
   ]
  },
  {
   "cell_type": "code",
   "execution_count": null,
   "metadata": {},
   "outputs": [],
   "source": []
  }
 ],
 "metadata": {
  "accelerator": "GPU",
  "colab": {
   "name": "Plotter.ipynb",
   "provenance": [],
   "version": "0.3.2"
  },
  "kernelspec": {
   "display_name": "Python 3",
   "language": "python",
   "name": "python3"
  },
  "language_info": {
   "codemirror_mode": {
    "name": "ipython",
    "version": 3
   },
   "file_extension": ".py",
   "mimetype": "text/x-python",
   "name": "python",
   "nbconvert_exporter": "python",
   "pygments_lexer": "ipython3",
   "version": "3.7.9"
  }
 },
 "nbformat": 4,
 "nbformat_minor": 2
}
