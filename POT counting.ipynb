{
 "cells": [
  {
   "cell_type": "code",
   "execution_count": null,
   "metadata": {},
   "outputs": [],
   "source": [
    "import uproot\n",
    "\n",
    "folder = \"nuselection\"\n",
    "tree = \"SubRun\""
   ]
  },
  {
   "cell_type": "code",
   "execution_count": null,
   "metadata": {},
   "outputs": [],
   "source": [
    "PATH = '/home/david/data/searchingfornues/v08_00_00_25/cc0pinp/1013/'"
   ]
  },
  {
   "cell_type": "code",
   "execution_count": null,
   "metadata": {},
   "outputs": [],
   "source": [
    "ext = PATH+'data_extbnb_mcc9.1_v08_00_00_16_18_run3_G_reco2.root'\n",
    "bnb = PATH+'data_bnb_optfilter_G1_1e19_mcc9.1_reco2.root'"
   ]
  },
  {
   "cell_type": "markdown",
   "metadata": {},
   "source": [
    "# EXT data POT run/subrun text file"
   ]
  },
  {
   "cell_type": "code",
   "execution_count": null,
   "metadata": {},
   "outputs": [],
   "source": [
    "ext_tree = uproot.open(ext)[folder][tree]\n",
    "df_ext = ext_tree.pandas.df([\"run\", \"subRun\"])#.query(\"run >= 5100 & run <= 5900\")\n",
    "df_ext.to_csv(PATH+'run_subrun_ext.txt', header=None, index=None, sep=' ')"
   ]
  },
  {
   "cell_type": "markdown",
   "metadata": {},
   "source": [
    "# BNB data POT run/subrun text file"
   ]
  },
  {
   "cell_type": "code",
   "execution_count": null,
   "metadata": {},
   "outputs": [],
   "source": [
    "bnb_tree = uproot.open(bnb)[folder][tree]\n",
    "df_bnb = bnb_tree.pandas.df([\"run\", \"subRun\"])#.query(\"run >= 5100 & run <= 5900\")\n",
    "df_bnb.to_csv(PATH+'run_subrun_bnb.txt', header=None, index=None, sep=' ')"
   ]
  },
  {
   "cell_type": "markdown",
   "metadata": {},
   "source": [
    "Now, to obtain EXT scaling factor you can use this bash script:\n",
    "```bash\n",
    "EXT=$(python /uboone/app/users/zarko/getDataInfo.py --run-subrun-list run_subrun_ext.txt -v 2 -f EXT | sed -n 3p)\n",
    "BNB=$(python /uboone/app/users/zarko/getDataInfo.py --run-subrun-list run_subrun_bnb.txt -v 2 -f E1DCNT_wcut | sed -n 3p)\n",
    "echo \"scale=5 ; $BNB / $EXT\" | bc\n",
    "```\n",
    "$ 4.497\\times10^{19}$\n",
    "8.057e+18\n",
    "4.118e+19"
   ]
  },
  {
   "cell_type": "markdown",
   "metadata": {},
   "source": [
    "# BNB overlay sample"
   ]
  },
  {
   "cell_type": "code",
   "execution_count": null,
   "metadata": {},
   "outputs": [],
   "source": [
    "filename = PATH+\"prodgenie_bnb_nu_uboone_overlay_mcc9.1_run3_G_reco2.root\"\n",
    "mc_tree = uproot.open(filename)[folder][tree]\n",
    "df_mc = mc_tree.pandas.df([\"run\", \"subRun\", \"pot\"])\n",
    "print(\"BNB overlay POT %g\" % sum(df_mc[\"pot\"]))"
   ]
  },
  {
   "cell_type": "markdown",
   "metadata": {},
   "source": [
    "# $\\nu_e$ overlay sample"
   ]
  },
  {
   "cell_type": "code",
   "execution_count": null,
   "metadata": {},
   "outputs": [],
   "source": [
    "filename = \"root_files/v17/nue.root\"\n",
    "nue_tree = uproot.open(filename)[folder][tree]\n",
    "df_nue = nue_tree.pandas.df([\"run\", \"subRun\", \"pot\"])\n",
    "print(\"nu_e overlay POT %g\" % sum(df_nue[\"pot\"]))"
   ]
  },
  {
   "cell_type": "markdown",
   "metadata": {},
   "source": [
    "# Dirt sample"
   ]
  },
  {
   "cell_type": "code",
   "execution_count": null,
   "metadata": {},
   "outputs": [],
   "source": [
    "filename = PATH+\"prodgenie_bnb_dirt_overlay_run3_mcc9.1_v08_00_00_18_G_reco2.root\"\n",
    "nue_tree = uproot.open(filename)[folder][tree]\n",
    "df_nue = nue_tree.pandas.df([\"run\", \"subRun\", \"pot\"]).query(\"run >= 5100 & run <= 5900\")\n",
    "print(\"Dirt POT %g\" % sum(df_nue[\"pot\"]))"
   ]
  },
  {
   "cell_type": "markdown",
   "metadata": {},
   "source": [
    "# NC $\\pi^0$ sample"
   ]
  },
  {
   "cell_type": "code",
   "execution_count": null,
   "metadata": {},
   "outputs": [],
   "source": [
    "#filename = \"root_files/v17/nc.root\"\n",
    "#nue_tree = uproot.open(filename)[folder][tree]\n",
    "#df_nue = nue_tree.pandas.df([\"run\", \"subRun\", \"pot\"])\n",
    "#print(\"NCpi0 POT %g\" % sum(df_nue[\"pot\"]))"
   ]
  },
  {
   "cell_type": "code",
   "execution_count": null,
   "metadata": {},
   "outputs": [],
   "source": []
  }
 ],
 "metadata": {
  "kernelspec": {
   "display_name": "Python 3",
   "language": "python",
   "name": "python3"
  },
  "language_info": {
   "codemirror_mode": {
    "name": "ipython",
    "version": 3
   },
   "file_extension": ".py",
   "mimetype": "text/x-python",
   "name": "python",
   "nbconvert_exporter": "python",
   "pygments_lexer": "ipython3",
   "version": "3.7.4"
  }
 },
 "nbformat": 4,
 "nbformat_minor": 2
}
