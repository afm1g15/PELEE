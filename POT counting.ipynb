{
 "cells": [
  {
   "cell_type": "code",
   "execution_count": null,
   "metadata": {},
   "outputs": [],
   "source": [
    "import uproot\n",
    "\n",
    "folder = \"nuselection\"\n",
    "tree = \"SubRun\""
   ]
  },
  {
   "cell_type": "code",
   "execution_count": null,
   "metadata": {},
   "outputs": [],
   "source": [
    "import sys\n",
    "import localSettings as ls\n",
    "print(ls.main_path)\n",
    "\n",
    "main_path = ls.main_path\n",
    "sys.path.append(main_path)"
   ]
  },
  {
   "cell_type": "code",
   "execution_count": null,
   "metadata": {},
   "outputs": [],
   "source": [
    "extG1 = ls.ntuple_path+'data_extbnb_mcc9.1_v08_00_00_25_reco2_G1_all_reco2.root'\n",
    "extG2 = ls.ntuple_path+'data_extbnb_mcc9.1_v08_00_00_25_reco2_G2_all_reco2.root'\n",
    "extC1 = ls.ntuple_path+'data_extbnb_mcc9.1_v08_00_00_25_reco2_C1_all_reco2.root'\n",
    "extC2 = ls.ntuple_path+'data_extbnb_mcc9.1_v08_00_00_25_reco2_C2_all_reco2.root'\n",
    "bnb3 = ls.ntuple_path+'data_bnb_mcc9.1_v08_00_00_25_reco2_G1_beam_good_reco2_1e19.root'\n",
    "bnb1 = ls.ntuple_path+'data_bnb_mcc9.1_v08_00_00_25_reco2_C1_beam_good_reco2_5e19.root'"
   ]
  },
  {
   "cell_type": "markdown",
   "metadata": {},
   "source": [
    "# EXT data POT run/subrun text file"
   ]
  },
  {
   "cell_type": "code",
   "execution_count": null,
   "metadata": {},
   "outputs": [],
   "source": [
    "ext_tree = uproot.open(extG1)[folder][tree]\n",
    "df_ext = ext_tree.pandas.df([\"run\", \"subRun\"])\n",
    "df_ext.to_csv(ls.ntuple_path+'run_subrun_ext_G1.txt', header=None, index=None, sep=' ')\n",
    "\n",
    "ext_tree = uproot.open(extG2)[folder][tree]\n",
    "df_ext = ext_tree.pandas.df([\"run\", \"subRun\"])\n",
    "df_ext.to_csv(ls.ntuple_path+'run_subrun_ext_G2.txt', header=None, index=None, sep=' ')\n",
    "\n",
    "ext_tree = uproot.open(extC1)[folder][tree]\n",
    "df_ext = ext_tree.pandas.df([\"run\", \"subRun\"])\n",
    "df_ext.to_csv(ls.ntuple_path+'run_subrun_ext_C1.txt', header=None, index=None, sep=' ')\n",
    "\n",
    "ext_tree = uproot.open(extC2)[folder][tree]\n",
    "df_ext = ext_tree.pandas.df([\"run\", \"subRun\"])\n",
    "df_ext.to_csv(ls.ntuple_path+'run_subrun_ext_C2.txt', header=None, index=None, sep=' ')"
   ]
  },
  {
   "cell_type": "code",
   "execution_count": null,
   "metadata": {},
   "outputs": [],
   "source": [
    "bnb3 = ls.ntuple_path+'/v01/data_bnb_mcc9.1_v08_00_00_25_reco2_G1_beam_good_reco2_1e19.root'"
   ]
  },
  {
   "cell_type": "markdown",
   "metadata": {},
   "source": [
    "# BNB data POT run/subrun text file"
   ]
  },
  {
   "cell_type": "code",
   "execution_count": null,
   "metadata": {},
   "outputs": [],
   "source": [
    "bnb_tree = uproot.open(bnb3)[folder][tree]\n",
    "df_bnb = bnb_tree.pandas.df([\"run\", \"subRun\"])\n",
    "df_bnb.to_csv(ls.ntuple_path+'run_subrun_bnb3_v01.txt', header=None, index=None, sep=' ')\n",
    "#bnb_tree = uproot.open(bnb1)[folder][tree]\n",
    "#df_bnb = bnb_tree.pandas.df([\"run\", \"subRun\"])\n",
    "#df_bnb.to_csv(ls.ntuple_path+'run_subrun_bnb1.txt', header=None, index=None, sep=' ')"
   ]
  },
  {
   "cell_type": "markdown",
   "metadata": {},
   "source": [
    "Now, to obtain EXT scaling factor you can use this bash script:\n",
    "```bash\n",
    "EXT=$(python /uboone/app/users/zarko/getDataInfo.py --run-subrun-list run_subrun_ext.txt -v 2 -f EXT | sed -n 3p)\n",
    "BNB=$(python /uboone/app/users/zarko/getDataInfo.py --run-subrun-list run_subrun_bnb.txt -v 2 -f E1DCNT_wcut | sed -n 3p)\n",
    "echo \"scale=5 ; $BNB / $EXT\" | bc\n",
    "```\n",
    "$ 4.497\\times10^{19}$\n",
    "8.057e+18\n",
    "4.118e+19"
   ]
  },
  {
   "cell_type": "markdown",
   "metadata": {},
   "source": [
    "# BNB overlay sample"
   ]
  },
  {
   "cell_type": "code",
   "execution_count": null,
   "metadata": {},
   "outputs": [],
   "source": [
    "filename = ls.ntuple_path+\"prodgenie_bnb_nu_uboone_overlay_mcc9.1_v08_00_00_26_filter_run3_reco2_G_reco2.root\"\n",
    "mc_tree = uproot.open(filename)[folder][tree]\n",
    "df_mc = mc_tree.pandas.df([\"run\", \"subRun\", \"pot\"])\n",
    "print(\"BNB overlay RUN 3 POT %g\" % sum(df_mc[\"pot\"]))\n",
    "\n",
    "filename = ls.ntuple_path+\"prodgenie_bnb_nu_uboone_overlay_mcc9.1_v08_00_00_26_filter_run1_reco2_reco2.root\"\n",
    "mc_tree = uproot.open(filename)[folder][tree]\n",
    "df_mc = mc_tree.pandas.df([\"run\", \"subRun\", \"pot\"])\n",
    "print(\"BNB overlay RUN 1 POT %g\" % sum(df_mc[\"pot\"]))"
   ]
  },
  {
   "cell_type": "markdown",
   "metadata": {},
   "source": [
    "# $\\nu_e$ overlay sample"
   ]
  },
  {
   "cell_type": "code",
   "execution_count": null,
   "metadata": {},
   "outputs": [],
   "source": [
    "filename = ls.ntuple_path+\"prodgenie_bnb_intrinsice_nue_uboone_overlay_mcc9.1_v08_00_00_26_run3_reco2_reco2.root\"\n",
    "nue_tree = uproot.open(filename)[folder][tree]\n",
    "df_nue = nue_tree.pandas.df([\"run\", \"subRun\", \"pot\"])\n",
    "print(\"nu_e overlay RUN 3 POT %g\" % sum(df_nue[\"pot\"]))\n",
    "\n",
    "filename = ls.ntuple_path+\"prodgenie_bnb_intrinsice_nue_uboone_overlay_mcc9.1_v08_00_00_26_run1_reco2_reco2.root\"\n",
    "nue_tree = uproot.open(filename)[folder][tree]\n",
    "df_nue = nue_tree.pandas.df([\"run\", \"subRun\", \"pot\"])\n",
    "print(\"nu_e overlay RUN 1 POT %g\" % sum(df_nue[\"pot\"]))"
   ]
  },
  {
   "cell_type": "markdown",
   "metadata": {},
   "source": [
    "# Dirt sample"
   ]
  },
  {
   "cell_type": "code",
   "execution_count": null,
   "metadata": {},
   "outputs": [],
   "source": [
    "filename = ls.ntuple_path+\"prodgenie_bnb_dirt_overlay_mcc9.1_v08_00_00_26_run3_reco2_reco2.root\"\n",
    "drt_tree = uproot.open(filename)[folder][tree]\n",
    "df_drt = drt_tree.pandas.df([\"run\", \"subRun\", \"pot\"])\n",
    "print(\"Dirt RUN 3 POT %g\" % sum(df_drt[\"pot\"]))\n",
    "\n",
    "filename = ls.ntuple_path+\"prodgenie_bnb_dirt_overlay_mcc9.1_v08_00_00_26_run1_reco2_reco2.root\"\n",
    "drt_tree = uproot.open(filename)[folder][tree]\n",
    "df_drt = drt_tree.pandas.df([\"run\", \"subRun\", \"pot\"])\n",
    "print(\"Dirt RUN 1 POT %g\" % sum(df_drt[\"pot\"]))"
   ]
  },
  {
   "cell_type": "markdown",
   "metadata": {},
   "source": [
    "# NC $\\pi^0$ sample"
   ]
  },
  {
   "cell_type": "code",
   "execution_count": null,
   "metadata": {},
   "outputs": [],
   "source": [
    "filename = ls.ntuple_path+\"prodgenie_nc_pi0_uboone_overlay_mcc9.1_v08_00_00_26_run3_G_reco2.root\"\n",
    "pi0_tree = uproot.open(filename)[folder][tree]\n",
    "df_pi0 = pi0_tree.pandas.df([\"run\", \"subRun\", \"pot\"])\n",
    "print(\"NC $\\pi^0$ RUN 3 POT %g\" % sum(df_pi0[\"pot\"]))\n",
    "\n",
    "filename = ls.ntuple_path+\"prodgenie_nc_pi0_uboone_overlay-v08_00_00_26_run1_reco2_reco2.root\"\n",
    "pi0_tree = uproot.open(filename)[folder][tree]\n",
    "df_pi0 = pi0_tree.pandas.df([\"run\", \"subRun\", \"pot\"])\n",
    "print(\"NC $\\pi^0$ RUN 1 POT %g\" % sum(df_pi0[\"pot\"]))"
   ]
  },
  {
   "cell_type": "markdown",
   "metadata": {},
   "source": [
    "# eLEE low sample"
   ]
  },
  {
   "cell_type": "code",
   "execution_count": null,
   "metadata": {},
   "outputs": [],
   "source": [
    "filename = ls.ntuple_path+\"prestage_prodgenie_eLee_low_overlay_det_var_run3_mcc9.1_v08_00_00_26_cv_reco2.root\"\n",
    "pi0_tree = uproot.open(filename)[folder][tree]\n",
    "df_pi0 = pi0_tree.pandas.df([\"run\", \"subRun\", \"pot\"])\n",
    "print(\"eLEE low RUN 3 POT %g\" % sum(df_pi0[\"pot\"]))\n",
    "\n",
    "filename = ls.ntuple_path+\"prestage_prodgenie_eLee_low_overlay_det_var_run1_mcc9.1_v08_00_00_26_cv_reco2.root\"\n",
    "pi0_tree = uproot.open(filename)[folder][tree]\n",
    "df_pi0 = pi0_tree.pandas.df([\"run\", \"subRun\", \"pot\"])\n",
    "print(\"eLEE low RUN 1 POT %g\" % sum(df_pi0[\"pot\"]))"
   ]
  },
  {
   "cell_type": "markdown",
   "metadata": {},
   "source": [
    "# eLEE high sample"
   ]
  },
  {
   "cell_type": "code",
   "execution_count": null,
   "metadata": {},
   "outputs": [],
   "source": [
    "filename = ls.ntuple_path+\"prestage_prodgenie_eLee_high_overlay_det_var_run3_mcc9.1_v08_00_00_26_cv_reco2.root\"\n",
    "pi0_tree = uproot.open(filename)[folder][tree]\n",
    "df_pi0 = pi0_tree.pandas.df([\"run\", \"subRun\", \"pot\"])\n",
    "print(\"eLEE high RUN 3 POT %g\" % sum(df_pi0[\"pot\"]))\n",
    "\n",
    "filename = ls.ntuple_path+\"prestage_prodgenie_eLee_high_overlay_det_var_run1_mcc9.1_v08_00_00_26_cv_reco2.root\"\n",
    "pi0_tree = uproot.open(filename)[folder][tree]\n",
    "df_pi0 = pi0_tree.pandas.df([\"run\", \"subRun\", \"pot\"])\n",
    "print(\"eLEE high RUN 1 POT %g\" % sum(df_pi0[\"pot\"]))"
   ]
  },
  {
   "cell_type": "markdown",
   "metadata": {},
   "source": [
    "# CC $\\pi^0$ sample"
   ]
  },
  {
   "cell_type": "code",
   "execution_count": null,
   "metadata": {},
   "outputs": [],
   "source": [
    "filename = ls.ntuple_path+\"prodgenie_cc_pi0_uboone_overlay_v08_00_00_26_run3_G_reco2.root\"\n",
    "pi0_tree = uproot.open(filename)[folder][tree]\n",
    "df_pi0 = pi0_tree.pandas.df([\"run\", \"subRun\", \"pot\"])\n",
    "print(\"CCpi0 POT RUN 3 %g\" % sum(df_pi0[\"pot\"]))\n",
    "\n",
    "filename = ls.ntuple_path+\"prodgenie_cc_pi0_uboone_overlay_v08_00_00_26_run1_reco2.root\"\n",
    "pi0_tree = uproot.open(filename)[folder][tree]\n",
    "df_pi0 = pi0_tree.pandas.df([\"run\", \"subRun\", \"pot\"])\n",
    "print(\"CCpi0 POT RUN 1 %g\" % sum(df_pi0[\"pot\"]))"
   ]
  },
  {
   "cell_type": "markdown",
   "metadata": {},
   "source": [
    "# CC $\\pi^0$ train sample "
   ]
  },
  {
   "cell_type": "code",
   "execution_count": null,
   "metadata": {},
   "outputs": [],
   "source": [
    "filename = ls.ntuple_path+\"prodgenie_nc_pi0_uboone_overlay_mcc9_v08_00_00_26_Nov_v08_00_00_26_run3_G_reco2.root\"\n",
    "pi0_tree = uproot.open(filename)[folder][tree]\n",
    "df_pi0 = pi0_tree.pandas.df([\"run\", \"subRun\", \"pot\"])\n",
    "print(\"CCpi0 train POT %g\" % sum(df_pi0[\"pot\"]))\n",
    "\n",
    "filename = ls.ntuple_path+\"prodgenie_cc_pi0_uboone_overlay_supplementsameEXT_v08_00_00_26_run1_reco2.root\"\n",
    "pi0_tree = uproot.open(filename)[folder][tree]\n",
    "df_pi0 = pi0_tree.pandas.df([\"run\", \"subRun\", \"pot\"])\n",
    "print(\"CCpi0 train POT %g\" % sum(df_pi0[\"pot\"]))"
   ]
  },
  {
   "cell_type": "code",
   "execution_count": null,
   "metadata": {},
   "outputs": [],
   "source": []
  }
 ],
 "metadata": {
  "kernelspec": {
   "display_name": "Python 3",
   "language": "python",
   "name": "python3"
  },
  "language_info": {
   "codemirror_mode": {
    "name": "ipython",
    "version": 3
   },
   "file_extension": ".py",
   "mimetype": "text/x-python",
   "name": "python",
   "nbconvert_exporter": "python",
   "pygments_lexer": "ipython3",
   "version": "3.7.4"
  }
 },
 "nbformat": 4,
 "nbformat_minor": 2
}
