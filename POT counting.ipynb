{
 "cells": [
  {
   "cell_type": "code",
   "execution_count": 1,
   "metadata": {},
   "outputs": [],
   "source": [
    "import uproot\n",
    "\n",
    "folder = \"nuselection\"\n",
    "tree = \"SubRun\""
   ]
  },
  {
   "cell_type": "markdown",
   "metadata": {},
   "source": [
    "# EXT data POT run/subrun text file"
   ]
  },
  {
   "cell_type": "code",
   "execution_count": 2,
   "metadata": {},
   "outputs": [],
   "source": [
    "ext = \"root_files/ext.root\"\n",
    "ext_tree = uproot.open(ext)[folder][tree]\n",
    "df_ext = ext_tree.pandas.df([\"run\", \"subRun\"])\n",
    "df_ext.to_csv(r'run_subrun_ext.txt', header=None, index=None, sep=' ')"
   ]
  },
  {
   "cell_type": "markdown",
   "metadata": {},
   "source": [
    "# BNB data POT run/subrun text file"
   ]
  },
  {
   "cell_type": "code",
   "execution_count": 3,
   "metadata": {},
   "outputs": [],
   "source": [
    "bnb = \"root_files/bnb.root\"\n",
    "bnb_tree = uproot.open(bnb)[folder][tree]\n",
    "df_bnb = bnb_tree.pandas.df([\"run\", \"subRun\"])\n",
    "df_bnb.to_csv(r'run_subrun_bnb.txt', header=None, index=None, sep=' ')"
   ]
  },
  {
   "cell_type": "markdown",
   "metadata": {},
   "source": [
    "Now, to obtain EXT scaling factor you can use this bash script:\n",
    "```bash\n",
    "EXT=$(python /uboone/app/users/zarko/getDataInfo.py --run-subrun-list run_subrun_ext.txt -v 2 -f EXT | sed -n 3p)\n",
    "BNB=$(python /uboone/app/users/zarko/getDataInfo.py --run-subrun-list run_subrun_bnb.txt -v 2 -f E1DCNT_wcut | sed -n 3p)\n",
    "echo \"scale=5 ; $BNB / $EXT\" | bc\n",
    "```\n"
   ]
  },
  {
   "cell_type": "markdown",
   "metadata": {},
   "source": [
    "# BNB overlay sample"
   ]
  },
  {
   "cell_type": "code",
   "execution_count": 5,
   "metadata": {},
   "outputs": [
    {
     "name": "stdout",
     "output_type": "stream",
     "text": [
      "BNB overlay POT 1.28459e+21\n"
     ]
    }
   ],
   "source": [
    "filename = \"root_files/mc_bnb.root\"\n",
    "mc_tree = uproot.open(filename)[folder][tree]\n",
    "df_mc = mc_tree.pandas.df([\"run\", \"subRun\", \"pot\"])\n",
    "print(\"BNB overlay POT %g\" % sum(df_mc[\"pot\"]))"
   ]
  },
  {
   "cell_type": "markdown",
   "metadata": {},
   "source": [
    "# $\\nu_e$ overlay sample"
   ]
  },
  {
   "cell_type": "code",
   "execution_count": 6,
   "metadata": {},
   "outputs": [
    {
     "name": "stdout",
     "output_type": "stream",
     "text": [
      "nu_e overlay POT 1.23813e+23\n"
     ]
    }
   ],
   "source": [
    "filename = \"root_files/nue.root\"\n",
    "nue_tree = uproot.open(filename)[folder][tree]\n",
    "df_nue = nue_tree.pandas.df([\"run\", \"subRun\", \"pot\"])\n",
    "print(\"nu_e overlay POT %g\" % sum(df_nue[\"pot\"]))"
   ]
  },
  {
   "cell_type": "markdown",
   "metadata": {},
   "source": [
    "# Dirt sample"
   ]
  },
  {
   "cell_type": "code",
   "execution_count": 4,
   "metadata": {},
   "outputs": [
    {
     "name": "stdout",
     "output_type": "stream",
     "text": [
      "Dirt POT 1.17484e+20\n"
     ]
    }
   ],
   "source": [
    "filename = \"root_files/dirt.root\"\n",
    "nue_tree = uproot.open(filename)[folder][tree]\n",
    "df_nue = nue_tree.pandas.df([\"run\", \"subRun\", \"pot\"])\n",
    "print(\"Dirt POT %g\" % sum(df_nue[\"pot\"]))"
   ]
  },
  {
   "cell_type": "code",
   "execution_count": null,
   "metadata": {},
   "outputs": [],
   "source": []
  }
 ],
 "metadata": {
  "kernelspec": {
   "display_name": "Python 3",
   "language": "python",
   "name": "python3"
  },
  "language_info": {
   "codemirror_mode": {
    "name": "ipython",
    "version": 3
   },
   "file_extension": ".py",
   "mimetype": "text/x-python",
   "name": "python",
   "nbconvert_exporter": "python",
   "pygments_lexer": "ipython3",
   "version": "3.7.3"
  }
 },
 "nbformat": 4,
 "nbformat_minor": 2
}
