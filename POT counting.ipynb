{
 "cells": [
  {
   "cell_type": "code",
   "execution_count": null,
   "metadata": {},
   "outputs": [],
   "source": [
    "import uproot\n",
    "\n",
    "folder = \"nuselection\"\n",
    "tree = \"SubRun\""
   ]
  },
  {
   "cell_type": "markdown",
   "metadata": {},
   "source": [
    "# EXT data POT run/subrun text file"
   ]
  },
  {
   "cell_type": "code",
   "execution_count": 8,
   "metadata": {},
   "outputs": [],
   "source": [
    "ext = \"root_files/shrselection_data_extbnb_mcc9.0_v08_00_00_12_run1_reco2.root\"\n",
    "ext_tree = uproot.open(ext)[folder][tree]\n",
    "df_ext = ext_tree.pandas.df([\"run\", \"subRun\"])\n",
    "df_ext.to_csv(r'run_subrun_ext.txt', header=None, index=None, sep=' ')"
   ]
  },
  {
   "cell_type": "markdown",
   "metadata": {},
   "source": [
    "# BNB data POT run/subrun text file"
   ]
  },
  {
   "cell_type": "code",
   "execution_count": 9,
   "metadata": {},
   "outputs": [],
   "source": [
    "bnb = \"root_files/shrselection_data_bnb_optfilter_C1_5e19_goodruns_v08_00_00_12_reco2.root\"\n",
    "bnb_tree = uproot.open(bnb)[folder][tree]\n",
    "df_bnb = bnb_tree.pandas.df([\"run\", \"subRun\"])\n",
    "df_bnb.to_csv(r'run_subrun_bnb.txt', header=None, index=None, sep=' ')"
   ]
  },
  {
   "cell_type": "markdown",
   "metadata": {},
   "source": [
    "Now, to obtain EXT scaling factor:\n",
    "```bash\n",
    "EXT=$(python /uboone/app/users/zarko/getDataInfo.py --run-subrun-list run_subrun_ext.txt -v 2 -f EXT | sed -n 3p)\n",
    "BNB=$(python /uboone/app/users/zarko/getDataInfo.py --run-subrun-list run_subrun_bnb.txt -v 2 -f E1DCNT_wcut | sed -n 3p)\n",
    "echo \"scale=4 ; $BNB / $EXT\" | bc\n",
    "```\n"
   ]
  },
  {
   "cell_type": "markdown",
   "metadata": {},
   "source": [
    "# BNB overlay sample"
   ]
  },
  {
   "cell_type": "code",
   "execution_count": 10,
   "metadata": {},
   "outputs": [
    {
     "name": "stdout",
     "output_type": "stream",
     "text": [
      "BNB overlay POT 8.38122e+20\n"
     ]
    }
   ],
   "source": [
    "filename = \"root_files/prodgenie_bnb_nu_uboone_overlay_mcc9_postCSU_v08_00_00_12_run1_reco2.root\"\n",
    "mc_tree = uproot.open(filename)[folder][tree]\n",
    "df_mc = mc_tree.pandas.df([\"run\", \"subRun\", \"pot\"])\n",
    "print(\"BNB overlay POT %g\" % sum(df_mc[\"pot\"]))"
   ]
  },
  {
   "cell_type": "markdown",
   "metadata": {},
   "source": [
    "# $\\nu_e$ overlay sample"
   ]
  },
  {
   "cell_type": "code",
   "execution_count": 11,
   "metadata": {},
   "outputs": [
    {
     "name": "stdout",
     "output_type": "stream",
     "text": [
      "nu_e overlay POT 5.00358e+22\n"
     ]
    }
   ],
   "source": [
    "filename = \"root_files/prodgenie_bnb_intrinsic_nue_uboone_overlay_mcc9_TESTv12_C1_reco2.root\"\n",
    "nue_tree = uproot.open(filename)[folder][tree]\n",
    "df_nue = nue_tree.pandas.df([\"run\", \"subRun\", \"pot\"])\n",
    "print(\"nu_e overlay POT %g\" % sum(df_nue[\"pot\"]))"
   ]
  }
 ],
 "metadata": {
  "kernelspec": {
   "display_name": "Python 3",
   "language": "python",
   "name": "python3"
  },
  "language_info": {
   "codemirror_mode": {
    "name": "ipython",
    "version": 3
   },
   "file_extension": ".py",
   "mimetype": "text/x-python",
   "name": "python",
   "nbconvert_exporter": "python",
   "pygments_lexer": "ipython3",
   "version": "3.7.3"
  }
 },
 "nbformat": 4,
 "nbformat_minor": 2
}
