{
 "cells": [
  {
   "cell_type": "code",
   "execution_count": 1,
   "metadata": {},
   "outputs": [],
   "source": [
    "import uproot\n",
    "\n",
    "folder = \"nuselection\"\n",
    "tree = \"SubRun\""
   ]
  },
  {
   "cell_type": "code",
   "execution_count": 2,
   "metadata": {},
   "outputs": [
    {
     "name": "stdout",
     "output_type": "stream",
     "text": [
      "/home/david/data/searchingfornues/v08_00_00_25/cc0pinp/1115/\n"
     ]
    }
   ],
   "source": [
    "import sys\n",
    "import localSettings as ls\n",
    "print(ls.main_path)\n",
    "\n",
    "main_path = ls.main_path\n",
    "sys.path.append(main_path)"
   ]
  },
  {
   "cell_type": "code",
   "execution_count": 3,
   "metadata": {},
   "outputs": [],
   "source": [
    "ext = ls.ntuple_path+'data_extbnb_mcc9.1_v08_00_00_25_reco2_G_all_reco2.root'\n",
    "bnb = ls.ntuple_path+'data_bnb_mcc9.1_v08_00_00_25_reco2_G1_beam_good_reco2_1e19.root'"
   ]
  },
  {
   "cell_type": "markdown",
   "metadata": {},
   "source": [
    "# EXT data POT run/subrun text file"
   ]
  },
  {
   "cell_type": "code",
   "execution_count": 4,
   "metadata": {},
   "outputs": [],
   "source": [
    "ext_tree = uproot.open(ext)[folder][tree]\n",
    "df_ext = ext_tree.pandas.df([\"run\", \"subRun\"])\n",
    "df_ext.to_csv(ls.ntuple_path+'run_subrun_ext.txt', header=None, index=None, sep=' ')"
   ]
  },
  {
   "cell_type": "markdown",
   "metadata": {},
   "source": [
    "# BNB data POT run/subrun text file"
   ]
  },
  {
   "cell_type": "code",
   "execution_count": 5,
   "metadata": {},
   "outputs": [],
   "source": [
    "bnb_tree = uproot.open(bnb)[folder][tree]\n",
    "df_bnb = bnb_tree.pandas.df([\"run\", \"subRun\"])\n",
    "df_bnb.to_csv(ls.ntuple_path+'run_subrun_bnb.txt', header=None, index=None, sep=' ')"
   ]
  },
  {
   "cell_type": "markdown",
   "metadata": {},
   "source": [
    "Now, to obtain EXT scaling factor you can use this bash script:\n",
    "```bash\n",
    "EXT=$(python /uboone/app/users/zarko/getDataInfo.py --run-subrun-list run_subrun_ext.txt -v 2 -f EXT | sed -n 3p)\n",
    "BNB=$(python /uboone/app/users/zarko/getDataInfo.py --run-subrun-list run_subrun_bnb.txt -v 2 -f E1DCNT_wcut | sed -n 3p)\n",
    "echo \"scale=5 ; $BNB / $EXT\" | bc\n",
    "```\n",
    "$ 4.497\\times10^{19}$\n",
    "8.057e+18\n",
    "4.118e+19"
   ]
  },
  {
   "cell_type": "markdown",
   "metadata": {},
   "source": [
    "# BNB overlay sample"
   ]
  },
  {
   "cell_type": "code",
   "execution_count": 6,
   "metadata": {},
   "outputs": [
    {
     "name": "stdout",
     "output_type": "stream",
     "text": [
      "BNB overlay POT 1.03834e+21\n"
     ]
    }
   ],
   "source": [
    "filename = ls.ntuple_path+\"prodgenie_bnb_nu_uboone_overlay_mcc9.1_v08_00_00_26_filter_run3_reco2_G_reco2.root\"\n",
    "mc_tree = uproot.open(filename)[folder][tree]\n",
    "df_mc = mc_tree.pandas.df([\"run\", \"subRun\", \"pot\"])\n",
    "print(\"BNB overlay POT %g\" % sum(df_mc[\"pot\"]))"
   ]
  },
  {
   "cell_type": "markdown",
   "metadata": {},
   "source": [
    "# $\\nu_e$ overlay sample"
   ]
  },
  {
   "cell_type": "code",
   "execution_count": 7,
   "metadata": {},
   "outputs": [
    {
     "name": "stdout",
     "output_type": "stream",
     "text": [
      "nu_e overlay POT 7.77243e+22\n"
     ]
    }
   ],
   "source": [
    "filename = ls.ntuple_path+\"prodgenie_bnb_intrinsice_nue_uboone_overlay_mcc9.1_v08_00_00_26_run3_reco2_reco2.root\"\n",
    "nue_tree = uproot.open(filename)[folder][tree]\n",
    "df_nue = nue_tree.pandas.df([\"run\", \"subRun\", \"pot\"])\n",
    "print(\"nu_e overlay POT %g\" % sum(df_nue[\"pot\"]))"
   ]
  },
  {
   "cell_type": "markdown",
   "metadata": {},
   "source": [
    "# Dirt sample"
   ]
  },
  {
   "cell_type": "code",
   "execution_count": 8,
   "metadata": {},
   "outputs": [
    {
     "name": "stdout",
     "output_type": "stream",
     "text": [
      "Dirt POT 3.27742e+20\n"
     ]
    }
   ],
   "source": [
    "filename = ls.ntuple_path+\"prodgenie_bnb_dirt_overlay_mcc9.1_v08_00_00_26_run3_reco2_reco2.root\"\n",
    "drt_tree = uproot.open(filename)[folder][tree]\n",
    "df_drt = drt_tree.pandas.df([\"run\", \"subRun\", \"pot\"])\n",
    "print(\"Dirt POT %g\" % sum(df_drt[\"pot\"]))"
   ]
  },
  {
   "cell_type": "markdown",
   "metadata": {},
   "source": [
    "# NC $\\pi^0$ sample"
   ]
  },
  {
   "cell_type": "code",
   "execution_count": 10,
   "metadata": {},
   "outputs": [
    {
     "name": "stdout",
     "output_type": "stream",
     "text": [
      "NCpi0 POT 2.31036e+21\n"
     ]
    }
   ],
   "source": [
    "filename = ls.ntuple_path+\"prodgenie_nc_pi0_uboone_overlay_mcc9.1_v08_00_00_26_run3_G_reco2.root\"\n",
    "pi0_tree = uproot.open(filename)[folder][tree]\n",
    "df_pi0 = pi0_tree.pandas.df([\"run\", \"subRun\", \"pot\"])\n",
    "print(\"NCpi0 POT %g\" % sum(df_pi0[\"pot\"]))"
   ]
  },
  {
   "cell_type": "code",
   "execution_count": null,
   "metadata": {},
   "outputs": [],
   "source": []
  },
  {
   "cell_type": "code",
   "execution_count": null,
   "metadata": {},
   "outputs": [],
   "source": []
  }
 ],
 "metadata": {
  "kernelspec": {
   "display_name": "Python 3",
   "language": "python",
   "name": "python3"
  },
  "language_info": {
   "codemirror_mode": {
    "name": "ipython",
    "version": 3
   },
   "file_extension": ".py",
   "mimetype": "text/x-python",
   "name": "python",
   "nbconvert_exporter": "python",
   "pygments_lexer": "ipython3",
   "version": "3.7.4"
  }
 },
 "nbformat": 4,
 "nbformat_minor": 2
}
