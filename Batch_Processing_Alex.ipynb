{
 "cells": [
  {
   "cell_type": "markdown",
   "id": "0f94c50b",
   "metadata": {},
   "source": [
    "# Do Batch Processing"
   ]
  },
  {
   "cell_type": "code",
   "execution_count": 1,
   "id": "9faf8b55",
   "metadata": {},
   "outputs": [
    {
     "name": "stdout",
     "output_type": "stream",
     "text": [
      "/home/alex/NuMI/PELEE/\n"
     ]
    }
   ],
   "source": [
    "import pandas as pd\n",
    "import matplotlib.pyplot as plt\n",
    "import matplotlib\n",
    "import sys\n",
    "import localSettings as ls\n",
    "import math\n",
    "print(ls.main_path)\n",
    "import load_data_run123\n",
    "import plotter_alex\n",
    "import importlib\n",
    "importlib.reload(plotter_alex)\n",
    "import uproot\n",
    "import matplotlib.pylab as pylab\n",
    "import numpy as np\n",
    "import math\n",
    "from sklearn.model_selection import train_test_split\n",
    "import pickle\n",
    "import xgboost as xgb\n",
    "import nue_booster \n",
    "importlib.reload(nue_booster)\n",
    "import awkward"
   ]
  },
  {
   "cell_type": "markdown",
   "id": "d8e09f17",
   "metadata": {},
   "source": [
    "## BNB Sample Histograms"
   ]
  },
  {
   "cell_type": "code",
   "execution_count": 45,
   "id": "971b937c",
   "metadata": {},
   "outputs": [
    {
     "name": "stdout",
     "output_type": "stream",
     "text": [
      "['ccnc', 'slnhits', 'hits_ratio', 'nslice', 'true_nu_vtx_x', 'shr_tkfit_dedx_V', 'nproton', 'shr_energy_tot_cali', 'n_tracks', 'true_nu_vtx_y', 'reco_nu_vtx_sce_x', 'shr_tkfit_dedx_Y', 'shr_tkfit_nhits_Y', 'sub', 'evt', 'tksh_angle', 'trkshrhitdist2', 'shr_tkfit_npoints', 'nu_e', 'reco_nu_vtx_sce_z', 'n_tracks_contained', 'n_showers_contained', 'shr_energy', 'shr_tkfit_dedx_U', 'shrsubclusters0', 'selected', 'trk_score_v', 'flash_time', 'tksh_distance', 'shrmoliereavg', 'nu_pdg', 'shr_tkfit_nhits_U', 'true_nu_vtx_z', 'shr_distance', 'contained_fraction', 'category', 'trk_energy_tot', 'slnunhits', 'shrsubclusters1', 'run', 'CosmicIPAll3D', 'topological_score', 'shrsubclusters2', 'shr_tkfit_nhits_V', 'n_showers', 'shr_energy_cali', 'shr_score', 'trk_energy', 'reco_nu_vtx_sce_y']\n"
     ]
    }
   ],
   "source": [
    "# Name of the TTree in the PeLEE Ntuples\n",
    "tree = \"NeutrinoSelectionFilter\"\n",
    "\n",
    "NUE  = '/pre_samp/prodgenie_numi_nue_overlay_mcc9_v08_00_00_48_CV_reco2_run1_reco2'+ls.APPEND #newTune\n",
    "\n",
    "#actually fetch datasets\n",
    "nue_nue  = uproot.open(ls.ntuple_path+NUE+\".root\")[ls.fold][tree]\n",
    "\n",
    "# Define a list that contains the data sets\n",
    "uproot_v = [nue_nue]\n",
    "\n",
    "nue_variables = [\"run\", \"sub\", \"evt\",              \n",
    "             \"trk_score_v\", \"topological_score\", \"shr_score\",\n",
    "            \"reco_nu_vtx_sce_x\", \"reco_nu_vtx_sce_y\", \"reco_nu_vtx_sce_z\", \"shr_tkfit_npoints\",\n",
    "            \"CosmicIPAll3D\", \"hits_ratio\", \"contained_fraction\",\n",
    "            \"shrmoliereavg\", \"shr_tkfit_dedx_U\",\"shr_tkfit_dedx_V\",\"shr_tkfit_dedx_Y\",\n",
    "            \"shr_energy\", \"category\", \"slnunhits\", \"slnhits\", \"flash_time\", \"nu_pdg\", \"ccnc\",\n",
    "             \"selected\", \"nslice\", \"shr_distance\",\n",
    "            \"shr_tkfit_nhits_U\", \"shr_tkfit_nhits_V\", \"shr_tkfit_nhits_Y\", \"n_tracks_contained\",\n",
    "            \"n_showers\", \"n_tracks\", \"shr_energy_cali\", \"n_showers_contained\", \"tksh_distance\", \"tksh_angle\",\n",
    "             \"trkshrhitdist2\", 'shrsubclusters0', 'shrsubclusters1', 'shrsubclusters2',\n",
    "             \"shr_energy_tot_cali\", 'trk_energy_tot', 'nproton', 'trk_energy', \"true_nu_vtx_x\",\"true_nu_vtx_y\",\"true_nu_vtx_z\", \"nu_e\"]\n",
    "\n",
    "\n",
    "# These are examples of variables present in MC samples only\n",
    "nue_varMC = [\"true_pt\",\"true_pt_visible\",\"true_p\",\"true_p_visible\",\"true_nu_vtx_t\",\"true_nu_vtx_x\",\"true_nu_vtx_y\",\"true_nu_vtx_z\",\"true_nu_vtx_sce_x\",\"true_nu_vtx_sce_y\",\"true_nu_vtx_sce_z\\\n",
    "\",\"true_nu_px\",\"true_nu_py\",\"true_nu_pz\", \"elec_e\"]\n",
    "\n",
    "#make the list unique (sometimes you repeat the variable name in the list, this takes care of that)\n",
    "nue_variables = list(set(nue_variables))\n",
    "print(nue_variables)\n",
    "\n",
    "\n",
    "\n",
    "# These weights are needed to correctly calculate the CV for the MC    \n",
    "WEIGHTS     = [\"weightSpline\",\"weightTune\",\"weightSplineTimesTune\",\"ppfx_cv\"]\n",
    "# These weights are needed to calculate the Flux, GENIE and Geant4 Systematics. \n",
    "# For NuMI weightsFlux should always be 1 (cause that's relevant for BNB).\n",
    "SYSTEMATICS = ['weightsFlux','weightsGenie','weightsReint'] \n",
    "PPFX        = ['weightsPPFX'] \n",
    "\n",
    "\n",
    "\n",
    "WEIGHTSLEE = [\"weightSpline\",\"weightTune\",\"weightSplineTimesTune\", \"leeweight\"]#, \"weightsGenie\", \"weightsFlux\", \"weightsReint\"]\n",
    "MCFVARS    = [\"mcf_nu_e\",\"mcf_lep_e\",\"mcf_actvol\",\"mcf_nmm\",\"mcf_nmp\",\"mcf_nem\",\"mcf_nep\",\"mcf_np0\",\"mcf_npp\",\n",
    "              \"mcf_npm\",\"mcf_mcshr_elec_etot\",\"mcf_pass_ccpi0\",\"mcf_pass_ncpi0\",\n",
    "              \"mcf_pass_ccnopi\",\"mcf_pass_ncnopi\",\"mcf_pass_cccpi\",\"mcf_pass_nccpi\"]\n",
    "\n",
    "nue_nue  = nue_nue.pandas.df(nue_variables + WEIGHTS + MCFVARS + SYSTEMATICS + PPFX+nue_varMC, flatten=False)"
   ]
  },
  {
   "cell_type": "code",
   "execution_count": 46,
   "id": "a228c2b9",
   "metadata": {},
   "outputs": [],
   "source": [
    "sample_set = nue_mc.iloc[0:5]"
   ]
  },
  {
   "cell_type": "code",
   "execution_count": 48,
   "id": "8eb5572c",
   "metadata": {},
   "outputs": [],
   "source": [
    "# In the next cell, we are going to play with the value of the event weights. \n",
    "# Let's store the original ones in some \"safe variable\" in this cell first.\n",
    "# So if we screw up, we don't have to re-load the humongous TTree: we'll have the original weights safely stored here\n",
    "df_v = [nue_nue]\n",
    "#removeGenieTune = False\n",
    "for i,df in enumerate(df_v):\n",
    "    df[ 'currentweightsafe' ] = df['weightSplineTimesTune']\n",
    "    df[ 'currentweight' ] = df['weightSplineTimesTune']"
   ]
  },
  {
   "cell_type": "code",
   "execution_count": 49,
   "id": "205c0343",
   "metadata": {},
   "outputs": [],
   "source": [
    "constructNuMISys = True\n",
    "\n",
    "# We need to do this only for the MC samples (all data events weight = 1)\n",
    "df_v = [nue_nue]\n",
    "\n",
    "for i,df in enumerate(df_v):\n",
    "    # This portion cleans up the basic weights\n",
    "    df.loc[ df['weightTune'] <= 0, 'weightTune' ] = 1.\n",
    "    df.loc[ df['weightTune'] == np.inf, 'weightTune' ] = 1.\n",
    "    df.loc[ df['weightTune'] > 100, 'weightTune' ] = 1.\n",
    "    df.loc[ np.isnan(df['weightTune']) == True, 'weightTune' ] = 1.\n",
    "    # This portion cleans up the weights after the GENIE tune is applied\n",
    "    df.loc[ df['weightSplineTimesTune'] <= 0, 'weightSplineTimesTune' ] = 1.\n",
    "    df.loc[ df['weightSplineTimesTune'] == np.inf, 'weightSplineTimesTune' ] = 1.\n",
    "    df.loc[ df['weightSplineTimesTune'] > 100, 'weightSplineTimesTune' ] = 1. #originally 100\n",
    "    df.loc[ np.isnan(df['weightSplineTimesTune']) == True, 'weightSplineTimesTune' ] = 1. \n",
    "    \n",
    "    # weightSplineTimesTuneTimesPPFX is our final weight: this is NuMI, so the final weight of the MC events needs \n",
    "    # to take into account the NuMI Flux re-weight called ppfx_cv to simulate NuMI events properly. \n",
    "    df[ 'weightSplineTimesTuneTimesPPFX' ] = df[ 'weightSplineTimesTune' ]*df['ppfx_cv']\n",
    "    \n",
    "    # We also need to fix some cray cray weights in the GENIE systematics. \n",
    "    # This is a bit of a pain in the butt cause we have 600 universe (= 600 weights) for each event\n",
    "    for ievt in range(df.shape[0]):\n",
    "        reweightCondition = ((df['weightsGenie'].iloc[ievt] > 3000) | (df['weightsGenie'].iloc[ievt] < 0)  | \n",
    "                             (df['weightsGenie'].iloc[ievt] == np.inf))\n",
    "        df['weightsGenie'].iloc[ievt][ reweightCondition ] = 1."
   ]
  },
  {
   "cell_type": "code",
   "execution_count": 50,
   "id": "c77afc01",
   "metadata": {},
   "outputs": [],
   "source": [
    "from scipy.spatial.transform import Rotation as R\n",
    "from numpy import arccos, array\n",
    "from numpy.linalg import norm\n",
    "\n",
    "# Note: returns angle in radians\n",
    "def theta(v, w): return arccos(v.dot(w)/(norm(v)*norm(w)))* 180 / 3.1415926\n",
    "\n",
    "def GetNuMIAngle( px,  py,  pz):\n",
    "    r = R.from_matrix([[0.92103853804025681562   , 0.022713504803924120662, 0.38880857519374290021  ],\n",
    "                       [4.6254001262154668408e-05, 0.99829162468141474651 , -0.058427989452906302359],\n",
    "                       [-0.38947144863934973769  , 0.053832413938664107345, 0.91946400794392302291  ]])  \n",
    "    r = r.inv()\n",
    "    beamCoords = r.apply([px,  py,  pz])\n",
    "    beamDir    = [0,0,1]\n",
    "    #print(theta(beamCoords,beamDir))\n",
    "    return theta(beamCoords,beamDir)\n",
    "\n",
    "def GetNuMIAnglePol( phiBNB,  thetaBNB):\n",
    "    px = math.sin(thetaBNB)*math.cos(phiBNB)\n",
    "    py = math.sin(thetaBNB)*math.sin(phiBNB)\n",
    "    pz = math.cos(thetaBNB)\n",
    "    return GetNuMIAngle( px,  py,  pz)"
   ]
  },
  {
   "cell_type": "code",
   "execution_count": 51,
   "id": "0c95c117",
   "metadata": {},
   "outputs": [
    {
     "name": "stdout",
     "output_type": "stream",
     "text": [
      "time to run:  7.471027135848999\n"
     ]
    }
   ],
   "source": [
    "#This cell is about creating some new variables from the ones we have\n",
    "\n",
    "import time\n",
    "s = time.time()\n",
    "\n",
    "#use all samples\n",
    "df_v = [nue_nue]\n",
    "\n",
    "\n",
    "puppa1 = 'trk_score_v'\n",
    "\n",
    "\n",
    "for i,df in enumerate(df_v):\n",
    "    up = uproot_v[i]\n",
    "    trk_theta_proton_v  = up.array('trk_theta_v')\n",
    "    trk_phi_proton_v    = up.array('trk_phi_v')\n",
    "    trk_score_v         = up.array('trk_score_v')    \n",
    "    trk_llr_pid_v       = up.array('trk_llr_pid_score_v')\n",
    "    trk_energy_proton_v = up.array('trk_energy_proton_v')\n",
    "    trk_calo_energy_y_v = up.array('trk_calo_energy_y_v')\n",
    "    trk_id              = up.array('trk_id')-1 # I think we need this -1 to get the right result\n",
    "    c                   = up.array('n_tracks_contained')\n",
    "    trk_theta_proton_v  = up.array('trk_theta_v')\n",
    "    trk_phi_proton_v    = up.array('trk_phi_v')\n",
    "\n",
    "    trk_theta_proton_sel  = awkward.fromiter([pidv[tid] if tid<len(pidv) else 9999. for pidv,tid in zip(trk_theta_proton_v,trk_id)])\n",
    "    trk_phi_proton_sel    = awkward.fromiter([pidv[tid] if tid<len(pidv) else 9999. for pidv,tid in zip(trk_phi_proton_v,trk_id)])\n",
    "    df['protontheta']  = trk_theta_proton_sel\n",
    "    df['protonphi']    = trk_phi_proton_sel\n",
    "\n",
    "    #print(trk_score_v.shape, len(trk_llr_pid_v))\n",
    "\n",
    "    #dummy variables\n",
    "    puppa_obj = []\n",
    "    puppa_trk = []\n",
    "    puppa_shw = []\n",
    "    puppa_prt = [] \n",
    "    puppa_mu  = []\n",
    "    \n",
    "    for pidv, p in zip(trk_llr_pid_v,trk_score_v):\n",
    "        N_obj         = 0\n",
    "        N_recoTrks    = 0\n",
    "        N_recoShowers = 0\n",
    "        N_recoProtons = 0\n",
    "        N_recoMuons   = 0\n",
    "        if len(pidv) > 0:\n",
    "            passPIDCut = (pidv <= 0)\n",
    "            passTrkCut = (p    >= 0)\n",
    "            protonCut  = (passPIDCut & passTrkCut) \n",
    "            muonCut    = (np.logical_not(passPIDCut) & passTrkCut) \n",
    "            N_obj         = len(passTrkCut)\n",
    "            N_recoTrks    = np.count_nonzero(passTrkCut)\n",
    "            N_recoShowers = np.count_nonzero(np.logical_not(passTrkCut))\n",
    "            N_recoProtons = np.count_nonzero(protonCut)\n",
    "            N_recoMuons   = np.count_nonzero(muonCut)\n",
    "        puppa_obj.append(N_obj)\n",
    "        puppa_trk.append(N_recoTrks)\n",
    "        puppa_shw.append(N_recoShowers)    \n",
    "        puppa_prt.append(N_recoProtons)\n",
    "        puppa_mu .append(N_recoMuons)\n",
    "\n",
    "    df['N_obj']           = puppa_obj\n",
    "    df['N_recoTrks']      = puppa_trk\n",
    "    df['N_recoShowers']   = puppa_shw\n",
    "    df['N_recoProtons']   = puppa_prt\n",
    "    df['N_recoMuons']     = puppa_mu\n",
    "    \n",
    "    trk_llr_pid_v_sel     = awkward.fromiter([pidv[tid] if tid<len(pidv) else 9999. for pidv,tid in zip(trk_llr_pid_v,trk_id)])\n",
    "    trk_energy_proton_sel = awkward.fromiter([pidv[tid] if tid<len(pidv) else 9999. for pidv,tid in zip(trk_energy_proton_v,trk_id)])\n",
    "    trk_calo_energy_y_sel = awkward.fromiter([pidv[tid] if tid<len(pidv) else 9999. for pidv,tid in zip(trk_calo_energy_y_v,trk_id)])\n",
    "    trk_theta_proton_sel  = awkward.fromiter([pidv[tid] if tid<len(pidv) else 9999. for pidv,tid in zip(trk_theta_proton_v,trk_id)])\n",
    "    trk_phi_proton_sel    = awkward.fromiter([pidv[tid] if tid<len(pidv) else 9999. for pidv,tid in zip(trk_phi_proton_v,trk_id)])\n",
    "\n",
    "    df['trkpid']          = trk_llr_pid_v_sel\n",
    "    df['protonenergy']    = trk_energy_proton_sel\n",
    "    df['trackcaloenergy'] = trk_calo_energy_y_sel\n",
    "    df['subcluster']      = df['shrsubclusters0'] + df['shrsubclusters1'] + df['shrsubclusters2']\n",
    "    #df['trkfit']          = df['shr_tkfit_npointsvalid'] / df['shr_tkfit_npoints']\n",
    "    #df['anglediff_Y']     = np.abs(df['secondshower_Y_dir']-df['shrclusdir2'])\n",
    "    #df['trkthetacos']     = np.cos(df['trk_theta'])\n",
    "\n",
    "    df['protontheta']  = trk_theta_proton_sel\n",
    "    df['protonphi']    = trk_phi_proton_sel\n",
    "\n",
    "#calculate angles wrt NuMI reference frame\n",
    "for i,df in enumerate(df_v):\n",
    "    #df['shr_numi_Angle']    = df.apply( lambda x: GetNuMIAngle(x['shr_px'],x['shr_py'],x['shr_pz']) , axis=1)\n",
    "    df['proton_numi_Angle'] = df.apply( lambda x: GetNuMIAnglePol(x['protonphi'],x['protontheta']) , axis=1)\n",
    "\n",
    "    \n",
    "#just prints out the time this cell takes\n",
    "s2 = time.time()\n",
    "print (\"time to run: \",s2-s)"
   ]
  },
  {
   "cell_type": "code",
   "execution_count": 52,
   "id": "e6b07e8e",
   "metadata": {},
   "outputs": [],
   "source": [
    "for i,df in enumerate(df_v):\n",
    "    df.loc[df['shrmoliereavg'].isna(),'secondshower_Y_dot'] = 9999.\n",
    "    df.loc[df['secondshower_Y_dot'].isna(),'secondshower_Y_dot'] = 0.0 "
   ]
  },
  {
   "cell_type": "code",
   "execution_count": 53,
   "id": "8bfe5695",
   "metadata": {},
   "outputs": [],
   "source": [
    "df_v = [nue_nue]\n",
    "for i,df in enumerate(df_v):\n",
    "    df.loc[:,'shr_tkfit_dedx_max'] = df['shr_tkfit_dedx_Y']\n",
    "    df.loc[(df['shr_tkfit_nhits_U']>df['shr_tkfit_nhits_Y']),'shr_tkfit_dedx_max'] = df['shr_tkfit_dedx_U']\n",
    "    df.loc[(df['shr_tkfit_nhits_V']>df['shr_tkfit_nhits_Y']) & (df['shr_tkfit_nhits_V']>df['shr_tkfit_nhits_U']),'shr_tkfit_dedx_max'] = df['shr_tkfit_dedx_V']\n",
    "    "
   ]
  },
  {
   "cell_type": "code",
   "execution_count": 54,
   "id": "44a62736",
   "metadata": {},
   "outputs": [],
   "source": [
    "INTERCEPT = 0.0\n",
    "SLOPE = 0.83\n",
    "\n",
    "df_v = [nue_nue]\n",
    "# define some energy-related variables\n",
    "for i,df in enumerate(df_v):\n",
    "    df[\"reco_e\"] = (df[\"shr_energy_tot_cali\"] + INTERCEPT) / SLOPE + df[\"trk_energy_tot\"]\n",
    "#    df[\"reco_e_qe\"] = 0.938*((df[\"shr_energy\"]+INTERCEPT)/SLOPE)/(0.938 - ((df[\"shr_energy\"]+INTERCEPT)/SLOPE)*(1-np.cos(df[\"shr_theta\"])))\n",
    "#    df[\"reco_e_rqe\"] = df[\"reco_e_qe\"]/df[\"reco_e\"]\n",
    "\n",
    "# and a way to filter out data\n",
    "for i,df in enumerate(df_v):\n",
    "    df[\"bnbdata\"] = np.zeros_like(df[\"shr_energy\"])\n",
    "    df[\"extdata\"] = np.zeros_like(df[\"shr_energy\"])\n"
   ]
  },
  {
   "cell_type": "code",
   "execution_count": 55,
   "id": "8e3e399f",
   "metadata": {},
   "outputs": [],
   "source": [
    "# add back the cosmic category, for background only\n",
    "df_v = [nue_nue]\n",
    "for i,df in enumerate(df_v):\n",
    "    df.loc[(df['category']!=1)&(df['category']!=10)&(df['category']!=11)&(df['category']!=111)&(df['slnunhits']/df['slnhits']<0.2), 'category'] = 4\n",
    "    "
   ]
  },
  {
   "cell_type": "code",
   "execution_count": 56,
   "id": "ca4ca897",
   "metadata": {},
   "outputs": [],
   "source": [
    "#########################################################\n",
    "######## RUN THIS CELL ONLY ONE TIME ONLY ###############\n",
    "#########################################################\n",
    "# The flash time for the NuMI data stream needs to be adjusted a little bit (there are hardware offsets in data). \n",
    "# That's the reason behind these hard coded shifts\n",
    "df_v = [nue_nue]\n",
    "for i,df in enumerate(df_v):\n",
    "        df.loc[ :, 'flash_time' ] = df['flash_time' ] - 0.304"
   ]
  },
  {
   "cell_type": "code",
   "execution_count": 57,
   "id": "3fe3b4c4",
   "metadata": {},
   "outputs": [],
   "source": [
    "#Define signal catagories\n",
    "\n",
    "nue_nue[\"is_signal\"] = nue_nue[\"category\"] == 11"
   ]
  },
  {
   "cell_type": "code",
   "execution_count": 58,
   "id": "9cdd4e04",
   "metadata": {},
   "outputs": [],
   "source": [
    "# Some quick clean up since some strange events get in there\n",
    "nue_nue   = nue_nue.query('nu_e > 0.')\n",
    "\n",
    "import NuMIGeoWeights\n",
    "import importlib\n",
    "importlib.reload(NuMIGeoWeights)\n",
    "numiBeamlineGeoWeights = NuMIGeoWeights.NuMIGeoWeights()\n",
    "\n",
    "# Calculate the true neutrino direction off of the NuMI beam, needed for plotting. Seem to be from MC\n",
    "dfmc_v = [nue_nue]\n",
    "for i,df in enumerate(dfmc_v):\n",
    "    df['numi_nu_true_Angle'] = df.apply( lambda x: GetNuMIAngle(x['true_nu_px'],x['true_nu_py'],x['true_nu_pz']) , axis=1)\n",
    "    df['weightsNuMIGeo']     = df.apply( lambda x: numiBeamlineGeoWeights.calculateGeoWeight(x['nu_pdg'],x['nu_e'],x['numi_nu_true_Angle']) , axis=1)\n",
    "    "
   ]
  },
  {
   "cell_type": "code",
   "execution_count": 59,
   "id": "5a574ad5",
   "metadata": {},
   "outputs": [],
   "source": [
    "df_v = [nue_nue]\n",
    "for i,df in enumerate(df_v):\n",
    "    df.loc[ (df['category']== 11) & (df['nu_pdg'] == -12), 'category' ] = 12\n",
    "    df.loc[ (df['category']== 10) & (df['nu_pdg'] == -12), 'category' ] = 1\n",
    "    df.loc[ (df['category']== 10) & (df['nu_pdg'] ==  12), 'category' ] = 1"
   ]
  },
  {
   "cell_type": "code",
   "execution_count": 60,
   "id": "123a1ff4",
   "metadata": {},
   "outputs": [],
   "source": [
    "reco_in_fv_query = \"10<=reco_nu_vtx_sce_x<=246 and -106<=reco_nu_vtx_sce_y<=106 and 10<=reco_nu_vtx_sce_z<=1026\"\n",
    "\n",
    "BDT_PRE_QUERY = 'nslice==1'\n",
    "BDT_PRE_QUERY += ' and ' + reco_in_fv_query\n",
    "BDT_PRE_QUERY +=' and contained_fraction>0.9'\n",
    "BDT_PRE_QUERY += ' and n_tracks_contained>0'\n",
    "BDT_PRE_QUERY += ' and n_showers_contained==1'\n",
    "BDT_PRE_QUERY += ' and shr_energy_tot_cali>0.07'\n",
    "BDT_PRE_QUERY += ' and trk_energy>0.04' #added\n",
    "\n",
    "BDT_LOOSE_CUTS = BDT_PRE_QUERY\n",
    "BDT_LOOSE_CUTS += ' and shr_score<0.3'\n",
    "BDT_LOOSE_CUTS += ' and trkpid<0.35'\n",
    "BDT_LOOSE_CUTS += ' and shrmoliereavg<15'\n",
    "BDT_LOOSE_CUTS += ' and shr_tkfit_dedx_Y<7'\n",
    "BDT_LOOSE_CUTS += ' and tksh_distance<12'"
   ]
  },
  {
   "cell_type": "code",
   "execution_count": 61,
   "id": "737b4853",
   "metadata": {},
   "outputs": [],
   "source": [
    "# load bdt model \n",
    "bdt_model = xgb.Booster({'nthread': 4})\n",
    "bdt_model.load_model('/home/alex/NuMI/bdt_FHC_oct2021_v3.model')"
   ]
  },
  {
   "cell_type": "code",
   "execution_count": 62,
   "id": "2d710acb",
   "metadata": {},
   "outputs": [
    {
     "name": "stdout",
     "output_type": "stream",
     "text": [
      "(67348, 113)\n"
     ]
    }
   ],
   "source": [
    "# NOW, apply the model to real data for data/MC comparisons\n",
    "\n",
    "varlist = [\n",
    "    \"shr_score\", \"shrmoliereavg\", \"trkpid\",\n",
    "    \"n_showers_contained\", \"shr_tkfit_dedx_Y\", \"tksh_distance\",\n",
    "    \"tksh_angle\", \"subcluster\", \"trkshrhitdist2\"]\n",
    "#The training variables?\n",
    "\n",
    "datasetlist = [nue_nue]\n",
    "\n",
    "for df in datasetlist:\n",
    "    for column in varlist:\n",
    "        df.loc[(df[column] < -1.0e37) | (df[column] > 1.0e37), column] = np.nan\n",
    "        \n",
    "    # create testing dmatrix \n",
    "    df_test = xgb.DMatrix(data=df[varlist])\n",
    "    \n",
    "    # apply the bdt selection\n",
    "    preds = bdt_model.predict(df_test)\n",
    "    \n",
    "    # add columns for plotting \n",
    "    df['BDT_score'] = preds\n",
    "    print(df.shape)"
   ]
  },
  {
   "cell_type": "code",
   "execution_count": 63,
   "id": "cf3502e2",
   "metadata": {},
   "outputs": [],
   "source": [
    "datasets_bdt = nue_nue"
   ]
  },
  {
   "cell_type": "code",
   "execution_count": 64,
   "id": "68a612e1",
   "metadata": {},
   "outputs": [
    {
     "data": {
      "image/png": "[encoded data removed]",
      "text/plain": [
       "<Figure size 432x288 with 1 Axes>"
      ]
     },
     "metadata": {
      "needs_background": "light"
     },
     "output_type": "display_data"
    }
   ],
   "source": [
    "import matplotlib.pyplot as plt\n",
    "import matplotlib\n",
    "\n",
    "bins = np.arange(0, 1.0, 0.1)\n",
    "gen = plt.hist(datasets_bdt['BDT_score'], bins, color='orange')\n",
    "plt.xlabel(\"BDT Score\")\n",
    "plt.ylabel(\"Counts\")\n",
    "plt.title(\"Exclusive Nue Selection BDT Scores\")\n",
    "plt.show()"
   ]
  },
  {
   "cell_type": "code",
   "execution_count": 65,
   "id": "5a34e73c",
   "metadata": {},
   "outputs": [],
   "source": [
    "NUE_SEL_QUERY = BDT_LOOSE_CUTS\n",
    "NUE_SEL_QUERY += ' and BDT_score > 0.575'"
   ]
  },
  {
   "cell_type": "code",
   "execution_count": 66,
   "id": "f196266a",
   "metadata": {},
   "outputs": [],
   "source": [
    "truthsel_nue  = \"(nu_pdg == 12 and ccnc == 0 and true_nu_vtx_z < 1036.8 and true_nu_vtx_z > 0 and true_nu_vtx_y < 116.5 and true_nu_vtx_y > -116.5 and true_nu_vtx_x < \\\n",
    " 254.8 and true_nu_vtx_x > -1.55 and nproton > 0) and nu_e > 0.04 and nu_e < 5\"\n",
    "\n",
    "truthsel_numu  = \"(nu_pdg == 14 and ccnc == 0 and true_nu_vtx_z < 1036.8 and true_nu_vtx_z > 0 and true_nu_vtx_y < 116.5 and true_nu_vtx_y > -116.5 and true_nu_vtx_x < \\\n",
    " 254.8 and true_nu_vtx_x > -1.55 and nproton > 0 and nu_e > 0.04 and nu_e < 5)\""
   ]
  },
  {
   "cell_type": "code",
   "execution_count": 226,
   "id": "1167f8d0",
   "metadata": {
    "scrolled": false
   },
   "outputs": [
    {
     "name": "stdout",
     "output_type": "stream",
     "text": [
      "{'nue_nue': 0.008409085175623745}\n",
      "(nu_pdg == 12 and ccnc == 0 and true_nu_vtx_z < 1036.8 and true_nu_vtx_z > 0 and true_nu_vtx_y < 116.5 and true_nu_vtx_y > -116.5 and true_nu_vtx_x <  254.8 and true_nu_vtx_x > -1.55 and nproton > 0) and nu_e > 0.04 and nu_e < 5& reco_e <= 5 & reco_e >= 0 \n",
      " ~(abs(nu_pdg) == 12 & ccnc == 0) \n",
      " None \n",
      " False\n",
      "EIGHT DIFF\n",
      "[0.0, 0.0]\n",
      "[0.0]\n",
      "\n",
      "SUMS\n",
      "[0.004381802738480229, 0.004381802738480229]\n",
      "[0.0]\n",
      "\n",
      "Numu Wanted List:\n",
      "[0.0, 0.0, 0.0, 0.0, 0.0, 0.0, 0.0, 0.0, 0.0, 0.0]\n",
      "\n",
      "True\n",
      "Full numbers =  [0. 1. 0. 0. 0. 0. 0. 0. 0. 0.]\n",
      "Selected numbers =  [0. 1. 0. 0. 0. 0. 0. 0. 0. 0.]\n",
      "In bin 0 , eff =  nan  with error =  nan\n",
      "In bin 1 , eff =  1.0  with error =  0.0\n",
      "In bin 2 , eff =  nan  with error =  nan\n",
      "In bin 3 , eff =  nan  with error =  nan\n",
      "In bin 4 , eff =  nan  with error =  nan\n",
      "In bin 5 , eff =  nan  with error =  nan\n",
      "In bin 6 , eff =  nan  with error =  nan\n",
      "In bin 7 , eff =  nan  with error =  nan\n",
      "In bin 8 , eff =  nan  with error =  nan\n",
      "In bin 9 , eff =  nan  with error =  nan\n",
      "\n",
      "nue_ratio_nums:\n",
      "[0, 0.0, 0, 0, 0, 0, 0, 0, 0, 0]\n",
      "\n",
      "\n",
      "nue n_tot  [0.0043818 0.        0.        0.        0.        0.        0.\n",
      " 0.        0.        0.       ]\n",
      "\n",
      "{'nue_nue': 0.008409085175623745}\n",
      "(nu_pdg == 12 and ccnc == 0 and true_nu_vtx_z < 1036.8 and true_nu_vtx_z > 0 and true_nu_vtx_y < 116.5 and true_nu_vtx_y > -116.5 and true_nu_vtx_x <  254.8 and true_nu_vtx_x > -1.55 and nproton > 0) and nu_e > 0.04 and nu_e < 5& reco_e <= 5 & reco_e >= 0 \n",
      " ~(abs(nu_pdg) == 12 & ccnc == 0) \n",
      " None \n",
      " False\n"
     ]
    },
    {
     "name": "stderr",
     "output_type": "stream",
     "text": [
      "/home/alex/NuMI/PELEE/batch_plotter_alex.py:1893: RuntimeWarning: invalid value encountered in double_scalars\n",
      "  eff = [ a/b for a, b in zip(sel[0], gen[0]) ]\n"
     ]
    },
    {
     "name": "stdout",
     "output_type": "stream",
     "text": [
      "{'nue_nue': 0.008409085175623745}\n",
      "(nu_pdg == 12 and ccnc == 0 and true_nu_vtx_z < 1036.8 and true_nu_vtx_z > 0 and true_nu_vtx_y < 116.5 and true_nu_vtx_y > -116.5 and true_nu_vtx_x <  254.8 and true_nu_vtx_x > -1.55 and nproton > 0) and nu_e > 0.04 and nu_e < 5& reco_e <= 5 & reco_e >= 0 \n",
      " ~(abs(nu_pdg) == 12 & ccnc == 0) \n",
      " None \n",
      " False\n",
      "{'nue_nue': 0.008409085175623745}\n",
      "(nu_pdg == 12 and ccnc == 0 and true_nu_vtx_z < 1036.8 and true_nu_vtx_z > 0 and true_nu_vtx_y < 116.5 and true_nu_vtx_y > -116.5 and true_nu_vtx_x <  254.8 and true_nu_vtx_x > -1.55 and nproton > 0) and nu_e > 0.04 and nu_e < 5& reco_e <= 5 & reco_e >= 0 \n",
      " ~(abs(nu_pdg) == 12 & ccnc == 0) \n",
      " None \n",
      " False\n",
      "EIGHT DIFF\n",
      "[]\n",
      "[]\n",
      "\n",
      "SUMS\n",
      "[]\n",
      "[]\n",
      "\n",
      "Numu Wanted List:\n",
      "[]\n",
      "\n",
      "True\n",
      "Full numbers =  [0. 0. 1. 0. 0. 0. 0. 0. 0. 0.]\n",
      "Selected numbers =  [0. 0. 1. 0. 0. 0. 0. 0. 0. 0.]\n",
      "In bin 0 , eff =  nan  with error =  nan\n",
      "In bin 1 , eff =  nan  with error =  nan\n",
      "In bin 2 , eff =  1.0  with error =  0.0\n",
      "In bin 3 , eff =  nan  with error =  nan\n",
      "In bin 4 , eff =  nan  with error =  nan\n",
      "In bin 5 , eff =  nan  with error =  nan\n",
      "In bin 6 , eff =  nan  with error =  nan\n",
      "In bin 7 , eff =  nan  with error =  nan\n",
      "In bin 8 , eff =  nan  with error =  nan\n",
      "In bin 9 , eff =  nan  with error =  nan\n",
      "\n",
      "nue_ratio_nums:\n",
      "[]\n",
      "\n",
      "\n",
      "nue n_tot  [0.         0.         0.01481385 0.         0.         0.\n",
      " 0.         0.         0.         0.        ]\n",
      "\n",
      "{'nue_nue': 0.008409085175623745}\n",
      "(nu_pdg == 12 and ccnc == 0 and true_nu_vtx_z < 1036.8 and true_nu_vtx_z > 0 and true_nu_vtx_y < 116.5 and true_nu_vtx_y > -116.5 and true_nu_vtx_x <  254.8 and true_nu_vtx_x > -1.55 and nproton > 0) and nu_e > 0.04 and nu_e < 5& reco_e <= 5 & reco_e >= 0 \n",
      " ~(abs(nu_pdg) == 12 & ccnc == 0) \n",
      " None \n",
      " False\n"
     ]
    },
    {
     "name": "stderr",
     "output_type": "stream",
     "text": [
      "/home/alex/NuMI/PELEE/batch_plotter_alex.py:1893: RuntimeWarning: invalid value encountered in double_scalars\n",
      "  eff = [ a/b for a, b in zip(sel[0], gen[0]) ]\n"
     ]
    },
    {
     "data": {
      "image/png": "[encoded data removed]",
      "text/plain": [
       "<Figure size 504x360 with 1 Axes>"
      ]
     },
     "metadata": {
      "needs_background": "light"
     },
     "output_type": "display_data"
    },
    {
     "data": {
      "image/png": "[encoded data removed]",
      "text/plain": [
       "<Figure size 288x360 with 2 Axes>"
      ]
     },
     "metadata": {
      "needs_background": "light"
     },
     "output_type": "display_data"
    },
    {
     "data": {
      "image/png": "[encoded data removed]",
      "text/plain": [
       "<Figure size 504x360 with 1 Axes>"
      ]
     },
     "metadata": {
      "needs_background": "light"
     },
     "output_type": "display_data"
    },
    {
     "data": {
      "image/png": "[encoded data removed]",
      "text/plain": [
       "<Figure size 504x360 with 1 Axes>"
      ]
     },
     "metadata": {
      "needs_background": "light"
     },
     "output_type": "display_data"
    },
    {
     "data": {
      "image/png": "[encoded data removed]",
      "text/plain": [
       "<Figure size 504x360 with 1 Axes>"
      ]
     },
     "metadata": {
      "needs_background": "light"
     },
     "output_type": "display_data"
    },
    {
     "data": {
      "image/png": "[encoded data removed]",
      "text/plain": [
       "<Figure size 288x360 with 2 Axes>"
      ]
     },
     "metadata": {
      "needs_background": "light"
     },
     "output_type": "display_data"
    },
    {
     "data": {
      "image/png": "[encoded data removed]",
      "text/plain": [
       "<Figure size 504x360 with 1 Axes>"
      ]
     },
     "metadata": {
      "needs_background": "light"
     },
     "output_type": "display_data"
    }
   ],
   "source": [
    "import batch_plotter_alex\n",
    "import importlib\n",
    "importlib.reload(batch_plotter_alex)\n",
    "scaling = 1\n",
    "\n",
    "SPLIT = 1.0\n",
    "\n",
    "for i in range(5):\n",
    "    sample_set = nue_nue.iloc[i:i+1]\n",
    "\n",
    "    samples = {\n",
    "        #\"nue_nue\": nue_nue\n",
    "        \"nue_nue\": sample_set \n",
    "    }\n",
    "\n",
    "\n",
    "    scaling = 1\n",
    "    # This is the data POT we normalize to (comes from the data Ntuples)\n",
    "    pot =  2e+20 #partial file: 8.885e+19\n",
    "    nueratio  = pot/2.37838e+22 \n",
    "\n",
    "    # NUE\n",
    "    weights = { #full sample mc = 0.38\n",
    "                \"nue_nue\"  : nueratio  * SPLIT * scaling\n",
    "    }\n",
    "\n",
    "\n",
    "    my_plotter = batch_plotter_alex.Plotter(samples, weights, pot=pot)\n",
    "    print(weights)\n",
    "\n",
    "    #BDT\n",
    "\n",
    "\n",
    "    #Now check on a variable\n",
    "\n",
    "    #Remember to change the plotter keys between truth and mc\n",
    "\n",
    "    VARIABLE, BINS, RANGE, XTIT = 'reco_e',10,(0.0, 5.0),\"Reconstructed Energy [GeV]\"\n",
    "\n",
    "    fig, ax1, ax2 = my_plotter.plot_variable(\n",
    "        VARIABLE,   \n",
    "        #nue_query= NUE_SEL_QUERY,\n",
    "        #numu_query= NUMU_SEL_QUERY,\n",
    "        query= truthsel_nue,\n",
    "        kind=\"event_category\",\n",
    "        draw_sys  = True, \n",
    "        draw_geoSys = True, \n",
    "        draw_data = True,\n",
    "        ratio=False,\n",
    "        genieweight = \"weightSplineTimesTuneTimesPPFX\",  \n",
    "        stacksort=3,\n",
    "        title=XTIT,\n",
    "        bins=BINS,\n",
    "        range=RANGE\n",
    "    )[0:3]\n",
    "\n",
    "    ax1.set_title('NuMI Run 1, FHC, Nue - Reconstructed Energies',loc='left')\n",
    "    #ax1.set_yscale(\"log\")\n",
    "    fig.tight_layout()"
   ]
  },
  {
   "cell_type": "code",
   "execution_count": null,
   "id": "32d279a0",
   "metadata": {},
   "outputs": [],
   "source": []
  }
 ],
 "metadata": {
  "kernelspec": {
   "display_name": "Python 3 (ipykernel)",
   "language": "python",
   "name": "python3"
  },
  "language_info": {
   "codemirror_mode": {
    "name": "ipython",
    "version": 3
   },
   "file_extension": ".py",
   "mimetype": "text/x-python",
   "name": "python",
   "nbconvert_exporter": "python",
   "pygments_lexer": "ipython3",
   "version": "3.8.12"
  }
 },
 "nbformat": 4,
 "nbformat_minor": 5
}
