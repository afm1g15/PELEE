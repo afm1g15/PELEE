{
 "cells": [
  {
   "cell_type": "code",
   "execution_count": 1,
   "metadata": {},
   "outputs": [],
   "source": [
    "%load_ext autoreload\n",
    "%autoreload 2"
   ]
  },
  {
   "cell_type": "code",
   "execution_count": 2,
   "metadata": {},
   "outputs": [
    {
     "name": "stdout",
     "output_type": "stream",
     "text": [
      "/Users/elenag/Desktop/PlotterLEE/\n"
     ]
    }
   ],
   "source": [
    "import sys\n",
    "import localSettings as ls\n",
    "print(ls.main_path)"
   ]
  },
  {
   "cell_type": "code",
   "execution_count": 3,
   "metadata": {
    "colab": {
     "base_uri": "https://localhost:8080/",
     "height": 34
    },
    "colab_type": "code",
    "executionInfo": {
     "elapsed": 517,
     "status": "ok",
     "timestamp": 1560556807118,
     "user": {
      "displayName": "Stefano Roberto Soleti",
      "photoUrl": "https://lh4.googleusercontent.com/-hfLpspJu4Q0/AAAAAAAAAAI/AAAAAAAABmA/2kE4rtj8paU/s64/photo.jpg",
      "userId": "10372352518008961760"
     },
     "user_tz": 240
    },
    "id": "6qsD0G-yYJ9K",
    "outputId": "5d52a3ec-50be-44fc-da44-3c0593e98bc6"
   },
   "outputs": [],
   "source": [
    "main_path = ls.main_path\n",
    "sys.path.append(main_path)"
   ]
  },
  {
   "cell_type": "code",
   "execution_count": 4,
   "metadata": {},
   "outputs": [
    {
     "name": "stdout",
     "output_type": "stream",
     "text": [
      "date and time: 03302021\n"
     ]
    }
   ],
   "source": [
    "from datetime import datetime\n",
    "now = datetime.now()\n",
    "date_time = now.strftime(\"%m%d%Y\")\n",
    "print(\"date and time:\",date_time)"
   ]
  },
  {
   "cell_type": "code",
   "execution_count": 5,
   "metadata": {
    "colab": {},
    "colab_type": "code",
    "id": "xGqTJ5JgaDsx"
   },
   "outputs": [],
   "source": [
    "import plotter\n",
    "import importlib\n",
    "importlib.reload(plotter)\n",
    "import uproot\n",
    "import matplotlib.pylab as pylab\n",
    "import pandas as pd\n",
    "import numpy as np\n",
    "import math\n",
    "from sklearn.model_selection import train_test_split\n",
    "import pickle\n",
    "import xgboost as xgb\n",
    "import nue_booster \n",
    "importlib.reload(nue_booster)\n",
    "import awkward\n",
    "from scipy import linalg\n",
    "\n",
    "params = {\n",
    "    'axes.labelsize': 'x-large',\n",
    "    'axes.titlesize': 'x-large',\n",
    "    'xtick.labelsize': 'x-large',\n",
    "    'ytick.labelsize': 'x-large'\n",
    "}\n",
    "pylab.rcParams.update(params)"
   ]
  },
  {
   "cell_type": "code",
   "execution_count": 6,
   "metadata": {},
   "outputs": [],
   "source": [
    "def solveForXS(Flux_nu_FHC,Flux_nu_RHC,Flux_antinu_FHC,Flux_antinu_RHC,Rate_FHC,Rate_RHC):\n",
    "    a = np.array([[Flux_nu_FHC, Flux_nu_RHC], [Flux_antinu_FHC, Flux_antinu_RHC]])\n",
    "    b = np.array([Rate_FHC, Rate_RHC])\n",
    "    x = linalg.solve(a, b)\n",
    "    print(x)\n"
   ]
  },
  {
   "cell_type": "code",
   "execution_count": 7,
   "metadata": {},
   "outputs": [
    {
     "name": "stdout",
     "output_type": "stream",
     "text": [
      "[19.995 20.   ] [19.995 20.   ]\n"
     ]
    }
   ],
   "source": [
    "def importFlux():\n",
    "    fhcFile = \"/Users/elenag/Desktop/PlotterLEE/NuMIFlux/NuMIFluxBeamVar/BeamlineGeometryVariations/FHC/output_uboone_fhc_run0_merged.root\"\n",
    "    rhcFile = \"/Users/elenag/Desktop/PlotterLEE/NuMIFlux/NuMIFluxBeamVar/BeamlineGeometryVariations/RHC/output_uboone_rhc_run0_merged.root\"\n",
    "    fhcHistoNue     = uproot.open(fhcFile)['nue/Detsmear/nue_CV_AV_TPC_5MeV_bin']\n",
    "    rhcHistoNue     = uproot.open(rhcFile)['nue/Detsmear/nue_CV_AV_TPC_5MeV_bin']\n",
    "    fhcHistoNueBar  = uproot.open(fhcFile)['nuebar/Detsmear/nuebar_CV_AV_TPC_5MeV_bin']\n",
    "    rhcHistoNueBar  = uproot.open(rhcFile)['nuebar/Detsmear/nuebar_CV_AV_TPC_5MeV_bin']\n",
    "    print(rhcHistoNue.bins[len(rhcHistoNue.bins)-1], rhcHistoNueBar.bins[len(rhcHistoNue.bins)-1])\n",
    "    #print(fhcHistoNue.bins, fhcHistoNueBar.bins)\n",
    "\n",
    "importFlux()"
   ]
  },
  {
   "cell_type": "code",
   "execution_count": 8,
   "metadata": {
    "colab": {},
    "colab_type": "code",
    "id": "iwoCIaigYJ9N"
   },
   "outputs": [
    {
     "name": "stdout",
     "output_type": "stream",
     "text": [
      "['backtracked_pdg', 'nu_e', 'evt', 'nproton', 'pi0_e', 'true_nu_pz', 'npi0', 'true_nu_vtx_y', 'nslice', 'trk_score_v', 'true_nu_vtx_z', 'category', 'true_nu_px', 'ccnc', 'run', 'nu_pdg', 'true_nu_vtx_x', 'slpdg', 'sub', 'true_nu_py']\n"
     ]
    }
   ],
   "source": [
    "#####################################################################################\n",
    "############################### MC as if it was data ################################\n",
    "#####################################################################################\n",
    "tree = \"NeutrinoSelectionFilter\"\n",
    "\n",
    "NU_R1    = 'test/prodgenie_numi_uboone_overlay_fhc_mcc9_run1_v28_all_snapshot'    +ls.APPEND #newTune\n",
    "NUE_R1   = '/Users/elenag/Desktop/PlotterLEE/root_files/FullMC/neutrinoselection_filt_run1_overlay_intrinsic'+ls.APPEND #newTune\n",
    "NU_R3    = 'run3/neutrinoselection_filt_run3b_overlay'    +ls.APPEND #newTune\n",
    "NUE_R3   = '/Users/elenag/Desktop/PlotterLEE/root_files/FullMC/neutrinoselection_filt_run3b_overlay_intrinsic'+ls.APPEND #newTune\n",
    "\n",
    "mc_R1    = uproot.open(ls.ntuple_path+NU_R1 +\".root\")[ls.fold][tree]\n",
    "nue_R1   = uproot.open(NUE_R1+\".root\")[ls.fold][tree]\n",
    "mc_R3    = uproot.open(ls.ntuple_path+NU_R3 +\".root\")[ls.fold][tree]\n",
    "nue_R3   = uproot.open(NUE_R3+\".root\")[ls.fold][tree]\n",
    "\n",
    "variables = [\"nu_pdg\", \"slpdg\", \"trk_score_v\", \"backtracked_pdg\",\"true_nu_px\",\"true_nu_py\",\"true_nu_pz\",\"category\",\n",
    "             \"ccnc\", \"true_nu_vtx_z\",\"true_nu_vtx_y\",\"true_nu_vtx_x\", \"run\",\"sub\",\"evt\", \"nproton\", \"nu_e\",\n",
    "             \"pi0_e\",\"npi0\",\"nslice\"]\n",
    "\n",
    "WEIGHTS     = [\"weightSpline\",\"weightTune\",\"weightSplineTimesTune\",\"ppfx_cv\"]\n",
    "SYSTEMATICS = ['weightsFlux','weightsGenie','weightsReint'] \n",
    "PPFX        = ['weightsPPFX'] \n",
    "\n",
    "WEIGHTSLEE = [\"weightSpline\",\"weightTune\",\"weightSplineTimesTune\", \"leeweight\"]#, \"weightsGenie\", \"weightsFlux\", \"weightsReint\"]\n",
    "MCFVARS    = [\"mcf_nu_e\",\"mcf_lep_e\",\"mcf_actvol\",\"mcf_nmm\",\"mcf_nmp\",\"mcf_nem\",\"mcf_nep\",\"mcf_np0\",\"mcf_npp\",\n",
    "              \"mcf_npm\",\"mcf_mcshr_elec_etot\",\"mcf_pass_ccpi0\",\"mcf_pass_ncpi0\",\n",
    "              \"mcf_pass_ccnopi\",\"mcf_pass_ncnopi\",\"mcf_pass_cccpi\",\"mcf_pass_nccpi\"]\n",
    "\n",
    "\n",
    "    \n",
    "#make the list unique\n",
    "variables = list(set(variables))\n",
    "print(variables)\n",
    "\n",
    "\n",
    "nue_R1  = nue_R1.pandas.df(variables + WEIGHTS + SYSTEMATICS + PPFX, flatten=False)\n",
    "mc_R1   = mc_R1.pandas .df(variables + WEIGHTS + SYSTEMATICS + PPFX, flatten=False)\n",
    "nue_R3  = nue_R3.pandas.df(variables + WEIGHTS + SYSTEMATICS + PPFX, flatten=False)\n",
    "mc_R3   = mc_R3.pandas .df(variables + WEIGHTS + SYSTEMATICS + PPFX, flatten=False)\n"
   ]
  },
  {
   "cell_type": "code",
   "execution_count": 9,
   "metadata": {},
   "outputs": [],
   "source": [
    "df_v =  [mc_R1,nue_R1,mc_R3,nue_R3]\n",
    "#removeGenieTune = False\n",
    "for i,df in enumerate(df_v):\n",
    "    df.loc[ df['weightTune'] <= 0, 'weightTune' ] = 1.\n",
    "    df.loc[ df['weightTune'] == np.inf, 'weightTune' ] = 1.\n",
    "    df.loc[ df['weightTune'] > 100, 'weightTune' ] = 1.\n",
    "    df.loc[ np.isnan(df['weightTune']) == True, 'weightTune' ] = 1.    \n",
    "    \n",
    "    df.loc[ df['weightSplineTimesTune'] <= 0, 'weightSplineTimesTune' ] = 1.\n",
    "    df.loc[ df['weightSplineTimesTune'] == np.inf, 'weightSplineTimesTune' ] = 1.\n",
    "    df.loc[ df['weightSplineTimesTune'] > 100, 'weightSplineTimesTune' ] = 1.\n",
    "    df.loc[ np.isnan(df['weightSplineTimesTune']) == True, 'weightSplineTimesTune' ] = 1. \n",
    "\n",
    "    df.loc[ df['weightSpline'] <= 0, 'weightSpline' ] = 1.\n",
    "    df.loc[ df['weightSpline'] == np.inf, 'weightSpline' ] = 1.\n",
    "    df.loc[ df['weightSpline'] > 100, 'weightSpline' ] = 1.\n",
    "    df.loc[ np.isnan(df['weightSpline']) == True, 'weightSpline' ] = 1. \n",
    "    \n",
    "    df[ 'weightSplineTimesTuneTimesPPFX' ] = df[ 'weightSplineTimesTune' ]*df['ppfx_cv']\n",
    "    df[ 'weightSplineTimesPPFX' ]          = df[ 'weightSpline' ]*df['ppfx_cv']\n",
    "    \n",
    "    # Cray cray weight fix\n",
    "    for ievt in range(df.shape[0]):\n",
    "        reweightCondition = ((df['weightsGenie'].iloc[ievt] > 3000) | (df['weightsGenie'].iloc[ievt] < 0)  | \n",
    "                             (df['weightsGenie'].iloc[ievt] == np.inf))\n",
    "        df['weightsGenie'].iloc[ievt][ reweightCondition ] = 1.\n",
    "\n"
   ]
  },
  {
   "cell_type": "code",
   "execution_count": 10,
   "metadata": {},
   "outputs": [],
   "source": [
    "#for i,df in enumerate(df_v):\n",
    "#    df[ 'currentweight' ] = df['weightSplineTimesTuneTimesPPFX']"
   ]
  },
  {
   "cell_type": "code",
   "execution_count": 11,
   "metadata": {},
   "outputs": [],
   "source": [
    "\n",
    "#scaleFlat = 1\n",
    "\n",
    "#for i,df in enumerate(df_v):\n",
    "#    if scaleFlat == 1:\n",
    "#        df['weightSplineTimesTuneTimesPPFX'] = df[ 'currentweight' ] \n",
    "#        df.loc[ df['npi0'] > 0, 'weightSplineTimesTuneTimesPPFX' ] =  (df['weightSplineTimesTuneTimesPPFX'] * 0.759)\n",
    "#    elif scaleFlat == 2:\n",
    "#        df['weightSplineTimesTune'] = df[ 'currentweight' ] \n",
    "#        pi0emax = 0.6\n",
    "#        df.loc[ (df['pi0_e'] > 0.1) & (df['pi0_e'] < pi0emax) , 'weightSplineTimesTuneTimesPPFX'] = df['weightSplineTimesTuneTimesPPFX']*(1.-0.4*df['pi0_e'])\n",
    "#        df.loc[ (df['pi0_e'] > 0.1) & (df['pi0_e'] >= pi0emax), 'weightSplineTimesTuneTimesPPFX'] = df['weightSplineTimesTuneTimesPPFX']*(1.-0.4*pi0emax)\n",
    "#    elif scaleFlat == 0:\n",
    "#        df['weightSplineTimesTuneTimesPPFX'] = df[ 'currentweight' ] \n",
    "        \n"
   ]
  },
  {
   "cell_type": "code",
   "execution_count": 12,
   "metadata": {},
   "outputs": [],
   "source": [
    "for i,df in enumerate(df_v):\n",
    "    df.loc[ (df['nu_pdg'] == -12), 'category' ] = 11111\n",
    "    df.loc[ (df['nu_pdg'] ==  12), 'category' ] = 11110\n"
   ]
  },
  {
   "cell_type": "markdown",
   "metadata": {},
   "source": [
    "# Plotting part"
   ]
  },
  {
   "cell_type": "code",
   "execution_count": 13,
   "metadata": {},
   "outputs": [
    {
     "data": {
      "text/plain": [
       "<module 'plotter' from '/Users/elenag/Desktop/PlotterLEE/PELEE4/plotter.py'>"
      ]
     },
     "execution_count": 13,
     "metadata": {},
     "output_type": "execute_result"
    }
   ],
   "source": [
    "import plotter\n",
    "import importlib\n",
    "importlib.reload(plotter)\n"
   ]
  },
  {
   "cell_type": "code",
   "execution_count": 14,
   "metadata": {},
   "outputs": [
    {
     "name": "stdout",
     "output_type": "stream",
     "text": [
      "0.007712746470454397 0.01969124133585381\n"
     ]
    }
   ],
   "source": [
    "import plotter\n",
    "import importlib\n",
    "importlib.reload(plotter)\n",
    "scaling = 1\n",
    "\n",
    "SPLIT = 1.0\n",
    "#nueMC = mc_R1.query(\"(abs(nu_pdg) == 12 & ccnc == 0)\")\n",
    "\n",
    "nue_R1   = nue_R1.query(\"(abs(nu_pdg) == 12 & ccnc == 0 & true_nu_vtx_z < 1036.8 & true_nu_vtx_z > 0 & true_nu_vtx_y < 116.5 & true_nu_vtx_y > -116.5 & true_nu_vtx_x < \\\n",
    " 254.8 & true_nu_vtx_x > -1.55)\")\n",
    "nue_R3   = nue_R1.query(\"(abs(nu_pdg) == 12 & ccnc == 0 & true_nu_vtx_z < 1036.8 & true_nu_vtx_z > 0 & true_nu_vtx_y < 116.5 & true_nu_vtx_y > -116.5 & true_nu_vtx_x < \\\n",
    " 254.8 & true_nu_vtx_x > -1.55)\")\n",
    "\n",
    "\n",
    "data =  nue_R1.query(\"evt == 1802\") \n",
    "dirt =  nue_R1.query(\"evt == 1802\") \n",
    "ext  =  nue_R1.query(\"evt == 1802\") \n",
    "\n",
    "samples_R1 = {\n",
    "    \"mc\"  : mc_R1,\n",
    "    \"nue\" : nue_R1,\n",
    "    \"data\": data,\n",
    "    \"dirt\": dirt,\n",
    "    \"ext\" : ext\n",
    "}\n",
    "\n",
    "\n",
    "samples_R3 = {\n",
    "    \"mc\"  : mc_R3,\n",
    "    \"nue\" : nue_R3,\n",
    "    \"data\": data,\n",
    "    \"dirt\": dirt,\n",
    "    \"ext\" : ext\n",
    "}\n",
    "\n",
    "\n",
    "pot_R1       = 2e+20\n",
    "mcratio_R1   = pot_R1/2.32135e+21 \n",
    "nueratio_R1  = pot_R1/2.59311e+22 \n",
    "dirtratio_R1 = pot_R1/1.42143e+21\n",
    "extratio_R1  = 5268051/9199232.74 #partial file: 2347745.0/4015961.99\n",
    "\n",
    "\n",
    "pot_R3        = 5.0e20 \n",
    "mcratio_R3    = pot_R3/1.99076e+21\n",
    "nueratio_R3   = pot_R3/2.5392e+22 \n",
    "dirtratio_R3  = pot_R3/1.03226e+21\n",
    "extratio_R3   = 10363728.0/32878305.25 \n",
    "\n",
    "print(nueratio_R1, nueratio_R3)\n",
    "\n",
    "scaling    = 1\n",
    "SPLIT      = 1.0\n",
    "scalingEXT = 0.98\n",
    "scalingDRT = 0.35\n",
    "\n",
    "weights_R1 = {\n",
    "            \"mc\"  : mcratio_R1   * SPLIT * scaling,   \n",
    "            \"nue\" : nueratio_R1  * SPLIT * scaling,  \n",
    "            \"ext\" : extratio_R1  * SPLIT * scalingEXT, \n",
    "            \"dirt\": dirtratio_R1 * SPLIT * scalingDRT, \n",
    "}\n",
    "my_plotter_R1 = plotter.Plotter(samples_R1, weights_R1, pot=pot_R1)\n",
    "\n",
    "\n",
    "weights_R3 = {\n",
    "            \"mc\"  : mcratio_R3   * SPLIT * scaling,   \n",
    "            \"nue\" : nueratio_R3  * SPLIT * scaling,  \n",
    "            \"ext\" : extratio_R3  * SPLIT * scalingEXT, \n",
    "            \"dirt\": dirtratio_R3 * SPLIT * scalingDRT, \n",
    "}\n",
    "my_plotter_R3 = plotter.Plotter(samples_R3, weights_R3, pot=pot_R3)\n"
   ]
  },
  {
   "cell_type": "code",
   "execution_count": 18,
   "metadata": {},
   "outputs": [],
   "source": [
    "QUERY = 'abs(nu_pdg) == 12'\n",
    "\n",
    "VARIABLE, BINS, RANGE, XTIT = 'nproton', 8, (0.0,8.), r\"n protons\"\n",
    "VARIABLE, BINS, RANGE, XTIT = 'nu_e', 100, (0.0,20.), r\"Reconstructed Energy [GeV]\""
   ]
  },
  {
   "cell_type": "code",
   "execution_count": 16,
   "metadata": {},
   "outputs": [
    {
     "name": "stdout",
     "output_type": "stream",
     "text": [
      "abs(nu_pdg) == 12& nu_e <= 20 & nu_e >= 0 \n",
      " ~(abs(nu_pdg) == 12 & ccnc == 0) \n",
      " None \n",
      " False\n"
     ]
    },
    {
     "name": "stderr",
     "output_type": "stream",
     "text": [
      "/Users/elenag/Desktop/PlotterLEE/PELEE4/plotter.py:454: RuntimeWarning: divide by zero encountered in true_divide\n",
      "  ERR_STAT = 3. / ( 1./data + 2./mc )\n",
      "/Users/elenag/Desktop/PlotterLEE/PELEE4/plotter.py:2161: RuntimeWarning: divide by zero encountered in true_divide\n",
      "  ax.errorbar(bincenters, n_data / n_tot,\n"
     ]
    },
    {
     "data": {
      "image/png": "[encoded data removed]",
      "text/plain": [
       "<Figure size 576x504 with 2 Axes>"
      ]
     },
     "metadata": {
      "needs_background": "light"
     },
     "output_type": "display_data"
    }
   ],
   "source": [
    "sysBool = False\n",
    "import matplotlib.pyplot as plt\n",
    "import matplotlib\n",
    "\n",
    "fig, ax1, ax2, label, puppa = my_plotter_R3.plot_variable(\n",
    "    VARIABLE,   \n",
    "    query= QUERY ,#BDTCQ,#NPLCUTQ, #QUERY, #'nslice == 1', #QUERY, #+\" and category != 111\",\n",
    "    kind=\"event_category\",\n",
    "    draw_sys=sysBool,\n",
    "    draw_data=False,\n",
    "    draw_geoSys = sysBool, \n",
    "    stacksort=3,\n",
    "    genieweight = \"weightSplineTimesTuneTimesPPFX\", #\"weightSplineTimesTuneTimesPPFX\", \n",
    "    title=XTIT,\n",
    "    bins=BINS,\n",
    "    range=RANGE #,\n",
    ")[0:5]\n",
    "\n",
    "\n",
    "#ax1.scatter(midBin,label[0][1])\n",
    "midBin = (label[1][1:] + label[1][:-1])/2.\n",
    "rate_R3 = label[0][1]"
   ]
  },
  {
   "cell_type": "code",
   "execution_count": 17,
   "metadata": {},
   "outputs": [
    {
     "name": "stdout",
     "output_type": "stream",
     "text": [
      "abs(nu_pdg) == 12& nu_e <= 20 & nu_e >= 0 \n",
      " ~(abs(nu_pdg) == 12 & ccnc == 0) \n",
      " None \n",
      " False\n"
     ]
    },
    {
     "name": "stderr",
     "output_type": "stream",
     "text": [
      "/Users/elenag/Desktop/PlotterLEE/PELEE4/plotter.py:454: RuntimeWarning: divide by zero encountered in true_divide\n",
      "  ERR_STAT = 3. / ( 1./data + 2./mc )\n",
      "/Users/elenag/Desktop/PlotterLEE/PELEE4/plotter.py:2161: RuntimeWarning: divide by zero encountered in true_divide\n",
      "  ax.errorbar(bincenters, n_data / n_tot,\n"
     ]
    },
    {
     "data": {
      "image/png": "[encoded data removed]",
      "text/plain": [
       "<Figure size 576x504 with 2 Axes>"
      ]
     },
     "metadata": {
      "needs_background": "light"
     },
     "output_type": "display_data"
    }
   ],
   "source": [
    "fig, ax1, ax2, label, puppa = my_plotter_R1.plot_variable(\n",
    "    VARIABLE,   \n",
    "    query= QUERY ,#BDTCQ,#NPLCUTQ, #QUERY, #'nslice == 1', #QUERY, #+\" and category != 111\",\n",
    "    kind=\"event_category\",\n",
    "    draw_sys=sysBool,\n",
    "    draw_data=False,\n",
    "    draw_geoSys = sysBool, \n",
    "    stacksort=3,\n",
    "    genieweight = \"weightSplineTimesTuneTimesPPFX\", #\"weightSplineTimesTuneTimesPPFX\", \n",
    "    title=XTIT,\n",
    "    bins=BINS,\n",
    "    range=RANGE #,\n",
    ")[0:5]\n",
    "\n",
    "rate_R1 = label[0][1]"
   ]
  },
  {
   "cell_type": "code",
   "execution_count": null,
   "metadata": {},
   "outputs": [],
   "source": [
    "# Super Spherical Cow\n",
    "# N Events = Flux [/cm2/sec]* XS [cm2] * Targets\n",
    "def solveForXS(Flux_nu_FHC,Flux_nu_RHC,Flux_antinu_FHC,Flux_antinu_RHC,Rate_FHC,Rate_RHC):\n",
    "    a = np.array([[Flux_nu_FHC, Flux_nu_RHC], [Flux_antinu_FHC, Flux_antinu_RHC]])\n",
    "    b = np.array([Rate_FHC, Rate_RHC])\n",
    "    from scipy import linalg\n",
    "    x = linalg.solve(a, b)\n",
    "    return(x)\n",
    "\n"
   ]
  },
  {
   "cell_type": "code",
   "execution_count": null,
   "metadata": {},
   "outputs": [],
   "source": [
    "def importFlux():\n",
    "    fhcFile = \"/Users/elenag/Desktop/PlotterLEE/NuMIFlux/NuMIFluxBeamVar/BeamlineGeometryVariations/FHC/output_uboone_fhc_run0_set1.root\"\n",
    "    rhcFile = \"/Users/elenag/Desktop/PlotterLEE/NuMIFlux/NuMIFluxBeamVar/BeamlineGeometryVariations/RHC/output_uboone_rhc_run0_set1.root\"\n",
    "    fhcHistoNue     = uproot.open(fhcFile)['nue/Detsmear/nue_CV_AV_TPC_5MeV_bin']\n",
    "    rhcHistoNue     = uproot.open(rhcFile)['nue/Detsmear/nue_CV_AV_TPC_5MeV_bin']\n",
    "    fhcHistoNueBar  = uproot.open(fhcFile)['nuebar/Detsmear/nuebar_CV_AV_TPC_5MeV_bin']\n",
    "    rhcHistoNueBar  = uproot.open(rhcFile)['nuebar/Detsmear/nuebar_CV_AV_TPC_5MeV_bin']\n",
    "    potRHC_MC = 465.\n",
    "    potFHC_MC = 491.\n",
    "    #print(rhcHistoNue.values[0], rhcHistoNueBar.bins[0])\n",
    "    #ReBin the bins\n",
    "    v = np.arange(0,4000)\n",
    "    v = np.hstack([v[::40],v[39::40]])\n",
    "    v.sort()\n",
    "    \n",
    "    # Normalized to MC POT\n",
    "    valuesRHC_Nue    = (rhcHistoNue.values.reshape((100,40))).sum(axis=1)/potRHC_MC\n",
    "    valuesRHC_NueBar = (rhcHistoNueBar.values.reshape((100,40))).sum(axis=1)/potRHC_MC\n",
    "    valuesFHC_Nue    = (fhcHistoNue.values.reshape((100,40))).sum(axis=1)/potFHC_MC\n",
    "    valuesFHC_NueBar = (fhcHistoNueBar.values.reshape((100,40))).sum(axis=1)/potFHC_MC\n",
    "\n",
    "    #Same Bins for all histograms\n",
    "    fluxBins = rhcHistoNue.bins[v,[0,1]*100].reshape((100,2))\n",
    "    return(fluxBins, valuesFHC_Nue, valuesFHC_NueBar, valuesRHC_Nue, valuesRHC_NueBar)\n",
    "\n",
    "fluxTuple = importFlux()"
   ]
  },
  {
   "cell_type": "code",
   "execution_count": null,
   "metadata": {},
   "outputs": [],
   "source": [
    "fluxB            = fluxTuple[0]\n",
    "valuesFHC_Nue    = fluxTuple[1]\n",
    "valuesFHC_NueBar = fluxTuple[2]\n",
    "valuesRHC_Nue    = fluxTuple[3]\n",
    "valuesRHC_NueBar = fluxTuple[4]\n",
    "\n",
    "print(rate_R1.shape,rate_R3.shape,midBin.shape)\n",
    "print(fluxB.shape,valuesFHC_Nue.shape,valuesFHC_NueBar.shape)\n",
    "print(fluxB.shape,valuesRHC_Nue.shape,valuesRHC_NueBar.shape)\n",
    "\n",
    "\n",
    "for i in range(99):\n",
    "    if valuesFHC_Nue[i] == 0:\n",
    "        break\n",
    "    print(i, solveForXS(valuesFHC_Nue[i],valuesRHC_Nue[i],valuesFHC_NueBar[i],valuesRHC_NueBar[i],rate_R1[i],rate_R3[i]))"
   ]
  },
  {
   "cell_type": "code",
   "execution_count": null,
   "metadata": {},
   "outputs": [],
   "source": []
  }
 ],
 "metadata": {
  "accelerator": "GPU",
  "colab": {
   "name": "Plotter.ipynb",
   "provenance": [],
   "version": "0.3.2"
  },
  "kernelspec": {
   "display_name": "Python 3",
   "language": "python",
   "name": "python3"
  },
  "language_info": {
   "codemirror_mode": {
    "name": "ipython",
    "version": 3
   },
   "file_extension": ".py",
   "mimetype": "text/x-python",
   "name": "python",
   "nbconvert_exporter": "python",
   "pygments_lexer": "ipython3",
   "version": "3.7.6"
  }
 },
 "nbformat": 4,
 "nbformat_minor": 2
}
