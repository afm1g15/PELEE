{
 "cells": [
  {
   "cell_type": "code",
   "execution_count": null,
   "metadata": {},
   "outputs": [],
   "source": [
    "import sys\n",
    "import localSettings as ls\n",
    "print(ls.main_path)"
   ]
  },
  {
   "cell_type": "code",
   "execution_count": null,
   "metadata": {
    "colab": {
     "base_uri": "https://localhost:8080/",
     "height": 34
    },
    "colab_type": "code",
    "executionInfo": {
     "elapsed": 517,
     "status": "ok",
     "timestamp": 1560556807118,
     "user": {
      "displayName": "Stefano Roberto Soleti",
      "photoUrl": "https://lh4.googleusercontent.com/-hfLpspJu4Q0/AAAAAAAAAAI/AAAAAAAABmA/2kE4rtj8paU/s64/photo.jpg",
      "userId": "10372352518008961760"
     },
     "user_tz": 240
    },
    "id": "6qsD0G-yYJ9K",
    "outputId": "5d52a3ec-50be-44fc-da44-3c0593e98bc6"
   },
   "outputs": [],
   "source": [
    "main_path = ls.main_path\n",
    "sys.path.append(main_path)"
   ]
  },
  {
   "cell_type": "code",
   "execution_count": null,
   "metadata": {
    "colab": {},
    "colab_type": "code",
    "id": "xGqTJ5JgaDsx"
   },
   "outputs": [],
   "source": [
    "import timedependence\n",
    "import importlib\n",
    "importlib.reload(timedependence)\n",
    "import uproot\n",
    "import matplotlib.pylab as pylab\n",
    "import numpy as np\n",
    "import pandas as pd\n",
    "import math\n",
    "from sklearn.model_selection import train_test_split\n",
    "import pickle\n",
    "import xgboost as xgb\n",
    "import nue_booster \n",
    "importlib.reload(nue_booster)\n",
    "import awkward\n",
    "\n",
    "params = {\n",
    "    'axes.labelsize': 'x-large',\n",
    "    'axes.titlesize': 'x-large',\n",
    "    'xtick.labelsize': 'x-large',\n",
    "    'ytick.labelsize': 'x-large'\n",
    "}\n",
    "pylab.rcParams.update(params)"
   ]
  },
  {
   "cell_type": "code",
   "execution_count": null,
   "metadata": {},
   "outputs": [],
   "source": [
    "# load nue variables\n",
    "NUEVARS = False\n",
    "# USING BDT?\n",
    "USEBDT = False"
   ]
  },
  {
   "cell_type": "code",
   "execution_count": null,
   "metadata": {
    "colab": {},
    "colab_type": "code",
    "id": "iwoCIaigYJ9N"
   },
   "outputs": [],
   "source": [
    "fold = \"nuselection\"\n",
    "tree = \"NeutrinoSelectionFilter\"\n",
    "\n",
    "urON = uproot.open(ls.ONBEAM_NUMU_PATH)[\"nuselection\"][tree] # numus\n",
    "#urON = uproot.open(ls.ONBEAM_FAR_PATH)[\"nuselection\"][tree]\n",
    "urOF = uproot.open(ls.OFFBEAM_PATH)[\"nuselection\"][tree]\n",
    "\n",
    "variables_nuepresl = [\n",
    "    \"_opfilter_pe_beam\", \"_opfilter_pe_veto\", # did the event pass the common optical filter (for MC only)\n",
    "    \"n_showers_contained\",\"selected\",\"trk_llr_pid_score_v\",\"trk_id\",\n",
    "    \"run\", \"sub\", \"evt\", \n",
    "    \"slnunhits\", \"slnhits\", \n",
    "   \"tksh_distance\", \n",
    "    \"shr_energy_tot_cali\", \"nslice\", \n",
    "]\n",
    "\n",
    "variables = [\n",
    "    \"shr_dedx_Y\", \"shr_bkt_pdg\", \"p\", \"pt\", \"selected\", \"nu_pdg\", \"shr_theta\",\n",
    "    \"slpdg\", \"trk_score_v\", \"backtracked_pdg\", # modified from shr_score_v\n",
    "    \"shr_pfp_id_v\", \"category\",\n",
    "    \"shr_tkfit_dedx_U\",\"shr_tkfit_dedx_V\",\"shr_tkfit_dedx_Y\",\n",
    "    \"shr_tkfit_gap10_dedx_U\",\"shr_tkfit_gap10_dedx_V\",\"shr_tkfit_gap10_dedx_Y\",\n",
    "    \"shr_tkfit_2cm_dedx_U\",\"shr_tkfit_2cm_dedx_V\",\"shr_tkfit_2cm_dedx_Y\",\n",
    "    #\"shr_energy_tot\", \n",
    "    \"trk_energy_tot\", \"shr_hits_tot\", \"ccnc\", \"trk_chipr\",\n",
    "    \"trk_bkt_pdg\", \"hits_ratio\", \"n_tracks_contained\", \n",
    "    \"crtveto\",\"crthitpe\",\"_closestNuCosmicDist\",\n",
    "    \"NeutrinoEnergy2\",\n",
    "    #\"run\",\"sub\",\"evt\",\n",
    "    \"CosmicIP\",\"CosmicDirAll3D\",\"CosmicIPAll3D\",\n",
    "    \"nu_flashmatch_score\",\"best_cosmic_flashmatch_score\",\"best_obviouscosmic_flashmatch_score\",\n",
    "    #\"trk_pfp_id\",\n",
    "    \"shrmoliereavg\",\"shrmoliererms\",\n",
    "    \"shr_tkfit_npointsvalid\",\"shr_tkfit_npoints\", # fitted vs. all hits for shower\n",
    "    \"shrclusfrac0\",\"shrclusfrac1\",\"shrclusfrac2\", # track-fitted hits / all hits\n",
    "    \"trkshrhitdist2\", # \"trkshrhitdist0\",\"trkshrhitdist1\", distance between track and shower in 2D\n",
    "    \"shrsubclusters0\",\"shrsubclusters1\",\"shrsubclusters2\", # number of sub-clusters in shower\n",
    "    \"trk_llr_pid_score_v\", # trk-PID score\n",
    "    #\"pi0_energy2_Y\", # pi0 tagger variables\n",
    "    \"_opfilter_pe_beam\", \"_opfilter_pe_veto\", # did the event pass the common optical filter (for MC only)\n",
    "    \"reco_nu_vtx_sce_x\",\"reco_nu_vtx_sce_y\",\"reco_nu_vtx_sce_z\",\n",
    "    \"nproton\", \"nu_e\", \"n_showers_contained\", \"shr_distance\", \"trk_distance\",\n",
    "    \"hits_y\", \"shr_pz\", \"shr_energy\", \"shr_dedx_U\", \"shr_dedx_V\", \"shr_phi\", \"trk_phi\", \"trk_theta\",\n",
    "    \"shr_tkfit_dedx_U\", \"shr_tkfit_dedx_V\", \"run\", \"sub\", \"evt\", \"nproton\", \"trk_pid_chipr_v\",\n",
    "    \"trk_len\", \"mc_pdg\", \"slnunhits\", \"slnhits\", \"shr_score\", \"trk_score\", \"trk_hits_tot\",\n",
    "    \"true_e_visible\", \"matched_E\", \"shr_bkt_E\", \"trk_bkt_E\", \"trk_energy\", \"tksh_distance\", \"tksh_angle\",\n",
    "    \"npi0\",\"npion\",\"pion_e\",\"muon_e\",\"pi0truth_elec_etot\",\n",
    "    \"pi0_e\", \"shr_energy_tot_cali\", \"shr_dedx_Y_cali\", \"evnunhits\", \"nslice\", \"interaction\",\n",
    "    \"slclustfrac\", \"reco_nu_vtx_x\", \"reco_nu_vtx_y\", \"reco_nu_vtx_z\",\"contained_fraction\",\n",
    "    \"secondshower_Y_nhit\",\"secondshower_Y_vtxdist\",\"secondshower_Y_dot\",\"secondshower_Y_dir\",\"shrclusdir2\",\n",
    "    \"shr_tkfit_nhits_Y\",\"shr_tkfit_nhits_U\",\"shr_tkfit_nhits_V\",\n",
    "    \"shr_tkfit_2cm_nhits_Y\",\"shr_tkfit_2cm_nhits_U\",\"shr_tkfit_2cm_nhits_V\",\n",
    "    \"shr_tkfit_gap10_nhits_Y\",\"shr_tkfit_gap10_nhits_U\",\"shr_tkfit_gap10_nhits_V\",\n",
    "    # pi0 variables\n",
    "    \"pi0_radlen1\",\"pi0_radlen2\",\"pi0_dot1\",\"pi0_dot2\",\"pi0_energy1_Y\",\"pi0_energy2_Y\",\n",
    "    \"pi0_dedx1_fit_Y\",\"pi0_dedx2_fit_Y\",\"pi0_shrscore1\",\"pi0_shrscore2\",\"pi0_gammadot\",\n",
    "    \"pi0_dedx1_fit_V\",\"pi0_dedx2_fit_V\",\"pi0_dedx1_fit_U\",\"pi0_dedx2_fit_U\",\n",
    "    \"pi0_mass_Y\",\"pi0_mass_V\",\"pi0_mass_U\",\n",
    "    \"pi0_dir2_x\",\"pi0_dir2_y\",\"pi0_dir2_z\",\"pi0_dir1_x\",\"pi0_dir1_y\",\"pi0_dir1_z\", \n",
    "]\n",
    "\n",
    "variables_pi0 = [\n",
    "    \"run\",'sub','evt','nslice',\n",
    "    # pi0 variables\n",
    "    \"pi0_radlen1\",\"pi0_radlen2\",\"pi0_dot1\",\"pi0_dot2\",\"pi0_energy1_Y\",\"pi0_energy2_Y\",\n",
    "    \"pi0_dedx1_fit_Y\",\"pi0_dedx2_fit_Y\",\"pi0_shrscore1\",\"pi0_shrscore2\",\"pi0_gammadot\",\n",
    "    \"pi0_dedx1_fit_V\",\"pi0_dedx2_fit_V\",\"pi0_dedx1_fit_U\",\"pi0_dedx2_fit_U\",\n",
    "    \"pi0_mass_Y\",\"pi0_mass_V\",\"pi0_mass_U\",\n",
    "    \"pi0_dir2_x\",\"pi0_dir2_y\",\"pi0_dir2_z\",\"pi0_dir1_x\",\"pi0_dir1_y\",\"pi0_dir1_z\",\n",
    "    'reco_nu_vtx_sce_x','reco_nu_vtx_sce_y','reco_nu_vtx_sce_z',\n",
    "    'NeutrinoEnergy2','NeutrinoEnergy1','NeutrinoEnergy0'\n",
    "]\n",
    "\n",
    "#make the list unique\n",
    "variables = list(set(variables))\n",
    "#print(variables)\n",
    "\n",
    "variables.remove(\"_closestNuCosmicDist\")\n",
    "variables.remove(\"crtveto\")\n",
    "variables.remove(\"crthitpe\")\n",
    "\n",
    "dfON = urON.pandas.df(variables_pi0, flatten=False)\n",
    "dfOF = urOF.pandas.df(variables_pi0, flatten=False)\n",
    "\n",
    "if (NUEVARS):\n",
    "\n",
    "    uproot_v = [urON,urOF]\n",
    "    df_v = [dfON,dfOF]\n",
    "    for i,df in enumerate(df_v):\n",
    "        up = uproot_v[i]\n",
    "        trk_llr_pid_v = up.array('trk_llr_pid_score_v')\n",
    "        #trk_calo_energy_y_v = up.array('trk_calo_energy_y_v')\n",
    "        trk_id = up.array('trk_id')-1 # I think we need this -1 to get the right result\n",
    "        trk_llr_pid_v_sel = awkward.fromiter([pidv[tid] if tid<len(pidv) else 9999. for pidv,tid in zip(trk_llr_pid_v,trk_id)])\n",
    "        #trk_calo_energy_y_sel = awkward.fromiter([pidv[tid] if tid<len(pidv) else 9999. for pidv,tid in zip(trk_calo_energy_y_v,trk_id)])\n",
    "        df['trkpid'] = trk_llr_pid_v_sel\n",
    "        #df['trackcaloenergy'] = trk_calo_energy_y_sel"
   ]
  },
  {
   "cell_type": "code",
   "execution_count": null,
   "metadata": {},
   "outputs": [],
   "source": [
    "# how to get the LLR-PID value for the \"track candidate\" (proton for nue selection, muon for numu)\n",
    "# can be done for any variable\n",
    "# code from Giuseppe!\n",
    "\n",
    "INTERCEPT = 0.0\n",
    "SLOPE = 0.83\n",
    "\n",
    "df_v = [dfON,dfOF]\n",
    "\n",
    "if (NUEVARS):\n",
    "\n",
    "    for i,df in enumerate(df_v):\n",
    "        df['subcluster'] = df['shrsubclusters0'] + df['shrsubclusters1'] + df['shrsubclusters2']\n",
    "        df['trkfit'] = df['shr_tkfit_npointsvalid'] / df['shr_tkfit_npoints']\n",
    "        # and the 2d angle difference\n",
    "        df['anglediff_Y'] = np.abs(df['secondshower_Y_dir']-df['shrclusdir2'])\n",
    "        df['shr_tkfit_nhits_tot'] = (df['shr_tkfit_nhits_Y']+df['shr_tkfit_nhits_U']+df['shr_tkfit_nhits_V'])\n",
    "        df['shr_tkfit_dedx_avg'] = (df['shr_tkfit_nhits_Y']*df['shr_tkfit_dedx_Y'] + df['shr_tkfit_nhits_U']*df['shr_tkfit_dedx_U'] + df['shr_tkfit_nhits_V']*df['shr_tkfit_dedx_V'])/df['shr_tkfit_nhits_tot']\n",
    "        df['shr_tkfit_2cm_nhits_tot'] = (df['shr_tkfit_2cm_nhits_Y']+df['shr_tkfit_2cm_nhits_U']+df['shr_tkfit_2cm_nhits_V'])\n",
    "        df['shr_tkfit_2cm_dedx_avg'] = (df['shr_tkfit_2cm_nhits_Y']*df['shr_tkfit_2cm_dedx_Y'] + df['shr_tkfit_2cm_nhits_U']*df['shr_tkfit_2cm_dedx_U'] + df['shr_tkfit_2cm_nhits_V']*df['shr_tkfit_2cm_dedx_V'])/df['shr_tkfit_2cm_nhits_tot']\n",
    "        df['shr_tkfit_gap10_nhits_tot'] = (df['shr_tkfit_gap10_nhits_Y']+df['shr_tkfit_gap10_nhits_U']+df['shr_tkfit_gap10_nhits_V'])\n",
    "        df['shr_tkfit_gap10_dedx_avg'] = (df['shr_tkfit_gap10_nhits_Y']*df['shr_tkfit_gap10_dedx_Y'] + df['shr_tkfit_gap10_nhits_U']*df['shr_tkfit_gap10_dedx_U'] + df['shr_tkfit_gap10_nhits_V']*df['shr_tkfit_gap10_dedx_V'])/df['shr_tkfit_gap10_nhits_tot']\n",
    "        df.loc[:,'shr_tkfit_dedx_max'] = df['shr_tkfit_dedx_Y']\n",
    "        df.loc[(df['shr_tkfit_nhits_U']>df['shr_tkfit_nhits_Y']),'shr_tkfit_dedx_max'] = df['shr_tkfit_dedx_U']\n",
    "        df.loc[(df['shr_tkfit_nhits_V']>df['shr_tkfit_nhits_Y']) & (df['shr_tkfit_nhits_V']>df['shr_tkfit_nhits_U']),'shr_tkfit_dedx_max'] = df['shr_tkfit_dedx_V']\n",
    "        df.loc[df['secondshower_Y_dot'].isna(),'secondshower_Y_dot'] = 0.0\n",
    "        df[\"reco_e\"] = (df[\"shr_energy_tot_cali\"] + INTERCEPT) / SLOPE + df[\"trk_energy_tot\"]\n",
    "        df[\"reco_e_qe\"] = 0.938*((df[\"shr_energy\"]+INTERCEPT)/SLOPE)/(0.938 - ((df[\"shr_energy\"]+INTERCEPT)/SLOPE)*(1-np.cos(df[\"shr_theta\"])))\n",
    "        df[\"reco_e_rqe\"] = df[\"reco_e_qe\"]/df[\"reco_e\"]\n",
    "        df[\"bnbdata\"] = np.zeros_like(df[\"shr_energy\"])\n",
    "        df[\"extdata\"] = np.zeros_like(df[\"shr_energy\"])\n",
    "        df.loc[(df['category']!=1)&(df['category']!=10)&(df['category']!=11)&(df['category']!=111)&(df['slnunhits']/df['slnhits']<0.2), 'category'] = 4"
   ]
  },
  {
   "cell_type": "code",
   "execution_count": null,
   "metadata": {},
   "outputs": [],
   "source": [
    "df_v = [dfON,dfOF]\n",
    "for i,df in enumerate(df_v):\n",
    "    df[\"bnbdata\"] = np.zeros_like(df[\"run\"])\n",
    "    df[\"extdata\"] = np.zeros_like(df[\"run\"])\n",
    "dfON['bnbdata'] = np.ones_like(dfON[\"run\"])\n",
    "dfOF['extdata'] = np.ones_like(dfOF[\"run\"])"
   ]
  },
  {
   "cell_type": "code",
   "execution_count": null,
   "metadata": {},
   "outputs": [],
   "source": [
    "# variables to be trained on\n",
    "TRAINVAR = [\"shr_score\",\"tksh_distance\",\"tksh_angle\",\n",
    "            \"shr_tkfit_dedx_max\",\n",
    "            \"trkfit\",\"trkpid\",\n",
    "            \"subcluster\",\"shrmoliereavg\",\n",
    "            \"trkshrhitdist2\",\"hits_ratio\",\n",
    "            \"secondshower_Y_nhit\",\"secondshower_Y_vtxdist\",\"secondshower_Y_dot\",\"anglediff_Y\",\n",
    "            \"CosmicIPAll3D\",\"CosmicDirAll3D\"]"
   ]
  },
  {
   "cell_type": "code",
   "execution_count": null,
   "metadata": {
    "colab": {},
    "colab_type": "code",
    "id": "XcI43ileYJ9P"
   },
   "outputs": [],
   "source": [
    "LABELS =  ['pi0','nonpi0']\n",
    "#LABELS =  [\"bkg\"]\n",
    "\n",
    "if (USEBDT == True):\n",
    "    for label, bkg_query in zip(LABELS, nue_booster.bkg_queries):\n",
    "        with open(ls.pickle_path+'booster_%s_0304_extnumi.pickle' % label, 'rb') as booster_file:\n",
    "            booster = pickle.load(booster_file)\n",
    "\n",
    "            dfOF[label+\"_score\"] = booster.predict(\n",
    "                xgb.DMatrix(dfOF[TRAINVAR]),\n",
    "                ntree_limit=booster.best_iteration)\n",
    "            dfON[label+\"_score\"] = booster.predict(\n",
    "                xgb.DMatrix(dfON[TRAINVAR]),\n",
    "                ntree_limit=booster.best_iteration)"
   ]
  },
  {
   "cell_type": "code",
   "execution_count": null,
   "metadata": {},
   "outputs": [],
   "source": [
    "import timedependence\n",
    "import importlib\n",
    "importlib.reload(timedependence)"
   ]
  },
  {
   "cell_type": "code",
   "execution_count": null,
   "metadata": {
    "colab": {},
    "colab_type": "code",
    "id": "_pamv0W8YJ9R"
   },
   "outputs": [],
   "source": [
    "# nue files\n",
    "#timeplotter = timedependence.TimePlotter(ls.ONBEAM_FAR_POT,ls.OFFBEAM_POT,dfON,dfOF)\n",
    "# pi0 / numu files\n",
    "timeplotter = timedependence.TimePlotter(ls.ONBEAM_NUMU_POT,ls.OFFBEAM_POT,dfON,dfOF)"
   ]
  },
  {
   "cell_type": "code",
   "execution_count": null,
   "metadata": {},
   "outputs": [],
   "source": [
    "import unblinding_far_sideband\n",
    "import importlib\n",
    "importlib.reload(unblinding_far_sideband)"
   ]
  },
  {
   "cell_type": "code",
   "execution_count": null,
   "metadata": {},
   "outputs": [],
   "source": [
    "import matplotlib.pyplot as plt\n",
    "plt.rcParams.update({'font.size': 14})"
   ]
  },
  {
   "cell_type": "code",
   "execution_count": null,
   "metadata": {},
   "outputs": [],
   "source": [
    "from scipy.optimize import curve_fit"
   ]
  },
  {
   "cell_type": "code",
   "execution_count": null,
   "metadata": {},
   "outputs": [],
   "source": [
    "def line(x,s,b):\n",
    "    return x*s + b"
   ]
  },
  {
   "cell_type": "code",
   "execution_count": null,
   "metadata": {},
   "outputs": [],
   "source": [
    "#print (PRESQ_twoplus_showers)\n",
    "#QUERY = unblinding_far_sideband.PRESQ_twoplus_showers\n",
    "#QUERY =  unblinding_far_sideband.NPPRESEQ_one_shower \n",
    "#QUERY = unblinding_far_sideband.NPVLCUTQ\n",
    "#QUERY = unblinding_far_sideband.stages_queries[3]\n",
    "#QUERY = unblinding_far_sideband.PI0SEL\n",
    "QUERY = 'nslice == 1'\n",
    "\n",
    "\n",
    "#QUERY += ' and n_tracks_contained == 1 and n_showers_contained == 1'\n",
    "\n",
    "#QUERY += ' and  n_tracks_contained == 1 and reco_e > 0.9'\n",
    "\n",
    "# two-shower selection\n",
    "#QUERY += ' and n_showers_contained == 2 and trkpid > 0.2'\n",
    "\n",
    "\n",
    "#QUERYGEN = '(1.05 < reco_e < 2.05) and nslice == 1 and selected == 1  and shr_energy_tot_cali > 0.07'\n",
    "#QUERYGEN += ' and n_tracks_contained != 1 and n_showers_contained == 1'\n",
    "#QUERY = QUERYGEN\n",
    "\n",
    "#QUERY += ' and CosmicIPAll3D > 10.'\n",
    "#QUERY += ' and trkpid < 0.25'\n",
    "#QUERY += ' and hits_ratio > 0.5'\n",
    "#QUERY += ' and trkfit < 0.90'\n",
    "#QUERY += ' and tksh_distance < 10.0'\n",
    "#QUERY += ' and tksh_angle > -0.9'\n",
    "\n",
    "\n",
    "#QUERY += ' and n_tracks_contained == 1 and n_showers_contained == 1'\n",
    "\n",
    "#QUERY = '(1.05 < reco_e < 2.05) and nslice == 1 and selected == 1  and shr_energy_tot_cali > 0.07 and ( (_opfilter_pe_beam > 0 and _opfilter_pe_veto < 20) or bnbdata == 1 or extdata == 1) and trkfit < 0.90'\n",
    "\n",
    "#QUERY = 'nslice == 1 and selected == 1 and shr_energy_tot_cali > 0.07 and ( (_opfilter_pe_beam > 0 and _opfilter_pe_veto < 20) or bnbdata == 1 or extdata == 1) and n_tracks_contained > 0 and CosmicIPAll3D > 10. and hits_ratio > 0.5 and tksh_distance < 10.0 and tksh_angle > -0.9'\n",
    "\n",
    "#QUERY += ' and reco_nu_vtx_sce_x > 150.'\n",
    "\n",
    "print (QUERY)\n",
    "\n",
    "#TITLE = '1eNp pre-selection tracks != 1 and 1-shower'\n",
    "#TITLE += '\\nadding cut : NONE'\n",
    "\n",
    "ONBEAM = True"
   ]
  },
  {
   "cell_type": "code",
   "execution_count": null,
   "metadata": {
    "scrolled": true
   },
   "outputs": [],
   "source": [
    "RUN_BOUNDS = np.array([4952,7770,8317,13696,18960])\n",
    "RUN_BOUNDS = np.array([10])\n",
    "\n",
    "#run_v, ONpass_v, ONpass_e = timeplotter.QueryByRun(RUN_BOUNDS,QUERY,ONBEAMONLY=True)#,RMIN=13700,RMAX=18000)\n",
    "run_v, pass_v, pass_e = timeplotter.QueryByRun(RUN_BOUNDS,QUERY,ONBEAMONLY=False,POTmin=10)#,RMIN=13700,RMAX=18000)"
   ]
  },
  {
   "cell_type": "code",
   "execution_count": null,
   "metadata": {},
   "outputs": [],
   "source": [
    "fig = plt.figure(figsize=(12,4))\n",
    "#plt.errorbar(run_v[:-1],ONpass_v[:-1],yerr=ONpass_e[:-1],fmt='o',color='r',label='on-beam')\n",
    "plt.errorbar(run_v,pass_v,yerr=pass_e,fmt='o',color='b',label='(on-off) beam')\n",
    "plt.legend()\n",
    "\n",
    "mean = np.mean(pass_v)\n",
    "std = np.std(pass_v)\n",
    "\n",
    "#print (pass_e)\n",
    "'''\n",
    "popt,popv = curve_fit(line,run_v,pass_v,sigma=pass_e,absolute_sigma=True,p0=[0.,np.mean(pass_v)])\n",
    "pope = np.sqrt(np.diag(popv))\n",
    "slopeval = (popt[0]/popt[1])*1e3 # fractional change / 1k runs\n",
    "slopeerr = (pope[0]/popt[1])*1e3\n",
    "print ('fits : ',popt)\n",
    "print ('errors : ',pope)\n",
    "percentdiff  = 100. * ( (line(np.max(run_v),*popt)) - (line(np.min(run_v),*popt)) ) / (line(np.min(run_v),*popt))\n",
    "percenterrUP = 100. * ( (line(np.max(run_v),popt[0]+pope[0],popt[1])) - (line(np.min(run_v),popt[0]+pope[0],popt[1])) ) / (line(np.min(run_v),popt[0]+pope[0],popt[1]))\n",
    "percenterrDN = 100. * ( (line(np.max(run_v),popt[0]-pope[0],popt[1])) - (line(np.min(run_v),popt[0]-pope[0],popt[1])) ) / (line(np.min(run_v),popt[0]-pope[0],popt[1]))\n",
    "#plt.plot(run_v,line(run_v,*popt),'b--',lw=2,label='change: %.0f [%.0f, %.0f] %%'%(percentdiff,percenterrDN,percenterrUP))\n",
    "#plt.ylim([0,14])\n",
    "'''\n",
    "plt.grid()\n",
    "plt.tight_layout()\n",
    "plt.title(QUERY,loc='left',fontsize=14)\n",
    "#plt.legend(loc='best',fontsize=16)\n",
    "plt.xlabel('run number')\n",
    "#plt.ylim([1.0,2.5])\n",
    "#plt.ylim([mean-3*std,mean+3*std])\n",
    "plt.ylim([-500,2000])\n",
    "if (ONBEAM == True):\n",
    "    plt.ylabel('events / 1e18 POT',fontsize=16)\n",
    "else:\n",
    "    plt.ylabel('(on-off) beam / 1e18 POT',fontsize=16)\n",
    "plt.show()"
   ]
  },
  {
   "cell_type": "code",
   "execution_count": null,
   "metadata": {},
   "outputs": [],
   "source": []
  },
  {
   "cell_type": "code",
   "execution_count": null,
   "metadata": {},
   "outputs": [],
   "source": []
  }
 ],
 "metadata": {
  "accelerator": "GPU",
  "colab": {
   "name": "Plotter.ipynb",
   "provenance": [],
   "version": "0.3.2"
  },
  "kernelspec": {
   "display_name": "Python 3",
   "language": "python",
   "name": "python3"
  },
  "language_info": {
   "codemirror_mode": {
    "name": "ipython",
    "version": 3
   },
   "file_extension": ".py",
   "mimetype": "text/x-python",
   "name": "python",
   "nbconvert_exporter": "python",
   "pygments_lexer": "ipython3",
   "version": "3.7.4"
  }
 },
 "nbformat": 4,
 "nbformat_minor": 2
}
