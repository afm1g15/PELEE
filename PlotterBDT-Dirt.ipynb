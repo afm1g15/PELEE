{
 "cells": [
  {
   "cell_type": "code",
   "execution_count": 1,
   "metadata": {},
   "outputs": [],
   "source": [
    "%load_ext autoreload\n",
    "%autoreload 2"
   ]
  },
  {
   "cell_type": "code",
   "execution_count": 2,
   "metadata": {},
   "outputs": [
    {
     "name": "stdout",
     "output_type": "stream",
     "text": [
      "/Users/elenag/Desktop/PlotterLEE/PELEE/\n"
     ]
    }
   ],
   "source": [
    "import sys\n",
    "import localSettings as ls\n",
    "print(ls.main_path)"
   ]
  },
  {
   "cell_type": "code",
   "execution_count": 3,
   "metadata": {
    "colab": {
     "base_uri": "https://localhost:8080/",
     "height": 34
    },
    "colab_type": "code",
    "executionInfo": {
     "elapsed": 517,
     "status": "ok",
     "timestamp": 1560556807118,
     "user": {
      "displayName": "Stefano Roberto Soleti",
      "photoUrl": "https://lh4.googleusercontent.com/-hfLpspJu4Q0/AAAAAAAAAAI/AAAAAAAABmA/2kE4rtj8paU/s64/photo.jpg",
      "userId": "10372352518008961760"
     },
     "user_tz": 240
    },
    "id": "6qsD0G-yYJ9K",
    "outputId": "5d52a3ec-50be-44fc-da44-3c0593e98bc6"
   },
   "outputs": [],
   "source": [
    "main_path = ls.main_path\n",
    "sys.path.append(main_path)"
   ]
  },
  {
   "cell_type": "code",
   "execution_count": 4,
   "metadata": {},
   "outputs": [
    {
     "name": "stdout",
     "output_type": "stream",
     "text": [
      "date and time: 08172020\n"
     ]
    }
   ],
   "source": [
    "from datetime import datetime\n",
    "now = datetime.now()\n",
    "date_time = now.strftime(\"%m%d%Y\")\n",
    "print(\"date and time:\",date_time)"
   ]
  },
  {
   "cell_type": "code",
   "execution_count": 5,
   "metadata": {},
   "outputs": [],
   "source": [
    "SHRCALIBFACTOR = 1.00"
   ]
  },
  {
   "cell_type": "code",
   "execution_count": 6,
   "metadata": {},
   "outputs": [],
   "source": [
    "# USING BDT?\n",
    "USEBDT = True"
   ]
  },
  {
   "cell_type": "code",
   "execution_count": 7,
   "metadata": {},
   "outputs": [],
   "source": [
    "# Doing Run3?\n",
    "ISRUN3 = False"
   ]
  },
  {
   "cell_type": "code",
   "execution_count": 8,
   "metadata": {},
   "outputs": [],
   "source": [
    "# scale to MCC8 CV?\n",
    "MCC8WEIGHTS = False"
   ]
  },
  {
   "cell_type": "code",
   "execution_count": 9,
   "metadata": {
    "colab": {},
    "colab_type": "code",
    "id": "xGqTJ5JgaDsx"
   },
   "outputs": [],
   "source": [
    "import plotter\n",
    "import importlib\n",
    "importlib.reload(plotter)\n",
    "import uproot\n",
    "import matplotlib.pylab as pylab\n",
    "import numpy as np\n",
    "import math\n",
    "from sklearn.model_selection import train_test_split\n",
    "import pickle\n",
    "import xgboost as xgb\n",
    "import nue_booster \n",
    "importlib.reload(nue_booster)\n",
    "import awkward\n",
    "\n",
    "params = {\n",
    "    'axes.labelsize': 'x-large',\n",
    "    'axes.titlesize': 'x-large',\n",
    "    'xtick.labelsize': 'x-large',\n",
    "    'ytick.labelsize': 'x-large'\n",
    "}\n",
    "pylab.rcParams.update(params)"
   ]
  },
  {
   "cell_type": "code",
   "execution_count": 10,
   "metadata": {
    "colab": {},
    "colab_type": "code",
    "id": "iwoCIaigYJ9N"
   },
   "outputs": [
    {
     "name": "stdout",
     "output_type": "stream",
     "text": [
      "['shr_dedx_Y', 'shr_theta', 'pfnhits', 'shrsubclusters1', 'shr_dedx_Y_cali', 'interaction', 'pi0_dedx1_fit_V', 'shr_distance', 'pi0_dot2', 'slnhits', 'true_nu_vtx_y', 'trk_len', 'trk_sce_end_x_v', 'trk_bkt_pdg', 'crtveto', 'shr_tkfit_npointsvalid', 'reco_nu_vtx_y', 'reco_nu_vtx_z', 'shrmoliereavg', 'p', 'pt', 'shr_tkfit_nhits_V', 'CosmicDirAll3D', 'pi0_dir2_x', 'reco_nu_vtx_sce_x', 'shr_phi', '_opfilter_pe_veto', 'pi0_dedx1_fit_Y', 'trk_sce_end_y_v', 'shr_dedx_V', 'pi0_shrscore1', 'contained_fraction', 'npion', 'shr_tkfit_nhits_Y', 'pi0_dir1_x', 'shr_energy_tot_cali', 'pi0truth_gamma_parent', 'crthitpe', 'shrclusfrac1', 'shr_energy', 'slclustfrac', 'secondshower_Y_nhit', 'pi0_radlen1', 'shr_tkfit_dedx_V', 'category', 'pi0_mass_Y', 'pi0_dedx1_fit_U', 'secondshower_Y_vtxdist', 'trk_sce_start_y_v', 'shrclusfrac0', 'trk_score_v', 'reco_nu_vtx_x', 'backtracked_pdg', 'trk_energy_proton_v', 'tksh_distance', 'nu_pdg', 'pi0_dir2_y', 'shr_tkfit_gap10_nhits_V', 'pi0_energy1_Y', 'shr_tkfit_2cm_nhits_U', 'pi0_shrscore2', 'trk_llr_pid_score_v', 'pi0truth_gamma1_etot', 'shrsubclusters0', 'shrclusdir2', 'topological_score', 'pfnunhits', 'nslice', 'reco_nu_vtx_sce_z', 'shrsubclusters2', 'n_tracks_contained', 'pi0_dot1', 'shrmoliererms', 'shr_dedx_U', 'shr_tkfit_gap10_dedx_V', 'trk_energy', 'pion_e', 'trk_sce_start_z_v', 'true_nu_vtx_x', 'mc_pdg', 'trk_distance', 'flash_pe', 'run', 'shr_tkfit_nhits_U', 'nu_e', 'NeutrinoEnergy2', 'nu_flashmatch_score', 'CosmicIP', 'shr_score', 'pi0_energy2_Y', 'nproton', 'best_obviouscosmic_flashmatch_score', 'best_cosmic_flashmatch_score', 'pi0truth_elec_etot', 'true_e_visible', 'shr_id', 'pi0_dedx2_fit_Y', 'trk_pid_chipr_v', 'flash_time', 'shr_tkfit_2cm_dedx_Y', 'reco_nu_vtx_sce_y', 'pi0_e', '_closestNuCosmicDist', 'shr_tkfit_gap10_nhits_Y', 'npi0', 'shr_bkt_pdg', 'ccnc', 'pi0_radlen2', 'trk_len_v', 'shr_tkfit_gap10_nhits_U', 'slpdg', 'slnunhits', 'matched_E', 'shr_tkfit_dedx_Y', 'trk_sce_start_x_v', 'trk_theta', 'shr_tkfit_2cm_dedx_V', '_opfilter_pe_beam', 'pi0_dedx2_fit_V', 'shr_tkfit_gap10_dedx_Y', 'pi0_dedx2_fit_U', 'hits_y', 'tksh_angle', 'shr_tkfit_2cm_nhits_Y', 'trk_calo_energy_y_v', 'trk_energy_tot', 'pi0_mass_U', 'shr_tkfit_gap10_dedx_U', 'shr_tkfit_2cm_dedx_U', 'shr_hits_tot', 'trk_bkt_E', 'pi0_mass_V', 'trk_phi', 'shr_pfp_id_v', 'evnunhits', 'pi0_dir2_z', 'hits_ratio', 'shr_tkfit_npoints', 'selected', 'trkshrhitdist2', 'n_showers_contained', 'true_nu_vtx_z', 'CosmicIPAll3D', 'secondshower_Y_dot', 'trk_hits_tot', 'shr_tkfit_2cm_nhits_V', 'secondshower_Y_dir', 'trk_score', 'shr_bkt_E', 'sub', 'trk_chipr', 'pi0_dir1_y', 'pi0_dir1_z', 'pi0truth_gammadot', 'evt', 'trk_sce_end_z_v', 'muon_e', 'shrclusfrac2', 'pi0truth_gamma2_etot', 'shr_tkfit_dedx_U', 'shr_pz', 'pi0_gammadot']\n"
     ]
    }
   ],
   "source": [
    "tree = \"NeutrinoSelectionFilter\"\n",
    "\n",
    "BNB = 'neutrinoselection_filt_run1_beamon_beamgood' +ls.APPEND\n",
    "EXT = 'neutrinoselection_filt_run1_beamoff'         +ls.APPEND\n",
    "NU  = 'neutrinoselection_filt_run1_overlay'         +ls.APPEND\n",
    "NUE = 'neutrinoselection_filt_run1_overlay'         +ls.APPEND\n",
    "DRT = 'neutrinoselection_filt_run1_dirt_overlay'    +ls.APPEND\n",
    "\n",
    "mc   = uproot.open(ls.ntuple_path+NU +\".root\")[ls.fold][tree]\n",
    "nue  = uproot.open(ls.ntuple_path+NUE+\".root\")[ls.fold][tree]\n",
    "data = uproot.open(ls.ntuple_path+BNB+\".root\")[ls.fold][tree]\n",
    "ext  = uproot.open(ls.ntuple_path+EXT+\".root\")[ls.fold][tree]\n",
    "dirt = uproot.open(ls.ntuple_path+DRT+\".root\")[ls.fold][tree]\n",
    "#lee = uproot.open(ls.ntuple_path+NUE+\".root\")[ls.fold][tree]\n",
    "\n",
    "#uproot_v = [lee,mc,ncpi0,ccpi0,ccnopi,cccpi,ncnopi,nccpi,nue,ext,data,dirt]\n",
    "uproot_v = [mc,nue,ext,data,dirt]\n",
    "#uproot_v = [ext,data]\n",
    "\n",
    "\n",
    "variables = [\n",
    "    \"shr_dedx_Y\", \"shr_bkt_pdg\", \"p\", \"pt\", \"selected\", \"nu_pdg\", \"shr_theta\",\n",
    "    \"slpdg\", \"trk_score_v\", \"backtracked_pdg\", # modified from shr_score_v\n",
    "    \"shr_pfp_id_v\", \"category\",\n",
    "    \"shr_tkfit_dedx_U\",\"shr_tkfit_dedx_V\",\"shr_tkfit_dedx_Y\",\n",
    "    \"shr_tkfit_gap10_dedx_U\",\"shr_tkfit_gap10_dedx_V\",\"shr_tkfit_gap10_dedx_Y\",\n",
    "    \"shr_tkfit_2cm_dedx_U\",\"shr_tkfit_2cm_dedx_V\",\"shr_tkfit_2cm_dedx_Y\",\n",
    "    \"topological_score\",\n",
    "    #\"shr_energy_tot\", \n",
    "    \"trk_energy_tot\", \"shr_hits_tot\", \"ccnc\", \"trk_chipr\",\n",
    "    \"trk_bkt_pdg\", \"hits_ratio\", \"n_tracks_contained\", \n",
    "    \"crtveto\",\"crthitpe\",\"_closestNuCosmicDist\",\n",
    "    \"NeutrinoEnergy2\",\n",
    "    #\"run\",\"sub\",\"evt\",\n",
    "    \"CosmicIP\",\"CosmicDirAll3D\",\"CosmicIPAll3D\",\n",
    "    \"nu_flashmatch_score\",\"best_cosmic_flashmatch_score\",\"best_obviouscosmic_flashmatch_score\",\n",
    "    #\"trk_pfp_id\",\n",
    "    \"shrmoliereavg\",\"shrmoliererms\",\n",
    "    \"shr_tkfit_npointsvalid\",\"shr_tkfit_npoints\", # fitted vs. all hits for shower\n",
    "    \"shrclusfrac0\",\"shrclusfrac1\",\"shrclusfrac2\", # track-fitted hits / all hits\n",
    "    \"trkshrhitdist2\", # \"trkshrhitdist0\",\"trkshrhitdist1\", distance between track and shower in 2D\n",
    "    \"shrsubclusters0\",\"shrsubclusters1\",\"shrsubclusters2\", # number of sub-clusters in shower\n",
    "    \"trk_llr_pid_score_v\", # trk-PID score\n",
    "    \"trk_energy_proton_v\", # track energy under proton hyp\n",
    "    \"trk_calo_energy_y_v\", # track calo energy\n",
    "    #\"pi0_energy2_Y\", # pi0 tagger variables\n",
    "    \"_opfilter_pe_beam\", \"_opfilter_pe_veto\", # did the event pass the common optical filter (for MC only)\n",
    "    \"reco_nu_vtx_sce_x\",\"reco_nu_vtx_sce_y\",\"reco_nu_vtx_sce_z\",\n",
    "    \"nproton\", \"nu_e\", \"n_showers_contained\", \"shr_distance\", \"trk_distance\",\n",
    "    \"hits_y\", \"shr_pz\", \"shr_energy\", \"shr_dedx_U\", \"shr_dedx_V\", \"shr_phi\", \"trk_phi\", \"trk_theta\",\n",
    "    \"shr_tkfit_dedx_U\", \"shr_tkfit_dedx_V\", \"run\", \"sub\", \"evt\", \"nproton\", \"trk_pid_chipr_v\",\n",
    "    \"trk_len\", \"mc_pdg\", \"slnunhits\", \"slnhits\", \"shr_score\", \"trk_score\", \"trk_hits_tot\",\n",
    "    \"true_e_visible\", \"matched_E\", \"shr_bkt_E\", \"trk_bkt_E\", \"trk_energy\", \"tksh_distance\", \"tksh_angle\",\n",
    "    \"npi0\",\"npion\",\"pion_e\",\"muon_e\",\"pi0truth_elec_etot\",\n",
    "    \"pi0_e\", \"shr_energy_tot_cali\", \"shr_dedx_Y_cali\", \"evnunhits\", \"nslice\", \"interaction\",\n",
    "    \"slclustfrac\", \"reco_nu_vtx_x\", \"reco_nu_vtx_y\", \"reco_nu_vtx_z\",\"contained_fraction\",\n",
    "    \"secondshower_Y_nhit\",\"secondshower_Y_vtxdist\",\"secondshower_Y_dot\",\"secondshower_Y_dir\",\"shrclusdir2\",\n",
    "    \"shr_tkfit_nhits_Y\",\"shr_tkfit_nhits_U\",\"shr_tkfit_nhits_V\",\n",
    "    \"shr_tkfit_2cm_nhits_Y\",\"shr_tkfit_2cm_nhits_U\",\"shr_tkfit_2cm_nhits_V\",\n",
    "    \"shr_tkfit_gap10_nhits_Y\",\"shr_tkfit_gap10_nhits_U\",\"shr_tkfit_gap10_nhits_V\",\n",
    "    \"pfnhits\",\"pfnunhits\",\n",
    "    \"trk_sce_start_x_v\",\"trk_sce_start_y_v\",\"trk_sce_start_z_v\",\n",
    "    \"trk_sce_end_x_v\",\"trk_sce_end_y_v\",\"trk_sce_end_z_v\",\"shr_id\", \n",
    "    \"pi0_radlen1\",\"pi0_radlen2\",\"pi0_dot1\",\"pi0_dot2\",\"pi0_energy1_Y\",\"pi0_energy2_Y\",\n",
    "    \"pi0_dedx1_fit_Y\",\"pi0_dedx2_fit_Y\",\"pi0_shrscore1\",\"pi0_shrscore2\",\"pi0_gammadot\",\n",
    "    \"pi0_dedx1_fit_V\",\"pi0_dedx2_fit_V\",\"pi0_dedx1_fit_U\",\"pi0_dedx2_fit_U\",\n",
    "    \"pi0_mass_Y\",\"pi0_mass_V\",\"pi0_mass_U\",\n",
    "    \"pi0_dir2_x\",\"pi0_dir2_y\",\"pi0_dir2_z\",\"pi0_dir1_x\",\"pi0_dir1_y\",\"pi0_dir1_z\",\n",
    "    \"pi0truth_gamma1_etot\",\"pi0truth_gamma2_etot\",\"pi0truth_gammadot\",\"pi0truth_gamma_parent\",\n",
    "    \"selected\", \"topological_score\",  \"shr_dedx_Y\",\"contained_fraction\", \"nslice\",\"nu_pdg\",\"category\",\"ccnc\",\"slnunhits\",\"slnhits\",\n",
    "    \"backtracked_pdg\",\"shr_bkt_pdg\" ,\"trk_bkt_pdg\",\"flash_time\",\"flash_pe\",\"reco_nu_vtx_sce_x\",\"reco_nu_vtx_sce_y\",\"reco_nu_vtx_sce_z\",\"trk_len\",\n",
    "    'trk_len_v','trk_sce_start_x_v','trk_sce_start_y_v','trk_sce_start_z_v',\n",
    "    'trk_sce_end_x_v','trk_sce_end_y_v','trk_sce_end_z_v',\n",
    "    'trk_score_v', \"shr_bkt_pdg\", \"p\", \"pt\", \"selected\", \"nu_pdg\", \"shr_theta\",\n",
    "    \"nu_flashmatch_score\",\"best_cosmic_flashmatch_score\",\"best_obviouscosmic_flashmatch_score\",\"CosmicIP\",\"true_e_visible\",\n",
    "    \"true_nu_vtx_x\",\"true_nu_vtx_y\",\"true_nu_vtx_z\"\n",
    "]\n",
    "#make the list unique\n",
    "variables = list(set(variables))\n",
    "print(variables)\n",
    "\n",
    "#if not ISRUN3:\n",
    "variables.remove(\"_closestNuCosmicDist\")\n",
    "variables.remove(\"crtveto\")\n",
    "variables.remove(\"crthitpe\")\n",
    "    \n",
    "WEIGHTS = [\"weightSpline\",\"weightTune\",\"weightSplineTimesTune\"]#, \"weightsGenie\", \"weightsFlux\", \"weightsReint\"]\n",
    "WEIGHTSLEE = [\"weightSpline\",\"weightTune\",\"weightSplineTimesTune\", \"leeweight\"]#, \"weightsGenie\", \"weightsFlux\", \"weightsReint\"]\n",
    "MCFVARS = [\"mcf_nu_e\",\"mcf_lep_e\",\"mcf_actvol\",\"mcf_nmm\",\"mcf_nmp\",\"mcf_nem\",\"mcf_nep\",\"mcf_np0\",\"mcf_npp\",\n",
    "           \"mcf_npm\",\"mcf_mcshr_elec_etot\",\"mcf_pass_ccpi0\",\"mcf_pass_ncpi0\",\n",
    "           \"mcf_pass_ccnopi\",\"mcf_pass_ncnopi\",\"mcf_pass_cccpi\",\"mcf_pass_nccpi\"]\n",
    "SYSTEMATICS = ['weightsFlux','weightsGenie']\n",
    "\n",
    "nue = nue.pandas.df(variables + WEIGHTS + SYSTEMATICS, flatten=False)\n",
    "mc = mc.pandas.df(variables + WEIGHTS + MCFVARS + SYSTEMATICS, flatten=False)\n",
    "data = data.pandas.df(variables, flatten=False)\n",
    "ext = ext.pandas.df(variables, flatten=False)\n",
    "dirt = dirt.pandas.df(variables + WEIGHTS + SYSTEMATICS, flatten=False)\n"
   ]
  },
  {
   "cell_type": "code",
   "execution_count": 11,
   "metadata": {},
   "outputs": [],
   "source": [
    "df_v = [mc,nue,dirt]\n",
    "#removeGenieTune = False\n",
    "for i,df in enumerate(df_v):\n",
    "    df.loc[ df['weightTune'] <= 0, 'weightTune' ] = 1.\n",
    "    df.loc[ df['weightTune'] == np.inf, 'weightTune' ] = 1.\n",
    "    df.loc[ df['weightTune'] > 100, 'weightTune' ] = 1.\n",
    "    df.loc[ np.isnan(df['weightTune']) == True, 'weightTune' ] = 1.    \n",
    "    df.loc[ df['weightSplineTimesTune'] <= 0, 'weightSplineTimesTune' ] = 1.\n",
    "    df.loc[ df['weightSplineTimesTune'] == np.inf, 'weightSplineTimesTune' ] = 1.\n",
    "    df.loc[ df['weightSplineTimesTune'] > 100, 'weightSplineTimesTune' ] = 1.\n",
    "    df.loc[ np.isnan(df['weightSplineTimesTune']) == True, 'weightSplineTimesTune' ] = 1.\n",
    "    #if removeGenieTune : \n",
    "    #    df[ 'weightTune' ] = 1.\n",
    "    #    df[ 'weightSplineTimesTune' ] = df['weightSpline']\n",
    "\n",
    "    #df['weightSpline']  = df['weightSpline']  * df['weightTune']\n",
    "    #df.loc[ df['npi0'] > 0, 'weightSplineTimesTune' ] = df['weightSpline'] * df['weightTune'] * 0.7 #scale down pi0s"
   ]
  },
  {
   "cell_type": "code",
   "execution_count": 34,
   "metadata": {},
   "outputs": [
    {
     "name": "stdout",
     "output_type": "stream",
     "text": [
      "data shape (263902, 159)\n",
      "(810812, 193)\n",
      "(810812,) 810812\n",
      "[[] [] [] ... [] [] [0.91202915 0.0027221516]]\n",
      "(810812, 193)\n",
      "810812\n",
      "(810812, 176)\n",
      "(810812,) 810812\n",
      "[[] [] [] ... [] [] [0.91202915 0.0027221516]]\n",
      "(810812, 176)\n",
      "810812\n",
      "(388803, 171)\n",
      "(388803,) 388803\n",
      "[[] [] [] ... [] [0.99298316 0.87471676] []]\n",
      "(388803, 171)\n",
      "388803\n",
      "(263902, 159)\n",
      "(263902,) 263902\n",
      "[[] [] [] ... [] [] []]\n",
      "(263902, 159)\n",
      "263902\n",
      "(483722, 164)\n",
      "(483722,) 483722\n",
      "[[] [] [] ... [0.8943961] [1.0] []]\n",
      "(483722, 164)\n",
      "483722\n",
      "-73.52488088607788\n"
     ]
    }
   ],
   "source": [
    "# how to get the LLR-PID value for the \"track candidate\" (proton for nue selection, muon for numu)\n",
    "# can be done for any variable\n",
    "# code from Giuseppe!\n",
    "import time\n",
    "s = time.time()\n",
    "df_v = [mc,nue,ext,data,dirt]\n",
    "#print(f'data shape {data.shape}')\n",
    "puppa1 = 'trk_score_v'\n",
    "#print ('trk_llr_pid_score_v' in nue.columns.to_list())\n",
    "for i,df in enumerate(df_v):\n",
    "    print(df.shape)\n",
    "    up = uproot_v[i]\n",
    "    trk_score_v         = up.array('trk_score_v')    \n",
    "    trk_llr_pid_v       = up.array('trk_llr_pid_score_v')\n",
    "    trk_energy_proton_v = up.array('trk_energy_proton_v')\n",
    "    trk_calo_energy_y_v = up.array('trk_calo_energy_y_v')\n",
    "    trk_id              = up.array('trk_id')-1 # I think we need this -1 to get the right result\n",
    "    c                   = up.array('n_tracks_contained')\n",
    "    \n",
    "    print(trk_score_v.shape, len(trk_llr_pid_v))\n",
    "    print(trk_score_v)\n",
    "#    print(len(c), len(trk_id), len(trk_llr_pid_v))\n",
    "#    for pidv,puppa,tid,cid in zip(trk_llr_pid_v,trk_score_puppa_v,trk_id,c):\n",
    "#        if len(pidv) > 0:\n",
    "#            print(len(pidv),len(puppa), pidv,puppa,tid,cid )\n",
    "#    nnnnnnnPupppppppaaa = 0\n",
    "#    print(type(trk_llr_pid_v), trk_llr_pid_v.shape)\n",
    "    puppa_obj = []\n",
    "    puppa_trk = []\n",
    "    puppa_shw = []\n",
    "    puppa_prt = [] \n",
    "    puppa_mu  = []\n",
    "    \n",
    "    for pidv, p in zip(trk_llr_pid_v,trk_score_v):\n",
    "        N_obj         = 0\n",
    "        N_recoTrks    = 0\n",
    "        N_recoShowers = 0\n",
    "        N_recoProtons = 0\n",
    "        N_recoMuons   = 0\n",
    "        if len(pidv) > 0:\n",
    "            passPIDCut = (pidv <= 0)\n",
    "            passTrkCut = (p    >= 0)\n",
    "            protonCut  = (passPIDCut & passTrkCut) \n",
    "            muonCut    = (np.logical_not(passPIDCut) & passTrkCut) \n",
    "            N_obj         = len(passTrkCut)\n",
    "            N_recoTrks    = np.count_nonzero(passTrkCut)\n",
    "            N_recoShowers = np.count_nonzero(np.logical_not(passTrkCut))\n",
    "            N_recoProtons = np.count_nonzero(protonCut)\n",
    "            N_recoMuons   = np.count_nonzero(muonCut)\n",
    "        puppa_obj.append(N_obj)\n",
    "        puppa_trk.append(N_recoTrks)\n",
    "        puppa_shw.append(N_recoShowers)    \n",
    "        puppa_prt.append(N_recoProtons)\n",
    "        puppa_mu .append(N_recoMuons)\n",
    "    \n",
    "    #print(df.shape)\n",
    "    #print(len(puppa_obj))\n",
    "\n",
    "    df['N_obj']           = puppa_obj\n",
    "    df['N_recoTrks']      = puppa_trk\n",
    "    df['N_recoShowers']   = puppa_shw\n",
    "    df['N_recoProtons']   = puppa_prt\n",
    "    df['N_recoMuons']     = puppa_mu\n",
    "    \n",
    "    trk_llr_pid_v_sel     = awkward.fromiter([pidv[tid] if tid<len(pidv) else 9999. for pidv,tid in zip(trk_llr_pid_v,trk_id)])\n",
    "    trk_energy_proton_sel = awkward.fromiter([pidv[tid] if tid<len(pidv) else 9999. for pidv,tid in zip(trk_energy_proton_v,trk_id)])\n",
    "    trk_calo_energy_y_sel = awkward.fromiter([pidv[tid] if tid<len(pidv) else 9999. for pidv,tid in zip(trk_calo_energy_y_v,trk_id)])\n",
    "\n",
    "    #df['n_proton_cand']   = puppa_proton\n",
    "    df['trkpid']          = trk_llr_pid_v_sel\n",
    "    df['protonenergy']    = trk_energy_proton_sel\n",
    "    df['trackcaloenergy'] = trk_calo_energy_y_sel\n",
    "    df['subcluster']      = df['shrsubclusters0'] + df['shrsubclusters1'] + df['shrsubclusters2']\n",
    "    df['trkfit']          = df['shr_tkfit_npointsvalid'] / df['shr_tkfit_npoints']\n",
    "    df['anglediff_Y']     = np.abs(df['secondshower_Y_dir']-df['shrclusdir2'])\n",
    "    df['trkthetacos']     = np.cos(df['trk_theta'])\n",
    "    #print(  df['N_recoShowers'])\n",
    "    \n",
    "s2 = time.time()\n",
    "print (s-s2)"
   ]
  },
  {
   "cell_type": "code",
   "execution_count": 35,
   "metadata": {},
   "outputs": [],
   "source": [
    "# how to get the LLR-PID value for the \"track candidate\" (proton for nue selection, muon for numu)\n",
    "# can be done for any variable\n",
    "# code from Giuseppe!\n",
    "\n",
    "df_v = [mc,nue,ext,data,dirt]\n",
    "#df_v = [lee,mc,nue,ext,data,dirt]\n",
    "\n",
    "for i,df in enumerate(df_v):\n",
    "    up = uproot_v[i]\n",
    "    trk_llr_pid_v = up.array('trk_llr_pid_score_v')\n",
    "    trk_energy_proton_v = up.array('trk_energy_proton_v')\n",
    "    trk_calo_energy_y_v = up.array('trk_calo_energy_y_v')\n",
    "    trk_id = up.array('trk_id')-1 # I think we need this -1 to get the right result\n",
    "    trk_llr_pid_v_sel = awkward.fromiter([pidv[tid] if tid<len(pidv) else 9999. for pidv,tid in zip(trk_llr_pid_v,trk_id)])\n",
    "    trk_energy_proton_sel = awkward.fromiter([pidv[tid] if tid<len(pidv) else 9999. for pidv,tid in zip(trk_energy_proton_v,trk_id)])\n",
    "    trk_calo_energy_y_sel = awkward.fromiter([pidv[tid] if tid<len(pidv) else 9999. for pidv,tid in zip(trk_calo_energy_y_v,trk_id)])\n",
    "    df['trkpid'] = trk_llr_pid_v_sel\n",
    "    df['protonenergy'] = trk_energy_proton_sel\n",
    "    df['trackcaloenergy'] = trk_calo_energy_y_sel\n",
    "    df['subcluster'] = df['shrsubclusters0'] + df['shrsubclusters1'] + df['shrsubclusters2']\n",
    "    df['trkfit'] = df['shr_tkfit_npointsvalid'] / df['shr_tkfit_npoints']\n",
    "    df['anglediff_Y'] = np.abs(df['secondshower_Y_dir']-df['shrclusdir2'])\n",
    "    df['trkthetacos'] = np.cos(df['trk_theta'])\n",
    "    #df['FMdiffOBV'] = df['nu_flashmatch_score']-df['best_obviouscosmic_flashmatch_score']\n",
    "    #df['FMdiff'] = df['nu_flashmatch_score']-df['best_cosmic_flashmatch_score']"
   ]
  },
  {
   "cell_type": "code",
   "execution_count": 36,
   "metadata": {},
   "outputs": [],
   "source": [
    "for i,df in enumerate(df_v):\n",
    "    up = uproot_v[i]\n",
    "    #trk_score_v = up.array('trk_score_v')\n",
    "    trk_sce_start_x_v = up.array('trk_sce_start_x_v')\n",
    "    trk_sce_start_y_v = up.array('trk_sce_start_y_v')\n",
    "    trk_sce_start_z_v = up.array('trk_sce_start_z_v')\n",
    "    trk_sce_end_x_v = up.array('trk_sce_end_x_v')\n",
    "    trk_sce_end_y_v = up.array('trk_sce_end_y_v')\n",
    "    trk_sce_end_z_v = up.array('trk_sce_end_z_v')\n",
    "    shr_id = up.array('shr_id')-1 # I think we need this -1 to get the right result\n",
    "    #trk_score_v_sel = awkward.fromiter([pidv[tid] if tid<len(pidv) else -9999. for pidv,tid in zip(trk_score_v,shr_id)])\n",
    "    trk_sce_start_x_v_sel = awkward.fromiter([pidv[tid] if tid<len(pidv) else -9999. for pidv,tid in zip(trk_sce_start_x_v,shr_id)])\n",
    "    trk_sce_start_y_v_sel = awkward.fromiter([pidv[tid] if tid<len(pidv) else -9999. for pidv,tid in zip(trk_sce_start_y_v,shr_id)])\n",
    "    trk_sce_start_z_v_sel = awkward.fromiter([pidv[tid] if tid<len(pidv) else -9999. for pidv,tid in zip(trk_sce_start_z_v,shr_id)])\n",
    "    trk_sce_end_x_v_sel = awkward.fromiter([pidv[tid] if tid<len(pidv) else -9999. for pidv,tid in zip(trk_sce_end_x_v,shr_id)])\n",
    "    trk_sce_end_y_v_sel = awkward.fromiter([pidv[tid] if tid<len(pidv) else -9999. for pidv,tid in zip(trk_sce_end_y_v,shr_id)])\n",
    "    trk_sce_end_z_v_sel = awkward.fromiter([pidv[tid] if tid<len(pidv) else -9999. for pidv,tid in zip(trk_sce_end_z_v,shr_id)])\n",
    "    #df['shr_score_check'] = trk_score_v_sel\n",
    "    df['shr_trk_sce_start_x'] = trk_sce_start_x_v_sel\n",
    "    df['shr_trk_sce_start_y'] = trk_sce_start_y_v_sel\n",
    "    df['shr_trk_sce_start_z'] = trk_sce_start_z_v_sel\n",
    "    df['shr_trk_sce_end_x'] = trk_sce_end_x_v_sel\n",
    "    df['shr_trk_sce_end_y'] = trk_sce_end_y_v_sel\n",
    "    df['shr_trk_sce_end_z'] = trk_sce_end_z_v_sel   "
   ]
  },
  {
   "cell_type": "code",
   "execution_count": 37,
   "metadata": {},
   "outputs": [],
   "source": [
    "for i,df in enumerate(df_v):\n",
    "    df.loc[df['shrmoliereavg'].isna(),'secondshower_Y_dot'] = 9999.\n",
    "    #\n",
    "    # secondshower_U/V/Y_dot need to be set to 9999. to match data ntuples produced with v08_00_00_43 or later;\n",
    "    # the patch below is valid only to match data ntuples produced with v08_00_00_42.\n",
    "    #\n",
    "    #df.loc[df['secondshower_U_dot'].isna(),'secondshower_U_dot'] = 0.0 #for 0p please uncomment\n",
    "    #df.loc[df['secondshower_V_dot'].isna(),'secondshower_V_dot'] = 0.0 #for 0p please uncomment\n",
    "    df.loc[df['secondshower_Y_dot'].isna(),'secondshower_Y_dot'] = 0.0 "
   ]
  },
  {
   "cell_type": "code",
   "execution_count": 38,
   "metadata": {},
   "outputs": [],
   "source": [
    "#\n",
    "for i,df in enumerate(df_v):\n",
    "    up = uproot_v[i]\n",
    "    df[\"slclnhits\"] = up.array(\"pfnhits\").sum()\n",
    "    df[\"slclnunhits\"] = up.array(\"pfnunhits\").sum()\n",
    "#"
   ]
  },
  {
   "cell_type": "code",
   "execution_count": 39,
   "metadata": {},
   "outputs": [],
   "source": [
    "df_v = [mc,nue,ext,data,dirt]\n",
    "for i,df in enumerate(df_v):\n",
    "    df['shr_tkfit_nhits_tot'] = (df['shr_tkfit_nhits_Y']+df['shr_tkfit_nhits_U']+df['shr_tkfit_nhits_V'])\n",
    "    df['shr_tkfit_dedx_avg'] = (df['shr_tkfit_nhits_Y']*df['shr_tkfit_dedx_Y'] + df['shr_tkfit_nhits_U']*df['shr_tkfit_dedx_U'] + df['shr_tkfit_nhits_V']*df['shr_tkfit_dedx_V'])/df['shr_tkfit_nhits_tot']\n",
    "    df['shr_tkfit_2cm_nhits_tot'] = (df['shr_tkfit_2cm_nhits_Y']+df['shr_tkfit_2cm_nhits_U']+df['shr_tkfit_2cm_nhits_V'])\n",
    "    df['shr_tkfit_2cm_dedx_avg'] = (df['shr_tkfit_2cm_nhits_Y']*df['shr_tkfit_2cm_dedx_Y'] + df['shr_tkfit_2cm_nhits_U']*df['shr_tkfit_2cm_dedx_U'] + df['shr_tkfit_2cm_nhits_V']*df['shr_tkfit_2cm_dedx_V'])/df['shr_tkfit_2cm_nhits_tot']\n",
    "    df['shr_tkfit_gap10_nhits_tot'] = (df['shr_tkfit_gap10_nhits_Y']+df['shr_tkfit_gap10_nhits_U']+df['shr_tkfit_gap10_nhits_V'])\n",
    "    df['shr_tkfit_gap10_dedx_avg'] = (df['shr_tkfit_gap10_nhits_Y']*df['shr_tkfit_gap10_dedx_Y'] + df['shr_tkfit_gap10_nhits_U']*df['shr_tkfit_gap10_dedx_U'] + df['shr_tkfit_gap10_nhits_V']*df['shr_tkfit_gap10_dedx_V'])/df['shr_tkfit_gap10_nhits_tot']\n",
    "    df.loc[:,'shr_tkfit_dedx_max'] = df['shr_tkfit_dedx_Y']\n",
    "    df.loc[(df['shr_tkfit_nhits_U']>df['shr_tkfit_nhits_Y']),'shr_tkfit_dedx_max'] = df['shr_tkfit_dedx_U']\n",
    "    df.loc[(df['shr_tkfit_nhits_V']>df['shr_tkfit_nhits_Y']) & (df['shr_tkfit_nhits_V']>df['shr_tkfit_nhits_U']),'shr_tkfit_dedx_max'] = df['shr_tkfit_dedx_V']"
   ]
  },
  {
   "cell_type": "code",
   "execution_count": 40,
   "metadata": {},
   "outputs": [],
   "source": [
    "#reset timing\n",
    "df_v = [mc,nue,dirt]\n",
    "for i,df in enumerate(df_v):\n",
    "        df.loc[ :, 'flash_time' ] = df['flash_time' ] - 0.304\n",
    "\n",
    "df_v = [ext]\n",
    "for i,df in enumerate(df_v):\n",
    "        df.loc[ :, 'flash_time' ] = df['flash_time' ] - 0.359"
   ]
  },
  {
   "cell_type": "code",
   "execution_count": 106,
   "metadata": {
    "scrolled": false
   },
   "outputs": [],
   "source": [
    "INTERCEPT = 0.0\n",
    "SLOPE = 0.83\n",
    "\n",
    "# define some energy-related variables\n",
    "for i,df in enumerate(df_v):\n",
    "    df[\"reco_e\"] = (df[\"shr_energy_tot_cali\"] + INTERCEPT) / SLOPE + df[\"trk_energy_tot\"]\n",
    "    df[\"reco_e_qe\"] = 0.938*((df[\"shr_energy\"]+INTERCEPT)/SLOPE)/(0.938 - ((df[\"shr_energy\"]+INTERCEPT)/SLOPE)*(1-np.cos(df[\"shr_theta\"])))\n",
    "    df[\"reco_e_rqe\"] = df[\"reco_e_qe\"]/df[\"reco_e\"]\n",
    "\n",
    "# and a way to filter out data\n",
    "for i,df in enumerate(df_v):\n",
    "    df[\"bnbdata\"] = np.zeros_like(df[\"shr_energy\"])\n",
    "    df[\"extdata\"] = np.zeros_like(df[\"shr_energy\"])\n",
    "data[\"bnbdata\"] = np.ones_like(data[\"shr_energy\"])\n",
    "ext[\"extdata\"] = np.ones_like(ext[\"shr_energy\"])\n",
    "\n",
    "# test calibrating dedx on Y plane\n",
    "#data[\"shr_tkfit_gap10_dedx_Y\"] = data[\"shr_tkfit_gap10_dedx_Y\"]*1.03\n",
    "#ext[\"shr_tkfit_gap10_dedx_Y\"] = ext[\"shr_tkfit_gap10_dedx_Y\"]*1.03\n",
    "#data[\"shr_tkfit_2cm_dedx_Y\"] = data[\"shr_tkfit_2cm_dedx_Y\"]*1.03\n",
    "#ext[\"shr_tkfit_2cm_dedx_Y\"] = ext[\"shr_tkfit_2cm_dedx_Y\"]*1.03\n",
    "#data[\"shr_tkfit_dedx_Y\"] = data[\"shr_tkfit_dedx_Y\"]*1.03\n",
    "#ext[\"shr_tkfit_dedx_Y\"] = ext[\"shr_tkfit_dedx_Y\"]*1.03"
   ]
  },
  {
   "cell_type": "code",
   "execution_count": 107,
   "metadata": {
    "scrolled": false
   },
   "outputs": [
    {
     "name": "stderr",
     "output_type": "stream",
     "text": [
      "\n",
      "A value is trying to be set on a copy of a slice from a DataFrame.\n",
      "Try using .loc[row_indexer,col_indexer] = value instead\n",
      "\n",
      "See the caveats in the documentation: https://pandas.pydata.org/pandas-docs/stable/user_guide/indexing.html#returning-a-view-versus-a-copy\n"
     ]
    }
   ],
   "source": [
    "# add back the cosmic category, for background only\n",
    "df_v = [mc,nue,ext,data,dirt]\n",
    "for i,df in enumerate(df_v):\n",
    "    df.loc[(df['category']!=1)&(df['category']!=10)&(df['category']!=11)&(df['category']!=111)&(df['slnunhits']/df['slnhits']<0.2), 'category'] = 4"
   ]
  },
  {
   "cell_type": "code",
   "execution_count": 108,
   "metadata": {},
   "outputs": [
    {
     "name": "stderr",
     "output_type": "stream",
     "text": [
      "\n",
      "A value is trying to be set on a copy of a slice from a DataFrame.\n",
      "Try using .loc[row_indexer,col_indexer] = value instead\n",
      "\n",
      "See the caveats in the documentation: https://pandas.pydata.org/pandas-docs/stable/user_guide/indexing.html#returning-a-view-versus-a-copy\n"
     ]
    }
   ],
   "source": [
    "data[\"is_signal\"] = data[\"category\"] == 11\n",
    "nue[\"is_signal\"] = nue[\"category\"] == 11\n",
    "mc[\"is_signal\"] = mc[\"category\"] == 11\n",
    "dirt[\"is_signal\"] = dirt[\"category\"] == 11\n",
    "ext[\"is_signal\"] = ext[\"category\"] == 11\n"
   ]
  },
  {
   "cell_type": "code",
   "execution_count": 109,
   "metadata": {},
   "outputs": [],
   "source": [
    "# variables to be trained on\n",
    "TRAINVAR = [\"shr_score\",\"tksh_distance\",\"tksh_angle\",\n",
    "            \"shr_tkfit_dedx_max\",\"trkfit\",\"trkpid\",\n",
    "            \"subcluster\",\"shrmoliereavg\",\n",
    "            \"trkshrhitdist2\",\"hits_ratio\",\n",
    "            \"secondshower_Y_nhit\",\"secondshower_Y_vtxdist\",\"secondshower_Y_dot\",\"anglediff_Y\",\n",
    "            \"CosmicIPAll3D\",\"CosmicDirAll3D\"]"
   ]
  },
  {
   "cell_type": "code",
   "execution_count": 110,
   "metadata": {
    "colab": {},
    "colab_type": "code",
    "id": "XcI43ileYJ9P"
   },
   "outputs": [
    {
     "name": "stderr",
     "output_type": "stream",
     "text": [
      "\n",
      "A value is trying to be set on a copy of a slice from a DataFrame.\n",
      "Try using .loc[row_indexer,col_indexer] = value instead\n",
      "\n",
      "See the caveats in the documentation: https://pandas.pydata.org/pandas-docs/stable/user_guide/indexing.html#returning-a-view-versus-a-copy\n"
     ]
    }
   ],
   "source": [
    "LABELS = ['pi0','nonpi0']\n",
    "\n",
    "if (USEBDT == True):\n",
    "    for label, bkg_query in zip(LABELS, nue_booster.bkg_queries):\n",
    "        with open(ls.pickle_path+'booster_%s_0304_extnumi.pickle' % label, 'rb') as booster_file:\n",
    "            booster = pickle.load(booster_file)\n",
    "            #print((ls.pickle_path+'booster_%s_0304_extnumi.model' % label), booster.best_iteration)\n",
    "            #booster.save_model( (ls.pickle_path+'booster_%s_0304_extnumi.model' % label) )\n",
    "            mc[label+\"_score\"] = booster.predict(\n",
    "                xgb.DMatrix(mc[TRAINVAR]),\n",
    "                ntree_limit=booster.best_iteration)\n",
    "            nue[label+\"_score\"] = booster.predict(\n",
    "                xgb.DMatrix(nue[TRAINVAR]),\n",
    "                ntree_limit=booster.best_iteration)\n",
    "            ext[label+\"_score\"] = booster.predict(\n",
    "                xgb.DMatrix(ext[TRAINVAR]),\n",
    "                ntree_limit=booster.best_iteration)\n",
    "            data[label+\"_score\"] = booster.predict(\n",
    "                xgb.DMatrix(data[TRAINVAR]),\n",
    "                ntree_limit=booster.best_iteration)\n",
    "            dirt[label+\"_score\"] = booster.predict(\n",
    "                xgb.DMatrix(dirt[TRAINVAR]),\n",
    "                ntree_limit=booster.best_iteration)\n"
   ]
  },
  {
   "cell_type": "code",
   "execution_count": 111,
   "metadata": {},
   "outputs": [],
   "source": [
    "dfbdt_v = [mc,nue,ext,data,dirt]"
   ]
  },
  {
   "cell_type": "code",
   "execution_count": null,
   "metadata": {},
   "outputs": [],
   "source": []
  },
  {
   "cell_type": "markdown",
   "metadata": {},
   "source": [
    "# Plotting part"
   ]
  },
  {
   "cell_type": "code",
   "execution_count": 112,
   "metadata": {},
   "outputs": [
    {
     "data": {
      "text/plain": [
       "<module 'plotterPOT' from '/Users/elenag/Desktop/PlotterLEE/PELEE2/plotterPOT.py'>"
      ]
     },
     "execution_count": 112,
     "metadata": {},
     "output_type": "execute_result"
    }
   ],
   "source": [
    "import plotterPOT\n",
    "import importlib\n",
    "importlib.reload(plotterPOT)"
   ]
  },
  {
   "cell_type": "code",
   "execution_count": 113,
   "metadata": {
    "colab": {},
    "colab_type": "code",
    "id": "_pamv0W8YJ9R"
   },
   "outputs": [
    {
     "name": "stdout",
     "output_type": "stream",
     "text": [
      "{'mc': 0.04289452340491271, 'nue': 0.04289452340491271, 'ext': 0.5729113237946756, 'dirt': 0.02812836369008674}\n"
     ]
    }
   ],
   "source": [
    "scaling = 1\n",
    "\n",
    "SPLIT = 1.0\n",
    "if (USEBDT == True):\n",
    "    SPLIT = 2.\n",
    "\n",
    "\n",
    "nue = mc.query(\"(abs(nu_pdg) == 12 & ccnc == 0)\")\n",
    "samples = {\n",
    "    \"mc\": mc,\n",
    "    \"nue\": nue,\n",
    "    \"dirt\": dirt,\n",
    "    \"data\": data,\n",
    "    \"ext\": ext\n",
    "}\n",
    "\n",
    "scaling = 1\n",
    "#scaling = 0.789\n",
    "pot = 8.885e+19 #9.789e+19 \n",
    "mcratio   = pot/2.07136e+21\n",
    "dirtratio = pot/1.42143e+21\n",
    "extratio  = 2347745.0/4015961.99\n",
    "SPLIT = 1.0\n",
    "scalingEXT = 0.98\n",
    "scalingDRT = 0.45\n",
    "\n",
    "weights = { #full sample mc = 0.38\n",
    "            \"mc\"  : mcratio  * SPLIT * scaling,   \n",
    "            \"nue\" : mcratio  * SPLIT * scaling,  \n",
    "            \"ext\" : extratio * SPLIT * scalingEXT, #set0   \n",
    "            \"dirt\": dirtratio* SPLIT * scalingDRT, #set0   \n",
    "}\n",
    "\n",
    "my_plotter = plotterPOT.plotterPOT(samples, weights, pot=pot)\n",
    "print(weights)"
   ]
  },
  {
   "cell_type": "code",
   "execution_count": 114,
   "metadata": {},
   "outputs": [
    {
     "name": "stdout",
     "output_type": "stream",
     "text": [
      "nslice == 1\n"
     ]
    }
   ],
   "source": [
    "# muon selection\n",
    "QUERY = 'nslice == 1'\n",
    "#QUERY += ' and trk_sce_end_y_v < 110'\n",
    "#if ISRUN3: QUERY += ' and ((crtveto!=1) or (crthitpe < 100)) and (_closestNuCosmicDist > 20.)'\n",
    "#QUERY += ' and n_tracks_contained >= 1'\n",
    "#QUERY += ' and topological_score > 0.06'\n",
    "#QUERY += ' and reco_nu_vtx_sce_x > 5 and reco_nu_vtx_sce_x < 251'\n",
    "#QUERY += ' and reco_nu_vtx_sce_y > -110 and reco_nu_vtx_sce_y < 110'\n",
    "#QUERY += ' and reco_nu_vtx_sce_z > 20 and reco_nu_vtx_sce_z < 986'\n",
    "#QUERY += ' and trkpid > 0.5'\n",
    "#QUERY += ' and (trkthetacos < 0.853 or trkthetacos > 0.8531)'\n",
    "#QUERY += ' and bkpdg == 2212 and (trkcompl < 0.5 or trkpur < 0.5)'\n",
    "\n",
    "print (QUERY)"
   ]
  },
  {
   "cell_type": "code",
   "execution_count": 133,
   "metadata": {},
   "outputs": [
    {
     "data": {
      "image/png": "[encoded data removed]",
      "text/plain": [
       "<Figure size 576x504 with 2 Axes>"
      ]
     },
     "metadata": {
      "needs_background": "light"
     },
     "output_type": "display_data"
    }
   ],
   "source": [
    "import matplotlib.pyplot as plt\n",
    "import matplotlib\n",
    "\n",
    "QUERY = 'nslice == 1 and N_recoTrks > 1 and N_recoProtons >= 0 and N_recoShowers >= 0 and N_recoMuons >= 1 '# and reco_nu_vtx_sce_x < 10 and reco_nu_vtx_sce_y < 0 '# and trackcaloenergy < 0.1'# and (trkthetacos > 0.86 or trkthetacos < 0.85)'\n",
    "\n",
    "VARIABLE, BINS, RANGE, XTIT = 'reco_e',25,(0.01,2.0),\"Reconstructed Energy [GeV]\"\n",
    "#VARIABLE, BINS, RANGE, XTIT = 'flash_time',1,(0,25.),\"flash time\"\n",
    "#VARIABLE, BINS, RANGE, XTIT = 'reco_nu_vtx_sce_z',27,(-200,1260.0),\"flash time\"\n",
    "fig, ax1, ax2 = my_plotter.plot_variable(\n",
    "    VARIABLE,   \n",
    "    query= QUERY ,#BDTCQ,#NPLCUTQ, #QUERY, #'nslice == 1', #QUERY, #+\" and category != 111\",\n",
    "    kind=\"event_category\",\n",
    "    #kind=\"sample\",\n",
    "    #kind=\"interaction\",\n",
    "    #kind='particle_pdg',\n",
    "    draw_sys=False,\n",
    "    stacksort=3,\n",
    "    title=XTIT,\n",
    "    #bins=asymm_bins,\n",
    "    bins=BINS,\n",
    "    range=RANGE,\n",
    ")[0:3]\n",
    "\n",
    "#print(\"Profile likelihood: %.2f sigma @ 1.01e21 POT\" % my_plotter.significance_likelihood)\n",
    "#print(\"s/sqrt(b): %.2f sigma @ 1.01e21 POT\" % my_plotter.significance)\n",
    "\n",
    "#ax1.set_ylim(0,40)\n",
    "#ax1.set_yscale(\"log\")\n",
    "#ax1.set_ylim(0,240)\n",
    "#ax1.set_yscale('log')\n",
    "#ax1.set_ylim(0,ax1.get_ylim()[1]*1.25)\n",
    "#ax2.set_ylim(0.,2.)\n",
    "\n",
    "ax1.set_title('NuMI Run 1 \\n at least 1 MIP Simple Cuts Sel - No pi0 scaling',loc='left')\n",
    "fig.tight_layout()\n",
    "#fig.savefig(\"/Users/elenag/Desktop/NuMI/Dirt/\"+VARIABLE+\"_Slice1.pdf\")"
   ]
  },
  {
   "cell_type": "code",
   "execution_count": null,
   "metadata": {},
   "outputs": [],
   "source": [
    "# nue preselection\n",
    "PRESQ = 'nslice == 1'\n",
    "PRESQ += ' and selected == 1'\n",
    "PRESQ += ' and shr_energy_tot_cali > 0.07'\n",
    "PRESQ += ' and ( (_opfilter_pe_beam > 0 and _opfilter_pe_veto < 20) or bnbdata == 1 or extdata == 1)'"
   ]
  },
  {
   "cell_type": "code",
   "execution_count": null,
   "metadata": {},
   "outputs": [],
   "source": []
  },
  {
   "cell_type": "code",
   "execution_count": null,
   "metadata": {},
   "outputs": [],
   "source": [
    "TWOSHWRS = PRESQ\n",
    "TWOSHWRS += ' and n_showers_contained >= 2'\n"
   ]
  },
  {
   "cell_type": "code",
   "execution_count": null,
   "metadata": {},
   "outputs": [],
   "source": [
    "# 1eNp preselection\n",
    "NPPRESQ = PRESQ\n",
    "NPPRESQ += ' and n_tracks_contained > 0'"
   ]
  },
  {
   "cell_type": "code",
   "execution_count": null,
   "metadata": {},
   "outputs": [],
   "source": [
    "# very loose box cuts\n",
    "NPVLCUTQ = NPPRESQ\n",
    "NPVLCUTQ += ' and CosmicIPAll3D > 10.'\n",
    "NPVLCUTQ += ' and trkpid < 0.25'\n",
    "NPVLCUTQ += ' and hits_ratio > 0.5'\n",
    "NPVLCUTQ += ' and trkfit < 0.90'\n",
    "NPVLCUTQ += ' and n_showers_contained == 1'\n",
    "NPVLCUTQ += ' and tksh_distance < 10.0'\n",
    "NPVLCUTQ += ' and tksh_angle > -0.9'"
   ]
  },
  {
   "cell_type": "code",
   "execution_count": null,
   "metadata": {},
   "outputs": [],
   "source": [
    "# loose box cuts\n",
    "NPLCUTQ = NPVLCUTQ\n",
    "NPLCUTQ += ' and CosmicIPAll3D > 10.'\n",
    "NPLCUTQ += ' and trkpid < 0.02'\n",
    "NPLCUTQ += ' and hits_ratio > 0.50'\n",
    "NPLCUTQ += ' and shrmoliereavg < 9'\n",
    "NPLCUTQ += ' and subcluster > 4'\n",
    "NPLCUTQ += ' and trkfit < 0.65'\n",
    "NPLCUTQ += ' and n_showers_contained == 1'\n",
    "NPLCUTQ += ' and tksh_distance < 6.0'\n",
    "NPLCUTQ += ' and (shr_tkfit_nhits_tot > 1 and shr_tkfit_dedx_max > 0.5 and shr_tkfit_dedx_max < 5.5)'\n",
    "NPLCUTQ += ' and secondshower_Y_nhit < 50'\n",
    "NPLCUTQ += ' and tksh_angle > -0.9'"
   ]
  },
  {
   "cell_type": "code",
   "execution_count": null,
   "metadata": {},
   "outputs": [],
   "source": [
    "NPLCUTQPlus = NPPRESQ\n",
    "NPLCUTQPlus += ' and CosmicIPAll3D > 10.'\n",
    "NPLCUTQPlus += ' and trkpid < 0.25'\n",
    "NPLCUTQPlus += ' and hits_ratio > 0.5'\n",
    "NPLCUTQPlus += ' and trkfit < 0.90'\n",
    "NPLCUTQPlus += ' and tksh_distance < 10.0'\n",
    "NPLCUTQPlus += ' and tksh_angle > -0.9'\n",
    "NPLCUTQPlus += ' and CosmicIPAll3D > 10.'\n",
    "NPLCUTQPlus += ' and trkpid < 0.02'\n",
    "NPLCUTQPlus += ' and hits_ratio > 0.50'\n",
    "NPLCUTQPlus += ' and shrmoliereavg < 9'\n",
    "NPLCUTQPlus += ' and subcluster > 4'\n",
    "NPLCUTQPlus += ' and trkfit < 0.65'\n",
    "#NPLCUTQPlus += ' and n_showers_contained > 1'\n",
    "NPLCUTQPlus += ' and tksh_distance < 6.0'\n",
    "NPLCUTQPlus += ' and (shr_tkfit_nhits_tot > 1 and shr_tkfit_dedx_max > 0.5 and shr_tkfit_dedx_max < 5.5)'\n",
    "NPLCUTQPlus += ' and secondshower_Y_nhit < 50'\n",
    "NPLCUTQPlus += ' and tksh_angle > -0.9'"
   ]
  },
  {
   "cell_type": "code",
   "execution_count": null,
   "metadata": {},
   "outputs": [],
   "source": [
    "# tight box cuts\n",
    "NPTCUTQ = NPLCUTQ\n",
    "NPTCUTQ += ' and CosmicIPAll3D > 30.'\n",
    "NPTCUTQ += ' and CosmicDirAll3D > -0.98 and CosmicDirAll3D < 0.98'\n",
    "NPTCUTQ += ' and trkpid < 0.02'\n",
    "NPTCUTQ += ' and hits_ratio > 0.65'\n",
    "NPTCUTQ += ' and shr_score < 0.25'\n",
    "NPTCUTQ += ' and shrmoliereavg > 2 and shrmoliereavg < 10'\n",
    "NPTCUTQ += ' and subcluster > 7'\n",
    "NPTCUTQ += ' and trkfit < 0.70'\n",
    "NPTCUTQ += ' and n_showers_contained == 1'\n",
    "NPTCUTQ += ' and tksh_distance < 4.0'\n",
    "NPTCUTQ += ' and trkshrhitdist2 < 1.5'\n",
    "NPTCUTQ += ' and (shr_tkfit_nhits_tot > 1 and shr_tkfit_dedx_max > 1.0 and shr_tkfit_dedx_max < 3.8)'\n",
    "NPTCUTQ += ' and (secondshower_Y_nhit<=8 or secondshower_Y_dot<=0.8 or anglediff_Y<=40 or secondshower_Y_vtxdist>=100)'\n",
    "NPTCUTQ += ' and secondshower_Y_nhit < 30'\n",
    "NPTCUTQ += ' and tksh_angle > -0.9 and tksh_angle < 0.70'"
   ]
  },
  {
   "cell_type": "code",
   "execution_count": null,
   "metadata": {},
   "outputs": [],
   "source": [
    "# OLD loose box cuts\n",
    "OLCUTQ = PRESQ\n",
    "OLCUTQ += ' and CosmicIP > 20.'\n",
    "OLCUTQ += ' and trkpid < 0.1'\n",
    "OLCUTQ += ' and hits_ratio > 0.5'\n",
    "OLCUTQ += ' and shr_score < 0.30'\n",
    "OLCUTQ += ' and n_showers_contained == 1'\n",
    "OLCUTQ += ' and tksh_distance < 6.0'\n",
    "OLCUTQ += ' and shr_tkfit_2cm_dedx_avg < 4.0'\n",
    "OLCUTQ += ' and tksh_angle > -0.9'\n",
    "# OLD tight box cuts\n",
    "OTCUTQ = OLCUTQ\n",
    "OTCUTQ += ' and tksh_distance < 3.5'\n",
    "OTCUTQ += ' and (shr_tkfit_2cm_dedx_Y > 0 and shr_tkfit_2cm_dedx_Y < 4.0 and shr_tkfit_2cm_dedx_U < 4.0 and shr_tkfit_2cm_dedx_V < 4.0)'\n",
    "OTCUTQ += ' and (shr_tkfit_gap10_dedx_Y > 0 and shr_tkfit_gap10_dedx_Y < 4.5 and shr_tkfit_gap10_dedx_U < 4.5 and shr_tkfit_gap10_dedx_V < 4.5)'\n",
    "OTCUTQ += ' and tksh_angle > -0.9 and tksh_angle < 0.75'\n",
    "OTCUTQ += ' and shrmoliereavg > 2 and shrmoliereavg < 9'\n",
    "OTCUTQ += ' and trkpid < -0.02'\n",
    "OTCUTQ += ' and n_showers_contained == 1'\n",
    "OTCUTQ += ' and shr_score < 0.275'\n",
    "OTCUTQ += ' and hits_ratio > 0.60'\n",
    "OTCUTQ += ' and (secondshower_Y_nhit<=8 or secondshower_Y_dot<=0.8 or anglediff_Y<=40 or secondshower_Y_vtxdist>=100)'\n",
    "OTCUTQ += ' and (trkfit < 0.45 or subcluster > 6)'"
   ]
  },
  {
   "cell_type": "code",
   "execution_count": null,
   "metadata": {},
   "outputs": [],
   "source": [
    "# BDT cuts\n",
    "# 0304 extnumi, pi0 and nonpi0\n",
    "BDTCQ = NPPRESQ\n",
    "BDTCQ += ' and pi0_score > 0.67 and nonpi0_score > 0.70'"
   ]
  },
  {
   "cell_type": "code",
   "execution_count": null,
   "metadata": {},
   "outputs": [],
   "source": [
    "myPre = \"nslice == 1 and selected == 1 and shr_energy_tot_cali > 0.07 and ( (_opfilter_pe_beam > 0 and _opfilter_pe_veto < 20) or bnbdata == 1 or extdata == 1) and n_tracks_contained > 0\""
   ]
  },
  {
   "cell_type": "code",
   "execution_count": null,
   "metadata": {},
   "outputs": [],
   "source": [
    "# loose box cuts\n",
    "NPLCUTQ2 = NPPRESQ\n",
    "NPLCUTQ2 += ' and CosmicIPAll3D > 10.'\n",
    "NPLCUTQ2 += ' and hits_ratio > 0.5'\n",
    "NPLCUTQ2 += ' and trkfit < 0.90'\n",
    "NPLCUTQ2 += ' and n_showers_contained == 1'\n",
    "NPLCUTQ2 += ' and tksh_distance < 10.0'\n",
    "NPLCUTQ2 += ' and tksh_angle > -0.9'\n",
    "NPLCUTQ2 += ' and CosmicIPAll3D > 10.'\n",
    "#NPLCUTQ2 += ' and trkpid < 0.02'\n",
    "NPLCUTQ2 += ' and hits_ratio > 0.50'\n",
    "NPLCUTQ2 += ' and shrmoliereavg < 9'\n",
    "NPLCUTQ2 += ' and subcluster > 4'\n",
    "NPLCUTQ2 += ' and trkfit < 0.65'\n",
    "NPLCUTQ2 += ' and n_showers_contained == 1'\n",
    "NPLCUTQ2 += ' and tksh_distance < 6.0'\n",
    "NPLCUTQ2 += ' and (shr_tkfit_nhits_tot > 1 and shr_tkfit_dedx_max > 0.5 and shr_tkfit_dedx_max < 5.5)'\n",
    "NPLCUTQ2 += ' and secondshower_Y_nhit < 50'\n",
    "NPLCUTQ2 += ' and tksh_angle > -0.9'"
   ]
  },
  {
   "cell_type": "code",
   "execution_count": null,
   "metadata": {},
   "outputs": [],
   "source": [
    "SCORECUT = 0.5 # 0.75 #75 # max track score                                                                                                                                                                        \n",
    "DVTX = 3.0 # 3. # distance from vertex of each shower                                                                                                                                                              \n",
    "VTXDOT = 0.8 # dot product between each shower's direction and the vtx -> shr start vector                                                                                                                         \n",
    "EMIN1 =  60 #150 #60   # leading photon min energy                                                                                                                                                                        \n",
    "EMIN2 =  40 #100 #40   # subleading photon min energy                                                                                                                                                          \n",
    "GAMMADOT = 0.94 #0 #0.94 # max dot product between showres                                                                                                                                                                  \n",
    "DEDXCUT = 1.0 # MeV/cm cut on leading shower only                                                                                                                                                                  \n",
    "PI0SEL = 'nslice == 1'\n",
    "PI0SEL += ' & pi0_shrscore1 < %f & pi0_shrscore2 < %f'%(SCORECUT,SCORECUT)\n",
    "PI0SEL += '& pi0_dot1  > %f & pi0_dot2 > %f '%(VTXDOT,VTXDOT)\n",
    "PI0SEL += ' & pi0_radlen1 > %f & pi0_radlen2 > %f & pi0_gammadot < %f '%(DVTX,DVTX,GAMMADOT)\n",
    "PI0SEL += ' & pi0_energy1_Y > %f & pi0_energy2_Y > %f'%(EMIN1,EMIN2)\n",
    "#PI0SEL += ' and (filter_pi0 == 1 or bnbdata==1 or extdata==1)'                                                                                                                                                    \n",
    "#PI0SEL += ' and (filter_pi0 == 1)'                                                                                                                                                                                \n",
    "PI0SEL += ' and pi0_dedx1_fit_Y >= %f'%DEDXCUT"
   ]
  },
  {
   "cell_type": "code",
   "execution_count": null,
   "metadata": {},
   "outputs": [],
   "source": [
    "NUMUOnTheFly = 'nslice == 1 and topological_score > 0.06 '\n",
    "NUMUOnTheFly += ' and reco_nu_vtx_sce_x > 5 and reco_nu_vtx_sce_x < 251'\n",
    "NUMUOnTheFly += ' and reco_nu_vtx_sce_y > -110 and reco_nu_vtx_sce_y < 110'\n",
    "NUMUOnTheFly += ' and reco_nu_vtx_sce_z > 20 and reco_nu_vtx_sce_z < 986'\n",
    "NUMUOnTheFly += ' and trk_score > 0.8 and trk_len > 10 and trk_distance < 4'"
   ]
  },
  {
   "cell_type": "code",
   "execution_count": null,
   "metadata": {},
   "outputs": [],
   "source": [
    "# Define actual selection\n",
    "# QUERY = NPTCUTQ #NPTCUTQ\n",
    "#QUERY = NPPRESQ\n",
    "#QUERY = NPLCUTQ #NPTCUTQ NPLCUTQ\n",
    "#QUERY = NPPRESQ \n",
    "QUERY = NPLCUTQ +\" and \"+ BDTCQ #PI0SEL#NUMUOnTheFly + ' and n_showers_contained == 1'  #PI0SEL#NPLCUTQ2 #NPLCUTQ #NPPRESQ#'nslice ==1 ' #NPPRESQ #PRESQ\n",
    "# in case you do not want to look at the data\n",
    "#QUERY += ' and bnbdata==0'\n",
    "# in case you want to apply the CRT veto\n",
    "#if ISRUN3: QUERY += ' and (crtveto!=1) and (_closestNuCosmicDist > 20.)'"
   ]
  },
  {
   "cell_type": "code",
   "execution_count": null,
   "metadata": {},
   "outputs": [],
   "source": [
    "print(NPLCUTQPlus)"
   ]
  },
  {
   "cell_type": "code",
   "execution_count": null,
   "metadata": {},
   "outputs": [],
   "source": [
    "KSEL = 'nslice == 1'\n",
    "KSEL += ' and selected == 1'\n",
    "KSEL += ' and reco_nu_vtx_sce_x > 5 and reco_nu_vtx_sce_x < 251'\n",
    "KSEL += ' and reco_nu_vtx_sce_y > -110 and reco_nu_vtx_sce_y < 110'\n",
    "KSEL += ' and reco_nu_vtx_sce_z > 20 and reco_nu_vtx_sce_z < 986'\n",
    "KSEL += ' and contained_fraction > 0.9'\n",
    "KSEL += ' and ( (_opfilter_pe_beam > 0 and _opfilter_pe_veto < 20) or bnbdata == 1 or extdata == 1)'\n",
    "KSEL += ' and shr_energy_tot_cali > 0.07'\n",
    "KSEL += ' and n_tracks_contained > 0'\n",
    "KSEL += ' and n_showers_contained == 1'\n",
    "KSEL += ' and subcluster > 6'\n",
    "KSEL += ' and shrmoliereavg < 10'\n",
    "KSEL += ' and tksh_distance < 6.0'\n",
    "KSEL += ' and shr_tkfit_dedx_max < 0.0'"
   ]
  },
  {
   "cell_type": "code",
   "execution_count": null,
   "metadata": {
    "colab": {
     "base_uri": "https://localhost:8080/",
     "height": 561
    },
    "colab_type": "code",
    "executionInfo": {
     "elapsed": 2342,
     "status": "ok",
     "timestamp": 1560557343774,
     "user": {
      "displayName": "Stefano Roberto Soleti",
      "photoUrl": "https://lh4.googleusercontent.com/-hfLpspJu4Q0/AAAAAAAAAAI/AAAAAAAABmA/2kE4rtj8paU/s64/photo.jpg",
      "userId": "10372352518008961760"
     },
     "user_tz": 240
    },
    "id": "b93hN-pGYJ9T",
    "outputId": "17e7c7ed-3f12-4b03-805c-6698f1617878",
    "scrolled": false
   },
   "outputs": [],
   "source": [
    "import matplotlib.pyplot as plt\n",
    "import matplotlib\n",
    "# v = \"$\\cos\\left(\\theta_{\\mu}\\right)$\"\n",
    "\n",
    "#QUERY += \" & pi0truth_elec_etot<15 & npi0 == 0 & ccnc == 0\"\n",
    "#QUERY += \" & muon_e>0.3 & npi0 == 0 & ccnc == 0\"\n",
    "#QUERY = \"(muon_e<0.3 | pi0truth_elec_etot>=15) & npi0 == 0 & npion == 0 & ccnc == 0 & nu_pdg == 14 & category == 2\"\n",
    "#QUERY += \" & ~((muon_e<0.3 | pi0truth_elec_etot>=15) & npi0 == 0 & npion == 0 & ccnc == 0 & nu_pdg == 14 & category != 5)\"\n",
    "\n",
    "QUERY = KSEL\n",
    "#VARIABLE, BINS, RANGE, XTIT = 'reco_e', 10, (0.15,2.15), r\"Reconstructed Energy [GeV]\"\n",
    "#VARIABLE, BINS, RANGE, XTIT = 'pi0_mass_Y',100,(0,1000.),\"pi0 mass Y\"\n",
    "VARIABLE, BINS, RANGE, XTIT = 'shr_tkfit_dedx_max',25,(-1000000,0.),\"dedx fit max\"\n",
    "#VARIABLE, BINS, RANGE, XTIT = 'trk_len',50,(0,400.),\"track length\"\n",
    "\n",
    "#VARIABLE, BINS, RANGE, XTIT = 'pi0_gammadot',10,(-1.,1.0),r\" pi0 gammadot \"\n",
    "#VARIABLE, BINS, RANGE, XTIT = 'topological_score',25,(0,1),r\"topological score\"\n",
    "#VARIABLE, BINS, RANGE, XTIT = 'reco_nu_vtx_sce_x',20,(-10,260),\"x\"\n",
    "#VARIABLE, BINS, RANGE, XTIT = 'nonpi0_score',10,(0.5,1.5),\"non pi0 score\"\n",
    "\n",
    "#VARIABLE, BINS, RANGE, XTIT = 'n_showers_contained',10,(0.,10.),r\"n showers contained\"\n",
    "#VARIABLE, BINS, RANGE, XTIT = 'pi0truth_elec_etot',20,(0.,60),r\"Michel Energy [GeV]\"\n",
    "#QUERY = PI0SEL #NPLCUTQ2#BDTCQ+\" and \"+NPLCUTQ\n",
    "#fig, ax1, ax2 = my_plotter.plot_variable(\n",
    "fig, ax1, ax2 = my_plotter.plot_variable(\n",
    "    VARIABLE,   \n",
    "    query= QUERY ,#BDTCQ,#NPLCUTQ, #QUERY, #'nslice == 1', #QUERY, #+\" and category != 111\",\n",
    "    kind=\"event_category\",\n",
    "    #kind=\"sample\",\n",
    "    #kind=\"interaction\",\n",
    "    #kind='particle_pdg',\n",
    "    draw_sys=False,\n",
    "    stacksort=3,\n",
    "    title=XTIT,\n",
    "    #bins=asymm_bins,\n",
    "    bins=BINS,\n",
    "    range=RANGE,\n",
    ")[0:3]\n",
    "\n",
    "#print(\"Profile likelihood: %.2f sigma @ 1.01e21 POT\" % my_plotter.significance_likelihood)\n",
    "#print(\"s/sqrt(b): %.2f sigma @ 1.01e21 POT\" % my_plotter.significance)\n",
    "\n",
    "#ax1.set_ylim(0,40)\n",
    "#ax1.set_yscale(\"log\")\n",
    "#ax1.set_ylim(0,240)\n",
    "#ax1.set_yscale('log')\n",
    "#ax1.set_ylim(0,ax1.get_ylim()[1]*1.25)\n",
    "#ax2.set_ylim(0.,2.)\n",
    "\n",
    "ax1.set_title('NuMI Run 1 \\n1eNp BDT Sel - No pi0 scaling',loc='left')\n",
    "fig.tight_layout()\n",
    "#fig.savefig(\"/Users/elenag/Desktop/NuMI/NuMI4PeLEE/Sidebands/Figures/NuMI/1eNp/\"+VARIABLE+\".pdf\")\n",
    "#fig.savefig(\"/Users/elenag/Desktop/NuMI/NuMI4PeLEE/Sidebands/Figures/NuMI/Pi0/\"+VARIABLE+\"_noScale.pdf\")"
   ]
  },
  {
   "cell_type": "code",
   "execution_count": null,
   "metadata": {},
   "outputs": [],
   "source": [
    "VARIABLE, BINS, RANGE, XTIT = 'reco_e', 10, (0.15,2.15), r\"Reconstructed Energy [GeV]\"\n",
    "\n",
    "fig, ax1, ax2 = my_plotter.plot_variable(\n",
    "    VARIABLE,   \n",
    "    query= QUERY ,\n",
    "    kind=\"event_category\",\n",
    "    draw_sys=False,\n",
    "    stacksort=3,\n",
    "    title=XTIT,\n",
    "    #bins=asymm_bins,\n",
    "    bins=BINS,\n",
    "    range=RANGE,\n",
    ")[0:3]\n",
    "\n",
    "ax1.set_title('NuMI Run 1 \\n1eNp BDT Sel - No pi0 scaling',loc='left')\n",
    "fig.savefig(\"/Users/elenag/Desktop/NuMI/NuMI4PeLEE/Sidebands/Figures/NuMI/1eNp/BDTSel/\"+VARIABLE+\".pdf\")"
   ]
  },
  {
   "cell_type": "code",
   "execution_count": null,
   "metadata": {},
   "outputs": [],
   "source": []
  },
  {
   "cell_type": "code",
   "execution_count": null,
   "metadata": {},
   "outputs": [],
   "source": [
    "print(NPLCUTQ)\n",
    "print()\n",
    "print(BDTCQ)\n",
    "print()\n",
    "print(myPre)"
   ]
  },
  {
   "cell_type": "code",
   "execution_count": null,
   "metadata": {},
   "outputs": [],
   "source": [
    "print(data.query(QUERY)[[\"run\",\"sub\",\"evt\",\"reco_e\"]])\n",
    "#tablevars = [\"run\",\"sub\",\"evt\",\"reco_e\",\"pi0_score\",\"nonpi0_score\"]\n",
    "tablevars = [\"run\",\"sub\",\"evt\"]\n",
    "tablevars+=TRAINVAR\n",
    "print(tablevars)\n",
    "#data.query(PRESQ+\" & run==14822\")[tablevars]\n",
    "#data.query(\"run==5151\")[tablevars]\n"
   ]
  },
  {
   "cell_type": "code",
   "execution_count": null,
   "metadata": {},
   "outputs": [],
   "source": [
    "mc.query(QUERY+\"& ccnc==0 & nu_pdg==14 & mcf_np0==0\")[[\"run\",\"sub\",\"evt\",\"reco_e\",\"mcf_lep_e\",\"mcf_mcshr_elec_etot\"]]"
   ]
  },
  {
   "cell_type": "code",
   "execution_count": null,
   "metadata": {},
   "outputs": [],
   "source": []
  },
  {
   "cell_type": "code",
   "execution_count": null,
   "metadata": {
    "scrolled": false
   },
   "outputs": [],
   "source": [
    "QUERY = BDTCQ+\" and \"+NPLCUTQ#+\" and reco_e < 0.5\" #NPLCUTQ2# BDTCQ #BDTCQ+\" and \"+NPLCUTQ\n",
    "print(QUERY)\n",
    "\n",
    "scaling = 1\n",
    "\n",
    "SPLIT = 1.0\n",
    "if (USEBDT == True):\n",
    "    SPLIT = 2.\n",
    "\n",
    "\n",
    "nue = mc.query(\"(abs(nu_pdg) == 12 & ccnc == 0)\")\n",
    "samples = {\n",
    "    \"mc\": mc,\n",
    "    \"nue\": nue,\n",
    "    \"dirt\": dirt,\n",
    "    \"data\": data,\n",
    "    \"ext\": ext\n",
    "}\n",
    "\n",
    "scaling = 1\n",
    "pot = 8.885e+19 #9.789e+19 \n",
    "mcratio   = pot/2.07136e+21\n",
    "dirtratio = pot/1.42143e+21\n",
    "extratio  = 2347745.0/4015961.99\n",
    "SPLIT = 1.0\n",
    "scalingEXT = 0.98\n",
    "scalingDRT = 0.45\n",
    "\n",
    "weights = { #full sample mc = 0.38\n",
    "            \"mc\"  : mcratio  * SPLIT * scaling,   \n",
    "            \"nue\" : mcratio  * SPLIT * scaling,  \n",
    "            \"ext\" : extratio * SPLIT * scalingEXT,\n",
    "            \"dirt\": dirtratio* SPLIT * scalingDRT   \n",
    "}\n",
    "\n",
    "my_plotter = plotter.Plotter(samples, weights, pot=pot)\n",
    "print(weights)\n",
    "\n",
    "plots = []\n",
    "'''\n",
    "plots.append(['shr_score',20,(0,0.5),\"shr score\"])\n",
    "plots.append(['tksh_distance',5,(0,5),\"tksh distance [cm]\"])\n",
    "plots.append(['tksh_angle',10,(-1,1),\"cos(tksh angle)\"])\n",
    "plots.append(['shr_tkfit_dedx_max',15,(0,10),\"shr tkfit dE/dx (best-plane, 0-4 cm) [MeV/cm]\"])\n",
    "plots.append(['trkfit',10,(0,1),\"Fraction of Track-fitted points\"])\n",
    "plots.append(['trkpid',10,(-1,1),\"track LLR PID\"])\n",
    "plots.append(['shrmoliereavg',10,(0,25),\"average Moliere angle [degrees]\"])\n",
    "plots.append(['subcluster',15,(0,60),\"N sub-clusters in shower\"])\n",
    "plots.append(['hits_ratio',20,(0,1),\"shower hits/all hits\"])\n",
    "plots.append(['trkshrhitdist2',16,(-1,15),\"2D trk-shr distance (Y)\"])\n",
    "plots.append(['secondshower_Y_nhit',20,(0,200),\"Nhit 2nd shower (Y)\"])\n",
    "plots.append(['secondshower_Y_dot',20,(-1,1),\"cos(2nd shower direction wrt vtx) (Y)\"])\n",
    "plots.append(['secondshower_Y_vtxdist',20,(0.,400),\"vtx dist 2nd shower (Y)\"])\n",
    "plots.append(['anglediff_Y',10,(0,360),\"angle diff 1st-2nd shower (Y) [degrees]\"])\n",
    "plots.append(['CosmicIPAll3D',10,(0,200),\"CosmicIPAll3D [cm]\"])\n",
    "plots.append(['CosmicDirAll3D',10,(-1,1),\"cos(CosmicDirAll3D)\"])\n",
    "plots.append(['reco_nu_vtx_sce_y',15,(-150,150),\"reco nu vtx y [cm]\"])\n",
    "'''        \n",
    "#plots.append(['shr_tkfit_dedx_Y',20,(0,10),\"shr tkfit dE/dx (Y, 0-4 cm) [MeV/cm]\"])\n",
    "#plots.append(['shr_tkfit_dedx_U',20,(0,10),\"shr tkfit dE/dx (U, 0-4 cm) [MeV/cm]\"])\n",
    "#plots.append(['shr_tkfit_dedx_V',20,(0,10),\"shr tkfit dE/dx (V, 0-4 cm) [MeV/cm]\"])\n",
    "#plots.append(['shr_tkfit_2cm_dedx_Y',20,(0,10),\"shr tkfit dE/dx (Y, 0-2 cm) [MeV/cm]\"])\n",
    "#plots.append(['shr_tkfit_2cm_dedx_U',20,(0,10),\"shr tkfit dE/dx (U, 0-2 cm) [MeV/cm]\"])\n",
    "#plots.append(['shr_tkfit_2cm_dedx_V',20,(0,10),\"shr tkfit dE/dx (V, 0-2 cm) [MeV/cm]\"])\n",
    "#plots.append(['shr_tkfit_gap10_dedx_Y',20,(0,10),\"shr tkfit dE/dx (Y, 1-5 cm) [MeV/cm]\"])\n",
    "#plots.append(['shr_tkfit_gap10_dedx_U',20,(0,10),\"shr tkfit dE/dx (U, 1-5 cm) [MeV/cm]\"])\n",
    "#plots.append(['shr_tkfit_gap10_dedx_V',20,(0,10),\"shr tkfit dE/dx (V, 1-5 cm) [MeV/cm]\"])\n",
    "#plots.append(['shr_tkfit_dedx_avg',20,(0,10),\"shr tkfit dE/dx (avg, 0-4 cm) [MeV/cm]\"])\n",
    "#plots.append(['shr_tkfit_nhits_tot',20,(0,20),\"shr tkfit nhits (tot, 0-4 cm) [MeV/cm]\"])\n",
    "#plots.append(['shr_tkfit_2cm_dedx_avg',20,(0,10),\"shr tkfit dE/dx (avg, 0-2 cm) [MeV/cm]\"])\n",
    "#plots.append(['shr_tkfit_2cm_nhits_tot',20,(0,20),\"shr tkfit nhits (tot, 0-2 cm) [MeV/cm]\"])\n",
    "#plots.append(['shr_tkfit_gap10_dedx_avg',20,(0,10),\"shr tkfit dE/dx (avg, 1-5 cm) [MeV/cm]\"])\n",
    "#plots.append(['shr_tkfit_gap10_nhits_tot',20,(0,20),\"shr tkfit nhits (tot, 1-5 cm) [MeV/cm]\"])\n",
    "#plots.append(['shr_tkfit_nhits_tot',20,(0,20),\"shr tkfit nhits (tot, 0-4 cm) [MeV/cm]\"])\n",
    "#plots.append(['shr_tkfit_dedx_max',20,(0,10),\"shr tkfit dE/dx (best-plane, 0-4 cm) [MeV/cm]\"])\n",
    "#plots.append(['n_showers_contained',10,(0,10),\"n showers contained\"])\n",
    "plots.append(['n_tracks_contained',5,(0,5),\"n tracks contained\"])\n",
    "plots.append(['protonenergy',10,(0.,0.5),\"Proton Kinetic Energy [GeV]\"])\n",
    "plots.append(['trk_theta',10,(0,3.0),\"Track theta\"])\n",
    "plots.append(['shr_theta',10,(0,3.0),\"Shower theta\"])\n",
    "plots.append(['pt',10,(0,2.),\"Pt [GeV]\"])\n",
    "plots.append(['shr_phi',10,(-3,3),\"Shower phi\"])\n",
    "plots.append(['shr_energy_tot_cali',20,(0,2),\"shr energy (calibrated) [GeV]\"])\n",
    "#plots.append(['reco_nu_vtx_sce_z',20,(0,1100),\"z\"])\n",
    "#plots.append(['reco_e_rqe',20,(0,2),\"rqe\"])\n",
    "#plots.append(['shrmoliererms',20,(0,5000),\"RMS Moliere angle [degrees]\"])\n",
    "\n",
    "#plots.append(['contained_fraction',20,(0.,1),\"contained fraction\"])\n",
    "#plots.append(['hits_y',20,(0.,1000),\"N hits Y plane\"])\n",
    "#plots.append(['pi0_mass_Y',25,(-50.,200),\"pi0 mass [Mev]\"])\n",
    "#plots.append(['pi0_gammadot',20,(-1,1),\"2-shower angle\"])\n",
    "if USEBDT:\n",
    "    #plots = []\n",
    "    #plots.append(['pi0_score',20,(0.9,1),\"$\\pi^0$ BDT response\"])\n",
    "    #plots.append(['nonpi0_score',20,(0.9,1),\"non-$\\pi^0$ BDT response\"])\n",
    "    #plots.append(['pi0_score',10,(0.,0.5),\"$\\pi^0$ BDT response\"])\n",
    "    #plots.append(['nonpi0_score',10,(0.,0.5),\"non-$\\pi^0$ BDT response\"])\n",
    "    plots.append(['pi0_score',10,(0,1.0),\"$\\pi^0$ BDT response\"])\n",
    "    plots.append(['nonpi0_score',10,(0,1.0),\"non-$\\pi^0$ BDT response\"])\n",
    "#plots = []\n",
    "#plots.append(['tksh_distance',20,(0,10),\"tksh distance [cm]\"])\n",
    "\n",
    "#plots.append(['secondshower_Y_nhit',20,(0,200),\"Nhit 2nd shower (Y)\"])\n",
    "#plots.append(['secondshower_Y_dot',20,(-1,1),\"cos(2nd shower direction wrt vtx) (Y)\"])\n",
    "#plots.append(['anglediff_Y',20,(0,350),\"angle diff 1st-2nd shower (Y) [degrees]\"])\n",
    "#plots.append(['secondshower_Y_vtxdist',20,(0.,200),\"vtx dist 2nd shower (Y)\"])\n",
    "for VARIABLE, BINS, RANGE, XTIT in plots:\n",
    "    print(VARIABLE, BINS, RANGE, XTIT)\n",
    "    fig, ax1, ax2 = my_plotter.plot_variable(\n",
    "        VARIABLE,   \n",
    "        query=QUERY,\n",
    "        kind=\"event_category\",\n",
    "        #kind=\"interaction\",\n",
    "        #kind=\"sample\",\n",
    "        draw_sys=False,\n",
    "        stacksort=3,\n",
    "        title=XTIT,\n",
    "        bins=BINS,\n",
    "        range=RANGE,\n",
    "    )[0:3]\n",
    "    #ax1.set_ylim(0,ax1.get_ylim()[1]*1.4)\n",
    "    #ax1.set_yscale(\"log\")\n",
    "    #fig.show()\n",
    "    #ax1.set_title('NuMI Run 1 \\n1eNp Loose Box Cuts - No pi0 scaling',loc='left')\n",
    "    ax1.set_title('NuMI Run 1 \\n1eNp BDT Sel. - No pi0 scaling',loc='left')\n",
    "    fig.tight_layout()\n",
    "    #fig.savefig(\"/Users/elenag/Desktop/NuMI/NuMI4PeLEE/Sidebands/Figures/NuMI/1eNp/\"+VARIABLE+\".pdf\")\n",
    "    fig.savefig(\"/Users/elenag/Desktop/NuMI/NuMI4PeLEE/Sidebands/Figures/NuMI/1eNp/BDTSel/\"+VARIABLE+\".pdf\")\n",
    "    #fig.savefig(ls.plots_path+\"\"+VARIABLE+\"_highscore.pdf\")\n",
    "    #break"
   ]
  },
  {
   "cell_type": "code",
   "execution_count": null,
   "metadata": {},
   "outputs": [],
   "source": [
    "QUERY == BDTCQ+\" and \"+NPLCUTQ+\" and reco_e < 0.5\"\n",
    "print(QUERY)\n",
    "f = data.query(QUERY)[[\"run\",\"sub\"]]#.to_string(index=False)\n",
    "query4SamWeb = f.apply(lambda x: str(x['run'])+'.'+str(x['sub'])+',', axis=1).sum()\n",
    "print(\"defname: numi_uboone_run1_beamon_offset1_mcc9_reco2_v08_00_00_28_v0 and run_number \"+query4SamWeb)\n",
    "\n",
    "f = data.query(QUERY)[[\"run\",\"sub\",\"evt\",\"reco_e\"]]\n",
    "print (f)"
   ]
  },
  {
   "cell_type": "code",
   "execution_count": null,
   "metadata": {},
   "outputs": [],
   "source": [
    "\n",
    "\n",
    "QUERY = PI0SEL\n",
    "plots = []\n",
    "\n",
    "plots.append(['pi0_dedx1_fit_Y',20,(0,10),\"pi0 dedx1 fit Y [MeV/cm]\"])\n",
    "plots.append(['pi0_dedx2_fit_Y',20,(0,10),\"pi0 dedx2 fit Y [MeV/cm]\"])\n",
    "plots.append(['tksh_distance',20,(0,60),\"tksh distance [cm]\"])\n",
    "plots.append(['pi0_energy1_Y',26,(0.,650),\"pi0 energy1 [Mev]\"])    \n",
    "plots.append(['pi0_energy2_Y',26,(0.,650),\"pi0 energy2 [Mev]\"])    \n",
    "plots.append(['pi0_mass_Y',25,(0.,500),\"pi0 mass [Mev]\"])\n",
    "plots.append(['pi0_gammadot',20,(-1,1),\"2-shower angle\"])\n",
    "\n",
    "for VARIABLE, BINS, RANGE, XTIT in plots:\n",
    "    print(VARIABLE, BINS, RANGE, XTIT)\n",
    "    fig, ax1, ax2 = my_plotter.plot_variable(\n",
    "        VARIABLE,   \n",
    "        query=QUERY,\n",
    "        kind=\"event_category\",\n",
    "        #kind=\"interaction\",\n",
    "        #kind=\"sample\",\n",
    "        draw_sys=False,\n",
    "        stacksort=3,\n",
    "        title=XTIT,\n",
    "        bins=BINS,\n",
    "        range=RANGE,\n",
    "    )[0:3]\n",
    "    ax1.set_title('NuMI Run 1 \\nPi0 Sel - No pi0 scaling',loc='left')\n",
    "    fig.tight_layout()\n",
    "    fig.savefig(\"/Users/elenag/Desktop/NuMI/NuMI4PeLEE/Sidebands/Figures/NuMI/Pi0/\"+VARIABLE+\"_noScale.pdf\")\n"
   ]
  },
  {
   "cell_type": "code",
   "execution_count": null,
   "metadata": {},
   "outputs": [],
   "source": [
    "df_v = [mc,nue,dirt]\n",
    "#removeGenieTune = False\n",
    "for i,df in enumerate(df_v):\n",
    "    df[ 'currentweight' ] = df['weightSplineTimesTune']\n"
   ]
  },
  {
   "cell_type": "code",
   "execution_count": null,
   "metadata": {},
   "outputs": [],
   "source": [
    "scaleFlat = 2\n",
    "df_v = [mc,nue,dirt]\n",
    "#removeGenieTune = False\n",
    "for i,df in enumerate(df_v):\n",
    "    if scaleFlat == 1:\n",
    "        df['weightSplineTimesTune'] = df[ 'currentweight' ] \n",
    "        df.loc[ df['npi0'] > 0, 'weightSplineTimesTune' ] =  (df['weightSplineTimesTune'] * 0.759)\n",
    "    elif scaleFlat == 2:\n",
    "        df['weightSplineTimesTune'] = df[ 'currentweight' ] \n",
    "        pi0emax = 0.6\n",
    "        df.loc[ (df['pi0_e'] > 0.1) & (df['pi0_e'] < pi0emax) , 'weightSplineTimesTune'] = df['weightSplineTimesTune']*(1.-0.4*df['pi0_e'])\n",
    "        df.loc[ (df['pi0_e'] > 0.1) & (df['pi0_e'] >= pi0emax), 'weightSplineTimesTune'] = df['weightSplineTimesTune']*(1.-0.4*pi0emax)\n",
    "    elif scaleFlat == 0:\n",
    "        df['weightSplineTimesTune'] = df[ 'currentweight' ] \n"
   ]
  },
  {
   "cell_type": "code",
   "execution_count": null,
   "metadata": {},
   "outputs": [],
   "source": [
    "import plotter\n",
    "import importlib\n",
    "importlib.reload(plotter)"
   ]
  },
  {
   "cell_type": "code",
   "execution_count": null,
   "metadata": {},
   "outputs": [],
   "source": [
    "scaling = 1\n",
    "\n",
    "SPLIT = 1.0\n",
    "if (USEBDT == True):\n",
    "    SPLIT = 2.\n",
    "\n",
    "\n",
    "nue = mc.query(\"(abs(nu_pdg) == 12 & ccnc == 0)\")\n",
    "samples = {\n",
    "    \"mc\": mc,\n",
    "    \"nue\": nue,\n",
    "    \"dirt\": dirt,\n",
    "    \"data\": data,\n",
    "    \"ext\": ext\n",
    "}\n",
    "\n",
    "scaling = 1\n",
    "#scaling = 0.759\n",
    "pot = 8.885e+19 #9.789e+19 \n",
    "mcratio   = pot/2.07136e+21\n",
    "dirtratio = pot/1.42143e+21\n",
    "extratio  = 2347745.0/4015961.99\n",
    "SPLIT = 1.0\n",
    "scalingEXT = 0.98\n",
    "scalingDRT = 0.45\n",
    "\n",
    "weights = { #full sample mc = 0.38\n",
    "            \"mc\"  : mcratio  * SPLIT * scaling,   \n",
    "            \"ncpi0\"  : 10.,\n",
    "            \"nue\" : mcratio  * SPLIT * scaling,  \n",
    "            \"ext\" : extratio * SPLIT * scalingEXT,\n",
    "            \"dirt\": dirtratio* SPLIT * scalingDRT   \n",
    "}\n",
    "\n",
    "my_plotter = plotter.Plotter(samples, weights, pot=pot)\n",
    "print(weights)\n",
    "QUERY = PI0SEL\n",
    "plots = []\n",
    "\n",
    "plots.append(['pi0_dedx1_fit_Y',20,(0,10),\"pi0 dedx1 fit Y [MeV/cm]\"])\n",
    "plots.append(['pi0_dedx2_fit_Y',20,(0,10),\"pi0 dedx2 fit Y [MeV/cm]\"])\n",
    "plots.append(['tksh_distance',20,(0,60),\"tksh distance [cm]\"])\n",
    "plots.append(['pi0_energy1_Y',26,(0.,650),\"pi0 energy1 [Mev]\"])    \n",
    "plots.append(['pi0_energy2_Y',26,(0.,650),\"pi0 energy2 [Mev]\"])    \n",
    "plots.append(['pi0_mass_Y',25,(0.,500),\"pi0 mass [Mev]\"])\n",
    "plots.append(['pi0_gammadot',20,(-1,1),\"2-shower angle\"])\n",
    "\n",
    "for VARIABLE, BINS, RANGE, XTIT in plots:\n",
    "    print(VARIABLE, BINS, RANGE, XTIT)\n",
    "    fig, ax1, ax2 = my_plotter.plot_variable(\n",
    "        VARIABLE,   \n",
    "        query=QUERY,\n",
    "        kind=\"event_category\",#\"event_category\",\n",
    "        #kind=\"interaction\",\n",
    "        #kind=\"sample\",\n",
    "        draw_sys=False,\n",
    "        stacksort=3,\n",
    "        title=XTIT,\n",
    "        bins=BINS,\n",
    "        range=RANGE,\n",
    "    )[0:3]\n",
    "\n",
    "    \n",
    "    if scaleFlat == 1:\n",
    "        ax1.set_title('NuMI Run 1 \\nPi0 Sel - Pi0 Scaling: flat 0.759',loc='left')\n",
    "        fig.tight_layout()\n",
    "        fig.savefig(\"/Users/elenag/Desktop/NuMI/NuMI4PeLEE/Sidebands/Figures/NuMI/Pi0/\"+VARIABLE+\"_FlatScale.pdf\")\n",
    "    elif scaleFlat == 2:\n",
    "        ax1.set_title('NuMI Run 1 \\nPi0 Sel - Pi0 Scaling: [1-0.4 E_pi0]',loc='left')\n",
    "        fig.tight_layout()\n",
    "        fig.savefig(\"/Users/elenag/Desktop/NuMI/NuMI4PeLEE/Sidebands/Figures/NuMI/Pi0/\"+VARIABLE+\"_ScaleE.pdf\")\n",
    "    elif scaleFlat == 0:\n",
    "        ax1.set_title('NuMI Run 1 \\nPi0 Sel - Pi0 Scaling: none',loc='left')\n",
    "        fig.tight_layout()\n",
    "        fig.savefig(\"/Users/elenag/Desktop/NuMI/NuMI4PeLEE/Sidebands/Figures/NuMI/Pi0/\"+VARIABLE+\"_NoScale.pdf\")\n",
    "\n"
   ]
  },
  {
   "cell_type": "code",
   "execution_count": null,
   "metadata": {},
   "outputs": [],
   "source": [
    "PRESQ = 'nslice == 1'\n",
    "PRESQ += ' and selected == 1'\n",
    "PRESQ += ' and shr_energy_tot_cali > 0.07'\n",
    "PRESQ += ' and ( (_opfilter_pe_beam > 0 and _opfilter_pe_veto < 20) or bnbdata == 1 or extdata == 1)'\n",
    "\n",
    "ZPPRESEL = PRESQ\n",
    "ZPPRESEL += ' and n_tracks_contained == 0'\n",
    "ZPPRESEL_one_shower = ZPPRESEL + 'and n_showers_contained == 1'\n",
    "\n",
    "ZPLOOSESEL = ZPPRESEL\n",
    "ZPLOOSESEL += ' and n_showers_contained == 1'\n",
    "ZPLOOSESEL += ' and CosmicIPAll3D > 10.'\n",
    "ZPLOOSESEL += ' and CosmicDirAll3D > -0.9 and CosmicDirAll3D < 0.9'\n",
    "ZPLOOSESEL += ' and shrmoliereavg < 15'\n",
    "ZPLOOSESEL += ' and subcluster > 4'\n",
    "ZPLOOSESEL += ' and trkfit < 0.65'\n",
    "ZPLOOSESEL += ' and secondshower_Y_nhit < 50'\n",
    "ZPLOOSESEL += ' and shr_trk_sce_start_y > -100 and shr_trk_sce_start_y < 80'\n",
    "ZPLOOSESEL += ' and shr_trk_sce_end_y > -100 and shr_trk_sce_end_y < 100 '\n",
    "ZPLOOSESEL += ' and shr_trk_len < 300.'\n",
    "ZPLOOSESEL += ' and (n_tracks_tot == 0 or (n_tracks_tot>0 and tk1sh1_angle_alltk>-0.9))'\n",
    "ZPLOOSESEL += ' and n_tracks_contained == 0'\n",
    "\n",
    "ZPBDT = ZPLOOSESEL\n",
    "ZPBDT += ' and bkg_score >0.85'\n",
    "\n",
    "QUERY = ZPBDT"
   ]
  },
  {
   "cell_type": "code",
   "execution_count": null,
   "metadata": {},
   "outputs": [],
   "source": [
    "scaling = 1\n",
    "\n",
    "SPLIT = 1.0\n",
    "if (USEBDT == True):\n",
    "    SPLIT = 2.\n",
    "\n",
    "\n",
    "nue = mc.query(\"(abs(nu_pdg) == 12 & ccnc == 0)\")\n",
    "samples = {\n",
    "    \"mc\": mc,\n",
    "    \"nue\": nue,\n",
    "    \"dirt\": dirt,\n",
    "    \"data\": data,\n",
    "    \"ext\": ext\n",
    "}\n",
    "\n",
    "scaling = 1\n",
    "#scaling = 0.759\n",
    "pot = 8.885e+19 #9.789e+19 \n",
    "mcratio   = pot/2.07136e+21\n",
    "dirtratio = pot/1.42143e+21\n",
    "extratio  = 2347745.0/4015961.99\n",
    "SPLIT = 1.0\n",
    "scalingEXT = 0.98\n",
    "scalingDRT = 0.45\n",
    "\n",
    "weights = { #full sample mc = 0.38\n",
    "            \"mc\"  : mcratio  * SPLIT * scaling,   \n",
    "            \"nue\" : mcratio  * SPLIT * scaling,  \n",
    "            \"ext\" : extratio * SPLIT * scalingEXT, #set0   \n",
    "            \"dirt\": dirtratio* SPLIT * scalingDRT, #set0   \n",
    "}\n",
    "\n",
    "my_plotter = plotter.Plotter(samples, weights, pot=pot)\n",
    "print(weights)\n",
    "plots = []\n",
    "\n",
    "plots.append(['reco_e',20,(0,10),\"reco E [MeV]\"])\n",
    "\n",
    "for VARIABLE, BINS, RANGE, XTIT in plots:\n",
    "    print(VARIABLE, BINS, RANGE, XTIT)\n",
    "    fig, ax1, ax2 = my_plotter.plot_variable(\n",
    "        VARIABLE,   \n",
    "        query=QUERY,\n",
    "        kind=\"event_category\",\n",
    "        #kind=\"interaction\",\n",
    "        #kind=\"sample\",\n",
    "        draw_sys=False,\n",
    "        stacksort=3,\n",
    "        title=XTIT,\n",
    "        bins=BINS,\n",
    "        range=RANGE,\n",
    "    )[0:3]\n",
    "    ax1.set_title('NuMI Run 1',loc='left')\n",
    "    fig.tight_layout()"
   ]
  },
  {
   "cell_type": "code",
   "execution_count": null,
   "metadata": {},
   "outputs": [],
   "source": []
  }
 ],
 "metadata": {
  "accelerator": "GPU",
  "colab": {
   "name": "Plotter.ipynb",
   "provenance": [],
   "version": "0.3.2"
  },
  "kernelspec": {
   "display_name": "Python 3",
   "language": "python",
   "name": "python3"
  },
  "language_info": {
   "codemirror_mode": {
    "name": "ipython",
    "version": 3
   },
   "file_extension": ".py",
   "mimetype": "text/x-python",
   "name": "python",
   "nbconvert_exporter": "python",
   "pygments_lexer": "ipython3",
   "version": "3.7.6"
  }
 },
 "nbformat": 4,
 "nbformat_minor": 2
}
