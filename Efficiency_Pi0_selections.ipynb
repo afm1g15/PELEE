{
 "cells": [
  {
   "cell_type": "code",
   "execution_count": null,
   "metadata": {},
   "outputs": [],
   "source": [
    "%load_ext autoreload\n",
    "%autoreload 2"
   ]
  },
  {
   "cell_type": "code",
   "execution_count": null,
   "metadata": {},
   "outputs": [],
   "source": [
    "import localSettings as ls\n",
    "import numpy as np\n",
    "from load_data_run123 import *\n",
    "from unblinding_far_sideband import *\n",
    "from matplotlib import pyplot as plt\n",
    "from matplotlib import gridspec\n",
    "from scipy.optimize import curve_fit\n",
    "from plotting_tools import *\n",
    "from ccncpi0_analysis import *"
   ]
  },
  {
   "cell_type": "code",
   "execution_count": null,
   "metadata": {},
   "outputs": [],
   "source": [
    "ntuple_path = ls.ntuple_path+\"../1102/unfiltered/\""
   ]
  },
  {
   "cell_type": "code",
   "execution_count": null,
   "metadata": {},
   "outputs": [],
   "source": [
    "my_ccncpi0_analysis = ccncpi0_analysis(ntuple_path,addtlvars=[])"
   ]
  },
  {
   "cell_type": "markdown",
   "metadata": {},
   "source": [
    "# Run the analysis to perform the closure test\n",
    "## As presented at xsec mtg Jan 26,2021"
   ]
  },
  {
   "cell_type": "code",
   "execution_count": null,
   "metadata": {},
   "outputs": [],
   "source": [
    "# Define as a function of which variable to perform the analysis.\n",
    "# Options are: pi0enrg or pi0csth\n",
    "var = 'pi0enrg'\n",
    "\n",
    "v2d = var2dict[var]\n",
    "bin_edges = v2d['bin_edges']"
   ]
  },
  {
   "cell_type": "code",
   "execution_count": null,
   "metadata": {
    "scrolled": false
   },
   "outputs": [],
   "source": [
    "effs, effsErrs = my_ccncpi0_analysis.efficiency_plot(var,ylim=(0.,0.5))"
   ]
  },
  {
   "cell_type": "code",
   "execution_count": null,
   "metadata": {},
   "outputs": [],
   "source": [
    "effCC = effs['cc'][0]\n",
    "effNC = effs['nc'][0]\n",
    "print('effCC =',effCC)\n",
    "print('effNC =',effNC)"
   ]
  },
  {
   "cell_type": "code",
   "execution_count": null,
   "metadata": {},
   "outputs": [],
   "source": [
    "QUERY  = ACCEPTANCE+' and '+CCNCSEL\n",
    "\n",
    "fCCsel, fCCselErr = my_ccncpi0_analysis.efficiency_plot(var,ylim=(0.,1.0),numqs=[CCSEL,NCSEL], denq=QUERY,\\\n",
    "                                                        pi0_types=['ccnc==0','ccnc==0'],colors=['k','g'],\\\n",
    "                                                        labels=['CCSEL','NCSEL'])\n",
    "fNCsel, fNCselErr = my_ccncpi0_analysis.efficiency_plot(var,ylim=(0.,1.0),numqs=[CCSEL,NCSEL], denq=QUERY,\\\n",
    "                                                        pi0_types=['ccnc==1','ccnc==1'],colors=['k','g'],\\\n",
    "                                                        labels=['CCSEL','NCSEL'])"
   ]
  },
  {
   "cell_type": "code",
   "execution_count": null,
   "metadata": {},
   "outputs": [],
   "source": [
    "fCC = fCCsel['CCSEL'][0]\n",
    "fNC = fNCsel['NCSEL'][0]\n",
    "print('fCC =',fCC)\n",
    "print('fNC =',fNC)"
   ]
  },
  {
   "cell_type": "code",
   "execution_count": null,
   "metadata": {},
   "outputs": [],
   "source": [
    "trueratio = my_ccncpi0_analysis.ccnc_plot_withratio(var,queries=['ccnc==0','ccnc==1'],\\\n",
    "                                                    colors=['b','r'],labels=['true CC','true NC'],\\\n",
    "                                                    title='truth, in FV',rylab='NC/CC')\n",
    "print(\"trueratio =\", trueratio)"
   ]
  },
  {
   "cell_type": "code",
   "execution_count": null,
   "metadata": {},
   "outputs": [],
   "source": [
    "my_ccncpi0_analysis.ccnc_plot_withratio(var,acceptance=ACCEPTANCE+' and '+CCNCSEL,queries=['ccnc==0','ccnc==1'],\\\n",
    "                                        colors=['b','r'],labels=['true CC after CCNCSEL','true NC after CCNCSEL'],\\\n",
    "                                        title='truth, after selection',rylab='NC/CC')\n"
   ]
  },
  {
   "cell_type": "code",
   "execution_count": null,
   "metadata": {},
   "outputs": [],
   "source": [
    "n,b,p = my_ccncpi0_analysis.ccnc_plot(var,acceptance=ACCEPTANCE,queries=[CCSEL,NCSEL],\\\n",
    "                                      colors=['b','r'],labels=['true pi0 after CCSEL','true pi0 after NCSEL'],\\\n",
    "                                      title='truth, after selection',reco=True)\n",
    "\n",
    "recoCCsel = n[0]\n",
    "recoNCsel = n[1]\n",
    "\n",
    "print(np.sum(n,axis=1))\n",
    "print('recoCCsel:',recoCCsel)\n",
    "print('recoNCsel:',recoNCsel)"
   ]
  },
  {
   "cell_type": "code",
   "execution_count": null,
   "metadata": {},
   "outputs": [],
   "source": [
    "my_ccncpi0_analysis.ccnc_resolution_plot('pi0enrg',ACCEPTANCE+' and '+CCNCSEL,\\\n",
    "                                         'truth, after selection','true pi0 after CCNCSEL',\"Ereco-Etrue [GeV]\",\\\n",
    "                                         [250., 0., 0.1])"
   ]
  },
  {
   "cell_type": "code",
   "execution_count": null,
   "metadata": {},
   "outputs": [],
   "source": [
    "my_ccncpi0_analysis.ccnc_resolution_plot('pi0csth',ACCEPTANCE+' and '+CCNCSEL,\\\n",
    "                                         'truth, after selection','true pi0 after CCNCSEL',\"CosThetaReco-CosThetaRtrue\",\\\n",
    "                                         [250., 0., 0.1])"
   ]
  },
  {
   "cell_type": "code",
   "execution_count": null,
   "metadata": {},
   "outputs": [],
   "source": [
    "ccsm = my_ccncpi0_analysis.smearing_matrix(var,ACCEPTANCE+' and '+CCSEL,'CCpi0 selection')\n",
    "ncsm = my_ccncpi0_analysis.smearing_matrix(var,ACCEPTANCE+' and '+NCSEL,'NCpi0 selection')"
   ]
  },
  {
   "cell_type": "code",
   "execution_count": null,
   "metadata": {},
   "outputs": [],
   "source": [
    "my_ccncpi0_analysis.closure_test(var,ccsm,recoCCsel,ncsm,recoNCsel,effCC,effNC,fCC,fNC,trueratio)"
   ]
  },
  {
   "cell_type": "markdown",
   "metadata": {},
   "source": [
    "# Produce additional useful plots"
   ]
  },
  {
   "cell_type": "code",
   "execution_count": null,
   "metadata": {},
   "outputs": [],
   "source": [
    "e,ee = my_ccncpi0_analysis.efficiency_plot(var,ylim=(0.,0.5),numqs=CCSEL, denq=ACCEPTANCE,\\\n",
    "                                           pi0_types=['ccnc==0','ccnc==1'],colors=['b','r'],\\\n",
    "                                           labels=['cc','nc'],ylab='CCSEL efficiency')\n",
    "e,ee = my_ccncpi0_analysis.efficiency_plot(var,ylim=(0.,0.5),numqs=NCSEL, denq=ACCEPTANCE,\\\n",
    "                                           pi0_types=['ccnc==0','ccnc==1'],colors=['b','r'],\\\n",
    "                                           labels=['cc','nc'],ylab='NCSEL efficiency')\n"
   ]
  },
  {
   "cell_type": "code",
   "execution_count": null,
   "metadata": {},
   "outputs": [],
   "source": [
    "my_ccncpi0_analysis.ccnc_plot_withratio(var,queries=[CCSEL+' and ccnc==0',NCSEL+' and ccnc==1'],\\\n",
    "                                        colors=['b','r'],labels=['true CC after CCSEL','true NC after NCSEL'],\\\n",
    "                                        title='truth, after selection',rylab='NC/CC')\n"
   ]
  },
  {
   "cell_type": "code",
   "execution_count": null,
   "metadata": {},
   "outputs": [],
   "source": [
    "n,b,p = my_ccncpi0_analysis.ccnc_plot(var,acceptance=ACCEPTANCE,queries=[CCSEL,NCSEL],\\\n",
    "                                      colors=['b','r'],labels=['true pi0 after CCSEL','true pi0 after NCSEL'],\\\n",
    "                                      title='truth, after selection')\n",
    "truetrueCCsel = n[0]\n",
    "truetrueNCsel = n[1]\n",
    "\n",
    "print(np.sum(n,axis=1))\n",
    "print('truetrueCCsel:',truetrueCCsel)\n",
    "print('truetrueNCsel:',truetrueNCsel)"
   ]
  },
  {
   "cell_type": "code",
   "execution_count": null,
   "metadata": {},
   "outputs": [],
   "source": [
    "mySEL = ACCEPTANCE+' and '+CCNCSEL\n",
    "\n",
    "plt.figure(figsize=(14, 4))\n",
    "plt.subplot(121)\n",
    "x = my_ccncpi0_analysis.pi0s.query(mySEL)[var2dict['pi0enrg']['varR']]\n",
    "y = my_ccncpi0_analysis.pi0s.query(mySEL)[var2dict['pi0enrg']['varR']]-\\\n",
    "    my_ccncpi0_analysis.pi0s.query(mySEL)[var2dict['pi0enrg']['varT']]\n",
    "h = plt.hist2d(x, y, bins=[var2dict['pi0enrg']['bin_edges'],np.linspace(-1,1,16)])#, cmap=plt.cm.Greys)#, norm=LogNorm()\n",
    "plt.xlabel(var2dict['pi0enrg']['labelR'])\n",
    "plt.ylabel('Reco - '+var2dict['pi0enrg']['labelT'])\n",
    "plt.colorbar()\n",
    "\n",
    "plt.subplot(122)\n",
    "x = my_ccncpi0_analysis.pi0s.query(mySEL)[var2dict['pi0csth']['varR']]\n",
    "y = my_ccncpi0_analysis.pi0s.query(mySEL)[var2dict['pi0csth']['varR']]-\\\n",
    "    my_ccncpi0_analysis.pi0s.query(mySEL)[var2dict['pi0csth']['varT']]\n",
    "h = plt.hist2d(x, y, bins=[var2dict['pi0csth']['bin_edges'],np.linspace(-1,1,16)])#, cmap=plt.cm.Greys)#, norm=LogNorm()\n",
    "plt.xlabel(var2dict['pi0csth']['labelR'])\n",
    "plt.ylabel('Reco - '+var2dict['pi0csth']['labelT'])\n",
    "plt.colorbar()\n",
    "plt.show()"
   ]
  },
  {
   "cell_type": "code",
   "execution_count": null,
   "metadata": {},
   "outputs": [],
   "source": [
    "mySEL = ACCEPTANCE+' and '+CCNCSEL\n",
    "\n",
    "plt.figure(figsize=(14, 4))\n",
    "plt.subplot(121)\n",
    "x = my_ccncpi0_analysis.pi0s.query(mySEL)[var2dict['pi0mass']['varR']]\n",
    "y = my_ccncpi0_analysis.pi0s.query(mySEL)[var2dict['pi0enrg']['varR']]-\\\n",
    "    my_ccncpi0_analysis.pi0s.query(mySEL)[var2dict['pi0enrg']['varT']]\n",
    "h = plt.hist2d(x, y, bins=[var2dict['pi0mass']['bin_edges'],np.linspace(-1,1,16)])#, cmap=plt.cm.Greys)#, norm=LogNorm()\n",
    "plt.xlabel(var2dict['pi0mass']['labelR'])\n",
    "plt.ylabel('Reco - '+var2dict['pi0enrg']['labelT'])\n",
    "plt.colorbar()\n",
    "\n",
    "plt.subplot(122)\n",
    "x = my_ccncpi0_analysis.pi0s.query(mySEL)[var2dict['pi0mass']['varR']]\n",
    "y = my_ccncpi0_analysis.pi0s.query(mySEL)[var2dict['pi0csth']['varR']]-\\\n",
    "    my_ccncpi0_analysis.pi0s.query(mySEL)[var2dict['pi0csth']['varT']]\n",
    "h = plt.hist2d(x, y, bins=[var2dict['pi0mass']['bin_edges'],np.linspace(-1,1,16)])#, cmap=plt.cm.Greys)#, norm=LogNorm()\n",
    "plt.xlabel(var2dict['pi0mass']['labelR'])\n",
    "plt.ylabel('Reco - '+var2dict['pi0csth']['labelT'])\n",
    "plt.colorbar()\n",
    "plt.show()"
   ]
  },
  {
   "cell_type": "code",
   "execution_count": null,
   "metadata": {},
   "outputs": [],
   "source": [
    "my_ccncpi0_analysis.smearing_matrix('pi0enrg',ACCEPTANCE+' and '+CCNCSEL,'CCNCpi0 selection')\n",
    "my_ccncpi0_analysis.smearing_matrix('pi0csth',ACCEPTANCE+' and '+CCNCSEL,'CCNCpi0 selection')"
   ]
  },
  {
   "cell_type": "code",
   "execution_count": null,
   "metadata": {},
   "outputs": [],
   "source": [
    "#ccsm = a\n",
    "#ncsm = a\n",
    "#ccsm = b\n",
    "#ncsm = b\n",
    "\n",
    "mytrueCCsel = np.matmul(ccsm,recoCCsel)\n",
    "print(trueCCsel)\n",
    "mytrueNCsel = np.matmul(ncsm,recoNCsel)\n",
    "print(trueNCsel)\n",
    "\n",
    "#cheating\n",
    "#trueCCsel = truetrueCCsel\n",
    "#trueNCsel = truetrueNCsel\n",
    "\n",
    "print('truetrueCCsel =',truetrueCCsel)\n",
    "print('truetrueNCsel =',truetrueNCsel)\n",
    "print('recoCCsel =',recoCCsel)\n",
    "print('recoNCsel =',recoNCsel)\n",
    "print('trueCCsel =',mytrueCCsel)\n",
    "print('trueNCsel =',mytrueNCsel)\n",
    "print('effCC =',effCC)\n",
    "print('effNC =',effNC)\n",
    "print('fCC =',fCC)\n",
    "print('fNC =',fNC)\n",
    "print('trueratio =',trueratio)"
   ]
  },
  {
   "cell_type": "code",
   "execution_count": null,
   "metadata": {},
   "outputs": [],
   "source": []
  }
 ],
 "metadata": {
  "kernelspec": {
   "display_name": "Python 3",
   "language": "python",
   "name": "python3"
  },
  "language_info": {
   "codemirror_mode": {
    "name": "ipython",
    "version": 3
   },
   "file_extension": ".py",
   "mimetype": "text/x-python",
   "name": "python",
   "nbconvert_exporter": "python",
   "pygments_lexer": "ipython3",
   "version": "3.7.7"
  }
 },
 "nbformat": 4,
 "nbformat_minor": 4
}
