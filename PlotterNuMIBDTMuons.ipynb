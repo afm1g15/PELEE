{
 "cells": [
  {
   "cell_type": "code",
   "execution_count": 1,
   "metadata": {},
   "outputs": [],
   "source": [
    "%load_ext autoreload\n",
    "%autoreload 2"
   ]
  },
  {
   "cell_type": "code",
   "execution_count": 2,
   "metadata": {},
   "outputs": [
    {
     "name": "stdout",
     "output_type": "stream",
     "text": [
      "/Users/elenag/Desktop/PlotterLEE/\n"
     ]
    }
   ],
   "source": [
    "import sys\n",
    "import localSettings as ls\n",
    "print(ls.main_path)"
   ]
  },
  {
   "cell_type": "code",
   "execution_count": 3,
   "metadata": {
    "colab": {
     "base_uri": "https://localhost:8080/",
     "height": 34
    },
    "colab_type": "code",
    "executionInfo": {
     "elapsed": 517,
     "status": "ok",
     "timestamp": 1560556807118,
     "user": {
      "displayName": "Stefano Roberto Soleti",
      "photoUrl": "https://lh4.googleusercontent.com/-hfLpspJu4Q0/AAAAAAAAAAI/AAAAAAAABmA/2kE4rtj8paU/s64/photo.jpg",
      "userId": "10372352518008961760"
     },
     "user_tz": 240
    },
    "id": "6qsD0G-yYJ9K",
    "outputId": "5d52a3ec-50be-44fc-da44-3c0593e98bc6"
   },
   "outputs": [],
   "source": [
    "main_path = ls.main_path\n",
    "sys.path.append(main_path)"
   ]
  },
  {
   "cell_type": "code",
   "execution_count": 4,
   "metadata": {},
   "outputs": [],
   "source": [
    "import NuMIGeoWeights\n",
    "import importlib\n",
    "importlib.reload(NuMIGeoWeights)\n",
    "numiBeamlineGeoWeights = NuMIGeoWeights.NuMIGeoWeights()\n"
   ]
  },
  {
   "cell_type": "code",
   "execution_count": 5,
   "metadata": {},
   "outputs": [
    {
     "name": "stdout",
     "output_type": "stream",
     "text": [
      "date and time: 03042021\n"
     ]
    }
   ],
   "source": [
    "from datetime import datetime\n",
    "now = datetime.now()\n",
    "date_time = now.strftime(\"%m%d%Y\")\n",
    "print(\"date and time:\",date_time)"
   ]
  },
  {
   "cell_type": "code",
   "execution_count": 6,
   "metadata": {},
   "outputs": [],
   "source": [
    "SHRCALIBFACTOR = 1.00"
   ]
  },
  {
   "cell_type": "code",
   "execution_count": 7,
   "metadata": {},
   "outputs": [],
   "source": [
    "# USING BDT?\n",
    "USEBDT = True"
   ]
  },
  {
   "cell_type": "code",
   "execution_count": 8,
   "metadata": {},
   "outputs": [],
   "source": [
    "# Doing Run3?\n",
    "ISRUN3 = False"
   ]
  },
  {
   "cell_type": "code",
   "execution_count": 9,
   "metadata": {},
   "outputs": [],
   "source": [
    "# scale to MCC8 CV?\n",
    "MCC8WEIGHTS = False"
   ]
  },
  {
   "cell_type": "code",
   "execution_count": 10,
   "metadata": {
    "colab": {},
    "colab_type": "code",
    "id": "xGqTJ5JgaDsx"
   },
   "outputs": [],
   "source": [
    "import plotter\n",
    "import importlib\n",
    "importlib.reload(plotter)\n",
    "import uproot\n",
    "import matplotlib.pylab as pylab\n",
    "import pandas as pd\n",
    "import numpy as np\n",
    "import math\n",
    "from sklearn.model_selection import train_test_split\n",
    "import pickle\n",
    "import xgboost as xgb\n",
    "import nue_booster \n",
    "importlib.reload(nue_booster)\n",
    "import awkward\n",
    "\n",
    "params = {\n",
    "    'axes.labelsize': 'x-large',\n",
    "    'axes.titlesize': 'x-large',\n",
    "    'xtick.labelsize': 'x-large',\n",
    "    'ytick.labelsize': 'x-large'\n",
    "}\n",
    "pylab.rcParams.update(params)"
   ]
  },
  {
   "cell_type": "code",
   "execution_count": 11,
   "metadata": {},
   "outputs": [],
   "source": [
    "from scipy.spatial.transform import Rotation as R\n",
    "from numpy import arccos, array\n",
    "from numpy.linalg import norm\n",
    "\n",
    "# Note: returns angle in radians\n",
    "def theta(v, w): return arccos(v.dot(w)/(norm(v)*norm(w)))* 180 / 3.1415926\n",
    "\n",
    "def GetNuMIAngle( px,  py,  pz):\n",
    "    r = R.from_matrix([[0.92103853804025681562   , 0.022713504803924120662, 0.38880857519374290021  ],\n",
    "                       [4.6254001262154668408e-05, 0.99829162468141474651 , -0.058427989452906302359],\n",
    "                       [-0.38947144863934973769  , 0.053832413938664107345, 0.91946400794392302291  ]])  \n",
    "    r = r.inv()\n",
    "    beamCoords = r.apply([px,  py,  pz])\n",
    "    beamDir    = [0,0,1]\n",
    "    #print(theta(beamCoords,beamDir))\n",
    "    return theta(beamCoords,beamDir)\n",
    "\n",
    "def GetNuMIAnglePol( phiBNB,  thetaBNB):\n",
    "    px = math.sin(thetaBNB)*math.cos(phiBNB)\n",
    "    py = math.sin(thetaBNB)*math.sin(phiBNB)\n",
    "    pz = math.cos(thetaBNB)\n",
    "    return GetNuMIAngle( px,  py,  pz)"
   ]
  },
  {
   "cell_type": "code",
   "execution_count": 12,
   "metadata": {},
   "outputs": [],
   "source": [
    "def vectorFromNuMITarget(vtxX,  vtxY, vtxZ):\n",
    "    numiTarget      = np.array([-31387.58422, -3316.402543, -60100.2414])\n",
    "    nuInteraction   = np.array([vtxX,  vtxY, vtxZ])\n",
    "    directionVector = nuInteraction - numiTarget\n",
    "    return directionVector\n",
    "\n",
    "def angleFromNuMITarget(vtxX,  vtxY, vtxZ, thetaBNB, phiBNB):\n",
    "    v1 = vectorFromNuMITarget(vtxX,  vtxY, vtxZ)  \n",
    "    norm = np.linalg.norm(v1)\n",
    "    v1 = v1/norm\n",
    "    v2 = [np.cos(phiBNB)*np.sin(thetaBNB),np.sin(phiBNB)*np.sin(thetaBNB), np.cos(thetaBNB) ]\n",
    "    dot_product = np.dot(v1, v2)\n",
    "    angle = np.arccos(dot_product)\n",
    "    return dot_product # angle*180/3.14159265\n",
    "\n"
   ]
  },
  {
   "cell_type": "code",
   "execution_count": 13,
   "metadata": {},
   "outputs": [],
   "source": [
    "from load_data_run1234 import process_uproot as process_uproot\n",
    "from load_data_run1234 import process_uproot_recoveryvars as process_uproot_recoveryvars"
   ]
  },
  {
   "cell_type": "code",
   "execution_count": 14,
   "metadata": {
    "colab": {},
    "colab_type": "code",
    "id": "iwoCIaigYJ9N"
   },
   "outputs": [
    {
     "name": "stdout",
     "output_type": "stream",
     "text": [
      "['shr_dedx_Y_cali', 'pion_e', 'true_e_visible', 'trk_len_v', 'hits_y', 'shr_start_x', 'shr_tkfit_dedx_U', 'trk_start_x_v', 'run', 'trk_llr_pid_score_v', 'secondshower_V_vtxdist', 'matched_E', 'shr_hits_v_tot', '_closestNuCosmicDist', 'shr_phi', 'trk_energy', 'backtracked_pdg', 'trk_hits_y_tot', 'slclustfrac', 'shr_dedx_U', 'n_tracks', 'shr_tkfit_gap10_nhits_Y', 'CosmicIP', 'true_nu_px', 'shr_phi_v', 'pi0truth_elec_etot', 'shr_id', 'secondshower_U_dir', 'trk_start_z_v', 'tksh_distance', 'shr_tkfit_gap10_dedx_Y', 'secondshower_U_vtxdist', 'trk_score', 'shrPCA1CMed_5cm', 'trk_sce_start_y_v', 'trk_bkt_E', 'p', 'trkshrhitdist2', 'shr_dedx_V', 'shrclusfrac0', 'pt', 'reco_nu_vtx_y', 'trk_len', 'trk_bkt_pdg', 'secondshower_Y_dot', 'shr_score', 'trk_energy_tot', '_opfilter_pe_beam', 'reco_nu_vtx_sce_y', 'reco_nu_vtx_z', 'shr_tkfit_nhits_Y', 'shrclusfrac1', 'shr_tkfit_nhits_U', 'nu_flashmatch_score', 'shrclusdir0', 'trkshrhitdist1', 'slnhits', 'nu_e', 'CosmicIPAll3D', 'trk_sce_end_y_v', 'trkshrhitdist0', 'shr_start_z_v', 'trk_sce_end_z_v', 'shr_hits_u_tot', 'trk_phi_v', 'best_cosmic_flashmatch_score', 'n_showers_contained', 'true_nu_vtx_z', 'nproton', 'trk_phi', 'shr_dedx_Y', 'interaction', 'shrclusdir2', 'crtveto', 'npi0', 'shrsubclusters2', 'shr_tkfit_gap10_nhits_U', 'shr_energy_tot_cali', 'selected', 'trk_id', 'shr_theta_v', 'shr_px', 'category', 'crthitpe', 'reco_nu_vtx_sce_x', 'trk_hits_v_tot', 'trk_distance', 'true_nu_vtx_y', 'shr_tkfit_nhits_V', 'shr_tkfit_2cm_nhits_U', 'contained_fraction', 'trk_end_z_v', 'secondshower_V_nhit', 'shr_tkfit_2cm_dedx_Y', 'shr_distance', 'npion', 'trk_sce_start_z_v', 'secondshower_V_dot', 'shr_start_z', 'topological_score', 'pi0_e', 'true_nu_pz', 'shr_tkfit_gap10_dedx_V', 'mc_pdg', 'hits_v', 'trk_hits_tot', 'shr_start_y', 'trk_sce_start_x_v', '_opfilter_pe_veto', 'shr_hits_tot', 'shr_tkfit_gap10_nhits_V', 'NeutrinoEnergy1', 'shrsubclusters1', 'shr_bkt_E', 'hits_ratio', 'shr_tkfit_2cm_dedx_U', 'trk_end_x_v', 'shr_tkfit_2cm_dedx_V', 'muon_e', 'best_obviouscosmic_flashmatch_score', 'NeutrinoEnergy2', 'evt', 'true_nu_vtx_x', 'DeltaRMS2h', 'shr_energy', 'shr_energy_tot', 'trk_theta', 'CosmicDirAll3D', 'hits_u', 'shrclusdir1', 'trk_end_y_v', 'trk_theta_v', 'NeutrinoEnergy0', 'sub', 'shr_tkfit_npoints', 'shrMCSMom', 'shr_tkfit_dedx_V', 'n_tracks_contained', 'shr_bkt_pdg', 'secondshower_Y_nhit', 'shr_py', 'slnunhits', 'shr_tkfit_2cm_nhits_Y', 'shr_hits_y_tot', 'shrmoliereavg', 'shrsubclusters0', 'evnunhits', 'secondshower_Y_vtxdist', 'trk_hits_u_tot', 'trk_start_y_v', 'secondshower_V_dir', 'ccnc', 'shr_tkfit_2cm_nhits_V', 'trk_hits_max', 'shr_energy_y_v', 'secondshower_Y_dir', 'shr_pz', 'shr_theta', 'shr_tkfit_npointsvalid', 'true_nu_py', 'shrmoliererms', 'shr_tkfit_gap10_dedx_U', 'shrclusfrac2', 'shr_start_x_v', 'reco_nu_vtx_x', 'secondshower_U_nhit', 'nu_pdg', 'trk_sce_end_x_v', 'shr_tkfit_dedx_Y', 'CylFrac2h_1cm', 'trk_score_v', 'secondshower_U_dot', 'slpdg', 'tksh_angle', 'reco_nu_vtx_sce_z', 'nslice']\n"
     ]
    }
   ],
   "source": [
    "tree = \"NeutrinoSelectionFilter\"\n",
    "\n",
    "\n",
    "#new\n",
    "BNB  = 'test/neutrinoselection_filt_run1_beamon_beamgood' +ls.APPEND\n",
    "EXT  = 'test/neutrinoselection_filt_run1_beamoff'         +ls.APPEND\n",
    "NU   = 'test/prodgenie_numi_uboone_overlay_fhc_mcc9_run1_v28_all_snapshot'    +ls.APPEND #newTune\n",
    "NUE  = 'test/prodgenie_numi_nue_overlay_mcc9_v08_00_00_48_CV_reco2_run1_reco2'+ls.APPEND #newTune\n",
    "DRT  = 'test/neutrinoselection_filt_run1_dirt_overlay'        +ls.APPEND\n",
    "\n",
    "\n",
    "mc   = uproot.open(ls.ntuple_path+NU +\".root\")[ls.fold][tree]\n",
    "nue  = uproot.open(ls.ntuple_path+NUE+\".root\")[ls.fold][tree]\n",
    "data = uproot.open(ls.ntuple_path+BNB+\".root\")[ls.fold][tree]\n",
    "ext  = uproot.open(ls.ntuple_path+EXT+\".root\")[ls.fold][tree]\n",
    "dirt = uproot.open(ls.ntuple_path+DRT+\".root\")[ls.fold][tree]\n",
    "\n",
    "\n",
    "uproot_v = [mc,nue,ext,data,dirt] \n",
    "\n",
    "variables = [\n",
    "    \"nu_pdg\", \"slpdg\", \"trk_score_v\", \"backtracked_pdg\",\"true_nu_px\",\"true_nu_py\",\"true_nu_pz\",\n",
    "    \"category\", \"ccnc\", \"true_nu_vtx_z\",\"true_nu_vtx_y\",\"true_nu_vtx_x\",\n",
    "    \"crtveto\",\"crthitpe\",\"_closestNuCosmicDist\",\n",
    "    \"NeutrinoEnergy0\",\"NeutrinoEnergy1\",\"NeutrinoEnergy2\",\n",
    "    \"run\",\"sub\",\"evt\",\n",
    "    \"CosmicIP\",\"CosmicDirAll3D\",\"CosmicIPAll3D\",\n",
    "    \"nu_flashmatch_score\",\"best_cosmic_flashmatch_score\",\"best_obviouscosmic_flashmatch_score\",\n",
    "    \"trk_llr_pid_score_v\", # trk-PID score\n",
    "    \"_opfilter_pe_beam\", \"_opfilter_pe_veto\", # did the event pass the common optical filter (for MC only)\n",
    "    \"reco_nu_vtx_sce_x\",\"reco_nu_vtx_sce_y\",\"reco_nu_vtx_sce_z\",\n",
    "    \"nproton\", \"nu_e\", \n",
    "    \"hits_u\", \"hits_v\", \"hits_y\", \n",
    "    \"nproton\", \"mc_pdg\", \"slnunhits\", \"slnhits\", \"true_e_visible\",\n",
    "    \"npi0\",\"npion\",\"pion_e\",\"muon_e\",\"pi0truth_elec_etot\",\n",
    "    \"pi0_e\", \"evnunhits\", \"nslice\", \"interaction\",\n",
    "    \"slclustfrac\", \"reco_nu_vtx_x\", \"reco_nu_vtx_y\", \"reco_nu_vtx_z\",\n",
    "    \"trk_sce_start_x_v\",\"trk_sce_start_y_v\",\"trk_sce_start_z_v\",\n",
    "    \"trk_sce_end_x_v\",\"trk_sce_end_y_v\",\"trk_sce_end_z_v\",\n",
    "    \"trk_start_x_v\",\"trk_start_z_v\", \"trk_start_y_v\",\n",
    "    \"topological_score\"\n",
    "]\n",
    "\n",
    "\n",
    "\n",
    "'''\n",
    "WEIGHTS = [\"weightSpline\",\"weightTune\",\"weightSplineTimesTune\", \"weightsGenie\", \"weightsFlux\", \"weightsReint\"]\n",
    "WEIGHTSLEE = [\"weightSpline\",\"weightTune\",\"weightSplineTimesTune\", \"leeweight\", \"weightsGenie\", \"weightsFlux\", \"weightsReint\"]\n",
    "MCFVARS = [\"mcf_nu_e\",\"mcf_lep_e\",\"mcf_actvol\",\"mcf_nmm\",\"mcf_nmp\",\"mcf_nem\",\"mcf_nep\",\"mcf_np0\",\"mcf_npp\",\n",
    "           \"mcf_npm\",\"mcf_mcshr_elec_etot\",\"mcf_pass_ccpi0\",\"mcf_pass_ncpi0\",\n",
    "           \"mcf_pass_ccnopi\",\"mcf_pass_ncnopi\",\"mcf_pass_cccpi\",\"mcf_pass_nccpi\"]\n",
    "\n",
    "\n",
    "WEIGHTS = [\"weightSpline\",\"weightTune\",\"weightSplineTimesTune\"]#, \"weightsGenie\", \"weightsFlux\", \"weightsReint\"]\n",
    "WEIGHTSLEE = [\"weightSpline\",\"weightTune\",\"weightSplineTimesTune\", \"leeweight\"]#, \"weightsGenie\", \"weightsFlux\", \"weightsReint\"]\n",
    "MCFVARS = [\"mcf_nu_e\",\"mcf_lep_e\",\"mcf_actvol\",\"mcf_nmm\",\"mcf_nmp\",\"mcf_nem\",\"mcf_nep\",\"mcf_np0\",\"mcf_npp\",\n",
    "           \"mcf_npm\",\"mcf_mcshr_elec_etot\",\"mcf_pass_ccpi0\",\"mcf_pass_ncpi0\",\n",
    "           \"mcf_pass_ccnopi\",\"mcf_pass_ncnopi\",\"mcf_pass_cccpi\",\"mcf_pass_nccpi\"]\n",
    "SYSTEMATICS = ['weightsFlux','weightsGenie']\n",
    "\n",
    "'''\n",
    "\n",
    "WEIGHTS     = [\"weightSpline\",\"weightTune\",\"weightSplineTimesTune\",\"ppfx_cv\"]\n",
    "SYSTEMATICS = ['weightsFlux','weightsGenie','weightsReint'] \n",
    "PPFX        = ['weightsPPFX'] \n",
    "\n",
    "WEIGHTSLEE = [\"weightSpline\",\"weightTune\",\"weightSplineTimesTune\", \"leeweight\"]#, \"weightsGenie\", \"weightsFlux\", \"weightsReint\"]\n",
    "MCFVARS    = [\"mcf_nu_e\",\"mcf_lep_e\",\"mcf_actvol\",\"mcf_nmm\",\"mcf_nmp\",\"mcf_nem\",\"mcf_nep\",\"mcf_np0\",\"mcf_npp\",\n",
    "              \"mcf_npm\",\"mcf_mcshr_elec_etot\",\"mcf_pass_ccpi0\",\"mcf_pass_ncpi0\",\n",
    "              \"mcf_pass_ccnopi\",\"mcf_pass_ncnopi\",\"mcf_pass_cccpi\",\"mcf_pass_nccpi\"]\n",
    "\n",
    "RCVRYVARS = [\"shr_energy_tot\", \"trk_energy_tot\",\n",
    "             \"trk_end_x_v\",\"trk_end_y_v\",\"trk_end_z_v\",\n",
    "             \"trk_phi_v\",\"trk_theta_v\",\"trk_len_v\",\"trk_id\",\n",
    "             \"shr_px\",\"shr_py\",\"shr_pz\",\"shr_start_x\",\"shr_start_y\",\"shr_start_z\",\"trk_hits_max\",\n",
    "             #\"shr_tkfit_dedx_u_v\",\"shr_tkfit_dedx_v_v\",\"shr_tkfit_dedx_y_v\",\n",
    "             #\"shr_tkfit_dedx_nhits_u_v\",\"shr_tkfit_dedx_nhits_v_v\",\"shr_tkfit_dedx_nhits_y_v\"\n",
    "]\n",
    "\n",
    "NUEVARS = [\"shr_dedx_Y\", \"shr_bkt_pdg\", \"shr_theta\",#\"shr_pfp_id_v\",\n",
    "           \"shr_tkfit_dedx_U\",\"shr_tkfit_dedx_V\",\"shr_tkfit_dedx_Y\",\n",
    "           \"shr_tkfit_gap10_dedx_U\",\"shr_tkfit_gap10_dedx_V\",\"shr_tkfit_gap10_dedx_Y\",\n",
    "           \"shr_tkfit_2cm_dedx_U\",\"shr_tkfit_2cm_dedx_V\",\"shr_tkfit_2cm_dedx_Y\",\n",
    "           \"shrmoliereavg\",\"shrmoliererms\",\n",
    "           \"shr_tkfit_npointsvalid\",\"shr_tkfit_npoints\", # fitted vs. all hits for shower\n",
    "           \"shrclusfrac0\",\"shrclusfrac1\",\"shrclusfrac2\", # track-fitted hits / all hits\n",
    "           \"trkshrhitdist2\", \"trkshrhitdist0\",\"trkshrhitdist1\", #distance between track and shower in 2D\n",
    "           \"shrsubclusters0\",\"shrsubclusters1\",\"shrsubclusters2\", # number of sub-clusters in shower\n",
    "           \"secondshower_U_nhit\",\"secondshower_U_vtxdist\",\"secondshower_U_dot\",\"secondshower_U_dir\",\"shrclusdir0\",\n",
    "           \"secondshower_V_nhit\",\"secondshower_V_vtxdist\",\"secondshower_V_dot\",\"secondshower_V_dir\",\"shrclusdir1\",\n",
    "           \"secondshower_Y_nhit\",\"secondshower_Y_vtxdist\",\"secondshower_Y_dot\",\"secondshower_Y_dir\",\"shrclusdir2\",\n",
    "           \"shrMCSMom\",\"DeltaRMS2h\",\"shrPCA1CMed_5cm\",\"CylFrac2h_1cm\",\n",
    "           \"shr_hits_tot\", \"shr_hits_u_tot\", \"shr_hits_v_tot\", \"shr_hits_y_tot\",\n",
    "           \"shr_theta_v\",\"shr_phi_v\",\"shr_energy_y_v\",\"n_tracks\",\n",
    "           \"shr_start_x_v\",\"shr_start_z_v\",\"shr_start_z_v\",\n",
    "           \"shr_tkfit_dedx_U\", \"shr_tkfit_dedx_V\", \"trk_bkt_pdg\",  \n",
    "           \"shr_energy\", \"shr_dedx_U\", \"shr_dedx_V\", \"shr_phi\", \"trk_phi\", \"trk_theta\",\n",
    "           \"n_showers_contained\", \"shr_distance\", \"trk_distance\",\n",
    "           \"matched_E\", \"shr_bkt_E\", \"trk_bkt_E\",\n",
    "           \"shr_tkfit_nhits_Y\",\"shr_tkfit_nhits_U\",\"shr_tkfit_nhits_V\",\n",
    "           \"shr_tkfit_2cm_nhits_Y\",\"shr_tkfit_2cm_nhits_U\",\"shr_tkfit_2cm_nhits_V\",\n",
    "           \"shr_tkfit_gap10_nhits_Y\",\"shr_tkfit_gap10_nhits_U\",\"shr_tkfit_gap10_nhits_V\",\n",
    "           \"trk_energy\", \"tksh_distance\", \"tksh_angle\",\"contained_fraction\",\n",
    "           \"shr_score\", \"trk_score\", \"trk_hits_tot\",\"trk_len\",\n",
    "           \"trk_hits_tot\", \"trk_hits_u_tot\", \"trk_hits_v_tot\", \"trk_hits_y_tot\",\n",
    "           \"shr_energy_tot_cali\", \"shr_dedx_Y_cali\", \"trk_energy_tot\",\"shr_id\",\n",
    "           \"hits_ratio\", \"n_tracks_contained\",\n",
    "           \"p\", \"pt\", \"selected\"\n",
    "]\n",
    "\n",
    "#make the list unique\n",
    "variables += NUEVARS\n",
    "variables += RCVRYVARS\n",
    "variables = list(set(variables))\n",
    "print(variables)\n",
    "\n",
    "#if not ISRUN3:\n",
    "variables.remove(\"_closestNuCosmicDist\")\n",
    "variables.remove(\"crtveto\")\n",
    "variables.remove(\"crthitpe\")\n",
    "\n",
    "nue  = nue.pandas.df(variables + WEIGHTS + SYSTEMATICS + PPFX, flatten=False)\n",
    "mc   = mc.pandas.df(variables + WEIGHTS + MCFVARS + SYSTEMATICS + PPFX, flatten=False)\n",
    "data = data.pandas.df(variables, flatten=False)\n",
    "ext  = ext.pandas.df(variables, flatten=False)\n",
    "dirt = dirt.pandas.df(variables + WEIGHTS + SYSTEMATICS, flatten=False)\n"
   ]
  },
  {
   "cell_type": "code",
   "execution_count": 15,
   "metadata": {},
   "outputs": [],
   "source": [
    "df_v = [mc,nue]\n",
    "#removeGenieTune = False\n",
    "for i,df in enumerate(df_v):\n",
    "    df.loc[ df['weightTune'] <= 0, 'weightTune' ] = 1.\n",
    "    df.loc[ df['weightTune'] == np.inf, 'weightTune' ] = 1.\n",
    "    df.loc[ df['weightTune'] > 100, 'weightTune' ] = 1.\n",
    "    df.loc[ np.isnan(df['weightTune']) == True, 'weightTune' ] = 1.    \n",
    "    \n",
    "    df.loc[ df['weightSplineTimesTune'] <= 0, 'weightSplineTimesTune' ] = 1.\n",
    "    df.loc[ df['weightSplineTimesTune'] == np.inf, 'weightSplineTimesTune' ] = 1.\n",
    "    df.loc[ df['weightSplineTimesTune'] > 100, 'weightSplineTimesTune' ] = 1.\n",
    "    df.loc[ np.isnan(df['weightSplineTimesTune']) == True, 'weightSplineTimesTune' ] = 1. \n",
    "\n",
    "    df.loc[ df['weightSpline'] <= 0, 'weightSpline' ] = 1.\n",
    "    df.loc[ df['weightSpline'] == np.inf, 'weightSpline' ] = 1.\n",
    "    df.loc[ df['weightSpline'] > 100, 'weightSpline' ] = 1.\n",
    "    df.loc[ np.isnan(df['weightSpline']) == True, 'weightSpline' ] = 1. \n",
    "    \n",
    "    df[ 'weightSplineTimesTuneTimesPPFX' ] = df[ 'weightSplineTimesTune' ]*df['ppfx_cv']\n",
    "    df[ 'weightSplineTimesPPFX' ]          = df[ 'weightSpline' ]*df['ppfx_cv']\n",
    "    \n",
    "    # Cray cray weight fix\n",
    "    for ievt in range(df.shape[0]):\n",
    "        reweightCondition = ((df['weightsGenie'].iloc[ievt] > 3000) | (df['weightsGenie'].iloc[ievt] < 0)  | \n",
    "                             (df['weightsGenie'].iloc[ievt] == np.inf))\n",
    "        df['weightsGenie'].iloc[ievt][ reweightCondition ] = 1.\n"
   ]
  },
  {
   "cell_type": "code",
   "execution_count": 16,
   "metadata": {},
   "outputs": [
    {
     "data": {
      "text/plain": [
       "\"\\ndf_v = [mc,nue,dirt]\\n#removeGenieTune = False\\nfor i,df in enumerate(df_v):\\n    df.loc[ df['weightTune'] <= 0, 'weightTune' ] = 1.\\n    df.loc[ df['weightTune'] == np.inf, 'weightTune' ] = 1.\\n    df.loc[ df['weightTune'] > 100, 'weightTune' ] = 1.\\n    df.loc[ np.isnan(df['weightTune']) == True, 'weightTune' ] = 1.    \\n    df.loc[ df['weightSplineTimesTune'] <= 0, 'weightSplineTimesTune' ] = 1.\\n    df.loc[ df['weightSplineTimesTune'] == np.inf, 'weightSplineTimesTune' ] = 1.\\n    df.loc[ df['weightSplineTimesTune'] > 100, 'weightSplineTimesTune' ] = 1.\\n    df.loc[ np.isnan(df['weightSplineTimesTune']) == True, 'weightSplineTimesTune' ] = 1.\\n    #if removeGenieTune : \\n    #    df[ 'weightTune' ] = 1.\\n    #    df[ 'weightSplineTimesTune' ] = df['weightSpline']\\n\\n    #df['weightSpline']  = df['weightSpline']  * df['weightTune']\\n    #df.loc[ df['npi0'] > 0, 'weightSplineTimesTune' ] = df['weightSpline'] * df['weightTune'] * 0.7 #scale down pi0s\\n\""
      ]
     },
     "execution_count": 16,
     "metadata": {},
     "output_type": "execute_result"
    }
   ],
   "source": [
    "'''\n",
    "df_v = [mc,nue,dirt]\n",
    "#removeGenieTune = False\n",
    "for i,df in enumerate(df_v):\n",
    "    df.loc[ df['weightTune'] <= 0, 'weightTune' ] = 1.\n",
    "    df.loc[ df['weightTune'] == np.inf, 'weightTune' ] = 1.\n",
    "    df.loc[ df['weightTune'] > 100, 'weightTune' ] = 1.\n",
    "    df.loc[ np.isnan(df['weightTune']) == True, 'weightTune' ] = 1.    \n",
    "    df.loc[ df['weightSplineTimesTune'] <= 0, 'weightSplineTimesTune' ] = 1.\n",
    "    df.loc[ df['weightSplineTimesTune'] == np.inf, 'weightSplineTimesTune' ] = 1.\n",
    "    df.loc[ df['weightSplineTimesTune'] > 100, 'weightSplineTimesTune' ] = 1.\n",
    "    df.loc[ np.isnan(df['weightSplineTimesTune']) == True, 'weightSplineTimesTune' ] = 1.\n",
    "    #if removeGenieTune : \n",
    "    #    df[ 'weightTune' ] = 1.\n",
    "    #    df[ 'weightSplineTimesTune' ] = df['weightSpline']\n",
    "\n",
    "    #df['weightSpline']  = df['weightSpline']  * df['weightTune']\n",
    "    #df.loc[ df['npi0'] > 0, 'weightSplineTimesTune' ] = df['weightSpline'] * df['weightTune'] * 0.7 #scale down pi0s\n",
    "'''"
   ]
  },
  {
   "cell_type": "code",
   "execution_count": 17,
   "metadata": {},
   "outputs": [],
   "source": [
    "# how to get the LLR-PID value for the \"track candidate\" (proton for nue selection, muon for numu)\n",
    "# can be done for any variable\n",
    "# code from Giuseppe!\n",
    "\n",
    "df_v = [mc,nue,ext,data,dirt]\n",
    "#df_v = [lee,mc,nue,ext,data,dirt]\n",
    "\n",
    "for i,df in enumerate(df_v):\n",
    "    up = uproot_v[i]\n",
    "    trk_llr_pid_v = up.array('trk_llr_pid_score_v')\n",
    "    trk_energy_proton_v = up.array('trk_energy_proton_v')\n",
    "    trk_calo_energy_y_v = up.array('trk_calo_energy_y_v')\n",
    "    trk_id = up.array('trk_id')-1 # I think we need this -1 to get the right result\n",
    "    trk_llr_pid_v_sel = awkward.fromiter([pidv[tid] if tid<len(pidv) else 9999. for pidv,tid in zip(trk_llr_pid_v,trk_id)])\n",
    "    trk_energy_proton_sel = awkward.fromiter([pidv[tid] if tid<len(pidv) else 9999. for pidv,tid in zip(trk_energy_proton_v,trk_id)])\n",
    "    trk_calo_energy_y_sel = awkward.fromiter([pidv[tid] if tid<len(pidv) else 9999. for pidv,tid in zip(trk_calo_energy_y_v,trk_id)])\n",
    "    df['trkpid'] = trk_llr_pid_v_sel\n",
    "    df['protonenergy'] = trk_energy_proton_sel\n",
    "    df['trackcaloenergy'] = trk_calo_energy_y_sel\n",
    "    df['subcluster'] = df['shrsubclusters0'] + df['shrsubclusters1'] + df['shrsubclusters2']\n",
    "    df['trkfit'] = df['shr_tkfit_npointsvalid'] / df['shr_tkfit_npoints']\n",
    "    df['anglediff_Y'] = np.abs(df['secondshower_Y_dir']-df['shrclusdir2'])\n",
    "    df['anglediff_V'] = np.abs(df['secondshower_V_dir']-df['shrclusdir1'])\n",
    "    df['anglediff_U'] = np.abs(df['secondshower_U_dir']-df['shrclusdir0'])\n",
    "    df['trkthetacos'] = np.cos(df['trk_theta'])\n",
    "    \n",
    "    df['shr_numi_Angle']    = df.apply( lambda x: GetNuMIAngle(x['shr_px'],x['shr_py'],x['shr_pz']) , axis=1)\n",
    "    df['shr_Angle_Numi_target'] = df.apply( lambda x: angleFromNuMITarget(x['reco_nu_vtx_sce_x'],x['reco_nu_vtx_sce_y'],x['reco_nu_vtx_sce_z'], x['shr_theta'],x['shr_phi']) , axis=1)\n",
    "\n",
    "    #df['FMdiffOBV'] = df['nu_flashmatch_score']-df['best_obviouscosmic_flashmatch_score']\n",
    "    #df['FMdiff'] = df['nu_flashmatch_score']-df['best_cosmic_flashmatch_score']"
   ]
  },
  {
   "cell_type": "code",
   "execution_count": null,
   "metadata": {},
   "outputs": [],
   "source": []
  },
  {
   "cell_type": "code",
   "execution_count": 18,
   "metadata": {},
   "outputs": [],
   "source": [
    "# Calculate the true neutrino direction off of the NuMI beam\n",
    "dfmc_v = [mc,nue,dirt]\n",
    "for i,df in enumerate(dfmc_v):\n",
    "    df['numi_nu_true_Angle'] = df.apply( lambda x: GetNuMIAngle(x['true_nu_px'],x['true_nu_py'],x['true_nu_pz']) , axis=1)\n",
    "    df['weightsNuMIGeo']     = df.apply( lambda x: numiBeamlineGeoWeights.calculateGeoWeight(x['nu_pdg'],x['nu_e'],x['numi_nu_true_Angle']) , axis=1)"
   ]
  },
  {
   "cell_type": "code",
   "execution_count": 19,
   "metadata": {},
   "outputs": [],
   "source": [
    "for i,df in enumerate(df_v):\n",
    "    up = uproot_v[i]\n",
    "    #trk_score_v = up.array('trk_score_v')\n",
    "    trk_sce_start_x_v = up.array('trk_sce_start_x_v')\n",
    "    trk_sce_start_y_v = up.array('trk_sce_start_y_v')\n",
    "    trk_sce_start_z_v = up.array('trk_sce_start_z_v')\n",
    "    trk_sce_end_x_v = up.array('trk_sce_end_x_v')\n",
    "    trk_sce_end_y_v = up.array('trk_sce_end_y_v')\n",
    "    trk_sce_end_z_v = up.array('trk_sce_end_z_v')\n",
    "    shr_id = up.array('shr_id')-1 # I think we need this -1 to get the right result\n",
    "    #trk_score_v_sel = awkward.fromiter([pidv[tid] if tid<len(pidv) else -9999. for pidv,tid in zip(trk_score_v,shr_id)])\n",
    "    trk_sce_start_x_v_sel = awkward.fromiter([pidv[tid] if tid<len(pidv) else -9999. for pidv,tid in zip(trk_sce_start_x_v,shr_id)])\n",
    "    trk_sce_start_y_v_sel = awkward.fromiter([pidv[tid] if tid<len(pidv) else -9999. for pidv,tid in zip(trk_sce_start_y_v,shr_id)])\n",
    "    trk_sce_start_z_v_sel = awkward.fromiter([pidv[tid] if tid<len(pidv) else -9999. for pidv,tid in zip(trk_sce_start_z_v,shr_id)])\n",
    "    trk_sce_end_x_v_sel = awkward.fromiter([pidv[tid] if tid<len(pidv) else -9999. for pidv,tid in zip(trk_sce_end_x_v,shr_id)])\n",
    "    trk_sce_end_y_v_sel = awkward.fromiter([pidv[tid] if tid<len(pidv) else -9999. for pidv,tid in zip(trk_sce_end_y_v,shr_id)])\n",
    "    trk_sce_end_z_v_sel = awkward.fromiter([pidv[tid] if tid<len(pidv) else -9999. for pidv,tid in zip(trk_sce_end_z_v,shr_id)])\n",
    "    #df['shr_score_check'] = trk_score_v_sel\n",
    "    df['shr_trk_sce_start_x'] = trk_sce_start_x_v_sel\n",
    "    df['shr_trk_sce_start_y'] = trk_sce_start_y_v_sel\n",
    "    df['shr_trk_sce_start_z'] = trk_sce_start_z_v_sel\n",
    "    df['shr_trk_sce_end_x'] = trk_sce_end_x_v_sel\n",
    "    df['shr_trk_sce_end_y'] = trk_sce_end_y_v_sel\n",
    "    df['shr_trk_sce_end_z'] = trk_sce_end_z_v_sel   "
   ]
  },
  {
   "cell_type": "code",
   "execution_count": 20,
   "metadata": {},
   "outputs": [],
   "source": [
    "for i,df in enumerate(df_v):\n",
    "    df.loc[df['shrmoliereavg'].isna(),'secondshower_Y_dot'] = 9999.\n",
    "    #\n",
    "    # secondshower_U/V/Y_dot need to be set to 9999. to match data ntuples produced with v08_00_00_43 or later;\n",
    "    # the patch below is valid only to match data ntuples produced with v08_00_00_42.\n",
    "    #\n",
    "    #df.loc[df['secondshower_U_dot'].isna(),'secondshower_U_dot'] = 0.0 #for 0p please uncomment\n",
    "    #df.loc[df['secondshower_V_dot'].isna(),'secondshower_V_dot'] = 0.0 #for 0p please uncomment\n",
    "    df.loc[df['secondshower_Y_dot'].isna(),'secondshower_Y_dot'] = 0.0 "
   ]
  },
  {
   "cell_type": "code",
   "execution_count": 21,
   "metadata": {},
   "outputs": [],
   "source": [
    "#\n",
    "for i,df in enumerate(df_v):\n",
    "    up = uproot_v[i]\n",
    "    df[\"slclnhits\"] = up.array(\"pfnhits\").sum()\n",
    "    df[\"slclnunhits\"] = up.array(\"pfnunhits\").sum()\n",
    "#"
   ]
  },
  {
   "cell_type": "code",
   "execution_count": 22,
   "metadata": {},
   "outputs": [],
   "source": [
    "df_v = [mc,nue,ext,data,dirt]\n",
    "for i,df in enumerate(df_v):\n",
    "    df['shr_tkfit_nhits_tot'] = (df['shr_tkfit_nhits_Y']+df['shr_tkfit_nhits_U']+df['shr_tkfit_nhits_V'])\n",
    "    df['shr_tkfit_dedx_avg'] = (df['shr_tkfit_nhits_Y']*df['shr_tkfit_dedx_Y'] + df['shr_tkfit_nhits_U']*df['shr_tkfit_dedx_U'] + df['shr_tkfit_nhits_V']*df['shr_tkfit_dedx_V'])/df['shr_tkfit_nhits_tot']\n",
    "    df['shr_tkfit_2cm_nhits_tot'] = (df['shr_tkfit_2cm_nhits_Y']+df['shr_tkfit_2cm_nhits_U']+df['shr_tkfit_2cm_nhits_V'])\n",
    "    df['shr_tkfit_2cm_dedx_avg'] = (df['shr_tkfit_2cm_nhits_Y']*df['shr_tkfit_2cm_dedx_Y'] + df['shr_tkfit_2cm_nhits_U']*df['shr_tkfit_2cm_dedx_U'] + df['shr_tkfit_2cm_nhits_V']*df['shr_tkfit_2cm_dedx_V'])/df['shr_tkfit_2cm_nhits_tot']\n",
    "    df['shr_tkfit_gap10_nhits_tot'] = (df['shr_tkfit_gap10_nhits_Y']+df['shr_tkfit_gap10_nhits_U']+df['shr_tkfit_gap10_nhits_V'])\n",
    "    df['shr_tkfit_gap10_dedx_avg'] = (df['shr_tkfit_gap10_nhits_Y']*df['shr_tkfit_gap10_dedx_Y'] + df['shr_tkfit_gap10_nhits_U']*df['shr_tkfit_gap10_dedx_U'] + df['shr_tkfit_gap10_nhits_V']*df['shr_tkfit_gap10_dedx_V'])/df['shr_tkfit_gap10_nhits_tot']\n",
    "    df.loc[:,'shr_tkfit_dedx_max'] = df['shr_tkfit_dedx_Y']\n",
    "    df.loc[(df['shr_tkfit_nhits_U']>df['shr_tkfit_nhits_Y']),'shr_tkfit_dedx_max'] = df['shr_tkfit_dedx_U']\n",
    "    df.loc[(df['shr_tkfit_nhits_V']>df['shr_tkfit_nhits_Y']) & (df['shr_tkfit_nhits_V']>df['shr_tkfit_nhits_U']),'shr_tkfit_dedx_max'] = df['shr_tkfit_dedx_V']"
   ]
  },
  {
   "cell_type": "code",
   "execution_count": 23,
   "metadata": {
    "scrolled": false
   },
   "outputs": [],
   "source": [
    "INTERCEPT = 0.0\n",
    "SLOPE = 0.83\n",
    "\n",
    "# define some energy-related variables\n",
    "for i,df in enumerate(df_v):\n",
    "    df[\"reco_e\"] = (df[\"shr_energy_tot_cali\"] + INTERCEPT) / SLOPE + df[\"trk_energy_tot\"]\n",
    "    df[\"reco_e_qe\"] = 0.938*((df[\"shr_energy\"]+INTERCEPT)/SLOPE)/(0.938 - ((df[\"shr_energy\"]+INTERCEPT)/SLOPE)*(1-np.cos(df[\"shr_theta\"])))\n",
    "    df[\"reco_e_rqe\"] = df[\"reco_e_qe\"]/df[\"reco_e\"]\n",
    "\n",
    "# and a way to filter out data\n",
    "for i,df in enumerate(df_v):\n",
    "    df[\"bnbdata\"] = np.zeros_like(df[\"shr_energy\"])\n",
    "    df[\"extdata\"] = np.zeros_like(df[\"shr_energy\"])\n",
    "data[\"bnbdata\"] = np.ones_like(data[\"shr_energy\"])\n",
    "ext[\"extdata\"] = np.ones_like(ext[\"shr_energy\"])\n",
    "\n",
    "# test calibrating dedx on Y plane\n",
    "#data[\"shr_tkfit_gap10_dedx_Y\"] = data[\"shr_tkfit_gap10_dedx_Y\"]*1.03\n",
    "#ext[\"shr_tkfit_gap10_dedx_Y\"] = ext[\"shr_tkfit_gap10_dedx_Y\"]*1.03\n",
    "#data[\"shr_tkfit_2cm_dedx_Y\"] = data[\"shr_tkfit_2cm_dedx_Y\"]*1.03\n",
    "#ext[\"shr_tkfit_2cm_dedx_Y\"] = ext[\"shr_tkfit_2cm_dedx_Y\"]*1.03\n",
    "#data[\"shr_tkfit_dedx_Y\"] = data[\"shr_tkfit_dedx_Y\"]*1.03\n",
    "#ext[\"shr_tkfit_dedx_Y\"] = ext[\"shr_tkfit_dedx_Y\"]*1.03"
   ]
  },
  {
   "cell_type": "code",
   "execution_count": 24,
   "metadata": {
    "scrolled": false
   },
   "outputs": [],
   "source": [
    "# add back the cosmic category, for background only\n",
    "df_v = [mc,nue,ext,data,dirt]\n",
    "for i,df in enumerate(df_v):\n",
    "    df.loc[(df['category']!=1)&(df['category']!=10)&(df['category']!=11)&(df['category']!=111)&(df['slnunhits']/df['slnhits']<0.2), 'category'] = 4"
   ]
  },
  {
   "cell_type": "code",
   "execution_count": 25,
   "metadata": {},
   "outputs": [],
   "source": [
    "data[\"is_signal\"] = data[\"category\"] == 11\n",
    "nue[\"is_signal\"] = nue[\"category\"] == 11\n",
    "mc[\"is_signal\"] = mc[\"category\"] == 11\n",
    "dirt[\"is_signal\"] = dirt[\"category\"] == 11\n",
    "ext[\"is_signal\"] = ext[\"category\"] == 11\n"
   ]
  },
  {
   "cell_type": "code",
   "execution_count": 26,
   "metadata": {},
   "outputs": [],
   "source": [
    "# 1eNp variables to be trained on\n",
    "#TRAINVAR = [\"shr_score\",\"tksh_distance\",\"tksh_angle\",\n",
    "#            \"shr_tkfit_dedx_max\",\"trkfit\",\"trkpid\",\n",
    "#            \"subcluster\",\"shrmoliereavg\",\n",
    "#            \"trkshrhitdist2\",\"hits_ratio\",\n",
    "#            \"secondshower_Y_nhit\",\"secondshower_Y_vtxdist\",\"secondshower_Y_dot\",\"anglediff_Y\",\n",
    "#            \"CosmicIPAll3D\",\"CosmicDirAll3D\"]\n",
    "\n",
    "#1e0p\n",
    "TRAINVAR = [#'tksh_angle','trkpid',\n",
    "            #'shrmoliererms',\n",
    "            'shrmoliereavg','shr_score', \"trkfit\",\"subcluster\",\n",
    "            \"CosmicIPAll3D\",\"CosmicDirAll3D\",\n",
    "            'secondshower_Y_nhit','secondshower_Y_vtxdist','secondshower_Y_dot','anglediff_Y',\n",
    "            'secondshower_V_nhit','secondshower_V_vtxdist','secondshower_V_dot','anglediff_V',\n",
    "            'secondshower_U_nhit','secondshower_U_vtxdist','secondshower_U_dot','anglediff_U',\n",
    "            \"shr_tkfit_2cm_dedx_U\", \"shr_tkfit_2cm_dedx_V\", \"shr_tkfit_2cm_dedx_Y\",\n",
    "            \"shr_tkfit_gap10_dedx_U\", \"shr_tkfit_gap10_dedx_V\", \"shr_tkfit_gap10_dedx_Y\",\n",
    "            \"shrMCSMom\",\n",
    "            \"DeltaRMS2h\",\n",
    "            \"shrPCA1CMed_5cm\",\n",
    "            \"CylFrac2h_1cm\"#,\n",
    "            #\"shr_tkfit_gap10_nhits_tot\",\"shr_tkfit_2cm_nhits_tot\",\n",
    "            #\"n_showers_contained\",\"tksh_distance\",\n",
    "            #\"trkshrhitdist2\",\n",
    "            #\"hits_ratio\",\n",
    "            #\"is_signal\",\"train_weight\",\"nu_e\"\n",
    "           ]"
   ]
  },
  {
   "cell_type": "code",
   "execution_count": 27,
   "metadata": {
    "colab": {},
    "colab_type": "code",
    "id": "XcI43ileYJ9P"
   },
   "outputs": [],
   "source": [
    "#LABELS = ['bkg','pi0','nonpi0']\n",
    "LABELS = ['bkg']#,'pi0','nonpi0']\n",
    "\n",
    "\n",
    "if (USEBDT == True):\n",
    "    for label, bkg_query in zip(LABELS, nue_booster.bkg_queries):\n",
    "        with open(ls.pickle_path+'mcs_noext_200326/'+'booster_%s_0304_extnumi_vx.pickle' % label, 'rb') as booster_file:\n",
    "            booster = pickle.load(booster_file)\n",
    "            #print((ls.pickle_path+'booster_%s_0304_extnumi.model' % label), booster.best_iteration)\n",
    "            #booster.save_model( (ls.pickle_path+'booster_%s_0304_extnumi.model' % label) )\n",
    "            mc[label+\"_score\"] = booster.predict(\n",
    "                xgb.DMatrix(mc[TRAINVAR]),\n",
    "                ntree_limit=booster.best_iteration)\n",
    "            nue[label+\"_score\"] = booster.predict(\n",
    "                xgb.DMatrix(nue[TRAINVAR]),\n",
    "                ntree_limit=booster.best_iteration)\n",
    "            ext[label+\"_score\"] = booster.predict(\n",
    "                xgb.DMatrix(ext[TRAINVAR]),\n",
    "                ntree_limit=booster.best_iteration)\n",
    "            data[label+\"_score\"] = booster.predict(\n",
    "                xgb.DMatrix(data[TRAINVAR]),\n",
    "                ntree_limit=booster.best_iteration)\n",
    "            dirt[label+\"_score\"] = booster.predict(\n",
    "                xgb.DMatrix(dirt[TRAINVAR]),\n",
    "                ntree_limit=booster.best_iteration)\n"
   ]
  },
  {
   "cell_type": "code",
   "execution_count": 28,
   "metadata": {},
   "outputs": [],
   "source": [
    "df_v = [mc,nue]\n",
    "#removeGenieTune = False\n",
    "for i,df in enumerate(df_v):\n",
    "    df[ 'currentweight' ] = df['weightSplineTimesTuneTimesPPFX']"
   ]
  },
  {
   "cell_type": "code",
   "execution_count": 29,
   "metadata": {},
   "outputs": [],
   "source": [
    "df_v = [mc,nue]\n",
    "scaleFlat = 0\n",
    "#removeGenieTune = False\n",
    "for i,df in enumerate(df_v):\n",
    "    if scaleFlat == 1:\n",
    "        df['weightSplineTimesTuneTimesPPFX'] = df[ 'currentweight' ] \n",
    "        df.loc[ df['npi0'] > 0, 'weightSplineTimesTuneTimesPPFX' ] =  (df['weightSplineTimesTuneTimesPPFX'] * 0.759)\n",
    "    elif scaleFlat == 2:\n",
    "        df['weightSplineTimesTune'] = df[ 'currentweight' ] \n",
    "        pi0emax = 0.6\n",
    "        df.loc[ (df['pi0_e'] > 0.1) & (df['pi0_e'] < pi0emax) , 'weightSplineTimesTuneTimesPPFX'] = df['weightSplineTimesTuneTimesPPFX']*(1.-0.4*df['pi0_e'])\n",
    "        df.loc[ (df['pi0_e'] > 0.1) & (df['pi0_e'] >= pi0emax), 'weightSplineTimesTuneTimesPPFX'] = df['weightSplineTimesTuneTimesPPFX']*(1.-0.4*pi0emax)\n",
    "    elif scaleFlat == 0:\n",
    "        df['weightSplineTimesTuneTimesPPFX'] = df[ 'currentweight' ] \n",
    "        \n"
   ]
  },
  {
   "cell_type": "code",
   "execution_count": 30,
   "metadata": {},
   "outputs": [
    {
     "name": "stdout",
     "output_type": "stream",
     "text": [
      "(46815, 236)\n",
      "(67348, 219)\n",
      "(6087, 206)\n",
      "(7502, 206)\n",
      "(4634, 215)\n",
      "(46815,) 46815\n",
      "(67348,) 67348\n"
     ]
    }
   ],
   "source": [
    "dfbdt_v = [mc,nue,ext,data,dirt]\n",
    "print(mc.shape)\n",
    "print(nue.shape)\n",
    "print(ext.shape)\n",
    "print(data.shape)\n",
    "print(dirt.shape)\n",
    "\n",
    "from load_data_run1234 import process_uproot as process_uproot\n",
    "from load_data_run1234 import process_uproot_recoveryvars as process_uproot_recoveryvars\n",
    "for i,df in enumerate(df_v):\n",
    "    up = uproot_v[i]\n",
    "    process_uproot(up,df)"
   ]
  },
  {
   "cell_type": "code",
   "execution_count": 31,
   "metadata": {},
   "outputs": [],
   "source": [
    "#df_v = [mc,nue,ext,data,dirt]\n",
    "\n",
    "#for i,df in enumerate(df_v):\n",
    "#    up = uproot_v[i]\n",
    "#    process_uproot(up,df)"
   ]
  },
  {
   "cell_type": "code",
   "execution_count": 32,
   "metadata": {},
   "outputs": [],
   "source": [
    "df_v = [mc,nue]\n",
    "#removeGenieTune = False\n",
    "for i,df in enumerate(df_v):\n",
    "    df[ 'currentweight' ] = df['weightSplineTimesTuneTimesPPFX']"
   ]
  },
  {
   "cell_type": "code",
   "execution_count": 33,
   "metadata": {},
   "outputs": [
    {
     "data": {
      "text/plain": [
       "\"\\nscaleFlat = 2\\ndf_v = [mc,nue,dirt]\\n#removeGenieTune = False\\nfor i,df in enumerate(df_v):\\n    if scaleFlat == 1:\\n        df['weightSplineTimesTuneTimesPPFX'] = df[ 'currentweight' ] \\n        df.loc[ df['npi0'] > 0, 'weightSplineTimesTuneTimesPPFX' ] =  (df['weightSplineTimesTuneTimesPPFX'] * 0.759)\\n    elif scaleFlat == 2:\\n        df['weightSplineTimesTuneTimesPPFX'] = df[ 'currentweight' ] \\n        pi0emax = 0.6\\n        df.loc[ (df['pi0_e'] > 0.1) & (df['pi0_e'] < pi0emax) , 'weightSplineTimesTuneTimesPPFX'] = df['weightSplineTimesTuneTimesPPFX']*(1.-0.4*df['pi0_e'])\\n        df.loc[ (df['pi0_e'] > 0.1) & (df['pi0_e'] >= pi0emax), 'weightSplineTimesTuneTimesPPFX'] = df['weightSplineTimesTuneTimesPPFX']*(1.-0.4*pi0emax)\\n    elif scaleFlat == 0:\\n        df['weightSplineTimesTuneTimesPPFX'] = df[ 'currentweight' ] \\n\""
      ]
     },
     "execution_count": 33,
     "metadata": {},
     "output_type": "execute_result"
    }
   ],
   "source": [
    "'''\n",
    "scaleFlat = 2\n",
    "df_v = [mc,nue,dirt]\n",
    "#removeGenieTune = False\n",
    "for i,df in enumerate(df_v):\n",
    "    if scaleFlat == 1:\n",
    "        df['weightSplineTimesTuneTimesPPFX'] = df[ 'currentweight' ] \n",
    "        df.loc[ df['npi0'] > 0, 'weightSplineTimesTuneTimesPPFX' ] =  (df['weightSplineTimesTuneTimesPPFX'] * 0.759)\n",
    "    elif scaleFlat == 2:\n",
    "        df['weightSplineTimesTuneTimesPPFX'] = df[ 'currentweight' ] \n",
    "        pi0emax = 0.6\n",
    "        df.loc[ (df['pi0_e'] > 0.1) & (df['pi0_e'] < pi0emax) , 'weightSplineTimesTuneTimesPPFX'] = df['weightSplineTimesTuneTimesPPFX']*(1.-0.4*df['pi0_e'])\n",
    "        df.loc[ (df['pi0_e'] > 0.1) & (df['pi0_e'] >= pi0emax), 'weightSplineTimesTuneTimesPPFX'] = df['weightSplineTimesTuneTimesPPFX']*(1.-0.4*pi0emax)\n",
    "    elif scaleFlat == 0:\n",
    "        df['weightSplineTimesTuneTimesPPFX'] = df[ 'currentweight' ] \n",
    "'''"
   ]
  },
  {
   "cell_type": "markdown",
   "metadata": {},
   "source": [
    "# Plotting part"
   ]
  },
  {
   "cell_type": "code",
   "execution_count": 34,
   "metadata": {},
   "outputs": [
    {
     "data": {
      "text/plain": [
       "<module 'plotter' from '/Users/elenag/Desktop/PlotterLEE/PELEE4/plotter.py'>"
      ]
     },
     "execution_count": 34,
     "metadata": {},
     "output_type": "execute_result"
    }
   ],
   "source": [
    "import plotter\n",
    "import importlib\n",
    "importlib.reload(plotter)\n"
   ]
  },
  {
   "cell_type": "code",
   "execution_count": 35,
   "metadata": {},
   "outputs": [
    {
     "name": "stdout",
     "output_type": "stream",
     "text": [
      "6087\n",
      "{'mc': 0.08615676222887543, 'nue': 0.007712746470454397, 'ext': 0.5612087579382191}\n"
     ]
    },
    {
     "name": "stderr",
     "output_type": "stream",
     "text": [
      "/Users/elenag/Desktop/PlotterLEE/PELEE4/plotter.py:236: UserWarning: Missing dirt sample\n",
      "  warnings.warn(\"Missing dirt sample\")\n"
     ]
    }
   ],
   "source": [
    "import plotter\n",
    "import importlib\n",
    "importlib.reload(plotter)\n",
    "scaling = 1\n",
    "\n",
    "SPLIT = 1.0\n",
    "if (USEBDT == True):\n",
    "    SPLIT = 2.\n",
    "\n",
    "'''\n",
    "nueMC = mc.query(\"(abs(nu_pdg) == 12 & ccnc == 0)\")\n",
    "nue   = nue.query(\"(abs(nu_pdg) == 12 & ccnc == 0)\")\n",
    "samples = {\n",
    "    \"mc\": mc,\n",
    "    \"nue\": nueMC,\n",
    "    \"dirt\": dirt,\n",
    "    \"data\": data,\n",
    "    \"ext\": ext\n",
    "}\n",
    "\n",
    "scaling = 1\n",
    "pot =  2e+20 #partial file: 8.885e+19\n",
    "mcratio   = pot/2.18488e+21 #norm on wiki: 1.18488e+21; current norm on my plotter:  2.07136e+21\n",
    "nueratio  = pot/2.18488e+21 #1.85664e+22  #1.85664e+22 #norm on wiki: 1.85664e+22\n",
    "dirtratio = pot/1.42143e+21\n",
    "extratio  = 5268051/9199232.74 #partial file: 2347745.0/4015961.99\n",
    "SPLIT = 1.0\n",
    "scalingEXT = 0.98\n",
    "scalingDRT = 0.35\n",
    "'''\n",
    "\n",
    "\n",
    "#nueMC = mc.query(\"(abs(nu_pdg) == 12 & ccnc == 0 & true_nu_vtx_z < 1036.8 & true_nu_vtx_z > 0 & true_nu_vtx_y < 116.5 & true_nu_vtx_y > -116.5 & true_nu_vtx_x < \\\n",
    "# 254.8 & true_nu_vtx_x > -1.55 )\")\n",
    "nueMC = mc.query(\"(abs(nu_pdg) == 12 & ccnc == 0)\")\n",
    "nue   = nue.query(\"(abs(nu_pdg) == 12 & ccnc == 0 & true_nu_vtx_z < 1036.8 & true_nu_vtx_z > 0 & true_nu_vtx_y < 116.5 & true_nu_vtx_y > -116.5 & true_nu_vtx_x < \\\n",
    " 254.8 & true_nu_vtx_x > -1.55)\")\n",
    "samples = {\n",
    "    \"mc\": mc,\n",
    "    \"nue\": nue,\n",
    "    \"data\": data,\n",
    "    #\"dirt\": dirt,\n",
    "    \"ext\": ext\n",
    "}\n",
    "\n",
    "scaling = 1\n",
    "pot =  2e+20 #partial file: 8.885e+19\n",
    "mcratio   = pot/2.32135e+21 #norm on wiki: 1.18488e+21; current norm on my plotter:  2.07136e+21\n",
    "nueratio  = pot/2.59311e+22 #2.59311e+22 #norm for intrinsic = 2.59311e+22\n",
    "#nueratio  = pot/2.59311e+22  ##norm for intrinsic = 2.59311e+22\n",
    "dirtratio = pot/1.42143e+21\n",
    "extratio  = 5268051/9199232.74 #partial file: 2347745.0/4015961.99\n",
    "SPLIT = 1.0\n",
    "scalingEXT = 0.98\n",
    "scalingDRT = 0.70 # 0.35\n",
    "\n",
    "\n",
    "weights = { #full sample mc = 0.38\n",
    "            \"mc\"  : mcratio  * SPLIT * scaling,   \n",
    "            \"nue\" : nueratio * SPLIT * scaling,  \n",
    "            \"ext\" : extratio * SPLIT * scalingEXT, #set0   \n",
    "            #\"dirt\": dirtratio* SPLIT * scalingDRT, #set0   \n",
    "}\n",
    "print (ext.shape[0])\n",
    "my_plotter = plotter.Plotter(samples, weights, pot=pot)\n",
    "print(weights)"
   ]
  },
  {
   "cell_type": "code",
   "execution_count": 36,
   "metadata": {
    "colab": {},
    "colab_type": "code",
    "id": "_pamv0W8YJ9R"
   },
   "outputs": [
    {
     "data": {
      "text/plain": [
       "'\\nscaling = 1\\n\\nSPLIT = 1.0\\nif (USEBDT == True):\\n    SPLIT = 2.\\n\\nnue = mc.query(\"(abs(nu_pdg) == 12 & ccnc == 0)\")\\nnue = mc.query(\"(abs(nu_pdg) == 12 & ccnc == 0)\")\\nsamples = {\\n    \"mc\": mc,\\n    \"nue\": nue,\\n    \"dirt\": dirt,\\n    \"data\": data,\\n    \"ext\": ext\\n}\\n\\nscaling = 1\\n#scaling = 0.789\\npot =  2e+20 #partial file: 8.885e+19\\nmcratio   = pot/2.07136e+21\\ndirtratio = pot/1.42143e+21\\nextratio  = 5268051/9199232.74 #partial file: 2347745.0/4015961.99\\nSPLIT = 1.0\\nscalingEXT = 0.98\\nscalingDRT = 0.35\\n\\nweights = { #full sample mc = 0.38\\n            \"mc\"  : mcratio  * SPLIT * scaling,   \\n            \"nue\" : mcratio  * SPLIT * scaling,  \\n            \"ext\" : extratio * SPLIT * scalingEXT, #set0   \\n            \"dirt\": dirtratio* SPLIT * scalingDRT, #set0   \\n}\\nprint (ext.shape[0])\\nmy_plotter = plotter.Plotter(samples, weights, pot=pot)\\nprint(weights)\\n'"
      ]
     },
     "execution_count": 36,
     "metadata": {},
     "output_type": "execute_result"
    }
   ],
   "source": [
    "'''\n",
    "scaling = 1\n",
    "\n",
    "SPLIT = 1.0\n",
    "if (USEBDT == True):\n",
    "    SPLIT = 2.\n",
    "\n",
    "nue = mc.query(\"(abs(nu_pdg) == 12 & ccnc == 0)\")\n",
    "nue = mc.query(\"(abs(nu_pdg) == 12 & ccnc == 0)\")\n",
    "samples = {\n",
    "    \"mc\": mc,\n",
    "    \"nue\": nue,\n",
    "    \"dirt\": dirt,\n",
    "    \"data\": data,\n",
    "    \"ext\": ext\n",
    "}\n",
    "\n",
    "scaling = 1\n",
    "#scaling = 0.789\n",
    "pot =  2e+20 #partial file: 8.885e+19\n",
    "mcratio   = pot/2.07136e+21\n",
    "dirtratio = pot/1.42143e+21\n",
    "extratio  = 5268051/9199232.74 #partial file: 2347745.0/4015961.99\n",
    "SPLIT = 1.0\n",
    "scalingEXT = 0.98\n",
    "scalingDRT = 0.35\n",
    "\n",
    "weights = { #full sample mc = 0.38\n",
    "            \"mc\"  : mcratio  * SPLIT * scaling,   \n",
    "            \"nue\" : mcratio  * SPLIT * scaling,  \n",
    "            \"ext\" : extratio * SPLIT * scalingEXT, #set0   \n",
    "            \"dirt\": dirtratio* SPLIT * scalingDRT, #set0   \n",
    "}\n",
    "print (ext.shape[0])\n",
    "my_plotter = plotter.Plotter(samples, weights, pot=pot)\n",
    "print(weights)\n",
    "'''"
   ]
  },
  {
   "cell_type": "code",
   "execution_count": 37,
   "metadata": {},
   "outputs": [
    {
     "name": "stdout",
     "output_type": "stream",
     "text": [
      "nslice == 1\n"
     ]
    }
   ],
   "source": [
    "# muon selection\n",
    "QUERY = 'nslice == 1'\n",
    "#if ISRUN3: QUERY += ' and ((crtveto!=1) or (crthitpe < 100)) and (_closestNuCosmicDist > 20.)'\n",
    "#QUERY += ' and trk_len > 20'\n",
    "#QUERY += ' and topological_score > 0.06'\n",
    "#QUERY += ' and reco_nu_vtx_sce_x > 5 and reco_nu_vtx_sce_x < 251'\n",
    "#QUERY += ' and reco_nu_vtx_sce_y > -110 and reco_nu_vtx_sce_y < 110'\n",
    "#QUERY += ' and reco_nu_vtx_sce_z > 20 and reco_nu_vtx_sce_z < 986'\n",
    "#QUERY += ' and trkpid > 0.5'\n",
    "#QUERY += ' and (trkthetacos < 0.853 or trkthetacos > 0.8531)'\n",
    "#QUERY += ' and bkpdg == 2212 and (trkcompl < 0.5 or trkpur < 0.5)'\n",
    "\n",
    "print (QUERY)"
   ]
  },
  {
   "cell_type": "code",
   "execution_count": 38,
   "metadata": {},
   "outputs": [],
   "source": [
    "# nue preselection\n",
    "PRESQ = 'nslice == 1'\n",
    "PRESQ += ' and selected == 1'\n",
    "PRESQ += ' and shr_energy_tot_cali > 0.07'\n",
    "PRESQ += ' and ( (_opfilter_pe_beam > 0 and _opfilter_pe_veto < 20) or bnbdata == 1 or extdata == 1)'"
   ]
  },
  {
   "cell_type": "code",
   "execution_count": 39,
   "metadata": {},
   "outputs": [],
   "source": [
    "TWOSHWRS = PRESQ\n",
    "TWOSHWRS += ' and n_showers_contained >= 2'\n"
   ]
  },
  {
   "cell_type": "code",
   "execution_count": 40,
   "metadata": {},
   "outputs": [],
   "source": [
    "# 1eNp preselection\n",
    "NPPRESQ = PRESQ\n",
    "NPPRESQ += ' and n_tracks_contained > 0'"
   ]
  },
  {
   "cell_type": "code",
   "execution_count": 41,
   "metadata": {},
   "outputs": [],
   "source": [
    "# very loose box cuts\n",
    "NPVLCUTQ = NPPRESQ\n",
    "NPVLCUTQ += ' and CosmicIPAll3D > 10.'\n",
    "NPVLCUTQ += ' and trkpid < 0.25'\n",
    "NPVLCUTQ += ' and hits_ratio > 0.5'\n",
    "NPVLCUTQ += ' and trkfit < 0.90'\n",
    "NPVLCUTQ += ' and n_showers_contained == 1'\n",
    "NPVLCUTQ += ' and tksh_distance < 10.0'\n",
    "NPVLCUTQ += ' and tksh_angle > -0.9'"
   ]
  },
  {
   "cell_type": "code",
   "execution_count": 42,
   "metadata": {},
   "outputs": [],
   "source": [
    "# loose box cuts\n",
    "NPLCUTQ = NPVLCUTQ\n",
    "NPLCUTQ += ' and CosmicIPAll3D > 10.'\n",
    "NPLCUTQ += ' and trkpid < 0.02'\n",
    "NPLCUTQ += ' and hits_ratio > 0.50'\n",
    "NPLCUTQ += ' and shrmoliereavg < 9'\n",
    "NPLCUTQ += ' and subcluster > 4'\n",
    "NPLCUTQ += ' and trkfit < 0.65'\n",
    "NPLCUTQ += ' and n_showers_contained == 1'\n",
    "NPLCUTQ += ' and tksh_distance < 6.0'\n",
    "NPLCUTQ += ' and (shr_tkfit_nhits_tot > 1 and shr_tkfit_dedx_max > 0.5 and shr_tkfit_dedx_max < 5.5)'\n",
    "NPLCUTQ += ' and secondshower_Y_nhit < 50'\n",
    "NPLCUTQ += ' and tksh_angle > -0.9'"
   ]
  },
  {
   "cell_type": "code",
   "execution_count": 43,
   "metadata": {},
   "outputs": [],
   "source": [
    "NPLCUTQPlus = NPPRESQ\n",
    "NPLCUTQPlus += ' and CosmicIPAll3D > 10.'\n",
    "NPLCUTQPlus += ' and trkpid < 0.25'\n",
    "NPLCUTQPlus += ' and hits_ratio > 0.5'\n",
    "NPLCUTQPlus += ' and trkfit < 0.90'\n",
    "NPLCUTQPlus += ' and tksh_distance < 10.0'\n",
    "NPLCUTQPlus += ' and tksh_angle > -0.9'\n",
    "NPLCUTQPlus += ' and CosmicIPAll3D > 10.'\n",
    "NPLCUTQPlus += ' and trkpid < 0.02'\n",
    "NPLCUTQPlus += ' and hits_ratio > 0.50'\n",
    "NPLCUTQPlus += ' and shrmoliereavg < 9'\n",
    "NPLCUTQPlus += ' and subcluster > 4'\n",
    "NPLCUTQPlus += ' and trkfit < 0.65'\n",
    "#NPLCUTQPlus += ' and n_showers_contained > 1'\n",
    "NPLCUTQPlus += ' and tksh_distance < 6.0'\n",
    "NPLCUTQPlus += ' and (shr_tkfit_nhits_tot > 1 and shr_tkfit_dedx_max > 0.5 and shr_tkfit_dedx_max < 5.5)'\n",
    "NPLCUTQPlus += ' and secondshower_Y_nhit < 50'\n",
    "NPLCUTQPlus += ' and tksh_angle > -0.9'"
   ]
  },
  {
   "cell_type": "code",
   "execution_count": 44,
   "metadata": {},
   "outputs": [],
   "source": [
    "# tight box cuts\n",
    "NPTCUTQ = NPLCUTQ\n",
    "NPTCUTQ += ' and CosmicIPAll3D > 30.'\n",
    "NPTCUTQ += ' and CosmicDirAll3D > -0.98 and CosmicDirAll3D < 0.98'\n",
    "NPTCUTQ += ' and trkpid < 0.02'\n",
    "NPTCUTQ += ' and hits_ratio > 0.65'\n",
    "NPTCUTQ += ' and shr_score < 0.25'\n",
    "NPTCUTQ += ' and shrmoliereavg > 2 and shrmoliereavg < 10'\n",
    "NPTCUTQ += ' and subcluster > 7'\n",
    "NPTCUTQ += ' and trkfit < 0.70'\n",
    "NPTCUTQ += ' and n_showers_contained == 1'\n",
    "NPTCUTQ += ' and tksh_distance < 4.0'\n",
    "NPTCUTQ += ' and trkshrhitdist2 < 1.5'\n",
    "NPTCUTQ += ' and (shr_tkfit_nhits_tot > 1 and shr_tkfit_dedx_max > 1.0 and shr_tkfit_dedx_max < 3.8)'\n",
    "NPTCUTQ += ' and (secondshower_Y_nhit<=8 or secondshower_Y_dot<=0.8 or anglediff_Y<=40 or secondshower_Y_vtxdist>=100)'\n",
    "NPTCUTQ += ' and secondshower_Y_nhit < 30'\n",
    "NPTCUTQ += ' and tksh_angle > -0.9 and tksh_angle < 0.70'"
   ]
  },
  {
   "cell_type": "code",
   "execution_count": 45,
   "metadata": {},
   "outputs": [],
   "source": [
    "# OLD loose box cuts\n",
    "OLCUTQ = PRESQ\n",
    "OLCUTQ += ' and CosmicIP > 20.'\n",
    "OLCUTQ += ' and trkpid < 0.1'\n",
    "OLCUTQ += ' and hits_ratio > 0.5'\n",
    "OLCUTQ += ' and shr_score < 0.30'\n",
    "OLCUTQ += ' and n_showers_contained == 1'\n",
    "OLCUTQ += ' and tksh_distance < 6.0'\n",
    "OLCUTQ += ' and shr_tkfit_2cm_dedx_avg < 4.0'\n",
    "OLCUTQ += ' and tksh_angle > -0.9'\n",
    "# OLD tight box cuts\n",
    "OTCUTQ = OLCUTQ\n",
    "OTCUTQ += ' and tksh_distance < 3.5'\n",
    "OTCUTQ += ' and (shr_tkfit_2cm_dedx_Y > 0 and shr_tkfit_2cm_dedx_Y < 4.0 and shr_tkfit_2cm_dedx_U < 4.0 and shr_tkfit_2cm_dedx_V < 4.0)'\n",
    "OTCUTQ += ' and (shr_tkfit_gap10_dedx_Y > 0 and shr_tkfit_gap10_dedx_Y < 4.5 and shr_tkfit_gap10_dedx_U < 4.5 and shr_tkfit_gap10_dedx_V < 4.5)'\n",
    "OTCUTQ += ' and tksh_angle > -0.9 and tksh_angle < 0.75'\n",
    "OTCUTQ += ' and shrmoliereavg > 2 and shrmoliereavg < 9'\n",
    "OTCUTQ += ' and trkpid < -0.02'\n",
    "OTCUTQ += ' and n_showers_contained == 1'\n",
    "OTCUTQ += ' and shr_score < 0.275'\n",
    "OTCUTQ += ' and hits_ratio > 0.60'\n",
    "OTCUTQ += ' and (secondshower_Y_nhit<=8 or secondshower_Y_dot<=0.8 or anglediff_Y<=40 or secondshower_Y_vtxdist>=100)'\n",
    "OTCUTQ += ' and (trkfit < 0.45 or subcluster > 6)'"
   ]
  },
  {
   "cell_type": "code",
   "execution_count": 46,
   "metadata": {},
   "outputs": [],
   "source": [
    "# BDT cuts\n",
    "# 0304 extnumi, pi0 and nonpi0\n",
    "BDTCQ = NPPRESQ\n",
    "BDTCQ += ' and pi0_score > 0.67 and nonpi0_score > 0.70'"
   ]
  },
  {
   "cell_type": "code",
   "execution_count": 47,
   "metadata": {},
   "outputs": [],
   "source": [
    "myPre = \"nslice == 1 and selected == 1 and shr_energy_tot_cali > 0.07 and ( (_opfilter_pe_beam > 0 and _opfilter_pe_veto < 20) or bnbdata == 1 or extdata == 1) and n_tracks_contained > 0\""
   ]
  },
  {
   "cell_type": "code",
   "execution_count": 48,
   "metadata": {},
   "outputs": [],
   "source": [
    "# loose box cuts\n",
    "NPLCUTQ2 = NPPRESQ\n",
    "NPLCUTQ2 += ' and CosmicIPAll3D > 10.'\n",
    "NPLCUTQ2 += ' and hits_ratio > 0.5'\n",
    "NPLCUTQ2 += ' and trkfit < 0.90'\n",
    "NPLCUTQ2 += ' and n_showers_contained == 1'\n",
    "NPLCUTQ2 += ' and tksh_distance < 10.0'\n",
    "NPLCUTQ2 += ' and tksh_angle > -0.9'\n",
    "NPLCUTQ2 += ' and CosmicIPAll3D > 10.'\n",
    "#NPLCUTQ2 += ' and trkpid < 0.02'\n",
    "NPLCUTQ2 += ' and hits_ratio > 0.50'\n",
    "NPLCUTQ2 += ' and shrmoliereavg < 9'\n",
    "NPLCUTQ2 += ' and subcluster > 4'\n",
    "NPLCUTQ2 += ' and trkfit < 0.65'\n",
    "NPLCUTQ2 += ' and n_showers_contained == 1'\n",
    "NPLCUTQ2 += ' and tksh_distance < 6.0'\n",
    "NPLCUTQ2 += ' and (shr_tkfit_nhits_tot > 1 and shr_tkfit_dedx_max > 0.5 and shr_tkfit_dedx_max < 5.5)'\n",
    "NPLCUTQ2 += ' and secondshower_Y_nhit < 50'\n",
    "NPLCUTQ2 += ' and tksh_angle > -0.9'"
   ]
  },
  {
   "cell_type": "code",
   "execution_count": 49,
   "metadata": {},
   "outputs": [],
   "source": [
    "SCORECUT = 0.5 # 0.75 #75 # max track score                                                                                                                                                                        \n",
    "DVTX = 3.0 # 3. # distance from vertex of each shower                                                                                                                                                              \n",
    "VTXDOT = 0.8 # dot product between each shower's direction and the vtx -> shr start vector                                                                                                                         \n",
    "EMIN1 =  60 #150 #60   # leading photon min energy                                                                                                                                                                        \n",
    "EMIN2 =  40 #100 #40   # subleading photon min energy                                                                                                                                                          \n",
    "GAMMADOT = 0.94 #0 #0.94 # max dot product between showres                                                                                                                                                                  \n",
    "DEDXCUT = 1.0 # MeV/cm cut on leading shower only                                                                                                                                                                  \n",
    "PI0SEL = 'nslice == 1'\n",
    "PI0SEL += ' & pi0_shrscore1 < %f & pi0_shrscore2 < %f'%(SCORECUT,SCORECUT)\n",
    "PI0SEL += '& pi0_dot1  > %f & pi0_dot2 > %f '%(VTXDOT,VTXDOT)\n",
    "PI0SEL += ' & pi0_radlen1 > %f & pi0_radlen2 > %f & pi0_gammadot < %f '%(DVTX,DVTX,GAMMADOT)\n",
    "PI0SEL += ' & pi0_energy1_Y > %f & pi0_energy2_Y > %f'%(EMIN1,EMIN2)\n",
    "#PI0SEL += ' and (filter_pi0 == 1 or bnbdata==1 or extdata==1)'                                                                                                                                                    \n",
    "#PI0SEL += ' and (filter_pi0 == 1)'                                                                                                                                                                                \n",
    "PI0SEL += ' and pi0_dedx1_fit_Y >= %f'%DEDXCUT"
   ]
  },
  {
   "cell_type": "code",
   "execution_count": 50,
   "metadata": {},
   "outputs": [],
   "source": [
    "NUMUOnTheFly = 'nslice == 1 and topological_score > 0.06 '\n",
    "NUMUOnTheFly += ' and reco_nu_vtx_sce_x > 5 and reco_nu_vtx_sce_x < 251'\n",
    "NUMUOnTheFly += ' and reco_nu_vtx_sce_y > -110 and reco_nu_vtx_sce_y < 110'\n",
    "NUMUOnTheFly += ' and reco_nu_vtx_sce_z > 20 and reco_nu_vtx_sce_z < 986'\n",
    "NUMUOnTheFly += ' and trk_score > 0.8 and trk_len > 10 and trk_distance < 4'"
   ]
  },
  {
   "cell_type": "code",
   "execution_count": 51,
   "metadata": {},
   "outputs": [],
   "source": [
    "# Define actual selection\n",
    "# QUERY = NPTCUTQ #NPTCUTQ\n",
    "#QUERY = NPPRESQ\n",
    "#QUERY = NPLCUTQ #NPTCUTQ NPLCUTQ\n",
    "#QUERY = NPPRESQ \n",
    "QUERY = NPLCUTQ +\" and \"+ BDTCQ #PI0SEL#NUMUOnTheFly + ' and n_showers_contained == 1'  #PI0SEL#NPLCUTQ2 #NPLCUTQ #NPPRESQ#'nslice ==1 ' #NPPRESQ #PRESQ\n",
    "# in case you do not want to look at the data\n",
    "#QUERY += ' and bnbdata==0'\n",
    "# in case you want to apply the CRT veto\n",
    "#if ISRUN3: QUERY += ' and (crtveto!=1) and (_closestNuCosmicDist > 20.)'"
   ]
  },
  {
   "cell_type": "code",
   "execution_count": 52,
   "metadata": {},
   "outputs": [
    {
     "name": "stdout",
     "output_type": "stream",
     "text": [
      "nslice == 1 and selected == 1 and shr_energy_tot_cali > 0.07 and ( (_opfilter_pe_beam > 0 and _opfilter_pe_veto < 20) or bnbdata == 1 or extdata == 1) and n_tracks_contained > 0 and CosmicIPAll3D > 10. and trkpid < 0.25 and hits_ratio > 0.5 and trkfit < 0.90 and tksh_distance < 10.0 and tksh_angle > -0.9 and CosmicIPAll3D > 10. and trkpid < 0.02 and hits_ratio > 0.50 and shrmoliereavg < 9 and subcluster > 4 and trkfit < 0.65 and tksh_distance < 6.0 and (shr_tkfit_nhits_tot > 1 and shr_tkfit_dedx_max > 0.5 and shr_tkfit_dedx_max < 5.5) and secondshower_Y_nhit < 50 and tksh_angle > -0.9\n"
     ]
    }
   ],
   "source": [
    "print(NPLCUTQPlus)"
   ]
  },
  {
   "cell_type": "code",
   "execution_count": 53,
   "metadata": {},
   "outputs": [],
   "source": [
    "PRESQ = 'nslice == 1'\n",
    "PRESQ += ' and selected == 1'\n",
    "PRESQ += ' and shr_energy_tot_cali > 0.07'\n",
    "PRESQ += ' and ( (_opfilter_pe_beam > 0 and _opfilter_pe_veto < 20) or bnbdata == 1 or extdata == 1)'\n",
    "\n",
    "ZPPRESEL = PRESQ\n",
    "ZPPRESEL += ' and n_tracks_contained == 0'\n",
    "ZPPRESEL_one_shower = ZPPRESEL + 'and n_showers_contained == 1'\n",
    "\n",
    "ZPLOOSESEL = ZPPRESEL\n",
    "ZPLOOSESEL += ' and n_showers_contained == 1'\n",
    "ZPLOOSESEL += ' and CosmicIPAll3D > 10.'\n",
    "ZPLOOSESEL += ' and CosmicDirAll3D > -0.9 and CosmicDirAll3D < 0.9'\n",
    "ZPLOOSESEL += ' and shrmoliereavg < 15'\n",
    "ZPLOOSESEL += ' and subcluster > 4'\n",
    "ZPLOOSESEL += ' and trkfit < 0.65'\n",
    "ZPLOOSESEL += ' and secondshower_Y_nhit < 50'\n",
    "ZPLOOSESEL += ' and shr_trk_sce_start_y > -100 and shr_trk_sce_start_y < 80'\n",
    "ZPLOOSESEL += ' and shr_trk_sce_end_y > -100 and shr_trk_sce_end_y < 100 '\n",
    "ZPLOOSESEL += ' and shr_trk_len < 300.'\n",
    "#ZPLOOSESEL += ' and (n_tracks_tot == 0 )'\n",
    "#ZPLOOSESEL += ' and (n_tracks_tot == 0 or (n_tracks_tot>0 and tk1sh1_angle_alltk>-0.9))'\n",
    "ZPLOOSESEL += ' and n_tracks_contained == 0'\n",
    "\n",
    "ZPBDT = ZPLOOSESEL\n",
    "ZPBDT += ' and bkg_score >0.72'\n",
    "#ZPBDT += ' and bkg_score >0.5'\n",
    "\n",
    "QUERY = ZPLOOSESEL"
   ]
  },
  {
   "cell_type": "code",
   "execution_count": 54,
   "metadata": {},
   "outputs": [],
   "source": [
    "PRESQ = 'nslice == 1'\n",
    "PRESQ += ' and selected == 1'\n",
    "PRESQ += ' and shr_energy_tot_cali > 0.07'\n",
    "PRESQ += ' and ( (_opfilter_pe_beam > 0 and _opfilter_pe_veto < 20) or bnbdata == 1 or extdata == 1)'\n",
    "\n",
    "ZPPRESELAlt = PRESQ\n",
    "ZPLOOSESELAlt  = ZPPRESELAlt\n",
    "ZPLOOSESELAlt += ' and n_showers_contained == 1'\n",
    "ZPLOOSESELAlt += ' and CosmicIPAll3D > 10.'\n",
    "ZPLOOSESELAlt += ' and CosmicDirAll3D > -0.9 and CosmicDirAll3D < 0.9'\n",
    "ZPLOOSESELAlt += ' and shrmoliereavg < 15'\n",
    "ZPLOOSESELAlt += ' and subcluster > 4'\n",
    "ZPLOOSESELAlt += ' and trkfit < 0.65'\n",
    "ZPLOOSESELAlt += ' and secondshower_Y_nhit < 50'\n",
    "ZPLOOSESELAlt += ' and shr_trk_sce_start_y > -100 and shr_trk_sce_start_y < 80'\n",
    "ZPLOOSESELAlt += ' and shr_trk_sce_end_y > -100 and shr_trk_sce_end_y < 100 '\n",
    "ZPLOOSESELAlt += ' and shr_trk_len < 300.'\n",
    "#ZPLOOSESEL += ' and (n_tracks_tot == 0 )'\n",
    "#ZPLOOSESEL += ' and (n_tracks_tot == 0 or (n_tracks_tot>0 and tk1sh1_angle_alltk>-0.9))'\n",
    "#ZPLOOSESEL += ' and n_tracks_contained == 0'\n",
    "\n",
    "ZPBDTAlt = ZPLOOSESELAlt\n",
    "ZPBDTAlt += ' and bkg_score >0.72'\n"
   ]
  },
  {
   "cell_type": "code",
   "execution_count": 55,
   "metadata": {},
   "outputs": [
    {
     "name": "stderr",
     "output_type": "stream",
     "text": [
      "/Users/elenag/miniconda3/envs/peleeNB/lib/python3.7/site-packages/pandas/core/indexing.py:965: SettingWithCopyWarning: \n",
      "A value is trying to be set on a copy of a slice from a DataFrame.\n",
      "Try using .loc[row_indexer,col_indexer] = value instead\n",
      "\n",
      "See the caveats in the documentation: https://pandas.pydata.org/pandas-docs/stable/user_guide/indexing.html#returning-a-view-versus-a-copy\n",
      "  self.obj[item] = s\n"
     ]
    }
   ],
   "source": [
    "#df_v = [mc,nue]\n",
    "#for i,df in enumerate(df_v):\n",
    "#    df.loc[ (df['category']== 10) & (df['nu_pdg'] == -12), 'category' ] = 9\n",
    "#    df.loc[ (df['category']== 11) & (df['nu_pdg'] == -12), 'category' ] = 1\n",
    "#    df.loc[ (df['category']== 11) & (df['nu_pdg'] ==  12), 'category' ] = 1\n",
    "    \n",
    "#this is a BAD BAD thing\n",
    "df_v = [mc,nue]\n",
    "for i,df in enumerate(df_v):\n",
    "    df.loc[ (df['nu_pdg'] == -12), 'category' ] = 11111\n",
    "    df.loc[ (df['nu_pdg'] ==  12), 'category' ] = 11110\n"
   ]
  },
  {
   "cell_type": "code",
   "execution_count": 59,
   "metadata": {
    "colab": {
     "base_uri": "https://localhost:8080/",
     "height": 561
    },
    "colab_type": "code",
    "executionInfo": {
     "elapsed": 2342,
     "status": "ok",
     "timestamp": 1560557343774,
     "user": {
      "displayName": "Stefano Roberto Soleti",
      "photoUrl": "https://lh4.googleusercontent.com/-hfLpspJu4Q0/AAAAAAAAAAI/AAAAAAAABmA/2kE4rtj8paU/s64/photo.jpg",
      "userId": "10372352518008961760"
     },
     "user_tz": 240
    },
    "id": "b93hN-pGYJ9T",
    "outputId": "17e7c7ed-3f12-4b03-805c-6698f1617878",
    "scrolled": false
   },
   "outputs": [
    {
     "name": "stdout",
     "output_type": "stream",
     "text": [
      "nslice == 1& topological_score <= 1 & topological_score >= 0 \n",
      " ~(abs(nu_pdg) == 12 & ccnc == 0) \n",
      " None \n",
      " False\n"
     ]
    },
    {
     "data": {
      "image/png": "[encoded data removed]",
      "text/plain": [
       "<Figure size 576x504 with 2 Axes>"
      ]
     },
     "metadata": {
      "needs_background": "light"
     },
     "output_type": "display_data"
    }
   ],
   "source": [
    "QUERY = \"nslice == 1\" #ZPLOOSESEL #\"nslice == 1\" # and reco_nu_vtx_sce_y < 0 and bkg_score > 0.8\" #\n",
    "sysBool = False\n",
    "import matplotlib.pyplot as plt\n",
    "import matplotlib\n",
    "\n",
    "VARIABLE, BINS, RANGE, XTIT = 'shr_numi_Angle', 10, (0.,180.), \"NuMI Shower Angle [deg]\"\n",
    "VARIABLE, BINS, RANGE, XTIT = 'reco_nu_vtx_sce_x',5,(0,260),\"vtx x [cm]\"\n",
    "VARIABLE, BINS, RANGE, XTIT = 'numi_nu_true_Angle',18,(0,180),\" True NuMI Angle \"\n",
    "VARIABLE, BINS, RANGE, XTIT = 'shr_numi_Angle', 10, (0.,180.), \"NuMI Shower Angle [deg]\"\n",
    "VARIABLE, BINS, RANGE, XTIT = 'shr_Angle_Numi_target', 10, (-1.,1.), \"Shower Directional Cosine from Target Direction\"\n",
    "VARIABLE, BINS, RANGE, XTIT = 'reco_e', 10, (0.,4.0), r\"Reconstructed Energy [GeV]\"\n",
    "VARIABLE, BINS, RANGE, XTIT = 'reco_nu_vtx_sce_x',26,(0,260),\"vtx x [cm]\"\n",
    "\n",
    "VARIABLE, BINS, RANGE, XTIT = 'nslice',1,(0,1.0),\"Simple Count\"\n",
    "VARIABLE, BINS, RANGE, XTIT = 'n_tracks_contained',10,(0,10),\"N Tracks Contained\"\n",
    "VARIABLE, BINS, RANGE, XTIT = 'bkg_score',10,(0,1.0),\"BDT response\"\n",
    "VARIABLE, BINS, RANGE, XTIT = 'topological_score',20,(0,1.0),\"Pandora topological score\"\n",
    "VARIABLE, BINS, RANGE, XTIT = 'reco_e', 10, (0.,4.0), r\"Reconstructed Energy [GeV]\"\n",
    "VARIABLE, BINS, RANGE, XTIT = 'topological_score',20,(0,1.0),\"Pandora topological score\"\n",
    "\n",
    "#VARIABLE, BINS, RANGE, XTIT = 'reco_e', 1, (0.15,3.15), r\"Reconstructed Energy [GeV]\"\n",
    "fig, ax1, ax2 = my_plotter.plot_variable(\n",
    "    VARIABLE,   \n",
    "    query= QUERY ,#BDTCQ,#NPLCUTQ, #QUERY, #'nslice == 1', #QUERY, #+\" and category != 111\",\n",
    "    kind=\"event_category\",\n",
    "    #kind=\"sample\",\n",
    "    #kind=\"interaction\",\n",
    "    #kind='particle_pdg',\n",
    "    draw_sys=sysBool,\n",
    "    draw_data=True,\n",
    "    draw_geoSys = sysBool, \n",
    "    stacksort=3,\n",
    "    genieweight = \"weightSplineTimesTuneTimesPPFX\", #\"weightSplineTimesTuneTimesPPFX\", \n",
    "    title=XTIT,\n",
    "    bins=BINS,\n",
    "    range=RANGE #,\n",
    ")[0:3]\n",
    "\n",
    "\n",
    "if sysBool:\n",
    "    ax1.set_title('NuMI Run 1 \\nHP, Beamline Geo, GENIE, G4Reint Systematics',loc='left')\n",
    "    fig.tight_layout()\n",
    "    fig.savefig(\"/Users/elenag/Desktop/NuMI/NuMI4PeLEE/AntiNueXS/Run1/\"+VARIABLE+\"_Sys.pdf\")\n",
    "else:\n",
    "    ax1.set_title('NuMI Run 1 \\n Stat Only',loc='left')\n",
    "    fig.tight_layout()\n",
    "    fig.savefig(\"/Users/elenag/Desktop/NuMI/NuMI4PeLEE/AntiNueXS/Run1/\"+VARIABLE+\"_StatOnly.pdf\")\n"
   ]
  },
  {
   "cell_type": "code",
   "execution_count": null,
   "metadata": {},
   "outputs": [],
   "source": [
    "#QUERY += 'and reco_e < 0.15'\n",
    "QUERY = \"nslice == 1\" #ZPBDT #ZPLOOSESEL\n",
    "plots = [] \n",
    "plots.append(['reco_nu_vtx_sce_x',50,(0,260),\"vtx x [cm]\"])\n",
    "plots.append(['reco_nu_vtx_sce_y',50,(-120,120),\"vtx y [cm]\"])\n",
    "plots.append(['reco_nu_vtx_sce_z',50,(0,1030),\"vtx z [cm]\"])\n",
    "\n",
    "'''\n",
    "plots.append(['shr_theta',10,(0,3.0),\"Shower theta\"])\n",
    "plots.append(['pt',10,(0,2.),\"Pt [GeV]\"])\n",
    "plots.append(['shr_phi',10,(-3,3),\"Shower phi\"])\n",
    "plots.append(['shr_energy_tot_cali',40,(0,2.),\"shr energy (calibrated) [GeV]\"])\n",
    "\n",
    "\n",
    "\n",
    "\n",
    "plots.append(['reco_e', 20, (0.05,2.05), 'Reconstructed Energy [GeV]'])\n",
    "plots.append(['reco_nu_vtx_sce_x',10,(0,260),\"vtx x [cm]\"])\n",
    "plots.append(['reco_nu_vtx_sce_y',10,(-120,120),\"vtx y [cm]\"])\n",
    "plots.append(['reco_nu_vtx_sce_z',10,(0,1030),\"vtx z [cm]\"])\n",
    "\n",
    "\n",
    "plots.append(['trk_energy_tot',40,(0,0.01),\"tracks energy [GeV]\"])\n",
    "plots.append(['shr_tkfit_2cm_dedx_Y',40,(0,20),\"shr tkfit dE/dx (Y, 0-2 cm) [MeV/cm]\"])\n",
    "plots.append(['shr_tkfit_2cm_dedx_U',40,(0,20),\"shr tkfit dE/dx (U, 0-2 cm) [MeV/cm]\"])\n",
    "plots.append(['shr_tkfit_2cm_dedx_V',40,(0,20),\"shr tkfit dE/dx (V, 0-2 cm) [MeV/cm]\"])\n",
    "plots.append(['shr_tkfit_gap10_dedx_Y',40,(0,20),\"shr tkfit dE/dx (Y, 1-5 cm) [MeV/cm]\"])\n",
    "plots.append(['shr_tkfit_gap10_dedx_U',40,(0,20),\"shr tkfit dE/dx (U, 1-5 cm) [MeV/cm]\"])\n",
    "plots.append(['shr_tkfit_gap10_dedx_V',40,(0,20),\"shr tkfit dE/dx (V, 1-5 cm) [MeV/cm]\"])\n",
    "plots.append(['shr_score',20,(0,0.5),\"shr score\"])\n",
    "plots.append(['trkfit',10,(0,1),\"Fraction of Track-fitted points\"])\n",
    "plots.append(['subcluster',15,(0,60),\"N sub-clusters in shower\"])\n",
    "plots.append(['shrmoliereavg',10,(0,25),\"average Moliere angle [degrees]\"])\n",
    "plots.append(['CosmicIPAll3D',10,(0,200),\"CosmicIPAll3D [cm]\"])\n",
    "plots.append(['CosmicDirAll3D',10,(-1,1),\"cos(CosmicDirAll3D)\"])\n",
    "plots.append(['anglediff_Y',10,(0,360),\"angle diff 1st-2nd shower (Y) [degrees]\"])\n",
    "plots.append(['anglediff_V',10,(0,360),\"angle diff 1st-2nd shower (V) [degrees]\"])\n",
    "plots.append(['anglediff_U',10,(0,360),\"angle diff 1st-2nd shower (U) [degrees]\"])\n",
    "plots.append(['secondshower_Y_nhit',25,(0,500),\"Nhit 2nd shower (Y)\"])\n",
    "plots.append(['secondshower_V_nhit',25,(0,500),\"Nhit 2nd shower (V)\"])\n",
    "plots.append(['secondshower_U_nhit',25,(0,500),\"Nhit 2nd shower (U)\"])\n",
    "plots.append(['secondshower_Y_dot',20,(-1,1),\"cos(2nd shower direction wrt vtx) (Y)\"])\n",
    "plots.append(['secondshower_V_dot',20,(-1,1),\"cos(2nd shower direction wrt vtx) (V)\"])\n",
    "plots.append(['secondshower_U_dot',20,(-1,1),\"cos(2nd shower direction wrt vtx) (U)\"])\n",
    "plots.append(['secondshower_Y_vtxdist',20,(0.,1000),\"vtx dist 2nd shower (Y)\"])\n",
    "plots.append(['secondshower_V_vtxdist',20,(0.,1000),\"vtx dist 2nd shower (V)\"])\n",
    "plots.append(['secondshower_U_vtxdist',20,(0.,1000),\"vtx dist 2nd shower (U)\"])\n",
    "plots.append(['CylFrac2h_1cm',10,(0,1.),\"CylFrac2h 1cm\"])\n",
    "plots.append(['shrPCA1CMed_5cm',20,(0.5,1),\"shrPCA1CMed 5cm\"])\n",
    "plots.append(['DeltaRMS2h',20,(0,20),\"DeltaRMS2h 1cm\"])\n",
    "plots.append(['shrMCSMom',20,(0,1000),\"shrMCSMom 1cm\"])\n",
    "'''\n",
    "if USEBDT:\n",
    "    plots.append(['bkg_score',10,(0,1.0),\"BDT response\"])\n",
    "\n",
    "\n",
    "\n",
    "\n",
    "#plots.append(['tksh_distance',5,(0,5),\"tksh distance [cm]\"])\n",
    "#plots.append(['tksh_angle',10,(-1,1),\"cos(tksh angle)\"])\n",
    "#plots.append(['shr_tkfit_dedx_max',15,(0,10),\"shr tkfit dE/dx (best-plane, 0-4 cm) [MeV/cm]\"])\n",
    "#plots.append(['trkpid',10,(-1,1),\"track LLR PID\"])\n",
    "#plots.append(['hits_ratio',20,(0,1),\"shower hits/all hits\"])\n",
    "#plots.append(['trkshrhitdist2',16,(-1,15),\"2D trk-shr distance (Y)\"])\n",
    "#plots.append(['reco_nu_vtx_sce_y',15,(-150,150),\"reco nu vtx y [cm]\"])\n",
    "             \n",
    "#plots.append(['shr_tkfit_dedx_avg',20,(0,10),\"shr tkfit dE/dx (avg, 0-4 cm) [MeV/cm]\"])\n",
    "#plots.append(['shr_tkfit_nhits_tot',20,(0,20),\"shr tkfit nhits (tot, 0-4 cm) [MeV/cm]\"])\n",
    "#plots.append(['shr_tkfit_2cm_dedx_avg',20,(0,10),\"shr tkfit dE/dx (avg, 0-2 cm) [MeV/cm]\"])\n",
    "#plots.append(['shr_tkfit_2cm_nhits_tot',20,(0,20),\"shr tkfit nhits (tot, 0-2 cm) [MeV/cm]\"])\n",
    "#plots.append(['shr_tkfit_gap10_dedx_avg',20,(0,10),\"shr tkfit dE/dx (avg, 1-5 cm) [MeV/cm]\"])\n",
    "#plots.append(['shr_tkfit_gap10_nhits_tot',20,(0,20),\"shr tkfit nhits (tot, 1-5 cm) [MeV/cm]\"])\n",
    "#plots.append(['shr_tkfit_nhits_tot',20,(0,20),\"shr tkfit nhits (tot, 0-4 cm) [MeV/cm]\"])\n",
    "#plots.append(['shr_tkfit_dedx_max',20,(0,10),\"shr tkfit dE/dx (best-plane, 0-4 cm) [MeV/cm]\"])\n",
    "#plots.append(['n_showers_contained',10,(0,10),\"n showers contained\"])\n",
    "#plots.append(['n_tracks_contained',5,(0,5),\"n tracks contained\"])\n",
    "#plots.append(['protonenergy',10,(0.,0.5),\"Proton Kinetic Energy [GeV]\"])\n",
    "#plots.append(['trk_theta',10,(0,3.0),\"Track theta\"])\n",
    "#plots.append(['reco_nu_vtx_sce_z',20,(0,1100),\"z\"])\n",
    "#plots.append(['reco_e_rqe',20,(0,2),\"rqe\"])\n",
    "#plots.append(['shrmoliererms',20,(0,5000),\"RMS Moliere angle [degrees]\"])\n",
    "#plots.append(['shr_energy_tot_cali',20,(0,1),\"shr energy (calibrated) [GeV]\"])\n",
    "#plots.append(['contained_fraction',20,(0.,1),\"contained fraction\"])\n",
    "#plots.append(['hits_y',20,(0.,1000),\"N hits Y plane\"])\n",
    "#plots.append(['pi0_mass_Y',25,(-50.,200),\"pi0 mass [Mev]\"])\n",
    "#plots.append(['pi0_gammadot',20,(-1,1),\"2-shower angle\"])\n",
    "\n",
    "\n",
    "    \n",
    "for VARIABLE, BINS, RANGE, XTIT in plots:\n",
    "    print(VARIABLE, BINS, RANGE, XTIT)\n",
    "    fig, ax1, ax2 = my_plotter.plot_variable(\n",
    "        VARIABLE,   \n",
    "        query=QUERY,\n",
    "        kind=\"event_category\",\n",
    "        #kind=\"interaction\",\n",
    "        #kind=\"sample\",\n",
    "        draw_sys=False,\n",
    "        stacksort=3,\n",
    "        title=XTIT,\n",
    "        bins=BINS,\n",
    "        range=RANGE,\n",
    "    )[0:3]\n",
    "    #ax1.set_ylim(0,ax1.get_ylim()[1]*1.4)\n",
    "    #ax1.set_yscale(\"log\")\n",
    "    #fig.show()\n",
    "    #ax1.set_title('NuMI Run 1 \\n1eNp Loose Box Cuts - No pi0 scaling',loc='left')\n",
    "    ax1.set_title('NuMI Run 1 \\n1e0p Loose Sel - Pi0 Scaling: [1-0.4 E_pi0]',loc='left')\n",
    "    fig.tight_layout()\n",
    "    #fig.savefig(\"/Users/elenag/Desktop/NuMI/NuMI4PeLEE/Sidebands/Figures/NuMI/1eNp/\"+VARIABLE+\".pdf\")\n",
    "    print('%s %.4f ' % (VARIABLE, my_plotter.stats['pvaluestatonly']))\n",
    "    fig.savefig(\"/Users/elenag/Desktop/NuMI/NuMI4PeLEE/AntiNueXS/Run3/\"+VARIABLE+\"_PreSel.pdf\")\n",
    "    #fig.savefig(ls.plots_path+\"\"+VARIABLE+\"_highscore.pdf\")\n",
    "    #break"
   ]
  },
  {
   "cell_type": "code",
   "execution_count": null,
   "metadata": {},
   "outputs": [],
   "source": [
    "QUERY =  ZPBDT\n",
    "\n",
    "f = nue.query(\"nslice == 1 and nu_pdg  == 12\")[[\"nu_e\",\"nu_pdg\",\"weightSplineTimesTuneTimesPPFX\",\"weightSplineTimesPPFX\",\"interaction\"]]\n",
    "f.to_csv(\"mc_run1_NuMI_Check.csv\")\n",
    "\n",
    "f = nue.query(\"nslice == 1 and nu_pdg  == -12\")[[\"nu_e\",\"nu_pdg\",\"weightSplineTimesTuneTimesPPFX\",\"weightSplineTimesPPFX\",\"interaction\"]]\n",
    "f.to_csv(\"mc_run1_NuMIBar_Check.csv\")\n",
    "\n",
    "f = nue.query(QUERY+\" and nu_pdg  == 12\")[[\"nu_e\",\"nu_pdg\",\"weightSplineTimesTuneTimesPPFX\",\"weightSplineTimesPPFX\",\"interaction\"]]\n",
    "f.to_csv(\"mc_Sel_run1_1e0p_NuMI.csv\")\n",
    "\n",
    "f = nue.query(QUERY+\" and nu_pdg  == -12\")[[\"nu_e\",\"nu_pdg\",\"weightSplineTimesTuneTimesPPFX\",\"weightSplineTimesPPFX\",\"interaction\"]]\n",
    "f.to_csv(\"mc_Sel_run1_1e0p_NuMIBar.csv\")"
   ]
  },
  {
   "cell_type": "code",
   "execution_count": null,
   "metadata": {},
   "outputs": [],
   "source": [
    "#QUERY += 'and reco_e < 0.15'\n",
    "QUERY = ZPBDT #ZPLOOSESEL\n",
    "plots = [] \n",
    "plots.append(['shr_theta',10,(0,3.0),\"Shower theta\"])\n",
    "plots.append(['reco_e', 15, (0.15,3.15), r\"Reconstructed Energy [GeV]\"])\n",
    "plots.append(['pt',10,(0,2.),\"Pt [GeV]\"])\n",
    "plots.append(['shr_phi',6,(-3.15,3.15),\"Shower phi\"])\n",
    "plots.append(['shr_energy_tot_cali',15,(0.15,3.15),\"shr energy (calibrated) [GeV]\"])\n",
    "\n",
    "for VARIABLE, BINS, RANGE, XTIT in plots:\n",
    "    print(VARIABLE, BINS, RANGE, XTIT)\n",
    "    fig, ax1, ax2 = my_plotter.plot_variable(\n",
    "        VARIABLE,   \n",
    "        query=QUERY,\n",
    "        kind=\"event_category\",\n",
    "        #kind=\"interaction\",\n",
    "        #kind=\"sample\",\n",
    "        draw_sys=True,\n",
    "        draw_geoSys = True, \n",
    "        genieweight = \"weightSplineTimesTuneTimesPPFX\", #\"weightSplineTimesTuneTimesPPFX\", \n",
    "        stacksort=3,\n",
    "        title=XTIT,\n",
    "        bins=BINS,\n",
    "        range=RANGE,\n",
    "    )[0:3]\n",
    "    #ax1.set_ylim(0,ax1.get_ylim()[1]*1.4)\n",
    "    #ax1.set_yscale(\"log\")\n",
    "    #fig.show()\n",
    "    #ax1.set_title('NuMI Run 1 \\n1eNp Loose Box Cuts - No pi0 scaling',loc='left')\n",
    "    ax1.set_title('NuMI Run 1, 1e0p Final Sel -- Updated GENIE tune \\nHP, Beamline Geo, GENIE, G4Reint Systematics',loc='left')\n",
    "    fig.tight_layout()\n",
    "    #fig.savefig(\"/Users/elenag/Desktop/NuMI/NuMI4PeLEE/Sidebands/Figures/NuMI/1eNp/\"+VARIABLE+\".pdf\")\n",
    "    print('%s %.4f ' % (VARIABLE, my_plotter.stats['pvaluestatonly']))\n",
    "    fig.savefig(\"/Users/elenag/Desktop/NuMI/NuMI4PeLEE/Sidebands/Figures/NuMI/1e0p/PartialSys/BDTSel/\"+VARIABLE+\"_finalSel.pdf\")\n",
    "    #fig.savefig(ls.plots_path+\"\"+VARIABLE+\"_highscore.pdf\")\n",
    "    #break\n",
    "    \n",
    "\n"
   ]
  },
  {
   "cell_type": "code",
   "execution_count": null,
   "metadata": {},
   "outputs": [],
   "source": [
    "#QUERY += 'and reco_e < 0.15'\n",
    "QUERY = ZPLOOSESEL #ZPLOOSESEL\n",
    "plots = [] \n",
    "plots.append(['shr_tkfit_gap10_dedx_Y',10,(0.5,10.5),\"shr tkfit dE/dx (Y, 1-5 cm) [MeV/cm]\"])\n",
    "'''\n",
    "plots.append(['trk_energy_tot',40,(0,0.01),\"tracks energy [GeV]\"])\n",
    "plots.append(['shr_tkfit_2cm_dedx_Y',10,(0.5,10.5),\"shr tkfit dE/dx (Y, 0-2 cm) [MeV/cm]\"])\n",
    "plots.append(['shr_tkfit_2cm_dedx_U',10,(0.5,10.5),\"shr tkfit dE/dx (U, 0-2 cm) [MeV/cm]\"])\n",
    "plots.append(['shr_tkfit_2cm_dedx_V',10,(0.5,10.5),\"shr tkfit dE/dx (V, 0-2 cm) [MeV/cm]\"])\n",
    "\n",
    "plots.append(['shr_tkfit_gap10_dedx_U',10,(0.5,10.5),\"shr tkfit dE/dx (U, 1-5 cm) [MeV/cm]\"])\n",
    "plots.append(['shr_tkfit_gap10_dedx_V',10,(0.5,10.5),\"shr tkfit dE/dx (V, 1-5 cm) [MeV/cm]\"])\n",
    "plots.append(['shr_score',20,(0,0.5),\"shr score\"])\n",
    "plots.append(['trkfit',10,(0,1),\"Fraction of Track-fitted points\"])\n",
    "plots.append(['subcluster',15,(0,60),\"N sub-clusters in shower\"])\n",
    "plots.append(['shrmoliereavg',10,(0,25),\"average Moliere angle [degrees]\"])\n",
    "plots.append(['CosmicIPAll3D',10,(0,200),\"CosmicIPAll3D [cm]\"])\n",
    "plots.append(['CosmicDirAll3D',10,(-1,1),\"cos(CosmicDirAll3D)\"])\n",
    "plots.append(['anglediff_Y',10,(0,360),\"angle diff 1st-2nd shower (Y) [degrees]\"])\n",
    "plots.append(['anglediff_V',10,(0,360),\"angle diff 1st-2nd shower (V) [degrees]\"])\n",
    "plots.append(['anglediff_U',10,(0,360),\"angle diff 1st-2nd shower (U) [degrees]\"])\n",
    "plots.append(['secondshower_Y_nhit',25,(0,500),\"Nhit 2nd shower (Y)\"])\n",
    "plots.append(['secondshower_V_nhit',25,(0,500),\"Nhit 2nd shower (V)\"])\n",
    "plots.append(['secondshower_U_nhit',25,(0,500),\"Nhit 2nd shower (U)\"])\n",
    "plots.append(['secondshower_Y_dot',20,(-1,1),\"cos(2nd shower direction wrt vtx) (Y)\"])\n",
    "plots.append(['secondshower_V_dot',20,(-1,1),\"cos(2nd shower direction wrt vtx) (V)\"])\n",
    "plots.append(['secondshower_U_dot',20,(-1,1),\"cos(2nd shower direction wrt vtx) (U)\"])\n",
    "plots.append(['secondshower_Y_vtxdist',20,(0.,1000),\"vtx dist 2nd shower (Y)\"])\n",
    "plots.append(['secondshower_V_vtxdist',20,(0.,1000),\"vtx dist 2nd shower (V)\"])\n",
    "plots.append(['secondshower_U_vtxdist',20,(0.,1000),\"vtx dist 2nd shower (U)\"])\n",
    "plots.append(['CylFrac2h_1cm',10,(0,1.),\"CylFrac2h 1cm\"])\n",
    "plots.append(['shrPCA1CMed_5cm',20,(0.5,1),\"shrPCA1CMed 5cm\"])\n",
    "plots.append(['DeltaRMS2h',20,(0,20),\"DeltaRMS2h 1cm\"])\n",
    "plots.append(['shrMCSMom',20,(0,1000),\"shrMCSMom 1cm\"])\n",
    "'''\n",
    "if USEBDT:\n",
    "    plots.append(['bkg_score',10,(0,1.0),\"BDT response\"])\n",
    "    \n",
    "    \n",
    "for VARIABLE, BINS, RANGE, XTIT in plots:\n",
    "    print(VARIABLE, BINS, RANGE, XTIT)\n",
    "    fig, ax1, ax2 = my_plotter.plot_variable(\n",
    "        VARIABLE,   \n",
    "        query=QUERY,\n",
    "        kind=\"event_category\",\n",
    "        #kind=\"interaction\",\n",
    "        #kind=\"sample\",\n",
    "        draw_sys=True,\n",
    "        draw_geoSys = True, \n",
    "        genieweight = \"weightSplineTimesTuneTimesPPFX\", #\"weightSplineTimesTuneTimesPPFX\", \n",
    "        stacksort=3,\n",
    "        title=XTIT,\n",
    "        bins=BINS,\n",
    "        range=RANGE,\n",
    "    )[0:3]\n",
    "    #ax1.set_ylim(0,ax1.get_ylim()[1]*1.4)\n",
    "    #ax1.set_yscale(\"log\")\n",
    "    #fig.show()\n",
    "    #ax1.set_title('NuMI Run 1 \\n1eNp Loose Box Cuts - No pi0 scaling',loc='left')\n",
    "    ax1.set_title('NuMI Run 1, 1e0p Final Sel -- Updated GENIE tune \\nHP, Beamline Geo, GENIE, G4Reint Systematics',loc='left')\n",
    "    fig.tight_layout()\n",
    "    #fig.savefig(\"/Users/elenag/Desktop/NuMI/NuMI4PeLEE/Sidebands/Figures/NuMI/1eNp/\"+VARIABLE+\".pdf\")\n",
    "    print('%s %.4f ' % (VARIABLE, my_plotter.stats['pvaluestatonly']))\n",
    "    fig.savefig(\"/Users/elenag/Desktop/NuMI/NuMI4PeLEE/Sidebands/Figures/NuMI/1e0p/puppa/\"+VARIABLE+\".pdf\")\n",
    "    #fig.savefig(ls.plots_path+\"\"+VARIABLE+\"_highscore.pdf\")\n",
    "    #break\n",
    "    "
   ]
  },
  {
   "cell_type": "code",
   "execution_count": null,
   "metadata": {},
   "outputs": [],
   "source": [
    "print('%s %.4f ' % (VARIABLE, my_plotter.stats['pvaluestatonly']))"
   ]
  },
  {
   "cell_type": "code",
   "execution_count": null,
   "metadata": {
    "scrolled": false
   },
   "outputs": [],
   "source": [
    "#QUERY += 'and reco_e < 0.15'\n",
    "QUERY = ZPBDT #ZPLOOSESEL\n",
    "plots = [] \n",
    "plots.append(['shr_theta',10,(0,3.0),\"Shower theta\"])\n",
    "plots.append(['pt',10,(0,2.),\"Pt [GeV]\"])\n",
    "plots.append(['shr_phi',10,(-3,3),\"Shower phi\"])\n",
    "plots.append(['shr_energy_tot_cali',40,(0,2.),\"shr energy (calibrated) [GeV]\"])\n",
    "\n",
    "\n",
    "\n",
    "\n",
    "plots.append(['reco_e', 20, (0.05,2.05), 'Reconstructed Energy [GeV]'])\n",
    "plots.append(['reco_nu_vtx_sce_x',10,(0,260),\"vtx x [cm]\"])\n",
    "plots.append(['reco_nu_vtx_sce_y',10,(-120,120),\"vtx y [cm]\"])\n",
    "plots.append(['reco_nu_vtx_sce_z',10,(0,1030),\"vtx z [cm]\"])\n",
    "\n",
    "\n",
    "plots.append(['trk_energy_tot',40,(0,0.01),\"tracks energy [GeV]\"])\n",
    "plots.append(['shr_tkfit_2cm_dedx_Y',40,(0,20),\"shr tkfit dE/dx (Y, 0-2 cm) [MeV/cm]\"])\n",
    "plots.append(['shr_tkfit_2cm_dedx_U',40,(0,20),\"shr tkfit dE/dx (U, 0-2 cm) [MeV/cm]\"])\n",
    "plots.append(['shr_tkfit_2cm_dedx_V',40,(0,20),\"shr tkfit dE/dx (V, 0-2 cm) [MeV/cm]\"])\n",
    "plots.append(['shr_tkfit_gap10_dedx_Y',40,(0,20),\"shr tkfit dE/dx (Y, 1-5 cm) [MeV/cm]\"])\n",
    "plots.append(['shr_tkfit_gap10_dedx_U',40,(0,20),\"shr tkfit dE/dx (U, 1-5 cm) [MeV/cm]\"])\n",
    "plots.append(['shr_tkfit_gap10_dedx_V',40,(0,20),\"shr tkfit dE/dx (V, 1-5 cm) [MeV/cm]\"])\n",
    "plots.append(['shr_score',20,(0,0.5),\"shr score\"])\n",
    "plots.append(['trkfit',10,(0,1),\"Fraction of Track-fitted points\"])\n",
    "plots.append(['subcluster',15,(0,60),\"N sub-clusters in shower\"])\n",
    "plots.append(['shrmoliereavg',10,(0,25),\"average Moliere angle [degrees]\"])\n",
    "plots.append(['CosmicIPAll3D',10,(0,200),\"CosmicIPAll3D [cm]\"])\n",
    "plots.append(['CosmicDirAll3D',10,(-1,1),\"cos(CosmicDirAll3D)\"])\n",
    "plots.append(['anglediff_Y',10,(0,360),\"angle diff 1st-2nd shower (Y) [degrees]\"])\n",
    "plots.append(['anglediff_V',10,(0,360),\"angle diff 1st-2nd shower (V) [degrees]\"])\n",
    "plots.append(['anglediff_U',10,(0,360),\"angle diff 1st-2nd shower (U) [degrees]\"])\n",
    "plots.append(['secondshower_Y_nhit',25,(0,500),\"Nhit 2nd shower (Y)\"])\n",
    "plots.append(['secondshower_V_nhit',25,(0,500),\"Nhit 2nd shower (V)\"])\n",
    "plots.append(['secondshower_U_nhit',25,(0,500),\"Nhit 2nd shower (U)\"])\n",
    "plots.append(['secondshower_Y_dot',20,(-1,1),\"cos(2nd shower direction wrt vtx) (Y)\"])\n",
    "plots.append(['secondshower_V_dot',20,(-1,1),\"cos(2nd shower direction wrt vtx) (V)\"])\n",
    "plots.append(['secondshower_U_dot',20,(-1,1),\"cos(2nd shower direction wrt vtx) (U)\"])\n",
    "plots.append(['secondshower_Y_vtxdist',20,(0.,1000),\"vtx dist 2nd shower (Y)\"])\n",
    "plots.append(['secondshower_V_vtxdist',20,(0.,1000),\"vtx dist 2nd shower (V)\"])\n",
    "plots.append(['secondshower_U_vtxdist',20,(0.,1000),\"vtx dist 2nd shower (U)\"])\n",
    "plots.append(['CylFrac2h_1cm',10,(0,1.),\"CylFrac2h 1cm\"])\n",
    "plots.append(['shrPCA1CMed_5cm',20,(0.5,1),\"shrPCA1CMed 5cm\"])\n",
    "plots.append(['DeltaRMS2h',20,(0,20),\"DeltaRMS2h 1cm\"])\n",
    "plots.append(['shrMCSMom',20,(0,1000),\"shrMCSMom 1cm\"])\n",
    "if USEBDT:\n",
    "    plots.append(['bkg_score',10,(0,1.0),\"BDT response\"])\n",
    "\n",
    "\n",
    "\n",
    "\n",
    "#plots.append(['tksh_distance',5,(0,5),\"tksh distance [cm]\"])\n",
    "#plots.append(['tksh_angle',10,(-1,1),\"cos(tksh angle)\"])\n",
    "#plots.append(['shr_tkfit_dedx_max',15,(0,10),\"shr tkfit dE/dx (best-plane, 0-4 cm) [MeV/cm]\"])\n",
    "#plots.append(['trkpid',10,(-1,1),\"track LLR PID\"])\n",
    "#plots.append(['hits_ratio',20,(0,1),\"shower hits/all hits\"])\n",
    "#plots.append(['trkshrhitdist2',16,(-1,15),\"2D trk-shr distance (Y)\"])\n",
    "#plots.append(['reco_nu_vtx_sce_y',15,(-150,150),\"reco nu vtx y [cm]\"])\n",
    "             \n",
    "#plots.append(['shr_tkfit_dedx_avg',20,(0,10),\"shr tkfit dE/dx (avg, 0-4 cm) [MeV/cm]\"])\n",
    "#plots.append(['shr_tkfit_nhits_tot',20,(0,20),\"shr tkfit nhits (tot, 0-4 cm) [MeV/cm]\"])\n",
    "#plots.append(['shr_tkfit_2cm_dedx_avg',20,(0,10),\"shr tkfit dE/dx (avg, 0-2 cm) [MeV/cm]\"])\n",
    "#plots.append(['shr_tkfit_2cm_nhits_tot',20,(0,20),\"shr tkfit nhits (tot, 0-2 cm) [MeV/cm]\"])\n",
    "#plots.append(['shr_tkfit_gap10_dedx_avg',20,(0,10),\"shr tkfit dE/dx (avg, 1-5 cm) [MeV/cm]\"])\n",
    "#plots.append(['shr_tkfit_gap10_nhits_tot',20,(0,20),\"shr tkfit nhits (tot, 1-5 cm) [MeV/cm]\"])\n",
    "#plots.append(['shr_tkfit_nhits_tot',20,(0,20),\"shr tkfit nhits (tot, 0-4 cm) [MeV/cm]\"])\n",
    "#plots.append(['shr_tkfit_dedx_max',20,(0,10),\"shr tkfit dE/dx (best-plane, 0-4 cm) [MeV/cm]\"])\n",
    "#plots.append(['n_showers_contained',10,(0,10),\"n showers contained\"])\n",
    "#plots.append(['n_tracks_contained',5,(0,5),\"n tracks contained\"])\n",
    "#plots.append(['protonenergy',10,(0.,0.5),\"Proton Kinetic Energy [GeV]\"])\n",
    "#plots.append(['trk_theta',10,(0,3.0),\"Track theta\"])\n",
    "#plots.append(['reco_nu_vtx_sce_z',20,(0,1100),\"z\"])\n",
    "#plots.append(['reco_e_rqe',20,(0,2),\"rqe\"])\n",
    "#plots.append(['shrmoliererms',20,(0,5000),\"RMS Moliere angle [degrees]\"])\n",
    "#plots.append(['shr_energy_tot_cali',20,(0,1),\"shr energy (calibrated) [GeV]\"])\n",
    "#plots.append(['contained_fraction',20,(0.,1),\"contained fraction\"])\n",
    "#plots.append(['hits_y',20,(0.,1000),\"N hits Y plane\"])\n",
    "#plots.append(['pi0_mass_Y',25,(-50.,200),\"pi0 mass [Mev]\"])\n",
    "#plots.append(['pi0_gammadot',20,(-1,1),\"2-shower angle\"])\n",
    "\n",
    "\n",
    "    \n",
    "for VARIABLE, BINS, RANGE, XTIT in plots:\n",
    "    print(VARIABLE, BINS, RANGE, XTIT)\n",
    "    fig, ax1, ax2 = my_plotter.plot_variable(\n",
    "        VARIABLE,   \n",
    "        query=QUERY,\n",
    "        kind=\"event_category\",\n",
    "        #kind=\"interaction\",\n",
    "        #kind=\"sample\",\n",
    "        draw_sys=False,\n",
    "        stacksort=3,\n",
    "        title=XTIT,\n",
    "        bins=BINS,\n",
    "        range=RANGE,\n",
    "    )[0:3]\n",
    "    #ax1.set_ylim(0,ax1.get_ylim()[1]*1.4)\n",
    "    #ax1.set_yscale(\"log\")\n",
    "    #fig.show()\n",
    "    #ax1.set_title('NuMI Run 1 \\n1eNp Loose Box Cuts - No pi0 scaling',loc='left')\n",
    "    ax1.set_title('NuMI Run 1 \\n1e0p Loose Sel - Pi0 Scaling: [1-0.4 E_pi0]',loc='left')\n",
    "    fig.tight_layout()\n",
    "    #fig.savefig(\"/Users/elenag/Desktop/NuMI/NuMI4PeLEE/Sidebands/Figures/NuMI/1eNp/\"+VARIABLE+\".pdf\")\n",
    "    print('%s %.4f ' % (VARIABLE, my_plotter.stats['pvaluestatonly']))\n",
    "    fig.savefig(\"/Users/elenag/Desktop/NuMI/NuMI4PeLEE/Sidebands/Figures/NuMI/1e0p/\"+VARIABLE+\"_finalSel.pdf\")\n",
    "    #fig.savefig(ls.plots_path+\"\"+VARIABLE+\"_highscore.pdf\")\n",
    "    #break"
   ]
  },
  {
   "cell_type": "code",
   "execution_count": null,
   "metadata": {},
   "outputs": [],
   "source": [
    "QUERY2 = QUERY + \" and shr_tkfit_2cm_dedx_U < 0.\"\n",
    "f = data.query(QUERY2)[[\"run\",\"sub\",\"shr_tkfit_2cm_dedx_U\"]]#.to_string(index=False)\n",
    "print(f.sort_values(\"run\").to_string(),f.shape[0])\n",
    "QUERY2 = QUERY + \" and shr_tkfit_2cm_dedx_V < 0.\"\n",
    "f = data.query(QUERY2)[[\"run\",\"sub\",\"shr_tkfit_2cm_dedx_V\"]]#.to_string(index=False)\n",
    "print(f.sort_values(\"run\").to_string(),f.shape[0])\n",
    "QUERY2 = QUERY + \" and shr_tkfit_2cm_dedx_Y < 0.\"\n",
    "f = data.query(QUERY2)[[\"run\",\"sub\",\"shr_tkfit_2cm_dedx_Y\"]]#.to_string(index=False)\n",
    "print(f.sort_values(\"run\").to_string(),f.shape[0])\n",
    "\n",
    "QUERY2 = QUERY + \" and shr_tkfit_gap10_dedx_U < 0.\"\n",
    "f = data.query(QUERY2)[[\"run\",\"sub\",\"shr_tkfit_gap10_dedx_U\"]]#.to_string(index=False)\n",
    "print(f.sort_values(\"run\").to_string(),f.shape[0])\n",
    "QUERY2 = QUERY + \" and shr_tkfit_gap10_dedx_V < 0.\"\n",
    "f = data.query(QUERY2)[[\"run\",\"sub\",\"shr_tkfit_gap10_dedx_V\"]]#.to_string(index=False)\n",
    "print(f.sort_values(\"run\").to_string(),f.shape[0])\n",
    "QUERY2 = QUERY + \" and shr_tkfit_gap10_dedx_Y < 0.\"\n",
    "f = data.query(QUERY2)[[\"run\",\"sub\",\"shr_tkfit_gap10_dedx_Y\"]]#.to_string(index=False)\n",
    "print(f.sort_values(\"run\").to_string(),f.shape[0])\n",
    "\n",
    "\n",
    "#query4SamWeb = f.apply(lambda x: str(x['run'])+'.'+str(x['sub'])+',', axis=1).sum()\n",
    "#print(\"defname: numi_uboone_run1_beamon_offset1_mcc9_reco2_v08_00_00_28_v0 and run_number \"+query4SamWeb)\n",
    "\n",
    "#f = data.query(QUERY2)[[\"run\",\"sub\",\"evt\",\"shr_tkfit_gap10_dedx_V\"]]\n"
   ]
  },
  {
   "cell_type": "code",
   "execution_count": null,
   "metadata": {},
   "outputs": [],
   "source": [
    "QUERY2 = QUERY + \" and reco_e >= 0.15\"\n",
    "f     = data.query(QUERY2)[[\"shr_tkfit_2cm_dedx_U\",\"shr_tkfit_2cm_dedx_V\",\"shr_tkfit_2cm_dedx_Y\",\"shr_tkfit_gap10_dedx_U\",\"shr_tkfit_gap10_dedx_V\",\"shr_tkfit_gap10_dedx_Y\"]]#.to_string(index=False)\n",
    "puppa = (f<0).sum(axis=1) > 0\n",
    "print ((f<0).sum(axis=1) > 0, puppa.shape[0] )\n",
    "print (puppa.sum(axis=0))\n",
    "#print(f.to_string(),f.shape[0],puppa.shape[0])"
   ]
  },
  {
   "cell_type": "code",
   "execution_count": null,
   "metadata": {},
   "outputs": [],
   "source": [
    "QUERY2 = QUERY\n",
    "f = data.query(QUERY2)[[\"run\",\"sub\",\"evt\"]]#.to_string(index=False)\n",
    "print(f.sort_values(\"run\").to_string(),f.shape[0])\n",
    "\n",
    "#query4SamWeb = f.apply(lambda x: str(x['run'])+'.'+str(x['sub'])+',', axis=1).sum()\n",
    "#print(\"defname: numi_uboone_run1_beamon_offset1_mcc9_reco2_v08_00_00_28_beam_good and run_number \"+query4SamWeb)\n"
   ]
  },
  {
   "cell_type": "code",
   "execution_count": null,
   "metadata": {},
   "outputs": [],
   "source": [
    "print(ZPLOOSESEL)"
   ]
  },
  {
   "cell_type": "code",
   "execution_count": null,
   "metadata": {},
   "outputs": [],
   "source": []
  }
 ],
 "metadata": {
  "accelerator": "GPU",
  "colab": {
   "name": "Plotter.ipynb",
   "provenance": [],
   "version": "0.3.2"
  },
  "kernelspec": {
   "display_name": "Python 3",
   "language": "python",
   "name": "python3"
  },
  "language_info": {
   "codemirror_mode": {
    "name": "ipython",
    "version": 3
   },
   "file_extension": ".py",
   "mimetype": "text/x-python",
   "name": "python",
   "nbconvert_exporter": "python",
   "pygments_lexer": "ipython3",
   "version": "3.7.6"
  }
 },
 "nbformat": 4,
 "nbformat_minor": 2
}
