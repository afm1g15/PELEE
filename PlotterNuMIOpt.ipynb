{
 "cells": [
  {
   "cell_type": "code",
   "execution_count": 1,
   "metadata": {},
   "outputs": [
    {
     "name": "stdout",
     "output_type": "stream",
     "text": [
      "/Users/elenag/Desktop/PlotterLEE/PELEE/\n"
     ]
    }
   ],
   "source": [
    "import sys\n",
    "import localSettings as ls\n",
    "print(ls.main_path)"
   ]
  },
  {
   "cell_type": "code",
   "execution_count": 2,
   "metadata": {
    "colab": {
     "base_uri": "https://localhost:8080/",
     "height": 34
    },
    "colab_type": "code",
    "executionInfo": {
     "elapsed": 517,
     "status": "ok",
     "timestamp": 1560556807118,
     "user": {
      "displayName": "Stefano Roberto Soleti",
      "photoUrl": "https://lh4.googleusercontent.com/-hfLpspJu4Q0/AAAAAAAAAAI/AAAAAAAABmA/2kE4rtj8paU/s64/photo.jpg",
      "userId": "10372352518008961760"
     },
     "user_tz": 240
    },
    "id": "6qsD0G-yYJ9K",
    "outputId": "5d52a3ec-50be-44fc-da44-3c0593e98bc6"
   },
   "outputs": [],
   "source": [
    "main_path = ls.main_path\n",
    "sys.path.append(main_path)"
   ]
  },
  {
   "cell_type": "code",
   "execution_count": 3,
   "metadata": {},
   "outputs": [
    {
     "name": "stdout",
     "output_type": "stream",
     "text": [
      "date and time: 07212020\n"
     ]
    }
   ],
   "source": [
    "from datetime import datetime\n",
    "now = datetime.now()\n",
    "date_time = now.strftime(\"%m%d%Y\")\n",
    "print(\"date and time:\",date_time)"
   ]
  },
  {
   "cell_type": "code",
   "execution_count": 4,
   "metadata": {
    "colab": {},
    "colab_type": "code",
    "id": "xGqTJ5JgaDsx"
   },
   "outputs": [],
   "source": [
    "import plotterPOT\n",
    "import importlib\n",
    "importlib.reload(plotterPOT)\n",
    "import uproot\n",
    "import matplotlib.pylab as pylab\n",
    "import numpy as np\n",
    "import math\n",
    "from sklearn.model_selection import train_test_split\n",
    "import pickle\n",
    "import xgboost as xgb\n",
    "import nue_booster \n",
    "importlib.reload(nue_booster)\n",
    "import awkward\n",
    "\n",
    "params = {\n",
    "    'axes.labelsize': 'x-large',\n",
    "    'axes.titlesize': 'x-large',\n",
    "    'xtick.labelsize': 'x-large',\n",
    "    'ytick.labelsize': 'x-large'\n",
    "}\n",
    "pylab.rcParams.update(params)"
   ]
  },
  {
   "cell_type": "code",
   "execution_count": 5,
   "metadata": {
    "colab": {},
    "colab_type": "code",
    "id": "iwoCIaigYJ9N"
   },
   "outputs": [
    {
     "name": "stdout",
     "output_type": "stream",
     "text": [
      "/Users/elenag/Desktop/PlotterLEE/root_files/neutrinoselection_filt_run1_dirt_overlay.root\n",
      "['flash_pe', 'reco_nu_vtx_sce_z', 'trk_sce_start_z_v', 'selected', 'nslice', 'ccnc', 'best_cosmic_flashmatch_score', 'shr_dedx_Y', 'best_obviouscosmic_flashmatch_score', 'CosmicIP', 'topological_score', 'trk_sce_end_x_v', 'slnhits', 'p', 'true_nu_vtx_y', 'shr_bkt_pdg', 'backtracked_pdg', 'trk_len_v', 'category', 'trk_score_v', 'nu_flashmatch_score', 'trk_sce_start_x_v', 'trk_sce_end_y_v', 'trk_len', 'trk_bkt_pdg', 'reco_nu_vtx_sce_x', 'trk_sce_start_y_v', 'pt', 'true_nu_vtx_z', 'nu_pdg', 'shr_theta', 'true_e_visible', 'flash_time', 'slnunhits', 'reco_nu_vtx_sce_y', 'trk_sce_end_z_v', 'true_nu_vtx_x', 'contained_fraction']\n"
     ]
    }
   ],
   "source": [
    "tree = \"NeutrinoSelectionFilter\"\n",
    "\n",
    "BNB = \"\"\n",
    "EXT = \"\"\n",
    "NU  = \"\"\n",
    "NUE = \"\"\n",
    "DRT = \"\"\n",
    "\n",
    "\n",
    "#BNB = 'neutrinoselection_filt_run1_NuMI_beamon' +ls.APPEND\n",
    "BNB = 'neutrinoselection_filt_run1_beamon_beamgood' +ls.APPEND\n",
    "EXT = 'neutrinoselection_filt_run1_beamoff'         +ls.APPEND\n",
    "NU  = 'neutrinoselection_filt_run1_overlay'         +ls.APPEND\n",
    "NUE = 'neutrinoselection_filt_run1_overlay'         +ls.APPEND\n",
    "DRT = 'neutrinoselection_filt_run1_dirt_overlay'    +ls.APPEND\n",
    "\n",
    "mc   = uproot.open(ls.ntuple_path+NU +\".root\")[ls.fold][tree]\n",
    "nue  = uproot.open(ls.ntuple_path+NUE+\".root\")[ls.fold][tree]\n",
    "data = uproot.open(ls.ntuple_path+BNB+\".root\")[ls.fold][tree]\n",
    "ext  = uproot.open(ls.ntuple_path+EXT+\".root\")[ls.fold][tree]\n",
    "dirt = uproot.open(ls.ntuple_path+DRT+\".root\")[ls.fold][tree]\n",
    "\n",
    "print (ls.ntuple_path+DRT+\".root\")\n",
    "uproot_v = [mc,nue,ext,data,dirt]\n",
    "\n",
    "variables = [ \"selected\", \"topological_score\",  \"shr_dedx_Y\",\n",
    "             \"contained_fraction\", \"nslice\",\"nu_pdg\",\"category\",\"ccnc\",\"slnunhits\",\"slnhits\",\n",
    "            \"backtracked_pdg\",\"shr_bkt_pdg\" ,\"trk_bkt_pdg\",\"flash_time\",\"flash_pe\",\"reco_nu_vtx_sce_x\",\"reco_nu_vtx_sce_y\",\"reco_nu_vtx_sce_z\",\"trk_len\",\n",
    "            'trk_len_v','trk_sce_start_x_v','trk_sce_start_y_v','trk_sce_start_z_v',\n",
    "             'trk_sce_end_x_v','trk_sce_end_y_v','trk_sce_end_z_v',\n",
    "             'trk_score_v', \"shr_bkt_pdg\", \"p\", \"pt\", \"selected\", \"nu_pdg\", \"shr_theta\",\n",
    "              \"nu_flashmatch_score\",\"best_cosmic_flashmatch_score\",\"best_obviouscosmic_flashmatch_score\",\"CosmicIP\",\"true_e_visible\",\n",
    "            \"true_nu_vtx_x\",\"true_nu_vtx_y\",\"true_nu_vtx_z\"]\n",
    "'''\n",
    "    \"slpdg\", \"trk_score_v\", \"backtracked_pdg\", # modified from shr_score_v\n",
    "    \"shr_pfp_id_v\", \n",
    "    \"shr_tkfit_dedx_U\",\"shr_tkfit_dedx_V\",\"shr_tkfit_dedx_Y\",\n",
    "    \"shr_tkfit_gap10_dedx_U\",\"shr_tkfit_gap10_dedx_V\",\"shr_tkfit_gap10_dedx_Y\",\n",
    "    \"shr_tkfit_2cm_dedx_U\",\"shr_tkfit_2cm_dedx_V\",\"shr_tkfit_2cm_dedx_Y\",\n",
    "    \"shr_energy_tot\", \n",
    "    \"trk_energy_tot\", \"shr_hits_tot\", \"ccnc\", \"trk_chipr\",\n",
    "    \"trk_bkt_pdg\", \"hits_ratio\", \"n_tracks_contained\", \n",
    "    #\"crtveto\",\"crthitpe\",\"_closestNuCosmicDist\",\n",
    "    \"NeutrinoEnergy2\",\n",
    "    \"run\",\"sub\",\"evt\",\n",
    "    \"CosmicIP\",\"CosmicDirAll3D\",\"CosmicIPAll3D\",\n",
    "    \"nu_flashmatch_score\",\"best_cosmic_flashmatch_score\",\"best_obviouscosmic_flashmatch_score\",\n",
    "    #\"trk_pfp_id\",\n",
    "    \"shrmoliereavg\",\"shrmoliererms\",\n",
    "    \"shr_tkfit_npointsvalid\",\"shr_tkfit_npoints\", # fitted vs. all hits for shower\n",
    "    \"shrclusfrac0\",\"shrclusfrac1\",\"shrclusfrac2\", # track-fitted hits / all hits\n",
    "    \"trkshrhitdist2\", # \"trkshrhitdist0\",\"trkshrhitdist1\", distance between track and shower in 2D\n",
    "    \"shrsubclusters0\",\"shrsubclusters1\",\"shrsubclusters2\", # number of sub-clusters in shower\n",
    "    \"trk_llr_pid_score_v\", # trk-PID score\n",
    "    \"trk_energy_proton_v\", # track energy under proton hyp\n",
    "    \"trk_calo_energy_y_v\", # track calo energy\n",
    "    \"pi0_energy2_Y\", # pi0 tagger variables\n",
    "    \"_opfilter_pe_beam\", \"_opfilter_pe_veto\", # did the event pass the common optical filter (for MC only)\n",
    "    \"reco_nu_vtx_sce_x\",\"reco_nu_vtx_sce_y\",\"reco_nu_vtx_sce_z\",\n",
    "    \"nproton\", \"nu_e\", \"n_showers_contained\", \"shr_distance\", \"trk_distance\",\n",
    "    \"hits_y\", \"shr_pz\", \"shr_energy\", \"shr_dedx_U\", \"shr_dedx_V\", \"shr_phi\", \"trk_phi\", \"trk_theta\",\n",
    "    \"shr_tkfit_dedx_U\", \"shr_tkfit_dedx_V\", \"run\", \"sub\", \"evt\", \"nproton\", \"trk_pid_chipr_v\",\n",
    "    \"trk_len\", \"mc_pdg\", \"slnunhits\", \"slnhits\", \"shr_score\", \"trk_score\", \"trk_hits_tot\",\n",
    "    \"true_e_visible\", \"matched_E\", \"shr_bkt_E\", \"trk_bkt_E\", \"trk_energy\", \"tksh_distance\", \"tksh_angle\",\n",
    "    #\"npi0\",\"npion\",\"pion_e\",\"muon_e\",\"pi0truth_elec_etot\",\n",
    "    #\"anglediff_Y\",\n",
    "    \"pi0_e\", \"shr_energy_tot_cali\", \"shr_dedx_Y_cali\", \"evnunhits\", \"nslice\", \"interaction\",\n",
    "    #\"slclustfrac\", \"reco_nu_vtx_x\", \"reco_nu_vtx_y\", \"reco_nu_vtx_z\",\"contained_fraction\",\n",
    "    \"secondshower_Y_nhit\",\"secondshower_Y_vtxdist\",\"secondshower_Y_dot\",\"secondshower_Y_dir\",\"shrclusdir2\",\n",
    "    \"shr_tkfit_nhits_Y\",\"shr_tkfit_nhits_U\",\"shr_tkfit_nhits_V\",\n",
    "    \"shr_tkfit_2cm_nhits_Y\",\"shr_tkfit_2cm_nhits_U\",\"shr_tkfit_2cm_nhits_V\",\n",
    "    \"shr_tkfit_gap10_nhits_Y\",\"shr_tkfit_gap10_nhits_U\",\"shr_tkfit_gap10_nhits_V\",\n",
    "    \"pfnhits\",\"pfnunhits\"]\n",
    "'''\n",
    "#make the list unique\n",
    "variables = list(set(variables))\n",
    "print(variables)\n",
    "\n",
    "    \n",
    "WEIGHTS = [\"weightSpline\",\"weightSplineTimesTune\"]#, \"weightTune\", weightsGenie\", \"weightsFlux\", \"weightsReint\"]\n",
    "WEIGHTSLEE = [\"weightSpline\", \"leeweight\", \"weightSplineTimesTune\"]#,\"weightTune\", weightsGenie\", \"weightsFlux\", \"weightsReint\"]\n",
    "MCFVARS = []#\"mcf_nu_e\",\"mcf_lep_e\",\"mcf_actvol\",\"mcf_nmm\",\"mcf_nmp\",\"mcf_nem\",\"mcf_nep\",\"mcf_np0\",\"mcf_npp\",\n",
    "           #\"mcf_npm\",\"mcf_mcshr_elec_etot\",\"mcf_pass_ccpi0\",\"mcf_pass_ncpi0\",\n",
    "           #\"mcf_pass_ccnopi\",\"mcf_pass_ncnopi\",\"mcf_pass_cccpi\",\"mcf_pass_nccpi\"]\n",
    "SYSTEMATICS = []#  ['weightsFlux','weightsGenie']\n",
    "\n",
    "nue  = nue.pandas.df(variables + WEIGHTS + SYSTEMATICS, flatten=False)\n",
    "mc   = mc.pandas.df(variables + WEIGHTS + MCFVARS + SYSTEMATICS, flatten=False)\n",
    "data = data.pandas.df(variables, flatten=False)\n",
    "ext  = ext.pandas.df(variables, flatten=False)\n",
    "dirt = dirt.pandas.df(variables + WEIGHTS + SYSTEMATICS, flatten=False)\n"
   ]
  },
  {
   "cell_type": "code",
   "execution_count": 6,
   "metadata": {},
   "outputs": [],
   "source": [
    "df_v = [mc,nue,dirt]\n",
    "for i,df in enumerate(df_v):\n",
    "    ##df['weightSplineTimesTune' ] = 1.\n",
    "    ##df.loc[ df['weightTune'] <= 0, 'weightTune' ] = 1.\n",
    "    ##df.loc[ df['weightTune'] == np.inf, 'weightTune' ] = 1.\n",
    "    ##df.loc[ df['weightTune'] > 100, 'weightTune' ] = 1.\n",
    "    ##df.loc[ np.isnan(df['weightTune']) == True, 'weightTune' ] = 1.\n",
    "    df.loc[ df['weightSplineTimesTune'] <= 0, 'weightSplineTimesTune' ] = 1.\n",
    "    df.loc[ df['weightSplineTimesTune'] == np.inf, 'weightSplineTimesTune' ] = 1.\n",
    "    df.loc[ df['weightSplineTimesTune'] > 100, 'weightSplineTimesTune' ] = 1.\n",
    "    df.loc[ np.isnan(df['weightSplineTimesTune']) == True, 'weightSplineTimesTune' ] = 1.\n",
    "#   # #df['weightSpline']  = df['weightSpline']  * df['weightTune']\n",
    "#    ##df.loc[ df['npi0'] > 0, 'weightSplineTimesTune' ] = df['weightSpline'] * df['weightTune'] * 0.7 #scale down pi0s"
   ]
  },
  {
   "cell_type": "code",
   "execution_count": null,
   "metadata": {},
   "outputs": [],
   "source": [
    "df_v = [mc,nue,ext,data,dirt]\n",
    "for i,df in enumerate(df_v):\n",
    "    print(df.shape)\n",
    "    df['trk_sce_max_y_v'] = df.apply(lambda x: np.array([x['trk_sce_start_y_v'],x['trk_sce_end_y_v']]).max(axis=0), axis=1)\n",
    "    df['trk_sce_min_y_v'] = df.apply(lambda x: np.array([x['trk_sce_start_y_v'],x['trk_sce_end_y_v']]).min(axis=0), axis=1)\n",
    "    df['trk_sce_max_x_v'] = df.apply(lambda x: np.array([x['trk_sce_start_x_v'],x['trk_sce_end_x_v']]).max(axis=0), axis=1)\n",
    "    df['trk_sce_min_x_v'] = df.apply(lambda x: np.array([x['trk_sce_start_x_v'],x['trk_sce_end_x_v']]).min(axis=0), axis=1)\n"
   ]
  },
  {
   "cell_type": "code",
   "execution_count": 7,
   "metadata": {},
   "outputs": [],
   "source": [
    "#reset timing\n",
    "df_v = [mc,nue,dirt]\n",
    "for i,df in enumerate(df_v):\n",
    "        df.loc[ :, 'flash_time' ] = df['flash_time' ] - 0.304\n",
    "\n",
    "df_v = [ext]\n",
    "for i,df in enumerate(df_v):\n",
    "        df.loc[ :, 'flash_time' ] = df['flash_time' ] - 0.359\n"
   ]
  },
  {
   "cell_type": "code",
   "execution_count": 79,
   "metadata": {},
   "outputs": [
    {
     "name": "stdout",
     "output_type": "stream",
     "text": [
      "{'mc': 0.04289452340491271, 'nue': 0.04289452340491271, 'ext': 0.5729113237946756, 'dirt': 0.02812836369008674}\n"
     ]
    }
   ],
   "source": [
    "nue = mc.query(\"(abs(nu_pdg) == 12 & ccnc == 0)\")\n",
    "samples = {\n",
    "    \"mc\": mc,\n",
    "    \"nue\": nue,\n",
    "    \"dirt\": dirt,\n",
    "    \"data\": data,\n",
    "    \"ext\": ext\n",
    "}\n",
    "\n",
    "scaling = 1\n",
    "pot = 8.885e+19 #9.789e+19 \n",
    "mcratio   = pot/2.07136e+21\n",
    "dirtratio = pot/1.42143e+21\n",
    "extratio  = 2347745.0/4015961.99\n",
    "SPLIT = 1.0\n",
    "scalingEXT = 0.98\n",
    "scalingDRT = 0.45\n",
    "weights = { #full sample mc = 0.38\n",
    "            \"mc\"  : mcratio  * SPLIT * scaling,   \n",
    "            \"nue\" : mcratio  * SPLIT * scaling,  \n",
    "            \"ext\" : extratio * SPLIT * scalingEXT,\n",
    "            \"dirt\": dirtratio* SPLIT * scalingDRT,\n",
    "}\n",
    "\n",
    "my_plotter = plotterPOT.plotterPOT(samples, weights, pot=pot)\n",
    "print(weights)"
   ]
  },
  {
   "cell_type": "code",
   "execution_count": 80,
   "metadata": {},
   "outputs": [
    {
     "data": {
      "text/plain": [
       "<module 'plotterPOT' from '/Users/elenag/Desktop/PlotterLEE/PELEE/plotterPOT.py'>"
      ]
     },
     "execution_count": 80,
     "metadata": {},
     "output_type": "execute_result"
    }
   ],
   "source": [
    "import plotterPOT\n",
    "import importlib\n",
    "importlib.reload(plotterPOT)"
   ]
  },
  {
   "cell_type": "code",
   "execution_count": 81,
   "metadata": {},
   "outputs": [
    {
     "data": {
      "text/plain": [
       "(0.95, 1.1)"
      ]
     },
     "execution_count": 81,
     "metadata": {},
     "output_type": "execute_result"
    },
    {
     "data": {
      "image/png": "[encoded data removed]",
      "text/plain": [
       "<Figure size 576x504 with 2 Axes>"
      ]
     },
     "metadata": {
      "needs_background": "light"
     },
     "output_type": "display_data"
    },
    {
     "data": {
      "image/png": "[encoded data removed]",
      "text/plain": [
       "<Figure size 576x504 with 2 Axes>"
      ]
     },
     "metadata": {
      "needs_background": "light"
     },
     "output_type": "display_data"
    },
    {
     "data": {
      "image/png": "[encoded data removed]",
      "text/plain": [
       "<Figure size 576x504 with 2 Axes>"
      ]
     },
     "metadata": {
      "needs_background": "light"
     },
     "output_type": "display_data"
    }
   ],
   "source": [
    "#QUERY = PRESQ\n",
    "#VARIABLE, BINS, RANGE, XTIT = 'n_tracks_contained',10,(-0.5,9.5),\"n tracks contained\"\n",
    "PRESQ1 = 'nslice == 0 and flash_time > 6 and flash_time < 16'# and reco_nu_vtx_sce_x < 5'# and flash_pe > 3800 and nu_flashmatch_score < 20'\n",
    "PRESQ2 = 'nslice == 1'# and flash_time > 6 and flash_time < 16'# and reco_nu_vtx_sce_x < 5'# and flash_pe > 3800 and nu_flashmatch_score < 20'\n",
    "PRESQ3 = 'nslice >= 0'# and flash_time > 6 and flash_time < 16'# and reco_nu_vtx_sce_x < 5'# and flash_pe > 3800 and nu_flashmatch_score < 20'\n",
    "#PRESQ += ' and selected == 1'flash_time\n",
    "#VARIABLE, BINS, RANGE, XTIT = 'flash_pe',100,(0.,10000),\"flash pe\"\n",
    "#VARIABLE, BINS, RANGE, XTIT = 'true_nu_vtx_z',60,(-300,1000),\"true nu vtx z [cm]\"\n",
    "\n",
    "#VARIABLE, BINS, RANGE, XTIT = 'flash_time',1,(6,16.),\"flash time [us]\"\n",
    "VARIABLE, BINS, RANGE, XTIT = 'topological_score',20,(0,1.),\"topological score\"\n",
    "\n",
    "fig, ax1, ax2 = my_plotter.plot_variable(\n",
    "    VARIABLE,   \n",
    "    query=PRESQ3,\n",
    "    #kind=\"event_category\",\n",
    "    #kind=\"interaction\",\n",
    "    kind=\"sample\",\n",
    "    #kind='particle_pdg',\n",
    "    draw_sys=False,\n",
    "    stacksort=3,\n",
    "    title=XTIT,\n",
    "    #bins=asymm_bins,\n",
    "    bins=BINS,\n",
    "    range=RANGE\n",
    ")[0:3]\n",
    "\n",
    "ax1.set_ylim(0,ax1.get_ylim()[1]*1.25)\n",
    "ax2.set_ylim(0.7,1.1)\n",
    "\n",
    "fig, ax1, ax2 = my_plotter.plot_variable(\n",
    "    VARIABLE,   \n",
    "    query=PRESQ2,\n",
    "    #kind=\"event_category\",\n",
    "    #kind=\"interaction\",\n",
    "    kind=\"sample\",\n",
    "    #kind='particle_pdg',\n",
    "    draw_sys=False,\n",
    "    stacksort=3,\n",
    "    title=XTIT,\n",
    "    #bins=asymm_bins,\n",
    "    bins=BINS,\n",
    "    range=RANGE\n",
    ")[0:3]\n",
    "\n",
    "ax1.set_ylim(0,ax1.get_ylim()[1]*1.25)\n",
    "ax2.set_ylim(0.7,1.1)\n",
    "\n",
    "fig, ax1, ax2 = my_plotter.plot_variable(\n",
    "    VARIABLE,   \n",
    "    query=PRESQ3,\n",
    "    #kind=\"event_category\",\n",
    "    #kind=\"interaction\",\n",
    "    kind=\"sample\",\n",
    "    #kind='particle_pdg',\n",
    "    draw_sys=False,\n",
    "    stacksort=3,\n",
    "    title=XTIT,\n",
    "    #bins=asymm_bins,\n",
    "    bins=BINS,\n",
    "    range=RANGE\n",
    ")[0:3]\n",
    "\n",
    "ax1.set_ylim(0,ax1.get_ylim()[1]*1.25)\n",
    "ax2.set_ylim(0.95,1.1)\n",
    "\n",
    "#fig.savefig(ls.plots_path+\"run1/presel/\"+VARIABLE+\"_\"+date_time+\".pdf\")"
   ]
  },
  {
   "cell_type": "code",
   "execution_count": null,
   "metadata": {},
   "outputs": [],
   "source": [
    "QUERY =  'nslice == 1 and flash_time > 6 and flash_time < 16 and reco_nu_vtx_sce_x < 5'\n",
    "\n",
    "plots = []\n",
    "plots.append(['nu_flashmatch_score',100,(0,200),\"nu flashmatch score\"])\n",
    "plots.append(['best_cosmic_flashmatch_score',100,(0,400),\"best cosmic flashmatch score\"])\n",
    "plots.append(['best_obviouscosmic_flashmatch_score',100,(0,400),\"best obvcosmic flashmatch score\"])\n",
    "plots.append(['flash_pe',100,(0,10000),\"flash pe\"])\n",
    "\n",
    "'''\n",
    "fig, ax1, ax2 = my_plotter.plot_2d(\"flash_pe\",\n",
    "                                   \"nu_flashmatch_score\", \n",
    "                                   query=QUERY, \n",
    "                                   kind=\"sample\",\n",
    "                                   bins_x = 100,\n",
    "                                   bins_y = 100,\n",
    "                                   range_x =(0,10000),\n",
    "                                   range_y =(0,400),)\n",
    "'''\n",
    "for VARIABLE, BINS, RANGE, XTIT in plots:\n",
    "    print(VARIABLE, BINS, RANGE, XTIT)\n",
    "    fig, ax1, ax2 = my_plotter.plot_variable(\n",
    "        VARIABLE,   \n",
    "        query=QUERY,\n",
    "        #kind=\"event_category\",\n",
    "        #kind=\"interaction\",\n",
    "        kind=\"sample\",\n",
    "        draw_sys=False,\n",
    "        stacksort=3,\n",
    "        title=XTIT,\n",
    "        bins=BINS,\n",
    "        range=RANGE,\n",
    "    )[0:3]\n",
    "    fig.show()\n",
    "#    fig.savefig(ls.plots_path+\"/run1/presel/\"+VARIABLE+date_time+\".pdf\")"
   ]
  },
  {
   "cell_type": "code",
   "execution_count": null,
   "metadata": {},
   "outputs": [],
   "source": [
    "# how to get the LLR-PID value for the \"track candidate\" (proton for nue selection, muon for numu)\n",
    "# can be done for any variable\n",
    "# code from Giuseppe!\n",
    "\n",
    "'''\n",
    "df_v = [mc,nue,ext,data,dirt]\n",
    "\n",
    "for i,df in enumerate(df_v):\n",
    "    up = uproot_v[i]\n",
    "    trk_llr_pid_v = up.array('trk_llr_pid_score_v')\n",
    "    trk_energy_proton_v = up.array('trk_energy_proton_v')\n",
    "    trk_calo_energy_y_v = up.array('trk_calo_energy_y_v')\n",
    "    trk_id = up.array('trk_id')-1 # I think we need this -1 to get the right result\n",
    "    trk_llr_pid_v_sel = awkward.fromiter([pidv[tid] if tid<len(pidv) else 9999. for pidv,tid in zip(trk_llr_pid_v,trk_id)])\n",
    "    trk_energy_proton_sel = awkward.fromiter([pidv[tid] if tid<len(pidv) else 9999. for pidv,tid in zip(trk_energy_proton_v,trk_id)])\n",
    "    trk_calo_energy_y_sel = awkward.fromiter([pidv[tid] if tid<len(pidv) else 9999. for pidv,tid in zip(trk_calo_energy_y_v,trk_id)])\n",
    "    df['trkpid'] = trk_llr_pid_v_sel\n",
    "    df['protonenergy'] = trk_energy_proton_sel\n",
    "    df['trackcaloenergy'] = trk_calo_energy_y_sel\n",
    "    df['subcluster'] = df['shrsubclusters0'] + df['shrsubclusters1'] + df['shrsubclusters2']\n",
    "    df['trkfit'] = df['shr_tkfit_npointsvalid'] / df['shr_tkfit_npoints']\n",
    "    #df['anglediff_Y'] = np.abs(df['secondshower_Y_dir']-df['shrclusdir2'])\n",
    "    #df['FMdiffOBV'] = df['nu_flashmatch_score']-df['best_obviouscosmic_flashmatch_score']\n",
    "    #df['FMdiff'] = df['nu_flashmatch_score']-df['best_cosmic_flashmatch_score']\n",
    "'''"
   ]
  },
  {
   "cell_type": "code",
   "execution_count": null,
   "metadata": {},
   "outputs": [],
   "source": [
    "df_v = [mc,nue,ext,data,dirt]\n",
    "\n",
    "for i,df in enumerate(df_v):\n",
    "    df['shr_tkfit_nhits_tot'] = (df['shr_tkfit_nhits_Y']+df['shr_tkfit_nhits_U']+df['shr_tkfit_nhits_V'])\n",
    "    df['shr_tkfit_dedx_avg'] = (df['shr_tkfit_nhits_Y']*df['shr_tkfit_dedx_Y'] + df['shr_tkfit_nhits_U']*df['shr_tkfit_dedx_U'] + df['shr_tkfit_nhits_V']*df['shr_tkfit_dedx_V'])/df['shr_tkfit_nhits_tot']\n",
    "    df['shr_tkfit_2cm_nhits_tot'] = (df['shr_tkfit_2cm_nhits_Y']+df['shr_tkfit_2cm_nhits_U']+df['shr_tkfit_2cm_nhits_V'])\n",
    "    df['shr_tkfit_2cm_dedx_avg'] = (df['shr_tkfit_2cm_nhits_Y']*df['shr_tkfit_2cm_dedx_Y'] + df['shr_tkfit_2cm_nhits_U']*df['shr_tkfit_2cm_dedx_U'] + df['shr_tkfit_2cm_nhits_V']*df['shr_tkfit_2cm_dedx_V'])/df['shr_tkfit_2cm_nhits_tot']\n",
    "    df['shr_tkfit_gap10_nhits_tot'] = (df['shr_tkfit_gap10_nhits_Y']+df['shr_tkfit_gap10_nhits_U']+df['shr_tkfit_gap10_nhits_V'])\n",
    "    df['shr_tkfit_gap10_dedx_avg'] = (df['shr_tkfit_gap10_nhits_Y']*df['shr_tkfit_gap10_dedx_Y'] + df['shr_tkfit_gap10_nhits_U']*df['shr_tkfit_gap10_dedx_U'] + df['shr_tkfit_gap10_nhits_V']*df['shr_tkfit_gap10_dedx_V'])/df['shr_tkfit_gap10_nhits_tot']\n",
    "    \n",
    "#df.loc[:,'shr_tkfit_2cm_dedx_max'] = df['shr_tkfit_2cm_dedx_Y']\n",
    "#df.loc[(df['shr_tkfit_2cm_nhits_U']>df['shr_tkfit_2cm_nhits_Y']),'shr_tkfit_2cm_dedx_max'] = df['shr_tkfit_2cm_dedx_U']\n",
    "#df.loc[(df['shr_tkfit_2cm_nhits_V']>df['shr_tkfit_2cm_nhits_Y']) & (df['shr_tkfit_2cm_nhits_V']>df['shr_tkfit_2cm_nhits_U']),'shr_tkfit_2cm_dedx_max'] = df['shr_tkfit_2cm_dedx_V']"
   ]
  },
  {
   "cell_type": "code",
   "execution_count": null,
   "metadata": {},
   "outputs": [],
   "source": [
    "df_v = [mc,nue,ext,data,dirt]\n",
    "for i,df in enumerate(df_v):\n",
    "    df['shr_tkfit_nhits_tot'] = (df['shr_tkfit_nhits_Y']+df['shr_tkfit_nhits_U']+df['shr_tkfit_nhits_V'])\n",
    "    df['shr_tkfit_dedx_avg'] = (df['shr_tkfit_nhits_Y']*df['shr_tkfit_dedx_Y'] + df['shr_tkfit_nhits_U']*df['shr_tkfit_dedx_U'] + df['shr_tkfit_nhits_V']*df['shr_tkfit_dedx_V'])/df['shr_tkfit_nhits_tot']\n",
    "    df['shr_tkfit_2cm_nhits_tot'] = (df['shr_tkfit_2cm_nhits_Y']+df['shr_tkfit_2cm_nhits_U']+df['shr_tkfit_2cm_nhits_V'])\n",
    "    df['shr_tkfit_2cm_dedx_avg'] = (df['shr_tkfit_2cm_nhits_Y']*df['shr_tkfit_2cm_dedx_Y'] + df['shr_tkfit_2cm_nhits_U']*df['shr_tkfit_2cm_dedx_U'] + df['shr_tkfit_2cm_nhits_V']*df['shr_tkfit_2cm_dedx_V'])/df['shr_tkfit_2cm_nhits_tot']\n",
    "    df['shr_tkfit_gap10_nhits_tot'] = (df['shr_tkfit_gap10_nhits_Y']+df['shr_tkfit_gap10_nhits_U']+df['shr_tkfit_gap10_nhits_V'])\n",
    "    df['shr_tkfit_gap10_dedx_avg'] = (df['shr_tkfit_gap10_nhits_Y']*df['shr_tkfit_gap10_dedx_Y'] + df['shr_tkfit_gap10_nhits_U']*df['shr_tkfit_gap10_dedx_U'] + df['shr_tkfit_gap10_nhits_V']*df['shr_tkfit_gap10_dedx_V'])/df['shr_tkfit_gap10_nhits_tot']\n",
    "    df.loc[:,'shr_tkfit_dedx_max'] = df['shr_tkfit_dedx_Y']\n",
    "    df.loc[(df['shr_tkfit_nhits_U']>df['shr_tkfit_nhits_Y']),'shr_tkfit_dedx_max'] = df['shr_tkfit_dedx_U']\n",
    "    df.loc[(df['shr_tkfit_nhits_V']>df['shr_tkfit_nhits_Y']) & (df['shr_tkfit_nhits_V']>df['shr_tkfit_nhits_U']),'shr_tkfit_dedx_max'] = df['shr_tkfit_dedx_V']"
   ]
  },
  {
   "cell_type": "code",
   "execution_count": null,
   "metadata": {
    "scrolled": false
   },
   "outputs": [],
   "source": [
    "INTERCEPT = 0.0\n",
    "SLOPE = 0.83\n",
    "\n",
    "# define some energy-related variables\n",
    "for i,df in enumerate(df_v):\n",
    "    df[\"reco_e\"] = (df[\"shr_energy_tot_cali\"] + INTERCEPT) / SLOPE + df[\"trk_energy_tot\"]\n",
    "    df[\"reco_e_qe\"] = 0.938*((df[\"shr_energy\"]+INTERCEPT)/SLOPE)/(0.938 - ((df[\"shr_energy\"]+INTERCEPT)/SLOPE)*(1-np.cos(df[\"shr_theta\"])))\n",
    "    df[\"reco_e_rqe\"] = df[\"reco_e_qe\"]/df[\"reco_e\"]\n",
    "\n",
    "# and a way to filter out data\n",
    "for i,df in enumerate(df_v):\n",
    "    df[\"bnbdata\"] = np.zeros_like(df[\"shr_energy\"])\n",
    "    df[\"extdata\"] = np.zeros_like(df[\"shr_energy\"])\n",
    "\n",
    "data[\"bnbdata\"] = np.ones_like(data[\"shr_energy\"])\n",
    "ext[\"extdata\"] = np.ones_like(ext[\"shr_energy\"])\n",
    "\n",
    "\n",
    "# test calibrating dedx on Y plane\n",
    "#data[\"shr_tkfit_gap10_dedx_Y\"] = data[\"shr_tkfit_gap10_dedx_Y\"]*1.03\n",
    "#ext[\"shr_tkfit_gap10_dedx_Y\"] = ext[\"shr_tkfit_gap10_dedx_Y\"]*1.03\n",
    "#data[\"shr_tkfit_2cm_dedx_Y\"] = data[\"shr_tkfit_2cm_dedx_Y\"]*1.03\n",
    "#ext[\"shr_tkfit_2cm_dedx_Y\"] = ext[\"shr_tkfit_2cm_dedx_Y\"]*1.03\n",
    "#data[\"shr_tkfit_dedx_Y\"] = data[\"shr_tkfit_dedx_Y\"]*1.03\n",
    "#ext[\"shr_tkfit_dedx_Y\"] = ext[\"shr_tkfit_dedx_Y\"]*1.03"
   ]
  },
  {
   "cell_type": "code",
   "execution_count": null,
   "metadata": {
    "scrolled": false
   },
   "outputs": [],
   "source": [
    "# avoid double-counting of events out of FV in the NC/CC pi0 samples\n",
    "# not needed anymore since we improved matching with filtered samples\n",
    "#ncpi0 = ncpi0.query('category != 5')\n",
    "#ccpi0 = ccpi0.query('category != 5')\n",
    "#ccnopi = ccnopi.query('category != 5')\n",
    "#nccpi = nccpi.query('category != 5')\n",
    "#ncnopi = ncnopi.query('category != 5')\n",
    "\n",
    "## avoid recycling unbiased ext events (i.e. selecting a slice with little nu content from these samples)\n",
    "#ccnopi = ccnopi.query('(nslice==0 | (slnunhits/slnhits)>0.1)')\n",
    "#cccpi = cccpi.query('(nslice==0 | (slnunhits/slnhits)>0.1)')\n",
    "#ncnopi = ncnopi.query('(nslice==0 | (slnunhits/slnhits)>0.1)')\n",
    "#nccpi = nccpi.query('(nslice==0 | (slnunhits/slnhits)>0.1)')\n",
    "\n",
    "# add back the cosmic category, for background only\n",
    "df_v = [mc,nue,ext,data,dirt]\n",
    "#df_v = [ext,data]\n",
    "\n",
    "for i,df in enumerate(df_v):\n",
    "    df.loc[(df['category']!=1)&(df['category']!=10)&(df['category']!=11)&(df['category']!=111)&(df['slnunhits']/df['slnhits']<0.2), 'category'] = 4"
   ]
  },
  {
   "cell_type": "code",
   "execution_count": null,
   "metadata": {},
   "outputs": [],
   "source": [
    "data[\"is_signal\"] = data[\"category\"] == 11\n",
    "nue [\"is_signal\"] = nue[\"category\"] == 11\n",
    "mc  [\"is_signal\"] = mc[\"category\"] == 11\n",
    "ext[\"is_signal\"] = ext[\"category\"] == 11\n",
    "dirt[\"is_signal\"] = dirt[\"category\"] == 11"
   ]
  },
  {
   "cell_type": "code",
   "execution_count": null,
   "metadata": {},
   "outputs": [],
   "source": [
    "dfbdt_v = [mc,nue,ext,data,dirt]\n"
   ]
  },
  {
   "cell_type": "code",
   "execution_count": null,
   "metadata": {},
   "outputs": [],
   "source": [
    "import plotterPOT\n",
    "import importlib\n",
    "importlib.reload(plotter)"
   ]
  },
  {
   "cell_type": "code",
   "execution_count": null,
   "metadata": {
    "colab": {},
    "colab_type": "code",
    "id": "_pamv0W8YJ9R"
   },
   "outputs": [],
   "source": [
    "nue = mc.query(\"(abs(nu_pdg) == 12 & ccnc == 0)\")\n",
    "samples = {\n",
    "    \"mc\": mc,\n",
    "    \"nue\": nue,\n",
    "    \"dirt\": dirt,\n",
    "    \"data\": data,\n",
    "    \"ext\": ext\n",
    "}\n",
    "\n",
    "scaling = 1\n",
    "#data pot from Zarko 4.801e+19\n",
    "#mc   pot from Krish 1.26178e+20      data/ mc   = 0.38049422244\n",
    "#dirt pot from Krish 6.4e20           data/ dirt = 0.075015625\n",
    "# Data/Ext = 1123435.0/2040193.0 = 0.550651335\n",
    "pot = 4.831e+19\n",
    "mcratio   = pot/2.07136e+20 #1.26178e20 \n",
    "dirtratio = pot/6.4e20 \n",
    "extratio  = 1123435.0/2987202.8600\n",
    "SPLIT = 1.0\n",
    "\n",
    "weights = { #full sample mc = 0.38\n",
    "            \"mc\"  : mcratio  * SPLIT * scaling,   \n",
    "            \"nue\" : mcratio  * SPLIT * scaling,  \n",
    "            \"ext\" : extratio * SPLIT * scaling, #set0   \n",
    "            \"dirt\": dirtratio* SPLIT * scaling, #set0   \n",
    "}\n",
    "\n",
    "my_plotter = plotter.Plotter(samples, weights, pot=pot)\n",
    "print(weights)"
   ]
  },
  {
   "cell_type": "code",
   "execution_count": null,
   "metadata": {},
   "outputs": [],
   "source": [
    "# nue preselection\n",
    "PRESQ = 'nslice == 1'\n",
    "PRESQ += ' and selected == 1'\n",
    "#PRESQ += ' and shr_energy_tot_cali > 0.07'\n",
    "#PRESQ += ' and ( (_opfilter_pe_beam > 0 and _opfilter_pe_veto < 20) or bnbdata == 1 or extdata == 1)'"
   ]
  },
  {
   "cell_type": "code",
   "execution_count": null,
   "metadata": {
    "colab": {
     "base_uri": "https://localhost:8080/",
     "height": 561
    },
    "colab_type": "code",
    "executionInfo": {
     "elapsed": 2342,
     "status": "ok",
     "timestamp": 1560557343774,
     "user": {
      "displayName": "Stefano Roberto Soleti",
      "photoUrl": "https://lh4.googleusercontent.com/-hfLpspJu4Q0/AAAAAAAAAAI/AAAAAAAABmA/2kE4rtj8paU/s64/photo.jpg",
      "userId": "10372352518008961760"
     },
     "user_tz": 240
    },
    "id": "b93hN-pGYJ9T",
    "outputId": "17e7c7ed-3f12-4b03-805c-6698f1617878",
    "scrolled": false
   },
   "outputs": [],
   "source": [
    "#QUERY = PRESQ\n",
    "#VARIABLE, BINS, RANGE, XTIT = 'n_tracks_contained',10,(-0.5,9.5),\"n tracks contained\"\n",
    "PRESQ = 'nslice == 1'\n",
    "PRESQ += ' and selected == 1'\n",
    "VARIABLE, BINS, RANGE, XTIT = 'topological_score',100,(0,1.),\"topo score\"\n",
    "QUERY = PRESQ\n",
    "fig, ax1, ax2 = my_plotter.plot_variable(\n",
    "    VARIABLE,   \n",
    "    query=QUERY,\n",
    "    kind=\"event_category\",\n",
    "    #kind=\"interaction\",\n",
    "    #kind=\"sample\",\n",
    "    #kind='particle_pdg',\n",
    "    draw_sys=False,\n",
    "    stacksort=3,\n",
    "    title=XTIT,\n",
    "    #bins=asymm_bins,\n",
    "    bins=BINS,\n",
    "    range=RANGE\n",
    ")[0:3]\n",
    "\n",
    "ax1.set_ylim(0,ax1.get_ylim()[1]*1.25)\n",
    "ax2.set_ylim(0.7,1.1)\n",
    "#fig.savefig(ls.plots_path+\"run1/presel/\"+VARIABLE+\"_\"+date_time+\".pdf\")"
   ]
  },
  {
   "cell_type": "code",
   "execution_count": null,
   "metadata": {},
   "outputs": [],
   "source": [
    "data.query(QUERY)[[\"run\",\"sub\",\"evt\",\"reco_e\"]]"
   ]
  },
  {
   "cell_type": "code",
   "execution_count": null,
   "metadata": {
    "scrolled": false
   },
   "outputs": [],
   "source": [
    "QUERY +=  'and nslice==1'#' and reco_e > 0.15 and reco_e < 1.5'\n",
    "#QUERY += ' and shr_tkfit_dedx_Y < 0'\n",
    "plots = []\n",
    "plots.append(['tksh_distance',20,(0,10),\"tksh distance [cm]\"])\n",
    "plots.append(['reco_nu_vtx_sce_x',25,(0,250),\"reco_nu_vtx_sce_x [cm]\"])\n",
    "#plots.append(['shr_tkfit_dedx_Y',20,(0,10),\"shr tkfit dE/dx (Y, 0-4 cm) [MeV/cm]\"])\n",
    "#plots.append(['shr_tkfit_dedx_U',20,(0,10),\"shr tkfit dE/dx (U, 0-4 cm) [MeV/cm]\"])\n",
    "#plots.append(['shr_tkfit_dedx_V',20,(0,10),\"shr tkfit dE/dx (V, 0-4 cm) [MeV/cm]\"])\n",
    "#plots.append(['shr_tkfit_2cm_dedx_Y',20,(0,10),\"shr tkfit dE/dx (Y, 0-2 cm) [MeV/cm]\"])\n",
    "#plots.append(['shr_tkfit_2cm_dedx_U',20,(0,10),\"shr tkfit dE/dx (U, 0-2 cm) [MeV/cm]\"])\n",
    "#plots.append(['shr_tkfit_2cm_dedx_V',20,(0,10),\"shr tkfit dE/dx (V, 0-2 cm) [MeV/cm]\"])\n",
    "#plots.append(['shr_tkfit_gap10_dedx_Y',20,(0,10),\"shr tkfit dE/dx (Y, 1-5 cm) [MeV/cm]\"])\n",
    "#plots.append(['shr_tkfit_gap10_dedx_U',20,(0,10),\"shr tkfit dE/dx (U, 1-5 cm) [MeV/cm]\"])\n",
    "#plots.append(['shr_tkfit_gap10_dedx_V',20,(0,10),\"shr tkfit dE/dx (V, 1-5 cm) [MeV/cm]\"])\n",
    "plots.append(['shr_tkfit_2cm_dedx_avg',20,(0,10),\"shr tkfit dE/dx (avg, 0-2 cm) [MeV/cm]\"])\n",
    "plots.append(['shr_tkfit_2cm_nhits_tot',20,(0,20),\"shr tkfit nhits (tot, 0-2 cm) [MeV/cm]\"])\n",
    "plots.append(['shr_tkfit_gap10_dedx_avg',20,(0,10),\"shr tkfit dE/dx (avg, 1-5 cm) [MeV/cm]\"])\n",
    "plots.append(['shr_tkfit_gap10_nhits_tot',20,(0,20),\"shr tkfit nhits (tot, 1-5 cm) [MeV/cm]\"])\n",
    "plots.append(['tksh_angle',20,(-1,1),\"cos(tksh angle)\"])\n",
    "plots.append(['trkfit',20,(0,1),\"Fraction of Track-fitted points\"])\n",
    "plots.append(['shrmoliereavg',20,(0,50),\"average Moliere angle [degrees]\"])\n",
    "plots.append(['trkpid',15,(-1,1),\"track LLR PID\"])\n",
    "plots.append(['n_showers_contained',10,(0,10),\"n showers contained\"])\n",
    "plots.append(['n_tracks_contained',10,(0,10),\"n tracks contained\"])\n",
    "plots.append(['shr_score',20,(0,0.5),\"shr score\"])\n",
    "plots.append(['trk_score',20,(0.5,1.0),\"trk score\"])\n",
    "plots.append(['hits_ratio',20,(0,1),\"shower hits/all hits\"])\n",
    "#plots.append(['slclustfrac',20,(0,1),\"slice clustered fraction\"])\n",
    "#plots.append(['CosmicIP',20,(0,200),\"Cosmic IP from vtx [cm]\"])\n",
    "#plots.append(['reco_nu_vtx_x',20,(0,260),\"x\"])\n",
    "#plots.append(['reco_nu_vtx_y',20,(-120,120),\"y\"])\n",
    "#plots.append(['reco_nu_vtx_z',20,(0,1100),\"z\"])\n",
    "#plots.append(['reco_e_rqe',20,(0,2),\"rqe\"])\n",
    "plots.append(['trkshrhitdist2',20,(0,10),\"2D trk-shr distance (Y)\"])\n",
    "plots.append(['subcluster',20,(0,20),\"N sub-clusters in shower\"])\n",
    "plots.append(['shrmoliererms',20,(0,5000),\"RMS Moliere angle [degrees]\"])\n",
    "plots.append(['shr_energy_tot_cali',20,(0,1),\"shr energy (calibrated) [GeV]\"])\n",
    "plots.append(['contained_fraction',20,(0.,1),\"contained fraction\"])\n",
    "plots.append(['hits_y',20,(0.,1000),\"N hits Y plane\"])\n",
    "#plots.append(['pi0_mass_Y',25,(-50.,200),\"pi0 mass [Mev]\"])\n",
    "#plots.append(['pi0_gammadot',20,(-1,1),\"2-shower angle\"])\n",
    "#plots.append(['secondshower_Y_nhit',20,(0,200),\"Nhit 2nd shower (Y)\"])\n",
    "#plots.append(['secondshower_Y_dot',20,(-1,1),\"cos(2nd shower direction wrt vtx) (Y)\"])\n",
    "#plots.append(['anglediff_Y',20,(0,350),\"angle diff 1st-2nd shower (Y) [degrees]\"])\n",
    "#plots.append(['secondshower_Y_vtxdist',20,(0.,200),\"vtx dist 2nd shower (Y)\"])\n",
    "plots.append(['CosmicIPAll3D',20,(0,200),\"CosmicIPAll3D [cm]\"])\n",
    "plots.append(['CosmicDirAll3D',20,(-1,1),\"cos(CosmicDirAll3D)\"])\n",
    "#plots = []\n",
    "#plots.append(['trkshrhitdist2',20,(0,10),\"2D trk-shr distance (Y)\"])\n",
    "if USEBDT:\n",
    "    plots = []\n",
    "    plots.append(['pi0_score',20,(0.,1),\"$\\pi^0$ BDT response\"])\n",
    "    plots.append(['nonpi0_score',20,(0.,1),\"non-$\\pi^0$ BDT response\"])\n",
    "for VARIABLE, BINS, RANGE, XTIT in plots:\n",
    "    print(VARIABLE, BINS, RANGE, XTIT)\n",
    "    fig, ax1, ax2 = my_plotter.plot_variable(\n",
    "        VARIABLE,   \n",
    "        query=QUERY,\n",
    "        kind=\"event_category\",\n",
    "        #kind=\"interaction\",\n",
    "        #kind=\"sample\",\n",
    "        draw_sys=False,\n",
    "        stacksort=3,\n",
    "        title=XTIT,\n",
    "        bins=BINS,\n",
    "        range=RANGE,\n",
    "    )[0:3]\n",
    "    #ax1.set_ylim(0,ax1.get_ylim()[1]*1.4)\n",
    "    #ax1.set_yscale(\"log\")\n",
    "    fig.show()\n",
    "    fig.savefig(ls.plots_path+\"/run1/presel/\"+VARIABLE+date_time+\".pdf\")"
   ]
  },
  {
   "cell_type": "code",
   "execution_count": null,
   "metadata": {},
   "outputs": [],
   "source": []
  }
 ],
 "metadata": {
  "accelerator": "GPU",
  "colab": {
   "name": "Plotter.ipynb",
   "provenance": [],
   "version": "0.3.2"
  },
  "kernelspec": {
   "display_name": "Python 3",
   "language": "python",
   "name": "python3"
  },
  "language_info": {
   "codemirror_mode": {
    "name": "ipython",
    "version": 3
   },
   "file_extension": ".py",
   "mimetype": "text/x-python",
   "name": "python",
   "nbconvert_exporter": "python",
   "pygments_lexer": "ipython3",
   "version": "3.7.6"
  }
 },
 "nbformat": 4,
 "nbformat_minor": 1
}
