{
 "cells": [
  {
   "cell_type": "code",
   "execution_count": 1,
   "id": "4f4783db",
   "metadata": {},
   "outputs": [
    {
     "name": "stdout",
     "output_type": "stream",
     "text": [
      "/home/alex/NuMI/PELEE/\n"
     ]
    }
   ],
   "source": [
    "import pandas as pd\n",
    "import matplotlib.pyplot as plt\n",
    "import matplotlib\n",
    "import sys\n",
    "import localSettings as ls\n",
    "import math\n",
    "print(ls.main_path)\n",
    "import load_data_run123\n",
    "import plotter_alex\n",
    "import importlib\n",
    "importlib.reload(plotter_alex)\n",
    "import uproot\n",
    "import matplotlib.pylab as pylab\n",
    "import numpy as np\n",
    "import math\n",
    "from sklearn.model_selection import train_test_split\n",
    "import pickle\n",
    "import xgboost as xgb\n",
    "import nue_booster \n",
    "importlib.reload(nue_booster)\n",
    "import awkward\n",
    "from matplotlib import gridspec\n",
    "from collections import defaultdict"
   ]
  },
  {
   "cell_type": "code",
   "execution_count": 2,
   "id": "1043840e",
   "metadata": {},
   "outputs": [],
   "source": [
    "ending = \"Dec19\""
   ]
  },
  {
   "cell_type": "code",
   "execution_count": null,
   "id": "086ae909",
   "metadata": {},
   "outputs": [],
   "source": []
  },
  {
   "cell_type": "code",
   "execution_count": 3,
   "id": "04133fd0",
   "metadata": {},
   "outputs": [
    {
     "name": "stdout",
     "output_type": "stream",
     "text": [
      "Unsmeared events\n",
      "[91.6082, 227.651, 194.318, 127.455, 89.8899, 56.8666, 35.5337, 102.239, 2938.81, 4839.75, 2880.38, 2160.13, 1729.8, 1036.59, -128.348, 2415.1]\n",
      "\n",
      "AC\n",
      "[[0.814927, 0.0863439, -0.134581, 0.145387, -0.13983, 0.0851219, -0.0311417, 0.0150108, 0.0, 0.0, 0.0, 0.0, 0.0, 0.0, 0.0, 0.0], [0.0863439, 0.485179, 0.322795, -0.0305318, 0.0578172, 0.15814, 0.00970758, 0.102243, 0.0, 0.0, 0.0, 0.0, 0.0, 0.0, 0.0, 0.0], [-0.134581, 0.322795, 0.430047, 0.145974, 0.0279129, 0.0120506, 0.180961, 0.0443432, 0.0, 0.0, 0.0, 0.0, 0.0, 0.0, 0.0, 0.0], [0.145387, -0.0305318, 0.145974, 0.498253, 0.210922, -0.0760924, 0.106725, 0.073084, 0.0, 0.0, 0.0, 0.0, 0.0, 0.0, 0.0, 0.0], [-0.13983, 0.0578172, 0.0279129, 0.210922, 0.465537, 0.117684, -0.144743, 0.11298, 0.0, 0.0, 0.0, 0.0, 0.0, 0.0, 0.0, 0.0], [0.0851219, 0.15814, 0.0120506, -0.0760924, 0.117684, 0.291272, -0.0196813, -0.121171, 0.0, 0.0, 0.0, 0.0, 0.0, 0.0, 0.0, 0.0], [-0.0311417, 0.00970758, 0.180961, 0.106725, -0.144743, -0.0196813, 0.370914, -0.136701, 0.0, 0.0, 0.0, 0.0, 0.0, 0.0, 0.0, 0.0], [0.0150108, 0.102243, 0.0443432, 0.073084, 0.11298, -0.121171, -0.136701, 0.485198, 0.0, 0.0, 0.0, 0.0, 0.0, 0.0, 0.0, 0.0], [0.0, 0.0, 0.0, 0.0, 0.0, 0.0, 0.0, 0.0, 0.610244, 0.139642, 0.0552021, 0.123364, -0.130457, 0.0758669, -0.0959177, -0.0261918], [0.0, 0.0, 0.0, 0.0, 0.0, 0.0, 0.0, 0.0, 0.139642, 0.620116, 0.185181, 0.0156976, 0.171978, 0.10337, -0.174492, -0.0385957], [0.0, 0.0, 0.0, 0.0, 0.0, 0.0, 0.0, 0.0, 0.0552021, 0.185181, 0.336479, 0.16925, 0.0582647, 0.0856274, 0.288684, -0.0291744], [0.0, 0.0, 0.0, 0.0, 0.0, 0.0, 0.0, 0.0, 0.123364, 0.0156976, 0.16925, 0.331971, 0.191946, -0.0166071, 0.0902732, -0.0226506], [0.0, 0.0, 0.0, 0.0, 0.0, 0.0, 0.0, 0.0, -0.130457, 0.171978, 0.0582647, 0.191946, 0.329449, -0.0686626, -0.0863902, -0.0127564], [0.0, 0.0, 0.0, 0.0, 0.0, 0.0, 0.0, 0.0, 0.0758669, 0.10337, 0.0856274, -0.0166071, -0.0686626, 0.134142, 0.0850804, -0.0123369], [0.0, 0.0, 0.0, 0.0, 0.0, 0.0, 0.0, 0.0, -0.0959177, -0.174492, 0.288684, 0.0902732, -0.0863902, 0.0850804, 0.704744, -0.00866078], [0.0, 0.0, 0.0, 0.0, 0.0, 0.0, 0.0, 0.0, -0.0261918, -0.0385957, -0.0291744, -0.0226506, -0.0127564, -0.0123369, -0.00866078, 0.605825]]\n",
      "\n",
      "Prior Truth: \n",
      "[129.3466034622265, 337.729637175373, 266.63605758392475, 184.8684388288003, 116.20225571858606, 75.70418196950621, 51.82313326490032, 134.8144813984538, 4155.977046343568, 6845.533904004922, 4769.213605845558, 3275.9537876006407, 2364.8551123615457, 1602.5948085619827, 1023.6659798427113, 3566.2310849888077]\n",
      "\n",
      "Errors: \n",
      "[102.214, 58.7015, 57.1564, 48.2566, 38.7099, 19.233, 17.6327, 30.8849, 852.775, 1208.14, 1371.68, 898.777, 428.061, 446.889, 1250.59, 2706.42]\n",
      "\n",
      "################################################################\n",
      "\n",
      "cov\n",
      "[[10447.7, 1864.79, -864.167, 2522.4, -1290.52, 1258.89, -194.424, 593.106, 30985.5, 40958.8, 24694.9, 18553.7, 11865.2, 9590.86, -763.856, 44587.8], [1864.79, 3445.87, 2931.21, 2400.38, 1599.52, 915.184, 507.35, 1596.96, 7155.67, 8863.78, 4568.95, 3463.05, 2194.19, 1975.88, -1260.16, 9417.52], [-864.167, 2931.21, 3266.86, 1942.18, 1949.7, 515.822, 696.142, 1435.48, -2302.99, -3620.79, -3525.57, -2492.87, -1428.91, -1110.59, -1924.95, -3769.51], [2522.4, 2400.38, 1942.18, 2328.7, 1077.62, 623.402, 432.563, 1223.17, 6959.43, 9188.51, 5499.2, 4172.29, 2685.35, 2136.84, -249.488, 9060.1], [-1290.52, 1599.52, 1949.7, 1077.62, 1498.46, 233.38, 263.604, 965.696, -2558.51, -3288.64, -1045.29, -928.049, -835.062, -531.407, 1505.21, -5187.38], [1258.89, 915.184, 515.822, 623.402, 233.38, 369.907, 47.7588, 342.318, 4111.39, 5276.38, 2357.54, 1880.89, 1384.21, 1040.35, -1333.02, 6574.14], [-194.424, 507.35, 696.142, 432.563, 263.604, 47.7588, 310.911, 153.129, -2446.4, -3506.72, -4309.37, -2877.7, -1286.52, -1372.72, -3300.49, -1683.01], [593.106, 1596.96, 1435.48, 1223.17, 965.696, 342.318, 153.129, 953.879, 3950.89, 5329.91, 5637.31, 3796.7, 1729.09, 1899.1, 3654.55, 2745.04], [30985.5, 7155.67, -2302.99, 6959.43, -2558.51, 4111.39, -2446.4, 3950.89, 727225.0, 1001940.0, 1028510.0, 695683.0, 328528.0, 349232.0, 637160.0, 250868.0], [40958.8, 8863.78, -3620.79, 9188.51, -3288.64, 5276.38, -3506.72, 5329.91, 1001940.0, 1459590.0, 1453100.0, 981770.0, 498423.0, 489236.0, 864768.0, 371688.0], [24694.9, 4568.95, -3525.57, 5499.2, -1045.29, 2357.54, -4309.37, 5637.31, 1028510.0, 1453100.0, 1881500.0, 1224400.0, 508117.0, 607675.0, 1535880.0, 106838.0], [18553.7, 3463.05, -2492.87, 4172.29, -928.049, 1880.89, -2877.7, 3796.7, 695683.0, 981770.0, 1224400.0, 807800.0, 347201.0, 395518.0, 960738.0, 71620.3], [11865.2, 2194.19, -1428.91, 2685.35, -835.062, 1384.21, -1286.52, 1729.09, 328528.0, 498423.0, 508117.0, 347201.0, 183236.0, 165550.0, 312016.0, 106190.0], [9590.86, 1975.88, -1110.59, 2136.84, -531.407, 1040.35, -1372.72, 1899.1, 349232.0, 489236.0, 607675.0, 395518.0, 165550.0, 199710.0, 477688.0, 32248.9], [-763.856, -1260.16, -1924.95, -249.488, 1505.21, -1333.02, -3300.49, 3654.55, 637160.0, 864768.0, 1535880.0, 960738.0, 312016.0, 477688.0, 1563990.0, -187766.0], [44587.8, 9417.52, -3769.51, 9060.1, -5187.38, 6574.14, -1683.01, 2745.04, 250868.0, 371688.0, 106838.0, 71620.3, 106190.0, 32248.9, -187766.0, 7324730.0]]\n",
      "\n"
     ]
    }
   ],
   "source": [
    "with open('../blockwise/stv-analysis-new/blockwise_unsmeared_events_leptonMom_MC_ONLY_weighted_recoCut_incErr_noTune_'+ending+'.csv') as file:\n",
    "    content = file.readlines()\n",
    "events = content[0:]\n",
    "    \n",
    "for i in range(16):\n",
    "    events[i]=events[i].rstrip().rstrip(',')\n",
    "    events[i] = float(events[i])\n",
    "    \n",
    "print(\"Unsmeared events\")\n",
    "print(events)\n",
    "print(\"\")\n",
    "\n",
    "nuWro_events = events\n",
    "\n",
    "#------------------------------------------------------------------------------\n",
    "with open('../blockwise/stv-analysis-new/blockwise_unsmeared_AC_leptonMom_MC_ONLY_weighted_recoCut_incErr_noTune_'+ending+'.csv') as file:\n",
    "    content = file.readlines()\n",
    "AC = content[0:]\n",
    "    \n",
    "for i in range(256):\n",
    "    AC[i]=AC[i].rstrip().rstrip(',')\n",
    "    AC[i] = float(AC[i])\n",
    "    \n",
    "\n",
    "chunks = [AC[x:x+16] for x in range(0, len(AC), 16)]\n",
    "\n",
    "print(\"AC\")\n",
    "print(chunks)\n",
    "nuWro_Ac = chunks\n",
    "print(\"\")\n",
    "#---------------------------------------------------------------\n",
    "\n",
    "with open('nue_full_500_catsel_nopions_leptonMom_usingSelection_prior_true_signal_blockwise_recoCut_comb_'+ending+'.csv') as file:\n",
    "    content = file.readlines()\n",
    "prior_true = content[0:]\n",
    "    \n",
    "for i in range(16):\n",
    "    prior_true[i]=prior_true[i].rstrip().rstrip(',')\n",
    "    prior_true[i] = float(prior_true[i])\n",
    "    \n",
    "print(\"Prior Truth: \")\n",
    "print(prior_true)\n",
    "print(\"\")\n",
    "\n",
    "prior_true_nuWro = prior_true\n",
    "\n",
    "#----------------------------------------------------------------\n",
    "with open('../blockwise/stv-analysis-new/blockwise_unsmeared_errors_leptonMom_MC_ONLY_weighted_recoCut_incErr_noTune_'+ending+'.csv') as file:\n",
    "    content = file.readlines()\n",
    "errs = content[0:]\n",
    "    \n",
    "for i in range(16):\n",
    "    errs[i]=errs[i].rstrip().rstrip(',')\n",
    "    errs[i] = float(errs[i])\n",
    "    \n",
    "print(\"Errors: \")\n",
    "print(errs)\n",
    "print(\"\")\n",
    "print(\"################################################################\")\n",
    "print(\"\")\n",
    "\n",
    "nuWro_errs = errs\n",
    "\n",
    "#----------------------------------------------------------------\n",
    "with open('../blockwise/stv-analysis-new/blockwise_unsmeared_cov_matrix_leptonMom_MC_ONLY_weighted_recoCut_incErr_noTune_'+ending+'.csv') as file:\n",
    "    content = file.readlines()\n",
    "cov = content[0:]\n",
    "    \n",
    "for i in range(256):\n",
    "    cov[i]=cov[i].rstrip().rstrip(',')\n",
    "    cov[i] = float(cov[i])\n",
    "    \n",
    "\n",
    "chunks_cov = [cov[x:x+16] for x in range(0, len(cov), 16)]\n",
    "\n",
    "print(\"cov\")\n",
    "print(chunks_cov)\n",
    "print(\"\")"
   ]
  },
  {
   "cell_type": "code",
   "execution_count": 4,
   "id": "fd3ecb2c",
   "metadata": {},
   "outputs": [
    {
     "name": "stdout",
     "output_type": "stream",
     "text": [
      "['16\\n', '0  0\\n', '1  0\\n', '2  0\\n', '3  0\\n', '4  0\\n', '5  0\\n', '6  0\\n', '7  0\\n', '8  1\\n', '9  1\\n', '10 1\\n', '11 1\\n', '12 1\\n', '13 1\\n', '14 1\\n', '15 1\\n', '16\\n', '0  0\\n', '1  0\\n', '2  0\\n', '3  0\\n', '4  0\\n', '5  0\\n', '6  0\\n', '7  0\\n', '8  1\\n', '9  1\\n', '10 1\\n', '11 1\\n', '12 1\\n', '13 1\\n', '14 1\\n', '15 1\\n']\n"
     ]
    }
   ],
   "source": [
    "with open('../blockwise/stv-analysis-new/blocks_16.txt') as file:\n",
    "    content = file.readlines()\n",
    "blocks = content[0:]\n",
    "\n",
    "print(blocks)"
   ]
  },
  {
   "cell_type": "code",
   "execution_count": 5,
   "id": "e3ffe599",
   "metadata": {},
   "outputs": [
    {
     "name": "stdout",
     "output_type": "stream",
     "text": [
      "Prior_Truth x AC: \n",
      "[ 116.16758913  288.42930047  252.77375943  173.65971176  118.61137768\n",
      "   71.93493734   49.71450751  124.08933032 3780.96777054 6016.06697467\n",
      " 4122.76381576 2953.80982004 2076.92180457 1472.59105053  701.9890462\n",
      " 1515.30615478]\n",
      "\n",
      "\n",
      "Unfolding Done with MC Data Signal: \n",
      "[91.6082, 227.651, 194.318, 127.455, 89.8899, 56.8666, 35.5337, 102.239, 2938.81, 4839.75, 2880.38, 2160.13, 1729.8, 1036.59, -128.348, 2415.1]\n",
      "\n",
      "\n",
      "Difference\n",
      "[  24.55938913   60.77830047   58.45575943   46.20471176   28.72147768\n",
      "   15.06833734   14.18080751   21.85033032  842.15777054 1176.31697467\n",
      " 1242.38381576  793.67982004  347.12180457  436.00105053  830.3370462\n",
      " -899.79384522]\n",
      "\n",
      "[ 21.14134356  21.07216582  23.125723    26.60646577  24.21477454\n",
      "  20.94717518  28.52448555  17.60854883  22.27360352  19.55292352\n",
      "  30.13473173  26.86969942  16.71328231  29.60774822 118.28347617\n",
      " -59.3803333 ]\n"
     ]
    }
   ],
   "source": [
    "\n",
    "made_data_sig = np.dot(prior_true, chunks)\n",
    "print(\"Prior_Truth x AC: \")\n",
    "print(made_data_sig)\n",
    "print(\"\")\n",
    "print(\"\")\n",
    "print(\"Unfolding Done with MC Data Signal: \")\n",
    "print(events)\n",
    "print(\"\")\n",
    "\n",
    "diff = made_data_sig - events\n",
    "print(\"\")\n",
    "print(\"Difference\")\n",
    "print(diff)\n",
    "\n",
    "#for i in made_data_sig:\n",
    "#    print(i)\n",
    "\n",
    "print(\"\")\n",
    "diffasfrac = np.nan_to_num(diff/made_data_sig)\n",
    "print(diffasfrac*100)"
   ]
  },
  {
   "cell_type": "code",
   "execution_count": 6,
   "id": "5979c327",
   "metadata": {},
   "outputs": [
    {
     "data": {
      "image/png": "[encoded data removed]",
      "text/plain": [
       "<Figure size 432x288 with 1 Axes>"
      ]
     },
     "metadata": {
      "needs_background": "light"
     },
     "output_type": "display_data"
    },
    {
     "data": {
      "image/png": "[encoded data removed]",
      "text/plain": [
       "<Figure size 432x288 with 1 Axes>"
      ]
     },
     "metadata": {
      "needs_background": "light"
     },
     "output_type": "display_data"
    },
    {
     "data": {
      "image/png": "[encoded data removed]",
      "text/plain": [
       "<Figure size 432x288 with 1 Axes>"
      ]
     },
     "metadata": {
      "needs_background": "light"
     },
     "output_type": "display_data"
    }
   ],
   "source": [
    "import random\n",
    "import numpy\n",
    "from matplotlib import pyplot\n",
    "\n",
    "bins = np.arange(0, 17, 1)\n",
    "count = np.arange(0.0, 16.0, 1)\n",
    "\n",
    "pyplot.hist(count, bins, weights=made_data_sig, alpha=0.5, label='Prior_Truth x AC')\n",
    "pyplot.hist(count, bins, weights=events, alpha=0.5, label='Unfolding Done with MC Data Signal')\n",
    "pyplot.legend(loc='upper right')\n",
    "pyplot.xlabel(\"Bin Number\")\n",
    "pyplot.ylabel(\"Count\")\n",
    "pyplot.show()\n",
    "\n",
    "pyplot.hist(count, bins, weights=diff, alpha=0.5, label='Difference')\n",
    "pyplot.legend(loc='upper right')\n",
    "pyplot.xlabel(\"Bin Number\")\n",
    "pyplot.ylabel(\"Count\")\n",
    "pyplot.show()\n",
    "\n",
    "\n",
    "pyplot.hist(count, bins, weights=diffasfrac, alpha=0.5, label='Fractional Difference')\n",
    "pyplot.legend(loc='upper right')\n",
    "pyplot.xlabel(\"Bin Number\")\n",
    "pyplot.ylabel(\"Fractional Difference\")\n",
    "pyplot.show()"
   ]
  },
  {
   "cell_type": "code",
   "execution_count": 7,
   "id": "c2787afc",
   "metadata": {},
   "outputs": [
    {
     "data": {
      "image/png": "[encoded data removed]",
      "text/plain": [
       "<Figure size 720x432 with 1 Axes>"
      ]
     },
     "metadata": {
      "needs_background": "light"
     },
     "output_type": "display_data"
    }
   ],
   "source": [
    "fig = plt.figure(figsize=(10, 6))\n",
    "\n",
    "pyplot.hist(count, bins, weights=made_data_sig, alpha=0.5, label='Prior_Truth x AC')\n",
    "pyplot.hist(count, bins, weights=events, alpha=0.5, label='Unfolding Done with MC Data Signal')\n",
    "pyplot.legend(loc='upper left')\n",
    "pyplot.xlabel(\"Bin Number\")\n",
    "pyplot.ylabel(\"Count\")\n",
    "pyplot.title(\"GENIE Closure Test - Neutrino Energy\")\n",
    "pyplot.show()\n",
    "\n",
    "fig.savefig(\"noTune_fakeData_closure_test_lepton_\"+ending+\".svg\",bbox_inches='tight' )\n"
   ]
  },
  {
   "cell_type": "code",
   "execution_count": 8,
   "id": "519c5df0",
   "metadata": {},
   "outputs": [
    {
     "data": {
      "image/png": "[encoded data removed]",
      "text/plain": [
       "<Figure size 720x432 with 1 Axes>"
      ]
     },
     "metadata": {
      "needs_background": "light"
     },
     "output_type": "display_data"
    }
   ],
   "source": [
    "fig = plt.figure(figsize=(10, 6))\n",
    "\n",
    "pyplot.hist(count, bins, weights=diff, alpha=0.5)\n",
    "#pyplot.legend(loc='upper right')\n",
    "pyplot.xlabel(\"Bin Number\")\n",
    "pyplot.ylabel(\"Difference\")\n",
    "pyplot.title(\"GENIE Closure Test - Difference\")\n",
    "pyplot.show()\n",
    "\n",
    "fig.savefig(\"noTune_fakeData_closure_test_diff_lepton_\"+ending+\".svg\",bbox_inches='tight' )"
   ]
  },
  {
   "cell_type": "code",
   "execution_count": 9,
   "id": "f2105818",
   "metadata": {},
   "outputs": [
    {
     "data": {
      "image/png": "[encoded data removed]",
      "text/plain": [
       "<Figure size 720x432 with 2 Axes>"
      ]
     },
     "metadata": {
      "needs_background": "light"
     },
     "output_type": "display_data"
    }
   ],
   "source": [
    "fig = plt.figure(figsize=(10, 6))  \n",
    "    \n",
    "plt.pcolor(bins, bins, chunks, cmap='OrRd', edgecolors='k')#, vmin=-1, vmax=1)\n",
    "            \n",
    "cbar = plt.colorbar()\n",
    "cbar.ax.tick_params(labelsize=14)\n",
    "#cbar.set_label(r\"Log (Power)\", size=15)\n",
    "\n",
    "plt.xlabel('Bin Number', fontsize=15)\n",
    "plt.ylabel('Bin Number', fontsize=15)\n",
    "\n",
    "plt.title('Additional Smearing Matrix', fontsize=15)\n",
    "\n",
    "plt.show()\n",
    "\n",
    "fig.savefig(\"noTune_fakeData_closure_test_Ac_leptonMom_\"+ending+\".svg\",bbox_inches='tight' )"
   ]
  },
  {
   "cell_type": "code",
   "execution_count": 10,
   "id": "5c56fce6",
   "metadata": {},
   "outputs": [
    {
     "data": {
      "image/png": "[encoded data removed]",
      "text/plain": [
       "<Figure size 720x432 with 2 Axes>"
      ]
     },
     "metadata": {
      "needs_background": "light"
     },
     "output_type": "display_data"
    }
   ],
   "source": [
    "fig = plt.figure(figsize=(10, 6))  \n",
    "\n",
    "#print(bins)\n",
    "bins = np.arange(0, 17, 1)\n",
    "count = np.arange(0.0, 16.0, 1)\n",
    "    \n",
    "plt.pcolor(bins, bins, (chunks_cov), cmap='OrRd', edgecolors='k')#, vmin=-1, vmax=1)\n",
    "            \n",
    "cbar = plt.colorbar()\n",
    "cbar.ax.tick_params(labelsize=14)\n",
    "#cbar.set_label(r\"Log (Power)\", size=15)\n",
    "\n",
    "plt.xlabel('Bin Number', fontsize=15)\n",
    "plt.ylabel('Bin Number', fontsize=15)\n",
    "\n",
    "plt.title(' Log Covariance Matrix', fontsize=15)\n",
    "\n",
    "plt.show()"
   ]
  },
  {
   "cell_type": "code",
   "execution_count": 11,
   "id": "21e873ed",
   "metadata": {},
   "outputs": [
    {
     "name": "stdout",
     "output_type": "stream",
     "text": [
      "Dec19\n",
      "[[10447.7, 1864.79, -864.167, 2522.4, -1290.52, 1258.89, -194.424, 593.106, 30985.5, 40958.8, 24694.9, 18553.7, 11865.2, 9590.86, -763.856, 44587.8], [1864.79, 3445.87, 2931.21, 2400.38, 1599.52, 915.184, 507.35, 1596.96, 7155.67, 8863.78, 4568.95, 3463.05, 2194.19, 1975.88, -1260.16, 9417.52], [-864.167, 2931.21, 3266.86, 1942.18, 1949.7, 515.822, 696.142, 1435.48, -2302.99, -3620.79, -3525.57, -2492.87, -1428.91, -1110.59, -1924.95, -3769.51], [2522.4, 2400.38, 1942.18, 2328.7, 1077.62, 623.402, 432.563, 1223.17, 6959.43, 9188.51, 5499.2, 4172.29, 2685.35, 2136.84, -249.488, 9060.1], [-1290.52, 1599.52, 1949.7, 1077.62, 1498.46, 233.38, 263.604, 965.696, -2558.51, -3288.64, -1045.29, -928.049, -835.062, -531.407, 1505.21, -5187.38], [1258.89, 915.184, 515.822, 623.402, 233.38, 369.907, 47.7588, 342.318, 4111.39, 5276.38, 2357.54, 1880.89, 1384.21, 1040.35, -1333.02, 6574.14], [-194.424, 507.35, 696.142, 432.563, 263.604, 47.7588, 310.911, 153.129, -2446.4, -3506.72, -4309.37, -2877.7, -1286.52, -1372.72, -3300.49, -1683.01], [593.106, 1596.96, 1435.48, 1223.17, 965.696, 342.318, 153.129, 953.879, 3950.89, 5329.91, 5637.31, 3796.7, 1729.09, 1899.1, 3654.55, 2745.04], [30985.5, 7155.67, -2302.99, 6959.43, -2558.51, 4111.39, -2446.4, 3950.89, 727225.0, 1001940.0, 1028510.0, 695683.0, 328528.0, 349232.0, 637160.0, 250868.0], [40958.8, 8863.78, -3620.79, 9188.51, -3288.64, 5276.38, -3506.72, 5329.91, 1001940.0, 1459590.0, 1453100.0, 981770.0, 498423.0, 489236.0, 864768.0, 371688.0], [24694.9, 4568.95, -3525.57, 5499.2, -1045.29, 2357.54, -4309.37, 5637.31, 1028510.0, 1453100.0, 1881500.0, 1224400.0, 508117.0, 607675.0, 1535880.0, 106838.0], [18553.7, 3463.05, -2492.87, 4172.29, -928.049, 1880.89, -2877.7, 3796.7, 695683.0, 981770.0, 1224400.0, 807800.0, 347201.0, 395518.0, 960738.0, 71620.3], [11865.2, 2194.19, -1428.91, 2685.35, -835.062, 1384.21, -1286.52, 1729.09, 328528.0, 498423.0, 508117.0, 347201.0, 183236.0, 165550.0, 312016.0, 106190.0], [9590.86, 1975.88, -1110.59, 2136.84, -531.407, 1040.35, -1372.72, 1899.1, 349232.0, 489236.0, 607675.0, 395518.0, 165550.0, 199710.0, 477688.0, 32248.9], [-763.856, -1260.16, -1924.95, -249.488, 1505.21, -1333.02, -3300.49, 3654.55, 637160.0, 864768.0, 1535880.0, 960738.0, 312016.0, 477688.0, 1563990.0, -187766.0], [44587.8, 9417.52, -3769.51, 9060.1, -5187.38, 6574.14, -1683.01, 2745.04, 250868.0, 371688.0, 106838.0, 71620.3, 106190.0, 32248.9, -187766.0, 7324730.0]]\n"
     ]
    }
   ],
   "source": [
    "np.savetxt(\"data_covmat_MC_noTune_chi2_leptonMom_comb_\"+ending+\".csv\", \n",
    "           chunks_cov,\n",
    "           delimiter =\", \", \n",
    "           fmt ='% s')\n",
    "\n",
    "print(ending)\n",
    "print(chunks_cov)"
   ]
  },
  {
   "cell_type": "markdown",
   "id": "b2be1cc9",
   "metadata": {},
   "source": [
    "## Convert to xsec units - uneeded right now"
   ]
  },
  {
   "cell_type": "markdown",
   "id": "c0d972a5",
   "metadata": {},
   "source": [
    "###################\n",
    "### #N argon target calculation\n",
    "###################\n",
    "\n",
    "density = 1.3836  #g/cm^3\n",
    "volume = (246-10)*(106-(-106))*(1026-10)         #cm^3\n",
    "NA = 6.022E23   #atoms/mol\n",
    "Nnuc = 40       #nucleans / atom\n",
    "mmol = 39.95    #g/mol\n",
    "\n",
    "Narg = (density * volume * NA * Nnuc)/mmol   #nucleons\n",
    "\n",
    "print(\"number of argon targets = \", Narg)"
   ]
  },
  {
   "cell_type": "markdown",
   "id": "0cae4282",
   "metadata": {},
   "source": [
    "#Need R1 AND R3\n",
    "\n",
    "####NUE\n",
    "POT_R1 = 2.0E20 \n",
    "int_flux_per_POT_R1 = 1.1864530596659353e-11\n",
    "POT_R3 = 5.014E20\n",
    "int_flux_per_POT_R3 = 8.628376225834778e-12\n",
    "\n",
    "int_flux = (int_flux_per_POT_R1*POT_R1) + (int_flux_per_POT_R3*POT_R3)    #cm^-2\n",
    "\n",
    "print(\"Nue integrated flux: \", int_flux)\n",
    "\n",
    "####NUMU\n",
    "\n",
    "POT_numu_R1 = 2.0E20 \n",
    "int_flux_per_POT_numu_R1 = 5.455771063338641e-10\n",
    "POT_numu_R3 = 5.014E20 \n",
    "int_flux_per_POT_numu_R3 = 3.6729003479115414e-10\n",
    "\n",
    "int_flux_numu = (int_flux_per_POT_numu_R1*POT_numu_R1) + (int_flux_per_POT_numu_R3*POT_numu_R3)    #cm^-2\n",
    "\n",
    "print(\"Numu integrated flux: \", int_flux_numu)"
   ]
  },
  {
   "cell_type": "markdown",
   "id": "76072d85",
   "metadata": {},
   "source": [
    "nue_events = np.array(events[0:10])\n",
    "numu_events = np.array(events[10:20])\n",
    "\n",
    "nue_errs = np.array(errs[0:10])\n",
    "numu_errs = np.array(errs[10:20])"
   ]
  },
  {
   "cell_type": "markdown",
   "id": "277a03a3",
   "metadata": {},
   "source": [
    "#number of events\n",
    "\n",
    "xsec_nue_events = nue_events / (int_flux * Narg )     \n",
    "xsec_numu_events = numu_events / (int_flux_numu * Narg )     \n"
   ]
  },
  {
   "cell_type": "markdown",
   "id": "40299080",
   "metadata": {},
   "source": [
    "#Need the four sections of the cov matrix\n",
    "\n",
    "blockwise_errs = chunks_cov\n",
    "#print(blockwise_errs)\n",
    "#print(\"\")\n",
    "\n",
    "#NUE ONLY\n",
    "bot_left = blockwise_errs[:10]\n",
    "for i in range(len(bot_left)):\n",
    "    bot_left[i] = bot_left[i][:10]\n",
    "    \n",
    "nue_errs_bot = np.array(bot_left)/((int_flux*int_flux)*(Narg*Narg))\n",
    "xsec_nue_errs = (np.sqrt(np.diag(nue_errs_bot)))\n",
    "    \n",
    "#MIX\n",
    "bot_right = blockwise_errs[:10]\n",
    "for i in range(len(bot_right)):\n",
    "    bot_right[i] = bot_right[i][10:]\n",
    "    \n",
    "mix_errs_bot = np.array(bot_right)/((int_flux*int_flux_numu)*(Narg*Narg))\n",
    "xsec_botmix_errs = np.nan_to_num(np.sqrt(np.diag(mix_errs_bot)))\n",
    "\n",
    "    \n",
    "#MIX\n",
    "top_left = blockwise_errs[10:]\n",
    "for i in range(len(top_left)):\n",
    "    top_left[i] = top_left[i][:10]\n",
    "    \n",
    "mix_errs_top = np.array(top_left)/((int_flux*int_flux_numu)*(Narg*Narg))\n",
    "xsec_topmix_errs = np.nan_to_num(np.sqrt(np.diag(mix_errs_top)))\n",
    "\n",
    "#NUMU ONLY\n",
    "top_right = blockwise_errs[10:]\n",
    "for i in range(len(top_right)):\n",
    "    top_right[i] = top_right[i][10:]\n",
    "    \n",
    "numu_errs_top = np.array(top_right)/((int_flux_numu*int_flux_numu)*(Narg*Narg))\n",
    "xsec_numu_errs = (np.sqrt(np.diag(numu_errs_top)))\n"
   ]
  },
  {
   "cell_type": "markdown",
   "id": "2c7dc4d3",
   "metadata": {},
   "source": [
    "### Calculate ratio uncertainties\n",
    "\n",
    "xsec_ratio_events = np.nan_to_num(xsec_nue_events/xsec_numu_events)\n",
    "print(\"Ratio event counts: \", xsec_ratio_events)\n",
    "print(\"\")\n",
    "\n",
    "#####################\n",
    "\n",
    "ratio_sq = (xsec_nue_events/xsec_numu_events)*(xsec_nue_events/xsec_numu_events)\n",
    "print(\"ratio_sq: \", ratio_sq)\n",
    "print(\"\")\n",
    "nue_term = (xsec_nue_errs*xsec_nue_errs)/(xsec_nue_events*xsec_nue_events)\n",
    "print(\"nue: \", nue_term)\n",
    "print(\"\")\n",
    "numu_term = (xsec_numu_errs*xsec_numu_errs)/(xsec_numu_events*xsec_numu_events)\n",
    "print(\"numu: \", numu_term)\n",
    "print(\"\")\n",
    "mix_1 = (xsec_botmix_errs*xsec_botmix_errs)/(xsec_numu_events*xsec_nue_events)\n",
    "print(\"mix: \", mix_1)\n",
    "print(\"\")\n",
    "mix_2 = (xsec_topmix_errs*xsec_topmix_errs)/(xsec_numu_events*xsec_nue_events)\n",
    "print(\"mix: \", mix_2)\n",
    "print(\"\")\n",
    "\n",
    "ratio_var_errs = ratio_sq*(nue_term + numu_term - mix_1 - mix_2)\n",
    "print(ratio_var_errs)\n",
    "xsec_ratio_errs = np.nan_to_num(np.sqrt(abs(ratio_var_errs)))\n",
    "print(\"Ratio errs: \", xsec_ratio_errs)"
   ]
  },
  {
   "cell_type": "markdown",
   "id": "64f9929b",
   "metadata": {},
   "source": [
    "print(xsec_nue_events)\n",
    "print(\"\")\n",
    "print(xsec_numu_events)\n",
    "print(\"\")\n",
    "print(xsec_nue_errs)\n",
    "print(\"\")\n",
    "print(xsec_numu_errs)"
   ]
  },
  {
   "cell_type": "markdown",
   "id": "6b108268",
   "metadata": {},
   "source": [
    "import random\n",
    "import numpy\n",
    "from matplotlib import pyplot\n",
    "\"\"\"\n",
    "bins = np.arange(0, 5.5, 0.5)\n",
    "count = np.arange(0.1, 5.1, 0.5)\n",
    "print(count)\n",
    "\n",
    "plt.ylim(0, 5E-39)\n",
    "\n",
    "plt.xlabel(\"Energy [GeV]\")\n",
    "plt.ylabel(\"xsec [cm^2]\")\n",
    "\n",
    "pyplot.hist(count, bins, weights=xsec_nue_events, alpha=0.5)\n",
    "#pyplot.legend(loc='upper right')\n",
    "pyplot.show()\n",
    "\"\"\"\n",
    "\n",
    "nue_fig = plt.figure(figsize=(8, 7))\n",
    "nue_gs = gridspec.GridSpec(2, 1, height_ratios=[2, 1])\n",
    "nue_ax1 = plt.subplot(nue_gs[0])\n",
    "nue_ax1.set_xlim([-1, 1])\n",
    "\n",
    "bins = np.arange(-1.0, 1.2, 0.2)\n",
    "bincenters = np.arange(-0.9, 1.1, 0.2)\n",
    "bin_edges = np.arange(-1.0, 1.2, 0.2)\n",
    "bin_size = [(bin_edges[i + 1] - bin_edges[i]) / 2\n",
    "            for i in range(len(bin_edges) - 1)]\n",
    "count = np.arange(-0.95, 1.05, 0.2)\n",
    "weights = []\n",
    "for i in range(len(count)):\n",
    "    weight = count[i]*xsec_nue_events[i]\n",
    "    weights.append(weight)\n",
    "\n",
    "sel = nue_ax1.hist(count, bins, color='deepskyblue', weights=xsec_nue_events)\n",
    "plt.ylim(0, 1E-39)\n",
    "nue_ax1.set_xlabel('cos(Lepton Angle)', fontsize=15)\n",
    "nue_ax1.set_ylabel('xsec [cm^2 / GeV / nucleon]', fontsize=15)\n",
    "nue_ax1.set_title(\"Unfolded Nue cos(Lepton Angle)\")\n",
    "\n",
    "lower_err = np.nan_to_num(xsec_nue_events-xsec_nue_errs)\n",
    "\n",
    "nue_ax1.bar(bincenters, xsec_nue_errs*2,width=[n*2 for n in bin_size],facecolor='tab:green',alpha=0.2,bottom=(lower_err))\n",
    "\n",
    "nuWro_xsec_nue_events = xsec_nue_events\n",
    "nuWro_xsec_nue_errs = xsec_nue_errs\n",
    "nuWro_lower_err = lower_err\n",
    "\n",
    "nue_fig.savefig(\"unfolded_nuWro_fakeData_MC_nue_angle_\"+ending+\".svg\",bbox_inches='tight' )"
   ]
  },
  {
   "cell_type": "markdown",
   "id": "252f47b4",
   "metadata": {},
   "source": [
    "import random\n",
    "import numpy\n",
    "from matplotlib import pyplot\n",
    "\n",
    "numu_fig = plt.figure(figsize=(8, 7))\n",
    "numu_gs = gridspec.GridSpec(2, 1, height_ratios=[2, 1])\n",
    "numu_ax1 = plt.subplot(numu_gs[0])\n",
    "numu_ax1.set_xlim([-1, 1])\n",
    "\n",
    "bins = np.arange(-1.0, 1.2, 0.2)\n",
    "bincenters = np.arange(-0.9, 1.1, 0.2)\n",
    "bin_edges = np.arange(-1.0, 1.2, 0.2)\n",
    "bin_size = [(bin_edges[i + 1] - bin_edges[i]) / 2\n",
    "            for i in range(len(bin_edges) - 1)]\n",
    "count = np.arange(-0.95, 1.05, 0.2)\n",
    "weights = []\n",
    "for i in range(len(count)):\n",
    "    weight = count[i]*xsec_numu_events[i]\n",
    "    weights.append(weight)\n",
    "\n",
    "sel = numu_ax1.hist(count, bins, color='deepskyblue', weights=xsec_numu_events)\n",
    "plt.ylim(0, 4E-40)\n",
    "numu_ax1.set_xlabel('cos(Lepton Angle)', fontsize=15)\n",
    "numu_ax1.set_ylabel('xsec [cm^2 / GeV / nucleon]', fontsize=15)\n",
    "numu_ax1.set_title(\"Unfolded Numu cos(Lepton Angle)\")\n",
    "\n",
    "lower_err = np.nan_to_num(xsec_numu_events-xsec_numu_errs)\n",
    "\n",
    "numu_ax1.bar(bincenters, xsec_numu_errs*2,width=[n*2 for n in bin_size],facecolor='tab:green',alpha=0.2,bottom=(lower_err))\n",
    "\n",
    "nuWro_xsec_numu_events = xsec_numu_events\n",
    "nuWro_xsec_numu_errs = xsec_numu_errs\n",
    "nuWro_lower_err_numu = lower_err\n",
    "\n",
    "numu_fig.savefig(\"unfolded_nuWro_fakeData_MC_numu_angle_\"+ending+\".svg\",bbox_inches='tight' )"
   ]
  },
  {
   "cell_type": "markdown",
   "id": "3fcd0604",
   "metadata": {},
   "source": [
    "import random\n",
    "import numpy\n",
    "from matplotlib import pyplot\n",
    "\n",
    "bins = np.arange(-1.0, 1.2, 0.2)\n",
    "count = np.arange(-0.95, 1.05, 0.2)\n",
    "#print(count)\n",
    "\n",
    "plt.ylim(0, 5)\n",
    "plt.xlabel(\"cos(Lepton Angle)\")\n",
    "plt.ylabel(\"xsec [cm^2 / GeV / nucleon]\")\n",
    "\n",
    "print(xsec_nue_events/xsec_numu_events)\n",
    "print(xsec_ratio_events)\n",
    "\n",
    "pyplot.hist(count, bins, weights=np.nan_to_num(xsec_nue_events/xsec_numu_events), alpha=0.5)\n",
    "pyplot.hist(count, bins, weights=xsec_ratio_events, alpha=0.5)\n",
    "\n",
    "#pyplot.legend(loc='upper right')\n",
    "pyplot.show()"
   ]
  },
  {
   "cell_type": "markdown",
   "id": "8102bf77",
   "metadata": {},
   "source": [
    "import random\n",
    "import numpy\n",
    "from matplotlib import pyplot\n",
    "\n",
    "\n",
    "ratio_fig = plt.figure(figsize=(8, 7))\n",
    "ratio_gs = gridspec.GridSpec(2, 1, height_ratios=[2, 1])\n",
    "ratio_ax1 = plt.subplot(ratio_gs[0])\n",
    "ratio_ax1.set_xlim([-1, 1])\n",
    "\n",
    "bins = np.arange(-1.0, 1.2, 0.2)\n",
    "bincenters = np.arange(-0.9, 1.1, 0.2)\n",
    "bin_edges = np.arange(-1.0, 1.2, 0.2)\n",
    "bin_size = [(bin_edges[i + 1] - bin_edges[i]) / 2\n",
    "            for i in range(len(bin_edges) - 1)]\n",
    "count = np.arange(-0.95, 1.05, 0.2)\n",
    "#print(len(count))\n",
    "#weights = []\n",
    "#for i in range(len(count)):\n",
    "#    weight = count[i]*xsec_ratio_events[i]\n",
    "#    weights.append(weight)\n",
    "#test_weights = [(random.random()/random.random() - 0.75) for x in range(len(count))]\n",
    "#print(count)\n",
    "#xsec_ratio_events[7] = 0\n",
    "#print(xsec_ratio_events)\n",
    "print(\"\")\n",
    "sel = ratio_ax1.hist(count, bins, color='deepskyblue', weights=xsec_ratio_events)  # , weights=xsec_ratio_events\n",
    "print(sel[0])\n",
    "\n",
    "plt.ylim(0, 6)\n",
    "ratio_ax1.set_xlabel('cos(Lepton Angle)', fontsize=15)\n",
    "ratio_ax1.set_ylabel('Ratio', fontsize=15)\n",
    "ratio_ax1.set_title(\"Unfolded Ratio cos(Lepton Angle)\")\n",
    "\n",
    "lower_err = np.nan_to_num(xsec_ratio_events-xsec_ratio_errs)\n",
    "\n",
    "ratio_ax1.bar(bincenters, xsec_ratio_errs*2,width=[n*2 for n in bin_size],facecolor='tab:green',alpha=0.2,bottom=(lower_err))\n",
    "\n",
    "nuWro_xsec_ratio_events = xsec_ratio_events\n",
    "nuWro_xsec_ratio_errs = xsec_ratio_errs\n",
    "nuWro_lower_err_ratio = lower_err\n",
    "\n",
    "ratio_fig.savefig(\"unfolded_nuWro_fakeData_MC_ratio_angle_\"+ending+\".svg\",bbox_inches='tight' )"
   ]
  },
  {
   "cell_type": "code",
   "execution_count": null,
   "id": "83c0ada2",
   "metadata": {},
   "outputs": [],
   "source": []
  },
  {
   "cell_type": "markdown",
   "id": "7a1981a2",
   "metadata": {},
   "source": [
    "## Now do the same with RUN1 genie unfolding - unneeded"
   ]
  },
  {
   "cell_type": "markdown",
   "id": "a26da3ee",
   "metadata": {},
   "source": [
    "with open('../blockwise/stv-analysis-new/blockwise_unsmeared_events_angle_MC_ONLY_weighted_recoCut_incErr_run1_'+ending+'.csv') as file:\n",
    "    content = file.readlines()\n",
    "events = content[0:]\n",
    "    \n",
    "for i in range(20):\n",
    "    events[i]=events[i].rstrip().rstrip(',')\n",
    "    events[i] = float(events[i])\n",
    "    \n",
    "print(\"Unsmeared events\")\n",
    "print(events)\n",
    "print(\"\")\n",
    "\n",
    "genie_events = events\n",
    "\n",
    "#------------------------------------------------------------------------------\n",
    "with open('../blockwise/stv-analysis-new/blockwise_unsmeared_AC_angle_MC_ONLY_weighted_recoCut_incErr_run1_'+ending+'.csv') as file:\n",
    "    content = file.readlines()\n",
    "AC = content[0:]\n",
    "    \n",
    "for i in range(400):\n",
    "    AC[i]=AC[i].rstrip().rstrip(',')\n",
    "    AC[i] = float(AC[i])\n",
    "    \n",
    "\n",
    "chunks = [AC[x:x+20] for x in range(0, len(AC), 20)]\n",
    "\n",
    "print(\"AC\")\n",
    "print(chunks)\n",
    "print(\"\")\n",
    "#---------------------------------------------------------------\n",
    "\n",
    "with open('nue_full_500_catsel_nopions_angleDiff_usingSelection_prior_true_signal_blockwise_recoCut_'+ending+'.csv') as file:\n",
    "    content = file.readlines()\n",
    "prior_true = content[0:]\n",
    "    \n",
    "for i in range(20):\n",
    "    prior_true[i]=prior_true[i].rstrip().rstrip(',')\n",
    "    prior_true[i] = float(prior_true[i])\n",
    "    \n",
    "print(\"Prior Truth: \")\n",
    "print(prior_true)\n",
    "print(\"\")\n",
    "\n",
    "#----------------------------------------------------------------\n",
    "with open('../blockwise/stv-analysis-new/blockwise_unsmeared_errors_angle_MC_ONLY_weighted_recoCut_incErr_run1_'+ending+'.csv') as file:\n",
    "    content = file.readlines()\n",
    "errs = content[0:]\n",
    "    \n",
    "for i in range(20):\n",
    "    errs[i]=errs[i].rstrip().rstrip(',')\n",
    "    errs[i] = float(errs[i])\n",
    "    \n",
    "print(\"Errors: \")\n",
    "print(errs)\n",
    "print(\"\")\n",
    "print(\"################################################################\")\n",
    "print(\"\")\n",
    "\n",
    "genie_errors = errs\n",
    "\n",
    "#----------------------------------------------------------------\n",
    "with open('../blockwise/stv-analysis-new/blockwise_unsmeared_cov_matrix_angle_MC_ONLY_weighted_recoCut_incErr_run1_'+ending+'.csv') as file:\n",
    "    content = file.readlines()\n",
    "cov = content[0:]\n",
    "    \n",
    "for i in range(400):\n",
    "    cov[i]=cov[i].rstrip().rstrip(',')\n",
    "    cov[i] = float(cov[i])\n",
    "    \n",
    "\n",
    "chunks_cov = [cov[x:x+20] for x in range(0, len(cov), 20)]\n",
    "\n",
    "print(\"cov\")\n",
    "print(chunks_cov)\n",
    "print(\"\")"
   ]
  },
  {
   "cell_type": "markdown",
   "id": "acae384a",
   "metadata": {},
   "source": [
    "\n",
    "made_data_sig = np.dot(prior_true, chunks)\n",
    "print(\"Prior_Truth x AC: \")\n",
    "print(made_data_sig)\n",
    "print(\"\")\n",
    "print(\"\")\n",
    "print(\"Unfolding Done with MC Data Signal: \")\n",
    "print(events)\n",
    "print(\"\")\n",
    "\n",
    "diff = made_data_sig - events\n",
    "print(\"\")\n",
    "print(\"Difference\")\n",
    "print(diff)\n",
    "\n",
    "#for i in made_data_sig:\n",
    "#    print(i)\n",
    "\n",
    "print(\"\")\n",
    "diffasfrac = np.nan_to_num(diff/made_data_sig)\n",
    "print(diffasfrac*100)"
   ]
  },
  {
   "cell_type": "markdown",
   "id": "0b0a3531",
   "metadata": {},
   "source": [
    "Convert to xsec units"
   ]
  },
  {
   "cell_type": "markdown",
   "id": "2ed940bd",
   "metadata": {},
   "source": [
    "###################\n",
    "### #N argon target calculation\n",
    "###################\n",
    "\n",
    "density = 1.3836  #g/cm^3\n",
    "volume = (246-10)*(106-(-106))*(1026-10)         #cm^3\n",
    "NA = 6.022E23   #atoms/mol\n",
    "Nnuc = 40       #nucleans / atom\n",
    "mmol = 39.95    #g/mol\n",
    "\n",
    "Narg = (density * volume * NA * Nnuc)/mmol   #nucleons\n",
    "\n",
    "print(\"number of argon targets = \", Narg)"
   ]
  },
  {
   "cell_type": "markdown",
   "id": "46665f59",
   "metadata": {},
   "source": [
    "#Need R1 AND R3\n",
    "\n",
    "####NUE\n",
    "POT_R1 = 2.0E20 \n",
    "int_flux_per_POT_R1 = 1.1864530596659353e-11\n",
    "POT_R3 = 5.014E20\n",
    "int_flux_per_POT_R3 = 8.628376225834778e-12\n",
    "\n",
    "int_flux = (int_flux_per_POT_R1*POT_R1) + (int_flux_per_POT_R3*POT_R3)    #cm^-2\n",
    "\n",
    "print(\"Nue integrated flux: \", int_flux)\n",
    "\n",
    "####NUMU\n",
    "\n",
    "POT_numu_R1 = 2.0E20 \n",
    "int_flux_per_POT_numu_R1 = 5.455771063338641e-10\n",
    "POT_numu_R3 = 5.014E20 \n",
    "int_flux_per_POT_numu_R3 = 3.6729003479115414e-10\n",
    "\n",
    "int_flux_numu = (int_flux_per_POT_numu_R1*POT_numu_R1) + (int_flux_per_POT_numu_R3*POT_numu_R3)    #cm^-2\n",
    "\n",
    "print(\"Numu integrated flux: \", int_flux_numu)"
   ]
  },
  {
   "cell_type": "markdown",
   "id": "6c429b12",
   "metadata": {},
   "source": [
    "nue_events = np.array(events[0:10])\n",
    "numu_events = np.array(events[10:20])\n",
    "\n",
    "nue_errs = np.array(errs[0:10])\n",
    "numu_errs = np.array(errs[10:20])"
   ]
  },
  {
   "cell_type": "markdown",
   "id": "ead4bc15",
   "metadata": {},
   "source": [
    "#number of events\n",
    "\n",
    "xsec_nue_events = nue_events / (int_flux * Narg )     \n",
    "xsec_numu_events = numu_events / (int_flux_numu * Narg )     \n"
   ]
  },
  {
   "cell_type": "markdown",
   "id": "872883f8",
   "metadata": {},
   "source": [
    "#Need the four sections of the cov matrix\n",
    "\n",
    "blockwise_errs = chunks_cov\n",
    "#print(blockwise_errs)\n",
    "#print(\"\")\n",
    "\n",
    "#NUE ONLY\n",
    "bot_left = blockwise_errs[:10]\n",
    "for i in range(len(bot_left)):\n",
    "    bot_left[i] = bot_left[i][:10]\n",
    "    \n",
    "nue_errs_bot = np.array(bot_left)/((int_flux*int_flux)*(Narg*Narg))\n",
    "xsec_nue_errs = (np.sqrt(np.diag(nue_errs_bot)))\n",
    "    \n",
    "#MIX\n",
    "bot_right = blockwise_errs[:10]\n",
    "for i in range(len(bot_right)):\n",
    "    bot_right[i] = bot_right[i][10:]\n",
    "    \n",
    "mix_errs_bot = np.array(bot_right)/((int_flux*int_flux_numu)*(Narg*Narg))\n",
    "xsec_botmix_errs = np.nan_to_num(np.sqrt(np.diag(mix_errs_bot)))\n",
    "\n",
    "    \n",
    "#MIX\n",
    "top_left = blockwise_errs[10:]\n",
    "for i in range(len(top_left)):\n",
    "    top_left[i] = top_left[i][:10]\n",
    "    \n",
    "mix_errs_top = np.array(top_left)/((int_flux*int_flux_numu)*(Narg*Narg))\n",
    "xsec_topmix_errs = np.nan_to_num(np.sqrt(np.diag(mix_errs_top)))\n",
    "\n",
    "#NUMU ONLY\n",
    "top_right = blockwise_errs[10:]\n",
    "for i in range(len(top_right)):\n",
    "    top_right[i] = top_right[i][10:]\n",
    "    \n",
    "numu_errs_top = np.array(top_right)/((int_flux_numu*int_flux_numu)*(Narg*Narg))\n",
    "xsec_numu_errs = (np.sqrt(np.diag(numu_errs_top)))\n"
   ]
  },
  {
   "cell_type": "markdown",
   "id": "bdb08c61",
   "metadata": {},
   "source": [
    "### Calculate ratio uncertainties\n",
    "\n",
    "xsec_ratio_events = np.nan_to_num(xsec_nue_events/xsec_numu_events)\n",
    "print(\"Ratio event counts: \", xsec_ratio_events)\n",
    "print(\"\")\n",
    "\n",
    "#####################\n",
    "\n",
    "ratio_sq = (xsec_nue_events/xsec_numu_events)*(xsec_nue_events/xsec_numu_events)\n",
    "print(\"ratio_sq: \", ratio_sq)\n",
    "print(\"\")\n",
    "nue_term = (xsec_nue_errs*xsec_nue_errs)/(xsec_nue_events*xsec_nue_events)\n",
    "print(\"nue: \", nue_term)\n",
    "print(\"\")\n",
    "numu_term = (xsec_numu_errs*xsec_numu_errs)/(xsec_numu_events*xsec_numu_events)\n",
    "print(\"numu: \", numu_term)\n",
    "print(\"\")\n",
    "mix_1 = (xsec_botmix_errs*xsec_botmix_errs)/(xsec_numu_events*xsec_nue_events)\n",
    "print(\"mix: \", mix_1)\n",
    "print(\"\")\n",
    "mix_2 = (xsec_topmix_errs*xsec_topmix_errs)/(xsec_numu_events*xsec_nue_events)\n",
    "print(\"mix: \", mix_2)\n",
    "print(\"\")\n",
    "\n",
    "ratio_var_errs = ratio_sq*(nue_term + numu_term - mix_1 - mix_2)\n",
    "print(ratio_var_errs)\n",
    "xsec_ratio_errs = np.nan_to_num(np.sqrt(abs(ratio_var_errs)))\n",
    "print(\"Ratio errs: \", xsec_ratio_errs)"
   ]
  },
  {
   "cell_type": "markdown",
   "id": "134eda61",
   "metadata": {},
   "source": [
    "import random\n",
    "import numpy\n",
    "from matplotlib import pyplot\n",
    "\"\"\"\n",
    "bins = np.arange(0, 5.5, 0.5)\n",
    "count = np.arange(0.1, 5.1, 0.5)\n",
    "print(count)\n",
    "\n",
    "plt.ylim(0, 5E-39)\n",
    "\n",
    "plt.xlabel(\"Energy [GeV]\")\n",
    "plt.ylabel(\"xsec [cm^2]\")\n",
    "\n",
    "pyplot.hist(count, bins, weights=xsec_nue_events, alpha=0.5)\n",
    "#pyplot.legend(loc='upper right')\n",
    "pyplot.show()\n",
    "\"\"\"\n",
    "\n",
    "nue_fig = plt.figure(figsize=(8, 7))\n",
    "nue_gs = gridspec.GridSpec(2, 1, height_ratios=[2, 1])\n",
    "nue_ax1 = plt.subplot(nue_gs[0])\n",
    "nue_ax1.set_xlim([-1, 1])\n",
    "\n",
    "bins = np.arange(-1.0, 1.2, 0.2)\n",
    "bincenters = np.arange(-0.9, 1.1, 0.2)\n",
    "bin_edges = np.arange(-1.0, 1.2, 0.2)\n",
    "bin_size = [(bin_edges[i + 1] - bin_edges[i]) / 2\n",
    "            for i in range(len(bin_edges) - 1)]\n",
    "count = np.arange(-0.95, 1.05, 0.2)\n",
    "weights = []\n",
    "for i in range(len(count)):\n",
    "    weight = count[i]*xsec_nue_events[i]\n",
    "    weights.append(weight)\n",
    "\n",
    "sel = nue_ax1.hist(count, bins, color='deepskyblue', weights=xsec_nue_events)\n",
    "plt.ylim(0, 1E-39)\n",
    "nue_ax1.set_xlabel('cos(Lepton Angle)', fontsize=15)\n",
    "nue_ax1.set_ylabel('xsec [cm^2 / GeV / nucleon]', fontsize=15)\n",
    "nue_ax1.set_title(\"Unfolded Nue cos(Lepton Angle)\")\n",
    "\n",
    "lower_err = np.nan_to_num(xsec_nue_events-xsec_nue_errs)\n",
    "\n",
    "nue_ax1.bar(bincenters, xsec_nue_errs*2,width=[n*2 for n in bin_size],facecolor='tab:green',alpha=0.2,bottom=(lower_err))\n",
    "\n",
    "genie_xsec_nue_events = xsec_nue_events\n",
    "genie_xsec_nue_errs = xsec_nue_errs\n",
    "genie_lower_err = lower_err\n",
    "\n",
    "nue_fig.savefig(\"unfolded_run1_MC_nue_angle_\"+ending+\".svg\",bbox_inches='tight' )"
   ]
  },
  {
   "cell_type": "markdown",
   "id": "12acd9b8",
   "metadata": {},
   "source": [
    "import random\n",
    "import numpy\n",
    "from matplotlib import pyplot\n",
    "\n",
    "numu_fig = plt.figure(figsize=(8, 7))\n",
    "numu_gs = gridspec.GridSpec(2, 1, height_ratios=[2, 1])\n",
    "numu_ax1 = plt.subplot(numu_gs[0])\n",
    "numu_ax1.set_xlim([-1, 1])\n",
    "\n",
    "bins = np.arange(-1.0, 1.2, 0.2)\n",
    "bincenters = np.arange(-0.9, 1.1, 0.2)\n",
    "bin_edges = np.arange(-1.0, 1.2, 0.2)\n",
    "bin_size = [(bin_edges[i + 1] - bin_edges[i]) / 2\n",
    "            for i in range(len(bin_edges) - 1)]\n",
    "count = np.arange(-0.95, 1.05, 0.2)\n",
    "weights = []\n",
    "for i in range(len(count)):\n",
    "    weight = count[i]*xsec_numu_events[i]\n",
    "    weights.append(weight)\n",
    "\n",
    "sel = numu_ax1.hist(count, bins, color='deepskyblue', weights=xsec_numu_events)\n",
    "plt.ylim(0, 4E-40)\n",
    "numu_ax1.set_xlabel('cos(Lepton Angle)', fontsize=15)\n",
    "numu_ax1.set_ylabel('xsec [cm^2 / GeV / nucleon]', fontsize=15)\n",
    "numu_ax1.set_title(\"Unfolded Numu cos(Lepton Angle)\")\n",
    "\n",
    "lower_err = np.nan_to_num(xsec_numu_events-xsec_numu_errs)\n",
    "\n",
    "numu_ax1.bar(bincenters, xsec_numu_errs*2,width=[n*2 for n in bin_size],facecolor='tab:green',alpha=0.2,bottom=(lower_err))\n",
    "\n",
    "genie_xsec_numu_events = xsec_numu_events\n",
    "genie_xsec_numu_errs = xsec_numu_errs\n",
    "genie_lower_err_numu = lower_err\n",
    "\n",
    "numu_fig.savefig(\"unfolded_run1_MC_numu_angle_\"+ending+\".svg\",bbox_inches='tight' )"
   ]
  },
  {
   "cell_type": "markdown",
   "id": "3c6007f4",
   "metadata": {},
   "source": [
    "import random\n",
    "import numpy\n",
    "from matplotlib import pyplot\n",
    "\n",
    "bins = np.arange(-1.0, 1.2, 0.2)\n",
    "count = np.arange(-0.95, 1.05, 0.2)\n",
    "#print(count)\n",
    "\n",
    "plt.ylim(0, 5)\n",
    "plt.xlabel(\"cos(Lepton Angle)\")\n",
    "plt.ylabel(\"xsec [cm^2 / GeV / nucleon]\")\n",
    "\n",
    "print(xsec_nue_events/xsec_numu_events)\n",
    "print(xsec_ratio_events)\n",
    "\n",
    "pyplot.hist(count, bins, weights=np.nan_to_num(xsec_nue_events/xsec_numu_events), alpha=0.5)\n",
    "pyplot.hist(count, bins, weights=xsec_ratio_events, alpha=0.5)\n",
    "\n",
    "#pyplot.legend(loc='upper right')\n",
    "pyplot.show()"
   ]
  },
  {
   "cell_type": "markdown",
   "id": "d514d5be",
   "metadata": {},
   "source": [
    "import random\n",
    "import numpy\n",
    "from matplotlib import pyplot\n",
    "\n",
    "\n",
    "ratio_fig = plt.figure(figsize=(8, 7))\n",
    "ratio_gs = gridspec.GridSpec(2, 1, height_ratios=[2, 1])\n",
    "ratio_ax1 = plt.subplot(ratio_gs[0])\n",
    "ratio_ax1.set_xlim([-1, 1])\n",
    "\n",
    "bins = np.arange(-1.0, 1.2, 0.2)\n",
    "bincenters = np.arange(-0.9, 1.1, 0.2)\n",
    "bin_edges = np.arange(-1.0, 1.2, 0.2)\n",
    "bin_size = [(bin_edges[i + 1] - bin_edges[i]) / 2\n",
    "            for i in range(len(bin_edges) - 1)]\n",
    "count = np.arange(-0.95, 1.05, 0.2)\n",
    "#print(len(count))\n",
    "#weights = []\n",
    "#for i in range(len(count)):\n",
    "#    weight = count[i]*xsec_ratio_events[i]\n",
    "#    weights.append(weight)\n",
    "#test_weights = [(random.random()/random.random() - 0.75) for x in range(len(count))]\n",
    "#print(count)\n",
    "#xsec_ratio_events[7] = 0\n",
    "#print(xsec_ratio_events)\n",
    "print(\"\")\n",
    "sel = ratio_ax1.hist(count, bins, color='deepskyblue', weights=xsec_ratio_events)  # , weights=xsec_ratio_events\n",
    "print(sel[0])\n",
    "\n",
    "plt.ylim(0, 6)\n",
    "ratio_ax1.set_xlabel('cos(Lepton Angle)', fontsize=15)\n",
    "ratio_ax1.set_ylabel('Ratio', fontsize=15)\n",
    "ratio_ax1.set_title(\"Unfolded Ratio cos(Lepton Angle)\")\n",
    "\n",
    "lower_err = np.nan_to_num(xsec_ratio_events-xsec_ratio_errs)\n",
    "\n",
    "ratio_ax1.bar(bincenters, xsec_ratio_errs*2,width=[n*2 for n in bin_size],facecolor='tab:green',alpha=0.2,bottom=(lower_err))\n",
    "\n",
    "genie_xsec_ratio_events = xsec_ratio_events\n",
    "genie_xsec_ratio_errs = xsec_ratio_errs\n",
    "genie_lower_err_ratio = lower_err\n",
    "\n",
    "ratio_fig.savefig(\"unfolded_run1_MC_ratio_angle_\"+ending+\".svg\",bbox_inches='tight' )"
   ]
  },
  {
   "cell_type": "markdown",
   "id": "b81f4e4a",
   "metadata": {},
   "source": [
    "## Now Compare\n",
    "\n",
    "The genie unfolded spectra should be within the uncertainties of the nuWro unfolded spectra"
   ]
  },
  {
   "cell_type": "markdown",
   "id": "e3c24c05",
   "metadata": {},
   "source": [
    "###############\n",
    "###NUE######\n",
    "#############\n",
    "\n",
    "errors_fig = plt.figure(figsize=(8, 7))\n",
    "errors_gs = gridspec.GridSpec(2, 1, height_ratios=[2, 1])\n",
    "errors_ax1 = plt.subplot(errors_gs[0])\n",
    "\n",
    "\n",
    "bins = np.arange(-1, 1.2, 0.2)\n",
    "count = [-0.9, -0.7, -0.5, -0.3, -0.1, 0.1, 0.3, 0.5, 0.7, 0.9]\n",
    "\n",
    "#print(bincenters)\n",
    "sel = errors_ax1.hist(count, bins, color='deepskyblue', weights=nuWro_xsec_nue_events, alpha = 0.4, label=\"nuWro\")  # , weights=xsec_ratio_events\n",
    "\n",
    "errors = errors_ax1.bar(bincenters, nuWro_xsec_nue_errs*2,width=[n*2 for n in bin_size],facecolor='tab:green',alpha=0.2,bottom=(nuWro_lower_err))\n",
    "\n",
    "#sel_nue = errors_ax1.hist(count, bins, edgecolor='blue', facecolor='None', weights=nuWro_xsec_nue_events, label='nuWro')\n",
    "sel_numu = errors_ax1.hist(count, bins, edgecolor='red', facecolor='None', weights=genie_xsec_nue_events, label='genie')\n",
    "\n",
    "errors = errors_ax1.bar(bincenters, genie_xsec_nue_errs*2,width=[n*2 for n in bin_size],facecolor='tab:orange',alpha=0.2,bottom=(genie_lower_err))\n",
    "\n",
    "\n",
    "errors_ax1.set_ylabel('xsec [cm^2 / GeV / nucleon]', fontsize=15)\n",
    "errors_ax1.set_xlabel('cos(True Lepton Angle)', fontsize=15)\n",
    "errors_ax1.set_title(\"Unfolded Comparison\")\n",
    "leg = errors_ax1.legend()\n",
    "\n",
    "errors_ax1.set_ylim([0, 8e-40])"
   ]
  },
  {
   "cell_type": "markdown",
   "id": "21fc5a42",
   "metadata": {},
   "source": [
    "for i in np.arange(len(genie_xsec_nue_events)):\n",
    "    if ((genie_xsec_nue_events[i] < nuWro_xsec_nue_events[i] + nuWro_xsec_nue_errs[i]) and (genie_xsec_nue_events[i] > nuWro_xsec_nue_events[i] - nuWro_xsec_nue_errs[i])):\n",
    "        print(\"Inside\")\n",
    "        print(\"\")\n",
    "    else:\n",
    "        print(\"outside\")\n",
    "        print(\"value is (genie) = \", genie_xsec_nue_events[i])\n",
    "        print(\"top of err = \", nuWro_xsec_nue_events[i] + nuWro_xsec_nue_errs[i])\n",
    "        print(\"bot of err = \", nuWro_xsec_nue_events[i] - nuWro_xsec_nue_errs[i])\n",
    "        print(\"\")"
   ]
  },
  {
   "cell_type": "markdown",
   "id": "28c9f5e2",
   "metadata": {},
   "source": [
    "for i in np.arange(len(nuWro_xsec_nue_events)):\n",
    "    if ((nuWro_xsec_nue_events[i] < genie_xsec_nue_events[i] + genie_xsec_nue_errs[i]) and (nuWro_xsec_nue_events[i] > genie_xsec_nue_events[i] - genie_xsec_nue_errs[i])):\n",
    "        print(\"Inside\")\n",
    "        print(\"\")\n",
    "    else:\n",
    "        print(\"outside\")\n",
    "        print(\"value is (genie) = \", nuWro_xsec_nue_events[i])\n",
    "        print(\"top of err = \", genie_xsec_nue_events[i] + genie_xsec_nue_errs[i])\n",
    "        print(\"bot of err = \", genie_xsec_nue_events[i] - genie_xsec_nue_errs[i])\n",
    "        print(\"\")"
   ]
  },
  {
   "cell_type": "markdown",
   "id": "7819a9bd",
   "metadata": {},
   "source": [
    "diff = 7.723562394053671e-41 - 7.480422350351412e-41\n",
    "\n",
    "fractional_diff = diff/7.480422350351412e-41\n",
    "\n",
    "print(fractional_diff)"
   ]
  },
  {
   "cell_type": "markdown",
   "id": "a559af0c",
   "metadata": {},
   "source": [
    "###############\n",
    "###NUMU######\n",
    "#############\n",
    "\n",
    "errors_fig = plt.figure(figsize=(8, 7))\n",
    "errors_gs = gridspec.GridSpec(2, 1, height_ratios=[2, 1])\n",
    "errors_ax1 = plt.subplot(errors_gs[0])\n",
    "\n",
    "\n",
    "bins = np.arange(-1, 1.2, 0.2)\n",
    "count = [-0.9, -0.7, -0.5, -0.3, -0.1, 0.1, 0.3, 0.5, 0.7, 0.9]\n",
    "\n",
    "#print(bincenters)\n",
    "sel = errors_ax1.hist(count, bins, color='deepskyblue', weights=nuWro_xsec_numu_events, alpha = 0.4, label=\"nuWro\")  # , weights=xsec_ratio_events\n",
    "\n",
    "errors = errors_ax1.bar(bincenters, nuWro_xsec_numu_errs*2,width=[n*2 for n in bin_size],facecolor='tab:green',alpha=0.2,bottom=(nuWro_lower_err_numu))\n",
    "\n",
    "#sel_nue = errors_ax1.hist(count, bins, edgecolor='blue', facecolor='None', weights=nuWro_xsec_nue_events, label='nuWro')\n",
    "sel_numu = errors_ax1.hist(count, bins, edgecolor='red', facecolor='None', weights=genie_xsec_numu_events, label='genie')\n",
    "\n",
    "errors = errors_ax1.bar(bincenters, genie_xsec_numu_errs*2,width=[n*2 for n in bin_size],facecolor='tab:orange',alpha=0.2,bottom=(genie_lower_err_numu))\n",
    "\n",
    "print(genie_xsec_numu_errs)\n",
    "print(nuWro_xsec_numu_errs)\n",
    "\n",
    "errors_ax1.set_ylabel('xsec [cm^2 / GeV / nucleon]', fontsize=15)\n",
    "errors_ax1.set_xlabel('cos(True Lepton Angle)', fontsize=15)\n",
    "errors_ax1.set_title(\"Unfolded Comparison\")\n",
    "leg = errors_ax1.legend()\n",
    "\n",
    "errors_ax1.set_ylim([0, 1e-40])"
   ]
  },
  {
   "cell_type": "markdown",
   "id": "a018770a",
   "metadata": {},
   "source": [
    "for i in np.arange(len(genie_xsec_numu_events)):\n",
    "    if ((genie_xsec_numu_events[i] < nuWro_xsec_numu_events[i] + nuWro_xsec_numu_errs[i]) and (genie_xsec_numu_events[i] > nuWro_xsec_numu_events[i] - nuWro_xsec_numu_errs[i])):\n",
    "        print(\"Inside\")\n",
    "        print(\"\")\n",
    "    else:\n",
    "        print(\"outside\")\n",
    "        print(\"value is (genie) = \", genie_xsec_numu_events[i])\n",
    "        print(\"top of err = \", nuWro_xsec_numu_events[i] + nuWro_xsec_numu_errs[i])\n",
    "        print(\"bot of err = \", nuWro_xsec_numu_events[i] - nuWro_xsec_numu_errs[i])\n",
    "        print(\"\")"
   ]
  },
  {
   "cell_type": "markdown",
   "id": "c686e4b0",
   "metadata": {},
   "source": [
    "###############\n",
    "###RATIO######\n",
    "#############\n",
    "\n",
    "errors_fig = plt.figure(figsize=(8, 7))\n",
    "errors_gs = gridspec.GridSpec(2, 1, height_ratios=[2, 1])\n",
    "errors_ax1 = plt.subplot(errors_gs[0])\n",
    "\n",
    "\n",
    "bins = np.arange(-1, 1.2, 0.2)\n",
    "count = [-0.9, -0.7, -0.5, -0.3, -0.1, 0.1, 0.3, 0.5, 0.7, 0.9]\n",
    "\n",
    "#print(bincenters)\n",
    "sel = errors_ax1.hist(count, bins, color='deepskyblue', weights=nuWro_xsec_ratio_events, alpha = 0.4, label=\"nuWro\")  # , weights=xsec_ratio_events\n",
    "\n",
    "errors = errors_ax1.bar(bincenters, nuWro_xsec_ratio_errs*2,width=[n*2 for n in bin_size],facecolor='tab:green',alpha=0.2,bottom=(nuWro_lower_err_ratio))\n",
    "\n",
    "\n",
    "\n",
    "#sel_nue = errors_ax1.hist(count, bins, edgecolor='blue', facecolor='None', weights=nuWro_xsec_nue_events, label='nuWro')\n",
    "sel_numu = errors_ax1.hist(count, bins, edgecolor='red', facecolor='None', weights=genie_xsec_ratio_events, label='genie')\n",
    "\n",
    "errors = errors_ax1.bar(bincenters, genie_xsec_ratio_errs*2,width=[n*2 for n in bin_size],facecolor='tab:orange',alpha=0.2,bottom=(genie_lower_err_ratio))\n",
    "\n",
    "\n",
    "errors_ax1.set_ylabel('xsec [cm^2 / GeV / nucleon]', fontsize=15)\n",
    "errors_ax1.set_xlabel('cos(True Lepton Angle)', fontsize=15)\n",
    "errors_ax1.set_title(\"Unfolded Comparison\")\n",
    "leg = errors_ax1.legend()\n",
    "\n",
    "#errors_ax1.set_ylim([0, 5e-40])"
   ]
  },
  {
   "cell_type": "markdown",
   "id": "62ad689a",
   "metadata": {},
   "source": [
    "for i in np.arange(len(genie_xsec_ratio_events)):\n",
    "    if ((genie_xsec_ratio_events[i] < nuWro_xsec_ratio_events[i] + nuWro_xsec_ratio_errs[i]) and (genie_xsec_ratio_events[i] > nuWro_xsec_ratio_events[i] - nuWro_xsec_ratio_errs[i])):\n",
    "        print(\"Inside\")\n",
    "        print(\"\")\n",
    "    else:\n",
    "        print(\"outside\")\n",
    "        print(\"value is (genie) = \", genie_xsec_ratio_events[i])\n",
    "        print(\"top of err = \", nuWro_xsec_ratio_events[i] + nuWro_xsec_ratio_errs[i])\n",
    "        print(\"bot of err = \", nuWro_xsec_ratio_events[i] - nuWro_xsec_ratio_errs[i])\n",
    "        print(\"\")"
   ]
  },
  {
   "cell_type": "markdown",
   "id": "9de93c27",
   "metadata": {},
   "source": [
    "## Try without xsec units "
   ]
  },
  {
   "cell_type": "markdown",
   "id": "360d03ef",
   "metadata": {},
   "source": [
    "print(genie_events)\n",
    "print(genie_errors)\n",
    "print(\"\")\n",
    "print(nuWro_events)\n",
    "print(nuWro_errs)"
   ]
  },
  {
   "cell_type": "markdown",
   "id": "aaf0b337",
   "metadata": {},
   "source": [
    "###############\n",
    "###NUE######\n",
    "#############\n",
    "\n",
    "nue_unf_fig = plt.figure(figsize=(8, 7))\n",
    "nue_unf_gs = gridspec.GridSpec(2, 1, height_ratios=[2, 1])\n",
    "nue_unf_ax1 = plt.subplot(nue_unf_gs[0])\n",
    "\n",
    "\n",
    "#bins = np.arange(-1, 1.2, 0.2)\n",
    "#count = [-0.9, -0.7, -0.5, -0.3, -0.1, 0.1, 0.3, 0.5, 0.7, 0.9]\n",
    "\n",
    "bins = np.arange(0, 21, 1)\n",
    "count = np.arange(0.0, 20.0, 1)\n",
    "bincenters = np.arange(0.5, 20.5, 1)\n",
    "bin_size = [0.5]*20\n",
    "\n",
    "print(np.array(nuWro_events) - np.array(nuWro_errs))\n",
    "\n",
    "#print(bincenters)\n",
    "sel = nue_unf_ax1.hist(count, bins, color='deepskyblue', weights=nuWro_events, alpha = 0.4, label=\"nuWro\")  # , weights=xsec_ratio_events\n",
    "\n",
    "errors = nue_unf_ax1.bar(bincenters, np.array(nuWro_errs)*2,width=[n*2 for n in bin_size],facecolor='tab:green',alpha=0.2,bottom=(np.array(nuWro_events) - np.array(nuWro_errs)))\n",
    "\n",
    "#sel_nue = errors_ax1.hist(count, bins, edgecolor='blue', facecolor='None', weights=nuWro_xsec_nue_events, label='nuWro')\n",
    "sel_numu = nue_unf_ax1.hist(count, bins, edgecolor='red', facecolor='None', weights=genie_events, label='genie')\n",
    "\n",
    "errors = nue_unf_ax1.bar(bincenters, np.array(genie_errors)*2,width=[n*2 for n in bin_size],facecolor='tab:orange',alpha=0.2,bottom=(np.array(genie_events) - np.array(genie_errors)))\n",
    "\n",
    "\n",
    "nue_unf_ax1.set_ylabel('count', fontsize=15)\n",
    "nue_unf_ax1.set_xlabel('bins', fontsize=15)\n",
    "nue_unf_ax1.set_title(\"Unfolded Comparison\")\n",
    "leg = nue_unf_ax1.legend()\n",
    "\n",
    "nue_unf_ax1.set_ylim([150, 1500])"
   ]
  },
  {
   "cell_type": "markdown",
   "id": "bbdfae62",
   "metadata": {},
   "source": [
    "## Actual comparison needed\n",
    "\n",
    "Need to compare the unfolded signal w/err to the nuWro true selected signal x Ac"
   ]
  },
  {
   "cell_type": "code",
   "execution_count": 12,
   "id": "04f5f3b2",
   "metadata": {},
   "outputs": [
    {
     "name": "stdout",
     "output_type": "stream",
     "text": [
      "[91.6082, 227.651, 194.318, 127.455, 89.8899, 56.8666, 35.5337, 102.239, 2938.81, 4839.75, 2880.38, 2160.13, 1729.8, 1036.59, -128.348, 2415.1]\n",
      "[102.214, 58.7015, 57.1564, 48.2566, 38.7099, 19.233, 17.6327, 30.8849, 852.775, 1208.14, 1371.68, 898.777, 428.061, 446.889, 1250.59, 2706.42]\n"
     ]
    }
   ],
   "source": [
    "print(nuWro_events)\n",
    "print(nuWro_errs)"
   ]
  },
  {
   "cell_type": "code",
   "execution_count": 13,
   "id": "82ea3ff2",
   "metadata": {},
   "outputs": [
    {
     "data": {
      "image/png": "[encoded data removed]",
      "text/plain": [
       "<Figure size 576x504 with 1 Axes>"
      ]
     },
     "metadata": {
      "needs_background": "light"
     },
     "output_type": "display_data"
    }
   ],
   "source": [
    "###############\n",
    "###BOTH######\n",
    "#############\n",
    "\n",
    "nue_unf_fig = plt.figure(figsize=(8, 7))\n",
    "nue_unf_gs = gridspec.GridSpec(2, 1, height_ratios=[2, 1])\n",
    "nue_unf_ax1 = plt.subplot(nue_unf_gs[0])\n",
    "\n",
    "\n",
    "#bins = np.arange(-1, 1.2, 0.2)\n",
    "#count = [-0.9, -0.7, -0.5, -0.3, -0.1, 0.1, 0.3, 0.5, 0.7, 0.9]\n",
    "\n",
    "bins = np.arange(0, 17, 1)\n",
    "count = np.arange(0.0, 16.0, 1)\n",
    "bincenters = np.arange(0.5, 16.5, 1)\n",
    "bin_size = [0.5]*16\n",
    "\n",
    "#print(np.array(nuWro_events) - np.array(nuWro_errs))\n",
    "\n",
    "#print(bincenters)\n",
    "sel = nue_unf_ax1.hist(count, bins, color='deepskyblue', weights=nuWro_events, alpha = 0.4, label=\"Unfolded noTune\")  # , weights=xsec_ratio_events\n",
    "\n",
    "errors = nue_unf_ax1.bar(bincenters, np.array(nuWro_errs)*2,width=[n*2 for n in bin_size],facecolor='tab:green',alpha=0.2,bottom=(np.array(nuWro_events) - np.array(nuWro_errs)))\n",
    "\n",
    "\n",
    "nue_unf_ax1.set_ylabel('count', fontsize=15)\n",
    "nue_unf_ax1.set_xlabel('bins', fontsize=15)\n",
    "nue_unf_ax1.set_title(\"Unfolded Comparison\")\n",
    "leg = nue_unf_ax1.legend()\n",
    "\n",
    "#nue_unf_ax1.set_ylim([150, 1500])"
   ]
  },
  {
   "cell_type": "code",
   "execution_count": 14,
   "id": "9050417d",
   "metadata": {},
   "outputs": [
    {
     "name": "stdout",
     "output_type": "stream",
     "text": [
      "[103.93385234 284.32632439 216.10084329 147.93813325  96.59156144\n",
      "  64.73503667  45.40139941 120.86570296]\n",
      "\n",
      "[3072.95970429 5787.7490293  3847.93907381 2661.74579941 1967.36714644\n",
      " 1354.48190109  899.59219738 3214.93352203]\n"
     ]
    }
   ],
   "source": [
    "ending = \"Dec19_noTune\"\n",
    "\n",
    "nue_nuWro_true = pd.read_csv(\"nue_full_500_catsel_nopions_leptonMom_usingSelection_prior_true_signal_noTune_recoCut_comb_\"+ending+\".csv\", header=None)\n",
    "\n",
    "nue_nuWro_true = nue_nuWro_true.values[:, 0]\n",
    "print(nue_nuWro_true)\n",
    "print(\"\")\n",
    "#########################################\n",
    "\n",
    "numu_nuWro_true = pd.read_csv(\"numu_full_500_catsel_nopions_leptonMom_usingSelection_prior_true_signal_noTune_recoCut_comb_\"+ending+\".csv\", header=None)\n",
    "\n",
    "numu_nuWro_true = numu_nuWro_true.values[:, 0]\n",
    "print(numu_nuWro_true)"
   ]
  },
  {
   "cell_type": "code",
   "execution_count": 17,
   "id": "fbe1b368",
   "metadata": {},
   "outputs": [
    {
     "data": {
      "text/plain": [
       "'\\n#nue_nuWro_true_err = pd.read_csv(\"nue_prior_true_err_squared_angle_comb_\"+ending+\".csv\", header=None)\\nnue_nuWro_true_err = pd.read_csv(\"nue_prior_true_err_genie_stat_only_angle_comb_\"+ending+\".csv\", header=None)\\n\\nnue_nuWro_true_err = nue_nuWro_true_err.values[:, 0]\\nprint(nue_nuWro_true_err)\\nprint(\"\")\\n###############################\\n\\n#numu_nuWro_true_err = pd.read_csv(\"numu_prior_true_err_squared_angle_comb_\"+ending+\".csv\", header=None)\\nnumu_nuWro_true_err = pd.read_csv(\"numu_prior_true_err_genie_stat_only_angle_comb_\"+ending+\".csv\", header=None)\\n\\n\\nnumu_nuWro_true_err = numu_nuWro_true_err.values[:, 0]\\nprint(numu_nuWro_true_err)\\n'"
      ]
     },
     "execution_count": 17,
     "metadata": {},
     "output_type": "execute_result"
    }
   ],
   "source": [
    "#Get the true errs\n",
    "\"\"\"\n",
    "#nue_nuWro_true_err = pd.read_csv(\"nue_prior_true_err_squared_angle_comb_\"+ending+\".csv\", header=None)\n",
    "nue_nuWro_true_err = pd.read_csv(\"nue_prior_true_err_genie_stat_only_angle_comb_\"+ending+\".csv\", header=None)\n",
    "\n",
    "nue_nuWro_true_err = nue_nuWro_true_err.values[:, 0]\n",
    "print(nue_nuWro_true_err)\n",
    "print(\"\")\n",
    "###############################\n",
    "\n",
    "#numu_nuWro_true_err = pd.read_csv(\"numu_prior_true_err_squared_angle_comb_\"+ending+\".csv\", header=None)\n",
    "numu_nuWro_true_err = pd.read_csv(\"numu_prior_true_err_genie_stat_only_angle_comb_\"+ending+\".csv\", header=None)\n",
    "\n",
    "\n",
    "numu_nuWro_true_err = numu_nuWro_true_err.values[:, 0]\n",
    "print(numu_nuWro_true_err)\n",
    "\"\"\"\n",
    "\n",
    "\n"
   ]
  },
  {
   "cell_type": "code",
   "execution_count": 15,
   "id": "6064df76",
   "metadata": {},
   "outputs": [
    {
     "name": "stdout",
     "output_type": "stream",
     "text": [
      "[ 103.93385234  284.32632439  216.10084329  147.93813325   96.59156144\n",
      "   64.73503667   45.40139941  120.86570296 3072.95970429 5787.7490293\n",
      " 3847.93907381 2661.74579941 1967.36714644 1354.48190109  899.59219738\n",
      " 3214.93352203]\n",
      "\n"
     ]
    }
   ],
   "source": [
    "nue_numu_tot_nuWro_true = np.concatenate((nue_nuWro_true, numu_nuWro_true), axis=0)\n",
    "\n",
    "print(nue_numu_tot_nuWro_true)\n",
    "\n",
    "##################################\n",
    "print(\"\")\n",
    "\n",
    "#nue_numu_tot_nuWro_true_err = np.concatenate((nue_nuWro_true_err, numu_nuWro_true_err), axis=0)\n",
    "\n",
    "#print(nue_numu_tot_nuWro_true_err)"
   ]
  },
  {
   "cell_type": "code",
   "execution_count": 16,
   "id": "f250fb8f",
   "metadata": {},
   "outputs": [
    {
     "name": "stdout",
     "output_type": "stream",
     "text": [
      "Prior_Truth x AC: \n",
      "[  94.07794541  240.78293222  209.37193582  140.81161413   98.81038572\n",
      "   59.8413974    39.48049581  106.53130623 2899.85781487 4969.84065236\n",
      " 3383.17908753 2368.35560417 1766.0048356  1200.1844017   597.87261612\n",
      " 1421.66927653]\n",
      "\n",
      "\n",
      "Unfolding Done with MC Data Signal: \n",
      "[91.6082, 227.651, 194.318, 127.455, 89.8899, 56.8666, 35.5337, 102.239, 2938.81, 4839.75, 2880.38, 2160.13, 1729.8, 1036.59, -128.348, 2415.1]\n",
      "\n",
      "\n",
      "Difference\n",
      "[   2.46974541   13.13193222   15.05393582   13.35661413    8.92048572\n",
      "    2.9747974     3.94679581    4.29230623  -38.95218513  130.09065236\n",
      "  502.79908753  208.22560417   36.2048356   163.5944017   726.22061612\n",
      " -993.43072347]\n",
      "\n",
      "[  2.62521189   5.45384679   7.19004472   9.4854492    9.0278827\n",
      "   4.97113625   9.99682433   4.0291501   -1.34324466   2.61760208\n",
      "  14.86173432   8.79199069   2.05009833  13.63077219 121.46744918\n",
      " -69.87776552]\n"
     ]
    }
   ],
   "source": [
    "#Now smear it by Ac\n",
    "\n",
    "smeared_nuWro = np.dot(nue_numu_tot_nuWro_true, nuWro_Ac)\n",
    "#smeared_nuWro = np.dot(prior_true_nuWro, nuWro_Ac)\n",
    "print(\"Prior_Truth x AC: \")\n",
    "print(smeared_nuWro)\n",
    "print(\"\")\n",
    "print(\"\")\n",
    "print(\"Unfolding Done with MC Data Signal: \")\n",
    "print(nuWro_events)\n",
    "print(\"\")\n",
    "\n",
    "diff = smeared_nuWro - events\n",
    "print(\"\")\n",
    "print(\"Difference\")\n",
    "print(diff)\n",
    "\n",
    "#for i in made_data_sig:\n",
    "#    print(i)\n",
    "\n",
    "print(\"\")\n",
    "diffasfrac = np.nan_to_num(diff/smeared_nuWro)\n",
    "print(diffasfrac*100)"
   ]
  },
  {
   "cell_type": "code",
   "execution_count": 17,
   "id": "d5d14582",
   "metadata": {},
   "outputs": [],
   "source": [
    "#smeared_nuWro_err = np.dot(nue_numu_tot_nuWro_true_err, nuWro_Ac)\n",
    "#smeared_nuWro = np.dot(prior_true_nuWro, nuWro_Ac)\n",
    "#print(\"Err x AC: \")\n",
    "#print(smeared_nuWro_err)\n",
    "#print(\"\")\n",
    "#print(\"\")\n"
   ]
  },
  {
   "cell_type": "code",
   "execution_count": 20,
   "id": "18129eff",
   "metadata": {},
   "outputs": [
    {
     "name": "stdout",
     "output_type": "stream",
     "text": [
      "unfolded =  [  91.6082  227.651   194.318   127.455    89.8899   56.8666   35.5337\n",
      "  102.239  2938.81   4839.75   2880.38   2160.13   1729.8    1036.59\n",
      " -128.348  2415.1   ]\n",
      "smeared =  [  94.07794541  240.78293222  209.37193582  140.81161413   98.81038572\n",
      "   59.8413974    39.48049581  106.53130623 2899.85781487 4969.84065236\n",
      " 3383.17908753 2368.35560417 1766.0048356  1200.1844017   597.87261612\n",
      " 1421.66927653]\n"
     ]
    },
    {
     "data": {
      "image/png": "[encoded data removed]",
      "text/plain": [
       "<Figure size 576x504 with 1 Axes>"
      ]
     },
     "metadata": {
      "needs_background": "light"
     },
     "output_type": "display_data"
    }
   ],
   "source": [
    "###############\n",
    "###COMPARE######\n",
    "#############\n",
    "\n",
    "nue_unf_fig = plt.figure(figsize=(8, 7))\n",
    "nue_unf_gs = gridspec.GridSpec(2, 1, height_ratios=[2, 1])\n",
    "nue_unf_ax1 = plt.subplot(nue_unf_gs[0])\n",
    "\n",
    "\n",
    "bins = np.arange(0, 17, 1)\n",
    "count = np.arange(0.0, 16.0, 1)\n",
    "bincenters = np.arange(0.5, 16.5, 1)\n",
    "bin_size = [0.5]*16\n",
    "\n",
    "#print(np.array(nuWro_events) - np.array(nuWro_errs))\n",
    "\n",
    "#print(bincenters)\n",
    "f_obs = nue_unf_ax1.hist(count, bins, color='deepskyblue', weights=nuWro_events, alpha = 0.4, label=\"unfolded noTune\")  # , weights=xsec_ratio_events\n",
    "\n",
    "errors = nue_unf_ax1.bar(bincenters, np.array(nuWro_errs)*2,width=[n*2 for n in bin_size],facecolor='tab:green',alpha=0.2,bottom=(np.array(nuWro_events) - np.array(nuWro_errs)))\n",
    "\n",
    "f_exp = nue_unf_ax1.hist(count, bins, edgecolor='red', facecolor='None', weights=smeared_nuWro, label='noTune Prior True x Ac')\n",
    "#errors = nue_unf_ax1.bar(bincenters, np.array((nue_numu_tot_nuWro_true_err))*2,width=[n*2 for n in bin_size],facecolor='tab:orange',alpha=0.2,bottom=(np.array(smeared_nuWro) - np.array((nue_numu_tot_nuWro_true_err))))\n",
    "#errors = nue_unf_ax1.bar(bincenters, np.array((smeared_nuWro_err))*2,width=[n*2 for n in bin_size],facecolor='tab:orange',alpha=0.2,bottom=(np.array(smeared_nuWro) - np.array((smeared_nuWro_err))))\n",
    "\n",
    "\n",
    "print(\"unfolded = \", f_obs[0])\n",
    "print(\"smeared = \", f_exp[0])\n",
    "\n",
    "nue_unf_ax1.set_ylabel('Count', fontsize=15)\n",
    "nue_unf_ax1.set_xlabel('Bins', fontsize=15)\n",
    "nue_unf_ax1.set_title(\"Unfolded Comparison\")\n",
    "leg = nue_unf_ax1.legend()\n",
    "\n",
    "nue_unf_ax1.set_ylim([0, 6000])\n",
    "\n",
    "nue_unf_fig.savefig(\"unfolded_MC_noTune_output_leptonMom_comb_\"+ending+\".svg\", bbox_inches='tight')"
   ]
  },
  {
   "cell_type": "code",
   "execution_count": 22,
   "id": "c429a5a9",
   "metadata": {},
   "outputs": [
    {
     "name": "stdout",
     "output_type": "stream",
     "text": [
      "Dec19_noTune\n"
     ]
    }
   ],
   "source": [
    "np.savetxt(\"data_signal_MC_noTune_chi2_leptonMom_comb_\"+ending+\".csv\", \n",
    "               nuWro_events,\n",
    "               delimiter =\", \", \n",
    "               fmt ='% s')\n",
    "\n",
    "np.savetxt(\"prior_true_MC_noTune_chi2_leptonMom_comb_\"+ending+\".csv\", \n",
    "               smeared_nuWro,\n",
    "               delimiter =\", \", \n",
    "               fmt ='% s')\n",
    "\n",
    "print(ending)"
   ]
  },
  {
   "cell_type": "code",
   "execution_count": 23,
   "id": "e8622ad9",
   "metadata": {},
   "outputs": [
    {
     "data": {
      "text/plain": [
       "'\\nstart1 = np.array(smeared_nuWro) - np.array((nue_numu_tot_nuWro_true_err))\\nend1 = np.array(smeared_nuWro) + np.array((nue_numu_tot_nuWro_true_err))\\n\\nstart2 = np.array(nuWro_events) - np.array((nuWro_errs))\\nend2 = np.array(nuWro_events) + np.array((nuWro_errs))\\n#print(top)\\n#print(minus)\\n\\ndef overlap(start1, end1, start2, end2):\\n    #Does the range (start1, end1) overlap with (start2, end2)?\\n    return end1 >= start2 and end2 >= start1\\n\\n\\nfor i in np.arange(len(smeared_nuWro)):\\n    print(overlap(start1[i], end1[i], start2[i], end2[i]))\\n'"
      ]
     },
     "execution_count": 23,
     "metadata": {},
     "output_type": "execute_result"
    }
   ],
   "source": [
    "\"\"\"\n",
    "start1 = np.array(smeared_nuWro) - np.array((nue_numu_tot_nuWro_true_err))\n",
    "end1 = np.array(smeared_nuWro) + np.array((nue_numu_tot_nuWro_true_err))\n",
    "\n",
    "start2 = np.array(nuWro_events) - np.array((nuWro_errs))\n",
    "end2 = np.array(nuWro_events) + np.array((nuWro_errs))\n",
    "#print(top)\n",
    "#print(minus)\n",
    "\n",
    "def overlap(start1, end1, start2, end2):\n",
    "    #Does the range (start1, end1) overlap with (start2, end2)?\n",
    "    return end1 >= start2 and end2 >= start1\n",
    "\n",
    "\n",
    "for i in np.arange(len(smeared_nuWro)):\n",
    "    print(overlap(start1[i], end1[i], start2[i], end2[i]))\n",
    "\"\"\""
   ]
  },
  {
   "cell_type": "code",
   "execution_count": 24,
   "id": "9077e8e8",
   "metadata": {},
   "outputs": [
    {
     "name": "stdout",
     "output_type": "stream",
     "text": [
      "bin =  0\n",
      "Inside\n",
      "\n",
      "bin =  1\n",
      "Inside\n",
      "\n",
      "bin =  2\n",
      "Inside\n",
      "\n",
      "bin =  3\n",
      "Inside\n",
      "\n",
      "bin =  4\n",
      "Inside\n",
      "\n",
      "bin =  5\n",
      "Inside\n",
      "\n",
      "bin =  6\n",
      "Inside\n",
      "\n",
      "bin =  7\n",
      "Inside\n",
      "\n",
      "bin =  8\n",
      "Inside\n",
      "\n",
      "bin =  9\n",
      "Inside\n",
      "\n",
      "bin =  10\n",
      "Inside\n",
      "\n",
      "bin =  11\n",
      "Inside\n",
      "\n",
      "bin =  12\n",
      "Inside\n",
      "\n",
      "bin =  13\n",
      "Inside\n",
      "\n",
      "bin =  14\n",
      "Inside\n",
      "\n",
      "bin =  15\n",
      "Inside\n",
      "\n"
     ]
    }
   ],
   "source": [
    "for i in np.arange(len(smeared_nuWro)):\n",
    "    print(\"bin = \", i)\n",
    "    if( ((smeared_nuWro[i] < nuWro_events[i] + nuWro_errs[i]) and (smeared_nuWro[i] > nuWro_events[i] - nuWro_errs[i]))):# or ((nuWro_events[i] < smeared_nuWro[i] + nue_numu_tot_nuWro_true_err[i]) and (nuWro_events[i] > smeared_nuWro[i] - nue_numu_tot_nuWro_true_err[i])) ):\n",
    "        print(\"Inside\")\n",
    "        print(\"\")\n",
    "    else:\n",
    "        print(\"outside\")\n",
    "        print(\"value is (genie) = \", smeared_nuWro[i])\n",
    "        print(\"top of err = \", nuWro_events[i] + nuWro_errs[i])\n",
    "        print(\"bot of err = \", nuWro_events[i] - nuWro_errs[i])\n",
    "        print(\"\")"
   ]
  },
  {
   "cell_type": "code",
   "execution_count": 25,
   "id": "1b02d84c",
   "metadata": {},
   "outputs": [
    {
     "data": {
      "text/plain": [
       "'\\nimport scipy.stats as sp\\n\\nprint(sum(f_obs[0]))\\nprint(sum(f_exp[0]))\\n\\nsp.chisquare(f_obs=f_obs[0], f_exp=f_exp[0])\\n'"
      ]
     },
     "execution_count": 25,
     "metadata": {},
     "output_type": "execute_result"
    }
   ],
   "source": [
    "###Do a chi squared test\n",
    "\"\"\"\n",
    "import scipy.stats as sp\n",
    "\n",
    "print(sum(f_obs[0]))\n",
    "print(sum(f_exp[0]))\n",
    "\n",
    "sp.chisquare(f_obs=f_obs[0], f_exp=f_exp[0])\n",
    "\"\"\""
   ]
  },
  {
   "cell_type": "code",
   "execution_count": 26,
   "id": "38ea3043",
   "metadata": {},
   "outputs": [],
   "source": [
    "f_obs = f_obs[0]\n",
    "f_exp = f_exp[0]"
   ]
  },
  {
   "cell_type": "code",
   "execution_count": 27,
   "id": "dadb53e5",
   "metadata": {},
   "outputs": [
    {
     "name": "stdout",
     "output_type": "stream",
     "text": [
      "1700.9616442962197\n"
     ]
    }
   ],
   "source": [
    "hold = []\n",
    "\n",
    "for i in range(len(f_obs)):\n",
    "    braket = (f_obs[i] - f_exp[i])\n",
    "    num = (braket*braket)/f_exp[i]\n",
    "    hold.append(num)\n",
    "    \n",
    "print(sum(hold))\n",
    "chi_squared_stat = sum(hold)"
   ]
  },
  {
   "cell_type": "code",
   "execution_count": 29,
   "id": "dbfca7dd",
   "metadata": {},
   "outputs": [
    {
     "data": {
      "text/plain": [
       "406.30480132665537"
      ]
     },
     "execution_count": 29,
     "metadata": {},
     "output_type": "execute_result"
    }
   ],
   "source": [
    "####Crital value - what the chi sqaured value must be below for a P value fo this significance\n",
    "\n",
    "import scipy.stats as sp\n",
    "\n",
    "deg_of_free = 19*19\n",
    "\n",
    "sp.chi2.ppf(q = 0.95, df = deg_of_free)"
   ]
  },
  {
   "cell_type": "code",
   "execution_count": 30,
   "id": "1e4828b0",
   "metadata": {},
   "outputs": [
    {
     "name": "stdout",
     "output_type": "stream",
     "text": [
      "P value: 0.0\n"
     ]
    }
   ],
   "source": [
    "p_value = 1 - sp.chi2.cdf(x=chi_squared_stat,  # Find the p-value\n",
    "                             df=deg_of_free)\n",
    "print(\"P value:\",p_value)"
   ]
  },
  {
   "cell_type": "markdown",
   "id": "d69a6881",
   "metadata": {},
   "source": [
    "## Values from Steven's Code which takes uncertainty into account\n",
    "\n",
    "chi2 =  2.83035\n",
    "\n",
    "num_bins =  16\n",
    "\n",
    "dof =  15\n",
    "\n",
    "p_value =  0.99972\n",
    "\n"
   ]
  },
  {
   "cell_type": "code",
   "execution_count": 32,
   "id": "14c91f9a",
   "metadata": {},
   "outputs": [
    {
     "data": {
      "text/plain": [
       "14.338859510956645"
      ]
     },
     "execution_count": 32,
     "metadata": {},
     "output_type": "execute_result"
    }
   ],
   "source": [
    "deg_of_free = 15\n",
    "\n",
    "sp.chi2.ppf(q = 0.5, df = deg_of_free)"
   ]
  },
  {
   "cell_type": "code",
   "execution_count": null,
   "id": "9cc92b97",
   "metadata": {},
   "outputs": [],
   "source": []
  }
 ],
 "metadata": {
  "kernelspec": {
   "display_name": "Python 3 (ipykernel)",
   "language": "python",
   "name": "python3"
  },
  "language_info": {
   "codemirror_mode": {
    "name": "ipython",
    "version": 3
   },
   "file_extension": ".py",
   "mimetype": "text/x-python",
   "name": "python",
   "nbconvert_exporter": "python",
   "pygments_lexer": "ipython3",
   "version": "3.8.12"
  }
 },
 "nbformat": 4,
 "nbformat_minor": 5
}
