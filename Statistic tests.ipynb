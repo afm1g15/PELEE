{
 "cells": [
  {
   "cell_type": "code",
   "execution_count": 1,
   "metadata": {},
   "outputs": [],
   "source": [
    "import scipy.stats\n",
    "import matplotlib.pyplot as plt\n",
    "import numpy as np"
   ]
  },
  {
   "cell_type": "code",
   "execution_count": 185,
   "metadata": {},
   "outputs": [],
   "source": [
    "expected = 20\n",
    "observed = 40\n",
    "sample_size = 10000000\n",
    "rv = scipy.stats.poisson(expected)"
   ]
  },
  {
   "cell_type": "code",
   "execution_count": 186,
   "metadata": {},
   "outputs": [],
   "source": [
    "r = scipy.stats.poisson.rvs(expected, size=sample_size)"
   ]
  },
  {
   "cell_type": "code",
   "execution_count": 187,
   "metadata": {},
   "outputs": [
    {
     "name": "stdout",
     "output_type": "stream",
     "text": [
      "Observed sigma with Pearson's Chi2: 4.20507\n"
     ]
    }
   ],
   "source": [
    "chi2 = (expected-r)**2/expected\n",
    "observed_chi = (observed-expected)**2/expected\n",
    "p_value_chi = len(np.where(chi2 > observed_chi)[0])/sample_size\n",
    "print(\"Observed sigma with Pearson's Chi2: %g\" % scipy.stats.norm.ppf((1-p_value_chi/2)))"
   ]
  },
  {
   "cell_type": "code",
   "execution_count": 188,
   "metadata": {},
   "outputs": [
    {
     "name": "stdout",
     "output_type": "stream",
     "text": [
      "Observed sigma with likelihood ratio: 3.91078\n"
     ]
    }
   ],
   "source": [
    "l = 2*(r*np.log(r/expected)+expected-r)\n",
    "observed_l = 2*(observed*np.log(observed/expected)+expected-observed)\n",
    "p_value_l = len(np.where(l > observed_l)[0])/sample_size\n",
    "print(\"Observed sigma with likelihood ratio: %g\" % scipy.stats.norm.ppf((1-p_value_l/2)))"
   ]
  },
  {
   "cell_type": "code",
   "execution_count": 196,
   "metadata": {},
   "outputs": [
    {
     "data": {
      "image/png": "[encoded data removed]",
      "text/plain": [
       "<Figure size 432x288 with 1 Axes>"
      ]
     },
     "metadata": {
      "needs_background": "light"
     },
     "output_type": "display_data"
    }
   ],
   "source": [
    "fig, ax = plt.subplots(1, 1)\n",
    "n, bins, patches = ax.hist(\n",
    "    l,\n",
    "    alpha=0.5,\n",
    "    bins=10,\n",
    "    histtype=\"step\",\n",
    "    linewidth=2,\n",
    "    label=\"Likelihood ratio\",\n",
    "    range=(0, 50))\n",
    "fill = plt.axvspan(observed_l, 50, clip_path=patches[0])\n",
    "\n",
    "n, bins, patches = ax.hist(\n",
    "    chi2,\n",
    "    alpha=0.5,\n",
    "    bins=10,\n",
    "    histtype=\"step\",\n",
    "    linewidth=2,\n",
    "    label=r\"Pearson's $\\chi^2$\",\n",
    "    range=(0, 50))\n",
    "fill = plt.axvspan(observed_chi, 50, clip_path=patches[0])\n",
    "\n",
    "ax.set_xlabel(\"Test statistic score\")\n",
    "ax.set_yscale(\"log\")\n",
    "ax.axvline(\n",
    "    x=observed_l,\n",
    "    linestyle=\"--\",\n",
    "    color=\"k\",\n",
    "    label=r\"Observed likelihood ratio\")\n",
    "ax.axvline(\n",
    "    x=observed_chi,\n",
    "    linestyle=\":\",\n",
    "    color=\"k\",\n",
    "    label=r\"Observed Pearson's $\\chi^2$\")\n",
    "ax.legend()\n",
    "ax.set_xlim(0,50)\n",
    "t = ax.set_title(\"Observed: %g events, Expected: %g events\" % (observed, expected))\n"
   ]
  },
  {
   "cell_type": "code",
   "execution_count": null,
   "metadata": {},
   "outputs": [],
   "source": []
  }
 ],
 "metadata": {
  "kernelspec": {
   "display_name": "Python 3",
   "language": "python",
   "name": "python3"
  },
  "language_info": {
   "codemirror_mode": {
    "name": "ipython",
    "version": 3
   },
   "file_extension": ".py",
   "mimetype": "text/x-python",
   "name": "python",
   "nbconvert_exporter": "python",
   "pygments_lexer": "ipython3",
   "version": "3.7.3"
  }
 },
 "nbformat": 4,
 "nbformat_minor": 2
}
