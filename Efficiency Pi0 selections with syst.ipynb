{
 "cells": [
  {
   "cell_type": "code",
   "execution_count": null,
   "metadata": {},
   "outputs": [],
   "source": [
    "# With systematics!"
   ]
  },
  {
   "cell_type": "code",
   "execution_count": null,
   "metadata": {},
   "outputs": [],
   "source": [
    "%load_ext autoreload\n",
    "%autoreload 2"
   ]
  },
  {
   "cell_type": "code",
   "execution_count": null,
   "metadata": {},
   "outputs": [],
   "source": [
    "import localSettings as ls\n",
    "from load_data_run123 import *\n",
    "from unblinding_far_sideband import *\n",
    "from matplotlib import pyplot as plt\n",
    "from matplotlib import gridspec\n",
    "from scipy.optimize import curve_fit\n",
    "import seaborn as sns\n",
    "from ccncpi0_analysis import ccncpi0_analysis\n",
    "from sys_functions import *"
   ]
  },
  {
   "cell_type": "code",
   "execution_count": null,
   "metadata": {},
   "outputs": [],
   "source": [
    "# ntuple_path = ls.ntuple_path+\"unfiltered/\"\n",
    "ntuple_path = ls.ntuple_path+\"twoshrs/\""
   ]
  },
  {
   "cell_type": "code",
   "execution_count": null,
   "metadata": {},
   "outputs": [],
   "source": [
    "my_ccncpi0_analysis = ccncpi0_analysis(ntuple_path)"
   ]
  },
  {
   "cell_type": "code",
   "execution_count": null,
   "metadata": {},
   "outputs": [],
   "source": [
    "# Efficiency plot\n",
    "my_ccncpi0_analysis.efficiency_plot(variable='pi0_e', bin_edges=[0.1, 0.25, 0.4, 0.7, 1.5])"
   ]
  },
  {
   "cell_type": "code",
   "execution_count": null,
   "metadata": {},
   "outputs": [],
   "source": [
    "# this is a function which gives as output [num_CC, den_CC, eff_CC, num_NC, den_NC, eff_NC, eff_NC/eff_CC]\n",
    "# we are going to give it as an argument to sampleSystematics in the following cell\n",
    "Eff_ccnc(my_ccncpi0_analysis.pi0s, \n",
    "                          weights=my_ccncpi0_analysis.pi0s[\"weightSplineTimesTune\"], \n",
    "                          var='pi0_e',\n",
    "                          num_query=my_ccncpi0_analysis.CCNCSEL, \n",
    "                          den_query=my_ccncpi0_analysis.ACCEPTANCE, \n",
    "                          bin_edges=[0.1, 1.5], #only one bin, overall efficiency\n",
    "                          num_dem=True)"
   ]
  },
  {
   "cell_type": "code",
   "execution_count": null,
   "metadata": {},
   "outputs": [],
   "source": [
    "cv, variations = sampleSystematics(my_ccncpi0_analysis.pi0s, \n",
    "                  Eff_ccnc, \n",
    "                  var_weight_sys=\"weightsGenie\", #\"weightsFlux\"\n",
    "                  var_weight_cv='weightSplineTimesTune', \n",
    "                  n_max_universes=None, \n",
    "                  var='pi0_e',\n",
    "                  num_query=my_ccncpi0_analysis.CCNCSEL, \n",
    "                  den_query=my_ccncpi0_analysis.ACCEPTANCE, \n",
    "                  bin_edges=[0.1, 1.5],\n",
    "                  num_dem=True)\n",
    "delta_eff = (variations-cv)\n",
    "# I build the dataset without subtracting the CV, it's a matter of taste in the plot\n",
    "eff_df = pd.DataFrame((variations), columns=['Num CC', 'Den CC', 'Eff CC', 'Num NC', 'Den NC', 'Eff NC', 'Eff ratio'])"
   ]
  },
  {
   "cell_type": "code",
   "execution_count": null,
   "metadata": {},
   "outputs": [],
   "source": [
    "# More info here -> https://seaborn.pydata.org/tutorial/axis_grids.html\n",
    "g = sns.PairGrid(eff_df)\n",
    "g.map_diag(sns.histplot)\n",
    "g.map_offdiag(sns.scatterplot)"
   ]
  },
  {
   "cell_type": "code",
   "execution_count": null,
   "metadata": {},
   "outputs": [],
   "source": [
    "# Covariance matrix, visualising the same function\n",
    "cov = covMatrix(my_ccncpi0_analysis.pi0s, \n",
    "                  Eff_ccnc, \n",
    "                  var_weight_sys=\"weightsGenie\", \n",
    "                  var_weight_cv='weightSplineTimesTune', \n",
    "                  n_max_universes=None, \n",
    "                  var='pi0_e',\n",
    "                  num_query=my_ccncpi0_analysis.CCNCSEL, \n",
    "                  den_query=my_ccncpi0_analysis.ACCEPTANCE, \n",
    "                  bin_edges=[0.1, 1.5],\n",
    "                  num_dem=True)\n",
    "diag_uncertainties = np.sqrt(np.diag(cov))[:, np.newaxis]\n",
    "corr = cov / (diag_uncertainties.T * diag_uncertainties)"
   ]
  },
  {
   "cell_type": "code",
   "execution_count": null,
   "metadata": {},
   "outputs": [],
   "source": [
    "# Plot a correlation matrix\n",
    "plt.figure(figsize=(14, 14))\n",
    "hm = sns.heatmap(corr,\n",
    "                 cbar=True,\n",
    "                 annot=True,\n",
    "                 square=True,\n",
    "                 fmt='.3f',\n",
    "                 annot_kws={'size': 12},\n",
    "                 xticklabels=['Num CC', 'Den CC', 'Eff CC', 'Num NC', 'Den NC', 'Eff NC', 'Eff ratio'],\n",
    "                 yticklabels=['Num CC', 'Den CC', 'Eff CC', 'Num NC', 'Den NC', 'Eff NC', 'Eff ratio'],\n",
    "                 )\n",
    "plt.title('CC-NC$\\pi_0$ selection efficiency\\ncorrelation matrix')"
   ]
  },
  {
   "cell_type": "code",
   "execution_count": null,
   "metadata": {},
   "outputs": [],
   "source": []
  }
 ],
 "metadata": {
  "kernelspec": {
   "display_name": "Python 3",
   "language": "python",
   "name": "python3"
  },
  "language_info": {
   "codemirror_mode": {
    "name": "ipython",
    "version": 3
   },
   "file_extension": ".py",
   "mimetype": "text/x-python",
   "name": "python",
   "nbconvert_exporter": "python",
   "pygments_lexer": "ipython3",
   "version": "3.7.7"
  }
 },
 "nbformat": 4,
 "nbformat_minor": 4
}
