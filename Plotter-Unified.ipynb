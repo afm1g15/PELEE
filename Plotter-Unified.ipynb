{
 "cells": [
  {
   "cell_type": "markdown",
   "metadata": {},
   "source": [
    "# Unified Plotting"
   ]
  },
  {
   "cell_type": "code",
   "execution_count": 1,
   "metadata": {},
   "outputs": [],
   "source": [
    "%load_ext autoreload\n",
    "%autoreload 2"
   ]
  },
  {
   "cell_type": "code",
   "execution_count": 2,
   "metadata": {},
   "outputs": [],
   "source": [
    "#pi0scaling = {\"val\": 0, \"suffix\": \"\", \"title\": \"No pi0 Scaling\"} #no scaling\n",
    "#pi0scaling = {\"val\": 1, \"suffix\": \"_pi0flat\", \"title\": \"0.759 pi0 Scaling\"} #flat scaling\n",
    "pi0scaling = {\"val\": 2, \"suffix\": \"_pi0e035\", \"title\": \"Energy-dependent pi0 Scaling\"} #energy-dependent\n"
   ]
  },
  {
   "cell_type": "code",
   "execution_count": 3,
   "metadata": {},
   "outputs": [],
   "source": [
    "from matplotlib import pyplot as plt\n",
    "\n",
    "params = {\n",
    "    'axes.labelsize': 'x-large',\n",
    "    'axes.titlesize': 'x-large',\n",
    "    'xtick.labelsize': 'x-large',\n",
    "    'ytick.labelsize': 'x-large'\n",
    "}\n",
    "plt.rcParams.update(params)\n",
    "\n",
    "from load_data_run123 import *\n",
    "from unblinding_far_sideband import *"
   ]
  },
  {
   "cell_type": "code",
   "execution_count": 4,
   "metadata": {},
   "outputs": [
    {
     "name": "stdout",
     "output_type": "stream",
     "text": [
      "/home/david/data/searchingfornues/v08_00_00_33/cc0pinp/0304/\n"
     ]
    }
   ],
   "source": [
    "import sys\n",
    "import localSettings as ls\n",
    "print(ls.main_path)\n",
    "main_path = ls.main_path\n",
    "sys.path.append(main_path)"
   ]
  },
  {
   "cell_type": "code",
   "execution_count": 5,
   "metadata": {},
   "outputs": [],
   "source": [
    "import scipy.stats"
   ]
  },
  {
   "cell_type": "code",
   "execution_count": 6,
   "metadata": {},
   "outputs": [],
   "source": [
    "#which_sideband = ['np_far'       ,\"farsideband\"] # far-sideband 1eNp datasets\n",
    "#which_sideband = ['0p_far'       ,\"farsideband\"] # far-sideband 1eNp datasets\n",
    "#which_sideband = ['numu',\"numu\"] # numu NTuples [v41]\n",
    "#which_sideband = ['2plus_showers',\"farsideband\"] # far-sideband 2+ shower datasets\n",
    "#which_sideband = ['opendata'     ,'opendata']    # open datasets (5e19 / 1e19)\n",
    "which_sideband = ['opendata'     ,'fakeset1']    # set1 fake dataset"
   ]
  },
  {
   "cell_type": "code",
   "execution_count": 7,
   "metadata": {},
   "outputs": [
    {
     "name": "stderr",
     "output_type": "stream",
     "text": [
      "/home/david/Neutrinos/NUE/PELEE3/load_data_run123.py:508: SettingWithCopyWarning: \n",
      "A value is trying to be set on a copy of a slice from a DataFrame.\n",
      "Try using .loc[row_indexer,col_indexer] = value instead\n",
      "\n",
      "See the caveats in the documentation: http://pandas.pydata.org/pandas-docs/stable/user_guide/indexing.html#returning-a-view-versus-a-copy\n",
      "  r_dataset['run2'] = np.ones(len(r_dataset), dtype=bool)\n",
      "/home/david/miniconda2/envs/python3LEE/lib/python3.7/site-packages/pandas/core/series.py:853: RuntimeWarning: invalid value encountered in sqrt\n",
      "  result = getattr(ufunc, method)(*inputs, **kwargs)\n",
      "/home/david/miniconda2/envs/python3LEE/lib/python3.7/site-packages/pandas/core/indexing.py:494: SettingWithCopyWarning: \n",
      "A value is trying to be set on a copy of a slice from a DataFrame.\n",
      "Try using .loc[row_indexer,col_indexer] = value instead\n",
      "\n",
      "See the caveats in the documentation: http://pandas.pydata.org/pandas-docs/stable/user_guide/indexing.html#returning-a-view-versus-a-copy\n",
      "  self.obj[item] = s\n",
      "/home/david/Neutrinos/NUE/PELEE3/load_data_run123.py:809: SettingWithCopyWarning: \n",
      "A value is trying to be set on a copy of a slice from a DataFrame.\n",
      "Try using .loc[row_indexer,col_indexer] = value instead\n",
      "\n",
      "See the caveats in the documentation: http://pandas.pydata.org/pandas-docs/stable/user_guide/indexing.html#returning-a-view-versus-a-copy\n",
      "  ntree_limit=booster.best_iteration)\n",
      "/home/david/Neutrinos/NUE/PELEE3/load_data_run123.py:812: SettingWithCopyWarning: \n",
      "A value is trying to be set on a copy of a slice from a DataFrame.\n",
      "Try using .loc[row_indexer,col_indexer] = value instead\n",
      "\n",
      "See the caveats in the documentation: http://pandas.pydata.org/pandas-docs/stable/user_guide/indexing.html#returning-a-view-versus-a-copy\n",
      "  ntree_limit=booster.best_iteration)\n",
      "/home/david/Neutrinos/NUE/PELEE3/load_data_run123.py:815: SettingWithCopyWarning: \n",
      "A value is trying to be set on a copy of a slice from a DataFrame.\n",
      "Try using .loc[row_indexer,col_indexer] = value instead\n",
      "\n",
      "See the caveats in the documentation: http://pandas.pydata.org/pandas-docs/stable/user_guide/indexing.html#returning-a-view-versus-a-copy\n",
      "  ntree_limit=booster.best_iteration)\n",
      "/home/david/Neutrinos/NUE/PELEE3/load_data_run123.py:818: SettingWithCopyWarning: \n",
      "A value is trying to be set on a copy of a slice from a DataFrame.\n",
      "Try using .loc[row_indexer,col_indexer] = value instead\n",
      "\n",
      "See the caveats in the documentation: http://pandas.pydata.org/pandas-docs/stable/user_guide/indexing.html#returning-a-view-versus-a-copy\n",
      "  ntree_limit=booster.best_iteration)\n",
      "/home/david/Neutrinos/NUE/PELEE3/load_data_run123.py:863: SettingWithCopyWarning: \n",
      "A value is trying to be set on a copy of a slice from a DataFrame.\n",
      "Try using .loc[row_indexer,col_indexer] = value instead\n",
      "\n",
      "See the caveats in the documentation: http://pandas.pydata.org/pandas-docs/stable/user_guide/indexing.html#returning-a-view-versus-a-copy\n",
      "  ntree_limit=booster.best_iteration)\n",
      "/home/david/Neutrinos/NUE/PELEE3/load_data_run123.py:866: SettingWithCopyWarning: \n",
      "A value is trying to be set on a copy of a slice from a DataFrame.\n",
      "Try using .loc[row_indexer,col_indexer] = value instead\n",
      "\n",
      "See the caveats in the documentation: http://pandas.pydata.org/pandas-docs/stable/user_guide/indexing.html#returning-a-view-versus-a-copy\n",
      "  ntree_limit=booster.best_iteration)\n",
      "/home/david/Neutrinos/NUE/PELEE3/load_data_run123.py:869: SettingWithCopyWarning: \n",
      "A value is trying to be set on a copy of a slice from a DataFrame.\n",
      "Try using .loc[row_indexer,col_indexer] = value instead\n",
      "\n",
      "See the caveats in the documentation: http://pandas.pydata.org/pandas-docs/stable/user_guide/indexing.html#returning-a-view-versus-a-copy\n",
      "  ntree_limit=booster.best_iteration)\n",
      "/home/david/Neutrinos/NUE/PELEE3/load_data_run123.py:872: SettingWithCopyWarning: \n",
      "A value is trying to be set on a copy of a slice from a DataFrame.\n",
      "Try using .loc[row_indexer,col_indexer] = value instead\n",
      "\n",
      "See the caveats in the documentation: http://pandas.pydata.org/pandas-docs/stable/user_guide/indexing.html#returning-a-view-versus-a-copy\n",
      "  ntree_limit=booster.best_iteration)\n"
     ]
    }
   ],
   "source": [
    "samples = load_data_run123(which_sideband=which_sideband[0], return_plotter=False,\\\n",
    "                           pi0scaling=pi0scaling[\"val\"],loadpi0variables=False,\n",
    "                           loadshowervariables=True,loadfakedata=True)\n"
   ]
  },
  {
   "cell_type": "code",
   "execution_count": 8,
   "metadata": {},
   "outputs": [
    {
     "data": {
      "text/plain": [
       "<module 'unblinding_far_sideband' from '/home/david/Neutrinos/NUE/PELEE3/unblinding_far_sideband.py'>"
      ]
     },
     "execution_count": 8,
     "metadata": {},
     "output_type": "execute_result"
    }
   ],
   "source": [
    "import plotter\n",
    "import unblinding_far_sideband\n",
    "import importlib\n",
    "importlib.reload(plotter)\n",
    "importlib.reload(unblinding_far_sideband)"
   ]
  },
  {
   "cell_type": "code",
   "execution_count": 9,
   "metadata": {},
   "outputs": [],
   "source": [
    "plotter_runbyrun = {}\n",
    "for run in [1, 2, 3, 123, 12]:\n",
    "    this_weights, this_pot = get_weights(run,dataset=which_sideband[1])\n",
    "    plotter_runbyrun[run] = plotter.Plotter(samples, this_weights, pot=this_pot)"
   ]
  },
  {
   "cell_type": "code",
   "execution_count": 10,
   "metadata": {},
   "outputs": [],
   "source": [
    "TRAINVAR = [\"shr_score\",\"tksh_distance\",\"tksh_angle\",\n",
    "            \"shr_tkfit_dedx_max\",\n",
    "            \"trkfit\",\"trkpid\",\n",
    "            \"subcluster\",\"shrmoliereavg\",\n",
    "            \"trkshrhitdist2\",\"hits_ratio\",\n",
    "            \"secondshower_Y_nhit\",\"secondshower_Y_vtxdist\",\"secondshower_Y_dot\",\"anglediff_Y\",\n",
    "            \"CosmicIPAll3D\",\"CosmicDirAll3D\"]\n",
    "\n",
    "pvaluetypes = ['pvalue','pvaluediag','pvaluestatonly']"
   ]
  },
  {
   "cell_type": "markdown",
   "metadata": {},
   "source": [
    "# Single Variable Plotter"
   ]
  },
  {
   "cell_type": "code",
   "execution_count": 11,
   "metadata": {},
   "outputs": [
    {
     "name": "stdout",
     "output_type": "stream",
     "text": [
      "reco_nu_vtx_sce_x 20 (0, 260) reco nu vtx x [cm]\n",
      "Error calculating the significance operands could not be broadcast together with shapes (20,) (19,) (20,) \n"
     ]
    },
    {
     "name": "stderr",
     "output_type": "stream",
     "text": [
      "/home/david/Neutrinos/NUE/PELEE3/plotter.py:207: RuntimeWarning: invalid value encountered in true_divide\n",
      "  return sum(num / den) / len(data)\n",
      "/home/david/Neutrinos/NUE/PELEE3/plotter.py:216: RuntimeWarning: invalid value encountered in true_divide\n",
      "  return (data-mc)**2 / data\n",
      "/home/david/Neutrinos/NUE/PELEE3/plotter.py:212: RuntimeWarning: invalid value encountered in true_divide\n",
      "  return (data-mc)**2 / mc\n",
      "/home/david/Neutrinos/NUE/PELEE3/plotter.py:367: RuntimeWarning: invalid value encountered in double_scalars\n",
      "  for i, k in enumerate(num)\n",
      "/home/david/miniconda2/envs/python3LEE/lib/python3.7/site-packages/ipykernel_launcher.py:53: UserWarning: Matplotlib is currently using module://ipykernel.pylab.backend_inline, which is a non-GUI backend, so cannot show the figure.\n"
     ]
    },
    {
     "data": {
      "image/png": "[encoded data removed]",
      "text/plain": [
       "<Figure size 576x504 with 2 Axes>"
      ]
     },
     "metadata": {
      "needs_background": "light"
     },
     "output_type": "display_data"
    }
   ],
   "source": [
    "from unblinding_far_sideband import *\n",
    "\n",
    "# choose sideband, preselection, and selection\n",
    "# find defintions in unblinding_far_sideband.py\n",
    "sdb_key = 'None'\n",
    "pre_key = 'NPOneShr'\n",
    "sel_key = 'None'\n",
    "run = 123\n",
    "\n",
    "sideband = sideband_categories[sdb_key]\n",
    "preselection = preselection_categories[pre_key]\n",
    "sel =  selection_categories[sel_key]\n",
    "\n",
    "QUERY = \"\"\n",
    "for query in [sideband['query'],preselection['query'],sel['query']]:\n",
    "    if query is None: continue\n",
    "    if QUERY: QUERY += ' and '\n",
    "    QUERY += query\n",
    "    if run in [1, 2, 3, 12]:\n",
    "        QUERY += f' and run{run}==True'\n",
    "\n",
    "#formatting can be improved..\n",
    "TITLE = \"\"\n",
    "for text in [f'Run {run}',' - ',sideband['title'],' - ',preselection['title'],'\\n',sel['title'],' - ',pi0scaling[\"title\"]]:\n",
    "    if text is None: continue\n",
    "    TITLE += text\n",
    "\n",
    "#VARIABLE, BINS, RANGE, XTIT = 'topological_score',20,(0,1),r\"topological score\"\n",
    "#VARIABLE, BINS, RANGE, XTIT = 'reco_e',19,(0.15,2.05),r\"reco energy\"\n",
    "VARIABLE, BINS, RANGE, XTIT = 'reco_nu_vtx_sce_x',20,(0,260),r\"reco nu vtx x [cm]\"\n",
    "#VARIABLE, BINS, RANGE, XTIT = 'pi0_score',10,(0,1),r\"pi0 score\"\n",
    "#VARIABLE, BINS, RANGE, XTIT = 'n_showers_contained',10,(-0.5, 9.5),\"n showers contained\"\n",
    "print(VARIABLE, BINS, RANGE, XTIT)\n",
    "\n",
    "fig, ax1, ax2 = plotter_runbyrun[run].plot_variable(\n",
    "    VARIABLE,   \n",
    "    query=QUERY,\n",
    "    kind=\"event_category\",\n",
    "    draw_sys=True,\n",
    "    stacksort=3,\n",
    "    title=XTIT,\n",
    "    bins=BINS,\n",
    "    range=RANGE,\n",
    ")[0:3]\n",
    "\n",
    "\n",
    "ax1.set_ylim(0, ax1.get_ylim()[1]*1.8)\n",
    "\n",
    "ax1.set_title(TITLE, loc='left')\n",
    "#ax1.set_yscale('log')\n",
    "\n",
    "plt.tight_layout()\n",
    "fig.show()\n",
    "#save_path = this_folder+VARIABLE\n",
    "#fig.savefig(save_path + '.png', dpi=250)    \n",
    "#plt.close()\n",
    " "
   ]
  },
  {
   "cell_type": "code",
   "execution_count": null,
   "metadata": {},
   "outputs": [],
   "source": [
    "from significance_calculator import significanceCalculator\n",
    "\n",
    "this_cov = plotter_runbyrun[run].cov + plotter_runbyrun[run].cov_mc_stat\n",
    "expected_bin_contents = {'bg': out[3][0][-1],\n",
    "                         'signal': np.zeros(out[3][0][-1].shape)}\n",
    "observed_bin_contents = plotter_runbyrun[run].data\n",
    "this_pot = pot_data_unblinded[which_sideband[1]][run][0]\n",
    "\n",
    "my_signif = significanceCalculator(expected_bin_contents, pot=this_pot)\n",
    "my_signif.setCovarianceMatrix(this_cov, is_cov='cov')\n",
    "\n",
    "fig, ax = my_signif.testStatisticsWithData(0, 1, \n",
    "                                           observed_bin_contents, \n",
    "                                           chi2_pdf_superimposed=True, \n",
    "                                           n_toy=100000, \n",
    "                                           n_bins=100, \n",
    "                                           range=[0,40],\n",
    "                                           title=f'Run {run}, {XTIT}, N bins = {BINS}\\n',\n",
    "                                           test_stat='chi2_cnp')"
   ]
  },
  {
   "cell_type": "code",
   "execution_count": null,
   "metadata": {},
   "outputs": [],
   "source": [
    "#samples['ext'].query(unblinding_far_sideband.BDTCQ)[['run','evt','reco_e']]\n",
    "samples['ext'].query(unblinding_far_sideband.BDTCQ)[['run','evt','reco_e','CosmicIPAll3D','trkpid','hits_ratio','trkfit','n_showers_contained','tksh_distance','tksh_angle']]"
   ]
  },
  {
   "cell_type": "markdown",
   "metadata": {},
   "source": [
    "# Multiple variable plotting"
   ]
  },
  {
   "cell_type": "code",
   "execution_count": null,
   "metadata": {},
   "outputs": [],
   "source": [
    "from unblinding_far_sideband import *\n",
    "\n",
    "# choose sideband, preselection, and selection(s)\n",
    "# find defintions in unblinding_far_sideband.py\n",
    "#sdb_key = 'HiE' #'TwoPShr'\n",
    "#pre_key = 'NPOneShr' #'NP'\n",
    "#sel_keys = ['None','NPVL','NPL','NPBDT'] #['None','NPVLAllShr','NPLAllShr','NPBDTAllShr']\n",
    "#sdb_key = 'TwoPShr'\n",
    "#pre_key = 'NP'\n",
    "#sel_keys = ['NPVLAllShr'] #['None','NPVLAllShr','NPLAllShr','NPBDTAllShr']\n",
    "sdb_key = 'None'\n",
    "pre_key = 'NP'\n",
    "sel_keys = ['None','NPVL']\n",
    "runs = [1] #[1,2,3,12,123]\n",
    "\n",
    "sideband = sideband_categories[sdb_key]\n",
    "preselection = preselection_categories[pre_key]\n",
    "\n",
    "for run in runs:\n",
    "    for sel_key in sel_keys:\n",
    "        sel =  selection_categories[sel_key]\n",
    "        print('\\nRun %i, %s, %s, %s'%(run, sideband['dir'], preselection['dir'], sel['dir']))\n",
    "        if (which_sideband[1] != \"opendata\"):\n",
    "            this_folder = ls.plots_path+'PELEE_far_sideband_runbyrun/'\n",
    "        else:\n",
    "            this_folder = ls.plots_path+'PELEE_opendata/'\n",
    "        this_folder += 'run_{}/'.format(run)\n",
    "        this_folder += '{}_{}_{}'.format(sideband['dir'], preselection['dir'], sel['dir'])\n",
    "        this_folder += (pi0scaling[\"suffix\"]+'/')\n",
    "        !mkdir -p $this_folder\n",
    "\n",
    "        this_query = \"\"\n",
    "        for query in [sideband['query'],preselection['query'],sel['query']]:\n",
    "            if query is None: continue\n",
    "            if this_query: this_query += ' and '\n",
    "            this_query += query\n",
    "        if run in [1, 2, 3, 12]:\n",
    "            this_query += f' and run{run}==True'\n",
    "\n",
    "        #formatting can be improved..\n",
    "        this_title = \"\"\n",
    "        for text in [f'Run {run}',' - ',sideband['title'],' - ',preselection['title'],'\\n',sel['title'],' - ',pi0scaling[\"title\"]]:\n",
    "            if text is None: continue\n",
    "            this_title += text\n",
    "\n",
    "        pvalues = [[] for _ in range(len(pvaluetypes))]\n",
    "        \n",
    "        for plot_variable in plot_variables:\n",
    "            VARIABLE, BINS, RANGE, XTIT = plot_variable[0:4]\n",
    "            #if VARIABLE != 'tksh_angle': continue\n",
    "            #if len(plot_variable)>4 or VARIABLE not in TRAINVAR: continue\n",
    "            print(VARIABLE, BINS, RANGE, XTIT)\n",
    "            fig, ax1, ax2 = plotter_runbyrun[run].plot_variable(\n",
    "                VARIABLE,   \n",
    "                query=this_query,\n",
    "                kind=\"event_category\",\n",
    "                draw_sys=True,\n",
    "                stacksort=3,\n",
    "                title=XTIT,\n",
    "                bins=BINS,\n",
    "                range=RANGE,\n",
    "            )[0:3]\n",
    "\n",
    "            if len(plot_variable) == 6:\n",
    "                if plot_variable[5] is True:\n",
    "                    ax1.set_yscale('log')\n",
    "            else:\n",
    "                ax1.set_ylim(0, ax1.get_ylim()[1]*1.8)\n",
    "\n",
    "            ax1.set_title(this_title, loc='left')\n",
    "\n",
    "            plt.tight_layout()\n",
    "            save_path = this_folder+VARIABLE\n",
    "            if len(plot_variable) >= 5:\n",
    "                save_path += ('_' + plot_variable[4])\n",
    "            fig.savefig(save_path + '.png', dpi=250)    \n",
    "            plt.close()\n",
    "            # store pvalues\n",
    "            if len(plot_variable)==4 and VARIABLE in TRAINVAR:\n",
    "                for idx, pvt in enumerate(pvaluetypes):\n",
    "                    pvalues[idx].append(plotter_runbyrun[run].stats[pvt])\n",
    "            #print ('%s %.04f'%(VARIABLE,plotter_runbyrun[run].stats['chisqstatonly']))\n",
    "            print('%s %.4f %.4f %.4f' % (VARIABLE, plotter_runbyrun[run].stats['pvaluestatonly'], plotter_runbyrun[run].stats['pvaluediag'], plotter_runbyrun[run].stats['pvalue']))\n",
    "        # make pvalue plots\n",
    "        #print(pvalues)\n",
    "        for idx, pvt in enumerate(pvaluetypes):\n",
    "            if len(pvalues[idx])!=16: continue\n",
    "            plt.figure(figsize=(9, 7))\n",
    "            plt.hist(pvalues[idx], bins=10, range=(0,1))\n",
    "            plt.title(this_title, loc='left')\n",
    "            plt.xlabel(pvt)\n",
    "            plt.ylabel(\"number of BDT input variables\")\n",
    "            plt.savefig(this_folder + pvt + '.png', dpi=250)\n",
    "            plt.close()"
   ]
  },
  {
   "cell_type": "code",
   "execution_count": null,
   "metadata": {},
   "outputs": [],
   "source": [
    "samples['data'].query(BDTCQ)[[\"run\",\"sub\",\"evt\",\"reco_e\",\"pi0_score\",\"nonpi0_score\",\"n_tracks_contained\",\"reco_nu_vtx_sce_x\",\"reco_nu_vtx_sce_y\",\"reco_nu_vtx_sce_z\"]]"
   ]
  },
  {
   "cell_type": "code",
   "execution_count": null,
   "metadata": {},
   "outputs": [],
   "source": []
  }
 ],
 "metadata": {
  "accelerator": "GPU",
  "colab": {
   "name": "Plotter.ipynb",
   "provenance": [],
   "version": "0.3.2"
  },
  "kernelspec": {
   "display_name": "Python 3",
   "language": "python",
   "name": "python3"
  },
  "language_info": {
   "codemirror_mode": {
    "name": "ipython",
    "version": 3
   },
   "file_extension": ".py",
   "mimetype": "text/x-python",
   "name": "python",
   "nbconvert_exporter": "python",
   "pygments_lexer": "ipython3",
   "version": "3.7.4"
  }
 },
 "nbformat": 4,
 "nbformat_minor": 4
}
