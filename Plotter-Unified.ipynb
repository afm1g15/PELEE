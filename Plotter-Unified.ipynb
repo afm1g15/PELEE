{
 "cells": [
  {
   "cell_type": "markdown",
   "metadata": {},
   "source": [
    "# Unified Plotting"
   ]
  },
  {
   "cell_type": "code",
   "execution_count": 1,
   "metadata": {},
   "outputs": [],
   "source": [
    "%load_ext autoreload\n",
    "%autoreload 2"
   ]
  },
  {
   "cell_type": "code",
   "execution_count": 2,
   "metadata": {},
   "outputs": [],
   "source": [
    "#pi0scaling = {\"val\": 0, \"suffix\": \"\", \"title\": \"No pi0 Scaling\"} #no scaling\n",
    "#pi0scaling = {\"val\": 1, \"suffix\": \"_pi0flat\", \"title\": \"0.759 pi0 Scaling\"} #flat scaling\n",
    "pi0scaling = {\"val\": 2, \"suffix\": \"_pi0e040\", \"title\": r\"$\\pi^0$ scaling: [$1 - 0.40 \\times E_\\pi$]\"} #energy-dependent\n"
   ]
  },
  {
   "cell_type": "code",
   "execution_count": 3,
   "metadata": {},
   "outputs": [],
   "source": [
    "from matplotlib import pyplot as plt\n",
    "\n",
    "params = {\n",
    "    'axes.labelsize': 'x-large',\n",
    "    'axes.titlesize': 'x-large',\n",
    "    'xtick.labelsize': 'x-large',\n",
    "    'ytick.labelsize': 'x-large'\n",
    "}\n",
    "plt.rcParams.update(params)\n",
    "\n",
    "from load_data_run123 import *\n",
    "from unblinding_far_sideband import *"
   ]
  },
  {
   "cell_type": "code",
   "execution_count": 4,
   "metadata": {},
   "outputs": [
    {
     "name": "stdout",
     "output_type": "stream",
     "text": [
      "/home/david/data/searchingfornues/v08_00_00_43/0702/\n"
     ]
    }
   ],
   "source": [
    "import sys\n",
    "import localSettings as ls\n",
    "print(ls.main_path)\n",
    "main_path = ls.main_path\n",
    "sys.path.append(main_path)"
   ]
  },
  {
   "cell_type": "code",
   "execution_count": 5,
   "metadata": {},
   "outputs": [],
   "source": [
    "import scipy.stats"
   ]
  },
  {
   "cell_type": "code",
   "execution_count": 6,
   "metadata": {},
   "outputs": [],
   "source": [
    "#which_sideband = ['np_far'       ,\"farsideband\"] # far-sideband 1eNp datasets\n",
    "#which_sideband = ['0p_far'       ,\"farsideband\"] # far-sideband 1eNp datasets\n",
    "#which_sideband = ['numu',\"numu\"] # numu NTuples [v41]\n",
    "#which_sideband = ['2plus_showers',\"farsideband\"] # far-sideband 2+ shower datasets\n",
    "which_sideband = ['np_sb_comb',\"farsideband\"] # combined far-sideband 1eNp and 2+ shower datasets\n",
    "#which_sideband = ['opendata'     ,'opendata']    # open datasets (5e19 / 1e19)\n",
    "#which_sideband = ['opendata'     ,'fakeset1']    # set1 fake dataset"
   ]
  },
  {
   "cell_type": "code",
   "execution_count": 7,
   "metadata": {
    "scrolled": false
   },
   "outputs": [
    {
     "name": "stdout",
     "output_type": "stream",
     "text": [
      "Loading uproot files\n",
      "Loading Run3 dataframes\n",
      "fraction of R3 CCpi0 sample after split : 0.52\n",
      "Loading Run1 dataframes\n",
      "Loading Run2 dataframes\n",
      "Concatenate dataframes\n",
      "Add derived variables\n",
      "Add BDT scores\n",
      "fraction of data surviving duplicate removal : 0.98\n",
      "fraction of ext surviving duplicate removal : 0.97\n"
     ]
    }
   ],
   "source": [
    "samples = load_data_run123(which_sideband=which_sideband[0],\n",
    "                           return_plotter=False,\n",
    "                           pi0scaling=pi0scaling[\"val\"],\n",
    "                           loadpi0variables=False,\n",
    "                           loadshowervariables=True,\n",
    "                           loadfakedata=False,\n",
    "                           loadrecoveryvars=True)\n"
   ]
  },
  {
   "cell_type": "code",
   "execution_count": 8,
   "metadata": {},
   "outputs": [
    {
     "data": {
      "text/plain": [
       "<module 'unblinding_far_sideband' from '/home/david/Neutrinos/NUE/PELEE3/unblinding_far_sideband.py'>"
      ]
     },
     "execution_count": 8,
     "metadata": {},
     "output_type": "execute_result"
    }
   ],
   "source": [
    "import plotter\n",
    "import unblinding_far_sideband\n",
    "import importlib\n",
    "importlib.reload(plotter)\n",
    "importlib.reload(unblinding_far_sideband)"
   ]
  },
  {
   "cell_type": "code",
   "execution_count": 9,
   "metadata": {},
   "outputs": [],
   "source": [
    "plotter_runbyrun = {}\n",
    "for run in [1, 2, 3, 123, 12]:\n",
    "    this_weights, this_pot = get_weights(run,dataset=which_sideband[1])\n",
    "    plotter_runbyrun[run] = plotter.Plotter(samples, this_weights, pot=this_pot)"
   ]
  },
  {
   "cell_type": "code",
   "execution_count": 10,
   "metadata": {},
   "outputs": [],
   "source": [
    "TRAINVAR = [\"shr_score\",\"tksh_distance\",\"tksh_angle\",\n",
    "            \"shr_tkfit_dedx_max\",\n",
    "            \"trkfit\",\"trkpid\",\n",
    "            \"subcluster\",\"shrmoliereavg\",\n",
    "            \"trkshrhitdist2\",\"hits_ratio\",\n",
    "            \"secondshower_Y_nhit\",\"secondshower_Y_vtxdist\",\"secondshower_Y_dot\",\"anglediff_Y\",\n",
    "            \"CosmicIPAll3D\",\"CosmicDirAll3D\"]\n",
    "\n",
    "pvaluetypes = ['pvalue','pvaluediag','pvaluestatonly']"
   ]
  },
  {
   "cell_type": "markdown",
   "metadata": {},
   "source": [
    "# Single Variable Plotter"
   ]
  },
  {
   "cell_type": "code",
   "execution_count": 18,
   "metadata": {
    "scrolled": false
   },
   "outputs": [
    {
     "name": "stdout",
     "output_type": "stream",
     "text": [
      "nslice == 1 and selected == 1 and shr_energy_tot_cali > 0.07 and ( (_opfilter_pe_beam > 0 and _opfilter_pe_veto < 20) or bnbdata == 1 or extdata == 1) and n_tracks_contained > 0 and nslice == 1 and selected == 1 and shr_energy_tot_cali > 0.07 and ( (_opfilter_pe_beam > 0 and _opfilter_pe_veto < 20) or bnbdata == 1 or extdata == 1) and n_tracks_contained > 0 and CosmicIPAll3D > 10. and trkpid < 0.25 and hits_ratio > 0.5 and trkfit < 0.90 and tksh_distance < 10.0 and tksh_angle > -0.9 and CosmicIPAll3D > 10. and trkpid < 0.02 and hits_ratio > 0.50 and shrmoliereavg < 9 and subcluster > 4 and trkfit < 0.65 and tksh_distance < 6.0 and (shr_tkfit_nhits_tot > 1 and shr_tkfit_dedx_max > 0.5 and shr_tkfit_dedx_max < 5.5) and tksh_angle > -0.9 and shr_trk_len < 300. and pi0_score > 0.67 and nonpi0_score > 0.70 and n_showers_contained == 1 and bnbdata==0\n",
      "reco_e 14 (0.15, 1.55) Reconstructed Energy [ GeV ]\n",
      "reco_e 0.0000 0.0000 0.0000\n"
     ]
    },
    {
     "name": "stderr",
     "output_type": "stream",
     "text": [
      "/home/david/miniconda2/envs/python3LEE/lib/python3.7/site-packages/ipykernel_launcher.py:118: UserWarning: Matplotlib is currently using module://ipykernel.pylab.backend_inline, which is a non-GUI backend, so cannot show the figure.\n"
     ]
    },
    {
     "data": {
      "image/png": "[encoded data removed]",
      "text/plain": [
       "<Figure size 504x360 with 1 Axes>"
      ]
     },
     "metadata": {
      "needs_background": "light"
     },
     "output_type": "display_data"
    }
   ],
   "source": [
    "from unblinding_far_sideband import *\n",
    "\n",
    "# choose sideband, preselection, and selection\n",
    "# find defintions in unblinding_far_sideband.py\n",
    "sdb_key = 'None'\n",
    "pre_key = 'NP'\n",
    "sel_key = 'NPBDT'\n",
    "#sdb_key = 'TwoPShr'\n",
    "#pre_key = 'NP'\n",
    "#sel_key = 'NPBDTAllShr' #'None' 'NPVLAllShr' 'NPLAllShr' 'NPBDTAllShr'\n",
    "run = 123\n",
    "\n",
    "sideband = sideband_categories[sdb_key]\n",
    "preselection = preselection_categories[pre_key]\n",
    "sel =  selection_categories[sel_key]\n",
    "\n",
    "QUERY = \"\"\n",
    "for query in [sideband['query'],preselection['query'],sel['query']]:\n",
    "    if query is None: continue\n",
    "    if QUERY: QUERY += ' and '\n",
    "    QUERY += query\n",
    "    if run in [1, 2, 3, 12]:\n",
    "        QUERY += f' and run{run}==True'\n",
    "#\n",
    "\n",
    "QUERY += ' and bnbdata==0'\n",
    "\n",
    "print(QUERY)\n",
    "        \n",
    "#formatting can be improved..\n",
    "TITLE = \"\"\n",
    "for text in [f'Run {run}',' - ',sideband['title'],' - ',preselection['title'],'\\n',sel['title'],' - ',pi0scaling[\"title\"]]:\n",
    "    if text is None: continue\n",
    "    TITLE += text\n",
    "\n",
    "#VARIABLE, BINS, RANGE, XTIT = 'topological_score',20,(0,1),r\"topological score\"\n",
    "VARIABLE, BINS, RANGE, XTIT = 'reco_e',14,(0.15, 1.55),r\"Reconstructed Energy [ GeV ]\"\n",
    "#VARIABLE, BINS, RANGE, XTIT = 'reco_e',21,(0.05, 2.15),r\"reco energy\"\n",
    "#VARIABLE, BINS, RANGE, XTIT = 'reco_e',7,(0.05, 2.85),r\"Reconstructed Energy [GeV]\"\n",
    "#VARIABLE, BINS, RANGE, XTIT = 'reco_e',7,(0.05, 2.15),r\"reco energy\"\n",
    "#VARIABLE, BINS, RANGE, XTIT = 'pi0_score',10,(0,1),r\"pi0 score\"\n",
    "#VARIABLE, BINS, RANGE, XTIT = 'pi0_score',5,(0.5,1),r\"BDT $\\pi^0$ score\"\n",
    "#VARIABLE, BINS, RANGE, XTIT = 'nonpi0_score',10,(0,1),r\"non-pi0 score\"\n",
    "#VARIABLE, BINS, RANGE, XTIT = 'n_showers_contained',10,(-0.5, 9.5),\"n showers contained\"\n",
    "#VARIABLE, BINS, RANGE, XTIT = 'n_tracks_contained',10,(-0.5, 9.5),\"n tracks contained\"\n",
    "#VARIABLE, BINS, RANGE, XTIT = 'shr_tkfit_dedx_max',10,(-0.5, 9.5),\"shr tkfit dE/dx (max, 0-4 cm) [MeV/cm]\"\n",
    "#VARIABLE, BINS, RANGE, XTIT = 'shr_tkfit_dedx_max',15,(0, 10),\"shr tkfit dE/dx (max, 0-4 cm) [MeV/cm]\"\n",
    "#VARIABLE, BINS, RANGE, XTIT = 'tksh_distance',20,(0, 40),\"trk-shr distance [cm]\"\n",
    "#VARIABLE, BINS, RANGE, XTIT = 'trkshrhitdist2',20,(0, 20),\"trk-shr hit dist Y\"\n",
    "#VARIABLE, BINS, RANGE, XTIT = 'trkpid',15,(-1, 1),\"trk PID\"\n",
    "#VARIABLE, BINS, RANGE, XTIT = 'secondshower_Y_nhit',20,(0, 100),\"secondshower Y nhit\"\n",
    "#VARIABLE, BINS, RANGE, XTIT = 'tksh_angle',10,(-1, 1),\"trk-shr angle\"\n",
    "#VARIABLE, BINS, RANGE, XTIT = 'ismerged',2,(-0.5, 1.5),\"is merged\"\n",
    "#VARIABLE, BINS, RANGE, XTIT = 'merge_bestdot',20,(-1, 1),\"merge bestdot\"\n",
    "#VARIABLE, BINS, RANGE, XTIT = 'merge_bestdist',20,(0, 40),\"merge bestdist\"\n",
    "#VARIABLE, BINS, RANGE, XTIT = 'reco_e',17,(0.85,2.55),r\"Reconstructed Energy [GeV]\"\n",
    "\n",
    "#VARIABLE, BINS, RANGE, XTIT = 'trkpid',21,(-1,1),\"track LLR PID\"\n",
    "#VARIABLE, BINS, RANGE, XTIT = 'hits_ratio',20,(0,1),\"shower hits/all hits\"\n",
    "#VARIABLE, BINS, RANGE, XTIT = 'shrmoliereavg',20,(0,50),\"average Moliere angle [degrees]\"\n",
    "#VARIABLE, BINS, RANGE, XTIT = 'subcluster',20,(0,40),\"N sub-clusters in shower\"\n",
    "#VARIABLE, BINS, RANGE, XTIT = 'subcluster',20,(0,20),\"N sub-clusters in shower\"\n",
    "#VARIABLE, BINS, RANGE, XTIT = 'subcluster2',20,(0,20),\"N sub-clusters in sub-leading shower\"\n",
    "#VARIABLE, BINS, RANGE, XTIT = 'shr2pid',15,(-1, 1),\"shr2 PID\"\n",
    "#VARIABLE, BINS, RANGE, XTIT = 'tk1sh2_distance',20,(0, 100),\"trk1-shr2 distance [cm]\"\n",
    "#VARIABLE, BINS, RANGE, XTIT = 'shr2_score',10,(0,0.5),r\"shr2 score\"\n",
    "#VARIABLE, BINS, RANGE, XTIT = 'shr2_id',10,(-0.5,9.5),r\"shr2 id\"\n",
    "#VARIABLE, BINS, RANGE, XTIT = 'shrsubclustersold',20,(0,40),\"N sub-clusters in shower\"\n",
    "#VARIABLE, BINS, RANGE, XTIT = 'deltashrsbcfix',21,(-10.5,10.5),\"subcluster-shrsubclustersfix\"\n",
    "#VARIABLE, BINS, RANGE, XTIT = 'deltashr2sbcfix',21,(-10.5,10.5),\"subcluster-shr2subclustersfix\"\n",
    "#VARIABLE, BINS, RANGE, XTIT = 'trkfit',10,(0,1.0),\"Fraction of Track-fitted points\"\n",
    "#VARIABLE, BINS, RANGE, XTIT = 'CosmicIPAll3D',20,(0,200),\"CosmicIPAll3D [cm]\"\n",
    "#VARIABLE, BINS, RANGE, XTIT = 'tksh_distance',20,(0,40),\"trk-shr distance [cm]\"\n",
    "#VARIABLE, BINS, RANGE, XTIT = 'shr_tkfit_dedx_max',15,(0,10),\"shr tkfit dE/dx (max, 0-4 cm) [MeV/cm]\"\n",
    "#VARIABLE, BINS, RANGE, XTIT = 'tksh_angle',20,(-1,1),\"cos(trk-shr angle)\"\n",
    "#VARIABLE, BINS, RANGE, XTIT = 'shr_trk_len',20,(0,400),\"shr trk len [cm]\"\n",
    "\n",
    "#VARIABLE, BINS, RANGE, XTIT = 'trk_len',20,(0,200),\"trk len [cm]\"\n",
    "\n",
    "#VARIABLE, BINS, RANGE, XTIT = 'shr12_cos_p1_dstart',20,(-1,1),\"cos(shr1_dir,shr2_start-shr1_start)\"\n",
    "#VARIABLE, BINS, RANGE, XTIT = 'shr12_cos_p1_dstart',20,(0.8,1),\"cos(shr1_dir,shr2_start-shr1_start)\"\n",
    "\n",
    "#VARIABLE, BINS, RANGE, XTIT = 'is_shr2splt',2,(-0.5,1.5),\"is shr2splt\"\n",
    "#VARIABLE, BINS, RANGE, XTIT = 'is_trk1bad',2,(-0.5,1.5),\"is trk1bad\"\n",
    "#VARIABLE, BINS, RANGE, XTIT = 'is_trk1embd',2,(-0.5,1.5),\"is trk1embd\"\n",
    "#VARIABLE, BINS, RANGE, XTIT = 'is_trk2srtshr',2,(-0.5,1.5),\"is trk2srtshr\"\n",
    "#VARIABLE, BINS, RANGE, XTIT = 'is_shr2prtn',2,(-0.5,1.5),\"is shr2prtn\"\n",
    "#VARIABLE, BINS, RANGE, XTIT = 'trk_distance',10,(0, 300),\"trk-vtx distance\"\n",
    "#VARIABLE, BINS, RANGE, XTIT = 'trk_len',20,(0, 400),\"trk len\"\n",
    "\n",
    "#VARIABLE, BINS, RANGE, XTIT = 'sh1sh2_distance',20,(0,200),\"sh1sh2 distance [cm]\"\n",
    "\n",
    "#RANGE = (0.6,1)\n",
    "\n",
    "print(VARIABLE, BINS, RANGE, XTIT)\n",
    "\n",
    "fig, ax1, ax2 = plotter_runbyrun[run].plot_variable(\n",
    "    VARIABLE,   \n",
    "    query=QUERY,\n",
    "    kind=\"event_category\",\n",
    "    draw_sys=True,\n",
    "    ratio=False,\n",
    "    stacksort=3,\n",
    "    title=XTIT,\n",
    "    bins=BINS,\n",
    "    range=RANGE,\n",
    ")[0:3]\n",
    "\n",
    "print('%s %.4f %.4f %.4f' % (VARIABLE, plotter_runbyrun[run].stats['pvaluestatonly'], plotter_runbyrun[run].stats['pvaluediag'], plotter_runbyrun[run].stats['pvalue']))\n",
    "\n",
    "#ax1.set_ylim(0, ax1.get_ylim()[1]*1.8)\n",
    "\n",
    "ax1.set_title(TITLE, loc='left')\n",
    "ax1.set_ylim(0.1, ax1.get_ylim()[1]*1.4)\n",
    "#ax1.set_yscale('log')\n",
    "\n",
    "plt.tight_layout()\n",
    "fig.show()\n",
    "#save_path = ls.plots_path+'PELEE_far_sideband_runbyrun/run_12/HiEadd_NPOneShr_Nm1NPL_pi0e040/'+VARIABLE\n",
    "#fig.savefig(save_path + '_test_run3_trkpidcut.png', dpi=250)    \n",
    "#fig.savefig(save_path + '.png', dpi=250)    \n",
    "#plt.close()\n",
    " "
   ]
  },
  {
   "cell_type": "code",
   "execution_count": 19,
   "metadata": {},
   "outputs": [
    {
     "name": "stdout",
     "output_type": "stream",
     "text": [
      "/home/david/data/searchingfornues/v08_00_00_43/0702/\n",
      "weight for sample mc is 0.18831\n",
      "sample mc has 5 selected entries\n",
      "weight for sample nue is 0.00373\n",
      "sample nue has 16922 selected entries\n",
      "sample data has 0 selected entries\n",
      "weight for sample ext is 0.46248\n",
      "sample ext has 2 selected entries\n",
      "weight for sample dirt is 1.35514\n",
      "sample dirt has 0 selected entries\n",
      "weight for sample ncpi0 is 0.16540\n",
      "sample ncpi0 has 30 selected entries\n",
      "weight for sample ccpi0 is 0.12609\n",
      "sample ccpi0 has 17 selected entries\n",
      "weight for sample ccnopi is 0.07487\n",
      "sample ccnopi has 45 selected entries\n",
      "weight for sample cccpi is 0.07202\n",
      "sample cccpi has 12 selected entries\n",
      "weight for sample ncnopi is 0.10259\n",
      "sample ncnopi has 8 selected entries\n",
      "weight for sample nccpi is 0.04871\n",
      "sample nccpi has 16 selected entries\n",
      "weight for sample lee is 0.00373\n",
      "sample lee has 16922 selected entries\n"
     ]
    }
   ],
   "source": [
    "# store text files with selected events (needed input to produce SBNFit NTuples)\n",
    "\n",
    "# thruth-cut on MC sample to avoid double counting with truth-filters (i.e. ccpi0, ncpi0, cccpi, ...)\n",
    "NU_Q = \"~(abs(nu_pdg) == 12 & ccnc == 0)\"\n",
    "NU_Q += \" & ~(mcf_np0==1 & mcf_nmp==0 & mcf_nmm==0 & mcf_nem==0 & mcf_nep==0)\"\n",
    "NU_Q += \" & ~(mcf_pass_ccpi0==1)\"\n",
    "NU_Q += \" & ~(mcf_pass_ccnopi==1 & (nslice==0 | (slnunhits/slnhits)>0.1))\"\n",
    "NU_Q += \" & ~(mcf_pass_ncnopi==1 & (nslice==0 | (slnunhits/slnhits)>0.1))\"\n",
    "NU_Q += \" & ~(mcf_pass_cccpi==1 & (nslice==0 | (slnunhits/slnhits)>0.1))\"\n",
    "NU_Q += \" & ~(mcf_pass_nccpi==1 & (nslice==0 | (slnunhits/slnhits)>0.1))\"\n",
    "\n",
    "\n",
    "print (ls.ntuple_path)\n",
    "\n",
    "for key, df in samples.items():\n",
    "    #print ('sample : ',key)\n",
    "    #continue\n",
    "    fout = open(ls.ntuple_path+'SBNFit/'+key+'.txt','w')\n",
    "    dfsel = df.query(QUERY)\n",
    "    if (key == 'mc'):\n",
    "        dfsel = dfsel.query(NU_Q)\n",
    "    if (key != 'data'):\n",
    "        print ('weight for sample %s is %.05f'%(key,this_weights[key]))\n",
    "    print ('sample %s has %i selected entries'%(key,dfsel.shape[0]))\n",
    "    for i,row in dfsel.iterrows():\n",
    "        run = row['run']\n",
    "        sub = row['sub']\n",
    "        evt = row['evt']\n",
    "        fout.write('%i %i %i \\n'%(run,sub,evt))\n",
    "    fout.close()"
   ]
  },
  {
   "cell_type": "code",
   "execution_count": null,
   "metadata": {},
   "outputs": [],
   "source": [
    "# just a simple check to verify there are no NaN in data\n",
    "samples['data'].columns[samples['data'].isna().any()].tolist()"
   ]
  },
  {
   "cell_type": "code",
   "execution_count": null,
   "metadata": {},
   "outputs": [],
   "source": [
    "#print(samples['data'].query(QUERY)[[\"run\",\"sub\",\"evt\",\"reco_e\",\"pi0_score\"]])\n",
    "#samples['data'].query(QUERY)[[\"run\",\"sub\",\"evt\",\"reco_e\",\"n_showers_contained\",\"n_tracks_contained\",\"tksh_distance\",\"shr_tkfit_dedx_max\",\"trkpid\",\"hits_ratio\",\"trkfit\",\"tksh_angle\",\"subcluster\",\"shrmoliereavg\",\"trkshrhitdist2\",\"shr_trk_len\",\"shr_score\",\"pi0_score\",\"nonpi0_score\"]] \n",
    "samples['data'].query(QUERY)[[\"run\",\"sub\",\"evt\",\"reco_e\",\"n_showers_contained\",\"n_tracks_contained\",\"tksh_distance\",\"shr_tkfit_dedx_max\",\"trkpid\",\"pi0_score\",\"nonpi0_score\"]] "
   ]
  },
  {
   "cell_type": "code",
   "execution_count": null,
   "metadata": {},
   "outputs": [],
   "source": [
    "#print(samples['data'].query(QUERY)[[\"run\",\"sub\",\"evt\"]])\n",
    "#QUERY=\" and \".join([HIGH_ENERGY_EXT,BDTCQ])\n",
    "print(QUERY)\n",
    "print(len(samples['data'].query(QUERY)[[\"run\",\"sub\",\"evt\",\"reco_e\"]]))\n",
    "pd.set_option('display.max_rows', 100)\n",
    "print(samples['data'].query(QUERY)[[\"run\",\"sub\",\"evt\",\"reco_e\"]])from significance_calculator import significanceCalculator\n",
    "\n",
    "this_cov = plotter_runbyrun[run].cov + plotter_runbyrun[run].cov_mc_stat\n",
    "expected_bin_contents = {'bg': out[3][0][-1],\n",
    "                         'signal': np.zeros(out[3][0][-1].shape)}\n",
    "observed_bin_contents = plotter_runbyrun[run].data\n",
    "this_pot = pot_data_unblinded[which_sideband[1]][run][0]\n",
    "\n",
    "my_signif = significanceCalculator(expected_bin_contents, pot=this_pot)\n",
    "my_signif.setCovarianceMatrix(this_cov, is_cov='cov')\n",
    "\n",
    "fig, ax = my_signif.testStatisticsWithData(0, 1, \n",
    "                                           observed_bin_contents, \n",
    "                                           chi2_pdf_superimposed=True, \n",
    "                                           n_toy=100000, \n",
    "                                           n_bins=100, \n",
    "                                           range=[0,40],\n",
    "                                           title=f'Run {run}, {XTIT}, N bins = {BINS}\\n',\n",
    "                                           test_stat='chi2_cnp')"
   ]
  },
  {
   "cell_type": "markdown",
   "metadata": {},
   "source": [
    "# Multiple variable plotting"
   ]
  },
  {
   "cell_type": "code",
   "execution_count": null,
   "metadata": {
    "scrolled": false
   },
   "outputs": [],
   "source": [
    "from unblinding_far_sideband import *\n",
    "\n",
    "#plot_variables = [('reco_e',7,(0.05,2.85),r\"Reconstructed Energy [GeV]\",\"coarse\")]\n",
    "\n",
    "# choose sideband, preselection, and selection(s)\n",
    "# find defintions in unblinding_far_sideband.py\n",
    "#sdb_key = 'HiEext'\n",
    "#pre_key = 'NPOneShr'\n",
    "#sel_keys = ['NPL','NPBDT'] #['None','NPVL','NPL','NPBDT','NPT']\n",
    "sdb_key = 'TwoPShr'\n",
    "pre_key = 'NP'\n",
    "sel_keys = ['None','NPVLAllShr','NPLAllShr','NPBDTAllShr','NPTAllShr'] #'None' 'NPVLAllShr' 'NPLAllShr' 'NPBDTAllShr' 'NPTAllShr'\n",
    "#sdb_key = 'None'\n",
    "#pre_key = 'NP'\n",
    "#sel_keys = ['None']#,'NPVL'\n",
    "runs = [123] #[1,2,3,12,123]\n",
    "\n",
    "sideband = sideband_categories[sdb_key]\n",
    "preselection = preselection_categories[pre_key]\n",
    "\n",
    "for run in runs:\n",
    "    for sel_key in sel_keys:\n",
    "        sel =  selection_categories[sel_key]\n",
    "        print('\\nRun %i, %s, %s, %s'%(run, sideband['dir'], preselection['dir'], sel['dir']))\n",
    "        if (which_sideband[1] != \"opendata\"):\n",
    "            this_folder = ls.plots_path+'PELEE_far_sideband_runbyrun/'\n",
    "        else:\n",
    "            this_folder = ls.plots_path+'PELEE_opendata/'\n",
    "        this_folder += 'run_{}/'.format(run)\n",
    "        this_folder += '{}_{}_{}'.format(sideband['dir'], preselection['dir'], sel['dir'])\n",
    "        this_folder += (pi0scaling[\"suffix\"]+'/')\n",
    "        !mkdir -p $this_folder\n",
    "\n",
    "        this_query = \"\"\n",
    "        for query in [sideband['query'],preselection['query'],sel['query']]:\n",
    "            if query is None: continue\n",
    "            if this_query: this_query += ' and '\n",
    "            this_query += query\n",
    "        if run in [1, 2, 3, 12]:\n",
    "            this_query += f' and run{run}==True'\n",
    "\n",
    "        #formatting can be improved..\n",
    "        this_title = \"\"\n",
    "        for text in [f'Run {run}',' - ',sideband['title'],' - ',preselection['title'],'\\n',sel['title'],' - ',pi0scaling[\"title\"]]:\n",
    "            if text is None: continue\n",
    "            this_title += text\n",
    "\n",
    "        pvalues = [[] for _ in range(len(pvaluetypes))]\n",
    "        \n",
    "        for plot_variable in plot_variables:\n",
    "            VARIABLE, BINS, RANGE, XTIT = plot_variable[0:4]\n",
    "            #if VARIABLE != 'tksh_angle': continue\n",
    "            #if len(plot_variable)>4 or VARIABLE not in TRAINVAR: continue\n",
    "            print(VARIABLE, BINS, RANGE, XTIT)\n",
    "            fig, ax1, ax2 = plotter_runbyrun[run].plot_variable(\n",
    "                VARIABLE,   \n",
    "                query=this_query,\n",
    "                kind=\"event_category\",\n",
    "                draw_sys=True,\n",
    "                stacksort=3,\n",
    "                title=XTIT,\n",
    "                bins=BINS,\n",
    "                range=RANGE,\n",
    "            )[0:3]\n",
    "\n",
    "            if len(plot_variable) == 6:\n",
    "                if plot_variable[5] is True:\n",
    "                    ax1.set_yscale('log')\n",
    "            else:\n",
    "                ax1.set_ylim(0, ax1.get_ylim()[1]*1.8) \n",
    "\n",
    "            ax1.set_title(this_title, loc='left')\n",
    "\n",
    "            plt.tight_layout()\n",
    "            save_path = this_folder+VARIABLE\n",
    "            if len(plot_variable) >= 5:\n",
    "                save_path += ('_' + plot_variable[4])\n",
    "            fig.savefig(save_path + '.png', dpi=250)    \n",
    "            plt.close()\n",
    "            # store pvalues\n",
    "            if len(plot_variable)==4 and VARIABLE in TRAINVAR:\n",
    "                for idx, pvt in enumerate(pvaluetypes):\n",
    "                    pvalues[idx].append(plotter_runbyrun[run].stats[pvt])\n",
    "            #print ('%s %.04f'%(VARIABLE,plotter_runbyrun[run].stats['chisqstatonly']))\n",
    "            print('%s %.4f %.4f %.4f' % (VARIABLE, plotter_runbyrun[run].stats['pvaluestatonly'], plotter_runbyrun[run].stats['pvaluediag'], plotter_runbyrun[run].stats['pvalue']))\n",
    "        # make pvalue plots\n",
    "        #print(pvalues)\n",
    "        for idx, pvt in enumerate(pvaluetypes):\n",
    "            if len(pvalues[idx])!=16: continue\n",
    "            plt.figure(figsize=(9, 7))\n",
    "            plt.hist(pvalues[idx], bins=10, range=(0,1))\n",
    "            plt.title(this_title, loc='left')\n",
    "            plt.xlabel(pvt)\n",
    "            plt.ylabel(\"number of BDT input variables\")\n",
    "            plt.savefig(this_folder + pvt + '.png', dpi=250)\n",
    "            plt.close()"
   ]
  },
  {
   "cell_type": "code",
   "execution_count": null,
   "metadata": {},
   "outputs": [],
   "source": [
    "samples['data'].query(BDTCQ)[[\"run\",\"sub\",\"evt\",\"reco_e\",\"pi0_score\",\"nonpi0_score\",\"n_tracks_contained\",\"reco_nu_vtx_sce_x\",\"reco_nu_vtx_sce_y\",\"reco_nu_vtx_sce_z\"]]"
   ]
  },
  {
   "cell_type": "code",
   "execution_count": null,
   "metadata": {},
   "outputs": [],
   "source": []
  }
 ],
 "metadata": {
  "accelerator": "GPU",
  "colab": {
   "name": "Plotter.ipynb",
   "provenance": [],
   "version": "0.3.2"
  },
  "kernelspec": {
   "display_name": "Python 3",
   "language": "python",
   "name": "python3"
  },
  "language_info": {
   "codemirror_mode": {
    "name": "ipython",
    "version": 3
   },
   "file_extension": ".py",
   "mimetype": "text/x-python",
   "name": "python",
   "nbconvert_exporter": "python",
   "pygments_lexer": "ipython3",
   "version": "3.7.4"
  }
 },
 "nbformat": 4,
 "nbformat_minor": 4
}
