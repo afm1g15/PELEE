{
 "cells": [
  {
   "cell_type": "code",
   "execution_count": 1,
   "id": "2879806d",
   "metadata": {},
   "outputs": [
    {
     "name": "stdout",
     "output_type": "stream",
     "text": [
      "Welcome to JupyROOT 6.24/02\n"
     ]
    }
   ],
   "source": [
    "import sys\n",
    "\n",
    "#sys.path.insert(0, 'backend_functions')\n",
    "\n",
    "#import selection_functions as sf\n",
    "\n",
    "import importlib\n",
    "\n",
    "import uproot\n",
    "import matplotlib.pylab as pylab\n",
    "import numpy as np\n",
    "import math\n",
    "from sklearn.model_selection import train_test_split\n",
    "import pickle\n",
    "import xgboost as xgb\n",
    "\n",
    "import awkward\n",
    "import matplotlib.pyplot as plt\n",
    "import pandas as pd\n",
    "\n",
    "import ROOT\n",
    "from ROOT import TH1F, TH2F, TDirectory, TH1D\n",
    "\n",
    "from matplotlib import gridspec\n"
   ]
  },
  {
   "cell_type": "code",
   "execution_count": 2,
   "id": "cdd417ad",
   "metadata": {},
   "outputs": [],
   "source": [
    "ending = \"Jan19_MECTune\""
   ]
  },
  {
   "cell_type": "code",
   "execution_count": 3,
   "id": "8b14eea6",
   "metadata": {},
   "outputs": [],
   "source": [
    "##Regular tune prior true and smearcept to be used\n",
    "\n",
    "\n",
    "#Recall for comparison it will be the MEC tune for prior true"
   ]
  },
  {
   "cell_type": "code",
   "execution_count": 4,
   "id": "c7c3f6cb",
   "metadata": {},
   "outputs": [
    {
     "name": "stdout",
     "output_type": "stream",
     "text": [
      "[ 47.21201646 136.0093503   61.05931869  21.24654483   7.263672\n",
      "   6.66049554]\n",
      "\n",
      "[ 40.65831303 979.73743312 986.69333677 479.51333265 173.34499843\n",
      " 114.88041891]\n"
     ]
    }
   ],
   "source": [
    "####Load in MECTune full event counts\n",
    "\n",
    "nue_data_signal = pd.read_csv(\"nue_full_500_catsel_nopions_recoE_usingSelection_full_evt_count_MCONLY_recoCut_comb_\"+ending+\".csv\", header=None)\n",
    "\n",
    "nue_data_signal = nue_data_signal.values[:, 0]\n",
    "\n",
    "print(nue_data_signal)\n",
    "print(\"\")\n",
    "\n",
    "######\n",
    "\n",
    "numu_data_signal = pd.read_csv(\"numu_full_500_catsel_nopions_recoE_usingSelection_full_evt_count_MCONLY_recoCut_comb_\"+ending+\".csv\", header=None)\n",
    "\n",
    "numu_data_signal = numu_data_signal.values[:, 0]\n",
    "\n",
    "print(numu_data_signal)"
   ]
  },
  {
   "cell_type": "code",
   "execution_count": 5,
   "id": "a999b771",
   "metadata": {},
   "outputs": [
    {
     "name": "stdout",
     "output_type": "stream",
     "text": [
      "[19.21965235 35.55935628 13.36897008  7.02825689  2.07583359  2.55905788]\n",
      "\n",
      "[ 12.04845879 285.47329057 267.68210436 134.33220236  54.3722367\n",
      "  35.3196804 ]\n",
      "\n"
     ]
    }
   ],
   "source": [
    "###Load in regular tune bkg event counts\n",
    "#Include ext in bkg count here as the full event counts do\n",
    "\n",
    "ending = \"Jan19\" #need this ending as bkg is from regular tune\n",
    "\n",
    "\n",
    "\n",
    "nue_bkg_inc_ext = pd.read_csv(\"nue_nopions_energy_usingSelection_comb_cv_nue_bkg_incExt_\"+ending+\".csv\", header=None)\n",
    "\n",
    "nue_bkg_inc_ext = nue_bkg_inc_ext.values[:, 0]\n",
    "\n",
    "print(nue_bkg_inc_ext)\n",
    "print(\"\")\n",
    "\n",
    "#######################\n",
    "\n",
    "numu_bkg_inc_ext = pd.read_csv(\"numu_nopions_energy_usingSelection_comb_cv_numu_bkg_incExt_\"+ending+\".csv\", header=None)\n",
    "\n",
    "numu_bkg_inc_ext = numu_bkg_inc_ext.values[:, 0]\n",
    "\n",
    "print(numu_bkg_inc_ext)\n",
    "print(\"\")"
   ]
  },
  {
   "cell_type": "code",
   "execution_count": 6,
   "id": "0fe6cc8a",
   "metadata": {},
   "outputs": [
    {
     "name": "stdout",
     "output_type": "stream",
     "text": [
      "[ 27.99236411 100.44999403  47.69034861  14.21828795   5.18783841\n",
      "   4.10143766]\n",
      "\n",
      "[ 28.60985424 694.26414255 719.01123241 345.1811303  118.97276173\n",
      "  79.56073851]\n"
     ]
    }
   ],
   "source": [
    "####So then can calculate the data signal input to the unfolding\n",
    "\n",
    "nue_datasig_bkg_subtracted = nue_data_signal - nue_bkg_inc_ext\n",
    "print(nue_datasig_bkg_subtracted)\n",
    "print(\"\")\n",
    "\n",
    "numu_datasig_bkg_subtracted = numu_data_signal - numu_bkg_inc_ext\n",
    "print(numu_datasig_bkg_subtracted)"
   ]
  },
  {
   "cell_type": "code",
   "execution_count": 7,
   "id": "1d47fce7",
   "metadata": {},
   "outputs": [
    {
     "name": "stdout",
     "output_type": "stream",
     "text": [
      "[ 27.99236411 100.44999403  47.69034861  14.21828795   5.18783841\n",
      "   4.10143766  28.60985424 694.26414255 719.01123241 345.1811303\n",
      " 118.97276173  79.56073851]\n",
      "12\n"
     ]
    }
   ],
   "source": [
    "nue_numu_tot = np.concatenate((nue_datasig_bkg_subtracted, numu_datasig_bkg_subtracted), axis=0)\n",
    "\n",
    "print(nue_numu_tot)\n",
    "print(len(nue_numu_tot))"
   ]
  },
  {
   "cell_type": "code",
   "execution_count": 8,
   "id": "237e5524",
   "metadata": {},
   "outputs": [
    {
     "data": {
      "image/png": "[encoded data removed]",
      "text/plain": [
       "<Figure size 576x504 with 1 Axes>"
      ]
     },
     "metadata": {
      "needs_background": "light"
     },
     "output_type": "display_data"
    }
   ],
   "source": [
    "nue_numu_fig = plt.figure(figsize=(8, 7))\n",
    "nue_numu_gs = gridspec.GridSpec(2, 1, height_ratios=[2, 1])\n",
    "nue_numu_ax1 = plt.subplot(nue_numu_gs[0])\n",
    "\n",
    "\n",
    "bins = np.arange(0, 13, 1)\n",
    "count = np.arange(0.0, 12.0, 1)\n",
    "\n",
    "\n",
    "sel_ratio = nue_numu_ax1.hist(count, bins, edgecolor='red', facecolor='red', weights=nue_numu_tot)\n",
    "nue_numu_ax1.set_ylabel('Count', fontsize=15)\n",
    "nue_numu_ax1.set_xlabel('Bin Number', fontsize=15)\n",
    "nue_numu_ax1.set_title(\"Nue, Numu, Data Selected Values\")\n",
    "#leg = nue_numu_ax1.legend()\n",
    "#nue_numu_ax1.set_ylim([0, 1])\n",
    "\n",
    "nue_numu_fig.savefig(\"data_signal_MC_MECTune_input_recoE_comb_\"+ending+\".svg\", bbox_inches='tight')"
   ]
  },
  {
   "cell_type": "code",
   "execution_count": 9,
   "id": "ec3bcd31",
   "metadata": {},
   "outputs": [
    {
     "name": "stdout",
     "output_type": "stream",
     "text": [
      "Jan19\n"
     ]
    }
   ],
   "source": [
    "np.savetxt(\"data_signal_MC_MECTune_input_recoE_comb_\"+ending+\".csv\", \n",
    "               nue_numu_tot,\n",
    "               delimiter =\", \", \n",
    "               fmt ='% s')\n",
    "\n",
    "print(ending)"
   ]
  },
  {
   "cell_type": "code",
   "execution_count": 10,
   "id": "d36109d1",
   "metadata": {},
   "outputs": [
    {
     "name": "stdout",
     "output_type": "stream",
     "text": [
      "[ 7.56537423 15.10659856  6.29681841  1.93596481  0.35686457  0.52304459]\n",
      "\n",
      "[ 25.49630765 667.08307319 990.5281648  508.80297831 203.56071232\n",
      " 123.6249744 ]\n",
      "\n",
      "[5.65827009 7.22904869 1.1592881  0.8356417  0.15572174 0.35322086]\n",
      "\n",
      "[  6.27232845 101.31446365  75.88071481  34.04410151  22.12514915\n",
      "   7.55075645]\n",
      "\n"
     ]
    }
   ],
   "source": [
    "####Now need to get in the uncertainties\n",
    "\n",
    "###First up, get the noTune statistical uncertinaty. This will be from sig + bkg in noTune\n",
    "\n",
    "ending = \"Jan19_MECTune\" \n",
    "\n",
    "\n",
    "nue_sig_unc = pd.read_csv(\"nue_total_noTune_err_squared_energy_comb_\"+ending+\".csv\", header=None)\n",
    "\n",
    "nue_sig_unc = nue_sig_unc.values[:, 0]\n",
    "\n",
    "print(nue_sig_unc)\n",
    "print(\"\")\n",
    "\n",
    "########################\n",
    "\n",
    "numu_sig_unc = pd.read_csv(\"numu_total_noTune_err_squared_energy_comb_\"+ending+\".csv\", header=None)\n",
    "\n",
    "numu_sig_unc = numu_sig_unc.values[:, 0]\n",
    "\n",
    "print(numu_sig_unc)\n",
    "print(\"\")\n",
    "\n",
    "#######################The regular tune bkg stat uncertainties\n",
    "\n",
    "ending = \"Jan19\" #need this ending as bkg is from regular tune\n",
    "\n",
    "\n",
    "nue_bkg_unc = pd.read_csv(\"nue_bkg_exp_err_squared_energy_comb_\"+ending+\".csv\", header=None)\n",
    "\n",
    "nue_bkg_unc = nue_bkg_unc.values[:, 0]\n",
    "\n",
    "print(nue_bkg_unc)\n",
    "print(\"\")\n",
    "\n",
    "########################\n",
    "\n",
    "numu_bkg_unc = pd.read_csv(\"numu_bkg_exp_err_squared_energy_comb_\"+ending+\".csv\", header=None)\n",
    "\n",
    "numu_bkg_unc = numu_bkg_unc.values[:, 0]\n",
    "\n",
    "print(numu_bkg_unc)\n",
    "print(\"\")"
   ]
  },
  {
   "cell_type": "code",
   "execution_count": 11,
   "id": "ce8bac06",
   "metadata": {},
   "outputs": [
    {
     "name": "stdout",
     "output_type": "stream",
     "text": [
      "[13.22364433 22.33564725  7.45610652  2.77160651  0.51258631  0.87626545]\n",
      "\n",
      "[  31.7686361   768.39753684 1066.40887961  542.84707982  225.68586147\n",
      "  131.17573085]\n",
      "\n",
      "[1.32236443e+01 2.23356473e+01 7.45610652e+00 2.77160651e+00\n",
      " 5.12586308e-01 8.76265453e-01 3.17686361e+01 7.68397537e+02\n",
      " 1.06640888e+03 5.42847080e+02 2.25685861e+02 1.31175731e+02]\n"
     ]
    }
   ],
   "source": [
    "nue_stat_unc = nue_sig_unc + nue_bkg_unc\n",
    "print(nue_stat_unc)\n",
    "print(\"\")\n",
    "\n",
    "########################\n",
    "\n",
    "numu_stat_unc = numu_sig_unc + numu_bkg_unc\n",
    "print(numu_stat_unc)\n",
    "print(\"\")\n",
    "\n",
    "#########################\n",
    "\n",
    "nue_numu_tot_unc = np.concatenate((nue_stat_unc, numu_stat_unc), axis=0)\n",
    "\n",
    "print(nue_numu_tot_unc)"
   ]
  },
  {
   "cell_type": "code",
   "execution_count": 12,
   "id": "19ba13ad",
   "metadata": {},
   "outputs": [
    {
     "name": "stdout",
     "output_type": "stream",
     "text": [
      "[[0. 0. 0. 0. 0. 0. 0. 0. 0. 0. 0. 0.]\n",
      " [0. 0. 0. 0. 0. 0. 0. 0. 0. 0. 0. 0.]\n",
      " [0. 0. 0. 0. 0. 0. 0. 0. 0. 0. 0. 0.]\n",
      " [0. 0. 0. 0. 0. 0. 0. 0. 0. 0. 0. 0.]\n",
      " [0. 0. 0. 0. 0. 0. 0. 0. 0. 0. 0. 0.]\n",
      " [0. 0. 0. 0. 0. 0. 0. 0. 0. 0. 0. 0.]\n",
      " [0. 0. 0. 0. 0. 0. 0. 0. 0. 0. 0. 0.]\n",
      " [0. 0. 0. 0. 0. 0. 0. 0. 0. 0. 0. 0.]\n",
      " [0. 0. 0. 0. 0. 0. 0. 0. 0. 0. 0. 0.]\n",
      " [0. 0. 0. 0. 0. 0. 0. 0. 0. 0. 0. 0.]\n",
      " [0. 0. 0. 0. 0. 0. 0. 0. 0. 0. 0. 0.]\n",
      " [0. 0. 0. 0. 0. 0. 0. 0. 0. 0. 0. 0.]]\n"
     ]
    }
   ],
   "source": [
    "nue_numu_cov_stats   = np.zeros([(len(bins)-1), (len(bins)-1)])\n",
    "print(nue_numu_cov_stats)"
   ]
  },
  {
   "cell_type": "code",
   "execution_count": 13,
   "id": "ded66ab1",
   "metadata": {},
   "outputs": [],
   "source": [
    "nue_numu_cov_stats[np.diag_indices_from(nue_numu_cov_stats)]    = nue_numu_tot_unc"
   ]
  },
  {
   "cell_type": "code",
   "execution_count": 14,
   "id": "f41989e6",
   "metadata": {},
   "outputs": [
    {
     "name": "stdout",
     "output_type": "stream",
     "text": [
      "[[2.53017148e+01 7.99407377e+01 3.99007309e+01 1.26380588e+01\n",
      "  4.54239104e+00 4.57004876e+00 1.81604317e+01 5.05284250e+02\n",
      "  5.65974539e+02 3.33914439e+02 1.05960908e+02 7.85345339e+01]\n",
      " [7.99407377e+01 3.08108472e+02 1.62251623e+02 4.71041703e+01\n",
      "  1.69882573e+01 1.83169989e+01 5.28640247e+01 1.81795820e+03\n",
      "  2.19221301e+03 1.40647066e+03 4.31347278e+02 3.11483241e+02]\n",
      " [3.99007309e+01 1.62251623e+02 8.90573718e+01 2.47740106e+01\n",
      "  9.02293871e+00 9.86893150e+00 2.57474340e+01 9.45957267e+02\n",
      "  1.18265161e+03 7.82946291e+02 2.38548628e+02 1.71617214e+02]\n",
      " [1.26380588e+01 4.71041703e+01 2.47740106e+01 8.21778604e+00\n",
      "  2.84539621e+00 2.87104210e+00 8.10721565e+00 2.86469603e+02\n",
      "  3.53382346e+02 2.17248914e+02 6.95344904e+01 5.02987675e+01]\n",
      " [4.54239104e+00 1.69882573e+01 9.02293871e+00 2.84539621e+00\n",
      "  1.12641799e+00 1.05321463e+00 2.87655813e+00 1.03590365e+02\n",
      "  1.27825784e+02 7.88274574e+01 2.52781268e+01 1.81911519e+01]\n",
      " [4.57004876e+00 1.83169989e+01 9.86893150e+00 2.87104210e+00\n",
      "  1.05321463e+00 1.15857641e+00 2.95056537e+00 1.07758001e+02\n",
      "  1.33168595e+02 8.56762470e+01 2.66534073e+01 1.91075502e+01]\n",
      " [1.81604317e+01 5.28640247e+01 2.57474340e+01 8.10721565e+00\n",
      "  2.87655813e+00 2.95056537e+00 1.52818394e+01 3.45524909e+02\n",
      "  3.62275148e+02 2.10704820e+02 6.60258967e+01 5.03592370e+01]\n",
      " [5.05284250e+02 1.81795820e+03 9.45957267e+02 2.86469603e+02\n",
      "  1.03590365e+02 1.07758001e+02 3.45524909e+02 1.11525782e+04\n",
      "  1.31879545e+04 8.19916746e+03 2.56039934e+03 1.85338232e+03]\n",
      " [5.65974539e+02 2.19221301e+03 1.18265161e+03 3.53382346e+02\n",
      "  1.27825784e+02 1.33168595e+02 3.62275148e+02 1.31879545e+04\n",
      "  1.64295076e+04 1.04779546e+04 3.27598760e+03 2.35200402e+03]\n",
      " [3.33914439e+02 1.40647066e+03 7.82946291e+02 2.17248914e+02\n",
      "  7.88274574e+01 8.56762470e+01 2.10704820e+02 8.19916746e+03\n",
      "  1.04779546e+04 7.07458138e+03 2.14441843e+03 1.53394820e+03]\n",
      " [1.05960908e+02 4.31347278e+02 2.38548628e+02 6.95344904e+01\n",
      "  2.52781268e+01 2.66534073e+01 6.60258967e+01 2.56039934e+03\n",
      "  3.27598760e+03 2.14441843e+03 6.69516977e+02 4.76819267e+02]\n",
      " [7.85345339e+01 3.11483241e+02 1.71617214e+02 5.02987675e+01\n",
      "  1.81911519e+01 1.91075502e+01 5.03592370e+01 1.85338232e+03\n",
      "  2.35200402e+03 1.53394820e+03 4.76819267e+02 3.46638512e+02]]\n"
     ]
    }
   ],
   "source": [
    "###Then sprinkle in the regular tune genie sys uncertainties\n",
    "\n",
    "# Load in the blockwise genie cov matrix\n",
    "\n",
    "blockwise_genie_err = pd.read_csv(\"blockwise_cov_genie_only_RecoE_comb_\"+ending+\".csv\", header=None)\n",
    "\n",
    "blockwise_genie_err = blockwise_genie_err.values\n",
    "print(blockwise_genie_err)"
   ]
  },
  {
   "cell_type": "code",
   "execution_count": 15,
   "id": "111f10b2",
   "metadata": {},
   "outputs": [
    {
     "name": "stdout",
     "output_type": "stream",
     "text": [
      "[[ 8.12285715e+00 -9.86680642e+00 -1.74222042e+01 -4.65980464e+00\n",
      "  -2.81736980e+00 -3.93907429e+00  7.13867033e+01  1.86123075e+02\n",
      "  -1.15641117e+02 -1.64407563e+01  1.30600711e+01 -7.27281475e-01]\n",
      " [-9.86680642e+00  1.19851756e+01  2.11626910e+01  5.66024854e+00\n",
      "   3.42224933e+00  4.78477989e+00 -8.67131811e+01 -2.26083054e+02\n",
      "   1.40468864e+02  1.99705297e+01 -1.58640231e+01  8.83426287e-01]\n",
      " [-1.74222042e+01  2.11626910e+01  3.73677872e+01  9.99452117e+00\n",
      "   6.04279886e+00  8.44867209e+00 -1.53112839e+02 -3.99203649e+02\n",
      "   2.48031340e+02  3.52627416e+01 -2.80117232e+01  1.55990018e+00]\n",
      " [-4.65980464e+00  5.66024854e+00  9.99452117e+00  2.67317015e+00\n",
      "   1.61622846e+00  2.25971186e+00 -4.09521041e+01 -1.06772427e+02\n",
      "   6.63393437e+01  9.43149819e+00 -7.49211503e+00  4.17216446e-01]\n",
      " [-2.81736980e+00  3.42224933e+00  6.04279886e+00  1.61622846e+00\n",
      "   9.77189734e-01  1.36624697e+00 -2.47600984e+01 -6.45557989e+01\n",
      "   4.01095063e+01  5.70238889e+00 -4.52981622e+00  2.52253712e-01]\n",
      " [-3.93907429e+00  4.78477989e+00  8.44867209e+00  2.25971186e+00\n",
      "   1.36624697e+00  1.91020302e+00 -3.46180565e+01 -9.02579730e+01\n",
      "   5.60786607e+01  7.97273168e+00 -6.33331223e+00  3.52685725e-01]\n",
      " [ 7.13867033e+01 -8.67131811e+01 -1.53112839e+02 -4.09521041e+01\n",
      "  -2.47600984e+01 -3.46180565e+01  6.27373019e+02  1.63571912e+03\n",
      "  -1.01629734e+03 -1.44487509e+02  1.14776784e+02 -6.39162132e+00]\n",
      " [ 1.86123075e+02 -2.26083054e+02 -3.99203649e+02 -1.06772427e+02\n",
      "  -6.45557989e+01 -9.02579730e+01  1.63571912e+03  4.26473081e+03\n",
      "  -2.64974256e+03 -3.76715245e+02  2.99251921e+02 -1.66645630e+01]\n",
      " [-1.15641117e+02  1.40468864e+02  2.48031340e+02  6.63393437e+01\n",
      "   4.01095063e+01  5.60786607e+01 -1.01629734e+03 -2.64974256e+03\n",
      "   1.64632562e+03  2.34058950e+02 -1.85929801e+02  1.03539482e+01]\n",
      " [-1.64407563e+01  1.99705297e+01  3.52627416e+01  9.43149819e+00\n",
      "   5.70238889e+00  7.97273168e+00 -1.44487509e+02 -3.76715245e+02\n",
      "   2.34058950e+02  3.32762799e+01 -2.64337342e+01  1.47202607e+00]\n",
      " [ 1.30600711e+01 -1.58640231e+01 -2.80117232e+01 -7.49211503e+00\n",
      "  -4.52981622e+00 -6.33331223e+00  1.14776784e+02  2.99251921e+02\n",
      "  -1.85929801e+02 -2.64337342e+01  2.09982098e+01 -1.16933582e+00]\n",
      " [-7.27281475e-01  8.83426287e-01  1.55990018e+00  4.17216446e-01\n",
      "   2.52253712e-01  3.52685725e-01 -6.39162132e+00 -1.66645630e+01\n",
      "   1.03539482e+01  1.47202607e+00 -1.16933582e+00  6.51172777e-02]]\n"
     ]
    }
   ],
   "source": [
    "# Load in the blockwise nuwrounisim cov matrix\n",
    "\n",
    "nuWro_unisim = pd.read_csv(\"nuWro_extra_unisim_uncertainties_energy_comb_\"+ending+\".csv\", header=None)\n",
    "\n",
    "nuWro_unisim = nuWro_unisim.values\n",
    "print(nuWro_unisim)"
   ]
  },
  {
   "cell_type": "code",
   "execution_count": 16,
   "id": "86e82551",
   "metadata": {},
   "outputs": [],
   "source": [
    "##### Now make the total cov matrix\n",
    "\n",
    "total_noTune_input_cov = nue_numu_cov_stats + blockwise_genie_err + nuWro_unisim"
   ]
  },
  {
   "cell_type": "code",
   "execution_count": 17,
   "id": "d8f0a80d",
   "metadata": {},
   "outputs": [
    {
     "data": {
      "image/png": "[encoded data removed]",
      "text/plain": [
       "<Figure size 720x432 with 2 Axes>"
      ]
     },
     "metadata": {
      "needs_background": "light"
     },
     "output_type": "display_data"
    }
   ],
   "source": [
    "fig = plt.figure(figsize=(10, 6))\n",
    "\n",
    "plt.pcolor(bins, bins, total_noTune_input_cov, cmap='OrRd', edgecolors='k')\n",
    "\n",
    "cbar = plt.colorbar()\n",
    "cbar.ax.tick_params(labelsize=14)\n",
    "#if pot: \n",
    "#    cbar.set_label(label=\"$\\\\nu^{2}$ / \"+pot+\"$^{2}$\", fontsize=15)\n",
    "\n",
    "plt.xlim(bins[0], bins[-1])\n",
    "plt.ylim(bins[0], bins[-1])\n",
    "\n",
    "\n",
    "plt.xlabel(\"Bin Number\", fontsize=15)\n",
    "plt.ylabel(\"Bin Number\", fontsize=15)\n",
    "\n",
    "plt.title('Covariance Matrix (MECTune)', fontsize=16)\n",
    "\n",
    "\n",
    "plt.savefig(\"data_covmat_MC_MECTune_input_recoE_comb_\"+ending+\".svg\", bbox_inches='tight')\n",
    "\n",
    "plt.show()"
   ]
  },
  {
   "cell_type": "code",
   "execution_count": 18,
   "id": "c3fa84cb",
   "metadata": {},
   "outputs": [],
   "source": [
    "np.savetxt(\"data_covmat_MC_MECTune_input_recoE_comb_\"+ending+\".csv\", \n",
    "           total_noTune_input_cov,\n",
    "           delimiter =\", \", \n",
    "           fmt ='% s')"
   ]
  },
  {
   "cell_type": "code",
   "execution_count": null,
   "id": "f1216474",
   "metadata": {},
   "outputs": [],
   "source": []
  }
 ],
 "metadata": {
  "kernelspec": {
   "display_name": "Python 3 (ipykernel)",
   "language": "python",
   "name": "python3"
  },
  "language_info": {
   "codemirror_mode": {
    "name": "ipython",
    "version": 3
   },
   "file_extension": ".py",
   "mimetype": "text/x-python",
   "name": "python",
   "nbconvert_exporter": "python",
   "pygments_lexer": "ipython3",
   "version": "3.8.12"
  }
 },
 "nbformat": 4,
 "nbformat_minor": 5
}
