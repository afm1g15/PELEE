{
 "cells": [
  {
   "cell_type": "code",
   "execution_count": 4,
   "metadata": {},
   "outputs": [],
   "source": [
    "import plotter\n",
    "import importlib\n",
    "importlib.reload(plotter)\n",
    "import uproot\n",
    "import matplotlib.pylab as pylab\n",
    "import numpy as np\n",
    "import math\n",
    "from sklearn.model_selection import train_test_split\n",
    "import pickle\n",
    "import xgboost as xgb\n",
    "import nue_booster \n",
    "\n",
    "params = {\n",
    "    'axes.labelsize': 'x-large',\n",
    "    'axes.titlesize': 'x-large',\n",
    "    'xtick.labelsize': 'x-large',\n",
    "    'ytick.labelsize': 'x-large'\n",
    "}\n",
    "pylab.rcParams.update(params)\n"
   ]
  },
  {
   "cell_type": "code",
   "execution_count": 2,
   "metadata": {},
   "outputs": [],
   "source": [
    "fold = \"nuselection\"\n",
    "tree = \"NeutrinoSelectionFilter\"\n",
    "\n",
    "mc = uproot.open(\"root_files/mc_bnb.root\")[fold][tree]\n",
    "nue = uproot.open(\"root_files/new/nue.root\")[fold][tree]\n",
    "data = uproot.open(\"root_files/bnb.root\")[fold][tree]\n",
    "ext = uproot.open(\"root_files/ext.root\")[fold][tree]\n",
    "dirt = uproot.open(\"root_files/dirt.root\")[fold][tree]\n",
    "lee = uproot.open(\"root_files/new/nue.root\")[fold][tree]\n",
    "\n",
    "variables = [\n",
    "    \"shr_dedx_Y\", \"shr_bkt_pdg\", \"p\", \"pt\", \"selected\", \"nu_pdg\", \"shr_theta\",\n",
    "    \"slpdg\", \"trkshr_score_v\", \"backtracked_pdg\", \"shr_theta_v\",\n",
    "    \"shr_pfp_id_v\", \"category\", \"shr_tkfit_dedx_Y\", \"trk_pfp_id\",\n",
    "    \"shr_energy_tot\", \"trk_energy_tot\", \"shr_hits_tot\", \"ccnc\", \"trk_chipr\",\n",
    "    \"trk_bkt_pdg\", \"hits_ratio\", \"n_tracks_cc0pinp\", \"nslice\", \"npion\",\n",
    "    \"nproton\", \"nu_e\", \"n_showers_cc0pinp\", \"shr_distance\", \"trk_distance\",\n",
    "    \"hits_y\", \"shr_pz\", \"shr_energy\", \"shr_dedx_U\", \"shr_dedx_V\", \"shr_phi\", \"trk_phi\", \"trk_theta\",\n",
    "    \"shr_tkfit_dedx_U\", \"shr_tkfit_dedx_V\", \"run\", \"sub\", \"evt\", \"nproton\", \"trk_pid_chipr_v\",\n",
    "    \"trk_len\", \"mc_pdg\", \"slnunhits\", \"slnhits\", \"shr_score\", \"trk_score\", \"trk_hits_tot\"\n",
    "]\n",
    "\n",
    "mc = mc.pandas.df(variables, flatten=False)\n",
    "nue = nue.pandas.df(variables + [\"true_e_visible\"], flatten=False)\n",
    "data = data.pandas.df(variables, flatten=False)\n",
    "ext = ext.pandas.df(variables, flatten=False)\n",
    "dirt = dirt.pandas.df(variables, flatten=False)\n",
    "lee = lee.pandas.df(variables + [\"leeweight\", \"true_e_visible\"], flatten=False)\n",
    "\n",
    "lee.loc[lee['category'] == 1, 'category'] = 111\n",
    "lee.loc[lee['category'] == 10, 'category'] = 111\n",
    "lee.loc[lee['category'] == 11, 'category'] = 111\n",
    "\n",
    "ext[\"shr_dedx_Y\"] = ext[\"shr_dedx_Y\"] * 1.042\n",
    "data[\"shr_dedx_Y\"] = data[\"shr_dedx_Y\"] * 1.042\n",
    "ext[\"shr_energy_tot\"] = ext[\"shr_energy_tot\"] * 1.042\n",
    "data[\"shr_energy_tot\"] = data[\"shr_energy_tot\"] * 1.042\n",
    "\n",
    "lee[\"reco_e\"] = (lee[\"shr_energy_tot\"] + 0.02) / 0.8 + lee[\"trk_energy_tot\"]\n",
    "data[\"reco_e\"] = (data[\"shr_energy_tot\"] + 0.02) / 0.8 + data[\"trk_energy_tot\"]\n",
    "nue[\"reco_e\"] = (nue[\"shr_energy_tot\"] + 0.02) / 0.8 + nue[\"trk_energy_tot\"]\n",
    "mc[\"reco_e\"] = (mc[\"shr_energy_tot\"] + 0.02) / 0.8 + mc[\"trk_energy_tot\"]\n",
    "dirt[\"reco_e\"] = (dirt[\"shr_energy_tot\"] + 0.02) / 0.8 + dirt[\"trk_energy_tot\"]\n",
    "ext[\"reco_e\"] = (ext[\"shr_energy_tot\"] + 0.02) / 0.8 + ext[\"trk_energy_tot\"]\n",
    "\n",
    "data[\"true_e_visible\"] = 0\n",
    "mc[\"true_e_visible\"] = 0\n",
    "dirt[\"true_e_visible\"] = 0\n",
    "ext[\"true_e_visible\"] = 0\n",
    "\n",
    "lee[\"is_signal\"] = lee[\"category\"] == 11\n",
    "data[\"is_signal\"] = data[\"category\"] == 11\n",
    "nue[\"is_signal\"] = nue[\"category\"] == 11\n",
    "mc[\"is_signal\"] = mc[\"category\"] == 11\n",
    "dirt[\"is_signal\"] = dirt[\"category\"] == 11\n",
    "ext[\"is_signal\"] = ext[\"category\"] == 11\n",
    "\n",
    "mc = mc.query(\"selected==1\")\n",
    "nue = nue.query(\"selected==1\")\n",
    "train_mc, mc = train_test_split(mc, test_size=0.5, random_state=1990)\n",
    "train_nue, nue = train_test_split(nue, test_size=0.5, random_state=1990)\n",
    "# train_ext, ext = train_test_split(ext, test_size=0.5, random_state=1990)"
   ]
  },
  {
   "cell_type": "code",
   "execution_count": 7,
   "metadata": {},
   "outputs": [],
   "source": [
    "\n",
    "features = nue_booster.variables.copy()\n",
    "features.remove(\"is_signal\")\n",
    "features.remove(\"nu_e\")\n",
    "features.remove(\"train_weight\")\n",
    "\n",
    "for label, bkg_query in zip(nue_booster.labels, nue_booster.bkg_queries):\n",
    "    with open('pickles/booster_%s.pickle' % label, 'rb') as booster_file:\n",
    "        booster = pickle.load(booster_file)\n",
    "        mc[label+\"_score\"] = booster.predict(\n",
    "            xgb.DMatrix(mc[features]),\n",
    "            ntree_limit=booster.best_iteration + 1)\n",
    "        nue[label+\"_score\"] = booster.predict(\n",
    "            xgb.DMatrix(nue[features]),\n",
    "            ntree_limit=booster.best_iteration + 1)\n",
    "        ext[label+\"_score\"] = booster.predict(\n",
    "            xgb.DMatrix(ext[features]),\n",
    "            ntree_limit=booster.best_iteration + 1)\n",
    "        data[label+\"_score\"] = booster.predict(\n",
    "            xgb.DMatrix(data[features]),\n",
    "            ntree_limit=booster.best_iteration + 1)\n",
    "        dirt[label+\"_score\"] = booster.predict(\n",
    "            xgb.DMatrix(dirt[features]),\n",
    "            ntree_limit=booster.best_iteration + 1)\n",
    "        lee[label+\"_score\"] = booster.predict(\n",
    "            xgb.DMatrix(lee[features]),\n",
    "            ntree_limit=booster.best_iteration + 1)\n",
    "        \n",
    "features = [\"%s_score\" % l for l in nue_booster.labels]\n",
    "\n",
    "with open('pickles/booster.pickle', 'rb') as booster_file:\n",
    "    booster = pickle.load(booster_file)\n",
    "    \n",
    "    mc[\"global_score\"] = booster.predict(\n",
    "        xgb.DMatrix(mc[features]),\n",
    "        ntree_limit=booster.best_iteration + 1)\n",
    "    nue[\"global_score\"] = booster.predict(\n",
    "        xgb.DMatrix(nue[features]),\n",
    "        ntree_limit=booster.best_iteration + 1)\n",
    "    ext[\"global_score\"] = booster.predict(\n",
    "        xgb.DMatrix(ext[features]),\n",
    "        ntree_limit=booster.best_iteration + 1)\n",
    "    data[\"global_score\"] = booster.predict(\n",
    "        xgb.DMatrix(data[features]),\n",
    "        ntree_limit=booster.best_iteration + 1)\n",
    "    dirt[\"global_score\"] = booster.predict(\n",
    "        xgb.DMatrix(dirt[features]),\n",
    "        ntree_limit=booster.best_iteration + 1)\n",
    "    lee[\"global_score\"] = booster.predict(\n",
    "        xgb.DMatrix(lee[features]),\n",
    "        ntree_limit=booster.best_iteration + 1)\n"
   ]
  },
  {
   "cell_type": "code",
   "execution_count": 8,
   "metadata": {},
   "outputs": [],
   "source": [
    "samples = {\"mc\": mc, \"nue\": nue, \"data\": data, \"ext\": ext, \"dirt\": dirt, \"lee\": lee}\n",
    "weights = {\"mc\": 0.048277*2, \"nue\": 0.00060052*2, \"ext\": 0.698738, \"dirt\": 0.296018, \"lee\": 0.00060052}\n",
    "\n",
    "my_plotter = plotter.Plotter(samples, weights)"
   ]
  },
  {
   "cell_type": "code",
   "execution_count": 10,
   "metadata": {
    "scrolled": false
   },
   "outputs": [
    {
     "name": "stdout",
     "output_type": "stream",
     "text": [
      "5.607753347842624\n"
     ]
    },
    {
     "data": {
      "image/png": "[encoded data removed]",
      "text/plain": [
       "<Figure size 576x504 with 2 Axes>"
      ]
     },
     "metadata": {
      "needs_background": "light"
     },
     "output_type": "display_data"
    }
   ],
   "source": [
    "miniboone_bins = [\n",
    "    0, 0.200, 0.300, 0.375, 0.475, 0.550, 0.675, 0.800, 0.950, 1.100, 1.300,\n",
    "    1.500, 3.000\n",
    "]\n",
    "\n",
    "# print(data.query(\"run == 5328 & evt == 1515\")[[\"global_score\"]].to_string(index=False))6\n",
    "score_cut = 0.995\n",
    "fig, ax1, ax2 = my_plotter.plot_variable(\n",
    "    \"nu_e\",\n",
    "#     query=\"nu_e < 0.8 & reco_e < 0.8 & selected==1 & shr_energy/shr_energy_tot > 0.8 & hits_y > 100 & trk_chipr < 80 & shr_distance < 5 & trk_distance < 2.5 & selected==1 & pt/p < 0.9 & slpdg==12 & (shr_energy_tot+0.02)/0.8 > 0.06 & shr_tkfit_dedx_Y < 3.2 & shr_tkfit_dedx_Y > 0.5\",\n",
    "    query=\"selected==1  & global_score > %g\" % score_cut,\n",
    "    kind=\"event_category\",\n",
    "#     title=r\"$dE/dx$ [MeV/cm]\",\n",
    "#     bins=miniboone_bins,\n",
    "    bins=6,\n",
    "    range=(0.2,0.8)\n",
    ")\n",
    "print(my_plotter.significance)\n",
    "# print(lee.query(\"category == 111 & selected==1 & shr_tkfit_dedx_Y > 4 & shr_distance < 2.5 & nu_e < 0.3 & trk_chipr < 80 & nproton > 0\")[[\"run\", \"sub\", \"evt\", \"trk_len\"]].to_string(index=False))\n",
    "# ax1.set_ylim(0,190)\n",
    "# (0, 0.2, 0.4, 0.6, 0.9, 1.25, 1.9, 2.5)\n",
    "# ax1.set_yscale(\"log\")\n",
    "# ax1.set_ylim(0,1.6)\n",
    "fig.savefig(\"plots/spectrum.pdf\")"
   ]
  },
  {
   "cell_type": "code",
   "execution_count": null,
   "metadata": {},
   "outputs": [],
   "source": []
  }
 ],
 "metadata": {
  "kernelspec": {
   "display_name": "Python 3",
   "language": "python",
   "name": "python3"
  },
  "language_info": {
   "codemirror_mode": {
    "name": "ipython",
    "version": 3
   },
   "file_extension": ".py",
   "mimetype": "text/x-python",
   "name": "python",
   "nbconvert_exporter": "python",
   "pygments_lexer": "ipython3",
   "version": "3.7.3"
  }
 },
 "nbformat": 4,
 "nbformat_minor": 2
}
