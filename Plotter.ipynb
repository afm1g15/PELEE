{
 "cells": [
  {
   "cell_type": "code",
   "execution_count": 1,
   "metadata": {
    "colab": {
     "base_uri": "https://localhost:8080/",
     "height": 34
    },
    "colab_type": "code",
    "executionInfo": {
     "elapsed": 517,
     "status": "ok",
     "timestamp": 1560556807118,
     "user": {
      "displayName": "Stefano Roberto Soleti",
      "photoUrl": "https://lh4.googleusercontent.com/-hfLpspJu4Q0/AAAAAAAAAAI/AAAAAAAABmA/2kE4rtj8paU/s64/photo.jpg",
      "userId": "10372352518008961760"
     },
     "user_tz": 240
    },
    "id": "6qsD0G-yYJ9K",
    "outputId": "5d52a3ec-50be-44fc-da44-3c0593e98bc6"
   },
   "outputs": [],
   "source": [
    "import sys\n",
    "try:\n",
    "    from google.colab import drive\n",
    "    drive.mount(\"/content/drive\")\n",
    "    main_path = '/content/drive/My Drive/lee_mcc9/'\n",
    "except:\n",
    "    main_path = ''\n",
    "sys.path.append(main_path)"
   ]
  },
  {
   "cell_type": "code",
   "execution_count": 24,
   "metadata": {
    "colab": {},
    "colab_type": "code",
    "id": "xGqTJ5JgaDsx"
   },
   "outputs": [],
   "source": [
    "import plotter\n",
    "import importlib\n",
    "importlib.reload(plotter)\n",
    "import uproot\n",
    "import matplotlib.pylab as pylab\n",
    "import numpy as np\n",
    "import math\n",
    "from sklearn.model_selection import train_test_split\n",
    "import pickle\n",
    "import xgboost as xgb\n",
    "import nue_booster \n",
    "importlib.reload(nue_booster)\n",
    "\n",
    "params = {\n",
    "    'axes.labelsize': 'x-large',\n",
    "    'axes.titlesize': 'x-large',\n",
    "    'xtick.labelsize': 'x-large',\n",
    "    'ytick.labelsize': 'x-large'\n",
    "}\n",
    "pylab.rcParams.update(params)\n"
   ]
  },
  {
   "cell_type": "code",
   "execution_count": 3,
   "metadata": {
    "colab": {},
    "colab_type": "code",
    "id": "iwoCIaigYJ9N"
   },
   "outputs": [],
   "source": [
    "fold = \"nuselection\"\n",
    "tree = \"NeutrinoSelectionFilter\"\n",
    "\n",
    "mc = uproot.open(main_path+\"root_files/new/mc_bnb.root\")[fold][tree]\n",
    "nue = uproot.open(main_path+\"root_files/new/nue.root\")[fold][tree]\n",
    "data = uproot.open(main_path+\"root_files/new/bnb.root\")[fold][tree]\n",
    "ext = uproot.open(main_path+\"root_files/new/ext.root\")[fold][tree]\n",
    "dirt = uproot.open(main_path+\"root_files/new/dirt.root\")[fold][tree]\n",
    "lee = uproot.open(main_path+\"root_files/new/nue.root\")[fold][tree]\n",
    "\n",
    "variables = [\n",
    "    \"shr_dedx_Y\", \"shr_bkt_pdg\", \"p\", \"pt\", \"selected\", \"nu_pdg\", \"shr_theta\",\n",
    "    \"slpdg\", \"trkshr_score_v\", \"backtracked_pdg\", \"shr_theta_v\",\n",
    "    \"shr_pfp_id_v\", \"category\", \"shr_tkfit_dedx_Y\", #\"trk_pfp_id\",\n",
    "    \"shr_energy_tot\", \"trk_energy_tot\", \"shr_hits_tot\", \"ccnc\", \"trk_chipr\",\n",
    "    \"trk_bkt_pdg\", \"hits_ratio\", \"n_tracks_contained\", \n",
    "    \"nproton\", \"nu_e\", \"n_showers_contained\", \"shr_distance\", \"trk_distance\",\n",
    "    \"hits_y\", \"shr_pz\", \"shr_energy\", \"shr_dedx_U\", \"shr_dedx_V\", \"shr_phi\", \"trk_phi\", \"trk_theta\",\n",
    "    \"shr_tkfit_dedx_U\", \"shr_tkfit_dedx_V\", \"run\", \"sub\", \"evt\", \"nproton\", #\"trk_pid_chipr_v\",\n",
    "    \"trk_len\", \"mc_pdg\", \"slnunhits\", \"slnhits\", \"shr_score\", \"trk_score\", \"trk_hits_tot\",\n",
    "    \"true_e_visible\", \"matched_E\", \"shr_bkt_E\", \"trk_bkt_E\", \"trk_energy\", \"tksh_distance\", \"tksh_angle\",\n",
    "    \"trk_chipr_best\", \"trk_chipr_worst\", \"trk_pida\", \"trk_chimu\", \"CosmicIP\", \"trk_bragg_p\", \"trk_bragg_mu\",\n",
    "    \"trk_bragg_mip\", \"shr_chipr\", \"shr_bragg_p\", \"shr_bragg_mu\", \"shr_chimu\",\n",
    "    \"shr_pca_2\", \"shr_pca_0\", \"shr_pca_1\"\n",
    "]\n",
    "\n",
    "mc = mc.pandas.df(variables, flatten=False)\n",
    "nue = nue.pandas.df(variables + [\"true_e_visible\"], flatten=False)\n",
    "data = data.pandas.df(variables, flatten=False)\n",
    "ext = ext.pandas.df(variables, flatten=False)\n",
    "dirt = dirt.pandas.df(variables, flatten=False)\n",
    "lee = lee.pandas.df(variables + [\"leeweight\", \"true_e_visible\"], flatten=False)\n",
    "\n",
    "ext[\"shr_dedx_Y\"] = ext[\"shr_dedx_Y\"] * 1.042\n",
    "data[\"shr_dedx_Y\"] = data[\"shr_dedx_Y\"] * 1.042\n",
    "ext[\"shr_tkfit_dedx_Y\"] = ext[\"shr_tkfit_dedx_Y\"] * 1.042\n",
    "data[\"shr_tkfit_dedx_Y\"] = data[\"shr_tkfit_dedx_Y\"] * 1.042\n",
    "ext[\"shr_energy_tot\"] = ext[\"shr_energy_tot\"] * 1.042\n",
    "data[\"shr_energy_tot\"] = data[\"shr_energy_tot\"] * 1.042\n",
    "\n",
    "lee[\"reco_e\"] = (lee[\"shr_energy_tot\"] + 0.02) / 0.8 + lee[\"trk_energy_tot\"]\n",
    "data[\"reco_e\"] = (data[\"shr_energy_tot\"] + 0.02) / 0.8 + data[\"trk_energy_tot\"]\n",
    "nue[\"reco_e\"] = (nue[\"shr_energy_tot\"] + 0.02) / 0.8 + nue[\"trk_energy_tot\"]\n",
    "mc[\"reco_e\"] = (mc[\"shr_energy_tot\"] + 0.02) / 0.8 + mc[\"trk_energy_tot\"]\n",
    "dirt[\"reco_e\"] = (dirt[\"shr_energy_tot\"] + 0.02) / 0.8 + dirt[\"trk_energy_tot\"]\n",
    "ext[\"reco_e\"] = (ext[\"shr_energy_tot\"] + 0.02) / 0.8 + ext[\"trk_energy_tot\"]\n",
    "\n",
    "lee[\"is_signal\"] = lee[\"category\"] == 11\n",
    "data[\"is_signal\"] = data[\"category\"] == 11\n",
    "nue[\"is_signal\"] = nue[\"category\"] == 11\n",
    "mc[\"is_signal\"] = mc[\"category\"] == 11\n",
    "dirt[\"is_signal\"] = dirt[\"category\"] == 11\n",
    "ext[\"is_signal\"] = ext[\"category\"] == 11\n",
    "\n",
    "lee.loc[lee['category'] == 1, 'category'] = 111\n",
    "lee.loc[lee['category'] == 10, 'category'] = 111\n",
    "lee.loc[lee['category'] == 11, 'category'] = 111\n",
    "\n",
    "train_mc, mc = train_test_split(mc, test_size=0.5, random_state=1990)\n",
    "train_nue, nue = train_test_split(nue, test_size=0.5, random_state=1990)\n",
    "train_lee, lee = train_test_split(lee, test_size=0.5, random_state=1990)\n",
    "train_ext, ext = train_test_split(ext, test_size=0.5, random_state=1990)"
   ]
  },
  {
   "cell_type": "code",
   "execution_count": 4,
   "metadata": {
    "colab": {},
    "colab_type": "code",
    "id": "XcI43ileYJ9P"
   },
   "outputs": [],
   "source": [
    "features = nue_booster.variables.copy()\n",
    "features.remove(\"is_signal\")\n",
    "features.remove(\"nu_e\")\n",
    "features.remove(\"train_weight\")\n",
    "\n",
    "for label, bkg_query in zip(nue_booster.labels, nue_booster.bkg_queries):\n",
    "    with open(main_path+'pickles/booster_%s.pickle' % label, 'rb') as booster_file:\n",
    "        booster = pickle.load(booster_file)\n",
    "        mc[label+\"_score\"] = booster.predict(\n",
    "            xgb.DMatrix(mc[features]),\n",
    "            ntree_limit=booster.best_iteration + 1)\n",
    "        nue[label+\"_score\"] = booster.predict(\n",
    "            xgb.DMatrix(nue[features]),\n",
    "            ntree_limit=booster.best_iteration + 1)\n",
    "        ext[label+\"_score\"] = booster.predict(\n",
    "            xgb.DMatrix(ext[features]),\n",
    "            ntree_limit=booster.best_iteration + 1)\n",
    "        data[label+\"_score\"] = booster.predict(\n",
    "            xgb.DMatrix(data[features]),\n",
    "            ntree_limit=booster.best_iteration + 1)\n",
    "        dirt[label+\"_score\"] = booster.predict(\n",
    "            xgb.DMatrix(dirt[features]),\n",
    "            ntree_limit=booster.best_iteration + 1)\n",
    "        lee[label+\"_score\"] = booster.predict(\n",
    "            xgb.DMatrix(lee[features]),\n",
    "            ntree_limit=booster.best_iteration + 1)\n",
    "        \n",
    "features = [\"%s_score\" % l for l in nue_booster.labels]\n",
    "\n",
    "with open(main_path+'pickles/booster.pickle', 'rb') as booster_file:\n",
    "    booster = pickle.load(booster_file)\n",
    "    \n",
    "    mc[\"global_score\"] = booster.predict(\n",
    "        xgb.DMatrix(mc[features]),\n",
    "        ntree_limit=booster.best_iteration + 1)\n",
    "    nue[\"global_score\"] = booster.predict(\n",
    "        xgb.DMatrix(nue[features]),\n",
    "        ntree_limit=booster.best_iteration + 1)\n",
    "    ext[\"global_score\"] = booster.predict(\n",
    "        xgb.DMatrix(ext[features]),\n",
    "        ntree_limit=booster.best_iteration + 1)\n",
    "    data[\"global_score\"] = booster.predict(\n",
    "        xgb.DMatrix(data[features]),\n",
    "        ntree_limit=booster.best_iteration + 1)\n",
    "    dirt[\"global_score\"] = booster.predict(\n",
    "        xgb.DMatrix(dirt[features]),\n",
    "        ntree_limit=booster.best_iteration + 1)\n",
    "    lee[\"global_score\"] = booster.predict(\n",
    "        xgb.DMatrix(lee[features]),\n",
    "        ntree_limit=booster.best_iteration + 1)\n"
   ]
  },
  {
   "cell_type": "code",
   "execution_count": 25,
   "metadata": {
    "colab": {},
    "colab_type": "code",
    "id": "_pamv0W8YJ9R"
   },
   "outputs": [],
   "source": [
    "samples = {\n",
    "    \"mc\": mc,\n",
    "    \"nue\": nue,\n",
    "    \"data\": data,\n",
    "    \"ext\": ext,\n",
    "    \"dirt\": dirt,\n",
    "    \"lee\": lee\n",
    "}\n",
    "\n",
    "scaling = 1\n",
    "\n",
    "weights = {\n",
    "    \"mc\": 0.03507833 * 2 * scaling,\n",
    "    \"nue\": 0.00036576 * 2 * scaling,\n",
    "    \"ext\": 0.16347 * 2 * scaling,\n",
    "    \"dirt\": 0.3266147 * scaling,\n",
    "    \"lee\": 0.00036576 * 2 * scaling\n",
    "}\n",
    "\n",
    "my_plotter = plotter.Plotter(samples, weights)"
   ]
  },
  {
   "cell_type": "code",
   "execution_count": 26,
   "metadata": {
    "colab": {
     "base_uri": "https://localhost:8080/",
     "height": 561
    },
    "colab_type": "code",
    "executionInfo": {
     "elapsed": 2342,
     "status": "ok",
     "timestamp": 1560557343774,
     "user": {
      "displayName": "Stefano Roberto Soleti",
      "photoUrl": "https://lh4.googleusercontent.com/-hfLpspJu4Q0/AAAAAAAAAAI/AAAAAAAABmA/2kE4rtj8paU/s64/photo.jpg",
      "userId": "10372352518008961760"
     },
     "user_tz": 240
    },
    "id": "b93hN-pGYJ9T",
    "outputId": "17e7c7ed-3f12-4b03-805c-6698f1617878",
    "scrolled": false
   },
   "outputs": [
    {
     "name": "stdout",
     "output_type": "stream",
     "text": [
      "Profile likelihood: 1.92 sigma @ 1.32e21 POT\n",
      "s/sqrt(b): 2.38 sigma @ 1.32e21 POT\n"
     ]
    },
    {
     "data": {
      "image/png": "[encoded data removed]",
      "text/plain": [
       "<Figure size 576x504 with 2 Axes>"
      ]
     },
     "metadata": {
      "needs_background": "light"
     },
     "output_type": "display_data"
    }
   ],
   "source": [
    "miniboone_bins = [\n",
    "    0, 0.200, 0.300, 0.375, 0.475, 0.550, 0.675, 0.800, 0.950, 1.100, 1.300,\n",
    "    1.500, 3.000\n",
    "]\n",
    "\n",
    "score_cut = 0.9996\n",
    "\n",
    "fig, ax1, ax2 = my_plotter.plot_variable(\n",
    "    \"reco_e\",\n",
    "#     query=\"trk_chipr >= 0 & tksh_angle < 0.9 & -tksh_angle < 0.9 & hits_y > 60 & trk_chipr_worst < 80 & trk_chipr_best < 80 & n_showers_contained == 1 & selected==1 & shr_energy/shr_energy_tot > 0.8 & trk_chipr < 80 & shr_distance < 5 & trk_distance < 2.5 & selected==1 & slpdg==12 & (shr_energy_tot+0.02)/0.8 > 0.06 & shr_tkfit_dedx_Y < 3.2 & shr_tkfit_dedx_Y > 0.5\",\n",
    "    query=\"selected==1 & global_score > %g & category != 0\" % score_cut,\n",
    "    kind=\"event_category\",\n",
    "    title=r\"$E_{deposited}$ [MeV]\",\n",
    "#     bins=miniboone_bins,\n",
    "    bins=6,\n",
    "    range=(0.2,0.8)\n",
    ")\n",
    "\n",
    "# ax1.axvline(x=0, color=\"k\")\n",
    "# print(samples[\"mc\"].query(\"selected==1 & global_score > %g & reco_e > 0.2 & reco_e < 0.8 & category != 11\" % score_cut)[[\"run\",\"sub\",\"evt\",\"shr_score\", \"category\", \"trk_chipr\"]])\n",
    "\n",
    "print(\"Profile likelihood: %.2f sigma @ 1.32e21 POT\" % my_plotter.significance_likelihood)\n",
    "print(\"s/sqrt(b): %.2f sigma @ 1.32e21 POT\" % my_plotter.significance)\n",
    "\n",
    "# ax1.set_ylim(2400,2500)\n",
    "# ax1.set_yscale(\"log\")\n",
    "ax1.set_ylim(0,1.6)\n",
    "fig.savefig(main_path+\"plots/spectrum.pdf\")"
   ]
  },
  {
   "cell_type": "code",
   "execution_count": 0,
   "metadata": {
    "colab": {},
    "colab_type": "code",
    "id": "IY-_CoJwYJ9X"
   },
   "outputs": [],
   "source": []
  }
 ],
 "metadata": {
  "accelerator": "GPU",
  "colab": {
   "name": "Plotter.ipynb",
   "provenance": [],
   "version": "0.3.2"
  },
  "kernelspec": {
   "display_name": "Python 3",
   "language": "python",
   "name": "python3"
  },
  "language_info": {
   "codemirror_mode": {
    "name": "ipython",
    "version": 3
   },
   "file_extension": ".py",
   "mimetype": "text/x-python",
   "name": "python",
   "nbconvert_exporter": "python",
   "pygments_lexer": "ipython3",
   "version": "3.7.3"
  }
 },
 "nbformat": 4,
 "nbformat_minor": 1
}
