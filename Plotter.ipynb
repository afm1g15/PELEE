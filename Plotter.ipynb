{
 "cells": [
  {
   "cell_type": "code",
   "execution_count": 1,
   "metadata": {
    "colab": {
     "base_uri": "https://localhost:8080/",
     "height": 34
    },
    "colab_type": "code",
    "executionInfo": {
     "elapsed": 517,
     "status": "ok",
     "timestamp": 1560556807118,
     "user": {
      "displayName": "Stefano Roberto Soleti",
      "photoUrl": "https://lh4.googleusercontent.com/-hfLpspJu4Q0/AAAAAAAAAAI/AAAAAAAABmA/2kE4rtj8paU/s64/photo.jpg",
      "userId": "10372352518008961760"
     },
     "user_tz": 240
    },
    "id": "6qsD0G-yYJ9K",
    "outputId": "5d52a3ec-50be-44fc-da44-3c0593e98bc6"
   },
   "outputs": [],
   "source": [
    "import sys\n",
    "try:\n",
    "    from google.colab import drive\n",
    "    drive.mount(\"/content/drive\")\n",
    "    main_path = '/content/drive/My Drive/lee_mcc9/'\n",
    "except:\n",
    "    main_path = ''\n",
    "sys.path.append(main_path)"
   ]
  },
  {
   "cell_type": "code",
   "execution_count": 49,
   "metadata": {
    "colab": {},
    "colab_type": "code",
    "id": "xGqTJ5JgaDsx"
   },
   "outputs": [],
   "source": [
    "import plotter\n",
    "import importlib\n",
    "importlib.reload(plotter)\n",
    "import uproot\n",
    "import matplotlib.pylab as pylab\n",
    "import numpy as np\n",
    "import math\n",
    "from sklearn.model_selection import train_test_split\n",
    "import pickle\n",
    "import xgboost as xgb\n",
    "import nue_booster \n",
    "importlib.reload(nue_booster)\n",
    "\n",
    "params = {\n",
    "    'axes.labelsize': 'x-large',\n",
    "    'axes.titlesize': 'x-large',\n",
    "    'xtick.labelsize': 'x-large',\n",
    "    'ytick.labelsize': 'x-large'\n",
    "}\n",
    "pylab.rcParams.update(params)\n"
   ]
  },
  {
   "cell_type": "code",
   "execution_count": 3,
   "metadata": {
    "colab": {},
    "colab_type": "code",
    "id": "iwoCIaigYJ9N"
   },
   "outputs": [],
   "source": [
    "fold = \"nuselection\"\n",
    "tree = \"NeutrinoSelectionFilter\"\n",
    "\n",
    "mc = uproot.open(main_path+\"root_files/v17/mc_bnb.root\")[fold][tree]\n",
    "nc = uproot.open(main_path+\"root_files/v17/nc.root\")[fold][tree]\n",
    "nue = uproot.open(main_path+\"root_files/v17/nue.root\")[fold][tree]\n",
    "data = uproot.open(main_path+\"root_files/v17/bnb.root\")[fold][tree]\n",
    "ext = uproot.open(main_path+\"root_files/v17/ext.root\")[fold][tree]\n",
    "dirt = uproot.open(main_path+\"root_files/v17/dirt.root\")[fold][tree]\n",
    "lee = uproot.open(main_path+\"root_files/v17/nue.root\")[fold][tree]\n",
    "\n",
    "variables = [\n",
    "    \"shr_dedx_Y\", \"shr_bkt_pdg\", \"p\", \"pt\", \"selected\", \"nu_pdg\", \"shr_theta\",\n",
    "    \"slpdg\", \"trk_score_v\", \"backtracked_pdg\", \"shr_theta_v\", \"shr_score_v\",\n",
    "    \"shr_pfp_id_v\", \"category\", \"shr_tkfit_dedx_Y\", \"trk_pfp_id\",\n",
    "    \"shr_energy_tot\", \"trk_energy_tot\", \"shr_hits_tot\", \"ccnc\", \"trk_chipr\",\n",
    "    \"trk_bkt_pdg\", \"hits_ratio\", \"n_tracks_contained\", \"shr_dedx_y_v\",\n",
    "    \"nproton\", \"nu_e\", \"n_showers_contained\", \"shr_distance\", \"trk_distance\",\n",
    "    \"hits_y\", \"shr_pz\", \"shr_energy\", \"shr_dedx_U\", \"shr_dedx_V\", \"shr_phi\", \"trk_phi\", \"trk_theta\",\n",
    "    \"shr_tkfit_dedx_U\", \"shr_tkfit_dedx_V\", \"run\", \"sub\", \"evt\", \"nproton\", \"trk_pid_chipr_v\",\n",
    "    \"trk_len\", \"mc_pdg\", \"slnunhits\", \"slnhits\", \"shr_score\", \"trk_score\", \"trk_hits_tot\",\n",
    "    \"true_e_visible\", \"matched_E\", \"shr_bkt_E\", \"trk_bkt_E\", \"trk_energy\", \"tksh_distance\", \"tksh_angle\",\n",
    "    \"trk_chipr_best\", \"trk_chipr_worst\", \"trk_pida\", \"trk_chimu\", \"CosmicIP\", \"trk_bragg_p\", \"trk_bragg_mu\",\n",
    "    \"trk_bragg_mip\", \"shr_chipr\", \"shr_bragg_p\", \"shr_bragg_mu\", \"shr_chimu\",\n",
    "    \"shr_pca_2\", \"shr_pca_0\", \"shr_pca_1\", \"npi0\", \"gamma1_edep\", \"gamma2_edep\", \"topological_score\",\n",
    "    \"pi0_e\", \"shr_energy_tot_cali\", \"shr_dedx_Y_cali\", \"evnunhits\", \"nslice\", \"interaction\"#, \"crtveto\", \"crthitpe\",\n",
    "#    \"_closestNuCosmicDist\"\n",
    "]\n",
    "\n",
    "nue = nue.pandas.df(variables + [\"weightSpline\", \"weightsGenie\", \"weightsFlux\", \"weightsReint\"], flatten=False)\n",
    "mc = mc.pandas.df(variables + [\"weightSpline\", \"weightsGenie\", \"weightsFlux\", \"weightsReint\"], flatten=False)\n",
    "nc = nc.pandas.df(variables + [\"weightSpline\", \"weightsGenie\", \"weightsFlux\", \"weightsReint\"], flatten=False)\n",
    "data = data.pandas.df(variables, flatten=False)\n",
    "ext = ext.pandas.df(variables, flatten=False)\n",
    "dirt = dirt.pandas.df(variables + [\"weightSpline\", \"weightsGenie\", \"weightsFlux\", \"weightsReint\"], flatten=False)\n",
    "lee = lee.pandas.df(variables + [\"weightSpline\", \"leeweight\"], flatten=False)\n",
    "\n",
    "ext[\"shr_dedx_Y\"] = ext[\"shr_dedx_Y\"] * 1.0411\n",
    "data[\"shr_dedx_Y\"] = data[\"shr_dedx_Y\"] * 1.0411\n",
    "ext[\"shr_dedx_Y_cali\"] = ext[\"shr_dedx_Y_cali\"] * 1.0411\n",
    "data[\"shr_dedx_Y_cali\"] = data[\"shr_dedx_Y_cali\"] * 1.0411\n",
    "ext[\"shr_tkfit_dedx_Y\"] = ext[\"shr_tkfit_dedx_Y\"] * 1.0411\n",
    "data[\"shr_tkfit_dedx_Y\"] = data[\"shr_tkfit_dedx_Y\"] * 1.0411\n",
    "ext[\"shr_dedx_y_v\"] = ext[\"shr_dedx_y_v\"] * 1.0411\n",
    "data[\"shr_dedx_y_v\"] = data[\"shr_dedx_y_v\"] * 1.0411\n",
    "ext[\"shr_energy_tot\"] = ext[\"shr_energy_tot\"] * 1.0411\n",
    "data[\"shr_energy_tot\"] = data[\"shr_energy_tot\"] * 1.0411\n",
    "ext[\"shr_energy_tot_cali\"] = ext[\"shr_energy_tot_cali\"] * 1.0411\n",
    "data[\"shr_energy_tot_cali\"] = data[\"shr_energy_tot_cali\"] * 1.0411\n",
    "\n",
    "lee[\"is_signal\"] = lee[\"category\"] == 11\n",
    "data[\"is_signal\"] = data[\"category\"] == 11\n",
    "nue[\"is_signal\"] = nue[\"category\"] == 11\n",
    "mc[\"is_signal\"] = mc[\"category\"] == 11\n",
    "dirt[\"is_signal\"] = dirt[\"category\"] == 11\n",
    "ext[\"is_signal\"] = ext[\"category\"] == 11\n",
    "nc[\"is_signal\"] = nc[\"category\"] == 11\n",
    "\n",
    "lee.loc[lee['category'] == 1, 'category'] = 111\n",
    "lee.loc[lee['category'] == 10, 'category'] = 111\n",
    "lee.loc[lee['category'] == 11, 'category'] = 111\n",
    "\n",
    "train_nc, nc = train_test_split(nc, test_size=0.5, random_state=1990)\n",
    "train_mc, mc = train_test_split(mc, test_size=0.5, random_state=1990)\n",
    "train_nue, nue = train_test_split(nue, test_size=0.5, random_state=1990)\n",
    "train_lee, lee = train_test_split(lee, test_size=0.5, random_state=1990)\n",
    "train_ext, ext = train_test_split(ext, test_size=0.5, random_state=1990)"
   ]
  },
  {
   "cell_type": "code",
   "execution_count": 4,
   "metadata": {
    "colab": {},
    "colab_type": "code",
    "id": "XcI43ileYJ9P"
   },
   "outputs": [],
   "source": [
    "features = nue_booster.variables.copy()\n",
    "features.remove(\"is_signal\")\n",
    "features.remove(\"nu_e\")\n",
    "features.remove(\"train_weight\")\n",
    "# features.remove('shr_energy_tot_cali')\n",
    "# features.remove('trk_energy_tot')\n",
    "\n",
    "for label, bkg_query in zip(nue_booster.labels, nue_booster.bkg_queries):\n",
    "    with open(main_path+'pickles/booster_%s.pickle' % label, 'rb') as booster_file:\n",
    "        booster = pickle.load(booster_file)\n",
    "        mc[label+\"_score\"] = booster.predict(\n",
    "            xgb.DMatrix(mc[features]),\n",
    "            ntree_limit=booster.best_iteration + 1)\n",
    "        nue[label+\"_score\"] = booster.predict(\n",
    "            xgb.DMatrix(nue[features]),\n",
    "            ntree_limit=booster.best_iteration + 1)\n",
    "        ext[label+\"_score\"] = booster.predict(\n",
    "            xgb.DMatrix(ext[features]),\n",
    "            ntree_limit=booster.best_iteration + 1)\n",
    "        data[label+\"_score\"] = booster.predict(\n",
    "            xgb.DMatrix(data[features]),\n",
    "            ntree_limit=booster.best_iteration + 1)\n",
    "        dirt[label+\"_score\"] = booster.predict(\n",
    "            xgb.DMatrix(dirt[features]),\n",
    "            ntree_limit=booster.best_iteration + 1)\n",
    "        lee[label+\"_score\"] = booster.predict(\n",
    "            xgb.DMatrix(lee[features]),\n",
    "            ntree_limit=booster.best_iteration + 1)\n",
    "        nc[label+\"_score\"] = booster.predict(\n",
    "            xgb.DMatrix(nc[features]),\n",
    "            ntree_limit=booster.best_iteration + 1)\n",
    "features = [\"%s_score\" % l for l in nue_booster.labels]\n"
   ]
  },
  {
   "cell_type": "code",
   "execution_count": 5,
   "metadata": {},
   "outputs": [],
   "source": [
    "with open(main_path+'pickles/booster.pickle', 'rb') as booster_file:\n",
    "    booster = pickle.load(booster_file)\n",
    "    \n",
    "    mc[\"global_score\"] = booster.predict(\n",
    "        xgb.DMatrix(mc[features]),\n",
    "        ntree_limit=booster.best_iteration + 1)\n",
    "    nue[\"global_score\"] = booster.predict(\n",
    "        xgb.DMatrix(nue[features]),\n",
    "        ntree_limit=booster.best_iteration + 1)\n",
    "    ext[\"global_score\"] = booster.predict(\n",
    "        xgb.DMatrix(ext[features]),\n",
    "        ntree_limit=booster.best_iteration + 1)\n",
    "    data[\"global_score\"] = booster.predict(\n",
    "        xgb.DMatrix(data[features]),\n",
    "        ntree_limit=booster.best_iteration + 1)\n",
    "    dirt[\"global_score\"] = booster.predict(\n",
    "        xgb.DMatrix(dirt[features]),\n",
    "        ntree_limit=booster.best_iteration + 1)\n",
    "    lee[\"global_score\"] = booster.predict(\n",
    "        xgb.DMatrix(lee[features]),\n",
    "        ntree_limit=booster.best_iteration + 1)\n",
    "    nc[\"global_score\"] = booster.predict(\n",
    "        xgb.DMatrix(nc[features]),\n",
    "        ntree_limit=booster.best_iteration + 1)"
   ]
  },
  {
   "cell_type": "code",
   "execution_count": 91,
   "metadata": {},
   "outputs": [],
   "source": [
    "genie_bins = [0.  , 0.01, 0.02, 0.03, 0.04, 0.05, 0.06, 0.07, 0.08, 0.09, 0.1 ,\n",
    "       0.11, 0.12, 0.13, 0.14, 0.15, 0.16, 0.17, 0.18, 0.19, 0.2 , 0.21,\n",
    "       0.22, 0.23, 0.24, 0.25, 0.26, 0.27, 0.28, 0.29, 0.3 , 0.31, 0.32,\n",
    "       0.33, 0.34, 0.35, 0.36, 0.37, 0.38, 0.39, 0.4 , 0.41, 0.42, 0.43,\n",
    "       0.44, 0.45, 0.46, 0.47, 0.48, 0.49, 0.5 , 0.51, 0.52, 0.53, 0.54,\n",
    "       0.55, 0.56, 0.57, 0.58, 0.59, 0.6 , 0.61, 0.62, 0.63, 0.64, 0.65,\n",
    "       0.66, 0.67, 0.68, 0.69, 0.7 , 0.71, 0.72, 0.73, 0.74, 0.75, 0.76,\n",
    "       0.77, 0.78, 0.79, 0.8 , 0.81, 0.82, 0.83, 0.84, 0.85, 0.86, 0.87,\n",
    "       0.88, 0.89, 0.9 , 0.91, 0.92, 0.93, 0.94, 0.95, 0.96, 0.97, 0.98,\n",
    "       0.99, 1.  , 1.01, 1.02, 1.03, 1.04, 1.05, 1.06, 1.07, 1.08, 1.09,\n",
    "       1.1 , 1.11, 1.12, 1.13, 1.14, 1.15, 1.16, 1.17, 1.18, 1.19, 1.2 ,\n",
    "       1.21, 1.22, 1.23, 1.24, 1.25, 1.26, 1.27, 1.28, 1.29, 1.3 , 1.31,\n",
    "       1.32, 1.33, 1.34, 1.35, 1.36, 1.37, 1.38, 1.39, 1.4 , 1.41, 1.42,\n",
    "       1.43, 1.44, 1.45, 1.46, 1.47, 1.48, 1.49, 1.5 , 1.51, 1.52, 1.53,\n",
    "       1.54, 1.55, 1.56, 1.57, 1.58, 1.59, 1.6 , 1.61, 1.62, 1.63, 1.64,\n",
    "       1.65, 1.66, 1.67, 1.68, 1.69, 1.7 , 1.71, 1.72, 1.73, 1.74, 1.75,\n",
    "       1.76, 1.77, 1.78, 1.79, 1.8 , 1.81, 1.82, 1.83, 1.84, 1.85, 1.86,\n",
    "       1.87, 1.88, 1.89, 1.9 , 1.91, 1.92, 1.93, 1.94, 1.95, 1.96, 1.97,\n",
    "       1.98, 1.99, 2.  ]\n",
    "\n",
    "genie_scaling = [12.55208645, 12.55208645, 12.55208645, 12.55208645, 12.55208645,\n",
    "                 12.55208645, 12.55208645, 12.55208645, 12.55208645, 12.55208645,\n",
    "                 12.55208645, 12.55208645, 12.55208645, 12.55208645,  9.31846429,\n",
    "                 6.82872646,  5.80966886,  5.25531558,  4.90681853,  4.66746832,\n",
    "                 4.49293156,  4.36002145,  4.25543269,  4.1709845 ,  4.10137029,\n",
    "                 4.04299695,  3.99334533,  3.63941611,  3.37215618,  3.16703426,\n",
    "                 3.0046366 ,  2.87287381,  2.76382446,  2.67208166,  2.59382837,\n",
    "                 2.52629309,  2.46741495,  2.41562972,  2.36972839,  2.30539259,\n",
    "                 2.22447092,  2.15393863,  2.09191568,  2.03694974,  1.9879012 ,\n",
    "                 1.94386333,  1.90410559,  1.86803296,  1.83515574,  1.80506735,\n",
    "                 1.77742741,  1.75194873,  1.72135465,  1.69270839,  1.66611657,\n",
    "                 1.64136581,  1.61827132,  1.59667225,  1.57642789,  1.55741465,\n",
    "                 1.53952355,  1.52265813,  1.5067326 ,  1.49167054,  1.47724254,\n",
    "                 1.4633238 ,  1.45005827,  1.43740101,  1.42531113,  1.41375132,\n",
    "                 1.40268744,  1.39208829,  1.38192516,  1.3721717 ,  1.36280362,\n",
    "                 1.35379853,  1.34513573,  1.3382099 ,  1.33160516,  1.32520344,\n",
    "                 1.31899554,  1.31297275,  1.30712695,  1.30145044,  1.29593597,\n",
    "                 1.2905767 ,  1.28536616,  1.28029826,  1.2753672 ,  1.27093091,\n",
    "                 1.2670996 ,  1.26335684,  1.25969956,  1.25612491,  1.25263008,\n",
    "                 1.24921247,  1.24586951,  1.24259879,  1.23939799,  1.23626491,\n",
    "                 1.23319741,  1.23019345,  1.22864381,  1.2272612 ,  1.22590205,\n",
    "                 1.2245658 ,  1.22325186,  1.22195966,  1.22068869,  1.21943842,\n",
    "                 1.21820836,  1.21699801,  1.2158069 ,  1.21463458,  1.21351191,\n",
    "                 1.21245322,  1.21140978,  1.2103813 ,  1.20936743,  1.20836788,\n",
    "                 1.20738232,  1.20641049,  1.2054521 ,  1.20450685,  1.20357449,\n",
    "                 1.20265476,  1.20174739,  1.20052184,  1.19926979,  1.19803419,\n",
    "                 1.19681469,  1.19561103,  1.19442285,  1.19324989,  1.19209183,\n",
    "                 1.19094842,  1.18981934,  1.18870437,  1.18760322,  1.18631829,\n",
    "                 1.1847203 ,  1.18314236,  1.18158407,  1.18004508,  1.17852505,\n",
    "                 1.1770236 ,  1.1755404 ,  1.17407513,  1.17262746,  1.17119709,\n",
    "                 1.16978368,  1.16838696,  1.16714401,  1.16593671,  1.16474264,\n",
    "                 1.16356158,  1.16239332,  1.16123766,  1.16009438,  1.15896329,\n",
    "                 1.1578442 ,  1.15673692,  1.15564126,  1.15455704,  1.15331053,\n",
    "                 1.1517574 ,  1.15022124,  1.14870176,  1.14719869,  1.14571179,\n",
    "                 1.14424076,  1.14278538,  1.14134538,  1.13992053,  1.13851058,\n",
    "                 1.13711532,  1.1357345 ,  1.13452556,  1.13335865,  1.13220312,\n",
    "                 1.13105879,  1.12992553,  1.12880314,  1.12769148,  1.12659041,\n",
    "                 1.12549978,  1.12441941,  1.12334919,  1.12228896,  1.12127696,\n",
    "                 1.12035283,  1.11943726,  1.11853014,  1.11763134,  1.11674075,\n",
    "                 1.11585826,  1.11498376,  1.11411714,  1.11325829,  1.11240711,\n",
    "                 1.11156352]\n",
    "\n",
    "# nc[\"genie_weight\"] = 1\n",
    "# nue[\"genie_weight\"] = 1\n",
    "# mc[\"genie_weight\"] = 1\n",
    "# dirt[\"genie_weight\"] = 1\n",
    "# lee[\"genie_weight\"] = 1\n",
    "\n",
    "# for i, genie_bin in enumerate(genie_bins):\n",
    "    \n",
    "#     if i == 0:\n",
    "#         continue\n",
    "        \n",
    "#     nue.loc[(nue['nu_e'] > genie_bins[i-1]) & (nue['nu_e'] < genie_bins[i]), 'weightSpline'] = genie_scaling[i-1]\n",
    "#     mc.loc[(mc['nu_e'] > genie_bins[i-1]) & (mc['nu_e'] < genie_bins[i]), 'weightSpline'] = genie_scaling[i-1]\n",
    "#     dirt.loc[(dirt['nu_e'] > genie_bins[i-1]) & (dirt['nu_e'] < genie_bins[i]), 'weightSpline'] = genie_scaling[i-1]\n",
    "#     nc.loc[(nc['nu_e'] > genie_bins[i-1]) & (nc['nu_e'] < genie_bins[i]), 'weightSpline'] = genie_scaling[i-1]\n",
    "#     lee.loc[(lee['nu_e'] > genie_bins[i-1]) & (lee['nu_e'] < genie_bins[i]), 'weightSpline'] = genie_scaling[i-1]\n"
   ]
  },
  {
   "cell_type": "code",
   "execution_count": 50,
   "metadata": {
    "colab": {},
    "colab_type": "code",
    "id": "_pamv0W8YJ9R"
   },
   "outputs": [],
   "source": [
    "lee[\"reco_e\"] = (lee[\"shr_energy_tot_cali\"] + 0.030) / 0.79 + lee[\"trk_energy_tot\"]\n",
    "data[\"reco_e\"] = (data[\"shr_energy_tot_cali\"] + 0.030) / 0.79 + data[\"trk_energy_tot\"]\n",
    "nue[\"reco_e\"] = (nue[\"shr_energy_tot_cali\"] + 0.030) / 0.79 + nue[\"trk_energy_tot\"]\n",
    "mc[\"reco_e\"] = (mc[\"shr_energy_tot_cali\"] + 0.030) / 0.79 + mc[\"trk_energy_tot\"]\n",
    "dirt[\"reco_e\"] = (dirt[\"shr_energy_tot_cali\"] + 0.030) / 0.79 + dirt[\"trk_energy_tot\"]\n",
    "ext[\"reco_e\"] = (ext[\"shr_energy_tot_cali\"] + 0.030) / 0.79 + ext[\"trk_energy_tot\"]\n",
    "nc[\"reco_e\"] = (nc[\"shr_energy_tot_cali\"] + 0.030) / 0.79 + nc[\"trk_energy_tot\"]\n",
    "\n",
    "# nue[\"weightSpline\"] = 1\n",
    "# mc[\"weightSpline\"] = 1\n",
    "# dirt[\"weightSpline\"] = 1\n",
    "# lee[\"weightSpline\"] = 1\n",
    "\n",
    "samples = {\n",
    "    \"mc\": mc,\n",
    "    \"nue\": nue,\n",
    "    \"data\": data,\n",
    "    \"ext\": ext,\n",
    "    \"dirt\": dirt,\n",
    "    \"nc\": nc,\n",
    "    \"lee\": lee\n",
    "}\n",
    "\n",
    "scaling = 1#132.0/4.5\n",
    "\n",
    "weights = {\n",
    "    \"mc\": 0.040061 * 2 * scaling,\n",
    "    \"nue\": 0.0004442 * 2 * scaling,\n",
    "    \"ext\": 0.34689 * 2 * scaling,\n",
    "    \"dirt\": 0.491684 * scaling,\n",
    "    \"lee\": 0.0004442 * 2 * scaling,\n",
    "    \"nc\": 0.017826 * 2 * scaling,\n",
    "}\n",
    "\n",
    "\n",
    "# weights = {\n",
    "#     \"mc\": 0.0213430 * 2 * scaling,\n",
    "#     \"nue\": 0.00009729 * 2 * scaling,\n",
    "#     \"ext\": 0.19003 * 2 * scaling,\n",
    "#     \"dirt\": 0.491684 * scaling,\n",
    "#     \"lee\": 0.00009729 * 2 * scaling,\n",
    "# #     \"nc\": 0.017604 * 2 * scaling,\n",
    "# }\n",
    "\n",
    "\n",
    "\n",
    "my_plotter = plotter.Plotter(samples, weights, pot=4.5e19)"
   ]
  },
  {
   "cell_type": "code",
   "execution_count": 149,
   "metadata": {
    "colab": {
     "base_uri": "https://localhost:8080/",
     "height": 561
    },
    "colab_type": "code",
    "executionInfo": {
     "elapsed": 2342,
     "status": "ok",
     "timestamp": 1560557343774,
     "user": {
      "displayName": "Stefano Roberto Soleti",
      "photoUrl": "https://lh4.googleusercontent.com/-hfLpspJu4Q0/AAAAAAAAAAI/AAAAAAAABmA/2kE4rtj8paU/s64/photo.jpg",
      "userId": "10372352518008961760"
     },
     "user_tz": 240
    },
    "id": "b93hN-pGYJ9T",
    "outputId": "17e7c7ed-3f12-4b03-805c-6698f1617878",
    "scrolled": false
   },
   "outputs": [
    {
     "name": "stdout",
     "output_type": "stream",
     "text": [
      "Profile likelihood: 2.67 sigma @ 1.32e21 POT\n",
      "s/sqrt(b): 3.92 sigma @ 1.32e21 POT\n"
     ]
    },
    {
     "data": {
      "image/png": "[encoded data removed]",
      "text/plain": [
       "<Figure size 576x504 with 2 Axes>"
      ]
     },
     "metadata": {
      "needs_background": "light"
     },
     "output_type": "display_data"
    }
   ],
   "source": [
    "miniboone_bins = [\n",
    "    0, 0.200, 0.300, 0.375, 0.475, 0.550, 0.675, 0.800, 0.950, 1.100, 1.300,\n",
    "    1.500, 3.000\n",
    "]\n",
    "\n",
    "# score_cut = 0.9995\n",
    "score_cut = 0.997\n",
    "\n",
    "# print(samples[\"data\"].query(\"selected==1 & global_score > %g & reco_e >0.8\" % score_cut)[[\"run\", \"sub\", \"evt\"]].to_string(index=False))\n",
    "\n",
    "fig, ax1, ax2 = my_plotter.plot_variable(\n",
    "    \"reco_e\",\n",
    "#     query=\"trk_chipr > 0 & hits_y > 100 & trk_chipr < 80 & hits_ratio > 0.75 & selected==1 & shr_energy/shr_energy_tot > 0.8 & shr_distance < 5 & trk_distance < 5 & slpdg==12 & (shr_energy_tot+0.02)/0.8 > 0.06 & shr_tkfit_dedx_Y < 3.5 & shr_tkfit_dedx_Y > 0.5\",\n",
    "    query=\"selected==1 & global_score > %g\" % score_cut,\n",
    "#     query=\"selected==1\",\n",
    "    kind=\"event_category\",\n",
    "    draw_sys=True,\n",
    "    title=r\"Proton $\\chi^2$\",\n",
    "#     bins=miniboone_bins,\n",
    "    bins=7,\n",
    "    range=(0.1,0.8),\n",
    ")\n",
    "\n",
    "# ax1.axvline(x=score_cut, color=\"k\", linestyle='--')\n",
    "# print(samples[\"mc\"].query(\"selected==1 & global_score > %g & reco_e > 0.2 & reco_e < 0.8 & category != 11\" % score_cut)[[\"run\",\"sub\",\"evt\",\"shr_score\", \"category\", \"trk_chipr\"]])\n",
    "\n",
    "print(\"Profile likelihood: %.2f sigma @ 1.32e21 POT\" % my_plotter.significance_likelihood)\n",
    "print(\"s/sqrt(b): %.2f sigma @ 1.32e21 POT\" % my_plotter.significance)\n",
    "\n",
    "# ax1.set_ylim(0,200)\n",
    "# ax1.set_yscale(\"log\")\n",
    "# ax1.set_ylim(0,1)\n",
    "fig.savefig(main_path+\"plots/spectrum.pdf\")"
   ]
  },
  {
   "cell_type": "code",
   "execution_count": 144,
   "metadata": {},
   "outputs": [
    {
     "data": {
      "text/plain": [
       "(0, 6.288354747187464)"
      ]
     },
     "execution_count": 144,
     "metadata": {},
     "output_type": "execute_result"
    },
    {
     "data": {
      "image/png": "[encoded data removed]",
      "text/plain": [
       "<Figure size 432x288 with 1 Axes>"
      ]
     },
     "metadata": {
      "needs_background": "light"
     },
     "output_type": "display_data"
    }
   ],
   "source": [
    "import matplotlib.cm as cm\n",
    "from matplotlib.colors import Normalize\n",
    "import pandas as pd\n",
    "import matplotlib.pyplot as plt\n",
    "\n",
    "x_range = (0,2)\n",
    "n_bins = 10\n",
    "\n",
    "n_tot = np.empty([50, n_bins])\n",
    "n_cv_tot = np.empty(n_bins)\n",
    "n_tot.fill(0)\n",
    "n_cv_tot.fill(0)\n",
    "score_cut = 0.997\n",
    "\n",
    "my_cmap = cm.get_cmap('viridis')\n",
    "\n",
    "for t in samples:\n",
    "    if t in [\"ext\", \"data\", \"lee\"]:\n",
    "        continue\n",
    "    tree = samples[t]\n",
    "    \n",
    "    extra_query = \"\"\n",
    "    if t == \"mc\":\n",
    "        extra_query = \"& ~(nu_pdg == 12 & ccnc == 0) & ~(npi0 != 0 & ccnc == 1)\"\n",
    "        \n",
    "    queried_tree = tree.query(\"selected==1 & global_score > %g %s\" % (score_cut, extra_query))\n",
    "    variable = queried_tree[\"reco_e\"]\n",
    "    genie_weights = queried_tree[\"weightsGenie\"]\n",
    "    spline_fix = queried_tree[\"weightSpline\"]*weights[t]\n",
    "\n",
    "    s = genie_weights\n",
    "    df = pd.DataFrame(s.values.tolist())\n",
    "\n",
    "\n",
    "    n_cv, bins = np.histogram(\n",
    "        variable,\n",
    "        range=x_range,\n",
    "        bins=n_bins,\n",
    "        weights=spline_fix)\n",
    "    \n",
    "    n_cv_tot += n_cv\n",
    "\n",
    "    if not df.empty:\n",
    "        for i in range(50):\n",
    "            weight = df[i].values\n",
    "            weight[np.isnan(weight)] = 1\n",
    "            weight[weight > 100] = 1\n",
    "\n",
    "            n, bins = np.histogram(\n",
    "                variable, weights=weight*spline_fix, range=x_range, bins=n_bins)\n",
    "\n",
    "            n_tot[i] += n\n",
    "\n",
    "        \n",
    "bincenters = 0.5 * (bins[1:] + bins[:-1])\n",
    "\n",
    "left,right = bins[:-1],bins[1:]\n",
    "X = np.array([left,right]).T.flatten()\n",
    "Y = np.array([n_cv_tot,n_cv_tot]).T.flatten()\n",
    "plt.plot(X,Y,color='r',linewidth=2,label='Central value')\n",
    "\n",
    "    \n",
    "cov = np.empty([len(n_cv), len(n_cv)])\n",
    "cov.fill(0)\n",
    "\n",
    "my_norm = Normalize(vmin=min((sum(n) for n in n_tot)), vmax=max((sum(n) for n in n_tot)))\n",
    "\n",
    "for n in n_tot:\n",
    "    left,right = bins[:-1],bins[1:]\n",
    "    X = np.array([left,right]).T.flatten()\n",
    "    Y = np.array([n,n]).T.flatten()\n",
    "    plt.plot(X,Y,color=my_cmap(my_norm(sum(n))),zorder=-32)\n",
    "    for i in range(len(n_cv)):\n",
    "        for j in range(len(n_cv)):\n",
    "            cov[i][j] += (n[i] - n_cv_tot[i]) * (n[j] - n_cv_tot[j])\n",
    "\n",
    "cov /= 50\n",
    "            \n",
    "frac_cov = np.empty([len(n_cv), len(n_cv)])\n",
    "corr = np.empty([len(n_cv), len(n_cv)])\n",
    "\n",
    "for i in range(len(n_cv)):\n",
    "    for j in range(len(n_cv)):\n",
    "        frac_cov[i][j] = cov[i][j] / (n_cv_tot[i] * n_cv_tot[j])\n",
    "        corr[i][j] = cov[i][j] / np.sqrt(cov[i][i] * cov[j][j])\n",
    "\n",
    "        \n",
    "plt.errorbar(\n",
    "    bincenters, \n",
    "    n_cv_tot,\n",
    "    yerr=np.sqrt(np.diag(cov)), \n",
    "    fmt='none', \n",
    "    ecolor='r',\n",
    "    linewidth=2,\n",
    "    label='GENIE sys. uncertainties')\n",
    "\n",
    "plt.xlim(x_range[0], x_range[1])\n",
    "plt.xlabel(r\"$E_{deposited}$ [GeV]\")\n",
    "plt.legend()\n",
    "plt.ylim(ymin=0)"
   ]
  },
  {
   "cell_type": "code",
   "execution_count": 145,
   "metadata": {
    "scrolled": true
   },
   "outputs": [
    {
     "data": {
      "text/plain": [
       "<matplotlib.colorbar.Colorbar at 0x14d34af90>"
      ]
     },
     "execution_count": 145,
     "metadata": {},
     "output_type": "execute_result"
    },
    {
     "data": {
      "image/png": "[encoded data removed]",
      "text/plain": [
       "<Figure size 432x288 with 2 Axes>"
      ]
     },
     "metadata": {
      "needs_background": "light"
     },
     "output_type": "display_data"
    }
   ],
   "source": [
    "fig, ax = plt.subplots(1, 1)\n",
    "pos = ax.imshow(frac_cov, origin='lower', cmap='viridis')\n",
    "ax.set_title(\"Fractional covariance matrix\")\n",
    "ax.set_ylabel(\"Bin number\")\n",
    "ax.set_xlabel(\"Bin number\")\n",
    "fig.colorbar(pos)"
   ]
  },
  {
   "cell_type": "code",
   "execution_count": 146,
   "metadata": {},
   "outputs": [
    {
     "data": {
      "text/plain": [
       "<matplotlib.colorbar.Colorbar at 0x14cf33c90>"
      ]
     },
     "execution_count": 146,
     "metadata": {},
     "output_type": "execute_result"
    },
    {
     "data": {
      "image/png": "[encoded data removed]",
      "text/plain": [
       "<Figure size 432x288 with 2 Axes>"
      ]
     },
     "metadata": {
      "needs_background": "light"
     },
     "output_type": "display_data"
    }
   ],
   "source": [
    "fig, ax = plt.subplots(1, 1)\n",
    "ax.set_title(\"Correlation matrix\")\n",
    "pos = ax.imshow(corr, origin='lower')\n",
    "ax.set_ylabel(\"Bin number\")\n",
    "ax.set_xlabel(\"Bin number\")\n",
    "fig.colorbar(pos)"
   ]
  },
  {
   "cell_type": "code",
   "execution_count": 114,
   "metadata": {
    "scrolled": true
   },
   "outputs": [
    {
     "data": {
      "image/png": "[encoded data removed]",
      "text/plain": [
       "<Figure size 864x216 with 4 Axes>"
      ]
     },
     "metadata": {
      "needs_background": "light"
     },
     "output_type": "display_data"
    }
   ],
   "source": [
    "my_plotter.plot_2d(\n",
    "    \"global_score\",\n",
    "    \"ncpi0_score\",\n",
    "    query=\"selected==1\",\n",
    "    bins_x=50,\n",
    "    bins_y=50,\n",
    "    range_x=(0., 1),\n",
    "    range_y=(0., 1))"
   ]
  },
  {
   "cell_type": "code",
   "execution_count": null,
   "metadata": {},
   "outputs": [],
   "source": []
  }
 ],
 "metadata": {
  "accelerator": "GPU",
  "colab": {
   "name": "Plotter.ipynb",
   "provenance": [],
   "version": "0.3.2"
  },
  "kernelspec": {
   "display_name": "Python 3",
   "language": "python",
   "name": "python3"
  },
  "language_info": {
   "codemirror_mode": {
    "name": "ipython",
    "version": 3
   },
   "file_extension": ".py",
   "mimetype": "text/x-python",
   "name": "python",
   "nbconvert_exporter": "python",
   "pygments_lexer": "ipython3",
   "version": "3.7.4"
  }
 },
 "nbformat": 4,
 "nbformat_minor": 1
}
