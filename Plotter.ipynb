{
 "cells": [
  {
   "cell_type": "code",
   "execution_count": 1,
   "metadata": {},
   "outputs": [
    {
     "name": "stdout",
     "output_type": "stream",
     "text": [
      "/home/david/data/searchingfornues/v08_00_00_33/cc0pinp/0217/\n"
     ]
    }
   ],
   "source": [
    "import sys\n",
    "import localSettings as ls\n",
    "print(ls.main_path)"
   ]
  },
  {
   "cell_type": "code",
   "execution_count": 2,
   "metadata": {
    "colab": {
     "base_uri": "https://localhost:8080/",
     "height": 34
    },
    "colab_type": "code",
    "executionInfo": {
     "elapsed": 517,
     "status": "ok",
     "timestamp": 1560556807118,
     "user": {
      "displayName": "Stefano Roberto Soleti",
      "photoUrl": "https://lh4.googleusercontent.com/-hfLpspJu4Q0/AAAAAAAAAAI/AAAAAAAABmA/2kE4rtj8paU/s64/photo.jpg",
      "userId": "10372352518008961760"
     },
     "user_tz": 240
    },
    "id": "6qsD0G-yYJ9K",
    "outputId": "5d52a3ec-50be-44fc-da44-3c0593e98bc6"
   },
   "outputs": [],
   "source": [
    "main_path = ls.main_path\n",
    "sys.path.append(main_path)"
   ]
  },
  {
   "cell_type": "code",
   "execution_count": 3,
   "metadata": {},
   "outputs": [
    {
     "name": "stdout",
     "output_type": "stream",
     "text": [
      "date and time: 02202020\n"
     ]
    }
   ],
   "source": [
    "from datetime import datetime\n",
    "now = datetime.now()\n",
    "date_time = now.strftime(\"%m%d%Y\")\n",
    "print(\"date and time:\",date_time)"
   ]
  },
  {
   "cell_type": "code",
   "execution_count": 4,
   "metadata": {},
   "outputs": [],
   "source": [
    "SHRCALIBFACTOR = 1.00"
   ]
  },
  {
   "cell_type": "code",
   "execution_count": 5,
   "metadata": {},
   "outputs": [],
   "source": [
    "# USING BDT?\n",
    "USEBDT = False"
   ]
  },
  {
   "cell_type": "code",
   "execution_count": 6,
   "metadata": {},
   "outputs": [],
   "source": [
    "# Doing Run3?\n",
    "ISRUN3 = True"
   ]
  },
  {
   "cell_type": "code",
   "execution_count": 7,
   "metadata": {},
   "outputs": [],
   "source": [
    "# scale to MCC8 CV?\n",
    "MCC8WEIGHTS = False"
   ]
  },
  {
   "cell_type": "code",
   "execution_count": 8,
   "metadata": {
    "colab": {},
    "colab_type": "code",
    "id": "xGqTJ5JgaDsx"
   },
   "outputs": [],
   "source": [
    "import plotter\n",
    "import importlib\n",
    "importlib.reload(plotter)\n",
    "import uproot\n",
    "import matplotlib.pylab as pylab\n",
    "import numpy as np\n",
    "import math\n",
    "from sklearn.model_selection import train_test_split\n",
    "import pickle\n",
    "import xgboost as xgb\n",
    "import nue_booster \n",
    "importlib.reload(nue_booster)\n",
    "import awkward\n",
    "\n",
    "params = {\n",
    "    'axes.labelsize': 'x-large',\n",
    "    'axes.titlesize': 'x-large',\n",
    "    'xtick.labelsize': 'x-large',\n",
    "    'ytick.labelsize': 'x-large'\n",
    "}\n",
    "pylab.rcParams.update(params)"
   ]
  },
  {
   "cell_type": "code",
   "execution_count": 9,
   "metadata": {
    "colab": {},
    "colab_type": "code",
    "id": "iwoCIaigYJ9N"
   },
   "outputs": [
    {
     "name": "stdout",
     "output_type": "stream",
     "text": [
      "['shr_dedx_Y_cali', 'shr_tkfit_npointsvalid', 'n_showers_contained', 'shr_tkfit_dedx_V', 'trk_llr_pid_score_v', 'tksh_distance', 'muon_e', 'best_cosmic_flashmatch_score', 'trkshrhitdist2', 'trk_len', 'shrmoliereavg', 'secondshower_Y_nhit', 'shr_tkfit_gap10_dedx_Y', 'shr_tkfit_2cm_dedx_Y', 'reco_nu_vtx_z', 'slnunhits', 'shrclusfrac0', 'trk_distance', 'shrclusdir2', 'shr_distance', 'hits_ratio', 'shr_dedx_U', 'shr_tkfit_2cm_dedx_U', 'shr_tkfit_dedx_Y', 'trk_theta', 'shr_dedx_V', 'shr_bkt_E', 'nu_e', 'pi0_e', 'secondshower_Y_dot', 'NeutrinoEnergy2', 'evnunhits', 'slclustfrac', 'pt', 'shr_theta', 'shr_score', 'shr_phi', 'slnhits', 'trk_score_v', 'evt', 'shr_dedx_Y', 'trk_phi', 'trk_score', 'trk_hits_tot', 'category', 'trk_bkt_E', 'npion', 'secondshower_Y_vtxdist', 'nproton', 'shr_tkfit_2cm_dedx_V', 'shrmoliererms', 'shr_tkfit_npoints', 'pi0truth_elec_etot', 'matched_E', 'trk_energy', 'shrsubclusters2', 'shrclusfrac1', 'crthitpe', 'shrsubclusters1', 'shr_tkfit_gap10_dedx_U', 'secondshower_Y_dir', 'slpdg', 'reco_nu_vtx_sce_z', 'shr_bkt_pdg', 'shr_pfp_id_v', 'CosmicIP', 'run', 'shr_tkfit_dedx_U', '_closestNuCosmicDist', 'hits_y', 'nu_pdg', 'reco_nu_vtx_y', 'ccnc', 'crtveto', 'pion_e', 'shr_tkfit_gap10_dedx_V', 'trk_chipr', 'best_obviouscosmic_flashmatch_score', 'tksh_angle', 'p', 'npi0', 'trk_pid_chipr_v', 'trk_bkt_pdg', 'true_e_visible', 'reco_nu_vtx_sce_y', 'interaction', 'contained_fraction', 'shr_energy_tot_cali', 'trk_energy_tot', 'backtracked_pdg', 'shr_pz', 'shrclusfrac2', 'nslice', 'nu_flashmatch_score', 'shr_energy', 'selected', 'reco_nu_vtx_x', 'mc_pdg', 'reco_nu_vtx_sce_x', 'sub', 'shr_hits_tot', 'n_tracks_contained', 'shrsubclusters0']\n"
     ]
    }
   ],
   "source": [
    "fold = \"nuselection\"\n",
    "tree = \"NeutrinoSelectionFilter\"\n",
    "\n",
    "BNB = \"\"\n",
    "EXT = \"\"\n",
    "NU  = \"\"\n",
    "NUE = \"\"\n",
    "DRT = \"\"\n",
    "NCPI0 = \"\"\n",
    "CCPI0 = \"\"\n",
    "CCNOPI = \"\"\n",
    "CCCPI = \"\"\n",
    "NCNOPI = \"\"\n",
    "NCCPI = \"\"\n",
    "\n",
    "if ISRUN3:\n",
    "    BNB = 'data_bnb_mcc9.1_v08_00_00_25_reco2_G1_beam_good_reco2_1e19'\n",
    "    EXT = 'data_extbnb_mcc9.1_v08_00_00_25_reco2_G1_all_reco2'\n",
    "    NU  = 'prodgenie_bnb_nu_uboone_overlay_mcc9.1_v08_00_00_26_filter_run3_reco2_G_reco2'\n",
    "    NUE = 'prodgenie_bnb_intrinsice_nue_uboone_overlay_mcc9.1_v08_00_00_26_run3_reco2_reco2'\n",
    "    DRT = 'prodgenie_bnb_dirt_overlay_mcc9.1_v08_00_00_26_run3_reco2_reco2'\n",
    "    NCPI0  = 'prodgenie_nc_pi0_uboone_overlay_mcc9.1_v08_00_00_26_run3_G_reco2'\n",
    "    CCPI0  = 'prodgenie_cc_pi0_uboone_overlay_v08_00_00_26_run3_G_reco2'\n",
    "    CCNOPI = 'prodgenie_CCmuNoPi_overlay_mcc9_v08_00_00_33_run3_reco2_reco2'\n",
    "    CCCPI  = 'prodgenie_filter_CCmuCPiNoPi0_overlay_mcc9_v08_00_00_33_run3_reco2_reco2'\n",
    "    NCNOPI = 'prodgenie_ncnopi_overlay_mcc9_v08_00_00_33_new_run3_reco2_reco2'\n",
    "    NCCPI  = 'prodgenie_NCcPiNoPi0_overlay_mcc9_v08_00_00_33_New_run3_reco2_reco2'\n",
    "    \n",
    "else:\n",
    "    BNB = 'data_bnb_mcc9.1_v08_00_00_25_reco2_C1_beam_good_reco2_5e19'\n",
    "    EXT = 'data_extbnb_mcc9.1_v08_00_00_25_reco2_C1_all_reco2'\n",
    "    NU  = 'prodgenie_bnb_nu_uboone_overlay_mcc9.1_v08_00_00_26_filter_run1_reco2_reco2'\n",
    "    NUE = 'prodgenie_bnb_intrinsice_nue_uboone_overlay_mcc9.1_v08_00_00_26_run1_reco2_reco2'\n",
    "    DRT = 'prodgenie_bnb_dirt_overlay_mcc9.1_v08_00_00_26_run1_reco2_reco2'\n",
    "    NCPI0  = 'prodgenie_nc_pi0_uboone_overlay-v08_00_00_26_run1_reco2_reco2'\n",
    "    CCPI0  = 'prodgenie_cc_pi0_uboone_overlay_v08_00_00_26_run1_reco2'\n",
    "    CCNOPI = 'prodgenie_CCmuNoPi_overlay_mcc9_v08_00_00_33_run1_reco2_reco2'\n",
    "    CCCPI  = 'prodgenie_filter_CCmuCPiNoPi0_overlay_mcc9_v08_00_00_33_run1_reco2_reco2'\n",
    "    NCNOPI = 'prodgenie_ncnopi_overlay_mcc9_v08_00_00_33_run1_reco2_reco2'\n",
    "    NCCPI  = 'prodgenie_NCcPiNoPi0_overlay_mcc9_v08_00_00_33_run1_reco2_reco2'\n",
    "    \n",
    "mc = uproot.open(ls.ntuple_path+NU+\".root\")[fold][tree]\n",
    "ncpi0 = uproot.open(ls.ntuple_path+NCPI0+\".root\")[fold][tree]\n",
    "ccpi0 = uproot.open(ls.ntuple_path+CCPI0+\".root\")[fold][tree]\n",
    "ccnopi = uproot.open(ls.ntuple_path+CCNOPI+\".root\")[fold][tree]\n",
    "cccpi = uproot.open(ls.ntuple_path+CCCPI+\".root\")[fold][tree]\n",
    "ncnopi = uproot.open(ls.ntuple_path+NCNOPI+\".root\")[fold][tree]\n",
    "nccpi = uproot.open(ls.ntuple_path+NCCPI+\".root\")[fold][tree]\n",
    "nue = uproot.open(ls.ntuple_path+NUE+\".root\")[fold][tree]\n",
    "data = uproot.open(ls.ntuple_path+BNB+\".root\")[fold][tree]\n",
    "ext = uproot.open(ls.ntuple_path+EXT+\".root\")[fold][tree]\n",
    "dirt = uproot.open(ls.ntuple_path+DRT+\".root\")[fold][tree]\n",
    "lee = uproot.open(ls.ntuple_path+NUE+\".root\")[fold][tree]\n",
    "\n",
    "uproot_v = [lee,mc,ncpi0,ccpi0,ccnopi,cccpi,ncnopi,nccpi,nue,ext,data,dirt]\n",
    "\n",
    "variables = [\n",
    "    \"shr_dedx_Y\", \"shr_bkt_pdg\", \"p\", \"pt\", \"selected\", \"nu_pdg\", \"shr_theta\",\n",
    "    \"slpdg\", \"trk_score_v\", \"backtracked_pdg\", # modified from shr_score_v\n",
    "    \"shr_pfp_id_v\", \"category\", \"shr_tkfit_dedx_Y\",\n",
    "    \"shr_tkfit_gap10_dedx_U\",\"shr_tkfit_gap10_dedx_V\",\"shr_tkfit_gap10_dedx_Y\",\n",
    "    \"shr_tkfit_2cm_dedx_U\",\"shr_tkfit_2cm_dedx_V\",\"shr_tkfit_2cm_dedx_Y\",\n",
    "    #\"shr_energy_tot\", \n",
    "    \"trk_energy_tot\", \"shr_hits_tot\", \"ccnc\", \"trk_chipr\",\n",
    "    \"trk_bkt_pdg\", \"hits_ratio\", \"n_tracks_contained\", \n",
    "    \"crtveto\",\"crthitpe\",\"_closestNuCosmicDist\",\n",
    "    \"NeutrinoEnergy2\",\n",
    "    #\"run\",\"sub\",\"evt\",\n",
    "    \"CosmicIP\",\n",
    "    \"nu_flashmatch_score\",\"best_cosmic_flashmatch_score\",\"best_obviouscosmic_flashmatch_score\",\n",
    "    #\"trk_pfp_id\",\n",
    "    \"shrmoliereavg\",\"shrmoliererms\",\n",
    "    \"shr_tkfit_npointsvalid\",\"shr_tkfit_npoints\", # fitted vs. all hits for shower\n",
    "    \"shrclusfrac0\",\"shrclusfrac1\",\"shrclusfrac2\", # track-fitted hits / all hits\n",
    "    \"trkshrhitdist2\", # \"trkshrhitdist0\",\"trkshrhitdist1\", distance between track and shower in 2D\n",
    "    \"shrsubclusters0\",\"shrsubclusters1\",\"shrsubclusters2\", # number of sub-clusters in shower\n",
    "    \"trk_llr_pid_score_v\", # trk-PID score\n",
    "    #\"pi0_energy2_Y\", # pi0 tagger variables\n",
    "    \"reco_nu_vtx_sce_x\",\"reco_nu_vtx_sce_y\",\"reco_nu_vtx_sce_z\",\n",
    "    \"nproton\", \"nu_e\", \"n_showers_contained\", \"shr_distance\", \"trk_distance\",\n",
    "    \"hits_y\", \"shr_pz\", \"shr_energy\", \"shr_dedx_U\", \"shr_dedx_V\", \"shr_phi\", \"trk_phi\", \"trk_theta\",\n",
    "    \"shr_tkfit_dedx_U\", \"shr_tkfit_dedx_V\", \"run\", \"sub\", \"evt\", \"nproton\", \"trk_pid_chipr_v\",\n",
    "    \"trk_len\", \"mc_pdg\", \"slnunhits\", \"slnhits\", \"shr_score\", \"trk_score\", \"trk_hits_tot\",\n",
    "    \"true_e_visible\", \"matched_E\", \"shr_bkt_E\", \"trk_bkt_E\", \"trk_energy\", \"tksh_distance\", \"tksh_angle\",\n",
    "    \"npi0\",\"npion\",\"pion_e\",\"muon_e\",\"pi0truth_elec_etot\",\n",
    "    \"pi0_e\", \"shr_energy_tot_cali\", \"shr_dedx_Y_cali\", \"evnunhits\", \"nslice\", \"interaction\",\n",
    "    \"slclustfrac\", \"reco_nu_vtx_x\", \"reco_nu_vtx_y\", \"reco_nu_vtx_z\",\"contained_fraction\",\n",
    "    \"secondshower_Y_nhit\",\"secondshower_Y_vtxdist\",\"secondshower_Y_dot\",\"secondshower_Y_dir\",\"shrclusdir2\"\n",
    "]\n",
    "#make the list unique\n",
    "variables = list(set(variables))\n",
    "print(variables)\n",
    "\n",
    "if not ISRUN3:\n",
    "    variables.remove(\"_closestNuCosmicDist\")\n",
    "    variables.remove(\"crtveto\")\n",
    "    variables.remove(\"crthitpe\")\n",
    "    \n",
    "WEIGHTS = [\"weightSpline\",\"weightTune\",\"weightSplineTimesTune\"]#, \"weightsGenie\", \"weightsFlux\", \"weightsReint\"]\n",
    "WEIGHTSLEE = [\"weightSpline\",\"weightTune\",\"weightSplineTimesTune\", \"leeweight\"]#, \"weightsGenie\", \"weightsFlux\", \"weightsReint\"]\n",
    "MCFVARS = [\"mcf_nu_e\",\"mcf_lep_e\",\"mcf_actvol\",\"mcf_nmm\",\"mcf_nmp\",\"mcf_nem\",\"mcf_nep\",\"mcf_np0\",\"mcf_npp\",\n",
    "           \"mcf_npm\",\"mcf_mcshr_elec_etot\",\"mcf_pass_ccpi0\",\"mcf_pass_ncpi0\",\n",
    "           \"mcf_pass_ccnopi\",\"mcf_pass_ncnopi\",\"mcf_pass_cccpi\",\"mcf_pass_nccpi\"]\n",
    "SYSTEMATICS = []#  ['weightsFlux','weightsGenie']\n",
    "\n",
    "nue = nue.pandas.df(variables + WEIGHTS + SYSTEMATICS, flatten=False)\n",
    "mc = mc.pandas.df(variables + WEIGHTS + MCFVARS + SYSTEMATICS, flatten=False)\n",
    "ncpi0 = ncpi0.pandas.df(variables + WEIGHTS + SYSTEMATICS, flatten=False)\n",
    "ccpi0 = ccpi0.pandas.df(variables + WEIGHTS + SYSTEMATICS, flatten=False)\n",
    "ccnopi = ccnopi.pandas.df(variables + WEIGHTS + SYSTEMATICS, flatten=False)\n",
    "cccpi = cccpi.pandas.df(variables + WEIGHTS + SYSTEMATICS, flatten=False)\n",
    "ncnopi = ncnopi.pandas.df(variables + WEIGHTS + SYSTEMATICS, flatten=False)\n",
    "nccpi = nccpi.pandas.df(variables + WEIGHTS + SYSTEMATICS, flatten=False)\n",
    "data = data.pandas.df(variables, flatten=False)\n",
    "ext = ext.pandas.df(variables, flatten=False)\n",
    "dirt = dirt.pandas.df(variables + WEIGHTS + SYSTEMATICS, flatten=False)\n",
    "lee = lee.pandas.df(variables + WEIGHTSLEE + SYSTEMATICS, flatten=False)"
   ]
  },
  {
   "cell_type": "code",
   "execution_count": 10,
   "metadata": {},
   "outputs": [],
   "source": [
    "df_v = [lee,mc,ncpi0,ccpi0,ccnopi,cccpi,ncnopi,nccpi,nue,dirt]\n",
    "\n",
    "for i,df in enumerate(df_v):\n",
    "    \n",
    "    df.loc[ df['weightTune'] <= 0, 'weightTune' ] = 1.\n",
    "    df.loc[ df['weightTune'] == np.inf, 'weightTune' ] = 1.\n",
    "    df.loc[ df['weightTune'] > 100, 'weightTune' ] = 1.\n",
    "    df.loc[ np.isnan(df['weightTune']) == True, 'weightTune' ] = 1.\n",
    "    df.loc[ df['weightSplineTimesTune'] <= 0, 'weightSplineTimesTune' ] = 1.\n",
    "    df.loc[ df['weightSplineTimesTune'] == np.inf, 'weightSplineTimesTune' ] = 1.\n",
    "    df.loc[ df['weightSplineTimesTune'] > 100, 'weightSplineTimesTune' ] = 1.\n",
    "    df.loc[ np.isnan(df['weightSplineTimesTune']) == True, 'weightSplineTimesTune' ] = 1.\n",
    "    #df['weightSpline']  = df['weightSpline']  * df['weightTune']"
   ]
  },
  {
   "cell_type": "code",
   "execution_count": 11,
   "metadata": {},
   "outputs": [],
   "source": [
    "# how to get the LLR-PID value for the \"track candidate\" (proton for nue selection, muon for numu)\n",
    "# can be done for any variable\n",
    "# code from Giuseppe!\n",
    "\n",
    "df_v = [lee,mc,ncpi0,ccpi0,ccnopi,cccpi,ncnopi,nccpi,nue,ext,data,dirt]\n",
    "#df_v = [lee,mc,nue,ext,data,dirt]\n",
    "\n",
    "for i,df in enumerate(df_v):\n",
    "    up = uproot_v[i]\n",
    "    trk_llr_pid_v = up.array('trk_llr_pid_score_v')\n",
    "    trk_id = up.array('trk_id')-1 # I think we need this -1 to get the right result\n",
    "    trk_llr_pid_v_sel = awkward.fromiter([pidv[tid] if tid<len(pidv) else 9999. for pidv,tid in zip(trk_llr_pid_v,trk_id)])\n",
    "    df['trkpid'] = trk_llr_pid_v_sel\n",
    "    df['subcluster'] = df['shrsubclusters0'] + df['shrsubclusters1'] + df['shrsubclusters2']\n",
    "    df['trkfit'] = df['shr_tkfit_npointsvalid'] / df['shr_tkfit_npoints']\n",
    "    df['anglediff_Y'] = np.abs(df['secondshower_Y_dir']-df['shrclusdir2'])\n",
    "    #df['FMdiffOBV'] = df['nu_flashmatch_score']-df['best_obviouscosmic_flashmatch_score']\n",
    "    #df['FMdiff'] = df['nu_flashmatch_score']-df['best_cosmic_flashmatch_score']"
   ]
  },
  {
   "cell_type": "code",
   "execution_count": 12,
   "metadata": {
    "scrolled": false
   },
   "outputs": [
    {
     "name": "stderr",
     "output_type": "stream",
     "text": [
      "/home/david/miniconda2/envs/python3LEE/lib/python3.7/site-packages/pandas/core/series.py:853: RuntimeWarning: overflow encountered in cos\n",
      "  result = getattr(ufunc, method)(*inputs, **kwargs)\n"
     ]
    }
   ],
   "source": [
    "# define some energy-related variables\n",
    "for i,df in enumerate(df_v):\n",
    "    df[\"reco_e\"] = (df[\"shr_energy_tot_cali\"] + 0.030) / 0.79 + df[\"trk_energy_tot\"]\n",
    "    df[\"reco_e_qe\"] = 0.938*((df[\"shr_energy\"]+0.030)/0.79)/(0.938 - ((df[\"shr_energy\"]+0.030)/0.79)*(1-np.cos(df[\"shr_theta\"])))\n",
    "    df[\"reco_e_rqe\"] = df[\"reco_e_qe\"]/df[\"reco_e\"]\n",
    "\n",
    "# and a way to filter out data\n",
    "for i,df in enumerate(df_v):\n",
    "    df[\"bnbdata\"] = np.zeros_like(df[\"shr_energy\"])\n",
    "data[\"bnbdata\"] = np.ones_like(data[\"shr_energy\"])\n",
    "\n",
    "# test calibrating dedx on Y plane\n",
    "#data[\"shr_tkfit_gap10_dedx_Y\"] = data[\"shr_tkfit_gap10_dedx_Y\"]*1.03\n",
    "#ext[\"shr_tkfit_gap10_dedx_Y\"] = ext[\"shr_tkfit_gap10_dedx_Y\"]*1.03\n",
    "#data[\"shr_tkfit_2cm_dedx_Y\"] = data[\"shr_tkfit_2cm_dedx_Y\"]*1.03\n",
    "#ext[\"shr_tkfit_2cm_dedx_Y\"] = ext[\"shr_tkfit_2cm_dedx_Y\"]*1.03\n",
    "#data[\"shr_tkfit_dedx_Y\"] = data[\"shr_tkfit_dedx_Y\"]*1.03\n",
    "#ext[\"shr_tkfit_dedx_Y\"] = ext[\"shr_tkfit_dedx_Y\"]*1.03\n"
   ]
  },
  {
   "cell_type": "code",
   "execution_count": 13,
   "metadata": {
    "scrolled": false
   },
   "outputs": [],
   "source": [
    "# avoid double-counting of events out of FV in the NC/CC pi0 samples\n",
    "# not needed anymore since we improved matching with filtered samples\n",
    "#ncpi0 = ncpi0.query('category != 5')\n",
    "#ccpi0 = ccpi0.query('category != 5')\n",
    "#ccnopi = ccnopi.query('category != 5')\n",
    "#nccpi = nccpi.query('category != 5')\n",
    "#ncnopi = ncnopi.query('category != 5')\n",
    "\n",
    "## avoid recycling unbiased ext events (i.e. selecting a slice with little nu content from these samples)\n",
    "ccnopi = ccnopi.query('(nslice==0 | (slnunhits/slnhits)>0.1)')\n",
    "cccpi = cccpi.query('(nslice==0 | (slnunhits/slnhits)>0.1)')\n",
    "ncnopi = ncnopi.query('(nslice==0 | (slnunhits/slnhits)>0.1)')\n",
    "nccpi = nccpi.query('(nslice==0 | (slnunhits/slnhits)>0.1)')\n",
    "\n",
    "# add back the cosmic category, for background only\n",
    "df_v = [lee,mc,ncpi0,ccpi0,ccnopi,cccpi,ncnopi,nccpi,nue,ext,data,dirt]\n",
    "for i,df in enumerate(df_v):\n",
    "    df.loc[(df['category']!=1)&(df['category']!=10)&(df['category']!=11)&(df['category']!=111)&(df['slnunhits']/df['slnhits']<0.2), 'category'] = 4"
   ]
  },
  {
   "cell_type": "code",
   "execution_count": 14,
   "metadata": {},
   "outputs": [],
   "source": [
    "lee[\"is_signal\"] = lee[\"category\"] == 11\n",
    "data[\"is_signal\"] = data[\"category\"] == 11\n",
    "nue[\"is_signal\"] = nue[\"category\"] == 11\n",
    "mc[\"is_signal\"] = mc[\"category\"] == 11\n",
    "dirt[\"is_signal\"] = dirt[\"category\"] == 11\n",
    "ext[\"is_signal\"] = ext[\"category\"] == 11\n",
    "ncpi0[\"is_signal\"] = ncpi0[\"category\"] == 11\n",
    "ccpi0[\"is_signal\"] = ccpi0[\"category\"] == 11\n",
    "ccnopi[\"is_signal\"] = ccnopi[\"category\"] == 11\n",
    "cccpi[\"is_signal\"] = cccpi[\"category\"] == 11\n",
    "ncnopi[\"is_signal\"] = ncnopi[\"category\"] == 11\n",
    "nccpi[\"is_signal\"] = nccpi[\"category\"] == 11\n",
    "\n",
    "lee.loc[lee['category'] == 1, 'category'] = 111\n",
    "lee.loc[lee['category'] == 10, 'category'] = 111\n",
    "lee.loc[lee['category'] == 11, 'category'] = 111\n",
    "\n",
    "if (USEBDT == True):\n",
    "    train_ncpi0, ncpi0 = train_test_split(ncpi0, test_size=0.5, random_state=1990)\n",
    "    train_ccpi0, ccpi0 = train_test_split(ccpi0, test_size=0.5, random_state=1990)\n",
    "    #train_ccnopi, ccnopi = train_test_split(ccnopi, test_size=0.5, random_state=1990)\n",
    "    #train_cccpi, cccpi = train_test_split(cccpi, test_size=0.5, random_state=1990)\n",
    "    #train_ncnopi, ncnopi = train_test_split(ncnopi, test_size=0.5, random_state=1990)\n",
    "    #train_nccpi, nccpi = train_test_split(nccpi, test_size=0.5, random_state=1990)\n",
    "    train_mc, mc = train_test_split(mc, test_size=0.5, random_state=1990)\n",
    "    train_nue, nue = train_test_split(nue, test_size=0.5, random_state=1990)\n",
    "    train_lee, lee = train_test_split(lee, test_size=0.5, random_state=1990)\n",
    "    train_ext, ext = train_test_split(ext, test_size=0.5, random_state=1990)"
   ]
  },
  {
   "cell_type": "code",
   "execution_count": 15,
   "metadata": {},
   "outputs": [],
   "source": [
    "# variables to be trained on\n",
    "TRAINVAR = [#\"n_showers_contained\",\n",
    "            \"shr_score\",\"tksh_distance\",\"tksh_angle\",\n",
    "            \"shr_tkfit_gap10_dedx_Y\",\"shr_tkfit_gap10_dedx_U\",\"shr_tkfit_gap10_dedx_V\",\n",
    "            \"shr_tkfit_2cm_dedx_Y\",\"shr_tkfit_2cm_dedx_U\",\"shr_tkfit_2cm_dedx_V\",\n",
    "            \"trkfit\",\"trkpid\",\n",
    "            \"subcluster\",\"shrmoliereavg\",#\"shrmoliererms\",\n",
    "            \"trkshrhitdist2\",\"hits_ratio\",\n",
    "            \"secondshower_Y_nhit\",\"secondshower_Y_vtxdist\",\"secondshower_Y_dot\",\"anglediff_Y\",\n",
    "            #'secondshower_V_nhit','secondshower_V_vtxdist','secondshower_V_dot','anglediff_V',\n",
    "            #'secondshower_U_nhit','secondshower_U_vtxdist','secondshower_U_dot','anglediff_U',\n",
    "            #\"pi0_radlen1\",\"pi0_radlen2\",\"pi0_dedx2_fit_Y\",\n",
    "            #\"pi0_energy2_Y\",\"pi0_mass_Y\",\"pi0_gammadot\",\n",
    "           ]"
   ]
  },
  {
   "cell_type": "code",
   "execution_count": 16,
   "metadata": {
    "colab": {},
    "colab_type": "code",
    "id": "XcI43ileYJ9P"
   },
   "outputs": [],
   "source": [
    "LABELS = ['pi0','nonpi0']\n",
    "\n",
    "if (USEBDT == True):\n",
    "    #for label, bkg_query in zip(nue_booster.labels, nue_booster.bkg_queries):\n",
    "    for label, bkg_query in zip(LABELS, nue_booster.bkg_queries):\n",
    "        with open(ls.pickle_path+'booster_%s_dec.pickle' % label, 'rb') as booster_file:\n",
    "            booster = pickle.load(booster_file)\n",
    "            mc[label+\"_score\"] = booster.predict(\n",
    "                xgb.DMatrix(mc[TRAINVAR]),\n",
    "                ntree_limit=booster.best_iteration)\n",
    "            nue[label+\"_score\"] = booster.predict(\n",
    "                xgb.DMatrix(nue[TRAINVAR]),\n",
    "                ntree_limit=booster.best_iteration)\n",
    "            ext[label+\"_score\"] = booster.predict(\n",
    "                xgb.DMatrix(ext[TRAINVAR]),\n",
    "                ntree_limit=booster.best_iteration)\n",
    "            data[label+\"_score\"] = booster.predict(\n",
    "                xgb.DMatrix(data[TRAINVAR]),\n",
    "                ntree_limit=booster.best_iteration)\n",
    "            dirt[label+\"_score\"] = booster.predict(\n",
    "                xgb.DMatrix(dirt[TRAINVAR]),\n",
    "                ntree_limit=booster.best_iteration)\n",
    "            lee[label+\"_score\"] = booster.predict(\n",
    "                xgb.DMatrix(lee[TRAINVAR]),\n",
    "                ntree_limit=booster.best_iteration)\n",
    "            ncpi0[label+\"_score\"] = booster.predict(\n",
    "                xgb.DMatrix(ncpi0[TRAINVAR]),\n",
    "                ntree_limit=booster.best_iteration)\n",
    "            ccpi0[label+\"_score\"] = booster.predict(\n",
    "                xgb.DMatrix(ccpi0[TRAINVAR]),\n",
    "                ntree_limit=booster.best_iteration)\n",
    "            ccnopi[label+\"_score\"] = booster.predict(\n",
    "                xgb.DMatrix(ccnopi[TRAINVAR]),\n",
    "                ntree_limit=booster.best_iteration)\n",
    "            cccpi[label+\"_score\"] = booster.predict(\n",
    "                xgb.DMatrix(cccpi[TRAINVAR]),\n",
    "                ntree_limit=booster.best_iteration)\n",
    "            ncnopi[label+\"_score\"] = booster.predict(\n",
    "                xgb.DMatrix(ncnopi[TRAINVAR]),\n",
    "                ntree_limit=booster.best_iteration)\n",
    "            nccpi[label+\"_score\"] = booster.predict(\n",
    "                xgb.DMatrix(nccpi[TRAINVAR]),\n",
    "                ntree_limit=booster.best_iteration)\n"
   ]
  },
  {
   "cell_type": "code",
   "execution_count": 17,
   "metadata": {},
   "outputs": [],
   "source": [
    "dfbdt_v = [lee,mc,ncpi0,ccpi0,ccnopi,cccpi,ncnopi,nccpi,nue,ext,data,dirt]"
   ]
  },
  {
   "cell_type": "code",
   "execution_count": 18,
   "metadata": {},
   "outputs": [
    {
     "data": {
      "text/plain": [
       "<module 'plotter' from '/home/david/Neutrinos/NUE/PELEE3/plotter.py'>"
      ]
     },
     "execution_count": 18,
     "metadata": {},
     "output_type": "execute_result"
    }
   ],
   "source": [
    "import plotter\n",
    "import importlib\n",
    "importlib.reload(plotter)"
   ]
  },
  {
   "cell_type": "code",
   "execution_count": 19,
   "metadata": {
    "colab": {},
    "colab_type": "code",
    "id": "_pamv0W8YJ9R"
   },
   "outputs": [
    {
     "name": "stdout",
     "output_type": "stream",
     "text": [
      "{'mc': 0.7741387283236993, 'nue': 0.017864739884393063, 'ext': 2.813988439306358, 'dirt': 3.187630057803468, 'lee': 0.017864739884393063, 'ncpi0': 0.45070520231213873, 'ccpi0': 0.164635838150289, 'ccnopi': 0.9434450867052023, 'nccpi': 0.14361849710982658, 'ncnopi': 0.33627745664739883}\n"
     ]
    }
   ],
   "source": [
    "samples = {\n",
    "    \"mc\": mc,\n",
    "    \"nue\": nue,\n",
    "    \"data\": data,\n",
    "    \"ext\": ext,\n",
    "    \"dirt\": dirt,\n",
    "    \"ncpi0\": ncpi0,\n",
    "    \"ccpi0\": ccpi0,\n",
    "    \"ccnopi\": ccnopi,\n",
    "    \"cccpi\": cccpi,\n",
    "    \"ncnopi\": ncnopi,\n",
    "    \"nccpi\": nccpi,\n",
    "    \"lee\": lee\n",
    "}\n",
    "\n",
    "\n",
    "if ISRUN3:\n",
    "    scaling = 101.0/0.865\n",
    "else:\n",
    "    scaling = 101.0/3.34\n",
    "#scaling = 1\n",
    "\n",
    "SPLIT = 1.0\n",
    "if (USEBDT == True):\n",
    "    SPLIT = 2.\n",
    "\n",
    "\n",
    "if ISRUN3:\n",
    "    weights = {\n",
    "        \"mc\": 6.63e-3 * SPLIT * scaling,\n",
    "        \"nue\": 1.53e-4 * SPLIT * scaling,\n",
    "        \"ext\": 2.41e-2 * SPLIT * scaling,\n",
    "        \"dirt\": 2.73e-2 * scaling,\n",
    "        \"lee\": 1.53e-4 * SPLIT * scaling,\n",
    "        \"ncpi0\": 3.86e-3 * SPLIT * scaling,\n",
    "        \"ccpi0\": 1.41e-3 * SPLIT * scaling,\n",
    "        \"ccnopi\": 8.08e-03 * SPLIT * scaling,\n",
    "        \"nccpi\": 1.23e-03 * SPLIT * scaling,\n",
    "        \"ncnopi\": 2.88e-03 * SPLIT * scaling,\n",
    "    }\n",
    "    pot = 0.865e19*scaling\n",
    "else:\n",
    "    weights = {\n",
    "        \"mc\": 3.79e-2 * SPLIT * scaling,\n",
    "        \"nue\": 6.36e-4 * SPLIT * scaling,\n",
    "        \"ext\": 3.13e-1 * SPLIT * scaling,\n",
    "        \"dirt\": 1.24e-1 * scaling,\n",
    "        \"lee\": 6.36e-4 * SPLIT * scaling,\n",
    "        \"ncpi0\": 1.33e-2 * SPLIT * scaling,\n",
    "        \"ccpi0\": 1.06e-2 * SPLIT * scaling,\n",
    "        \"ccnopi\": 1.35e-02 * SPLIT * scaling,\n",
    "        \"nccpi\": 4.14e-03 * SPLIT * scaling,\n",
    "        \"ncnopi\": 1.08e-02 * SPLIT * scaling,\n",
    "    }\n",
    "    pot = 3.34e19*scaling\n",
    "    \n",
    "my_plotter = plotter.Plotter(samples, weights, pot=pot)\n",
    "print(weights)"
   ]
  },
  {
   "cell_type": "code",
   "execution_count": null,
   "metadata": {},
   "outputs": [],
   "source": [
    "# muon selection\n",
    "QUERY = 'nslice == 1'\n",
    "#if ISRUN3: QUERY += ' and ((crtveto!=1) or (crthitpe < 100)) and (_closestNuCosmicDist > 20.)'\n",
    "QUERY += ' and trk_len > 20'\n",
    "QUERY += ' and topological_score > 0.06'\n",
    "QUERY += ' and reco_nu_vtx_sce_x > 5 and reco_nu_vtx_sce_x < 251'\n",
    "QUERY += ' and reco_nu_vtx_sce_y > -110 and reco_nu_vtx_sce_y < 110'\n",
    "QUERY += ' and reco_nu_vtx_sce_z > 20 and reco_nu_vtx_sce_z < 986'\n",
    "#QUERY += ' and bkpdg == 2212 and (trkcompl < 0.5 or trkpur < 0.5)'\n",
    "\n",
    "print (QUERY)"
   ]
  },
  {
   "cell_type": "code",
   "execution_count": 20,
   "metadata": {},
   "outputs": [],
   "source": [
    "# nue preselection\n",
    "PRESQ = 'nslice == 1'\n",
    "PRESQ += ' and selected == 1'\n",
    "PRESQ += ' and n_tracks_contained > 0'\n",
    "PRESQ += ' and shr_energy_tot_cali > 0.07'"
   ]
  },
  {
   "cell_type": "code",
   "execution_count": 21,
   "metadata": {},
   "outputs": [],
   "source": [
    "# loose box cuts\n",
    "LCUTQ = PRESQ\n",
    "LCUTQ += ' and n_showers_contained == 1'\n",
    "LCUTQ += ' and hits_ratio > 0.5'\n",
    "LCUTQ += ' and tksh_distance < 6.0'\n",
    "LCUTQ += ' and shr_tkfit_2cm_dedx_Y < 4.0'\n",
    "LCUTQ += ' and tksh_angle > -0.9'\n",
    "LCUTQ += ' and trkpid < 0.1'\n",
    "LCUTQ += ' and shr_score < 0.30'\n",
    "LCUTQ += ' and CosmicIP > 20.'  "
   ]
  },
  {
   "cell_type": "code",
   "execution_count": 22,
   "metadata": {},
   "outputs": [],
   "source": [
    "# tight box cuts\n",
    "TCUTQ = LCUTQ\n",
    "TCUTQ += ' and tksh_distance < 4.0'\n",
    "TCUTQ += ' and (shr_tkfit_2cm_dedx_Y > 0 and shr_tkfit_2cm_dedx_Y < 4.0 and shr_tkfit_2cm_dedx_U < 4.0 and shr_tkfit_2cm_dedx_V < 4.0)'\n",
    "TCUTQ += ' and (shr_tkfit_gap10_dedx_Y < 4.5)'\n",
    "TCUTQ += ' and tksh_angle > -0.9 and tksh_angle < 0.75'\n",
    "TCUTQ += ' and shrmoliereavg > 2 and shrmoliereavg < 10'\n",
    "TCUTQ += ' and trkpid < 0.02'\n",
    "TCUTQ += ' and n_showers_contained == 1'\n",
    "TCUTQ += ' and shr_score < 0.275'\n",
    "TCUTQ += ' and hits_ratio > 0.60'\n",
    "TCUTQ += ' and (secondshower_Y_nhit<=8 or secondshower_Y_dot<=0.8 or anglediff_Y<=40 or secondshower_Y_vtxdist>=100)'\n",
    "TCUTQ += ' and (subcluster > 7)'\n",
    "TCUTQ += ' and trkshrhitdist2 < 1.5'"
   ]
  },
  {
   "cell_type": "code",
   "execution_count": null,
   "metadata": {},
   "outputs": [],
   "source": [
    "# OLD tight box cuts\n",
    "OTCUTQ = LCUTQ\n",
    "OTCUTQ += ' and tksh_distance < 3.5'\n",
    "OTCUTQ += ' and (shr_tkfit_2cm_dedx_Y > 0 and shr_tkfit_2cm_dedx_Y < 4.0 and shr_tkfit_2cm_dedx_U < 4.0 and shr_tkfit_2cm_dedx_V < 4.0)'\n",
    "OTCUTQ += ' and (shr_tkfit_gap10_dedx_Y > 0 and shr_tkfit_gap10_dedx_Y < 4.5 and shr_tkfit_gap10_dedx_U < 4.5 and shr_tkfit_gap10_dedx_V < 4.5)'\n",
    "OTCUTQ += ' and tksh_angle > -0.9 and tksh_angle < 0.75'\n",
    "OTCUTQ += ' and shrmoliereavg > 2 and shrmoliereavg < 9'\n",
    "OTCUTQ += ' and trkpid < -0.02'\n",
    "OTCUTQ += ' and n_showers_contained == 1'\n",
    "OTCUTQ += ' and shr_score < 0.275'\n",
    "OTCUTQ += ' and hits_ratio > 0.60'\n",
    "OTCUTQ += ' and (secondshower_Y_nhit<=8 or secondshower_Y_dot<=0.8 or anglediff_Y<=40 or secondshower_Y_vtxdist>=100)'\n",
    "OTCUTQ += ' and (trkfit < 0.45 or subcluster > 6)'"
   ]
  },
  {
   "cell_type": "code",
   "execution_count": null,
   "metadata": {},
   "outputs": [],
   "source": [
    "# BDT cuts\n",
    "BDTCQ = LCUTQ\n",
    "#BDTCQ += ' and pi0_score > 0.995 and nonpi0_score > 0.9984'\n",
    "BDTCQ += ' and pi0_score > 0.995 and nonpi0_score > 0.997'"
   ]
  },
  {
   "cell_type": "code",
   "execution_count": 23,
   "metadata": {},
   "outputs": [],
   "source": [
    "# Define actual selection\n",
    "QUERY = TCUTQ\n",
    "# in case you do not want to look at the data\n",
    "QUERY += ' and bnbdata==0'\n",
    "# in case you want to apply the CRT veto\n",
    "#if ISRUN3: QUERY += ' and (crtveto!=1) and (_closestNuCosmicDist > 20.)'"
   ]
  },
  {
   "cell_type": "code",
   "execution_count": null,
   "metadata": {},
   "outputs": [],
   "source": [
    "# create output files based on selection\n",
    "fname_v = [NUE,NU,PI0,NUE,EXT,BNB,DRT]\n",
    "\n",
    "for i,name in enumerate(fname_v):\n",
    "    if (i == 0):\n",
    "        continue # skip LEE event. This one will be done within SBNFit\n",
    "        \n",
    "    df = dfbdt_v[i]\n",
    "\n",
    "    fout = open(ls.ntuple_path+name+'.txt','w')\n",
    "    dfsel = df.query(QUERY)\n",
    "    print ('file %s has %i selected entries'%(name,dfsel.shape[0]))\n",
    "    for i,row in dfsel.iterrows():\n",
    "        run = row['run'].values[0]\n",
    "        sub = row['sub'].values[0]\n",
    "        evt = row['evt'].values[0]\n",
    "        fout.write('%i %i %i \\n'%(run,sub,evt))\n",
    "    fout.close()"
   ]
  },
  {
   "cell_type": "code",
   "execution_count": 24,
   "metadata": {
    "colab": {
     "base_uri": "https://localhost:8080/",
     "height": 561
    },
    "colab_type": "code",
    "executionInfo": {
     "elapsed": 2342,
     "status": "ok",
     "timestamp": 1560557343774,
     "user": {
      "displayName": "Stefano Roberto Soleti",
      "photoUrl": "https://lh4.googleusercontent.com/-hfLpspJu4Q0/AAAAAAAAAAI/AAAAAAAABmA/2kE4rtj8paU/s64/photo.jpg",
      "userId": "10372352518008961760"
     },
     "user_tz": 240
    },
    "id": "b93hN-pGYJ9T",
    "outputId": "17e7c7ed-3f12-4b03-805c-6698f1617878",
    "scrolled": false
   },
   "outputs": [
    {
     "name": "stderr",
     "output_type": "stream",
     "text": [
      "/home/david/Neutrinos/NUE/PELEE3/plotter.py:229: RuntimeWarning: invalid value encountered in double_scalars\n",
      "  for i, k in enumerate(num)\n"
     ]
    },
    {
     "name": "stdout",
     "output_type": "stream",
     "text": [
      "Profile likelihood: 2.44 sigma @ 1.01e21 POT\n",
      "s/sqrt(b): 2.81 sigma @ 1.01e21 POT\n"
     ]
    },
    {
     "data": {
      "text/plain": [
       "(0, 13.320007610760532)"
      ]
     },
     "execution_count": 24,
     "metadata": {},
     "output_type": "execute_result"
    },
    {
     "data": {
      "image/png": "[encoded data removed]",
      "text/plain": [
       "<Figure size 576x504 with 2 Axes>"
      ]
     },
     "metadata": {
      "needs_background": "light"
     },
     "output_type": "display_data"
    }
   ],
   "source": [
    "miniboone_bins = [\n",
    "    0, 0.200, 0.300, 0.375, 0.475, 0.550, 0.675, 0.800, 0.950, 1.100, 1.300,\n",
    "    1.500, 3.000\n",
    "]\n",
    "\n",
    "#QUERY += \" & pi0truth_elec_etot<15 & npi0 == 0 & ccnc == 0\"\n",
    "#QUERY += \" & muon_e>0.3 & npi0 == 0 & ccnc == 0\"\n",
    "#QUERY = \"(muon_e<0.3 | pi0truth_elec_etot>=15) & npi0 == 0 & npion == 0 & ccnc == 0 & nu_pdg == 14 & category == 2\"\n",
    "#QUERY += \" & ~((muon_e<0.3 | pi0truth_elec_etot>=15) & npi0 == 0 & npion == 0 & ccnc == 0 & nu_pdg == 14 & category != 5)\"\n",
    "\n",
    "VARIABLE, BINS, RANGE, XTIT = 'reco_e',13,(0.2,1.5),r\"Reconstructed Energy [GeV]\"\n",
    "#VARIABLE, BINS, RANGE, XTIT = 'reco_e',14,(0.1,1.5),r\"Reconstructed Energy [GeV]\"\n",
    "#VARIABLE, BINS, RANGE, XTIT = 'pi0_mass_Y',20,(0,500),\"pi0 mass Y\"\n",
    "\n",
    "#VARIABLE, BINS, RANGE, XTIT = 'muon_e',20,(0.,1.),r\"Muon Energy [GeV]\"\n",
    "#VARIABLE, BINS, RANGE, XTIT = 'pi0truth_elec_etot',20,(0.,60),r\"Michel Energy [GeV]\"\n",
    "\n",
    "fig, ax1, ax2 = my_plotter.plot_variable(\n",
    "    VARIABLE,   \n",
    "    query=QUERY,\n",
    "    kind=\"event_category\",\n",
    "    #kind=\"interaction\",\n",
    "    #kind=\"sample\",\n",
    "    #kind='particle_pdg',\n",
    "    draw_sys=False,\n",
    "    stacksort=False,\n",
    "    title=XTIT,\n",
    "    #bins=asymm_bins,\n",
    "    bins=BINS,\n",
    "    range=RANGE,\n",
    ")\n",
    "\n",
    "print(\"Profile likelihood: %.2f sigma @ 1.01e21 POT\" % my_plotter.significance_likelihood)\n",
    "print(\"s/sqrt(b): %.2f sigma @ 1.01e21 POT\" % my_plotter.significance)\n",
    "\n",
    "#ax1.set_ylim(0,40)\n",
    "#ax1.set_yscale(\"log\")\n",
    "#ax1.set_ylim(0,200)\n",
    "ax1.set_ylim(0,ax1.get_ylim()[1]*1.5)\n",
    "#ax2.set_ylim(0.5,1.5)\n",
    "#fig.savefig(ls.plots_path+\"/0109/run3/presel/\"+VARIABLE+\"_\"+date_time+\".pdf\")"
   ]
  },
  {
   "cell_type": "code",
   "execution_count": null,
   "metadata": {},
   "outputs": [],
   "source": [
    "cccpi.query(QUERY)[[\"run\",\"sub\",\"evt\",\"reco_e\"]]"
   ]
  },
  {
   "cell_type": "code",
   "execution_count": null,
   "metadata": {},
   "outputs": [],
   "source": [
    "mc.query(QUERY+\"& ccnc==0 & nu_pdg==14 & mcf_np0==0\")[[\"run\",\"sub\",\"evt\",\"reco_e\",\"mcf_lep_e\",\"mcf_mcshr_elec_etot\"]]"
   ]
  },
  {
   "cell_type": "code",
   "execution_count": null,
   "metadata": {
    "scrolled": false
   },
   "outputs": [],
   "source": [
    "QUERY += ' and reco_e > 0.2 and reco_e < 1.5'\n",
    "#QUERY += ' and shr_tkfit_dedx_Y < 0'\n",
    "plots = []\n",
    "plots.append(['tksh_distance',20,(0,10),\"tksh distance [cm]\"])\n",
    "#plots.append(['shr_tkfit_dedx_Y',20,(0,10),\"shr tkfit dE/dx (Y, 0-4 cm) [MeV/cm]\"])\n",
    "#plots.append(['shr_tkfit_dedx_U',20,(0,10),\"shr tkfit dE/dx (U, 0-4 cm) [MeV/cm]\"])\n",
    "#plots.append(['shr_tkfit_dedx_V',20,(0,10),\"shr tkfit dE/dx (V, 0-4 cm) [MeV/cm]\"])\n",
    "plots.append(['shr_tkfit_2cm_dedx_Y',20,(0,10),\"shr tkfit dE/dx (Y, 0-2 cm) [MeV/cm]\"])\n",
    "plots.append(['shr_tkfit_2cm_dedx_U',20,(0,10),\"shr tkfit dE/dx (U, 0-2 cm) [MeV/cm]\"])\n",
    "plots.append(['shr_tkfit_2cm_dedx_V',20,(0,10),\"shr tkfit dE/dx (V, 0-2 cm) [MeV/cm]\"])\n",
    "plots.append(['shr_tkfit_gap10_dedx_Y',20,(0,10),\"shr tkfit dE/dx (Y, 1-5 cm) [MeV/cm]\"])\n",
    "plots.append(['shr_tkfit_gap10_dedx_U',20,(0,10),\"shr tkfit dE/dx (U, 1-5 cm) [MeV/cm]\"])\n",
    "plots.append(['shr_tkfit_gap10_dedx_V',20,(0,10),\"shr tkfit dE/dx (V, 1-5 cm) [MeV/cm]\"])\n",
    "plots.append(['tksh_angle',20,(-1,1),\"cos(tksh angle)\"])\n",
    "plots.append(['trkfit',20,(0,1),\"Fraction of Track-fitted points\"])\n",
    "plots.append(['shrmoliereavg',20,(0,50),\"average Moliere angle [degrees]\"])\n",
    "plots.append(['trkpid',15,(-1,1),\"track LLR PID\"])\n",
    "plots.append(['n_showers_contained',10,(0,10),\"n showers contained\"])\n",
    "plots.append(['n_tracks_contained',10,(0,10),\"n tracks contained\"])\n",
    "plots.append(['shr_score',20,(0,0.5),\"shr score\"])\n",
    "plots.append(['trk_score',20,(0.5,1.0),\"trk score\"])\n",
    "plots.append(['hits_ratio',20,(0,1),\"shower hits/all hits\"])\n",
    "plots.append(['slclustfrac',20,(0,1),\"slice clustered fraction\"])\n",
    "plots.append(['CosmicIP',20,(0,200),\"Cosmic IP from vtx [cm]\"])\n",
    "plots.append(['reco_nu_vtx_x',20,(0,260),\"x\"])\n",
    "plots.append(['reco_nu_vtx_y',20,(-120,120),\"y\"])\n",
    "plots.append(['reco_nu_vtx_z',20,(0,1100),\"z\"])\n",
    "plots.append(['reco_e_rqe',20,(0,2),\"rqe\"])\n",
    "plots.append(['trkshrhitdist2',20,(0,10),\"2D trk-shr distance (Y)\"])\n",
    "plots.append(['subcluster',20,(0,20),\"N sub-clusters in shower\"])\n",
    "plots.append(['shrmoliererms',20,(0,5000),\"RMS Moliere angle [degrees]\"])\n",
    "plots.append(['shr_energy_tot_cali',20,(0,1),\"shr energy (calibrated) [GeV]\"])\n",
    "plots.append(['contained_fraction',20,(0.,1),\"contained fraction\"])\n",
    "plots.append(['hits_y',20,(0.,1000),\"N hits Y plane\"])\n",
    "#plots.append(['pi0_mass_Y',25,(-50.,200),\"pi0 mass [Mev]\"])\n",
    "#plots.append(['pi0_gammadot',20,(-1,1),\"2-shower angle\"])\n",
    "plots.append(['secondshower_Y_nhit',20,(0,200),\"Nhit 2nd shower (Y)\"])\n",
    "plots.append(['secondshower_Y_dot',20,(-1,1),\"cos(2nd shower direction wrt vtx) (Y)\"])\n",
    "plots.append(['anglediff_Y',20,(0,350),\"angle diff 1st-2nd shower (Y) [degrees]\"])\n",
    "plots.append(['secondshower_Y_vtxdist',20,(0.,200),\"vtx dist 2nd shower (Y)\"])\n",
    "#plots = []\n",
    "#plots.append(['trkshrhitdist2',20,(0,10),\"2D trk-shr distance (Y)\"])\n",
    "if USEBDT:\n",
    "    plots = []\n",
    "    plots.append(['pi0_score',20,(0.,1),\"$\\pi^0$ BDT response\"])\n",
    "    plots.append(['nonpi0_score',20,(0.,1),\"non-$\\pi^0$ BDT response\"])\n",
    "for VARIABLE, BINS, RANGE, XTIT in plots:\n",
    "    print(VARIABLE, BINS, RANGE, XTIT)\n",
    "    fig, ax1, ax2 = my_plotter.plot_variable(\n",
    "        VARIABLE,   \n",
    "        query=QUERY,\n",
    "        kind=\"event_category\",\n",
    "        #kind=\"interaction\",\n",
    "        #kind=\"sample\",\n",
    "        draw_sys=False,\n",
    "        title=XTIT,\n",
    "        bins=BINS,\n",
    "        range=RANGE,\n",
    "    )\n",
    "    #ax1.set_ylim(0,ax1.get_ylim()[1]*1.4)\n",
    "    #ax1.set_yscale(\"log\")\n",
    "    fig.show()\n",
    "    #fig.savefig(ls.plots_path+\"0109/run1/presel/\"+VARIABLE+date_time+\".pdf\")"
   ]
  },
  {
   "cell_type": "code",
   "execution_count": null,
   "metadata": {},
   "outputs": [],
   "source": [
    "import matplotlib.cm as cm\n",
    "from matplotlib.colors import Normalize\n",
    "import pandas as pd\n",
    "import matplotlib.pyplot as plt\n",
    "\n",
    "BINS = np.linspace(0,1,25)\n",
    "VAR = 'cosmic_score'\n",
    "\n",
    "nueplot = nue.query(QUERY)\n",
    "nueplotecut = nueplot.query('nu_e < 0.8')\n",
    "\n",
    "fig = plt.figure(figsize=(6,6))\n",
    "plt.hist(nueplot[VAR].values,bins=BINS,histtype='step',lw=2,color='red',label='all nue')\n",
    "plt.hist(nueplotecut[VAR].values,bins=BINS,histtype='step',lw=2,color='m',label='nue < 0.8 GeV')\n",
    "#plt.hist(nue[VAR].values,bins=BINS,histtype='step',lw=2,color='green')\n",
    "plt.grid()\n",
    "plt.legend()\n",
    "plt.title(VAR)\n",
    "plt.show()\n",
    "\n",
    "BINS2D = (np.linspace(0,3.0,25),BINS)\n",
    "\n",
    "fig = plt.figure(figsize=(6,6))\n",
    "plt.hist2d(nueplot['nu_e'].values,nueplot[VAR].values,bins=BINS2D)\n",
    "#plt.hist(nue[VAR].values,bins=BINS,histtype='step',lw=2,color='green')\n",
    "plt.grid()\n",
    "plt.show()"
   ]
  },
  {
   "cell_type": "code",
   "execution_count": null,
   "metadata": {},
   "outputs": [],
   "source": [
    "import matplotlib.cm as cm\n",
    "from matplotlib.colors import Normalize\n",
    "import pandas as pd\n",
    "import matplotlib.pyplot as plt\n",
    "\n",
    "x_range = (0.1,0.8)\n",
    "n_bins = 7\n",
    "\n",
    "n_tot = np.empty([50, n_bins])\n",
    "n_cv_tot = np.empty(n_bins)\n",
    "n_tot.fill(0)\n",
    "n_cv_tot.fill(0)\n",
    "score_cut = 0.997\n",
    "\n",
    "my_cmap = cm.get_cmap('viridis')\n",
    "\n",
    "for t in samples:\n",
    "    if t in [\"ext\", \"data\", \"lee\"]:\n",
    "        continue\n",
    "    tree = samples[t]\n",
    "    \n",
    "    extra_query = \"\"\n",
    "    if t == \"mc\":\n",
    "        extra_query = \"& ~(nu_pdg == 12 & ccnc == 0) & ~(npi0 != 0 & ccnc == 1)\"\n",
    "        \n",
    "    queried_tree = tree.query(\"selected==1 & global_score > %g %s & interaction == 1\" % (score_cut, extra_query))\n",
    "    variable = queried_tree[\"reco_e\"]\n",
    "    genie_weights = queried_tree[\"weightsGenie\"]\n",
    "    spline_fix = queried_tree[\"weightSpline\"]*weights[t]\n",
    "\n",
    "    s = genie_weights\n",
    "    df = pd.DataFrame(s.values.tolist())\n",
    "\n",
    "\n",
    "    n_cv, bins = np.histogram(\n",
    "        variable,\n",
    "        range=x_range,\n",
    "        bins=n_bins,\n",
    "        weights=spline_fix)\n",
    "    \n",
    "    n_cv_tot += n_cv\n",
    "\n",
    "    if not df.empty:\n",
    "        for i in range(50):\n",
    "            weight = df[i].values\n",
    "            weight[np.isnan(weight)] = 1\n",
    "            weight[weight > 100] = 1\n",
    "\n",
    "            n, bins = np.histogram(\n",
    "                variable, weights=weight*spline_fix, range=x_range, bins=n_bins)\n",
    "\n",
    "            n_tot[i] += n\n",
    "\n",
    "        \n",
    "bincenters = 0.5 * (bins[1:] + bins[:-1])\n",
    "\n",
    "left,right = bins[:-1],bins[1:]\n",
    "X = np.array([left,right]).T.flatten()\n",
    "Y = np.array([n_cv_tot,n_cv_tot]).T.flatten()\n",
    "plt.plot(X,Y,color='r',linewidth=2,label='Central value')\n",
    "\n",
    "    \n",
    "cov = np.empty([len(n_cv), len(n_cv)])\n",
    "cov.fill(0)\n",
    "\n",
    "my_norm = Normalize(vmin=min((sum(n) for n in n_tot)), vmax=max((sum(n) for n in n_tot)))\n",
    "\n",
    "for n in n_tot:\n",
    "    left,right = bins[:-1],bins[1:]\n",
    "    X = np.array([left,right]).T.flatten()\n",
    "    Y = np.array([n,n]).T.flatten()\n",
    "    plt.plot(X,Y,color=my_cmap(my_norm(sum(n))),zorder=-32)\n",
    "    for i in range(len(n_cv)):\n",
    "        for j in range(len(n_cv)):\n",
    "            cov[i][j] += (n[i] - n_cv_tot[i]) * (n[j] - n_cv_tot[j])\n",
    "\n",
    "cov /= 50\n",
    "            \n",
    "frac_cov = np.empty([len(n_cv), len(n_cv)])\n",
    "corr = np.empty([len(n_cv), len(n_cv)])\n",
    "\n",
    "for i in range(len(n_cv)):\n",
    "    for j in range(len(n_cv)):\n",
    "        frac_cov[i][j] = cov[i][j] / (n_cv_tot[i] * n_cv_tot[j])\n",
    "        corr[i][j] = cov[i][j] / np.sqrt(cov[i][i] * cov[j][j])\n",
    "\n",
    "        \n",
    "plt.errorbar(\n",
    "    bincenters, \n",
    "    n_cv_tot,\n",
    "    yerr=np.sqrt(np.diag(cov)), \n",
    "    fmt='none', \n",
    "    ecolor='r',\n",
    "    linewidth=2,\n",
    "    label='GENIE sys. uncertainties')\n",
    "\n",
    "print(np.sqrt(np.diag(cov))/n_cv_tot)\n",
    "plt.xlim(x_range[0], x_range[1])\n",
    "plt.xlabel(r\"$E_{deposited}$ [GeV]\")\n",
    "plt.legend()\n",
    "plt.ylim(ymin=0)\n",
    "plt.tight_layout()\n",
    "plt.savefig(\"plots/spec.pdf\", transparent=True)"
   ]
  },
  {
   "cell_type": "code",
   "execution_count": null,
   "metadata": {
    "scrolled": true
   },
   "outputs": [],
   "source": [
    "fig, ax = plt.subplots(1, 1)\n",
    "pos = ax.imshow(frac_cov, origin='lower', cmap='viridis')\n",
    "ax.set_title(\"Fractional covariance matrix\")\n",
    "ax.set_ylabel(\"Bin number\")\n",
    "ax.set_xlabel(\"Bin number\")\n",
    "fig.colorbar(pos)\n",
    "fig.tight_layout()\n",
    "fig.savefig(\"plots/frac.pdf\", transparent=True)"
   ]
  },
  {
   "cell_type": "code",
   "execution_count": null,
   "metadata": {},
   "outputs": [],
   "source": [
    "fig, ax = plt.subplots(1, 1)\n",
    "ax.set_title(\"Correlation matrix\")\n",
    "pos = ax.imshow(corr, origin='lower', cmap='inferno')\n",
    "ax.set_ylabel(\"Bin number\")\n",
    "ax.set_xlabel(\"Bin number\")\n",
    "fig.colorbar(pos)\n",
    "fig.tight_layout()\n",
    "fig.savefig(\"plots/corr.pdf\", transparent=True)"
   ]
  },
  {
   "cell_type": "code",
   "execution_count": null,
   "metadata": {
    "scrolled": true
   },
   "outputs": [],
   "source": [
    "my_plotter.plot_2d(\n",
    "    \"global_score\",\n",
    "    \"ncpi0_score\",\n",
    "    query=\"selected==1\",\n",
    "    bins_x=50,\n",
    "    bins_y=50,\n",
    "    range_x=(0., 1),\n",
    "    range_y=(0., 1))"
   ]
  },
  {
   "cell_type": "code",
   "execution_count": null,
   "metadata": {},
   "outputs": [],
   "source": []
  }
 ],
 "metadata": {
  "accelerator": "GPU",
  "colab": {
   "name": "Plotter.ipynb",
   "provenance": [],
   "version": "0.3.2"
  },
  "kernelspec": {
   "display_name": "Python 3",
   "language": "python",
   "name": "python3"
  },
  "language_info": {
   "codemirror_mode": {
    "name": "ipython",
    "version": 3
   },
   "file_extension": ".py",
   "mimetype": "text/x-python",
   "name": "python",
   "nbconvert_exporter": "python",
   "pygments_lexer": "ipython3",
   "version": "3.7.4"
  }
 },
 "nbformat": 4,
 "nbformat_minor": 1
}
