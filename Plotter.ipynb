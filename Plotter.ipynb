{
 "cells": [
  {
   "cell_type": "code",
   "execution_count": 1,
   "metadata": {
    "colab": {
     "base_uri": "https://localhost:8080/",
     "height": 34
    },
    "colab_type": "code",
    "executionInfo": {
     "elapsed": 517,
     "status": "ok",
     "timestamp": 1560556807118,
     "user": {
      "displayName": "Stefano Roberto Soleti",
      "photoUrl": "https://lh4.googleusercontent.com/-hfLpspJu4Q0/AAAAAAAAAAI/AAAAAAAABmA/2kE4rtj8paU/s64/photo.jpg",
      "userId": "10372352518008961760"
     },
     "user_tz": 240
    },
    "id": "6qsD0G-yYJ9K",
    "outputId": "5d52a3ec-50be-44fc-da44-3c0593e98bc6"
   },
   "outputs": [],
   "source": [
    "import sys\n",
    "try:\n",
    "    from google.colab import drive\n",
    "    drive.mount(\"/content/drive\")\n",
    "    main_path = '/content/drive/My Drive/lee_mcc9/'\n",
    "except:\n",
    "    main_path = ''\n",
    "sys.path.append(main_path)"
   ]
  },
  {
   "cell_type": "code",
   "execution_count": 17,
   "metadata": {
    "colab": {},
    "colab_type": "code",
    "id": "xGqTJ5JgaDsx"
   },
   "outputs": [],
   "source": [
    "import plotter\n",
    "import importlib\n",
    "importlib.reload(plotter)\n",
    "import uproot\n",
    "import matplotlib.pylab as pylab\n",
    "import numpy as np\n",
    "import math\n",
    "from sklearn.model_selection import train_test_split\n",
    "import pickle\n",
    "import xgboost as xgb\n",
    "import nue_booster \n",
    "importlib.reload(nue_booster)\n",
    "\n",
    "params = {\n",
    "    'axes.labelsize': 'x-large',\n",
    "    'axes.titlesize': 'x-large',\n",
    "    'xtick.labelsize': 'x-large',\n",
    "    'ytick.labelsize': 'x-large'\n",
    "}\n",
    "pylab.rcParams.update(params)\n"
   ]
  },
  {
   "cell_type": "code",
   "execution_count": 3,
   "metadata": {
    "colab": {},
    "colab_type": "code",
    "id": "iwoCIaigYJ9N"
   },
   "outputs": [],
   "source": [
    "fold = \"nuselection\"\n",
    "tree = \"NeutrinoSelectionFilter\"\n",
    "\n",
    "mc = uproot.open(main_path+\"root_files/new/mc_bnb.root\")[fold][tree]\n",
    "nc = uproot.open(main_path+\"root_files/new/nc.root\")[fold][tree]\n",
    "nue = uproot.open(main_path+\"root_files/new/nue.root\")[fold][tree]\n",
    "data = uproot.open(main_path+\"root_files/new/bnb.root\")[fold][tree]\n",
    "ext = uproot.open(main_path+\"root_files/new/ext.root\")[fold][tree]\n",
    "dirt = uproot.open(main_path+\"root_files/new/dirt.root\")[fold][tree]\n",
    "lee = uproot.open(main_path+\"root_files/new/nue.root\")[fold][tree]\n",
    "\n",
    "variables = [\n",
    "    \"shr_dedx_Y\", \"shr_bkt_pdg\", \"p\", \"pt\", \"selected\", \"nu_pdg\", \"shr_theta\",\n",
    "    \"slpdg\", \"trk_score_v\", \"backtracked_pdg\", \"shr_theta_v\", \"shr_score_v\",\n",
    "    \"shr_pfp_id_v\", \"category\", \"shr_tkfit_dedx_Y\", \"trk_pfp_id\",\n",
    "    \"shr_energy_tot\", \"trk_energy_tot\", \"shr_hits_tot\", \"ccnc\", \"trk_chipr\",\n",
    "    \"trk_bkt_pdg\", \"hits_ratio\", \"n_tracks_contained\", \n",
    "    \"nproton\", \"nu_e\", \"n_showers_contained\", \"shr_distance\", \"trk_distance\",\n",
    "    \"hits_y\", \"shr_pz\", \"shr_energy\", \"shr_dedx_U\", \"shr_dedx_V\", \"shr_phi\", \"trk_phi\", \"trk_theta\",\n",
    "    \"shr_tkfit_dedx_U\", \"shr_tkfit_dedx_V\", \"run\", \"sub\", \"evt\", \"nproton\", \"trk_pid_chipr_v\",\n",
    "    \"trk_len\", \"mc_pdg\", \"slnunhits\", \"slnhits\", \"shr_score\", \"trk_score\", \"trk_hits_tot\",\n",
    "    \"true_e_visible\", \"matched_E\", \"shr_bkt_E\", \"trk_bkt_E\", \"trk_energy\", \"tksh_distance\", \"tksh_angle\",\n",
    "    \"trk_chipr_best\", \"trk_chipr_worst\", \"trk_pida\", \"trk_chimu\", \"CosmicIP\", \"trk_bragg_p\", \"trk_bragg_mu\",\n",
    "    \"trk_bragg_mip\", \"shr_chipr\", \"shr_bragg_p\", \"shr_bragg_mu\", \"shr_chimu\",\n",
    "    \"shr_pca_2\", \"shr_pca_0\", \"shr_pca_1\", \"npi0\", \"gamma1_edep\", \"gamma2_edep\", \"topological_score\",\n",
    "    \"pi0_e\"\n",
    "]\n",
    "\n",
    "mc = mc.pandas.df(variables, flatten=False)\n",
    "nc = nc.pandas.df(variables, flatten=False)\n",
    "nue = nue.pandas.df(variables, flatten=False)\n",
    "data = data.pandas.df(variables, flatten=False)\n",
    "ext = ext.pandas.df(variables, flatten=False)\n",
    "dirt = dirt.pandas.df(variables, flatten=False)\n",
    "lee = lee.pandas.df(variables + [\"leeweight\"], flatten=False)\n",
    "\n",
    "ext[\"shr_dedx_Y\"] = ext[\"shr_dedx_Y\"] * 1.042\n",
    "data[\"shr_dedx_Y\"] = data[\"shr_dedx_Y\"] * 1.042\n",
    "ext[\"shr_tkfit_dedx_Y\"] = ext[\"shr_tkfit_dedx_Y\"] * 1.042\n",
    "data[\"shr_tkfit_dedx_Y\"] = data[\"shr_tkfit_dedx_Y\"] * 1.042\n",
    "ext[\"shr_energy_tot\"] = ext[\"shr_energy_tot\"] * 1.042\n",
    "data[\"shr_energy_tot\"] = data[\"shr_energy_tot\"] * 1.042\n",
    "\n",
    "lee[\"reco_e\"] = (lee[\"shr_energy_tot\"] + 0.02) / 0.8 + lee[\"trk_energy_tot\"]\n",
    "data[\"reco_e\"] = (data[\"shr_energy_tot\"] + 0.02) / 0.8 + data[\"trk_energy_tot\"]\n",
    "nue[\"reco_e\"] = (nue[\"shr_energy_tot\"] + 0.02) / 0.8 + nue[\"trk_energy_tot\"]\n",
    "mc[\"reco_e\"] = (mc[\"shr_energy_tot\"] + 0.02) / 0.8 + mc[\"trk_energy_tot\"]\n",
    "dirt[\"reco_e\"] = (dirt[\"shr_energy_tot\"] + 0.02) / 0.8 + dirt[\"trk_energy_tot\"]\n",
    "ext[\"reco_e\"] = (ext[\"shr_energy_tot\"] + 0.02) / 0.8 + ext[\"trk_energy_tot\"]\n",
    "nc[\"reco_e\"] = (nc[\"shr_energy_tot\"] + 0.02) / 0.8 + nc[\"trk_energy_tot\"]\n",
    "\n",
    "lee[\"is_signal\"] = lee[\"category\"] == 11\n",
    "data[\"is_signal\"] = data[\"category\"] == 11\n",
    "nue[\"is_signal\"] = nue[\"category\"] == 11\n",
    "mc[\"is_signal\"] = mc[\"category\"] == 11\n",
    "dirt[\"is_signal\"] = dirt[\"category\"] == 11\n",
    "ext[\"is_signal\"] = ext[\"category\"] == 11\n",
    "nc[\"is_signal\"] = nc[\"category\"] == 11\n",
    "\n",
    "lee.loc[lee['category'] == 1, 'category'] = 111\n",
    "lee.loc[lee['category'] == 10, 'category'] = 111\n",
    "lee.loc[lee['category'] == 11, 'category'] = 111\n",
    "\n",
    "train_nc, nc = train_test_split(nc, test_size=0.5, random_state=1990)\n",
    "train_mc, mc = train_test_split(mc, test_size=0.5, random_state=1990)\n",
    "train_nue, nue = train_test_split(nue, test_size=0.5, random_state=1990)\n",
    "train_lee, lee = train_test_split(lee, test_size=0.5, random_state=1990)\n",
    "train_ext, ext = train_test_split(ext, test_size=0.5, random_state=1990)"
   ]
  },
  {
   "cell_type": "code",
   "execution_count": 4,
   "metadata": {
    "colab": {},
    "colab_type": "code",
    "id": "XcI43ileYJ9P"
   },
   "outputs": [],
   "source": [
    "features = nue_booster.variables.copy()\n",
    "features.remove(\"is_signal\")\n",
    "features.remove(\"nu_e\")\n",
    "features.remove(\"train_weight\")\n",
    "\n",
    "for label, bkg_query in zip(nue_booster.labels, nue_booster.bkg_queries):\n",
    "    with open(main_path+'pickles/booster_%s.pickle' % label, 'rb') as booster_file:\n",
    "        booster = pickle.load(booster_file)\n",
    "        mc[label+\"_score\"] = booster.predict(\n",
    "            xgb.DMatrix(mc[features]),\n",
    "            ntree_limit=booster.best_iteration + 1)\n",
    "        nue[label+\"_score\"] = booster.predict(\n",
    "            xgb.DMatrix(nue[features]),\n",
    "            ntree_limit=booster.best_iteration + 1)\n",
    "        ext[label+\"_score\"] = booster.predict(\n",
    "            xgb.DMatrix(ext[features]),\n",
    "            ntree_limit=booster.best_iteration + 1)\n",
    "        data[label+\"_score\"] = booster.predict(\n",
    "            xgb.DMatrix(data[features]),\n",
    "            ntree_limit=booster.best_iteration + 1)\n",
    "        dirt[label+\"_score\"] = booster.predict(\n",
    "            xgb.DMatrix(dirt[features]),\n",
    "            ntree_limit=booster.best_iteration + 1)\n",
    "        lee[label+\"_score\"] = booster.predict(\n",
    "            xgb.DMatrix(lee[features]),\n",
    "            ntree_limit=booster.best_iteration + 1)\n",
    "        nc[label+\"_score\"] = booster.predict(\n",
    "            xgb.DMatrix(nc[features]),\n",
    "            ntree_limit=booster.best_iteration + 1)\n",
    "features = [\"%s_score\" % l for l in nue_booster.labels]\n",
    "\n",
    "with open(main_path+'pickles/booster.pickle', 'rb') as booster_file:\n",
    "    booster = pickle.load(booster_file)\n",
    "    \n",
    "    mc[\"global_score\"] = booster.predict(\n",
    "        xgb.DMatrix(mc[features]),\n",
    "        ntree_limit=booster.best_iteration + 1)\n",
    "    nue[\"global_score\"] = booster.predict(\n",
    "        xgb.DMatrix(nue[features]),\n",
    "        ntree_limit=booster.best_iteration + 1)\n",
    "    ext[\"global_score\"] = booster.predict(\n",
    "        xgb.DMatrix(ext[features]),\n",
    "        ntree_limit=booster.best_iteration + 1)\n",
    "    data[\"global_score\"] = booster.predict(\n",
    "        xgb.DMatrix(data[features]),\n",
    "        ntree_limit=booster.best_iteration + 1)\n",
    "    dirt[\"global_score\"] = booster.predict(\n",
    "        xgb.DMatrix(dirt[features]),\n",
    "        ntree_limit=booster.best_iteration + 1)\n",
    "    lee[\"global_score\"] = booster.predict(\n",
    "        xgb.DMatrix(lee[features]),\n",
    "        ntree_limit=booster.best_iteration + 1)\n",
    "    nc[\"global_score\"] = booster.predict(\n",
    "        xgb.DMatrix(nc[features]),\n",
    "        ntree_limit=booster.best_iteration + 1)"
   ]
  },
  {
   "cell_type": "code",
   "execution_count": 67,
   "metadata": {},
   "outputs": [],
   "source": [
    "genie_bins = [0., 0.01, 0.02, 0.03, 0.04, 0.05, 0.06, 0.07, 0.08, 0.09, 0.1, \n",
    "      0.11, 0.12, 0.13, 0.14, 0.15, 0.16, 0.17, 0.18, 0.19, 0.2 , 0.21, \n",
    "      0.22, 0.23, 0.24, 0.25, 0.26, 0.27, 0.28, 0.29, 0.3 , 0.31, 0.32, \n",
    "      0.33, 0.34, 0.35, 0.36, 0.37, 0.38, 0.39, 0.4 , 0.41, 0.42, 0.43, \n",
    "      0.44, 0.45, 0.46, 0.47, 0.48, 0.49, 0.5 , 0.51, 0.52, 0.53, 0.54, \n",
    "      0.55, 0.56, 0.57, 0.58, 0.59, 0.6 , 0.61, 0.62, 0.63, 0.64, 0.65, \n",
    "      0.66, 0.67, 0.68, 0.69, 0.7 , 0.71, 0.72, 0.73, 0.74, 0.75, 0.76, \n",
    "      0.77, 0.78, 0.79, 0.8 , 0.81, 0.82, 0.83, 0.84, 0.85, 0.86, 0.87, \n",
    "      0.88, 0.89, 0.9 , 0.91, 0.92, 0.93, 0.94, 0.95, 0.96, 0.97, 0.98, \n",
    "      0.99, 1., 10]\n",
    "genie_scaling = [\n",
    "      12.55208598,  12.55208598, 12.55208598, 12.55208598, 12.55208598,\n",
    "      12.55208598,  12.55208598, 12.55208598, 12.55208598, 12.55208598,\n",
    "      12.55208598,  12.55208598, 12.55208598, 12.55208598,  9.31846454,\n",
    "       6.82872663,  5.80966896,  5.2553157 ,  4.90681857,  4.66746843,\n",
    "       4.4929316 ,  4.36002138,  4.25543261,  4.17098451,  4.1013703 ,\n",
    "       4.04299703,  3.99334541,  3.63941611,  3.3721562 ,  3.16703429,\n",
    "       3.00463658,  2.87287377,  2.76382449,  2.67208169,  2.59382834,\n",
    "       2.52629307,  2.46741497,  2.41562971,  2.36972842,  2.30539259,\n",
    "       2.22447089,  2.15393863,  2.09191567,  2.03694972,  1.98790119,\n",
    "       1.94386331,  1.90410559,  1.86803295,  1.83515574,  1.80506736,\n",
    "       1.77742741,  1.75194872,  1.72135466,  1.6927084 ,  1.66611657,\n",
    "       1.64136581,  1.61827133,  1.59667225,  1.57642788,  1.55741465,\n",
    "       1.53952356,  1.52265812,  1.5067326 ,  1.49167054,  1.47724255,\n",
    "       1.4633238 ,  1.45005827,  1.43740101,  1.42531113,  1.41375131,\n",
    "       1.40268745,  1.39208829,  1.38192516,  1.37217169,  1.36280362,\n",
    "       1.35379853,  1.34513573,  1.3382099 ,  1.33160516,  1.32520344,\n",
    "       1.31899553,  1.31297276,  1.30712696,  1.30145044,  1.29593597,\n",
    "       1.2905767 ,  1.28536616,  1.28029825,  1.2753672 ,  1.27093091,\n",
    "       1.2670996 ,  1.26335683,  1.25969957,  1.25612491,  1.25263009,\n",
    "       1.24921246,  1.2458695 ,  1.24259878,  1.23939799,  1.23626491,\n",
    "       1.23319741,  1.2\n",
    "]\n",
    "\n",
    "nc[\"genie_weight\"] = 1\n",
    "nue[\"genie_weight\"] = 1\n",
    "mc[\"genie_weight\"] = 1\n",
    "dirt[\"genie_weight\"] = 1\n",
    "lee[\"genie_weight\"] = 1\n",
    "\n",
    "# for i, genie_bin in enumerate(genie_bins):\n",
    "    \n",
    "#     if i == 0:\n",
    "#         continue\n",
    "        \n",
    "#     nue.loc[(nue['nu_e'] > genie_bins[i-1]) & (nue['nu_e'] < genie_bins[i]), 'genie_weight'] = genie_scaling[i-1]\n",
    "#     mc.loc[(mc['nu_e'] > genie_bins[i-1]) & (mc['nu_e'] < genie_bins[i]), 'genie_weight'] = genie_scaling[i-1]\n",
    "#     dirt.loc[(dirt['nu_e'] > genie_bins[i-1]) & (dirt['nu_e'] < genie_bins[i]), 'genie_weight'] = genie_scaling[i-1]\n",
    "#     nc.loc[(nc['nu_e'] > genie_bins[i-1]) & (nc['nu_e'] < genie_bins[i]), 'genie_weight'] = genie_scaling[i-1]\n",
    "#     lee.loc[(lee['nu_e'] > genie_bins[i-1]) & (lee['nu_e'] < genie_bins[i]), 'genie_weight'] = genie_scaling[i-1]\n"
   ]
  },
  {
   "cell_type": "code",
   "execution_count": 68,
   "metadata": {
    "colab": {},
    "colab_type": "code",
    "id": "_pamv0W8YJ9R"
   },
   "outputs": [],
   "source": [
    "samples = {\n",
    "    \"mc\": mc,\n",
    "    \"nue\": nue,\n",
    "    \"data\": data,\n",
    "    \"ext\": ext,\n",
    "    \"dirt\": dirt,\n",
    "    \"nc\": nc,\n",
    "    \"lee\": lee\n",
    "}\n",
    "\n",
    "scaling = 1#132.0/4.5\n",
    "\n",
    "weights = {\n",
    "    \"mc\": 0.034985 * 2 * scaling,\n",
    "    \"nue\": 0.0003666828 * 2 * scaling,\n",
    "    \"ext\": 0.15693 * 2 * scaling,\n",
    "    \"dirt\": 0.147210 * scaling,\n",
    "    \"lee\": 0.0003666828 * 2 * scaling,\n",
    "    \"nc\": 0.018087 * 2 * scaling,\n",
    "}\n",
    "\n",
    "my_plotter = plotter.Plotter(samples, weights)"
   ]
  },
  {
   "cell_type": "code",
   "execution_count": 104,
   "metadata": {
    "colab": {
     "base_uri": "https://localhost:8080/",
     "height": 561
    },
    "colab_type": "code",
    "executionInfo": {
     "elapsed": 2342,
     "status": "ok",
     "timestamp": 1560557343774,
     "user": {
      "displayName": "Stefano Roberto Soleti",
      "photoUrl": "https://lh4.googleusercontent.com/-hfLpspJu4Q0/AAAAAAAAAAI/AAAAAAAABmA/2kE4rtj8paU/s64/photo.jpg",
      "userId": "10372352518008961760"
     },
     "user_tz": 240
    },
    "id": "b93hN-pGYJ9T",
    "outputId": "17e7c7ed-3f12-4b03-805c-6698f1617878",
    "scrolled": false
   },
   "outputs": [
    {
     "name": "stdout",
     "output_type": "stream",
     "text": [
      "Profile likelihood: 2.74 sigma @ 1.32e21 POT\n",
      "s/sqrt(b): 2.97 sigma @ 1.32e21 POT\n"
     ]
    },
    {
     "data": {
      "image/png": "[encoded data removed]",
      "text/plain": [
       "<Figure size 576x504 with 2 Axes>"
      ]
     },
     "metadata": {
      "needs_background": "light"
     },
     "output_type": "display_data"
    }
   ],
   "source": [
    "miniboone_bins = [\n",
    "    0, 0.200, 0.300, 0.375, 0.475, 0.550, 0.675, 0.800, 0.950, 1.100, 1.300,\n",
    "    1.500, 3.000\n",
    "]\n",
    "\n",
    "score_cut = 0.99941\n",
    "\n",
    "# print(samples[\"data\"].query(\"selected==1 & global_score > %g & cosmic_score > 0.995 & reco_e > 0.1 & reco_e < 0.6\" % score_cut)[[\"run\", \"sub\", \"evt\"]].to_string(index=False))\n",
    "\n",
    "fig, ax1, ax2 = my_plotter.plot_variable(\n",
    "    \"reco_e\",\n",
    "#     query=\"tksh_distance < 5 & tksh_angle < 0.9 & trk_chipr > 0 & hits_y > 100 & trk_chipr < 50 & pt/p < 0.9 & hits_ratio > 0.5 & selected==1 & shr_energy/shr_energy_tot > 0.9  & shr_distance < 5 & trk_distance < 2.5 & slpdg==12 & (shr_energy_tot+0.02)/0.8 > 0.06 & shr_tkfit_dedx_Y < 3.2 & shr_tkfit_dedx_Y > 0.7\",\n",
    "    query=\"selected==1 & global_score > %g & cosmic_score > 0.995\" % score_cut,\n",
    "    kind=\"event_category\",\n",
    "    title=r\" \",\n",
    "#     bins=miniboone_bins,\n",
    "    bins=5,\n",
    "    range=(0,2)\n",
    ")\n",
    "\n",
    "# ax1.axvline(x=0, color=\"k\")\n",
    "# print(samples[\"mc\"].query(\"selected==1 & global_score > %g & reco_e > 0.2 & reco_e < 0.8 & category != 11\" % score_cut)[[\"run\",\"sub\",\"evt\",\"shr_score\", \"category\", \"trk_chipr\"]])\n",
    "\n",
    "print(\"Profile likelihood: %.2f sigma @ 1.32e21 POT\" % my_plotter.significance_likelihood)\n",
    "print(\"s/sqrt(b): %.2f sigma @ 1.32e21 POT\" % my_plotter.significance)\n",
    "\n",
    "# ax1.set_ylim(0, 550)\n",
    "# ax1.set_yscale(\"log\")\n",
    "# ax1.set_ylim(0,1)\n",
    "# ax1.set_ylim(0,450)\n",
    "fig.savefig(main_path+\"plots/spectrum.pdf\")"
   ]
  },
  {
   "cell_type": "code",
   "execution_count": 0,
   "metadata": {
    "colab": {},
    "colab_type": "code",
    "id": "IY-_CoJwYJ9X"
   },
   "outputs": [],
   "source": []
  }
 ],
 "metadata": {
  "accelerator": "GPU",
  "colab": {
   "name": "Plotter.ipynb",
   "provenance": [],
   "version": "0.3.2"
  },
  "kernelspec": {
   "display_name": "Python 3",
   "language": "python",
   "name": "python3"
  },
  "language_info": {
   "codemirror_mode": {
    "name": "ipython",
    "version": 3
   },
   "file_extension": ".py",
   "mimetype": "text/x-python",
   "name": "python",
   "nbconvert_exporter": "python",
   "pygments_lexer": "ipython3",
   "version": "3.7.3"
  }
 },
 "nbformat": 4,
 "nbformat_minor": 1
}
