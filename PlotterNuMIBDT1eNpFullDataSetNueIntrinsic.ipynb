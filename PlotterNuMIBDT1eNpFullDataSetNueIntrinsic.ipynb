{
 "cells": [
  {
   "cell_type": "code",
   "execution_count": 1,
   "metadata": {},
   "outputs": [],
   "source": [
    "%load_ext autoreload\n",
    "%autoreload 2"
   ]
  },
  {
   "cell_type": "code",
   "execution_count": 2,
   "metadata": {},
   "outputs": [
    {
     "name": "stdout",
     "output_type": "stream",
     "text": [
      "/Users/elenag/Desktop/PlotterLEE/\n"
     ]
    }
   ],
   "source": [
    "import sys\n",
    "import localSettings as ls\n",
    "import math\n",
    "print(ls.main_path)\n"
   ]
  },
  {
   "cell_type": "code",
   "execution_count": 3,
   "metadata": {
    "colab": {
     "base_uri": "https://localhost:8080/",
     "height": 34
    },
    "colab_type": "code",
    "executionInfo": {
     "elapsed": 517,
     "status": "ok",
     "timestamp": 1560556807118,
     "user": {
      "displayName": "Stefano Roberto Soleti",
      "photoUrl": "https://lh4.googleusercontent.com/-hfLpspJu4Q0/AAAAAAAAAAI/AAAAAAAABmA/2kE4rtj8paU/s64/photo.jpg",
      "userId": "10372352518008961760"
     },
     "user_tz": 240
    },
    "id": "6qsD0G-yYJ9K",
    "outputId": "5d52a3ec-50be-44fc-da44-3c0593e98bc6"
   },
   "outputs": [],
   "source": [
    "main_path = ls.main_path\n",
    "sys.path.append(main_path)"
   ]
  },
  {
   "cell_type": "code",
   "execution_count": 4,
   "metadata": {},
   "outputs": [],
   "source": [
    "import NuMIGeoWeights\n",
    "import importlib\n",
    "importlib.reload(NuMIGeoWeights)\n",
    "numiBeamlineGeoWeights = NuMIGeoWeights.NuMIGeoWeights() # the default option is FHC, RHC needs different arguments"
   ]
  },
  {
   "cell_type": "code",
   "execution_count": 5,
   "metadata": {},
   "outputs": [
    {
     "name": "stdout",
     "output_type": "stream",
     "text": [
      "date and time: 05042021\n"
     ]
    }
   ],
   "source": [
    "from datetime import datetime\n",
    "now = datetime.now()\n",
    "date_time = now.strftime(\"%m%d%Y\")\n",
    "print(\"date and time:\",date_time)"
   ]
  },
  {
   "cell_type": "code",
   "execution_count": 6,
   "metadata": {},
   "outputs": [],
   "source": [
    "SHRCALIBFACTOR = 1.00"
   ]
  },
  {
   "cell_type": "code",
   "execution_count": 7,
   "metadata": {},
   "outputs": [],
   "source": [
    "# USING BDT?\n",
    "USEBDT = True"
   ]
  },
  {
   "cell_type": "code",
   "execution_count": 8,
   "metadata": {},
   "outputs": [],
   "source": [
    "# Doing Run3?\n",
    "ISRUN3 = False"
   ]
  },
  {
   "cell_type": "code",
   "execution_count": 9,
   "metadata": {},
   "outputs": [],
   "source": [
    "# scale to MCC8 CV?\n",
    "MCC8WEIGHTS = False"
   ]
  },
  {
   "cell_type": "code",
   "execution_count": 10,
   "metadata": {
    "colab": {},
    "colab_type": "code",
    "id": "xGqTJ5JgaDsx"
   },
   "outputs": [],
   "source": [
    "import plotter\n",
    "import importlib\n",
    "importlib.reload(plotter)\n",
    "import uproot\n",
    "import matplotlib.pylab as pylab\n",
    "import numpy as np\n",
    "import math\n",
    "from sklearn.model_selection import train_test_split\n",
    "import pickle\n",
    "import xgboost as xgb\n",
    "import nue_booster \n",
    "importlib.reload(nue_booster)\n",
    "import awkward\n",
    "\n",
    "params = {\n",
    "    'axes.labelsize': 'x-large',\n",
    "    'axes.titlesize': 'x-large',\n",
    "    'xtick.labelsize': 'x-large',\n",
    "    'ytick.labelsize': 'x-large'\n",
    "}\n",
    "pylab.rcParams.update(params)"
   ]
  },
  {
   "cell_type": "code",
   "execution_count": 11,
   "metadata": {},
   "outputs": [],
   "source": [
    "from scipy.spatial.transform import Rotation as R\n",
    "from numpy import arccos, array\n",
    "from numpy.linalg import norm\n",
    "\n",
    "# Note: returns angle in radians\n",
    "def theta(v, w): return arccos(v.dot(w)/(norm(v)*norm(w)))* 180 / 3.1415926\n",
    "\n",
    "def GetNuMIAngle( px,  py,  pz):\n",
    "    r = R.from_matrix([[0.92103853804025681562   , 0.022713504803924120662, 0.38880857519374290021  ],\n",
    "                       [4.6254001262154668408e-05, 0.99829162468141474651 , -0.058427989452906302359],\n",
    "                       [-0.38947144863934973769  , 0.053832413938664107345, 0.91946400794392302291  ]])  \n",
    "    r = r.inv()\n",
    "    beamCoords = r.apply([px,  py,  pz])\n",
    "    beamDir    = [0,0,1]\n",
    "    #print(theta(beamCoords,beamDir))\n",
    "    return theta(beamCoords,beamDir)\n",
    "\n",
    "def GetNuMIAnglePol( phiBNB,  thetaBNB):\n",
    "    px = math.sin(thetaBNB)*math.cos(phiBNB)\n",
    "    py = math.sin(thetaBNB)*math.sin(phiBNB)\n",
    "    pz = math.cos(thetaBNB)\n",
    "    return GetNuMIAngle( px,  py,  pz)\n",
    "\n"
   ]
  },
  {
   "cell_type": "code",
   "execution_count": 12,
   "metadata": {},
   "outputs": [
    {
     "data": {
      "text/plain": [
       "1.8690124908136228"
      ]
     },
     "execution_count": 12,
     "metadata": {},
     "output_type": "execute_result"
    }
   ],
   "source": [
    "def vectorFromNuMITarget(vtxX,  vtxY, vtxZ):\n",
    "    numiTarget      = np.array([-31387.58422, -3316.402543, -60100.2414])\n",
    "    nuInteraction   = np.array([vtxX,  vtxY, vtxZ])\n",
    "    directionVector = nuInteraction - numiTarget\n",
    "    return directionVector\n",
    "\n",
    "def angleFromNuMITarget(vtxX,  vtxY, vtxZ, thetaBNB, phiBNB):\n",
    "    v1 = vectorFromNuMITarget(vtxX,  vtxY, vtxZ)  \n",
    "    norm = np.linalg.norm(v1)\n",
    "    v1 = v1/norm\n",
    "    v2 = [np.cos(phiBNB)*np.sin(thetaBNB),np.sin(phiBNB)*np.sin(thetaBNB), np.cos(thetaBNB) ]\n",
    "    dot_product = np.dot(v1, v2)\n",
    "    angle = np.arccos(dot_product)\n",
    "    return angle #dot_product # angle*180/3.14159265\n",
    "\n",
    "\n",
    "\n",
    "angleFromNuMITarget(1,1,1,1.4,3.)"
   ]
  },
  {
   "cell_type": "code",
   "execution_count": 13,
   "metadata": {},
   "outputs": [
    {
     "name": "stdout",
     "output_type": "stream",
     "text": [
      "Distance from NuMI target 678.8385658608386 cm\n"
     ]
    }
   ],
   "source": [
    "UBooNEinNuMI_Pos = np.array([5502, 7259, 67270])\n",
    "print(\"Distance from NuMI target\", (np.linalg.norm(UBooNEinNuMI_Pos))/100., \"cm\")"
   ]
  },
  {
   "cell_type": "code",
   "execution_count": 14,
   "metadata": {
    "colab": {},
    "colab_type": "code",
    "id": "iwoCIaigYJ9N"
   },
   "outputs": [
    {
     "name": "stdout",
     "output_type": "stream",
     "text": [
      "['trk_llr_pid_score_v', 'category', 'secondshower_Y_dot', 'shr_energy', 'shr_tkfit_nhits_U', 'tksh_angle', 'shrsubclusters1', 'secondshower_Y_vtxdist', 'shr_tkfit_gap10_nhits_V', 'shr_theta', 'secondshower_Y_nhit', 'shr_px', 'slnhits', 'CosmicDirAll3D', '_opfilter_pe_veto', 'trk_theta', 'shrPCALen', 'npi0', 'shr_energy_tot_cali', 'shr_tkfit_2cm_dedx_U', 'trk_sce_start_z_v', 'run', 'nslice', 'trk_energy_proton_v', 'reco_nu_vtx_sce_y', 'trk_energy_tot', 'shr_tkfit_npoints', 'shr_py', 'flash_time', 'shr_tkfit_dedx_V', 'trk_phi', 'trkshrhitdist2', 'shr_tkfit_2cm_nhits_U', 'nu_pdg', 'shr_tkfit_gap10_nhits_Y', 'true_e_visible', 'shr_tkfit_nhits_V', 'trk_sce_end_y_v', 'trk_calo_energy_y_v', 'CosmicIPAll3D', 'ccnc', 'trk_sce_start_y_v', 'n_showers_contained', 'pi0_e', 'reco_nu_vtx_sce_x', 'shr_tkfit_gap10_dedx_V', 'shr_tkfit_2cm_dedx_Y', 'selected', 'trk_phi_v', 'secondshower_Y_dir', 'trk_sce_start_x_v', 'shr_phi', 'trk_id', 'pfnunhits', 'shr_tkfit_npointsvalid', 'slnunhits', 'interaction', 'shr_tkfit_gap10_nhits_U', 'shrmoliereavg', 'topological_score', 'n_tracks_contained', 'shr_tkfit_gap10_dedx_Y', 'evt', 'shr_tkfit_2cm_dedx_V', 'sub', 'shr_pz', 'hits_ratio', 'shrsubclusters0', 'pfnhits', 'shr_tkfit_gap10_dedx_U', 'shr_score', 'tksh_distance', 'shr_tkfit_dedx_U', 'pt', 'trk_sce_end_x_v', 'shrsubclusters2', 'shr_tkfit_dedx_Y', 'shr_tkfit_nhits_Y', 'trk_sce_end_z_v', '_opfilter_pe_beam', 'shr_tkfit_2cm_nhits_Y', 'shr_tkfit_2cm_nhits_V', 'reco_nu_vtx_sce_z', 'shrclusdir2', 'trk_theta_v', 'trk_score_v']\n"
     ]
    }
   ],
   "source": [
    "tree = \"NeutrinoSelectionFilter\"\n",
    "\n",
    "# original\n",
    "#BNB  = 'neutrinoselection_filt_run1_beamon_beamgood_all' +ls.APPEND\n",
    "#EXT  = 'neutrinoselection_filt_run1_beamoff_all'         +ls.APPEND\n",
    "#NU   = 'newTune/prodgenie_numi_uboone_overlay_fhc_mcc9_run1_v28_all_snapshot'    +ls.APPEND #newTune\n",
    "#NUE  = 'newTune/prodgenie_numi_nue_overlay_mcc9_v08_00_00_48_CV_reco2_run1_reco2'+ls.APPEND #newTune\n",
    "#DRT  = 'neutrinoselection_filt_run1_dirt_overlay'        +ls.APPEND\n",
    "# old tune\n",
    "#NUO  = 'neutrinoselection_filt_run1_overlay'            +ls.APPEND\n",
    "#NUEO = 'neutrinoselection_filt_run1_overlay_intrinsic'  +ls.APPEND\n",
    "#mcO   = uproot.open(ls.ntuple_path+NUO +\".root\")[ls.fold][tree]\n",
    "#nueO  = uproot.open(ls.ntuple_path+NUEO+\".root\")[ls.fold][tree]\n",
    "\n",
    "\n",
    "#new\n",
    "BNB  = 'nuePreselection_NuMI/neutrinoselection_filt_run1_beamon_beamgood' +ls.APPEND\n",
    "EXT  = 'nuePreselection_NuMI/neutrinoselection_filt_run1_beamoff'         +ls.APPEND\n",
    "NU   = 'nuePreselection_NuMI/prodgenie_numi_uboone_overlay_fhc_mcc9_run1_v28_all_snapshot'    +ls.APPEND #newTune\n",
    "NUE  = 'fullDataSets/neutrinoselection_filt_run1_overlay_intrinsic'+ls.APPEND #newTune\n",
    "DRT  = 'nuePreselection_NuMI/neutrinoselection_filt_run1_dirt_overlay'        +ls.APPEND\n",
    "#new\n",
    "NUE  = 'parent/neutrinoselection_filt_run1_overlay_intrinsic'+ls.APPEND #newTune\n",
    "\n",
    "mc   = uproot.open(ls.ntuple_path+NU +\".root\")[ls.fold][tree]\n",
    "nue  = uproot.open(ls.ntuple_path+NUE+\".root\")[ls.fold][tree]\n",
    "data = uproot.open(ls.ntuple_path+BNB+\".root\")[ls.fold][tree]\n",
    "ext  = uproot.open(ls.ntuple_path+EXT+\".root\")[ls.fold][tree]\n",
    "dirt = uproot.open(ls.ntuple_path+DRT+\".root\")[ls.fold][tree]\n",
    "\n",
    "\n",
    "uproot_v = [mc,nue,ext,data,dirt] \n",
    "\n",
    "variables = [\"run\", \"sub\", \"evt\", \"nu_pdg\",\"shr_tkfit_nhits_Y\", \"shr_tkfit_nhits_U\", \"shr_tkfit_nhits_V\", \"shr_tkfit_dedx_Y\", \n",
    "             \"shr_tkfit_dedx_U\", \"shr_tkfit_dedx_V\", \n",
    "             \"shr_tkfit_2cm_nhits_Y\", \"shr_tkfit_2cm_nhits_U\", \"shr_tkfit_2cm_nhits_V\", \n",
    "             \"shr_tkfit_2cm_dedx_Y\", \"shr_tkfit_2cm_dedx_U\", \"shr_tkfit_2cm_dedx_V\",             \n",
    "             \"shr_energy_tot_cali\", \"trk_energy_tot\", \"shr_energy\", \"shr_theta\", \"trk_theta_v\", \"trk_phi_v\", \n",
    "             \"trk_score_v\", \"trk_llr_pid_score_v\", \"topological_score\",\"trk_energy_proton_v\", \"trk_calo_energy_y_v\", \"trk_id\", \n",
    "             \"n_tracks_contained\", \"shrsubclusters0\", \"shrsubclusters1\", \"shrsubclusters2\", \n",
    "             \"shr_tkfit_npointsvalid\", \"shr_tkfit_npoints\", \"secondshower_Y_dir\", \"shrclusdir2\", \"trk_theta\", \n",
    "             \"trk_sce_start_x_v\", \"trk_sce_start_y_v\", \"trk_sce_start_z_v\", \n",
    "             \"trk_sce_end_x_v\", \"trk_sce_end_y_v\", \"trk_sce_end_z_v\", \"trk_phi\", \"trk_theta\",\n",
    "             \"shrmoliereavg\", \"secondshower_Y_dot\", \"true_e_visible\",\"shrPCALen\",\n",
    "             \"pfnhits\", \"pfnunhits\", \"flash_time\", \"category\", \"shr_score\", \"tksh_distance\",\"interaction\", \"tksh_angle\",\n",
    "             \"trkshrhitdist2\", \"hits_ratio\", \"secondshower_Y_nhit\", \"secondshower_Y_vtxdist\", \"CosmicIPAll3D\", \n",
    "             \"CosmicDirAll3D\", \"nslice\", \"selected\", \"_opfilter_pe_beam\", \"_opfilter_pe_veto\", \"n_showers_contained\", \n",
    "             \"reco_nu_vtx_sce_x\", \"reco_nu_vtx_sce_y\", \"reco_nu_vtx_sce_z\", \n",
    "             \"pt\", \"shr_phi\", \"shr_tkfit_gap10_nhits_Y\",\"shr_tkfit_gap10_nhits_U\",\"shr_tkfit_gap10_nhits_V\",\n",
    "             \"shr_tkfit_gap10_dedx_Y\", \"shr_tkfit_gap10_dedx_U\", \"shr_tkfit_gap10_dedx_V\",\n",
    "             \"slnunhits\",\"slnhits\",\"pi0_e\",\"ccnc\",\"shr_pz\",\"shr_py\",\"shr_px\",\"npi0\"]\n",
    "\n",
    "varMC = [\"nu_e\",\"true_pt\",\"true_pt_visible\",\"true_p\",\"true_p_visible\",\"true_nu_vtx_t\",\"true_nu_vtx_x\",\"true_nu_vtx_y\",\"true_nu_vtx_z\",\"true_nu_vtx_sce_x\",\"true_nu_vtx_sce_y\",\"true_nu_vtx_sce_z\\\n",
    "\",\"true_nu_px\",\"true_nu_py\",\"true_nu_pz\",\"isVtxInFiducial\",\"elec_e\",\"elec_px\",\"elec_py\",\"elec_pz\",\"proton_e\"]\n",
    "\n",
    "nueOnly = [\"par_decay_vx\", \"par_decay_vy\", \"par_decay_vz\", \"par_decay_px\", \"par_decay_py\", \"par_decay_pz\",\"baseline\"]\n",
    "\n",
    "\n",
    "'''\n",
    "variables = [\n",
    "    \"shr_dedx_Y\", \"shr_bkt_pdg\", \"p\", \"pt\", \"selected\", \"nu_pdg\", \"shr_theta\",\n",
    "    \"slpdg\", \"trk_score_v\", \"backtracked_pdg\", # modified from shr_score_v\n",
    "    \"shr_pfp_id_v\", \"category\", \"flash_time\",\n",
    "    \"shr_tkfit_dedx_U\",\"shr_tkfit_dedx_V\",\"shr_tkfit_dedx_Y\",\n",
    "    \"shr_tkfit_gap10_dedx_U\",\"shr_tkfit_gap10_dedx_V\",\"shr_tkfit_gap10_dedx_Y\",\n",
    "    \"shr_tkfit_2cm_dedx_U\",\"shr_tkfit_2cm_dedx_V\",\"shr_tkfit_2cm_dedx_Y\",\n",
    "    \"topological_score\",\n",
    "    #\"shr_energy_tot\", \n",
    "    \"trk_energy_tot\", \"shr_hits_tot\", \"ccnc\", \"trk_chipr\",\n",
    "    \"trk_bkt_pdg\", \"hits_ratio\", \"n_tracks_contained\", \n",
    "    \"crtveto\",\"crthitpe\",\"_closestNuCosmicDist\",\n",
    "    \"NeutrinoEnergy2\",\n",
    "    #\"run\",\"sub\",\"evt\",\n",
    "    \"CosmicIP\",\"CosmicDirAll3D\",\"CosmicIPAll3D\",\n",
    "    \"nu_flashmatch_score\",\"best_cosmic_flashmatch_score\",\"best_obviouscosmic_flashmatch_score\",\n",
    "    #\"trk_pfp_id\",\n",
    "    \"shrmoliereavg\",\"shrmoliererms\",\n",
    "    \"shr_tkfit_npointsvalid\",\"shr_tkfit_npoints\", # fitted vs. all hits for shower\n",
    "    \"shrclusfrac0\",\"shrclusfrac1\",\"shrclusfrac2\", # track-fitted hits / all hits\n",
    "    \"trkshrhitdist2\", # \"trkshrhitdist0\",\"trkshrhitdist1\", distance between track and shower in 2D\n",
    "    \"shrsubclusters0\",\"shrsubclusters1\",\"shrsubclusters2\", # number of sub-clusters in shower\n",
    "    \"trk_llr_pid_score_v\", # trk-PID score\n",
    "    \"trk_energy_proton_v\", # track energy under proton hyp\n",
    "    \"trk_calo_energy_y_v\", # track calo energy\n",
    "    #\"pi0_energy2_Y\", # pi0 tagger variables\n",
    "    \"_opfilter_pe_beam\", \"_opfilter_pe_veto\", # did the event pass the common optical filter (for MC only)\n",
    "    \"reco_nu_vtx_sce_x\",\"reco_nu_vtx_sce_y\",\"reco_nu_vtx_sce_z\",\n",
    "    \"nproton\", \"nu_e\", \"n_showers_contained\", \"shr_distance\", \"trk_distance\",\n",
    "    \"hits_y\", \"shr_pz\", \"shr_energy\", \"shr_dedx_U\", \"shr_dedx_V\", \"shr_phi\", \"trk_phi\", \"trk_theta\",\n",
    "    \"shr_tkfit_dedx_U\", \"shr_tkfit_dedx_V\", \n",
    "    \"run\", \"sub\", \"evt\", \n",
    "    \"nproton\", \"trk_pid_chipr_v\",\n",
    "    \"trk_len\", \"mc_pdg\", \"slnunhits\", \"slnhits\", \"shr_score\", \"trk_score\", \"trk_hits_tot\",\n",
    "    \"true_e_visible\", \"matched_E\", \"shr_bkt_E\", \"trk_bkt_E\", \"trk_energy\", \"tksh_distance\", \"tksh_angle\",\n",
    "    \"npi0\",\"npion\",\"pion_e\",\"muon_e\",\"pi0truth_elec_etot\",\n",
    "    \"pi0_e\", \"shr_energy_tot_cali\", \"shr_dedx_Y_cali\", \"evnunhits\", \"nslice\", \"interaction\",\n",
    "    \"slclustfrac\", \"reco_nu_vtx_x\", \"reco_nu_vtx_y\", \"reco_nu_vtx_z\",\"contained_fraction\",\n",
    "    \"secondshower_Y_nhit\",\"secondshower_Y_vtxdist\",\"secondshower_Y_dot\",\"secondshower_Y_dir\",\"shrclusdir2\",\n",
    "    \"shr_tkfit_nhits_Y\",\"shr_tkfit_nhits_U\",\"shr_tkfit_nhits_V\",\n",
    "    \"shr_tkfit_2cm_nhits_Y\",\"shr_tkfit_2cm_nhits_U\",\"shr_tkfit_2cm_nhits_V\",\n",
    "    \"shr_tkfit_gap10_nhits_Y\",\"shr_tkfit_gap10_nhits_U\",\"shr_tkfit_gap10_nhits_V\",\n",
    "    \"pfnhits\",\"pfnunhits\",\n",
    "    \"trk_sce_start_x_v\",\"trk_sce_start_y_v\",\"trk_sce_start_z_v\",\n",
    "    \"trk_sce_end_x_v\",\"trk_sce_end_y_v\",\"trk_sce_end_z_v\",\"shr_id\", \n",
    "    \"pi0_radlen1\",\"pi0_radlen2\",\"pi0_dot1\",\"pi0_dot2\",\"pi0_energy1_Y\",\"pi0_energy2_Y\",\n",
    "    \"pi0_dedx1_fit_Y\",\"pi0_dedx2_fit_Y\",\"pi0_shrscore1\",\"pi0_shrscore2\",\"pi0_gammadot\",\n",
    "    \"pi0_dedx1_fit_V\",\"pi0_dedx2_fit_V\",\"pi0_dedx1_fit_U\",\"pi0_dedx2_fit_U\",\n",
    "    \"pi0_mass_Y\",\"pi0_mass_V\",\"pi0_mass_U\",\n",
    "    \"pi0_dir2_x\",\"pi0_dir2_y\",\"pi0_dir2_z\",\"pi0_dir1_x\",\"pi0_dir1_y\",\"pi0_dir1_z\",\n",
    "    \"pi0truth_gamma1_etot\",\"pi0truth_gamma2_etot\",\"pi0truth_gammadot\",\"pi0truth_gamma_parent\",\n",
    "    \"trk_theta_v\",\"trk_phi_v\"\n",
    "]\n",
    "'''\n",
    "\n",
    "#make the list unique\n",
    "variables = list(set(variables))\n",
    "print(variables)\n",
    "\n",
    "\n",
    "    \n",
    "WEIGHTS     = [\"weightSpline\",\"weightTune\",\"weightSplineTimesTune\",\"ppfx_cv\"]\n",
    "SYSTEMATICS = ['weightsFlux','weightsGenie','weightsReint'] \n",
    "PPFX        = ['weightsPPFX'] \n",
    "\n",
    "\n",
    "\n",
    "WEIGHTSLEE = [\"weightSpline\",\"weightTune\",\"weightSplineTimesTune\", \"leeweight\"]#, \"weightsGenie\", \"weightsFlux\", \"weightsReint\"]\n",
    "MCFVARS    = [\"mcf_nu_e\",\"mcf_lep_e\",\"mcf_actvol\",\"mcf_nmm\",\"mcf_nmp\",\"mcf_nem\",\"mcf_nep\",\"mcf_np0\",\"mcf_npp\",\n",
    "              \"mcf_npm\",\"mcf_mcshr_elec_etot\",\"mcf_pass_ccpi0\",\"mcf_pass_ncpi0\",\n",
    "              \"mcf_pass_ccnopi\",\"mcf_pass_ncnopi\",\"mcf_pass_cccpi\",\"mcf_pass_nccpi\",\"nu_decay_mode\"]\n",
    "\n",
    "\n",
    "    \n",
    "dirt = dirt.pandas.df(variables+varMC + WEIGHTS + SYSTEMATICS, flatten=False)\n",
    "nue  = nue.pandas.df(variables + WEIGHTS + MCFVARS + SYSTEMATICS + PPFX+varMC + nueOnly, flatten=False)\n",
    "mc   = mc.pandas.df(variables + WEIGHTS + MCFVARS + SYSTEMATICS + PPFX+varMC, flatten=False)\n",
    "data = data.pandas.df(variables, flatten=False)\n",
    "ext  = ext.pandas.df(variables, flatten=False)\n",
    "\n"
   ]
  },
  {
   "cell_type": "code",
   "execution_count": 15,
   "metadata": {},
   "outputs": [
    {
     "name": "stdout",
     "output_type": "stream",
     "text": [
      "6698 4952\n"
     ]
    }
   ],
   "source": [
    "print(max(data['run']), min(data['run']))"
   ]
  },
  {
   "cell_type": "code",
   "execution_count": 16,
   "metadata": {},
   "outputs": [],
   "source": [
    "df_v = [mc,nue,dirt]\n",
    "#removeGenieTune = False\n",
    "for i,df in enumerate(df_v):\n",
    "    df[ 'currentweightsafe' ] = df['weightSplineTimesTune']\n",
    "    df[ 'currentweight' ] = df['weightSplineTimesTune']"
   ]
  },
  {
   "cell_type": "code",
   "execution_count": 17,
   "metadata": {},
   "outputs": [],
   "source": [
    "df_v = [mc,nue,dirt]\n",
    "#removeGenieTune = False\n",
    "for i,df in enumerate(df_v):\n",
    "    df.loc[ df['weightTune'] <= 0, 'weightTune' ] = 1.\n",
    "    df.loc[ df['weightTune'] == np.inf, 'weightTune' ] = 1.\n",
    "    df.loc[ df['weightTune'] > 100, 'weightTune' ] = 1.\n",
    "    df.loc[ np.isnan(df['weightTune']) == True, 'weightTune' ] = 1.    \n",
    "    \n",
    "    df.loc[ df['weightSplineTimesTune'] <= 0, 'weightSplineTimesTune' ] = 1.\n",
    "    df.loc[ df['weightSplineTimesTune'] == np.inf, 'weightSplineTimesTune' ] = 1.\n",
    "    df.loc[ df['weightSplineTimesTune'] > 100, 'weightSplineTimesTune' ] = 1.\n",
    "    df.loc[ np.isnan(df['weightSplineTimesTune']) == True, 'weightSplineTimesTune' ] = 1. \n",
    "    df[ 'weightSplineTimesTuneTimesPPFX' ] = df[ 'weightSplineTimesTune' ]*df['ppfx_cv']\n",
    "    \n",
    "    df.loc[ df['weightSpline'] <= 0, 'weightSpline' ] = 1.\n",
    "    df.loc[ df['weightSpline'] == np.inf, 'weightSpline' ] = 1.\n",
    "    df.loc[ df['weightSpline'] > 100, 'weightSpline' ] = 1.\n",
    "    df.loc[ np.isnan(df['weightSpline']) == True, 'weightSpline' ] = 1. \n",
    "    df[ 'weightSplineTimesPPFX' ]  = df[ 'weightSpline' ]*df['ppfx_cv']\n",
    "    \n",
    "    # Cray cray weight fix\n",
    "    for ievt in range(df.shape[0]):\n",
    "        reweightCondition = ((df['weightsGenie'].iloc[ievt] > 3000) | (df['weightsGenie'].iloc[ievt] < 0)  | \n",
    "                             (df['weightsGenie'].iloc[ievt] == np.inf))\n",
    "        df['weightsGenie'].iloc[ievt][ reweightCondition ] = 1.\n",
    "\n"
   ]
  },
  {
   "cell_type": "code",
   "execution_count": 18,
   "metadata": {},
   "outputs": [],
   "source": [
    "df_v = [mc,nue,dirt]\n",
    "#removeGenieTune = False\n",
    "for i,df in enumerate(df_v):\n",
    "    df[ 'currentweight' ] = df['weightSplineTimesTuneTimesPPFX']\n",
    "    df[ 'currentweightsafe' ] = df['weightSplineTimesTuneTimesPPFX']\n",
    "    df[ 'currentweightsafe2' ] = df['weightSplineTimesTuneTimesPPFX']\n",
    "    df[ 'currentweight2' ] = df['weightSplineTimesTuneTimesPPFX']\n"
   ]
  },
  {
   "cell_type": "code",
   "execution_count": 19,
   "metadata": {},
   "outputs": [],
   "source": [
    "\n",
    "df_v = [mc,nue]\n",
    "scaleFlat = 1\n",
    "#removeGenieTune = False\n",
    "for i,df in enumerate(df_v):\n",
    "    if scaleFlat == 1:\n",
    "        df['weightSplineTimesTuneTimesPPFX'] = df[ 'currentweight' ] \n",
    "        df.loc[ df['npi0'] > 0, 'weightSplineTimesTuneTimesPPFX' ] =  (df['weightSplineTimesTuneTimesPPFX'] * 0.759)\n",
    "    elif scaleFlat == 2:\n",
    "        df['weightSplineTimesTune'] = df[ 'currentweight' ] \n",
    "        pi0emax = 0.6\n",
    "        df.loc[ (df['pi0_e'] > 0.1) & (df['pi0_e'] < pi0emax) , 'weightSplineTimesTuneTimesPPFX'] = df['weightSplineTimesTuneTimesPPFX']*(1.-0.4*df['pi0_e'])\n",
    "        df.loc[ (df['pi0_e'] > 0.1) & (df['pi0_e'] >= pi0emax), 'weightSplineTimesTuneTimesPPFX'] = df['weightSplineTimesTuneTimesPPFX']*(1.-0.4*pi0emax)\n",
    "    elif scaleFlat == 0:\n",
    "        df['weightSplineTimesTuneTimesPPFX'] = df[ 'currentweight' ] \n",
    "        \n"
   ]
  },
  {
   "cell_type": "code",
   "execution_count": 20,
   "metadata": {},
   "outputs": [
    {
     "name": "stdout",
     "output_type": "stream",
     "text": [
      "(7502, 86)\n",
      "(6087, 86)\n",
      "(127339, 146)\n",
      "(46815, 139)\n",
      "(46815,) 46815\n",
      "(127339,) 127339\n",
      "(6087,) 6087\n",
      "(7502,) 7502\n",
      "(4634,) 4634\n"
     ]
    },
    {
     "name": "stderr",
     "output_type": "stream",
     "text": [
      "/Users/elenag/miniconda3/envs/peleeNB/lib/python3.7/site-packages/ipykernel_launcher.py:6: RuntimeWarning: invalid value encountered in double_scalars\n",
      "  \n"
     ]
    },
    {
     "name": "stdout",
     "output_type": "stream",
     "text": [
      "-134.9059419631958\n"
     ]
    }
   ],
   "source": [
    "\n",
    "# how to get the LLR-PID value for the \"track candidate\" (proton for nue selection, muon for numu)\n",
    "# can be done for any variable\n",
    "# code from Giuseppe!\n",
    "import time\n",
    "s = time.time()\n",
    "df_v = [mc,nue,ext,data,dirt]\n",
    "print(data.shape)\n",
    "print(ext.shape)\n",
    "print(nue.shape)\n",
    "print(mc.shape)\n",
    "puppa1 = 'trk_score_v'\n",
    "#print ('trk_llr_pid_score_v' in nue.columns.to_list())\n",
    "\n",
    "\n",
    "for i,df in enumerate(df_v):\n",
    "    up = uproot_v[i]\n",
    "    trk_theta_proton_v  = up.array('trk_theta_v')\n",
    "    trk_phi_proton_v    = up.array('trk_phi_v')\n",
    "    trk_score_v         = up.array('trk_score_v')    \n",
    "    trk_llr_pid_v       = up.array('trk_llr_pid_score_v')\n",
    "    trk_energy_proton_v = up.array('trk_energy_proton_v')\n",
    "    trk_calo_energy_y_v = up.array('trk_calo_energy_y_v')\n",
    "    trk_id              = up.array('trk_id')-1 # I think we need this -1 to get the right result\n",
    "    c                   = up.array('n_tracks_contained')\n",
    "    trk_theta_proton_v  = up.array('trk_theta_v')\n",
    "    trk_phi_proton_v    = up.array('trk_phi_v')\n",
    "\n",
    "    trk_theta_proton_sel  = awkward.fromiter([pidv[tid] if tid<len(pidv) else 9999. for pidv,tid in zip(trk_theta_proton_v,trk_id)])\n",
    "    trk_phi_proton_sel    = awkward.fromiter([pidv[tid] if tid<len(pidv) else 9999. for pidv,tid in zip(trk_phi_proton_v,trk_id)])\n",
    "    df['protontheta']  = trk_theta_proton_sel\n",
    "    df['protonphi']    = trk_phi_proton_sel\n",
    "    \n",
    "    #df['n_protons_tot'] = proton_mask.sum()\n",
    "\n",
    "    print(trk_score_v.shape, len(trk_llr_pid_v))\n",
    "#    print(len(c), len(trk_id), len(trk_llr_pid_v))\n",
    "#    for pidv,puppa,tid,cid in zip(trk_llr_pid_v,trk_score_puppa_v,trk_id,c):\n",
    "#        if len(pidv) > 0:\n",
    "#            print(len(pidv),len(puppa), pidv,puppa,tid,cid )\n",
    "#    nnnnnnnPupppppppaaa = 0\n",
    "#    print(type(trk_llr_pid_v), trk_llr_pid_v.shape)\n",
    "    puppa_obj = []\n",
    "    puppa_trk = []\n",
    "    puppa_shw = []\n",
    "    puppa_prt = [] \n",
    "    puppa_mu  = []\n",
    "    \n",
    "    for pidv, p in zip(trk_llr_pid_v,trk_score_v):\n",
    "        N_obj         = 0\n",
    "        N_recoTrks    = 0\n",
    "        N_recoShowers = 0\n",
    "        N_recoProtons = 0\n",
    "        N_recoMuons   = 0\n",
    "        if len(pidv) > 0:\n",
    "            passPIDCut = (pidv <= 0)\n",
    "            passTrkCut = (p    >= 0)\n",
    "            protonCut  = (passPIDCut & passTrkCut) \n",
    "            muonCut    = (np.logical_not(passPIDCut) & passTrkCut) \n",
    "            N_obj         = len(passTrkCut)\n",
    "            N_recoTrks    = np.count_nonzero(passTrkCut)\n",
    "            N_recoShowers = np.count_nonzero(np.logical_not(passTrkCut))\n",
    "            N_recoProtons = np.count_nonzero(protonCut)\n",
    "            N_recoMuons   = np.count_nonzero(muonCut)\n",
    "        puppa_obj.append(N_obj)\n",
    "        puppa_trk.append(N_recoTrks)\n",
    "        puppa_shw.append(N_recoShowers)    \n",
    "        puppa_prt.append(N_recoProtons)\n",
    "        puppa_mu .append(N_recoMuons)\n",
    "\n",
    "    df['N_obj']           = puppa_obj\n",
    "    df['N_recoTrks']      = puppa_trk\n",
    "    df['N_recoShowers']   = puppa_shw\n",
    "    df['N_recoProtons']   = puppa_prt\n",
    "    df['N_recoMuons']     = puppa_mu\n",
    "    \n",
    "    trk_llr_pid_v_sel     = awkward.fromiter([pidv[tid] if tid<len(pidv) else 9999. for pidv,tid in zip(trk_llr_pid_v,trk_id)])\n",
    "    trk_energy_proton_sel = awkward.fromiter([pidv[tid] if tid<len(pidv) else 9999. for pidv,tid in zip(trk_energy_proton_v,trk_id)])\n",
    "    trk_calo_energy_y_sel = awkward.fromiter([pidv[tid] if tid<len(pidv) else 9999. for pidv,tid in zip(trk_calo_energy_y_v,trk_id)])\n",
    "    trk_theta_proton_sel  = awkward.fromiter([pidv[tid] if tid<len(pidv) else 9999. for pidv,tid in zip(trk_theta_proton_v,trk_id)])\n",
    "    trk_phi_proton_sel    = awkward.fromiter([pidv[tid] if tid<len(pidv) else 9999. for pidv,tid in zip(trk_phi_proton_v,trk_id)])\n",
    "\n",
    "    #df['n_proton_cand']   = puppa_proton\n",
    "    df['trkpid']          = trk_llr_pid_v_sel\n",
    "    df['protonenergy']    = trk_energy_proton_sel\n",
    "    df['trackcaloenergy'] = trk_calo_energy_y_sel\n",
    "    df['subcluster']      = df['shrsubclusters0'] + df['shrsubclusters1'] + df['shrsubclusters2']\n",
    "    df['trkfit']          = df['shr_tkfit_npointsvalid'] / df['shr_tkfit_npoints']\n",
    "    df['anglediff_Y']     = np.abs(df['secondshower_Y_dir']-df['shrclusdir2'])\n",
    "    df['trkthetacos']     = np.cos(df['trk_theta'])\n",
    "\n",
    "    df['protontheta']  = trk_theta_proton_sel\n",
    "    df['protonphi']    = trk_phi_proton_sel\n",
    "\n",
    "\n",
    "    #print(  df['N_recoShowers'])\n",
    "\n",
    "for i,df in enumerate(df_v):\n",
    "    df['shr_numi_Angle']        = df.apply( lambda x: GetNuMIAngle(x['shr_px'],x['shr_py'],x['shr_pz']) , axis=1)\n",
    "    df['proton_numi_Angle']     = df.apply( lambda x: GetNuMIAnglePol(x['protonphi'],x['protontheta']) , axis=1)\n",
    "    df['shr_Angle_Numi_target'] = df.apply( lambda x: angleFromNuMITarget(x['reco_nu_vtx_sce_x'],x['reco_nu_vtx_sce_y'],x['reco_nu_vtx_sce_z'], x['shr_theta'],x['shr_phi']) , axis=1)\n",
    "    df['proton_Angle_Numi_target'] = df.apply( lambda x: angleFromNuMITarget(x['reco_nu_vtx_sce_x'],x['reco_nu_vtx_sce_y'],x['reco_nu_vtx_sce_z'], x['protontheta'],x['protonphi']) , axis=1)\n",
    "    df['theta1PlusTheta2_Numi_target'] = df['shr_Angle_Numi_target'] + df['proton_Angle_Numi_target']\n",
    "    df['cosShr_Angle_Numi_target'] = np.cos(df['shr_Angle_Numi_target'])\n",
    "    df['cosProton_Angle_Numi_target'] = np.cos(df['proton_Angle_Numi_target'])\n",
    "\n",
    "s2 = time.time()\n",
    "print (s-s2)"
   ]
  },
  {
   "cell_type": "code",
   "execution_count": 21,
   "metadata": {},
   "outputs": [
    {
     "name": "stdout",
     "output_type": "stream",
     "text": [
      "46815 (46815, 160)\n",
      "127339 (127339, 167)\n",
      "6087 (6087, 107)\n",
      "7502 (7502, 107)\n"
     ]
    },
    {
     "name": "stderr",
     "output_type": "stream",
     "text": [
      "/Users/elenag/miniconda3/envs/peleeNB/lib/python3.7/site-packages/ipykernel_launcher.py:8: RuntimeWarning: overflow encountered in multiply\n",
      "  \n"
     ]
    },
    {
     "name": "stdout",
     "output_type": "stream",
     "text": [
      "4634 (4634, 141)\n"
     ]
    }
   ],
   "source": [
    "def energyToPxyz(energy, theta, phi, mask, mass = 0.93827208816):\n",
    "    if all(~mask):\n",
    "        return (0.,0.,0.)\n",
    "    energy = energy.copy()[mask]\n",
    "    theta  = theta.copy()[mask]\n",
    "    phi    = phi.copy()[mask]\n",
    "    \n",
    "    p  = np.sqrt((energy+mass)*(energy+mass) - mass*mass)\n",
    "    pz = p*np.cos(theta)\n",
    "    px = p*np.sin(theta)*np.cos(phi)\n",
    "    py = p*np.sin(theta)*np.sin(phi)\n",
    "    #print(\"p\",p)\n",
    "    #print(px)\n",
    "    #print(py)\n",
    "    #print(pz)\n",
    "    return( px.sum(), py.sum(), pz.sum())\n",
    "\n",
    "\n",
    "\n",
    "for i,df in enumerate(df_v):\n",
    "    up = uproot_v[i]\n",
    "    trk_theta_proton_v  = up.array('trk_theta_v')\n",
    "    trk_phi_proton_v    = up.array('trk_phi_v')\n",
    "    trk_energy_proton_v = up.array('trk_energy_proton_v')\n",
    "    shr_px_v            = up.array('shr_px')\n",
    "    shr_py_v            = up.array('shr_py')\n",
    "    shr_pz_v            = up.array('shr_pz')\n",
    "    pt_v                = up.array('pt')\n",
    "    trk_score_v         = up.array('trk_score_v')    \n",
    "    trk_llr_pid_v       = up.array('trk_llr_pid_score_v')\n",
    "    \n",
    "    \n",
    "    #shr_mask = (trk_score_v<0.5)\n",
    "    trk_mask      = (trk_score_v>0.5)\n",
    "    proton_mask_v = (trk_score_v>0.5)&(trk_llr_pid_v < 0.)\n",
    "    #print(proton_mask_v)\n",
    "    sillyCount = 0\n",
    "    listPx,listPy,listPz = [],[],[]\n",
    "    \n",
    "    for mask, theta_t, phi_t, energy_t,proton_mask_v_t,sx,sy,sz,pttt  in zip(proton_mask_v, trk_theta_proton_v,trk_phi_proton_v, trk_energy_proton_v,proton_mask_v, shr_px_v,shr_py_v,shr_pz_v,pt_v):\n",
    "        tempMom = energyToPxyz(energy_t,theta_t,phi_t,proton_mask_v_t) \n",
    "        nu_reco_px = tempMom[0] + sx \n",
    "        nu_reco_py = tempMom[1] + sy  \n",
    "        nu_reco_pz = tempMom[2] + sz  \n",
    "        listPx.append(nu_reco_px)\n",
    "        listPy.append(nu_reco_py)\n",
    "        listPz.append(nu_reco_pz)\n",
    "        '''\n",
    "        print(\"tempMom\",tempMom)\n",
    "        sillyCount +=1\n",
    "        if sillyCount > 10:\n",
    "            break\n",
    "        '''\n",
    "    print(len(listPx), df.shape)\n",
    "    df['shr_p']       = np.sqrt(df['shr_px']*df['shr_px'] + df['shr_py']*df['shr_py'] + df['shr_pz']*df['shr_pz'])\n",
    "    df['dir_shr_px']  = df['shr_px']/df['shr_p']\n",
    "    df['dir_shr_py']  = df['shr_py']/df['shr_p']\n",
    "    df['dir_shr_pz']  = df['shr_pz']/df['shr_p']\n",
    "    \n",
    "    df['nu_reco_px']  = listPx\n",
    "    df['nu_reco_py']  = listPy\n",
    "    df['nu_reco_pz']  = listPz\n",
    "    df['BNBP']     = np.sqrt(df['nu_reco_px']*df['nu_reco_px'] + df['nu_reco_py']*df['nu_reco_py'] + df['nu_reco_pz']*df['nu_reco_pz'])\n",
    "    df['BNBPt']    = np.sqrt(df['nu_reco_px']*df['nu_reco_px'] + df['nu_reco_py']*df['nu_reco_py'])\n",
    "    df['BNBTheta'] = np.arccos(df['nu_reco_pz']/df['BNBP'] )\n",
    "    df['BNBPhi']   = np.arctan2(df['nu_reco_py'],df['nu_reco_px'])\n",
    "    df['nu_Angle_Numi_Theta'] = df.apply( lambda x: angleFromNuMITarget(x['reco_nu_vtx_sce_x'],x['reco_nu_vtx_sce_y'],x['reco_nu_vtx_sce_z'], x['BNBTheta'],x['BNBPhi']) , axis=1)\n",
    "    df['cosNu_Angle_Numi_Theta'] = np.cos(df['nu_Angle_Numi_Theta'])\n",
    "    df['NuMIPt'] = df['BNBP'] * (np.sin(df['nu_Angle_Numi_Theta']))\n",
    "    df['checkPt']  = df['BNBPt'] - df['pt']\n",
    "\n"
   ]
  },
  {
   "cell_type": "code",
   "execution_count": 22,
   "metadata": {},
   "outputs": [],
   "source": [
    "for i,df in enumerate(df_v):\n",
    "    up = uproot_v[i]\n",
    "    #trk_score_v = up.array('trk_score_v')\n",
    "    trk_sce_start_x_v = up.array('trk_sce_start_x_v')\n",
    "    trk_sce_start_y_v = up.array('trk_sce_start_y_v')\n",
    "    trk_sce_start_z_v = up.array('trk_sce_start_z_v')\n",
    "    trk_sce_end_x_v = up.array('trk_sce_end_x_v')\n",
    "    trk_sce_end_y_v = up.array('trk_sce_end_y_v')\n",
    "    trk_sce_end_z_v = up.array('trk_sce_end_z_v')\n",
    "    shr_id = up.array('shr_id')-1 # I think we need this -1 to get the right result\n",
    "    #trk_score_v_sel = awkward.fromiter([pidv[tid] if tid<len(pidv) else -9999. for pidv,tid in zip(trk_score_v,shr_id)])\n",
    "    trk_sce_start_x_v_sel = awkward.fromiter([pidv[tid] if tid<len(pidv) else -9999. for pidv,tid in zip(trk_sce_start_x_v,shr_id)])\n",
    "    trk_sce_start_y_v_sel = awkward.fromiter([pidv[tid] if tid<len(pidv) else -9999. for pidv,tid in zip(trk_sce_start_y_v,shr_id)])\n",
    "    trk_sce_start_z_v_sel = awkward.fromiter([pidv[tid] if tid<len(pidv) else -9999. for pidv,tid in zip(trk_sce_start_z_v,shr_id)])\n",
    "    trk_sce_end_x_v_sel = awkward.fromiter([pidv[tid] if tid<len(pidv) else -9999. for pidv,tid in zip(trk_sce_end_x_v,shr_id)])\n",
    "    trk_sce_end_y_v_sel = awkward.fromiter([pidv[tid] if tid<len(pidv) else -9999. for pidv,tid in zip(trk_sce_end_y_v,shr_id)])\n",
    "    trk_sce_end_z_v_sel = awkward.fromiter([pidv[tid] if tid<len(pidv) else -9999. for pidv,tid in zip(trk_sce_end_z_v,shr_id)])\n",
    "    #df['shr_score_check'] = trk_score_v_sel\n",
    "    df['shr_trk_sce_start_x'] = trk_sce_start_x_v_sel\n",
    "    df['shr_trk_sce_start_y'] = trk_sce_start_y_v_sel\n",
    "    df['shr_trk_sce_start_z'] = trk_sce_start_z_v_sel\n",
    "    df['shr_trk_sce_end_x'] = trk_sce_end_x_v_sel\n",
    "    df['shr_trk_sce_end_y'] = trk_sce_end_y_v_sel\n",
    "    df['shr_trk_sce_end_z'] = trk_sce_end_z_v_sel   "
   ]
  },
  {
   "cell_type": "code",
   "execution_count": 23,
   "metadata": {},
   "outputs": [],
   "source": [
    "for i,df in enumerate(df_v):\n",
    "    df.loc[df['shrmoliereavg'].isna(),'secondshower_Y_dot'] = 9999.\n",
    "    #\n",
    "    # secondshower_U/V/Y_dot need to be set to 9999. to match data ntuples produced with v08_00_00_43 or later;\n",
    "    # the patch below is valid only to match data ntuples produced with v08_00_00_42.\n",
    "    #\n",
    "    #df.loc[df['secondshower_U_dot'].isna(),'secondshower_U_dot'] = 0.0 #for 0p please uncomment\n",
    "    #df.loc[df['secondshower_V_dot'].isna(),'secondshower_V_dot'] = 0.0 #for 0p please uncomment\n",
    "    df.loc[df['secondshower_Y_dot'].isna(),'secondshower_Y_dot'] = 0.0 "
   ]
  },
  {
   "cell_type": "code",
   "execution_count": 24,
   "metadata": {},
   "outputs": [],
   "source": [
    "#\n",
    "for i,df in enumerate(df_v):\n",
    "    up = uproot_v[i]\n",
    "    df[\"slclnhits\"] = up.array(\"pfnhits\").sum()\n",
    "    df[\"slclnunhits\"] = up.array(\"pfnunhits\").sum()\n",
    "#"
   ]
  },
  {
   "cell_type": "code",
   "execution_count": 25,
   "metadata": {},
   "outputs": [],
   "source": [
    "df_v = [mc,nue,ext,data,dirt]\n",
    "for i,df in enumerate(df_v):\n",
    "    df['shr_tkfit_nhits_tot'] = (df['shr_tkfit_nhits_Y']+df['shr_tkfit_nhits_U']+df['shr_tkfit_nhits_V'])\n",
    "    df['shr_tkfit_nhi'] = (df['shr_tkfit_nhits_Y']*df['shr_tkfit_dedx_Y'] + df['shr_tkfit_nhits_U']*df['shr_tkfit_dedx_U'] + df['shr_tkfit_nhits_V']*df['shr_tkfit_dedx_V'])/df['shr_tkfit_nhits_tot']\n",
    "    df['shr_tkfit_2cm_nhits_tot'] = (df['shr_tkfit_2cm_nhits_Y']+df['shr_tkfit_2cm_nhits_U']+df['shr_tkfit_2cm_nhits_V'])\n",
    "    df['shr_tkfit_2cm_dedx_avg'] = (df['shr_tkfit_2cm_nhits_Y']*df['shr_tkfit_2cm_dedx_Y'] + df['shr_tkfit_2cm_nhits_U']*df['shr_tkfit_2cm_dedx_U'] + df['shr_tkfit_2cm_nhits_V']*df['shr_tkfit_2cm_dedx_V'])/df['shr_tkfit_2cm_nhits_tot']\n",
    "    df['shr_tkfit_gap10_nhits_tot'] = (df['shr_tkfit_gap10_nhits_Y']+df['shr_tkfit_gap10_nhits_U']+df['shr_tkfit_gap10_nhits_V'])\n",
    "    df['shr_tkfit_gap10_dedx_avg'] = (df['shr_tkfit_gap10_nhits_Y']*df['shr_tkfit_gap10_dedx_Y'] + df['shr_tkfit_gap10_nhits_U']*df['shr_tkfit_gap10_dedx_U'] + df['shr_tkfit_gap10_nhits_V']*df['shr_tkfit_gap10_dedx_V'])/df['shr_tkfit_gap10_nhits_tot']\n",
    "    df.loc[:,'shr_tkfit_dedx_max'] = df['shr_tkfit_dedx_Y']\n",
    "    df.loc[(df['shr_tkfit_nhits_U']>df['shr_tkfit_nhits_Y']),'shr_tkfit_dedx_max'] = df['shr_tkfit_dedx_U']\n",
    "    df.loc[(df['shr_tkfit_nhits_V']>df['shr_tkfit_nhits_Y']) & (df['shr_tkfit_nhits_V']>df['shr_tkfit_nhits_U']),'shr_tkfit_dedx_max'] = df['shr_tkfit_dedx_V']"
   ]
  },
  {
   "cell_type": "code",
   "execution_count": 26,
   "metadata": {
    "scrolled": false
   },
   "outputs": [],
   "source": [
    "INTERCEPT = 0.0\n",
    "SLOPE = 0.83\n",
    "\n",
    "# define some energy-related variables\n",
    "for i,df in enumerate(df_v):\n",
    "    df[\"theta1PlusTheta2\"] = df[\"shr_theta\"]+df[\"trk_theta\"]\n",
    "    df[\"phi1MinusPhi2\"] = df[\"shr_phi\"]-df[\"trk_phi\"]\n",
    "    df[\"AbsPhi1MinusPhi2\"] = np.abs(df[\"shr_phi\"]-df[\"trk_phi\"])\n",
    "    df[\"reco_e\"] = (df[\"shr_energy_tot_cali\"] + INTERCEPT) / SLOPE + df[\"trk_energy_tot\"]\n",
    "    df[\"reco_e_qe\"] = 0.938*((df[\"shr_energy\"]+INTERCEPT)/SLOPE)/(0.938 - ((df[\"shr_energy\"]+INTERCEPT)/SLOPE)*(1-np.cos(df[\"shr_theta\"])))\n",
    "    df[\"reco_e_rqe\"] = df[\"reco_e_qe\"]/df[\"reco_e\"]\n",
    "\n",
    "# and a way to filter out data\n",
    "for i,df in enumerate(df_v):\n",
    "    df[\"bnbdata\"] = np.zeros_like(df[\"shr_energy\"])\n",
    "    df[\"extdata\"] = np.zeros_like(df[\"shr_energy\"])\n",
    "data[\"bnbdata\"] = np.ones_like(data[\"shr_energy\"])\n",
    "ext[\"extdata\"] = np.ones_like(ext[\"shr_energy\"])\n",
    "\n",
    "# test calibrating dedx on Y plane\n",
    "#data[\"shr_tkfit_gap10_dedx_Y\"] = data[\"shr_tkfit_gap10_dedx_Y\"]*1.03\n",
    "#ext[\"shr_tkfit_gap10_dedx_Y\"] = ext[\"shr_tkfit_gap10_dedx_Y\"]*1.03\n",
    "#data[\"shr_tkfit_2cm_dedx_Y\"] = data[\"shr_tkfit_2cm_dedx_Y\"]*1.03\n",
    "#ext[\"shr_tkfit_2cm_dedx_Y\"] = ext[\"shr_tkfit_2cm_dedx_Y\"]*1.03\n",
    "#data[\"shr_tkfit_dedx_Y\"] = data[\"shr_tkfit_dedx_Y\"]*1.03\n",
    "#ext[\"shr_tkfit_dedx_Y\"] = ext[\"shr_tkfit_dedx_Y\"]*1.03"
   ]
  },
  {
   "cell_type": "code",
   "execution_count": 27,
   "metadata": {
    "scrolled": false
   },
   "outputs": [],
   "source": [
    "# add back the cosmic category, for background only\n",
    "df_v = [mc,nue,ext,data,dirt]\n",
    "for i,df in enumerate(df_v):\n",
    "    df.loc[(df['category']!=1)&(df['category']!=10)&(df['category']!=11)&(df['category']!=111)&(df['slnunhits']/df['slnhits']<0.2), 'category'] = 4"
   ]
  },
  {
   "cell_type": "code",
   "execution_count": 28,
   "metadata": {},
   "outputs": [],
   "source": [
    "#reset timing\n",
    "df_v = [mc,nue,dirt]\n",
    "for i,df in enumerate(df_v):\n",
    "        df.loc[ :, 'flash_time' ] = df['flash_time' ] - 0.304\n",
    "\n",
    "df_v = [ext]\n",
    "for i,df in enumerate(df_v):\n",
    "        df.loc[ :, 'flash_time' ] = df['flash_time' ] - 0.359"
   ]
  },
  {
   "cell_type": "code",
   "execution_count": 29,
   "metadata": {},
   "outputs": [],
   "source": [
    "data[\"is_signal\"] = data[\"category\"] == 11\n",
    "nue[\"is_signal\"] = nue[\"category\"] == 11\n",
    "mc[\"is_signal\"] = mc[\"category\"] == 11\n",
    "dirt[\"is_signal\"] = dirt[\"category\"] == 11\n",
    "ext[\"is_signal\"] = ext[\"category\"] == 11\n"
   ]
  },
  {
   "cell_type": "code",
   "execution_count": 30,
   "metadata": {},
   "outputs": [],
   "source": [
    "# variables to be trained on\n",
    "TRAINVAR = [\"shr_score\",\"tksh_distance\",\"tksh_angle\",\n",
    "            \"shr_tkfit_dedx_max\",\"trkfit\",\"trkpid\",\n",
    "            \"subcluster\",\"shrmoliereavg\",\n",
    "            \"trkshrhitdist2\",\"hits_ratio\",\n",
    "            \"secondshower_Y_nhit\",\"secondshower_Y_vtxdist\",\"secondshower_Y_dot\",\"anglediff_Y\",\n",
    "            \"CosmicIPAll3D\",\"CosmicDirAll3D\"]"
   ]
  },
  {
   "cell_type": "code",
   "execution_count": 31,
   "metadata": {
    "colab": {},
    "colab_type": "code",
    "id": "XcI43ileYJ9P"
   },
   "outputs": [],
   "source": [
    "LABELS = ['pi0','nonpi0']\n",
    "\n",
    "if (USEBDT == True):\n",
    "    for label, bkg_query in zip(LABELS, nue_booster.bkg_queries):\n",
    "        with open(ls.pickle_path+'booster_%s_0304_extnumi.pickle' % label, 'rb') as booster_file:\n",
    "            booster = pickle.load(booster_file)\n",
    "            #print((ls.pickle_path+'booster_%s_0304_extnumi.model' % label), booster.best_iteration)\n",
    "            #booster.save_model( (ls.pickle_path+'booster_%s_0304_extnumi.model' % label) )\n",
    "            #mcO[label+\"_score\"] = booster.predict(\n",
    "            #    xgb.DMatrix(mc[TRAINVAR]),\n",
    "            #    ntree_limit=booster.best_iteration)\n",
    "            #nueO[label+\"_score\"] = booster.predict(\n",
    "            #    xgb.DMatrix(nue[TRAINVAR]),\n",
    "            #    ntree_limit=booster.best_iteration)\n",
    "            mc[label+\"_score\"] = booster.predict(\n",
    "                xgb.DMatrix(mc[TRAINVAR]),\n",
    "                ntree_limit=booster.best_iteration)\n",
    "            nue[label+\"_score\"] = booster.predict(\n",
    "                xgb.DMatrix(nue[TRAINVAR]),\n",
    "                ntree_limit=booster.best_iteration)\n",
    "            ext[label+\"_score\"] = booster.predict(\n",
    "                xgb.DMatrix(ext[TRAINVAR]),\n",
    "                ntree_limit=booster.best_iteration)\n",
    "            data[label+\"_score\"] = booster.predict(\n",
    "                xgb.DMatrix(data[TRAINVAR]),\n",
    "                ntree_limit=booster.best_iteration)\n",
    "            dirt[label+\"_score\"] = booster.predict(\n",
    "                xgb.DMatrix(dirt[TRAINVAR]),\n",
    "                ntree_limit=booster.best_iteration)\n"
   ]
  },
  {
   "cell_type": "code",
   "execution_count": 32,
   "metadata": {},
   "outputs": [],
   "source": [
    "# Some quick clean up since some strange events get in there\n",
    "\n",
    "#mc   = mc.query('nu_e > 0.')\n",
    "#nue  = nue.query('nu_e > 0.')\n",
    "#dirt = dirt.query('nu_e > 0.')\n",
    "\n",
    "# Calculate the true neutrino direction off of the NuMI beam\n",
    "dfmc_v = [mc,nue,dirt]\n",
    "for i,df in enumerate(dfmc_v):\n",
    "    df['numi_nu_true_Angle'] = df.apply( lambda x: GetNuMIAngle(x['true_nu_px'],x['true_nu_py'],x['true_nu_pz']) , axis=1)\n",
    "    df['weightsNuMIGeo']     = df.apply( lambda x: numiBeamlineGeoWeights.calculateGeoWeight(x['nu_pdg'],x['nu_e'],x['numi_nu_true_Angle']) , axis=1)"
   ]
  },
  {
   "cell_type": "code",
   "execution_count": 53,
   "metadata": {},
   "outputs": [
    {
     "name": "stderr",
     "output_type": "stream",
     "text": [
      "/Users/elenag/miniconda3/envs/peleeNB/lib/python3.7/site-packages/ipykernel_launcher.py:3: SettingWithCopyWarning: \n",
      "A value is trying to be set on a copy of a slice from a DataFrame.\n",
      "Try using .loc[row_indexer,col_indexer] = value instead\n",
      "\n",
      "See the caveats in the documentation: https://pandas.pydata.org/pandas-docs/stable/user_guide/indexing.html#returning-a-view-versus-a-copy\n",
      "  This is separate from the ipykernel package so we can avoid doing imports until\n"
     ]
    }
   ],
   "source": [
    "df_v = [nue]\n",
    "for i,df in enumerate(df_v):\n",
    "    df[ 'LOverE' ] =     df[ 'baseline' ]/ df[ 'nu_e' ]"
   ]
  },
  {
   "cell_type": "code",
   "execution_count": 34,
   "metadata": {},
   "outputs": [
    {
     "data": {
      "text/plain": [
       "'\\ndef fetchThatWeight (weightVector,wCV, wIntex):\\n    return wCV*(weightVector[wIntex])\\n'"
      ]
     },
     "execution_count": 34,
     "metadata": {},
     "output_type": "execute_result"
    }
   ],
   "source": [
    "'''\n",
    "def fetchThatWeight (weightVector,wCV, wIntex):\n",
    "    return wCV*(weightVector[wIntex])\n",
    "'''"
   ]
  },
  {
   "cell_type": "code",
   "execution_count": 35,
   "metadata": {},
   "outputs": [
    {
     "data": {
      "text/plain": [
       "\"\\ndf_v = [mc,nue,dirt]\\n#removeGenieTune = False\\nfor i,df in enumerate(df_v):\\n    df['var1'] = df.apply( lambda x: fetchThatWeight(x['weightsNuMIGeo'],x['weightSplineTimesTuneTimesPPFX'],0) , axis=1)\\n    df['var2'] = df.apply( lambda x: fetchThatWeight(x['weightsNuMIGeo'],x['weightSplineTimesTuneTimesPPFX'],1) , axis=1)\\n    df['var3'] = df.apply( lambda x: fetchThatWeight(x['weightsNuMIGeo'],x['weightSplineTimesTuneTimesPPFX'],2) , axis=1)\\n    df['var4'] = df.apply( lambda x: fetchThatWeight(x['weightsNuMIGeo'],x['weightSplineTimesTuneTimesPPFX'],3) , axis=1)\\n    df['var5'] = df.apply( lambda x: fetchThatWeight(x['weightsNuMIGeo'],x['weightSplineTimesTuneTimesPPFX'],4) , axis=1)\\n    df['var6'] = df.apply( lambda x: fetchThatWeight(x['weightsNuMIGeo'],x['weightSplineTimesTuneTimesPPFX'],5) , axis=1)\\n    df['var7'] = df.apply( lambda x: fetchThatWeight(x['weightsNuMIGeo'],x['weightSplineTimesTuneTimesPPFX'],6) , axis=1)\\n    df['var8'] = df.apply( lambda x: fetchThatWeight(x['weightsNuMIGeo'],x['weightSplineTimesTuneTimesPPFX'],7) , axis=1)\\n    df['var9'] = df.apply( lambda x: fetchThatWeight(x['weightsNuMIGeo'],x['weightSplineTimesTuneTimesPPFX'],8) , axis=1)\\n    df['var10'] = df.apply( lambda x: fetchThatWeight(x['weightsNuMIGeo'],x['weightSplineTimesTuneTimesPPFX'],9) , axis=1)\\n    df['var11'] = df.apply( lambda x: fetchThatWeight(x['weightsNuMIGeo'],x['weightSplineTimesTuneTimesPPFX'],10) , axis=1)\\n    df['var12'] = df.apply( lambda x: fetchThatWeight(x['weightsNuMIGeo'],x['weightSplineTimesTuneTimesPPFX'],11) , axis=1)\\n    df['var13'] = df.apply( lambda x: fetchThatWeight(x['weightsNuMIGeo'],x['weightSplineTimesTuneTimesPPFX'],12) , axis=1)\\n    df['var14'] = df.apply( lambda x: fetchThatWeight(x['weightsNuMIGeo'],x['weightSplineTimesTuneTimesPPFX'],13) , axis=1)\\n    df['var15'] = df.apply( lambda x: fetchThatWeight(x['weightsNuMIGeo'],x['weightSplineTimesTuneTimesPPFX'],14) , axis=1)\\n    df['var16'] = df.apply( lambda x: fetchThatWeight(x['weightsNuMIGeo'],x['weightSplineTimesTuneTimesPPFX'],15) , axis=1)\\n    df['var17'] = df.apply( lambda x: fetchThatWeight(x['weightsNuMIGeo'],x['weightSplineTimesTuneTimesPPFX'],16) , axis=1)\\n    df['var18'] = df.apply( lambda x: fetchThatWeight(x['weightsNuMIGeo'],x['weightSplineTimesTuneTimesPPFX'],17) , axis=1)\\n    df['var19'] = df.apply( lambda x: fetchThatWeight(x['weightsNuMIGeo'],x['weightSplineTimesTuneTimesPPFX'],18) , axis=1)\\n    df['var20'] = df.apply( lambda x: fetchThatWeight(x['weightsNuMIGeo'],x['weightSplineTimesTuneTimesPPFX'],19) , axis=1)\\n\""
      ]
     },
     "execution_count": 35,
     "metadata": {},
     "output_type": "execute_result"
    }
   ],
   "source": [
    "'''\n",
    "df_v = [mc,nue,dirt]\n",
    "#removeGenieTune = False\n",
    "for i,df in enumerate(df_v):\n",
    "    df['var1'] = df.apply( lambda x: fetchThatWeight(x['weightsNuMIGeo'],x['weightSplineTimesTuneTimesPPFX'],0) , axis=1)\n",
    "    df['var2'] = df.apply( lambda x: fetchThatWeight(x['weightsNuMIGeo'],x['weightSplineTimesTuneTimesPPFX'],1) , axis=1)\n",
    "    df['var3'] = df.apply( lambda x: fetchThatWeight(x['weightsNuMIGeo'],x['weightSplineTimesTuneTimesPPFX'],2) , axis=1)\n",
    "    df['var4'] = df.apply( lambda x: fetchThatWeight(x['weightsNuMIGeo'],x['weightSplineTimesTuneTimesPPFX'],3) , axis=1)\n",
    "    df['var5'] = df.apply( lambda x: fetchThatWeight(x['weightsNuMIGeo'],x['weightSplineTimesTuneTimesPPFX'],4) , axis=1)\n",
    "    df['var6'] = df.apply( lambda x: fetchThatWeight(x['weightsNuMIGeo'],x['weightSplineTimesTuneTimesPPFX'],5) , axis=1)\n",
    "    df['var7'] = df.apply( lambda x: fetchThatWeight(x['weightsNuMIGeo'],x['weightSplineTimesTuneTimesPPFX'],6) , axis=1)\n",
    "    df['var8'] = df.apply( lambda x: fetchThatWeight(x['weightsNuMIGeo'],x['weightSplineTimesTuneTimesPPFX'],7) , axis=1)\n",
    "    df['var9'] = df.apply( lambda x: fetchThatWeight(x['weightsNuMIGeo'],x['weightSplineTimesTuneTimesPPFX'],8) , axis=1)\n",
    "    df['var10'] = df.apply( lambda x: fetchThatWeight(x['weightsNuMIGeo'],x['weightSplineTimesTuneTimesPPFX'],9) , axis=1)\n",
    "    df['var11'] = df.apply( lambda x: fetchThatWeight(x['weightsNuMIGeo'],x['weightSplineTimesTuneTimesPPFX'],10) , axis=1)\n",
    "    df['var12'] = df.apply( lambda x: fetchThatWeight(x['weightsNuMIGeo'],x['weightSplineTimesTuneTimesPPFX'],11) , axis=1)\n",
    "    df['var13'] = df.apply( lambda x: fetchThatWeight(x['weightsNuMIGeo'],x['weightSplineTimesTuneTimesPPFX'],12) , axis=1)\n",
    "    df['var14'] = df.apply( lambda x: fetchThatWeight(x['weightsNuMIGeo'],x['weightSplineTimesTuneTimesPPFX'],13) , axis=1)\n",
    "    df['var15'] = df.apply( lambda x: fetchThatWeight(x['weightsNuMIGeo'],x['weightSplineTimesTuneTimesPPFX'],14) , axis=1)\n",
    "    df['var16'] = df.apply( lambda x: fetchThatWeight(x['weightsNuMIGeo'],x['weightSplineTimesTuneTimesPPFX'],15) , axis=1)\n",
    "    df['var17'] = df.apply( lambda x: fetchThatWeight(x['weightsNuMIGeo'],x['weightSplineTimesTuneTimesPPFX'],16) , axis=1)\n",
    "    df['var18'] = df.apply( lambda x: fetchThatWeight(x['weightsNuMIGeo'],x['weightSplineTimesTuneTimesPPFX'],17) , axis=1)\n",
    "    df['var19'] = df.apply( lambda x: fetchThatWeight(x['weightsNuMIGeo'],x['weightSplineTimesTuneTimesPPFX'],18) , axis=1)\n",
    "    df['var20'] = df.apply( lambda x: fetchThatWeight(x['weightsNuMIGeo'],x['weightSplineTimesTuneTimesPPFX'],19) , axis=1)\n",
    "'''"
   ]
  },
  {
   "cell_type": "code",
   "execution_count": 36,
   "metadata": {},
   "outputs": [],
   "source": [
    "df_v = [mc,nue,ext,data,dirt]\n",
    "\n",
    "for i,df in enumerate(df_v):\n",
    "    df['cosShrTheta'] = np.cos(df['shr_theta'])\n",
    "    df['cosTrkTheta'] = np.cos(df['trk_theta'])"
   ]
  },
  {
   "cell_type": "markdown",
   "metadata": {},
   "source": [
    "# Plotting part"
   ]
  },
  {
   "cell_type": "code",
   "execution_count": 37,
   "metadata": {},
   "outputs": [
    {
     "data": {
      "text/plain": [
       "<module 'plotter' from '/Users/elenag/Desktop/PlotterLEE/PELEE4/plotter.py'>"
      ]
     },
     "execution_count": 37,
     "metadata": {},
     "output_type": "execute_result"
    }
   ],
   "source": [
    "import plotter\n",
    "import importlib\n",
    "importlib.reload(plotter)"
   ]
  },
  {
   "cell_type": "code",
   "execution_count": 38,
   "metadata": {
    "colab": {},
    "colab_type": "code",
    "id": "_pamv0W8YJ9R"
   },
   "outputs": [
    {
     "data": {
      "text/plain": [
       "'\\nscaling = 1\\n\\nSPLIT = 1.0\\nif (USEBDT == True):\\n    SPLIT = 2.\\n\\n\\nnue = nue.query(\"(abs(nu_pdg) == 12 & ccnc == 0)\")\\nsamples = {\\n    \"mc\": mc, \\n    \"nue\": nue,\\n#    \"dirt\": dirt,\\n    \"data\": data,\\n    \"ext\": ext\\n}\\n\\nscaling = 1\\n#scaling = 0.789\\npot =  2e+20 #partial file: 8.885e+19\\nmcratio   = pot/5.46001e+19#norm on wiki: 1.18488e+21; current norm on my plotter:  2.18488e+21\\nnueratio  = pot/5.46001e+19 #norm on wiki: 1.85664e+22\\ndirtratio = pot/5.46001e+19 # right number: 1.42143e+21\\nextratio  = 5268051/9199232.74 #partial file: 2347745.0/4015961.99\\nSPLIT = 1.0\\nscalingEXT = 0.98\\nscalingDRT = 0.35\\n\\nweights = { #full sample mc = 0.38\\n            \"mc\"  : mcratio  * SPLIT * scaling,   \\n            \"nue\" : nueratio * SPLIT * scaling,  \\n            \"ext\" : extratio * SPLIT * scalingEXT, #set0   \\n#            \"dirt\": dirtratio* SPLIT * scalingDRT, #set0   \\n}\\nprint (ext.shape[0])\\nmy_plotter = plotter.Plotter(samples, weights, pot=pot)\\nprint(weights)\\n'"
      ]
     },
     "execution_count": 38,
     "metadata": {},
     "output_type": "execute_result"
    }
   ],
   "source": [
    "'''\n",
    "scaling = 1\n",
    "\n",
    "SPLIT = 1.0\n",
    "if (USEBDT == True):\n",
    "    SPLIT = 2.\n",
    "\n",
    "\n",
    "nue = nue.query(\"(abs(nu_pdg) == 12 & ccnc == 0)\")\n",
    "samples = {\n",
    "    \"mc\": mc, \n",
    "    \"nue\": nue,\n",
    "#    \"dirt\": dirt,\n",
    "    \"data\": data,\n",
    "    \"ext\": ext\n",
    "}\n",
    "\n",
    "scaling = 1\n",
    "#scaling = 0.789\n",
    "pot =  2e+20 #partial file: 8.885e+19\n",
    "mcratio   = pot/5.46001e+19#norm on wiki: 1.18488e+21; current norm on my plotter:  2.18488e+21\n",
    "nueratio  = pot/5.46001e+19 #norm on wiki: 1.85664e+22\n",
    "dirtratio = pot/5.46001e+19 # right number: 1.42143e+21\n",
    "extratio  = 5268051/9199232.74 #partial file: 2347745.0/4015961.99\n",
    "SPLIT = 1.0\n",
    "scalingEXT = 0.98\n",
    "scalingDRT = 0.35\n",
    "\n",
    "weights = { #full sample mc = 0.38\n",
    "            \"mc\"  : mcratio  * SPLIT * scaling,   \n",
    "            \"nue\" : nueratio * SPLIT * scaling,  \n",
    "            \"ext\" : extratio * SPLIT * scalingEXT, #set0   \n",
    "#            \"dirt\": dirtratio* SPLIT * scalingDRT, #set0   \n",
    "}\n",
    "print (ext.shape[0])\n",
    "my_plotter = plotter.Plotter(samples, weights, pot=pot)\n",
    "print(weights)\n",
    "'''"
   ]
  },
  {
   "cell_type": "code",
   "execution_count": null,
   "metadata": {},
   "outputs": [],
   "source": []
  },
  {
   "cell_type": "code",
   "execution_count": 39,
   "metadata": {},
   "outputs": [
    {
     "name": "stdout",
     "output_type": "stream",
     "text": [
      "nslice == 1\n"
     ]
    }
   ],
   "source": [
    "# muon selection\n",
    "QUERY = 'nslice == 1'\n",
    "#if ISRUN3: QUERY += ' and ((crtveto!=1) or (crthitpe < 100)) and (_closestNuCosmicDist > 20.)'\n",
    "#QUERY += ' and trk_len > 20'\n",
    "#QUERY += ' and topological_score > 0.06'\n",
    "#QUERY += ' and reco_nu_vtx_sce_x > 5 and reco_nu_vtx_sce_x < 251'\n",
    "#QUERY += ' and reco_nu_vtx_sce_y > -110 and reco_nu_vtx_sce_y < 110'\n",
    "#QUERY += ' and reco_nu_vtx_sce_z > 20 and reco_nu_vtx_sce_z < 986'\n",
    "#QUERY += ' and trkpid > 0.5'\n",
    "#QUERY += ' and (trkthetacos < 0.853 or trkthetacos > 0.8531)'\n",
    "#QUERY += ' and bkpdg == 2212 and (trkcompl < 0.5 or trkpur < 0.5)'\n",
    "\n",
    "print (QUERY)"
   ]
  },
  {
   "cell_type": "code",
   "execution_count": 40,
   "metadata": {},
   "outputs": [],
   "source": [
    "# nue preselection\n",
    "PRESQ = 'nslice == 1'\n",
    "PRESQ += ' and selected == 1'\n",
    "PRESQ += ' and shr_energy_tot_cali > 0.07'\n",
    "PRESQ += ' and ( (_opfilter_pe_beam > 0 and _opfilter_pe_veto < 20) or bnbdata == 1 or extdata == 1)'"
   ]
  },
  {
   "cell_type": "code",
   "execution_count": 41,
   "metadata": {},
   "outputs": [],
   "source": [
    "# 1eNp preselection\n",
    "NPPRESQ = PRESQ\n",
    "NPPRESQ += ' and n_tracks_contained > 0'"
   ]
  },
  {
   "cell_type": "code",
   "execution_count": 42,
   "metadata": {},
   "outputs": [],
   "source": [
    "# very loose box cuts\n",
    "NPVLCUTQ = NPPRESQ\n",
    "NPVLCUTQ += ' and CosmicIPAll3D > 10.'\n",
    "NPVLCUTQ += ' and trkpid < 0.25'\n",
    "NPVLCUTQ += ' and hits_ratio > 0.5'\n",
    "NPVLCUTQ += ' and trkfit < 0.90'\n",
    "NPVLCUTQ += ' and n_showers_contained == 1'\n",
    "NPVLCUTQ += ' and tksh_distance < 10.0'\n",
    "NPVLCUTQ += ' and tksh_angle > -0.9'"
   ]
  },
  {
   "cell_type": "code",
   "execution_count": 43,
   "metadata": {},
   "outputs": [],
   "source": [
    "# loose box cuts\n",
    "NPLCUTQ = NPVLCUTQ\n",
    "NPLCUTQ += ' and CosmicIPAll3D > 10.'\n",
    "NPLCUTQ += ' and trkpid < 0.02'\n",
    "NPLCUTQ += ' and hits_ratio > 0.50'\n",
    "NPLCUTQ += ' and shrmoliereavg < 9'\n",
    "NPLCUTQ += ' and subcluster > 4'\n",
    "NPLCUTQ += ' and trkfit < 0.65'\n",
    "NPLCUTQ += ' and n_showers_contained == 1'\n",
    "NPLCUTQ += ' and tksh_distance < 6.0'\n",
    "NPLCUTQ += ' and (shr_tkfit_nhits_tot > 1 and shr_tkfit_dedx_max > 0.5 and shr_tkfit_dedx_max < 5.5)'\n",
    "NPLCUTQ += ' and secondshower_Y_nhit < 50'\n",
    "NPLCUTQ += ' and tksh_angle > -0.9'"
   ]
  },
  {
   "cell_type": "code",
   "execution_count": 44,
   "metadata": {},
   "outputs": [],
   "source": [
    "# BDT cuts\n",
    "# 0304 extnumi, pi0 and nonpi0\n",
    "BDTCQ = NPPRESQ\n",
    "BDTCQ += ' and pi0_score > 0.67 and nonpi0_score > 0.70'"
   ]
  },
  {
   "cell_type": "code",
   "execution_count": 45,
   "metadata": {},
   "outputs": [],
   "source": [
    "myPre = \"nslice == 1 and selected == 1 and shr_energy_tot_cali > 0.07 and ( (_opfilter_pe_beam > 0 and _opfilter_pe_veto < 20) or bnbdata == 1 or extdata == 1) and n_tracks_contained > 0\""
   ]
  },
  {
   "cell_type": "code",
   "execution_count": 46,
   "metadata": {},
   "outputs": [],
   "source": [
    "# Define actual selection\n",
    "# QUERY = NPTCUTQ #NPTCUTQ\n",
    "#QUERY = NPPRESQ\n",
    "#QUERY = NPLCUTQ #NPTCUTQ NPLCUTQ\n",
    "#QUERY = NPPRESQ \n",
    "QUERY = NPLCUTQ +\" and \"+ BDTCQ #PI0SEL#NUMUOnTheFly + ' and n_showers_contained == 1'  #PI0SEL#NPLCUTQ2 #NPLCUTQ #NPPRESQ#'nslice ==1 ' #NPPRESQ #PRESQ\n",
    "# in case you do not want to look at the data\n",
    "#QUERY += ' and bnbdata==0'\n",
    "# in case you want to apply the CRT veto\n",
    "#if ISRUN3: QUERY += ' and (crtveto!=1) and (_closestNuCosmicDist > 20.)'"
   ]
  },
  {
   "cell_type": "code",
   "execution_count": null,
   "metadata": {},
   "outputs": [],
   "source": []
  },
  {
   "cell_type": "code",
   "execution_count": 47,
   "metadata": {},
   "outputs": [],
   "source": [
    "NN = NPVLCUTQ #NPLCUTQ #'nslice == 1 and topological_score > 0.06 '\n",
    "#NN += ' and n_tracks_contained == 2 ' #and N_recoMuons == 0'\n",
    "NN += ' and N_recoProtons == 2 ' #and N_recoMuons == 0'\n",
    "#NN += ' and n_showers_contained == 1'\n"
   ]
  },
  {
   "cell_type": "code",
   "execution_count": 48,
   "metadata": {},
   "outputs": [
    {
     "name": "stderr",
     "output_type": "stream",
     "text": [
      "/Users/elenag/miniconda3/envs/peleeNB/lib/python3.7/site-packages/pandas/core/series.py:679: RuntimeWarning: invalid value encountered in sqrt\n",
      "  result = getattr(ufunc, method)(*inputs, **kwargs)\n"
     ]
    }
   ],
   "source": [
    "df_v = [mc,nue,dirt]\n",
    "#removeGenieTune = False\n",
    "for i,df in enumerate(df_v):\n",
    "    df[ 'noW' ] = 1\n",
    "    df['true_pz_visible'] = np.sqrt(df['true_p_visible']*df['true_p_visible'] - df['true_pt_visible']*df['true_pt_visible'])\n",
    "    df['el_thetaXZ'] = np.arctan(df['elec_px']/df['elec_pz'])\n",
    "    df['el_thetaYZ'] = np.arctan(df['elec_py']/df['elec_pz'])\n"
   ]
  },
  {
   "cell_type": "code",
   "execution_count": 49,
   "metadata": {},
   "outputs": [],
   "source": [
    "#s = time.time()\n",
    "#df_v = [mc,nue,dirt]\n",
    "##removeGenieTune = False\n",
    "#for i,df in enumerate(df_v):\n",
    "#    #print(df.shape[0])\n",
    "#    for ievt in range(df.shape[0]):\n",
    "#        reweightCondition = ((df['weightsGenie'].iloc[ievt] > 3000) | (df['weightsGenie'].iloc[ievt] < 0)  | (df['weightsGenie'].iloc[ievt] == np.inf))\n",
    "#        df['weightsGenie'].iloc[ievt][ reweightCondition ] = 1.\n",
    "\n",
    "#s2 = time.time()\n",
    "#print (s-s2)\n",
    "df_v = [mc,nue]\n",
    "for i,df in enumerate(df_v):\n",
    "    #df.loc[ (df['category']== 11) & (df['nu_pdg'] == -12), 'category' ] = 12\n",
    "    #df.loc[ (df['category']== 10) & (df['nu_pdg'] == -12), 'category' ] = 1\n",
    "    #df.loc[ (df['category']== 10) & (df['nu_pdg'] ==  12), 'category' ] = 1\n",
    "    df['flux'] = np.zeros_like(df['nslice'])\n",
    "    df.loc[ (((df['nu_pdg'] == 12) | (df['nu_pdg'] == -12)) & (df['nu_decay_mode'] < 11)) , 'flux'] = 10\n",
    "    df.loc[ (((df['nu_pdg'] == 12) | (df['nu_pdg'] == -12)) & (df['nu_decay_mode'] > 10)) , 'flux'] = 1\n",
    "    df.loc[ (((df['nu_pdg'] == 14) | (df['nu_pdg'] == -14)) & (df['nu_decay_mode'] < 11)) , 'flux'] = 10\n",
    "    df.loc[ (((df['nu_pdg'] == 14) | (df['nu_pdg'] == -14)) & (df['nu_decay_mode'] > 10)) , 'flux'] = 1"
   ]
  },
  {
   "cell_type": "code",
   "execution_count": null,
   "metadata": {},
   "outputs": [],
   "source": []
  },
  {
   "cell_type": "code",
   "execution_count": 56,
   "metadata": {},
   "outputs": [
    {
     "name": "stdout",
     "output_type": "stream",
     "text": [
      "6087\n",
      "{'mc': 0.0, 'nue': 0.008423712751395177, 'ext': 0.5612087579382191}\n"
     ]
    }
   ],
   "source": [
    "import plotter\n",
    "import importlib\n",
    "importlib.reload(plotter)\n",
    "scaling = 1\n",
    "\n",
    "SPLIT = 1.0\n",
    "if (USEBDT == True):\n",
    "    SPLIT = 2.\n",
    "\n",
    "#nueMC = mc.query(\"(abs(nu_pdg) == 12 & ccnc == 0 & true_nu_vtx_z < 1036.8 & true_nu_vtx_z > 0 & true_nu_vtx_y < 116.5 & true_nu_vtx_y > -116.5 & true_nu_vtx_x < \\\n",
    "# 254.8 & true_nu_vtx_x > -1.55 )\")\n",
    "nueMC = mc.query(\"(abs(nu_pdg) == 12 & ccnc == 0)\")\n",
    "nue   = nue.query(\"(abs(nu_pdg) == 12 & ccnc == 0 & true_nu_vtx_z < 1036.8 & true_nu_vtx_z > 0 & true_nu_vtx_y < 116.5 & true_nu_vtx_y > -116.5 & true_nu_vtx_x < \\\n",
    " 254.8 & true_nu_vtx_x > -1.55)\")\n",
    "samples = {\n",
    "    \"mc\": nue,\n",
    "    \"nue\": nue, #nueMC, #nue,\n",
    "    \"data\": data,\n",
    "    #\"dirt\": dirt,\n",
    "    \"ext\": ext\n",
    "}\n",
    "\n",
    "'''\n",
    "scaling = 1\n",
    "pot =  2e+20 #partial file: 8.885e+19\n",
    "mcratio   = pot/2.32135e+21 #norm on wiki: 1.18488e+21; current norm on my plotter:  2.07136e+21\n",
    "nueratio  = pot/2.59311e+22 #2.59311e+22 #norm for intrinsic = 2.59311e+22\n",
    "#nueratio  = pot/2.59311e+22  ##norm for intrinsic = 2.59311e+22\n",
    "dirtratio = pot/1.42143e+21\n",
    "extratio  = 5268051/9199232.74 #partial file: 2347745.0/4015961.99\n",
    "'''\n",
    "\n",
    "SPLIT = 1.0\n",
    "scalingEXT = 0.98\n",
    "scalingDRT = 0.35\n",
    "\n",
    "scaling   = 1\n",
    "pot       =  2e+20             \n",
    "mcratio   = pot/2.33652e+21\n",
    "nueratio  = pot/2.37425e+22 # no parent: 2.37838e+22    \n",
    "dirtratio = pot/1.42143e+21\n",
    "extratio  = 5268051.0/9199232.74\n",
    "mcratio = 0\n",
    "\n",
    "weights = { #full sample mc = 0.38\n",
    "            \"mc\"  : mcratio  * SPLIT * scaling,   \n",
    "            \"nue\" : nueratio * SPLIT * scaling,      \n",
    "            \"ext\" : extratio * SPLIT * scalingEXT, #set0   \n",
    "            #\"dirt\": dirtratio* SPLIT * scalingDRT, #set0   \n",
    "}\n",
    "print (ext.shape[0])\n",
    "my_plotter = plotter.Plotter(samples, weights, pot=pot)\n",
    "print(weights)"
   ]
  },
  {
   "cell_type": "code",
   "execution_count": 186,
   "metadata": {},
   "outputs": [
    {
     "name": "stdout",
     "output_type": "stream",
     "text": [
      "nu_pdg==12 and nslice == 1 and selected == 1 and shr_energy_tot_cali > 0.07 and ( (_opfilter_pe_beam > 0 and _opfilter_pe_veto < 20) or bnbdata == 1 or extdata == 1) and n_tracks_contained > 0 and CosmicIPAll3D > 10. and trkpid < 0.25 and hits_ratio > 0.5 and trkfit < 0.90 and n_showers_contained == 1 and tksh_distance < 10.0 and tksh_angle > -0.9 and CosmicIPAll3D > 10. and trkpid < 0.02 and hits_ratio > 0.50 and shrmoliereavg < 9 and subcluster > 4 and trkfit < 0.65 and n_showers_contained == 1 and tksh_distance < 6.0 and (shr_tkfit_nhits_tot > 1 and shr_tkfit_dedx_max > 0.5 and shr_tkfit_dedx_max < 5.5) and secondshower_Y_nhit < 50 and tksh_angle > -0.9 and nslice == 1 and selected == 1 and shr_energy_tot_cali > 0.07 and ( (_opfilter_pe_beam > 0 and _opfilter_pe_veto < 20) or bnbdata == 1 or extdata == 1) and n_tracks_contained > 0 and pi0_score > 0.67 and nonpi0_score > 0.70& LOverE <= 2000 & LOverE >= 0 \n",
      " ~(abs(nu_pdg) == 12 & ccnc == 0) \n",
      " None \n",
      " False\n"
     ]
    },
    {
     "name": "stderr",
     "output_type": "stream",
     "text": [
      "/Users/elenag/Desktop/PlotterLEE/PELEE4/plotter.py:458: RuntimeWarning: divide by zero encountered in true_divide\n",
      "  ERR_STAT = 3. / ( 1./data + 2./mc )\n"
     ]
    },
    {
     "data": {
      "image/png": "[encoded data removed]",
      "text/plain": [
       "<Figure size 504x360 with 1 Axes>"
      ]
     },
     "metadata": {
      "needs_background": "light"
     },
     "output_type": "display_data"
    }
   ],
   "source": [
    "import matplotlib.pyplot as plt\n",
    "import matplotlib\n",
    "sysBool = False\n",
    "#+ \" and run <= 6747\" \n",
    "\n",
    "\n",
    "ACCEPTANCE   = 'and isVtxInFiducial == 1 and truthFiducial == 1 and ccnc>=0 and npi0==0 and npion==0'\n",
    "QUERY += ACCEPTANCE \n",
    "\n",
    "#QUERY = NPLCUTQ +\" and \"+ BDTCQ  + \"and reco_e > 0.65 and reco_e < 0.85\"\n",
    "QUERY = \"nu_pdg==12\"\n",
    "QUERY = \"nu_pdg==12\" +\" and \"+NPLCUTQ +\" and \"+ BDTCQ \n",
    "\n",
    "VARIABLE, BINS, RANGE, XTIT = 'true_p_visible', 40, (0.,16.0), r\"True Momentum [GeV/c]\"\n",
    "VARIABLE, BINS, RANGE, XTIT = 'true_pt_visible', 20, (0.,2.0), r\"True Momentum Proj on r [GeV/c]\"\n",
    "VARIABLE, BINS, RANGE, XTIT = 'true_pz_visible', 40, (0.,10.0), r\"True Momentum Proj on Z [GeV/c]\"\n",
    "\n",
    "VARIABLE, BINS, RANGE, XTIT = 'true_nu_pz', 40, (0.,10.0), r\"True Momentum Proj on Z [GeV/c]\"\n",
    "VARIABLE, BINS, RANGE, XTIT = 'true_nu_px', 40, (0.,10.0), r\"True Momentum Proj on X [GeV/c]\"\n",
    "VARIABLE, BINS, RANGE, XTIT = 'true_nu_py', 40, (0.,10.0), r\"True Momentum Proj on Y [GeV/c]\"\n",
    "VARIABLE, BINS, RANGE, XTIT = 'el_thetaXZ' , 25, (-2.,2.0), r\"True Electron thetaXZ\"\n",
    "VARIABLE, BINS, RANGE, XTIT = 'el_thetaYZ' , 25, (-2.,2.0), r\"True Electron thetaYZ\"\n",
    "VARIABLE, BINS, RANGE, XTIT = 'numi_nu_true_Angle', 50, (0.,120.0), r\"Neutrino Angle off of NuMI Beamline [Deg]\"\n",
    "\n",
    "\n",
    "VARIABLE, BINS, RANGE, XTIT ='nu_e', 25, (0.,6.0), r\"True  Nue Energy [GeV]\"\n",
    "VARIABLE, BINS, RANGE, XTIT ='baseline', 50, (0.0,800), r\"Baseline [m]\"\n",
    "VARIABLE, BINS, RANGE, XTIT ='LOverE', 25, (0.0,2000), r\"L/E [m/GeV]\"\n",
    "\n",
    "kind = \"event_category\" \n",
    "kind = \"interaction\"\n",
    "kind = \"flux\"\n",
    "nutype = \"Nues\"\n",
    "\n",
    "\n",
    "fig, ax1, ax2,e = my_plotter.plot_variable(\n",
    "    VARIABLE,   \n",
    "    query= QUERY ,\n",
    "    kind=kind,\n",
    "    draw_sys  = sysBool, \n",
    "    draw_geoSys = sysBool, \n",
    "    draw_data = False,#True,\n",
    "    genieweight = \"weightSplineTimesTuneTimesPPFX\", #\"weightSplineTimesTuneTimesPPFX\", \n",
    "    stacksort=3,\n",
    "    ratio=False,\n",
    "    title=XTIT,\n",
    "    bins=BINS,\n",
    "    range=RANGE\n",
    ")[0:5]\n",
    "\n",
    "\n",
    "\n",
    "ax1.set_title('NuMI Run 1,  Nues, No Selection',loc='left')\n",
    "ax1.set_title('NuMI Run 1, Nues, 1eNp Selection',loc='left')\n",
    "#ax1.set_title('NuMI Run 1,  Nues, 1eNp, 0.85 > reco_e > 0.65',loc='left')\n",
    "\n",
    "#ax1.set_yscale('log')\n",
    "fig.tight_layout()\n",
    "fig.savefig(\"/Users/elenag/Desktop/PlotterLEE/plots/TrueNues/Georgia/\"+VARIABLE+\"_NuMI_run1_AllRecoE_\"+kind+\"_\"+nutype+\"_Post.pdf\")\n"
   ]
  },
  {
   "cell_type": "code",
   "execution_count": 188,
   "metadata": {},
   "outputs": [
    {
     "name": "stdout",
     "output_type": "stream",
     "text": [
      "669.5145399057303 632.277606974943\n",
      "1.1429882 1.3897277\n",
      "546.7459765383189 635.9161509458384\n",
      "\n",
      "\n",
      "667.6764972498905 629.9788011787789\n",
      "0.97254205 1.1027316\n",
      "641.8552540316175 696.7000615557228\n"
     ]
    }
   ],
   "source": [
    "QUERY = \"nu_pdg==12\"\n",
    "f_BL = nue.query(QUERY)['baseline']\n",
    "print(np.median(f_BL), np.mean(f_BL))\n",
    "f_NuE = nue.query(QUERY)['nu_e']\n",
    "print(np.median(f_NuE), np.mean(f_NuE))\n",
    "f_LOverE = nue.query(QUERY)['LOverE']\n",
    "print(np.median(f_LOverE), np.mean(f_LOverE))\n",
    "print()\n",
    "print()\n",
    "QUERY = \"nu_pdg==12\"+\" and \"+NPLCUTQ +\" and \"+ BDTCQ \n",
    "f_BL = nue.query(QUERY)['baseline']\n",
    "print(np.median(f_BL), np.mean(f_BL))\n",
    "f_NuE = nue.query(QUERY)['nu_e']\n",
    "print(np.median(f_NuE), np.mean(f_NuE))\n",
    "f_LOverE = nue.query(QUERY)['LOverE']\n",
    "print(np.median(f_LOverE), np.mean(f_LOverE))"
   ]
  },
  {
   "cell_type": "code",
   "execution_count": 142,
   "metadata": {},
   "outputs": [
    {
     "data": {
      "text/plain": [
       "\"\\nprint(np.percentile(f_numi, 10), np.max(f_numi))\\nf_numi = nue.query(QUERY)['numi_nu_true_Angle']\\nprint(np.percentile(f_numi, 98), np.min(f_numi))\\n#np.max(f_numi)\\n\""
      ]
     },
     "execution_count": 142,
     "metadata": {},
     "output_type": "execute_result"
    }
   ],
   "source": [
    "QUERY = \"nu_pdg==12\"\n",
    "QUERY = \"nu_pdg==12\" +\" and \"+NPLCUTQ +\" and \"+ BDTCQ \n",
    "f_numi = nue.query(QUERY)['numi_nu_true_Angle']\n",
    "angleX = np.sort(f_numi)\n",
    "angleY = angleX.cumsum()/angleX.sum()\n",
    "\n",
    "f_numi = nue.query(QUERY)['baseline']\n",
    "L_X = np.sort(f_numi)\n",
    "#L_sX = L_X[::-1]\n",
    "L_Y = L_X.cumsum()/L_X.sum()\n",
    "\n",
    "'''\n",
    "print(np.percentile(f_numi, 10), np.max(f_numi))\n",
    "f_numi = nue.query(QUERY)['numi_nu_true_Angle']\n",
    "print(np.percentile(f_numi, 98), np.min(f_numi))\n",
    "#np.max(f_numi)\n",
    "'''"
   ]
  },
  {
   "cell_type": "code",
   "execution_count": 144,
   "metadata": {},
   "outputs": [
    {
     "data": {
      "text/plain": [
       "'\\nax3.plot(x_values3, y_values3, color=\"C3\")\\nax3.set_xticks([])\\nax3.set_yticks([])\\n'"
      ]
     },
     "execution_count": 144,
     "metadata": {},
     "output_type": "execute_result"
    },
    {
     "data": {
      "image/png": "[encoded data removed]",
      "text/plain": [
       "<Figure size 432x288 with 2 Axes>"
      ]
     },
     "metadata": {},
     "output_type": "display_data"
    }
   ],
   "source": [
    "import matplotlib.pyplot as plt\n",
    "\n",
    "x_values1=L_X\n",
    "y_values1=L_Y\n",
    "\n",
    "x_values2=angleX\n",
    "y_values2=angleY\n",
    "\n",
    "fig=plt.figure()\n",
    "ax=fig.add_subplot(111, label=\"1\")\n",
    "ax2=fig.add_subplot(111, label=\"2\", frame_on=False)\n",
    "\n",
    "ax.plot(x_values1, y_values1, color=\"C0\")\n",
    "ax.set_xlabel(\"Length from Production [m]\", color=\"C0\")\n",
    "ax.set_ylabel(\"Cumulative\")\n",
    "ax.tick_params(axis='x', colors=\"C0\")\n",
    "ax.tick_params(axis='y', colors=\"b\")\n",
    "\n",
    "ax2.plot(x_values2, y_values2, color=\"C1\")\n",
    "ax2.xaxis.tick_top()\n",
    "#ax2.yaxis.tick_right()\n",
    "ax2.set_xlabel('Angle from NuMI On-Axis [Deg]', color=\"C1\")      \n",
    "ax2.xaxis.set_label_position('top') \n",
    "#ax2.yaxis.set_label_position('right') \n",
    "ax2.tick_params(axis='x', colors=\"C1\")\n",
    "#ax2.tick_params(axis='y', colors=\"C1\")\n",
    "plt.grid()\n",
    "plt.title('All NuMI Nues')\n",
    "plt.title('PeLEE 1eNp Selected NuMI Nues')\n",
    "\n",
    "'''\n",
    "ax3.plot(x_values3, y_values3, color=\"C3\")\n",
    "ax3.set_xticks([])\n",
    "ax3.set_yticks([])\n",
    "'''"
   ]
  },
  {
   "cell_type": "code",
   "execution_count": 170,
   "metadata": {},
   "outputs": [],
   "source": [
    "import matplotlib as mpl\n",
    "\n",
    "def scatPlotWithData(samples,weights,qry,tit,varx,rngx,binx,titx,vary,rngy,biny,tity,showData=False):\n",
    "    fig, ax = plt.subplots()\n",
    "    h=ax.hist2d(samples['nue'].query(qry)[varx], samples['nue'].query(qry)[vary],\n",
    "           weights=samples['nue'].query(qry)[\"weightSplineTimesTuneTimesPPFX\"]*weights['nue'],\n",
    "           bins=[binx,biny], \n",
    "           range=[rngx,rngy],\n",
    "           norm=mpl.colors.LogNorm())\n",
    "    ax.set_title(tit)\n",
    "    ax.set_xlabel(titx)\n",
    "    ax.set_ylabel(tity)\n",
    "    #ax.set_aspect('equal', adjustable='box')\n",
    "    fig.colorbar(h[3], ax=ax)\n",
    "\n",
    "    #ax.colorbar()\n",
    "    if showData: \n",
    "        qry = qry #+ \" and reco_e > 0.65\"\n",
    "        plt.plot(samples['data'].query(qry)[varx], samples['data'].query(qry)[vary], 'o', color='white')\n",
    "                \n",
    "    plt.show()\n",
    "    name = varx+\"_\"+vary+\"_NuMI.pdf\"\n",
    "    #fig.savefig(\"/Users/elenag/Desktop/PlotterLEE/plots/NearSideband/reco_e065/2D/\"+name)"
   ]
  },
  {
   "cell_type": "code",
   "execution_count": 171,
   "metadata": {},
   "outputs": [
    {
     "data": {
      "image/png": "[encoded data removed]",
      "text/plain": [
       "<Figure size 432x288 with 2 Axes>"
      ]
     },
     "metadata": {
      "needs_background": "light"
     },
     "output_type": "display_data"
    }
   ],
   "source": [
    "qry = \"nu_pdg==12\" \n",
    "tit = 'Nue Rate No Selection -- NuMI '\n",
    "showData = False\n",
    "scatPlotWithData(samples,weights,qry,tit,\"numi_nu_true_Angle\",(0,120),120,'Nu Angle Off-Axis [Deg]',\"baseline\",(0,700),70,'Baseline [m]',showData)\n"
   ]
  },
  {
   "cell_type": "code",
   "execution_count": null,
   "metadata": {},
   "outputs": [],
   "source": [
    "#print(ax2[0],ax2[1],ax2[2])\n",
    "print(type(ax2[0][1]))\n",
    "\n",
    "content = np.zeros_like(ax2[0][1])\n",
    "content = \n",
    "for a in ax2[0]:\n",
    "    print(ax2[0][6])\n",
    "    #content += a\n",
    "print(content)"
   ]
  },
  {
   "cell_type": "code",
   "execution_count": null,
   "metadata": {},
   "outputs": [],
   "source": [
    "x = np.arange(0, 3., 0.12)\n",
    "y = [0. ,   0.  ,  0.029, 0. ,   0.056, 1.352 ,3.427 ,3.232, 2.447, 1.677, 1.007, 0.529, 0.481, 0.296, 0.427, 0.044, 0.057, 0.034 ,0.011, 0.004 ,0.056 ,0.007 ,0.016 ,0.007,0.004]\n",
    "y  = y/np.sum(y)\n",
    "y1 = ax2[0][6]\n",
    "y1 = y1/np.sum(y1)\n",
    "print(x)\n",
    "plt.scatter(x,y,label=\"BNB\") \n",
    "plt.scatter(x,y1,label=\"NuMI\") \n",
    "plt.legend()\n",
    "plt.title(\"0.65 < reco_e < 0.85\")\n",
    "plt.xlabel(\"True Energy\")\n",
    "plt.ylabel(\"Density\")\n"
   ]
  },
  {
   "cell_type": "code",
   "execution_count": null,
   "metadata": {},
   "outputs": [],
   "source": [
    "import matplotlib.pyplot as plt\n",
    "import matplotlib\n",
    "sysBool = False\n",
    "#+ \" and run <= 6747\" \n",
    "\n",
    "\n",
    "ACCEPTANCE   = 'and isVtxInFiducial == 1 and truthFiducial == 1 and ccnc>=0 and npi0==0 and npion==0'\n",
    "QUERY += ACCEPTANCE \n",
    "QUERY = \"nu_pdg==12\" # and \"+NPLCUTQ +\" and \"+ BDTCQ \n",
    "QUERY = NPLCUTQ +\" and \"+ BDTCQ  + \"and reco_e > 0.65 \"\n",
    "\n",
    "\n",
    "VARIABLE, BINS, RANGE, XTIT = 'numi_nu_true_Angle', 20, (0.,9.0), r\"Neutrino Angle off of NuMI Beamline [Deg]\"\n",
    "\n",
    "\n",
    "VARIABLE, BINS, RANGE, XTIT = 'true_p_visible', 40, (0.,16.0), r\"True Momentum [GeV/c]\"\n",
    "VARIABLE, BINS, RANGE, XTIT = 'true_pt_visible', 20, (0.,2.0), r\"True Momentum Proj on r [GeV/c]\"\n",
    "VARIABLE, BINS, RANGE, XTIT = 'true_pz_visible', 40, (0.,10.0), r\"True Momentum Proj on Z [GeV/c]\"\n",
    "\n",
    "VARIABLE, BINS, RANGE, XTIT = 'true_nu_pz', 40, (0.,10.0), r\"True Momentum Proj on Z [GeV/c]\"\n",
    "VARIABLE, BINS, RANGE, XTIT = 'true_nu_px', 40, (0.,10.0), r\"True Momentum Proj on X [GeV/c]\"\n",
    "VARIABLE, BINS, RANGE, XTIT = 'true_nu_py', 40, (0.,10.0), r\"True Momentum Proj on Y [GeV/c]\"\n",
    "VARIABLE, BINS, RANGE, XTIT = 'nu_e', 25, (0.,6.0), r\"True  Nue Energy [GeV]\"\n",
    "\n",
    "nutype = \"Nues\"\n",
    "kind = \"flux\"\n",
    "kind = \"interaction\"\n",
    "kind = \"event_category\" \n",
    "\n",
    "fig, ax1, ax3,e = my_plotter.plot_variable(\n",
    "    VARIABLE,   \n",
    "    query= QUERY ,\n",
    "    kind=kind,\n",
    "    draw_sys  = sysBool, \n",
    "    draw_geoSys = sysBool, \n",
    "    draw_data = False,#True,\n",
    "    genieweight = \"weightSplineTimesTuneTimesPPFX\", #\"weightSplineTimesTuneTimesPPFX\", \n",
    "    stacksort=3,\n",
    "    ratio=False,\n",
    "    title=XTIT,\n",
    "    bins=BINS,\n",
    "    range=RANGE\n",
    ")[0:5]\n",
    "\n",
    "#ax1.set_title('NuMI Run 1, Nues, 1eNp Selection',loc='left')\n",
    "ax1.set_title('NuMI Run 1, Nues, No Selection',loc='left')\n",
    "ax1.set_title('NuMI Run 1,  Nues, 1eNp,  reco_e > 0.65',loc='left')\n",
    "\n",
    "#ax1.set_yscale('log')\n",
    "fig.tight_layout()\n",
    "fig.savefig(\"/Users/elenag/Desktop/PlotterLEE/plots/TrueNues/\"+VARIABLE+\"_NuMI_run1_AllRecoE_\"+kind+\"_\"+nutype+\"_RecoE.pdf\")\n"
   ]
  },
  {
   "cell_type": "code",
   "execution_count": null,
   "metadata": {},
   "outputs": [],
   "source": [
    "x = np.arange(0, 6., 0.24)\n",
    "y3 = [ 0.  ,   0.035 , 1.441 , 9.299, 12.149, 11.251 , 8.387,  6.578,  4.342,  2.805,\n",
    "  2.239,  1.155 , 0.853 , 0.539 , 0.449 , 0.409 , 0.173 , 0.21  , 0.051 , 0.026,\n",
    "  0.014  ,0.  ,   0. ,    0.  ,   0.  , ]\n",
    "print( ax3[0][8])\n",
    "y3  = y3/np.sum(y3)\n",
    "y1 = ax3[0][8]\n",
    "y1 = y1/np.sum(y1)\n",
    "#print(x)\n",
    "plt.scatter(x,y3,label=\"BNB\") \n",
    "plt.scatter(x,y1,label=\"NuMI\") \n",
    "plt.legend()\n",
    "plt.title(\"reco_e > 0.65\")\n",
    "plt.xlabel(\"True Energy\")\n",
    "plt.ylabel(\"Density\")\n"
   ]
  },
  {
   "cell_type": "code",
   "execution_count": null,
   "metadata": {},
   "outputs": [],
   "source": [
    "QUERY = \"nu_pdg==12\"\n",
    "f_numi = nue.query(QUERY)['LOverE']\n",
    "L_X = np.sort(f_numi)\n",
    "\n",
    "import matplotlib.pyplot as plt\n",
    "\n",
    "x_values1=L_X\n",
    "y_values1=L_Y\n",
    "\n",
    "x_values2=angleX\n",
    "y_values2=angleY\n",
    "\n",
    "fig=plt.figure()\n",
    "ax=fig.add_subplot(111, label=\"1\")\n",
    "ax2=fig.add_subplot(111, label=\"2\", frame_on=False)\n",
    "\n",
    "ax.plot(x_values1, y_values1, color=\"C0\")\n",
    "ax.set_xlabel(\"Length from Production [m]\", color=\"C0\")\n",
    "ax.set_ylabel(\"Cumulative\")\n",
    "ax.tick_params(axis='x', colors=\"C0\")\n",
    "ax.tick_params(axis='y', colors=\"b\")\n",
    "\n",
    "ax2.plot(x_values2, y_values2, color=\"C1\")\n",
    "ax2.xaxis.tick_top()\n",
    "#ax2.yaxis.tick_right()\n",
    "ax2.set_xlabel('Angle from NuMI On-Axis [Deg]', color=\"C1\")      \n",
    "ax2.xaxis.set_label_position('top') \n",
    "#ax2.yaxis.set_label_position('right') \n",
    "ax2.tick_params(axis='x', colors=\"C1\")\n",
    "#ax2.tick_params(axis='y', colors=\"C1\")\n",
    "plt.grid()\n",
    "plt.title('All NuMI Nues')\n",
    "plt.title('PeLEE 1eNp Selected NuMI Nues')\n",
    "\n",
    "'''\n",
    "ax3.plot(x_values3, y_values3, color=\"C3\")\n",
    "ax3.set_xticks([])\n",
    "ax3.set_yticks([])\n",
    "'''"
   ]
  },
  {
   "cell_type": "code",
   "execution_count": null,
   "metadata": {},
   "outputs": [],
   "source": [
    "901.8/913"
   ]
  },
  {
   "cell_type": "code",
   "execution_count": null,
   "metadata": {},
   "outputs": [],
   "source": []
  }
 ],
 "metadata": {
  "accelerator": "GPU",
  "colab": {
   "name": "Plotter.ipynb",
   "provenance": [],
   "version": "0.3.2"
  },
  "kernelspec": {
   "display_name": "Python 3",
   "language": "python",
   "name": "python3"
  },
  "language_info": {
   "codemirror_mode": {
    "name": "ipython",
    "version": 3
   },
   "file_extension": ".py",
   "mimetype": "text/x-python",
   "name": "python",
   "nbconvert_exporter": "python",
   "pygments_lexer": "ipython3",
   "version": "3.7.6"
  }
 },
 "nbformat": 4,
 "nbformat_minor": 2
}
