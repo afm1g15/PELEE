{
 "cells": [
  {
   "cell_type": "code",
   "execution_count": 103,
   "id": "13875a64",
   "metadata": {},
   "outputs": [],
   "source": [
    "#######################"
   ]
  },
  {
   "cell_type": "code",
   "execution_count": 1,
   "id": "84d55dcc",
   "metadata": {},
   "outputs": [],
   "source": [
    "\n",
    "\n",
    "nuwro = True\n",
    "ISRUN3 = False\n",
    "\n",
    "\n",
    "#True for normal, false for stat err\n",
    "#useWeights = True\n"
   ]
  },
  {
   "cell_type": "code",
   "execution_count": 2,
   "id": "16234578",
   "metadata": {},
   "outputs": [
    {
     "name": "stdout",
     "output_type": "stream",
     "text": [
      "Welcome to JupyROOT 6.24/02\n"
     ]
    }
   ],
   "source": [
    "import sys\n",
    "\n",
    "#sys.path.insert(0, 'backend_functions')\n",
    "\n",
    "#import selection_functions as sf\n",
    "\n",
    "import importlib\n",
    "\n",
    "import uproot\n",
    "import matplotlib.pylab as pylab\n",
    "import numpy as np\n",
    "import math\n",
    "from sklearn.model_selection import train_test_split\n",
    "import pickle\n",
    "import xgboost as xgb\n",
    "\n",
    "import awkward\n",
    "import matplotlib.pyplot as plt\n",
    "import pandas as pd\n",
    "\n",
    "import ROOT\n",
    "from ROOT import TH1F, TH2F, TDirectory, TH1D\n",
    "\n",
    "#import top \n",
    "#from top import *\n",
    "\n",
    "#importlib.reload(sf)\n",
    "#from selection_functions import *"
   ]
  },
  {
   "cell_type": "code",
   "execution_count": 3,
   "id": "8f915b84",
   "metadata": {},
   "outputs": [],
   "source": [
    "\n",
    "\n",
    "fold = \"nuselection\"\n",
    "tree = \"NeutrinoSelectionFilter\"\n",
    "\n"
   ]
  },
  {
   "cell_type": "code",
   "execution_count": 4,
   "id": "cc93cf39",
   "metadata": {},
   "outputs": [],
   "source": [
    "if nuwro: \n",
    "    path = \"/media/alex/TOSHIBA EXT/\""
   ]
  },
  {
   "cell_type": "code",
   "execution_count": 5,
   "id": "97dce84d",
   "metadata": {},
   "outputs": [],
   "source": [
    "\n",
    "\n",
    "if nuwro: \n",
    "    overlay = uproot.open(path+\"neutrinoselection_filt_run1_overlay_nuwro.root\")[fold][tree]\n",
    "    nue = uproot.open(path+\"neutrinoselection_filt_run1_overlay_nuwro_intrinsic.root\")[fold][tree]\n",
    "\n",
    "uproot_v = [overlay,nue]"
   ]
  },
  {
   "cell_type": "code",
   "execution_count": 6,
   "id": "f844e58a",
   "metadata": {},
   "outputs": [
    {
     "name": "stdout",
     "output_type": "stream",
     "text": [
      "['weightSplineTimesTune', 'shrsubclusters2', 'nu_pdg', 'true_nu_pz', 'shr_energy_tot_cali', 'true_nu_px', '_opfilter_pe_veto', 'trk_sce_end_z_v', 'shrmoliereavg', 'shr_pz', 'shr_score', 'trk_theta', 'trk_mcs_muon_mom_v', 'shr_px', 'shr_phi', 'reco_nu_vtx_sce_z', 'trk_range_muon_mom_v', 'muon_e', 'shr_tkfit_npoints', 'shr_py', 'n_showers_contained', 'reco_nu_vtx_sce_y', 'true_nu_vtx_sce_y', 'NeutrinoEnergy2', 'elec_py', 'ppfx_cv', 'swtrig_pre', 'true_nu_vtx_y', 'shr_energy_cali', 'mc_py', 'npion', 'selected', 'contained_fraction', 'true_nu_vtx_sce_x', 'run', 'trk_energy_tot', 'npi0', '_opfilter_pe_beam', 'nu_e', 'mc_px', 'nproton', 'tksh_angle', 'true_nu_py', 'trk_energy_muon', 'elec_pz', 'mc_pz', 'true_nu_vtx_z', 'trk_energy', 'mc_pdg', 'opening_angle', 'mc_E', 'true_nu_vtx_sce_z', 'interaction', 'elec_e', 'true_e_visible', 'trk_sce_end_y_v', 'topological_score', 'trk_sce_end_x_v', 'ccnc', 'reco_nu_vtx_sce_x', 'weightTune', 'trk_phi', 'true_nu_vtx_x', 'shr_tkfit_dedx_Y', 'shrsubclusters0', 'proton_e', 'shrsubclusters1', 'shr_tkfit_npointsvalid', 'trk_score_v', 'shr_theta', 'elec_px', 'tksh_distance', 'trkshrhitdist2', 'n_tracks_contained', 'nslice']\n"
     ]
    }
   ],
   "source": [
    "\n",
    "\n",
    "variables = [\n",
    "    \"selected\", \"nu_pdg\", \n",
    "    \"trk_score_v\", \"_opfilter_pe_beam\", \"_opfilter_pe_veto\",\n",
    "    \"shr_tkfit_dedx_Y\", \"trk_theta\", \"trk_phi\",\n",
    "    \"ccnc\", \"shr_px\", \"shr_py\", \"shr_pz\",\n",
    "    \"n_tracks_contained\", \n",
    "    \"NeutrinoEnergy2\", \"shr_theta\", \"shr_phi\",\n",
    "    \"reco_nu_vtx_sce_x\",\"reco_nu_vtx_sce_y\",\"reco_nu_vtx_sce_z\",\n",
    "    \"true_nu_vtx_x\", \"true_nu_vtx_y\" , \"true_nu_vtx_z\", \n",
    "    \"nproton\", \"nu_e\", \"n_showers_contained\",\n",
    "    \"shr_score\", \"topological_score\",\n",
    "    \"trk_energy\", \"tksh_distance\", \"tksh_angle\",\n",
    "    \"npi0\", \"trk_mcs_muon_mom_v\", \"trk_range_muon_mom_v\",\n",
    "    \"shr_energy_tot_cali\", \"shr_energy_cali\", \n",
    "    \"nslice\", \"true_nu_vtx_sce_x\", \"true_nu_vtx_sce_y\", \"true_nu_vtx_sce_z\",\n",
    "    \"contained_fraction\", \"trk_energy_tot\",\n",
    "    \"npion\", \"trk_sce_end_z_v\", \"trk_sce_end_y_v\", \"trk_sce_end_x_v\",\n",
    "    \"shrmoliereavg\", \"muon_e\", \"proton_e\", \"trk_energy_muon\",\n",
    "    \"shrsubclusters0\",\"shrsubclusters1\",\"shrsubclusters2\", \n",
    "    \"shr_tkfit_npointsvalid\",\"shr_tkfit_npoints\", \"true_e_visible\", \"trkshrhitdist2\", \n",
    "    \"weightSplineTimesTune\", \"weightTune\", \"true_nu_px\", \"true_nu_py\", \"true_nu_pz\", \n",
    "    \"elec_e\", \"proton_e\", \"mc_px\", \"mc_py\", \"mc_pz\", \"elec_px\", \"elec_py\", \"elec_pz\", \n",
    "    \"swtrig_pre\", \"ppfx_cv\", \"mc_pdg\",  'interaction', 'run', \"opening_angle\", \"mc_E\"]\n",
    "\n",
    "\n",
    "variables = list(set(variables))\n",
    "print(variables)\n"
   ]
  },
  {
   "cell_type": "code",
   "execution_count": 7,
   "id": "3501ff6c",
   "metadata": {},
   "outputs": [
    {
     "name": "stdout",
     "output_type": "stream",
     "text": [
      "trk_llr_pid_v  [[] [] [0.96992034 -0.031569537] ... [0.96793294 0.40650022] [] []]\n",
      "trk_score_v  [[] [] [0.9998714 0.50025755] ... [1.0 0.35099977] [] []]\n"
     ]
    },
    {
     "name": "stderr",
     "output_type": "stream",
     "text": [
      "/home/alex/miniconda3/envs/vintageXgboostVintageUprootEnv/lib/python3.8/site-packages/awkward/array/jagged.py:1043: RuntimeWarning: overflow encountered in power\n",
      "  result = getattr(ufunc, method)(*inputs, **kwargs)\n",
      "/home/alex/miniconda3/envs/vintageXgboostVintageUprootEnv/lib/python3.8/site-packages/awkward/array/jagged.py:1043: RuntimeWarning: overflow encountered in true_divide\n",
      "  result = getattr(ufunc, method)(*inputs, **kwargs)\n"
     ]
    },
    {
     "name": "stdout",
     "output_type": "stream",
     "text": [
      "updated proton mask test\n",
      "runtime =  31.89397120475769\n"
     ]
    }
   ],
   "source": [
    "import load_data_run123\n",
    "\n",
    "#overlay = overlay.pandas.df(variables, flatten=False)\n",
    "import time\n",
    "s = time.time()\n",
    "\n",
    "#df_v = [overlay]\n",
    "uproot_v = [overlay]\n",
    "var_v = [variables]\n",
    "\n",
    "for ii, CV in enumerate(uproot_v):\n",
    "    CVDF  = CV.pandas.df(var_v[ii], flatten=False)\n",
    "    load_data_run123.process_uproot_numu(CV,CVDF)\n",
    "    if ii == 0:\n",
    "        overlay = CVDF\n",
    "\n",
    "s2 = time.time()\n",
    "print(\"runtime = \", s2-s)"
   ]
  },
  {
   "cell_type": "code",
   "execution_count": 8,
   "id": "a12407c9",
   "metadata": {},
   "outputs": [
    {
     "name": "stdout",
     "output_type": "stream",
     "text": [
      "trk_llr_pid_v  [[-0.78143746 0.38416666] [0.87407523] [0.95106965 0.9559888 0.9254303 0.15696444] ... [] [0.9717339] [0.964979 0.9468219 0.45449623 ... 0.40842512 0.27252463 -0.024122704]]\n",
      "trk_score_v  [[0.9562631 0.6825045] [0.003897016] [0.20598558 0.9998898 0.8317998 0.6877012] ... [] [0.025898064] [0.0025717707 0.99560267 0.0046345955 ... 0.046564847 0.04777992 0.8479064]]\n",
      "updated proton mask test\n",
      "runtime =  27.190153121948242\n"
     ]
    }
   ],
   "source": [
    "\n",
    "\n",
    "#nue = nue.pandas.df(variables, flatten=False)\n",
    "\n",
    "import time\n",
    "s = time.time()\n",
    "\n",
    "#df_v = [overlay]\n",
    "uproot_v = [nue]\n",
    "var_v = [variables]\n",
    "\n",
    "for ii, CV in enumerate(uproot_v):\n",
    "    CVDF  = CV.pandas.df(var_v[ii], flatten=False)\n",
    "    load_data_run123.process_uproot_numu(CV,CVDF)\n",
    "    if ii == 0:\n",
    "        nue = CVDF\n",
    "\n",
    "s2 = time.time()\n",
    "print(\"runtime = \", s2-s)"
   ]
  },
  {
   "cell_type": "code",
   "execution_count": 9,
   "id": "400907ac",
   "metadata": {},
   "outputs": [],
   "source": [
    "df_v = [overlay,nue]\n",
    "uproot_v = [overlay,nue]"
   ]
  },
  {
   "cell_type": "code",
   "execution_count": 10,
   "id": "093dd0b5",
   "metadata": {},
   "outputs": [
    {
     "name": "stdout",
     "output_type": "stream",
     "text": [
      "280045\n",
      "132027\n"
     ]
    }
   ],
   "source": [
    "for i,df in enumerate(df_v):  \n",
    "    df[\"bnbdata\"] = np.zeros_like(df[\"nslice\"])\n",
    "    df[\"extdata\"] = np.zeros_like(df[\"nslice\"])\n",
    "    print(len(df[\"extdata\"]))"
   ]
  },
  {
   "cell_type": "code",
   "execution_count": 11,
   "id": "09e93a02",
   "metadata": {},
   "outputs": [
    {
     "data": {
      "text/plain": [
       "\"\\ndf_v = [overlay,nue]\\n\\n\\nfor i,df in enumerate(df_v):\\n    up = uproot_v[i]\\n    trk_llr_pid_v = up.array('trk_llr_pid_score_v')\\n    trk_id = up.array('trk_id')-1 # I think we need this -1 to get the right result\\n    trk_llr_pid_v_sel = awkward.fromiter([pidv[tid] if tid<len(pidv) else 9999. for pidv,tid in zip(trk_llr_pid_v,trk_id)])\\n    df['trkpid'] = trk_llr_pid_v_sel\\n    df['subcluster'] = df['shrsubclusters0'] + df['shrsubclusters1'] + df['shrsubclusters2']\\n\\n    df['NeutrinoEnergy2_GeV'] = df['NeutrinoEnergy2']/1000\\n\\n\""
      ]
     },
     "execution_count": 11,
     "metadata": {},
     "output_type": "execute_result"
    }
   ],
   "source": [
    "\"\"\"\n",
    "df_v = [overlay,nue]\n",
    "\n",
    "\n",
    "for i,df in enumerate(df_v):\n",
    "    up = uproot_v[i]\n",
    "    trk_llr_pid_v = up.array('trk_llr_pid_score_v')\n",
    "    trk_id = up.array('trk_id')-1 # I think we need this -1 to get the right result\n",
    "    trk_llr_pid_v_sel = awkward.fromiter([pidv[tid] if tid<len(pidv) else 9999. for pidv,tid in zip(trk_llr_pid_v,trk_id)])\n",
    "    df['trkpid'] = trk_llr_pid_v_sel\n",
    "    df['subcluster'] = df['shrsubclusters0'] + df['shrsubclusters1'] + df['shrsubclusters2']\n",
    "\n",
    "    df['NeutrinoEnergy2_GeV'] = df['NeutrinoEnergy2']/1000\n",
    "\n",
    "\"\"\""
   ]
  },
  {
   "cell_type": "code",
   "execution_count": 12,
   "id": "f68e58f3",
   "metadata": {},
   "outputs": [],
   "source": [
    "from scipy.spatial.transform import Rotation as R\n",
    "from numpy import arccos, array\n",
    "from numpy.linalg import norm\n",
    "\n",
    "# Note: returns angle in radians\n",
    "def theta(v, w): return arccos(v.dot(w)/(norm(v)*norm(w)))* 180 / 3.1415926\n",
    "\n",
    "def GetNuMIAngle( px,  py,  pz):\n",
    "    r = R.from_matrix([[0.92103853804025681562   , 0.022713504803924120662, 0.38880857519374290021  ],\n",
    "                       [4.6254001262154668408e-05, 0.99829162468141474651 , -0.058427989452906302359],\n",
    "                       [-0.38947144863934973769  , 0.053832413938664107345, 0.91946400794392302291  ]])  \n",
    "    r = r.inv()\n",
    "    beamCoords = r.apply([px,  py,  pz])\n",
    "    beamDir    = [0,0,1]\n",
    "    #print(theta(beamCoords,beamDir))\n",
    "    return theta(beamCoords,beamDir)\n",
    "\n",
    "def GetNuMIAnglePol( phiBNB,  thetaBNB):\n",
    "    px = math.sin(thetaBNB)*math.cos(phiBNB)\n",
    "    py = math.sin(thetaBNB)*math.sin(phiBNB)\n",
    "    pz = math.cos(thetaBNB)\n",
    "    return GetNuMIAngle( px,  py,  pz)"
   ]
  },
  {
   "cell_type": "code",
   "execution_count": 13,
   "id": "02a7f29c",
   "metadata": {},
   "outputs": [
    {
     "data": {
      "text/plain": [
       "1.8690124908136228"
      ]
     },
     "execution_count": 13,
     "metadata": {},
     "output_type": "execute_result"
    }
   ],
   "source": [
    "def vectorFromNuMITarget(vtxX,  vtxY, vtxZ):\n",
    "    numiTarget      = np.array([-31387.58422, -3316.402543, -60100.2414])\n",
    "    nuInteraction   = np.array([vtxX,  vtxY, vtxZ])\n",
    "    directionVector = nuInteraction - numiTarget\n",
    "    return directionVector\n",
    "\n",
    "def angleFromNuMITarget(vtxX,  vtxY, vtxZ, thetaBNB, phiBNB):\n",
    "    v1 = vectorFromNuMITarget(vtxX,  vtxY, vtxZ)  \n",
    "    norm = np.linalg.norm(v1)\n",
    "    v1 = v1/norm\n",
    "    v2 = [np.cos(phiBNB)*np.sin(thetaBNB),np.sin(phiBNB)*np.sin(thetaBNB), np.cos(thetaBNB) ]\n",
    "    dot_product = np.dot(v1, v2)\n",
    "    angle = np.arccos(dot_product)\n",
    "    return angle #dot_product # angle*180/3.14159265\n",
    "\n",
    "\n",
    "\n",
    "angleFromNuMITarget(1,1,1,1.4,3.)"
   ]
  },
  {
   "cell_type": "code",
   "execution_count": 14,
   "id": "11bd47d2",
   "metadata": {},
   "outputs": [],
   "source": [
    "#Calculate the total KE of all protons\n",
    "#proton_e is only that of the highest energy proton\n",
    "\n",
    "\n",
    "Mp = 0.938272046\n",
    "\n",
    "for entry in df_v:\n",
    "    # Each of the things here is a column of arrays\n",
    "    # First, set everywhere that is 2212 = True and False otherwise\n",
    "    mask_2 = entry[\"mc_pdg\"].apply(lambda x: np.array(2212 == x))\n",
    "    # Now find which entries contain a 2212 value\n",
    "    mask_1 = mask_2.apply(lambda x: np.any(x))\n",
    "    # Next do the maths to the entries (we'll mask out unwanted bits later)\n",
    "    mask_3 = entry[\"mc_E\"].apply(lambda x: np.array(x > (0.04 + Mp)))\n",
    "    # As the contents of mask_2 and mask_3 are arrays, this * operation\n",
    "    # will multiply every element of mask_2 by every element of mask_3\n",
    "    # Essentially performing an elementwise AND on every element\n",
    "    mask_4 = mask_2 * mask_3\n",
    "    # Default value => 0 where no mask is true\n",
    "    entry[\"proton_total_KE\"] = np.zeros_like(entry[\"proton_e\"].values)\n",
    "    # Finally for every place mask_4 applies, we want the mc_E value less Mp summed\n",
    "    nums = (((entry.loc[:, \"mc_E\"] - Mp) * mask_4)).apply(lambda x: np.sum(x))\n",
    "    # And finally, plonk this value into the dataframe\n",
    "    entry.loc[mask_1, \"proton_total_KE\"] = nums[mask_1]\n"
   ]
  },
  {
   "cell_type": "code",
   "execution_count": 15,
   "id": "a4f973c8",
   "metadata": {},
   "outputs": [],
   "source": [
    "for i,df in enumerate(df_v):\n",
    "    df[\"reco_e\"] = df[\"trk_energy_muon\"] + df[\"trk_energy_tot\"] + 0.105\n",
    "    df[\"true_e\"] = df[\"muon_e\"] + df[\"proton_total_KE\"]"
   ]
  },
  {
   "cell_type": "code",
   "execution_count": 16,
   "id": "b7acd310",
   "metadata": {},
   "outputs": [],
   "source": [
    "#RERUN IF CHANGING\n",
    "\n",
    "isTruth = False\n",
    "\n",
    "if isTruth == False:\n",
    "\n",
    "    nue.query(\"nu_e > 0 and nslice == 1 and ( (_opfilter_pe_beam > 0 and _opfilter_pe_veto < 20) or bnbdata == 1 or extdata == 1)\\\n",
    "    and reco_nu_vtx_sce_x > 15 and reco_nu_vtx_sce_x < 245 \\\n",
    "    and reco_nu_vtx_sce_y > -105 and reco_nu_vtx_sce_y < 105 \\\n",
    "    and reco_nu_vtx_sce_z > 10 and reco_nu_vtx_sce_z < 990 \\\n",
    "    and n_muons_tot > 0 and n_protons_tot > 0 and n_showers_contained==0 \\\n",
    "    and contained_fraction> 0.95 and topological_score > 0.3\", inplace=True)\n",
    "\n",
    "    overlay.query(\"nu_e > 0 and nslice == 1 and ( (_opfilter_pe_beam > 0 and _opfilter_pe_veto < 20) or bnbdata == 1 or extdata == 1)\\\n",
    "    and reco_nu_vtx_sce_x > 15 and reco_nu_vtx_sce_x < 245 \\\n",
    "    and reco_nu_vtx_sce_y > -105 and reco_nu_vtx_sce_y < 105 \\\n",
    "    and reco_nu_vtx_sce_z > 10 and reco_nu_vtx_sce_z < 990 \\\n",
    "    and n_muons_tot > 0 and n_protons_tot > 0 and n_showers_contained==0 \\\n",
    "    and contained_fraction> 0.95 and topological_score > 0.3\", inplace=True)\n",
    "\n",
    "elif isTruth == True:\n",
    "    nue.query(\"nu_e > 0 and swtrig_pre == 1 \\\n",
    "    and true_nu_vtx_sce_x > 10 and true_nu_vtx_sce_x < 246 \\\n",
    "    and true_nu_vtx_sce_y > -106 and true_nu_vtx_sce_y < 106 \\\n",
    "    and true_nu_vtx_sce_z > 10 and true_nu_vtx_sce_z < 1026 \\\n",
    "    and nproton > 0 and npion == 0 and npi0 == 0\", inplace=True)#and nu_pdg==14 and ccnc == 0 \\\n",
    "\n",
    "    overlay.query(\"nu_e > 0 and swtrig_pre == 1 \\\n",
    "    and true_nu_vtx_sce_x > 10 and true_nu_vtx_sce_x < 246 \\\n",
    "    and true_nu_vtx_sce_y > -106 and true_nu_vtx_sce_y < 106 \\\n",
    "    and true_nu_vtx_sce_z > 10 and true_nu_vtx_sce_z < 1026 \\\n",
    "    and nproton > 0 and npion == 0 and npi0 == 0\", inplace=True)"
   ]
  },
  {
   "cell_type": "code",
   "execution_count": 17,
   "id": "eb6ac920",
   "metadata": {},
   "outputs": [],
   "source": [
    "######################### plot categories ##############################\n",
    "# everything must pass software trigger ! \n",
    "\n",
    "in_fv_query = \"10<=true_nu_vtx_x<=246 and -106<=true_nu_vtx_y<=106 and 10<=true_nu_vtx_z<=1026\"\n",
    "out_fv_query = \"((true_nu_vtx_x<10 or true_nu_vtx_x>246) or (true_nu_vtx_y<-106 or true_nu_vtx_y>106) or (true_nu_vtx_z<10 or true_nu_vtx_z>1026))\"\n",
    "\n",
    "nue_CC_Npi0 = 'swtrig_pre==1 and ((nu_pdg==12 or nu_pdg==-12) and ccnc==0 and npi0>=1)'\n",
    "nue_CC_0pi0 = 'swtrig_pre==1 and ((nu_pdg==12 or nu_pdg==-12) and ccnc==0 and npi0==0)'\n",
    "\n",
    "nue_NC_Npi0 = 'swtrig_pre==1 and ((nu_pdg==12 or nu_pdg==-12) and ccnc==1 and npi0>=1)'\n",
    "nue_NC_0pi0 = 'swtrig_pre==1 and ((nu_pdg==12 or nu_pdg==-12) and ccnc==1 and npi0==0)'\n",
    "\n",
    "numubar_1eNp = 'swtrig_pre==1 and ((nu_pdg==-14 and ccnc==0 and nproton>0 and npion==0 and npi0==0))'\n",
    "numu_NC = 'swtrig_pre==1 and ((nu_pdg==14 or nu_pdg==-14) and ccnc==1)'\n",
    "\n",
    "numu_CCother = 'swtrig_pre==1 and (((nu_pdg==14 and ccnc==0) and (nproton==0 or npi0>0 or npion>0)) or (nu_pdg==-14 and ccnc==0 and (nproton==0 or npion>0 or npi0>0)))'\n",
    "\n",
    "# less specific categories \n",
    "numu_other = 'swtrig_pre==1 and (((nu_pdg==14 or nu_pdg==-14) and ccnc==1) or (((nu_pdg==14 and ccnc==0) and (nproton==0 or npi0>0 or npion>0)) or (nu_pdg==-14 and ccnc==0)))'\n",
    "nue_Npi0 = 'swtrig_pre==1 and ( (nu_pdg==12 or nu_pdg==-12) and npi0>=1)'\n",
    "nue_0pi0 = 'swtrig_pre==1 and ( (nu_pdg==12 or nu_pdg==-12) and npi0==0)'\n",
    "\n",
    "# signal vs. not signal \n",
    "signal = in_fv_query+' and  swtrig_pre==1 and (nu_pdg==14 and ccnc==0 and nproton>0 and npion==0 and npi0==0)'\n",
    "not_signal = \"(swtrig_pre==0) or (swtrig_pre==1 and (\" + out_fv_query+' or (nu_pdg!=14) or (nu_pdg==14 and ccnc==1) or (nu_pdg==12 and ccnc==0 and (nproton==0 or npi0>0 or npion>0)) ))'\n",
    "\n",
    "# for replacing nue CC \n",
    "in_AV_query = \"-1.55<=true_nu_vtx_x<=254.8 and -116.5<=true_nu_vtx_y<=116.5 and 0<=true_nu_vtx_z<=1036.8\"\n",
    "nueCC_query = 'abs(nu_pdg)==12 and ccnc==0 and '+in_AV_query"
   ]
  },
  {
   "cell_type": "code",
   "execution_count": 18,
   "id": "8dca935a",
   "metadata": {},
   "outputs": [],
   "source": [
    "overlay = overlay.query('swtrig_pre==1')\n",
    "nue = nue.query('swtrig_pre==1')"
   ]
  },
  {
   "cell_type": "code",
   "execution_count": 19,
   "id": "3360bc30",
   "metadata": {},
   "outputs": [],
   "source": [
    "mc_df = [overlay, nue]"
   ]
  },
  {
   "cell_type": "code",
   "execution_count": 20,
   "id": "51227bc9",
   "metadata": {},
   "outputs": [],
   "source": [
    "def addAngles(df): #From Katrina\n",
    "    \n",
    "    ## rotation matrix -- convert detector to beam coordinates\n",
    "    R = [\n",
    "        [0.921,   4.625e-05,     -0.3895],\n",
    "        [0.02271,    0.9983,     0.05383],\n",
    "        [0.3888,   -0.05843,      0.9195]\n",
    "    ]\n",
    "    det_origin_beamcoor = [5502.0, 7259.0,  67270.0]\n",
    "     \n",
    "    # angles in detector coordinates\n",
    "    df['thdet'] = np.arctan2(((df['true_nu_px']*df['true_nu_px'])+(df['true_nu_py']*df['true_nu_py']))**(1/2), df['true_nu_pz'])*(180/math.pi)\n",
    "    df['phidet'] = np.arctan2(df['true_nu_py'], df['true_nu_px'])*(180/math.pi)\n",
    "        \n",
    "    # get true momentum in beam coordinates\n",
    "    df['true_nu_px_beam'] = R[0][0]*df['true_nu_px'] + R[0][1]*df['true_nu_py'] + R[0][2]*df['true_nu_pz']\n",
    "    df['true_nu_py_beam'] = R[1][0]*df['true_nu_px'] + R[1][1]*df['true_nu_py'] + R[1][2]*df['true_nu_pz']\n",
    "    df['true_nu_pz_beam'] = R[2][0]*df['true_nu_px'] + R[2][1]*df['true_nu_py'] + R[2][2]*df['true_nu_pz']\n",
    "    \n",
    "    # angles in beam coordinates\n",
    "    df['thbeam'] = np.arctan2(((df['true_nu_px_beam']*df['true_nu_px_beam'])+(df['true_nu_py_beam']*df['true_nu_py_beam']))**(1/2), df['true_nu_pz_beam'])*(180/math.pi)\n",
    "    df['phibeam'] = np.arctan2(df['true_nu_py_beam'], df['true_nu_px_beam'])*(180/math.pi)\n",
    "        \n",
    "    return df"
   ]
  },
  {
   "cell_type": "code",
   "execution_count": 21,
   "id": "1a35bf35",
   "metadata": {},
   "outputs": [],
   "source": [
    "# use offline flux weights\n",
    "def offline_flux_weights(df, ISRUN3): \n",
    "    \n",
    "    if ISRUN3: \n",
    "        print(\"No ppfx maps for RHC!\")\n",
    "    \n",
    "    else: \n",
    "        f = ROOT.TFile.Open(path+\"ppfx_maps.root\", \"READ\")\n",
    "    \n",
    "    numu_map = f.Get(\"numu_ratio\")\n",
    "    numubar_map = f.Get(\"numubar_ratio\")\n",
    "    nue_map = f.Get(\"nue_ratio\")\n",
    "    nuebar_map = f.Get(\"nuebar_ratio\")\n",
    "    \n",
    "    nu_flav = list(df['nu_pdg'])\n",
    "    angle = list(df['thbeam'])\n",
    "    true_energy = list(df['nu_e'])\n",
    "\n",
    "    fluxweights = []\n",
    "\n",
    "    for i in range(len(nu_flav)): \n",
    "        if nu_flav[i]==14: \n",
    "            h = numu_map\n",
    "        elif nu_flav[i]==-14: \n",
    "            h = numubar_map\n",
    "        elif nu_flav[i]==12: \n",
    "            h = nue_map\n",
    "        elif nu_flav[i]==-12: \n",
    "            h = nuebar_map\n",
    "        else: \n",
    "            print(\"No map to match PDG code!\")\n",
    "        \n",
    "        fluxweights.append( h.GetBinContent(h.FindBin(true_energy[i], angle[i])) )\n",
    "\n",
    "    df['ppfx_cv'] = fluxweights\n",
    "    #mc_df[0]['weightFlux'] = fluxweights\n",
    "    #mc_df[1]['weightFlux'] = [1 for i in range(len(mc_df[1]))] # for now \n",
    "    \n",
    "    f.Close()\n",
    "    \n",
    "    return df"
   ]
  },
  {
   "cell_type": "code",
   "execution_count": 22,
   "id": "e10b5ddb",
   "metadata": {
    "scrolled": true
   },
   "outputs": [],
   "source": [
    "\n",
    "\n",
    "for i,df in enumerate(mc_df):\n",
    "    \n",
    "    # is signal bool \n",
    "    df['is_signal'] = np.where((df.swtrig_pre == 1)\n",
    "                             & (df.nu_pdg==14) & (df.ccnc==0) & (df.nproton>0) & (df.npion==0) & (df.npi0==0)\n",
    "                             & (10 <= df.true_nu_vtx_x) & (df.true_nu_vtx_x <= 246)\n",
    "                             & (-106 <= df.true_nu_vtx_y) & (df.true_nu_vtx_y <= 106)\n",
    "                             & (10 <= df.true_nu_vtx_z) & (df.true_nu_vtx_z <= 1026), True, False)\n",
    "    \n",
    "    # Add truth level theta & phi angles (detector & beam coordinates)\n",
    "    df = addAngles(df)\n",
    "    \n",
    "    # add binned ppfx weights\n",
    "    if nuwro: \n",
    "        df = offline_flux_weights(df, ISRUN3)\n",
    "    \n",
    "\n"
   ]
  },
  {
   "cell_type": "code",
   "execution_count": 23,
   "id": "7620a004",
   "metadata": {},
   "outputs": [
    {
     "name": "stdout",
     "output_type": "stream",
     "text": [
      "True\n",
      "True\n",
      "395\n",
      "395\n"
     ]
    }
   ],
   "source": [
    "print(len(nue.query('is_signal==True'))==len(nue.query(signal)))\n",
    "print(len(nue.query('is_signal==False'))==len(nue.query(not_signal)))\n",
    "\n",
    "print(len(nue.query('is_signal==False')))\n",
    "print(len(nue.query(not_signal)))"
   ]
  },
  {
   "cell_type": "code",
   "execution_count": 24,
   "id": "f143b298",
   "metadata": {},
   "outputs": [],
   "source": [
    "\n",
    "\n",
    "# clean bad weights & values \n",
    "\n",
    "for i,df in enumerate(mc_df):\n",
    "     \n",
    "    df.loc[ df['weightSplineTimesTune'] <= 0, 'weightSplineTimesTune' ] = 1.\n",
    "    df.loc[ df['weightSplineTimesTune'] == np.inf, 'weightSplineTimesTune' ] = 1.\n",
    "    df.loc[ df['weightSplineTimesTune'] > 100, 'weightSplineTimesTune' ] = 1.\n",
    "    df.loc[ np.isnan(df['weightSplineTimesTune']) == True, 'weightSplineTimesTune' ] = 1.\n",
    "    \n",
    "    df.loc[ df['weightTune'] <= 0, 'weightTune' ] = 1.\n",
    "    df.loc[ df['weightTune'] == np.inf, 'weightTune' ] = 1.\n",
    "    df.loc[ df['weightTune'] > 100, 'weightTune' ] = 1.\n",
    "    df.loc[ np.isnan(df['weightTune']) == True, 'weightTune' ] = 1.  \n",
    "\n",
    "     \n",
    "\n"
   ]
  },
  {
   "cell_type": "code",
   "execution_count": 25,
   "id": "48fa0e8d",
   "metadata": {},
   "outputs": [
    {
     "name": "stdout",
     "output_type": "stream",
     "text": [
      "395\n"
     ]
    }
   ],
   "source": [
    "# scale down the number of events to match data POT \n",
    "\n",
    "#nue = nue[:round(len(nue)*0.0119)]   #1519\n",
    "#overlay = overlay[:round(len(overlay)*0.301)]  #67370\n",
    "\n",
    "#print(len(nue))\n",
    "\n",
    "\n",
    "\n",
    "#print(len(nue[:round(len(nue)*0.0119)]))\n",
    "#print(len(overlay[:round(len(overlay)*0.301)]))\n",
    "\n",
    "#nue = nue[round(len(nue)*0.0119):round((len(nue)*0.0119)*2) ]   #1519\n",
    "#overlay = overlay[round(len(overlay)*0.301):round((len(overlay)*0.301)*2)]  #67370\n",
    "\n",
    "print((len(nue)))"
   ]
  },
  {
   "cell_type": "code",
   "execution_count": 26,
   "id": "160b1fc4",
   "metadata": {},
   "outputs": [],
   "source": [
    "\n",
    "\n",
    "# POT normalization - scale to data \n",
    "\n",
    "if ISRUN3: \n",
    "    data_pot = 5.0E20\n",
    "else: \n",
    "    data_pot = 2.0E20\n",
    "\n",
    "if nuwro==True: \n",
    "    overlay['pot_scale'] = data_pot/6.64422e+20\n",
    "    nue['pot_scale'] = data_pot/1.68375e+22\n",
    "\n",
    "else: \n",
    "    overlay = pot_scale(overlay, 'overlay', ISRUN3)\n",
    "    nue = pot_scale(nue, 'intrinsic', ISRUN3)\n",
    "    \n",
    "    #overlay['pot_scale'] = data_pot/2.33652e+21\n",
    "    #nue['pot_scale'] = data_pot/2.37838e+22\n",
    "\n"
   ]
  },
  {
   "cell_type": "code",
   "execution_count": 27,
   "id": "2b28a624",
   "metadata": {},
   "outputs": [],
   "source": [
    "\n",
    "\n",
    "if nuwro == True: \n",
    "\n",
    "    overlay['totweight_data'] = (overlay['pot_scale']*overlay['ppfx_cv'])\n",
    "    nue['totweight_data'] = (nue['pot_scale']*nue['ppfx_cv'])\n",
    "\n",
    "else: \n",
    "    \n",
    "    overlay['totweight_data'] = overlay['pot_scale']*overlay['ppfx_cv']*overlay['weightSplineTimesTune']\n",
    "    nue['totweight_data'] = nue['pot_scale']*nue['ppfx_cv']*nue['weightSplineTimesTune']\n",
    "\n"
   ]
  },
  {
   "cell_type": "code",
   "execution_count": 28,
   "id": "e885b55e",
   "metadata": {},
   "outputs": [
    {
     "name": "stdout",
     "output_type": "stream",
     "text": [
      "# of nueCC in AV in overlay sample = 5\n",
      "# of nueCC in AV dropped in overlay = 5\n"
     ]
    }
   ],
   "source": [
    "################################\n",
    "#####ONLY RUN THIS CELL ONCE####\n",
    "################################\n",
    "\n",
    "print(\"# of nueCC in AV in overlay sample = \"+str(len(overlay.query(nueCC_query))))\n",
    "len1 = len(overlay)\n",
    "    \n",
    "idx = overlay.query(nueCC_query).index\n",
    "overlay.drop(idx, inplace=True)\n",
    "len2 = len(overlay) \n",
    "print(\"# of nueCC in AV dropped in overlay = \"+str(len1-len2))\n",
    "    \n",
    "# then add in nue_intrinsic \n",
    "overlay = pd.concat([overlay,nue], ignore_index=True)\n",
    "\n",
    "# from here on out everything else should be the same. "
   ]
  },
  {
   "cell_type": "code",
   "execution_count": 29,
   "id": "b316a536",
   "metadata": {},
   "outputs": [],
   "source": [
    "\n",
    "\n",
    "# separate by in/out FV & cosmic\n",
    "infv = overlay.query(in_fv_query)\n",
    "outfv = overlay.query(out_fv_query)\n",
    "\n",
    "infv2 = nue.query(in_fv_query)\n",
    "outfv2 = nue.query(out_fv_query)\n",
    "\n"
   ]
  },
  {
   "cell_type": "code",
   "execution_count": 30,
   "id": "1bdf5950",
   "metadata": {},
   "outputs": [
    {
     "name": "stdout",
     "output_type": "stream",
     "text": [
      "True\n"
     ]
    }
   ],
   "source": [
    "# check that everything is accounted for \n",
    "print(len(overlay)==len(infv)+len(outfv))"
   ]
  },
  {
   "cell_type": "code",
   "execution_count": 31,
   "id": "010b90fe",
   "metadata": {},
   "outputs": [
    {
     "name": "stdout",
     "output_type": "stream",
     "text": [
      "total signal events = 525.5695928190216\n",
      "total signal events = 0.0\n",
      "total signal events = 0.0\n",
      "total signal events = 0.0\n"
     ]
    }
   ],
   "source": [
    "\n",
    "\n",
    "tot_signal_weighted = np.nansum(infv.query('is_signal==True')['pot_scale'])\n",
    "print('total signal events = '+ str(tot_signal_weighted))\n",
    "\n",
    "\n",
    "tot_signal_weighted = np.nansum(outfv.query('is_signal==True')['pot_scale'])\n",
    "print('total signal events = '+ str(tot_signal_weighted))\n",
    "\n",
    "\n",
    "tot_signal_weighted = np.nansum(infv2.query('is_signal==True')['pot_scale'])\n",
    "print('total signal events = '+ str(tot_signal_weighted))\n",
    "\n",
    "\n",
    "tot_signal_weighted = np.nansum(outfv2.query('is_signal==True')['pot_scale'])\n",
    "print('total signal events = '+ str(tot_signal_weighted))\n",
    "\n"
   ]
  },
  {
   "cell_type": "code",
   "execution_count": 32,
   "id": "a78db0d6",
   "metadata": {},
   "outputs": [],
   "source": [
    "datasets = {\n",
    "    'infv' : infv, \n",
    "    'outfv' : outfv\n",
    "}"
   ]
  },
  {
   "cell_type": "code",
   "execution_count": 33,
   "id": "7166c2f5",
   "metadata": {},
   "outputs": [],
   "source": [
    "\n",
    "\n",
    "generated_events = pd.concat([datasets['outfv'], datasets['infv']])\n",
    "\n"
   ]
  },
  {
   "cell_type": "code",
   "execution_count": 34,
   "id": "a443a10c",
   "metadata": {},
   "outputs": [
    {
     "name": "stdout",
     "output_type": "stream",
     "text": [
      "total signal events = 525.5695928190216\n",
      "total signal events = 473.15817482100346\n",
      "total signal events = 473.15817482100346\n"
     ]
    }
   ],
   "source": [
    "tot_signal_weighted = np.nansum(generated_events.query('is_signal==True')['pot_scale'])\n",
    "print('total signal events = '+ str(tot_signal_weighted))\n",
    "\n",
    "tot_signal_weighted = np.nansum(generated_events.query('is_signal==True')['totweight_data'])\n",
    "print('total signal events = '+ str(tot_signal_weighted))\n",
    "\n",
    "tot_signal_weighted = np.nansum(generated_events.query(signal)['totweight_data'])\n",
    "print('total signal events = '+ str(tot_signal_weighted))"
   ]
  },
  {
   "cell_type": "code",
   "execution_count": 35,
   "id": "ed0d69c5",
   "metadata": {},
   "outputs": [
    {
     "name": "stdout",
     "output_type": "stream",
     "text": [
      "False\n"
     ]
    }
   ],
   "source": [
    "print(isTruth)\n",
    "\n",
    "if isTruth == False:\n",
    "    selected_query = \"nslice == 1 and ( (_opfilter_pe_beam > 0 \\\n",
    "    and _opfilter_pe_veto < 20) or bnbdata == 1 or extdata == 1) \\\n",
    "    and reco_nu_vtx_sce_x > 15 and reco_nu_vtx_sce_x < 245 \\\n",
    "    and reco_nu_vtx_sce_y > -105 and reco_nu_vtx_sce_y < 105 \\\n",
    "    and reco_nu_vtx_sce_z > 10 and reco_nu_vtx_sce_z < 990 \\\n",
    "    and n_muons_tot > 0 and n_protons_tot > 0 and n_showers_contained==0 \\\n",
    "    and contained_fraction> 0.95 and topological_score > 0.3\"\n",
    "\n",
    "elif isTruth == True:\n",
    "    selected_query = \"is_signal==True\""
   ]
  },
  {
   "cell_type": "code",
   "execution_count": 36,
   "id": "0a48a725",
   "metadata": {
    "scrolled": true
   },
   "outputs": [
    {
     "name": "stdout",
     "output_type": "stream",
     "text": [
      "0       0.668260\n",
      "1       1.057656\n",
      "2       0.946043\n",
      "4       1.256983\n",
      "5       1.986204\n",
      "          ...   \n",
      "2840    1.486054\n",
      "2841    0.919025\n",
      "2842    0.961701\n",
      "2843    0.586395\n",
      "2844    0.945651\n",
      "Name: reco_e, Length: 2822, dtype: float32\n",
      "0       0.668260\n",
      "1       1.057656\n",
      "2       0.946043\n",
      "4       1.256983\n",
      "5       1.986204\n",
      "          ...   \n",
      "2840    1.486054\n",
      "2841    0.919025\n",
      "2842    0.961701\n",
      "2843    0.586395\n",
      "2844    0.945651\n",
      "Name: reco_e, Length: 2822, dtype: float32\n",
      "0       0.386984\n",
      "1       0.546392\n",
      "2       0.579361\n",
      "4       0.582773\n",
      "5       0.923719\n",
      "          ...   \n",
      "2840    0.813353\n",
      "2841    0.000000\n",
      "2842    0.322046\n",
      "2843    0.184003\n",
      "2844    0.000000\n",
      "Name: true_e, Length: 2822, dtype: float32\n",
      "0       0.386984\n",
      "1       0.546392\n",
      "2       0.579361\n",
      "4       0.582773\n",
      "5       0.923719\n",
      "          ...   \n",
      "2840    0.813353\n",
      "2841    0.000000\n",
      "2842    0.322046\n",
      "2843    0.184003\n",
      "2844    0.000000\n",
      "Name: true_e, Length: 2822, dtype: float32\n",
      "3       0.875039\n",
      "62      0.719057\n",
      "181     1.016122\n",
      "283     0.898610\n",
      "411     1.251943\n",
      "483     1.138801\n",
      "551     0.879327\n",
      "608     1.197542\n",
      "610     1.493149\n",
      "631     1.686914\n",
      "734     1.406551\n",
      "961     1.071773\n",
      "1063    0.992003\n",
      "1556    0.755531\n",
      "1680    0.994824\n",
      "1946    0.984772\n",
      "2004    1.132754\n",
      "2307    1.051546\n",
      "2330    1.100209\n",
      "2423    0.569662\n",
      "2465    1.128883\n",
      "2557    1.245811\n",
      "2811    0.890821\n",
      "Name: reco_e, dtype: float32\n",
      "3       0.875039\n",
      "62      0.719057\n",
      "181     1.016122\n",
      "283     0.898610\n",
      "411     1.251943\n",
      "483     1.138801\n",
      "551     0.879327\n",
      "608     1.197542\n",
      "610     1.493149\n",
      "631     1.686914\n",
      "734     1.406551\n",
      "961     1.071773\n",
      "1063    0.992003\n",
      "1556    0.755531\n",
      "1680    0.994824\n",
      "1946    0.984772\n",
      "2004    1.132754\n",
      "2307    1.051546\n",
      "2330    1.100209\n",
      "2423    0.569662\n",
      "2465    1.128883\n",
      "2557    1.245811\n",
      "2811    0.890821\n",
      "Name: reco_e, dtype: float32\n",
      "3       0.378235\n",
      "62      1.989687\n",
      "181     0.497902\n",
      "283     0.675251\n",
      "411     2.750000\n",
      "483     1.388890\n",
      "551     0.219571\n",
      "608     1.107428\n",
      "610     2.738240\n",
      "631     1.449695\n",
      "734     0.690462\n",
      "961     0.000000\n",
      "1063    0.423194\n",
      "1556    0.069753\n",
      "1680    0.670638\n",
      "1946    0.123577\n",
      "2004    2.217080\n",
      "2307    0.401940\n",
      "2330    0.105997\n",
      "2423    2.637207\n",
      "2465    0.000000\n",
      "2557    0.000000\n",
      "2811    0.000000\n",
      "Name: true_e, dtype: float32\n",
      "3       0.378235\n",
      "62      1.989687\n",
      "181     0.497902\n",
      "283     0.675251\n",
      "411     2.750000\n",
      "483     1.388890\n",
      "551     0.219571\n",
      "608     1.107428\n",
      "610     2.738240\n",
      "631     1.449695\n",
      "734     0.690462\n",
      "961     0.000000\n",
      "1063    0.423194\n",
      "1556    0.069753\n",
      "1680    0.670638\n",
      "1946    0.123577\n",
      "2004    2.217080\n",
      "2307    0.401940\n",
      "2330    0.105997\n",
      "2423    2.637207\n",
      "2465    0.000000\n",
      "2557    0.000000\n",
      "2811    0.000000\n",
      "Name: true_e, dtype: float32\n",
      "nslice == 1 and ( (_opfilter_pe_beam > 0     and _opfilter_pe_veto < 20) or bnbdata == 1 or extdata == 1)     and reco_nu_vtx_sce_x > 15 and reco_nu_vtx_sce_x < 245     and reco_nu_vtx_sce_y > -105 and reco_nu_vtx_sce_y < 105     and reco_nu_vtx_sce_z > 10 and reco_nu_vtx_sce_z < 990     and n_muons_tot > 0 and n_protons_tot > 0 and n_showers_contained==0     and contained_fraction> 0.95 and topological_score > 0.3\n"
     ]
    }
   ],
   "source": [
    "#datasets_bdt = datasets\n",
    "\n",
    "datasets_bdt = {}\n",
    "\n",
    "\n",
    "for i in range(len(datasets)): \n",
    "\n",
    "        df = list(datasets.values())[i].copy()\n",
    "        \n",
    "        #ENERGY\n",
    "        tmp = df[\"reco_e\"].copy()\n",
    "        mask = (df[\"reco_e\"] > 3)\n",
    "        tmp[mask] = 2.75\n",
    "        df[\"reco_e\"] = tmp\n",
    "        print(df[\"reco_e\"])\n",
    "        #------\n",
    "        tmp = df[\"reco_e\"].copy()\n",
    "        mask = (df[\"reco_e\"] < 0)\n",
    "        tmp[mask] = 0.25\n",
    "        df[\"reco_e\"] = tmp\n",
    "        print(df[\"reco_e\"])\n",
    "        #####\n",
    "\n",
    "        #ENERGY\n",
    "        tmp = df[\"true_e\"].copy()\n",
    "        mask = (df[\"true_e\"] > 3)\n",
    "        tmp[mask] = 2.75\n",
    "        df[\"true_e\"] = tmp\n",
    "        print(df[\"true_e\"])\n",
    "        #------\n",
    "        tmp = df[\"true_e\"].copy()\n",
    "        mask = (df[\"true_e\"] < 0)\n",
    "        tmp[mask] = 0.25\n",
    "        df[\"true_e\"] = tmp\n",
    "        print(df[\"true_e\"])\n",
    "\n",
    "        datasets_bdt[list(datasets.keys())[i]] = df.query(selected_query)\n",
    "\n",
    "print(selected_query)"
   ]
  },
  {
   "cell_type": "code",
   "execution_count": 37,
   "id": "0df0fcd2",
   "metadata": {},
   "outputs": [],
   "source": [
    "xvar = 'reco_e'\n",
    "true_var = 'true_e'\n",
    "bins = np.arange(0, 3.5, 0.5)\n",
    "\n",
    "xlow = bins[0]\n",
    "xhigh = bins[-1]\n",
    "\n",
    "x_label = \"Neutrino Energy\"\n",
    "x_ticks = np.arange(0, 3.5, 0.5)"
   ]
  },
  {
   "cell_type": "code",
   "execution_count": 38,
   "id": "1e31831e",
   "metadata": {},
   "outputs": [],
   "source": [
    "\n",
    "\n",
    "if xvar=='tksh_angle': \n",
    "    bincenters = 0.5*(np.array(x_ticks)[1:]+np.array(x_ticks)[:-1])\n",
    "\n",
    "else: \n",
    "    #bincenters = 0.5*(np.array(x_ticks+[xhigh])[1:]+np.array(x_ticks+[xhigh])[:-1])\n",
    "    bincenters = np.arange(0.25, 3.25, 0.5)\n",
    "\n"
   ]
  },
  {
   "cell_type": "code",
   "execution_count": 39,
   "id": "7a7745f1",
   "metadata": {},
   "outputs": [],
   "source": [
    "labels = { \n",
    "    'signal' : ['$\\\\nu_e$ CC0$\\pi$Np', 'orange'], \n",
    "    'nue_CC_Npi0' : ['$\\\\nu_\\mu$ CC $\\pi^{0}$', 'brown'],\n",
    "    'nue_NC_Npi0' : ['$\\\\nu_\\mu$ NC $\\pi^{0}$', 'orangered'],\n",
    "    'nue_NC_0pi0' : ['$\\\\nu_\\mu$ NC', '#33FCFF'],\n",
    "    'nue_CC_0pi0' : ['$\\\\nu_\\mu$ CC', '#437ED8'],\n",
    "    'numu_CCother': ['$\\\\nu_e$ CC other', '#05B415'], \n",
    "    'numu_NC': ['$\\\\nu_e$ NC', '#B8FF33'], \n",
    "    'outfv' : ['Out FV', 'orchid'], \n",
    "    'ext' : ['EXT', 'lightpink'],\n",
    "    'numu_other' : ['$\\\\nu_e$ / $\\\\overline{\\\\nu_e}$  other', '#33db09'], \n",
    "    'nue_Npi0' : ['$\\\\nu_\\\\mu$ / $\\\\overline{\\\\nu_\\\\mu}$  $\\pi^{0}$', '#EE1B1B'], \n",
    "    'nue_0pi0' : ['$\\\\nu_\\\\mu$ / $\\\\overline{\\\\nu_\\\\mu}$  other', '#437ED8'],\n",
    "    'numubar_1eNp' : ['$\\\\bar{\\\\nu}_e$ CC0$\\pi$Np', 'gold']\n",
    "}"
   ]
  },
  {
   "cell_type": "code",
   "execution_count": 40,
   "id": "fbbac96c",
   "metadata": {},
   "outputs": [],
   "source": [
    "leg = {\n",
    "        'outfv' : labels['outfv'][0]+': ' + str( round(sum(datasets_bdt['outfv'].totweight_data), 1)) , \n",
    "        'nue_NC_Npi0' : labels['nue_NC_Npi0'][0]+': '+ str( round(sum(datasets_bdt['infv'].query(nue_NC_Npi0).totweight_data), 1)), \n",
    "        'nue_CC_Npi0' : labels['nue_CC_Npi0'][0]+': '+str( round(sum(datasets_bdt['infv'].query(nue_CC_Npi0).totweight_data), 1)), \n",
    "        'nue_NC_0pi0' : labels['nue_NC_0pi0'][0]+': '+str( round(sum(datasets_bdt['infv'].query(nue_NC_0pi0).totweight_data), 1)), \n",
    "        'nue_CC_0pi0' : labels['nue_CC_0pi0'][0]+': '+str( round(sum(datasets_bdt['infv'].query(nue_CC_0pi0).totweight_data), 1)), \n",
    "        'numu_NC' : labels['numu_NC'][0]+': '+str( round(sum(datasets_bdt['infv'].query(numu_NC).totweight_data), 1)), \n",
    "        'numu_CCother' : labels['numu_CCother'][0]+': '+str( round(sum(datasets_bdt['infv'].query(numu_CCother).totweight_data), 1)),\n",
    "        'numubar_1eNp' : labels['numubar_1eNp'][0]+': '+str( round(sum(datasets_bdt['infv'].query(numubar_1eNp).totweight_data), 1)), \n",
    "        'signal' : labels['signal'][0]+': '+str( round(sum(datasets_bdt['infv'].query(signal).totweight_data), 1))\n",
    "    }\n"
   ]
  },
  {
   "cell_type": "code",
   "execution_count": 41,
   "id": "ff8b6b11",
   "metadata": {},
   "outputs": [
    {
     "name": "stderr",
     "output_type": "stream",
     "text": [
      "/home/alex/miniconda3/envs/vintageXgboostVintageUprootEnv/lib/python3.8/site-packages/numpy/core/fromnumeric.py:3245: VisibleDeprecationWarning: Creating an ndarray from ragged nested sequences (which is a list-or-tuple of lists-or-tuples-or ndarrays with different lengths or shapes) is deprecated. If you meant to do this, you must specify 'dtype=object' when creating the ndarray.\n",
      "  return asarray(a).size\n",
      "/home/alex/miniconda3/envs/vintageXgboostVintageUprootEnv/lib/python3.8/site-packages/matplotlib/cbook/__init__.py:1449: VisibleDeprecationWarning: Creating an ndarray from ragged nested sequences (which is a list-or-tuple of lists-or-tuples-or ndarrays with different lengths or shapes) is deprecated. If you meant to do this, you must specify 'dtype=object' when creating the ndarray.\n",
      "  X = np.atleast_1d(X.T if isinstance(X, np.ndarray) else np.asarray(X))\n"
     ]
    },
    {
     "name": "stdout",
     "output_type": "stream",
     "text": [
      "[ 18.53238859 255.52413565 214.80373261 108.05966701  42.10709222\n",
      "  30.73321061]\n",
      "669.7602266903864\n"
     ]
    },
    {
     "data": {
      "image/png": "[encoded data removed]",
      "text/plain": [
       "<Figure size 576x360 with 1 Axes>"
      ]
     },
     "metadata": {
      "needs_background": "light"
     },
     "output_type": "display_data"
    }
   ],
   "source": [
    "fig = plt.figure(figsize=(8, 5))\n",
    "\n",
    "n, b, p = plt.hist([datasets_bdt['outfv'][xvar], \n",
    "                       datasets_bdt['infv'].query(nue_NC_Npi0)[xvar],\n",
    "                       datasets_bdt['infv'].query(nue_CC_Npi0)[xvar],\n",
    "                       datasets_bdt['infv'].query(nue_NC_0pi0)[xvar],\n",
    "                       datasets_bdt['infv'].query(nue_CC_0pi0)[xvar],\n",
    "                       datasets_bdt['infv'].query(numu_NC)[xvar],\n",
    "                       datasets_bdt['infv'].query(numu_CCother)[xvar],\n",
    "                       datasets_bdt['infv'].query(numubar_1eNp)[xvar], \n",
    "                       datasets_bdt['infv'].query(signal)[xvar]],\n",
    "            bins, histtype='bar', range=[xlow, xhigh], stacked=True, \n",
    "            color=[labels['outfv'][1], \n",
    "                       labels['nue_NC_Npi0'][1], \n",
    "                       labels['nue_CC_Npi0'][1], \n",
    "                       labels['nue_NC_0pi0'][1], \n",
    "                       labels['nue_CC_0pi0'][1], \n",
    "                       labels['numu_NC'][1], \n",
    "                       labels['numu_CCother'][1],\n",
    "                       labels['numubar_1eNp'][1], \n",
    "                       labels['signal'][1]], \n",
    "            label=[leg['outfv'], \n",
    "                   leg['nue_NC_Npi0'], \n",
    "                   leg['nue_CC_Npi0'], \n",
    "                   leg['nue_NC_0pi0'], \n",
    "                   leg['nue_CC_0pi0'], \n",
    "                   leg['numu_NC'], \n",
    "                   leg['numu_CCother'], \n",
    "                   leg['numubar_1eNp'], \n",
    "                   leg['signal']\n",
    "                  ],\n",
    "            weights=[datasets_bdt['outfv'].totweight_data, \n",
    "                     datasets_bdt['infv'].query(nue_NC_Npi0).totweight_data, \n",
    "                     datasets_bdt['infv'].query(nue_CC_Npi0).totweight_data,\n",
    "                     datasets_bdt['infv'].query(nue_NC_0pi0).totweight_data,\n",
    "                     datasets_bdt['infv'].query(nue_CC_0pi0).totweight_data,\n",
    "                     datasets_bdt['infv'].query(numu_NC).totweight_data,\n",
    "                     datasets_bdt['infv'].query(numu_CCother).totweight_data,\n",
    "                     datasets_bdt['infv'].query(numubar_1eNp).totweight_data,\n",
    "                     datasets_bdt['infv'].query(signal).totweight_data \n",
    "                     ])\n",
    "\n",
    "#This is not how to jump to get one value! You want to sum the columns not the rows!\n",
    "print(n[-1])\n",
    "print(sum(n[-1]))\n",
    "#print(sum(sum(n)))\n",
    "\n",
    "#print(len(datasets_bdt['infv'].query(signal)[xvar]))\n",
    "#print(len(datasets_bdt['infv'].query(signal).totweight_data))\n",
    "\n",
    "#if useWeights == False:\n",
    "#    nuWro_stat_err_numu = n[-1]\n",
    "\n",
    "\n",
    "# simulation outline \n",
    "tot = list([0, n[-1][0]])+list(n[-1])+[0]\n",
    "b_step = list([b[0]])+list(b)+list([b[-1]])\n",
    "plt.step(b_step, tot, color='saddlebrown', linewidth=2)\n",
    "\n",
    "# plot format stuff\n",
    "plt.legend(loc='best', prop={\"size\":10}, ncol=3, frameon=False)\n",
    "\n",
    "\n",
    "    \n",
    "plt.xlabel(\"Reconstructed \"+x_label, fontsize=15)\n",
    "\n",
    "#plt.xticks(x_ticks, fontsize=14)\n",
    "\n",
    "plt.xticks(fontsize=14)\n",
    "plt.yticks(fontsize=14)\n",
    "\n",
    "plt.xlim(xlow, xhigh)\n",
    "#plt.ylim(0, 30)\n",
    "\n",
    "if not ISRUN3: \n",
    "    plt.title(\"FHC Run 1 - MC Only\", fontsize=16)\n",
    "    plt.ylabel('$\\\\nu$ / $2\\\\times10^{20}$ POT', fontsize=15)\n",
    "else: \n",
    "    plt.title(\"RHC Run 3 - MC Only\", fontsize=16)\n",
    "    plt.ylabel('$\\\\nu$ / $5\\\\times10^{20}$ POT', fontsize=15)\n",
    "\n",
    "##plt.savefig(\"/uboone/data/users/kmiller/uBNuMI_CCNp/plots/fhc/fakedata/nuwro_evt_rate_\"+xvar+\".pdf\", \n",
    "#            transparent=True, bbox_inches='tight')\n",
    "\n",
    "plt.show()\n",
    "          "
   ]
  },
  {
   "cell_type": "code",
   "execution_count": 41,
   "id": "fc7307d4",
   "metadata": {},
   "outputs": [
    {
     "name": "stderr",
     "output_type": "stream",
     "text": [
      "/home/alex/miniconda3/envs/vintageXgboostVintageUprootEnv/lib/python3.8/site-packages/numpy/core/fromnumeric.py:3245: VisibleDeprecationWarning: Creating an ndarray from ragged nested sequences (which is a list-or-tuple of lists-or-tuples-or ndarrays with different lengths or shapes) is deprecated. If you meant to do this, you must specify 'dtype=object' when creating the ndarray.\n",
      "  return asarray(a).size\n",
      "/home/alex/miniconda3/envs/vintageXgboostVintageUprootEnv/lib/python3.8/site-packages/matplotlib/cbook/__init__.py:1449: VisibleDeprecationWarning: Creating an ndarray from ragged nested sequences (which is a list-or-tuple of lists-or-tuples-or ndarrays with different lengths or shapes) is deprecated. If you meant to do this, you must specify 'dtype=object' when creating the ndarray.\n",
      "  X = np.atleast_1d(X.T if isinstance(X, np.ndarray) else np.asarray(X))\n"
     ]
    },
    {
     "name": "stdout",
     "output_type": "stream",
     "text": [
      "[1947.48199649 2523.15365897 1762.26464033  972.15698366  387.91731342\n",
      "  455.09529511]\n",
      "8048.069887977285\n"
     ]
    },
    {
     "data": {
      "image/png": "[encoded data removed]",
      "text/plain": [
       "<Figure size 576x360 with 1 Axes>"
      ]
     },
     "metadata": {
      "needs_background": "light"
     },
     "output_type": "display_data"
    }
   ],
   "source": [
    "#TRUE BINS\n",
    "\n",
    "fig = plt.figure(figsize=(8, 5))\n",
    "\n",
    "n, b, p = plt.hist([datasets_bdt['outfv'][true_var], \n",
    "                       datasets_bdt['infv'].query(nue_NC_Npi0)[true_var],\n",
    "                       datasets_bdt['infv'].query(nue_CC_Npi0)[true_var],\n",
    "                       datasets_bdt['infv'].query(nue_NC_0pi0)[true_var],\n",
    "                       datasets_bdt['infv'].query(nue_CC_0pi0)[true_var],\n",
    "                       datasets_bdt['infv'].query(numu_NC)[true_var],\n",
    "                       datasets_bdt['infv'].query(numu_CCother)[true_var],\n",
    "                       datasets_bdt['infv'].query(numubar_1eNp)[true_var], \n",
    "                       datasets_bdt['infv'].query(signal)[true_var]],\n",
    "            bins, histtype='bar', range=[xlow, xhigh], stacked=True, \n",
    "            color=[labels['outfv'][1], \n",
    "                       labels['nue_NC_Npi0'][1], \n",
    "                       labels['nue_CC_Npi0'][1], \n",
    "                       labels['nue_NC_0pi0'][1], \n",
    "                       labels['nue_CC_0pi0'][1], \n",
    "                       labels['numu_NC'][1], \n",
    "                       labels['numu_CCother'][1],\n",
    "                       labels['numubar_1eNp'][1], \n",
    "                       labels['signal'][1]], \n",
    "            label=[leg['outfv'], \n",
    "                   leg['nue_NC_Npi0'], \n",
    "                   leg['nue_CC_Npi0'], \n",
    "                   leg['nue_NC_0pi0'], \n",
    "                   leg['nue_CC_0pi0'], \n",
    "                   leg['numu_NC'], \n",
    "                   leg['numu_CCother'], \n",
    "                   leg['numubar_1eNp'], \n",
    "                   leg['signal']\n",
    "                  ],\n",
    "            weights=[datasets_bdt['outfv'].totweight_data, \n",
    "                     datasets_bdt['infv'].query(nue_NC_Npi0).totweight_data, \n",
    "                     datasets_bdt['infv'].query(nue_CC_Npi0).totweight_data,\n",
    "                     datasets_bdt['infv'].query(nue_NC_0pi0).totweight_data,\n",
    "                     datasets_bdt['infv'].query(nue_CC_0pi0).totweight_data,\n",
    "                     datasets_bdt['infv'].query(numu_NC).totweight_data,\n",
    "                     datasets_bdt['infv'].query(numu_CCother).totweight_data,\n",
    "                     datasets_bdt['infv'].query(numubar_1eNp).totweight_data,\n",
    "                     datasets_bdt['infv'].query(signal).totweight_data \n",
    "                     ])\n",
    "\n",
    "print(n[-1])\n",
    "print(sum(n[-1]))\n",
    "\n",
    "#inTruth = True\n",
    "\n",
    "#if useWeights == False and inTruth == True:\n",
    "#    nuWro_stat_err_numu_inTruth = sum(n)\n",
    "\n",
    "\n",
    "# simulation outline \n",
    "tot = list([0, n[-1][0]])+list(n[-1])+[0]\n",
    "b_step = list([b[0]])+list(b)+list([b[-1]])\n",
    "plt.step(b_step, tot, color='saddlebrown', linewidth=2)\n",
    "\n",
    "# plot format stuff\n",
    "plt.legend(loc='best', prop={\"size\":10}, ncol=3, frameon=False)\n",
    "\n",
    "\n",
    "    \n",
    "plt.xlabel(\"True \"+x_label, fontsize=15)\n",
    "\n",
    "#plt.xticks(x_ticks, fontsize=14)\n",
    "\n",
    "plt.xticks(fontsize=14)\n",
    "plt.yticks(fontsize=14)\n",
    "\n",
    "plt.xlim(xlow, xhigh)\n",
    "#plt.ylim(0, 30)\n",
    "\n",
    "if not ISRUN3: \n",
    "    plt.title(\"FHC Run 1 - MC Only\", fontsize=16)\n",
    "    plt.ylabel('$\\\\nu$ / $2\\\\times10^{20}$ POT', fontsize=15)\n",
    "else: \n",
    "    plt.title(\"RHC Run 3 - MC Only\", fontsize=16)\n",
    "    plt.ylabel('$\\\\nu$ / $5\\\\times10^{20}$ POT', fontsize=15)\n",
    "\n",
    "##plt.savefig(\"/uboone/data/users/kmiller/uBNuMI_CCNp/plots/fhc/fakedata/nuwro_evt_rate_\"+xvar+\".pdf\", \n",
    "#            transparent=True, bbox_inches='tight')\n",
    "\n",
    "plt.show()"
   ]
  },
  {
   "cell_type": "code",
   "execution_count": 42,
   "id": "e9178805",
   "metadata": {},
   "outputs": [],
   "source": [
    "ending = \"Jan19b\"\n",
    "\n",
    "#if inTruth == True:\n",
    "#    print(nuWro_stat_err_numu_inTruth)\n",
    "\n",
    "#    np.savetxt(\"numu_nuWro_stat_err_inTruth_\"+ending+\".csv\", \n",
    "#               nuWro_stat_err_numu_inTruth,\n",
    "#               delimiter =\", \", \n",
    "#               fmt ='% s')"
   ]
  },
  {
   "cell_type": "code",
   "execution_count": 43,
   "id": "c0ddd81f",
   "metadata": {},
   "outputs": [
    {
     "data": {
      "text/plain": [
       "True"
      ]
     },
     "execution_count": 43,
     "metadata": {},
     "output_type": "execute_result"
    }
   ],
   "source": [
    "nuwro"
   ]
  },
  {
   "cell_type": "code",
   "execution_count": 44,
   "id": "68996980",
   "metadata": {},
   "outputs": [
    {
     "name": "stdout",
     "output_type": "stream",
     "text": [
      "total signal events = 473.15817482100346\n",
      "total signal events = 669.7602266903923\n"
     ]
    }
   ],
   "source": [
    "selected_events = pd.concat([datasets_bdt['outfv'], datasets_bdt['infv']])\n",
    "#print(selected_events)\n",
    "\n",
    "tot_signal_weighted = np.nansum(selected_events.query('is_signal==True')['totweight_data'])\n",
    "print('total signal events = '+ str(tot_signal_weighted))\n",
    "\n",
    "tot_signal_weighted = np.nansum(selected_events['totweight_data'])\n",
    "print('total signal events = '+ str(tot_signal_weighted))"
   ]
  },
  {
   "cell_type": "code",
   "execution_count": 45,
   "id": "e6d3ade9",
   "metadata": {},
   "outputs": [
    {
     "name": "stdout",
     "output_type": "stream",
     "text": [
      "669.7602266903841\n"
     ]
    },
    {
     "data": {
      "image/png": "[encoded data removed]",
      "text/plain": [
       "<Figure size 576x360 with 1 Axes>"
      ]
     },
     "metadata": {
      "needs_background": "light"
     },
     "output_type": "display_data"
    }
   ],
   "source": [
    "\n",
    "\n",
    "#RECO VAR\n",
    "\n",
    "# ppfx correction effect \n",
    "fig = plt.figure(figsize=(8, 5))\n",
    "\n",
    "plt.hist(selected_events[xvar], bins, range=[xlow, xhigh],\n",
    "            weights=selected_events.pot_scale, linestyle=\":\", linewidth=2, histtype='step', \n",
    "                  label='Unweighted')\n",
    "\n",
    "test = plt.hist(selected_events[xvar], bins, range=[xlow, xhigh],\n",
    "            weights=selected_events.totweight_data, linestyle=\":\", linewidth=2, histtype='step', \n",
    "                  label='PPFX-corrected')\n",
    "\n",
    "print(sum(test[0]))\n",
    "\n",
    "# plot format stuff\n",
    "plt.legend(loc='best', prop={\"size\":14}, ncol=1, frameon=False)\n",
    "\n",
    "plt.ylabel('$\\\\nu$ / $2\\\\times10^{20}$ POT', fontsize=15)\n",
    "    \n",
    "plt.xlabel(\"Reco \"+x_label, fontsize=15)\n",
    "plt.xticks(x_ticks, fontsize=14)\n",
    "\n",
    "plt.yticks(fontsize=14)\n",
    "\n",
    "plt.xlim(xlow, xhigh)\n",
    "plt.title(\"Selected Event Rate\", fontsize=16)\n",
    "\n",
    "plt.show()\n",
    "\n"
   ]
  },
  {
   "cell_type": "code",
   "execution_count": 45,
   "id": "a49db479",
   "metadata": {},
   "outputs": [
    {
     "name": "stdout",
     "output_type": "stream",
     "text": [
      "[1947.48199649 2523.15365897 1762.26464033  972.15698366  387.91731342\n",
      "  455.09529511]\n",
      "8048.069887977285\n"
     ]
    },
    {
     "data": {
      "image/png": "[encoded data removed]",
      "text/plain": [
       "<Figure size 576x360 with 1 Axes>"
      ]
     },
     "metadata": {
      "needs_background": "light"
     },
     "output_type": "display_data"
    }
   ],
   "source": [
    "#TRUE VAR\n",
    "\n",
    "\n",
    "# ppfx correction effect \n",
    "fig = plt.figure(figsize=(8, 5))\n",
    "\n",
    "plt.hist(selected_events.query('is_signal==True')[true_var], bins, range=[xlow, xhigh],\n",
    "            weights=selected_events.query('is_signal==True').pot_scale, linestyle=\":\", linewidth=2, histtype='step', \n",
    "                  label='Unweighted')\n",
    "\n",
    "true_nuWro = plt.hist(selected_events.query('is_signal==True')[true_var], bins, range=[xlow, xhigh],\n",
    "            weights=selected_events.query('is_signal==True').totweight_data, linestyle=\":\", linewidth=2, histtype='step', \n",
    "                  label='PPFX-corrected')\n",
    "\n",
    "print(true_nuWro[0])\n",
    "print(sum(true_nuWro[0]))\n",
    "\n",
    "\n",
    "# plot format stuff\n",
    "plt.legend(loc='best', prop={\"size\":14}, ncol=1, frameon=False)\n",
    "\n",
    "plt.ylabel('$\\\\nu$ / $2\\\\times10^{20}$ POT', fontsize=15)\n",
    "    \n",
    "plt.xlabel(\"True \"+x_label, fontsize=15)\n",
    "plt.xticks(x_ticks, fontsize=14)\n",
    "\n",
    "plt.yticks(fontsize=14)\n",
    "\n",
    "plt.xlim(xlow, xhigh)\n",
    "plt.title(\"Selected Signal Event Rate\", fontsize=16)\n",
    "\n",
    "plt.show()\n"
   ]
  },
  {
   "cell_type": "code",
   "execution_count": 46,
   "id": "5649e4ab",
   "metadata": {},
   "outputs": [
    {
     "name": "stdout",
     "output_type": "stream",
     "text": [
      "True nuWro for comparison:  [1947.48199649 2523.15365897 1762.26464033  972.15698366  387.91731342\n",
      "  455.09529511]\n"
     ]
    }
   ],
   "source": [
    "print(\"True nuWro for comparison: \", true_nuWro[0])"
   ]
  },
  {
   "cell_type": "code",
   "execution_count": 47,
   "id": "aeea90a6",
   "metadata": {},
   "outputs": [],
   "source": [
    "ending = \"Jan19b\"\n",
    "\n",
    "if isTruth == True:\n",
    "    np.savetxt(\"numu_nuWro_prior_true_run1_energy_\"+ending+\".csv\", \n",
    "               true_nuWro[0],\n",
    "               delimiter =\", \", \n",
    "               fmt ='% s')"
   ]
  },
  {
   "cell_type": "markdown",
   "id": "6d10d099",
   "metadata": {},
   "source": [
    "GENIE bkg subtractions"
   ]
  },
  {
   "cell_type": "code",
   "execution_count": 46,
   "id": "40af2fd4",
   "metadata": {},
   "outputs": [],
   "source": [
    "ending = \"Jan19b\""
   ]
  },
  {
   "cell_type": "code",
   "execution_count": 47,
   "id": "ec91de44",
   "metadata": {},
   "outputs": [
    {
     "name": "stdout",
     "output_type": "stream",
     "text": [
      "[ 2.36856564 65.26818511 75.16585412 39.13387687 15.4160533   8.71697854]\n",
      "[  7.73106306 170.14026152 150.59889519  70.6779897   25.47887702\n",
      "  21.81945027]\n",
      "[2073.08117467 2628.79486018 1859.06818218 1018.43174046  393.23928242\n",
      "  434.29251378]\n"
     ]
    }
   ],
   "source": [
    "\n",
    "numu_bkg_noExt = pd.read_csv(\"numu_nopions_recoE_usingSelection_run1_cv_numu_bkg_noExt_noDirt_\"+ending+\".csv\", header=None)\n",
    "\n",
    "print(numu_bkg_noExt.values[:, 0])\n",
    "##########################\n",
    "\n",
    "numu_evt_rate = pd.read_csv(\"numu_nopions_recoE_usingSelection_run1_cv_numu_evt_rate_\"+ending+\".csv\", header=None)\n",
    "\n",
    "numu_evt_rate = numu_evt_rate.values[:, 0]\n",
    "print(numu_evt_rate)\n",
    "\n",
    "#########################\n",
    "\n",
    "numu_full_evt_rate = pd.read_csv(\"numu_full_500_catsel_nopions_recoE_usingSelection_prior_true_signal_recoCut_\"+ending+\".csv\", header=None)\n",
    "\n",
    "numu_full_evt_rate = numu_full_evt_rate.values[:, 0]\n",
    "print(numu_full_evt_rate)"
   ]
  },
  {
   "cell_type": "code",
   "execution_count": 48,
   "id": "3d5e7738",
   "metadata": {},
   "outputs": [
    {
     "name": "stdout",
     "output_type": "stream",
     "text": [
      "[ 18.53238859 255.52413565 214.80373261 108.05966701  42.10709222\n",
      "  30.73321061]\n"
     ]
    },
    {
     "data": {
      "image/png": "[encoded data removed]",
      "text/plain": [
       "<Figure size 432x288 with 1 Axes>"
      ]
     },
     "metadata": {
      "needs_background": "light"
     },
     "output_type": "display_data"
    }
   ],
   "source": [
    "\n",
    "\n",
    "n, b, p = plt.hist(selected_events[xvar], bins, range=[xlow, xhigh],\n",
    "            weights=selected_events.totweight_data)\n",
    "#plt.close()\n",
    "\n",
    "print(n)"
   ]
  },
  {
   "cell_type": "code",
   "execution_count": 49,
   "id": "7f83a210",
   "metadata": {},
   "outputs": [
    {
     "data": {
      "text/plain": [
       "6"
      ]
     },
     "execution_count": 49,
     "metadata": {},
     "output_type": "execute_result"
    }
   ],
   "source": [
    "len(n)"
   ]
  },
  {
   "cell_type": "code",
   "execution_count": 50,
   "id": "ebe2a010",
   "metadata": {},
   "outputs": [
    {
     "data": {
      "text/plain": [
       "array([0.25, 0.75, 1.25, 1.75, 2.25, 2.75])"
      ]
     },
     "execution_count": 50,
     "metadata": {},
     "output_type": "execute_result"
    }
   ],
   "source": [
    "bincenters"
   ]
  },
  {
   "cell_type": "code",
   "execution_count": 51,
   "id": "44aef2e0",
   "metadata": {},
   "outputs": [
    {
     "data": {
      "text/plain": [
       "array([0. , 0.5, 1. , 1.5, 2. , 2.5, 3. ])"
      ]
     },
     "execution_count": 51,
     "metadata": {},
     "output_type": "execute_result"
    }
   ],
   "source": [
    "bins"
   ]
  },
  {
   "cell_type": "code",
   "execution_count": 52,
   "id": "142635bd",
   "metadata": {},
   "outputs": [
    {
     "data": {
      "text/plain": [
       "[0.25, 0.25, 0.25, 0.25, 0.25, 0.25]"
      ]
     },
     "execution_count": 52,
     "metadata": {},
     "output_type": "execute_result"
    }
   ],
   "source": [
    "\n",
    "\n",
    "binwidth = []\n",
    "\n",
    "for x in range(len(bincenters)):\n",
    "    \n",
    "    if xvar=='tksh_angle': \n",
    "        binwidth.append(round(abs((x_ticks)[x+1]-(x_ticks)[x])/2, 2))\n",
    "        \n",
    "    else: \n",
    "        binwidth.append(round(abs((x_ticks+[xhigh])[x+1]-(x_ticks+[xhigh])[x])/2, 2))\n",
    "    \n",
    "binwidth\n",
    "\n"
   ]
  },
  {
   "cell_type": "code",
   "execution_count": 53,
   "id": "457fd681",
   "metadata": {},
   "outputs": [],
   "source": [
    "## do not include EXT background subtraction! MC only \n",
    "#cv_bkgd_mc = [a-b for a,b in zip(fhc_dict['cv_bkgd'], fhc_dict['cv_ext'])]\n",
    "#I already do not in what has been loaded in\n",
    "\n",
    "cv_bkgd_mc = numu_bkg_noExt.values[:, 0]"
   ]
  },
  {
   "cell_type": "code",
   "execution_count": 54,
   "id": "6b4ab1b9",
   "metadata": {},
   "outputs": [
    {
     "data": {
      "text/plain": [
       "array([ 2.36856564, 65.26818511, 75.16585412, 39.13387687, 15.4160533 ,\n",
       "        8.71697854])"
      ]
     },
     "execution_count": 54,
     "metadata": {},
     "output_type": "execute_result"
    }
   ],
   "source": [
    "cv_bkgd_mc"
   ]
  },
  {
   "cell_type": "code",
   "execution_count": 55,
   "id": "a95eae4a",
   "metadata": {},
   "outputs": [
    {
     "name": "stdout",
     "output_type": "stream",
     "text": [
      "[16.16382295701016, 190.25595053939304, 139.6378784916331, 68.92579013042835, 26.691038923633357, 22.016232068157766]\n"
     ]
    }
   ],
   "source": [
    "#ALLSEL NUWRO\n",
    "\n",
    "# background subtracted event rate - EXT was never added so never subtracted\n",
    "#(still need to take into acct its uncertainty)\n",
    "nuwro_evt_rate = [a-b for a,b in zip(n,cv_bkgd_mc)]\n",
    "print(nuwro_evt_rate)\n"
   ]
  },
  {
   "cell_type": "code",
   "execution_count": 56,
   "id": "84be1492",
   "metadata": {},
   "outputs": [
    {
     "data": {
      "text/plain": [
       "6"
      ]
     },
     "execution_count": 56,
     "metadata": {},
     "output_type": "execute_result"
    }
   ],
   "source": [
    "len(nuwro_evt_rate)"
   ]
  },
  {
   "cell_type": "code",
   "execution_count": 57,
   "id": "aaaea96c",
   "metadata": {},
   "outputs": [
    {
     "data": {
      "image/png": "[encoded data removed]",
      "text/plain": [
       "<Figure size 576x360 with 1 Axes>"
      ]
     },
     "metadata": {
      "needs_background": "light"
     },
     "output_type": "display_data"
    }
   ],
   "source": [
    "fig = plt.figure(figsize=(8, 5))\n",
    "\n",
    "plt.hist(selected_events[xvar],\n",
    "            bins, histtype='step', range=[xlow, xhigh],\n",
    "            weights=selected_events.totweight_data, linestyle=\":\", linewidth=2, \n",
    "                  label='Full')\n",
    "\n",
    "plt.hist(bincenters, bins, histtype='step', range=[xlow,xhigh], \n",
    "        weights=nuwro_evt_rate, linestyle=\":\", linewidth=2, \n",
    "                  label='GENIE v3 background-subtracted')\n",
    "\n",
    "\n",
    "# plot format stuff\n",
    "plt.legend(loc='best', prop={\"size\":14}, ncol=1, frameon=False)\n",
    "\n",
    "plt.ylabel('$\\\\nu$ / $2\\\\times10^{20}$ POT', fontsize=15)\n",
    "    \n",
    "plt.xlabel(\"Reco \"+x_label, fontsize=15)\n",
    "plt.xticks(x_ticks, fontsize=14)\n",
    "\n",
    "plt.yticks(fontsize=14)\n",
    "#plt.ylim(0, 7)\n",
    "\n",
    "plt.xlim(xlow, xhigh)\n",
    "plt.title(\"FHC NuWro Selected Evt Rate (MC Only)\", fontsize=16)\n",
    "\n",
    "plt.show()\n"
   ]
  },
  {
   "cell_type": "code",
   "execution_count": 58,
   "id": "e890a10e",
   "metadata": {},
   "outputs": [
    {
     "data": {
      "text/plain": [
       "(array([ 18.53238859, 255.52413565, 214.80373261, 108.05966701,\n",
       "         42.10709222,  30.73321061]),\n",
       " array([0. , 0.5, 1. , 1.5, 2. , 2.5, 3. ]),\n",
       " <a list of 1 Patch objects>)"
      ]
     },
     "execution_count": 58,
     "metadata": {},
     "output_type": "execute_result"
    },
    {
     "data": {
      "image/png": "[encoded data removed]",
      "text/plain": [
       "<Figure size 432x288 with 1 Axes>"
      ]
     },
     "metadata": {
      "needs_background": "light"
     },
     "output_type": "display_data"
    }
   ],
   "source": [
    "plt.hist(selected_events[xvar],\n",
    "            bins, histtype='step', range=[xlow, xhigh],\n",
    "            weights=selected_events.totweight_data, linestyle=\":\", linewidth=2, \n",
    "                  label='Full')"
   ]
  },
  {
   "cell_type": "code",
   "execution_count": 59,
   "id": "18c143a9",
   "metadata": {},
   "outputs": [
    {
     "data": {
      "text/plain": [
       "463.6907131102558"
      ]
     },
     "execution_count": 59,
     "metadata": {},
     "output_type": "execute_result"
    }
   ],
   "source": [
    "sum(nuwro_evt_rate)"
   ]
  },
  {
   "cell_type": "code",
   "execution_count": 60,
   "id": "4a8db7b3",
   "metadata": {},
   "outputs": [
    {
     "data": {
      "image/png": "[encoded data removed]",
      "text/plain": [
       "<Figure size 576x504 with 2 Axes>"
      ]
     },
     "metadata": {
      "needs_background": "light"
     },
     "output_type": "display_data"
    }
   ],
   "source": [
    "from matplotlib import gridspec\n",
    "\n",
    "fig = plt.figure(figsize=(8, 7))\n",
    "\n",
    "gs = gridspec.GridSpec(2, 1, height_ratios=[2, 1])\n",
    "\n",
    "ax1 = plt.subplot(gs[0])\n",
    "ax2 = plt.subplot(gs[1])\n",
    "    \n",
    "ax1.tick_params(axis = 'both', which = 'major', labelsize = 13)\n",
    "ax2.tick_params(axis = 'both', which = 'major', labelsize = 13)\n",
    "\n",
    "ax2.yaxis.grid(linestyle=\"--\", color='black', alpha=0.2)\n",
    "ax2.xaxis.grid(linestyle=\"--\", color='black', alpha=0.2)\n",
    "\n",
    "# background subtracted genie evt rate \n",
    "ax1.hist(bincenters, bins, histtype='step', range=[xlow,xhigh], \n",
    "        weights=numu_evt_rate, linestyle=\":\", linewidth=2, \n",
    "                  label='GENIE v3')\n",
    "\n",
    "# background subtracted nuwro evt rate\n",
    "ax1.hist(bincenters, bins, histtype='step', range=[xlow,xhigh], \n",
    "        weights=nuwro_evt_rate, linestyle=\":\", linewidth=2, \n",
    "                  label='NuWro')\n",
    "\n",
    "# ratio plot  \n",
    "ax2.errorbar(bincenters, [a/b for a,b in zip(nuwro_evt_rate, numu_evt_rate)], \n",
    "             xerr=binwidth, color=\"black\", fmt='o')\n",
    "ax2.set_ylim(0, 2)\n",
    "\n",
    "\n",
    "# plot formatting \n",
    "ax1.set_xlim(xlow,xhigh)\n",
    "ax1.set_xticks(x_ticks)\n",
    "ax1.set_ylabel('$\\\\nu$ / $2\\\\times10^{20}$ POT', fontsize=15)\n",
    "\n",
    "ax2.set_xlim(xlow,xhigh)\n",
    "ax2.set_xticks(x_ticks)\n",
    "\n",
    "ax2.set_xlabel(x_label, fontsize=14)\n",
    "ax2.set_ylabel(\"NuWro / GENIE v3\", fontsize=14)\n",
    "\n",
    "ax1.legend(fontsize=13, frameon=False)\n",
    "    \n",
    "ax2.set_xlabel(\"Reconstructed \"+x_label, fontsize=15)\n",
    "ax1.set_title(\"Background-Subtracted Selected Event Rate\", fontsize=16)\n",
    "\n",
    "\n",
    "plt.show()"
   ]
  },
  {
   "cell_type": "code",
   "execution_count": 61,
   "id": "56967250",
   "metadata": {},
   "outputs": [],
   "source": [
    "\n",
    "\n",
    "# nuwro selected neutrino backgrounds\n",
    "nuwro_bkgd = pd.concat([datasets_bdt['infv'].query('is_signal==False'), datasets_bdt['outfv']])\n",
    "\n"
   ]
  },
  {
   "cell_type": "code",
   "execution_count": 62,
   "id": "aa4d0fcc",
   "metadata": {},
   "outputs": [
    {
     "data": {
      "text/plain": [
       "[16.16382295701016,\n",
       " 190.25595053939304,\n",
       " 139.6378784916331,\n",
       " 68.92579013042835,\n",
       " 26.691038923633357,\n",
       " 22.016232068157766]"
      ]
     },
     "execution_count": 62,
     "metadata": {},
     "output_type": "execute_result"
    }
   ],
   "source": [
    "nuwro_evt_rate"
   ]
  },
  {
   "cell_type": "code",
   "execution_count": 63,
   "id": "275bb086",
   "metadata": {},
   "outputs": [
    {
     "data": {
      "image/png": "[encoded data removed]",
      "text/plain": [
       "<Figure size 576x504 with 2 Axes>"
      ]
     },
     "metadata": {
      "needs_background": "light"
     },
     "output_type": "display_data"
    }
   ],
   "source": [
    "fig = plt.figure(figsize=(8, 7))\n",
    "\n",
    "gs = gridspec.GridSpec(2, 1, height_ratios=[2, 1])\n",
    "\n",
    "ax1 = plt.subplot(gs[0])\n",
    "ax2 = plt.subplot(gs[1])\n",
    "    \n",
    "ax1.tick_params(axis = 'both', which = 'major', labelsize = 13)\n",
    "ax2.tick_params(axis = 'both', which = 'major', labelsize = 13)\n",
    "\n",
    "ax2.yaxis.grid(linestyle=\"--\", color='black', alpha=0.2)\n",
    "ax2.xaxis.grid(linestyle=\"--\", color='black', alpha=0.2)\n",
    "\n",
    "# genie\n",
    "ax1.hist(bincenters, bins, histtype='step', range=[xlow,xhigh], \n",
    "        weights=cv_bkgd_mc, linestyle=\":\", linewidth=2, \n",
    "                  label='GENIE v3')\n",
    "\n",
    "# background subtracted nuwro evt rate\n",
    "h_nuwro_bkgd = ax1.hist(nuwro_bkgd[xvar], bins, histtype='step', \n",
    "                        weights=nuwro_bkgd.totweight_data, range=[xlow,xhigh], \n",
    "         linestyle=\":\", linewidth=2, \n",
    "                  label='NuWro')[0]\n",
    "\n",
    "# ratio plot  \n",
    "ax2.errorbar(bincenters, [a/b for a,b in zip(h_nuwro_bkgd, cv_bkgd_mc)], \n",
    "             xerr=binwidth, color=\"black\", fmt='o')\n",
    "#ax2.set_ylim(0, 2)\n",
    "\n",
    "#ax1.set_ylim(0, 5)\n",
    "\n",
    "\n",
    "# plot formatting \n",
    "ax1.set_xlim(xlow,xhigh)\n",
    "ax1.set_xticks(x_ticks)\n",
    "ax1.set_ylabel('$\\\\nu$ / $2\\\\times10^{20}$ POT', fontsize=15)\n",
    "\n",
    "ax2.set_xlim(xlow,xhigh)\n",
    "ax2.set_xticks(x_ticks)\n",
    "\n",
    "ax2.set_xlabel(x_label, fontsize=14)\n",
    "ax2.set_ylabel(\"NuWro / GENIE v3\", fontsize=14)\n",
    "\n",
    "ax1.legend(fontsize=13, frameon=False)\n",
    "    \n",
    "ax2.set_xlabel(\"Reconstructed \"+x_label, fontsize=15)\n",
    "ax1.set_title(\"Selected Neutrino Backgrounds\", fontsize=16)\n",
    "\n",
    "\n",
    "#plt.savefig(\"/uboone/data/users/kmiller/uBNuMI_CCNp/plots/fhc/fakedata/nuwro_mc_bkgd_compare_\"+xvar+\".pdf\", \n",
    "#            transparent=True, bbox_inches='tight')\n",
    "\n",
    "plt.show()"
   ]
  },
  {
   "cell_type": "code",
   "execution_count": 64,
   "id": "ad97ebf2",
   "metadata": {},
   "outputs": [
    {
     "name": "stdout",
     "output_type": "stream",
     "text": [
      "[2073.08117467 2628.79486018 1859.06818218 1018.43174046  393.23928242\n",
      "  434.29251378]\n"
     ]
    }
   ],
   "source": [
    "#This should be prior true signal from genie\n",
    "#genie_true = generated_signal(False, true_var, bins, xlow, xhigh)[0]\n",
    "\n",
    "genie_true = numu_full_evt_rate\n",
    "\n",
    "print(genie_true)"
   ]
  },
  {
   "cell_type": "code",
   "execution_count": 65,
   "id": "6b48c7a2",
   "metadata": {},
   "outputs": [
    {
     "name": "stdout",
     "output_type": "stream",
     "text": [
      "[0.25 0.75 1.25 1.75 2.25 2.75]\n",
      "[156.11698435 240.54109093  61.55002015  12.12741097   1.39572014\n",
      "   1.13178161]\n"
     ]
    },
    {
     "data": {
      "image/png": "[encoded data removed]",
      "text/plain": [
       "<Figure size 576x504 with 2 Axes>"
      ]
     },
     "metadata": {
      "needs_background": "light"
     },
     "output_type": "display_data"
    }
   ],
   "source": [
    "fig = plt.figure(figsize=(8, 7))\n",
    "\n",
    "gs = gridspec.GridSpec(2, 1, height_ratios=[2, 1])\n",
    "\n",
    "ax1 = plt.subplot(gs[0])\n",
    "ax2 = plt.subplot(gs[1])\n",
    "    \n",
    "ax1.tick_params(axis = 'both', which = 'major', labelsize = 13)\n",
    "ax2.tick_params(axis = 'both', which = 'major', labelsize = 13)\n",
    "\n",
    "ax2.yaxis.grid(linestyle=\"--\", color='black', alpha=0.2)\n",
    "ax2.xaxis.grid(linestyle=\"--\", color='black', alpha=0.2)\n",
    "\n",
    "ax1.hist(bincenters, bins, histtype='step', range=[xlow,xhigh], \n",
    "        weights=genie_true, linestyle=\":\", linewidth=2, \n",
    "                  label='GENIE v3')\n",
    "\n",
    "print(bincenters)\n",
    "\n",
    "nuwro_true = ax1.hist(generated_events.query('is_signal==True')[true_var], bins, \n",
    "                      histtype='step', range=[xlow,xhigh], \n",
    "                      weights=generated_events.query('is_signal==True')['totweight_data'], \n",
    "                      linestyle=\":\", linewidth=2, \n",
    "                  label='NuWro')[0]\n",
    "\n",
    "\n",
    "# ratio plot  \n",
    "ax2.errorbar(bincenters, [a/b for a,b in zip(nuwro_true, genie_true)], \n",
    "             xerr=binwidth, color=\"black\", fmt='o')\n",
    "ax2.set_ylim(0, 2)\n",
    "\n",
    "print(nuwro_true)\n",
    "\n",
    "# plot formatting \n",
    "ax1.set_xlim(xlow,xhigh)\n",
    "ax1.set_xticks(x_ticks)\n",
    "ax1.set_ylabel('$\\\\nu$ / $2\\\\times10^{20}$ POT', fontsize=15)\n",
    "\n",
    "ax2.set_xlim(xlow,xhigh)\n",
    "ax2.set_xticks(x_ticks)\n",
    "\n",
    "ax2.set_xlabel(x_label, fontsize=14)\n",
    "ax2.set_ylabel(\"NuWro / GENIE v3\", fontsize=14)\n",
    "\n",
    "ax1.legend(fontsize=13, frameon=False)\n",
    "    \n",
    "ax2.set_xlabel(\"True \"+x_label, fontsize=15)\n",
    "ax1.set_title(\"Generated Signal Event Rate\", fontsize=16)\n",
    "\n",
    "#plt.savefig(\"/uboone/data/users/kmiller/uBNuMI_CCNp/plots/fhc/fakedata/nuwro_gen_signal_compare_\"+xvar+\".pdf\", \n",
    "#            transparent=True, bbox_inches='tight')\n",
    "plt.show()"
   ]
  },
  {
   "cell_type": "code",
   "execution_count": 66,
   "id": "698c47c6",
   "metadata": {},
   "outputs": [
    {
     "name": "stdout",
     "output_type": "stream",
     "text": [
      "Generated (True - GENIE v3) =  [2073.08117467 2628.79486018 1859.06818218 1018.43174046  393.23928242\n",
      "  434.29251378]\n",
      "Selected (Reco - NuWro) =  [16.16382295701016, 190.25595053939304, 139.6378784916331, 68.92579013042835, 26.691038923633357, 22.016232068157766]\n"
     ]
    },
    {
     "data": {
      "image/png": "[encoded data removed]",
      "text/plain": [
       "<Figure size 720x504 with 1 Axes>"
      ]
     },
     "metadata": {
      "needs_background": "light"
     },
     "output_type": "display_data"
    }
   ],
   "source": [
    "# nuwro input distributions \n",
    "\n",
    "fig = plt.figure(figsize=(10, 7))\n",
    "\n",
    "#So this is Prior True\n",
    "plt.hist(bincenters, bins, color='orange', label='Generated (True - GENIE v3)', alpha=0.4, \n",
    "         weights=genie_true)\n",
    "\n",
    "print(\"Generated (True - GENIE v3) = \", genie_true)\n",
    "\n",
    "\n",
    "#And this is Data Signal\n",
    "# genie background subtracted evt rate \n",
    "plt.hist(bincenters, bins, color='blue', label='Selected (Reco - NuWro)', alpha=0.4, weights=nuwro_evt_rate)\n",
    "\n",
    "print('Selected (Reco - NuWro) = ', nuwro_evt_rate)\n",
    "\n",
    "plt.legend(fontsize=13)\n",
    "plt.title('FHC Run 1 - Input Signal Predictions', fontsize=16)\n",
    "\n",
    "plt.xlim(xlow, xhigh)\n",
    "\n",
    "plt.xlabel(x_label, fontsize=15)\n",
    "    \n",
    "plt.xticks(x_ticks, fontsize=13)\n",
    "plt.yticks(fontsize=13)\n",
    "\n",
    "plt.ylabel(\"$\\\\nu$ / 2.0 $\\\\times 10^{20}$ POT\", fontsize=15)\n",
    "\n",
    "plt.grid()\n",
    "\n",
    "#plt.savefig(\"/uboone/data/users/kmiller/uBNuMI_CCNp/plots/fhc/fakedata/nuwro_input_dist_\"+xvar+\".pdf\", \n",
    "#            transparent=True, bbox_inches='tight')\n",
    "\n",
    "plt.show()"
   ]
  },
  {
   "cell_type": "code",
   "execution_count": 67,
   "id": "f1c32cf1",
   "metadata": {},
   "outputs": [
    {
     "data": {
      "text/plain": [
       "[16.16382295701016,\n",
       " 190.25595053939304,\n",
       " 139.6378784916331,\n",
       " 68.92579013042835,\n",
       " 26.691038923633357,\n",
       " 22.016232068157766]"
      ]
     },
     "execution_count": 67,
     "metadata": {},
     "output_type": "execute_result"
    }
   ],
   "source": [
    "nuwro_evt_rate"
   ]
  },
  {
   "cell_type": "code",
   "execution_count": 68,
   "id": "7a16e36d",
   "metadata": {},
   "outputs": [
    {
     "name": "stdout",
     "output_type": "stream",
     "text": [
      "[4.978968166849229, 68.4721932501244, 58.09970184988147, 29.46632075993373, 11.54717134708982, 8.410280150459]\n"
     ]
    }
   ],
   "source": [
    "##ALLSEL NUWRO STAT ERRS\n",
    "\n",
    "# sumw2 of the full event rate \n",
    "nuwro_full_sumw2 = []\n",
    "\n",
    "for i in range(len(bins)-1):\n",
    "\n",
    "    if i==len(bins)-2: \n",
    "        bin_query = xvar+' >= '+str(bins[i])+' and '+xvar+' <= '+str(bins[i+1])\n",
    "    else: \n",
    "        bin_query = xvar+' >= '+str(bins[i])+' and '+xvar+' < '+str(bins[i+1])\n",
    "\n",
    "    #nuwro_full_sumw2.append(sum(datasets_bdt['infv'].query('is_signal==True and '+bin_query).totweight_data ** 2) ) #bug (fixed below)\n",
    "    nuwro_full_sumw2.append(sum(selected_events.query(bin_query).totweight_data ** 2))\n",
    "    #nuwro_full_sumw2.append(sum(nue.query(bin_query).totweight_data ** 2))\n",
    "    \n",
    "    \n",
    "print(nuwro_full_sumw2)   \n",
    "# percent stat error - of the background subtracted event rate \n",
    "#print( [(np.sqrt(a)/b) for a,b in zip(nuwro_full_sumw2, nuwro_evt_rate)] )"
   ]
  },
  {
   "cell_type": "code",
   "execution_count": 69,
   "id": "12fc6d28",
   "metadata": {},
   "outputs": [
    {
     "data": {
      "text/plain": [
       "[4.978968166849229,\n",
       " 68.4721932501244,\n",
       " 58.09970184988147,\n",
       " 29.46632075993373,\n",
       " 11.54717134708982,\n",
       " 8.410280150459]"
      ]
     },
     "execution_count": 69,
     "metadata": {},
     "output_type": "execute_result"
    }
   ],
   "source": [
    "nuwro_full_sumw2"
   ]
  },
  {
   "cell_type": "markdown",
   "id": "b272660c",
   "metadata": {},
   "source": [
    "Signal Region Systematic - NuWro"
   ]
  },
  {
   "cell_type": "code",
   "execution_count": 70,
   "id": "212eed33",
   "metadata": {},
   "outputs": [
    {
     "data": {
      "image/png": "[encoded data removed]",
      "text/plain": [
       "<Figure size 576x360 with 1 Axes>"
      ]
     },
     "metadata": {
      "needs_background": "light"
     },
     "output_type": "display_data"
    }
   ],
   "source": [
    "# genie vs nuwro event rate\n",
    "\n",
    "fig = plt.figure(figsize=(8, 5))\n",
    "\n",
    "# background subtracted genie evt rate \n",
    "plt.hist(bincenters, bins, histtype='step', range=[xlow,xhigh], \n",
    "        weights=numu_evt_rate, linestyle=\":\", linewidth=2, \n",
    "                  label='GENIE v3')\n",
    "\n",
    "# background subtracted nuwro evt rate\n",
    "plt.hist(bincenters, bins, histtype='step', range=[xlow,xhigh], \n",
    "        weights=nuwro_evt_rate, linestyle=\":\", linewidth=2, \n",
    "                  label='NuWro')\n",
    "\n",
    "# plot format stuff\n",
    "plt.legend(loc='best', prop={\"size\":14}, ncol=1, frameon=False)\n",
    "\n",
    "plt.ylabel('$\\\\nu$ / $2\\\\times10^{20}$ POT', fontsize=15)\n",
    "    \n",
    "plt.xlabel(\"Reconstructed \"+x_label, fontsize=15)\n",
    "plt.xticks(x_ticks, fontsize=14)\n",
    "\n",
    "plt.yticks(fontsize=14)\n",
    "\n",
    "plt.xlim(xlow, xhigh)\n",
    "\n",
    "\n",
    "plt.title(\"Background-Subtracted Selected Event Rate\", fontsize=16)\n",
    "\n",
    "plt.show()"
   ]
  },
  {
   "cell_type": "code",
   "execution_count": 71,
   "id": "2cc30037",
   "metadata": {},
   "outputs": [],
   "source": [
    "# genie_evt_rate - background subtracted event rate \n",
    "# nuwro_evt_rate - background subtracted event rate \n",
    "# genie_nu_bkgd - neutrino background prediction from genie \n",
    "# nuwro_nu_bkgd - neutrino background prediction from nuwro\n",
    "\n",
    "sys_dict = {}\n",
    "\n"
   ]
  },
  {
   "cell_type": "code",
   "execution_count": 72,
   "id": "71ae6cc7",
   "metadata": {},
   "outputs": [],
   "source": [
    "sys_dict['genie_evt_rate'] = numu_evt_rate\n",
    "sys_dict['nuwro_evt_rate'] = nuwro_evt_rate\n",
    "sys_dict['genie_nu_bkgd'] = cv_bkgd_mc\n",
    "sys_dict['nuwro_nu_bkgd'] = list(h_nuwro_bkgd)\n"
   ]
  },
  {
   "cell_type": "code",
   "execution_count": 73,
   "id": "af10ca36",
   "metadata": {},
   "outputs": [],
   "source": [
    "np.savetxt(\"numu_nuWro_MC_Data_Signal_recoCut_run1_energy_\"+ending+\".csv\", \n",
    "           nuwro_evt_rate,\n",
    "           delimiter =\", \", \n",
    "           fmt ='% s')"
   ]
  },
  {
   "cell_type": "code",
   "execution_count": 74,
   "id": "13b3f262",
   "metadata": {},
   "outputs": [
    {
     "data": {
      "text/plain": [
       "array([156.11698435, 240.54109093,  61.55002015,  12.12741097,\n",
       "         1.39572014,   1.13178161])"
      ]
     },
     "execution_count": 74,
     "metadata": {},
     "output_type": "execute_result"
    }
   ],
   "source": [
    "nuwro_true"
   ]
  },
  {
   "cell_type": "code",
   "execution_count": 75,
   "id": "f0b7f324",
   "metadata": {},
   "outputs": [
    {
     "data": {
      "text/plain": [
       "array([2073.08117467, 2628.79486018, 1859.06818218, 1018.43174046,\n",
       "        393.23928242,  434.29251378])"
      ]
     },
     "execution_count": 75,
     "metadata": {},
     "output_type": "execute_result"
    }
   ],
   "source": [
    "genie_true"
   ]
  },
  {
   "cell_type": "markdown",
   "id": "28b4922a",
   "metadata": {},
   "source": [
    "## Create the Numu Cov Uncertainty Matrix"
   ]
  },
  {
   "cell_type": "code",
   "execution_count": 76,
   "id": "d957b271",
   "metadata": {},
   "outputs": [
    {
     "name": "stdout",
     "output_type": "stream",
     "text": [
      "[4.978968166849229, 68.4721932501244, 58.09970184988147, 29.46632075993373, 11.54717134708982, 8.410280150459]\n"
     ]
    }
   ],
   "source": [
    "#nuWro_stat_err_numu\n",
    "#array([ 5.3487608 ,  5.52786268,  6.70549925,  6.97774993,  9.33344634,\n",
    "#       12.95879938, 16.85555654, 28.36305774, 41.59580091, 77.48407289])\n",
    "\n",
    "nuWro_stat_err_numu = nuwro_full_sumw2\n",
    "print(nuWro_stat_err_numu)"
   ]
  },
  {
   "cell_type": "code",
   "execution_count": 77,
   "id": "e16303d9",
   "metadata": {},
   "outputs": [
    {
     "name": "stdout",
     "output_type": "stream",
     "text": [
      "[ 1.3253138  25.3632554  17.92122512  4.43034931  1.96007475  0.76029487]\n"
     ]
    }
   ],
   "source": [
    "numu_bkg_genie_err = pd.read_csv(\"numu_bkg_exp_err_squared_energy_\"+ending+\".csv\", header=None)\n",
    "\n",
    "numu_bkg_genie_err = numu_bkg_genie_err.values[:, 0]\n",
    "print(numu_bkg_genie_err)"
   ]
  },
  {
   "cell_type": "code",
   "execution_count": 78,
   "id": "dc0afc62",
   "metadata": {},
   "outputs": [
    {
     "name": "stdout",
     "output_type": "stream",
     "text": [
      "[ 6.30428196 93.83544865 76.02092697 33.89667007 13.5072461   9.17057502]\n"
     ]
    }
   ],
   "source": [
    "totalstat_numu_err = nuWro_stat_err_numu + numu_bkg_genie_err\n",
    "print(totalstat_numu_err)"
   ]
  },
  {
   "cell_type": "code",
   "execution_count": 79,
   "id": "8fac7c72",
   "metadata": {},
   "outputs": [
    {
     "name": "stdout",
     "output_type": "stream",
     "text": [
      "[[0. 0. 0. 0. 0. 0.]\n",
      " [0. 0. 0. 0. 0. 0.]\n",
      " [0. 0. 0. 0. 0. 0.]\n",
      " [0. 0. 0. 0. 0. 0.]\n",
      " [0. 0. 0. 0. 0. 0.]\n",
      " [0. 0. 0. 0. 0. 0.]]\n"
     ]
    }
   ],
   "source": [
    "numu_cov_stats   = np.zeros([(len(bins)-1), (len(bins)-1)])\n",
    "print(numu_cov_stats)"
   ]
  },
  {
   "cell_type": "code",
   "execution_count": 80,
   "id": "65af29be",
   "metadata": {},
   "outputs": [],
   "source": [
    "numu_cov_stats[np.diag_indices_from(numu_cov_stats)]    = totalstat_numu_err"
   ]
  },
  {
   "cell_type": "code",
   "execution_count": 81,
   "id": "6012b278",
   "metadata": {},
   "outputs": [
    {
     "data": {
      "image/png": "[encoded data removed]",
      "text/plain": [
       "<Figure size 720x432 with 2 Axes>"
      ]
     },
     "metadata": {
      "needs_background": "light"
     },
     "output_type": "display_data"
    }
   ],
   "source": [
    "fig = plt.figure(figsize=(10, 6))\n",
    "        \n",
    "plt.pcolor(bins, bins, numu_cov_stats, cmap='OrRd', edgecolors='k')#, vmin=-1, vmax=1)\n",
    "            \n",
    "cbar = plt.colorbar()\n",
    "cbar.ax.tick_params(labelsize=14)\n",
    "\n",
    "\n",
    "\n",
    "\n",
    "#plt.xlabel('Reco Shower Energy [GeV]', fontsize=15)\n",
    "#plt.ylabel('Reco Shower Energy [GeV]', fontsize=15)\n",
    "\n",
    "plt.title('Covariance', fontsize=15)\n",
    "\n",
    "plt.show()"
   ]
  },
  {
   "cell_type": "code",
   "execution_count": 82,
   "id": "35205e8a",
   "metadata": {},
   "outputs": [
    {
     "name": "stdout",
     "output_type": "stream",
     "text": [
      "[[1.07808960e+00 2.40596516e+01 2.26321578e+01 1.17802011e+01\n",
      "  3.85252981e+00 3.46005127e+00]\n",
      " [2.40596516e+01 9.50726694e+02 1.01621752e+03 6.82053903e+02\n",
      "  1.81706398e+02 1.92855124e+02]\n",
      " [2.26321578e+01 1.01621752e+03 1.13455366e+03 7.79756648e+02\n",
      "  2.09428362e+02 2.19028295e+02]\n",
      " [1.17802011e+01 6.82053903e+02 7.79756648e+02 5.79094377e+02\n",
      "  1.44848304e+02 1.61491361e+02]\n",
      " [3.85252981e+00 1.81706398e+02 2.09428362e+02 1.44848304e+02\n",
      "  4.12301276e+01 4.07892444e+01]\n",
      " [3.46005127e+00 1.92855124e+02 2.19028295e+02 1.61491361e+02\n",
      "  4.07892444e+01 4.59204373e+01]]\n"
     ]
    }
   ],
   "source": [
    "# Now need to load in the genie sys errs from numu\n",
    "\n",
    "numu_bkg_genie_err = pd.read_csv(\"numu_cov_genie_only_energy_\"+ending+\".csv\", header=None)\n",
    "\n",
    "numu_bkg_genie_err = numu_bkg_genie_err.values\n",
    "print(numu_bkg_genie_err)"
   ]
  },
  {
   "cell_type": "code",
   "execution_count": 83,
   "id": "938beb25",
   "metadata": {},
   "outputs": [
    {
     "data": {
      "image/png": "[encoded data removed]",
      "text/plain": [
       "<Figure size 720x432 with 2 Axes>"
      ]
     },
     "metadata": {
      "needs_background": "light"
     },
     "output_type": "display_data"
    }
   ],
   "source": [
    "fig = plt.figure(figsize=(10, 6))\n",
    "        \n",
    "plt.pcolor(bins, bins, numu_bkg_genie_err, cmap='OrRd', edgecolors='k')#, vmin=-1, vmax=1)\n",
    "            \n",
    "cbar = plt.colorbar()\n",
    "cbar.ax.tick_params(labelsize=14)\n",
    "\n",
    "\n",
    "\n",
    "\n",
    "#plt.xlabel('Reco Shower Energy [GeV]', fontsize=15)\n",
    "#plt.ylabel('Reco Shower Energy [GeV]', fontsize=15)\n",
    "\n",
    "plt.title('genie cov', fontsize=15)\n",
    "\n",
    "plt.show()"
   ]
  },
  {
   "cell_type": "code",
   "execution_count": 84,
   "id": "70e0677c",
   "metadata": {},
   "outputs": [],
   "source": [
    "total_cov_nuWro_numu = numu_bkg_genie_err + numu_cov_stats"
   ]
  },
  {
   "cell_type": "code",
   "execution_count": 85,
   "id": "3d028017",
   "metadata": {},
   "outputs": [],
   "source": [
    "np.savetxt(\"data_covmat_numu_MC_nuWro_input_recoE_\"+ending+\".csv\", \n",
    "           total_cov_nuWro_numu,\n",
    "           delimiter =\", \", \n",
    "           fmt ='% s')"
   ]
  },
  {
   "cell_type": "code",
   "execution_count": 86,
   "id": "877a75c7",
   "metadata": {},
   "outputs": [
    {
     "data": {
      "image/png": "[encoded data removed]",
      "text/plain": [
       "<Figure size 720x432 with 2 Axes>"
      ]
     },
     "metadata": {
      "needs_background": "light"
     },
     "output_type": "display_data"
    }
   ],
   "source": [
    "fig = plt.figure(figsize=(10, 6))\n",
    "        \n",
    "plt.pcolor(bins, bins, total_cov_nuWro_numu, cmap='OrRd', edgecolors='k')#, vmin=-1, vmax=1)\n",
    "            \n",
    "cbar = plt.colorbar()\n",
    "cbar.ax.tick_params(labelsize=14)\n",
    "\n",
    "\n",
    "\n",
    "\n",
    "#plt.xlabel('Reco Shower Energy [GeV]', fontsize=15)\n",
    "#plt.ylabel('Reco Shower Energy [GeV]', fontsize=15)\n",
    "\n",
    "plt.title('total input nuwro cov', fontsize=15)\n",
    "\n",
    "plt.show()"
   ]
  },
  {
   "cell_type": "code",
   "execution_count": null,
   "id": "3f3799f8",
   "metadata": {},
   "outputs": [],
   "source": []
  },
  {
   "cell_type": "code",
   "execution_count": 87,
   "id": "42beb921",
   "metadata": {},
   "outputs": [
    {
     "name": "stdout",
     "output_type": "stream",
     "text": [
      "\n",
      "[[1.0000000000000002, 0.27398339519365655, 0.23940446044803212, 0.17511675028738882, 0.19164878943134553, 0.17157112864031313], [0.27398339519365655, 1.0, 0.9036989121108426, 0.8523628079725057, 0.759908145011934, 0.8039400521936079], [0.23940446044803212, 0.9036989121108426, 1.0000000000000002, 0.9051826994005768, 0.8135752776615087, 0.8481332125327687], [0.17511675028738882, 0.8523628079725057, 0.9051826994005768, 1.0, 0.7907594135241837, 0.8787834181941375], [0.19164878943134553, 0.759908145011934, 0.8135752776615087, 0.7907594135241837, 1.0, 0.7427853095121193], [0.17157112864031313, 0.8039400521936079, 0.8481332125327687, 0.8787834181941375, 0.7427853095121193, 1.0]]\n"
     ]
    }
   ],
   "source": [
    "total_cor_nuWro_numu = [ [0]*(len(bins)-1) for x in range(len(bins)-1) ]\n",
    "for i in range(len(total_cov_nuWro_numu)): \n",
    "        for j in range(len(total_cov_nuWro_numu[i])): \n",
    "\n",
    "            if np.sqrt(total_cov_nuWro_numu[i][i])*np.sqrt(total_cov_nuWro_numu[j][j]) != 0: \n",
    "                total_cor_nuWro_numu[i][j] = total_cov_nuWro_numu[i][j] / (np.sqrt(total_cov_nuWro_numu[i][i])*np.sqrt(total_cov_nuWro_numu[j][j]))\n",
    "                \n",
    "print(\"\")\n",
    "print(total_cor_nuWro_numu)"
   ]
  },
  {
   "cell_type": "code",
   "execution_count": 88,
   "id": "aca8465e",
   "metadata": {},
   "outputs": [
    {
     "data": {
      "image/png": "[encoded data removed]",
      "text/plain": [
       "<Figure size 720x432 with 2 Axes>"
      ]
     },
     "metadata": {
      "needs_background": "light"
     },
     "output_type": "display_data"
    }
   ],
   "source": [
    "fig = plt.figure(figsize=(10, 6))\n",
    "        \n",
    "plt.pcolor(bins, bins, total_cor_nuWro_numu, cmap='OrRd', edgecolors='k', vmin=-1, vmax=1)#, vmin=-1, vmax=1)\n",
    "            \n",
    "cbar = plt.colorbar()\n",
    "cbar.ax.tick_params(labelsize=14)\n",
    "\n",
    "\n",
    "\n",
    "\n",
    "#plt.xlabel('Reco Shower Energy [GeV]', fontsize=15)\n",
    "#plt.ylabel('Reco Shower Energy [GeV]', fontsize=15)\n",
    "\n",
    "plt.title('total input nuwro cor', fontsize=15)\n",
    "\n",
    "plt.show()"
   ]
  },
  {
   "cell_type": "code",
   "execution_count": 89,
   "id": "d0bc59ac",
   "metadata": {},
   "outputs": [],
   "source": [
    "total_frac_cov_nuWro_numu = [ [0]*(len(bins)-1) for x in range(len(bins)-1) ]\n",
    "\n",
    "for i in range(len(bins)-1): \n",
    "\n",
    "    for j in range(len(bins)-1): \n",
    "\n",
    "        c = total_cov_nuWro_numu[i][j]\n",
    "        \n",
    "        if nuwro_evt_rate[i]*nuwro_evt_rate[j] != 0:\n",
    "            total_frac_cov_nuWro_numu[i][j] = c/(nuwro_evt_rate[i]*nuwro_evt_rate[j])"
   ]
  },
  {
   "cell_type": "code",
   "execution_count": 90,
   "id": "5950edce",
   "metadata": {},
   "outputs": [
    {
     "data": {
      "image/png": "[encoded data removed]",
      "text/plain": [
       "<Figure size 720x432 with 2 Axes>"
      ]
     },
     "metadata": {
      "needs_background": "light"
     },
     "output_type": "display_data"
    }
   ],
   "source": [
    "fig = plt.figure(figsize=(10, 6))\n",
    "        \n",
    "plt.pcolor(bins, bins, total_frac_cov_nuWro_numu, cmap='OrRd', edgecolors='k')#, vmin=-1, vmax=1)\n",
    "            \n",
    "cbar = plt.colorbar()\n",
    "cbar.ax.tick_params(labelsize=14)\n",
    "\n",
    "\n",
    "\n",
    "\n",
    "#plt.xlabel('Reco Shower Energy [GeV]', fontsize=15)\n",
    "#plt.ylabel('Reco Shower Energy [GeV]', fontsize=15)\n",
    "\n",
    "plt.title('total input nuwro frac cov', fontsize=15)\n",
    "\n",
    "plt.show()"
   ]
  },
  {
   "cell_type": "markdown",
   "id": "f50e38da",
   "metadata": {},
   "source": [
    "## Now make the inputs blockwise"
   ]
  },
  {
   "cell_type": "code",
   "execution_count": 91,
   "id": "0440f827",
   "metadata": {},
   "outputs": [
    {
     "name": "stdout",
     "output_type": "stream",
     "text": [
      "[ 8.6668854  27.61469215  9.74686459  2.82537208  0.92893624  0.37248243]\n"
     ]
    }
   ],
   "source": [
    "nue_data_signal = pd.read_csv(\"nue_nuWro_MC_Data_Signal_recoCut_run1_energy_\"+ending+\".csv\", header=None)\n",
    "\n",
    "nue_data_signal = nue_data_signal.values[:, 0]\n",
    "\n",
    "print(nue_data_signal)"
   ]
  },
  {
   "cell_type": "code",
   "execution_count": 92,
   "id": "d175a1b2",
   "metadata": {},
   "outputs": [
    {
     "name": "stdout",
     "output_type": "stream",
     "text": [
      "[  8.6668854   27.61469215   9.74686459   2.82537208   0.92893624\n",
      "   0.37248243  16.16382296 190.25595054 139.63787849  68.92579013\n",
      "  26.69103892  22.01623207]\n",
      "12\n"
     ]
    }
   ],
   "source": [
    "nue_numu_tot = np.concatenate((nue_data_signal, nuwro_evt_rate), axis=0)\n",
    "\n",
    "print(nue_numu_tot)\n",
    "print(len(nue_numu_tot))\n"
   ]
  },
  {
   "cell_type": "code",
   "execution_count": 93,
   "id": "c83bccae",
   "metadata": {},
   "outputs": [
    {
     "data": {
      "image/png": "[encoded data removed]",
      "text/plain": [
       "<Figure size 576x504 with 1 Axes>"
      ]
     },
     "metadata": {
      "needs_background": "light"
     },
     "output_type": "display_data"
    }
   ],
   "source": [
    "nue_numu_fig = plt.figure(figsize=(8, 7))\n",
    "nue_numu_gs = gridspec.GridSpec(2, 1, height_ratios=[2, 1])\n",
    "nue_numu_ax1 = plt.subplot(nue_numu_gs[0])\n",
    "\n",
    "\n",
    "bins = np.arange(0, 13, 1)\n",
    "count = np.arange(0.0, 12.0, 1)\n",
    "\n",
    "\n",
    "sel_ratio = nue_numu_ax1.hist(count, bins, edgecolor='red', facecolor='red', weights=nue_numu_tot)\n",
    "nue_numu_ax1.set_ylabel('Count', fontsize=15)\n",
    "nue_numu_ax1.set_xlabel('Bin Number', fontsize=15)\n",
    "nue_numu_ax1.set_title(\"Nue, Numu, NuWro Data Selected Values\")\n",
    "#leg = nue_numu_ax1.legend()\n",
    "#nue_numu_ax1.set_ylim([0, 1])\n",
    "\n",
    "nue_numu_fig.savefig(\"data_signal_MC_nuWro_input_recoE_comb_\"+ending+\".svg\", bbox_inches='tight')\n",
    "\n",
    "np.savetxt(\"data_signal_MC_nuWro_input_recoE_comb_\"+ending+\".csv\", \n",
    "               nue_numu_tot,\n",
    "               delimiter =\", \", \n",
    "               fmt ='% s')"
   ]
  },
  {
   "cell_type": "code",
   "execution_count": 94,
   "id": "c8335c3d",
   "metadata": {},
   "outputs": [
    {
     "name": "stdout",
     "output_type": "stream",
     "text": [
      "[[3.43565159e+00 1.19305194e+01 5.10864895e+00 1.76997729e+00\n",
      "  5.26029667e-01 4.43472464e-01 1.37633244e+00 5.56792270e+01\n",
      "  5.91405886e+01 4.01778644e+01 1.02696437e+01 1.12896596e+01]\n",
      " [1.19305194e+01 4.57533183e+01 1.98883022e+01 6.91301460e+00\n",
      "  2.01653209e+00 1.68894664e+00 4.15510465e+00 2.02344648e+02\n",
      "  2.21033345e+02 1.58135229e+02 3.92509670e+01 4.45678461e+01]\n",
      " [5.10864895e+00 1.98883022e+01 8.82672750e+00 3.04022231e+00\n",
      "  8.88937956e-01 7.50658539e-01 1.72817329e+00 8.75504980e+01\n",
      "  9.72454193e+01 7.00562572e+01 1.75547638e+01 1.98053425e+01]\n",
      " [1.76997729e+00 6.91301460e+00 3.04022231e+00 1.08596297e+00\n",
      "  3.09896790e-01 2.55000083e-01 5.62532277e-01 3.02058322e+01\n",
      "  3.37316918e+01 2.45152135e+01 6.07963342e+00 6.85333860e+00]\n",
      " [5.26029667e-01 2.01653209e+00 8.88937956e-01 3.09896790e-01\n",
      "  9.37516511e-02 7.57324331e-02 1.82792154e-01 9.04255785e+00\n",
      "  1.01364658e+01 7.16822247e+00 1.85872330e+00 2.00923112e+00]\n",
      " [4.43472464e-01 1.68894664e+00 7.50658539e-01 2.55000083e-01\n",
      "  7.57324331e-02 6.76413889e-02 1.58760838e-01 7.54589669e+00\n",
      "  8.33792800e+00 5.95987252e+00 1.51546200e+00 1.71124702e+00]\n",
      " [1.37633244e+00 4.15510465e+00 1.72817329e+00 5.62532277e-01\n",
      "  1.82792154e-01 1.58760838e-01 1.08311501e+00 2.41803363e+01\n",
      "  2.26987290e+01 1.17827923e+01 3.85891296e+00 3.46181895e+00]\n",
      " [5.56792270e+01 2.02344648e+02 8.75504980e+01 3.02058322e+01\n",
      "  9.04255785e+00 7.54589669e+00 2.41803363e+01 9.59773852e+02\n",
      "  1.02373437e+03 6.86178669e+02 1.82638749e+02 1.93845670e+02]\n",
      " [5.91405886e+01 2.21033345e+02 9.72454193e+01 3.37316918e+01\n",
      "  1.01364658e+01 8.33792800e+00 2.26987290e+01 1.02373437e+03\n",
      "  1.14039333e+03 7.82432858e+02 2.10017218e+02 2.19542691e+02]\n",
      " [4.01778644e+01 1.58135229e+02 7.00562572e+01 2.45152135e+01\n",
      "  7.16822247e+00 5.95987252e+00 1.17827923e+01 6.86178669e+02\n",
      "  7.82432858e+02 5.80122877e+02 1.44974578e+02 1.61603544e+02]\n",
      " [1.02696437e+01 3.92509670e+01 1.75547638e+01 6.07963342e+00\n",
      "  1.85872330e+00 1.51546200e+00 3.85891296e+00 1.82638749e+02\n",
      "  2.10017218e+02 1.44974578e+02 4.12355641e+01 4.07799951e+01]\n",
      " [1.12896596e+01 4.45678461e+01 1.98053425e+01 6.85333860e+00\n",
      "  2.00923112e+00 1.71124702e+00 3.46181895e+00 1.93845670e+02\n",
      "  2.19542691e+02 1.61603544e+02 4.07799951e+01 4.59075435e+01]]\n"
     ]
    }
   ],
   "source": [
    "# Load in the blockwise genie cov matrix\n",
    "\n",
    "blockwise_genie_err = pd.read_csv(\"blockwise_cov_genie_only_energy_\"+ending+\".csv\", header=None)\n",
    "\n",
    "blockwise_genie_err = blockwise_genie_err.values\n",
    "print(blockwise_genie_err)"
   ]
  },
  {
   "cell_type": "code",
   "execution_count": 95,
   "id": "b6395a8c",
   "metadata": {},
   "outputs": [
    {
     "data": {
      "image/png": "[encoded data removed]",
      "text/plain": [
       "<Figure size 720x432 with 2 Axes>"
      ]
     },
     "metadata": {
      "needs_background": "light"
     },
     "output_type": "display_data"
    }
   ],
   "source": [
    "fig = plt.figure(figsize=(10, 6))\n",
    "\n",
    "bins = np.arange(0, 13, 1)\n",
    "        \n",
    "plt.pcolor(bins, bins, blockwise_genie_err, cmap='OrRd', edgecolors='k')#, vmin=-1, vmax=1)\n",
    "            \n",
    "cbar = plt.colorbar()\n",
    "cbar.ax.tick_params(labelsize=14)\n",
    "\n",
    "\n",
    "\n",
    "\n",
    "#plt.xlabel('Reco Shower Energy [GeV]', fontsize=15)\n",
    "#plt.ylabel('Reco Shower Energy [GeV]', fontsize=15)\n",
    "\n",
    "plt.title('Covariance', fontsize=15)\n",
    "\n",
    "plt.show()\n"
   ]
  },
  {
   "cell_type": "markdown",
   "id": "c3a74c24",
   "metadata": {},
   "source": [
    "Now add in the Stat errs to the blockwise matrix"
   ]
  },
  {
   "cell_type": "code",
   "execution_count": 96,
   "id": "a02a42f3",
   "metadata": {},
   "outputs": [
    {
     "name": "stdout",
     "output_type": "stream",
     "text": [
      "[2.22039558e+00 3.43023532e+00 6.34848526e-01 3.78003610e-01\n",
      " 1.02895529e-01 3.66116708e-02 6.30428196e+00 9.38354487e+01\n",
      " 7.60209270e+01 3.38966701e+01 1.35072461e+01 9.17057502e+00]\n"
     ]
    }
   ],
   "source": [
    "#nue_cov_mc_stat and numu_cov_mc_stat\n",
    "\n",
    "totalstat_nue_err = pd.read_csv(\"totalstat_nuWro_nue_err_energy_\"+ending+\".csv\", header=None)\n",
    "\n",
    "totalstat_nue_err = totalstat_nue_err.values[:, 0]\n",
    "\n",
    "\n",
    "nue_stats = totalstat_nue_err\n",
    "numu_stats = totalstat_numu_err\n",
    "\n",
    "nue_numu_stats = np.concatenate((nue_stats, numu_stats), axis=0)\n",
    "\n",
    "print(nue_numu_stats)"
   ]
  },
  {
   "cell_type": "code",
   "execution_count": 97,
   "id": "696148b1",
   "metadata": {},
   "outputs": [
    {
     "name": "stdout",
     "output_type": "stream",
     "text": [
      "[[0. 0. 0. 0. 0. 0. 0. 0. 0. 0. 0. 0.]\n",
      " [0. 0. 0. 0. 0. 0. 0. 0. 0. 0. 0. 0.]\n",
      " [0. 0. 0. 0. 0. 0. 0. 0. 0. 0. 0. 0.]\n",
      " [0. 0. 0. 0. 0. 0. 0. 0. 0. 0. 0. 0.]\n",
      " [0. 0. 0. 0. 0. 0. 0. 0. 0. 0. 0. 0.]\n",
      " [0. 0. 0. 0. 0. 0. 0. 0. 0. 0. 0. 0.]\n",
      " [0. 0. 0. 0. 0. 0. 0. 0. 0. 0. 0. 0.]\n",
      " [0. 0. 0. 0. 0. 0. 0. 0. 0. 0. 0. 0.]\n",
      " [0. 0. 0. 0. 0. 0. 0. 0. 0. 0. 0. 0.]\n",
      " [0. 0. 0. 0. 0. 0. 0. 0. 0. 0. 0. 0.]\n",
      " [0. 0. 0. 0. 0. 0. 0. 0. 0. 0. 0. 0.]\n",
      " [0. 0. 0. 0. 0. 0. 0. 0. 0. 0. 0. 0.]]\n"
     ]
    }
   ],
   "source": [
    "nue_numu_nuWro_cov_stats   = np.zeros([(len(bins)-1), (len(bins)-1)])\n",
    "print(nue_numu_nuWro_cov_stats)"
   ]
  },
  {
   "cell_type": "code",
   "execution_count": 98,
   "id": "b0a97590",
   "metadata": {},
   "outputs": [],
   "source": [
    "nue_numu_nuWro_cov_stats[np.diag_indices_from(nue_numu_nuWro_cov_stats)]    = nue_numu_stats"
   ]
  },
  {
   "cell_type": "code",
   "execution_count": 99,
   "id": "b0106807",
   "metadata": {},
   "outputs": [
    {
     "data": {
      "image/png": "[encoded data removed]",
      "text/plain": [
       "<Figure size 720x432 with 2 Axes>"
      ]
     },
     "metadata": {
      "needs_background": "light"
     },
     "output_type": "display_data"
    }
   ],
   "source": [
    "fig = plt.figure(figsize=(10, 6))\n",
    "        \n",
    "plt.pcolor(bins, bins, nue_numu_nuWro_cov_stats, cmap='OrRd', edgecolors='k')#, vmin=-1, vmax=1)\n",
    "            \n",
    "cbar = plt.colorbar()\n",
    "cbar.ax.tick_params(labelsize=14)\n",
    "\n",
    "\n",
    "\n",
    "\n",
    "#plt.xlabel('Reco Shower Energy [GeV]', fontsize=15)\n",
    "#plt.ylabel('Reco Shower Energy [GeV]', fontsize=15)\n",
    "\n",
    "plt.title('Covariance', fontsize=15)\n",
    "\n",
    "#plt.savefig(\"blockwise_nuWro_cov_input.svg\", bbox_inches='tight')\n",
    "\n",
    "plt.show()"
   ]
  },
  {
   "cell_type": "markdown",
   "id": "30dca65b",
   "metadata": {},
   "source": [
    "nuWro Unisim"
   ]
  },
  {
   "cell_type": "code",
   "execution_count": 104,
   "id": "96be4e82",
   "metadata": {},
   "outputs": [
    {
     "name": "stdout",
     "output_type": "stream",
     "text": [
      "[[ 1.24892808e+00 -1.43848243e+00 -2.37192385e+00 -6.29364391e-01\n",
      "  -2.89773776e-01 -4.33143417e-01  9.42406886e+00  2.24803790e+01\n",
      "  -1.22495337e+01 -1.95817853e+00  1.35465701e+00  2.19914389e-01]\n",
      " [-1.43848243e+00  1.65680612e+00  2.73191934e+00  7.24885306e-01\n",
      "   3.33753793e-01  4.98883164e-01 -1.08543940e+01 -2.58923076e+01\n",
      "   1.41086898e+01  2.25537839e+00 -1.56025821e+00 -2.53291594e-01]\n",
      " [-2.37192385e+00  2.73191934e+00  4.50468113e+00  1.19526851e+00\n",
      "   5.50328991e-01  8.22611979e-01 -1.78978870e+01 -4.26940092e+01\n",
      "   2.32639184e+01  3.71890938e+00 -2.57272080e+00 -4.17654301e-01]\n",
      " [-6.29364391e-01  7.24885306e-01  1.19526851e+00  3.17151597e-01\n",
      "   1.46023857e-01  2.18271209e-01 -4.74901112e+00 -1.13283945e+01\n",
      "   6.17282963e+00  9.86772460e-01 -6.82643694e-01 -1.10820060e-01]\n",
      " [-2.89773776e-01  3.33753793e-01  5.50328991e-01  1.46023857e-01\n",
      "   6.72327274e-02  1.00497062e-01 -2.18655346e+00 -5.21585221e+00\n",
      "   2.84211210e+00  4.54332635e-01 -3.14304787e-01 -5.10240933e-02]\n",
      " [-4.33143417e-01  4.98883164e-01  8.22611979e-01  2.18271209e-01\n",
      "   1.00497062e-01  1.50219394e-01 -3.26838145e+00 -7.79646826e+00\n",
      "   4.24828693e+00  6.79120079e-01 -4.69811490e-01 -7.62689792e-02]\n",
      " [ 9.42406886e+00 -1.08543940e+01 -1.78978870e+01 -4.74901112e+00\n",
      "  -2.18655346e+00 -3.26838145e+00  7.11114395e+01  1.69630776e+02\n",
      "  -9.24316220e+01 -1.47758782e+01  1.02218703e+01  1.65941368e+00]\n",
      " [ 2.24803790e+01 -2.58923076e+01 -4.26940092e+01 -1.13283945e+01\n",
      "  -5.21585221e+00 -7.79646826e+00  1.69630776e+02  4.04640945e+02\n",
      "  -2.20488403e+02 -3.52467016e+01  2.43834719e+01  3.95840151e+00]\n",
      " [-1.22495337e+01  1.41086898e+01  2.32639184e+01  6.17282963e+00\n",
      "   2.84211210e+00  4.24828693e+00 -9.24316220e+01 -2.20488403e+02\n",
      "   1.20143887e+02  1.92058887e+01 -1.32865269e+01 -2.15692861e+00]\n",
      " [-1.95817853e+00  2.25537839e+00  3.71890938e+00  9.86772460e-01\n",
      "   4.54332635e-01  6.79120079e-01 -1.47758782e+01 -3.52467016e+01\n",
      "   1.92058887e+01  3.07020333e+00 -2.12394957e+00 -3.44800987e-01]\n",
      " [ 1.35465701e+00 -1.56025821e+00 -2.57272080e+00 -6.82643694e-01\n",
      "  -3.14304787e-01 -4.69811490e-01  1.02218703e+01  2.43834719e+01\n",
      "  -1.32865269e+01 -2.12394957e+00  1.46933648e+00  2.38531403e-01]\n",
      " [ 2.19914389e-01 -2.53291594e-01 -4.17654301e-01 -1.10820060e-01\n",
      "  -5.10240933e-02 -7.62689792e-02  1.65941368e+00  3.95840151e+00\n",
      "  -2.15692861e+00 -3.44800987e-01  2.38531403e-01  3.87230772e-02]]\n"
     ]
    }
   ],
   "source": [
    "nuWro_unisim = pd.read_csv(\"nuWro_extra_unisim_uncertainties_energy_\"+ending+\".csv\", header=None)\n",
    "\n",
    "nuWro_unisim = nuWro_unisim.values\n",
    "print(nuWro_unisim)"
   ]
  },
  {
   "cell_type": "code",
   "execution_count": 105,
   "id": "1ee1b9de",
   "metadata": {},
   "outputs": [
    {
     "data": {
      "image/png": "[encoded data removed]",
      "text/plain": [
       "<Figure size 720x432 with 2 Axes>"
      ]
     },
     "metadata": {
      "needs_background": "light"
     },
     "output_type": "display_data"
    }
   ],
   "source": [
    "fig = plt.figure(figsize=(10, 6))\n",
    "\n",
    "bins = np.arange(0, 13, 1)\n",
    "        \n",
    "plt.pcolor(bins, bins, nuWro_unisim, cmap='OrRd', edgecolors='k')#, vmin=-1, vmax=1)\n",
    "            \n",
    "cbar = plt.colorbar()\n",
    "cbar.ax.tick_params(labelsize=14)\n",
    "\n",
    "\n",
    "\n",
    "\n",
    "#plt.xlabel('Reco Shower Energy [GeV]', fontsize=15)\n",
    "#plt.ylabel('Reco Shower Energy [GeV]', fontsize=15)\n",
    "\n",
    "plt.title('Covariance', fontsize=15)\n",
    "\n",
    "plt.show()"
   ]
  },
  {
   "cell_type": "markdown",
   "id": "dbf94e3f",
   "metadata": {},
   "source": [
    "Now make the total matrix"
   ]
  },
  {
   "cell_type": "code",
   "execution_count": 106,
   "id": "717f8bfa",
   "metadata": {},
   "outputs": [],
   "source": [
    "total_nuWro_input_cov = nue_numu_nuWro_cov_stats + blockwise_genie_err + nuWro_unisim"
   ]
  },
  {
   "cell_type": "code",
   "execution_count": 107,
   "id": "5ca41585",
   "metadata": {},
   "outputs": [],
   "source": [
    "np.savetxt(\"data_covmat_MC_nuWro_input_recoE_comb_\"+ending+\".csv\", \n",
    "           total_nuWro_input_cov,\n",
    "           delimiter =\", \", \n",
    "           fmt ='% s')"
   ]
  },
  {
   "cell_type": "code",
   "execution_count": 108,
   "id": "c206d6f1",
   "metadata": {},
   "outputs": [
    {
     "name": "stdout",
     "output_type": "stream",
     "text": [
      "[[ 6.90497525e+00  1.04920370e+01  2.73672509e+00  1.14061290e+00\n",
      "   2.36255891e-01  1.03290475e-02  1.08004013e+01  7.81596060e+01\n",
      "   4.68910550e+01  3.82196858e+01  1.16243007e+01  1.15095740e+01]\n",
      " [ 1.04920370e+01  5.08403597e+01  2.26202215e+01  7.63789991e+00\n",
      "   2.35028588e+00  2.18782980e+00 -6.69928932e+00  1.76452341e+02\n",
      "   2.35142034e+02  1.60390608e+02  3.76907088e+01  4.43145545e+01]\n",
      " [ 2.73672509e+00  2.26202215e+01  1.39662572e+01  4.23549082e+00\n",
      "   1.43926695e+00  1.57327052e+00 -1.61697137e+01  4.48564887e+01\n",
      "   1.20509338e+02  7.37751666e+01  1.49820430e+01  1.93876882e+01]\n",
      " [ 1.14061290e+00  7.63789991e+00  4.23549082e+00  1.78111817e+00\n",
      "   4.55920647e-01  4.73271292e-01 -4.18647884e+00  1.88774377e+01\n",
      "   3.99045214e+01  2.55019859e+01  5.39698973e+00  6.74251854e+00]\n",
      " [ 2.36255891e-01  2.35028588e+00  1.43926695e+00  4.55920647e-01\n",
      "   2.63879908e-01  1.76229495e-01 -2.00376130e+00  3.82670564e+00\n",
      "   1.29785779e+01  7.62255510e+00  1.54441851e+00  1.95820703e+00]\n",
      " [ 1.03290475e-02  2.18782980e+00  1.57327052e+00  4.73271292e-01\n",
      "   1.76229495e-01  2.54472453e-01 -3.10962062e+00 -2.50571574e-01\n",
      "   1.25862149e+01  6.63899260e+00  1.04565051e+00  1.63497804e+00]\n",
      " [ 1.08004013e+01 -6.69928932e+00 -1.61697137e+01 -4.18647884e+00\n",
      "  -2.00376130e+00 -3.10962062e+00  7.84988365e+01  1.93811112e+02\n",
      "  -6.97328930e+01 -2.99308598e+00  1.40807833e+01  5.12123263e+00]\n",
      " [ 7.81596060e+01  1.76452341e+02  4.48564887e+01  1.88774377e+01\n",
      "   3.82670564e+00 -2.50571574e-01  1.93811112e+02  1.45825025e+03\n",
      "   8.03245968e+02  6.50931967e+02  2.07022221e+02  1.97804072e+02]\n",
      " [ 4.68910550e+01  2.35142034e+02  1.20509338e+02  3.99045214e+01\n",
      "   1.29785779e+01  1.25862149e+01 -6.97328930e+01  8.03245968e+02\n",
      "   1.33655814e+03  8.01638747e+02  1.96730691e+02  2.17385762e+02]\n",
      " [ 3.82196858e+01  1.60390608e+02  7.37751666e+01  2.55019859e+01\n",
      "   7.62255510e+00  6.63899260e+00 -2.99308598e+00  6.50931967e+02\n",
      "   8.01638747e+02  6.17089751e+02  1.42850629e+02  1.61258743e+02]\n",
      " [ 1.16243007e+01  3.76907088e+01  1.49820430e+01  5.39698973e+00\n",
      "   1.54441851e+00  1.04565051e+00  1.40807833e+01  2.07022221e+02\n",
      "   1.96730691e+02  1.42850629e+02  5.62121467e+01  4.10185266e+01]\n",
      " [ 1.15095740e+01  4.43145545e+01  1.93876882e+01  6.74251854e+00\n",
      "   1.95820703e+00  1.63497804e+00  5.12123263e+00  1.97804072e+02\n",
      "   2.17385762e+02  1.61258743e+02  4.10185266e+01  5.51168416e+01]]\n"
     ]
    }
   ],
   "source": [
    "total_nuWro_input_cov = pd.read_csv(\"data_covmat_MC_nuWro_input_recoE_comb_\"+ending+\".csv\", header=None)\n",
    "\n",
    "total_nuWro_input_cov = total_nuWro_input_cov.values\n",
    "print(total_nuWro_input_cov)"
   ]
  },
  {
   "cell_type": "code",
   "execution_count": 109,
   "id": "5a5ed200",
   "metadata": {},
   "outputs": [
    {
     "data": {
      "image/png": "[encoded data removed]",
      "text/plain": [
       "<Figure size 720x432 with 2 Axes>"
      ]
     },
     "metadata": {
      "needs_background": "light"
     },
     "output_type": "display_data"
    }
   ],
   "source": [
    "fig = plt.figure(figsize=(10, 6))\n",
    "\n",
    "bins = np.arange(0, 13, 1)\n",
    "        \n",
    "plt.pcolor(bins, bins, total_nuWro_input_cov, cmap='OrRd', edgecolors='k')#, vmin=-1, vmax=1)\n",
    "            \n",
    "cbar = plt.colorbar()\n",
    "cbar.ax.tick_params(labelsize=14)\n",
    "\n",
    "plt.xlabel(\"Bin Number\", fontsize=15)\n",
    "plt.ylabel(\"Bin Number\", fontsize=15)\n",
    "\n",
    "plt.title('Covariance', fontsize=15)\n",
    "\n",
    "plt.savefig(\"blockwise_nuWro_cov_input_energy_\"+ending+\".svg\", bbox_inches='tight')\n",
    "\n",
    "plt.show()"
   ]
  },
  {
   "cell_type": "code",
   "execution_count": null,
   "id": "f5440bf0",
   "metadata": {},
   "outputs": [],
   "source": []
  }
 ],
 "metadata": {
  "kernelspec": {
   "display_name": "Python 3 (ipykernel)",
   "language": "python",
   "name": "python3"
  },
  "language_info": {
   "codemirror_mode": {
    "name": "ipython",
    "version": 3
   },
   "file_extension": ".py",
   "mimetype": "text/x-python",
   "name": "python",
   "nbconvert_exporter": "python",
   "pygments_lexer": "ipython3",
   "version": "3.8.12"
  }
 },
 "nbformat": 4,
 "nbformat_minor": 5
}
