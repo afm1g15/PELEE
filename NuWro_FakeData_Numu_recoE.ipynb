{
 "cells": [
  {
   "cell_type": "code",
   "execution_count": 103,
   "id": "13875a64",
   "metadata": {},
   "outputs": [],
   "source": [
    "#######################"
   ]
  },
  {
   "cell_type": "code",
   "execution_count": 1,
   "id": "84d55dcc",
   "metadata": {},
   "outputs": [],
   "source": [
    "\n",
    "\n",
    "nuwro = True\n",
    "ISRUN3 = False\n",
    "\n",
    "\n",
    "#True for normal, false for stat err\n",
    "#useWeights = True\n"
   ]
  },
  {
   "cell_type": "code",
   "execution_count": 2,
   "id": "16234578",
   "metadata": {},
   "outputs": [
    {
     "name": "stdout",
     "output_type": "stream",
     "text": [
      "Welcome to JupyROOT 6.24/02\n"
     ]
    }
   ],
   "source": [
    "import sys\n",
    "\n",
    "#sys.path.insert(0, 'backend_functions')\n",
    "\n",
    "#import selection_functions as sf\n",
    "\n",
    "import importlib\n",
    "\n",
    "import uproot\n",
    "import matplotlib.pylab as pylab\n",
    "import numpy as np\n",
    "import math\n",
    "from sklearn.model_selection import train_test_split\n",
    "import pickle\n",
    "import xgboost as xgb\n",
    "\n",
    "import awkward\n",
    "import matplotlib.pyplot as plt\n",
    "import pandas as pd\n",
    "\n",
    "import ROOT\n",
    "from ROOT import TH1F, TH2F, TDirectory, TH1D\n",
    "\n",
    "#import top \n",
    "#from top import *\n",
    "\n",
    "#importlib.reload(sf)\n",
    "#from selection_functions import *"
   ]
  },
  {
   "cell_type": "code",
   "execution_count": 3,
   "id": "8f915b84",
   "metadata": {},
   "outputs": [],
   "source": [
    "\n",
    "\n",
    "fold = \"nuselection\"\n",
    "tree = \"NeutrinoSelectionFilter\"\n",
    "\n"
   ]
  },
  {
   "cell_type": "code",
   "execution_count": 4,
   "id": "cc93cf39",
   "metadata": {},
   "outputs": [],
   "source": [
    "if nuwro: \n",
    "    path = \"/media/alex/TOSHIBA EXT/\""
   ]
  },
  {
   "cell_type": "code",
   "execution_count": 5,
   "id": "97dce84d",
   "metadata": {},
   "outputs": [],
   "source": [
    "\n",
    "\n",
    "if nuwro: \n",
    "    overlay = uproot.open(path+\"neutrinoselection_filt_run1_overlay_nuwro.root\")[fold][tree]\n",
    "    nue = uproot.open(path+\"neutrinoselection_filt_run1_overlay_nuwro_intrinsic.root\")[fold][tree]\n",
    "\n",
    "uproot_v = [overlay,nue]"
   ]
  },
  {
   "cell_type": "code",
   "execution_count": 6,
   "id": "f844e58a",
   "metadata": {},
   "outputs": [
    {
     "name": "stdout",
     "output_type": "stream",
     "text": [
      "['shr_phi', 'shrmoliereavg', '_opfilter_pe_beam', 'shr_tkfit_dedx_Y', 'n_tracks_contained', 'nslice', 'run', 'shr_energy_tot_cali', 'true_nu_vtx_z', 'shr_score', 'trk_mcs_muon_mom_v', 'n_showers_contained', 'tksh_distance', 'true_nu_vtx_sce_z', 'shrsubclusters2', 'true_nu_px', 'elec_e', 'shrsubclusters0', 'mc_py', 'elec_pz', 'true_nu_vtx_x', 'topological_score', 'muon_e', 'ppfx_cv', 'weightSplineTimesTune', 'trk_sce_end_y_v', 'shr_px', 'tksh_angle', 'ccnc', 'trk_theta', 'proton_e', 'reco_nu_vtx_sce_x', 'shr_pz', 'npion', 'selected', 'trk_score_v', 'reco_nu_vtx_sce_z', 'nu_e', 'shr_tkfit_npoints', 'NeutrinoEnergy2', 'shr_energy_cali', 'true_nu_vtx_y', 'elec_px', 'trk_range_muon_mom_v', 'nproton', 'mc_pdg', 'weightTune', 'trkshrhitdist2', 'true_nu_vtx_sce_x', 'shr_theta', 'trk_sce_end_x_v', 'opening_angle', 'contained_fraction', 'mc_px', 'nu_pdg', 'true_nu_vtx_sce_y', 'npi0', '_opfilter_pe_veto', 'true_e_visible', 'mc_pz', 'reco_nu_vtx_sce_y', 'trk_sce_end_z_v', 'trk_phi', 'shr_py', 'interaction', 'elec_py', 'swtrig_pre', 'true_nu_pz', 'true_nu_py', 'shr_tkfit_npointsvalid', 'trk_energy', 'shrsubclusters1']\n"
     ]
    }
   ],
   "source": [
    "\n",
    "\n",
    "variables = [\n",
    "    \"selected\", \"nu_pdg\", \n",
    "    \"trk_score_v\", \"_opfilter_pe_beam\", \"_opfilter_pe_veto\",\n",
    "    \"shr_tkfit_dedx_Y\", \"trk_theta\", \"trk_phi\",\n",
    "    \"ccnc\", \"shr_px\", \"shr_py\", \"shr_pz\",\n",
    "    \"n_tracks_contained\", \n",
    "    \"NeutrinoEnergy2\", \"shr_theta\", \"shr_phi\",\n",
    "    \"reco_nu_vtx_sce_x\",\"reco_nu_vtx_sce_y\",\"reco_nu_vtx_sce_z\",\n",
    "    \"true_nu_vtx_x\", \"true_nu_vtx_y\" , \"true_nu_vtx_z\", \n",
    "    \"nproton\", \"nu_e\", \"n_showers_contained\",\n",
    "    \"shr_score\", \"topological_score\",\n",
    "    \"trk_energy\", \"tksh_distance\", \"tksh_angle\",\n",
    "    \"npi0\", \"trk_mcs_muon_mom_v\", \"trk_range_muon_mom_v\",\n",
    "    \"shr_energy_tot_cali\", \"shr_energy_cali\", \n",
    "    \"nslice\", \"true_nu_vtx_sce_x\", \"true_nu_vtx_sce_y\", \"true_nu_vtx_sce_z\",\n",
    "    \"contained_fraction\",\n",
    "    \"npion\", \"trk_sce_end_z_v\", \"trk_sce_end_y_v\", \"trk_sce_end_x_v\",\n",
    "    \"shrmoliereavg\", \"muon_e\", \"proton_e\",\n",
    "    \"shrsubclusters0\",\"shrsubclusters1\",\"shrsubclusters2\", \n",
    "    \"shr_tkfit_npointsvalid\",\"shr_tkfit_npoints\", \"true_e_visible\", \"trkshrhitdist2\", \n",
    "    \"weightSplineTimesTune\", \"weightTune\", \"true_nu_px\", \"true_nu_py\", \"true_nu_pz\", \n",
    "    \"elec_e\", \"proton_e\", \"mc_px\", \"mc_py\", \"mc_pz\", \"elec_px\", \"elec_py\", \"elec_pz\", \n",
    "    \"swtrig_pre\", \"ppfx_cv\", \"mc_pdg\",  'interaction', 'run', \"opening_angle\"]\n",
    "\n",
    "\n",
    "variables = list(set(variables))\n",
    "print(variables)\n"
   ]
  },
  {
   "cell_type": "code",
   "execution_count": 7,
   "id": "3501ff6c",
   "metadata": {},
   "outputs": [
    {
     "name": "stdout",
     "output_type": "stream",
     "text": [
      "trk_llr_pid_v  [[] [] [0.96992034 -0.031569537] ... [0.96793294 0.40650022] [] []]\n",
      "trk_score_v  [[] [] [0.9998714 0.50025755] ... [1.0 0.35099977] [] []]\n",
      "Here:\n",
      "trk_range_muon_mom_v  [[] [] [0.43043476 0.078276224] ... [0.6475905 0.11471112] [] []]\n",
      "trk_mcs_muon_mom_v  [[] [] [0.76999545 14.999432] ... [0.7319972 0.33999917] [] []]\n"
     ]
    },
    {
     "name": "stderr",
     "output_type": "stream",
     "text": [
      "/home/alex/miniconda3/envs/vintageXgboostVintageUprootEnv/lib/python3.8/site-packages/awkward/array/jagged.py:1557: RuntimeWarning: overflow encountered in reduceat\n",
      "  out = ufunc.reduceat(content, awkward.util.windows_safe(nonterminal))[:len(out)]\n",
      "/home/alex/miniconda3/envs/vintageXgboostVintageUprootEnv/lib/python3.8/site-packages/awkward/array/jagged.py:1043: RuntimeWarning: overflow encountered in power\n",
      "  result = getattr(ufunc, method)(*inputs, **kwargs)\n",
      "/home/alex/miniconda3/envs/vintageXgboostVintageUprootEnv/lib/python3.8/site-packages/awkward/array/jagged.py:1043: RuntimeWarning: overflow encountered in true_divide\n",
      "  result = getattr(ufunc, method)(*inputs, **kwargs)\n"
     ]
    },
    {
     "name": "stdout",
     "output_type": "stream",
     "text": [
      "runtime =  70.99606108665466\n"
     ]
    }
   ],
   "source": [
    "import load_data_run123\n",
    "\n",
    "#overlay = overlay.pandas.df(variables, flatten=False)\n",
    "import time\n",
    "s = time.time()\n",
    "\n",
    "#df_v = [overlay]\n",
    "uproot_v = [overlay]\n",
    "var_v = [variables]\n",
    "\n",
    "for ii, CV in enumerate(uproot_v):\n",
    "    CVDF  = CV.pandas.df(var_v[ii], flatten=False)\n",
    "    load_data_run123.process_uproot_numu(CV,CVDF)\n",
    "    if ii == 0:\n",
    "        overlay = CVDF\n",
    "\n",
    "s2 = time.time()\n",
    "print(\"runtime = \", s2-s)"
   ]
  },
  {
   "cell_type": "code",
   "execution_count": 8,
   "id": "a12407c9",
   "metadata": {},
   "outputs": [
    {
     "name": "stdout",
     "output_type": "stream",
     "text": [
      "trk_llr_pid_v  [[-0.78143746 0.38416666] [0.87407523] [0.95106965 0.9559888 0.9254303 0.15696444] ... [] [0.9717339] [0.964979 0.9468219 0.45449623 ... 0.40842512 0.27252463 -0.024122704]]\n",
      "trk_score_v  [[0.9562631 0.6825045] [0.003897016] [0.20598558 0.9998898 0.8317998 0.6877012] ... [] [0.025898064] [0.0025717707 0.99560267 0.0046345955 ... 0.046564847 0.04777992 0.8479064]]\n",
      "Here:\n",
      "trk_range_muon_mom_v  [[0.12827516 0.11244526] [0.34143892] [0.49884015 0.4504341 0.26308486 0.09565418] ... [] [0.5201309] [0.49302557 0.37322274 0.15795542 ... 0.093439244 0.10036876 0.07326373]]\n",
      "trk_mcs_muon_mom_v  [[0.83299285 0.2360003] [0.26800004] [0.29199973 0.42299783 0.34699908 1.4940138] ... [] [0.36699855] [0.3869983 0.55599636 0.12600008 ... 0.6449953 0.07999998 14.999432]]\n",
      "runtime =  72.55000567436218\n"
     ]
    }
   ],
   "source": [
    "\n",
    "\n",
    "#nue = nue.pandas.df(variables, flatten=False)\n",
    "\n",
    "import time\n",
    "s = time.time()\n",
    "\n",
    "#df_v = [overlay]\n",
    "uproot_v = [nue]\n",
    "var_v = [variables]\n",
    "\n",
    "for ii, CV in enumerate(uproot_v):\n",
    "    CVDF  = CV.pandas.df(var_v[ii], flatten=False)\n",
    "    load_data_run123.process_uproot_numu(CV,CVDF)\n",
    "    if ii == 0:\n",
    "        nue = CVDF\n",
    "\n",
    "s2 = time.time()\n",
    "print(\"runtime = \", s2-s)"
   ]
  },
  {
   "cell_type": "code",
   "execution_count": 9,
   "id": "400907ac",
   "metadata": {},
   "outputs": [],
   "source": [
    "df_v = [overlay,nue]\n",
    "uproot_v = [overlay,nue]"
   ]
  },
  {
   "cell_type": "code",
   "execution_count": 10,
   "id": "093dd0b5",
   "metadata": {},
   "outputs": [
    {
     "name": "stdout",
     "output_type": "stream",
     "text": [
      "280045\n",
      "132027\n"
     ]
    }
   ],
   "source": [
    "for i,df in enumerate(df_v):  \n",
    "    df[\"bnbdata\"] = np.zeros_like(df[\"nslice\"])\n",
    "    df[\"extdata\"] = np.zeros_like(df[\"nslice\"])\n",
    "    print(len(df[\"extdata\"]))"
   ]
  },
  {
   "cell_type": "code",
   "execution_count": 11,
   "id": "09e93a02",
   "metadata": {},
   "outputs": [
    {
     "data": {
      "text/plain": [
       "\"\\ndf_v = [overlay,nue]\\n\\n\\nfor i,df in enumerate(df_v):\\n    up = uproot_v[i]\\n    trk_llr_pid_v = up.array('trk_llr_pid_score_v')\\n    trk_id = up.array('trk_id')-1 # I think we need this -1 to get the right result\\n    trk_llr_pid_v_sel = awkward.fromiter([pidv[tid] if tid<len(pidv) else 9999. for pidv,tid in zip(trk_llr_pid_v,trk_id)])\\n    df['trkpid'] = trk_llr_pid_v_sel\\n    df['subcluster'] = df['shrsubclusters0'] + df['shrsubclusters1'] + df['shrsubclusters2']\\n\\n    df['NeutrinoEnergy2_GeV'] = df['NeutrinoEnergy2']/1000\\n\\n\""
      ]
     },
     "execution_count": 11,
     "metadata": {},
     "output_type": "execute_result"
    }
   ],
   "source": [
    "\"\"\"\n",
    "df_v = [overlay,nue]\n",
    "\n",
    "\n",
    "for i,df in enumerate(df_v):\n",
    "    up = uproot_v[i]\n",
    "    trk_llr_pid_v = up.array('trk_llr_pid_score_v')\n",
    "    trk_id = up.array('trk_id')-1 # I think we need this -1 to get the right result\n",
    "    trk_llr_pid_v_sel = awkward.fromiter([pidv[tid] if tid<len(pidv) else 9999. for pidv,tid in zip(trk_llr_pid_v,trk_id)])\n",
    "    df['trkpid'] = trk_llr_pid_v_sel\n",
    "    df['subcluster'] = df['shrsubclusters0'] + df['shrsubclusters1'] + df['shrsubclusters2']\n",
    "\n",
    "    df['NeutrinoEnergy2_GeV'] = df['NeutrinoEnergy2']/1000\n",
    "\n",
    "\"\"\""
   ]
  },
  {
   "cell_type": "code",
   "execution_count": 12,
   "id": "f68e58f3",
   "metadata": {},
   "outputs": [],
   "source": [
    "from scipy.spatial.transform import Rotation as R\n",
    "from numpy import arccos, array\n",
    "from numpy.linalg import norm\n",
    "\n",
    "# Note: returns angle in radians\n",
    "def theta(v, w): return arccos(v.dot(w)/(norm(v)*norm(w)))* 180 / 3.1415926\n",
    "\n",
    "def GetNuMIAngle( px,  py,  pz):\n",
    "    r = R.from_matrix([[0.92103853804025681562   , 0.022713504803924120662, 0.38880857519374290021  ],\n",
    "                       [4.6254001262154668408e-05, 0.99829162468141474651 , -0.058427989452906302359],\n",
    "                       [-0.38947144863934973769  , 0.053832413938664107345, 0.91946400794392302291  ]])  \n",
    "    r = r.inv()\n",
    "    beamCoords = r.apply([px,  py,  pz])\n",
    "    beamDir    = [0,0,1]\n",
    "    #print(theta(beamCoords,beamDir))\n",
    "    return theta(beamCoords,beamDir)\n",
    "\n",
    "def GetNuMIAnglePol( phiBNB,  thetaBNB):\n",
    "    px = math.sin(thetaBNB)*math.cos(phiBNB)\n",
    "    py = math.sin(thetaBNB)*math.sin(phiBNB)\n",
    "    pz = math.cos(thetaBNB)\n",
    "    return GetNuMIAngle( px,  py,  pz)"
   ]
  },
  {
   "cell_type": "code",
   "execution_count": 13,
   "id": "02a7f29c",
   "metadata": {},
   "outputs": [
    {
     "data": {
      "text/plain": [
       "1.8690124908136228"
      ]
     },
     "execution_count": 13,
     "metadata": {},
     "output_type": "execute_result"
    }
   ],
   "source": [
    "def vectorFromNuMITarget(vtxX,  vtxY, vtxZ):\n",
    "    numiTarget      = np.array([-31387.58422, -3316.402543, -60100.2414])\n",
    "    nuInteraction   = np.array([vtxX,  vtxY, vtxZ])\n",
    "    directionVector = nuInteraction - numiTarget\n",
    "    return directionVector\n",
    "\n",
    "def angleFromNuMITarget(vtxX,  vtxY, vtxZ, thetaBNB, phiBNB):\n",
    "    v1 = vectorFromNuMITarget(vtxX,  vtxY, vtxZ)  \n",
    "    norm = np.linalg.norm(v1)\n",
    "    v1 = v1/norm\n",
    "    v2 = [np.cos(phiBNB)*np.sin(thetaBNB),np.sin(phiBNB)*np.sin(thetaBNB), np.cos(thetaBNB) ]\n",
    "    dot_product = np.dot(v1, v2)\n",
    "    angle = np.arccos(dot_product)\n",
    "    return angle #dot_product # angle*180/3.14159265\n",
    "\n",
    "\n",
    "\n",
    "angleFromNuMITarget(1,1,1,1.4,3.)"
   ]
  },
  {
   "cell_type": "code",
   "execution_count": 14,
   "id": "b7acd310",
   "metadata": {},
   "outputs": [],
   "source": [
    "#RERUN IF CHANGING\n",
    "\n",
    "isTruth = True\n",
    "\n",
    "if isTruth == False:\n",
    "\n",
    "    nue.query(\"nu_e > 0 and nslice == 1 and ( (_opfilter_pe_beam > 0 and _opfilter_pe_veto < 20) or bnbdata == 1 or extdata == 1)\\\n",
    "    and reco_nu_vtx_sce_x > 15 and reco_nu_vtx_sce_x < 245 \\\n",
    "    and reco_nu_vtx_sce_y > -105 and reco_nu_vtx_sce_y < 105 \\\n",
    "    and reco_nu_vtx_sce_z > 10 and reco_nu_vtx_sce_z < 990 \\\n",
    "    and n_muons_tot > 0 and n_protons_tot > 0 and n_showers_contained==0 \\\n",
    "    and contained_fraction> 0.95 and topological_score > 0.3\", inplace=True)\n",
    "\n",
    "    overlay.query(\"nu_e > 0 and nslice == 1 and ( (_opfilter_pe_beam > 0 and _opfilter_pe_veto < 20) or bnbdata == 1 or extdata == 1)\\\n",
    "    and reco_nu_vtx_sce_x > 15 and reco_nu_vtx_sce_x < 245 \\\n",
    "    and reco_nu_vtx_sce_y > -105 and reco_nu_vtx_sce_y < 105 \\\n",
    "    and reco_nu_vtx_sce_z > 10 and reco_nu_vtx_sce_z < 990 \\\n",
    "    and n_muons_tot > 0 and n_protons_tot > 0 and n_showers_contained==0 \\\n",
    "    and contained_fraction> 0.95 and topological_score > 0.3\", inplace=True)\n",
    "\n",
    "elif isTruth == True:\n",
    "    nue.query(\"nu_e > 0 and swtrig_pre == 1 \\\n",
    "    and true_nu_vtx_sce_x > 10 and true_nu_vtx_sce_x < 246 \\\n",
    "    and true_nu_vtx_sce_y > -106 and true_nu_vtx_sce_y < 106 \\\n",
    "    and true_nu_vtx_sce_z > 10 and true_nu_vtx_sce_z < 1026 \\\n",
    "    and nproton > 0 and npion == 0 and npi0 == 0\", inplace=True)#and nu_pdg==14 and ccnc == 0 \\\n",
    "\n",
    "    overlay.query(\"nu_e > 0 and swtrig_pre == 1 \\\n",
    "    and true_nu_vtx_sce_x > 10 and true_nu_vtx_sce_x < 246 \\\n",
    "    and true_nu_vtx_sce_y > -106 and true_nu_vtx_sce_y < 106 \\\n",
    "    and true_nu_vtx_sce_z > 10 and true_nu_vtx_sce_z < 1026 \\\n",
    "    and nproton > 0 and npion == 0 and npi0 == 0\", inplace=True)"
   ]
  },
  {
   "cell_type": "code",
   "execution_count": 15,
   "id": "eb6ac920",
   "metadata": {},
   "outputs": [],
   "source": [
    "######################### plot categories ##############################\n",
    "# everything must pass software trigger ! \n",
    "\n",
    "in_fv_query = \"10<=true_nu_vtx_x<=246 and -106<=true_nu_vtx_y<=106 and 10<=true_nu_vtx_z<=1026\"\n",
    "out_fv_query = \"((true_nu_vtx_x<10 or true_nu_vtx_x>246) or (true_nu_vtx_y<-106 or true_nu_vtx_y>106) or (true_nu_vtx_z<10 or true_nu_vtx_z>1026))\"\n",
    "\n",
    "nue_CC_Npi0 = 'swtrig_pre==1 and ((nu_pdg==12 or nu_pdg==-12) and ccnc==0 and npi0>=1)'\n",
    "nue_CC_0pi0 = 'swtrig_pre==1 and ((nu_pdg==12 or nu_pdg==-12) and ccnc==0 and npi0==0)'\n",
    "\n",
    "nue_NC_Npi0 = 'swtrig_pre==1 and ((nu_pdg==12 or nu_pdg==-12) and ccnc==1 and npi0>=1)'\n",
    "nue_NC_0pi0 = 'swtrig_pre==1 and ((nu_pdg==12 or nu_pdg==-12) and ccnc==1 and npi0==0)'\n",
    "\n",
    "numubar_1eNp = 'swtrig_pre==1 and ((nu_pdg==-14 and ccnc==0 and nproton>0 and npion==0 and npi0==0))'\n",
    "numu_NC = 'swtrig_pre==1 and ((nu_pdg==14 or nu_pdg==-14) and ccnc==1)'\n",
    "\n",
    "numu_CCother = 'swtrig_pre==1 and (((nu_pdg==14 and ccnc==0) and (nproton==0 or npi0>0 or npion>0)) or (nu_pdg==-14 and ccnc==0 and (nproton==0 or npion>0 or npi0>0)))'\n",
    "\n",
    "# less specific categories \n",
    "numu_other = 'swtrig_pre==1 and (((nu_pdg==14 or nu_pdg==-14) and ccnc==1) or (((nu_pdg==14 and ccnc==0) and (nproton==0 or npi0>0 or npion>0)) or (nu_pdg==-14 and ccnc==0)))'\n",
    "nue_Npi0 = 'swtrig_pre==1 and ( (nu_pdg==12 or nu_pdg==-12) and npi0>=1)'\n",
    "nue_0pi0 = 'swtrig_pre==1 and ( (nu_pdg==12 or nu_pdg==-12) and npi0==0)'\n",
    "\n",
    "# signal vs. not signal \n",
    "signal = in_fv_query+' and  swtrig_pre==1 and (nu_pdg==14 and ccnc==0 and nproton>0 and npion==0 and npi0==0)'\n",
    "not_signal = \"(swtrig_pre==0) or (swtrig_pre==1 and (\" + out_fv_query+' or (nu_pdg!=14) or (nu_pdg==14 and ccnc==1) or (nu_pdg==12 and ccnc==0 and (nproton==0 or npi0>0 or npion>0)) ))'\n",
    "\n",
    "# for replacing nue CC \n",
    "in_AV_query = \"-1.55<=true_nu_vtx_x<=254.8 and -116.5<=true_nu_vtx_y<=116.5 and 0<=true_nu_vtx_z<=1036.8\"\n",
    "nueCC_query = 'abs(nu_pdg)==12 and ccnc==0 and '+in_AV_query"
   ]
  },
  {
   "cell_type": "code",
   "execution_count": 16,
   "id": "8dca935a",
   "metadata": {},
   "outputs": [],
   "source": [
    "overlay = overlay.query('swtrig_pre==1')\n",
    "nue = nue.query('swtrig_pre==1')"
   ]
  },
  {
   "cell_type": "code",
   "execution_count": 17,
   "id": "3360bc30",
   "metadata": {},
   "outputs": [],
   "source": [
    "mc_df = [overlay, nue]"
   ]
  },
  {
   "cell_type": "code",
   "execution_count": 18,
   "id": "51227bc9",
   "metadata": {},
   "outputs": [],
   "source": [
    "def addAngles(df): #From Katrina\n",
    "    \n",
    "    ## rotation matrix -- convert detector to beam coordinates\n",
    "    R = [\n",
    "        [0.921,   4.625e-05,     -0.3895],\n",
    "        [0.02271,    0.9983,     0.05383],\n",
    "        [0.3888,   -0.05843,      0.9195]\n",
    "    ]\n",
    "    det_origin_beamcoor = [5502.0, 7259.0,  67270.0]\n",
    "     \n",
    "    # angles in detector coordinates\n",
    "    df['thdet'] = np.arctan2(((df['true_nu_px']*df['true_nu_px'])+(df['true_nu_py']*df['true_nu_py']))**(1/2), df['true_nu_pz'])*(180/math.pi)\n",
    "    df['phidet'] = np.arctan2(df['true_nu_py'], df['true_nu_px'])*(180/math.pi)\n",
    "        \n",
    "    # get true momentum in beam coordinates\n",
    "    df['true_nu_px_beam'] = R[0][0]*df['true_nu_px'] + R[0][1]*df['true_nu_py'] + R[0][2]*df['true_nu_pz']\n",
    "    df['true_nu_py_beam'] = R[1][0]*df['true_nu_px'] + R[1][1]*df['true_nu_py'] + R[1][2]*df['true_nu_pz']\n",
    "    df['true_nu_pz_beam'] = R[2][0]*df['true_nu_px'] + R[2][1]*df['true_nu_py'] + R[2][2]*df['true_nu_pz']\n",
    "    \n",
    "    # angles in beam coordinates\n",
    "    df['thbeam'] = np.arctan2(((df['true_nu_px_beam']*df['true_nu_px_beam'])+(df['true_nu_py_beam']*df['true_nu_py_beam']))**(1/2), df['true_nu_pz_beam'])*(180/math.pi)\n",
    "    df['phibeam'] = np.arctan2(df['true_nu_py_beam'], df['true_nu_px_beam'])*(180/math.pi)\n",
    "        \n",
    "    return df"
   ]
  },
  {
   "cell_type": "code",
   "execution_count": 19,
   "id": "1a35bf35",
   "metadata": {},
   "outputs": [],
   "source": [
    "# use offline flux weights\n",
    "def offline_flux_weights(df, ISRUN3): \n",
    "    \n",
    "    if ISRUN3: \n",
    "        print(\"No ppfx maps for RHC!\")\n",
    "    \n",
    "    else: \n",
    "        f = ROOT.TFile.Open(path+\"ppfx_maps.root\", \"READ\")\n",
    "    \n",
    "    numu_map = f.Get(\"numu_ratio\")\n",
    "    numubar_map = f.Get(\"numubar_ratio\")\n",
    "    nue_map = f.Get(\"nue_ratio\")\n",
    "    nuebar_map = f.Get(\"nuebar_ratio\")\n",
    "    \n",
    "    nu_flav = list(df['nu_pdg'])\n",
    "    angle = list(df['thbeam'])\n",
    "    true_energy = list(df['nu_e'])\n",
    "\n",
    "    fluxweights = []\n",
    "\n",
    "    for i in range(len(nu_flav)): \n",
    "        if nu_flav[i]==14: \n",
    "            h = numu_map\n",
    "        elif nu_flav[i]==-14: \n",
    "            h = numubar_map\n",
    "        elif nu_flav[i]==12: \n",
    "            h = nue_map\n",
    "        elif nu_flav[i]==-12: \n",
    "            h = nuebar_map\n",
    "        else: \n",
    "            print(\"No map to match PDG code!\")\n",
    "        \n",
    "        fluxweights.append( h.GetBinContent(h.FindBin(true_energy[i], angle[i])) )\n",
    "\n",
    "    df['ppfx_cv'] = fluxweights\n",
    "    #mc_df[0]['weightFlux'] = fluxweights\n",
    "    #mc_df[1]['weightFlux'] = [1 for i in range(len(mc_df[1]))] # for now \n",
    "    \n",
    "    f.Close()\n",
    "    \n",
    "    return df"
   ]
  },
  {
   "cell_type": "code",
   "execution_count": 20,
   "id": "e10b5ddb",
   "metadata": {
    "scrolled": true
   },
   "outputs": [],
   "source": [
    "\n",
    "\n",
    "for i,df in enumerate(mc_df):\n",
    "    \n",
    "    # is signal bool \n",
    "    df['is_signal'] = np.where((df.swtrig_pre == 1)\n",
    "                             & (df.nu_pdg==14) & (df.ccnc==0) & (df.nproton>0) & (df.npion==0) & (df.npi0==0)\n",
    "                             & (10 <= df.true_nu_vtx_x) & (df.true_nu_vtx_x <= 246)\n",
    "                             & (-106 <= df.true_nu_vtx_y) & (df.true_nu_vtx_y <= 106)\n",
    "                             & (10 <= df.true_nu_vtx_z) & (df.true_nu_vtx_z <= 1026), True, False)\n",
    "    \n",
    "    # Add truth level theta & phi angles (detector & beam coordinates)\n",
    "    df = addAngles(df)\n",
    "    \n",
    "    # add binned ppfx weights\n",
    "    if nuwro: \n",
    "        df = offline_flux_weights(df, ISRUN3)\n",
    "    \n",
    "\n"
   ]
  },
  {
   "cell_type": "code",
   "execution_count": 21,
   "id": "7620a004",
   "metadata": {},
   "outputs": [
    {
     "name": "stdout",
     "output_type": "stream",
     "text": [
      "True\n",
      "True\n",
      "46927\n",
      "46927\n"
     ]
    }
   ],
   "source": [
    "print(len(nue.query('is_signal==True'))==len(nue.query(signal)))\n",
    "print(len(nue.query('is_signal==False'))==len(nue.query(not_signal)))\n",
    "\n",
    "print(len(nue.query('is_signal==False')))\n",
    "print(len(nue.query(not_signal)))"
   ]
  },
  {
   "cell_type": "code",
   "execution_count": 22,
   "id": "f143b298",
   "metadata": {},
   "outputs": [],
   "source": [
    "\n",
    "\n",
    "# clean bad weights & values \n",
    "\n",
    "for i,df in enumerate(mc_df):\n",
    "     \n",
    "    df.loc[ df['weightSplineTimesTune'] <= 0, 'weightSplineTimesTune' ] = 1.\n",
    "    df.loc[ df['weightSplineTimesTune'] == np.inf, 'weightSplineTimesTune' ] = 1.\n",
    "    df.loc[ df['weightSplineTimesTune'] > 100, 'weightSplineTimesTune' ] = 1.\n",
    "    df.loc[ np.isnan(df['weightSplineTimesTune']) == True, 'weightSplineTimesTune' ] = 1.\n",
    "    \n",
    "    df.loc[ df['weightTune'] <= 0, 'weightTune' ] = 1.\n",
    "    df.loc[ df['weightTune'] == np.inf, 'weightTune' ] = 1.\n",
    "    df.loc[ df['weightTune'] > 100, 'weightTune' ] = 1.\n",
    "    df.loc[ np.isnan(df['weightTune']) == True, 'weightTune' ] = 1.  \n",
    "\n",
    "     \n",
    "\n"
   ]
  },
  {
   "cell_type": "code",
   "execution_count": 23,
   "id": "48fa0e8d",
   "metadata": {},
   "outputs": [
    {
     "name": "stdout",
     "output_type": "stream",
     "text": [
      "46927\n"
     ]
    }
   ],
   "source": [
    "# scale down the number of events to match data POT \n",
    "\n",
    "#nue = nue[:round(len(nue)*0.0119)]   #1519\n",
    "#overlay = overlay[:round(len(overlay)*0.301)]  #67370\n",
    "\n",
    "#print(len(nue))\n",
    "\n",
    "\n",
    "\n",
    "#print(len(nue[:round(len(nue)*0.0119)]))\n",
    "#print(len(overlay[:round(len(overlay)*0.301)]))\n",
    "\n",
    "#nue = nue[round(len(nue)*0.0119):round((len(nue)*0.0119)*2) ]   #1519\n",
    "#overlay = overlay[round(len(overlay)*0.301):round((len(overlay)*0.301)*2)]  #67370\n",
    "\n",
    "print((len(nue)))"
   ]
  },
  {
   "cell_type": "code",
   "execution_count": 24,
   "id": "160b1fc4",
   "metadata": {},
   "outputs": [],
   "source": [
    "\n",
    "\n",
    "# POT normalization - scale to data \n",
    "\n",
    "if ISRUN3: \n",
    "    data_pot = 5.0E20\n",
    "else: \n",
    "    data_pot = 2.0E20\n",
    "\n",
    "if nuwro==True: \n",
    "    overlay['pot_scale'] = data_pot/6.64422e+20\n",
    "    nue['pot_scale'] = data_pot/1.68375e+22\n",
    "\n",
    "else: \n",
    "    overlay = pot_scale(overlay, 'overlay', ISRUN3)\n",
    "    nue = pot_scale(nue, 'intrinsic', ISRUN3)\n",
    "    \n",
    "    #overlay['pot_scale'] = data_pot/2.33652e+21\n",
    "    #nue['pot_scale'] = data_pot/2.37838e+22\n",
    "\n"
   ]
  },
  {
   "cell_type": "code",
   "execution_count": 25,
   "id": "2b28a624",
   "metadata": {},
   "outputs": [],
   "source": [
    "\n",
    "\n",
    "if nuwro == True: \n",
    "\n",
    "    overlay['totweight_data'] = (overlay['pot_scale']*overlay['ppfx_cv'])\n",
    "    nue['totweight_data'] = (nue['pot_scale']*nue['ppfx_cv'])\n",
    "\n",
    "else: \n",
    "    \n",
    "    overlay['totweight_data'] = overlay['pot_scale']*overlay['ppfx_cv']*overlay['weightSplineTimesTune']\n",
    "    nue['totweight_data'] = nue['pot_scale']*nue['ppfx_cv']*nue['weightSplineTimesTune']\n",
    "\n"
   ]
  },
  {
   "cell_type": "code",
   "execution_count": 26,
   "id": "e885b55e",
   "metadata": {},
   "outputs": [
    {
     "name": "stdout",
     "output_type": "stream",
     "text": [
      "# of nueCC in AV in overlay sample = 1585\n",
      "# of nueCC in AV dropped in overlay = 1585\n"
     ]
    }
   ],
   "source": [
    "################################\n",
    "#####ONLY RUN THIS CELL ONCE####\n",
    "################################\n",
    "\n",
    "print(\"# of nueCC in AV in overlay sample = \"+str(len(overlay.query(nueCC_query))))\n",
    "len1 = len(overlay)\n",
    "    \n",
    "idx = overlay.query(nueCC_query).index\n",
    "overlay.drop(idx, inplace=True)\n",
    "len2 = len(overlay) \n",
    "print(\"# of nueCC in AV dropped in overlay = \"+str(len1-len2))\n",
    "    \n",
    "# then add in nue_intrinsic \n",
    "overlay = pd.concat([overlay,nue], ignore_index=True)\n",
    "\n",
    "# from here on out everything else should be the same. "
   ]
  },
  {
   "cell_type": "code",
   "execution_count": 27,
   "id": "b316a536",
   "metadata": {},
   "outputs": [],
   "source": [
    "\n",
    "\n",
    "# separate by in/out FV & cosmic\n",
    "infv = overlay.query(in_fv_query)\n",
    "outfv = overlay.query(out_fv_query)\n",
    "\n",
    "infv2 = nue.query(in_fv_query)\n",
    "outfv2 = nue.query(out_fv_query)\n",
    "\n"
   ]
  },
  {
   "cell_type": "code",
   "execution_count": 28,
   "id": "1bdf5950",
   "metadata": {},
   "outputs": [
    {
     "name": "stdout",
     "output_type": "stream",
     "text": [
      "True\n"
     ]
    }
   ],
   "source": [
    "# check that everything is accounted for \n",
    "print(len(overlay)==len(infv)+len(outfv))"
   ]
  },
  {
   "cell_type": "code",
   "execution_count": 29,
   "id": "010b90fe",
   "metadata": {},
   "outputs": [
    {
     "name": "stdout",
     "output_type": "stream",
     "text": [
      "total signal events = 8874.179361911556\n",
      "total signal events = 0.0\n",
      "total signal events = 0.0\n",
      "total signal events = 0.0\n"
     ]
    }
   ],
   "source": [
    "\n",
    "\n",
    "tot_signal_weighted = np.nansum(infv.query('is_signal==True')['pot_scale'])\n",
    "print('total signal events = '+ str(tot_signal_weighted))\n",
    "\n",
    "\n",
    "tot_signal_weighted = np.nansum(outfv.query('is_signal==True')['pot_scale'])\n",
    "print('total signal events = '+ str(tot_signal_weighted))\n",
    "\n",
    "\n",
    "tot_signal_weighted = np.nansum(infv2.query('is_signal==True')['pot_scale'])\n",
    "print('total signal events = '+ str(tot_signal_weighted))\n",
    "\n",
    "\n",
    "tot_signal_weighted = np.nansum(outfv2.query('is_signal==True')['pot_scale'])\n",
    "print('total signal events = '+ str(tot_signal_weighted))\n",
    "\n"
   ]
  },
  {
   "cell_type": "code",
   "execution_count": 30,
   "id": "a78db0d6",
   "metadata": {},
   "outputs": [],
   "source": [
    "datasets = {\n",
    "    'infv' : infv, \n",
    "    'outfv' : outfv\n",
    "}"
   ]
  },
  {
   "cell_type": "code",
   "execution_count": 31,
   "id": "7166c2f5",
   "metadata": {},
   "outputs": [],
   "source": [
    "\n",
    "\n",
    "generated_events = pd.concat([datasets['outfv'], datasets['infv']])\n",
    "\n"
   ]
  },
  {
   "cell_type": "code",
   "execution_count": 32,
   "id": "a443a10c",
   "metadata": {},
   "outputs": [
    {
     "name": "stdout",
     "output_type": "stream",
     "text": [
      "total signal events = 8874.179361911556\n",
      "total signal events = 8048.06988797495\n",
      "total signal events = 8048.06988797495\n"
     ]
    }
   ],
   "source": [
    "tot_signal_weighted = np.nansum(generated_events.query('is_signal==True')['pot_scale'])\n",
    "print('total signal events = '+ str(tot_signal_weighted))\n",
    "\n",
    "tot_signal_weighted = np.nansum(generated_events.query('is_signal==True')['totweight_data'])\n",
    "print('total signal events = '+ str(tot_signal_weighted))\n",
    "\n",
    "tot_signal_weighted = np.nansum(generated_events.query(signal)['totweight_data'])\n",
    "print('total signal events = '+ str(tot_signal_weighted))"
   ]
  },
  {
   "cell_type": "code",
   "execution_count": 33,
   "id": "ed0d69c5",
   "metadata": {},
   "outputs": [
    {
     "name": "stdout",
     "output_type": "stream",
     "text": [
      "True\n"
     ]
    }
   ],
   "source": [
    "print(isTruth)\n",
    "\n",
    "if isTruth == False:\n",
    "    selected_query = \"nslice == 1 and ( (_opfilter_pe_beam > 0 \\\n",
    "    and _opfilter_pe_veto < 20) or bnbdata == 1 or extdata == 1) \\\n",
    "    and reco_nu_vtx_sce_x > 15 and reco_nu_vtx_sce_x < 245 \\\n",
    "    and reco_nu_vtx_sce_y > -105 and reco_nu_vtx_sce_y < 105 \\\n",
    "    and reco_nu_vtx_sce_z > 10 and reco_nu_vtx_sce_z < 990 \\\n",
    "    and n_muons_tot > 0 and n_protons_tot > 0 and n_showers_contained==0 \\\n",
    "    and contained_fraction> 0.95 and topological_score > 0.3\"\n",
    "\n",
    "elif isTruth == True:\n",
    "    selected_query = \"is_signal==True\""
   ]
  },
  {
   "cell_type": "code",
   "execution_count": 34,
   "id": "0a48a725",
   "metadata": {
    "scrolled": true
   },
   "outputs": [
    {
     "name": "stdout",
     "output_type": "stream",
     "text": [
      "0        2.875\n",
      "1        2.875\n",
      "2        2.875\n",
      "3        2.875\n",
      "4        2.875\n",
      "         ...  \n",
      "86570    2.875\n",
      "86571    2.875\n",
      "86572    2.875\n",
      "86573    2.875\n",
      "86574    2.875\n",
      "Name: reco_e, Length: 82842, dtype: float64\n",
      "0        2.875\n",
      "1        2.875\n",
      "2        2.875\n",
      "3        2.875\n",
      "4        2.875\n",
      "         ...  \n",
      "86570    2.875\n",
      "86571    2.875\n",
      "86572    2.875\n",
      "86573    2.875\n",
      "86574    2.875\n",
      "Name: reco_e, Length: 82842, dtype: float64\n",
      "0        1.773481\n",
      "1        1.936049\n",
      "2        2.286320\n",
      "3        1.349870\n",
      "4        1.193652\n",
      "           ...   \n",
      "86570    1.144450\n",
      "86571    1.214250\n",
      "86572    2.091590\n",
      "86573    1.166980\n",
      "86574    1.002590\n",
      "Name: true_e, Length: 82842, dtype: float32\n",
      "0        1.773481\n",
      "1        1.936049\n",
      "2        2.286320\n",
      "3        1.349870\n",
      "4        1.193652\n",
      "           ...   \n",
      "86570    1.144450\n",
      "86571    1.214250\n",
      "86572    2.091590\n",
      "86573    1.166980\n",
      "86574    1.002590\n",
      "Name: true_e, Length: 82842, dtype: float32\n",
      "28       2.875000e+00\n",
      "33       2.875000e+00\n",
      "54       2.875000e+00\n",
      "61       2.875000e+00\n",
      "76       2.875000e+00\n",
      "             ...     \n",
      "86467    2.875000e+00\n",
      "86474    2.875000e+00\n",
      "86498    2.875000e+00\n",
      "86512    2.875000e+00\n",
      "86551   -3.402823e+38\n",
      "Name: reco_e, Length: 3733, dtype: float64\n",
      "28       2.875\n",
      "33       2.875\n",
      "54       2.875\n",
      "61       2.875\n",
      "76       2.875\n",
      "         ...  \n",
      "86467    2.875\n",
      "86474    2.875\n",
      "86498    2.875\n",
      "86512    2.875\n",
      "86551    1.125\n",
      "Name: reco_e, Length: 3733, dtype: float64\n",
      "28       1.859402\n",
      "33       1.107920\n",
      "54       1.534768\n",
      "61       1.447275\n",
      "76       1.617153\n",
      "           ...   \n",
      "86467    1.055180\n",
      "86474    1.138500\n",
      "86498    1.198130\n",
      "86512    2.001330\n",
      "86551    1.315190\n",
      "Name: true_e, Length: 3733, dtype: float32\n",
      "28       1.859402\n",
      "33       1.107920\n",
      "54       1.534768\n",
      "61       1.447275\n",
      "76       1.617153\n",
      "           ...   \n",
      "86467    1.055180\n",
      "86474    1.138500\n",
      "86498    1.198130\n",
      "86512    2.001330\n",
      "86551    1.315190\n",
      "Name: true_e, Length: 3733, dtype: float32\n",
      "is_signal==True\n"
     ]
    }
   ],
   "source": [
    "#datasets_bdt = datasets\n",
    "\n",
    "datasets_bdt = {}\n",
    "\n",
    "\n",
    "for i in range(len(datasets)): \n",
    "\n",
    "        df = list(datasets.values())[i].copy()\n",
    "        \n",
    "        #ENERGY\n",
    "        tmp = df[\"reco_e\"].copy()\n",
    "        mask = (df[\"reco_e\"] > 3)\n",
    "        tmp[mask] = 2.875\n",
    "        df[\"reco_e\"] = tmp\n",
    "        print(df[\"reco_e\"])\n",
    "        #------\n",
    "        tmp = df[\"reco_e\"].copy()\n",
    "        mask = (df[\"reco_e\"] < 1)\n",
    "        tmp[mask] = 1.125\n",
    "        df[\"reco_e\"] = tmp\n",
    "        print(df[\"reco_e\"])\n",
    "        #####\n",
    "\n",
    "        #ENERGY\n",
    "        tmp = df[\"true_e\"].copy()\n",
    "        mask = (df[\"true_e\"] > 3)\n",
    "        tmp[mask] = 2.875\n",
    "        df[\"true_e\"] = tmp\n",
    "        print(df[\"true_e\"])\n",
    "        #------\n",
    "        tmp = df[\"true_e\"].copy()\n",
    "        mask = (df[\"true_e\"] < 1)\n",
    "        tmp[mask] = 1.125\n",
    "        df[\"true_e\"] = tmp\n",
    "        print(df[\"true_e\"])\n",
    "\n",
    "        datasets_bdt[list(datasets.keys())[i]] = df.query(selected_query)\n",
    "\n",
    "print(selected_query)"
   ]
  },
  {
   "cell_type": "code",
   "execution_count": 35,
   "id": "0df0fcd2",
   "metadata": {},
   "outputs": [],
   "source": [
    "xvar = 'reco_e'\n",
    "true_var = 'true_e'\n",
    "bins = np.arange(1, 3.25, 0.25)\n",
    "\n",
    "xlow = bins[0]\n",
    "xhigh = bins[-1]\n",
    "\n",
    "x_label = \"Neutrino Energy\"\n",
    "x_ticks = np.arange(1, 3.25, 0.25)"
   ]
  },
  {
   "cell_type": "code",
   "execution_count": 36,
   "id": "1e31831e",
   "metadata": {},
   "outputs": [],
   "source": [
    "\n",
    "\n",
    "if xvar=='tksh_angle': \n",
    "    bincenters = 0.5*(np.array(x_ticks)[1:]+np.array(x_ticks)[:-1])\n",
    "\n",
    "else: \n",
    "    #bincenters = 0.5*(np.array(x_ticks+[xhigh])[1:]+np.array(x_ticks+[xhigh])[:-1])\n",
    "    bincenters = np.arange(1.125, 3.125, 0.25)\n",
    "\n"
   ]
  },
  {
   "cell_type": "code",
   "execution_count": 37,
   "id": "7a7745f1",
   "metadata": {},
   "outputs": [],
   "source": [
    "labels = { \n",
    "    'signal' : ['$\\\\nu_e$ CC0$\\pi$Np', 'orange'], \n",
    "    'nue_CC_Npi0' : ['$\\\\nu_\\mu$ CC $\\pi^{0}$', 'brown'],\n",
    "    'nue_NC_Npi0' : ['$\\\\nu_\\mu$ NC $\\pi^{0}$', 'orangered'],\n",
    "    'nue_NC_0pi0' : ['$\\\\nu_\\mu$ NC', '#33FCFF'],\n",
    "    'nue_CC_0pi0' : ['$\\\\nu_\\mu$ CC', '#437ED8'],\n",
    "    'numu_CCother': ['$\\\\nu_e$ CC other', '#05B415'], \n",
    "    'numu_NC': ['$\\\\nu_e$ NC', '#B8FF33'], \n",
    "    'outfv' : ['Out FV', 'orchid'], \n",
    "    'ext' : ['EXT', 'lightpink'],\n",
    "    'numu_other' : ['$\\\\nu_e$ / $\\\\overline{\\\\nu_e}$  other', '#33db09'], \n",
    "    'nue_Npi0' : ['$\\\\nu_\\\\mu$ / $\\\\overline{\\\\nu_\\\\mu}$  $\\pi^{0}$', '#EE1B1B'], \n",
    "    'nue_0pi0' : ['$\\\\nu_\\\\mu$ / $\\\\overline{\\\\nu_\\\\mu}$  other', '#437ED8'],\n",
    "    'numubar_1eNp' : ['$\\\\bar{\\\\nu}_e$ CC0$\\pi$Np', 'gold']\n",
    "}"
   ]
  },
  {
   "cell_type": "code",
   "execution_count": 38,
   "id": "fbbac96c",
   "metadata": {},
   "outputs": [],
   "source": [
    "leg = {\n",
    "        'outfv' : labels['outfv'][0]+': ' + str( round(sum(datasets_bdt['outfv'].totweight_data), 1)) , \n",
    "        'nue_NC_Npi0' : labels['nue_NC_Npi0'][0]+': '+ str( round(sum(datasets_bdt['infv'].query(nue_NC_Npi0).totweight_data), 1)), \n",
    "        'nue_CC_Npi0' : labels['nue_CC_Npi0'][0]+': '+str( round(sum(datasets_bdt['infv'].query(nue_CC_Npi0).totweight_data), 1)), \n",
    "        'nue_NC_0pi0' : labels['nue_NC_0pi0'][0]+': '+str( round(sum(datasets_bdt['infv'].query(nue_NC_0pi0).totweight_data), 1)), \n",
    "        'nue_CC_0pi0' : labels['nue_CC_0pi0'][0]+': '+str( round(sum(datasets_bdt['infv'].query(nue_CC_0pi0).totweight_data), 1)), \n",
    "        'numu_NC' : labels['numu_NC'][0]+': '+str( round(sum(datasets_bdt['infv'].query(numu_NC).totweight_data), 1)), \n",
    "        'numu_CCother' : labels['numu_CCother'][0]+': '+str( round(sum(datasets_bdt['infv'].query(numu_CCother).totweight_data), 1)),\n",
    "        'numubar_1eNp' : labels['numubar_1eNp'][0]+': '+str( round(sum(datasets_bdt['infv'].query(numubar_1eNp).totweight_data), 1)), \n",
    "        'signal' : labels['signal'][0]+': '+str( round(sum(datasets_bdt['infv'].query(signal).totweight_data), 1))\n",
    "    }\n"
   ]
  },
  {
   "cell_type": "code",
   "execution_count": 39,
   "id": "ff8b6b11",
   "metadata": {},
   "outputs": [
    {
     "name": "stderr",
     "output_type": "stream",
     "text": [
      "/home/alex/miniconda3/envs/vintageXgboostVintageUprootEnv/lib/python3.8/site-packages/numpy/core/fromnumeric.py:3245: VisibleDeprecationWarning: Creating an ndarray from ragged nested sequences (which is a list-or-tuple of lists-or-tuples-or ndarrays with different lengths or shapes) is deprecated. If you meant to do this, you must specify 'dtype=object' when creating the ndarray.\n",
      "  return asarray(a).size\n",
      "/home/alex/miniconda3/envs/vintageXgboostVintageUprootEnv/lib/python3.8/site-packages/matplotlib/cbook/__init__.py:1449: VisibleDeprecationWarning: Creating an ndarray from ragged nested sequences (which is a list-or-tuple of lists-or-tuples-or ndarrays with different lengths or shapes) is deprecated. If you meant to do this, you must specify 'dtype=object' when creating the ndarray.\n",
      "  X = np.atleast_1d(X.T if isinstance(X, np.ndarray) else np.asarray(X))\n"
     ]
    },
    {
     "name": "stdout",
     "output_type": "stream",
     "text": [
      "[1174.34807789  251.75344368  181.53709232  106.41599088   81.83172068\n",
      "   45.16727115   34.43681227 6172.5794791 ]\n",
      "8048.069887975719\n"
     ]
    },
    {
     "data": {
      "image/png": "[encoded data removed]",
      "text/plain": [
       "<Figure size 576x360 with 1 Axes>"
      ]
     },
     "metadata": {
      "needs_background": "light"
     },
     "output_type": "display_data"
    }
   ],
   "source": [
    "fig = plt.figure(figsize=(8, 5))\n",
    "\n",
    "n, b, p = plt.hist([datasets_bdt['outfv'][xvar], \n",
    "                       datasets_bdt['infv'].query(nue_NC_Npi0)[xvar],\n",
    "                       datasets_bdt['infv'].query(nue_CC_Npi0)[xvar],\n",
    "                       datasets_bdt['infv'].query(nue_NC_0pi0)[xvar],\n",
    "                       datasets_bdt['infv'].query(nue_CC_0pi0)[xvar],\n",
    "                       datasets_bdt['infv'].query(numu_NC)[xvar],\n",
    "                       datasets_bdt['infv'].query(numu_CCother)[xvar],\n",
    "                       datasets_bdt['infv'].query(numubar_1eNp)[xvar], \n",
    "                       datasets_bdt['infv'].query(signal)[xvar]],\n",
    "            bins, histtype='bar', range=[xlow, xhigh], stacked=True, \n",
    "            color=[labels['outfv'][1], \n",
    "                       labels['nue_NC_Npi0'][1], \n",
    "                       labels['nue_CC_Npi0'][1], \n",
    "                       labels['nue_NC_0pi0'][1], \n",
    "                       labels['nue_CC_0pi0'][1], \n",
    "                       labels['numu_NC'][1], \n",
    "                       labels['numu_CCother'][1],\n",
    "                       labels['numubar_1eNp'][1], \n",
    "                       labels['signal'][1]], \n",
    "            label=[leg['outfv'], \n",
    "                   leg['nue_NC_Npi0'], \n",
    "                   leg['nue_CC_Npi0'], \n",
    "                   leg['nue_NC_0pi0'], \n",
    "                   leg['nue_CC_0pi0'], \n",
    "                   leg['numu_NC'], \n",
    "                   leg['numu_CCother'], \n",
    "                   leg['numubar_1eNp'], \n",
    "                   leg['signal']\n",
    "                  ],\n",
    "            weights=[datasets_bdt['outfv'].totweight_data, \n",
    "                     datasets_bdt['infv'].query(nue_NC_Npi0).totweight_data, \n",
    "                     datasets_bdt['infv'].query(nue_CC_Npi0).totweight_data,\n",
    "                     datasets_bdt['infv'].query(nue_NC_0pi0).totweight_data,\n",
    "                     datasets_bdt['infv'].query(nue_CC_0pi0).totweight_data,\n",
    "                     datasets_bdt['infv'].query(numu_NC).totweight_data,\n",
    "                     datasets_bdt['infv'].query(numu_CCother).totweight_data,\n",
    "                     datasets_bdt['infv'].query(numubar_1eNp).totweight_data,\n",
    "                     datasets_bdt['infv'].query(signal).totweight_data \n",
    "                     ])\n",
    "\n",
    "#This is not how to jump to get one value! You want to sum the columns not the rows!\n",
    "print(n[-1])\n",
    "print(sum(n[-1]))\n",
    "#print(sum(sum(n)))\n",
    "\n",
    "#print(len(datasets_bdt['infv'].query(signal)[xvar]))\n",
    "#print(len(datasets_bdt['infv'].query(signal).totweight_data))\n",
    "\n",
    "#if useWeights == False:\n",
    "#    nuWro_stat_err_numu = n[-1]\n",
    "\n",
    "\n",
    "# simulation outline \n",
    "tot = list([0, n[-1][0]])+list(n[-1])+[0]\n",
    "b_step = list([b[0]])+list(b)+list([b[-1]])\n",
    "plt.step(b_step, tot, color='saddlebrown', linewidth=2)\n",
    "\n",
    "# plot format stuff\n",
    "plt.legend(loc='best', prop={\"size\":10}, ncol=3, frameon=False)\n",
    "\n",
    "\n",
    "    \n",
    "plt.xlabel(\"Reconstructed \"+x_label, fontsize=15)\n",
    "\n",
    "#plt.xticks(x_ticks, fontsize=14)\n",
    "\n",
    "plt.xticks(fontsize=14)\n",
    "plt.yticks(fontsize=14)\n",
    "\n",
    "plt.xlim(xlow, xhigh)\n",
    "#plt.ylim(0, 30)\n",
    "\n",
    "if not ISRUN3: \n",
    "    plt.title(\"FHC Run 1 - MC Only\", fontsize=16)\n",
    "    plt.ylabel('$\\\\nu$ / $2\\\\times10^{20}$ POT', fontsize=15)\n",
    "else: \n",
    "    plt.title(\"RHC Run 3 - MC Only\", fontsize=16)\n",
    "    plt.ylabel('$\\\\nu$ / $5\\\\times10^{20}$ POT', fontsize=15)\n",
    "\n",
    "##plt.savefig(\"/uboone/data/users/kmiller/uBNuMI_CCNp/plots/fhc/fakedata/nuwro_evt_rate_\"+xvar+\".pdf\", \n",
    "#            transparent=True, bbox_inches='tight')\n",
    "\n",
    "plt.show()\n",
    "          "
   ]
  },
  {
   "cell_type": "code",
   "execution_count": 40,
   "id": "fc7307d4",
   "metadata": {},
   "outputs": [
    {
     "name": "stderr",
     "output_type": "stream",
     "text": [
      "/home/alex/miniconda3/envs/vintageXgboostVintageUprootEnv/lib/python3.8/site-packages/numpy/core/fromnumeric.py:3245: VisibleDeprecationWarning: Creating an ndarray from ragged nested sequences (which is a list-or-tuple of lists-or-tuples-or ndarrays with different lengths or shapes) is deprecated. If you meant to do this, you must specify 'dtype=object' when creating the ndarray.\n",
      "  return asarray(a).size\n",
      "/home/alex/miniconda3/envs/vintageXgboostVintageUprootEnv/lib/python3.8/site-packages/matplotlib/cbook/__init__.py:1449: VisibleDeprecationWarning: Creating an ndarray from ragged nested sequences (which is a list-or-tuple of lists-or-tuples-or ndarrays with different lengths or shapes) is deprecated. If you meant to do this, you must specify 'dtype=object' when creating the ndarray.\n",
      "  X = np.atleast_1d(X.T if isinstance(X, np.ndarray) else np.asarray(X))\n"
     ]
    },
    {
     "name": "stdout",
     "output_type": "stream",
     "text": [
      "[ 666.06803564 1821.49972962 1359.72623267 1007.70299237  880.84791741\n",
      "  765.66090596  499.69282988 1046.87124443]\n",
      "8048.069887977257\n"
     ]
    },
    {
     "data": {
      "image/png": "[encoded data removed]",
      "text/plain": [
       "<Figure size 576x360 with 1 Axes>"
      ]
     },
     "metadata": {
      "needs_background": "light"
     },
     "output_type": "display_data"
    }
   ],
   "source": [
    "#TRUE BINS\n",
    "\n",
    "fig = plt.figure(figsize=(8, 5))\n",
    "\n",
    "n, b, p = plt.hist([datasets_bdt['outfv'][true_var], \n",
    "                       datasets_bdt['infv'].query(nue_NC_Npi0)[true_var],\n",
    "                       datasets_bdt['infv'].query(nue_CC_Npi0)[true_var],\n",
    "                       datasets_bdt['infv'].query(nue_NC_0pi0)[true_var],\n",
    "                       datasets_bdt['infv'].query(nue_CC_0pi0)[true_var],\n",
    "                       datasets_bdt['infv'].query(numu_NC)[true_var],\n",
    "                       datasets_bdt['infv'].query(numu_CCother)[true_var],\n",
    "                       datasets_bdt['infv'].query(numubar_1eNp)[true_var], \n",
    "                       datasets_bdt['infv'].query(signal)[true_var]],\n",
    "            bins, histtype='bar', range=[xlow, xhigh], stacked=True, \n",
    "            color=[labels['outfv'][1], \n",
    "                       labels['nue_NC_Npi0'][1], \n",
    "                       labels['nue_CC_Npi0'][1], \n",
    "                       labels['nue_NC_0pi0'][1], \n",
    "                       labels['nue_CC_0pi0'][1], \n",
    "                       labels['numu_NC'][1], \n",
    "                       labels['numu_CCother'][1],\n",
    "                       labels['numubar_1eNp'][1], \n",
    "                       labels['signal'][1]], \n",
    "            label=[leg['outfv'], \n",
    "                   leg['nue_NC_Npi0'], \n",
    "                   leg['nue_CC_Npi0'], \n",
    "                   leg['nue_NC_0pi0'], \n",
    "                   leg['nue_CC_0pi0'], \n",
    "                   leg['numu_NC'], \n",
    "                   leg['numu_CCother'], \n",
    "                   leg['numubar_1eNp'], \n",
    "                   leg['signal']\n",
    "                  ],\n",
    "            weights=[datasets_bdt['outfv'].totweight_data, \n",
    "                     datasets_bdt['infv'].query(nue_NC_Npi0).totweight_data, \n",
    "                     datasets_bdt['infv'].query(nue_CC_Npi0).totweight_data,\n",
    "                     datasets_bdt['infv'].query(nue_NC_0pi0).totweight_data,\n",
    "                     datasets_bdt['infv'].query(nue_CC_0pi0).totweight_data,\n",
    "                     datasets_bdt['infv'].query(numu_NC).totweight_data,\n",
    "                     datasets_bdt['infv'].query(numu_CCother).totweight_data,\n",
    "                     datasets_bdt['infv'].query(numubar_1eNp).totweight_data,\n",
    "                     datasets_bdt['infv'].query(signal).totweight_data \n",
    "                     ])\n",
    "\n",
    "print(n[-1])\n",
    "print(sum(n[-1]))\n",
    "\n",
    "#inTruth = True\n",
    "\n",
    "#if useWeights == False and inTruth == True:\n",
    "#    nuWro_stat_err_numu_inTruth = sum(n)\n",
    "\n",
    "\n",
    "# simulation outline \n",
    "tot = list([0, n[-1][0]])+list(n[-1])+[0]\n",
    "b_step = list([b[0]])+list(b)+list([b[-1]])\n",
    "plt.step(b_step, tot, color='saddlebrown', linewidth=2)\n",
    "\n",
    "# plot format stuff\n",
    "plt.legend(loc='best', prop={\"size\":10}, ncol=3, frameon=False)\n",
    "\n",
    "\n",
    "    \n",
    "plt.xlabel(\"True \"+x_label, fontsize=15)\n",
    "\n",
    "#plt.xticks(x_ticks, fontsize=14)\n",
    "\n",
    "plt.xticks(fontsize=14)\n",
    "plt.yticks(fontsize=14)\n",
    "\n",
    "plt.xlim(xlow, xhigh)\n",
    "#plt.ylim(0, 30)\n",
    "\n",
    "if not ISRUN3: \n",
    "    plt.title(\"FHC Run 1 - MC Only\", fontsize=16)\n",
    "    plt.ylabel('$\\\\nu$ / $2\\\\times10^{20}$ POT', fontsize=15)\n",
    "else: \n",
    "    plt.title(\"RHC Run 3 - MC Only\", fontsize=16)\n",
    "    plt.ylabel('$\\\\nu$ / $5\\\\times10^{20}$ POT', fontsize=15)\n",
    "\n",
    "##plt.savefig(\"/uboone/data/users/kmiller/uBNuMI_CCNp/plots/fhc/fakedata/nuwro_evt_rate_\"+xvar+\".pdf\", \n",
    "#            transparent=True, bbox_inches='tight')\n",
    "\n",
    "plt.show()"
   ]
  },
  {
   "cell_type": "code",
   "execution_count": 41,
   "id": "e9178805",
   "metadata": {},
   "outputs": [],
   "source": [
    "ending = \"Dec19\"\n",
    "\n",
    "#if inTruth == True:\n",
    "#    print(nuWro_stat_err_numu_inTruth)\n",
    "\n",
    "#    np.savetxt(\"numu_nuWro_stat_err_inTruth_\"+ending+\".csv\", \n",
    "#               nuWro_stat_err_numu_inTruth,\n",
    "#               delimiter =\", \", \n",
    "#               fmt ='% s')"
   ]
  },
  {
   "cell_type": "code",
   "execution_count": 42,
   "id": "c0ddd81f",
   "metadata": {},
   "outputs": [
    {
     "data": {
      "text/plain": [
       "True"
      ]
     },
     "execution_count": 42,
     "metadata": {},
     "output_type": "execute_result"
    }
   ],
   "source": [
    "nuwro"
   ]
  },
  {
   "cell_type": "code",
   "execution_count": 43,
   "id": "68996980",
   "metadata": {},
   "outputs": [
    {
     "name": "stdout",
     "output_type": "stream",
     "text": [
      "total signal events = 8048.06988797495\n",
      "total signal events = 8048.06988797495\n"
     ]
    }
   ],
   "source": [
    "selected_events = pd.concat([datasets_bdt['outfv'], datasets_bdt['infv']])\n",
    "#print(selected_events)\n",
    "\n",
    "tot_signal_weighted = np.nansum(selected_events.query('is_signal==True')['totweight_data'])\n",
    "print('total signal events = '+ str(tot_signal_weighted))\n",
    "\n",
    "tot_signal_weighted = np.nansum(selected_events['totweight_data'])\n",
    "print('total signal events = '+ str(tot_signal_weighted))"
   ]
  },
  {
   "cell_type": "code",
   "execution_count": 42,
   "id": "e6d3ade9",
   "metadata": {},
   "outputs": [
    {
     "name": "stdout",
     "output_type": "stream",
     "text": [
      "669.7602266903822\n"
     ]
    },
    {
     "data": {
      "image/png": "[encoded data removed]",
      "text/plain": [
       "<Figure size 576x360 with 1 Axes>"
      ]
     },
     "metadata": {
      "needs_background": "light"
     },
     "output_type": "display_data"
    }
   ],
   "source": [
    "\n",
    "\n",
    "#RECO VAR\n",
    "\n",
    "# ppfx correction effect \n",
    "fig = plt.figure(figsize=(8, 5))\n",
    "\n",
    "plt.hist(selected_events[xvar], bins, range=[xlow, xhigh],\n",
    "            weights=selected_events.pot_scale, linestyle=\":\", linewidth=2, histtype='step', \n",
    "                  label='Unweighted')\n",
    "\n",
    "test = plt.hist(selected_events[xvar], bins, range=[xlow, xhigh],\n",
    "            weights=selected_events.totweight_data, linestyle=\":\", linewidth=2, histtype='step', \n",
    "                  label='PPFX-corrected')\n",
    "\n",
    "print(sum(test[0]))\n",
    "\n",
    "# plot format stuff\n",
    "plt.legend(loc='best', prop={\"size\":14}, ncol=1, frameon=False)\n",
    "\n",
    "plt.ylabel('$\\\\nu$ / $2\\\\times10^{20}$ POT', fontsize=15)\n",
    "    \n",
    "plt.xlabel(\"Reco \"+x_label, fontsize=15)\n",
    "plt.xticks(x_ticks, fontsize=14)\n",
    "\n",
    "plt.yticks(fontsize=14)\n",
    "\n",
    "plt.xlim(xlow, xhigh)\n",
    "plt.title(\"Selected Event Rate\", fontsize=16)\n",
    "\n",
    "plt.show()\n",
    "\n"
   ]
  },
  {
   "cell_type": "code",
   "execution_count": 44,
   "id": "a49db479",
   "metadata": {},
   "outputs": [
    {
     "name": "stdout",
     "output_type": "stream",
     "text": [
      "[ 666.06803564 1821.49972962 1359.72623267 1007.70299237  880.84791741\n",
      "  765.66090596  499.69282988 1046.87124443]\n",
      "8048.069887977257\n"
     ]
    },
    {
     "data": {
      "image/png": "[encoded data removed]",
      "text/plain": [
       "<Figure size 576x360 with 1 Axes>"
      ]
     },
     "metadata": {
      "needs_background": "light"
     },
     "output_type": "display_data"
    }
   ],
   "source": [
    "#TRUE VAR\n",
    "\n",
    "\n",
    "# ppfx correction effect \n",
    "fig = plt.figure(figsize=(8, 5))\n",
    "\n",
    "plt.hist(selected_events.query('is_signal==True')[true_var], bins, range=[xlow, xhigh],\n",
    "            weights=selected_events.query('is_signal==True').pot_scale, linestyle=\":\", linewidth=2, histtype='step', \n",
    "                  label='Unweighted')\n",
    "\n",
    "true_nuWro = plt.hist(selected_events.query('is_signal==True')[true_var], bins, range=[xlow, xhigh],\n",
    "            weights=selected_events.query('is_signal==True').totweight_data, linestyle=\":\", linewidth=2, histtype='step', \n",
    "                  label='PPFX-corrected')\n",
    "\n",
    "print(true_nuWro[0])\n",
    "print(sum(true_nuWro[0]))\n",
    "\n",
    "\n",
    "# plot format stuff\n",
    "plt.legend(loc='best', prop={\"size\":14}, ncol=1, frameon=False)\n",
    "\n",
    "plt.ylabel('$\\\\nu$ / $2\\\\times10^{20}$ POT', fontsize=15)\n",
    "    \n",
    "plt.xlabel(\"True \"+x_label, fontsize=15)\n",
    "plt.xticks(x_ticks, fontsize=14)\n",
    "\n",
    "plt.yticks(fontsize=14)\n",
    "\n",
    "plt.xlim(xlow, xhigh)\n",
    "plt.title(\"Selected Signal Event Rate\", fontsize=16)\n",
    "\n",
    "plt.show()\n"
   ]
  },
  {
   "cell_type": "code",
   "execution_count": 45,
   "id": "5649e4ab",
   "metadata": {},
   "outputs": [
    {
     "name": "stdout",
     "output_type": "stream",
     "text": [
      "True nuWro for comparison:  [ 666.06803564 1821.49972962 1359.72623267 1007.70299237  880.84791741\n",
      "  765.66090596  499.69282988 1046.87124443]\n"
     ]
    }
   ],
   "source": [
    "print(\"True nuWro for comparison: \", true_nuWro[0])"
   ]
  },
  {
   "cell_type": "code",
   "execution_count": 46,
   "id": "aeea90a6",
   "metadata": {},
   "outputs": [],
   "source": [
    "ending = \"Dec19\"\n",
    "\n",
    "if isTruth == True:\n",
    "    np.savetxt(\"numu_nuWro_prior_true_run1_energy_\"+ending+\".csv\", \n",
    "               true_nuWro[0],\n",
    "               delimiter =\", \", \n",
    "               fmt ='% s')"
   ]
  },
  {
   "cell_type": "markdown",
   "id": "6d10d099",
   "metadata": {},
   "source": [
    "GENIE bkg subtractions"
   ]
  },
  {
   "cell_type": "code",
   "execution_count": 43,
   "id": "40af2fd4",
   "metadata": {},
   "outputs": [],
   "source": [
    "ending = \"Dec19\""
   ]
  },
  {
   "cell_type": "code",
   "execution_count": 44,
   "id": "ec91de44",
   "metadata": {},
   "outputs": [
    {
     "name": "stdout",
     "output_type": "stream",
     "text": [
      "[97.05624255 37.1155529  25.96288007 18.28680984 11.5909262   6.44015599\n",
      "  4.19630213  6.17521601]\n",
      "[238.46972824  70.32683758  47.27877631  33.53834966  19.33506381\n",
      "  12.37784493   6.77475906  17.76714588]\n",
      "[ 853.52156358 1811.68153404 1406.17924847 1095.68735644  944.40971617\n",
      "  755.10104191  515.6394811  1026.95062958]\n"
     ]
    }
   ],
   "source": [
    "\n",
    "numu_bkg_noExt = pd.read_csv(\"numu_nopions_recoE_usingSelection_run1_cv_numu_bkg_noExt_noDirt_\"+ending+\".csv\", header=None)\n",
    "\n",
    "print(numu_bkg_noExt.values[:, 0])\n",
    "##########################\n",
    "\n",
    "numu_evt_rate = pd.read_csv(\"numu_nopions_recoE_usingSelection_run1_cv_numu_evt_rate_\"+ending+\".csv\", header=None)\n",
    "\n",
    "numu_evt_rate = numu_evt_rate.values[:, 0]\n",
    "print(numu_evt_rate)\n",
    "\n",
    "#########################\n",
    "\n",
    "numu_full_evt_rate = pd.read_csv(\"numu_full_500_catsel_nopions_recoE_usingSelection_prior_true_signal_recoCut_\"+ending+\".csv\", header=None)\n",
    "\n",
    "numu_full_evt_rate = numu_full_evt_rate.values[:, 0]\n",
    "print(numu_full_evt_rate)"
   ]
  },
  {
   "cell_type": "code",
   "execution_count": 45,
   "id": "3d5e7738",
   "metadata": {},
   "outputs": [
    {
     "name": "stdout",
     "output_type": "stream",
     "text": [
      "[358.6850151  102.45785916  72.93009752  45.58398343  34.84369057\n",
      "  18.98130403  14.0379681   22.24030879]\n"
     ]
    },
    {
     "data": {
      "image/png": "[encoded data removed]",
      "text/plain": [
       "<Figure size 432x288 with 1 Axes>"
      ]
     },
     "metadata": {
      "needs_background": "light"
     },
     "output_type": "display_data"
    }
   ],
   "source": [
    "\n",
    "\n",
    "n, b, p = plt.hist(selected_events[xvar], bins, range=[xlow, xhigh],\n",
    "            weights=selected_events.totweight_data)\n",
    "#plt.close()\n",
    "\n",
    "print(n)"
   ]
  },
  {
   "cell_type": "code",
   "execution_count": 46,
   "id": "7f83a210",
   "metadata": {},
   "outputs": [
    {
     "data": {
      "text/plain": [
       "8"
      ]
     },
     "execution_count": 46,
     "metadata": {},
     "output_type": "execute_result"
    }
   ],
   "source": [
    "len(n)"
   ]
  },
  {
   "cell_type": "code",
   "execution_count": 47,
   "id": "ebe2a010",
   "metadata": {},
   "outputs": [
    {
     "data": {
      "text/plain": [
       "array([1.125, 1.375, 1.625, 1.875, 2.125, 2.375, 2.625, 2.875])"
      ]
     },
     "execution_count": 47,
     "metadata": {},
     "output_type": "execute_result"
    }
   ],
   "source": [
    "bincenters"
   ]
  },
  {
   "cell_type": "code",
   "execution_count": 48,
   "id": "44aef2e0",
   "metadata": {},
   "outputs": [
    {
     "data": {
      "text/plain": [
       "array([1.  , 1.25, 1.5 , 1.75, 2.  , 2.25, 2.5 , 2.75, 3.  ])"
      ]
     },
     "execution_count": 48,
     "metadata": {},
     "output_type": "execute_result"
    }
   ],
   "source": [
    "bins"
   ]
  },
  {
   "cell_type": "code",
   "execution_count": 49,
   "id": "142635bd",
   "metadata": {},
   "outputs": [
    {
     "data": {
      "text/plain": [
       "[0.12, 0.12, 0.12, 0.12, 0.12, 0.12, 0.12, 0.12]"
      ]
     },
     "execution_count": 49,
     "metadata": {},
     "output_type": "execute_result"
    }
   ],
   "source": [
    "\n",
    "\n",
    "binwidth = []\n",
    "\n",
    "for x in range(len(bincenters)):\n",
    "    \n",
    "    if xvar=='tksh_angle': \n",
    "        binwidth.append(round(abs((x_ticks)[x+1]-(x_ticks)[x])/2, 2))\n",
    "        \n",
    "    else: \n",
    "        binwidth.append(round(abs((x_ticks+[xhigh])[x+1]-(x_ticks+[xhigh])[x])/2, 2))\n",
    "    \n",
    "binwidth\n",
    "\n"
   ]
  },
  {
   "cell_type": "code",
   "execution_count": 50,
   "id": "457fd681",
   "metadata": {},
   "outputs": [],
   "source": [
    "## do not include EXT background subtraction! MC only \n",
    "#cv_bkgd_mc = [a-b for a,b in zip(fhc_dict['cv_bkgd'], fhc_dict['cv_ext'])]\n",
    "#I already do not in what has been loaded in\n",
    "\n",
    "cv_bkgd_mc = numu_bkg_noExt.values[:, 0]"
   ]
  },
  {
   "cell_type": "code",
   "execution_count": 51,
   "id": "6b4ab1b9",
   "metadata": {},
   "outputs": [
    {
     "data": {
      "text/plain": [
       "array([97.05624255, 37.1155529 , 25.96288007, 18.28680984, 11.5909262 ,\n",
       "        6.44015599,  4.19630213,  6.17521601])"
      ]
     },
     "execution_count": 51,
     "metadata": {},
     "output_type": "execute_result"
    }
   ],
   "source": [
    "cv_bkgd_mc"
   ]
  },
  {
   "cell_type": "code",
   "execution_count": 52,
   "id": "a95eae4a",
   "metadata": {},
   "outputs": [
    {
     "name": "stdout",
     "output_type": "stream",
     "text": [
      "[261.62877255286435, 65.34230625376011, 46.967217447557964, 27.29717358940438, 23.252764374718982, 12.541148038432423, 9.841665962652446, 16.065092775473786]\n"
     ]
    }
   ],
   "source": [
    "#ALLSEL NUWRO\n",
    "\n",
    "# background subtracted event rate - EXT was never added so never subtracted\n",
    "#(still need to take into acct its uncertainty)\n",
    "nuwro_evt_rate = [a-b for a,b in zip(n,cv_bkgd_mc)]\n",
    "print(nuwro_evt_rate)\n"
   ]
  },
  {
   "cell_type": "code",
   "execution_count": 53,
   "id": "84be1492",
   "metadata": {},
   "outputs": [
    {
     "data": {
      "text/plain": [
       "8"
      ]
     },
     "execution_count": 53,
     "metadata": {},
     "output_type": "execute_result"
    }
   ],
   "source": [
    "len(nuwro_evt_rate)"
   ]
  },
  {
   "cell_type": "code",
   "execution_count": 54,
   "id": "aaaea96c",
   "metadata": {},
   "outputs": [
    {
     "data": {
      "image/png": "[encoded data removed]",
      "text/plain": [
       "<Figure size 576x360 with 1 Axes>"
      ]
     },
     "metadata": {
      "needs_background": "light"
     },
     "output_type": "display_data"
    }
   ],
   "source": [
    "fig = plt.figure(figsize=(8, 5))\n",
    "\n",
    "plt.hist(selected_events[xvar],\n",
    "            bins, histtype='step', range=[xlow, xhigh],\n",
    "            weights=selected_events.totweight_data, linestyle=\":\", linewidth=2, \n",
    "                  label='Full')\n",
    "\n",
    "plt.hist(bincenters, bins, histtype='step', range=[xlow,xhigh], \n",
    "        weights=nuwro_evt_rate, linestyle=\":\", linewidth=2, \n",
    "                  label='GENIE v3 background-subtracted')\n",
    "\n",
    "\n",
    "# plot format stuff\n",
    "plt.legend(loc='best', prop={\"size\":14}, ncol=1, frameon=False)\n",
    "\n",
    "plt.ylabel('$\\\\nu$ / $2\\\\times10^{20}$ POT', fontsize=15)\n",
    "    \n",
    "plt.xlabel(\"Reco \"+x_label, fontsize=15)\n",
    "plt.xticks(x_ticks, fontsize=14)\n",
    "\n",
    "plt.yticks(fontsize=14)\n",
    "#plt.ylim(0, 7)\n",
    "\n",
    "plt.xlim(xlow, xhigh)\n",
    "plt.title(\"FHC NuWro Selected Evt Rate (MC Only)\", fontsize=16)\n",
    "\n",
    "plt.show()\n"
   ]
  },
  {
   "cell_type": "code",
   "execution_count": 55,
   "id": "e890a10e",
   "metadata": {},
   "outputs": [
    {
     "data": {
      "text/plain": [
       "(array([358.6850151 , 102.45785916,  72.93009752,  45.58398343,\n",
       "         34.84369057,  18.98130403,  14.0379681 ,  22.24030879]),\n",
       " array([1.  , 1.25, 1.5 , 1.75, 2.  , 2.25, 2.5 , 2.75, 3.  ]),\n",
       " <a list of 1 Patch objects>)"
      ]
     },
     "execution_count": 55,
     "metadata": {},
     "output_type": "execute_result"
    },
    {
     "data": {
      "image/png": "[encoded data removed]",
      "text/plain": [
       "<Figure size 432x288 with 1 Axes>"
      ]
     },
     "metadata": {
      "needs_background": "light"
     },
     "output_type": "display_data"
    }
   ],
   "source": [
    "plt.hist(selected_events[xvar],\n",
    "            bins, histtype='step', range=[xlow, xhigh],\n",
    "            weights=selected_events.totweight_data, linestyle=\":\", linewidth=2, \n",
    "                  label='Full')"
   ]
  },
  {
   "cell_type": "code",
   "execution_count": 56,
   "id": "18c143a9",
   "metadata": {},
   "outputs": [
    {
     "data": {
      "text/plain": [
       "462.93614099486445"
      ]
     },
     "execution_count": 56,
     "metadata": {},
     "output_type": "execute_result"
    }
   ],
   "source": [
    "sum(nuwro_evt_rate)"
   ]
  },
  {
   "cell_type": "code",
   "execution_count": 58,
   "id": "4a8db7b3",
   "metadata": {},
   "outputs": [
    {
     "data": {
      "image/png": "[encoded data removed]",
      "text/plain": [
       "<Figure size 576x504 with 2 Axes>"
      ]
     },
     "metadata": {
      "needs_background": "light"
     },
     "output_type": "display_data"
    }
   ],
   "source": [
    "from matplotlib import gridspec\n",
    "\n",
    "fig = plt.figure(figsize=(8, 7))\n",
    "\n",
    "gs = gridspec.GridSpec(2, 1, height_ratios=[2, 1])\n",
    "\n",
    "ax1 = plt.subplot(gs[0])\n",
    "ax2 = plt.subplot(gs[1])\n",
    "    \n",
    "ax1.tick_params(axis = 'both', which = 'major', labelsize = 13)\n",
    "ax2.tick_params(axis = 'both', which = 'major', labelsize = 13)\n",
    "\n",
    "ax2.yaxis.grid(linestyle=\"--\", color='black', alpha=0.2)\n",
    "ax2.xaxis.grid(linestyle=\"--\", color='black', alpha=0.2)\n",
    "\n",
    "# background subtracted genie evt rate \n",
    "ax1.hist(bincenters, bins, histtype='step', range=[xlow,xhigh], \n",
    "        weights=numu_evt_rate, linestyle=\":\", linewidth=2, \n",
    "                  label='GENIE v3')\n",
    "\n",
    "# background subtracted nuwro evt rate\n",
    "ax1.hist(bincenters, bins, histtype='step', range=[xlow,xhigh], \n",
    "        weights=nuwro_evt_rate, linestyle=\":\", linewidth=2, \n",
    "                  label='NuWro')\n",
    "\n",
    "# ratio plot  \n",
    "ax2.errorbar(bincenters, [a/b for a,b in zip(nuwro_evt_rate, numu_evt_rate)], \n",
    "             xerr=binwidth, color=\"black\", fmt='o')\n",
    "ax2.set_ylim(0, 2)\n",
    "\n",
    "\n",
    "# plot formatting \n",
    "ax1.set_xlim(xlow,xhigh)\n",
    "ax1.set_xticks(x_ticks)\n",
    "ax1.set_ylabel('$\\\\nu$ / $2\\\\times10^{20}$ POT', fontsize=15)\n",
    "\n",
    "ax2.set_xlim(xlow,xhigh)\n",
    "ax2.set_xticks(x_ticks)\n",
    "\n",
    "ax2.set_xlabel(x_label, fontsize=14)\n",
    "ax2.set_ylabel(\"NuWro / GENIE v3\", fontsize=14)\n",
    "\n",
    "ax1.legend(fontsize=13, frameon=False)\n",
    "    \n",
    "ax2.set_xlabel(\"Reconstructed \"+x_label, fontsize=15)\n",
    "ax1.set_title(\"Background-Subtracted Selected Event Rate\", fontsize=16)\n",
    "\n",
    "\n",
    "plt.show()"
   ]
  },
  {
   "cell_type": "code",
   "execution_count": 59,
   "id": "56967250",
   "metadata": {},
   "outputs": [],
   "source": [
    "\n",
    "\n",
    "# nuwro selected neutrino backgrounds\n",
    "nuwro_bkgd = pd.concat([datasets_bdt['infv'].query('is_signal==False'), datasets_bdt['outfv']])\n",
    "\n"
   ]
  },
  {
   "cell_type": "code",
   "execution_count": 60,
   "id": "aa4d0fcc",
   "metadata": {},
   "outputs": [
    {
     "data": {
      "text/plain": [
       "[261.62877255286435,\n",
       " 65.34230625376011,\n",
       " 46.967217447557964,\n",
       " 27.29717358940438,\n",
       " 23.252764374718982,\n",
       " 12.541148038432423,\n",
       " 9.841665962652446,\n",
       " 16.065092775473786]"
      ]
     },
     "execution_count": 60,
     "metadata": {},
     "output_type": "execute_result"
    }
   ],
   "source": [
    "nuwro_evt_rate"
   ]
  },
  {
   "cell_type": "code",
   "execution_count": 61,
   "id": "275bb086",
   "metadata": {},
   "outputs": [
    {
     "data": {
      "image/png": "[encoded data removed]",
      "text/plain": [
       "<Figure size 576x504 with 2 Axes>"
      ]
     },
     "metadata": {
      "needs_background": "light"
     },
     "output_type": "display_data"
    }
   ],
   "source": [
    "fig = plt.figure(figsize=(8, 7))\n",
    "\n",
    "gs = gridspec.GridSpec(2, 1, height_ratios=[2, 1])\n",
    "\n",
    "ax1 = plt.subplot(gs[0])\n",
    "ax2 = plt.subplot(gs[1])\n",
    "    \n",
    "ax1.tick_params(axis = 'both', which = 'major', labelsize = 13)\n",
    "ax2.tick_params(axis = 'both', which = 'major', labelsize = 13)\n",
    "\n",
    "ax2.yaxis.grid(linestyle=\"--\", color='black', alpha=0.2)\n",
    "ax2.xaxis.grid(linestyle=\"--\", color='black', alpha=0.2)\n",
    "\n",
    "# genie\n",
    "ax1.hist(bincenters, bins, histtype='step', range=[xlow,xhigh], \n",
    "        weights=cv_bkgd_mc, linestyle=\":\", linewidth=2, \n",
    "                  label='GENIE v3')\n",
    "\n",
    "# background subtracted nuwro evt rate\n",
    "h_nuwro_bkgd = ax1.hist(nuwro_bkgd[xvar], bins, histtype='step', \n",
    "                        weights=nuwro_bkgd.totweight_data, range=[xlow,xhigh], \n",
    "         linestyle=\":\", linewidth=2, \n",
    "                  label='NuWro')[0]\n",
    "\n",
    "# ratio plot  \n",
    "ax2.errorbar(bincenters, [a/b for a,b in zip(h_nuwro_bkgd, cv_bkgd_mc)], \n",
    "             xerr=binwidth, color=\"black\", fmt='o')\n",
    "#ax2.set_ylim(0, 2)\n",
    "\n",
    "#ax1.set_ylim(0, 5)\n",
    "\n",
    "\n",
    "# plot formatting \n",
    "ax1.set_xlim(xlow,xhigh)\n",
    "ax1.set_xticks(x_ticks)\n",
    "ax1.set_ylabel('$\\\\nu$ / $2\\\\times10^{20}$ POT', fontsize=15)\n",
    "\n",
    "ax2.set_xlim(xlow,xhigh)\n",
    "ax2.set_xticks(x_ticks)\n",
    "\n",
    "ax2.set_xlabel(x_label, fontsize=14)\n",
    "ax2.set_ylabel(\"NuWro / GENIE v3\", fontsize=14)\n",
    "\n",
    "ax1.legend(fontsize=13, frameon=False)\n",
    "    \n",
    "ax2.set_xlabel(\"Reconstructed \"+x_label, fontsize=15)\n",
    "ax1.set_title(\"Selected Neutrino Backgrounds\", fontsize=16)\n",
    "\n",
    "\n",
    "#plt.savefig(\"/uboone/data/users/kmiller/uBNuMI_CCNp/plots/fhc/fakedata/nuwro_mc_bkgd_compare_\"+xvar+\".pdf\", \n",
    "#            transparent=True, bbox_inches='tight')\n",
    "\n",
    "plt.show()"
   ]
  },
  {
   "cell_type": "code",
   "execution_count": 62,
   "id": "ad97ebf2",
   "metadata": {},
   "outputs": [
    {
     "name": "stdout",
     "output_type": "stream",
     "text": [
      "[ 853.52156358 1811.68153404 1406.17924847 1095.68735644  944.40971617\n",
      "  755.10104191  515.6394811  1026.95062958]\n"
     ]
    }
   ],
   "source": [
    "#This should be prior true signal from genie\n",
    "#genie_true = generated_signal(False, true_var, bins, xlow, xhigh)[0]\n",
    "\n",
    "genie_true = numu_full_evt_rate\n",
    "\n",
    "print(genie_true)"
   ]
  },
  {
   "cell_type": "code",
   "execution_count": 63,
   "id": "6b48c7a2",
   "metadata": {},
   "outputs": [
    {
     "name": "stdout",
     "output_type": "stream",
     "text": [
      "[1.125 1.375 1.625 1.875 2.125 2.375 2.625 2.875]\n",
      "[ 20.64262791 199.28229006 142.33964987  61.06669211  25.53224489\n",
      "  12.93409941   7.43206877   1.663976  ]\n"
     ]
    },
    {
     "data": {
      "image/png": "[encoded data removed]",
      "text/plain": [
       "<Figure size 576x504 with 2 Axes>"
      ]
     },
     "metadata": {
      "needs_background": "light"
     },
     "output_type": "display_data"
    }
   ],
   "source": [
    "fig = plt.figure(figsize=(8, 7))\n",
    "\n",
    "gs = gridspec.GridSpec(2, 1, height_ratios=[2, 1])\n",
    "\n",
    "ax1 = plt.subplot(gs[0])\n",
    "ax2 = plt.subplot(gs[1])\n",
    "    \n",
    "ax1.tick_params(axis = 'both', which = 'major', labelsize = 13)\n",
    "ax2.tick_params(axis = 'both', which = 'major', labelsize = 13)\n",
    "\n",
    "ax2.yaxis.grid(linestyle=\"--\", color='black', alpha=0.2)\n",
    "ax2.xaxis.grid(linestyle=\"--\", color='black', alpha=0.2)\n",
    "\n",
    "ax1.hist(bincenters, bins, histtype='step', range=[xlow,xhigh], \n",
    "        weights=genie_true, linestyle=\":\", linewidth=2, \n",
    "                  label='GENIE v3')\n",
    "\n",
    "print(bincenters)\n",
    "\n",
    "nuwro_true = ax1.hist(generated_events.query('is_signal==True')[true_var], bins, \n",
    "                      histtype='step', range=[xlow,xhigh], \n",
    "                      weights=generated_events.query('is_signal==True')['totweight_data'], \n",
    "                      linestyle=\":\", linewidth=2, \n",
    "                  label='NuWro')[0]\n",
    "\n",
    "\n",
    "# ratio plot  \n",
    "ax2.errorbar(bincenters, [a/b for a,b in zip(nuwro_true, genie_true)], \n",
    "             xerr=binwidth, color=\"black\", fmt='o')\n",
    "ax2.set_ylim(0, 2)\n",
    "\n",
    "print(nuwro_true)\n",
    "\n",
    "# plot formatting \n",
    "ax1.set_xlim(xlow,xhigh)\n",
    "ax1.set_xticks(x_ticks)\n",
    "ax1.set_ylabel('$\\\\nu$ / $2\\\\times10^{20}$ POT', fontsize=15)\n",
    "\n",
    "ax2.set_xlim(xlow,xhigh)\n",
    "ax2.set_xticks(x_ticks)\n",
    "\n",
    "ax2.set_xlabel(x_label, fontsize=14)\n",
    "ax2.set_ylabel(\"NuWro / GENIE v3\", fontsize=14)\n",
    "\n",
    "ax1.legend(fontsize=13, frameon=False)\n",
    "    \n",
    "ax2.set_xlabel(\"True \"+x_label, fontsize=15)\n",
    "ax1.set_title(\"Generated Signal Event Rate\", fontsize=16)\n",
    "\n",
    "#plt.savefig(\"/uboone/data/users/kmiller/uBNuMI_CCNp/plots/fhc/fakedata/nuwro_gen_signal_compare_\"+xvar+\".pdf\", \n",
    "#            transparent=True, bbox_inches='tight')\n",
    "plt.show()"
   ]
  },
  {
   "cell_type": "code",
   "execution_count": 64,
   "id": "698c47c6",
   "metadata": {},
   "outputs": [
    {
     "name": "stdout",
     "output_type": "stream",
     "text": [
      "Generated (True - GENIE v3) =  [ 853.52156358 1811.68153404 1406.17924847 1095.68735644  944.40971617\n",
      "  755.10104191  515.6394811  1026.95062958]\n",
      "Selected (Reco - NuWro) =  [261.62877255286435, 65.34230625376011, 46.967217447557964, 27.29717358940438, 23.252764374718982, 12.541148038432423, 9.841665962652446, 16.065092775473786]\n"
     ]
    },
    {
     "data": {
      "image/png": "[encoded data removed]",
      "text/plain": [
       "<Figure size 720x504 with 1 Axes>"
      ]
     },
     "metadata": {
      "needs_background": "light"
     },
     "output_type": "display_data"
    }
   ],
   "source": [
    "# nuwro input distributions \n",
    "\n",
    "fig = plt.figure(figsize=(10, 7))\n",
    "\n",
    "#So this is Prior True\n",
    "plt.hist(bincenters, bins, color='orange', label='Generated (True - GENIE v3)', alpha=0.4, \n",
    "         weights=genie_true)\n",
    "\n",
    "print(\"Generated (True - GENIE v3) = \", genie_true)\n",
    "\n",
    "\n",
    "#And this is Data Signal\n",
    "# genie background subtracted evt rate \n",
    "plt.hist(bincenters, bins, color='blue', label='Selected (Reco - NuWro)', alpha=0.4, weights=nuwro_evt_rate)\n",
    "\n",
    "print('Selected (Reco - NuWro) = ', nuwro_evt_rate)\n",
    "\n",
    "plt.legend(fontsize=13)\n",
    "plt.title('FHC Run 1 - Input Signal Predictions', fontsize=16)\n",
    "\n",
    "plt.xlim(xlow, xhigh)\n",
    "\n",
    "plt.xlabel(x_label, fontsize=15)\n",
    "    \n",
    "plt.xticks(x_ticks, fontsize=13)\n",
    "plt.yticks(fontsize=13)\n",
    "\n",
    "plt.ylabel(\"$\\\\nu$ / 2.0 $\\\\times 10^{20}$ POT\", fontsize=15)\n",
    "\n",
    "plt.grid()\n",
    "\n",
    "#plt.savefig(\"/uboone/data/users/kmiller/uBNuMI_CCNp/plots/fhc/fakedata/nuwro_input_dist_\"+xvar+\".pdf\", \n",
    "#            transparent=True, bbox_inches='tight')\n",
    "\n",
    "plt.show()"
   ]
  },
  {
   "cell_type": "code",
   "execution_count": 65,
   "id": "f1c32cf1",
   "metadata": {},
   "outputs": [
    {
     "data": {
      "text/plain": [
       "[261.62877255286435,\n",
       " 65.34230625376011,\n",
       " 46.967217447557964,\n",
       " 27.29717358940438,\n",
       " 23.252764374718982,\n",
       " 12.541148038432423,\n",
       " 9.841665962652446,\n",
       " 16.065092775473786]"
      ]
     },
     "execution_count": 65,
     "metadata": {},
     "output_type": "execute_result"
    }
   ],
   "source": [
    "nuwro_evt_rate"
   ]
  },
  {
   "cell_type": "code",
   "execution_count": 66,
   "id": "7a16e36d",
   "metadata": {},
   "outputs": [
    {
     "name": "stdout",
     "output_type": "stream",
     "text": [
      "[96.26573761793149, 27.813695053027338, 19.796827788189553, 12.425530689033005, 9.519328612958752, 5.212307443334786, 3.8594495604752157, 6.0817587593879185]\n"
     ]
    }
   ],
   "source": [
    "##ALLSEL NUWRO STAT ERRS\n",
    "\n",
    "# sumw2 of the full event rate \n",
    "nuwro_full_sumw2 = []\n",
    "\n",
    "for i in range(len(bins)-1):\n",
    "\n",
    "    if i==len(bins)-2: \n",
    "        bin_query = xvar+' >= '+str(bins[i])+' and '+xvar+' <= '+str(bins[i+1])\n",
    "    else: \n",
    "        bin_query = xvar+' >= '+str(bins[i])+' and '+xvar+' < '+str(bins[i+1])\n",
    "\n",
    "    #nuwro_full_sumw2.append(sum(datasets_bdt['infv'].query('is_signal==True and '+bin_query).totweight_data ** 2) ) #bug (fixed below)\n",
    "    nuwro_full_sumw2.append(sum(selected_events.query(bin_query).totweight_data ** 2))\n",
    "    #nuwro_full_sumw2.append(sum(nue.query(bin_query).totweight_data ** 2))\n",
    "    \n",
    "    \n",
    "print(nuwro_full_sumw2)   \n",
    "# percent stat error - of the background subtracted event rate \n",
    "#print( [(np.sqrt(a)/b) for a,b in zip(nuwro_full_sumw2, nuwro_evt_rate)] )"
   ]
  },
  {
   "cell_type": "code",
   "execution_count": 67,
   "id": "12fc6d28",
   "metadata": {},
   "outputs": [
    {
     "data": {
      "text/plain": [
       "[96.26573761793149,\n",
       " 27.813695053027338,\n",
       " 19.796827788189553,\n",
       " 12.425530689033005,\n",
       " 9.519328612958752,\n",
       " 5.212307443334786,\n",
       " 3.8594495604752157,\n",
       " 6.0817587593879185]"
      ]
     },
     "execution_count": 67,
     "metadata": {},
     "output_type": "execute_result"
    }
   ],
   "source": [
    "nuwro_full_sumw2"
   ]
  },
  {
   "cell_type": "markdown",
   "id": "b272660c",
   "metadata": {},
   "source": [
    "Signal Region Systematic - NuWro"
   ]
  },
  {
   "cell_type": "code",
   "execution_count": 68,
   "id": "212eed33",
   "metadata": {},
   "outputs": [
    {
     "data": {
      "image/png": "[encoded data removed]",
      "text/plain": [
       "<Figure size 576x360 with 1 Axes>"
      ]
     },
     "metadata": {
      "needs_background": "light"
     },
     "output_type": "display_data"
    }
   ],
   "source": [
    "# genie vs nuwro event rate\n",
    "\n",
    "fig = plt.figure(figsize=(8, 5))\n",
    "\n",
    "# background subtracted genie evt rate \n",
    "plt.hist(bincenters, bins, histtype='step', range=[xlow,xhigh], \n",
    "        weights=numu_evt_rate, linestyle=\":\", linewidth=2, \n",
    "                  label='GENIE v3')\n",
    "\n",
    "# background subtracted nuwro evt rate\n",
    "plt.hist(bincenters, bins, histtype='step', range=[xlow,xhigh], \n",
    "        weights=nuwro_evt_rate, linestyle=\":\", linewidth=2, \n",
    "                  label='NuWro')\n",
    "\n",
    "# plot format stuff\n",
    "plt.legend(loc='best', prop={\"size\":14}, ncol=1, frameon=False)\n",
    "\n",
    "plt.ylabel('$\\\\nu$ / $2\\\\times10^{20}$ POT', fontsize=15)\n",
    "    \n",
    "plt.xlabel(\"Reconstructed \"+x_label, fontsize=15)\n",
    "plt.xticks(x_ticks, fontsize=14)\n",
    "\n",
    "plt.yticks(fontsize=14)\n",
    "\n",
    "plt.xlim(xlow, xhigh)\n",
    "\n",
    "\n",
    "plt.title(\"Background-Subtracted Selected Event Rate\", fontsize=16)\n",
    "\n",
    "plt.show()"
   ]
  },
  {
   "cell_type": "code",
   "execution_count": 69,
   "id": "2cc30037",
   "metadata": {},
   "outputs": [],
   "source": [
    "# genie_evt_rate - background subtracted event rate \n",
    "# nuwro_evt_rate - background subtracted event rate \n",
    "# genie_nu_bkgd - neutrino background prediction from genie \n",
    "# nuwro_nu_bkgd - neutrino background prediction from nuwro\n",
    "\n",
    "sys_dict = {}\n",
    "\n"
   ]
  },
  {
   "cell_type": "code",
   "execution_count": 70,
   "id": "71ae6cc7",
   "metadata": {},
   "outputs": [],
   "source": [
    "sys_dict['genie_evt_rate'] = numu_evt_rate\n",
    "sys_dict['nuwro_evt_rate'] = nuwro_evt_rate\n",
    "sys_dict['genie_nu_bkgd'] = cv_bkgd_mc\n",
    "sys_dict['nuwro_nu_bkgd'] = list(h_nuwro_bkgd)\n"
   ]
  },
  {
   "cell_type": "code",
   "execution_count": 71,
   "id": "13b3f262",
   "metadata": {},
   "outputs": [
    {
     "data": {
      "text/plain": [
       "array([ 20.64262791, 199.28229006, 142.33964987,  61.06669211,\n",
       "        25.53224489,  12.93409941,   7.43206877,   1.663976  ])"
      ]
     },
     "execution_count": 71,
     "metadata": {},
     "output_type": "execute_result"
    }
   ],
   "source": [
    "nuwro_true"
   ]
  },
  {
   "cell_type": "code",
   "execution_count": 72,
   "id": "f0b7f324",
   "metadata": {},
   "outputs": [
    {
     "data": {
      "text/plain": [
       "array([ 853.52156358, 1811.68153404, 1406.17924847, 1095.68735644,\n",
       "        944.40971617,  755.10104191,  515.6394811 , 1026.95062958])"
      ]
     },
     "execution_count": 72,
     "metadata": {},
     "output_type": "execute_result"
    }
   ],
   "source": [
    "genie_true"
   ]
  },
  {
   "cell_type": "markdown",
   "id": "28b4922a",
   "metadata": {},
   "source": [
    "## Create the Numu Cov Uncertainty Matrix"
   ]
  },
  {
   "cell_type": "code",
   "execution_count": 73,
   "id": "d957b271",
   "metadata": {},
   "outputs": [
    {
     "name": "stdout",
     "output_type": "stream",
     "text": [
      "[96.26573761793149, 27.813695053027338, 19.796827788189553, 12.425530689033005, 9.519328612958752, 5.212307443334786, 3.8594495604752157, 6.0817587593879185]\n"
     ]
    }
   ],
   "source": [
    "#nuWro_stat_err_numu\n",
    "#array([ 5.3487608 ,  5.52786268,  6.70549925,  6.97774993,  9.33344634,\n",
    "#       12.95879938, 16.85555654, 28.36305774, 41.59580091, 77.48407289])\n",
    "\n",
    "nuWro_stat_err_numu = nuwro_full_sumw2\n",
    "print(nuWro_stat_err_numu)"
   ]
  },
  {
   "cell_type": "code",
   "execution_count": 74,
   "id": "e16303d9",
   "metadata": {},
   "outputs": [
    {
     "name": "stdout",
     "output_type": "stream",
     "text": [
      "[36.42859635  5.89683842  4.76238092  1.69077428  1.13178524  1.13221019\n",
      "  0.36292428  0.53474438]\n"
     ]
    }
   ],
   "source": [
    "numu_bkg_genie_err = pd.read_csv(\"numu_bkg_exp_err_squared_energy_\"+ending+\".csv\", header=None)\n",
    "\n",
    "numu_bkg_genie_err = numu_bkg_genie_err.values[:, 0]\n",
    "print(numu_bkg_genie_err)"
   ]
  },
  {
   "cell_type": "code",
   "execution_count": 75,
   "id": "dc0afc62",
   "metadata": {},
   "outputs": [
    {
     "name": "stdout",
     "output_type": "stream",
     "text": [
      "[132.69433397  33.71053348  24.55920871  14.11630497  10.65111385\n",
      "   6.34451764   4.22237384   6.61650314]\n"
     ]
    }
   ],
   "source": [
    "totalstat_numu_err = nuWro_stat_err_numu + numu_bkg_genie_err\n",
    "print(totalstat_numu_err)"
   ]
  },
  {
   "cell_type": "code",
   "execution_count": 76,
   "id": "8fac7c72",
   "metadata": {},
   "outputs": [
    {
     "name": "stdout",
     "output_type": "stream",
     "text": [
      "[[0. 0. 0. 0. 0. 0. 0. 0.]\n",
      " [0. 0. 0. 0. 0. 0. 0. 0.]\n",
      " [0. 0. 0. 0. 0. 0. 0. 0.]\n",
      " [0. 0. 0. 0. 0. 0. 0. 0.]\n",
      " [0. 0. 0. 0. 0. 0. 0. 0.]\n",
      " [0. 0. 0. 0. 0. 0. 0. 0.]\n",
      " [0. 0. 0. 0. 0. 0. 0. 0.]\n",
      " [0. 0. 0. 0. 0. 0. 0. 0.]]\n"
     ]
    }
   ],
   "source": [
    "numu_cov_stats   = np.zeros([(len(bins)-1), (len(bins)-1)])\n",
    "print(numu_cov_stats)"
   ]
  },
  {
   "cell_type": "code",
   "execution_count": 77,
   "id": "65af29be",
   "metadata": {},
   "outputs": [],
   "source": [
    "numu_cov_stats[np.diag_indices_from(numu_cov_stats)]    = totalstat_numu_err"
   ]
  },
  {
   "cell_type": "code",
   "execution_count": 78,
   "id": "6012b278",
   "metadata": {},
   "outputs": [
    {
     "data": {
      "image/png": "[encoded data removed]",
      "text/plain": [
       "<Figure size 720x432 with 2 Axes>"
      ]
     },
     "metadata": {
      "needs_background": "light"
     },
     "output_type": "display_data"
    }
   ],
   "source": [
    "fig = plt.figure(figsize=(10, 6))\n",
    "        \n",
    "plt.pcolor(bins, bins, numu_cov_stats, cmap='OrRd', edgecolors='k')#, vmin=-1, vmax=1)\n",
    "            \n",
    "cbar = plt.colorbar()\n",
    "cbar.ax.tick_params(labelsize=14)\n",
    "\n",
    "\n",
    "\n",
    "\n",
    "#plt.xlabel('Reco Shower Energy [GeV]', fontsize=15)\n",
    "#plt.ylabel('Reco Shower Energy [GeV]', fontsize=15)\n",
    "\n",
    "plt.title('Covariance', fontsize=15)\n",
    "\n",
    "plt.show()"
   ]
  },
  {
   "cell_type": "code",
   "execution_count": 79,
   "id": "35205e8a",
   "metadata": {},
   "outputs": [
    {
     "name": "stdout",
     "output_type": "stream",
     "text": [
      "[[1915.07749022  651.07384409  597.85335027  481.67533635  244.84478951\n",
      "   149.27920646   47.58130522  231.61762063]\n",
      " [ 651.07384409  232.48493022  203.20827288  161.68373441   86.15868243\n",
      "    52.08877343   19.73163534   77.58135572]\n",
      " [ 597.85335027  203.20827288  205.10865772  173.51076349   83.85972815\n",
      "    50.7404058    11.47728516   81.67638315]\n",
      " [ 481.67533635  161.68373441  173.51076349  152.65348831   71.18175069\n",
      "    42.53503791    6.7747844    70.98502859]\n",
      " [ 244.84478951   86.15868243   83.85972815   71.18175069   35.90893631\n",
      "    21.27238723    5.74055649   33.40683164]\n",
      " [ 149.27920646   52.08877343   50.7404058    42.53503791   21.27238723\n",
      "    12.96634448    3.51077724   20.02022304]\n",
      " [  47.58130522   19.73163534   11.47728516    6.7747844     5.74055649\n",
      "     3.51077724    3.28710828    3.54584222]\n",
      " [ 231.61762063   77.58135572   81.67638315   70.98502859   33.40683164\n",
      "    20.02022304    3.54584222   33.62462129]]\n"
     ]
    }
   ],
   "source": [
    "# Now need to load in the genie sys errs from numu\n",
    "\n",
    "numu_bkg_genie_err = pd.read_csv(\"numu_cov_genie_only_energy_\"+ending+\".csv\", header=None)\n",
    "\n",
    "numu_bkg_genie_err = numu_bkg_genie_err.values\n",
    "print(numu_bkg_genie_err)"
   ]
  },
  {
   "cell_type": "code",
   "execution_count": 80,
   "id": "938beb25",
   "metadata": {},
   "outputs": [
    {
     "data": {
      "image/png": "[encoded data removed]",
      "text/plain": [
       "<Figure size 720x432 with 2 Axes>"
      ]
     },
     "metadata": {
      "needs_background": "light"
     },
     "output_type": "display_data"
    }
   ],
   "source": [
    "fig = plt.figure(figsize=(10, 6))\n",
    "        \n",
    "plt.pcolor(bins, bins, numu_bkg_genie_err, cmap='OrRd', edgecolors='k')#, vmin=-1, vmax=1)\n",
    "            \n",
    "cbar = plt.colorbar()\n",
    "cbar.ax.tick_params(labelsize=14)\n",
    "\n",
    "\n",
    "\n",
    "\n",
    "#plt.xlabel('Reco Shower Energy [GeV]', fontsize=15)\n",
    "#plt.ylabel('Reco Shower Energy [GeV]', fontsize=15)\n",
    "\n",
    "plt.title('genie cov', fontsize=15)\n",
    "\n",
    "plt.show()"
   ]
  },
  {
   "cell_type": "code",
   "execution_count": 81,
   "id": "70e0677c",
   "metadata": {},
   "outputs": [],
   "source": [
    "total_cov_nuWro_numu = numu_bkg_genie_err + numu_cov_stats"
   ]
  },
  {
   "cell_type": "code",
   "execution_count": 82,
   "id": "877a75c7",
   "metadata": {},
   "outputs": [
    {
     "data": {
      "image/png": "[encoded data removed]",
      "text/plain": [
       "<Figure size 720x432 with 2 Axes>"
      ]
     },
     "metadata": {
      "needs_background": "light"
     },
     "output_type": "display_data"
    }
   ],
   "source": [
    "fig = plt.figure(figsize=(10, 6))\n",
    "        \n",
    "plt.pcolor(bins, bins, total_cov_nuWro_numu, cmap='OrRd', edgecolors='k')#, vmin=-1, vmax=1)\n",
    "            \n",
    "cbar = plt.colorbar()\n",
    "cbar.ax.tick_params(labelsize=14)\n",
    "\n",
    "\n",
    "\n",
    "\n",
    "#plt.xlabel('Reco Shower Energy [GeV]', fontsize=15)\n",
    "#plt.ylabel('Reco Shower Energy [GeV]', fontsize=15)\n",
    "\n",
    "plt.title('total input nuwro cov', fontsize=15)\n",
    "\n",
    "plt.show()"
   ]
  },
  {
   "cell_type": "code",
   "execution_count": 83,
   "id": "42beb921",
   "metadata": {},
   "outputs": [
    {
     "name": "stdout",
     "output_type": "stream",
     "text": [
      "\n",
      "[[0.9999999999999999, 0.8818386750018616, 0.871773709748572, 0.8242423642315353, 0.7929455477860489, 0.7506849425560196, 0.383698919208953, 0.8068554941458991], [0.8818386750018616, 1.0000000000000002, 0.821846938323318, 0.7673744077075763, 0.7739127544032895, 0.726512304958656, 0.4413242196356254, 0.7495868959146095], [0.871773709748572, 0.821846938323318, 1.0000000000000002, 0.8865793418694196, 0.8109547323290329, 0.7619087948750591, 0.27636564839574135, 0.8495937837590416], [0.8242423642315353, 0.7673744077075763, 0.8865793418694196, 1.0, 0.807798886422053, 0.7495270268979491, 0.1914396052145751, 0.8665088698660863], [0.7929455477860489, 0.7739127544032895, 0.8109547323290329, 0.807798886422053, 1.0, 0.7094285774137122, 0.30700276104346674, 0.7717799910198218], [0.7506849425560196, 0.726512304958656, 0.7619087948750591, 0.7495270268979491, 0.7094285774137122, 0.9999999999999998, 0.29153952993455584, 0.7181795366360683], [0.383698919208953, 0.4413242196356254, 0.27636564839574135, 0.1914396052145751, 0.30700276104346674, 0.29153952993455584, 0.9999999999999999, 0.20397613530331382], [0.8068554941458991, 0.7495868959146095, 0.8495937837590416, 0.8665088698660863, 0.7717799910198218, 0.7181795366360683, 0.20397613530331382, 1.0]]\n"
     ]
    }
   ],
   "source": [
    "total_cor_nuWro_numu = [ [0]*(len(bins)-1) for x in range(len(bins)-1) ]\n",
    "for i in range(len(total_cov_nuWro_numu)): \n",
    "        for j in range(len(total_cov_nuWro_numu[i])): \n",
    "\n",
    "            if np.sqrt(total_cov_nuWro_numu[i][i])*np.sqrt(total_cov_nuWro_numu[j][j]) != 0: \n",
    "                total_cor_nuWro_numu[i][j] = total_cov_nuWro_numu[i][j] / (np.sqrt(total_cov_nuWro_numu[i][i])*np.sqrt(total_cov_nuWro_numu[j][j]))\n",
    "                \n",
    "print(\"\")\n",
    "print(total_cor_nuWro_numu)"
   ]
  },
  {
   "cell_type": "code",
   "execution_count": 84,
   "id": "aca8465e",
   "metadata": {},
   "outputs": [
    {
     "data": {
      "image/png": "[encoded data removed]",
      "text/plain": [
       "<Figure size 720x432 with 2 Axes>"
      ]
     },
     "metadata": {
      "needs_background": "light"
     },
     "output_type": "display_data"
    }
   ],
   "source": [
    "fig = plt.figure(figsize=(10, 6))\n",
    "        \n",
    "plt.pcolor(bins, bins, total_cor_nuWro_numu, cmap='OrRd', edgecolors='k', vmin=-1, vmax=1)#, vmin=-1, vmax=1)\n",
    "            \n",
    "cbar = plt.colorbar()\n",
    "cbar.ax.tick_params(labelsize=14)\n",
    "\n",
    "\n",
    "\n",
    "\n",
    "#plt.xlabel('Reco Shower Energy [GeV]', fontsize=15)\n",
    "#plt.ylabel('Reco Shower Energy [GeV]', fontsize=15)\n",
    "\n",
    "plt.title('total input nuwro cor', fontsize=15)\n",
    "\n",
    "plt.show()"
   ]
  },
  {
   "cell_type": "code",
   "execution_count": 85,
   "id": "d0bc59ac",
   "metadata": {},
   "outputs": [],
   "source": [
    "total_frac_cov_nuWro_numu = [ [0]*(len(bins)-1) for x in range(len(bins)-1) ]\n",
    "\n",
    "for i in range(len(bins)-1): \n",
    "\n",
    "    for j in range(len(bins)-1): \n",
    "\n",
    "        c = total_cov_nuWro_numu[i][j]\n",
    "        \n",
    "        if nuwro_evt_rate[i]*nuwro_evt_rate[j] != 0:\n",
    "            total_frac_cov_nuWro_numu[i][j] = c/(nuwro_evt_rate[i]*nuwro_evt_rate[j])"
   ]
  },
  {
   "cell_type": "code",
   "execution_count": 86,
   "id": "5950edce",
   "metadata": {},
   "outputs": [
    {
     "data": {
      "image/png": "[encoded data removed]",
      "text/plain": [
       "<Figure size 720x432 with 2 Axes>"
      ]
     },
     "metadata": {
      "needs_background": "light"
     },
     "output_type": "display_data"
    }
   ],
   "source": [
    "fig = plt.figure(figsize=(10, 6))\n",
    "        \n",
    "plt.pcolor(bins, bins, total_frac_cov_nuWro_numu, cmap='OrRd', edgecolors='k')#, vmin=-1, vmax=1)\n",
    "            \n",
    "cbar = plt.colorbar()\n",
    "cbar.ax.tick_params(labelsize=14)\n",
    "\n",
    "\n",
    "\n",
    "\n",
    "#plt.xlabel('Reco Shower Energy [GeV]', fontsize=15)\n",
    "#plt.ylabel('Reco Shower Energy [GeV]', fontsize=15)\n",
    "\n",
    "plt.title('total input nuwro frac cov', fontsize=15)\n",
    "\n",
    "plt.show()"
   ]
  },
  {
   "cell_type": "markdown",
   "id": "f50e38da",
   "metadata": {},
   "source": [
    "## Now make the inputs blockwise"
   ]
  },
  {
   "cell_type": "code",
   "execution_count": 87,
   "id": "0440f827",
   "metadata": {},
   "outputs": [
    {
     "name": "stdout",
     "output_type": "stream",
     "text": [
      "[42.38369753  3.66629047  2.37009402  0.54390742  0.5297588   0.4062539\n",
      "  0.15155431  0.29006323]\n"
     ]
    }
   ],
   "source": [
    "nue_data_signal = pd.read_csv(\"nue_nuWro_MC_Data_Signal_recoCut_run1_energy_\"+ending+\".csv\", header=None)\n",
    "\n",
    "nue_data_signal = nue_data_signal.values[:, 0]\n",
    "\n",
    "print(nue_data_signal)"
   ]
  },
  {
   "cell_type": "code",
   "execution_count": 88,
   "id": "d175a1b2",
   "metadata": {},
   "outputs": [
    {
     "name": "stdout",
     "output_type": "stream",
     "text": [
      "[4.23836975e+01 3.66629047e+00 2.37009402e+00 5.43907424e-01\n",
      " 5.29758797e-01 4.06253899e-01 1.51554314e-01 2.90063231e-01\n",
      " 2.61628773e+02 6.53423063e+01 4.69672174e+01 2.72971736e+01\n",
      " 2.32527644e+01 1.25411480e+01 9.84166596e+00 1.60650928e+01]\n",
      "16\n"
     ]
    }
   ],
   "source": [
    "nue_numu_tot = np.concatenate((nue_data_signal, nuwro_evt_rate), axis=0)\n",
    "\n",
    "print(nue_numu_tot)\n",
    "print(len(nue_numu_tot))\n"
   ]
  },
  {
   "cell_type": "code",
   "execution_count": 89,
   "id": "c83bccae",
   "metadata": {},
   "outputs": [
    {
     "data": {
      "image/png": "[encoded data removed]",
      "text/plain": [
       "<Figure size 576x504 with 1 Axes>"
      ]
     },
     "metadata": {
      "needs_background": "light"
     },
     "output_type": "display_data"
    }
   ],
   "source": [
    "nue_numu_fig = plt.figure(figsize=(8, 7))\n",
    "nue_numu_gs = gridspec.GridSpec(2, 1, height_ratios=[2, 1])\n",
    "nue_numu_ax1 = plt.subplot(nue_numu_gs[0])\n",
    "\n",
    "\n",
    "bins = np.arange(0, 17, 1)\n",
    "count = np.arange(0.0, 16.0, 1)\n",
    "\n",
    "\n",
    "sel_ratio = nue_numu_ax1.hist(count, bins, edgecolor='red', facecolor='red', weights=nue_numu_tot)\n",
    "nue_numu_ax1.set_ylabel('Count', fontsize=15)\n",
    "nue_numu_ax1.set_xlabel('Bin Number', fontsize=15)\n",
    "nue_numu_ax1.set_title(\"Nue, Numu, NuWro Data Selected Values\")\n",
    "#leg = nue_numu_ax1.legend()\n",
    "#nue_numu_ax1.set_ylim([0, 1])\n",
    "\n",
    "nue_numu_fig.savefig(\"data_signal_MC_nuWro_input_recoE_comb_\"+ending+\".svg\", bbox_inches='tight')\n",
    "\n",
    "np.savetxt(\"data_signal_MC_nuWro_input_recoE_comb_\"+ending+\".csv\", \n",
    "               nue_numu_tot,\n",
    "               delimiter =\", \", \n",
    "               fmt ='% s')"
   ]
  },
  {
   "cell_type": "code",
   "execution_count": 91,
   "id": "c8335c3d",
   "metadata": {},
   "outputs": [
    {
     "name": "stdout",
     "output_type": "stream",
     "text": [
      "[[ 9.42964570e+01  1.24873393e+01  7.96665989e+00  1.95542007e+00\n",
      "   1.87225746e+00  1.10855581e+00  6.03394860e-01  1.53086904e+00\n",
      "   4.12888338e+01  1.48236081e+01  8.71237569e+00  5.06408339e+00\n",
      "   3.37912738e+00  2.28414565e+00  1.75751564e+00  2.15221354e+00]\n",
      " [ 1.24873393e+01  1.81825184e+00  1.13460364e+00  2.44124007e-01\n",
      "   2.55957274e-01  1.48559565e-01  8.03035186e-02  2.06781290e-01\n",
      "  -5.31425691e-01  1.19097756e-01 -7.00876003e-01 -8.55402309e-01\n",
      "  -2.06320321e-01 -1.18919675e-01  1.77820238e-01 -3.63028328e-01]\n",
      " [ 7.96665989e+00  1.13460364e+00  7.32160847e-01  1.55437208e-01\n",
      "   1.60458586e-01  9.20110398e-02  5.08005642e-02  1.30005570e-01\n",
      "   1.46529972e+00  6.71036280e-01  2.18248679e-01 -2.32255404e-03\n",
      "   9.75373329e-02  7.63899144e-02  1.31958174e-01  8.77275254e-04]\n",
      " [ 1.95542007e+00  2.44124007e-01  1.55437208e-01  5.54098715e-02\n",
      "   3.97432153e-02  2.50216832e-02  1.25079302e-02  3.13708321e-02\n",
      "  -2.18181246e-01  4.89202262e-02 -2.26823082e-01 -3.01309045e-01\n",
      "  -8.28186795e-02 -3.84082603e-02  6.16879953e-02 -1.54720783e-01]\n",
      " [ 1.87225746e+00  2.55957274e-01  1.60458586e-01  3.97432153e-02\n",
      "   4.02217219e-02  2.33674952e-02  1.23993870e-02  3.21842866e-02\n",
      "   2.82149586e-02  2.08036432e-02 -6.59086883e-04  1.57306274e-03\n",
      "   0.00000000e+00 -7.04490793e-05  6.08899650e-06 -1.64322625e-04]\n",
      " [ 1.10855581e+00  1.48559565e-01  9.20110398e-02  2.50216832e-02\n",
      "   2.33674952e-02  1.59130345e-02  6.98845033e-03  1.85785103e-02\n",
      "  -5.70026692e-01 -1.92510459e-01 -2.64450555e-01 -2.40198679e-01\n",
      "  -9.90791532e-02 -5.94812900e-02  5.71763419e-03 -1.19342145e-01]\n",
      " [ 6.03394860e-01  8.03035186e-02  5.08005642e-02  1.25079302e-02\n",
      "   1.23993870e-02  6.98845033e-03  4.53550759e-03  1.02296624e-02\n",
      "   8.22547706e-03  5.84093081e-03 -4.80569389e-04  4.58841775e-04\n",
      "   0.00000000e+00 -8.42095800e-05  2.02788899e-06 -1.06243139e-05]\n",
      " [ 1.53086904e+00  2.06781290e-01  1.30005570e-01  3.13708321e-02\n",
      "   3.21842866e-02  1.85785103e-02  1.02296624e-02  2.79023115e-02\n",
      "   9.21155786e-01  3.24144135e-01  2.52921381e-01  2.10896600e-01\n",
      "   1.08528207e-01  5.98673869e-02  2.56909374e-02  1.06397182e-01]\n",
      " [ 4.12888338e+01 -5.31425691e-01  1.46529972e+00 -2.18181246e-01\n",
      "   2.82149586e-02 -5.70026692e-01  8.22547706e-03  9.21155786e-01\n",
      "   1.91507749e+03  6.51073844e+02  5.97853350e+02  4.81675336e+02\n",
      "   2.44844790e+02  1.49279206e+02  4.75813052e+01  2.31617621e+02]\n",
      " [ 1.48236081e+01  1.19097756e-01  6.71036280e-01  4.89202262e-02\n",
      "   2.08036432e-02 -1.92510459e-01  5.84093081e-03  3.24144135e-01\n",
      "   6.51073844e+02  2.32484930e+02  2.03208273e+02  1.61683734e+02\n",
      "   8.61586824e+01  5.20887734e+01  1.97316353e+01  7.75813557e+01]\n",
      " [ 8.71237569e+00 -7.00876003e-01  2.18248679e-01 -2.26823082e-01\n",
      "  -6.59086883e-04 -2.64450555e-01 -4.80569389e-04  2.52921381e-01\n",
      "   5.97853350e+02  2.03208273e+02  2.05108658e+02  1.73510763e+02\n",
      "   8.38597281e+01  5.07404058e+01  1.14772852e+01  8.16763832e+01]\n",
      " [ 5.06408339e+00 -8.55402309e-01 -2.32255404e-03 -3.01309045e-01\n",
      "   1.57306274e-03 -2.40198679e-01  4.58841775e-04  2.10896600e-01\n",
      "   4.81675336e+02  1.61683734e+02  1.73510763e+02  1.52653488e+02\n",
      "   7.11817507e+01  4.25350379e+01  6.77478440e+00  7.09850286e+01]\n",
      " [ 3.37912738e+00 -2.06320321e-01  9.75373329e-02 -8.28186795e-02\n",
      "   0.00000000e+00 -9.90791532e-02  0.00000000e+00  1.08528207e-01\n",
      "   2.44844790e+02  8.61586824e+01  8.38597281e+01  7.11817507e+01\n",
      "   3.59089363e+01  2.12723872e+01  5.74055649e+00  3.34068316e+01]\n",
      " [ 2.28414565e+00 -1.18919675e-01  7.63899144e-02 -3.84082603e-02\n",
      "  -7.04490793e-05 -5.94812900e-02 -8.42095800e-05  5.98673869e-02\n",
      "   1.49279206e+02  5.20887734e+01  5.07404058e+01  4.25350379e+01\n",
      "   2.12723872e+01  1.29663445e+01  3.51077724e+00  2.00202230e+01]\n",
      " [ 1.75751564e+00  1.77820238e-01  1.31958174e-01  6.16879953e-02\n",
      "   6.08899650e-06  5.71763419e-03  2.02788899e-06  2.56909374e-02\n",
      "   4.75813052e+01  1.97316353e+01  1.14772852e+01  6.77478440e+00\n",
      "   5.74055649e+00  3.51077724e+00  3.28710828e+00  3.54584222e+00]\n",
      " [ 2.15221354e+00 -3.63028328e-01  8.77275254e-04 -1.54720783e-01\n",
      "  -1.64322625e-04 -1.19342145e-01 -1.06243139e-05  1.06397182e-01\n",
      "   2.31617621e+02  7.75813557e+01  8.16763832e+01  7.09850286e+01\n",
      "   3.34068316e+01  2.00202230e+01  3.54584222e+00  3.36246213e+01]]\n"
     ]
    }
   ],
   "source": [
    "# Load in the blockwise genie cov matrix\n",
    "\n",
    "blockwise_genie_err = pd.read_csv(\"blockwise_cov_genie_only_energy_\"+ending+\".csv\", header=None)\n",
    "\n",
    "blockwise_genie_err = blockwise_genie_err.values\n",
    "print(blockwise_genie_err)"
   ]
  },
  {
   "cell_type": "code",
   "execution_count": 92,
   "id": "b6395a8c",
   "metadata": {},
   "outputs": [
    {
     "data": {
      "image/png": "[encoded data removed]",
      "text/plain": [
       "<Figure size 720x432 with 2 Axes>"
      ]
     },
     "metadata": {
      "needs_background": "light"
     },
     "output_type": "display_data"
    }
   ],
   "source": [
    "fig = plt.figure(figsize=(10, 6))\n",
    "\n",
    "bins = np.arange(0, 17, 1)\n",
    "        \n",
    "plt.pcolor(bins, bins, blockwise_genie_err, cmap='OrRd', edgecolors='k')#, vmin=-1, vmax=1)\n",
    "            \n",
    "cbar = plt.colorbar()\n",
    "cbar.ax.tick_params(labelsize=14)\n",
    "\n",
    "\n",
    "\n",
    "\n",
    "#plt.xlabel('Reco Shower Energy [GeV]', fontsize=15)\n",
    "#plt.ylabel('Reco Shower Energy [GeV]', fontsize=15)\n",
    "\n",
    "plt.title('Covariance', fontsize=15)\n",
    "\n",
    "plt.show()\n"
   ]
  },
  {
   "cell_type": "markdown",
   "id": "c3a74c24",
   "metadata": {},
   "source": [
    "Now add in the Stat errs to the blockwise matrix"
   ]
  },
  {
   "cell_type": "code",
   "execution_count": 93,
   "id": "a02a42f3",
   "metadata": {},
   "outputs": [
    {
     "name": "stdout",
     "output_type": "stream",
     "text": [
      "[6.00936929e+00 2.75106466e-01 3.25268540e-01 4.48016136e-02\n",
      " 1.05678739e-02 9.22860170e-02 3.44436134e-03 2.62024861e-02\n",
      " 1.32694334e+02 3.37105335e+01 2.45592087e+01 1.41163050e+01\n",
      " 1.06511138e+01 6.34451764e+00 4.22237384e+00 6.61650314e+00]\n"
     ]
    }
   ],
   "source": [
    "#nue_cov_mc_stat and numu_cov_mc_stat\n",
    "\n",
    "totalstat_nue_err = pd.read_csv(\"totalstat_nuWro_nue_err_energy_\"+ending+\".csv\", header=None)\n",
    "\n",
    "totalstat_nue_err = totalstat_nue_err.values[:, 0]\n",
    "\n",
    "\n",
    "nue_stats = totalstat_nue_err\n",
    "numu_stats = totalstat_numu_err\n",
    "\n",
    "nue_numu_stats = np.concatenate((nue_stats, numu_stats), axis=0)\n",
    "\n",
    "print(nue_numu_stats)"
   ]
  },
  {
   "cell_type": "code",
   "execution_count": 94,
   "id": "696148b1",
   "metadata": {},
   "outputs": [
    {
     "name": "stdout",
     "output_type": "stream",
     "text": [
      "[[0. 0. 0. 0. 0. 0. 0. 0. 0. 0. 0. 0. 0. 0. 0. 0.]\n",
      " [0. 0. 0. 0. 0. 0. 0. 0. 0. 0. 0. 0. 0. 0. 0. 0.]\n",
      " [0. 0. 0. 0. 0. 0. 0. 0. 0. 0. 0. 0. 0. 0. 0. 0.]\n",
      " [0. 0. 0. 0. 0. 0. 0. 0. 0. 0. 0. 0. 0. 0. 0. 0.]\n",
      " [0. 0. 0. 0. 0. 0. 0. 0. 0. 0. 0. 0. 0. 0. 0. 0.]\n",
      " [0. 0. 0. 0. 0. 0. 0. 0. 0. 0. 0. 0. 0. 0. 0. 0.]\n",
      " [0. 0. 0. 0. 0. 0. 0. 0. 0. 0. 0. 0. 0. 0. 0. 0.]\n",
      " [0. 0. 0. 0. 0. 0. 0. 0. 0. 0. 0. 0. 0. 0. 0. 0.]\n",
      " [0. 0. 0. 0. 0. 0. 0. 0. 0. 0. 0. 0. 0. 0. 0. 0.]\n",
      " [0. 0. 0. 0. 0. 0. 0. 0. 0. 0. 0. 0. 0. 0. 0. 0.]\n",
      " [0. 0. 0. 0. 0. 0. 0. 0. 0. 0. 0. 0. 0. 0. 0. 0.]\n",
      " [0. 0. 0. 0. 0. 0. 0. 0. 0. 0. 0. 0. 0. 0. 0. 0.]\n",
      " [0. 0. 0. 0. 0. 0. 0. 0. 0. 0. 0. 0. 0. 0. 0. 0.]\n",
      " [0. 0. 0. 0. 0. 0. 0. 0. 0. 0. 0. 0. 0. 0. 0. 0.]\n",
      " [0. 0. 0. 0. 0. 0. 0. 0. 0. 0. 0. 0. 0. 0. 0. 0.]\n",
      " [0. 0. 0. 0. 0. 0. 0. 0. 0. 0. 0. 0. 0. 0. 0. 0.]]\n"
     ]
    }
   ],
   "source": [
    "nue_numu_nuWro_cov_stats   = np.zeros([(len(bins)-1), (len(bins)-1)])\n",
    "print(nue_numu_nuWro_cov_stats)"
   ]
  },
  {
   "cell_type": "code",
   "execution_count": 95,
   "id": "b0a97590",
   "metadata": {},
   "outputs": [],
   "source": [
    "nue_numu_nuWro_cov_stats[np.diag_indices_from(nue_numu_nuWro_cov_stats)]    = nue_numu_stats"
   ]
  },
  {
   "cell_type": "code",
   "execution_count": 96,
   "id": "b0106807",
   "metadata": {},
   "outputs": [
    {
     "data": {
      "image/png": "[encoded data removed]",
      "text/plain": [
       "<Figure size 720x432 with 2 Axes>"
      ]
     },
     "metadata": {
      "needs_background": "light"
     },
     "output_type": "display_data"
    }
   ],
   "source": [
    "fig = plt.figure(figsize=(10, 6))\n",
    "        \n",
    "plt.pcolor(bins, bins, nue_numu_nuWro_cov_stats, cmap='OrRd', edgecolors='k')#, vmin=-1, vmax=1)\n",
    "            \n",
    "cbar = plt.colorbar()\n",
    "cbar.ax.tick_params(labelsize=14)\n",
    "\n",
    "\n",
    "\n",
    "\n",
    "#plt.xlabel('Reco Shower Energy [GeV]', fontsize=15)\n",
    "#plt.ylabel('Reco Shower Energy [GeV]', fontsize=15)\n",
    "\n",
    "plt.title('Covariance', fontsize=15)\n",
    "\n",
    "#plt.savefig(\"blockwise_nuWro_cov_input.svg\", bbox_inches='tight')\n",
    "\n",
    "plt.show()"
   ]
  },
  {
   "cell_type": "markdown",
   "id": "dbf94e3f",
   "metadata": {},
   "source": [
    "Now make the total matrix"
   ]
  },
  {
   "cell_type": "code",
   "execution_count": 97,
   "id": "717f8bfa",
   "metadata": {},
   "outputs": [],
   "source": [
    "total_nuWro_input_cov = nue_numu_nuWro_cov_stats + blockwise_genie_err"
   ]
  },
  {
   "cell_type": "code",
   "execution_count": 98,
   "id": "5ca41585",
   "metadata": {},
   "outputs": [],
   "source": [
    "np.savetxt(\"data_covmat_MC_nuWro_input_recoE_comb_\"+ending+\".csv\", \n",
    "           total_nuWro_input_cov,\n",
    "           delimiter =\", \", \n",
    "           fmt ='% s')"
   ]
  },
  {
   "cell_type": "code",
   "execution_count": 99,
   "id": "5a5ed200",
   "metadata": {},
   "outputs": [
    {
     "data": {
      "image/png": "[encoded data removed]",
      "text/plain": [
       "<Figure size 720x432 with 2 Axes>"
      ]
     },
     "metadata": {
      "needs_background": "light"
     },
     "output_type": "display_data"
    }
   ],
   "source": [
    "fig = plt.figure(figsize=(10, 6))\n",
    "        \n",
    "plt.pcolor(bins, bins, total_nuWro_input_cov, cmap='OrRd', edgecolors='k')#, vmin=-1, vmax=1)\n",
    "            \n",
    "cbar = plt.colorbar()\n",
    "cbar.ax.tick_params(labelsize=14)\n",
    "\n",
    "\n",
    "\n",
    "\n",
    "#plt.xlabel('Reco Shower Energy [GeV]', fontsize=15)\n",
    "#plt.ylabel('Reco Shower Energy [GeV]', fontsize=15)\n",
    "\n",
    "plt.title('Covariance', fontsize=15)\n",
    "\n",
    "plt.savefig(\"blockwise_nuWro_cov_input_energy_\"+ending+\".svg\", bbox_inches='tight')\n",
    "\n",
    "plt.show()"
   ]
  },
  {
   "cell_type": "code",
   "execution_count": null,
   "id": "f5440bf0",
   "metadata": {},
   "outputs": [],
   "source": []
  }
 ],
 "metadata": {
  "kernelspec": {
   "display_name": "Python 3 (ipykernel)",
   "language": "python",
   "name": "python3"
  },
  "language_info": {
   "codemirror_mode": {
    "name": "ipython",
    "version": 3
   },
   "file_extension": ".py",
   "mimetype": "text/x-python",
   "name": "python",
   "nbconvert_exporter": "python",
   "pygments_lexer": "ipython3",
   "version": "3.8.12"
  }
 },
 "nbformat": 4,
 "nbformat_minor": 5
}
