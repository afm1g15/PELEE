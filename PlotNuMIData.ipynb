{
 "cells": [
  {
   "cell_type": "code",
   "execution_count": 1,
   "metadata": {},
   "outputs": [],
   "source": [
    "%load_ext autoreload\n",
    "%autoreload 2"
   ]
  },
  {
   "cell_type": "code",
   "execution_count": 2,
   "metadata": {},
   "outputs": [
    {
     "name": "stdout",
     "output_type": "stream",
     "text": [
      "/Users/elenag/Desktop/PlotterLEE/\n"
     ]
    }
   ],
   "source": [
    "import sys\n",
    "import localSettings as ls\n",
    "import math\n",
    "print(ls.main_path)\n"
   ]
  },
  {
   "cell_type": "code",
   "execution_count": 3,
   "metadata": {
    "colab": {
     "base_uri": "https://localhost:8080/",
     "height": 34
    },
    "colab_type": "code",
    "executionInfo": {
     "elapsed": 517,
     "status": "ok",
     "timestamp": 1560556807118,
     "user": {
      "displayName": "Stefano Roberto Soleti",
      "photoUrl": "https://lh4.googleusercontent.com/-hfLpspJu4Q0/AAAAAAAAAAI/AAAAAAAABmA/2kE4rtj8paU/s64/photo.jpg",
      "userId": "10372352518008961760"
     },
     "user_tz": 240
    },
    "id": "6qsD0G-yYJ9K",
    "outputId": "5d52a3ec-50be-44fc-da44-3c0593e98bc6"
   },
   "outputs": [],
   "source": [
    "main_path = ls.main_path\n",
    "sys.path.append(main_path)"
   ]
  },
  {
   "cell_type": "code",
   "execution_count": 4,
   "metadata": {},
   "outputs": [
    {
     "name": "stdout",
     "output_type": "stream",
     "text": [
      "date and time: 02022021\n"
     ]
    }
   ],
   "source": [
    "from datetime import datetime\n",
    "now = datetime.now()\n",
    "date_time = now.strftime(\"%m%d%Y\")\n",
    "print(\"date and time:\",date_time)"
   ]
  },
  {
   "cell_type": "code",
   "execution_count": 43,
   "metadata": {},
   "outputs": [],
   "source": [
    "def calculateRatioErrorBar (num, den):\n",
    "    if den:\n",
    "        if num/(den*den)*(1-num/den) > 0:\n",
    "            return math.sqrt(num/(den*den)*(1-num/den)   )\n",
    "    return 0\n",
    "    \n",
    "def calculateErrorBar (num, den):\n",
    "    errors = []\n",
    "    for i,s in enumerate(num):\n",
    "        errors.append(calculateRatioErrorBar (num[i], den[i]))\n",
    "    return errors\n",
    "\n",
    "\n",
    "def ratioPlot(n1,n3,bins, title):\n",
    "    ratioRun    = np.divide(n1, n3, out=np.zeros_like(n3), where=n1!=0)\n",
    "    bincenters  = 0.5*(bins[1:]+bins[:-1])\n",
    "    width       = (bins[1:]-bins[:-1])\n",
    "    errrRun     = calculateErrorBar(n1, n3)\n",
    "\n",
    "    \n",
    "    fig, ax = plt.subplots()\n",
    "    ax.plot(bincenters, ratioRun, marker=\"o\",markersize=4., linestyle=\"\",  color=\"r\")\n",
    "    ax.bar (bincenters, ratioRun, width=width,  yerr=errrRun, alpha=0.75,fill=False,ecolor='r',edgecolor='w')\n",
    "\n",
    "\n",
    "    ax.set_xlabel(title)\n",
    "    ax.set_ylabel(\"Ratio\")\n",
    "    ax.set_title(\"Run1/Run3\")\n",
    "    ax.legend()\n",
    "    fig.tight_layout()\n",
    "    plt.show()"
   ]
  },
  {
   "cell_type": "code",
   "execution_count": 5,
   "metadata": {
    "colab": {},
    "colab_type": "code",
    "id": "xGqTJ5JgaDsx"
   },
   "outputs": [],
   "source": [
    "import plotter\n",
    "import importlib\n",
    "importlib.reload(plotter)\n",
    "import uproot\n",
    "import matplotlib.pylab as pylab\n",
    "import numpy as np\n",
    "import math\n",
    "from sklearn.model_selection import train_test_split\n",
    "import pickle\n",
    "import xgboost as xgb\n",
    "import nue_booster \n",
    "importlib.reload(nue_booster)\n",
    "import awkward\n",
    "import pandas as pd\n",
    "from scipy import stats\n",
    "import matplotlib.pyplot as plt\n",
    "import numpy as np\n",
    "\n",
    "\n",
    "params = {\n",
    "    'axes.labelsize': 'x-large',\n",
    "    'axes.titlesize': 'x-large',\n",
    "    'xtick.labelsize': 'x-large',\n",
    "    'ytick.labelsize': 'x-large'\n",
    "}\n",
    "pylab.rcParams.update(params)"
   ]
  },
  {
   "cell_type": "code",
   "execution_count": 20,
   "metadata": {
    "colab": {},
    "colab_type": "code",
    "id": "iwoCIaigYJ9N"
   },
   "outputs": [
    {
     "name": "stdout",
     "output_type": "stream",
     "text": [
      "['sub', 'flash_pe', 'flash_time', 'run', 'evt', 'nslice']\n"
     ]
    }
   ],
   "source": [
    "tree = \"NeutrinoSelectionFilter\"\n",
    "Run1On  = 'fullData/neutrinoselection_filt_run1_overlay_intrinsic'+ls.APPEND\n",
    "Run3On  = 'fullData/neutrinoselection_filt_run3b_overlay_intrinsic'+ls.APPEND\n",
    "\n",
    "Run1On  = 'fullData/neutrinoselection_filt_run1_beamon_beamgood' +ls.APPEND\n",
    "Run3On  = 'fullData/neutrinoselection_filt_run3b_beamon_beamgood'+ls.APPEND\n",
    "\n",
    "\n",
    "run1On   = uproot.open(ls.ntuple_path+Run1On +\".root\")[ls.fold][tree]\n",
    "run3On  = uproot.open(ls.ntuple_path+Run3On+\".root\")[ls.fold][tree]\n",
    "\n",
    "\n",
    "uproot_v = [run1On,run3On] \n",
    "\n",
    "variables = [\"run\", \"sub\", \"evt\", \"flash_time\",\"nslice\",\"flash_pe\"]\n",
    "\n",
    "#make the list unique\n",
    "variables = list(set(variables))\n",
    "print(variables)\n",
    "\n",
    "\n",
    "\n",
    "    \n",
    "run1On = run1On.pandas.df(variables, flatten=False)\n",
    "run3On = run3On.pandas.df(variables, flatten=False)\n",
    "\n"
   ]
  },
  {
   "cell_type": "code",
   "execution_count": 21,
   "metadata": {},
   "outputs": [],
   "source": [
    "#reset timing\n",
    "#df_v = [mc,nue,dirt]\n",
    "#for i,df in enumerate(df_v):\n",
    "#        df.loc[ :, 'flash_time' ] = df['flash_time' ] - 0.304\n",
    "\n",
    "#df_v = [ext]\n",
    "#for i,df in enumerate(df_v):\n",
    "#        df.loc[ :, 'flash_time' ] = df['flash_time' ] - 0.359"
   ]
  },
  {
   "cell_type": "markdown",
   "metadata": {},
   "source": [
    "# Plotting part"
   ]
  },
  {
   "cell_type": "code",
   "execution_count": 22,
   "metadata": {},
   "outputs": [],
   "source": [
    "#ext1 = 9199232.74\n",
    "#ext3 = 32878305.25\n",
    "\n",
    "# Overlay Intrinsic\n",
    "potRun1 = 2.37838\n",
    "potRun3 = 2.5345\n",
    "\n",
    "#On Beam data\n",
    "potRun1 =  2e+20 #partial file: 8.885e+19\n",
    "potRun3 =  5e+20 #partial file: 8.885e+19\n"
   ]
  },
  {
   "cell_type": "code",
   "execution_count": 42,
   "metadata": {
    "colab": {
     "base_uri": "https://localhost:8080/",
     "height": 561
    },
    "colab_type": "code",
    "executionInfo": {
     "elapsed": 2342,
     "status": "ok",
     "timestamp": 1560557343774,
     "user": {
      "displayName": "Stefano Roberto Soleti",
      "photoUrl": "https://lh4.googleusercontent.com/-hfLpspJu4Q0/AAAAAAAAAAI/AAAAAAAABmA/2kE4rtj8paU/s64/photo.jpg",
      "userId": "10372352518008961760"
     },
     "user_tz": 240
    },
    "id": "b93hN-pGYJ9T",
    "outputId": "17e7c7ed-3f12-4b03-805c-6698f1617878",
    "scrolled": false
   },
   "outputs": [
    {
     "name": "stderr",
     "output_type": "stream",
     "text": [
      "No handles with labels found to put in legend.\n"
     ]
    },
    {
     "name": "stdout",
     "output_type": "stream",
     "text": [
      "Run1 0 slice percentage:  0.8420202589369955\n",
      "Run3 0 slice percentage:  0.8109438230125218\n"
     ]
    },
    {
     "data": {
      "image/png": "[encoded data removed]",
      "text/plain": [
       "<Figure size 432x288 with 1 Axes>"
      ]
     },
     "metadata": {
      "needs_background": "light"
     },
     "output_type": "display_data"
    },
    {
     "data": {
      "image/png": "[encoded data removed]",
      "text/plain": [
       "<Figure size 432x288 with 1 Axes>"
      ]
     },
     "metadata": {
      "needs_background": "light"
     },
     "output_type": "display_data"
    }
   ],
   "source": [
    "s1 = run1On[\"nslice\"]\n",
    "s3 = run3On[\"nslice\"]\n",
    "#run3On[\"normalize\"] = ext1/ext3#1./1.83658852 #potRun1/potRun3\n",
    "run3On[\"normalize\"] = potRun1/potRun3\n",
    "fig, ax = plt.subplots()\n",
    "n1_0, bins, patches = ax.hist(s1, 2,range=(0,2), alpha=0.75, label=\"Run1 OnBeam FHC\")\n",
    "n3_0, bins, patches = ax.hist(s3, 2,range=(0,2), alpha=0.75, label=\"Run3 OnBeam RHC\",weights=run3On[\"normalize\"])\n",
    "print(\"Run1 0 slice percentage: \", n1_0[0]/(n1_0[0]+n1_0[1]))\n",
    "print(\"Run3 0 slice percentage: \",n3_0[0]/(n3_0[0]+n3_0[1]))\n",
    "ax.set_xlabel('N Slices')\n",
    "ax.set_ylabel('Counts')\n",
    "ax.set_title('Run1-Run3, POT Norm 2e20 POT')\n",
    "ax.legend()\n",
    "fig.tight_layout()\n",
    "ratioPlot(n1_0, n3_0, bins,'N Slice')\n",
    "#    fig.savefig(\"../plots/run1run3/\"+interaction+\"_\"+tag+\".pdf\")\n"
   ]
  },
  {
   "cell_type": "code",
   "execution_count": 41,
   "metadata": {},
   "outputs": [
    {
     "name": "stderr",
     "output_type": "stream",
     "text": [
      "No handles with labels found to put in legend.\n"
     ]
    },
    {
     "data": {
      "image/png": "[encoded data removed]",
      "text/plain": [
       "<Figure size 432x288 with 1 Axes>"
      ]
     },
     "metadata": {
      "needs_background": "light"
     },
     "output_type": "display_data"
    },
    {
     "data": {
      "image/png": "[encoded data removed]",
      "text/plain": [
       "<Figure size 432x288 with 1 Axes>"
      ]
     },
     "metadata": {
      "needs_background": "light"
     },
     "output_type": "display_data"
    }
   ],
   "source": [
    "s1 = run1On[\"flash_time\"]\n",
    "s3 = run3On[\"flash_time\"]\n",
    "#run3On[\"normalize\"] = ext1/ext3#1./1.83658852 #potRun1/potRun3\n",
    "run3On[\"normalize\"] = potRun1/potRun3\n",
    "fig, ax = plt.subplots()\n",
    "n1_0, bins, patches = ax.hist(s1, 18,range=(0,18), alpha=0.75, label=\"Run1 OnBeam FHC\")\n",
    "n3_0, bins, patches = ax.hist(s3, 18,range=(0,18), alpha=0.75, label=\"Run3 OnBeam RHC\",weights=run3On[\"normalize\"])\n",
    "ax.set_xlabel('Flash Time')\n",
    "ax.set_ylabel('Counts')\n",
    "ax.set_title('Run1-Run3, POT Norm 2e20 POT')\n",
    "ax.legend()\n",
    "fig.tight_layout()\n",
    "ratioPlot(n1_0, n3_0, bins,'Flash Time')"
   ]
  },
  {
   "cell_type": "code",
   "execution_count": 40,
   "metadata": {},
   "outputs": [
    {
     "name": "stderr",
     "output_type": "stream",
     "text": [
      "No handles with labels found to put in legend.\n"
     ]
    },
    {
     "data": {
      "image/png": "[encoded data removed]",
      "text/plain": [
       "<Figure size 432x288 with 1 Axes>"
      ]
     },
     "metadata": {
      "needs_background": "light"
     },
     "output_type": "display_data"
    },
    {
     "data": {
      "image/png": "[encoded data removed]",
      "text/plain": [
       "<Figure size 432x288 with 1 Axes>"
      ]
     },
     "metadata": {
      "needs_background": "light"
     },
     "output_type": "display_data"
    }
   ],
   "source": [
    "s1 = run1On[\"flash_pe\"]\n",
    "s3 = run3On[\"flash_pe\"]\n",
    "run3On[\"normalize\"] = potRun1/potRun3\n",
    "fig, ax = plt.subplots()\n",
    "n1_0, bins, patches = ax.hist(s1, 50,range=(0,5000), alpha=0.75, label=\"Run1 OnBeam FHC\")\n",
    "n3_0, bins, patches = ax.hist(s3, 50,range=(0,5000), alpha=0.75, label=\"Run3 OnBeam RHC\",weights=run3On[\"normalize\"])\n",
    "ax.set_xlabel('Flash PE')\n",
    "ax.set_ylabel('Counts')\n",
    "ax.set_title('Run1-Run3, POT Norm 2e20 POT')\n",
    "ax.legend()\n",
    "fig.tight_layout()\n",
    "\n",
    "ratioPlot(n1_0, n3_0, bins,'Flash PE')\n"
   ]
  },
  {
   "cell_type": "code",
   "execution_count": null,
   "metadata": {},
   "outputs": [],
   "source": []
  }
 ],
 "metadata": {
  "accelerator": "GPU",
  "colab": {
   "name": "Plotter.ipynb",
   "provenance": [],
   "version": "0.3.2"
  },
  "kernelspec": {
   "display_name": "Python 3",
   "language": "python",
   "name": "python3"
  },
  "language_info": {
   "codemirror_mode": {
    "name": "ipython",
    "version": 3
   },
   "file_extension": ".py",
   "mimetype": "text/x-python",
   "name": "python",
   "nbconvert_exporter": "python",
   "pygments_lexer": "ipython3",
   "version": "3.7.6"
  }
 },
 "nbformat": 4,
 "nbformat_minor": 2
}
