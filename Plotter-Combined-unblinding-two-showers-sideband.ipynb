{
 "cells": [
  {
   "cell_type": "markdown",
   "metadata": {},
   "source": [
    "# Two showers sideband"
   ]
  },
  {
   "cell_type": "code",
   "execution_count": 3,
   "metadata": {},
   "outputs": [],
   "source": [
    "%load_ext autoreload\n",
    "%autoreload 2"
   ]
  },
  {
   "cell_type": "code",
   "execution_count": 4,
   "metadata": {},
   "outputs": [
    {
     "name": "stdout",
     "output_type": "stream",
     "text": [
      "/home/nic/Dropbox/MicroBooNE/PELEE/\n"
     ]
    }
   ],
   "source": [
    "import sys\n",
    "import localSettings as ls\n",
    "print(ls.main_path)"
   ]
  },
  {
   "cell_type": "code",
   "execution_count": 5,
   "metadata": {
    "colab": {
     "base_uri": "https://localhost:8080/",
     "height": 34
    },
    "colab_type": "code",
    "executionInfo": {
     "elapsed": 517,
     "status": "ok",
     "timestamp": 1560556807118,
     "user": {
      "displayName": "Stefano Roberto Soleti",
      "photoUrl": "https://lh4.googleusercontent.com/-hfLpspJu4Q0/AAAAAAAAAAI/AAAAAAAABmA/2kE4rtj8paU/s64/photo.jpg",
      "userId": "10372352518008961760"
     },
     "user_tz": 240
    },
    "id": "6qsD0G-yYJ9K",
    "outputId": "5d52a3ec-50be-44fc-da44-3c0593e98bc6"
   },
   "outputs": [],
   "source": [
    "main_path = ls.main_path\n",
    "sys.path.append(main_path)"
   ]
  },
  {
   "cell_type": "code",
   "execution_count": 6,
   "metadata": {},
   "outputs": [],
   "source": [
    "SHRCALIBFACTOR = 1.00"
   ]
  },
  {
   "cell_type": "code",
   "execution_count": 7,
   "metadata": {},
   "outputs": [],
   "source": [
    "# USING BDT?\n",
    "USEBDT = True"
   ]
  },
  {
   "cell_type": "code",
   "execution_count": 8,
   "metadata": {},
   "outputs": [],
   "source": [
    "# cale to MCC8 CV?\n",
    "MCC8WEIGHTS = False"
   ]
  },
  {
   "cell_type": "code",
   "execution_count": 9,
   "metadata": {
    "colab": {},
    "colab_type": "code",
    "id": "xGqTJ5JgaDsx"
   },
   "outputs": [],
   "source": [
    "import plotter\n",
    "import importlib\n",
    "importlib.reload(plotter)\n",
    "import uproot\n",
    "import matplotlib.pylab as pylab\n",
    "from matplotlib import pyplot as plt\n",
    "import numpy as np\n",
    "import pandas as pd\n",
    "import math\n",
    "from sklearn.model_selection import train_test_split\n",
    "import pickle\n",
    "import xgboost as xgb\n",
    "import nue_booster \n",
    "importlib.reload(nue_booster)\n",
    "import awkward\n",
    "\n",
    "params = {\n",
    "    'axes.labelsize': 'x-large',\n",
    "    'axes.titlesize': 'x-large',\n",
    "    'xtick.labelsize': 'x-large',\n",
    "    'ytick.labelsize': 'x-large'\n",
    "}\n",
    "pylab.rcParams.update(params)"
   ]
  },
  {
   "cell_type": "code",
   "execution_count": 10,
   "metadata": {
    "colab": {},
    "colab_type": "code",
    "id": "iwoCIaigYJ9N"
   },
   "outputs": [
    {
     "name": "stdout",
     "output_type": "stream",
     "text": [
      "['reco_nu_vtx_x', 'trk_distance', 'best_cosmic_flashmatch_score', 'crtveto', 'shr_phi', 'shr_tkfit_2cm_dedx_V', 'sub', '_opfilter_pe_veto', 'shr_bkt_pdg', 'slclustfrac', 'shr_tkfit_gap10_nhits_U', 'shr_dedx_Y_cali', 'trk_pid_chipr_v', 'shr_tkfit_dedx_U', 'trk_phi', 'CosmicIPAll3D', 'shrclusdir2', 'trk_energy', 'shr_theta', 'pion_e', 'shr_pfp_id_v', 'shr_tkfit_2cm_dedx_U', 'trk_score', 'reco_nu_vtx_z', '_opfilter_pe_beam', 'shr_tkfit_gap10_dedx_U', 'slnhits', 'CosmicDirAll3D', 'run', 'reco_nu_vtx_sce_z', 'crthitpe', 'mc_pdg', 'pi0_e', 'shrsubclusters1', 'n_tracks_contained', 'matched_E', 'contained_fraction', 'hits_y', 'nslice', 'tksh_distance', 'pi0truth_elec_etot', 'shr_tkfit_npointsvalid', 'shrmoliereavg', 'trk_bkt_E', 'reco_nu_vtx_sce_x', 'category', 'shrsubclusters2', 'CosmicIP', 'secondshower_Y_vtxdist', 'nu_flashmatch_score', 'trk_hits_tot', 'pt', 'tksh_angle', 'shr_energy_tot_cali', 'shr_tkfit_gap10_nhits_Y', 'selected', 'reco_nu_vtx_y', 'shr_tkfit_dedx_V', 'NeutrinoEnergy2', 'shr_tkfit_2cm_nhits_U', 'shr_tkfit_gap10_dedx_Y', 'shr_bkt_E', 'nu_e', 'n_showers_contained', 'slpdg', 'shr_tkfit_2cm_nhits_Y', 'shr_tkfit_gap10_nhits_V', 'shr_dedx_U', 'best_obviouscosmic_flashmatch_score', 'shr_pz', 'shr_tkfit_2cm_dedx_Y', 'trk_chipr', '_closestNuCosmicDist', 'reco_nu_vtx_sce_y', 'trkshrhitdist2', 'shr_distance', 'nproton', 'interaction', 'hits_ratio', 'muon_e', 'secondshower_Y_dot', 'shr_dedx_Y', 'trk_energy_tot', 'shr_hits_tot', 'trk_bkt_pdg', 'shr_tkfit_nhits_U', 'shr_dedx_V', 'shr_tkfit_gap10_dedx_V', 'shr_tkfit_nhits_Y', 'shr_tkfit_dedx_Y', 'npion', 'shr_score', 'true_e_visible', 'npi0', 'shr_tkfit_npoints', 'shrclusfrac1', 'trk_len', 'evnunhits', 'trk_llr_pid_score_v', 'shr_tkfit_nhits_V', 'slnunhits', 'shrsubclusters0', 'backtracked_pdg', 'shrclusfrac2', 'secondshower_Y_nhit', 'evt', 'shrclusfrac0', 'shr_energy', 'trk_score_v', 'p', 'shr_tkfit_2cm_nhits_V', 'secondshower_Y_dir', 'shrmoliererms', 'ccnc', 'trk_theta', 'nu_pdg']\n"
     ]
    }
   ],
   "source": [
    "fold = ls.fold\n",
    "tree = \"NeutrinoSelectionFilter\"\n",
    "\n",
    "R3BNB = 'data_bnb_mcc9.1_v08_00_00_25_reco2_G1_beam_good_reco2_1e19'\n",
    "R3EXT = 'data_extbnb_mcc9.1_v08_00_00_25_reco2_G_all_reco2'\n",
    "R3NU  = 'prodgenie_bnb_nu_uboone_overlay_mcc9.1_v08_00_00_26_filter_run3_reco2_G_reco2'\n",
    "R3NUE = 'prodgenie_bnb_intrinsice_nue_uboone_overlay_mcc9.1_v08_00_00_26_run3_reco2_reco2'\n",
    "R3DRT = 'prodgenie_bnb_dirt_overlay_mcc9.1_v08_00_00_26_run3_reco2_reco2'\n",
    "R3NCPI0  = 'prodgenie_nc_pi0_uboone_overlay_mcc9.1_v08_00_00_26_run3_G_reco2'\n",
    "R3CCPI0  = 'prodgenie_cc_pi0_uboone_overlay_v08_00_00_26_run3_G_reco2'\n",
    "R3CCNOPI = 'prodgenie_CCmuNoPi_overlay_mcc9_v08_00_00_33_all_run3_reco2_reco2'\n",
    "R3CCCPI  = 'prodgenie_filter_CCmuCPiNoPi0_overlay_mcc9_v08_00_00_33_run3_reco2_reco2'\n",
    "R3NCNOPI = 'prodgenie_ncnopi_overlay_mcc9_v08_00_00_33_new_run3_reco2_reco2'\n",
    "R3NCCPI  = 'prodgenie_NCcPiNoPi0_overlay_mcc9_v08_00_00_33_New_run3_reco2_reco2'\n",
    "\n",
    "#ls.ntuple_path = \"/Users/cerati/Notebooks/PELEE/root_files/0218/\"\n",
    "\n",
    "ur3mc = uproot.open(ls.ntuple_path+ls.RUN3+R3NU+ls.APPEND+\".root\")[fold][tree]\n",
    "ur3ncpi0 = uproot.open(ls.ntuple_path+ls.RUN3+R3NCPI0+ls.APPEND+\".root\")[fold][tree]\n",
    "ur3ccpi0 = uproot.open(ls.ntuple_path+ls.RUN3+R3CCPI0+ls.APPEND+\".root\")[fold][tree]\n",
    "ur3nue = uproot.open(ls.ntuple_path+ls.RUN3+R3NUE+ls.APPEND+\".root\")[fold][tree]\n",
    "ur3data = uproot.open(ls.ntuple_path+ls.RUN3+R3BNB+ls.APPEND+\".root\")[fold][tree]\n",
    "ur3ext = uproot.open(ls.ntuple_path+ls.RUN3+R3EXT+ls.APPEND+\".root\")[fold][tree]\n",
    "ur3dirt = uproot.open(ls.ntuple_path+ls.RUN3+R3DRT+ls.APPEND+\".root\")[fold][tree]\n",
    "ur3lee = uproot.open(ls.ntuple_path+ls.RUN3+R3NUE+ls.APPEND+\".root\")[fold][tree]\n",
    "ur3ccnopi = uproot.open(ls.ntuple_path+ls.RUN3+R3CCNOPI+ls.APPEND+\".root\")[fold][tree]\n",
    "ur3cccpi = uproot.open(ls.ntuple_path+ls.RUN3+R3CCCPI+ls.APPEND+\".root\")[fold][tree]\n",
    "ur3ncnopi = uproot.open(ls.ntuple_path+ls.RUN3+R3NCNOPI+ls.APPEND+\".root\")[fold][tree]\n",
    "ur3nccpi = uproot.open(ls.ntuple_path+ls.RUN3+R3NCCPI+ls.APPEND+\".root\")[fold][tree]\n",
    "\n",
    "R2NU = \"prodgenie_bnb_nu_uboone_overlay_mcc9.1_v08_00_00_26_filter_run2_reco2_D1D2_reco2\"\n",
    "R2NUE = \"prodgenie_bnb_intrinsic_nue_overlay_run2_v08_00_00_35_run2a_reco2_reco2\"\n",
    "\n",
    "ur2mc = uproot.open(ls.ntuple_path+ls.RUN2+R2NU+ls.APPEND+\".root\")[fold][tree]\n",
    "ur2nue = uproot.open(ls.ntuple_path+ls.RUN2+R2NUE+ls.APPEND+\".root\")[fold][tree]\n",
    "ur2lee = uproot.open(ls.ntuple_path+ls.RUN2+R2NUE+ls.APPEND+\".root\")[fold][tree]\n",
    "\n",
    "R1BNB = 'data_bnb_mcc9.1_v08_00_00_25_reco2_C1_beam_good_reco2_5e19'\n",
    "#R1EXT = 'data_extbnb_mcc9.1_v08_00_00_25_reco2_C_all_reco2'\n",
    "R1EXT = 'data_extbnb_mcc9.1_v08_00_00_25_reco2_C1_C2_D1_D2_E1_E2_all_reco2' #Run1 + Run2\n",
    "R1NU  = 'prodgenie_bnb_nu_uboone_overlay_mcc9.1_v08_00_00_26_filter_run1_reco2_reco2'\n",
    "R1NUE = 'prodgenie_bnb_intrinsice_nue_uboone_overlay_mcc9.1_v08_00_00_26_run1_reco2_reco2'\n",
    "R1DRT = 'prodgenie_bnb_dirt_overlay_mcc9.1_v08_00_00_26_run1_reco2_reco2'\n",
    "R1NCPI0  = 'prodgenie_nc_pi0_uboone_overlay-v08_00_00_26_run1_reco2_reco2'\n",
    "R1CCPI0  = 'prodgenie_cc_pi0_uboone_overlay_v08_00_00_26_run1_reco2'\n",
    "R1CCNOPI = 'prodgenie_CCmuNoPi_overlay_mcc9_v08_00_00_33_all_run1_reco2_reco2'\n",
    "R1CCCPI  = 'prodgenie_filter_CCmuCPiNoPi0_overlay_mcc9_v08_00_00_33_run1_reco2_reco2'\n",
    "R1NCNOPI = 'prodgenie_ncnopi_overlay_mcc9_v08_00_00_33_run1_reco2_reco2'\n",
    "R1NCCPI  = 'prodgenie_NCcPiNoPi0_overlay_mcc9_v08_00_00_33_run1_reco2_reco2'\n",
    "    \n",
    "ur1mc = uproot.open(ls.ntuple_path+ls.RUN1+R1NU+ls.APPEND+\".root\")[fold][tree]\n",
    "ur1ncpi0 = uproot.open(ls.ntuple_path+ls.RUN1+R1NCPI0+ls.APPEND+\".root\")[fold][tree]\n",
    "ur1ccpi0 = uproot.open(ls.ntuple_path+ls.RUN1+R1CCPI0+ls.APPEND+\".root\")[fold][tree]\n",
    "ur1nue = uproot.open(ls.ntuple_path+ls.RUN1+R1NUE+ls.APPEND+\".root\")[fold][tree]\n",
    "ur1data = uproot.open(ls.ntuple_path+ls.RUN1+R1BNB+ls.APPEND+\".root\")[fold][tree]\n",
    "ur1ext = uproot.open(ls.ntuple_path+ls.RUN1+R1EXT+ls.APPEND+\".root\")[fold][tree]\n",
    "ur1dirt = uproot.open(ls.ntuple_path+ls.RUN1+R1DRT+ls.APPEND+\".root\")[fold][tree]\n",
    "ur1lee = uproot.open(ls.ntuple_path+ls.RUN1+R1NUE+ls.APPEND+\".root\")[fold][tree]\n",
    "ur1ccnopi = uproot.open(ls.ntuple_path+ls.RUN1+R1CCNOPI+ls.APPEND+\".root\")[fold][tree]\n",
    "ur1cccpi = uproot.open(ls.ntuple_path+ls.RUN1+R1CCCPI+ls.APPEND+\".root\")[fold][tree]\n",
    "ur1ncnopi = uproot.open(ls.ntuple_path+ls.RUN1+R1NCNOPI+ls.APPEND+\".root\")[fold][tree]\n",
    "ur1nccpi = uproot.open(ls.ntuple_path+ls.RUN1+R1NCCPI+ls.APPEND+\".root\")[fold][tree]\n",
    "\n",
    "R123_TWO_SHOWERS_SIDEBAND_BNB = '1e_2showers_sidebands'\n",
    "ur123data_two_showers_sidebands = uproot.open(ls.ntuple_path+'data_sidebands/'+R123_TWO_SHOWERS_SIDEBAND_BNB+\".root\")['nuselection'][tree]\n",
    "\n",
    "variables = [\n",
    "    \"shr_dedx_Y\", \"shr_bkt_pdg\", \"p\", \"pt\", \"selected\", \"nu_pdg\", \"shr_theta\",\n",
    "    \"slpdg\", \"trk_score_v\", \"backtracked_pdg\", # modified from shr_score_v\n",
    "    \"shr_pfp_id_v\", \"category\",\n",
    "    \"shr_tkfit_dedx_U\",\"shr_tkfit_dedx_V\",\"shr_tkfit_dedx_Y\",\n",
    "    \"shr_tkfit_gap10_dedx_U\",\"shr_tkfit_gap10_dedx_V\",\"shr_tkfit_gap10_dedx_Y\",\n",
    "    \"shr_tkfit_2cm_dedx_U\",\"shr_tkfit_2cm_dedx_V\",\"shr_tkfit_2cm_dedx_Y\",\n",
    "    #\"shr_energy_tot\", \n",
    "    \"trk_energy_tot\", \"shr_hits_tot\", \"ccnc\", \"trk_chipr\",\n",
    "    \"trk_bkt_pdg\", \"hits_ratio\", \"n_tracks_contained\", \n",
    "    \"crtveto\",\"crthitpe\",\"_closestNuCosmicDist\",\n",
    "    \"NeutrinoEnergy2\",\n",
    "    #\"run\",\"sub\",\"evt\",\n",
    "    \"CosmicIP\",\"CosmicDirAll3D\",\"CosmicIPAll3D\",\n",
    "    \"nu_flashmatch_score\",\"best_cosmic_flashmatch_score\",\"best_obviouscosmic_flashmatch_score\",\n",
    "    #\"trk_pfp_id\",\n",
    "    \"shrmoliereavg\",\"shrmoliererms\",\n",
    "    \"shr_tkfit_npointsvalid\",\"shr_tkfit_npoints\", # fitted vs. all hits for shower\n",
    "    \"shrclusfrac0\",\"shrclusfrac1\",\"shrclusfrac2\", # track-fitted hits / all hits\n",
    "    \"trkshrhitdist2\", # \"trkshrhitdist0\",\"trkshrhitdist1\", distance between track and shower in 2D\n",
    "    \"shrsubclusters0\",\"shrsubclusters1\",\"shrsubclusters2\", # number of sub-clusters in shower\n",
    "    \"trk_llr_pid_score_v\", # trk-PID score\n",
    "    #\"pi0_energy2_Y\", # pi0 tagger variables\n",
    "    \"_opfilter_pe_beam\", \"_opfilter_pe_veto\", # did the event pass the common optical filter (for MC only)\n",
    "    \"reco_nu_vtx_sce_x\",\"reco_nu_vtx_sce_y\",\"reco_nu_vtx_sce_z\",\n",
    "    \"nproton\", \"nu_e\", \"n_showers_contained\", \"shr_distance\", \"trk_distance\",\n",
    "    \"hits_y\", \"shr_pz\", \"shr_energy\", \"shr_dedx_U\", \"shr_dedx_V\", \"shr_phi\", \"trk_phi\", \"trk_theta\",\n",
    "    \"shr_tkfit_dedx_U\", \"shr_tkfit_dedx_V\", \"run\", \"sub\", \"evt\", \"nproton\", \"trk_pid_chipr_v\",\n",
    "    \"trk_len\", \"mc_pdg\", \"slnunhits\", \"slnhits\", \"shr_score\", \"trk_score\", \"trk_hits_tot\",\n",
    "    \"true_e_visible\", \"matched_E\", \"shr_bkt_E\", \"trk_bkt_E\", \"trk_energy\", \"tksh_distance\", \"tksh_angle\",\n",
    "    \"npi0\",\"npion\",\"pion_e\",\"muon_e\",\"pi0truth_elec_etot\",\n",
    "    \"pi0_e\", \"shr_energy_tot_cali\", \"shr_dedx_Y_cali\", \"evnunhits\", \"nslice\", \"interaction\",\n",
    "    \"slclustfrac\", \"reco_nu_vtx_x\", \"reco_nu_vtx_y\", \"reco_nu_vtx_z\",\"contained_fraction\",\n",
    "    \"secondshower_Y_nhit\",\"secondshower_Y_vtxdist\",\"secondshower_Y_dot\",\"secondshower_Y_dir\",\"shrclusdir2\",\n",
    "    \"shr_tkfit_nhits_Y\",\"shr_tkfit_nhits_U\",\"shr_tkfit_nhits_V\",\n",
    "    \"shr_tkfit_2cm_nhits_Y\",\"shr_tkfit_2cm_nhits_U\",\"shr_tkfit_2cm_nhits_V\",\n",
    "    \"shr_tkfit_gap10_nhits_Y\",\"shr_tkfit_gap10_nhits_U\",\"shr_tkfit_gap10_nhits_V\"\n",
    "]\n",
    "#make the list unique\n",
    "variables = list(set(variables))\n",
    "print(variables)\n",
    "\n",
    "variables.remove(\"_closestNuCosmicDist\")\n",
    "variables.remove(\"crtveto\")\n",
    "variables.remove(\"crthitpe\")\n",
    "\n",
    "WEIGHTS = [\"weightSpline\",\"weightTune\",\"weightSplineTimesTune\", \"weightsGenie\", \"weightsFlux\", \"weightsReint\"]\n",
    "WEIGHTSLEE = [\"weightSpline\",\"weightTune\",\"weightSplineTimesTune\", \"leeweight\", \"weightsGenie\", \"weightsFlux\", \"weightsReint\"]\n",
    "MCFVARS = [\"mcf_nu_e\",\"mcf_lep_e\",\"mcf_actvol\",\"mcf_nmm\",\"mcf_nmp\",\"mcf_nem\",\"mcf_nep\",\"mcf_np0\",\"mcf_npp\",\n",
    "           \"mcf_npm\",\"mcf_mcshr_elec_etot\",\"mcf_pass_ccpi0\",\"mcf_pass_ncpi0\",\n",
    "           \"mcf_pass_ccnopi\",\"mcf_pass_ncnopi\",\"mcf_pass_cccpi\",\"mcf_pass_nccpi\"]\n",
    "\n",
    "r3nue = ur3nue.pandas.df(variables + WEIGHTS, flatten=False)\n",
    "r3mc = ur3mc.pandas.df(variables + WEIGHTS + MCFVARS, flatten=False)\n",
    "r3ncpi0 = ur3ncpi0.pandas.df(variables + WEIGHTS, flatten=False)\n",
    "r3ccpi0 = ur3ccpi0.pandas.df(variables + WEIGHTS, flatten=False)\n",
    "r3ccnopi = ur3ccnopi.pandas.df(variables + WEIGHTS, flatten=False)\n",
    "r3cccpi = ur3cccpi.pandas.df(variables + WEIGHTS, flatten=False)\n",
    "r3ncnopi = ur3ncnopi.pandas.df(variables + WEIGHTS, flatten=False)\n",
    "r3nccpi = ur3nccpi.pandas.df(variables + WEIGHTS, flatten=False)\n",
    "r3data = ur3data.pandas.df(variables, flatten=False)\n",
    "r3ext = ur3ext.pandas.df(variables, flatten=False)\n",
    "r3dirt = ur3dirt.pandas.df(variables + WEIGHTS, flatten=False)\n",
    "r3lee = ur3lee.pandas.df(variables + WEIGHTSLEE, flatten=False)\n",
    "\n",
    "r3lee[\"is_signal\"] = r3lee[\"category\"] == 11\n",
    "r3data[\"is_signal\"] = r3data[\"category\"] == 11\n",
    "r3nue[\"is_signal\"] = r3nue[\"category\"] == 11\n",
    "r3mc[\"is_signal\"] = r3mc[\"category\"] == 11\n",
    "r3dirt[\"is_signal\"] = r3dirt[\"category\"] == 11\n",
    "r3ext[\"is_signal\"] = r3ext[\"category\"] == 11\n",
    "r3ncpi0[\"is_signal\"] = r3ncpi0[\"category\"] == 11\n",
    "r3ccpi0[\"is_signal\"] = r3ccpi0[\"category\"] == 11\n",
    "r3ccnopi[\"is_signal\"] = r3ccnopi[\"category\"] == 11\n",
    "r3cccpi[\"is_signal\"] = r3cccpi[\"category\"] == 11\n",
    "r3ncnopi[\"is_signal\"] = r3ncnopi[\"category\"] == 11\n",
    "r3nccpi[\"is_signal\"] = r3nccpi[\"category\"] == 11\n",
    "r3lee.loc[r3lee['category'] == 1, 'category'] = 111\n",
    "r3lee.loc[r3lee['category'] == 10, 'category'] = 111\n",
    "r3lee.loc[r3lee['category'] == 11, 'category'] = 111\n",
    "\n",
    "uproot_v = [ur3lee,ur3mc,ur3ncpi0,ur3ccpi0,ur3ccnopi,ur3cccpi,ur3ncnopi,ur3nccpi,ur3nue,ur3ext,ur3data,ur3dirt]\n",
    "df_v = [r3lee,r3mc,r3ncpi0,r3ccpi0,r3ccnopi,r3cccpi,r3ncnopi,r3nccpi,r3nue,r3ext,r3data,r3dirt]\n",
    "for i,df in enumerate(df_v):\n",
    "    up = uproot_v[i]\n",
    "    trk_llr_pid_v = up.array('trk_llr_pid_score_v')\n",
    "    trk_calo_energy_y_v = up.array('trk_calo_energy_y_v')\n",
    "    trk_id = up.array('trk_id')-1 # I think we need this -1 to get the right result\n",
    "    trk_llr_pid_v_sel = awkward.fromiter([pidv[tid] if tid<len(pidv) else 9999. for pidv,tid in zip(trk_llr_pid_v,trk_id)])\n",
    "    trk_calo_energy_y_sel = awkward.fromiter([pidv[tid] if tid<len(pidv) else 9999. for pidv,tid in zip(trk_calo_energy_y_v,trk_id)])\n",
    "    df['trkpid'] = trk_llr_pid_v_sel\n",
    "    df['trackcaloenergy'] = trk_calo_energy_y_sel\n",
    "\n",
    "if (USEBDT == True):\n",
    "    train_r3ccpi0, r3ccpi0 = train_test_split(r3ccpi0, test_size=0.5, random_state=1990)\n",
    "    \n",
    "r1nue = ur1nue.pandas.df(variables + WEIGHTS, flatten=False)\n",
    "r1mc = ur1mc.pandas.df(variables + WEIGHTS + MCFVARS, flatten=False)\n",
    "r1ncpi0 = ur1ncpi0.pandas.df(variables + WEIGHTS, flatten=False)\n",
    "r1ccpi0 = ur1ccpi0.pandas.df(variables + WEIGHTS, flatten=False)\n",
    "r1ccnopi = ur1ccnopi.pandas.df(variables + WEIGHTS, flatten=False)\n",
    "r1cccpi = ur1cccpi.pandas.df(variables + WEIGHTS, flatten=False)\n",
    "r1ncnopi = ur1ncnopi.pandas.df(variables + WEIGHTS, flatten=False)\n",
    "r1nccpi = ur1nccpi.pandas.df(variables + WEIGHTS, flatten=False)\n",
    "r1data = ur1data.pandas.df(variables, flatten=False)\n",
    "r1ext = ur1ext.pandas.df(variables, flatten=False)\n",
    "r1dirt = ur1dirt.pandas.df(variables + WEIGHTS, flatten=False)\n",
    "r1lee = ur1lee.pandas.df(variables + WEIGHTSLEE, flatten=False)\n",
    "\n",
    "\n",
    "r123data_two_showers_sidebands = ur123data_two_showers_sidebands.pandas.df(variables, flatten=False)\n",
    "\n",
    "r1lee[\"is_signal\"] = r1lee[\"category\"] == 11\n",
    "r1data[\"is_signal\"] = r1data[\"category\"] == 11\n",
    "r1nue[\"is_signal\"] = r1nue[\"category\"] == 11\n",
    "r1mc[\"is_signal\"] = r1mc[\"category\"] == 11\n",
    "r1dirt[\"is_signal\"] = r1dirt[\"category\"] == 11\n",
    "r1ext[\"is_signal\"] = r1ext[\"category\"] == 11\n",
    "r1ncpi0[\"is_signal\"] = r1ncpi0[\"category\"] == 11\n",
    "r1ccpi0[\"is_signal\"] = r1ccpi0[\"category\"] == 11\n",
    "r1ccnopi[\"is_signal\"] = r1ccnopi[\"category\"] == 11\n",
    "r1cccpi[\"is_signal\"] = r1cccpi[\"category\"] == 11\n",
    "r1ncnopi[\"is_signal\"] = r1ncnopi[\"category\"] == 11\n",
    "r1nccpi[\"is_signal\"] = r1nccpi[\"category\"] == 11\n",
    "r1lee.loc[r1lee['category'] == 1, 'category'] = 111\n",
    "r1lee.loc[r1lee['category'] == 10, 'category'] = 111\n",
    "r1lee.loc[r1lee['category'] == 11, 'category'] = 111\n",
    "\n",
    "r123data_two_showers_sidebands[\"is_signal\"] = r123data_two_showers_sidebands[\"category\"] == 11\n",
    "\n",
    "uproot_v = [ur1lee,ur1mc,ur1ncpi0,ur1ccpi0,ur1ccnopi,ur1cccpi,ur1ncnopi,ur1nccpi,ur1nue,ur1ext,ur1data,ur1dirt, ur123data_two_showers_sidebands]\n",
    "df_v = [r1lee,r1mc,r1ncpi0,r1ccpi0,r1ccnopi,r1cccpi,r1ncnopi,r1nccpi,r1nue,r1ext,r1data,r1dirt, r123data_two_showers_sidebands]\n",
    "for i,df in enumerate(df_v):\n",
    "    up = uproot_v[i]\n",
    "    trk_llr_pid_v = up.array('trk_llr_pid_score_v')\n",
    "    trk_calo_energy_y_v = up.array('trk_calo_energy_y_v')\n",
    "    trk_id = up.array('trk_id')-1 # I think we need this -1 to get the right result\n",
    "    trk_llr_pid_v_sel = awkward.fromiter([pidv[tid] if tid<len(pidv) else 9999. for pidv,tid in zip(trk_llr_pid_v,trk_id)])\n",
    "    trk_calo_energy_y_sel = awkward.fromiter([pidv[tid] if tid<len(pidv) else 9999. for pidv,tid in zip(trk_calo_energy_y_v,trk_id)])\n",
    "    df['trkpid'] = trk_llr_pid_v_sel\n",
    "    df['trackcaloenergy'] = trk_calo_energy_y_sel\n",
    "\n",
    "\n",
    "r2nue = ur2nue.pandas.df(variables + WEIGHTS, flatten=False)\n",
    "r2mc = ur2mc.pandas.df(variables + WEIGHTS + MCFVARS, flatten=False)\n",
    "r2lee = ur2lee.pandas.df(variables + WEIGHTSLEE, flatten=False)\n",
    "\n",
    "r2lee[\"is_signal\"] = r2lee[\"category\"] == 11\n",
    "r2nue[\"is_signal\"] = r2nue[\"category\"] == 11\n",
    "r2mc[\"is_signal\"] = r2mc[\"category\"] == 11\n",
    "r2lee.loc[r2lee['category'] == 1, 'category'] = 111\n",
    "r2lee.loc[r2lee['category'] == 10, 'category'] = 111\n",
    "r2lee.loc[r2lee['category'] == 11, 'category'] = 111\n",
    "\n",
    "uproot_v = [ur2lee,ur2mc,ur2nue]\n",
    "df_v = [r2lee,r2mc,r2nue]\n",
    "for i,df in enumerate(df_v):\n",
    "    up = uproot_v[i]\n",
    "    trk_llr_pid_v = up.array('trk_llr_pid_score_v')\n",
    "    trk_calo_energy_y_v = up.array('trk_calo_energy_y_v')\n",
    "    trk_id = up.array('trk_id')-1 # I think we need this -1 to get the right result\n",
    "    trk_llr_pid_v_sel = awkward.fromiter([pidv[tid] if tid<len(pidv) else 9999. for pidv,tid in zip(trk_llr_pid_v,trk_id)])\n",
    "    trk_calo_energy_y_sel = awkward.fromiter([pidv[tid] if tid<len(pidv) else 9999. for pidv,tid in zip(trk_calo_energy_y_v,trk_id)])\n",
    "    df['trkpid'] = trk_llr_pid_v_sel\n",
    "    df['trackcaloenergy'] = trk_calo_energy_y_sel\n",
    "    \n",
    "    \n",
    "    \n",
    "nue = pd.concat([r1nue,r2nue,r3nue],ignore_index=True)\n",
    "#nue = pd.concat([r3nue,r1nue],ignore_index=True)\n",
    "mc = pd.concat([r3mc,r2mc,r1mc],ignore_index=True)\n",
    "#mc = pd.concat([r3mc,r1mc],ignore_index=True)\n",
    "ncpi0 = pd.concat([r3ncpi0,r1ncpi0],ignore_index=True)\n",
    "ccpi0 = pd.concat([r3ccpi0,r1ccpi0],ignore_index=True)\n",
    "ccnopi = pd.concat([r3ccnopi,r1ccnopi],ignore_index=True)\n",
    "cccpi = pd.concat([r3cccpi,r1cccpi],ignore_index=True)\n",
    "ncnopi = pd.concat([r3ncnopi,r1ncnopi],ignore_index=True)\n",
    "nccpi = pd.concat([r3nccpi,r1nccpi],ignore_index=True)\n",
    "# data = pd.concat([r3data,r1data],ignore_index=True)\n",
    "data = pd.concat([r123data_two_showers_sidebands],ignore_index=True)\n",
    "ext = pd.concat([r3ext,r1ext],ignore_index=True)\n",
    "dirt = pd.concat([r3dirt,r1dirt],ignore_index=True)\n",
    "lee = pd.concat([r1lee,r2lee,r3lee],ignore_index=True)\n",
    "#lee = pd.concat([r3lee,r1lee],ignore_index=True)"
   ]
  },
  {
   "cell_type": "code",
   "execution_count": 33,
   "metadata": {},
   "outputs": [],
   "source": [
    "df_v = [lee,mc,ncpi0,ccpi0,ccnopi,cccpi,ncnopi,nccpi,nue,dirt]\n",
    "\n",
    "for i,df in enumerate(df_v):\n",
    "    \n",
    "    df.loc[ df['weightTune'] <= 0, 'weightTune' ] = 1.\n",
    "    df.loc[ df['weightTune'] == np.inf, 'weightTune' ] = 1.\n",
    "    df.loc[ df['weightTune'] > 100, 'weightTune' ] = 1.\n",
    "    df.loc[ np.isnan(df['weightTune']) == True, 'weightTune' ] = 1.\n",
    "    df.loc[ df['weightSplineTimesTune'] <= 0, 'weightSplineTimesTune' ] = 1.\n",
    "    df.loc[ df['weightSplineTimesTune'] == np.inf, 'weightSplineTimesTune' ] = 1.\n",
    "    df.loc[ df['weightSplineTimesTune'] > 100, 'weightSplineTimesTune' ] = 1.\n",
    "    df.loc[ np.isnan(df['weightSplineTimesTune']) == True, 'weightSplineTimesTune' ] = 1.\n",
    "    df.loc[ df['npi0'] > 0, 'weightSplineTimesTune' ] = df['weightSpline'] * df['weightTune'] * 0.759\n",
    "#     df.loc[ df['npi0'] > 0, 'weightSplineTimesTune' ] = df['weightSpline'] * df['weightTune']\n",
    "    #df['weightSpline']  = df['weightSpline']  * df['weightTune']"
   ]
  },
  {
   "cell_type": "code",
   "execution_count": 12,
   "metadata": {},
   "outputs": [],
   "source": [
    "# adjust from MCC9 CV to MCC8 CV\n",
    "\n",
    "if (MCC8WEIGHTS == True):\n",
    "\n",
    "    # scaling for QE\n",
    "    CV_bins = [0.1,0.2,0.3,0.4,0.5,0.6,0.7,0.8,0.9,1.0,5.0]\n",
    "    CV_scaling = [2.5,2.0,1.7,1.45,1.3,1.25,1.175,1.15,1.14,1.1]\n",
    "    # scaling for RES\n",
    "\n",
    "    mc.loc[ (mc['interaction'] == 10), 'weightSpline' ] = 2 * mc['weightSpline']\n",
    "    ncpi0.loc[ (ncpi0['interaction'] == 10), 'weightSpline' ] = 2 * ncpi0['weightSpline']\n",
    "    ccpi0.loc[ (ccpi0['interaction'] == 10), 'weightSpline' ] = 2 * ccpi0['weightSpline']\n",
    "    ccnopi.loc[ (ccnopi['interaction'] == 10), 'weightSpline' ] = 2 * ccnopi['weightSpline']\n",
    "    cccpi.loc[ (cccpi['interaction'] == 10), 'weightSpline' ] = 2 * cccpi['weightSpline']\n",
    "    ncnopi.loc[ (ncnopi['interaction'] == 10), 'weightSpline' ] = 2 * ncnopi['weightSpline']\n",
    "    nccpi.loc[ (nccpi['interaction'] == 10), 'weightSpline' ] = 2 * nccpi['weightSpline']\n",
    "    nue.loc[ (nue['interaction'] == 10), 'weightSpline' ] = 2 * nue['weightSpline']\n",
    "    lee.loc[ (lee['interaction'] == 10), 'weightSpline' ] = 2 * lee['weightSpline']\n",
    "    dirt.loc[ (dirt['interaction'] == 10), 'weightSpline' ] = 2 * dirt['weightSpline']\n",
    "\n",
    "    for i, CV_bin in enumerate(CV_bins):\n",
    "\n",
    "        if i == 0:\n",
    "            continue\n",
    "\n",
    "        mc.loc[ (mc['nu_e'] > CV_bins[i-1]) & (mc['nu_e'] < CV_bins[i]) & (mc['interaction'] == 0), 'weightSpline' ] = CV_scaling[i-1] * mc['weightSpline']\n",
    "        nue.loc[ (nue['nu_e'] > CV_bins[i-1]) & (nue['nu_e'] < CV_bins[i]) & (nue['interaction'] == 0), 'weightSpline' ] = CV_scaling[i-1] * nue['weightSpline']\n",
    "        ncpi0.loc[ (nc['nu_e'] > CV_bins[i-1]) & (ncpi0['nu_e'] < CV_bins[i]) & (ncpi0['interaction'] == 0), 'weightSpline' ] = CV_scaling[i-1] * ncpi0['weightSpline']\n",
    "        ccpi0.loc[ (ccpi0['nu_e'] > CV_bins[i-1]) & (ccpi0['nu_e'] < CV_bins[i]) & (ccpi0['interaction'] == 0), 'weightSpline' ] = CV_scaling[i-1] * ccpi0['weightSpline']\n",
    "        ccnopi.loc[ (ccnopi['nu_e'] > CV_bins[i-1]) & (ccnopi['nu_e'] < CV_bins[i]) & (ccnopi['interaction'] == 0), 'weightSpline' ] = CV_scaling[i-1] * ccnopi['weightSpline']\n",
    "        cccpi.loc[ (cccpi['nu_e'] > CV_bins[i-1]) & (cccpi['nu_e'] < CV_bins[i]) & (cccpi['interaction'] == 0), 'weightSpline' ] = CV_scaling[i-1] * cccpi['weightSpline']\n",
    "        ncnopi.loc[ (ncnopi['nu_e'] > CV_bins[i-1]) & (ncnopi['nu_e'] < CV_bins[i]) & (ncnopi['interaction'] == 0), 'weightSpline' ] = CV_scaling[i-1] * ncnopi['weightSpline']\n",
    "        nccpi.loc[ (nccpi['nu_e'] > CV_bins[i-1]) & (nccpi['nu_e'] < CV_bins[i]) & (nccpi['interaction'] == 0), 'weightSpline' ] = CV_scaling[i-1] * nccpi['weightSpline']\n",
    "        lee.loc[ (lee['nu_e'] > CV_bins[i-1]) & (lee['nu_e'] < CV_bins[i]) & (lee['interaction'] == 0), 'weightSpline' ] = CV_scaling[i-1] * lee['weightSpline']\n",
    "        dirt.loc[ (dirt['nu_e'] > CV_bins[i-1]) & (dirt['nu_e'] < CV_bins[i]) & (dirt['interaction'] == 0), 'weightSpline' ] = CV_scaling[i-1] * dirt['weightSpline']\n",
    "\n"
   ]
  },
  {
   "cell_type": "code",
   "execution_count": 13,
   "metadata": {},
   "outputs": [],
   "source": [
    "# how to get the LLR-PID value for the \"track candidate\" (proton for nue selection, muon for numu)\n",
    "# can be done for any variable\n",
    "# code from Giuseppe!\n",
    "\n",
    "df_v = [lee,mc,ncpi0,ccpi0,ccnopi,cccpi,ncnopi,nccpi,nue,ext,data,dirt]\n",
    "#df_v = [lee,mc,nue,ext,data,dirt]\n",
    "\n",
    "for i,df in enumerate(df_v):\n",
    "    df['subcluster'] = df['shrsubclusters0'] + df['shrsubclusters1'] + df['shrsubclusters2']\n",
    "    df['trkfit'] = df['shr_tkfit_npointsvalid'] / df['shr_tkfit_npoints']\n",
    "    # and the 2d angle difference\n",
    "    df['anglediff_Y'] = np.abs(df['secondshower_Y_dir']-df['shrclusdir2'])\n",
    "    #df['anglediff_V'] = np.abs(df['secondshower_V_dir']-df['shrclusdir1'])\n",
    "    #df['anglediff_U'] = np.abs(df['secondshower_U_dir']-df['shrclusdir0'])\n"
   ]
  },
  {
   "cell_type": "code",
   "execution_count": 14,
   "metadata": {},
   "outputs": [],
   "source": [
    "df_v = [lee,mc,ncpi0,ccpi0,ccnopi,cccpi,ncnopi,nccpi,nue,ext,data,dirt]\n",
    "for i,df in enumerate(df_v):\n",
    "    df['shr_tkfit_nhits_tot'] = (df['shr_tkfit_nhits_Y']+df['shr_tkfit_nhits_U']+df['shr_tkfit_nhits_V'])\n",
    "    df['shr_tkfit_dedx_avg'] = (df['shr_tkfit_nhits_Y']*df['shr_tkfit_dedx_Y'] + df['shr_tkfit_nhits_U']*df['shr_tkfit_dedx_U'] + df['shr_tkfit_nhits_V']*df['shr_tkfit_dedx_V'])/df['shr_tkfit_nhits_tot']\n",
    "    df['shr_tkfit_2cm_nhits_tot'] = (df['shr_tkfit_2cm_nhits_Y']+df['shr_tkfit_2cm_nhits_U']+df['shr_tkfit_2cm_nhits_V'])\n",
    "    df['shr_tkfit_2cm_dedx_avg'] = (df['shr_tkfit_2cm_nhits_Y']*df['shr_tkfit_2cm_dedx_Y'] + df['shr_tkfit_2cm_nhits_U']*df['shr_tkfit_2cm_dedx_U'] + df['shr_tkfit_2cm_nhits_V']*df['shr_tkfit_2cm_dedx_V'])/df['shr_tkfit_2cm_nhits_tot']\n",
    "    df['shr_tkfit_gap10_nhits_tot'] = (df['shr_tkfit_gap10_nhits_Y']+df['shr_tkfit_gap10_nhits_U']+df['shr_tkfit_gap10_nhits_V'])\n",
    "    df['shr_tkfit_gap10_dedx_avg'] = (df['shr_tkfit_gap10_nhits_Y']*df['shr_tkfit_gap10_dedx_Y'] + df['shr_tkfit_gap10_nhits_U']*df['shr_tkfit_gap10_dedx_U'] + df['shr_tkfit_gap10_nhits_V']*df['shr_tkfit_gap10_dedx_V'])/df['shr_tkfit_gap10_nhits_tot']\n",
    "    df.loc[:,'shr_tkfit_dedx_max'] = df['shr_tkfit_dedx_Y']\n",
    "    df.loc[(df['shr_tkfit_nhits_U']>df['shr_tkfit_nhits_Y']),'shr_tkfit_dedx_max'] = df['shr_tkfit_dedx_U']\n",
    "    df.loc[(df['shr_tkfit_nhits_V']>df['shr_tkfit_nhits_Y']) & (df['shr_tkfit_nhits_V']>df['shr_tkfit_nhits_U']),'shr_tkfit_dedx_max'] = df['shr_tkfit_dedx_V']"
   ]
  },
  {
   "cell_type": "code",
   "execution_count": 15,
   "metadata": {},
   "outputs": [],
   "source": [
    "INTERCEPT = 0.0\n",
    "SLOPE = 0.83\n",
    "\n",
    "# define some energy-related variables\n",
    "for i,df in enumerate(df_v):\n",
    "    df[\"reco_e\"] = (df[\"shr_energy_tot_cali\"] + INTERCEPT) / SLOPE + df[\"trk_energy_tot\"]\n",
    "    df[\"reco_e_qe\"] = 0.938*((df[\"shr_energy\"]+INTERCEPT)/SLOPE)/(0.938 - ((df[\"shr_energy\"]+INTERCEPT)/SLOPE)*(1-np.cos(df[\"shr_theta\"])))\n",
    "    df[\"reco_e_rqe\"] = df[\"reco_e_qe\"]/df[\"reco_e\"]\n",
    "\n",
    "# and a way to filter out data\n",
    "for i,df in enumerate(df_v):\n",
    "    df[\"bnbdata\"] = np.zeros_like(df[\"shr_energy\"])\n",
    "    df[\"extdata\"] = np.zeros_like(df[\"shr_energy\"])\n",
    "data[\"bnbdata\"] = np.ones_like(data[\"shr_energy\"])\n",
    "ext[\"extdata\"] = np.ones_like(ext[\"shr_energy\"])"
   ]
  },
  {
   "cell_type": "code",
   "execution_count": 16,
   "metadata": {},
   "outputs": [],
   "source": [
    "# avoid double-counting of events out of FV in the NC/CC pi0 samples\n",
    "# not needed anymore since we improved matching with filtered samples\n",
    "#ncpi0 = ncpi0.query('category != 5')\n",
    "#ccpi0 = ccpi0.query('category != 5')\n",
    "#ccnopi = ccnopi.query('category != 5')\n",
    "#nccpi = nccpi.query('category != 5')\n",
    "#ncnopi = ncnopi.query('category != 5')\n",
    "\n",
    "## avoid recycling unbiased ext events (i.e. selecting a slice with little nu content from these samples)\n",
    "ccnopi = ccnopi.query('(nslice==0 | (slnunhits/slnhits)>0.1)')\n",
    "cccpi = cccpi.query('(nslice==0 | (slnunhits/slnhits)>0.1)')\n",
    "ncnopi = ncnopi.query('(nslice==0 | (slnunhits/slnhits)>0.1)')\n",
    "nccpi = nccpi.query('(nslice==0 | (slnunhits/slnhits)>0.1)')\n",
    "\n",
    "# add back the cosmic category, for background only\n",
    "df_v = [lee,mc,ncpi0,ccpi0,ccnopi,cccpi,ncnopi,nccpi,nue,ext,data,dirt]\n",
    "for i,df in enumerate(df_v):\n",
    "    df.loc[(df['category']!=1)&(df['category']!=10)&(df['category']!=11)&(df['category']!=111)&(df['slnunhits']/df['slnhits']<0.2), 'category'] = 4"
   ]
  },
  {
   "cell_type": "code",
   "execution_count": 17,
   "metadata": {},
   "outputs": [],
   "source": [
    "# variables to be trained on\n",
    "TRAINVAR = [\"shr_score\",\"tksh_distance\",\"tksh_angle\",\n",
    "            \"shr_tkfit_dedx_max\",\n",
    "            \"trkfit\",\"trkpid\",\n",
    "            \"subcluster\",\"shrmoliereavg\",\n",
    "            \"trkshrhitdist2\",\"hits_ratio\",\n",
    "            \"secondshower_Y_nhit\",\"secondshower_Y_vtxdist\",\"secondshower_Y_dot\",\"anglediff_Y\",\n",
    "            \"CosmicIPAll3D\",\"CosmicDirAll3D\"]"
   ]
  },
  {
   "cell_type": "code",
   "execution_count": 18,
   "metadata": {
    "colab": {},
    "colab_type": "code",
    "id": "XcI43ileYJ9P"
   },
   "outputs": [],
   "source": [
    "LABELS =  ['pi0','nonpi0']\n",
    "#LABELS =  [\"bkg\"]\n",
    "\n",
    "if (USEBDT == True):\n",
    "    for label, bkg_query in zip(LABELS, nue_booster.bkg_queries):\n",
    "        with open(ls.pickle_path+'booster_%s_0304_extnumi.pickle' % label, 'rb') as booster_file:\n",
    "            booster = pickle.load(booster_file)\n",
    "            mc[label+\"_score\"] = booster.predict(\n",
    "                xgb.DMatrix(mc[TRAINVAR]),\n",
    "                ntree_limit=booster.best_iteration)\n",
    "            nue[label+\"_score\"] = booster.predict(\n",
    "                xgb.DMatrix(nue[TRAINVAR]),\n",
    "                ntree_limit=booster.best_iteration)\n",
    "            ext[label+\"_score\"] = booster.predict(\n",
    "                xgb.DMatrix(ext[TRAINVAR]),\n",
    "                ntree_limit=booster.best_iteration)\n",
    "            data[label+\"_score\"] = booster.predict(\n",
    "                xgb.DMatrix(data[TRAINVAR]),\n",
    "                ntree_limit=booster.best_iteration)\n",
    "            dirt[label+\"_score\"] = booster.predict(\n",
    "                xgb.DMatrix(dirt[TRAINVAR]),\n",
    "                ntree_limit=booster.best_iteration)\n",
    "            lee[label+\"_score\"] = booster.predict(\n",
    "                xgb.DMatrix(lee[TRAINVAR]),\n",
    "                ntree_limit=booster.best_iteration)\n",
    "            ncpi0[label+\"_score\"] = booster.predict(\n",
    "                xgb.DMatrix(ncpi0[TRAINVAR]),\n",
    "                ntree_limit=booster.best_iteration)\n",
    "            ccpi0[label+\"_score\"] = booster.predict(\n",
    "                xgb.DMatrix(ccpi0[TRAINVAR]),\n",
    "                ntree_limit=booster.best_iteration)\n",
    "            ccnopi[label+\"_score\"] = booster.predict(\n",
    "                xgb.DMatrix(ccnopi[TRAINVAR]),\n",
    "                ntree_limit=booster.best_iteration)\n",
    "            cccpi[label+\"_score\"] = booster.predict(\n",
    "                xgb.DMatrix(cccpi[TRAINVAR]),\n",
    "                ntree_limit=booster.best_iteration)\n",
    "            ncnopi[label+\"_score\"] = booster.predict(\n",
    "                xgb.DMatrix(ncnopi[TRAINVAR]),\n",
    "                ntree_limit=booster.best_iteration)\n",
    "            nccpi[label+\"_score\"] = booster.predict(\n",
    "                xgb.DMatrix(nccpi[TRAINVAR]),\n",
    "                ntree_limit=booster.best_iteration)"
   ]
  },
  {
   "cell_type": "code",
   "execution_count": 34,
   "metadata": {
    "colab": {},
    "colab_type": "code",
    "id": "_pamv0W8YJ9R"
   },
   "outputs": [
    {
     "name": "stdout",
     "output_type": "stream",
     "text": [
      "{'mc': 0.161, 'ext': 0.501, 'nue': 0.00332, 'lee': 0.00332, 'dirt': 0.909, 'ncpi0': 0.119, 'ccpi0': 0.1295, 'ncnopi': 0.056, 'nccpi': 0.0258, 'ccnopi': 0.0648, 'cccpi': 0.0518}\n"
     ]
    }
   ],
   "source": [
    "samples = {\n",
    "    \"mc\": mc,\n",
    "    \"nue\": nue,\n",
    "    \"data\": data,\n",
    "    \"ext\": ext,\n",
    "    \"dirt\": dirt,\n",
    "    \"ncpi0\": ncpi0,\n",
    "    \"ccpi0\": ccpi0,\n",
    "    \"ccnopi\": ccnopi,\n",
    "    \"cccpi\": cccpi,\n",
    "    \"ncnopi\": ncnopi,\n",
    "    \"nccpi\": nccpi,\n",
    "    \"lee\": lee\n",
    "}\n",
    "\n",
    "#scaling = 101.0/4.21 #0218\n",
    "# scaling = 101.0/4.84 #0304\n",
    "#scaling = 69.6/4.84 #0304\n",
    "#scaling = 125.0/4.84 #0304\n",
    "scaling = 1\n",
    "\n",
    "SPLIT = 1.0\n",
    "if (USEBDT == True):\n",
    "    SPLIT = 1.48\n",
    "\n",
    "#''' 0304\n",
    "weights = {\n",
    "    \"mc\": 1.61e-01 * scaling, \n",
    "    \"ext\": 5.01e-01 * scaling, \n",
    "    \"nue\": 3.32e-03 * scaling,\n",
    "    \"lee\": 3.32e-03 * scaling,\n",
    "    \"dirt\": 9.09e-01 * scaling,\n",
    "    \"ncpi0\": 1.19e-01 * scaling,\n",
    "    \"ccpi0\": 8.75e-02 * SPLIT * scaling,\n",
    "    \"ncnopi\": 5.60e-02 * scaling,\n",
    "    \"nccpi\": 2.58e-02 * scaling,\n",
    "    \"ccnopi\": 6.48e-02 * scaling,\n",
    "    \"cccpi\": 5.18e-02 * scaling,\n",
    "}\n",
    "pot = 5.88e20*scaling\n",
    "\n",
    "my_plotter = plotter.Plotter(samples, weights, pot=pot)\n",
    "print(weights)"
   ]
  },
  {
   "cell_type": "markdown",
   "metadata": {},
   "source": [
    "# Start Plotting"
   ]
  },
  {
   "cell_type": "code",
   "execution_count": 35,
   "metadata": {},
   "outputs": [],
   "source": [
    "from unblinding_far_sideband import *"
   ]
  },
  {
   "cell_type": "code",
   "execution_count": 25,
   "metadata": {},
   "outputs": [],
   "source": [
    "no_data = False\n",
    "no_leg = True"
   ]
  },
  {
   "cell_type": "markdown",
   "metadata": {},
   "source": [
    "## Plot variables"
   ]
  },
  {
   "cell_type": "code",
   "execution_count": 48,
   "metadata": {},
   "outputs": [
    {
     "data": {
      "text/plain": [
       "dict_keys(['insensitive_variables', 'input_bdt', 'bdt_scores'])"
      ]
     },
     "execution_count": 48,
     "metadata": {},
     "output_type": "execute_result"
    }
   ],
   "source": [
    "plot_variables.keys()"
   ]
  },
  {
   "cell_type": "code",
   "execution_count": 49,
   "metadata": {},
   "outputs": [],
   "source": [
    "variables_set = []\n",
    "variables_set.append('insensitive_variables')\n",
    "variables_set.append('input_bdt')\n",
    "variables_set.append('bdt_scores')"
   ]
  },
  {
   "cell_type": "code",
   "execution_count": 50,
   "metadata": {},
   "outputs": [
    {
     "name": "stdout",
     "output_type": "stream",
     "text": [
      "insensitive_variables\n",
      "n_tracks_contained 10 (-0.5, 9.5) n tracks contained\n",
      "input_bdt\n",
      "shr_tkfit_dedx_max 20 (0, 10) shr tkfit dE/dx (max, 0-4 cm) [MeV/cm]\n",
      "trkpid 15 (-1, 1) track LLR PID\n",
      "bdt_scores\n",
      "reco_e 22 (-0.05, 2.15) Reconstructed Energy [GeV]\n",
      "Error calculating the significance operands could not be broadcast together with shapes (22,) (21,) (22,) \n"
     ]
    }
   ],
   "source": [
    "database_ylim = {}\n",
    "for which_variables in variables_set:\n",
    "    this_folder = ls.plots_path+'PELEE_two_showers_sideband_unblinding/'\n",
    "    if no_data:\n",
    "        this_folder += 'dry_run/'\n",
    "    else:\n",
    "        this_folder += 'with_data/'\n",
    "    this_folder += (which_variables + '/')\n",
    "    !mkdir -p $this_folder\n",
    "    \n",
    "    this_query = PRESQ_twoplus\n",
    "    this_title = 'Two+ showers sideband\\n' + r'$\\nu_e$ preselection and N-showers contained >= 2'\n",
    "\n",
    "    if no_data:\n",
    "        this_query += ' and bnbdata==0'\n",
    "    \n",
    "    print(which_variables)\n",
    "    this_plot_variables = plot_variables[which_variables]\n",
    "\n",
    "    for VARIABLE, BINS, RANGE, XTIT in this_plot_variables:\n",
    "        print(VARIABLE, BINS, RANGE, XTIT)\n",
    "        fig, ax1, ax2 = my_plotter.plot_variable(\n",
    "            VARIABLE,   \n",
    "            query=this_query,\n",
    "            kind=\"event_category\",\n",
    "            draw_sys=True,\n",
    "            stacksort=3,\n",
    "            title=XTIT,\n",
    "            bins=BINS,\n",
    "            range=RANGE,\n",
    "        )[0:3]\n",
    "        \n",
    "        if no_leg:\n",
    "            ax1.legend().set_visible(False) \n",
    "        else:\n",
    "            ax1.set_title(this_title, loc='left')\n",
    "            ax1.set_ylim(0, ax1.get_ylim()[1]*1.6)\n",
    "        \n",
    "        database_ylim[VARIABLE] = ax1.get_ylim()[1]\n",
    "        plt.tight_layout()\n",
    "        save_path = this_folder+VARIABLE\n",
    "        if no_leg:\n",
    "            save_path += '_noleg'\n",
    "        fig.savefig(save_path + '.png', dpi=250)    \n",
    "#         fig.savefig(save_path + '.pdf')    \n",
    "        plt.close()"
   ]
  },
  {
   "cell_type": "code",
   "execution_count": 30,
   "metadata": {},
   "outputs": [
    {
     "data": {
      "text/plain": [
       "{'n_tracks_contained': 4156.966386274952,\n",
       " 'trkpid': 3932.2080278271187,\n",
       " 'shr_tkfit_nhits_tot': 1491.2962040348848,\n",
       " 'reco_e': 1280.0295171449393}"
      ]
     },
     "execution_count": 30,
     "metadata": {},
     "output_type": "execute_result"
    }
   ],
   "source": [
    "database_ylim"
   ]
  },
  {
   "cell_type": "markdown",
   "metadata": {},
   "source": [
    "# Start Plotting with pi0 normalisation"
   ]
  },
  {
   "cell_type": "code",
   "execution_count": 42,
   "metadata": {},
   "outputs": [],
   "source": [
    "from unblinding_far_sideband import *"
   ]
  },
  {
   "cell_type": "markdown",
   "metadata": {},
   "source": [
    "## Plot variables"
   ]
  },
  {
   "cell_type": "code",
   "execution_count": 20,
   "metadata": {},
   "outputs": [
    {
     "data": {
      "text/plain": [
       "dict_keys(['insensitive_variables', 'input_bdt', 'bdt_scores'])"
      ]
     },
     "execution_count": 20,
     "metadata": {},
     "output_type": "execute_result"
    }
   ],
   "source": [
    "plot_variables.keys()"
   ]
  },
  {
   "cell_type": "code",
   "execution_count": 21,
   "metadata": {},
   "outputs": [],
   "source": [
    "variables_set = []\n",
    "variables_set.append('insensitive_variables')\n",
    "variables_set.append('input_bdt')\n",
    "variables_set.append('bdt_scores')"
   ]
  },
  {
   "cell_type": "code",
   "execution_count": 22,
   "metadata": {},
   "outputs": [
    {
     "data": {
      "text/plain": [
       "{'insensitive_variables': [],\n",
       " 'input_bdt': [('shr_tkfit_dedx_max',\n",
       "   15,\n",
       "   (0, 10),\n",
       "   'shr tkfit dE/dx (max, 0-4 cm) [MeV/cm]')],\n",
       " 'bdt_scores': [('pi0_score', 1, (0.5, 1), 'BDT $\\\\pi^0$ score')]}"
      ]
     },
     "execution_count": 22,
     "metadata": {},
     "output_type": "execute_result"
    }
   ],
   "source": [
    "plot_variables"
   ]
  },
  {
   "cell_type": "code",
   "execution_count": 43,
   "metadata": {
    "collapsed": true,
    "jupyter": {
     "outputs_hidden": true
    }
   },
   "outputs": [
    {
     "name": "stdout",
     "output_type": "stream",
     "text": [
      "insensitive_variables\n",
      "n_tracks_contained 10 (-0.5, 9.5) n tracks contained\n",
      "input_bdt\n",
      "shr_tkfit_dedx_max 20 (0, 10) shr tkfit dE/dx (max, 0-4 cm) [MeV/cm]\n",
      "trkpid 15 (-1, 1) track LLR PID\n",
      "bdt_scores\n",
      "reco_e 22 (-0.05, 2.15) Reconstructed Energy [GeV]\n"
     ]
    },
    {
     "ename": "KeyboardInterrupt",
     "evalue": "",
     "output_type": "error",
     "traceback": [
      "\u001b[0;31m---------------------------------------------------------------------------\u001b[0m",
      "\u001b[0;31mKeyboardInterrupt\u001b[0m                         Traceback (most recent call last)",
      "\u001b[0;32m<ipython-input-43-95a43ed94315>\u001b[0m in \u001b[0;36m<module>\u001b[0;34m\u001b[0m\n\u001b[1;32m     24\u001b[0m             \u001b[0mtitle\u001b[0m\u001b[0;34m=\u001b[0m\u001b[0mXTIT\u001b[0m\u001b[0;34m,\u001b[0m\u001b[0;34m\u001b[0m\u001b[0;34m\u001b[0m\u001b[0m\n\u001b[1;32m     25\u001b[0m             \u001b[0mbins\u001b[0m\u001b[0;34m=\u001b[0m\u001b[0mBINS\u001b[0m\u001b[0;34m,\u001b[0m\u001b[0;34m\u001b[0m\u001b[0;34m\u001b[0m\u001b[0m\n\u001b[0;32m---> 26\u001b[0;31m             \u001b[0mrange\u001b[0m\u001b[0;34m=\u001b[0m\u001b[0mRANGE\u001b[0m\u001b[0;34m,\u001b[0m\u001b[0;34m\u001b[0m\u001b[0;34m\u001b[0m\u001b[0m\n\u001b[0m\u001b[1;32m     27\u001b[0m         )[0:3]\n\u001b[1;32m     28\u001b[0m \u001b[0;34m\u001b[0m\u001b[0m\n",
      "\u001b[0;32m~/Dropbox/MicroBooNE/PELEE/plotter.py\u001b[0m in \u001b[0;36mplot_variable\u001b[0;34m(self, variable, query, title, kind, draw_sys, stacksort, track_cuts, select_longest, detsys, ratio, chisq, **plot_options)\u001b[0m\n\u001b[1;32m   1140\u001b[0m         \u001b[0;32mif\u001b[0m \u001b[0mdraw_sys\u001b[0m\u001b[0;34m:\u001b[0m\u001b[0;34m\u001b[0m\u001b[0;34m\u001b[0m\u001b[0m\n\u001b[1;32m   1141\u001b[0m             \u001b[0;31m#cov = self.sys_err(\"weightsFlux\", variable, query, plot_options[\"range\"], plot_options[\"bins\"], \"weightSplineTimesTune\")\u001b[0m\u001b[0;34m\u001b[0m\u001b[0;34m\u001b[0m\u001b[0;34m\u001b[0m\u001b[0m\n\u001b[0;32m-> 1142\u001b[0;31m             \u001b[0mcov\u001b[0m \u001b[0;34m=\u001b[0m \u001b[0mself\u001b[0m\u001b[0;34m.\u001b[0m\u001b[0msys_err\u001b[0m\u001b[0;34m(\u001b[0m\u001b[0;34m\"weightsFlux\"\u001b[0m\u001b[0;34m,\u001b[0m \u001b[0mvariable\u001b[0m\u001b[0;34m,\u001b[0m \u001b[0mquery\u001b[0m\u001b[0;34m,\u001b[0m \u001b[0mplot_options\u001b[0m\u001b[0;34m[\u001b[0m\u001b[0;34m\"range\"\u001b[0m\u001b[0;34m]\u001b[0m\u001b[0;34m,\u001b[0m \u001b[0mplot_options\u001b[0m\u001b[0;34m[\u001b[0m\u001b[0;34m\"bins\"\u001b[0m\u001b[0;34m]\u001b[0m\u001b[0;34m,\u001b[0m \u001b[0;34m\"weightSplineTimesTune\"\u001b[0m\u001b[0;34m)\u001b[0m \u001b[0;34m+\u001b[0m\u001b[0;31m \u001b[0m\u001b[0;31m\\\u001b[0m\u001b[0;34m\u001b[0m\u001b[0;34m\u001b[0m\u001b[0m\n\u001b[0m\u001b[1;32m   1143\u001b[0m                   \u001b[0mself\u001b[0m\u001b[0;34m.\u001b[0m\u001b[0msys_err\u001b[0m\u001b[0;34m(\u001b[0m\u001b[0;34m\"weightsGenie\"\u001b[0m\u001b[0;34m,\u001b[0m \u001b[0mvariable\u001b[0m\u001b[0;34m,\u001b[0m \u001b[0mquery\u001b[0m\u001b[0;34m,\u001b[0m \u001b[0mplot_options\u001b[0m\u001b[0;34m[\u001b[0m\u001b[0;34m\"range\"\u001b[0m\u001b[0;34m]\u001b[0m\u001b[0;34m,\u001b[0m \u001b[0mplot_options\u001b[0m\u001b[0;34m[\u001b[0m\u001b[0;34m\"bins\"\u001b[0m\u001b[0;34m]\u001b[0m\u001b[0;34m,\u001b[0m \u001b[0;34m\"weightSplineTimesTune\"\u001b[0m\u001b[0;34m)\u001b[0m \u001b[0;31m#+ \\\u001b[0m\u001b[0;34m\u001b[0m\u001b[0;34m\u001b[0m\u001b[0m\n\u001b[1;32m   1144\u001b[0m                   \u001b[0;31m#self.sys_err(\"weightsReint\", variable, query, plot_options[\"range\"], plot_options[\"bins\"], \"weightSplineTimesTune\")\u001b[0m\u001b[0;34m\u001b[0m\u001b[0;34m\u001b[0m\u001b[0;34m\u001b[0m\u001b[0m\n",
      "\u001b[0;32m~/Dropbox/MicroBooNE/PELEE/plotter.py\u001b[0m in \u001b[0;36msys_err\u001b[0;34m(self, name, var_name, query, x_range, n_bins, weightVar)\u001b[0m\n\u001b[1;32m   1687\u001b[0m \u001b[0;34m\u001b[0m\u001b[0m\n\u001b[1;32m   1688\u001b[0m             \u001b[0ms\u001b[0m \u001b[0;34m=\u001b[0m \u001b[0msyst_weights\u001b[0m\u001b[0;34m\u001b[0m\u001b[0;34m\u001b[0m\u001b[0m\n\u001b[0;32m-> 1689\u001b[0;31m             \u001b[0mdf\u001b[0m \u001b[0;34m=\u001b[0m \u001b[0mpd\u001b[0m\u001b[0;34m.\u001b[0m\u001b[0mDataFrame\u001b[0m\u001b[0;34m(\u001b[0m\u001b[0ms\u001b[0m\u001b[0;34m.\u001b[0m\u001b[0mvalues\u001b[0m\u001b[0;34m.\u001b[0m\u001b[0mtolist\u001b[0m\u001b[0;34m(\u001b[0m\u001b[0;34m)\u001b[0m\u001b[0;34m)\u001b[0m\u001b[0;34m\u001b[0m\u001b[0;34m\u001b[0m\u001b[0m\n\u001b[0m\u001b[1;32m   1690\u001b[0m \u001b[0;34m\u001b[0m\u001b[0m\n\u001b[1;32m   1691\u001b[0m             n_cv, bins = np.histogram(\n",
      "\u001b[0;32m~/.local/lib/python3.7/site-packages/pandas/core/frame.py\u001b[0m in \u001b[0;36m__init__\u001b[0;34m(self, data, index, columns, dtype, copy)\u001b[0m\n\u001b[1;32m    448\u001b[0m                     \u001b[0;32mif\u001b[0m \u001b[0mis_named_tuple\u001b[0m\u001b[0;34m(\u001b[0m\u001b[0mdata\u001b[0m\u001b[0;34m[\u001b[0m\u001b[0;36m0\u001b[0m\u001b[0;34m]\u001b[0m\u001b[0;34m)\u001b[0m \u001b[0;32mand\u001b[0m \u001b[0mcolumns\u001b[0m \u001b[0;32mis\u001b[0m \u001b[0;32mNone\u001b[0m\u001b[0;34m:\u001b[0m\u001b[0;34m\u001b[0m\u001b[0;34m\u001b[0m\u001b[0m\n\u001b[1;32m    449\u001b[0m                         \u001b[0mcolumns\u001b[0m \u001b[0;34m=\u001b[0m \u001b[0mdata\u001b[0m\u001b[0;34m[\u001b[0m\u001b[0;36m0\u001b[0m\u001b[0;34m]\u001b[0m\u001b[0;34m.\u001b[0m\u001b[0m_fields\u001b[0m\u001b[0;34m\u001b[0m\u001b[0;34m\u001b[0m\u001b[0m\n\u001b[0;32m--> 450\u001b[0;31m                     \u001b[0marrays\u001b[0m\u001b[0;34m,\u001b[0m \u001b[0mcolumns\u001b[0m \u001b[0;34m=\u001b[0m \u001b[0mto_arrays\u001b[0m\u001b[0;34m(\u001b[0m\u001b[0mdata\u001b[0m\u001b[0;34m,\u001b[0m \u001b[0mcolumns\u001b[0m\u001b[0;34m,\u001b[0m \u001b[0mdtype\u001b[0m\u001b[0;34m=\u001b[0m\u001b[0mdtype\u001b[0m\u001b[0;34m)\u001b[0m\u001b[0;34m\u001b[0m\u001b[0;34m\u001b[0m\u001b[0m\n\u001b[0m\u001b[1;32m    451\u001b[0m                     \u001b[0mcolumns\u001b[0m \u001b[0;34m=\u001b[0m \u001b[0mensure_index\u001b[0m\u001b[0;34m(\u001b[0m\u001b[0mcolumns\u001b[0m\u001b[0;34m)\u001b[0m\u001b[0;34m\u001b[0m\u001b[0;34m\u001b[0m\u001b[0m\n\u001b[1;32m    452\u001b[0m \u001b[0;34m\u001b[0m\u001b[0m\n",
      "\u001b[0;32m~/.local/lib/python3.7/site-packages/pandas/core/internals/construction.py\u001b[0m in \u001b[0;36mto_arrays\u001b[0;34m(data, columns, coerce_float, dtype)\u001b[0m\n\u001b[1;32m    486\u001b[0m         \u001b[0;31m# last ditch effort\u001b[0m\u001b[0;34m\u001b[0m\u001b[0;34m\u001b[0m\u001b[0;34m\u001b[0m\u001b[0m\n\u001b[1;32m    487\u001b[0m         \u001b[0mdata\u001b[0m \u001b[0;34m=\u001b[0m \u001b[0;34m[\u001b[0m\u001b[0mtuple\u001b[0m\u001b[0;34m(\u001b[0m\u001b[0mx\u001b[0m\u001b[0;34m)\u001b[0m \u001b[0;32mfor\u001b[0m \u001b[0mx\u001b[0m \u001b[0;32min\u001b[0m \u001b[0mdata\u001b[0m\u001b[0;34m]\u001b[0m\u001b[0;34m\u001b[0m\u001b[0;34m\u001b[0m\u001b[0m\n\u001b[0;32m--> 488\u001b[0;31m         \u001b[0;32mreturn\u001b[0m \u001b[0m_list_to_arrays\u001b[0m\u001b[0;34m(\u001b[0m\u001b[0mdata\u001b[0m\u001b[0;34m,\u001b[0m \u001b[0mcolumns\u001b[0m\u001b[0;34m,\u001b[0m \u001b[0mcoerce_float\u001b[0m\u001b[0;34m=\u001b[0m\u001b[0mcoerce_float\u001b[0m\u001b[0;34m,\u001b[0m \u001b[0mdtype\u001b[0m\u001b[0;34m=\u001b[0m\u001b[0mdtype\u001b[0m\u001b[0;34m)\u001b[0m\u001b[0;34m\u001b[0m\u001b[0;34m\u001b[0m\u001b[0m\n\u001b[0m\u001b[1;32m    489\u001b[0m \u001b[0;34m\u001b[0m\u001b[0m\n\u001b[1;32m    490\u001b[0m \u001b[0;34m\u001b[0m\u001b[0m\n",
      "\u001b[0;32m~/.local/lib/python3.7/site-packages/pandas/core/internals/construction.py\u001b[0m in \u001b[0;36m_list_to_arrays\u001b[0;34m(data, columns, coerce_float, dtype)\u001b[0m\n\u001b[1;32m    498\u001b[0m     \u001b[0;32mtry\u001b[0m\u001b[0;34m:\u001b[0m\u001b[0;34m\u001b[0m\u001b[0;34m\u001b[0m\u001b[0m\n\u001b[1;32m    499\u001b[0m         result = _convert_object_array(\n\u001b[0;32m--> 500\u001b[0;31m             \u001b[0mcontent\u001b[0m\u001b[0;34m,\u001b[0m \u001b[0mcolumns\u001b[0m\u001b[0;34m,\u001b[0m \u001b[0mdtype\u001b[0m\u001b[0;34m=\u001b[0m\u001b[0mdtype\u001b[0m\u001b[0;34m,\u001b[0m \u001b[0mcoerce_float\u001b[0m\u001b[0;34m=\u001b[0m\u001b[0mcoerce_float\u001b[0m\u001b[0;34m\u001b[0m\u001b[0;34m\u001b[0m\u001b[0m\n\u001b[0m\u001b[1;32m    501\u001b[0m         )\n\u001b[1;32m    502\u001b[0m     \u001b[0;32mexcept\u001b[0m \u001b[0mAssertionError\u001b[0m \u001b[0;32mas\u001b[0m \u001b[0me\u001b[0m\u001b[0;34m:\u001b[0m\u001b[0;34m\u001b[0m\u001b[0;34m\u001b[0m\u001b[0m\n",
      "\u001b[0;32m~/.local/lib/python3.7/site-packages/pandas/core/internals/construction.py\u001b[0m in \u001b[0;36m_convert_object_array\u001b[0;34m(content, columns, coerce_float, dtype)\u001b[0m\n\u001b[1;32m    591\u001b[0m         \u001b[0;32mreturn\u001b[0m \u001b[0marr\u001b[0m\u001b[0;34m\u001b[0m\u001b[0;34m\u001b[0m\u001b[0m\n\u001b[1;32m    592\u001b[0m \u001b[0;34m\u001b[0m\u001b[0m\n\u001b[0;32m--> 593\u001b[0;31m     \u001b[0marrays\u001b[0m \u001b[0;34m=\u001b[0m \u001b[0;34m[\u001b[0m\u001b[0mconvert\u001b[0m\u001b[0;34m(\u001b[0m\u001b[0marr\u001b[0m\u001b[0;34m)\u001b[0m \u001b[0;32mfor\u001b[0m \u001b[0marr\u001b[0m \u001b[0;32min\u001b[0m \u001b[0mcontent\u001b[0m\u001b[0;34m]\u001b[0m\u001b[0;34m\u001b[0m\u001b[0;34m\u001b[0m\u001b[0m\n\u001b[0m\u001b[1;32m    594\u001b[0m \u001b[0;34m\u001b[0m\u001b[0m\n\u001b[1;32m    595\u001b[0m     \u001b[0;32mreturn\u001b[0m \u001b[0marrays\u001b[0m\u001b[0;34m,\u001b[0m \u001b[0mcolumns\u001b[0m\u001b[0;34m\u001b[0m\u001b[0;34m\u001b[0m\u001b[0m\n",
      "\u001b[0;32m~/.local/lib/python3.7/site-packages/pandas/core/internals/construction.py\u001b[0m in \u001b[0;36m<listcomp>\u001b[0;34m(.0)\u001b[0m\n\u001b[1;32m    591\u001b[0m         \u001b[0;32mreturn\u001b[0m \u001b[0marr\u001b[0m\u001b[0;34m\u001b[0m\u001b[0;34m\u001b[0m\u001b[0m\n\u001b[1;32m    592\u001b[0m \u001b[0;34m\u001b[0m\u001b[0m\n\u001b[0;32m--> 593\u001b[0;31m     \u001b[0marrays\u001b[0m \u001b[0;34m=\u001b[0m \u001b[0;34m[\u001b[0m\u001b[0mconvert\u001b[0m\u001b[0;34m(\u001b[0m\u001b[0marr\u001b[0m\u001b[0;34m)\u001b[0m \u001b[0;32mfor\u001b[0m \u001b[0marr\u001b[0m \u001b[0;32min\u001b[0m \u001b[0mcontent\u001b[0m\u001b[0;34m]\u001b[0m\u001b[0;34m\u001b[0m\u001b[0;34m\u001b[0m\u001b[0m\n\u001b[0m\u001b[1;32m    594\u001b[0m \u001b[0;34m\u001b[0m\u001b[0m\n\u001b[1;32m    595\u001b[0m     \u001b[0;32mreturn\u001b[0m \u001b[0marrays\u001b[0m\u001b[0;34m,\u001b[0m \u001b[0mcolumns\u001b[0m\u001b[0;34m\u001b[0m\u001b[0;34m\u001b[0m\u001b[0m\n",
      "\u001b[0;32m~/.local/lib/python3.7/site-packages/pandas/core/internals/construction.py\u001b[0m in \u001b[0;36mconvert\u001b[0;34m(arr)\u001b[0m\n\u001b[1;32m    587\u001b[0m     \u001b[0;32mdef\u001b[0m \u001b[0mconvert\u001b[0m\u001b[0;34m(\u001b[0m\u001b[0marr\u001b[0m\u001b[0;34m)\u001b[0m\u001b[0;34m:\u001b[0m\u001b[0;34m\u001b[0m\u001b[0;34m\u001b[0m\u001b[0m\n\u001b[1;32m    588\u001b[0m         \u001b[0;32mif\u001b[0m \u001b[0mdtype\u001b[0m \u001b[0;34m!=\u001b[0m \u001b[0mobject\u001b[0m \u001b[0;32mand\u001b[0m \u001b[0mdtype\u001b[0m \u001b[0;34m!=\u001b[0m \u001b[0mnp\u001b[0m\u001b[0;34m.\u001b[0m\u001b[0mobject\u001b[0m\u001b[0;34m:\u001b[0m\u001b[0;34m\u001b[0m\u001b[0;34m\u001b[0m\u001b[0m\n\u001b[0;32m--> 589\u001b[0;31m             \u001b[0marr\u001b[0m \u001b[0;34m=\u001b[0m \u001b[0mlib\u001b[0m\u001b[0;34m.\u001b[0m\u001b[0mmaybe_convert_objects\u001b[0m\u001b[0;34m(\u001b[0m\u001b[0marr\u001b[0m\u001b[0;34m,\u001b[0m \u001b[0mtry_float\u001b[0m\u001b[0;34m=\u001b[0m\u001b[0mcoerce_float\u001b[0m\u001b[0;34m)\u001b[0m\u001b[0;34m\u001b[0m\u001b[0;34m\u001b[0m\u001b[0m\n\u001b[0m\u001b[1;32m    590\u001b[0m             \u001b[0marr\u001b[0m \u001b[0;34m=\u001b[0m \u001b[0mmaybe_cast_to_datetime\u001b[0m\u001b[0;34m(\u001b[0m\u001b[0marr\u001b[0m\u001b[0;34m,\u001b[0m \u001b[0mdtype\u001b[0m\u001b[0;34m)\u001b[0m\u001b[0;34m\u001b[0m\u001b[0;34m\u001b[0m\u001b[0m\n\u001b[1;32m    591\u001b[0m         \u001b[0;32mreturn\u001b[0m \u001b[0marr\u001b[0m\u001b[0;34m\u001b[0m\u001b[0;34m\u001b[0m\u001b[0m\n",
      "\u001b[0;31mKeyboardInterrupt\u001b[0m: "
     ]
    },
    {
     "data": {
      "image/png": "[encoded data removed]",
      "text/plain": [
       "<Figure size 576x504 with 2 Axes>"
      ]
     },
     "metadata": {
      "needs_background": "light"
     },
     "output_type": "display_data"
    }
   ],
   "source": [
    "for which_variables in variables_set:\n",
    "    this_folder = ls.plots_path+'PELEE_two_showers_sideband_unblinding/'\n",
    "    this_folder += 'with_pi0_scaling/'\n",
    "    this_folder += (which_variables + '/')\n",
    "    !mkdir -p $this_folder\n",
    "    \n",
    "    this_query = PRESQ_twoplus\n",
    "    this_title = 'Two+ showers sideband\\n' + r'$\\nu_e$ preselection and N-showers contained >= 2' + '\\n' + r'$\\pi^0$ scaled by 0.759'\n",
    "\n",
    "    if no_data:\n",
    "        this_query += ' and bnbdata==0'\n",
    "    \n",
    "    print(which_variables)\n",
    "    this_plot_variables = plot_variables[which_variables]\n",
    "\n",
    "    for VARIABLE, BINS, RANGE, XTIT in this_plot_variables:\n",
    "        print(VARIABLE, BINS, RANGE, XTIT)\n",
    "        fig, ax1, ax2 = my_plotter.plot_variable(\n",
    "            VARIABLE,   \n",
    "            query=this_query,\n",
    "            kind=\"event_category\",\n",
    "            draw_sys=True,\n",
    "            stacksort=3,\n",
    "            title=XTIT,\n",
    "            bins=BINS,\n",
    "            range=RANGE,\n",
    "        )[0:3]\n",
    "        \n",
    "        if no_leg:\n",
    "            ax1.legend().set_visible(False) \n",
    "            if VARIABLE in database_ylim.keys():\n",
    "                ax1.set_ylim(0, database_ylim[VARIABLE])\n",
    "        else:\n",
    "            ax1.set_title(this_title, loc='left')\n",
    "            if VARIABLE in database_ylim.keys():\n",
    "                ax1.set_ylim(0, database_ylim[VARIABLE])\n",
    "            else:\n",
    "                ax1.set_ylim(0, ax1.get_ylim()[1]*1.6)\n",
    "            \n",
    "        plt.tight_layout()\n",
    "        save_path = this_folder+VARIABLE\n",
    "        if no_leg:\n",
    "            save_path += '_noleg'\n",
    "        fig.savefig(save_path + '.png', dpi=250)    \n",
    "#         fig.savefig(save_path + '.pdf') \n",
    "        plt.close()"
   ]
  },
  {
   "cell_type": "markdown",
   "metadata": {},
   "source": [
    "# With detector systematics"
   ]
  },
  {
   "cell_type": "code",
   "execution_count": 28,
   "metadata": {
    "collapsed": true,
    "jupyter": {
     "outputs_hidden": true,
     "source_hidden": true
    }
   },
   "outputs": [
    {
     "name": "stdout",
     "output_type": "stream",
     "text": [
      "counting_err: [ 4.59779749  6.85981637  9.37180093 14.74707095 15.89690195 12.54459485\n",
      " 11.10162244 13.18436233 12.44890149  9.42036579  7.17941091  6.18830828\n",
      "  5.11796293  4.24167698  3.87702155  3.36521442  3.09230795  2.69715802\n",
      "  2.32929599  1.96458362]\n",
      "detsys_err: [ 12.40627779  24.07396492  50.30583912 100.31212957  94.70263402\n",
      "  73.62594696  57.2113313  222.27676617 167.72594743 110.47457105\n",
      "  53.57184064  40.60727721  34.73879451  20.01035418  23.89537381\n",
      "  20.59658036  15.25675676   9.54189971   8.19187202   5.95054432]\n",
      "total exp_err :  [ 13.23085297  25.03223657  51.17136017 101.39033209  96.02760219\n",
      "  74.68699302  58.27849045 222.66743855 168.1873021  110.87548936\n",
      "  54.0507729   41.07610159  35.11377776  20.45497734  24.2078538\n",
      "  20.86968592  15.56698414   9.91577085   8.5165948    6.26646364]\n"
     ]
    },
    {
     "ename": "NameError",
     "evalue": "name 'save_path' is not defined",
     "output_type": "error",
     "traceback": [
      "\u001b[0;31m---------------------------------------------------------------------------\u001b[0m",
      "\u001b[0;31mNameError\u001b[0m                                 Traceback (most recent call last)",
      "\u001b[0;32m<ipython-input-28-0f64cec78f3f>\u001b[0m in \u001b[0;36m<module>\u001b[0;34m\u001b[0m\n\u001b[1;32m     53\u001b[0m \u001b[0;31m# save_path = this_folder+VARIABLE\u001b[0m\u001b[0;34m\u001b[0m\u001b[0;34m\u001b[0m\u001b[0;34m\u001b[0m\u001b[0m\n\u001b[1;32m     54\u001b[0m \u001b[0;32mif\u001b[0m \u001b[0mno_leg\u001b[0m\u001b[0;34m:\u001b[0m\u001b[0;34m\u001b[0m\u001b[0;34m\u001b[0m\u001b[0m\n\u001b[0;32m---> 55\u001b[0;31m     \u001b[0msave_path\u001b[0m \u001b[0;34m+=\u001b[0m \u001b[0;34m'_noleg'\u001b[0m\u001b[0;34m\u001b[0m\u001b[0;34m\u001b[0m\u001b[0m\n\u001b[0m\u001b[1;32m     56\u001b[0m \u001b[0;31m#             fig.savefig(save_path + '.png', dpi=250)\u001b[0m\u001b[0;34m\u001b[0m\u001b[0;34m\u001b[0m\u001b[0;34m\u001b[0m\u001b[0m\n\u001b[1;32m     57\u001b[0m \u001b[0;31m#         fig.savefig(save_path + '.pdf')\u001b[0m\u001b[0;34m\u001b[0m\u001b[0;34m\u001b[0m\u001b[0;34m\u001b[0m\u001b[0m\n",
      "\u001b[0;31mNameError\u001b[0m: name 'save_path' is not defined"
     ]
    },
    {
     "data": {
      "image/png": "[encoded data removed]",
      "text/plain": [
       "<Figure size 576x504 with 2 Axes>"
      ]
     },
     "metadata": {
      "needs_background": "light"
     },
     "output_type": "display_data"
    }
   ],
   "source": [
    "#dedx after far energy\n",
    "detsys = {\n",
    "    'nue': [1.27647279, 0.30363571, 0.38239875, 0.30185093, 0.25290227, 0.16252713,\n",
    " 0.14619229, 0.15608208, 0.1666133,  0.25468685, 0.07858252, 0.19893852,\n",
    " 0.25641127, 0.38413905, 0.2106816,  0.17191569, 0.45140248, 0.18510883,\n",
    " 0.63619039, 0.43327993,],\n",
    "\n",
    "    'ncpi0': [0.26039416, 0.26278514, 0.30491969, 0.1812784,  0.13276332, 0.17456273,\n",
    " 0.14327807, 0.30043894, 0.22668279, 0.3052821,  0.26732865, 0.27633069,\n",
    " 0.35367288, 0.29618235, 0.44247323, 0.54736577, 0.42008001, 0.3981663,\n",
    " 0.42393282, 0.36643562,],\n",
    "\n",
    "    'ccpi0': [0.26039416, 0.26278514, 0.30491969, 0.1812784,  0.13276332, 0.17456273,\n",
    " 0.14327807, 0.30043894, 0.22668279, 0.3052821,  0.26732865, 0.27633069,\n",
    " 0.35367288, 0.29618235, 0.44247323, 0.54736577, 0.42008001, 0.3981663,\n",
    " 0.42393282, 0.36643562,]\n",
    "\n",
    "}\n",
    "\n",
    "stage = 1\n",
    "no_leg = True\n",
    "# this_folder = ls.plots_path+'PELEE_far_sideband_unblinding/'\n",
    "# this_folder += 'with_pi0_scaling/'\n",
    "# this_folder += 'stage_{}/'.format(stage)\n",
    "# !mkdir -p $this_folder\n",
    "\n",
    "this_query = PRESQ_twoplus\n",
    "this_title = 'Two+ showers sideband\\n' + r'$\\nu_e$ preselection and N-showers contained >= 2' + '\\n' + r'$\\pi^0$ scaled by 0.759'\n",
    "\n",
    "VARIABLE, BINS, RANGE, XTIT = 'shr_tkfit_dedx_max',20,(0,10),\"shr tkfit dE/dx (max, 0-4 cm) [MeV/cm]\",\n",
    "\n",
    "out = my_plotter.plot_variable(\n",
    "    VARIABLE,   \n",
    "    query=this_query,\n",
    "    kind=\"event_category\",\n",
    "    draw_sys=True,\n",
    "    detsys=detsys,\n",
    "    stacksort=3,\n",
    "    title=XTIT,\n",
    "    bins=int(BINS),\n",
    "    range=RANGE,\n",
    ")\n",
    "fig, ax1, ax2 = out[0:3]\n",
    "\n",
    "if no_leg:\n",
    "    ax1.legend().set_visible(False) \n",
    "else:\n",
    "    ax1.set_title(this_title, loc='left')\n",
    "    ax1.set_ylim(0, ax1.get_ylim()[1]*1.6)\n",
    "\n",
    "# ax1.set_yscale('log')\n",
    "plt.tight_layout()\n",
    "# save_path = this_folder+VARIABLE\n",
    "# if no_leg:\n",
    "#     save_path += '_noleg'\n",
    "#             fig.savefig(save_path + '.png', dpi=250)    \n",
    "#         fig.savefig(save_path + '.pdf')    \n",
    "#             plt.close()"
   ]
  },
  {
   "cell_type": "code",
   "execution_count": 30,
   "metadata": {
    "collapsed": true,
    "jupyter": {
     "outputs_hidden": true,
     "source_hidden": true
    }
   },
   "outputs": [
    {
     "name": "stdout",
     "output_type": "stream",
     "text": [
      "counting_err: [ 0.         11.38409415 15.18103959 13.67164826 12.91339549 11.55277317\n",
      " 10.77911671 10.34846482 10.13647292  9.54318205  8.93924164  8.30468722\n",
      "  7.72633107  6.93920745  6.21472304  5.50524881  4.77363878  4.56610096\n",
      "  3.78722861  3.57866333  3.18807298  3.14515391]\n",
      "detsys_err: [ 0.          7.41917639 62.00136002 29.5702429  20.67713474 34.05661529\n",
      " 49.08809862 23.07677848 14.82751352 28.55794204 19.88475391  8.01980307\n",
      "  7.44812578 13.06102531 10.9383107  15.49674278  9.71711065 12.80615919\n",
      " 14.02901918  6.01032146  5.54863355  5.31295393]\n",
      "total exp_err :  [ 0.         13.58829562 63.83284897 32.57780274 24.37826253 35.96275314\n",
      " 50.25764402 25.29087641 17.96115922 30.1102703  21.80168524 11.54491538\n",
      " 10.73176451 14.78996221 12.58051761 16.44557087 10.82635057 13.59584463\n",
      " 14.5312243   6.99505506  6.39930806  6.1740969 ]\n",
      "Error calculating the significance operands could not be broadcast together with shapes (22,) (21,) (22,) \n"
     ]
    },
    {
     "name": "stderr",
     "output_type": "stream",
     "text": [
      "/home/nic/Dropbox/MicroBooNE/PELEE/plotter.py:251: RuntimeWarning: invalid value encountered in true_divide\n",
      "  return sum(num / den) / np.count_nonzero(data)\n"
     ]
    },
    {
     "data": {
      "image/png": "[encoded data removed]",
      "text/plain": [
       "<Figure size 576x504 with 2 Axes>"
      ]
     },
     "metadata": {
      "needs_background": "light"
     },
     "output_type": "display_data"
    }
   ],
   "source": [
    "#dedx after far energy\n",
    "detsys = {\n",
    "    'nue': [       0.0, 0.86010721, 0.28074609, 0.15415369, 0.14866511, 0.13024779,\n",
    " 0.03968399, 0.20109395, 0.06240319, 0.05555004, 0.07303715, 0.06233061,\n",
    " 0.04176388, 0.09383196, 0.07945567, 0.14401069, 0.1034272,  0.11883343,\n",
    " 0.08160861,0.11725796,0.10158504,0.12221902,\n",
    "],\n",
    "\n",
    "    'ncpi0': [0, 0.09882663, 0.18763546, 0.05706328, 0.0360522,  0.06301856,\n",
    " 0.10416693, 0.04895403, 0.03464493, 0.07523434, 0.05874881, 0.02683672,\n",
    " 0.02940983, 0.0624202,  0.07149102, 0.13125437, 0.11695622, 0.19981863,\n",
    " 0.30545354, 0.16143183, 0.21489781, 0.28976165,],\n",
    "\n",
    "    'ccpi0': [0, 0.09882663, 0.18763546, 0.05706328, 0.0360522,  0.06301856,\n",
    " 0.10416693, 0.04895403, 0.03464493, 0.07523434, 0.05874881, 0.02683672,\n",
    " 0.02940983, 0.0624202,  0.07149102, 0.13125437, 0.11695622, 0.19981863,\n",
    " 0.30545354, 0.16143183, 0.21489781, 0.28976165,],\n",
    "\n",
    "}\n",
    "\n",
    "stage = 1\n",
    "no_leg = True\n",
    "# this_folder = ls.plots_path+'PELEE_far_sideband_unblinding/'\n",
    "# this_folder += 'with_pi0_scaling/'\n",
    "# this_folder += 'stage_{}/'.format(stage)\n",
    "# !mkdir -p $this_folder\n",
    "\n",
    "this_query = PRESQ_twoplus\n",
    "this_title = 'Two+ showers sideband\\n' + r'$\\nu_e$ preselection and N-showers contained >= 2' + '\\n' + r'$\\pi^0$ scaled by 0.759'\n",
    "\n",
    "VARIABLE, BINS, RANGE, XTIT = 'reco_e',22,(-0.05,2.15),r\"Reconstructed Energy [GeV]\"\n",
    "\n",
    "out = my_plotter.plot_variable(\n",
    "    VARIABLE,   \n",
    "    query=this_query,\n",
    "    kind=\"event_category\",\n",
    "    draw_sys=True,\n",
    "    detsys=detsys,\n",
    "    stacksort=3,\n",
    "    title=XTIT,\n",
    "    bins=int(BINS),\n",
    "    range=RANGE,\n",
    ")\n",
    "fig, ax1, ax2 = out[0:3]\n",
    "\n",
    "if no_leg:\n",
    "    ax1.legend().set_visible(False) \n",
    "else:\n",
    "    ax1.set_title(this_title, loc='left')\n",
    "    ax1.set_ylim(0, ax1.get_ylim()[1]*1.6)\n",
    "\n",
    "# ax1.set_yscale('log')\n",
    "plt.tight_layout()\n",
    "# save_path = this_folder+VARIABLE\n",
    "# if no_leg:\n",
    "#     save_path += '_noleg'\n",
    "#             fig.savefig(save_path + '.png', dpi=250)    \n",
    "#         fig.savefig(save_path + '.pdf')    \n",
    "#             plt.close()"
   ]
  },
  {
   "cell_type": "markdown",
   "metadata": {},
   "source": [
    "# Study Np selection on the 2+ shower sideband"
   ]
  },
  {
   "cell_type": "code",
   "execution_count": 39,
   "metadata": {},
   "outputs": [],
   "source": [
    "no_data = False\n",
    "no_leg = False"
   ]
  },
  {
   "cell_type": "code",
   "execution_count": 40,
   "metadata": {},
   "outputs": [],
   "source": [
    "variables_set = []\n",
    "variables_set.append('insensitive_variables')\n",
    "variables_set.append('input_bdt')\n",
    "variables_set.append('bdt_scores')"
   ]
  },
  {
   "cell_type": "code",
   "execution_count": 43,
   "metadata": {},
   "outputs": [
    {
     "name": "stdout",
     "output_type": "stream",
     "text": [
      "insensitive_variables\n",
      "n_showers_contained 10 (-0.5, 9.5) n showers contained\n",
      "Error calculating the significance operands could not be broadcast together with shapes (10,) (8,) (10,) \n",
      "n_tracks_contained 6 (-0.5, 5.5) n tracks contained\n",
      "Error calculating the significance operands could not be broadcast together with shapes (6,) (5,) (6,) \n",
      "trk_score 20 (0.5, 1.0) trk score\n",
      "slclustfrac 20 (0, 1) slice clustered fraction\n",
      "Error calculating the significance operands could not be broadcast together with shapes (20,) (16,) (20,) \n",
      "reco_nu_vtx_x 20 (0, 260) x\n",
      "Error calculating the significance operands could not be broadcast together with shapes (20,) (19,) (20,) \n",
      "reco_nu_vtx_y 20 (-120, 120) y\n",
      "Error calculating the significance operands could not be broadcast together with shapes (20,) (18,) (20,) \n",
      "reco_nu_vtx_z 20 (0, 1100) z\n",
      "Error calculating the significance operands could not be broadcast together with shapes (20,) (18,) (20,) \n",
      "input_bdt\n",
      "tksh_angle 20 (-1, 1) cos(tksh angle)\n",
      "trkfit 9 (0, 0.5) Fraction of Track-fitted points\n",
      "shrmoliereavg 20 (0, 50) average Moliere angle [degrees]\n",
      "tksh_distance 20 (0, 30) tksh distance [cm]\n",
      "shr_tkfit_dedx_max 15 (0, 10) shr tkfit dE/dx (max, 0-4 cm) [MeV/cm]\n",
      "trkpid 21 (-1, 1) track LLR PID\n",
      "shr_energy_tot_cali 20 (0, 1) shr energy (calibrated) [GeV]\n",
      "Error calculating the significance operands could not be broadcast together with shapes (20,) (19,) (20,) \n",
      "shr_tkfit_nhits_tot 20 (0, 20) shr tkfit nhits (tot, 0-4 cm) [MeV/cm]\n",
      "Error calculating the significance operands could not be broadcast together with shapes (20,) (19,) (20,) \n",
      "bdt_scores\n",
      "nonpi0_score 10 (0, 1.0) BDT non-$\\pi^0$ score\n",
      "pi0_score 10 (0, 1.0) BDT $\\pi^0$ score\n",
      "reco_e 22 (-0.05, 2.15) Reconstructed Energy [GeV]\n",
      "Error calculating the significance operands could not be broadcast together with shapes (22,) (10,) (22,) \n",
      "insensitive_variables\n",
      "n_showers_contained 10 (-0.5, 9.5) n showers contained\n",
      "Error calculating the significance operands could not be broadcast together with shapes (10,) (8,) (10,) \n",
      "n_tracks_contained 6 (-0.5, 5.5) n tracks contained\n",
      "Error calculating the significance operands could not be broadcast together with shapes (6,) (5,) (6,) \n",
      "trk_score 20 (0.5, 1.0) trk score\n",
      "slclustfrac 20 (0, 1) slice clustered fraction\n",
      "Error calculating the significance operands could not be broadcast together with shapes (20,) (19,) (20,) \n",
      "reco_nu_vtx_x 20 (0, 260) x\n",
      "Error calculating the significance operands could not be broadcast together with shapes (20,) (19,) (20,) \n",
      "reco_nu_vtx_y 20 (-120, 120) y\n",
      "Error calculating the significance operands could not be broadcast together with shapes (20,) (18,) (20,) \n",
      "reco_nu_vtx_z 20 (0, 1100) z\n",
      "Error calculating the significance operands could not be broadcast together with shapes (20,) (18,) (20,) \n",
      "input_bdt\n",
      "tksh_angle 20 (-1, 1) cos(tksh angle)\n",
      "trkfit 9 (0, 0.5) Fraction of Track-fitted points\n",
      "shrmoliereavg 20 (0, 50) average Moliere angle [degrees]\n",
      "tksh_distance 20 (0, 30) tksh distance [cm]\n",
      "shr_tkfit_dedx_max 15 (0, 10) shr tkfit dE/dx (max, 0-4 cm) [MeV/cm]\n",
      "trkpid 21 (-1, 1) track LLR PID\n",
      "shr_energy_tot_cali 20 (0, 1) shr energy (calibrated) [GeV]\n",
      "Error calculating the significance operands could not be broadcast together with shapes (20,) (19,) (20,) \n",
      "shr_tkfit_nhits_tot 20 (0, 20) shr tkfit nhits (tot, 0-4 cm) [MeV/cm]\n",
      "Error calculating the significance operands could not be broadcast together with shapes (20,) (19,) (20,) \n",
      "bdt_scores\n",
      "nonpi0_score 10 (0, 1.0) BDT non-$\\pi^0$ score\n",
      "Error calculating the significance operands could not be broadcast together with shapes (10,) (2,) (10,) \n",
      "pi0_score 10 (0, 1.0) BDT $\\pi^0$ score\n",
      "Error calculating the significance operands could not be broadcast together with shapes (10,) (3,) (10,) \n",
      "reco_e 22 (-0.05, 2.15) Reconstructed Energy [GeV]\n",
      "Error calculating the significance operands could not be broadcast together with shapes (22,) (21,) (22,) \n",
      "insensitive_variables\n",
      "n_showers_contained 10 (-0.5, 9.5) n showers contained\n",
      "Error calculating the significance operands could not be broadcast together with shapes (10,) (8,) (10,) \n",
      "n_tracks_contained 6 (-0.5, 5.5) n tracks contained\n",
      "Error calculating the significance operands could not be broadcast together with shapes (6,) (5,) (6,) \n",
      "trk_score 20 (0.5, 1.0) trk score\n",
      "slclustfrac 20 (0, 1) slice clustered fraction\n",
      "Error calculating the significance operands could not be broadcast together with shapes (20,) (14,) (20,) \n"
     ]
    },
    {
     "name": "stderr",
     "output_type": "stream",
     "text": [
      "/home/nic/Dropbox/MicroBooNE/PELEE/plotter.py:251: RuntimeWarning: divide by zero encountered in true_divide\n",
      "  return sum(num / den) / np.count_nonzero(data)\n"
     ]
    },
    {
     "name": "stdout",
     "output_type": "stream",
     "text": [
      "reco_nu_vtx_x 20 (0, 260) x\n",
      "Error calculating the significance operands could not be broadcast together with shapes (20,) (19,) (20,) \n",
      "reco_nu_vtx_y 20 (-120, 120) y\n",
      "Error calculating the significance operands could not be broadcast together with shapes (20,) (18,) (20,) \n",
      "reco_nu_vtx_z 20 (0, 1100) z\n",
      "Error calculating the significance operands could not be broadcast together with shapes (20,) (18,) (20,) \n",
      "input_bdt\n",
      "tksh_angle 20 (-1, 1) cos(tksh angle)\n",
      "Error calculating the significance operands could not be broadcast together with shapes (20,) (19,) (20,) \n",
      "trkfit 9 (0, 0.5) Fraction of Track-fitted points\n",
      "shrmoliereavg 20 (0, 50) average Moliere angle [degrees]\n",
      "tksh_distance 20 (0, 30) tksh distance [cm]\n",
      "Error calculating the significance operands could not be broadcast together with shapes (20,) (7,) (20,) \n",
      "shr_tkfit_dedx_max 15 (0, 10) shr tkfit dE/dx (max, 0-4 cm) [MeV/cm]\n",
      "trkpid 21 (-1, 1) track LLR PID\n",
      "Error calculating the significance operands could not be broadcast together with shapes (21,) (14,) (21,) \n",
      "shr_energy_tot_cali 20 (0, 1) shr energy (calibrated) [GeV]\n",
      "Error calculating the significance operands could not be broadcast together with shapes (20,) (15,) (20,) \n",
      "shr_tkfit_nhits_tot 20 (0, 20) shr tkfit nhits (tot, 0-4 cm) [MeV/cm]\n",
      "Error calculating the significance operands could not be broadcast together with shapes (20,) (19,) (20,) \n",
      "bdt_scores\n",
      "nonpi0_score 10 (0, 1.0) BDT non-$\\pi^0$ score\n",
      "pi0_score 10 (0, 1.0) BDT $\\pi^0$ score\n",
      "reco_e 22 (-0.05, 2.15) Reconstructed Energy [GeV]\n",
      "Error calculating the significance operands could not be broadcast together with shapes (22,) (10,) (22,) \n"
     ]
    }
   ],
   "source": [
    "database_ylim = {}\n",
    "for stage in range(1, 4):        \n",
    "    for which_variables in variables_set:\n",
    "        this_folder = ls.plots_path+'PELEE_two_showers_sideband_unblinding/'\n",
    "        if no_data:\n",
    "            this_folder += 'dry_run/'\n",
    "        else:\n",
    "            this_folder += 'with_data/'\n",
    "        this_folder += 'stage_{}/'.format(stage)\n",
    "        this_folder += (which_variables + '/')\n",
    "        !mkdir -p $this_folder\n",
    "\n",
    "        this_query = stages_queries_two_plus_showers[stage]\n",
    "        this_title = 'Two+ showers sideband\\n' + r'$\\nu_e$ preselection and N-showers contained >= 2' + '\\n' + r'$\\pi^0$ scaled by 0.759' + '\\n' + stages_titles_two_plus_showers[stage]\n",
    "\n",
    "        if no_data:\n",
    "            this_query += ' and bnbdata==0'\n",
    "\n",
    "        print(which_variables)\n",
    "        this_plot_variables = plot_variables[which_variables]\n",
    "\n",
    "        for VARIABLE, BINS, RANGE, XTIT in this_plot_variables:\n",
    "            print(VARIABLE, BINS, RANGE, XTIT)\n",
    "            fig, ax1, ax2 = my_plotter.plot_variable(\n",
    "                VARIABLE,   \n",
    "                query=this_query,\n",
    "                kind=\"event_category\",\n",
    "                draw_sys=True,\n",
    "                stacksort=3,\n",
    "                title=XTIT,\n",
    "                bins=BINS,\n",
    "                range=RANGE,\n",
    "            )[0:3]\n",
    "\n",
    "            if no_leg:\n",
    "                ax1.legend().set_visible(False) \n",
    "            else:\n",
    "                ax1.set_title(this_title, loc='left')\n",
    "                ax1.set_ylim(0, ax1.get_ylim()[1]*1.6)\n",
    "\n",
    "            database_ylim[VARIABLE] = ax1.get_ylim()[1]\n",
    "            plt.tight_layout()\n",
    "            save_path = this_folder+VARIABLE\n",
    "            if no_leg:\n",
    "                save_path += '_noleg'\n",
    "            fig.savefig(save_path + '.png', dpi=250)    \n",
    "    #         fig.savefig(save_path + '.pdf')    \n",
    "            plt.close()"
   ]
  },
  {
   "cell_type": "code",
   "execution_count": null,
   "metadata": {},
   "outputs": [],
   "source": []
  }
 ],
 "metadata": {
  "accelerator": "GPU",
  "colab": {
   "name": "Plotter.ipynb",
   "provenance": [],
   "version": "0.3.2"
  },
  "kernelspec": {
   "display_name": "Python 3",
   "language": "python",
   "name": "python3"
  },
  "language_info": {
   "codemirror_mode": {
    "name": "ipython",
    "version": 3
   },
   "file_extension": ".py",
   "mimetype": "text/x-python",
   "name": "python",
   "nbconvert_exporter": "python",
   "pygments_lexer": "ipython3",
   "version": "3.7.7"
  }
 },
 "nbformat": 4,
 "nbformat_minor": 4
}
