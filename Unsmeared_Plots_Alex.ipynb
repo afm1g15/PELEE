{
 "cells": [
  {
   "cell_type": "code",
   "execution_count": 1,
   "id": "47ec4bfc",
   "metadata": {},
   "outputs": [
    {
     "name": "stdout",
     "output_type": "stream",
     "text": [
      "/home/alex/NuMI/PELEE/\n"
     ]
    }
   ],
   "source": [
    "import pandas as pd\n",
    "import matplotlib.pyplot as plt\n",
    "import matplotlib\n",
    "import sys\n",
    "import localSettings as ls\n",
    "import math\n",
    "print(ls.main_path)\n",
    "import load_data_run123\n",
    "import plotter_alex\n",
    "import importlib\n",
    "importlib.reload(plotter_alex)\n",
    "import uproot\n",
    "import matplotlib.pylab as pylab\n",
    "import numpy as np\n",
    "import math\n",
    "from sklearn.model_selection import train_test_split\n",
    "import pickle\n",
    "import xgboost as xgb\n",
    "import nue_booster \n",
    "importlib.reload(nue_booster)\n",
    "import awkward\n",
    "from matplotlib import gridspec\n",
    "from collections import defaultdict"
   ]
  },
  {
   "cell_type": "markdown",
   "id": "3e627bd5",
   "metadata": {},
   "source": [
    "## Nue - Energy"
   ]
  },
  {
   "cell_type": "markdown",
   "id": "2299f24d",
   "metadata": {},
   "source": [
    "## Closure Tests"
   ]
  },
  {
   "cell_type": "code",
   "execution_count": 7,
   "id": "51909e1f",
   "metadata": {
    "scrolled": false
   },
   "outputs": [
    {
     "name": "stdout",
     "output_type": "stream",
     "text": [
      "Unsmeared events\n",
      "[17.7078, 121.003, 94.563, 31.67, 17.8351, 8.17262, 3.10471, 2.33872, 1.04809, 0.188919]\n",
      "\n",
      "AC\n",
      "[[0.316697, 0.0633628, 0.00776675, 0.00919737, 0.0388004, -0.0500005, 0.00276438, 0.0190692, 0.00152222, -0.000247095], [0.0633628, 0.659323, 0.299923, 0.0970658, 0.044277, 0.0335142, 0.0209298, 0.00542919, -0.00399169, 8.32096e-05], [0.00776675, 0.299923, 0.542875, 0.0585564, 0.0515369, 0.0213399, 0.0106884, 0.00622372, -0.00134468, 0.00137975], [0.00919737, 0.0970658, 0.0585564, 0.328433, 0.0285729, 0.017419, -0.047092, 0.0217727, 0.011187, 0.000147802], [0.0388004, 0.044277, 0.0515369, 0.0285729, 0.345673, 0.00397818, -0.0237307, -0.0113776, 0.0223011, -0.00256249], [-0.0500005, 0.0335142, 0.0213399, 0.017419, 0.00397818, 0.287217, 0.0888467, -0.0930981, 0.0254438, -0.00217437], [0.00276438, 0.0209298, 0.0106884, -0.047092, -0.0237307, 0.0888467, 0.17945, -0.016843, 0.0675673, 0.00725375], [0.0190692, 0.00542919, 0.00622372, 0.0217727, -0.0113776, -0.0930981, -0.016843, 0.221903, 0.121799, 0.0161674], [0.00152222, -0.00399169, -0.00134468, 0.011187, 0.0223011, 0.0254438, 0.0675673, 0.121799, 0.134874, 0.0126985], [-0.000247095, 8.32096e-05, 0.00137975, 0.000147802, -0.00256249, -0.00217437, 0.00725375, 0.0161674, 0.0126985, 0.0500304]]\n",
      "\n",
      "Prior Truth: \n",
      "[25.54917280608046, 130.21068376262252, 95.89263235773399, 38.90477975269479, 14.758744741283635, 7.2941781118648805, 4.3541565868172825, 2.194123882714507, 1.0493314384792711, 0.3924979832486315]\n",
      "\n",
      "Prior TruthR: \n",
      "[25.549172806080534, 130.21068376262244, 95.89263235773504, 38.9047797526953, 14.758744741283127, 7.294178111863872, 4.354156586816934, 2.194123882714045, 1.0493314384793615, 0.39249798324879837]\n",
      "\n",
      "Errors: \n",
      "[4.45856, 29.144, 23.8172, 8.16978, 5.25591, 3.52909, 1.64013, 1.74662, 0.535106, 0.100411]\n",
      "\n"
     ]
    },
    {
     "data": {
      "text/plain": [
       "'\\n#----------------------------------------------------------------\\nwith open(\\'../stv-analysis-new/nue_unsmeared_unfolding_matrix_energy_MC_ONLY_weighted_last50.csv\\') as file:\\n    content = file.readlines()\\nUF = content[0:]\\n\\n    \\nfor i in range(100):\\n    UF[i]=UF[i].rstrip().rstrip(\\',\\')\\n    UF[i] = float(UF[i])\\n    \\n\\nUF_Total = [UF[x:x+10] for x in range(0, len(UF), 10)]\\nUF_Total = np.array(UF_Total)\\n\\nprint(\"Unfolding Matrix\")\\nprint(UF_Total)\\nprint(\"\")\\n#-----------------------------------------------------------\\nwith open(\\'nue_full_500_catsel_nopions_recoE_usingSelection_smearcept_weighted_recoCut.csv\\') as file:\\n    content = file.readlines()\\nUF = content[0:]\\n    \\nfor i in range(10):\\n    #UF[i]=UF[i].rstrip().rstrip(\\',\\')\\n    UF[i] = UF[i].split(\",\")\\n    \\nfor i in range(10):\\n    for j in range(10):\\n        UF[i][j] = float(UF[i][j])\\n    \\nUF = np.array(UF)\\nprint(\"smearcept\")\\nprint((UF) )\\n\\n#chunks = [UF[x:x+10] for x in range(0, len(UF), 10)]\\n\\n#print(chunks)\\n#print(\"\")\\n#-----------------------------------------------------------\\n\\nprint(\"Inversion-------------------------------------\")\\ntest_inversion = np.matmul(UF_Total, UF)\\nprint(test_inversion)\\nprint(\"\")\\nprint(test_inversion - chunks)\\n'"
      ]
     },
     "execution_count": 7,
     "metadata": {},
     "output_type": "execute_result"
    }
   ],
   "source": [
    "##5GEV\n",
    "\n",
    "with open('../stv-analysis-new/nue_unsmeared_events_energy_MC_ONLY_weighted_recoCut_incErr_KatrinaCodeMost.csv') as file:\n",
    "    content = file.readlines()\n",
    "events = content[0:]\n",
    "    \n",
    "for i in range(10):\n",
    "    events[i]=events[i].rstrip().rstrip(',')\n",
    "    events[i] = float(events[i])\n",
    "    \n",
    "print(\"Unsmeared events\")\n",
    "print(events)\n",
    "print(\"\")\n",
    "\n",
    "#------------------------------------------------------------------------------\n",
    "with open('../stv-analysis-new/nue_unsmeared_AC_energy_MC_ONLY_weighted_recoCut_incErr_KatrinaCodeMost.csv') as file:\n",
    "    content = file.readlines()\n",
    "AC = content[0:]\n",
    "    \n",
    "for i in range(100):\n",
    "    AC[i]=AC[i].rstrip().rstrip(',')\n",
    "    AC[i] = float(AC[i])\n",
    "    \n",
    "\n",
    "chunks = [AC[x:x+10] for x in range(0, len(AC), 10)]\n",
    "\n",
    "print(\"AC\")\n",
    "print(chunks)\n",
    "print(\"\")\n",
    "#-----------------------------------------------------------\n",
    "\n",
    "with open('../KatrinaCode/uBNuMI_CC1eNp/nue_full_500_catsel_nopions_recoE_usingSelection_prior_true_signal_recoCut_KatrinaCode.csv') as file:\n",
    "    content = file.readlines()\n",
    "prior_true = content[0:]\n",
    "    \n",
    "for i in range(10):\n",
    "    prior_true[i]=prior_true[i].rstrip().rstrip(',')\n",
    "    prior_true[i] = float(prior_true[i])\n",
    "    \n",
    "print(\"Prior Truth: \")\n",
    "print(prior_true)\n",
    "print(\"\")\n",
    "\n",
    "#---------------------------------------------------------------\n",
    "\n",
    "with open('nue_full_500_catsel_nopions_recoE_usingSelection_prior_true_signal_recoCut_redo.csv') as file:\n",
    "    content = file.readlines()\n",
    "prior_trueR = content[0:]\n",
    "    \n",
    "for i in range(10):\n",
    "    prior_trueR[i]=prior_trueR[i].rstrip().rstrip(',')\n",
    "    prior_trueR[i] = float(prior_trueR[i])\n",
    "    \n",
    "print(\"Prior TruthR: \")\n",
    "print(prior_trueR)\n",
    "print(\"\")\n",
    "\n",
    "#----------------------------------------------------------------\n",
    "with open('../stv-analysis-new/nue_unsmeared_errors_energy_MC_ONLY_weighted_recoCut_incErr_KatrinaCodeMost.csv') as file:\n",
    "    content = file.readlines()\n",
    "errs = content[0:]\n",
    "    \n",
    "for i in range(10):\n",
    "    errs[i]=errs[i].rstrip().rstrip(',')\n",
    "    errs[i] = float(errs[i])\n",
    "    \n",
    "print(\"Errors: \")\n",
    "print(errs)\n",
    "print(\"\")\n",
    "\"\"\"\n",
    "#----------------------------------------------------------------\n",
    "with open('../stv-analysis-new/nue_unsmeared_unfolding_matrix_energy_MC_ONLY_weighted_last50.csv') as file:\n",
    "    content = file.readlines()\n",
    "UF = content[0:]\n",
    "\n",
    "    \n",
    "for i in range(100):\n",
    "    UF[i]=UF[i].rstrip().rstrip(',')\n",
    "    UF[i] = float(UF[i])\n",
    "    \n",
    "\n",
    "UF_Total = [UF[x:x+10] for x in range(0, len(UF), 10)]\n",
    "UF_Total = np.array(UF_Total)\n",
    "\n",
    "print(\"Unfolding Matrix\")\n",
    "print(UF_Total)\n",
    "print(\"\")\n",
    "#-----------------------------------------------------------\n",
    "with open('nue_full_500_catsel_nopions_recoE_usingSelection_smearcept_weighted_recoCut.csv') as file:\n",
    "    content = file.readlines()\n",
    "UF = content[0:]\n",
    "    \n",
    "for i in range(10):\n",
    "    #UF[i]=UF[i].rstrip().rstrip(',')\n",
    "    UF[i] = UF[i].split(\",\")\n",
    "    \n",
    "for i in range(10):\n",
    "    for j in range(10):\n",
    "        UF[i][j] = float(UF[i][j])\n",
    "    \n",
    "UF = np.array(UF)\n",
    "print(\"smearcept\")\n",
    "print((UF) )\n",
    "\n",
    "#chunks = [UF[x:x+10] for x in range(0, len(UF), 10)]\n",
    "\n",
    "#print(chunks)\n",
    "#print(\"\")\n",
    "#-----------------------------------------------------------\n",
    "\n",
    "print(\"Inversion-------------------------------------\")\n",
    "test_inversion = np.matmul(UF_Total, UF)\n",
    "print(test_inversion)\n",
    "print(\"\")\n",
    "print(test_inversion - chunks)\n",
    "\"\"\""
   ]
  },
  {
   "cell_type": "code",
   "execution_count": 12,
   "id": "251a0c11",
   "metadata": {},
   "outputs": [
    {
     "name": "stdout",
     "output_type": "stream",
     "text": [
      "Prior Truth: \n",
      "[25.54917280608046, 130.21068376262252, 95.89263235773399, 38.90477975269479, 14.758744741283635, 7.2941781118648805, 4.3541565868172825, 2.194123882714507, 1.0493314384792711, 0.3924979832486315]\n",
      "\n",
      "Prior TruthR: \n",
      "[25.549172806080534, 130.21068376262244, 95.89263235773504, 38.9047797526953, 14.758744741283127, 7.294178111863872, 4.354156586816934, 2.194123882714045, 1.0493314384793615, 0.39249798324879837]\n",
      "\n",
      "[-7.46069873e-14  8.52651283e-14 -1.05160325e-12 -5.04485342e-13\n",
      "  5.08038056e-13  1.00808251e-12  3.48165941e-13  4.62296867e-13\n",
      " -9.03721542e-14 -1.66866521e-13]\n",
      "\n",
      "Prior Truth: \n",
      "[10.449224082883894, 31.07824843641852, 11.142672536096214, 2.720818215556072, 1.0626423447465783, 0.3260199536176387, 0.13695140777043235, 0.05996597199136744, 0.00951532358448759, 0.009656953466503637]\n",
      "\n",
      "Prior TruthR: \n",
      "[10.449224075510086, 31.078248422265883, 11.142672530720944, 2.7208182211142926, 1.0626423368548643, 0.3260199520259164, 0.13695140632728453, 0.0804829838961254, 0.020303320127453617, 0.02014767711723664]\n",
      "\n",
      "\n",
      "[ 7.37380823e-09  1.41526364e-08  5.37527001e-09 -5.55822055e-09\n",
      "  7.89171395e-09  1.59172231e-09  1.44314782e-09 -2.05170119e-02\n",
      " -1.07879965e-02 -1.04907237e-02]\n",
      "\n"
     ]
    }
   ],
   "source": [
    "with open('../KatrinaCode/uBNuMI_CC1eNp/nue_full_500_catsel_nopions_recoE_usingSelection_prior_true_signal_recoCut_KatrinaCode.csv') as file:\n",
    "    content = file.readlines()\n",
    "prior_true = content[0:]\n",
    "    \n",
    "for i in range(10):\n",
    "    prior_true[i]=prior_true[i].rstrip().rstrip(',')\n",
    "    prior_true[i] = float(prior_true[i])\n",
    "    \n",
    "print(\"Prior Truth: \")\n",
    "print(prior_true)\n",
    "print(\"\")\n",
    "\n",
    "#---------------------------------------------------------------\n",
    "\n",
    "with open('nue_full_500_catsel_nopions_recoE_usingSelection_prior_true_signal_recoCut_redo.csv') as file:\n",
    "    content = file.readlines()\n",
    "prior_trueR = content[0:]\n",
    "    \n",
    "for i in range(10):\n",
    "    prior_trueR[i]=prior_trueR[i].rstrip().rstrip(',')\n",
    "    prior_trueR[i] = float(prior_trueR[i])\n",
    "    \n",
    "print(\"Prior TruthR: \")\n",
    "print(prior_trueR)\n",
    "print(\"\")\n",
    "print(np.array(prior_true) - np.array(prior_trueR))\n",
    "print(\"\")\n",
    "#------------------------------------------------------------------\n",
    "with open('../KatrinaCode/uBNuMI_CC1eNp/nue_full_500_catsel_nopions_recoE_usingSelection_data_signal_MCONLY_recoCut_KatrinaCode.csv') as file:\n",
    "    content = file.readlines()\n",
    "prior_true = content[0:]\n",
    "    \n",
    "for i in range(10):\n",
    "    prior_true[i]=prior_true[i].rstrip().rstrip(',')\n",
    "    prior_true[i] = float(prior_true[i])\n",
    "    \n",
    "print(\"Prior Truth: \")\n",
    "print(prior_true)\n",
    "print(\"\")\n",
    "\n",
    "#---------------------------------------------------------------\n",
    "\n",
    "with open('nue_full_500_catsel_nopions_recoE_usingSelection_data_signal_MCONLY_recoCut_redo.csv') as file:\n",
    "    content = file.readlines()\n",
    "prior_trueR = content[0:]\n",
    "    \n",
    "for i in range(10):\n",
    "    prior_trueR[i]=prior_trueR[i].rstrip().rstrip(',')\n",
    "    prior_trueR[i] = float(prior_trueR[i])\n",
    "    \n",
    "print(\"Prior TruthR: \")\n",
    "print(prior_trueR)\n",
    "print(\"\")\n",
    "print(\"\")\n",
    "print(np.array(prior_true) - np.array(prior_trueR))\n",
    "print(\"\")\n",
    "#------------------------------------------------------------------"
   ]
  },
  {
   "cell_type": "code",
   "execution_count": 6,
   "id": "1292520f",
   "metadata": {},
   "outputs": [
    {
     "name": "stdout",
     "output_type": "stream",
     "text": [
      "Unsmeared events\n",
      "[17.8911, 122.279, 93.0332, 32.4452, 15.4773, 12.5522]\n",
      "\n",
      "AC\n",
      "[[0.421553, 0.0857846, -0.0240951, -0.0585967, 0.0667111, -0.00764192], [0.0857846, 0.686516, 0.314422, 0.0145246, 0.00815144, -0.00841426], [-0.0240951, 0.314422, 0.483442, 0.173316, -0.0455109, 0.0489908], [-0.0585967, 0.0145246, 0.173316, 0.350149, 0.163496, -0.0541709], [0.0667111, 0.00815144, -0.0455109, 0.163496, 0.663271, 0.128137], [-0.00764192, -0.00841426, 0.0489908, -0.0541709, 0.128137, 0.682772]]\n",
      "\n",
      "Prior Truth: \n",
      "[25.549172806080534, 130.18625079127702, 95.88034070451997, 38.87422479404403, 14.701349916821975, 7.079151371318975]\n",
      "\n",
      "Errors: \n",
      "[4.95945, 29.4688, 22.9155, 8.37534, 5.12676, 4.84189]\n",
      "\n"
     ]
    }
   ],
   "source": [
    "##3GEV\n",
    "\n",
    "with open('../stv-analysis-new/nue_unsmeared_events_energy_MC_ONLY_weighted_recoCut_incErr_3GeV.csv') as file:\n",
    "    content = file.readlines()\n",
    "events = content[0:]\n",
    "    \n",
    "for i in range(6):\n",
    "    events[i]=events[i].rstrip().rstrip(',')\n",
    "    events[i] = float(events[i])\n",
    "    \n",
    "print(\"Unsmeared events\")\n",
    "print(events)\n",
    "print(\"\")\n",
    "\n",
    "#------------------------------------------------------------------------------\n",
    "with open('../stv-analysis-new/nue_unsmeared_AC_energy_MC_ONLY_weighted_recoCut_incErr_3GeV.csv') as file:\n",
    "    content = file.readlines()\n",
    "AC = content[0:]\n",
    "    \n",
    "for i in range(36):\n",
    "    AC[i]=AC[i].rstrip().rstrip(',')\n",
    "    AC[i] = float(AC[i])\n",
    "    \n",
    "\n",
    "chunks = [AC[x:x+6] for x in range(0, len(AC), 6)]\n",
    "\n",
    "print(\"AC\")\n",
    "print(chunks)\n",
    "print(\"\")\n",
    "#-----------------------------------------------------------\n",
    "\n",
    "with open('nue_full_500_catsel_nopions_recoE_usingSelection_prior_true_signal_recoCut_3GeV.csv') as file:\n",
    "    content = file.readlines()\n",
    "prior_true = content[0:]\n",
    "    \n",
    "for i in range(6):\n",
    "    prior_true[i]=prior_true[i].rstrip().rstrip(',')\n",
    "    prior_true[i] = float(prior_true[i])\n",
    "    \n",
    "print(\"Prior Truth: \")\n",
    "print(prior_true)\n",
    "print(\"\")\n",
    "\n",
    "#----------------------------------------------------------------\n",
    "with open('../stv-analysis-new/nue_unsmeared_errors_energy_MC_ONLY_weighted_recoCut_incErr_3GeV.csv') as file:\n",
    "    content = file.readlines()\n",
    "errs = content[0:]\n",
    "    \n",
    "for i in range(6):\n",
    "    errs[i]=errs[i].rstrip().rstrip(',')\n",
    "    errs[i] = float(errs[i])\n",
    "    \n",
    "print(\"Errors: \")\n",
    "print(errs)\n",
    "print(\"\")"
   ]
  },
  {
   "cell_type": "code",
   "execution_count": 5,
   "id": "9a125064",
   "metadata": {},
   "outputs": [
    {
     "name": "stdout",
     "output_type": "stream",
     "text": [
      "Prior_Truth x AC: \n",
      "[ 17.70776536 121.0033148   94.56305168  31.67001062  17.83510951\n",
      "   8.17261115   3.10471977   2.33871741   1.04809386   0.1889194 ]\n",
      "\n",
      "\n",
      "Unfolding Done with MC Data Signal: \n",
      "[17.7078, 121.003, 94.563, 31.67, 17.8351, 8.17262, 3.10471, 2.33872, 1.04809, 0.188919]\n",
      "\n",
      "\n",
      "Difference\n",
      "[-3.46438797e-05  3.14802999e-04  5.16777382e-05  1.06173794e-05\n",
      "  9.50547337e-06 -8.85266859e-06  9.77083151e-06 -2.59289082e-06\n",
      "  3.85838050e-06  4.00112175e-07]\n",
      "\n",
      "[-1.95642302e-04  2.60160641e-04  5.46489747e-05  3.35250264e-05\n",
      "  5.32964116e-05 -1.08321177e-04  3.14708967e-04 -1.10868068e-04\n",
      "  3.68133108e-04  2.11789882e-04]\n"
     ]
    }
   ],
   "source": [
    "made_data_sig = np.dot(chunks, prior_true)\n",
    "print(\"Prior_Truth x AC: \")\n",
    "print(made_data_sig)\n",
    "print(\"\")\n",
    "print(\"\")\n",
    "print(\"Unfolding Done with MC Data Signal: \")\n",
    "print(events)\n",
    "print(\"\")\n",
    "\n",
    "diff = made_data_sig - events\n",
    "print(\"\")\n",
    "print(\"Difference\")\n",
    "print(diff)\n",
    "\n",
    "#for i in made_data_sig:\n",
    "#    print(i)\n",
    "\n",
    "print(\"\")\n",
    "diffasfrac = diff/made_data_sig\n",
    "print(diffasfrac*100)"
   ]
  },
  {
   "cell_type": "code",
   "execution_count": 6,
   "id": "fa105ffc",
   "metadata": {},
   "outputs": [
    {
     "data": {
      "image/png": "[encoded data removed]",
      "text/plain": [
       "<Figure size 432x288 with 1 Axes>"
      ]
     },
     "metadata": {
      "needs_background": "light"
     },
     "output_type": "display_data"
    },
    {
     "data": {
      "image/png": "[encoded data removed]",
      "text/plain": [
       "<Figure size 432x288 with 1 Axes>"
      ]
     },
     "metadata": {
      "needs_background": "light"
     },
     "output_type": "display_data"
    },
    {
     "data": {
      "image/png": "[encoded data removed]",
      "text/plain": [
       "<Figure size 432x288 with 1 Axes>"
      ]
     },
     "metadata": {
      "needs_background": "light"
     },
     "output_type": "display_data"
    }
   ],
   "source": [
    "import random\n",
    "import numpy\n",
    "from matplotlib import pyplot\n",
    "\n",
    "bins = np.arange(0, 5.5, 0.5)\n",
    "count = [0.1, 0.6, 1.1, 1.6, 2.1, 2.6, 3.1, 3.6, 4.1, 4.6]\n",
    "#count = [0.1, 0.6, 1.1, 1.6, 2.1, 2.6]\n",
    "\n",
    "pyplot.hist(count, bins, weights=made_data_sig, alpha=0.5, label='Prior_Truth x AC')\n",
    "pyplot.hist(count, bins, weights=events, alpha=0.5, label='Unfolding Done with MC Data Signal')\n",
    "pyplot.legend(loc='upper right')\n",
    "pyplot.show()\n",
    "\n",
    "pyplot.hist(count, bins, weights=diff, alpha=0.5, label='Difference')\n",
    "pyplot.legend(loc='upper right')\n",
    "pyplot.show()\n",
    "\n",
    "\n",
    "pyplot.hist(count, bins, weights=diffasfrac, alpha=0.5, label='Fractional Difference')\n",
    "pyplot.legend(loc='upper right')\n",
    "pyplot.show()"
   ]
  },
  {
   "cell_type": "code",
   "execution_count": 47,
   "id": "c9b588bd",
   "metadata": {},
   "outputs": [],
   "source": [
    "#FIRST 20\n",
    "diff20 = [0.08709344, 0.70815756, 0.4920871, 0.1285878, 0.13207207, 0.08872457, -0.03538738, 0.02366605, 0.00384698,  0.00310249]\n",
    "fracdiff20 = [ 1.70225605, 3.03303401, 2.64546074, 2.41259794, 3.45179783, 4.44390654, 11.97415342, 4.69015356, 4.12192291, 6.0374116 ]\n",
    "\n",
    "#FIRST 50\n",
    "diff50 = [-0.02566664, -0.57251386, -0.71713231, 1.29042666, -2.0881748, 2.02463519, 1.20301128, -1.12143941, -0.00936788, -0.0184936 ]\n",
    "fracdiff50 = [ -0.28384884, -0.93284341, -1.69676953,  8.33618287, -27.26366771, 39.20539321, -69.56602203, -48.29563491, -3.1047611, -13.20580659]\n",
    "\n",
    "#FIRST 80\n",
    "diff80 = [-0.46890171, 0.02157758, -0.11172548, 0.94767954, -0.95701559, 0.56962462, 1.29848004, -0.73518198, -0.01458795, -0.01744902]\n",
    "fracdiff80 = [-3.31810814e+00,  2.20115692e-02, -1.54206051e-01, 3.62144051e+00, -7.10738649e+00, 1.04116244e+01, 4.71701136e+01, -3.70343007e+01, -3.14850688e+00, -9.14408546e+00]\n",
    "\n",
    "#FIRST 100\n",
    "diff100 = [-0.20654885, 0.10235564, 0.06945382, -0.17804887, -0.39653147, 1.07305231, 0.55832717, -0.82731806, -0.21668303, -0.05513937]\n",
    "fracdiff100 = [ -1.16643186, 0.08458909, 0.07344725,  -0.56220483, -2.22329967, 13.1292144, 17.98156766, -35.37539865, -20.67769673, -29.18560149]"
   ]
  },
  {
   "cell_type": "code",
   "execution_count": 60,
   "id": "71edc8fc",
   "metadata": {},
   "outputs": [
    {
     "data": {
      "image/png": "[encoded data removed]",
      "text/plain": [
       "<Figure size 432x288 with 1 Axes>"
      ]
     },
     "metadata": {
      "needs_background": "light"
     },
     "output_type": "display_data"
    },
    {
     "data": {
      "image/png": "[encoded data removed]",
      "text/plain": [
       "<Figure size 432x288 with 1 Axes>"
      ]
     },
     "metadata": {
      "needs_background": "light"
     },
     "output_type": "display_data"
    }
   ],
   "source": [
    "import random\n",
    "import numpy\n",
    "from matplotlib import pyplot\n",
    "\n",
    "bins = np.arange(0, 5.5, 0.5)\n",
    "count = [0.1, 0.6, 1.1, 1.6, 2.1, 2.6, 3.1, 3.6, 4.1, 4.6]\n",
    "#count = [0.1, 0.6, 1.1, 1.6, 2.1, 2.6]\n",
    "\n",
    "pyplot.hist(count, bins, weights=diff20, color=\"white\", alpha=0.5, label='20%', edgecolor='green')\n",
    "pyplot.hist(count, bins, weights=diff50, color=\"white\", alpha=0.5, label='50%', edgecolor='blue')\n",
    "pyplot.hist(count, bins, weights=diff80, color=\"white\", alpha=0.5, label='80%', edgecolor='red')\n",
    "pyplot.hist(count, bins, weights=diff100, color=\"white\", alpha=0.5, label='100%', edgecolor='purple')\n",
    "pyplot.legend(loc='upper right')\n",
    "pyplot.title(\"Absolute Diff\")\n",
    "pyplot.ylabel(\"Diff\")\n",
    "pyplot.show()\n",
    "\n",
    "pyplot.hist(count, bins, weights=fracdiff20, color=\"green\", alpha=0.5, label='20%', edgecolor='green')\n",
    "pyplot.hist(count, bins, weights=fracdiff50, color=\"blue\", alpha=0.5, label='50%', edgecolor='blue')\n",
    "pyplot.hist(count, bins, weights=fracdiff80, color=\"red\", alpha=0.5, label='80%', edgecolor='red')\n",
    "pyplot.hist(count, bins, weights=fracdiff100, color=\"purple\", alpha=0.5, label='100%', edgecolor='purple')\n",
    "pyplot.legend(loc='upper right')\n",
    "pyplot.title(\"Fractional Diff\")\n",
    "pyplot.xlabel(\"True Nu Energy (GeV)\")\n",
    "pyplot.ylabel(\"Diff (%)\")\n",
    "pyplot.show()"
   ]
  },
  {
   "cell_type": "code",
   "execution_count": 29,
   "id": "c7b9643b",
   "metadata": {},
   "outputs": [
    {
     "name": "stdout",
     "output_type": "stream",
     "text": [
      "\n",
      "Making ratio plot.\n",
      "count,  [0.1, 0.6, 1.1, 1.6, 2.1, 2.6, 3.1, 3.6, 4.1, 4.6]\n",
      "bins,  [0.  0.5 1.  1.5 2.  2.5 3.  3.5 4.  4.5 5. ]\n",
      "Weights,  [21.378, 140.747, 109.415, 36.0535, 20.9372, 7.6931, 2.65494, 3.81845, 1.59829, 0.322223]\n",
      "\n"
     ]
    },
    {
     "name": "stderr",
     "output_type": "stream",
     "text": [
      "/tmp/ipykernel_69028/1396007662.py:4: MatplotlibDeprecationWarning: Adding an axes using the same arguments as a previous axes currently reuses the earlier instance.  In a future version, a new instance will always be created and returned.  Meanwhile, this warning can be suppressed, and the future behavior ensured, by passing a unique label to each axes instance.\n",
      "  ratio_ax2 = plt.subplot(ratio_gs[0])\n"
     ]
    },
    {
     "data": {
      "text/plain": [
       "Text(0.5, 1.0, 'Unsmeared Plot - Nue Energy Differences')"
      ]
     },
     "execution_count": 29,
     "metadata": {},
     "output_type": "execute_result"
    },
    {
     "data": {
      "image/png": "[encoded data removed]",
      "text/plain": [
       "<Figure size 576x504 with 1 Axes>"
      ]
     },
     "metadata": {
      "needs_background": "light"
     },
     "output_type": "display_data"
    }
   ],
   "source": [
    "ratio_fig = plt.figure(figsize=(8, 7))\n",
    "ratio_gs = gridspec.GridSpec(2, 1, height_ratios=[2, 1])\n",
    "ratio_ax1 = plt.subplot(ratio_gs[0])\n",
    "ratio_ax2 = plt.subplot(ratio_gs[0])\n",
    "\n",
    "bins = np.arange(0, 5.5, 0.5)\n",
    "count = [0.1, 0.6, 1.1, 1.6, 2.1, 2.6, 3.1, 3.6, 4.1, 4.6]\n",
    "#count = [0.1, 0.6, 1.1, 1.6, 2.1, 2.6]\n",
    "weights = []\n",
    "for i in range(len(count)):\n",
    "    weight = count[i]*events[i]\n",
    "    weights.append(weight)\n",
    "\n",
    "print(\"\")\n",
    "print(\"Making ratio plot.\")\n",
    "print(\"count, \", count)\n",
    "print(\"bins, \", bins)\n",
    "print(\"Weights, \", events)\n",
    "print(\"\")\n",
    "\n",
    "#sel = ratio_ax1.hist(count, bins, color='deepskyblue', weights=made_data_sig, alpha=0.8, label='Prior_Truth x AC')\n",
    "#sel2 = ratio_ax2.hist(count, bins, color='red', weights=events, alpha=0.5, label='Unfolding Done with MC Data Signal')\n",
    "sel2 = ratio_ax2.hist(count, bins, color='red', weights=diff, alpha=0.5, label='Unfolding Done with MC Data Signal')\n",
    "ratio_ax1.set_ylabel('Counts', fontsize=15)\n",
    "ratio_ax1.set_xlabel('True Nue Energy [GeV]', fontsize=15)\n",
    "ratio_ax1.set_title(\"Unsmeared Plot - Nue Energy Differences\")"
   ]
  },
  {
   "cell_type": "code",
   "execution_count": 14,
   "id": "78e0366c",
   "metadata": {},
   "outputs": [
    {
     "data": {
      "text/plain": [
       "(0, 3)"
      ]
     },
     "execution_count": 14,
     "metadata": {},
     "output_type": "execute_result"
    }
   ],
   "source": [
    "bincenters = np.arange(0.25, 3.25, 0.5)\n",
    "bin_edges = np.arange(0, 3.5, 0.5)\n",
    "bin_size = [(bin_edges[i + 1] - bin_edges[i]) / 2\n",
    "            for i in range(len(bin_edges) - 1)]\n",
    "n_tot = np.array(events)\n",
    "\n",
    "#ratio_ax1.bar(bincenters, np.array(errs)*2,width=[n*2 for n in bin_size],facecolor='tab:green',alpha=0.2,bottom=(np.array(events)-np.array(errs)))\n",
    "ratio_ax1.bar(bincenters, np.array(errs)*2,width=[n*2 for n in bin_size],facecolor='tab:green',alpha=0.2,bottom=(np.array(diff)-np.array(errs)))\n",
    "ratio_ax1.set_xlim([0, 3])"
   ]
  },
  {
   "cell_type": "code",
   "execution_count": 15,
   "id": "9e10fb47",
   "metadata": {},
   "outputs": [
    {
     "data": {
      "image/png": "[encoded data removed]",
      "text/plain": [
       "<Figure size 576x504 with 1 Axes>"
      ]
     },
     "execution_count": 15,
     "metadata": {},
     "output_type": "execute_result"
    }
   ],
   "source": [
    "ratio_fig"
   ]
  },
  {
   "cell_type": "markdown",
   "id": "bee10707",
   "metadata": {},
   "source": [
    "## Data Tests"
   ]
  },
  {
   "cell_type": "code",
   "execution_count": 21,
   "id": "88a3cf86",
   "metadata": {},
   "outputs": [
    {
     "name": "stdout",
     "output_type": "stream",
     "text": [
      "[21.378, 140.747, 109.415, 36.0535, 20.9372, 7.6931, 2.65494, 3.81845, 1.59829, 0.322223]\n",
      "\n",
      "[5.35899, 33.9462, 27.5932, 9.12692, 6.06885, 4.14656, 1.72918, 2.01208, 0.616698, 0.12883]\n",
      "\n"
     ]
    }
   ],
   "source": [
    "with open('../stv-analysis-new/nue_unsmeared_events_energy_MC_ONLY_weighted.csv') as file:\n",
    "    content = file.readlines()\n",
    "events = content[0:]\n",
    "    \n",
    "for i in range(10):\n",
    "    events[i]=events[i].rstrip().rstrip(',')\n",
    "    events[i] = float(events[i])\n",
    "    \n",
    "print(events)\n",
    "print(\"\")\n",
    "#------------------------------------------------------------------------------\n",
    "with open('../stv-analysis-new/nue_unsmeared_errors_energy_MC_ONLY_weighted.csv') as file:\n",
    "    content = file.readlines()\n",
    "errors = content[0:]\n",
    "    \n",
    "for i in range(10):\n",
    "    errors[i]=errors[i].rstrip().rstrip(',')\n",
    "    errors[i] = float(errors[i])\n",
    "    \n",
    "print(errors)\n",
    "print(\"\")"
   ]
  },
  {
   "cell_type": "code",
   "execution_count": 22,
   "id": "2cd40e78",
   "metadata": {},
   "outputs": [
    {
     "name": "stdout",
     "output_type": "stream",
     "text": [
      "\n",
      "Making ratio plot.\n",
      "count,  [0.1, 0.6, 1.1, 1.6, 2.1, 2.6, 3.1, 3.6, 4.1, 4.6]\n",
      "bins,  [0.  0.5 1.  1.5 2.  2.5 3.  3.5 4.  4.5 5. ]\n",
      "Weights,  [21.378, 140.747, 109.415, 36.0535, 20.9372, 7.6931, 2.65494, 3.81845, 1.59829, 0.322223]\n",
      "\n"
     ]
    },
    {
     "data": {
      "text/plain": [
       "Text(0.5, 1.0, 'Unsmeared Plot - Nue Energy')"
      ]
     },
     "execution_count": 22,
     "metadata": {},
     "output_type": "execute_result"
    },
    {
     "data": {
      "image/png": "[encoded data removed]",
      "text/plain": [
       "<Figure size 576x504 with 1 Axes>"
      ]
     },
     "metadata": {
      "needs_background": "light"
     },
     "output_type": "display_data"
    }
   ],
   "source": [
    "ratio_fig = plt.figure(figsize=(8, 7))\n",
    "ratio_gs = gridspec.GridSpec(2, 1, height_ratios=[2, 1])\n",
    "ratio_ax1 = plt.subplot(ratio_gs[0])\n",
    "\n",
    "bins = np.arange(0, 5.5, 0.5)\n",
    "count = [0.1, 0.6, 1.1, 1.6, 2.1, 2.6, 3.1, 3.6, 4.1, 4.6]\n",
    "weights = []\n",
    "for i in range(len(count)):\n",
    "    weight = count[i]*events[i]\n",
    "    weights.append(weight)\n",
    "\n",
    "print(\"\")\n",
    "print(\"Making ratio plot.\")\n",
    "print(\"count, \", count)\n",
    "print(\"bins, \", bins)\n",
    "print(\"Weights, \", events)\n",
    "print(\"\")\n",
    "\n",
    "sel = ratio_ax1.hist(count, bins, color='deepskyblue', weights=events)\n",
    "ratio_ax1.set_ylabel('Counts', fontsize=15)\n",
    "ratio_ax1.set_xlabel('True Nue Energy [GeV]', fontsize=15)\n",
    "ratio_ax1.set_title(\"Unsmeared Plot - Nue Energy\")"
   ]
  },
  {
   "cell_type": "code",
   "execution_count": 23,
   "id": "94b41457",
   "metadata": {},
   "outputs": [
    {
     "data": {
      "text/plain": [
       "(0, 5)"
      ]
     },
     "execution_count": 23,
     "metadata": {},
     "output_type": "execute_result"
    }
   ],
   "source": [
    "bincenters = np.arange(0.25, 5.25, 0.5)\n",
    "bin_edges = np.arange(0, 5.5, 0.5)\n",
    "bin_size = [(bin_edges[i + 1] - bin_edges[i]) / 2\n",
    "            for i in range(len(bin_edges) - 1)]\n",
    "n_tot = np.array(events)\n",
    "\n",
    "ratio_ax1.bar(bincenters, np.array(errors)*2,width=[n*2 for n in bin_size],facecolor='tab:green',alpha=0.2,bottom=(np.array(events)-np.array(errors)))\n",
    "ratio_ax1.set_xlim([0, 5])"
   ]
  },
  {
   "cell_type": "code",
   "execution_count": 24,
   "id": "8c621115",
   "metadata": {},
   "outputs": [
    {
     "data": {
      "image/png": "[encoded data removed]",
      "text/plain": [
       "<Figure size 576x504 with 1 Axes>"
      ]
     },
     "execution_count": 24,
     "metadata": {},
     "output_type": "execute_result"
    }
   ],
   "source": [
    "ratio_fig"
   ]
  },
  {
   "cell_type": "code",
   "execution_count": 6,
   "id": "e6d0f8a6",
   "metadata": {},
   "outputs": [
    {
     "name": "stdout",
     "output_type": "stream",
     "text": [
      "259.52129\n"
     ]
    }
   ],
   "source": [
    "print(sum(events))"
   ]
  },
  {
   "cell_type": "code",
   "execution_count": null,
   "id": "6626086b",
   "metadata": {},
   "outputs": [],
   "source": []
  }
 ],
 "metadata": {
  "kernelspec": {
   "display_name": "Python 3 (ipykernel)",
   "language": "python",
   "name": "python3"
  },
  "language_info": {
   "codemirror_mode": {
    "name": "ipython",
    "version": 3
   },
   "file_extension": ".py",
   "mimetype": "text/x-python",
   "name": "python",
   "nbconvert_exporter": "python",
   "pygments_lexer": "ipython3",
   "version": "3.8.12"
  }
 },
 "nbformat": 4,
 "nbformat_minor": 5
}
