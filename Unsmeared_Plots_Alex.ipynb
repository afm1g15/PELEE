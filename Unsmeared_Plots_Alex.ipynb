{
 "cells": [
  {
   "cell_type": "code",
   "execution_count": 33,
   "id": "47ec4bfc",
   "metadata": {},
   "outputs": [
    {
     "name": "stdout",
     "output_type": "stream",
     "text": [
      "/home/alex/NuMI/PELEE/\n"
     ]
    }
   ],
   "source": [
    "import pandas as pd\n",
    "import matplotlib.pyplot as plt\n",
    "import matplotlib\n",
    "import sys\n",
    "import localSettings as ls\n",
    "import math\n",
    "print(ls.main_path)\n",
    "import load_data_run123\n",
    "import plotter_alex\n",
    "import importlib\n",
    "importlib.reload(plotter_alex)\n",
    "import uproot\n",
    "import matplotlib.pylab as pylab\n",
    "import numpy as np\n",
    "import math\n",
    "from sklearn.model_selection import train_test_split\n",
    "import pickle\n",
    "import xgboost as xgb\n",
    "import nue_booster \n",
    "importlib.reload(nue_booster)\n",
    "import awkward\n",
    "from matplotlib import gridspec\n",
    "from collections import defaultdict"
   ]
  },
  {
   "cell_type": "markdown",
   "id": "3e627bd5",
   "metadata": {},
   "source": [
    "##  Energy"
   ]
  },
  {
   "cell_type": "markdown",
   "id": "2299f24d",
   "metadata": {},
   "source": [
    "## Closure Tests"
   ]
  },
  {
   "cell_type": "code",
   "execution_count": 12,
   "id": "51909e1f",
   "metadata": {
    "scrolled": false
   },
   "outputs": [
    {
     "name": "stdout",
     "output_type": "stream",
     "text": [
      "Unsmeared events\n",
      "[13.9564, 121.404, 78.3198, 32.9424, 11.591, 9.18943, 2.77199, 1.12627, 0.912489, 0.13081]\n",
      "\n",
      "AC\n",
      "[[0.449504, -0.139569, 0.104864, 0.284929, -0.0680972, 0.0667613, 0.00629401, -0.0038709, 0.00333418, 2.19837e-05], [-0.139569, 0.829109, 0.103547, 0.159679, 0.0337402, 0.0442733, 0.00831902, 0.00372925, 0.00416843, 0.000417624], [0.104864, 0.103547, 0.671659, -0.09813, 0.102617, -0.00280812, 0.0142522, 0.00487557, 0.00122395, 0.00057961], [0.284929, 0.159679, -0.09813, 0.378123, -0.0550246, 0.0494177, 0.00038928, 0.00607872, 0.00609294, 0.000317248], [-0.0680972, 0.0337402, 0.102617, -0.0550246, 0.10463, -0.0426106, -0.0057182, 0.0128588, 0.00100844, 0.000571387], [0.0667613, 0.0442733, -0.00280812, 0.0494177, -0.0426106, 0.0994286, 0.00492048, -0.0204377, -0.00654633, -0.00126812], [0.00629401, 0.00831902, 0.0142522, 0.00038928, -0.0057182, 0.00492048, 0.0596668, -0.0242595, -0.0103613, -0.0026862], [-0.0038709, 0.00372925, 0.00487557, 0.00607872, 0.0128588, -0.0204377, -0.0242595, 0.0488239, -0.00530451, -0.0027955], [0.00333418, 0.00416843, 0.00122395, 0.00609294, 0.00100844, -0.00654633, -0.0103613, -0.00530451, 0.0207991, -0.00531895], [2.19837e-05, 0.000417624, 0.00057961, 0.000317248, 0.000571387, -0.00126812, -0.0026862, -0.0027955, -0.00531895, 0.0819585]]\n",
      "\n",
      "Prior Truth: \n",
      "[25.549172806080534, 130.21068376262244, 95.89263235773504, 38.9047797526953, 14.758744741283127, 7.294178111863872, 4.354156586816934, 2.194123882714045, 1.0493314384793615, 0.39249798324879837]\n",
      "\n",
      "Errors: \n",
      "[14.7623, 40.8386, 27.035, 13.1627, 5.26793, 3.13365, 0.888574, 0.603022, 0.267273, 0.0614278]\n",
      "\n",
      "################################################################\n",
      "\n",
      "Unsmeared events\n",
      "[824.007, 1787.54, 984.034, 567.88, 481.384, 226.561, 261.876, -190.405, -85.9334, 113.225]\n",
      "\n",
      "AC\n",
      "[[0.862454, 0.00178529, -0.0264376, -0.0100209, 0.00876896, -0.00486038, 0.00584183, -0.0130504, -0.00464773, 0.0125664], [0.00178529, 0.895826, -0.0241365, -0.0258214, -0.024511, -0.00359738, -0.0140231, -0.0220841, -0.0339067, 0.0285849], [-0.0264376, -0.0241365, 0.556388, 0.0921314, 0.0691785, 0.0491825, -0.00578845, -0.106405, 0.0844851, 0.0311606], [-0.0100209, -0.0258214, 0.0921314, 0.306216, 0.251666, 0.0982261, 0.177749, 0.028103, -0.0960203, -0.00455536], [0.00876896, -0.024511, 0.0691785, 0.251666, 0.234511, 0.0830061, 0.173569, 0.0190972, -0.0775495, -0.0218433], [-0.00486038, -0.00359738, 0.0491825, 0.0982261, 0.0830061, 0.046551, 0.0583066, 0.00621741, -0.0313123, -0.00305248], [0.00584183, -0.0140231, -0.00578845, 0.177749, 0.173569, 0.0583066, 0.140507, 0.0343946, -0.0709976, -0.0120622], [-0.0130504, -0.0220841, -0.106405, 0.028103, 0.0190972, 0.00621741, 0.0343946, 0.0566418, -0.0346922, -0.0116072], [-0.00464773, -0.0339067, 0.0844851, -0.0960203, -0.0775495, -0.0313123, -0.0709976, -0.0346922, 0.10876, -0.0468247], [0.0125664, 0.0285849, 0.0311606, -0.00455536, -0.0218433, -0.00305248, -0.0120622, -0.0116072, -0.0468247, 0.355223]]\n",
      "\n",
      "Prior Truth: \n",
      "[1011.1688840263786, 2086.3469777318005, 1662.743723825718, 1079.4921211973726, 449.42161263595835, 181.00842877105597, 108.45917308658429, 64.00839842566569, 38.66954193300053, 23.132617491500113]\n",
      "\n",
      "Errors: \n",
      "[204.858, 507.234, 621.611, 565.711, 495.187, 197.304, 358.266, 151.915, 220.701, 146.771]\n",
      "\n"
     ]
    },
    {
     "data": {
      "text/plain": [
       "'\\n#----------------------------------------------------------------\\nwith open(\\'../stv-analysis-new/nue_unsmeared_unfolding_matrix_energy_MC_ONLY_weighted_last50.csv\\') as file:\\n    content = file.readlines()\\nUF = content[0:]\\n\\n    \\nfor i in range(100):\\n    UF[i]=UF[i].rstrip().rstrip(\\',\\')\\n    UF[i] = float(UF[i])\\n    \\n\\nUF_Total = [UF[x:x+10] for x in range(0, len(UF), 10)]\\nUF_Total = np.array(UF_Total)\\n\\nprint(\"Unfolding Matrix\")\\nprint(UF_Total)\\nprint(\"\")\\n#-----------------------------------------------------------\\nwith open(\\'nue_full_500_catsel_nopions_recoE_usingSelection_smearcept_weighted_recoCut.csv\\') as file:\\n    content = file.readlines()\\nUF = content[0:]\\n    \\nfor i in range(10):\\n    #UF[i]=UF[i].rstrip().rstrip(\\',\\')\\n    UF[i] = UF[i].split(\",\")\\n    \\nfor i in range(10):\\n    for j in range(10):\\n        UF[i][j] = float(UF[i][j])\\n    \\nUF = np.array(UF)\\nprint(\"smearcept\")\\nprint((UF) )\\n\\n#chunks = [UF[x:x+10] for x in range(0, len(UF), 10)]\\n\\n#print(chunks)\\n#print(\"\")\\n#-----------------------------------------------------------\\n\\nprint(\"Inversion-------------------------------------\")\\ntest_inversion = np.matmul(UF_Total, UF)\\nprint(test_inversion)\\nprint(\"\")\\nprint(test_inversion - chunks)\\n'"
      ]
     },
     "execution_count": 12,
     "metadata": {},
     "output_type": "execute_result"
    }
   ],
   "source": [
    "##5GEV\n",
    "\n",
    "with open('../stv-analysis-new/nue_unsmeared_events_energy_MC_ONLY_weighted_recoCut_incErr_07Jul.csv') as file:\n",
    "    content = file.readlines()\n",
    "events_nue = content[0:]\n",
    "    \n",
    "for i in range(10):\n",
    "    events_nue[i]=events_nue[i].rstrip().rstrip(',')\n",
    "    events_nue[i] = float(events_nue[i])\n",
    "    \n",
    "print(\"Unsmeared events\")\n",
    "print(events_nue)\n",
    "print(\"\")\n",
    "\n",
    "#------------------------------------------------------------------------------\n",
    "with open('../stv-analysis-new/nue_unsmeared_AC_energy_MC_ONLY_weighted_recoCut_incErr_07Jul.csv') as file:\n",
    "    content = file.readlines()\n",
    "AC_nue = content[0:]\n",
    "    \n",
    "for i in range(100):\n",
    "    AC_nue[i]=AC_nue[i].rstrip().rstrip(',')\n",
    "    AC_nue[i] = float(AC_nue[i])\n",
    "    \n",
    "\n",
    "chunks_nue = [AC_nue[x:x+10] for x in range(0, len(AC_nue), 10)]\n",
    "\n",
    "print(\"AC\")\n",
    "print(chunks_nue)\n",
    "print(\"\")\n",
    "#---------------------------------------------------------------\n",
    "\n",
    "with open('nue_full_500_catsel_nopions_recoE_usingSelection_prior_true_signal_recoCut_07Jul.csv') as file:\n",
    "    content = file.readlines()\n",
    "prior_true_nue = content[0:]\n",
    "    \n",
    "for i in range(10):\n",
    "    prior_true_nue[i]=prior_true_nue[i].rstrip().rstrip(',')\n",
    "    prior_true_nue[i] = float(prior_true_nue[i])\n",
    "    \n",
    "print(\"Prior Truth: \")\n",
    "print(prior_true_nue)\n",
    "print(\"\")\n",
    "\n",
    "#----------------------------------------------------------------\n",
    "with open('../stv-analysis-new/nue_unsmeared_errors_energy_MC_ONLY_weighted_recoCut_incErr_07Jul.csv') as file:\n",
    "    content = file.readlines()\n",
    "errs_nue = content[0:]\n",
    "    \n",
    "for i in range(10):\n",
    "    errs_nue[i]=errs_nue[i].rstrip().rstrip(',')\n",
    "    errs_nue[i] = float(errs_nue[i])\n",
    "    \n",
    "print(\"Errors: \")\n",
    "print(errs_nue)\n",
    "print(\"\")\n",
    "print(\"################################################################\")\n",
    "print(\"\")\n",
    "\n",
    "#----------------------------------------------------------------\n",
    "\n",
    "with open('../stv-analysis-new/numu_unsmeared_events_energy_MC_ONLY_weighted_recoCut_incErr_07Jul.csv') as file:\n",
    "    content = file.readlines()\n",
    "events_numu = content[0:]\n",
    "    \n",
    "for i in range(10):\n",
    "    events_numu[i]=events_numu[i].rstrip().rstrip(',')\n",
    "    events_numu[i] = float(events_numu[i])\n",
    "    \n",
    "print(\"Unsmeared events\")\n",
    "print(events_numu)\n",
    "print(\"\")\n",
    "\n",
    "#------------------------------------------------------------------------------\n",
    "with open('../stv-analysis-new/numu_unsmeared_AC_energy_MC_ONLY_weighted_recoCut_incErr_07Jul.csv') as file:\n",
    "    content = file.readlines()\n",
    "AC_numu = content[0:]\n",
    "    \n",
    "for i in range(100):\n",
    "    AC_numu[i]=AC_numu[i].rstrip().rstrip(',')\n",
    "    AC_numu[i] = float(AC_numu[i])\n",
    "    \n",
    "\n",
    "chunks_numu = [AC_numu[x:x+10] for x in range(0, len(AC_numu), 10)]\n",
    "\n",
    "print(\"AC\")\n",
    "print(chunks_numu)\n",
    "print(\"\")\n",
    "#---------------------------------------------------------------\n",
    "\n",
    "with open('numu_full_500_catsel_nopions_recoE_usingSelection_prior_true_signal_recoCut_07Jul.csv') as file:\n",
    "    content = file.readlines()\n",
    "prior_true_numu = content[0:]\n",
    "    \n",
    "for i in range(10):\n",
    "    prior_true_numu[i]=prior_true_numu[i].rstrip().rstrip(',')\n",
    "    prior_true_numu[i] = float(prior_true_numu[i])\n",
    "    \n",
    "print(\"Prior Truth: \")\n",
    "print(prior_true_numu)\n",
    "print(\"\")\n",
    "\n",
    "#----------------------------------------------------------------\n",
    "with open('../stv-analysis-new/numu_unsmeared_errors_energy_MC_ONLY_weighted_recoCut_incErr_07Jul.csv') as file:\n",
    "    content = file.readlines()\n",
    "errs_numu = content[0:]\n",
    "    \n",
    "for i in range(10):\n",
    "    errs_numu[i]=errs_numu[i].rstrip().rstrip(',')\n",
    "    errs_numu[i] = float(errs_numu[i])\n",
    "    \n",
    "print(\"Errors: \")\n",
    "print(errs_numu)\n",
    "print(\"\")\n",
    "\n",
    "\n",
    "\"\"\"\n",
    "#----------------------------------------------------------------\n",
    "with open('../stv-analysis-new/nue_unsmeared_unfolding_matrix_energy_MC_ONLY_weighted_last50.csv') as file:\n",
    "    content = file.readlines()\n",
    "UF = content[0:]\n",
    "\n",
    "    \n",
    "for i in range(100):\n",
    "    UF[i]=UF[i].rstrip().rstrip(',')\n",
    "    UF[i] = float(UF[i])\n",
    "    \n",
    "\n",
    "UF_Total = [UF[x:x+10] for x in range(0, len(UF), 10)]\n",
    "UF_Total = np.array(UF_Total)\n",
    "\n",
    "print(\"Unfolding Matrix\")\n",
    "print(UF_Total)\n",
    "print(\"\")\n",
    "#-----------------------------------------------------------\n",
    "with open('nue_full_500_catsel_nopions_recoE_usingSelection_smearcept_weighted_recoCut.csv') as file:\n",
    "    content = file.readlines()\n",
    "UF = content[0:]\n",
    "    \n",
    "for i in range(10):\n",
    "    #UF[i]=UF[i].rstrip().rstrip(',')\n",
    "    UF[i] = UF[i].split(\",\")\n",
    "    \n",
    "for i in range(10):\n",
    "    for j in range(10):\n",
    "        UF[i][j] = float(UF[i][j])\n",
    "    \n",
    "UF = np.array(UF)\n",
    "print(\"smearcept\")\n",
    "print((UF) )\n",
    "\n",
    "#chunks = [UF[x:x+10] for x in range(0, len(UF), 10)]\n",
    "\n",
    "#print(chunks)\n",
    "#print(\"\")\n",
    "#-----------------------------------------------------------\n",
    "\n",
    "print(\"Inversion-------------------------------------\")\n",
    "test_inversion = np.matmul(UF_Total, UF)\n",
    "print(test_inversion)\n",
    "print(\"\")\n",
    "print(test_inversion - chunks)\n",
    "\"\"\""
   ]
  },
  {
   "cell_type": "code",
   "execution_count": 3,
   "id": "251a0c11",
   "metadata": {},
   "outputs": [
    {
     "data": {
      "text/plain": [
       "'\\nwith open(\\'../KatrinaCode/uBNuMI_CC1eNp/nue_full_500_catsel_nopions_recoE_usingSelection_prior_true_signal_recoCut_KatrinaCode.csv\\') as file:\\n    content = file.readlines()\\nprior_true = content[0:]\\n    \\nfor i in range(10):\\n    prior_true[i]=prior_true[i].rstrip().rstrip(\\',\\')\\n    prior_true[i] = float(prior_true[i])\\n    \\nprint(\"Prior Truth: \")\\nprint(prior_true)\\nprint(\"\")\\n\\n#---------------------------------------------------------------\\n\\nwith open(\\'nue_full_500_catsel_nopions_recoE_usingSelection_prior_true_signal_recoCut_redo.csv\\') as file:\\n    content = file.readlines()\\nprior_trueR = content[0:]\\n    \\nfor i in range(10):\\n    prior_trueR[i]=prior_trueR[i].rstrip().rstrip(\\',\\')\\n    prior_trueR[i] = float(prior_trueR[i])\\n    \\nprint(\"Prior TruthR: \")\\nprint(prior_trueR)\\nprint(\"\")\\nprint(np.array(prior_true) - np.array(prior_trueR))\\nprint(\"\")\\n#------------------------------------------------------------------\\nwith open(\\'../KatrinaCode/uBNuMI_CC1eNp/nue_full_500_catsel_nopions_recoE_usingSelection_data_signal_MCONLY_recoCut_KatrinaCode.csv\\') as file:\\n    content = file.readlines()\\nprior_true = content[0:]\\n    \\nfor i in range(10):\\n    prior_true[i]=prior_true[i].rstrip().rstrip(\\',\\')\\n    prior_true[i] = float(prior_true[i])\\n    \\nprint(\"Prior Truth: \")\\nprint(prior_true)\\nprint(\"\")\\n\\n#---------------------------------------------------------------\\n\\nwith open(\\'nue_full_500_catsel_nopions_recoE_usingSelection_data_signal_MCONLY_recoCut_redo.csv\\') as file:\\n    content = file.readlines()\\nprior_trueR = content[0:]\\n    \\nfor i in range(10):\\n    prior_trueR[i]=prior_trueR[i].rstrip().rstrip(\\',\\')\\n    prior_trueR[i] = float(prior_trueR[i])\\n    \\nprint(\"Prior TruthR: \")\\nprint(prior_trueR)\\nprint(\"\")\\nprint(\"\")\\nprint(np.array(prior_true) - np.array(prior_trueR))\\nprint(\"\")\\n#------------------------------------------------------------------\\n'"
      ]
     },
     "execution_count": 3,
     "metadata": {},
     "output_type": "execute_result"
    }
   ],
   "source": [
    "\"\"\"\n",
    "with open('../KatrinaCode/uBNuMI_CC1eNp/nue_full_500_catsel_nopions_recoE_usingSelection_prior_true_signal_recoCut_KatrinaCode.csv') as file:\n",
    "    content = file.readlines()\n",
    "prior_true = content[0:]\n",
    "    \n",
    "for i in range(10):\n",
    "    prior_true[i]=prior_true[i].rstrip().rstrip(',')\n",
    "    prior_true[i] = float(prior_true[i])\n",
    "    \n",
    "print(\"Prior Truth: \")\n",
    "print(prior_true)\n",
    "print(\"\")\n",
    "\n",
    "#---------------------------------------------------------------\n",
    "\n",
    "with open('nue_full_500_catsel_nopions_recoE_usingSelection_prior_true_signal_recoCut_redo.csv') as file:\n",
    "    content = file.readlines()\n",
    "prior_trueR = content[0:]\n",
    "    \n",
    "for i in range(10):\n",
    "    prior_trueR[i]=prior_trueR[i].rstrip().rstrip(',')\n",
    "    prior_trueR[i] = float(prior_trueR[i])\n",
    "    \n",
    "print(\"Prior TruthR: \")\n",
    "print(prior_trueR)\n",
    "print(\"\")\n",
    "print(np.array(prior_true) - np.array(prior_trueR))\n",
    "print(\"\")\n",
    "#------------------------------------------------------------------\n",
    "with open('../KatrinaCode/uBNuMI_CC1eNp/nue_full_500_catsel_nopions_recoE_usingSelection_data_signal_MCONLY_recoCut_KatrinaCode.csv') as file:\n",
    "    content = file.readlines()\n",
    "prior_true = content[0:]\n",
    "    \n",
    "for i in range(10):\n",
    "    prior_true[i]=prior_true[i].rstrip().rstrip(',')\n",
    "    prior_true[i] = float(prior_true[i])\n",
    "    \n",
    "print(\"Prior Truth: \")\n",
    "print(prior_true)\n",
    "print(\"\")\n",
    "\n",
    "#---------------------------------------------------------------\n",
    "\n",
    "with open('nue_full_500_catsel_nopions_recoE_usingSelection_data_signal_MCONLY_recoCut_redo.csv') as file:\n",
    "    content = file.readlines()\n",
    "prior_trueR = content[0:]\n",
    "    \n",
    "for i in range(10):\n",
    "    prior_trueR[i]=prior_trueR[i].rstrip().rstrip(',')\n",
    "    prior_trueR[i] = float(prior_trueR[i])\n",
    "    \n",
    "print(\"Prior TruthR: \")\n",
    "print(prior_trueR)\n",
    "print(\"\")\n",
    "print(\"\")\n",
    "print(np.array(prior_true) - np.array(prior_trueR))\n",
    "print(\"\")\n",
    "#------------------------------------------------------------------\n",
    "\"\"\""
   ]
  },
  {
   "cell_type": "code",
   "execution_count": 4,
   "id": "1292520f",
   "metadata": {},
   "outputs": [
    {
     "data": {
      "text/plain": [
       "'\\n##3GEV\\n\\nwith open(\\'../stv-analysis-new/nue_unsmeared_events_energy_MC_ONLY_weighted_recoCut_incErr_3GeV.csv\\') as file:\\n    content = file.readlines()\\nevents = content[0:]\\n    \\nfor i in range(6):\\n    events[i]=events[i].rstrip().rstrip(\\',\\')\\n    events[i] = float(events[i])\\n    \\nprint(\"Unsmeared events\")\\nprint(events)\\nprint(\"\")\\n\\n#------------------------------------------------------------------------------\\nwith open(\\'../stv-analysis-new/nue_unsmeared_AC_energy_MC_ONLY_weighted_recoCut_incErr_3GeV.csv\\') as file:\\n    content = file.readlines()\\nAC = content[0:]\\n    \\nfor i in range(36):\\n    AC[i]=AC[i].rstrip().rstrip(\\',\\')\\n    AC[i] = float(AC[i])\\n    \\n\\nchunks = [AC[x:x+6] for x in range(0, len(AC), 6)]\\n\\nprint(\"AC\")\\nprint(chunks)\\nprint(\"\")\\n#-----------------------------------------------------------\\n\\nwith open(\\'nue_full_500_catsel_nopions_recoE_usingSelection_prior_true_signal_recoCut_3GeV.csv\\') as file:\\n    content = file.readlines()\\nprior_true = content[0:]\\n    \\nfor i in range(6):\\n    prior_true[i]=prior_true[i].rstrip().rstrip(\\',\\')\\n    prior_true[i] = float(prior_true[i])\\n    \\nprint(\"Prior Truth: \")\\nprint(prior_true)\\nprint(\"\")\\n\\n#----------------------------------------------------------------\\nwith open(\\'../stv-analysis-new/nue_unsmeared_errors_energy_MC_ONLY_weighted_recoCut_incErr_3GeV.csv\\') as file:\\n    content = file.readlines()\\nerrs = content[0:]\\n    \\nfor i in range(6):\\n    errs[i]=errs[i].rstrip().rstrip(\\',\\')\\n    errs[i] = float(errs[i])\\n    \\nprint(\"Errors: \")\\nprint(errs)\\nprint(\"\")\\n'"
      ]
     },
     "execution_count": 4,
     "metadata": {},
     "output_type": "execute_result"
    }
   ],
   "source": [
    "\"\"\"\n",
    "##3GEV\n",
    "\n",
    "with open('../stv-analysis-new/nue_unsmeared_events_energy_MC_ONLY_weighted_recoCut_incErr_3GeV.csv') as file:\n",
    "    content = file.readlines()\n",
    "events = content[0:]\n",
    "    \n",
    "for i in range(6):\n",
    "    events[i]=events[i].rstrip().rstrip(',')\n",
    "    events[i] = float(events[i])\n",
    "    \n",
    "print(\"Unsmeared events\")\n",
    "print(events)\n",
    "print(\"\")\n",
    "\n",
    "#------------------------------------------------------------------------------\n",
    "with open('../stv-analysis-new/nue_unsmeared_AC_energy_MC_ONLY_weighted_recoCut_incErr_3GeV.csv') as file:\n",
    "    content = file.readlines()\n",
    "AC = content[0:]\n",
    "    \n",
    "for i in range(36):\n",
    "    AC[i]=AC[i].rstrip().rstrip(',')\n",
    "    AC[i] = float(AC[i])\n",
    "    \n",
    "\n",
    "chunks = [AC[x:x+6] for x in range(0, len(AC), 6)]\n",
    "\n",
    "print(\"AC\")\n",
    "print(chunks)\n",
    "print(\"\")\n",
    "#-----------------------------------------------------------\n",
    "\n",
    "with open('nue_full_500_catsel_nopions_recoE_usingSelection_prior_true_signal_recoCut_3GeV.csv') as file:\n",
    "    content = file.readlines()\n",
    "prior_true = content[0:]\n",
    "    \n",
    "for i in range(6):\n",
    "    prior_true[i]=prior_true[i].rstrip().rstrip(',')\n",
    "    prior_true[i] = float(prior_true[i])\n",
    "    \n",
    "print(\"Prior Truth: \")\n",
    "print(prior_true)\n",
    "print(\"\")\n",
    "\n",
    "#----------------------------------------------------------------\n",
    "with open('../stv-analysis-new/nue_unsmeared_errors_energy_MC_ONLY_weighted_recoCut_incErr_3GeV.csv') as file:\n",
    "    content = file.readlines()\n",
    "errs = content[0:]\n",
    "    \n",
    "for i in range(6):\n",
    "    errs[i]=errs[i].rstrip().rstrip(',')\n",
    "    errs[i] = float(errs[i])\n",
    "    \n",
    "print(\"Errors: \")\n",
    "print(errs)\n",
    "print(\"\")\n",
    "\"\"\""
   ]
  },
  {
   "cell_type": "code",
   "execution_count": 16,
   "id": "9a125064",
   "metadata": {},
   "outputs": [
    {
     "name": "stdout",
     "output_type": "stream",
     "text": [
      "NUE\n",
      "\n",
      "Prior_Truth x AC: \n",
      "[ 13.95622422 121.4044911   78.31981857  32.94237802  11.59099817\n",
      "   9.18944501   2.77199874   1.12624853   0.91248915   0.13080402]\n",
      "\n",
      "\n",
      "Unfolding Done with MC Data Signal: \n",
      "[13.9564, 121.404, 78.3198, 32.9424, 11.591, 9.18943, 2.77199, 1.12627, 0.912489, 0.13081]\n",
      "\n",
      "\n",
      "Difference\n",
      "[-1.75779125e-04  4.91101813e-04  1.85700695e-05 -2.19845538e-05\n",
      " -1.83299271e-06  1.50109414e-05  8.73844090e-06 -2.14672898e-05\n",
      "  1.46825698e-07 -5.97834422e-06]\n",
      "\n",
      "[-1.25950345e-03  4.04517007e-04  2.37105625e-05 -6.67363897e-05\n",
      " -1.58139332e-05  1.63349815e-04  3.15239714e-04 -1.90608814e-03\n",
      "  1.60906788e-05 -4.57045903e-03]\n",
      "######################################################\n",
      "\n",
      "NUMU\n",
      "\n",
      "Prior_Truth x AC: \n",
      "[ 824.00537041 1787.55094167  984.03774541  567.88623513  481.38858019\n",
      "  226.56341295  261.87994786 -190.40451013  -85.93549178  113.22534708]\n",
      "\n",
      "\n",
      "Unfolding Done with MC Data Signal: \n",
      "[824.007, 1787.54, 984.034, 567.88, 481.384, 226.561, 261.876, -190.405, -85.9334, 113.225]\n",
      "\n",
      "\n",
      "Difference\n",
      "[-0.00162959  0.01094167  0.00374541  0.00623513  0.00458019  0.00241295\n",
      "  0.00394786  0.00048987 -0.00209178  0.00034708]\n",
      "\n",
      "[-0.00019776  0.0006121   0.00038062  0.00109795  0.00095145  0.00106502\n",
      "  0.00150751 -0.00025728  0.00243413  0.00030654]\n"
     ]
    }
   ],
   "source": [
    "print(\"NUE\")\n",
    "print(\"\")\n",
    "\n",
    "made_data_sig_nue = np.dot(prior_true_nue, chunks_nue)\n",
    "print(\"Prior_Truth x AC: \")\n",
    "print(made_data_sig_nue)\n",
    "print(\"\")\n",
    "print(\"\")\n",
    "print(\"Unfolding Done with MC Data Signal: \")\n",
    "print(events_nue)\n",
    "print(\"\")\n",
    "\n",
    "diff_nue = made_data_sig_nue - events_nue\n",
    "print(\"\")\n",
    "print(\"Difference\")\n",
    "print(diff_nue)\n",
    "\n",
    "#for i in made_data_sig:\n",
    "#    print(i)\n",
    "\n",
    "print(\"\")\n",
    "diffasfrac_nue = diff_nue/made_data_sig_nue\n",
    "print(diffasfrac_nue*100)\n",
    "\n",
    "###########################################################\n",
    "print(\"######################################################\")\n",
    "print(\"\")\n",
    "print(\"NUMU\")\n",
    "print(\"\")\n",
    "\n",
    "made_data_sig_numu = np.dot(prior_true_numu, chunks_numu)\n",
    "print(\"Prior_Truth x AC: \")\n",
    "print(made_data_sig_numu)\n",
    "print(\"\")\n",
    "print(\"\")\n",
    "print(\"Unfolding Done with MC Data Signal: \")\n",
    "print(events_numu)\n",
    "print(\"\")\n",
    "\n",
    "diff_numu = made_data_sig_numu - events_numu\n",
    "print(\"\")\n",
    "print(\"Difference\")\n",
    "print(diff_numu)\n",
    "\n",
    "#for i in made_data_sig:\n",
    "#    print(i)\n",
    "\n",
    "print(\"\")\n",
    "diffasfrac_numu = diff_numu/made_data_sig_numu\n",
    "print(diffasfrac_numu*100)"
   ]
  },
  {
   "cell_type": "code",
   "execution_count": 17,
   "id": "fa105ffc",
   "metadata": {},
   "outputs": [
    {
     "data": {
      "image/png": "[encoded data removed]",
      "text/plain": [
       "<Figure size 432x288 with 1 Axes>"
      ]
     },
     "metadata": {
      "needs_background": "light"
     },
     "output_type": "display_data"
    },
    {
     "data": {
      "image/png": "[encoded data removed]",
      "text/plain": [
       "<Figure size 432x288 with 1 Axes>"
      ]
     },
     "metadata": {
      "needs_background": "light"
     },
     "output_type": "display_data"
    },
    {
     "data": {
      "image/png": "[encoded data removed]",
      "text/plain": [
       "<Figure size 432x288 with 1 Axes>"
      ]
     },
     "metadata": {
      "needs_background": "light"
     },
     "output_type": "display_data"
    }
   ],
   "source": [
    "#NUE\n",
    "\n",
    "import random\n",
    "import numpy\n",
    "from matplotlib import pyplot\n",
    "\n",
    "bins = np.arange(0, 5.5, 0.5)\n",
    "count = [0.1, 0.6, 1.1, 1.6, 2.1, 2.6, 3.1, 3.6, 4.1, 4.6]\n",
    "#count = [0.1, 0.6, 1.1, 1.6, 2.1, 2.6]\n",
    "\n",
    "pyplot.hist(count, bins, weights=made_data_sig_nue, alpha=0.5, label='Prior_Truth x AC Nue')\n",
    "pyplot.hist(count, bins, weights=events_nue, alpha=0.5, label='Unfolding Done with MC Data Signal Nue')\n",
    "pyplot.legend(loc='upper right')\n",
    "pyplot.show()\n",
    "\n",
    "pyplot.hist(count, bins, weights=diff_nue, alpha=0.5, label='Difference Nue')\n",
    "pyplot.legend(loc='upper right')\n",
    "pyplot.show()\n",
    "\n",
    "\n",
    "pyplot.hist(count, bins, weights=diffasfrac_nue, alpha=0.5, label='Fractional Difference Nue')\n",
    "pyplot.legend(loc='upper right')\n",
    "pyplot.show()"
   ]
  },
  {
   "cell_type": "code",
   "execution_count": 18,
   "id": "b2b7a99e",
   "metadata": {},
   "outputs": [
    {
     "data": {
      "image/png": "[encoded data removed]",
      "text/plain": [
       "<Figure size 432x288 with 1 Axes>"
      ]
     },
     "metadata": {
      "needs_background": "light"
     },
     "output_type": "display_data"
    },
    {
     "data": {
      "image/png": "[encoded data removed]",
      "text/plain": [
       "<Figure size 432x288 with 1 Axes>"
      ]
     },
     "metadata": {
      "needs_background": "light"
     },
     "output_type": "display_data"
    },
    {
     "data": {
      "image/png": "[encoded data removed]",
      "text/plain": [
       "<Figure size 432x288 with 1 Axes>"
      ]
     },
     "metadata": {
      "needs_background": "light"
     },
     "output_type": "display_data"
    }
   ],
   "source": [
    "#NUMU\n",
    "\n",
    "import random\n",
    "import numpy\n",
    "from matplotlib import pyplot\n",
    "\n",
    "bins = np.arange(0, 5.5, 0.5)\n",
    "count = [0.1, 0.6, 1.1, 1.6, 2.1, 2.6, 3.1, 3.6, 4.1, 4.6]\n",
    "#count = [0.1, 0.6, 1.1, 1.6, 2.1, 2.6]\n",
    "\n",
    "pyplot.hist(count, bins, weights=made_data_sig_numu, alpha=0.5, label='Prior_Truth x AC Numu')\n",
    "pyplot.hist(count, bins, weights=events_numu, alpha=0.5, label='Unfolding Done with MC Data Signal Numu')\n",
    "pyplot.legend(loc='upper right')\n",
    "pyplot.show()\n",
    "\n",
    "pyplot.hist(count, bins, weights=diff_numu, alpha=0.5, label='Difference Numu')\n",
    "pyplot.legend(loc='upper right')\n",
    "pyplot.show()\n",
    "\n",
    "\n",
    "pyplot.hist(count, bins, weights=diffasfrac_numu, alpha=0.5, label='Fractional Difference Numu')\n",
    "pyplot.legend(loc='upper right')\n",
    "pyplot.show()"
   ]
  },
  {
   "cell_type": "code",
   "execution_count": 17,
   "id": "c9b588bd",
   "metadata": {},
   "outputs": [
    {
     "data": {
      "text/plain": [
       "'\\n#FIRST 20\\ndiff20 = [0.08709344, 0.70815756, 0.4920871, 0.1285878, 0.13207207, 0.08872457, -0.03538738, 0.02366605, 0.00384698,  0.00310249]\\nfracdiff20 = [ 1.70225605, 3.03303401, 2.64546074, 2.41259794, 3.45179783, 4.44390654, 11.97415342, 4.69015356, 4.12192291, 6.0374116 ]\\n\\n#FIRST 50\\ndiff50 = [-0.02566664, -0.57251386, -0.71713231, 1.29042666, -2.0881748, 2.02463519, 1.20301128, -1.12143941, -0.00936788, -0.0184936 ]\\nfracdiff50 = [ -0.28384884, -0.93284341, -1.69676953,  8.33618287, -27.26366771, 39.20539321, -69.56602203, -48.29563491, -3.1047611, -13.20580659]\\n\\n#FIRST 80\\ndiff80 = [-0.46890171, 0.02157758, -0.11172548, 0.94767954, -0.95701559, 0.56962462, 1.29848004, -0.73518198, -0.01458795, -0.01744902]\\nfracdiff80 = [-3.31810814e+00,  2.20115692e-02, -1.54206051e-01, 3.62144051e+00, -7.10738649e+00, 1.04116244e+01, 4.71701136e+01, -3.70343007e+01, -3.14850688e+00, -9.14408546e+00]\\n\\n#FIRST 100\\ndiff100 = [-0.20654885, 0.10235564, 0.06945382, -0.17804887, -0.39653147, 1.07305231, 0.55832717, -0.82731806, -0.21668303, -0.05513937]\\nfracdiff100 = [ -1.16643186, 0.08458909, 0.07344725,  -0.56220483, -2.22329967, 13.1292144, 17.98156766, -35.37539865, -20.67769673, -29.18560149]\\n'"
      ]
     },
     "execution_count": 17,
     "metadata": {},
     "output_type": "execute_result"
    }
   ],
   "source": [
    "\"\"\"\n",
    "#FIRST 20\n",
    "diff20 = [0.08709344, 0.70815756, 0.4920871, 0.1285878, 0.13207207, 0.08872457, -0.03538738, 0.02366605, 0.00384698,  0.00310249]\n",
    "fracdiff20 = [ 1.70225605, 3.03303401, 2.64546074, 2.41259794, 3.45179783, 4.44390654, 11.97415342, 4.69015356, 4.12192291, 6.0374116 ]\n",
    "\n",
    "#FIRST 50\n",
    "diff50 = [-0.02566664, -0.57251386, -0.71713231, 1.29042666, -2.0881748, 2.02463519, 1.20301128, -1.12143941, -0.00936788, -0.0184936 ]\n",
    "fracdiff50 = [ -0.28384884, -0.93284341, -1.69676953,  8.33618287, -27.26366771, 39.20539321, -69.56602203, -48.29563491, -3.1047611, -13.20580659]\n",
    "\n",
    "#FIRST 80\n",
    "diff80 = [-0.46890171, 0.02157758, -0.11172548, 0.94767954, -0.95701559, 0.56962462, 1.29848004, -0.73518198, -0.01458795, -0.01744902]\n",
    "fracdiff80 = [-3.31810814e+00,  2.20115692e-02, -1.54206051e-01, 3.62144051e+00, -7.10738649e+00, 1.04116244e+01, 4.71701136e+01, -3.70343007e+01, -3.14850688e+00, -9.14408546e+00]\n",
    "\n",
    "#FIRST 100\n",
    "diff100 = [-0.20654885, 0.10235564, 0.06945382, -0.17804887, -0.39653147, 1.07305231, 0.55832717, -0.82731806, -0.21668303, -0.05513937]\n",
    "fracdiff100 = [ -1.16643186, 0.08458909, 0.07344725,  -0.56220483, -2.22329967, 13.1292144, 17.98156766, -35.37539865, -20.67769673, -29.18560149]\n",
    "\"\"\""
   ]
  },
  {
   "cell_type": "code",
   "execution_count": 18,
   "id": "71edc8fc",
   "metadata": {},
   "outputs": [
    {
     "data": {
      "text/plain": [
       "'\\nimport random\\nimport numpy\\nfrom matplotlib import pyplot\\n\\nbins = np.arange(0, 5.5, 0.5)\\ncount = [0.1, 0.6, 1.1, 1.6, 2.1, 2.6, 3.1, 3.6, 4.1, 4.6]\\n#count = [0.1, 0.6, 1.1, 1.6, 2.1, 2.6]\\n\\npyplot.hist(count, bins, weights=diff20, color=\"white\", alpha=0.5, label=\\'20%\\', edgecolor=\\'green\\')\\npyplot.hist(count, bins, weights=diff50, color=\"white\", alpha=0.5, label=\\'50%\\', edgecolor=\\'blue\\')\\npyplot.hist(count, bins, weights=diff80, color=\"white\", alpha=0.5, label=\\'80%\\', edgecolor=\\'red\\')\\npyplot.hist(count, bins, weights=diff100, color=\"white\", alpha=0.5, label=\\'100%\\', edgecolor=\\'purple\\')\\npyplot.legend(loc=\\'upper right\\')\\npyplot.title(\"Absolute Diff\")\\npyplot.ylabel(\"Diff\")\\npyplot.show()\\n\\npyplot.hist(count, bins, weights=fracdiff20, color=\"green\", alpha=0.5, label=\\'20%\\', edgecolor=\\'green\\')\\npyplot.hist(count, bins, weights=fracdiff50, color=\"blue\", alpha=0.5, label=\\'50%\\', edgecolor=\\'blue\\')\\npyplot.hist(count, bins, weights=fracdiff80, color=\"red\", alpha=0.5, label=\\'80%\\', edgecolor=\\'red\\')\\npyplot.hist(count, bins, weights=fracdiff100, color=\"purple\", alpha=0.5, label=\\'100%\\', edgecolor=\\'purple\\')\\npyplot.legend(loc=\\'upper right\\')\\npyplot.title(\"Fractional Diff\")\\npyplot.xlabel(\"True Nu Energy (GeV)\")\\npyplot.ylabel(\"Diff (%)\")\\npyplot.show()\\n'"
      ]
     },
     "execution_count": 18,
     "metadata": {},
     "output_type": "execute_result"
    }
   ],
   "source": [
    "\"\"\"\n",
    "import random\n",
    "import numpy\n",
    "from matplotlib import pyplot\n",
    "\n",
    "bins = np.arange(0, 5.5, 0.5)\n",
    "count = [0.1, 0.6, 1.1, 1.6, 2.1, 2.6, 3.1, 3.6, 4.1, 4.6]\n",
    "#count = [0.1, 0.6, 1.1, 1.6, 2.1, 2.6]\n",
    "\n",
    "pyplot.hist(count, bins, weights=diff20, color=\"white\", alpha=0.5, label='20%', edgecolor='green')\n",
    "pyplot.hist(count, bins, weights=diff50, color=\"white\", alpha=0.5, label='50%', edgecolor='blue')\n",
    "pyplot.hist(count, bins, weights=diff80, color=\"white\", alpha=0.5, label='80%', edgecolor='red')\n",
    "pyplot.hist(count, bins, weights=diff100, color=\"white\", alpha=0.5, label='100%', edgecolor='purple')\n",
    "pyplot.legend(loc='upper right')\n",
    "pyplot.title(\"Absolute Diff\")\n",
    "pyplot.ylabel(\"Diff\")\n",
    "pyplot.show()\n",
    "\n",
    "pyplot.hist(count, bins, weights=fracdiff20, color=\"green\", alpha=0.5, label='20%', edgecolor='green')\n",
    "pyplot.hist(count, bins, weights=fracdiff50, color=\"blue\", alpha=0.5, label='50%', edgecolor='blue')\n",
    "pyplot.hist(count, bins, weights=fracdiff80, color=\"red\", alpha=0.5, label='80%', edgecolor='red')\n",
    "pyplot.hist(count, bins, weights=fracdiff100, color=\"purple\", alpha=0.5, label='100%', edgecolor='purple')\n",
    "pyplot.legend(loc='upper right')\n",
    "pyplot.title(\"Fractional Diff\")\n",
    "pyplot.xlabel(\"True Nu Energy (GeV)\")\n",
    "pyplot.ylabel(\"Diff (%)\")\n",
    "pyplot.show()\n",
    "\"\"\""
   ]
  },
  {
   "cell_type": "code",
   "execution_count": 7,
   "id": "c7b9643b",
   "metadata": {},
   "outputs": [
    {
     "name": "stdout",
     "output_type": "stream",
     "text": [
      "\n",
      "Making ratio plot.\n",
      "count,  [0.1, 0.6, 1.1, 1.6, 2.1, 2.6, 3.1, 3.6, 4.1, 4.6]\n",
      "bins,  [0.  0.5 1.  1.5 2.  2.5 3.  3.5 4.  4.5 5. ]\n",
      "Weights,  [824.007, 1787.54, 984.034, 567.88, 481.384, 226.561, 261.876, -190.405, -85.9334, 113.225]\n",
      "\n"
     ]
    },
    {
     "name": "stderr",
     "output_type": "stream",
     "text": [
      "/tmp/ipykernel_8303/1396007662.py:4: MatplotlibDeprecationWarning: Adding an axes using the same arguments as a previous axes currently reuses the earlier instance.  In a future version, a new instance will always be created and returned.  Meanwhile, this warning can be suppressed, and the future behavior ensured, by passing a unique label to each axes instance.\n",
      "  ratio_ax2 = plt.subplot(ratio_gs[0])\n"
     ]
    },
    {
     "data": {
      "text/plain": [
       "Text(0.5, 1.0, 'Unsmeared Plot - Nue Energy Differences')"
      ]
     },
     "execution_count": 7,
     "metadata": {},
     "output_type": "execute_result"
    },
    {
     "data": {
      "image/png": "[encoded data removed]",
      "text/plain": [
       "<Figure size 576x504 with 1 Axes>"
      ]
     },
     "metadata": {
      "needs_background": "light"
     },
     "output_type": "display_data"
    }
   ],
   "source": [
    "ratio_fig = plt.figure(figsize=(8, 7))\n",
    "ratio_gs = gridspec.GridSpec(2, 1, height_ratios=[2, 1])\n",
    "ratio_ax1 = plt.subplot(ratio_gs[0])\n",
    "ratio_ax2 = plt.subplot(ratio_gs[0])\n",
    "\n",
    "bins = np.arange(0, 5.5, 0.5)\n",
    "count = [0.1, 0.6, 1.1, 1.6, 2.1, 2.6, 3.1, 3.6, 4.1, 4.6]\n",
    "#count = [0.1, 0.6, 1.1, 1.6, 2.1, 2.6]\n",
    "weights = []\n",
    "for i in range(len(count)):\n",
    "    weight = count[i]*events[i]\n",
    "    weights.append(weight)\n",
    "\n",
    "print(\"\")\n",
    "print(\"Making ratio plot.\")\n",
    "print(\"count, \", count)\n",
    "print(\"bins, \", bins)\n",
    "print(\"Weights, \", events)\n",
    "print(\"\")\n",
    "\n",
    "#sel = ratio_ax1.hist(count, bins, color='deepskyblue', weights=made_data_sig, alpha=0.8, label='Prior_Truth x AC')\n",
    "#sel2 = ratio_ax2.hist(count, bins, color='red', weights=events, alpha=0.5, label='Unfolding Done with MC Data Signal')\n",
    "sel2 = ratio_ax2.hist(count, bins, color='red', weights=diff, alpha=0.5, label='Unfolding Done with MC Data Signal')\n",
    "ratio_ax1.set_ylabel('Counts', fontsize=15)\n",
    "ratio_ax1.set_xlabel('True Nue Energy [GeV]', fontsize=15)\n",
    "ratio_ax1.set_title(\"Unsmeared Plot - Nue Energy Differences\")"
   ]
  },
  {
   "cell_type": "code",
   "execution_count": 8,
   "id": "78e0366c",
   "metadata": {},
   "outputs": [
    {
     "ename": "ValueError",
     "evalue": "shape mismatch: objects cannot be broadcast to a single shape.  Mismatch is between arg 0 with shape (6,) and arg 1 with shape (10,).",
     "output_type": "error",
     "traceback": [
      "\u001b[0;31m---------------------------------------------------------------------------\u001b[0m",
      "\u001b[0;31mValueError\u001b[0m                                Traceback (most recent call last)",
      "\u001b[0;32m/tmp/ipykernel_8303/3189549749.py\u001b[0m in \u001b[0;36m<module>\u001b[0;34m\u001b[0m\n\u001b[1;32m      6\u001b[0m \u001b[0;34m\u001b[0m\u001b[0m\n\u001b[1;32m      7\u001b[0m \u001b[0;31m#ratio_ax1.bar(bincenters, np.array(errs)*2,width=[n*2 for n in bin_size],facecolor='tab:green',alpha=0.2,bottom=(np.array(events)-np.array(errs)))\u001b[0m\u001b[0;34m\u001b[0m\u001b[0;34m\u001b[0m\u001b[0;34m\u001b[0m\u001b[0m\n\u001b[0;32m----> 8\u001b[0;31m \u001b[0mratio_ax1\u001b[0m\u001b[0;34m.\u001b[0m\u001b[0mbar\u001b[0m\u001b[0;34m(\u001b[0m\u001b[0mbincenters\u001b[0m\u001b[0;34m,\u001b[0m \u001b[0mnp\u001b[0m\u001b[0;34m.\u001b[0m\u001b[0marray\u001b[0m\u001b[0;34m(\u001b[0m\u001b[0merrs\u001b[0m\u001b[0;34m)\u001b[0m\u001b[0;34m*\u001b[0m\u001b[0;36m2\u001b[0m\u001b[0;34m,\u001b[0m\u001b[0mwidth\u001b[0m\u001b[0;34m=\u001b[0m\u001b[0;34m[\u001b[0m\u001b[0mn\u001b[0m\u001b[0;34m*\u001b[0m\u001b[0;36m2\u001b[0m \u001b[0;32mfor\u001b[0m \u001b[0mn\u001b[0m \u001b[0;32min\u001b[0m \u001b[0mbin_size\u001b[0m\u001b[0;34m]\u001b[0m\u001b[0;34m,\u001b[0m\u001b[0mfacecolor\u001b[0m\u001b[0;34m=\u001b[0m\u001b[0;34m'tab:green'\u001b[0m\u001b[0;34m,\u001b[0m\u001b[0malpha\u001b[0m\u001b[0;34m=\u001b[0m\u001b[0;36m0.2\u001b[0m\u001b[0;34m,\u001b[0m\u001b[0mbottom\u001b[0m\u001b[0;34m=\u001b[0m\u001b[0;34m(\u001b[0m\u001b[0mnp\u001b[0m\u001b[0;34m.\u001b[0m\u001b[0marray\u001b[0m\u001b[0;34m(\u001b[0m\u001b[0mdiff\u001b[0m\u001b[0;34m)\u001b[0m\u001b[0;34m-\u001b[0m\u001b[0mnp\u001b[0m\u001b[0;34m.\u001b[0m\u001b[0marray\u001b[0m\u001b[0;34m(\u001b[0m\u001b[0merrs\u001b[0m\u001b[0;34m)\u001b[0m\u001b[0;34m)\u001b[0m\u001b[0;34m)\u001b[0m\u001b[0;34m\u001b[0m\u001b[0;34m\u001b[0m\u001b[0m\n\u001b[0m\u001b[1;32m      9\u001b[0m \u001b[0mratio_ax1\u001b[0m\u001b[0;34m.\u001b[0m\u001b[0mset_xlim\u001b[0m\u001b[0;34m(\u001b[0m\u001b[0;34m[\u001b[0m\u001b[0;36m0\u001b[0m\u001b[0;34m,\u001b[0m \u001b[0;36m3\u001b[0m\u001b[0;34m]\u001b[0m\u001b[0;34m)\u001b[0m\u001b[0;34m\u001b[0m\u001b[0;34m\u001b[0m\u001b[0m\n",
      "\u001b[0;32m~/miniconda3/envs/vintageXgboostVintageUprootEnv/lib/python3.8/site-packages/matplotlib/__init__.py\u001b[0m in \u001b[0;36minner\u001b[0;34m(ax, data, *args, **kwargs)\u001b[0m\n\u001b[1;32m   1597\u001b[0m     \u001b[0;32mdef\u001b[0m \u001b[0minner\u001b[0m\u001b[0;34m(\u001b[0m\u001b[0max\u001b[0m\u001b[0;34m,\u001b[0m \u001b[0;34m*\u001b[0m\u001b[0margs\u001b[0m\u001b[0;34m,\u001b[0m \u001b[0mdata\u001b[0m\u001b[0;34m=\u001b[0m\u001b[0;32mNone\u001b[0m\u001b[0;34m,\u001b[0m \u001b[0;34m**\u001b[0m\u001b[0mkwargs\u001b[0m\u001b[0;34m)\u001b[0m\u001b[0;34m:\u001b[0m\u001b[0;34m\u001b[0m\u001b[0;34m\u001b[0m\u001b[0m\n\u001b[1;32m   1598\u001b[0m         \u001b[0;32mif\u001b[0m \u001b[0mdata\u001b[0m \u001b[0;32mis\u001b[0m \u001b[0;32mNone\u001b[0m\u001b[0;34m:\u001b[0m\u001b[0;34m\u001b[0m\u001b[0;34m\u001b[0m\u001b[0m\n\u001b[0;32m-> 1599\u001b[0;31m             \u001b[0;32mreturn\u001b[0m \u001b[0mfunc\u001b[0m\u001b[0;34m(\u001b[0m\u001b[0max\u001b[0m\u001b[0;34m,\u001b[0m \u001b[0;34m*\u001b[0m\u001b[0mmap\u001b[0m\u001b[0;34m(\u001b[0m\u001b[0msanitize_sequence\u001b[0m\u001b[0;34m,\u001b[0m \u001b[0margs\u001b[0m\u001b[0;34m)\u001b[0m\u001b[0;34m,\u001b[0m \u001b[0;34m**\u001b[0m\u001b[0mkwargs\u001b[0m\u001b[0;34m)\u001b[0m\u001b[0;34m\u001b[0m\u001b[0;34m\u001b[0m\u001b[0m\n\u001b[0m\u001b[1;32m   1600\u001b[0m \u001b[0;34m\u001b[0m\u001b[0m\n\u001b[1;32m   1601\u001b[0m         \u001b[0mbound\u001b[0m \u001b[0;34m=\u001b[0m \u001b[0mnew_sig\u001b[0m\u001b[0;34m.\u001b[0m\u001b[0mbind\u001b[0m\u001b[0;34m(\u001b[0m\u001b[0max\u001b[0m\u001b[0;34m,\u001b[0m \u001b[0;34m*\u001b[0m\u001b[0margs\u001b[0m\u001b[0;34m,\u001b[0m \u001b[0;34m**\u001b[0m\u001b[0mkwargs\u001b[0m\u001b[0;34m)\u001b[0m\u001b[0;34m\u001b[0m\u001b[0;34m\u001b[0m\u001b[0m\n",
      "\u001b[0;32m~/miniconda3/envs/vintageXgboostVintageUprootEnv/lib/python3.8/site-packages/matplotlib/axes/_axes.py\u001b[0m in \u001b[0;36mbar\u001b[0;34m(self, x, height, width, bottom, align, **kwargs)\u001b[0m\n\u001b[1;32m   2370\u001b[0m                 \u001b[0myerr\u001b[0m \u001b[0;34m=\u001b[0m \u001b[0mself\u001b[0m\u001b[0;34m.\u001b[0m\u001b[0m_convert_dx\u001b[0m\u001b[0;34m(\u001b[0m\u001b[0myerr\u001b[0m\u001b[0;34m,\u001b[0m \u001b[0my0\u001b[0m\u001b[0;34m,\u001b[0m \u001b[0my\u001b[0m\u001b[0;34m,\u001b[0m \u001b[0mself\u001b[0m\u001b[0;34m.\u001b[0m\u001b[0mconvert_yunits\u001b[0m\u001b[0;34m)\u001b[0m\u001b[0;34m\u001b[0m\u001b[0;34m\u001b[0m\u001b[0m\n\u001b[1;32m   2371\u001b[0m \u001b[0;34m\u001b[0m\u001b[0m\n\u001b[0;32m-> 2372\u001b[0;31m         x, height, width, y, linewidth = np.broadcast_arrays(\n\u001b[0m\u001b[1;32m   2373\u001b[0m             \u001b[0;31m# Make args iterable too.\u001b[0m\u001b[0;34m\u001b[0m\u001b[0;34m\u001b[0m\u001b[0;34m\u001b[0m\u001b[0m\n\u001b[1;32m   2374\u001b[0m             np.atleast_1d(x), height, width, y, linewidth)\n",
      "\u001b[0;32m~/miniconda3/envs/vintageXgboostVintageUprootEnv/lib/python3.8/site-packages/numpy/core/overrides.py\u001b[0m in \u001b[0;36mbroadcast_arrays\u001b[0;34m(*args, **kwargs)\u001b[0m\n",
      "\u001b[0;32m~/miniconda3/envs/vintageXgboostVintageUprootEnv/lib/python3.8/site-packages/numpy/lib/stride_tricks.py\u001b[0m in \u001b[0;36mbroadcast_arrays\u001b[0;34m(subok, *args)\u001b[0m\n\u001b[1;32m    537\u001b[0m     \u001b[0margs\u001b[0m \u001b[0;34m=\u001b[0m \u001b[0;34m[\u001b[0m\u001b[0mnp\u001b[0m\u001b[0;34m.\u001b[0m\u001b[0marray\u001b[0m\u001b[0;34m(\u001b[0m\u001b[0m_m\u001b[0m\u001b[0;34m,\u001b[0m \u001b[0mcopy\u001b[0m\u001b[0;34m=\u001b[0m\u001b[0;32mFalse\u001b[0m\u001b[0;34m,\u001b[0m \u001b[0msubok\u001b[0m\u001b[0;34m=\u001b[0m\u001b[0msubok\u001b[0m\u001b[0;34m)\u001b[0m \u001b[0;32mfor\u001b[0m \u001b[0m_m\u001b[0m \u001b[0;32min\u001b[0m \u001b[0margs\u001b[0m\u001b[0;34m]\u001b[0m\u001b[0;34m\u001b[0m\u001b[0;34m\u001b[0m\u001b[0m\n\u001b[1;32m    538\u001b[0m \u001b[0;34m\u001b[0m\u001b[0m\n\u001b[0;32m--> 539\u001b[0;31m     \u001b[0mshape\u001b[0m \u001b[0;34m=\u001b[0m \u001b[0m_broadcast_shape\u001b[0m\u001b[0;34m(\u001b[0m\u001b[0;34m*\u001b[0m\u001b[0margs\u001b[0m\u001b[0;34m)\u001b[0m\u001b[0;34m\u001b[0m\u001b[0;34m\u001b[0m\u001b[0m\n\u001b[0m\u001b[1;32m    540\u001b[0m \u001b[0;34m\u001b[0m\u001b[0m\n\u001b[1;32m    541\u001b[0m     \u001b[0;32mif\u001b[0m \u001b[0mall\u001b[0m\u001b[0;34m(\u001b[0m\u001b[0marray\u001b[0m\u001b[0;34m.\u001b[0m\u001b[0mshape\u001b[0m \u001b[0;34m==\u001b[0m \u001b[0mshape\u001b[0m \u001b[0;32mfor\u001b[0m \u001b[0marray\u001b[0m \u001b[0;32min\u001b[0m \u001b[0margs\u001b[0m\u001b[0;34m)\u001b[0m\u001b[0;34m:\u001b[0m\u001b[0;34m\u001b[0m\u001b[0;34m\u001b[0m\u001b[0m\n",
      "\u001b[0;32m~/miniconda3/envs/vintageXgboostVintageUprootEnv/lib/python3.8/site-packages/numpy/lib/stride_tricks.py\u001b[0m in \u001b[0;36m_broadcast_shape\u001b[0;34m(*args)\u001b[0m\n\u001b[1;32m    419\u001b[0m     \u001b[0;31m# use the old-iterator because np.nditer does not handle size 0 arrays\u001b[0m\u001b[0;34m\u001b[0m\u001b[0;34m\u001b[0m\u001b[0;34m\u001b[0m\u001b[0m\n\u001b[1;32m    420\u001b[0m     \u001b[0;31m# consistently\u001b[0m\u001b[0;34m\u001b[0m\u001b[0;34m\u001b[0m\u001b[0;34m\u001b[0m\u001b[0m\n\u001b[0;32m--> 421\u001b[0;31m     \u001b[0mb\u001b[0m \u001b[0;34m=\u001b[0m \u001b[0mnp\u001b[0m\u001b[0;34m.\u001b[0m\u001b[0mbroadcast\u001b[0m\u001b[0;34m(\u001b[0m\u001b[0;34m*\u001b[0m\u001b[0margs\u001b[0m\u001b[0;34m[\u001b[0m\u001b[0;34m:\u001b[0m\u001b[0;36m32\u001b[0m\u001b[0;34m]\u001b[0m\u001b[0;34m)\u001b[0m\u001b[0;34m\u001b[0m\u001b[0;34m\u001b[0m\u001b[0m\n\u001b[0m\u001b[1;32m    422\u001b[0m     \u001b[0;31m# unfortunately, it cannot handle 32 or more arguments directly\u001b[0m\u001b[0;34m\u001b[0m\u001b[0;34m\u001b[0m\u001b[0;34m\u001b[0m\u001b[0m\n\u001b[1;32m    423\u001b[0m     \u001b[0;32mfor\u001b[0m \u001b[0mpos\u001b[0m \u001b[0;32min\u001b[0m \u001b[0mrange\u001b[0m\u001b[0;34m(\u001b[0m\u001b[0;36m32\u001b[0m\u001b[0;34m,\u001b[0m \u001b[0mlen\u001b[0m\u001b[0;34m(\u001b[0m\u001b[0margs\u001b[0m\u001b[0;34m)\u001b[0m\u001b[0;34m,\u001b[0m \u001b[0;36m31\u001b[0m\u001b[0;34m)\u001b[0m\u001b[0;34m:\u001b[0m\u001b[0;34m\u001b[0m\u001b[0;34m\u001b[0m\u001b[0m\n",
      "\u001b[0;31mValueError\u001b[0m: shape mismatch: objects cannot be broadcast to a single shape.  Mismatch is between arg 0 with shape (6,) and arg 1 with shape (10,)."
     ]
    }
   ],
   "source": [
    "bincenters = np.arange(0.25, 3.25, 0.5)\n",
    "bin_edges = np.arange(0, 3.5, 0.5)\n",
    "bin_size = [(bin_edges[i + 1] - bin_edges[i]) / 2\n",
    "            for i in range(len(bin_edges) - 1)]\n",
    "n_tot = np.array(events)\n",
    "\n",
    "#ratio_ax1.bar(bincenters, np.array(errs)*2,width=[n*2 for n in bin_size],facecolor='tab:green',alpha=0.2,bottom=(np.array(events)-np.array(errs)))\n",
    "ratio_ax1.bar(bincenters, np.array(errs)*2,width=[n*2 for n in bin_size],facecolor='tab:green',alpha=0.2,bottom=(np.array(diff)-np.array(errs)))\n",
    "ratio_ax1.set_xlim([0, 3])"
   ]
  },
  {
   "cell_type": "code",
   "execution_count": 9,
   "id": "9e10fb47",
   "metadata": {},
   "outputs": [
    {
     "data": {
      "image/png": "[encoded data removed]",
      "text/plain": [
       "<Figure size 576x504 with 1 Axes>"
      ]
     },
     "execution_count": 9,
     "metadata": {},
     "output_type": "execute_result"
    }
   ],
   "source": [
    "ratio_fig"
   ]
  },
  {
   "cell_type": "markdown",
   "id": "bee10707",
   "metadata": {},
   "source": [
    "## Data Tests"
   ]
  },
  {
   "cell_type": "code",
   "execution_count": 21,
   "id": "88a3cf86",
   "metadata": {},
   "outputs": [
    {
     "name": "stdout",
     "output_type": "stream",
     "text": [
      "[21.378, 140.747, 109.415, 36.0535, 20.9372, 7.6931, 2.65494, 3.81845, 1.59829, 0.322223]\n",
      "\n",
      "[5.35899, 33.9462, 27.5932, 9.12692, 6.06885, 4.14656, 1.72918, 2.01208, 0.616698, 0.12883]\n",
      "\n"
     ]
    }
   ],
   "source": [
    "with open('../stv-analysis-new/nue_unsmeared_events_energy_MC_ONLY_weighted.csv') as file:\n",
    "    content = file.readlines()\n",
    "events = content[0:]\n",
    "    \n",
    "for i in range(10):\n",
    "    events[i]=events[i].rstrip().rstrip(',')\n",
    "    events[i] = float(events[i])\n",
    "    \n",
    "print(events)\n",
    "print(\"\")\n",
    "#------------------------------------------------------------------------------\n",
    "with open('../stv-analysis-new/nue_unsmeared_errors_energy_MC_ONLY_weighted.csv') as file:\n",
    "    content = file.readlines()\n",
    "errors = content[0:]\n",
    "    \n",
    "for i in range(10):\n",
    "    errors[i]=errors[i].rstrip().rstrip(',')\n",
    "    errors[i] = float(errors[i])\n",
    "    \n",
    "print(errors)\n",
    "print(\"\")"
   ]
  },
  {
   "cell_type": "code",
   "execution_count": 22,
   "id": "2cd40e78",
   "metadata": {},
   "outputs": [
    {
     "name": "stdout",
     "output_type": "stream",
     "text": [
      "\n",
      "Making ratio plot.\n",
      "count,  [0.1, 0.6, 1.1, 1.6, 2.1, 2.6, 3.1, 3.6, 4.1, 4.6]\n",
      "bins,  [0.  0.5 1.  1.5 2.  2.5 3.  3.5 4.  4.5 5. ]\n",
      "Weights,  [21.378, 140.747, 109.415, 36.0535, 20.9372, 7.6931, 2.65494, 3.81845, 1.59829, 0.322223]\n",
      "\n"
     ]
    },
    {
     "data": {
      "text/plain": [
       "Text(0.5, 1.0, 'Unsmeared Plot - Nue Energy')"
      ]
     },
     "execution_count": 22,
     "metadata": {},
     "output_type": "execute_result"
    },
    {
     "data": {
      "image/png": "[encoded data removed]",
      "text/plain": [
       "<Figure size 576x504 with 1 Axes>"
      ]
     },
     "metadata": {
      "needs_background": "light"
     },
     "output_type": "display_data"
    }
   ],
   "source": [
    "ratio_fig = plt.figure(figsize=(8, 7))\n",
    "ratio_gs = gridspec.GridSpec(2, 1, height_ratios=[2, 1])\n",
    "ratio_ax1 = plt.subplot(ratio_gs[0])\n",
    "\n",
    "bins = np.arange(0, 5.5, 0.5)\n",
    "count = [0.1, 0.6, 1.1, 1.6, 2.1, 2.6, 3.1, 3.6, 4.1, 4.6]\n",
    "weights = []\n",
    "for i in range(len(count)):\n",
    "    weight = count[i]*events[i]\n",
    "    weights.append(weight)\n",
    "\n",
    "print(\"\")\n",
    "print(\"Making ratio plot.\")\n",
    "print(\"count, \", count)\n",
    "print(\"bins, \", bins)\n",
    "print(\"Weights, \", events)\n",
    "print(\"\")\n",
    "\n",
    "sel = ratio_ax1.hist(count, bins, color='deepskyblue', weights=events)\n",
    "ratio_ax1.set_ylabel('Counts', fontsize=15)\n",
    "ratio_ax1.set_xlabel('True Nue Energy [GeV]', fontsize=15)\n",
    "ratio_ax1.set_title(\"Unsmeared Plot - Nue Energy\")"
   ]
  },
  {
   "cell_type": "code",
   "execution_count": 23,
   "id": "94b41457",
   "metadata": {},
   "outputs": [
    {
     "data": {
      "text/plain": [
       "(0, 5)"
      ]
     },
     "execution_count": 23,
     "metadata": {},
     "output_type": "execute_result"
    }
   ],
   "source": [
    "bincenters = np.arange(0.25, 5.25, 0.5)\n",
    "bin_edges = np.arange(0, 5.5, 0.5)\n",
    "bin_size = [(bin_edges[i + 1] - bin_edges[i]) / 2\n",
    "            for i in range(len(bin_edges) - 1)]\n",
    "n_tot = np.array(events)\n",
    "\n",
    "ratio_ax1.bar(bincenters, np.array(errors)*2,width=[n*2 for n in bin_size],facecolor='tab:green',alpha=0.2,bottom=(np.array(events)-np.array(errors)))\n",
    "ratio_ax1.set_xlim([0, 5])"
   ]
  },
  {
   "cell_type": "code",
   "execution_count": 24,
   "id": "8c621115",
   "metadata": {},
   "outputs": [
    {
     "data": {
      "image/png": "[encoded data removed]",
      "text/plain": [
       "<Figure size 576x504 with 1 Axes>"
      ]
     },
     "execution_count": 24,
     "metadata": {},
     "output_type": "execute_result"
    }
   ],
   "source": [
    "ratio_fig"
   ]
  },
  {
   "cell_type": "code",
   "execution_count": 6,
   "id": "e6d0f8a6",
   "metadata": {},
   "outputs": [
    {
     "name": "stdout",
     "output_type": "stream",
     "text": [
      "259.52129\n"
     ]
    }
   ],
   "source": [
    "print(sum(events))"
   ]
  },
  {
   "cell_type": "code",
   "execution_count": null,
   "id": "6626086b",
   "metadata": {},
   "outputs": [],
   "source": []
  },
  {
   "cell_type": "markdown",
   "id": "5321ce59",
   "metadata": {},
   "source": [
    "## Blockwise Unfolding"
   ]
  },
  {
   "cell_type": "code",
   "execution_count": 34,
   "id": "bc8b695b",
   "metadata": {},
   "outputs": [
    {
     "name": "stdout",
     "output_type": "stream",
     "text": [
      "Unsmeared events\n",
      "[0.0, -2.58703e-13, 99.7291, 309.313, 202.2, 72.5638, 63.682, 2.99959, 42.2346, 6.14934, 0.0, -8.15007e-13, 1212.89, 2390.93, 320.282, 143.804, 169.947, 436.824, 330.402, 514.408]\n",
      "\n",
      "AC\n",
      "[[0.0, 0.0, 0.0, 0.0, 0.0, 0.0, 0.0, 0.0, 0.0, 0.0, 0.0, 0.0, 0.0, 0.0, 0.0, 0.0, 0.0, 0.0, 0.0, 0.0], [0.0, 4.26325e-31, -8.84329e-17, -4.78724e-16, -3.09379e-16, -1.5662e-16, -7.68377e-17, 5.78088e-17, -1.05212e-16, 5.81511e-19, 0.0, 0.0, 0.0, 0.0, 0.0, 0.0, 0.0, 0.0, 0.0, 0.0], [0.0, -8.84329e-17, 0.251081, 0.136087, 0.0929336, -0.0370719, 0.0319966, 0.0658339, -0.0916246, 0.0198944, 0.0, 0.0, 0.0, 0.0, 0.0, 0.0, 0.0, 0.0, 0.0, 0.0], [0.0, -4.78724e-16, 0.136087, 0.684526, 0.228508, 0.0756929, 0.123689, -0.044755, 0.0860978, 0.00839512, 0.0, 0.0, 0.0, 0.0, 0.0, 0.0, 0.0, 0.0, 0.0, 0.0], [0.0, -3.09379e-16, 0.0929336, 0.228508, 0.447077, 0.142868, -0.0102843, -0.000671217, 0.0710362, 0.00337346, 0.0, 0.0, 0.0, 0.0, 0.0, 0.0, 0.0, 0.0, 0.0, 0.0], [0.0, -1.5662e-16, -0.0370719, 0.0756929, 0.142868, 0.16713, 0.064966, -0.0400847, 0.0616514, -0.00188127, 0.0, 0.0, 0.0, 0.0, 0.0, 0.0, 0.0, 0.0, 0.0, 0.0], [0.0, -7.68377e-17, 0.0319966, 0.123689, -0.0102843, 0.064966, 0.196518, 0.0700969, -0.0127296, -0.00157936, 0.0, 0.0, 0.0, 0.0, 0.0, 0.0, 0.0, 0.0, 0.0, 0.0], [0.0, 5.78088e-17, 0.0658339, -0.044755, -0.000671217, -0.0400847, 0.0700969, 0.244287, 0.0328724, -0.0278861, 0.0, 0.0, 0.0, 0.0, 0.0, 0.0, 0.0, 0.0, 0.0, 0.0], [0.0, -1.05212e-16, -0.0916246, 0.0860978, 0.0710362, 0.0616514, -0.0127296, 0.0328724, 0.256117, -0.0345657, 0.0, 0.0, 0.0, 0.0, 0.0, 0.0, 0.0, 0.0, 0.0, 0.0], [0.0, 5.81511e-19, 0.0198944, 0.00839512, 0.00337346, -0.00188127, -0.00157936, -0.0278861, -0.0345657, 0.130584, 0.0, 0.0, 0.0, 0.0, 0.0, 0.0, 0.0, 0.0, 0.0, 0.0], [0.0, 0.0, 0.0, 0.0, 0.0, 0.0, 0.0, 0.0, 0.0, 0.0, 0.0, 0.0, 0.0, 0.0, 0.0, 0.0, 0.0, 0.0, 0.0, 0.0], [0.0, 0.0, 0.0, 0.0, 0.0, 0.0, 0.0, 0.0, 0.0, 0.0, 0.0, 2.27528e-31, -1.93539e-16, -1.86567e-16, 2.8335e-17, -6.66846e-18, -2.28517e-17, -1.57035e-16, -8.04481e-17, -1.16062e-16], [0.0, 0.0, 0.0, 0.0, 0.0, 0.0, 0.0, 0.0, 0.0, 0.0, 0.0, -1.93539e-16, 0.468709, 0.138789, 0.10426, 0.0105899, 0.0244853, 0.0721579, 0.0183295, 0.0753964], [0.0, 0.0, 0.0, 0.0, 0.0, 0.0, 0.0, 0.0, 0.0, 0.0, 0.0, -1.86567e-16, 0.138789, 0.760543, 0.0152226, 0.0354156, 0.038686, 0.117298, 0.125653, 0.12984], [0.0, 0.0, 0.0, 0.0, 0.0, 0.0, 0.0, 0.0, 0.0, 0.0, 0.0, 2.8335e-17, 0.10426, 0.0152226, 0.143701, -0.00269126, -0.00543026, -0.014798, -0.0704106, 0.0308705], [0.0, 0.0, 0.0, 0.0, 0.0, 0.0, 0.0, 0.0, 0.0, 0.0, 0.0, -6.66846e-18, 0.0105899, 0.0354156, -0.00269126, 0.124234, 0.0305957, -0.00477851, 0.00975962, 0.000817328], [0.0, 0.0, 0.0, 0.0, 0.0, 0.0, 0.0, 0.0, 0.0, 0.0, 0.0, -2.28517e-17, 0.0244853, 0.038686, -0.00543026, 0.0305957, 0.240343, 0.00675494, -0.00329589, 0.00815427], [0.0, 0.0, 0.0, 0.0, 0.0, 0.0, 0.0, 0.0, 0.0, 0.0, 0.0, -1.57035e-16, 0.0721579, 0.117298, -0.014798, -0.00477851, 0.00675494, 0.137442, 0.0334653, 0.113397], [0.0, 0.0, 0.0, 0.0, 0.0, 0.0, 0.0, 0.0, 0.0, 0.0, 0.0, -8.04481e-17, 0.0183295, 0.125653, -0.0704106, 0.00975962, -0.00329589, 0.0334653, 0.12459, -0.0110863], [0.0, 0.0, 0.0, 0.0, 0.0, 0.0, 0.0, 0.0, 0.0, 0.0, 0.0, -1.16062e-16, 0.0753964, 0.12984, 0.0308705, 0.000817328, 0.00815427, 0.113397, -0.0110863, 0.122616]]\n",
      "\n",
      "Prior Truth: \n",
      "[0.0, 0.0, 146.2308097326124, 326.309467935948, 218.20887706293024, 108.97573920825559, 60.15403999489246, 32.49329730075427, 21.353965039002265, 13.086464989974091, 0.0, 0.0, 1552.4726723884621, 2817.7263262456695, 823.4271299352757, 217.8824591784839, 85.1955390456073, 31.015870069297264, 25.39016922666311, 16.10176898878071]\n",
      "\n",
      "Errors: \n",
      "[0.0, 7.68566e-14, 29.3023, 93.0302, 61.1855, 23.9264, 19.6392, 10.8537, 21.3671, 3.02057, 0.0, 4.46739e-13, 387.389, 791.109, 244.415, 61.4853, 72.5755, 331.725, 202.933, 243.728]\n",
      "\n",
      "################################################################\n",
      "\n",
      "cov\n",
      "[[0.0, 0.0, 0.0, 0.0, 0.0, 0.0, 0.0, 0.0, 0.0, 0.0, 0.0, 0.0, 0.0, 0.0, 0.0, 0.0, 0.0, 0.0, 0.0, 0.0], [0.0, 5.90693e-27, -1.76902e-12, -7.06671e-12, -4.4143e-12, -1.72179e-12, -1.31691e-12, 2.2748e-13, -1.29716e-12, -7.83093e-14, 0.0, 2.82401e-27, -3.15814e-12, -6.28404e-12, -3.82503e-13, -3.39438e-13, -5.39371e-13, -1.73518e-12, -1.22201e-12, -1.73278e-12], [0.0, -1.76902e-12, 858.624, 2104.57, 1493.36, 448.338, 416.284, 87.3624, 185.883, 58.8514, 0.0, -8.7107e-13, 1335.42, 2480.69, 309.204, 149.869, 151.447, 445.064, 398.63, 549.461], [0.0, -7.06671e-12, 2104.57, 8654.61, 5036.64, 1966.61, 1674.04, -307.527, 1526.95, 98.5241, 0.0, -3.69768e-12, 4078.28, 8142.41, 476.328, 434.383, 709.188, 2288.44, 1588.77, 2265.49], [0.0, -4.4143e-12, 1493.36, 5036.64, 3743.66, 1343.3, 878.409, -48.5775, 909.167, 68.9605, 0.0, -1.49045e-12, 1943.72, 3694.68, 370.432, 218.39, 284.96, 857.1, 629.476, 928.538], [0.0, -1.72179e-12, 448.338, 1966.61, 1343.3, 572.471, 342.902, -83.4981, 424.994, 14.8761, 0.0, -6.66521e-13, 683.464, 1420.86, 50.9572, 73.6569, 125.222, 420.615, 301.615, 409.024], [0.0, -1.31691e-12, 416.284, 1674.04, 878.409, 342.902, 385.697, -59.1263, 253.12, 25.7123, 0.0, -8.6278e-13, 947.347, 1958.1, 130.052, 103.031, 165.168, 538.975, 365.183, 535.592], [0.0, 2.2748e-13, 87.3624, -307.527, -48.5775, -83.4981, -59.1263, 117.802, -148.569, 10.6588, 0.0, 5.71895e-13, -468.414, -1015.67, 5.49269, -49.9824, -118.325, -396.849, -226.084, -341.924], [0.0, -1.29716e-12, 185.883, 1526.95, 909.167, 424.994, 253.12, -148.569, 456.554, -14.8759, 0.0, -1.07988e-12, 927.589, 1966.33, -4.79293, 98.2016, 219.649, 733.144, 446.719, 647.075], [0.0, -7.83093e-14, 58.8514, 98.5241, 68.9605, 14.8761, 25.7123, 10.6588, -14.8759, 9.12385, 0.0, -1.75168e-15, 43.9968, 69.4497, 24.0792, 5.29366, -1.34125, -8.95153, 2.30963, 3.28249], [0.0, 0.0, 0.0, 0.0, 0.0, 0.0, 0.0, 0.0, 0.0, 0.0, 0.0, 0.0, 0.0, 0.0, 0.0, 0.0, 0.0, 0.0, 0.0, 0.0], [0.0, 2.82401e-27, -8.7107e-13, -3.69768e-12, -1.49045e-12, -6.66521e-13, -8.6278e-13, 5.71895e-13, -1.07988e-12, -1.75168e-15, 0.0, 1.99576e-25, -1.1505e-10, -1.88568e-10, 5.53871e-11, 5.82449e-13, -2.73943e-11, -1.45722e-10, -8.47568e-11, -1.05534e-10], [0.0, -3.15814e-12, 1335.42, 4078.28, 1943.72, 683.464, 947.347, -468.414, 927.589, 43.9968, 0.0, -1.1505e-10, 150070.0, 236807.0, 25979.2, 12584.6, 22109.2, 68115.1, 40548.0, 68715.8], [0.0, -6.28404e-12, 2480.69, 8142.41, 3694.68, 1420.86, 1958.1, -1015.67, 1966.33, 69.4497, 0.0, -1.88568e-10, 236807.0, 625853.0, 60542.3, 38302.1, 44799.7, 107869.0, 90269.9, 126339.0], [0.0, -3.82503e-13, 309.204, 476.328, 370.432, 50.9572, 130.052, 5.49269, -4.79293, 24.0792, 0.0, 5.53871e-11, 25979.2, 60542.3, 59738.7, 10549.9, -2035.98, -50988.0, -29087.7, -20801.8], [0.0, -3.39438e-13, 149.869, 434.383, 218.39, 73.6569, 103.031, -49.9824, 98.2016, 5.29366, 0.0, 5.82449e-13, 12584.6, 38302.1, 10549.9, 3780.44, 1612.06, -3514.32, 624.663, 1599.02], [0.0, -5.39371e-13, 151.447, 709.188, 284.96, 125.222, 165.168, -118.325, 219.649, -1.34125, 0.0, -2.73943e-11, 22109.2, 44799.7, -2035.98, 1612.06, 5267.2, 18755.0, 11464.8, 15948.8], [0.0, -1.73518e-12, 445.064, 2288.44, 857.1, 420.615, 538.975, -396.849, 733.144, -8.95153, 0.0, -1.45722e-10, 68115.1, 107869.0, -50988.0, -3514.32, 18755.0, 110041.0, 61917.8, 76171.2], [0.0, -1.22201e-12, 398.63, 1588.77, 629.476, 301.615, 365.183, -226.084, 446.719, 2.30963, 0.0, -8.47568e-11, 40548.0, 90269.9, -29087.7, 624.663, 11464.8, 61917.8, 41181.7, 43577.5], [0.0, -1.73278e-12, 549.461, 2265.49, 928.538, 409.024, 535.592, -341.924, 647.075, 3.28249, 0.0, -1.05534e-10, 68715.8, 126339.0, -20801.8, 1599.02, 15948.8, 76171.2, 43577.5, 59403.4]]\n",
      "\n"
     ]
    }
   ],
   "source": [
    "\n",
    "with open('../blockwise/stv-analysis-new/blockwise_unsmeared_events_energy_MC_ONLY_weighted_recoCut_incErr_Aug29.csv') as file:\n",
    "    content = file.readlines()\n",
    "events = content[0:]\n",
    "    \n",
    "for i in range(20):\n",
    "    events[i]=events[i].rstrip().rstrip(',')\n",
    "    events[i] = float(events[i])\n",
    "    \n",
    "print(\"Unsmeared events\")\n",
    "print(events)\n",
    "print(\"\")\n",
    "\n",
    "#------------------------------------------------------------------------------\n",
    "with open('../blockwise/stv-analysis-new/blockwise_unsmeared_AC_energy_MC_ONLY_weighted_recoCut_incErr_Aug29.csv') as file:\n",
    "    content = file.readlines()\n",
    "AC = content[0:]\n",
    "    \n",
    "for i in range(400):\n",
    "    AC[i]=AC[i].rstrip().rstrip(',')\n",
    "    AC[i] = float(AC[i])\n",
    "    \n",
    "\n",
    "chunks = [AC[x:x+20] for x in range(0, len(AC), 20)]\n",
    "\n",
    "print(\"AC\")\n",
    "print(chunks)\n",
    "print(\"\")\n",
    "#---------------------------------------------------------------\n",
    "\n",
    "with open('nue_full_500_catsel_nopions_recoE_usingSelection_prior_true_signal_blockwise_recoCut_comb_Aug29.csv') as file:\n",
    "    content = file.readlines()\n",
    "prior_true = content[0:]\n",
    "    \n",
    "for i in range(20):\n",
    "    prior_true[i]=prior_true[i].rstrip().rstrip(',')\n",
    "    prior_true[i] = float(prior_true[i])\n",
    "    \n",
    "print(\"Prior Truth: \")\n",
    "print(prior_true)\n",
    "print(\"\")\n",
    "\n",
    "#----------------------------------------------------------------\n",
    "with open('../blockwise/stv-analysis-new/blockwise_unsmeared_errors_energy_MC_ONLY_weighted_recoCut_incErr_Aug29.csv') as file:\n",
    "    content = file.readlines()\n",
    "errs = content[0:]\n",
    "    \n",
    "for i in range(20):\n",
    "    errs[i]=errs[i].rstrip().rstrip(',')\n",
    "    errs[i] = float(errs[i])\n",
    "    \n",
    "print(\"Errors: \")\n",
    "print(errs)\n",
    "print(\"\")\n",
    "print(\"################################################################\")\n",
    "print(\"\")\n",
    "\n",
    "#----------------------------------------------------------------\n",
    "with open('../blockwise/stv-analysis-new/blockwise_unsmeared_cov_matrix_energy_MC_ONLY_weighted_recoCut_incErr_Aug29.csv') as file:\n",
    "    content = file.readlines()\n",
    "cov = content[0:]\n",
    "    \n",
    "for i in range(400):\n",
    "    cov[i]=cov[i].rstrip().rstrip(',')\n",
    "    cov[i] = float(cov[i])\n",
    "    \n",
    "\n",
    "chunks_cov = [cov[x:x+20] for x in range(0, len(cov), 20)]\n",
    "\n",
    "print(\"cov\")\n",
    "print(chunks_cov)\n",
    "print(\"\")\n"
   ]
  },
  {
   "cell_type": "code",
   "execution_count": 35,
   "id": "52c1a98b",
   "metadata": {},
   "outputs": [
    {
     "name": "stdout",
     "output_type": "stream",
     "text": [
      "['20\\n', '0  0\\n', '1  0\\n', '2  0\\n', '3  0\\n', '4  0\\n', '5  0\\n', '6  0\\n', '7  0\\n', '8  0\\n', '9  0\\n', '10 1\\n', '11 1\\n', '12 1\\n', '13 1\\n', '14 1\\n', '15 1\\n', '16 1\\n', '17 1\\n', '18 1\\n', '19 1\\n', '20\\n', '0  0\\n', '1  0\\n', '2  0\\n', '3  0\\n', '4  0\\n', '5  0\\n', '6  0\\n', '7  0\\n', '8  0\\n', '9  0\\n', '10 1\\n', '11 1\\n', '12 1\\n', '13 1\\n', '14 1\\n', '15 1\\n', '16 1\\n', '17 1\\n', '18 1\\n', '19 1\\n']\n"
     ]
    }
   ],
   "source": [
    "with open('../blockwise/stv-analysis-new/blocks.txt') as file:\n",
    "    content = file.readlines()\n",
    "blocks = content[0:]\n",
    "\n",
    "print(blocks)"
   ]
  },
  {
   "cell_type": "code",
   "execution_count": 36,
   "id": "9abee237",
   "metadata": {},
   "outputs": [
    {
     "name": "stdout",
     "output_type": "stream",
     "text": [
      "Prior_Truth x AC: \n",
      "[ 0.00000000e+00 -2.58703596e-13  9.97289374e+01  3.09313138e+02\n",
      "  2.02199994e+02  7.25638031e+01  6.36819082e+01  2.99956640e+00\n",
      "  4.22345906e+01  6.14933946e+00  0.00000000e+00 -8.15008723e-13\n",
      "  1.21288868e+03  2.39093428e+03  3.20282571e+02  1.43803718e+02\n",
      "  1.69947439e+02  4.36824558e+02  3.30402278e+02  5.14406791e+02]\n",
      "\n",
      "\n",
      "Unfolding Done with MC Data Signal: \n",
      "[0.0, -2.58703e-13, 99.7291, 309.313, 202.2, 72.5638, 63.682, 2.99959, 42.2346, 6.14934, 0.0, -8.15007e-13, 1212.89, 2390.93, 320.282, 143.804, 169.947, 436.824, 330.402, 514.408]\n",
      "\n",
      "\n",
      "Difference\n",
      "[ 0.00000000e+00 -5.95754078e-19 -1.62602213e-04  1.38249952e-04\n",
      " -5.53122211e-06  3.06651545e-06 -9.18041843e-05 -2.36010757e-05\n",
      " -9.38026896e-06 -5.36443442e-07  0.00000000e+00 -1.72322836e-18\n",
      " -1.31817737e-03  4.28168966e-03  5.71085943e-04 -2.81892292e-04\n",
      "  4.39481222e-04  5.58180940e-04  2.78065373e-04 -1.20903488e-03]\n",
      "\n",
      "[ 0.00000000e+00  2.30284421e-04 -1.63044165e-04  4.46957904e-05\n",
      " -2.73552041e-06  4.22595746e-06 -1.44160542e-04 -7.86816245e-04\n",
      " -2.22099204e-05 -8.72359454e-06  0.00000000e+00  2.11436800e-04\n",
      " -1.08680820e-04  1.79080190e-04  1.78306906e-04 -1.96025733e-04\n",
      "  2.58598319e-04  1.27781492e-04  8.41596415e-05 -2.35034782e-04]\n"
     ]
    },
    {
     "name": "stderr",
     "output_type": "stream",
     "text": [
      "/tmp/ipykernel_160694/4172135795.py:19: RuntimeWarning: invalid value encountered in true_divide\n",
      "  diffasfrac = np.nan_to_num(diff/made_data_sig)\n"
     ]
    }
   ],
   "source": [
    "\n",
    "made_data_sig = np.dot(prior_true, chunks)\n",
    "print(\"Prior_Truth x AC: \")\n",
    "print(made_data_sig)\n",
    "print(\"\")\n",
    "print(\"\")\n",
    "print(\"Unfolding Done with MC Data Signal: \")\n",
    "print(events)\n",
    "print(\"\")\n",
    "\n",
    "diff = made_data_sig - events\n",
    "print(\"\")\n",
    "print(\"Difference\")\n",
    "print(diff)\n",
    "\n",
    "#for i in made_data_sig:\n",
    "#    print(i)\n",
    "\n",
    "print(\"\")\n",
    "diffasfrac = np.nan_to_num(diff/made_data_sig)\n",
    "print(diffasfrac*100)"
   ]
  },
  {
   "cell_type": "code",
   "execution_count": 37,
   "id": "eea03591",
   "metadata": {},
   "outputs": [
    {
     "data": {
      "image/png": "[encoded data removed]",
      "text/plain": [
       "<Figure size 432x288 with 1 Axes>"
      ]
     },
     "metadata": {
      "needs_background": "light"
     },
     "output_type": "display_data"
    },
    {
     "data": {
      "image/png": "[encoded data removed]",
      "text/plain": [
       "<Figure size 432x288 with 1 Axes>"
      ]
     },
     "metadata": {
      "needs_background": "light"
     },
     "output_type": "display_data"
    },
    {
     "data": {
      "image/png": "[encoded data removed]",
      "text/plain": [
       "<Figure size 432x288 with 1 Axes>"
      ]
     },
     "metadata": {
      "needs_background": "light"
     },
     "output_type": "display_data"
    }
   ],
   "source": [
    "import random\n",
    "import numpy\n",
    "from matplotlib import pyplot\n",
    "\n",
    "bins = np.arange(0, 21, 1)\n",
    "count = np.arange(0.0, 20.0, 1)\n",
    "\n",
    "pyplot.hist(count, bins, weights=made_data_sig, alpha=0.5, label='Prior_Truth x AC')\n",
    "pyplot.hist(count, bins, weights=events, alpha=0.5, label='Unfolding Done with MC Data Signal')\n",
    "pyplot.legend(loc='upper right')\n",
    "pyplot.xlabel(\"Bins\")\n",
    "pyplot.ylabel(\"Count\")\n",
    "pyplot.show()\n",
    "\n",
    "pyplot.hist(count, bins, weights=diff, alpha=0.5, label='Difference')\n",
    "pyplot.legend(loc='upper right')\n",
    "pyplot.xlabel(\"Bins\")\n",
    "pyplot.ylabel(\"Count\")\n",
    "pyplot.show()\n",
    "\n",
    "\n",
    "pyplot.hist(count, bins, weights=diffasfrac, alpha=0.5, label='Fractional Difference')\n",
    "pyplot.legend(loc='upper right')\n",
    "pyplot.xlabel(\"Bins\")\n",
    "pyplot.ylabel(\"Fractional Difference\")\n",
    "pyplot.show()"
   ]
  },
  {
   "cell_type": "markdown",
   "id": "4eb818f2",
   "metadata": {},
   "source": [
    "## Need to convert to xsec units\n",
    "\n",
    "xsec = unfolded event counts / (integrated flux * number of argon targets)"
   ]
  },
  {
   "cell_type": "code",
   "execution_count": 38,
   "id": "f5d1c4f0",
   "metadata": {},
   "outputs": [
    {
     "name": "stdout",
     "output_type": "stream",
     "text": [
      "number of argon targets =  4.240685683288815e+31\n"
     ]
    }
   ],
   "source": [
    "###################\n",
    "### #N argon target calculation\n",
    "###################\n",
    "\n",
    "density = 1.3836  #g/cm^3\n",
    "volume = (246-10)*(106-(-106))*(1026-10)         #cm^3\n",
    "NA = 6.022E23   #atoms/mol\n",
    "Nnuc = 40       #nucleans / atom\n",
    "mmol = 39.95    #g/mol\n",
    "\n",
    "Narg = (density * volume * NA * Nnuc)/mmol   #nucleons\n",
    "\n",
    "print(\"number of argon targets = \", Narg)"
   ]
  },
  {
   "cell_type": "code",
   "execution_count": 39,
   "id": "f159659a",
   "metadata": {},
   "outputs": [
    {
     "name": "stdout",
     "output_type": "stream",
     "text": [
      "2372906200.0\n",
      "270157932748.83884\n"
     ]
    }
   ],
   "source": [
    "####NUE\n",
    "POT = 2.0E20 \n",
    "int_flux_per_POT = 1.1864531E-11         #from Katrina\n",
    "\n",
    "int_flux = int_flux_per_POT*POT    #cm^-2\n",
    "\n",
    "print(int_flux)\n",
    "\n",
    "####NUMU\n",
    "\n",
    "\n",
    "POT_numu = 5.014E20 \n",
    "int_flux_per_POT_numu = 5.388072053227739e-10       \n",
    "\n",
    "int_flux_numu = int_flux_per_POT_numu*POT_numu    #cm^-2\n",
    "\n",
    "print(int_flux_numu)"
   ]
  },
  {
   "cell_type": "code",
   "execution_count": 40,
   "id": "6f85f708",
   "metadata": {},
   "outputs": [],
   "source": [
    "nue_events = np.array(events[0:10])\n",
    "numu_events = np.array(events[10:20])\n",
    "\n",
    "nue_errs = np.array(errs[0:10])\n",
    "numu_errs = np.array(errs[10:20])"
   ]
  },
  {
   "cell_type": "code",
   "execution_count": 41,
   "id": "51d7ee03",
   "metadata": {},
   "outputs": [],
   "source": [
    "#number of events\n",
    "\n",
    "xsec_nue_events = nue_events / (int_flux * Narg )     #cm^2\n",
    "xsec_numu_events = numu_events / (int_flux_numu * Narg )     #cm^2\n",
    "\n",
    "\n",
    "#uncertainty\n",
    "\n",
    "#xsec_nue_errs = nue_errs / (int_flux * Narg )     #cm^2\n",
    "#xsec_numu_errs = numu_errs / (int_flux_numu * Narg )     #cm^2"
   ]
  },
  {
   "cell_type": "code",
   "execution_count": 67,
   "id": "c72037ef",
   "metadata": {},
   "outputs": [
    {
     "name": "stderr",
     "output_type": "stream",
     "text": [
      "/tmp/ipykernel_160694/3991752781.py:21: RuntimeWarning: invalid value encountered in sqrt\n",
      "  xsec_numu_errs = np.nan_to_num(np.sqrt(np.diag(numu_errs_top)))\n",
      "/tmp/ipykernel_160694/3991752781.py:30: RuntimeWarning: invalid value encountered in sqrt\n",
      "  xsec_nue_errs = np.nan_to_num(np.sqrt(np.diag(nue_errs_bot)))\n"
     ]
    }
   ],
   "source": [
    "#Need the four sections of the cov matrix\n",
    "\n",
    "blockwise_errs = chunks_cov\n",
    "#print(blockwise_errs)\n",
    "#print(\"\")\n",
    "\n",
    "#MIX\n",
    "top_left = blockwise_errs[:10]\n",
    "for i in range(len(top_left)):\n",
    "    top_left[i] = top_left[i][:10]\n",
    "    \n",
    "mix_errs_top = np.array(top_left)/((int_flux*int_flux_numu)*(Narg*Narg))\n",
    "xsec_topmix_errs = (np.sqrt(np.diag(mix_errs_top)))\n",
    "    \n",
    "#NUMU ONLY    \n",
    "top_right = blockwise_errs[:10]\n",
    "for i in range(len(top_right)):\n",
    "    top_right[i] = top_right[i][10:]\n",
    "    \n",
    "numu_errs_top = np.array(top_right)/((int_flux_numu*int_flux_numu)*(Narg*Narg))\n",
    "xsec_numu_errs = np.nan_to_num(np.sqrt(np.diag(numu_errs_top)))\n",
    "\n",
    "    \n",
    "#NUE ONLY\n",
    "bot_left = blockwise_errs[10:]\n",
    "for i in range(len(bot_left)):\n",
    "    bot_left[i] = bot_left[i][:10]\n",
    "    \n",
    "nue_errs_bot = np.array(bot_left)/((int_flux*int_flux)*(Narg*Narg))\n",
    "xsec_nue_errs = np.nan_to_num(np.sqrt(np.diag(nue_errs_bot)))\n",
    "\n",
    "#MIX\n",
    "bot_right = blockwise_errs[10:]\n",
    "for i in range(len(bot_right)):\n",
    "    bot_right[i] = bot_right[i][10:]\n",
    "    \n",
    "mix_errs_bot = np.array(bot_right)/((int_flux*int_flux_numu)*(Narg*Narg))\n",
    "xsec_botmix_errs = (np.sqrt(np.diag(mix_errs_bot)))\n"
   ]
  },
  {
   "cell_type": "code",
   "execution_count": 90,
   "id": "ddeb3bea",
   "metadata": {},
   "outputs": [
    {
     "name": "stdout",
     "output_type": "stream",
     "text": [
      "[ 0.         36.13909556  9.36133178 14.72883731 71.87630995 57.44949356\n",
      " 42.66191491  0.78179441 14.55334655  1.36099944]\n",
      "[       nan 0.02801554 0.00709839 0.0117026  0.0578073  0.05486085\n",
      " 0.03563822 0.08990509 0.03271757 0.00288431]\n",
      "[           nan -1212.16047706   -97.50006177  -167.35509528\n",
      " -4998.737306   -1318.84534435  -866.11725222   -51.38494948\n",
      "  -578.0764842    -34.62944564]\n",
      "[ 0.         34.81609509  9.87421196 12.93657974 70.70174896 36.31591035\n",
      " 29.42987007  7.16832962 24.04322117  5.88467889]\n"
     ]
    },
    {
     "name": "stderr",
     "output_type": "stream",
     "text": [
      "/tmp/ipykernel_160694/1560871734.py:3: RuntimeWarning: invalid value encountered in true_divide\n",
      "  xsec_ratio_events = np.nan_to_num(xsec_nue_events/xsec_numu_events)\n",
      "/tmp/ipykernel_160694/1560871734.py:6: RuntimeWarning: invalid value encountered in true_divide\n",
      "  ratio_sq = (xsec_nue_events/xsec_numu_events)*(xsec_nue_events/xsec_numu_events)\n",
      "/tmp/ipykernel_160694/1560871734.py:7: RuntimeWarning: invalid value encountered in true_divide\n",
      "  nue_term = (xsec_nue_errs*xsec_nue_errs)/(xsec_nue_events*xsec_nue_events)\n",
      "/tmp/ipykernel_160694/1560871734.py:8: RuntimeWarning: invalid value encountered in true_divide\n",
      "  numu_term = (xsec_numu_errs*xsec_numu_errs)/(xsec_numu_events*xsec_numu_events)\n",
      "/tmp/ipykernel_160694/1560871734.py:9: RuntimeWarning: invalid value encountered in true_divide\n",
      "  mix_1 = (xsec_botmix_errs*xsec_botmix_errs)/(xsec_numu_events*xsec_nue_events)\n",
      "/tmp/ipykernel_160694/1560871734.py:10: RuntimeWarning: invalid value encountered in true_divide\n",
      "  mix_2 = (xsec_topmix_errs*xsec_topmix_errs)/(xsec_numu_events*xsec_nue_events)\n"
     ]
    }
   ],
   "source": [
    "### Calculate ratio uncertainties\n",
    "\n",
    "xsec_ratio_events = np.nan_to_num(xsec_nue_events/xsec_numu_events)\n",
    "print(xsec_ratio_events)\n",
    "\n",
    "ratio_sq = (xsec_nue_events/xsec_numu_events)*(xsec_nue_events/xsec_numu_events)\n",
    "nue_term = (xsec_nue_errs*xsec_nue_errs)/(xsec_nue_events*xsec_nue_events)\n",
    "numu_term = (xsec_numu_errs*xsec_numu_errs)/(xsec_numu_events*xsec_numu_events)\n",
    "mix_1 = (xsec_botmix_errs*xsec_botmix_errs)/(xsec_numu_events*xsec_nue_events)\n",
    "mix_2 = (xsec_topmix_errs*xsec_topmix_errs)/(xsec_numu_events*xsec_nue_events)\n",
    "\n",
    "ratio_var_errs = ratio_sq*(nue_term + numu_term - mix_1 - mix_2)\n",
    "print(mix_2)\n",
    "print(ratio_var_errs)\n",
    "xsec_ratio_errs = np.nan_to_num(np.sqrt(abs(ratio_var_errs)))\n",
    "print(xsec_ratio_errs)"
   ]
  },
  {
   "cell_type": "code",
   "execution_count": 91,
   "id": "6777351c",
   "metadata": {},
   "outputs": [
    {
     "name": "stdout",
     "output_type": "stream",
     "text": [
      "[ 0.00000000e+00 -2.57089778e-54  9.91072087e-40  3.07384184e-39\n",
      "  2.00939120e-39  7.21113062e-40  6.32848914e-40  2.98088514e-41\n",
      "  4.19712332e-40  6.11099391e-41]\n",
      "\n",
      "[ 0.00000000e+00 -7.11389630e-56  1.05868707e-40  2.08695485e-40\n",
      "  2.79562376e-41  1.25521222e-41  1.48340485e-41  3.81287601e-41\n",
      "  2.88395752e-41  4.49007821e-41]\n",
      "\n",
      "[0.00000000e+00 5.28100356e-55 3.63155213e-40 8.96726137e-40\n",
      " 1.91265920e-40 8.52884189e-41 1.27716292e-40 0.00000000e+00\n",
      " 2.10039298e-40 1.80046652e-41]\n",
      "\n",
      "[0.00000000e+00 4.63851865e-57 3.18973886e-42 7.87630771e-42\n",
      " 1.67996580e-42 7.49122618e-43 1.12178376e-42 0.00000000e+00\n",
      " 1.84485995e-42 1.58142244e-43]\n"
     ]
    }
   ],
   "source": [
    "print(xsec_nue_events)\n",
    "print(\"\")\n",
    "print(xsec_numu_events)\n",
    "print(\"\")\n",
    "print(xsec_nue_errs)\n",
    "print(\"\")\n",
    "print(xsec_numu_errs)"
   ]
  },
  {
   "cell_type": "code",
   "execution_count": 92,
   "id": "7b2d879b",
   "metadata": {},
   "outputs": [
    {
     "data": {
      "text/plain": [
       "<BarContainer object of 10 artists>"
      ]
     },
     "execution_count": 92,
     "metadata": {},
     "output_type": "execute_result"
    },
    {
     "data": {
      "image/png": "[encoded data removed]",
      "text/plain": [
       "<Figure size 576x504 with 1 Axes>"
      ]
     },
     "metadata": {
      "needs_background": "light"
     },
     "output_type": "display_data"
    }
   ],
   "source": [
    "import random\n",
    "import numpy\n",
    "from matplotlib import pyplot\n",
    "\"\"\"\n",
    "bins = np.arange(0, 5.5, 0.5)\n",
    "count = np.arange(0.1, 5.1, 0.5)\n",
    "print(count)\n",
    "\n",
    "plt.ylim(0, 5E-39)\n",
    "\n",
    "plt.xlabel(\"Energy [GeV]\")\n",
    "plt.ylabel(\"xsec [cm^2]\")\n",
    "\n",
    "pyplot.hist(count, bins, weights=xsec_nue_events, alpha=0.5)\n",
    "#pyplot.legend(loc='upper right')\n",
    "pyplot.show()\n",
    "\"\"\"\n",
    "\n",
    "nue_fig = plt.figure(figsize=(8, 7))\n",
    "nue_gs = gridspec.GridSpec(2, 1, height_ratios=[2, 1])\n",
    "nue_ax1 = plt.subplot(nue_gs[0])\n",
    "nue_ax1.set_xlim([0, 5])\n",
    "\n",
    "bins = np.arange(0, 5.5, 0.5)\n",
    "bincenters = np.arange(0.25, 5.25, 0.5)\n",
    "bin_edges = np.arange(0, 5.5, 0.5)\n",
    "bin_size = [(bin_edges[i + 1] - bin_edges[i]) / 2\n",
    "            for i in range(len(bin_edges) - 1)]\n",
    "count = np.arange(0.1, 5.1, 0.5)\n",
    "weights = []\n",
    "for i in range(len(count)):\n",
    "    weight = count[i]*xsec_nue_events[i]\n",
    "    weights.append(weight)\n",
    "\n",
    "sel = nue_ax1.hist(count, bins, color='deepskyblue', weights=xsec_nue_events)\n",
    "plt.ylim(0, 5E-39)\n",
    "nue_ax1.set_xlabel('Energy [GeV]', fontsize=15)\n",
    "nue_ax1.set_ylabel('xsec [cm^2]', fontsize=15)\n",
    "nue_ax1.set_title(\"Nue\")\n",
    "\n",
    "lower_err = np.nan_to_num(xsec_nue_events-xsec_nue_errs)\n",
    "\n",
    "nue_ax1.bar(bincenters, xsec_nue_errs*2,width=[n*2 for n in bin_size],facecolor='tab:green',alpha=0.2,bottom=(lower_err))"
   ]
  },
  {
   "cell_type": "code",
   "execution_count": 93,
   "id": "13a99b51",
   "metadata": {},
   "outputs": [
    {
     "data": {
      "text/plain": [
       "<BarContainer object of 10 artists>"
      ]
     },
     "execution_count": 93,
     "metadata": {},
     "output_type": "execute_result"
    },
    {
     "data": {
      "image/png": "[encoded data removed]",
      "text/plain": [
       "<Figure size 576x504 with 1 Axes>"
      ]
     },
     "metadata": {
      "needs_background": "light"
     },
     "output_type": "display_data"
    }
   ],
   "source": [
    "import random\n",
    "import numpy\n",
    "from matplotlib import pyplot\n",
    "\"\"\"\n",
    "bins = np.arange(0, 5.5, 0.5)\n",
    "count = np.arange(0.1, 5.1, 0.5)\n",
    "print(count)\n",
    "\n",
    "plt.ylim(0, 3E-40)\n",
    "\n",
    "plt.xlabel(\"Energy [GeV]\")\n",
    "plt.ylabel(\"xsec [cm^2]\")\n",
    "\n",
    "pyplot.hist(count, bins, weights=xsec_numu_events, alpha=0.5)\n",
    "#pyplot.legend(loc='upper right')\n",
    "pyplot.show()\n",
    "\"\"\"\n",
    "\n",
    "\n",
    "numu_fig = plt.figure(figsize=(8, 7))\n",
    "numu_gs = gridspec.GridSpec(2, 1, height_ratios=[2, 1])\n",
    "numu_ax1 = plt.subplot(numu_gs[0])\n",
    "numu_ax1.set_xlim([0, 5])\n",
    "\n",
    "bins = np.arange(0, 5.5, 0.5)\n",
    "bincenters = np.arange(0.25, 5.25, 0.5)\n",
    "bin_edges = np.arange(0, 5.5, 0.5)\n",
    "bin_size = [(bin_edges[i + 1] - bin_edges[i]) / 2\n",
    "            for i in range(len(bin_edges) - 1)]\n",
    "count = np.arange(0.1, 5.1, 0.5)\n",
    "weights = []\n",
    "for i in range(len(count)):\n",
    "    weight = count[i]*xsec_numu_events[i]\n",
    "    weights.append(weight)\n",
    "\n",
    "sel = numu_ax1.hist(count, bins, color='deepskyblue', weights=xsec_numu_events)\n",
    "plt.ylim(0, 3E-40)\n",
    "numu_ax1.set_xlabel('Energy [GeV]', fontsize=15)\n",
    "numu_ax1.set_ylabel('xsec [cm^2]', fontsize=15)\n",
    "numu_ax1.set_title(\"Numu\")\n",
    "\n",
    "lower_err = np.nan_to_num(xsec_numu_events-xsec_numu_errs)\n",
    "\n",
    "numu_ax1.bar(bincenters, xsec_numu_errs*2,width=[n*2 for n in bin_size],facecolor='tab:green',alpha=0.2,bottom=(lower_err))"
   ]
  },
  {
   "cell_type": "code",
   "execution_count": 94,
   "id": "7260f44b",
   "metadata": {},
   "outputs": [
    {
     "name": "stdout",
     "output_type": "stream",
     "text": [
      "[0.1 0.6 1.1 1.6 2.1 2.6 3.1 3.6 4.1 4.6]\n",
      "[        nan 36.13909556  9.36133178 14.72883731 71.87630995 57.44949356\n",
      " 42.66191491  0.78179441 14.55334655  1.36099944]\n"
     ]
    },
    {
     "name": "stderr",
     "output_type": "stream",
     "text": [
      "/tmp/ipykernel_160694/4107659271.py:16: RuntimeWarning: invalid value encountered in true_divide\n",
      "  print(xsec_nue_events/xsec_numu_events)\n",
      "/tmp/ipykernel_160694/4107659271.py:18: RuntimeWarning: invalid value encountered in true_divide\n",
      "  pyplot.hist(count, bins, weights=np.nan_to_num(xsec_nue_events/xsec_numu_events), alpha=0.5)\n"
     ]
    },
    {
     "data": {
      "image/png": "[encoded data removed]",
      "text/plain": [
       "<Figure size 432x288 with 1 Axes>"
      ]
     },
     "metadata": {
      "needs_background": "light"
     },
     "output_type": "display_data"
    }
   ],
   "source": [
    "#Think need to replace 2nd bin due to unfolding\n",
    "\n",
    "import random\n",
    "import numpy\n",
    "from matplotlib import pyplot\n",
    "\n",
    "bins = np.arange(0, 5.5, 0.5)\n",
    "count = np.arange(0.1, 5.1, 0.5)\n",
    "print(count)\n",
    "\n",
    "#plt.ylim(0, 3E-40)\n",
    "\n",
    "plt.xlabel(\"Energy [GeV]\")\n",
    "plt.ylabel(\"xsec [cm^2]\")\n",
    "\n",
    "print(xsec_nue_events/xsec_numu_events)\n",
    "\n",
    "pyplot.hist(count, bins, weights=np.nan_to_num(xsec_nue_events/xsec_numu_events), alpha=0.5)\n",
    "#pyplot.legend(loc='upper right')\n",
    "pyplot.show()"
   ]
  },
  {
   "cell_type": "code",
   "execution_count": 95,
   "id": "e90f2e32",
   "metadata": {},
   "outputs": [
    {
     "name": "stdout",
     "output_type": "stream",
     "text": [
      "(array([ 0.        , 36.13909556,  9.36133178, 14.72883731, 71.87630995,\n",
      "       57.44949356, 42.66191491,  0.78179441, 14.55334655,  1.36099944]), array([0. , 0.5, 1. , 1.5, 2. , 2.5, 3. , 3.5, 4. , 4.5, 5. ]), <a list of 10 Patch objects>)\n"
     ]
    },
    {
     "data": {
      "text/plain": [
       "<BarContainer object of 10 artists>"
      ]
     },
     "execution_count": 95,
     "metadata": {},
     "output_type": "execute_result"
    },
    {
     "data": {
      "image/png": "[encoded data removed]",
      "text/plain": [
       "<Figure size 576x504 with 1 Axes>"
      ]
     },
     "metadata": {
      "needs_background": "light"
     },
     "output_type": "display_data"
    }
   ],
   "source": [
    "import random\n",
    "import numpy\n",
    "from matplotlib import pyplot\n",
    "\"\"\"\n",
    "bins = np.arange(0, 5.5, 0.5)\n",
    "count = np.arange(0.1, 5.1, 0.5)\n",
    "print(count)\n",
    "\n",
    "plt.ylim(0, 3E-40)\n",
    "\n",
    "plt.xlabel(\"Energy [GeV]\")\n",
    "plt.ylabel(\"xsec [cm^2]\")\n",
    "\n",
    "pyplot.hist(count, bins, weights=xsec_numu_events, alpha=0.5)\n",
    "#pyplot.legend(loc='upper right')\n",
    "pyplot.show()\n",
    "\"\"\"\n",
    "\n",
    "\n",
    "ratio_fig = plt.figure(figsize=(8, 7))\n",
    "ratio_gs = gridspec.GridSpec(2, 1, height_ratios=[2, 1])\n",
    "ratio_ax1 = plt.subplot(ratio_gs[0])\n",
    "ratio_ax1.set_xlim([0, 5])\n",
    "\n",
    "bins = np.arange(0, 5.5, 0.5)\n",
    "bincenters = np.arange(0.25, 5.25, 0.5)\n",
    "bin_edges = np.arange(0, 5.5, 0.5)\n",
    "bin_size = [(bin_edges[i + 1] - bin_edges[i]) / 2\n",
    "            for i in range(len(bin_edges) - 1)]\n",
    "count = np.arange(0.1, 5.1, 0.5)\n",
    "weights = []\n",
    "for i in range(len(count)):\n",
    "    weight = count[i]*xsec_ratio_events[i]\n",
    "    weights.append(weight)\n",
    "\n",
    "sel = ratio_ax1.hist(count, bins, color='deepskyblue', weights=xsec_ratio_events)\n",
    "print(sel)\n",
    "#plt.ylim(0, 3E-40)\n",
    "ratio_ax1.set_xlabel('Energy [GeV]', fontsize=15)\n",
    "ratio_ax1.set_ylabel('xsec [cm^2]', fontsize=15)\n",
    "ratio_ax1.set_title(\"Ratio\")\n",
    "\n",
    "lower_err = np.nan_to_num(xsec_ratio_events-xsec_ratio_errs)\n",
    "\n",
    "ratio_ax1.bar(bincenters, xsec_ratio_errs*2,width=[n*2 for n in bin_size],facecolor='tab:green',alpha=0.2,bottom=(lower_err))"
   ]
  },
  {
   "cell_type": "code",
   "execution_count": null,
   "id": "51678734",
   "metadata": {},
   "outputs": [],
   "source": []
  }
 ],
 "metadata": {
  "kernelspec": {
   "display_name": "Python 3 (ipykernel)",
   "language": "python",
   "name": "python3"
  },
  "language_info": {
   "codemirror_mode": {
    "name": "ipython",
    "version": 3
   },
   "file_extension": ".py",
   "mimetype": "text/x-python",
   "name": "python",
   "nbconvert_exporter": "python",
   "pygments_lexer": "ipython3",
   "version": "3.8.12"
  }
 },
 "nbformat": 4,
 "nbformat_minor": 5
}
