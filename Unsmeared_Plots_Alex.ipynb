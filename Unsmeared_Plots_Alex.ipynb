{
 "cells": [
  {
   "cell_type": "code",
   "execution_count": 1,
   "id": "47ec4bfc",
   "metadata": {},
   "outputs": [
    {
     "name": "stdout",
     "output_type": "stream",
     "text": [
      "/home/alex/NuMI/PELEE/\n"
     ]
    }
   ],
   "source": [
    "import pandas as pd\n",
    "import matplotlib.pyplot as plt\n",
    "import matplotlib\n",
    "import sys\n",
    "import localSettings as ls\n",
    "import math\n",
    "print(ls.main_path)\n",
    "import load_data_run123\n",
    "import plotter_alex\n",
    "import importlib\n",
    "importlib.reload(plotter_alex)\n",
    "import uproot\n",
    "import matplotlib.pylab as pylab\n",
    "import numpy as np\n",
    "import math\n",
    "from sklearn.model_selection import train_test_split\n",
    "import pickle\n",
    "import xgboost as xgb\n",
    "import nue_booster \n",
    "importlib.reload(nue_booster)\n",
    "import awkward\n",
    "from matplotlib import gridspec\n",
    "from collections import defaultdict"
   ]
  },
  {
   "cell_type": "code",
   "execution_count": 2,
   "id": "007f2681",
   "metadata": {},
   "outputs": [],
   "source": [
    "ending = \"Sept19\""
   ]
  },
  {
   "cell_type": "markdown",
   "id": "3e627bd5",
   "metadata": {},
   "source": [
    "##  Energy"
   ]
  },
  {
   "cell_type": "markdown",
   "id": "2299f24d",
   "metadata": {},
   "source": [
    "## Closure Tests"
   ]
  },
  {
   "cell_type": "markdown",
   "id": "5321ce59",
   "metadata": {},
   "source": [
    "## Blockwise Unfolding"
   ]
  },
  {
   "cell_type": "code",
   "execution_count": 6,
   "id": "bc8b695b",
   "metadata": {},
   "outputs": [
    {
     "name": "stdout",
     "output_type": "stream",
     "text": [
      "Unsmeared events\n",
      "[0.0, 1.87722e-13, 139.283, 352.949, 172.202, 71.6725, 26.8757, 31.9906, 10.8584, 4.76021, 0.0, -5.49624e-13, 2212.08, 1895.67, 453.651, 122.809, 87.1743, -9.73774e-18, 86.6849, 163.136]\n",
      "\n",
      "AC\n",
      "[[0.0, 0.0, 0.0, 0.0, 0.0, 0.0, 0.0, 0.0, 0.0, 0.0, 0.0, 0.0, 0.0, 0.0, 0.0, 0.0, 0.0, 0.0, 0.0, 0.0], [0.0, 8.95889e-31, -1.10244e-16, 6.25011e-16, -9.22093e-17, 1.21259e-16, -2.38242e-16, -5.52525e-18, 4.00458e-17, -1.36674e-16, 0.0, 0.0, 0.0, 0.0, 0.0, 0.0, 0.0, 0.0, 0.0, 0.0], [0.0, -1.10244e-16, 0.320673, 0.131486, 0.128428, 0.015334, 0.0792231, -0.091067, 0.0292221, 0.00111077, 0.0, 0.0, 0.0, 0.0, 0.0, 0.0, 0.0, 0.0, 0.0, 0.0], [0.0, 6.25011e-16, 0.131486, 0.758575, 0.183049, 0.15967, -0.0340986, 0.0668237, 0.0242003, 0.00252913, 0.0, 0.0, 0.0, 0.0, 0.0, 0.0, 0.0, 0.0, 0.0, 0.0], [0.0, -9.22093e-17, 0.128428, 0.183049, 0.414096, -0.0243304, 0.00102773, 0.0529889, 0.0112504, 0.000369118, 0.0, 0.0, 0.0, 0.0, 0.0, 0.0, 0.0, 0.0, 0.0, 0.0], [0.0, 1.21259e-16, 0.015334, 0.15967, -0.0243304, 0.118412, 0.0772331, 0.0566882, -0.0172428, 8.95074e-05, 0.0, 0.0, 0.0, 0.0, 0.0, 0.0, 0.0, 0.0, 0.0, 0.0], [0.0, -2.38242e-16, 0.0792231, -0.0340986, 0.00102773, 0.0772331, 0.321887, 0.127526, -0.0729159, 0.00358605, 0.0, 0.0, 0.0, 0.0, 0.0, 0.0, 0.0, 0.0, 0.0, 0.0], [0.0, -5.52525e-18, -0.091067, 0.0668237, 0.0529889, 0.0566882, 0.127526, 0.212199, -0.0684807, 0.00816405, 0.0, 0.0, 0.0, 0.0, 0.0, 0.0, 0.0, 0.0, 0.0, 0.0], [0.0, 4.00458e-17, 0.0292221, 0.0242003, 0.0112504, -0.0172428, -0.0729159, -0.0684807, 0.0320834, 0.022816, 0.0, 0.0, 0.0, 0.0, 0.0, 0.0, 0.0, 0.0, 0.0, 0.0], [0.0, -1.36674e-16, 0.00111077, 0.00252913, 0.000369118, 8.95074e-05, 0.00358605, 0.00816405, 0.022816, 0.394981, 0.0, 0.0, 0.0, 0.0, 0.0, 0.0, 0.0, 0.0, 0.0, 0.0], [0.0, 0.0, 0.0, 0.0, 0.0, 0.0, 0.0, 0.0, 0.0, 0.0, 0.0, 0.0, 0.0, 0.0, 0.0, 0.0, 0.0, 0.0, 0.0, 0.0], [0.0, 0.0, 0.0, 0.0, 0.0, 0.0, 0.0, 0.0, 0.0, 0.0, 0.0, 4.73424e-32, -1.26248e-16, -1.12768e-16, 1.72166e-17, -1.70518e-17, -3.57881e-17, 1.20458e-35, -5.10121e-18, -9e-18], [0.0, 0.0, 0.0, 0.0, 0.0, 0.0, 0.0, 0.0, 0.0, 0.0, 0.0, -1.26248e-16, 0.505799, 0.426324, 0.0573861, 0.0293483, 0.0159962, -2.19193e-21, 0.0195744, 0.0374424], [0.0, 0.0, 0.0, 0.0, 0.0, 0.0, 0.0, 0.0, 0.0, 0.0, 0.0, -1.12768e-16, 0.426324, 0.377579, 0.0356231, 0.0212659, 0.0120433, -1.98078e-21, 0.0175204, 0.0312818], [0.0, 0.0, 0.0, 0.0, 0.0, 0.0, 0.0, 0.0, 0.0, 0.0, 0.0, 1.72166e-17, 0.0573861, 0.0356231, 0.375065, -0.0348446, 0.0218022, -8.24563e-22, 0.00040536, 0.00422264], [0.0, 0.0, 0.0, 0.0, 0.0, 0.0, 0.0, 0.0, 0.0, 0.0, 0.0, -1.70518e-17, 0.0293483, 0.0212659, -0.0348446, 0.163677, -0.00684785, 1.63541e-21, 0.0011715, 0.00220675], [0.0, 0.0, 0.0, 0.0, 0.0, 0.0, 0.0, 0.0, 0.0, 0.0, 0.0, -3.57881e-17, 0.0159962, 0.0120433, 0.0218022, -0.00684785, 0.134526, 2.05351e-21, 0.000489688, 0.00120484], [0.0, 0.0, 0.0, 0.0, 0.0, 0.0, 0.0, 0.0, 0.0, 0.0, 0.0, 1.20458e-35, -2.19193e-21, -1.98078e-21, -8.24563e-22, 1.63541e-21, 2.05351e-21, 1.46426e-34, 2.14777e-21, 1.10096e-21], [0.0, 0.0, 0.0, 0.0, 0.0, 0.0, 0.0, 0.0, 0.0, 0.0, 0.0, -5.10121e-18, 0.0195744, 0.0175204, 0.00040536, 0.0011715, 0.000489688, 2.14777e-21, 0.000860687, 0.00145799], [0.0, 0.0, 0.0, 0.0, 0.0, 0.0, 0.0, 0.0, 0.0, 0.0, 0.0, -9e-18, 0.0374424, 0.0312818, 0.00422264, 0.00220675, 0.00120484, 1.10096e-21, 0.00145799, 0.00280492]]\n",
      "\n",
      "Prior Truth: \n",
      "[0.0, 0.0, 197.93954583800692, 364.49462748033045, 194.7252197383367, 88.86107045775498, 44.07925294410005, 26.197168512275336, 13.660444260193287, 7.22878388108655, 0.0, 0.0, 2440.2139991286504, 2191.03113439611, 639.4803911047129, 166.61190570961068, 66.30718168902213, 28.918677785579444, 23.971327918847052, 16.477146365145842]\n",
      "\n",
      "Errors: \n",
      "[0.0, 7.84317e-14, 41.9735, 109.238, 54.6229, 23.6688, 12.2281, 16.2729, 4.13355, 1.74371, 0.0, 1.99618e-13, 791.408, 678.927, 165.035, 54.2673, 35.1064, 3.53723e-16, 31.1611, 58.3806]\n",
      "\n",
      "################################################################\n",
      "\n",
      "cov\n",
      "[[0.0, 0.0, 0.0, 0.0, 0.0, 0.0, 0.0, 0.0, 0.0, 0.0, 0.0, 0.0, 0.0, 0.0, 0.0, 0.0, 0.0, 0.0, 0.0, 0.0], [0.0, 6.15154e-27, 1.31729e-12, 7.84131e-12, 2.22976e-12, 1.78024e-12, -1.46726e-13, 1.00498e-12, 1.60938e-13, 5.70254e-14, 0.0, -1.04534e-27, 4.16154e-12, 3.59039e-12, 8.42181e-13, 2.6563e-13, 1.80926e-13, -2.897e-31, 1.64312e-13, 3.06964e-13], [0.0, 1.31729e-12, 1761.77, 3292.92, 1979.04, 589.232, 354.091, 146.025, 150.015, 36.3093, 0.0, -8.94184e-13, 3559.67, 3041.79, 646.012, 212.642, 153.869, 8.21841e-16, 139.325, 262.559], [0.0, 7.84131e-12, 3292.92, 11933.0, 4808.38, 2485.31, 229.429, 1327.63, 318.911, 102.3, 0.0, -1.89698e-12, 7554.24, 6491.71, 1464.97, 464.191, 327.401, 3.91652e-16, 297.191, 557.219], [0.0, 2.22976e-12, 1979.04, 4808.38, 2983.66, 814.751, 286.991, 506.226, 163.399, 48.9178, 0.0, -8.0137e-13, 3200.75, 2741.77, 602.211, 180.57, 134.4, 3.78251e-16, 125.568, 236.13], [0.0, 1.78024e-12, 589.232, 2485.31, 814.751, 560.214, 31.5967, 282.564, 58.1966, 20.4611, 0.0, -4.33679e-13, 1722.63, 1482.1, 338.924, 111.375, 76.8313, 1.05174e-16, 67.8138, 127.031], [0.0, -1.46726e-13, 354.091, 229.429, 286.991, 31.5967, 149.526, -35.373, 16.8538, 5.88974, 0.0, -3.93255e-14, 149.573, 123.233, 11.7375, 10.9746, 10.3245, 2.7011e-16, 5.64749, 11.0168], [0.0, 1.00498e-12, 146.025, 1327.63, 506.226, 282.564, -35.373, 264.808, 7.17624, 10.4901, 0.0, -1.49014e-13, 594.078, 517.092, 135.538, 38.6219, 26.4661, -1.81902e-16, 23.6429, 43.8118], [0.0, 1.60938e-13, 150.015, 318.911, 163.399, 58.1966, 16.8538, 7.17624, 17.0863, 3.05382, 0.0, -7.46554e-14, 298.312, 254.671, 53.2934, 16.8581, 12.1046, 5.83428e-17, 11.668, 22.0089], [0.0, 5.70254e-14, 36.3093, 102.3, 48.9178, 20.4611, 5.88974, 10.4901, 3.05382, 3.04051, 0.0, -1.53711e-14, 61.6165, 53.0223, 12.7523, 3.45932, 2.57236, -3.51339e-18, 2.42704, 4.54496], [0.0, 0.0, 0.0, 0.0, 0.0, 0.0, 0.0, 0.0, 0.0, 0.0, 0.0, 0.0, 0.0, 0.0, 0.0, 0.0, 0.0, 0.0, 0.0, 0.0], [0.0, -1.04534e-27, -8.94184e-13, -1.89698e-12, -8.0137e-13, -4.33679e-13, -3.93255e-14, -1.49014e-13, -7.46554e-14, -1.53711e-14, 0.0, 3.98474e-26, -1.57697e-10, -1.35334e-10, -2.58919e-11, -9.23553e-12, -6.19934e-12, 1.00217e-30, -6.20366e-12, -1.16257e-11], [0.0, 4.16154e-12, 3559.67, 7554.24, 3200.75, 1722.63, 149.573, 594.078, 298.312, 61.6165, 0.0, -1.57697e-10, 626327.0, 537219.0, 105870.0, 36122.4, 24697.1, -2.60699e-15, 24640.4, 46198.6], [0.0, 3.59039e-12, 3041.79, 6491.71, 2741.77, 1482.1, 123.233, 517.092, 254.671, 53.0223, 0.0, -1.35334e-10, 537219.0, 460941.0, 90484.2, 31026.3, 21159.5, -2.23592e-15, 21144.0, 39623.7], [0.0, 8.42181e-13, 646.012, 1464.97, 602.211, 338.924, 11.7375, 135.538, 53.2934, 12.7523, 0.0, -2.58919e-11, 105870.0, 90484.2, 27236.6, 4525.19, 4962.69, -4.57263e-16, 4118.61, 7808.67], [0.0, 2.6563e-13, 212.642, 464.191, 180.57, 111.375, 10.9746, 38.6219, 16.8581, 3.45932, 0.0, -9.23553e-12, 36122.4, 31026.3, 4525.19, 2944.94, 1211.02, -1.41916e-16, 1428.72, 2664.53], [0.0, 1.80926e-13, 153.869, 327.401, 134.4, 76.8313, 10.3245, 26.4661, 12.1046, 2.57236, 0.0, -6.19934e-12, 24697.1, 21159.5, 4962.69, 1211.02, 1232.46, -1.01861e-16, 967.84, 1821.63], [0.0, -2.897e-31, 8.21841e-16, 3.91652e-16, 3.78251e-16, 1.05174e-16, 2.7011e-16, -1.81902e-16, 5.83428e-17, -3.51339e-18, 0.0, 1.00217e-30, -2.60699e-15, -2.23592e-15, -4.57263e-16, -1.41916e-16, -1.01861e-16, 1.2512e-31, -5.02349e-17, -1.55824e-16], [0.0, 1.64312e-13, 139.325, 297.191, 125.568, 67.8138, 5.64749, 23.6429, 11.668, 2.42704, 0.0, -6.20366e-12, 24640.4, 21144.0, 4118.61, 1428.72, 967.84, -5.02349e-17, 971.014, 1818.08], [0.0, 3.06964e-13, 262.559, 557.219, 236.13, 127.031, 11.0168, 43.8118, 22.0089, 4.54496, 0.0, -1.16257e-11, 46198.6, 39623.7, 7808.67, 2664.53, 1821.63, -1.55824e-16, 1818.08, 3408.29]]\n",
      "\n"
     ]
    }
   ],
   "source": [
    "\n",
    "with open('../blockwise/stv-analysis-new/blockwise_unsmeared_events_energy_MC_ONLY_weighted_recoCut_incErr_'+ending+'.csv') as file:\n",
    "    content = file.readlines()\n",
    "events = content[0:]\n",
    "    \n",
    "for i in range(20):\n",
    "    events[i]=events[i].rstrip().rstrip(',')\n",
    "    events[i] = float(events[i])\n",
    "    \n",
    "print(\"Unsmeared events\")\n",
    "print(events)\n",
    "print(\"\")\n",
    "\n",
    "#------------------------------------------------------------------------------\n",
    "with open('../blockwise/stv-analysis-new/blockwise_unsmeared_AC_energy_MC_ONLY_weighted_recoCut_incErr_'+ending+'.csv') as file:\n",
    "    content = file.readlines()\n",
    "AC = content[0:]\n",
    "    \n",
    "for i in range(400):\n",
    "    AC[i]=AC[i].rstrip().rstrip(',')\n",
    "    AC[i] = float(AC[i])\n",
    "    \n",
    "\n",
    "chunks = [AC[x:x+20] for x in range(0, len(AC), 20)]\n",
    "\n",
    "print(\"AC\")\n",
    "print(chunks)\n",
    "print(\"\")\n",
    "#---------------------------------------------------------------\n",
    "\n",
    "with open('nue_full_500_catsel_nopions_recoE_usingSelection_prior_true_signal_blockwise_recoCut_comb_'+ending+'.csv') as file:\n",
    "    content = file.readlines()\n",
    "prior_true = content[0:]\n",
    "    \n",
    "for i in range(20):\n",
    "    prior_true[i]=prior_true[i].rstrip().rstrip(',')\n",
    "    prior_true[i] = float(prior_true[i])\n",
    "    \n",
    "print(\"Prior Truth: \")\n",
    "print(prior_true)\n",
    "print(\"\")\n",
    "\n",
    "#----------------------------------------------------------------\n",
    "with open('../blockwise/stv-analysis-new/blockwise_unsmeared_errors_energy_MC_ONLY_weighted_recoCut_incErr_'+ending+'.csv') as file:\n",
    "    content = file.readlines()\n",
    "errs = content[0:]\n",
    "    \n",
    "for i in range(20):\n",
    "    errs[i]=errs[i].rstrip().rstrip(',')\n",
    "    errs[i] = float(errs[i])\n",
    "    \n",
    "print(\"Errors: \")\n",
    "print(errs)\n",
    "print(\"\")\n",
    "print(\"################################################################\")\n",
    "print(\"\")\n",
    "\n",
    "#----------------------------------------------------------------\n",
    "with open('../blockwise/stv-analysis-new/blockwise_unsmeared_cov_matrix_energy_MC_ONLY_weighted_recoCut_incErr_'+ending+'.csv') as file:\n",
    "    content = file.readlines()\n",
    "cov = content[0:]\n",
    "    \n",
    "for i in range(400):\n",
    "    cov[i]=cov[i].rstrip().rstrip(',')\n",
    "    cov[i] = float(cov[i])\n",
    "    \n",
    "\n",
    "chunks_cov = [cov[x:x+20] for x in range(0, len(cov), 20)]\n",
    "\n",
    "print(\"cov\")\n",
    "print(chunks_cov)\n",
    "print(\"\")\n"
   ]
  },
  {
   "cell_type": "code",
   "execution_count": 7,
   "id": "52c1a98b",
   "metadata": {},
   "outputs": [
    {
     "name": "stdout",
     "output_type": "stream",
     "text": [
      "['20\\n', '0  0\\n', '1  0\\n', '2  0\\n', '3  0\\n', '4  0\\n', '5  0\\n', '6  0\\n', '7  0\\n', '8  0\\n', '9  0\\n', '10 1\\n', '11 1\\n', '12 1\\n', '13 1\\n', '14 1\\n', '15 1\\n', '16 1\\n', '17 1\\n', '18 1\\n', '19 1\\n', '20\\n', '0  0\\n', '1  0\\n', '2  0\\n', '3  0\\n', '4  0\\n', '5  0\\n', '6  0\\n', '7  0\\n', '8  0\\n', '9  0\\n', '10 1\\n', '11 1\\n', '12 1\\n', '13 1\\n', '14 1\\n', '15 1\\n', '16 1\\n', '17 1\\n', '18 1\\n', '19 1\\n']\n"
     ]
    }
   ],
   "source": [
    "with open('../blockwise/stv-analysis-new/blocks.txt') as file:\n",
    "    content = file.readlines()\n",
    "blocks = content[0:]\n",
    "\n",
    "print(blocks)"
   ]
  },
  {
   "cell_type": "code",
   "execution_count": 8,
   "id": "9abee237",
   "metadata": {},
   "outputs": [
    {
     "name": "stdout",
     "output_type": "stream",
     "text": [
      "Prior_Truth x AC: \n",
      "[ 0.00000000e+00  1.87724014e-13  1.39284189e+02  3.52951915e+02\n",
      "  1.72204081e+02  7.16730872e+01  2.68749866e+01  3.19905715e+01\n",
      "  1.08587381e+01  4.76040429e+00  0.00000000e+00 -5.49625276e-13\n",
      "  2.21208085e+03  1.89566654e+03  4.53651810e+02  1.22808862e+02\n",
      "  8.71741732e+01 -9.73775398e-18  8.66849976e+01  1.63135889e+02]\n",
      "\n",
      "\n",
      "Unfolding Done with MC Data Signal: \n",
      "[0.0, 1.87722e-13, 139.283, 352.949, 172.202, 71.6725, 26.8757, 31.9906, 10.8584, 4.76021, 0.0, -5.49624e-13, 2212.08, 1895.67, 453.651, 122.809, 87.1743, -9.73774e-18, 86.6849, 163.136]\n",
      "\n",
      "\n",
      "Difference\n",
      "[ 0.00000000e+00  2.01398832e-18  1.18864984e-03  2.91533130e-03\n",
      "  2.08071219e-03  5.87154362e-04 -7.13382950e-04 -2.85120754e-05\n",
      "  3.38075223e-04  1.94294556e-04  0.00000000e+00 -1.27586184e-18\n",
      "  8.50955882e-04 -3.45696327e-03  8.09970536e-04 -1.38314205e-04\n",
      " -1.26801286e-04 -1.39758164e-23  9.75666228e-05 -1.10738893e-04]\n",
      "\n",
      "[ 0.00000000e+00  1.07284533e-03  8.53398976e-04  8.25985403e-04\n",
      "  1.20828274e-03  8.19211764e-04 -2.65444951e-03 -8.91264959e-05\n",
      "  3.11339330e-03  4.08147174e-03  0.00000000e+00  2.32133037e-04\n",
      "  3.84685705e-05 -1.82361359e-04  1.78544540e-04 -1.12625590e-04\n",
      " -1.45457400e-04  1.43521971e-04  1.12553066e-04 -6.78813800e-05]\n"
     ]
    },
    {
     "name": "stderr",
     "output_type": "stream",
     "text": [
      "/tmp/ipykernel_12097/4172135795.py:19: RuntimeWarning: invalid value encountered in true_divide\n",
      "  diffasfrac = np.nan_to_num(diff/made_data_sig)\n"
     ]
    }
   ],
   "source": [
    "\n",
    "made_data_sig = np.dot(prior_true, chunks)\n",
    "print(\"Prior_Truth x AC: \")\n",
    "print(made_data_sig)\n",
    "print(\"\")\n",
    "print(\"\")\n",
    "print(\"Unfolding Done with MC Data Signal: \")\n",
    "print(events)\n",
    "print(\"\")\n",
    "\n",
    "diff = made_data_sig - events\n",
    "print(\"\")\n",
    "print(\"Difference\")\n",
    "print(diff)\n",
    "\n",
    "#for i in made_data_sig:\n",
    "#    print(i)\n",
    "\n",
    "print(\"\")\n",
    "diffasfrac = np.nan_to_num(diff/made_data_sig)\n",
    "print(diffasfrac*100)"
   ]
  },
  {
   "cell_type": "code",
   "execution_count": 9,
   "id": "eea03591",
   "metadata": {},
   "outputs": [
    {
     "data": {
      "image/png": "[encoded data removed]",
      "text/plain": [
       "<Figure size 432x288 with 1 Axes>"
      ]
     },
     "metadata": {
      "needs_background": "light"
     },
     "output_type": "display_data"
    },
    {
     "data": {
      "image/png": "[encoded data removed]",
      "text/plain": [
       "<Figure size 432x288 with 1 Axes>"
      ]
     },
     "metadata": {
      "needs_background": "light"
     },
     "output_type": "display_data"
    },
    {
     "data": {
      "image/png": "[encoded data removed]",
      "text/plain": [
       "<Figure size 432x288 with 1 Axes>"
      ]
     },
     "metadata": {
      "needs_background": "light"
     },
     "output_type": "display_data"
    }
   ],
   "source": [
    "import random\n",
    "import numpy\n",
    "from matplotlib import pyplot\n",
    "\n",
    "bins = np.arange(0, 21, 1)\n",
    "count = np.arange(0.0, 20.0, 1)\n",
    "\n",
    "pyplot.hist(count, bins, weights=made_data_sig, alpha=0.5, label='Prior_Truth x AC')\n",
    "pyplot.hist(count, bins, weights=events, alpha=0.5, label='Unfolding Done with MC Data Signal')\n",
    "pyplot.legend(loc='upper right')\n",
    "pyplot.xlabel(\"Bin Number\")\n",
    "pyplot.ylabel(\"Count\")\n",
    "pyplot.show()\n",
    "\n",
    "pyplot.hist(count, bins, weights=diff, alpha=0.5, label='Difference')\n",
    "pyplot.legend(loc='upper right')\n",
    "pyplot.xlabel(\"Bin Number\")\n",
    "pyplot.ylabel(\"Count\")\n",
    "pyplot.show()\n",
    "\n",
    "\n",
    "pyplot.hist(count, bins, weights=diffasfrac, alpha=0.5, label='Fractional Difference')\n",
    "pyplot.legend(loc='upper right')\n",
    "pyplot.xlabel(\"Bin Number\")\n",
    "pyplot.ylabel(\"Fractional Difference\")\n",
    "pyplot.show()"
   ]
  },
  {
   "cell_type": "code",
   "execution_count": 10,
   "id": "ab62440a",
   "metadata": {},
   "outputs": [
    {
     "data": {
      "image/png": "[encoded data removed]",
      "text/plain": [
       "<Figure size 720x432 with 1 Axes>"
      ]
     },
     "metadata": {
      "needs_background": "light"
     },
     "output_type": "display_data"
    }
   ],
   "source": [
    "fig = plt.figure(figsize=(10, 6))\n",
    "\n",
    "pyplot.hist(count, bins, weights=made_data_sig, alpha=0.5, label='Prior_Truth x AC')\n",
    "pyplot.hist(count, bins, weights=events, alpha=0.5, label='Unfolding Done with MC Data Signal')\n",
    "pyplot.legend(loc='upper left')\n",
    "pyplot.xlabel(\"Bin Number\")\n",
    "pyplot.ylabel(\"Count\")\n",
    "pyplot.title(\"GENIE Closure Test - Neutrino Energy\")\n",
    "pyplot.show()\n",
    "\n",
    "fig.savefig(\"GENIE_closure_test_\"+ending+\".svg\",bbox_inches='tight' )"
   ]
  },
  {
   "cell_type": "code",
   "execution_count": 11,
   "id": "5aab5cda",
   "metadata": {},
   "outputs": [
    {
     "data": {
      "image/png": "[encoded data removed]",
      "text/plain": [
       "<Figure size 720x432 with 1 Axes>"
      ]
     },
     "metadata": {
      "needs_background": "light"
     },
     "output_type": "display_data"
    }
   ],
   "source": [
    "fig = plt.figure(figsize=(10, 6))\n",
    "\n",
    "pyplot.hist(count, bins, weights=diff, alpha=0.5)\n",
    "#pyplot.legend(loc='upper right')\n",
    "pyplot.xlabel(\"Bin Number\")\n",
    "pyplot.ylabel(\"Difference\")\n",
    "pyplot.title(\"GENIE Closure Test - Difference\")\n",
    "pyplot.show()\n",
    "\n",
    "fig.savefig(\"GENIE_closure_test_diff_\"+ending+\".svg\",bbox_inches='tight' )"
   ]
  },
  {
   "cell_type": "code",
   "execution_count": 12,
   "id": "eb9e8d40",
   "metadata": {},
   "outputs": [
    {
     "data": {
      "image/png": "[encoded data removed]",
      "text/plain": [
       "<Figure size 720x432 with 2 Axes>"
      ]
     },
     "metadata": {
      "needs_background": "light"
     },
     "output_type": "display_data"
    }
   ],
   "source": [
    "fig = plt.figure(figsize=(10, 6))  \n",
    "    \n",
    "plt.pcolor(bins, bins, chunks, cmap='OrRd', edgecolors='k')#, vmin=-1, vmax=1)\n",
    "            \n",
    "cbar = plt.colorbar()\n",
    "cbar.ax.tick_params(labelsize=14)\n",
    "#cbar.set_label(r\"Log (Power)\", size=15)\n",
    "\n",
    "plt.xlabel('Bin Number', fontsize=15)\n",
    "plt.ylabel('Bin Number', fontsize=15)\n",
    "\n",
    "plt.title('Additional Smearing Matrix', fontsize=15)\n",
    "\n",
    "plt.show()\n",
    "\n",
    "fig.savefig(\"GENIE_closure_test_Ac_\"+ending+\".svg\",bbox_inches='tight' )"
   ]
  },
  {
   "cell_type": "markdown",
   "id": "4eb818f2",
   "metadata": {},
   "source": [
    "## Need to convert to xsec units\n",
    "\n",
    "xsec = unfolded event counts / (integrated flux * number of argon targets)"
   ]
  },
  {
   "cell_type": "code",
   "execution_count": 13,
   "id": "f5d1c4f0",
   "metadata": {},
   "outputs": [
    {
     "name": "stdout",
     "output_type": "stream",
     "text": [
      "number of argon targets =  4.240685683288815e+31\n"
     ]
    }
   ],
   "source": [
    "###################\n",
    "### #N argon target calculation\n",
    "###################\n",
    "\n",
    "density = 1.3836  #g/cm^3\n",
    "volume = (246-10)*(106-(-106))*(1026-10)         #cm^3\n",
    "NA = 6.022E23   #atoms/mol\n",
    "Nnuc = 40       #nucleans / atom\n",
    "mmol = 39.95    #g/mol\n",
    "\n",
    "Narg = (density * volume * NA * Nnuc)/mmol   #nucleons\n",
    "\n",
    "print(\"number of argon targets = \", Narg)"
   ]
  },
  {
   "cell_type": "code",
   "execution_count": 14,
   "id": "f159659a",
   "metadata": {},
   "outputs": [
    {
     "name": "stdout",
     "output_type": "stream",
     "text": [
      "Nue integrated flux:  6699173958.965427\n",
      "Numu integrated flux:  293274644711.0575\n"
     ]
    }
   ],
   "source": [
    "#Need R1 AND R3\n",
    "\n",
    "####NUE\n",
    "POT_R1 = 2.0E20 \n",
    "int_flux_per_POT_R1 = 1.1864530596659353e-11\n",
    "POT_R3 = 5.014E20\n",
    "int_flux_per_POT_R3 = 8.628376225834778e-12\n",
    "\n",
    "int_flux = (int_flux_per_POT_R1*POT_R1) + (int_flux_per_POT_R3*POT_R3)    #cm^-2\n",
    "\n",
    "print(\"Nue integrated flux: \", int_flux)\n",
    "\n",
    "####NUMU\n",
    "\n",
    "POT_numu_R1 = 2.0E20 \n",
    "int_flux_per_POT_numu_R1 = 5.455771063338641e-10\n",
    "POT_numu_R3 = 5.014E20 \n",
    "int_flux_per_POT_numu_R3 = 3.6729003479115414e-10\n",
    "\n",
    "int_flux_numu = (int_flux_per_POT_numu_R1*POT_numu_R1) + (int_flux_per_POT_numu_R3*POT_numu_R3)    #cm^-2\n",
    "\n",
    "print(\"Numu integrated flux: \", int_flux_numu)"
   ]
  },
  {
   "cell_type": "code",
   "execution_count": 15,
   "id": "6f85f708",
   "metadata": {},
   "outputs": [],
   "source": [
    "nue_events = np.array(events[0:10])\n",
    "numu_events = np.array(events[10:20])\n",
    "\n",
    "nue_errs = np.array(errs[0:10])\n",
    "numu_errs = np.array(errs[10:20])"
   ]
  },
  {
   "cell_type": "code",
   "execution_count": 16,
   "id": "51d7ee03",
   "metadata": {},
   "outputs": [],
   "source": [
    "#number of events\n",
    "\n",
    "xsec_nue_events = nue_events / (int_flux * Narg )     \n",
    "xsec_numu_events = numu_events / (int_flux_numu * Narg )     \n",
    "\n",
    "\n",
    "#uncertainty\n",
    "\n",
    "#xsec_nue_errs = nue_errs / (int_flux * Narg )     \n",
    "#xsec_numu_errs = numu_errs / (int_flux_numu * Narg )     "
   ]
  },
  {
   "cell_type": "code",
   "execution_count": 17,
   "id": "c72037ef",
   "metadata": {},
   "outputs": [
    {
     "name": "stderr",
     "output_type": "stream",
     "text": [
      "/tmp/ipykernel_12097/3991752781.py:21: RuntimeWarning: invalid value encountered in sqrt\n",
      "  xsec_numu_errs = np.nan_to_num(np.sqrt(np.diag(numu_errs_top)))\n",
      "/tmp/ipykernel_12097/3991752781.py:30: RuntimeWarning: invalid value encountered in sqrt\n",
      "  xsec_nue_errs = np.nan_to_num(np.sqrt(np.diag(nue_errs_bot)))\n"
     ]
    }
   ],
   "source": [
    "#Need the four sections of the cov matrix\n",
    "\n",
    "blockwise_errs = chunks_cov\n",
    "#print(blockwise_errs)\n",
    "#print(\"\")\n",
    "\n",
    "#MIX\n",
    "top_left = blockwise_errs[:10]\n",
    "for i in range(len(top_left)):\n",
    "    top_left[i] = top_left[i][:10]\n",
    "    \n",
    "mix_errs_top = np.array(top_left)/((int_flux*int_flux_numu)*(Narg*Narg))\n",
    "xsec_topmix_errs = (np.sqrt(np.diag(mix_errs_top)))\n",
    "    \n",
    "#NUMU ONLY    \n",
    "top_right = blockwise_errs[:10]\n",
    "for i in range(len(top_right)):\n",
    "    top_right[i] = top_right[i][10:]\n",
    "    \n",
    "numu_errs_top = np.array(top_right)/((int_flux_numu*int_flux_numu)*(Narg*Narg))\n",
    "xsec_numu_errs = np.nan_to_num(np.sqrt(np.diag(numu_errs_top)))\n",
    "\n",
    "    \n",
    "#NUE ONLY\n",
    "bot_left = blockwise_errs[10:]\n",
    "for i in range(len(bot_left)):\n",
    "    bot_left[i] = bot_left[i][:10]\n",
    "    \n",
    "nue_errs_bot = np.array(bot_left)/((int_flux*int_flux)*(Narg*Narg))\n",
    "xsec_nue_errs = np.nan_to_num(np.sqrt(np.diag(nue_errs_bot)))\n",
    "\n",
    "#MIX\n",
    "bot_right = blockwise_errs[10:]\n",
    "for i in range(len(bot_right)):\n",
    "    bot_right[i] = bot_right[i][10:]\n",
    "    \n",
    "mix_errs_bot = np.array(bot_right)/((int_flux*int_flux_numu)*(Narg*Narg))\n",
    "xsec_botmix_errs = (np.sqrt(np.diag(mix_errs_bot)))\n"
   ]
  },
  {
   "cell_type": "code",
   "execution_count": 18,
   "id": "ddeb3bea",
   "metadata": {},
   "outputs": [
    {
     "name": "stdout",
     "output_type": "stream",
     "text": [
      "Ratio event counts:  [ 0.00000000e+00 -1.49521190e+01  2.75645270e+00  8.15084211e+00\n",
      "  1.66176490e+01  2.55491008e+01  1.34966062e+01 -1.43819400e+20\n",
      "  5.48372472e+00  1.27740780e+00]\n",
      "\n",
      "[           nan 2.23565864e+02 7.59803151e+00 6.64362271e+01\n",
      " 2.76146257e+02 6.52756553e+02 1.82158380e+02 2.06840199e+40\n",
      " 3.00712368e+01 1.63177070e+00]\n",
      "\n",
      "[       nan 0.         0.18349047 0.05211169 0.02030824 0.02168116\n",
      " 0.01429386 0.         0.09896115 0.20057548]\n",
      "\n",
      "[       nan 0.         0.00072746 0.00180648 0.00292621 0.00738461\n",
      " 0.0013586  0.         0.00155278 0.00017078]\n",
      "\n",
      "[0.00000000e+00 9.98357828e+00 3.75357152e+00 6.58575856e+00\n",
      " 1.00204778e+01 1.55231637e+01 1.02273315e+01 1.32599762e+29\n",
      " 5.34276413e+00 2.61544965e+00]\n"
     ]
    },
    {
     "name": "stderr",
     "output_type": "stream",
     "text": [
      "/tmp/ipykernel_12097/3275008683.py:3: RuntimeWarning: invalid value encountered in true_divide\n",
      "  xsec_ratio_events = np.nan_to_num(xsec_nue_events/xsec_numu_events)\n",
      "/tmp/ipykernel_12097/3275008683.py:9: RuntimeWarning: invalid value encountered in true_divide\n",
      "  ratio_sq = (xsec_nue_events/xsec_numu_events)*(xsec_nue_events/xsec_numu_events)\n",
      "/tmp/ipykernel_12097/3275008683.py:12: RuntimeWarning: invalid value encountered in true_divide\n",
      "  nue_term = (xsec_nue_errs*xsec_nue_errs)/(xsec_nue_events*xsec_nue_events)\n",
      "/tmp/ipykernel_12097/3275008683.py:15: RuntimeWarning: invalid value encountered in true_divide\n",
      "  numu_term = (xsec_numu_errs*xsec_numu_errs)/(xsec_numu_events*xsec_numu_events)\n",
      "/tmp/ipykernel_12097/3275008683.py:18: RuntimeWarning: invalid value encountered in true_divide\n",
      "  mix_1 = (xsec_botmix_errs*xsec_botmix_errs)/(xsec_numu_events*xsec_nue_events)\n",
      "/tmp/ipykernel_12097/3275008683.py:19: RuntimeWarning: invalid value encountered in true_divide\n",
      "  mix_2 = (xsec_topmix_errs*xsec_topmix_errs)/(xsec_numu_events*xsec_nue_events)\n"
     ]
    }
   ],
   "source": [
    "### Calculate ratio uncertainties\n",
    "\n",
    "xsec_ratio_events = np.nan_to_num(xsec_nue_events/xsec_numu_events)\n",
    "print(\"Ratio event counts: \", xsec_ratio_events)\n",
    "print(\"\")\n",
    "\n",
    "#####################\n",
    "\n",
    "ratio_sq = (xsec_nue_events/xsec_numu_events)*(xsec_nue_events/xsec_numu_events)\n",
    "print(ratio_sq)\n",
    "print(\"\")\n",
    "nue_term = (xsec_nue_errs*xsec_nue_errs)/(xsec_nue_events*xsec_nue_events)\n",
    "print(nue_term)\n",
    "print(\"\")\n",
    "numu_term = (xsec_numu_errs*xsec_numu_errs)/(xsec_numu_events*xsec_numu_events)\n",
    "print(numu_term)\n",
    "print(\"\")\n",
    "mix_1 = (xsec_botmix_errs*xsec_botmix_errs)/(xsec_numu_events*xsec_nue_events)\n",
    "mix_2 = (xsec_topmix_errs*xsec_topmix_errs)/(xsec_numu_events*xsec_nue_events)\n",
    "\n",
    "ratio_var_errs = ratio_sq*(nue_term + numu_term - mix_1 - mix_2)\n",
    "xsec_ratio_errs = np.nan_to_num(np.sqrt(abs(ratio_var_errs)))\n",
    "print(xsec_ratio_errs)"
   ]
  },
  {
   "cell_type": "code",
   "execution_count": 19,
   "id": "6777351c",
   "metadata": {},
   "outputs": [
    {
     "name": "stdout",
     "output_type": "stream",
     "text": [
      "[0.00000000e+00 6.60781436e-55 4.90276157e-40 1.24238047e-39\n",
      " 6.06151036e-40 2.52287198e-40 9.46024634e-41 1.12606911e-40\n",
      " 3.82215677e-41 1.67559391e-41]\n",
      "\n",
      "[ 0.00000000e+00 -4.41931631e-56  1.77864890e-40  1.52423572e-40\n",
      "  3.64763413e-41  9.87460185e-42  7.00935195e-42 -7.82974419e-61\n",
      "  6.97000117e-42  1.31171416e-41]\n",
      "\n",
      "[0.00000000e+00 0.00000000e+00 2.10013653e-40 2.83610441e-40\n",
      " 8.63807564e-41 3.71480926e-41 1.13103794e-41 0.00000000e+00\n",
      " 1.20237758e-41 7.50425690e-42]\n",
      "\n",
      "[0.00000000e+00 0.00000000e+00 4.79727117e-42 6.47841782e-42\n",
      " 1.97316653e-42 8.48561370e-43 2.58359189e-43 0.00000000e+00\n",
      " 2.74655063e-43 1.71417214e-43]\n"
     ]
    }
   ],
   "source": [
    "print(xsec_nue_events)\n",
    "print(\"\")\n",
    "print(xsec_numu_events)\n",
    "print(\"\")\n",
    "print(xsec_nue_errs)\n",
    "print(\"\")\n",
    "print(xsec_numu_errs)"
   ]
  },
  {
   "cell_type": "code",
   "execution_count": 20,
   "id": "7b2d879b",
   "metadata": {},
   "outputs": [
    {
     "data": {
      "image/png": "[encoded data removed]",
      "text/plain": [
       "<Figure size 576x504 with 1 Axes>"
      ]
     },
     "metadata": {
      "needs_background": "light"
     },
     "output_type": "display_data"
    }
   ],
   "source": [
    "import random\n",
    "import numpy\n",
    "from matplotlib import pyplot\n",
    "\"\"\"\n",
    "bins = np.arange(0, 5.5, 0.5)\n",
    "count = np.arange(0.1, 5.1, 0.5)\n",
    "print(count)\n",
    "\n",
    "plt.ylim(0, 5E-39)\n",
    "\n",
    "plt.xlabel(\"Energy [GeV]\")\n",
    "plt.ylabel(\"xsec [cm^2]\")\n",
    "\n",
    "pyplot.hist(count, bins, weights=xsec_nue_events, alpha=0.5)\n",
    "#pyplot.legend(loc='upper right')\n",
    "pyplot.show()\n",
    "\"\"\"\n",
    "\n",
    "nue_fig = plt.figure(figsize=(8, 7))\n",
    "nue_gs = gridspec.GridSpec(2, 1, height_ratios=[2, 1])\n",
    "nue_ax1 = plt.subplot(nue_gs[0])\n",
    "nue_ax1.set_xlim([0, 5])\n",
    "\n",
    "bins = np.arange(0, 5.5, 0.5)\n",
    "bincenters = np.arange(0.25, 5.25, 0.5)\n",
    "bin_edges = np.arange(0, 5.5, 0.5)\n",
    "bin_size = [(bin_edges[i + 1] - bin_edges[i]) / 2\n",
    "            for i in range(len(bin_edges) - 1)]\n",
    "count = np.arange(0.1, 5.1, 0.5)\n",
    "weights = []\n",
    "for i in range(len(count)):\n",
    "    weight = count[i]*xsec_nue_events[i]\n",
    "    weights.append(weight)\n",
    "\n",
    "sel = nue_ax1.hist(count, bins, color='deepskyblue', weights=xsec_nue_events)\n",
    "plt.ylim(0, 2E-39)\n",
    "nue_ax1.set_xlabel('Neutrino Energy [GeV]', fontsize=15)\n",
    "nue_ax1.set_ylabel('xsec [cm^2 / GeV / nucleon]', fontsize=15)\n",
    "nue_ax1.set_title(\"Unfolded Nue Neutrino Energy\")\n",
    "\n",
    "lower_err = np.nan_to_num(xsec_nue_events-xsec_nue_errs)\n",
    "\n",
    "nue_ax1.bar(bincenters, xsec_nue_errs*2,width=[n*2 for n in bin_size],facecolor='tab:green',alpha=0.2,bottom=(lower_err))\n",
    "\n",
    "nue_fig.savefig(\"unfolded_MC_nue_\"+ending+\".svg\",bbox_inches='tight' )"
   ]
  },
  {
   "cell_type": "code",
   "execution_count": 21,
   "id": "13a99b51",
   "metadata": {},
   "outputs": [
    {
     "data": {
      "image/png": "[encoded data removed]",
      "text/plain": [
       "<Figure size 576x504 with 1 Axes>"
      ]
     },
     "metadata": {
      "needs_background": "light"
     },
     "output_type": "display_data"
    }
   ],
   "source": [
    "import random\n",
    "import numpy\n",
    "from matplotlib import pyplot\n",
    "\n",
    "numu_fig = plt.figure(figsize=(8, 7))\n",
    "numu_gs = gridspec.GridSpec(2, 1, height_ratios=[2, 1])\n",
    "numu_ax1 = plt.subplot(numu_gs[0])\n",
    "numu_ax1.set_xlim([0, 5])\n",
    "\n",
    "bins = np.arange(0, 5.5, 0.5)\n",
    "bincenters = np.arange(0.25, 5.25, 0.5)\n",
    "bin_edges = np.arange(0, 5.5, 0.5)\n",
    "bin_size = [(bin_edges[i + 1] - bin_edges[i]) / 2\n",
    "            for i in range(len(bin_edges) - 1)]\n",
    "count = np.arange(0.1, 5.1, 0.5)\n",
    "weights = []\n",
    "for i in range(len(count)):\n",
    "    weight = count[i]*xsec_numu_events[i]\n",
    "    weights.append(weight)\n",
    "\n",
    "sel = numu_ax1.hist(count, bins, color='deepskyblue', weights=xsec_numu_events)\n",
    "plt.ylim(0, 2E-40)\n",
    "numu_ax1.set_xlabel('Neutrino Energy [GeV]', fontsize=15)\n",
    "numu_ax1.set_ylabel('xsec [cm^2 / GeV / nucleon]', fontsize=15)\n",
    "numu_ax1.set_title(\"Unfolded Nue Neutrino Energy\")\n",
    "\n",
    "lower_err = np.nan_to_num(xsec_numu_events-xsec_numu_errs)\n",
    "\n",
    "numu_ax1.bar(bincenters, xsec_numu_errs*2,width=[n*2 for n in bin_size],facecolor='tab:green',alpha=0.2,bottom=(lower_err))\n",
    "\n",
    "numu_fig.savefig(\"unfolded_MC_numu_\"+ending+\".svg\",bbox_inches='tight' )"
   ]
  },
  {
   "cell_type": "code",
   "execution_count": 22,
   "id": "7260f44b",
   "metadata": {},
   "outputs": [
    {
     "name": "stdout",
     "output_type": "stream",
     "text": [
      "[            nan -1.49521190e+01  2.75645270e+00  8.15084211e+00\n",
      "  1.66176490e+01  2.55491008e+01  1.34966062e+01 -1.43819400e+20\n",
      "  5.48372472e+00  1.27740780e+00]\n",
      "[ 0.00000000e+00 -1.49521190e+01  2.75645270e+00  8.15084211e+00\n",
      "  1.66176490e+01  2.55491008e+01  1.34966062e+01 -1.43819400e+20\n",
      "  5.48372472e+00  1.27740780e+00]\n"
     ]
    },
    {
     "name": "stderr",
     "output_type": "stream",
     "text": [
      "/tmp/ipykernel_12097/3626634403.py:15: RuntimeWarning: invalid value encountered in true_divide\n",
      "  print(xsec_nue_events/xsec_numu_events)\n",
      "/tmp/ipykernel_12097/3626634403.py:18: RuntimeWarning: invalid value encountered in true_divide\n",
      "  pyplot.hist(count, bins, weights=np.nan_to_num(xsec_nue_events/xsec_numu_events), alpha=0.5)\n"
     ]
    },
    {
     "data": {
      "image/png": "[encoded data removed]",
      "text/plain": [
       "<Figure size 432x288 with 1 Axes>"
      ]
     },
     "metadata": {
      "needs_background": "light"
     },
     "output_type": "display_data"
    }
   ],
   "source": [
    "#Think need to replace 2nd bin due to unfolding\n",
    "\n",
    "import random\n",
    "import numpy\n",
    "from matplotlib import pyplot\n",
    "\n",
    "bins = np.arange(0, 5.5, 0.5)\n",
    "count = np.arange(0.1, 5.1, 0.5)\n",
    "#print(count)\n",
    "\n",
    "plt.ylim(0, 35)\n",
    "plt.xlabel(\"Neutrino Energy [GeV]\")\n",
    "plt.ylabel(\"xsec [cm^2 / GeV / nucleon]\")\n",
    "\n",
    "print(xsec_nue_events/xsec_numu_events)\n",
    "print(xsec_ratio_events)\n",
    "\n",
    "pyplot.hist(count, bins, weights=np.nan_to_num(xsec_nue_events/xsec_numu_events), alpha=0.5)\n",
    "pyplot.hist(count, bins, weights=xsec_ratio_events, alpha=0.5)\n",
    "\n",
    "#pyplot.legend(loc='upper right')\n",
    "pyplot.show()"
   ]
  },
  {
   "cell_type": "code",
   "execution_count": 23,
   "id": "e90f2e32",
   "metadata": {},
   "outputs": [
    {
     "name": "stdout",
     "output_type": "stream",
     "text": [
      "[0.1 0.6 1.1 1.6 2.1 2.6 3.1 3.6 4.1 4.6]\n",
      "[  0.         -14.95211904   2.7564527    8.15084211  16.61764896\n",
      "  25.54910083  13.49660625   0.           5.48372472   1.2774078 ]\n",
      "\n",
      "[  0.         -14.95211904   2.7564527    8.15084211  16.61764896\n",
      "  25.54910083  13.49660625   0.           5.48372472   1.2774078 ]\n"
     ]
    },
    {
     "data": {
      "image/png": "[encoded data removed]",
      "text/plain": [
       "<Figure size 576x504 with 1 Axes>"
      ]
     },
     "metadata": {
      "needs_background": "light"
     },
     "output_type": "display_data"
    }
   ],
   "source": [
    "import random\n",
    "import numpy\n",
    "from matplotlib import pyplot\n",
    "\n",
    "\n",
    "ratio_fig = plt.figure(figsize=(8, 7))\n",
    "ratio_gs = gridspec.GridSpec(2, 1, height_ratios=[2, 1])\n",
    "ratio_ax1 = plt.subplot(ratio_gs[0])\n",
    "ratio_ax1.set_xlim([0, 5])\n",
    "\n",
    "bins = np.arange(0, 5.5, 0.5)\n",
    "bincenters = np.arange(0.25, 5.25, 0.5)\n",
    "bin_edges = np.arange(0, 5.5, 0.5)\n",
    "bin_size = [(bin_edges[i + 1] - bin_edges[i]) / 2\n",
    "            for i in range(len(bin_edges) - 1)]\n",
    "\n",
    "count = np.arange(0.1, 5.1, 0.5)\n",
    "#print(len(count))\n",
    "#weights = []\n",
    "#for i in range(len(count)):\n",
    "#    weight = count[i]*xsec_ratio_events[i]\n",
    "#    weights.append(weight)\n",
    "test_weights = [(random.random()/random.random() - 0.75) for x in range(len(count))]\n",
    "print(count)\n",
    "xsec_ratio_events[7] = 0\n",
    "print(xsec_ratio_events)\n",
    "print(\"\")\n",
    "sel = ratio_ax1.hist(count, bins, color='deepskyblue', weights=xsec_ratio_events)  # , weights=xsec_ratio_events\n",
    "print(sel[0])\n",
    "\n",
    "plt.ylim(0, 45)\n",
    "ratio_ax1.set_xlabel('Neutrino Energy [GeV]', fontsize=15)\n",
    "ratio_ax1.set_ylabel('Ratio', fontsize=15)\n",
    "ratio_ax1.set_title(\"Unfolded Ratio Neutrino Energy\")\n",
    "\n",
    "lower_err = np.nan_to_num(xsec_ratio_events-xsec_ratio_errs)\n",
    "\n",
    "ratio_ax1.bar(bincenters, xsec_ratio_errs*2,width=[n*2 for n in bin_size],facecolor='tab:green',alpha=0.2,bottom=(lower_err))\n",
    "\n",
    "ratio_fig.savefig(\"unfolded_MC_ratio_\"+ending+\".svg\",bbox_inches='tight' )"
   ]
  },
  {
   "cell_type": "code",
   "execution_count": null,
   "id": "51678734",
   "metadata": {},
   "outputs": [],
   "source": []
  }
 ],
 "metadata": {
  "kernelspec": {
   "display_name": "Python 3 (ipykernel)",
   "language": "python",
   "name": "python3"
  },
  "language_info": {
   "codemirror_mode": {
    "name": "ipython",
    "version": 3
   },
   "file_extension": ".py",
   "mimetype": "text/x-python",
   "name": "python",
   "nbconvert_exporter": "python",
   "pygments_lexer": "ipython3",
   "version": "3.8.12"
  }
 },
 "nbformat": 4,
 "nbformat_minor": 5
}
