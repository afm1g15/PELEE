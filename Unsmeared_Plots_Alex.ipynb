{
 "cells": [
  {
   "cell_type": "code",
   "execution_count": 1,
   "id": "47ec4bfc",
   "metadata": {},
   "outputs": [
    {
     "name": "stdout",
     "output_type": "stream",
     "text": [
      "/home/alex/NuMI/PELEE/\n"
     ]
    }
   ],
   "source": [
    "import pandas as pd\n",
    "import matplotlib.pyplot as plt\n",
    "import matplotlib\n",
    "import sys\n",
    "import localSettings as ls\n",
    "import math\n",
    "print(ls.main_path)\n",
    "import load_data_run123\n",
    "import plotter_alex\n",
    "import importlib\n",
    "importlib.reload(plotter_alex)\n",
    "import uproot\n",
    "import matplotlib.pylab as pylab\n",
    "import numpy as np\n",
    "import math\n",
    "from sklearn.model_selection import train_test_split\n",
    "import pickle\n",
    "import xgboost as xgb\n",
    "import nue_booster \n",
    "importlib.reload(nue_booster)\n",
    "import awkward\n",
    "from matplotlib import gridspec\n",
    "from collections import defaultdict"
   ]
  },
  {
   "cell_type": "markdown",
   "id": "3e627bd5",
   "metadata": {},
   "source": [
    "## Nue - Energy"
   ]
  },
  {
   "cell_type": "code",
   "execution_count": 11,
   "id": "88a3cf86",
   "metadata": {},
   "outputs": [
    {
     "name": "stdout",
     "output_type": "stream",
     "text": [
      "[37.9726, 63.1626, 44.8113, 36.1374, 37.5671, -56.1214, -50.6061, 110.1, 61.5177, 0.506936]\n",
      "\n",
      "[3.4948, 26.8363, 48.1913, 23.9669, 18.995, 13.501, 7.10248, 5.9599, 4.18867, 0.719092]\n"
     ]
    }
   ],
   "source": [
    "with open('../stv-analysis-new/nue_unsmeared_events_energy.csv') as file:\n",
    "    content = file.readlines()\n",
    "events = content[0:]\n",
    "    \n",
    "for i in range(10):\n",
    "    events[i]=events[i].rstrip().rstrip(',')\n",
    "    events[i] = float(events[i])\n",
    "    \n",
    "print(events)\n",
    "print(\"\")\n",
    "#------------------------------------------------------------------------------\n",
    "with open('../stv-analysis-new/nue_unsmeared_errors_energy.csv') as file:\n",
    "    content = file.readlines()\n",
    "errors = content[0:]\n",
    "    \n",
    "for i in range(10):\n",
    "    errors[i]=errors[i].rstrip().rstrip(',')\n",
    "    errors[i] = float(errors[i])\n",
    "    \n",
    "print(errors)"
   ]
  },
  {
   "cell_type": "code",
   "execution_count": 16,
   "id": "2cd40e78",
   "metadata": {},
   "outputs": [
    {
     "name": "stdout",
     "output_type": "stream",
     "text": [
      "\n",
      "Making ratio plot.\n",
      "count,  [0.1, 0.6, 1.1, 1.6, 2.1, 2.6, 3.1, 3.6, 4.1, 4.6]\n",
      "bins,  [0.  0.5 1.  1.5 2.  2.5 3.  3.5 4.  4.5 5. ]\n",
      "Weights,  [37.9726, 63.1626, 44.8113, 36.1374, 37.5671, -56.1214, -50.6061, 110.1, 61.5177, 0.506936]\n",
      "\n"
     ]
    },
    {
     "data": {
      "text/plain": [
       "Text(0.5, 1.0, 'Unsmeared Plot - Nue Energy')"
      ]
     },
     "execution_count": 16,
     "metadata": {},
     "output_type": "execute_result"
    },
    {
     "data": {
      "image/png": "[encoded data removed]",
      "text/plain": [
       "<Figure size 576x504 with 1 Axes>"
      ]
     },
     "metadata": {
      "needs_background": "light"
     },
     "output_type": "display_data"
    }
   ],
   "source": [
    "ratio_fig = plt.figure(figsize=(8, 7))\n",
    "ratio_gs = gridspec.GridSpec(2, 1, height_ratios=[2, 1])\n",
    "ratio_ax1 = plt.subplot(ratio_gs[0])\n",
    "\n",
    "bins = np.arange(0, 5.5, 0.5)\n",
    "count = [0.1, 0.6, 1.1, 1.6, 2.1, 2.6, 3.1, 3.6, 4.1, 4.6]\n",
    "weights = []\n",
    "for i in range(len(count)):\n",
    "    weight = count[i]*events[i]\n",
    "    weights.append(weight)\n",
    "\n",
    "print(\"\")\n",
    "print(\"Making ratio plot.\")\n",
    "print(\"count, \", count)\n",
    "print(\"bins, \", bins)\n",
    "print(\"Weights, \", events)\n",
    "print(\"\")\n",
    "\n",
    "sel = ratio_ax1.hist(count, bins, color='deepskyblue', weights=events)\n",
    "ratio_ax1.set_ylabel('Counts', fontsize=15)\n",
    "ratio_ax1.set_xlabel('True Nue Energy [GeV]', fontsize=15)\n",
    "ratio_ax1.set_title(\"Unsmeared Plot - Nue Energy\")"
   ]
  },
  {
   "cell_type": "code",
   "execution_count": 21,
   "id": "94b41457",
   "metadata": {},
   "outputs": [
    {
     "data": {
      "text/plain": [
       "(0, 5)"
      ]
     },
     "execution_count": 21,
     "metadata": {},
     "output_type": "execute_result"
    }
   ],
   "source": [
    "bincenters = np.arange(0.25, 5.25, 0.5)\n",
    "bin_edges = np.arange(0, 5.5, 0.5)\n",
    "bin_size = [(bin_edges[i + 1] - bin_edges[i]) / 2\n",
    "            for i in range(len(bin_edges) - 1)]\n",
    "n_tot = np.array(events)\n",
    "\n",
    "ratio_ax1.bar(bincenters, np.array(errors)*2,width=[n*2 for n in bin_size],facecolor='tab:green',alpha=0.2,bottom=(np.array(events)-np.array(errors)))\n",
    "ratio_ax1.set_xlim([0, 5])"
   ]
  },
  {
   "cell_type": "code",
   "execution_count": 22,
   "id": "8c621115",
   "metadata": {},
   "outputs": [
    {
     "data": {
      "image/png": "[encoded data removed]",
      "text/plain": [
       "<Figure size 576x504 with 1 Axes>"
      ]
     },
     "execution_count": 22,
     "metadata": {},
     "output_type": "execute_result"
    }
   ],
   "source": [
    "ratio_fig"
   ]
  },
  {
   "cell_type": "code",
   "execution_count": 23,
   "id": "e6d0f8a6",
   "metadata": {},
   "outputs": [
    {
     "name": "stdout",
     "output_type": "stream",
     "text": [
      "285.04813600000006\n"
     ]
    }
   ],
   "source": [
    "print(sum(events))"
   ]
  },
  {
   "cell_type": "code",
   "execution_count": null,
   "id": "6626086b",
   "metadata": {},
   "outputs": [],
   "source": []
  }
 ],
 "metadata": {
  "kernelspec": {
   "display_name": "Python 3 (ipykernel)",
   "language": "python",
   "name": "python3"
  },
  "language_info": {
   "codemirror_mode": {
    "name": "ipython",
    "version": 3
   },
   "file_extension": ".py",
   "mimetype": "text/x-python",
   "name": "python",
   "nbconvert_exporter": "python",
   "pygments_lexer": "ipython3",
   "version": "3.8.12"
  }
 },
 "nbformat": 4,
 "nbformat_minor": 5
}
