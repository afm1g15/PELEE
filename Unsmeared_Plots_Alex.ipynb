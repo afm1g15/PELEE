{
 "cells": [
  {
   "cell_type": "code",
   "execution_count": 5,
   "id": "47ec4bfc",
   "metadata": {},
   "outputs": [
    {
     "name": "stdout",
     "output_type": "stream",
     "text": [
      "/home/alex/NuMI/PELEE/\n"
     ]
    }
   ],
   "source": [
    "import pandas as pd\n",
    "import matplotlib.pyplot as plt\n",
    "import matplotlib\n",
    "import sys\n",
    "import localSettings as ls\n",
    "import math\n",
    "print(ls.main_path)\n",
    "import load_data_run123\n",
    "import plotter_alex\n",
    "import importlib\n",
    "importlib.reload(plotter_alex)\n",
    "import uproot\n",
    "import matplotlib.pylab as pylab\n",
    "import numpy as np\n",
    "import math\n",
    "from sklearn.model_selection import train_test_split\n",
    "import pickle\n",
    "import xgboost as xgb\n",
    "import nue_booster \n",
    "importlib.reload(nue_booster)\n",
    "import awkward\n",
    "from matplotlib import gridspec\n",
    "from collections import defaultdict"
   ]
  },
  {
   "cell_type": "markdown",
   "id": "3e627bd5",
   "metadata": {},
   "source": [
    "## Nue - Energy"
   ]
  },
  {
   "cell_type": "markdown",
   "id": "2299f24d",
   "metadata": {},
   "source": [
    "## Closure Tests"
   ]
  },
  {
   "cell_type": "code",
   "execution_count": 50,
   "id": "51909e1f",
   "metadata": {},
   "outputs": [
    {
     "name": "stdout",
     "output_type": "stream",
     "text": [
      "[21.378, 140.747, 109.415, 36.0535, 20.9372, 7.6931, 2.65494, 3.81845, 1.59829, 0.322223]\n",
      "\n",
      "[[0.318149, 0.0383541, 0.0300476, 0.0485722, 0.0403437, -0.0691964, -0.0191378, 0.0401114, 0.00650246, 0.000724415], [0.0383541, 0.659602, 0.302123, 0.11193, 0.0532074, 0.0153179, 0.00257326, 0.0203653, 0.000640447, 0.00079605], [0.0300476, 0.302123, 0.541608, 0.0384979, 0.0400738, 0.039895, 0.0270189, -0.0114113, -0.0051357, 0.000712664], [0.0485722, 0.11193, 0.0384979, 0.291308, 0.0193469, 0.0372602, -0.0196021, -0.0014053, 0.00716217, -0.000886855], [0.0403437, 0.0532074, 0.0400738, 0.0193469, 0.355214, -0.0045451, -0.0230327, -0.00413275, 0.0216362, -0.00263909], [-0.0691964, 0.0153179, 0.039895, 0.0372602, -0.0045451, 0.303443, 0.0850275, -0.0894056, 0.0214143, -0.0023793], [-0.0191378, 0.00257326, 0.0270189, -0.0196021, -0.0230327, 0.0850275, 0.179952, -0.00232196, 0.0689192, 0.0095198], [0.0401114, 0.0203653, -0.0114113, -0.0014053, -0.00413275, -0.0894056, -0.00232196, 0.229036, 0.122674, 0.0186261], [0.00650246, 0.000640447, -0.0051357, 0.00716217, 0.0216362, 0.0214143, 0.0689192, 0.122674, 0.10822, 0.0126091], [0.000724415, 0.00079605, 0.000712664, -0.000886855, -0.00263909, -0.0023793, 0.0095198, 0.0186261, 0.0126091, 0.0520459]]\n",
      "\n",
      "Prior Truth: \n",
      "[30.084810827502174, 151.62865504965998, 111.03931566210608, 43.90048763860746, 16.85484444822777, 8.271492731185546, 4.829256825653858, 2.5025045208168826, 1.2736534180956065, 0.5006552407172141]\n",
      "\n",
      "Errors: \n",
      "[5.35899, 33.9462, 27.5932, 9.12692, 6.06885, 4.14656, 1.72918, 2.01208, 0.616698, 0.12883]\n",
      "\n"
     ]
    }
   ],
   "source": [
    "with open('../stv-analysis-new/nue_unsmeared_events_energy_MC_ONLY_weighted_recoCut_incErr.csv') as file:\n",
    "    content = file.readlines()\n",
    "events = content[0:]\n",
    "    \n",
    "for i in range(10):\n",
    "    events[i]=events[i].rstrip().rstrip(',')\n",
    "    events[i] = float(events[i])\n",
    "    \n",
    "print(events)\n",
    "print(\"\")\n",
    "\n",
    "#------------------------------------------------------------------------------\n",
    "with open('../stv-analysis-new/nue_unsmeared_AC_energy_MC_ONLY_weighted_recoCut_incErr.csv') as file:\n",
    "    content = file.readlines()\n",
    "AC = content[0:]\n",
    "    \n",
    "for i in range(100):\n",
    "    AC[i]=AC[i].rstrip().rstrip(',')\n",
    "    AC[i] = float(AC[i])\n",
    "    \n",
    "\n",
    "chunks = [AC[x:x+10] for x in range(0, len(AC), 10)]\n",
    "\n",
    "print(chunks)\n",
    "print(\"\")\n",
    "#-----------------------------------------------------------\n",
    "\n",
    "with open('nue_full_500_catsel_nopions_recoE_usingSelection_prior_true_signal.csv') as file:\n",
    "    content = file.readlines()\n",
    "prior_true = content[0:]\n",
    "    \n",
    "for i in range(10):\n",
    "    prior_true[i]=prior_true[i].rstrip().rstrip(',')\n",
    "    prior_true[i] = float(prior_true[i])\n",
    "    \n",
    "print(\"Prior Truth: \")\n",
    "print(prior_true)\n",
    "print(\"\")\n",
    "\n",
    "#----------------------------------------------------------------\n",
    "with open('../stv-analysis-new/nue_unsmeared_errors_energy_MC_ONLY_weighted_recoCut_incErr.csv') as file:\n",
    "    content = file.readlines()\n",
    "errs = content[0:]\n",
    "    \n",
    "for i in range(10):\n",
    "    errs[i]=errs[i].rstrip().rstrip(',')\n",
    "    errs[i] = float(errs[i])\n",
    "    \n",
    "print(\"Errors: \")\n",
    "print(errs)\n",
    "print(\"\")\n",
    "\n",
    "#----------------------------------------------------------------"
   ]
  },
  {
   "cell_type": "code",
   "execution_count": 51,
   "id": "9a125064",
   "metadata": {},
   "outputs": [
    {
     "name": "stdout",
     "output_type": "stream",
     "text": [
      "Prior_Truth x AC: \n",
      "[ 20.98007273 140.71786251 109.64550771  36.04120876  20.43474941\n",
      "   8.95281094   3.22490207   2.8842557    1.36266489   0.25323856]\n",
      "\n",
      "\n",
      "Unfolding Done with MC Data Signal: \n",
      "[21.378, 140.747, 109.415, 36.0535, 20.9372, 7.6931, 2.65494, 3.81845, 1.59829, 0.322223]\n",
      "\n",
      "\n",
      "Difference\n",
      "[-0.39792727 -0.02913749  0.23050771 -0.01229124 -0.50245059  1.25971094\n",
      "  0.56996207 -0.9341943  -0.23562511 -0.06898444]\n",
      "\n",
      "[-1.89669159e-02 -2.07063193e-04  2.10229966e-03 -3.41032845e-04\n",
      " -2.45880477e-02  1.40705634e-01  1.76737792e-01 -3.23894410e-01\n",
      " -1.72914933e-01 -2.72408933e-01]\n"
     ]
    }
   ],
   "source": [
    "made_data_sig = np.dot(chunks, prior_true)\n",
    "print(\"Prior_Truth x AC: \")\n",
    "print(made_data_sig)\n",
    "print(\"\")\n",
    "print(\"\")\n",
    "print(\"Unfolding Done with MC Data Signal: \")\n",
    "print(events)\n",
    "print(\"\")\n",
    "\n",
    "diff = made_data_sig - events\n",
    "print(\"\")\n",
    "print(\"Difference\")\n",
    "print(diff)\n",
    "\n",
    "#for i in made_data_sig:\n",
    "#    print(i)\n",
    "\n",
    "print(\"\")\n",
    "diffasfrac = diff/made_data_sig\n",
    "print(diffasfrac)"
   ]
  },
  {
   "cell_type": "code",
   "execution_count": 52,
   "id": "fa105ffc",
   "metadata": {},
   "outputs": [
    {
     "data": {
      "image/png": "[encoded data removed]",
      "text/plain": [
       "<Figure size 432x288 with 1 Axes>"
      ]
     },
     "metadata": {
      "needs_background": "light"
     },
     "output_type": "display_data"
    },
    {
     "data": {
      "image/png": "[encoded data removed]",
      "text/plain": [
       "<Figure size 432x288 with 1 Axes>"
      ]
     },
     "metadata": {
      "needs_background": "light"
     },
     "output_type": "display_data"
    },
    {
     "data": {
      "image/png": "[encoded data removed]",
      "text/plain": [
       "<Figure size 432x288 with 1 Axes>"
      ]
     },
     "metadata": {
      "needs_background": "light"
     },
     "output_type": "display_data"
    }
   ],
   "source": [
    "import random\n",
    "import numpy\n",
    "from matplotlib import pyplot\n",
    "\n",
    "bins = np.arange(0, 5.5, 0.5)\n",
    "count = [0.1, 0.6, 1.1, 1.6, 2.1, 2.6, 3.1, 3.6, 4.1, 4.6]\n",
    "\n",
    "pyplot.hist(count, bins, weights=made_data_sig, alpha=0.5, label='Prior_Truth x AC')\n",
    "pyplot.hist(count, bins, weights=events, alpha=0.5, label='Unfolding Done with MC Data Signal')\n",
    "pyplot.legend(loc='upper right')\n",
    "pyplot.show()\n",
    "\n",
    "pyplot.hist(count, bins, weights=diff, alpha=0.5, label='Difference')\n",
    "pyplot.legend(loc='upper right')\n",
    "pyplot.show()\n",
    "\n",
    "\n",
    "pyplot.hist(count, bins, weights=diffasfrac, alpha=0.5, label='Fractional Difference')\n",
    "pyplot.legend(loc='upper right')\n",
    "pyplot.show()"
   ]
  },
  {
   "cell_type": "code",
   "execution_count": 53,
   "id": "c7b9643b",
   "metadata": {},
   "outputs": [
    {
     "name": "stdout",
     "output_type": "stream",
     "text": [
      "\n",
      "Making ratio plot.\n",
      "count,  [0.1, 0.6, 1.1, 1.6, 2.1, 2.6, 3.1, 3.6, 4.1, 4.6]\n",
      "bins,  [0.  0.5 1.  1.5 2.  2.5 3.  3.5 4.  4.5 5. ]\n",
      "Weights,  [21.378, 140.747, 109.415, 36.0535, 20.9372, 7.6931, 2.65494, 3.81845, 1.59829, 0.322223]\n",
      "\n"
     ]
    },
    {
     "name": "stderr",
     "output_type": "stream",
     "text": [
      "/tmp/ipykernel_6108/736498321.py:4: MatplotlibDeprecationWarning: Adding an axes using the same arguments as a previous axes currently reuses the earlier instance.  In a future version, a new instance will always be created and returned.  Meanwhile, this warning can be suppressed, and the future behavior ensured, by passing a unique label to each axes instance.\n",
      "  ratio_ax2 = plt.subplot(ratio_gs[0])\n"
     ]
    },
    {
     "data": {
      "text/plain": [
       "Text(0.5, 1.0, 'Unsmeared Plot - Nue Energy Differences')"
      ]
     },
     "execution_count": 53,
     "metadata": {},
     "output_type": "execute_result"
    },
    {
     "data": {
      "image/png": "[encoded data removed]",
      "text/plain": [
       "<Figure size 576x504 with 1 Axes>"
      ]
     },
     "metadata": {
      "needs_background": "light"
     },
     "output_type": "display_data"
    }
   ],
   "source": [
    "ratio_fig = plt.figure(figsize=(8, 7))\n",
    "ratio_gs = gridspec.GridSpec(2, 1, height_ratios=[2, 1])\n",
    "ratio_ax1 = plt.subplot(ratio_gs[0])\n",
    "ratio_ax2 = plt.subplot(ratio_gs[0])\n",
    "\n",
    "bins = np.arange(0, 5.5, 0.5)\n",
    "count = [0.1, 0.6, 1.1, 1.6, 2.1, 2.6, 3.1, 3.6, 4.1, 4.6]\n",
    "weights = []\n",
    "for i in range(len(count)):\n",
    "    weight = count[i]*events[i]\n",
    "    weights.append(weight)\n",
    "\n",
    "print(\"\")\n",
    "print(\"Making ratio plot.\")\n",
    "print(\"count, \", count)\n",
    "print(\"bins, \", bins)\n",
    "print(\"Weights, \", events)\n",
    "print(\"\")\n",
    "\n",
    "#sel = ratio_ax1.hist(count, bins, color='deepskyblue', weights=made_data_sig, alpha=0.8, label='Prior_Truth x AC')\n",
    "#sel2 = ratio_ax2.hist(count, bins, color='red', weights=events, alpha=0.5, label='Unfolding Done with MC Data Signal')\n",
    "sel2 = ratio_ax2.hist(count, bins, color='red', weights=diff, alpha=0.5, label='Unfolding Done with MC Data Signal')\n",
    "ratio_ax1.set_ylabel('Counts', fontsize=15)\n",
    "ratio_ax1.set_xlabel('True Nue Energy [GeV]', fontsize=15)\n",
    "ratio_ax1.set_title(\"Unsmeared Plot - Nue Energy Differences\")"
   ]
  },
  {
   "cell_type": "code",
   "execution_count": 54,
   "id": "78e0366c",
   "metadata": {},
   "outputs": [
    {
     "data": {
      "text/plain": [
       "(0, 5)"
      ]
     },
     "execution_count": 54,
     "metadata": {},
     "output_type": "execute_result"
    }
   ],
   "source": [
    "bincenters = np.arange(0.25, 5.25, 0.5)\n",
    "bin_edges = np.arange(0, 5.5, 0.5)\n",
    "bin_size = [(bin_edges[i + 1] - bin_edges[i]) / 2\n",
    "            for i in range(len(bin_edges) - 1)]\n",
    "n_tot = np.array(events)\n",
    "\n",
    "#ratio_ax1.bar(bincenters, np.array(errs)*2,width=[n*2 for n in bin_size],facecolor='tab:green',alpha=0.2,bottom=(np.array(events)-np.array(errs)))\n",
    "ratio_ax1.bar(bincenters, np.array(errs)*2,width=[n*2 for n in bin_size],facecolor='tab:green',alpha=0.2,bottom=(np.array(diff)-np.array(errs)))\n",
    "ratio_ax1.set_xlim([0, 5])"
   ]
  },
  {
   "cell_type": "code",
   "execution_count": 55,
   "id": "9e10fb47",
   "metadata": {},
   "outputs": [
    {
     "data": {
      "image/png": "[encoded data removed]",
      "text/plain": [
       "<Figure size 576x504 with 1 Axes>"
      ]
     },
     "execution_count": 55,
     "metadata": {},
     "output_type": "execute_result"
    }
   ],
   "source": [
    "ratio_fig"
   ]
  },
  {
   "cell_type": "markdown",
   "id": "bee10707",
   "metadata": {},
   "source": [
    "## Data Tests"
   ]
  },
  {
   "cell_type": "code",
   "execution_count": 21,
   "id": "88a3cf86",
   "metadata": {},
   "outputs": [
    {
     "name": "stdout",
     "output_type": "stream",
     "text": [
      "[21.378, 140.747, 109.415, 36.0535, 20.9372, 7.6931, 2.65494, 3.81845, 1.59829, 0.322223]\n",
      "\n",
      "[5.35899, 33.9462, 27.5932, 9.12692, 6.06885, 4.14656, 1.72918, 2.01208, 0.616698, 0.12883]\n",
      "\n"
     ]
    }
   ],
   "source": [
    "with open('../stv-analysis-new/nue_unsmeared_events_energy_MC_ONLY_weighted.csv') as file:\n",
    "    content = file.readlines()\n",
    "events = content[0:]\n",
    "    \n",
    "for i in range(10):\n",
    "    events[i]=events[i].rstrip().rstrip(',')\n",
    "    events[i] = float(events[i])\n",
    "    \n",
    "print(events)\n",
    "print(\"\")\n",
    "#------------------------------------------------------------------------------\n",
    "with open('../stv-analysis-new/nue_unsmeared_errors_energy_MC_ONLY_weighted.csv') as file:\n",
    "    content = file.readlines()\n",
    "errors = content[0:]\n",
    "    \n",
    "for i in range(10):\n",
    "    errors[i]=errors[i].rstrip().rstrip(',')\n",
    "    errors[i] = float(errors[i])\n",
    "    \n",
    "print(errors)\n",
    "print(\"\")"
   ]
  },
  {
   "cell_type": "code",
   "execution_count": 22,
   "id": "2cd40e78",
   "metadata": {},
   "outputs": [
    {
     "name": "stdout",
     "output_type": "stream",
     "text": [
      "\n",
      "Making ratio plot.\n",
      "count,  [0.1, 0.6, 1.1, 1.6, 2.1, 2.6, 3.1, 3.6, 4.1, 4.6]\n",
      "bins,  [0.  0.5 1.  1.5 2.  2.5 3.  3.5 4.  4.5 5. ]\n",
      "Weights,  [21.378, 140.747, 109.415, 36.0535, 20.9372, 7.6931, 2.65494, 3.81845, 1.59829, 0.322223]\n",
      "\n"
     ]
    },
    {
     "data": {
      "text/plain": [
       "Text(0.5, 1.0, 'Unsmeared Plot - Nue Energy')"
      ]
     },
     "execution_count": 22,
     "metadata": {},
     "output_type": "execute_result"
    },
    {
     "data": {
      "image/png": "[encoded data removed]",
      "text/plain": [
       "<Figure size 576x504 with 1 Axes>"
      ]
     },
     "metadata": {
      "needs_background": "light"
     },
     "output_type": "display_data"
    }
   ],
   "source": [
    "ratio_fig = plt.figure(figsize=(8, 7))\n",
    "ratio_gs = gridspec.GridSpec(2, 1, height_ratios=[2, 1])\n",
    "ratio_ax1 = plt.subplot(ratio_gs[0])\n",
    "\n",
    "bins = np.arange(0, 5.5, 0.5)\n",
    "count = [0.1, 0.6, 1.1, 1.6, 2.1, 2.6, 3.1, 3.6, 4.1, 4.6]\n",
    "weights = []\n",
    "for i in range(len(count)):\n",
    "    weight = count[i]*events[i]\n",
    "    weights.append(weight)\n",
    "\n",
    "print(\"\")\n",
    "print(\"Making ratio plot.\")\n",
    "print(\"count, \", count)\n",
    "print(\"bins, \", bins)\n",
    "print(\"Weights, \", events)\n",
    "print(\"\")\n",
    "\n",
    "sel = ratio_ax1.hist(count, bins, color='deepskyblue', weights=events)\n",
    "ratio_ax1.set_ylabel('Counts', fontsize=15)\n",
    "ratio_ax1.set_xlabel('True Nue Energy [GeV]', fontsize=15)\n",
    "ratio_ax1.set_title(\"Unsmeared Plot - Nue Energy\")"
   ]
  },
  {
   "cell_type": "code",
   "execution_count": 23,
   "id": "94b41457",
   "metadata": {},
   "outputs": [
    {
     "data": {
      "text/plain": [
       "(0, 5)"
      ]
     },
     "execution_count": 23,
     "metadata": {},
     "output_type": "execute_result"
    }
   ],
   "source": [
    "bincenters = np.arange(0.25, 5.25, 0.5)\n",
    "bin_edges = np.arange(0, 5.5, 0.5)\n",
    "bin_size = [(bin_edges[i + 1] - bin_edges[i]) / 2\n",
    "            for i in range(len(bin_edges) - 1)]\n",
    "n_tot = np.array(events)\n",
    "\n",
    "ratio_ax1.bar(bincenters, np.array(errors)*2,width=[n*2 for n in bin_size],facecolor='tab:green',alpha=0.2,bottom=(np.array(events)-np.array(errors)))\n",
    "ratio_ax1.set_xlim([0, 5])"
   ]
  },
  {
   "cell_type": "code",
   "execution_count": 24,
   "id": "8c621115",
   "metadata": {},
   "outputs": [
    {
     "data": {
      "image/png": "[encoded data removed]",
      "text/plain": [
       "<Figure size 576x504 with 1 Axes>"
      ]
     },
     "execution_count": 24,
     "metadata": {},
     "output_type": "execute_result"
    }
   ],
   "source": [
    "ratio_fig"
   ]
  },
  {
   "cell_type": "code",
   "execution_count": 6,
   "id": "e6d0f8a6",
   "metadata": {},
   "outputs": [
    {
     "name": "stdout",
     "output_type": "stream",
     "text": [
      "259.52129\n"
     ]
    }
   ],
   "source": [
    "print(sum(events))"
   ]
  },
  {
   "cell_type": "code",
   "execution_count": null,
   "id": "6626086b",
   "metadata": {},
   "outputs": [],
   "source": []
  }
 ],
 "metadata": {
  "kernelspec": {
   "display_name": "Python 3 (ipykernel)",
   "language": "python",
   "name": "python3"
  },
  "language_info": {
   "codemirror_mode": {
    "name": "ipython",
    "version": 3
   },
   "file_extension": ".py",
   "mimetype": "text/x-python",
   "name": "python",
   "nbconvert_exporter": "python",
   "pygments_lexer": "ipython3",
   "version": "3.8.12"
  }
 },
 "nbformat": 4,
 "nbformat_minor": 5
}
