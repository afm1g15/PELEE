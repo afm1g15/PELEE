{
 "cells": [
  {
   "cell_type": "code",
   "execution_count": 1,
   "id": "47ec4bfc",
   "metadata": {},
   "outputs": [
    {
     "name": "stdout",
     "output_type": "stream",
     "text": [
      "/home/alex/NuMI/PELEE/\n"
     ]
    }
   ],
   "source": [
    "import pandas as pd\n",
    "import matplotlib.pyplot as plt\n",
    "import matplotlib\n",
    "import sys\n",
    "import localSettings as ls\n",
    "import math\n",
    "print(ls.main_path)\n",
    "import load_data_run123\n",
    "import plotter_alex\n",
    "import importlib\n",
    "importlib.reload(plotter_alex)\n",
    "import uproot\n",
    "import matplotlib.pylab as pylab\n",
    "import numpy as np\n",
    "import math\n",
    "from sklearn.model_selection import train_test_split\n",
    "import pickle\n",
    "import xgboost as xgb\n",
    "import nue_booster \n",
    "importlib.reload(nue_booster)\n",
    "import awkward\n",
    "from matplotlib import gridspec\n",
    "from collections import defaultdict"
   ]
  },
  {
   "cell_type": "code",
   "execution_count": 2,
   "id": "007f2681",
   "metadata": {},
   "outputs": [],
   "source": [
    "ending = \"Jan19b\"\n",
    "\n",
    "##THINK - did you last unfold with nuwro or without?"
   ]
  },
  {
   "cell_type": "markdown",
   "id": "3e627bd5",
   "metadata": {},
   "source": [
    "##  Energy"
   ]
  },
  {
   "cell_type": "markdown",
   "id": "2299f24d",
   "metadata": {},
   "source": [
    "## Closure Tests"
   ]
  },
  {
   "cell_type": "markdown",
   "id": "5321ce59",
   "metadata": {},
   "source": [
    "## Blockwise Unfolding"
   ]
  },
  {
   "cell_type": "code",
   "execution_count": 3,
   "id": "bc8b695b",
   "metadata": {},
   "outputs": [
    {
     "name": "stdout",
     "output_type": "stream",
     "text": [
      "Unsmeared events\n",
      "[125.981, 458.532, 243.953, 130.078, 37.4204, 87.1863, 2910.2, 8532.48, 4814.05, 2232.76, 311.507, 93.4804]\n",
      "\n",
      "AC\n",
      "[[0.207417, 0.12281, 0.0494496, 0.0337345, 0.00777263, 0.0214001, 0.0, 0.0, 0.0, 0.0, 0.0, 0.0], [0.12281, 0.637891, 0.273083, 0.132924, 0.0131564, 0.0919098, 0.0, 0.0, 0.0, 0.0, 0.0, 0.0], [0.0494496, 0.273083, 0.279874, 0.0650623, -0.0171944, 0.0246371, 0.0, 0.0, 0.0, 0.0, 0.0, 0.0], [0.0337345, 0.132924, 0.0650623, 0.239649, 0.0134757, 0.0356115, 0.0, 0.0, 0.0, 0.0, 0.0, 0.0], [0.00777263, 0.0131564, -0.0171944, 0.0134757, 0.39209, 0.0781847, 0.0, 0.0, 0.0, 0.0, 0.0, 0.0], [0.0214001, 0.0919098, 0.0246371, 0.0356115, 0.0781847, 0.232198, 0.0, 0.0, 0.0, 0.0, 0.0, 0.0], [0.0, 0.0, 0.0, 0.0, 0.0, 0.0, 0.37553, -0.0211165, 0.169415, 0.0111957, 0.000804679, 0.000633575], [0.0, 0.0, 0.0, 0.0, 0.0, 0.0, -0.0211165, 0.700384, 0.228413, 0.208462, 0.0299076, 0.00866316], [0.0, 0.0, 0.0, 0.0, 0.0, 0.0, 0.169415, 0.228413, 0.326055, -0.0662716, -0.0105187, -0.00290102], [0.0, 0.0, 0.0, 0.0, 0.0, 0.0, 0.0111957, 0.208462, -0.0662716, 0.184252, 0.0269249, 0.00785368], [0.0, 0.0, 0.0, 0.0, 0.0, 0.0, 0.000804679, 0.0299076, -0.0105187, 0.0269249, 0.00394172, 0.00114916], [0.0, 0.0, 0.0, 0.0, 0.0, 0.0, 0.000633575, 0.00866316, -0.00290102, 0.00785368, 0.00114916, 0.000335599]]\n",
      "\n",
      "Prior Truth: \n",
      "[200.90155089602513, 508.2402269197106, 306.232262704156, 133.7775605028682, 67.25292842252685, 80.1395212850372, 5549.841605208183, 9509.799302516132, 5858.915960114153, 2824.280017714604, 1350.0165350084144, 2513.9433284989723]\n",
      "\n",
      "Errors: \n",
      "[50.4561, 179.793, 95.0972, 53.8376, 15.4724, 36.7968, 1733.24, 3770.7, 2012.66, 1269.5, 183.745, 53.2653]\n",
      "\n",
      "################################################################\n",
      "\n",
      "cov\n",
      "[[2545.82, 7897.44, 4047.71, 2306.19, 433.422, 1460.6, 40691.0, 115479.0, 67873.4, 28501.6, 3968.18, 1188.73], [7897.44, 32325.4, 16808.1, 9347.73, 1710.96, 6283.45, 109696.0, 455817.0, 239415.0, 113956.0, 16059.4, 4782.01], [4047.71, 16808.1, 9043.49, 4879.83, 890.13, 3339.76, 51648.4, 248660.0, 125856.0, 62540.9, 8845.01, 2629.12], [2306.19, 9347.73, 4879.83, 2898.49, 471.473, 1889.62, 29712.4, 138421.0, 70616.7, 34772.2, 4912.27, 1460.78], [433.422, 1710.96, 890.13, 471.473, 239.395, 350.522, 5188.37, 25993.0, 13134.8, 6461.95, 913.945, 271.775], [1460.6, 6283.45, 3339.76, 1889.62, 350.522, 1354.0, 14877.5, 94884.4, 45231.8, 24078.9, 3421.67, 1014.65], [40691.0, 109696.0, 51648.4, 29712.4, 5188.37, 14877.5, 3004130.0, 758833.0, 2313900.0, -176308.0, -34181.6, -6829.41], [115479.0, 455817.0, 248660.0, 138421.0, 25993.0, 94884.4, 758833.0, 14218200.0, 5477940.0, 4053710.0, 577941.0, 168606.0], [67873.4, 239415.0, 125856.0, 70616.7, 13134.8, 45231.8, 2313900.0, 5477940.0, 4050800.0, 817825.0, 107904.0, 33627.6], [28501.6, 113956.0, 62540.9, 34772.2, 6461.95, 24078.9, -176308.0, 4053710.0, 817825.0, 1611640.0, 233111.0, 67586.5], [3968.18, 16059.4, 8845.01, 4912.27, 913.945, 3421.67, -34181.6, 577941.0, 107904.0, 233111.0, 33762.1, 9780.78], [1188.73, 4782.01, 2629.12, 1460.78, 271.775, 1014.65, -6829.41, 168606.0, 33627.6, 67586.5, 9780.78, 2837.19]]\n",
      "\n"
     ]
    }
   ],
   "source": [
    "\n",
    "with open('../blockwise/stv-analysis-new/blockwise_unsmeared_events_energy_MC_ONLY_weighted_recoCut_incErr_'+ending+'.csv') as file:\n",
    "    content = file.readlines()\n",
    "events = content[0:]\n",
    "    \n",
    "for i in range(12):\n",
    "    events[i]=events[i].rstrip().rstrip(',')\n",
    "    events[i] = float(events[i])\n",
    "    \n",
    "print(\"Unsmeared events\")\n",
    "print(events)\n",
    "print(\"\")\n",
    "\n",
    "#------------------------------------------------------------------------------\n",
    "with open('../blockwise/stv-analysis-new/blockwise_unsmeared_AC_energy_MC_ONLY_weighted_recoCut_incErr_'+ending+'.csv') as file:\n",
    "    content = file.readlines()\n",
    "AC = content[0:]\n",
    "    \n",
    "for i in range(144):\n",
    "    AC[i]=AC[i].rstrip().rstrip(',')\n",
    "    AC[i] = float(AC[i])\n",
    "    \n",
    "\n",
    "chunks = [AC[x:x+12] for x in range(0, len(AC), 12)]\n",
    "\n",
    "print(\"AC\")\n",
    "print(chunks)\n",
    "print(\"\")\n",
    "#---------------------------------------------------------------\n",
    "\n",
    "with open('nue_full_500_catsel_nopions_recoE_usingSelection_prior_true_signal_blockwise_recoCut_comb_'+ending+'.csv') as file:\n",
    "    content = file.readlines()\n",
    "prior_true = content[0:]\n",
    "    \n",
    "for i in range(12):\n",
    "    prior_true[i]=prior_true[i].rstrip().rstrip(',')\n",
    "    prior_true[i] = float(prior_true[i])\n",
    "    \n",
    "print(\"Prior Truth: \")\n",
    "print(prior_true)\n",
    "print(\"\")\n",
    "\n",
    "#----------------------------------------------------------------\n",
    "with open('../blockwise/stv-analysis-new/blockwise_unsmeared_errors_energy_MC_ONLY_weighted_recoCut_incErr_'+ending+'.csv') as file:\n",
    "    content = file.readlines()\n",
    "errs = content[0:]\n",
    "    \n",
    "for i in range(12):\n",
    "    errs[i]=errs[i].rstrip().rstrip(',')\n",
    "    errs[i] = float(errs[i])\n",
    "    \n",
    "print(\"Errors: \")\n",
    "print(errs)\n",
    "print(\"\")\n",
    "print(\"################################################################\")\n",
    "print(\"\")\n",
    "\n",
    "#----------------------------------------------------------------\n",
    "with open('../blockwise/stv-analysis-new/blockwise_unsmeared_cov_matrix_energy_MC_ONLY_weighted_recoCut_incErr_'+ending+'.csv') as file:\n",
    "    content = file.readlines()\n",
    "cov = content[0:]\n",
    "    \n",
    "for i in range(144):\n",
    "    cov[i]=cov[i].rstrip().rstrip(',')\n",
    "    cov[i] = float(cov[i])\n",
    "    \n",
    "\n",
    "chunks_cov = [cov[x:x+12] for x in range(0, len(cov), 12)]\n",
    "\n",
    "print(\"cov\")\n",
    "print(chunks_cov)\n",
    "print(\"\")\n"
   ]
  },
  {
   "cell_type": "code",
   "execution_count": 4,
   "id": "52c1a98b",
   "metadata": {},
   "outputs": [
    {
     "name": "stdout",
     "output_type": "stream",
     "text": [
      "['12\\n', '0  0\\n', '1  0\\n', '2  0\\n', '3  0\\n', '4  0\\n', '5  0\\n', '6  1\\n', '7  1\\n', '8  1\\n', '9  1\\n', '10 1\\n', '11 1\\n', '12\\n', '0  0\\n', '1  0\\n', '2  0\\n', '3  0\\n', '4  0\\n', '5  0\\n', '6  1\\n', '7  1\\n', '8  1\\n', '9  1\\n', '10 1\\n', '11 1\\n']\n"
     ]
    }
   ],
   "source": [
    "with open('../blockwise/stv-analysis-new/blocks_12.txt') as file:\n",
    "    content = file.readlines()\n",
    "blocks = content[0:]\n",
    "\n",
    "print(blocks)"
   ]
  },
  {
   "cell_type": "code",
   "execution_count": 5,
   "id": "9abee237",
   "metadata": {},
   "outputs": [
    {
     "name": "stdout",
     "output_type": "stream",
     "text": [
      "Prior_Truth x AC: \n",
      "[ 125.98108716  458.5340733   243.95462293  130.07864008   37.42029653\n",
      "   87.18665196 2910.20548181 8532.4801245  4814.05407258 2232.75841739\n",
      "  311.50670264   93.4803748 ]\n",
      "\n",
      "\n",
      "Unfolding Done with MC Data Signal: \n",
      "[125.981, 458.532, 243.953, 130.078, 37.4204, 87.1863, 2910.2, 8532.48, 4814.05, 2232.76, 311.507, 93.4804]\n",
      "\n",
      "\n",
      "Difference\n",
      "[ 8.71613067e-05  2.07330481e-03  1.62293326e-03  6.40084252e-04\n",
      " -1.03467782e-04  3.51958971e-04  5.48180904e-03  1.24495593e-04\n",
      "  4.07258337e-03 -1.58261419e-03 -2.97355969e-04 -2.52000089e-05]\n",
      "\n",
      "[ 6.91860252e-05  4.52159376e-04  6.65260300e-04  4.92074833e-04\n",
      " -2.76501768e-04  4.03684467e-04  1.88365017e-04  1.45907862e-06\n",
      "  8.45977903e-05 -7.08815686e-05 -9.54573261e-05 -2.69575394e-05]\n"
     ]
    }
   ],
   "source": [
    "\n",
    "made_data_sig = np.dot(prior_true, chunks)\n",
    "print(\"Prior_Truth x AC: \")\n",
    "print(made_data_sig)\n",
    "print(\"\")\n",
    "print(\"\")\n",
    "print(\"Unfolding Done with MC Data Signal: \")\n",
    "print(events)\n",
    "print(\"\")\n",
    "\n",
    "diff = made_data_sig - events\n",
    "print(\"\")\n",
    "print(\"Difference\")\n",
    "print(diff)\n",
    "\n",
    "#for i in made_data_sig:\n",
    "#    print(i)\n",
    "\n",
    "print(\"\")\n",
    "diffasfrac = np.nan_to_num(diff/made_data_sig)\n",
    "print(diffasfrac*100)"
   ]
  },
  {
   "cell_type": "code",
   "execution_count": 6,
   "id": "eea03591",
   "metadata": {},
   "outputs": [
    {
     "data": {
      "image/png": "[encoded data removed]",
      "text/plain": [
       "<Figure size 432x288 with 1 Axes>"
      ]
     },
     "metadata": {
      "needs_background": "light"
     },
     "output_type": "display_data"
    },
    {
     "data": {
      "image/png": "[encoded data removed]",
      "text/plain": [
       "<Figure size 432x288 with 1 Axes>"
      ]
     },
     "metadata": {
      "needs_background": "light"
     },
     "output_type": "display_data"
    },
    {
     "data": {
      "image/png": "[encoded data removed]",
      "text/plain": [
       "<Figure size 432x288 with 1 Axes>"
      ]
     },
     "metadata": {
      "needs_background": "light"
     },
     "output_type": "display_data"
    }
   ],
   "source": [
    "import random\n",
    "import numpy\n",
    "from matplotlib import pyplot\n",
    "\n",
    "bins = np.arange(0, 13, 1)\n",
    "count = np.arange(0.0, 12.0, 1)\n",
    "\n",
    "pyplot.hist(count, bins, weights=made_data_sig, alpha=0.5, label='Prior_Truth x AC')\n",
    "pyplot.hist(count, bins, weights=events, alpha=0.5, label='Unfolding Done with MC Data Signal')\n",
    "pyplot.legend(loc='upper right')\n",
    "pyplot.xlabel(\"Bin Number\")\n",
    "pyplot.ylabel(\"Count\")\n",
    "pyplot.show()\n",
    "\n",
    "pyplot.hist(count, bins, weights=diff, alpha=0.5, label='Difference')\n",
    "pyplot.legend(loc='upper right')\n",
    "pyplot.xlabel(\"Bin Number\")\n",
    "pyplot.ylabel(\"Count\")\n",
    "pyplot.show()\n",
    "\n",
    "\n",
    "pyplot.hist(count, bins, weights=diffasfrac, alpha=0.5, label='Fractional Difference')\n",
    "pyplot.legend(loc='upper right')\n",
    "pyplot.xlabel(\"Bin Number\")\n",
    "pyplot.ylabel(\"Fractional Difference\")\n",
    "pyplot.show()"
   ]
  },
  {
   "cell_type": "code",
   "execution_count": 7,
   "id": "ab62440a",
   "metadata": {},
   "outputs": [
    {
     "data": {
      "image/png": "[encoded data removed]",
      "text/plain": [
       "<Figure size 720x432 with 1 Axes>"
      ]
     },
     "metadata": {
      "needs_background": "light"
     },
     "output_type": "display_data"
    }
   ],
   "source": [
    "fig = plt.figure(figsize=(10, 6))\n",
    "\n",
    "pyplot.hist(count, bins, weights=made_data_sig, alpha=0.5, label='Prior_Truth x AC')\n",
    "pyplot.hist(count, bins, weights=events, alpha=0.5, label='Unfolding Done with MC Data Signal')\n",
    "pyplot.legend(loc='upper left')\n",
    "pyplot.xlabel(\"Bin Number\")\n",
    "pyplot.ylabel(\"Count\")\n",
    "pyplot.title(\"GENIE Closure Test - Neutrino Energy\")\n",
    "pyplot.show()\n",
    "\n",
    "fig.savefig(\"GENIE_closure_test_\"+ending+\".svg\",bbox_inches='tight' )"
   ]
  },
  {
   "cell_type": "code",
   "execution_count": 8,
   "id": "5aab5cda",
   "metadata": {},
   "outputs": [
    {
     "data": {
      "image/png": "[encoded data removed]",
      "text/plain": [
       "<Figure size 720x432 with 1 Axes>"
      ]
     },
     "metadata": {
      "needs_background": "light"
     },
     "output_type": "display_data"
    }
   ],
   "source": [
    "fig = plt.figure(figsize=(10, 6))\n",
    "\n",
    "pyplot.hist(count, bins, weights=diff, alpha=0.5)\n",
    "#pyplot.legend(loc='upper right')\n",
    "pyplot.xlabel(\"Bin Number\")\n",
    "pyplot.ylabel(\"Difference\")\n",
    "pyplot.title(\"GENIE Closure Test - Difference\")\n",
    "pyplot.show()\n",
    "\n",
    "fig.savefig(\"GENIE_closure_test_diff_\"+ending+\".svg\",bbox_inches='tight' )"
   ]
  },
  {
   "cell_type": "code",
   "execution_count": 9,
   "id": "eb9e8d40",
   "metadata": {},
   "outputs": [
    {
     "data": {
      "image/png": "[encoded data removed]",
      "text/plain": [
       "<Figure size 720x432 with 2 Axes>"
      ]
     },
     "metadata": {
      "needs_background": "light"
     },
     "output_type": "display_data"
    }
   ],
   "source": [
    "fig = plt.figure(figsize=(10, 6))  \n",
    "    \n",
    "plt.pcolor(bins, bins, chunks, cmap='OrRd', edgecolors='k')#, vmin=-1, vmax=1)\n",
    "            \n",
    "cbar = plt.colorbar()\n",
    "cbar.ax.tick_params(labelsize=14)\n",
    "#cbar.set_label(r\"Log (Power)\", size=15)\n",
    "\n",
    "plt.xlabel('Bin Number', fontsize=15)\n",
    "plt.ylabel('Bin Number', fontsize=15)\n",
    "\n",
    "plt.title('Additional Smearing Matrix', fontsize=15)\n",
    "\n",
    "plt.show()\n",
    "\n",
    "fig.savefig(\"GENIE_closure_test_Ac_\"+ending+\".svg\",bbox_inches='tight' )"
   ]
  },
  {
   "cell_type": "code",
   "execution_count": 10,
   "id": "b296f7f7",
   "metadata": {},
   "outputs": [
    {
     "data": {
      "image/png": "[encoded data removed]",
      "text/plain": [
       "<Figure size 720x432 with 2 Axes>"
      ]
     },
     "metadata": {
      "needs_background": "light"
     },
     "output_type": "display_data"
    }
   ],
   "source": [
    "fig = plt.figure(figsize=(10, 6))  \n",
    "\n",
    "#print(bins)\n",
    "#bins = np.arange(0, 17, 1)\n",
    "#count = np.arange(0.0, 16.0, 1)\n",
    "    \n",
    "plt.pcolor(bins, bins, (chunks_cov), cmap='OrRd', edgecolors='k')#, vmin=-1, vmax=1)\n",
    "            \n",
    "cbar = plt.colorbar()\n",
    "cbar.ax.tick_params(labelsize=14)\n",
    "#cbar.set_label(r\"Log (Power)\", size=15)\n",
    "\n",
    "plt.xlabel('Bin Number', fontsize=15)\n",
    "plt.ylabel('Bin Number', fontsize=15)\n",
    "\n",
    "plt.title(' Log Covariance Matrix', fontsize=15)\n",
    "\n",
    "plt.show()"
   ]
  },
  {
   "cell_type": "markdown",
   "id": "4eb818f2",
   "metadata": {},
   "source": [
    "## Need to convert to xsec units\n",
    "\n",
    "xsec = unfolded event counts / (integrated flux * number of argon targets)"
   ]
  },
  {
   "cell_type": "code",
   "execution_count": 11,
   "id": "f5d1c4f0",
   "metadata": {},
   "outputs": [
    {
     "name": "stdout",
     "output_type": "stream",
     "text": [
      "number of argon targets =  4.240685683288815e+31\n"
     ]
    }
   ],
   "source": [
    "###################\n",
    "### #N argon target calculation\n",
    "###################\n",
    "\n",
    "density = 1.3836  #g/cm^3\n",
    "volume = (246-10)*(106-(-106))*(1026-10)         #cm^3\n",
    "NA = 6.022E23   #atoms/mol\n",
    "Nnuc = 40       #nucleans / atom\n",
    "mmol = 39.95    #g/mol\n",
    "\n",
    "Narg = (density * volume * NA * Nnuc)/mmol   #nucleons\n",
    "\n",
    "print(\"number of argon targets = \", Narg)"
   ]
  },
  {
   "cell_type": "code",
   "execution_count": 12,
   "id": "f159659a",
   "metadata": {},
   "outputs": [
    {
     "name": "stdout",
     "output_type": "stream",
     "text": [
      "Nue integrated flux:  6699173958.965427\n",
      "Numu integrated flux:  293274644711.0575\n"
     ]
    }
   ],
   "source": [
    "#Need R1 AND R3\n",
    "\n",
    "####NUE\n",
    "POT_R1 = 2.0E20 \n",
    "int_flux_per_POT_R1 = 1.1864530596659353e-11\n",
    "POT_R3 = 5.014E20\n",
    "int_flux_per_POT_R3 = 8.628376225834778e-12\n",
    "\n",
    "int_flux = (int_flux_per_POT_R1*POT_R1) + (int_flux_per_POT_R3*POT_R3)    #cm^-2\n",
    "\n",
    "print(\"Nue integrated flux: \", int_flux)\n",
    "\n",
    "####NUMU\n",
    "\n",
    "POT_numu_R1 = 2.0E20 \n",
    "int_flux_per_POT_numu_R1 = 5.455771063338641e-10\n",
    "POT_numu_R3 = 5.014E20 \n",
    "int_flux_per_POT_numu_R3 = 3.6729003479115414e-10\n",
    "\n",
    "int_flux_numu = (int_flux_per_POT_numu_R1*POT_numu_R1) + (int_flux_per_POT_numu_R3*POT_numu_R3)    #cm^-2\n",
    "\n",
    "print(\"Numu integrated flux: \", int_flux_numu)"
   ]
  },
  {
   "cell_type": "code",
   "execution_count": 13,
   "id": "6f85f708",
   "metadata": {},
   "outputs": [],
   "source": [
    "nue_events = np.array(events[0:6])\n",
    "numu_events = np.array(events[6:12])\n",
    "\n",
    "nue_errs = np.array(errs[0:6])\n",
    "numu_errs = np.array(errs[6:12])"
   ]
  },
  {
   "cell_type": "code",
   "execution_count": 14,
   "id": "51d7ee03",
   "metadata": {},
   "outputs": [],
   "source": [
    "#number of events\n",
    "\n",
    "xsec_nue_events = nue_events / (int_flux * Narg )     \n",
    "xsec_numu_events = numu_events / (int_flux_numu * Narg )     \n",
    "\n",
    "\n",
    "#uncertainty\n",
    "\n",
    "#xsec_nue_errs = nue_errs / (int_flux * Narg )     \n",
    "#xsec_numu_errs = numu_errs / (int_flux_numu * Narg )     "
   ]
  },
  {
   "cell_type": "code",
   "execution_count": 15,
   "id": "c72037ef",
   "metadata": {},
   "outputs": [],
   "source": [
    "#Need the four sections of the cov matrix\n",
    "\n",
    "blockwise_errs = chunks_cov\n",
    "#print(blockwise_errs)\n",
    "#print(\"\")\n",
    "\n",
    "#NUE ONLY\n",
    "bot_left = blockwise_errs[:6]\n",
    "for i in range(len(bot_left)):\n",
    "    bot_left[i] = bot_left[i][:6]\n",
    "    \n",
    "nue_errs_bot = np.array(bot_left)/((int_flux*int_flux)*(Narg*Narg))\n",
    "xsec_nue_errs = (np.sqrt(np.diag(nue_errs_bot)))\n",
    "    \n",
    "#MIX\n",
    "bot_right = blockwise_errs[:6]\n",
    "for i in range(len(bot_right)):\n",
    "    bot_right[i] = bot_right[i][6:]\n",
    "    \n",
    "mix_errs_bot = np.array(bot_right)/((int_flux*int_flux_numu)*(Narg*Narg))\n",
    "xsec_botmix_errs = np.nan_to_num(np.sqrt(np.diag(mix_errs_bot)))\n",
    "\n",
    "    \n",
    "#MIX\n",
    "top_left = blockwise_errs[6:]\n",
    "for i in range(len(top_left)):\n",
    "    top_left[i] = top_left[i][:6]\n",
    "    \n",
    "mix_errs_top = np.array(top_left)/((int_flux*int_flux_numu)*(Narg*Narg))\n",
    "xsec_topmix_errs = np.nan_to_num(np.sqrt(np.diag(mix_errs_top)))\n",
    "\n",
    "#NUMU ONLY\n",
    "top_right = blockwise_errs[6:]\n",
    "for i in range(len(top_right)):\n",
    "    top_right[i] = top_right[i][6:]\n",
    "    \n",
    "numu_errs_top = np.array(top_right)/((int_flux_numu*int_flux_numu)*(Narg*Narg))\n",
    "xsec_numu_errs = (np.sqrt(np.diag(numu_errs_top)))\n"
   ]
  },
  {
   "cell_type": "code",
   "execution_count": 16,
   "id": "ddeb3bea",
   "metadata": {},
   "outputs": [
    {
     "name": "stdout",
     "output_type": "stream",
     "text": [
      "Ratio event counts:  [ 1.8951146   2.35259751  2.21844583  2.55043976  5.25888746 40.83014737]\n",
      "\n",
      "ratio_sq:  [   3.59145934    5.53471503    4.9215019     6.50474295   27.65589734\n",
      " 1667.10093424]\n",
      "\n",
      "nue:  [0.16040489 0.15374628 0.15195806 0.17130266 0.17096146 0.17812389]\n",
      "\n",
      "numu:  [0.35470969 0.19529632 0.17479122 0.32328381 0.34793157 0.32467384]\n",
      "\n",
      "mix:  [0.11098658 0.11650528 0.10716604 0.11972539 0.07840501 0.12449372]\n",
      "\n",
      "mix:  [0.11098658 0.11650528 0.10716604 0.11972539 0.07840501 0.12449372]\n",
      "\n",
      "[  1.05280545   0.64220432   0.55326149   1.659592    10.01373039\n",
      " 423.12736334]\n",
      "Ratio errs:  [ 1.02606308  0.80137651  0.74381549  1.28825153  3.16444788 20.57005988]\n"
     ]
    }
   ],
   "source": [
    "### Calculate ratio uncertainties\n",
    "\n",
    "xsec_ratio_events = np.nan_to_num(xsec_nue_events/xsec_numu_events)\n",
    "print(\"Ratio event counts: \", xsec_ratio_events)\n",
    "print(\"\")\n",
    "\n",
    "#####################\n",
    "\n",
    "ratio_sq = (xsec_nue_events/xsec_numu_events)*(xsec_nue_events/xsec_numu_events)\n",
    "print(\"ratio_sq: \", ratio_sq)\n",
    "print(\"\")\n",
    "nue_term = (xsec_nue_errs*xsec_nue_errs)/(xsec_nue_events*xsec_nue_events)\n",
    "print(\"nue: \", nue_term)\n",
    "print(\"\")\n",
    "numu_term = (xsec_numu_errs*xsec_numu_errs)/(xsec_numu_events*xsec_numu_events)\n",
    "print(\"numu: \", numu_term)\n",
    "print(\"\")\n",
    "mix_1 = (xsec_botmix_errs*xsec_botmix_errs)/(xsec_numu_events*xsec_nue_events)\n",
    "print(\"mix: \", mix_1)\n",
    "print(\"\")\n",
    "mix_2 = (xsec_topmix_errs*xsec_topmix_errs)/(xsec_numu_events*xsec_nue_events)\n",
    "print(\"mix: \", mix_2)\n",
    "print(\"\")\n",
    "\n",
    "ratio_var_errs = ratio_sq*(nue_term + numu_term - mix_1 - mix_2)\n",
    "print(ratio_var_errs)\n",
    "xsec_ratio_errs = np.nan_to_num(np.sqrt(abs(ratio_var_errs)))\n",
    "print(\"Ratio errs: \", xsec_ratio_errs)"
   ]
  },
  {
   "cell_type": "code",
   "execution_count": 17,
   "id": "6777351c",
   "metadata": {},
   "outputs": [
    {
     "name": "stdout",
     "output_type": "stream",
     "text": [
      "[4.43453117e-40 1.61403263e-39 8.58714554e-40 4.57874557e-40\n",
      " 1.31719807e-40 3.06895774e-40]\n",
      "\n",
      "[2.33998048e-40 6.86064073e-40 3.87079343e-40 1.79527690e-40\n",
      " 2.50470861e-41 7.51640133e-42]\n",
      "\n",
      "[1.77605540e-40 6.32870153e-40 3.34742374e-40 1.89508443e-40\n",
      " 5.44628292e-41 1.29524520e-40]\n",
      "\n",
      "[1.39363409e-40 3.03187790e-40 1.61830285e-40 1.02075947e-40\n",
      " 1.47742051e-41 4.28285734e-42]\n"
     ]
    }
   ],
   "source": [
    "print(xsec_nue_events)\n",
    "print(\"\")\n",
    "print(xsec_numu_events)\n",
    "print(\"\")\n",
    "print(xsec_nue_errs)\n",
    "print(\"\")\n",
    "print(xsec_numu_errs)"
   ]
  },
  {
   "cell_type": "code",
   "execution_count": 18,
   "id": "7b2d879b",
   "metadata": {},
   "outputs": [
    {
     "data": {
      "image/png": "[encoded data removed]",
      "text/plain": [
       "<Figure size 576x504 with 1 Axes>"
      ]
     },
     "metadata": {
      "needs_background": "light"
     },
     "output_type": "display_data"
    }
   ],
   "source": [
    "import random\n",
    "import numpy\n",
    "from matplotlib import pyplot\n",
    "\"\"\"\n",
    "bins = np.arange(0, 5.5, 0.5)\n",
    "count = np.arange(0.1, 5.1, 0.5)\n",
    "print(count)\n",
    "\n",
    "plt.ylim(0, 5E-39)\n",
    "\n",
    "plt.xlabel(\"Energy [GeV]\")\n",
    "plt.ylabel(\"xsec [cm^2]\")\n",
    "\n",
    "pyplot.hist(count, bins, weights=xsec_nue_events, alpha=0.5)\n",
    "#pyplot.legend(loc='upper right')\n",
    "pyplot.show()\n",
    "\"\"\"\n",
    "\n",
    "nue_fig = plt.figure(figsize=(8, 7))\n",
    "nue_gs = gridspec.GridSpec(2, 1, height_ratios=[2, 1])\n",
    "nue_ax1 = plt.subplot(nue_gs[0])\n",
    "nue_ax1.set_xlim([0, 3])\n",
    "\n",
    "bins = np.arange(0, 3.5, 0.5)\n",
    "bincenters = np.arange(0.25, 3.25, 0.5)\n",
    "bin_edges = np.arange(0, 3.5, 0.5)\n",
    "bin_size = [(bin_edges[i + 1] - bin_edges[i]) / 2\n",
    "            for i in range(len(bin_edges) - 1)]\n",
    "count = np.arange(0.1, 3.1, 0.5)\n",
    "weights = []\n",
    "for i in range(len(count)):\n",
    "    weight = count[i]*xsec_nue_events[i]\n",
    "    weights.append(weight)\n",
    "\n",
    "sel = nue_ax1.hist(count, bins, color='deepskyblue', weights=xsec_nue_events)\n",
    "plt.ylim(0, 2.5E-39)\n",
    "nue_ax1.set_xlabel('Neutrino Energy [GeV]', fontsize=15)\n",
    "nue_ax1.set_ylabel('xsec [cm^2 / GeV / nucleon]', fontsize=15)\n",
    "nue_ax1.set_title(\"Unfolded Nue Neutrino Energy\")\n",
    "\n",
    "lower_err = np.nan_to_num(xsec_nue_events-xsec_nue_errs)\n",
    "\n",
    "nue_ax1.bar(bincenters, xsec_nue_errs*2,width=[n*2 for n in bin_size],facecolor='tab:green',alpha=0.2,bottom=(lower_err))\n",
    "\n",
    "nue_fig.savefig(\"unfolded_MC_nue_\"+ending+\".svg\",bbox_inches='tight' )"
   ]
  },
  {
   "cell_type": "code",
   "execution_count": 19,
   "id": "13a99b51",
   "metadata": {},
   "outputs": [
    {
     "data": {
      "image/png": "[encoded data removed]",
      "text/plain": [
       "<Figure size 576x504 with 1 Axes>"
      ]
     },
     "metadata": {
      "needs_background": "light"
     },
     "output_type": "display_data"
    }
   ],
   "source": [
    "import random\n",
    "import numpy\n",
    "from matplotlib import pyplot\n",
    "\n",
    "numu_fig = plt.figure(figsize=(8, 7))\n",
    "numu_gs = gridspec.GridSpec(2, 1, height_ratios=[2, 1])\n",
    "numu_ax1 = plt.subplot(numu_gs[0])\n",
    "numu_ax1.set_xlim([0, 3])\n",
    "\n",
    "bins = np.arange(0, 3.5, 0.5)\n",
    "bincenters = np.arange(0.25, 3.25, 0.5)\n",
    "bin_edges = np.arange(0, 3.5, 0.5)\n",
    "bin_size = [(bin_edges[i + 1] - bin_edges[i]) / 2\n",
    "            for i in range(len(bin_edges) - 1)]\n",
    "count = np.arange(0.1, 3.1, 0.5)\n",
    "weights = []\n",
    "for i in range(len(count)):\n",
    "    weight = count[i]*xsec_numu_events[i]\n",
    "    weights.append(weight)\n",
    "\n",
    "sel = numu_ax1.hist(count, bins, color='deepskyblue', weights=xsec_numu_events)\n",
    "plt.ylim(0, 1E-39)\n",
    "numu_ax1.set_xlabel('Neutrino Energy [GeV]', fontsize=15)\n",
    "numu_ax1.set_ylabel('xsec [cm^2 / GeV / nucleon]', fontsize=15)\n",
    "numu_ax1.set_title(\"Unfolded Nue Neutrino Energy\")\n",
    "\n",
    "lower_err = np.nan_to_num(xsec_numu_events-xsec_numu_errs)\n",
    "\n",
    "numu_ax1.bar(bincenters, xsec_numu_errs*2,width=[n*2 for n in bin_size],facecolor='tab:green',alpha=0.2,bottom=(lower_err))\n",
    "\n",
    "numu_fig.savefig(\"unfolded_MC_numu_\"+ending+\".svg\",bbox_inches='tight' )"
   ]
  },
  {
   "cell_type": "code",
   "execution_count": 20,
   "id": "7260f44b",
   "metadata": {},
   "outputs": [
    {
     "name": "stdout",
     "output_type": "stream",
     "text": [
      "[ 1.8951146   2.35259751  2.21844583  2.55043976  5.25888746 40.83014737]\n",
      "[ 1.8951146   2.35259751  2.21844583  2.55043976  5.25888746 40.83014737]\n"
     ]
    },
    {
     "data": {
      "image/png": "[encoded data removed]",
      "text/plain": [
       "<Figure size 432x288 with 1 Axes>"
      ]
     },
     "metadata": {
      "needs_background": "light"
     },
     "output_type": "display_data"
    }
   ],
   "source": [
    "#Think need to replace 2nd bin due to unfolding\n",
    "\n",
    "import random\n",
    "import numpy\n",
    "from matplotlib import pyplot\n",
    "\n",
    "bins = np.arange(0, 3.5, 0.5)\n",
    "count = np.arange(0.1, 3.1, 0.5)\n",
    "#print(count)\n",
    "\n",
    "#plt.ylim(0, 35)\n",
    "plt.xlabel(\"Neutrino Energy [GeV]\")\n",
    "plt.ylabel(\"xsec [cm^2 / GeV / nucleon]\")\n",
    "\n",
    "print(xsec_nue_events/xsec_numu_events)\n",
    "print(xsec_ratio_events)\n",
    "\n",
    "pyplot.hist(count, bins, weights=np.nan_to_num(xsec_nue_events/xsec_numu_events), alpha=0.5)\n",
    "pyplot.hist(count, bins, weights=xsec_ratio_events, alpha=0.5)\n",
    "\n",
    "#pyplot.legend(loc='upper right')\n",
    "pyplot.show()"
   ]
  },
  {
   "cell_type": "code",
   "execution_count": 21,
   "id": "e90f2e32",
   "metadata": {},
   "outputs": [
    {
     "name": "stdout",
     "output_type": "stream",
     "text": [
      "\n",
      "[ 1.8951146   2.35259751  2.21844583  2.55043976  5.25888746 40.83014737]\n"
     ]
    },
    {
     "data": {
      "image/png": "[encoded data removed]",
      "text/plain": [
       "<Figure size 576x504 with 1 Axes>"
      ]
     },
     "metadata": {
      "needs_background": "light"
     },
     "output_type": "display_data"
    }
   ],
   "source": [
    "import random\n",
    "import numpy\n",
    "from matplotlib import pyplot\n",
    "\n",
    "\n",
    "ratio_fig = plt.figure(figsize=(8, 7))\n",
    "ratio_gs = gridspec.GridSpec(2, 1, height_ratios=[2, 1])\n",
    "ratio_ax1 = plt.subplot(ratio_gs[0])\n",
    "ratio_ax1.set_xlim([0, 3])\n",
    "\n",
    "bins = np.arange(0, 3.5, 0.5)\n",
    "bincenters = np.arange(0.25, 3.25, 0.5)\n",
    "bin_edges = np.arange(0, 3.5, 0.5)\n",
    "bin_size = [(bin_edges[i + 1] - bin_edges[i]) / 2\n",
    "            for i in range(len(bin_edges) - 1)]\n",
    "count = np.arange(0.1, 3.1, 0.5)\n",
    "#print(len(count))\n",
    "#weights = []\n",
    "#for i in range(len(count)):\n",
    "#    weight = count[i]*xsec_ratio_events[i]\n",
    "#    weights.append(weight)\n",
    "\n",
    "\n",
    "#test_weights = [(random.random()/random.random() - 0.75) for x in range(len(count))]\n",
    "#print(count)\n",
    "#xsec_ratio_events[7] = 0\n",
    "#print(xsec_ratio_events)\n",
    "print(\"\")\n",
    "sel = ratio_ax1.hist(count, bins, color='deepskyblue', weights=xsec_ratio_events)  # , weights=xsec_ratio_events\n",
    "print(sel[0])\n",
    "\n",
    "#plt.ylim(0, 8)\n",
    "ratio_ax1.set_xlabel('Neutrino Energy [GeV]', fontsize=15)\n",
    "ratio_ax1.set_ylabel('Ratio', fontsize=15)\n",
    "ratio_ax1.set_title(\"Unfolded Ratio Neutrino Energy\")\n",
    "\n",
    "lower_err = np.nan_to_num(xsec_ratio_events-xsec_ratio_errs)\n",
    "\n",
    "ratio_ax1.bar(bincenters, xsec_ratio_errs*2,width=[n*2 for n in bin_size],facecolor='tab:green',alpha=0.2,bottom=(lower_err))\n",
    "\n",
    "ratio_fig.savefig(\"unfolded_MC_ratio_\"+ending+\".svg\",bbox_inches='tight' )"
   ]
  },
  {
   "cell_type": "code",
   "execution_count": 22,
   "id": "51678734",
   "metadata": {},
   "outputs": [],
   "source": [
    "nue_frac_err = xsec_nue_errs/xsec_nue_events\n",
    "numu_frac_err = xsec_numu_errs/xsec_numu_events\n",
    "ratio_frac_err = xsec_ratio_errs/xsec_ratio_events"
   ]
  },
  {
   "cell_type": "code",
   "execution_count": 23,
   "id": "ada39962",
   "metadata": {},
   "outputs": [
    {
     "data": {
      "image/png": "[encoded data removed]",
      "text/plain": [
       "<Figure size 576x504 with 1 Axes>"
      ]
     },
     "metadata": {
      "needs_background": "light"
     },
     "output_type": "display_data"
    }
   ],
   "source": [
    "errors_fig = plt.figure(figsize=(8, 7))\n",
    "errors_gs = gridspec.GridSpec(2, 1, height_ratios=[2, 1])\n",
    "errors_ax1 = plt.subplot(ratio_gs[0])\n",
    "\n",
    "\n",
    "bins = np.arange(0, 3.5, 0.5)\n",
    "count = np.arange(0.1, 3.1, 0.5)\n",
    "#plt.ylim(0, 1)\n",
    "\n",
    "sel_nue = errors_ax1.hist(count, bins, edgecolor='blue', facecolor='None', weights=nue_frac_err, label='nue')\n",
    "sel_numu = errors_ax1.hist(count, bins, edgecolor='green', facecolor='None', weights=numu_frac_err, label='numu')\n",
    "sel_ratio = errors_ax1.hist(count, bins, edgecolor='red', facecolor='None', weights=ratio_frac_err, label='ratio')\n",
    "errors_ax1.set_ylabel('Fractional Uncertainty', fontsize=15)\n",
    "errors_ax1.set_xlabel('cos(True Lepton Angle)', fontsize=15)\n",
    "errors_ax1.set_title(\"Uncertainty Comparison\")\n",
    "leg = errors_ax1.legend()"
   ]
  },
  {
   "cell_type": "code",
   "execution_count": null,
   "id": "93fa09db",
   "metadata": {},
   "outputs": [],
   "source": []
  },
  {
   "cell_type": "code",
   "execution_count": null,
   "id": "b0f856ed",
   "metadata": {},
   "outputs": [],
   "source": []
  },
  {
   "cell_type": "code",
   "execution_count": null,
   "id": "b2743d32",
   "metadata": {},
   "outputs": [],
   "source": []
  }
 ],
 "metadata": {
  "kernelspec": {
   "display_name": "Python 3 (ipykernel)",
   "language": "python",
   "name": "python3"
  },
  "language_info": {
   "codemirror_mode": {
    "name": "ipython",
    "version": 3
   },
   "file_extension": ".py",
   "mimetype": "text/x-python",
   "name": "python",
   "nbconvert_exporter": "python",
   "pygments_lexer": "ipython3",
   "version": "3.8.12"
  }
 },
 "nbformat": 4,
 "nbformat_minor": 5
}
