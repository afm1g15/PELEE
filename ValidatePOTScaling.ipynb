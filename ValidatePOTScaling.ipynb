{
 "cells": [
  {
   "cell_type": "code",
   "execution_count": null,
   "metadata": {},
   "outputs": [],
   "source": [
    "import sys\n",
    "import localSettings as ls\n",
    "print(ls.main_path)"
   ]
  },
  {
   "cell_type": "code",
   "execution_count": null,
   "metadata": {
    "colab": {
     "base_uri": "https://localhost:8080/",
     "height": 34
    },
    "colab_type": "code",
    "executionInfo": {
     "elapsed": 517,
     "status": "ok",
     "timestamp": 1560556807118,
     "user": {
      "displayName": "Stefano Roberto Soleti",
      "photoUrl": "https://lh4.googleusercontent.com/-hfLpspJu4Q0/AAAAAAAAAAI/AAAAAAAABmA/2kE4rtj8paU/s64/photo.jpg",
      "userId": "10372352518008961760"
     },
     "user_tz": 240
    },
    "id": "6qsD0G-yYJ9K",
    "outputId": "5d52a3ec-50be-44fc-da44-3c0593e98bc6"
   },
   "outputs": [],
   "source": [
    "main_path = ls.main_path\n",
    "sys.path.append(main_path)"
   ]
  },
  {
   "cell_type": "code",
   "execution_count": null,
   "metadata": {},
   "outputs": [],
   "source": [
    "SHRCALIBFACTOR = 1.00"
   ]
  },
  {
   "cell_type": "code",
   "execution_count": null,
   "metadata": {},
   "outputs": [],
   "source": [
    "# Doing Run3?\n",
    "ISRUN3 = False"
   ]
  },
  {
   "cell_type": "code",
   "execution_count": null,
   "metadata": {
    "colab": {},
    "colab_type": "code",
    "id": "xGqTJ5JgaDsx"
   },
   "outputs": [],
   "source": [
    "import plotter\n",
    "import importlib\n",
    "importlib.reload(plotter)\n",
    "import uproot\n",
    "import matplotlib.pylab as pylab\n",
    "import numpy as np\n",
    "import math\n",
    "from sklearn.model_selection import train_test_split\n",
    "import pickle\n",
    "import xgboost as xgb\n",
    "import nue_booster \n",
    "importlib.reload(nue_booster)\n",
    "import awkward\n",
    "\n",
    "params = {\n",
    "    'axes.labelsize': 'x-large',\n",
    "    'axes.titlesize': 'x-large',\n",
    "    'xtick.labelsize': 'x-large',\n",
    "    'ytick.labelsize': 'x-large'\n",
    "}\n",
    "pylab.rcParams.update(params)"
   ]
  },
  {
   "cell_type": "code",
   "execution_count": null,
   "metadata": {
    "colab": {},
    "colab_type": "code",
    "id": "iwoCIaigYJ9N"
   },
   "outputs": [],
   "source": [
    "fold = \"nuselection\"\n",
    "tree = \"NeutrinoSelectionFilter\"\n",
    "\n",
    "BNB = \"\"\n",
    "EXT = \"\"\n",
    "NU  = \"\"\n",
    "NUE = \"\"\n",
    "DRT = \"\"\n",
    "PI0 = \"\"\n",
    "CCPI0 = \"\"\n",
    "\n",
    "if ISRUN3:\n",
    "    BNB = 'data_bnb_mcc9.1_v08_00_00_25_reco2_G1_beam_good_reco2_1e19'\n",
    "    EXT = 'data_extbnb_mcc9.1_v08_00_00_25_reco2_G1_all_reco2'\n",
    "    NU  = 'prodgenie_bnb_nu_uboone_overlay_mcc9.1_v08_00_00_26_filter_run3_reco2_G_reco2'\n",
    "    NUE = 'prodgenie_bnb_intrinsice_nue_uboone_overlay_mcc9.1_v08_00_00_26_run3_reco2_reco2'\n",
    "    DRT = 'prodgenie_bnb_dirt_overlay_mcc9.1_v08_00_00_26_run3_reco2_reco2'\n",
    "    PI0 = 'prodgenie_nc_pi0_uboone_overlay_mcc9.1_v08_00_00_26_run3_G_reco2'\n",
    "    CCPI0 = 'prodgenie_cc_pi0_uboone_overlay_v08_00_00_26_run3_G_reco2'\n",
    "    \n",
    "else:\n",
    "    BNB = 'data_bnb_mcc9.1_v08_00_00_25_reco2_C1_beam_good_reco2_5e19'\n",
    "    EXT = 'data_extbnb_mcc9.1_v08_00_00_25_reco2_C1_all_reco2'\n",
    "    NU  = 'prodgenie_bnb_nu_uboone_overlay_mcc9.1_v08_00_00_26_filter_run1_reco2_reco2'\n",
    "    NUE = 'prodgenie_bnb_intrinsice_nue_uboone_overlay_mcc9.1_v08_00_00_26_run1_reco2_reco2'\n",
    "    DRT = 'prodgenie_bnb_dirt_overlay_mcc9.1_v08_00_00_26_run1_reco2_reco2'\n",
    "    PI0 = 'prodgenie_nc_pi0_uboone_overlay-v08_00_00_26_run1_reco2_reco2'\n",
    "    CCPI0 = 'prodgenie_cc_pi0_uboone_overlay_v08_00_00_26_run1_reco2'\n",
    "    \n",
    "mc = uproot.open(ls.ntuple_path+NU+\".root\")[fold][tree]\n",
    "nc = uproot.open(ls.ntuple_path+PI0+\".root\")[fold][tree]\n",
    "ccpi0 = uproot.open(ls.ntuple_path+CCPI0+\".root\")[fold][tree]\n",
    "nue = uproot.open(ls.ntuple_path+NUE+\".root\")[fold][tree]\n",
    "data = uproot.open(ls.ntuple_path+BNB+\".root\")[fold][tree]\n",
    "ext = uproot.open(ls.ntuple_path+EXT+\".root\")[fold][tree]\n",
    "dirt = uproot.open(ls.ntuple_path+DRT+\".root\")[fold][tree]\n",
    "lee = uproot.open(ls.ntuple_path+NUE+\".root\")[fold][tree]\n",
    "\n",
    "uproot_v = [lee,mc,nc,ccpi0,nue,ext,data,dirt]\n",
    "\n",
    "variables = [\n",
    "    \"run\",\"sub\",\"evt\",\n",
    "    \"shr_bkt_pdg\", \"selected\", \"nu_pdg\",\n",
    "    \"slpdg\", \"trk_score_v\", \"backtracked_pdg\", # modified from shr_score_v\n",
    "    \"shr_pfp_id_v\", \"category\",\n",
    "    \"reco_nu_vtx_sce_x\",\"reco_nu_vtx_sce_y\",\"reco_nu_vtx_sce_z\",\n",
    "    \"reco_nu_vtx_x\",\"reco_nu_vtx_y\",\"reco_nu_vtx_z\",\n",
    "    \"nu_e\",\"trk_bkt_pdg\",\"ccnc\",\n",
    "    \"trk_energy_muon\",\n",
    "    \"nu_flashmatch_score\",\"trk_phi\",\n",
    "    \"trk_llr_pid_score_v\",\"trk_id\",\n",
    "    \"muon_e\",\"proton_e\",\"nproton\",\n",
    "    \"mc_pdg\", \"npi0\",\"interaction\",\"NeutrinoEnergy2\",\n",
    "    \"topological_score\",\"trk_len\",\"trk_theta\",\n",
    "    \"evnunhits\", \"nslice\", \"selected\",\n",
    "    \"reco_nu_vtx_x\", \"reco_nu_vtx_y\", \"reco_nu_vtx_z\"]\n",
    "\n",
    "nue = nue.pandas.df(variables + [\"weightSpline\",\"weightTune\"], flatten=False)\n",
    "mc = mc.pandas.df(variables + [\"weightSpline\",\"weightTune\"], flatten=False)\n",
    "nc = nc.pandas.df(variables + [\"weightSpline\",\"weightTune\"], flatten=False)\n",
    "ccpi0 = ccpi0.pandas.df(variables + [\"weightSpline\",\"weightTune\"], flatten=False)\n",
    "data = data.pandas.df(variables, flatten=False)\n",
    "ext = ext.pandas.df(variables, flatten=False)\n",
    "dirt = dirt.pandas.df(variables + [\"weightSpline\",\"weightTune\"], flatten=False)\n",
    "lee = lee.pandas.df(variables + [\"weightSpline\", \"leeweight\",\"weightTune\"], flatten=False)"
   ]
  },
  {
   "cell_type": "code",
   "execution_count": null,
   "metadata": {},
   "outputs": [],
   "source": [
    "df_v = [lee,mc,nc,ccpi0,nue,dirt]\n",
    "\n",
    "for i,df in enumerate(df_v):\n",
    "    \n",
    "    df.loc[ df['weightTune'] < 0, 'weightTune' ] = 1.\n",
    "    df.loc[ df['weightTune'] == np.inf, 'weightTune' ] = 1.\n",
    "    df.loc[ df['weightTune'] > 100, 'weightTune' ] = 1.\n",
    "    df['weightSpline']  = df['weightSpline']  * df['weightTune']"
   ]
  },
  {
   "cell_type": "code",
   "execution_count": null,
   "metadata": {},
   "outputs": [],
   "source": [
    "def EQE(df,elecangle,elecenergy,ke):\n",
    "    mp = 0.998\n",
    "    mn = 0.939\n",
    "    Eb = 0.00987 # see DocDB 26949\n",
    "    theta = df[elecangle]\n",
    "    El = df[elecenergy]\n",
    "    if (ke == True):\n",
    "        El += 0.105\n",
    "    ml = 0.105\n",
    "    num = mp**2 - (mn-Eb)**2 - ml**2 + 2*(mn-Eb)*El\n",
    "    den = 2*(mn-Eb-El + np.sqrt(El**2-ml**2) * np.cos(theta))\n",
    "    return num/den"
   ]
  },
  {
   "cell_type": "code",
   "execution_count": null,
   "metadata": {},
   "outputs": [],
   "source": [
    "df_v = [lee,mc,nc,ccpi0,nue,ext,data,dirt]\n",
    "\n",
    "for i,df in enumerate(df_v):\n",
    "    up = uproot_v[i]\n",
    "    trk_llr_pid_v = up.array('trk_llr_pid_score_v')\n",
    "    trk_id = up.array('trk_id')-1 # I think we need this -1 to get the right result\n",
    "    trk_llr_pid_v_sel = awkward.fromiter([pidv[tid] if tid<len(pidv) else 9999. for pidv,tid in zip(trk_llr_pid_v,trk_id)])\n",
    "    df['trkpid'] = trk_llr_pid_v_sel\n",
    "    df[\"reco_e_qe\"] = EQE(df,'trk_theta','trk_energy_muon',1)"
   ]
  },
  {
   "cell_type": "code",
   "execution_count": null,
   "metadata": {},
   "outputs": [],
   "source": [
    "# avoid double-counting of events out of FV in the NC/CC pi0 samples\n",
    "nc = nc.query('category != 5')\n",
    "ccpi0 = ccpi0.query('category != 5')"
   ]
  },
  {
   "cell_type": "code",
   "execution_count": null,
   "metadata": {},
   "outputs": [],
   "source": [
    "df_v = [lee,mc,nc,ccpi0,nue,ext,data,dirt]\n",
    "\n",
    "# and a way to filter out data\n",
    "for i,df in enumerate(df_v):\n",
    "    df[\"bnbdata\"] = np.zeros_like(df[\"topological_score\"])\n",
    "data[\"bnbdata\"] = np.ones_like(data[\"topological_score\"])"
   ]
  },
  {
   "cell_type": "code",
   "execution_count": null,
   "metadata": {},
   "outputs": [],
   "source": [
    "lee[\"is_signal\"] = lee[\"category\"] == 11\n",
    "data[\"is_signal\"] = data[\"category\"] == 11\n",
    "nue[\"is_signal\"] = nue[\"category\"] == 11\n",
    "mc[\"is_signal\"] = mc[\"category\"] == 11\n",
    "dirt[\"is_signal\"] = dirt[\"category\"] == 11\n",
    "ext[\"is_signal\"] = ext[\"category\"] == 11\n",
    "nc[\"is_signal\"] = nc[\"category\"] == 11\n",
    "ccpi0[\"is_signal\"] = ccpi0[\"category\"] == 11\n",
    "\n",
    "lee.loc[lee['category'] == 1, 'category'] = 111\n",
    "lee.loc[lee['category'] == 10, 'category'] = 111\n",
    "lee.loc[lee['category'] == 11, 'category'] = 111"
   ]
  },
  {
   "cell_type": "code",
   "execution_count": null,
   "metadata": {},
   "outputs": [],
   "source": [
    "dfbdt_v = [lee,mc,nc,ccpi0,nue,ext,data,dirt]"
   ]
  },
  {
   "cell_type": "code",
   "execution_count": null,
   "metadata": {},
   "outputs": [],
   "source": [
    "mc = mc.query('weightTune < 100.')"
   ]
  },
  {
   "cell_type": "code",
   "execution_count": null,
   "metadata": {
    "colab": {},
    "colab_type": "code",
    "id": "_pamv0W8YJ9R"
   },
   "outputs": [],
   "source": [
    "samples = {\n",
    "    \"mc\": mc,\n",
    "    \"nue\": nue,\n",
    "    \"data\": data,\n",
    "    \"ext\": ext,\n",
    "    \"dirt\": dirt,\n",
    "    #\"nc\": nc,\n",
    "    #\"cc\": ccpi0,\n",
    "    \"lee\": lee\n",
    "}\n",
    "\n",
    "scaling = 1\n",
    "#scaling = 132.0/0.486\n",
    "#scaling = 132.0/3.9\n",
    "\n",
    "SPLIT = 1.0\n",
    "\n",
    "#''' 1115\n",
    "if ISRUN3:\n",
    "    weights = {\n",
    "        \"mc\": 5.53e-3 * SPLIT * scaling,\n",
    "        \"nue\": 1.26e-4 * SPLIT * scaling,\n",
    "        \"ext\": 3.51e-2 * SPLIT * scaling,\n",
    "        \"dirt\": 2.26e-2 * scaling,\n",
    "        \"lee\": 1.26e-4 * SPLIT * scaling,\n",
    "        \"nc\": 3.21e-3 * SPLIT * scaling,\n",
    "        \"cc\": 1.35e-3 * SPLIT * scaling,\n",
    "    }\n",
    "    pot = 0.742e19*scaling\n",
    "else:\n",
    "    weights = {\n",
    "        \"mc\": 6.33e-1 * SPLIT * scaling,\n",
    "        \"nue\": 1.39e-3 * SPLIT * scaling,\n",
    "        \"ext\": 2.87e-1 * SPLIT * scaling,\n",
    "        \"dirt\": 3.01e-1 * scaling,\n",
    "        \"lee\": 1.16e-2 * SPLIT * scaling,\n",
    "        \"nc\": 3.15e-2 * SPLIT * scaling,\n",
    "        \"cc\": 2.45e-2 * SPLIT * scaling,\n",
    "    }\n",
    "    pot = 4.10e19*scaling\n",
    "#'''\n",
    "\n",
    "\n",
    "\n",
    "my_plotter = plotter.Plotter(samples, weights, pot=pot)"
   ]
  },
  {
   "cell_type": "code",
   "execution_count": null,
   "metadata": {},
   "outputs": [],
   "source": [
    "# muon selection\n",
    "QUERY = 'nslice == 1'\n",
    "#if ISRUN3: QUERY += ' and ((crtveto!=1) or (crthitpe < 100)) and (_closestNuCosmicDist > 20.)'\n",
    "#QUERY += ' and trk_len > 20'\n",
    "#QUERY += ' and topological_score > 0.06'\n",
    "#QUERY += ' and reco_nu_vtx_sce_x > 5 and reco_nu_vtx_sce_x < 251'\n",
    "#QUERY += ' and reco_nu_vtx_sce_y > -110 and reco_nu_vtx_sce_y < 110'\n",
    "#QUERY += ' and reco_nu_vtx_sce_z > 20 and reco_nu_vtx_sce_z < 986'\n",
    "#QUERY += ' and trkpid > 0.2'\n",
    "\n",
    "print (QUERY)"
   ]
  },
  {
   "cell_type": "code",
   "execution_count": null,
   "metadata": {},
   "outputs": [],
   "source": [
    "from datetime import datetime\n",
    "now = datetime.now()\n",
    "date_time = now.strftime(\"%m%d%Y\")\n",
    "print(\"date and time:\",date_time)"
   ]
  },
  {
   "cell_type": "code",
   "execution_count": null,
   "metadata": {
    "colab": {
     "base_uri": "https://localhost:8080/",
     "height": 561
    },
    "colab_type": "code",
    "executionInfo": {
     "elapsed": 2342,
     "status": "ok",
     "timestamp": 1560557343774,
     "user": {
      "displayName": "Stefano Roberto Soleti",
      "photoUrl": "https://lh4.googleusercontent.com/-hfLpspJu4Q0/AAAAAAAAAAI/AAAAAAAABmA/2kE4rtj8paU/s64/photo.jpg",
      "userId": "10372352518008961760"
     },
     "user_tz": 240
    },
    "id": "b93hN-pGYJ9T",
    "outputId": "17e7c7ed-3f12-4b03-805c-6698f1617878",
    "scrolled": false
   },
   "outputs": [],
   "source": [
    "VARIABLE, BINS, RANGE, XTIT = 'topological_score',25,(0.,1.),\"Slice Topological Score\"\n",
    "\n",
    "fig, ax1, ax2 = my_plotter.plot_variable(\n",
    "    VARIABLE,   \n",
    "    query=QUERY,\n",
    "    kind=\"event_category\",\n",
    "    #kind=\"interaction\",\n",
    "    #kind=\"sample\",\n",
    "    #kind='particle_pdg',\n",
    "    draw_sys=False,\n",
    "    title=XTIT,\n",
    "    #bins=asymm_bins,\n",
    "    bins=BINS,\n",
    "    range=RANGE,\n",
    ")\n",
    "\n",
    "#print(\"Profile likelihood: %.2f sigma @ 1.32e21 POT\" % my_plotter.significance_likelihood)\n",
    "#print(\"s/sqrt(b): %.2f sigma @ 1.32e21 POT\" % my_plotter.significance)\n",
    "\n",
    "#ax1.set_ylim(0,1200)\n",
    "#ax1.set_yscale(\"log\")\n",
    "#ax1.set_ylim(0,0.25)\n",
    "ax2.set_ylim(0.5,1.5)\n",
    "#fig.savefig(ls.plots_path+VARIABLE+\"_\"+date_time+\".pdf\")"
   ]
  },
  {
   "cell_type": "code",
   "execution_count": null,
   "metadata": {},
   "outputs": [],
   "source": [
    "EVTQUERY = QUERY + ' and reco_nu_vtx_sce_x > 100.35 and reco_nu_vtx_sce_x < 100.38'\n",
    "mctmp = mc.query(EVTQUERY)\n",
    "print (mctmp['weightTune'])\n",
    "print (mctmp['ccnc'])\n",
    "print (mctmp['interaction'])\n",
    "print (mctmp['npi0'])\n",
    "print (mctmp['run'])\n",
    "print (mctmp['sub'])\n",
    "print (mctmp['evt'])"
   ]
  },
  {
   "cell_type": "code",
   "execution_count": null,
   "metadata": {},
   "outputs": [],
   "source": [
    "def Eff(df,var,query,acceptance,bin_edges,absval=False):\n",
    "    #print acceptance\n",
    "    bin_centers = 0.5*(bin_edges[1:]+bin_edges[:-1])\n",
    "    bins = []\n",
    "    bin_eff = []\n",
    "    bin_err = []\n",
    "    for i in range(len(bin_centers)):\n",
    "        binmin = bin_edges[i]\n",
    "        binmax = bin_edges[i+1]\n",
    "        bincut = '%s > %f and %s < %f'%(var,binmin,var,binmax)\n",
    "        if (absval == True):\n",
    "            bincut = '(%s > %f and %s < %f) or (%s > -%f and %s < -%f)'%(var,binmin,var,binmax,var,binmax,var,binmin)\n",
    "        if (acceptance != ''): bincut += ' and %s'%acceptance\n",
    "        #print bincut\n",
    "        df_tmp =  df.query(bincut) # cut on bin range for desired var.\n",
    "        df_sub = df_tmp.query(query) # apply constrain \n",
    "        if (df_tmp.shape[0] == 0): continue\n",
    "        eff = df_sub.shape[0] / float( df_tmp.shape[0] )\n",
    "        err = np.sqrt( eff*(1-eff)/df_tmp.shape[0] )\n",
    "        bin_eff.append( eff )\n",
    "        bin_err.append( err )\n",
    "        bins.append(bin_centers[i])\n",
    "        #print 'eff = %.02f @ bin = %.02f'%(eff,bin_centers[i])\n",
    "    return np.array(bins),np.array(bin_eff),np.array(bin_err)"
   ]
  },
  {
   "cell_type": "code",
   "execution_count": null,
   "metadata": {},
   "outputs": [],
   "source": [
    "import matplotlib.pyplot as plt\n",
    "plt.rcParams.update({'font.size': 12})"
   ]
  },
  {
   "cell_type": "code",
   "execution_count": null,
   "metadata": {},
   "outputs": [],
   "source": [
    "# Run 1\n",
    "RMIN = 4000\n",
    "RMAX = 8000\n",
    "# Run 3\n",
    "#RMIN = 12000\n",
    "#RMAX = 20000"
   ]
  },
  {
   "cell_type": "code",
   "execution_count": null,
   "metadata": {},
   "outputs": [],
   "source": [
    "fig = plt.figure(figsize=(12,6))\n",
    "B = np.linspace(RMIN,RMAX,50)\n",
    "\n",
    "ACCEPTANCE = ''\n",
    "VAR = 'run' #'_pi0_e'\n",
    "\n",
    "for label,df in samples.items():\n",
    "    \n",
    "    if (label == \"lee\"):\n",
    "        continue\n",
    "\n",
    "    centers,vals,errs = Eff(df,VAR,QUERY,\"\",B)\n",
    "    #popt, pcov = curve_fit(CONST,centers,vals,sigma=errs,absolute_sigma=True)\n",
    "    plt.errorbar(centers,vals,yerr=errs,fmt='o-',label=r'%s'%(label))\n",
    "    #print 'intrinsic nue pass-rage : %.03f'%(popt[0])\n",
    "    #plt.axhline(popt[0],color='b')\n",
    "\n",
    "\n",
    "plt.xlabel(r'Run Number')\n",
    "plt.ylabel(r'SliceID')\n",
    "plt.grid()\n",
    "plt.legend(loc=1,fontsize=14,framealpha=0.5)\n",
    "#plt.yscale('log')\n",
    "plt.title(r'v08_00_00_26 Run1 Samples')\n",
    "#plt.legend(loc=7,fontsize=14)\n",
    "plt.show()"
   ]
  },
  {
   "cell_type": "code",
   "execution_count": null,
   "metadata": {},
   "outputs": [],
   "source": []
  }
 ],
 "metadata": {
  "accelerator": "GPU",
  "colab": {
   "name": "Plotter.ipynb",
   "provenance": [],
   "version": "0.3.2"
  },
  "kernelspec": {
   "display_name": "Python 3",
   "language": "python",
   "name": "python3"
  },
  "language_info": {
   "codemirror_mode": {
    "name": "ipython",
    "version": 3
   },
   "file_extension": ".py",
   "mimetype": "text/x-python",
   "name": "python",
   "nbconvert_exporter": "python",
   "pygments_lexer": "ipython3",
   "version": "3.7.4"
  }
 },
 "nbformat": 4,
 "nbformat_minor": 1
}
