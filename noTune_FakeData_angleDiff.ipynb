{
 "cells": [
  {
   "cell_type": "code",
   "execution_count": 1,
   "id": "2879806d",
   "metadata": {},
   "outputs": [
    {
     "name": "stdout",
     "output_type": "stream",
     "text": [
      "Welcome to JupyROOT 6.24/02\n"
     ]
    }
   ],
   "source": [
    "import sys\n",
    "\n",
    "#sys.path.insert(0, 'backend_functions')\n",
    "\n",
    "#import selection_functions as sf\n",
    "\n",
    "import importlib\n",
    "\n",
    "import uproot\n",
    "import matplotlib.pylab as pylab\n",
    "import numpy as np\n",
    "import math\n",
    "from sklearn.model_selection import train_test_split\n",
    "import pickle\n",
    "import xgboost as xgb\n",
    "\n",
    "import awkward\n",
    "import matplotlib.pyplot as plt\n",
    "import pandas as pd\n",
    "\n",
    "import ROOT\n",
    "from ROOT import TH1F, TH2F, TDirectory, TH1D\n",
    "\n",
    "from matplotlib import gridspec\n"
   ]
  },
  {
   "cell_type": "code",
   "execution_count": 2,
   "id": "cdd417ad",
   "metadata": {},
   "outputs": [],
   "source": [
    "ending = \"Jan19b_noTune\""
   ]
  },
  {
   "cell_type": "code",
   "execution_count": 3,
   "id": "8b14eea6",
   "metadata": {},
   "outputs": [],
   "source": [
    "##Regular tune prior true and smearcept to be used\n",
    "\n",
    "\n",
    "#prior true\n",
    "#\"nue_full_500_catsel_nopions_angleDiff_usingSelection_prior_true_signal_blockwise_recoCut_comb_\"+ending+\".csv\""
   ]
  },
  {
   "cell_type": "code",
   "execution_count": 4,
   "id": "c7c3f6cb",
   "metadata": {},
   "outputs": [
    {
     "name": "stdout",
     "output_type": "stream",
     "text": [
      "[ 2.00428092  2.89820698  3.60046196  7.12586273  8.22560068  9.87991242\n",
      " 11.91738746 19.84497958 36.48767491 98.29519951]\n",
      "\n",
      "[ 48.93709149  39.60898693  50.53791733  59.32608098  72.87827786\n",
      " 112.08256206 152.772705   237.76146514 428.43135875 770.00751502]\n"
     ]
    }
   ],
   "source": [
    "####Load in noTune full event counts\n",
    "\n",
    "nue_data_signal = pd.read_csv(\"nue_full_500_catsel_nopions_angleDiff_usingSelection_full_evt_count_MCONLY_recoCut_comb_\"+ending+\".csv\", header=None)\n",
    "\n",
    "nue_data_signal = nue_data_signal.values[:, 0]\n",
    "\n",
    "print(nue_data_signal)\n",
    "print(\"\")\n",
    "\n",
    "######\n",
    "\n",
    "numu_data_signal = pd.read_csv(\"numu_full_500_catsel_nopions_angleDiff_usingSelection_full_evt_count_MCONLY_recoCut_comb_\"+ending+\".csv\", header=None)\n",
    "\n",
    "numu_data_signal = numu_data_signal.values[:, 0]\n",
    "\n",
    "print(numu_data_signal)"
   ]
  },
  {
   "cell_type": "code",
   "execution_count": 5,
   "id": "a999b771",
   "metadata": {},
   "outputs": [
    {
     "name": "stdout",
     "output_type": "stream",
     "text": [
      "[ 1.12526165  1.34119398  1.9677378   4.85417832  3.56980533  4.03877779\n",
      "  3.87288048  6.20261081 13.48506183 41.19945679]\n",
      "\n",
      "[ 21.12417618  13.66555818  12.75149841  13.44984114  18.55950364\n",
      "  36.54433324  54.24502032  88.85075733 175.76762929 359.07344107]\n",
      "\n"
     ]
    }
   ],
   "source": [
    "###Load in regular tune bkg event counts\n",
    "#Include ext in bkg count here as the full event counts do\n",
    "\n",
    "ending = \"Jan19b\" #need this ending as bkg is from regular tune\n",
    "\n",
    "\n",
    "\n",
    "nue_bkg_inc_ext = pd.read_csv(\"nue_nopions_angleDiff_usingSelection_comb_cv_nue_bkg_incExt_\"+ending+\".csv\", header=None)\n",
    "\n",
    "nue_bkg_inc_ext = nue_bkg_inc_ext.values[:, 0]\n",
    "\n",
    "print(nue_bkg_inc_ext)\n",
    "print(\"\")\n",
    "\n",
    "#######################\n",
    "\n",
    "numu_bkg_inc_ext = pd.read_csv(\"numu_nopions_angleDiff_usingSelection_comb_cv_numu_bkg_incExt_\"+ending+\".csv\", header=None)\n",
    "\n",
    "numu_bkg_inc_ext = numu_bkg_inc_ext.values[:, 0]\n",
    "\n",
    "print(numu_bkg_inc_ext)\n",
    "print(\"\")"
   ]
  },
  {
   "cell_type": "code",
   "execution_count": 6,
   "id": "0fe6cc8a",
   "metadata": {},
   "outputs": [
    {
     "name": "stdout",
     "output_type": "stream",
     "text": [
      "[ 0.87901928  1.557013    1.63272416  2.27168442  4.65579534  5.84113462\n",
      "  8.04450698 13.64236878 23.00261307 57.09574272]\n",
      "\n",
      "[ 27.81291531  25.94342875  37.78641892  45.87623984  54.31877422\n",
      "  75.53822882  98.52768468 148.91070782 252.66372947 410.93407396]\n"
     ]
    }
   ],
   "source": [
    "####So then can calculate the data signal input to the unfolding\n",
    "\n",
    "nue_datasig_bkg_subtracted = nue_data_signal - nue_bkg_inc_ext\n",
    "print(nue_datasig_bkg_subtracted)\n",
    "print(\"\")\n",
    "\n",
    "numu_datasig_bkg_subtracted = numu_data_signal - numu_bkg_inc_ext\n",
    "print(numu_datasig_bkg_subtracted)"
   ]
  },
  {
   "cell_type": "code",
   "execution_count": 7,
   "id": "1d47fce7",
   "metadata": {},
   "outputs": [
    {
     "name": "stdout",
     "output_type": "stream",
     "text": [
      "[  0.87901928   1.557013     1.63272416   2.27168442   4.65579534\n",
      "   5.84113462   8.04450698  13.64236878  23.00261307  57.09574272\n",
      "  27.81291531  25.94342875  37.78641892  45.87623984  54.31877422\n",
      "  75.53822882  98.52768468 148.91070782 252.66372947 410.93407396]\n",
      "20\n"
     ]
    }
   ],
   "source": [
    "nue_numu_tot = np.concatenate((nue_datasig_bkg_subtracted, numu_datasig_bkg_subtracted), axis=0)\n",
    "\n",
    "print(nue_numu_tot)\n",
    "print(len(nue_numu_tot))"
   ]
  },
  {
   "cell_type": "code",
   "execution_count": 8,
   "id": "237e5524",
   "metadata": {},
   "outputs": [
    {
     "data": {
      "image/png": "[encoded data removed]",
      "text/plain": [
       "<Figure size 576x504 with 1 Axes>"
      ]
     },
     "metadata": {
      "needs_background": "light"
     },
     "output_type": "display_data"
    }
   ],
   "source": [
    "nue_numu_fig = plt.figure(figsize=(8, 7))\n",
    "nue_numu_gs = gridspec.GridSpec(2, 1, height_ratios=[2, 1])\n",
    "nue_numu_ax1 = plt.subplot(nue_numu_gs[0])\n",
    "\n",
    "\n",
    "#bins = np.arange(0, 10.5, 0.5)\n",
    "#count = np.linspace(0.1, 9.6, 20)\n",
    "bins = np.arange(0, 21, 1)\n",
    "count = np.arange(0.0, 20.0, 1)\n",
    "\n",
    "\n",
    "sel_ratio = nue_numu_ax1.hist(count, bins, edgecolor='red', facecolor='red', weights=nue_numu_tot)\n",
    "nue_numu_ax1.set_ylabel('Count', fontsize=15)\n",
    "nue_numu_ax1.set_xlabel('Bin Number', fontsize=15)\n",
    "nue_numu_ax1.set_title(\"Nue, Numu, Data Selected Values\")\n",
    "#leg = nue_numu_ax1.legend()\n",
    "#nue_numu_ax1.set_ylim([0, 1])\n",
    "\n",
    "nue_numu_fig.savefig(\"data_signal_MC_noTune_input_angleDiff_comb_\"+ending+\".svg\", bbox_inches='tight')"
   ]
  },
  {
   "cell_type": "code",
   "execution_count": 9,
   "id": "ec3bcd31",
   "metadata": {},
   "outputs": [
    {
     "name": "stdout",
     "output_type": "stream",
     "text": [
      "Jan19b\n"
     ]
    }
   ],
   "source": [
    "np.savetxt(\"data_signal_MC_noTune_input_angleDiff_comb_\"+ending+\".csv\", \n",
    "               nue_numu_tot,\n",
    "               delimiter =\", \", \n",
    "               fmt ='% s')\n",
    "\n",
    "print(ending)"
   ]
  },
  {
   "cell_type": "code",
   "execution_count": 10,
   "id": "d36109d1",
   "metadata": {},
   "outputs": [
    {
     "name": "stdout",
     "output_type": "stream",
     "text": [
      "[0.41790994 0.31689052 1.11285847 1.79450975 1.1992615  1.58765122\n",
      " 0.98903841 1.27248692 1.82450469 6.01731001]\n",
      "\n",
      "[ 10.44471462   8.37803187  12.7386815   12.98611924  16.72426127\n",
      "  31.36688418  41.23159379  60.18106967  95.8842352  165.73679854]\n",
      "\n"
     ]
    }
   ],
   "source": [
    "####Now need to get in the uncertainties\n",
    "\n",
    "###First up, get the noTune statistical uncertinaty. This will be from sig + bkg in noTune\n",
    "\n",
    "ending = \"Jan19b_noTune\" \n",
    "\n",
    "\n",
    "nue_sig_unc = pd.read_csv(\"nue_total_noTune_err_squared_angle_comb_\"+ending+\".csv\", header=None)\n",
    "\n",
    "nue_sig_unc = nue_sig_unc.values[:, 0]\n",
    "\n",
    "print(nue_sig_unc)\n",
    "print(\"\")\n",
    "\n",
    "########################\n",
    "\n",
    "numu_sig_unc = pd.read_csv(\"numu_total_noTune_err_squared_angle_comb_\"+ending+\".csv\", header=None)\n",
    "\n",
    "numu_sig_unc = numu_sig_unc.values[:, 0]\n",
    "\n",
    "print(numu_sig_unc)\n",
    "print(\"\")"
   ]
  },
  {
   "cell_type": "code",
   "execution_count": 11,
   "id": "72e1c160",
   "metadata": {},
   "outputs": [
    {
     "name": "stdout",
     "output_type": "stream",
     "text": [
      "[0.40397591 0.37808445 1.0941558  1.8814619  1.1171987  1.52658216\n",
      " 0.90694911 1.11480065 2.80841077 5.50815593]\n",
      "\n",
      "[ 5.45466702  3.33918978  4.99445026  3.95957698  6.36767205 16.47824989\n",
      " 23.04967856 32.79183015 56.30092691 96.5522802 ]\n",
      "\n"
     ]
    }
   ],
   "source": [
    "####The regular tune bkg stat uncertainties\n",
    "\n",
    "ending = \"Jan19b\" #need this ending as bkg is from regular tune\n",
    "\n",
    "\n",
    "nue_bkg_unc = pd.read_csv(\"nue_bkg_exp_err_squared_angle_comb_\"+ending+\".csv\", header=None)\n",
    "\n",
    "nue_bkg_unc = nue_bkg_unc.values[:, 0]\n",
    "\n",
    "print(nue_bkg_unc)\n",
    "print(\"\")\n",
    "\n",
    "########################\n",
    "\n",
    "numu_bkg_unc = pd.read_csv(\"numu_bkg_exp_err_squared_angle_comb_\"+ending+\".csv\", header=None)\n",
    "\n",
    "numu_bkg_unc = numu_bkg_unc.values[:, 0]\n",
    "\n",
    "print(numu_bkg_unc)\n",
    "print(\"\")"
   ]
  },
  {
   "cell_type": "code",
   "execution_count": 12,
   "id": "ce8bac06",
   "metadata": {},
   "outputs": [
    {
     "name": "stdout",
     "output_type": "stream",
     "text": [
      "[ 0.82188585  0.69497497  2.20701428  3.67597166  2.3164602   3.11423338\n",
      "  1.89598752  2.38728757  4.63291547 11.52546594]\n",
      "\n",
      "[ 15.89938163  11.71722165  17.73313175  16.94569622  23.09193332\n",
      "  47.84513406  64.28127235  92.97289983 152.18516211 262.28907874]\n",
      "\n",
      "[  0.82188585   0.69497497   2.20701428   3.67597166   2.3164602\n",
      "   3.11423338   1.89598752   2.38728757   4.63291547  11.52546594\n",
      "  15.89938163  11.71722165  17.73313175  16.94569622  23.09193332\n",
      "  47.84513406  64.28127235  92.97289983 152.18516211 262.28907874]\n"
     ]
    }
   ],
   "source": [
    "nue_stat_unc = nue_sig_unc + nue_bkg_unc\n",
    "print(nue_stat_unc)\n",
    "print(\"\")\n",
    "\n",
    "########################\n",
    "\n",
    "numu_stat_unc = numu_sig_unc + numu_bkg_unc\n",
    "print(numu_stat_unc)\n",
    "print(\"\")\n",
    "\n",
    "#########################\n",
    "\n",
    "nue_numu_tot_unc = np.concatenate((nue_stat_unc, numu_stat_unc), axis=0)\n",
    "\n",
    "print(nue_numu_tot_unc)"
   ]
  },
  {
   "cell_type": "code",
   "execution_count": 13,
   "id": "19ba13ad",
   "metadata": {},
   "outputs": [
    {
     "name": "stdout",
     "output_type": "stream",
     "text": [
      "[[0. 0. 0. 0. 0. 0. 0. 0. 0. 0. 0. 0. 0. 0. 0. 0. 0. 0. 0. 0.]\n",
      " [0. 0. 0. 0. 0. 0. 0. 0. 0. 0. 0. 0. 0. 0. 0. 0. 0. 0. 0. 0.]\n",
      " [0. 0. 0. 0. 0. 0. 0. 0. 0. 0. 0. 0. 0. 0. 0. 0. 0. 0. 0. 0.]\n",
      " [0. 0. 0. 0. 0. 0. 0. 0. 0. 0. 0. 0. 0. 0. 0. 0. 0. 0. 0. 0.]\n",
      " [0. 0. 0. 0. 0. 0. 0. 0. 0. 0. 0. 0. 0. 0. 0. 0. 0. 0. 0. 0.]\n",
      " [0. 0. 0. 0. 0. 0. 0. 0. 0. 0. 0. 0. 0. 0. 0. 0. 0. 0. 0. 0.]\n",
      " [0. 0. 0. 0. 0. 0. 0. 0. 0. 0. 0. 0. 0. 0. 0. 0. 0. 0. 0. 0.]\n",
      " [0. 0. 0. 0. 0. 0. 0. 0. 0. 0. 0. 0. 0. 0. 0. 0. 0. 0. 0. 0.]\n",
      " [0. 0. 0. 0. 0. 0. 0. 0. 0. 0. 0. 0. 0. 0. 0. 0. 0. 0. 0. 0.]\n",
      " [0. 0. 0. 0. 0. 0. 0. 0. 0. 0. 0. 0. 0. 0. 0. 0. 0. 0. 0. 0.]\n",
      " [0. 0. 0. 0. 0. 0. 0. 0. 0. 0. 0. 0. 0. 0. 0. 0. 0. 0. 0. 0.]\n",
      " [0. 0. 0. 0. 0. 0. 0. 0. 0. 0. 0. 0. 0. 0. 0. 0. 0. 0. 0. 0.]\n",
      " [0. 0. 0. 0. 0. 0. 0. 0. 0. 0. 0. 0. 0. 0. 0. 0. 0. 0. 0. 0.]\n",
      " [0. 0. 0. 0. 0. 0. 0. 0. 0. 0. 0. 0. 0. 0. 0. 0. 0. 0. 0. 0.]\n",
      " [0. 0. 0. 0. 0. 0. 0. 0. 0. 0. 0. 0. 0. 0. 0. 0. 0. 0. 0. 0.]\n",
      " [0. 0. 0. 0. 0. 0. 0. 0. 0. 0. 0. 0. 0. 0. 0. 0. 0. 0. 0. 0.]\n",
      " [0. 0. 0. 0. 0. 0. 0. 0. 0. 0. 0. 0. 0. 0. 0. 0. 0. 0. 0. 0.]\n",
      " [0. 0. 0. 0. 0. 0. 0. 0. 0. 0. 0. 0. 0. 0. 0. 0. 0. 0. 0. 0.]\n",
      " [0. 0. 0. 0. 0. 0. 0. 0. 0. 0. 0. 0. 0. 0. 0. 0. 0. 0. 0. 0.]\n",
      " [0. 0. 0. 0. 0. 0. 0. 0. 0. 0. 0. 0. 0. 0. 0. 0. 0. 0. 0. 0.]]\n"
     ]
    }
   ],
   "source": [
    "nue_numu_cov_stats   = np.zeros([(len(bins)-1), (len(bins)-1)])\n",
    "print(nue_numu_cov_stats)"
   ]
  },
  {
   "cell_type": "code",
   "execution_count": 14,
   "id": "ded66ab1",
   "metadata": {},
   "outputs": [],
   "source": [
    "nue_numu_cov_stats[np.diag_indices_from(nue_numu_cov_stats)]    = nue_numu_tot_unc"
   ]
  },
  {
   "cell_type": "code",
   "execution_count": 15,
   "id": "f41989e6",
   "metadata": {},
   "outputs": [
    {
     "name": "stdout",
     "output_type": "stream",
     "text": [
      "[[ 9.18443116e-02  1.13662907e-01  8.33358093e-02  2.10837354e-01\n",
      "   2.07396226e-01  2.59818023e-01  3.27722256e-01  6.27585065e-01\n",
      "   1.28768475e+00  3.50560204e+00  1.38008040e+00  9.40463478e-01\n",
      "   1.25984605e+00  1.62055443e+00  1.54775410e+00  3.03943943e+00\n",
      "   4.21961010e+00  6.83774612e+00  1.34303165e+01  2.65512195e+01]\n",
      " [ 1.13662907e-01  2.33863420e-01  1.39791193e-01  3.34271316e-01\n",
      "   3.24597457e-01  4.54591883e-01  5.47101848e-01  9.87749872e-01\n",
      "   1.88414592e+00  4.29363595e+00  2.31316165e+00  1.75279186e+00\n",
      "   2.28451225e+00  2.85667393e+00  2.89229148e+00  4.68332834e+00\n",
      "   6.23796707e+00  9.60210418e+00  1.81233648e+01  3.08530459e+01]\n",
      " [ 8.33358093e-02  1.39791193e-01  1.66734039e-01  2.88419853e-01\n",
      "   2.64217900e-01  3.76454316e-01  5.23566839e-01  9.52845690e-01\n",
      "   1.99534694e+00  5.73646958e+00  1.79901108e+00  1.33805924e+00\n",
      "   2.00791801e+00  2.65311693e+00  2.53738796e+00  4.89447117e+00\n",
      "   6.48096814e+00  1.04324050e+01  2.12042649e+01  4.37035809e+01]\n",
      " [ 2.10837354e-01  3.34271316e-01  2.88419853e-01  7.90195521e-01\n",
      "   7.21147422e-01  8.99346242e-01  1.12051873e+00  1.96615531e+00\n",
      "   3.90119679e+00  9.07752119e+00  4.68280076e+00  3.76051814e+00\n",
      "   4.69995292e+00  5.84439601e+00  6.12151441e+00  9.89684115e+00\n",
      "   1.37087622e+01  2.10410466e+01  3.98730356e+01  7.02808051e+01]\n",
      " [ 2.07396226e-01  3.24597457e-01  2.64217900e-01  7.21147422e-01\n",
      "   9.07865121e-01  8.98872517e-01  1.25773065e+00  2.04319211e+00\n",
      "   3.94131839e+00  8.73395791e+00  4.90109897e+00  4.00833009e+00\n",
      "   5.02011669e+00  6.14872110e+00  6.78470246e+00  1.03415549e+01\n",
      "   1.34755752e+01  2.08078566e+01  3.82844370e+01  6.64869343e+01]\n",
      " [ 2.59818023e-01  4.54591883e-01  3.76454316e-01  8.99346242e-01\n",
      "   8.98872517e-01  1.35280582e+00  1.50516675e+00  2.52139636e+00\n",
      "   4.53022906e+00  8.83600668e+00  6.58985770e+00  5.39834010e+00\n",
      "   6.41955868e+00  7.64093663e+00  8.32893826e+00  1.15614273e+01\n",
      "   1.60981765e+01  2.34018877e+01  4.21002993e+01  6.33167413e+01]\n",
      " [ 3.27722256e-01  5.47101848e-01  5.23566839e-01  1.12051873e+00\n",
      "   1.25773065e+00  1.50516675e+00  2.35038938e+00  3.93070696e+00\n",
      "   8.50821528e+00  2.40117228e+01  7.43514946e+00  5.42298289e+00\n",
      "   8.86073290e+00  1.15152334e+01  1.15705603e+01  2.15507609e+01\n",
      "   2.76052929e+01  4.50986526e+01  8.81241776e+01  1.80828944e+02]\n",
      " [ 6.27585065e-01  9.87749872e-01  9.52845690e-01  1.96615531e+00\n",
      "   2.04319211e+00  2.52139636e+00  3.93070696e+00  7.45354192e+00\n",
      "   1.71431206e+01  5.41247010e+01  1.18946505e+01  7.26146664e+00\n",
      "   1.47374276e+01  2.03556120e+01  1.84514745e+01  4.20610629e+01\n",
      "   5.30626830e+01  9.10172960e+01  1.87230249e+02  4.12818674e+02]\n",
      " [ 1.28768475e+00  1.88414592e+00  1.99534694e+00  3.90119679e+00\n",
      "   3.94131839e+00  4.53022906e+00  8.50821528e+00  1.71431206e+01\n",
      "   4.61742187e+01  1.64759066e+02  1.84318958e+01  6.05166390e+00\n",
      "   2.92460245e+01  4.54294336e+01  3.48103805e+01  1.10500856e+02\n",
      "   1.34606006e+02  2.48773944e+02  5.34017219e+02  1.28113466e+03]\n",
      " [ 3.50560204e+00  4.29363595e+00  5.73646958e+00  9.07752119e+00\n",
      "   8.73395791e+00  8.83600668e+00  2.40117228e+01  5.41247010e+01\n",
      "   1.64759066e+02  6.66674021e+02  2.31231078e+01 -2.42803946e+01\n",
      "   7.02472424e+01  1.30971959e+02  7.61844525e+01  3.86526076e+02\n",
      "   4.55357861e+02  9.00065315e+02  2.02332560e+03  5.22239035e+03]\n",
      " [ 1.38008040e+00  2.31316165e+00  1.79901108e+00  4.68280076e+00\n",
      "   4.90109897e+00  6.58985770e+00  7.43514946e+00  1.18946505e+01\n",
      "   1.84318958e+01  2.31231078e+01  3.80651036e+01  3.15992175e+01\n",
      "   3.28229310e+01  3.65822602e+01  4.38133284e+01  4.86190510e+01\n",
      "   7.22732386e+01  9.53405949e+01  1.54379638e+02  1.51231010e+02]\n",
      " [ 9.40463478e-01  1.75279186e+00  1.33805924e+00  3.76051814e+00\n",
      "   4.00833009e+00  5.39834010e+00  5.42298289e+00  7.26146664e+00\n",
      "   6.05166390e+00 -2.42803946e+01  3.15992175e+01  3.25448354e+01\n",
      "   2.72093247e+01  2.70364621e+01  3.82539746e+01  2.14562050e+01\n",
      "   4.04238127e+01  3.35446786e+01  1.32113933e+01 -2.08009290e+02]\n",
      " [ 1.25984605e+00  2.28451225e+00  2.00791801e+00  4.69995292e+00\n",
      "   5.02011669e+00  6.41955868e+00  8.86073290e+00  1.47374276e+01\n",
      "   2.92460245e+01  7.02472424e+01  3.28229310e+01  2.72093247e+01\n",
      "   3.82680892e+01  4.61631864e+01  4.99156183e+01  7.72619695e+01\n",
      "   1.03686569e+02  1.59380589e+02  2.93098666e+02  5.21499818e+02]\n",
      " [ 1.62055443e+00  2.85667393e+00  2.65311693e+00  5.84439601e+00\n",
      "   6.14872110e+00  7.64093663e+00  1.15152334e+01  2.03556120e+01\n",
      "   4.54294336e+01  1.30971959e+02  3.65822602e+01  2.70364621e+01\n",
      "   4.61631864e+01  6.18628180e+01  5.95450531e+01  1.16040566e+02\n",
      "   1.48492498e+02  2.46616770e+02  4.85949094e+02  9.97906069e+02]\n",
      " [ 1.54775410e+00  2.89229148e+00  2.53738796e+00  6.12151441e+00\n",
      "   6.78470246e+00  8.32893826e+00  1.15705603e+01  1.84514745e+01\n",
      "   3.48103805e+01  7.61844525e+01  4.38133284e+01  3.82539746e+01\n",
      "   4.99156183e+01  5.95450531e+01  6.89169937e+01  9.54831545e+01\n",
      "   1.30034102e+02  1.93688257e+02  3.42450324e+02  5.67622327e+02]\n",
      " [ 3.03943943e+00  4.68332834e+00  4.89447117e+00  9.89684115e+00\n",
      "   1.03415549e+01  1.15614273e+01  2.15507609e+01  4.20610629e+01\n",
      "   1.10500856e+02  3.86526076e+02  4.86190510e+01  2.14562050e+01\n",
      "   7.72619695e+01  1.16040566e+02  9.54831545e+01  2.73256548e+02\n",
      "   3.32743792e+02  6.06912059e+02  1.27952790e+03  3.01682245e+03]\n",
      " [ 4.21961010e+00  6.23796707e+00  6.48096814e+00  1.37087622e+01\n",
      "   1.34755752e+01  1.60981765e+01  2.76052929e+01  5.30626830e+01\n",
      "   1.34606006e+02  4.55357861e+02  7.22732386e+01  4.04238127e+01\n",
      "   1.03686569e+02  1.48492498e+02  1.30034102e+02  3.32743792e+02\n",
      "   4.28658798e+02  7.52989618e+02  1.55508653e+03  3.56659062e+03]\n",
      " [ 6.83774612e+00  9.60210418e+00  1.04324050e+01  2.10410466e+01\n",
      "   2.08078566e+01  2.34018877e+01  4.50986526e+01  9.10172960e+01\n",
      "   2.48773944e+02  9.00065315e+02  9.53405949e+01  3.35446786e+01\n",
      "   1.59380589e+02  2.46616770e+02  1.93688257e+02  6.06912059e+02\n",
      "   7.52989618e+02  1.39862208e+03  2.96245900e+03  7.09127081e+03]\n",
      " [ 1.34303165e+01  1.81233648e+01  2.12042649e+01  3.98730356e+01\n",
      "   3.82844370e+01  4.21002993e+01  8.81241776e+01  1.87230249e+02\n",
      "   5.34017219e+02  2.02332560e+03  1.54379638e+02  1.32113933e+01\n",
      "   2.93098666e+02  4.85949094e+02  3.42450324e+02  1.27952790e+03\n",
      "   1.55508653e+03  2.96245900e+03  6.49195903e+03  1.59572077e+04]\n",
      " [ 2.65512195e+01  3.08530459e+01  4.37035809e+01  7.02808051e+01\n",
      "   6.64869343e+01  6.33167413e+01  1.80828944e+02  4.12818674e+02\n",
      "   1.28113466e+03  5.22239035e+03  1.51231010e+02 -2.08009290e+02\n",
      "   5.21499818e+02  9.97906069e+02  5.67622327e+02  3.01682245e+03\n",
      "   3.56659062e+03  7.09127081e+03  1.59572077e+04  4.13273996e+04]]\n"
     ]
    }
   ],
   "source": [
    "###Then sprinkle in the regular tune genie sys uncertainties\n",
    "\n",
    "# Load in the blockwise genie cov matrix\n",
    "\n",
    "blockwise_genie_err = pd.read_csv(\"blockwise_cov_genie_only_angle_comb_\"+ending+\".csv\", header=None)\n",
    "\n",
    "blockwise_genie_err = blockwise_genie_err.values\n",
    "print(blockwise_genie_err)"
   ]
  },
  {
   "cell_type": "code",
   "execution_count": 16,
   "id": "65eaed6f",
   "metadata": {},
   "outputs": [
    {
     "name": "stdout",
     "output_type": "stream",
     "text": [
      "[[ 2.66764082e+00 -1.92007286e+00 -4.11136801e-01  1.28835472e+00\n",
      "  -2.80741383e+00 -4.49351472e+00  1.99695134e+00 -5.47084551e+00\n",
      "   1.89244860e-01  2.64680810e+01  3.52803426e+00 -3.00908718e+01\n",
      "  -4.16891534e+01 -1.69118695e+00 -7.39455414e+00 -4.97564616e+01\n",
      "  -5.97663340e+00 -5.92124514e+01  8.98624927e+00  8.14334332e+01]\n",
      " [-1.92007286e+00  1.38200007e+00  2.95921628e-01 -9.27311847e-01\n",
      "   2.02067650e+00  3.23427186e+00 -1.43733446e+00  3.93771977e+00\n",
      "  -1.36211711e-01 -1.90507821e+01 -2.53935341e+00  2.16583379e+01\n",
      "   3.00063679e+01  1.21725614e+00  5.32233672e+00  3.58129291e+01\n",
      "   4.30176787e+00  4.26190138e+01 -6.46798220e+00 -5.86128851e+01]\n",
      " [-4.11136801e-01  2.95921628e-01  6.33644034e-02 -1.98561229e-01\n",
      "   4.32678617e-01  6.92540484e-01 -3.07770139e-01  8.43166705e-01\n",
      "  -2.91664176e-02 -4.07926061e+00 -5.43740636e-01  4.63760513e+00\n",
      "   6.42513228e+00  2.60645731e-01  1.13964868e+00  7.66846581e+00\n",
      "   9.21118734e-01  9.12582296e+00 -1.38496073e+00 -1.25505207e+01]\n",
      " [ 1.28835472e+00 -9.27311847e-01 -1.98561229e-01  6.22219407e-01\n",
      "  -1.35585902e+00 -2.17017256e+00  9.64440817e-01 -2.64218091e+00\n",
      "   9.13970527e-02  1.27829342e+01  1.70388740e+00 -1.45325849e+01\n",
      "  -2.01340515e+01 -8.16769886e-01 -3.57124867e+00 -2.40302111e+01\n",
      "  -2.88645450e+00 -2.85970438e+01  4.33996833e+00  3.93288134e+01]\n",
      " [-2.80741383e+00  2.02067650e+00  4.32678617e-01 -1.35585902e+00\n",
      "   2.95451035e+00  4.72895573e+00 -2.10158308e+00  5.75749450e+00\n",
      "  -1.99160484e-01 -2.78548956e+01 -3.71288821e+00  3.16675052e+01\n",
      "   4.38734873e+01  1.77979794e+00  7.78199725e+00  5.23634881e+01\n",
      "   6.28978351e+00  6.23149315e+01 -9.45709043e+00 -8.57001980e+01]\n",
      " [-4.49351472e+00  3.23427186e+00  6.92540484e-01 -2.17017256e+00\n",
      "   4.72895573e+00  7.56911288e+00 -3.36377003e+00  9.21538035e+00\n",
      "  -3.18774010e-01 -4.45842297e+01 -5.94280673e+00  5.06866494e+01\n",
      "   7.02234059e+01  2.84872438e+00  1.24557765e+01  8.38124047e+01\n",
      "   1.00673561e+01  9.97405721e+01 -1.51369116e+01 -1.37170764e+02]\n",
      " [ 1.99695134e+00 -1.43733446e+00 -3.07770139e-01  9.64440817e-01\n",
      "  -2.10158308e+00 -3.36377003e+00  1.49488441e+00 -4.09538353e+00\n",
      "   1.41665540e-01  1.98135631e+01  2.64102749e+00 -2.25255238e+01\n",
      "  -3.12078036e+01 -1.26599429e+00 -5.53543966e+00 -3.72468557e+01\n",
      "  -4.47400789e+00 -4.43254517e+01  6.72695604e+00  6.09597073e+01]\n",
      " [-5.47084551e+00  3.93771977e+00  8.43166705e-01 -2.64218091e+00\n",
      "   5.75749450e+00  9.21538035e+00 -4.09538353e+00  1.12197078e+01\n",
      "  -3.88106743e-01 -5.42812138e+01 -7.23535575e+00  6.17108980e+01\n",
      "   8.54968614e+01  3.46831644e+00  1.51648839e+01  1.02041441e+02\n",
      "   1.22569867e+01  1.21433954e+02 -1.84291607e+01 -1.67005141e+02]\n",
      " [ 1.89244860e-01 -1.36211711e-01 -2.91664176e-02  9.13970527e-02\n",
      "  -1.99160484e-01 -3.18774010e-01  1.41665540e-01 -3.88106743e-01\n",
      "   1.34252020e-02  1.87766967e+00  2.50281950e-01 -2.13467374e+00\n",
      "  -2.95746636e+00 -1.19974336e-01 -5.24576378e-01 -3.52976852e+00\n",
      "  -4.23987795e-01 -4.20058502e+00  6.37492675e-01  5.77696162e+00]\n",
      " [ 2.64680810e+01 -1.90507821e+01 -4.07926061e+00  1.27829342e+01\n",
      "  -2.78548956e+01 -4.45842297e+01  1.98135631e+01 -5.42812138e+01\n",
      "   1.87766967e+00  2.62613806e+02  3.50048235e+01 -2.98558795e+02\n",
      "  -4.13635853e+02 -1.67797976e+01 -7.33680695e+01 -4.93678925e+02\n",
      "  -5.92995936e+01 -5.87500365e+02  8.91607187e+01  8.07974853e+02]\n",
      " [ 3.52803426e+00 -2.53935341e+00 -5.43740636e-01  1.70388740e+00\n",
      "  -3.71288821e+00 -5.94280673e+00  2.64102749e+00 -7.23535575e+00\n",
      "   2.50281950e-01  3.50048235e+01  4.66593013e+00 -3.97960720e+01\n",
      "  -5.51351441e+01 -2.23664499e+00 -9.77951756e+00 -6.58043989e+01\n",
      "  -7.90427526e+00 -7.83102264e+01  1.18845817e+01  1.07698135e+02]\n",
      " [-3.00908718e+01  2.16583379e+01  4.63760513e+00 -1.45325849e+01\n",
      "   3.16675052e+01  5.06866494e+01 -2.25255238e+01  6.17108980e+01\n",
      "  -2.13467374e+00 -2.98558795e+02 -3.97960720e+01  3.39423717e+02\n",
      "   4.70251826e+02  1.90765148e+01  8.34102471e+01  5.61250710e+02\n",
      "   6.74161632e+01  6.67913861e+02 -1.01364499e+02 -9.18565564e+02]\n",
      " [-4.16891534e+01  3.00063679e+01  6.42513228e+00 -2.01340515e+01\n",
      "   4.38734873e+01  7.02234059e+01 -3.12078036e+01  8.54968614e+01\n",
      "  -2.95746636e+00 -4.13635853e+02 -5.51351441e+01  4.70251826e+02\n",
      "   6.51506565e+02  2.64294021e+01  1.15560048e+02  7.77580228e+02\n",
      "   9.34011747e+01  9.25355823e+02 -1.40434620e+02 -1.27261918e+03]\n",
      " [-1.69118695e+00  1.21725614e+00  2.60645731e-01 -8.16769886e-01\n",
      "   1.77979794e+00  2.84872438e+00 -1.26599429e+00  3.46831644e+00\n",
      "  -1.19974336e-01 -1.67797976e+01 -2.23664499e+00  1.90765148e+01\n",
      "   2.64294021e+01  1.07215082e+00  4.68787752e+00  3.15437812e+01\n",
      "   3.78896751e+00  3.75385337e+01 -5.69695416e+00 -5.16258254e+01]\n",
      " [-7.39455414e+00  5.32233672e+00  1.13964868e+00 -3.57124867e+00\n",
      "   7.78199725e+00  1.24557765e+01 -5.53543966e+00  1.51648839e+01\n",
      "  -5.24576378e-01 -7.33680695e+01 -9.77951756e+00  8.34102471e+01\n",
      "   1.15560048e+02  4.68787752e+00  2.04972987e+01  1.37922184e+02\n",
      "   1.65669002e+01  1.64133670e+02 -2.49093904e+01 -2.25729013e+02]\n",
      " [-4.97564616e+01  3.58129291e+01  7.66846581e+00 -2.40302111e+01\n",
      "   5.23634881e+01  8.38124047e+01 -3.72468557e+01  1.02041441e+02\n",
      "  -3.52976852e+00 -4.93678925e+02 -6.58043989e+01  5.61250710e+02\n",
      "   7.77580228e+02  3.15437812e+01  1.37922184e+02  9.28050526e+02\n",
      "   1.11475326e+02  1.10442232e+03 -1.67610258e+02 -1.51888495e+03]\n",
      " [-5.97663340e+00  4.30176787e+00  9.21118734e-01 -2.88645450e+00\n",
      "   6.28978351e+00  1.00673561e+01 -4.47400789e+00  1.22569867e+01\n",
      "  -4.23987795e-01 -5.92995936e+01 -7.90427526e+00  6.74161632e+01\n",
      "   9.34011747e+01  3.78896751e+00  1.65669002e+01  1.11475326e+02\n",
      "   1.33901635e+01  1.32660706e+02 -2.01329643e+01 -1.82445017e+02]\n",
      " [-5.92124514e+01  4.26190138e+01  9.12582296e+00 -2.85970438e+01\n",
      "   6.23149315e+01  9.97405721e+01 -4.43254517e+01  1.21433954e+02\n",
      "  -4.20058502e+00 -5.87500365e+02 -7.83102264e+01  6.67913861e+02\n",
      "   9.25355823e+02  3.75385337e+01  1.64133670e+02  1.10442232e+03\n",
      "   1.32660706e+02  1.31431277e+03 -1.99463827e+02 -1.80754214e+03]\n",
      " [ 8.98624927e+00 -6.46798220e+00 -1.38496073e+00  4.33996833e+00\n",
      "  -9.45709043e+00 -1.51369116e+01  6.72695604e+00 -1.84291607e+01\n",
      "   6.37492675e-01  8.91607187e+01  1.18845817e+01 -1.01364499e+02\n",
      "  -1.40434620e+02 -5.69695416e+00 -2.49093904e+01 -1.67610258e+02\n",
      "  -2.01329643e+01 -1.99463827e+02  3.02711951e+01  2.74317713e+02]\n",
      " [ 8.14334332e+01 -5.86128851e+01 -1.25505207e+01  3.93288134e+01\n",
      "  -8.57001980e+01 -1.37170764e+02  6.09597073e+01 -1.67005141e+02\n",
      "   5.77696162e+00  8.07974853e+02  1.07698135e+02 -9.18565564e+02\n",
      "  -1.27261918e+03 -5.16258254e+01 -2.25729013e+02 -1.51888495e+03\n",
      "  -1.82445017e+02 -1.80754214e+03  2.74317713e+02  2.48586841e+03]]\n"
     ]
    }
   ],
   "source": [
    "# Load in the blockwise nuwrounisim cov matrix\n",
    "\n",
    "nuWro_unisim = pd.read_csv(\"nuWro_extra_unisim_uncertainties_angle_comb_\"+ending+\".csv\", header=None)\n",
    "\n",
    "nuWro_unisim = nuWro_unisim.values\n",
    "print(nuWro_unisim)"
   ]
  },
  {
   "cell_type": "code",
   "execution_count": 17,
   "id": "86e82551",
   "metadata": {},
   "outputs": [],
   "source": [
    "##### Now make the total cov matrix\n",
    "\n",
    "total_noTune_input_cov = nue_numu_cov_stats + blockwise_genie_err + nuWro_unisim"
   ]
  },
  {
   "cell_type": "code",
   "execution_count": 18,
   "id": "54c95230",
   "metadata": {},
   "outputs": [
    {
     "data": {
      "image/png": "[encoded data removed]",
      "text/plain": [
       "<Figure size 720x432 with 2 Axes>"
      ]
     },
     "metadata": {
      "needs_background": "light"
     },
     "output_type": "display_data"
    }
   ],
   "source": [
    "fig = plt.figure(figsize=(10, 6))\n",
    "\n",
    "plt.pcolor(bins, bins, total_noTune_input_cov, cmap='OrRd', edgecolors='k')\n",
    "\n",
    "cbar = plt.colorbar()\n",
    "cbar.ax.tick_params(labelsize=14)\n",
    "#if pot: \n",
    "#    cbar.set_label(label=\"$\\\\nu^{2}$ / \"+pot+\"$^{2}$\", fontsize=15)\n",
    "\n",
    "plt.xlim(bins[0], bins[-1])\n",
    "plt.ylim(bins[0], bins[-1])\n",
    "\n",
    "\n",
    "plt.xlabel(\"Bin Number\", fontsize=15)\n",
    "plt.ylabel(\"Bin Number\", fontsize=15)\n",
    "\n",
    "plt.title('Covariance Matrix (noTune)', fontsize=16)\n",
    "\n",
    "\n",
    "plt.savefig(\"data_covmat_MC_noTune_input_angleDiff_comb_\"+ending+\".svg\", bbox_inches='tight')\n",
    "\n",
    "plt.show()"
   ]
  },
  {
   "cell_type": "code",
   "execution_count": 19,
   "id": "c3fa84cb",
   "metadata": {},
   "outputs": [],
   "source": [
    "np.savetxt(\"data_covmat_MC_noTune_input_angleDiff_comb_\"+ending+\".csv\", \n",
    "           total_noTune_input_cov,\n",
    "           delimiter =\", \", \n",
    "           fmt ='% s')"
   ]
  },
  {
   "cell_type": "code",
   "execution_count": 20,
   "id": "f1216474",
   "metadata": {},
   "outputs": [
    {
     "data": {
      "text/plain": [
       "'Jan19b'"
      ]
     },
     "execution_count": 20,
     "metadata": {},
     "output_type": "execute_result"
    }
   ],
   "source": [
    "ending"
   ]
  },
  {
   "cell_type": "code",
   "execution_count": null,
   "id": "965d3def",
   "metadata": {},
   "outputs": [],
   "source": []
  }
 ],
 "metadata": {
  "kernelspec": {
   "display_name": "Python 3 (ipykernel)",
   "language": "python",
   "name": "python3"
  },
  "language_info": {
   "codemirror_mode": {
    "name": "ipython",
    "version": 3
   },
   "file_extension": ".py",
   "mimetype": "text/x-python",
   "name": "python",
   "nbconvert_exporter": "python",
   "pygments_lexer": "ipython3",
   "version": "3.8.12"
  }
 },
 "nbformat": 4,
 "nbformat_minor": 5
}
